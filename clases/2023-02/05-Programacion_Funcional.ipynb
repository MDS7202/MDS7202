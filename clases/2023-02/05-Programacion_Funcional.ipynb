{
 "cells": [
  {
   "cell_type": "markdown",
   "metadata": {},
   "source": [
    "#  Clase 5: Programación Funcional y Modular\n",
    "\n",
    "**MDS7202: Laboratorio de Programación Científica para Ciencia de Datos**\n",
    "\n",
    "## Objetivos de la Clase:\n",
    "\n",
    "- Funciones y su sintaxis en Python\n",
    "- Scopes\n",
    "- Testing\n",
    "- Referencias y Mutabilidad\n",
    "- Documentación\n"
   ]
  },
  {
   "cell_type": "markdown",
   "metadata": {},
   "source": [
    "##  Motivación\n",
    "\n",
    "Uno de los contenidos de la clase pasada consistió en practicar el control de flujo a través de la implementación de la _La cafetería de la serpiente 🐍_. \n",
    "\n",
    "El ejemplo consistía en controlar los mensajes que mostraba la consola indicando la disponibilidad de ciertos productos en una cafetería a través del uso de `if/elif/else`.\n",
    "\n",
    "Para el caso del té, la ejecución era la siguiente:"
   ]
  },
  {
   "cell_type": "code",
   "execution_count": 9,
   "metadata": {},
   "outputs": [
    {
     "name": "stdout",
     "output_type": "stream",
     "text": [
      "Enseguida le traigo su 🍵.\n"
     ]
    }
   ],
   "source": [
    "pedido = 'té'\n",
    "\n",
    "if 'té' == pedido:\n",
    "    print('Enseguida le traigo su 🍵.')\n",
    "    \n",
    "elif pedido == 'café':\n",
    "    print('Enseguida le traigo su ☕.')\n",
    "    \n",
    "else:\n",
    "    print(\"No tenemos lo que nos está pidiendo\")"
   ]
  },
  {
   "cell_type": "markdown",
   "metadata": {},
   "source": [
    "Mientras que la del café era:"
   ]
  },
  {
   "cell_type": "code",
   "execution_count": 10,
   "metadata": {},
   "outputs": [
    {
     "name": "stdout",
     "output_type": "stream",
     "text": [
      "Enseguida le traigo su ☕.\n"
     ]
    }
   ],
   "source": [
    "pedido = 'café'\n",
    "\n",
    "if 'té' == pedido:\n",
    "    print('Enseguida le traigo su 🍵.')\n",
    "    \n",
    "elif pedido == 'café':\n",
    "    print('Enseguida le traigo su ☕.')\n",
    "    \n",
    "else:\n",
    "    print(\"No tenemos lo que nos está pidiendo\")"
   ]
  },
  {
   "cell_type": "markdown",
   "metadata": {},
   "source": [
    "<br>\n",
    "\n",
    "\n",
    "Como podrán ver, estamos repitiendo mucho el código...\n",
    "\n",
    "> **Pregunta ❓**: ¿Cómo podríamos repetir menos código?"
   ]
  },
  {
   "cell_type": "markdown",
   "metadata": {},
   "source": [
    "---\n",
    "\n",
    "## 1.- Funciones\n",
    "\n",
    "\n",
    "Una función es un segmento de código separado del código principal, la cual puede ser ejecutada (de aquí en adelante, *invocada*) desde cualquier otro punto del programa (incluyendo de si misma).\n",
    "\n",
    "Las funciones por lo general toman parámetros, que en términos prácticos, son los datos sobre los cuales operarán."
   ]
  },
  {
   "cell_type": "markdown",
   "metadata": {},
   "source": [
    "### Sintaxis Básica\n",
    "\n",
    "En Python, una función se define por medio de la keyword `def` seguido por el nombre y los parámetros que recibirá de entrada la función. \n",
    "\n",
    "> **Nota 📝**: Parametro es el nombre de la variable dentro de la función. Argumento es el valor que le pasamos a el parámetro al momento de invocar la función. Se pueden usar indistintivamente."
   ]
  },
  {
   "cell_type": "code",
   "execution_count": null,
   "metadata": {},
   "outputs": [],
   "source": [
    "def sumar(a, b):\n",
    "    ..."
   ]
  },
  {
   "cell_type": "markdown",
   "metadata": {},
   "source": [
    "#### Return\n",
    "\n",
    "La keyword ```return``` permite que valores definidos dentro de la función puedan ser retornadas hacia el exterior.  Una función definida sin ```return``` entrega como resultado `None`."
   ]
  },
  {
   "cell_type": "code",
   "execution_count": 20,
   "metadata": {},
   "outputs": [],
   "source": [
    "def sumar(a, b):\n",
    "    c = a + b\n",
    "    return c\n",
    "    "
   ]
  },
  {
   "cell_type": "code",
   "execution_count": 18,
   "metadata": {},
   "outputs": [
    {
     "data": {
      "text/plain": [
       "3"
      ]
     },
     "execution_count": 18,
     "metadata": {},
     "output_type": "execute_result"
    }
   ],
   "source": [
    "sumar(1, 2)"
   ]
  },
  {
   "cell_type": "markdown",
   "metadata": {},
   "source": [
    "#### Invocación \n",
    "\n",
    "Para invocar una función (*ejecutarla*), se utiliza el nombre de la función junto a dos paréntesis que encierran los argumentos."
   ]
  },
  {
   "cell_type": "code",
   "execution_count": 19,
   "metadata": {
    "ExecuteTime": {
     "end_time": "2021-03-24T19:33:46.931701Z",
     "start_time": "2021-03-24T19:33:46.912703Z"
    },
    "scrolled": true
   },
   "outputs": [
    {
     "data": {
      "text/plain": [
       "210"
      ]
     },
     "execution_count": 19,
     "metadata": {},
     "output_type": "execute_result"
    }
   ],
   "source": [
    "sumar(10, 200)"
   ]
  },
  {
   "cell_type": "markdown",
   "metadata": {},
   "source": [
    "> **Pregunta ❓:** ¿Qué sucede con la variable `c` definida dentro de la función?"
   ]
  },
  {
   "cell_type": "code",
   "execution_count": 26,
   "metadata": {},
   "outputs": [
    {
     "data": {
      "text/plain": [
       "210"
      ]
     },
     "execution_count": 26,
     "metadata": {},
     "output_type": "execute_result"
    }
   ],
   "source": [
    "def sumar(a, b):\n",
    "    c = a + b\n",
    "    return c\n",
    "\n",
    "sumar(10, 200)"
   ]
  },
  {
   "cell_type": "code",
   "execution_count": 27,
   "metadata": {
    "ExecuteTime": {
     "end_time": "2021-03-24T19:35:09.838952Z",
     "start_time": "2021-03-24T19:35:09.828938Z"
    }
   },
   "outputs": [
    {
     "ename": "NameError",
     "evalue": "name 'c' is not defined",
     "output_type": "error",
     "traceback": [
      "\u001b[1;31m---------------------------------------------------------------------------\u001b[0m",
      "\u001b[1;31mNameError\u001b[0m                                 Traceback (most recent call last)",
      "\u001b[1;32m<ipython-input-27-2b66fd261ee5>\u001b[0m in \u001b[0;36m<module>\u001b[1;34m\u001b[0m\n\u001b[1;32m----> 1\u001b[1;33m \u001b[0mc\u001b[0m\u001b[1;33m\u001b[0m\u001b[1;33m\u001b[0m\u001b[0m\n\u001b[0m",
      "\u001b[1;31mNameError\u001b[0m: name 'c' is not defined"
     ]
    }
   ],
   "source": [
    "c"
   ]
  },
  {
   "cell_type": "markdown",
   "metadata": {},
   "source": [
    "#### El café de la serpiente funcional 🐍\n",
    "\n",
    "\n",
    "> **Pregunta ❓:** ¿Cómo podríamos transformar el control de flujo del café a una función?\n",
    "\n",
    "Código original:\n",
    "\n",
    "```python\n",
    "pedido = 'café'\n",
    "\n",
    "if 'té' == pedido:\n",
    "    print('Enseguida le traigo su 🍵.')\n",
    "    \n",
    "elif pedido == 'café':\n",
    "    print('Enseguida le traigo su ☕.')\n",
    "    \n",
    "else:\n",
    "    print(\"No tenemos lo que nos está pidiendo\")\n",
    "\n",
    "```"
   ]
  },
  {
   "cell_type": "code",
   "execution_count": 28,
   "metadata": {},
   "outputs": [
    {
     "data": {
      "text/plain": [
       "'Enseguida le traigo su 🍵.'"
      ]
     },
     "execution_count": 28,
     "metadata": {},
     "output_type": "execute_result"
    }
   ],
   "source": [
    "# respuesta...\n",
    "def atender(pedido):\n",
    "    if 'té' == pedido:\n",
    "        return 'Enseguida le traigo su 🍵.'\n",
    "    \n",
    "    elif pedido == 'café':\n",
    "        return 'Enseguida le traigo su ☕.'\n",
    "\n",
    "    else:\n",
    "        return \"No tenemos lo que nos está pidiendo\"\n",
    "        \n",
    "    \n",
    "pedido = \"té\"\n",
    "atender(pedido)"
   ]
  },
  {
   "cell_type": "code",
   "execution_count": 29,
   "metadata": {},
   "outputs": [
    {
     "data": {
      "text/plain": [
       "'Enseguida le traigo su ☕.'"
      ]
     },
     "execution_count": 29,
     "metadata": {},
     "output_type": "execute_result"
    }
   ],
   "source": [
    "pedido = \"café\"\n",
    "atender(pedido)"
   ]
  },
  {
   "cell_type": "markdown",
   "metadata": {},
   "source": [
    "---"
   ]
  },
  {
   "cell_type": "markdown",
   "metadata": {},
   "source": [
    "### Elementos extra de la sintáxis de funciones\n",
    "\n",
    "#### Parámetros nombrados"
   ]
  },
  {
   "cell_type": "markdown",
   "metadata": {},
   "source": [
    "Las funciones de python tambíen aceptan parámetros nombrados. Es decir, al invocar la función indicarle especificamente el valor de cada parámetro por su nombre."
   ]
  },
  {
   "cell_type": "code",
   "execution_count": 30,
   "metadata": {},
   "outputs": [],
   "source": [
    "def sumar(a, b):\n",
    "    c = a + b\n",
    "    return c"
   ]
  },
  {
   "cell_type": "code",
   "execution_count": 31,
   "metadata": {
    "ExecuteTime": {
     "end_time": "2021-03-24T19:36:06.139377Z",
     "start_time": "2021-03-24T19:36:06.120379Z"
    }
   },
   "outputs": [
    {
     "data": {
      "text/plain": [
       "30"
      ]
     },
     "execution_count": 31,
     "metadata": {},
     "output_type": "execute_result"
    }
   ],
   "source": [
    "sumar(a=10, b=20)"
   ]
  },
  {
   "cell_type": "code",
   "execution_count": 32,
   "metadata": {
    "ExecuteTime": {
     "end_time": "2021-03-24T19:36:19.661112Z",
     "start_time": "2021-03-24T19:36:19.643112Z"
    }
   },
   "outputs": [
    {
     "data": {
      "text/plain": [
       "30"
      ]
     },
     "execution_count": 32,
     "metadata": {},
     "output_type": "execute_result"
    }
   ],
   "source": [
    "sumar(b=10, a=20)"
   ]
  },
  {
   "cell_type": "markdown",
   "metadata": {},
   "source": [
    "> **Pregunta ❓**: ¿Puede tener 0 parámetros una función?¿Y pueden tener n?"
   ]
  },
  {
   "cell_type": "markdown",
   "metadata": {},
   "source": [
    "#### Cero parámetros\n",
    "\n",
    "Una función puede ser ejecutada sin necesidad de tener parámetros.\n",
    "En este caso (idealmente) la función siempre debería hacer la misma acción."
   ]
  },
  {
   "cell_type": "code",
   "execution_count": 46,
   "metadata": {
    "ExecuteTime": {
     "end_time": "2021-03-24T19:37:26.217558Z",
     "start_time": "2021-03-24T19:37:26.198563Z"
    }
   },
   "outputs": [
    {
     "name": "stdout",
     "output_type": "stream",
     "text": [
      "Hola!😊\n"
     ]
    }
   ],
   "source": [
    "def hola_mundo():\n",
    "    print('Hola!😊')\n",
    "\n",
    "hola_mundo()"
   ]
  },
  {
   "cell_type": "code",
   "execution_count": null,
   "metadata": {},
   "outputs": [],
   "source": []
  },
  {
   "cell_type": "code",
   "execution_count": 47,
   "metadata": {},
   "outputs": [
    {
     "name": "stdout",
     "output_type": "stream",
     "text": [
      "Hola!😊\n"
     ]
    }
   ],
   "source": [
    "hola_mundo()"
   ]
  },
  {
   "cell_type": "code",
   "execution_count": 44,
   "metadata": {},
   "outputs": [
    {
     "data": {
      "text/plain": [
       "1"
      ]
     },
     "execution_count": 44,
     "metadata": {},
     "output_type": "execute_result"
    }
   ],
   "source": []
  },
  {
   "cell_type": "markdown",
   "metadata": {},
   "source": [
    "#### N parámetros\n",
    "\n",
    "Una función puede tomar n parámetros no previamente definidos. \n",
    "Esto lo logra a través del parámetro `*args`, el cuál actua como una tupla (tupla = lista inmutable):"
   ]
  },
  {
   "cell_type": "code",
   "execution_count": 48,
   "metadata": {
    "ExecuteTime": {
     "end_time": "2021-03-24T19:40:13.564653Z",
     "start_time": "2021-03-24T19:40:13.555653Z"
    }
   },
   "outputs": [
    {
     "name": "stdout",
     "output_type": "stream",
     "text": [
      "Los parámetros entregados son: (1, 2, 3, 4, 5, 6, 7, 8, 9, 10, 11, 12)\n"
     ]
    }
   ],
   "source": [
    "def funcion_n_parametros(*args):\n",
    "    print(\n",
    "        'Los parámetros entregados son:',\n",
    "        args\n",
    "    )\n",
    "\n",
    "funcion_n_parametros(1, 2, 3, 4, 5, 6, 7, 8, 9, 10, 11, 12)"
   ]
  },
  {
   "cell_type": "code",
   "execution_count": 52,
   "metadata": {},
   "outputs": [],
   "source": [
    "def my_function(*args):\n",
    "    print(type(args))\n",
    "    for a in args:\n",
    "        print(a)"
   ]
  },
  {
   "cell_type": "code",
   "execution_count": 53,
   "metadata": {},
   "outputs": [
    {
     "name": "stdout",
     "output_type": "stream",
     "text": [
      "<class 'tuple'>\n",
      "1\n",
      "2\n",
      "3\n",
      "4\n",
      "5\n"
     ]
    }
   ],
   "source": [
    "my_function(1,2,3,4,5)"
   ]
  },
  {
   "cell_type": "markdown",
   "metadata": {},
   "source": [
    "¿Cuál es la utilidad de esto?"
   ]
  },
  {
   "cell_type": "code",
   "execution_count": 54,
   "metadata": {},
   "outputs": [
    {
     "data": {
      "text/plain": [
       "78"
      ]
     },
     "execution_count": 54,
     "metadata": {},
     "output_type": "execute_result"
    }
   ],
   "source": [
    "def suma_n(*args): \n",
    "    acum = 0\n",
    "    for i in args:\n",
    "        acum += i\n",
    "    return acum\n",
    "\n",
    "suma_n(1, 2, 3, 4, 5, 6, 7, 8, 9, 10, 11, 12)"
   ]
  },
  {
   "cell_type": "markdown",
   "metadata": {},
   "source": [
    "#### N Parámetros nombrados\n",
    "\n",
    "Las funciones también pueden tomar n parámetros nombrados a través de `**kwargs`, el cúal se comporta como un diccionario."
   ]
  },
  {
   "cell_type": "code",
   "execution_count": 59,
   "metadata": {},
   "outputs": [
    {
     "name": "stdout",
     "output_type": "stream",
     "text": [
      "{'param_1': 1, 'param_2': 2}\n"
     ]
    }
   ],
   "source": [
    "# no es necesario el args antes para usar kwarg\n",
    "def funcion_n_parametros_nombrados(*args, **kwargs): \n",
    "    print(kwargs)\n",
    "    \n",
    "argumentos = {\n",
    "    'param_1': True, \n",
    "    'param_2': False, \n",
    "    'param_5': False,\n",
    "}\n",
    "\n",
    "funcion_n_parametros_nombrados(param_1 = 1, param_2 = 2)"
   ]
  },
  {
   "cell_type": "markdown",
   "metadata": {},
   "source": [
    "#### Valores por defecto"
   ]
  },
  {
   "cell_type": "markdown",
   "metadata": {},
   "source": [
    "Los parámetros también pueden tener valores por defecto:\n",
    "\n",
    "\n",
    "> **Nota 📝:** Los parámetros con valores por defecto deben ser declarados a la derecha de todos aquellos parámetros sin valores predefinidos.\n"
   ]
  },
  {
   "cell_type": "code",
   "execution_count": 60,
   "metadata": {
    "ExecuteTime": {
     "end_time": "2021-03-24T19:42:01.164527Z",
     "start_time": "2021-03-24T19:42:01.146528Z"
    }
   },
   "outputs": [],
   "source": [
    "def sumar(a, b, advertencias=False):\n",
    "    if advertencias == True:\n",
    "        print('Cuidado 👀')\n",
    "    c = a + b\n",
    "    return c"
   ]
  },
  {
   "cell_type": "code",
   "execution_count": 61,
   "metadata": {
    "ExecuteTime": {
     "end_time": "2021-03-24T19:41:06.740132Z",
     "start_time": "2021-03-24T19:41:06.729133Z"
    }
   },
   "outputs": [
    {
     "data": {
      "text/plain": [
       "12"
      ]
     },
     "execution_count": 61,
     "metadata": {},
     "output_type": "execute_result"
    }
   ],
   "source": [
    "sumar(10, 2)"
   ]
  },
  {
   "cell_type": "code",
   "execution_count": 62,
   "metadata": {
    "ExecuteTime": {
     "end_time": "2021-03-24T19:41:13.816210Z",
     "start_time": "2021-03-24T19:41:13.803213Z"
    },
    "scrolled": true
   },
   "outputs": [
    {
     "name": "stdout",
     "output_type": "stream",
     "text": [
      "Cuidado 👀\n"
     ]
    },
    {
     "data": {
      "text/plain": [
       "12"
      ]
     },
     "execution_count": 62,
     "metadata": {},
     "output_type": "execute_result"
    }
   ],
   "source": [
    "sumar(10, b=2, advertencias=True)"
   ]
  },
  {
   "cell_type": "markdown",
   "metadata": {},
   "source": [
    "#### Retornar múltiples valores"
   ]
  },
  {
   "cell_type": "markdown",
   "metadata": {},
   "source": [
    "También se pueden retornar múltiples valores"
   ]
  },
  {
   "cell_type": "code",
   "execution_count": 63,
   "metadata": {
    "ExecuteTime": {
     "end_time": "2021-03-24T19:42:52.488689Z",
     "start_time": "2021-03-24T19:42:52.470551Z"
    }
   },
   "outputs": [],
   "source": [
    "def operaciones(a, b):\n",
    "    suma = a+b\n",
    "    resta = a-b\n",
    "    mult = a*b\n",
    "    div = a/b\n",
    "    \n",
    "    return suma, resta, mult, div"
   ]
  },
  {
   "cell_type": "markdown",
   "metadata": {},
   "source": [
    "> **Pregunta ❓**: ¿Qué retorno cuando hay varias variables en el return?"
   ]
  },
  {
   "cell_type": "code",
   "execution_count": 64,
   "metadata": {
    "ExecuteTime": {
     "end_time": "2021-03-24T19:43:07.637016Z",
     "start_time": "2021-03-24T19:43:07.624019Z"
    }
   },
   "outputs": [
    {
     "data": {
      "text/plain": [
       "(7, 3, 10, 2.5)"
      ]
     },
     "execution_count": 64,
     "metadata": {},
     "output_type": "execute_result"
    }
   ],
   "source": [
    "operaciones(5,2)"
   ]
  },
  {
   "cell_type": "code",
   "execution_count": 65,
   "metadata": {},
   "outputs": [
    {
     "data": {
      "text/plain": [
       "7"
      ]
     },
     "execution_count": 65,
     "metadata": {},
     "output_type": "execute_result"
    }
   ],
   "source": [
    "suma, resta, mult, div = operaciones(5,2)\n",
    "\n",
    "suma"
   ]
  },
  {
   "cell_type": "code",
   "execution_count": 66,
   "metadata": {},
   "outputs": [
    {
     "data": {
      "text/plain": [
       "3"
      ]
     },
     "execution_count": 66,
     "metadata": {},
     "output_type": "execute_result"
    }
   ],
   "source": [
    "resta"
   ]
  },
  {
   "cell_type": "code",
   "execution_count": 67,
   "metadata": {},
   "outputs": [
    {
     "data": {
      "text/plain": [
       "10"
      ]
     },
     "execution_count": 67,
     "metadata": {},
     "output_type": "execute_result"
    }
   ],
   "source": [
    "mult"
   ]
  },
  {
   "cell_type": "code",
   "execution_count": 68,
   "metadata": {},
   "outputs": [
    {
     "data": {
      "text/plain": [
       "2.5"
      ]
     },
     "execution_count": 68,
     "metadata": {},
     "output_type": "execute_result"
    }
   ],
   "source": [
    "div"
   ]
  },
  {
   "cell_type": "code",
   "execution_count": 69,
   "metadata": {
    "ExecuteTime": {
     "end_time": "2021-03-24T19:43:30.351313Z",
     "start_time": "2021-03-24T19:43:30.339306Z"
    },
    "scrolled": true
   },
   "outputs": [
    {
     "data": {
      "text/plain": [
       "tuple"
      ]
     },
     "execution_count": 69,
     "metadata": {},
     "output_type": "execute_result"
    }
   ],
   "source": [
    "type(operaciones(5,2))"
   ]
  },
  {
   "cell_type": "markdown",
   "metadata": {},
   "source": [
    "---"
   ]
  },
  {
   "cell_type": "markdown",
   "metadata": {},
   "source": [
    "## 2.- Scopes \n",
    "\n",
    "En cada función se define un entorno de variables o *namespace*. Esto quiere decir, que para cada función existe un conjunto de variables (o nombres) los cuales no tienen una relación con las variables fuera de la función. \n",
    "\n",
    "Esto permite definir el concepto de **scope**. El scope se define como un lugar delimitado en donde se define y son visibles un cierto conjunto de variables. \n",
    "\n",
    "Una de las implicancias de esta delimitación es que aquellas variables definidas dentro de un scope en particular no pueden interactuar con las de afuera de dicha área. \n"
   ]
  },
  {
   "cell_type": "markdown",
   "metadata": {},
   "source": [
    "\n",
    "En `Python` se pueden diferenciar 3 tipos de scopes:\n",
    "\n",
    "1. **Global**: variables (u objetos si se desea) definidas en el cuerpo del código.\n",
    "2. **Local**: variables definidas dentro de una función.\n",
    "3. **Built-in**: variables predefinidas por el modulo built-in's (como ```print()``` por ejemplo.)\n"
   ]
  },
  {
   "cell_type": "code",
   "execution_count": 70,
   "metadata": {
    "ExecuteTime": {
     "end_time": "2021-03-24T19:45:21.182553Z",
     "start_time": "2021-03-24T19:45:21.172556Z"
    }
   },
   "outputs": [
    {
     "data": {
      "text/plain": [
       "25"
      ]
     },
     "execution_count": 70,
     "metadata": {},
     "output_type": "execute_result"
    }
   ],
   "source": [
    "def suma(a, b):\n",
    "    c = a + b    \n",
    "    return c\n",
    "\n",
    "suma(10, 15)"
   ]
  },
  {
   "cell_type": "markdown",
   "metadata": {},
   "source": [
    "Notemos que si intentamos inspeccionar `c`, nos el intérprete nos va a indicar que no está definida: "
   ]
  },
  {
   "cell_type": "code",
   "execution_count": 71,
   "metadata": {
    "ExecuteTime": {
     "end_time": "2021-03-24T19:45:44.129517Z",
     "start_time": "2021-03-24T19:45:44.114528Z"
    }
   },
   "outputs": [
    {
     "ename": "NameError",
     "evalue": "name 'c' is not defined",
     "output_type": "error",
     "traceback": [
      "\u001b[1;31m---------------------------------------------------------------------------\u001b[0m",
      "\u001b[1;31mNameError\u001b[0m                                 Traceback (most recent call last)",
      "\u001b[1;32m<ipython-input-71-2b66fd261ee5>\u001b[0m in \u001b[0;36m<module>\u001b[1;34m\u001b[0m\n\u001b[1;32m----> 1\u001b[1;33m \u001b[0mc\u001b[0m\u001b[1;33m\u001b[0m\u001b[1;33m\u001b[0m\u001b[0m\n\u001b[0m",
      "\u001b[1;31mNameError\u001b[0m: name 'c' is not defined"
     ]
    }
   ],
   "source": [
    "c"
   ]
  },
  {
   "cell_type": "markdown",
   "metadata": {},
   "source": [
    "Esto es porque `c` se definió dentro del scope de la función `suma` y no sobre el scope global."
   ]
  },
  {
   "cell_type": "markdown",
   "metadata": {},
   "source": [
    "> **Pregunta ❓**: ¿Qué sucederá en la siguiente celda?"
   ]
  },
  {
   "cell_type": "code",
   "execution_count": 72,
   "metadata": {
    "ExecuteTime": {
     "end_time": "2021-03-24T19:47:02.624894Z",
     "start_time": "2021-03-24T19:47:02.608922Z"
    },
    "scrolled": true
   },
   "outputs": [
    {
     "data": {
      "text/plain": [
       "20"
      ]
     },
     "execution_count": 72,
     "metadata": {},
     "output_type": "execute_result"
    }
   ],
   "source": [
    "n = 5\n",
    "\n",
    "def suma_n(a):\n",
    "    n = 10\n",
    "    c = a + n\n",
    "    return c\n",
    "\n",
    "suma_n(10)"
   ]
  },
  {
   "cell_type": "code",
   "execution_count": 73,
   "metadata": {
    "ExecuteTime": {
     "end_time": "2021-03-24T19:47:06.006789Z",
     "start_time": "2021-03-24T19:47:05.996789Z"
    },
    "scrolled": true
   },
   "outputs": [
    {
     "data": {
      "text/plain": [
       "5"
      ]
     },
     "execution_count": 73,
     "metadata": {},
     "output_type": "execute_result"
    }
   ],
   "source": [
    "n"
   ]
  },
  {
   "cell_type": "markdown",
   "metadata": {},
   "source": [
    "En este caso, la instrucción `n = 10` hace que `n` se modifique en el scope local de la función `suma_n`, pero esto no modifica el valor de `n` en el scope global (el de afuera).\n"
   ]
  },
  {
   "cell_type": "markdown",
   "metadata": {
    "ExecuteTime": {
     "end_time": "2021-03-24T14:20:27.993890Z",
     "start_time": "2021-03-24T14:20:27.978885Z"
    }
   },
   "source": [
    "#### Locals\n",
    "\n",
    "Pueden ver que variables hay en el scope local usando la función `locals()`"
   ]
  },
  {
   "cell_type": "code",
   "execution_count": 74,
   "metadata": {
    "ExecuteTime": {
     "end_time": "2021-03-24T19:49:16.727056Z",
     "start_time": "2021-03-24T19:49:16.723056Z"
    }
   },
   "outputs": [],
   "source": [
    "n = 5\n",
    "\n",
    "def suma_n(a):\n",
    "    n = 10\n",
    "    c = a + n\n",
    "    \n",
    "    print(f'Las variables locales de la función son {locals()}')\n",
    "    \n",
    "    return c\n",
    "\n"
   ]
  },
  {
   "cell_type": "code",
   "execution_count": 75,
   "metadata": {
    "ExecuteTime": {
     "end_time": "2021-03-24T19:49:18.524853Z",
     "start_time": "2021-03-24T19:49:18.514853Z"
    }
   },
   "outputs": [
    {
     "name": "stdout",
     "output_type": "stream",
     "text": [
      "Las variables locales de la función son {'a': 10, 'n': 10, 'c': 20}\n"
     ]
    },
    {
     "data": {
      "text/plain": [
       "20"
      ]
     },
     "execution_count": 75,
     "metadata": {},
     "output_type": "execute_result"
    }
   ],
   "source": [
    "suma_n(10)"
   ]
  },
  {
   "cell_type": "markdown",
   "metadata": {},
   "source": [
    "#### Globals\n",
    "\n",
    "También existen variables que tienen un scope global, que pueden verse con la función ```globals()```. "
   ]
  },
  {
   "cell_type": "code",
   "execution_count": 76,
   "metadata": {},
   "outputs": [
    {
     "data": {
      "text/plain": [
       "{'__name__': '__main__',\n",
       " '__doc__': 'Automatically created module for IPython interactive environment',\n",
       " '__package__': None,\n",
       " '__loader__': None,\n",
       " '__spec__': None,\n",
       " '__builtin__': <module 'builtins' (built-in)>,\n",
       " '__builtins__': <module 'builtins' (built-in)>,\n",
       " '_ih': ['',\n",
       "  \"def cambia_elemento_0(x):\\n    ''' Cambia el primer indice de una lista. '''\\n    x[0] = 'cambiado'\",\n",
       "  \"lista = ['no_cambiar', 2, 3, 4, 5]\",\n",
       "  'cambia_elemento_0(lista)\\nlista',\n",
       "  \"lista = ('no_cambiar', 2, 3, 4, 5)\",\n",
       "  'cambia_elemento_0(lista)\\nlista',\n",
       "  \"lista = ['no_cambiar', 2, 3, 4, 5]\",\n",
       "  'cambia_elemento_0(lista)\\nlista',\n",
       "  'import plotly.express as px\\n\\n\\ndf = px.data.iris()\\nfig = px.scatter(df, x=\"sepal_width\", y=\"sepal_length\", color=\"species\", marginal_y=\"violin\",\\n           marginal_x=\"box\", template=\"simple_white\")\\nfig.show()',\n",
       "  'pedido = \\'té\\'\\n\\nif \\'té\\' == pedido:\\n    print(\\'Enseguida le traigo su 🍵.\\')\\n    \\nelif pedido == \\'café\\':\\n    print(\\'Enseguida le traigo su ☕.\\')\\n    \\nelse:\\n    print(\"No tenemos lo que nos está pidiendo\")',\n",
       "  'pedido = \\'café\\'\\n\\nif \\'té\\' == pedido:\\n    print(\\'Enseguida le traigo su 🍵.\\')\\n    \\nelif pedido == \\'café\\':\\n    print(\\'Enseguida le traigo su ☕.\\')\\n    \\nelse:\\n    print(\"No tenemos lo que nos está pidiendo\")',\n",
       "  'def sumar(a, b):\\n    c = a + b\\n    return c',\n",
       "  'sumar(1, 2)',\n",
       "  'def sumar(a, b):\\n    c = a + b\\n    return c',\n",
       "  'def sumar(a, b):\\n    c = a + b\\n    ',\n",
       "  'sumar(1, 2)',\n",
       "  'print(sumar(1, 2))',\n",
       "  'def sumar(a, b):\\n    c = a + b\\n    return c\\n    ',\n",
       "  'sumar(1, 2)',\n",
       "  'sumar(10, 200)',\n",
       "  'def sumar(a, b):\\n    c = a + b\\n    return c\\n    ',\n",
       "  'def sumar(a, b):\\n    c = a + b\\n    return c\\n\\nsumar(10, 200)',\n",
       "  'c',\n",
       "  'def sumar(a, b):\\n    c = a + b\\n    print(\"Hola =\", c)\\n    return c\\n\\nsumar(10, 200)',\n",
       "  'c',\n",
       "  'def sumar(a, b):\\n    c = a + b\\n    print(\"Hola =\", c)\\n    return c\\n\\nsumar(10, 200)',\n",
       "  'def sumar(a, b):\\n    c = a + b\\n    return c\\n\\nsumar(10, 200)',\n",
       "  'c',\n",
       "  '# respuesta...\\ndef atender(pedido):\\n    if \\'té\\' == pedido:\\n        return \\'Enseguida le traigo su 🍵.\\'\\n    \\n    elif pedido == \\'café\\':\\n        return \\'Enseguida le traigo su ☕.\\'\\n\\n    else:\\n        return \"No tenemos lo que nos está pidiendo\"\\n        \\n    \\npedido = \"té\"\\natender(pedido)',\n",
       "  'pedido = \"café\"\\natender(pedido)',\n",
       "  'def sumar(a, b):\\n    c = a + b\\n    return c',\n",
       "  'sumar(a=10, b=20)',\n",
       "  'sumar(b=10, a=20)',\n",
       "  'def = 10',\n",
       "  'def=10',\n",
       "  'return = 10',\n",
       "  \"def hola_mundo():\\n    print('Hola!😊')\\n\\nhola_mundo(10)\",\n",
       "  \"def hola_mundo():\\n    print('Hola!😊')\\n\\nhola_mundo()\",\n",
       "  'hola_mundo=10',\n",
       "  'hola_mundo',\n",
       "  \"def hola_mundo():\\n    print('Hola!😊')\\n\\nhola_mundo()\",\n",
       "  'hola_mundo()',\n",
       "  'hola_mundo',\n",
       "  'hola_mundo=1',\n",
       "  'hola_mundo',\n",
       "  'hola_mundo()',\n",
       "  \"def hola_mundo():\\n    print('Hola!😊')\\n\\nhola_mundo()\",\n",
       "  'hola_mundo()',\n",
       "  \"def funcion_n_parametros(*args):\\n    print(\\n        'Los parámetros entregados son:',\\n        args\\n    )\\n\\nfuncion_n_parametros(1, 2, 3, 4, 5, 6, 7, 8, 9, 10, 11, 12)\",\n",
       "  'def my_function(*args):\\n    for a in args:\\n        print(a)',\n",
       "  'my_funcion(1,2,3,4,5)',\n",
       "  'my_function(1,2,3,4,5)',\n",
       "  'def my_function(*args):\\n    print(type(args))\\n    for a in args:\\n        print(a)',\n",
       "  'my_function(1,2,3,4,5)',\n",
       "  'def suma_n(*args): \\n    acum = 0\\n    for i in args:\\n        acum += i\\n    return acum\\n\\nsuma_n(1, 2, 3, 4, 5, 6, 7, 8, 9, 10, 11, 12)',\n",
       "  \"def funcion_n_parametros_nombrados(*args, **kwargs): \\n    print(kwargs)\\n    \\nargumentos = {\\n    'param_1': True, \\n    'param_2': False, \\n    'param_5': False,\\n}\\n\\nfuncion_n_parametros_nombrados(param_1 = 1, param_2 = 2)\",\n",
       "  \"def funcion_n_parametros_nombrados(*args, **kwargs): \\n    print(type(kwargs))\\n    print(kwargs)\\n    \\nargumentos = {\\n    'param_1': True, \\n    'param_2': False, \\n    'param_5': False,\\n}\\n\\nfuncion_n_parametros_nombrados(param_1 = 1, param_2 = 2)\",\n",
       "  \"def funcion_n_parametros_nombrados(**kwargs): \\n    print(kwargs)\\n    \\nargumentos = {\\n    'param_1': True, \\n    'param_2': False, \\n    'param_5': False,\\n}\\n\\nfuncion_n_parametros_nombrados(param_1 = 1, param_2 = 2)\",\n",
       "  \"# no es necesario el args antes para usar kwargs\\ndef funcion_n_parametros_nombrados(*args, **kwargs): \\n    print(kwargs)\\n    \\nargumentos = {\\n    'param_1': True, \\n    'param_2': False, \\n    'param_5': False,\\n}\\n\\nfuncion_n_parametros_nombrados(param_1 = 1, param_2 = 2)\",\n",
       "  \"# no es necesario el args antes para usar kwarg\\ndef funcion_n_parametros_nombrados(*args, **kwargs): \\n    print(kwargs)\\n    \\nargumentos = {\\n    'param_1': True, \\n    'param_2': False, \\n    'param_5': False,\\n}\\n\\nfuncion_n_parametros_nombrados(param_1 = 1, param_2 = 2)\",\n",
       "  \"def sumar(a, b, advertencias=False):\\n    if advertencias == True:\\n        print('Cuidado 👀')\\n    c = a + b\\n    return c\",\n",
       "  'sumar(10, 2)',\n",
       "  'sumar(10, b=2, advertencias=True)',\n",
       "  'def operaciones(a, b):\\n    suma = a+b\\n    resta = a-b\\n    mult = a*b\\n    div = a/b\\n    \\n    return suma, resta, mult, div',\n",
       "  'operaciones(5,2)',\n",
       "  'suma, resta, mult, div = operaciones(5,2)\\n\\nsuma',\n",
       "  'resta',\n",
       "  'mult',\n",
       "  'div',\n",
       "  'type(operaciones(5,2))',\n",
       "  'def suma(a, b):\\n    c = a + b    \\n    return c\\n\\nsuma(10, 15)',\n",
       "  'c',\n",
       "  'n = 5\\n\\ndef suma_n(a):\\n    n = 10\\n    c = a + n\\n    return c\\n\\nsuma_n(10)',\n",
       "  'n',\n",
       "  \"n = 5\\n\\ndef suma_n(a):\\n    n = 10\\n    c = a + n\\n    \\n    print(f'Las variables locales de la función son {locals()}')\\n    \\n    return c\",\n",
       "  'suma_n(10)',\n",
       "  'globals()'],\n",
       " '_oh': {3: ['cambiado', 2, 3, 4, 5],\n",
       "  7: ['cambiado', 2, 3, 4, 5],\n",
       "  12: 3,\n",
       "  18: 3,\n",
       "  19: 210,\n",
       "  21: 210,\n",
       "  23: 210,\n",
       "  25: 210,\n",
       "  26: 210,\n",
       "  28: 'Enseguida le traigo su 🍵.',\n",
       "  29: 'Enseguida le traigo su ☕.',\n",
       "  31: 30,\n",
       "  32: 30,\n",
       "  39: 10,\n",
       "  42: <function __main__.hola_mundo()>,\n",
       "  44: 1,\n",
       "  54: 78,\n",
       "  61: 12,\n",
       "  62: 12,\n",
       "  64: (7, 3, 10, 2.5),\n",
       "  65: 7,\n",
       "  66: 3,\n",
       "  67: 10,\n",
       "  68: 2.5,\n",
       "  69: tuple,\n",
       "  70: 25,\n",
       "  72: 20,\n",
       "  73: 5,\n",
       "  75: 20},\n",
       " '_dh': ['C:\\\\Users\\\\gabri\\\\Desktop\\\\MDS7202\\\\clases\\\\2023-02'],\n",
       " 'In': ['',\n",
       "  \"def cambia_elemento_0(x):\\n    ''' Cambia el primer indice de una lista. '''\\n    x[0] = 'cambiado'\",\n",
       "  \"lista = ['no_cambiar', 2, 3, 4, 5]\",\n",
       "  'cambia_elemento_0(lista)\\nlista',\n",
       "  \"lista = ('no_cambiar', 2, 3, 4, 5)\",\n",
       "  'cambia_elemento_0(lista)\\nlista',\n",
       "  \"lista = ['no_cambiar', 2, 3, 4, 5]\",\n",
       "  'cambia_elemento_0(lista)\\nlista',\n",
       "  'import plotly.express as px\\n\\n\\ndf = px.data.iris()\\nfig = px.scatter(df, x=\"sepal_width\", y=\"sepal_length\", color=\"species\", marginal_y=\"violin\",\\n           marginal_x=\"box\", template=\"simple_white\")\\nfig.show()',\n",
       "  'pedido = \\'té\\'\\n\\nif \\'té\\' == pedido:\\n    print(\\'Enseguida le traigo su 🍵.\\')\\n    \\nelif pedido == \\'café\\':\\n    print(\\'Enseguida le traigo su ☕.\\')\\n    \\nelse:\\n    print(\"No tenemos lo que nos está pidiendo\")',\n",
       "  'pedido = \\'café\\'\\n\\nif \\'té\\' == pedido:\\n    print(\\'Enseguida le traigo su 🍵.\\')\\n    \\nelif pedido == \\'café\\':\\n    print(\\'Enseguida le traigo su ☕.\\')\\n    \\nelse:\\n    print(\"No tenemos lo que nos está pidiendo\")',\n",
       "  'def sumar(a, b):\\n    c = a + b\\n    return c',\n",
       "  'sumar(1, 2)',\n",
       "  'def sumar(a, b):\\n    c = a + b\\n    return c',\n",
       "  'def sumar(a, b):\\n    c = a + b\\n    ',\n",
       "  'sumar(1, 2)',\n",
       "  'print(sumar(1, 2))',\n",
       "  'def sumar(a, b):\\n    c = a + b\\n    return c\\n    ',\n",
       "  'sumar(1, 2)',\n",
       "  'sumar(10, 200)',\n",
       "  'def sumar(a, b):\\n    c = a + b\\n    return c\\n    ',\n",
       "  'def sumar(a, b):\\n    c = a + b\\n    return c\\n\\nsumar(10, 200)',\n",
       "  'c',\n",
       "  'def sumar(a, b):\\n    c = a + b\\n    print(\"Hola =\", c)\\n    return c\\n\\nsumar(10, 200)',\n",
       "  'c',\n",
       "  'def sumar(a, b):\\n    c = a + b\\n    print(\"Hola =\", c)\\n    return c\\n\\nsumar(10, 200)',\n",
       "  'def sumar(a, b):\\n    c = a + b\\n    return c\\n\\nsumar(10, 200)',\n",
       "  'c',\n",
       "  '# respuesta...\\ndef atender(pedido):\\n    if \\'té\\' == pedido:\\n        return \\'Enseguida le traigo su 🍵.\\'\\n    \\n    elif pedido == \\'café\\':\\n        return \\'Enseguida le traigo su ☕.\\'\\n\\n    else:\\n        return \"No tenemos lo que nos está pidiendo\"\\n        \\n    \\npedido = \"té\"\\natender(pedido)',\n",
       "  'pedido = \"café\"\\natender(pedido)',\n",
       "  'def sumar(a, b):\\n    c = a + b\\n    return c',\n",
       "  'sumar(a=10, b=20)',\n",
       "  'sumar(b=10, a=20)',\n",
       "  'def = 10',\n",
       "  'def=10',\n",
       "  'return = 10',\n",
       "  \"def hola_mundo():\\n    print('Hola!😊')\\n\\nhola_mundo(10)\",\n",
       "  \"def hola_mundo():\\n    print('Hola!😊')\\n\\nhola_mundo()\",\n",
       "  'hola_mundo=10',\n",
       "  'hola_mundo',\n",
       "  \"def hola_mundo():\\n    print('Hola!😊')\\n\\nhola_mundo()\",\n",
       "  'hola_mundo()',\n",
       "  'hola_mundo',\n",
       "  'hola_mundo=1',\n",
       "  'hola_mundo',\n",
       "  'hola_mundo()',\n",
       "  \"def hola_mundo():\\n    print('Hola!😊')\\n\\nhola_mundo()\",\n",
       "  'hola_mundo()',\n",
       "  \"def funcion_n_parametros(*args):\\n    print(\\n        'Los parámetros entregados son:',\\n        args\\n    )\\n\\nfuncion_n_parametros(1, 2, 3, 4, 5, 6, 7, 8, 9, 10, 11, 12)\",\n",
       "  'def my_function(*args):\\n    for a in args:\\n        print(a)',\n",
       "  'my_funcion(1,2,3,4,5)',\n",
       "  'my_function(1,2,3,4,5)',\n",
       "  'def my_function(*args):\\n    print(type(args))\\n    for a in args:\\n        print(a)',\n",
       "  'my_function(1,2,3,4,5)',\n",
       "  'def suma_n(*args): \\n    acum = 0\\n    for i in args:\\n        acum += i\\n    return acum\\n\\nsuma_n(1, 2, 3, 4, 5, 6, 7, 8, 9, 10, 11, 12)',\n",
       "  \"def funcion_n_parametros_nombrados(*args, **kwargs): \\n    print(kwargs)\\n    \\nargumentos = {\\n    'param_1': True, \\n    'param_2': False, \\n    'param_5': False,\\n}\\n\\nfuncion_n_parametros_nombrados(param_1 = 1, param_2 = 2)\",\n",
       "  \"def funcion_n_parametros_nombrados(*args, **kwargs): \\n    print(type(kwargs))\\n    print(kwargs)\\n    \\nargumentos = {\\n    'param_1': True, \\n    'param_2': False, \\n    'param_5': False,\\n}\\n\\nfuncion_n_parametros_nombrados(param_1 = 1, param_2 = 2)\",\n",
       "  \"def funcion_n_parametros_nombrados(**kwargs): \\n    print(kwargs)\\n    \\nargumentos = {\\n    'param_1': True, \\n    'param_2': False, \\n    'param_5': False,\\n}\\n\\nfuncion_n_parametros_nombrados(param_1 = 1, param_2 = 2)\",\n",
       "  \"# no es necesario el args antes para usar kwargs\\ndef funcion_n_parametros_nombrados(*args, **kwargs): \\n    print(kwargs)\\n    \\nargumentos = {\\n    'param_1': True, \\n    'param_2': False, \\n    'param_5': False,\\n}\\n\\nfuncion_n_parametros_nombrados(param_1 = 1, param_2 = 2)\",\n",
       "  \"# no es necesario el args antes para usar kwarg\\ndef funcion_n_parametros_nombrados(*args, **kwargs): \\n    print(kwargs)\\n    \\nargumentos = {\\n    'param_1': True, \\n    'param_2': False, \\n    'param_5': False,\\n}\\n\\nfuncion_n_parametros_nombrados(param_1 = 1, param_2 = 2)\",\n",
       "  \"def sumar(a, b, advertencias=False):\\n    if advertencias == True:\\n        print('Cuidado 👀')\\n    c = a + b\\n    return c\",\n",
       "  'sumar(10, 2)',\n",
       "  'sumar(10, b=2, advertencias=True)',\n",
       "  'def operaciones(a, b):\\n    suma = a+b\\n    resta = a-b\\n    mult = a*b\\n    div = a/b\\n    \\n    return suma, resta, mult, div',\n",
       "  'operaciones(5,2)',\n",
       "  'suma, resta, mult, div = operaciones(5,2)\\n\\nsuma',\n",
       "  'resta',\n",
       "  'mult',\n",
       "  'div',\n",
       "  'type(operaciones(5,2))',\n",
       "  'def suma(a, b):\\n    c = a + b    \\n    return c\\n\\nsuma(10, 15)',\n",
       "  'c',\n",
       "  'n = 5\\n\\ndef suma_n(a):\\n    n = 10\\n    c = a + n\\n    return c\\n\\nsuma_n(10)',\n",
       "  'n',\n",
       "  \"n = 5\\n\\ndef suma_n(a):\\n    n = 10\\n    c = a + n\\n    \\n    print(f'Las variables locales de la función son {locals()}')\\n    \\n    return c\",\n",
       "  'suma_n(10)',\n",
       "  'globals()'],\n",
       " 'Out': {3: ['cambiado', 2, 3, 4, 5],\n",
       "  7: ['cambiado', 2, 3, 4, 5],\n",
       "  12: 3,\n",
       "  18: 3,\n",
       "  19: 210,\n",
       "  21: 210,\n",
       "  23: 210,\n",
       "  25: 210,\n",
       "  26: 210,\n",
       "  28: 'Enseguida le traigo su 🍵.',\n",
       "  29: 'Enseguida le traigo su ☕.',\n",
       "  31: 30,\n",
       "  32: 30,\n",
       "  39: 10,\n",
       "  42: <function __main__.hola_mundo()>,\n",
       "  44: 1,\n",
       "  54: 78,\n",
       "  61: 12,\n",
       "  62: 12,\n",
       "  64: (7, 3, 10, 2.5),\n",
       "  65: 7,\n",
       "  66: 3,\n",
       "  67: 10,\n",
       "  68: 2.5,\n",
       "  69: tuple,\n",
       "  70: 25,\n",
       "  72: 20,\n",
       "  73: 5,\n",
       "  75: 20},\n",
       " 'get_ipython': <bound method InteractiveShell.get_ipython of <ipykernel.zmqshell.ZMQInteractiveShell object at 0x0000014EB66FAFD0>>,\n",
       " 'exit': <IPython.core.autocall.ZMQExitAutocall at 0x14eb67992b0>,\n",
       " 'quit': <IPython.core.autocall.ZMQExitAutocall at 0x14eb67992b0>,\n",
       " '_': 20,\n",
       " '__': 5,\n",
       " '___': 20,\n",
       " '_i': 'suma_n(10)',\n",
       " '_ii': \"n = 5\\n\\ndef suma_n(a):\\n    n = 10\\n    c = a + n\\n    \\n    print(f'Las variables locales de la función son {locals()}')\\n    \\n    return c\",\n",
       " '_iii': 'n',\n",
       " '_i1': \"def cambia_elemento_0(x):\\n    ''' Cambia el primer indice de una lista. '''\\n    x[0] = 'cambiado'\",\n",
       " 'cambia_elemento_0': <function __main__.cambia_elemento_0(x)>,\n",
       " '_i2': \"lista = ['no_cambiar', 2, 3, 4, 5]\",\n",
       " 'lista': ['cambiado', 2, 3, 4, 5],\n",
       " '_i3': 'cambia_elemento_0(lista)\\nlista',\n",
       " '_3': ['cambiado', 2, 3, 4, 5],\n",
       " '_i4': \"lista = ('no_cambiar', 2, 3, 4, 5)\",\n",
       " '_i5': 'cambia_elemento_0(lista)\\nlista',\n",
       " '_i6': \"lista = ['no_cambiar', 2, 3, 4, 5]\",\n",
       " '_i7': 'cambia_elemento_0(lista)\\nlista',\n",
       " '_7': ['cambiado', 2, 3, 4, 5],\n",
       " '_i8': 'import plotly.express as px\\n\\n\\ndf = px.data.iris()\\nfig = px.scatter(df, x=\"sepal_width\", y=\"sepal_length\", color=\"species\", marginal_y=\"violin\",\\n           marginal_x=\"box\", template=\"simple_white\")\\nfig.show()',\n",
       " '_i9': 'pedido = \\'té\\'\\n\\nif \\'té\\' == pedido:\\n    print(\\'Enseguida le traigo su 🍵.\\')\\n    \\nelif pedido == \\'café\\':\\n    print(\\'Enseguida le traigo su ☕.\\')\\n    \\nelse:\\n    print(\"No tenemos lo que nos está pidiendo\")',\n",
       " 'pedido': 'café',\n",
       " '_i10': 'pedido = \\'café\\'\\n\\nif \\'té\\' == pedido:\\n    print(\\'Enseguida le traigo su 🍵.\\')\\n    \\nelif pedido == \\'café\\':\\n    print(\\'Enseguida le traigo su ☕.\\')\\n    \\nelse:\\n    print(\"No tenemos lo que nos está pidiendo\")',\n",
       " '_i11': 'def sumar(a, b):\\n    c = a + b\\n    return c',\n",
       " 'sumar': <function __main__.sumar(a, b, advertencias=False)>,\n",
       " '_i12': 'sumar(1, 2)',\n",
       " '_12': 3,\n",
       " '_i13': 'def sumar(a, b):\\n    c = a + b\\n    return c',\n",
       " '_i14': 'def sumar(a, b):\\n    c = a + b\\n    ',\n",
       " '_i15': 'sumar(1, 2)',\n",
       " '_i16': 'print(sumar(1, 2))',\n",
       " '_i17': 'def sumar(a, b):\\n    c = a + b\\n    return c\\n    ',\n",
       " '_i18': 'sumar(1, 2)',\n",
       " '_18': 3,\n",
       " '_i19': 'sumar(10, 200)',\n",
       " '_19': 210,\n",
       " '_i20': 'def sumar(a, b):\\n    c = a + b\\n    return c\\n    ',\n",
       " '_i21': 'def sumar(a, b):\\n    c = a + b\\n    return c\\n\\nsumar(10, 200)',\n",
       " '_21': 210,\n",
       " '_i22': 'c',\n",
       " '_i23': 'def sumar(a, b):\\n    c = a + b\\n    print(\"Hola =\", c)\\n    return c\\n\\nsumar(10, 200)',\n",
       " '_23': 210,\n",
       " '_i24': 'c',\n",
       " '_i25': 'def sumar(a, b):\\n    c = a + b\\n    print(\"Hola =\", c)\\n    return c\\n\\nsumar(10, 200)',\n",
       " '_25': 210,\n",
       " '_i26': 'def sumar(a, b):\\n    c = a + b\\n    return c\\n\\nsumar(10, 200)',\n",
       " '_26': 210,\n",
       " '_i27': 'c',\n",
       " '_i28': '# respuesta...\\ndef atender(pedido):\\n    if \\'té\\' == pedido:\\n        return \\'Enseguida le traigo su 🍵.\\'\\n    \\n    elif pedido == \\'café\\':\\n        return \\'Enseguida le traigo su ☕.\\'\\n\\n    else:\\n        return \"No tenemos lo que nos está pidiendo\"\\n        \\n    \\npedido = \"té\"\\natender(pedido)',\n",
       " 'atender': <function __main__.atender(pedido)>,\n",
       " '_28': 'Enseguida le traigo su 🍵.',\n",
       " '_i29': 'pedido = \"café\"\\natender(pedido)',\n",
       " '_29': 'Enseguida le traigo su ☕.',\n",
       " '_i30': 'def sumar(a, b):\\n    c = a + b\\n    return c',\n",
       " '_i31': 'sumar(a=10, b=20)',\n",
       " '_31': 30,\n",
       " '_i32': 'sumar(b=10, a=20)',\n",
       " '_32': 30,\n",
       " '_i33': 'def = 10',\n",
       " '_i34': 'def=10',\n",
       " '_i35': 'return = 10',\n",
       " '_i36': \"def hola_mundo():\\n    print('Hola!😊')\\n\\nhola_mundo(10)\",\n",
       " 'hola_mundo': <function __main__.hola_mundo()>,\n",
       " '_i37': \"def hola_mundo():\\n    print('Hola!😊')\\n\\nhola_mundo()\",\n",
       " '_i38': 'hola_mundo=10',\n",
       " '_i39': 'hola_mundo',\n",
       " '_39': 10,\n",
       " '_i40': \"def hola_mundo():\\n    print('Hola!😊')\\n\\nhola_mundo()\",\n",
       " '_i41': 'hola_mundo()',\n",
       " '_i42': 'hola_mundo',\n",
       " '_42': <function __main__.hola_mundo()>,\n",
       " '_i43': 'hola_mundo=1',\n",
       " '_i44': 'hola_mundo',\n",
       " '_44': 1,\n",
       " '_i45': 'hola_mundo()',\n",
       " '_i46': \"def hola_mundo():\\n    print('Hola!😊')\\n\\nhola_mundo()\",\n",
       " '_i47': 'hola_mundo()',\n",
       " '_i48': \"def funcion_n_parametros(*args):\\n    print(\\n        'Los parámetros entregados son:',\\n        args\\n    )\\n\\nfuncion_n_parametros(1, 2, 3, 4, 5, 6, 7, 8, 9, 10, 11, 12)\",\n",
       " 'funcion_n_parametros': <function __main__.funcion_n_parametros(*args)>,\n",
       " '_i49': 'def my_function(*args):\\n    for a in args:\\n        print(a)',\n",
       " 'my_function': <function __main__.my_function(*args)>,\n",
       " '_i50': 'my_funcion(1,2,3,4,5)',\n",
       " '_i51': 'my_function(1,2,3,4,5)',\n",
       " '_i52': 'def my_function(*args):\\n    print(type(args))\\n    for a in args:\\n        print(a)',\n",
       " '_i53': 'my_function(1,2,3,4,5)',\n",
       " '_i54': 'def suma_n(*args): \\n    acum = 0\\n    for i in args:\\n        acum += i\\n    return acum\\n\\nsuma_n(1, 2, 3, 4, 5, 6, 7, 8, 9, 10, 11, 12)',\n",
       " 'suma_n': <function __main__.suma_n(a)>,\n",
       " '_54': 78,\n",
       " '_i55': \"def funcion_n_parametros_nombrados(*args, **kwargs): \\n    print(kwargs)\\n    \\nargumentos = {\\n    'param_1': True, \\n    'param_2': False, \\n    'param_5': False,\\n}\\n\\nfuncion_n_parametros_nombrados(param_1 = 1, param_2 = 2)\",\n",
       " 'funcion_n_parametros_nombrados': <function __main__.funcion_n_parametros_nombrados(*args, **kwargs)>,\n",
       " 'argumentos': {'param_1': True, 'param_2': False, 'param_5': False},\n",
       " '_i56': \"def funcion_n_parametros_nombrados(*args, **kwargs): \\n    print(type(kwargs))\\n    print(kwargs)\\n    \\nargumentos = {\\n    'param_1': True, \\n    'param_2': False, \\n    'param_5': False,\\n}\\n\\nfuncion_n_parametros_nombrados(param_1 = 1, param_2 = 2)\",\n",
       " '_i57': \"def funcion_n_parametros_nombrados(**kwargs): \\n    print(kwargs)\\n    \\nargumentos = {\\n    'param_1': True, \\n    'param_2': False, \\n    'param_5': False,\\n}\\n\\nfuncion_n_parametros_nombrados(param_1 = 1, param_2 = 2)\",\n",
       " '_i58': \"# no es necesario el args antes para usar kwargs\\ndef funcion_n_parametros_nombrados(*args, **kwargs): \\n    print(kwargs)\\n    \\nargumentos = {\\n    'param_1': True, \\n    'param_2': False, \\n    'param_5': False,\\n}\\n\\nfuncion_n_parametros_nombrados(param_1 = 1, param_2 = 2)\",\n",
       " '_i59': \"# no es necesario el args antes para usar kwarg\\ndef funcion_n_parametros_nombrados(*args, **kwargs): \\n    print(kwargs)\\n    \\nargumentos = {\\n    'param_1': True, \\n    'param_2': False, \\n    'param_5': False,\\n}\\n\\nfuncion_n_parametros_nombrados(param_1 = 1, param_2 = 2)\",\n",
       " '_i60': \"def sumar(a, b, advertencias=False):\\n    if advertencias == True:\\n        print('Cuidado 👀')\\n    c = a + b\\n    return c\",\n",
       " '_i61': 'sumar(10, 2)',\n",
       " '_61': 12,\n",
       " '_i62': 'sumar(10, b=2, advertencias=True)',\n",
       " '_62': 12,\n",
       " '_i63': 'def operaciones(a, b):\\n    suma = a+b\\n    resta = a-b\\n    mult = a*b\\n    div = a/b\\n    \\n    return suma, resta, mult, div',\n",
       " 'operaciones': <function __main__.operaciones(a, b)>,\n",
       " '_i64': 'operaciones(5,2)',\n",
       " '_64': (7, 3, 10, 2.5),\n",
       " '_i65': 'suma, resta, mult, div = operaciones(5,2)\\n\\nsuma',\n",
       " 'suma': <function __main__.suma(a, b)>,\n",
       " 'resta': 3,\n",
       " 'mult': 10,\n",
       " 'div': 2.5,\n",
       " '_65': 7,\n",
       " '_i66': 'resta',\n",
       " '_66': 3,\n",
       " '_i67': 'mult',\n",
       " '_67': 10,\n",
       " '_i68': 'div',\n",
       " '_68': 2.5,\n",
       " '_i69': 'type(operaciones(5,2))',\n",
       " '_69': tuple,\n",
       " '_i70': 'def suma(a, b):\\n    c = a + b    \\n    return c\\n\\nsuma(10, 15)',\n",
       " '_70': 25,\n",
       " '_i71': 'c',\n",
       " '_i72': 'n = 5\\n\\ndef suma_n(a):\\n    n = 10\\n    c = a + n\\n    return c\\n\\nsuma_n(10)',\n",
       " 'n': 5,\n",
       " '_72': 20,\n",
       " '_i73': 'n',\n",
       " '_73': 5,\n",
       " '_i74': \"n = 5\\n\\ndef suma_n(a):\\n    n = 10\\n    c = a + n\\n    \\n    print(f'Las variables locales de la función son {locals()}')\\n    \\n    return c\",\n",
       " '_i75': 'suma_n(10)',\n",
       " '_75': 20,\n",
       " '_i76': 'globals()'}"
      ]
     },
     "execution_count": 76,
     "metadata": {},
     "output_type": "execute_result"
    }
   ],
   "source": [
    "\n",
    "globals()"
   ]
  },
  {
   "cell_type": "markdown",
   "metadata": {},
   "source": [
    "---\n",
    "\n",
    "## 3.- Unit Testing\n",
    "\n",
    "\n",
    "El *unit testing* o pruebas unitarias es un método para comprobar el correcto funcionamiento de un segmento de código o función.\n",
    "La idea es crear casos de prueba en donde establecemos valores correctos que deberían retornar la funcion y luego comprobar que la función efectivamente los retorne. \n",
    "\n",
    "Para esto, los test que creemos deben ser determinísticos (no aleatorios) y repetibles. \n",
    "\n",
    "\n",
    "Python provee la *keyword* `assert` la cual verifica el valor de una condición: \n",
    "\n",
    "- Si es `True` continua la ejecución. \n",
    "- Si es `False`, lanza la excepción `AssertionError` y detiene la ejecución.\n",
    "\n"
   ]
  },
  {
   "cell_type": "code",
   "execution_count": 80,
   "metadata": {
    "ExecuteTime": {
     "end_time": "2021-03-24T19:52:21.820347Z",
     "start_time": "2021-03-24T19:52:21.802304Z"
    }
   },
   "outputs": [],
   "source": [
    "def suma(a, b):\n",
    "    return a + b\n"
   ]
  },
  {
   "cell_type": "code",
   "execution_count": 78,
   "metadata": {},
   "outputs": [],
   "source": [
    "assert 5 == suma(2, 3)"
   ]
  },
  {
   "cell_type": "code",
   "execution_count": 79,
   "metadata": {
    "ExecuteTime": {
     "end_time": "2021-03-24T19:53:28.730146Z",
     "start_time": "2021-03-24T19:53:28.721136Z"
    }
   },
   "outputs": [],
   "source": [
    "# La idea es hacer varios casos de prueba unitarios.\n",
    "assert 5 == suma(2,3)\n",
    "assert suma(2, -3) == -1\n",
    "assert suma(99999,1) == 100000\n",
    "assert suma(3,3) != 5\n",
    "assert isinstance(suma(3,3.0), float)"
   ]
  },
  {
   "cell_type": "markdown",
   "metadata": {
    "ExecuteTime": {
     "end_time": "2021-03-24T15:34:18.662574Z",
     "start_time": "2021-03-24T15:34:18.647544Z"
    }
   },
   "source": [
    "### Comprobación de errores al modificar el código\n",
    "\n",
    "Si por ejemplo, ahora modifico erroneamente la función suma y y en vez de sumar, multiplico `a` por `b`, el test los test que había programado de antemano deberían fallar."
   ]
  },
  {
   "cell_type": "code",
   "execution_count": 81,
   "metadata": {
    "ExecuteTime": {
     "end_time": "2021-03-24T19:53:49.277547Z",
     "start_time": "2021-03-24T19:53:49.249539Z"
    }
   },
   "outputs": [
    {
     "ename": "AssertionError",
     "evalue": "",
     "output_type": "error",
     "traceback": [
      "\u001b[1;31m---------------------------------------------------------------------------\u001b[0m",
      "\u001b[1;31mAssertionError\u001b[0m                            Traceback (most recent call last)",
      "\u001b[1;32m<ipython-input-81-9bd009439a6f>\u001b[0m in \u001b[0;36m<module>\u001b[1;34m\u001b[0m\n\u001b[0;32m      2\u001b[0m     \u001b[1;32mreturn\u001b[0m \u001b[0ma\u001b[0m \u001b[1;33m*\u001b[0m \u001b[0mb\u001b[0m\u001b[1;33m\u001b[0m\u001b[1;33m\u001b[0m\u001b[0m\n\u001b[0;32m      3\u001b[0m \u001b[1;33m\u001b[0m\u001b[0m\n\u001b[1;32m----> 4\u001b[1;33m \u001b[1;32massert\u001b[0m \u001b[0msuma\u001b[0m\u001b[1;33m(\u001b[0m\u001b[1;36m2\u001b[0m\u001b[1;33m,\u001b[0m\u001b[1;33m-\u001b[0m\u001b[1;36m3\u001b[0m\u001b[1;33m)\u001b[0m \u001b[1;33m==\u001b[0m \u001b[1;33m-\u001b[0m\u001b[1;36m1\u001b[0m\u001b[1;33m\u001b[0m\u001b[1;33m\u001b[0m\u001b[0m\n\u001b[0m\u001b[0;32m      5\u001b[0m \u001b[1;32massert\u001b[0m \u001b[0msuma\u001b[0m\u001b[1;33m(\u001b[0m\u001b[1;36m99999\u001b[0m\u001b[1;33m,\u001b[0m\u001b[1;36m1\u001b[0m\u001b[1;33m)\u001b[0m \u001b[1;33m==\u001b[0m \u001b[1;36m100000\u001b[0m\u001b[1;33m\u001b[0m\u001b[1;33m\u001b[0m\u001b[0m\n\u001b[0;32m      6\u001b[0m \u001b[1;32massert\u001b[0m \u001b[0msuma\u001b[0m\u001b[1;33m(\u001b[0m\u001b[1;36m3\u001b[0m\u001b[1;33m,\u001b[0m\u001b[1;36m3\u001b[0m\u001b[1;33m)\u001b[0m \u001b[1;33m!=\u001b[0m \u001b[1;36m5\u001b[0m\u001b[1;33m\u001b[0m\u001b[1;33m\u001b[0m\u001b[0m\n",
      "\u001b[1;31mAssertionError\u001b[0m: "
     ]
    }
   ],
   "source": [
    "def suma(a, b):\n",
    "    return a * b \n",
    "\n",
    "assert suma(2,-3) == -1\n",
    "assert suma(99999,1) == 100000\n",
    "assert suma(3,3) != 5\n"
   ]
  },
  {
   "cell_type": "code",
   "execution_count": 82,
   "metadata": {
    "ExecuteTime": {
     "end_time": "2021-03-24T19:54:07.915018Z",
     "start_time": "2021-03-24T19:54:07.900019Z"
    },
    "scrolled": true
   },
   "outputs": [
    {
     "ename": "AssertionError",
     "evalue": "Error en suma en el test suma(3, 2)",
     "output_type": "error",
     "traceback": [
      "\u001b[1;31m---------------------------------------------------------------------------\u001b[0m",
      "\u001b[1;31mAssertionError\u001b[0m                            Traceback (most recent call last)",
      "\u001b[1;32m<ipython-input-82-5f9de0317ea9>\u001b[0m in \u001b[0;36m<module>\u001b[1;34m\u001b[0m\n\u001b[0;32m      1\u001b[0m \u001b[1;31m# Le podemos indicar que nos entregue un mensaje de error\u001b[0m\u001b[1;33m\u001b[0m\u001b[1;33m\u001b[0m\u001b[1;33m\u001b[0m\u001b[0m\n\u001b[0;32m      2\u001b[0m \u001b[1;33m\u001b[0m\u001b[0m\n\u001b[1;32m----> 3\u001b[1;33m \u001b[1;32massert\u001b[0m \u001b[0msuma\u001b[0m\u001b[1;33m(\u001b[0m\u001b[1;36m3\u001b[0m\u001b[1;33m,\u001b[0m\u001b[1;36m2\u001b[0m\u001b[1;33m)\u001b[0m \u001b[1;33m==\u001b[0m \u001b[1;36m5\u001b[0m\u001b[1;33m,\u001b[0m \u001b[1;34m'Error en suma en el test suma(3, 2)'\u001b[0m\u001b[1;33m\u001b[0m\u001b[1;33m\u001b[0m\u001b[0m\n\u001b[0m",
      "\u001b[1;31mAssertionError\u001b[0m: Error en suma en el test suma(3, 2)"
     ]
    }
   ],
   "source": [
    "# Le podemos indicar que nos entregue un mensaje de error\n",
    "\n",
    "assert suma(3,2) == 5, 'Error en suma en el test suma(3, 2)'"
   ]
  },
  {
   "cell_type": "markdown",
   "metadata": {
    "ExecuteTime": {
     "end_time": "2021-03-24T15:35:22.876002Z",
     "start_time": "2021-03-24T15:35:22.855969Z"
    }
   },
   "source": [
    "> Nota interesante 📝:\n",
    "\n",
    "    \"Program testing can be used to show the presence of bugs, but never to show their absence!\"\n",
    "    \n",
    "                                                                         —Edsger Dijkstra, 1970"
   ]
  },
  {
   "cell_type": "markdown",
   "metadata": {},
   "source": [
    "> **Pregunta ❓**: ¿Por qué en ciencia de datos nos interesaría esto 🤕?"
   ]
  },
  {
   "cell_type": "markdown",
   "metadata": {},
   "source": [
    "### Paréntesis: TDD y pruebas unitarias\n",
    "\n",
    "El test driven development (TDD) o desarrollo guiado por pruebas implica desarrollar las pruebas unitarias a las que se va a someter el software antes de escribirlo.\n",
    "De esta manera, el desarrollo se realiza atendiendo a los requisitos que se han establecido en la prueba que deberá pasar.\n",
    "\n",
    "(Fuente: https://www.yeeply.com/blog/que-son-pruebas-unitarias/)"
   ]
  },
  {
   "cell_type": "markdown",
   "metadata": {},
   "source": [
    "> **Ejercicio 💻**\n",
    "\n",
    "Implementa una función que calcule el promedio de una lista implementando:\n",
    "\n",
    "- primero los tests unitarios,\n",
    "- luego, la implementación de la función.\n",
    "\n",
    "> **Pregunta❓**: ¿Qué pasa cuando los valores son números flotantes? ¿Y strings o booleanos?."
   ]
  },
  {
   "cell_type": "code",
   "execution_count": 83,
   "metadata": {
    "ExecuteTime": {
     "end_time": "2021-03-24T19:20:37.332510Z",
     "start_time": "2021-03-24T19:20:37.172Z"
    }
   },
   "outputs": [],
   "source": [
    "# respuesta...\n",
    "\n",
    "def promedio(*args):\n",
    "    suma = 0.0\n",
    "    for value in args:\n",
    "        suma += value\n",
    "    return suma / len(args)\n",
    "\n",
    "assert promedio(3.0, 3.0, 3.0) == 3.0"
   ]
  },
  {
   "cell_type": "markdown",
   "metadata": {},
   "source": [
    "---"
   ]
  },
  {
   "cell_type": "markdown",
   "metadata": {},
   "source": [
    "## 4.- Referencias\n",
    "\n",
    "\n",
    "Consideremos el siguiente ejemplo:"
   ]
  },
  {
   "cell_type": "code",
   "execution_count": 1,
   "metadata": {},
   "outputs": [
    {
     "data": {
      "text/plain": [
       "[1, 2, 3, 4, 5]"
      ]
     },
     "execution_count": 1,
     "metadata": {},
     "output_type": "execute_result"
    }
   ],
   "source": [
    "lista_1 = [1, 2, 3, 4, 5]\n",
    "lista_1"
   ]
  },
  {
   "cell_type": "code",
   "execution_count": 2,
   "metadata": {
    "ExecuteTime": {
     "end_time": "2021-03-24T20:13:12.073503Z",
     "start_time": "2021-03-24T20:13:12.069502Z"
    }
   },
   "outputs": [
    {
     "data": {
      "text/plain": [
       "[1, 2, 3, 4, 5]"
      ]
     },
     "execution_count": 2,
     "metadata": {},
     "output_type": "execute_result"
    }
   ],
   "source": [
    "lista_2 = lista_1\n",
    "lista_2"
   ]
  },
  {
   "cell_type": "code",
   "execution_count": 3,
   "metadata": {
    "ExecuteTime": {
     "end_time": "2021-03-24T20:13:12.747512Z",
     "start_time": "2021-03-24T20:13:12.736503Z"
    },
    "scrolled": true
   },
   "outputs": [
    {
     "data": {
      "text/plain": [
       "[1, 2, 3, 4, 5, 10]"
      ]
     },
     "execution_count": 3,
     "metadata": {},
     "output_type": "execute_result"
    }
   ],
   "source": [
    "lista_1.append(10)\n",
    "lista_1"
   ]
  },
  {
   "cell_type": "code",
   "execution_count": 4,
   "metadata": {
    "ExecuteTime": {
     "end_time": "2021-03-24T20:13:17.974439Z",
     "start_time": "2021-03-24T20:13:17.955440Z"
    },
    "scrolled": true
   },
   "outputs": [
    {
     "data": {
      "text/plain": [
       "[1, 2, 3, 4, 5, 10]"
      ]
     },
     "execution_count": 4,
     "metadata": {},
     "output_type": "execute_result"
    }
   ],
   "source": [
    "lista_2"
   ]
  },
  {
   "cell_type": "code",
   "execution_count": 5,
   "metadata": {},
   "outputs": [],
   "source": [
    "lista_2.append(100)"
   ]
  },
  {
   "cell_type": "code",
   "execution_count": 6,
   "metadata": {},
   "outputs": [
    {
     "data": {
      "text/plain": [
       "[1, 2, 3, 4, 5, 10, 100]"
      ]
     },
     "execution_count": 6,
     "metadata": {},
     "output_type": "execute_result"
    }
   ],
   "source": [
    "lista_1"
   ]
  },
  {
   "cell_type": "markdown",
   "metadata": {},
   "source": [
    "> **Pregunta ❓:** ¿Por qué al modificar `lista_1`, los cambios también se ven reflejados en `lista_2`?"
   ]
  },
  {
   "cell_type": "markdown",
   "metadata": {},
   "source": [
    "Cuando asignamos una lista a una variable, lo que guardamos en la misma es en realidad una referencia a la lista y no la lista en sí. "
   ]
  },
  {
   "cell_type": "markdown",
   "metadata": {},
   "source": [
    "> **Nota 🗒️**: Referencia según la *RAE*. 9. f. Ling. Relación que se establece entre una expresión lingüística y aquello a lo que alude."
   ]
  },
  {
   "cell_type": "markdown",
   "metadata": {},
   "source": [
    "Por lo tanto, al copiar la variable a otra lo que hicimos fue copiar la referencia y no sus valores. Podemos analizar las referencias de cada variable (lugar en la dirección de memoria donde se encuentran los datos) a través de la función `id`:"
   ]
  },
  {
   "cell_type": "code",
   "execution_count": 7,
   "metadata": {
    "ExecuteTime": {
     "end_time": "2021-03-24T20:14:08.735748Z",
     "start_time": "2021-03-24T20:14:08.716745Z"
    }
   },
   "outputs": [
    {
     "name": "stdout",
     "output_type": "stream",
     "text": [
      "Identificador lista_1: 2131183808192\n",
      "Identificador lista_2: 2131183808192\n"
     ]
    }
   ],
   "source": [
    "print(f'Identificador lista_1: {id(lista_1)}\\nIdentificador lista_2: {id(lista_2)}')"
   ]
  },
  {
   "cell_type": "markdown",
   "metadata": {
    "ExecuteTime": {
     "end_time": "2021-03-24T17:38:07.640881Z",
     "start_time": "2021-03-24T17:38:07.631840Z"
    }
   },
   "source": [
    "> **Nota**: Si realmente queremos copiar un arreglo (y cuálquier colección y estructura compleja en general) debemos utilizar la función `deepcopy()`"
   ]
  },
  {
   "cell_type": "code",
   "execution_count": 8,
   "metadata": {
    "ExecuteTime": {
     "end_time": "2021-03-24T20:17:00.249507Z",
     "start_time": "2021-03-24T20:17:00.243507Z"
    }
   },
   "outputs": [
    {
     "data": {
      "text/plain": [
       "[1, 2, 3, 4, 5, 10]"
      ]
     },
     "execution_count": 8,
     "metadata": {},
     "output_type": "execute_result"
    }
   ],
   "source": [
    "from copy import deepcopy\n",
    "\n",
    "lista_1 = [1, 2, 3, 4, 5]\n",
    "\n",
    "lista_3 = deepcopy(lista_1)\n",
    "\n",
    "lista_1.append(10)\n",
    "\n",
    "lista_1"
   ]
  },
  {
   "cell_type": "code",
   "execution_count": 9,
   "metadata": {
    "ExecuteTime": {
     "end_time": "2021-03-24T20:15:05.738891Z",
     "start_time": "2021-03-24T20:15:05.729897Z"
    },
    "scrolled": true,
    "tags": []
   },
   "outputs": [
    {
     "data": {
      "text/plain": [
       "[1, 2, 3, 4, 5]"
      ]
     },
     "execution_count": 9,
     "metadata": {},
     "output_type": "execute_result"
    }
   ],
   "source": [
    "lista_3"
   ]
  },
  {
   "cell_type": "code",
   "execution_count": 10,
   "metadata": {
    "ExecuteTime": {
     "end_time": "2021-03-24T20:15:13.563792Z",
     "start_time": "2021-03-24T20:15:13.547797Z"
    }
   },
   "outputs": [
    {
     "name": "stdout",
     "output_type": "stream",
     "text": [
      "Identificador lista_1: 2131183806208\n",
      "Identificador lista_3: 2131183767808\n"
     ]
    }
   ],
   "source": [
    "print(f'Identificador lista_1: {id(lista_1)}\\nIdentificador lista_3: {id(lista_3)}')"
   ]
  },
  {
   "cell_type": "markdown",
   "metadata": {},
   "source": [
    "En general, Python asignará identificadores distintos cuando creemos listas y diccionarios:"
   ]
  },
  {
   "cell_type": "markdown",
   "metadata": {},
   "source": [
    "En general existen cualidades comunes al momento de crear un docstring, estas incluyen, argumentos, atributos y resultados (returns). Los distintos estándares de creación de documentos abordan esto, dentro de los estándares más comunes se encuentran:\n",
    "\n",
    "- [Estándar google](https://github.com/google/styleguide/blob/gh-pages/pyguide.md#38-comments-and-docstrings)\n",
    "\n",
    "- [Estándar Numpy/Scipy](https://numpydoc.readthedocs.io/en/latest/format.html)\n",
    "\n",
    "Una buena guia de manejo de docstrings se puede encontrar en la [documentación oficial](https://www.python.org/dev/peps/pep-0257/) de Python."
   ]
  },
  {
   "cell_type": "code",
   "execution_count": 11,
   "metadata": {
    "ExecuteTime": {
     "end_time": "2021-03-24T20:18:45.314653Z",
     "start_time": "2021-03-24T20:18:45.302653Z"
    }
   },
   "outputs": [
    {
     "name": "stdout",
     "output_type": "stream",
     "text": [
      "Identificador dict_1: 2131184153088\n",
      "Identificador dict_2: 2131184119744\n"
     ]
    }
   ],
   "source": [
    "dict_1 = {'key_1': 'Hola'}\n",
    "dict_2 = {'key_1': 'Hola'}\n",
    "\n",
    "print(f'Identificador dict_1: {id(dict_1)}\\nIdentificador dict_2: {id(dict_2)}')"
   ]
  },
  {
   "cell_type": "markdown",
   "metadata": {
    "ExecuteTime": {
     "end_time": "2021-03-24T17:51:53.481728Z",
     "start_time": "2021-03-24T17:51:53.472726Z"
    }
   },
   "source": [
    "¿Qué pasa ahora con los elementos inmutables como los strings?"
   ]
  },
  {
   "cell_type": "code",
   "execution_count": 12,
   "metadata": {
    "ExecuteTime": {
     "end_time": "2021-03-24T20:18:04.170052Z",
     "start_time": "2021-03-24T20:18:04.163053Z"
    }
   },
   "outputs": [
    {
     "data": {
      "text/plain": [
       "2131184148976"
      ]
     },
     "execution_count": 12,
     "metadata": {},
     "output_type": "execute_result"
    }
   ],
   "source": [
    "s1 = 'Hola'\n",
    "id(s1)"
   ]
  },
  {
   "cell_type": "code",
   "execution_count": 13,
   "metadata": {
    "ExecuteTime": {
     "end_time": "2021-03-24T20:18:04.916052Z",
     "start_time": "2021-03-24T20:18:04.898118Z"
    }
   },
   "outputs": [
    {
     "data": {
      "text/plain": [
       "2131184148976"
      ]
     },
     "execution_count": 13,
     "metadata": {},
     "output_type": "execute_result"
    }
   ],
   "source": [
    "s2 = 'Hola'\n",
    "id(s2)"
   ]
  },
  {
   "cell_type": "code",
   "execution_count": 15,
   "metadata": {
    "ExecuteTime": {
     "end_time": "2021-03-24T20:18:46.450652Z",
     "start_time": "2021-03-24T20:18:46.441655Z"
    },
    "scrolled": true
   },
   "outputs": [
    {
     "data": {
      "text/plain": [
       "2131184148976"
      ]
     },
     "execution_count": 15,
     "metadata": {},
     "output_type": "execute_result"
    }
   ],
   "source": [
    "id(dict_1['key_1'])"
   ]
  },
  {
   "cell_type": "markdown",
   "metadata": {},
   "source": [
    "¿Y si le concatenamos otro string (similar al `append` del inicio)?"
   ]
  },
  {
   "cell_type": "code",
   "execution_count": 16,
   "metadata": {
    "ExecuteTime": {
     "end_time": "2021-03-24T19:20:37.482510Z",
     "start_time": "2021-03-24T19:20:37.480Z"
    }
   },
   "outputs": [
    {
     "data": {
      "text/plain": [
       "2131184764656"
      ]
     },
     "execution_count": 16,
     "metadata": {},
     "output_type": "execute_result"
    }
   ],
   "source": [
    "s3 = s1 + ', qué tal?'\n",
    "id(s3)"
   ]
  },
  {
   "cell_type": "markdown",
   "metadata": {},
   "source": [
    "> **Pregunta ❓**: ¿Por qué no se conserva el id?"
   ]
  },
  {
   "cell_type": "markdown",
   "metadata": {},
   "source": [
    "### Mutabilidad e Inmutabilidad `v2`\n",
    "\n",
    "**Recuerdo:** Cada entidad (u objeto) en python puede ser catalogada como **mutables** o **inmutables**. \n",
    "- Los objetos **mutables** son aquellos que pueden ser modificados luego de ser creados (o asignados), \n",
    "- Los objetos **inmutables** son objetos con valores fijos que no pueden ser modificados.\n"
   ]
  },
  {
   "cell_type": "markdown",
   "metadata": {},
   "source": [
    "> **Pregunta ❓**: Hasta ahora, ¿qué tipos de datos son mutables y que tipo de datos son inmutables?"
   ]
  },
  {
   "cell_type": "markdown",
   "metadata": {},
   "source": [
    "Python maneja los objetos mutables e inmutables de manera distinta.\n",
    "\n",
    "- Se utilizan objetos inmutables si se desea acceder e iterar de manera eficiente en estructuras que no cambian frecuentemente en el código. Sin embargo, **son estáticos**. Esto se evidencia al querer modificar un valor, **proceso que conlleva la creación de una copia del inmutable original.** \n",
    "\n",
    "- Los objetos mutables **se utilizan cuando se desea cambiar el tamaño o atributos de un objeto a medida que es procesado por un código**. "
   ]
  },
  {
   "cell_type": "markdown",
   "metadata": {},
   "source": [
    "### ¿Inmutables que mutan?\n",
    "\n",
    "\n",
    "> **Pregunta ❓**: ¿Qué sucede en el siguiente código?"
   ]
  },
  {
   "cell_type": "code",
   "execution_count": 17,
   "metadata": {
    "ExecuteTime": {
     "end_time": "2021-03-24T20:20:09.983944Z",
     "start_time": "2021-03-24T20:20:09.978944Z"
    }
   },
   "outputs": [
    {
     "data": {
      "text/plain": [
       "('texto', [0, 1])"
      ]
     },
     "execution_count": 17,
     "metadata": {},
     "output_type": "execute_result"
    }
   ],
   "source": [
    "tupla = ('texto', [0,1])\n",
    "tupla"
   ]
  },
  {
   "cell_type": "code",
   "execution_count": 18,
   "metadata": {
    "ExecuteTime": {
     "end_time": "2021-03-24T20:20:15.646244Z",
     "start_time": "2021-03-24T20:20:15.627246Z"
    },
    "scrolled": true,
    "tags": []
   },
   "outputs": [
    {
     "ename": "TypeError",
     "evalue": "'tuple' object does not support item assignment",
     "output_type": "error",
     "traceback": [
      "\u001b[1;31m---------------------------------------------------------------------------\u001b[0m",
      "\u001b[1;31mTypeError\u001b[0m                                 Traceback (most recent call last)",
      "\u001b[1;32m<ipython-input-18-e9f41e213e78>\u001b[0m in \u001b[0;36m<module>\u001b[1;34m\u001b[0m\n\u001b[1;32m----> 1\u001b[1;33m \u001b[0mtupla\u001b[0m\u001b[1;33m[\u001b[0m\u001b[1;36m1\u001b[0m\u001b[1;33m]\u001b[0m \u001b[1;33m=\u001b[0m \u001b[1;33m[\u001b[0m\u001b[1;36m0\u001b[0m\u001b[1;33m,\u001b[0m\u001b[1;36m1\u001b[0m\u001b[1;33m,\u001b[0m\u001b[1;36m2\u001b[0m\u001b[1;33m]\u001b[0m\u001b[1;33m\u001b[0m\u001b[1;33m\u001b[0m\u001b[0m\n\u001b[0m",
      "\u001b[1;31mTypeError\u001b[0m: 'tuple' object does not support item assignment"
     ]
    }
   ],
   "source": [
    "tupla[1] = [0,1,2]"
   ]
  },
  {
   "cell_type": "code",
   "execution_count": 19,
   "metadata": {
    "ExecuteTime": {
     "end_time": "2021-03-24T20:20:27.266619Z",
     "start_time": "2021-03-24T20:20:27.250607Z"
    }
   },
   "outputs": [
    {
     "data": {
      "text/plain": [
       "[0, 1]"
      ]
     },
     "execution_count": 19,
     "metadata": {},
     "output_type": "execute_result"
    }
   ],
   "source": [
    "tupla[1]"
   ]
  },
  {
   "cell_type": "code",
   "execution_count": 20,
   "metadata": {
    "ExecuteTime": {
     "end_time": "2021-03-24T20:20:53.456034Z",
     "start_time": "2021-03-24T20:20:53.442026Z"
    }
   },
   "outputs": [
    {
     "data": {
      "text/plain": [
       "('texto', [0, 1, 2])"
      ]
     },
     "execution_count": 20,
     "metadata": {},
     "output_type": "execute_result"
    }
   ],
   "source": [
    "tupla[1].append(2)\n",
    "tupla"
   ]
  },
  {
   "cell_type": "markdown",
   "metadata": {},
   "source": [
    "### Argumentos de las Funciones\n",
    "\n",
    "Las referencias a objetos mutables e inmutables tienen un papel importante en la **evaluación de funciones**. \n",
    "\n",
    "Pensemos por ejemplo en la siguiente función:"
   ]
  },
  {
   "cell_type": "code",
   "execution_count": 21,
   "metadata": {
    "ExecuteTime": {
     "end_time": "2021-03-24T20:21:35.166076Z",
     "start_time": "2021-03-24T20:21:35.157083Z"
    }
   },
   "outputs": [],
   "source": [
    "def cambia_elemento_0(x):\n",
    "    ''' Cambia el primer indice de una lista. '''\n",
    "    x[0] = 'cambiado'"
   ]
  },
  {
   "cell_type": "markdown",
   "metadata": {},
   "source": [
    "Si se define la lista:"
   ]
  },
  {
   "cell_type": "code",
   "execution_count": 22,
   "metadata": {
    "ExecuteTime": {
     "end_time": "2021-03-24T20:21:39.441106Z",
     "start_time": "2021-03-24T20:21:39.430107Z"
    }
   },
   "outputs": [],
   "source": [
    "lista = ['no_cambiar', 2, 3, 4, 5]"
   ]
  },
  {
   "cell_type": "code",
   "execution_count": 23,
   "metadata": {
    "ExecuteTime": {
     "end_time": "2021-03-24T20:22:42.069305Z",
     "start_time": "2021-03-24T20:22:42.050308Z"
    },
    "scrolled": true
   },
   "outputs": [
    {
     "data": {
      "text/plain": [
       "['cambiado', 2, 3, 4, 5]"
      ]
     },
     "execution_count": 23,
     "metadata": {},
     "output_type": "execute_result"
    }
   ],
   "source": [
    "cambia_elemento_0(lista)\n",
    "lista"
   ]
  },
  {
   "cell_type": "markdown",
   "metadata": {},
   "source": [
    "El elemento cambió porque le pasamos una referencia de la lista a la función. NO una copia de esta."
   ]
  },
  {
   "cell_type": "markdown",
   "metadata": {},
   "source": [
    "## 5.- Documentación"
   ]
  },
  {
   "cell_type": "markdown",
   "metadata": {},
   "source": [
    "Es muy probable que otros programadores (o uno mismo) quiera saber que hace alguna función sin tener que leer directamente el código para descifrarlo. \n",
    "\n",
    "La forma estándar de lograr esto es a través de _docstrings_, documentación escrita a mano que describe qué hace la función y opcionalmente que es lo que recibe como parámetros y que es lo que retorna. \n",
    "\n",
    "En python, el docstring de cada función es simplemente un string multi-linea y puede ser accedido a través de la función `help(nombre_función)`. Usualmente, los IDE (cómo jupyter o colab) también permiten acceder rápidamente a la documentación a través de popups u otros elementos. "
   ]
  },
  {
   "cell_type": "code",
   "execution_count": 24,
   "metadata": {},
   "outputs": [
    {
     "name": "stdout",
     "output_type": "stream",
     "text": [
      "Help on built-in function print in module builtins:\n",
      "\n",
      "print(...)\n",
      "    print(value, ..., sep=' ', end='\\n', file=sys.stdout, flush=False)\n",
      "    \n",
      "    Prints the values to a stream, or to sys.stdout by default.\n",
      "    Optional keyword arguments:\n",
      "    file:  a file-like object (stream); defaults to the current sys.stdout.\n",
      "    sep:   string inserted between values, default a space.\n",
      "    end:   string appended after the last value, default a newline.\n",
      "    flush: whether to forcibly flush the stream.\n",
      "\n"
     ]
    }
   ],
   "source": [
    "help(print)"
   ]
  },
  {
   "cell_type": "code",
   "execution_count": 25,
   "metadata": {},
   "outputs": [
    {
     "name": "stdout",
     "output_type": "stream",
     "text": [
      "Help on class list in module builtins:\n",
      "\n",
      "class list(object)\n",
      " |  list(iterable=(), /)\n",
      " |  \n",
      " |  Built-in mutable sequence.\n",
      " |  \n",
      " |  If no argument is given, the constructor creates a new empty list.\n",
      " |  The argument must be an iterable if specified.\n",
      " |  \n",
      " |  Methods defined here:\n",
      " |  \n",
      " |  __add__(self, value, /)\n",
      " |      Return self+value.\n",
      " |  \n",
      " |  __contains__(self, key, /)\n",
      " |      Return key in self.\n",
      " |  \n",
      " |  __delitem__(self, key, /)\n",
      " |      Delete self[key].\n",
      " |  \n",
      " |  __eq__(self, value, /)\n",
      " |      Return self==value.\n",
      " |  \n",
      " |  __ge__(self, value, /)\n",
      " |      Return self>=value.\n",
      " |  \n",
      " |  __getattribute__(self, name, /)\n",
      " |      Return getattr(self, name).\n",
      " |  \n",
      " |  __getitem__(...)\n",
      " |      x.__getitem__(y) <==> x[y]\n",
      " |  \n",
      " |  __gt__(self, value, /)\n",
      " |      Return self>value.\n",
      " |  \n",
      " |  __iadd__(self, value, /)\n",
      " |      Implement self+=value.\n",
      " |  \n",
      " |  __imul__(self, value, /)\n",
      " |      Implement self*=value.\n",
      " |  \n",
      " |  __init__(self, /, *args, **kwargs)\n",
      " |      Initialize self.  See help(type(self)) for accurate signature.\n",
      " |  \n",
      " |  __iter__(self, /)\n",
      " |      Implement iter(self).\n",
      " |  \n",
      " |  __le__(self, value, /)\n",
      " |      Return self<=value.\n",
      " |  \n",
      " |  __len__(self, /)\n",
      " |      Return len(self).\n",
      " |  \n",
      " |  __lt__(self, value, /)\n",
      " |      Return self<value.\n",
      " |  \n",
      " |  __mul__(self, value, /)\n",
      " |      Return self*value.\n",
      " |  \n",
      " |  __ne__(self, value, /)\n",
      " |      Return self!=value.\n",
      " |  \n",
      " |  __repr__(self, /)\n",
      " |      Return repr(self).\n",
      " |  \n",
      " |  __reversed__(self, /)\n",
      " |      Return a reverse iterator over the list.\n",
      " |  \n",
      " |  __rmul__(self, value, /)\n",
      " |      Return value*self.\n",
      " |  \n",
      " |  __setitem__(self, key, value, /)\n",
      " |      Set self[key] to value.\n",
      " |  \n",
      " |  __sizeof__(self, /)\n",
      " |      Return the size of the list in memory, in bytes.\n",
      " |  \n",
      " |  append(self, object, /)\n",
      " |      Append object to the end of the list.\n",
      " |  \n",
      " |  clear(self, /)\n",
      " |      Remove all items from list.\n",
      " |  \n",
      " |  copy(self, /)\n",
      " |      Return a shallow copy of the list.\n",
      " |  \n",
      " |  count(self, value, /)\n",
      " |      Return number of occurrences of value.\n",
      " |  \n",
      " |  extend(self, iterable, /)\n",
      " |      Extend list by appending elements from the iterable.\n",
      " |  \n",
      " |  index(self, value, start=0, stop=9223372036854775807, /)\n",
      " |      Return first index of value.\n",
      " |      \n",
      " |      Raises ValueError if the value is not present.\n",
      " |  \n",
      " |  insert(self, index, object, /)\n",
      " |      Insert object before index.\n",
      " |  \n",
      " |  pop(self, index=-1, /)\n",
      " |      Remove and return item at index (default last).\n",
      " |      \n",
      " |      Raises IndexError if list is empty or index is out of range.\n",
      " |  \n",
      " |  remove(self, value, /)\n",
      " |      Remove first occurrence of value.\n",
      " |      \n",
      " |      Raises ValueError if the value is not present.\n",
      " |  \n",
      " |  reverse(self, /)\n",
      " |      Reverse *IN PLACE*.\n",
      " |  \n",
      " |  sort(self, /, *, key=None, reverse=False)\n",
      " |      Sort the list in ascending order and return None.\n",
      " |      \n",
      " |      The sort is in-place (i.e. the list itself is modified) and stable (i.e. the\n",
      " |      order of two equal elements is maintained).\n",
      " |      \n",
      " |      If a key function is given, apply it once to each list item and sort them,\n",
      " |      ascending or descending, according to their function values.\n",
      " |      \n",
      " |      The reverse flag can be set to sort in descending order.\n",
      " |  \n",
      " |  ----------------------------------------------------------------------\n",
      " |  Static methods defined here:\n",
      " |  \n",
      " |  __new__(*args, **kwargs) from builtins.type\n",
      " |      Create and return a new object.  See help(type) for accurate signature.\n",
      " |  \n",
      " |  ----------------------------------------------------------------------\n",
      " |  Data and other attributes defined here:\n",
      " |  \n",
      " |  __hash__ = None\n",
      "\n"
     ]
    }
   ],
   "source": [
    "help(list)"
   ]
  },
  {
   "cell_type": "markdown",
   "metadata": {},
   "source": [
    "### Implementando docstrings\n",
    "\n",
    "Para Docstrings de una linea:\n",
    "\n",
    "\n",
    "* Se usan strings multilineas ```\"\"\" \"\"\"```, inclusive si se puede escribir todo en una linea.\n",
    "* Las comillas que inicial la documentación están en la misma linea que aquellas que la cierran.\n",
    "* El docstring es una frase que termina en punto, describe el objeto al cual se hace referencia y su efecto en la forma (accion,resultado).\n",
    "* La documentación no debe tener la \"firma\" (signature) del objeto subyacente: \n",
    "\n",
    "```python\n",
    "# Firma, mala practica:\n",
    "def funcion_suma(a,b):\n",
    "    \"\"\" funcion(a,b) -> int \"\"\"\n",
    "    return a+b\n",
    "    \n",
    "# Buena practica:\n",
    "def funcion_suma(a,b):\n",
    "    \"\"\"Suma a y b y retorna su resultado \"\"\"\n",
    "    return a+b\n",
    "```"
   ]
  },
  {
   "cell_type": "markdown",
   "metadata": {},
   "source": [
    "Docstrings multilinea:\n",
    "\n",
    "* La documentación debe estar indentada completamente.\n",
    "* La primera linea debe ser siempre un resumen corto y conciso de el propósito del objeto que se documenta.\n",
    "* Debe haber una linea en blanco luego del resumen corto. Se puede agregar una explicación más profunda posterior al espacio."
   ]
  },
  {
   "cell_type": "markdown",
   "metadata": {},
   "source": [
    "\n",
    "> **Ejercicio 📕**\n",
    "\n",
    "El estándar a seguir en este curso será el de Numpy/Scipy.\n",
    "\n",
    "1. Estudia los lineamientos que tal estándar supone.\n",
    "\n",
    "2. Aplica tales lineamientos a a los ejercicios con map/filter/reduce.\n",
    "\n",
    "3. Elija una de las funciones, para una de las cuales confeccionaste un docstring y acceda a tal documentación por medio del atributo ```help(function)```. (Desde un entorno jupyter notebook: ¿Qué ocurre se presiona las teclas ```shift+tab``` con el cursor dentro de la función? ejemplo: sum(|) ```shift+tab``` donde \"|\" es el cursor)\n",
    "\n",
    "\n",
    "---"
   ]
  },
  {
   "cell_type": "markdown",
   "metadata": {
    "tags": []
   },
   "source": [
    "## 6.- Decoradores\n",
    "\n",
    "### Potenciando el café de la serpiente\n",
    "\n",
    "Volvamos nuevamente al _café de la serpiente 🐍_."
   ]
  },
  {
   "cell_type": "code",
   "execution_count": 27,
   "metadata": {},
   "outputs": [
    {
     "name": "stdout",
     "output_type": "stream",
     "text": [
      "Enseguida le traigo su té 🍵.\n"
     ]
    }
   ],
   "source": [
    "def atender_cafe(pedido):\n",
    "    if 'té' == pedido:\n",
    "        print('Enseguida le traigo su té 🍵.')\n",
    "    elif pedido == 'café':\n",
    "        print('Enseguida le traigo su café ☕.')\n",
    "    else:\n",
    "        print(\"No tenemos lo que nos está pidiendo\")\n",
    "\n",
    "atender_cafe(\"té\")"
   ]
  },
  {
   "cell_type": "markdown",
   "metadata": {},
   "source": [
    "> **Pregunta ❓**: Cómo podríamos desacoplar la funcionalidad de chequear el inventario del control de flujo?"
   ]
  },
  {
   "cell_type": "markdown",
   "metadata": {},
   "source": [
    "Una buena opción sería hacer una función independiente que chequee el inventario antes de ejecutar la función atender."
   ]
  },
  {
   "cell_type": "code",
   "execution_count": 28,
   "metadata": {},
   "outputs": [],
   "source": [
    "inventario_cafe = ['té', 'café']\n",
    "\n",
    "def chequear_inventario(pedido, inventario):\n",
    "    if pedido not in inventario:\n",
    "        print(\"No tenemos lo que nos está pidiendo\")\n",
    "    return atender_cafe(pedido)\n",
    "        "
   ]
  },
  {
   "cell_type": "code",
   "execution_count": 29,
   "metadata": {},
   "outputs": [
    {
     "name": "stdout",
     "output_type": "stream",
     "text": [
      "Enseguida le traigo su té 🍵.\n"
     ]
    }
   ],
   "source": [
    "inventario = ['té', 'café']\n",
    "chequear_inventario(\"té\", inventario_cafe)"
   ]
  },
  {
   "cell_type": "code",
   "execution_count": 30,
   "metadata": {},
   "outputs": [
    {
     "name": "stdout",
     "output_type": "stream",
     "text": [
      "Enseguida le traigo su café ☕.\n"
     ]
    }
   ],
   "source": [
    "chequear_inventario(\"café\", inventario_cafe)"
   ]
  },
  {
   "cell_type": "markdown",
   "metadata": {},
   "source": [
    "> **Pregunta ❓**: Qué pasaría si ahora quisiese hacer un software para atender por separado una pizzería y una cafetería?\n",
    "\n",
    "\n",
    "Podríamos hacer algo similar a lo anterior:"
   ]
  },
  {
   "cell_type": "code",
   "execution_count": 31,
   "metadata": {},
   "outputs": [],
   "source": [
    "def atender_pizzeria(pedido):\n",
    "    if pedido == 'bebida':\n",
    "        print('Enseguida le traigo su bebida 🍹.')\n",
    "    elif pedido == 'pizza':\n",
    "        print('Enseguida le traigo su pizza 🍕.')\n",
    "    elif pedido == 'cerveza':\n",
    "        print('Enseguida le traigo su cerveza 🍻.')\n",
    "\n",
    "\n",
    "def chequear_inventario_pizzeria(pedido, inventario):\n",
    "    if pedido not in inventario:\n",
    "        print(\"No tenemos lo que nos está pidiendo!\")    \n",
    "    return atender_pizzeria(pedido)\n"
   ]
  },
  {
   "cell_type": "code",
   "execution_count": 32,
   "metadata": {},
   "outputs": [
    {
     "name": "stdout",
     "output_type": "stream",
     "text": [
      "Enseguida le traigo su pizza 🍕.\n"
     ]
    }
   ],
   "source": [
    "inventario_pizzeria = [\"bebida\", \"pizza\", \"cerveza\"]\n",
    "\n",
    "chequear_inventario_pizzeria(\"pizza\", inventario_pizzeria)"
   ]
  },
  {
   "cell_type": "markdown",
   "metadata": {},
   "source": [
    "**Caso 1:** si respuesta es `'té'`, entonces servir el té:"
   ]
  },
  {
   "cell_type": "code",
   "execution_count": null,
   "metadata": {},
   "outputs": [],
   "source": [
    "chequear_inventario_pizzeria(\"té\", inventario_pizzeria)"
   ]
  },
  {
   "cell_type": "markdown",
   "metadata": {},
   "source": [
    "Sin embargo estamos repitiendo nuevamente código.\n",
    "\n",
    "> **Pregunta: ❓** Con lo que hemos visto, cómo podríamos arreglar esto?"
   ]
  },
  {
   "cell_type": "code",
   "execution_count": 33,
   "metadata": {},
   "outputs": [],
   "source": [
    "def chequear_inventario(funcion_atender, pedido, inventario):\n",
    "    if pedido not in inventario:\n",
    "        print(\"No tenemos lo que nos está pidiendo!\")    \n",
    "    return funcion_atender(pedido)"
   ]
  },
  {
   "cell_type": "code",
   "execution_count": 34,
   "metadata": {},
   "outputs": [
    {
     "name": "stdout",
     "output_type": "stream",
     "text": [
      "Enseguida le traigo su pizza 🍕.\n"
     ]
    }
   ],
   "source": [
    "chequear_inventario(atender_pizzeria, \"pizza\", inventario_pizzeria)"
   ]
  },
  {
   "cell_type": "code",
   "execution_count": 35,
   "metadata": {},
   "outputs": [
    {
     "name": "stdout",
     "output_type": "stream",
     "text": [
      "No tenemos lo que nos está pidiendo\n"
     ]
    }
   ],
   "source": [
    "chequear_inventario(atender_cafe, \"pizza\", inventario_pizzeria)"
   ]
  },
  {
   "cell_type": "markdown",
   "metadata": {},
   "source": [
    "### Implementar decoradores\n",
    "\n",
    "Python implementa una sintaxis especial para este tipo de funciones que reciben funciones: decoradores. En términos símples los decoradores son herramientas que pemiten **modificar el comportamiento de una función ya existente sin tener que modificar su código.** Por esto es el nombre, solo decoran, pero no modifican la esctructura."
   ]
  },
  {
   "cell_type": "code",
   "execution_count": 36,
   "metadata": {},
   "outputs": [],
   "source": [
    "def chequear_inventario(funcion_atender):\n",
    "    \n",
    "    def wrapper(pedido, inventario):\n",
    "        if pedido not in inventario:\n",
    "            print(\"No tenemos lo que nos está pidiendo!\")    \n",
    "        return funcion_atender(pedido)\n",
    "    \n",
    "    return wrapper\n",
    "            \n",
    "@chequear_inventario\n",
    "def atender_pizzeria(pedido):\n",
    "    if pedido == 'bebida':\n",
    "        print('Enseguida le traigo su bebida 🍹.')\n",
    "    elif pedido == 'pizza':\n",
    "        print('Enseguida le traigo su pizza 🍕.')\n",
    "    elif pedido == 'cerveza':\n",
    "        print('Enseguida le traigo su cerveza 🍻.')\n",
    "\n",
    "@chequear_inventario\n",
    "def atender_cafe(pedido):\n",
    "    if 'té' == pedido:\n",
    "        print('Enseguida le traigo su té 🍵.')\n",
    "    elif pedido == 'café':\n",
    "        print('Enseguida le traigo su café ☕.')\n"
   ]
  },
  {
   "cell_type": "code",
   "execution_count": 37,
   "metadata": {},
   "outputs": [
    {
     "data": {
      "text/plain": [
       "<function __main__.chequear_inventario.<locals>.wrapper(pedido, inventario)>"
      ]
     },
     "execution_count": 37,
     "metadata": {},
     "output_type": "execute_result"
    }
   ],
   "source": [
    "atender_pizzeria"
   ]
  },
  {
   "cell_type": "code",
   "execution_count": 38,
   "metadata": {},
   "outputs": [
    {
     "name": "stdout",
     "output_type": "stream",
     "text": [
      "Enseguida le traigo su pizza 🍕.\n"
     ]
    }
   ],
   "source": [
    "inventario_pizzeria = [\"bebida\", \"pizza\", \"cerveza\"]\n",
    "\n",
    "atender_pizzeria(\"pizza\", inventario_pizzeria)"
   ]
  },
  {
   "cell_type": "code",
   "execution_count": 39,
   "metadata": {},
   "outputs": [
    {
     "name": "stdout",
     "output_type": "stream",
     "text": [
      "Enseguida le traigo su café ☕.\n"
     ]
    }
   ],
   "source": [
    "atender_cafe(\"café\", inventario_cafe)"
   ]
  },
  {
   "cell_type": "markdown",
   "metadata": {},
   "source": [
    "> **Nota 🗒️:** Técnicamente no está correcto el decorador anterior ya que aún estamos entregando el inventario como parámetro de la función. \n",
    "\n",
    "Para corregir esto hay que agregar una nueva función intermedia y volver a decorar, solo que ahora pasando el inventario como parámetro del decorador."
   ]
  },
  {
   "cell_type": "code",
   "execution_count": 40,
   "metadata": {},
   "outputs": [],
   "source": [
    "def chequear_inventario(inventario):\n",
    "    def decorador_interno(funcion_atender):\n",
    "        def wrapper(pedido):\n",
    "            if pedido not in inventario:\n",
    "                print(\"No tenemos lo que nos está pidiendo!\")    \n",
    "            return funcion_atender(pedido)\n",
    "    \n",
    "        return wrapper\n",
    "    \n",
    "    return decorador_interno\n",
    "            \n",
    "@chequear_inventario(inventario_pizzeria)\n",
    "def atender_pizzeria(pedido):\n",
    "    if pedido == 'bebida':\n",
    "        print('Enseguida le traigo su bebida 🍹.')\n",
    "    elif pedido == 'pizza':\n",
    "        print('Enseguida le traigo su pizza 🍕.')\n",
    "    elif pedido == 'cerveza':\n",
    "        print('Enseguida le traigo su cerveza 🍻.')\n",
    "\n",
    "@chequear_inventario(inventario_cafe)\n",
    "def atender_cafe(pedido):\n",
    "    if 'té' == pedido:\n",
    "        print('Enseguida le traigo su té 🍵.')\n",
    "    elif pedido == 'café':\n",
    "        print('Enseguida le traigo su café ☕.')\n"
   ]
  },
  {
   "cell_type": "code",
   "execution_count": 41,
   "metadata": {},
   "outputs": [
    {
     "name": "stdout",
     "output_type": "stream",
     "text": [
      "Enseguida le traigo su café ☕.\n"
     ]
    }
   ],
   "source": [
    "atender_cafe(\"café\")"
   ]
  },
  {
   "cell_type": "code",
   "execution_count": 42,
   "metadata": {},
   "outputs": [
    {
     "name": "stdout",
     "output_type": "stream",
     "text": [
      "No tenemos lo que nos está pidiendo!\n"
     ]
    }
   ],
   "source": [
    "atender_cafe(\"pizza\")"
   ]
  },
  {
   "cell_type": "markdown",
   "metadata": {},
   "source": [
    "> **Nota 🗒️**: Los decoradores son ampliamente utilizados en el desarrollo en Python. Sin embargo, es poco probable que nos toque implementar decoradores, solo utilizarlos 😉."
   ]
  },
  {
   "cell_type": "markdown",
   "metadata": {
    "tags": []
   },
   "source": [
    "---\n",
    "\n",
    "## 7. Programación Modular y Librerías\n",
    "\n",
    "La programación modular es una técnica de de diseño de software en la que se dividen los componentes del software en distintos módulos. Este principio es agnóstico al paradigma de programación usado y está presente en la gran mayoría de proyectos de software. \n",
    "\n",
    "La idea es reducir la interdependencia entre componentes del sistema, generando piezas (o módulos) lo más independiente posibles. \n",
    "\n",
    "Python posee un manejo de módulos nativo (que ya hemos visto antes) el cuál sigue la siguiente sintaxis:\n",
    "\n",
    "```python\n",
    "import module_name\n",
    "```\n",
    "\n",
    "\n",
    "\n",
    "Un modulo en Python es simplemente un archivo con extensión ```.py``` que contiene código Python (correcto). \n",
    "Un módulo puede contener una cantidad arbitraria de objetos, como por ejemplo, clases, archivos funciones, etc. "
   ]
  },
  {
   "cell_type": "code",
   "execution_count": 43,
   "metadata": {},
   "outputs": [],
   "source": [
    "import math"
   ]
  },
  {
   "cell_type": "code",
   "execution_count": 44,
   "metadata": {},
   "outputs": [
    {
     "data": {
      "text/plain": [
       "3.141592653589793"
      ]
     },
     "execution_count": 44,
     "metadata": {},
     "output_type": "execute_result"
    }
   ],
   "source": [
    "math.pi"
   ]
  },
  {
   "cell_type": "markdown",
   "metadata": {},
   "source": [
    "### Paquetes y Librerías"
   ]
  },
  {
   "cell_type": "markdown",
   "metadata": {},
   "source": [
    "Los paquetes que pueden ser descargados desde **PyPi** or **Conda** se agregan al entorno de ejecución por lo que pueden ser directamente importados y tratados como módulos. Por ejemplo:"
   ]
  },
  {
   "cell_type": "markdown",
   "metadata": {},
   "source": [
    "#### Para instalar comando en desde Pip"
   ]
  },
  {
   "cell_type": "code",
   "execution_count": null,
   "metadata": {},
   "outputs": [],
   "source": [
    "!pip install <packagen_name>"
   ]
  },
  {
   "cell_type": "markdown",
   "metadata": {},
   "source": [
    "#### Para instalar comando en desde Pip"
   ]
  },
  {
   "cell_type": "code",
   "execution_count": null,
   "metadata": {},
   "outputs": [],
   "source": [
    "!conda install -c anaconda <package_name>"
   ]
  },
  {
   "cell_type": "code",
   "execution_count": null,
   "metadata": {},
   "outputs": [],
   "source": [
    "!conda install -c plotly plotly"
   ]
  },
  {
   "cell_type": "code",
   "execution_count": 8,
   "metadata": {},
   "outputs": [
    {
     "ename": "ModuleNotFoundError",
     "evalue": "No module named 'plotly'",
     "output_type": "error",
     "traceback": [
      "\u001b[1;31m---------------------------------------------------------------------------\u001b[0m",
      "\u001b[1;31mModuleNotFoundError\u001b[0m                       Traceback (most recent call last)",
      "\u001b[1;32m<ipython-input-8-d93c72312cc8>\u001b[0m in \u001b[0;36m<module>\u001b[1;34m\u001b[0m\n\u001b[1;32m----> 1\u001b[1;33m \u001b[1;32mimport\u001b[0m \u001b[0mplotly\u001b[0m\u001b[1;33m.\u001b[0m\u001b[0mexpress\u001b[0m \u001b[1;32mas\u001b[0m \u001b[0mpx\u001b[0m\u001b[1;33m\u001b[0m\u001b[1;33m\u001b[0m\u001b[0m\n\u001b[0m\u001b[0;32m      2\u001b[0m \u001b[1;33m\u001b[0m\u001b[0m\n\u001b[0;32m      3\u001b[0m \u001b[1;33m\u001b[0m\u001b[0m\n\u001b[0;32m      4\u001b[0m \u001b[0mdf\u001b[0m \u001b[1;33m=\u001b[0m \u001b[0mpx\u001b[0m\u001b[1;33m.\u001b[0m\u001b[0mdata\u001b[0m\u001b[1;33m.\u001b[0m\u001b[0miris\u001b[0m\u001b[1;33m(\u001b[0m\u001b[1;33m)\u001b[0m\u001b[1;33m\u001b[0m\u001b[1;33m\u001b[0m\u001b[0m\n\u001b[0;32m      5\u001b[0m fig = px.scatter(df, x=\"sepal_width\", y=\"sepal_length\", color=\"species\", marginal_y=\"violin\",\n",
      "\u001b[1;31mModuleNotFoundError\u001b[0m: No module named 'plotly'"
     ]
    }
   ],
   "source": [
    "import plotly.express as px\n",
    "\n",
    "\n",
    "df = px.data.iris()\n",
    "fig = px.scatter(df, x=\"sepal_width\", y=\"sepal_length\", color=\"species\", marginal_y=\"violin\",\n",
    "           marginal_x=\"box\", template=\"simple_white\")\n",
    "fig.show()"
   ]
  },
  {
   "cell_type": "markdown",
   "metadata": {
    "tags": []
   },
   "source": [
    "### Proyectos de Python\n",
    "\n",
    "Usualmente los proyectos de python contienen una estructura relativamente similar en donde en ciertas carpetas ubicadas en la raiz del proyecto se guarda el código (`src` o una carpeta con el nombre del proyecto por ejemplo) mientras que en otras se guarda la documentación (`docs`) entre otros.\n",
    "\n",
    "Luego, para importar se utilizan rutas relativas a la raiz del proyecto. Por ejemplo, para la siguiente estructura:\n",
    "\n",
    "    ├── proyecto1\n",
    "    │   ├── modulo1\n",
    "    │   │   ├── submodulo1\n",
    "    │   ├── modulo2\n",
    "    ├── docs\n",
    "    │   notebooks\n",
    "    ├── README\n",
    "    ├── LICENSE\n",
    "\n",
    "Podemos importar `funcion_1`, `funcion_2` de la siguiente manera:\n",
    "\n",
    "```python\n",
    "from proyecto1.modulo1.submodulo1 import funcion_1, funcion_2\n",
    "\n",
    "```\n",
    "\n",
    "Noten que se recorre toda la ruta desde la raiz del proyecto. \n",
    "\n",
    "\n",
    "> **Nota 🗒️**: Si bien para el proceso exploratorio de datos y prototipos de sistemas predictivos se puede almacenar todo en notebooks, el paso a producción de un sistema analítico o predictivo requiere si o si una estructura modular, en donde se separen y ordenen los componentes según su funcionalidad.\n",
    "\n",
    "\n"
   ]
  },
  {
   "cell_type": "markdown",
   "metadata": {},
   "source": [
    "\n",
    "### Cookiecutter y Proyecto de Data Science\n",
    "\n",
    "Generalmente es mucho más facil empezar con un template de proyecto que desde 0, ya que comunmente estos template orientan el trabajo y contienen rutinas repetitivas que son sencillas de estandarizar y adaptar. Python posee la herramienta [`Cookiecutter`](https://cookiecutter.readthedocs.io/en/stable/) la cuál funciona como generador de proyectos configurables. Los proyectos se generan a partir de [templates contribuidos por la comunidad](https://github.com/topics/cookiecutter-template).\n",
    "\n",
    "En particular, nuestro caso de estudio es el [cookiecutter para data science](https://drivendata.github.io/cookiecutter-data-science/), el cuál está enfocado en proveer una robusta estructura de proyectos enfocada en resolver problemas analíticos o predictivos.\n",
    "\n",
    "Noten que la documentación de este tiene fuertes opiniones sobre como tratar los datos, la estructura de los archivos, los notebooks, entre otras cosas. Es muy recomendable su lectura 🌟!!!\n",
    "\n",
    "La estructura de carpetas que genera es el siguiente:\n",
    "\n",
    "\n",
    "    ├── LICENSE\n",
    "    ├── Makefile           <- Makefile with commands like `make data` or `make train`\n",
    "    ├── README.md          <- The top-level README for developers using this project.\n",
    "    ├── data\n",
    "    │   ├── external       <- Data from third party sources.\n",
    "    │   ├── interim        <- Intermediate data that has been transformed.\n",
    "    │   ├── processed      <- The final, canonical data sets for modeling.\n",
    "    │   └── raw            <- The original, immutable data dump.\n",
    "    │\n",
    "    ├── docs               <- A default Sphinx project; see sphinx-doc.org for details\n",
    "    │\n",
    "    ├── models             <- Trained and serialized models, model predictions, or model summaries\n",
    "    │\n",
    "    ├── notebooks          <- Jupyter notebooks. Naming convention is a number (for ordering),\n",
    "    │                         the creator's initials, and a short `-` delimited description, e.g.\n",
    "    │                         `1.0-jqp-initial-data-exploration`.\n",
    "    │\n",
    "    ├── references         <- Data dictionaries, manuals, and all other explanatory materials.\n",
    "    │\n",
    "    ├── reports            <- Generated analysis as HTML, PDF, LaTeX, etc.\n",
    "    │   └── figures        <- Generated graphics and figures to be used in reporting\n",
    "    │\n",
    "    ├── requirements.txt   <- The requirements file for reproducing the analysis environment, e.g.\n",
    "    │                         generated with `pip freeze > requirements.txt`\n",
    "    │\n",
    "    ├── setup.py           <- Make this project pip installable with `pip install -e`\n",
    "    ├── src                <- Source code for use in this project.\n",
    "    │   ├── __init__.py    <- Makes src a Python module\n",
    "    │   │\n",
    "    │   ├── data           <- Scripts to download or generate data\n",
    "    │   │   └── make_dataset.py\n",
    "    │   │\n",
    "    │   ├── features       <- Scripts to turn raw data into features for modeling\n",
    "    │   │   └── build_features.py\n",
    "    │   │\n",
    "    │   ├── models         <- Scripts to train models and then use trained models to make\n",
    "    │   │   │                 predictions\n",
    "    │   │   ├── predict_model.py\n",
    "    │   │   └── train_model.py\n",
    "    │   │\n",
    "    │   └── visualization  <- Scripts to create exploratory and results oriented visualizations\n",
    "    │       └── visualize.py\n",
    "    │\n",
    "    └── tox.ini            <- tox file with settings for running tox; see tox.readthedocs.io\n",
    "\n",
    "\n",
    "> **Ejercicio: 📕**: Utilizar cookiecutter para generar un proyecto de ejemplo."
   ]
  },
  {
   "cell_type": "markdown",
   "metadata": {},
   "source": [
    "# Gracias por su atención"
   ]
  },
  {
   "cell_type": "markdown",
   "metadata": {},
   "source": [
    "<img src=\"https://s.france24.com/media/display/8c13820c-5b0e-11e9-bf90-005056a964fe/w:980/p:16x9/gato.webp\"> "
   ]
  }
 ],
 "metadata": {
  "kernelspec": {
   "display_name": "Python 3",
   "language": "python",
   "name": "python3"
  },
  "language_info": {
   "codemirror_mode": {
    "name": "ipython",
    "version": 3
   },
   "file_extension": ".py",
   "mimetype": "text/x-python",
   "name": "python",
   "nbconvert_exporter": "python",
   "pygments_lexer": "ipython3",
   "version": "3.8.8"
  },
  "nbTranslate": {
   "displayLangs": [
    "es",
    "en"
   ],
   "hotkey": "alt-t",
   "langInMainMenu": true,
   "sourceLang": "en",
   "targetLang": "es",
   "useGoogleTranslate": true
  },
  "toc": {
   "base_numbering": 1,
   "nav_menu": {},
   "number_sections": true,
   "sideBar": true,
   "skip_h1_title": false,
   "title_cell": "Table of Contents",
   "title_sidebar": "Contents",
   "toc_cell": false,
   "toc_position": {
    "height": "calc(100% - 180px)",
    "left": "10px",
    "top": "150px",
    "width": "269.717px"
   },
   "toc_section_display": true,
   "toc_window_display": false
  },
  "varInspector": {
   "cols": {
    "lenName": 16,
    "lenType": 16,
    "lenVar": 40
   },
   "kernels_config": {
    "python": {
     "delete_cmd_postfix": "",
     "delete_cmd_prefix": "del ",
     "library": "var_list.py",
     "varRefreshCmd": "print(var_dic_list())"
    },
    "r": {
     "delete_cmd_postfix": ") ",
     "delete_cmd_prefix": "rm(",
     "library": "var_list.r",
     "varRefreshCmd": "cat(var_dic_list()) "
    }
   },
   "types_to_exclude": [
    "module",
    "function",
    "builtin_function_or_method",
    "instance",
    "_Feature"
   ],
   "window_display": false
  }
 },
 "nbformat": 4,
 "nbformat_minor": 4
}
