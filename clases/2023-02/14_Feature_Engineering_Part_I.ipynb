{
 "cells": [
  {
   "attachments": {},
   "cell_type": "markdown",
   "metadata": {
    "id": "hQrAEIjr4m_0"
   },
   "source": [
    "# Clase 14 - Feature Engineering 📎\n",
    "\n",
    "- MDS7202: Laboratorio de Programación Científica para Ciencia de Datos\n",
    "- Profesor: Ignacio Meza De la jara"
   ]
  },
  {
   "attachments": {},
   "cell_type": "markdown",
   "metadata": {
    "id": "gNbak7104TXh"
   },
   "source": [
    "## Recapitulemos 🤠\n",
    "\n",
    "\n",
    "\n"
   ]
  },
  {
   "attachments": {},
   "cell_type": "markdown",
   "metadata": {
    "id": "Z8ytmZUX-F4s"
   },
   "source": [
    "\n",
    "    📝 Recordemos por que usamos este flujo! \n",
    "\n",
    "MLOps, o Operaciones de Aprendizaje Automático, es un conjunto de prácticas y herramientas que automatizan y gestionan el ciclo de vida del aprendizaje automático desde el desarrollo hasta la implementación. Mejora la eficiencia, consistencia, escalabilidad, reproducibilidad y colaboración entre los científicos de datos, los ingenieros de aprendizaje automático y otras partes interesadas. MLOps ayuda a las organizaciones a crear, implementar y administrar modelos de aprendizaje automático de manera confiable, escalable y eficiente, lo que en última instancia mejora la calidad de los modelos y facilita su implementación en producción.\n",
    "\n",
    "![ML ops](https://camo.githubusercontent.com/4724bc1636a3fee34f87a1fac991fc4ccd270c0a3a510db04394f90b05d065eb/68747470733a2f2f7261772e67697468756275736572636f6e74656e742e636f6d2f4d4453373230322f4d4453373230322f6d61696e2f7265637572736f732f323032332d30312f31332d4544412f6d65746f646f6c6f6769612e706e67)"
   ]
  },
  {
   "attachments": {},
   "cell_type": "markdown",
   "metadata": {
    "id": "W_SoNsDt-JEY"
   },
   "source": [
    "## Objetivos de la Clase 🎯"
   ]
  },
  {
   "attachments": {},
   "cell_type": "markdown",
   "metadata": {
    "id": "AFXUMGNe-IMq"
   },
   "source": [
    "\n",
    "\n",
    "- Comprender qué son los métodos de aprendizajes automático.\n",
    "- Comprender qué son las features en el aprendizaje automático y por qué son importantes.\n",
    "- Aprender técnicas de selección de características, como la eliminación de características redundantes o irrelevantes.\n",
    "- Aprender técnicas de transformación de características, como la normalización o la creación de características sintéticas.\n",
    "- Comprender que las características afectan el rendimiento del modelo y cómo evaluar las características seleccionadas.\n",
    "- Aprender a aplicar técnicas de feature engineering utilizando Scikit-Learn.\n",
    "\n",
    "señalar que en la segunda se van a hacer nuevas caracteristicas\n"
   ]
  },
  {
   "attachments": {},
   "cell_type": "markdown",
   "metadata": {
    "id": "QKZR-CzZ-n3w"
   },
   "source": [
    "## ¿Que es Machine Learning? 🤔"
   ]
  },
  {
   "attachments": {},
   "cell_type": "markdown",
   "metadata": {},
   "source": [
    "Machine Learning es un subcampo de la inteligencia artificial (IA) que se enfoca en el desarrollo de algoritmos y modelos informáticos que permiten a las computadoras aprender y mejorar automáticamente a través de la experiencia, sin ser programadas explícitamente para realizar tareas específicas.\n",
    "\n",
    "En lugar de ser programadas con reglas predefinidas, las máquinas de aprendizaje automático pueden aprender y adaptarse a partir de datos de entrada, identificando patrones, haciendo predicciones y tomando decisiones basadas en la información disponible. Estos modelos son entrenados utilizando datos históricos y retroalimentación, y pueden ajustarse y mejorar con el tiempo a medida que se les expone a más datos."
   ]
  },
  {
   "attachments": {},
   "cell_type": "markdown",
   "metadata": {},
   "source": [
    "<img src='https://github.com/MDS7202/MDS7202/blob/main/recursos/2023-01/14-Feature-Engineering/machine_learning.png?raw=true' width=700 />"
   ]
  },
  {
   "attachments": {},
   "cell_type": "markdown",
   "metadata": {
    "id": "LS7p1p9Z-tMg"
   },
   "source": [
    "### Esquema General de Machine Learning\n",
    "\n",
    "\n",
    "#### Unsupervised Learning / Aprendizaje No Supervisado\n",
    "\n",
    "Técnicas que no requieren datos etiquetados para entrenar modelos predictivos. Dentro de estos algoritmos encontramos los siguientes grupos: \n",
    "\n",
    "\n",
    "- **Clustering:** Técnicas para agrupar observaciones por su similitud a través de métricas de distancia (como la distancia euclideana por ejemplo). Permite encontrar grupos que no son claros ante nuestro criterio. Por ejemplo, agrupar clientes según sus características.\n",
    "\n",
    "\n",
    "- **Reducción de Dimensionalidad:** Conjuntos de técnicas que permiten representar datos en menos dimensiones que las originales. Su utilidad radica tanto en mejorar el rendimiento de los clasificadores como también en permitir visualizar datos. Ejemplo: Usar T-SNE para proyectar los datos del Better Life Index en dos dimensiones. "
   ]
  },
  {
   "attachments": {},
   "cell_type": "markdown",
   "metadata": {},
   "source": [
    "         \n",
    "<img src='https://miro.medium.com/v2/resize:fit:809/0*tamvSiqDneDfw2Vr' width=400 />            "
   ]
  },
  {
   "attachments": {},
   "cell_type": "markdown",
   "metadata": {},
   "source": [
    "   \n",
    "### Supervised Learning / Aprendizaje Supervisado\n",
    "\n",
    "Técnicas que requieren datos etiquetados para entrenar modelos predictivos. Dentro de estos algoritmos encontramos los siguientes grupos:\n",
    "\n",
    "\n",
    "- **Clasificación:** Tarea que consiste en predecir una clase/categoría. Ejemplo: Predecir si una persona tiene caries o no a partir de una imagen.\n",
    "\n",
    "\n",
    "- **Regresión:** Tarea que consiste en predecir un número real. Ejemplo: A partir del registro metereológico, elaborar un clasificador que permita predecir la temperatura de mañana."
   ]
  },
  {
   "attachments": {},
   "cell_type": "markdown",
   "metadata": {},
   "source": [
    "<img src='https://static.javatpoint.com/tutorial/machine-learning/images/supervised-machine-learning.png' width=400 />"
   ]
  },
  {
   "attachments": {},
   "cell_type": "markdown",
   "metadata": {},
   "source": [
    "> **Pregunta ❓:** ¿Qué necesito para desarrollar un modelo predictivo?"
   ]
  },
  {
   "attachments": {},
   "cell_type": "markdown",
   "metadata": {
    "id": "xYa6XjsD9fDH"
   },
   "source": [
    "## ¿Qué es Feature Engineering? 🧮"
   ]
  },
  {
   "attachments": {},
   "cell_type": "markdown",
   "metadata": {
    "id": "8xEZkmnQ89it"
   },
   "source": [
    "\n",
    "\n",
    "Feature engineering es el proceso de seleccionar, transformar y crear características relevantes de entrada para construir un modelo de aprendizaje automático preciso y eficiente.\n",
    "\n",
    "> **Pregunta ❓:** ¿Se necesita algún conocimiento previo para realizar Feature Engineering?"
   ]
  },
  {
   "attachments": {},
   "cell_type": "markdown",
   "metadata": {},
   "source": [
    "## Problema a visitar: House Pricing\n",
    "\n",
    "![House Pricing](https://storage.googleapis.com/kaggle-competitions/kaggle/5407/media/housesbanner.png)\n",
    "\n",
    "Fuente: https://www.kaggle.com/c/house-prices-advanced-regression-techniques\n",
    "\n",
    "Al igual que en la clase anterior, el dataset **`house pricing`** consiste en 80 variables (79 variables explicativas más una variable objetivo) que describen aspectos fundamentales de hogares residenciales en la ciudad de *Ames, Iowa*. \n",
    "\n",
    "La variable objetivo es el precio final de cada hogar (regresión)"
   ]
  },
  {
   "cell_type": "code",
   "execution_count": null,
   "metadata": {},
   "outputs": [],
   "source": [
    "# Importamos librerías a utilizar en la clase\n",
    "import numpy as np\n",
    "import pandas as pd\n",
    "from scipy import stats\n",
    "from scipy.stats import norm\n",
    "\n",
    "import plotly.express as px"
   ]
  },
  {
   "cell_type": "code",
   "execution_count": null,
   "metadata": {},
   "outputs": [],
   "source": [
    "# El conjunto a trabajar es el de entrenamiento\n",
    "df = pd.read_csv(\n",
    "    \"https://raw.githubusercontent.com/MDS7202/MDS7202/main/recursos/2023-01/13-EDA//train.csv\",\n",
    "    index_col=\"Id\",\n",
    ")"
   ]
  },
  {
   "attachments": {},
   "cell_type": "markdown",
   "metadata": {},
   "source": [
    "> **Actividad 📎**: Imaginen que nos pasan estos datos y nos señalan que el conjunto de datos esta compuesto por:"
   ]
  },
  {
   "attachments": {},
   "cell_type": "markdown",
   "metadata": {},
   "source": [
    "- Terreno 🏔️\n",
    "        \"LotArea\",  # Area del terreno\n",
    "        \"LandSlope\",  # Pendiente del terreno\n",
    "        \"Neighborhood\",  # Barrio\n",
    "- Metadatos de la Vivienda 📆\n",
    "        \"BldgType\",  # Tipo de vivienda\n",
    "        \"YearBuilt\",  # Año de construcción\n",
    "        \"YearRemodAdd\",  # Año de remodelación\n",
    "        \"Utilities\",  # Agua, luz, etc...\n",
    "- Materiales 🧱\n",
    "        \"Foundation\",  # Fundación de la vivienda\n",
    "        \"RoofMatl\",  # Material del techo\n",
    "        \"RoofStyle\",  # Estilo del techo\n",
    "        \"Exterior1st\",  # Material del Exterior\n",
    "        \"ExterCond\",  # Condición del material exterior\n",
    "- Interior de la casa 🏡\n",
    "        \"GrLivArea\",  # Area habitable sobre el nivel del suelo.\n",
    "        \"1stFlrSF\",  # Area primer piso\n",
    "        \"2ndFlrSF\",  # Area segundo piso\n",
    "        \"FullBath\",  # Baños completos\n",
    "        \"HalfBath\",  # Baños de visita?\n",
    "        \"BedroomAbvGr\",  # Piezas\n",
    "        \"KitchenAbvGr\",  # Cocinas\n",
    "        \"KitchenQual\",  # Calidad de la cocina\n",
    "- Sótano 🪨\n",
    "        \"TotalBsmtSF\",  # Total sótano\n",
    "        \"BsmtCond\",  # Condición del sótano\n",
    "- Garaje 🚗\n",
    "        \"GarageType\",  # Tipo de garaje\n",
    "        \"GarageCars\",  # Cantidad de autos por garaje\n",
    "- Piscina 🤽‍♂️\n",
    "        \"PoolArea\",  # Area de la piscina\n",
    "        \"PoolQC\",  # Calidad de la piscina\n",
    "- Calefacción y Aire 🌦️\n",
    "        \"Heating\",  # Calefacción\n",
    "        \"HeatingQC\",  # Calidad de la Calefacción\n",
    "        \"CentralAir\",  # Aire Acondicionado Central\n",
    "- Calidad y Condición 🌟\n",
    "        \"OverallQual\",  # Calidad general\n",
    "        \"OverallCond\",  # Condición general actual\n",
    "- Datos de la venta  💵\n",
    "        \"SaleType\",  # Tipo de venta\n",
    "        \"SaleCondition\",  # Condición de la vivienda en la venta\n",
    "        \"SalePrice\",  # Precio de la venta"
   ]
  },
  {
   "cell_type": "code",
   "execution_count": null,
   "metadata": {},
   "outputs": [],
   "source": [
    "df.head(5)"
   ]
  },
  {
   "attachments": {},
   "cell_type": "markdown",
   "metadata": {},
   "source": [
    "### ¿Por que es importante? 🤨"
   ]
  },
  {
   "attachments": {},
   "cell_type": "markdown",
   "metadata": {},
   "source": [
    "Muchos de los algoritmos de aprendizaje automatico **poseen un mejor desempeño cuando los valores de las features** (aka columnas) **se transforman a un valor facil de interpretar por los modelos**. Por otro lado, datos sucios pueden entorpecer las predicciones generadas por nuestros modelos, al igual que las escalas en que se presentan los datos. Por esto, **es relevante que las features que utilizemos se encuentren en escalas similares y con distribuciones relativamente similares a la distribución normal**.\n",
    "\n",
    "> Importante ❗: Gran parte de los modelos que se generan en la industria son centrados en datos, a diferencia de la academia el trabajo no se centra en el desarrollo de modelos ultra complejos, sino en modelos completamente estandarizados y por ello se necesita un mayor tiempo en la extracción de features desde los datos. Fuente interesante: [Data-Centric Approach vs Model-Centric Approach in Machine Learning](https://neptune.ai/blog/data-centric-vs-model-centric-machine-learning).\n",
    "\n",
    "Consideren los siguientes ejemplos:"
   ]
  },
  {
   "attachments": {},
   "cell_type": "markdown",
   "metadata": {},
   "source": [
    "**Ejemplo 1**\n",
    "\n",
    "- El gráfico de la derecha se grafica una variable con respecto a otra sin escalar \n",
    "- El gráfico de la izquierda muestra ambas variables estandarizadas:\n",
    "\n",
    "> **Pregunta ❓:** ¿Es entendible para un humano el gráfico de la derecha?¿Qué se puede interpretar de este?¿Qué efectos tendrá usar las variables no escaladas (izquierda) vs las escaladas (derecha) usando algún modelo predictivo basado en distancias?\n",
    "\n",
    "<img src='https://github.com/MDS7202/MDS7202/blob/main/recursos/2023-01/14-Feature-Engineering/escalamiento_2.png?raw=true' width=1000 />\n",
    "\n",
    "<div align='center'>\n",
    "    Fuente: <a href='https://scikit-learn.org/stable/auto_examples/preprocessing/plot_all_scaling.html'>Compare the effect of different scalers on data with outliers en el User Guide de Scikit-learn</a>.\n",
    "</div>\n",
    "\n",
    "<div align='center'>\n",
    "    Los Datos son del dataset <a href='https://scikit-learn.org/stable/datasets/real_world.html#california-housing-dataset'>California Housing dataset</a>. \n",
    "</div>"
   ]
  },
  {
   "attachments": {},
   "cell_type": "markdown",
   "metadata": {},
   "source": [
    "**Ejemplo 2**\n",
    "\n",
    "- El gráfico de la derecha se grafica una variable un conjunto de variables en 2 dimensiones diferenciadas por la clase. \n",
    "- El gráfico de la izquierda se grafica el mismo grafico pero con el conjunto de variables transformado:\n",
    "\n",
    "> **Pregunta ❓:** ¿Cual de los dos conjuntos de datos es mas facil de separar?¿Que efectos tendría utilizar las variables en el estado original contra el estado final para algún modelo lineal?.\n",
    "\n",
    "<img src='https://github.com/MDS7202/MDS7202/blob/main/recursos/2023-01/14-Feature-Engineering/feature-engineering1.jpg?raw=true' width=1000 />\n",
    "\n",
    "<div align='center'>\n",
    "    Fuente: <a href='https://www.kdnuggets.com/2018/12/feature-engineering-explained.html'>Feature Engineering for Machine Learning: 10 Examples</a>.\n",
    "</div>"
   ]
  },
  {
   "attachments": {},
   "cell_type": "markdown",
   "metadata": {
    "id": "f77XXaFh9r-D",
    "tags": []
   },
   "source": [
    "### ¿Pero que hay del Deep Learning, no que solucionaba este problema? 😣"
   ]
  },
  {
   "attachments": {},
   "cell_type": "markdown",
   "metadata": {
    "id": "pUafO1u69q6R"
   },
   "source": [
    "Si bien uno de los aspectos más relevantes del Deep Learning es la extracción automática de las features desde los datos, sin embargo:\n",
    "\n",
    "- El desarrollo actual de deep learning no nos permite abstraer todas las features desde los datos.\n",
    "- Muchas empresas no utilizan deep learning para generar modelos, ya sea por capacidad o simplemente porque no lo necesitan. **Recalcar, el deep learning no es la solución para todo!** [Ejemplo](https://arxiv.org/pdf/2106.03253.pdf)\n",
    "- Deep learning suele tener buenos resultados en datos no estructurados, sin embargo, en datos tabulares no."
   ]
  },
  {
   "attachments": {},
   "cell_type": "markdown",
   "metadata": {
    "id": "U7gJTJFA9oGe"
   },
   "source": [
    "### ¿Como podemos realizar este proceso? 💻"
   ]
  },
  {
   "attachments": {},
   "cell_type": "markdown",
   "metadata": {
    "id": "W2v44Cpv9lQ9"
   },
   "source": [
    "\n",
    "\n",
    "Actualmente podemos realizar feature engineering de muchas formas, especificamente no necesitamos mas que `numpy` o `Pandas` para generar features, pero hay un sin fin de herramientas que nos pueden facilitar la vida.\n",
    "\n",
    "En aspectos generales, la extracción de caracteristicas la podemos realizar de las siguientes formas:\n",
    "\n",
    "- **Python**: Es uno de los lenguajes de programación más populares para el aprendizaje automático y cuenta con varias bibliotecas útiles para el feature engineering, como Pandas, NumPy y Scikit-learn.\n",
    "\n",
    "- **R**: Es otro lenguaje de programación popular para el aprendizaje automático y cuenta con bibliotecas como dplyr y tidyr para el manejo y transformación de datos.\n",
    "\n",
    "- **SQL**: Puede ser utilizado para realizar consultas y transformaciones en bases de datos para la selección y extracción de características.\n",
    "\n",
    "- **Big Data**: Tecnologías como Hadoop y Spark permiten el procesamiento y análisis de grandes cantidades de datos y pueden ser útiles para el feature engineering en grandes conjuntos de datos.\n",
    "\n",
    "- **AutoML**: Herramientas como H2O.ai o DataRobot pueden automatizar parte del proceso de feature engineering, utilizando técnicas de aprendizaje automático para seleccionar y transformar automáticamente las características.\n",
    "\n",
    ">Importante: Para efectos de este curso nos enfocaremos en el desarrollo de features utilizando `Python`, sin embargo en la industria se van a encontrar con la utilización de `SQL`, `PySpark`, `DataFlow`, entre otras para la extracción.\n",
    "\n",
    "\n",
    "\n",
    "\n",
    "<img src=\"https://www.tecton.ai/wp-content/uploads/2020/10/whatisfeaturestore3.svg\" width=400/>"
   ]
  },
  {
   "attachments": {},
   "cell_type": "markdown",
   "metadata": {
    "id": "Vdg2OynTEp7F"
   },
   "source": [
    "## Veamos nuestra librería core: Scikit-Lern ⚒️"
   ]
  },
  {
   "attachments": {},
   "cell_type": "markdown",
   "metadata": {
    "id": "Jt5zcy-yFvrE"
   },
   "source": [
    "<img src=\"https://raw.githubusercontent.com/MDS7202/MDS7202/a60ef458182c2f26af3aaf4f8e0446a8512d4f75/clases/2022-01/15_Preprocesamiento_Intro_a_Scikit-Learn/resources/scikit-learn.png\" width=400/>\n",
    "\n",
    "[`scikit-learn`](https://scikit-learn.org/stable/) es probablemente una de las librerías de Aprendizaje Automático más populares para Python. *Open-source* y construida sobre `numpy`, `scipy` y `matplotlib`, ofrece interfaces y flujos de trabajos (*frameworks*) simples y eficientes para construir aplicaciones enfocadas análisis de datos y predicción.\n",
    "Sus *APIs* permite generar código limpio y está provista de una extensa documentación.\n",
    "\n",
    "> Parentesis: API: **Application Programming Interface / Interfaz de programación de aplicaciones** - Son las interfaces comunes (funciones, objetos, métodos, etc..) que un software o librería ofrece para comunicarse con el resto. Esta define entre otras cosas: el tipo de llamadas o funciones que pueden ser hechas, como hacerlas, el tipo de datos de entrada y salida, las conveciones, etc...\n",
    "\n",
    "Una gran ventaja de Scikit-learn consiste en su estructura transversal de clases y herencia. La mayoría de clase pertenece a alguna de estas dos categorías:\n",
    "\n",
    "* *`transformers`*: Permite transformar datos input antes de utilizar algoritmos de aprendizaje sobre ellos. Con las clases *`transformers`*, se pueden realizar imputaciones de valores faltantes, estandrización de variables, escalamientos y seleccion de caracterísiticas por medio de algoritmos especializados. Esto comunmente se logra a través de las interfaces\n",
    "    - `fit` que permite aprender los parámetros de la transformación, por ejemplo la media y varianza en la normalización.\n",
    "    - `transform` que aplica la transformación a los datos.\n",
    "    - `fit_transform` permite ambas operaciones al mismo tiempo.\n",
    "\n",
    "* *`estimators`*: Proveen los algoritmos de aprendizaje automático a través de los métodos `fit` y `predict`.\n",
    "\n",
    "El método usual de importación se basa en seleccionar un submódulo de la librería indicando (de manera opcional) el objeto que se utilizará. Por ejemplo, si se desea utilizar el escalador de datos Min-Máx del submódulo `preprocessing`, se haría de la manera usual, por medio de:\n",
    "\n",
    "```python\n",
    "from sklearn.preprocessing import StandardScaler\n",
    "```\n",
    "\n",
    "> **Nota**: No se recomienda importar la librería completa `import sklearn as sk` pues su estructura de submódulos es suficientemente grande, como para considerar cada uno como una librería. \n",
    "\n",
    "\n",
    "A lo largo del curso se estudiarán distintos componentes de esta librería. Durante esta clase nos centraremos en los módulos `preprocessing`, `compose` y `pipeline`."
   ]
  },
  {
   "attachments": {},
   "cell_type": "markdown",
   "metadata": {
    "id": "62-sDVIg39ya"
   },
   "source": [
    "## Operaciones Comunes de Feature Engineering"
   ]
  },
  {
   "attachments": {},
   "cell_type": "markdown",
   "metadata": {},
   "source": [
    "Debido a la importancia que posee de la etapa de Feature Engineering en los proyectos de ML, se han desarrollado muchas técnicas para agilizar el proceso. \n",
    "\n",
    "Este proceso incluye:\n",
    "\n",
    "- Creación de nuevas Features a partir de operaciones usando los datos disponibles.\n",
    "- Transformaciones como las vistas en la clase de preprocesamiento (escalamiento, normalización, one hot encoding para variables categóricas etc...).\n",
    "- Reducción de Características en la que se combinan/reducen características redundantes (usando por ejemplo, PCA).\n",
    "- Selección de Características en la que a partir de diversos criterios se seleccionan las características que más aportan al modelo.\n",
    "\n",
    "El proceso de generar y preprocesar las features requiere mucha creatividad y al mismo conocimiento del dominio del problema.\n",
    "\n",
    "Para efectos de esta clase revisaremos las siguientes: \n",
    "\n",
    "- **Missing Values**\n",
    "- **Escalamiento de variables**\n",
    "- **Discretización** \n",
    "- **Codificación de características categóricas**\n",
    "\n",
    "Sin embargo, a pesar de que no forma parte de un proceso de feature Engineering tradicional, comentaremos que es el **data-drift** y porque es importante que lo midas al momento de trabajar con tus variables."
   ]
  },
  {
   "attachments": {},
   "cell_type": "markdown",
   "metadata": {
    "tags": []
   },
   "source": [
    "## Escalamiento\n",
    "\n",
    "Un paso importante antes de introducir features en los modelos, es el escalamiento de las variables. El objetivo de esto es que el dominio de las variables sea similar y de esta forma obtener mejores resultados. Este proceso es una de las cosas más sencillas que se pueden hacer y que (por lo general) se traduce en un aumento del rendimiento del modelo. Ojo que no hacer esto puede hacer que su modelo no tenga sentido como es el caso de algoritmos clásicos.\n",
    "\n",
    "Tomar en consideración que muchos de los algoritmos modernos como **XGBoost** señalan que no necesitan escalamiento para el entrenamiento, sin embargo, escalar las variables de entrada puede impactar positivamente en el poder predictivo del modelo.\n",
    "\n",
    "Para realizar el escalamiento utilizaremos el módulo `sklearn.preprocessing`, este entrega diversas técnicas de escalamiento, normalización y estandarización de datos a través de clases `Transformers` (no confundir con los transformers de Deep Learning).\n",
    "\n",
    "### Estandarización\n",
    "\n",
    "La estándarización es una de las transformaciones mas relevantes a tener presente durante el modelamiento. esto debido a que un gran cantidad de algoritmos de aprendizaje automático / estadístico, asumen que los datos a operar se encuentran **distribuidos de manera normal**. **Si los datos no se distribuyen normalmente y contienen valores atípicos**, **es posible que la media y la desviación típica no reflejen con exactitud la tendencia central y la variabilidad de los datos**.\n",
    "\n",
    "En la práctica, se ignora la forma de la distribución a trabajar y simplemente e transforma removiendo la media y escalando por la desviación estándar.\n",
    "\n",
    "\n",
    "El objeto `StandarScaler` permite estandarizar datos.\n",
    "\n",
    "**Ejemplo**"
   ]
  },
  {
   "cell_type": "code",
   "execution_count": null,
   "metadata": {},
   "outputs": [],
   "source": [
    "import plotly.express as px\n",
    "\n",
    "px.histogram(df, x='OverallQual')"
   ]
  },
  {
   "cell_type": "code",
   "execution_count": null,
   "metadata": {},
   "outputs": [],
   "source": [
    "px.histogram(df, x='OverallCond')"
   ]
  },
  {
   "cell_type": "code",
   "execution_count": null,
   "metadata": {},
   "outputs": [],
   "source": [
    "px.histogram(df, x='GarageCars')"
   ]
  },
  {
   "cell_type": "code",
   "execution_count": null,
   "metadata": {},
   "outputs": [],
   "source": [
    "px.histogram(df, x='GarageArea')"
   ]
  },
  {
   "cell_type": "code",
   "execution_count": null,
   "metadata": {},
   "outputs": [],
   "source": [
    "px.histogram(df, x='GrLivArea')"
   ]
  },
  {
   "cell_type": "code",
   "execution_count": null,
   "metadata": {},
   "outputs": [],
   "source": [
    "cols_to_estandarize = [\n",
    "    'OverallQual',\n",
    "    'OverallCond',\n",
    "    'GarageCars',\n",
    "    'GarageArea',\n",
    "    'GrLivArea'\n",
    "]\n",
    "fig1 = px.histogram(df[cols_to_estandarize].melt(),\n",
    "             x='value',\n",
    "             color='variable',\n",
    "             barmode='group')\n",
    "\n",
    "fig1.show()"
   ]
  },
  {
   "attachments": {},
   "cell_type": "markdown",
   "metadata": {},
   "source": [
    "La transformación a aplicar es mover todos los datos a una distribución normal con media 0 y varianza 1.\n",
    "\n",
    "Para esto, por cada dato: \n",
    "    \n",
    "$$ z = \\frac{x - \\mu}{\\sigma}$$\n",
    "\n",
    "En donde $\\mu$ es la media de la columna y $\\sigma$ es la desviación estándar."
   ]
  },
  {
   "attachments": {},
   "cell_type": "markdown",
   "metadata": {},
   "source": [
    "Para esto, importamos escalador, lo inicializamos y luego ejecutamos `fit_transform` sobre los datos.\n",
    "Notese que esto retorna un arreglo numpy con los datos escalados:"
   ]
  },
  {
   "cell_type": "code",
   "execution_count": null,
   "metadata": {},
   "outputs": [],
   "source": [
    "from sklearn.preprocessing import StandardScaler, MinMaxScaler\n",
    "\n",
    "standard_scaler = StandardScaler()\n",
    "\n",
    "estandarized_df = standard_scaler.fit_transform(df.loc[:, cols_to_estandarize])\n",
    "\n",
    "estandarized_df"
   ]
  },
  {
   "attachments": {},
   "cell_type": "markdown",
   "metadata": {},
   "source": [
    "Por comodidad, convertimos los datos escalados a un Dataframe:"
   ]
  },
  {
   "cell_type": "code",
   "execution_count": null,
   "metadata": {},
   "outputs": [],
   "source": [
    "estandarized_df = pd.DataFrame(estandarized_df, columns=cols_to_estandarize)\n",
    "estandarized_df"
   ]
  },
  {
   "cell_type": "code",
   "execution_count": null,
   "metadata": {},
   "outputs": [],
   "source": [
    "estandarized_df.describe()"
   ]
  },
  {
   "attachments": {},
   "cell_type": "markdown",
   "metadata": {},
   "source": [
    "Veamos ahora como se muestran las distribuciones de los datos estandarizados"
   ]
  },
  {
   "attachments": {},
   "cell_type": "markdown",
   "metadata": {},
   "source": [
    "\n",
    "Al aplicar `.fit_transform()` se obtienen los parámetros de media `.mean_` y desviación estándar `.scale_` para cada columna del dataframe operado. Observe que tales atributos del objeto tipo `StandardScaler` son públicos."
   ]
  },
  {
   "cell_type": "code",
   "execution_count": null,
   "metadata": {},
   "outputs": [],
   "source": [
    "standard_scaler"
   ]
  },
  {
   "cell_type": "code",
   "execution_count": null,
   "metadata": {},
   "outputs": [],
   "source": [
    "standard_scaler.mean_"
   ]
  },
  {
   "cell_type": "code",
   "execution_count": null,
   "metadata": {},
   "outputs": [],
   "source": [
    "standard_scaler.scale_"
   ]
  },
  {
   "cell_type": "code",
   "execution_count": null,
   "metadata": {},
   "outputs": [],
   "source": [
    "px.histogram(estandarized_df[cols_to_estandarize].melt(),\n",
    "             x='value',\n",
    "             color='variable',\n",
    "             barmode='group')"
   ]
  },
  {
   "cell_type": "code",
   "execution_count": null,
   "metadata": {},
   "outputs": [],
   "source": [
    "estandarized_df.plot.kde(figsize=(16,9), bw_method=0.5)"
   ]
  },
  {
   "attachments": {},
   "cell_type": "markdown",
   "metadata": {},
   "source": [
    "> **Pregunta ❓**: ¿Qué sucede con las variables que se alejan mucho de ser normales?"
   ]
  },
  {
   "cell_type": "code",
   "execution_count": null,
   "metadata": {},
   "outputs": [],
   "source": [
    "px.histogram(df, x='BsmtUnfSF')"
   ]
  },
  {
   "attachments": {},
   "cell_type": "markdown",
   "metadata": {},
   "source": [
    "### Escalamiento mínimo-máximo\n",
    "\n",
    "Una buena alternativa al método anterior, es el escalamiento por rango, este tiene la forma:\n",
    "\n",
    "\\begin{equation}\n",
    "\\frac{x_{i} - \\min(x)}{\\max (x)-\\min (x)}\n",
    "\\end{equation}\n",
    "\n",
    "para $x$ columna a tratar, $x_i$ elemento a transformar. Esta transformación permite hacer que los datos se muevan entre 0 y 1 y puede ser utilizado y la distribución de los datos no normales. \n",
    "\n",
    "> **Nota:** este transformador se ve afectado por la presencia de outliers. "
   ]
  },
  {
   "cell_type": "code",
   "execution_count": null,
   "metadata": {},
   "outputs": [],
   "source": [
    "px.histogram(df, 'Fireplaces')"
   ]
  },
  {
   "cell_type": "code",
   "execution_count": null,
   "metadata": {},
   "outputs": [],
   "source": [
    "cols_to_scale = ['BsmtUnfSF', 'Fireplaces']\n",
    "\n",
    "# BsmtUnfSF = Unfinished square feet of basement area\n",
    "df.loc[:, 'BsmtUnfSF'].plot.hist(backend='plotly')"
   ]
  },
  {
   "cell_type": "code",
   "execution_count": null,
   "metadata": {},
   "outputs": [],
   "source": [
    "from sklearn.preprocessing import MinMaxScaler\n",
    "\n",
    "minmax_scaler = MinMaxScaler()\n",
    "\n",
    "scaled_data = minmax_scaler.fit_transform(df.loc[:, cols_to_scale])\n",
    "scaled_data = pd.DataFrame(scaled_data, columns=cols_to_scale)"
   ]
  },
  {
   "cell_type": "code",
   "execution_count": null,
   "metadata": {},
   "outputs": [],
   "source": [
    "scaled_data.describe()"
   ]
  },
  {
   "cell_type": "code",
   "execution_count": null,
   "metadata": {},
   "outputs": [],
   "source": [
    "scaled_data.plot.hist(backend='plotly', barmode='overlay')"
   ]
  },
  {
   "attachments": {},
   "cell_type": "markdown",
   "metadata": {},
   "source": [
    "Comprobamos minimos y máximos:"
   ]
  },
  {
   "cell_type": "code",
   "execution_count": null,
   "metadata": {},
   "outputs": [],
   "source": [
    "scaled_data.min()"
   ]
  },
  {
   "cell_type": "code",
   "execution_count": null,
   "metadata": {},
   "outputs": [],
   "source": [
    "scaled_data.max()"
   ]
  },
  {
   "attachments": {},
   "cell_type": "markdown",
   "metadata": {},
   "source": [
    "Si se desea escalar por rango, la mejor práctica es comprender los mínimos y máximos *absolutos* para cada columna. Esto se refiere, a las cotas superiores e inferiores que posee la columna **por definición**, a modo de ejemplo, considere un dataframe con las notas de una asginatura donde se enzeña análisis de datos, se sabe que la nota máxima en cierto ítem se codifica en una columna y su máximo es en efecto es 7.0, sin embargo el mínimo en dicha columna es 1.5, que es distinto al mínimo natural para dicho item que es 1.0. Esto puede acarrear problemas con datos nuevos, sobretodo si aparece una nota inferior a 1.5. \n",
    "\n",
    "> **Ejercicios 📝**\n",
    "\n",
    "1. Investigue los parámetros que se deben usar para proporcionar escalamiento por rango con valores máximos y mínimos proporcionados explícitamente. \n",
    "\n",
    "2. Estudie el transformador `MaxAbsScaler`."
   ]
  },
  {
   "cell_type": "code",
   "execution_count": null,
   "metadata": {},
   "outputs": [],
   "source": []
  },
  {
   "attachments": {},
   "cell_type": "markdown",
   "metadata": {},
   "source": [
    "### Outliers\n",
    "\n",
    "Un outlier es un atípicos que están fuera del rango comun del resto de los datos."
   ]
  },
  {
   "cell_type": "code",
   "execution_count": null,
   "metadata": {},
   "outputs": [],
   "source": [
    "px.histogram(df, x='LotArea', marginal='box')"
   ]
  },
  {
   "cell_type": "code",
   "execution_count": null,
   "metadata": {},
   "outputs": [],
   "source": [
    "minmax_scaler = MinMaxScaler()\n",
    "scaled_data = minmax_scaler.fit_transform(df.loc[:, ['LotArea']])\n",
    "scaled_data = pd.DataFrame(scaled_data, columns=['LotArea'])\n",
    "scaled_data.plot.hist(backend='plotly', barmode='overlay')"
   ]
  },
  {
   "attachments": {},
   "cell_type": "markdown",
   "metadata": {},
   "source": [
    "> **Pregunta:** ¿Qué pasa cuando queremos estandarizar pero tenemos outliers?\n",
    "\n",
    "Respuesta: La gran mayoría de los datos tienen a quedar en un rango muy acotado. En el caso anterior, hacia la izquierda. "
   ]
  },
  {
   "cell_type": "code",
   "execution_count": null,
   "metadata": {},
   "outputs": [],
   "source": [
    "# media con los todos los datos de LotArea\n",
    "original = round(df['LotArea'].describe(), 3)\n",
    "original.name = 'LotArea Original'\n",
    "\n",
    "# datos presentes solo en el rango intercuantílico\n",
    "q1 = df['LotArea'].quantile(.25)\n",
    "q3 = df['LotArea'].quantile(.75)\n",
    "mask = df['LotArea'].between(q1, q3, inclusive='both')\n",
    "iqr = df.loc[mask, 'LotArea']\n",
    "iqr.name ='LotArea Filtro IQR'\n",
    "iqr = round(iqr.describe(), 3)"
   ]
  },
  {
   "attachments": {},
   "cell_type": "markdown",
   "metadata": {},
   "source": [
    "Observen las diferencias entre las medias y las desviaciones estándar:"
   ]
  },
  {
   "cell_type": "code",
   "execution_count": null,
   "metadata": {},
   "outputs": [],
   "source": [
    "desc = pd.concat([original, iqr], axis=1)\n",
    "desc"
   ]
  },
  {
   "attachments": {},
   "cell_type": "markdown",
   "metadata": {},
   "source": [
    "Si normalizamos usando estandarización original, cada dato va a ser dividido por 9981, 9 veces más grande que la usando la versión sin outliers usando IQR!\n",
    "\n",
    "Esto en términos prácticos hará que los datos tiendan a concentrarse mucho más cercanos a la media."
   ]
  },
  {
   "attachments": {},
   "cell_type": "markdown",
   "metadata": {},
   "source": [
    "### Transformación Logaritmica"
   ]
  },
  {
   "attachments": {},
   "cell_type": "markdown",
   "metadata": {},
   "source": [
    "La transformación logarítmica es un método de transformación de datos en el que **se sustituye cada variable x por un log(x + c)**, utilizando un base logaritmica y constante **c** escogida por el analista. Con **este tipo de transformación se reduce o elimina la asimetría de nuestros datos originales**, PERO, para poder utilizar esta transformación es importante que los datos originales deben tener una distribución logarítmica normal. De lo contrario, la transformación logarítmica no funcionará.\n",
    "\n",
    "$$log(X+c), \\, c \\in R$$\n",
    "\n",
    "Si bien esta transformación suele ser una de las más útiles, transformar las variables genera una perdide da interpretabilidad directa en los datos, por esta razón se deben realizar transformaciones para visualizar el impacto de x en su dominio original. Para más información revisar el siguiente [artículo](https://medium.com/@kyawsawhtoon/log-transformation-purpose-and-interpretation-9444b4b049c9)."
   ]
  },
  {
   "cell_type": "code",
   "execution_count": null,
   "metadata": {},
   "outputs": [],
   "source": [
    "def log_transform(x):\n",
    "    return np.log(x + 1)"
   ]
  },
  {
   "cell_type": "code",
   "execution_count": null,
   "metadata": {},
   "outputs": [],
   "source": [
    "px.histogram(df['BsmtUnfSF'], marginal='box', barmode='overlay')"
   ]
  },
  {
   "cell_type": "code",
   "execution_count": null,
   "metadata": {},
   "outputs": [],
   "source": [
    "log_transformer = log_transform(df['LotArea'])\n",
    "\n",
    "px.histogram(log_transformer, marginal='box', barmode='overlay')"
   ]
  },
  {
   "attachments": {},
   "cell_type": "markdown",
   "metadata": {},
   "source": [
    "### Transformación Robusta\n",
    "\n",
    "Cuando se trabaja con columnas que poseen valores fuera de rango (outliers) las transformaciones anteriores pueden fallar. En este caso, se recomienda utilizar una transformación similar a la estandarización, pero que trabaje sobre la mediana como media y el rango intercuantílico como desviación estándar:\n",
    "\n",
    "\\begin{equation}\n",
    "\\frac{x_i - Q_2(x)}{Q_3(x) - Q_1(x)}\n",
    "\\end{equation}\n",
    "\n",
    "Donde $IQR = Q_3(x) - Q_1(x)$ es el rango intercuartílico de la columna $x$. \n",
    "\n",
    "En otras palabras, por cada ejemplo se sustrae la mediana y se divide por el rango intercuartil 75%- 25%"
   ]
  },
  {
   "cell_type": "code",
   "execution_count": null,
   "metadata": {},
   "outputs": [],
   "source": [
    "# Ejemplo para obtener IQR\n",
    "data = np.array([1, 14, 19, 20, 22, 24, 26, 47])\n",
    "\n",
    "# Calculamos rango intercurtil\n",
    "q3, q1 = np.percentile(data, [75 ,25])\n",
    "q3 - q1"
   ]
  },
  {
   "attachments": {},
   "cell_type": "markdown",
   "metadata": {},
   "source": [
    "**Ejemplo**"
   ]
  },
  {
   "attachments": {},
   "cell_type": "markdown",
   "metadata": {},
   "source": [
    "Se importa el objeto `RobustScaler` y se aplica"
   ]
  },
  {
   "cell_type": "code",
   "execution_count": null,
   "metadata": {},
   "outputs": [],
   "source": [
    "px.histogram(df['LotArea'])"
   ]
  },
  {
   "cell_type": "code",
   "execution_count": null,
   "metadata": {},
   "outputs": [],
   "source": [
    "from sklearn.preprocessing import RobustScaler\n",
    "\n",
    "robust_scaler = RobustScaler()\n",
    "\n",
    "lot_area_standarized = standard_scaler.fit_transform(df[['LotArea']])\n",
    "robust_scaled_lot_area = robust_scaler.fit_transform(df[['LotArea']])"
   ]
  },
  {
   "cell_type": "code",
   "execution_count": null,
   "metadata": {},
   "outputs": [],
   "source": [
    "comparacion = np.concatenate([lot_area_standarized, robust_scaled_lot_area], axis=1)\n",
    "comparacion = pd.DataFrame(comparacion, columns=['Estandarizacion Común', 'Estandarización Robusta'])"
   ]
  },
  {
   "cell_type": "code",
   "execution_count": null,
   "metadata": {},
   "outputs": [],
   "source": [
    "px.histogram(comparacion, marginal='box', barmode='overlay')"
   ]
  },
  {
   "attachments": {},
   "cell_type": "markdown",
   "metadata": {},
   "source": [
    "Podemos observar como los datos en la estandarización robusta se distribuyen de forma mas amplia que en caso de la estandarización normal.\n"
   ]
  },
  {
   "attachments": {},
   "cell_type": "markdown",
   "metadata": {},
   "source": [
    "### Mapeo a distribuciones gaussianas \n",
    "\n",
    "Como se mencionó anteriormente, no siempre se cumple la hipótesis de normalidad en las columnas de un dataset, en tal caso, no es una buena idea estandarizar los datos pues puede llevar a problemas al momento de operar con algoritmos que requieren normalidad en su formulación. Existe una familia de transformaciones paramétrica que busca aproximar una distribución arbitraria a una gaussiana, se accede a este tipo de transformaciones por medio de la clase `PowerTransformer`, en esta clase se encuentran 2 transformaciones:\n",
    "\n",
    "* Box-Cox: Solo puede ser utilizada en datos extrictamente positivos. Viene dada por:\n",
    "\n",
    "\\begin{equation}\n",
    "x_{i}^{(\\lambda)} =\n",
    "\\begin{cases}\n",
    "\\frac{x_{i}^{\\lambda}-1}{\\lambda} & \\text { si } \\lambda \\neq 0 \\\\\n",
    "\\ln \\left(x_{i}\\right) & \\text { si } \\lambda=0\n",
    "\\end{cases}.\n",
    "\\end{equation}\n",
    "\n",
    "* Yeo-Johnson dada por: \n",
    "\n",
    "\\begin{equation}\n",
    "x_{i}^{(\\lambda)}=\n",
    "\\begin{cases}\n",
    "\\left[\\left(x_{i} + 1\\right)^{\\lambda}-1 \\right] / \\lambda & \\text { si } \\lambda \\neq 0, x_{i} \\geq 0 \\\\\n",
    "\\ln \\left(x_{i}+1\\right) & \\text { si } \\lambda=0, x_{i} \\geq 0 \\\\\n",
    "-\\left[\\left(-x_{i}+1\\right)^{2-\\lambda}-1\\right] /(2-\\lambda) & \\text { si } \\lambda \\neq 2, x_{i}<0 \\\\\n",
    "-\\ln \\left(-x_{i}+1\\right) & \\text { si } \\lambda=2, x_{i}<0\n",
    "\\end{cases}\n",
    "\\end{equation}\n",
    "\n",
    "En ambos casos, el parámetro $\\lambda$ es estimado por máxima verosimilitud.\n"
   ]
  },
  {
   "attachments": {},
   "cell_type": "markdown",
   "metadata": {},
   "source": [
    "**BsmtUnfSF** = Metros cuadrados no construidos en el subterraneo."
   ]
  },
  {
   "cell_type": "code",
   "execution_count": null,
   "metadata": {},
   "outputs": [],
   "source": [
    "from sklearn.preprocessing import PowerTransformer"
   ]
  },
  {
   "cell_type": "code",
   "execution_count": null,
   "metadata": {},
   "outputs": [],
   "source": [
    "bsmtUnfSF_solo_num = df.loc[df['BsmtUnfSF'] > 0, ['BsmtUnfSF']]"
   ]
  },
  {
   "cell_type": "code",
   "execution_count": null,
   "metadata": {},
   "outputs": [],
   "source": [
    "px.histogram(bsmtUnfSF_solo_num)"
   ]
  },
  {
   "attachments": {},
   "cell_type": "markdown",
   "metadata": {},
   "source": [
    "#### Box - Cox"
   ]
  },
  {
   "cell_type": "code",
   "execution_count": null,
   "metadata": {},
   "outputs": [],
   "source": [
    "# transformación box-cox\n",
    "\n",
    "transformer_bc = PowerTransformer(method='box-cox')\n",
    "\n",
    "df_bc = transformer_bc.fit_transform(bsmtUnfSF_solo_num)\n",
    "df_bc = pd.DataFrame(df_bc, columns=['BsmtUnfSF'])\n",
    "\n",
    "\n",
    "px.histogram(df_bc)"
   ]
  },
  {
   "attachments": {},
   "cell_type": "markdown",
   "metadata": {},
   "source": [
    "#### Yeo-Johnson"
   ]
  },
  {
   "cell_type": "code",
   "execution_count": null,
   "metadata": {},
   "outputs": [],
   "source": [
    "# transformación yeo-johnson\n",
    "transformer_yj = PowerTransformer(method='yeo-johnson')\n",
    "\n",
    "df_yj = transformer_yj.fit_transform(bsmtUnfSF_solo_num)\n",
    "df_yj = pd.DataFrame(df_yj, columns=['BsmtUnfSF'])\n",
    "\n",
    "px.histogram(df_yj)"
   ]
  },
  {
   "attachments": {},
   "cell_type": "markdown",
   "metadata": {},
   "source": [
    "> **Ejercicio 📝**\n",
    "\n",
    "1. Obtenga los valores de lambda para cada uno de los de métodos revisados.\n",
    "\n",
    "2. El preprocesamiento por transformación de cuantiles es un método robusto que permite transformar una distribución de datos en una variable uniforme o normal. Permite el reducir el impacto de outliers. Investigue su formulación, ventajas y desventajas, aplique el transformer `QuantileTransformer` en los datos recientemente generados para observar su comportamiento."
   ]
  },
  {
   "attachments": {},
   "cell_type": "markdown",
   "metadata": {},
   "source": [
    "### Normalización\n",
    "\n",
    "Otro método de transformación de datos es la normalización de estos. Esto conisite en un mapeo a la bola cerrada según una norma a elección. Consiste simplemente en dividir los datos por su norma euclidiana l2. En el caso de 3 dimensiones se ve de esta manera:\n",
    "\n",
    "\\begin{equation}\n",
    "\\frac{x_{i}}{\\sqrt{x_{i}^{2}+y_{i}^{2}+z_{i}^{2}}}\n",
    "\\end{equation}\n",
    "\n",
    "El escalado de las entradas a normas unitarias es una operación habitual en la clasificación de textos o la agrupación por clústeres.\n",
    "\n",
    "**Ejemplo** \n",
    "\n",
    "Se estudia como opera este transformador de datos en una visualización:"
   ]
  },
  {
   "cell_type": "code",
   "execution_count": null,
   "metadata": {},
   "outputs": [],
   "source": [
    "fig = px.scatter_3d(\n",
    "    df,\n",
    "    x='LotArea',\n",
    "    y='GrLivArea',\n",
    "    z='GarageArea',\n",
    ")\n",
    "fig.show()"
   ]
  },
  {
   "attachments": {},
   "cell_type": "markdown",
   "metadata": {},
   "source": [
    "Se estudia el impacto de la transformación"
   ]
  },
  {
   "cell_type": "code",
   "execution_count": null,
   "metadata": {},
   "outputs": [],
   "source": [
    "from sklearn.preprocessing import Normalizer\n",
    "cols_to_normalize = ['LotArea','GrLivArea','GarageArea']\n",
    "\n",
    "normalizer = Normalizer()\n",
    "\n",
    "normalized_data = normalizer.fit_transform(df.loc[:, cols_to_normalize])\n",
    "normalized_data = pd.DataFrame(normalized_data, columns=cols_to_normalize)"
   ]
  },
  {
   "attachments": {},
   "cell_type": "markdown",
   "metadata": {},
   "source": [
    "Finalmente se visualiza"
   ]
  },
  {
   "cell_type": "code",
   "execution_count": null,
   "metadata": {},
   "outputs": [],
   "source": [
    "fig = px.scatter_3d(\n",
    "    normalized_data,\n",
    "    x='LotArea',\n",
    "    y='GrLivArea',\n",
    "    z='GarageArea',\n",
    ")\n",
    "fig.show()"
   ]
  },
  {
   "attachments": {},
   "cell_type": "markdown",
   "metadata": {},
   "source": [
    "### ¿Qué aspectos deberíamos considerar al momento de realizar escalamientos? 😅"
   ]
  },
  {
   "attachments": {},
   "cell_type": "markdown",
   "metadata": {},
   "source": [
    "Al momento de realizar escalamiento de cualquier tipo deben considerar los siguientes puntos:\n",
    "\n",
    "- **El escalamiento es una fuente de data leakeage**. ¿Qué es data leakage?, data leakage se produce cuando se utiliza información ajena al conjunto de datos de entrenamiento para crear el modelo.\n",
    "- **Necesidad de entrenamiento ante variaciones de los datos de entrada**. Muchos de los escalamientos necesitan el cálculo de un estadístico para realizar la transformación, esto implica que si los datos vistos durante el entrenamiento cambian en producción las transformaciones no serán las mejores y necesitarán un reentrenamiento de los datos.\n",
    "\n",
    "👀 **Spoiler**: Mas tarde en este curso aprenderemos una forma simple para evitar el data-leakage utilizando pipelines."
   ]
  },
  {
   "attachments": {},
   "cell_type": "markdown",
   "metadata": {},
   "source": [
    "---\n",
    "\n",
    "## Codificación de Variables Ordinales\n",
    "\n",
    "Para el manejo de adecuado de variables ordinales,  se recomienda expresar sus valores en función de códigos númericos. El transformer `OrdinalEncoder` permite transformar características categóricas en códigos enteros (números enteros)"
   ]
  },
  {
   "attachments": {},
   "cell_type": "markdown",
   "metadata": {},
   "source": [
    "Se entrena el codificador"
   ]
  },
  {
   "attachments": {},
   "cell_type": "markdown",
   "metadata": {},
   "source": [
    "BsmtQual: Evaluates the height of the basement\n",
    "\n",
    "       Ex\tExcellent (100+ inches)\t\n",
    "       Gd\tGood (90-99 inches)\n",
    "       TA\tTypical (80-89 inches)\n",
    "       Fa\tFair (70-79 inches)\n",
    "       Po\tPoor (<70 inches\n",
    "       NA\tNo Basement\n",
    "\t\t\n",
    "BsmtCond: Evaluates the general condition of the basement\n",
    "\n",
    "       Ex\tExcellent\n",
    "       Gd\tGood\n",
    "       TA\tTypical - slight dampness allowed\n",
    "       Fa\tFair - dampness or some cracking or settling\n",
    "       Po\tPoor - Severe cracking, settling, or wetness\n",
    "       NA\tNo Basement\n",
    "\t\n",
    "       \n",
    "HeatingQC: Heating quality and condition\n",
    "\n",
    "       Ex\tExcellent\n",
    "       Gd\tGood\n",
    "       TA\tAverage/Typical\n",
    "       Fa\tFair\n",
    "       Po\tPoor"
   ]
  },
  {
   "cell_type": "code",
   "execution_count": null,
   "metadata": {},
   "outputs": [],
   "source": [
    "df['BsmtQual']"
   ]
  },
  {
   "cell_type": "code",
   "execution_count": null,
   "metadata": {},
   "outputs": [],
   "source": [
    "from sklearn.preprocessing import OrdinalEncoder\n",
    "\n",
    "enc = OrdinalEncoder()\n",
    "\n",
    "variables_ordinal = df[['BsmtCond', 'BsmtQual','HeatingQC']]\n",
    "\n",
    "# Se entrena el codificador\n",
    "ordinales = enc.fit_transform(variables_ordinal.dropna())\n",
    "pd.DataFrame(ordinales, columns = ['BsmtCond', 'BsmtQual','HeatingQC'])"
   ]
  },
  {
   "cell_type": "code",
   "execution_count": null,
   "metadata": {},
   "outputs": [],
   "source": [
    "variables_ordinal"
   ]
  },
  {
   "attachments": {},
   "cell_type": "markdown",
   "metadata": {},
   "source": [
    "Se obtienen las categorías"
   ]
  },
  {
   "cell_type": "code",
   "execution_count": null,
   "metadata": {},
   "outputs": [],
   "source": [
    "df.loc[:, ['BsmtCond']]"
   ]
  },
  {
   "cell_type": "code",
   "execution_count": null,
   "metadata": {},
   "outputs": [],
   "source": [
    "enc.categories_"
   ]
  },
  {
   "attachments": {},
   "cell_type": "markdown",
   "metadata": {},
   "source": [
    "> **Pregunta ❓**: ¿Existe algún problema en estas codificaciones?"
   ]
  },
  {
   "cell_type": "code",
   "execution_count": null,
   "metadata": {},
   "outputs": [],
   "source": [
    "categories_order = [\n",
    "    [\"Po\", \"Fa\", \"TA\", \"Gd\", \"Ex\"],\n",
    "    [\"Po\", \"Fa\", \"TA\", \"Gd\", \"Ex\"],\n",
    "    [\"Po\", \"Fa\", \"TA\", \"Gd\", \"Ex\"]\n",
    "]"
   ]
  },
  {
   "cell_type": "code",
   "execution_count": null,
   "metadata": {},
   "outputs": [],
   "source": [
    "enc_2 = OrdinalEncoder(categories=categories_order)\n",
    "\n",
    "ordinales = enc_2.fit_transform(variables_ordinal.dropna())\n",
    "\n",
    "pd.DataFrame(ordinales, columns = ['BsmtCond', 'BsmtQual','HeatingQC'])"
   ]
  },
  {
   "attachments": {},
   "cell_type": "markdown",
   "metadata": {},
   "source": [
    "> **Pregunta ❓**: ¿Codificamos estas variables con `variables_ordinal.dropna()`. Por qué tuvimos que botar los valores faltantes y que se puede hacer en este caso ?"
   ]
  },
  {
   "attachments": {},
   "cell_type": "markdown",
   "metadata": {},
   "source": [
    "> **Pregunta ❓**: ¿Cómo codificamos las variables que no tienen orden?"
   ]
  },
  {
   "attachments": {},
   "cell_type": "markdown",
   "metadata": {},
   "source": [
    "## Codificación de Variables Categoricas\n",
    "\n",
    "Un problema común con la códificación ordinal es que las variables pasan a ser consideradas continuas por algoritmos de machine learning (en especial por la API *estimators* de scikit-learn). Para evitar esto es posible convertir cada categoría en una columna por si sola y asignar un 1 cuando esté presente. \n",
    "\n",
    "![One Hot Encoding](https://github.com/MDS7202/MDS7202/blob/main/recursos/2023-01/14-Feature-Engineering/ohe.png)\n",
    "<center>Fuente: https://morioh.com/p/811a5d22bbca </center>\n",
    "\n",
    "Esto se puede llevar a cabo por medio del transformador ` OneHotEncoder`."
   ]
  },
  {
   "cell_type": "code",
   "execution_count": null,
   "metadata": {},
   "outputs": [],
   "source": [
    "df['Foundation'].unique()"
   ]
  },
  {
   "cell_type": "code",
   "execution_count": null,
   "metadata": {},
   "outputs": [],
   "source": [
    "from sklearn.preprocessing import OneHotEncoder\n",
    "\n",
    "ohe = OneHotEncoder()\n",
    "\n",
    "cod = ohe.fit_transform(df.loc[:, ['Foundation']])"
   ]
  },
  {
   "cell_type": "code",
   "execution_count": null,
   "metadata": {},
   "outputs": [],
   "source": [
    "ohe.categories_"
   ]
  },
  {
   "cell_type": "code",
   "execution_count": null,
   "metadata": {},
   "outputs": [],
   "source": [
    "pd.DataFrame(cod.toarray(), columns=ohe.categories_)"
   ]
  },
  {
   "cell_type": "code",
   "execution_count": null,
   "metadata": {},
   "outputs": [],
   "source": [
    "df.loc[:, 'Neighborhood'].unique()"
   ]
  },
  {
   "cell_type": "code",
   "execution_count": null,
   "metadata": {},
   "outputs": [],
   "source": [
    "# Ahora, con los barrios\n",
    "ohe.fit_transform(df.loc[:, ['Neighborhood']])"
   ]
  },
  {
   "attachments": {},
   "cell_type": "markdown",
   "metadata": {},
   "source": [
    "### Sparse Matrix\n",
    "\n",
    "Son matrices que contienen muy pocos valores distintos de 0 y estos se encuentran muy dispersos en la matriz.\n",
    "\n",
    "![](https://www.kdnuggets.com/wp-content/uploads/sparse-matrix.jpg)"
   ]
  },
  {
   "cell_type": "code",
   "execution_count": null,
   "metadata": {},
   "outputs": [],
   "source": [
    "import numpy as np\n",
    "from scipy import sparse\n",
    "\n",
    "X = np.random.uniform(size=(10000, 10000))  # 100.000.000\n",
    "X[X < 0.99] = 0\n",
    "X_csr = sparse.csr_matrix(X)\n",
    "\n",
    "print(f\"Size in bytes of original matrix: {X.nbytes}\")\n",
    "print(\n",
    "    f\"Size in bytes of compressed sparse row matrix: {X_csr.data.nbytes + X_csr.indptr.nbytes + X_csr.indices.nbytes}\"\n",
    ")\n",
    "print(\n",
    "    f'Relación: { (X_csr.data.nbytes + X_csr.indptr.nbytes + X_csr.indices.nbytes)/ X.nbytes }'\n",
    ")"
   ]
  },
  {
   "attachments": {},
   "cell_type": "markdown",
   "metadata": {},
   "source": [
    "> **Ejercicio 📝**\n",
    "\n",
    "1. Utilice este transformador en los datos categóricos anteriores. Los resultados serán entregados en formato *sparse* por  lo que tendrá que hacer uso del método `.toarray()` de los arreglos de NumPy.\n",
    "\n",
    "2. Compare con la función `get_dummies` de pandas."
   ]
  },
  {
   "attachments": {},
   "cell_type": "markdown",
   "metadata": {
    "id": "5GJAkrw6-WtH"
   },
   "source": [
    "## Ya pero quiero aprender mas... ¿algo para leer? 🤔"
   ]
  },
  {
   "attachments": {},
   "cell_type": "markdown",
   "metadata": {
    "id": "7CU5cYrs-BAF"
   },
   "source": [
    "- Para comenzar pueden visualizar con mayor profundidad la documentación de Scikit-Learn enfocada en la extracción de features: https://scikit-learn.org/stable/modules/feature_extraction.html\n",
    "- Complementar la clase leyendo el capitulo 5 del libro [Designing Machine Learning Systems](https://www.amazon.com/Designing-Machine-Learning-Systems-Production-Ready/dp/1098107969)\n",
    "\n",
    "- Leer capitulo 1 del libro [Machine Learning Design Patterns: Solutions to Common Challenges in Data Preparation, Model Building, and MLOps](https://www.amazon.com/-/es/Valliappa-Lakshmanan/dp/1098115783/ref=pd_bxgy_img_sccl_1/142-9514380-0202369?pd_rd_w=JQSaa&content-id=amzn1.sym.26a5c67f-1a30-486b-bb90-b523ad38d5a0&pf_rd_p=26a5c67f-1a30-486b-bb90-b523ad38d5a0&pf_rd_r=BJE9WMJ9X1QQMYF4C3EJ&pd_rd_wg=y78Jr&pd_rd_r=6a1994c2-2734-428a-a270-ded23f892987&pd_rd_i=1098115783&psc=1)"
   ]
  }
 ],
 "metadata": {
  "colab": {
   "provenance": [],
   "toc_visible": true
  },
  "kernelspec": {
   "display_name": "Python 3 (ipykernel)",
   "language": "python",
   "name": "python3"
  },
  "language_info": {
   "codemirror_mode": {
    "name": "ipython",
    "version": 3
   },
   "file_extension": ".py",
   "mimetype": "text/x-python",
   "name": "python",
   "nbconvert_exporter": "python",
   "pygments_lexer": "ipython3",
   "version": "3.9.7"
  }
 },
 "nbformat": 4,
 "nbformat_minor": 4
}
