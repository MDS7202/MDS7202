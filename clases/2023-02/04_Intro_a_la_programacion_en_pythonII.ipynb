{
 "cells": [
  {
   "cell_type": "markdown",
   "id": "201e2305-96c6-4aaa-a417-688dcdb888fe",
   "metadata": {},
   "source": [
    "# Clase 4: Introducción a la Programación con `Python` II\n",
    "\n",
    "**MDS7202: Laboratorio de Programación Científica para Ciencia de Datos**"
   ]
  },
  {
   "cell_type": "markdown",
   "id": "accepting-university",
   "metadata": {},
   "source": [
    "\n",
    "## Objetivos de la Clase 🎯\n",
    "\n",
    "- Introducción a Colecciones de datos.\n",
    "- Listas, Tuplas, Conjuntos y sus métodos básicos.\n",
    "- Diccionarios y sus métodos básicos.\n",
    "- Iteraciones o ciclos.\n",
    "- Como integrar iteraciones junto a las colecciones."
   ]
  },
  {
   "cell_type": "markdown",
   "id": "digital-incentive",
   "metadata": {
    "tags": []
   },
   "source": [
    "## Parte 1: Colecciones 🗃️\n",
    "\n",
    "Hasta el momento solo hemos visto como manejar datos únicos, sin embargo, en ciencia de datos necesitaremos herramientas para manejar grandes colecciones de datos.\n",
    "\n",
    "> **Pregunta ❓:** Cómo han manejado colecciones de datos en python?.\n",
    "\n"
   ]
  },
  {
   "attachments": {},
   "cell_type": "markdown",
   "id": "cd7e924e",
   "metadata": {},
   "source": [
    "<div align=\"center\"/>\n",
    "<img src=\"https://miro.medium.com/v2/resize:fit:1100/format:webp/1*2JFd94q0vzsEcr-LB-220g.png\" width=\"600\">\n",
    "</div>\n",
    "\n",
    "<br>\n",
    "\n",
    "<div align=\"center\"/>\n",
    "Fuente: <a href=\"https://towardsdatascience.com/which-python-data-structure-should-you-use-fa1edd82946c\">Artículo de Yasmine Hejazi en Towards Data Science</a>.\n",
    "</div>"
   ]
  },
  {
   "cell_type": "markdown",
   "id": "a18cfc4c-8e49-48fd-aa25-c5b8e4e51f73",
   "metadata": {},
   "source": [
    "Una **colección** es una estructura de datos que permite almacenar datos y operarlos. Algunas de las posibles operaciones son:\n",
    "\n",
    "- Ordenar\n",
    "- Mapear (aplicar una función a cada elemento)\n",
    "- Filtrar\n",
    "- Agregar de todos los elementos (según alguna función como la suma o el promedio)."
   ]
  },
  {
   "cell_type": "markdown",
   "id": "45e2dd1b-3328-4971-81aa-33f08f2b4dd0",
   "metadata": {},
   "source": [
    "### Mutabilidad\n",
    "\n",
    "En python, las colecciones pueden ser: \n",
    "\n",
    "1. **Mutables** (listas, conjuntos), que en palabras simples, permiten adición, eliminación y modificación de sus elementos. \n",
    "\n",
    "2. **Inmutables** (tuplas). No se pueden modificar sus elementos,\n",
    "\n"
   ]
  },
  {
   "cell_type": "markdown",
   "id": "78ff8b95-0611-4318-a8a5-607e1ca1c25b",
   "metadata": {},
   "source": [
    "### Iterar\n",
    "\n",
    "Iterar se define como \"realizar cierta acción varias veces\".\n",
    "\n",
    "Finalmente, es posible **iterar** sobre estas estructuras y calcular operaciones de reducción sobre estas (promedios, medianas, sumas, etc ...). Por tal motivo, las colecciones están íntimamente relacionados con la programación en Python para el análisis de datos."
   ]
  },
  {
   "cell_type": "markdown",
   "id": "dynamic-dragon",
   "metadata": {},
   "source": [
    "### Listas\n",
    "\n",
    "Creamos las listas usando los brackets ([]). "
   ]
  },
  {
   "cell_type": "code",
   "execution_count": null,
   "id": "racial-optimum",
   "metadata": {
    "ExecuteTime": {
     "end_time": "2021-03-22T19:57:50.566059Z",
     "start_time": "2021-03-22T19:57:50.551060Z"
    }
   },
   "outputs": [],
   "source": [
    "# Lista sin elementos pero inicializada.\n",
    "lista_vacia = []\n",
    "lista_vacia"
   ]
  },
  {
   "cell_type": "code",
   "execution_count": null,
   "id": "amateur-morocco",
   "metadata": {
    "scrolled": true
   },
   "outputs": [],
   "source": [
    "# Lista con literales\n",
    "lista_1 = [1, 2, 3]\n",
    "lista_1"
   ]
  },
  {
   "cell_type": "markdown",
   "id": "discrete-filter",
   "metadata": {},
   "source": [
    "También podemos crear una lista con distintos tipos de datos (incluyendo otras colecciones)"
   ]
  },
  {
   "cell_type": "code",
   "execution_count": null,
   "id": "collaborative-rescue",
   "metadata": {
    "ExecuteTime": {
     "end_time": "2021-03-22T19:58:06.077336Z",
     "start_time": "2021-03-22T19:58:06.062335Z"
    }
   },
   "outputs": [],
   "source": [
    "lista_2 = [1, 2, 10.0, 'hola', True, [0, 1, 2]]\n",
    "lista_2"
   ]
  },
  {
   "cell_type": "markdown",
   "id": "8a5f65bf",
   "metadata": {},
   "source": [
    "> **Pregunta ❓**: ¿Sería correcto declarar una lista como esta: `presion = [1 ,2 ,3, 3.3, 3 +1j, '4']`?"
   ]
  },
  {
   "cell_type": "markdown",
   "id": "compound-civilization",
   "metadata": {},
   "source": [
    "Y podemos acceder a la cantidad de elementos de la lista usando la función `len(variable_lista)`"
   ]
  },
  {
   "cell_type": "code",
   "execution_count": null,
   "id": "adapted-failing",
   "metadata": {
    "ExecuteTime": {
     "end_time": "2021-03-23T13:47:49.256063Z",
     "start_time": "2021-03-23T13:47:49.006052Z"
    }
   },
   "outputs": [],
   "source": [
    "# Largo de la lista = Cantidad de elementos dentro de la lista.\n",
    "len(lista_2)"
   ]
  },
  {
   "cell_type": "code",
   "execution_count": null,
   "id": "91d764ca-875f-49ba-aa83-2007e382a16b",
   "metadata": {},
   "outputs": [],
   "source": [
    "len([])"
   ]
  },
  {
   "cell_type": "markdown",
   "id": "orange-operation",
   "metadata": {},
   "source": [
    "#### Operaciones con listas"
   ]
  },
  {
   "cell_type": "markdown",
   "id": "cleared-mattress",
   "metadata": {},
   "source": [
    "##### Indexado: Cómo acceder a ciertos elementos de la lista\n",
    "\n",
    "\n",
    "Cada elemento de una lista va asociado a un indice, el cual identifica la posición del elemnto dentro de la lista.\n",
    "```python\n",
    "lista   =  ['Uvas 🍇', 'Melón 🍈', 'Sandía 🍉', 'Damasco 🍊', 'Limón 🍋']\n",
    "indices -> [  0            1             2             3            4  ] \n",
    "# Ojo que parten desde el 0!!\n",
    "```\n",
    "\n",
    "Podemos acceder a cierto elemento de la lista  usando la sintaxis \n",
    "\n",
    "```python\n",
    "lista[indice]\n",
    "```\n",
    "\n"
   ]
  },
  {
   "cell_type": "code",
   "execution_count": null,
   "id": "6b0ef001-0d3c-4489-825f-b4683abd90d8",
   "metadata": {
    "ExecuteTime": {
     "end_time": "2021-03-22T19:59:05.476354Z",
     "start_time": "2021-03-22T19:59:05.461354Z"
    }
   },
   "outputs": [],
   "source": [
    "lista = [\n",
    "    'Uvas 🍇', \n",
    "    'Melón 🍈', \n",
    "    'Sandía 🍉', \n",
    "    'Damasco 🍊', \n",
    "    'Limón 🍋',\n",
    "]\n",
    "\n",
    "# len(lista) nos permite ver el número de elementos que contiene la lista\n",
    "\n",
    "len(lista)"
   ]
  },
  {
   "cell_type": "code",
   "execution_count": null,
   "id": "premium-contribution",
   "metadata": {},
   "outputs": [],
   "source": [
    "lista[0]"
   ]
  },
  {
   "cell_type": "code",
   "execution_count": null,
   "id": "younger-harbor",
   "metadata": {
    "ExecuteTime": {
     "end_time": "2021-03-22T19:59:13.168055Z",
     "start_time": "2021-03-22T19:59:13.158028Z"
    }
   },
   "outputs": [],
   "source": [
    "lista[1]"
   ]
  },
  {
   "cell_type": "markdown",
   "id": "a97d1d41-3d68-4f31-b9e5-5807015c6ab3",
   "metadata": {},
   "source": [
    "El indexado negativo nos permite partir desde el último elemento hasta el primero\n"
   ]
  },
  {
   "cell_type": "code",
   "execution_count": null,
   "id": "beautiful-prayer",
   "metadata": {
    "ExecuteTime": {
     "end_time": "2021-03-22T19:59:30.685686Z",
     "start_time": "2021-03-22T19:59:30.673688Z"
    }
   },
   "outputs": [],
   "source": [
    "lista[-1]"
   ]
  },
  {
   "cell_type": "markdown",
   "id": "8c43cf2a-8e1c-4ce1-ab18-ff87641f4b02",
   "metadata": {
    "jp-MarkdownHeadingCollapsed": true,
    "tags": []
   },
   "source": [
    "Indices parten de cero. El largo de la lista parte contando desde 1, ya que existe por lo menos un elemento en la lista. Entonces, para sacar el elemento i, tenemos que restale 1."
   ]
  },
  {
   "cell_type": "code",
   "execution_count": null,
   "id": "competitive-valuation",
   "metadata": {
    "ExecuteTime": {
     "end_time": "2021-03-22T20:01:32.006964Z",
     "start_time": "2021-03-22T20:01:31.991966Z"
    }
   },
   "outputs": [],
   "source": [
    "# El código anterior es equivalente a algo similar a esto:\n",
    "lista[len(lista) - 1]"
   ]
  },
  {
   "cell_type": "code",
   "execution_count": null,
   "id": "determined-olympus",
   "metadata": {
    "ExecuteTime": {
     "end_time": "2021-03-22T20:01:41.166890Z",
     "start_time": "2021-03-22T20:01:41.153886Z"
    }
   },
   "outputs": [],
   "source": [
    "lista[-1]"
   ]
  },
  {
   "cell_type": "markdown",
   "id": "widespread-serbia",
   "metadata": {},
   "source": [
    "Podemos mutar un valor de una lista usando \n",
    "\n",
    "```python\n",
    "lista[indice] = nuevo_valor\n",
    "```"
   ]
  },
  {
   "cell_type": "code",
   "execution_count": null,
   "id": "defined-allergy",
   "metadata": {},
   "outputs": [],
   "source": [
    "lista"
   ]
  },
  {
   "cell_type": "code",
   "execution_count": null,
   "id": "threatened-channel",
   "metadata": {
    "scrolled": true
   },
   "outputs": [],
   "source": [
    "lista[0] = 'Manzana🍏' # modificamos el elemento en el índice 0 por '🍏 '\n",
    "lista"
   ]
  },
  {
   "cell_type": "markdown",
   "id": "tracked-quality",
   "metadata": {},
   "source": [
    "Nota: Podemos simular las matrices a través de listas de listas"
   ]
  },
  {
   "cell_type": "code",
   "execution_count": null,
   "id": "driven-vacuum",
   "metadata": {
    "ExecuteTime": {
     "end_time": "2021-03-22T20:02:01.976235Z",
     "start_time": "2021-03-22T20:02:01.959238Z"
    }
   },
   "outputs": [],
   "source": [
    "matriz = [\n",
    "    [1, 2, 3], \n",
    "    [4, 5, 6], \n",
    "    [7, 8, 9]\n",
    "]\n",
    "\n",
    "matriz[2]  # i = Tercera fila"
   ]
  },
  {
   "cell_type": "code",
   "execution_count": null,
   "id": "b4fd647a-ffd0-4361-b2fa-4302f46ca7d0",
   "metadata": {},
   "outputs": [],
   "source": [
    "matriz[2][1]"
   ]
  },
  {
   "cell_type": "code",
   "execution_count": null,
   "id": "english-missile",
   "metadata": {
    "ExecuteTime": {
     "end_time": "2021-03-22T20:02:26.495024Z",
     "start_time": "2021-03-22T20:02:26.487026Z"
    },
    "scrolled": true
   },
   "outputs": [],
   "source": [
    "# Para acceder a un elemento de la matriz, podemos usar un doble indexado.\n",
    "\n",
    "matriz[2][0]  # i = Tercera fila, j = primera columna"
   ]
  },
  {
   "cell_type": "markdown",
   "id": "respected-principal",
   "metadata": {},
   "source": [
    "##### Slice: Seleccionar una sublista a partir ciertos indices\n",
    "\n",
    "Notar que esta operación retorna una nueva lista con referencias a los datos de la lista original (no los copia)."
   ]
  },
  {
   "cell_type": "code",
   "execution_count": null,
   "id": "different-uzbekistan",
   "metadata": {
    "ExecuteTime": {
     "end_time": "2021-03-22T20:02:49.919181Z",
     "start_time": "2021-03-22T20:02:49.901179Z"
    }
   },
   "outputs": [],
   "source": [
    "lista_3 = [\n",
    "    'Uvas 🍇', \n",
    "    'Melón 🍈', \n",
    "    'Sandía 🍉', \n",
    "    'Damasco 🍊', \n",
    "    'Limón 🍋',\n",
    "]\n",
    "\n",
    "lista_3[1:4]"
   ]
  },
  {
   "cell_type": "markdown",
   "id": "mighty-first",
   "metadata": {},
   "source": [
    "##### `.append`: Agrega un elemento al final de la lista.\n",
    "\n",
    "Esta operación muta la lista original"
   ]
  },
  {
   "cell_type": "code",
   "execution_count": null,
   "id": "banner-cowboy",
   "metadata": {
    "ExecuteTime": {
     "end_time": "2021-03-22T20:06:11.031940Z",
     "start_time": "2021-03-22T20:06:11.021910Z"
    }
   },
   "outputs": [],
   "source": [
    "lista = [\n",
    "    'Uvas 🍇', \n",
    "    'Melón 🍈', \n",
    "    'Sandía 🍉', \n",
    "    'Damasco 🍊', \n",
    "    'Limón 🍋',\n",
    "]\n",
    "\n",
    "lista.append('Manzana 🍎')\n",
    "lista"
   ]
  },
  {
   "cell_type": "markdown",
   "id": "functioning-header",
   "metadata": {
    "ExecuteTime": {
     "end_time": "2021-03-22T17:22:38.838554Z",
     "start_time": "2021-03-22T17:22:38.823544Z"
    }
   },
   "source": [
    "> **Pregunta ❓**: ¿Qué pasa si ejecutamos la misma expresión nuevamente?"
   ]
  },
  {
   "cell_type": "code",
   "execution_count": null,
   "id": "amino-commodity",
   "metadata": {
    "ExecuteTime": {
     "end_time": "2021-03-22T20:06:24.586145Z",
     "start_time": "2021-03-22T20:06:24.575142Z"
    }
   },
   "outputs": [],
   "source": [
    "lista.append('Manzana 🍎')\n",
    "lista"
   ]
  },
  {
   "cell_type": "code",
   "execution_count": null,
   "id": "1fd560f9-dfe4-4378-ab26-64fa2f1e1297",
   "metadata": {},
   "outputs": [],
   "source": [
    "lista"
   ]
  },
  {
   "cell_type": "markdown",
   "id": "proof-vaccine",
   "metadata": {
    "ExecuteTime": {
     "end_time": "2021-03-22T17:25:28.562746Z",
     "start_time": "2021-03-22T17:25:28.552750Z"
    }
   },
   "source": [
    "#####  Concatenar\n",
    "\n",
    "También se pueden concatenar listas. Estas rentornan una **nueva lista** en vez de mutar la de origen."
   ]
  },
  {
   "cell_type": "code",
   "execution_count": null,
   "id": "copyrighted-schema",
   "metadata": {
    "ExecuteTime": {
     "end_time": "2021-03-23T13:48:20.670219Z",
     "start_time": "2021-03-23T13:48:20.651210Z"
    }
   },
   "outputs": [],
   "source": [
    "# Limpiamos a lista anterior a la original que teníamos.\n",
    "lista = ['Uvas 🍇', 'Melón 🍈', 'Sandía 🍉', 'Damasco 🍊', 'Limón 🍋', 'Manzana 🍎']\n",
    "lista_2 = ['Manzana 🍎', 'Plátano 🍌', 'Piña 🍍']\n",
    "\n",
    "# Concatenamos\n",
    "nueva_lista = lista + lista_2\n",
    "nueva_lista"
   ]
  },
  {
   "cell_type": "code",
   "execution_count": null,
   "id": "1d396017-9ae4-40cf-8756-51cf05413e16",
   "metadata": {},
   "outputs": [],
   "source": [
    "lista"
   ]
  },
  {
   "cell_type": "markdown",
   "id": "identified-terrorist",
   "metadata": {},
   "source": [
    "##### `.pop`: Quita de la lista el elemento indicado por cierto índice\n",
    "\n",
    "Observación: Si no encuentra un elemento en el índice indicado, levanta una excepción y corta la ejecución del programa."
   ]
  },
  {
   "cell_type": "code",
   "execution_count": null,
   "id": "98d1f376-6f59-41d5-87e2-c25d257e9eb3",
   "metadata": {},
   "outputs": [],
   "source": [
    "lista"
   ]
  },
  {
   "cell_type": "code",
   "execution_count": null,
   "id": "threaded-future",
   "metadata": {
    "ExecuteTime": {
     "end_time": "2021-03-23T13:48:26.935898Z",
     "start_time": "2021-03-23T13:48:26.915897Z"
    }
   },
   "outputs": [],
   "source": [
    "lista.pop(1)"
   ]
  },
  {
   "cell_type": "code",
   "execution_count": null,
   "id": "d4bccf15-9aae-4899-8076-675eee487a45",
   "metadata": {},
   "outputs": [],
   "source": [
    "lista"
   ]
  },
  {
   "cell_type": "code",
   "execution_count": null,
   "id": "monetary-theater",
   "metadata": {
    "ExecuteTime": {
     "end_time": "2021-03-23T13:48:27.708582Z",
     "start_time": "2021-03-23T13:48:27.698582Z"
    }
   },
   "outputs": [],
   "source": [
    "lista.pop(100)"
   ]
  },
  {
   "cell_type": "code",
   "execution_count": null,
   "id": "9cd07779-f4d3-42b3-add5-0664e55d1bd0",
   "metadata": {},
   "outputs": [],
   "source": [
    "lista.pop(-1)"
   ]
  },
  {
   "cell_type": "markdown",
   "id": "behavioral-master",
   "metadata": {
    "ExecuteTime": {
     "end_time": "2021-03-22T18:06:52.967997Z",
     "start_time": "2021-03-22T18:06:52.953004Z"
    }
   },
   "source": [
    "##### `.sort`: Ordena \n",
    "\n",
    "> **Nota 🗒️**: Ordena según como se defina `>=` para el tipo de dato."
   ]
  },
  {
   "cell_type": "code",
   "execution_count": null,
   "id": "persistent-stretch",
   "metadata": {
    "ExecuteTime": {
     "end_time": "2021-03-23T13:48:32.069063Z",
     "start_time": "2021-03-23T13:48:32.052063Z"
    }
   },
   "outputs": [],
   "source": [
    "# Orden numérico.\n",
    "lista_desordenada = [10, 3, 2, -8, 1, 0, 0, -3]\n",
    "lista_desordenada.sort()\n",
    "lista_desordenada"
   ]
  },
  {
   "cell_type": "code",
   "execution_count": null,
   "id": "b4413d7c-d688-4e94-82ee-a402b9f271c1",
   "metadata": {},
   "outputs": [],
   "source": [
    "lista_desordenada"
   ]
  },
  {
   "cell_type": "markdown",
   "id": "cf31b50d-fa59-4b87-979f-ccd6924a2f97",
   "metadata": {},
   "source": [
    "Para ordenar strings también se hace uso del orden lexicográfico"
   ]
  },
  {
   "cell_type": "code",
   "execution_count": null,
   "id": "aggressive-production",
   "metadata": {
    "ExecuteTime": {
     "end_time": "2021-03-23T13:48:32.845205Z",
     "start_time": "2021-03-23T13:48:32.829250Z"
    }
   },
   "outputs": [],
   "source": [
    "# Usando listas con strings se hace con orden lexicográfico.\n",
    "lista_desordenada_2 = [\n",
    "    'vienesa 🍖', \n",
    "    'pan 🥖', \n",
    "    'tomate 🍅', \n",
    "    'palta 🥑', \n",
    "    'mayo 🍶', \n",
    "    'ketchup 🍶'\n",
    "]\n",
    "lista_desordenada_2.sort()\n",
    "lista_desordenada_2"
   ]
  },
  {
   "cell_type": "markdown",
   "id": "metropolitan-nashville",
   "metadata": {},
   "source": [
    "##### `.index`: Busca el elemento entregado en la lista y retorna su índice"
   ]
  },
  {
   "cell_type": "code",
   "execution_count": null,
   "id": "modular-maximum",
   "metadata": {
    "ExecuteTime": {
     "end_time": "2021-03-23T13:49:32.322633Z",
     "start_time": "2021-03-23T13:49:32.302594Z"
    }
   },
   "outputs": [],
   "source": [
    "# Recordamos que había en lista\n",
    "lista = ['Uvas 🍇', 'Melón 🍈', 'Sandía 🍉', 'Damasco 🍊', 'Limón 🍋']\n",
    "lista"
   ]
  },
  {
   "cell_type": "code",
   "execution_count": null,
   "id": "allied-coral",
   "metadata": {
    "ExecuteTime": {
     "end_time": "2021-03-23T13:49:33.304645Z",
     "start_time": "2021-03-23T13:49:33.291629Z"
    },
    "scrolled": true
   },
   "outputs": [],
   "source": [
    "lista.index('Sandía 🍉')"
   ]
  },
  {
   "cell_type": "markdown",
   "id": "66515f5b-608d-4185-a773-efc659a19463",
   "metadata": {},
   "source": [
    "> **Pregunta ❓**: Qué pasa si no existe el elemento?"
   ]
  },
  {
   "cell_type": "code",
   "execution_count": null,
   "id": "amended-congress",
   "metadata": {
    "ExecuteTime": {
     "end_time": "2021-03-23T13:49:36.762155Z",
     "start_time": "2021-03-23T13:49:36.746124Z"
    }
   },
   "outputs": [],
   "source": [
    "lista.index('Arándanos 🫐')"
   ]
  },
  {
   "cell_type": "markdown",
   "id": "graduate-alignment",
   "metadata": {},
   "source": [
    "Pueden encontrar una completa guía aquí de todos los métodos (funciones) que pueden ejecutar con una lista:\n",
    "    \n",
    "https://www.programiz.com/python-programming/list"
   ]
  },
  {
   "cell_type": "markdown",
   "id": "advanced-administrator",
   "metadata": {
    "ExecuteTime": {
     "end_time": "2021-03-22T18:01:08.375069Z",
     "start_time": "2021-03-22T18:01:08.362071Z"
    },
    "tags": []
   },
   "source": [
    "### Paréntesis: Strings.\n",
    "\n",
    "Los strings son un tipo especial de lista que no es mutable, pero que se puede indexar."
   ]
  },
  {
   "cell_type": "code",
   "execution_count": null,
   "id": "c51d0fa6-9587-4124-977e-cbaa37af6bb9",
   "metadata": {},
   "outputs": [],
   "source": [
    "['j', 'u', 'a', 'n']"
   ]
  },
  {
   "cell_type": "code",
   "execution_count": null,
   "id": "derived-identifier",
   "metadata": {
    "ExecuteTime": {
     "end_time": "2021-03-22T20:03:15.091952Z",
     "start_time": "2021-03-22T20:03:15.076952Z"
    }
   },
   "outputs": [],
   "source": [
    "nombre = 'Juan'\n",
    "nombre[2:4]"
   ]
  },
  {
   "cell_type": "markdown",
   "id": "final-nicaragua",
   "metadata": {},
   "source": [
    "También se pueden convertir a string"
   ]
  },
  {
   "cell_type": "code",
   "execution_count": null,
   "id": "olive-meeting",
   "metadata": {
    "ExecuteTime": {
     "end_time": "2021-03-22T20:03:39.934091Z",
     "start_time": "2021-03-22T20:03:39.916065Z"
    }
   },
   "outputs": [],
   "source": [
    "list(nombre)"
   ]
  },
  {
   "cell_type": "code",
   "execution_count": null,
   "id": "immune-endorsement",
   "metadata": {
    "ExecuteTime": {
     "end_time": "2021-03-22T20:03:54.221041Z",
     "start_time": "2021-03-22T20:03:54.207054Z"
    }
   },
   "outputs": [],
   "source": [
    "str(['J', 'u', 'a', 'n'])"
   ]
  },
  {
   "cell_type": "code",
   "execution_count": null,
   "id": "d46b8d7b-185e-46c0-8a40-557815d7790e",
   "metadata": {},
   "outputs": [],
   "source": [
    "''.join(['J', 'u', 'a', 'n'])"
   ]
  },
  {
   "cell_type": "markdown",
   "id": "organic-strap",
   "metadata": {},
   "source": [
    "Y podemos separarlos/juntarlos según algun carácter"
   ]
  },
  {
   "cell_type": "code",
   "execution_count": null,
   "id": "australian-summer",
   "metadata": {
    "ExecuteTime": {
     "end_time": "2021-03-22T20:04:50.394800Z",
     "start_time": "2021-03-22T20:04:50.386782Z"
    }
   },
   "outputs": [],
   "source": [
    "'Juan come verduras'.split(' ')"
   ]
  },
  {
   "cell_type": "code",
   "execution_count": null,
   "id": "sonic-meaning",
   "metadata": {
    "ExecuteTime": {
     "end_time": "2021-03-22T20:05:39.326724Z",
     "start_time": "2021-03-22T20:05:39.315728Z"
    }
   },
   "outputs": [],
   "source": [
    "# El string que pongan antes del join será el que unirá los strings del arreglo. En este caso, se uniran con '-'\n",
    "'-'.join(['Juan', 'come', 'verduras'])"
   ]
  },
  {
   "cell_type": "markdown",
   "id": "7bc8b0bb-5f0e-44e3-933f-c5e40dab0ead",
   "metadata": {},
   "source": [
    "Como también concatenar"
   ]
  },
  {
   "cell_type": "code",
   "execution_count": null,
   "id": "aa93bf21-0f05-47cf-9c3c-64a8a91543ee",
   "metadata": {},
   "outputs": [],
   "source": [
    "texto1 = \"Juan come verduras\"\n",
    "texto2 = \" y frutas.\"\n",
    "\n",
    "texto1 + texto2"
   ]
  },
  {
   "cell_type": "markdown",
   "id": "experimental-store",
   "metadata": {
    "ExecuteTime": {
     "end_time": "2021-03-22T18:13:21.155383Z",
     "start_time": "2021-03-22T18:13:21.138410Z"
    }
   },
   "source": [
    "### Tuplas\n",
    "\n",
    "Las tuplas siguen el mismo principio de las listas en cuanto a almacenar datos, no obstante, a diferencia de las listas, las tuplas son **inmutables**. Una ventaja sobre las listas, es que **son más eficientes computacionalmente y son más ligeras**. "
   ]
  },
  {
   "cell_type": "code",
   "execution_count": null,
   "id": "incorporated-coffee",
   "metadata": {
    "ExecuteTime": {
     "end_time": "2021-03-23T13:49:58.837087Z",
     "start_time": "2021-03-23T13:49:58.819087Z"
    }
   },
   "outputs": [],
   "source": [
    "# Se utilizan 'parentesis' para crearlas\n",
    "\n",
    "tupla = (1, 2, 3)\n",
    "tupla"
   ]
  },
  {
   "cell_type": "markdown",
   "id": "textile-table",
   "metadata": {},
   "source": [
    "Al igual que las listas, sus elementos pueden ser accedidos a través del indexado (que parte desde 0!)."
   ]
  },
  {
   "cell_type": "code",
   "execution_count": null,
   "id": "unlimited-candidate",
   "metadata": {
    "ExecuteTime": {
     "end_time": "2021-03-23T13:50:00.583597Z",
     "start_time": "2021-03-23T13:50:00.564640Z"
    }
   },
   "outputs": [],
   "source": [
    "tupla[0]"
   ]
  },
  {
   "cell_type": "code",
   "execution_count": null,
   "id": "decent-partition",
   "metadata": {
    "ExecuteTime": {
     "end_time": "2021-03-23T13:50:01.245933Z",
     "start_time": "2021-03-23T13:50:01.227906Z"
    }
   },
   "outputs": [],
   "source": [
    "tupla[-1]"
   ]
  },
  {
   "cell_type": "code",
   "execution_count": null,
   "id": "standard-birmingham",
   "metadata": {
    "ExecuteTime": {
     "end_time": "2021-03-23T13:50:01.811887Z",
     "start_time": "2021-03-23T13:50:01.803886Z"
    }
   },
   "outputs": [],
   "source": [
    "tupla[0:2]"
   ]
  },
  {
   "cell_type": "markdown",
   "id": "medium-mining",
   "metadata": {},
   "source": [
    "> **Pregunta ❓**: ¿Qué sucede si intentamos cambiar un valor de una tupla?"
   ]
  },
  {
   "cell_type": "code",
   "execution_count": null,
   "id": "primary-doctrine",
   "metadata": {
    "ExecuteTime": {
     "end_time": "2021-03-22T20:10:48.920390Z",
     "start_time": "2021-03-22T20:10:48.909387Z"
    }
   },
   "outputs": [],
   "source": [
    "tupla[0] = 1"
   ]
  },
  {
   "cell_type": "markdown",
   "id": "1cf52fde-7625-410e-b072-e53ef6c0ac03",
   "metadata": {},
   "source": [
    "> **Pregunta ❓**: ¿Cómo podría agregar nuevos elementos a una tupla?"
   ]
  },
  {
   "cell_type": "code",
   "execution_count": null,
   "id": "03544ab5-eba6-4337-85fe-52ebecac9376",
   "metadata": {},
   "outputs": [],
   "source": [
    "nueva_tupla = (1, 2, 3, 4)\n",
    "nueva_tupla"
   ]
  },
  {
   "cell_type": "markdown",
   "id": "verbal-pocket",
   "metadata": {},
   "source": [
    "#### Unpacking\n",
    "\n",
    "Tuplas y listas comparten el acceso a sus elementos por medio de la sintaxis ```[*]```. Tanto tuplas como las listas se pueden \"desempacar\", el termino *pythonico* es **unpacking**. Ejemplo:"
   ]
  },
  {
   "cell_type": "code",
   "execution_count": null,
   "id": "pregnant-stamp",
   "metadata": {
    "ExecuteTime": {
     "end_time": "2021-03-23T13:50:04.356386Z",
     "start_time": "2021-03-23T13:50:04.348385Z"
    }
   },
   "outputs": [],
   "source": [
    "# Unpacking de tuplas\n",
    "a, b, c, d = ('🚗', '🚌', '🚒', '🚕')"
   ]
  },
  {
   "cell_type": "code",
   "execution_count": null,
   "id": "anticipated-seeking",
   "metadata": {
    "ExecuteTime": {
     "end_time": "2021-03-23T13:50:04.949324Z",
     "start_time": "2021-03-23T13:50:04.931285Z"
    }
   },
   "outputs": [],
   "source": [
    "a"
   ]
  },
  {
   "cell_type": "code",
   "execution_count": null,
   "id": "charitable-hotel",
   "metadata": {
    "ExecuteTime": {
     "end_time": "2021-03-23T13:50:05.473217Z",
     "start_time": "2021-03-23T13:50:05.458188Z"
    },
    "scrolled": true
   },
   "outputs": [],
   "source": [
    "b"
   ]
  },
  {
   "cell_type": "code",
   "execution_count": null,
   "id": "397d107c-382a-43a7-be7c-bce1f9ef0416",
   "metadata": {},
   "outputs": [],
   "source": [
    "c"
   ]
  },
  {
   "cell_type": "code",
   "execution_count": null,
   "id": "98cdfbc7-4273-44ed-95c7-16b3e4831530",
   "metadata": {},
   "outputs": [],
   "source": [
    "d"
   ]
  },
  {
   "cell_type": "markdown",
   "id": "electric-hands",
   "metadata": {},
   "source": [
    "### Conjuntos\n",
    "\n",
    "Los conjuntos o **sets** son contenedores mutables, no ordenadas de objetos. Están diseñados para comportarse como sus contrapartes matemáticas. Un `frozenset` posee las mismas propiedades, solo que es inmutable."
   ]
  },
  {
   "cell_type": "code",
   "execution_count": null,
   "id": "closed-austria",
   "metadata": {
    "ExecuteTime": {
     "end_time": "2021-03-22T20:12:05.870376Z",
     "start_time": "2021-03-22T20:12:05.858361Z"
    }
   },
   "outputs": [],
   "source": [
    "comida_chatarra = {\n",
    "    'Pizza 🍕',\n",
    "    'Hamburguesa🍔', \n",
    "    'Papas fritas🍟', \n",
    "    'Completo 🌭', \n",
    "    'Huevo Frito 🍳', \n",
    "    'Sandwich 🥪'\n",
    "}\n",
    "\n",
    "comida_chatarra"
   ]
  },
  {
   "cell_type": "code",
   "execution_count": null,
   "id": "common-laser",
   "metadata": {
    "ExecuteTime": {
     "end_time": "2021-03-23T13:50:08.385114Z",
     "start_time": "2021-03-23T13:50:08.371104Z"
    },
    "scrolled": true
   },
   "outputs": [],
   "source": [
    "lista_desayuno = [\n",
    "    'Sandwich 🥪', \n",
    "    'Pan 🥖', \n",
    "    'Manzana 🍎', \n",
    "    'Huevo Frito 🍳', \n",
    "    'Sandwich 🥪', \n",
    "    'Media luna 🥐',\n",
    "    'Sandwich 🥪',\n",
    "] # Noten que repetimos varias veces 'Sandwich 🥪'"
   ]
  },
  {
   "cell_type": "code",
   "execution_count": null,
   "id": "12935885-ba21-4e20-b423-7cc8f1923e9c",
   "metadata": {},
   "outputs": [],
   "source": [
    "# usando set podemos convertir una lista a conjunto\n",
    "desayuno = set(lista_desayuno) \n",
    "desayuno"
   ]
  },
  {
   "cell_type": "markdown",
   "id": "244bec6d-2cd2-42ca-9a49-6ac38ad0760c",
   "metadata": {},
   "source": [
    "#### Operaciones de conjuntos\n"
   ]
  },
  {
   "cell_type": "markdown",
   "id": "iraqi-luther",
   "metadata": {},
   "source": [
    "##### Unión\n",
    "\n",
    "Dados dos conjuntos $A$ y $B$, su unión $A \\cup B$ se puede ver representada por:\n",
    "\n",
    "<center>\n",
    "<img src=\"https://raw.githubusercontent.com/MDS7202/MDS7202/main/recursos/2023-01/03-Intro_a_la_programacion_en_python/union.png\" alt=\"Unión de conjuntos A y B\" width=300/>\n",
    "</center>\n",
    "\n",
    "<center>\n",
    "    Fuente: <a href=\"https://en.wikipedia.org/wiki/Union_(set_theory)\">Union (teoría de conjuntos) en Wikipedia</a>\n",
    "</center>"
   ]
  },
  {
   "cell_type": "code",
   "execution_count": null,
   "id": "precise-investigation",
   "metadata": {
    "ExecuteTime": {
     "end_time": "2021-03-22T20:12:38.241216Z",
     "start_time": "2021-03-22T20:12:38.229249Z"
    }
   },
   "outputs": [],
   "source": [
    "union_ = comida_chatarra.union(desayuno)\n",
    "union_"
   ]
  },
  {
   "cell_type": "markdown",
   "id": "historical-philip",
   "metadata": {},
   "source": [
    "##### Intersección\n",
    "\n",
    "\n",
    "Dados dos conjuntos $A$ y $B$, su intersección $A \\cap B$ se puede ver representada por:\n",
    "\n",
    "<center>\n",
    "<img src=\"https://raw.githubusercontent.com/MDS7202/MDS7202/main/recursos/2023-01/03-Intro_a_la_programacion_en_python/intersection.jpg\" alt=\"Intersección de conjuntos A y B\" width=300/>\n",
    "</center>\n",
    "\n",
    "<center>\n",
    "Fuente: <a href=\"https://en.wikipedia.org/wiki/Intersection_(set_theory)\">Interseccion en Wikipedia</a>\n",
    "</center>\n",
    "\n",
    "\n"
   ]
  },
  {
   "cell_type": "code",
   "execution_count": null,
   "id": "dangerous-tolerance",
   "metadata": {
    "ExecuteTime": {
     "end_time": "2021-03-22T19:12:29.604218Z",
     "start_time": "2021-03-22T19:12:29.590219Z"
    }
   },
   "outputs": [],
   "source": [
    "comida_chatarra.intersection(desayuno)"
   ]
  },
  {
   "cell_type": "markdown",
   "id": "caring-dallas",
   "metadata": {},
   "source": [
    "##### Diferencia\n",
    "\n",
    "\n",
    "Dados dos conjuntos $A$ y $B$, la diferencia entre $A - B$ se puede ver representada por:\n",
    "\n",
    "<center>\n",
    "<img src=\"https://raw.githubusercontent.com/MDS7202/MDS7202/main/recursos/2023-01/03-Intro_a_la_programacion_en_python/SetDifferenceA.svg.png\" alt=\"Diferencia A y B\" width=300/>\n",
    "</center>\n",
    "\n",
    "Y la diferencia entre $B - A$ se puede ver representada por:\n",
    "\n",
    "<center>\n",
    "<img src=\"https://raw.githubusercontent.com/MDS7202/MDS7202/main/recursos/2023-01/03-Intro_a_la_programacion_en_python/SetDifferenceB.svg.png\" alt=\"Diferencia B y A\" width=300/>\n",
    "</center>\n",
    "\n",
    "\n",
    "Recuerden que esta operación no es simétrica!"
   ]
  },
  {
   "cell_type": "code",
   "execution_count": null,
   "id": "complex-recycling",
   "metadata": {
    "ExecuteTime": {
     "end_time": "2021-03-22T19:12:29.635217Z",
     "start_time": "2021-03-22T19:12:29.623219Z"
    }
   },
   "outputs": [],
   "source": [
    "comida_chatarra.difference(desayuno)"
   ]
  },
  {
   "cell_type": "code",
   "execution_count": null,
   "id": "herbal-essex",
   "metadata": {
    "ExecuteTime": {
     "end_time": "2021-03-22T19:12:29.665218Z",
     "start_time": "2021-03-22T19:12:29.652220Z"
    }
   },
   "outputs": [],
   "source": [
    "desayuno.difference(comida_chatarra)"
   ]
  },
  {
   "cell_type": "markdown",
   "id": "brilliant-hungarian",
   "metadata": {},
   "source": [
    "### Diccionarios\n",
    "\n",
    "Un diccionario corresponde a la implementación pythonica de una aplicación del tipo \"llave - valor\".\n",
    "Permite crear estructuras que nos permitan representar de una forma más natural los datos.\n",
    "\n",
    "**Ejemplo**:"
   ]
  },
  {
   "cell_type": "code",
   "execution_count": null,
   "id": "deadly-lloyd",
   "metadata": {
    "ExecuteTime": {
     "end_time": "2021-03-23T13:50:12.556210Z",
     "start_time": "2021-03-23T13:50:12.547228Z"
    }
   },
   "outputs": [],
   "source": [
    "persona = {\n",
    "    'nombre': 'Juan', \n",
    "    'edad': 29, \n",
    "    'peso': 70.3,\n",
    "    'hobby': 'ilusionismo',\n",
    "}\n",
    "persona"
   ]
  },
  {
   "cell_type": "markdown",
   "id": "centered-cursor",
   "metadata": {},
   "source": [
    "Los datos presentes en un diccionario pueden ser accedidos mediante la sintaxis ```diccionario[llave]```."
   ]
  },
  {
   "cell_type": "code",
   "execution_count": null,
   "id": "tropical-trinity",
   "metadata": {
    "ExecuteTime": {
     "end_time": "2021-03-23T13:50:14.083270Z",
     "start_time": "2021-03-23T13:50:14.064275Z"
    }
   },
   "outputs": [],
   "source": [
    "persona['nombre']"
   ]
  },
  {
   "cell_type": "markdown",
   "id": "successful-buffer",
   "metadata": {},
   "source": [
    "> **Pregunta ❓**: ¿Qué sucede si intentamos acceder a una llave que no existe en el diccionario?"
   ]
  },
  {
   "cell_type": "code",
   "execution_count": null,
   "id": "creative-institute",
   "metadata": {
    "ExecuteTime": {
     "end_time": "2021-03-23T13:50:15.397944Z",
     "start_time": "2021-03-23T13:50:15.386966Z"
    }
   },
   "outputs": [],
   "source": [
    "persona['apellido']"
   ]
  },
  {
   "cell_type": "markdown",
   "id": "architectural-thesaurus",
   "metadata": {},
   "source": [
    "Podemos verificar si una llave existe en el diccionario usando el operador `in`"
   ]
  },
  {
   "cell_type": "code",
   "execution_count": null,
   "id": "amino-mortgage",
   "metadata": {
    "ExecuteTime": {
     "end_time": "2021-03-23T13:50:16.641522Z",
     "start_time": "2021-03-23T13:50:16.634521Z"
    }
   },
   "outputs": [],
   "source": [
    "'apellido' in persona"
   ]
  },
  {
   "cell_type": "code",
   "execution_count": null,
   "id": "d2ddb245-d867-4a8f-b737-0803d3a0577f",
   "metadata": {},
   "outputs": [],
   "source": [
    "if 'apellido' in persona:\n",
    "    print(persona['apellido'])\n",
    "else:\n",
    "    print('apellido no existe en el diccionario')"
   ]
  },
  {
   "cell_type": "markdown",
   "id": "015bd33a-2d3b-4939-ba66-0c622df899c4",
   "metadata": {},
   "source": [
    "#### Agregar llave al diccionario"
   ]
  },
  {
   "cell_type": "code",
   "execution_count": null,
   "id": "051ee7a1-e788-4737-ad87-2a35fbc81458",
   "metadata": {},
   "outputs": [],
   "source": [
    "persona"
   ]
  },
  {
   "cell_type": "code",
   "execution_count": null,
   "id": "89d12392-0b8c-4514-830c-3c2cd9484d08",
   "metadata": {},
   "outputs": [],
   "source": [
    "persona['apellido'] = 'Pérez'"
   ]
  },
  {
   "cell_type": "code",
   "execution_count": null,
   "id": "8e71eddd-9a26-4c74-8ccb-cc072e0d2835",
   "metadata": {},
   "outputs": [],
   "source": [
    "persona"
   ]
  },
  {
   "cell_type": "markdown",
   "id": "laden-burlington",
   "metadata": {},
   "source": [
    "#### Mutar Diccionario\n",
    "\n",
    "Podemos modifcar un valores presente en el diccionario similar a como lo hacíamos con listas, pero cambiando el índice por la llave:"
   ]
  },
  {
   "cell_type": "code",
   "execution_count": null,
   "id": "future-asthma",
   "metadata": {
    "ExecuteTime": {
     "end_time": "2021-03-22T20:16:08.234933Z",
     "start_time": "2021-03-22T20:16:08.211924Z"
    }
   },
   "outputs": [],
   "source": [
    "persona['peso'] = 68.01\n",
    "persona"
   ]
  },
  {
   "cell_type": "markdown",
   "id": "alert-water",
   "metadata": {},
   "source": [
    "Se pueden eliminar elementos del diccionario usando el operador `del`"
   ]
  },
  {
   "cell_type": "code",
   "execution_count": null,
   "id": "blank-wednesday",
   "metadata": {
    "ExecuteTime": {
     "end_time": "2021-03-22T20:16:58.312264Z",
     "start_time": "2021-03-22T20:16:58.302264Z"
    }
   },
   "outputs": [],
   "source": [
    "del persona['peso']\n",
    "\n",
    "persona"
   ]
  },
  {
   "cell_type": "markdown",
   "id": "arctic-antarctica",
   "metadata": {},
   "source": [
    "#### Acceder a *colecciones* con los elementos de los diccionarios"
   ]
  },
  {
   "cell_type": "markdown",
   "id": "massive-revelation",
   "metadata": {},
   "source": [
    "Para obtener las llaves de un diccionario se puede hacer uso del método ```.keys()```. \n"
   ]
  },
  {
   "cell_type": "code",
   "execution_count": null,
   "id": "extensive-royal",
   "metadata": {
    "ExecuteTime": {
     "end_time": "2021-03-22T20:16:50.035215Z",
     "start_time": "2021-03-22T20:16:50.029208Z"
    }
   },
   "outputs": [],
   "source": [
    "# Redefinimos el diccionario al original para el siguiente ejemplo\n",
    "persona = {\n",
    "    'nombre': 'Juan', \n",
    "    'edad': 29, \n",
    "    'peso': 70.3\n",
    "}"
   ]
  },
  {
   "cell_type": "code",
   "execution_count": null,
   "id": "sophisticated-praise",
   "metadata": {
    "ExecuteTime": {
     "end_time": "2021-03-22T20:16:24.765298Z",
     "start_time": "2021-03-22T20:16:24.753298Z"
    }
   },
   "outputs": [],
   "source": [
    "persona.keys()  # Ojo que no es una lista!"
   ]
  },
  {
   "cell_type": "markdown",
   "id": "opponent-palmer",
   "metadata": {},
   "source": [
    "Para obtener los elementos podemos usar el método `.values()`"
   ]
  },
  {
   "cell_type": "code",
   "execution_count": null,
   "id": "three-insider",
   "metadata": {
    "ExecuteTime": {
     "end_time": "2021-03-22T20:16:40.046254Z",
     "start_time": "2021-03-22T20:16:40.032232Z"
    }
   },
   "outputs": [],
   "source": [
    "persona.values()"
   ]
  },
  {
   "cell_type": "markdown",
   "id": "controlled-theology",
   "metadata": {},
   "source": [
    "Y se pueden obtener tuplas indicando todas las `(llaves, valor)` del diccionario"
   ]
  },
  {
   "cell_type": "code",
   "execution_count": null,
   "id": "about-toolbox",
   "metadata": {},
   "outputs": [],
   "source": [
    "persona.items()"
   ]
  },
  {
   "cell_type": "markdown",
   "id": "f3e3ab37-2d3f-4d93-a1e6-c30883b370a7",
   "metadata": {},
   "source": [
    "---"
   ]
  },
  {
   "cell_type": "markdown",
   "id": "magnetic-gambling",
   "metadata": {},
   "source": [
    "\n",
    "## Parte 2: Iteraciones 🔁"
   ]
  },
  {
   "cell_type": "markdown",
   "id": "emerging-storm",
   "metadata": {},
   "source": [
    "Las iteraciones permiten recorrer y ejecutar alguna acción sobre cada elemento de una colección. Existen varias formas de lograr esto:\n",
    "\n",
    "\n",
    "### Ciclo While - Propuesto estudio Personal\n",
    "\n",
    "\n",
    "**While:** un ciclo ```while``` permite realizar una ```acción``` en función del valor de verdad de una ```condicion```, su estructura es:\n",
    "\n",
    "```\n",
    "while condicion: # Condición booleana\n",
    "    acción # Bloque indentado\n",
    "```"
   ]
  },
  {
   "cell_type": "code",
   "execution_count": null,
   "id": "wanted-maker",
   "metadata": {
    "ExecuteTime": {
     "end_time": "2021-03-23T13:50:19.897248Z",
     "start_time": "2021-03-23T13:50:19.875247Z"
    }
   },
   "outputs": [],
   "source": [
    "contador = 0\n",
    "lista = [10, 20, 30, 40, 50, 60, 70, 80, 90, 100]\n",
    "\n",
    "while contador < len(lista):\n",
    "    print(\"Contador: \", contador, \" | \", \"Valor: \", lista[contador])\n",
    "    contador += 1"
   ]
  },
  {
   "cell_type": "markdown",
   "id": "e2ab756c-eb20-4db5-95ce-f4c90090dbe9",
   "metadata": {},
   "source": [
    "> **Nota 🗒️**: Notar que si no se rompe el ciclo while con alguna condición este puede iterar infinitamente"
   ]
  },
  {
   "cell_type": "code",
   "execution_count": null,
   "id": "9b8c6f74-82fc-4db7-a7d4-a9b056318070",
   "metadata": {},
   "outputs": [],
   "source": [
    "# no ejecutar esto\n",
    "# while True:\n",
    "#    ..."
   ]
  },
  {
   "cell_type": "markdown",
   "id": "gothic-concern",
   "metadata": {},
   "source": [
    "### Ciclo For\n",
    "\n",
    "Un ciclo ```for``` permite repetir realizar una```acción``` en función de los elementos de una *colección*. Su estructura corresponde a:\n",
    "\n",
    "```python\n",
    "for elemento in coleccion: \n",
    "    acción_sobre_el_elemento\n",
    "\n",
    "```\n",
    "\n",
    "en este caso ```elemento``` corresponde a una variable que toma, secuencialmente, los valores del iterator. \n",
    "\n",
    "###"
   ]
  },
  {
   "cell_type": "markdown",
   "id": "f1e4147f-847d-4a93-abc2-d8a905969c46",
   "metadata": {},
   "source": [
    "#### Iteración sobre lista"
   ]
  },
  {
   "cell_type": "code",
   "execution_count": null,
   "id": "alleged-mercy",
   "metadata": {
    "ExecuteTime": {
     "end_time": "2021-03-23T13:50:21.833277Z",
     "start_time": "2021-03-23T13:50:21.818239Z"
    }
   },
   "outputs": [],
   "source": [
    "lista = [0, 1, 2, 3, 4, 5]"
   ]
  },
  {
   "cell_type": "code",
   "execution_count": null,
   "id": "smoking-secret",
   "metadata": {
    "ExecuteTime": {
     "end_time": "2021-03-23T13:50:22.476165Z",
     "start_time": "2021-03-23T13:50:22.459150Z"
    }
   },
   "outputs": [],
   "source": [
    "for elemento in lista:\n",
    "    #print(elemento)\n",
    "    print(elemento ** 2)\n",
    "    #print(elemento, '^ 2 =', elemento ** 2)"
   ]
  },
  {
   "cell_type": "markdown",
   "id": "8a3365d2-6d2a-46f6-91c6-3511dbd313e6",
   "metadata": {},
   "source": [
    "### Iteración sobre llaves del diccionario"
   ]
  },
  {
   "cell_type": "code",
   "execution_count": null,
   "id": "6f955e5d",
   "metadata": {},
   "outputs": [],
   "source": [
    "persona = {\n",
    "    'nombre': 'Juan', \n",
    "    'edad': 29, \n",
    "    'peso': 70.3,\n",
    "    'hobby': 'ilusionismo',\n",
    "}\n",
    "persona"
   ]
  },
  {
   "cell_type": "code",
   "execution_count": null,
   "id": "amateur-stewart",
   "metadata": {
    "ExecuteTime": {
     "end_time": "2021-03-22T20:21:39.879297Z",
     "start_time": "2021-03-22T20:21:39.859296Z"
    }
   },
   "outputs": [],
   "source": [
    "for key in persona:\n",
    "    value = persona[key]\n",
    "    print(key.upper(), value)"
   ]
  },
  {
   "cell_type": "code",
   "execution_count": null,
   "id": "4738b389-38f8-4e31-bfcf-1ad9604dfa02",
   "metadata": {},
   "outputs": [],
   "source": [
    "persona"
   ]
  },
  {
   "cell_type": "markdown",
   "id": "4e3d70ce-2008-4ae3-a600-1b49e2db90a0",
   "metadata": {},
   "source": [
    "#### Iteración sobre ítems del diccionario\n",
    "\n",
    "Recordemos que `d.items()` nos entregaba una estructura similar a una lista [(llave_1, valor_1), ...]\n",
    "Como cada elemento es una tupla, podemos desempacarla en llave, valor en el mismo ciclo."
   ]
  },
  {
   "cell_type": "code",
   "execution_count": null,
   "id": "f9528bc1-f2b5-4d24-887e-495127fe89fc",
   "metadata": {},
   "outputs": [],
   "source": [
    "persona.items()"
   ]
  },
  {
   "cell_type": "code",
   "execution_count": null,
   "id": "guilty-effects",
   "metadata": {
    "ExecuteTime": {
     "end_time": "2021-03-22T20:22:17.080653Z",
     "start_time": "2021-03-22T20:22:17.073658Z"
    }
   },
   "outputs": [],
   "source": [
    "for tupla in persona.items():\n",
    "    llave, valor = tupla\n",
    "    print(llave, valor)\n",
    "    #print(f'{llave.upper()} : {valor}')"
   ]
  },
  {
   "cell_type": "markdown",
   "id": "computational-norman",
   "metadata": {},
   "source": [
    "### Utilitarios para la iteración"
   ]
  },
  {
   "cell_type": "markdown",
   "id": "corporate-message",
   "metadata": {},
   "source": [
    "#### Enumerador\n",
    "\n",
    "Permite tener el índice del elemento al cual estamos accediendo. Para esto, usar la función `enumerate(lista)`"
   ]
  },
  {
   "cell_type": "code",
   "execution_count": null,
   "id": "d3a77bb8-cee6-42fa-8314-ef829050ceb3",
   "metadata": {},
   "outputs": [],
   "source": [
    "lista = [10, 11, 12, 13, 14, 15]\n",
    "\n",
    "list(enumerate(lista))"
   ]
  },
  {
   "cell_type": "code",
   "execution_count": null,
   "id": "elect-adelaide",
   "metadata": {
    "ExecuteTime": {
     "end_time": "2021-03-22T20:22:27.345116Z",
     "start_time": "2021-03-22T20:22:27.325122Z"
    }
   },
   "outputs": [],
   "source": [
    "for indice, elemento in enumerate(lista):\n",
    "    print(f'Indice: {indice} | Elemento: {elemento}')\n",
    "    if indice % 3 == 0:\n",
    "        print(f'Encontré un indínce que es múltiplo de 3: {indice}')"
   ]
  },
  {
   "cell_type": "markdown",
   "id": "ecological-halloween",
   "metadata": {},
   "source": [
    "#### Range\n",
    "\n",
    "Genera una secuencia de números. No es una lista como tal, si no que un generador.Sintaxis: \n",
    " \n",
    "```python\n",
    "range(inicio, fin, opcional(salto) )\n",
    "```"
   ]
  },
  {
   "cell_type": "code",
   "execution_count": null,
   "id": "moved-century",
   "metadata": {
    "ExecuteTime": {
     "end_time": "2021-03-23T14:00:50.184140Z",
     "start_time": "2021-03-23T14:00:50.165117Z"
    }
   },
   "outputs": [],
   "source": [
    "for elemento in range(0, 5):\n",
    "    print(elemento)"
   ]
  },
  {
   "cell_type": "code",
   "execution_count": null,
   "id": "casual-recycling",
   "metadata": {
    "ExecuteTime": {
     "end_time": "2021-03-23T14:02:11.120715Z",
     "start_time": "2021-03-23T14:02:11.109702Z"
    }
   },
   "outputs": [],
   "source": [
    "# Podemos darle además un salto, es decir, cuanto saltaremos entre un elemento y otro.\n",
    "for elemento in range(0, 10, 3):\n",
    "    print(elemento)"
   ]
  },
  {
   "cell_type": "markdown",
   "id": "corrected-ballet",
   "metadata": {},
   "source": [
    "#### Zip\n",
    "\n",
    "Permite iterar entre dos o mas secuencias al mismo tiempo. Para esto, genera tuplas con ambos valores."
   ]
  },
  {
   "cell_type": "code",
   "execution_count": null,
   "id": "sixth-communication",
   "metadata": {
    "ExecuteTime": {
     "end_time": "2021-03-23T13:58:54.552693Z",
     "start_time": "2021-03-23T13:58:54.542693Z"
    }
   },
   "outputs": [],
   "source": [
    "preguntas = ['nombre', 'edad', 'peso']\n",
    "respuestas = ['Juan', '27', '70']\n",
    "\n",
    "list(zip(preguntas, respuestas))\n"
   ]
  },
  {
   "cell_type": "code",
   "execution_count": null,
   "id": "59809ab2-e7dd-4a20-9254-b33aa6897e6d",
   "metadata": {},
   "outputs": [],
   "source": [
    "for pregunta, respuesta in zip(preguntas, respuestas):\n",
    "    print(f'Cuál es tu {pregunta}?  Es {respuesta}.')"
   ]
  },
  {
   "cell_type": "markdown",
   "id": "practical-protection",
   "metadata": {},
   "source": [
    "#### Reverse\n",
    "\n",
    "Invierte el orden de la colección:"
   ]
  },
  {
   "cell_type": "code",
   "execution_count": null,
   "id": "f892f5d5-31eb-4a7f-a967-e7f1c7012fb4",
   "metadata": {},
   "outputs": [],
   "source": [
    "persona"
   ]
  },
  {
   "cell_type": "code",
   "execution_count": null,
   "id": "fitting-firewall",
   "metadata": {
    "ExecuteTime": {
     "end_time": "2021-03-23T13:59:47.139452Z",
     "start_time": "2021-03-23T13:59:47.133466Z"
    }
   },
   "outputs": [],
   "source": [
    "for i in reversed(persona):\n",
    "    print(i)"
   ]
  },
  {
   "cell_type": "markdown",
   "id": "fifth-recording",
   "metadata": {},
   "source": [
    "### List Comprehensions\n",
    "\n",
    "Es una forma *elegante* de crear colecciones.\n",
    "\n",
    "Supongamos que queremos crear una lista con todas las letras de la palabra `cuaderno`."
   ]
  },
  {
   "cell_type": "code",
   "execution_count": null,
   "id": "registered-sword",
   "metadata": {
    "ExecuteTime": {
     "end_time": "2021-03-22T20:23:14.764115Z",
     "start_time": "2021-03-22T20:23:14.751130Z"
    }
   },
   "outputs": [],
   "source": [
    "letras = []\n",
    "palabra = 'Cuaderno 📗'\n",
    "\n",
    "for letra in palabra:\n",
    "    letras.append(letra.upper())\n",
    "    print(f'Agregué a la lista: {letra.upper()}')\n",
    "\n",
    "letras"
   ]
  },
  {
   "cell_type": "markdown",
   "id": "illegal-meaning",
   "metadata": {},
   "source": [
    "Podemos reemplazar este ciclo `for` por una sintaxis mas compacta:"
   ]
  },
  {
   "cell_type": "code",
   "execution_count": null,
   "id": "formal-reset",
   "metadata": {
    "ExecuteTime": {
     "end_time": "2021-03-22T20:23:58.748825Z",
     "start_time": "2021-03-22T20:23:58.740827Z"
    }
   },
   "outputs": [],
   "source": [
    "letras = [letra.upper() for letra in palabra]\n",
    "letras"
   ]
  },
  {
   "cell_type": "markdown",
   "id": "severe-artwork",
   "metadata": {
    "ExecuteTime": {
     "end_time": "2021-03-22T19:02:53.523752Z",
     "start_time": "2021-03-22T19:02:53.515781Z"
    }
   },
   "source": [
    "Esto se le conoce como **List Comprehension**"
   ]
  },
  {
   "cell_type": "markdown",
   "id": "distributed-vision",
   "metadata": {},
   "source": [
    "Supongamos ahora que generamos una lista con los 10 primeros números enteros y de estos queremos solo los pares.\n",
    "Un código usando `for` se vería como:"
   ]
  },
  {
   "cell_type": "code",
   "execution_count": null,
   "id": "bf5d7ccb-3c35-4675-ba36-317771f96ded",
   "metadata": {},
   "outputs": [],
   "source": [
    "list(range(10))"
   ]
  },
  {
   "cell_type": "code",
   "execution_count": null,
   "id": "rough-toner",
   "metadata": {
    "ExecuteTime": {
     "end_time": "2021-03-22T20:24:21.286110Z",
     "start_time": "2021-03-22T20:24:21.276108Z"
    }
   },
   "outputs": [],
   "source": [
    "numeros_pares = []\n",
    "for numero in range(10):\n",
    "    if numero % 2 == 0:\n",
    "        numeros_pares.append(numero)\n",
    "\n",
    "numeros_pares"
   ]
  },
  {
   "cell_type": "markdown",
   "id": "completed-check",
   "metadata": {},
   "source": [
    "Usando **List Comprehension**:"
   ]
  },
  {
   "cell_type": "code",
   "execution_count": null,
   "id": "prostate-information",
   "metadata": {
    "ExecuteTime": {
     "end_time": "2021-03-22T20:25:13.348291Z",
     "start_time": "2021-03-22T20:25:13.341291Z"
    }
   },
   "outputs": [],
   "source": [
    "numeros_pares = [numero for numero in range(10) if numero % 2 == 0]\n",
    "numeros_pares"
   ]
  },
  {
   "cell_type": "code",
   "execution_count": null,
   "id": "subsequent-wright",
   "metadata": {
    "ExecuteTime": {
     "end_time": "2021-03-22T20:25:25.368603Z",
     "start_time": "2021-03-22T20:25:25.352606Z"
    }
   },
   "outputs": [],
   "source": [
    "numeros_pares = ['Par' if numero % 2 == 0 else 'Impar' for numero in range(10)]\n",
    "numeros_pares"
   ]
  },
  {
   "cell_type": "markdown",
   "id": "transsexual-color",
   "metadata": {},
   "source": [
    "> **Pregunta ❓:** ¿Se puede crear usando esta notación conjuntos o diccionarios?"
   ]
  },
  {
   "cell_type": "code",
   "execution_count": null,
   "id": "a31cf772-18c0-4e08-b2cd-2b0a61e84d61",
   "metadata": {},
   "outputs": [],
   "source": [
    "{numero: 'Par' if numero % 2 == 0 else 'Impar' for numero in range(10) }"
   ]
  },
  {
   "cell_type": "markdown",
   "id": "8ff4921e",
   "metadata": {},
   "source": [
    "---"
   ]
  },
  {
   "cell_type": "markdown",
   "id": "c10e2bb3",
   "metadata": {},
   "source": [
    "### Ejercicios"
   ]
  },
  {
   "cell_type": "markdown",
   "id": "ad7a9d65",
   "metadata": {},
   "source": [
    "### 1) Potencias de dos\n",
    "\n",
    "Escriba un programa que genere todas las potencias de 2, desde la 0-ésima hasta la ingresada por el usuario:"
   ]
  },
  {
   "cell_type": "code",
   "execution_count": null,
   "id": "e6d1f62c",
   "metadata": {},
   "outputs": [],
   "source": []
  },
  {
   "cell_type": "markdown",
   "id": "1d4ab0e1",
   "metadata": {},
   "source": [
    "### 2) Mayores que\n",
    "\n",
    "Escriba un programa que reciba como entrada los siguientes valores:\n",
    "\n",
    "- Un número x.\n",
    "- Un número n, que indique la cantidad de números a guardar en una lista ```mayoresque```.\n",
    "- Los n números.\n",
    "\n",
    "El programa debe imprimir una nueva lista con los números contenidos dentro de la lista ```mayoresque```, que sea mayores a x."
   ]
  },
  {
   "cell_type": "code",
   "execution_count": null,
   "id": "63218d48",
   "metadata": {},
   "outputs": [],
   "source": []
  },
  {
   "cell_type": "markdown",
   "id": "2bc96679",
   "metadata": {},
   "source": [
    "### 3) Contar palabras.\n",
    "\n",
    "Escriba un programa que cuente la cantidad de veces que aparecen las palabras de las oraciones contenidas, en una lista de oraciones utilizando un dicionario.\n",
    "\n",
    "```python\n",
    "oraciones = [\n",
    "    \"El curso de Data Science es mejor\",\n",
    "    \"El Data Science es lo mismo que el Machine Learning\",\n",
    "    \"Creo que estadiare Data Science en el futuro\",\n",
    "]\n",
    "```"
   ]
  },
  {
   "cell_type": "code",
   "execution_count": null,
   "id": "07fc023e",
   "metadata": {},
   "outputs": [],
   "source": []
  },
  {
   "cell_type": "markdown",
   "id": "finnish-swimming",
   "metadata": {},
   "source": [
    "## Otras referencias"
   ]
  },
  {
   "cell_type": "markdown",
   "id": "dimensional-cyprus",
   "metadata": {},
   "source": [
    "Un excelente tutorial de Python:\n",
    "    \n",
    "https://www.programiz.com/python-programming\n",
    "\n",
    "Y el tutorial oficial: \n",
    "\n",
    "https://docs.python.org/es/3/tutorial/\n"
   ]
  }
 ],
 "metadata": {
  "kernelspec": {
   "display_name": "Python 3",
   "language": "python",
   "name": "python3"
  },
  "language_info": {
   "codemirror_mode": {
    "name": "ipython",
    "version": 3
   },
   "file_extension": ".py",
   "mimetype": "text/x-python",
   "name": "python",
   "nbconvert_exporter": "python",
   "pygments_lexer": "ipython3",
   "version": "3.8.8"
  },
  "toc": {
   "base_numbering": 1,
   "nav_menu": {},
   "number_sections": true,
   "sideBar": true,
   "skip_h1_title": false,
   "title_cell": "Table of Contents",
   "title_sidebar": "Contents",
   "toc_cell": false,
   "toc_position": {
    "height": "calc(100% - 180px)",
    "left": "10px",
    "top": "150px",
    "width": "294.233px"
   },
   "toc_section_display": true,
   "toc_window_display": true
  },
  "varInspector": {
   "cols": {
    "lenName": 16,
    "lenType": 16,
    "lenVar": 40
   },
   "kernels_config": {
    "python": {
     "delete_cmd_postfix": "",
     "delete_cmd_prefix": "del ",
     "library": "var_list.py",
     "varRefreshCmd": "print(var_dic_list())"
    },
    "r": {
     "delete_cmd_postfix": ") ",
     "delete_cmd_prefix": "rm(",
     "library": "var_list.r",
     "varRefreshCmd": "cat(var_dic_list()) "
    }
   },
   "types_to_exclude": [
    "module",
    "function",
    "builtin_function_or_method",
    "instance",
    "_Feature"
   ],
   "window_display": false
  }
 },
 "nbformat": 4,
 "nbformat_minor": 5
}
