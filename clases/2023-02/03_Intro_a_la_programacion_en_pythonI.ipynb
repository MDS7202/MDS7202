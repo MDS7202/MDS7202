{
 "cells": [
  {
   "cell_type": "markdown",
   "id": "201e2305-96c6-4aaa-a417-688dcdb888fe",
   "metadata": {},
   "source": [
    "# Clase 3: Introducción a la Programación con `Python`\n",
    "\n",
    "**MDS7202: Laboratorio de Programación Científica para Ciencia de Datos**"
   ]
  },
  {
   "cell_type": "markdown",
   "id": "accepting-university",
   "metadata": {},
   "source": [
    "\n",
    "## Objetivos de la Clase 🎯\n",
    "\n",
    "- Introducirlos a `Python` y el porqué lo usamos.\n",
    "- Variables.\n",
    "- Tipos de datos básicos y tipado dinámico.\n",
    "- Operaciones y operadores, transformaciones entre tipos de datos.\n",
    "- Control de flujo."
   ]
  },
  {
   "cell_type": "markdown",
   "id": "collective-springer",
   "metadata": {
    "tags": []
   },
   "source": [
    "## Introducción a Python\n",
    "\n",
    "\n",
    "<div align='center'>\n",
    "<img src=\"https://raw.githubusercontent.com/MDS7202/MDS7202/main/recursos/2023-01/03-Intro_a_la_programacion_en_python/python_logo.png\" width=400 alt=\"logo\"/>\n",
    "</div>\n",
    "\n",
    "`Python` es un lenguaje de programación multipropósito, enfocado en preservar legibilidad y simpleza sintáctica (_o sea, que sea facil de leer y escribir_).\n",
    "Sus características y principios lo convierten en un lenguaje poderoso y fácil de aprender. \n",
    "\n",
    "Por esta razón, es ampliamente utilizado en ámbitos tales como: \n",
    "\n",
    "- Desarrollo Web, \n",
    "- Data Science, \n",
    "- Scripting,\n",
    "- Software de escritorio,\n",
    "- etc..."
   ]
  },
  {
   "cell_type": "markdown",
   "id": "6a06b83a",
   "metadata": {},
   "source": [
    "## ¿Dónde puedo descargar Python?\n",
    "\n",
    "Existe dos opciones para descargar ```Python```, que son:\n",
    "\n",
    "- Descargarlo de la página oficial: https://www.python.org/ Sin embargo, desde la página oficial sólo se descarga la versión estándar con librerías nativas.\n",
    "- Descargarlo desde la página de Anaconda: https://www.anaconda.com/ Esta versión viene con muchas librerías que utilizaremos durante el curso, por lo que es la opción más recomendada."
   ]
  },
  {
   "cell_type": "code",
   "execution_count": 1,
   "id": "d329c332-e334-4891-a68a-6dfdb366bb8a",
   "metadata": {},
   "outputs": [
    {
     "name": "stdout",
     "output_type": "stream",
     "text": [
      "The Zen of Python, by Tim Peters\n",
      "\n",
      "Beautiful is better than ugly.\n",
      "Explicit is better than implicit.\n",
      "Simple is better than complex.\n",
      "Complex is better than complicated.\n",
      "Flat is better than nested.\n",
      "Sparse is better than dense.\n",
      "Readability counts.\n",
      "Special cases aren't special enough to break the rules.\n",
      "Although practicality beats purity.\n",
      "Errors should never pass silently.\n",
      "Unless explicitly silenced.\n",
      "In the face of ambiguity, refuse the temptation to guess.\n",
      "There should be one-- and preferably only one --obvious way to do it.\n",
      "Although that way may not be obvious at first unless you're Dutch.\n",
      "Now is better than never.\n",
      "Although never is often better than *right* now.\n",
      "If the implementation is hard to explain, it's a bad idea.\n",
      "If the implementation is easy to explain, it may be a good idea.\n",
      "Namespaces are one honking great idea -- let's do more of those!\n"
     ]
    }
   ],
   "source": [
    "# Pueden ver los principios de python ejecutando la siguiente celda:\n",
    "import this"
   ]
  },
  {
   "cell_type": "markdown",
   "id": "0cd73297-91ba-4102-8eb9-352564fd33ed",
   "metadata": {},
   "source": [
    "> **Pregunta ❓**: Qué _software_ conocen que se base en python?\n",
    "\n",
    "[Lista de software escrito total o particlamente en Python (en inglés).](https://en.wikipedia.org/wiki/List_of_Python_software)"
   ]
  },
  {
   "cell_type": "markdown",
   "id": "37e76dbb-5e1a-4d28-9859-2b55576b893f",
   "metadata": {},
   "source": [
    "> **Pregunta ❓**: ¿En qué han utilizado `Python` con anterioridad?"
   ]
  },
  {
   "cell_type": "markdown",
   "id": "340a19da-57de-470f-8496-ea9c41e62c4c",
   "metadata": {},
   "source": [
    "### Baterías Incluidas 🔋\n",
    "\n",
    "Además, se dice que viene con _baterías incluidas_, es decir, una larga cantidad de funcionalidades extra en la librería estándar que permiten incrementar la velocidad del desarrollo de software. Entre otras podemos nombrar:\n",
    "\n",
    "- Algoritmos y estructuras de datos.\n",
    "- Manejo y limpieza de texto y expresiones regulares 🌟.\n",
    "- Manejo de rutas y archivos (escritura, lectura, etc...) 🌟.\n",
    "- Manejo de datos temporales 🌟.\n",
    "- Generación de números aleatorios 🌟.\n",
    "- Concurrencia 🌟.\n",
    "- Networking y desarrollo web.\n",
    "- Multimedia (reproducir imágenes, audio y videos).\n",
    "- Interfaces gráficas.\n",
    "\n",
    "Y un gran etc...\n"
   ]
  },
  {
   "cell_type": "markdown",
   "id": "2c56abd3-6bdc-465c-9f5f-50c16162079e",
   "metadata": {},
   "source": [
    "> **Pregunta ❓**: Pero..., ¿Esto es suficiente?"
   ]
  },
  {
   "cell_type": "markdown",
   "id": "7be8f68c-5609-4c2a-b8f7-441091217f17",
   "metadata": {},
   "source": [
    "### Ecosistema 🌳\n",
    "\n",
    "Muy probablemente la segunda razón de la popularidad de python es su extenso ecosistema: la gran cantidad de paquetes de código abierto que son compatibles con el lenguaje. \n",
    "\n",
    "> **Nota 🗒️**: Un paquete o librería es un software desarrollado por terceros que permite ampliar las funcionalidades disponibles en python, las cuáles están enfocadas en ser usadas bajo demanda.\n",
    "\n",
    "\n",
    "<div align=\"center\"/>\n",
    "<img src=\"https://raw.githubusercontent.com/MDS7202/MDS7202/main/recursos/2023-01/03-Intro_a_la_programacion_en_python/python_powered.png\" width=\"600\">\n",
    "</div>\n",
    "\n",
    "<br>\n",
    "\n",
    "<div align=\"center\"/>\n",
    "Fuente: <a href=\"https://en.wikipedia.org/wiki/Python_(programming_language)#Uses\">Python en Wikipedia</a>.\n",
    "</div>\n",
    "\n",
    "\n",
    "La principal forma de acceder a las librerías es el repositorio de paquetes de python [PyPi](https://pypi.org/))."
   ]
  },
  {
   "cell_type": "markdown",
   "id": "ad716eb2",
   "metadata": {},
   "source": [
    "### Entonces, ¿Por qué usamos `Python` en Data Science? 🤔\n",
    "\n",
    "Se podría decir que la suma de lo anterior:\n",
    "<div align=\"center\">\n",
    "    <strong>\n",
    " La simpleza del lenguaje más la gran y activa comunidad open-source que desarrolla el ecosistema de paquetes enfocados en ciencia de datos.\n",
    "    </strong>\n",
    "</div>\n",
    "\n",
    "<br>\n",
    "<br>\n",
    "    \n",
    "<div align=\"center\"/>\n",
    "<img src=\"https://raw.githubusercontent.com/MDS7202/MDS7202/main/recursos/2023-01/03-Intro_a_la_programacion_en_python/python_ds_stack.png\" width=\"600\">\n",
    "</div>\n",
    "\n",
    "<br>\n",
    "\n",
    "<div align=\"center\"/>\n",
    "Fuente: <a href=\"https://jupytearth.org/jupyter-resources/introduction/ecosystem.html\">Jupyter Meets the Earth</a>.\n",
    "</div>\n"
   ]
  },
  {
   "cell_type": "markdown",
   "id": "792ef8b2-9308-4f8f-966d-4c6d9378efac",
   "metadata": {},
   "source": [
    "### Pero pero pero python es lento... 😪\n",
    "\n",
    "Si bien el rendimiento de los lenguajes interpretados (como python) es bajo para operaciones intensivas computacionalmente, la mayoría de las librerías están implementadas usando código escrito en lenguajes mucho más eficientes (C, Fortran), lo que permite que las operaciones sean muy eficientes."
   ]
  },
  {
   "cell_type": "markdown",
   "id": "df8ca7b5",
   "metadata": {},
   "source": [
    "### Primero conceptos básicos"
   ]
  },
  {
   "cell_type": "markdown",
   "id": "c76e53ee",
   "metadata": {},
   "source": [
    "#### ¿Qué es un algoritmo?\n",
    "\n",
    "Secuencia **lógica, finita y ordenada** de pasos que permiten ejecutar cualquier tarea. Ejemplos:\n",
    "\n",
    "- Cepillarse los dientes.\n",
    "- Seguir una recetas de comida, como un pastel.\n",
    "- Seguir el manual de instrucciones de armado de un mueble.\n",
    "\n",
    "<img src=\"https://conogasi.org/wp-content/uploads/2017/09/ALGORITMO.png\">\n",
    "\n",
    "<br>\n",
    "\n",
    "<div align=\"center\"/>\n",
    "Fuente: <a href=\"https://conogasi.org/articulos/algoritmo/\">Articulos en conogasi</a>.\n",
    "</div>\n"
   ]
  },
  {
   "cell_type": "markdown",
   "id": "e6a42029",
   "metadata": {},
   "source": [
    "#### Pseudocódigo\n",
    "\n",
    "Un pseudocódigo define los pasos que se requieren para resolver un problema y estas descripciones de alto nivel se describen en su mayoría en formato legible en lugar de en formato legible por máquina, porque el objetivo de tener un pseudocódigo es hacer comprender los pasos necesarios para resolver un problema a nadie.\n",
    "\n",
    "<img src=\"https://www.areatecnologia.com/informatica/imagenes/pseudocodigo.jpg\">\n",
    "\n"
   ]
  },
  {
   "cell_type": "markdown",
   "id": "0088caaf",
   "metadata": {},
   "source": [
    "#### Definición de Lenguage de Programación\n",
    "\n",
    "> Un lenguaje de programación es un lenguaje formal (o artificial, es decir, un lenguaje con reglas gramaticales bien definidas) que proporciona a una persona, en este caso el programador, la capacidad y habilidad de escribir (o programar) una serie de instrucciones o secuencias de órdenes en forma de algoritmos con el fin de controlar el comportamiento físico o lógico de un sistema informático, para que de esa manera se puedan obtener diversas clases de datos o ejecutar determinadas tareas. A todo este conjunto de órdenes escritas mediante un lenguaje de programación se le denomina programa informático\n",
    "\n",
    "<div align=\"center\"/>\n",
    "Fuente: <a href=\"https://es.wikipedia.org/wiki/Lenguaje_de_programaci%C3%B3n\">Definición tomada de Wikipedia</a>.\n",
    "</div>"
   ]
  },
  {
   "cell_type": "markdown",
   "id": "c9ac5068",
   "metadata": {},
   "source": [
    "<img src=\"https://upload.wikimedia.org/wikipedia/commons/5/58/FortranCardPROJ039.agr.jpg\">\n",
    "\n",
    "<br>\n",
    "\n",
    "<div align=\"center\"/>\n",
    "Fuente: <a href=\"https://es.wikipedia.org/wiki/Lenguaje_de_programaci%C3%B3n\">Código Fortran en una tarjeta perforada de Wikipedia</a>.\n",
    "</div>\n",
    "\n",
    "\n"
   ]
  },
  {
   "cell_type": "markdown",
   "id": "779d80eb-9597-4991-b779-b555ae3e72ea",
   "metadata": {
    "tags": []
   },
   "source": [
    "## Manos a la obra 🛠️\n",
    "\n",
    "\n",
    "A continuación haremos un repaso a grandes rasgos de las sintaxis y funcionalidades básicas de python."
   ]
  },
  {
   "cell_type": "markdown",
   "id": "03c531e6-e0f8-49a4-8442-115c091b29b1",
   "metadata": {},
   "source": [
    "---"
   ]
  },
  {
   "cell_type": "markdown",
   "id": "champion-dubai",
   "metadata": {},
   "source": [
    "## 1. Variables 🪪\n",
    "\n",
    "Las variables son un bloque fundamental en la programación: Son el medio que nos permite vincular un identificador/variable con valores/datos.\n",
    "En Python se definen por medio de una **sentencia de asignación** usando el operador ` = `.\n",
    "\n",
    "> **Nota 🗒️**: Una sentencia es una instrucción que el intérprete de Python puede ejecutar\n"
   ]
  },
  {
   "cell_type": "code",
   "execution_count": 1,
   "id": "extensive-basis",
   "metadata": {
    "ExecuteTime": {
     "end_time": "2021-03-22T19:22:38.821644Z",
     "start_time": "2021-03-22T19:22:38.817644Z"
    }
   },
   "outputs": [],
   "source": [
    "variable = 9"
   ]
  },
  {
   "cell_type": "markdown",
   "id": "atlantic-insight",
   "metadata": {},
   "source": [
    "Pueden imprimir el valor que tiene una variable utilizando la función `print(nombre_de_la_variable)` \n",
    "\n",
    "> **Nota 🗒️**: Veremos más adelante funciones; mientras tanto, solo utilícenla."
   ]
  },
  {
   "cell_type": "code",
   "execution_count": 3,
   "id": "eleven-austria",
   "metadata": {
    "ExecuteTime": {
     "end_time": "2021-03-22T19:23:23.900022Z",
     "start_time": "2021-03-22T19:23:23.887023Z"
    }
   },
   "outputs": [
    {
     "name": "stdout",
     "output_type": "stream",
     "text": [
      "9\n"
     ]
    }
   ],
   "source": [
    "print(variable)"
   ]
  },
  {
   "cell_type": "markdown",
   "id": "prepared-collector",
   "metadata": {},
   "source": [
    "O cuando estén ejecutando un Jupyter Notebook, pueden imprimir el valor de la variable poniendo el nombre de esta al final de una celda.\n",
    "\n",
    "> **Nota 🗒️:** Pueden escribir comentarios (lineas que no se ejecutarán) usando `#`:\n"
   ]
  },
  {
   "cell_type": "code",
   "execution_count": 4,
   "id": "gentle-illinois",
   "metadata": {
    "ExecuteTime": {
     "end_time": "2021-03-22T19:24:03.318890Z",
     "start_time": "2021-03-22T19:24:03.311841Z"
    },
    "scrolled": true,
    "tags": []
   },
   "outputs": [
    {
     "data": {
      "text/plain": [
       "9"
      ]
     },
     "execution_count": 4,
     "metadata": {},
     "output_type": "execute_result"
    }
   ],
   "source": [
    "# declarar la variable\n",
    "variable = 9\n",
    "\n",
    "# ver su valor\n",
    "variable"
   ]
  },
  {
   "cell_type": "markdown",
   "id": "73f8489d-7c99-4e3d-802c-df70989adc81",
   "metadata": {
    "ExecuteTime": {
     "end_time": "2021-03-22T14:32:19.114508Z",
     "start_time": "2021-03-22T14:32:19.100507Z"
    },
    "tags": []
   },
   "source": [
    "### Convenciones para Nombrar Variables\n",
    "\n",
    "Estas son las convenciones que se usualmente se usan en `python` para escribir código (declaradas en un [Python Enhancement Proposal (PEP) 8 – Style Guide for Python Code](https://peps.python.org/pep-0008) y que **utilizaremos en el curso**. \n",
    "La idea es siempre mantener siempre la consistencia y legibilidad del código.\n",
    "\n",
    "- Largo máximo de linea: 79 carácteres\n",
    "\n",
    "- Nombres de variables y funciones: `lower_case_with_underscores`.\n",
    "\n",
    "```python\n",
    "entero = 10\n",
    "entero_mas_grande = 100\n",
    "una_funcion_cualquiera\n",
    "```\n",
    "\n",
    "- Constantes (identificadores que no deberían cambiar a futuro): `UPPER_CASE_WITH_UNDERSCORES` \n",
    "```python\n",
    "PI = 3.14\n",
    "GRAVEDAD_EN_MARTE = 3.711\n",
    "```\n"
   ]
  },
  {
   "cell_type": "markdown",
   "id": "9068540e-b27c-4116-9562-79056ccc8ec1",
   "metadata": {},
   "source": [
    "> **Pregunta ❓**: ¿Pueden cambiar los valores de las constantes?\n"
   ]
  },
  {
   "cell_type": "markdown",
   "id": "df21e332-d08f-4bc1-8eb6-a5a4b27ecfd8",
   "metadata": {},
   "source": [
    "- Clases (veremos qué son más adelante): `CapitalizedWords `\n",
    "\n",
    "\n",
    "```python\n",
    "class ClaseConEstilo1:\n",
    "    ...\n",
    "```\n",
    "\n",
    "- Otras reglas:\n",
    "    - Nombres de variables con sentido y que describan que contiene la variable o que hace la función.\n",
    "    - Nunca usar nombres con uno o dos carácteres: usualmente rompen con el punto anterior.\n",
    "\n",
    "> **Nota 🗒️**: Recuerden que en un ámbito profesional, su código probablemente será visto y usados por otros!\n",
    "    "
   ]
  },
  {
   "cell_type": "markdown",
   "id": "50721710",
   "metadata": {},
   "source": [
    "### Entradas/Salidas"
   ]
  },
  {
   "cell_type": "markdown",
   "id": "e2c071e8",
   "metadata": {},
   "source": [
    "#### Función ```input()```\n",
    "\n",
    "La función ```input()``` permite obtener texto escrito por teclado. Al llegar a la función, el programa se detiene esperando que se escriba algo y se pulse la tecla Intro, como muestra el siguiente ejemplo:"
   ]
  },
  {
   "cell_type": "code",
   "execution_count": 4,
   "id": "e8254468",
   "metadata": {},
   "outputs": [
    {
     "name": "stdout",
     "output_type": "stream",
     "text": [
      "¿Cómo se llama?\n",
      "Gabriel\n",
      "Me alegro de conocerle, Gabriel\n"
     ]
    }
   ],
   "source": [
    "print(\"¿Cómo se llama?\")\n",
    "nombre = input()\n",
    "print(f\"Me alegro de conocerle, {nombre}\")"
   ]
  },
  {
   "cell_type": "markdown",
   "id": "ffb66b92",
   "metadata": {},
   "source": [
    "#### Función ```print```\n",
    "\n",
    "La función print() imprime el objeto dado en el dispositivo de salida estándar (pantalla) o en el archivo de flujo de texto."
   ]
  },
  {
   "cell_type": "code",
   "execution_count": 5,
   "id": "5a4578a5",
   "metadata": {},
   "outputs": [
    {
     "name": "stdout",
     "output_type": "stream",
     "text": [
      "Python es divertido\n"
     ]
    }
   ],
   "source": [
    "message = 'Python es divertido'\n",
    "\n",
    "# imprime el mensaje\n",
    "print(message)"
   ]
  },
  {
   "cell_type": "markdown",
   "id": "87c91542-1dfe-4ec4-b578-5331ffc34fd1",
   "metadata": {},
   "source": [
    "---"
   ]
  },
  {
   "cell_type": "markdown",
   "id": "egyptian-sharp",
   "metadata": {
    "tags": []
   },
   "source": [
    "## 2. Tipos de Datos 📇\n",
    "\n",
    "A continuación veremos los tipos de datos básicos o literales: **datos en bruto** que se asignan a variables.\n",
    "\n",
    "\n",
    "### Tipos de Datos Básicos\n"
   ]
  },
  {
   "cell_type": "markdown",
   "id": "jewish-documentation",
   "metadata": {},
   "source": [
    "#### Integers\n",
    "\n",
    "Números enteros creados sin parte compleja ni posiciones decimales. En este tipo de de dato es posible realizar las operaciones de división entera."
   ]
  },
  {
   "cell_type": "code",
   "execution_count": 6,
   "id": "julian-tennessee",
   "metadata": {
    "ExecuteTime": {
     "end_time": "2021-03-22T19:25:31.129685Z",
     "start_time": "2021-03-22T19:25:31.110685Z"
    }
   },
   "outputs": [
    {
     "data": {
      "text/plain": [
       "999999999999999999999999999999999999999999999999999999999999999999999999999999999999999999999999999999999999999999999999999999999999999999999999999999999999999999999999999999999999999999"
      ]
     },
     "execution_count": 6,
     "metadata": {},
     "output_type": "execute_result"
    }
   ],
   "source": [
    "entero = 999999999999999999999999999999999999999999999999999999999999999999999999999999999999999999999999999999999999999999999999999999999999999999999999999999999999999999999999999999999999999999\n",
    "entero"
   ]
  },
  {
   "cell_type": "markdown",
   "id": "extreme-oxide",
   "metadata": {},
   "source": [
    "#### Floats\n",
    "\n",
    "Valores numéricos de punto flotante, pueden ser creados agregando posiciones decimales ej: ```0.87```"
   ]
  },
  {
   "cell_type": "code",
   "execution_count": 7,
   "id": "square-jones",
   "metadata": {
    "ExecuteTime": {
     "end_time": "2021-03-22T19:25:47.489212Z",
     "start_time": "2021-03-22T19:25:47.480216Z"
    }
   },
   "outputs": [
    {
     "data": {
      "text/plain": [
       "9.2344"
      ]
     },
     "execution_count": 7,
     "metadata": {},
     "output_type": "execute_result"
    }
   ],
   "source": [
    "numero_flotante = 9.2344\n",
    "numero_flotante"
   ]
  },
  {
   "cell_type": "markdown",
   "id": "periodic-characterization",
   "metadata": {},
   "source": [
    "#### Complex\n",
    "\n",
    "Números complejos, se pueden crear utilizando la notación ```a + bj``` donde ```a``` es la parte real y ```b``` es la parte compleja."
   ]
  },
  {
   "cell_type": "code",
   "execution_count": 9,
   "id": "printable-mining",
   "metadata": {
    "ExecuteTime": {
     "end_time": "2021-03-22T19:25:52.849207Z",
     "start_time": "2021-03-22T19:25:52.841207Z"
    },
    "scrolled": true
   },
   "outputs": [
    {
     "data": {
      "text/plain": [
       "(10+1j)"
      ]
     },
     "execution_count": 9,
     "metadata": {},
     "output_type": "execute_result"
    }
   ],
   "source": [
    "numero_complejo = 10 + 1j\n",
    "numero_complejo"
   ]
  },
  {
   "cell_type": "markdown",
   "id": "affecting-session",
   "metadata": {},
   "source": [
    "#### Booleans/Bools\n",
    "\n",
    "Valores de verdad `True` o `False`."
   ]
  },
  {
   "cell_type": "code",
   "execution_count": 10,
   "id": "super-affair",
   "metadata": {
    "ExecuteTime": {
     "end_time": "2021-03-22T19:26:29.515577Z",
     "start_time": "2021-03-22T19:26:29.500546Z"
    }
   },
   "outputs": [
    {
     "data": {
      "text/plain": [
       "False"
      ]
     },
     "execution_count": 10,
     "metadata": {},
     "output_type": "execute_result"
    }
   ],
   "source": [
    "booleano = False\n",
    "booleano"
   ]
  },
  {
   "cell_type": "code",
   "execution_count": 11,
   "id": "32ed614a-163d-4097-8b99-e69998bdbae9",
   "metadata": {},
   "outputs": [
    {
     "data": {
      "text/plain": [
       "True"
      ]
     },
     "execution_count": 11,
     "metadata": {},
     "output_type": "execute_result"
    }
   ],
   "source": [
    "booleano = True\n",
    "booleano"
   ]
  },
  {
   "cell_type": "markdown",
   "id": "e8e7e6ae-d18a-4984-9a91-7575f49d21e1",
   "metadata": {},
   "source": [
    "#### Strings\n",
    "\n",
    "\"Cadenas\" de carácteres que contienen un texto. Estos pueden ser definidos usando comillas simples ``` ' '``` o dobles ```\" \"```."
   ]
  },
  {
   "cell_type": "code",
   "execution_count": 8,
   "id": "inside-departure",
   "metadata": {
    "ExecuteTime": {
     "end_time": "2021-03-22T19:27:24.309550Z",
     "start_time": "2021-03-22T19:27:24.305543Z"
    }
   },
   "outputs": [
    {
     "data": {
      "text/plain": [
       "'Juan esta tomando té 🍵'"
      ]
     },
     "execution_count": 8,
     "metadata": {},
     "output_type": "execute_result"
    }
   ],
   "source": [
    "oracion = \"Juan esta tomando té 🍵\"\n",
    "oracion"
   ]
  },
  {
   "cell_type": "markdown",
   "id": "suburban-radar",
   "metadata": {
    "ExecuteTime": {
     "end_time": "2021-03-22T15:21:25.296930Z",
     "start_time": "2021-03-22T15:21:25.278931Z"
    }
   },
   "source": [
    "#### `None`\n",
    "\n",
    "Tipo especial (pronunciado *nan*) que representa que la variable tiene un valor inespecífico."
   ]
  },
  {
   "cell_type": "code",
   "execution_count": 9,
   "id": "committed-citizen",
   "metadata": {
    "ExecuteTime": {
     "end_time": "2021-03-22T19:11:41.641505Z",
     "start_time": "2021-03-22T19:11:41.627508Z"
    }
   },
   "outputs": [],
   "source": [
    "variable_sin_ningún_valor = None\n",
    "variable_sin_ningún_valor"
   ]
  },
  {
   "cell_type": "code",
   "execution_count": 10,
   "id": "b00014f2",
   "metadata": {},
   "outputs": [
    {
     "name": "stdout",
     "output_type": "stream",
     "text": [
      "None\n"
     ]
    }
   ],
   "source": [
    "print(variable_sin_ningún_valor)"
   ]
  },
  {
   "cell_type": "code",
   "execution_count": 11,
   "id": "accredited-objective",
   "metadata": {
    "ExecuteTime": {
     "end_time": "2021-03-22T19:27:31.586122Z",
     "start_time": "2021-03-22T19:27:31.569122Z"
    }
   },
   "outputs": [],
   "source": [
    "variable_sin_ningún_valor"
   ]
  },
  {
   "cell_type": "markdown",
   "id": "6467a7cb-b270-4746-8890-c16b810df065",
   "metadata": {},
   "source": [
    "> **Pregunta ❓**: En ciencia de datos, qué utilidad pueden tener estos tipos de datos?"
   ]
  },
  {
   "cell_type": "markdown",
   "id": "unlimited-diameter",
   "metadata": {
    "ExecuteTime": {
     "end_time": "2021-03-22T14:17:09.464686Z",
     "start_time": "2021-03-22T14:17:09.444669Z"
    }
   },
   "source": [
    "### Función `type`\n",
    "\n",
    "Podemos usar la función `type(identificador)` para saber cuál es el tipo de dato que contiene una variable "
   ]
  },
  {
   "cell_type": "code",
   "execution_count": 12,
   "id": "5a9cc107-2b15-45da-bff2-e8f20af873db",
   "metadata": {},
   "outputs": [
    {
     "data": {
      "text/plain": [
       "'Juan esta tomando té 🍵'"
      ]
     },
     "execution_count": 12,
     "metadata": {},
     "output_type": "execute_result"
    }
   ],
   "source": [
    "oracion"
   ]
  },
  {
   "cell_type": "code",
   "execution_count": 13,
   "id": "dental-filling",
   "metadata": {
    "ExecuteTime": {
     "end_time": "2021-03-22T19:28:13.717955Z",
     "start_time": "2021-03-22T19:28:13.708955Z"
    },
    "scrolled": true
   },
   "outputs": [
    {
     "data": {
      "text/plain": [
       "str"
      ]
     },
     "execution_count": 13,
     "metadata": {},
     "output_type": "execute_result"
    }
   ],
   "source": [
    "type(oracion)"
   ]
  },
  {
   "cell_type": "code",
   "execution_count": 14,
   "id": "1a6cfc9f-7cb9-475c-87e2-c4ba3fccce53",
   "metadata": {},
   "outputs": [
    {
     "data": {
      "text/plain": [
       "999999999999999999999999999999999999999999999999999999999999999999999999999999999999999999999999999999999999999999999999999999999999999999999999999999999999999999999999999999999999999999"
      ]
     },
     "execution_count": 14,
     "metadata": {},
     "output_type": "execute_result"
    }
   ],
   "source": [
    "entero"
   ]
  },
  {
   "cell_type": "code",
   "execution_count": 15,
   "id": "unauthorized-oregon",
   "metadata": {
    "ExecuteTime": {
     "end_time": "2021-03-22T19:28:19.987131Z",
     "start_time": "2021-03-22T19:28:19.972132Z"
    },
    "scrolled": true
   },
   "outputs": [
    {
     "data": {
      "text/plain": [
       "int"
      ]
     },
     "execution_count": 15,
     "metadata": {},
     "output_type": "execute_result"
    }
   ],
   "source": [
    "type(entero)"
   ]
  },
  {
   "cell_type": "markdown",
   "id": "34dbd0a5",
   "metadata": {},
   "source": [
    "### Verificar tipo de dato con `isinstance`\n",
    "\n",
    "La función `isinstance` permite \"preguntar\" si una variable contiene un tipo de dato específico."
   ]
  },
  {
   "cell_type": "code",
   "execution_count": 16,
   "id": "aaa3add4",
   "metadata": {},
   "outputs": [
    {
     "data": {
      "text/plain": [
       "'Juan esta tomando té 🍵'"
      ]
     },
     "execution_count": 16,
     "metadata": {},
     "output_type": "execute_result"
    }
   ],
   "source": [
    "oracion"
   ]
  },
  {
   "cell_type": "code",
   "execution_count": 17,
   "id": "d42122bd",
   "metadata": {},
   "outputs": [
    {
     "data": {
      "text/plain": [
       "False"
      ]
     },
     "execution_count": 17,
     "metadata": {},
     "output_type": "execute_result"
    }
   ],
   "source": [
    "isinstance(oracion, int)"
   ]
  },
  {
   "cell_type": "code",
   "execution_count": 22,
   "id": "80b6beea-3c58-4104-a9db-8693761baa46",
   "metadata": {},
   "outputs": [
    {
     "data": {
      "text/plain": [
       "False"
      ]
     },
     "execution_count": 22,
     "metadata": {},
     "output_type": "execute_result"
    }
   ],
   "source": [
    "isinstance(oracion, float)"
   ]
  },
  {
   "cell_type": "code",
   "execution_count": 23,
   "id": "a9563d98",
   "metadata": {},
   "outputs": [
    {
     "data": {
      "text/plain": [
       "True"
      ]
     },
     "execution_count": 23,
     "metadata": {},
     "output_type": "execute_result"
    }
   ],
   "source": [
    "isinstance(oracion, str)"
   ]
  },
  {
   "cell_type": "markdown",
   "id": "c5b86eec-4a44-4381-b029-dab631348ec1",
   "metadata": {},
   "source": [
    "> **Pregunta ❓**: En Ciencia de los Datos, ¿cuál sería la utilidad de la función `isinstance`?"
   ]
  },
  {
   "cell_type": "markdown",
   "id": "lesser-accountability",
   "metadata": {},
   "source": [
    "### Tipado Dinámico y Fuerte"
   ]
  },
  {
   "cell_type": "markdown",
   "id": "abroad-dance",
   "metadata": {},
   "source": [
    "Vale considerar que en python el **valor de una variable posee un tipo de dato, pero no la variable en si**. \n",
    "\n",
    "En el siguiente ejemplo lo anterior se puede entender como que el `100` sabe que es un número entero, pero `num_entero` no sabe que referencia a un entero, solo que referencia a algo."
   ]
  },
  {
   "cell_type": "code",
   "execution_count": 18,
   "id": "60168a3b-3e35-4db2-8a60-7b9bf3fa4b99",
   "metadata": {},
   "outputs": [
    {
     "data": {
      "text/plain": [
       "100"
      ]
     },
     "execution_count": 18,
     "metadata": {},
     "output_type": "execute_result"
    }
   ],
   "source": [
    "num_entero = 100\n",
    "num_entero"
   ]
  },
  {
   "cell_type": "code",
   "execution_count": 25,
   "id": "widespread-singles",
   "metadata": {
    "ExecuteTime": {
     "end_time": "2021-03-22T19:11:41.705018Z",
     "start_time": "2021-03-22T19:11:41.692020Z"
    }
   },
   "outputs": [
    {
     "data": {
      "text/plain": [
       "int"
      ]
     },
     "execution_count": 25,
     "metadata": {},
     "output_type": "execute_result"
    }
   ],
   "source": [
    "type(num_entero)"
   ]
  },
  {
   "cell_type": "markdown",
   "id": "59f1f391-9190-47c2-9ba6-3b9d1aa70046",
   "metadata": {
    "ExecuteTime": {
     "end_time": "2021-03-22T19:29:17.307289Z",
     "start_time": "2021-03-22T19:29:17.296292Z"
    }
   },
   "source": [
    "Lo anterior permite definir el concepto de **Tipado Dinámico**, lo que en términos simples se puede definir como que el tipo de datos es definido en el tiempo de ejecución (cuándo se ejecuta el código) por cada valor/dato.\n",
    "\n",
    "Esto permite entre otras cosas, reasignar dinámicamente los nombres de variables (cosa que por cierto no es sencillo en otros lenguajes de programación)."
   ]
  },
  {
   "cell_type": "code",
   "execution_count": 26,
   "id": "operating-sustainability",
   "metadata": {
    "ExecuteTime": {
     "end_time": "2021-03-22T19:29:49.984338Z",
     "start_time": "2021-03-22T19:29:49.964338Z"
    }
   },
   "outputs": [
    {
     "data": {
      "text/plain": [
       "(3-1j)"
      ]
     },
     "execution_count": 26,
     "metadata": {},
     "output_type": "execute_result"
    }
   ],
   "source": [
    "# Redefinimos entero:\n",
    "num_entero = 3 -1j\n",
    "num_entero"
   ]
  },
  {
   "cell_type": "code",
   "execution_count": 27,
   "id": "informed-warner",
   "metadata": {
    "ExecuteTime": {
     "end_time": "2021-03-22T19:29:51.422847Z",
     "start_time": "2021-03-22T19:29:51.412841Z"
    }
   },
   "outputs": [
    {
     "data": {
      "text/plain": [
       "complex"
      ]
     },
     "execution_count": 27,
     "metadata": {},
     "output_type": "execute_result"
    }
   ],
   "source": [
    "type(num_entero)"
   ]
  },
  {
   "cell_type": "markdown",
   "id": "consecutive-linux",
   "metadata": {},
   "source": [
    "> **Nota 🗒️**:Lo anterior no ocurre en lenguajes estáticos, en donde hay que declarar qué tipo de datos contendrá cada variable antes de "
   ]
  },
  {
   "cell_type": "markdown",
   "id": "0ecc22ff-e996-48dc-855f-a39d35c86c12",
   "metadata": {},
   "source": [
    "La flexibilidad en la declaración de variables, no implica necesariamente flexibilidad en el manejo de tipos de datos: hay operaciones que no permitidas entre tipos de datos distintos, como por ejemplo, suma un string a un dato numérico."
   ]
  },
  {
   "cell_type": "code",
   "execution_count": 19,
   "id": "58e7c9de-6412-4be1-8672-93094c03aed6",
   "metadata": {},
   "outputs": [
    {
     "ename": "TypeError",
     "evalue": "unsupported operand type(s) for +: 'int' and 'str'",
     "output_type": "error",
     "traceback": [
      "\u001b[1;31m---------------------------------------------------------------------------\u001b[0m",
      "\u001b[1;31mTypeError\u001b[0m                                 Traceback (most recent call last)",
      "\u001b[1;32m<ipython-input-19-86577bd81091>\u001b[0m in \u001b[0;36m<module>\u001b[1;34m\u001b[0m\n\u001b[0;32m      1\u001b[0m \u001b[0mnum_entero\u001b[0m \u001b[1;33m=\u001b[0m \u001b[1;36m100\u001b[0m\u001b[1;33m\u001b[0m\u001b[1;33m\u001b[0m\u001b[0m\n\u001b[0;32m      2\u001b[0m \u001b[1;33m\u001b[0m\u001b[0m\n\u001b[1;32m----> 3\u001b[1;33m \u001b[0mnum_entero\u001b[0m \u001b[1;33m+\u001b[0m \u001b[1;34m\"200\"\u001b[0m\u001b[1;33m\u001b[0m\u001b[1;33m\u001b[0m\u001b[0m\n\u001b[0m",
      "\u001b[1;31mTypeError\u001b[0m: unsupported operand type(s) for +: 'int' and 'str'"
     ]
    }
   ],
   "source": [
    "num_entero = 100\n",
    "\n",
    "num_entero + \"200\""
   ]
  },
  {
   "cell_type": "markdown",
   "id": "ca0caff9-a61b-49cf-9af1-f8bb6804295b",
   "metadata": {},
   "source": [
    "Para ejecutar esta operación, primero debemos convertir explícitamente `\"200\"` a entero y luego sumarlo"
   ]
  },
  {
   "cell_type": "code",
   "execution_count": 20,
   "id": "a43fe17f-a9e8-4899-8d2d-34e7c22bf7c6",
   "metadata": {},
   "outputs": [
    {
     "data": {
      "text/plain": [
       "300"
      ]
     },
     "execution_count": 20,
     "metadata": {},
     "output_type": "execute_result"
    }
   ],
   "source": [
    "num_entero + int(\"200\")"
   ]
  },
  {
   "cell_type": "markdown",
   "id": "cd7807de-85f7-49d2-b883-f1b31f9f8cc7",
   "metadata": {},
   "source": [
    "Lo anterior se define como **Tipado Fuerte** y es también una de las características de Python."
   ]
  },
  {
   "cell_type": "markdown",
   "id": "5689808c-bbe0-4141-b8dc-ae234b2c9350",
   "metadata": {
    "tags": []
   },
   "source": [
    "## Transformar Datos a Otros Tipos\n",
    "\n",
    "Podemos usar las funciones \n",
    "\n",
    "- `int()`\n",
    "- `float()`\n",
    "- `str()`\n",
    "- etc...\n",
    "\n",
    "para transformar un dato de un tipo determinado en otro."
   ]
  },
  {
   "cell_type": "markdown",
   "id": "3eafba9b-e894-40a4-9f6b-befc446fa0d0",
   "metadata": {
    "tags": []
   },
   "source": [
    "### Entero a flotante"
   ]
  },
  {
   "cell_type": "code",
   "execution_count": 30,
   "id": "pressing-canberra",
   "metadata": {
    "ExecuteTime": {
     "end_time": "2021-03-22T19:50:49.771248Z",
     "start_time": "2021-03-22T19:50:49.754221Z"
    }
   },
   "outputs": [
    {
     "data": {
      "text/plain": [
       "3.0"
      ]
     },
     "execution_count": 30,
     "metadata": {},
     "output_type": "execute_result"
    }
   ],
   "source": [
    "float(3)"
   ]
  },
  {
   "cell_type": "code",
   "execution_count": 31,
   "id": "e19afce7-c631-4773-aeca-219200ecaaf8",
   "metadata": {},
   "outputs": [
    {
     "data": {
      "text/plain": [
       "int"
      ]
     },
     "execution_count": 31,
     "metadata": {},
     "output_type": "execute_result"
    }
   ],
   "source": [
    "type(3)"
   ]
  },
  {
   "cell_type": "code",
   "execution_count": 32,
   "id": "53cc9c47-e6eb-4f30-b7eb-6021e7eaead3",
   "metadata": {},
   "outputs": [
    {
     "data": {
      "text/plain": [
       "float"
      ]
     },
     "execution_count": 32,
     "metadata": {},
     "output_type": "execute_result"
    }
   ],
   "source": [
    "type(float(3))"
   ]
  },
  {
   "cell_type": "code",
   "execution_count": 33,
   "id": "0af1724a-cfad-4673-8303-b1c9f4ca2ea7",
   "metadata": {},
   "outputs": [
    {
     "data": {
      "text/plain": [
       "4.1"
      ]
     },
     "execution_count": 33,
     "metadata": {},
     "output_type": "execute_result"
    }
   ],
   "source": [
    "3 + 1.1"
   ]
  },
  {
   "cell_type": "code",
   "execution_count": 34,
   "id": "99fc6d84-771e-4c57-8716-a644cf9829da",
   "metadata": {},
   "outputs": [
    {
     "data": {
      "text/plain": [
       "float"
      ]
     },
     "execution_count": 34,
     "metadata": {},
     "output_type": "execute_result"
    }
   ],
   "source": [
    "type(3 + 1.1)"
   ]
  },
  {
   "cell_type": "markdown",
   "id": "96c2e0d9-597b-491e-9908-4fb7d7491e88",
   "metadata": {},
   "source": [
    "### Flotante a entero\n",
    "\n",
    "Ojo que pierde la parte decimal."
   ]
  },
  {
   "cell_type": "code",
   "execution_count": 35,
   "id": "45bd0c6f-53a5-4c15-9413-50556da623ef",
   "metadata": {
    "ExecuteTime": {
     "end_time": "2021-03-22T19:50:37.609745Z",
     "start_time": "2021-03-22T19:50:37.594744Z"
    }
   },
   "outputs": [
    {
     "data": {
      "text/plain": [
       "3"
      ]
     },
     "execution_count": 35,
     "metadata": {},
     "output_type": "execute_result"
    }
   ],
   "source": [
    "int(3.14)"
   ]
  },
  {
   "cell_type": "markdown",
   "id": "6a6dbc63-36d5-43e8-8291-9a84037fb859",
   "metadata": {},
   "source": [
    "### Strings\n",
    "\n",
    "Casi todos los datos pueden ser convertidos a string.\n"
   ]
  },
  {
   "cell_type": "code",
   "execution_count": 36,
   "id": "9bb6b59f-1e66-4e8e-b0fa-f865b70ae279",
   "metadata": {},
   "outputs": [
    {
     "data": {
      "text/plain": [
       "'3'"
      ]
     },
     "execution_count": 36,
     "metadata": {},
     "output_type": "execute_result"
    }
   ],
   "source": [
    "str(3)"
   ]
  },
  {
   "cell_type": "code",
   "execution_count": 37,
   "id": "flush-personal",
   "metadata": {
    "ExecuteTime": {
     "end_time": "2021-03-22T19:50:59.858741Z",
     "start_time": "2021-03-22T19:50:59.838753Z"
    }
   },
   "outputs": [
    {
     "data": {
      "text/plain": [
       "'3.14'"
      ]
     },
     "execution_count": 37,
     "metadata": {},
     "output_type": "execute_result"
    }
   ],
   "source": [
    "str(3.14)"
   ]
  },
  {
   "cell_type": "markdown",
   "id": "08cedca2-4422-4d94-9fb4-ba1131977978",
   "metadata": {
    "ExecuteTime": {
     "end_time": "2021-03-22T15:19:06.000262Z",
     "start_time": "2021-03-22T15:19:05.983263Z"
    }
   },
   "source": [
    "Pero hay que tener mucho cuidado con la operación al revés, ya que python intentará convertirlo o \"*morira en el intento*\""
   ]
  },
  {
   "cell_type": "code",
   "execution_count": 38,
   "id": "honey-liquid",
   "metadata": {
    "ExecuteTime": {
     "end_time": "2021-03-22T19:51:36.544668Z",
     "start_time": "2021-03-22T19:51:36.528668Z"
    }
   },
   "outputs": [
    {
     "data": {
      "text/plain": [
       "3.14"
      ]
     },
     "execution_count": 38,
     "metadata": {},
     "output_type": "execute_result"
    }
   ],
   "source": [
    "float('3.14')"
   ]
  },
  {
   "cell_type": "code",
   "execution_count": 39,
   "id": "divided-climate",
   "metadata": {
    "ExecuteTime": {
     "end_time": "2021-03-22T19:51:26.767713Z",
     "start_time": "2021-03-22T19:51:26.748704Z"
    }
   },
   "outputs": [
    {
     "ename": "ValueError",
     "evalue": "could not convert string to float: '3.13aa'",
     "output_type": "error",
     "traceback": [
      "\u001b[1;31m---------------------------------------------------------------------------\u001b[0m",
      "\u001b[1;31mValueError\u001b[0m                                Traceback (most recent call last)",
      "\u001b[1;32m<ipython-input-39-c22479cec3cd>\u001b[0m in \u001b[0;36m<module>\u001b[1;34m\u001b[0m\n\u001b[1;32m----> 1\u001b[1;33m \u001b[0mfloat\u001b[0m\u001b[1;33m(\u001b[0m\u001b[1;34m'3.13aa'\u001b[0m\u001b[1;33m)\u001b[0m\u001b[1;33m\u001b[0m\u001b[1;33m\u001b[0m\u001b[0m\n\u001b[0m",
      "\u001b[1;31mValueError\u001b[0m: could not convert string to float: '3.13aa'"
     ]
    }
   ],
   "source": [
    "float('3.13aa')"
   ]
  },
  {
   "cell_type": "code",
   "execution_count": 40,
   "id": "637b9a8e-962b-438e-8bd7-841a9ba10215",
   "metadata": {},
   "outputs": [
    {
     "ename": "ValueError",
     "evalue": "could not convert string to float: '3,14'",
     "output_type": "error",
     "traceback": [
      "\u001b[1;31m---------------------------------------------------------------------------\u001b[0m",
      "\u001b[1;31mValueError\u001b[0m                                Traceback (most recent call last)",
      "\u001b[1;32m<ipython-input-40-a337841fbbe2>\u001b[0m in \u001b[0;36m<module>\u001b[1;34m\u001b[0m\n\u001b[1;32m----> 1\u001b[1;33m \u001b[0mfloat\u001b[0m\u001b[1;33m(\u001b[0m\u001b[1;34m'3,14'\u001b[0m\u001b[1;33m)\u001b[0m\u001b[1;33m\u001b[0m\u001b[1;33m\u001b[0m\u001b[0m\n\u001b[0m",
      "\u001b[1;31mValueError\u001b[0m: could not convert string to float: '3,14'"
     ]
    }
   ],
   "source": [
    "float('3,14')"
   ]
  },
  {
   "cell_type": "markdown",
   "id": "e492cfa4-6293-438d-8975-071550c3b9ed",
   "metadata": {},
   "source": [
    "---"
   ]
  },
  {
   "cell_type": "markdown",
   "id": "polish-plasma",
   "metadata": {},
   "source": [
    "## 3. Operaciones entre datos ➕"
   ]
  },
  {
   "cell_type": "markdown",
   "id": "fiscal-encounter",
   "metadata": {},
   "source": [
    "Los operadores en python son **símbolos y keywords** especiales que permiten llevar a cabo operaciones aritméticas o lógicas entre datos.\n",
    "\n",
    "Aritméticas:\n",
    "\n",
    "- `+` \n",
    "- `-` \n",
    "- `*`\n",
    "- `/`\n",
    "- `//` (división entera)\n",
    "- `%` (módulo) \n",
    "\n",
    "Comparación e igualdad:\n",
    "\n",
    "- `>` y `>=`\n",
    "- `<` y `<=`\n",
    "- `==`\n",
    "\n",
    "Lógicas:\n",
    "\n",
    "- `and`\n",
    "- `or`\n",
    "- `not`\n",
    "- `is`\n",
    "- `in`\n",
    "- `not in`"
   ]
  },
  {
   "cell_type": "markdown",
   "id": "thorough-milan",
   "metadata": {},
   "source": [
    "### Expresión\n",
    "\n",
    "Una expresión es una combinación de valores, variables y operadores que pueden ser evaluadas por el interprete.\n",
    "\n",
    "> **Nota 🗒️**: Python es interpretado. Esto quiere decir que existe un *interprete* que convierte el código a `bytecode` (código que el procesador es capaz de entender y ejecutar) en el momento en que el código se ejecuta."
   ]
  },
  {
   "cell_type": "markdown",
   "id": "stuck-dollar",
   "metadata": {
    "ExecuteTime": {
     "end_time": "2021-03-22T15:06:13.576207Z",
     "start_time": "2021-03-22T15:06:13.565203Z"
    }
   },
   "source": [
    "### Operadores Aritméticos y de Comparación e Igualdad"
   ]
  },
  {
   "cell_type": "markdown",
   "id": "9accd2b6-cf36-4f16-bbc4-2e0f9b55c3a6",
   "metadata": {},
   "source": [
    "#### Suma"
   ]
  },
  {
   "cell_type": "code",
   "execution_count": 41,
   "id": "joined-deviation",
   "metadata": {
    "ExecuteTime": {
     "end_time": "2021-03-22T19:35:19.329013Z",
     "start_time": "2021-03-22T19:35:19.320006Z"
    }
   },
   "outputs": [
    {
     "data": {
      "text/plain": [
       "7"
      ]
     },
     "execution_count": 41,
     "metadata": {},
     "output_type": "execute_result"
    }
   ],
   "source": [
    "5 + 2"
   ]
  },
  {
   "cell_type": "markdown",
   "id": "d0d90047-e85e-4280-964e-a31f01420199",
   "metadata": {},
   "source": [
    "#### Resta"
   ]
  },
  {
   "cell_type": "code",
   "execution_count": 42,
   "id": "a1e071e8-7b19-4b72-bb7f-7afcb43ccaf2",
   "metadata": {},
   "outputs": [
    {
     "data": {
      "text/plain": [
       "3"
      ]
     },
     "execution_count": 42,
     "metadata": {},
     "output_type": "execute_result"
    }
   ],
   "source": [
    "5 - 2"
   ]
  },
  {
   "cell_type": "markdown",
   "id": "f1af6141-e8ed-49c8-9032-3f963443484e",
   "metadata": {},
   "source": [
    "#### Multiplicación"
   ]
  },
  {
   "cell_type": "code",
   "execution_count": 43,
   "id": "joined-interface",
   "metadata": {
    "ExecuteTime": {
     "end_time": "2021-03-22T19:35:21.891720Z",
     "start_time": "2021-03-22T19:35:21.876721Z"
    }
   },
   "outputs": [
    {
     "data": {
      "text/plain": [
       "10"
      ]
     },
     "execution_count": 43,
     "metadata": {},
     "output_type": "execute_result"
    }
   ],
   "source": [
    "5 * 2"
   ]
  },
  {
   "cell_type": "markdown",
   "id": "fe629f57-6c0d-42c5-ab44-9c9574cc78d9",
   "metadata": {},
   "source": [
    "#### División"
   ]
  },
  {
   "cell_type": "code",
   "execution_count": 44,
   "id": "ordered-religious",
   "metadata": {
    "ExecuteTime": {
     "end_time": "2021-03-22T19:35:22.736640Z",
     "start_time": "2021-03-22T19:35:22.725640Z"
    }
   },
   "outputs": [
    {
     "data": {
      "text/plain": [
       "2.5"
      ]
     },
     "execution_count": 44,
     "metadata": {},
     "output_type": "execute_result"
    }
   ],
   "source": [
    "5 / 2"
   ]
  },
  {
   "cell_type": "markdown",
   "id": "d3916c1b-6a55-4d58-89dd-a894f89fc06a",
   "metadata": {},
   "source": [
    "#### División Entera\n",
    "\n",
    "Conserva solo la parte entera de la división."
   ]
  },
  {
   "cell_type": "code",
   "execution_count": 45,
   "id": "correct-romantic",
   "metadata": {
    "ExecuteTime": {
     "end_time": "2021-03-22T19:35:24.591066Z",
     "start_time": "2021-03-22T19:35:24.571007Z"
    }
   },
   "outputs": [
    {
     "data": {
      "text/plain": [
       "2"
      ]
     },
     "execution_count": 45,
     "metadata": {},
     "output_type": "execute_result"
    }
   ],
   "source": [
    "5 // 2"
   ]
  },
  {
   "cell_type": "markdown",
   "id": "according-cabin",
   "metadata": {},
   "source": [
    "> **Pregunta ❓**: ¿Qué sucede con `//` con al operarlos con datos de tipo `float`?"
   ]
  },
  {
   "cell_type": "code",
   "execution_count": 46,
   "id": "coral-satin",
   "metadata": {
    "ExecuteTime": {
     "end_time": "2021-03-22T19:36:41.810644Z",
     "start_time": "2021-03-22T19:36:41.789647Z"
    }
   },
   "outputs": [
    {
     "data": {
      "text/plain": [
       "1.25"
      ]
     },
     "execution_count": 46,
     "metadata": {},
     "output_type": "execute_result"
    }
   ],
   "source": [
    "2.5 / 2.0"
   ]
  },
  {
   "cell_type": "code",
   "execution_count": 47,
   "id": "former-bermuda",
   "metadata": {
    "ExecuteTime": {
     "end_time": "2021-03-22T19:36:57.964286Z",
     "start_time": "2021-03-22T19:36:57.946286Z"
    },
    "scrolled": true
   },
   "outputs": [
    {
     "data": {
      "text/plain": [
       "1.0"
      ]
     },
     "execution_count": 47,
     "metadata": {},
     "output_type": "execute_result"
    }
   ],
   "source": [
    "2.5 // 2.0"
   ]
  },
  {
   "cell_type": "markdown",
   "id": "f1b3b93e-01cb-425d-9b4e-947ca43e0d00",
   "metadata": {},
   "source": [
    "#### Módulo (resto) de una división\n"
   ]
  },
  {
   "cell_type": "code",
   "execution_count": 48,
   "id": "martial-bonus",
   "metadata": {
    "ExecuteTime": {
     "end_time": "2021-03-22T19:35:27.157300Z",
     "start_time": "2021-03-22T19:35:27.139301Z"
    },
    "scrolled": true
   },
   "outputs": [
    {
     "data": {
      "text/plain": [
       "1"
      ]
     },
     "execution_count": 48,
     "metadata": {},
     "output_type": "execute_result"
    }
   ],
   "source": [
    "5 % 2"
   ]
  },
  {
   "cell_type": "markdown",
   "id": "56e4cb85-0ba1-4611-abad-86dc4837a0c8",
   "metadata": {},
   "source": [
    "#### Potenciación \n",
    "\n",
    "2 elevado a 3:"
   ]
  },
  {
   "cell_type": "code",
   "execution_count": 49,
   "id": "narrow-salmon",
   "metadata": {
    "ExecuteTime": {
     "end_time": "2021-03-22T19:35:48.238020Z",
     "start_time": "2021-03-22T19:35:48.220022Z"
    }
   },
   "outputs": [
    {
     "data": {
      "text/plain": [
       "8"
      ]
     },
     "execution_count": 49,
     "metadata": {},
     "output_type": "execute_result"
    }
   ],
   "source": [
    "2 ** 3"
   ]
  },
  {
   "cell_type": "code",
   "execution_count": 50,
   "id": "c28e9fb5-ce62-4fe8-9c33-0ca0c01aae5a",
   "metadata": {},
   "outputs": [
    {
     "data": {
      "text/plain": [
       "0.125"
      ]
     },
     "execution_count": 50,
     "metadata": {},
     "output_type": "execute_result"
    }
   ],
   "source": [
    "2 ** -3"
   ]
  },
  {
   "cell_type": "code",
   "execution_count": 51,
   "id": "0484298a-a8c4-46e5-a9dd-150269793eff",
   "metadata": {},
   "outputs": [
    {
     "data": {
      "text/plain": [
       "0.10632848158618281"
      ]
     },
     "execution_count": 51,
     "metadata": {},
     "output_type": "execute_result"
    }
   ],
   "source": [
    "2 ** -3.2334"
   ]
  },
  {
   "cell_type": "markdown",
   "id": "starting-timeline",
   "metadata": {
    "ExecuteTime": {
     "end_time": "2021-03-22T16:35:35.923564Z",
     "start_time": "2021-03-22T16:35:35.905524Z"
    }
   },
   "source": [
    "### Operadores de Comparación e Igualdad:"
   ]
  },
  {
   "cell_type": "markdown",
   "id": "6a2b026d-02c2-4630-b5e7-6426295d66f1",
   "metadata": {},
   "source": [
    "#### Igualdad"
   ]
  },
  {
   "cell_type": "code",
   "execution_count": 23,
   "id": "2b291f92-1831-4ed0-801a-654b2d8c8fdf",
   "metadata": {},
   "outputs": [
    {
     "data": {
      "text/plain": [
       "True"
      ]
     },
     "execution_count": 23,
     "metadata": {},
     "output_type": "execute_result"
    }
   ],
   "source": [
    "# es 2 igual a 2?\n",
    "2 == 2"
   ]
  },
  {
   "cell_type": "code",
   "execution_count": 53,
   "id": "4244aa9c-c268-4e30-9856-755bca4659d9",
   "metadata": {},
   "outputs": [
    {
     "data": {
      "text/plain": [
       "bool"
      ]
     },
     "execution_count": 53,
     "metadata": {},
     "output_type": "execute_result"
    }
   ],
   "source": [
    "type(2 == 2)"
   ]
  },
  {
   "cell_type": "code",
   "execution_count": 54,
   "id": "noticed-facility",
   "metadata": {
    "ExecuteTime": {
     "end_time": "2021-03-22T19:37:45.602649Z",
     "start_time": "2021-03-22T19:37:45.583649Z"
    }
   },
   "outputs": [
    {
     "data": {
      "text/plain": [
       "False"
      ]
     },
     "execution_count": 54,
     "metadata": {},
     "output_type": "execute_result"
    }
   ],
   "source": [
    "2 == 4"
   ]
  },
  {
   "cell_type": "markdown",
   "id": "50eba53f-edc9-4b9b-8462-8ba670319d87",
   "metadata": {},
   "source": [
    "> **Pregunta ❓**: ¿Qué sucede con `==` cuando comparamos tipos distintos (`int` con `float` y `string`)?"
   ]
  },
  {
   "cell_type": "code",
   "execution_count": 55,
   "id": "crazy-lighting",
   "metadata": {
    "ExecuteTime": {
     "end_time": "2021-03-22T19:38:19.828468Z",
     "start_time": "2021-03-22T19:38:19.808466Z"
    }
   },
   "outputs": [
    {
     "data": {
      "text/plain": [
       "True"
      ]
     },
     "execution_count": 55,
     "metadata": {},
     "output_type": "execute_result"
    }
   ],
   "source": [
    "2 == 2.0"
   ]
  },
  {
   "cell_type": "code",
   "execution_count": 56,
   "id": "286893f0-738b-4ca1-93c9-069c35872c65",
   "metadata": {},
   "outputs": [
    {
     "data": {
      "text/plain": [
       "False"
      ]
     },
     "execution_count": 56,
     "metadata": {},
     "output_type": "execute_result"
    }
   ],
   "source": [
    "2 == \"2\""
   ]
  },
  {
   "cell_type": "code",
   "execution_count": 57,
   "id": "0f84aab5-35ba-4725-b6e7-4c56565ae649",
   "metadata": {},
   "outputs": [
    {
     "data": {
      "text/plain": [
       "True"
      ]
     },
     "execution_count": 57,
     "metadata": {},
     "output_type": "execute_result"
    }
   ],
   "source": [
    "2 == int(\"2\")"
   ]
  },
  {
   "cell_type": "code",
   "execution_count": 58,
   "id": "fdde9f58-e061-43af-ab3a-0f54a882e75e",
   "metadata": {},
   "outputs": [
    {
     "data": {
      "text/plain": [
       "True"
      ]
     },
     "execution_count": 58,
     "metadata": {},
     "output_type": "execute_result"
    }
   ],
   "source": [
    "2 == 2 + 0j"
   ]
  },
  {
   "cell_type": "markdown",
   "id": "a0424b09-7127-4032-93f9-96f3e5db8685",
   "metadata": {},
   "source": [
    "#### Mayor y mayor igual"
   ]
  },
  {
   "cell_type": "code",
   "execution_count": 59,
   "id": "invisible-snake",
   "metadata": {
    "ExecuteTime": {
     "end_time": "2021-03-22T19:38:48.700702Z",
     "start_time": "2021-03-22T19:38:48.683700Z"
    }
   },
   "outputs": [
    {
     "data": {
      "text/plain": [
       "False"
      ]
     },
     "execution_count": 59,
     "metadata": {},
     "output_type": "execute_result"
    }
   ],
   "source": [
    "2 > 2"
   ]
  },
  {
   "cell_type": "code",
   "execution_count": 60,
   "id": "3b609a2e-5971-404b-ac50-0dc7e76994a3",
   "metadata": {},
   "outputs": [
    {
     "data": {
      "text/plain": [
       "True"
      ]
     },
     "execution_count": 60,
     "metadata": {},
     "output_type": "execute_result"
    }
   ],
   "source": [
    "2 > 1"
   ]
  },
  {
   "cell_type": "code",
   "execution_count": 61,
   "id": "f352e7f5-e8fd-448e-a11f-276db5d24282",
   "metadata": {},
   "outputs": [
    {
     "data": {
      "text/plain": [
       "False"
      ]
     },
     "execution_count": 61,
     "metadata": {},
     "output_type": "execute_result"
    }
   ],
   "source": [
    "2 > 3"
   ]
  },
  {
   "cell_type": "code",
   "execution_count": 62,
   "id": "8d49b86e-1911-4893-9bc0-2dfe466db800",
   "metadata": {},
   "outputs": [
    {
     "data": {
      "text/plain": [
       "True"
      ]
     },
     "execution_count": 62,
     "metadata": {},
     "output_type": "execute_result"
    }
   ],
   "source": [
    "2 >= 2"
   ]
  },
  {
   "cell_type": "markdown",
   "id": "bd87d1bb-049d-4081-8470-146067f91662",
   "metadata": {},
   "source": [
    "> **Pregunta ❓**: ¿Qué sucede con `>`/`>=` cuando comparamos tipos distintos (`int` con `string`)?"
   ]
  },
  {
   "cell_type": "code",
   "execution_count": 63,
   "id": "checked-baker",
   "metadata": {
    "ExecuteTime": {
     "end_time": "2021-03-22T19:39:52.016912Z",
     "start_time": "2021-03-22T19:39:51.989914Z"
    },
    "scrolled": true
   },
   "outputs": [
    {
     "ename": "TypeError",
     "evalue": "'>=' not supported between instances of 'int' and 'str'",
     "output_type": "error",
     "traceback": [
      "\u001b[1;31m---------------------------------------------------------------------------\u001b[0m",
      "\u001b[1;31mTypeError\u001b[0m                                 Traceback (most recent call last)",
      "\u001b[1;32m<ipython-input-63-062dab4bc5c2>\u001b[0m in \u001b[0;36m<module>\u001b[1;34m\u001b[0m\n\u001b[1;32m----> 1\u001b[1;33m \u001b[1;36m3\u001b[0m \u001b[1;33m>=\u001b[0m \u001b[1;34m\"3\"\u001b[0m\u001b[1;33m\u001b[0m\u001b[1;33m\u001b[0m\u001b[0m\n\u001b[0m",
      "\u001b[1;31mTypeError\u001b[0m: '>=' not supported between instances of 'int' and 'str'"
     ]
    }
   ],
   "source": [
    "3 >= \"3\""
   ]
  },
  {
   "cell_type": "markdown",
   "id": "9e21d5eb-f7f7-4ac2-8bf0-ffaab4884ba0",
   "metadata": {},
   "source": [
    "Recordar el **Tipado Fuerte**!"
   ]
  },
  {
   "cell_type": "markdown",
   "id": "602938ee-6669-4b35-87ce-02355596ee35",
   "metadata": {},
   "source": [
    "#### Menor y menor igual\n",
    "\n",
    "Mismo caso que el anterior"
   ]
  },
  {
   "cell_type": "code",
   "execution_count": 64,
   "id": "916267f8-fef4-40e3-8af5-18d2e5472c25",
   "metadata": {},
   "outputs": [
    {
     "data": {
      "text/plain": [
       "True"
      ]
     },
     "execution_count": 64,
     "metadata": {},
     "output_type": "execute_result"
    }
   ],
   "source": [
    "2 < 3"
   ]
  },
  {
   "cell_type": "code",
   "execution_count": 65,
   "id": "93af0c82-99c5-4cf6-abba-26e923b57bf6",
   "metadata": {},
   "outputs": [
    {
     "data": {
      "text/plain": [
       "False"
      ]
     },
     "execution_count": 65,
     "metadata": {},
     "output_type": "execute_result"
    }
   ],
   "source": [
    "2 < 1"
   ]
  },
  {
   "cell_type": "markdown",
   "id": "twenty-customer",
   "metadata": {},
   "source": [
    "---\n",
    "\n",
    "### Operaciones con Strings\n",
    "\n",
    "\n",
    "#### Operadores de comparación"
   ]
  },
  {
   "cell_type": "code",
   "execution_count": 66,
   "id": "df2356b8",
   "metadata": {},
   "outputs": [
    {
     "data": {
      "text/plain": [
       "True"
      ]
     },
     "execution_count": 66,
     "metadata": {},
     "output_type": "execute_result"
    }
   ],
   "source": [
    "'Avellana' == 'Avellana'"
   ]
  },
  {
   "cell_type": "code",
   "execution_count": 67,
   "id": "2884d4b9-fdf1-4683-b461-6d64d8f4692a",
   "metadata": {},
   "outputs": [
    {
     "data": {
      "text/plain": [
       "False"
      ]
     },
     "execution_count": 67,
     "metadata": {},
     "output_type": "execute_result"
    }
   ],
   "source": [
    "'Avellana' == 'Manzana'"
   ]
  },
  {
   "cell_type": "markdown",
   "id": "950d3b4d-ec05-436b-a0f7-b148e78b0b93",
   "metadata": {},
   "source": [
    "> Pregunta ❓: Es posible comparar con '<'/'<=' y '>'/'>=' strings?\n",
    "\n",
    "\n",
    "Ver [Orden Lexicográfico en Wikipedia](https://es.wikipedia.org/wiki/Orden_lexicogr%C3%A1fico)."
   ]
  },
  {
   "cell_type": "code",
   "execution_count": 68,
   "id": "55e186ce",
   "metadata": {
    "scrolled": true
   },
   "outputs": [
    {
     "data": {
      "text/plain": [
       "True"
      ]
     },
     "execution_count": 68,
     "metadata": {},
     "output_type": "execute_result"
    }
   ],
   "source": [
    "'Avellana' > 'Arvejas'"
   ]
  },
  {
   "cell_type": "code",
   "execution_count": 69,
   "id": "c193ea0f",
   "metadata": {},
   "outputs": [
    {
     "data": {
      "text/plain": [
       "False"
      ]
     },
     "execution_count": 69,
     "metadata": {},
     "output_type": "execute_result"
    }
   ],
   "source": [
    "'3' > '5'"
   ]
  },
  {
   "cell_type": "markdown",
   "id": "b7c4f15b-a397-4f10-878a-3c88735a456d",
   "metadata": {},
   "source": [
    "#### Concatenación"
   ]
  },
  {
   "cell_type": "code",
   "execution_count": 25,
   "id": "detailed-saver",
   "metadata": {
    "ExecuteTime": {
     "end_time": "2021-03-22T19:40:31.963073Z",
     "start_time": "2021-03-22T19:40:31.949079Z"
    }
   },
   "outputs": [],
   "source": [
    "pregunta = '¿quieres un '\n",
    "\n",
    "respuesta_a = 'tecito?'\n",
    "respuesta_b = 'cafecito?'"
   ]
  },
  {
   "cell_type": "code",
   "execution_count": 71,
   "id": "regional-trauma",
   "metadata": {
    "ExecuteTime": {
     "end_time": "2021-03-22T19:40:32.799073Z",
     "start_time": "2021-03-22T19:40:32.785072Z"
    }
   },
   "outputs": [
    {
     "data": {
      "text/plain": [
       "'¿quieres un tecito?'"
      ]
     },
     "execution_count": 71,
     "metadata": {},
     "output_type": "execute_result"
    }
   ],
   "source": [
    "pregunta + respuesta_a"
   ]
  },
  {
   "cell_type": "markdown",
   "id": "speaking-replica",
   "metadata": {},
   "source": [
    "#### Formateo de strings"
   ]
  },
  {
   "cell_type": "code",
   "execution_count": 31,
   "id": "mounted-transaction",
   "metadata": {
    "ExecuteTime": {
     "end_time": "2021-03-22T19:42:28.638229Z",
     "start_time": "2021-03-22T19:42:28.616228Z"
    }
   },
   "outputs": [
    {
     "data": {
      "text/plain": [
       "'¿deseas un cafecito?'"
      ]
     },
     "execution_count": 31,
     "metadata": {},
     "output_type": "execute_result"
    }
   ],
   "source": [
    "pregunta_completa = f\"¿deseas un {respuesta_b}\"\n",
    "pregunta_completa"
   ]
  },
  {
   "cell_type": "markdown",
   "id": "a287f29a-529e-4dd0-8a6c-75082af07821",
   "metadata": {},
   "source": [
    "#### Repetir strings"
   ]
  },
  {
   "cell_type": "code",
   "execution_count": 74,
   "id": "accessory-pulse",
   "metadata": {
    "ExecuteTime": {
     "end_time": "2021-03-22T19:44:30.723837Z",
     "start_time": "2021-03-22T19:44:30.717836Z"
    },
    "scrolled": true
   },
   "outputs": [
    {
     "data": {
      "text/plain": [
       "'tecito?tecito?tecito?tecito?tecito?tecito?tecito?tecito?tecito?tecito?'"
      ]
     },
     "execution_count": 74,
     "metadata": {},
     "output_type": "execute_result"
    }
   ],
   "source": [
    "respuesta_a * 10"
   ]
  },
  {
   "cell_type": "markdown",
   "id": "patent-trance",
   "metadata": {
    "ExecuteTime": {
     "end_time": "2021-03-22T15:05:16.889531Z",
     "start_time": "2021-03-22T15:05:16.869533Z"
    }
   },
   "source": [
    "> **Pregunta** : ¿ `a / 10` ? ¿ `a // 10` ? "
   ]
  },
  {
   "cell_type": "code",
   "execution_count": 73,
   "id": "lasting-courage",
   "metadata": {
    "ExecuteTime": {
     "end_time": "2021-03-22T19:44:42.074505Z",
     "start_time": "2021-03-22T19:44:42.061506Z"
    }
   },
   "outputs": [
    {
     "ename": "TypeError",
     "evalue": "unsupported operand type(s) for /: 'str' and 'int'",
     "output_type": "error",
     "traceback": [
      "\u001b[1;31m---------------------------------------------------------------------------\u001b[0m",
      "\u001b[1;31mTypeError\u001b[0m                                 Traceback (most recent call last)",
      "\u001b[1;32m<ipython-input-73-4aeb19766d31>\u001b[0m in \u001b[0;36m<module>\u001b[1;34m\u001b[0m\n\u001b[1;32m----> 1\u001b[1;33m \u001b[0mrespuesta_a\u001b[0m \u001b[1;33m/\u001b[0m \u001b[1;36m10\u001b[0m\u001b[1;33m\u001b[0m\u001b[1;33m\u001b[0m\u001b[0m\n\u001b[0m",
      "\u001b[1;31mTypeError\u001b[0m: unsupported operand type(s) for /: 'str' and 'int'"
     ]
    }
   ],
   "source": [
    "respuesta_a / 10"
   ]
  },
  {
   "cell_type": "markdown",
   "id": "af4d30de-5447-4d70-8c6f-c46b6e335cd0",
   "metadata": {},
   "source": [
    "#### Operador `in`"
   ]
  },
  {
   "cell_type": "code",
   "execution_count": 26,
   "id": "35add86b-206b-42ec-aa74-73690ee2e37a",
   "metadata": {},
   "outputs": [
    {
     "data": {
      "text/plain": [
       "'cafecito?'"
      ]
     },
     "execution_count": 26,
     "metadata": {},
     "output_type": "execute_result"
    }
   ],
   "source": [
    "respuesta_b"
   ]
  },
  {
   "cell_type": "code",
   "execution_count": 27,
   "id": "disciplinary-clock",
   "metadata": {
    "ExecuteTime": {
     "end_time": "2021-03-22T19:45:43.393616Z",
     "start_time": "2021-03-22T19:45:43.384616Z"
    }
   },
   "outputs": [
    {
     "data": {
      "text/plain": [
       "False"
      ]
     },
     "execution_count": 27,
     "metadata": {},
     "output_type": "execute_result"
    }
   ],
   "source": [
    "'te' in respuesta_b"
   ]
  },
  {
   "cell_type": "code",
   "execution_count": 28,
   "id": "corrected-shade",
   "metadata": {
    "ExecuteTime": {
     "end_time": "2021-03-22T19:45:46.932781Z",
     "start_time": "2021-03-22T19:45:46.912751Z"
    },
    "scrolled": true
   },
   "outputs": [
    {
     "data": {
      "text/plain": [
       "True"
      ]
     },
     "execution_count": 28,
     "metadata": {},
     "output_type": "execute_result"
    }
   ],
   "source": [
    "'cafe' in respuesta_b"
   ]
  },
  {
   "cell_type": "markdown",
   "id": "538b11d5-4402-4a86-ba33-0644c480dbac",
   "metadata": {},
   "source": [
    "#### Operador `not`"
   ]
  },
  {
   "cell_type": "code",
   "execution_count": 29,
   "id": "specific-kazakhstan",
   "metadata": {
    "ExecuteTime": {
     "end_time": "2021-03-22T19:45:55.867701Z",
     "start_time": "2021-03-22T19:45:55.847673Z"
    }
   },
   "outputs": [
    {
     "data": {
      "text/plain": [
       "True"
      ]
     },
     "execution_count": 29,
     "metadata": {},
     "output_type": "execute_result"
    }
   ],
   "source": [
    "'te' not in respuesta_b"
   ]
  },
  {
   "cell_type": "code",
   "execution_count": 33,
   "id": "73d477d9",
   "metadata": {},
   "outputs": [
    {
     "data": {
      "text/plain": [
       "'¿deseas un cafecito?'"
      ]
     },
     "execution_count": 33,
     "metadata": {},
     "output_type": "execute_result"
    }
   ],
   "source": [
    "pregunta_completa"
   ]
  },
  {
   "cell_type": "code",
   "execution_count": 34,
   "id": "afd8b13e",
   "metadata": {},
   "outputs": [],
   "source": [
    "# esta linea crea un string"
   ]
  },
  {
   "cell_type": "markdown",
   "id": "42c50381-eea7-42bf-967b-8dea76e3bcb5",
   "metadata": {},
   "source": [
    "### Funciones asociadas a los `strings`"
   ]
  },
  {
   "cell_type": "markdown",
   "id": "7330a8c0-376e-46d0-9772-c941302c06d9",
   "metadata": {},
   "source": [
    "#### Cambiar a mayúscula, minúscula, etc..."
   ]
  },
  {
   "cell_type": "code",
   "execution_count": 35,
   "id": "45ea8b6b-1e39-4550-8905-2f533852edf7",
   "metadata": {},
   "outputs": [
    {
     "data": {
      "text/plain": [
       "'¿deseas un cafecito?'"
      ]
     },
     "execution_count": 35,
     "metadata": {},
     "output_type": "execute_result"
    }
   ],
   "source": [
    "pregunta_completa"
   ]
  },
  {
   "cell_type": "code",
   "execution_count": 36,
   "id": "satellite-volume",
   "metadata": {
    "ExecuteTime": {
     "end_time": "2021-03-22T19:46:07.738762Z",
     "start_time": "2021-03-22T19:46:07.724763Z"
    }
   },
   "outputs": [
    {
     "name": "stdout",
     "output_type": "stream",
     "text": [
      "Lower: ¿deseas un cafecito?\n",
      "Upper: ¿DESEAS UN CAFECITO?\n",
      "Title: ¿Deseas Un Cafecito?\n",
      "Capitalize: ¿deseas un cafecito?\n"
     ]
    }
   ],
   "source": [
    "print('Lower:', pregunta_completa.lower())\n",
    "print('Upper:', pregunta_completa.upper())\n",
    "print('Title:', pregunta_completa.title())\n",
    "print('Capitalize:', pregunta_completa.capitalize())"
   ]
  },
  {
   "cell_type": "markdown",
   "id": "1caa528f-cd90-4028-a8c8-31a07aba4c32",
   "metadata": {},
   "source": [
    "#### Reemplazar"
   ]
  },
  {
   "cell_type": "code",
   "execution_count": 37,
   "id": "18fe284c-401a-4b4a-87fd-135542e87833",
   "metadata": {},
   "outputs": [
    {
     "data": {
      "text/plain": [
       "'¿deseas un cafecito?'"
      ]
     },
     "execution_count": 37,
     "metadata": {},
     "output_type": "execute_result"
    }
   ],
   "source": [
    "pregunta_completa"
   ]
  },
  {
   "cell_type": "code",
   "execution_count": 38,
   "id": "fdaccb71-ea76-4877-850c-ea72c8b8be26",
   "metadata": {},
   "outputs": [
    {
     "data": {
      "text/plain": [
       "'¿deseas un tecito?'"
      ]
     },
     "execution_count": 38,
     "metadata": {},
     "output_type": "execute_result"
    }
   ],
   "source": [
    "pregunta_completa.replace('cafecito', 'tecito')"
   ]
  },
  {
   "cell_type": "markdown",
   "id": "094a6f84-5c15-4855-913f-8813803d79f1",
   "metadata": {},
   "source": [
    "#### Eliminar espacios del inicio y final"
   ]
  },
  {
   "cell_type": "code",
   "execution_count": 40,
   "id": "f0e56d04-d520-410e-936f-f2a0d031506f",
   "metadata": {},
   "outputs": [
    {
     "data": {
      "text/plain": [
       "'    hola      '"
      ]
     },
     "execution_count": 40,
     "metadata": {},
     "output_type": "execute_result"
    }
   ],
   "source": [
    "hola = '    hola      '\n",
    "hola"
   ]
  },
  {
   "cell_type": "code",
   "execution_count": 41,
   "id": "76be00e0-c205-4347-ac41-6c01a51d241b",
   "metadata": {},
   "outputs": [
    {
     "data": {
      "text/plain": [
       "'hola'"
      ]
     },
     "execution_count": 41,
     "metadata": {},
     "output_type": "execute_result"
    }
   ],
   "source": [
    "hola.strip()"
   ]
  },
  {
   "cell_type": "markdown",
   "id": "distinguished-basin",
   "metadata": {},
   "source": [
    "Más información y métodos útiles (en inglés): \n",
    "    \n",
    "https://www.programiz.com/python-programming/string"
   ]
  },
  {
   "cell_type": "markdown",
   "id": "diagnostic-doctrine",
   "metadata": {
    "tags": []
   },
   "source": [
    "### Operadores con booleanos\n",
    "\n",
    "Las siguientes tablas muestran como funcionan las operaciones lógicas `and`, `or` y `not`."
   ]
  },
  {
   "cell_type": "markdown",
   "id": "physical-gathering",
   "metadata": {},
   "source": [
    "#### Operador `and`\n",
    "\n",
    "Implementa la operación lógica \"y\""
   ]
  },
  {
   "cell_type": "code",
   "execution_count": 42,
   "id": "empty-episode",
   "metadata": {
    "ExecuteTime": {
     "end_time": "2021-03-22T19:47:25.648406Z",
     "start_time": "2021-03-22T19:47:25.636406Z"
    }
   },
   "outputs": [
    {
     "name": "stdout",
     "output_type": "stream",
     "text": [
      "| Bool1  -  Bool2 |  Resultado\n",
      "------------------------------\n",
      "| True  and True  |  True\n",
      "| False and True  |  False\n",
      "| True  and False |  False\n",
      "| False and False |  False\n"
     ]
    }
   ],
   "source": [
    "print('| Bool1  -  Bool2 |  Resultado')\n",
    "print('------------------------------')\n",
    "print('| True  and True  | ', True and True)\n",
    "print('| False and True  | ', False and True)\n",
    "print('| True  and False | ', True and False)\n",
    "print('| False and False | ', False and False)"
   ]
  },
  {
   "cell_type": "markdown",
   "id": "olympic-louisville",
   "metadata": {},
   "source": [
    "#### Operador `or`\n",
    "\n",
    "Implementa la operación lógica \"o\""
   ]
  },
  {
   "cell_type": "code",
   "execution_count": 43,
   "id": "played-breakfast",
   "metadata": {
    "ExecuteTime": {
     "end_time": "2021-03-22T19:47:40.866246Z",
     "start_time": "2021-03-22T19:47:40.858245Z"
    }
   },
   "outputs": [
    {
     "name": "stdout",
     "output_type": "stream",
     "text": [
      "| Bool1  -  Bool2 |  Resultado\n",
      "------------------------------\n",
      "| True  or True  |  True\n",
      "| False or True  |  True\n",
      "| True  or False |  True\n",
      "| False or False |  False\n"
     ]
    }
   ],
   "source": [
    "print('| Bool1  -  Bool2 |  Resultado')\n",
    "print('------------------------------')\n",
    "print('| True  or True  | ', True or True)\n",
    "print('| False or True  | ', False or True)\n",
    "print('| True  or False | ', True or False)\n",
    "print('| False or False | ', False or False)"
   ]
  },
  {
   "cell_type": "markdown",
   "id": "grateful-atlas",
   "metadata": {},
   "source": [
    "#### Operador `not`\n",
    "\n",
    "\n",
    "Implementa la operación lógica \"negación\""
   ]
  },
  {
   "cell_type": "code",
   "execution_count": 44,
   "id": "ad43ed3c-e999-41ad-9b5a-56079ccef153",
   "metadata": {},
   "outputs": [
    {
     "name": "stdout",
     "output_type": "stream",
     "text": [
      "| Bool1      |  Resultado\n",
      "-------------------------\n",
      "| not True   |  False\n",
      "| not False  |  True\n"
     ]
    }
   ],
   "source": [
    "print('| Bool1      |  Resultado')\n",
    "print('-------------------------')\n",
    "print('| not True   | ', not True)\n",
    "print('| not False  | ', not False)"
   ]
  },
  {
   "cell_type": "markdown",
   "id": "polar-worst",
   "metadata": {},
   "source": [
    "#### Comparaciones e igualdades"
   ]
  },
  {
   "cell_type": "code",
   "execution_count": null,
   "id": "innocent-drive",
   "metadata": {
    "ExecuteTime": {
     "end_time": "2021-03-22T19:47:59.571799Z",
     "start_time": "2021-03-22T19:47:59.565834Z"
    }
   },
   "outputs": [],
   "source": [
    "variable_1 = True\n",
    "variable_2 = False"
   ]
  },
  {
   "cell_type": "markdown",
   "id": "cd5425b5-803b-448c-b018-6cfa02b429c9",
   "metadata": {},
   "source": [
    "#### Igualdad"
   ]
  },
  {
   "cell_type": "code",
   "execution_count": null,
   "id": "acquired-lambda",
   "metadata": {
    "ExecuteTime": {
     "end_time": "2021-03-22T19:48:24.654775Z",
     "start_time": "2021-03-22T19:48:24.645776Z"
    }
   },
   "outputs": [],
   "source": [
    "variable_1 == True"
   ]
  },
  {
   "cell_type": "code",
   "execution_count": null,
   "id": "94d0ecee-42b1-453e-941d-3db430af64c7",
   "metadata": {},
   "outputs": [],
   "source": [
    "variable_2 == True"
   ]
  },
  {
   "cell_type": "markdown",
   "id": "little-instrumentation",
   "metadata": {
    "ExecuteTime": {
     "end_time": "2021-03-22T15:16:11.183686Z",
     "start_time": "2021-03-22T15:16:11.173687Z"
    }
   },
   "source": [
    "> **Pregunta ❓:** ¿En otros lenguajes existen los operadores `&&` y `||`?¿Existen estos en python?"
   ]
  },
  {
   "cell_type": "markdown",
   "id": "13936f8c-66cf-40ac-a9b8-f15b292a9466",
   "metadata": {},
   "source": [
    "---"
   ]
  },
  {
   "cell_type": "markdown",
   "id": "greater-internship",
   "metadata": {},
   "source": [
    "\n",
    "## 4. Control de Flujo 🔀"
   ]
  },
  {
   "cell_type": "markdown",
   "id": "ordinary-navigation",
   "metadata": {},
   "source": [
    "Una estructura de **Control de flujo** se refiere a un tipo de estructura de código que nos permite decidir si ejecutar o no un determinado segmento de código según una expresión o variable booleana.\n",
    "\n",
    "### Ejemplo: _La cafetería de la serpiente 🐍_\n",
    "\n",
    "En el ejemplo desarrollaremos una cafetería usando expresiones de control de flujo en python."
   ]
  },
  {
   "cell_type": "code",
   "execution_count": 45,
   "id": "32c20440-f5a6-479e-87fa-313ba1f038a5",
   "metadata": {},
   "outputs": [],
   "source": [
    "pedido = 'té'"
   ]
  },
  {
   "cell_type": "markdown",
   "id": "b3ac885f-19a4-439f-bee8-f45703471ef0",
   "metadata": {},
   "source": [
    "**Caso 1:** si respuesta es `'té'`, entonces servir el té:"
   ]
  },
  {
   "cell_type": "code",
   "execution_count": 46,
   "id": "130dc663-39ae-4168-8d5a-9efab520a127",
   "metadata": {},
   "outputs": [
    {
     "name": "stdout",
     "output_type": "stream",
     "text": [
      "Enseguida le traigo su té 🍵.\n"
     ]
    }
   ],
   "source": [
    "if 'té' == pedido:\n",
    "    print('Enseguida le traigo su té 🍵.')"
   ]
  },
  {
   "cell_type": "markdown",
   "id": "e70f18ac-95e0-40d5-bd47-7a02c014c7ad",
   "metadata": {},
   "source": [
    "> **Pregunta ❓**: ¿Qué pasa si ahora pruebo con café?"
   ]
  },
  {
   "cell_type": "code",
   "execution_count": 47,
   "id": "14cf3179-6235-4831-b2d8-16e593918dba",
   "metadata": {},
   "outputs": [],
   "source": [
    "pedido = 'café'"
   ]
  },
  {
   "cell_type": "code",
   "execution_count": 48,
   "id": "ca399f33-26a1-4b04-961f-16217725bb77",
   "metadata": {},
   "outputs": [],
   "source": [
    "if 'té' == pedido:\n",
    "    print('Enseguida le traigo su té 🍵.')"
   ]
  },
  {
   "cell_type": "markdown",
   "id": "e6273bd6-6ba3-4256-b594-9e60e1c17f9f",
   "metadata": {},
   "source": [
    "**Caso 2:** si respuesta es `'café'`, entonces servir el café, pero conservando la opción de servir té:"
   ]
  },
  {
   "cell_type": "code",
   "execution_count": 49,
   "id": "working-garden",
   "metadata": {
    "ExecuteTime": {
     "end_time": "2021-03-22T19:55:30.847496Z",
     "start_time": "2021-03-22T19:55:30.831497Z"
    }
   },
   "outputs": [
    {
     "name": "stdout",
     "output_type": "stream",
     "text": [
      "Enseguida le traigo su café ☕.\n"
     ]
    }
   ],
   "source": [
    "pedido = 'café'\n",
    "\n",
    "if 'té' == pedido:\n",
    "    print('Enseguida le traigo su té 🍵.')\n",
    "    \n",
    "elif pedido == 'café':\n",
    "    print('Enseguida le traigo su café ☕.')"
   ]
  },
  {
   "cell_type": "code",
   "execution_count": 50,
   "id": "406fadaa-5056-4b34-a140-e2c3e91facb2",
   "metadata": {},
   "outputs": [],
   "source": [
    "pedido = 'café'\n",
    "\n",
    "if 'té' == pedido:\n",
    "    print('Enseguida le traigo su té 🍵.')\n",
    "    \n",
    "if 'té' == pedido:\n",
    "    print('Enseguida le traigo su café ☕.')"
   ]
  },
  {
   "cell_type": "markdown",
   "id": "6907638d-9c8c-41c7-87a3-1521cc2ae33f",
   "metadata": {},
   "source": [
    "> **Nota 🗒️**: La keyword ```elif``` permite agregar un nuevo caso al control de flujo y su uso es opcional.\n"
   ]
  },
  {
   "cell_type": "markdown",
   "id": "3313e588-8cc0-4d4e-b6bb-d4c055fc8a0b",
   "metadata": {},
   "source": [
    "**Caso 3:** Para cualquier pedido que no sea ni té ni café, indicar que no hay:"
   ]
  },
  {
   "cell_type": "code",
   "execution_count": 51,
   "id": "bc9f1c1a-2254-4e74-be16-45bbdea3aad8",
   "metadata": {},
   "outputs": [
    {
     "name": "stdout",
     "output_type": "stream",
     "text": [
      "No tenemos lo que nos está pidiendo\n"
     ]
    }
   ],
   "source": [
    "pedido = 'bebida'\n",
    "\n",
    "if 'té' == pedido:\n",
    "    print('Enseguida le traigo su 🍵.')\n",
    "    \n",
    "elif pedido == 'café':\n",
    "    print('Enseguida le traigo su ☕.')\n",
    "    \n",
    "else:\n",
    "    print(\"No tenemos lo que nos está pidiendo\")"
   ]
  },
  {
   "cell_type": "markdown",
   "id": "5240eaa1-46a8-4fa2-b850-1ad12395d7bb",
   "metadata": {},
   "source": [
    "\n",
    "> **Nota 🗒️**: La keyword ```else``` finaliza el el flujo y es opcional. Es decir, se puede hacer\n",
    "un control de flujo sin utilizar ```elif``` no ```else```.\n"
   ]
  },
  {
   "cell_type": "markdown",
   "id": "284c4382-5bc0-4742-aa22-8d2a364fa8bb",
   "metadata": {},
   "source": [
    "> **Pregunta ❓:** Qué pasa si pruebo el código anterior con `te` (sin acento)?"
   ]
  },
  {
   "cell_type": "code",
   "execution_count": 52,
   "id": "b504662f-eb1b-4544-87f2-71c299bc4be5",
   "metadata": {},
   "outputs": [
    {
     "name": "stdout",
     "output_type": "stream",
     "text": [
      "No tenemos lo que nos está pidiendo\n"
     ]
    }
   ],
   "source": [
    "pedido = 'te'\n",
    "\n",
    "if 'té' == pedido:\n",
    "    print('Enseguida le traigo su 🍵.')\n",
    "    \n",
    "elif pedido == 'café':\n",
    "    print('Enseguida le traigo su ☕.')\n",
    "    \n",
    "else:\n",
    "    print(\"No tenemos lo que nos está pidiendo\")"
   ]
  },
  {
   "cell_type": "markdown",
   "id": "78e6120c-50cf-4e6c-a29d-5db77a4f7f04",
   "metadata": {},
   "source": [
    "> **Pregunta ❓:** ¿Cómo agrego la opción de `bebida`?"
   ]
  },
  {
   "cell_type": "code",
   "execution_count": 53,
   "id": "36c665de-df31-4854-8376-7befe25e799a",
   "metadata": {},
   "outputs": [
    {
     "name": "stdout",
     "output_type": "stream",
     "text": [
      "No tenemos lo que nos está pidiendo\n"
     ]
    }
   ],
   "source": [
    "if 'té' == pedido:\n",
    "    print('Enseguida le traigo su 🍵.')\n",
    "    \n",
    "elif pedido == 'café':\n",
    "    print('Enseguida le traigo su ☕.')\n",
    "elif pedido==\"coca colca\":\n",
    "    ...\n",
    "    \n",
    "else:\n",
    "    print(\"No tenemos lo que nos está pidiendo\")"
   ]
  },
  {
   "cell_type": "markdown",
   "id": "e729752a-e1fe-412b-810f-2fe55081558f",
   "metadata": {},
   "source": [
    "> **Nota 🗒️**: Puede usarse ```elif``` tantas veces como sea necesario. \n"
   ]
  },
  {
   "cell_type": "markdown",
   "id": "infrared-crossing",
   "metadata": {},
   "source": [
    "### Bloque Indentado\n",
    "\n",
    "Es posible observar que bajo cada expresión ```if```, ```elif``` o ```else```, se ejecutan las acciones correspondientes 4 espacios más adentro. Esto se conoce como indentación.\n",
    "\n",
    "En `Python`, cada linea de código pertenece a un *bloque*. Además, cada bloque posee una jerarquía: en el caso del control de flujo, cada keyword define un bloque indentado de 4 espacios bajo ella. \n"
   ]
  },
  {
   "cell_type": "markdown",
   "id": "3bb5e3bc",
   "metadata": {},
   "source": [
    "---"
   ]
  },
  {
   "cell_type": "markdown",
   "id": "e93a5a97",
   "metadata": {},
   "source": [
    "## Ejercicios"
   ]
  },
  {
   "cell_type": "markdown",
   "id": "d0bb16bd",
   "metadata": {},
   "source": [
    "### 1) Crear un programa que determine si un número es par o no."
   ]
  },
  {
   "cell_type": "code",
   "execution_count": 55,
   "id": "5cd39ea8",
   "metadata": {},
   "outputs": [
    {
     "name": "stdout",
     "output_type": "stream",
     "text": [
      "es impar\n"
     ]
    }
   ],
   "source": [
    "# ejemplo par o no\n",
    "\n",
    "# hay que hacer la conversion a int, porque la funcion input\n",
    "# guarda datos en formato string\n",
    "numero = int(input(\"Ingrese un número: \"))\n",
    "\n",
    "if numero % 2 == 0:\n",
    "    print(\"es par\")\n",
    "else:\n",
    "    print(\"es impar\")"
   ]
  },
  {
   "cell_type": "markdown",
   "id": "4223f80d",
   "metadata": {},
   "source": [
    "### 2) Crear un programa que calcule el promedio de 3 notas."
   ]
  },
  {
   "cell_type": "code",
   "execution_count": null,
   "id": "f761007c",
   "metadata": {},
   "outputs": [],
   "source": [
    "# promedio de notas\n",
    "\n",
    "# conversio a float ya usamos numeros decimales\n",
    "nota1 = float(input(\"Ingrese una nota: \"))\n",
    "nota2 = float(input(\"Ingrese una nota: \"))\n",
    "nota3 = float(input(\"Ingrese una nota: \"))\n",
    "\n",
    "\n",
    "\n",
    "promedio = (nota1 + nota2 + nota3) / 3\n",
    "print(promedio)"
   ]
  },
  {
   "cell_type": "markdown",
   "id": "81b173d3",
   "metadata": {},
   "source": [
    "### 3) Crear un programa que indique si un alumno ha reprobado un curso de acuerdo al promedio de 3 notas."
   ]
  },
  {
   "cell_type": "code",
   "execution_count": null,
   "id": "a69ad389",
   "metadata": {},
   "outputs": [],
   "source": [
    "# promedio de notas con reprobación\n",
    "\n",
    "nota1 = float(input(\"Ingrese una nota: \"))\n",
    "nota2 = float(input(\"Ingrese una nota: \"))\n",
    "nota3 = float(input(\"Ingrese una nota: \"))\n",
    "\n",
    "promedio = (nota1 + nota2 + nota3)/3\n",
    "\n",
    "if promedio >= 4.0:\n",
    "    print(\"Aprobado\")\n",
    "else:\n",
    "    print(\"Reprobado\")"
   ]
  },
  {
   "cell_type": "markdown",
   "id": "de2405ca-04b5-4185-b3ec-eaf56c2c6a1a",
   "metadata": {},
   "source": [
    "---"
   ]
  },
  {
   "cell_type": "markdown",
   "id": "finnish-swimming",
   "metadata": {},
   "source": [
    "## Referencias"
   ]
  },
  {
   "cell_type": "markdown",
   "id": "dimensional-cyprus",
   "metadata": {},
   "source": [
    "Un excelente tutorial de Python:\n",
    "    \n",
    "https://www.programiz.com/python-programming\n",
    "\n",
    "Y el tutorial oficial: \n",
    "\n",
    "https://docs.python.org/es/3/tutorial/\n",
    "\n",
    "Ejercicios Introducción Python:\n",
    "\n",
    "http://progra.usm.cl/apunte/ejercicios/1/index.html\n"
   ]
  }
 ],
 "metadata": {
  "kernelspec": {
   "display_name": "Python 3",
   "language": "python",
   "name": "python3"
  },
  "language_info": {
   "codemirror_mode": {
    "name": "ipython",
    "version": 3
   },
   "file_extension": ".py",
   "mimetype": "text/x-python",
   "name": "python",
   "nbconvert_exporter": "python",
   "pygments_lexer": "ipython3",
   "version": "3.8.8"
  },
  "toc": {
   "base_numbering": 1,
   "nav_menu": {},
   "number_sections": true,
   "sideBar": true,
   "skip_h1_title": false,
   "title_cell": "Table of Contents",
   "title_sidebar": "Contents",
   "toc_cell": false,
   "toc_position": {
    "height": "calc(100% - 180px)",
    "left": "10px",
    "top": "150px",
    "width": "294.233px"
   },
   "toc_section_display": true,
   "toc_window_display": true
  },
  "varInspector": {
   "cols": {
    "lenName": 16,
    "lenType": 16,
    "lenVar": 40
   },
   "kernels_config": {
    "python": {
     "delete_cmd_postfix": "",
     "delete_cmd_prefix": "del ",
     "library": "var_list.py",
     "varRefreshCmd": "print(var_dic_list())"
    },
    "r": {
     "delete_cmd_postfix": ") ",
     "delete_cmd_prefix": "rm(",
     "library": "var_list.r",
     "varRefreshCmd": "cat(var_dic_list()) "
    }
   },
   "types_to_exclude": [
    "module",
    "function",
    "builtin_function_or_method",
    "instance",
    "_Feature"
   ],
   "window_display": false
  }
 },
 "nbformat": 4,
 "nbformat_minor": 5
}
