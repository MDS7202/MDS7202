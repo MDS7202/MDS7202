{
  "nbformat": 4,
  "nbformat_minor": 0,
  "metadata": {
    "colab": {
      "provenance": []
    },
    "kernelspec": {
      "name": "python3",
      "display_name": "Python 3"
    }
  },
  "cells": [
    {
      "cell_type": "markdown",
      "source": [
        "<img src=\"https://www.dii.uchile.cl/wp-content/uploads/2021/06/Magi%CC%81ster-en-Ciencia-de-Datos.png\" width=350 />"
      ],
      "metadata": {
        "id": "rtS08lU0FxGl"
      }
    },
    {
      "cell_type": "markdown",
      "source": [
        "\n",
        "# Clase 4: PySpark 🗄️\n",
        "**MDS7202: Laboratorio de Programación Científica para Ciencia de Datos**"
      ],
      "metadata": {
        "id": "u7PVZO_O8KDN"
      }
    },
    {
      "cell_type": "markdown",
      "source": [
        "### Objetivos de la clase\n",
        "\n",
        "- **Aprender los conceptos básicos de Spark:** Aprender que es spark y que funcionalidades y capacidades nos ofrece este framework.\n",
        "\n",
        "- **Operaciones en DataFrames de Spark:** Entender y aprovechar las capacidades de Spark para la computación paralela, con el objetivo de realizar operaciones sobre grandes colecciones de datos de manera eficiente en un entorno distribuido.\n"
      ],
      "metadata": {
        "id": "C-C9I34s8XG6"
      }
    },
    {
      "cell_type": "markdown",
      "source": [
        "# Motivación\n"
      ],
      "metadata": {
        "id": "L_7HEt1_zv8t"
      }
    },
    {
      "cell_type": "markdown",
      "source": [
        "> **Pregunta ❓**: ¿Qué son los procesos productivos?"
      ],
      "metadata": {
        "id": "hbvfjtUH7U0k"
      }
    },
    {
      "cell_type": "markdown",
      "source": [
        "<center>\n",
        "<img src=\"https://github.com/MDS7202/MDS7202/blob/main/clases/2024-01/imagenes_clase_7/putting-machine-learning-into-production.png?raw=true\" width=600/>"
      ],
      "metadata": {
        "id": "KzO76HNf4nun"
      }
    },
    {
      "cell_type": "markdown",
      "source": [
        "## Extract-Transform-Load (ETL)\n",
        "\n",
        "\n",
        "Una ETL es como una cocina de un restaurante donde llegan ingredientes de varios lugares (la \"extracción\"), se limpian y preparan (la \"transformación\"), y luego se combinan para crear platos que se sirven en el comedor o se envían a domicilio (la \"carga\"). En el mundo de los datos, ETL es el proceso de tomar datos de diferentes lugares, limpiarlos y organizarlos para que tengan sentido juntos, y finalmente ponerlos en una base de datos o sistema donde las personas puedan usarlos fácilmente para tomar decisiones o entender mejor algo."
      ],
      "metadata": {
        "id": "lhUWDIao3AEm"
      }
    },
    {
      "cell_type": "markdown",
      "source": [
        "<center>\n",
        "<img src=\"https://github.com/MDS7202/MDS7202/blob/main/clases/2024-01/imagenes_clase_7/etl.png?raw=true\" width=500 />"
      ],
      "metadata": {
        "id": "SSqhB8gw6mgr"
      }
    },
    {
      "cell_type": "markdown",
      "source": [
        "> **Pregunta ❓**: ¿Comó podriamos tratar diferentes conjuntos de datos tabulares y realizar transformaciones y merges sobre ellos?"
      ],
      "metadata": {
        "id": "utLgzaPJ3uLR"
      }
    },
    {
      "cell_type": "markdown",
      "source": [
        "`Pandas` es una libreria diseñada para el manejo de datos de tipo tabulares, que facilita el trabajo con estructuras de datos conocidas como `DataFrames`, proporcionando un medio intuitivo para manipular datos a través de operaciones optimizadas.\n",
        "\n",
        "> **Pregunta ❓**: ¿Cuál es la desventaja de utilizar pandas en escenarios con grandes volúmenes de datos?"
      ],
      "metadata": {
        "id": "-epXdhlsz1fL"
      }
    },
    {
      "cell_type": "markdown",
      "source": [
        "## Problemas que puede presentar Pandas en producción\n",
        "\n",
        "1. **Gestión de Memoria:** Pandas carga todos los datos en memoria RAM, lo que significa que si tengo un archivo de 10GB, necesitaremos al menos 10GB de RAM para manejardo. Además Pandas emplea una `Eager Evaluation`, lo que significa que ejecuta operaciones inmediatamente después de que se llaman y esto puede resultar en una gestión ineficiente de la memoria, que se agrava cuando se manejan grandes conjuntos de datos, donde el consumo excesivo de memoria puede ser un problema.\n",
        "\n",
        "2. **Desempeño con Grandes Volumenes de Datos:** Pandas es excelente en el análisis de conjuntos de datos de tamaño moderado, pero su desempeño puede verse comprometido al trabajar con volúmenes de datos más grandes. Esta limitación surge en parte debido a su dependencia de NumPy, que, aunque potente, no está optimizado para operar con grandes cantidades de datos ni para ejecutar operaciones de forma paralela o distribuida.\n",
        "\n",
        "3. **Capacidad para Operaciones Paralelas y Distribuidas:** De forma inherente, Pandas no fue diseñado para soportar computación paralela o distribuida. Enfrentar desafíos con conjuntos de datos que superan la capacidad de memoria de una sola máquina implica explorar alternativas y soluciones adicionales. Herramientas como Dask ofrecen paralelización, mientras que la transición a sistemas especializados en procesamiento distribuido, como Apache Spark, puede ser necesaria para manejar eficientemente estas situaciones."
      ],
      "metadata": {
        "id": "a8qrBRiWzwW4"
      }
    },
    {
      "cell_type": "markdown",
      "source": [
        "<center>\n",
        "<img src=\"https://github.com/MDS7202/MDS7202/blob/main/clases/2024-01/imagenes_clase_7/Pandas-vs-Spark-2.png?raw=true\" width=350/>\n",
        "\n",
        "<img src=\"https://github.com/MDS7202/MDS7202/blob/main/clases/2024-01/imagenes_clase_7/PandasVsPySpark1.png?raw=true\" width=350/>"
      ],
      "metadata": {
        "id": "P5fujed94tXI"
      }
    },
    {
      "cell_type": "markdown",
      "source": [
        "> **Nota 📝:** Una importante limitación al utilizar Pandas en ambientes de producción es su manejo de grandes conjuntos de datos. Cuando estos exceden la capacidad de memoria disponible, puede provocar que el código falle debido a errores de memoria insuficiente. Esta característica subraya la importancia de considerar otras herramientas o estrategias para el manejo de datos a gran escala."
      ],
      "metadata": {
        "id": "wI7WRtVCGPyR"
      }
    },
    {
      "cell_type": "markdown",
      "source": [
        "# Spark + Python = Pyspark"
      ],
      "metadata": {
        "id": "w5KGKh568BKZ"
      }
    },
    {
      "cell_type": "markdown",
      "source": [
        "<center>\n",
        "<img src=\"https://github.com/MDS7202/MDS7202/blob/main/clases/2024-01/imagenes_clase_7/pyspark.jpeg?raw=true\" width=500 />"
      ],
      "metadata": {
        "id": "fDoOGAzpE0DR"
      }
    },
    {
      "cell_type": "markdown",
      "source": [
        "**Apache Spark** es un potente motor unificado, diseñado para el procesamiento de datos a gran escala, tanto en centros de datos físicos como en entornos de nube. Se distingue por ofrecer almacenamiento en memoria para cálculos intermedios, lo que acelera significativamente sus operaciones en comparación con Hadoop MapReduce. Además, su API integra bibliotecas avanzadas para aprendizaje automático, consultas SQL interactivas, streaming de datos y procesamiento de grafos mediante GraphX.\n",
        "\n",
        "Para superar las limitaciones de Hadoop, Spark se fundamenta en cuatro pilares esenciales en su diseño:\n",
        "\n",
        "- **Velocidad:** Aprovecha los avances en hardware, como el incremento en gigabytes y núcleos de procesador, para maximizar el uso de recursos. Mejora la velocidad mediante la construcción de cálculos como Grafos Acíclicos Dirigidos (DAGs), que optimizan y programan las tareas para una ejecución paralela eficiente.\n",
        "\n",
        "- **Facilidad de uso:** Introduce el Resilient Distributed Dataset (RDD), una estructura de datos que simplifica la manipulación de información tabular de forma inmutable.\n",
        "\n",
        "- **Modularidad:** Compatible con múltiples lenguajes de programación y diferentes modos de procesamiento, por Batch, Streaming, SQL.\n",
        "\n",
        "- **Extensibilidad:** Mientras se enfoca en el paralelismo para el procesamiento veloz, permite la separación entre cómputo y almacenamiento, lo que habilita la lectura de diversos tipos de datos (como Amazon S3 y Azure) para su procesamiento en memoria.\n",
        "\n",
        "Esta filosofía de diseño convierte a Spark en una solución avanzada y flexible para el procesamiento de grandes volúmenes de datos, adaptándose a las necesidades de proyectos modernos de big data y análisis."
      ],
      "metadata": {
        "id": "z8Pc1MhK8K3j"
      }
    },
    {
      "cell_type": "markdown",
      "source": [
        "<center>\n",
        "<img src=\"https://github.com/MDS7202/MDS7202/blob/main/clases/2024-01/imagenes_clase_7/sparkframework.png?raw=true\" width=500>"
      ],
      "metadata": {
        "id": "lkVG8u5jH8QO"
      }
    },
    {
      "cell_type": "markdown",
      "source": [
        "\n",
        "> **Nota 📝:** ¿Como empezo esto? En 2009, un equipo de investigadores de la Universidad de Berkeley, previamente involucrados en el desarrollo de MapReduce, inició un proyecto conocido como Spark. Su objetivo era crear un framework que fuera simple, rápido y fácil de usar. Desde sus inicios, Spark demostró ser significativamente más rápido que Hadoop, superando su velocidad de procesamiento en un factor de 10 a 20 veces, una mejora que ha aumentado aún más con el tiempo. Para 2013, Spark había ganado popularidad y sus creadores lo donaron a la Apache Software Foundation (ASF), estableciendo también la compañía Databricks. El proyecto alcanzó otro hito importante en 2014 con el lanzamiento de Apache Spark 1.0."
      ],
      "metadata": {
        "id": "-g7BOWd7L9H3"
      }
    },
    {
      "cell_type": "markdown",
      "source": [
        "## Ejecución Distribuida de Apache Spark"
      ],
      "metadata": {
        "id": "UW5UZhB-4ORM"
      }
    },
    {
      "cell_type": "markdown",
      "source": [
        "<center>\n",
        "<img src=\"https://github.com/MDS7202/MDS7202/blob/main/clases/2024-01/imagenes_clase_7/sparkdriver.png?raw=true\" width=500>"
      ],
      "metadata": {
        "id": "97tthwiGKX7A"
      }
    },
    {
      "cell_type": "markdown",
      "metadata": {
        "id": "n4MHSwHS8wJA"
      },
      "source": [
        "En términos generales, la arquitectura de Spark está diseñada alrededor de una aplicación de Spark, que se compone de un programa conductor. Este programa tiene la tarea fundamental de coordinar de manera paralela las diversas operaciones que se llevan a cabo en el clúster de Spark. La comunicación del conductor con las componentes distribuidas del sistema (como los ejecutores y el gestor del clúster) se facilita mediante una `SparkSession`.\n",
        "\n",
        "**Spark Driver:** Es el corazón de una aplicación de Spark, encargado de instanciar la `SparkSession`. Sus principales funciones incluyen comunicarse con el gestor del clúster para solicitar recursos (CPU, memoria, entre otros) que serán utilizados por los ejecutores de Spark, y transformar las operaciones definidas en el código en gráficos acíclicos dirigidos (DAGs), que permiten una ejecución eficiente de las tareas.\n",
        "\n",
        "**SparkSession:** Actúa como el punto de entrada para la programación con Spark, ofreciendo una interfaz unificada para diversas operaciones y manipulación de datos dentro de Spark. A través de la `SparkSession`, se pueden crear entornos de ejecución JVM, definir DataFrames y DataSets, leer fuentes de datos, acceder a metadatos, y ejecutar consultas SQL.\n",
        "\n",
        "**Cluster Manager:** Es el encargado de administrar y asignar los recursos disponibles en el clúster de nodos donde se ejecuta la aplicación de Spark. Su rol es crucial para asegurar que los recursos se utilicen de manera eficiente y que las tareas se distribuyan adecuadamente entre los nodos disponibles.\n",
        "\n",
        "**Spark Executor:** Opera en cada nodo trabajador dentro del clúster, comunicándose directamente con el programa conductor. Los ejecutores son responsables de llevar a cabo las tareas asignadas por el conductor en los nodos de trabajo, procesando datos y devolviendo los resultados al conductor.\n",
        "\n",
        "Esta estructura proporciona a Spark la flexibilidad y escalabilidad necesarias para procesar grandes volúmenes de datos de manera eficiente, permitiendo a las aplicaciones aprovechar al máximo los recursos computacionales disponibles."
      ]
    },
    {
      "cell_type": "markdown",
      "source": [
        "### Datos Distribuidos y particiones\n",
        "\n",
        "Los datos se distribuyen físicamente a través de sistemas de almacenamiento, como HDFS o servicios de almacenamiento en la nube, organizados en particiones. Spark aborda estas particiones utilizando conceptos de alto nivel para procesar los datos de manera eficiente."
      ],
      "metadata": {
        "id": "xNh-lrBnChOP"
      }
    },
    {
      "cell_type": "markdown",
      "source": [
        "<center>\n",
        "<img src=\"https://github.com/MDS7202/MDS7202/blob/main/clases/2024-01/imagenes_clase_7/partitions.png?raw=true\" width=500 />"
      ],
      "metadata": {
        "id": "mJ1eayH3Cy-O"
      }
    },
    {
      "cell_type": "markdown",
      "source": [
        "El particionamiento de datos es clave para optimizar el rendimiento, ya que promueve el **paralelismo**. Al distribuir los datos en segmentos o particiones, se facilita que los ejecutores (executors) de Spark procesen datos que se encuentran físicamente más próximos a ellos, reduciendo así el uso del ancho de banda necesario para la transferencia de datos. De este modo, a cada núcleo de procesamiento de un ejecutor se le asigna una partición específica sobre la cual trabajar, maximizando la eficiencia del procesamiento y minimizando el tiempo de ejecución."
      ],
      "metadata": {
        "id": "7woa4hb5DZJh"
      }
    },
    {
      "cell_type": "markdown",
      "source": [
        "<center>\n",
        "<img src=\"https://github.com/MDS7202/MDS7202/blob/main/clases/2024-01/imagenes_clase_7/partitionandexecutors.png?raw=true\" width=500 />"
      ],
      "metadata": {
        "id": "g5E5xSZSDZv4"
      }
    },
    {
      "cell_type": "markdown",
      "source": [
        "\n",
        "Pregunta ❓: ¿Cómo se visualizan los datos particionados dentro de las carpetas?"
      ],
      "metadata": {
        "id": "4tt4rkOmDx8R"
      }
    },
    {
      "cell_type": "markdown",
      "source": [
        "```sql\n",
        "data/\n",
        "├── year=2023/\n",
        "│   ├── month=01/\n",
        "│   │   ├── day=01/\n",
        "│   │   │   ├── datafile1.parquet\n",
        "│   │   │   ├── datafile2.parquet\n",
        "│   │   ├── day=02/\n",
        "│   │   │   ├── datafile1.parquet\n",
        "│   │   │   ├── datafile2.parquet\n",
        "│   │   ...\n",
        "│   ├── month=02/\n",
        "│   │   ├── day=01/\n",
        "│   │   │   ├── datafile1.parquet\n",
        "│   │   │   ├── datafile2.parquet\n",
        "│   │   ...\n",
        "│   ...\n",
        "├── year=2024/\n",
        "│   ├── month=01/\n",
        "│   │   ├── day=01/\n",
        "│   │   │   ├── datafile1.parquet\n",
        "│   │   │   ├── datafile2.parquet\n",
        "│   │   ...\n",
        "│   ...\n",
        "```"
      ],
      "metadata": {
        "id": "6-eFGGRQDyj-"
      }
    },
    {
      "cell_type": "markdown",
      "source": [
        "### Spark Jobs\n",
        "\n",
        "Durante una sesión interactiva de Spark, el nodo maestro (driver) descompone tu aplicación en uno o varios trabajos de Spark. Un Job en Spark es el bloque de ejecución completo que se genera cuando llamas a una acción y que desencadena la ejecución del Gráfico Acíclico Dirigido (DAG) construido de las transformaciones previas."
      ],
      "metadata": {
        "id": "zQxByzNIERJj"
      }
    },
    {
      "cell_type": "markdown",
      "source": [
        "<center>\n",
        "<img src=\"https://github.com/MDS7202/MDS7202/blob/main/clases/2024-01/imagenes_clase_7/sparkjobs.png?raw=true\" width=500 />"
      ],
      "metadata": {
        "id": "jSF4uEsFE1Qg"
      }
    },
    {
      "cell_type": "markdown",
      "source": [
        "**Etapas en Spark:** Dentro de los nodos del DAG, las etapas se establecen en función de las operaciones que pueden ejecutarse de manera secuencial o en paralelo. Sin embargo, dado que no todas las operaciones pueden completarse en una sola etapa, estas pueden subdividirse en múltiples etapas que facilitan la transferencia de datos entre los ejecutores."
      ],
      "metadata": {
        "id": "lme-812jExnu"
      }
    },
    {
      "cell_type": "markdown",
      "source": [
        "<center>\n",
        "<img src=\"https://github.com/MDS7202/MDS7202/blob/main/clases/2024-01/imagenes_clase_7/sparksstages.png?raw=true\" width=500 />"
      ],
      "metadata": {
        "id": "Jhl9O4eYGv49"
      }
    },
    {
      "cell_type": "markdown",
      "source": [
        "**Tareas en Spark:** Cada etapa incluye varias tareas, y cada tarea se asigna a un núcleo de procesador, operando exclusivamente sobre una partición de datos. Este aspecto es crucial, ya que un ejecutor con 12 núcleos puede gestionar 12 o más tareas simultáneamente sobre 12 o más particiones de datos en paralelo. Este diseño permite que Spark alcance un alto grado de paralelismo y eficiencia en el procesamiento de datos."
      ],
      "metadata": {
        "id": "TcPDxlueE0kI"
      }
    },
    {
      "cell_type": "markdown",
      "source": [
        "<center>\n",
        "<img src=\"https://github.com/MDS7202/MDS7202/blob/main/clases/2024-01/imagenes_clase_7/sparktask.png?raw=true\" width=500 />"
      ],
      "metadata": {
        "id": "QRAZhmIeE2Nc"
      }
    },
    {
      "cell_type": "markdown",
      "source": [
        "Pregunta ❓: ¿Cómo se vería esto desglosada en Jobs, stages y tasks?"
      ],
      "metadata": {
        "id": "3Uic43NJQUNw"
      }
    },
    {
      "cell_type": "markdown",
      "source": [
        "```python\n",
        "# 1. Leer un archivo CSV\n",
        "df = spark.read.csv(\"path/to/csv/file.csv\", header=True, inferSchema=True)\n",
        "\n",
        "# 2. Filtrar las filas donde la edad es mayor a 30\n",
        "filtered_df = df.filter(df[\"edad\"] > 30)\n",
        "\n",
        "# 3. Seleccionar sólo la columna con los ruts\n",
        "selected_df = filtered_df.select('rut')\n",
        "\n",
        "# 4. Obtener los elementos únicos del dataset\n",
        "distinct_df = selected_df.distinct()\n",
        "\n",
        "# 5. Contar la cantidad de elementos únicos\n",
        "distinct_df.count()\n",
        "```"
      ],
      "metadata": {
        "id": "ZUgN9jM8QRUB"
      }
    },
    {
      "cell_type": "markdown",
      "source": [
        "Job: Toda la secuencia desde leer el archivo hasta contar la cantidad de ruts únicos se considera un `Job` en Spark. Un job comienza con una acción, en este caso, `count()`. Cada vez que se solicita **una acción en Spark**, se crea un nuevo **job**.\n",
        "\n",
        "Stage: Los `stages` se dividen en función de las operaciones que requieren que los datos sean enviados a través del clúster (**shuffle**). En nuestro ejemplo simple, podríamos tener dos stages:\n",
        "\n",
        "  - Stage 1: Leer el archivo CSV, filtrar las filas y seleccionar la columna `rut`. Este stage no requiere un shuffle porque tanto la lectura del archivo como el filtrado pueden realizarse en paralelo en cada partición del archivo sin necesidad de intercambio de datos entre particiones.\n",
        "\n",
        "  - Stage 2: Obtener los elementos únicos del dataset con `distinct`. Este stage se consideraría por separado ya que el obtener los elementos únicos implicará un shuffle de los datos.\n",
        "\n",
        "Task: Las tareas son las unidades de trabajo más pequeñas que se envían a los ejecutores. Cada tarea trabaja en una partición de los datos y realiza las operaciones necesarias. Por ejemplo, en el primer stage, habría una tarea por partición del archivo CSV que primero leería su sección del archivo, luego aplicaría el filtro y seleccionaría la columna rut. La cantidad de tareas está determinada por el número de particiones en los datos."
      ],
      "metadata": {
        "id": "4oNG4W-5Qf5d"
      }
    },
    {
      "cell_type": "markdown",
      "source": [
        "## Estructuras de Datos en Spark"
      ],
      "metadata": {
        "id": "MthXnH34EIhF"
      }
    },
    {
      "cell_type": "markdown",
      "source": [
        "### RDD"
      ],
      "metadata": {
        "id": "IvzxwTM4LmuE"
      }
    },
    {
      "cell_type": "markdown",
      "source": [
        "<center>\n",
        "<img src=\"https://github.com/MDS7202/MDS7202/blob/main/clases/2024-01/imagenes_clase_7/sparkrdd.png?raw=true\" width=500 />"
      ],
      "metadata": {
        "id": "uqXz-do_Lhfy"
      }
    },
    {
      "cell_type": "markdown",
      "metadata": {
        "id": "Ha4GJBIogCPw"
      },
      "source": [
        "\n",
        "\n",
        "Un RDD (Resilient Distributed Dataset) es una colección distribuida e inmutable de elementos que constituye el pilar fundamental de Apache Spark. Este modelo permite que Spark realice operaciones de computación en paralelo de manera eficiente, distribuyendo los datos a través del clúster y ejecutando operaciones en paralelo. **Los RDD son esenciales para entender la arquitectura y la ejecución de tareas en Spark**. Alguna de las caracteristicas vitales de RDD son:\n",
        "\n",
        "- Inmutabilidad\n",
        "- Dependencias\n",
        "- Particiones\n",
        "\n",
        "A medida que Spark ha evolucionado, especialmente desde mediados de 2019, ha habido un cambio en el enfoque de manipulación de datos hacia estructuras más avanzadas como los DataFrames y los DataSets. Estas son abstracciones de nivel superior sobre los RDD, ofreciendo una interfaz más rica y optimizaciones automáticas, pero internamente, Spark sigue fundamentándose en el concepto de RDD."
      ]
    },
    {
      "cell_type": "markdown",
      "source": [
        "#### Creación de RDD\n",
        "\n",
        "Un RDD puede estar compuesto por distintos tipos de datos, incluyendo objetos de Python, Java, o Scala, y hasta clases definidas por el usuario. La distribución de estos datos se organiza en particiones, que pueden ser procesadas concurrentemente en varios nodos del clúster, aprovechando así la arquitectura distribuida de Spark.\n",
        "\n",
        "Existen dos enfoques principales para crear RDDs:\n",
        "\n",
        "1. **Distribuyendo una colección de objetos existentes**, como una lista o un set en el programa, lo cual se puede realizar mediante métodos como `sc.parallelize()`.\n",
        "2. **Cargando un conjunto de datos desde un origen externo**, lo cual se logra mediante el uso de métodos como `sc.textFile()`, permitiendo la lectura de archivos de texto y su conversión directa en RDD."
      ],
      "metadata": {
        "id": "jRe_d1RxJDZF"
      }
    },
    {
      "cell_type": "markdown",
      "metadata": {
        "id": "qUasZsA-9ywG"
      },
      "source": [
        "### Nuestra primera SparkSession\n",
        "\n",
        "Para iniciar con PySpark, es necesario realizar algunos pasos de configuración previos. Primero, instala la biblioteca pyspark junto con Java 8. Luego, ajusta las variables de entorno adecuadamente para asegurar que el sistema opere sin errores:"
      ]
    },
    {
      "cell_type": "code",
      "metadata": {
        "id": "ubhXKpI5B4-q",
        "colab": {
          "base_uri": "https://localhost:8080/"
        },
        "outputId": "7378e3a2-694a-4941-8e28-5b129597de0d"
      },
      "source": [
        "!pip install pyspark\n",
        "!apt-get install openjdk-8-jdk-headless -qq > /dev/null\n",
        "\n",
        "import os\n",
        "os.environ[\"JAVA_HOME\"] = \"/usr/lib/jvm/java-8-openjdk-amd64\""
      ],
      "execution_count": null,
      "outputs": [
        {
          "output_type": "stream",
          "name": "stdout",
          "text": [
            "Requirement already satisfied: pyspark in /usr/local/lib/python3.11/dist-packages (3.5.5)\n",
            "Requirement already satisfied: py4j==0.10.9.7 in /usr/local/lib/python3.11/dist-packages (from pyspark) (0.10.9.7)\n"
          ]
        }
      ]
    },
    {
      "cell_type": "code",
      "source": [
        "import pyspark\n",
        "pyspark.__version__"
      ],
      "metadata": {
        "colab": {
          "base_uri": "https://localhost:8080/",
          "height": 35
        },
        "id": "kBYdFmTN8Yya",
        "outputId": "4ecd001c-c992-4df3-b9cb-a23d70b720e0"
      },
      "execution_count": null,
      "outputs": [
        {
          "output_type": "execute_result",
          "data": {
            "text/plain": [
              "'3.5.5'"
            ],
            "application/vnd.google.colaboratory.intrinsic+json": {
              "type": "string"
            }
          },
          "metadata": {},
          "execution_count": 13
        }
      ]
    },
    {
      "cell_type": "markdown",
      "source": [
        "\n",
        "Cuando trabajas con PySpark, iniciar el `SparkSession` es uno de los primeros pasos que debes realizar. El SparkSession es el corazón de cualquier aplicación Spark, ya que actúa como el principal punto de entrada a las funcionalidades de Spark. Permite a Spark acceder a los recursos del cluster y ejecutar operaciones en conjunto de datos distribuidos. Aquí tienes una explicación paso a paso de cómo se inicia el SparkSession usando el código proporcionado:"
      ],
      "metadata": {
        "id": "lNyhxEo7ODfW"
      }
    },
    {
      "cell_type": "code",
      "source": [
        "from pyspark.sql import SparkSession\n",
        "\n",
        "\n",
        "# Inicializo el Spark Context\n",
        "spark = SparkSession.builder.appName(\"MiApp\").getOrCreate()\n",
        "spark"
      ],
      "metadata": {
        "colab": {
          "base_uri": "https://localhost:8080/",
          "height": 219
        },
        "id": "Uin0i3aPYf67",
        "outputId": "4ee8d202-d74c-419e-a0e3-fb0d636ead86"
      },
      "execution_count": null,
      "outputs": [
        {
          "output_type": "execute_result",
          "data": {
            "text/plain": [
              "<pyspark.sql.session.SparkSession at 0x7f6111642950>"
            ],
            "text/html": [
              "\n",
              "            <div>\n",
              "                <p><b>SparkSession - in-memory</b></p>\n",
              "                \n",
              "        <div>\n",
              "            <p><b>SparkContext</b></p>\n",
              "\n",
              "            <p><a href=\"http://d3cdb966363f:4040\">Spark UI</a></p>\n",
              "\n",
              "            <dl>\n",
              "              <dt>Version</dt>\n",
              "                <dd><code>v3.5.5</code></dd>\n",
              "              <dt>Master</dt>\n",
              "                <dd><code>local[*]</code></dd>\n",
              "              <dt>AppName</dt>\n",
              "                <dd><code>MiApp</code></dd>\n",
              "            </dl>\n",
              "        </div>\n",
              "        \n",
              "            </div>\n",
              "        "
            ]
          },
          "metadata": {},
          "execution_count": 14
        }
      ]
    },
    {
      "cell_type": "markdown",
      "metadata": {
        "id": "LANZerwPE6gA"
      },
      "source": [
        "Después de haber inicializado un SparkSession, ya podemos utilizar todos los métodos para crear y manipular RDDs, Dataframes, y Datasets que son las estructuras de datos presentes en Spark."
      ]
    },
    {
      "cell_type": "code",
      "source": [
        "sc = spark.sparkContext\n",
        "dataRDD = sc.parallelize([\n",
        "    (\"ignacio\", 20),\n",
        "    (\"antonia\", 31),\n",
        "    (\"juan\", 30),\n",
        "    (\"sebastian\", 29),\n",
        "    (\"ignacio\", 25),\n",
        "    (\"juan\", 40)\n",
        "])\n",
        "\n",
        "agesRDD = (\n",
        "    dataRDD.map(lambda x: (x[0], (x[1], 1)))\n",
        "    .reduceByKey(lambda x, y: (x[0] + y[0], x[1] + y[1]))\n",
        "    .map(lambda x: (x[0], x[1][0]/x[1][1]))\n",
        ")\n",
        "agesRDD.collect()"
      ],
      "metadata": {
        "colab": {
          "base_uri": "https://localhost:8080/"
        },
        "id": "qvrkfjgdZGES",
        "outputId": "ab7426ad-b558-4448-bd0a-556f3594ccba"
      },
      "execution_count": null,
      "outputs": [
        {
          "output_type": "execute_result",
          "data": {
            "text/plain": [
              "[('antonia', 31.0), ('juan', 35.0), ('sebastian', 29.0), ('ignacio', 22.5)]"
            ]
          },
          "metadata": {},
          "execution_count": 15
        }
      ]
    },
    {
      "cell_type": "code",
      "source": [
        "print(agesRDD.toDebugString())"
      ],
      "metadata": {
        "colab": {
          "base_uri": "https://localhost:8080/"
        },
        "id": "u-TaOufV2ttg",
        "outputId": "5e110cb0-d945-44e0-b739-e9768fe31d3e"
      },
      "execution_count": null,
      "outputs": [
        {
          "output_type": "stream",
          "name": "stdout",
          "text": [
            "b'(2) PythonRDD[5] at collect at <ipython-input-15-4f85bcaca530>:16 []\\n |  MapPartitionsRDD[4] at mapPartitions at PythonRDD.scala:160 []\\n |  ShuffledRDD[3] at partitionBy at NativeMethodAccessorImpl.java:0 []\\n +-(2) PairwiseRDD[2] at reduceByKey at <ipython-input-15-4f85bcaca530>:13 []\\n    |  PythonRDD[1] at reduceByKey at <ipython-input-15-4f85bcaca530>:13 []\\n    |  ParallelCollectionRDD[0] at readRDDFromFile at PythonRDD.scala:289 []'\n"
          ]
        }
      ]
    },
    {
      "cell_type": "markdown",
      "source": [
        "El siguiente ejemplo ilustra la creación de un RDD a partir de un archivo externo utilizando el método `sc.textFile()`:"
      ],
      "metadata": {
        "id": "_dLeDNvhBYS8"
      }
    },
    {
      "cell_type": "code",
      "source": [
        "!wget https://raw.githubusercontent.com/MDS7202/MDS7202/main/clases/2024-01/imagenes_clase_7/Shrek-Script.txt"
      ],
      "metadata": {
        "colab": {
          "base_uri": "https://localhost:8080/"
        },
        "id": "jftKM4Fy66n6",
        "outputId": "bea290a7-5d66-48c2-e43d-7696d04e93aa"
      },
      "execution_count": null,
      "outputs": [
        {
          "output_type": "stream",
          "name": "stdout",
          "text": [
            "--2025-03-26 19:53:00--  https://raw.githubusercontent.com/MDS7202/MDS7202/main/clases/2024-01/imagenes_clase_7/Shrek-Script.txt\n",
            "Resolving raw.githubusercontent.com (raw.githubusercontent.com)... 185.199.108.133, 185.199.109.133, 185.199.110.133, ...\n",
            "Connecting to raw.githubusercontent.com (raw.githubusercontent.com)|185.199.108.133|:443... connected.\n",
            "HTTP request sent, awaiting response... 200 OK\n",
            "Length: 72841 (71K) [text/plain]\n",
            "Saving to: ‘Shrek-Script.txt’\n",
            "\n",
            "Shrek-Script.txt    100%[===================>]  71.13K  --.-KB/s    in 0.008s  \n",
            "\n",
            "2025-03-26 19:53:01 (9.05 MB/s) - ‘Shrek-Script.txt’ saved [72841/72841]\n",
            "\n"
          ]
        }
      ]
    },
    {
      "cell_type": "code",
      "metadata": {
        "colab": {
          "base_uri": "https://localhost:8080/"
        },
        "id": "a1ZVTg6AirCv",
        "outputId": "fdb68a88-c65c-434d-c538-18dc2c2b233b"
      },
      "source": [
        "# Cargamos archivo de texto\n",
        "text_file = sc.textFile(\"Shrek-Script.txt\")\n",
        "\n",
        "# Separo en palabras\n",
        "words = text_file.flatMap(lambda line: line.split(\" \"))\n",
        "\n",
        "# Transformo a clave-valor\n",
        "key_value = words.map(lambda word: (word, 1))\n",
        "\n",
        "# Agrupo por clave\n",
        "wordCounts = key_value.reduceByKey(lambda a,b:a +b)\n",
        "\n",
        "# Muestro el primero\n",
        "wordCounts.first()"
      ],
      "execution_count": null,
      "outputs": [
        {
          "output_type": "execute_result",
          "data": {
            "text/plain": [
              "('(2001)', 1)"
            ]
          },
          "metadata": {},
          "execution_count": 52
        }
      ]
    },
    {
      "cell_type": "code",
      "source": [
        "wordCounts.max(lambda x: x[1])"
      ],
      "metadata": {
        "colab": {
          "base_uri": "https://localhost:8080/"
        },
        "id": "RexBOPDCi8GK",
        "outputId": "19ba50dd-37d1-44fa-b87f-b005467397fc"
      },
      "execution_count": null,
      "outputs": [
        {
          "output_type": "execute_result",
          "data": {
            "text/plain": [
              "('the', 437)"
            ]
          },
          "metadata": {},
          "execution_count": 23
        }
      ]
    },
    {
      "cell_type": "code",
      "source": [
        "wordCounts.filter(lambda x: x[1] > 100).sortBy(lambda x: x[1], ascending=False).collect()"
      ],
      "metadata": {
        "colab": {
          "base_uri": "https://localhost:8080/"
        },
        "id": "pLm37uQTmRzq",
        "outputId": "382e7ee4-adc1-4d80-cb0f-edf1e8dd730c"
      },
      "execution_count": null,
      "outputs": [
        {
          "output_type": "execute_result",
          "data": {
            "text/plain": [
              "[('the', 437),\n",
              " ('a', 285),\n",
              " ('SHREK', 266),\n",
              " ('and', 265),\n",
              " ('I', 263),\n",
              " ('to', 237),\n",
              " ('DONKEY', 224),\n",
              " ('you', 221),\n",
              " ('Shrek', 140),\n",
              " ('FIONA', 137),\n",
              " ('of', 133),\n",
              " ('is', 122)]"
            ]
          },
          "metadata": {},
          "execution_count": 24
        }
      ]
    },
    {
      "cell_type": "code",
      "source": [
        "# Muestro todos\n",
        "for x in wordCounts.collect():\n",
        "     print(x)\n",
        "\n",
        "# Mostramos la cantidad\n",
        "wordCounts.count()"
      ],
      "metadata": {
        "colab": {
          "base_uri": "https://localhost:8080/"
        },
        "id": "ZUDzr60b_l44",
        "outputId": "8d740fda-5c6b-4c53-c498-9a1776b7fb66"
      },
      "execution_count": null,
      "outputs": [
        {
          "output_type": "stream",
          "name": "stdout",
          "text": [
            "('(2001)', 1)\n",
            "('Writer', 1)\n",
            "('Credits:', 1)\n",
            "('Steig', 1)\n",
            "('Ted', 1)\n",
            "('Terry', 1)\n",
            "('S.H.', 1)\n",
            "('(Screenplay);', 1)\n",
            "('Cameron,', 1)\n",
            "('Chris', 1)\n",
            "('Vernon', 1)\n",
            "('(Additional', 1)\n",
            "('Dialogue).', 1)\n",
            "('OPENING', 1)\n",
            "('A', 15)\n",
            "('FAIRYTALE', 1)\n",
            "('BOOK', 1)\n",
            "('Voiceover:', 2)\n",
            "('But', 30)\n",
            "('an', 21)\n",
            "('her', 53)\n",
            "('of', 133)\n",
            "('fearful', 1)\n",
            "('sort', 1)\n",
            "('could', 6)\n",
            "('by', 26)\n",
            "('first', 12)\n",
            "('She', 29)\n",
            "('castle', 4)\n",
            "('terrible', 1)\n",
            "('fire-breathing', 2)\n",
            "('dragon.', 5)\n",
            "('knights', 5)\n",
            "('to', 237)\n",
            "('from', 36)\n",
            "('this', 47)\n",
            "('dreadful', 1)\n",
            "('prison,', 1)\n",
            "('but', 36)\n",
            "('none', 1)\n",
            "('prevailed.', 1)\n",
            "('room', 2)\n",
            "('tallest', 4)\n",
            "('for', 52)\n",
            "('true', 19)\n",
            "('love', 19)\n",
            "('and', 265)\n",
            "('(Page', 1)\n",
            "('ripped', 1)\n",
            "('CUT', 47)\n",
            "('TOILET.', 1)\n",
            "('Like', 4)\n",
            "(\"that's\", 17)\n",
            "('ever', 9)\n",
            "('happen.', 2)\n",
            "('What', 37)\n",
            "('load', 1)\n",
            "('-', 87)\n",
            "('(Toilet', 1)\n",
            "('flush,', 1)\n",
            "('bursts', 2)\n",
            "('plays:', 4)\n",
            "('Smashmouth', 1)\n",
            "('play.)', 1)\n",
            "('Montage', 2)\n",
            "('ogre..', 1)\n",
            "('NIGHT.', 6)\n",
            "('have', 53)\n",
            "('torches', 2)\n",
            "('are', 65)\n",
            "('running', 7)\n",
            "('swamp.', 6)\n",
            "('They', 20)\n",
            "('at', 53)\n",
            "('Shrek’s', 7)\n",
            "('home.', 3)\n",
            "('MAN', 19)\n",
            "('there?', 5)\n",
            "('All', 19)\n",
            "('Whoa.', 1)\n",
            "('on.', 11)\n",
            "('you', 221)\n",
            "('what', 37)\n",
            "('3', 6)\n",
            "('Yeah,', 9)\n",
            "(\"it'll\", 2)\n",
            "('up', 64)\n",
            "('behind', 10)\n",
            "('Yes,', 9)\n",
            "('well,', 7)\n",
            "('would', 12)\n",
            "('giant.', 1)\n",
            "('Now,', 6)\n",
            "('ogres,', 1)\n",
            "('oh', 1)\n",
            "('worse.', 1)\n",
            "('freshly', 1)\n",
            "('peeled', 1)\n",
            "('skin.', 1)\n",
            "('shave', 1)\n",
            "('liver.', 1)\n",
            "('eyes!', 1)\n",
            "('good', 20)\n",
            "('Back!', 2)\n",
            "('Back,', 1)\n",
            "('I', 263)\n",
            "('ya!', 2)\n",
            "('waves', 1)\n",
            "('torch', 2)\n",
            "('Shrek.)', 5)\n",
            "('(Shrek', 7)\n",
            "('his', 51)\n",
            "('torch.)', 1)\n",
            "('(The', 2)\n",
            "('back', 32)\n",
            "('him.', 15)\n",
            "('loudly,', 1)\n",
            "('loudly', 1)\n",
            "('back.', 6)\n",
            "('long', 4)\n",
            "('remaining', 1)\n",
            "('dark.)', 1)\n",
            "('(Whispers', 1)\n",
            "('part', 4)\n",
            "('where', 15)\n",
            "('away.', 11)\n",
            "('laughs.)', 2)\n",
            "('stay', 8)\n",
            "('out!', 2)\n",
            "('picks', 6)\n",
            "('paper.', 1)\n",
            "('\"Wanted.', 1)\n",
            "('tale', 8)\n",
            "('sighs', 2)\n",
            "('paper', 1)\n",
            "('shoulder.)', 1)\n",
            "('There', 9)\n",
            "('line', 3)\n",
            "('creatures.', 2)\n",
            "('table', 4)\n",
            "('paying', 1)\n",
            "('bringing', 2)\n",
            "('cages', 1)\n",
            "('We', 10)\n",
            "('see', 23)\n",
            "('Pan,', 1)\n",
            "('Tinkerbell,', 1)\n",
            "('dwarves,', 1)\n",
            "('Pinocchio,', 1)\n",
            "('three', 3)\n",
            "('little', 23)\n",
            "('GUARD', 19)\n",
            "(\"one's\", 2)\n",
            "('Take', 8)\n",
            "('it', 56)\n",
            "('away!', 3)\n",
            "('along.', 1)\n",
            "('Come', 7)\n",
            "('HEAD', 16)\n",
            "('(taking', 1)\n",
            "(\"witch's\", 1)\n",
            "('Give', 4)\n",
            "('me', 44)\n",
            "('that!', 4)\n",
            "('Your', 6)\n",
            "('flying', 2)\n",
            "('days', 1)\n",
            "('(Breaks', 1)\n",
            "('half.)', 1)\n",
            "('pieces', 1)\n",
            "('witch.', 1)\n",
            "('Sit', 1)\n",
            "('there!', 3)\n",
            "('quiet!', 1)\n",
            "('LITTLE', 3)\n",
            "('cage', 2)\n",
            "('too', 3)\n",
            "('turn', 3)\n",
            "('in.', 6)\n",
            "(\"I'll\", 28)\n",
            "('never', 8)\n",
            "('again.', 6)\n",
            "('change.', 1)\n",
            "('Please!', 4)\n",
            "('another', 5)\n",
            "('chance!', 1)\n",
            "('up.', 8)\n",
            "('got?', 2)\n",
            "('GIPETTO', 1)\n",
            "('wooden', 5)\n",
            "('boy.', 2)\n",
            "('(His', 1)\n",
            "('nose', 1)\n",
            "('grows.)', 1)\n",
            "('possessed', 1)\n",
            "('Father,', 1)\n",
            "(\"Don't\", 16)\n",
            "('this!', 4)\n",
            "('Help', 1)\n",
            "('me!', 12)\n",
            "('(Gipetto', 1)\n",
            "('walks', 17)\n",
            "('old', 3)\n",
            "('woman', 3)\n",
            "('steps', 5)\n",
            "('Well,', 32)\n",
            "('got', 15)\n",
            "('Right.', 4)\n",
            "('shillings,', 1)\n",
            "('prove', 2)\n",
            "('(Donkey', 5)\n",
            "('just', 43)\n",
            "('oh,', 1)\n",
            "(\"he's\", 10)\n",
            "('nervous.', 1)\n",
            "('really', 14)\n",
            "('chatterbox.', 1)\n",
            "('Talk,', 1)\n",
            "('boneheaded', 1)\n",
            "('dolt...', 1)\n",
            "('enough.', 2)\n",
            "('No,', 26)\n",
            "('no,', 17)\n",
            "('talks!', 2)\n",
            "('does.', 2)\n",
            "('swear!', 1)\n",
            "('grab', 1)\n",
            "('struggles', 2)\n",
            "('with', 54)\n",
            "('them.', 7)\n",
            "('flies', 4)\n",
            "('Tinkerbell', 1)\n",
            "('hands,', 1)\n",
            "(\"Donkey's\", 2)\n",
            "('sprinkled', 1)\n",
            "('dust', 2)\n",
            "('Hey!', 9)\n",
            "('fly!', 3)\n",
            "('right,', 14)\n",
            "('fool!', 1)\n",
            "('Now', 16)\n",
            "('might', 3)\n",
            "('housefly,', 1)\n",
            "('even', 6)\n",
            "('bet', 1)\n",
            "(\"ain't\", 7)\n",
            "('donkey', 2)\n",
            "('pixie', 1)\n",
            "('sink', 1)\n",
            "('ground.', 5)\n",
            "('hits', 4)\n",
            "('ground', 3)\n",
            "('Seize', 1)\n",
            "('him!', 7)\n",
            "('After', 1)\n",
            "('GUARDS', 2)\n",
            "('getting', 7)\n",
            "('keeps', 3)\n",
            "('runs', 10)\n",
            "('Shrek.', 23)\n",
            "('path.', 1)\n",
            "('there.', 11)\n",
            "('Ogre!', 1)\n",
            "('By', 3)\n",
            "('Farquaad', 20)\n",
            "('authorized', 1)\n",
            "('place', 3)\n",
            "('under', 1)\n",
            "('transport', 1)\n",
            "('facility.', 1)\n",
            "('really?', 1)\n",
            "('turns', 12)\n",
            "('other', 7)\n",
            "('deserted', 1)\n",
            "('walking', 7)\n",
            "('Can', 9)\n",
            "('say', 6)\n",
            "('something', 7)\n",
            "('really,', 4)\n",
            "(\"somethin'\", 1)\n",
            "('Incredible!', 1)\n",
            "('around', 13)\n",
            "('gone.', 2)\n",
            "('right', 16)\n",
            "('you!', 5)\n",
            "('Those', 2)\n",
            "('they', 19)\n",
            "('that.', 10)\n",
            "('Then', 7)\n",
            "('showed', 1)\n",
            "('bam!', 1)\n",
            "(\"trippin'\", 1)\n",
            "('themselves', 1)\n",
            "('like', 42)\n",
            "('woods.', 2)\n",
            "('feel', 5)\n",
            "('great.', 1)\n",
            "('Man,', 6)\n",
            "('celebrate', 1)\n",
            "('freedom', 1)\n",
            "('own', 3)\n",
            "('Hmm?', 3)\n",
            "('But,', 3)\n",
            "('friends.', 2)\n",
            "(\"goin'\", 3)\n",
            "('minute!', 2)\n",
            "('idea!', 1)\n",
            "('stick', 2)\n",
            "(\"You're\", 26)\n",
            "('mean,', 9)\n",
            "('green,', 1)\n",
            "(\"fightin'\", 1)\n",
            "('Together', 1)\n",
            "(\"we'll\", 2)\n",
            "('anybody', 1)\n",
            "('before', 11)\n",
            "('roaring', 1)\n",
            "('wow!', 1)\n",
            "('scary.', 1)\n",
            "('If', 4)\n",
            "('certainly', 2)\n",
            "('will', 13)\n",
            "('done,', 1)\n",
            "(\"'cause\", 5)\n",
            "('Tic', 1)\n",
            "('Tacs', 1)\n",
            "('something,', 2)\n",
            "('Man!', 1)\n",
            "('almost', 1)\n",
            "('burned', 2)\n",
            "('hair', 1)\n",
            "('covers', 1)\n",
            "('mouth', 3)\n",
            "('continues', 6)\n",
            "('so', 28)\n",
            "('removes', 1)\n",
            "('hand.', 2)\n",
            "('berries.', 1)\n",
            "('gases', 1)\n",
            "('leaking', 1)\n",
            "('butt', 3)\n",
            "('day.', 1)\n",
            "('why.', 1)\n",
            "('(Singing)', 2)\n",
            "('no', 20)\n",
            "('here', 9)\n",
            "('beside', 3)\n",
            "('problems', 1)\n",
            "('gotta', 8)\n",
            "('Stop', 4)\n",
            "('friend', 1)\n",
            "('honest.', 1)\n",
            "('me.', 17)\n",
            "('I?', 2)\n",
            "('(Looks', 1)\n",
            "('...really', 1)\n",
            "('tall?', 1)\n",
            "('ogre!', 2)\n",
            "('know.', 8)\n",
            "('\"Grab', 1)\n",
            "(\"Doesn't\", 1)\n",
            "('bother', 1)\n",
            "('Really,', 4)\n",
            "('really.', 3)\n",
            "('Oh.', 6)\n",
            "('Shrek?', 10)\n",
            "('about', 19)\n",
            "('kind', 6)\n",
            "('respect', 1)\n",
            "('come', 18)\n",
            "(\"Shrek's\", 9)\n",
            "('Look', 2)\n",
            "('live', 5)\n",
            "('that?', 11)\n",
            "('lovely!', 1)\n",
            "('beautiful.', 4)\n",
            "(\"you've\", 2)\n",
            "('done', 1)\n",
            "('such', 4)\n",
            "('modest', 1)\n",
            "('budget.', 1)\n",
            "('past', 5)\n",
            "('much,', 1)\n",
            "('privacy.', 1)\n",
            "('know,', 18)\n",
            "('hate', 1)\n",
            "('somebody', 4)\n",
            "('give', 7)\n",
            "('hint,', 1)\n",
            "(\"won't\", 4)\n",
            "('big', 7)\n",
            "('awkward', 2)\n",
            "('Big', 2)\n",
            "('course!', 2)\n",
            "('', 16)\n",
            "('wanna', 7)\n",
            "('considered', 1)\n",
            "('freak.', 1)\n",
            "('while', 4)\n",
            "('together.', 2)\n",
            "('only.', 1)\n",
            "('inside', 7)\n",
            "('INT.', 17)\n",
            "('SHREK’S', 4)\n",
            "('COTTAGE.', 5)\n",
            "('you...?', 1)\n",
            "('hops', 1)\n",
            "('onto', 5)\n",
            "('confortable', 1)\n",
            "('Ah,', 6)\n",
            "('fun!', 1)\n",
            "('late,', 1)\n",
            "('manly', 1)\n",
            "(\"mornin'\", 1)\n",
            "('waffles.', 1)\n",
            "('Where', 8)\n",
            "('sleep?', 1)\n",
            "('Outside!', 1)\n",
            "('cool.', 1)\n",
            "('outside', 4)\n",
            "('go.', 5)\n",
            "('Good', 5)\n",
            "('night.', 9)\n",
            "('EXT.', 20)\n",
            "('down,', 4)\n",
            "('him,', 4)\n",
            "('door.', 3)\n",
            "('sighs.', 2)\n",
            "('hear', 6)\n",
            "('sitting', 4)\n",
            "('myself', 1)\n",
            "('guess,', 1)\n",
            "('(Sings)', 1)\n",
            "(\"alone...there's\", 1)\n",
            "('himself', 3)\n",
            "('pulls', 9)\n",
            "('ear', 1)\n",
            "('lights.', 1)\n",
            "('eating', 4)\n",
            "('hears', 3)\n",
            "('stands', 2)\n",
            "('huff.', 1)\n",
            "('(From', 1)\n",
            "('noise', 1)\n",
            "('turns.', 1)\n",
            "('sees', 8)\n",
            "('shadows', 1)\n",
            "('finally', 3)\n",
            "('table.', 5)\n",
            "('BLIND', 3)\n",
            "('MOUSE', 3)\n",
            "('gents,', 1)\n",
            "('far', 2)\n",
            "('farm,', 1)\n",
            "('choice', 1)\n",
            "('have?', 1)\n",
            "('home,', 1)\n",
            "('fine.', 4)\n",
            "('bed.', 3)\n",
            "('Gordo', 2)\n",
            "('lands', 4)\n",
            "('found', 3)\n",
            "('ear.', 1)\n",
            "('Blah!', 1)\n",
            "('Awful', 1)\n",
            "('How', 3)\n",
            "('did', 11)\n",
            "('know?', 1)\n",
            "('Enough!', 1)\n",
            "('doing', 5)\n",
            "('bumped', 1)\n",
            "('Dwarves', 2)\n",
            "('Snow', 4)\n",
            "('White', 2)\n",
            "('Dead', 1)\n",
            "('broad', 1)\n",
            "('DWARF', 1)\n",
            "(\"bed's\", 1)\n",
            "('Huh?', 2)\n",
            "('marches', 1)\n",
            "('Bad', 1)\n",
            "('Wolf', 2)\n",
            "('lying', 2)\n",
            "('BIG', 1)\n",
            "('BAD', 1)\n",
            "('WOLF', 1)\n",
            "('What?', 11)\n",
            "('door', 15)\n",
            "('stunned', 1)\n",
            "('privacy?', 1)\n",
            "('creatures:', 1)\n",
            "('Pied', 1)\n",
            "('Piper', 1)\n",
            "('fairies', 2)\n",
            "('witches.', 1)\n",
            "('swamp?', 3)\n",
            "('Everyone', 3)\n",
            "('Three', 1)\n",
            "('hide', 1)\n",
            "('move', 4)\n",
            "('go!', 2)\n",
            "('Quickly.', 1)\n",
            "('gives', 4)\n",
            "('(Turns', 2)\n",
            "('Donkey).', 1)\n",
            "('gosh,', 1)\n",
            "('were', 6)\n",
            "('PIG', 1)\n",
            "('huffed', 1)\n",
            "('puffed', 1)\n",
            "('(Heavy', 1)\n",
            "('is.', 3)\n",
            "('Does', 4)\n",
            "('anyone', 2)\n",
            "('find', 13)\n",
            "('him?', 2)\n",
            "('Anyone', 1)\n",
            "('Me!', 3)\n",
            "('know!', 2)\n",
            "('Me,', 1)\n",
            "('high', 1)\n",
            "('officially', 1)\n",
            "('out.', 10)\n",
            "('fact,', 1)\n",
            "('land', 2)\n",
            "('clapping', 1)\n",
            "('cheering.', 1)\n",
            "(\"comin'\", 1)\n",
            "('man.', 5)\n",
            "('(Singing.)', 1)\n",
            "('On', 1)\n",
            "('road', 3)\n",
            "('Sing', 1)\n",
            "('whistle?', 1)\n",
            "('hum', 3)\n",
            "('it?', 5)\n",
            "('Road', 1)\n",
            "('DULOC', 12)\n",
            "('CHAMBER', 1)\n",
            "('medieval', 1)\n",
            "('masked', 2)\n",
            "('man', 5)\n",
            "('pours', 1)\n",
            "('Guards', 2)\n",
            "('torturing', 1)\n",
            "('dunking', 1)\n",
            "('milk.', 1)\n",
            "('FARQUAAD', 55)\n",
            "('ready', 3)\n",
            "('cookie', 1)\n",
            "('sheet.', 3)\n",
            "('However', 1)\n",
            "('reaches', 4)\n",
            "('them.)', 1)\n",
            "('run,', 2)\n",
            "('as', 38)\n",
            "('fast', 1)\n",
            "('can.', 1)\n",
            "('catch', 2)\n",
            "('GINGERBREAD', 11)\n",
            "('monster', 1)\n",
            "('rest', 4)\n",
            "('perfect', 8)\n",
            "('others?', 1)\n",
            "('Eat', 1)\n",
            "('spits', 1)\n",
            "('Farquaad’s', 3)\n",
            "('eye.)', 1)\n",
            "('fair', 1)\n",
            "('Tell', 1)\n",
            "(\"I'll...\", 1)\n",
            "('(he', 1)\n",
            "('pull', 4)\n",
            "('buttons.', 2)\n",
            "('gumdrop', 1)\n",
            "('then.', 2)\n",
            "(\"Who's\", 2)\n",
            "('them?', 1)\n",
            "('muffin', 8)\n",
            "('Lane?', 1)\n",
            "(\"she's\", 6)\n",
            "('married', 3)\n",
            "('Head', 1)\n",
            "('for?', 3)\n",
            "('enter', 1)\n",
            "('covered', 1)\n",
            "('hang', 2)\n",
            "('covering', 1)\n",
            "('It', 11)\n",
            "('Magic', 3)\n",
            "('Mirror.', 1)\n",
            "('gasp.', 1)\n",
            "('(In', 1)\n",
            "('Ahhhh...', 1)\n",
            "('mirror...', 1)\n",
            "('anything!', 1)\n",
            "('whacks', 1)\n",
            "('trash', 1)\n",
            "('mirror', 2)\n",
            "('most', 2)\n",
            "('kingdom', 2)\n",
            "('MIRROR', 7)\n",
            "('technically', 1)\n",
            "('holds', 8)\n",
            "('smashes', 4)\n",
            "('saying?', 1)\n",
            "('(Nervous.)', 1)\n",
            "('mean', 8)\n",
            "('king', 1)\n",
            "('yet.', 3)\n",
            "('become', 2)\n",
            "('one.', 3)\n",
            "('marry', 7)\n",
            "('(Chuckles', 2)\n",
            "('nervously)', 1)\n",
            "('lord,', 2)\n",
            "('because', 3)\n",
            "('are!', 2)\n",
            "('Alpert)', 1)\n",
            "('Bachelorette', 2)\n",
            "('number', 8)\n",
            "('mentally', 1)\n",
            "('abused', 1)\n",
            "('likes', 5)\n",
            "('sushi', 1)\n",
            "('anytime.', 1)\n",
            "('Her', 1)\n",
            "('hobbies', 1)\n",
            "('include', 1)\n",
            "('evil', 1)\n",
            "('Please', 4)\n",
            "('picture', 2)\n",
            "('Cinderella.)', 1)\n",
            "('fancy.', 1)\n",
            "('Although', 1)\n",
            "('dead,', 1)\n",
            "('frozen', 1)\n",
            "('lips', 2)\n",
            "('last,', 2)\n",
            "('redhead', 1)\n",
            "('pina', 1)\n",
            "('caught', 1)\n",
            "('Yours', 1)\n",
            "('Princess', 24)\n",
            "('Fiona!', 5)\n",
            "('Fiona)', 1)\n",
            "('one,', 3)\n",
            "('Two!', 4)\n",
            "('One?', 1)\n",
            "('THELONIUS', 1)\n",
            "('Pick', 1)\n",
            "('three,', 1)\n",
            "('okay,', 2)\n",
            "('three!', 1)\n",
            "('Farquaad,', 5)\n",
            "('Music', 2)\n",
            "('Plays:', 1)\n",
            "('“If', 1)\n",
            "('clap', 1)\n",
            "('cheer.', 1)\n",
            "('Fiona.', 10)\n",
            "('go...', 1)\n",
            "('probably', 2)\n",
            "('should', 4)\n",
            "('mention', 1)\n",
            "('happens', 3)\n",
            "('finest', 1)\n",
            "(\"We're\", 2)\n",
            "('going', 7)\n",
            "('LOT', 1)\n",
            "('SECTION)', 1)\n",
            "('field', 2)\n",
            "('40', 1)\n",
            "('high.', 1)\n",
            "('DuLoc.', 8)\n",
            "(\"Farquaad's\", 5)\n",
            "('Uh-huh.', 1)\n",
            "('something?', 3)\n",
            "('laughs;', 1)\n",
            "('joke.', 1)\n",
            "('Wait', 5)\n",
            "('darling.', 1)\n",
            "('Hurry.', 1)\n",
            "('attendant,', 1)\n",
            "('wearing', 1)\n",
            "('giant', 3)\n",
            "('screams', 1)\n",
            "('rows', 1)\n",
            "('rope', 2)\n",
            "('gate', 1)\n",
            "('second.', 2)\n",
            "('then', 17)\n",
            "('continue', 3)\n",
            "('quiet.', 3)\n",
            "('lever', 2)\n",
            "(\"'Information'.\", 1)\n",
            "('music', 2)\n",
            "('doors', 1)\n",
            "('begin', 3)\n",
            "('CHARACTERS', 1)\n",
            "('Welcome', 1)\n",
            "('rules.', 1)\n",
            "('Let', 5)\n",
            "('us', 3)\n",
            "('lay', 2)\n",
            "('waves,', 1)\n",
            "('Shine', 1)\n",
            "('camera', 2)\n",
            "('snaps', 2)\n",
            "('prints', 1)\n",
            "('photobooth.', 1)\n",
            "('Wow!', 1)\n",
            "('prepares', 1)\n",
            "('tail.', 2)\n",
            "('sound,', 1)\n",
            "('knights.', 2)\n",
            "('best', 1)\n",
            "('brightest', 1)\n",
            "('Today', 1)\n",
            "('himself...', 1)\n",
            "('hums', 1)\n",
            "('tunnel', 1)\n",
            "('bottom.', 2)\n",
            "('cheers.', 3)\n",
            "('ARENA.', 1)\n",
            "('Farquuad', 1)\n",
            "('champion', 1)\n",
            "('privilege', 1)\n",
            "('forth', 1)\n",
            "('rescue', 12)\n",
            "('unsuccessful,', 1)\n",
            "('runner-up', 1)\n",
            "('take', 13)\n",
            "('it’s', 1)\n",
            "('sacrifice', 1)\n",
            "('willing', 1)\n",
            "('Crowd', 1)\n",
            "('notices', 1)\n",
            "('begin!', 1)\n",
            "('nice.', 2)\n",
            "('Knights,', 1)\n",
            "('new', 3)\n",
            "('plan!', 1)\n",
            "('ogre', 9)\n",
            "('bumps', 3)\n",
            "('drinks', 1)\n",
            "('beer.)', 1)\n",
            "(\"Can't\", 2)\n",
            "('settle', 1)\n",
            "('Kill', 1)\n",
            "('No?', 1)\n",
            "('mug,', 1)\n",
            "('spigot', 1)\n",
            "('large', 4)\n",
            "('beer', 3)\n",
            "('drenching', 1)\n",
            "('mud.', 1)\n",
            "('spear.', 1)\n",
            "('climbs', 2)\n",
            "('Various', 1)\n",
            "('fight', 5)\n",
            "('Shrek,', 18)\n",
            "('Tag', 1)\n",
            "('comes', 4)\n",
            "('bangs', 1)\n",
            "(\"man's\", 1)\n",
            "('against', 2)\n",
            "('Donkeys.', 1)\n",
            "('interacts', 1)\n",
            "('Yeah!', 1)\n",
            "('knight', 4)\n",
            "('chair!', 2)\n",
            "('chair', 1)\n",
            "('Finally', 1)\n",
            "('helmet.', 3)\n",
            "('ding', 1)\n",
            "('end', 1)\n",
            "('match.', 1)\n",
            "('audience', 2)\n",
            "('yeah!', 2)\n",
            "('Thursday.', 1)\n",
            "('stops', 2)\n",
            "('their', 9)\n",
            "('Shall', 1)\n",
            "('order,', 1)\n",
            "('sir?', 1)\n",
            "('idea.', 3)\n",
            "('DuLoc,', 3)\n",
            "('our', 7)\n",
            "('Congratulations,', 1)\n",
            "('Quest?', 1)\n",
            "('dumped', 1)\n",
            "('deal.', 1)\n",
            "('Exactly', 1)\n",
            "('was?', 1)\n",
            "('Down', 1)\n",
            "('last', 5)\n",
            "('slime-covered', 1)\n",
            "('toadstool.', 1)\n",
            "('squatters?', 1)\n",
            "('FIELD.', 1)\n",
            "('straight.', 1)\n",
            "('princess', 6)\n",
            "('filled', 1)\n",
            "('full', 1)\n",
            "('freaks', 1)\n",
            "('right?', 6)\n",
            "(\"there's\", 14)\n",
            "('donkeys', 2)\n",
            "(\"shouldn't\", 2)\n",
            "('stuff', 2)\n",
            "('bread,', 1)\n",
            "('whole', 10)\n",
            "('what.', 1)\n",
            "('Maybe', 3)\n",
            "('entire', 1)\n",
            "('pike,', 1)\n",
            "('knife,', 1)\n",
            "('cut', 3)\n",
            "('sound', 3)\n",
            "('more', 3)\n",
            "('than', 5)\n",
            "('Example?', 2)\n",
            "('um,', 5)\n",
            "('onions.', 2)\n",
            "('(Sniffs', 1)\n",
            "('onion.)', 1)\n",
            "('cry?', 1)\n",
            "('leave', 2)\n",
            "('start', 6)\n",
            "('white', 1)\n",
            "('Ogres', 3)\n",
            "('heaves', 2)\n",
            "('sigh', 1)\n",
            "('{Sniffs}', 1)\n",
            "('everybody', 2)\n",
            "('loves', 1)\n",
            "('everyone', 1)\n",
            "('likes.', 1)\n",
            "('cakes.', 1)\n",
            "('Parfaits.', 1)\n",
            "('person,', 1)\n",
            "('parfait\"?', 1)\n",
            "('Parfaits', 2)\n",
            "('dense,', 1)\n",
            "('burden!', 1)\n",
            "('onions!', 1)\n",
            "('End', 1)\n",
            "('story.', 1)\n",
            "('See', 2)\n",
            "('later.', 1)\n",
            "('planet.', 1)\n",
            "('humming.', 1)\n",
            "('tissue', 1)\n",
            "('making', 3)\n",
            "('word', 2)\n",
            "('parfait', 1)\n",
            "('Montage:', 1)\n",
            "('sunset.', 2)\n",
            "('campfire', 1)\n",
            "('peeing', 1)\n",
            "('Proclaimers.', 1)\n",
            "('KEEP', 4)\n",
            "('molten', 1)\n",
            "('lava', 1)\n",
            "('(sniffs)', 1)\n",
            "('Ohh!', 4)\n",
            "('Shrek!', 21)\n",
            "('crack', 2)\n",
            "(\"you'd\", 2)\n",
            "('smell.', 1)\n",
            "(\"wasn't\", 5)\n",
            "('neither.', 2)\n",
            "('reach', 2)\n",
            "('volcano', 2)\n",
            "('rickety', 2)\n",
            "('bridge', 6)\n",
            "('leads', 1)\n",
            "('Sure,', 1)\n",
            "('location.', 1)\n",
            "('groan.', 1)\n",
            "('remember', 1)\n",
            "('aye.', 1)\n",
            "('bit', 1)\n",
            "('Donkeys', 2)\n",
            "('mean.', 1)\n",
            "('being', 5)\n",
            "('Donkey.', 13)\n",
            "('support,', 1)\n",
            "('we’ll', 1)\n",
            "('tackle', 1)\n",
            "('step', 4)\n",
            "('time.', 6)\n",
            "('better.', 4)\n",
            "('board', 1)\n",
            "('looking', 5)\n",
            "('safe!', 1)\n",
            "('this.', 3)\n",
            "('Just,', 1)\n",
            "('dance', 1)\n",
            "('then,', 1)\n",
            "('bounces', 1)\n",
            "('bridge.', 2)\n",
            "('sorry.', 3)\n",
            "('again.)', 1)\n",
            "('Yes?', 1)\n",
            "('sway', 1)\n",
            "(\"doin'\", 1)\n",
            "('towards', 6)\n",
            "('Cool.', 2)\n",
            "('anyway?', 2)\n",
            "('Inside,', 1)\n",
            "('her.', 13)\n",
            "('dragon,', 1)\n",
            "('DRAGON’S', 5)\n",
            "('afraid?', 1)\n",
            "('But...', 1)\n",
            "('Shh.', 2)\n",
            "('skeleton', 1)\n",
            "(\"nothin'\", 2)\n",
            "('wrong', 1)\n",
            "(\"bein'\", 1)\n",
            "('response', 1)\n",
            "('unfamiliar', 1)\n",
            "('situation.', 1)\n",
            "('dangerous', 1)\n",
            "('eats', 2)\n",
            "('fire,', 1)\n",
            "('coward', 1)\n",
            "('heck', 1)\n",
            "('helmet', 3)\n",
            "('things,', 2)\n",
            "('Donkey’s', 1)\n",
            "('Stairs?', 1)\n",
            "('stairs', 2)\n",
            "('read', 2)\n",
            "('handle', 2)\n",
            "('whip', 1)\n",
            "(\"goin'.\", 1)\n",
            "('KEEP.', 2)\n",
            "('EMPTY', 1)\n",
            "('ROOM', 1)\n",
            "('still', 11)\n",
            "('Kick', 1)\n",
            "('stair', 1)\n",
            "('master.', 1)\n",
            "('here,', 3)\n",
            "('Dragon', 7)\n",
            "('eye.', 2)\n",
            "('light', 2)\n",
            "('least', 3)\n",
            "(\"where's\", 1)\n",
            "('(Interrupts,', 1)\n",
            "('yelling.)', 1)\n",
            "('Dragon!', 1)\n",
            "('fireball.', 1)\n",
            "('releases', 1)\n",
            "('fireball,', 1)\n",
            "('tail,', 1)\n",
            "('Got', 1)\n",
            "('tail', 2)\n",
            "('air', 2)\n",
            "('LIGHT.', 2)\n",
            "('wakes', 2)\n",
            "('floor.', 2)\n",
            "('terrifying.', 1)\n",
            "('Aah!', 5)\n",
            "('cornered', 1)\n",
            "('repeatedly', 2)\n",
            "('knocks', 1)\n",
            "('small', 1)\n",
            "('standing', 1)\n",
            "('DRAGON', 8)\n",
            "('teeth', 2)\n",
            "('have.', 1)\n",
            "('(Growls.)', 1)\n",
            "('sparkling', 1)\n",
            "('dazzling', 1)\n",
            "('else?', 1)\n",
            "('sure!', 1)\n",
            "('course', 1)\n",
            "('cos', 1)\n",
            "('reeking', 1)\n",
            "('feminine', 1)\n",
            "('matter', 2)\n",
            "('eye?', 1)\n",
            "('(Blows', 1)\n",
            "('heart-shaped', 1)\n",
            "('ring.)', 1)\n",
            "('Ohh.', 1)\n",
            "('stay,', 2)\n",
            "('uh...(coughs)', 1)\n",
            "('work', 1)\n",
            "('blow', 1)\n",
            "('(Picks', 1)\n",
            "('Ahhh,', 1)\n",
            "('bouquet', 1)\n",
            "('side', 1)\n",
            "('appears', 2)\n",
            "('puckers', 2)\n",
            "('Wake', 3)\n",
            "('am,', 1)\n",
            "(\"let's\", 1)\n",
            "('wait,', 2)\n",
            "('Knight.', 2)\n",
            "('meeting.', 1)\n",
            "('wonderful,', 1)\n",
            "('doing?', 7)\n",
            "('sweep', 1)\n",
            "('window', 1)\n",
            "('this,', 2)\n",
            "('(Smiling.)', 1)\n",
            "('Keep.', 1)\n",
            "('savor', 1)\n",
            "('recite', 1)\n",
            "('poem', 1)\n",
            "('sonnet!', 1)\n",
            "('Or', 1)\n",
            "('something!', 1)\n",
            "('name', 2)\n",
            "('champion?', 1)\n",
            "('pray', 1)\n",
            "('favor', 1)\n",
            "('gratitude.', 1)\n",
            "('roar.', 1)\n",
            "('slay', 1)\n",
            "('dragon?', 1)\n",
            "('list.', 2)\n",
            "('(Takes', 2)\n",
            "('running,', 1)\n",
            "('him.)', 1)\n",
            "(\"isn't\", 3)\n",
            "('charge', 1)\n",
            "('banner', 1)\n",
            "('did.', 1)\n",
            "('burst', 2)\n",
            "('flame.', 1)\n",
            "('suddenly', 1)\n",
            "('ignores', 2)\n",
            "('side.', 2)\n",
            "('going?', 1)\n",
            "('ass.', 2)\n",
            "('kind.', 1)\n",
            "('room,', 1)\n",
            "('wrapped', 2)\n",
            "('escape.', 1)\n",
            "('baby,', 1)\n",
            "('believe', 2)\n",
            "('old-fashioned.', 1)\n",
            "('physical', 2)\n",
            "('relationship.', 1)\n",
            "('emotionally', 1)\n",
            "('of,', 1)\n",
            "('touches', 1)\n",
            "('chin', 1)\n",
            "('claw.)', 1)\n",
            "('contact.', 1)\n",
            "('it.)', 1)\n",
            "('okay.', 6)\n",
            "('friends', 3)\n",
            "('pals.', 1)\n",
            "('chain,', 1)\n",
            "('swing', 1)\n",
            "('starts', 3)\n",
            "('lot,', 1)\n",
            "('receiving', 1)\n",
            "('personal', 1)\n",
            "('tear', 1)\n",
            "('chain', 5)\n",
            "('unwinds', 1)\n",
            "('kisses', 2)\n",
            "('instead.', 2)\n",
            "('eyes', 4)\n",
            "('roars.', 2)\n",
            "('lets', 1)\n",
            "('forming', 1)\n",
            "('again', 3)\n",
            "('groin.', 1)\n",
            "('exit!', 1)\n",
            "('toward', 3)\n",
            "('between', 1)\n",
            "('links.', 1)\n",
            "('Run!', 2)\n",
            "('race', 1)\n",
            "('pursuit.', 1)\n",
            "('At', 1)\n",
            "('bridge,', 1)\n",
            "('collapses.', 1)\n",
            "('them,', 1)\n",
            "('restrained', 1)\n",
            "('safety.', 1)\n",
            "('angry', 1)\n",
            "('giving', 1)\n",
            "('sad', 1)\n",
            "('whimper', 1)\n",
            "('side,', 1)\n",
            "('trio', 1)\n",
            "('(Sliding', 1)\n",
            "('volcanic', 1)\n",
            "('tumbles', 1)\n",
            "(\"You're...\", 1)\n",
            "('thy', 2)\n",
            "('deed', 3)\n",
            "('great,', 1)\n",
            "('heart', 1)\n",
            "('pure.', 1)\n",
            "('eternally', 1)\n",
            "('debt.', 1)\n",
            "('throat.', 1)\n",
            "('without', 2)\n",
            "('hope', 1)\n",
            "('called', 1)\n",
            "('thinks', 2)\n",
            "('battle', 1)\n",
            "('not?', 2)\n",
            "('Please.', 1)\n",
            "(\"'st.\", 1)\n",
            "('how', 10)\n",
            "('(to', 4)\n",
            "('perk.', 1)\n",
            "('destiny.', 1)\n",
            "('goes.', 1)\n",
            "('beset', 1)\n",
            "('knight,', 1)\n",
            "('share', 1)\n",
            "('think-', 1)\n",
            "('laughing.', 1)\n",
            "('type,', 1)\n",
            "('course,', 1)\n",
            "('Look.', 1)\n",
            "('to.', 2)\n",
            "('Easy.', 1)\n",
            "('Highness.', 1)\n",
            "('helmet.)', 1)\n",
            "('yes,', 2)\n",
            "('Princess,', 6)\n",
            "('sent', 1)\n",
            "('wants', 3)\n",
            "('ask', 3)\n",
            "('love,', 4)\n",
            "('easier.', 1)\n",
            "('Put', 3)\n",
            "('Ya', 1)\n",
            "('ya.', 1)\n",
            "('suffer', 1)\n",
            "('dignified!', 1)\n",
            "('passed', 1)\n",
            "('carried', 1)\n",
            "('bored.', 1)\n",
            "(\"here's\", 1)\n",
            "('easy', 1)\n",
            "('crisp', 1)\n",
            "('smiles,', 1)\n",
            "('see.', 1)\n",
            "('sooner', 1)\n",
            "('Princess.', 6)\n",
            "('like?', 1)\n",
            "('watering', 2)\n",
            "('hole.', 1)\n",
            "('Men', 1)\n",
            "('short', 1)\n",
            "('supply.', 1)\n",
            "('splashing', 1)\n",
            "('water', 1)\n",
            "('clean', 1)\n",
            "('laugh,', 1)\n",
            "('irritated.', 1)\n",
            "('jealous', 1)\n",
            "('measure', 1)\n",
            "('ruler', 1)\n",
            "('sun', 6)\n",
            "('setting.', 1)\n",
            "('(Gasps)', 1)\n",
            "(\"It'll\", 1)\n",
            "('long?', 1)\n",
            "(\"Shouldn't\", 1)\n",
            "('longer.', 1)\n",
            "('Camp', 1)\n",
            "('starting', 1)\n",
            "('scarier', 1)\n",
            "('anything', 2)\n",
            "('forest.', 1)\n",
            "('camp', 1)\n",
            "('ears', 1)\n",
            "('scary!', 1)\n",
            "('MOUNTAIN', 1)\n",
            "('order.', 1)\n",
            "('shoves', 1)\n",
            "('boulder', 2)\n",
            "('reveal', 1)\n",
            "('fit', 1)\n",
            "('needs', 1)\n",
            "('homey', 1)\n",
            "('touches?', 1)\n",
            "('tree.', 2)\n",
            "('bid', 1)\n",
            "('thee', 1)\n",
            "('enters', 1)\n",
            "('story?', 1)\n",
            "('Cos', 1)\n",
            "('taken', 1)\n",
            "('aback', 1)\n",
            "('Fiona’s', 3)\n",
            "('manner.', 1)\n",
            "('entrance', 2)\n",
            "('(Laughs.)', 2)\n",
            "('just-', 1)\n",
            "('sky', 2)\n",
            "('thousands', 1)\n",
            "('points', 1)\n",
            "('certain', 1)\n",
            "('star', 1)\n",
            "('constellations', 1)\n",
            "('And,', 1)\n",
            "('Throwback,', 1)\n",
            "('wheat', 1)\n",
            "('fields.', 1)\n",
            "('future', 2)\n",
            "('these', 2)\n",
            "('stars?', 1)\n",
            "('stars', 1)\n",
            "('stories.', 1)\n",
            "('Bloodnut,', 1)\n",
            "('Flatulent.', 1)\n",
            "('famous', 1)\n",
            "('look.', 3)\n",
            "('group', 4)\n",
            "('hunters', 1)\n",
            "('stench.', 1)\n",
            "('dots.', 1)\n",
            "('appear.', 1)\n",
            "('Forget', 1)\n",
            "('rescuing', 2)\n",
            "('We?', 1)\n",
            "('\"our\".', 1)\n",
            "('ten-foot', 1)\n",
            "('deep,', 1)\n",
            "('Never', 3)\n",
            "('mind,', 3)\n",
            "('drop-it', 1)\n",
            "('leave-it', 1)\n",
            "('blocking?', 1)\n",
            "('blocking.', 1)\n",
            "('warning', 1)\n",
            "('(Grins.)', 1)\n",
            "('Pete!', 2)\n",
            "('Unseen', 1)\n",
            "('Hey', 1)\n",
            "(\"what's\", 4)\n",
            "('world', 2)\n",
            "('seems', 1)\n",
            "('Help!', 1)\n",
            "('big,', 3)\n",
            "('ugly', 6)\n",
            "('ogre!\"', 1)\n",
            "('(Lets', 1)\n",
            "('alone.', 3)\n",
            "('watches', 5)\n",
            "('intently', 1)\n",
            "('listens,', 1)\n",
            "('closes', 2)\n",
            "('When', 4)\n",
            "('met,', 1)\n",
            "(\"there's,\", 1)\n",
            "('shiny', 1)\n",
            "('DULOC.', 1)\n",
            "('FARQUAAD’S', 1)\n",
            "('BEDROOM.', 1)\n",
            "('wedding', 4)\n",
            "('regalia.', 1)\n",
            "('Soft', 1)\n",
            "('background.', 1)\n",
            "('show', 4)\n",
            "('mirror,', 1)\n",
            "('rewinds', 1)\n",
            "('beginning.', 1)\n",
            "('chest', 1)\n",
            "('sheet', 1)\n",
            "('cover', 1)\n",
            "('though', 1)\n",
            "('sheepishly', 1)\n",
            "('MORNING.', 3)\n",
            "('wanders', 1)\n",
            "('blue', 3)\n",
            "('bird', 5)\n",
            "('sing.', 1)\n",
            "('sings', 1)\n",
            "('notes', 1)\n",
            "('explodes.', 1)\n",
            "('eggs', 3)\n",
            "('left', 2)\n",
            "('(Quietly)', 1)\n",
            "('yeah,', 1)\n",
            "('like,', 1)\n",
            "('baby.', 1)\n",
            "('stretches', 1)\n",
            "('Hmm,', 1)\n",
            "('eggs?', 1)\n",
            "('morning,', 1)\n",
            "('about?', 5)\n",
            "('thanks.', 1)\n",
            "('sniffs', 1)\n",
            "('day', 5)\n",
            "('compliment.', 1)\n",
            "('Better', 1)\n",
            "('always', 3)\n",
            "('Thanks.', 1)\n",
            "('nasty', 1)\n",
            "('walking,', 1)\n",
            "('nowhere,', 1)\n",
            "('La', 1)\n",
            "('liberte!', 1)\n",
            "('Robin', 4)\n",
            "('Hood)', 1)\n",
            "('savior!', 1)\n",
            "('green...', 1)\n",
            "('arm', 1)\n",
            "('disgust', 1)\n",
            "('own!', 1)\n",
            "('monster!', 1)\n",
            "('here?', 2)\n",
            "('(Getting', 1)\n",
            "('fed', 1)\n",
            "('up.)', 1)\n",
            "('pal,', 1)\n",
            "('rude.', 1)\n",
            "('introduce', 1)\n",
            "('Men!', 1)\n",
            "('(Laughs)', 2)\n",
            "('accordion', 1)\n",
            "('jump', 1)\n",
            "(\"Hood's\", 1)\n",
            "('MERRY', 7)\n",
            "('Ta,', 1)\n",
            "('dah,', 3)\n",
            "('needy.', 1)\n",
            "('wee', 1)\n",
            "('percentage,', 1)\n",
            "('damsels,', 1)\n",
            "('guy,', 1)\n",
            "('Hood.', 1)\n",
            "('Break', 1)\n",
            "('(Dancing.)', 1)\n",
            "('honest', 1)\n",
            "('saucy', 1)\n",
            "('maid...', 1)\n",
            "('basically', 1)\n",
            "('saying', 3)\n",
            "('Paid.', 1)\n",
            "('So...When', 1)\n",
            "('tush.', 1)\n",
            "('That’s', 2)\n",
            "('mad.', 2)\n",
            "('mad,', 1)\n",
            "('blade', 1)\n",
            "('heart,', 1)\n",
            "('unconscious.', 1)\n",
            "('annoying!', 1)\n",
            "('admiration.', 1)\n",
            "('little-', 1)\n",
            "('shoots', 1)\n",
            "('arrow', 7)\n",
            "('launches', 1)\n",
            "('scene.', 1)\n",
            "('karate', 1)\n",
            "('chops', 1)\n",
            "('punches', 1)\n",
            "('stunned.', 1)\n",
            "('phone.', 1)\n",
            "('heavily,', 2)\n",
            "('That!', 1)\n",
            "('Back', 2)\n",
            "('amazing!', 1)\n",
            "('learn', 2)\n",
            "('Well...(laughs)', 1)\n",
            "('a...', 1)\n",
            "('points)', 1)\n",
            "('looks.)', 1)\n",
            "('flinches.', 1)\n",
            "('(Walking', 1)\n",
            "('Why?', 1)\n",
            "('hurt?', 1)\n",
            "('elevated.', 1)\n",
            "('Turn', 1)\n",
            "('Donkey!', 5)\n",
            "('Calm', 2)\n",
            "('help', 1)\n",
            "('red', 12)\n",
            "('thorns.', 12)\n",
            "('Blue', 10)\n",
            "('flower,', 10)\n",
            "('die', 1)\n",
            "('light!', 1)\n",
            "('yeah.', 3)\n",
            "('rid', 1)\n",
            "('yank', 1)\n",
            "('away)', 1)\n",
            "('Easy', 1)\n",
            "('you...', 2)\n",
            "('Meanwhile,', 1)\n",
            "('easier', 1)\n",
            "('attending', 1)\n",
            "('butt.', 1)\n",
            "('hurries', 1)\n",
            "('nearly', 1)\n",
            "('grunts', 1)\n",
            "('about...', 1)\n",
            "('(Clears', 1)\n",
            "('throat.)', 2)\n",
            "('Nothing', 2)\n",
            "('happened.', 1)\n",
            "('just,', 1)\n",
            "('just—', 1)\n",
            "('triumphantly.', 1)\n",
            "(\"That's...is\", 1)\n",
            "('blood?', 1)\n",
            "('montage', 1)\n",
            "('•', 11)\n",
            "('crawling', 1)\n",
            "('tree', 3)\n",
            "('creek.', 1)\n",
            "('swatting', 1)\n",
            "('mosquitoes.', 1)\n",
            "('using', 1)\n",
            "('spiderweb', 1)\n",
            "('bugs.', 1)\n",
            "('catching', 3)\n",
            "('blows', 1)\n",
            "('snake,', 1)\n",
            "('blowing', 1)\n",
            "('distance', 1)\n",
            "('awaits', 1)\n",
            "('means', 1)\n",
            "('hoof.', 1)\n",
            "('Um,', 3)\n",
            "('I,', 2)\n",
            "('Sure.', 1)\n",
            "('worried', 1)\n",
            "('dead!', 1)\n",
            "('(turns', 1)\n",
            "('sharp', 1)\n",
            "('See?', 1)\n",
            "('toes!', 2)\n",
            "('(looks', 1)\n",
            "('built', 1)\n",
            "('dinner', 4)\n",
            "('eats.', 1)\n",
            "('weed', 2)\n",
            "('Rotisserie', 1)\n",
            "('style.', 1)\n",
            "('differently', 1)\n",
            "('tomorrow', 3)\n",
            "('sometime.', 1)\n",
            "('cook', 1)\n",
            "('Swamp', 1)\n",
            "('soup,', 1)\n",
            "('eye', 2)\n",
            "('tartare', 1)\n",
            "('Princess?', 4)\n",
            "('romantic?', 1)\n",
            "(\"I-It's\", 1)\n",
            "('What!', 1)\n",
            "('bad,', 2)\n",
            "('used', 1)\n",
            "('too,', 1)\n",
            "('dark.', 1)\n",
            "('sighs.)', 1)\n",
            "('windmill', 2)\n",
            "(\"diggin'\", 1)\n",
            "('feel.', 1)\n",
            "('I-', 1)\n",
            "('nothing', 1)\n",
            "('tell.', 2)\n",
            "(\"sayin'\", 1)\n",
            "('cause', 1)\n",
            "('princess,', 2)\n",
            "('ogre?', 1)\n",
            "('To', 1)\n",
            "('(sighs)', 1)\n",
            "('pile', 1)\n",
            "('nowhere', 2)\n",
            "('shadows,', 1)\n",
            "('playing', 1)\n",
            "('railing.', 1)\n",
            "('herself.', 1)\n",
            "('freaking', 1)\n",
            "('Shh!', 1)\n",
            "('stomach.)', 2)\n",
            "('aimed', 1)\n",
            "('muzzle,', 1)\n",
            "('quiets', 1)\n",
            "('happened', 1)\n",
            "('different.', 1)\n",
            "('Was', 1)\n",
            "('ate?', 1)\n",
            "('rats', 1)\n",
            "('remember.', 1)\n",
            "('another.', 1)\n",
            "('poetry.', 1)\n",
            "('(sigh)', 1)\n",
            "('witch', 1)\n",
            "('spell', 3)\n",
            "('horrible,', 1)\n",
            "('placed', 1)\n",
            "('cry.)', 1)\n",
            "('ugly.', 2)\n",
            "('lie.', 1)\n",
            "('24-7.', 1)\n",
            "('sunflower', 1)\n",
            "('himself)', 1)\n",
            "('how’s', 1)\n",
            "('Good?', 1)\n",
            "('saw', 3)\n",
            "('anyway.', 1)\n",
            "('uh...(sighs)', 1)\n",
            "('whoever', 1)\n",
            "('want.', 1)\n",
            "('hideous', 2)\n",
            "('ugly?', 1)\n",
            "('\"Princess\"', 1)\n",
            "('shock.', 2)\n",
            "('sigh.', 1)\n",
            "('Promise', 1)\n",
            "('should.', 1)\n",
            "('outside)', 1)\n",
            "('over,', 2)\n",
            "('serious', 1)\n",
            "('plucking', 1)\n",
            "('petals', 1)\n",
            "('not.', 2)\n",
            "('exits', 1)\n",
            "('rises', 1)\n",
            "('stomps', 2)\n",
            "('anything,', 1)\n",
            "('enough', 3)\n",
            "('\"Who', 1)\n",
            "('beast?\"', 1)\n",
            "('approaching.', 1)\n",
            "('brought', 1)\n",
            "('something.', 1)\n",
            "('arrived', 1)\n",
            "('horse.', 2)\n",
            "('yawn', 1)\n",
            "('soldiers', 1)\n",
            "('by.', 1)\n",
            "(\"What'd\", 2)\n",
            "('SOLDIER', 1)\n",
            "('(Muffled)', 1)\n",
            "(\"Couldn't\", 1)\n",
            "('promised.', 1)\n",
            "('over.', 1)\n",
            "('Very', 2)\n",
            "('title', 2)\n",
            "('deed.', 1)\n",
            "('swamp,', 2)\n",
            "('cleared', 1)\n",
            "('Forgive', 2)\n",
            "('radiant', 1)\n",
            "('beauty', 1)\n",
            "('fingers.', 1)\n",
            "('short...', 1)\n",
            "('lifted', 2)\n",
            "('set', 1)\n",
            "('waist.', 1)\n",
            "('...farewell.', 1)\n",
            "('waste', 1)\n",
            "(\"doesn't.\", 1)\n",
            "('exchange', 1)\n",
            "('curious', 1)\n",
            "('fair,', 1)\n",
            "('flawless', 1)\n",
            "('marriage.', 1)\n",
            "('bride', 1)\n",
            "('Excellent!', 1)\n",
            "('wait?', 1)\n",
            "('sets.', 1)\n",
            "('anxious,', 1)\n",
            "('sooner,', 1)\n",
            "('do!', 3)\n",
            "('caterer,', 1)\n",
            "('guest', 1)\n",
            "('round', 1)\n",
            "('guests!', 1)\n",
            "('party', 2)\n",
            "('letting', 1)\n",
            "('talked', 2)\n",
            "('night,', 1)\n",
            "('pals,', 1)\n",
            "('alone!', 1)\n",
            "('Understand?', 1)\n",
            "('Especially', 1)\n",
            "('pathetic,', 1)\n",
            "('annoying,', 1)\n",
            "('off.)(Music', 1)\n",
            "('MONTAGE', 1)\n",
            "('fitted', 1)\n",
            "('dress.', 1)\n",
            "('SHREKS', 1)\n",
            "('HOUSE.', 1)\n",
            "('investigate.', 1)\n",
            "('doing.', 1)\n",
            "('half.', 4)\n",
            "('half,', 1)\n",
            "('helped', 1)\n",
            "('booty.', 1)\n",
            "('off!', 1)\n",
            "('branch', 2)\n",
            "('working', 1)\n",
            "('Stubborn', 1)\n",
            "('jackass!', 1)\n",
            "('hey,', 1)\n",
            "('\"Me,', 1)\n",
            "('what!', 1)\n",
            "('pay', 1)\n",
            "('attention!', 1)\n",
            "('pushing', 2)\n",
            "('yeah?', 1)\n",
            "('treated', 1)\n",
            "('Because', 2)\n",
            "('other!', 1)\n",
            "('back!', 2)\n",
            "('toilet', 1)\n",
            "('layers,', 1)\n",
            "('are,', 1)\n",
            "('creature.', 1)\n",
            "('about,', 1)\n",
            "('anything.', 1)\n",
            "('listen', 2)\n",
            "('Right?', 2)\n",
            "('(Sigh.)', 1)\n",
            "('for,', 1)\n",
            "('Friends.', 1)\n",
            "('whistles', 1)\n",
            "('arrives', 1)\n",
            "('low', 1)\n",
            "('laugh.)', 1)\n",
            "('cuddle.)', 1)\n",
            "('slobbery.', 1)\n",
            "('hop', 1)\n",
            "('install', 1)\n",
            "('seat', 1)\n",
            "('belts', 1)\n",
            "('aboard', 1)\n",
            "('races', 1)\n",
            "('prompter', 2)\n",
            "('card', 2)\n",
            "('instruct', 1)\n",
            "('PRIEST', 5)\n",
            "('gather', 1)\n",
            "('bear', 1)\n",
            "('union....', 1)\n",
            "('(Eyeing', 1)\n",
            "('Um-', 1)\n",
            "('...of', 1)\n",
            "('\"I', 2)\n",
            "('do\\'s\"?', 1)\n",
            "('motions', 1)\n",
            "('guards.', 2)\n",
            "('nods', 1)\n",
            "('(At', 1)\n",
            "('forever', 1)\n",
            "('Listen', 1)\n",
            "('woman,', 1)\n",
            "('James', 1)\n",
            "('style)', 1)\n",
            "('to,', 1)\n",
            "('try', 1)\n",
            "('Cut', 1)\n",
            "('does', 2)\n",
            "('line?', 1)\n",
            "('talks', 1)\n",
            "('shadow', 1)\n",
            "('windows.', 2)\n",
            "('so,', 1)\n",
            "('power', 1)\n",
            "('vested', 1)\n",
            "('Inside.', 1)\n",
            "('pronounce', 1)\n",
            "('husband', 1)\n",
            "('wife...', 2)\n",
            "(\"They're\", 1)\n",
            "('altar.', 1)\n",
            "('Mother', 1)\n",
            "('(Running', 1)\n",
            "('alter)', 1)\n",
            "('congregation', 4)\n",
            "('want?', 1)\n",
            "('Church)', 1)\n",
            "('everyone.', 1)\n",
            "('all.', 1)\n",
            "('clean.', 1)\n",
            "('rude', 1)\n",
            "('alive', 1)\n",
            "('talk?', 1)\n",
            "('excuse', 1)\n",
            "('Outrageous!', 1)\n",
            "('fallen', 1)\n",
            "('Lord.', 1)\n",
            "('says', 1)\n",
            "(\"'Laugh'\", 1)\n",
            "('true?', 1)\n",
            "('preposterous!', 1)\n",
            "('sets,', 1)\n",
            "('changes', 1)\n",
            "('sheepish', 1)\n",
            "('smile.', 1)\n",
            "('smiles.', 1)\n",
            "('explains', 1)\n",
            "('sight', 1)\n",
            "('both!', 1)\n",
            "('separate', 1)\n",
            "('alters', 1)\n",
            "('nothing.', 1)\n",
            "('binding,', 1)\n",
            "('stand', 1)\n",
            "('Arrgh!', 1)\n",
            "('met.', 1)\n",
            "(\"You'll\", 1)\n",
            "('beg', 1)\n",
            "('(Lord', 1)\n",
            "('dagger', 1)\n",
            "(\"Fiona's\", 2)\n",
            "('perfection!', 1)\n",
            "('riding', 1)\n",
            "('use', 1)\n",
            "('edge!', 1)\n",
            "('belches', 1)\n",
            "('crown', 1)\n",
            "('they?', 1)\n",
            "('(Smiles.)', 1)\n",
            "('Aawww!', 1)\n",
            "('magic', 2)\n",
            "('hovers', 1)\n",
            "('works', 1)\n",
            "('WHISPERS', 1)\n",
            "('consumed', 1)\n",
            "('(Going', 1)\n",
            "('hoping', 1)\n",
            "('ending.', 1)\n",
            "('fades', 1)\n",
            "('into...', 1)\n",
            "('...their', 1)\n",
            "('apart', 1)\n",
            "('carriage,', 1)\n",
            "('leg', 1)\n",
            "('Believer/Smash', 1)\n",
            "('God', 1)\n",
            "('bless', 1)\n",
            "('us,', 1)\n",
            "('all....', 1)\n",
            "('ha', 1)\n",
            "('ha,', 1)\n",
            "('believer,', 5)\n",
            "('trace', 2)\n",
            "('doubt', 2)\n",
            "('time!', 1)\n",
            "('Fade', 1)\n",
            "('Believe...', 2)\n",
            "('funny.', 1)\n",
            "('SHREK', 266)\n",
            "('William', 1)\n",
            "('(Book);', 1)\n",
            "('Elliott,', 1)\n",
            "('Rossio,', 1)\n",
            "('Joe', 1)\n",
            "('Stillman', 1)\n",
            "('&', 5)\n",
            "('Roger', 1)\n",
            "('Schulman', 1)\n",
            "('Cody', 1)\n",
            "('Miller', 1)\n",
            "('Conrad', 1)\n",
            "('SEQUENCE:', 1)\n",
            "('Shrek', 140)\n",
            "('Once', 1)\n",
            "('upon', 3)\n",
            "('a', 285)\n",
            "('time', 8)\n",
            "('there', 9)\n",
            "('was', 31)\n",
            "('lovely', 3)\n",
            "('princess.', 10)\n",
            "('she', 17)\n",
            "('had', 7)\n",
            "('enchantment', 1)\n",
            "('which', 10)\n",
            "('only', 9)\n",
            "('be', 38)\n",
            "('broken', 1)\n",
            "(\"love's\", 10)\n",
            "('kiss.', 5)\n",
            "('locked', 3)\n",
            "('away', 9)\n",
            "('in', 88)\n",
            "('guarded', 1)\n",
            "('Many', 1)\n",
            "('brave', 3)\n",
            "('attempted', 1)\n",
            "('free', 2)\n",
            "('waited', 1)\n",
            "('the', 437)\n",
            "(\"dragon's\", 1)\n",
            "('keep', 12)\n",
            "('highest', 2)\n",
            "('tower', 6)\n",
            "('(laughs)', 3)\n",
            "('is', 122)\n",
            "('out.)', 2)\n",
            "('TO:', 47)\n",
            "('OUTDOOR', 1)\n",
            "('gonna', 20)\n",
            "('out', 38)\n",
            "('toilet.)', 1)\n",
            "('(Music', 4)\n",
            "('Allstar', 1)\n",
            "('begins', 15)\n",
            "('DAYTIME.', 22)\n",
            "('THE', 10)\n",
            "('SWAMP.', 3)\n",
            "('CREDIT', 1)\n",
            "('ROLL.', 1)\n",
            "('various', 3)\n",
            "('activities.', 1)\n",
            "('In', 3)\n",
            "('nearby', 2)\n",
            "('town,', 1)\n",
            "('villagers', 1)\n",
            "('get', 34)\n",
            "('together', 2)\n",
            "('go', 17)\n",
            "('after', 8)\n",
            "('It’s', 3)\n",
            "('night', 5)\n",
            "('time,', 2)\n",
            "('men', 9)\n",
            "('town', 2)\n",
            "('lit', 1)\n",
            "('into', 30)\n",
            "('arrive', 1)\n",
            "('1', 6)\n",
            "('Think', 1)\n",
            "(\"it's\", 26)\n",
            "('2', 3)\n",
            "('right.', 12)\n",
            "(\"Let's\", 7)\n",
            "('it!', 6)\n",
            "('Hold', 4)\n",
            "('Do', 7)\n",
            "('know', 42)\n",
            "('that', 64)\n",
            "('thing', 11)\n",
            "('can', 30)\n",
            "('do', 41)\n",
            "('you?', 15)\n",
            "('grind', 2)\n",
            "('your', 43)\n",
            "('bones', 2)\n",
            "('bread.', 1)\n",
            "('sneaks', 1)\n",
            "('them', 10)\n",
            "('laughs.', 2)\n",
            "('actually,', 1)\n",
            "(\"they're\", 3)\n",
            "('much', 5)\n",
            "(\"They'll\", 2)\n",
            "('make', 15)\n",
            "('suit', 1)\n",
            "('MEN', 8)\n",
            "('No!', 21)\n",
            "('Squeeze', 1)\n",
            "('jelly', 1)\n",
            "('Actually,', 1)\n",
            "('quite', 3)\n",
            "('on', 65)\n",
            "('toast.', 1)\n",
            "('beast!', 3)\n",
            "('warn', 2)\n",
            "('(He', 7)\n",
            "('calmly', 1)\n",
            "('licks', 2)\n",
            "('fingers', 1)\n",
            "('extinguishes', 2)\n",
            "('Right!', 1)\n",
            "('shrink', 2)\n",
            "('roars', 2)\n",
            "('very', 8)\n",
            "('roar', 1)\n",
            "('His', 2)\n",
            "('breath', 3)\n",
            "('all', 38)\n",
            "('until', 5)\n",
            "('Man', 3)\n",
            "('1.)', 1)\n",
            "('This', 20)\n",
            "('run', 7)\n",
            "('scramble', 1)\n",
            "('He', 41)\n",
            "('And', 16)\n",
            "('looks', 26)\n",
            "('down', 25)\n",
            "('piece', 1)\n",
            "('Reads.)', 1)\n",
            "('Fairy', 2)\n",
            "('creatures.\"(He', 1)\n",
            "('throws', 5)\n",
            "('over', 28)\n",
            "('FOREST.', 8)\n",
            "('fairy', 8)\n",
            "('The', 68)\n",
            "('head', 9)\n",
            "('guard', 5)\n",
            "('sits', 3)\n",
            "('people', 5)\n",
            "('creatures', 2)\n",
            "('around.', 2)\n",
            "('Peter', 2)\n",
            "('seven', 2)\n",
            "('Gipetto', 1)\n",
            "('pigs.', 1)\n",
            "('full.', 1)\n",
            "('Move', 1)\n",
            "('on!', 8)\n",
            "('Get', 9)\n",
            "('up!', 5)\n",
            "('Next!', 4)\n",
            "('broom)', 1)\n",
            "('over!', 1)\n",
            "('broom', 1)\n",
            "(\"That's\", 24)\n",
            "('20', 1)\n",
            "('silver', 1)\n",
            "('Be', 2)\n",
            "('BEAR', 1)\n",
            "('(Crying.)', 1)\n",
            "('small.', 1)\n",
            "('DONKEY', 224)\n",
            "('Please,', 2)\n",
            "(\"don't\", 54)\n",
            "('stubborn', 1)\n",
            "('OLD', 6)\n",
            "('WOMAN', 7)\n",
            "('Oh,', 60)\n",
            "('shut', 4)\n",
            "('(jerks', 1)\n",
            "('rope)', 1)\n",
            "('Oh!', 19)\n",
            "('puppet.', 2)\n",
            "('PINOCCHIO', 4)\n",
            "(\"I'm\", 78)\n",
            "('not', 41)\n",
            "('real', 3)\n",
            "('Five', 1)\n",
            "('shillings', 1)\n",
            "('toy.', 1)\n",
            "('please!', 2)\n",
            "('let', 10)\n",
            "('takes', 12)\n",
            "('money', 1)\n",
            "('off.', 9)\n",
            "('table.)', 1)\n",
            "(\"I've\", 6)\n",
            "('talking', 9)\n",
            "('donkey.', 6)\n",
            "('ten', 1)\n",
            "('if', 18)\n",
            "('it.', 25)\n",
            "('ahead,', 3)\n",
            "('fella.', 1)\n",
            "('her.)', 2)\n",
            "('Well?', 1)\n",
            "(\"just...he's\", 1)\n",
            "(\"He's\", 5)\n",
            "('heard', 6)\n",
            "('Guards!', 3)\n",
            "('he', 36)\n",
            "('(Pretends', 1)\n",
            "('Donkey)', 5)\n",
            "('talk.', 4)\n",
            "('talkingest', 1)\n",
            "('damn', 2)\n",
            "('saw.', 1)\n",
            "('my', 59)\n",
            "('sight.', 1)\n",
            "('no!', 9)\n",
            "('talk!', 2)\n",
            "('guards', 7)\n",
            "('One', 2)\n",
            "('legs', 3)\n",
            "('kicks', 2)\n",
            "('Pan’s', 1)\n",
            "('drops', 5)\n",
            "('head.', 6)\n",
            "('gets', 10)\n",
            "('able', 2)\n",
            "('fly.', 2)\n",
            "(')', 1)\n",
            "('PETER', 1)\n",
            "('PAN', 1)\n",
            "('PIGS', 1)\n",
            "('Ha,', 3)\n",
            "('ha!', 3)\n",
            "('flying,', 1)\n",
            "('You', 80)\n",
            "('seen', 5)\n",
            "('maybe', 8)\n",
            "('superfly', 1)\n",
            "('wear', 2)\n",
            "('Uh-oh.', 1)\n",
            "('thud.', 1)\n",
            "('Donkey', 87)\n",
            "('running.', 2)\n",
            "('way!', 2)\n",
            "('Turn!', 1)\n",
            "('eventually', 1)\n",
            "('scared', 1)\n",
            "('when', 18)\n",
            "('spots', 5)\n",
            "('coming', 3)\n",
            "('quickly', 2)\n",
            "('hides', 1)\n",
            "('Aye?', 1)\n",
            "('order', 2)\n",
            "('Lord', 20)\n",
            "('am', 8)\n",
            "('both', 6)\n",
            "('arrest', 1)\n",
            "('designated', 1)\n",
            "('resettlement', 1)\n",
            "('army?', 1)\n",
            "('off,', 2)\n",
            "('too.', 5)\n",
            "('laughs', 2)\n",
            "('cottage.', 4)\n",
            "('follows.', 1)\n",
            "('Listen,', 3)\n",
            "('here.', 11)\n",
            "('Are', 6)\n",
            "(\"talkin'\", 6)\n",
            "('to...', 1)\n",
            "('me?', 10)\n",
            "('front', 9)\n",
            "('Whoa!', 3)\n",
            "('Yes.', 3)\n",
            "('tell', 24)\n",
            "('great', 6)\n",
            "('guards!', 1)\n",
            "('thought', 9)\n",
            "('up,', 4)\n",
            "('babes', 1)\n",
            "('That', 9)\n",
            "('made', 2)\n",
            "('Really.', 1)\n",
            "('free.', 1)\n",
            "('why', 9)\n",
            "('friends?', 1)\n",
            "('uh,', 14)\n",
            "('any', 7)\n",
            "('myself.', 2)\n",
            "('Hey,', 21)\n",
            "('wait', 3)\n",
            "('you.', 19)\n",
            "('machine.', 1)\n",
            "('scare', 1)\n",
            "('spit', 2)\n",
            "('crosses', 1)\n",
            "('us.', 3)\n",
            "('regards', 1)\n",
            "('moment', 2)\n",
            "('loudly.', 1)\n",
            "('mind', 1)\n",
            "(\"sayin',\", 1)\n",
            "('work,', 1)\n",
            "('job', 4)\n",
            "('definitely', 2)\n",
            "('need', 6)\n",
            "('some', 12)\n",
            "('or', 8)\n",
            "('stinks!', 1)\n",
            "('outta', 1)\n",
            "('nose,', 1)\n",
            "('time...', 1)\n",
            "('talk,', 1)\n",
            "('...then', 1)\n",
            "('ate', 2)\n",
            "('rotten', 1)\n",
            "('strong', 1)\n",
            "('Why', 7)\n",
            "('following', 1)\n",
            "(\"'Cause\", 3)\n",
            "('alone,', 3)\n",
            "(\"There's\", 11)\n",
            "('one', 33)\n",
            "('me,', 15)\n",
            "('My', 5)\n",
            "('gone,', 1)\n",
            "('deride', 1)\n",
            "('faith...', 1)\n",
            "('singing!', 1)\n",
            "('wonder', 1)\n",
            "('Wow.', 1)\n",
            "('Only', 2)\n",
            "('cruelly', 1)\n",
            "('look', 28)\n",
            "('way', 13)\n",
            "('Uh', 2)\n",
            "('pitchforks.\"', 1)\n",
            "('Nope.', 1)\n",
            "('Really?', 4)\n",
            "(\"What's\", 6)\n",
            "('name?', 1)\n",
            "('Uh,', 14)\n",
            "('you,', 12)\n",
            "(\"I-don't-care-what-nobody-thinks-of-me\", 1)\n",
            "('thing.', 1)\n",
            "('that,', 3)\n",
            "('hill', 2)\n",
            "(\"Who'd\", 1)\n",
            "('want', 8)\n",
            "('Just', 10)\n",
            "('decorator.', 1)\n",
            "(\"It's\", 19)\n",
            "('amazing', 1)\n",
            "('boulder.', 2)\n",
            "('nice', 1)\n",
            "('“keep', 1)\n",
            "('out”', 1)\n",
            "('“beware”', 1)\n",
            "('signs', 1)\n",
            "('has', 18)\n",
            "('erected.', 1)\n",
            "('guess', 10)\n",
            "('entertain', 1)\n",
            "('we', 28)\n",
            "('common.', 2)\n",
            "('face.', 2)\n",
            "(\"You've\", 2)\n",
            "('trying', 3)\n",
            "('leave.', 1)\n",
            "('silence,', 1)\n",
            "('silence.', 1)\n",
            "('what?', 6)\n",
            "('please?', 1)\n",
            "('(Sarcastically)', 1)\n",
            "('Of', 3)\n",
            "('No.', 7)\n",
            "('(Pause', 1)\n",
            "('do.', 4)\n",
            "('stay!', 1)\n",
            "('Okay!', 3)\n",
            "('Ah!', 4)\n",
            "('Thank', 3)\n",
            "('armchair.', 1)\n",
            "(\"swappin'\", 1)\n",
            "('stories,', 1)\n",
            "(\"makin'\", 1)\n",
            "('do,', 2)\n",
            "('(Irritated)', 1)\n",
            "('best,', 1)\n",
            "('(Sniffs.)', 1)\n",
            "('Here', 2)\n",
            "('DAYTIME.SHREKS', 1)\n",
            "('sad.', 1)\n",
            "('Behind', 1)\n",
            "('slams', 2)\n",
            "('outside.', 6)\n",
            "('outdoors.', 1)\n",
            "('born', 1)\n",
            "('outside,', 1)\n",
            "('myself,', 1)\n",
            "('me...', 2)\n",
            "('dinnertime.', 1)\n",
            "('places', 1)\n",
            "('eyeball', 1)\n",
            "('martini', 1)\n",
            "('drink.', 1)\n",
            "('candle', 1)\n",
            "('earwax,', 1)\n",
            "('through', 17)\n",
            "('window.', 2)\n",
            "('noise.', 1)\n",
            "('(To', 6)\n",
            "('told', 4)\n",
            "('window)', 1)\n",
            "('several', 2)\n",
            "('moving.', 3)\n",
            "('blind', 1)\n",
            "('mice', 1)\n",
            "('cry', 1)\n",
            "('GORDO', 4)\n",
            "('(Bouncing', 1)\n",
            "('slug.)', 1)\n",
            "('Gotcha.', 1)\n",
            "('grabs', 8)\n",
            "('mouse,', 1)\n",
            "('escapes', 1)\n",
            "('shoulder.', 2)\n",
            "('cheese.', 1)\n",
            "('mouse', 1)\n",
            "('bites', 1)\n",
            "('mice.', 2)\n",
            "('Ow!', 8)\n",
            "('stuff.', 1)\n",
            "('Is', 3)\n",
            "('Gordo?', 1)\n",
            "('house?', 1)\n",
            "('Seven', 1)\n",
            "('no.', 11)\n",
            "('off', 23)\n",
            "('supposed', 4)\n",
            "('put', 6)\n",
            "('her?', 4)\n",
            "('taken.', 1)\n",
            "('bedroom.', 1)\n",
            "('curtain.', 1)\n",
            "('drags', 1)\n",
            "('wolf', 1)\n",
            "('collar.', 2)\n",
            "('opens', 8)\n",
            "('signs.', 1)\n",
            "('terrifying', 1)\n",
            "('throw', 1)\n",
            "('collected', 1)\n",
            "('Tale', 1)\n",
            "('Creatures', 1)\n",
            "('land.', 3)\n",
            "('Bears,', 1)\n",
            "('rats,', 1)\n",
            "('elves,', 1)\n",
            "('falls', 6)\n",
            "('silent.', 1)\n",
            "('Gasps.', 1)\n",
            "('tent.', 1)\n",
            "('Hurry', 2)\n",
            "('DWARVES', 1)\n",
            "('house.', 2)\n",
            "('Not', 6)\n",
            "('chase,', 1)\n",
            "('can’t', 1)\n",
            "(\"didn't\", 8)\n",
            "('invite', 1)\n",
            "('invited', 1)\n",
            "('forced', 1)\n",
            "('(Flabbergasted.)', 1)\n",
            "('who?', 2)\n",
            "('Farquaad.', 5)\n",
            "('he...signed', 1)\n",
            "('eviction', 1)\n",
            "('notice.', 1)\n",
            "('sigh.)', 3)\n",
            "('Who', 4)\n",
            "('knows', 1)\n",
            "('guy', 4)\n",
            "('is?', 1)\n",
            "('each', 6)\n",
            "('answers.', 1)\n",
            "('else', 2)\n",
            "('all?', 3)\n",
            "('Anyone?', 1)\n",
            "('pick', 1)\n",
            "('bouncing', 1)\n",
            "('air.', 1)\n",
            "('deliberately', 2)\n",
            "('ignoring', 1)\n",
            "('(Sigh)', 1)\n",
            "('Okay,', 14)\n",
            "('Attention,', 1)\n",
            "('things.', 2)\n",
            "('comfortable.', 1)\n",
            "('welcome', 2)\n",
            "('worn', 1)\n",
            "('now', 10)\n",
            "('came', 2)\n",
            "('from!', 1)\n",
            "('Pause.', 1)\n",
            "('crowd', 3)\n",
            "('goes', 10)\n",
            "('wild,', 1)\n",
            "('You!', 1)\n",
            "('hear,', 1)\n",
            "('Donkey,', 15)\n",
            "('two', 8)\n",
            "('stalwart', 1)\n",
            "('friends,', 2)\n",
            "('whirlwind', 1)\n",
            "('big-city', 1)\n",
            "('adventure.', 1)\n",
            "(\"can't\", 13)\n",
            "('singing?', 1)\n",
            "(\"'On\", 1)\n",
            "(\"Again'.\", 1)\n",
            "('–', 1)\n",
            "('TORTURE', 1)\n",
            "('Footsteps', 1)\n",
            "('castle.', 5)\n",
            "('milk', 3)\n",
            "('glass.', 1)\n",
            "('corridor.', 1)\n",
            "('him', 24)\n",
            "('through.', 1)\n",
            "('Gingerbread', 5)\n",
            "('pulled', 2)\n",
            "('slammed', 1)\n",
            "('evilly', 1)\n",
            "('eyes.', 1)\n",
            "('clears', 2)\n",
            "('throat', 2)\n",
            "('lowered.', 1)\n",
            "(\"Man's\", 2)\n",
            "('plays', 2)\n",
            "('Run,', 1)\n",
            "('gingerbread', 1)\n",
            "('monster.', 1)\n",
            "('are.', 4)\n",
            "('trash,', 1)\n",
            "('poisoning', 1)\n",
            "('world.', 1)\n",
            "('tried', 1)\n",
            "('patience', 1)\n",
            "('reached', 1)\n",
            "('its', 2)\n",
            "('end!', 1)\n",
            "('pretends', 1)\n",
            "('buttons)', 1)\n",
            "('hiding', 1)\n",
            "('man?', 3)\n",
            "('man,', 3)\n",
            "('who', 14)\n",
            "('lives', 3)\n",
            "('Drury', 1)\n",
            "('man!', 1)\n",
            "(\"She's\", 7)\n",
            "('Guard', 1)\n",
            "('lord!', 2)\n",
            "('waiting', 3)\n",
            "('Bring', 1)\n",
            "('More', 1)\n",
            "('carrying', 1)\n",
            "('whatever', 1)\n",
            "('remove', 3)\n",
            "('awe.)', 1)\n",
            "('can,', 1)\n",
            "('closing', 1)\n",
            "('lid.', 1)\n",
            "('Evening.', 1)\n",
            "('Mirror,', 2)\n",
            "('wall.', 1)\n",
            "(\"you're\", 19)\n",
            "('king.', 2)\n",
            "('Thelonius.', 1)\n",
            "('Thelonius', 2)\n",
            "('hand', 6)\n",
            "('fist.', 1)\n",
            "('Go', 8)\n",
            "('So,', 4)\n",
            "('sit', 2)\n",
            "('relax,', 1)\n",
            "('meet', 1)\n",
            "(\"today's\", 1)\n",
            "('eligible', 1)\n",
            "('bachelorettes.', 1)\n",
            "('Love', 2)\n",
            "('Potion,', 1)\n",
            "('Herb', 1)\n",
            "('shut-in', 1)\n",
            "('far,', 1)\n",
            "('hot', 3)\n",
            "('tubbing', 1)\n",
            "('cooking', 2)\n",
            "('cleaning', 2)\n",
            "('sisters.', 1)\n",
            "('Cinderella.', 1)\n",
            "('(Shows', 2)\n",
            "('cape-wearing', 1)\n",
            "('girl', 3)\n",
            "('men,', 1)\n",
            "('easy.', 1)\n",
            "('kiss', 9)\n",
            "('wire', 1)\n",
            "('White!', 1)\n",
            "('(Picture', 1)\n",
            "('White.)', 1)\n",
            "('least,', 1)\n",
            "('bachelorette', 4)\n",
            "('fiery', 2)\n",
            "('dragon-guarded', 1)\n",
            "('surrounded', 2)\n",
            "('boiling', 3)\n",
            "('lava!', 2)\n",
            "('cool', 1)\n",
            "('loaded', 1)\n",
            "('pistol', 1)\n",
            "('coladas', 1)\n",
            "('rain.', 1)\n",
            "('rescuing,', 1)\n",
            "('So', 4)\n",
            "('three?', 1)\n",
            "('Three!', 4)\n",
            "('Three?', 2)\n",
            "('(holds', 1)\n",
            "('fingers)', 1)\n",
            "('chosen', 1)\n",
            "('Pina', 1)\n",
            "('Coladas...”', 1)\n",
            "('perfect.', 2)\n",
            "('someone', 2)\n",
            "('sunset...', 1)\n",
            "('Silence!', 1)\n",
            "('Fiona', 66)\n",
            "('queen,', 1)\n",
            "('DuLoc', 9)\n",
            "('king!', 3)\n",
            "('Captain,', 2)\n",
            "('assemble', 1)\n",
            "('men.', 2)\n",
            "('tournament.', 1)\n",
            "('(Smiles', 1)\n",
            "('evilly.)', 1)\n",
            "('PARKING', 1)\n",
            "('(LANCELOT', 1)\n",
            "('parking', 2)\n",
            "('lot.', 3)\n",
            "('itself', 1)\n",
            "('floors', 1)\n",
            "('ya', 4)\n",
            "(\"I'd\", 7)\n",
            "('must', 5)\n",
            "('place.', 3)\n",
            "('think', 14)\n",
            "('compensating', 2)\n",
            "('groans', 2)\n",
            "(\"doesn't\", 3)\n",
            "('walk', 4)\n",
            "('wait.', 4)\n",
            "('Hurry,', 1)\n",
            "('late.', 3)\n",
            "('Look,', 11)\n",
            "('eat', 3)\n",
            "('straight', 2)\n",
            "('rows.', 1)\n",
            "('attendant', 1)\n",
            "('wall', 4)\n",
            "('down.', 16)\n",
            "('EXT.DAYTIME.', 1)\n",
            "('VILLAGE', 1)\n",
            "('Too', 1)\n",
            "('everybody?', 1)\n",
            "('attached', 2)\n",
            "('box', 2)\n",
            "('marked', 1)\n",
            "('winds', 1)\n",
            "('open', 4)\n",
            "('sing.)', 1)\n",
            "('WOODEN', 1)\n",
            "('town!', 1)\n",
            "('along', 2)\n",
            "('fine!', 1)\n",
            "('place!', 1)\n",
            "('grass!', 1)\n",
            "('shoes,', 1)\n",
            "('wipe', 1)\n",
            "('your...', 2)\n",
            "('face,', 3)\n",
            "('is,', 5)\n",
            "('Suddenly', 8)\n",
            "('picture.', 1)\n",
            "('again!', 1)\n",
            "('stopped', 1)\n",
            "('grabbing', 1)\n",
            "('trumpet', 1)\n",
            "('fanfare,', 1)\n",
            "('follow', 2)\n",
            "('heading', 1)\n",
            "('arena.', 2)\n",
            "('Brave', 1)\n",
            "('shall', 5)\n",
            "('theme', 3)\n",
            "('song', 1)\n",
            "('smacked', 1)\n",
            "('Sorry', 1)\n",
            "('arena', 1)\n",
            "('INT.DAYTIME.THE', 1)\n",
            "('addressing', 1)\n",
            "('crowd.', 2)\n",
            "('honor', 2)\n",
            "('--', 2)\n",
            "('reason', 2)\n",
            "('winner', 1)\n",
            "('forth.', 1)\n",
            "('Some', 1)\n",
            "('may', 3)\n",
            "('die,', 1)\n",
            "('make.', 2)\n",
            "('tournament', 1)\n",
            "('Ugh,', 1)\n",
            "('hideous!', 1)\n",
            "('Indeed.', 2)\n",
            "('kills', 1)\n",
            "('named', 1)\n",
            "('champion!', 2)\n",
            "('Have', 2)\n",
            "('hey!', 3)\n",
            "('Hang', 1)\n",
            "('now.', 5)\n",
            "('mugs', 1)\n",
            "('beer.', 2)\n",
            "('CROWD', 2)\n",
            "('ahead!', 1)\n",
            "('(Holds', 1)\n",
            "('mug', 1)\n",
            "('pint?', 1)\n",
            "('barrel', 2)\n",
            "('floods', 1)\n",
            "('out,', 3)\n",
            "('knights,', 1)\n",
            "('turning', 1)\n",
            "('rolls', 1)\n",
            "('top', 4)\n",
            "('scenes', 3)\n",
            "('tag', 1)\n",
            "('ropes', 1)\n",
            "('tries', 1)\n",
            "('sneak', 1)\n",
            "('knight’s', 1)\n",
            "('beaten.', 1)\n",
            "('sounds', 1)\n",
            "('wild.', 1)\n",
            "('much!', 1)\n",
            "('till', 1)\n",
            "('Try', 1)\n",
            "('veal!', 1)\n",
            "('laughter', 1)\n",
            "('weapons', 1)\n",
            "('better', 5)\n",
            "('People', 3)\n",
            "('ogre.', 12)\n",
            "('won', 1)\n",
            "('embarking', 1)\n",
            "('noble', 4)\n",
            "('quest.', 1)\n",
            "('already', 4)\n",
            "('quest,', 1)\n",
            "('quest', 2)\n",
            "('swamp', 5)\n",
            "('swamp!', 3)\n",
            "('those', 6)\n",
            "('creatures!', 1)\n",
            "('As', 5)\n",
            "('quest?', 1)\n",
            "('EXT.DAYTIME.SUNFLOWER', 1)\n",
            "('munching', 1)\n",
            "('onion.', 3)\n",
            "('dragon', 22)\n",
            "('Throttle', 1)\n",
            "('siege', 1)\n",
            "('fortress,', 1)\n",
            "('trip.', 1)\n",
            "('decapitated', 1)\n",
            "('village', 1)\n",
            "('heads', 3)\n",
            "('gotten', 1)\n",
            "('spleen', 1)\n",
            "('drink', 1)\n",
            "('fluids.', 1)\n",
            "('For', 4)\n",
            "('information,', 1)\n",
            "('lot', 4)\n",
            "('ogres', 3)\n",
            "('think.', 1)\n",
            "('stink?', 1)\n",
            "('Yes', 1)\n",
            "('sun,', 1)\n",
            "('brown,', 1)\n",
            "(\"sproutin'\", 1)\n",
            "('hairs.', 1)\n",
            "('Layers!', 1)\n",
            "('Onions', 2)\n",
            "('layers.', 6)\n",
            "('layers!', 1)\n",
            "('(Trailing', 1)\n",
            "('Cake!', 1)\n",
            "('Everybody', 1)\n",
            "('cakes!', 1)\n",
            "('Cakes', 1)\n",
            "('care...', 1)\n",
            "('likes?', 1)\n",
            "('met', 1)\n",
            "('say,', 5)\n",
            "('\"Let\\'s', 1)\n",
            "('parfait,\"', 1)\n",
            "('\"Hell', 1)\n",
            "('delicious.', 2)\n",
            "('irritating,', 1)\n",
            "('miniature', 1)\n",
            "('beast', 3)\n",
            "('Bye-bye.', 1)\n",
            "('delicious', 1)\n",
            "('preferred', 1)\n",
            "('mess.', 1)\n",
            "('slobbering.', 1)\n",
            "('Walking', 1)\n",
            "('Sleeping', 1)\n",
            "('beneath', 1)\n",
            "('bright', 1)\n",
            "('moon.', 2)\n",
            "('next', 2)\n",
            "('day;', 1)\n",
            "('I’m', 10)\n",
            "('way,', 4)\n",
            "('DARK.', 5)\n",
            "(\"DRAGON'S\", 1)\n",
            "('Dragon’s', 2)\n",
            "('volcano.', 1)\n",
            "('everywhere.', 1)\n",
            "('Did', 1)\n",
            "('everything.', 1)\n",
            "('Believe', 1)\n",
            "('dead.', 1)\n",
            "('(Sniffs)', 1)\n",
            "('brimstone.', 4)\n",
            "('close.', 1)\n",
            "('stone', 4)\n",
            "('lava.', 2)\n",
            "('enough,', 1)\n",
            "('Laughs...then', 1)\n",
            "('laugh', 1)\n",
            "('said', 7)\n",
            "('layers?', 1)\n",
            "('confession', 1)\n",
            "('fear', 1)\n",
            "('sleeves.', 2)\n",
            "('afraid', 6)\n",
            "('heights.', 1)\n",
            "('uncomfortable', 1)\n",
            "('on,', 4)\n",
            "('ya,', 1)\n",
            "('okay?', 6)\n",
            "('emotional', 1)\n",
            "('baby', 1)\n",
            "('makes', 4)\n",
            "('Keep', 2)\n",
            "('rotting', 1)\n",
            "('ends', 1)\n",
            "(\"lookin'\", 2)\n",
            "('down!', 3)\n",
            "('God,', 1)\n",
            "('halfway.', 1)\n",
            "('half', 3)\n",
            "('Wait!', 1)\n",
            "('sways', 1)\n",
            "('this?', 2)\n",
            "('(Bounces', 1)\n",
            "('Okay.', 4)\n",
            "('bounce', 1)\n",
            "('backs', 2)\n",
            "('across', 2)\n",
            "('solid', 1)\n",
            "('die.', 5)\n",
            "(\"That'll\", 2)\n",
            "('pain-in-the-neck', 1)\n",
            "('(Chuckles.)', 3)\n",
            "('good.', 7)\n",
            "('Me', 1)\n",
            "('gasps.', 1)\n",
            "('afraid.', 1)\n",
            "(\"Fear's\", 1)\n",
            "('sensible', 1)\n",
            "('Unfamiliar', 1)\n",
            "('situation,', 1)\n",
            "('add.', 1)\n",
            "('With', 2)\n",
            "('breathes', 3)\n",
            "('fire', 5)\n",
            "('sure', 2)\n",
            "('scared,', 1)\n",
            "('mean?', 2)\n",
            "('coward.', 1)\n",
            "('crashes', 2)\n",
            "('metal', 1)\n",
            "('helmets.', 1)\n",
            "('Shut', 1)\n",
            "('...', 1)\n",
            "('stairs.', 5)\n",
            "('puts', 4)\n",
            "('tower.', 2)\n",
            "(\"she'll\", 1)\n",
            "('book', 1)\n",
            "('once.', 1)\n",
            "('off)', 1)\n",
            "('off.)', 4)\n",
            "('room.', 2)\n",
            "('drastic', 1)\n",
            "('steps.', 1)\n",
            "('curb.', 1)\n",
            "('mess', 1)\n",
            "('mastered', 1)\n",
            "('wish', 1)\n",
            "('Unbeknownst', 1)\n",
            "('ELSEWHERE', 2)\n",
            "('the...', 1)\n",
            "('gasps', 2)\n",
            "('chase.', 1)\n",
            "('second', 1)\n",
            "('way.', 6)\n",
            "('chase', 1)\n",
            "('Donkey;', 1)\n",
            "('dragon’s', 4)\n",
            "('distracting', 1)\n",
            "('irritated', 1)\n",
            "('flicks', 1)\n",
            "('roof', 1)\n",
            "('FIONA’S', 2)\n",
            "('TOWER', 2)\n",
            "('chasing', 1)\n",
            "('breathing', 1)\n",
            "('(Rumbles.)', 1)\n",
            "('white,', 1)\n",
            "('teeth.', 1)\n",
            "('food,', 1)\n",
            "('bleach,', 1)\n",
            "('smile', 3)\n",
            "('detect', 1)\n",
            "('hint', 1)\n",
            "('minty', 1)\n",
            "('freshness?', 1)\n",
            "('dragon!', 1)\n",
            "('beauty.', 1)\n",
            "('(Flutters', 1)\n",
            "('eyelids', 1)\n",
            "('Donkey.)', 1)\n",
            "('smoke', 2)\n",
            "(\"I'm,\", 1)\n",
            "('asthmatic,', 1)\n",
            "(\"it'd\", 1)\n",
            "('rings', 1)\n",
            "('stuff...', 1)\n",
            "('carries', 1)\n",
            "('straightens', 1)\n",
            "('dress', 2)\n",
            "('lays', 2)\n",
            "('flowers', 2)\n",
            "('asleep.', 2)\n",
            "('lips.', 2)\n",
            "('shoulders', 1)\n",
            "('shakes', 2)\n",
            "('awake.', 3)\n",
            "('FIONA', 137)\n",
            "('Fiona?', 3)\n",
            "('awaiting', 2)\n",
            "('bold', 1)\n",
            "('Sir', 3)\n",
            "('be-ith', 1)\n",
            "('Should', 1)\n",
            "('romantic', 2)\n",
            "('moment?', 1)\n",
            "('sorry,', 4)\n",
            "('lady.', 1)\n",
            "('feet', 2)\n",
            "('yonder', 1)\n",
            "('valiant', 1)\n",
            "('steed.', 4)\n",
            "('plan', 1)\n",
            "(\"haven't\", 2)\n",
            "('Mm-hmm.', 1)\n",
            "('breaks', 1)\n",
            "('lock', 1)\n",
            "('hallway.', 1)\n",
            "('moment!', 1)\n",
            "('epic', 1)\n",
            "('ballad?', 1)\n",
            "('limerick?', 1)\n",
            "('so.', 1)\n",
            "('(clears', 1)\n",
            "('handkerchief)', 1)\n",
            "('token', 1)\n",
            "('Thanks!', 1)\n",
            "('(Surprised.)', 1)\n",
            "('to-do', 1)\n",
            "('dragging', 1)\n",
            "('right!', 2)\n",
            "('meant', 2)\n",
            "('in,', 2)\n",
            "('sword', 3)\n",
            "('drawn,', 1)\n",
            "('flying.', 1)\n",
            "('point.', 1)\n",
            "('Wait.', 3)\n",
            "(\"exit's\", 1)\n",
            "('save', 2)\n",
            "('throne', 1)\n",
            "('cannot', 1)\n",
            "('Slow', 2)\n",
            "('please.', 1)\n",
            "('healthy', 1)\n",
            "('period', 1)\n",
            "('call', 1)\n",
            "('(laughs', 1)\n",
            "('worriedly)', 1)\n",
            "('(Rumbles', 1)\n",
            "('gently.)', 1)\n",
            "('rush', 1)\n",
            "('commitment', 1)\n",
            "('Magnitude', 1)\n",
            "('for.', 3)\n",
            "('Magnitude-', 1)\n",
            "('(Gently', 2)\n",
            "('unwanted', 1)\n",
            "('chandelier', 3)\n",
            "('pen', 1)\n",
            "('swings', 4)\n",
            "('climbing', 1)\n",
            "('chandelier.', 2)\n",
            "('cards', 3)\n",
            "('tail!', 1)\n",
            "('permission', 1)\n",
            "('No', 4)\n",
            "('head,', 1)\n",
            "('Hi,', 2)\n",
            "('Princess!', 3)\n",
            "('trick.', 1)\n",
            "('gains', 1)\n",
            "('jumps', 1)\n",
            "('descending', 1)\n",
            "('slide', 1)\n",
            "('stumbles', 1)\n",
            "('close', 1)\n",
            "('exit', 2)\n",
            "('sets', 3)\n",
            "('two,', 1)\n",
            "('care', 1)\n",
            "('interior', 1)\n",
            "('overlapping', 1)\n",
            "('links', 1)\n",
            "('neck.', 1)\n",
            "('(Echoing.)', 1)\n",
            "('burn', 1)\n",
            "('attempts', 1)\n",
            "('fly', 1)\n",
            "('others', 1)\n",
            "('climb', 3)\n",
            "('ACROSS', 1)\n",
            "('FROM', 1)\n",
            "('Safely', 1)\n",
            "('journey', 2)\n",
            "('hill.)', 1)\n",
            "('rescued', 3)\n",
            "('amazing.', 1)\n",
            "('wonderful.', 1)\n",
            "('tumble', 1)\n",
            "('banging', 1)\n",
            "('...a', 1)\n",
            "('unorthodox', 1)\n",
            "('admit.', 1)\n",
            "('steed?', 1)\n",
            "('won.', 1)\n",
            "('helmet,', 1)\n",
            "('hair.', 1)\n",
            "(\"would'st\", 1)\n",
            "('face', 3)\n",
            "('rescuer.', 2)\n",
            "(\"wouldn't\", 3)\n",
            "('description.', 1)\n",
            "('love?', 2)\n",
            "('yes.', 2)\n",
            "('Both', 2)\n",
            "('love!', 1)\n",
            "('funny?', 1)\n",
            "('Now!', 1)\n",
            "('command.', 1)\n",
            "('You-', 1)\n",
            "('a-', 1)\n",
            "('expecting', 1)\n",
            "('Prince', 1)\n",
            "('Charming.', 1)\n",
            "('actually.', 1)\n",
            "('wrong.', 1)\n",
            "('question.', 2)\n",
            "('pet.', 1)\n",
            "('problem.', 1)\n",
            "('properly,', 1)\n",
            "('messenger', 1)\n",
            "('boy,', 2)\n",
            "('(Ominous)', 1)\n",
            "('delivery', 1)\n",
            "('dare.', 1)\n",
            "(\"comin',\", 1)\n",
            "('Donkey?', 4)\n",
            "('consequences!', 1)\n",
            "('WOODS', 1)\n",
            "('Time', 2)\n",
            "('calmed', 1)\n",
            "('shoulder,', 1)\n",
            "('hanging', 1)\n",
            "('there,', 3)\n",
            "('Say', 1)\n",
            "('digs', 1)\n",
            "('feelings', 1)\n",
            "(\"aren't\", 3)\n",
            "('hurt,', 1)\n",
            "('eaten?', 1)\n",
            "('love.', 3)\n",
            "('knowest', 1)\n",
            "('Fiona,', 6)\n",
            "('startling', 2)\n",
            "('her,', 1)\n",
            "('doesn’t', 2)\n",
            "('beautiful!', 1)\n",
            "('groom-to-be?', 1)\n",
            "('Farquaad?', 3)\n",
            "('unceremoniously', 1)\n",
            "('stature', 1)\n",
            "('laugh.', 1)\n",
            "('hole,', 1)\n",
            "('it,', 2)\n",
            "('\"measuring\"', 1)\n",
            "('tomorrow.', 1)\n",
            "('Tomorrow?', 1)\n",
            "('stop', 2)\n",
            "('camp?', 1)\n",
            "(\"that'll\", 1)\n",
            "('going.', 1)\n",
            "('robbers', 1)\n",
            "(\"we're\", 4)\n",
            "('somewhere', 1)\n",
            "('now!', 2)\n",
            "('lower', 1)\n",
            "('SUNSET.', 2)\n",
            "('CLIFF', 1)\n",
            "('cave', 5)\n",
            "('cave.', 2)\n",
            "('Over', 1)\n",
            "('few', 1)\n",
            "('touches.', 1)\n",
            "('Homey', 1)\n",
            "('tears', 1)\n",
            "('bark', 2)\n",
            "('door?', 1)\n",
            "('gentlemen,', 1)\n",
            "('bedtime', 1)\n",
            "('will.', 1)\n",
            "('night!', 1)\n",
            "('inside.', 2)\n",
            "('kidding.', 2)\n",
            "('CAMPFIRE', 1)\n",
            "('campfire.', 1)\n",
            "('dark', 1)\n",
            "('stars.', 1)\n",
            "('staring', 1)\n",
            "('Yeah.', 3)\n",
            "('future,', 1)\n",
            "('bunch', 2)\n",
            "('sometimes', 1)\n",
            "('things', 2)\n",
            "('(Heaves', 1)\n",
            "('Our', 2)\n",
            "('\"we\".', 1)\n",
            "('build', 1)\n",
            "('deep', 2)\n",
            "('think?', 2)\n",
            "(\"hidin'\", 1)\n",
            "('onion', 2)\n",
            "('alone', 1)\n",
            "('talk', 4)\n",
            "('out?', 1)\n",
            "('Everyone!', 1)\n",
            "('Okay?', 2)\n",
            "('(Pause.)', 1)\n",
            "(\"gettin'\", 1)\n",
            "('somewhere.', 1)\n",
            "('edge', 1)\n",
            "('cliff', 1)\n",
            "('problem,', 2)\n",
            "('anyway,', 1)\n",
            "('huh?', 1)\n",
            "('problem', 1)\n",
            "('\"Aah!', 1)\n",
            "('stupid,', 3)\n",
            "('judge', 2)\n",
            "('hideout.', 1)\n",
            "('Gabby,', 1)\n",
            "('Small', 1)\n",
            "('Annoying.', 1)\n",
            "('pans', 1)\n",
            "('bed,', 1)\n",
            "('Mirror', 2)\n",
            "('showing', 2)\n",
            "('Again,', 1)\n",
            "('Show', 1)\n",
            "('Hmph.', 1)\n",
            "('play', 2)\n",
            "('Ah.', 2)\n",
            "('Perfect.', 1)\n",
            "('bare', 1)\n",
            "('gazes', 1)\n",
            "('image', 1)\n",
            "('mirror.', 1)\n",
            "('sleeping.', 1)\n",
            "('woods', 2)\n",
            "('higher', 2)\n",
            "('pressure', 1)\n",
            "('note', 1)\n",
            "('cooks', 1)\n",
            "('breakfast.', 1)\n",
            "('Mmm,', 1)\n",
            "('wake', 1)\n",
            "('yawns.)', 1)\n",
            "('morning.', 1)\n",
            "('bad', 2)\n",
            "('yesterday.', 1)\n",
            "('wanted', 3)\n",
            "('all,', 1)\n",
            "(\"We've\", 1)\n",
            "('ahead', 2)\n",
            "('LATER.', 1)\n",
            "('belches.', 2)\n",
            "('say.', 1)\n",
            "('behave', 1)\n",
            "('exactly', 1)\n",
            "('expected.', 1)\n",
            "('smiles', 1)\n",
            "('singing', 2)\n",
            "('softly.', 1)\n",
            "('swoops', 1)\n",
            "('ROBIN', 10)\n",
            "('HOOD', 10)\n",
            "('still,', 2)\n",
            "('mon', 1)\n",
            "('cherie,', 1)\n",
            "('Hood', 2)\n",
            "('...beast!', 1)\n",
            "('princess!', 3)\n",
            "('busy', 1)\n",
            "('Merry', 1)\n",
            "('merry', 3)\n",
            "('bushes.', 1)\n",
            "('sing', 1)\n",
            "('song.', 2)\n",
            "('whoo.', 1)\n",
            "('steal', 1)\n",
            "('rich', 1)\n",
            "('greedy.', 1)\n",
            "('pretty', 2)\n",
            "('Monsieur', 1)\n",
            "('get...', 2)\n",
            "('bush', 1)\n",
            "('lady', 1)\n",
            "('bad.', 3)\n",
            "('Bad.', 2)\n",
            "(\"beauty's\", 1)\n",
            "('awfully', 1)\n",
            "('ram', 1)\n",
            "('boys', 1)\n",
            "('start...', 1)\n",
            "('tree,', 1)\n",
            "('knocking', 1)\n",
            "('ducks', 1)\n",
            "('standing.', 1)\n",
            "('we?', 1)\n",
            "('Whoa,', 1)\n",
            "('whoa,', 1)\n",
            "('whoa.', 1)\n",
            "('from?', 1)\n",
            "('case', 1)\n",
            "('(gasps', 1)\n",
            "('butt!', 1)\n",
            "('fault.', 1)\n",
            "('up)', 2)\n",
            "('wrong?', 1)\n",
            "('hurt.', 2)\n",
            "('young', 1)\n",
            "('cough.', 1)\n",
            "('Heimlich?', 1)\n",
            "('flower', 4)\n",
            "('tunnel,', 1)\n",
            "('hold', 5)\n",
            "('(Fiona', 3)\n",
            "('little.)', 1)\n",
            "('(jumps', 2)\n",
            "(\"yankin'.\", 1)\n",
            "('dodging', 1)\n",
            "('tender.', 1)\n",
            "('opposite', 1)\n",
            "('help.', 1)\n",
            "('move.', 2)\n",
            "('look,', 2)\n",
            "('Would', 1)\n",
            "('arrow.', 1)\n",
            "('propose', 1)\n",
            "('do?', 1)\n",
            "('special', 1)\n",
            "('flower.', 1)\n",
            "('color-blind!', 1)\n",
            "(\"comin'!\", 1)\n",
            "('rips', 1)\n",
            "('bush.', 1)\n",
            "('pulls)', 1)\n",
            "('jerks.', 1)\n",
            "('uh', 1)\n",
            "('ask.', 1)\n",
            "('mind.', 2)\n",
            "('Ugh!', 2)\n",
            "('(Nervous', 1)\n",
            "('chuckle.)', 1)\n",
            "('faints.', 1)\n",
            "('plays.)', 2)\n",
            "('including:', 1)\n",
            "('toad', 2)\n",
            "('balloon', 2)\n",
            "('animal', 2)\n",
            "('windmill.', 2)\n",
            "('DuLoc?', 1)\n",
            "('really...', 1)\n",
            "('heavily', 1)\n",
            "('uh-', 1)\n",
            "('kneels', 1)\n",
            "('eyes.)', 1)\n",
            "('back...', 1)\n",
            "('(pause)', 1)\n",
            "('awful.', 1)\n",
            "('|Do', 1)\n",
            "('down?', 1)\n",
            "('tea.', 1)\n",
            "(\"nothin',\", 1)\n",
            "('twinge', 1)\n",
            "('neck,', 1)\n",
            "('neck', 1)\n",
            "('completely', 1)\n",
            "('sideways)', 1)\n",
            "('hungry?', 1)\n",
            "('dinner.', 1)\n",
            "('firewood.', 2)\n",
            "(\"goin'?\", 2)\n",
            "('yelps)', 1)\n",
            "('hug.', 1)\n",
            "('Mmm.', 1)\n",
            "('rat.', 1)\n",
            "('also', 1)\n",
            "('stews.', 1)\n",
            "('brag,', 1)\n",
            "('rat', 1)\n",
            "('stew.', 1)\n",
            "('chuckles.)', 1)\n",
            "('dining', 1)\n",
            "('visit', 1)\n",
            "('fish', 1)\n",
            "('(Smiles)', 1)\n",
            "('other.', 3)\n",
            "('wondering...are', 1)\n",
            "('you...(sighs)', 1)\n",
            "('(chuckles)', 1)\n",
            "('Sunset?', 1)\n",
            "('minute.', 1)\n",
            "('dark,', 2)\n",
            "('Yes!', 2)\n",
            "('terrified.', 1)\n",
            "('animal,', 1)\n",
            "('instincts.', 1)\n",
            "('crazy.', 1)\n",
            "('smell', 1)\n",
            "('pheromones.', 1)\n",
            "('Besides,', 1)\n",
            "(\"'\", 1)\n",
            "('An', 3)\n",
            "('firewood', 1)\n",
            "('WINDMILL.', 2)\n",
            "('Windmill', 1)\n",
            "('seen.', 2)\n",
            "('spooky', 1)\n",
            "('games.', 1)\n",
            "('help!', 1)\n",
            "('princess?', 1)\n",
            "('body.', 1)\n",
            "('God!', 1)\n",
            "('(Still', 1)\n",
            "('breathing!', 1)\n",
            "('pets', 1)\n",
            "(\"You're,\", 1)\n",
            "('ugly,', 2)\n",
            "('eat,', 1)\n",
            "('said.', 1)\n",
            "('been', 3)\n",
            "('before.', 3)\n",
            "('\"By', 2)\n",
            "('norm...', 1)\n",
            "('kiss...', 1)\n",
            "('form.\"', 2)\n",
            "('wrote', 1)\n",
            "('spell.', 3)\n",
            "('girl,', 1)\n",
            "('cast', 1)\n",
            "('Every', 2)\n",
            "('await', 1)\n",
            "('(She', 2)\n",
            "(\"'bout\", 1)\n",
            "('break', 3)\n",
            "('orge,', 1)\n",
            "('Outside,', 1)\n",
            "('going,', 1)\n",
            "('pretty.', 1)\n",
            "('trouble.', 1)\n",
            "('pauses', 1)\n",
            "('talking.', 2)\n",
            "('\"ugly\"', 1)\n",
            "('chance', 2)\n",
            "('happily', 1)\n",
            "('see,', 1)\n",
            "('be.', 1)\n",
            "('truth.', 2)\n",
            "('breathe', 1)\n",
            "('word.', 2)\n",
            "('point', 1)\n",
            "('secrets?', 1)\n",
            "('Promise!', 1)\n",
            "('(goes', 1)\n",
            "('therapy.', 1)\n",
            "(\"twitchin'.\", 1)\n",
            "('sunflower.', 2)\n",
            "('windmill,', 1)\n",
            "('want...', 1)\n",
            "('human.', 1)\n",
            "('Perfect!', 1)\n",
            "('said?', 1)\n",
            "('understand.', 3)\n",
            "('said,', 1)\n",
            "('hideous,', 1)\n",
            "('Yeah?', 2)\n",
            "('regal', 1)\n",
            "('tall.', 1)\n",
            "('march', 1)\n",
            "('miss?', 2)\n",
            "('soldiers.)', 1)\n",
            "('agreed.', 1)\n",
            "('change', 1)\n",
            "('startled', 1)\n",
            "('horse', 1)\n",
            "('sweet.', 1)\n",
            "('manners', 1)\n",
            "('feelings.', 2)\n",
            "('beautiful,', 1)\n",
            "('Will', 1)\n",
            "('groom?', 1)\n",
            "('accept.', 1)\n",
            "('(Interrupting)', 1)\n",
            "('plans,', 1)\n",
            "('wed!', 1)\n",
            "('today', 2)\n",
            "('cake,', 1)\n",
            "('band,', 1)\n",
            "('Fare-thee-well,', 1)\n",
            "('ya?', 2)\n",
            "('home?', 1)\n",
            "('home', 1)\n",
            "('Nobody', 2)\n",
            "('else!', 1)\n",
            "('Nobody!', 1)\n",
            "('useless,', 1)\n",
            "('donkeys!', 1)\n",
            "('wrong!', 1)\n",
            "('OF', 1)\n",
            "('DIFFERENT', 1)\n",
            "('SCENES.', 1)\n",
            "('arriving', 1)\n",
            "('stream', 1)\n",
            "('INT/EXT.', 1)\n",
            "('think,', 1)\n",
            "('people,', 1)\n",
            "('recognize', 1)\n",
            "(\"wall's\", 1)\n",
            "('Hmm.', 1)\n",
            "('work.', 1)\n",
            "('rock,', 1)\n",
            "('with.', 1)\n",
            "('go,', 1)\n",
            "('Smelly', 1)\n",
            "('Fine!', 1)\n",
            "('Uh-uh.', 1)\n",
            "('always,', 1)\n",
            "('me!\"', 1)\n",
            "('turn!', 1)\n",
            "('insult', 1)\n",
            "('appreciate', 1)\n",
            "('back?', 1)\n",
            "('forgive', 3)\n",
            "(\"stabbin'\", 1)\n",
            "('ll', 1)\n",
            "('else.', 1)\n",
            "('Uh-uh,', 1)\n",
            "('Friends?', 1)\n",
            "('asking', 1)\n",
            "('wedding!', 1)\n",
            "(\"We'll\", 1)\n",
            "('Ha-ha-ha!', 1)\n",
            "('fear,', 1)\n",
            "('will,', 1)\n",
            "('guarding', 1)\n",
            "('overhead', 1)\n",
            "('magnetism.', 1)\n",
            "('(They', 1)\n",
            "('Aw,', 1)\n",
            "('tight.', 1)\n",
            "('CHURCH.', 5)\n",
            "('married.', 2)\n",
            "('witness', 1)\n",
            "('setting', 2)\n",
            "('sun)', 2)\n",
            "('king...', 1)\n",
            "('Excuse', 1)\n",
            "('Could', 1)\n",
            "('skip', 1)\n",
            "('priest', 2)\n",
            "('indulge', 1)\n",
            "('Fiona.)', 1)\n",
            "('COURTYARD.', 4)\n",
            "('milling', 1)\n",
            "('scattering', 1)\n",
            "('Dragon)', 1)\n",
            "('fun.', 1)\n",
            "('whistle.', 1)\n",
            "('wait!', 1)\n",
            "('Church', 1)\n",
            "('door)', 1)\n",
            "(\"preacher's\", 1)\n",
            "('\"Speak', 1)\n",
            "('peace.\"', 1)\n",
            "('object!\"', 1)\n",
            "('(Singing', 1)\n",
            "('Brown', 1)\n",
            "('tenderness.', 1)\n",
            "('(Normal)', 1)\n",
            "('chicks', 1)\n",
            "('crap!', 1)\n",
            "('check', 1)\n",
            "('crossing', 1)\n",
            "('tossing', 1)\n",
            "('see?', 1)\n",
            "(\"town's\", 1)\n",
            "('...king', 1)\n",
            "('queen.', 1)\n",
            "('Fletcher!', 1)\n",
            "('hard.', 1)\n",
            "('object!', 1)\n",
            "(\"Havin'\", 1)\n",
            "('uninvited', 1)\n",
            "('wedding...', 1)\n",
            "('late', 1)\n",
            "(\"you'll\", 1)\n",
            "('Because-', 1)\n",
            "('marring', 1)\n",
            "('precious.', 1)\n",
            "('usher', 1)\n",
            "('cares?', 1)\n",
            "('\"happily', 1)\n",
            "('after.\"', 1)\n",
            "('leans', 2)\n",
            "('kiss,', 1)\n",
            "('(looking', 1)\n",
            "('another.\"', 1)\n",
            "('disgusting!', 1)\n",
            "('them!', 1)\n",
            "('fights', 1)\n",
            "('hocus-pocus', 1)\n",
            "('marriage', 1)\n",
            "('See!', 2)\n",
            "('morons.', 1)\n",
            "('regret', 1)\n",
            "('drawn', 1)\n",
            "('quartered!', 1)\n",
            "('death', 1)\n",
            "('days!', 1)\n",
            "('manages', 1)\n",
            "('whistles.', 1)\n",
            "('order!', 1)\n",
            "('smash', 1)\n",
            "('window,', 1)\n",
            "('Aaaah!', 1)\n",
            "('Celebrity', 1)\n",
            "('marriages.', 1)\n",
            "('writes', 1)\n",
            "(\"'Awwww'\", 1)\n",
            "('shows', 1)\n",
            "('congregation.', 1)\n",
            "('CONGREGATION', 1)\n",
            "('spins,', 1)\n",
            "('\"Until', 1)\n",
            "('form.', 2)\n",
            "('wide.', 1)\n",
            "('slowly', 1)\n",
            "('lowered', 1)\n",
            "('ogre.)', 1)\n",
            "('happy', 1)\n",
            "('kiss...and', 1)\n",
            "('tosses', 1)\n",
            "('bouquet,', 1)\n",
            "('Cinderella', 1)\n",
            "('catches', 1)\n",
            "('candy', 1)\n",
            "('cane.', 1)\n",
            "('guests', 1)\n",
            "('Mouth.)', 1)\n",
            "('every', 1)\n",
            "('C’mon', 1)\n",
            "('oh-ah', 1)\n",
            "('couldn’t', 1)\n",
            "('tried.', 1)\n",
            "('c’mon!', 1)\n",
            "('believe,', 4)\n",
            "('(x9)', 1)\n",
            "('black.', 1)\n",
            "('breathe.', 2)\n",
            "('---END---', 1)\n"
          ]
        },
        {
          "output_type": "execute_result",
          "data": {
            "text/plain": [
              "3409"
            ]
          },
          "metadata": {},
          "execution_count": 25
        }
      ]
    },
    {
      "cell_type": "markdown",
      "source": [
        "> **Nota 📝:** Mediante los RDD (Resilient Distributed Datasets), se llevan a cabo las operaciones fundamentales de Spark, tales como filtrado, mapeo, reducción y agrupación, proporcionando una base sólida para el procesamiento de datos. Posteriormente, estos mismos principios se aplican para realizar operaciones más avanzadas en DataFrames, permitiendo un manejo de datos más sofisticado sin que tengamos que intervenir directamente en la complejidad subyacente."
      ],
      "metadata": {
        "id": "wtIz-dd8BlgG"
      }
    },
    {
      "cell_type": "code",
      "source": [
        "# Importante apagar la sesión interactiva una vez que terminemos\n",
        "sc.stop()"
      ],
      "metadata": {
        "id": "IZYCbQXPJS9O"
      },
      "execution_count": null,
      "outputs": []
    },
    {
      "cell_type": "markdown",
      "source": [
        "> **Pregunta ❓**: ¿Cuál debería ser la razón de apagar esto?"
      ],
      "metadata": {
        "id": "aPsXjEBlUUIr"
      }
    },
    {
      "cell_type": "markdown",
      "source": [
        "### Dataframes"
      ],
      "metadata": {
        "id": "OdZllQKuLp8e"
      }
    },
    {
      "cell_type": "markdown",
      "source": [
        "<center>\n",
        "<img src=\"https://github.com/MDS7202/MDS7202/blob/main/clases/2024-01/imagenes_clase_7/sparkDataframes.png?raw=true\" width=500 />"
      ],
      "metadata": {
        "id": "E8sld9A5LqiO"
      }
    },
    {
      "cell_type": "markdown",
      "source": [
        "\n",
        "\n",
        "Los DataFrames de Spark son estructuras de datos distribuidas, inmutables y esquematizadas, diseñadas para el procesamiento eficiente de grandes volúmenes de datos en clusters. Inspirados en los dataframes de R y Pandas, combinan la simplicidad de las APIs de alto nivel con la potencia del procesamiento paralelo distribuido. Cada DataFrame posee un esquema que define el nombre y tipo de sus columnas, permitiendo la manipulación de datos estructurados de manera intuitiva y eficaz. Además, los DataFrames facilitan la ejecución de consultas SQL y se integran con el ecosistema de Spark, ofreciendo una plataforma robusta para análisis de big data, con optimizaciones automáticas para mejorar el rendimiento y la eficiencia en el procesamiento de datos."
      ],
      "metadata": {
        "id": "V2T7a7_94_5X"
      }
    },
    {
      "cell_type": "markdown",
      "source": [
        "Como explicamos anteriormente, la SparkSession proporciona un punto de entrada único a las funcionalidades de Spark, simplificando la interacción del usuario con las capacidades de Spark. Algunos de los métodos mas relevantes son los siguientes:\n",
        "\n",
        "* `.appName(name):` Define el nombre de la aplicación Spark, útil para identificar la aplicación en la interfaz de usuario de Spark y en los registros.\n",
        "* `.master(url):` Especifica el modo de despliegue de la aplicación Spark (por ejemplo, local, local[4], spark://host:port, mesos://host:port, etc.).\n",
        "* `.config(key, value):` Permite establecer configuraciones específicas de Spark, como límites de memoria, propiedades de ejecución, configuraciones de serialización, entre otros."
      ],
      "metadata": {
        "id": "Vq0zxwKvOJRa"
      }
    },
    {
      "cell_type": "code",
      "source": [
        "import pyspark\n",
        "from pyspark.sql import SparkSession\n",
        "\n",
        "sparksession = SparkSession.builder.master(\"local\").appName(\"Ejemplo Dataframes\").getOrCreate()"
      ],
      "metadata": {
        "id": "LEU4SxoH6MMq"
      },
      "execution_count": null,
      "outputs": []
    },
    {
      "cell_type": "markdown",
      "source": [
        "Luego comprobamos las definiciones entregadas a nuestra sesión de Spark:"
      ],
      "metadata": {
        "id": "ErU0DmmWWqHP"
      }
    },
    {
      "cell_type": "code",
      "source": [
        "sparksession"
      ],
      "metadata": {
        "colab": {
          "base_uri": "https://localhost:8080/",
          "height": 219
        },
        "id": "aTFuAJaERNnG",
        "outputId": "a2ccb925-ea29-4410-c0f4-4b4e1c6ad3f1"
      },
      "execution_count": null,
      "outputs": [
        {
          "output_type": "execute_result",
          "data": {
            "text/plain": [
              "<pyspark.sql.session.SparkSession at 0x7f6111642950>"
            ],
            "text/html": [
              "\n",
              "            <div>\n",
              "                <p><b>SparkSession - in-memory</b></p>\n",
              "                \n",
              "        <div>\n",
              "            <p><b>SparkContext</b></p>\n",
              "\n",
              "            <p><a href=\"http://d3cdb966363f:4040\">Spark UI</a></p>\n",
              "\n",
              "            <dl>\n",
              "              <dt>Version</dt>\n",
              "                <dd><code>v3.5.5</code></dd>\n",
              "              <dt>Master</dt>\n",
              "                <dd><code>local[*]</code></dd>\n",
              "              <dt>AppName</dt>\n",
              "                <dd><code>MiApp</code></dd>\n",
              "            </dl>\n",
              "        </div>\n",
              "        \n",
              "            </div>\n",
              "        "
            ]
          },
          "metadata": {},
          "execution_count": 27
        }
      ]
    },
    {
      "cell_type": "markdown",
      "source": [
        "Trabajar con DataFrames en Spark comúnmente implica cargar datos desde una variedad de formatos, como Parquet, CSV, TXT, entre otros, dentro del entorno de Spark. Para ilustrar cómo se hace, cargaremos un archivo Parquet utilizando el método `read`."
      ],
      "metadata": {
        "id": "DGFZ0OfyW48G"
      }
    },
    {
      "cell_type": "code",
      "source": [
        "%%capture\n",
        "!wget https://gitlab.com/imezadelajara/datos_clase_7_mds7202/-/raw/main/fraudes.parquet"
      ],
      "metadata": {
        "id": "aztF3vPPQVQe"
      },
      "execution_count": null,
      "outputs": []
    },
    {
      "cell_type": "code",
      "source": [
        "df = (\n",
        "    sparksession.read\n",
        "    .option(\"header\",'True')\n",
        "    #.option('delimiter', ',') # Formato del delimiter en el archivo de lectura\n",
        "    .parquet(\"fraudes.parquet\")\n",
        ")\n",
        "df.count()"
      ],
      "metadata": {
        "id": "P7hTlc1BQyD3",
        "colab": {
          "base_uri": "https://localhost:8080/"
        },
        "outputId": "364c3b63-b13e-428e-ed4b-3212f45cc2d7"
      },
      "execution_count": null,
      "outputs": [
        {
          "output_type": "execute_result",
          "data": {
            "text/plain": [
              "600000"
            ]
          },
          "metadata": {},
          "execution_count": 29
        }
      ]
    },
    {
      "cell_type": "markdown",
      "source": [
        "\n",
        "Un `Schema` en Spark define la estructura de los datos, especificando los nombres de las columnas, los tipos de datos de cada columna, y si una columna puede contener valores nulos. En el contexto de Spark SQL y DataFrames, el esquema es una descripción formal de la organización de los datos, lo que facilita el procesamiento, la manipulación y el análisis de grandes conjuntos de datos de manera eficiente."
      ],
      "metadata": {
        "id": "4Shj0qcjWdXk"
      }
    },
    {
      "cell_type": "code",
      "source": [
        "df.printSchema()"
      ],
      "metadata": {
        "colab": {
          "base_uri": "https://localhost:8080/"
        },
        "id": "zSCa6-HsWJMo",
        "outputId": "6d03d01d-ea6d-4556-fe83-cd7f98a862b3"
      },
      "execution_count": null,
      "outputs": [
        {
          "output_type": "stream",
          "name": "stdout",
          "text": [
            "root\n",
            " |-- Transaction ID: string (nullable = true)\n",
            " |-- Customer ID: string (nullable = true)\n",
            " |-- Transaction Amount: double (nullable = true)\n",
            " |-- Transaction Date: string (nullable = true)\n",
            " |-- Payment Method: string (nullable = true)\n",
            " |-- Product Category: string (nullable = true)\n",
            " |-- Quantity: long (nullable = true)\n",
            " |-- Customer Age: long (nullable = true)\n",
            " |-- Customer Location: string (nullable = true)\n",
            " |-- Device Used: string (nullable = true)\n",
            " |-- IP Address: string (nullable = true)\n",
            " |-- Shipping Address: string (nullable = true)\n",
            " |-- Billing Address: string (nullable = true)\n",
            " |-- Is Fraudulent: long (nullable = true)\n",
            " |-- Account Age Days: long (nullable = true)\n",
            " |-- Transaction Hour: long (nullable = true)\n",
            "\n"
          ]
        }
      ]
    },
    {
      "cell_type": "markdown",
      "source": [
        "## Transformaciones, Acciones y Lazy evaluation"
      ],
      "metadata": {
        "id": "TVo2hDtZXjil"
      }
    },
    {
      "cell_type": "markdown",
      "source": [
        "<center>\n",
        "<img src=\"https://github.com/MDS7202/MDS7202/blob/main/clases/2024-01/imagenes_clase_7/lazy.png?raw=true\" width=500 />"
      ],
      "metadata": {
        "id": "jTTzuWGNXkA-"
      }
    },
    {
      "cell_type": "markdown",
      "source": [
        "\n",
        "\n",
        "En Spark, las operaciones se dividen en dos categorías principales: transformaciones y acciones.\n",
        "\n",
        "- **Transformaciones**: Estas operaciones generan un nuevo DataFrame a partir de uno existente sin modificar el conjunto de datos original, aprovechando la característica de inmutabilidad de los DataFrames de Spark. Permiten realizar manipulaciones como filtrar, mapear y agrupar los datos.\n",
        "\n",
        "- **Acciones**: Son las operaciones que desencadenan la ejecución de todas las transformaciones acumuladas. Las transformaciones se organizan y almacenan internamente hasta que se invoca una acción, momento en el cual Spark lleva a cabo las operaciones necesarias.\n",
        "\n",
        "Es crucial destacar que Spark opera bajo el principio de `lazy evaluation` , lo que significa que las operaciones se planifican y almacenan sin ejecutarse inmediatamente. Esta evaluación perezosa permite a Spark optimizar el plan de ejecución de las queries, encadenando transformaciones y manteniendo un linaje de los datos para proporcionar tolerancia a fallos. Esta arquitectura contrasta significativamente con sistemas como Hadoop, donde la tolerancia a fallos y la optimización de ejecución no son tan intrínsecamente gestionadas, ofreciendo a Spark una ventaja considerable en eficiencia y resiliencia."
      ],
      "metadata": {
        "id": "0uPaAN4PHNCE"
      }
    },
    {
      "cell_type": "markdown",
      "source": [
        "| Operación   | Tipo           |\n",
        "| ----------- | -------------- |\n",
        "| `orderBy()` | Transformación |\n",
        "| `groupBy()` | Transformación |\n",
        "| `filter()`  | Transformación |\n",
        "| `select()`  | Transformación |\n",
        "| `join()`    | Transformación |\n",
        "| `show()`    | Acción         |\n",
        "| `take()`    | Acción         |\n",
        "| `count()`   | Acción         |\n",
        "| `collect()` | Acción         |\n",
        "| `save()`    | Acción         |"
      ],
      "metadata": {
        "id": "sh7XzzzXKp_V"
      }
    },
    {
      "cell_type": "markdown",
      "source": [
        "A partir de esto, podemos deducir que todos los métodos que consolidan información a partir de las tablas se clasifican como acciones, debido a que requieren ejecutar el linaje de comandos aplicados anteriormente para producir resultados."
      ],
      "metadata": {
        "id": "6KewgUYYKuNu"
      }
    },
    {
      "cell_type": "markdown",
      "source": [
        "**Analicemos la diferencia en tiempo de ejecución entre una transformación y una acción:**"
      ],
      "metadata": {
        "id": "SpK_5Is6XuO5"
      }
    },
    {
      "cell_type": "code",
      "source": [
        "%%time\n",
        "df_group1 = df.groupBy('Product Category').agg(\n",
        "    {\n",
        "        'Customer Age':'median',\n",
        "        'Product Category':'count',\n",
        "        'Transaction Amount':'mean'\n",
        "    }\n",
        ")"
      ],
      "metadata": {
        "colab": {
          "base_uri": "https://localhost:8080/"
        },
        "id": "goZ3wYR0TC9q",
        "outputId": "ed735a6d-1e6b-4bba-f05c-83c3bf3ab604"
      },
      "execution_count": null,
      "outputs": [
        {
          "output_type": "stream",
          "name": "stdout",
          "text": [
            "CPU times: user 6.59 ms, sys: 222 µs, total: 6.81 ms\n",
            "Wall time: 180 ms\n"
          ]
        }
      ]
    },
    {
      "cell_type": "code",
      "source": [
        "%%time\n",
        "df_group1.show(10)"
      ],
      "metadata": {
        "colab": {
          "base_uri": "https://localhost:8080/"
        },
        "id": "Ye9ObUUuTkOK",
        "outputId": "4e9f56f7-eeab-4d76-99f6-d612990b3f06"
      },
      "execution_count": null,
      "outputs": [
        {
          "output_type": "stream",
          "name": "stdout",
          "text": [
            "+----------------+--------------------+-----------------------+-----------------------+\n",
            "|Product Category|median(Customer Age)|avg(Transaction Amount)|count(Product Category)|\n",
            "+----------------+--------------------+-----------------------+-----------------------+\n",
            "| health & beauty|                35.0|     226.31680804387682|                 120340|\n",
            "|    toys & games|                34.0|     227.39503040971658|                 119863|\n",
            "|     electronics|                34.0|     226.74130695314096|                 119989|\n",
            "|        clothing|                35.0|     226.21975282397648|                 119955|\n",
            "|   home & garden|                35.0|     227.50232927002205|                 119853|\n",
            "+----------------+--------------------+-----------------------+-----------------------+\n",
            "\n",
            "CPU times: user 27.7 ms, sys: 7.66 ms, total: 35.4 ms\n",
            "Wall time: 6.04 s\n"
          ]
        }
      ]
    },
    {
      "cell_type": "code",
      "source": [
        "sparksession.stop()"
      ],
      "metadata": {
        "id": "v4glOzgMiZ3J"
      },
      "execution_count": null,
      "outputs": []
    },
    {
      "cell_type": "markdown",
      "source": [
        "## Operaciones sobre DataFrames con Spark"
      ],
      "metadata": {
        "id": "ftLKMNukYLjI"
      }
    },
    {
      "cell_type": "markdown",
      "source": [
        "<center>\n",
        "<img src=\"https://github.com/MDS7202/MDS7202/blob/main/clases/2024-01/imagenes_clase_7/operationsDataframe.png?raw=true\" width=500 />"
      ],
      "metadata": {
        "id": "fOM3_k0BYU98"
      }
    },
    {
      "cell_type": "markdown",
      "source": [
        "Al igual que en Pandas, Spark nos permite realizar una amplia gama de operaciones sobre los DataFrames, facilitando la creación de nuevas estructuras de datos que se ajustan a las necesidades específicas de un problema. En esta sección, exploraremos diversos comandos que abordan las operaciones más habituales que podrías necesitar en tus proyectos de análisis de datos con Spark."
      ],
      "metadata": {
        "id": "eXdcsKRfcUtE"
      }
    },
    {
      "cell_type": "code",
      "source": [
        "import pyspark\n",
        "from pyspark.sql import SparkSession\n",
        "\n",
        "sparksession = SparkSession.builder.master(\"local\").appName(\"Ejemplo Dataframes\").getOrCreate()\n",
        "\n",
        "df = (\n",
        "    sparksession.read\n",
        "    .option(\"header\",'True')\n",
        "    .parquet(\"fraudes.parquet\")\n",
        "\n",
        ")"
      ],
      "metadata": {
        "id": "DJSWgx7eiUOy"
      },
      "execution_count": null,
      "outputs": []
    },
    {
      "cell_type": "markdown",
      "source": [
        "### Operaciones Básicas"
      ],
      "metadata": {
        "id": "7PGNIGBYZhQk"
      }
    },
    {
      "cell_type": "markdown",
      "source": [
        "Como ya habiamos visto, el método `.printSchema()` es extremadamente útil para entender rápidamente la estructura de nuestros datos, incluyendo los nombres de las columnas y sus tipos de datos, así como si alguna columna permite valores nulos."
      ],
      "metadata": {
        "id": "OhA9ieDqcxc8"
      }
    },
    {
      "cell_type": "code",
      "source": [
        "# Revisemos el esquema del dataframe\n",
        "df.printSchema()"
      ],
      "metadata": {
        "colab": {
          "base_uri": "https://localhost:8080/"
        },
        "id": "gQMo0o7ec8BG",
        "outputId": "557aa7f3-f340-4a98-ce86-27bae431ef0c"
      },
      "execution_count": null,
      "outputs": [
        {
          "output_type": "stream",
          "name": "stdout",
          "text": [
            "root\n",
            " |-- Transaction ID: string (nullable = true)\n",
            " |-- Customer ID: string (nullable = true)\n",
            " |-- Transaction Amount: double (nullable = true)\n",
            " |-- Transaction Date: string (nullable = true)\n",
            " |-- Payment Method: string (nullable = true)\n",
            " |-- Product Category: string (nullable = true)\n",
            " |-- Quantity: long (nullable = true)\n",
            " |-- Customer Age: long (nullable = true)\n",
            " |-- Customer Location: string (nullable = true)\n",
            " |-- Device Used: string (nullable = true)\n",
            " |-- IP Address: string (nullable = true)\n",
            " |-- Shipping Address: string (nullable = true)\n",
            " |-- Billing Address: string (nullable = true)\n",
            " |-- Is Fraudulent: long (nullable = true)\n",
            " |-- Account Age Days: long (nullable = true)\n",
            " |-- Transaction Hour: long (nullable = true)\n",
            "\n"
          ]
        }
      ]
    },
    {
      "cell_type": "code",
      "source": [
        "# Podemos ver el tipo de objeto que es un dataframe\n",
        "type(df)"
      ],
      "metadata": {
        "colab": {
          "base_uri": "https://localhost:8080/",
          "height": 186
        },
        "id": "90YmXHxpik2O",
        "outputId": "9a507d37-56a3-4f32-de7a-7cefd24ee58b"
      },
      "execution_count": null,
      "outputs": [
        {
          "output_type": "execute_result",
          "data": {
            "text/plain": [
              "pyspark.sql.dataframe.DataFrame"
            ],
            "text/html": [
              "<div style=\"max-width:800px; border: 1px solid var(--colab-border-color);\"><style>\n",
              "      pre.function-repr-contents {\n",
              "        overflow-x: auto;\n",
              "        padding: 8px 12px;\n",
              "        max-height: 500px;\n",
              "      }\n",
              "\n",
              "      pre.function-repr-contents.function-repr-contents-collapsed {\n",
              "        cursor: pointer;\n",
              "        max-height: 100px;\n",
              "      }\n",
              "    </style>\n",
              "    <pre style=\"white-space: initial; background:\n",
              "         var(--colab-secondary-surface-color); padding: 8px 12px;\n",
              "         border-bottom: 1px solid var(--colab-border-color);\"><b>pyspark.sql.dataframe.DataFrame</b><br/>def __init__(jdf: JavaObject, sql_ctx: Union[&#x27;SQLContext&#x27;, &#x27;SparkSession&#x27;])</pre><pre class=\"function-repr-contents function-repr-contents-collapsed\" style=\"\"><a class=\"filepath\" style=\"display:none\" href=\"#\">/usr/local/lib/python3.11/dist-packages/pyspark/sql/dataframe.py</a>A distributed collection of data grouped into named columns.\n",
              "\n",
              ".. versionadded:: 1.3.0\n",
              "\n",
              ".. versionchanged:: 3.4.0\n",
              "    Supports Spark Connect.\n",
              "\n",
              "Examples\n",
              "--------\n",
              "A :class:`DataFrame` is equivalent to a relational table in Spark SQL,\n",
              "and can be created using various functions in :class:`SparkSession`:\n",
              "\n",
              "&gt;&gt;&gt; people = spark.createDataFrame([\n",
              "...     {&quot;deptId&quot;: 1, &quot;age&quot;: 40, &quot;name&quot;: &quot;Hyukjin Kwon&quot;, &quot;gender&quot;: &quot;M&quot;, &quot;salary&quot;: 50},\n",
              "...     {&quot;deptId&quot;: 1, &quot;age&quot;: 50, &quot;name&quot;: &quot;Takuya Ueshin&quot;, &quot;gender&quot;: &quot;M&quot;, &quot;salary&quot;: 100},\n",
              "...     {&quot;deptId&quot;: 2, &quot;age&quot;: 60, &quot;name&quot;: &quot;Xinrong Meng&quot;, &quot;gender&quot;: &quot;F&quot;, &quot;salary&quot;: 150},\n",
              "...     {&quot;deptId&quot;: 3, &quot;age&quot;: 20, &quot;name&quot;: &quot;Haejoon Lee&quot;, &quot;gender&quot;: &quot;M&quot;, &quot;salary&quot;: 200}\n",
              "... ])\n",
              "\n",
              "Once created, it can be manipulated using the various domain-specific-language\n",
              "(DSL) functions defined in: :class:`DataFrame`, :class:`Column`.\n",
              "\n",
              "To select a column from the :class:`DataFrame`, use the apply method:\n",
              "\n",
              "&gt;&gt;&gt; age_col = people.age\n",
              "\n",
              "A more concrete example:\n",
              "\n",
              "&gt;&gt;&gt; # To create DataFrame using SparkSession\n",
              "... department = spark.createDataFrame([\n",
              "...     {&quot;id&quot;: 1, &quot;name&quot;: &quot;PySpark&quot;},\n",
              "...     {&quot;id&quot;: 2, &quot;name&quot;: &quot;ML&quot;},\n",
              "...     {&quot;id&quot;: 3, &quot;name&quot;: &quot;Spark SQL&quot;}\n",
              "... ])\n",
              "\n",
              "&gt;&gt;&gt; people.filter(people.age &gt; 30).join(\n",
              "...     department, people.deptId == department.id).groupBy(\n",
              "...     department.name, &quot;gender&quot;).agg({&quot;salary&quot;: &quot;avg&quot;, &quot;age&quot;: &quot;max&quot;}).show()\n",
              "+-------+------+-----------+--------+\n",
              "|   name|gender|avg(salary)|max(age)|\n",
              "+-------+------+-----------+--------+\n",
              "|     ML|     F|      150.0|      60|\n",
              "|PySpark|     M|       75.0|      50|\n",
              "+-------+------+-----------+--------+\n",
              "\n",
              "Notes\n",
              "-----\n",
              "A DataFrame should only be created as described above. It should not be directly\n",
              "created via using the constructor.</pre>\n",
              "      <script>\n",
              "      if (google.colab.kernel.accessAllowed && google.colab.files && google.colab.files.view) {\n",
              "        for (const element of document.querySelectorAll('.filepath')) {\n",
              "          element.style.display = 'block'\n",
              "          element.onclick = (event) => {\n",
              "            event.preventDefault();\n",
              "            event.stopPropagation();\n",
              "            google.colab.files.view(element.textContent, 80);\n",
              "          };\n",
              "        }\n",
              "      }\n",
              "      for (const element of document.querySelectorAll('.function-repr-contents')) {\n",
              "        element.onclick = (event) => {\n",
              "          event.preventDefault();\n",
              "          event.stopPropagation();\n",
              "          element.classList.toggle('function-repr-contents-collapsed');\n",
              "        };\n",
              "      }\n",
              "      </script>\n",
              "      </div>"
            ]
          },
          "metadata": {},
          "execution_count": 36
        }
      ]
    },
    {
      "cell_type": "markdown",
      "source": [
        "`.head(N)` retorna las N primeras filas del DataFrame df como un objeto Row. Es especialmente útil para obtener una rápida visión general de los datos y su formato sin necesidad de cargar todo el conjunto de datos en memoria. Es similar a take(N), pero más intuitivo para quienes provienen de un entorno de Pandas.\n",
        "\n"
      ],
      "metadata": {
        "id": "awp4m9uzdYVj"
      }
    },
    {
      "cell_type": "code",
      "source": [
        "# Comprobar los N primeros elementos del dataframe\n",
        "df.head(2)"
      ],
      "metadata": {
        "colab": {
          "base_uri": "https://localhost:8080/"
        },
        "id": "fI_hmxEKipNK",
        "outputId": "bb57798a-b96b-4689-9853-7b219d1acb25"
      },
      "execution_count": null,
      "outputs": [
        {
          "output_type": "execute_result",
          "data": {
            "text/plain": [
              "[Row(Transaction ID='15d2e414-8735-46fc-9e02-80b472b2580f', Customer ID='d1b87f62-51b2-493b-ad6a-77e0fe13e785', Transaction Amount=58.09, Transaction Date='2024-02-20 05:58:41', Payment Method='bank transfer', Product Category='electronics', Quantity=1, Customer Age=17, Customer Location='Amandaborough', Device Used='tablet', IP Address='212.195.49.198', Shipping Address='Unit 8934 Box 0058\\nDPO AA 05437', Billing Address='Unit 8934 Box 0058\\nDPO AA 05437', Is Fraudulent=0, Account Age Days=30, Transaction Hour=5),\n",
              " Row(Transaction ID='0bfee1a0-6d5e-40da-a446-d04e73b1b177', Customer ID='37de64d5-e901-4a56-9ea0-af0c24c069cf', Transaction Amount=389.96, Transaction Date='2024-02-25 08:09:45', Payment Method='debit card', Product Category='electronics', Quantity=2, Customer Age=40, Customer Location='East Timothy', Device Used='desktop', IP Address='208.106.249.121', Shipping Address='634 May Keys\\nPort Cherylview, NV 75063', Billing Address='634 May Keys\\nPort Cherylview, NV 75063', Is Fraudulent=0, Account Age Days=72, Transaction Hour=8)]"
            ]
          },
          "metadata": {},
          "execution_count": 37
        }
      ]
    },
    {
      "cell_type": "markdown",
      "source": [
        "`show(n)` imprime las primeras n filas del DataFrame df en una tabla ASCII fácil de leer, en este caso, las primeras 4 filas. Es una herramienta conveniente para una inspección rápida de los datos, incluyendo el formato de las columnas y los primeros valores, lo que ayuda a entender el contexto de los datos con los que estamos trabajando."
      ],
      "metadata": {
        "id": "mJCvZyPjdlj5"
      }
    },
    {
      "cell_type": "code",
      "source": [
        "# Mostrar un ejemplo de 4 filas\n",
        "df.show(4)"
      ],
      "metadata": {
        "colab": {
          "base_uri": "https://localhost:8080/"
        },
        "id": "jdPFcW1GirPy",
        "outputId": "598056af-a6ae-4be7-c9b2-3ed1ab033c2f"
      },
      "execution_count": null,
      "outputs": [
        {
          "output_type": "stream",
          "name": "stdout",
          "text": [
            "+--------------------+--------------------+------------------+-------------------+--------------+----------------+--------+------------+-----------------+-----------+---------------+--------------------+--------------------+-------------+----------------+----------------+\n",
            "|      Transaction ID|         Customer ID|Transaction Amount|   Transaction Date|Payment Method|Product Category|Quantity|Customer Age|Customer Location|Device Used|     IP Address|    Shipping Address|     Billing Address|Is Fraudulent|Account Age Days|Transaction Hour|\n",
            "+--------------------+--------------------+------------------+-------------------+--------------+----------------+--------+------------+-----------------+-----------+---------------+--------------------+--------------------+-------------+----------------+----------------+\n",
            "|15d2e414-8735-46f...|d1b87f62-51b2-493...|             58.09|2024-02-20 05:58:41| bank transfer|     electronics|       1|          17|    Amandaborough|     tablet| 212.195.49.198|Unit 8934 Box 005...|Unit 8934 Box 005...|            0|              30|               5|\n",
            "|0bfee1a0-6d5e-40d...|37de64d5-e901-4a5...|            389.96|2024-02-25 08:09:45|    debit card|     electronics|       2|          40|     East Timothy|    desktop|208.106.249.121|634 May Keys\\nPor...|634 May Keys\\nPor...|            0|              72|               8|\n",
            "|e588eef4-b754-468...|1bac88d6-4b22-409...|            134.19|2024-03-18 03:42:55|        PayPal|   home & garden|       2|          22|       Davismouth|     tablet|   76.63.88.212|16282 Dana Falls ...|16282 Dana Falls ...|            0|              63|               3|\n",
            "|4de46e52-60c3-49d...|2357c76e-9253-4ce...|            226.17|2024-03-16 20:41:31| bank transfer|        clothing|       5|          31|         Lynnberg|    desktop| 207.208.171.73|828 Strong Loaf A...|828 Strong Loaf A...|            0|             124|              20|\n",
            "+--------------------+--------------------+------------------+-------------------+--------------+----------------+--------+------------+-----------------+-----------+---------------+--------------------+--------------------+-------------+----------------+----------------+\n",
            "only showing top 4 rows\n",
            "\n"
          ]
        }
      ]
    },
    {
      "cell_type": "markdown",
      "source": [
        "El método `.sample()` genera una muestra aleatoria del DataFrame df, donde fraction determina la fracción aproximada de filas a retornar. En este ejemplo, se solicita un 10% de las filas. El parámetro seed asegura la reproducibilidad del muestreo. Es útil para trabajar con un subconjunto representativo de los datos cuando el conjunto completo es demasiado grande para procesar eficientemente."
      ],
      "metadata": {
        "id": "6Y03x5t-dqgJ"
      }
    },
    {
      "cell_type": "code",
      "source": [
        "# Realizar un muestreo con el dataframe\n",
        "df.sample(fraction=0.1, seed=3).show()"
      ],
      "metadata": {
        "colab": {
          "base_uri": "https://localhost:8080/"
        },
        "id": "zzUAeZxulYrp",
        "outputId": "572b8656-9652-4411-b308-903a99ac8cee"
      },
      "execution_count": null,
      "outputs": [
        {
          "output_type": "stream",
          "name": "stdout",
          "text": [
            "+--------------------+--------------------+------------------+-------------------+--------------+----------------+--------+------------+-----------------+-----------+---------------+--------------------+--------------------+-------------+----------------+----------------+\n",
            "|      Transaction ID|         Customer ID|Transaction Amount|   Transaction Date|Payment Method|Product Category|Quantity|Customer Age|Customer Location|Device Used|     IP Address|    Shipping Address|     Billing Address|Is Fraudulent|Account Age Days|Transaction Hour|\n",
            "+--------------------+--------------------+------------------+-------------------+--------------+----------------+--------+------------+-----------------+-----------+---------------+--------------------+--------------------+-------------+----------------+----------------+\n",
            "|1b46cabd-fa15-47b...|a748a557-cf3d-481...|            267.12|2024-03-09 00:04:37|   credit card|   home & garden|       2|          13|         West Amy|     tablet| 123.118.78.180|37175 Christopher...|37175 Christopher...|            0|              39|               0|\n",
            "|ffc2d68a-5717-465...|07308817-5b75-4cb...|            686.48|2024-03-10 09:30:42|    debit card|   home & garden|       1|          39|West Carolinetown|     mobile|  66.10.168.104|19110 Kaitlin Wal...|19110 Kaitlin Wal...|            0|              85|               9|\n",
            "|d4539b2d-2b55-4b4...|c1d0af10-418f-457...|             268.3|2024-03-25 08:49:36|   credit card| health & beauty|       4|          48|   South Michelle|    desktop| 205.79.162.144|5271 Russell Turn...|5271 Russell Turn...|            0|               1|               8|\n",
            "|286788e3-94bc-4d1...|a1e6015c-7935-436...|             65.03|2024-02-25 00:47:09|    debit card|    toys & games|       2|          17|         Deanside|     mobile|   3.68.182.201|29693 Meyers Row\\...|29693 Meyers Row\\...|            0|             167|               0|\n",
            "|d4d59c86-4003-45e...|e3c8980b-5492-458...|             51.05|2024-02-05 18:09:11|        PayPal|     electronics|       3|          39|        Larryfurt|    desktop| 156.230.136.99|47712 Samantha Sh...|47712 Samantha Sh...|            0|              44|              18|\n",
            "|7b653e0f-2b4c-477...|a16a3d44-8d89-469...|            847.22|2024-02-14 12:16:11| bank transfer|        clothing|       4|          32| Port Danielville|     mobile|185.146.150.184|3047 Stevenson Cr...|3047 Stevenson Cr...|            0|              11|              12|\n",
            "|ecb35870-c7dc-464...|50113ff2-620e-40b...|             11.84|2024-01-08 15:18:49|        PayPal|   home & garden|       5|          39|       Hurstmouth|    desktop|    116.33.62.5|USNS Pena\\nFPO AP...|USNS Pena\\nFPO AP...|            0|             223|              15|\n",
            "|3b57a59c-7fb0-423...|2338385b-97e1-4d7...|            530.29|2024-03-18 01:14:32|        PayPal|        clothing|       3|          33|    East Kimberly|     mobile|   176.27.26.35|52383 Miller Grov...|52383 Miller Grov...|            0|             246|               1|\n",
            "|cbb1ec3d-ceb5-44f...|cc809fbc-3e32-453...|             46.19|2024-01-23 11:49:32|        PayPal|        clothing|       4|          55|     East William|     tablet|  206.249.33.26|PSC 4829, Box 352...|PSC 4829, Box 352...|            0|             310|              11|\n",
            "|3840df25-0c37-491...|e61351cb-de8b-4a4...|             40.42|2024-03-16 14:03:53| bank transfer|    toys & games|       5|          31|          Amybury|     mobile|  179.46.122.98|699 Barbara Estat...|699 Barbara Estat...|            0|             242|              14|\n",
            "|df84765e-5110-45e...|a7f8b5aa-5dbf-4e9...|            181.91|2024-03-06 09:06:49|   credit card|   home & garden|       2|          36|       Georgebury|     tablet|   179.69.29.67|061 Elaine Motorw...|061 Elaine Motorw...|            0|             267|               9|\n",
            "|62407bab-c37c-4f0...|07f2e177-ef38-484...|            444.45|2024-01-27 20:17:33|        PayPal|   home & garden|       1|          19|       Patelhaven|     mobile|207.245.198.231|3085 Johnson Gard...|3085 Johnson Gard...|            0|             183|              20|\n",
            "|edf09a98-8979-487...|bd155fc7-e770-4f9...|            673.88|2024-02-16 00:00:51|    debit card|        clothing|       3|          39|      North Kevin|     mobile|   15.80.83.117|45848 Brooks Spur...|45848 Brooks Spur...|            0|             252|               0|\n",
            "|d5874431-acf6-4e6...|af33c8fd-389f-461...|             81.85|2024-01-21 06:39:47|   credit card|        clothing|       1|          42|   East Jamesberg|     tablet|     93.12.0.42|916 Jeffrey Path\\...|765 Wallace Branc...|            0|             256|               6|\n",
            "|c2416e98-ac7f-4de...|388697ca-a3cd-410...|            715.28|2024-03-12 21:30:06|   credit card|   home & garden|       2|          35|       Mercadoton|    desktop|  87.98.167.231|75532 Kimberly Co...|5731 Phillips Ext...|            0|             179|              21|\n",
            "|5766ae23-899a-45c...|8fabfafb-2cf0-4ef...|            134.73|2024-02-14 14:08:21| bank transfer| health & beauty|       2|          30|      East Amanda|    desktop| 74.174.105.142|7315 Cohen Ports ...|7315 Cohen Ports ...|            0|              73|              14|\n",
            "|41832d98-1738-494...|85c4357f-548d-409...|            329.44|2024-02-17 22:57:28|        PayPal|    toys & games|       4|          35| West Christopher|     tablet|  19.243.24.189|0329 Hodges Terra...|138 Hunt Mountain...|            0|             330|              22|\n",
            "|3c3ab2bf-d4c5-405...|94451ad3-be7e-460...|             64.53|2024-02-17 14:56:49|    debit card|     electronics|       3|          36|South Gregorytown|    desktop| 196.199.123.24|Unit 8016 Box 041...|USNS Johnston\\nFP...|            0|             286|              14|\n",
            "|0c726f23-8af8-465...|ee08ef28-f5a6-49c...|             293.2|2024-03-17 15:51:30|        PayPal| health & beauty|       3|          28|       North Mark|    desktop|    95.72.28.52|8094 Nicholas Gar...|8094 Nicholas Gar...|            0|              95|              15|\n",
            "|c5cbd2b8-535f-444...|78b5ccd5-fe87-4be...|            183.04|2024-01-23 23:39:58| bank transfer|     electronics|       5|          34|        Lopezfort|     tablet| 134.197.81.134|8756 Carter Lodge...|8756 Carter Lodge...|            0|             183|              23|\n",
            "+--------------------+--------------------+------------------+-------------------+--------------+----------------+--------+------------+-----------------+-----------+---------------+--------------------+--------------------+-------------+----------------+----------------+\n",
            "only showing top 20 rows\n",
            "\n"
          ]
        }
      ]
    },
    {
      "cell_type": "markdown",
      "source": [
        "El método `select()` permite especificar un subconjunto de columnas para incluir en un nuevo DataFrame. Aquí, seleccionamos solo las columnas 'Transaction ID', 'Transaction Amount' y 'Is Fraudulent' de df. Este enfoque es útil para enfocar el análisis en ciertas características de interés o para reducir la carga de memoria al trabajar solo con las columnas relevantes."
      ],
      "metadata": {
        "id": "Wx30UsPEdw80"
      }
    },
    {
      "cell_type": "code",
      "source": [
        "# Seleccionar partes del dataframe\n",
        "df.select(['Transaction ID','Transaction Amount', 'Is Fraudulent']).show()"
      ],
      "metadata": {
        "colab": {
          "base_uri": "https://localhost:8080/"
        },
        "id": "IdIRebAuis1y",
        "outputId": "e0ea915f-d009-4652-f063-bdeae2a36c6b"
      },
      "execution_count": null,
      "outputs": [
        {
          "output_type": "stream",
          "name": "stdout",
          "text": [
            "+--------------------+------------------+-------------+\n",
            "|      Transaction ID|Transaction Amount|Is Fraudulent|\n",
            "+--------------------+------------------+-------------+\n",
            "|15d2e414-8735-46f...|             58.09|            0|\n",
            "|0bfee1a0-6d5e-40d...|            389.96|            0|\n",
            "|e588eef4-b754-468...|            134.19|            0|\n",
            "|4de46e52-60c3-49d...|            226.17|            0|\n",
            "|074a76de-fe2d-443...|            121.53|            0|\n",
            "|4e707452-7c8a-4cb...|            166.41|            0|\n",
            "|7ed952fe-8ae1-4f1...|             92.88|            0|\n",
            "|0b2fb5aa-7171-472...|            318.14|            0|\n",
            "|1f52366c-7f40-439...|             47.92|            0|\n",
            "|3f10dfde-9c4c-408...|            121.78|            0|\n",
            "|75f19b14-516c-4f1...|            633.39|            0|\n",
            "|0dae14e6-aca5-48b...|             56.31|            0|\n",
            "|fb09ac9b-8c76-4ca...|            275.87|            0|\n",
            "|3a25fa55-ec25-4b4...|            178.94|            0|\n",
            "|c696ffee-f01d-444...|            374.04|            0|\n",
            "|e3ac696e-978c-43c...|            169.04|            0|\n",
            "|e3c1a8ee-6455-4a3...|            254.48|            0|\n",
            "|08ded43b-24bf-400...|            266.06|            0|\n",
            "|0c0345fa-406b-406...|            263.28|            0|\n",
            "|8501d4c2-10e4-4ae...|            475.76|            0|\n",
            "+--------------------+------------------+-------------+\n",
            "only showing top 20 rows\n",
            "\n"
          ]
        }
      ]
    },
    {
      "cell_type": "markdown",
      "source": [
        "`dtypes` retorna una lista de tuplas con los nombres de las columnas y sus tipos de datos correspondientes en el DataFrame df. Este atributo no es un método y se utiliza para obtener rápidamente el esquema de datos de un DataFrame en términos de tipos de Python, lo que es crucial para la validación de datos y la planificación de operaciones de transformación y análisis."
      ],
      "metadata": {
        "id": "DBM9mosad2_m"
      }
    },
    {
      "cell_type": "code",
      "source": [
        "df.dtypes"
      ],
      "metadata": {
        "colab": {
          "base_uri": "https://localhost:8080/"
        },
        "id": "r28UJw1fixy2",
        "outputId": "c97370e6-33d7-4ad4-fede-df00d1319ed5"
      },
      "execution_count": null,
      "outputs": [
        {
          "output_type": "execute_result",
          "data": {
            "text/plain": [
              "[('Transaction ID', 'string'),\n",
              " ('Customer ID', 'string'),\n",
              " ('Transaction Amount', 'double'),\n",
              " ('Transaction Date', 'string'),\n",
              " ('Payment Method', 'string'),\n",
              " ('Product Category', 'string'),\n",
              " ('Quantity', 'bigint'),\n",
              " ('Customer Age', 'bigint'),\n",
              " ('Customer Location', 'string'),\n",
              " ('Device Used', 'string'),\n",
              " ('IP Address', 'string'),\n",
              " ('Shipping Address', 'string'),\n",
              " ('Billing Address', 'string'),\n",
              " ('Is Fraudulent', 'bigint'),\n",
              " ('Account Age Days', 'bigint'),\n",
              " ('Transaction Hour', 'bigint')]"
            ]
          },
          "metadata": {},
          "execution_count": 43
        }
      ]
    },
    {
      "cell_type": "markdown",
      "source": [
        "> **Pregunta ❓**: ¿Qué pasa si quiero cambiar el tipo de dato de una columna?"
      ],
      "metadata": {
        "id": "7k-SzTH6eAR4"
      }
    },
    {
      "cell_type": "markdown",
      "source": [
        "```python\n",
        "df[col_name].cast(new_type)\n",
        "```\n",
        "\n",
        "`.cast()` se utiliza para cambiar el tipo de datos de una columna específica en el DataFrame df. Aquí, col_name es el nombre de la columna que quieres modificar, y new_type es el nuevo tipo de datos que deseas aplicar a la columna. El método cast(new_type) es especialmente útil para asegurar que los tipos de datos de tus columnas se alineen con las operaciones analíticas que planeas realizar."
      ],
      "metadata": {
        "id": "GenfAxfHepj0"
      }
    },
    {
      "cell_type": "markdown",
      "source": [
        "A diferencia de Pandas, donde las operaciones pueden aplicarse a múltiples columnas de manera simultánea, este método en PySpark se ejecuta individualmente en una sola columna. Por lo tanto, si necesitas aplicar cambios a varias columnas, sería conveniente definir una función como la siguiente para automatizar el proceso:"
      ],
      "metadata": {
        "id": "D7s0ss0_e2yj"
      }
    },
    {
      "cell_type": "code",
      "source": [
        "from pyspark.sql.types import StringType, IntegerType, FloatType\n",
        "\n",
        "\n",
        "def cast_columns(df, cols_types):\n",
        "    \"\"\"\n",
        "    Cambia el tipo de múltiples columnas en un DataFrame de Spark.\n",
        "\n",
        "    Parámetros:\n",
        "    - df: DataFrame de Spark.\n",
        "    - cols_types: Diccionario con nombres de columnas como claves y tipos de datos de Spark como valores.\n",
        "\n",
        "    Retorna:\n",
        "    - DataFrame de Spark con tipos de columnas modificados.\n",
        "    \"\"\"\n",
        "    for col_name, new_type in cols_types.items():\n",
        "        df = df.withColumn(col_name, df[col_name].cast(new_type))\n",
        "    return df\n",
        "\n",
        "# Ejemplo de uso\n",
        "cols_to_cast = {\"Quantity\": IntegerType(), \"Is Fraudulent\": FloatType()}\n",
        "df_con_casteo = cast_columns(df, cols_to_cast)\n",
        "df_con_casteo.printSchema()"
      ],
      "metadata": {
        "colab": {
          "base_uri": "https://localhost:8080/"
        },
        "id": "7EdQDbeEk4Gs",
        "outputId": "88d62b9d-40c0-4c9e-fc56-92907a40531c"
      },
      "execution_count": null,
      "outputs": [
        {
          "output_type": "stream",
          "name": "stdout",
          "text": [
            "root\n",
            " |-- Transaction ID: string (nullable = true)\n",
            " |-- Customer ID: string (nullable = true)\n",
            " |-- Transaction Amount: double (nullable = true)\n",
            " |-- Transaction Date: string (nullable = true)\n",
            " |-- Payment Method: string (nullable = true)\n",
            " |-- Product Category: string (nullable = true)\n",
            " |-- Quantity: integer (nullable = true)\n",
            " |-- Customer Age: long (nullable = true)\n",
            " |-- Customer Location: string (nullable = true)\n",
            " |-- Device Used: string (nullable = true)\n",
            " |-- IP Address: string (nullable = true)\n",
            " |-- Shipping Address: string (nullable = true)\n",
            " |-- Billing Address: string (nullable = true)\n",
            " |-- Is Fraudulent: float (nullable = true)\n",
            " |-- Account Age Days: long (nullable = true)\n",
            " |-- Transaction Hour: long (nullable = true)\n",
            "\n"
          ]
        }
      ]
    },
    {
      "cell_type": "markdown",
      "source": [
        "`.withColumn()` añade una nueva columna al DataFrame df, llamada 'Transaction Amount CLP', calculada multiplicando cada valor en la columna 'Transaction Amount' por 939.79. Este tipo de operación es útil para realizar conversiones de unidades o calcular nuevos valores basados en datos existentes dentro del DataFrame."
      ],
      "metadata": {
        "id": "nV2JcHxMfRr6"
      }
    },
    {
      "cell_type": "code",
      "source": [
        "### Adding Columns in data frame\n",
        "df=df.withColumn('Transaction Amount CLP',df['Transaction Amount']*939.79)\n",
        "\n",
        "# Mostraro dos elementos para comprobar\n",
        "df.show(2)"
      ],
      "metadata": {
        "colab": {
          "base_uri": "https://localhost:8080/"
        },
        "id": "sxGotcKMizsE",
        "outputId": "56ee6866-b84b-4208-ffd0-1fe93d5541f0"
      },
      "execution_count": null,
      "outputs": [
        {
          "output_type": "stream",
          "name": "stdout",
          "text": [
            "+--------------------+--------------------+------------------+-------------------+--------------+----------------+--------+------------+-----------------+-----------+---------------+--------------------+--------------------+-------------+----------------+----------------+----------------------+\n",
            "|      Transaction ID|         Customer ID|Transaction Amount|   Transaction Date|Payment Method|Product Category|Quantity|Customer Age|Customer Location|Device Used|     IP Address|    Shipping Address|     Billing Address|Is Fraudulent|Account Age Days|Transaction Hour|Transaction Amount CLP|\n",
            "+--------------------+--------------------+------------------+-------------------+--------------+----------------+--------+------------+-----------------+-----------+---------------+--------------------+--------------------+-------------+----------------+----------------+----------------------+\n",
            "|15d2e414-8735-46f...|d1b87f62-51b2-493...|             58.09|2024-02-20 05:58:41| bank transfer|     electronics|       1|          17|    Amandaborough|     tablet| 212.195.49.198|Unit 8934 Box 005...|Unit 8934 Box 005...|            0|              30|               5|            54592.4011|\n",
            "|0bfee1a0-6d5e-40d...|37de64d5-e901-4a5...|            389.96|2024-02-25 08:09:45|    debit card|     electronics|       2|          40|     East Timothy|    desktop|208.106.249.121|634 May Keys\\nPor...|634 May Keys\\nPor...|            0|              72|               8|           366480.5084|\n",
            "+--------------------+--------------------+------------------+-------------------+--------------+----------------+--------+------------+-----------------+-----------+---------------+--------------------+--------------------+-------------+----------------+----------------+----------------------+\n",
            "only showing top 2 rows\n",
            "\n"
          ]
        }
      ]
    },
    {
      "cell_type": "markdown",
      "source": [
        "Aquí, `drop('Transaction Amount CLP')` elimina la columna 'Transaction Amount CLP' del DataFrame df, y show(10) imprime las primeras filas del DataFrame resultante. Este comando es útil cuando necesitas limpiar tu DataFrame eliminando columnas que ya no son necesarias para tu análisis."
      ],
      "metadata": {
        "id": "QBJGMvRgfXoQ"
      }
    },
    {
      "cell_type": "code",
      "source": [
        "### Drop columns\n",
        "df.drop('Transaction Amount CLP').show(10)"
      ],
      "metadata": {
        "colab": {
          "base_uri": "https://localhost:8080/"
        },
        "id": "qeeM6wkjqrgv",
        "outputId": "97f2becc-f173-4154-918f-fcd6dafe82e7"
      },
      "execution_count": null,
      "outputs": [
        {
          "output_type": "stream",
          "name": "stdout",
          "text": [
            "+--------------------+--------------------+------------------+-------------------+--------------+----------------+--------+------------+-----------------+-----------+---------------+--------------------+--------------------+-------------+----------------+----------------+\n",
            "|      Transaction ID|         Customer ID|Transaction Amount|   Transaction Date|Payment Method|Product Category|Quantity|Customer Age|Customer Location|Device Used|     IP Address|    Shipping Address|     Billing Address|Is Fraudulent|Account Age Days|Transaction Hour|\n",
            "+--------------------+--------------------+------------------+-------------------+--------------+----------------+--------+------------+-----------------+-----------+---------------+--------------------+--------------------+-------------+----------------+----------------+\n",
            "|15d2e414-8735-46f...|d1b87f62-51b2-493...|             58.09|2024-02-20 05:58:41| bank transfer|     electronics|       1|          17|    Amandaborough|     tablet| 212.195.49.198|Unit 8934 Box 005...|Unit 8934 Box 005...|            0|              30|               5|\n",
            "|0bfee1a0-6d5e-40d...|37de64d5-e901-4a5...|            389.96|2024-02-25 08:09:45|    debit card|     electronics|       2|          40|     East Timothy|    desktop|208.106.249.121|634 May Keys\\nPor...|634 May Keys\\nPor...|            0|              72|               8|\n",
            "|e588eef4-b754-468...|1bac88d6-4b22-409...|            134.19|2024-03-18 03:42:55|        PayPal|   home & garden|       2|          22|       Davismouth|     tablet|   76.63.88.212|16282 Dana Falls ...|16282 Dana Falls ...|            0|              63|               3|\n",
            "|4de46e52-60c3-49d...|2357c76e-9253-4ce...|            226.17|2024-03-16 20:41:31| bank transfer|        clothing|       5|          31|         Lynnberg|    desktop| 207.208.171.73|828 Strong Loaf A...|828 Strong Loaf A...|            0|             124|              20|\n",
            "|074a76de-fe2d-443...|45071bc5-9588-43e...|            121.53|2024-01-15 05:08:17| bank transfer|        clothing|       2|          51|     South Nicole|     tablet| 190.172.14.169|29799 Jason Hills...|29799 Jason Hills...|            0|             158|               5|\n",
            "|4e707452-7c8a-4cb...|29616b04-2d5c-472...|            166.41|2024-01-30 10:55:14| bank transfer|    toys & games|       2|          34|     Herreramouth|     tablet|  202.237.29.55|5699 Brittany Vil...|120 Kristi Dale\\n...|            0|              38|              10|\n",
            "|7ed952fe-8ae1-4f1...|fe21ae29-ba4c-424...|             92.88|2024-02-04 19:59:10|        PayPal|    toys & games|       2|          14|        Ramosfort|     tablet|   13.45.27.192|727 Gibson Island...|727 Gibson Island...|            0|             119|              19|\n",
            "|0b2fb5aa-7171-472...|024257c3-5671-4de...|            318.14|2024-02-20 13:30:29|   credit card| health & beauty|       4|          42|       Port Emily|    desktop|131.141.230.185|3914 Davis Union\\...|3914 Davis Union\\...|            0|             251|              13|\n",
            "|1f52366c-7f40-439...|f17640ca-49da-45d...|             47.92|2024-03-03 19:44:00| bank transfer|   home & garden|       4|          38|       Carneyfurt|    desktop| 210.148.17.240|47893 Maldonado S...|47893 Maldonado S...|            0|             190|              19|\n",
            "|3f10dfde-9c4c-408...|aab93e75-582f-445...|            121.78|2024-01-16 21:19:39| bank transfer| health & beauty|       4|          39|       Brockburgh|     mobile| 174.32.252.238|2334 Briana Cente...|2334 Briana Cente...|            0|             343|              21|\n",
            "+--------------------+--------------------+------------------+-------------------+--------------+----------------+--------+------------+-----------------+-----------+---------------+--------------------+--------------------+-------------+----------------+----------------+\n",
            "only showing top 10 rows\n",
            "\n"
          ]
        }
      ]
    },
    {
      "cell_type": "markdown",
      "source": [
        "`.withColumnRenamed()` cambia el nombre de la columna 'Customer ID' a 'User ID' en el DataFrame df. El cambio se refleja inmediatamente en el esquema del DataFrame, y show() permite visualizar las primeras filas para confirmar el cambio. Renombrar columnas puede ser crucial para clarificar el significado de los datos o para estandarizar los nombres de las columnas a través de múltiples DataFrames."
      ],
      "metadata": {
        "id": "kzIwzPFofYMZ"
      }
    },
    {
      "cell_type": "code",
      "source": [
        "# Renombrar columna\n",
        "df.withColumnRenamed('Customer ID','User ID').show()"
      ],
      "metadata": {
        "colab": {
          "base_uri": "https://localhost:8080/"
        },
        "id": "Fg15BMRdi5TU",
        "outputId": "ffd78f7e-8e2f-4c0e-88b5-8640004dafc5"
      },
      "execution_count": null,
      "outputs": [
        {
          "output_type": "stream",
          "name": "stdout",
          "text": [
            "+--------------------+--------------------+------------------+-------------------+--------------+----------------+--------+------------+-----------------+-----------+---------------+--------------------+--------------------+-------------+----------------+----------------+----------------------+\n",
            "|      Transaction ID|             User ID|Transaction Amount|   Transaction Date|Payment Method|Product Category|Quantity|Customer Age|Customer Location|Device Used|     IP Address|    Shipping Address|     Billing Address|Is Fraudulent|Account Age Days|Transaction Hour|Transaction Amount CLP|\n",
            "+--------------------+--------------------+------------------+-------------------+--------------+----------------+--------+------------+-----------------+-----------+---------------+--------------------+--------------------+-------------+----------------+----------------+----------------------+\n",
            "|15d2e414-8735-46f...|d1b87f62-51b2-493...|             58.09|2024-02-20 05:58:41| bank transfer|     electronics|       1|          17|    Amandaborough|     tablet| 212.195.49.198|Unit 8934 Box 005...|Unit 8934 Box 005...|            0|              30|               5|            54592.4011|\n",
            "|0bfee1a0-6d5e-40d...|37de64d5-e901-4a5...|            389.96|2024-02-25 08:09:45|    debit card|     electronics|       2|          40|     East Timothy|    desktop|208.106.249.121|634 May Keys\\nPor...|634 May Keys\\nPor...|            0|              72|               8|           366480.5084|\n",
            "|e588eef4-b754-468...|1bac88d6-4b22-409...|            134.19|2024-03-18 03:42:55|        PayPal|   home & garden|       2|          22|       Davismouth|     tablet|   76.63.88.212|16282 Dana Falls ...|16282 Dana Falls ...|            0|              63|               3|    126110.42009999999|\n",
            "|4de46e52-60c3-49d...|2357c76e-9253-4ce...|            226.17|2024-03-16 20:41:31| bank transfer|        clothing|       5|          31|         Lynnberg|    desktop| 207.208.171.73|828 Strong Loaf A...|828 Strong Loaf A...|            0|             124|              20|           212552.3043|\n",
            "|074a76de-fe2d-443...|45071bc5-9588-43e...|            121.53|2024-01-15 05:08:17| bank transfer|        clothing|       2|          51|     South Nicole|     tablet| 190.172.14.169|29799 Jason Hills...|29799 Jason Hills...|            0|             158|               5|    114212.67869999999|\n",
            "|4e707452-7c8a-4cb...|29616b04-2d5c-472...|            166.41|2024-01-30 10:55:14| bank transfer|    toys & games|       2|          34|     Herreramouth|     tablet|  202.237.29.55|5699 Brittany Vil...|120 Kristi Dale\\n...|            0|              38|              10|           156390.4539|\n",
            "|7ed952fe-8ae1-4f1...|fe21ae29-ba4c-424...|             92.88|2024-02-04 19:59:10|        PayPal|    toys & games|       2|          14|        Ramosfort|     tablet|   13.45.27.192|727 Gibson Island...|727 Gibson Island...|            0|             119|              19|     87287.69519999999|\n",
            "|0b2fb5aa-7171-472...|024257c3-5671-4de...|            318.14|2024-02-20 13:30:29|   credit card| health & beauty|       4|          42|       Port Emily|    desktop|131.141.230.185|3914 Davis Union\\...|3914 Davis Union\\...|            0|             251|              13|    298984.79059999995|\n",
            "|1f52366c-7f40-439...|f17640ca-49da-45d...|             47.92|2024-03-03 19:44:00| bank transfer|   home & garden|       4|          38|       Carneyfurt|    desktop| 210.148.17.240|47893 Maldonado S...|47893 Maldonado S...|            0|             190|              19|            45034.7368|\n",
            "|3f10dfde-9c4c-408...|aab93e75-582f-445...|            121.78|2024-01-16 21:19:39| bank transfer| health & beauty|       4|          39|       Brockburgh|     mobile| 174.32.252.238|2334 Briana Cente...|2334 Briana Cente...|            0|             343|              21|           114447.6262|\n",
            "|75f19b14-516c-4f1...|6a2e1397-e24a-414...|            633.39|2024-01-20 22:11:22|        PayPal|    toys & games|       5|          20|        Craneport|     tablet|201.188.209.214|Unit 7360 Box 518...|55423 Henry Haven...|            0|             285|              22|     595253.5880999999|\n",
            "|0dae14e6-aca5-48b...|a30a5030-1c23-475...|             56.31|2024-02-16 21:08:15|        PayPal|   home & garden|       3|          35|     West Michael|     tablet|  81.95.103.200|3684 Morris Inlet...|3684 Morris Inlet...|            0|             259|              21|            52919.5749|\n",
            "|fb09ac9b-8c76-4ca...|2d86cadf-184e-46c...|            275.87|2024-02-15 11:45:52|   credit card|   home & garden|       5|          45|      Melindafurt|     mobile| 105.173.82.111|4197 Lewis Way\\nM...|075 Monroe Court\\...|            0|             307|              11|    259259.86729999998|\n",
            "|3a25fa55-ec25-4b4...|7be37ed2-b2d6-48b...|            178.94|2024-01-29 15:55:08|    debit card|        clothing|       4|          27|      Deniseburgh|     mobile| 211.46.251.245|298 Taylor Canyon...|298 Taylor Canyon...|            0|             200|              15|           168166.0226|\n",
            "|c696ffee-f01d-444...|bffedad1-43c1-4ef...|            374.04|2024-02-14 13:31:00| bank transfer|   home & garden|       5|          51|      Danielmouth|     tablet|   25.126.229.2|32232 Omar Glens\\...|32232 Omar Glens\\...|            0|              22|              13|           351519.0516|\n",
            "|e3ac696e-978c-43c...|4c80f103-ce9c-4e4...|            169.04|2024-03-04 10:10:58|    debit card|   home & garden|       1|          54|         Lamburgh|     tablet|  1.199.155.117|Unit 4478 Box 382...|Unit 4478 Box 382...|            0|              60|              10|           158862.1016|\n",
            "|e3c1a8ee-6455-4a3...|b4e261d2-2e81-4e5...|            254.48|2024-01-08 08:26:25| bank transfer|     electronics|       4|          20|West Melissashire|    desktop|   52.160.5.136|1117 Braun Courts...|1117 Braun Courts...|            0|             238|               8|    239157.75919999997|\n",
            "|08ded43b-24bf-400...|ed5b5482-fa35-48b...|            266.06|2024-01-26 14:29:25|    debit card|     electronics|       1|          41|     Port Rebecca|     tablet|   194.26.237.2|1228 Torres Squar...|1228 Torres Squar...|            0|             264|              14|           250040.5274|\n",
            "|0c0345fa-406b-406...|e852cd05-3ee9-45a...|            263.28|2024-03-07 22:58:45|    debit card|    toys & games|       3|          30|    East Jonathan|     tablet|166.131.101.195|12872 Kevin Creek...|12872 Kevin Creek...|            0|             159|              22|    247427.91119999997|\n",
            "|8501d4c2-10e4-4ae...|339683a0-3028-449...|            475.76|2024-01-17 10:58:52|        PayPal|        clothing|       2|          29|      Muellerstad|     mobile|  196.101.90.48|3496 Jason Ports\\...|3496 Jason Ports\\...|            0|             143|              10|    447114.49039999995|\n",
            "+--------------------+--------------------+------------------+-------------------+--------------+----------------+--------+------------+-----------------+-----------+---------------+--------------------+--------------------+-------------+----------------+----------------+----------------------+\n",
            "only showing top 20 rows\n",
            "\n"
          ]
        }
      ]
    },
    {
      "cell_type": "code",
      "source": [
        "df_renombrada = df.select(\"*\")\n",
        "for col_name in df_renombrada.columns:\n",
        "  df_renombrada = df_renombrada.withColumnRenamed(col_name, col_name.replace(\" \", \"_\"))\n",
        "df_renombrada.show(3)"
      ],
      "metadata": {
        "colab": {
          "base_uri": "https://localhost:8080/"
        },
        "id": "LrBgNAy6iEsx",
        "outputId": "8bd4aba6-88d4-4c28-c1db-98af061ccc55"
      },
      "execution_count": null,
      "outputs": [
        {
          "output_type": "stream",
          "name": "stdout",
          "text": [
            "+--------------------+--------------------+------------------+-------------------+--------------+----------------+--------+------------+-----------------+-----------+---------------+--------------------+--------------------+-------------+----------------+----------------+----------------------+\n",
            "|      Transaction_ID|         Customer_ID|Transaction_Amount|   Transaction_Date|Payment_Method|Product_Category|Quantity|Customer_Age|Customer_Location|Device_Used|     IP_Address|    Shipping_Address|     Billing_Address|Is_Fraudulent|Account_Age_Days|Transaction_Hour|Transaction_Amount_CLP|\n",
            "+--------------------+--------------------+------------------+-------------------+--------------+----------------+--------+------------+-----------------+-----------+---------------+--------------------+--------------------+-------------+----------------+----------------+----------------------+\n",
            "|15d2e414-8735-46f...|d1b87f62-51b2-493...|             58.09|2024-02-20 05:58:41| bank transfer|     electronics|       1|          17|    Amandaborough|     tablet| 212.195.49.198|Unit 8934 Box 005...|Unit 8934 Box 005...|            0|              30|               5|            54592.4011|\n",
            "|0bfee1a0-6d5e-40d...|37de64d5-e901-4a5...|            389.96|2024-02-25 08:09:45|    debit card|     electronics|       2|          40|     East Timothy|    desktop|208.106.249.121|634 May Keys\\nPor...|634 May Keys\\nPor...|            0|              72|               8|           366480.5084|\n",
            "|e588eef4-b754-468...|1bac88d6-4b22-409...|            134.19|2024-03-18 03:42:55|        PayPal|   home & garden|       2|          22|       Davismouth|     tablet|   76.63.88.212|16282 Dana Falls ...|16282 Dana Falls ...|            0|              63|               3|    126110.42009999999|\n",
            "+--------------------+--------------------+------------------+-------------------+--------------+----------------+--------+------------+-----------------+-----------+---------------+--------------------+--------------------+-------------+----------------+----------------+----------------------+\n",
            "only showing top 3 rows\n",
            "\n"
          ]
        }
      ]
    },
    {
      "cell_type": "markdown",
      "source": [
        "El método `.when()` dentro de un withColumn en PySpark se utiliza para realizar operaciones condicionales sobre los datos de un DataFrame. Funciona de manera similar a las declaraciones IF...ELSE en otros lenguajes de programación, permitiéndote especificar una condición y el valor que debe tomarse cuando esa condición es verdadera. También puedes encadenar múltiples condiciones usando .otherwise() para especificar un valor por defecto si las condiciones anteriores no se cumplen."
      ],
      "metadata": {
        "id": "BEEEBA-5faZy"
      }
    },
    {
      "cell_type": "markdown",
      "source": [
        "En este ejemplo, `when(rand() < umbral_nulo, None).otherwise(df[\"Transaction Amount\"])` introduce valores nulos (None) de manera aleatoria en la columna 'Transaction Amount', basado en un umbral definido por umbral_nulo. La función rand() genera un número aleatorio entre 0 y 1, y si este número es menor que el umbral especificado, el valor en la columna se reemplaza por None (nulo); de lo contrario, se mantiene el valor original. Este enfoque puede ser útil para pruebas o simulaciones que requieren representar la ausencia de datos de manera aleatoria."
      ],
      "metadata": {
        "id": "PvIJiA8lgCr-"
      }
    },
    {
      "cell_type": "code",
      "source": [
        "from pyspark.sql.functions import when, rand, col, sum\n",
        "\n",
        "umbral_nulo = 0.8  # 80% de probabilidad de ser nulo\n",
        "\n",
        "# Agregar nulos aleatoriamente a la columna \"Edad\"\n",
        "df_nulos = (\n",
        "    df\n",
        "    .withColumn(\n",
        "        \"Transaction Amount\",\n",
        "        when(rand() < umbral_nulo, None).otherwise(df[\"Transaction Amount\"])\n",
        "    )\n",
        ")\n",
        "df_nulos = (\n",
        "    df_nulos\n",
        "    .withColumn(\n",
        "        \"Customer Age\",\n",
        "        when(rand() < umbral_nulo, None).otherwise(df_nulos[\"Customer Age\"])\n",
        "    )\n",
        ")"
      ],
      "metadata": {
        "id": "Af9cIXRKps4-"
      },
      "execution_count": null,
      "outputs": []
    },
    {
      "cell_type": "code",
      "source": [
        "df_nulos.show(4)"
      ],
      "metadata": {
        "colab": {
          "base_uri": "https://localhost:8080/"
        },
        "id": "BvA4X3_PnL6W",
        "outputId": "154a14a1-0f86-4348-87c6-f87fd9201b91"
      },
      "execution_count": null,
      "outputs": [
        {
          "output_type": "stream",
          "name": "stdout",
          "text": [
            "+--------------------+--------------------+------------------+-------------------+--------------+----------------+--------+------------+-----------------+-----------+---------------+--------------------+--------------------+-------------+----------------+----------------+----------------------+\n",
            "|      Transaction ID|         Customer ID|Transaction Amount|   Transaction Date|Payment Method|Product Category|Quantity|Customer Age|Customer Location|Device Used|     IP Address|    Shipping Address|     Billing Address|Is Fraudulent|Account Age Days|Transaction Hour|Transaction Amount CLP|\n",
            "+--------------------+--------------------+------------------+-------------------+--------------+----------------+--------+------------+-----------------+-----------+---------------+--------------------+--------------------+-------------+----------------+----------------+----------------------+\n",
            "|15d2e414-8735-46f...|d1b87f62-51b2-493...|              NULL|2024-02-20 05:58:41| bank transfer|     electronics|       1|        NULL|    Amandaborough|     tablet| 212.195.49.198|Unit 8934 Box 005...|Unit 8934 Box 005...|            0|              30|               5|            54592.4011|\n",
            "|0bfee1a0-6d5e-40d...|37de64d5-e901-4a5...|              NULL|2024-02-25 08:09:45|    debit card|     electronics|       2|          40|     East Timothy|    desktop|208.106.249.121|634 May Keys\\nPor...|634 May Keys\\nPor...|            0|              72|               8|           366480.5084|\n",
            "|e588eef4-b754-468...|1bac88d6-4b22-409...|            134.19|2024-03-18 03:42:55|        PayPal|   home & garden|       2|          22|       Davismouth|     tablet|   76.63.88.212|16282 Dana Falls ...|16282 Dana Falls ...|            0|              63|               3|    126110.42009999999|\n",
            "|4de46e52-60c3-49d...|2357c76e-9253-4ce...|              NULL|2024-03-16 20:41:31| bank transfer|        clothing|       5|        NULL|         Lynnberg|    desktop| 207.208.171.73|828 Strong Loaf A...|828 Strong Loaf A...|            0|             124|              20|           212552.3043|\n",
            "+--------------------+--------------------+------------------+-------------------+--------------+----------------+--------+------------+-----------------+-----------+---------------+--------------------+--------------------+-------------+----------------+----------------+----------------------+\n",
            "only showing top 4 rows\n",
            "\n"
          ]
        }
      ]
    },
    {
      "cell_type": "markdown",
      "source": [
        "### Manejo de Nulos"
      ],
      "metadata": {
        "id": "X_5zoeH1ZPdQ"
      }
    },
    {
      "cell_type": "markdown",
      "source": [
        "A diferencia de pandas, Spark no posee un método que le permita calcular directamente los nulos, esto se hace un tanto más complejo:"
      ],
      "metadata": {
        "id": "pg-RC2I_gm9P"
      }
    },
    {
      "cell_type": "code",
      "source": [
        "exprs = [sum(when(col(c).isNull(), 1).otherwise(0)).alias(c) for c in df_nulos.columns]\n",
        "\n",
        "df_nulos.agg(*exprs).show()"
      ],
      "metadata": {
        "colab": {
          "base_uri": "https://localhost:8080/"
        },
        "id": "zRZKbq-Qnobo",
        "outputId": "c1e6b06a-1842-4af2-e8cb-c15f48584edc"
      },
      "execution_count": null,
      "outputs": [
        {
          "output_type": "stream",
          "name": "stdout",
          "text": [
            "+--------------+-----------+------------------+----------------+--------------+----------------+--------+------------+-----------------+-----------+----------+----------------+---------------+-------------+----------------+----------------+----------------------+\n",
            "|Transaction ID|Customer ID|Transaction Amount|Transaction Date|Payment Method|Product Category|Quantity|Customer Age|Customer Location|Device Used|IP Address|Shipping Address|Billing Address|Is Fraudulent|Account Age Days|Transaction Hour|Transaction Amount CLP|\n",
            "+--------------+-----------+------------------+----------------+--------------+----------------+--------+------------+-----------------+-----------+----------+----------------+---------------+-------------+----------------+----------------+----------------------+\n",
            "|             0|          0|            480210|               0|             0|               0|       0|      479940|                0|          0|         0|               0|              0|            0|               0|               0|                     0|\n",
            "+--------------+-----------+------------------+----------------+--------------+----------------+--------+------------+-----------------+-----------+----------+----------------+---------------+-------------+----------------+----------------+----------------------+\n",
            "\n"
          ]
        }
      ]
    },
    {
      "cell_type": "code",
      "source": [
        "exprs"
      ],
      "metadata": {
        "colab": {
          "base_uri": "https://localhost:8080/"
        },
        "id": "mBPZDKgjZw3L",
        "outputId": "0d48f999-c596-418a-d9a1-9a4da806bf51"
      },
      "execution_count": null,
      "outputs": [
        {
          "output_type": "execute_result",
          "data": {
            "text/plain": [
              "[Column<'sum(CASE WHEN (Transaction ID IS NULL) THEN 1 ELSE 0 END) AS `Transaction ID`'>,\n",
              " Column<'sum(CASE WHEN (Customer ID IS NULL) THEN 1 ELSE 0 END) AS `Customer ID`'>,\n",
              " Column<'sum(CASE WHEN (Transaction Amount IS NULL) THEN 1 ELSE 0 END) AS `Transaction Amount`'>,\n",
              " Column<'sum(CASE WHEN (Transaction Date IS NULL) THEN 1 ELSE 0 END) AS `Transaction Date`'>,\n",
              " Column<'sum(CASE WHEN (Payment Method IS NULL) THEN 1 ELSE 0 END) AS `Payment Method`'>,\n",
              " Column<'sum(CASE WHEN (Product Category IS NULL) THEN 1 ELSE 0 END) AS `Product Category`'>,\n",
              " Column<'sum(CASE WHEN (Quantity IS NULL) THEN 1 ELSE 0 END) AS Quantity'>,\n",
              " Column<'sum(CASE WHEN (Customer Age IS NULL) THEN 1 ELSE 0 END) AS `Customer Age`'>,\n",
              " Column<'sum(CASE WHEN (Customer Location IS NULL) THEN 1 ELSE 0 END) AS `Customer Location`'>,\n",
              " Column<'sum(CASE WHEN (Device Used IS NULL) THEN 1 ELSE 0 END) AS `Device Used`'>,\n",
              " Column<'sum(CASE WHEN (IP Address IS NULL) THEN 1 ELSE 0 END) AS `IP Address`'>,\n",
              " Column<'sum(CASE WHEN (Shipping Address IS NULL) THEN 1 ELSE 0 END) AS `Shipping Address`'>,\n",
              " Column<'sum(CASE WHEN (Billing Address IS NULL) THEN 1 ELSE 0 END) AS `Billing Address`'>,\n",
              " Column<'sum(CASE WHEN (Is Fraudulent IS NULL) THEN 1 ELSE 0 END) AS `Is Fraudulent`'>,\n",
              " Column<'sum(CASE WHEN (Account Age Days IS NULL) THEN 1 ELSE 0 END) AS `Account Age Days`'>,\n",
              " Column<'sum(CASE WHEN (Transaction Hour IS NULL) THEN 1 ELSE 0 END) AS `Transaction Hour`'>,\n",
              " Column<'sum(CASE WHEN (Transaction Amount CLP IS NULL) THEN 1 ELSE 0 END) AS `Transaction Amount CLP`'>]"
            ]
          },
          "metadata": {},
          "execution_count": 52
        }
      ]
    },
    {
      "cell_type": "markdown",
      "source": [
        "Sin embargo, métodos como `.dropna()` eliminan las filas del DataFrame que contienen valores nulos (None o NaN) en cualquier columna. Es útil cuando deseas asegurar que tu análisis o los modelos de machine learning no se vean afectados por datos incompletos."
      ],
      "metadata": {
        "id": "2_w7-4Q4guQW"
      }
    },
    {
      "cell_type": "code",
      "source": [
        "df_nulos.count()"
      ],
      "metadata": {
        "colab": {
          "base_uri": "https://localhost:8080/"
        },
        "id": "zsybP4Fhnktz",
        "outputId": "cd15d679-1dba-45fd-ec9f-42374e1e42da"
      },
      "execution_count": null,
      "outputs": [
        {
          "output_type": "execute_result",
          "data": {
            "text/plain": [
              "600000"
            ]
          },
          "metadata": {},
          "execution_count": 53
        }
      ]
    },
    {
      "cell_type": "code",
      "source": [
        "df_nulos.dropna().count()"
      ],
      "metadata": {
        "colab": {
          "base_uri": "https://localhost:8080/"
        },
        "id": "gHTsoNWjnAcZ",
        "outputId": "c7534dab-bdd8-4174-f985-d44f8c49647b"
      },
      "execution_count": null,
      "outputs": [
        {
          "output_type": "execute_result",
          "data": {
            "text/plain": [
              "23927"
            ]
          },
          "metadata": {},
          "execution_count": 54
        }
      ]
    },
    {
      "cell_type": "code",
      "source": [
        "# Drop si cualquiera de las columnas tiene un nulo\n",
        "df_nulos.dropna(how=\"any\").count()"
      ],
      "metadata": {
        "colab": {
          "base_uri": "https://localhost:8080/"
        },
        "id": "4k-Sg97SnKWt",
        "outputId": "fffccb36-7fef-4531-a0a3-147db2afbd1c"
      },
      "execution_count": null,
      "outputs": [
        {
          "output_type": "execute_result",
          "data": {
            "text/plain": [
              "23927"
            ]
          },
          "metadata": {},
          "execution_count": 55
        }
      ]
    },
    {
      "cell_type": "code",
      "source": [
        "# Drop si todas las columnas tiene un nulo\n",
        "df_nulos.dropna(how=\"all\").count()"
      ],
      "metadata": {
        "colab": {
          "base_uri": "https://localhost:8080/"
        },
        "id": "T6uT4EO2kSFP",
        "outputId": "53bfbcb4-cbff-49d6-b097-ac4a7ed80c51"
      },
      "execution_count": null,
      "outputs": [
        {
          "output_type": "execute_result",
          "data": {
            "text/plain": [
              "600000"
            ]
          },
          "metadata": {},
          "execution_count": 56
        }
      ]
    },
    {
      "cell_type": "code",
      "source": [
        "# Subset\n",
        "df_nulos.dropna(how=\"any\",subset=['Transaction Amount']).count()"
      ],
      "metadata": {
        "colab": {
          "base_uri": "https://localhost:8080/"
        },
        "id": "QLOLCw50nUW3",
        "outputId": "968b6772-ecf8-490c-bf76-bc966eed38fd"
      },
      "execution_count": null,
      "outputs": [
        {
          "output_type": "execute_result",
          "data": {
            "text/plain": [
              "119790"
            ]
          },
          "metadata": {},
          "execution_count": 57
        }
      ]
    },
    {
      "cell_type": "markdown",
      "source": [
        "Por otro lado, para rellenar los valores nulos en el DataFrame df con un valor específico que proporcionas (valor). Este método puede aplicarse a todo el DataFrame o especificarse para ciertas columnas, mejorando la calidad de los datos para el análisis al tratar con valores ausentes."
      ],
      "metadata": {
        "id": "ZMU1vYy-iRt7"
      }
    },
    {
      "cell_type": "code",
      "source": [
        "# Fill con un valor que desees\n",
        "df_filled = df_nulos.fillna({'Customer Age': -18})\n",
        "# Buscamos los nulos rellenados\n",
        "df_filled.filter(df_filled['Customer Age']==-18).show(4)"
      ],
      "metadata": {
        "colab": {
          "base_uri": "https://localhost:8080/"
        },
        "id": "DypjDdYTnWMV",
        "outputId": "dc591367-047c-4c9b-e58b-6fd5bc621cdd"
      },
      "execution_count": null,
      "outputs": [
        {
          "output_type": "stream",
          "name": "stdout",
          "text": [
            "+--------------------+--------------------+------------------+-------------------+--------------+----------------+--------+------------+-----------------+-----------+--------------+--------------------+--------------------+-------------+----------------+----------------+----------------------+\n",
            "|      Transaction ID|         Customer ID|Transaction Amount|   Transaction Date|Payment Method|Product Category|Quantity|Customer Age|Customer Location|Device Used|    IP Address|    Shipping Address|     Billing Address|Is Fraudulent|Account Age Days|Transaction Hour|Transaction Amount CLP|\n",
            "+--------------------+--------------------+------------------+-------------------+--------------+----------------+--------+------------+-----------------+-----------+--------------+--------------------+--------------------+-------------+----------------+----------------+----------------------+\n",
            "|15d2e414-8735-46f...|d1b87f62-51b2-493...|              NULL|2024-02-20 05:58:41| bank transfer|     electronics|       1|         -18|    Amandaborough|     tablet|212.195.49.198|Unit 8934 Box 005...|Unit 8934 Box 005...|            0|              30|               5|            54592.4011|\n",
            "|4de46e52-60c3-49d...|2357c76e-9253-4ce...|              NULL|2024-03-16 20:41:31| bank transfer|        clothing|       5|         -18|         Lynnberg|    desktop|207.208.171.73|828 Strong Loaf A...|828 Strong Loaf A...|            0|             124|              20|           212552.3043|\n",
            "|4e707452-7c8a-4cb...|29616b04-2d5c-472...|              NULL|2024-01-30 10:55:14| bank transfer|    toys & games|       2|         -18|     Herreramouth|     tablet| 202.237.29.55|5699 Brittany Vil...|120 Kristi Dale\\n...|            0|              38|              10|           156390.4539|\n",
            "|7ed952fe-8ae1-4f1...|fe21ae29-ba4c-424...|              NULL|2024-02-04 19:59:10|        PayPal|    toys & games|       2|         -18|        Ramosfort|     tablet|  13.45.27.192|727 Gibson Island...|727 Gibson Island...|            0|             119|              19|     87287.69519999999|\n",
            "+--------------------+--------------------+------------------+-------------------+--------------+----------------+--------+------------+-----------------+-----------+--------------+--------------------+--------------------+-------------+----------------+----------------+----------------------+\n",
            "only showing top 4 rows\n",
            "\n"
          ]
        }
      ]
    },
    {
      "cell_type": "markdown",
      "source": [
        "> **Pregunta ❓**: ¿Existe algún método más inteligente para rellenar nulos?"
      ],
      "metadata": {
        "id": "wP6JNLOXiex1"
      }
    },
    {
      "cell_type": "code",
      "source": [
        "# Extra\n",
        "from pyspark.ml.feature import Imputer\n",
        "\n",
        "columns_to_impute = ['Transaction Amount', 'Customer Age']\n",
        "imputer = Imputer(\n",
        "  inputCols = columns_to_impute,\n",
        "  outputCols = [\"{}_imputed\".format(c) for c in columns_to_impute],\n",
        "  strategy = 'median'\n",
        ")"
      ],
      "metadata": {
        "id": "A4jnbKlLnifi"
      },
      "execution_count": null,
      "outputs": []
    },
    {
      "cell_type": "code",
      "source": [
        "imputer_model = imputer.fit(df_nulos)\n",
        "df_imputed = imputer_model.transform(df_nulos)\n",
        "(\n",
        "    df_imputed\n",
        "    .filter(\n",
        "        # (df_imputed['Transaction Amount'].isNull())\n",
        "        (df_imputed['Customer Age'].isNull())\n",
        "    ).show(4)\n",
        ")"
      ],
      "metadata": {
        "colab": {
          "base_uri": "https://localhost:8080/"
        },
        "id": "DYzn5TPnci2J",
        "outputId": "381ba647-fae6-4477-befe-fb92183344f6"
      },
      "execution_count": null,
      "outputs": [
        {
          "output_type": "stream",
          "name": "stdout",
          "text": [
            "+--------------------+--------------------+------------------+-------------------+--------------+----------------+--------+------------+-----------------+-----------+--------------+--------------------+--------------------+-------------+----------------+----------------+----------------------+--------------------------+--------------------+\n",
            "|      Transaction ID|         Customer ID|Transaction Amount|   Transaction Date|Payment Method|Product Category|Quantity|Customer Age|Customer Location|Device Used|    IP Address|    Shipping Address|     Billing Address|Is Fraudulent|Account Age Days|Transaction Hour|Transaction Amount CLP|Transaction Amount_imputed|Customer Age_imputed|\n",
            "+--------------------+--------------------+------------------+-------------------+--------------+----------------+--------+------------+-----------------+-----------+--------------+--------------------+--------------------+-------------+----------------+----------------+----------------------+--------------------------+--------------------+\n",
            "|15d2e414-8735-46f...|d1b87f62-51b2-493...|              NULL|2024-02-20 05:58:41| bank transfer|     electronics|       1|        NULL|    Amandaborough|     tablet|212.195.49.198|Unit 8934 Box 005...|Unit 8934 Box 005...|            0|              30|               5|            54592.4011|                    151.11|                  34|\n",
            "|4de46e52-60c3-49d...|2357c76e-9253-4ce...|              NULL|2024-03-16 20:41:31| bank transfer|        clothing|       5|        NULL|         Lynnberg|    desktop|207.208.171.73|828 Strong Loaf A...|828 Strong Loaf A...|            0|             124|              20|           212552.3043|                    151.11|                  34|\n",
            "|4e707452-7c8a-4cb...|29616b04-2d5c-472...|              NULL|2024-01-30 10:55:14| bank transfer|    toys & games|       2|        NULL|     Herreramouth|     tablet| 202.237.29.55|5699 Brittany Vil...|120 Kristi Dale\\n...|            0|              38|              10|           156390.4539|                    151.11|                  34|\n",
            "|7ed952fe-8ae1-4f1...|fe21ae29-ba4c-424...|              NULL|2024-02-04 19:59:10|        PayPal|    toys & games|       2|        NULL|        Ramosfort|     tablet|  13.45.27.192|727 Gibson Island...|727 Gibson Island...|            0|             119|              19|     87287.69519999999|                    151.11|                  34|\n",
            "+--------------------+--------------------+------------------+-------------------+--------------+----------------+--------+------------+-----------------+-----------+--------------+--------------------+--------------------+-------------+----------------+----------------+----------------------+--------------------------+--------------------+\n",
            "only showing top 4 rows\n",
            "\n"
          ]
        }
      ]
    },
    {
      "cell_type": "markdown",
      "source": [
        "### Manejo de Filtros"
      ],
      "metadata": {
        "id": "YSmD6BfVZpco"
      }
    },
    {
      "cell_type": "markdown",
      "source": [
        "`.filter` filtra las filas del DataFrame df para incluir solo aquellas que cumplen con la condición especificada. La condicion puede ser una expresión lógica aplicada a las columnas del DataFrame. Es una herramienta esencial para refinar tus conjuntos de datos, seleccionando solo las partes de interés."
      ],
      "metadata": {
        "id": "y3wTZS9-ipwV"
      }
    },
    {
      "cell_type": "markdown",
      "source": [
        "Una forma simple de hacer esto, es señalando a traves de un `str` la condición que quieres filtrar:"
      ],
      "metadata": {
        "id": "EokgdxSui04o"
      }
    },
    {
      "cell_type": "code",
      "source": [
        "df.filter(\"Quantity<=3\").show()"
      ],
      "metadata": {
        "colab": {
          "base_uri": "https://localhost:8080/"
        },
        "id": "wkbAqx25c9hX",
        "outputId": "930b7dcf-b143-400b-9fb0-09d0577d495b"
      },
      "execution_count": null,
      "outputs": [
        {
          "output_type": "stream",
          "name": "stdout",
          "text": [
            "+--------------------+--------------------+------------------+-------------------+--------------+----------------+--------+------------+-----------------+-----------+---------------+--------------------+--------------------+-------------+----------------+----------------+----------------------+\n",
            "|      Transaction ID|         Customer ID|Transaction Amount|   Transaction Date|Payment Method|Product Category|Quantity|Customer Age|Customer Location|Device Used|     IP Address|    Shipping Address|     Billing Address|Is Fraudulent|Account Age Days|Transaction Hour|Transaction Amount CLP|\n",
            "+--------------------+--------------------+------------------+-------------------+--------------+----------------+--------+------------+-----------------+-----------+---------------+--------------------+--------------------+-------------+----------------+----------------+----------------------+\n",
            "|15d2e414-8735-46f...|d1b87f62-51b2-493...|             58.09|2024-02-20 05:58:41| bank transfer|     electronics|       1|          17|    Amandaborough|     tablet| 212.195.49.198|Unit 8934 Box 005...|Unit 8934 Box 005...|            0|              30|               5|            54592.4011|\n",
            "|0bfee1a0-6d5e-40d...|37de64d5-e901-4a5...|            389.96|2024-02-25 08:09:45|    debit card|     electronics|       2|          40|     East Timothy|    desktop|208.106.249.121|634 May Keys\\nPor...|634 May Keys\\nPor...|            0|              72|               8|           366480.5084|\n",
            "|e588eef4-b754-468...|1bac88d6-4b22-409...|            134.19|2024-03-18 03:42:55|        PayPal|   home & garden|       2|          22|       Davismouth|     tablet|   76.63.88.212|16282 Dana Falls ...|16282 Dana Falls ...|            0|              63|               3|    126110.42009999999|\n",
            "|074a76de-fe2d-443...|45071bc5-9588-43e...|            121.53|2024-01-15 05:08:17| bank transfer|        clothing|       2|          51|     South Nicole|     tablet| 190.172.14.169|29799 Jason Hills...|29799 Jason Hills...|            0|             158|               5|    114212.67869999999|\n",
            "|4e707452-7c8a-4cb...|29616b04-2d5c-472...|            166.41|2024-01-30 10:55:14| bank transfer|    toys & games|       2|          34|     Herreramouth|     tablet|  202.237.29.55|5699 Brittany Vil...|120 Kristi Dale\\n...|            0|              38|              10|           156390.4539|\n",
            "|7ed952fe-8ae1-4f1...|fe21ae29-ba4c-424...|             92.88|2024-02-04 19:59:10|        PayPal|    toys & games|       2|          14|        Ramosfort|     tablet|   13.45.27.192|727 Gibson Island...|727 Gibson Island...|            0|             119|              19|     87287.69519999999|\n",
            "|0dae14e6-aca5-48b...|a30a5030-1c23-475...|             56.31|2024-02-16 21:08:15|        PayPal|   home & garden|       3|          35|     West Michael|     tablet|  81.95.103.200|3684 Morris Inlet...|3684 Morris Inlet...|            0|             259|              21|            52919.5749|\n",
            "|e3ac696e-978c-43c...|4c80f103-ce9c-4e4...|            169.04|2024-03-04 10:10:58|    debit card|   home & garden|       1|          54|         Lamburgh|     tablet|  1.199.155.117|Unit 4478 Box 382...|Unit 4478 Box 382...|            0|              60|              10|           158862.1016|\n",
            "|08ded43b-24bf-400...|ed5b5482-fa35-48b...|            266.06|2024-01-26 14:29:25|    debit card|     electronics|       1|          41|     Port Rebecca|     tablet|   194.26.237.2|1228 Torres Squar...|1228 Torres Squar...|            0|             264|              14|           250040.5274|\n",
            "|0c0345fa-406b-406...|e852cd05-3ee9-45a...|            263.28|2024-03-07 22:58:45|    debit card|    toys & games|       3|          30|    East Jonathan|     tablet|166.131.101.195|12872 Kevin Creek...|12872 Kevin Creek...|            0|             159|              22|    247427.91119999997|\n",
            "|8501d4c2-10e4-4ae...|339683a0-3028-449...|            475.76|2024-01-17 10:58:52|        PayPal|        clothing|       2|          29|      Muellerstad|     mobile|  196.101.90.48|3496 Jason Ports\\...|3496 Jason Ports\\...|            0|             143|              10|    447114.49039999995|\n",
            "|0293493e-7c4f-4b2...|aa5bb186-5693-40e...|            264.24|2024-01-16 07:04:42|   credit card|    toys & games|       3|          33|    Jennifershire|     mobile|   201.24.228.3|5430 Lee Dale\\nRo...|5430 Lee Dale\\nRo...|            0|             150|               7|           248330.1096|\n",
            "|402da312-6957-47a...|1967927c-2316-420...|            123.35|2024-04-02 19:54:47|    debit card|    toys & games|       1|          35| Port Christopher|    desktop|  199.73.51.223|5146 Desiree Ridg...|5146 Desiree Ridg...|            0|              20|              19|    115923.09649999999|\n",
            "|b4c3e417-6627-449...|de73f019-973d-4cf...|            352.67|2024-01-12 23:25:02| bank transfer| health & beauty|       1|          45|        Murrayton|     mobile| 132.248.133.78|5137 Rebecca Rest...|5137 Rebecca Rest...|            0|             189|              23|           331435.7393|\n",
            "|66eecfd6-fa41-4c3...|67c1fbc9-5830-409...|            118.83|2024-02-06 22:06:46|    debit card| health & beauty|       1|          30|        Jasonberg|     mobile| 66.205.254.110|501 Calderon Unde...|501 Calderon Unde...|            0|              79|              22|           111675.2457|\n",
            "|1b46cabd-fa15-47b...|a748a557-cf3d-481...|            267.12|2024-03-09 00:04:37|   credit card|   home & garden|       2|          13|         West Amy|     tablet| 123.118.78.180|37175 Christopher...|37175 Christopher...|            0|              39|               0|           251036.7048|\n",
            "|74118581-84a5-477...|82563528-49f7-480...|            153.05|2024-01-31 03:10:38|    debit card|     electronics|       3|          27|         Ramoston|     mobile|  94.151.244.55|0554 Stephen Radi...|0554 Stephen Radi...|            0|             177|               3|           143834.8595|\n",
            "|bb26a794-4d18-4ef...|29104f1d-3db9-425...|            615.52|2024-02-09 16:59:12|   credit card| health & beauty|       3|          46| West Richardbury|     mobile|190.153.209.188|935 Aaron Corners...|935 Aaron Corners...|            0|             238|              16|           578459.5408|\n",
            "|0a5ba20d-69d5-4ff...|5e031e9e-87de-4db...|             31.08|2024-01-17 13:18:27|        PayPal|        clothing|       2|          32|   Lake Jimmyfurt|     tablet|   78.50.82.205|68408 Vanessa Pas...|68408 Vanessa Pas...|            1|             147|              13|    29208.673199999997|\n",
            "|4fef0df1-e9d7-41b...|221ff13a-1429-47b...|            141.89|2024-03-29 04:57:16|    debit card|        clothing|       3|          32|      Robbinsport|     mobile| 206.94.162.125|642 Moss Wall Sui...|642 Moss Wall Sui...|            0|             334|               4|           133346.8031|\n",
            "+--------------------+--------------------+------------------+-------------------+--------------+----------------+--------+------------+-----------------+-----------+---------------+--------------------+--------------------+-------------+----------------+----------------+----------------------+\n",
            "only showing top 20 rows\n",
            "\n"
          ]
        }
      ]
    },
    {
      "cell_type": "markdown",
      "source": [
        "Por otro lado, hay una forma más similar a Pandas, esta forma utiliza el objeto `Column` de spark para realizar el filtro."
      ],
      "metadata": {
        "id": "NAh4XOsNiylW"
      }
    },
    {
      "cell_type": "code",
      "source": [
        "df.filter(df['Transaction Amount']>200).show()"
      ],
      "metadata": {
        "colab": {
          "base_uri": "https://localhost:8080/"
        },
        "id": "PhCg6KmTrX9X",
        "outputId": "bdb2faae-b09c-49da-ddf1-c9a210cf2db3"
      },
      "execution_count": null,
      "outputs": [
        {
          "output_type": "stream",
          "name": "stdout",
          "text": [
            "+--------------------+--------------------+------------------+-------------------+--------------+----------------+--------+------------+-----------------+-----------+---------------+--------------------+--------------------+-------------+----------------+----------------+----------------------+\n",
            "|      Transaction ID|         Customer ID|Transaction Amount|   Transaction Date|Payment Method|Product Category|Quantity|Customer Age|Customer Location|Device Used|     IP Address|    Shipping Address|     Billing Address|Is Fraudulent|Account Age Days|Transaction Hour|Transaction Amount CLP|\n",
            "+--------------------+--------------------+------------------+-------------------+--------------+----------------+--------+------------+-----------------+-----------+---------------+--------------------+--------------------+-------------+----------------+----------------+----------------------+\n",
            "|0bfee1a0-6d5e-40d...|37de64d5-e901-4a5...|            389.96|2024-02-25 08:09:45|    debit card|     electronics|       2|          40|     East Timothy|    desktop|208.106.249.121|634 May Keys\\nPor...|634 May Keys\\nPor...|            0|              72|               8|           366480.5084|\n",
            "|4de46e52-60c3-49d...|2357c76e-9253-4ce...|            226.17|2024-03-16 20:41:31| bank transfer|        clothing|       5|          31|         Lynnberg|    desktop| 207.208.171.73|828 Strong Loaf A...|828 Strong Loaf A...|            0|             124|              20|           212552.3043|\n",
            "|0b2fb5aa-7171-472...|024257c3-5671-4de...|            318.14|2024-02-20 13:30:29|   credit card| health & beauty|       4|          42|       Port Emily|    desktop|131.141.230.185|3914 Davis Union\\...|3914 Davis Union\\...|            0|             251|              13|    298984.79059999995|\n",
            "|75f19b14-516c-4f1...|6a2e1397-e24a-414...|            633.39|2024-01-20 22:11:22|        PayPal|    toys & games|       5|          20|        Craneport|     tablet|201.188.209.214|Unit 7360 Box 518...|55423 Henry Haven...|            0|             285|              22|     595253.5880999999|\n",
            "|fb09ac9b-8c76-4ca...|2d86cadf-184e-46c...|            275.87|2024-02-15 11:45:52|   credit card|   home & garden|       5|          45|      Melindafurt|     mobile| 105.173.82.111|4197 Lewis Way\\nM...|075 Monroe Court\\...|            0|             307|              11|    259259.86729999998|\n",
            "|c696ffee-f01d-444...|bffedad1-43c1-4ef...|            374.04|2024-02-14 13:31:00| bank transfer|   home & garden|       5|          51|      Danielmouth|     tablet|   25.126.229.2|32232 Omar Glens\\...|32232 Omar Glens\\...|            0|              22|              13|           351519.0516|\n",
            "|e3c1a8ee-6455-4a3...|b4e261d2-2e81-4e5...|            254.48|2024-01-08 08:26:25| bank transfer|     electronics|       4|          20|West Melissashire|    desktop|   52.160.5.136|1117 Braun Courts...|1117 Braun Courts...|            0|             238|               8|    239157.75919999997|\n",
            "|08ded43b-24bf-400...|ed5b5482-fa35-48b...|            266.06|2024-01-26 14:29:25|    debit card|     electronics|       1|          41|     Port Rebecca|     tablet|   194.26.237.2|1228 Torres Squar...|1228 Torres Squar...|            0|             264|              14|           250040.5274|\n",
            "|0c0345fa-406b-406...|e852cd05-3ee9-45a...|            263.28|2024-03-07 22:58:45|    debit card|    toys & games|       3|          30|    East Jonathan|     tablet|166.131.101.195|12872 Kevin Creek...|12872 Kevin Creek...|            0|             159|              22|    247427.91119999997|\n",
            "|8501d4c2-10e4-4ae...|339683a0-3028-449...|            475.76|2024-01-17 10:58:52|        PayPal|        clothing|       2|          29|      Muellerstad|     mobile|  196.101.90.48|3496 Jason Ports\\...|3496 Jason Ports\\...|            0|             143|              10|    447114.49039999995|\n",
            "|0293493e-7c4f-4b2...|aa5bb186-5693-40e...|            264.24|2024-01-16 07:04:42|   credit card|    toys & games|       3|          33|    Jennifershire|     mobile|   201.24.228.3|5430 Lee Dale\\nRo...|5430 Lee Dale\\nRo...|            0|             150|               7|           248330.1096|\n",
            "|bf43217a-c0d3-4e7...|0d4ba3b2-a21e-411...|            675.74|2024-03-16 10:22:06| bank transfer|        clothing|       4|          18| North Jacobmouth|    desktop|    40.225.6.79|768 Amanda Plain ...|7045 Jones Bridge...|            0|             214|              10|     635053.6945999999|\n",
            "|b4c3e417-6627-449...|de73f019-973d-4cf...|            352.67|2024-01-12 23:25:02| bank transfer| health & beauty|       1|          45|        Murrayton|     mobile| 132.248.133.78|5137 Rebecca Rest...|5137 Rebecca Rest...|            0|             189|              23|           331435.7393|\n",
            "|1b46cabd-fa15-47b...|a748a557-cf3d-481...|            267.12|2024-03-09 00:04:37|   credit card|   home & garden|       2|          13|         West Amy|     tablet| 123.118.78.180|37175 Christopher...|37175 Christopher...|            0|              39|               0|           251036.7048|\n",
            "|bb26a794-4d18-4ef...|29104f1d-3db9-425...|            615.52|2024-02-09 16:59:12|   credit card| health & beauty|       3|          46| West Richardbury|     mobile|190.153.209.188|935 Aaron Corners...|935 Aaron Corners...|            0|             238|              16|           578459.5408|\n",
            "|636856f2-8760-4f7...|145ae1bd-4c17-468...|            355.32|2024-01-18 20:26:43|    debit card|   home & garden|       1|          45|       Morenostad|    desktop|    15.50.77.94|509 James Well Su...|509 James Well Su...|            0|             148|              20|           333926.1828|\n",
            "|2a62cfca-59f6-476...|f0e7a0df-354d-435...|            295.28|2024-03-12 07:28:28| bank transfer|   home & garden|       1|          48|       West Kevin|     mobile| 106.33.166.228|35727 Perez Landi...|35727 Perez Landi...|            0|             173|               7|    277501.19119999994|\n",
            "|ed9801c8-fabb-4fc...|29ae06d3-464d-498...|            264.31|2024-02-16 20:34:07|        PayPal|   home & garden|       5|          52|         Kylestad|    desktop|  70.111.19.233|86656 Douglas Mil...|86656 Douglas Mil...|            0|             298|              20|    248395.89489999998|\n",
            "|fec2c684-e355-483...|c8a9efe6-716f-411...|             244.2|2024-01-22 00:52:01|    debit card|        clothing|       4|          46|       South Tara|     mobile| 176.246.24.132|77434 Freeman Har...|77434 Freeman Har...|            0|             190|               0|            229496.718|\n",
            "|53740e77-0a7a-4dc...|d5eb75bb-0654-45c...|            404.27|2024-01-20 03:22:35|   credit card|     electronics|       2|          17|     North Joshua|     mobile| 138.253.244.35|4917 Richard Spur...|4917 Richard Spur...|            0|             348|               3|    379928.90329999995|\n",
            "+--------------------+--------------------+------------------+-------------------+--------------+----------------+--------+------------+-----------------+-----------+---------------+--------------------+--------------------+-------------+----------------+----------------+----------------------+\n",
            "only showing top 20 rows\n",
            "\n"
          ]
        }
      ]
    },
    {
      "cell_type": "markdown",
      "source": [
        "Para el caso quisieramos filtrar con más de una condición, deberiamos usar los simbolos `|` para añadir un \"ó\" y `&` para añadir un \"y\"."
      ],
      "metadata": {
        "id": "mVgg3UiCjF07"
      }
    },
    {
      "cell_type": "code",
      "source": [
        "df.filter((df['Transaction Amount']<=200) & (df['Transaction Amount']>=50)).show()"
      ],
      "metadata": {
        "colab": {
          "base_uri": "https://localhost:8080/"
        },
        "id": "h1smzQ0Pradx",
        "outputId": "86609ca0-a72f-4b1c-c40f-74596c1151d5"
      },
      "execution_count": null,
      "outputs": [
        {
          "output_type": "stream",
          "name": "stdout",
          "text": [
            "+--------------------+--------------------+------------------+-------------------+--------------+----------------+--------+------------+------------------+-----------+---------------+--------------------+--------------------+-------------+----------------+----------------+----------------------+\n",
            "|      Transaction ID|         Customer ID|Transaction Amount|   Transaction Date|Payment Method|Product Category|Quantity|Customer Age| Customer Location|Device Used|     IP Address|    Shipping Address|     Billing Address|Is Fraudulent|Account Age Days|Transaction Hour|Transaction Amount CLP|\n",
            "+--------------------+--------------------+------------------+-------------------+--------------+----------------+--------+------------+------------------+-----------+---------------+--------------------+--------------------+-------------+----------------+----------------+----------------------+\n",
            "|15d2e414-8735-46f...|d1b87f62-51b2-493...|             58.09|2024-02-20 05:58:41| bank transfer|     electronics|       1|          17|     Amandaborough|     tablet| 212.195.49.198|Unit 8934 Box 005...|Unit 8934 Box 005...|            0|              30|               5|            54592.4011|\n",
            "|e588eef4-b754-468...|1bac88d6-4b22-409...|            134.19|2024-03-18 03:42:55|        PayPal|   home & garden|       2|          22|        Davismouth|     tablet|   76.63.88.212|16282 Dana Falls ...|16282 Dana Falls ...|            0|              63|               3|    126110.42009999999|\n",
            "|074a76de-fe2d-443...|45071bc5-9588-43e...|            121.53|2024-01-15 05:08:17| bank transfer|        clothing|       2|          51|      South Nicole|     tablet| 190.172.14.169|29799 Jason Hills...|29799 Jason Hills...|            0|             158|               5|    114212.67869999999|\n",
            "|4e707452-7c8a-4cb...|29616b04-2d5c-472...|            166.41|2024-01-30 10:55:14| bank transfer|    toys & games|       2|          34|      Herreramouth|     tablet|  202.237.29.55|5699 Brittany Vil...|120 Kristi Dale\\n...|            0|              38|              10|           156390.4539|\n",
            "|7ed952fe-8ae1-4f1...|fe21ae29-ba4c-424...|             92.88|2024-02-04 19:59:10|        PayPal|    toys & games|       2|          14|         Ramosfort|     tablet|   13.45.27.192|727 Gibson Island...|727 Gibson Island...|            0|             119|              19|     87287.69519999999|\n",
            "|3f10dfde-9c4c-408...|aab93e75-582f-445...|            121.78|2024-01-16 21:19:39| bank transfer| health & beauty|       4|          39|        Brockburgh|     mobile| 174.32.252.238|2334 Briana Cente...|2334 Briana Cente...|            0|             343|              21|           114447.6262|\n",
            "|0dae14e6-aca5-48b...|a30a5030-1c23-475...|             56.31|2024-02-16 21:08:15|        PayPal|   home & garden|       3|          35|      West Michael|     tablet|  81.95.103.200|3684 Morris Inlet...|3684 Morris Inlet...|            0|             259|              21|            52919.5749|\n",
            "|3a25fa55-ec25-4b4...|7be37ed2-b2d6-48b...|            178.94|2024-01-29 15:55:08|    debit card|        clothing|       4|          27|       Deniseburgh|     mobile| 211.46.251.245|298 Taylor Canyon...|298 Taylor Canyon...|            0|             200|              15|           168166.0226|\n",
            "|e3ac696e-978c-43c...|4c80f103-ce9c-4e4...|            169.04|2024-03-04 10:10:58|    debit card|   home & garden|       1|          54|          Lamburgh|     tablet|  1.199.155.117|Unit 4478 Box 382...|Unit 4478 Box 382...|            0|              60|              10|           158862.1016|\n",
            "|4b798a5c-8400-439...|26695fcc-6a94-40e...|             89.38|2024-02-07 02:13:55|   credit card| health & beauty|       4|          35|    Lake Elizabeth|     mobile|  82.111.15.220|635 Danielle Park...|635 Danielle Park...|            0|             315|               2|     83998.43019999999|\n",
            "|402da312-6957-47a...|1967927c-2316-420...|            123.35|2024-04-02 19:54:47|    debit card|    toys & games|       1|          35|  Port Christopher|    desktop|  199.73.51.223|5146 Desiree Ridg...|5146 Desiree Ridg...|            0|              20|              19|    115923.09649999999|\n",
            "|77f985cd-261c-40c...|a2101086-0387-496...|            199.02|2024-01-27 02:56:50|    debit card|    toys & games|       4|          49|       Maloneshire|     tablet|  165.239.47.50|3469 Coleman Stat...|3469 Coleman Stat...|            0|             316|               2|           187037.0058|\n",
            "|0b5286d8-853b-427...|daebc1ea-4a8a-402...|             53.73|2024-03-15 14:11:33| bank transfer|    toys & games|       4|          48|          Popefort|     mobile| 103.23.100.105|0720 Holmes Garde...|0720 Holmes Garde...|            0|             364|              14|    50494.916699999994|\n",
            "|66eecfd6-fa41-4c3...|67c1fbc9-5830-409...|            118.83|2024-02-06 22:06:46|    debit card| health & beauty|       1|          30|         Jasonberg|     mobile| 66.205.254.110|501 Calderon Unde...|501 Calderon Unde...|            0|              79|              22|           111675.2457|\n",
            "|74118581-84a5-477...|82563528-49f7-480...|            153.05|2024-01-31 03:10:38|    debit card|     electronics|       3|          27|          Ramoston|     mobile|  94.151.244.55|0554 Stephen Radi...|0554 Stephen Radi...|            0|             177|               3|           143834.8595|\n",
            "|4fef0df1-e9d7-41b...|221ff13a-1429-47b...|            141.89|2024-03-29 04:57:16|    debit card|        clothing|       3|          32|       Robbinsport|     mobile| 206.94.162.125|642 Moss Wall Sui...|642 Moss Wall Sui...|            0|             334|               4|           133346.8031|\n",
            "|5433bc54-bd96-47c...|1ac0b1a9-e8ee-430...|            112.27|2024-03-04 00:33:27|   credit card|     electronics|       1|          33|Lake Robertchester|    desktop|  194.90.197.59|213 Rivera Strave...|213 Rivera Strave...|            0|             139|               0|           105510.2233|\n",
            "|247de335-896b-417...|2c644e55-dcb1-457...|             56.33|2024-02-04 07:53:00| bank transfer|        clothing|       4|          38|     Howardborough|    desktop|118.118.247.178|6499 Lee Flat Apt...|78577 Dylan Throu...|            0|             198|               7|            52938.3707|\n",
            "|d9726a32-b097-48d...|977b3c4a-de84-4dc...|            183.16|2024-03-06 08:31:04|        PayPal|    toys & games|       2|          45|     Brookeborough|     mobile|  27.246.31.121|PSC 8417, Box 483...|PSC 8417, Box 483...|            0|             273|               8|    172131.93639999998|\n",
            "|aa4c8ef8-1e0a-465...|32d5ea3a-f5c0-47d...|             71.57|2024-02-17 21:28:09| bank transfer|     electronics|       5|          37|        Medinafort|     tablet|   90.75.141.52|624 Schultz Spurs...|624 Schultz Spurs...|            0|              80|              21|     67260.77029999999|\n",
            "+--------------------+--------------------+------------------+-------------------+--------------+----------------+--------+------------+------------------+-----------+---------------+--------------------+--------------------+-------------+----------------+----------------+----------------------+\n",
            "only showing top 20 rows\n",
            "\n"
          ]
        }
      ]
    },
    {
      "cell_type": "markdown",
      "source": [
        "Finalmente, si deseamos la negación de estos filtros, tendremos que usar el simbolo `~`:\n"
      ],
      "metadata": {
        "id": "louBCcfljTfk"
      }
    },
    {
      "cell_type": "code",
      "source": [
        "df.filter(~(df['Transaction Amount']>=100)).show()"
      ],
      "metadata": {
        "colab": {
          "base_uri": "https://localhost:8080/"
        },
        "id": "f_IQvkf3rd0j",
        "outputId": "770336f2-e27a-4cce-8a29-8a7fb0d4efad"
      },
      "execution_count": null,
      "outputs": [
        {
          "output_type": "stream",
          "name": "stdout",
          "text": [
            "+--------------------+--------------------+------------------+-------------------+--------------+----------------+--------+------------+-----------------+-----------+---------------+--------------------+--------------------+-------------+----------------+----------------+----------------------+\n",
            "|      Transaction ID|         Customer ID|Transaction Amount|   Transaction Date|Payment Method|Product Category|Quantity|Customer Age|Customer Location|Device Used|     IP Address|    Shipping Address|     Billing Address|Is Fraudulent|Account Age Days|Transaction Hour|Transaction Amount CLP|\n",
            "+--------------------+--------------------+------------------+-------------------+--------------+----------------+--------+------------+-----------------+-----------+---------------+--------------------+--------------------+-------------+----------------+----------------+----------------------+\n",
            "|15d2e414-8735-46f...|d1b87f62-51b2-493...|             58.09|2024-02-20 05:58:41| bank transfer|     electronics|       1|          17|    Amandaborough|     tablet| 212.195.49.198|Unit 8934 Box 005...|Unit 8934 Box 005...|            0|              30|               5|            54592.4011|\n",
            "|7ed952fe-8ae1-4f1...|fe21ae29-ba4c-424...|             92.88|2024-02-04 19:59:10|        PayPal|    toys & games|       2|          14|        Ramosfort|     tablet|   13.45.27.192|727 Gibson Island...|727 Gibson Island...|            0|             119|              19|     87287.69519999999|\n",
            "|1f52366c-7f40-439...|f17640ca-49da-45d...|             47.92|2024-03-03 19:44:00| bank transfer|   home & garden|       4|          38|       Carneyfurt|    desktop| 210.148.17.240|47893 Maldonado S...|47893 Maldonado S...|            0|             190|              19|            45034.7368|\n",
            "|0dae14e6-aca5-48b...|a30a5030-1c23-475...|             56.31|2024-02-16 21:08:15|        PayPal|   home & garden|       3|          35|     West Michael|     tablet|  81.95.103.200|3684 Morris Inlet...|3684 Morris Inlet...|            0|             259|              21|            52919.5749|\n",
            "|4b798a5c-8400-439...|26695fcc-6a94-40e...|             89.38|2024-02-07 02:13:55|   credit card| health & beauty|       4|          35|   Lake Elizabeth|     mobile|  82.111.15.220|635 Danielle Park...|635 Danielle Park...|            0|             315|               2|     83998.43019999999|\n",
            "|0b5286d8-853b-427...|daebc1ea-4a8a-402...|             53.73|2024-03-15 14:11:33| bank transfer|    toys & games|       4|          48|         Popefort|     mobile| 103.23.100.105|0720 Holmes Garde...|0720 Holmes Garde...|            0|             364|              14|    50494.916699999994|\n",
            "|39b77e1a-f7aa-428...|0e6c7829-1e94-44e...|             21.24|2024-01-13 19:36:49|    debit card| health & beauty|       5|          49|       Barronview|    desktop|    89.25.29.96|838 Ross Square\\n...|838 Ross Square\\n...|            0|             223|              19|            19961.1396|\n",
            "|0a5ba20d-69d5-4ff...|5e031e9e-87de-4db...|             31.08|2024-01-17 13:18:27|        PayPal|        clothing|       2|          32|   Lake Jimmyfurt|     tablet|   78.50.82.205|68408 Vanessa Pas...|68408 Vanessa Pas...|            1|             147|              13|    29208.673199999997|\n",
            "|8e3efc28-4aa3-4df...|77501c50-72cc-4e4...|             16.05|2024-03-17 01:27:50|   credit card|   home & garden|       3|          22|       West Kevin|     mobile| 116.65.177.140|1832 Greer Trail\\...|1832 Greer Trail\\...|            0|             213|               1|    15083.629500000001|\n",
            "|247de335-896b-417...|2c644e55-dcb1-457...|             56.33|2024-02-04 07:53:00| bank transfer|        clothing|       4|          38|    Howardborough|    desktop|118.118.247.178|6499 Lee Flat Apt...|78577 Dylan Throu...|            0|             198|               7|            52938.3707|\n",
            "|aa4c8ef8-1e0a-465...|32d5ea3a-f5c0-47d...|             71.57|2024-02-17 21:28:09| bank transfer|     electronics|       5|          37|       Medinafort|     tablet|   90.75.141.52|624 Schultz Spurs...|624 Schultz Spurs...|            0|              80|              21|     67260.77029999999|\n",
            "|c217760b-a18e-496...|3e8635c6-939f-4f3...|             43.96|2024-02-19 22:57:27|    debit card|     electronics|       4|          22|   Port Shaneberg|     mobile| 179.59.183.205|45344 Mary Hollow...|45344 Mary Hollow...|            0|             349|              22|            41313.1684|\n",
            "|48bb3bd2-c616-407...|e86a2850-b766-48b...|             87.36|2024-02-21 13:41:02|        PayPal| health & beauty|       5|          39|West Caitlinmouth|     tablet|136.225.140.174|8105 Amber Flats\\...|8105 Amber Flats\\...|            0|               7|              13|            82100.0544|\n",
            "|c1681a49-698d-4ff...|bcb2d89b-74f7-41e...|             96.07|2024-03-15 07:50:40|        PayPal|    toys & games|       3|          24|      Williamside|    desktop| 42.205.203.181|1518 Pineda Manor...|1518 Pineda Manor...|            0|             119|               7|     90285.62529999999|\n",
            "|e9bc401d-d408-4ad...|42c3553c-477c-4ed...|             86.51|2024-01-25 19:12:01|    debit card| health & beauty|       3|          31|    East Erikland|     mobile|  94.208.203.43|17260 Knight Grov...|17260 Knight Grov...|            0|             262|              19|            81301.2329|\n",
            "|286788e3-94bc-4d1...|a1e6015c-7935-436...|             65.03|2024-02-25 00:47:09|    debit card|    toys & games|       2|          17|         Deanside|     mobile|   3.68.182.201|29693 Meyers Row\\...|29693 Meyers Row\\...|            0|             167|               0|            61114.5437|\n",
            "|ccc482ec-51bd-45b...|e6bf9d87-3dc1-4e1...|             22.93|2024-01-29 20:04:26|   credit card|    toys & games|       1|          58|        Richshire|    desktop| 42.203.164.128|747 Green Manors ...|747 Green Manors ...|            0|             103|              20|            21549.3847|\n",
            "|d4d59c86-4003-45e...|e3c8980b-5492-458...|             51.05|2024-02-05 18:09:11|        PayPal|     electronics|       3|          39|        Larryfurt|    desktop| 156.230.136.99|47712 Samantha Sh...|47712 Samantha Sh...|            0|              44|              18|            47976.2795|\n",
            "|6a57a850-189a-4d9...|c09cabd8-696d-4f0...|             10.59|2024-01-11 03:02:57|    debit card|        clothing|       1|          46|  Lake Jamieshire|     tablet|  130.33.173.82|9316 Nicholas Cir...|9316 Nicholas Cir...|            0|             272|               3|             9952.3761|\n",
            "|001588cf-5c96-45a...|787d07ac-26a4-446...|             56.83|2024-01-28 15:36:10|    debit card|    toys & games|       3|          21|   Port Adamhaven|     tablet|134.165.126.136|571 Michael Knoll...|571 Michael Knoll...|            0|             321|              15|    53408.265699999996|\n",
            "+--------------------+--------------------+------------------+-------------------+--------------+----------------+--------+------------+-----------------+-----------+---------------+--------------------+--------------------+-------------+----------------+----------------+----------------------+\n",
            "only showing top 20 rows\n",
            "\n"
          ]
        }
      ]
    },
    {
      "cell_type": "markdown",
      "source": [
        "### Agregaciones"
      ],
      "metadata": {
        "id": "IepveA8tZvvW"
      }
    },
    {
      "cell_type": "markdown",
      "source": [
        "`.groupBy()` Agrupa el DataFrame df por una o más columnas, permitiendo realizar operaciones de agregación sobre los grupos resultantes. Este método es fundamental para el análisis de datos, ya que permite resumir y entender mejor las características distintas de diferentes segmentos o categorías en tus datos."
      ],
      "metadata": {
        "id": "fRtdvpeJjda4"
      }
    },
    {
      "cell_type": "code",
      "source": [
        "df.groupBy('Product Category').sum().show()"
      ],
      "metadata": {
        "colab": {
          "base_uri": "https://localhost:8080/"
        },
        "id": "DL8EwE80c-EC",
        "outputId": "7322bda9-be73-4602-9695-bfe48229aea5"
      },
      "execution_count": null,
      "outputs": [
        {
          "output_type": "stream",
          "name": "stdout",
          "text": [
            "+----------------+-----------------------+-------------+-----------------+------------------+---------------------+---------------------+---------------------------+\n",
            "|Product Category|sum(Transaction Amount)|sum(Quantity)|sum(Customer Age)|sum(Is Fraudulent)|sum(Account Age Days)|sum(Transaction Hour)|sum(Transaction Amount CLP)|\n",
            "+----------------+-----------------------+-------------+-----------------+------------------+---------------------+---------------------+---------------------------+\n",
            "| health & beauty|   2.7234964680000138E7|       360265|          4155478|              5980|             21646699|              1356016|       2.559514745661702E10|\n",
            "|    toys & games|    2.725625052999986E7|       359408|          4132384|              6081|             21573251|              1351441|       2.561515168558887E10|\n",
            "|     electronics|    2.720646268000043E7|       360161|          4137520|              6006|             21584165|              1355189|       2.556836156203693...|\n",
            "|        clothing|     2.71361904500001E7|       359806|          4140709|              5947|             21542791|              1354304|       2.550232042300558E10|\n",
            "|   home & garden|   2.7266836669999953E7|       359476|          4139837|              6146|             21461796|              1356703|       2.562510043409921...|\n",
            "+----------------+-----------------------+-------------+-----------------+------------------+---------------------+---------------------+---------------------------+\n",
            "\n"
          ]
        }
      ]
    },
    {
      "cell_type": "code",
      "source": [
        "df.groupBy('Product Category').avg().show()"
      ],
      "metadata": {
        "colab": {
          "base_uri": "https://localhost:8080/"
        },
        "id": "-2ARzf1RrjOZ",
        "outputId": "6e6a54bb-d3ec-432d-d525-2813247cdf0b"
      },
      "execution_count": null,
      "outputs": [
        {
          "output_type": "stream",
          "name": "stdout",
          "text": [
            "+----------------+-----------------------+------------------+------------------+--------------------+---------------------+---------------------+---------------------------+\n",
            "|Product Category|avg(Transaction Amount)|     avg(Quantity)| avg(Customer Age)|  avg(Is Fraudulent)|avg(Account Age Days)|avg(Transaction Hour)|avg(Transaction Amount CLP)|\n",
            "+----------------+-----------------------+------------------+------------------+--------------------+---------------------+---------------------+---------------------------+\n",
            "| health & beauty|     226.31680804387682|2.9937261093568224| 34.53114508891474| 0.04969253780953964|   179.87949975070634|   11.268206747548613|         212690.27303155244|\n",
            "|    toys & games|     227.39503040971658| 2.998489942684565| 34.47589331153066|0.050732920083762297|   179.98257176943676|    11.27488048855777|         213703.57562875008|\n",
            "|     electronics|     226.74130695314096| 3.001616814874697| 34.48249422863763| 0.05005458833726425|   179.88453108201585|    11.29427697538941|          213089.2128614868|\n",
            "|        clothing|     226.21975282397648| 2.999508148889167|34.518852903172025| 0.04957692468008837|   179.59060481013714|   11.290100454337043|         212599.06150644476|\n",
            "|   home & garden|     227.50232927002205|2.9993074850024612| 34.54095433572793|0.051279484034609066|    179.0676578809041|    11.31972499645399|         213804.41402467366|\n",
            "+----------------+-----------------------+------------------+------------------+--------------------+---------------------+---------------------+---------------------------+\n",
            "\n"
          ]
        }
      ]
    },
    {
      "cell_type": "markdown",
      "source": [
        "Muy similar al método anterior, `.agg()` realiza una operación de agregación sobre el DataFrame df, como max, min, avg, sum, etc., especificada por un diccionario que mapea nombres de columnas a funciones de agregación. Cuando se usa después de groupBy, aplica estas funciones de agregación a cada grupo."
      ],
      "metadata": {
        "id": "-HZ5wNlRjidM"
      }
    },
    {
      "cell_type": "code",
      "source": [
        "(\n",
        "    df\n",
        "    .groupBy(['Product Category', 'Payment Method'])\n",
        "    .agg({'Quantity':'sum', 'Transaction Amount':'mean'})\n",
        "    .show()\n",
        ")"
      ],
      "metadata": {
        "colab": {
          "base_uri": "https://localhost:8080/"
        },
        "id": "AYxusfPprsLQ",
        "outputId": "c2059d38-3fc2-461c-b26b-f26ab332d753"
      },
      "execution_count": null,
      "outputs": [
        {
          "output_type": "stream",
          "name": "stdout",
          "text": [
            "+----------------+--------------+-----------------------+-------------+\n",
            "|Product Category|Payment Method|avg(Transaction Amount)|sum(Quantity)|\n",
            "+----------------+--------------+-----------------------+-------------+\n",
            "| health & beauty|   credit card|      225.1705797437345|        90889|\n",
            "|   home & garden|    debit card|     227.96262454273386|        90231|\n",
            "|   home & garden|        PayPal|     227.29266382099075|        90194|\n",
            "|        clothing|    debit card|     225.37682668183115|        89516|\n",
            "|   home & garden| bank transfer|     226.55064501036057|        89239|\n",
            "| health & beauty|        PayPal|      226.3843668195371|        89372|\n",
            "|     electronics|   credit card|     227.04638911102143|        89870|\n",
            "| health & beauty|    debit card|     226.62497625610175|        89748|\n",
            "|    toys & games|    debit card|     225.43380700000031|        89587|\n",
            "|    toys & games| bank transfer|     228.85355572682707|        89541|\n",
            "|   home & garden|   credit card|      228.2026859476474|        89812|\n",
            "|        clothing|        PayPal|     226.64023987259822|        90336|\n",
            "|     electronics| bank transfer|     228.01993433114407|        89934|\n",
            "|        clothing|   credit card|     225.92690120754048|        90419|\n",
            "|    toys & games|   credit card|      226.9915102692985|        90417|\n",
            "|    toys & games|        PayPal|     228.31009172781842|        89863|\n",
            "|     electronics|    debit card|     226.87006428950167|        90822|\n",
            "| health & beauty| bank transfer|      227.0902975025708|        90256|\n",
            "|        clothing| bank transfer|      226.9367965208039|        89535|\n",
            "|     electronics|        PayPal|      225.0166223743369|        89535|\n",
            "+----------------+--------------+-----------------------+-------------+\n",
            "\n"
          ]
        }
      ]
    },
    {
      "cell_type": "code",
      "source": [
        "import pyspark.sql.functions as F\n",
        "(\n",
        "    df\n",
        "    .groupBy(['Product Category', 'Payment Method'])\n",
        "    .agg(\n",
        "        F.mean(F.col('Transaction Amount')).alias('Avg Transaction Amount'),\n",
        "        F.sum(F.col('Quantity')).alias('Total Quantity')\n",
        "    )\n",
        "    .show()\n",
        ")"
      ],
      "metadata": {
        "colab": {
          "base_uri": "https://localhost:8080/"
        },
        "id": "Y-LuzMRNeE04",
        "outputId": "8aabe642-be0c-4850-d7f8-2361364c39ad"
      },
      "execution_count": null,
      "outputs": [
        {
          "output_type": "stream",
          "name": "stdout",
          "text": [
            "+----------------+--------------+----------------------+--------------+\n",
            "|Product Category|Payment Method|Avg Transaction Amount|Total Quantity|\n",
            "+----------------+--------------+----------------------+--------------+\n",
            "| health & beauty|   credit card|     225.1705797437345|         90889|\n",
            "|   home & garden|    debit card|    227.96262454273386|         90231|\n",
            "|   home & garden|        PayPal|    227.29266382099075|         90194|\n",
            "|        clothing|    debit card|    225.37682668183115|         89516|\n",
            "|   home & garden| bank transfer|    226.55064501036057|         89239|\n",
            "| health & beauty|        PayPal|     226.3843668195371|         89372|\n",
            "|     electronics|   credit card|    227.04638911102143|         89870|\n",
            "| health & beauty|    debit card|    226.62497625610175|         89748|\n",
            "|    toys & games|    debit card|    225.43380700000031|         89587|\n",
            "|    toys & games| bank transfer|    228.85355572682707|         89541|\n",
            "|   home & garden|   credit card|     228.2026859476474|         89812|\n",
            "|        clothing|        PayPal|    226.64023987259822|         90336|\n",
            "|     electronics| bank transfer|    228.01993433114407|         89934|\n",
            "|        clothing|   credit card|    225.92690120754048|         90419|\n",
            "|    toys & games|   credit card|     226.9915102692985|         90417|\n",
            "|    toys & games|        PayPal|    228.31009172781842|         89863|\n",
            "|     electronics|    debit card|    226.87006428950167|         90822|\n",
            "| health & beauty| bank transfer|     227.0902975025708|         90256|\n",
            "|        clothing| bank transfer|     226.9367965208039|         89535|\n",
            "|     electronics|        PayPal|     225.0166223743369|         89535|\n",
            "+----------------+--------------+----------------------+--------------+\n",
            "\n"
          ]
        }
      ]
    },
    {
      "cell_type": "markdown",
      "source": [
        "### Melt y Pivot\n",
        "\n",
        "Al trabajar con grandes conjuntos de datos, a menudo nos encontramos con la necesidad de reestructurarlos para facilitar el análisis. En PySpark, esto se puede lograr mediante operaciones de \"melt\" y \"pivot\", que permiten transformar y reorganizar los datos de maneras específicas para adaptarse mejor a nuestras necesidades de análisis. Esta sección explorará cómo clasificar y aplicar estas dos operaciones poderosas dentro del entorno de PySpark.\n",
        "\n",
        "Operación de `Pivot`.\n",
        "\n",
        "La operación \"pivot\" permite transformar los datos de un formato largo a un formato ancho, creando tablas dinámicas que resumen información. Con pivot, puedes girar una columna específica de tu DataFrame para que sus valores únicos se conviertan en columnas individuales, permitiéndote realizar agregaciones en las restantes. Esta operación es esencial para resumir y analizar grandes volúmenes de datos, facilitando la comprensión de las relaciones y tendencias dentro de tus datos."
      ],
      "metadata": {
        "id": "p0azjd0QZ2FW"
      }
    },
    {
      "cell_type": "code",
      "source": [
        "df.show(5)"
      ],
      "metadata": {
        "colab": {
          "base_uri": "https://localhost:8080/"
        },
        "id": "KnXxr71YQM3_",
        "outputId": "cd8ba76f-ea0d-4d03-db29-e463deca91b8"
      },
      "execution_count": null,
      "outputs": [
        {
          "output_type": "stream",
          "name": "stdout",
          "text": [
            "+--------------------+--------------------+------------------+-------------------+--------------+----------------+--------+------------+-----------------+-----------+---------------+--------------------+--------------------+-------------+----------------+----------------+----------------------+\n",
            "|      Transaction ID|         Customer ID|Transaction Amount|   Transaction Date|Payment Method|Product Category|Quantity|Customer Age|Customer Location|Device Used|     IP Address|    Shipping Address|     Billing Address|Is Fraudulent|Account Age Days|Transaction Hour|Transaction Amount CLP|\n",
            "+--------------------+--------------------+------------------+-------------------+--------------+----------------+--------+------------+-----------------+-----------+---------------+--------------------+--------------------+-------------+----------------+----------------+----------------------+\n",
            "|15d2e414-8735-46f...|d1b87f62-51b2-493...|             58.09|2024-02-20 05:58:41| bank transfer|     electronics|       1|          17|    Amandaborough|     tablet| 212.195.49.198|Unit 8934 Box 005...|Unit 8934 Box 005...|            0|              30|               5|            54592.4011|\n",
            "|0bfee1a0-6d5e-40d...|37de64d5-e901-4a5...|            389.96|2024-02-25 08:09:45|    debit card|     electronics|       2|          40|     East Timothy|    desktop|208.106.249.121|634 May Keys\\nPor...|634 May Keys\\nPor...|            0|              72|               8|           366480.5084|\n",
            "|e588eef4-b754-468...|1bac88d6-4b22-409...|            134.19|2024-03-18 03:42:55|        PayPal|   home & garden|       2|          22|       Davismouth|     tablet|   76.63.88.212|16282 Dana Falls ...|16282 Dana Falls ...|            0|              63|               3|    126110.42009999999|\n",
            "|4de46e52-60c3-49d...|2357c76e-9253-4ce...|            226.17|2024-03-16 20:41:31| bank transfer|        clothing|       5|          31|         Lynnberg|    desktop| 207.208.171.73|828 Strong Loaf A...|828 Strong Loaf A...|            0|             124|              20|           212552.3043|\n",
            "|074a76de-fe2d-443...|45071bc5-9588-43e...|            121.53|2024-01-15 05:08:17| bank transfer|        clothing|       2|          51|     South Nicole|     tablet| 190.172.14.169|29799 Jason Hills...|29799 Jason Hills...|            0|             158|               5|    114212.67869999999|\n",
            "+--------------------+--------------------+------------------+-------------------+--------------+----------------+--------+------------+-----------------+-----------+---------------+--------------------+--------------------+-------------+----------------+----------------+----------------------+\n",
            "only showing top 5 rows\n",
            "\n"
          ]
        }
      ]
    },
    {
      "cell_type": "code",
      "source": [
        "df_plot = (\n",
        "    df.groupBy(\"Product Category\")\n",
        "    .pivot(\"Is Fraudulent\")\n",
        "    .mean('Transaction Amount')\n",
        ")\n",
        "df_plot.show()"
      ],
      "metadata": {
        "colab": {
          "base_uri": "https://localhost:8080/"
        },
        "id": "XOOfjdFBo21s",
        "outputId": "69565ef7-5d55-4062-a586-09df8e1682ed"
      },
      "execution_count": null,
      "outputs": [
        {
          "output_type": "stream",
          "name": "stdout",
          "text": [
            "+----------------+------------------+-----------------+\n",
            "|Product Category|                 0|                1|\n",
            "+----------------+------------------+-----------------+\n",
            "| health & beauty|209.73250848198688|543.4707374581941|\n",
            "|    toys & games|209.64851092439974|559.4513501068927|\n",
            "|     electronics|209.98856776888175|544.6779487179508|\n",
            "|        clothing|209.76507762613306|541.6669715823115|\n",
            "|   home & garden|210.00183023032963| 551.278646273998|\n",
            "+----------------+------------------+-----------------+\n",
            "\n"
          ]
        }
      ]
    },
    {
      "cell_type": "markdown",
      "source": [
        "Operación de `Melt`\n",
        "La operación \"melt\" es un proceso de transformación de datos que convierte columnas de tu DataFrame en filas, lo que resulta útil cuando necesitas desnormalizar tus datos o convertir datos anchos en datos largos para análisis o visualización."
      ],
      "metadata": {
        "id": "O5C8z-ALf-D8"
      }
    },
    {
      "cell_type": "code",
      "source": [
        "df_plot = df_plot.melt(\n",
        "    ids='Product Category',\n",
        "    values=['0', '1'],\n",
        "    variableColumnName='Is Fraudulent',\n",
        "    valueColumnName='Avg Amount'\n",
        ")\n",
        "df_plot.show()"
      ],
      "metadata": {
        "colab": {
          "base_uri": "https://localhost:8080/"
        },
        "id": "Tyx6KlXxfmxZ",
        "outputId": "9e0ed43f-2d6f-4992-a7dc-c24e7e460ccc"
      },
      "execution_count": null,
      "outputs": [
        {
          "output_type": "stream",
          "name": "stdout",
          "text": [
            "+----------------+-------------+------------------+\n",
            "|Product Category|Is Fraudulent|        Avg Amount|\n",
            "+----------------+-------------+------------------+\n",
            "| health & beauty|            0|209.73250848198688|\n",
            "| health & beauty|            1| 543.4707374581941|\n",
            "|    toys & games|            0|209.64851092439974|\n",
            "|    toys & games|            1| 559.4513501068927|\n",
            "|     electronics|            0|209.98856776888175|\n",
            "|     electronics|            1| 544.6779487179508|\n",
            "|        clothing|            0|209.76507762613306|\n",
            "|        clothing|            1| 541.6669715823115|\n",
            "|   home & garden|            0|210.00183023032963|\n",
            "|   home & garden|            1|  551.278646273998|\n",
            "+----------------+-------------+------------------+\n",
            "\n"
          ]
        }
      ]
    },
    {
      "cell_type": "markdown",
      "source": [
        "> **Pregunta ❓**: ¿Qué pasa si ploteamos directamente estos dataframes?"
      ],
      "metadata": {
        "id": "PlKmJ_i3rebo"
      }
    },
    {
      "cell_type": "markdown",
      "source": [
        "Creamos visualizaciones utilizando Plotly, una biblioteca de gráficos avanzada que simplifica la creación de visualizaciones interactivas en comparación con Matplotlib. Plotly destaca por su facilidad de uso y por ofrecer gráficos dinámicos que mejoran significativamente la experiencia de análisis de datos."
      ],
      "metadata": {
        "id": "jsNvpIWdr90b"
      }
    },
    {
      "cell_type": "code",
      "source": [
        "import plotly.express as px\n",
        "\n",
        "px.bar(\n",
        "    df_plot,\n",
        "    x='Is Fraudulent',\n",
        "    y='Avg Amount',\n",
        "    color='Product Category',\n",
        "    template='simple_white',\n",
        "    barmode='group'\n",
        ")"
      ],
      "metadata": {
        "colab": {
          "base_uri": "https://localhost:8080/",
          "height": 542
        },
        "id": "mqY3gNNzrzPq",
        "outputId": "eacbb8a9-cee1-49da-de5b-8b35e9183425"
      },
      "execution_count": null,
      "outputs": [
        {
          "output_type": "display_data",
          "data": {
            "text/html": [
              "<html>\n",
              "<head><meta charset=\"utf-8\" /></head>\n",
              "<body>\n",
              "    <div>            <script src=\"https://cdnjs.cloudflare.com/ajax/libs/mathjax/2.7.5/MathJax.js?config=TeX-AMS-MML_SVG\"></script><script type=\"text/javascript\">if (window.MathJax && window.MathJax.Hub && window.MathJax.Hub.Config) {window.MathJax.Hub.Config({SVG: {font: \"STIX-Web\"}});}</script>                <script type=\"text/javascript\">window.PlotlyConfig = {MathJaxConfig: 'local'};</script>\n",
              "        <script charset=\"utf-8\" src=\"https://cdn.plot.ly/plotly-2.35.2.min.js\"></script>                <div id=\"37086f6b-86b1-4fef-a3ba-e81d3a1b88af\" class=\"plotly-graph-div\" style=\"height:525px; width:100%;\"></div>            <script type=\"text/javascript\">                                    window.PLOTLYENV=window.PLOTLYENV || {};                                    if (document.getElementById(\"37086f6b-86b1-4fef-a3ba-e81d3a1b88af\")) {                    Plotly.newPlot(                        \"37086f6b-86b1-4fef-a3ba-e81d3a1b88af\",                        [{\"alignmentgroup\":\"True\",\"hovertemplate\":\"Product Category=health & beauty\\u003cbr\\u003eIs Fraudulent=%{x}\\u003cbr\\u003eAvg Amount=%{y}\\u003cextra\\u003e\\u003c\\u002fextra\\u003e\",\"legendgroup\":\"health & beauty\",\"marker\":{\"color\":\"#1F77B4\",\"pattern\":{\"shape\":\"\"}},\"name\":\"health & beauty\",\"offsetgroup\":\"health & beauty\",\"orientation\":\"v\",\"showlegend\":true,\"textposition\":\"auto\",\"x\":[\"0\",\"1\"],\"xaxis\":\"x\",\"y\":[209.73250848198688,543.4707374581941],\"yaxis\":\"y\",\"type\":\"bar\"},{\"alignmentgroup\":\"True\",\"hovertemplate\":\"Product Category=toys & games\\u003cbr\\u003eIs Fraudulent=%{x}\\u003cbr\\u003eAvg Amount=%{y}\\u003cextra\\u003e\\u003c\\u002fextra\\u003e\",\"legendgroup\":\"toys & games\",\"marker\":{\"color\":\"#FF7F0E\",\"pattern\":{\"shape\":\"\"}},\"name\":\"toys & games\",\"offsetgroup\":\"toys & games\",\"orientation\":\"v\",\"showlegend\":true,\"textposition\":\"auto\",\"x\":[\"0\",\"1\"],\"xaxis\":\"x\",\"y\":[209.64851092439974,559.4513501068927],\"yaxis\":\"y\",\"type\":\"bar\"},{\"alignmentgroup\":\"True\",\"hovertemplate\":\"Product Category=electronics\\u003cbr\\u003eIs Fraudulent=%{x}\\u003cbr\\u003eAvg Amount=%{y}\\u003cextra\\u003e\\u003c\\u002fextra\\u003e\",\"legendgroup\":\"electronics\",\"marker\":{\"color\":\"#2CA02C\",\"pattern\":{\"shape\":\"\"}},\"name\":\"electronics\",\"offsetgroup\":\"electronics\",\"orientation\":\"v\",\"showlegend\":true,\"textposition\":\"auto\",\"x\":[\"0\",\"1\"],\"xaxis\":\"x\",\"y\":[209.98856776888175,544.6779487179508],\"yaxis\":\"y\",\"type\":\"bar\"},{\"alignmentgroup\":\"True\",\"hovertemplate\":\"Product Category=clothing\\u003cbr\\u003eIs Fraudulent=%{x}\\u003cbr\\u003eAvg Amount=%{y}\\u003cextra\\u003e\\u003c\\u002fextra\\u003e\",\"legendgroup\":\"clothing\",\"marker\":{\"color\":\"#D62728\",\"pattern\":{\"shape\":\"\"}},\"name\":\"clothing\",\"offsetgroup\":\"clothing\",\"orientation\":\"v\",\"showlegend\":true,\"textposition\":\"auto\",\"x\":[\"0\",\"1\"],\"xaxis\":\"x\",\"y\":[209.76507762613306,541.6669715823115],\"yaxis\":\"y\",\"type\":\"bar\"},{\"alignmentgroup\":\"True\",\"hovertemplate\":\"Product Category=home & garden\\u003cbr\\u003eIs Fraudulent=%{x}\\u003cbr\\u003eAvg Amount=%{y}\\u003cextra\\u003e\\u003c\\u002fextra\\u003e\",\"legendgroup\":\"home & garden\",\"marker\":{\"color\":\"#9467BD\",\"pattern\":{\"shape\":\"\"}},\"name\":\"home & garden\",\"offsetgroup\":\"home & garden\",\"orientation\":\"v\",\"showlegend\":true,\"textposition\":\"auto\",\"x\":[\"0\",\"1\"],\"xaxis\":\"x\",\"y\":[210.00183023032963,551.278646273998],\"yaxis\":\"y\",\"type\":\"bar\"}],                        {\"template\":{\"data\":{\"barpolar\":[{\"marker\":{\"line\":{\"color\":\"white\",\"width\":0.5},\"pattern\":{\"fillmode\":\"overlay\",\"size\":10,\"solidity\":0.2}},\"type\":\"barpolar\"}],\"bar\":[{\"error_x\":{\"color\":\"rgb(36,36,36)\"},\"error_y\":{\"color\":\"rgb(36,36,36)\"},\"marker\":{\"line\":{\"color\":\"white\",\"width\":0.5},\"pattern\":{\"fillmode\":\"overlay\",\"size\":10,\"solidity\":0.2}},\"type\":\"bar\"}],\"carpet\":[{\"aaxis\":{\"endlinecolor\":\"rgb(36,36,36)\",\"gridcolor\":\"white\",\"linecolor\":\"white\",\"minorgridcolor\":\"white\",\"startlinecolor\":\"rgb(36,36,36)\"},\"baxis\":{\"endlinecolor\":\"rgb(36,36,36)\",\"gridcolor\":\"white\",\"linecolor\":\"white\",\"minorgridcolor\":\"white\",\"startlinecolor\":\"rgb(36,36,36)\"},\"type\":\"carpet\"}],\"choropleth\":[{\"colorbar\":{\"outlinewidth\":1,\"tickcolor\":\"rgb(36,36,36)\",\"ticks\":\"outside\"},\"type\":\"choropleth\"}],\"contourcarpet\":[{\"colorbar\":{\"outlinewidth\":1,\"tickcolor\":\"rgb(36,36,36)\",\"ticks\":\"outside\"},\"type\":\"contourcarpet\"}],\"contour\":[{\"colorbar\":{\"outlinewidth\":1,\"tickcolor\":\"rgb(36,36,36)\",\"ticks\":\"outside\"},\"colorscale\":[[0.0,\"#440154\"],[0.1111111111111111,\"#482878\"],[0.2222222222222222,\"#3e4989\"],[0.3333333333333333,\"#31688e\"],[0.4444444444444444,\"#26828e\"],[0.5555555555555556,\"#1f9e89\"],[0.6666666666666666,\"#35b779\"],[0.7777777777777778,\"#6ece58\"],[0.8888888888888888,\"#b5de2b\"],[1.0,\"#fde725\"]],\"type\":\"contour\"}],\"heatmapgl\":[{\"colorbar\":{\"outlinewidth\":1,\"tickcolor\":\"rgb(36,36,36)\",\"ticks\":\"outside\"},\"colorscale\":[[0.0,\"#440154\"],[0.1111111111111111,\"#482878\"],[0.2222222222222222,\"#3e4989\"],[0.3333333333333333,\"#31688e\"],[0.4444444444444444,\"#26828e\"],[0.5555555555555556,\"#1f9e89\"],[0.6666666666666666,\"#35b779\"],[0.7777777777777778,\"#6ece58\"],[0.8888888888888888,\"#b5de2b\"],[1.0,\"#fde725\"]],\"type\":\"heatmapgl\"}],\"heatmap\":[{\"colorbar\":{\"outlinewidth\":1,\"tickcolor\":\"rgb(36,36,36)\",\"ticks\":\"outside\"},\"colorscale\":[[0.0,\"#440154\"],[0.1111111111111111,\"#482878\"],[0.2222222222222222,\"#3e4989\"],[0.3333333333333333,\"#31688e\"],[0.4444444444444444,\"#26828e\"],[0.5555555555555556,\"#1f9e89\"],[0.6666666666666666,\"#35b779\"],[0.7777777777777778,\"#6ece58\"],[0.8888888888888888,\"#b5de2b\"],[1.0,\"#fde725\"]],\"type\":\"heatmap\"}],\"histogram2dcontour\":[{\"colorbar\":{\"outlinewidth\":1,\"tickcolor\":\"rgb(36,36,36)\",\"ticks\":\"outside\"},\"colorscale\":[[0.0,\"#440154\"],[0.1111111111111111,\"#482878\"],[0.2222222222222222,\"#3e4989\"],[0.3333333333333333,\"#31688e\"],[0.4444444444444444,\"#26828e\"],[0.5555555555555556,\"#1f9e89\"],[0.6666666666666666,\"#35b779\"],[0.7777777777777778,\"#6ece58\"],[0.8888888888888888,\"#b5de2b\"],[1.0,\"#fde725\"]],\"type\":\"histogram2dcontour\"}],\"histogram2d\":[{\"colorbar\":{\"outlinewidth\":1,\"tickcolor\":\"rgb(36,36,36)\",\"ticks\":\"outside\"},\"colorscale\":[[0.0,\"#440154\"],[0.1111111111111111,\"#482878\"],[0.2222222222222222,\"#3e4989\"],[0.3333333333333333,\"#31688e\"],[0.4444444444444444,\"#26828e\"],[0.5555555555555556,\"#1f9e89\"],[0.6666666666666666,\"#35b779\"],[0.7777777777777778,\"#6ece58\"],[0.8888888888888888,\"#b5de2b\"],[1.0,\"#fde725\"]],\"type\":\"histogram2d\"}],\"histogram\":[{\"marker\":{\"line\":{\"color\":\"white\",\"width\":0.6}},\"type\":\"histogram\"}],\"mesh3d\":[{\"colorbar\":{\"outlinewidth\":1,\"tickcolor\":\"rgb(36,36,36)\",\"ticks\":\"outside\"},\"type\":\"mesh3d\"}],\"parcoords\":[{\"line\":{\"colorbar\":{\"outlinewidth\":1,\"tickcolor\":\"rgb(36,36,36)\",\"ticks\":\"outside\"}},\"type\":\"parcoords\"}],\"pie\":[{\"automargin\":true,\"type\":\"pie\"}],\"scatter3d\":[{\"line\":{\"colorbar\":{\"outlinewidth\":1,\"tickcolor\":\"rgb(36,36,36)\",\"ticks\":\"outside\"}},\"marker\":{\"colorbar\":{\"outlinewidth\":1,\"tickcolor\":\"rgb(36,36,36)\",\"ticks\":\"outside\"}},\"type\":\"scatter3d\"}],\"scattercarpet\":[{\"marker\":{\"colorbar\":{\"outlinewidth\":1,\"tickcolor\":\"rgb(36,36,36)\",\"ticks\":\"outside\"}},\"type\":\"scattercarpet\"}],\"scattergeo\":[{\"marker\":{\"colorbar\":{\"outlinewidth\":1,\"tickcolor\":\"rgb(36,36,36)\",\"ticks\":\"outside\"}},\"type\":\"scattergeo\"}],\"scattergl\":[{\"marker\":{\"colorbar\":{\"outlinewidth\":1,\"tickcolor\":\"rgb(36,36,36)\",\"ticks\":\"outside\"}},\"type\":\"scattergl\"}],\"scattermapbox\":[{\"marker\":{\"colorbar\":{\"outlinewidth\":1,\"tickcolor\":\"rgb(36,36,36)\",\"ticks\":\"outside\"}},\"type\":\"scattermapbox\"}],\"scatterpolargl\":[{\"marker\":{\"colorbar\":{\"outlinewidth\":1,\"tickcolor\":\"rgb(36,36,36)\",\"ticks\":\"outside\"}},\"type\":\"scatterpolargl\"}],\"scatterpolar\":[{\"marker\":{\"colorbar\":{\"outlinewidth\":1,\"tickcolor\":\"rgb(36,36,36)\",\"ticks\":\"outside\"}},\"type\":\"scatterpolar\"}],\"scatter\":[{\"fillpattern\":{\"fillmode\":\"overlay\",\"size\":10,\"solidity\":0.2},\"type\":\"scatter\"}],\"scatterternary\":[{\"marker\":{\"colorbar\":{\"outlinewidth\":1,\"tickcolor\":\"rgb(36,36,36)\",\"ticks\":\"outside\"}},\"type\":\"scatterternary\"}],\"surface\":[{\"colorbar\":{\"outlinewidth\":1,\"tickcolor\":\"rgb(36,36,36)\",\"ticks\":\"outside\"},\"colorscale\":[[0.0,\"#440154\"],[0.1111111111111111,\"#482878\"],[0.2222222222222222,\"#3e4989\"],[0.3333333333333333,\"#31688e\"],[0.4444444444444444,\"#26828e\"],[0.5555555555555556,\"#1f9e89\"],[0.6666666666666666,\"#35b779\"],[0.7777777777777778,\"#6ece58\"],[0.8888888888888888,\"#b5de2b\"],[1.0,\"#fde725\"]],\"type\":\"surface\"}],\"table\":[{\"cells\":{\"fill\":{\"color\":\"rgb(237,237,237)\"},\"line\":{\"color\":\"white\"}},\"header\":{\"fill\":{\"color\":\"rgb(217,217,217)\"},\"line\":{\"color\":\"white\"}},\"type\":\"table\"}]},\"layout\":{\"annotationdefaults\":{\"arrowhead\":0,\"arrowwidth\":1},\"autotypenumbers\":\"strict\",\"coloraxis\":{\"colorbar\":{\"outlinewidth\":1,\"tickcolor\":\"rgb(36,36,36)\",\"ticks\":\"outside\"}},\"colorscale\":{\"diverging\":[[0.0,\"rgb(103,0,31)\"],[0.1,\"rgb(178,24,43)\"],[0.2,\"rgb(214,96,77)\"],[0.3,\"rgb(244,165,130)\"],[0.4,\"rgb(253,219,199)\"],[0.5,\"rgb(247,247,247)\"],[0.6,\"rgb(209,229,240)\"],[0.7,\"rgb(146,197,222)\"],[0.8,\"rgb(67,147,195)\"],[0.9,\"rgb(33,102,172)\"],[1.0,\"rgb(5,48,97)\"]],\"sequential\":[[0.0,\"#440154\"],[0.1111111111111111,\"#482878\"],[0.2222222222222222,\"#3e4989\"],[0.3333333333333333,\"#31688e\"],[0.4444444444444444,\"#26828e\"],[0.5555555555555556,\"#1f9e89\"],[0.6666666666666666,\"#35b779\"],[0.7777777777777778,\"#6ece58\"],[0.8888888888888888,\"#b5de2b\"],[1.0,\"#fde725\"]],\"sequentialminus\":[[0.0,\"#440154\"],[0.1111111111111111,\"#482878\"],[0.2222222222222222,\"#3e4989\"],[0.3333333333333333,\"#31688e\"],[0.4444444444444444,\"#26828e\"],[0.5555555555555556,\"#1f9e89\"],[0.6666666666666666,\"#35b779\"],[0.7777777777777778,\"#6ece58\"],[0.8888888888888888,\"#b5de2b\"],[1.0,\"#fde725\"]]},\"colorway\":[\"#1F77B4\",\"#FF7F0E\",\"#2CA02C\",\"#D62728\",\"#9467BD\",\"#8C564B\",\"#E377C2\",\"#7F7F7F\",\"#BCBD22\",\"#17BECF\"],\"font\":{\"color\":\"rgb(36,36,36)\"},\"geo\":{\"bgcolor\":\"white\",\"lakecolor\":\"white\",\"landcolor\":\"white\",\"showlakes\":true,\"showland\":true,\"subunitcolor\":\"white\"},\"hoverlabel\":{\"align\":\"left\"},\"hovermode\":\"closest\",\"mapbox\":{\"style\":\"light\"},\"paper_bgcolor\":\"white\",\"plot_bgcolor\":\"white\",\"polar\":{\"angularaxis\":{\"gridcolor\":\"rgb(232,232,232)\",\"linecolor\":\"rgb(36,36,36)\",\"showgrid\":false,\"showline\":true,\"ticks\":\"outside\"},\"bgcolor\":\"white\",\"radialaxis\":{\"gridcolor\":\"rgb(232,232,232)\",\"linecolor\":\"rgb(36,36,36)\",\"showgrid\":false,\"showline\":true,\"ticks\":\"outside\"}},\"scene\":{\"xaxis\":{\"backgroundcolor\":\"white\",\"gridcolor\":\"rgb(232,232,232)\",\"gridwidth\":2,\"linecolor\":\"rgb(36,36,36)\",\"showbackground\":true,\"showgrid\":false,\"showline\":true,\"ticks\":\"outside\",\"zeroline\":false,\"zerolinecolor\":\"rgb(36,36,36)\"},\"yaxis\":{\"backgroundcolor\":\"white\",\"gridcolor\":\"rgb(232,232,232)\",\"gridwidth\":2,\"linecolor\":\"rgb(36,36,36)\",\"showbackground\":true,\"showgrid\":false,\"showline\":true,\"ticks\":\"outside\",\"zeroline\":false,\"zerolinecolor\":\"rgb(36,36,36)\"},\"zaxis\":{\"backgroundcolor\":\"white\",\"gridcolor\":\"rgb(232,232,232)\",\"gridwidth\":2,\"linecolor\":\"rgb(36,36,36)\",\"showbackground\":true,\"showgrid\":false,\"showline\":true,\"ticks\":\"outside\",\"zeroline\":false,\"zerolinecolor\":\"rgb(36,36,36)\"}},\"shapedefaults\":{\"fillcolor\":\"black\",\"line\":{\"width\":0},\"opacity\":0.3},\"ternary\":{\"aaxis\":{\"gridcolor\":\"rgb(232,232,232)\",\"linecolor\":\"rgb(36,36,36)\",\"showgrid\":false,\"showline\":true,\"ticks\":\"outside\"},\"baxis\":{\"gridcolor\":\"rgb(232,232,232)\",\"linecolor\":\"rgb(36,36,36)\",\"showgrid\":false,\"showline\":true,\"ticks\":\"outside\"},\"bgcolor\":\"white\",\"caxis\":{\"gridcolor\":\"rgb(232,232,232)\",\"linecolor\":\"rgb(36,36,36)\",\"showgrid\":false,\"showline\":true,\"ticks\":\"outside\"}},\"title\":{\"x\":0.05},\"xaxis\":{\"automargin\":true,\"gridcolor\":\"rgb(232,232,232)\",\"linecolor\":\"rgb(36,36,36)\",\"showgrid\":false,\"showline\":true,\"ticks\":\"outside\",\"title\":{\"standoff\":15},\"zeroline\":false,\"zerolinecolor\":\"rgb(36,36,36)\"},\"yaxis\":{\"automargin\":true,\"gridcolor\":\"rgb(232,232,232)\",\"linecolor\":\"rgb(36,36,36)\",\"showgrid\":false,\"showline\":true,\"ticks\":\"outside\",\"title\":{\"standoff\":15},\"zeroline\":false,\"zerolinecolor\":\"rgb(36,36,36)\"}}},\"xaxis\":{\"anchor\":\"y\",\"domain\":[0.0,1.0],\"title\":{\"text\":\"Is Fraudulent\"}},\"yaxis\":{\"anchor\":\"x\",\"domain\":[0.0,1.0],\"title\":{\"text\":\"Avg Amount\"}},\"legend\":{\"title\":{\"text\":\"Product Category\"},\"tracegroupgap\":0},\"margin\":{\"t\":60},\"barmode\":\"group\"},                        {\"responsive\": true}                    ).then(function(){\n",
              "                            \n",
              "var gd = document.getElementById('37086f6b-86b1-4fef-a3ba-e81d3a1b88af');\n",
              "var x = new MutationObserver(function (mutations, observer) {{\n",
              "        var display = window.getComputedStyle(gd).display;\n",
              "        if (!display || display === 'none') {{\n",
              "            console.log([gd, 'removed!']);\n",
              "            Plotly.purge(gd);\n",
              "            observer.disconnect();\n",
              "        }}\n",
              "}});\n",
              "\n",
              "// Listen for the removal of the full notebook cells\n",
              "var notebookContainer = gd.closest('#notebook-container');\n",
              "if (notebookContainer) {{\n",
              "    x.observe(notebookContainer, {childList: true});\n",
              "}}\n",
              "\n",
              "// Listen for the clearing of the current output cell\n",
              "var outputEl = gd.closest('.output');\n",
              "if (outputEl) {{\n",
              "    x.observe(outputEl, {childList: true});\n",
              "}}\n",
              "\n",
              "                        })                };                            </script>        </div>\n",
              "</body>\n",
              "</html>"
            ]
          },
          "metadata": {}
        }
      ]
    },
    {
      "cell_type": "markdown",
      "source": [
        "Plotly podría mostrar el error `ValueError: DataFrame constructor not properly called!`, indicando que los DataFrames de Spark generalmente no se integran de manera directa con bibliotecas de visualización. Para solventar esto, es necesario convertir nuestros DataFrames de Spark a formato Pandas, lo que nos permitirá utilizar plenamente las capacidades gráficas de Plotly."
      ],
      "metadata": {
        "id": "wZMQk9ursKP6"
      }
    },
    {
      "cell_type": "code",
      "source": [
        "# Para transformar a pandas usamos el método toPandas()\n",
        "df_pandas = df_plot.toPandas()\n",
        "df_pandas.head(4)"
      ],
      "metadata": {
        "colab": {
          "base_uri": "https://localhost:8080/",
          "height": 174
        },
        "id": "FTrRkI-5saSB",
        "outputId": "3db5fcef-8709-47d2-e0c2-776fa6216273"
      },
      "execution_count": null,
      "outputs": [
        {
          "output_type": "execute_result",
          "data": {
            "text/plain": [
              "  Product Category Is Fraudulent  Avg Amount\n",
              "0  health & beauty             0  209.732508\n",
              "1  health & beauty             1  543.470737\n",
              "2     toys & games             0  209.648511\n",
              "3     toys & games             1  559.451350"
            ],
            "text/html": [
              "\n",
              "  <div id=\"df-1b65ec18-968f-45df-977b-0fcbe88819b8\" class=\"colab-df-container\">\n",
              "    <div>\n",
              "<style scoped>\n",
              "    .dataframe tbody tr th:only-of-type {\n",
              "        vertical-align: middle;\n",
              "    }\n",
              "\n",
              "    .dataframe tbody tr th {\n",
              "        vertical-align: top;\n",
              "    }\n",
              "\n",
              "    .dataframe thead th {\n",
              "        text-align: right;\n",
              "    }\n",
              "</style>\n",
              "<table border=\"1\" class=\"dataframe\">\n",
              "  <thead>\n",
              "    <tr style=\"text-align: right;\">\n",
              "      <th></th>\n",
              "      <th>Product Category</th>\n",
              "      <th>Is Fraudulent</th>\n",
              "      <th>Avg Amount</th>\n",
              "    </tr>\n",
              "  </thead>\n",
              "  <tbody>\n",
              "    <tr>\n",
              "      <th>0</th>\n",
              "      <td>health &amp; beauty</td>\n",
              "      <td>0</td>\n",
              "      <td>209.732508</td>\n",
              "    </tr>\n",
              "    <tr>\n",
              "      <th>1</th>\n",
              "      <td>health &amp; beauty</td>\n",
              "      <td>1</td>\n",
              "      <td>543.470737</td>\n",
              "    </tr>\n",
              "    <tr>\n",
              "      <th>2</th>\n",
              "      <td>toys &amp; games</td>\n",
              "      <td>0</td>\n",
              "      <td>209.648511</td>\n",
              "    </tr>\n",
              "    <tr>\n",
              "      <th>3</th>\n",
              "      <td>toys &amp; games</td>\n",
              "      <td>1</td>\n",
              "      <td>559.451350</td>\n",
              "    </tr>\n",
              "  </tbody>\n",
              "</table>\n",
              "</div>\n",
              "    <div class=\"colab-df-buttons\">\n",
              "\n",
              "  <div class=\"colab-df-container\">\n",
              "    <button class=\"colab-df-convert\" onclick=\"convertToInteractive('df-1b65ec18-968f-45df-977b-0fcbe88819b8')\"\n",
              "            title=\"Convert this dataframe to an interactive table.\"\n",
              "            style=\"display:none;\">\n",
              "\n",
              "  <svg xmlns=\"http://www.w3.org/2000/svg\" height=\"24px\" viewBox=\"0 -960 960 960\">\n",
              "    <path d=\"M120-120v-720h720v720H120Zm60-500h600v-160H180v160Zm220 220h160v-160H400v160Zm0 220h160v-160H400v160ZM180-400h160v-160H180v160Zm440 0h160v-160H620v160ZM180-180h160v-160H180v160Zm440 0h160v-160H620v160Z\"/>\n",
              "  </svg>\n",
              "    </button>\n",
              "\n",
              "  <style>\n",
              "    .colab-df-container {\n",
              "      display:flex;\n",
              "      gap: 12px;\n",
              "    }\n",
              "\n",
              "    .colab-df-convert {\n",
              "      background-color: #E8F0FE;\n",
              "      border: none;\n",
              "      border-radius: 50%;\n",
              "      cursor: pointer;\n",
              "      display: none;\n",
              "      fill: #1967D2;\n",
              "      height: 32px;\n",
              "      padding: 0 0 0 0;\n",
              "      width: 32px;\n",
              "    }\n",
              "\n",
              "    .colab-df-convert:hover {\n",
              "      background-color: #E2EBFA;\n",
              "      box-shadow: 0px 1px 2px rgba(60, 64, 67, 0.3), 0px 1px 3px 1px rgba(60, 64, 67, 0.15);\n",
              "      fill: #174EA6;\n",
              "    }\n",
              "\n",
              "    .colab-df-buttons div {\n",
              "      margin-bottom: 4px;\n",
              "    }\n",
              "\n",
              "    [theme=dark] .colab-df-convert {\n",
              "      background-color: #3B4455;\n",
              "      fill: #D2E3FC;\n",
              "    }\n",
              "\n",
              "    [theme=dark] .colab-df-convert:hover {\n",
              "      background-color: #434B5C;\n",
              "      box-shadow: 0px 1px 3px 1px rgba(0, 0, 0, 0.15);\n",
              "      filter: drop-shadow(0px 1px 2px rgba(0, 0, 0, 0.3));\n",
              "      fill: #FFFFFF;\n",
              "    }\n",
              "  </style>\n",
              "\n",
              "    <script>\n",
              "      const buttonEl =\n",
              "        document.querySelector('#df-1b65ec18-968f-45df-977b-0fcbe88819b8 button.colab-df-convert');\n",
              "      buttonEl.style.display =\n",
              "        google.colab.kernel.accessAllowed ? 'block' : 'none';\n",
              "\n",
              "      async function convertToInteractive(key) {\n",
              "        const element = document.querySelector('#df-1b65ec18-968f-45df-977b-0fcbe88819b8');\n",
              "        const dataTable =\n",
              "          await google.colab.kernel.invokeFunction('convertToInteractive',\n",
              "                                                    [key], {});\n",
              "        if (!dataTable) return;\n",
              "\n",
              "        const docLinkHtml = 'Like what you see? Visit the ' +\n",
              "          '<a target=\"_blank\" href=https://colab.research.google.com/notebooks/data_table.ipynb>data table notebook</a>'\n",
              "          + ' to learn more about interactive tables.';\n",
              "        element.innerHTML = '';\n",
              "        dataTable['output_type'] = 'display_data';\n",
              "        await google.colab.output.renderOutput(dataTable, element);\n",
              "        const docLink = document.createElement('div');\n",
              "        docLink.innerHTML = docLinkHtml;\n",
              "        element.appendChild(docLink);\n",
              "      }\n",
              "    </script>\n",
              "  </div>\n",
              "\n",
              "\n",
              "<div id=\"df-7c25e6b3-a5bd-4ae7-abd8-39b3991471ca\">\n",
              "  <button class=\"colab-df-quickchart\" onclick=\"quickchart('df-7c25e6b3-a5bd-4ae7-abd8-39b3991471ca')\"\n",
              "            title=\"Suggest charts\"\n",
              "            style=\"display:none;\">\n",
              "\n",
              "<svg xmlns=\"http://www.w3.org/2000/svg\" height=\"24px\"viewBox=\"0 0 24 24\"\n",
              "     width=\"24px\">\n",
              "    <g>\n",
              "        <path d=\"M19 3H5c-1.1 0-2 .9-2 2v14c0 1.1.9 2 2 2h14c1.1 0 2-.9 2-2V5c0-1.1-.9-2-2-2zM9 17H7v-7h2v7zm4 0h-2V7h2v10zm4 0h-2v-4h2v4z\"/>\n",
              "    </g>\n",
              "</svg>\n",
              "  </button>\n",
              "\n",
              "<style>\n",
              "  .colab-df-quickchart {\n",
              "      --bg-color: #E8F0FE;\n",
              "      --fill-color: #1967D2;\n",
              "      --hover-bg-color: #E2EBFA;\n",
              "      --hover-fill-color: #174EA6;\n",
              "      --disabled-fill-color: #AAA;\n",
              "      --disabled-bg-color: #DDD;\n",
              "  }\n",
              "\n",
              "  [theme=dark] .colab-df-quickchart {\n",
              "      --bg-color: #3B4455;\n",
              "      --fill-color: #D2E3FC;\n",
              "      --hover-bg-color: #434B5C;\n",
              "      --hover-fill-color: #FFFFFF;\n",
              "      --disabled-bg-color: #3B4455;\n",
              "      --disabled-fill-color: #666;\n",
              "  }\n",
              "\n",
              "  .colab-df-quickchart {\n",
              "    background-color: var(--bg-color);\n",
              "    border: none;\n",
              "    border-radius: 50%;\n",
              "    cursor: pointer;\n",
              "    display: none;\n",
              "    fill: var(--fill-color);\n",
              "    height: 32px;\n",
              "    padding: 0;\n",
              "    width: 32px;\n",
              "  }\n",
              "\n",
              "  .colab-df-quickchart:hover {\n",
              "    background-color: var(--hover-bg-color);\n",
              "    box-shadow: 0 1px 2px rgba(60, 64, 67, 0.3), 0 1px 3px 1px rgba(60, 64, 67, 0.15);\n",
              "    fill: var(--button-hover-fill-color);\n",
              "  }\n",
              "\n",
              "  .colab-df-quickchart-complete:disabled,\n",
              "  .colab-df-quickchart-complete:disabled:hover {\n",
              "    background-color: var(--disabled-bg-color);\n",
              "    fill: var(--disabled-fill-color);\n",
              "    box-shadow: none;\n",
              "  }\n",
              "\n",
              "  .colab-df-spinner {\n",
              "    border: 2px solid var(--fill-color);\n",
              "    border-color: transparent;\n",
              "    border-bottom-color: var(--fill-color);\n",
              "    animation:\n",
              "      spin 1s steps(1) infinite;\n",
              "  }\n",
              "\n",
              "  @keyframes spin {\n",
              "    0% {\n",
              "      border-color: transparent;\n",
              "      border-bottom-color: var(--fill-color);\n",
              "      border-left-color: var(--fill-color);\n",
              "    }\n",
              "    20% {\n",
              "      border-color: transparent;\n",
              "      border-left-color: var(--fill-color);\n",
              "      border-top-color: var(--fill-color);\n",
              "    }\n",
              "    30% {\n",
              "      border-color: transparent;\n",
              "      border-left-color: var(--fill-color);\n",
              "      border-top-color: var(--fill-color);\n",
              "      border-right-color: var(--fill-color);\n",
              "    }\n",
              "    40% {\n",
              "      border-color: transparent;\n",
              "      border-right-color: var(--fill-color);\n",
              "      border-top-color: var(--fill-color);\n",
              "    }\n",
              "    60% {\n",
              "      border-color: transparent;\n",
              "      border-right-color: var(--fill-color);\n",
              "    }\n",
              "    80% {\n",
              "      border-color: transparent;\n",
              "      border-right-color: var(--fill-color);\n",
              "      border-bottom-color: var(--fill-color);\n",
              "    }\n",
              "    90% {\n",
              "      border-color: transparent;\n",
              "      border-bottom-color: var(--fill-color);\n",
              "    }\n",
              "  }\n",
              "</style>\n",
              "\n",
              "  <script>\n",
              "    async function quickchart(key) {\n",
              "      const quickchartButtonEl =\n",
              "        document.querySelector('#' + key + ' button');\n",
              "      quickchartButtonEl.disabled = true;  // To prevent multiple clicks.\n",
              "      quickchartButtonEl.classList.add('colab-df-spinner');\n",
              "      try {\n",
              "        const charts = await google.colab.kernel.invokeFunction(\n",
              "            'suggestCharts', [key], {});\n",
              "      } catch (error) {\n",
              "        console.error('Error during call to suggestCharts:', error);\n",
              "      }\n",
              "      quickchartButtonEl.classList.remove('colab-df-spinner');\n",
              "      quickchartButtonEl.classList.add('colab-df-quickchart-complete');\n",
              "    }\n",
              "    (() => {\n",
              "      let quickchartButtonEl =\n",
              "        document.querySelector('#df-7c25e6b3-a5bd-4ae7-abd8-39b3991471ca button');\n",
              "      quickchartButtonEl.style.display =\n",
              "        google.colab.kernel.accessAllowed ? 'block' : 'none';\n",
              "    })();\n",
              "  </script>\n",
              "</div>\n",
              "\n",
              "    </div>\n",
              "  </div>\n"
            ],
            "application/vnd.google.colaboratory.intrinsic+json": {
              "type": "dataframe",
              "variable_name": "df_pandas",
              "summary": "{\n  \"name\": \"df_pandas\",\n  \"rows\": 10,\n  \"fields\": [\n    {\n      \"column\": \"Product Category\",\n      \"properties\": {\n        \"dtype\": \"string\",\n        \"num_unique_values\": 5,\n        \"samples\": [\n          \"toys & games\",\n          \"home & garden\",\n          \"electronics\"\n        ],\n        \"semantic_type\": \"\",\n        \"description\": \"\"\n      }\n    },\n    {\n      \"column\": \"Is Fraudulent\",\n      \"properties\": {\n        \"dtype\": \"category\",\n        \"num_unique_values\": 2,\n        \"samples\": [\n          \"1\",\n          \"0\"\n        ],\n        \"semantic_type\": \"\",\n        \"description\": \"\"\n      }\n    },\n    {\n      \"column\": \"Avg Amount\",\n      \"properties\": {\n        \"dtype\": \"number\",\n        \"std\": 178.35672012626898,\n        \"min\": 209.64851092439974,\n        \"max\": 559.4513501068927,\n        \"num_unique_values\": 10,\n        \"samples\": [\n          210.00183023032963,\n          543.4707374581941\n        ],\n        \"semantic_type\": \"\",\n        \"description\": \"\"\n      }\n    }\n  ]\n}"
            }
          },
          "metadata": {},
          "execution_count": 76
        }
      ]
    },
    {
      "cell_type": "code",
      "source": [
        "px.bar(\n",
        "    df_pandas,\n",
        "    x='Is Fraudulent',\n",
        "    y='Avg Amount',\n",
        "    color='Product Category',\n",
        "    template='simple_white',\n",
        "    barmode='group'\n",
        ")"
      ],
      "metadata": {
        "colab": {
          "base_uri": "https://localhost:8080/",
          "height": 542
        },
        "id": "70g9WKbwslai",
        "outputId": "be99f34c-3ec2-40e3-c7d7-8ce10a1d7d57"
      },
      "execution_count": null,
      "outputs": [
        {
          "output_type": "display_data",
          "data": {
            "text/html": [
              "<html>\n",
              "<head><meta charset=\"utf-8\" /></head>\n",
              "<body>\n",
              "    <div>            <script src=\"https://cdnjs.cloudflare.com/ajax/libs/mathjax/2.7.5/MathJax.js?config=TeX-AMS-MML_SVG\"></script><script type=\"text/javascript\">if (window.MathJax && window.MathJax.Hub && window.MathJax.Hub.Config) {window.MathJax.Hub.Config({SVG: {font: \"STIX-Web\"}});}</script>                <script type=\"text/javascript\">window.PlotlyConfig = {MathJaxConfig: 'local'};</script>\n",
              "        <script charset=\"utf-8\" src=\"https://cdn.plot.ly/plotly-2.35.2.min.js\"></script>                <div id=\"8d27c6a5-a150-4aee-8e86-6e43baf44598\" class=\"plotly-graph-div\" style=\"height:525px; width:100%;\"></div>            <script type=\"text/javascript\">                                    window.PLOTLYENV=window.PLOTLYENV || {};                                    if (document.getElementById(\"8d27c6a5-a150-4aee-8e86-6e43baf44598\")) {                    Plotly.newPlot(                        \"8d27c6a5-a150-4aee-8e86-6e43baf44598\",                        [{\"alignmentgroup\":\"True\",\"hovertemplate\":\"Product Category=health & beauty\\u003cbr\\u003eIs Fraudulent=%{x}\\u003cbr\\u003eAvg Amount=%{y}\\u003cextra\\u003e\\u003c\\u002fextra\\u003e\",\"legendgroup\":\"health & beauty\",\"marker\":{\"color\":\"#1F77B4\",\"pattern\":{\"shape\":\"\"}},\"name\":\"health & beauty\",\"offsetgroup\":\"health & beauty\",\"orientation\":\"v\",\"showlegend\":true,\"textposition\":\"auto\",\"x\":[\"0\",\"1\"],\"xaxis\":\"x\",\"y\":[209.73250848198688,543.4707374581941],\"yaxis\":\"y\",\"type\":\"bar\"},{\"alignmentgroup\":\"True\",\"hovertemplate\":\"Product Category=toys & games\\u003cbr\\u003eIs Fraudulent=%{x}\\u003cbr\\u003eAvg Amount=%{y}\\u003cextra\\u003e\\u003c\\u002fextra\\u003e\",\"legendgroup\":\"toys & games\",\"marker\":{\"color\":\"#FF7F0E\",\"pattern\":{\"shape\":\"\"}},\"name\":\"toys & games\",\"offsetgroup\":\"toys & games\",\"orientation\":\"v\",\"showlegend\":true,\"textposition\":\"auto\",\"x\":[\"0\",\"1\"],\"xaxis\":\"x\",\"y\":[209.64851092439974,559.4513501068927],\"yaxis\":\"y\",\"type\":\"bar\"},{\"alignmentgroup\":\"True\",\"hovertemplate\":\"Product Category=electronics\\u003cbr\\u003eIs Fraudulent=%{x}\\u003cbr\\u003eAvg Amount=%{y}\\u003cextra\\u003e\\u003c\\u002fextra\\u003e\",\"legendgroup\":\"electronics\",\"marker\":{\"color\":\"#2CA02C\",\"pattern\":{\"shape\":\"\"}},\"name\":\"electronics\",\"offsetgroup\":\"electronics\",\"orientation\":\"v\",\"showlegend\":true,\"textposition\":\"auto\",\"x\":[\"0\",\"1\"],\"xaxis\":\"x\",\"y\":[209.98856776888175,544.6779487179508],\"yaxis\":\"y\",\"type\":\"bar\"},{\"alignmentgroup\":\"True\",\"hovertemplate\":\"Product Category=clothing\\u003cbr\\u003eIs Fraudulent=%{x}\\u003cbr\\u003eAvg Amount=%{y}\\u003cextra\\u003e\\u003c\\u002fextra\\u003e\",\"legendgroup\":\"clothing\",\"marker\":{\"color\":\"#D62728\",\"pattern\":{\"shape\":\"\"}},\"name\":\"clothing\",\"offsetgroup\":\"clothing\",\"orientation\":\"v\",\"showlegend\":true,\"textposition\":\"auto\",\"x\":[\"0\",\"1\"],\"xaxis\":\"x\",\"y\":[209.76507762613306,541.6669715823115],\"yaxis\":\"y\",\"type\":\"bar\"},{\"alignmentgroup\":\"True\",\"hovertemplate\":\"Product Category=home & garden\\u003cbr\\u003eIs Fraudulent=%{x}\\u003cbr\\u003eAvg Amount=%{y}\\u003cextra\\u003e\\u003c\\u002fextra\\u003e\",\"legendgroup\":\"home & garden\",\"marker\":{\"color\":\"#9467BD\",\"pattern\":{\"shape\":\"\"}},\"name\":\"home & garden\",\"offsetgroup\":\"home & garden\",\"orientation\":\"v\",\"showlegend\":true,\"textposition\":\"auto\",\"x\":[\"0\",\"1\"],\"xaxis\":\"x\",\"y\":[210.00183023032963,551.278646273998],\"yaxis\":\"y\",\"type\":\"bar\"}],                        {\"template\":{\"data\":{\"barpolar\":[{\"marker\":{\"line\":{\"color\":\"white\",\"width\":0.5},\"pattern\":{\"fillmode\":\"overlay\",\"size\":10,\"solidity\":0.2}},\"type\":\"barpolar\"}],\"bar\":[{\"error_x\":{\"color\":\"rgb(36,36,36)\"},\"error_y\":{\"color\":\"rgb(36,36,36)\"},\"marker\":{\"line\":{\"color\":\"white\",\"width\":0.5},\"pattern\":{\"fillmode\":\"overlay\",\"size\":10,\"solidity\":0.2}},\"type\":\"bar\"}],\"carpet\":[{\"aaxis\":{\"endlinecolor\":\"rgb(36,36,36)\",\"gridcolor\":\"white\",\"linecolor\":\"white\",\"minorgridcolor\":\"white\",\"startlinecolor\":\"rgb(36,36,36)\"},\"baxis\":{\"endlinecolor\":\"rgb(36,36,36)\",\"gridcolor\":\"white\",\"linecolor\":\"white\",\"minorgridcolor\":\"white\",\"startlinecolor\":\"rgb(36,36,36)\"},\"type\":\"carpet\"}],\"choropleth\":[{\"colorbar\":{\"outlinewidth\":1,\"tickcolor\":\"rgb(36,36,36)\",\"ticks\":\"outside\"},\"type\":\"choropleth\"}],\"contourcarpet\":[{\"colorbar\":{\"outlinewidth\":1,\"tickcolor\":\"rgb(36,36,36)\",\"ticks\":\"outside\"},\"type\":\"contourcarpet\"}],\"contour\":[{\"colorbar\":{\"outlinewidth\":1,\"tickcolor\":\"rgb(36,36,36)\",\"ticks\":\"outside\"},\"colorscale\":[[0.0,\"#440154\"],[0.1111111111111111,\"#482878\"],[0.2222222222222222,\"#3e4989\"],[0.3333333333333333,\"#31688e\"],[0.4444444444444444,\"#26828e\"],[0.5555555555555556,\"#1f9e89\"],[0.6666666666666666,\"#35b779\"],[0.7777777777777778,\"#6ece58\"],[0.8888888888888888,\"#b5de2b\"],[1.0,\"#fde725\"]],\"type\":\"contour\"}],\"heatmapgl\":[{\"colorbar\":{\"outlinewidth\":1,\"tickcolor\":\"rgb(36,36,36)\",\"ticks\":\"outside\"},\"colorscale\":[[0.0,\"#440154\"],[0.1111111111111111,\"#482878\"],[0.2222222222222222,\"#3e4989\"],[0.3333333333333333,\"#31688e\"],[0.4444444444444444,\"#26828e\"],[0.5555555555555556,\"#1f9e89\"],[0.6666666666666666,\"#35b779\"],[0.7777777777777778,\"#6ece58\"],[0.8888888888888888,\"#b5de2b\"],[1.0,\"#fde725\"]],\"type\":\"heatmapgl\"}],\"heatmap\":[{\"colorbar\":{\"outlinewidth\":1,\"tickcolor\":\"rgb(36,36,36)\",\"ticks\":\"outside\"},\"colorscale\":[[0.0,\"#440154\"],[0.1111111111111111,\"#482878\"],[0.2222222222222222,\"#3e4989\"],[0.3333333333333333,\"#31688e\"],[0.4444444444444444,\"#26828e\"],[0.5555555555555556,\"#1f9e89\"],[0.6666666666666666,\"#35b779\"],[0.7777777777777778,\"#6ece58\"],[0.8888888888888888,\"#b5de2b\"],[1.0,\"#fde725\"]],\"type\":\"heatmap\"}],\"histogram2dcontour\":[{\"colorbar\":{\"outlinewidth\":1,\"tickcolor\":\"rgb(36,36,36)\",\"ticks\":\"outside\"},\"colorscale\":[[0.0,\"#440154\"],[0.1111111111111111,\"#482878\"],[0.2222222222222222,\"#3e4989\"],[0.3333333333333333,\"#31688e\"],[0.4444444444444444,\"#26828e\"],[0.5555555555555556,\"#1f9e89\"],[0.6666666666666666,\"#35b779\"],[0.7777777777777778,\"#6ece58\"],[0.8888888888888888,\"#b5de2b\"],[1.0,\"#fde725\"]],\"type\":\"histogram2dcontour\"}],\"histogram2d\":[{\"colorbar\":{\"outlinewidth\":1,\"tickcolor\":\"rgb(36,36,36)\",\"ticks\":\"outside\"},\"colorscale\":[[0.0,\"#440154\"],[0.1111111111111111,\"#482878\"],[0.2222222222222222,\"#3e4989\"],[0.3333333333333333,\"#31688e\"],[0.4444444444444444,\"#26828e\"],[0.5555555555555556,\"#1f9e89\"],[0.6666666666666666,\"#35b779\"],[0.7777777777777778,\"#6ece58\"],[0.8888888888888888,\"#b5de2b\"],[1.0,\"#fde725\"]],\"type\":\"histogram2d\"}],\"histogram\":[{\"marker\":{\"line\":{\"color\":\"white\",\"width\":0.6}},\"type\":\"histogram\"}],\"mesh3d\":[{\"colorbar\":{\"outlinewidth\":1,\"tickcolor\":\"rgb(36,36,36)\",\"ticks\":\"outside\"},\"type\":\"mesh3d\"}],\"parcoords\":[{\"line\":{\"colorbar\":{\"outlinewidth\":1,\"tickcolor\":\"rgb(36,36,36)\",\"ticks\":\"outside\"}},\"type\":\"parcoords\"}],\"pie\":[{\"automargin\":true,\"type\":\"pie\"}],\"scatter3d\":[{\"line\":{\"colorbar\":{\"outlinewidth\":1,\"tickcolor\":\"rgb(36,36,36)\",\"ticks\":\"outside\"}},\"marker\":{\"colorbar\":{\"outlinewidth\":1,\"tickcolor\":\"rgb(36,36,36)\",\"ticks\":\"outside\"}},\"type\":\"scatter3d\"}],\"scattercarpet\":[{\"marker\":{\"colorbar\":{\"outlinewidth\":1,\"tickcolor\":\"rgb(36,36,36)\",\"ticks\":\"outside\"}},\"type\":\"scattercarpet\"}],\"scattergeo\":[{\"marker\":{\"colorbar\":{\"outlinewidth\":1,\"tickcolor\":\"rgb(36,36,36)\",\"ticks\":\"outside\"}},\"type\":\"scattergeo\"}],\"scattergl\":[{\"marker\":{\"colorbar\":{\"outlinewidth\":1,\"tickcolor\":\"rgb(36,36,36)\",\"ticks\":\"outside\"}},\"type\":\"scattergl\"}],\"scattermapbox\":[{\"marker\":{\"colorbar\":{\"outlinewidth\":1,\"tickcolor\":\"rgb(36,36,36)\",\"ticks\":\"outside\"}},\"type\":\"scattermapbox\"}],\"scatterpolargl\":[{\"marker\":{\"colorbar\":{\"outlinewidth\":1,\"tickcolor\":\"rgb(36,36,36)\",\"ticks\":\"outside\"}},\"type\":\"scatterpolargl\"}],\"scatterpolar\":[{\"marker\":{\"colorbar\":{\"outlinewidth\":1,\"tickcolor\":\"rgb(36,36,36)\",\"ticks\":\"outside\"}},\"type\":\"scatterpolar\"}],\"scatter\":[{\"fillpattern\":{\"fillmode\":\"overlay\",\"size\":10,\"solidity\":0.2},\"type\":\"scatter\"}],\"scatterternary\":[{\"marker\":{\"colorbar\":{\"outlinewidth\":1,\"tickcolor\":\"rgb(36,36,36)\",\"ticks\":\"outside\"}},\"type\":\"scatterternary\"}],\"surface\":[{\"colorbar\":{\"outlinewidth\":1,\"tickcolor\":\"rgb(36,36,36)\",\"ticks\":\"outside\"},\"colorscale\":[[0.0,\"#440154\"],[0.1111111111111111,\"#482878\"],[0.2222222222222222,\"#3e4989\"],[0.3333333333333333,\"#31688e\"],[0.4444444444444444,\"#26828e\"],[0.5555555555555556,\"#1f9e89\"],[0.6666666666666666,\"#35b779\"],[0.7777777777777778,\"#6ece58\"],[0.8888888888888888,\"#b5de2b\"],[1.0,\"#fde725\"]],\"type\":\"surface\"}],\"table\":[{\"cells\":{\"fill\":{\"color\":\"rgb(237,237,237)\"},\"line\":{\"color\":\"white\"}},\"header\":{\"fill\":{\"color\":\"rgb(217,217,217)\"},\"line\":{\"color\":\"white\"}},\"type\":\"table\"}]},\"layout\":{\"annotationdefaults\":{\"arrowhead\":0,\"arrowwidth\":1},\"autotypenumbers\":\"strict\",\"coloraxis\":{\"colorbar\":{\"outlinewidth\":1,\"tickcolor\":\"rgb(36,36,36)\",\"ticks\":\"outside\"}},\"colorscale\":{\"diverging\":[[0.0,\"rgb(103,0,31)\"],[0.1,\"rgb(178,24,43)\"],[0.2,\"rgb(214,96,77)\"],[0.3,\"rgb(244,165,130)\"],[0.4,\"rgb(253,219,199)\"],[0.5,\"rgb(247,247,247)\"],[0.6,\"rgb(209,229,240)\"],[0.7,\"rgb(146,197,222)\"],[0.8,\"rgb(67,147,195)\"],[0.9,\"rgb(33,102,172)\"],[1.0,\"rgb(5,48,97)\"]],\"sequential\":[[0.0,\"#440154\"],[0.1111111111111111,\"#482878\"],[0.2222222222222222,\"#3e4989\"],[0.3333333333333333,\"#31688e\"],[0.4444444444444444,\"#26828e\"],[0.5555555555555556,\"#1f9e89\"],[0.6666666666666666,\"#35b779\"],[0.7777777777777778,\"#6ece58\"],[0.8888888888888888,\"#b5de2b\"],[1.0,\"#fde725\"]],\"sequentialminus\":[[0.0,\"#440154\"],[0.1111111111111111,\"#482878\"],[0.2222222222222222,\"#3e4989\"],[0.3333333333333333,\"#31688e\"],[0.4444444444444444,\"#26828e\"],[0.5555555555555556,\"#1f9e89\"],[0.6666666666666666,\"#35b779\"],[0.7777777777777778,\"#6ece58\"],[0.8888888888888888,\"#b5de2b\"],[1.0,\"#fde725\"]]},\"colorway\":[\"#1F77B4\",\"#FF7F0E\",\"#2CA02C\",\"#D62728\",\"#9467BD\",\"#8C564B\",\"#E377C2\",\"#7F7F7F\",\"#BCBD22\",\"#17BECF\"],\"font\":{\"color\":\"rgb(36,36,36)\"},\"geo\":{\"bgcolor\":\"white\",\"lakecolor\":\"white\",\"landcolor\":\"white\",\"showlakes\":true,\"showland\":true,\"subunitcolor\":\"white\"},\"hoverlabel\":{\"align\":\"left\"},\"hovermode\":\"closest\",\"mapbox\":{\"style\":\"light\"},\"paper_bgcolor\":\"white\",\"plot_bgcolor\":\"white\",\"polar\":{\"angularaxis\":{\"gridcolor\":\"rgb(232,232,232)\",\"linecolor\":\"rgb(36,36,36)\",\"showgrid\":false,\"showline\":true,\"ticks\":\"outside\"},\"bgcolor\":\"white\",\"radialaxis\":{\"gridcolor\":\"rgb(232,232,232)\",\"linecolor\":\"rgb(36,36,36)\",\"showgrid\":false,\"showline\":true,\"ticks\":\"outside\"}},\"scene\":{\"xaxis\":{\"backgroundcolor\":\"white\",\"gridcolor\":\"rgb(232,232,232)\",\"gridwidth\":2,\"linecolor\":\"rgb(36,36,36)\",\"showbackground\":true,\"showgrid\":false,\"showline\":true,\"ticks\":\"outside\",\"zeroline\":false,\"zerolinecolor\":\"rgb(36,36,36)\"},\"yaxis\":{\"backgroundcolor\":\"white\",\"gridcolor\":\"rgb(232,232,232)\",\"gridwidth\":2,\"linecolor\":\"rgb(36,36,36)\",\"showbackground\":true,\"showgrid\":false,\"showline\":true,\"ticks\":\"outside\",\"zeroline\":false,\"zerolinecolor\":\"rgb(36,36,36)\"},\"zaxis\":{\"backgroundcolor\":\"white\",\"gridcolor\":\"rgb(232,232,232)\",\"gridwidth\":2,\"linecolor\":\"rgb(36,36,36)\",\"showbackground\":true,\"showgrid\":false,\"showline\":true,\"ticks\":\"outside\",\"zeroline\":false,\"zerolinecolor\":\"rgb(36,36,36)\"}},\"shapedefaults\":{\"fillcolor\":\"black\",\"line\":{\"width\":0},\"opacity\":0.3},\"ternary\":{\"aaxis\":{\"gridcolor\":\"rgb(232,232,232)\",\"linecolor\":\"rgb(36,36,36)\",\"showgrid\":false,\"showline\":true,\"ticks\":\"outside\"},\"baxis\":{\"gridcolor\":\"rgb(232,232,232)\",\"linecolor\":\"rgb(36,36,36)\",\"showgrid\":false,\"showline\":true,\"ticks\":\"outside\"},\"bgcolor\":\"white\",\"caxis\":{\"gridcolor\":\"rgb(232,232,232)\",\"linecolor\":\"rgb(36,36,36)\",\"showgrid\":false,\"showline\":true,\"ticks\":\"outside\"}},\"title\":{\"x\":0.05},\"xaxis\":{\"automargin\":true,\"gridcolor\":\"rgb(232,232,232)\",\"linecolor\":\"rgb(36,36,36)\",\"showgrid\":false,\"showline\":true,\"ticks\":\"outside\",\"title\":{\"standoff\":15},\"zeroline\":false,\"zerolinecolor\":\"rgb(36,36,36)\"},\"yaxis\":{\"automargin\":true,\"gridcolor\":\"rgb(232,232,232)\",\"linecolor\":\"rgb(36,36,36)\",\"showgrid\":false,\"showline\":true,\"ticks\":\"outside\",\"title\":{\"standoff\":15},\"zeroline\":false,\"zerolinecolor\":\"rgb(36,36,36)\"}}},\"xaxis\":{\"anchor\":\"y\",\"domain\":[0.0,1.0],\"title\":{\"text\":\"Is Fraudulent\"}},\"yaxis\":{\"anchor\":\"x\",\"domain\":[0.0,1.0],\"title\":{\"text\":\"Avg Amount\"}},\"legend\":{\"title\":{\"text\":\"Product Category\"},\"tracegroupgap\":0},\"margin\":{\"t\":60},\"barmode\":\"group\"},                        {\"responsive\": true}                    ).then(function(){\n",
              "                            \n",
              "var gd = document.getElementById('8d27c6a5-a150-4aee-8e86-6e43baf44598');\n",
              "var x = new MutationObserver(function (mutations, observer) {{\n",
              "        var display = window.getComputedStyle(gd).display;\n",
              "        if (!display || display === 'none') {{\n",
              "            console.log([gd, 'removed!']);\n",
              "            Plotly.purge(gd);\n",
              "            observer.disconnect();\n",
              "        }}\n",
              "}});\n",
              "\n",
              "// Listen for the removal of the full notebook cells\n",
              "var notebookContainer = gd.closest('#notebook-container');\n",
              "if (notebookContainer) {{\n",
              "    x.observe(notebookContainer, {childList: true});\n",
              "}}\n",
              "\n",
              "// Listen for the clearing of the current output cell\n",
              "var outputEl = gd.closest('.output');\n",
              "if (outputEl) {{\n",
              "    x.observe(outputEl, {childList: true});\n",
              "}}\n",
              "\n",
              "                        })                };                            </script>        </div>\n",
              "</body>\n",
              "</html>"
            ]
          },
          "metadata": {}
        }
      ]
    },
    {
      "cell_type": "markdown",
      "source": [
        ">**Pregunta ❓**: Si al final voy a utilizar Pandas para ciertos análisis, ¿por qué no cargar directamente los datos en un DataFrame de Pandas desde el principio?"
      ],
      "metadata": {
        "id": "E2R8Z_iOtFbT"
      }
    },
    {
      "cell_type": "markdown",
      "source": [
        "### Spark SQL"
      ],
      "metadata": {
        "id": "vQi7H_NokVDH"
      }
    },
    {
      "cell_type": "markdown",
      "source": [
        "Spark SQL es una de las funcionalidades de alto nivel más destacadas de Spark, brindando a los desarrolladores la capacidad de emplear ANSI SQL:2003. Esto significa que puedes realizar consultas utilizando la sintaxis del SQL clásico. Para facilitar esta integración, Spark utiliza el optimizador Catalyst, que sigue varios pasos para procesar y optimizar las consultas:\n",
        "\n",
        "- **Análisis**: Crea un Árbol de Sintaxis Abstracta (AST) para examinar la estructura de las tablas y las operaciones solicitadas en la consulta, como nombres de columnas, tipos de datos y funciones.\n",
        "\n",
        "- **Optimización Lógica**: Genera múltiples planes de ejecución posibles, optimizando la consulta desde un punto de vista lógico para mejorar la eficiencia.\n",
        "\n",
        "- **Planificación Física**: A partir del mejor plan lógico, selecciona los operadores físicos específicos que se utilizarán para ejecutar la consulta en el motor de Spark.\n",
        "\n",
        "- **Generación de Código**: Produce código Java optimizado para ser ejecutado en cada nodo del clúster, garantizando una ejecución eficiente y distribuida.\n",
        "\n",
        "Esta secuencia de pasos permite que Spark SQL ofrezca un rendimiento excepcional para la ejecución de consultas SQL, aprovechando la infraestructura distribuida de Spark y optimizando las consultas para acelerar el procesamiento de datos."
      ],
      "metadata": {
        "id": "CxTKSpF6fSnl"
      }
    },
    {
      "cell_type": "code",
      "source": [
        "df_renombrada.show()"
      ],
      "metadata": {
        "colab": {
          "base_uri": "https://localhost:8080/"
        },
        "id": "DVkQ7xCSqdl5",
        "outputId": "a3e6f2d6-ea43-4c70-bcae-d597bdf24bae"
      },
      "execution_count": null,
      "outputs": [
        {
          "output_type": "stream",
          "name": "stdout",
          "text": [
            "+--------------------+--------------------+------------------+-------------------+--------------+----------------+--------+------------+-----------------+-----------+---------------+--------------------+--------------------+-------------+----------------+----------------+----------------------+\n",
            "|      Transaction_ID|         Customer_ID|Transaction_Amount|   Transaction_Date|Payment_Method|Product_Category|Quantity|Customer_Age|Customer_Location|Device_Used|     IP_Address|    Shipping_Address|     Billing_Address|Is_Fraudulent|Account_Age_Days|Transaction_Hour|Transaction_Amount_CLP|\n",
            "+--------------------+--------------------+------------------+-------------------+--------------+----------------+--------+------------+-----------------+-----------+---------------+--------------------+--------------------+-------------+----------------+----------------+----------------------+\n",
            "|15d2e414-8735-46f...|d1b87f62-51b2-493...|             58.09|2024-02-20 05:58:41| bank transfer|     electronics|       1|          17|    Amandaborough|     tablet| 212.195.49.198|Unit 8934 Box 005...|Unit 8934 Box 005...|            0|              30|               5|            54592.4011|\n",
            "|0bfee1a0-6d5e-40d...|37de64d5-e901-4a5...|            389.96|2024-02-25 08:09:45|    debit card|     electronics|       2|          40|     East Timothy|    desktop|208.106.249.121|634 May Keys\\nPor...|634 May Keys\\nPor...|            0|              72|               8|           366480.5084|\n",
            "|e588eef4-b754-468...|1bac88d6-4b22-409...|            134.19|2024-03-18 03:42:55|        PayPal|   home & garden|       2|          22|       Davismouth|     tablet|   76.63.88.212|16282 Dana Falls ...|16282 Dana Falls ...|            0|              63|               3|    126110.42009999999|\n",
            "|4de46e52-60c3-49d...|2357c76e-9253-4ce...|            226.17|2024-03-16 20:41:31| bank transfer|        clothing|       5|          31|         Lynnberg|    desktop| 207.208.171.73|828 Strong Loaf A...|828 Strong Loaf A...|            0|             124|              20|           212552.3043|\n",
            "|074a76de-fe2d-443...|45071bc5-9588-43e...|            121.53|2024-01-15 05:08:17| bank transfer|        clothing|       2|          51|     South Nicole|     tablet| 190.172.14.169|29799 Jason Hills...|29799 Jason Hills...|            0|             158|               5|    114212.67869999999|\n",
            "|4e707452-7c8a-4cb...|29616b04-2d5c-472...|            166.41|2024-01-30 10:55:14| bank transfer|    toys & games|       2|          34|     Herreramouth|     tablet|  202.237.29.55|5699 Brittany Vil...|120 Kristi Dale\\n...|            0|              38|              10|           156390.4539|\n",
            "|7ed952fe-8ae1-4f1...|fe21ae29-ba4c-424...|             92.88|2024-02-04 19:59:10|        PayPal|    toys & games|       2|          14|        Ramosfort|     tablet|   13.45.27.192|727 Gibson Island...|727 Gibson Island...|            0|             119|              19|     87287.69519999999|\n",
            "|0b2fb5aa-7171-472...|024257c3-5671-4de...|            318.14|2024-02-20 13:30:29|   credit card| health & beauty|       4|          42|       Port Emily|    desktop|131.141.230.185|3914 Davis Union\\...|3914 Davis Union\\...|            0|             251|              13|    298984.79059999995|\n",
            "|1f52366c-7f40-439...|f17640ca-49da-45d...|             47.92|2024-03-03 19:44:00| bank transfer|   home & garden|       4|          38|       Carneyfurt|    desktop| 210.148.17.240|47893 Maldonado S...|47893 Maldonado S...|            0|             190|              19|            45034.7368|\n",
            "|3f10dfde-9c4c-408...|aab93e75-582f-445...|            121.78|2024-01-16 21:19:39| bank transfer| health & beauty|       4|          39|       Brockburgh|     mobile| 174.32.252.238|2334 Briana Cente...|2334 Briana Cente...|            0|             343|              21|           114447.6262|\n",
            "|75f19b14-516c-4f1...|6a2e1397-e24a-414...|            633.39|2024-01-20 22:11:22|        PayPal|    toys & games|       5|          20|        Craneport|     tablet|201.188.209.214|Unit 7360 Box 518...|55423 Henry Haven...|            0|             285|              22|     595253.5880999999|\n",
            "|0dae14e6-aca5-48b...|a30a5030-1c23-475...|             56.31|2024-02-16 21:08:15|        PayPal|   home & garden|       3|          35|     West Michael|     tablet|  81.95.103.200|3684 Morris Inlet...|3684 Morris Inlet...|            0|             259|              21|            52919.5749|\n",
            "|fb09ac9b-8c76-4ca...|2d86cadf-184e-46c...|            275.87|2024-02-15 11:45:52|   credit card|   home & garden|       5|          45|      Melindafurt|     mobile| 105.173.82.111|4197 Lewis Way\\nM...|075 Monroe Court\\...|            0|             307|              11|    259259.86729999998|\n",
            "|3a25fa55-ec25-4b4...|7be37ed2-b2d6-48b...|            178.94|2024-01-29 15:55:08|    debit card|        clothing|       4|          27|      Deniseburgh|     mobile| 211.46.251.245|298 Taylor Canyon...|298 Taylor Canyon...|            0|             200|              15|           168166.0226|\n",
            "|c696ffee-f01d-444...|bffedad1-43c1-4ef...|            374.04|2024-02-14 13:31:00| bank transfer|   home & garden|       5|          51|      Danielmouth|     tablet|   25.126.229.2|32232 Omar Glens\\...|32232 Omar Glens\\...|            0|              22|              13|           351519.0516|\n",
            "|e3ac696e-978c-43c...|4c80f103-ce9c-4e4...|            169.04|2024-03-04 10:10:58|    debit card|   home & garden|       1|          54|         Lamburgh|     tablet|  1.199.155.117|Unit 4478 Box 382...|Unit 4478 Box 382...|            0|              60|              10|           158862.1016|\n",
            "|e3c1a8ee-6455-4a3...|b4e261d2-2e81-4e5...|            254.48|2024-01-08 08:26:25| bank transfer|     electronics|       4|          20|West Melissashire|    desktop|   52.160.5.136|1117 Braun Courts...|1117 Braun Courts...|            0|             238|               8|    239157.75919999997|\n",
            "|08ded43b-24bf-400...|ed5b5482-fa35-48b...|            266.06|2024-01-26 14:29:25|    debit card|     electronics|       1|          41|     Port Rebecca|     tablet|   194.26.237.2|1228 Torres Squar...|1228 Torres Squar...|            0|             264|              14|           250040.5274|\n",
            "|0c0345fa-406b-406...|e852cd05-3ee9-45a...|            263.28|2024-03-07 22:58:45|    debit card|    toys & games|       3|          30|    East Jonathan|     tablet|166.131.101.195|12872 Kevin Creek...|12872 Kevin Creek...|            0|             159|              22|    247427.91119999997|\n",
            "|8501d4c2-10e4-4ae...|339683a0-3028-449...|            475.76|2024-01-17 10:58:52|        PayPal|        clothing|       2|          29|      Muellerstad|     mobile|  196.101.90.48|3496 Jason Ports\\...|3496 Jason Ports\\...|            0|             143|              10|    447114.49039999995|\n",
            "+--------------------+--------------------+------------------+-------------------+--------------+----------------+--------+------------+-----------------+-----------+---------------+--------------------+--------------------+-------------+----------------+----------------+----------------------+\n",
            "only showing top 20 rows\n",
            "\n"
          ]
        }
      ]
    },
    {
      "cell_type": "code",
      "source": [
        "# Creamos vista temporal\n",
        "# O puede ser tambien createOrReplaceTempView()\n",
        "df_renombrada.createTempView(\"sql_query_test\")"
      ],
      "metadata": {
        "id": "412JLzt-ghOl"
      },
      "execution_count": null,
      "outputs": []
    },
    {
      "cell_type": "code",
      "source": [
        "sparksession.sql(\"\"\"\n",
        "SELECT\n",
        "  *\n",
        "FROM sql_query_test\n",
        "WHERE Is_Fraudulent = 0\n",
        "  AND Transaction_Amount BETWEEN 40 AND 300\n",
        "  AND Payment_Method = 'bank transfer'\n",
        "  AND Product_Category = 'electronics'\n",
        "  AND Customer_Age < 35\n",
        "\"\"\").show()"
      ],
      "metadata": {
        "colab": {
          "base_uri": "https://localhost:8080/"
        },
        "id": "03LWNBcBfUbT",
        "outputId": "1854607b-6a23-4f41-ce2e-4da3cd0592f7"
      },
      "execution_count": null,
      "outputs": [
        {
          "output_type": "stream",
          "name": "stdout",
          "text": [
            "+--------------------+--------------------+------------------+-------------------+--------------+----------------+--------+------------+-----------------+-----------+---------------+--------------------+--------------------+-------------+----------------+----------------+----------------------+\n",
            "|      Transaction_ID|         Customer_ID|Transaction_Amount|   Transaction_Date|Payment_Method|Product_Category|Quantity|Customer_Age|Customer_Location|Device_Used|     IP_Address|    Shipping_Address|     Billing_Address|Is_Fraudulent|Account_Age_Days|Transaction_Hour|Transaction_Amount_CLP|\n",
            "+--------------------+--------------------+------------------+-------------------+--------------+----------------+--------+------------+-----------------+-----------+---------------+--------------------+--------------------+-------------+----------------+----------------+----------------------+\n",
            "|15d2e414-8735-46f...|d1b87f62-51b2-493...|             58.09|2024-02-20 05:58:41| bank transfer|     electronics|       1|          17|    Amandaborough|     tablet| 212.195.49.198|Unit 8934 Box 005...|Unit 8934 Box 005...|            0|              30|               5|            54592.4011|\n",
            "|e3c1a8ee-6455-4a3...|b4e261d2-2e81-4e5...|            254.48|2024-01-08 08:26:25| bank transfer|     electronics|       4|          20|West Melissashire|    desktop|   52.160.5.136|1117 Braun Courts...|1117 Braun Courts...|            0|             238|               8|    239157.75919999997|\n",
            "|f430dfa3-2f82-4e6...|b33e9f30-8d0c-43b...|            158.77|2024-02-06 02:06:15| bank transfer|     electronics|       1|          30|      Melindaview|    desktop| 150.171.219.82|85714 Stephen Dal...|85714 Stephen Dal...|            0|              21|               2|           149210.4583|\n",
            "|778e1ced-dd02-4fd...|2175b1e6-a472-4f4...|            211.52|2024-03-27 03:07:06| bank transfer|     electronics|       4|          30|       Weavertown|    desktop| 188.247.180.78|716 Blankenship T...|716 Blankenship T...|            0|             288|               3|           198784.3808|\n",
            "|c5cbd2b8-535f-444...|78b5ccd5-fe87-4be...|            183.04|2024-01-23 23:39:58| bank transfer|     electronics|       5|          34|        Lopezfort|     tablet| 134.197.81.134|8756 Carter Lodge...|8756 Carter Lodge...|            0|             183|              23|           172019.1616|\n",
            "|d6a801d2-1c84-423...|e60568ab-8003-4fa...|            107.61|2024-03-10 18:31:03| bank transfer|     electronics|       4|          27|     Jamesborough|     tablet| 202.155.202.81|66957 Mcbride Lig...|66957 Mcbride Lig...|            0|              55|              18|    101130.80189999999|\n",
            "|51749bd3-fcc3-4be...|1b884995-bba9-40c...|             41.39|2024-02-18 04:41:48| bank transfer|     electronics|       4|          24|      Brendaburgh|     tablet|   88.70.237.97|456 Duran Dam Sui...|456 Duran Dam Sui...|            0|             261|               4|            38897.9081|\n",
            "|56902337-62e0-4b7...|f9e2f935-6ff0-463...|             89.24|2024-01-14 12:28:07| bank transfer|     electronics|       5|          23|   Lake Johnshire|    desktop|  65.150.25.251|2511 Ferguson Cen...|2511 Ferguson Cen...|            0|              64|              12|            83866.8596|\n",
            "|ddb3e1b2-4374-49b...|13832bd8-cc5b-499...|            296.26|2024-01-04 15:54:13| bank transfer|     electronics|       5|          29|      Sanchezview|     mobile| 160.152.20.178|PSC 3703, Box 751...|PSC 3703, Box 751...|            0|             149|              15|    278422.18539999996|\n",
            "|d4137ab8-5bf7-40e...|bf8b9934-b3f3-4e4...|             44.97|2024-02-21 02:01:12| bank transfer|     electronics|       1|          31|   Jacquelinefurt|     tablet|  178.40.76.130|976 Clark Keys Ap...|Unit 5124 Box 328...|            0|             275|               2|            42262.3563|\n",
            "|baf1831d-3c47-469...|8846ff2b-4fe4-4e9...|            124.37|2024-01-09 21:50:31| bank transfer|     electronics|       1|          26|      Theresabury|    desktop| 223.91.146.226|9227 Denise Way\\n...|9227 Denise Way\\n...|            0|             113|              21|           116881.6823|\n",
            "|0569336c-7f9b-487...|11a66fbc-7b3e-4b5...|              85.6|2024-04-01 21:31:54| bank transfer|     electronics|       4|          31|        Devinfort|     mobile|170.209.237.248|06757 Stevenson S...|06757 Stevenson S...|            0|             138|              21|     80446.02399999999|\n",
            "|e692a3a1-cf21-44f...|95800591-891c-4d4...|             42.51|2024-03-03 21:21:04| bank transfer|     electronics|       1|          21|   Port Kevinbury|     tablet|168.147.210.250|4356 Huang Mall A...|4356 Huang Mall A...|            0|             118|              21|     39950.47289999999|\n",
            "|63760b0c-a0a2-4f7...|0b63f965-1234-458...|            112.18|2024-03-11 17:58:06| bank transfer|     electronics|       2|          32|     Hoffmanmouth|     tablet| 156.240.180.20|897 Jillian Coves...|897 Jillian Coves...|            0|              29|              17|           105425.6422|\n",
            "|c3b8a7f2-0299-496...|28e0e93a-5349-47b...|            162.31|2024-03-10 16:03:04| bank transfer|     electronics|       2|          22|      Michaelstad|    desktop| 91.185.215.183|0636 Turner Alley...|0636 Turner Alley...|            0|             240|              16|           152537.3149|\n",
            "|9d800646-7bb6-481...|603cc34f-9a19-4a8...|            105.26|2024-01-31 17:33:40| bank transfer|     electronics|       2|          25|      West Sheryl|    desktop|  102.244.123.3|387 Kathleen Stra...|387 Kathleen Stra...|            0|             365|              17|            98922.2954|\n",
            "|b3f7be7c-9410-428...|e67ff69e-85b5-41d...|             193.7|2024-03-03 08:56:12| bank transfer|     electronics|       3|          32| Port Claytonfurt|    desktop| 148.239.120.72|16962 Hunter Free...|16962 Hunter Free...|            0|             361|               8|    182037.32299999997|\n",
            "|22fa7834-a8e4-4a5...|c04ed895-9be7-46f...|             78.74|2024-02-08 10:15:16| bank transfer|     electronics|       4|          11|      Cruzchester|     mobile|    97.22.16.10|14635 Hunt Lakes\\...|14635 Hunt Lakes\\...|            0|             208|              10|            73999.0646|\n",
            "|40386d9d-6627-45f...|f7856e3c-bc7c-4b5...|             42.38|2024-01-06 05:46:26| bank transfer|     electronics|       3|          34|        Grantside|    desktop|  194.193.12.22|USCGC Dickerson\\n...|USCGC Dickerson\\n...|            0|             240|               5|            39828.3002|\n",
            "|5d20aab5-d647-4e6...|2c785ded-e447-463...|             92.28|2024-03-28 01:22:23| bank transfer|     electronics|       2|          33|        Lindaside|     tablet|    68.39.55.59|16983 Ruiz Harbor...|16983 Ruiz Harbor...|            0|              15|               1|     86723.82119999999|\n",
            "+--------------------+--------------------+------------------+-------------------+--------------+----------------+--------+------------+-----------------+-----------+---------------+--------------------+--------------------+-------------+----------------+----------------+----------------------+\n",
            "only showing top 20 rows\n",
            "\n"
          ]
        }
      ]
    },
    {
      "cell_type": "markdown",
      "source": [
        ">**Pregunta ❓**: Pero... ¿si quiero crear una tabla que no se borre?"
      ],
      "metadata": {
        "id": "V1pVIOLAliwU"
      }
    },
    {
      "cell_type": "markdown",
      "source": [
        "\n",
        "Este proceso es sencillo y se puede ejecutar mediante el método write. Además, para especificar el formato de almacenamiento y el modo de escritura, se utilizan las siguientes opciones:\n",
        "\n",
        "- `.format(\"delta\")`: Establece el formato de archivo que queires guardar la tabla. Un archivo muy común son las Delta Lake, un formato de almacenamiento avanzado que ofrece ACID transactions, versionado de datos y capacidad de auditoría.\n",
        "\n",
        "- `.mode(\"append\")`: Selecciona el modo de escritura en \"append\", lo que permite añadir los datos al conjunto existente sin sobrescribirlo, facilitando la acumulación de datos de manera incremental."
      ],
      "metadata": {
        "id": "S7CNrle4mShH"
      }
    },
    {
      "cell_type": "code",
      "source": [
        "df_renombrada.write.partitionBy(\"Product_Category\", \"Payment_Method\").saveAsTable(name='IM_example')"
      ],
      "metadata": {
        "id": "H1qKqwo0lBOV"
      },
      "execution_count": null,
      "outputs": []
    },
    {
      "cell_type": "code",
      "source": [
        "sparksession.sql(\n",
        "    \"select * from IM_example\"\n",
        ").show(2)"
      ],
      "metadata": {
        "colab": {
          "base_uri": "https://localhost:8080/"
        },
        "id": "WYQJy2uclXXJ",
        "outputId": "cd594011-b923-440a-eda1-2c0691337e3c"
      },
      "execution_count": null,
      "outputs": [
        {
          "output_type": "stream",
          "name": "stdout",
          "text": [
            "+--------------------+--------------------+------------------+-------------------+--------+------------+-----------------+-----------+---------------+--------------------+--------------------+-------------+----------------+----------------+----------------------+----------------+--------------+\n",
            "|      Transaction_ID|         Customer_ID|Transaction_Amount|   Transaction_Date|Quantity|Customer_Age|Customer_Location|Device_Used|     IP_Address|    Shipping_Address|     Billing_Address|Is_Fraudulent|Account_Age_Days|Transaction_Hour|Transaction_Amount_CLP|Product_Category|Payment_Method|\n",
            "+--------------------+--------------------+------------------+-------------------+--------+------------+-----------------+-----------+---------------+--------------------+--------------------+-------------+----------------+----------------+----------------------+----------------+--------------+\n",
            "|0bfee1a0-6d5e-40d...|37de64d5-e901-4a5...|            389.96|2024-02-25 08:09:45|       2|          40|     East Timothy|    desktop|208.106.249.121|634 May Keys\\nPor...|634 May Keys\\nPor...|            0|              72|               8|           366480.5084|     electronics|    debit card|\n",
            "|08ded43b-24bf-400...|ed5b5482-fa35-48b...|            266.06|2024-01-26 14:29:25|       1|          41|     Port Rebecca|     tablet|   194.26.237.2|1228 Torres Squar...|1228 Torres Squar...|            0|             264|              14|           250040.5274|     electronics|    debit card|\n",
            "+--------------------+--------------------+------------------+-------------------+--------+------------+-----------------+-----------+---------------+--------------------+--------------------+-------------+----------------+----------------+----------------------+----------------+--------------+\n",
            "only showing top 2 rows\n",
            "\n"
          ]
        }
      ]
    },
    {
      "cell_type": "markdown",
      "source": [
        "### ¿Cómo guardo los datos con Spark?"
      ],
      "metadata": {
        "id": "HrNlQTkBcHJc"
      }
    },
    {
      "cell_type": "markdown",
      "source": [
        "<center>\n",
        "<img src=\"https://github.com/MDS7202/MDS7202/blob/main/clases/2024-01/imagenes_clase_7/savedata.png?raw=true\" width=500 />"
      ],
      "metadata": {
        "id": "lTMvFQ-vcCE4"
      }
    },
    {
      "cell_type": "markdown",
      "source": [
        "Guardar datos de manera eficiente en Spark es crucial para asegurar la integridad, accesibilidad y rendimiento óptimo de tus aplicaciones de análisis de datos. Aquí te presentamos algunas buenas prácticas para guardar datos en Spark, junto con ejemplos de código para ilustrarte mejor el proceso.\n",
        "\n",
        "**Buenas Prácticas para Guardar Datos**\n",
        "\n",
        "1. **Elegir el Formato Adecuado**\n",
        "Dependiendo de tus necesidades de análisis y almacenamiento, elige el formato de archivo más adecuado. Parquet y ORC son excelentes para operaciones analíticas debido a su compresión y optimización de lectura. CSV y JSON son más adecuados para interoperabilidad con otras herramientas.\n",
        "\n",
        "  - **Parquet**: Ideal para almacenamiento eficiente y operaciones analíticas.\n",
        "  - **ORC**: Similar a Parquet con optimizaciones para ciertos casos de uso.\n",
        "  - **CSV/JSON**: Buena opción para interoperabilidad y casos de uso más simples.\n",
        "\n",
        "2. **Particionar los Datos**\n",
        "Particionar tus datos al guardarlos puede mejorar significativamente el rendimiento de lectura. Considera particionar tus datos basándote en columnas que suelen usarse en filtros o consultas.\n",
        "\n",
        "3. **Coalesce o Repartition**\n",
        "Antes de guardar, ajusta el número de particiones usando `coalesce` (reduce el número de particiones sin provocar shuffle) o `repartition` (permite aumentar o disminuir el número de particiones, pero provoca shuffle).\n",
        "\n",
        "  - **Coalesce**: Útil para reducir el número de archivos sin un shuffle completo.\n",
        "  - **Repartition**: Usado cuando necesitas un número específico de archivos o redistribuir datos (por ejemplo, después de un filtrado masivo)."
      ],
      "metadata": {
        "id": "L7Nv4vCOahJA"
      }
    },
    {
      "cell_type": "markdown",
      "source": [
        "Guardar en Formato Parquet con Particionado"
      ],
      "metadata": {
        "id": "xAotqGmnbUku"
      }
    },
    {
      "cell_type": "code",
      "source": [
        "(\n",
        "    df.write.partitionBy(\"Product Category\", \"Payment Method\")\n",
        "    .format(\"parquet\")\n",
        "    .save(\"./parquets/example1/\")\n",
        ")"
      ],
      "metadata": {
        "id": "EQ521b4qczrp"
      },
      "execution_count": null,
      "outputs": []
    },
    {
      "cell_type": "markdown",
      "source": [
        "Uso de Coalesce para Reducir el Número de Particiones"
      ],
      "metadata": {
        "id": "cdJQmD0nc3Y5"
      }
    },
    {
      "cell_type": "code",
      "source": [
        "df.coalesce(5).write.format(\"parquet\").save(\"./parquets/example2/\")"
      ],
      "metadata": {
        "id": "RZYxOLvo8Vup"
      },
      "execution_count": null,
      "outputs": []
    },
    {
      "cell_type": "code",
      "source": [
        "df.rdd.getNumPartitions()"
      ],
      "metadata": {
        "colab": {
          "base_uri": "https://localhost:8080/"
        },
        "id": "yeXAQO5TL1Gl",
        "outputId": "361db5ee-93bf-42be-fa43-e5a4725a7e63"
      },
      "execution_count": null,
      "outputs": [
        {
          "output_type": "execute_result",
          "data": {
            "text/plain": [
              "1"
            ]
          },
          "metadata": {},
          "execution_count": 85
        }
      ]
    },
    {
      "cell_type": "markdown",
      "source": [
        "Adoptar estas buenas prácticas y elegir las configuraciones adecuadas para tu caso de uso específico te ayudará a optimizar el almacenamiento de datos y el rendimiento de tus aplicaciones Spark. Recuerda siempre considerar las características de tus datos y los requisitos de análisis cuando elijas cómo y dónde guardar tus datos."
      ],
      "metadata": {
        "id": "tbWpoW2nbV8X"
      }
    },
    {
      "cell_type": "markdown",
      "source": [
        "Como pueden observar, al utilizar estos comandos para guardar DataFrames, Spark genera múltiples archivos. Sin embargo, no es necesario cargar estos archivos individualmente; Spark maneja automáticamente este proceso en segundo plano:"
      ],
      "metadata": {
        "id": "0dDgiBCbt1F1"
      }
    },
    {
      "cell_type": "code",
      "source": [
        "df_load = sparksession.read.parquet(\"./parquets/example1/Product Category= /Payment Method=\")\n",
        "df_load.show(2)"
      ],
      "metadata": {
        "id": "vR6DcDM4tm9c",
        "colab": {
          "base_uri": "https://localhost:8080/"
        },
        "outputId": "f0a8f2c5-4a88-47cc-b33b-ca08f9d5fae0"
      },
      "execution_count": null,
      "outputs": [
        {
          "output_type": "stream",
          "name": "stdout",
          "text": [
            "+--------------------+--------------------+------------------+-------------------+--------+------------+-----------------+-----------+---------------+--------------------+--------------------+-------------+----------------+----------------+----------------------+----------------+--------------+\n",
            "|      Transaction ID|         Customer ID|Transaction Amount|   Transaction Date|Quantity|Customer Age|Customer Location|Device Used|     IP Address|    Shipping Address|     Billing Address|Is Fraudulent|Account Age Days|Transaction Hour|Transaction Amount CLP|Product Category|Payment Method|\n",
            "+--------------------+--------------------+------------------+-------------------+--------+------------+-----------------+-----------+---------------+--------------------+--------------------+-------------+----------------+----------------+----------------------+----------------+--------------+\n",
            "|0bfee1a0-6d5e-40d...|37de64d5-e901-4a5...|            389.96|2024-02-25 08:09:45|       2|          40|     East Timothy|    desktop|208.106.249.121|634 May Keys\\nPor...|634 May Keys\\nPor...|            0|              72|               8|           366480.5084|     electronics|    debit card|\n",
            "|08ded43b-24bf-400...|ed5b5482-fa35-48b...|            266.06|2024-01-26 14:29:25|       1|          41|     Port Rebecca|     tablet|   194.26.237.2|1228 Torres Squar...|1228 Torres Squar...|            0|             264|              14|           250040.5274|     electronics|    debit card|\n",
            "+--------------------+--------------------+------------------+-------------------+--------+------------+-----------------+-----------+---------------+--------------------+--------------------+-------------+----------------+----------------+----------------------+----------------+--------------+\n",
            "only showing top 2 rows\n",
            "\n"
          ]
        }
      ]
    },
    {
      "cell_type": "code",
      "source": [
        "df_load.count()"
      ],
      "metadata": {
        "colab": {
          "base_uri": "https://localhost:8080/"
        },
        "id": "-fwJDuTuvyfx",
        "outputId": "de3153ec-d5c3-4c0b-d778-d1823be1f9cd"
      },
      "execution_count": null,
      "outputs": [
        {
          "output_type": "execute_result",
          "data": {
            "text/plain": [
              "600000"
            ]
          },
          "metadata": {},
          "execution_count": 87
        }
      ]
    },
    {
      "cell_type": "markdown",
      "source": [
        "## Finalizamos Sesión"
      ],
      "metadata": {
        "id": "kbconuiEbkTa"
      }
    },
    {
      "cell_type": "markdown",
      "source": [
        "Finalmente, para apagar Spark, debemos llamar al método stop () del SparkContext, en nuestro caso la variable _sc_:"
      ],
      "metadata": {
        "id": "JV7brceLbbho"
      }
    },
    {
      "cell_type": "code",
      "source": [
        "sparksession.stop()"
      ],
      "metadata": {
        "id": "b0ccwcf-bfOg"
      },
      "execution_count": null,
      "outputs": []
    },
    {
      "cell_type": "markdown",
      "metadata": {
        "id": "EzQEybzFU5u_"
      },
      "source": [
        "## Referencias\n",
        "\n",
        "1. Learning Spark - Holden Karau, Andy Konwinski, Patrick Wendell and Matei Zaharia.  O’Reilly Media, Inc. 2015. ISBN 978-1-449-35862-4\n",
        "2. Spark Overview. http://spark.apache.org/docs/latest/\n",
        "3. PySpark – Word Count Example. https://pythonexamples.org/pyspark-word-count-example/\n"
      ]
    }
  ]
}