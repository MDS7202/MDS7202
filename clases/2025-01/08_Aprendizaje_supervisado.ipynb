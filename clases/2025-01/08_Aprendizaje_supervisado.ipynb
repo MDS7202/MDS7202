{
 "cells": [
  {
   "cell_type": "markdown",
   "metadata": {},
   "source": [
    "# Clase 8: Introducción al Aprendizaje Supervisado\n",
    "\n",
    "\n",
    "**MDS7202: Laboratorio de Programación Científica para Ciencia de Datos**"
   ]
  },
  {
   "cell_type": "markdown",
   "metadata": {},
   "source": [
    "## Objetivos: \n",
    "   \n",
    "- Introducirlos en el aprendizaje supervisado usando ejemplos aplicados.\n",
    "- Entender el framework de clasificación y la ingeniería de características.\n",
    "- Ver las métricas de evaluación más comunes.\n",
    "- Entender conceptos relacionados con el entrenamiento de un modelo de machine learninig.\n"
   ]
  },
  {
   "cell_type": "markdown",
   "metadata": {},
   "source": [
    "<br>\n",
    "\n",
    "<div align='center'>\n",
    "<img src=\"../../recursos/2023-01/18-Aprendizaje-Supervisado-I/machine_learning.png?raw=true\" alt=\"Panorama General ML: Clasificación supervisada, No supervisada y Aprendizaje Reforzado binario\" width=700/>\n",
    "</div>\n"
   ]
  },
  {
   "cell_type": "markdown",
   "metadata": {},
   "source": [
    "## Aprendizaje Supervisado\n",
    "\n",
    "El aprendizaje supervisado se basa en trabajar con datasets cuyas observaciones son conjuntos de vectores con distintas **características** que describen a algún objeto en particular, y también contienen una **etiqueta/valor real** la cuál asigna una clase o valor a cada objeto. \n",
    "\n",
    "Cuando el valor a predecir es un(a): \n",
    "\n",
    "- Categoría/Etiqueta, el problema que se resuelve se denomina **Clasificación**.\n",
    "- Valor real, el problema que se resuelve se denomina **Regresión**.\n",
    "\n",
    "\n",
    "Las etiquetas pertenecen a un número finito de clases.\n",
    "\n",
    "\n",
    "Por ejemplo, el caso que estemos describiendo a una persona, el vector puede contener las siguentes **features/características**:\n",
    "\n",
    "- su altura en cm, \n",
    "- edad, \n",
    "- peso en kg, \n",
    "- residencia, \n",
    "- etc...\n",
    "\n",
    "Mientras que la **etiqueta** puede ser si la persona *quiere o no contratar un servicio de internet*: $\\{ True, False\\}$ "
   ]
  },
  {
   "cell_type": "code",
   "execution_count": 97,
   "metadata": {},
   "outputs": [
    {
     "data": {
      "text/html": [
       "<div>\n",
       "<style scoped>\n",
       "    .dataframe tbody tr th:only-of-type {\n",
       "        vertical-align: middle;\n",
       "    }\n",
       "\n",
       "    .dataframe tbody tr th {\n",
       "        vertical-align: top;\n",
       "    }\n",
       "\n",
       "    .dataframe thead th {\n",
       "        text-align: right;\n",
       "    }\n",
       "</style>\n",
       "<table border=\"1\" class=\"dataframe\">\n",
       "  <thead>\n",
       "    <tr style=\"text-align: right;\">\n",
       "      <th></th>\n",
       "      <th>Altura</th>\n",
       "      <th>Edad</th>\n",
       "      <th>Peso</th>\n",
       "      <th>Residencia</th>\n",
       "      <th>Posible cliente?</th>\n",
       "    </tr>\n",
       "  </thead>\n",
       "  <tbody>\n",
       "    <tr>\n",
       "      <th>0</th>\n",
       "      <td>177</td>\n",
       "      <td>43</td>\n",
       "      <td>72</td>\n",
       "      <td>Maipú</td>\n",
       "      <td>True</td>\n",
       "    </tr>\n",
       "    <tr>\n",
       "      <th>1</th>\n",
       "      <td>160</td>\n",
       "      <td>16</td>\n",
       "      <td>60</td>\n",
       "      <td>Pudahuel</td>\n",
       "      <td>False</td>\n",
       "    </tr>\n",
       "  </tbody>\n",
       "</table>\n",
       "</div>"
      ],
      "text/plain": [
       "   Altura  Edad  Peso Residencia  Posible cliente?\n",
       "0     177    43    72      Maipú              True\n",
       "1     160    16    60   Pudahuel             False"
      ]
     },
     "execution_count": 97,
     "metadata": {},
     "output_type": "execute_result"
    }
   ],
   "source": [
    "import pandas as pd\n",
    "\n",
    "# ejemplo clasificación\n",
    "pd.DataFrame(\n",
    "    [[177, 43, 72, \"Maipú\", True], [160, 16, 60, \"Pudahuel\", False]],\n",
    "    columns=[\"Altura\", \"Edad\", \"Peso\", \"Residencia\", \"Posible cliente?\"],\n",
    ")"
   ]
  },
  {
   "cell_type": "markdown",
   "metadata": {},
   "source": [
    "Como también lo que está dispuesto a gastar en el plan."
   ]
  },
  {
   "cell_type": "code",
   "execution_count": 2,
   "metadata": {},
   "outputs": [
    {
     "data": {
      "text/html": [
       "<div>\n",
       "<style scoped>\n",
       "    .dataframe tbody tr th:only-of-type {\n",
       "        vertical-align: middle;\n",
       "    }\n",
       "\n",
       "    .dataframe tbody tr th {\n",
       "        vertical-align: top;\n",
       "    }\n",
       "\n",
       "    .dataframe thead th {\n",
       "        text-align: right;\n",
       "    }\n",
       "</style>\n",
       "<table border=\"1\" class=\"dataframe\">\n",
       "  <thead>\n",
       "    <tr style=\"text-align: right;\">\n",
       "      <th></th>\n",
       "      <th>Altura</th>\n",
       "      <th>Edad</th>\n",
       "      <th>Peso</th>\n",
       "      <th>Residencia</th>\n",
       "      <th>Cuánto está dispuesto a pagar?</th>\n",
       "    </tr>\n",
       "  </thead>\n",
       "  <tbody>\n",
       "    <tr>\n",
       "      <th>0</th>\n",
       "      <td>177</td>\n",
       "      <td>43</td>\n",
       "      <td>72</td>\n",
       "      <td>Maipú</td>\n",
       "      <td>55000</td>\n",
       "    </tr>\n",
       "    <tr>\n",
       "      <th>1</th>\n",
       "      <td>160</td>\n",
       "      <td>16</td>\n",
       "      <td>60</td>\n",
       "      <td>Pudahuel</td>\n",
       "      <td>0</td>\n",
       "    </tr>\n",
       "  </tbody>\n",
       "</table>\n",
       "</div>"
      ],
      "text/plain": [
       "   Altura  Edad  Peso Residencia  Cuánto está dispuesto a pagar?\n",
       "0     177    43    72      Maipú                           55000\n",
       "1     160    16    60   Pudahuel                               0"
      ]
     },
     "execution_count": 2,
     "metadata": {},
     "output_type": "execute_result"
    }
   ],
   "source": [
    "# ejemplo regresión\n",
    "pd.DataFrame(\n",
    "    [[177, 43, 72, \"Maipú\", 55000], [160, 16, 60, \"Pudahuel\", 0]],\n",
    "    columns=[\"Altura\", \"Edad\", \"Peso\", \"Residencia\", \"Cuánto está dispuesto a pagar?\"],\n",
    ")"
   ]
  },
  {
   "cell_type": "markdown",
   "metadata": {},
   "source": [
    "El objetivo final del aprendizaje supervisado es crear modelos que permiten **asignar de forma automática categorías o valores a observaciones nuevas**. \n",
    "\n",
    "En términos prácticos, dado una nueva observación representada por un vector de características, el modelo generado debe ser capaz de asignar una etiqueta a dicha observación.\n"
   ]
  },
  {
   "cell_type": "markdown",
   "metadata": {},
   "source": [
    "### Framework General de Aprendizaje Supervisado Clásico\n",
    "\n",
    "La siguiente lista muestra las etapas que debería cumplir un algoritmo de aprendizaje supervisado clásico (i.e., no red neuronal)\n",
    "\n",
    "1. **Feature Engineering y Preprocesamiento**: Recolectar y preparar los datos.\n",
    "2. **Entrenar** un algoritmo de clasificación/regresión usando los datos.\n",
    "3. **Evaluar** qué tan bien clasifica el modelo generado.\n",
    "4. **Optimizar los modelos** modificando sus hiperparámetros."
   ]
  },
  {
   "cell_type": "markdown",
   "metadata": {},
   "source": [
    "\n",
    "\n",
    "El modelo construido debe **generalizar**, es decir, debe ser capaz de realizar predicciones correctas en nuevas observaciones. Para esto es útil pensar que el modelo generado está separando los datos por clases a través de un *decision boundary*. Mientras más holgado sea este *decision boundary*, mejor podrá generalizar el modelo.\n",
    "\n",
    "<div align='center'>\n",
    "<img src='https://github.com/MDS7202/MDS7202/blob/main/recursos/2023-01/18-Aprendizaje-Supervisado-I/overfitting.png?raw=true' witdh=400/>\n",
    "\n",
    "</div>\n",
    "\n",
    "<div align='center'>\n",
    "<a href='https://www.researchgate.net/figure/Example-of-overfitting-in-classification-a-Decision-boundary-that-best-fits-training_fig1_349186066'>Ejemplo de *Overfitting* en researchgate</a>\n",
    "</div>\n",
    "    \n",
    "<br/>\n",
    " \n",
    "### Cómo determinar que algorimo utilizar \n",
    " \n",
    "Lo más importante es la **capacidad predictiva** del modelo.\n",
    "Sin embargo, también hay otros factores muy relevantes que determinarán que algoritmo predictivo utilizar: \n",
    "\n",
    "**Costo computacional y eficiencia**: \n",
    "  - ¿Qué tanto se está demorando mi modelo en entrenar? \n",
    "  - ¿Y en predecir? \n",
    "  - ¿Corre con los recursos que tengo disponible?\n",
    "  - ¿Es posible usarlo en tiempo real para algún tipo de solución online?\n",
    "  \n",
    "**Explicabilidad**: \n",
    "  - ¿Puedo explicar por qué el modelo está clasificando/regresionando de la manera que lo hace? \n",
    "  \n",
    "***Fairness***: \n",
    "  - ¿Mi modelo es injusto con respecto a algún grupo social?\n",
    "\n",
    "***El que rinda mejor***: \n",
    "  - Si todo lo demás se cumple, entonces se mide por desempeño."
   ]
  },
  {
   "cell_type": "markdown",
   "metadata": {},
   "source": [
    "\n",
    "### ¿Cómo saber si un modelo es bueno o no?\n",
    "\n",
    "Lo primero que nos tenemos que preguntar es qué significa ser bueno.\n",
    "\n",
    "1) Resuelva bien el problema planteado, según la métrica adecuada.\n",
    "2) Cumple con los requisitos de los *stakeholders* involucrados (en cuando a *fairness*, interpretabilidad, velocidad).\n",
    "3) Generaliza bien a nuevos datos.\n",
    "\n",
    "\n",
    "Sobre el pto 1, resumimos la capacidad predictiva de un modelo mediante **métricas de desempeño**, las cuales se construyen contrastando los valores predichos versus los valores reales de la variable objetivo (con datos no usados durante entrenamiento)."
   ]
  },
  {
   "cell_type": "markdown",
   "metadata": {},
   "source": [
    "##  Métricas de desempeño Clasificación - Matriz de Confusión"
   ]
  },
  {
   "cell_type": "markdown",
   "metadata": {},
   "source": [
    "<div align='center'>\n",
    "    <img src=\"https://github.com/MDS7202/MDS7202/blob/main/recursos/2023-01/18-Aprendizaje-Supervisado-I/matriz_conf.PNG?raw=true\" alt=\"Ejemplo de una matriz de confusión para un problema de clasificación binario\" width=450/>\n",
    "</div>\n",
    "\n",
    "<center>Ejemplo de una matriz de confusión para un problema de clasificación binario.</center>\n",
    "\n"
   ]
  },
  {
   "cell_type": "markdown",
   "metadata": {},
   "source": [
    "---\n",
    "\n",
    "> Ejemplo: Alergia a cierto medicamento en donde la clase `+` indica alergia.\n",
    "\n",
    "\n",
    "Nuestro dataset tiene 10.000 observaciones distribuidos de la siguiente forma:\n",
    "\n",
    "- Clase `+`: 100 observaciones.\n",
    "- Clase `-`: 9900 observaciones.\n",
    "\n",
    "\n",
    "Luego, creamos un modelo que clasificó nuestro dataset y graficamos sus resultados a través de la siguiente matriz de confusión:\n",
    "\n",
    "\n",
    "|                    | **Predicha (`+`)**  | **Predicha (`-`)** |\n",
    "|--------------------|---------------------|--------------------|\n",
    "| **Real (`+`)**     | 10                  | 90                 |\n",
    "| **Real (`-`)**     | 100                 | 9800               |\n",
    "\n",
    "---\n",
    "\n",
    "> **Pregunta**: ¿Cuáles métricas de desempeño conocen para evaluar este caso?"
   ]
  },
  {
   "cell_type": "markdown",
   "metadata": {},
   "source": [
    "### Métricas de desempeño\n",
    "\n",
    "Métricas basadas en contar datos correcta e incorrectamente clasificados:\n",
    "\n",
    "- **Accuracy (Exactitud)**: $$\\text{accuracy} = \\frac{\\text{número de predicciones correctas}}{\\text{número de predicciones totales}}$$\n",
    "\n",
    "- **Error rate (Tasa de error)**: $$\\text{error rate} = \\frac{\\text{número de predicciones incorrectas}}{\\text{número de predicciones totales}}$$\n",
    "\n",
    "\n",
    "\n",
    "- En nuestro ejemplo anterior: \n",
    "\n",
    "$$\\text{accuracy} = \\frac{9810}{10000} = 0.981$$\n",
    "\n",
    "$$\\text{error rate} = \\frac{190}{10000} = 0.019$$\n",
    "\n",
    "\n",
    "> **Pregunta ❓:** ¿Cuál es el problema de `Accuracy` en nuestro ejemplo?\n",
    "\n",
    "\n",
    "\n",
    "---\n"
   ]
  },
  {
   "cell_type": "markdown",
   "metadata": {},
   "source": [
    "#### Métricas Basadas en la Matriz de Confusión\n",
    "\n",
    "Una posible solución a este problema son las métricas basadas en la matriz de confusión:\n",
    "\n",
    "<div align='center'>\n",
    "    <img src=\"https://github.com/MDS7202/MDS7202/blob/main/recursos/2023-01/18-Aprendizaje-Supervisado-I/matriz_conf.PNG?raw=true\" alt=\"Ejemplo de una matriz de confusión para un problema de clasificación binario\" width=450/>\n",
    "</div>\n",
    "\n",
    "- **Precision**:  Fracción de ejemplos correctamente predichos como `+` con respecto a todos los predichos `+`.\n",
    "\n",
    "$$P = \\frac{\\text{Clasificados correctamente como positivo}}{\\text{Todos los predichos como positivos}} =\\frac{TP}{(TP + FP)}$$\n",
    "\n",
    "\n",
    "<br>\n",
    "\n",
    "- **Recall**: Fracción de ejemplos `+` que son correctamente clasificados sobre el total de ejemplos `+`: \n",
    "\n",
    "$$R = \\frac{\\text{Clasificados correctamente como positivo}}{\\text{Todos los que debería haber clasificado como positivos}}  = \\frac{TP}{(TP+FN)}$$\n",
    "\n",
    "\n",
    "<br>\n",
    "\n",
    "- **F1 measure**: Combina precisión y recall usando una media armónica (i.e., media que castiga si ambos valores son muy diferentes).\n",
    "\n",
    "$$F = \\frac{2PR}{(P+R)}$$\n"
   ]
  },
  {
   "cell_type": "markdown",
   "metadata": {},
   "source": [
    "\n",
    "|                    | **Predicha (`+`)**  | **Predicha (`-`)** |\n",
    "|--------------------|---------------------|--------------------|\n",
    "| **Real (`+`)**     | 10                  | 90                 |\n",
    "| **Real (`-`)**     | 100                 | 9800               |"
   ]
  },
  {
   "cell_type": "markdown",
   "metadata": {},
   "source": [
    "En nuestro ejemplo anterior:\n",
    "\n",
    "\n",
    "$$P = \\frac{10}{110} = 0.\\bar{09}$$\n",
    "\n",
    "$$R = \\frac{10}{100} = 0.1$$\n",
    "\n",
    "$$F = \\frac{2 \\cdot 0.1 \\cdot 0.\\bar{1}}{(0.1 + 0.\\bar{1})} \\approx 0.095$$ \n",
    "\n",
    "Ahora claramente se nota el problema."
   ]
  },
  {
   "cell_type": "markdown",
   "metadata": {},
   "source": [
    "> **Pregunta ❓**: En el caso de un problema de detección de frutas podridas, ¿que nos convendría más utilizar? ¿precision o recall? "
   ]
  },
  {
   "cell_type": "markdown",
   "metadata": {},
   "source": [
    "![](https://www.lavanguardia.com/files/article_main_microformat/uploads/2019/11/05/5e9979d2bdba1.jpeg)"
   ]
  },
  {
   "cell_type": "markdown",
   "metadata": {},
   "source": [
    "#### Matriz de confusión multiclase\n",
    "\n",
    "Cuando tenemos $k$ clases, la matriz de confusión es una matriz de $k \\times k$.\n",
    "\n",
    "<div align='center'>\n",
    "<img src=\"https://github.com/MDS7202/MDS7202/blob/main/recursos/2023-01/18-Aprendizaje-Supervisado-I/matriz_conf_multiclase.png?raw=true\" alt=\"Ejemplo de una matriz de confusión para un problema de clasificación binario\" style=\"width: 500px;\"/>\n",
    "</div>\n",
    "\n",
    "¿Cómo calculamos las métricas?\n",
    "\n",
    "\n",
    "#### Métricas de Desempeño Generalizadas: \n",
    "\n",
    "\n",
    "- Precision: Fracción de ejemplos asignados a la clase `i` que son realmente de la clase `i`. Finalmente, es la fracción de casos en los que declaramos correctamente 𝑖 de todos los casos en los que el algoritmo declaró 𝑖.\n",
    "\n",
    "$$\\text{precision} = \\frac{c_{ii}}{\\sum_{j}c_{ji}}$$\n",
    "\n",
    "\n",
    "- Recall: Fracción de ejemplos de la clase `i` correctamente clasificados. Recall es la fracción de eventos en los que declaramos correctamente 𝑖 de todos los casos en los que el verdadero estado 𝑖: \n",
    "\n",
    "$$\\text{recall} = \\frac{c_{ii}}{\\sum_{j}c_{ij}}$$\n",
    "\n",
    "- Accuracy: Fracción de ejemplos correctamente clasificados:\n",
    "\n",
    "$$\\text{accuracy} = \\frac{\\sum_{i}c_{ii}}{\\sum_{j}\\sum_{i}c_{ij}}$$\n",
    "\n",
    "#### Estrategia de Agregación\n",
    "\n",
    "- **Macroaveraging**\n",
    "    - Computar métrica para cada clase y luego promediar. \n",
    "    - Sobrerepresentan clases minoritarias al tratar a todas por igual.\n",
    "\n",
    "- **Weighted**\n",
    "    - Computar métrica para cada clase y luego hace un promedio ponderado por el número de ejemplos de esa clase.\n",
    "    - Al ser ponderado por el número de casos, da más prioridad a las clases frecuentes.\n",
    "\n",
    "- **Microaveraging**\n",
    "    - Computar métrica sobre los resultados globales, sin discriminar por clase. \n",
    "    - Refleja el rendimiendo global del modelo, agnóstico a la clases.\n",
    "\n",
    "\n",
    "`Scikit` provee un acceso rápido a todas estas métricas a través de su función `sklearn.metrics.classification_report`"
   ]
  },
  {
   "cell_type": "markdown",
   "metadata": {},
   "source": [
    "## Generalización - Underfitting y Overfitting\n",
    "\n",
    "Errores de entrenamiento o **Underfitting**. \n",
    "- Malos resultados sobre los datos de entrenamiento\n",
    "- El clasificador no tiene capacidad de aprender el patrón.\n",
    "\n",
    "Errores de generalización o **Overfitting**. \n",
    "- Malos resultados sobre datos nuevos \n",
    "- El modelo se hace demasiado específico a los datos de entrenamiento. \n",
    "\n",
    "\n",
    "<div align='center'>\n",
    "<img src='https://github.com/MDS7202/MDS7202/blob/main/recursos/2023-01/18-Aprendizaje-Supervisado-I/tipos_fit.png?raw=true' width=800/>\n",
    "</div>\n",
    "\n",
    "<div align='center'>\n",
    "    Fuente: The Hundred-Page Machine Learning Book.\n",
    "</div>"
   ]
  },
  {
   "cell_type": "markdown",
   "metadata": {
    "ExecuteTime": {
     "end_time": "2020-09-07T19:45:34.649513Z",
     "start_time": "2020-09-07T19:45:34.617566Z"
    },
    "tags": []
   },
   "source": [
    "## Nuestro problema de hoy: Pingüinos  🐧\n",
    "\n",
    "\n",
    "Origen del dataset:\n",
    "\n",
    "**Palmer Archipelago (Antarctica) penguin data**: \n",
    "\n",
    "*Data were collected and made available by Dr. Kristen Gorman and the Palmer Station, Antarctica LTER, a member of the Long Term Ecological Research Network.*\n",
    "\n",
    "https://github.com/allisonhorst/palmerpenguins\n",
    "\n",
    "![Pinguinos](https://raw.githubusercontent.com/allisonhorst/palmerpenguins/master/man/figures/lter_penguins.png)\n",
    "\n",
    "\n",
    "    \n",
    "    \n"
   ]
  },
  {
   "cell_type": "markdown",
   "metadata": {},
   "source": [
    "### Atributos\n",
    " \n",
    "- `culmen_length_mm`: Largo del culmen (vértice o borde superior de la mandíbula)  (mm).\n",
    "- `culmen_depth_mm`: Alto del culmen (vértice o borde superior de la mandíbula) (mm).\n",
    "- `flipper_length_mm`: Longitud de las aletas (mm).\n",
    "- `body_mass_g`: Masa corporal (g).\n",
    "- `island`: Isla de origen (Dream, Torgersen, or Biscoe) en el archipiélago de Palmer (Antarctica).\n",
    "- `sex`: Sexo del pinguino.\n",
    "\n",
    "![Detalle Variables](https://allisonhorst.github.io/palmerpenguins/reference/figures/culmen_depth.png)\n",
    "    \n",
    "<center>Créditos a Allison Horst por sus excelentes ilustraciones https://github.com/allisonhorst </center>    \n",
    "    \n",
    "    \n",
    "### Variable a predecir\n",
    "\n",
    "- `species`: Especie del pinguino (Chinstrap, Adélie, or Gentoo)"
   ]
  },
  {
   "cell_type": "markdown",
   "metadata": {
    "ExecuteTime": {
     "end_time": "2020-09-07T18:13:05.372393Z",
     "start_time": "2020-09-07T18:13:05.369428Z"
    }
   },
   "source": [
    "### Exploración y Preprocesamiento\n"
   ]
  },
  {
   "cell_type": "code",
   "execution_count": 98,
   "metadata": {
    "ExecuteTime": {
     "end_time": "2020-09-11T17:43:11.786261Z",
     "start_time": "2020-09-11T17:43:11.778282Z"
    }
   },
   "outputs": [],
   "source": [
    "import numpy as np\n",
    "import pandas as pd\n",
    "from sklearn.metrics import classification_report, confusion_matrix"
   ]
  },
  {
   "cell_type": "code",
   "execution_count": null,
   "metadata": {
    "ExecuteTime": {
     "end_time": "2020-09-11T17:43:11.818175Z",
     "start_time": "2020-09-11T17:43:11.788255Z"
    }
   },
   "outputs": [
    {
     "data": {
      "text/html": [
       "<div>\n",
       "<style scoped>\n",
       "    .dataframe tbody tr th:only-of-type {\n",
       "        vertical-align: middle;\n",
       "    }\n",
       "\n",
       "    .dataframe tbody tr th {\n",
       "        vertical-align: top;\n",
       "    }\n",
       "\n",
       "    .dataframe thead th {\n",
       "        text-align: right;\n",
       "    }\n",
       "</style>\n",
       "<table border=\"1\" class=\"dataframe\">\n",
       "  <thead>\n",
       "    <tr style=\"text-align: right;\">\n",
       "      <th></th>\n",
       "      <th>species</th>\n",
       "      <th>island</th>\n",
       "      <th>culmen_length_mm</th>\n",
       "      <th>culmen_depth_mm</th>\n",
       "      <th>flipper_length_mm</th>\n",
       "      <th>body_mass_g</th>\n",
       "      <th>sex</th>\n",
       "    </tr>\n",
       "  </thead>\n",
       "  <tbody>\n",
       "    <tr>\n",
       "      <th>0</th>\n",
       "      <td>Adelie</td>\n",
       "      <td>Torgersen</td>\n",
       "      <td>39.1</td>\n",
       "      <td>18.7</td>\n",
       "      <td>181.0</td>\n",
       "      <td>3750.0</td>\n",
       "      <td>MALE</td>\n",
       "    </tr>\n",
       "    <tr>\n",
       "      <th>1</th>\n",
       "      <td>Adelie</td>\n",
       "      <td>Torgersen</td>\n",
       "      <td>39.5</td>\n",
       "      <td>17.4</td>\n",
       "      <td>186.0</td>\n",
       "      <td>3800.0</td>\n",
       "      <td>FEMALE</td>\n",
       "    </tr>\n",
       "    <tr>\n",
       "      <th>2</th>\n",
       "      <td>Adelie</td>\n",
       "      <td>Torgersen</td>\n",
       "      <td>40.3</td>\n",
       "      <td>18.0</td>\n",
       "      <td>195.0</td>\n",
       "      <td>3250.0</td>\n",
       "      <td>FEMALE</td>\n",
       "    </tr>\n",
       "    <tr>\n",
       "      <th>3</th>\n",
       "      <td>Adelie</td>\n",
       "      <td>Torgersen</td>\n",
       "      <td>36.7</td>\n",
       "      <td>19.3</td>\n",
       "      <td>193.0</td>\n",
       "      <td>3450.0</td>\n",
       "      <td>FEMALE</td>\n",
       "    </tr>\n",
       "    <tr>\n",
       "      <th>4</th>\n",
       "      <td>Adelie</td>\n",
       "      <td>Torgersen</td>\n",
       "      <td>39.3</td>\n",
       "      <td>20.6</td>\n",
       "      <td>190.0</td>\n",
       "      <td>3650.0</td>\n",
       "      <td>MALE</td>\n",
       "    </tr>\n",
       "    <tr>\n",
       "      <th>...</th>\n",
       "      <td>...</td>\n",
       "      <td>...</td>\n",
       "      <td>...</td>\n",
       "      <td>...</td>\n",
       "      <td>...</td>\n",
       "      <td>...</td>\n",
       "      <td>...</td>\n",
       "    </tr>\n",
       "    <tr>\n",
       "      <th>329</th>\n",
       "      <td>Gentoo</td>\n",
       "      <td>Biscoe</td>\n",
       "      <td>47.2</td>\n",
       "      <td>13.7</td>\n",
       "      <td>214.0</td>\n",
       "      <td>4925.0</td>\n",
       "      <td>FEMALE</td>\n",
       "    </tr>\n",
       "    <tr>\n",
       "      <th>330</th>\n",
       "      <td>Gentoo</td>\n",
       "      <td>Biscoe</td>\n",
       "      <td>46.8</td>\n",
       "      <td>14.3</td>\n",
       "      <td>215.0</td>\n",
       "      <td>4850.0</td>\n",
       "      <td>FEMALE</td>\n",
       "    </tr>\n",
       "    <tr>\n",
       "      <th>331</th>\n",
       "      <td>Gentoo</td>\n",
       "      <td>Biscoe</td>\n",
       "      <td>50.4</td>\n",
       "      <td>15.7</td>\n",
       "      <td>222.0</td>\n",
       "      <td>5750.0</td>\n",
       "      <td>MALE</td>\n",
       "    </tr>\n",
       "    <tr>\n",
       "      <th>332</th>\n",
       "      <td>Gentoo</td>\n",
       "      <td>Biscoe</td>\n",
       "      <td>45.2</td>\n",
       "      <td>14.8</td>\n",
       "      <td>212.0</td>\n",
       "      <td>5200.0</td>\n",
       "      <td>FEMALE</td>\n",
       "    </tr>\n",
       "    <tr>\n",
       "      <th>333</th>\n",
       "      <td>Gentoo</td>\n",
       "      <td>Biscoe</td>\n",
       "      <td>49.9</td>\n",
       "      <td>16.1</td>\n",
       "      <td>213.0</td>\n",
       "      <td>5400.0</td>\n",
       "      <td>MALE</td>\n",
       "    </tr>\n",
       "  </tbody>\n",
       "</table>\n",
       "<p>334 rows × 7 columns</p>\n",
       "</div>"
      ],
      "text/plain": [
       "    species     island  culmen_length_mm  culmen_depth_mm  flipper_length_mm  \\\n",
       "0    Adelie  Torgersen              39.1             18.7              181.0   \n",
       "1    Adelie  Torgersen              39.5             17.4              186.0   \n",
       "2    Adelie  Torgersen              40.3             18.0              195.0   \n",
       "3    Adelie  Torgersen              36.7             19.3              193.0   \n",
       "4    Adelie  Torgersen              39.3             20.6              190.0   \n",
       "..      ...        ...               ...              ...                ...   \n",
       "329  Gentoo     Biscoe              47.2             13.7              214.0   \n",
       "330  Gentoo     Biscoe              46.8             14.3              215.0   \n",
       "331  Gentoo     Biscoe              50.4             15.7              222.0   \n",
       "332  Gentoo     Biscoe              45.2             14.8              212.0   \n",
       "333  Gentoo     Biscoe              49.9             16.1              213.0   \n",
       "\n",
       "     body_mass_g     sex  \n",
       "0         3750.0    MALE  \n",
       "1         3800.0  FEMALE  \n",
       "2         3250.0  FEMALE  \n",
       "3         3450.0  FEMALE  \n",
       "4         3650.0    MALE  \n",
       "..           ...     ...  \n",
       "329       4925.0  FEMALE  \n",
       "330       4850.0  FEMALE  \n",
       "331       5750.0    MALE  \n",
       "332       5200.0  FEMALE  \n",
       "333       5400.0    MALE  \n",
       "\n",
       "[334 rows x 7 columns]"
      ]
     },
     "execution_count": 99,
     "metadata": {},
     "output_type": "execute_result"
    }
   ],
   "source": [
    "df = (\n",
    "    pd.read_csv(\"../../recursos/2023-01/18-Aprendizaje-Supervisado-I/penguins.csv\")\n",
    "    .dropna()\n",
    "    .reset_index(drop=True)\n",
    ")\n",
    "df"
   ]
  },
  {
   "cell_type": "code",
   "execution_count": 100,
   "metadata": {
    "ExecuteTime": {
     "end_time": "2020-09-11T17:43:11.906937Z",
     "start_time": "2020-09-11T17:43:11.822164Z"
    }
   },
   "outputs": [
    {
     "data": {
      "application/vnd.plotly.v1+json": {
       "config": {
        "plotlyServerURL": "https://plot.ly"
       },
       "data": [
        {
         "dimensions": [
          {
           "axis": {
            "matches": true
           },
           "label": "culmen_length_mm",
           "values": [
            39.1,
            39.5,
            40.3,
            36.7,
            39.3,
            38.9,
            39.2,
            41.1,
            38.6,
            34.6,
            36.6,
            38.7,
            42.5,
            34.4,
            46,
            37.8,
            37.7,
            35.9,
            38.2,
            38.8,
            35.3,
            40.6,
            40.5,
            37.9,
            40.5,
            39.5,
            37.2,
            39.5,
            40.9,
            36.4,
            39.2,
            38.8,
            42.2,
            37.6,
            39.8,
            36.5,
            40.8,
            36,
            44.1,
            37,
            39.6,
            41.1,
            36,
            42.3,
            39.6,
            40.1,
            35,
            42,
            34.5,
            41.4,
            39,
            40.6,
            36.5,
            37.6,
            35.7,
            41.3,
            37.6,
            41.1,
            36.4,
            41.6,
            35.5,
            41.1,
            35.9,
            41.8,
            33.5,
            39.7,
            39.6,
            45.8,
            35.5,
            42.8,
            40.9,
            37.2,
            36.2,
            42.1,
            34.6,
            42.9,
            36.7,
            35.1,
            37.3,
            41.3,
            36.3,
            36.9,
            38.3,
            38.9,
            35.7,
            41.1,
            34,
            39.6,
            36.2,
            40.8,
            38.1,
            40.3,
            33.1,
            43.2,
            35,
            41,
            37.7,
            37.8,
            37.9,
            39.7,
            38.6,
            38.2,
            38.1,
            43.2,
            38.1,
            45.6,
            39.7,
            42.2,
            39.6,
            42.7,
            38.6,
            37.3,
            35.7,
            41.1,
            36.2,
            37.7,
            40.2,
            41.4,
            35.2,
            40.6,
            38.8,
            41.5,
            39,
            44.1,
            38.5,
            43.1,
            36.8,
            37.5,
            38.1,
            41.1,
            35.6,
            40.2,
            37,
            39.7,
            40.2,
            40.6,
            32.1,
            40.7,
            37.3,
            39,
            39.2,
            36.6,
            36,
            37.8,
            36,
            41.5
           ]
          },
          {
           "axis": {
            "matches": true
           },
           "label": "culmen_depth_mm",
           "values": [
            18.7,
            17.4,
            18,
            19.3,
            20.6,
            17.8,
            19.6,
            17.6,
            21.2,
            21.1,
            17.8,
            19,
            20.7,
            18.4,
            21.5,
            18.3,
            18.7,
            19.2,
            18.1,
            17.2,
            18.9,
            18.6,
            17.9,
            18.6,
            18.9,
            16.7,
            18.1,
            17.8,
            18.9,
            17,
            21.1,
            20,
            18.5,
            19.3,
            19.1,
            18,
            18.4,
            18.5,
            19.7,
            16.9,
            18.8,
            19,
            17.9,
            21.2,
            17.7,
            18.9,
            17.9,
            19.5,
            18.1,
            18.6,
            17.5,
            18.8,
            16.6,
            19.1,
            16.9,
            21.1,
            17,
            18.2,
            17.1,
            18,
            16.2,
            19.1,
            16.6,
            19.4,
            19,
            18.4,
            17.2,
            18.9,
            17.5,
            18.5,
            16.8,
            19.4,
            16.1,
            19.1,
            17.2,
            17.6,
            18.8,
            19.4,
            17.8,
            20.3,
            19.5,
            18.6,
            19.2,
            18.8,
            18,
            18.1,
            17.1,
            18.1,
            17.3,
            18.9,
            18.6,
            18.5,
            16.1,
            18.5,
            17.9,
            20,
            16,
            20,
            18.6,
            18.9,
            17.2,
            20,
            17,
            19,
            16.5,
            20.3,
            17.7,
            19.5,
            20.7,
            18.3,
            17,
            20.5,
            17,
            18.6,
            17.2,
            19.8,
            17,
            18.5,
            15.9,
            19,
            17.6,
            18.3,
            17.1,
            18,
            17.9,
            19.2,
            18.5,
            18.5,
            17.6,
            17.5,
            17.5,
            20.1,
            16.5,
            17.9,
            17.1,
            17.2,
            15.5,
            17,
            16.8,
            18.7,
            18.6,
            18.4,
            17.8,
            18.1,
            17.1,
            18.5
           ]
          },
          {
           "axis": {
            "matches": true
           },
           "label": "flipper_length_mm",
           "values": [
            181,
            186,
            195,
            193,
            190,
            181,
            195,
            182,
            191,
            198,
            185,
            195,
            197,
            184,
            194,
            174,
            180,
            189,
            185,
            180,
            187,
            183,
            187,
            172,
            180,
            178,
            178,
            188,
            184,
            195,
            196,
            190,
            180,
            181,
            184,
            182,
            195,
            186,
            196,
            185,
            190,
            182,
            190,
            191,
            186,
            188,
            190,
            200,
            187,
            191,
            186,
            193,
            181,
            194,
            185,
            195,
            185,
            192,
            184,
            192,
            195,
            188,
            190,
            198,
            190,
            190,
            196,
            197,
            190,
            195,
            191,
            184,
            187,
            195,
            189,
            196,
            187,
            193,
            191,
            194,
            190,
            189,
            189,
            190,
            202,
            205,
            185,
            186,
            187,
            208,
            190,
            196,
            178,
            192,
            192,
            203,
            183,
            190,
            193,
            184,
            199,
            190,
            181,
            197,
            198,
            191,
            193,
            197,
            191,
            196,
            188,
            199,
            189,
            189,
            187,
            198,
            176,
            202,
            186,
            199,
            191,
            195,
            191,
            210,
            190,
            197,
            193,
            199,
            187,
            190,
            191,
            200,
            185,
            193,
            193,
            187,
            188,
            190,
            192,
            185,
            190,
            184,
            195,
            193,
            187,
            201
           ]
          },
          {
           "axis": {
            "matches": true
           },
           "label": "body_mass_g",
           "values": [
            3750,
            3800,
            3250,
            3450,
            3650,
            3625,
            4675,
            3200,
            3800,
            4400,
            3700,
            3450,
            4500,
            3325,
            4200,
            3400,
            3600,
            3800,
            3950,
            3800,
            3800,
            3550,
            3200,
            3150,
            3950,
            3250,
            3900,
            3300,
            3900,
            3325,
            4150,
            3950,
            3550,
            3300,
            4650,
            3150,
            3900,
            3100,
            4400,
            3000,
            4600,
            3425,
            3450,
            4150,
            3500,
            4300,
            3450,
            4050,
            2900,
            3700,
            3550,
            3800,
            2850,
            3750,
            3150,
            4400,
            3600,
            4050,
            2850,
            3950,
            3350,
            4100,
            3050,
            4450,
            3600,
            3900,
            3550,
            4150,
            3700,
            4250,
            3700,
            3900,
            3550,
            4000,
            3200,
            4700,
            3800,
            4200,
            3350,
            3550,
            3800,
            3500,
            3950,
            3600,
            3550,
            4300,
            3400,
            4450,
            3300,
            4300,
            3700,
            4350,
            2900,
            4100,
            3725,
            4725,
            3075,
            4250,
            2925,
            3550,
            3750,
            3900,
            3175,
            4775,
            3825,
            4600,
            3200,
            4275,
            3900,
            4075,
            2900,
            3775,
            3350,
            3325,
            3150,
            3500,
            3450,
            3875,
            3050,
            4000,
            3275,
            4300,
            3050,
            4000,
            3325,
            3500,
            3500,
            4475,
            3425,
            3900,
            3175,
            3975,
            3400,
            4250,
            3400,
            3475,
            3050,
            3725,
            3000,
            3650,
            4250,
            3475,
            3450,
            3750,
            3700,
            4000
           ]
          },
          {
           "axis": {
            "matches": true
           },
           "label": "sex",
           "values": [
            "MALE",
            "FEMALE",
            "FEMALE",
            "FEMALE",
            "MALE",
            "FEMALE",
            "MALE",
            "FEMALE",
            "MALE",
            "MALE",
            "FEMALE",
            "FEMALE",
            "MALE",
            "FEMALE",
            "MALE",
            "FEMALE",
            "MALE",
            "FEMALE",
            "MALE",
            "MALE",
            "FEMALE",
            "MALE",
            "FEMALE",
            "FEMALE",
            "MALE",
            "FEMALE",
            "MALE",
            "FEMALE",
            "MALE",
            "FEMALE",
            "MALE",
            "MALE",
            "FEMALE",
            "FEMALE",
            "MALE",
            "FEMALE",
            "MALE",
            "FEMALE",
            "MALE",
            "FEMALE",
            "MALE",
            "MALE",
            "FEMALE",
            "MALE",
            "FEMALE",
            "MALE",
            "FEMALE",
            "MALE",
            "FEMALE",
            "MALE",
            "FEMALE",
            "MALE",
            "FEMALE",
            "MALE",
            "FEMALE",
            "MALE",
            "FEMALE",
            "MALE",
            "FEMALE",
            "MALE",
            "FEMALE",
            "MALE",
            "FEMALE",
            "MALE",
            "FEMALE",
            "MALE",
            "FEMALE",
            "MALE",
            "FEMALE",
            "MALE",
            "FEMALE",
            "MALE",
            "FEMALE",
            "MALE",
            "FEMALE",
            "MALE",
            "FEMALE",
            "MALE",
            "FEMALE",
            "MALE",
            "MALE",
            "FEMALE",
            "MALE",
            "FEMALE",
            "FEMALE",
            "MALE",
            "FEMALE",
            "MALE",
            "FEMALE",
            "MALE",
            "FEMALE",
            "MALE",
            "FEMALE",
            "MALE",
            "FEMALE",
            "MALE",
            "FEMALE",
            "MALE",
            "FEMALE",
            "MALE",
            "FEMALE",
            "MALE",
            "FEMALE",
            "MALE",
            "FEMALE",
            "MALE",
            "FEMALE",
            "MALE",
            "FEMALE",
            "MALE",
            "FEMALE",
            "MALE",
            "FEMALE",
            "MALE",
            "FEMALE",
            "MALE",
            "FEMALE",
            "MALE",
            "FEMALE",
            "MALE",
            "FEMALE",
            "MALE",
            "FEMALE",
            "MALE",
            "FEMALE",
            "MALE",
            "FEMALE",
            "MALE",
            "FEMALE",
            "MALE",
            "FEMALE",
            "MALE",
            "FEMALE",
            "MALE",
            "FEMALE",
            "MALE",
            "FEMALE",
            "MALE",
            "FEMALE",
            "MALE",
            "MALE",
            "FEMALE",
            "FEMALE",
            "MALE",
            "FEMALE",
            "MALE"
           ]
          }
         ],
         "hovertemplate": "species=Adelie<br>%{xaxis.title.text}=%{x}<br>%{yaxis.title.text}=%{y}<extra></extra>",
         "legendgroup": "Adelie",
         "marker": {
          "color": "#636efa",
          "symbol": "circle"
         },
         "name": "Adelie",
         "showlegend": true,
         "type": "splom"
        },
        {
         "dimensions": [
          {
           "axis": {
            "matches": true
           },
           "label": "culmen_length_mm",
           "values": [
            46.5,
            50,
            51.3,
            45.4,
            52.7,
            45.2,
            46.1,
            51.3,
            46,
            51.3,
            46.6,
            51.7,
            47,
            52,
            45.9,
            50.5,
            50.3,
            58,
            46.4,
            49.2,
            42.4,
            48.5,
            43.2,
            50.6,
            46.7,
            52,
            50.5,
            49.5,
            46.4,
            52.8,
            40.9,
            54.2,
            42.5,
            51,
            49.7,
            47.5,
            47.6,
            52,
            46.9,
            53.5,
            49,
            46.2,
            50.9,
            45.5,
            50.9,
            50.8,
            50.1,
            49,
            51.5,
            49.8,
            48.1,
            51.4,
            45.7,
            50.7,
            42.5,
            52.2,
            45.2,
            49.3,
            50.2,
            45.6,
            51.9,
            46.8,
            45.7,
            55.8,
            43.5,
            49.6,
            50.8,
            50.2
           ]
          },
          {
           "axis": {
            "matches": true
           },
           "label": "culmen_depth_mm",
           "values": [
            17.9,
            19.5,
            19.2,
            18.7,
            19.8,
            17.8,
            18.2,
            18.2,
            18.9,
            19.9,
            17.8,
            20.3,
            17.3,
            18.1,
            17.1,
            19.6,
            20,
            17.8,
            18.6,
            18.2,
            17.3,
            17.5,
            16.6,
            19.4,
            17.9,
            19,
            18.4,
            19,
            17.8,
            20,
            16.6,
            20.8,
            16.7,
            18.8,
            18.6,
            16.8,
            18.3,
            20.7,
            16.6,
            19.9,
            19.5,
            17.5,
            19.1,
            17,
            17.9,
            18.5,
            17.9,
            19.6,
            18.7,
            17.3,
            16.4,
            19,
            17.3,
            19.7,
            17.3,
            18.8,
            16.6,
            19.9,
            18.8,
            19.4,
            19.5,
            16.5,
            17,
            19.8,
            18.1,
            18.2,
            19,
            18.7
           ]
          },
          {
           "axis": {
            "matches": true
           },
           "label": "flipper_length_mm",
           "values": [
            192,
            196,
            193,
            188,
            197,
            198,
            178,
            197,
            195,
            198,
            193,
            194,
            185,
            201,
            190,
            201,
            197,
            181,
            190,
            195,
            181,
            191,
            187,
            193,
            195,
            197,
            200,
            200,
            191,
            205,
            187,
            201,
            187,
            203,
            195,
            199,
            195,
            210,
            192,
            205,
            210,
            187,
            196,
            196,
            196,
            201,
            190,
            212,
            187,
            198,
            199,
            201,
            193,
            203,
            187,
            197,
            191,
            203,
            202,
            194,
            206,
            189,
            195,
            207,
            202,
            193,
            210,
            198
           ]
          },
          {
           "axis": {
            "matches": true
           },
           "label": "body_mass_g",
           "values": [
            3500,
            3900,
            3650,
            3525,
            3725,
            3950,
            3250,
            3750,
            4150,
            3700,
            3800,
            3775,
            3700,
            4050,
            3575,
            4050,
            3300,
            3700,
            3450,
            4400,
            3600,
            3400,
            2900,
            3800,
            3300,
            4150,
            3400,
            3800,
            3700,
            4550,
            3200,
            4300,
            3350,
            4100,
            3600,
            3900,
            3850,
            4800,
            2700,
            4500,
            3950,
            3650,
            3550,
            3500,
            3675,
            4450,
            3400,
            4300,
            3250,
            3675,
            3325,
            3950,
            3600,
            4050,
            3350,
            3450,
            3250,
            4050,
            3800,
            3525,
            3950,
            3650,
            3650,
            4000,
            3400,
            3775,
            4100,
            3775
           ]
          },
          {
           "axis": {
            "matches": true
           },
           "label": "sex",
           "values": [
            "FEMALE",
            "MALE",
            "MALE",
            "FEMALE",
            "MALE",
            "FEMALE",
            "FEMALE",
            "MALE",
            "FEMALE",
            "MALE",
            "FEMALE",
            "MALE",
            "FEMALE",
            "MALE",
            "FEMALE",
            "MALE",
            "MALE",
            "FEMALE",
            "FEMALE",
            "MALE",
            "FEMALE",
            "MALE",
            "FEMALE",
            "MALE",
            "FEMALE",
            "MALE",
            "FEMALE",
            "MALE",
            "FEMALE",
            "MALE",
            "FEMALE",
            "MALE",
            "FEMALE",
            "MALE",
            "MALE",
            "FEMALE",
            "FEMALE",
            "MALE",
            "FEMALE",
            "MALE",
            "MALE",
            "FEMALE",
            "MALE",
            "FEMALE",
            "FEMALE",
            "MALE",
            "FEMALE",
            "MALE",
            "MALE",
            "FEMALE",
            "FEMALE",
            "MALE",
            "FEMALE",
            "MALE",
            "FEMALE",
            "MALE",
            "FEMALE",
            "MALE",
            "MALE",
            "FEMALE",
            "MALE",
            "FEMALE",
            "FEMALE",
            "MALE",
            "FEMALE",
            "MALE",
            "MALE",
            "FEMALE"
           ]
          }
         ],
         "hovertemplate": "species=Chinstrap<br>%{xaxis.title.text}=%{x}<br>%{yaxis.title.text}=%{y}<extra></extra>",
         "legendgroup": "Chinstrap",
         "marker": {
          "color": "#EF553B",
          "symbol": "circle"
         },
         "name": "Chinstrap",
         "showlegend": true,
         "type": "splom"
        },
        {
         "dimensions": [
          {
           "axis": {
            "matches": true
           },
           "label": "culmen_length_mm",
           "values": [
            46.1,
            50,
            48.7,
            50,
            47.6,
            46.5,
            45.4,
            46.7,
            43.3,
            46.8,
            40.9,
            49,
            45.5,
            48.4,
            45.8,
            49.3,
            42,
            49.2,
            46.2,
            48.7,
            50.2,
            45.1,
            46.5,
            46.3,
            42.9,
            46.1,
            47.8,
            48.2,
            50,
            47.3,
            42.8,
            45.1,
            59.6,
            49.1,
            48.4,
            42.6,
            44.4,
            44,
            48.7,
            42.7,
            49.6,
            45.3,
            49.6,
            50.5,
            43.6,
            45.5,
            50.5,
            44.9,
            45.2,
            46.6,
            48.5,
            45.1,
            50.1,
            46.5,
            45,
            43.8,
            45.5,
            43.2,
            50.4,
            45.3,
            46.2,
            45.7,
            54.3,
            45.8,
            49.8,
            49.5,
            43.5,
            50.7,
            47.7,
            46.4,
            48.2,
            46.5,
            46.4,
            48.6,
            47.5,
            51.1,
            45.2,
            45.2,
            49.1,
            52.5,
            47.4,
            50,
            44.9,
            50.8,
            43.4,
            51.3,
            47.5,
            52.1,
            47.5,
            52.2,
            45.5,
            49.5,
            44.5,
            50.8,
            49.4,
            46.9,
            48.4,
            51.1,
            48.5,
            55.9,
            47.2,
            49.1,
            46.8,
            41.7,
            53.4,
            43.3,
            48.1,
            50.5,
            49.8,
            43.5,
            51.5,
            46.2,
            55.1,
            44.5,
            48.8,
            47.2,
            46.8,
            50.4,
            45.2,
            49.9
           ]
          },
          {
           "axis": {
            "matches": true
           },
           "label": "culmen_depth_mm",
           "values": [
            13.2,
            16.3,
            14.1,
            15.2,
            14.5,
            13.5,
            14.6,
            15.3,
            13.4,
            15.4,
            13.7,
            16.1,
            13.7,
            14.6,
            14.6,
            15.7,
            13.5,
            15.2,
            14.5,
            15.1,
            14.3,
            14.5,
            14.5,
            15.8,
            13.1,
            15.1,
            15,
            14.3,
            15.3,
            15.3,
            14.2,
            14.5,
            17,
            14.8,
            16.3,
            13.7,
            17.3,
            13.6,
            15.7,
            13.7,
            16,
            13.7,
            15,
            15.9,
            13.9,
            13.9,
            15.9,
            13.3,
            15.8,
            14.2,
            14.1,
            14.4,
            15,
            14.4,
            15.4,
            13.9,
            15,
            14.5,
            15.3,
            13.8,
            14.9,
            13.9,
            15.7,
            14.2,
            16.8,
            16.2,
            14.2,
            15,
            15,
            15.6,
            15.6,
            14.8,
            15,
            16,
            14.2,
            16.3,
            13.8,
            16.4,
            14.5,
            15.6,
            14.6,
            15.9,
            13.8,
            17.3,
            14.4,
            14.2,
            14,
            17,
            15,
            17.1,
            14.5,
            16.1,
            14.7,
            15.7,
            15.8,
            14.6,
            14.4,
            16.5,
            15,
            17,
            15.5,
            15,
            16.1,
            14.7,
            15.8,
            14,
            15.1,
            15.2,
            15.9,
            15.2,
            16.3,
            14.1,
            16,
            15.7,
            16.2,
            13.7,
            14.3,
            15.7,
            14.8,
            16.1
           ]
          },
          {
           "axis": {
            "matches": true
           },
           "label": "flipper_length_mm",
           "values": [
            211,
            230,
            210,
            218,
            215,
            210,
            211,
            219,
            209,
            215,
            214,
            216,
            214,
            213,
            210,
            217,
            210,
            221,
            209,
            222,
            218,
            215,
            213,
            215,
            215,
            215,
            215,
            210,
            220,
            222,
            209,
            207,
            230,
            220,
            220,
            213,
            219,
            208,
            208,
            208,
            225,
            210,
            216,
            222,
            217,
            210,
            225,
            213,
            215,
            210,
            220,
            210,
            225,
            217,
            220,
            208,
            220,
            208,
            224,
            208,
            221,
            214,
            231,
            219,
            230,
            229,
            220,
            223,
            216,
            221,
            221,
            217,
            216,
            230,
            209,
            220,
            215,
            223,
            212,
            221,
            212,
            224,
            212,
            228,
            218,
            218,
            212,
            230,
            218,
            228,
            212,
            224,
            214,
            226,
            216,
            222,
            203,
            225,
            219,
            228,
            215,
            228,
            215,
            210,
            219,
            208,
            209,
            216,
            229,
            213,
            230,
            217,
            230,
            217,
            222,
            214,
            215,
            222,
            212,
            213
           ]
          },
          {
           "axis": {
            "matches": true
           },
           "label": "body_mass_g",
           "values": [
            4500,
            5700,
            4450,
            5700,
            5400,
            4550,
            4800,
            5200,
            4400,
            5150,
            4650,
            5550,
            4650,
            5850,
            4200,
            5850,
            4150,
            6300,
            4800,
            5350,
            5700,
            5000,
            4400,
            5050,
            5000,
            5100,
            5650,
            4600,
            5550,
            5250,
            4700,
            5050,
            6050,
            5150,
            5400,
            4950,
            5250,
            4350,
            5350,
            3950,
            5700,
            4300,
            4750,
            5550,
            4900,
            4200,
            5400,
            5100,
            5300,
            4850,
            5300,
            4400,
            5000,
            4900,
            5050,
            4300,
            5000,
            4450,
            5550,
            4200,
            5300,
            4400,
            5650,
            4700,
            5700,
            5800,
            4700,
            5550,
            4750,
            5000,
            5100,
            5200,
            4700,
            5800,
            4600,
            6000,
            4750,
            5950,
            4625,
            5450,
            4725,
            5350,
            4750,
            5600,
            4600,
            5300,
            4875,
            5550,
            4950,
            5400,
            4750,
            5650,
            4850,
            5200,
            4925,
            4875,
            4625,
            5250,
            4850,
            5600,
            4975,
            5500,
            5500,
            4700,
            5500,
            4575,
            5500,
            5000,
            5950,
            4650,
            5500,
            4375,
            5850,
            4875,
            6000,
            4925,
            4850,
            5750,
            5200,
            5400
           ]
          },
          {
           "axis": {
            "matches": true
           },
           "label": "sex",
           "values": [
            "FEMALE",
            "MALE",
            "FEMALE",
            "MALE",
            "MALE",
            "FEMALE",
            "FEMALE",
            "MALE",
            "FEMALE",
            "MALE",
            "FEMALE",
            "MALE",
            "FEMALE",
            "MALE",
            "FEMALE",
            "MALE",
            "FEMALE",
            "MALE",
            "FEMALE",
            "MALE",
            "MALE",
            "FEMALE",
            "FEMALE",
            "MALE",
            "FEMALE",
            "MALE",
            "MALE",
            "FEMALE",
            "MALE",
            "MALE",
            "FEMALE",
            "FEMALE",
            "MALE",
            "FEMALE",
            "MALE",
            "FEMALE",
            "MALE",
            "FEMALE",
            "MALE",
            "FEMALE",
            "MALE",
            "FEMALE",
            "MALE",
            "MALE",
            "FEMALE",
            "FEMALE",
            "MALE",
            "FEMALE",
            "MALE",
            "FEMALE",
            "MALE",
            "FEMALE",
            "MALE",
            "FEMALE",
            "MALE",
            "FEMALE",
            "MALE",
            "FEMALE",
            "MALE",
            "FEMALE",
            "MALE",
            "FEMALE",
            "MALE",
            "FEMALE",
            "MALE",
            "MALE",
            "FEMALE",
            "MALE",
            "FEMALE",
            "MALE",
            "MALE",
            "FEMALE",
            "FEMALE",
            "MALE",
            "FEMALE",
            "MALE",
            "FEMALE",
            "MALE",
            "FEMALE",
            "MALE",
            "FEMALE",
            "MALE",
            "FEMALE",
            "MALE",
            "FEMALE",
            "MALE",
            "FEMALE",
            "MALE",
            "FEMALE",
            "MALE",
            "FEMALE",
            "MALE",
            "FEMALE",
            "MALE",
            "MALE",
            "FEMALE",
            "FEMALE",
            "MALE",
            "FEMALE",
            "MALE",
            "FEMALE",
            "MALE",
            "MALE",
            "FEMALE",
            "MALE",
            "FEMALE",
            "MALE",
            "FEMALE",
            "MALE",
            "FEMALE",
            "MALE",
            "FEMALE",
            "MALE",
            ".",
            "MALE",
            "FEMALE",
            "FEMALE",
            "MALE",
            "FEMALE",
            "MALE"
           ]
          }
         ],
         "hovertemplate": "species=Gentoo<br>%{xaxis.title.text}=%{x}<br>%{yaxis.title.text}=%{y}<extra></extra>",
         "legendgroup": "Gentoo",
         "marker": {
          "color": "#00cc96",
          "symbol": "circle"
         },
         "name": "Gentoo",
         "showlegend": true,
         "type": "splom"
        }
       ],
       "layout": {
        "dragmode": "select",
        "height": 1000,
        "legend": {
         "title": {
          "text": "species"
         },
         "tracegroupgap": 0
        },
        "margin": {
         "t": 60
        },
        "template": {
         "data": {
          "bar": [
           {
            "error_x": {
             "color": "#2a3f5f"
            },
            "error_y": {
             "color": "#2a3f5f"
            },
            "marker": {
             "line": {
              "color": "#E5ECF6",
              "width": 0.5
             },
             "pattern": {
              "fillmode": "overlay",
              "size": 10,
              "solidity": 0.2
             }
            },
            "type": "bar"
           }
          ],
          "barpolar": [
           {
            "marker": {
             "line": {
              "color": "#E5ECF6",
              "width": 0.5
             },
             "pattern": {
              "fillmode": "overlay",
              "size": 10,
              "solidity": 0.2
             }
            },
            "type": "barpolar"
           }
          ],
          "carpet": [
           {
            "aaxis": {
             "endlinecolor": "#2a3f5f",
             "gridcolor": "white",
             "linecolor": "white",
             "minorgridcolor": "white",
             "startlinecolor": "#2a3f5f"
            },
            "baxis": {
             "endlinecolor": "#2a3f5f",
             "gridcolor": "white",
             "linecolor": "white",
             "minorgridcolor": "white",
             "startlinecolor": "#2a3f5f"
            },
            "type": "carpet"
           }
          ],
          "choropleth": [
           {
            "colorbar": {
             "outlinewidth": 0,
             "ticks": ""
            },
            "type": "choropleth"
           }
          ],
          "contour": [
           {
            "colorbar": {
             "outlinewidth": 0,
             "ticks": ""
            },
            "colorscale": [
             [
              0,
              "#0d0887"
             ],
             [
              0.1111111111111111,
              "#46039f"
             ],
             [
              0.2222222222222222,
              "#7201a8"
             ],
             [
              0.3333333333333333,
              "#9c179e"
             ],
             [
              0.4444444444444444,
              "#bd3786"
             ],
             [
              0.5555555555555556,
              "#d8576b"
             ],
             [
              0.6666666666666666,
              "#ed7953"
             ],
             [
              0.7777777777777778,
              "#fb9f3a"
             ],
             [
              0.8888888888888888,
              "#fdca26"
             ],
             [
              1,
              "#f0f921"
             ]
            ],
            "type": "contour"
           }
          ],
          "contourcarpet": [
           {
            "colorbar": {
             "outlinewidth": 0,
             "ticks": ""
            },
            "type": "contourcarpet"
           }
          ],
          "heatmap": [
           {
            "colorbar": {
             "outlinewidth": 0,
             "ticks": ""
            },
            "colorscale": [
             [
              0,
              "#0d0887"
             ],
             [
              0.1111111111111111,
              "#46039f"
             ],
             [
              0.2222222222222222,
              "#7201a8"
             ],
             [
              0.3333333333333333,
              "#9c179e"
             ],
             [
              0.4444444444444444,
              "#bd3786"
             ],
             [
              0.5555555555555556,
              "#d8576b"
             ],
             [
              0.6666666666666666,
              "#ed7953"
             ],
             [
              0.7777777777777778,
              "#fb9f3a"
             ],
             [
              0.8888888888888888,
              "#fdca26"
             ],
             [
              1,
              "#f0f921"
             ]
            ],
            "type": "heatmap"
           }
          ],
          "heatmapgl": [
           {
            "colorbar": {
             "outlinewidth": 0,
             "ticks": ""
            },
            "colorscale": [
             [
              0,
              "#0d0887"
             ],
             [
              0.1111111111111111,
              "#46039f"
             ],
             [
              0.2222222222222222,
              "#7201a8"
             ],
             [
              0.3333333333333333,
              "#9c179e"
             ],
             [
              0.4444444444444444,
              "#bd3786"
             ],
             [
              0.5555555555555556,
              "#d8576b"
             ],
             [
              0.6666666666666666,
              "#ed7953"
             ],
             [
              0.7777777777777778,
              "#fb9f3a"
             ],
             [
              0.8888888888888888,
              "#fdca26"
             ],
             [
              1,
              "#f0f921"
             ]
            ],
            "type": "heatmapgl"
           }
          ],
          "histogram": [
           {
            "marker": {
             "pattern": {
              "fillmode": "overlay",
              "size": 10,
              "solidity": 0.2
             }
            },
            "type": "histogram"
           }
          ],
          "histogram2d": [
           {
            "colorbar": {
             "outlinewidth": 0,
             "ticks": ""
            },
            "colorscale": [
             [
              0,
              "#0d0887"
             ],
             [
              0.1111111111111111,
              "#46039f"
             ],
             [
              0.2222222222222222,
              "#7201a8"
             ],
             [
              0.3333333333333333,
              "#9c179e"
             ],
             [
              0.4444444444444444,
              "#bd3786"
             ],
             [
              0.5555555555555556,
              "#d8576b"
             ],
             [
              0.6666666666666666,
              "#ed7953"
             ],
             [
              0.7777777777777778,
              "#fb9f3a"
             ],
             [
              0.8888888888888888,
              "#fdca26"
             ],
             [
              1,
              "#f0f921"
             ]
            ],
            "type": "histogram2d"
           }
          ],
          "histogram2dcontour": [
           {
            "colorbar": {
             "outlinewidth": 0,
             "ticks": ""
            },
            "colorscale": [
             [
              0,
              "#0d0887"
             ],
             [
              0.1111111111111111,
              "#46039f"
             ],
             [
              0.2222222222222222,
              "#7201a8"
             ],
             [
              0.3333333333333333,
              "#9c179e"
             ],
             [
              0.4444444444444444,
              "#bd3786"
             ],
             [
              0.5555555555555556,
              "#d8576b"
             ],
             [
              0.6666666666666666,
              "#ed7953"
             ],
             [
              0.7777777777777778,
              "#fb9f3a"
             ],
             [
              0.8888888888888888,
              "#fdca26"
             ],
             [
              1,
              "#f0f921"
             ]
            ],
            "type": "histogram2dcontour"
           }
          ],
          "mesh3d": [
           {
            "colorbar": {
             "outlinewidth": 0,
             "ticks": ""
            },
            "type": "mesh3d"
           }
          ],
          "parcoords": [
           {
            "line": {
             "colorbar": {
              "outlinewidth": 0,
              "ticks": ""
             }
            },
            "type": "parcoords"
           }
          ],
          "pie": [
           {
            "automargin": true,
            "type": "pie"
           }
          ],
          "scatter": [
           {
            "fillpattern": {
             "fillmode": "overlay",
             "size": 10,
             "solidity": 0.2
            },
            "type": "scatter"
           }
          ],
          "scatter3d": [
           {
            "line": {
             "colorbar": {
              "outlinewidth": 0,
              "ticks": ""
             }
            },
            "marker": {
             "colorbar": {
              "outlinewidth": 0,
              "ticks": ""
             }
            },
            "type": "scatter3d"
           }
          ],
          "scattercarpet": [
           {
            "marker": {
             "colorbar": {
              "outlinewidth": 0,
              "ticks": ""
             }
            },
            "type": "scattercarpet"
           }
          ],
          "scattergeo": [
           {
            "marker": {
             "colorbar": {
              "outlinewidth": 0,
              "ticks": ""
             }
            },
            "type": "scattergeo"
           }
          ],
          "scattergl": [
           {
            "marker": {
             "colorbar": {
              "outlinewidth": 0,
              "ticks": ""
             }
            },
            "type": "scattergl"
           }
          ],
          "scattermapbox": [
           {
            "marker": {
             "colorbar": {
              "outlinewidth": 0,
              "ticks": ""
             }
            },
            "type": "scattermapbox"
           }
          ],
          "scatterpolar": [
           {
            "marker": {
             "colorbar": {
              "outlinewidth": 0,
              "ticks": ""
             }
            },
            "type": "scatterpolar"
           }
          ],
          "scatterpolargl": [
           {
            "marker": {
             "colorbar": {
              "outlinewidth": 0,
              "ticks": ""
             }
            },
            "type": "scatterpolargl"
           }
          ],
          "scatterternary": [
           {
            "marker": {
             "colorbar": {
              "outlinewidth": 0,
              "ticks": ""
             }
            },
            "type": "scatterternary"
           }
          ],
          "surface": [
           {
            "colorbar": {
             "outlinewidth": 0,
             "ticks": ""
            },
            "colorscale": [
             [
              0,
              "#0d0887"
             ],
             [
              0.1111111111111111,
              "#46039f"
             ],
             [
              0.2222222222222222,
              "#7201a8"
             ],
             [
              0.3333333333333333,
              "#9c179e"
             ],
             [
              0.4444444444444444,
              "#bd3786"
             ],
             [
              0.5555555555555556,
              "#d8576b"
             ],
             [
              0.6666666666666666,
              "#ed7953"
             ],
             [
              0.7777777777777778,
              "#fb9f3a"
             ],
             [
              0.8888888888888888,
              "#fdca26"
             ],
             [
              1,
              "#f0f921"
             ]
            ],
            "type": "surface"
           }
          ],
          "table": [
           {
            "cells": {
             "fill": {
              "color": "#EBF0F8"
             },
             "line": {
              "color": "white"
             }
            },
            "header": {
             "fill": {
              "color": "#C8D4E3"
             },
             "line": {
              "color": "white"
             }
            },
            "type": "table"
           }
          ]
         },
         "layout": {
          "annotationdefaults": {
           "arrowcolor": "#2a3f5f",
           "arrowhead": 0,
           "arrowwidth": 1
          },
          "autotypenumbers": "strict",
          "coloraxis": {
           "colorbar": {
            "outlinewidth": 0,
            "ticks": ""
           }
          },
          "colorscale": {
           "diverging": [
            [
             0,
             "#8e0152"
            ],
            [
             0.1,
             "#c51b7d"
            ],
            [
             0.2,
             "#de77ae"
            ],
            [
             0.3,
             "#f1b6da"
            ],
            [
             0.4,
             "#fde0ef"
            ],
            [
             0.5,
             "#f7f7f7"
            ],
            [
             0.6,
             "#e6f5d0"
            ],
            [
             0.7,
             "#b8e186"
            ],
            [
             0.8,
             "#7fbc41"
            ],
            [
             0.9,
             "#4d9221"
            ],
            [
             1,
             "#276419"
            ]
           ],
           "sequential": [
            [
             0,
             "#0d0887"
            ],
            [
             0.1111111111111111,
             "#46039f"
            ],
            [
             0.2222222222222222,
             "#7201a8"
            ],
            [
             0.3333333333333333,
             "#9c179e"
            ],
            [
             0.4444444444444444,
             "#bd3786"
            ],
            [
             0.5555555555555556,
             "#d8576b"
            ],
            [
             0.6666666666666666,
             "#ed7953"
            ],
            [
             0.7777777777777778,
             "#fb9f3a"
            ],
            [
             0.8888888888888888,
             "#fdca26"
            ],
            [
             1,
             "#f0f921"
            ]
           ],
           "sequentialminus": [
            [
             0,
             "#0d0887"
            ],
            [
             0.1111111111111111,
             "#46039f"
            ],
            [
             0.2222222222222222,
             "#7201a8"
            ],
            [
             0.3333333333333333,
             "#9c179e"
            ],
            [
             0.4444444444444444,
             "#bd3786"
            ],
            [
             0.5555555555555556,
             "#d8576b"
            ],
            [
             0.6666666666666666,
             "#ed7953"
            ],
            [
             0.7777777777777778,
             "#fb9f3a"
            ],
            [
             0.8888888888888888,
             "#fdca26"
            ],
            [
             1,
             "#f0f921"
            ]
           ]
          },
          "colorway": [
           "#636efa",
           "#EF553B",
           "#00cc96",
           "#ab63fa",
           "#FFA15A",
           "#19d3f3",
           "#FF6692",
           "#B6E880",
           "#FF97FF",
           "#FECB52"
          ],
          "font": {
           "color": "#2a3f5f"
          },
          "geo": {
           "bgcolor": "white",
           "lakecolor": "white",
           "landcolor": "#E5ECF6",
           "showlakes": true,
           "showland": true,
           "subunitcolor": "white"
          },
          "hoverlabel": {
           "align": "left"
          },
          "hovermode": "closest",
          "mapbox": {
           "style": "light"
          },
          "paper_bgcolor": "white",
          "plot_bgcolor": "#E5ECF6",
          "polar": {
           "angularaxis": {
            "gridcolor": "white",
            "linecolor": "white",
            "ticks": ""
           },
           "bgcolor": "#E5ECF6",
           "radialaxis": {
            "gridcolor": "white",
            "linecolor": "white",
            "ticks": ""
           }
          },
          "scene": {
           "xaxis": {
            "backgroundcolor": "#E5ECF6",
            "gridcolor": "white",
            "gridwidth": 2,
            "linecolor": "white",
            "showbackground": true,
            "ticks": "",
            "zerolinecolor": "white"
           },
           "yaxis": {
            "backgroundcolor": "#E5ECF6",
            "gridcolor": "white",
            "gridwidth": 2,
            "linecolor": "white",
            "showbackground": true,
            "ticks": "",
            "zerolinecolor": "white"
           },
           "zaxis": {
            "backgroundcolor": "#E5ECF6",
            "gridcolor": "white",
            "gridwidth": 2,
            "linecolor": "white",
            "showbackground": true,
            "ticks": "",
            "zerolinecolor": "white"
           }
          },
          "shapedefaults": {
           "line": {
            "color": "#2a3f5f"
           }
          },
          "ternary": {
           "aaxis": {
            "gridcolor": "white",
            "linecolor": "white",
            "ticks": ""
           },
           "baxis": {
            "gridcolor": "white",
            "linecolor": "white",
            "ticks": ""
           },
           "bgcolor": "#E5ECF6",
           "caxis": {
            "gridcolor": "white",
            "linecolor": "white",
            "ticks": ""
           }
          },
          "title": {
           "x": 0.05
          },
          "xaxis": {
           "automargin": true,
           "gridcolor": "white",
           "linecolor": "white",
           "ticks": "",
           "title": {
            "standoff": 15
           },
           "zerolinecolor": "white",
           "zerolinewidth": 2
          },
          "yaxis": {
           "automargin": true,
           "gridcolor": "white",
           "linecolor": "white",
           "ticks": "",
           "title": {
            "standoff": 15
           },
           "zerolinecolor": "white",
           "zerolinewidth": 2
          }
         }
        }
       }
      },
      "text/html": [
       "<div>                            <div id=\"2ec08269-2007-4df6-a32c-6256f8c56b63\" class=\"plotly-graph-div\" style=\"height:1000px; width:100%;\"></div>            <script type=\"text/javascript\">                require([\"plotly\"], function(Plotly) {                    window.PLOTLYENV=window.PLOTLYENV || {};                                    if (document.getElementById(\"2ec08269-2007-4df6-a32c-6256f8c56b63\")) {                    Plotly.newPlot(                        \"2ec08269-2007-4df6-a32c-6256f8c56b63\",                        [{\"dimensions\":[{\"axis\":{\"matches\":true},\"label\":\"culmen_length_mm\",\"values\":[39.1,39.5,40.3,36.7,39.3,38.9,39.2,41.1,38.6,34.6,36.6,38.7,42.5,34.4,46.0,37.8,37.7,35.9,38.2,38.8,35.3,40.6,40.5,37.9,40.5,39.5,37.2,39.5,40.9,36.4,39.2,38.8,42.2,37.6,39.8,36.5,40.8,36.0,44.1,37.0,39.6,41.1,36.0,42.3,39.6,40.1,35.0,42.0,34.5,41.4,39.0,40.6,36.5,37.6,35.7,41.3,37.6,41.1,36.4,41.6,35.5,41.1,35.9,41.8,33.5,39.7,39.6,45.8,35.5,42.8,40.9,37.2,36.2,42.1,34.6,42.9,36.7,35.1,37.3,41.3,36.3,36.9,38.3,38.9,35.7,41.1,34.0,39.6,36.2,40.8,38.1,40.3,33.1,43.2,35.0,41.0,37.7,37.8,37.9,39.7,38.6,38.2,38.1,43.2,38.1,45.6,39.7,42.2,39.6,42.7,38.6,37.3,35.7,41.1,36.2,37.7,40.2,41.4,35.2,40.6,38.8,41.5,39.0,44.1,38.5,43.1,36.8,37.5,38.1,41.1,35.6,40.2,37.0,39.7,40.2,40.6,32.1,40.7,37.3,39.0,39.2,36.6,36.0,37.8,36.0,41.5]},{\"axis\":{\"matches\":true},\"label\":\"culmen_depth_mm\",\"values\":[18.7,17.4,18.0,19.3,20.6,17.8,19.6,17.6,21.2,21.1,17.8,19.0,20.7,18.4,21.5,18.3,18.7,19.2,18.1,17.2,18.9,18.6,17.9,18.6,18.9,16.7,18.1,17.8,18.9,17.0,21.1,20.0,18.5,19.3,19.1,18.0,18.4,18.5,19.7,16.9,18.8,19.0,17.9,21.2,17.7,18.9,17.9,19.5,18.1,18.6,17.5,18.8,16.6,19.1,16.9,21.1,17.0,18.2,17.1,18.0,16.2,19.1,16.6,19.4,19.0,18.4,17.2,18.9,17.5,18.5,16.8,19.4,16.1,19.1,17.2,17.6,18.8,19.4,17.8,20.3,19.5,18.6,19.2,18.8,18.0,18.1,17.1,18.1,17.3,18.9,18.6,18.5,16.1,18.5,17.9,20.0,16.0,20.0,18.6,18.9,17.2,20.0,17.0,19.0,16.5,20.3,17.7,19.5,20.7,18.3,17.0,20.5,17.0,18.6,17.2,19.8,17.0,18.5,15.9,19.0,17.6,18.3,17.1,18.0,17.9,19.2,18.5,18.5,17.6,17.5,17.5,20.1,16.5,17.9,17.1,17.2,15.5,17.0,16.8,18.7,18.6,18.4,17.8,18.1,17.1,18.5]},{\"axis\":{\"matches\":true},\"label\":\"flipper_length_mm\",\"values\":[181.0,186.0,195.0,193.0,190.0,181.0,195.0,182.0,191.0,198.0,185.0,195.0,197.0,184.0,194.0,174.0,180.0,189.0,185.0,180.0,187.0,183.0,187.0,172.0,180.0,178.0,178.0,188.0,184.0,195.0,196.0,190.0,180.0,181.0,184.0,182.0,195.0,186.0,196.0,185.0,190.0,182.0,190.0,191.0,186.0,188.0,190.0,200.0,187.0,191.0,186.0,193.0,181.0,194.0,185.0,195.0,185.0,192.0,184.0,192.0,195.0,188.0,190.0,198.0,190.0,190.0,196.0,197.0,190.0,195.0,191.0,184.0,187.0,195.0,189.0,196.0,187.0,193.0,191.0,194.0,190.0,189.0,189.0,190.0,202.0,205.0,185.0,186.0,187.0,208.0,190.0,196.0,178.0,192.0,192.0,203.0,183.0,190.0,193.0,184.0,199.0,190.0,181.0,197.0,198.0,191.0,193.0,197.0,191.0,196.0,188.0,199.0,189.0,189.0,187.0,198.0,176.0,202.0,186.0,199.0,191.0,195.0,191.0,210.0,190.0,197.0,193.0,199.0,187.0,190.0,191.0,200.0,185.0,193.0,193.0,187.0,188.0,190.0,192.0,185.0,190.0,184.0,195.0,193.0,187.0,201.0]},{\"axis\":{\"matches\":true},\"label\":\"body_mass_g\",\"values\":[3750.0,3800.0,3250.0,3450.0,3650.0,3625.0,4675.0,3200.0,3800.0,4400.0,3700.0,3450.0,4500.0,3325.0,4200.0,3400.0,3600.0,3800.0,3950.0,3800.0,3800.0,3550.0,3200.0,3150.0,3950.0,3250.0,3900.0,3300.0,3900.0,3325.0,4150.0,3950.0,3550.0,3300.0,4650.0,3150.0,3900.0,3100.0,4400.0,3000.0,4600.0,3425.0,3450.0,4150.0,3500.0,4300.0,3450.0,4050.0,2900.0,3700.0,3550.0,3800.0,2850.0,3750.0,3150.0,4400.0,3600.0,4050.0,2850.0,3950.0,3350.0,4100.0,3050.0,4450.0,3600.0,3900.0,3550.0,4150.0,3700.0,4250.0,3700.0,3900.0,3550.0,4000.0,3200.0,4700.0,3800.0,4200.0,3350.0,3550.0,3800.0,3500.0,3950.0,3600.0,3550.0,4300.0,3400.0,4450.0,3300.0,4300.0,3700.0,4350.0,2900.0,4100.0,3725.0,4725.0,3075.0,4250.0,2925.0,3550.0,3750.0,3900.0,3175.0,4775.0,3825.0,4600.0,3200.0,4275.0,3900.0,4075.0,2900.0,3775.0,3350.0,3325.0,3150.0,3500.0,3450.0,3875.0,3050.0,4000.0,3275.0,4300.0,3050.0,4000.0,3325.0,3500.0,3500.0,4475.0,3425.0,3900.0,3175.0,3975.0,3400.0,4250.0,3400.0,3475.0,3050.0,3725.0,3000.0,3650.0,4250.0,3475.0,3450.0,3750.0,3700.0,4000.0]},{\"axis\":{\"matches\":true},\"label\":\"sex\",\"values\":[\"MALE\",\"FEMALE\",\"FEMALE\",\"FEMALE\",\"MALE\",\"FEMALE\",\"MALE\",\"FEMALE\",\"MALE\",\"MALE\",\"FEMALE\",\"FEMALE\",\"MALE\",\"FEMALE\",\"MALE\",\"FEMALE\",\"MALE\",\"FEMALE\",\"MALE\",\"MALE\",\"FEMALE\",\"MALE\",\"FEMALE\",\"FEMALE\",\"MALE\",\"FEMALE\",\"MALE\",\"FEMALE\",\"MALE\",\"FEMALE\",\"MALE\",\"MALE\",\"FEMALE\",\"FEMALE\",\"MALE\",\"FEMALE\",\"MALE\",\"FEMALE\",\"MALE\",\"FEMALE\",\"MALE\",\"MALE\",\"FEMALE\",\"MALE\",\"FEMALE\",\"MALE\",\"FEMALE\",\"MALE\",\"FEMALE\",\"MALE\",\"FEMALE\",\"MALE\",\"FEMALE\",\"MALE\",\"FEMALE\",\"MALE\",\"FEMALE\",\"MALE\",\"FEMALE\",\"MALE\",\"FEMALE\",\"MALE\",\"FEMALE\",\"MALE\",\"FEMALE\",\"MALE\",\"FEMALE\",\"MALE\",\"FEMALE\",\"MALE\",\"FEMALE\",\"MALE\",\"FEMALE\",\"MALE\",\"FEMALE\",\"MALE\",\"FEMALE\",\"MALE\",\"FEMALE\",\"MALE\",\"MALE\",\"FEMALE\",\"MALE\",\"FEMALE\",\"FEMALE\",\"MALE\",\"FEMALE\",\"MALE\",\"FEMALE\",\"MALE\",\"FEMALE\",\"MALE\",\"FEMALE\",\"MALE\",\"FEMALE\",\"MALE\",\"FEMALE\",\"MALE\",\"FEMALE\",\"MALE\",\"FEMALE\",\"MALE\",\"FEMALE\",\"MALE\",\"FEMALE\",\"MALE\",\"FEMALE\",\"MALE\",\"FEMALE\",\"MALE\",\"FEMALE\",\"MALE\",\"FEMALE\",\"MALE\",\"FEMALE\",\"MALE\",\"FEMALE\",\"MALE\",\"FEMALE\",\"MALE\",\"FEMALE\",\"MALE\",\"FEMALE\",\"MALE\",\"FEMALE\",\"MALE\",\"FEMALE\",\"MALE\",\"FEMALE\",\"MALE\",\"FEMALE\",\"MALE\",\"FEMALE\",\"MALE\",\"FEMALE\",\"MALE\",\"FEMALE\",\"MALE\",\"FEMALE\",\"MALE\",\"MALE\",\"FEMALE\",\"FEMALE\",\"MALE\",\"FEMALE\",\"MALE\"]}],\"hovertemplate\":\"species=Adelie\\u003cbr\\u003e%{xaxis.title.text}=%{x}\\u003cbr\\u003e%{yaxis.title.text}=%{y}\\u003cextra\\u003e\\u003c\\u002fextra\\u003e\",\"legendgroup\":\"Adelie\",\"marker\":{\"color\":\"#636efa\",\"symbol\":\"circle\"},\"name\":\"Adelie\",\"showlegend\":true,\"type\":\"splom\"},{\"dimensions\":[{\"axis\":{\"matches\":true},\"label\":\"culmen_length_mm\",\"values\":[46.5,50.0,51.3,45.4,52.7,45.2,46.1,51.3,46.0,51.3,46.6,51.7,47.0,52.0,45.9,50.5,50.3,58.0,46.4,49.2,42.4,48.5,43.2,50.6,46.7,52.0,50.5,49.5,46.4,52.8,40.9,54.2,42.5,51.0,49.7,47.5,47.6,52.0,46.9,53.5,49.0,46.2,50.9,45.5,50.9,50.8,50.1,49.0,51.5,49.8,48.1,51.4,45.7,50.7,42.5,52.2,45.2,49.3,50.2,45.6,51.9,46.8,45.7,55.8,43.5,49.6,50.8,50.2]},{\"axis\":{\"matches\":true},\"label\":\"culmen_depth_mm\",\"values\":[17.9,19.5,19.2,18.7,19.8,17.8,18.2,18.2,18.9,19.9,17.8,20.3,17.3,18.1,17.1,19.6,20.0,17.8,18.6,18.2,17.3,17.5,16.6,19.4,17.9,19.0,18.4,19.0,17.8,20.0,16.6,20.8,16.7,18.8,18.6,16.8,18.3,20.7,16.6,19.9,19.5,17.5,19.1,17.0,17.9,18.5,17.9,19.6,18.7,17.3,16.4,19.0,17.3,19.7,17.3,18.8,16.6,19.9,18.8,19.4,19.5,16.5,17.0,19.8,18.1,18.2,19.0,18.7]},{\"axis\":{\"matches\":true},\"label\":\"flipper_length_mm\",\"values\":[192.0,196.0,193.0,188.0,197.0,198.0,178.0,197.0,195.0,198.0,193.0,194.0,185.0,201.0,190.0,201.0,197.0,181.0,190.0,195.0,181.0,191.0,187.0,193.0,195.0,197.0,200.0,200.0,191.0,205.0,187.0,201.0,187.0,203.0,195.0,199.0,195.0,210.0,192.0,205.0,210.0,187.0,196.0,196.0,196.0,201.0,190.0,212.0,187.0,198.0,199.0,201.0,193.0,203.0,187.0,197.0,191.0,203.0,202.0,194.0,206.0,189.0,195.0,207.0,202.0,193.0,210.0,198.0]},{\"axis\":{\"matches\":true},\"label\":\"body_mass_g\",\"values\":[3500.0,3900.0,3650.0,3525.0,3725.0,3950.0,3250.0,3750.0,4150.0,3700.0,3800.0,3775.0,3700.0,4050.0,3575.0,4050.0,3300.0,3700.0,3450.0,4400.0,3600.0,3400.0,2900.0,3800.0,3300.0,4150.0,3400.0,3800.0,3700.0,4550.0,3200.0,4300.0,3350.0,4100.0,3600.0,3900.0,3850.0,4800.0,2700.0,4500.0,3950.0,3650.0,3550.0,3500.0,3675.0,4450.0,3400.0,4300.0,3250.0,3675.0,3325.0,3950.0,3600.0,4050.0,3350.0,3450.0,3250.0,4050.0,3800.0,3525.0,3950.0,3650.0,3650.0,4000.0,3400.0,3775.0,4100.0,3775.0]},{\"axis\":{\"matches\":true},\"label\":\"sex\",\"values\":[\"FEMALE\",\"MALE\",\"MALE\",\"FEMALE\",\"MALE\",\"FEMALE\",\"FEMALE\",\"MALE\",\"FEMALE\",\"MALE\",\"FEMALE\",\"MALE\",\"FEMALE\",\"MALE\",\"FEMALE\",\"MALE\",\"MALE\",\"FEMALE\",\"FEMALE\",\"MALE\",\"FEMALE\",\"MALE\",\"FEMALE\",\"MALE\",\"FEMALE\",\"MALE\",\"FEMALE\",\"MALE\",\"FEMALE\",\"MALE\",\"FEMALE\",\"MALE\",\"FEMALE\",\"MALE\",\"MALE\",\"FEMALE\",\"FEMALE\",\"MALE\",\"FEMALE\",\"MALE\",\"MALE\",\"FEMALE\",\"MALE\",\"FEMALE\",\"FEMALE\",\"MALE\",\"FEMALE\",\"MALE\",\"MALE\",\"FEMALE\",\"FEMALE\",\"MALE\",\"FEMALE\",\"MALE\",\"FEMALE\",\"MALE\",\"FEMALE\",\"MALE\",\"MALE\",\"FEMALE\",\"MALE\",\"FEMALE\",\"FEMALE\",\"MALE\",\"FEMALE\",\"MALE\",\"MALE\",\"FEMALE\"]}],\"hovertemplate\":\"species=Chinstrap\\u003cbr\\u003e%{xaxis.title.text}=%{x}\\u003cbr\\u003e%{yaxis.title.text}=%{y}\\u003cextra\\u003e\\u003c\\u002fextra\\u003e\",\"legendgroup\":\"Chinstrap\",\"marker\":{\"color\":\"#EF553B\",\"symbol\":\"circle\"},\"name\":\"Chinstrap\",\"showlegend\":true,\"type\":\"splom\"},{\"dimensions\":[{\"axis\":{\"matches\":true},\"label\":\"culmen_length_mm\",\"values\":[46.1,50.0,48.7,50.0,47.6,46.5,45.4,46.7,43.3,46.8,40.9,49.0,45.5,48.4,45.8,49.3,42.0,49.2,46.2,48.7,50.2,45.1,46.5,46.3,42.9,46.1,47.8,48.2,50.0,47.3,42.8,45.1,59.6,49.1,48.4,42.6,44.4,44.0,48.7,42.7,49.6,45.3,49.6,50.5,43.6,45.5,50.5,44.9,45.2,46.6,48.5,45.1,50.1,46.5,45.0,43.8,45.5,43.2,50.4,45.3,46.2,45.7,54.3,45.8,49.8,49.5,43.5,50.7,47.7,46.4,48.2,46.5,46.4,48.6,47.5,51.1,45.2,45.2,49.1,52.5,47.4,50.0,44.9,50.8,43.4,51.3,47.5,52.1,47.5,52.2,45.5,49.5,44.5,50.8,49.4,46.9,48.4,51.1,48.5,55.9,47.2,49.1,46.8,41.7,53.4,43.3,48.1,50.5,49.8,43.5,51.5,46.2,55.1,44.5,48.8,47.2,46.8,50.4,45.2,49.9]},{\"axis\":{\"matches\":true},\"label\":\"culmen_depth_mm\",\"values\":[13.2,16.3,14.1,15.2,14.5,13.5,14.6,15.3,13.4,15.4,13.7,16.1,13.7,14.6,14.6,15.7,13.5,15.2,14.5,15.1,14.3,14.5,14.5,15.8,13.1,15.1,15.0,14.3,15.3,15.3,14.2,14.5,17.0,14.8,16.3,13.7,17.3,13.6,15.7,13.7,16.0,13.7,15.0,15.9,13.9,13.9,15.9,13.3,15.8,14.2,14.1,14.4,15.0,14.4,15.4,13.9,15.0,14.5,15.3,13.8,14.9,13.9,15.7,14.2,16.8,16.2,14.2,15.0,15.0,15.6,15.6,14.8,15.0,16.0,14.2,16.3,13.8,16.4,14.5,15.6,14.6,15.9,13.8,17.3,14.4,14.2,14.0,17.0,15.0,17.1,14.5,16.1,14.7,15.7,15.8,14.6,14.4,16.5,15.0,17.0,15.5,15.0,16.1,14.7,15.8,14.0,15.1,15.2,15.9,15.2,16.3,14.1,16.0,15.7,16.2,13.7,14.3,15.7,14.8,16.1]},{\"axis\":{\"matches\":true},\"label\":\"flipper_length_mm\",\"values\":[211.0,230.0,210.0,218.0,215.0,210.0,211.0,219.0,209.0,215.0,214.0,216.0,214.0,213.0,210.0,217.0,210.0,221.0,209.0,222.0,218.0,215.0,213.0,215.0,215.0,215.0,215.0,210.0,220.0,222.0,209.0,207.0,230.0,220.0,220.0,213.0,219.0,208.0,208.0,208.0,225.0,210.0,216.0,222.0,217.0,210.0,225.0,213.0,215.0,210.0,220.0,210.0,225.0,217.0,220.0,208.0,220.0,208.0,224.0,208.0,221.0,214.0,231.0,219.0,230.0,229.0,220.0,223.0,216.0,221.0,221.0,217.0,216.0,230.0,209.0,220.0,215.0,223.0,212.0,221.0,212.0,224.0,212.0,228.0,218.0,218.0,212.0,230.0,218.0,228.0,212.0,224.0,214.0,226.0,216.0,222.0,203.0,225.0,219.0,228.0,215.0,228.0,215.0,210.0,219.0,208.0,209.0,216.0,229.0,213.0,230.0,217.0,230.0,217.0,222.0,214.0,215.0,222.0,212.0,213.0]},{\"axis\":{\"matches\":true},\"label\":\"body_mass_g\",\"values\":[4500.0,5700.0,4450.0,5700.0,5400.0,4550.0,4800.0,5200.0,4400.0,5150.0,4650.0,5550.0,4650.0,5850.0,4200.0,5850.0,4150.0,6300.0,4800.0,5350.0,5700.0,5000.0,4400.0,5050.0,5000.0,5100.0,5650.0,4600.0,5550.0,5250.0,4700.0,5050.0,6050.0,5150.0,5400.0,4950.0,5250.0,4350.0,5350.0,3950.0,5700.0,4300.0,4750.0,5550.0,4900.0,4200.0,5400.0,5100.0,5300.0,4850.0,5300.0,4400.0,5000.0,4900.0,5050.0,4300.0,5000.0,4450.0,5550.0,4200.0,5300.0,4400.0,5650.0,4700.0,5700.0,5800.0,4700.0,5550.0,4750.0,5000.0,5100.0,5200.0,4700.0,5800.0,4600.0,6000.0,4750.0,5950.0,4625.0,5450.0,4725.0,5350.0,4750.0,5600.0,4600.0,5300.0,4875.0,5550.0,4950.0,5400.0,4750.0,5650.0,4850.0,5200.0,4925.0,4875.0,4625.0,5250.0,4850.0,5600.0,4975.0,5500.0,5500.0,4700.0,5500.0,4575.0,5500.0,5000.0,5950.0,4650.0,5500.0,4375.0,5850.0,4875.0,6000.0,4925.0,4850.0,5750.0,5200.0,5400.0]},{\"axis\":{\"matches\":true},\"label\":\"sex\",\"values\":[\"FEMALE\",\"MALE\",\"FEMALE\",\"MALE\",\"MALE\",\"FEMALE\",\"FEMALE\",\"MALE\",\"FEMALE\",\"MALE\",\"FEMALE\",\"MALE\",\"FEMALE\",\"MALE\",\"FEMALE\",\"MALE\",\"FEMALE\",\"MALE\",\"FEMALE\",\"MALE\",\"MALE\",\"FEMALE\",\"FEMALE\",\"MALE\",\"FEMALE\",\"MALE\",\"MALE\",\"FEMALE\",\"MALE\",\"MALE\",\"FEMALE\",\"FEMALE\",\"MALE\",\"FEMALE\",\"MALE\",\"FEMALE\",\"MALE\",\"FEMALE\",\"MALE\",\"FEMALE\",\"MALE\",\"FEMALE\",\"MALE\",\"MALE\",\"FEMALE\",\"FEMALE\",\"MALE\",\"FEMALE\",\"MALE\",\"FEMALE\",\"MALE\",\"FEMALE\",\"MALE\",\"FEMALE\",\"MALE\",\"FEMALE\",\"MALE\",\"FEMALE\",\"MALE\",\"FEMALE\",\"MALE\",\"FEMALE\",\"MALE\",\"FEMALE\",\"MALE\",\"MALE\",\"FEMALE\",\"MALE\",\"FEMALE\",\"MALE\",\"MALE\",\"FEMALE\",\"FEMALE\",\"MALE\",\"FEMALE\",\"MALE\",\"FEMALE\",\"MALE\",\"FEMALE\",\"MALE\",\"FEMALE\",\"MALE\",\"FEMALE\",\"MALE\",\"FEMALE\",\"MALE\",\"FEMALE\",\"MALE\",\"FEMALE\",\"MALE\",\"FEMALE\",\"MALE\",\"FEMALE\",\"MALE\",\"MALE\",\"FEMALE\",\"FEMALE\",\"MALE\",\"FEMALE\",\"MALE\",\"FEMALE\",\"MALE\",\"MALE\",\"FEMALE\",\"MALE\",\"FEMALE\",\"MALE\",\"FEMALE\",\"MALE\",\"FEMALE\",\"MALE\",\"FEMALE\",\"MALE\",\".\",\"MALE\",\"FEMALE\",\"FEMALE\",\"MALE\",\"FEMALE\",\"MALE\"]}],\"hovertemplate\":\"species=Gentoo\\u003cbr\\u003e%{xaxis.title.text}=%{x}\\u003cbr\\u003e%{yaxis.title.text}=%{y}\\u003cextra\\u003e\\u003c\\u002fextra\\u003e\",\"legendgroup\":\"Gentoo\",\"marker\":{\"color\":\"#00cc96\",\"symbol\":\"circle\"},\"name\":\"Gentoo\",\"showlegend\":true,\"type\":\"splom\"}],                        {\"template\":{\"data\":{\"histogram2dcontour\":[{\"type\":\"histogram2dcontour\",\"colorbar\":{\"outlinewidth\":0,\"ticks\":\"\"},\"colorscale\":[[0.0,\"#0d0887\"],[0.1111111111111111,\"#46039f\"],[0.2222222222222222,\"#7201a8\"],[0.3333333333333333,\"#9c179e\"],[0.4444444444444444,\"#bd3786\"],[0.5555555555555556,\"#d8576b\"],[0.6666666666666666,\"#ed7953\"],[0.7777777777777778,\"#fb9f3a\"],[0.8888888888888888,\"#fdca26\"],[1.0,\"#f0f921\"]]}],\"choropleth\":[{\"type\":\"choropleth\",\"colorbar\":{\"outlinewidth\":0,\"ticks\":\"\"}}],\"histogram2d\":[{\"type\":\"histogram2d\",\"colorbar\":{\"outlinewidth\":0,\"ticks\":\"\"},\"colorscale\":[[0.0,\"#0d0887\"],[0.1111111111111111,\"#46039f\"],[0.2222222222222222,\"#7201a8\"],[0.3333333333333333,\"#9c179e\"],[0.4444444444444444,\"#bd3786\"],[0.5555555555555556,\"#d8576b\"],[0.6666666666666666,\"#ed7953\"],[0.7777777777777778,\"#fb9f3a\"],[0.8888888888888888,\"#fdca26\"],[1.0,\"#f0f921\"]]}],\"heatmap\":[{\"type\":\"heatmap\",\"colorbar\":{\"outlinewidth\":0,\"ticks\":\"\"},\"colorscale\":[[0.0,\"#0d0887\"],[0.1111111111111111,\"#46039f\"],[0.2222222222222222,\"#7201a8\"],[0.3333333333333333,\"#9c179e\"],[0.4444444444444444,\"#bd3786\"],[0.5555555555555556,\"#d8576b\"],[0.6666666666666666,\"#ed7953\"],[0.7777777777777778,\"#fb9f3a\"],[0.8888888888888888,\"#fdca26\"],[1.0,\"#f0f921\"]]}],\"heatmapgl\":[{\"type\":\"heatmapgl\",\"colorbar\":{\"outlinewidth\":0,\"ticks\":\"\"},\"colorscale\":[[0.0,\"#0d0887\"],[0.1111111111111111,\"#46039f\"],[0.2222222222222222,\"#7201a8\"],[0.3333333333333333,\"#9c179e\"],[0.4444444444444444,\"#bd3786\"],[0.5555555555555556,\"#d8576b\"],[0.6666666666666666,\"#ed7953\"],[0.7777777777777778,\"#fb9f3a\"],[0.8888888888888888,\"#fdca26\"],[1.0,\"#f0f921\"]]}],\"contourcarpet\":[{\"type\":\"contourcarpet\",\"colorbar\":{\"outlinewidth\":0,\"ticks\":\"\"}}],\"contour\":[{\"type\":\"contour\",\"colorbar\":{\"outlinewidth\":0,\"ticks\":\"\"},\"colorscale\":[[0.0,\"#0d0887\"],[0.1111111111111111,\"#46039f\"],[0.2222222222222222,\"#7201a8\"],[0.3333333333333333,\"#9c179e\"],[0.4444444444444444,\"#bd3786\"],[0.5555555555555556,\"#d8576b\"],[0.6666666666666666,\"#ed7953\"],[0.7777777777777778,\"#fb9f3a\"],[0.8888888888888888,\"#fdca26\"],[1.0,\"#f0f921\"]]}],\"surface\":[{\"type\":\"surface\",\"colorbar\":{\"outlinewidth\":0,\"ticks\":\"\"},\"colorscale\":[[0.0,\"#0d0887\"],[0.1111111111111111,\"#46039f\"],[0.2222222222222222,\"#7201a8\"],[0.3333333333333333,\"#9c179e\"],[0.4444444444444444,\"#bd3786\"],[0.5555555555555556,\"#d8576b\"],[0.6666666666666666,\"#ed7953\"],[0.7777777777777778,\"#fb9f3a\"],[0.8888888888888888,\"#fdca26\"],[1.0,\"#f0f921\"]]}],\"mesh3d\":[{\"type\":\"mesh3d\",\"colorbar\":{\"outlinewidth\":0,\"ticks\":\"\"}}],\"scatter\":[{\"fillpattern\":{\"fillmode\":\"overlay\",\"size\":10,\"solidity\":0.2},\"type\":\"scatter\"}],\"parcoords\":[{\"type\":\"parcoords\",\"line\":{\"colorbar\":{\"outlinewidth\":0,\"ticks\":\"\"}}}],\"scatterpolargl\":[{\"type\":\"scatterpolargl\",\"marker\":{\"colorbar\":{\"outlinewidth\":0,\"ticks\":\"\"}}}],\"bar\":[{\"error_x\":{\"color\":\"#2a3f5f\"},\"error_y\":{\"color\":\"#2a3f5f\"},\"marker\":{\"line\":{\"color\":\"#E5ECF6\",\"width\":0.5},\"pattern\":{\"fillmode\":\"overlay\",\"size\":10,\"solidity\":0.2}},\"type\":\"bar\"}],\"scattergeo\":[{\"type\":\"scattergeo\",\"marker\":{\"colorbar\":{\"outlinewidth\":0,\"ticks\":\"\"}}}],\"scatterpolar\":[{\"type\":\"scatterpolar\",\"marker\":{\"colorbar\":{\"outlinewidth\":0,\"ticks\":\"\"}}}],\"histogram\":[{\"marker\":{\"pattern\":{\"fillmode\":\"overlay\",\"size\":10,\"solidity\":0.2}},\"type\":\"histogram\"}],\"scattergl\":[{\"type\":\"scattergl\",\"marker\":{\"colorbar\":{\"outlinewidth\":0,\"ticks\":\"\"}}}],\"scatter3d\":[{\"type\":\"scatter3d\",\"line\":{\"colorbar\":{\"outlinewidth\":0,\"ticks\":\"\"}},\"marker\":{\"colorbar\":{\"outlinewidth\":0,\"ticks\":\"\"}}}],\"scattermapbox\":[{\"type\":\"scattermapbox\",\"marker\":{\"colorbar\":{\"outlinewidth\":0,\"ticks\":\"\"}}}],\"scatterternary\":[{\"type\":\"scatterternary\",\"marker\":{\"colorbar\":{\"outlinewidth\":0,\"ticks\":\"\"}}}],\"scattercarpet\":[{\"type\":\"scattercarpet\",\"marker\":{\"colorbar\":{\"outlinewidth\":0,\"ticks\":\"\"}}}],\"carpet\":[{\"aaxis\":{\"endlinecolor\":\"#2a3f5f\",\"gridcolor\":\"white\",\"linecolor\":\"white\",\"minorgridcolor\":\"white\",\"startlinecolor\":\"#2a3f5f\"},\"baxis\":{\"endlinecolor\":\"#2a3f5f\",\"gridcolor\":\"white\",\"linecolor\":\"white\",\"minorgridcolor\":\"white\",\"startlinecolor\":\"#2a3f5f\"},\"type\":\"carpet\"}],\"table\":[{\"cells\":{\"fill\":{\"color\":\"#EBF0F8\"},\"line\":{\"color\":\"white\"}},\"header\":{\"fill\":{\"color\":\"#C8D4E3\"},\"line\":{\"color\":\"white\"}},\"type\":\"table\"}],\"barpolar\":[{\"marker\":{\"line\":{\"color\":\"#E5ECF6\",\"width\":0.5},\"pattern\":{\"fillmode\":\"overlay\",\"size\":10,\"solidity\":0.2}},\"type\":\"barpolar\"}],\"pie\":[{\"automargin\":true,\"type\":\"pie\"}]},\"layout\":{\"autotypenumbers\":\"strict\",\"colorway\":[\"#636efa\",\"#EF553B\",\"#00cc96\",\"#ab63fa\",\"#FFA15A\",\"#19d3f3\",\"#FF6692\",\"#B6E880\",\"#FF97FF\",\"#FECB52\"],\"font\":{\"color\":\"#2a3f5f\"},\"hovermode\":\"closest\",\"hoverlabel\":{\"align\":\"left\"},\"paper_bgcolor\":\"white\",\"plot_bgcolor\":\"#E5ECF6\",\"polar\":{\"bgcolor\":\"#E5ECF6\",\"angularaxis\":{\"gridcolor\":\"white\",\"linecolor\":\"white\",\"ticks\":\"\"},\"radialaxis\":{\"gridcolor\":\"white\",\"linecolor\":\"white\",\"ticks\":\"\"}},\"ternary\":{\"bgcolor\":\"#E5ECF6\",\"aaxis\":{\"gridcolor\":\"white\",\"linecolor\":\"white\",\"ticks\":\"\"},\"baxis\":{\"gridcolor\":\"white\",\"linecolor\":\"white\",\"ticks\":\"\"},\"caxis\":{\"gridcolor\":\"white\",\"linecolor\":\"white\",\"ticks\":\"\"}},\"coloraxis\":{\"colorbar\":{\"outlinewidth\":0,\"ticks\":\"\"}},\"colorscale\":{\"sequential\":[[0.0,\"#0d0887\"],[0.1111111111111111,\"#46039f\"],[0.2222222222222222,\"#7201a8\"],[0.3333333333333333,\"#9c179e\"],[0.4444444444444444,\"#bd3786\"],[0.5555555555555556,\"#d8576b\"],[0.6666666666666666,\"#ed7953\"],[0.7777777777777778,\"#fb9f3a\"],[0.8888888888888888,\"#fdca26\"],[1.0,\"#f0f921\"]],\"sequentialminus\":[[0.0,\"#0d0887\"],[0.1111111111111111,\"#46039f\"],[0.2222222222222222,\"#7201a8\"],[0.3333333333333333,\"#9c179e\"],[0.4444444444444444,\"#bd3786\"],[0.5555555555555556,\"#d8576b\"],[0.6666666666666666,\"#ed7953\"],[0.7777777777777778,\"#fb9f3a\"],[0.8888888888888888,\"#fdca26\"],[1.0,\"#f0f921\"]],\"diverging\":[[0,\"#8e0152\"],[0.1,\"#c51b7d\"],[0.2,\"#de77ae\"],[0.3,\"#f1b6da\"],[0.4,\"#fde0ef\"],[0.5,\"#f7f7f7\"],[0.6,\"#e6f5d0\"],[0.7,\"#b8e186\"],[0.8,\"#7fbc41\"],[0.9,\"#4d9221\"],[1,\"#276419\"]]},\"xaxis\":{\"gridcolor\":\"white\",\"linecolor\":\"white\",\"ticks\":\"\",\"title\":{\"standoff\":15},\"zerolinecolor\":\"white\",\"automargin\":true,\"zerolinewidth\":2},\"yaxis\":{\"gridcolor\":\"white\",\"linecolor\":\"white\",\"ticks\":\"\",\"title\":{\"standoff\":15},\"zerolinecolor\":\"white\",\"automargin\":true,\"zerolinewidth\":2},\"scene\":{\"xaxis\":{\"backgroundcolor\":\"#E5ECF6\",\"gridcolor\":\"white\",\"linecolor\":\"white\",\"showbackground\":true,\"ticks\":\"\",\"zerolinecolor\":\"white\",\"gridwidth\":2},\"yaxis\":{\"backgroundcolor\":\"#E5ECF6\",\"gridcolor\":\"white\",\"linecolor\":\"white\",\"showbackground\":true,\"ticks\":\"\",\"zerolinecolor\":\"white\",\"gridwidth\":2},\"zaxis\":{\"backgroundcolor\":\"#E5ECF6\",\"gridcolor\":\"white\",\"linecolor\":\"white\",\"showbackground\":true,\"ticks\":\"\",\"zerolinecolor\":\"white\",\"gridwidth\":2}},\"shapedefaults\":{\"line\":{\"color\":\"#2a3f5f\"}},\"annotationdefaults\":{\"arrowcolor\":\"#2a3f5f\",\"arrowhead\":0,\"arrowwidth\":1},\"geo\":{\"bgcolor\":\"white\",\"landcolor\":\"#E5ECF6\",\"subunitcolor\":\"white\",\"showland\":true,\"showlakes\":true,\"lakecolor\":\"white\"},\"title\":{\"x\":0.05},\"mapbox\":{\"style\":\"light\"}}},\"legend\":{\"title\":{\"text\":\"species\"},\"tracegroupgap\":0},\"margin\":{\"t\":60},\"dragmode\":\"select\",\"height\":1000},                        {\"responsive\": true}                    ).then(function(){\n",
       "                            \n",
       "var gd = document.getElementById('2ec08269-2007-4df6-a32c-6256f8c56b63');\n",
       "var x = new MutationObserver(function (mutations, observer) {{\n",
       "        var display = window.getComputedStyle(gd).display;\n",
       "        if (!display || display === 'none') {{\n",
       "            console.log([gd, 'removed!']);\n",
       "            Plotly.purge(gd);\n",
       "            observer.disconnect();\n",
       "        }}\n",
       "}});\n",
       "\n",
       "// Listen for the removal of the full notebook cells\n",
       "var notebookContainer = gd.closest('#notebook-container');\n",
       "if (notebookContainer) {{\n",
       "    x.observe(notebookContainer, {childList: true});\n",
       "}}\n",
       "\n",
       "// Listen for the clearing of the current output cell\n",
       "var outputEl = gd.closest('.output');\n",
       "if (outputEl) {{\n",
       "    x.observe(outputEl, {childList: true});\n",
       "}}\n",
       "\n",
       "                        })                };                });            </script>        </div>"
      ]
     },
     "metadata": {},
     "output_type": "display_data"
    }
   ],
   "source": [
    "import plotly.express as px\n",
    "\n",
    "fig = px.scatter_matrix(\n",
    "    df, dimensions=df.iloc[:, 2:].columns, color=\"species\", height=1000\n",
    ")\n",
    "fig.show()"
   ]
  },
  {
   "cell_type": "markdown",
   "metadata": {},
   "source": [
    "## Holdout\n",
    "\n",
    "Consiste en particionar nuestro dataset en conjuntos de:\n",
    "\n",
    "- **Training**: conjunto que se utiliza para **entrenar** el modelo.\n",
    "- **Testing**: datos que se usa para **evaluar** qué tan bien predice el modelo (a través de las métricas de evaluación). \n",
    "\n",
    "\n",
    "Comunmente se dividen en proporción $2/3$ y $1/3$ del dataset respectivamente. Sin embargo, todo depende de la cantidad de datos que se posean: si se tiene millones de ejemplos, quizas puede dividirse en 95% train, 5% test sin problemas. \n",
    "\n",
    "\n",
    "La evaluación puede variar mucho según las particiones escogidas: \n",
    "\n",
    "- Training pequeño -> modelo sesgado, \n",
    "- Testing pequeño -> evaluación poco confiable.\n",
    "\n",
    "\n",
    "Esta técnica utiliza **Random Subsampling** para seleccionar aleatoriamente las observaciones de cada uno de estos conjuntos.\n",
    "\n",
    "Para ejecutar todo esto usaremos `train_test_split`. Veamos algunos de sus parámetros:\n",
    "\n",
    "- `test_size = 0.33` - indica el tamaño del test de evaluación.\n",
    "- `shuffle = True` - indica que ejecutaremos Random Subsampling.\n",
    "- `stratify = labels` - intenta manetener la distribución de clases original en ambos conjuntos."
   ]
  },
  {
   "cell_type": "markdown",
   "metadata": {},
   "source": [
    "### Validation set:\n",
    "\n",
    "Cuando se desea realizar una búsqueda de los mejores algoritmos y sus hiperparámetros, el dataset puede ser dividido en 3:\n",
    "\n",
    "\n",
    "- **Training**: Se utiliza para entrenar los modelos.\n",
    "- **Validation**: Se utiliza para seleccionar el mejor modelo al ir variando sus hiperparámetros.\n",
    "- **Testing**: Se utiliza para evaluar el modelo previo a ser entregado o puesto en producción. Esta evaluación solo se hace sobre el modelo final.\n",
    "\n",
    "\n",
    "En este caso la división puede ser $70\\%, 15\\%, 15\\%$ respectivamente."
   ]
  },
  {
   "cell_type": "code",
   "execution_count": 101,
   "metadata": {
    "ExecuteTime": {
     "end_time": "2020-09-11T17:43:12.091444Z",
     "start_time": "2020-09-11T17:43:12.083466Z"
    }
   },
   "outputs": [],
   "source": [
    "# Holdout\n",
    "from sklearn import preprocessing\n",
    "from sklearn.model_selection import train_test_split\n",
    "\n",
    "features = df.drop(columns=[\"species\"])\n",
    "labels = df.loc[:, \"species\"]\n",
    "\n",
    "\n",
    "X_train, X_test, y_train, y_test = train_test_split(\n",
    "    features, labels, test_size=0.33, shuffle=True, stratify=labels, random_state=42\n",
    ")"
   ]
  },
  {
   "cell_type": "code",
   "execution_count": 102,
   "metadata": {
    "ExecuteTime": {
     "end_time": "2020-09-11T17:43:12.118372Z",
     "start_time": "2020-09-11T17:43:12.094436Z"
    },
    "scrolled": true
   },
   "outputs": [
    {
     "data": {
      "text/plain": [
       "(223, 6)"
      ]
     },
     "execution_count": 102,
     "metadata": {},
     "output_type": "execute_result"
    }
   ],
   "source": [
    "X_train.shape"
   ]
  },
  {
   "cell_type": "code",
   "execution_count": 103,
   "metadata": {},
   "outputs": [
    {
     "data": {
      "text/plain": [
       "(111, 6)"
      ]
     },
     "execution_count": 103,
     "metadata": {},
     "output_type": "execute_result"
    }
   ],
   "source": [
    "X_test.shape"
   ]
  },
  {
   "cell_type": "code",
   "execution_count": 104,
   "metadata": {},
   "outputs": [
    {
     "data": {
      "text/plain": [
       "Adelie       43.712575\n",
       "Gentoo       35.928144\n",
       "Chinstrap    20.359281\n",
       "Name: species, dtype: float64"
      ]
     },
     "execution_count": 104,
     "metadata": {},
     "output_type": "execute_result"
    }
   ],
   "source": [
    "# distribución original\n",
    "labels.value_counts() / labels.count() * 100"
   ]
  },
  {
   "cell_type": "code",
   "execution_count": 105,
   "metadata": {
    "scrolled": true
   },
   "outputs": [
    {
     "data": {
      "text/plain": [
       "Adelie       43.946188\n",
       "Gentoo       35.874439\n",
       "Chinstrap    20.179372\n",
       "Name: species, dtype: float64"
      ]
     },
     "execution_count": 105,
     "metadata": {},
     "output_type": "execute_result"
    }
   ],
   "source": [
    "# conjunto de entrenamiento\n",
    "y_train.value_counts() / y_train.count() * 100"
   ]
  },
  {
   "cell_type": "code",
   "execution_count": 106,
   "metadata": {
    "scrolled": true
   },
   "outputs": [
    {
     "data": {
      "text/plain": [
       "Adelie       43.243243\n",
       "Gentoo       36.036036\n",
       "Chinstrap    20.720721\n",
       "Name: species, dtype: float64"
      ]
     },
     "execution_count": 106,
     "metadata": {},
     "output_type": "execute_result"
    }
   ],
   "source": [
    "# conjunto de pruebas\n",
    "y_test.value_counts() / y_test.count() * 100"
   ]
  },
  {
   "cell_type": "markdown",
   "metadata": {
    "tags": []
   },
   "source": [
    "## `cross-validation`\n",
    "\n",
    "Cross-validation es una técnica para evaluar el grado de generalización de un modelo en un conjunto de datos independiente. Es especialmente útil para conjuntos de datos pequeños, en los que cada punto de datos es valioso tanto para el entrenamiento como para la validación. El proceso consiste en dividir el conjunto de datos en varias partes, utilizar algunas para entrenar el modelo y el resto para probarlo, y repetir este proceso varias veces para garantizar una evaluación completa.\n",
    "\n",
    "Aunque normalmente se utiliza para la selección de modelos y la estimación del rendimiento, la validación cruzada también puede proporcionar información sobre la estabilidad y la incertidumbre de las predicciones de su modelo. Al examinar la variación de las métricas de rendimiento (p. ej., precisión, RMSE), puede evaluar la coherencia del rendimiento de los modelos en diferentes subconjuntos de datos.\n",
    "\n",
    "---\n",
    "    Para cada partición i:\n",
    "        - Juntar todas las k-1 particiones restantes y entrenar el modelo sobre esos datos.\n",
    "        - Evaluar el modelo en la partición i.\n",
    "        \n",
    "    El error total = suma de errores de todos los modelos  \n",
    "\n",
    "---\n",
    "\n",
    "<img src='https://github.com/MDS7202/MDS7202/blob/main/recursos/2023-01/18-Aprendizaje-Supervisado-I/kfold.png?raw=true' width=400>"
   ]
  },
  {
   "cell_type": "code",
   "execution_count": 108,
   "metadata": {},
   "outputs": [],
   "source": [
    "from sklearn.compose import ColumnTransformer\n",
    "from sklearn.preprocessing import OneHotEncoder, RobustScaler\n",
    "\n",
    "ct = ColumnTransformer(\n",
    "    [\n",
    "        (\n",
    "            \"Scaler\",\n",
    "            RobustScaler(),\n",
    "            [\n",
    "                \"culmen_length_mm\",\n",
    "                \"culmen_depth_mm\",\n",
    "                \"flipper_length_mm\",\n",
    "                \"body_mass_g\",\n",
    "            ],\n",
    "        ),\n",
    "        (\"OneHot\", OneHotEncoder(sparse=False, handle_unknown='infrequent_if_exist'), [\"island\", \"sex\"]),\n",
    "    ]\n",
    ")"
   ]
  },
  {
   "cell_type": "markdown",
   "metadata": {},
   "source": [
    "<center>\n",
    "<img src='https://amueller.github.io/aml/_images/stratified_cv.png' width=300 />\n"
   ]
  },
  {
   "cell_type": "code",
   "execution_count": 109,
   "metadata": {},
   "outputs": [],
   "source": [
    "from sklearn.model_selection import StratifiedKFold\n",
    "from sklearn.tree import DecisionTreeClassifier\n",
    "from sklearn.metrics import accuracy_score, f1_score\n",
    "import pandas as pd\n",
    "\n",
    "# Realizamos transformaciones pertinentes\n",
    "X_train_cv = ct.fit_transform(X_train)\n",
    "cols_trans_name = ct.get_feature_names_out()\n",
    "X_train_cv = pd.DataFrame(X_train_cv, columns=cols_trans_name)\n",
    "\n",
    "cv = StratifiedKFold(n_splits=7)\n",
    "scores = {'acc': [], 'f1': []}\n",
    "\n",
    "for train_index, test_index in cv.split(X_train_cv, y_train):\n",
    "    X_train_fold, X_test_fold = X_train_cv.iloc[train_index], X_train_cv.iloc[test_index]\n",
    "    y_train_fold, y_test_fold = y_train.iloc[train_index], y_train.iloc[test_index]\n",
    "    \n",
    "    # Entrenamos el modelo\n",
    "    model = DecisionTreeClassifier(random_state=42)\n",
    "    model.fit(X_train_fold, y_train_fold)\n",
    "\n",
    "    # Evaluamos el modelo\n",
    "    y_pred_fold = model.predict(X_test_fold)\n",
    "    acc_score = accuracy_score(y_test_fold, y_pred_fold)\n",
    "    f_score = f1_score(y_test_fold, y_pred_fold, average=\"macro\")\n",
    "    scores['acc'].append(acc_score)\n",
    "    scores['f1'].append(f_score)"
   ]
  },
  {
   "cell_type": "code",
   "execution_count": 110,
   "metadata": {},
   "outputs": [
    {
     "data": {
      "text/html": [
       "<div>\n",
       "<style scoped>\n",
       "    .dataframe tbody tr th:only-of-type {\n",
       "        vertical-align: middle;\n",
       "    }\n",
       "\n",
       "    .dataframe tbody tr th {\n",
       "        vertical-align: top;\n",
       "    }\n",
       "\n",
       "    .dataframe thead th {\n",
       "        text-align: right;\n",
       "    }\n",
       "</style>\n",
       "<table border=\"1\" class=\"dataframe\">\n",
       "  <thead>\n",
       "    <tr style=\"text-align: right;\">\n",
       "      <th></th>\n",
       "      <th>acc</th>\n",
       "      <th>f1</th>\n",
       "    </tr>\n",
       "  </thead>\n",
       "  <tbody>\n",
       "    <tr>\n",
       "      <th>0</th>\n",
       "      <td>0.937500</td>\n",
       "      <td>0.920635</td>\n",
       "    </tr>\n",
       "    <tr>\n",
       "      <th>1</th>\n",
       "      <td>0.968750</td>\n",
       "      <td>0.958203</td>\n",
       "    </tr>\n",
       "    <tr>\n",
       "      <th>2</th>\n",
       "      <td>1.000000</td>\n",
       "      <td>1.000000</td>\n",
       "    </tr>\n",
       "    <tr>\n",
       "      <th>3</th>\n",
       "      <td>0.937500</td>\n",
       "      <td>0.928571</td>\n",
       "    </tr>\n",
       "    <tr>\n",
       "      <th>4</th>\n",
       "      <td>0.968750</td>\n",
       "      <td>0.965432</td>\n",
       "    </tr>\n",
       "    <tr>\n",
       "      <th>5</th>\n",
       "      <td>0.937500</td>\n",
       "      <td>0.938095</td>\n",
       "    </tr>\n",
       "    <tr>\n",
       "      <th>6</th>\n",
       "      <td>0.967742</td>\n",
       "      <td>0.962013</td>\n",
       "    </tr>\n",
       "    <tr>\n",
       "      <th>mean</th>\n",
       "      <td>0.959677</td>\n",
       "      <td>0.953279</td>\n",
       "    </tr>\n",
       "    <tr>\n",
       "      <th>std</th>\n",
       "      <td>0.023562</td>\n",
       "      <td>0.026888</td>\n",
       "    </tr>\n",
       "  </tbody>\n",
       "</table>\n",
       "</div>"
      ],
      "text/plain": [
       "           acc        f1\n",
       "0     0.937500  0.920635\n",
       "1     0.968750  0.958203\n",
       "2     1.000000  1.000000\n",
       "3     0.937500  0.928571\n",
       "4     0.968750  0.965432\n",
       "5     0.937500  0.938095\n",
       "6     0.967742  0.962013\n",
       "mean  0.959677  0.953279\n",
       "std   0.023562  0.026888"
      ]
     },
     "execution_count": 110,
     "metadata": {},
     "output_type": "execute_result"
    }
   ],
   "source": [
    "# Hagamos una tabla delos resultados\n",
    "results = pd.DataFrame.from_dict(scores)\n",
    "mean_col = pd.DataFrame(results.mean()).T.rename(index={0:'mean'})\n",
    "std_col = pd.DataFrame(results.std()).T.rename(index={0:'std'})\n",
    "results = pd.concat([results,mean_col], axis=0)\n",
    "results = pd.concat([results,std_col], axis=0)\n",
    "results"
   ]
  },
  {
   "cell_type": "markdown",
   "metadata": {},
   "source": [
    "> **Pregunta ❓**: ¿Qué podría pasar si nuestro modelo tiene una alta variación?"
   ]
  },
  {
   "cell_type": "markdown",
   "metadata": {},
   "source": [
    "## ¿Qué problemas podríamos visualizar con Holdout?"
   ]
  },
  {
   "cell_type": "markdown",
   "metadata": {},
   "source": [
    "> **Pregunta 1❓**: ¿Podría existir algún problema con el realizar un feature engineering en el siguiente conjunto de datos?"
   ]
  },
  {
   "attachments": {
    "754e9359-7835-49c6-b1cc-e926ee52eecc.png": {
     "image/png": "[encoded data removed]"
    }
   },
   "cell_type": "markdown",
   "metadata": {},
   "source": [
    "![Screenshot 2024-05-04 at 5.51.55 PM.png](attachment:754e9359-7835-49c6-b1cc-e926ee52eecc.png)"
   ]
  },
  {
   "cell_type": "markdown",
   "metadata": {},
   "source": [
    "### Preprocesamiento y Data Leakage"
   ]
  },
  {
   "cell_type": "markdown",
   "metadata": {},
   "source": [
    "<center>\n",
    "<img src='https://media1.giphy.com/media/lVBtp4SRW6rvDHf1b6/200w.gif?cid=6c09b952a7zf3h2d55w0f4w0qwqam42qbtojlgcpitpq4c8o&ep=v1_gifs_search&rid=200w.gif&ct=g' width=300 />"
   ]
  },
  {
   "cell_type": "markdown",
   "metadata": {},
   "source": [
    "Data Leakage o fuga de datos se refiere al uso de datos de prueba dentro del entrenamiento de un modelo predictivo (lo que ovbiamente es incorrecto).\n",
    "\n",
    "Dentro de los motivos por los cuales se podra generar data leakage, tenemos:\n",
    "\n",
    "- **Fuga temporal**: Se refiere a dividir datos que están correlacionados en el tiempo de manera aleatoria en lugar de hacerlo de forma cronológica. Esto puede causar problemas en la interpretación y evaluación del modelo.\n",
    "  \n",
    "- **Procesamiento de datos antes de la división**: Se refiere a la manipulación de los datos antes de dividirlos en conjuntos de entrenamiento y prueba. Es importante realizar cualquier procesamiento de datos, como normalización o codificación, después de dividir los datos para evitar fugas de información.\n",
    "  \n",
    "- **Manejo deficiente de la duplicación de datos antes de la división**: Indica que no se está manejando adecuadamente la duplicación de datos antes de dividirlos en conjuntos de entrenamiento y prueba. Esto puede introducir sesgos en el modelo y afectar su rendimiento.\n",
    "  \n",
    "- **Fuga por variables altamente correlacionadas con el target**: Ocurre cuando usamos columnas que contienen información derivada o transformada del target, aunque indirectamente, en nuestro entrenamiento.\n",
    "\n",
    "Es muy importante que el **preprocesamiento y feature engineering lo hagan siempre sobre los datos de entrenamiento y no sobre todo el dataset**. De lo contrario, estarían ocupando datos destinados a evaluar para entrenar el modelo (o el preprocesamiento) lo que puede inducir a resultados muy buenos cuando en verdad no deberían serlos.\n",
    "\n",
    "Mas información en [data-leakage de scikit-learn](https://scikit-learn.org/stable/common_pitfalls.html#data-leakage)"
   ]
  },
  {
   "cell_type": "code",
   "execution_count": 111,
   "metadata": {},
   "outputs": [],
   "source": [
    "X_train_preprocessed = pd.DataFrame(\n",
    "    ct.fit_transform(X_train),\n",
    "    columns=np.concatenate(\n",
    "        [ct.transformers_[0][2], ct.transformers_[1][1].get_feature_names_out()], axis=0\n",
    "    ),\n",
    ")"
   ]
  },
  {
   "cell_type": "markdown",
   "metadata": {},
   "source": [
    "#### Data Leakage, ¿donde?"
   ]
  },
  {
   "cell_type": "markdown",
   "metadata": {},
   "source": [
    "1. **Medir la correlación de una features con las etiquetas**. Revisar en profundidad las correlaciones altas entre feature porque podrían contener información de nuestra etiqueta.\n",
    "\n",
    "2. **Estudio de ablación de features**. Si la eliminación de una feature provoca una disminución significativa en el rendimiento del modelo, es importante averiguar por qué.\n",
    "\n",
    "3. **Cómo identificarlo**. Métricas demasiado buenas para ser verdad. Gran brecha entre validación y test real."
   ]
  },
  {
   "cell_type": "markdown",
   "metadata": {},
   "source": [
    "**Retomemos el ejemplo anterior**"
   ]
  },
  {
   "cell_type": "code",
   "execution_count": 112,
   "metadata": {
    "ExecuteTime": {
     "end_time": "2020-09-11T17:43:12.133332Z",
     "start_time": "2020-09-11T17:43:12.121364Z"
    }
   },
   "outputs": [],
   "source": [
    "from sklearn.pipeline import Pipeline\n",
    "from sklearn.tree import DecisionTreeClassifier\n",
    "\n",
    "tree_pipe = Pipeline(\n",
    "    [(\"preprocesamiento\", ct), (\"tree\", DecisionTreeClassifier(criterion=\"entropy\"))]\n",
    ")\n",
    "\n",
    "# noten que aquí se pasa X_train ya que la etapa de\n",
    "# preprocesamiento está incluida en el pipeline (primera etapa)\n",
    "\n",
    "tree_pipe = tree_pipe.fit(X_train, y_train)"
   ]
  },
  {
   "cell_type": "code",
   "execution_count": 113,
   "metadata": {
    "ExecuteTime": {
     "end_time": "2020-09-11T17:43:12.153278Z",
     "start_time": "2020-09-11T17:43:12.135327Z"
    }
   },
   "outputs": [
    {
     "data": {
      "text/plain": [
       "111"
      ]
     },
     "execution_count": 113,
     "metadata": {},
     "output_type": "execute_result"
    }
   ],
   "source": [
    "y_pred = tree_pipe.predict(X_test)\n",
    "len(y_pred)"
   ]
  },
  {
   "cell_type": "markdown",
   "metadata": {},
   "source": [
    "### Evaluación"
   ]
  },
  {
   "cell_type": "code",
   "execution_count": 114,
   "metadata": {},
   "outputs": [
    {
     "name": "stdout",
     "output_type": "stream",
     "text": [
      "Matriz de confusión\n",
      "\n",
      " [[42  6  0]\n",
      " [ 0 23  0]\n",
      " [ 1  1 38]] \n",
      "\n",
      "              precision    recall  f1-score   support\n",
      "\n",
      "      Adelie       0.98      0.88      0.92        48\n",
      "   Chinstrap       0.77      1.00      0.87        23\n",
      "      Gentoo       1.00      0.95      0.97        40\n",
      "\n",
      "    accuracy                           0.93       111\n",
      "   macro avg       0.91      0.94      0.92       111\n",
      "weighted avg       0.94      0.93      0.93       111\n",
      "\n"
     ]
    }
   ],
   "source": [
    "print(\"Matriz de confusión\\n\\n\", confusion_matrix(y_test, y_pred), \"\\n\")\n",
    "print(classification_report(y_test, y_pred))"
   ]
  },
  {
   "cell_type": "markdown",
   "metadata": {},
   "source": [
    "> **Pregunta❓**: ¿Cuándo podemos decir que un modelo esta sobre-ajustado?"
   ]
  },
  {
   "cell_type": "markdown",
   "metadata": {},
   "source": [
    "### Learning Curves"
   ]
  },
  {
   "cell_type": "markdown",
   "metadata": {},
   "source": [
    "<center>\n",
    "<img src='https://media.tenor.com/cPX9p2z6fK8AAAAM/cerebrito-simpsons.gif' width=300 />"
   ]
  },
  {
   "cell_type": "markdown",
   "metadata": {},
   "source": [
    "Una Learning Curve muestra la relación entre la puntuación de entrenamiento y la puntuación de prueba validada cruzadamente para un estimador con un número variable de muestras de entrenamiento. Esta visualización se utiliza típicamente para demostrar:\n",
    "\n",
    "1. Cuánto se beneficia el estimador a medida que posee más datos.\n",
    "\n",
    "2. Evaluar si el modelo está sufriendo underfitting u overfitting."
   ]
  },
  {
   "cell_type": "code",
   "execution_count": 115,
   "metadata": {},
   "outputs": [
    {
     "data": {
      "image/png": "[encoded data removed]",
      "text/plain": [
       "<Figure size 800x550 with 1 Axes>"
      ]
     },
     "metadata": {},
     "output_type": "display_data"
    },
    {
     "data": {
      "text/plain": [
       "<AxesSubplot: title={'center': 'Learning Curve for DecisionTreeClassifier'}, xlabel='Training Instances', ylabel='Score'>"
      ]
     },
     "execution_count": 115,
     "metadata": {},
     "output_type": "execute_result"
    }
   ],
   "source": [
    "import numpy as np\n",
    "from yellowbrick.model_selection import LearningCurve\n",
    "import matplotlib.pyplot as plt\n",
    "plt.rcParams['font.family'] = 'DejaVu Sans'\n",
    "\n",
    "cv = StratifiedKFold(n_splits=12)\n",
    "sizes = np.linspace(0.3, 1.0, 10)\n",
    "\n",
    "visualizer = LearningCurve(\n",
    "    tree_pipe, cv=cv, scoring='f1_weighted', train_sizes=sizes, n_jobs=4\n",
    ")\n",
    "\n",
    "visualizer.fit(features, labels)\n",
    "visualizer.show()"
   ]
  },
  {
   "cell_type": "markdown",
   "metadata": {},
   "source": [
    "En sintesis, esto nos ayuda a:\n",
    "\n",
    "1. **Optimización del tamaño del conjunto de datos:** Ayuda a determinar si el modelo se beneficiaría de más datos de entrenamiento o si ya ha alcanzado su límite de rendimiento con la cantidad actual de datos. Esto es crucial para evitar el sobreajuste o el subajuste del modelo.\n",
    "\n",
    "2. **Diagnóstico de problemas de rendimiento:** Permite identificar si el modelo sufre principalmente de sesgo (underfitting) o de varianza (overfitting). Si la curva de aprendizaje indica un bajo rendimiento tanto en los datos de entrenamiento como en los de validación, es posible que el modelo necesite una mayor complejidad. Si la brecha entre las curvas de aprendizaje es grande, puede ser indicativo de sobreajuste.\n",
    "\n",
    "3. **Toma de decisiones informadas:** Proporciona información valiosa para tomar decisiones sobre la arquitectura del modelo, la recopilación de datos adicionales o la necesidad de técnicas de regularización para mejorar el rendimiento del modelo."
   ]
  },
  {
   "cell_type": "markdown",
   "metadata": {},
   "source": [
    "### Importancia de Features"
   ]
  },
  {
   "cell_type": "markdown",
   "metadata": {},
   "source": [
    "<center>\n",
    "<img src='https://i.imgur.com/pYamhDO.gif' width=300 />"
   ]
  },
  {
   "cell_type": "markdown",
   "metadata": {},
   "source": [
    ">  **Pregunta❓**: ¿Cuánto se deteriora el rendimiento del modelo si se elimina una feature o un conjunto de características que contienen esa feature del modelo?"
   ]
  },
  {
   "cell_type": "markdown",
   "metadata": {},
   "source": [
    "La feature importance en machine learning es una medida que indica la contribución relativa de cada característica (o variable) en la predicción realizada por un modelo. En esencia, proporciona información sobre qué características son más influyentes para el modelo a la hora de hacer predicciones.\n",
    "\n",
    "Esta medida es útil para entender qué variables están contribuyendo significativamente a la capacidad predictiva del modelo y puede ayudar en tareas como la selección de características, la interpretación del modelo y la identificación de características relevantes para un problema en particular.\n",
    "\n",
    "Existen diferentes métodos para calcular la importancia de características, dependiendo del tipo de modelo utilizado. Algunos modelos proporcionan directamente esta información (como los árboles de decisión), mientras que en otros casos se pueden aplicar técnicas específicas, como la importancia de características basada en permutaciones o el uso de coeficientes en modelos lineales."
   ]
  },
  {
   "attachments": {
    "43f3514d-e139-43d8-87fd-15cf4d4a9a28.png": {
     "image/png": "[encoded data removed]"
    }
   },
   "cell_type": "markdown",
   "metadata": {},
   "source": [
    "![Screenshot 2024-05-04 at 8.09.00 PM.png](attachment:43f3514d-e139-43d8-87fd-15cf4d4a9a28.png)"
   ]
  },
  {
   "cell_type": "markdown",
   "metadata": {},
   "source": [
    "Veamos la importancia en nuestro árbol:"
   ]
  },
  {
   "cell_type": "code",
   "execution_count": 116,
   "metadata": {},
   "outputs": [
    {
     "data": {
      "image/png": "[encoded data removed]",
      "text/plain": [
       "<Figure size 800x600 with 1 Axes>"
      ]
     },
     "metadata": {},
     "output_type": "display_data"
    }
   ],
   "source": [
    "columns_names = tree_pipe['preprocesamiento'].get_feature_names_out()\n",
    "feat_importances = pd.DataFrame(\n",
    "    tree_pipe['tree'].feature_importances_, \n",
    "    index=columns_names,\n",
    "    columns=[\"Importance\"]\n",
    ")\n",
    "feat_importances.sort_values(by='Importance', ascending=True, inplace=True)\n",
    "feat_importances.plot(kind='barh', figsize=(8,6), legend=False)\n",
    "plt.show()"
   ]
  },
  {
   "cell_type": "markdown",
   "metadata": {},
   "source": [
    ">  **Pregunta❓**: ¿Cómo podríamos sacarle provecho a esto?"
   ]
  },
  {
   "cell_type": "code",
   "execution_count": 117,
   "metadata": {},
   "outputs": [],
   "source": [
    "import plotly.graph_objects as go\n",
    "import numpy as np\n",
    "\n",
    "def plot_line_std(x, y, std):\n",
    "    # Crear una figura\n",
    "    fig = go.Figure()\n",
    "\n",
    "    # Añadir la línea principal\n",
    "    fig.add_trace(go.Scatter(x=x, y=y, mode='lines', name='Main Line'))\n",
    "\n",
    "    # Añadir la banda de variación o desviación estándar\n",
    "    fig.add_trace(go.Scatter(x=np.concatenate([x, x[::-1]]),\n",
    "                             y=np.concatenate([y - std, (y + std)[::-1]]),\n",
    "                             fill='toself',\n",
    "                             fillcolor='rgba(0,100,80,0.2)',\n",
    "                             line=dict(color='rgba(255,255,255,0)'),\n",
    "                             name='Variation'))\n",
    "\n",
    "    # Establecer el diseño del gráfico\n",
    "    fig.update_layout(title='Precisión del modelo con el número de features',\n",
    "                      template='simple_white',\n",
    "                      showlegend=False,\n",
    "                      xaxis_title='Número de features',\n",
    "                      yaxis_title='Score')\n",
    "\n",
    "    # Mostrar el gráfico\n",
    "    fig.show()"
   ]
  },
  {
   "cell_type": "code",
   "execution_count": 118,
   "metadata": {},
   "outputs": [
    {
     "data": {
      "application/vnd.plotly.v1+json": {
       "config": {
        "plotlyServerURL": "https://plot.ly"
       },
       "data": [
        {
         "mode": "lines",
         "name": "Main Line",
         "type": "scatter",
         "x": [
          1,
          2,
          3,
          4,
          5,
          6,
          7,
          8,
          9
         ],
         "y": [
          0.6810638178022751,
          0.9077647177956774,
          0.929949621528569,
          0.9425181640971114,
          0.953994708994709,
          0.9349158249158249,
          0.9335978835978835,
          0.947014103887169,
          0.9452861952861953
         ]
        },
        {
         "fill": "toself",
         "fillcolor": "rgba(0,100,80,0.2)",
         "line": {
          "color": "rgba(255,255,255,0)"
         },
         "name": "Variation",
         "type": "scatter",
         "x": [
          1,
          2,
          3,
          4,
          5,
          6,
          7,
          8,
          9,
          9,
          8,
          7,
          6,
          5,
          4,
          3,
          2,
          1
         ],
         "y": [
          0.6512643942829273,
          0.8614603481128511,
          0.8979326729278801,
          0.9262373859435498,
          0.9211256401096554,
          0.9233196385088486,
          0.904754381836614,
          0.9262176923530291,
          0.9331313597657982,
          0.9574410308065924,
          0.9678105154213089,
          0.962441385359153,
          0.9465120113228013,
          0.9868637778797625,
          0.9587989422506731,
          0.9619665701292578,
          0.9540690874785036,
          0.7108632413216229
         ]
        }
       ],
       "layout": {
        "showlegend": false,
        "template": {
         "data": {
          "bar": [
           {
            "error_x": {
             "color": "rgb(36,36,36)"
            },
            "error_y": {
             "color": "rgb(36,36,36)"
            },
            "marker": {
             "line": {
              "color": "white",
              "width": 0.5
             },
             "pattern": {
              "fillmode": "overlay",
              "size": 10,
              "solidity": 0.2
             }
            },
            "type": "bar"
           }
          ],
          "barpolar": [
           {
            "marker": {
             "line": {
              "color": "white",
              "width": 0.5
             },
             "pattern": {
              "fillmode": "overlay",
              "size": 10,
              "solidity": 0.2
             }
            },
            "type": "barpolar"
           }
          ],
          "carpet": [
           {
            "aaxis": {
             "endlinecolor": "rgb(36,36,36)",
             "gridcolor": "white",
             "linecolor": "white",
             "minorgridcolor": "white",
             "startlinecolor": "rgb(36,36,36)"
            },
            "baxis": {
             "endlinecolor": "rgb(36,36,36)",
             "gridcolor": "white",
             "linecolor": "white",
             "minorgridcolor": "white",
             "startlinecolor": "rgb(36,36,36)"
            },
            "type": "carpet"
           }
          ],
          "choropleth": [
           {
            "colorbar": {
             "outlinewidth": 1,
             "tickcolor": "rgb(36,36,36)",
             "ticks": "outside"
            },
            "type": "choropleth"
           }
          ],
          "contour": [
           {
            "colorbar": {
             "outlinewidth": 1,
             "tickcolor": "rgb(36,36,36)",
             "ticks": "outside"
            },
            "colorscale": [
             [
              0,
              "#440154"
             ],
             [
              0.1111111111111111,
              "#482878"
             ],
             [
              0.2222222222222222,
              "#3e4989"
             ],
             [
              0.3333333333333333,
              "#31688e"
             ],
             [
              0.4444444444444444,
              "#26828e"
             ],
             [
              0.5555555555555556,
              "#1f9e89"
             ],
             [
              0.6666666666666666,
              "#35b779"
             ],
             [
              0.7777777777777778,
              "#6ece58"
             ],
             [
              0.8888888888888888,
              "#b5de2b"
             ],
             [
              1,
              "#fde725"
             ]
            ],
            "type": "contour"
           }
          ],
          "contourcarpet": [
           {
            "colorbar": {
             "outlinewidth": 1,
             "tickcolor": "rgb(36,36,36)",
             "ticks": "outside"
            },
            "type": "contourcarpet"
           }
          ],
          "heatmap": [
           {
            "colorbar": {
             "outlinewidth": 1,
             "tickcolor": "rgb(36,36,36)",
             "ticks": "outside"
            },
            "colorscale": [
             [
              0,
              "#440154"
             ],
             [
              0.1111111111111111,
              "#482878"
             ],
             [
              0.2222222222222222,
              "#3e4989"
             ],
             [
              0.3333333333333333,
              "#31688e"
             ],
             [
              0.4444444444444444,
              "#26828e"
             ],
             [
              0.5555555555555556,
              "#1f9e89"
             ],
             [
              0.6666666666666666,
              "#35b779"
             ],
             [
              0.7777777777777778,
              "#6ece58"
             ],
             [
              0.8888888888888888,
              "#b5de2b"
             ],
             [
              1,
              "#fde725"
             ]
            ],
            "type": "heatmap"
           }
          ],
          "heatmapgl": [
           {
            "colorbar": {
             "outlinewidth": 1,
             "tickcolor": "rgb(36,36,36)",
             "ticks": "outside"
            },
            "colorscale": [
             [
              0,
              "#440154"
             ],
             [
              0.1111111111111111,
              "#482878"
             ],
             [
              0.2222222222222222,
              "#3e4989"
             ],
             [
              0.3333333333333333,
              "#31688e"
             ],
             [
              0.4444444444444444,
              "#26828e"
             ],
             [
              0.5555555555555556,
              "#1f9e89"
             ],
             [
              0.6666666666666666,
              "#35b779"
             ],
             [
              0.7777777777777778,
              "#6ece58"
             ],
             [
              0.8888888888888888,
              "#b5de2b"
             ],
             [
              1,
              "#fde725"
             ]
            ],
            "type": "heatmapgl"
           }
          ],
          "histogram": [
           {
            "marker": {
             "line": {
              "color": "white",
              "width": 0.6
             }
            },
            "type": "histogram"
           }
          ],
          "histogram2d": [
           {
            "colorbar": {
             "outlinewidth": 1,
             "tickcolor": "rgb(36,36,36)",
             "ticks": "outside"
            },
            "colorscale": [
             [
              0,
              "#440154"
             ],
             [
              0.1111111111111111,
              "#482878"
             ],
             [
              0.2222222222222222,
              "#3e4989"
             ],
             [
              0.3333333333333333,
              "#31688e"
             ],
             [
              0.4444444444444444,
              "#26828e"
             ],
             [
              0.5555555555555556,
              "#1f9e89"
             ],
             [
              0.6666666666666666,
              "#35b779"
             ],
             [
              0.7777777777777778,
              "#6ece58"
             ],
             [
              0.8888888888888888,
              "#b5de2b"
             ],
             [
              1,
              "#fde725"
             ]
            ],
            "type": "histogram2d"
           }
          ],
          "histogram2dcontour": [
           {
            "colorbar": {
             "outlinewidth": 1,
             "tickcolor": "rgb(36,36,36)",
             "ticks": "outside"
            },
            "colorscale": [
             [
              0,
              "#440154"
             ],
             [
              0.1111111111111111,
              "#482878"
             ],
             [
              0.2222222222222222,
              "#3e4989"
             ],
             [
              0.3333333333333333,
              "#31688e"
             ],
             [
              0.4444444444444444,
              "#26828e"
             ],
             [
              0.5555555555555556,
              "#1f9e89"
             ],
             [
              0.6666666666666666,
              "#35b779"
             ],
             [
              0.7777777777777778,
              "#6ece58"
             ],
             [
              0.8888888888888888,
              "#b5de2b"
             ],
             [
              1,
              "#fde725"
             ]
            ],
            "type": "histogram2dcontour"
           }
          ],
          "mesh3d": [
           {
            "colorbar": {
             "outlinewidth": 1,
             "tickcolor": "rgb(36,36,36)",
             "ticks": "outside"
            },
            "type": "mesh3d"
           }
          ],
          "parcoords": [
           {
            "line": {
             "colorbar": {
              "outlinewidth": 1,
              "tickcolor": "rgb(36,36,36)",
              "ticks": "outside"
             }
            },
            "type": "parcoords"
           }
          ],
          "pie": [
           {
            "automargin": true,
            "type": "pie"
           }
          ],
          "scatter": [
           {
            "fillpattern": {
             "fillmode": "overlay",
             "size": 10,
             "solidity": 0.2
            },
            "type": "scatter"
           }
          ],
          "scatter3d": [
           {
            "line": {
             "colorbar": {
              "outlinewidth": 1,
              "tickcolor": "rgb(36,36,36)",
              "ticks": "outside"
             }
            },
            "marker": {
             "colorbar": {
              "outlinewidth": 1,
              "tickcolor": "rgb(36,36,36)",
              "ticks": "outside"
             }
            },
            "type": "scatter3d"
           }
          ],
          "scattercarpet": [
           {
            "marker": {
             "colorbar": {
              "outlinewidth": 1,
              "tickcolor": "rgb(36,36,36)",
              "ticks": "outside"
             }
            },
            "type": "scattercarpet"
           }
          ],
          "scattergeo": [
           {
            "marker": {
             "colorbar": {
              "outlinewidth": 1,
              "tickcolor": "rgb(36,36,36)",
              "ticks": "outside"
             }
            },
            "type": "scattergeo"
           }
          ],
          "scattergl": [
           {
            "marker": {
             "colorbar": {
              "outlinewidth": 1,
              "tickcolor": "rgb(36,36,36)",
              "ticks": "outside"
             }
            },
            "type": "scattergl"
           }
          ],
          "scattermapbox": [
           {
            "marker": {
             "colorbar": {
              "outlinewidth": 1,
              "tickcolor": "rgb(36,36,36)",
              "ticks": "outside"
             }
            },
            "type": "scattermapbox"
           }
          ],
          "scatterpolar": [
           {
            "marker": {
             "colorbar": {
              "outlinewidth": 1,
              "tickcolor": "rgb(36,36,36)",
              "ticks": "outside"
             }
            },
            "type": "scatterpolar"
           }
          ],
          "scatterpolargl": [
           {
            "marker": {
             "colorbar": {
              "outlinewidth": 1,
              "tickcolor": "rgb(36,36,36)",
              "ticks": "outside"
             }
            },
            "type": "scatterpolargl"
           }
          ],
          "scatterternary": [
           {
            "marker": {
             "colorbar": {
              "outlinewidth": 1,
              "tickcolor": "rgb(36,36,36)",
              "ticks": "outside"
             }
            },
            "type": "scatterternary"
           }
          ],
          "surface": [
           {
            "colorbar": {
             "outlinewidth": 1,
             "tickcolor": "rgb(36,36,36)",
             "ticks": "outside"
            },
            "colorscale": [
             [
              0,
              "#440154"
             ],
             [
              0.1111111111111111,
              "#482878"
             ],
             [
              0.2222222222222222,
              "#3e4989"
             ],
             [
              0.3333333333333333,
              "#31688e"
             ],
             [
              0.4444444444444444,
              "#26828e"
             ],
             [
              0.5555555555555556,
              "#1f9e89"
             ],
             [
              0.6666666666666666,
              "#35b779"
             ],
             [
              0.7777777777777778,
              "#6ece58"
             ],
             [
              0.8888888888888888,
              "#b5de2b"
             ],
             [
              1,
              "#fde725"
             ]
            ],
            "type": "surface"
           }
          ],
          "table": [
           {
            "cells": {
             "fill": {
              "color": "rgb(237,237,237)"
             },
             "line": {
              "color": "white"
             }
            },
            "header": {
             "fill": {
              "color": "rgb(217,217,217)"
             },
             "line": {
              "color": "white"
             }
            },
            "type": "table"
           }
          ]
         },
         "layout": {
          "annotationdefaults": {
           "arrowhead": 0,
           "arrowwidth": 1
          },
          "autotypenumbers": "strict",
          "coloraxis": {
           "colorbar": {
            "outlinewidth": 1,
            "tickcolor": "rgb(36,36,36)",
            "ticks": "outside"
           }
          },
          "colorscale": {
           "diverging": [
            [
             0,
             "rgb(103,0,31)"
            ],
            [
             0.1,
             "rgb(178,24,43)"
            ],
            [
             0.2,
             "rgb(214,96,77)"
            ],
            [
             0.3,
             "rgb(244,165,130)"
            ],
            [
             0.4,
             "rgb(253,219,199)"
            ],
            [
             0.5,
             "rgb(247,247,247)"
            ],
            [
             0.6,
             "rgb(209,229,240)"
            ],
            [
             0.7,
             "rgb(146,197,222)"
            ],
            [
             0.8,
             "rgb(67,147,195)"
            ],
            [
             0.9,
             "rgb(33,102,172)"
            ],
            [
             1,
             "rgb(5,48,97)"
            ]
           ],
           "sequential": [
            [
             0,
             "#440154"
            ],
            [
             0.1111111111111111,
             "#482878"
            ],
            [
             0.2222222222222222,
             "#3e4989"
            ],
            [
             0.3333333333333333,
             "#31688e"
            ],
            [
             0.4444444444444444,
             "#26828e"
            ],
            [
             0.5555555555555556,
             "#1f9e89"
            ],
            [
             0.6666666666666666,
             "#35b779"
            ],
            [
             0.7777777777777778,
             "#6ece58"
            ],
            [
             0.8888888888888888,
             "#b5de2b"
            ],
            [
             1,
             "#fde725"
            ]
           ],
           "sequentialminus": [
            [
             0,
             "#440154"
            ],
            [
             0.1111111111111111,
             "#482878"
            ],
            [
             0.2222222222222222,
             "#3e4989"
            ],
            [
             0.3333333333333333,
             "#31688e"
            ],
            [
             0.4444444444444444,
             "#26828e"
            ],
            [
             0.5555555555555556,
             "#1f9e89"
            ],
            [
             0.6666666666666666,
             "#35b779"
            ],
            [
             0.7777777777777778,
             "#6ece58"
            ],
            [
             0.8888888888888888,
             "#b5de2b"
            ],
            [
             1,
             "#fde725"
            ]
           ]
          },
          "colorway": [
           "#1F77B4",
           "#FF7F0E",
           "#2CA02C",
           "#D62728",
           "#9467BD",
           "#8C564B",
           "#E377C2",
           "#7F7F7F",
           "#BCBD22",
           "#17BECF"
          ],
          "font": {
           "color": "rgb(36,36,36)"
          },
          "geo": {
           "bgcolor": "white",
           "lakecolor": "white",
           "landcolor": "white",
           "showlakes": true,
           "showland": true,
           "subunitcolor": "white"
          },
          "hoverlabel": {
           "align": "left"
          },
          "hovermode": "closest",
          "mapbox": {
           "style": "light"
          },
          "paper_bgcolor": "white",
          "plot_bgcolor": "white",
          "polar": {
           "angularaxis": {
            "gridcolor": "rgb(232,232,232)",
            "linecolor": "rgb(36,36,36)",
            "showgrid": false,
            "showline": true,
            "ticks": "outside"
           },
           "bgcolor": "white",
           "radialaxis": {
            "gridcolor": "rgb(232,232,232)",
            "linecolor": "rgb(36,36,36)",
            "showgrid": false,
            "showline": true,
            "ticks": "outside"
           }
          },
          "scene": {
           "xaxis": {
            "backgroundcolor": "white",
            "gridcolor": "rgb(232,232,232)",
            "gridwidth": 2,
            "linecolor": "rgb(36,36,36)",
            "showbackground": true,
            "showgrid": false,
            "showline": true,
            "ticks": "outside",
            "zeroline": false,
            "zerolinecolor": "rgb(36,36,36)"
           },
           "yaxis": {
            "backgroundcolor": "white",
            "gridcolor": "rgb(232,232,232)",
            "gridwidth": 2,
            "linecolor": "rgb(36,36,36)",
            "showbackground": true,
            "showgrid": false,
            "showline": true,
            "ticks": "outside",
            "zeroline": false,
            "zerolinecolor": "rgb(36,36,36)"
           },
           "zaxis": {
            "backgroundcolor": "white",
            "gridcolor": "rgb(232,232,232)",
            "gridwidth": 2,
            "linecolor": "rgb(36,36,36)",
            "showbackground": true,
            "showgrid": false,
            "showline": true,
            "ticks": "outside",
            "zeroline": false,
            "zerolinecolor": "rgb(36,36,36)"
           }
          },
          "shapedefaults": {
           "fillcolor": "black",
           "line": {
            "width": 0
           },
           "opacity": 0.3
          },
          "ternary": {
           "aaxis": {
            "gridcolor": "rgb(232,232,232)",
            "linecolor": "rgb(36,36,36)",
            "showgrid": false,
            "showline": true,
            "ticks": "outside"
           },
           "baxis": {
            "gridcolor": "rgb(232,232,232)",
            "linecolor": "rgb(36,36,36)",
            "showgrid": false,
            "showline": true,
            "ticks": "outside"
           },
           "bgcolor": "white",
           "caxis": {
            "gridcolor": "rgb(232,232,232)",
            "linecolor": "rgb(36,36,36)",
            "showgrid": false,
            "showline": true,
            "ticks": "outside"
           }
          },
          "title": {
           "x": 0.05
          },
          "xaxis": {
           "automargin": true,
           "gridcolor": "rgb(232,232,232)",
           "linecolor": "rgb(36,36,36)",
           "showgrid": false,
           "showline": true,
           "ticks": "outside",
           "title": {
            "standoff": 15
           },
           "zeroline": false,
           "zerolinecolor": "rgb(36,36,36)"
          },
          "yaxis": {
           "automargin": true,
           "gridcolor": "rgb(232,232,232)",
           "linecolor": "rgb(36,36,36)",
           "showgrid": false,
           "showline": true,
           "ticks": "outside",
           "title": {
            "standoff": 15
           },
           "zeroline": false,
           "zerolinecolor": "rgb(36,36,36)"
          }
         }
        },
        "title": {
         "text": "Precisión del modelo con el número de features"
        },
        "xaxis": {
         "title": {
          "text": "Número de features"
         }
        },
        "yaxis": {
         "title": {
          "text": "Score"
         }
        }
       }
      },
      "text/html": [
       "<div>                            <div id=\"15acf353-e010-436e-8d91-40e2b10c3e17\" class=\"plotly-graph-div\" style=\"height:525px; width:100%;\"></div>            <script type=\"text/javascript\">                require([\"plotly\"], function(Plotly) {                    window.PLOTLYENV=window.PLOTLYENV || {};                                    if (document.getElementById(\"15acf353-e010-436e-8d91-40e2b10c3e17\")) {                    Plotly.newPlot(                        \"15acf353-e010-436e-8d91-40e2b10c3e17\",                        [{\"mode\":\"lines\",\"name\":\"Main Line\",\"x\":[1,2,3,4,5,6,7,8,9],\"y\":[0.6810638178022751,0.9077647177956774,0.929949621528569,0.9425181640971114,0.953994708994709,0.9349158249158249,0.9335978835978835,0.947014103887169,0.9452861952861953],\"type\":\"scatter\"},{\"fill\":\"toself\",\"fillcolor\":\"rgba(0,100,80,0.2)\",\"line\":{\"color\":\"rgba(255,255,255,0)\"},\"name\":\"Variation\",\"x\":[1,2,3,4,5,6,7,8,9,9,8,7,6,5,4,3,2,1],\"y\":[0.6512643942829273,0.8614603481128511,0.8979326729278801,0.9262373859435498,0.9211256401096554,0.9233196385088486,0.904754381836614,0.9262176923530291,0.9331313597657982,0.9574410308065924,0.9678105154213089,0.962441385359153,0.9465120113228013,0.9868637778797625,0.9587989422506731,0.9619665701292578,0.9540690874785036,0.7108632413216229],\"type\":\"scatter\"}],                        {\"template\":{\"data\":{\"barpolar\":[{\"marker\":{\"line\":{\"color\":\"white\",\"width\":0.5},\"pattern\":{\"fillmode\":\"overlay\",\"size\":10,\"solidity\":0.2}},\"type\":\"barpolar\"}],\"bar\":[{\"error_x\":{\"color\":\"rgb(36,36,36)\"},\"error_y\":{\"color\":\"rgb(36,36,36)\"},\"marker\":{\"line\":{\"color\":\"white\",\"width\":0.5},\"pattern\":{\"fillmode\":\"overlay\",\"size\":10,\"solidity\":0.2}},\"type\":\"bar\"}],\"carpet\":[{\"aaxis\":{\"endlinecolor\":\"rgb(36,36,36)\",\"gridcolor\":\"white\",\"linecolor\":\"white\",\"minorgridcolor\":\"white\",\"startlinecolor\":\"rgb(36,36,36)\"},\"baxis\":{\"endlinecolor\":\"rgb(36,36,36)\",\"gridcolor\":\"white\",\"linecolor\":\"white\",\"minorgridcolor\":\"white\",\"startlinecolor\":\"rgb(36,36,36)\"},\"type\":\"carpet\"}],\"choropleth\":[{\"colorbar\":{\"outlinewidth\":1,\"tickcolor\":\"rgb(36,36,36)\",\"ticks\":\"outside\"},\"type\":\"choropleth\"}],\"contourcarpet\":[{\"colorbar\":{\"outlinewidth\":1,\"tickcolor\":\"rgb(36,36,36)\",\"ticks\":\"outside\"},\"type\":\"contourcarpet\"}],\"contour\":[{\"colorbar\":{\"outlinewidth\":1,\"tickcolor\":\"rgb(36,36,36)\",\"ticks\":\"outside\"},\"colorscale\":[[0.0,\"#440154\"],[0.1111111111111111,\"#482878\"],[0.2222222222222222,\"#3e4989\"],[0.3333333333333333,\"#31688e\"],[0.4444444444444444,\"#26828e\"],[0.5555555555555556,\"#1f9e89\"],[0.6666666666666666,\"#35b779\"],[0.7777777777777778,\"#6ece58\"],[0.8888888888888888,\"#b5de2b\"],[1.0,\"#fde725\"]],\"type\":\"contour\"}],\"heatmapgl\":[{\"colorbar\":{\"outlinewidth\":1,\"tickcolor\":\"rgb(36,36,36)\",\"ticks\":\"outside\"},\"colorscale\":[[0.0,\"#440154\"],[0.1111111111111111,\"#482878\"],[0.2222222222222222,\"#3e4989\"],[0.3333333333333333,\"#31688e\"],[0.4444444444444444,\"#26828e\"],[0.5555555555555556,\"#1f9e89\"],[0.6666666666666666,\"#35b779\"],[0.7777777777777778,\"#6ece58\"],[0.8888888888888888,\"#b5de2b\"],[1.0,\"#fde725\"]],\"type\":\"heatmapgl\"}],\"heatmap\":[{\"colorbar\":{\"outlinewidth\":1,\"tickcolor\":\"rgb(36,36,36)\",\"ticks\":\"outside\"},\"colorscale\":[[0.0,\"#440154\"],[0.1111111111111111,\"#482878\"],[0.2222222222222222,\"#3e4989\"],[0.3333333333333333,\"#31688e\"],[0.4444444444444444,\"#26828e\"],[0.5555555555555556,\"#1f9e89\"],[0.6666666666666666,\"#35b779\"],[0.7777777777777778,\"#6ece58\"],[0.8888888888888888,\"#b5de2b\"],[1.0,\"#fde725\"]],\"type\":\"heatmap\"}],\"histogram2dcontour\":[{\"colorbar\":{\"outlinewidth\":1,\"tickcolor\":\"rgb(36,36,36)\",\"ticks\":\"outside\"},\"colorscale\":[[0.0,\"#440154\"],[0.1111111111111111,\"#482878\"],[0.2222222222222222,\"#3e4989\"],[0.3333333333333333,\"#31688e\"],[0.4444444444444444,\"#26828e\"],[0.5555555555555556,\"#1f9e89\"],[0.6666666666666666,\"#35b779\"],[0.7777777777777778,\"#6ece58\"],[0.8888888888888888,\"#b5de2b\"],[1.0,\"#fde725\"]],\"type\":\"histogram2dcontour\"}],\"histogram2d\":[{\"colorbar\":{\"outlinewidth\":1,\"tickcolor\":\"rgb(36,36,36)\",\"ticks\":\"outside\"},\"colorscale\":[[0.0,\"#440154\"],[0.1111111111111111,\"#482878\"],[0.2222222222222222,\"#3e4989\"],[0.3333333333333333,\"#31688e\"],[0.4444444444444444,\"#26828e\"],[0.5555555555555556,\"#1f9e89\"],[0.6666666666666666,\"#35b779\"],[0.7777777777777778,\"#6ece58\"],[0.8888888888888888,\"#b5de2b\"],[1.0,\"#fde725\"]],\"type\":\"histogram2d\"}],\"histogram\":[{\"marker\":{\"line\":{\"color\":\"white\",\"width\":0.6}},\"type\":\"histogram\"}],\"mesh3d\":[{\"colorbar\":{\"outlinewidth\":1,\"tickcolor\":\"rgb(36,36,36)\",\"ticks\":\"outside\"},\"type\":\"mesh3d\"}],\"parcoords\":[{\"line\":{\"colorbar\":{\"outlinewidth\":1,\"tickcolor\":\"rgb(36,36,36)\",\"ticks\":\"outside\"}},\"type\":\"parcoords\"}],\"pie\":[{\"automargin\":true,\"type\":\"pie\"}],\"scatter3d\":[{\"line\":{\"colorbar\":{\"outlinewidth\":1,\"tickcolor\":\"rgb(36,36,36)\",\"ticks\":\"outside\"}},\"marker\":{\"colorbar\":{\"outlinewidth\":1,\"tickcolor\":\"rgb(36,36,36)\",\"ticks\":\"outside\"}},\"type\":\"scatter3d\"}],\"scattercarpet\":[{\"marker\":{\"colorbar\":{\"outlinewidth\":1,\"tickcolor\":\"rgb(36,36,36)\",\"ticks\":\"outside\"}},\"type\":\"scattercarpet\"}],\"scattergeo\":[{\"marker\":{\"colorbar\":{\"outlinewidth\":1,\"tickcolor\":\"rgb(36,36,36)\",\"ticks\":\"outside\"}},\"type\":\"scattergeo\"}],\"scattergl\":[{\"marker\":{\"colorbar\":{\"outlinewidth\":1,\"tickcolor\":\"rgb(36,36,36)\",\"ticks\":\"outside\"}},\"type\":\"scattergl\"}],\"scattermapbox\":[{\"marker\":{\"colorbar\":{\"outlinewidth\":1,\"tickcolor\":\"rgb(36,36,36)\",\"ticks\":\"outside\"}},\"type\":\"scattermapbox\"}],\"scatterpolargl\":[{\"marker\":{\"colorbar\":{\"outlinewidth\":1,\"tickcolor\":\"rgb(36,36,36)\",\"ticks\":\"outside\"}},\"type\":\"scatterpolargl\"}],\"scatterpolar\":[{\"marker\":{\"colorbar\":{\"outlinewidth\":1,\"tickcolor\":\"rgb(36,36,36)\",\"ticks\":\"outside\"}},\"type\":\"scatterpolar\"}],\"scatter\":[{\"fillpattern\":{\"fillmode\":\"overlay\",\"size\":10,\"solidity\":0.2},\"type\":\"scatter\"}],\"scatterternary\":[{\"marker\":{\"colorbar\":{\"outlinewidth\":1,\"tickcolor\":\"rgb(36,36,36)\",\"ticks\":\"outside\"}},\"type\":\"scatterternary\"}],\"surface\":[{\"colorbar\":{\"outlinewidth\":1,\"tickcolor\":\"rgb(36,36,36)\",\"ticks\":\"outside\"},\"colorscale\":[[0.0,\"#440154\"],[0.1111111111111111,\"#482878\"],[0.2222222222222222,\"#3e4989\"],[0.3333333333333333,\"#31688e\"],[0.4444444444444444,\"#26828e\"],[0.5555555555555556,\"#1f9e89\"],[0.6666666666666666,\"#35b779\"],[0.7777777777777778,\"#6ece58\"],[0.8888888888888888,\"#b5de2b\"],[1.0,\"#fde725\"]],\"type\":\"surface\"}],\"table\":[{\"cells\":{\"fill\":{\"color\":\"rgb(237,237,237)\"},\"line\":{\"color\":\"white\"}},\"header\":{\"fill\":{\"color\":\"rgb(217,217,217)\"},\"line\":{\"color\":\"white\"}},\"type\":\"table\"}]},\"layout\":{\"annotationdefaults\":{\"arrowhead\":0,\"arrowwidth\":1},\"autotypenumbers\":\"strict\",\"coloraxis\":{\"colorbar\":{\"outlinewidth\":1,\"tickcolor\":\"rgb(36,36,36)\",\"ticks\":\"outside\"}},\"colorscale\":{\"diverging\":[[0.0,\"rgb(103,0,31)\"],[0.1,\"rgb(178,24,43)\"],[0.2,\"rgb(214,96,77)\"],[0.3,\"rgb(244,165,130)\"],[0.4,\"rgb(253,219,199)\"],[0.5,\"rgb(247,247,247)\"],[0.6,\"rgb(209,229,240)\"],[0.7,\"rgb(146,197,222)\"],[0.8,\"rgb(67,147,195)\"],[0.9,\"rgb(33,102,172)\"],[1.0,\"rgb(5,48,97)\"]],\"sequential\":[[0.0,\"#440154\"],[0.1111111111111111,\"#482878\"],[0.2222222222222222,\"#3e4989\"],[0.3333333333333333,\"#31688e\"],[0.4444444444444444,\"#26828e\"],[0.5555555555555556,\"#1f9e89\"],[0.6666666666666666,\"#35b779\"],[0.7777777777777778,\"#6ece58\"],[0.8888888888888888,\"#b5de2b\"],[1.0,\"#fde725\"]],\"sequentialminus\":[[0.0,\"#440154\"],[0.1111111111111111,\"#482878\"],[0.2222222222222222,\"#3e4989\"],[0.3333333333333333,\"#31688e\"],[0.4444444444444444,\"#26828e\"],[0.5555555555555556,\"#1f9e89\"],[0.6666666666666666,\"#35b779\"],[0.7777777777777778,\"#6ece58\"],[0.8888888888888888,\"#b5de2b\"],[1.0,\"#fde725\"]]},\"colorway\":[\"#1F77B4\",\"#FF7F0E\",\"#2CA02C\",\"#D62728\",\"#9467BD\",\"#8C564B\",\"#E377C2\",\"#7F7F7F\",\"#BCBD22\",\"#17BECF\"],\"font\":{\"color\":\"rgb(36,36,36)\"},\"geo\":{\"bgcolor\":\"white\",\"lakecolor\":\"white\",\"landcolor\":\"white\",\"showlakes\":true,\"showland\":true,\"subunitcolor\":\"white\"},\"hoverlabel\":{\"align\":\"left\"},\"hovermode\":\"closest\",\"mapbox\":{\"style\":\"light\"},\"paper_bgcolor\":\"white\",\"plot_bgcolor\":\"white\",\"polar\":{\"angularaxis\":{\"gridcolor\":\"rgb(232,232,232)\",\"linecolor\":\"rgb(36,36,36)\",\"showgrid\":false,\"showline\":true,\"ticks\":\"outside\"},\"bgcolor\":\"white\",\"radialaxis\":{\"gridcolor\":\"rgb(232,232,232)\",\"linecolor\":\"rgb(36,36,36)\",\"showgrid\":false,\"showline\":true,\"ticks\":\"outside\"}},\"scene\":{\"xaxis\":{\"backgroundcolor\":\"white\",\"gridcolor\":\"rgb(232,232,232)\",\"gridwidth\":2,\"linecolor\":\"rgb(36,36,36)\",\"showbackground\":true,\"showgrid\":false,\"showline\":true,\"ticks\":\"outside\",\"zeroline\":false,\"zerolinecolor\":\"rgb(36,36,36)\"},\"yaxis\":{\"backgroundcolor\":\"white\",\"gridcolor\":\"rgb(232,232,232)\",\"gridwidth\":2,\"linecolor\":\"rgb(36,36,36)\",\"showbackground\":true,\"showgrid\":false,\"showline\":true,\"ticks\":\"outside\",\"zeroline\":false,\"zerolinecolor\":\"rgb(36,36,36)\"},\"zaxis\":{\"backgroundcolor\":\"white\",\"gridcolor\":\"rgb(232,232,232)\",\"gridwidth\":2,\"linecolor\":\"rgb(36,36,36)\",\"showbackground\":true,\"showgrid\":false,\"showline\":true,\"ticks\":\"outside\",\"zeroline\":false,\"zerolinecolor\":\"rgb(36,36,36)\"}},\"shapedefaults\":{\"fillcolor\":\"black\",\"line\":{\"width\":0},\"opacity\":0.3},\"ternary\":{\"aaxis\":{\"gridcolor\":\"rgb(232,232,232)\",\"linecolor\":\"rgb(36,36,36)\",\"showgrid\":false,\"showline\":true,\"ticks\":\"outside\"},\"baxis\":{\"gridcolor\":\"rgb(232,232,232)\",\"linecolor\":\"rgb(36,36,36)\",\"showgrid\":false,\"showline\":true,\"ticks\":\"outside\"},\"bgcolor\":\"white\",\"caxis\":{\"gridcolor\":\"rgb(232,232,232)\",\"linecolor\":\"rgb(36,36,36)\",\"showgrid\":false,\"showline\":true,\"ticks\":\"outside\"}},\"title\":{\"x\":0.05},\"xaxis\":{\"automargin\":true,\"gridcolor\":\"rgb(232,232,232)\",\"linecolor\":\"rgb(36,36,36)\",\"showgrid\":false,\"showline\":true,\"ticks\":\"outside\",\"title\":{\"standoff\":15},\"zeroline\":false,\"zerolinecolor\":\"rgb(36,36,36)\"},\"yaxis\":{\"automargin\":true,\"gridcolor\":\"rgb(232,232,232)\",\"linecolor\":\"rgb(36,36,36)\",\"showgrid\":false,\"showline\":true,\"ticks\":\"outside\",\"title\":{\"standoff\":15},\"zeroline\":false,\"zerolinecolor\":\"rgb(36,36,36)\"}}},\"title\":{\"text\":\"Precisión del modelo con el número de features\"},\"showlegend\":false,\"xaxis\":{\"title\":{\"text\":\"Número de features\"}},\"yaxis\":{\"title\":{\"text\":\"Score\"}}},                        {\"responsive\": true}                    ).then(function(){\n",
       "                            \n",
       "var gd = document.getElementById('15acf353-e010-436e-8d91-40e2b10c3e17');\n",
       "var x = new MutationObserver(function (mutations, observer) {{\n",
       "        var display = window.getComputedStyle(gd).display;\n",
       "        if (!display || display === 'none') {{\n",
       "            console.log([gd, 'removed!']);\n",
       "            Plotly.purge(gd);\n",
       "            observer.disconnect();\n",
       "        }}\n",
       "}});\n",
       "\n",
       "// Listen for the removal of the full notebook cells\n",
       "var notebookContainer = gd.closest('#notebook-container');\n",
       "if (notebookContainer) {{\n",
       "    x.observe(notebookContainer, {childList: true});\n",
       "}}\n",
       "\n",
       "// Listen for the clearing of the current output cell\n",
       "var outputEl = gd.closest('.output');\n",
       "if (outputEl) {{\n",
       "    x.observe(outputEl, {childList: true});\n",
       "}}\n",
       "\n",
       "                        })                };                });            </script>        </div>"
      ]
     },
     "metadata": {},
     "output_type": "display_data"
    }
   ],
   "source": [
    "from sklearn.model_selection import cross_val_score\n",
    "import matplotlib.pyplot as plt\n",
    "\n",
    "# Obtenemos X para el train para el ejemplo\n",
    "array_X = tree_pipe['preprocesamiento'].fit_transform(X_train)\n",
    "cols_trans_name = tree_pipe['preprocesamiento'].get_feature_names_out()\n",
    "new_X_train = pd.DataFrame(array_X, columns=cols_trans_name)\n",
    "\n",
    "# Lista para almacenar la precisión del modelo con cada número de características\n",
    "precision_scores = []\n",
    "\n",
    "# Crear un selector de características recursivo con validación cruzada\n",
    "clf = tree_pipe['tree']\n",
    "\n",
    "# Iterar sobre las características y evaluar el modelo con cada adición\n",
    "for i in range(1, len(cols_trans_name) + 1):\n",
    "    # Seleccionar las primeras i características\n",
    "    selected_features = cols_trans_name[:i]\n",
    "    scores = cross_val_score(\n",
    "        clf, new_X_train[selected_features], \n",
    "        y_train, cv=5, scoring='precision_macro'\n",
    "    )    \n",
    "    # Almacenar la precisión del modelo con i características\n",
    "    precision_scores.append(scores)\n",
    "\n",
    "# Calcular variación de los puntos\n",
    "x = [i for i in range(1, len(cols_trans_name) + 1)]\n",
    "y = np.array(precision_scores).mean(axis=1)\n",
    "std = np.array(precision_scores).std(axis=1)\n",
    "\n",
    "plot_line_std(x, y, std)"
   ]
  },
  {
   "cell_type": "markdown",
   "metadata": {},
   "source": [
    "### Calibración de Modelos"
   ]
  },
  {
   "cell_type": "markdown",
   "metadata": {},
   "source": [
    "Sea $f: X \\rightarrow Y$, la clase predicha por $X$ es dada por $\\hat{Y}$ y con una probabilidad $\\hat{P} = f(X)$. Se define que un modelo $f$ esta perfectamente calibrado cuando $\\forall p \\in [0,1]$,  $\\mathbb{P}(\\hat{Y}=1 | \\hat{P}=p)=p$"
   ]
  },
  {
   "cell_type": "markdown",
   "metadata": {},
   "source": [
    "<center>\n",
    "<img src='https://miro.medium.com/v2/resize:fit:864/0*1tT_Ryn4f0I2IJ2b.png' width=800 />"
   ]
  },
  {
   "cell_type": "markdown",
   "metadata": {},
   "source": [
    "Las salidas de un modelo calibrado siempre están entre 0 y 1, esto nos puede permitir interpretar los valores como probabilidades. ¿Pero de qué sucesos? Para cumplir la lectura frecuentista subyacente de esas puntuaciones, las muestras con probabilidad predicha p deben tener una frecuencia observada de pertenencia a la clase positiva que sea precisamente p. Bajo esta declaración, nuestras predicciones tendrían un porcentaje de seguridad hacía que clase pertenecen."
   ]
  },
  {
   "cell_type": "markdown",
   "metadata": {},
   "source": [
    "Es importante aplicar una calibración, ya que los modelos de machine learning por lo general poseen sesgos en las distribuciones de salida (intrínsecos), por lo que aplicar modelos de calibración pueden ayudar enormemente en la toma de decisiones de nuestros modelos y en modular nuestros scores."
   ]
  },
  {
   "cell_type": "markdown",
   "metadata": {},
   "source": [
    "#### ¿Cuáles son las consecuencias de los modelos mal calibrados?\n",
    "\n",
    "Intuitivamente, uno quiere tener calibrado para poder interpretar sus probabilidades estimadas como frecuencias a largo plazo. En ese sentido, la pregunta podría ser \"¿por qué no querría estar calibrado?\". Pero vayamos más allá y señalemos algunas razones prácticas por las que queremos que nuestro modelo esté calibrado:\n",
    "\n",
    "- **Razón práctica nº 1**: Las probabilidades estimadas permiten flexibilidad\n",
    "Si está prediciendo si un usuario hará clic en un anuncio con un clasificador, es útil poder clasificar los anuncios por su probabilidad de que se haga clic en ellos. Esto no requiere calibración. Pero si desea calcular el número esperado de clics, necesitará calibrar las probabilidades. Este valor esperado puede ser útil para simular el impacto de un experimento (¿aumenta esto los clics esperados lo suficiente como para justificar la realización de un experimento real?) o puede utilizarse directamente para no publicar anuncios cuyos ingresos esperados no sean superiores a su coste.\n",
    "- **Razón práctica nº 2**: Modularidad del modelo\n",
    "En los sistemas complejos de aprendizaje automático, los modelos dependen unos de otros. Los clasificadores individuales son a menudo entradas en sistemas más grandes que toman las decisiones finales.\n",
    "\n",
    "Para estos sistemas de ML, la calibración simplifica la interacción. La calibración permite que cada modelo se centre en estimar sus probabilidades particulares lo mejor posible. Y como la interpretación es estable, no es necesario que otros componentes del sistema cambien cada vez que cambian los modelos."
   ]
  },
  {
   "cell_type": "markdown",
   "metadata": {},
   "source": [
    "<center>\n",
    "<img src='https://media2.giphy.com/media/l2Je4Ku0Cx292KWv6/200w.gif?cid=6c09b952d09suwi1qla8qqn94d8n1uv453kmb618y7cwswjf&ep=v1_gifs_search&rid=200w.gif&ct=g' width=300 />"
   ]
  },
  {
   "cell_type": "markdown",
   "metadata": {},
   "source": [
    "**Tipos de calibradores en Sklearn**:\n",
    "\n",
    "1. **Calibración de regresión isotónica**:\n",
    "   - **¿Qué hace?**: Ajusta una función isotónica a las probabilidades predichas por el clasificador. Esta función es monótona no decreciente, lo que significa que las probabilidades recalibradas aumentan o permanecen iguales en relación con las probabilidades originales.\n",
    "   - **Cuándo es útil**: Es útil cuando las probabilidades predichas por el clasificador no son monótonas o no están bien calibradas. Puede ayudar a mejorar la calibración de las probabilidades y hacer que reflejen mejor la probabilidad real de que ocurra un evento.\n",
    "\n",
    "2. **Calibración de regresión sigmoidal**:\n",
    "   - **¿Qué hace?**: Ajusta una función sigmoide a las probabilidades predichas por el clasificador. Esta función mapea las probabilidades originales a un rango más amplio, lo que puede mejorar la discriminación entre clases y la calibración de las probabilidades.\n",
    "   - **Cuándo es útil**: Es útil cuando las probabilidades predichas por el clasificador están mal calibradas o no están bien discriminadas entre las clases. La calibración sigmoidal puede ayudar a mejorar la separación entre clases y hacer que las probabilidades sean más confiables.\n",
    "   \n",
    "> Notar 💡: Un artículo muy interesante sobre calibración https://www.unofficialgoogledatascience.com/2021/04/why-model-calibration-matters-and-how.html"
   ]
  },
  {
   "cell_type": "code",
   "execution_count": 119,
   "metadata": {},
   "outputs": [],
   "source": [
    "# Obtenemos X para el train para el ejemplo\n",
    "array_X = tree_pipe['preprocesamiento'].fit_transform(X_train)\n",
    "cols_trans_name = tree_pipe['preprocesamiento'].get_feature_names_out()\n",
    "new_X_train = pd.DataFrame(array_X, columns=cols_trans_name)\n",
    "\n",
    "# Obtenemos X para el test para el ejemplo\n",
    "array_X = tree_pipe['preprocesamiento'].transform(X_test)\n",
    "cols_trans_name = tree_pipe['preprocesamiento'].get_feature_names_out()\n",
    "new_X_test = pd.DataFrame(array_X, columns=cols_trans_name)\n",
    "\n",
    "# Obtenemos y para el ejemplo\n",
    "new_y_train = (y_train == 'Adelie')\n",
    "new_y_test = (y_test == 'Adelie')"
   ]
  },
  {
   "cell_type": "code",
   "execution_count": 120,
   "metadata": {},
   "outputs": [],
   "source": [
    "from numpy import mean\n",
    "from sklearn.model_selection import cross_validate\n",
    "from sklearn.model_selection import RepeatedStratifiedKFold\n",
    "from sklearn.calibration import CalibratedClassifierCV\n",
    "\n",
    "# Entrenamos primero que todo un modelo\n",
    "clf = tree_pipe['tree']\n",
    "clf.fit(new_X_train, y_train)\n",
    "\n",
    "# Hacemos un Wrap sobre el modelo\n",
    "calibrated = CalibratedClassifierCV(clf, method='isotonic', cv=3)\n",
    "# Definimos procedimiento de evaluación\n",
    "cv = RepeatedStratifiedKFold(n_splits=10, n_repeats=1, random_state=1)\n",
    "# Evaluamos\n",
    "estimator = cross_validate(\n",
    "    calibrated, new_X_test, new_y_test, \n",
    "    scoring='roc_auc', cv=cv, n_jobs=-1, \n",
    "    return_estimator=True\n",
    ")"
   ]
  },
  {
   "cell_type": "code",
   "execution_count": 121,
   "metadata": {},
   "outputs": [
    {
     "data": {
      "image/png": "[encoded data removed]",
      "text/plain": [
       "<Figure size 800x550 with 1 Axes>"
      ]
     },
     "metadata": {},
     "output_type": "display_data"
    }
   ],
   "source": [
    "import matplotlib.pyplot as plt\n",
    "from sklearn.calibration import calibration_curve\n",
    "\n",
    "# Definimos figura para hacer el plot\n",
    "fig = plt.figure()\n",
    "ax = fig.add_subplot()\n",
    "ax.plot([0, 1], [0, 1], \"b--\", label=\"Perfectly calibrated\")\n",
    "ax.set_ylabel(\"Fraction of positives\")\n",
    "ax.set_xlabel(\"Mean predicted value\")\n",
    "ax.set_title('Calibration plot (reliability curve)')\n",
    "\n",
    "# Graficamos el primer modelo raw\n",
    "prob_pos_dt = clf.predict_proba(new_X_test)[:, 1]\n",
    "fraction_of_positives_dt, mean_predicted_value_dt = calibration_curve(new_y_test, prob_pos_dt, n_bins=20)\n",
    "ax.plot(\n",
    "    mean_predicted_value_dt, \n",
    "    fraction_of_positives_dt, \"s-\", label=\"%s\" % ('Raw model')\n",
    ")\n",
    "\n",
    "# Graficamos el modelo calibrado\n",
    "prob_pos_cc = estimator['estimator'][0].predict_proba(new_X_test)[:, 1]\n",
    "fraction_of_positives_cc, mean_predicted_value_cc = calibration_curve(new_y_test, prob_pos_cc, n_bins=10)\n",
    "ax.plot(mean_predicted_value_cc, fraction_of_positives_cc, \"s-\", label=\"%s\" % ('probabilistic calibration'))\n",
    "\n",
    "ax.legend(loc=\"lower right\")\n",
    "fig.show()"
   ]
  },
  {
   "cell_type": "markdown",
   "metadata": {},
   "source": [
    "**Consideraciones:**\n",
    "\n",
    "- En general la aplicación de la calibración no produce probabilidades perfectamente calibradas, sino sólo probabilidades mejor calibradas. \n",
    "- Necesita de un nuevo conjunto de datos llamado calibración."
   ]
  },
  {
   "cell_type": "markdown",
   "metadata": {},
   "source": [
    "### Discrimiación de Threshold"
   ]
  },
  {
   "cell_type": "markdown",
   "metadata": {},
   "source": [
    "En el ámbito de los algoritmos de clasificación, nuestro objetivo principal es predecir si una instancia pertenece a una clase u otra dentro de un conjunto de datos. Aunque los algoritmos que utilizamos generalmente ofrecen excelentes resultados, a veces resulta beneficioso reevaluar el umbral (threshold) que determina la clasificación de las instancias.\n",
    "\n",
    "En situaciones de desequilibrio de clases, es común que muchos modelos sesguen sus probabilidades hacia un extremo de la distribución, como cerca del origen. Este sesgo puede resultar en una baja tasa de casos correctamente identificados, incluso cuando se han seleccionado los mejores estimadores durante el entrenamiento. Esto suele ocurrir porque el umbral predeterminado en muchas bibliotecas de código es generalmente 0.5.\n",
    "\n",
    "Una solución efectiva para estos problemas es ajustar el umbral. Esto se puede lograr mediante el uso de gráficos de discriminación o la optimización del umbral utilizando técnicas como el método de las g-means.\n",
    "\n",
    "En cuanto al uso de gráficos de discriminación, este método consiste en evaluar el modelo con varios umbrales para observar cómo afectan al rendimiento del mismo. Las métricas que se analizan incluyen la precisión, la exhaustividad (recall), el puntaje F1 y la tasa de aceptación (queue rate). La elección del umbral adecuado dependerá de la métrica que se desee maximizar o minimizar, según los objetivos específicos del negocio."
   ]
  },
  {
   "cell_type": "code",
   "execution_count": 122,
   "metadata": {},
   "outputs": [
    {
     "data": {
      "text/html": [
       "<style>#sk-container-id-9 {color: black;background-color: white;}#sk-container-id-9 pre{padding: 0;}#sk-container-id-9 div.sk-toggleable {background-color: white;}#sk-container-id-9 label.sk-toggleable__label {cursor: pointer;display: block;width: 100%;margin-bottom: 0;padding: 0.3em;box-sizing: border-box;text-align: center;}#sk-container-id-9 label.sk-toggleable__label-arrow:before {content: \"▸\";float: left;margin-right: 0.25em;color: #696969;}#sk-container-id-9 label.sk-toggleable__label-arrow:hover:before {color: black;}#sk-container-id-9 div.sk-estimator:hover label.sk-toggleable__label-arrow:before {color: black;}#sk-container-id-9 div.sk-toggleable__content {max-height: 0;max-width: 0;overflow: hidden;text-align: left;background-color: #f0f8ff;}#sk-container-id-9 div.sk-toggleable__content pre {margin: 0.2em;color: black;border-radius: 0.25em;background-color: #f0f8ff;}#sk-container-id-9 input.sk-toggleable__control:checked~div.sk-toggleable__content {max-height: 200px;max-width: 100%;overflow: auto;}#sk-container-id-9 input.sk-toggleable__control:checked~label.sk-toggleable__label-arrow:before {content: \"▾\";}#sk-container-id-9 div.sk-estimator input.sk-toggleable__control:checked~label.sk-toggleable__label {background-color: #d4ebff;}#sk-container-id-9 div.sk-label input.sk-toggleable__control:checked~label.sk-toggleable__label {background-color: #d4ebff;}#sk-container-id-9 input.sk-hidden--visually {border: 0;clip: rect(1px 1px 1px 1px);clip: rect(1px, 1px, 1px, 1px);height: 1px;margin: -1px;overflow: hidden;padding: 0;position: absolute;width: 1px;}#sk-container-id-9 div.sk-estimator {font-family: monospace;background-color: #f0f8ff;border: 1px dotted black;border-radius: 0.25em;box-sizing: border-box;margin-bottom: 0.5em;}#sk-container-id-9 div.sk-estimator:hover {background-color: #d4ebff;}#sk-container-id-9 div.sk-parallel-item::after {content: \"\";width: 100%;border-bottom: 1px solid gray;flex-grow: 1;}#sk-container-id-9 div.sk-label:hover label.sk-toggleable__label {background-color: #d4ebff;}#sk-container-id-9 div.sk-serial::before {content: \"\";position: absolute;border-left: 1px solid gray;box-sizing: border-box;top: 0;bottom: 0;left: 50%;z-index: 0;}#sk-container-id-9 div.sk-serial {display: flex;flex-direction: column;align-items: center;background-color: white;padding-right: 0.2em;padding-left: 0.2em;position: relative;}#sk-container-id-9 div.sk-item {position: relative;z-index: 1;}#sk-container-id-9 div.sk-parallel {display: flex;align-items: stretch;justify-content: center;background-color: white;position: relative;}#sk-container-id-9 div.sk-item::before, #sk-container-id-9 div.sk-parallel-item::before {content: \"\";position: absolute;border-left: 1px solid gray;box-sizing: border-box;top: 0;bottom: 0;left: 50%;z-index: -1;}#sk-container-id-9 div.sk-parallel-item {display: flex;flex-direction: column;z-index: 1;position: relative;background-color: white;}#sk-container-id-9 div.sk-parallel-item:first-child::after {align-self: flex-end;width: 50%;}#sk-container-id-9 div.sk-parallel-item:last-child::after {align-self: flex-start;width: 50%;}#sk-container-id-9 div.sk-parallel-item:only-child::after {width: 0;}#sk-container-id-9 div.sk-dashed-wrapped {border: 1px dashed gray;margin: 0 0.4em 0.5em 0.4em;box-sizing: border-box;padding-bottom: 0.4em;background-color: white;}#sk-container-id-9 div.sk-label label {font-family: monospace;font-weight: bold;display: inline-block;line-height: 1.2em;}#sk-container-id-9 div.sk-label-container {text-align: center;}#sk-container-id-9 div.sk-container {/* jupyter's `normalize.less` sets `[hidden] { display: none; }` but bootstrap.min.css set `[hidden] { display: none !important; }` so we also need the `!important` here to be able to override the default hidden behavior on the sphinx rendered scikit-learn.org. See: https://github.com/scikit-learn/scikit-learn/issues/21755 */display: inline-block !important;position: relative;}#sk-container-id-9 div.sk-text-repr-fallback {display: none;}</style><div id=\"sk-container-id-9\" class=\"sk-top-container\"><div class=\"sk-text-repr-fallback\"><pre>DecisionTreeClassifier(ccp_alpha=0.0, class_weight=None, criterion=&#x27;entropy&#x27;,\n",
       "                       max_depth=None, max_features=None, max_leaf_nodes=None,\n",
       "                       min_impurity_decrease=0.0, min_samples_leaf=1,\n",
       "                       min_samples_split=2, min_weight_fraction_leaf=0.0,\n",
       "                       random_state=None, splitter=&#x27;best&#x27;)</pre><b>In a Jupyter environment, please rerun this cell to show the HTML representation or trust the notebook. <br />On GitHub, the HTML representation is unable to render, please try loading this page with nbviewer.org.</b></div><div class=\"sk-container\" hidden><div class=\"sk-item\"><div class=\"sk-estimator sk-toggleable\"><input class=\"sk-toggleable__control sk-hidden--visually\" id=\"sk-estimator-id-9\" type=\"checkbox\" checked><label for=\"sk-estimator-id-9\" class=\"sk-toggleable__label sk-toggleable__label-arrow\">DecisionTreeClassifier</label><div class=\"sk-toggleable__content\"><pre>DecisionTreeClassifier(ccp_alpha=0.0, class_weight=None, criterion=&#x27;entropy&#x27;,\n",
       "                       max_depth=None, max_features=None, max_leaf_nodes=None,\n",
       "                       min_impurity_decrease=0.0, min_samples_leaf=1,\n",
       "                       min_samples_split=2, min_weight_fraction_leaf=0.0,\n",
       "                       random_state=None, splitter=&#x27;best&#x27;)</pre></div></div></div></div></div>"
      ],
      "text/plain": [
       "DecisionTreeClassifier(ccp_alpha=0.0, class_weight=None, criterion='entropy',\n",
       "                       max_depth=None, max_features=None, max_leaf_nodes=None,\n",
       "                       min_impurity_decrease=0.0, min_samples_leaf=1,\n",
       "                       min_samples_split=2, min_weight_fraction_leaf=0.0,\n",
       "                       random_state=None, splitter='best')"
      ]
     },
     "execution_count": 122,
     "metadata": {},
     "output_type": "execute_result"
    }
   ],
   "source": [
    "from yellowbrick.classifier import DiscriminationThreshold\n",
    "\n",
    "model = tree_pipe['tree']\n",
    "model.fit(new_X_train, new_y_train)"
   ]
  },
  {
   "cell_type": "code",
   "execution_count": 123,
   "metadata": {},
   "outputs": [
    {
     "data": {
      "image/png": "[encoded data removed]",
      "text/plain": [
       "<Figure size 800x550 with 1 Axes>"
      ]
     },
     "metadata": {},
     "output_type": "display_data"
    },
    {
     "data": {
      "text/plain": [
       "<AxesSubplot: title={'center': 'Threshold Plot for DecisionTreeClassifier'}, xlabel='discrimination threshold', ylabel='score'>"
      ]
     },
     "execution_count": 123,
     "metadata": {},
     "output_type": "execute_result"
    }
   ],
   "source": [
    "visualizer = DiscriminationThreshold(model, is_fitted=True)\n",
    "visualizer.fit(new_X_train, new_y_train)\n",
    "visualizer.show()"
   ]
  },
  {
   "cell_type": "code",
   "execution_count": 124,
   "metadata": {},
   "outputs": [
    {
     "data": {
      "text/html": [
       "<style>#sk-container-id-10 {color: black;background-color: white;}#sk-container-id-10 pre{padding: 0;}#sk-container-id-10 div.sk-toggleable {background-color: white;}#sk-container-id-10 label.sk-toggleable__label {cursor: pointer;display: block;width: 100%;margin-bottom: 0;padding: 0.3em;box-sizing: border-box;text-align: center;}#sk-container-id-10 label.sk-toggleable__label-arrow:before {content: \"▸\";float: left;margin-right: 0.25em;color: #696969;}#sk-container-id-10 label.sk-toggleable__label-arrow:hover:before {color: black;}#sk-container-id-10 div.sk-estimator:hover label.sk-toggleable__label-arrow:before {color: black;}#sk-container-id-10 div.sk-toggleable__content {max-height: 0;max-width: 0;overflow: hidden;text-align: left;background-color: #f0f8ff;}#sk-container-id-10 div.sk-toggleable__content pre {margin: 0.2em;color: black;border-radius: 0.25em;background-color: #f0f8ff;}#sk-container-id-10 input.sk-toggleable__control:checked~div.sk-toggleable__content {max-height: 200px;max-width: 100%;overflow: auto;}#sk-container-id-10 input.sk-toggleable__control:checked~label.sk-toggleable__label-arrow:before {content: \"▾\";}#sk-container-id-10 div.sk-estimator input.sk-toggleable__control:checked~label.sk-toggleable__label {background-color: #d4ebff;}#sk-container-id-10 div.sk-label input.sk-toggleable__control:checked~label.sk-toggleable__label {background-color: #d4ebff;}#sk-container-id-10 input.sk-hidden--visually {border: 0;clip: rect(1px 1px 1px 1px);clip: rect(1px, 1px, 1px, 1px);height: 1px;margin: -1px;overflow: hidden;padding: 0;position: absolute;width: 1px;}#sk-container-id-10 div.sk-estimator {font-family: monospace;background-color: #f0f8ff;border: 1px dotted black;border-radius: 0.25em;box-sizing: border-box;margin-bottom: 0.5em;}#sk-container-id-10 div.sk-estimator:hover {background-color: #d4ebff;}#sk-container-id-10 div.sk-parallel-item::after {content: \"\";width: 100%;border-bottom: 1px solid gray;flex-grow: 1;}#sk-container-id-10 div.sk-label:hover label.sk-toggleable__label {background-color: #d4ebff;}#sk-container-id-10 div.sk-serial::before {content: \"\";position: absolute;border-left: 1px solid gray;box-sizing: border-box;top: 0;bottom: 0;left: 50%;z-index: 0;}#sk-container-id-10 div.sk-serial {display: flex;flex-direction: column;align-items: center;background-color: white;padding-right: 0.2em;padding-left: 0.2em;position: relative;}#sk-container-id-10 div.sk-item {position: relative;z-index: 1;}#sk-container-id-10 div.sk-parallel {display: flex;align-items: stretch;justify-content: center;background-color: white;position: relative;}#sk-container-id-10 div.sk-item::before, #sk-container-id-10 div.sk-parallel-item::before {content: \"\";position: absolute;border-left: 1px solid gray;box-sizing: border-box;top: 0;bottom: 0;left: 50%;z-index: -1;}#sk-container-id-10 div.sk-parallel-item {display: flex;flex-direction: column;z-index: 1;position: relative;background-color: white;}#sk-container-id-10 div.sk-parallel-item:first-child::after {align-self: flex-end;width: 50%;}#sk-container-id-10 div.sk-parallel-item:last-child::after {align-self: flex-start;width: 50%;}#sk-container-id-10 div.sk-parallel-item:only-child::after {width: 0;}#sk-container-id-10 div.sk-dashed-wrapped {border: 1px dashed gray;margin: 0 0.4em 0.5em 0.4em;box-sizing: border-box;padding-bottom: 0.4em;background-color: white;}#sk-container-id-10 div.sk-label label {font-family: monospace;font-weight: bold;display: inline-block;line-height: 1.2em;}#sk-container-id-10 div.sk-label-container {text-align: center;}#sk-container-id-10 div.sk-container {/* jupyter's `normalize.less` sets `[hidden] { display: none; }` but bootstrap.min.css set `[hidden] { display: none !important; }` so we also need the `!important` here to be able to override the default hidden behavior on the sphinx rendered scikit-learn.org. See: https://github.com/scikit-learn/scikit-learn/issues/21755 */display: inline-block !important;position: relative;}#sk-container-id-10 div.sk-text-repr-fallback {display: none;}</style><div id=\"sk-container-id-10\" class=\"sk-top-container\"><div class=\"sk-text-repr-fallback\"><pre>LogisticRegression(C=1.0, class_weight=None, dual=False, fit_intercept=True,\n",
       "                   intercept_scaling=1, l1_ratio=None, max_iter=100,\n",
       "                   multi_class=&#x27;auto&#x27;, n_jobs=None, penalty=&#x27;l2&#x27;,\n",
       "                   random_state=None, solver=&#x27;liblinear&#x27;, tol=0.0001, verbose=0,\n",
       "                   warm_start=False)</pre><b>In a Jupyter environment, please rerun this cell to show the HTML representation or trust the notebook. <br />On GitHub, the HTML representation is unable to render, please try loading this page with nbviewer.org.</b></div><div class=\"sk-container\" hidden><div class=\"sk-item\"><div class=\"sk-estimator sk-toggleable\"><input class=\"sk-toggleable__control sk-hidden--visually\" id=\"sk-estimator-id-10\" type=\"checkbox\" checked><label for=\"sk-estimator-id-10\" class=\"sk-toggleable__label sk-toggleable__label-arrow\">LogisticRegression</label><div class=\"sk-toggleable__content\"><pre>LogisticRegression(C=1.0, class_weight=None, dual=False, fit_intercept=True,\n",
       "                   intercept_scaling=1, l1_ratio=None, max_iter=100,\n",
       "                   multi_class=&#x27;auto&#x27;, n_jobs=None, penalty=&#x27;l2&#x27;,\n",
       "                   random_state=None, solver=&#x27;liblinear&#x27;, tol=0.0001, verbose=0,\n",
       "                   warm_start=False)</pre></div></div></div></div></div>"
      ],
      "text/plain": [
       "LogisticRegression(C=1.0, class_weight=None, dual=False, fit_intercept=True,\n",
       "                   intercept_scaling=1, l1_ratio=None, max_iter=100,\n",
       "                   multi_class='auto', n_jobs=None, penalty='l2',\n",
       "                   random_state=None, solver='liblinear', tol=0.0001, verbose=0,\n",
       "                   warm_start=False)"
      ]
     },
     "execution_count": 124,
     "metadata": {},
     "output_type": "execute_result"
    }
   ],
   "source": [
    "from sklearn.linear_model import LogisticRegression\n",
    "\n",
    "model = LogisticRegression(multi_class=\"auto\", solver=\"liblinear\")\n",
    "model.fit(new_X_train, new_y_train)"
   ]
  },
  {
   "cell_type": "code",
   "execution_count": 125,
   "metadata": {},
   "outputs": [
    {
     "data": {
      "image/png": "[encoded data removed]",
      "text/plain": [
       "<Figure size 800x550 with 1 Axes>"
      ]
     },
     "metadata": {},
     "output_type": "display_data"
    }
   ],
   "source": [
    "visualizer = DiscriminationThreshold(model, is_fitted=True)\n",
    "visualizer.fit(new_X_train, new_y_train)\n",
    "visualizer.show()\n",
    "plt.show()"
   ]
  },
  {
   "cell_type": "markdown",
   "metadata": {},
   "source": [
    "## Selección de Modelos"
   ]
  },
  {
   "cell_type": "markdown",
   "metadata": {},
   "source": [
    "#### No piensen siempre en modelos SOTA (state of the art) 😨"
   ]
  },
  {
   "cell_type": "markdown",
   "metadata": {},
   "source": [
    "<center>\n",
    "<img src='https://media4.giphy.com/media/3o6Mb8wQGubBoBSXjq/200w.gif?cid=6c09b952orurxn8c1bhkv4td1v2m812xx2sxq4q3fjsrtohi&ep=v1_gifs_search&rid=200w.gif&ct=g' width=300 />"
   ]
  },
  {
   "cell_type": "markdown",
   "metadata": {},
   "source": [
    "1. **Costo:** A menudo, los modelos o algoritmos que son líderes en investigación pueden ser costosos de implementar en términos de recursos computacionales o financieros. Esto puede hacer que sean imprácticos o poco realistas para implementar en entornos del mundo real.\n",
    "\n",
    "2. **Latencia:** La velocidad de procesamiento puede variar entre diferentes modelos. Lo que puede funcionar rápidamente en un entorno de investigación puede no ser tan eficiente cuando se trata de manejar grandes volúmenes de datos en tiempo real o con restricciones de tiempo estrictas.\n",
    "\n",
    "3. **Éxito probado en la industria:** A veces, un modelo o técnica puede ser altamente efectivo en un entorno de investigación controlado, pero puede no tener el mismo impacto cuando se aplica en el mundo real. Esto puede deberse a diferencias en los conjuntos de datos, las condiciones de operación o las necesidades específicas de la industria.\n",
    "\n",
    "4. **Apoyo de la comunidad:** La comunidad de investigación puede respaldar un enfoque particular, pero eso no garantiza que sea la mejor opción para su aplicación específica. Es importante considerar cómo se adapta el modelo o la técnica a su caso de uso y si hay una comunidad activa que pueda proporcionar soporte y soluciones a problemas específicos."
   ]
  },
  {
   "cell_type": "markdown",
   "metadata": {},
   "source": [
    "#### Escojan el modelo más simple"
   ]
  },
  {
   "cell_type": "markdown",
   "metadata": {},
   "source": [
    "<center>\n",
    "<img src='https://media0.giphy.com/media/xT5LMQPcARLvQuknaU/200w.gif?cid=6c09b952r2d86p3qx85fwf3xdrrl4cypise3l7o7awvgjnf8&ep=v1_gifs_search&rid=200w.gif&ct=g' width=300 />"
   ]
  },
  {
   "cell_type": "markdown",
   "metadata": {},
   "source": [
    "1. **Más fácil de implementar:** Significa que es más sencillo poner en funcionamiento un sistema o aplicación utilizando ciertas técnicas o modelos. En términos de desarrollo de software, esto podría referirse a la facilidad con la que se puede instalar, configurar y hacer funcionar un sistema.\n",
    "\n",
    "2. **Implementar tempranamente permite validar el proceso:** Indica que al implementar una solución o sistema de manera temprana en el proceso de desarrollo, se pueden identificar y corregir posibles problemas o errores más rápidamente. Esto permite validar si el sistema está cumpliendo con los requisitos y expectativas deseados.\n",
    "\n",
    "3. **Más fácil de depurar:** Se refiere a la capacidad de identificar y corregir errores o fallos en el sistema de manera más eficiente. Esto puede ser importante durante el proceso de desarrollo y mantenimiento del software para asegurar su correcto funcionamiento.\n",
    "\n",
    "4. **Más fácil de mejorar:** Significa que es más sencillo realizar ajustes, optimizaciones o agregar nuevas funcionalidades a un sistema o modelo en particular. Esto puede ser crucial para mantener la relevancia y efectividad de la solución a lo largo del tiempo.\n",
    "\n",
    "5. **Más fácil de explicar:** Esta característica se refiere a la capacidad de un modelo o sistema para ser comprendido y comunicado de manera clara y concisa. Cuando un modelo es fácil de explicar, es más accesible para aquellos que no son expertos en el campo, lo que facilita su adopción y aceptación en entornos donde la comprensión del modelo es importante.\n",
    "\n",
    "6. **Modelos más simples no son necesariamente aquellos que requieren menos esfuerzo:** Esto destaca que la simplicidad de un modelo no siempre se correlaciona con la cantidad de esfuerzo necesario para desarrollarlo o implementarlo. A veces, modelos más simples pueden requerir un esfuerzo considerable para ser efectivos, mientras que modelos más complejos pueden ser más fáciles de implementar en ciertos casos.\n",
    "\n",
    "7. **BERT es fácil de comenzar con un modelo preentrenado, pero no es el más simple:** Aquí se menciona un ejemplo específico, BERT, que es un modelo de lenguaje muy utilizado en el procesamiento del lenguaje natural. Aunque es fácil comenzar con BERT utilizando un modelo preentrenado, puede no ser el modelo más simple en términos de implementación y comprensión, debido a su complejidad y sofisticación."
   ]
  },
  {
   "cell_type": "markdown",
   "metadata": {},
   "source": [
    "#### Otros puntos relevantes ❗❗❗❗"
   ]
  },
  {
   "cell_type": "markdown",
   "metadata": {},
   "source": [
    "<center>\n",
    "<img src='https://i0.wp.com/i.imgur.com/oAy4dC6.gif?w=780&quality=55&strip=all' width=300 />"
   ]
  },
  {
   "cell_type": "markdown",
   "metadata": {},
   "source": [
    "1. **Evitar sesgos humanos en la selección de modelos:** Este punto se refiere a la necesidad de evitar que los prejuicios o sesgos personales influyan en la elección de modelos para un determinado problema. Es importante seleccionar modelos de manera objetiva, basados en métricas y criterios específicos, en lugar de basarse únicamente en opiniones o preferencias personales que podrían introducir sesgos no deseados en el proceso.\n",
    "\n",
    "2. **Evaluar el buen rendimiento ahora frente al buen rendimiento más tarde:** Esta idea implica sopesar la calidad del rendimiento de un modelo en el momento presente en comparación con su posible rendimiento futuro. Es posible que un modelo tenga un buen rendimiento en el presente, pero es importante considerar si ese rendimiento se mantendrá o mejorará en el futuro a medida que cambien las condiciones o los datos. Esto puede influir en decisiones como la inversión en el desarrollo o la adopción de un modelo.\n",
    "\n",
    "3. **Evaluar los compromisos:** Al seleccionar un modelo o tomar decisiones relacionadas con él, es esencial evaluar los compromisos implicados. Esto significa considerar y equilibrar los aspectos positivos y negativos de diferentes opciones. Por ejemplo, un modelo puede tener un rendimiento superior en términos de precisión, pero podría requerir más recursos computacionales o ser más difícil de interpretar. Comprender y evaluar estos compromisos es fundamental para tomar decisiones informadas.\n",
    "\n",
    "4. **Comprender las suposiciones de tu modelo:** Cada modelo está basado en ciertas suposiciones o limitaciones que pueden afectar su rendimiento y aplicabilidad en diferentes contextos. Es importante comprender estas suposiciones para poder interpretar adecuadamente los resultados del modelo y evitar utilizarlo en situaciones donde esas suposiciones no se cumplan. Esto implica conocer cómo funciona el modelo, qué datos son más adecuados para él y qué condiciones deben cumplirse para que sea efectivo."
   ]
  },
  {
   "cell_type": "markdown",
   "metadata": {
    "tags": []
   },
   "source": [
    "#### Guía de Scikit-learn para Elegir el Modelo\n",
    "\n",
    "<img src='https://github.com/MDS7202/MDS7202/blob/main/recursos/2023-01/18-Aprendizaje-Supervisado-I/ml_map.png?raw=true' />"
   ]
  },
  {
   "cell_type": "markdown",
   "metadata": {},
   "source": [
    "## Auto-ML"
   ]
  },
  {
   "cell_type": "markdown",
   "metadata": {},
   "source": [
    "<center>\n",
    "<img src='https://i.gifer.com/origin/53/534610a486a7e3c27e25b9793ecfdae7_w200.gif' width=300 />"
   ]
  },
  {
   "cell_type": "markdown",
   "metadata": {},
   "source": [
    "AutoML, o Aprendizaje Automático Automatizado, es un proceso en el que las máquinas se encargan de los pasos involucrados en la construcción de modelos de aprendizaje automático, facilitando a los humanos la creación de modelos poderosos con menos esfuerzo. Automatiza tareas como la ingeniería de características, la selección de algoritmos, la optimización de hiperparámetros, el entrenamiento de modelos y la evaluación de modelos.\n",
    "\n",
    "Piensa en AutoML como tener un asistente inteligente que se encarga de todo el trabajo complejo involucrado en la construcción de modelos de aprendizaje automático. En lugar de probar manualmente diferentes algoritmos y ajustar parámetros para encontrar el mejor modelo, AutoML lo hace automáticamente. Esto ahorra mucho tiempo y recursos, especialmente para personas que pueden no tener un conocimiento extenso de técnicas de aprendizaje automático.\n",
    "\n",
    "En resumen, AutoML democratiza el aprendizaje automático al hacerlo más accesible para una variedad más amplia de personas, permitiéndoles aprovechar el poder del aprendizaje automático sin necesidad de ser expertos en el campo."
   ]
  },
  {
   "cell_type": "markdown",
   "metadata": {},
   "source": [
    "<center>\n",
    "<img src='https://miro.medium.com/v2/resize:fit:1024/1*Cku5-rqmqSIuhUyFkIAdIA.png' width=800 />"
   ]
  },
  {
   "cell_type": "code",
   "execution_count": 126,
   "metadata": {
    "tags": []
   },
   "outputs": [
    {
     "data": {
      "text/html": [
       "<style type=\"text/css\">\n",
       "#T_faa78_row10_col1 {\n",
       "  background-color: lightgreen;\n",
       "}\n",
       "</style>\n",
       "<table id=\"T_faa78\">\n",
       "  <thead>\n",
       "    <tr>\n",
       "      <th class=\"blank level0\" >&nbsp;</th>\n",
       "      <th id=\"T_faa78_level0_col0\" class=\"col_heading level0 col0\" >Description</th>\n",
       "      <th id=\"T_faa78_level0_col1\" class=\"col_heading level0 col1\" >Value</th>\n",
       "    </tr>\n",
       "  </thead>\n",
       "  <tbody>\n",
       "    <tr>\n",
       "      <th id=\"T_faa78_level0_row0\" class=\"row_heading level0 row0\" >0</th>\n",
       "      <td id=\"T_faa78_row0_col0\" class=\"data row0 col0\" >Session id</td>\n",
       "      <td id=\"T_faa78_row0_col1\" class=\"data row0 col1\" >4167</td>\n",
       "    </tr>\n",
       "    <tr>\n",
       "      <th id=\"T_faa78_level0_row1\" class=\"row_heading level0 row1\" >1</th>\n",
       "      <td id=\"T_faa78_row1_col0\" class=\"data row1 col0\" >Target</td>\n",
       "      <td id=\"T_faa78_row1_col1\" class=\"data row1 col1\" >species</td>\n",
       "    </tr>\n",
       "    <tr>\n",
       "      <th id=\"T_faa78_level0_row2\" class=\"row_heading level0 row2\" >2</th>\n",
       "      <td id=\"T_faa78_row2_col0\" class=\"data row2 col0\" >Target type</td>\n",
       "      <td id=\"T_faa78_row2_col1\" class=\"data row2 col1\" >Multiclass</td>\n",
       "    </tr>\n",
       "    <tr>\n",
       "      <th id=\"T_faa78_level0_row3\" class=\"row_heading level0 row3\" >3</th>\n",
       "      <td id=\"T_faa78_row3_col0\" class=\"data row3 col0\" >Target mapping</td>\n",
       "      <td id=\"T_faa78_row3_col1\" class=\"data row3 col1\" >Adelie: 0, Chinstrap: 1, Gentoo: 2</td>\n",
       "    </tr>\n",
       "    <tr>\n",
       "      <th id=\"T_faa78_level0_row4\" class=\"row_heading level0 row4\" >4</th>\n",
       "      <td id=\"T_faa78_row4_col0\" class=\"data row4 col0\" >Original data shape</td>\n",
       "      <td id=\"T_faa78_row4_col1\" class=\"data row4 col1\" >(334, 7)</td>\n",
       "    </tr>\n",
       "    <tr>\n",
       "      <th id=\"T_faa78_level0_row5\" class=\"row_heading level0 row5\" >5</th>\n",
       "      <td id=\"T_faa78_row5_col0\" class=\"data row5 col0\" >Transformed data shape</td>\n",
       "      <td id=\"T_faa78_row5_col1\" class=\"data row5 col1\" >(334, 11)</td>\n",
       "    </tr>\n",
       "    <tr>\n",
       "      <th id=\"T_faa78_level0_row6\" class=\"row_heading level0 row6\" >6</th>\n",
       "      <td id=\"T_faa78_row6_col0\" class=\"data row6 col0\" >Transformed train set shape</td>\n",
       "      <td id=\"T_faa78_row6_col1\" class=\"data row6 col1\" >(233, 11)</td>\n",
       "    </tr>\n",
       "    <tr>\n",
       "      <th id=\"T_faa78_level0_row7\" class=\"row_heading level0 row7\" >7</th>\n",
       "      <td id=\"T_faa78_row7_col0\" class=\"data row7 col0\" >Transformed test set shape</td>\n",
       "      <td id=\"T_faa78_row7_col1\" class=\"data row7 col1\" >(101, 11)</td>\n",
       "    </tr>\n",
       "    <tr>\n",
       "      <th id=\"T_faa78_level0_row8\" class=\"row_heading level0 row8\" >8</th>\n",
       "      <td id=\"T_faa78_row8_col0\" class=\"data row8 col0\" >Numeric features</td>\n",
       "      <td id=\"T_faa78_row8_col1\" class=\"data row8 col1\" >4</td>\n",
       "    </tr>\n",
       "    <tr>\n",
       "      <th id=\"T_faa78_level0_row9\" class=\"row_heading level0 row9\" >9</th>\n",
       "      <td id=\"T_faa78_row9_col0\" class=\"data row9 col0\" >Categorical features</td>\n",
       "      <td id=\"T_faa78_row9_col1\" class=\"data row9 col1\" >2</td>\n",
       "    </tr>\n",
       "    <tr>\n",
       "      <th id=\"T_faa78_level0_row10\" class=\"row_heading level0 row10\" >10</th>\n",
       "      <td id=\"T_faa78_row10_col0\" class=\"data row10 col0\" >Preprocess</td>\n",
       "      <td id=\"T_faa78_row10_col1\" class=\"data row10 col1\" >True</td>\n",
       "    </tr>\n",
       "    <tr>\n",
       "      <th id=\"T_faa78_level0_row11\" class=\"row_heading level0 row11\" >11</th>\n",
       "      <td id=\"T_faa78_row11_col0\" class=\"data row11 col0\" >Imputation type</td>\n",
       "      <td id=\"T_faa78_row11_col1\" class=\"data row11 col1\" >simple</td>\n",
       "    </tr>\n",
       "    <tr>\n",
       "      <th id=\"T_faa78_level0_row12\" class=\"row_heading level0 row12\" >12</th>\n",
       "      <td id=\"T_faa78_row12_col0\" class=\"data row12 col0\" >Numeric imputation</td>\n",
       "      <td id=\"T_faa78_row12_col1\" class=\"data row12 col1\" >mean</td>\n",
       "    </tr>\n",
       "    <tr>\n",
       "      <th id=\"T_faa78_level0_row13\" class=\"row_heading level0 row13\" >13</th>\n",
       "      <td id=\"T_faa78_row13_col0\" class=\"data row13 col0\" >Categorical imputation</td>\n",
       "      <td id=\"T_faa78_row13_col1\" class=\"data row13 col1\" >mode</td>\n",
       "    </tr>\n",
       "    <tr>\n",
       "      <th id=\"T_faa78_level0_row14\" class=\"row_heading level0 row14\" >14</th>\n",
       "      <td id=\"T_faa78_row14_col0\" class=\"data row14 col0\" >Maximum one-hot encoding</td>\n",
       "      <td id=\"T_faa78_row14_col1\" class=\"data row14 col1\" >25</td>\n",
       "    </tr>\n",
       "    <tr>\n",
       "      <th id=\"T_faa78_level0_row15\" class=\"row_heading level0 row15\" >15</th>\n",
       "      <td id=\"T_faa78_row15_col0\" class=\"data row15 col0\" >Encoding method</td>\n",
       "      <td id=\"T_faa78_row15_col1\" class=\"data row15 col1\" >None</td>\n",
       "    </tr>\n",
       "    <tr>\n",
       "      <th id=\"T_faa78_level0_row16\" class=\"row_heading level0 row16\" >16</th>\n",
       "      <td id=\"T_faa78_row16_col0\" class=\"data row16 col0\" >Fold Generator</td>\n",
       "      <td id=\"T_faa78_row16_col1\" class=\"data row16 col1\" >StratifiedKFold</td>\n",
       "    </tr>\n",
       "    <tr>\n",
       "      <th id=\"T_faa78_level0_row17\" class=\"row_heading level0 row17\" >17</th>\n",
       "      <td id=\"T_faa78_row17_col0\" class=\"data row17 col0\" >Fold Number</td>\n",
       "      <td id=\"T_faa78_row17_col1\" class=\"data row17 col1\" >10</td>\n",
       "    </tr>\n",
       "    <tr>\n",
       "      <th id=\"T_faa78_level0_row18\" class=\"row_heading level0 row18\" >18</th>\n",
       "      <td id=\"T_faa78_row18_col0\" class=\"data row18 col0\" >CPU Jobs</td>\n",
       "      <td id=\"T_faa78_row18_col1\" class=\"data row18 col1\" >-1</td>\n",
       "    </tr>\n",
       "    <tr>\n",
       "      <th id=\"T_faa78_level0_row19\" class=\"row_heading level0 row19\" >19</th>\n",
       "      <td id=\"T_faa78_row19_col0\" class=\"data row19 col0\" >Use GPU</td>\n",
       "      <td id=\"T_faa78_row19_col1\" class=\"data row19 col1\" >False</td>\n",
       "    </tr>\n",
       "    <tr>\n",
       "      <th id=\"T_faa78_level0_row20\" class=\"row_heading level0 row20\" >20</th>\n",
       "      <td id=\"T_faa78_row20_col0\" class=\"data row20 col0\" >Log Experiment</td>\n",
       "      <td id=\"T_faa78_row20_col1\" class=\"data row20 col1\" >False</td>\n",
       "    </tr>\n",
       "    <tr>\n",
       "      <th id=\"T_faa78_level0_row21\" class=\"row_heading level0 row21\" >21</th>\n",
       "      <td id=\"T_faa78_row21_col0\" class=\"data row21 col0\" >Experiment Name</td>\n",
       "      <td id=\"T_faa78_row21_col1\" class=\"data row21 col1\" >clf-default-name</td>\n",
       "    </tr>\n",
       "    <tr>\n",
       "      <th id=\"T_faa78_level0_row22\" class=\"row_heading level0 row22\" >22</th>\n",
       "      <td id=\"T_faa78_row22_col0\" class=\"data row22 col0\" >USI</td>\n",
       "      <td id=\"T_faa78_row22_col1\" class=\"data row22 col1\" >1b9a</td>\n",
       "    </tr>\n",
       "  </tbody>\n",
       "</table>\n"
      ],
      "text/plain": [
       "<pandas.io.formats.style.Styler at 0x7f2270f5ef10>"
      ]
     },
     "metadata": {},
     "output_type": "display_data"
    }
   ],
   "source": [
    "from pycaret.datasets import get_data\n",
    "from pycaret.classification import *\n",
    "import os\n",
    "\n",
    "os.environ[\"PYCARET_CUSTOM_LOGGING_LEVEL\"] = \"CRITICAL\"\n",
    "\n",
    "# Setup PyCaret\n",
    "clf = setup(df, target='species')"
   ]
  },
  {
   "cell_type": "code",
   "execution_count": 127,
   "metadata": {
    "tags": []
   },
   "outputs": [
    {
     "data": {
      "text/html": [],
      "text/plain": [
       "<IPython.core.display.HTML object>"
      ]
     },
     "metadata": {},
     "output_type": "display_data"
    },
    {
     "data": {
      "text/html": [
       "<style type=\"text/css\">\n",
       "#T_4dc5d th {\n",
       "  text-align: left;\n",
       "}\n",
       "#T_4dc5d_row0_col0, #T_4dc5d_row0_col2, #T_4dc5d_row0_col4, #T_4dc5d_row0_col7, #T_4dc5d_row1_col0, #T_4dc5d_row1_col4, #T_4dc5d_row1_col7, #T_4dc5d_row2_col0, #T_4dc5d_row2_col2, #T_4dc5d_row2_col5, #T_4dc5d_row3_col0, #T_4dc5d_row3_col1, #T_4dc5d_row3_col2, #T_4dc5d_row3_col3, #T_4dc5d_row3_col4, #T_4dc5d_row3_col5, #T_4dc5d_row3_col6, #T_4dc5d_row3_col7, #T_4dc5d_row4_col0, #T_4dc5d_row4_col1, #T_4dc5d_row4_col2, #T_4dc5d_row4_col3, #T_4dc5d_row4_col4, #T_4dc5d_row4_col5, #T_4dc5d_row4_col6, #T_4dc5d_row4_col7, #T_4dc5d_row5_col0, #T_4dc5d_row5_col1, #T_4dc5d_row5_col2, #T_4dc5d_row5_col3, #T_4dc5d_row5_col4, #T_4dc5d_row5_col5, #T_4dc5d_row5_col6, #T_4dc5d_row5_col7, #T_4dc5d_row6_col0, #T_4dc5d_row6_col1, #T_4dc5d_row6_col2, #T_4dc5d_row6_col3, #T_4dc5d_row6_col4, #T_4dc5d_row6_col5, #T_4dc5d_row6_col6, #T_4dc5d_row6_col7, #T_4dc5d_row7_col0, #T_4dc5d_row7_col1, #T_4dc5d_row7_col2, #T_4dc5d_row7_col3, #T_4dc5d_row7_col4, #T_4dc5d_row7_col5, #T_4dc5d_row7_col6, #T_4dc5d_row7_col7, #T_4dc5d_row8_col0, #T_4dc5d_row8_col1, #T_4dc5d_row8_col3, #T_4dc5d_row8_col4, #T_4dc5d_row8_col5, #T_4dc5d_row8_col6, #T_4dc5d_row8_col7, #T_4dc5d_row9_col0, #T_4dc5d_row9_col1, #T_4dc5d_row9_col2, #T_4dc5d_row9_col3, #T_4dc5d_row9_col4, #T_4dc5d_row9_col5, #T_4dc5d_row9_col6, #T_4dc5d_row9_col7, #T_4dc5d_row10_col0, #T_4dc5d_row10_col1, #T_4dc5d_row10_col2, #T_4dc5d_row10_col3, #T_4dc5d_row10_col4, #T_4dc5d_row10_col5, #T_4dc5d_row10_col6, #T_4dc5d_row10_col7, #T_4dc5d_row11_col0, #T_4dc5d_row11_col1, #T_4dc5d_row11_col2, #T_4dc5d_row11_col3, #T_4dc5d_row11_col4, #T_4dc5d_row11_col5, #T_4dc5d_row11_col6, #T_4dc5d_row11_col7, #T_4dc5d_row12_col0, #T_4dc5d_row12_col1, #T_4dc5d_row12_col2, #T_4dc5d_row12_col3, #T_4dc5d_row12_col4, #T_4dc5d_row12_col5, #T_4dc5d_row12_col6, #T_4dc5d_row12_col7 {\n",
       "  text-align: left;\n",
       "}\n",
       "#T_4dc5d_row0_col1, #T_4dc5d_row0_col3, #T_4dc5d_row0_col5, #T_4dc5d_row0_col6, #T_4dc5d_row1_col1, #T_4dc5d_row1_col2, #T_4dc5d_row1_col3, #T_4dc5d_row1_col5, #T_4dc5d_row1_col6, #T_4dc5d_row2_col1, #T_4dc5d_row2_col3, #T_4dc5d_row2_col4, #T_4dc5d_row2_col6, #T_4dc5d_row2_col7, #T_4dc5d_row8_col2 {\n",
       "  text-align: left;\n",
       "  background-color: yellow;\n",
       "}\n",
       "#T_4dc5d_row0_col8 {\n",
       "  text-align: left;\n",
       "  background-color: yellow;\n",
       "  background-color: lightgrey;\n",
       "}\n",
       "#T_4dc5d_row1_col8, #T_4dc5d_row2_col8, #T_4dc5d_row3_col8, #T_4dc5d_row4_col8, #T_4dc5d_row5_col8, #T_4dc5d_row6_col8, #T_4dc5d_row7_col8, #T_4dc5d_row8_col8, #T_4dc5d_row9_col8, #T_4dc5d_row10_col8, #T_4dc5d_row11_col8, #T_4dc5d_row12_col8 {\n",
       "  text-align: left;\n",
       "  background-color: lightgrey;\n",
       "}\n",
       "</style>\n",
       "<table id=\"T_4dc5d\">\n",
       "  <thead>\n",
       "    <tr>\n",
       "      <th class=\"blank level0\" >&nbsp;</th>\n",
       "      <th id=\"T_4dc5d_level0_col0\" class=\"col_heading level0 col0\" >Model</th>\n",
       "      <th id=\"T_4dc5d_level0_col1\" class=\"col_heading level0 col1\" >Accuracy</th>\n",
       "      <th id=\"T_4dc5d_level0_col2\" class=\"col_heading level0 col2\" >AUC</th>\n",
       "      <th id=\"T_4dc5d_level0_col3\" class=\"col_heading level0 col3\" >Recall</th>\n",
       "      <th id=\"T_4dc5d_level0_col4\" class=\"col_heading level0 col4\" >Prec.</th>\n",
       "      <th id=\"T_4dc5d_level0_col5\" class=\"col_heading level0 col5\" >F1</th>\n",
       "      <th id=\"T_4dc5d_level0_col6\" class=\"col_heading level0 col6\" >Kappa</th>\n",
       "      <th id=\"T_4dc5d_level0_col7\" class=\"col_heading level0 col7\" >MCC</th>\n",
       "      <th id=\"T_4dc5d_level0_col8\" class=\"col_heading level0 col8\" >TT (Sec)</th>\n",
       "    </tr>\n",
       "  </thead>\n",
       "  <tbody>\n",
       "    <tr>\n",
       "      <th id=\"T_4dc5d_level0_row0\" class=\"row_heading level0 row0\" >ridge</th>\n",
       "      <td id=\"T_4dc5d_row0_col0\" class=\"data row0 col0\" >Ridge Classifier</td>\n",
       "      <td id=\"T_4dc5d_row0_col1\" class=\"data row0 col1\" >0.9913</td>\n",
       "      <td id=\"T_4dc5d_row0_col2\" class=\"data row0 col2\" >0.0000</td>\n",
       "      <td id=\"T_4dc5d_row0_col3\" class=\"data row0 col3\" >0.9913</td>\n",
       "      <td id=\"T_4dc5d_row0_col4\" class=\"data row0 col4\" >0.9913</td>\n",
       "      <td id=\"T_4dc5d_row0_col5\" class=\"data row0 col5\" >0.9913</td>\n",
       "      <td id=\"T_4dc5d_row0_col6\" class=\"data row0 col6\" >0.9865</td>\n",
       "      <td id=\"T_4dc5d_row0_col7\" class=\"data row0 col7\" >0.9865</td>\n",
       "      <td id=\"T_4dc5d_row0_col8\" class=\"data row0 col8\" >0.0190</td>\n",
       "    </tr>\n",
       "    <tr>\n",
       "      <th id=\"T_4dc5d_level0_row1\" class=\"row_heading level0 row1\" >lda</th>\n",
       "      <td id=\"T_4dc5d_row1_col0\" class=\"data row1 col0\" >Linear Discriminant Analysis</td>\n",
       "      <td id=\"T_4dc5d_row1_col1\" class=\"data row1 col1\" >0.9913</td>\n",
       "      <td id=\"T_4dc5d_row1_col2\" class=\"data row1 col2\" >0.9994</td>\n",
       "      <td id=\"T_4dc5d_row1_col3\" class=\"data row1 col3\" >0.9913</td>\n",
       "      <td id=\"T_4dc5d_row1_col4\" class=\"data row1 col4\" >0.9913</td>\n",
       "      <td id=\"T_4dc5d_row1_col5\" class=\"data row1 col5\" >0.9913</td>\n",
       "      <td id=\"T_4dc5d_row1_col6\" class=\"data row1 col6\" >0.9865</td>\n",
       "      <td id=\"T_4dc5d_row1_col7\" class=\"data row1 col7\" >0.9865</td>\n",
       "      <td id=\"T_4dc5d_row1_col8\" class=\"data row1 col8\" >0.0240</td>\n",
       "    </tr>\n",
       "    <tr>\n",
       "      <th id=\"T_4dc5d_level0_row2\" class=\"row_heading level0 row2\" >et</th>\n",
       "      <td id=\"T_4dc5d_row2_col0\" class=\"data row2 col0\" >Extra Trees Classifier</td>\n",
       "      <td id=\"T_4dc5d_row2_col1\" class=\"data row2 col1\" >0.9913</td>\n",
       "      <td id=\"T_4dc5d_row2_col2\" class=\"data row2 col2\" >0.9988</td>\n",
       "      <td id=\"T_4dc5d_row2_col3\" class=\"data row2 col3\" >0.9913</td>\n",
       "      <td id=\"T_4dc5d_row2_col4\" class=\"data row2 col4\" >0.9924</td>\n",
       "      <td id=\"T_4dc5d_row2_col5\" class=\"data row2 col5\" >0.9912</td>\n",
       "      <td id=\"T_4dc5d_row2_col6\" class=\"data row2 col6\" >0.9865</td>\n",
       "      <td id=\"T_4dc5d_row2_col7\" class=\"data row2 col7\" >0.9870</td>\n",
       "      <td id=\"T_4dc5d_row2_col8\" class=\"data row2 col8\" >0.0570</td>\n",
       "    </tr>\n",
       "    <tr>\n",
       "      <th id=\"T_4dc5d_level0_row3\" class=\"row_heading level0 row3\" >rf</th>\n",
       "      <td id=\"T_4dc5d_row3_col0\" class=\"data row3 col0\" >Random Forest Classifier</td>\n",
       "      <td id=\"T_4dc5d_row3_col1\" class=\"data row3 col1\" >0.9826</td>\n",
       "      <td id=\"T_4dc5d_row3_col2\" class=\"data row3 col2\" >0.9972</td>\n",
       "      <td id=\"T_4dc5d_row3_col3\" class=\"data row3 col3\" >0.9826</td>\n",
       "      <td id=\"T_4dc5d_row3_col4\" class=\"data row3 col4\" >0.9860</td>\n",
       "      <td id=\"T_4dc5d_row3_col5\" class=\"data row3 col5\" >0.9805</td>\n",
       "      <td id=\"T_4dc5d_row3_col6\" class=\"data row3 col6\" >0.9719</td>\n",
       "      <td id=\"T_4dc5d_row3_col7\" class=\"data row3 col7\" >0.9747</td>\n",
       "      <td id=\"T_4dc5d_row3_col8\" class=\"data row3 col8\" >0.0650</td>\n",
       "    </tr>\n",
       "    <tr>\n",
       "      <th id=\"T_4dc5d_level0_row4\" class=\"row_heading level0 row4\" >lr</th>\n",
       "      <td id=\"T_4dc5d_row4_col0\" class=\"data row4 col0\" >Logistic Regression</td>\n",
       "      <td id=\"T_4dc5d_row4_col1\" class=\"data row4 col1\" >0.9784</td>\n",
       "      <td id=\"T_4dc5d_row4_col2\" class=\"data row4 col2\" >0.9976</td>\n",
       "      <td id=\"T_4dc5d_row4_col3\" class=\"data row4 col3\" >0.9784</td>\n",
       "      <td id=\"T_4dc5d_row4_col4\" class=\"data row4 col4\" >0.9794</td>\n",
       "      <td id=\"T_4dc5d_row4_col5\" class=\"data row4 col5\" >0.9780</td>\n",
       "      <td id=\"T_4dc5d_row4_col6\" class=\"data row4 col6\" >0.9660</td>\n",
       "      <td id=\"T_4dc5d_row4_col7\" class=\"data row4 col7\" >0.9668</td>\n",
       "      <td id=\"T_4dc5d_row4_col8\" class=\"data row4 col8\" >0.2360</td>\n",
       "    </tr>\n",
       "    <tr>\n",
       "      <th id=\"T_4dc5d_level0_row5\" class=\"row_heading level0 row5\" >gbc</th>\n",
       "      <td id=\"T_4dc5d_row5_col0\" class=\"data row5 col0\" >Gradient Boosting Classifier</td>\n",
       "      <td id=\"T_4dc5d_row5_col1\" class=\"data row5 col1\" >0.9741</td>\n",
       "      <td id=\"T_4dc5d_row5_col2\" class=\"data row5 col2\" >0.9901</td>\n",
       "      <td id=\"T_4dc5d_row5_col3\" class=\"data row5 col3\" >0.9741</td>\n",
       "      <td id=\"T_4dc5d_row5_col4\" class=\"data row5 col4\" >0.9794</td>\n",
       "      <td id=\"T_4dc5d_row5_col5\" class=\"data row5 col5\" >0.9723</td>\n",
       "      <td id=\"T_4dc5d_row5_col6\" class=\"data row5 col6\" >0.9584</td>\n",
       "      <td id=\"T_4dc5d_row5_col7\" class=\"data row5 col7\" >0.9620</td>\n",
       "      <td id=\"T_4dc5d_row5_col8\" class=\"data row5 col8\" >0.0740</td>\n",
       "    </tr>\n",
       "    <tr>\n",
       "      <th id=\"T_4dc5d_level0_row6\" class=\"row_heading level0 row6\" >dt</th>\n",
       "      <td id=\"T_4dc5d_row6_col0\" class=\"data row6 col0\" >Decision Tree Classifier</td>\n",
       "      <td id=\"T_4dc5d_row6_col1\" class=\"data row6 col1\" >0.9609</td>\n",
       "      <td id=\"T_4dc5d_row6_col2\" class=\"data row6 col2\" >0.9675</td>\n",
       "      <td id=\"T_4dc5d_row6_col3\" class=\"data row6 col3\" >0.9609</td>\n",
       "      <td id=\"T_4dc5d_row6_col4\" class=\"data row6 col4\" >0.9675</td>\n",
       "      <td id=\"T_4dc5d_row6_col5\" class=\"data row6 col5\" >0.9596</td>\n",
       "      <td id=\"T_4dc5d_row6_col6\" class=\"data row6 col6\" >0.9376</td>\n",
       "      <td id=\"T_4dc5d_row6_col7\" class=\"data row6 col7\" >0.9414</td>\n",
       "      <td id=\"T_4dc5d_row6_col8\" class=\"data row6 col8\" >0.0270</td>\n",
       "    </tr>\n",
       "    <tr>\n",
       "      <th id=\"T_4dc5d_level0_row7\" class=\"row_heading level0 row7\" >ada</th>\n",
       "      <td id=\"T_4dc5d_row7_col0\" class=\"data row7 col0\" >Ada Boost Classifier</td>\n",
       "      <td id=\"T_4dc5d_row7_col1\" class=\"data row7 col1\" >0.8496</td>\n",
       "      <td id=\"T_4dc5d_row7_col2\" class=\"data row7 col2\" >0.9097</td>\n",
       "      <td id=\"T_4dc5d_row7_col3\" class=\"data row7 col3\" >0.8496</td>\n",
       "      <td id=\"T_4dc5d_row7_col4\" class=\"data row7 col4\" >0.8109</td>\n",
       "      <td id=\"T_4dc5d_row7_col5\" class=\"data row7 col5\" >0.8087</td>\n",
       "      <td id=\"T_4dc5d_row7_col6\" class=\"data row7 col6\" >0.7490</td>\n",
       "      <td id=\"T_4dc5d_row7_col7\" class=\"data row7 col7\" >0.7809</td>\n",
       "      <td id=\"T_4dc5d_row7_col8\" class=\"data row7 col8\" >0.0340</td>\n",
       "    </tr>\n",
       "    <tr>\n",
       "      <th id=\"T_4dc5d_level0_row8\" class=\"row_heading level0 row8\" >nb</th>\n",
       "      <td id=\"T_4dc5d_row8_col0\" class=\"data row8 col0\" >Naive Bayes</td>\n",
       "      <td id=\"T_4dc5d_row8_col1\" class=\"data row8 col1\" >0.8413</td>\n",
       "      <td id=\"T_4dc5d_row8_col2\" class=\"data row8 col2\" >0.9994</td>\n",
       "      <td id=\"T_4dc5d_row8_col3\" class=\"data row8 col3\" >0.8413</td>\n",
       "      <td id=\"T_4dc5d_row8_col4\" class=\"data row8 col4\" >0.9117</td>\n",
       "      <td id=\"T_4dc5d_row8_col5\" class=\"data row8 col5\" >0.8437</td>\n",
       "      <td id=\"T_4dc5d_row8_col6\" class=\"data row8 col6\" >0.7657</td>\n",
       "      <td id=\"T_4dc5d_row8_col7\" class=\"data row8 col7\" >0.7964</td>\n",
       "      <td id=\"T_4dc5d_row8_col8\" class=\"data row8 col8\" >0.3160</td>\n",
       "    </tr>\n",
       "    <tr>\n",
       "      <th id=\"T_4dc5d_level0_row9\" class=\"row_heading level0 row9\" >knn</th>\n",
       "      <td id=\"T_4dc5d_row9_col0\" class=\"data row9 col0\" >K Neighbors Classifier</td>\n",
       "      <td id=\"T_4dc5d_row9_col1\" class=\"data row9 col1\" >0.7672</td>\n",
       "      <td id=\"T_4dc5d_row9_col2\" class=\"data row9 col2\" >0.8596</td>\n",
       "      <td id=\"T_4dc5d_row9_col3\" class=\"data row9 col3\" >0.7672</td>\n",
       "      <td id=\"T_4dc5d_row9_col4\" class=\"data row9 col4\" >0.7616</td>\n",
       "      <td id=\"T_4dc5d_row9_col5\" class=\"data row9 col5\" >0.7409</td>\n",
       "      <td id=\"T_4dc5d_row9_col6\" class=\"data row9 col6\" >0.6210</td>\n",
       "      <td id=\"T_4dc5d_row9_col7\" class=\"data row9 col7\" >0.6445</td>\n",
       "      <td id=\"T_4dc5d_row9_col8\" class=\"data row9 col8\" >0.0800</td>\n",
       "    </tr>\n",
       "    <tr>\n",
       "      <th id=\"T_4dc5d_level0_row10\" class=\"row_heading level0 row10\" >dummy</th>\n",
       "      <td id=\"T_4dc5d_row10_col0\" class=\"data row10 col0\" >Dummy Classifier</td>\n",
       "      <td id=\"T_4dc5d_row10_col1\" class=\"data row10 col1\" >0.4377</td>\n",
       "      <td id=\"T_4dc5d_row10_col2\" class=\"data row10 col2\" >0.5000</td>\n",
       "      <td id=\"T_4dc5d_row10_col3\" class=\"data row10 col3\" >0.4377</td>\n",
       "      <td id=\"T_4dc5d_row10_col4\" class=\"data row10 col4\" >0.1917</td>\n",
       "      <td id=\"T_4dc5d_row10_col5\" class=\"data row10 col5\" >0.2666</td>\n",
       "      <td id=\"T_4dc5d_row10_col6\" class=\"data row10 col6\" >0.0000</td>\n",
       "      <td id=\"T_4dc5d_row10_col7\" class=\"data row10 col7\" >0.0000</td>\n",
       "      <td id=\"T_4dc5d_row10_col8\" class=\"data row10 col8\" >0.0240</td>\n",
       "    </tr>\n",
       "    <tr>\n",
       "      <th id=\"T_4dc5d_level0_row11\" class=\"row_heading level0 row11\" >qda</th>\n",
       "      <td id=\"T_4dc5d_row11_col0\" class=\"data row11 col0\" >Quadratic Discriminant Analysis</td>\n",
       "      <td id=\"T_4dc5d_row11_col1\" class=\"data row11 col1\" >0.4159</td>\n",
       "      <td id=\"T_4dc5d_row11_col2\" class=\"data row11 col2\" >0.0000</td>\n",
       "      <td id=\"T_4dc5d_row11_col3\" class=\"data row11 col3\" >0.4159</td>\n",
       "      <td id=\"T_4dc5d_row11_col4\" class=\"data row11 col4\" >0.1775</td>\n",
       "      <td id=\"T_4dc5d_row11_col5\" class=\"data row11 col5\" >0.2480</td>\n",
       "      <td id=\"T_4dc5d_row11_col6\" class=\"data row11 col6\" >0.0000</td>\n",
       "      <td id=\"T_4dc5d_row11_col7\" class=\"data row11 col7\" >0.0000</td>\n",
       "      <td id=\"T_4dc5d_row11_col8\" class=\"data row11 col8\" >0.0240</td>\n",
       "    </tr>\n",
       "    <tr>\n",
       "      <th id=\"T_4dc5d_level0_row12\" class=\"row_heading level0 row12\" >svm</th>\n",
       "      <td id=\"T_4dc5d_row12_col0\" class=\"data row12 col0\" >SVM - Linear Kernel</td>\n",
       "      <td id=\"T_4dc5d_row12_col1\" class=\"data row12 col1\" >0.3611</td>\n",
       "      <td id=\"T_4dc5d_row12_col2\" class=\"data row12 col2\" >0.0000</td>\n",
       "      <td id=\"T_4dc5d_row12_col3\" class=\"data row12 col3\" >0.3611</td>\n",
       "      <td id=\"T_4dc5d_row12_col4\" class=\"data row12 col4\" >0.2107</td>\n",
       "      <td id=\"T_4dc5d_row12_col5\" class=\"data row12 col5\" >0.2260</td>\n",
       "      <td id=\"T_4dc5d_row12_col6\" class=\"data row12 col6\" >0.0659</td>\n",
       "      <td id=\"T_4dc5d_row12_col7\" class=\"data row12 col7\" >0.1025</td>\n",
       "      <td id=\"T_4dc5d_row12_col8\" class=\"data row12 col8\" >0.0200</td>\n",
       "    </tr>\n",
       "  </tbody>\n",
       "</table>\n"
      ],
      "text/plain": [
       "<pandas.io.formats.style.Styler at 0x7f227f4d3130>"
      ]
     },
     "metadata": {},
     "output_type": "display_data"
    },
    {
     "data": {
      "text/html": [],
      "text/plain": [
       "<IPython.core.display.HTML object>"
      ]
     },
     "metadata": {},
     "output_type": "display_data"
    }
   ],
   "source": [
    "# Comparar un conjunto de modelos\n",
    "best_model = compare_models(exclude = ['lightgbm'])"
   ]
  },
  {
   "cell_type": "code",
   "execution_count": 128,
   "metadata": {},
   "outputs": [
    {
     "data": {
      "text/html": [],
      "text/plain": [
       "<IPython.core.display.HTML object>"
      ]
     },
     "metadata": {},
     "output_type": "display_data"
    }
   ],
   "source": [
    "predicciones = predict_model(best_model, data=X_test)"
   ]
  },
  {
   "cell_type": "code",
   "execution_count": 129,
   "metadata": {},
   "outputs": [
    {
     "data": {
      "text/html": [
       "<div>\n",
       "<style scoped>\n",
       "    .dataframe tbody tr th:only-of-type {\n",
       "        vertical-align: middle;\n",
       "    }\n",
       "\n",
       "    .dataframe tbody tr th {\n",
       "        vertical-align: top;\n",
       "    }\n",
       "\n",
       "    .dataframe thead th {\n",
       "        text-align: right;\n",
       "    }\n",
       "</style>\n",
       "<table border=\"1\" class=\"dataframe\">\n",
       "  <thead>\n",
       "    <tr style=\"text-align: right;\">\n",
       "      <th></th>\n",
       "      <th>island</th>\n",
       "      <th>culmen_length_mm</th>\n",
       "      <th>culmen_depth_mm</th>\n",
       "      <th>flipper_length_mm</th>\n",
       "      <th>body_mass_g</th>\n",
       "      <th>sex</th>\n",
       "      <th>prediction_label</th>\n",
       "    </tr>\n",
       "  </thead>\n",
       "  <tbody>\n",
       "    <tr>\n",
       "      <th>322</th>\n",
       "      <td>Biscoe</td>\n",
       "      <td>49.799999</td>\n",
       "      <td>15.900000</td>\n",
       "      <td>229.0</td>\n",
       "      <td>5950.0</td>\n",
       "      <td>MALE</td>\n",
       "      <td>Gentoo</td>\n",
       "    </tr>\n",
       "    <tr>\n",
       "      <th>125</th>\n",
       "      <td>Torgersen</td>\n",
       "      <td>43.099998</td>\n",
       "      <td>19.200001</td>\n",
       "      <td>197.0</td>\n",
       "      <td>3500.0</td>\n",
       "      <td>MALE</td>\n",
       "      <td>Adelie</td>\n",
       "    </tr>\n",
       "    <tr>\n",
       "      <th>232</th>\n",
       "      <td>Biscoe</td>\n",
       "      <td>46.200001</td>\n",
       "      <td>14.500000</td>\n",
       "      <td>209.0</td>\n",
       "      <td>4800.0</td>\n",
       "      <td>FEMALE</td>\n",
       "      <td>Gentoo</td>\n",
       "    </tr>\n",
       "    <tr>\n",
       "      <th>149</th>\n",
       "      <td>Dream</td>\n",
       "      <td>45.400002</td>\n",
       "      <td>18.700001</td>\n",
       "      <td>188.0</td>\n",
       "      <td>3525.0</td>\n",
       "      <td>FEMALE</td>\n",
       "      <td>Chinstrap</td>\n",
       "    </tr>\n",
       "    <tr>\n",
       "      <th>106</th>\n",
       "      <td>Biscoe</td>\n",
       "      <td>39.700001</td>\n",
       "      <td>17.700001</td>\n",
       "      <td>193.0</td>\n",
       "      <td>3200.0</td>\n",
       "      <td>FEMALE</td>\n",
       "      <td>Adelie</td>\n",
       "    </tr>\n",
       "    <tr>\n",
       "      <th>...</th>\n",
       "      <td>...</td>\n",
       "      <td>...</td>\n",
       "      <td>...</td>\n",
       "      <td>...</td>\n",
       "      <td>...</td>\n",
       "      <td>...</td>\n",
       "      <td>...</td>\n",
       "    </tr>\n",
       "    <tr>\n",
       "      <th>314</th>\n",
       "      <td>Biscoe</td>\n",
       "      <td>47.200001</td>\n",
       "      <td>15.500000</td>\n",
       "      <td>215.0</td>\n",
       "      <td>4975.0</td>\n",
       "      <td>FEMALE</td>\n",
       "      <td>Gentoo</td>\n",
       "    </tr>\n",
       "    <tr>\n",
       "      <th>213</th>\n",
       "      <td>Dream</td>\n",
       "      <td>50.200001</td>\n",
       "      <td>18.700001</td>\n",
       "      <td>198.0</td>\n",
       "      <td>3775.0</td>\n",
       "      <td>FEMALE</td>\n",
       "      <td>Chinstrap</td>\n",
       "    </tr>\n",
       "    <tr>\n",
       "      <th>283</th>\n",
       "      <td>Biscoe</td>\n",
       "      <td>46.400002</td>\n",
       "      <td>15.600000</td>\n",
       "      <td>221.0</td>\n",
       "      <td>5000.0</td>\n",
       "      <td>MALE</td>\n",
       "      <td>Gentoo</td>\n",
       "    </tr>\n",
       "    <tr>\n",
       "      <th>175</th>\n",
       "      <td>Dream</td>\n",
       "      <td>52.799999</td>\n",
       "      <td>20.000000</td>\n",
       "      <td>205.0</td>\n",
       "      <td>4550.0</td>\n",
       "      <td>MALE</td>\n",
       "      <td>Chinstrap</td>\n",
       "    </tr>\n",
       "    <tr>\n",
       "      <th>57</th>\n",
       "      <td>Biscoe</td>\n",
       "      <td>41.099998</td>\n",
       "      <td>18.200001</td>\n",
       "      <td>192.0</td>\n",
       "      <td>4050.0</td>\n",
       "      <td>MALE</td>\n",
       "      <td>Adelie</td>\n",
       "    </tr>\n",
       "  </tbody>\n",
       "</table>\n",
       "<p>111 rows × 7 columns</p>\n",
       "</div>"
      ],
      "text/plain": [
       "        island  culmen_length_mm  culmen_depth_mm  flipper_length_mm  \\\n",
       "322     Biscoe         49.799999        15.900000              229.0   \n",
       "125  Torgersen         43.099998        19.200001              197.0   \n",
       "232     Biscoe         46.200001        14.500000              209.0   \n",
       "149      Dream         45.400002        18.700001              188.0   \n",
       "106     Biscoe         39.700001        17.700001              193.0   \n",
       "..         ...               ...              ...                ...   \n",
       "314     Biscoe         47.200001        15.500000              215.0   \n",
       "213      Dream         50.200001        18.700001              198.0   \n",
       "283     Biscoe         46.400002        15.600000              221.0   \n",
       "175      Dream         52.799999        20.000000              205.0   \n",
       "57      Biscoe         41.099998        18.200001              192.0   \n",
       "\n",
       "     body_mass_g     sex prediction_label  \n",
       "322       5950.0    MALE           Gentoo  \n",
       "125       3500.0    MALE           Adelie  \n",
       "232       4800.0  FEMALE           Gentoo  \n",
       "149       3525.0  FEMALE        Chinstrap  \n",
       "106       3200.0  FEMALE           Adelie  \n",
       "..           ...     ...              ...  \n",
       "314       4975.0  FEMALE           Gentoo  \n",
       "213       3775.0  FEMALE        Chinstrap  \n",
       "283       5000.0    MALE           Gentoo  \n",
       "175       4550.0    MALE        Chinstrap  \n",
       "57        4050.0    MALE           Adelie  \n",
       "\n",
       "[111 rows x 7 columns]"
      ]
     },
     "execution_count": 129,
     "metadata": {},
     "output_type": "execute_result"
    }
   ],
   "source": [
    "predicciones"
   ]
  }
 ],
 "metadata": {
  "kernelspec": {
   "display_name": "pycaret2",
   "language": "python",
   "name": "python3"
  },
  "language_info": {
   "codemirror_mode": {
    "name": "ipython",
    "version": 3
   },
   "file_extension": ".py",
   "mimetype": "text/x-python",
   "name": "python",
   "nbconvert_exporter": "python",
   "pygments_lexer": "ipython3",
   "version": "3.9.21"
  },
  "toc": {
   "base_numbering": 1,
   "nav_menu": {},
   "number_sections": false,
   "sideBar": true,
   "skip_h1_title": true,
   "title_cell": "Table of Contents",
   "title_sidebar": "Contents",
   "toc_cell": false,
   "toc_position": {},
   "toc_section_display": true,
   "toc_window_display": false
  },
  "varInspector": {
   "cols": {
    "lenName": 16,
    "lenType": 16,
    "lenVar": 40
   },
   "kernels_config": {
    "python": {
     "delete_cmd_postfix": "",
     "delete_cmd_prefix": "del ",
     "library": "var_list.py",
     "varRefreshCmd": "print(var_dic_list())"
    },
    "r": {
     "delete_cmd_postfix": ") ",
     "delete_cmd_prefix": "rm(",
     "library": "var_list.r",
     "varRefreshCmd": "cat(var_dic_list()) "
    }
   },
   "types_to_exclude": [
    "module",
    "function",
    "builtin_function_or_method",
    "instance",
    "_Feature"
   ],
   "window_display": false
  }
 },
 "nbformat": 4,
 "nbformat_minor": 4
}
