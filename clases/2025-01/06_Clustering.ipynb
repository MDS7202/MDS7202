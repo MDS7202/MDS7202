{
 "cells": [
  {
   "cell_type": "markdown",
   "id": "9a283585",
   "metadata": {},
   "source": [
    "# Clase 6: Clustering\n",
    "\n",
    "**MDS7202: Laboratorio de Programación Científica para Ciencia de Datos**\n"
   ]
  },
  {
   "cell_type": "markdown",
   "id": "f373af84",
   "metadata": {},
   "source": [
    "## Objetivos de la Clase\n",
    "\n",
    "\n",
    "- Comprender cuál es la utilidad de las técnicas de clustering.\n",
    "- Analizar diversos tipos de algoritmos de clustering."
   ]
  },
  {
   "cell_type": "markdown",
   "id": "2de90848-0f04-49ca-946c-d14055c48b67",
   "metadata": {},
   "source": [
    "## Clustering\n",
    "\n",
    "Clustering es la tarea que consiste en agrupar observaciones similares en grupos llamados *clusters*. La idea es que los grupos solo contengan información similar.\n",
    "Es una tarea usual al realizar Análisis Exploratorio de Datos (EDA), ya que permite encontrar de forma automatizada grupos de observaciones similares.\n",
    "\n",
    "Ya que no es necesario que el dataset esté etiquetado, es una técnica de aprendizaje no-supervisado.\n",
    "\n",
    "<div align='center'>\n",
    "    <img src='https://github.com/MDS7202/MDS7202/blob/main/recursos/2023-01/17-Clustering/clustering.png?raw=true' width=800/>\n",
    "</div>\n",
    "\n",
    "<div align='center'>\n",
    "    <span>Ejemplo de Clustering. Fuente: <a href='https://scikit-learn.org/stable/auto_examples/cluster/plot_cluster_comparison.html'>Comparación de Clustering en Scikit-Learn.</a></span>\n",
    "</div>"
   ]
  },
  {
   "cell_type": "markdown",
   "id": "8f231e1c",
   "metadata": {},
   "source": [
    "## Tipos de Clustering\n",
    "\n",
    "Existen varias técnicas de clustering, las cuales se pueden clasificar en las siguientes categorías:\n",
    "\n",
    "\n",
    "|  | **Particional** | **Jerárquico** | **Difuso** |\n",
    "|---|---|---|---|\n",
    "| Descripción | Divide los datos en clusters sin traslape, tal que cada dato está en un solo grupo y en ningún otro. | Agrupa ejemplos al ir estableciendo jerarquías entre estos, de tal manera que los datos son organizados como un árbol. | Cada objeto pertenece a cada cluster con un peso de pertenencia entre 0 y 1. |\n",
    "| Ejemplos | K-Means, DBScan | Aglomerativo, Divisivo | Mixtura de Gaussianas |"
   ]
  },
  {
   "cell_type": "markdown",
   "id": "3c50f596",
   "metadata": {},
   "source": [
    "## Clustering en `Scikit-learn`\n",
    "\n",
    "Scikit-learn ofrece una gran gama de algoritmos de clustering para explorar.\n",
    "\n",
    "\n",
    "\n"
   ]
  },
  {
   "cell_type": "markdown",
   "id": "961b9787",
   "metadata": {},
   "source": [
    "<div align='center'>\n",
    "    <img src='https://github.com/MDS7202/MDS7202/blob/main/recursos/2023-01/17-Clustering/cluster_comparison.png?raw=true' width=800/>\n",
    "</div>\n",
    "\n",
    "<div align='center'>\n",
    "    <span>Ejemplo de los distintos métodos de Clustering ofrecidos por Scikit-Learn. </span>\n",
    "    <br>\n",
    "    Fuente: <a href='https://scikit-learn.org/stable/modules/clustering.html'>Clustering en Scikit-Learn.</a>\n",
    "</div>"
   ]
  },
  {
   "cell_type": "markdown",
   "id": "0979e56d",
   "metadata": {},
   "source": [
    "---\n",
    "\n",
    "## Problema de Hoy: 🎸🤘 Caracterización Musical 🎼🎵 \n",
    "\n",
    "<div align='center'>\n",
    "<img src='https://github.com/MDS7202/MDS7202/blob/main/recursos/2023-01/17-Clustering/spotify.png?raw=true' width=200/>\n",
    "</div>\n",
    "\n",
    " \n",
    "    \n",
    "Los atributos son: \n",
    "\n",
    "- `key`: escala de la canción. 0 = C, 1 = C♯/D♭, 2 = D...  [Mas información](https://en.wikipedia.org/wiki/Pitch_class).\n",
    "- `modo`: 1 si la escala es mayor, 0 si es menor.\n",
    "- `time_signature`: cuántos pulsos hay en cada compás. (4, 3,...).\n",
    "- `loudness`: Volumen de la canción (rango -60, 0).\n",
    "\n",
    "\n",
    "- `acousticness`: Probabilidad de que la canción sea solo acústica.\n",
    "- `danceability`: Describe que tan bailable es la canción. (rango 0, 1).\n",
    "- `energy`: Mide que tan energética es una canción (rango 0, 1).\n",
    "- `instrumentalness`: Probabilidad que la canción contenga voces.\n",
    "- `liveness`: Probabilidad de que la canción fuese grabada en vivo.\n",
    "- `speechiness`: Probabilidad de que la canción sea exclusivamente vocal (ejemplo: podcast : 1). \n",
    "- `valence`: Sentimiento de la canción (rango 0, 1). 1 -> felicidad, alegria, euforia. 0 -> Tristeza, enojo, depresión.\n",
    "- `tempo` : Pulsos por minuto de la canción (BPM). \n",
    "- `genre`: Género de la canción.\n",
    "\n"
   ]
  },
  {
   "cell_type": "markdown",
   "id": "cbec86a0",
   "metadata": {},
   "source": [
    "### Análisis Exploratorio de Datos"
   ]
  },
  {
   "cell_type": "code",
   "execution_count": null,
   "id": "70e3b4d6",
   "metadata": {},
   "outputs": [],
   "source": [
    "import pandas as pd\n",
    "import plotly.express as px\n",
    "\n",
    "df = pd.read_csv(\"../../recursos/2023-01/17-Clustering/descriptores_musica.csv\")\n",
    "df.head(5)"
   ]
  },
  {
   "cell_type": "code",
   "execution_count": null,
   "id": "93609a20",
   "metadata": {},
   "outputs": [],
   "source": [
    "df['genre'].unique()"
   ]
  },
  {
   "cell_type": "code",
   "execution_count": null,
   "id": "6be531a2",
   "metadata": {},
   "outputs": [],
   "source": [
    "df.describe()"
   ]
  },
  {
   "cell_type": "code",
   "execution_count": null,
   "id": "31ec8ac6",
   "metadata": {},
   "outputs": [],
   "source": [
    "def get_ejemplo(idx):\n",
    "    \"\"\"\n",
    "    Obtiene un ejemplo y lo formatea como columna.\n",
    "    \"\"\"\n",
    "    ejemplo = (\n",
    "        df.loc[\n",
    "            idx,\n",
    "            [\n",
    "                \"danceability\",\n",
    "                \"energy\",\n",
    "                \"speechiness\",\n",
    "                \"acousticness\",\n",
    "                \"instrumentalness\",\n",
    "                \"valence\",\n",
    "                \"name\",\n",
    "                \"artist\",\n",
    "                \"genre\",\n",
    "            ],\n",
    "        ]\n",
    "        .to_frame()\n",
    "        .reset_index()\n",
    "    )\n",
    "    ejemplo.columns = [\"Descriptor\", \"Valor\"]\n",
    "    return ejemplo"
   ]
  },
  {
   "cell_type": "code",
   "execution_count": null,
   "id": "8571519b",
   "metadata": {},
   "outputs": [],
   "source": [
    "# pueden cambiar el índice de alguno de estos ejemplos para\n",
    "# mostrar otra canción en la visualización\n",
    "ejemplo1 = get_ejemplo(483)\n",
    "ejemplo2 = get_ejemplo(166)\n",
    "ejemplo3 = get_ejemplo(15)\n",
    "ejemplo4 = get_ejemplo(810)\n",
    "\n",
    "ejemplos = [ejemplo1, ejemplo2, ejemplo3, ejemplo4]"
   ]
  },
  {
   "cell_type": "markdown",
   "id": "cc36f646",
   "metadata": {},
   "source": [
    "#### Spider/Radar Chart"
   ]
  },
  {
   "cell_type": "code",
   "execution_count": null,
   "id": "b285a715",
   "metadata": {},
   "outputs": [],
   "source": [
    "import plotly.graph_objects as go\n",
    "from plotly.subplots import make_subplots\n",
    "\n",
    "fig = make_subplots(\n",
    "    rows=2,\n",
    "    cols=2,\n",
    "    specs=[\n",
    "        [{\"type\": \"polar\"}, {\"type\": \"polar\"}],\n",
    "        [{\"type\": \"polar\"}, {\"type\": \"polar\"}],\n",
    "    ],\n",
    "    subplot_titles=[\n",
    "        ejemplo1.loc[6, \"Valor\"], ejemplo3.loc[6, \"Valor\"],\n",
    "        ejemplo2.loc[6, \"Valor\"], ejemplo4.loc[6, \"Valor\"],\n",
    "    ],\n",
    ")\n",
    "\n",
    "for i, ejemplo in enumerate(ejemplos):\n",
    "    fig.add_trace(\n",
    "        go.Scatterpolar(\n",
    "            r=ejemplo.loc[0:5, \"Valor\"],\n",
    "            theta=ejemplo.loc[0:5, \"Descriptor\"],\n",
    "            fill=\"toself\",\n",
    "            name=f\"{ejemplo.loc[6, 'Valor']} - {ejemplo.loc[7, 'Valor']} ({ejemplo.loc[8, 'Valor']})\",\n",
    "        ),\n",
    "        col=i // 2 + 1,\n",
    "        row=i % 2 + 1,\n",
    "    )\n",
    "\n",
    "fig.update_layout(\n",
    "    polar=dict(radialaxis=dict(visible=True, range=[0, 1])),\n",
    "    showlegend=False,\n",
    "    title=\"ScatterPolar/Radar/Spider Chart/ Descripción de Ejemplos\",\n",
    "    height=700,\n",
    ")\n",
    "\n",
    "fig.show()"
   ]
  },
  {
   "cell_type": "markdown",
   "id": "784cc267",
   "metadata": {},
   "source": [
    "#### Histogramas"
   ]
  },
  {
   "cell_type": "code",
   "execution_count": null,
   "id": "b268dc0b",
   "metadata": {},
   "outputs": [],
   "source": [
    "px.histogram(df, x=\"duration_ms\")"
   ]
  },
  {
   "cell_type": "code",
   "execution_count": null,
   "id": "9ba44a51",
   "metadata": {},
   "outputs": [],
   "source": [
    "px.histogram(df, x=\"loudness\")"
   ]
  },
  {
   "cell_type": "code",
   "execution_count": null,
   "id": "60216b4a",
   "metadata": {},
   "outputs": [],
   "source": [
    "px.histogram(df, x=\"tempo\")"
   ]
  },
  {
   "cell_type": "code",
   "execution_count": null,
   "id": "1e0390b9",
   "metadata": {},
   "outputs": [],
   "source": [
    "dt_to_hists = df.loc[\n",
    "    :,\n",
    "    [\n",
    "        \"danceability\",\n",
    "        \"energy\",\n",
    "        \"speechiness\",\n",
    "        \"acousticness\",\n",
    "        \"instrumentalness\",\n",
    "        \"valence\",\n",
    "        \"liveness\",\n",
    "        \"genre\",\n",
    "    ],\n",
    "].melt(id_vars=[\"genre\"], var_name=\"variable\", value_name=\"valor\")\n",
    "\n",
    "px.histogram(\n",
    "    dt_to_hists, x=\"valor\", color=\"variable\", facet_col=\"variable\", facet_col_wrap=4\n",
    ").update_layout(showlegend=False)"
   ]
  },
  {
   "cell_type": "markdown",
   "id": "1b23fe5a-7c74-4caf-a35f-01eae1de698c",
   "metadata": {},
   "source": [
    "### Correlaciones"
   ]
  },
  {
   "cell_type": "code",
   "execution_count": null,
   "id": "dd836dfd",
   "metadata": {},
   "outputs": [],
   "source": [
    "corr = df.loc[\n",
    "    :,\n",
    "    [\n",
    "        \"danceability\",\n",
    "        \"energy\",\n",
    "        \"speechiness\",\n",
    "        \"acousticness\",\n",
    "        \"instrumentalness\",\n",
    "        \"valence\",    ],\n",
    "].corr()\n",
    "px.imshow(corr)"
   ]
  },
  {
   "cell_type": "markdown",
   "id": "d078ae00",
   "metadata": {
    "tags": []
   },
   "source": [
    "---\n",
    "\n",
    "## Preparando los Datos"
   ]
  },
  {
   "cell_type": "markdown",
   "id": "03576d71",
   "metadata": {},
   "source": [
    "Para este clase usaremos los siguientes atributos:"
   ]
  },
  {
   "cell_type": "code",
   "execution_count": null,
   "id": "0fd2833a",
   "metadata": {},
   "outputs": [],
   "source": [
    "df_ = df.loc[\n",
    "    :,\n",
    "    [\n",
    "        \"danceability\",\n",
    "        \"energy\",\n",
    "        \"speechiness\",\n",
    "        \"acousticness\",\n",
    "        \"instrumentalness\",\n",
    "        \"valence\",\n",
    "        \"liveness\",\n",
    "        \"duration_ms\",\n",
    "        \"loudness\",\n",
    "        \"tempo\",\n",
    "        \"name\",\n",
    "        \"genre\",\n",
    "    ],\n",
    "]\n",
    "\n",
    "df_"
   ]
  },
  {
   "cell_type": "code",
   "execution_count": null,
   "id": "37069c98",
   "metadata": {},
   "outputs": [],
   "source": [
    "df_.describe()"
   ]
  },
  {
   "cell_type": "markdown",
   "id": "dff4939f",
   "metadata": {
    "tags": []
   },
   "source": [
    "### `MinMaxScaler`"
   ]
  },
  {
   "cell_type": "code",
   "execution_count": null,
   "id": "2151871d",
   "metadata": {},
   "outputs": [],
   "source": [
    "from sklearn.compose import ColumnTransformer\n",
    "from sklearn.pipeline import Pipeline\n",
    "from sklearn.preprocessing import MinMaxScaler\n",
    "\n",
    "ct = ColumnTransformer(\n",
    "  transformers = [\n",
    "\t\t(\n",
    "\t\t\t\"MinMax\", \n",
    "\t\t\tMinMaxScaler(),\n",
    "\t\t\t[\"duration_ms\", \"loudness\", \"tempo\"]\n",
    "\t\t)\n",
    "\t], \n",
    "  remainder=\"passthrough\"\n",
    ")\n",
    "\n",
    "\n",
    "pipe = Pipeline(\n",
    "\tsteps = [\n",
    "\t\t(\"Preprocesamiento\", ct)\n",
    "\t]\n",
    ")"
   ]
  },
  {
   "cell_type": "code",
   "execution_count": null,
   "id": "e6288880",
   "metadata": {},
   "outputs": [],
   "source": [
    "features_to_scale = df_.iloc[:, :-2]  # eliminar nombre y género"
   ]
  },
  {
   "cell_type": "code",
   "execution_count": null,
   "id": "416c6808",
   "metadata": {},
   "outputs": [],
   "source": [
    "# transformamos el resultado de la transformación a un dataframe:\n",
    "scaled_features = pd.DataFrame(\n",
    "  pipe.fit_transform(features_to_scale), \n",
    "  columns=features_to_scale.columns\n",
    ")\n",
    "\n",
    "scaled_features"
   ]
  },
  {
   "cell_type": "code",
   "execution_count": null,
   "id": "aeb37970",
   "metadata": {},
   "outputs": [],
   "source": [
    "scaled_features.describe()"
   ]
  },
  {
   "cell_type": "markdown",
   "id": "67982fa0",
   "metadata": {},
   "source": [
    "---\n",
    "\n",
    "## `UMAP` - Proyectamos con UMAP"
   ]
  },
  {
   "cell_type": "code",
   "execution_count": null,
   "id": "85156aff",
   "metadata": {},
   "outputs": [],
   "source": [
    "from umap import UMAP\n",
    "\n",
    "proyector = UMAP(\n",
    "    random_state=88,\n",
    "    n_neighbors=20,\n",
    "    min_dist=0.15,\n",
    "    n_components=2\n",
    ")\n",
    "\n",
    "projections = proyector.fit_transform(scaled_features)"
   ]
  },
  {
   "cell_type": "code",
   "execution_count": null,
   "id": "cf71c542-ca99-4ed1-8967-502d954738cb",
   "metadata": {},
   "outputs": [],
   "source": [
    "projections.shape"
   ]
  },
  {
   "cell_type": "code",
   "execution_count": null,
   "id": "1c52afe4",
   "metadata": {},
   "outputs": [],
   "source": [
    "# este dataframe lo estaremos usando para graficar de aquí en adelante\n",
    "fig_df = pd.concat(\n",
    "    [\n",
    "        df.loc[:, [\"name\", \"artist\", \"genre\"]],\n",
    "        scaled_features,\n",
    "        pd.DataFrame(projections, columns=[\"x\", \"y\"]),\n",
    "    ],\n",
    "    axis=1,\n",
    ")\n",
    "\n",
    "fig_df"
   ]
  },
  {
   "cell_type": "code",
   "execution_count": null,
   "id": "558b53d1",
   "metadata": {},
   "outputs": [],
   "source": [
    "def get_scatter(fig_df, color_col):\n",
    "    fig = px.scatter(\n",
    "        fig_df,\n",
    "        x=\"x\",\n",
    "        y=\"y\",\n",
    "        color=color_col,\n",
    "        hover_name=df[\"artist\"] + \" - \" + df[\"name\"],\n",
    "        # labels={\"genre\": \"Género Musical\"},\n",
    "        hover_data=[\n",
    "            \"danceability\",\n",
    "            \"energy\",\n",
    "            \"speechiness\",\n",
    "            \"acousticness\",\n",
    "            \"instrumentalness\",\n",
    "            \"valence\",\n",
    "            'duration_ms',\n",
    "            'loudness',\n",
    "            'tempo',\n",
    "            'genre'\n",
    "        ],\n",
    "        range_x=(fig_df[\"x\"].min() - 1, fig_df[\"x\"].max() + 1),\n",
    "        range_y=(fig_df[\"y\"].min() - 1, fig_df[\"y\"].max() + 1),\n",
    "    )\n",
    "    return fig\n",
    "\n",
    "\n",
    "get_scatter(fig_df, \"genre\")"
   ]
  },
  {
   "cell_type": "markdown",
   "id": "bec67544",
   "metadata": {},
   "source": [
    "---\n",
    "\n",
    "**Aquí empezamos clustering**"
   ]
  },
  {
   "cell_type": "markdown",
   "id": "7e3f5af0",
   "metadata": {},
   "source": [
    "### K-Means\n",
    "\n",
    "Técnica de clustering de tipo particional.\n",
    "\n",
    "Encuentra centros de clusters que minimizan la suma de distancias entre los datos y el centro de cada cluster.\n",
    "\n",
    "Algoritmo:\n",
    "\n",
    "---\n",
    "\n",
    "\n",
    "    Seleccionar K centroides iniciales.\n",
    "    repite: \n",
    "        Asigna todos los puntos a sus centros más cercanos.\n",
    "        Recomputa los centros de cada cluster.\n",
    "    hasta que los centros no cambien.\n",
    "\n",
    "---\n",
    "*Hasta que los centros no cambian* equivale a minimizar la suma de errores cuadrados SSE:\n",
    "\n",
    "$$SSE = \\sum_{i=1}^{K} \\sum_{x\\in C_i} d(c_i, x)^2 $$\n",
    "\n",
    "Comunmente la función de distancia $d$ es la distancia euclideana $d(x,y) = \\sqrt{\\sum_{i}(x_i, y_i)^2}$ .\n",
    "\n",
    "<div align='center'>\n",
    "\n",
    "<img src='https://github.com/MDS7202/MDS7202/blob/main/recursos/2023-01/17-Clustering/kmeans_example.png?raw=true' width=500/>\n",
    "</div>\n",
    "\n",
    "\n",
    "> **Pregunta**: ¿Qué sucede si se eligen mal los centroides iniciales?"
   ]
  },
  {
   "cell_type": "code",
   "execution_count": null,
   "id": "31b2fbe3",
   "metadata": {},
   "outputs": [],
   "source": [
    "# Random State permite controlar la aleatoridad.\n",
    "# Es decir, permite generar los mismos números aleatorios en distintas ejecuciones.\n",
    "RANDOM_STATE = 99"
   ]
  },
  {
   "cell_type": "code",
   "execution_count": null,
   "id": "8f8fcb88",
   "metadata": {},
   "outputs": [],
   "source": [
    "from sklearn.cluster import KMeans\n",
    "\n",
    "# El número de clusters es parámetro. En este caso, es 2.\n",
    "kmeans = (\n",
    " KMeans(\n",
    "    n_clusters=2, \n",
    "    random_state=RANDOM_STATE,\n",
    "    n_init=10,\n",
    " )\n",
    " .fit(scaled_features)\n",
    ")\n",
    "\n",
    "labels = kmeans.labels_"
   ]
  },
  {
   "cell_type": "markdown",
   "id": "b1fa57ee",
   "metadata": {},
   "source": [
    "Podemos acceder a los centroides calculados."
   ]
  },
  {
   "cell_type": "code",
   "execution_count": null,
   "id": "af230e32",
   "metadata": {},
   "outputs": [],
   "source": [
    "# Clusters calculados por cada observación de entrenamiento\n",
    "labels"
   ]
  },
  {
   "cell_type": "code",
   "execution_count": null,
   "id": "8a9722be",
   "metadata": {
    "scrolled": true,
    "tags": []
   },
   "outputs": [],
   "source": [
    "# Centroides calculados.\n",
    "kmeans.cluster_centers_"
   ]
  },
  {
   "cell_type": "code",
   "execution_count": null,
   "id": "c08542b7",
   "metadata": {},
   "outputs": [],
   "source": [
    "# También podemos acceder a la suma de errores cuadráticos (llamada inercia en scikit)\n",
    "kmeans.inertia_"
   ]
  },
  {
   "cell_type": "code",
   "execution_count": null,
   "id": "8b12247f",
   "metadata": {},
   "outputs": [],
   "source": [
    "# Cuantas features utilizó\n",
    "kmeans.n_features_in_"
   ]
  },
  {
   "cell_type": "code",
   "execution_count": null,
   "id": "37f12e14",
   "metadata": {},
   "outputs": [],
   "source": [
    "fig_df[\"kmeans_labels_2\"] = kmeans.labels_\n",
    "fig = get_scatter(fig_df, \"kmeans_labels_2\")\n",
    "\n",
    "# Transformamos los centro que vimos anteriormentes a la proyección 2d.\n",
    "projected_centers = proyector.transform(kmeans.cluster_centers_)\n",
    "\n",
    "fig.add_trace(\n",
    "    go.Scatter(\n",
    "        x=projected_centers[:, 0],\n",
    "        y=projected_centers[:, 1],\n",
    "        mode=\"markers\",\n",
    "        # name=\"Centros\",\n",
    "        marker_size=12,\n",
    "        marker_color=\"LightSlateGray\",\n",
    "        showlegend=False,\n",
    "    )\n",
    ")"
   ]
  },
  {
   "cell_type": "code",
   "execution_count": null,
   "id": "d0d4a1a6",
   "metadata": {},
   "outputs": [],
   "source": [
    "kmeans = (\n",
    "    KMeans(\n",
    "        n_clusters=5,\n",
    "        random_state=RANDOM_STATE, \n",
    "        n_init='auto'\n",
    "\t\t).fit(scaled_features)\n",
    ")\n",
    "labels = kmeans.labels_\n",
    "\n",
    "\n",
    "fig_df[\"kmeans_labels_5\"] = kmeans.labels_\n",
    "fig = get_scatter(fig_df, \"kmeans_labels_5\")"
   ]
  },
  {
   "cell_type": "code",
   "execution_count": null,
   "id": "d782281f",
   "metadata": {},
   "outputs": [],
   "source": [
    "# Transformamos los centro que vimos anteriormentes a la proyección 2d.\n",
    "centros_pryectados = proyector.transform(kmeans.cluster_centers_)\n",
    "\n",
    "fig = get_scatter(fig_df, \"kmeans_labels_5\")\n",
    "fig.add_trace(\n",
    "    go.Scatter(\n",
    "        x=centros_pryectados[:, 0],\n",
    "        y=centros_pryectados[:, 1],\n",
    "        mode=\"markers\",\n",
    "        name=\"Centros\",\n",
    "        marker_size=12,\n",
    "        marker_color=\"red\",\n",
    "        showlegend=False,\n",
    "    )\n",
    ")"
   ]
  },
  {
   "cell_type": "markdown",
   "id": "6060152e",
   "metadata": {},
   "source": [
    "> **Pregunta:** ¿Cómo identificamos la cantidad de cluster óptimos?"
   ]
  },
  {
   "cell_type": "markdown",
   "id": "d3fa1ebc",
   "metadata": {},
   "source": [
    "\n",
    "### Método del Codo\n",
    "\n",
    "\n",
    "\n",
    "![Método del Codo](https://github.com/MDS7202/MDS7202/blob/main/recursos/2023-01/17-Clustering/elbow.png?raw=true)"
   ]
  },
  {
   "cell_type": "code",
   "execution_count": null,
   "id": "fbc4d392",
   "metadata": {},
   "outputs": [],
   "source": [
    "intertias = [\n",
    "    [i, KMeans(n_clusters=i, random_state=0, n_init='auto').fit(scaled_features).inertia_]\n",
    "    for i in range(2, 20)\n",
    "]\n",
    "\n",
    "intertias = pd.DataFrame(intertias, columns=[\"n° clusters\", \"inertia\"])\n",
    "intertias.head(10)"
   ]
  },
  {
   "cell_type": "code",
   "execution_count": null,
   "id": "2de14123",
   "metadata": {},
   "outputs": [],
   "source": [
    "px.line(\n",
    "    intertias,\n",
    "    x=\"n° clusters\",\n",
    "    y=\"inertia\",\n",
    "    title=\"Método del Codo con K-Means\",\n",
    "    height=600,\n",
    ")"
   ]
  },
  {
   "cell_type": "markdown",
   "id": "cb7b3a43",
   "metadata": {},
   "source": [
    "**Alternativa: Coeficiente de Silohuette**\n",
    "\n",
    "\n",
    "El valor de la silueta es una medida de cuán similar es un objeto respecto a su propio cluster en comparación con los otros.  \n",
    "\n",
    "\n",
    "Por cada elemento se calcula: \n",
    "\n",
    "$$s = \\frac{b-a}{\\max(a,b)}$$\n",
    "\n",
    "donde: \n",
    "\n",
    "- $a$ es el promedio de las distancias entre el elemento y todos los otros elementos del cluster al cual el elemento analizado fue etiquetado.\n",
    "- $b$ es la distancia promedio entre el elemento y todos los otros elementos del cluster más cercano.\n",
    "\n",
    "La silueta va de -1 a +1 donde \n",
    "- un valor cercano a 1: indica que el objeto está bien clusterizado\n",
    "- cercano a 0: indica que el elemento está entre dos clusters\n",
    "- cercano a $-1$: indica que el elemento está mal asignado. \n",
    "\n",
    "Si la mayoría de los objetos tienen un valor alto, entonces podemos decir que los elementos del cluster están bien asignados.\n",
    "\n",
    "Por último, el coeficiente de silueta se calcula al promediar todos los coeficientes individuales."
   ]
  },
  {
   "cell_type": "code",
   "execution_count": null,
   "id": "673ad6b8",
   "metadata": {},
   "outputs": [],
   "source": [
    "from sklearn.metrics import silhouette_score\n",
    "\n",
    "scores = [\n",
    "    [\n",
    "        i,\n",
    "        silhouette_score(\n",
    "            scaled_features,\n",
    "            KMeans(n_clusters=i, random_state=RANDOM_STATE, n_init='auto').fit(scaled_features).labels_,\n",
    "        ),\n",
    "    ]\n",
    "    for i in range(2, 20)\n",
    "]\n",
    "\n",
    "scores = pd.DataFrame(scores, columns=[\"n° clusters\", \"silhouette_score\"])\n",
    "scores.head(10)"
   ]
  },
  {
   "cell_type": "code",
   "execution_count": null,
   "id": "e11786b0",
   "metadata": {},
   "outputs": [],
   "source": [
    "px.line(scores, x=\"n° clusters\", y=\"silhouette_score\")"
   ]
  },
  {
   "cell_type": "markdown",
   "id": "7bdd9780",
   "metadata": {},
   "source": [
    "**Más opciones:**\n",
    "\n",
    "https://medium.com/@haataa/how-to-measure-clustering-performances-when-there-are-no-ground-truth-db027e9a871c"
   ]
  },
  {
   "cell_type": "markdown",
   "id": "aaaf3d92-72f7-4499-8e93-8cfa4583e1a3",
   "metadata": {},
   "source": [
    "> **Pregunta ❓**: ¿Podría usar k-means con datos categóricos?"
   ]
  },
  {
   "cell_type": "markdown",
   "id": "a0efed18-c5ab-4fe8-95a3-e1552df4ce67",
   "metadata": {},
   "source": [
    "En general, los algoritmos de clustering tradicionales están diseñados para trabajar con datos numéricos y utilizan medidas de distancia, como la euclidiana, para determinar la similitud entre los puntos de datos. Sin embargo, aplicar estas técnicas directamente a datos categóricos puede ser inapropiado, ya que la distancia euclidiana pierde su significado cuando se trata de atributos que no son numéricos. Esto puede llevar a interpretaciones erróneas y resultados de clustering no fiables. Es crucial seleccionar algoritmos, como k-modes, que estén específicamente adaptados para manejar datos categóricos y que utilicen métricas de disimilitud adecuadas para este tipo de información."
   ]
  },
  {
   "cell_type": "markdown",
   "id": "038c5a8f-8cb2-4b41-a3ff-717f54185afa",
   "metadata": {},
   "source": [
    "<div align='center'>\n",
    "<img src=../../recursos/2025-01/imagenes_clase_6/distancia_euclidiana.png width=300 />\n",
    "</div>"
   ]
  },
  {
   "cell_type": "markdown",
   "id": "614d607a-234a-4636-aedf-5bfe072296b4",
   "metadata": {},
   "source": [
    "Una forma de solucionar este problema es utilizando [kmodes](https://pypi.org/project/kmodes). Esto se da, gracias a que el algoritmo de k-modes maneja eficientemente los datos categóricos mediante el uso de una medida de disimilitud de coincidencia simple, la que evalúa cuán diferentes son los puntos de datos basándose en las categorías que no comparten. A diferencia del algoritmo k-means, que calcula los centros de los clústeres promediando, k-modes determina los centros de los clústeres usando modas, es decir, las categorías más frecuentes en el clúster. Durante el proceso de agrupamiento, k-modes emplea un método basado en la frecuencia para actualizar estas modas. Este enfoque tiene como objetivo minimizar la función de costo de agrupamiento, mejorando la efectividad y precisión general del agrupamiento."
   ]
  },
  {
   "cell_type": "markdown",
   "id": "60f66cf0-6e8f-4eb2-9d5d-5150ef8ef63d",
   "metadata": {},
   "source": [
    "<div align='center'>\n",
    "<img src=../../recursos/2025-01/imagenes_clase_6/kmode.png width=800 />\n",
    "</div>"
   ]
  },
  {
   "cell_type": "markdown",
   "id": "1fec0517",
   "metadata": {},
   "source": [
    "---\n",
    "\n",
    "\n",
    "## `DBSCAN`\n",
    "\t\n",
    "\n",
    "Algoritmo de clustering basado en densidad. Ideal para buscar outliers.\n",
    "\n",
    "- Densidad: Número de puntos en un círculo.\n",
    "- Idea: Regiones densas representan clusters.\n",
    "\n",
    "Parámetros: \n",
    "\n",
    "- `Eps`: radio de los círculos\n",
    "- `MinPts`: número mínimo de puntos de una región.\n",
    "\n",
    "\n",
    "- Es comunmente resistente al ruido.\n",
    "- Problemas en regiones con distintas densidades.\n",
    "\n",
    "Tipos de puntos:\n",
    "- **Punto núcleo**: tiene al menos `min_samples` dentro de su `eps`. Es considerado un punto denso.\n",
    "- **Punto frontera**: tiene menos de `min_samples` dentro de su vecindario, pero está cerca de un núcleo. Está conectado, pero no forma parte del núcleo.\n",
    "- **Punto ruido**: no es núcleo ni frontera, por lo tanto se considera un punto aislado (outlier).\n"
   ]
  },
  {
   "cell_type": "markdown",
   "id": "a3d473f6",
   "metadata": {},
   "source": [
    "<div align='center'>\n",
    "<img src=../../recursos/2025-01/6-Clustering/dbscan.png width=800 />\n",
    "</div>"
   ]
  },
  {
   "cell_type": "code",
   "execution_count": null,
   "id": "466a2db3",
   "metadata": {},
   "outputs": [],
   "source": [
    "from sklearn.cluster import DBSCAN\n",
    "\n",
    "dbscan = DBSCAN(eps=0.3, min_samples=3)\n",
    "dbscan.fit(scaled_features)\n",
    "\n",
    "fig_df[\"dbscan\"] = pd.Series(dbscan.labels_, dtype=str)\n",
    "\n",
    "get_scatter(fig_df, \"dbscan\")"
   ]
  },
  {
   "cell_type": "markdown",
   "id": "9a9a2634",
   "metadata": {},
   "source": [
    "### Visualizando el parámetro eps"
   ]
  },
  {
   "cell_type": "code",
   "execution_count": null,
   "id": "ca91e3b8",
   "metadata": {},
   "outputs": [],
   "source": [
    "import numpy as np\n",
    "\n",
    "epss = np.arange(0.1, 1, 0.2)\n",
    "epss"
   ]
  },
  {
   "cell_type": "code",
   "execution_count": null,
   "id": "a4be509e",
   "metadata": {},
   "outputs": [],
   "source": [
    "clustering = [\n",
    "    DBSCAN(eps=eps, min_samples=2).fit_predict(scaled_features) for eps in epss\n",
    "]\n",
    "\n",
    "dbscan_labels = pd.DataFrame(np.array(clustering)).T\n",
    "dbscan_labels.columns = np.round(epss, 3)\n",
    "\n",
    "dbscan_labels[\"x\"] = projections[:, 0]\n",
    "dbscan_labels[\"y\"] = projections[:, 1]\n",
    "\n",
    "dbscan_labels = dbscan_labels.melt(\n",
    "    id_vars=[\"x\", \"y\"], var_name=\"eps\", value_name=\"label\"\n",
    ")\n",
    "dbscan_labels[\"label\"] = dbscan_labels[\"label\"].astype(str)\n",
    "dbscan_labels.sample(10)"
   ]
  },
  {
   "cell_type": "code",
   "execution_count": null,
   "id": "db1b5897",
   "metadata": {},
   "outputs": [],
   "source": [
    "fig = px.scatter(\n",
    "    dbscan_labels,\n",
    "    x=\"x\",\n",
    "    y=\"y\",\n",
    "    facet_row=\"eps\",\n",
    "    color=\"label\",\n",
    "    height=1600,\n",
    ")\n",
    "fig.show()"
   ]
  },
  {
   "cell_type": "code",
   "execution_count": null,
   "id": "250c8c9c",
   "metadata": {},
   "outputs": [],
   "source": [
    "dbscan_labels.loc[dbscan_labels['eps'] == 0.3, 'label'].value_counts()"
   ]
  },
  {
   "cell_type": "code",
   "execution_count": null,
   "id": "3f557ae0",
   "metadata": {},
   "outputs": [],
   "source": [
    "from sklearn.neighbors import NearestNeighbors\n",
    "import numpy as np\n",
    "import matplotlib.pyplot as plt\n",
    "\n",
    "neighbors = NearestNeighbors(n_neighbors=2).fit(scaled_features)\n",
    "distances, indices = neighbors.kneighbors(scaled_features)\n",
    "distances = np.sort(distances[:, 1])\n",
    "plt.plot(distances)\n",
    "plt.title(\"Gráfico de k-distancias\")\n",
    "plt.xlabel(\"Puntos ordenados\")\n",
    "plt.ylabel(\"Distancia al 2º vecino\")\n",
    "plt.grid(True)\n",
    "plt.show()"
   ]
  },
  {
   "cell_type": "markdown",
   "id": "883c6785",
   "metadata": {
    "tags": []
   },
   "source": [
    "---\n",
    "\n",
    "## Clustering Jerárquico\n",
    "</br>\n",
    "<div align='center'>\n",
    "<img src='https://github.com/MDS7202/MDS7202/blob/main/recursos/2023-01/17-Clustering/clustering_jerarquico.png?raw=true' width=400 />\n",
    "</div>\n",
    "\n",
    "> **Pregunta**: ¿Cómo los agrupamos?\n",
    "\n",
    "Requieren que exista una **definición de distancia** entre los elementos que se desean agrupar.\n",
    "\n",
    "<div align='center'>\n",
    "<img src='https://github.com/MDS7202/MDS7202/blob/main/recursos/2023-01/17-Clustering/matriz_distancias.png?raw=true' width=800 />\n",
    "</div>\n"
   ]
  },
  {
   "cell_type": "markdown",
   "id": "d12b6e02",
   "metadata": {},
   "source": [
    "### Tipos\n",
    "\n",
    "#### Aglomerativo\n",
    "\n",
    "- Empezar con cada punto como cluster individual.\n",
    "- En cada paso, mezclar el par de clusters más cercano hasta que quede sólo un cluster (o k clusters).\n",
    "\n",
    "#### Divisivo\n",
    "\n",
    "- Empezar con un cluster que contenga todos los puntos\n",
    "- En cada paso, dividir un cluster en dos hasta que todo cluster contenga un solo punto (o haya k clusters).\n",
    "\n"
   ]
  },
  {
   "cell_type": "markdown",
   "id": "d53a61a4",
   "metadata": {},
   "source": [
    "\n",
    "### Algortimo básico Aglomerativo\n",
    "\n",
    "\n",
    "---\n",
    "\n",
    "    Partimos con que cada punto es cluster por separado.\n",
    "    Calculamos la matriz de distancias.\n",
    "    Repetimos :\n",
    "      Unimos los puntos/clusters (usando la matriz de distancias) en un solo cluster según algún criterio/enlace.\n",
    "\t  Se recalcula la matriz de distancia.\n",
    "    hasta que ya no podamos unir nada más.\n",
    "---"
   ]
  },
  {
   "cell_type": "markdown",
   "id": "76fb7ee2",
   "metadata": {},
   "source": [
    "\n",
    "### Tipos de Enlaces entre Clusters\n",
    "\n",
    "\n",
    "El enlace determina como se irán uniendo los distintos clusters que se irán generando. Existen varias opciones: \n",
    "\n",
    "- **Máx - Enlace Completo** (`complete`): Va uniendo puntos/clusters más lejanos.\n",
    "\n",
    "\n",
    "- **Min - Enlace Simple** (`simple`): Va uniendo puntos/clusters más cercanos.\n",
    "\n",
    "\n",
    "- **Promedio entre grupos** (`average`): Va uniendo según el promedio de la distancia de todos contra todos\n",
    "\n",
    "\n",
    "- **Ward (`ward`)**: Va uniendo al minimizar la suma de las diferencias cuadradas entre cluster. Muy similar a lo que hace K-Means.\n",
    "\n",
    "\n",
    "La opción elegida puede provocar variaciones gigantezcas entre los clusters producidos."
   ]
  },
  {
   "cell_type": "code",
   "execution_count": null,
   "id": "e9c42488",
   "metadata": {},
   "outputs": [],
   "source": [
    "import numpy as np\n",
    "import plotly.figure_factory as ff\n",
    "from scipy.cluster.hierarchy import average, complete, single, ward\n",
    "from sklearn.cluster import AgglomerativeClustering"
   ]
  },
  {
   "cell_type": "markdown",
   "id": "654b8efa",
   "metadata": {},
   "source": [
    "#### Máx - Enlace Completo (`complete`)\n",
    "    \n",
    "<div align='center'>\n",
    "<img src='https://github.com/MDS7202/MDS7202/blob/main/recursos/2023-01/17-Clustering/agglomerative_max.png?raw=true' width=400 />\n",
    "</div>\n",
    "    \n",
    "$$\\max\\{(d(x,y): x \\in A, y \\in B)\\}$$  \n",
    "    \n",
    "    \n",
    "- Solo se agrupan dos clusters si todos sus puntos están suficientemente cerca entre sí.\n",
    "- Produce clusters esféricos, bien separados, y menos sensibles a outliers."
   ]
  },
  {
   "cell_type": "code",
   "execution_count": null,
   "id": "692a0efd",
   "metadata": {},
   "outputs": [],
   "source": [
    "sample = scaled_features.sample(20, random_state=RANDOM_STATE)\n",
    "sample"
   ]
  },
  {
   "cell_type": "code",
   "execution_count": null,
   "id": "8dc46ad5",
   "metadata": {},
   "outputs": [],
   "source": [
    "# plot the top three levels of the dendrogram\n",
    "ff.create_dendrogram(\n",
    "    sample,\n",
    "    labels=(\n",
    "        df.loc[sample.index, \"artist\"] + \" - \" + df.loc[sample.index, \"name\"]\n",
    "    ).values,\n",
    "    linkagefun=complete,\n",
    "    orientation=\"left\",\n",
    "    color_threshold=1.5,\n",
    ").update_layout(width=1000, height=800)"
   ]
  },
  {
   "cell_type": "code",
   "execution_count": null,
   "id": "4a38741e",
   "metadata": {},
   "outputs": [],
   "source": [
    "model = AgglomerativeClustering(n_clusters=5, linkage=\"complete\")\n",
    "labels = model.fit_predict(scaled_features)\n",
    "\n",
    "fig_df[\"ag_complete\"] = pd.Series(model.labels_, dtype=str)\n",
    "\n",
    "get_scatter(fig_df, \"ag_complete\")"
   ]
  },
  {
   "cell_type": "code",
   "execution_count": null,
   "id": "db6a50aa",
   "metadata": {},
   "outputs": [],
   "source": [
    "pd.Series(model.labels_, dtype=str).value_counts()"
   ]
  },
  {
   "cell_type": "markdown",
   "id": "76f9762b",
   "metadata": {},
   "source": [
    "#### Mín - Enlace Simple (`single`)\n",
    "\n",
    "<div align='center'>\n",
    "<img src='https://github.com/MDS7202/MDS7202/blob/main/recursos/2023-01/17-Clustering/agglomerative_min.png?raw=true' width=400 />\n",
    "</div>\n",
    "\n",
    "$$\\min\\{(d(x,y): x \\in A, y \\in B)\\}$$  \n",
    "\n",
    "\n",
    "- Agrupa puntos uno por uno a lo largo del camino más corto.\n",
    "- Resulta en clusters muy alargados.\n",
    "- Es muy sensible al ruido o a “puentes” de puntos intermedios.\n",
    "\n"
   ]
  },
  {
   "cell_type": "code",
   "execution_count": null,
   "id": "70f99824",
   "metadata": {},
   "outputs": [],
   "source": [
    "# plot the top three levels of the dendrogram\n",
    "ff.create_dendrogram(\n",
    "    sample,\n",
    "    labels=(\n",
    "        df.loc[sample.index, \"artist\"] + \" - \" + df.loc[sample.index, \"name\"]\n",
    "    ).values,\n",
    "    linkagefun=single,\n",
    "    orientation=\"left\",\n",
    "    color_threshold=0.4,\n",
    ").update_layout(width=1000, height=800)"
   ]
  },
  {
   "cell_type": "code",
   "execution_count": null,
   "id": "e43a5808",
   "metadata": {},
   "outputs": [],
   "source": [
    "model = AgglomerativeClustering(n_clusters=5, linkage=\"single\")\n",
    "labels = model.fit_predict(scaled_features)\n",
    "\n",
    "\n",
    "fig_df[\"ag_single\"] = pd.Series(model.labels_, dtype=str)\n",
    "get_scatter(fig_df, \"ag_single\")"
   ]
  },
  {
   "cell_type": "code",
   "execution_count": null,
   "id": "8b972f93",
   "metadata": {},
   "outputs": [],
   "source": [
    "pd.Series(model.labels_, dtype=str).value_counts()"
   ]
  },
  {
   "cell_type": "markdown",
   "id": "f39b8819",
   "metadata": {},
   "source": [
    "#### Promedio (`average`)\n",
    "\n",
    "<div align='center'>\n",
    "<img src='https://github.com/MDS7202/MDS7202/blob/main/recursos/2023-01/17-Clustering/agglomerative_mean.png?raw=true' width=400 />\n",
    "</div>\n",
    "\n",
    "\n",
    "- Usa la distancia promedio entre todos los puntos de dos clusters.\n",
    "- No es tan estricto como complete ni tan flexible como single.\n",
    "- Produce resultados más balanceados, pero puede ser más lento."
   ]
  },
  {
   "cell_type": "code",
   "execution_count": null,
   "id": "9198f9fe",
   "metadata": {},
   "outputs": [],
   "source": [
    "# plot the top three levels of the dendrogram\n",
    "ff.create_dendrogram(\n",
    "    sample,\n",
    "    labels=(\n",
    "        df.loc[sample.index, \"artist\"] + \" - \" + df.loc[sample.index, \"name\"]\n",
    "    ).values,\n",
    "    linkagefun=average,\n",
    "    orientation=\"left\",\n",
    "    color_threshold=0.8,\n",
    ").update_layout(width=1000, height=800)"
   ]
  },
  {
   "cell_type": "code",
   "execution_count": null,
   "id": "940911cb",
   "metadata": {},
   "outputs": [],
   "source": [
    "model = AgglomerativeClustering(n_clusters=5, linkage=\"average\")\n",
    "labels = model.fit_predict(scaled_features)\n",
    "\n",
    "fig_df[\"ag_average\"] = pd.Series(model.labels_, dtype=str)\n",
    "get_scatter(fig_df, \"ag_average\")"
   ]
  },
  {
   "cell_type": "code",
   "execution_count": null,
   "id": "812d41be",
   "metadata": {},
   "outputs": [],
   "source": [
    "pd.Series(model.labels_, dtype=str).value_counts()"
   ]
  },
  {
   "cell_type": "markdown",
   "id": "a7a3165d",
   "metadata": {},
   "source": [
    "#### Ward (`ward`)\n",
    "\n",
    "$$Distancia(Ci,Cj)=SSE(Ci∪Cj)−SSE(Ci)−SSE(Cj)$$\n",
    "    \n",
    "\n",
    "Busca minimizar el incremento del SSE cuando se mezclan dos clusters\n"
   ]
  },
  {
   "cell_type": "code",
   "execution_count": null,
   "id": "aa0fd4e1",
   "metadata": {},
   "outputs": [],
   "source": [
    "# plot the top three levels of the dendrogram\n",
    "ff.create_dendrogram(\n",
    "    sample,\n",
    "    labels=(\n",
    "        df.loc[sample.index, \"artist\"] + \" - \" + df.loc[sample.index, \"name\"]\n",
    "    ).values,\n",
    "    linkagefun=ward,\n",
    "    orientation=\"left\",\n",
    "    color_threshold=0.8,\n",
    ").update_layout(width=1000, height=800)"
   ]
  },
  {
   "cell_type": "code",
   "execution_count": null,
   "id": "71a69c50",
   "metadata": {},
   "outputs": [],
   "source": [
    "model = AgglomerativeClustering(n_clusters=5, linkage=\"ward\")\n",
    "labels = model.fit_predict(scaled_features)\n",
    "\n",
    "fig_df[\"ag_ward\"] = pd.Series(model.labels_, dtype=str)\n",
    "get_scatter(fig_df, \"ag_ward\")"
   ]
  },
  {
   "cell_type": "code",
   "execution_count": null,
   "id": "c475a296",
   "metadata": {},
   "outputs": [],
   "source": [
    "pd.Series(model.labels_, dtype=str).value_counts()"
   ]
  },
  {
   "cell_type": "markdown",
   "id": "af93cb2a",
   "metadata": {},
   "source": [
    "### Resumen clustering jerárquicos\n",
    "\n",
    "Ventajas: \n",
    "    \n",
    "- No hay que suponer a priori el número de clases.\n",
    "- Podemos escoger el número de clusters cortando el dendograma. \n",
    "\n",
    "\n",
    "Desventajas:\n",
    "\n",
    "- No hay función objetivo por minimizar.\n",
    "- Diferentes esquemas presentan diferentes problemas."
   ]
  },
  {
   "cell_type": "markdown",
   "id": "18ed64e7-08f4-4071-b391-145ee5bbc256",
   "metadata": {},
   "source": [
    "## Gaussian Mixture"
   ]
  },
  {
   "cell_type": "markdown",
   "id": "793f4ebb-8a45-4677-a2d0-73a13ba01d1f",
   "metadata": {},
   "source": [
    "<center>\n",
    "<img src=\"../2024-01/imagenes_clase_12/gaussian-mixture-models-1.png\" width=300 />\n",
    "<center>\n",
    "<img src=\"../2024-01/imagenes_clase_12/kmeans_vs_gmm_2.png\" width=300 />"
   ]
  },
  {
   "cell_type": "markdown",
   "id": "406b42b4-f319-4795-bd30-b6075690d1c4",
   "metadata": {},
   "source": [
    "Un Modelo de Mezclas Gaussianas (GMM) es un modelo probabilístico que asume que todos los datos generados provienen de una combinación de varias distribuciones gaussianas (normales) con parámetros desconocidos. Es utilizado ampliamente en tareas de clustering debido a su capacidad para modelar clústeres que tienen formas elipsoidales y diferentes tamaños. \n",
    "\n",
    "> En esencia, un GMM intenta estimar las medias y las covarianzas de las distribuciones gaussianas que mejor describen los datos, y asigna probabilidades de pertenencia a cada clúster para cada punto del dataset."
   ]
  },
  {
   "cell_type": "markdown",
   "id": "21c9dd33",
   "metadata": {},
   "source": [
    "Entonces un GMM modela la función de densidad conjunta como una suma ponderada de $K$ gaussianas multivariadas:\n",
    "\n",
    "$$p(x)= \\sum_{k=1}^K \\pi_k \\cdot \\mathcal{N}(x \\mid \\mu_k, \\Sigma_k)$$"
   ]
  },
  {
   "cell_type": "markdown",
   "id": "762bf7b4-27aa-4430-a304-105270c396b0",
   "metadata": {},
   "source": [
    "Cada componente en el GMM tiene tres parámetros principales:\n",
    "\n",
    "- Media (μ): El centro del clúster.\n",
    "- Covarianza (Σ): Define la forma y orientación del clúster.\n",
    "- Peso (π): el peso de un cluster."
   ]
  },
  {
   "cell_type": "markdown",
   "id": "1b2c0aad-9f21-43b0-a833-741581f2a0a9",
   "metadata": {},
   "source": [
    "Algoritmo Expectation-Maximization (EM)\n",
    "\n",
    "Para ajustar un GMM a los datos, se utiliza el algoritmo Expectation-Maximization (EM), que es un enfoque iterativo para encontrar estimadores de máxima verosimilitud de parámetros en modelos estadísticos dependientes de variables latentes. El EM alterna entre dos pasos:\n",
    "\n",
    "- Expectation (E): Calcula la probabilidad de que cada observación pertenezca a cada clúster, basado en los parámetros actuales de las distribuciones gaussianas.\n",
    "- Maximization (M): Actualiza los parámetros de las distribuciones (medias, covarianzas, pesos) para maximizar la verosimilitud de los datos dados las probabilidades calculadas en el paso E."
   ]
  },
  {
   "cell_type": "markdown",
   "id": "b08841bc-732a-4157-8178-09e76ffb0e64",
   "metadata": {},
   "source": [
    "### Funcionamiento resumido"
   ]
  },
  {
   "cell_type": "markdown",
   "id": "c5cc7bde-0c6b-4ffb-99c3-3a88fa0ea62a",
   "metadata": {},
   "source": [
    "<center>\n",
    "<img src=\"../../recursos/2025-01/imagenes_clase_6/gmm_gif.gif\" width=300 />"
   ]
  },
  {
   "cell_type": "markdown",
   "id": "6112b621-3b8d-426e-88f6-22938ccaa499",
   "metadata": {},
   "source": [
    "1. **Inicializar Parámetros**: Inicializa las medias $\\mu_k$, las matrices de covarianza $\\Sigma_k$ y los coeficientes de mezcla $\\pi_k$ con valores aleatorios o predefinidos.\n",
    "2. **Calcular probabilidad de pertenencia a cada cluster**: Calcula la probabilidad de que una observación provenga de un cluster $k$.\n",
    "3. **Reestimar Parámetros**: Actualiza todos los parámetros utilizando las asignaciones encontradas en el paso 2.\n",
    "4. **Calcular la Log-verosimilitud**: Calcula la log-verosimilitud de los datos dados el modelo.\n",
    "5. **Verificar Convergencia**: Define un criterio de convergencia. Si el valor de la log-verosimilitud se estabiliza (o si todos los parámetros convergen), detén el proceso. De lo contrario, regresa al Paso 2."
   ]
  },
  {
   "cell_type": "code",
   "execution_count": null,
   "id": "075202c2-ef2c-4446-85af-43f89f3b0573",
   "metadata": {},
   "outputs": [],
   "source": [
    "from sklearn.mixture import GaussianMixture \n",
    "\n",
    "gmm = GaussianMixture(n_components = 5, random_state=32) \n",
    "gmm.fit(scaled_features)"
   ]
  },
  {
   "cell_type": "code",
   "execution_count": null,
   "id": "e5cfd532-1c8e-415c-bcb1-122761f90561",
   "metadata": {},
   "outputs": [],
   "source": [
    "# Para obtener las labels\n",
    "gmm.predict(scaled_features)"
   ]
  },
  {
   "cell_type": "code",
   "execution_count": null,
   "id": "ff4608a5-f262-47eb-8f0b-76c47764df55",
   "metadata": {},
   "outputs": [],
   "source": [
    "# Para obtener las probabilidaes\n",
    "gmm.predict_proba(scaled_features)"
   ]
  },
  {
   "cell_type": "code",
   "execution_count": null,
   "id": "e5128566-a661-482a-bc3f-7fe27f280b92",
   "metadata": {},
   "outputs": [],
   "source": [
    "#caso particular\n",
    "gmm.predict_proba(scaled_features)[0]"
   ]
  },
  {
   "cell_type": "code",
   "execution_count": null,
   "id": "c20893c0-f7b4-4883-ab0c-b77270375f4f",
   "metadata": {},
   "outputs": [],
   "source": [
    "# Obtener los centroides de las distribuciones\n",
    "gmm.means_"
   ]
  },
  {
   "cell_type": "code",
   "execution_count": null,
   "id": "0b72c64c-7be8-461c-81a3-d3c2497bd85c",
   "metadata": {},
   "outputs": [],
   "source": [
    "# número de cluster\n",
    "gmm.n_components"
   ]
  },
  {
   "cell_type": "code",
   "execution_count": null,
   "id": "4841f398-def0-4edf-b994-4572992b2271",
   "metadata": {},
   "outputs": [],
   "source": [
    "# pesos\n",
    "print(gmm.weights_)"
   ]
  },
  {
   "cell_type": "code",
   "execution_count": null,
   "id": "cffb848f",
   "metadata": {},
   "outputs": [],
   "source": [
    "gmm.weights_.sum()"
   ]
  },
  {
   "cell_type": "code",
   "execution_count": null,
   "id": "01364dfb-0b6a-4ef2-baf1-b78e94f0789d",
   "metadata": {},
   "outputs": [],
   "source": [
    "fig_df[\"gmm_labels\"] = gmm.predict(scaled_features)\n",
    "fig_gmm = get_scatter(fig_df, \"gmm_labels\")\n",
    "\n",
    "# Transformamos los centro que vimos anteriormentes a la proyección 2d.\n",
    "projected_centers_gmm = proyector.transform(gmm.means_)\n",
    "\n",
    "fig_gmm.add_trace(\n",
    "    go.Scatter(\n",
    "        x=projected_centers_gmm[:, 0],\n",
    "        y=projected_centers_gmm[:, 1],\n",
    "        mode=\"markers\",\n",
    "        marker_size=12,\n",
    "        marker_color=\"LightSlateGray\",\n",
    "    )\n",
    ")"
   ]
  },
  {
   "cell_type": "markdown",
   "id": "8b6418e6-3914-465c-9f32-fd21b4003dfc",
   "metadata": {},
   "source": [
    "### En síntesis GMM vs KMeans"
   ]
  },
  {
   "cell_type": "markdown",
   "id": "c20cc8ca-0277-4a65-a689-e5ad7b90faa3",
   "metadata": {},
   "source": [
    "<center>\n",
    "<img src=\"../2024-01/imagenes_clase_12/procons.gif\" width=300 />"
   ]
  },
  {
   "cell_type": "markdown",
   "id": "1f80d9ac-fe76-496b-b239-ac5a495d66de",
   "metadata": {},
   "source": [
    "**Pros**"
   ]
  },
  {
   "cell_type": "markdown",
   "id": "6e19bd32-4fb7-4ac1-80a1-3ba1e7aae8f4",
   "metadata": {},
   "source": [
    "<center>\n",
    "<img src=\"../2024-01/imagenes_clase_12/gmm_final.png\" width=300 />"
   ]
  },
  {
   "cell_type": "markdown",
   "id": "5a677ca5-06f6-4caf-ae7c-95b0d4410ca8",
   "metadata": {},
   "source": [
    "1. **Formas de los clústeres**: K-means asume que los clústeres son esféricos y tienden a tener un tamaño similar en términos de número de puntos de datos. Por lo tanto, funciona mejor cuando esta suposición se mantiene. En cambio, GMM es más flexible ya que puede acomodar clústeres que tienen formas elipsoidales y diferentes tamaños. Esto es posible porque GMM modela cada clúster usando una distribución gaussiana.\n",
    "\n",
    "2. **Asignación suave**: K-means asigna cada punto de datos a un solo clúster (asignación dura), lo que puede ser limitante cuando un punto se sitúa cerca del límite entre dos clústeres. GMM, por otro lado, asigna probabilidades a cada punto de datos para pertenecer a múltiples clústeres (asignación suave). Esto proporciona una imagen más matizada de la estructura de los datos.\n",
    "\n",
    "3. **Robustez en la distribución de los datos**: GMM puede ser más efectivo que K-means en situaciones donde los datos no están uniformemente distribuidos entre los clústeres o cuando hay una mezcla compleja en la distribución de los datos."
   ]
  },
  {
   "cell_type": "markdown",
   "id": "2447094a-ab26-4937-8f69-1e533dff77f6",
   "metadata": {},
   "source": [
    "**Contras**"
   ]
  },
  {
   "cell_type": "markdown",
   "id": "bfd26c12-b2ce-486d-871b-240cb8592a48",
   "metadata": {},
   "source": [
    "1. Sensibilidad a los valores iniciales: Los resultados del EM pueden variar significativamente dependiendo de los valores iniciales.\n",
    "2. Optimización local: GMM puede quedar atrapado en óptimos locales, especialmente si el espacio de datos es complejo o si hay muchos parámetros a estimar.\n",
    "3. Escalabilidad: GMM puede ser computacionalmente costoso con un gran número de componentes o un gran volumen de datos."
   ]
  }
 ],
 "metadata": {
  "kernelspec": {
   "display_name": "mds7202",
   "language": "python",
   "name": "python3"
  },
  "language_info": {
   "codemirror_mode": {
    "name": "ipython",
    "version": 3
   },
   "file_extension": ".py",
   "mimetype": "text/x-python",
   "name": "python",
   "nbconvert_exporter": "python",
   "pygments_lexer": "ipython3",
   "version": "3.12.3"
  },
  "toc": {
   "base_numbering": 1,
   "nav_menu": {},
   "number_sections": true,
   "sideBar": true,
   "skip_h1_title": true,
   "title_cell": "Table of Contents",
   "title_sidebar": "Contents",
   "toc_cell": true,
   "toc_position": {
    "height": "calc(100% - 180px)",
    "left": "10px",
    "top": "150px",
    "width": "245.6px"
   },
   "toc_section_display": true,
   "toc_window_display": false
  },
  "varInspector": {
   "cols": {
    "lenName": 16,
    "lenType": 16,
    "lenVar": 40
   },
   "kernels_config": {
    "python": {
     "delete_cmd_postfix": "",
     "delete_cmd_prefix": "del ",
     "library": "var_list.py",
     "varRefreshCmd": "print(var_dic_list())"
    },
    "r": {
     "delete_cmd_postfix": ") ",
     "delete_cmd_prefix": "rm(",
     "library": "var_list.r",
     "varRefreshCmd": "cat(var_dic_list()) "
    }
   },
   "types_to_exclude": [
    "module",
    "function",
    "builtin_function_or_method",
    "instance",
    "_Feature"
   ],
   "window_display": false
  }
 },
 "nbformat": 4,
 "nbformat_minor": 5
}
