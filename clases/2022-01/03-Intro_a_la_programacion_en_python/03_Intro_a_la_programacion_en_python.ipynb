{
 "cells": [
  {
   "cell_type": "markdown",
   "id": "201e2305-96c6-4aaa-a417-688dcdb888fe",
   "metadata": {},
   "source": [
    "# Clase 3: Introducción a la Programación con `Python`\n",
    "\n",
    "**MDS7202: Laboratorio de Programación Científica para Ciencia de Datos**\n",
    "\n",
    "*Profesor: Pablo Badilla Torrealba*\n"
   ]
  },
  {
   "cell_type": "markdown",
   "id": "accepting-university",
   "metadata": {},
   "source": [
    "\n",
    "## Objetivos de la Clase\n",
    "\n",
    "- Introducción a `Python`.\n",
    "- Variables.\n",
    "- Tipos de datos básicos y tipado dinámico.\n",
    "- Operaciones y operadores, transformaciones entre tipos de datos.\n",
    "- Control de flujo.\n",
    "- Colecciones: Listas, conjuntos y diccionarios."
   ]
  },
  {
   "cell_type": "markdown",
   "id": "collective-springer",
   "metadata": {
    "jp-MarkdownHeadingCollapsed": true,
    "tags": []
   },
   "source": [
    "## Introducción a Python\n",
    "\n",
    "\n",
    "\n",
    "<div align='center'>\n",
    "<img src=./resources/python_logo.png width=400/>\n",
    "</div>\n",
    "\n",
    "`Python` es un lenguaje de programación multipropósito, diseñado para preservar legibilidad y simpleza sintáctica.\n",
    "Sus características y principios lo convierten en un lenguaje poderoso y fácil de aprender.\n",
    "\n",
    "\n",
    "\n",
    "\n",
    "Es ampliamente utilizado en ámbitos tales como: \n",
    "\n",
    "- Desarrollo Web, \n",
    "- Data Science, \n",
    "- Scripting\n",
    "- Software de escritorio,\n",
    "- etc...\n",
    "\n",
    "> **Pregunta ❓**: ¿En qué han utilizado `Python` con anterioridad?"
   ]
  },
  {
   "cell_type": "markdown",
   "id": "ad716eb2",
   "metadata": {},
   "source": [
    "## ¿Por qué usamos `Python` en Data Science?\n",
    "\n",
    "Este lenguaje juega un rol importante dentro de la ciencia de los datos / aprendizaje automático. Debido a su simpleza, la comunidad la ha preferido para desarrollar un diversas librerías abiertas enfocadas en resolver problemas de ciencias de los datos. A esto comunmente se le conoce como *ecosistema de librerías*.\n",
    "\n",
    "Nos centraremos en los elementos más relacionados de este lenguaje con la práctica en ciencia de datos. "
   ]
  },
  {
   "cell_type": "code",
   "execution_count": null,
   "id": "arbitrary-contribution",
   "metadata": {
    "ExecuteTime": {
     "end_time": "2021-03-22T19:21:20.238432Z",
     "start_time": "2021-03-22T19:21:20.217433Z"
    }
   },
   "outputs": [],
   "source": [
    "# Pueden ver los principios de python ejecutando la siguiente celda:\n",
    "import this"
   ]
  },
  {
   "cell_type": "markdown",
   "id": "champion-dubai",
   "metadata": {},
   "source": [
    "---\n",
    "\n",
    "## Parte 1.- Variables\n",
    "\n",
    "Las variables son un bloque fundamental en la programación: Son el medio que nos permite vincular un identificador/variable con valores/datos.\n",
    "En Python se definen por medio de una **sentencia de asignación** usando el operador ` = `.\n",
    "\n",
    "**Nota**: Una sentencia es una instrucción que el intérprete de Python puede ejecutar\n",
    "\n",
    "**Ejemplo:**"
   ]
  },
  {
   "cell_type": "code",
   "execution_count": 1,
   "id": "extensive-basis",
   "metadata": {
    "ExecuteTime": {
     "end_time": "2021-03-22T19:22:38.821644Z",
     "start_time": "2021-03-22T19:22:38.817644Z"
    }
   },
   "outputs": [],
   "source": [
    "variable = 9"
   ]
  },
  {
   "cell_type": "markdown",
   "id": "atlantic-insight",
   "metadata": {},
   "source": [
    "Pueden imprimir el valor que tiene una variable utilizando la función `print(nombre_de_la_variable)` \n",
    "\n",
    "**Nota**: Veremos más adelante las funciones; mientras tanto, solo utilizarla."
   ]
  },
  {
   "cell_type": "code",
   "execution_count": 2,
   "id": "eleven-austria",
   "metadata": {
    "ExecuteTime": {
     "end_time": "2021-03-22T19:23:23.900022Z",
     "start_time": "2021-03-22T19:23:23.887023Z"
    }
   },
   "outputs": [
    {
     "name": "stdout",
     "output_type": "stream",
     "text": [
      "9\n"
     ]
    }
   ],
   "source": [
    "print(variable)"
   ]
  },
  {
   "cell_type": "markdown",
   "id": "prepared-collector",
   "metadata": {},
   "source": [
    "O cuando estén ejecutando un Jupyter Notebook, pueden ver el valor de la variable poniendo esta al final de una celda."
   ]
  },
  {
   "cell_type": "code",
   "execution_count": 3,
   "id": "gentle-illinois",
   "metadata": {
    "ExecuteTime": {
     "end_time": "2021-03-22T19:24:03.318890Z",
     "start_time": "2021-03-22T19:24:03.311841Z"
    },
    "scrolled": true,
    "tags": []
   },
   "outputs": [
    {
     "data": {
      "text/plain": [
       "9"
      ]
     },
     "execution_count": 3,
     "metadata": {},
     "output_type": "execute_result"
    }
   ],
   "source": [
    "# esto es una variable\n",
    "variable"
   ]
  },
  {
   "cell_type": "markdown",
   "id": "damaged-louis",
   "metadata": {},
   "source": [
    "> **Nota 🗒️:** Pueden escribir comentarios (lineas que no se ejecutarán) usando #:\n",
    "\n",
    "```python\n",
    "# esto es un comentario.\n",
    "variable = 2\n",
    "```"
   ]
  },
  {
   "cell_type": "markdown",
   "id": "73f8489d-7c99-4e3d-802c-df70989adc81",
   "metadata": {
    "ExecuteTime": {
     "end_time": "2021-03-22T14:32:19.114508Z",
     "start_time": "2021-03-22T14:32:19.100507Z"
    }
   },
   "source": [
    "### Convenciones para Nombrar Variables\n",
    "\n",
    "Estas son las convenciones que se ocupan normalmente en `python` al escribir código y que **utilizaremos en el curso**.\n",
    "\n",
    "- Variables y funciones:\n",
    "\n",
    "```python\n",
    "entero = 10\n",
    "entero_mas_grande = 100\n",
    "una_funcion_cualquiera\n",
    "```\n",
    "\n",
    "- Constantes (identificadores que no deberían cambiar a futuro): \n",
    "```python\n",
    "PI = 3.14\n",
    "GRAVEDAD_EN_MARTE = 3.711\n",
    "```\n",
    "\n",
    "> **Pregunta ❓**: ¿Pueden cambiar los valores de las constantes?\n"
   ]
  },
  {
   "cell_type": "markdown",
   "id": "egyptian-sharp",
   "metadata": {
    "tags": []
   },
   "source": [
    "---\n",
    "\n",
    "## Parte 2: Tipos de Datos\n",
    "\n",
    "A continuación veremos los tipos de datos básicos o literales: **datos en bruto** que se asignan a variables.\n",
    "\n",
    "\n",
    "### Tipos de Datos Básicos\n"
   ]
  },
  {
   "cell_type": "markdown",
   "id": "jewish-documentation",
   "metadata": {},
   "source": [
    "#### Integers\n",
    "\n",
    "Números enteros creados sin parte compleja ni posiciones decimales. En este tipo de de dato es posible realizar las operaciones de división entera."
   ]
  },
  {
   "cell_type": "code",
   "execution_count": 4,
   "id": "julian-tennessee",
   "metadata": {
    "ExecuteTime": {
     "end_time": "2021-03-22T19:25:31.129685Z",
     "start_time": "2021-03-22T19:25:31.110685Z"
    }
   },
   "outputs": [
    {
     "data": {
      "text/plain": [
       "9"
      ]
     },
     "execution_count": 4,
     "metadata": {},
     "output_type": "execute_result"
    }
   ],
   "source": [
    "entero = 9\n",
    "entero"
   ]
  },
  {
   "cell_type": "markdown",
   "id": "extreme-oxide",
   "metadata": {},
   "source": [
    "#### Floats\n",
    "\n",
    "Valores numéricos de punto flotante, pueden ser creados agregando posiciones decimales ej: ```0.87```"
   ]
  },
  {
   "cell_type": "code",
   "execution_count": 5,
   "id": "square-jones",
   "metadata": {
    "ExecuteTime": {
     "end_time": "2021-03-22T19:25:47.489212Z",
     "start_time": "2021-03-22T19:25:47.480216Z"
    }
   },
   "outputs": [
    {
     "data": {
      "text/plain": [
       "9.2344"
      ]
     },
     "execution_count": 5,
     "metadata": {},
     "output_type": "execute_result"
    }
   ],
   "source": [
    "numero_flotante = 9.2344\n",
    "numero_flotante"
   ]
  },
  {
   "cell_type": "markdown",
   "id": "periodic-characterization",
   "metadata": {},
   "source": [
    "#### Complex\n",
    "\n",
    "Números complejos, se pueden crear utilizando la notación ```a + bj``` donde ```a``` es la parte real y ```b``` es la parte compleja."
   ]
  },
  {
   "cell_type": "code",
   "execution_count": 6,
   "id": "printable-mining",
   "metadata": {
    "ExecuteTime": {
     "end_time": "2021-03-22T19:25:52.849207Z",
     "start_time": "2021-03-22T19:25:52.841207Z"
    },
    "scrolled": true
   },
   "outputs": [
    {
     "data": {
      "text/plain": [
       "(10+1j)"
      ]
     },
     "execution_count": 6,
     "metadata": {},
     "output_type": "execute_result"
    }
   ],
   "source": [
    "numero_complejo = 10 + 1j\n",
    "numero_complejo"
   ]
  },
  {
   "cell_type": "markdown",
   "id": "affecting-session",
   "metadata": {},
   "source": [
    "#### Booleans/Bools\n",
    "\n",
    "Valores de verdad `True` o `False`."
   ]
  },
  {
   "cell_type": "code",
   "execution_count": 7,
   "id": "super-affair",
   "metadata": {
    "ExecuteTime": {
     "end_time": "2021-03-22T19:26:29.515577Z",
     "start_time": "2021-03-22T19:26:29.500546Z"
    }
   },
   "outputs": [
    {
     "data": {
      "text/plain": [
       "False"
      ]
     },
     "execution_count": 7,
     "metadata": {},
     "output_type": "execute_result"
    }
   ],
   "source": [
    "booleano = False\n",
    "booleano"
   ]
  },
  {
   "cell_type": "markdown",
   "id": "e8e7e6ae-d18a-4984-9a91-7575f49d21e1",
   "metadata": {},
   "source": [
    "#### Strings\n",
    "\n",
    "\"Cadenas\" de carácteres que contienen un texto. Estos pueden ser definidos usando comillas simples ``` ' '``` o dobles ```\" \"```."
   ]
  },
  {
   "cell_type": "code",
   "execution_count": 14,
   "id": "inside-departure",
   "metadata": {
    "ExecuteTime": {
     "end_time": "2021-03-22T19:27:24.309550Z",
     "start_time": "2021-03-22T19:27:24.305543Z"
    }
   },
   "outputs": [
    {
     "data": {
      "text/plain": [
       "'Juan esta tomando té 🍵'"
      ]
     },
     "execution_count": 14,
     "metadata": {},
     "output_type": "execute_result"
    }
   ],
   "source": [
    "oracion = \"Juan esta tomando té 🍵\"\n",
    "oracion"
   ]
  },
  {
   "cell_type": "markdown",
   "id": "suburban-radar",
   "metadata": {
    "ExecuteTime": {
     "end_time": "2021-03-22T15:21:25.296930Z",
     "start_time": "2021-03-22T15:21:25.278931Z"
    }
   },
   "source": [
    "#### `None`\n",
    "\n",
    "Tipo especial (pronunciado *nan*) que representa que la variable tiene un valor inespecífico."
   ]
  },
  {
   "cell_type": "code",
   "execution_count": 9,
   "id": "committed-citizen",
   "metadata": {
    "ExecuteTime": {
     "end_time": "2021-03-22T19:11:41.641505Z",
     "start_time": "2021-03-22T19:11:41.627508Z"
    }
   },
   "outputs": [],
   "source": [
    "variable_sin_ningún_valor = None\n",
    "variable_sin_ningún_valor"
   ]
  },
  {
   "cell_type": "code",
   "execution_count": 11,
   "id": "b00014f2",
   "metadata": {},
   "outputs": [
    {
     "name": "stdout",
     "output_type": "stream",
     "text": [
      "None\n"
     ]
    }
   ],
   "source": [
    "print(variable_sin_ningún_valor)"
   ]
  },
  {
   "cell_type": "code",
   "execution_count": 10,
   "id": "accredited-objective",
   "metadata": {
    "ExecuteTime": {
     "end_time": "2021-03-22T19:27:31.586122Z",
     "start_time": "2021-03-22T19:27:31.569122Z"
    }
   },
   "outputs": [],
   "source": [
    "variable_sin_ningún_valor"
   ]
  },
  {
   "cell_type": "markdown",
   "id": "unlimited-diameter",
   "metadata": {
    "ExecuteTime": {
     "end_time": "2021-03-22T14:17:09.464686Z",
     "start_time": "2021-03-22T14:17:09.444669Z"
    }
   },
   "source": [
    "### Función `type`\n",
    "\n",
    "Podemos usar la función `type(identificador)` para saber cuál es el tipo de dato que contiene una variable "
   ]
  },
  {
   "cell_type": "code",
   "execution_count": 12,
   "id": "5a9cc107-2b15-45da-bff2-e8f20af873db",
   "metadata": {},
   "outputs": [
    {
     "data": {
      "text/plain": [
       "'Juan esta tomando té 🍵'"
      ]
     },
     "execution_count": 12,
     "metadata": {},
     "output_type": "execute_result"
    }
   ],
   "source": [
    "nombre"
   ]
  },
  {
   "cell_type": "code",
   "execution_count": 15,
   "id": "dental-filling",
   "metadata": {
    "ExecuteTime": {
     "end_time": "2021-03-22T19:28:13.717955Z",
     "start_time": "2021-03-22T19:28:13.708955Z"
    },
    "scrolled": true
   },
   "outputs": [
    {
     "data": {
      "text/plain": [
       "str"
      ]
     },
     "execution_count": 15,
     "metadata": {},
     "output_type": "execute_result"
    }
   ],
   "source": [
    "type(oracion)"
   ]
  },
  {
   "cell_type": "code",
   "execution_count": 16,
   "id": "1a6cfc9f-7cb9-475c-87e2-c4ba3fccce53",
   "metadata": {},
   "outputs": [
    {
     "data": {
      "text/plain": [
       "9"
      ]
     },
     "execution_count": 16,
     "metadata": {},
     "output_type": "execute_result"
    }
   ],
   "source": [
    "entero"
   ]
  },
  {
   "cell_type": "code",
   "execution_count": 17,
   "id": "unauthorized-oregon",
   "metadata": {
    "ExecuteTime": {
     "end_time": "2021-03-22T19:28:19.987131Z",
     "start_time": "2021-03-22T19:28:19.972132Z"
    },
    "scrolled": true
   },
   "outputs": [
    {
     "data": {
      "text/plain": [
       "int"
      ]
     },
     "execution_count": 17,
     "metadata": {},
     "output_type": "execute_result"
    }
   ],
   "source": [
    "type(entero)"
   ]
  },
  {
   "cell_type": "markdown",
   "id": "34dbd0a5",
   "metadata": {},
   "source": [
    "### Verificar tipo de dato con `isinstance`\n",
    "\n",
    "La función `isinstance` permite \"preguntar\" si una variable contiene un tipo de dato específico."
   ]
  },
  {
   "cell_type": "code",
   "execution_count": 18,
   "id": "aaa3add4",
   "metadata": {},
   "outputs": [
    {
     "data": {
      "text/plain": [
       "'Juan esta tomando té 🍵'"
      ]
     },
     "execution_count": 18,
     "metadata": {},
     "output_type": "execute_result"
    }
   ],
   "source": [
    "oracion"
   ]
  },
  {
   "cell_type": "code",
   "execution_count": 19,
   "id": "d42122bd",
   "metadata": {},
   "outputs": [
    {
     "data": {
      "text/plain": [
       "False"
      ]
     },
     "execution_count": 19,
     "metadata": {},
     "output_type": "execute_result"
    }
   ],
   "source": [
    "isinstance(oracion, int)"
   ]
  },
  {
   "cell_type": "code",
   "execution_count": 20,
   "id": "80b6beea-3c58-4104-a9db-8693761baa46",
   "metadata": {},
   "outputs": [
    {
     "data": {
      "text/plain": [
       "False"
      ]
     },
     "execution_count": 20,
     "metadata": {},
     "output_type": "execute_result"
    }
   ],
   "source": [
    "isinstance(oracion, float)"
   ]
  },
  {
   "cell_type": "code",
   "execution_count": 22,
   "id": "a9563d98",
   "metadata": {},
   "outputs": [
    {
     "data": {
      "text/plain": [
       "True"
      ]
     },
     "execution_count": 22,
     "metadata": {},
     "output_type": "execute_result"
    }
   ],
   "source": [
    "isinstance(oracion, str)"
   ]
  },
  {
   "cell_type": "markdown",
   "id": "c5b86eec-4a44-4381-b029-dab631348ec1",
   "metadata": {},
   "source": [
    "> **Pregunta ❓**: En Ciencia de los Datos, ¿cuál sería la utilidad de la función `isinstance`?"
   ]
  },
  {
   "cell_type": "markdown",
   "id": "lesser-accountability",
   "metadata": {},
   "source": [
    "### Tipado Dinámico"
   ]
  },
  {
   "cell_type": "markdown",
   "id": "abroad-dance",
   "metadata": {},
   "source": [
    "Vale considerar que el **valor de una variable posee un tipo de dato**, pero no se tiene la relación reciproca. \n",
    "Es decir, **una variable no posee un tipo de datos asociado**. \n",
    "\n",
    "Lo anterior permite definir el concepto de **Tipado Dinámico** es decir, se puede reutilizar la misma variable apuntando a un tipo de dato distinto. Es decir, usamos el identificador solo como un nombre."
   ]
  },
  {
   "cell_type": "code",
   "execution_count": 23,
   "id": "measured-palestine",
   "metadata": {
    "ExecuteTime": {
     "end_time": "2021-03-22T19:29:17.307289Z",
     "start_time": "2021-03-22T19:29:17.296292Z"
    }
   },
   "outputs": [
    {
     "data": {
      "text/plain": [
       "100"
      ]
     },
     "execution_count": 23,
     "metadata": {},
     "output_type": "execute_result"
    }
   ],
   "source": [
    "num_entero = 100\n",
    "num_entero"
   ]
  },
  {
   "cell_type": "code",
   "execution_count": 24,
   "id": "widespread-singles",
   "metadata": {
    "ExecuteTime": {
     "end_time": "2021-03-22T19:11:41.705018Z",
     "start_time": "2021-03-22T19:11:41.692020Z"
    }
   },
   "outputs": [
    {
     "data": {
      "text/plain": [
       "int"
      ]
     },
     "execution_count": 24,
     "metadata": {},
     "output_type": "execute_result"
    }
   ],
   "source": [
    "type(num_entero)"
   ]
  },
  {
   "cell_type": "code",
   "execution_count": 25,
   "id": "operating-sustainability",
   "metadata": {
    "ExecuteTime": {
     "end_time": "2021-03-22T19:29:49.984338Z",
     "start_time": "2021-03-22T19:29:49.964338Z"
    }
   },
   "outputs": [
    {
     "data": {
      "text/plain": [
       "(3-1j)"
      ]
     },
     "execution_count": 25,
     "metadata": {},
     "output_type": "execute_result"
    }
   ],
   "source": [
    "# Redefinimos entero:\n",
    "\n",
    "num_entero = 3 -1j\n",
    "num_entero"
   ]
  },
  {
   "cell_type": "code",
   "execution_count": 27,
   "id": "informed-warner",
   "metadata": {
    "ExecuteTime": {
     "end_time": "2021-03-22T19:29:51.422847Z",
     "start_time": "2021-03-22T19:29:51.412841Z"
    }
   },
   "outputs": [
    {
     "data": {
      "text/plain": [
       "complex"
      ]
     },
     "execution_count": 27,
     "metadata": {},
     "output_type": "execute_result"
    }
   ],
   "source": [
    "type(num_entero)"
   ]
  },
  {
   "cell_type": "markdown",
   "id": "consecutive-linux",
   "metadata": {},
   "source": [
    "La flexibilidad en la declaración de variables, no implica flexibilidad en el manejo de tipos de datos.\n",
    "\n",
    "Es decir, hay operaciones no permitidas entre tipos de datos distintos (por ejemplo, elevar un string al cuadrado). En Python existe la conversión de datos, esta consiste en cambiar el tipo de dato asociado a cierta variable para realizar las operación que busquemos."
   ]
  },
  {
   "cell_type": "code",
   "execution_count": 28,
   "id": "58e7c9de-6412-4be1-8672-93094c03aed6",
   "metadata": {},
   "outputs": [
    {
     "ename": "TypeError",
     "evalue": "unsupported operand type(s) for +: 'int' and 'str'",
     "output_type": "error",
     "traceback": [
      "\u001b[0;31m---------------------------------------------------------------------------\u001b[0m",
      "\u001b[0;31mTypeError\u001b[0m                                 Traceback (most recent call last)",
      "Input \u001b[0;32mIn [28]\u001b[0m, in \u001b[0;36m<cell line: 3>\u001b[0;34m()\u001b[0m\n\u001b[1;32m      1\u001b[0m num_entero \u001b[38;5;241m=\u001b[39m \u001b[38;5;241m100\u001b[39m\n\u001b[0;32m----> 3\u001b[0m \u001b[43mnum_entero\u001b[49m\u001b[43m \u001b[49m\u001b[38;5;241;43m+\u001b[39;49m\u001b[43m \u001b[49m\u001b[38;5;124;43m\"\u001b[39;49m\u001b[38;5;124;43mhola\u001b[39;49m\u001b[38;5;124;43m\"\u001b[39;49m\n",
      "\u001b[0;31mTypeError\u001b[0m: unsupported operand type(s) for +: 'int' and 'str'"
     ]
    }
   ],
   "source": [
    "num_entero = 100\n",
    "\n",
    "num_entero + \"hola\""
   ]
  },
  {
   "cell_type": "markdown",
   "id": "5689808c-bbe0-4141-b8dc-ae234b2c9350",
   "metadata": {
    "tags": []
   },
   "source": [
    "## Transformar Datos a Otros Tipos\n",
    "\n",
    "Podemos usar las funciones \n",
    "\n",
    "- `int()`\n",
    "- `float()`\n",
    "- `str()`\n",
    "- etc...\n",
    "\n",
    "para transformar un dato de un tipo determinado en otro."
   ]
  },
  {
   "cell_type": "markdown",
   "id": "3eafba9b-e894-40a4-9f6b-befc446fa0d0",
   "metadata": {
    "tags": []
   },
   "source": [
    "### Entero a flotante"
   ]
  },
  {
   "cell_type": "code",
   "execution_count": 31,
   "id": "pressing-canberra",
   "metadata": {
    "ExecuteTime": {
     "end_time": "2021-03-22T19:50:49.771248Z",
     "start_time": "2021-03-22T19:50:49.754221Z"
    }
   },
   "outputs": [
    {
     "data": {
      "text/plain": [
       "3.0"
      ]
     },
     "execution_count": 31,
     "metadata": {},
     "output_type": "execute_result"
    }
   ],
   "source": [
    "float(3)"
   ]
  },
  {
   "cell_type": "code",
   "execution_count": 32,
   "id": "e19afce7-c631-4773-aeca-219200ecaaf8",
   "metadata": {},
   "outputs": [
    {
     "data": {
      "text/plain": [
       "int"
      ]
     },
     "execution_count": 32,
     "metadata": {},
     "output_type": "execute_result"
    }
   ],
   "source": [
    "type(3)"
   ]
  },
  {
   "cell_type": "code",
   "execution_count": 33,
   "id": "53cc9c47-e6eb-4f30-b7eb-6021e7eaead3",
   "metadata": {},
   "outputs": [
    {
     "data": {
      "text/plain": [
       "float"
      ]
     },
     "execution_count": 33,
     "metadata": {},
     "output_type": "execute_result"
    }
   ],
   "source": [
    "type(float(3))"
   ]
  },
  {
   "cell_type": "code",
   "execution_count": 34,
   "id": "0af1724a-cfad-4673-8303-b1c9f4ca2ea7",
   "metadata": {},
   "outputs": [
    {
     "data": {
      "text/plain": [
       "4.1"
      ]
     },
     "execution_count": 34,
     "metadata": {},
     "output_type": "execute_result"
    }
   ],
   "source": [
    "3 + 1.1"
   ]
  },
  {
   "cell_type": "code",
   "execution_count": 39,
   "id": "99fc6d84-771e-4c57-8716-a644cf9829da",
   "metadata": {},
   "outputs": [
    {
     "data": {
      "text/plain": [
       "float"
      ]
     },
     "execution_count": 39,
     "metadata": {},
     "output_type": "execute_result"
    }
   ],
   "source": [
    "type(3 + 1.1)"
   ]
  },
  {
   "cell_type": "markdown",
   "id": "96c2e0d9-597b-491e-9908-4fb7d7491e88",
   "metadata": {},
   "source": [
    "### Flotante a entero\n",
    "\n",
    "Ojo que pierde la parte decimal."
   ]
  },
  {
   "cell_type": "code",
   "execution_count": 44,
   "id": "45bd0c6f-53a5-4c15-9413-50556da623ef",
   "metadata": {
    "ExecuteTime": {
     "end_time": "2021-03-22T19:50:37.609745Z",
     "start_time": "2021-03-22T19:50:37.594744Z"
    }
   },
   "outputs": [
    {
     "data": {
      "text/plain": [
       "3"
      ]
     },
     "execution_count": 44,
     "metadata": {},
     "output_type": "execute_result"
    }
   ],
   "source": [
    "int(3.14)"
   ]
  },
  {
   "cell_type": "markdown",
   "id": "6a6dbc63-36d5-43e8-8291-9a84037fb859",
   "metadata": {},
   "source": [
    "### Strings\n",
    "\n",
    "Casi todos los datos pueden ser convertidos a string.\n"
   ]
  },
  {
   "cell_type": "code",
   "execution_count": 45,
   "id": "9bb6b59f-1e66-4e8e-b0fa-f865b70ae279",
   "metadata": {},
   "outputs": [
    {
     "data": {
      "text/plain": [
       "'3'"
      ]
     },
     "execution_count": 45,
     "metadata": {},
     "output_type": "execute_result"
    }
   ],
   "source": [
    "str(3)"
   ]
  },
  {
   "cell_type": "code",
   "execution_count": 46,
   "id": "flush-personal",
   "metadata": {
    "ExecuteTime": {
     "end_time": "2021-03-22T19:50:59.858741Z",
     "start_time": "2021-03-22T19:50:59.838753Z"
    }
   },
   "outputs": [
    {
     "data": {
      "text/plain": [
       "'3.14'"
      ]
     },
     "execution_count": 46,
     "metadata": {},
     "output_type": "execute_result"
    }
   ],
   "source": [
    "str(3.14)"
   ]
  },
  {
   "cell_type": "markdown",
   "id": "08cedca2-4422-4d94-9fb4-ba1131977978",
   "metadata": {
    "ExecuteTime": {
     "end_time": "2021-03-22T15:19:06.000262Z",
     "start_time": "2021-03-22T15:19:05.983263Z"
    }
   },
   "source": [
    "Pero hay que tener mucho cuidado con la operación al revés, ya que python intentará convertirlo o \"*morira en el intento*\""
   ]
  },
  {
   "cell_type": "code",
   "execution_count": 47,
   "id": "honey-liquid",
   "metadata": {
    "ExecuteTime": {
     "end_time": "2021-03-22T19:51:36.544668Z",
     "start_time": "2021-03-22T19:51:36.528668Z"
    }
   },
   "outputs": [
    {
     "data": {
      "text/plain": [
       "3.14"
      ]
     },
     "execution_count": 47,
     "metadata": {},
     "output_type": "execute_result"
    }
   ],
   "source": [
    "float('3.14')"
   ]
  },
  {
   "cell_type": "code",
   "execution_count": 48,
   "id": "divided-climate",
   "metadata": {
    "ExecuteTime": {
     "end_time": "2021-03-22T19:51:26.767713Z",
     "start_time": "2021-03-22T19:51:26.748704Z"
    }
   },
   "outputs": [
    {
     "ename": "ValueError",
     "evalue": "could not convert string to float: '3.13aa'",
     "output_type": "error",
     "traceback": [
      "\u001b[0;31m---------------------------------------------------------------------------\u001b[0m",
      "\u001b[0;31mValueError\u001b[0m                                Traceback (most recent call last)",
      "Input \u001b[0;32mIn [48]\u001b[0m, in \u001b[0;36m<cell line: 1>\u001b[0;34m()\u001b[0m\n\u001b[0;32m----> 1\u001b[0m \u001b[38;5;28;43mfloat\u001b[39;49m\u001b[43m(\u001b[49m\u001b[38;5;124;43m'\u001b[39;49m\u001b[38;5;124;43m3.13aa\u001b[39;49m\u001b[38;5;124;43m'\u001b[39;49m\u001b[43m)\u001b[49m\n",
      "\u001b[0;31mValueError\u001b[0m: could not convert string to float: '3.13aa'"
     ]
    }
   ],
   "source": [
    "float('3.13aa')"
   ]
  },
  {
   "cell_type": "markdown",
   "id": "polish-plasma",
   "metadata": {},
   "source": [
    "## Parte 3: Operaciones entre datos"
   ]
  },
  {
   "cell_type": "markdown",
   "id": "fiscal-encounter",
   "metadata": {},
   "source": [
    "Los operadores en python son **símbolos y keywords** especiales que permiten llevar a cabo operaciones aritméticas o lógicas entre datos.\n",
    "\n",
    "Aritméticas:\n",
    "\n",
    "- `+` \n",
    "- `-` \n",
    "- `*`\n",
    "- `/`\n",
    "- `//` (división entera)\n",
    "- `%` (módulo) \n",
    "\n",
    "Comparación e igualdad:\n",
    "\n",
    "- `>` y `>=`\n",
    "- `<` y `<=`\n",
    "- `==`\n",
    "\n",
    "Lógicas:\n",
    "\n",
    "- `and`\n",
    "- `or`\n",
    "- `not`\n",
    "- `is`\n",
    "- `in`\n",
    "- `not in`"
   ]
  },
  {
   "cell_type": "markdown",
   "id": "thorough-milan",
   "metadata": {},
   "source": [
    "### Expresión\n",
    "\n",
    "Una expresión es una combinación de valores, variables y operadores que pueden ser evaluadas por el interprete.\n",
    "\n",
    "> **Nota 🗒️**: Python es interpretado. Esto quiere decir que existe un *interprete* que convierte el código a `bytecode` (código que el procesador es capaz de entender y ejecutar) en el momento en que el código se ejecuta. Otro paradigma: Lenguajes Compilados."
   ]
  },
  {
   "cell_type": "markdown",
   "id": "stuck-dollar",
   "metadata": {
    "ExecuteTime": {
     "end_time": "2021-03-22T15:06:13.576207Z",
     "start_time": "2021-03-22T15:06:13.565203Z"
    }
   },
   "source": [
    "### Operadores Aritméticos y de Comparación e Igualdad"
   ]
  },
  {
   "cell_type": "markdown",
   "id": "9accd2b6-cf36-4f16-bbc4-2e0f9b55c3a6",
   "metadata": {},
   "source": [
    "#### Suma"
   ]
  },
  {
   "cell_type": "code",
   "execution_count": 50,
   "id": "joined-deviation",
   "metadata": {
    "ExecuteTime": {
     "end_time": "2021-03-22T19:35:19.329013Z",
     "start_time": "2021-03-22T19:35:19.320006Z"
    }
   },
   "outputs": [
    {
     "data": {
      "text/plain": [
       "7"
      ]
     },
     "execution_count": 50,
     "metadata": {},
     "output_type": "execute_result"
    }
   ],
   "source": [
    "5 + 2"
   ]
  },
  {
   "cell_type": "markdown",
   "id": "d0d90047-e85e-4280-964e-a31f01420199",
   "metadata": {},
   "source": [
    "#### Resta"
   ]
  },
  {
   "cell_type": "code",
   "execution_count": 51,
   "id": "a1e071e8-7b19-4b72-bb7f-7afcb43ccaf2",
   "metadata": {},
   "outputs": [
    {
     "data": {
      "text/plain": [
       "3"
      ]
     },
     "execution_count": 51,
     "metadata": {},
     "output_type": "execute_result"
    }
   ],
   "source": [
    "5 - 2"
   ]
  },
  {
   "cell_type": "markdown",
   "id": "f1af6141-e8ed-49c8-9032-3f963443484e",
   "metadata": {},
   "source": [
    "#### Multiplicación"
   ]
  },
  {
   "cell_type": "code",
   "execution_count": 52,
   "id": "joined-interface",
   "metadata": {
    "ExecuteTime": {
     "end_time": "2021-03-22T19:35:21.891720Z",
     "start_time": "2021-03-22T19:35:21.876721Z"
    }
   },
   "outputs": [
    {
     "data": {
      "text/plain": [
       "10"
      ]
     },
     "execution_count": 52,
     "metadata": {},
     "output_type": "execute_result"
    }
   ],
   "source": [
    "5 * 2"
   ]
  },
  {
   "cell_type": "markdown",
   "id": "fe629f57-6c0d-42c5-ab44-9c9574cc78d9",
   "metadata": {},
   "source": [
    "#### División"
   ]
  },
  {
   "cell_type": "code",
   "execution_count": 53,
   "id": "ordered-religious",
   "metadata": {
    "ExecuteTime": {
     "end_time": "2021-03-22T19:35:22.736640Z",
     "start_time": "2021-03-22T19:35:22.725640Z"
    }
   },
   "outputs": [
    {
     "data": {
      "text/plain": [
       "2.5"
      ]
     },
     "execution_count": 53,
     "metadata": {},
     "output_type": "execute_result"
    }
   ],
   "source": [
    "5 / 2"
   ]
  },
  {
   "cell_type": "markdown",
   "id": "d3916c1b-6a55-4d58-89dd-a894f89fc06a",
   "metadata": {},
   "source": [
    "#### División Entera\n",
    "\n",
    "Conserva solo la parte entera de la división."
   ]
  },
  {
   "cell_type": "code",
   "execution_count": 56,
   "id": "correct-romantic",
   "metadata": {
    "ExecuteTime": {
     "end_time": "2021-03-22T19:35:24.591066Z",
     "start_time": "2021-03-22T19:35:24.571007Z"
    }
   },
   "outputs": [
    {
     "data": {
      "text/plain": [
       "2"
      ]
     },
     "execution_count": 56,
     "metadata": {},
     "output_type": "execute_result"
    }
   ],
   "source": [
    "5 // 2"
   ]
  },
  {
   "cell_type": "markdown",
   "id": "according-cabin",
   "metadata": {},
   "source": [
    "> **Pregunta ❓**: ¿Qué sucede con `//` con al operarlos con datos de tipo `float`?"
   ]
  },
  {
   "cell_type": "code",
   "execution_count": 57,
   "id": "coral-satin",
   "metadata": {
    "ExecuteTime": {
     "end_time": "2021-03-22T19:36:41.810644Z",
     "start_time": "2021-03-22T19:36:41.789647Z"
    }
   },
   "outputs": [
    {
     "data": {
      "text/plain": [
       "1.25"
      ]
     },
     "execution_count": 57,
     "metadata": {},
     "output_type": "execute_result"
    }
   ],
   "source": [
    "2.5 / 2.0"
   ]
  },
  {
   "cell_type": "code",
   "execution_count": 58,
   "id": "former-bermuda",
   "metadata": {
    "ExecuteTime": {
     "end_time": "2021-03-22T19:36:57.964286Z",
     "start_time": "2021-03-22T19:36:57.946286Z"
    },
    "scrolled": true
   },
   "outputs": [
    {
     "data": {
      "text/plain": [
       "1.0"
      ]
     },
     "execution_count": 58,
     "metadata": {},
     "output_type": "execute_result"
    }
   ],
   "source": [
    "2.5 // 2.0"
   ]
  },
  {
   "cell_type": "markdown",
   "id": "f1b3b93e-01cb-425d-9b4e-947ca43e0d00",
   "metadata": {},
   "source": [
    "#### Módulo (resto) de una división\n"
   ]
  },
  {
   "cell_type": "code",
   "execution_count": 59,
   "id": "martial-bonus",
   "metadata": {
    "ExecuteTime": {
     "end_time": "2021-03-22T19:35:27.157300Z",
     "start_time": "2021-03-22T19:35:27.139301Z"
    },
    "scrolled": true
   },
   "outputs": [
    {
     "data": {
      "text/plain": [
       "1"
      ]
     },
     "execution_count": 59,
     "metadata": {},
     "output_type": "execute_result"
    }
   ],
   "source": [
    "5 % 2"
   ]
  },
  {
   "cell_type": "markdown",
   "id": "56e4cb85-0ba1-4611-abad-86dc4837a0c8",
   "metadata": {},
   "source": [
    "#### Potenciación \n",
    "\n",
    "2 elevado a 3:"
   ]
  },
  {
   "cell_type": "code",
   "execution_count": 60,
   "id": "narrow-salmon",
   "metadata": {
    "ExecuteTime": {
     "end_time": "2021-03-22T19:35:48.238020Z",
     "start_time": "2021-03-22T19:35:48.220022Z"
    }
   },
   "outputs": [
    {
     "data": {
      "text/plain": [
       "8"
      ]
     },
     "execution_count": 60,
     "metadata": {},
     "output_type": "execute_result"
    }
   ],
   "source": [
    "2 ** 3"
   ]
  },
  {
   "cell_type": "code",
   "execution_count": 61,
   "id": "c28e9fb5-ce62-4fe8-9c33-0ca0c01aae5a",
   "metadata": {},
   "outputs": [
    {
     "data": {
      "text/plain": [
       "0.125"
      ]
     },
     "execution_count": 61,
     "metadata": {},
     "output_type": "execute_result"
    }
   ],
   "source": [
    "2 ** -3"
   ]
  },
  {
   "cell_type": "code",
   "execution_count": 62,
   "id": "0484298a-a8c4-46e5-a9dd-150269793eff",
   "metadata": {},
   "outputs": [
    {
     "data": {
      "text/plain": [
       "0.10632848158618281"
      ]
     },
     "execution_count": 62,
     "metadata": {},
     "output_type": "execute_result"
    }
   ],
   "source": [
    "2 ** -3.2334"
   ]
  },
  {
   "cell_type": "markdown",
   "id": "starting-timeline",
   "metadata": {
    "ExecuteTime": {
     "end_time": "2021-03-22T16:35:35.923564Z",
     "start_time": "2021-03-22T16:35:35.905524Z"
    }
   },
   "source": [
    "### Operadores de Comparación e Igualdad:"
   ]
  },
  {
   "cell_type": "markdown",
   "id": "6a2b026d-02c2-4630-b5e7-6426295d66f1",
   "metadata": {},
   "source": [
    "#### Igualdad"
   ]
  },
  {
   "cell_type": "code",
   "execution_count": 63,
   "id": "2b291f92-1831-4ed0-801a-654b2d8c8fdf",
   "metadata": {},
   "outputs": [
    {
     "data": {
      "text/plain": [
       "True"
      ]
     },
     "execution_count": 63,
     "metadata": {},
     "output_type": "execute_result"
    }
   ],
   "source": [
    "# es 2 igual a 2?\n",
    "2 == 2"
   ]
  },
  {
   "cell_type": "code",
   "execution_count": 64,
   "id": "4244aa9c-c268-4e30-9856-755bca4659d9",
   "metadata": {},
   "outputs": [
    {
     "data": {
      "text/plain": [
       "bool"
      ]
     },
     "execution_count": 64,
     "metadata": {},
     "output_type": "execute_result"
    }
   ],
   "source": [
    "type(2 == 2)"
   ]
  },
  {
   "cell_type": "code",
   "execution_count": 65,
   "id": "noticed-facility",
   "metadata": {
    "ExecuteTime": {
     "end_time": "2021-03-22T19:37:45.602649Z",
     "start_time": "2021-03-22T19:37:45.583649Z"
    }
   },
   "outputs": [
    {
     "data": {
      "text/plain": [
       "False"
      ]
     },
     "execution_count": 65,
     "metadata": {},
     "output_type": "execute_result"
    }
   ],
   "source": [
    "2 == 4"
   ]
  },
  {
   "cell_type": "markdown",
   "id": "50eba53f-edc9-4b9b-8462-8ba670319d87",
   "metadata": {},
   "source": [
    "> **Pregunta ❓**: ¿Qué sucede con `==` cuando comparamos tipos distintos (`int` con `float` y `string`)?"
   ]
  },
  {
   "cell_type": "code",
   "execution_count": 66,
   "id": "crazy-lighting",
   "metadata": {
    "ExecuteTime": {
     "end_time": "2021-03-22T19:38:19.828468Z",
     "start_time": "2021-03-22T19:38:19.808466Z"
    }
   },
   "outputs": [
    {
     "data": {
      "text/plain": [
       "True"
      ]
     },
     "execution_count": 66,
     "metadata": {},
     "output_type": "execute_result"
    }
   ],
   "source": [
    "2 == 2.0"
   ]
  },
  {
   "cell_type": "code",
   "execution_count": 67,
   "id": "286893f0-738b-4ca1-93c9-069c35872c65",
   "metadata": {},
   "outputs": [
    {
     "data": {
      "text/plain": [
       "False"
      ]
     },
     "execution_count": 67,
     "metadata": {},
     "output_type": "execute_result"
    }
   ],
   "source": [
    "2 == \"2\""
   ]
  },
  {
   "cell_type": "code",
   "execution_count": 69,
   "id": "0f84aab5-35ba-4725-b6e7-4c56565ae649",
   "metadata": {},
   "outputs": [
    {
     "data": {
      "text/plain": [
       "True"
      ]
     },
     "execution_count": 69,
     "metadata": {},
     "output_type": "execute_result"
    }
   ],
   "source": [
    "2 == int(\"2\")"
   ]
  },
  {
   "cell_type": "code",
   "execution_count": 68,
   "id": "fdde9f58-e061-43af-ab3a-0f54a882e75e",
   "metadata": {},
   "outputs": [
    {
     "data": {
      "text/plain": [
       "True"
      ]
     },
     "execution_count": 68,
     "metadata": {},
     "output_type": "execute_result"
    }
   ],
   "source": [
    "2 == 2 + 0j"
   ]
  },
  {
   "cell_type": "markdown",
   "id": "a0424b09-7127-4032-93f9-96f3e5db8685",
   "metadata": {},
   "source": [
    "#### Mayor y mayor igual"
   ]
  },
  {
   "cell_type": "code",
   "execution_count": 70,
   "id": "invisible-snake",
   "metadata": {
    "ExecuteTime": {
     "end_time": "2021-03-22T19:38:48.700702Z",
     "start_time": "2021-03-22T19:38:48.683700Z"
    }
   },
   "outputs": [
    {
     "data": {
      "text/plain": [
       "False"
      ]
     },
     "execution_count": 70,
     "metadata": {},
     "output_type": "execute_result"
    }
   ],
   "source": [
    "2 > 2"
   ]
  },
  {
   "cell_type": "code",
   "execution_count": 71,
   "id": "3b609a2e-5971-404b-ac50-0dc7e76994a3",
   "metadata": {},
   "outputs": [
    {
     "data": {
      "text/plain": [
       "True"
      ]
     },
     "execution_count": 71,
     "metadata": {},
     "output_type": "execute_result"
    }
   ],
   "source": [
    "2 > 1"
   ]
  },
  {
   "cell_type": "code",
   "execution_count": 72,
   "id": "f352e7f5-e8fd-448e-a11f-276db5d24282",
   "metadata": {},
   "outputs": [
    {
     "data": {
      "text/plain": [
       "False"
      ]
     },
     "execution_count": 72,
     "metadata": {},
     "output_type": "execute_result"
    }
   ],
   "source": [
    "2 > 3"
   ]
  },
  {
   "cell_type": "code",
   "execution_count": 73,
   "id": "8d49b86e-1911-4893-9bc0-2dfe466db800",
   "metadata": {},
   "outputs": [
    {
     "data": {
      "text/plain": [
       "True"
      ]
     },
     "execution_count": 73,
     "metadata": {},
     "output_type": "execute_result"
    }
   ],
   "source": [
    "2 >= 2"
   ]
  },
  {
   "cell_type": "markdown",
   "id": "bd87d1bb-049d-4081-8470-146067f91662",
   "metadata": {},
   "source": [
    "> **Pregunta ❓**: ¿Qué sucede con `>`/`>=` cuando comparamos tipos distintos (`int` con `string`)?"
   ]
  },
  {
   "cell_type": "code",
   "execution_count": 74,
   "id": "checked-baker",
   "metadata": {
    "ExecuteTime": {
     "end_time": "2021-03-22T19:39:52.016912Z",
     "start_time": "2021-03-22T19:39:51.989914Z"
    },
    "scrolled": true
   },
   "outputs": [
    {
     "ename": "TypeError",
     "evalue": "'>=' not supported between instances of 'int' and 'str'",
     "output_type": "error",
     "traceback": [
      "\u001b[0;31m---------------------------------------------------------------------------\u001b[0m",
      "\u001b[0;31mTypeError\u001b[0m                                 Traceback (most recent call last)",
      "Input \u001b[0;32mIn [74]\u001b[0m, in \u001b[0;36m<cell line: 1>\u001b[0;34m()\u001b[0m\n\u001b[0;32m----> 1\u001b[0m \u001b[38;5;241;43m3\u001b[39;49m\u001b[43m \u001b[49m\u001b[38;5;241;43m>\u001b[39;49m\u001b[38;5;241;43m=\u001b[39;49m\u001b[43m \u001b[49m\u001b[38;5;124;43m\"\u001b[39;49m\u001b[38;5;124;43m3\u001b[39;49m\u001b[38;5;124;43m\"\u001b[39;49m\n",
      "\u001b[0;31mTypeError\u001b[0m: '>=' not supported between instances of 'int' and 'str'"
     ]
    }
   ],
   "source": [
    "3 >= \"3\""
   ]
  },
  {
   "cell_type": "markdown",
   "id": "602938ee-6669-4b35-87ce-02355596ee35",
   "metadata": {},
   "source": [
    "#### Menor y menor igual\n",
    "\n",
    "Mismo caso que el anterior"
   ]
  },
  {
   "cell_type": "code",
   "execution_count": 75,
   "id": "916267f8-fef4-40e3-8af5-18d2e5472c25",
   "metadata": {},
   "outputs": [
    {
     "data": {
      "text/plain": [
       "True"
      ]
     },
     "execution_count": 75,
     "metadata": {},
     "output_type": "execute_result"
    }
   ],
   "source": [
    "2 < 3"
   ]
  },
  {
   "cell_type": "code",
   "execution_count": 76,
   "id": "93af0c82-99c5-4cf6-abba-26e923b57bf6",
   "metadata": {},
   "outputs": [
    {
     "data": {
      "text/plain": [
       "False"
      ]
     },
     "execution_count": 76,
     "metadata": {},
     "output_type": "execute_result"
    }
   ],
   "source": [
    "2 < 1"
   ]
  },
  {
   "cell_type": "markdown",
   "id": "twenty-customer",
   "metadata": {},
   "source": [
    "---\n",
    "\n",
    "### Operaciones con Strings\n",
    "\n",
    "\n",
    "#### Operadores de comparación"
   ]
  },
  {
   "cell_type": "code",
   "execution_count": 77,
   "id": "df2356b8",
   "metadata": {},
   "outputs": [
    {
     "data": {
      "text/plain": [
       "True"
      ]
     },
     "execution_count": 77,
     "metadata": {},
     "output_type": "execute_result"
    }
   ],
   "source": [
    "'Avellana' == 'Avellana'"
   ]
  },
  {
   "cell_type": "code",
   "execution_count": 78,
   "id": "2884d4b9-fdf1-4683-b461-6d64d8f4692a",
   "metadata": {},
   "outputs": [
    {
     "data": {
      "text/plain": [
       "False"
      ]
     },
     "execution_count": 78,
     "metadata": {},
     "output_type": "execute_result"
    }
   ],
   "source": [
    "'Avellana' == 'Manzana'"
   ]
  },
  {
   "cell_type": "markdown",
   "id": "950d3b4d-ec05-436b-a0f7-b148e78b0b93",
   "metadata": {},
   "source": [
    "> Pregunta ❓: Es posible comparar con '<'/'<=' y '>'/'>=' strings?\n",
    "\n",
    "\n",
    "Ver [Orden Lexicográfico en Wikipedia](https://es.wikipedia.org/wiki/Orden_lexicogr%C3%A1fico)."
   ]
  },
  {
   "cell_type": "code",
   "execution_count": 80,
   "id": "55e186ce",
   "metadata": {
    "scrolled": true
   },
   "outputs": [
    {
     "data": {
      "text/plain": [
       "True"
      ]
     },
     "execution_count": 80,
     "metadata": {},
     "output_type": "execute_result"
    }
   ],
   "source": [
    "'Avellana' > 'Arvejas'"
   ]
  },
  {
   "cell_type": "code",
   "execution_count": 82,
   "id": "c193ea0f",
   "metadata": {},
   "outputs": [
    {
     "data": {
      "text/plain": [
       "False"
      ]
     },
     "execution_count": 82,
     "metadata": {},
     "output_type": "execute_result"
    }
   ],
   "source": [
    "'3' > '5'"
   ]
  },
  {
   "cell_type": "markdown",
   "id": "b7c4f15b-a397-4f10-878a-3c88735a456d",
   "metadata": {},
   "source": [
    "#### Concatenación"
   ]
  },
  {
   "cell_type": "code",
   "execution_count": 84,
   "id": "detailed-saver",
   "metadata": {
    "ExecuteTime": {
     "end_time": "2021-03-22T19:40:31.963073Z",
     "start_time": "2021-03-22T19:40:31.949079Z"
    }
   },
   "outputs": [],
   "source": [
    "pregunta = '¿quieres un '\n",
    "\n",
    "respuesta_a = 'tecito?'\n",
    "respuesta_b = 'cafecito?'"
   ]
  },
  {
   "cell_type": "code",
   "execution_count": 85,
   "id": "regional-trauma",
   "metadata": {
    "ExecuteTime": {
     "end_time": "2021-03-22T19:40:32.799073Z",
     "start_time": "2021-03-22T19:40:32.785072Z"
    }
   },
   "outputs": [
    {
     "data": {
      "text/plain": [
       "'¿quieres un tecito?'"
      ]
     },
     "execution_count": 85,
     "metadata": {},
     "output_type": "execute_result"
    }
   ],
   "source": [
    "pregunta + respuesta_a"
   ]
  },
  {
   "cell_type": "markdown",
   "id": "speaking-replica",
   "metadata": {},
   "source": [
    "#### Formateo de strings"
   ]
  },
  {
   "cell_type": "code",
   "execution_count": 86,
   "id": "mounted-transaction",
   "metadata": {
    "ExecuteTime": {
     "end_time": "2021-03-22T19:42:28.638229Z",
     "start_time": "2021-03-22T19:42:28.616228Z"
    }
   },
   "outputs": [
    {
     "data": {
      "text/plain": [
       "'¿deseas un cafecito?'"
      ]
     },
     "execution_count": 86,
     "metadata": {},
     "output_type": "execute_result"
    }
   ],
   "source": [
    "pregunta_completa = f\"¿deseas un {respuesta_b}\"\n",
    "pregunta_completa"
   ]
  },
  {
   "cell_type": "markdown",
   "id": "a287f29a-529e-4dd0-8a6c-75082af07821",
   "metadata": {},
   "source": [
    "#### Repetir strings"
   ]
  },
  {
   "cell_type": "code",
   "execution_count": 87,
   "id": "accessory-pulse",
   "metadata": {
    "ExecuteTime": {
     "end_time": "2021-03-22T19:44:30.723837Z",
     "start_time": "2021-03-22T19:44:30.717836Z"
    },
    "scrolled": true
   },
   "outputs": [
    {
     "data": {
      "text/plain": [
       "'tecito?tecito?tecito?tecito?tecito?tecito?tecito?tecito?tecito?tecito?'"
      ]
     },
     "execution_count": 87,
     "metadata": {},
     "output_type": "execute_result"
    }
   ],
   "source": [
    "respuesta_a * 10"
   ]
  },
  {
   "cell_type": "code",
   "execution_count": 89,
   "id": "10fc3179-18c1-42d1-a51d-56109249a9ed",
   "metadata": {},
   "outputs": [
    {
     "data": {
      "text/plain": [
       "'------------------------------------------------------------------------------------------------------------------------'"
      ]
     },
     "execution_count": 89,
     "metadata": {},
     "output_type": "execute_result"
    }
   ],
   "source": [
    "'------------------------------------------------------------------------------------------------------------------------'"
   ]
  },
  {
   "cell_type": "markdown",
   "id": "patent-trance",
   "metadata": {
    "ExecuteTime": {
     "end_time": "2021-03-22T15:05:16.889531Z",
     "start_time": "2021-03-22T15:05:16.869533Z"
    }
   },
   "source": [
    "> **Pregunta** : ¿ `a / 10` ? ¿ `a // 10` ? "
   ]
  },
  {
   "cell_type": "code",
   "execution_count": 90,
   "id": "lasting-courage",
   "metadata": {
    "ExecuteTime": {
     "end_time": "2021-03-22T19:44:42.074505Z",
     "start_time": "2021-03-22T19:44:42.061506Z"
    }
   },
   "outputs": [
    {
     "ename": "TypeError",
     "evalue": "unsupported operand type(s) for /: 'str' and 'int'",
     "output_type": "error",
     "traceback": [
      "\u001b[0;31m---------------------------------------------------------------------------\u001b[0m",
      "\u001b[0;31mTypeError\u001b[0m                                 Traceback (most recent call last)",
      "Input \u001b[0;32mIn [90]\u001b[0m, in \u001b[0;36m<cell line: 1>\u001b[0;34m()\u001b[0m\n\u001b[0;32m----> 1\u001b[0m \u001b[43mrespuesta_a\u001b[49m\u001b[43m \u001b[49m\u001b[38;5;241;43m/\u001b[39;49m\u001b[43m \u001b[49m\u001b[38;5;241;43m10\u001b[39;49m\n",
      "\u001b[0;31mTypeError\u001b[0m: unsupported operand type(s) for /: 'str' and 'int'"
     ]
    }
   ],
   "source": [
    "respuesta_a / 10"
   ]
  },
  {
   "cell_type": "markdown",
   "id": "af4d30de-5447-4d70-8c6f-c46b6e335cd0",
   "metadata": {},
   "source": [
    "#### Operador `in`"
   ]
  },
  {
   "cell_type": "code",
   "execution_count": 91,
   "id": "35add86b-206b-42ec-aa74-73690ee2e37a",
   "metadata": {},
   "outputs": [
    {
     "data": {
      "text/plain": [
       "'cafecito?'"
      ]
     },
     "execution_count": 91,
     "metadata": {},
     "output_type": "execute_result"
    }
   ],
   "source": [
    "respuesta_b"
   ]
  },
  {
   "cell_type": "code",
   "execution_count": 92,
   "id": "disciplinary-clock",
   "metadata": {
    "ExecuteTime": {
     "end_time": "2021-03-22T19:45:43.393616Z",
     "start_time": "2021-03-22T19:45:43.384616Z"
    }
   },
   "outputs": [
    {
     "data": {
      "text/plain": [
       "False"
      ]
     },
     "execution_count": 92,
     "metadata": {},
     "output_type": "execute_result"
    }
   ],
   "source": [
    "'te' in respuesta_b"
   ]
  },
  {
   "cell_type": "code",
   "execution_count": 93,
   "id": "corrected-shade",
   "metadata": {
    "ExecuteTime": {
     "end_time": "2021-03-22T19:45:46.932781Z",
     "start_time": "2021-03-22T19:45:46.912751Z"
    },
    "scrolled": true
   },
   "outputs": [
    {
     "data": {
      "text/plain": [
       "True"
      ]
     },
     "execution_count": 93,
     "metadata": {},
     "output_type": "execute_result"
    }
   ],
   "source": [
    "'cafe' in respuesta_b"
   ]
  },
  {
   "cell_type": "markdown",
   "id": "538b11d5-4402-4a86-ba33-0644c480dbac",
   "metadata": {},
   "source": [
    "#### Operador `not`"
   ]
  },
  {
   "cell_type": "code",
   "execution_count": 94,
   "id": "specific-kazakhstan",
   "metadata": {
    "ExecuteTime": {
     "end_time": "2021-03-22T19:45:55.867701Z",
     "start_time": "2021-03-22T19:45:55.847673Z"
    }
   },
   "outputs": [
    {
     "data": {
      "text/plain": [
       "True"
      ]
     },
     "execution_count": 94,
     "metadata": {},
     "output_type": "execute_result"
    }
   ],
   "source": [
    "'te' not in respuesta_b"
   ]
  },
  {
   "cell_type": "code",
   "execution_count": null,
   "id": "73d477d9",
   "metadata": {},
   "outputs": [],
   "source": [
    "pregunta_completa"
   ]
  },
  {
   "cell_type": "markdown",
   "id": "42c50381-eea7-42bf-967b-8dea76e3bcb5",
   "metadata": {},
   "source": [
    "### Métodos: Funciones asociadas a `strings`"
   ]
  },
  {
   "cell_type": "markdown",
   "id": "7330a8c0-376e-46d0-9772-c941302c06d9",
   "metadata": {},
   "source": [
    "#### Cambiar a mayúscula, minúscula, etc..."
   ]
  },
  {
   "cell_type": "code",
   "execution_count": 98,
   "id": "45ea8b6b-1e39-4550-8905-2f533852edf7",
   "metadata": {},
   "outputs": [
    {
     "data": {
      "text/plain": [
       "'¿deseas un cafecito?'"
      ]
     },
     "execution_count": 98,
     "metadata": {},
     "output_type": "execute_result"
    }
   ],
   "source": [
    "pregunta_completa"
   ]
  },
  {
   "cell_type": "code",
   "execution_count": 99,
   "id": "satellite-volume",
   "metadata": {
    "ExecuteTime": {
     "end_time": "2021-03-22T19:46:07.738762Z",
     "start_time": "2021-03-22T19:46:07.724763Z"
    }
   },
   "outputs": [
    {
     "name": "stdout",
     "output_type": "stream",
     "text": [
      "Lower: ¿deseas un cafecito?\n",
      "Upper: ¿DESEAS UN CAFECITO?\n",
      "Title: ¿Deseas Un Cafecito?\n",
      "Capitalize: ¿deseas un cafecito?\n"
     ]
    }
   ],
   "source": [
    "print('Lower:', pregunta_completa.lower())\n",
    "print('Upper:', pregunta_completa.upper())\n",
    "print('Title:', pregunta_completa.title())\n",
    "print('Capitalize:', pregunta_completa.capitalize())"
   ]
  },
  {
   "cell_type": "markdown",
   "id": "1caa528f-cd90-4028-a8c8-31a07aba4c32",
   "metadata": {},
   "source": [
    "#### Reemplazar"
   ]
  },
  {
   "cell_type": "code",
   "execution_count": 100,
   "id": "18fe284c-401a-4b4a-87fd-135542e87833",
   "metadata": {},
   "outputs": [
    {
     "data": {
      "text/plain": [
       "'¿deseas un cafecito?'"
      ]
     },
     "execution_count": 100,
     "metadata": {},
     "output_type": "execute_result"
    }
   ],
   "source": [
    "pregunta_completa"
   ]
  },
  {
   "cell_type": "code",
   "execution_count": 101,
   "id": "fdaccb71-ea76-4877-850c-ea72c8b8be26",
   "metadata": {},
   "outputs": [
    {
     "data": {
      "text/plain": [
       "'¿deseas un tecito?'"
      ]
     },
     "execution_count": 101,
     "metadata": {},
     "output_type": "execute_result"
    }
   ],
   "source": [
    "pregunta_completa.replace('cafecito', 'tecito')"
   ]
  },
  {
   "cell_type": "markdown",
   "id": "094a6f84-5c15-4855-913f-8813803d79f1",
   "metadata": {},
   "source": [
    "#### Eliminar espacios del inicio y final"
   ]
  },
  {
   "cell_type": "code",
   "execution_count": 102,
   "id": "f0e56d04-d520-410e-936f-f2a0d031506f",
   "metadata": {},
   "outputs": [
    {
     "data": {
      "text/plain": [
       "'    hola      '"
      ]
     },
     "execution_count": 102,
     "metadata": {},
     "output_type": "execute_result"
    }
   ],
   "source": [
    "hola = '    hola      '\n",
    "hola"
   ]
  },
  {
   "cell_type": "code",
   "execution_count": 103,
   "id": "76be00e0-c205-4347-ac41-6c01a51d241b",
   "metadata": {},
   "outputs": [
    {
     "data": {
      "text/plain": [
       "'hola'"
      ]
     },
     "execution_count": 103,
     "metadata": {},
     "output_type": "execute_result"
    }
   ],
   "source": [
    "hola.strip()"
   ]
  },
  {
   "cell_type": "markdown",
   "id": "distinguished-basin",
   "metadata": {},
   "source": [
    "Más información y métodos (en inglés): \n",
    "    \n",
    "https://www.programiz.com/python-programming/string"
   ]
  },
  {
   "cell_type": "markdown",
   "id": "diagnostic-doctrine",
   "metadata": {
    "tags": []
   },
   "source": [
    "### Operadores con booleanos\n",
    "\n",
    "Las siguientes tablas muestran como funcionan las operaciones lógicas `and`, `or` y `not`."
   ]
  },
  {
   "cell_type": "markdown",
   "id": "physical-gathering",
   "metadata": {},
   "source": [
    "#### Operador `and`\n",
    "\n",
    "Implementa la operación lógica \"y\""
   ]
  },
  {
   "cell_type": "code",
   "execution_count": null,
   "id": "empty-episode",
   "metadata": {
    "ExecuteTime": {
     "end_time": "2021-03-22T19:47:25.648406Z",
     "start_time": "2021-03-22T19:47:25.636406Z"
    }
   },
   "outputs": [],
   "source": [
    "print('| Bool1  -  Bool2 |  Resultado')\n",
    "print('------------------------------')\n",
    "print('| True  and True  | ', True and True)\n",
    "print('| False and True  | ', False and True)\n",
    "print('| True  and False | ', True and False)\n",
    "print('| False and False | ', False and False)"
   ]
  },
  {
   "cell_type": "markdown",
   "id": "olympic-louisville",
   "metadata": {},
   "source": [
    "#### Operador `or`\n",
    "\n",
    "Implementa la operación lógica \"o\""
   ]
  },
  {
   "cell_type": "code",
   "execution_count": null,
   "id": "played-breakfast",
   "metadata": {
    "ExecuteTime": {
     "end_time": "2021-03-22T19:47:40.866246Z",
     "start_time": "2021-03-22T19:47:40.858245Z"
    }
   },
   "outputs": [],
   "source": [
    "print('| Bool1  -  Bool2 |  Resultado')\n",
    "print('------------------------------')\n",
    "print('| True  or True  | ', True or True)\n",
    "print('| False or True  | ', False or True)\n",
    "print('| True  or False | ', True or False)\n",
    "print('| False or False | ', False or False)"
   ]
  },
  {
   "cell_type": "markdown",
   "id": "grateful-atlas",
   "metadata": {},
   "source": [
    "#### Operador `not`\n",
    "\n",
    "\n",
    "Implementa la operación lógica \"negación\""
   ]
  },
  {
   "cell_type": "code",
   "execution_count": null,
   "id": "ad43ed3c-e999-41ad-9b5a-56079ccef153",
   "metadata": {},
   "outputs": [],
   "source": [
    "print('| Bool1      |  Resultado')\n",
    "print('-------------------------')\n",
    "print('| not True   | ', not True)\n",
    "print('| not False  | ', not False)"
   ]
  },
  {
   "cell_type": "markdown",
   "id": "polar-worst",
   "metadata": {},
   "source": [
    "#### Comparaciones e igualdades"
   ]
  },
  {
   "cell_type": "code",
   "execution_count": null,
   "id": "innocent-drive",
   "metadata": {
    "ExecuteTime": {
     "end_time": "2021-03-22T19:47:59.571799Z",
     "start_time": "2021-03-22T19:47:59.565834Z"
    }
   },
   "outputs": [],
   "source": [
    "variable_1 = True\n",
    "variable_2 = False"
   ]
  },
  {
   "cell_type": "markdown",
   "id": "cd5425b5-803b-448c-b018-6cfa02b429c9",
   "metadata": {},
   "source": [
    "#### Igualdad"
   ]
  },
  {
   "cell_type": "code",
   "execution_count": null,
   "id": "acquired-lambda",
   "metadata": {
    "ExecuteTime": {
     "end_time": "2021-03-22T19:48:24.654775Z",
     "start_time": "2021-03-22T19:48:24.645776Z"
    }
   },
   "outputs": [],
   "source": [
    "variable_1 == True"
   ]
  },
  {
   "cell_type": "code",
   "execution_count": null,
   "id": "94d0ecee-42b1-453e-941d-3db430af64c7",
   "metadata": {},
   "outputs": [],
   "source": [
    "variable_2 == True"
   ]
  },
  {
   "cell_type": "markdown",
   "id": "little-instrumentation",
   "metadata": {
    "ExecuteTime": {
     "end_time": "2021-03-22T15:16:11.183686Z",
     "start_time": "2021-03-22T15:16:11.173687Z"
    }
   },
   "source": [
    "> **Pregunta ❓:** ¿En otros lenguajes existen los operadores `&&` y `||`?¿Existen estos en python?"
   ]
  },
  {
   "cell_type": "markdown",
   "id": "greater-internship",
   "metadata": {},
   "source": [
    "---\n",
    "\n",
    "## Parte 4: Control de Flujo"
   ]
  },
  {
   "cell_type": "markdown",
   "id": "ordinary-navigation",
   "metadata": {},
   "source": [
    "Una estructura de **Control de flujo** se refiere a un tipo de estructura de código que nos permite decidir si ejecutar o no un determinado segmento de código según una expresión o variable booleana:\n",
    "\n",
    "```python\n",
    "\n",
    "if expresion_booleana_0:\n",
    "    # Ejecuto este código si expresion_booleana_0 es True.\n",
    "    ...  \n",
    "\n",
    "elif expresion_booleana_1:\n",
    "    # Ejecuto este código si expresion_booleana_1 es `True` y expresion_booleana_0 es False.\n",
    "    ...\n",
    "    \n",
    "else:\n",
    "    # Ejecuto este código si expresion_booleana_0 y expresion_booleana_1 son False.\n",
    "    ...\n",
    "\n",
    "```\n",
    "\n",
    "- **Nota 1:** Puede usarse ```elif``` tantas veces como sea necesario. \n",
    "- **Nota 2:**: La keyword ```else``` finaliza el el flujo y es opcional. Es decir, se puede hacer\n",
    "un control de flujo sin utilizar ```elif``` no ```else```.\n"
   ]
  },
  {
   "cell_type": "markdown",
   "id": "infrared-crossing",
   "metadata": {},
   "source": [
    "### Bloque Indentado\n",
    "\n",
    "\n",
    "Es posible observar que bajo cada expresión ```if```, ```elif``` o ```else```, se ejecutan las acciones correspondientes 4 espacios más adentro. Esto se conoce como indentación.\n",
    "\n",
    "En `Python`, cada linea de código pertenece a un *bloque*. Además, cada bloque posee una jerarquía: en el caso del control de flujo, cada keyword define un bloque indentado de 4 espacios bajo ella. \n",
    "\n",
    "> **Pregunta ❓**: ¿Cómo se maneja el código dependiente de un bloque en otros lenguajes?"
   ]
  },
  {
   "cell_type": "code",
   "execution_count": 110,
   "id": "working-garden",
   "metadata": {
    "ExecuteTime": {
     "end_time": "2021-03-22T19:55:30.847496Z",
     "start_time": "2021-03-22T19:55:30.831497Z"
    }
   },
   "outputs": [
    {
     "name": "stdout",
     "output_type": "stream",
     "text": [
      "Enseguida le traigo su 🍵.\n"
     ]
    }
   ],
   "source": [
    "pregunta = 'Hola!, ¿Qué desea tomar?'\n",
    "\n",
    "respuesta = 'tee'\n",
    "\n",
    "if 'te' in respuesta:\n",
    "    print('Enseguida le traigo su 🍵.')\n",
    "    \n",
    "elif respuesta == 'cafe':\n",
    "    print('Enseguida le traigo su ☕.')\n",
    "    \n",
    "else: \n",
    "    print('No tengo lo que me está solicitando 🤷')"
   ]
  },
  {
   "cell_type": "markdown",
   "id": "homeless-hardware",
   "metadata": {},
   "source": [
    "> **Pregunta ❓**: ¿Switch/Case en python?"
   ]
  },
  {
   "cell_type": "markdown",
   "id": "digital-incentive",
   "metadata": {},
   "source": [
    "---\n",
    "\n",
    "## Parte 5: Colecciones\n",
    "\n",
    "Una **colección** es una estructura que permite almacenar datos y operarlos. Algunas de las posibles operaciones son:\n",
    "- Ordenación\n",
    "- Mapeos (aplicar una función a cada elemento)\n",
    "- Filtros\n",
    "- Reducción (agregar todos los elementos según alguna función, por ejemplo la suma)\n",
    "- Etc... \n",
    "\n",
    "\n",
    "A su vez, pueden ser: \n",
    "\n",
    "1. **Mutables** (listas, conjuntos), que en palabras simples, permiten adición, eliminación y modificación de sus elementos. \n",
    "\n",
    "2. **Inmutables** (tuplas). No se pueden modificar sus elementos,\n",
    "\n",
    "Finalmente, es posible **iterar** (*(Realizar cierta acción varias veces)*) sobre estas estructuras y calcular operaciones de reducción sobre estas (promedios, medianas, sumas, etc ...).\n",
    "\n",
    "Por tal motivo, *los contenedores están íntimamente relacionados con la programación en Python para el análisis de datos*."
   ]
  },
  {
   "cell_type": "markdown",
   "id": "dynamic-dragon",
   "metadata": {},
   "source": [
    "## Listas\n",
    "\n",
    "Creamos las listas usando los brackets ([]). "
   ]
  },
  {
   "cell_type": "code",
   "execution_count": 111,
   "id": "racial-optimum",
   "metadata": {
    "ExecuteTime": {
     "end_time": "2021-03-22T19:57:50.566059Z",
     "start_time": "2021-03-22T19:57:50.551060Z"
    }
   },
   "outputs": [
    {
     "data": {
      "text/plain": [
       "[]"
      ]
     },
     "execution_count": 111,
     "metadata": {},
     "output_type": "execute_result"
    }
   ],
   "source": [
    "# Lista sin elementos pero inicializada.\n",
    "lista_vacia = []\n",
    "lista_vacia"
   ]
  },
  {
   "cell_type": "code",
   "execution_count": 112,
   "id": "amateur-morocco",
   "metadata": {
    "scrolled": true
   },
   "outputs": [
    {
     "data": {
      "text/plain": [
       "[1, 2, 3]"
      ]
     },
     "execution_count": 112,
     "metadata": {},
     "output_type": "execute_result"
    }
   ],
   "source": [
    "# Lista con literales\n",
    "lista_1 = [1, 2, 3]\n",
    "lista_1"
   ]
  },
  {
   "cell_type": "markdown",
   "id": "discrete-filter",
   "metadata": {},
   "source": [
    "También podemos crear una lista con distintos tipos de datos (incluyendo otras colecciones)"
   ]
  },
  {
   "cell_type": "code",
   "execution_count": 113,
   "id": "collaborative-rescue",
   "metadata": {
    "ExecuteTime": {
     "end_time": "2021-03-22T19:58:06.077336Z",
     "start_time": "2021-03-22T19:58:06.062335Z"
    }
   },
   "outputs": [
    {
     "data": {
      "text/plain": [
       "[1, 2, 10.0, 'hola', True, [0, 1, 2]]"
      ]
     },
     "execution_count": 113,
     "metadata": {},
     "output_type": "execute_result"
    }
   ],
   "source": [
    "lista_2 = [1, 2, 10.0, 'hola', True, [0, 1, 2]]\n",
    "lista_2"
   ]
  },
  {
   "cell_type": "markdown",
   "id": "8a5f65bf",
   "metadata": {},
   "source": [
    "> Pregunta: ¿Es bueno hacer esto en data science: `presion = [1 ,2 ,3, 3.3, 3 +1j, '4']`?"
   ]
  },
  {
   "cell_type": "markdown",
   "id": "compound-civilization",
   "metadata": {},
   "source": [
    "Y podemos acceder a la cantidad de elementos de la lista usando la función `len(variable_lista)`"
   ]
  },
  {
   "cell_type": "code",
   "execution_count": 114,
   "id": "adapted-failing",
   "metadata": {
    "ExecuteTime": {
     "end_time": "2021-03-23T13:47:49.256063Z",
     "start_time": "2021-03-23T13:47:49.006052Z"
    }
   },
   "outputs": [
    {
     "data": {
      "text/plain": [
       "6"
      ]
     },
     "execution_count": 114,
     "metadata": {},
     "output_type": "execute_result"
    }
   ],
   "source": [
    "# Largo de la lista = Cantidad de elementos dentro de la lista.\n",
    "len(lista_2)"
   ]
  },
  {
   "cell_type": "markdown",
   "id": "orange-operation",
   "metadata": {},
   "source": [
    "### Operaciones con listas"
   ]
  },
  {
   "cell_type": "markdown",
   "id": "cleared-mattress",
   "metadata": {},
   "source": [
    "#### Indexado: Cómo acceder a ciertos elementos de la lista\n",
    "\n",
    "\n",
    "Cada elemento de una lista va asociado a un indice, el cual identifica la posición del elemnto dentro de la lista.\n",
    "```python\n",
    "lista   =  ['Uvas 🍇', 'Melón 🍈', 'Sandía 🍉', 'Damasco 🍊', 'Limón 🍋']\n",
    "indices -> [  0            1             2             3            4  ] \n",
    "# Ojo que parten desde el 0!!\n",
    "```\n",
    "\n",
    "Podemos acceder a cierto elemento de la lista  usando la sintaxis \n",
    "\n",
    "```python\n",
    "lista[indice]\n",
    "```\n",
    "\n"
   ]
  },
  {
   "cell_type": "code",
   "execution_count": 115,
   "id": "6b0ef001-0d3c-4489-825f-b4683abd90d8",
   "metadata": {
    "ExecuteTime": {
     "end_time": "2021-03-22T19:59:05.476354Z",
     "start_time": "2021-03-22T19:59:05.461354Z"
    }
   },
   "outputs": [
    {
     "data": {
      "text/plain": [
       "5"
      ]
     },
     "execution_count": 115,
     "metadata": {},
     "output_type": "execute_result"
    }
   ],
   "source": [
    "lista = ['Uvas 🍇', 'Melón 🍈', 'Sandía 🍉', 'Damasco 🍊', 'Limón 🍋']\n",
    "\n",
    "# len(lista) nos permite ver el número de elementos que contiene la lista\n",
    "\n",
    "len(lista)"
   ]
  },
  {
   "cell_type": "code",
   "execution_count": 116,
   "id": "premium-contribution",
   "metadata": {},
   "outputs": [
    {
     "data": {
      "text/plain": [
       "'Uvas 🍇'"
      ]
     },
     "execution_count": 116,
     "metadata": {},
     "output_type": "execute_result"
    }
   ],
   "source": [
    "lista[0]"
   ]
  },
  {
   "cell_type": "code",
   "execution_count": 117,
   "id": "younger-harbor",
   "metadata": {
    "ExecuteTime": {
     "end_time": "2021-03-22T19:59:13.168055Z",
     "start_time": "2021-03-22T19:59:13.158028Z"
    }
   },
   "outputs": [
    {
     "data": {
      "text/plain": [
       "'Melón 🍈'"
      ]
     },
     "execution_count": 117,
     "metadata": {},
     "output_type": "execute_result"
    }
   ],
   "source": [
    "lista[1]"
   ]
  },
  {
   "cell_type": "markdown",
   "id": "a97d1d41-3d68-4f31-b9e5-5807015c6ab3",
   "metadata": {},
   "source": [
    "El indexado negativo nos permite partir desde el último elemento hasta el primero\n"
   ]
  },
  {
   "cell_type": "code",
   "execution_count": 118,
   "id": "beautiful-prayer",
   "metadata": {
    "ExecuteTime": {
     "end_time": "2021-03-22T19:59:30.685686Z",
     "start_time": "2021-03-22T19:59:30.673688Z"
    }
   },
   "outputs": [
    {
     "data": {
      "text/plain": [
       "'Limón 🍋'"
      ]
     },
     "execution_count": 118,
     "metadata": {},
     "output_type": "execute_result"
    }
   ],
   "source": [
    "lista[-1]"
   ]
  },
  {
   "cell_type": "markdown",
   "id": "8c43cf2a-8e1c-4ce1-ab18-ff87641f4b02",
   "metadata": {
    "jp-MarkdownHeadingCollapsed": true,
    "tags": []
   },
   "source": [
    "Indices parten de cero. El largo de la lista parte contando desde 1, ya que existe por lo menos un elemento en la lista. Entonces, para sacar el elemento i, tenemos que restale 1."
   ]
  },
  {
   "cell_type": "code",
   "execution_count": null,
   "id": "competitive-valuation",
   "metadata": {
    "ExecuteTime": {
     "end_time": "2021-03-22T20:01:32.006964Z",
     "start_time": "2021-03-22T20:01:31.991966Z"
    }
   },
   "outputs": [],
   "source": [
    "# El código anterior es equivalente a algo similar a esto:\n",
    "lista[len(lista) - 1]"
   ]
  },
  {
   "cell_type": "code",
   "execution_count": null,
   "id": "determined-olympus",
   "metadata": {
    "ExecuteTime": {
     "end_time": "2021-03-22T20:01:41.166890Z",
     "start_time": "2021-03-22T20:01:41.153886Z"
    }
   },
   "outputs": [],
   "source": [
    "lista[-1]"
   ]
  },
  {
   "cell_type": "markdown",
   "id": "widespread-serbia",
   "metadata": {},
   "source": [
    "Podemos mutar un valor de una lista usando \n",
    "\n",
    "```python\n",
    "lista[indice] = nuevo_valor\n",
    "```"
   ]
  },
  {
   "cell_type": "code",
   "execution_count": 119,
   "id": "defined-allergy",
   "metadata": {},
   "outputs": [
    {
     "data": {
      "text/plain": [
       "['Uvas 🍇', 'Melón 🍈', 'Sandía 🍉', 'Damasco 🍊', 'Limón 🍋']"
      ]
     },
     "execution_count": 119,
     "metadata": {},
     "output_type": "execute_result"
    }
   ],
   "source": [
    "lista"
   ]
  },
  {
   "cell_type": "code",
   "execution_count": 120,
   "id": "threatened-channel",
   "metadata": {
    "scrolled": true
   },
   "outputs": [
    {
     "data": {
      "text/plain": [
       "['Manzana🍏', 'Melón 🍈', 'Sandía 🍉', 'Damasco 🍊', 'Limón 🍋']"
      ]
     },
     "execution_count": 120,
     "metadata": {},
     "output_type": "execute_result"
    }
   ],
   "source": [
    "lista[0] = 'Manzana🍏' # Modificamos el elemento en el índice 0 por '🍏 '\n",
    "lista"
   ]
  },
  {
   "cell_type": "markdown",
   "id": "tracked-quality",
   "metadata": {},
   "source": [
    "Nota: Podemos simular las matrices a través de listas de listas"
   ]
  },
  {
   "cell_type": "code",
   "execution_count": 121,
   "id": "driven-vacuum",
   "metadata": {
    "ExecuteTime": {
     "end_time": "2021-03-22T20:02:01.976235Z",
     "start_time": "2021-03-22T20:02:01.959238Z"
    }
   },
   "outputs": [
    {
     "data": {
      "text/plain": [
       "[7, 8, 9]"
      ]
     },
     "execution_count": 121,
     "metadata": {},
     "output_type": "execute_result"
    }
   ],
   "source": [
    "matriz = [\n",
    "    [1, 2, 3], \n",
    "    [4, 5, 6], \n",
    "    [7, 8, 9]\n",
    "]\n",
    "\n",
    "matriz[2]  # i = Tercera fila"
   ]
  },
  {
   "cell_type": "code",
   "execution_count": null,
   "id": "b4fd647a-ffd0-4361-b2fa-4302f46ca7d0",
   "metadata": {},
   "outputs": [],
   "source": [
    "matriz_ij[i][j]"
   ]
  },
  {
   "cell_type": "code",
   "execution_count": 122,
   "id": "english-missile",
   "metadata": {
    "ExecuteTime": {
     "end_time": "2021-03-22T20:02:26.495024Z",
     "start_time": "2021-03-22T20:02:26.487026Z"
    },
    "scrolled": true
   },
   "outputs": [
    {
     "data": {
      "text/plain": [
       "7"
      ]
     },
     "execution_count": 122,
     "metadata": {},
     "output_type": "execute_result"
    }
   ],
   "source": [
    "# Para acceder a un elemento de la matriz, podemos usar un doble indexado.\n",
    "\n",
    "matriz[2][0]  # i = Tercera fila, j = primera columna"
   ]
  },
  {
   "cell_type": "markdown",
   "id": "respected-principal",
   "metadata": {},
   "source": [
    "#### Slice: Seleccionar una sublista a partir ciertos indices\n",
    "\n",
    "Notar que esta operación retorna una nueva lista con referencias a los datos de la lista original (no los copia)."
   ]
  },
  {
   "cell_type": "code",
   "execution_count": 123,
   "id": "different-uzbekistan",
   "metadata": {
    "ExecuteTime": {
     "end_time": "2021-03-22T20:02:49.919181Z",
     "start_time": "2021-03-22T20:02:49.901179Z"
    }
   },
   "outputs": [
    {
     "data": {
      "text/plain": [
       "['Melón 🍈', 'Sandía 🍉', 'Damasco 🍊']"
      ]
     },
     "execution_count": 123,
     "metadata": {},
     "output_type": "execute_result"
    }
   ],
   "source": [
    "lista_3 = ['Uvas 🍇', 'Melón 🍈', 'Sandía 🍉', 'Damasco 🍊', 'Limón 🍋']\n",
    "\n",
    "lista_3[1:4]"
   ]
  },
  {
   "cell_type": "markdown",
   "id": "mighty-first",
   "metadata": {},
   "source": [
    "#### Append: Agrega un elemento al final de la lista.\n",
    "\n",
    "Esta operación muta la lista original"
   ]
  },
  {
   "cell_type": "code",
   "execution_count": 132,
   "id": "banner-cowboy",
   "metadata": {
    "ExecuteTime": {
     "end_time": "2021-03-22T20:06:11.031940Z",
     "start_time": "2021-03-22T20:06:11.021910Z"
    }
   },
   "outputs": [
    {
     "data": {
      "text/plain": [
       "['Uvas 🍇', 'Melón 🍈', 'Sandía 🍉', 'Damasco 🍊', 'Limón 🍋', 'Manzana 🍎']"
      ]
     },
     "execution_count": 132,
     "metadata": {},
     "output_type": "execute_result"
    }
   ],
   "source": [
    "lista = ['Uvas 🍇', 'Melón 🍈', 'Sandía 🍉', 'Damasco 🍊', 'Limón 🍋']\n",
    "\n",
    "lista.append('Manzana 🍎')\n",
    "lista"
   ]
  },
  {
   "cell_type": "markdown",
   "id": "functioning-header",
   "metadata": {
    "ExecuteTime": {
     "end_time": "2021-03-22T17:22:38.838554Z",
     "start_time": "2021-03-22T17:22:38.823544Z"
    }
   },
   "source": [
    "> **Pregunta**: ¿Qué pasa si lo ejecutamos nuevamente?"
   ]
  },
  {
   "cell_type": "code",
   "execution_count": 136,
   "id": "amino-commodity",
   "metadata": {
    "ExecuteTime": {
     "end_time": "2021-03-22T20:06:24.586145Z",
     "start_time": "2021-03-22T20:06:24.575142Z"
    }
   },
   "outputs": [
    {
     "data": {
      "text/plain": [
       "['Uvas 🍇',\n",
       " 'Melón 🍈',\n",
       " 'Sandía 🍉',\n",
       " 'Damasco 🍊',\n",
       " 'Limón 🍋',\n",
       " 'Manzana 🍎',\n",
       " 'Manzana 🍎',\n",
       " 'Manzana 🍎',\n",
       " 'Manzana 🍎',\n",
       " 'Manzana 🍎']"
      ]
     },
     "execution_count": 136,
     "metadata": {},
     "output_type": "execute_result"
    }
   ],
   "source": [
    "lista.append('Manzana 🍎')\n",
    "lista"
   ]
  },
  {
   "cell_type": "code",
   "execution_count": 137,
   "id": "1fd560f9-dfe4-4378-ab26-64fa2f1e1297",
   "metadata": {},
   "outputs": [
    {
     "data": {
      "text/plain": [
       "['Uvas 🍇',\n",
       " 'Melón 🍈',\n",
       " 'Sandía 🍉',\n",
       " 'Damasco 🍊',\n",
       " 'Limón 🍋',\n",
       " 'Manzana 🍎',\n",
       " 'Manzana 🍎',\n",
       " 'Manzana 🍎',\n",
       " 'Manzana 🍎',\n",
       " 'Manzana 🍎']"
      ]
     },
     "execution_count": 137,
     "metadata": {},
     "output_type": "execute_result"
    }
   ],
   "source": [
    "lista"
   ]
  },
  {
   "cell_type": "markdown",
   "id": "proof-vaccine",
   "metadata": {
    "ExecuteTime": {
     "end_time": "2021-03-22T17:25:28.562746Z",
     "start_time": "2021-03-22T17:25:28.552750Z"
    }
   },
   "source": [
    "####  Concatenación de listas\n",
    "\n",
    "También se pueden concatenar listas. Estas rentornan una **nueva lista** en vez de mutar la de origen."
   ]
  },
  {
   "cell_type": "code",
   "execution_count": 138,
   "id": "copyrighted-schema",
   "metadata": {
    "ExecuteTime": {
     "end_time": "2021-03-23T13:48:20.670219Z",
     "start_time": "2021-03-23T13:48:20.651210Z"
    }
   },
   "outputs": [
    {
     "data": {
      "text/plain": [
       "['Uvas 🍇',\n",
       " 'Melón 🍈',\n",
       " 'Sandía 🍉',\n",
       " 'Damasco 🍊',\n",
       " 'Limón 🍋',\n",
       " 'Manzana 🍎',\n",
       " 'Plátano 🍌',\n",
       " 'Piña 🍍']"
      ]
     },
     "execution_count": 138,
     "metadata": {},
     "output_type": "execute_result"
    }
   ],
   "source": [
    "# Limpiamos a lista anterior a la original que teníamos.\n",
    "lista = ['Uvas 🍇', 'Melón 🍈', 'Sandía 🍉', 'Damasco 🍊', 'Limón 🍋']\n",
    "\n",
    "# Concatenamos\n",
    "nueva_lista = lista + ['Manzana 🍎', 'Plátano 🍌', 'Piña 🍍']\n",
    "nueva_lista"
   ]
  },
  {
   "cell_type": "code",
   "execution_count": 140,
   "id": "6ae613d3-dee6-45b3-9407-a056cc7d7976",
   "metadata": {},
   "outputs": [
    {
     "data": {
      "text/plain": [
       "['Piña 🍍', 'Uvas 🍇', 'Melón 🍈', 'Sandía 🍉', 'Damasco 🍊', 'Limón 🍋']"
      ]
     },
     "execution_count": 140,
     "metadata": {},
     "output_type": "execute_result"
    }
   ],
   "source": [
    "['Piña 🍍'] + lista"
   ]
  },
  {
   "cell_type": "markdown",
   "id": "identified-terrorist",
   "metadata": {},
   "source": [
    "#### Pop: Quita de la lista el elemento indicado por cierto índice\n",
    "\n",
    "Observación: Si no encuentra un elemento en el índice indicado, levanta una excepción y corta la ejecución del programa."
   ]
  },
  {
   "cell_type": "code",
   "execution_count": null,
   "id": "threaded-future",
   "metadata": {
    "ExecuteTime": {
     "end_time": "2021-03-23T13:48:26.935898Z",
     "start_time": "2021-03-23T13:48:26.915897Z"
    }
   },
   "outputs": [],
   "source": [
    "lista.pop(1)"
   ]
  },
  {
   "cell_type": "code",
   "execution_count": null,
   "id": "monetary-theater",
   "metadata": {
    "ExecuteTime": {
     "end_time": "2021-03-23T13:48:27.708582Z",
     "start_time": "2021-03-23T13:48:27.698582Z"
    }
   },
   "outputs": [],
   "source": [
    "lista.pop(100)"
   ]
  },
  {
   "cell_type": "markdown",
   "id": "behavioral-master",
   "metadata": {
    "ExecuteTime": {
     "end_time": "2021-03-22T18:06:52.967997Z",
     "start_time": "2021-03-22T18:06:52.953004Z"
    }
   },
   "source": [
    "#### Sort: Ordena \n",
    "\n",
    "Nota: Ordena según como se define >= para los datos."
   ]
  },
  {
   "cell_type": "code",
   "execution_count": 141,
   "id": "persistent-stretch",
   "metadata": {
    "ExecuteTime": {
     "end_time": "2021-03-23T13:48:32.069063Z",
     "start_time": "2021-03-23T13:48:32.052063Z"
    }
   },
   "outputs": [
    {
     "data": {
      "text/plain": [
       "[-8, -3, 0, 0, 1, 2, 3, 10]"
      ]
     },
     "execution_count": 141,
     "metadata": {},
     "output_type": "execute_result"
    }
   ],
   "source": [
    "# Orden numérico.\n",
    "lista_desordenada = [10, 3, 2, -8, 1, 0, 0, -3]\n",
    "lista_desordenada.sort()\n",
    "lista_desordenada"
   ]
  },
  {
   "cell_type": "markdown",
   "id": "cf31b50d-fa59-4b87-979f-ccd6924a2f97",
   "metadata": {},
   "source": [
    "Para ordenar strings también se hace uso del orden lexicográfico"
   ]
  },
  {
   "cell_type": "code",
   "execution_count": 142,
   "id": "aggressive-production",
   "metadata": {
    "ExecuteTime": {
     "end_time": "2021-03-23T13:48:32.845205Z",
     "start_time": "2021-03-23T13:48:32.829250Z"
    }
   },
   "outputs": [
    {
     "data": {
      "text/plain": [
       "['Vienesa 🍖', 'ketchup 🍶', 'mayo 🍶', 'palta 🥑', 'pan 🥖', 'tomate 🍅']"
      ]
     },
     "execution_count": 142,
     "metadata": {},
     "output_type": "execute_result"
    }
   ],
   "source": [
    "# Usando listas con strings se hace con orden lexicográfico.\n",
    "lista_desordenada_2 = ['Vienesa 🍖', 'pan 🥖', 'tomate 🍅', 'palta 🥑', 'mayo 🍶', 'ketchup 🍶']\n",
    "lista_desordenada_2.sort()\n",
    "lista_desordenada_2"
   ]
  },
  {
   "cell_type": "markdown",
   "id": "metropolitan-nashville",
   "metadata": {},
   "source": [
    "#### Index: Busca el elemento entregado en la lista y retorna su índice"
   ]
  },
  {
   "cell_type": "code",
   "execution_count": 143,
   "id": "modular-maximum",
   "metadata": {
    "ExecuteTime": {
     "end_time": "2021-03-23T13:49:32.322633Z",
     "start_time": "2021-03-23T13:49:32.302594Z"
    }
   },
   "outputs": [
    {
     "data": {
      "text/plain": [
       "['Uvas 🍇', 'Melón 🍈', 'Sandía 🍉', 'Damasco 🍊', 'Limón 🍋']"
      ]
     },
     "execution_count": 143,
     "metadata": {},
     "output_type": "execute_result"
    }
   ],
   "source": [
    "# Recordamos que había en lista\n",
    "lista = ['Uvas 🍇', 'Melón 🍈', 'Sandía 🍉', 'Damasco 🍊', 'Limón 🍋']\n",
    "lista"
   ]
  },
  {
   "cell_type": "code",
   "execution_count": 144,
   "id": "allied-coral",
   "metadata": {
    "ExecuteTime": {
     "end_time": "2021-03-23T13:49:33.304645Z",
     "start_time": "2021-03-23T13:49:33.291629Z"
    },
    "scrolled": true
   },
   "outputs": [
    {
     "data": {
      "text/plain": [
       "2"
      ]
     },
     "execution_count": 144,
     "metadata": {},
     "output_type": "execute_result"
    }
   ],
   "source": [
    "lista.index('Sandía 🍉')"
   ]
  },
  {
   "cell_type": "code",
   "execution_count": 145,
   "id": "amended-congress",
   "metadata": {
    "ExecuteTime": {
     "end_time": "2021-03-23T13:49:36.762155Z",
     "start_time": "2021-03-23T13:49:36.746124Z"
    }
   },
   "outputs": [
    {
     "ename": "ValueError",
     "evalue": "'Arándanos 🫐' is not in list",
     "output_type": "error",
     "traceback": [
      "\u001b[0;31m---------------------------------------------------------------------------\u001b[0m",
      "\u001b[0;31mValueError\u001b[0m                                Traceback (most recent call last)",
      "Input \u001b[0;32mIn [145]\u001b[0m, in \u001b[0;36m<cell line: 1>\u001b[0;34m()\u001b[0m\n\u001b[0;32m----> 1\u001b[0m \u001b[43mlista\u001b[49m\u001b[38;5;241;43m.\u001b[39;49m\u001b[43mindex\u001b[49m\u001b[43m(\u001b[49m\u001b[38;5;124;43m'\u001b[39;49m\u001b[38;5;124;43mArándanos 🫐\u001b[39;49m\u001b[38;5;124;43m'\u001b[39;49m\u001b[43m)\u001b[49m\n",
      "\u001b[0;31mValueError\u001b[0m: 'Arándanos 🫐' is not in list"
     ]
    }
   ],
   "source": [
    "lista.index('Arándanos 🫐')"
   ]
  },
  {
   "cell_type": "markdown",
   "id": "graduate-alignment",
   "metadata": {},
   "source": [
    "Pueden encontrar una completa guía aquí de todos los métodos (funciones) que pueden ejecutar con una lista:\n",
    "    \n",
    "https://www.programiz.com/python-programming/list"
   ]
  },
  {
   "cell_type": "markdown",
   "id": "advanced-administrator",
   "metadata": {
    "ExecuteTime": {
     "end_time": "2021-03-22T18:01:08.375069Z",
     "start_time": "2021-03-22T18:01:08.362071Z"
    },
    "tags": []
   },
   "source": [
    "### Paréntesis: Strings.\n",
    "\n",
    "Los strings son un tipo especial de lista que no es mutable, pero que se puede indexar."
   ]
  },
  {
   "cell_type": "code",
   "execution_count": null,
   "id": "c51d0fa6-9587-4124-977e-cbaa37af6bb9",
   "metadata": {},
   "outputs": [],
   "source": [
    "['j', 'u', 'a', 'n']"
   ]
  },
  {
   "cell_type": "code",
   "execution_count": 146,
   "id": "derived-identifier",
   "metadata": {
    "ExecuteTime": {
     "end_time": "2021-03-22T20:03:15.091952Z",
     "start_time": "2021-03-22T20:03:15.076952Z"
    }
   },
   "outputs": [
    {
     "data": {
      "text/plain": [
       "'an'"
      ]
     },
     "execution_count": 146,
     "metadata": {},
     "output_type": "execute_result"
    }
   ],
   "source": [
    "nombre = 'Juan'\n",
    "nombre[2:4]"
   ]
  },
  {
   "cell_type": "markdown",
   "id": "final-nicaragua",
   "metadata": {},
   "source": [
    "También se pueden convertir a string"
   ]
  },
  {
   "cell_type": "code",
   "execution_count": 147,
   "id": "olive-meeting",
   "metadata": {
    "ExecuteTime": {
     "end_time": "2021-03-22T20:03:39.934091Z",
     "start_time": "2021-03-22T20:03:39.916065Z"
    }
   },
   "outputs": [
    {
     "data": {
      "text/plain": [
       "['J', 'u', 'a', 'n']"
      ]
     },
     "execution_count": 147,
     "metadata": {},
     "output_type": "execute_result"
    }
   ],
   "source": [
    "list(nombre)"
   ]
  },
  {
   "cell_type": "code",
   "execution_count": 148,
   "id": "immune-endorsement",
   "metadata": {
    "ExecuteTime": {
     "end_time": "2021-03-22T20:03:54.221041Z",
     "start_time": "2021-03-22T20:03:54.207054Z"
    }
   },
   "outputs": [
    {
     "data": {
      "text/plain": [
       "\"['J', 'u', 'a', 'n']\""
      ]
     },
     "execution_count": 148,
     "metadata": {},
     "output_type": "execute_result"
    }
   ],
   "source": [
    "str(['J', 'u', 'a', 'n'])"
   ]
  },
  {
   "cell_type": "code",
   "execution_count": 151,
   "id": "d46b8d7b-185e-46c0-8a40-557815d7790e",
   "metadata": {},
   "outputs": [
    {
     "data": {
      "text/plain": [
       "'Juan'"
      ]
     },
     "execution_count": 151,
     "metadata": {},
     "output_type": "execute_result"
    }
   ],
   "source": [
    "''.join(['J', 'u', 'a', 'n'])"
   ]
  },
  {
   "cell_type": "markdown",
   "id": "organic-strap",
   "metadata": {},
   "source": [
    "Y podemos separarlos/juntarlos según algun carácter"
   ]
  },
  {
   "cell_type": "code",
   "execution_count": 152,
   "id": "australian-summer",
   "metadata": {
    "ExecuteTime": {
     "end_time": "2021-03-22T20:04:50.394800Z",
     "start_time": "2021-03-22T20:04:50.386782Z"
    }
   },
   "outputs": [
    {
     "data": {
      "text/plain": [
       "['Juan', 'come', 'verduras']"
      ]
     },
     "execution_count": 152,
     "metadata": {},
     "output_type": "execute_result"
    }
   ],
   "source": [
    "'Juan come verduras'.split(' ')"
   ]
  },
  {
   "cell_type": "code",
   "execution_count": 153,
   "id": "sonic-meaning",
   "metadata": {
    "ExecuteTime": {
     "end_time": "2021-03-22T20:05:39.326724Z",
     "start_time": "2021-03-22T20:05:39.315728Z"
    }
   },
   "outputs": [
    {
     "data": {
      "text/plain": [
       "'Juan-come-verduras'"
      ]
     },
     "execution_count": 153,
     "metadata": {},
     "output_type": "execute_result"
    }
   ],
   "source": [
    "# El string que pongan antes del join será el que unirá los strings del arreglo. En este caso, se uniran con '-'\n",
    "'-'.join(['Juan', 'come', 'verduras'])"
   ]
  },
  {
   "cell_type": "markdown",
   "id": "experimental-store",
   "metadata": {
    "ExecuteTime": {
     "end_time": "2021-03-22T18:13:21.155383Z",
     "start_time": "2021-03-22T18:13:21.138410Z"
    }
   },
   "source": [
    "## Tuplas\n",
    "\n",
    "Las tuplas siguen el mismo principio de las listas en cuanto a almacenar datos, no obstante, a diferencia de las listas, las tuplas son **inmutables**. Una ventaja sobre las listas, es que **son más eficientes computacionalmente y son más ligeras**. "
   ]
  },
  {
   "cell_type": "code",
   "execution_count": 2,
   "id": "incorporated-coffee",
   "metadata": {
    "ExecuteTime": {
     "end_time": "2021-03-23T13:49:58.837087Z",
     "start_time": "2021-03-23T13:49:58.819087Z"
    }
   },
   "outputs": [
    {
     "data": {
      "text/plain": [
       "(1, 2, 3)"
      ]
     },
     "execution_count": 2,
     "metadata": {},
     "output_type": "execute_result"
    }
   ],
   "source": [
    "# Se utilizan 'parentesis' para crearlas\n",
    "\n",
    "tupla = (1, 2, 3)\n",
    "tupla"
   ]
  },
  {
   "cell_type": "markdown",
   "id": "textile-table",
   "metadata": {},
   "source": [
    "Al igual que las listas, sus elementos pueden ser accedidos a través del indexado (que parte desde 0!)."
   ]
  },
  {
   "cell_type": "code",
   "execution_count": 3,
   "id": "unlimited-candidate",
   "metadata": {
    "ExecuteTime": {
     "end_time": "2021-03-23T13:50:00.583597Z",
     "start_time": "2021-03-23T13:50:00.564640Z"
    }
   },
   "outputs": [
    {
     "data": {
      "text/plain": [
       "1"
      ]
     },
     "execution_count": 3,
     "metadata": {},
     "output_type": "execute_result"
    }
   ],
   "source": [
    "tupla[0]"
   ]
  },
  {
   "cell_type": "code",
   "execution_count": 4,
   "id": "decent-partition",
   "metadata": {
    "ExecuteTime": {
     "end_time": "2021-03-23T13:50:01.245933Z",
     "start_time": "2021-03-23T13:50:01.227906Z"
    }
   },
   "outputs": [
    {
     "data": {
      "text/plain": [
       "3"
      ]
     },
     "execution_count": 4,
     "metadata": {},
     "output_type": "execute_result"
    }
   ],
   "source": [
    "tupla[-1]"
   ]
  },
  {
   "cell_type": "code",
   "execution_count": 5,
   "id": "standard-birmingham",
   "metadata": {
    "ExecuteTime": {
     "end_time": "2021-03-23T13:50:01.811887Z",
     "start_time": "2021-03-23T13:50:01.803886Z"
    }
   },
   "outputs": [
    {
     "data": {
      "text/plain": [
       "(1, 2)"
      ]
     },
     "execution_count": 5,
     "metadata": {},
     "output_type": "execute_result"
    }
   ],
   "source": [
    "tupla[0:2]"
   ]
  },
  {
   "cell_type": "markdown",
   "id": "medium-mining",
   "metadata": {},
   "source": [
    "> **Pregunta**: ¿Qué sucede si intentamos cambiar un valor de una tupla?"
   ]
  },
  {
   "cell_type": "code",
   "execution_count": 6,
   "id": "primary-doctrine",
   "metadata": {
    "ExecuteTime": {
     "end_time": "2021-03-22T20:10:48.920390Z",
     "start_time": "2021-03-22T20:10:48.909387Z"
    }
   },
   "outputs": [
    {
     "ename": "TypeError",
     "evalue": "'tuple' object does not support item assignment",
     "output_type": "error",
     "traceback": [
      "\u001b[0;31m---------------------------------------------------------------------------\u001b[0m",
      "\u001b[0;31mTypeError\u001b[0m                                 Traceback (most recent call last)",
      "Input \u001b[0;32mIn [6]\u001b[0m, in \u001b[0;36m<cell line: 1>\u001b[0;34m()\u001b[0m\n\u001b[0;32m----> 1\u001b[0m tupla[\u001b[38;5;241m0\u001b[39m] \u001b[38;5;241m=\u001b[39m \u001b[38;5;241m1\u001b[39m\n",
      "\u001b[0;31mTypeError\u001b[0m: 'tuple' object does not support item assignment"
     ]
    }
   ],
   "source": [
    "tupla[0] = 1"
   ]
  },
  {
   "cell_type": "markdown",
   "id": "1cf52fde-7625-410e-b072-e53ef6c0ac03",
   "metadata": {},
   "source": [
    "> **Pregunta**: ¿Cómo podría agregar nuevos elementos a una tupla?"
   ]
  },
  {
   "cell_type": "code",
   "execution_count": 9,
   "id": "03544ab5-eba6-4337-85fe-52ebecac9376",
   "metadata": {},
   "outputs": [
    {
     "data": {
      "text/plain": [
       "(1, 2, 3, 4)"
      ]
     },
     "execution_count": 9,
     "metadata": {},
     "output_type": "execute_result"
    }
   ],
   "source": [
    "nueva_tupla = (1, 2, 3, 4)\n",
    "nueva_tupla"
   ]
  },
  {
   "cell_type": "markdown",
   "id": "verbal-pocket",
   "metadata": {},
   "source": [
    "#### Unpacking\n",
    "\n",
    "Tuplas y listas comparten el acceso a sus elementos por medio de la sintaxis ```[*]```. Tanto tuplas como las listas se pueden \"desempacar\", el termino *pythonico* es **unpacking**. Ejemplo:"
   ]
  },
  {
   "cell_type": "code",
   "execution_count": 10,
   "id": "pregnant-stamp",
   "metadata": {
    "ExecuteTime": {
     "end_time": "2021-03-23T13:50:04.356386Z",
     "start_time": "2021-03-23T13:50:04.348385Z"
    }
   },
   "outputs": [],
   "source": [
    "# Unpacking de tuplas\n",
    "a, b, c, d = ('🚗', '🚌', '🚒', '🚕')"
   ]
  },
  {
   "cell_type": "code",
   "execution_count": 11,
   "id": "anticipated-seeking",
   "metadata": {
    "ExecuteTime": {
     "end_time": "2021-03-23T13:50:04.949324Z",
     "start_time": "2021-03-23T13:50:04.931285Z"
    }
   },
   "outputs": [
    {
     "data": {
      "text/plain": [
       "'🚗'"
      ]
     },
     "execution_count": 11,
     "metadata": {},
     "output_type": "execute_result"
    }
   ],
   "source": [
    "a"
   ]
  },
  {
   "cell_type": "code",
   "execution_count": 12,
   "id": "charitable-hotel",
   "metadata": {
    "ExecuteTime": {
     "end_time": "2021-03-23T13:50:05.473217Z",
     "start_time": "2021-03-23T13:50:05.458188Z"
    },
    "scrolled": true
   },
   "outputs": [
    {
     "data": {
      "text/plain": [
       "'🚌'"
      ]
     },
     "execution_count": 12,
     "metadata": {},
     "output_type": "execute_result"
    }
   ],
   "source": [
    "b"
   ]
  },
  {
   "cell_type": "code",
   "execution_count": 13,
   "id": "397d107c-382a-43a7-be7c-bce1f9ef0416",
   "metadata": {},
   "outputs": [
    {
     "data": {
      "text/plain": [
       "'🚒'"
      ]
     },
     "execution_count": 13,
     "metadata": {},
     "output_type": "execute_result"
    }
   ],
   "source": [
    "c"
   ]
  },
  {
   "cell_type": "code",
   "execution_count": 14,
   "id": "98cdfbc7-4273-44ed-95c7-16b3e4831530",
   "metadata": {},
   "outputs": [
    {
     "data": {
      "text/plain": [
       "'🚕'"
      ]
     },
     "execution_count": 14,
     "metadata": {},
     "output_type": "execute_result"
    }
   ],
   "source": [
    "d"
   ]
  },
  {
   "cell_type": "markdown",
   "id": "electric-hands",
   "metadata": {},
   "source": [
    "## Conjuntos\n",
    "\n",
    "Los conjuntos o **sets** son contenedores mutables, no ordenadas de objetos. Están diseñados para comportarse como sus contrapartes matemáticas. Un `frozenset` posee las mismas propiedades, solo que es inmutable."
   ]
  },
  {
   "cell_type": "code",
   "execution_count": 15,
   "id": "closed-austria",
   "metadata": {
    "ExecuteTime": {
     "end_time": "2021-03-22T20:12:05.870376Z",
     "start_time": "2021-03-22T20:12:05.858361Z"
    }
   },
   "outputs": [
    {
     "data": {
      "text/plain": [
       "{'🌭', '🍔', '🍕', '🍟', '🍳', '🥪'}"
      ]
     },
     "execution_count": 15,
     "metadata": {},
     "output_type": "execute_result"
    }
   ],
   "source": [
    "comida_rapida = {'🍕','🍔', '🍟', '🌭', '🍳', '🥪'}\n",
    "comida_rapida"
   ]
  },
  {
   "cell_type": "code",
   "execution_count": 16,
   "id": "common-laser",
   "metadata": {
    "ExecuteTime": {
     "end_time": "2021-03-23T13:50:08.385114Z",
     "start_time": "2021-03-23T13:50:08.371104Z"
    },
    "scrolled": true
   },
   "outputs": [
    {
     "data": {
      "text/plain": [
       "{'🍎', '🍳', '🥐', '🥖', '🥪'}"
      ]
     },
     "execution_count": 16,
     "metadata": {},
     "output_type": "execute_result"
    }
   ],
   "source": [
    "lista_desayuno = ['🥪', '🥖', '🍎', '🍳', '🥪', '🥐',  '🥪'] # Noten que repetimos el '🥪'\n",
    "\n",
    "desayuno = set(lista_desayuno) \n",
    "desayuno"
   ]
  },
  {
   "cell_type": "markdown",
   "id": "iraqi-luther",
   "metadata": {},
   "source": [
    "### Operaciones de conjuntos\n",
    "\n",
    "#### Unión\n",
    "\n",
    "Dados dos conjuntos $A$ y $B$, su unión $A \\cup B$ se puede ver representada por:\n",
    "\n",
    "<center>\n",
    "<img src=\"./resources/union.png\" alt=\"Unión de conjuntos A y B\" width=300/>\n",
    "</center>\n",
    "\n",
    "<center>\n",
    "Fuente: https://en.wikipedia.org/wiki/Union_(set_theory) \n",
    "</center>\n",
    "\n",
    "\n"
   ]
  },
  {
   "cell_type": "code",
   "execution_count": 24,
   "id": "precise-investigation",
   "metadata": {
    "ExecuteTime": {
     "end_time": "2021-03-22T20:12:38.241216Z",
     "start_time": "2021-03-22T20:12:38.229249Z"
    }
   },
   "outputs": [
    {
     "data": {
      "text/plain": [
       "{'🌭', '🍎', '🍔', '🍕', '🍟', '🍳', '🥐', '🥖', '🥪'}"
      ]
     },
     "execution_count": 24,
     "metadata": {},
     "output_type": "execute_result"
    }
   ],
   "source": [
    "comida_rapida.union(desayuno)"
   ]
  },
  {
   "cell_type": "markdown",
   "id": "historical-philip",
   "metadata": {},
   "source": [
    "#### Intersección\n",
    "\n",
    "\n",
    "Dados dos conjuntos $A$ y $B$, su intersección $A \\cap B$ se puede ver representada por:\n",
    "\n",
    "<center>\n",
    "<img src=\"./resources/intersection.jpg\" alt=\"Intersección de conjuntos A y B\" width=300/>\n",
    "</center>\n",
    "\n",
    "<center>\n",
    "Fuente: https://en.wikipedia.org/wiki/Intersection_(set_theory)\n",
    "</center>\n",
    "\n",
    "\n"
   ]
  },
  {
   "cell_type": "code",
   "execution_count": 18,
   "id": "dangerous-tolerance",
   "metadata": {
    "ExecuteTime": {
     "end_time": "2021-03-22T19:12:29.604218Z",
     "start_time": "2021-03-22T19:12:29.590219Z"
    }
   },
   "outputs": [
    {
     "data": {
      "text/plain": [
       "{'🍳', '🥪'}"
      ]
     },
     "execution_count": 18,
     "metadata": {},
     "output_type": "execute_result"
    }
   ],
   "source": [
    "comida_rapida.intersection(desayuno)"
   ]
  },
  {
   "cell_type": "markdown",
   "id": "caring-dallas",
   "metadata": {},
   "source": [
    "#### Diferencia o Complemento\n",
    "\n",
    "\n",
    "Dados dos conjuntos $A$ y $B$, la diferencia entre $A - B$ se puede ver representada por:\n",
    "\n",
    "<center>\n",
    "<img src=\"./resources/SetDifferenceA.svg.png\" alt=\"Diferencia A y B\" width=300/>\n",
    "</center>\n",
    "\n",
    "Y la diferencia entre $B - A$ se puede ver representada por:\n",
    "\n",
    "<center>\n",
    "<img src=\"./resources/SetDifferenceB.svg.png\" alt=\"Diferencia B y A\" width=300/>\n",
    "</center>\n",
    "\n",
    "<center>\n",
    "Fuente: https://en.wikipedia.org/wiki/Union_(set_theory)\n",
    "</center>\n",
    "\n",
    "\n",
    "\n",
    "\n",
    "Recuerden que esta operación no es simétrica!"
   ]
  },
  {
   "cell_type": "code",
   "execution_count": 19,
   "id": "complex-recycling",
   "metadata": {
    "ExecuteTime": {
     "end_time": "2021-03-22T19:12:29.635217Z",
     "start_time": "2021-03-22T19:12:29.623219Z"
    }
   },
   "outputs": [
    {
     "data": {
      "text/plain": [
       "{'🌭', '🍔', '🍕', '🍟'}"
      ]
     },
     "execution_count": 19,
     "metadata": {},
     "output_type": "execute_result"
    }
   ],
   "source": [
    "comida_rapida.difference(desayuno)"
   ]
  },
  {
   "cell_type": "code",
   "execution_count": 20,
   "id": "herbal-essex",
   "metadata": {
    "ExecuteTime": {
     "end_time": "2021-03-22T19:12:29.665218Z",
     "start_time": "2021-03-22T19:12:29.652220Z"
    }
   },
   "outputs": [
    {
     "data": {
      "text/plain": [
       "{'🍎', '🥐', '🥖'}"
      ]
     },
     "execution_count": 20,
     "metadata": {},
     "output_type": "execute_result"
    }
   ],
   "source": [
    "desayuno.difference(comida_rapida)"
   ]
  },
  {
   "cell_type": "markdown",
   "id": "brilliant-hungarian",
   "metadata": {},
   "source": [
    "## Diccionarios\n",
    "\n",
    "Un diccionario corresponde a la implementación pythonica de una aplicación del tipo \"llave - valor\".\n",
    "Permite crear estructuras que nos permitan representar de una forma más natural los datos.\n",
    "\n",
    "**Ejemplo**:"
   ]
  },
  {
   "cell_type": "code",
   "execution_count": 25,
   "id": "deadly-lloyd",
   "metadata": {
    "ExecuteTime": {
     "end_time": "2021-03-23T13:50:12.556210Z",
     "start_time": "2021-03-23T13:50:12.547228Z"
    }
   },
   "outputs": [
    {
     "data": {
      "text/plain": [
       "{'nombre': 'Juan', 'edad': 29, 'peso': 70.3, 'hobby': 'ilusionismo'}"
      ]
     },
     "execution_count": 25,
     "metadata": {},
     "output_type": "execute_result"
    }
   ],
   "source": [
    "d = {\n",
    "    'nombre': 'Juan', \n",
    "    'edad': 29, \n",
    "    'peso': 70.3,\n",
    "    'hobby': 'ilusionismo',\n",
    "}\n",
    "d"
   ]
  },
  {
   "cell_type": "markdown",
   "id": "centered-cursor",
   "metadata": {},
   "source": [
    "Los datos presentes en un diccionario pueden ser accedidos mediante la sintaxis ```diccionario[llave]```."
   ]
  },
  {
   "cell_type": "code",
   "execution_count": 26,
   "id": "tropical-trinity",
   "metadata": {
    "ExecuteTime": {
     "end_time": "2021-03-23T13:50:14.083270Z",
     "start_time": "2021-03-23T13:50:14.064275Z"
    }
   },
   "outputs": [
    {
     "data": {
      "text/plain": [
       "'Juan'"
      ]
     },
     "execution_count": 26,
     "metadata": {},
     "output_type": "execute_result"
    }
   ],
   "source": [
    "d['nombre']"
   ]
  },
  {
   "cell_type": "markdown",
   "id": "successful-buffer",
   "metadata": {},
   "source": [
    "> **Pregunta**: ¿Qué sucede si intentamos acceder a una llave que no existe en el diccionario?"
   ]
  },
  {
   "cell_type": "code",
   "execution_count": 27,
   "id": "creative-institute",
   "metadata": {
    "ExecuteTime": {
     "end_time": "2021-03-23T13:50:15.397944Z",
     "start_time": "2021-03-23T13:50:15.386966Z"
    }
   },
   "outputs": [
    {
     "ename": "KeyError",
     "evalue": "'apellido'",
     "output_type": "error",
     "traceback": [
      "\u001b[0;31m---------------------------------------------------------------------------\u001b[0m",
      "\u001b[0;31mKeyError\u001b[0m                                  Traceback (most recent call last)",
      "Input \u001b[0;32mIn [27]\u001b[0m, in \u001b[0;36m<cell line: 1>\u001b[0;34m()\u001b[0m\n\u001b[0;32m----> 1\u001b[0m \u001b[43md\u001b[49m\u001b[43m[\u001b[49m\u001b[38;5;124;43m'\u001b[39;49m\u001b[38;5;124;43mapellido\u001b[39;49m\u001b[38;5;124;43m'\u001b[39;49m\u001b[43m]\u001b[49m\n",
      "\u001b[0;31mKeyError\u001b[0m: 'apellido'"
     ]
    }
   ],
   "source": [
    "d['apellido']"
   ]
  },
  {
   "cell_type": "markdown",
   "id": "architectural-thesaurus",
   "metadata": {},
   "source": [
    "Podemos verificar si una llave existe en el diccionario usando el operador `in`"
   ]
  },
  {
   "cell_type": "code",
   "execution_count": 28,
   "id": "amino-mortgage",
   "metadata": {
    "ExecuteTime": {
     "end_time": "2021-03-23T13:50:16.641522Z",
     "start_time": "2021-03-23T13:50:16.634521Z"
    }
   },
   "outputs": [
    {
     "data": {
      "text/plain": [
       "False"
      ]
     },
     "execution_count": 28,
     "metadata": {},
     "output_type": "execute_result"
    }
   ],
   "source": [
    "'apellido' in d"
   ]
  },
  {
   "cell_type": "code",
   "execution_count": 29,
   "id": "d2ddb245-d867-4a8f-b737-0803d3a0577f",
   "metadata": {},
   "outputs": [
    {
     "name": "stdout",
     "output_type": "stream",
     "text": [
      "apellido no existe en el diccionario\n"
     ]
    }
   ],
   "source": [
    "if 'apellido' in d:\n",
    "    print(d['apellido'])\n",
    "else:\n",
    "    print('apellido no existe en el diccionario')"
   ]
  },
  {
   "cell_type": "markdown",
   "id": "015bd33a-2d3b-4939-ba66-0c622df899c4",
   "metadata": {},
   "source": [
    "#### Agregar llave al diccionario"
   ]
  },
  {
   "cell_type": "code",
   "execution_count": 30,
   "id": "89d12392-0b8c-4514-830c-3c2cd9484d08",
   "metadata": {},
   "outputs": [],
   "source": [
    "d['apellido'] = 'Pérez'"
   ]
  },
  {
   "cell_type": "code",
   "execution_count": 31,
   "id": "8e71eddd-9a26-4c74-8ccb-cc072e0d2835",
   "metadata": {},
   "outputs": [
    {
     "data": {
      "text/plain": [
       "{'nombre': 'Juan',\n",
       " 'edad': 29,\n",
       " 'peso': 70.3,\n",
       " 'hobby': 'ilusionismo',\n",
       " 'apellido': 'Pérez'}"
      ]
     },
     "execution_count": 31,
     "metadata": {},
     "output_type": "execute_result"
    }
   ],
   "source": [
    "d"
   ]
  },
  {
   "cell_type": "markdown",
   "id": "laden-burlington",
   "metadata": {},
   "source": [
    "#### Mutar Diccionario\n",
    "\n",
    "Podemos modifcar un valores presente en el diccionario similar a como lo hacíamos con listas, pero cambiando el índice por la llave:"
   ]
  },
  {
   "cell_type": "code",
   "execution_count": 32,
   "id": "future-asthma",
   "metadata": {
    "ExecuteTime": {
     "end_time": "2021-03-22T20:16:08.234933Z",
     "start_time": "2021-03-22T20:16:08.211924Z"
    }
   },
   "outputs": [
    {
     "data": {
      "text/plain": [
       "{'nombre': 'Juan',\n",
       " 'edad': 29,\n",
       " 'peso': 68.01,\n",
       " 'hobby': 'ilusionismo',\n",
       " 'apellido': 'Pérez'}"
      ]
     },
     "execution_count": 32,
     "metadata": {},
     "output_type": "execute_result"
    }
   ],
   "source": [
    "d['peso'] = 68.01\n",
    "d"
   ]
  },
  {
   "cell_type": "markdown",
   "id": "alert-water",
   "metadata": {},
   "source": [
    "Se pueden eliminar elementos del diccionario usando el operador `del`"
   ]
  },
  {
   "cell_type": "code",
   "execution_count": 33,
   "id": "blank-wednesday",
   "metadata": {
    "ExecuteTime": {
     "end_time": "2021-03-22T20:16:58.312264Z",
     "start_time": "2021-03-22T20:16:58.302264Z"
    }
   },
   "outputs": [
    {
     "data": {
      "text/plain": [
       "{'nombre': 'Juan', 'edad': 29, 'hobby': 'ilusionismo', 'apellido': 'Pérez'}"
      ]
     },
     "execution_count": 33,
     "metadata": {},
     "output_type": "execute_result"
    }
   ],
   "source": [
    "del d['peso']\n",
    "d"
   ]
  },
  {
   "cell_type": "markdown",
   "id": "arctic-antarctica",
   "metadata": {},
   "source": [
    "#### Acceder a *colecciones* con los elementos de los diccionarios"
   ]
  },
  {
   "cell_type": "markdown",
   "id": "massive-revelation",
   "metadata": {},
   "source": [
    "Para obtener las llaves de un diccionario se puede hacer uso del método ```.keys()```. \n"
   ]
  },
  {
   "cell_type": "code",
   "execution_count": 34,
   "id": "extensive-royal",
   "metadata": {
    "ExecuteTime": {
     "end_time": "2021-03-22T20:16:50.035215Z",
     "start_time": "2021-03-22T20:16:50.029208Z"
    }
   },
   "outputs": [],
   "source": [
    "# Redefinimos el diccionario al original para el siguiente ejemplo\n",
    "d = {'nombre': 'Juan', 'edad': 29, 'peso': 70.3}"
   ]
  },
  {
   "cell_type": "code",
   "execution_count": 35,
   "id": "sophisticated-praise",
   "metadata": {
    "ExecuteTime": {
     "end_time": "2021-03-22T20:16:24.765298Z",
     "start_time": "2021-03-22T20:16:24.753298Z"
    }
   },
   "outputs": [
    {
     "data": {
      "text/plain": [
       "dict_keys(['nombre', 'edad', 'peso'])"
      ]
     },
     "execution_count": 35,
     "metadata": {},
     "output_type": "execute_result"
    }
   ],
   "source": [
    "d.keys()  # Ojo que no es una lista!"
   ]
  },
  {
   "cell_type": "markdown",
   "id": "opponent-palmer",
   "metadata": {},
   "source": [
    "Para obtener los elementos podemos usar el método `.values()`"
   ]
  },
  {
   "cell_type": "code",
   "execution_count": 36,
   "id": "three-insider",
   "metadata": {
    "ExecuteTime": {
     "end_time": "2021-03-22T20:16:40.046254Z",
     "start_time": "2021-03-22T20:16:40.032232Z"
    }
   },
   "outputs": [
    {
     "data": {
      "text/plain": [
       "dict_values(['Juan', 29, 70.3])"
      ]
     },
     "execution_count": 36,
     "metadata": {},
     "output_type": "execute_result"
    }
   ],
   "source": [
    "d.values()"
   ]
  },
  {
   "cell_type": "markdown",
   "id": "controlled-theology",
   "metadata": {},
   "source": [
    "Y se pueden obtener tuplas indicando todas las `(llaves, valor)` del diccionario"
   ]
  },
  {
   "cell_type": "code",
   "execution_count": 37,
   "id": "about-toolbox",
   "metadata": {},
   "outputs": [
    {
     "data": {
      "text/plain": [
       "dict_items([('nombre', 'Juan'), ('edad', 29), ('peso', 70.3)])"
      ]
     },
     "execution_count": 37,
     "metadata": {},
     "output_type": "execute_result"
    }
   ],
   "source": [
    "d.items()"
   ]
  },
  {
   "cell_type": "markdown",
   "id": "magnetic-gambling",
   "metadata": {},
   "source": [
    "----\n",
    "\n",
    "## Parte 6: Iteraciones"
   ]
  },
  {
   "cell_type": "markdown",
   "id": "emerging-storm",
   "metadata": {},
   "source": [
    "Las iteraciones permiten recorrer y ejecutar alguna acción sobre cada elemento de una colección. Existen varias formas de lograr esto:\n",
    "\n",
    "\n",
    "### Ciclo While - Propuesto estudio Personal\n",
    "\n",
    "\n",
    "**While:** un ciclo ```while``` permite realizar una ```acción``` en función del valor de verdad de una ```condicion```, su estructura es:\n",
    "\n",
    "```\n",
    "while condicion: # Condición booleana\n",
    "    acción # Bloque indentado\n",
    "```"
   ]
  },
  {
   "cell_type": "code",
   "execution_count": null,
   "id": "wanted-maker",
   "metadata": {
    "ExecuteTime": {
     "end_time": "2021-03-23T13:50:19.897248Z",
     "start_time": "2021-03-23T13:50:19.875247Z"
    }
   },
   "outputs": [],
   "source": [
    "contador = 0\n",
    "lista = [10, 20, 30, 40, 50, 60, 70, 80, 90, 100]\n",
    "\n",
    "while contador < len(lista):\n",
    "    print(contador, lista[contador])\n",
    "    contador += 1"
   ]
  },
  {
   "cell_type": "markdown",
   "id": "gothic-concern",
   "metadata": {},
   "source": [
    "### Ciclo For\n",
    "\n",
    "Un ciclo ```for``` permite repetir realizar una```acción``` en función de los elementos de una *colección*. Su estructura corresponde a:\n",
    "\n",
    "```python\n",
    "for elemento in coleccion: \n",
    "    acción_sobre_el_elemento\n",
    "\n",
    "```\n",
    "\n",
    "en este caso ```elemento``` corresponde a una variable que toma, secuencialmente, los valores del iterator. \n",
    "\n",
    "###"
   ]
  },
  {
   "cell_type": "markdown",
   "id": "f1e4147f-847d-4a93-abc2-d8a905969c46",
   "metadata": {},
   "source": [
    "#### Iteración sobre lista"
   ]
  },
  {
   "cell_type": "code",
   "execution_count": 44,
   "id": "alleged-mercy",
   "metadata": {
    "ExecuteTime": {
     "end_time": "2021-03-23T13:50:21.833277Z",
     "start_time": "2021-03-23T13:50:21.818239Z"
    }
   },
   "outputs": [],
   "source": [
    "lista = [0, 1, 2, 3, 4, 5]\n"
   ]
  },
  {
   "cell_type": "code",
   "execution_count": 45,
   "id": "smoking-secret",
   "metadata": {
    "ExecuteTime": {
     "end_time": "2021-03-23T13:50:22.476165Z",
     "start_time": "2021-03-23T13:50:22.459150Z"
    }
   },
   "outputs": [
    {
     "name": "stdout",
     "output_type": "stream",
     "text": [
      "0 ^ 2 = 0\n",
      "1 ^ 2 = 1\n",
      "2 ^ 2 = 4\n",
      "3 ^ 2 = 9\n",
      "4 ^ 2 = 16\n",
      "5 ^ 2 = 25\n"
     ]
    }
   ],
   "source": [
    "for elemento in lista:\n",
    "    print(elemento, '^ 2 =', elemento ** 2)"
   ]
  },
  {
   "cell_type": "markdown",
   "id": "8a3365d2-6d2a-46f6-91c6-3511dbd313e6",
   "metadata": {},
   "source": [
    "### Iteración sobre llaves del diccionario"
   ]
  },
  {
   "cell_type": "code",
   "execution_count": 46,
   "id": "6f955e5d",
   "metadata": {},
   "outputs": [
    {
     "data": {
      "text/plain": [
       "{'nombre': 'Juan', 'edad': 29, 'peso': 70.3, 'hobby': 'ilusionismo'}"
      ]
     },
     "execution_count": 46,
     "metadata": {},
     "output_type": "execute_result"
    }
   ],
   "source": [
    "d = {\n",
    "    'nombre': 'Juan', \n",
    "    'edad': 29, \n",
    "    'peso': 70.3,\n",
    "    'hobby': 'ilusionismo',\n",
    "}\n",
    "d"
   ]
  },
  {
   "cell_type": "code",
   "execution_count": 47,
   "id": "amateur-stewart",
   "metadata": {
    "ExecuteTime": {
     "end_time": "2021-03-22T20:21:39.879297Z",
     "start_time": "2021-03-22T20:21:39.859296Z"
    }
   },
   "outputs": [
    {
     "name": "stdout",
     "output_type": "stream",
     "text": [
      "NOMBRE : Juan\n",
      "EDAD : 29\n",
      "PESO : 70.3\n",
      "HOBBY : ilusionismo\n"
     ]
    }
   ],
   "source": [
    "for llave in d:\n",
    "    valor = d[llave]\n",
    "    print(f'{llave.upper()} : {valor}')"
   ]
  },
  {
   "cell_type": "markdown",
   "id": "4e3d70ce-2008-4ae3-a600-1b49e2db90a0",
   "metadata": {},
   "source": [
    "#### Iteración sobre ítems del diccionario\n",
    "\n",
    "Recordemos que `d.items()` nos entregaba una estructura similar a una lista [(llave_1, valor_1), ...]\n",
    "Como cada elemento es una tupla, podemos desempacarla en llave, valor en el mismo ciclo."
   ]
  },
  {
   "cell_type": "code",
   "execution_count": 48,
   "id": "f9528bc1-f2b5-4d24-887e-495127fe89fc",
   "metadata": {},
   "outputs": [
    {
     "data": {
      "text/plain": [
       "dict_items([('nombre', 'Juan'), ('edad', 29), ('peso', 70.3), ('hobby', 'ilusionismo')])"
      ]
     },
     "execution_count": 48,
     "metadata": {},
     "output_type": "execute_result"
    }
   ],
   "source": [
    "d.items()"
   ]
  },
  {
   "cell_type": "code",
   "execution_count": 51,
   "id": "guilty-effects",
   "metadata": {
    "ExecuteTime": {
     "end_time": "2021-03-22T20:22:17.080653Z",
     "start_time": "2021-03-22T20:22:17.073658Z"
    }
   },
   "outputs": [
    {
     "name": "stdout",
     "output_type": "stream",
     "text": [
      "NOMBRE : Juan\n",
      "EDAD : 29\n",
      "PESO : 70.3\n",
      "HOBBY : ilusionismo\n"
     ]
    }
   ],
   "source": [
    "for llave, valor in d.items():\n",
    "    print(f'{llave.upper()} : {valor}')"
   ]
  },
  {
   "cell_type": "markdown",
   "id": "computational-norman",
   "metadata": {},
   "source": [
    "### Utilitarios para la iteración"
   ]
  },
  {
   "cell_type": "markdown",
   "id": "corporate-message",
   "metadata": {},
   "source": [
    "#### Enumerador\n",
    "\n",
    "Permite tener el índice del elemento al cual estamos accediendo. Para esto, usar la función `enumerate(lista)`"
   ]
  },
  {
   "cell_type": "code",
   "execution_count": 54,
   "id": "d3a77bb8-cee6-42fa-8314-ef829050ceb3",
   "metadata": {},
   "outputs": [
    {
     "data": {
      "text/plain": [
       "[(0, 10), (1, 11), (2, 12), (3, 13), (4, 14), (5, 15)]"
      ]
     },
     "execution_count": 54,
     "metadata": {},
     "output_type": "execute_result"
    }
   ],
   "source": [
    "lista = [10, 11, 12, 13, 14, 15]\n",
    "\n",
    "list(enumerate(lista))"
   ]
  },
  {
   "cell_type": "code",
   "execution_count": 61,
   "id": "elect-adelaide",
   "metadata": {
    "ExecuteTime": {
     "end_time": "2021-03-22T20:22:27.345116Z",
     "start_time": "2021-03-22T20:22:27.325122Z"
    }
   },
   "outputs": [
    {
     "name": "stdout",
     "output_type": "stream",
     "text": [
      "Indice: 0 | Elemento: 10\n",
      "Encontré un indínce que es múltiplo de 3: 0\n",
      "Indice: 1 | Elemento: 11\n",
      "Indice: 2 | Elemento: 12\n",
      "Indice: 3 | Elemento: 13\n",
      "Encontré un indínce que es múltiplo de 3: 3\n",
      "Indice: 4 | Elemento: 14\n",
      "Indice: 5 | Elemento: 15\n"
     ]
    }
   ],
   "source": [
    "for indice, elemento in enumerate(lista):\n",
    "    print(f'Indice: {indice} | Elemento: {elemento}')\n",
    "    if indice % 3 == 0:\n",
    "        print(f'Encontré un indínce que es múltiplo de 3: {indice}')"
   ]
  },
  {
   "cell_type": "markdown",
   "id": "ecological-halloween",
   "metadata": {},
   "source": [
    "#### Range\n",
    "\n",
    "Genera una secuencia de números. No es una lista como tal, si no que un generador.Sintaxis: \n",
    " \n",
    "```python\n",
    "range(inicio, fin, opcional(salto) )\n",
    "```"
   ]
  },
  {
   "cell_type": "code",
   "execution_count": 62,
   "id": "moved-century",
   "metadata": {
    "ExecuteTime": {
     "end_time": "2021-03-23T14:00:50.184140Z",
     "start_time": "2021-03-23T14:00:50.165117Z"
    }
   },
   "outputs": [
    {
     "name": "stdout",
     "output_type": "stream",
     "text": [
      "0\n",
      "1\n",
      "2\n",
      "3\n",
      "4\n"
     ]
    }
   ],
   "source": [
    "for elemento in range(0, 5):\n",
    "    print(elemento)"
   ]
  },
  {
   "cell_type": "code",
   "execution_count": 63,
   "id": "casual-recycling",
   "metadata": {
    "ExecuteTime": {
     "end_time": "2021-03-23T14:02:11.120715Z",
     "start_time": "2021-03-23T14:02:11.109702Z"
    }
   },
   "outputs": [
    {
     "name": "stdout",
     "output_type": "stream",
     "text": [
      "0\n",
      "3\n",
      "6\n",
      "9\n"
     ]
    }
   ],
   "source": [
    "# Podemos darle además un salto, es decir, cuanto saltaremos entre un elemento y otro.\n",
    "for elemento in range(0, 10, 3):\n",
    "    print(elemento)"
   ]
  },
  {
   "cell_type": "markdown",
   "id": "corrected-ballet",
   "metadata": {},
   "source": [
    "#### Zip\n",
    "\n",
    "Permite iterar entre dos o mas secuencias al mismo tiempo. Para esto, genera tuplas con ambos valores."
   ]
  },
  {
   "cell_type": "code",
   "execution_count": 65,
   "id": "sixth-communication",
   "metadata": {
    "ExecuteTime": {
     "end_time": "2021-03-23T13:58:54.552693Z",
     "start_time": "2021-03-23T13:58:54.542693Z"
    }
   },
   "outputs": [
    {
     "data": {
      "text/plain": [
       "[('nombre', 'Juan'), ('edad', '27'), ('peso', '70')]"
      ]
     },
     "execution_count": 65,
     "metadata": {},
     "output_type": "execute_result"
    }
   ],
   "source": [
    "preguntas = ['nombre', 'edad', 'peso']\n",
    "respuestas = ['Juan', '27', '70']\n",
    "\n",
    "list(zip(preguntas, respuestas))\n"
   ]
  },
  {
   "cell_type": "code",
   "execution_count": 66,
   "id": "59809ab2-e7dd-4a20-9254-b33aa6897e6d",
   "metadata": {},
   "outputs": [
    {
     "name": "stdout",
     "output_type": "stream",
     "text": [
      "Cuál es tu nombre?  Es Juan.\n",
      "Cuál es tu edad?  Es 27.\n",
      "Cuál es tu peso?  Es 70.\n"
     ]
    }
   ],
   "source": [
    "for pregunta, respuesta in zip(preguntas, respuestas):\n",
    "    print(f'Cuál es tu {pregunta}?  Es {respuesta}.')"
   ]
  },
  {
   "cell_type": "markdown",
   "id": "practical-protection",
   "metadata": {},
   "source": [
    "#### Reverse\n",
    "\n",
    "Invierte el orden de la colección:"
   ]
  },
  {
   "cell_type": "code",
   "execution_count": null,
   "id": "f892f5d5-31eb-4a7f-a967-e7f1c7012fb4",
   "metadata": {},
   "outputs": [],
   "source": [
    "d"
   ]
  },
  {
   "cell_type": "code",
   "execution_count": null,
   "id": "fitting-firewall",
   "metadata": {
    "ExecuteTime": {
     "end_time": "2021-03-23T13:59:47.139452Z",
     "start_time": "2021-03-23T13:59:47.133466Z"
    }
   },
   "outputs": [],
   "source": [
    "for i in reversed(d):\n",
    "    print(i)"
   ]
  },
  {
   "cell_type": "markdown",
   "id": "fifth-recording",
   "metadata": {},
   "source": [
    "### List Comprehensions\n",
    "\n",
    "Es una forma *elegante* de crear colecciones.\n",
    "\n",
    "Supongamos que queremos crear una lista con todas las letras de la palabra `cuaderno`."
   ]
  },
  {
   "cell_type": "code",
   "execution_count": 69,
   "id": "registered-sword",
   "metadata": {
    "ExecuteTime": {
     "end_time": "2021-03-22T20:23:14.764115Z",
     "start_time": "2021-03-22T20:23:14.751130Z"
    }
   },
   "outputs": [
    {
     "name": "stdout",
     "output_type": "stream",
     "text": [
      "Agregué a la lista: C\n",
      "Agregué a la lista: U\n",
      "Agregué a la lista: A\n",
      "Agregué a la lista: D\n",
      "Agregué a la lista: E\n",
      "Agregué a la lista: R\n",
      "Agregué a la lista: N\n",
      "Agregué a la lista: O\n",
      "Agregué a la lista:  \n",
      "Agregué a la lista: 📗\n"
     ]
    },
    {
     "data": {
      "text/plain": [
       "['C', 'U', 'A', 'D', 'E', 'R', 'N', 'O', ' ', '📗']"
      ]
     },
     "execution_count": 69,
     "metadata": {},
     "output_type": "execute_result"
    }
   ],
   "source": [
    "letras = []\n",
    "palabra = 'Cuaderno 📗'\n",
    "\n",
    "for letra in palabra:\n",
    "    letras.append(letra.upper())\n",
    "    print(f'Agregué a la lista: {letra.upper()}')\n",
    "\n",
    "letras"
   ]
  },
  {
   "cell_type": "markdown",
   "id": "illegal-meaning",
   "metadata": {},
   "source": [
    "Podemos reemplazar este ciclo `for` por una sintaxis mas compacta:"
   ]
  },
  {
   "cell_type": "code",
   "execution_count": 70,
   "id": "formal-reset",
   "metadata": {
    "ExecuteTime": {
     "end_time": "2021-03-22T20:23:58.748825Z",
     "start_time": "2021-03-22T20:23:58.740827Z"
    }
   },
   "outputs": [
    {
     "data": {
      "text/plain": [
       "['C', 'U', 'A', 'D', 'E', 'R', 'N', 'O', ' ', '📗']"
      ]
     },
     "execution_count": 70,
     "metadata": {},
     "output_type": "execute_result"
    }
   ],
   "source": [
    "letras = [letra.upper() for letra in palabra]\n",
    "letras"
   ]
  },
  {
   "cell_type": "markdown",
   "id": "severe-artwork",
   "metadata": {
    "ExecuteTime": {
     "end_time": "2021-03-22T19:02:53.523752Z",
     "start_time": "2021-03-22T19:02:53.515781Z"
    }
   },
   "source": [
    "Esto se le conoce como **List Comprehension**"
   ]
  },
  {
   "cell_type": "markdown",
   "id": "distributed-vision",
   "metadata": {},
   "source": [
    "Supongamos ahora que generamos una lista con los 10 primeros números enteros y de estos queremos solo los pares.\n",
    "Un código usando `for` se vería como:"
   ]
  },
  {
   "cell_type": "code",
   "execution_count": 74,
   "id": "bf5d7ccb-3c35-4675-ba36-317771f96ded",
   "metadata": {},
   "outputs": [
    {
     "data": {
      "text/plain": [
       "[0, 1, 2, 3, 4, 5, 6, 7, 8, 9]"
      ]
     },
     "execution_count": 74,
     "metadata": {},
     "output_type": "execute_result"
    }
   ],
   "source": [
    "list(range(10))"
   ]
  },
  {
   "cell_type": "code",
   "execution_count": 75,
   "id": "rough-toner",
   "metadata": {
    "ExecuteTime": {
     "end_time": "2021-03-22T20:24:21.286110Z",
     "start_time": "2021-03-22T20:24:21.276108Z"
    }
   },
   "outputs": [
    {
     "data": {
      "text/plain": [
       "[0, 2, 4, 6, 8]"
      ]
     },
     "execution_count": 75,
     "metadata": {},
     "output_type": "execute_result"
    }
   ],
   "source": [
    "numeros_pares = []\n",
    "for numero in range(10):\n",
    "    if numero % 2 == 0:\n",
    "        numeros_pares.append(numero)\n",
    "\n",
    "numeros_pares"
   ]
  },
  {
   "cell_type": "markdown",
   "id": "completed-check",
   "metadata": {},
   "source": [
    "Usando **List Comprehension**:"
   ]
  },
  {
   "cell_type": "code",
   "execution_count": 76,
   "id": "prostate-information",
   "metadata": {
    "ExecuteTime": {
     "end_time": "2021-03-22T20:25:13.348291Z",
     "start_time": "2021-03-22T20:25:13.341291Z"
    }
   },
   "outputs": [
    {
     "data": {
      "text/plain": [
       "[0, 2, 4, 6, 8]"
      ]
     },
     "execution_count": 76,
     "metadata": {},
     "output_type": "execute_result"
    }
   ],
   "source": [
    "numeros_pares = [numero for numero in range(10) if numero % 2 == 0]\n",
    "numeros_pares"
   ]
  },
  {
   "cell_type": "code",
   "execution_count": 77,
   "id": "subsequent-wright",
   "metadata": {
    "ExecuteTime": {
     "end_time": "2021-03-22T20:25:25.368603Z",
     "start_time": "2021-03-22T20:25:25.352606Z"
    }
   },
   "outputs": [
    {
     "data": {
      "text/plain": [
       "['Par',\n",
       " 'Impar',\n",
       " 'Par',\n",
       " 'Impar',\n",
       " 'Par',\n",
       " 'Impar',\n",
       " 'Par',\n",
       " 'Impar',\n",
       " 'Par',\n",
       " 'Impar']"
      ]
     },
     "execution_count": 77,
     "metadata": {},
     "output_type": "execute_result"
    }
   ],
   "source": [
    "numeros_pares = ['Par' if numero % 2 == 0 else 'Impar' for numero in range(10)]\n",
    "numeros_pares"
   ]
  },
  {
   "cell_type": "markdown",
   "id": "transsexual-color",
   "metadata": {},
   "source": [
    "> **Pregunta ❓:** ¿Se puede crear usando esta notación conjuntos o diccionarios?"
   ]
  },
  {
   "cell_type": "code",
   "execution_count": 78,
   "id": "a31cf772-18c0-4e08-b2cd-2b0a61e84d61",
   "metadata": {},
   "outputs": [
    {
     "data": {
      "text/plain": [
       "{0: 'Par',\n",
       " 1: 'Impar',\n",
       " 2: 'Par',\n",
       " 3: 'Impar',\n",
       " 4: 'Par',\n",
       " 5: 'Impar',\n",
       " 6: 'Par',\n",
       " 7: 'Impar',\n",
       " 8: 'Par',\n",
       " 9: 'Impar'}"
      ]
     },
     "execution_count": 78,
     "metadata": {},
     "output_type": "execute_result"
    }
   ],
   "source": [
    "{numero: 'Par' if numero % 2 == 0 else 'Impar' for numero in range(10) }"
   ]
  },
  {
   "cell_type": "markdown",
   "id": "finnish-swimming",
   "metadata": {},
   "source": [
    "## Otras referencias"
   ]
  },
  {
   "cell_type": "markdown",
   "id": "dimensional-cyprus",
   "metadata": {},
   "source": [
    "Un excelente tutorial de Python:\n",
    "    \n",
    "https://www.programiz.com/python-programming\n",
    "\n",
    "Y el tutorial oficial: \n",
    "\n",
    "https://docs.python.org/es/3/tutorial/\n"
   ]
  }
 ],
 "metadata": {
  "kernelspec": {
   "display_name": "Python 3 (ipykernel)",
   "language": "python",
   "name": "python3"
  },
  "language_info": {
   "codemirror_mode": {
    "name": "ipython",
    "version": 3
   },
   "file_extension": ".py",
   "mimetype": "text/x-python",
   "name": "python",
   "nbconvert_exporter": "python",
   "pygments_lexer": "ipython3",
   "version": "3.9.7"
  },
  "toc": {
   "base_numbering": 1,
   "nav_menu": {},
   "number_sections": true,
   "sideBar": true,
   "skip_h1_title": false,
   "title_cell": "Table of Contents",
   "title_sidebar": "Contents",
   "toc_cell": false,
   "toc_position": {
    "height": "calc(100% - 180px)",
    "left": "10px",
    "top": "150px",
    "width": "294.233px"
   },
   "toc_section_display": true,
   "toc_window_display": true
  },
  "varInspector": {
   "cols": {
    "lenName": 16,
    "lenType": 16,
    "lenVar": 40
   },
   "kernels_config": {
    "python": {
     "delete_cmd_postfix": "",
     "delete_cmd_prefix": "del ",
     "library": "var_list.py",
     "varRefreshCmd": "print(var_dic_list())"
    },
    "r": {
     "delete_cmd_postfix": ") ",
     "delete_cmd_prefix": "rm(",
     "library": "var_list.r",
     "varRefreshCmd": "cat(var_dic_list()) "
    }
   },
   "types_to_exclude": [
    "module",
    "function",
    "builtin_function_or_method",
    "instance",
    "_Feature"
   ],
   "window_display": false
  }
 },
 "nbformat": 4,
 "nbformat_minor": 5
}
