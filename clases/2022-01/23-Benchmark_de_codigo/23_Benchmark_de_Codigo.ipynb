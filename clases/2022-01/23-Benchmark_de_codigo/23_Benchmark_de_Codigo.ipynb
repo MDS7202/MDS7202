{
 "cells": [
  {
   "cell_type": "markdown",
   "id": "978f7ad8-23fd-4a71-bcdb-7e6121a335eb",
   "metadata": {},
   "source": [
    "# Clase 23: Benchmarking y Optimización de Código en Python\n",
    "\n",
    "**MDS7202: Laboratorio de Programación Científica para Ciencia de Datos**\n",
    "\n",
    "**Profesor: Pablo Badilla**\n"
   ]
  },
  {
   "cell_type": "markdown",
   "id": "98047d07-aa63-46b4-9af4-05b7e1fd889f",
   "metadata": {},
   "source": [
    "\n",
    "\n",
    "## Motivación\n",
    "\n",
    "El flujo de trabajo en ciencia de datos consta de **numerosas rutinas de carga, procesamiento y visualización**. Lo ideal es que diseñemos estas rutinas de la forma más optima posible con el fin de reducir recursos, tiempos de carga utilizados y sus costos asociados."
   ]
  },
  {
   "cell_type": "markdown",
   "id": "23132696-76e1-4b0d-aca5-7cadd9384987",
   "metadata": {},
   "source": [
    "\n",
    "## Lenguajes de Programación\n",
    "\n",
    "El lenguaje de máquina es el conjunto de instrucciones que el hardware es capaz de interpretar y procesar.\n",
    "A través de estas instrucciones podemos lograr que nuestro procesador ejecute distintos tipos de acciones muy básicas. \n",
    "Este conjuntos de lenguajes es comunmente conocido como *lenguaje de bajo nivel*\n",
    "\n",
    "<center>\n",
    "<img src='./resources/codigo_maquina.png' width=400 />\n",
    "<center/>\n",
    "\n",
    "<center>Por suerte no tenemos que si quiera pensar en esto...</center>\n",
    "    \n",
    "<center> \n",
    "    Fuente: <a href='https://en.wikipedia.org/wiki/Machine_code#/media/File:W65C816S_Machine_Code_Monitor.jpeg'>Wikipedia </a>\n",
    "</center>\n",
    "    \n",
    "    \n",
    "    \n"
   ]
  },
  {
   "cell_type": "markdown",
   "id": "40d96b49-4f2e-4cbb-9491-c201dd70c71c",
   "metadata": {},
   "source": [
    "La idea general de un lenguaje de programación que conocemos hasta ahora (como `python`) es tener una forma *humana* de comunicarse con la máquina. Es decir, que nos permitan escribir código de forma sencilla y que sean luego convertidos al lenguaje que la máquina sea capaz de entender.\n",
    "\n",
    "Estos lenguajes se denominan *lenguajes de alto nivel*."
   ]
  },
  {
   "cell_type": "markdown",
   "id": "673a8fae-75cb-4326-9ed2-a7ba91c4ac90",
   "metadata": {},
   "source": [
    "---\n",
    "\n",
    "## Lenguajes Compilados vs Intepretados\n",
    "\n",
    "Existen dos enfoques principales para convertir un código de lenguaje de alto nivel a uno de bajo nivel: que el lenguaje sea **Compilado** o **Interpretado**."
   ]
  },
  {
   "cell_type": "markdown",
   "id": "c47e5a0c-a615-4cc6-80c7-31b7bfa36238",
   "metadata": {},
   "source": [
    "<center>\n",
    "<img src='./resources/tipos_lenguajes.png' width=800/>\n",
    "\n",
    "</center>"
   ]
  },
  {
   "cell_type": "markdown",
   "id": "984df845-311b-4e0e-8268-fe52a15a9c68",
   "metadata": {},
   "source": [
    "---\n",
    "\n",
    "## Computación de alto Rendimiento con Python\n",
    "\n",
    "Python es utilizado transversalmente, ya sea en la industria o en la academia. Dentro de sus cualidades se encuentra la portabilidad de código, sintaxis intuitiva, disponibilidad de herramientas y documentación. Sin embargo, al ser un lenguaje interpretado se pierden ciertas características intrínsicas de los lenguajes de bajo nivel como C, C++ y Fortran.\n",
    "\n",
    "En esta y la próxima clase estudiaremos distintas herramientas para mejorar el rendimiento del interprete, como el uso eficiente de objetos base y la aplicación de técnicas de paralelismo y compilación utilizando tanto librerías nativas, como desarrolladas por terceros. \n",
    "\n",
    "\n",
    "> **Pregunta ❓:** ¿Será conveniente programar siempre pensando crear código óptimo?"
   ]
  },
  {
   "cell_type": "markdown",
   "id": "689e58f9-908a-4e27-a955-e2c75938cf92",
   "metadata": {
    "tags": []
   },
   "source": [
    "---\n",
    "\n",
    "## Optimización del Código\n",
    "\n",
    " Como directriz general, se recomienda llevar el proceso de desarrollo en dos etapas:\n",
    " \n",
    "1. La primera consiste en **generar código correcto, comprensibles y mantenibles**, evitando la sobre-optimización prematura de código. \n",
    "\n",
    "2. Como segunda etapa, se recomienda comenzar con los procesos de **optimización de código**. Esto pues, las herramientas que permiten mejorar los aspectos computacionales, interfieren en la sencillez del código, entorpeciendo los procesos de depuración y mantención. \n",
    "\n",
    "Una vez que las rutinas están implementadas de manera correcta, la mejor manera de enfocar los esfuerzos, pasa por **perfilar** (*profiling*) el código. Esto consiste en encontrar las zonas de código criticas en cuanto a carga computacional. La manera más directa de encontrar estas zonas, es por medio del uso de contadores de tiempo o *timers*.\n",
    "\n"
   ]
  },
  {
   "cell_type": "markdown",
   "id": "9d191a8c-5ed0-4fc9-9fe3-1b4892a58bdf",
   "metadata": {},
   "source": [
    "### Medición del Tiempo de Ejecución ⏰\n",
    "\n",
    "\n",
    "El tiempo de ejecución es el tiempo tomado por algun segemento de código, función en completar su ejecución.\n",
    "\n",
    "En Python, la forma más sencilla de medir el tiempo de ejecución es a través de la librería `time`. El ejemplo siguiente muestra como utilizarla."
   ]
  },
  {
   "cell_type": "code",
   "execution_count": 1,
   "id": "a35b7447-a990-4197-8fa7-0c2bb9152dd2",
   "metadata": {},
   "outputs": [],
   "source": [
    "import time\n",
    "from math import cos, sin"
   ]
  },
  {
   "cell_type": "markdown",
   "id": "8a003de8-30a3-4b8b-b86d-8293c194d9fd",
   "metadata": {},
   "source": [
    "Definimos un rango de datos a operar "
   ]
  },
  {
   "cell_type": "code",
   "execution_count": 5,
   "id": "67d2c25a-eecc-4244-9ba5-5e2777b51694",
   "metadata": {},
   "outputs": [
    {
     "data": {
      "text/plain": [
       "[0.0,\n",
       " 0.1,\n",
       " 0.2,\n",
       " 0.30000000000000004,\n",
       " 0.4,\n",
       " 0.5,\n",
       " 0.6000000000000001,\n",
       " 0.7000000000000001,\n",
       " 0.8,\n",
       " 0.9]"
      ]
     },
     "execution_count": 5,
     "metadata": {},
     "output_type": "execute_result"
    }
   ],
   "source": [
    "x = [0.1 * i for i in range(100000)]\n",
    "\n",
    "x[0:10]  # veamos los datos"
   ]
  },
  {
   "cell_type": "markdown",
   "id": "b3059adb-e2f7-46d0-9cd4-4424e4cadb97",
   "metadata": {},
   "source": [
    "Luego definimos la función que mediremos. Esta simplemente calcula $(\\sin(val) + \\cos(val)^2)^{1/3}$ y luego retorna su valor."
   ]
  },
  {
   "cell_type": "code",
   "execution_count": 6,
   "id": "4e354c4e-441c-4ecc-9a2f-7247d241a297",
   "metadata": {},
   "outputs": [],
   "source": [
    "def func_1(val):\n",
    "    return (sin(val) + cos(val) ** 2) ** (1 / 9)"
   ]
  },
  {
   "cell_type": "markdown",
   "id": "16586457-fcd5-4e8a-95c0-bc78a6a715c4",
   "metadata": {},
   "source": [
    "Ahora, estudiamos el tiempo de ejecución por medio de la función `process_time`."
   ]
  },
  {
   "cell_type": "code",
   "execution_count": 19,
   "id": "3456ca0a-691e-4f45-9cd8-f6a129db64bf",
   "metadata": {},
   "outputs": [
    {
     "name": "stdout",
     "output_type": "stream",
     "text": [
      "Tiempo transcurrido 0.04332430000000009\n"
     ]
    }
   ],
   "source": [
    "# tiempo inicial\n",
    "t0 = time.process_time()\n",
    "\n",
    "for i in x:\n",
    "    func_1(i)\n",
    "\n",
    "# tiempo final\n",
    "t1 = time.process_time()\n",
    "\n",
    "# el tiempo transcurrido es simplemente el delta entre t1 y t0\n",
    "print(\"Tiempo transcurrido\", t1 - t0)"
   ]
  },
  {
   "cell_type": "markdown",
   "id": "4ab78328",
   "metadata": {},
   "source": [
    "> **Pregunta ❓:** ¿Si ejecutamos nuevamente la celda anterior, obtendremos los mismos tiempos? ¿Existirá alguna forma más consistente de medir el tiempo de ejecución del código?"
   ]
  },
  {
   "cell_type": "markdown",
   "id": "1a3d9ac0-619e-4192-8087-cdec46f9219c",
   "metadata": {},
   "source": [
    "---\n",
    "\n",
    "### `timeit`\n",
    "\n",
    "En algunas ocasiones se desea medir el tiempo de ejecución para tareas sencillas, la librería estándar de Python provee el módulo `timeit`. En la práctica, una llamada de `timeit` ejecuta por defecto 10.000.000 el código (variable según cuánto se demore el proceso) y repite 7 veces el experimento. Lluego reporta el tiempo de ejecución promedio.\n",
    "\n",
    "Este puede ser utilizado directamente en la consola interactiva IPython o en notebooks de Jupyter por medio del comando mágico `%timeit` para el caso de una linea de código y `%%timeit` para medir toda la celda. \n",
    "\n",
    "Documentación de `%timeit`: [Timeit Magic en la documentación de Ipython](https://ipython.readthedocs.io/en/stable/interactive/magics.html#magic-timeit)\n"
   ]
  },
  {
   "cell_type": "markdown",
   "id": "2c6d96a7",
   "metadata": {},
   "source": [
    "\n",
    "**Ejemplo**\n",
    "\n",
    "\n",
    "Medimos la eficiencia de la implementación original de python de `cos`."
   ]
  },
  {
   "cell_type": "code",
   "execution_count": 20,
   "id": "370e475f",
   "metadata": {},
   "outputs": [
    {
     "name": "stdout",
     "output_type": "stream",
     "text": [
      "57.1 ns ± 5.21 ns per loop (mean ± std. dev. of 7 runs, 10,000,000 loops each)\n"
     ]
    }
   ],
   "source": [
    "%timeit cos(0.5)"
   ]
  },
  {
   "cell_type": "markdown",
   "id": "5a5dc8f9",
   "metadata": {},
   "source": [
    "Y lo comparamos con el tiempo de ejecución promedio para la función coseno de `numpy`."
   ]
  },
  {
   "cell_type": "code",
   "execution_count": 21,
   "id": "7d0f4d8c-9f70-4f45-96ea-d2c3fd55f77b",
   "metadata": {},
   "outputs": [],
   "source": [
    "import numpy as np"
   ]
  },
  {
   "cell_type": "code",
   "execution_count": 22,
   "id": "87ceb756-aad9-49c4-b7f4-e3ee7a6f4c7b",
   "metadata": {},
   "outputs": [
    {
     "name": "stdout",
     "output_type": "stream",
     "text": [
      "872 ns ± 118 ns per loop (mean ± std. dev. of 7 runs, 1,000,000 loops each)\n"
     ]
    }
   ],
   "source": [
    "%timeit np.cos(0.5)"
   ]
  },
  {
   "cell_type": "code",
   "execution_count": 23,
   "id": "db9bc2dd-5011-49b5-b8fb-69775fc231d7",
   "metadata": {},
   "outputs": [
    {
     "name": "stdout",
     "output_type": "stream",
     "text": [
      "375 ns ± 13 ns per loop (mean ± std. dev. of 7 runs, 1,000,000 loops each)\n"
     ]
    }
   ],
   "source": [
    "%timeit func_1(100)"
   ]
  },
  {
   "cell_type": "markdown",
   "id": "60db6786-c35b-4543-b039-cd523e72b60d",
   "metadata": {},
   "source": [
    "> **Pregunta ❓:** ¿Se podrá medir el tiempo que toma cada instrucción por separado?"
   ]
  },
  {
   "cell_type": "markdown",
   "id": "26be6122-564f-445c-be30-5b2bd8407b33",
   "metadata": {},
   "source": [
    "---\n",
    "\n",
    "### Perfilador `line_profiler` y Benchmarking"
   ]
  },
  {
   "cell_type": "markdown",
   "id": "7dd63512-d659-4e1d-8456-7208f8cc982b",
   "metadata": {},
   "source": [
    "Un **perfilador**  (*profiler*) es un programa que ejecuta una función y monitorea sus subfunciones, obteniendo métricas de rendimiento como el consumo de tiempo y memoria. \n",
    "\n",
    "Por otra parte, el ***benchmarking*** consiste en medir el rendimiento de ciertos segmentos de código rendimiento antes y después de aplicar técnicas de optimización. Es similar a establecer un baseline de un modelo y luego, optimizarlo y medir el incremento de rendimiento. \n",
    "\n",
    "\n",
    "IPython provee de un perfilador de código dado por la orden `%prun`. Sin embargo, es un poco complejo entender su funcionamiento. Por ende, utilizaremos `line_profiler` que entrega los resultados en un formato más sencillo.\n"
   ]
  },
  {
   "cell_type": "code",
   "execution_count": 24,
   "id": "de7ab91e-a63c-4741-bdff-f5b248dda637",
   "metadata": {},
   "outputs": [
    {
     "name": "stdout",
     "output_type": "stream",
     "text": [
      "Requirement already satisfied: line_profiler in /home/pablo/miniconda3/lib/python3.9/site-packages (3.5.1)\n"
     ]
    }
   ],
   "source": [
    "!pip install line_profiler\n",
    "%load_ext line_profiler"
   ]
  },
  {
   "cell_type": "markdown",
   "id": "10845155-1b72-4695-9f04-00fbc0b8f2cc",
   "metadata": {},
   "source": [
    "\n",
    "**Ejemplo**\n",
    "\n",
    "1. Perfilaremos la siguiente función utilizando `%line_profiler`. En primera instancia se define tal función `benchmark_sum` que acumula para cada `i` en `n` los valores de la siguiente forma:\n",
    "\n",
    "- Por cada $i$ en $n$:\n",
    "\n",
    "    - `to_sum =` `[`${\\frac{j}{2}}^n + (j - n)^{\\frac{n}{3}}$ `for j in range(n)]`\n",
    "\n",
    "    - `sum_ =` $\\sum_{i=0}^{n}$ `to_sum`$_{i}$ \n"
   ]
  },
  {
   "cell_type": "code",
   "execution_count": 25,
   "id": "bb683ee4-bf4e-4a53-b846-358de8483517",
   "metadata": {},
   "outputs": [],
   "source": [
    "def benchmark_sum(n):\n",
    "    \"\"\"Funcion de referencia que suma n elementos transformados\"\"\"\n",
    "    ac = []\n",
    "\n",
    "    for i in range(n):\n",
    "        to_sum = [(j // 2) ** n + (j - n) ** (n // 3) for j in range(n)]\n",
    "        sum_ = sum(to_sum)\n",
    "        ac.append(sum_)\n",
    "\n",
    "    return ac"
   ]
  },
  {
   "cell_type": "markdown",
   "id": "32409903-2d9c-4737-9dfe-bc61db441c73",
   "metadata": {},
   "source": [
    "Ahora, perfilamos la función con `%line_profiler`"
   ]
  },
  {
   "cell_type": "code",
   "execution_count": 26,
   "id": "d4dc88d3-f619-4eeb-b62b-2dcbe7fec8df",
   "metadata": {},
   "outputs": [
    {
     "data": {
      "text/plain": [
       "Timer unit: 1e-06 s\n",
       "\n",
       "Total time: 1.47807 s\n",
       "File: /tmp/ipykernel_5653/1295444324.py\n",
       "Function: benchmark_sum at line 1\n",
       "\n",
       "Line #      Hits         Time  Per Hit   % Time  Line Contents\n",
       "==============================================================\n",
       "     1                                           def benchmark_sum(n):\n",
       "     2                                               \"\"\"Funcion de referencia que suma n elementos transformados\"\"\"\n",
       "     3         1         20.0     20.0      0.0      ac = []\n",
       "     4                                           \n",
       "     5       501        430.0      0.9      0.0      for i in range(n):\n",
       "     6       500    1410466.0   2820.9     95.4          to_sum = [(j // 2) ** n + (j - n) ** (n // 3) for j in range(n)]\n",
       "     7       500      65484.0    131.0      4.4          sum_ = sum(to_sum)\n",
       "     8       500       1668.0      3.3      0.1          ac.append(sum_)\n",
       "     9                                           \n",
       "    10         1          0.0      0.0      0.0      return ac"
      ]
     },
     "metadata": {},
     "output_type": "display_data"
    }
   ],
   "source": [
    "%lprun -f benchmark_sum benchmark_sum(500)"
   ]
  },
  {
   "cell_type": "markdown",
   "id": "26a58a7f-db85-4ef7-9211-07342af826b8",
   "metadata": {},
   "source": [
    "EL resultado corresponde las mediciones temporales de cada función involucrada en la ejecución de `benchmark_sum(500)`. En este caso, la mayoria del tiempo se utiliza en la ejecución del list comprehension. \n",
    "\n",
    "Esto indica que la mejor manera de optimizar el código de `benchmark_sum`pasa por optimizar tal sección del código."
   ]
  },
  {
   "cell_type": "markdown",
   "id": "ea437761-2a17-4dc5-b052-eeaf9ebaf6e1",
   "metadata": {},
   "source": [
    "---\n",
    "\n",
    "### Ejemplo Benchmark Numpy\n",
    "\n",
    "Definimos en la siguiente celda una versión optimizada de la función anterior usando `numpy` y medimos."
   ]
  },
  {
   "cell_type": "code",
   "execution_count": 27,
   "id": "bde00196-add8-4fae-9faa-20e48a6f07ac",
   "metadata": {},
   "outputs": [],
   "source": [
    "def benchmark_sum_numpy(n):\n",
    "    \"\"\"Funcion de referencia que suma n elementos transformados\"\"\"\n",
    "    ac = []\n",
    "\n",
    "    for i in range(n):\n",
    "        to_sum = np.arange(i, dtype=\"float128\")\n",
    "        to_sum = to_sum // 2.0 ** n + (to_sum - n) ** (n // 3.0)\n",
    "        sum_ = np.sum(to_sum)\n",
    "        ac.append(sum_)\n",
    "\n",
    "    return ac"
   ]
  },
  {
   "cell_type": "code",
   "execution_count": 28,
   "id": "f3d1a29f-7777-4116-b5b9-8b2d51a6d17e",
   "metadata": {},
   "outputs": [
    {
     "data": {
      "text/plain": [
       "Timer unit: 1e-06 s\n",
       "\n",
       "Total time: 0.130765 s\n",
       "File: /tmp/ipykernel_5653/2288543561.py\n",
       "Function: benchmark_sum_numpy at line 1\n",
       "\n",
       "Line #      Hits         Time  Per Hit   % Time  Line Contents\n",
       "==============================================================\n",
       "     1                                           def benchmark_sum_numpy(n):\n",
       "     2                                               \"\"\"Funcion de referencia que suma n elementos transformados\"\"\"\n",
       "     3         1          2.0      2.0      0.0      ac = []\n",
       "     4                                           \n",
       "     5       501        317.0      0.6      0.2      for i in range(n):\n",
       "     6       500      19385.0     38.8     14.8          to_sum = np.arange(i, dtype=\"float128\")\n",
       "     7       500      98077.0    196.2     75.0          to_sum = to_sum // 2.0 ** n + (to_sum - n) ** (n // 3.0)\n",
       "     8       500      12143.0     24.3      9.3          sum_ = np.sum(to_sum)\n",
       "     9       500        841.0      1.7      0.6          ac.append(sum_)\n",
       "    10                                           \n",
       "    11         1          0.0      0.0      0.0      return ac"
      ]
     },
     "metadata": {},
     "output_type": "display_data"
    }
   ],
   "source": [
    "%lprun -f benchmark_sum_numpy benchmark_sum_numpy(500)"
   ]
  },
  {
   "cell_type": "markdown",
   "id": "584ef3f8-e512-4def-98e3-d6fc5d4e9e10",
   "metadata": {},
   "source": [
    "**Ejercicio**\n",
    "\n",
    "1. Los perfiladores `%prun` y `%lprun` tienen en común los argumentos -D, -T y -r utilice el parámetro `?` para investigar estas opciones."
   ]
  },
  {
   "cell_type": "markdown",
   "id": "ef758846-1f85-438b-ba3c-63c201056ca9",
   "metadata": {},
   "source": [
    "---\n",
    "\n",
    "### `memory_profiler`"
   ]
  },
  {
   "cell_type": "markdown",
   "id": "f1374d9b-7b0f-41a3-801e-25aaeb55d5d0",
   "metadata": {},
   "source": [
    "Es posible perfilar uso de memoria, para ello existen los comandos mágicos `%memit` y `%mprun`. Para utilizarlos es necesario instalar el módulo `memory_profiler` y cargarlo mediante\n",
    "\n",
    "```python\n",
    "%load_ext memory_profiler\n",
    "```\n",
    "\n",
    "**Ejemplo**"
   ]
  },
  {
   "cell_type": "code",
   "execution_count": 29,
   "id": "751a4b02-76ba-4a44-8edc-a333aa07addd",
   "metadata": {},
   "outputs": [
    {
     "name": "stdout",
     "output_type": "stream",
     "text": [
      "Requirement already satisfied: memory_profiler in /home/pablo/miniconda3/lib/python3.9/site-packages (0.60.0)\n",
      "Requirement already satisfied: psutil in /home/pablo/miniconda3/lib/python3.9/site-packages (from memory_profiler) (5.9.1)\n"
     ]
    }
   ],
   "source": [
    "!pip install memory_profiler"
   ]
  },
  {
   "cell_type": "code",
   "execution_count": 30,
   "id": "0c494ce4-afce-4e5e-9bb5-c4930dbfb675",
   "metadata": {},
   "outputs": [],
   "source": [
    "%load_ext memory_profiler"
   ]
  },
  {
   "cell_type": "markdown",
   "id": "df39b4ca-95ed-4d7e-890b-256ffee0cb5c",
   "metadata": {},
   "source": [
    "En primera instancia perfilamos utilizando la linea mágica `%memit`, la cual es equivalente a `%timeit` pero ofrece medidas sobre el uso de memoria. "
   ]
  },
  {
   "cell_type": "code",
   "execution_count": 31,
   "id": "7b8d356e-d6c5-4b99-acbb-ff73632fe1f0",
   "metadata": {},
   "outputs": [
    {
     "name": "stdout",
     "output_type": "stream",
     "text": [
      "peak memory: 80.57 MiB, increment: 0.57 MiB\n"
     ]
    }
   ],
   "source": [
    "%memit benchmark_sum(500)"
   ]
  },
  {
   "cell_type": "code",
   "execution_count": 32,
   "id": "29edb52b-2ffb-4507-aa59-fea789c62e11",
   "metadata": {},
   "outputs": [
    {
     "name": "stdout",
     "output_type": "stream",
     "text": [
      "peak memory: 80.58 MiB, increment: 0.00 MiB\n"
     ]
    }
   ],
   "source": [
    "%memit benchmark_sum_numpy(500)"
   ]
  },
  {
   "cell_type": "markdown",
   "id": "f6d73a9a-38d0-441d-96db-2461656d5638",
   "metadata": {},
   "source": [
    "Se puede observar un uso de memoria en torno a 90 MB.\n",
    "\n",
    "De manera análoga a `%prun` la librería `memory_profiler` permite utilizar `%mprun`, con la cual se pueden obtener descripciones linea a linea del uso de memoria. El uso de este comando es un poco más restrictivo, pues solo permite medir funciones definidas en módulos (no dentro de un notebook). Para ello, se crea el módulo `memory_demo`. La manera sencilla de hacer esto, es mediante el comando mágico `%%file` este permite crear archivos en el directorio de trabajo actual, utilizando el código dentro de una celda de jupyter. \n",
    "\n",
    "Se procede a generar el módulo que contiene el código de `benchmark_sum` utilizando el comando `%%file`.\n",
    "\n",
    "\n"
   ]
  },
  {
   "cell_type": "code",
   "execution_count": 33,
   "id": "1237e2c9-93cc-412c-b820-4a1190325630",
   "metadata": {},
   "outputs": [
    {
     "name": "stdout",
     "output_type": "stream",
     "text": [
      "Overwriting bench_module.py\n"
     ]
    }
   ],
   "source": [
    "%%file bench_module.py\n",
    "\n",
    "\n",
    "def benchmark_sum(n):\n",
    "    \"\"\"Funcion de referencia que suma n elementos transformados\"\"\"\n",
    "    ac = []\n",
    "\n",
    "    for i in range(n):\n",
    "        to_sum = [(j // 2) ** n + (j - n) ** (n // 3) for j in range(n)]\n",
    "        sum_ = sum(to_sum)\n",
    "        ac.append(sum_)\n",
    "\n",
    "    return ac"
   ]
  },
  {
   "cell_type": "markdown",
   "id": "1bfd65a1-0810-45d8-bec8-5405ec081887",
   "metadata": {},
   "source": [
    "a continuación, se importa el módulo creado y se perfuila su memoria mediante:"
   ]
  },
  {
   "cell_type": "code",
   "execution_count": 34,
   "id": "f0df729f-7f22-40ec-9c42-59bbf5a9973c",
   "metadata": {},
   "outputs": [
    {
     "name": "stdout",
     "output_type": "stream",
     "text": [
      "*** KeyboardInterrupt exception caught in code being profiled.\n"
     ]
    },
    {
     "data": {
      "text/plain": [
       "Filename: /home/pablo/Proyectos/MDS7202/MDS7202/clases/2022-01/23-Benchmark_de_codigo/bench_module.py\n",
       "\n",
       "Line #    Mem usage    Increment  Occurrences   Line Contents\n",
       "=============================================================\n",
       "     3     80.7 MiB     80.7 MiB           1   def benchmark_sum(n):\n",
       "     4                                             \"\"\"Funcion de referencia que suma n elementos transformados\"\"\"\n",
       "     5     80.7 MiB      0.0 MiB           1       ac = []\n",
       "     6                                         \n",
       "     7    146.6 MiB      0.0 MiB          38       for i in range(n):\n",
       "     8    146.6 MiB     65.8 MiB      187429           to_sum = [(j // 2) ** n + (j - n) ** (n // 3) for j in range(n)]\n",
       "     9    146.6 MiB      0.0 MiB          37           sum_ = sum(to_sum)\n",
       "    10    146.6 MiB      0.0 MiB          37           ac.append(sum_)\n",
       "    11                                         \n",
       "    12                                             return ac"
      ]
     },
     "metadata": {},
     "output_type": "display_data"
    }
   ],
   "source": [
    "from bench_module import benchmark_sum\n",
    "\n",
    "%mprun -f benchmark_sum benchmark_sum(5000)"
   ]
  },
  {
   "cell_type": "markdown",
   "id": "fdcc9c5c-7a2e-485d-98c4-01d90854b58c",
   "metadata": {},
   "source": [
    "El resultado se muestra en pantalla, obteniendo detalles linea a linea."
   ]
  },
  {
   "cell_type": "markdown",
   "id": "62fbfb97-d0aa-4dbf-a678-e47f3222ab44",
   "metadata": {},
   "source": [
    "---\n",
    "\n",
    "## Optimización del Código Nativo\n",
    "\n",
    "Una de las manera más eficientes de mejorar el rendimiento de aplicaciones es por medio del uso de algoritmos más eficientes en conjunción de estructuras de datos mejor diseñadas. A continuación, se estudian los algoritmos y estructuras de datos presentes de manera nativa en Python que permiten acelerar ciertas rutinas. \n",
    "\n",
    "En términos generales, los algoritmos pueden ser clasificados según su **complejidad computacional**. Esta clasificación se expresa según la notación de **O-grande, que corresponde a una cota superior de las operaciones requeridas para ejecutar una tarea.**\n",
    "\n",
    "Ejemplos: \n",
    "\n",
    "- $O(n)$ requiere ejecutar una operación por cada elemento de un arreglo.\n",
    "- $O(1)$ requiero para acceder a cierta llave de un diccionario. Noten que esto es totalmente independiente del número de datos que tenga el diccionario.\n",
    "\n",
    "**Ejemplo**\n",
    "\n",
    "Se genera un lista, a cada uno de sus elementos se le realiza una operación básica."
   ]
  },
  {
   "cell_type": "code",
   "execution_count": 35,
   "id": "9bcf0cf0",
   "metadata": {},
   "outputs": [
    {
     "data": {
      "text/plain": [
       "[0, 1, 2, 3, 4, 5, 6, 7, 8, 9]"
      ]
     },
     "execution_count": 35,
     "metadata": {},
     "output_type": "execute_result"
    }
   ],
   "source": [
    "lista = list(range(10))\n",
    "lista"
   ]
  },
  {
   "cell_type": "code",
   "execution_count": 36,
   "id": "0c2cd265-800d-4048-8139-bfb6016c01ca",
   "metadata": {},
   "outputs": [],
   "source": [
    "for i in range(len(lista)):\n",
    "    lista[i] += 100"
   ]
  },
  {
   "cell_type": "code",
   "execution_count": 37,
   "id": "f04f3901-d472-4f2c-8d5a-93743c4d44c2",
   "metadata": {},
   "outputs": [
    {
     "data": {
      "text/plain": [
       "[100, 101, 102, 103, 104, 105, 106, 107, 108, 109]"
      ]
     },
     "execution_count": 37,
     "metadata": {},
     "output_type": "execute_result"
    }
   ],
   "source": [
    "lista"
   ]
  },
  {
   "cell_type": "code",
   "execution_count": 38,
   "id": "d16eff0b",
   "metadata": {},
   "outputs": [
    {
     "data": {
      "text/plain": [
       "array([0, 1, 2, 3, 4, 5, 6, 7, 8, 9])"
      ]
     },
     "execution_count": 38,
     "metadata": {},
     "output_type": "execute_result"
    }
   ],
   "source": [
    "lista = np.arange(0, 10)\n",
    "lista"
   ]
  },
  {
   "cell_type": "code",
   "execution_count": 39,
   "id": "b59ee0d7",
   "metadata": {},
   "outputs": [
    {
     "data": {
      "text/plain": [
       "array([100, 101, 102, 103, 104, 105, 106, 107, 108, 109])"
      ]
     },
     "execution_count": 39,
     "metadata": {},
     "output_type": "execute_result"
    }
   ],
   "source": [
    "lista + 100"
   ]
  },
  {
   "cell_type": "markdown",
   "id": "f28529ae-adee-4b78-83ca-e36f2fc83f56",
   "metadata": {},
   "source": [
    "En este algoritmo, la operación `lista[i]+=100` es repetida tantas veces como elementos hay en `lista`, que corresponde al tamaño de los datos de entrada. Al observar la que las operaciones realizadas por este algoritmo son proporcionales a la cantidad de elementos de `lista`, se puede decir que su tiempo de ejecución es $O(N)$ donde `N = len(lista)`. "
   ]
  },
  {
   "cell_type": "markdown",
   "id": "ddbca5e9-9df7-40de-909b-e47f3cddc37f",
   "metadata": {},
   "source": [
    "### Optimización de Operaciones con Listas\n",
    "\n",
    "Las listas de Python son **colecciones ordenadas de elementos**, estás se encuentran clasificadas como *arreglos*, que a la vez corresponden a una estructura de datos caracterizada por contener elementos contiguos en bloques de memoria, cada uno de los cuales contienen una referencia a un objeto de Python. La ventaja de las listas recae en la facilidad que entregan par acceder, modificar y agregar elementos. \n",
    "\n",
    "#### Acceder y Modificar\n",
    "\n",
    "Dado que acceder y modificar elementos de una lista corresponde a acceder a espacios de memoria que a priori no dependen de la longitud de la lista, se dice que estas operaciones tienen complejidad $O(1)$. \n",
    "\n",
    "\n",
    "```python\n",
    "[0, 1, 2, 3]\n",
    "#   ↑\n",
    "# acceder y modificar cualquier elemento es tiempo constante O(1)    \n",
    "```\n",
    "\n",
    "#### Agregar al Final\n",
    "\n",
    "Por otra parte, para agregar un elemento a una lista por medio de `.append()`, puede requerirse re-ubicar la memoria del arreglo asociado, operación que toma un tiempo de $O(N)$. Sin embargo, tal operación es muy poco frecuente, pues por lo general se tiene acceso a bloques de memoria contiguos, por tal motivo, se dice que la operación `.append()` tiene un tiempo esperado de ejecución de $O(1)$. \n",
    "\n",
    "```python\n",
    "[0, 1, 2, 3]\n",
    "\n",
    "#si ejemcutamos append(4)\n",
    "\n",
    "[0, 1, 2, 3, 4]\n",
    "#            ↑\n",
    "# agregar por lo general es O(1)    \n",
    "```\n",
    "\n",
    "\n",
    "#### Agregar (`insert`) /Eliminar al inicio\n",
    "\n",
    "Para agregar o eliminar datos al inicio de un arreglo, se requiere hacer una traslación (o *shift*) de los demás elementos por lo que tal operación toma un tiempo de $O(N)$. Para agregar o remover elementos de un arreglo en una posición distinta a la última, se opera de manera análoga. \n",
    "\n",
    "```python\n",
    "[0, 1, 2, 3]\n",
    "\n",
    "#si ejemcutamos insert(0, -1) tendremos que desplazar todo el arreglo a la derecha.\n",
    "\n",
    "[-1, 0, 1, 2, 3]\n",
    "# ↑, →, →, →, →\n",
    "# agregar al inicio implicará desplazar todo. Es decir, O(n)\n",
    "```\n",
    "\n",
    "\n",
    "```python\n",
    "[0, 1, 2, 3]\n",
    "\n",
    "#si ejemcutamos pop(0) tendremos que desplazar todo el arreglo a la izquierda.\n",
    "\n",
    "[ 1, 2, 3]\n",
    "# ←, ←, ←\n",
    "# eliminar al inicio implicará desplazar todo. Es decir, O(n)\n",
    "```\n",
    "\n",
    "\n",
    "\n",
    "**Ejemplo**\n",
    "\n",
    "Se definen listas para estudiar la complejidad de ciertos métodos empíricamente. Se definen los parámetros"
   ]
  },
  {
   "cell_type": "code",
   "execution_count": 40,
   "id": "30c319e4-01e7-4673-9855-1a193c7f5610",
   "metadata": {},
   "outputs": [],
   "source": [
    "n_0, n_1, n_2 = (int(10e5), int(5 * 10e5), int(10e6))"
   ]
  },
  {
   "cell_type": "code",
   "execution_count": 41,
   "id": "c3e797fa-ab19-4ed2-843b-5a15e63cbd52",
   "metadata": {},
   "outputs": [
    {
     "data": {
      "text/plain": [
       "1000000"
      ]
     },
     "execution_count": 41,
     "metadata": {},
     "output_type": "execute_result"
    }
   ],
   "source": [
    "n_0"
   ]
  },
  {
   "cell_type": "code",
   "execution_count": 42,
   "id": "73003a91-ca2c-4316-aa5d-dbc07d59c243",
   "metadata": {},
   "outputs": [
    {
     "data": {
      "text/plain": [
       "5000000"
      ]
     },
     "execution_count": 42,
     "metadata": {},
     "output_type": "execute_result"
    }
   ],
   "source": [
    "n_1"
   ]
  },
  {
   "cell_type": "code",
   "execution_count": 43,
   "id": "16a532ab-f504-4e0c-aeb2-2eaeca971082",
   "metadata": {},
   "outputs": [
    {
     "data": {
      "text/plain": [
       "10000000"
      ]
     },
     "execution_count": 43,
     "metadata": {},
     "output_type": "execute_result"
    }
   ],
   "source": [
    "n_2"
   ]
  },
  {
   "cell_type": "markdown",
   "id": "c1579513-4097-4878-bd9f-cfbe455de6e8",
   "metadata": {},
   "source": [
    "Se generan una funciones de referencia"
   ]
  },
  {
   "cell_type": "code",
   "execution_count": 46,
   "id": "68909d04-0d45-41c6-abf7-364ec9e6f831",
   "metadata": {},
   "outputs": [],
   "source": [
    "def copy_objs(obj_0, obj_1, obj_2):\n",
    "    \"\"\"Abstraccion auxiliar para copiar elementos.\"\"\"\n",
    "    return (obj_0.copy(), obj_1.copy(), obj_2.copy())\n",
    "\n",
    "\n",
    "def bench_pop(l_0, l_1, l_2, arg=-1):\n",
    "    \"\"\"Funcion de referncia para eliminacion de elementos.\"\"\"\n",
    "\n",
    "    l_0.pop(arg)\n",
    "    l_1.pop(arg)\n",
    "    l_2.pop(arg)\n",
    "\n",
    "\n",
    "def bench_append(l_0, l_1, l_2, arg=1):\n",
    "    \"\"\"Funcion de referencia para insertar 1 con append.\"\"\"\n",
    "\n",
    "    l_0.append(arg)\n",
    "    l_1.append(arg)\n",
    "    l_2.append(arg)\n",
    "\n",
    "\n",
    "def bench_insert(l_0, l_1, l_2, args=(0, 1)):\n",
    "    \"\"\"Funcion de referncia para insertar 1 con insert.\"\"\"\n",
    "\n",
    "    l_0.insert(*args)\n",
    "    l_1.insert(*args)\n",
    "    l_2.insert(*args)"
   ]
  },
  {
   "cell_type": "markdown",
   "id": "5a476deb-997c-4970-b03d-96422c2778ae",
   "metadata": {},
   "source": [
    "Se construye el test "
   ]
  },
  {
   "cell_type": "code",
   "execution_count": 47,
   "id": "694eb0d6-6216-4d25-aa09-2abe682cb16b",
   "metadata": {},
   "outputs": [],
   "source": [
    "lista_0, lista_1, lista_2 = (list(range(n_0)), list(range(n_1)), list(range(n_2)))"
   ]
  },
  {
   "cell_type": "code",
   "execution_count": 48,
   "id": "798fdfcd-aeb0-4607-a870-7cf9c81ec6da",
   "metadata": {},
   "outputs": [
    {
     "data": {
      "text/plain": [
       "1000000"
      ]
     },
     "execution_count": 48,
     "metadata": {},
     "output_type": "execute_result"
    }
   ],
   "source": [
    "len(lista_0)"
   ]
  },
  {
   "cell_type": "code",
   "execution_count": 49,
   "id": "2872ec4e-14cc-4d7c-ba34-8c58de6f98c3",
   "metadata": {},
   "outputs": [
    {
     "data": {
      "text/plain": [
       "5000000"
      ]
     },
     "execution_count": 49,
     "metadata": {},
     "output_type": "execute_result"
    }
   ],
   "source": [
    "len(lista_1)"
   ]
  },
  {
   "cell_type": "code",
   "execution_count": 50,
   "id": "7994a1fd-76a2-4df3-9004-a2e6574abc6c",
   "metadata": {},
   "outputs": [
    {
     "data": {
      "text/plain": [
       "10000000"
      ]
     },
     "execution_count": 50,
     "metadata": {},
     "output_type": "execute_result"
    }
   ],
   "source": [
    "len(lista_2)"
   ]
  },
  {
   "cell_type": "markdown",
   "id": "5bbb9444-cda5-4286-b019-0576e1343b15",
   "metadata": {},
   "source": [
    "#### Eliminar el ultimo elemento"
   ]
  },
  {
   "cell_type": "code",
   "execution_count": 51,
   "id": "673f07d8-b445-4b2f-b224-641ec999328b",
   "metadata": {},
   "outputs": [
    {
     "data": {
      "text/plain": [
       "Timer unit: 1e-06 s\n",
       "\n",
       "Total time: 1.2e-05 s\n",
       "File: /tmp/ipykernel_5653/3241826286.py\n",
       "Function: bench_pop at line 6\n",
       "\n",
       "Line #      Hits         Time  Per Hit   % Time  Line Contents\n",
       "==============================================================\n",
       "     6                                           def bench_pop(l_0, l_1, l_2, arg=-1):\n",
       "     7                                               \"\"\"Funcion de referncia para eliminacion de elementos.\"\"\"\n",
       "     8                                           \n",
       "     9         1          9.0      9.0     75.0      l_0.pop(arg)\n",
       "    10         1          2.0      2.0     16.7      l_1.pop(arg)\n",
       "    11         1          1.0      1.0      8.3      l_2.pop(arg)"
      ]
     },
     "metadata": {},
     "output_type": "display_data"
    }
   ],
   "source": [
    "l_0, l_1, l_2 = copy_objs(lista_0, lista_1, lista_2)\n",
    "\n",
    "# Se observa un tiempo constante\n",
    "%lprun -f bench_pop bench_pop(l_0,l_1,l_2)"
   ]
  },
  {
   "cell_type": "markdown",
   "id": "167115bb-8271-4e5f-8115-f1a0965661c0",
   "metadata": {},
   "source": [
    "#### Eliminar el primer elemento"
   ]
  },
  {
   "cell_type": "code",
   "execution_count": 52,
   "id": "adeab72e-4fe6-4dd4-8577-c12013faff7d",
   "metadata": {},
   "outputs": [
    {
     "data": {
      "text/plain": [
       "Timer unit: 1e-06 s\n",
       "\n",
       "Total time: 0.020539 s\n",
       "File: /tmp/ipykernel_5653/3241826286.py\n",
       "Function: bench_pop at line 6\n",
       "\n",
       "Line #      Hits         Time  Per Hit   % Time  Line Contents\n",
       "==============================================================\n",
       "     6                                           def bench_pop(l_0, l_1, l_2, arg=-1):\n",
       "     7                                               \"\"\"Funcion de referncia para eliminacion de elementos.\"\"\"\n",
       "     8                                           \n",
       "     9         1       1208.0   1208.0      5.9      l_0.pop(arg)\n",
       "    10         1       7373.0   7373.0     35.9      l_1.pop(arg)\n",
       "    11         1      11958.0  11958.0     58.2      l_2.pop(arg)"
      ]
     },
     "metadata": {},
     "output_type": "display_data"
    }
   ],
   "source": [
    "l_0, l_1, l_2 = copy_objs(lista_0, lista_1, lista_2)\n",
    "\n",
    "# Se observa un tiempo lineal\n",
    "%lprun -f bench_pop bench_pop(l_0,l_1,l_2,0)"
   ]
  },
  {
   "cell_type": "markdown",
   "id": "a36a5f39-3c52-4b43-b4a9-d00c4035d4d1",
   "metadata": {},
   "source": [
    "#### Insertar 1 en la ultima posicion"
   ]
  },
  {
   "cell_type": "code",
   "execution_count": 54,
   "id": "06d98428-da2f-4643-86d6-72896eff3da5",
   "metadata": {},
   "outputs": [
    {
     "data": {
      "text/plain": [
       "Timer unit: 1e-06 s\n",
       "\n",
       "Total time: 0.000847 s\n",
       "File: /tmp/ipykernel_5653/3241826286.py\n",
       "Function: bench_append at line 14\n",
       "\n",
       "Line #      Hits         Time  Per Hit   % Time  Line Contents\n",
       "==============================================================\n",
       "    14                                           def bench_append(l_0, l_1, l_2, arg=1):\n",
       "    15                                               \"\"\"Funcion de referencia para insertar 1 con append.\"\"\"\n",
       "    16                                           \n",
       "    17         1        339.0    339.0     40.0      l_0.append(arg)\n",
       "    18         1          7.0      7.0      0.8      l_1.append(arg)\n",
       "    19         1        501.0    501.0     59.1      l_2.append(arg)"
      ]
     },
     "metadata": {},
     "output_type": "display_data"
    }
   ],
   "source": [
    "l_0, l_1, l_2 = copy_objs(lista_0, lista_1, lista_2)\n",
    "\n",
    "# Se observa un tiempo constante (casi seguramente)\n",
    "%lprun -f  bench_append bench_append(l_0,l_1,l_2)"
   ]
  },
  {
   "cell_type": "markdown",
   "id": "49699725-ee62-4757-9cb6-a9802918ce9c",
   "metadata": {},
   "source": [
    "#### Insertar 1 en la primera posicion"
   ]
  },
  {
   "cell_type": "code",
   "execution_count": 55,
   "id": "e313a830-95c3-4764-80ff-0732777056a2",
   "metadata": {},
   "outputs": [
    {
     "data": {
      "text/plain": [
       "Timer unit: 1e-06 s\n",
       "\n",
       "Total time: 0.028344 s\n",
       "File: /tmp/ipykernel_5653/3241826286.py\n",
       "Function: bench_insert at line 22\n",
       "\n",
       "Line #      Hits         Time  Per Hit   % Time  Line Contents\n",
       "==============================================================\n",
       "    22                                           def bench_insert(l_0, l_1, l_2, args=(0, 1)):\n",
       "    23                                               \"\"\"Funcion de referncia para insertar 1 con insert.\"\"\"\n",
       "    24                                           \n",
       "    25         1       1348.0   1348.0      4.8      l_0.insert(*args)\n",
       "    26         1       6065.0   6065.0     21.4      l_1.insert(*args)\n",
       "    27         1      20931.0  20931.0     73.8      l_2.insert(*args)"
      ]
     },
     "metadata": {},
     "output_type": "display_data"
    }
   ],
   "source": [
    "l_0, l_1, l_2 = copy_objs(lista_0, lista_1, lista_2)\n",
    "\n",
    "# Se observa un tiempo lineal\n",
    "%lprun -f bench_insert bench_insert(l_0,l_1,l_2)"
   ]
  },
  {
   "cell_type": "markdown",
   "id": "52a2b482-2604-454c-a3cf-beafd08aa438",
   "metadata": {},
   "source": [
    "---\n",
    "\n",
    "### Double-Ended Queue: `deque` \n",
    "\n",
    "\n",
    "<img src='./resources/deque.png'/>\n",
    "\n",
    "<center>Fuente: <a href='https://medium.com/@rasmussen.matias/fun-with-deques-in-python-31942bcb6321'>Matias Rasmussen en Medium </a>\n",
    "    \n",
    "</center>\n",
    "\n",
    "Para efectuar inserciones de manera eficiente (siempre en tiempo constante) Se puede utilizar la estructura de datos `deque` del módulo `collections`. Estas estructuras se comportan como listas, están diseñadas para acelerar la inserción de objetos y añaden los métodos `.popleft` y `.appendleft`. \n",
    "\n",
    "\n",
    "\n",
    "\n",
    "**Ejemplo**\n",
    "\n",
    "Se compara `.popleft` en *deques* con `.pop(0)` en listas."
   ]
  },
  {
   "cell_type": "code",
   "execution_count": 57,
   "id": "c6041c90-b66b-4b85-8161-811cd0e4d62e",
   "metadata": {},
   "outputs": [],
   "source": [
    "from collections import deque\n",
    "\n",
    "\n",
    "def bench_pop_left(d_0, d_1, d_2):\n",
    "    \"\"\"Funcion de referncia para eliminacion de elementos.\"\"\"\n",
    "\n",
    "    d_0.popleft()\n",
    "    d_1.popleft()\n",
    "    d_2.popleft()\n",
    "\n",
    "\n",
    "def bench_append_left(d_0, d_1, d_2, val=1):\n",
    "    \"\"\"Funcion de referncia para insertar 1 con insert.\"\"\"\n",
    "\n",
    "    d_0.appendleft(val)\n",
    "    d_1.appendleft(val)\n",
    "    d_2.appendleft(val)"
   ]
  },
  {
   "cell_type": "markdown",
   "id": "2a984400-5dec-4a63-b8b7-269b6bdfb530",
   "metadata": {},
   "source": [
    "Se definen los objetos sobre los que se trabajará"
   ]
  },
  {
   "cell_type": "code",
   "execution_count": 58,
   "id": "e6e7ee35-76be-40ad-9e0f-722d745d7bb9",
   "metadata": {},
   "outputs": [],
   "source": [
    "deque_0, deque_1, deque_2 = tuple(map(deque, [lista_1, lista_1, lista_2]))"
   ]
  },
  {
   "cell_type": "code",
   "execution_count": 59,
   "id": "f9fe8a05-8ab4-4571-ae3d-7096effc691c",
   "metadata": {},
   "outputs": [
    {
     "data": {
      "text/plain": [
       "Timer unit: 1e-06 s\n",
       "\n",
       "Total time: 7e-06 s\n",
       "File: /tmp/ipykernel_5653/1103117999.py\n",
       "Function: bench_pop_left at line 4\n",
       "\n",
       "Line #      Hits         Time  Per Hit   % Time  Line Contents\n",
       "==============================================================\n",
       "     4                                           def bench_pop_left(d_0, d_1, d_2):\n",
       "     5                                               \"\"\"Funcion de referncia para eliminacion de elementos.\"\"\"\n",
       "     6                                           \n",
       "     7         1          3.0      3.0     42.9      d_0.popleft()\n",
       "     8         1          2.0      2.0     28.6      d_1.popleft()\n",
       "     9         1          2.0      2.0     28.6      d_2.popleft()"
      ]
     },
     "metadata": {},
     "output_type": "display_data"
    }
   ],
   "source": [
    "d_0, d_1, d_2 = copy_objs(deque_0, deque_1, deque_2)\n",
    "\n",
    "# Se observa un tiempo constante\n",
    "%lprun -f bench_pop_left bench_pop_left(d_0, d_1, d_2)"
   ]
  },
  {
   "cell_type": "code",
   "execution_count": 60,
   "id": "7b2865b8-f0cb-42e0-be79-d5067ea7a5c3",
   "metadata": {},
   "outputs": [
    {
     "data": {
      "text/plain": [
       "Timer unit: 1e-06 s\n",
       "\n",
       "Total time: 6e-06 s\n",
       "File: /tmp/ipykernel_5653/1103117999.py\n",
       "Function: bench_append_left at line 12\n",
       "\n",
       "Line #      Hits         Time  Per Hit   % Time  Line Contents\n",
       "==============================================================\n",
       "    12                                           def bench_append_left(d_0, d_1, d_2, val=1):\n",
       "    13                                               \"\"\"Funcion de referncia para insertar 1 con insert.\"\"\"\n",
       "    14                                           \n",
       "    15         1          4.0      4.0     66.7      d_0.appendleft(val)\n",
       "    16         1          1.0      1.0     16.7      d_1.appendleft(val)\n",
       "    17         1          1.0      1.0     16.7      d_2.appendleft(val)"
      ]
     },
     "metadata": {},
     "output_type": "display_data"
    }
   ],
   "source": [
    "%lprun -f bench_append_left bench_append_left(d_0, d_1, d_2)"
   ]
  },
  {
   "cell_type": "markdown",
   "id": "169817d8-a1c4-4a65-934d-cac2c4b4fbb9",
   "metadata": {},
   "source": [
    "---\n",
    "\n",
    "### Optimización de Operaciones con Diccionarios\n",
    "\n",
    "La gran flexibilidad de los diccionarios los hacen un objeto central en el uso de Python. Estos son implementaciones de *hash maps*, es decir, son estructuras de datos construidas por medio de asociaciones *llave - valor*, donde a cada llave, se asigna un índice especifico, de tal manera que el valor de tal índice puede ser ordenado en un arreglo. Por tal motivo, los diccionarios son altamente eficientes en procesos de eliminación, acceso e inserción teniendo un tiempo promedio de ejecución de $O(1)$. \n",
    "\n",
    "\n",
    "<div align='center'>\n",
    "    <img src='./resources/hashmap.png' width=500 />\n",
    "    \n",
    "    \n",
    "\n",
    "              \n",
    "</div>\n",
    "\n",
    "<div align='center'>\n",
    "    Fuente: <a href='https://techmastertutorial.in/java-collection-internal-hashmap.html'>Java HashMap en techmastertutorial.in</a>\n",
    "    </div>\n",
    "<br> \n",
    "\n",
    "Para acceder a los índices dados por el *hash map* se puede utilizar la función `hash` de Python, esta opera sobre distintos tipos de datos.\n",
    "\n",
    "\n",
    "\n",
    "\n",
    "**Ejemplo**\n",
    "\n",
    "Se aplica `hash` a diferentes objetos"
   ]
  },
  {
   "cell_type": "code",
   "execution_count": 61,
   "id": "d95c5d8e-a664-4335-a0a2-32bd9c68761e",
   "metadata": {},
   "outputs": [
    {
     "name": "stdout",
     "output_type": "stream",
     "text": [
      "hash string:  -1629309444246636649\n",
      "hash int: 1234\n",
      "hash tuple -7665359673442551369\n"
     ]
    }
   ],
   "source": [
    "print(\"hash string: \", hash(\"MDS7202\"))\n",
    "print(\"hash int:\", hash(1234))\n",
    "print(\"hash tuple\", hash((\"a\", \"b\", \"c\")))"
   ]
  },
  {
   "cell_type": "markdown",
   "id": "c916da63-945b-4f5a-8d65-168effddd7b6",
   "metadata": {},
   "source": [
    "Un objeto puede ser operado por `hash` (*hashable object*) si tiene un método `__hash__` y puede ser comparado por medio de `__eq__` por ejemplo. Si un objeto es *hashable* significa que puede ser utilizado como llave de un diccionario, en general, todos los objetos inmutables de Python son *hashables* mientras que las listas y diccionarios, por ser inmutables, no lo son.  \n",
    "\n"
   ]
  },
  {
   "cell_type": "markdown",
   "id": "0bcd600a-308e-4cef-9b51-607c23469754",
   "metadata": {},
   "source": [
    "#### `defaultdict`"
   ]
  },
  {
   "cell_type": "code",
   "execution_count": 62,
   "id": "7eeec3d2-c32b-4299-9874-9f263a0a02ba",
   "metadata": {},
   "outputs": [],
   "source": [
    "from collections import defaultdict"
   ]
  },
  {
   "cell_type": "markdown",
   "id": "73046956-4535-4644-824d-a496beeb1a51",
   "metadata": {},
   "source": [
    "Los objetos `defaultdict` poseen todas las funcionalidades de un diccionario pero añaden el método `.__missing__()` con el cual se proveen valores por defecto, los cuales se asignan a una nueva llave, es decir, permiten inicializar diccionarios entregando solo el valor de la llave (y no su valor asociado), pues a cada llave nueva, se asigna un valor por defecto de manera automática. \n"
   ]
  },
  {
   "cell_type": "code",
   "execution_count": 63,
   "id": "d7d48236-af26-4197-83e2-f191c5b33671",
   "metadata": {},
   "outputs": [
    {
     "data": {
      "text/plain": [
       "defaultdict(list, {})"
      ]
     },
     "execution_count": 63,
     "metadata": {},
     "output_type": "execute_result"
    }
   ],
   "source": [
    "# list es el valor por defecto que tendrá cada llave del diccionario,\n",
    "# aunque esta no se haya definido.\n",
    "d = defaultdict(list)\n",
    "d"
   ]
  },
  {
   "cell_type": "code",
   "execution_count": 64,
   "id": "b849a7d0-2f22-4876-8edd-6ad78c358c0f",
   "metadata": {},
   "outputs": [
    {
     "data": {
      "text/plain": [
       "False"
      ]
     },
     "execution_count": 64,
     "metadata": {},
     "output_type": "execute_result"
    }
   ],
   "source": [
    "\"hola\" in d"
   ]
  },
  {
   "cell_type": "code",
   "execution_count": 65,
   "id": "24ba6477-3d00-4798-a310-fde79fd8330b",
   "metadata": {},
   "outputs": [
    {
     "data": {
      "text/plain": [
       "[]"
      ]
     },
     "execution_count": 65,
     "metadata": {},
     "output_type": "execute_result"
    }
   ],
   "source": [
    "# esto inicializa la variable hola.\n",
    "d[\"hola\"]"
   ]
  },
  {
   "cell_type": "code",
   "execution_count": 66,
   "id": "c612dba1-5238-43cd-ba52-081b3b77f51b",
   "metadata": {},
   "outputs": [
    {
     "data": {
      "text/plain": [
       "defaultdict(list, {'hola': []})"
      ]
     },
     "execution_count": 66,
     "metadata": {},
     "output_type": "execute_result"
    }
   ],
   "source": [
    "d"
   ]
  },
  {
   "cell_type": "code",
   "execution_count": 67,
   "id": "58de7726-07ff-46fc-907f-0074d95357ba",
   "metadata": {},
   "outputs": [
    {
     "data": {
      "text/plain": [
       "[]"
      ]
     },
     "execution_count": 67,
     "metadata": {},
     "output_type": "execute_result"
    }
   ],
   "source": [
    "d[\"hola2\"]"
   ]
  },
  {
   "cell_type": "code",
   "execution_count": 68,
   "id": "f10152b2-b0dd-4ffe-91d5-422e4e1e8763",
   "metadata": {},
   "outputs": [
    {
     "data": {
      "text/plain": [
       "defaultdict(list, {'hola': [], 'hola2': []})"
      ]
     },
     "execution_count": 68,
     "metadata": {},
     "output_type": "execute_result"
    }
   ],
   "source": [
    "d"
   ]
  },
  {
   "cell_type": "code",
   "execution_count": 69,
   "id": "38168563-cda1-4f97-91cf-6652b65c05ad",
   "metadata": {},
   "outputs": [
    {
     "data": {
      "text/plain": [
       "True"
      ]
     },
     "execution_count": 69,
     "metadata": {},
     "output_type": "execute_result"
    }
   ],
   "source": [
    "\"hola\" in d"
   ]
  },
  {
   "cell_type": "markdown",
   "id": "68602514-66b9-486d-811c-297980d77fcf",
   "metadata": {},
   "source": [
    "El comportamiento anterior, como vimos anteriormente, no es posible en un diccionario común y corriente:"
   ]
  },
  {
   "cell_type": "code",
   "execution_count": 70,
   "id": "d1ddb8a7-99ae-4e1d-aaa6-cf6ecd322934",
   "metadata": {},
   "outputs": [
    {
     "ename": "KeyError",
     "evalue": "'hola'",
     "output_type": "error",
     "traceback": [
      "\u001b[0;31m---------------------------------------------------------------------------\u001b[0m",
      "\u001b[0;31mKeyError\u001b[0m                                  Traceback (most recent call last)",
      "Input \u001b[0;32mIn [70]\u001b[0m, in \u001b[0;36m<cell line: 2>\u001b[0;34m()\u001b[0m\n\u001b[1;32m      1\u001b[0m d2 \u001b[38;5;241m=\u001b[39m {}\n\u001b[0;32m----> 2\u001b[0m \u001b[43md2\u001b[49m\u001b[43m[\u001b[49m\u001b[38;5;124;43m\"\u001b[39;49m\u001b[38;5;124;43mhola\u001b[39;49m\u001b[38;5;124;43m\"\u001b[39;49m\u001b[43m]\u001b[49m\n",
      "\u001b[0;31mKeyError\u001b[0m: 'hola'"
     ]
    }
   ],
   "source": [
    "d2 = {}\n",
    "d2[\"hola\"]"
   ]
  },
  {
   "cell_type": "code",
   "execution_count": 71,
   "id": "c73d79d7-be3f-4c48-8eeb-6f5df452b198",
   "metadata": {},
   "outputs": [],
   "source": [
    "to_group = [\n",
    "    (\"a\", 1),\n",
    "    (\"b\", 2),\n",
    "    (\"c\", 3),\n",
    "    (\"b\", 4),\n",
    "    (\"d\", 1),\n",
    "]"
   ]
  },
  {
   "cell_type": "markdown",
   "id": "a8703724-07a5-44c2-b3f7-cede23d724df",
   "metadata": {},
   "source": [
    "Esto es lo que quisieramos lograr:\n",
    "\n",
    "```python\n",
    "salida_esperada = [('a', [1]), \n",
    "                   ('b', [2, 4]), \n",
    "                   ('c', [3]), \n",
    "                   ('d', [1])]\n",
    "```\n"
   ]
  },
  {
   "cell_type": "code",
   "execution_count": 72,
   "id": "ffbd9301-d53b-4ff9-b24a-f52cb4b10594",
   "metadata": {},
   "outputs": [
    {
     "data": {
      "text/plain": [
       "defaultdict(list, {'a': [1], 'b': [2, 4], 'c': [3], 'd': [1]})"
      ]
     },
     "execution_count": 72,
     "metadata": {},
     "output_type": "execute_result"
    }
   ],
   "source": [
    "D = defaultdict(list)\n",
    "\n",
    "for k, v in to_group:\n",
    "    # versión sin defaultdict\n",
    "    #if k in D:\n",
    "    #    D[k].append(v)\n",
    "    #else: \n",
    "    #    D[k] = [v]\n",
    "        \n",
    "    D[k].append(v)\n",
    "\n",
    "D"
   ]
  },
  {
   "cell_type": "markdown",
   "id": "4e380b9d-bba8-4e22-bacf-e3f07737b7dd",
   "metadata": {},
   "source": [
    "#### Ejemplo Eficiencia Diccionarios vs Listas\n",
    "\n",
    "El siguiente ejemplo muestra el como optimizar los diccionarios es que permiten buscar palabras de manera rápida en una *lista de documentos*. \n",
    "\n",
    "Por ejemplo, *El hombre imaginario*. (aquí asumimos que cada elemento del arreglo es un documento por separado)."
   ]
  },
  {
   "cell_type": "code",
   "execution_count": 73,
   "id": "6420e422-9503-4bc8-8a5c-153e3cf19ff8",
   "metadata": {},
   "outputs": [
    {
     "data": {
      "text/plain": [
       "['El hombre imaginario',\n",
       " 'vive en una mansión imaginaria',\n",
       " 'rodeada de árboles imaginarios',\n",
       " 'a la orilla de un río imaginario',\n",
       " '',\n",
       " 'De los muros que son imaginarios',\n",
       " 'penden antiguos cuadros imaginarios',\n",
       " 'irreparables grietas imaginarias',\n",
       " 'que representan hechos imaginarios',\n",
       " 'ocurridos en mundos imaginarios',\n",
       " 'en lugares y tiempos imaginarios',\n",
       " '',\n",
       " 'Todas las tardes tardes imaginarias',\n",
       " 'sube las escaleras imaginarias',\n",
       " 'y se asoma al balcón imaginario',\n",
       " 'a mirar el paisaje imaginario',\n",
       " 'que consiste en un valle imaginario',\n",
       " 'circundado de cerros imaginarios',\n",
       " '',\n",
       " 'Sombras imaginarias',\n",
       " 'vienen por el camino imaginario',\n",
       " 'entonando canciones imaginarias',\n",
       " 'a la muerte del sol imaginario',\n",
       " '',\n",
       " 'Y en las noches de luna imaginaria',\n",
       " 'sueña con la mujer imaginaria',\n",
       " 'que le brindó su amor imaginario',\n",
       " 'vuelve a sentir ese mismo dolor',\n",
       " 'ese mismo placer imaginario',\n",
       " 'y vuelve a palpitar',\n",
       " 'el corazón del hombre imaginario']"
      ]
     },
     "execution_count": 73,
     "metadata": {},
     "output_type": "execute_result"
    }
   ],
   "source": [
    "with open(\"./resources/text.txt\", \"r\") as file:\n",
    "    lines = file.readlines()\n",
    "    lines = [l.rstrip(\" \\n\") for l in lines]\n",
    "\n",
    "lines"
   ]
  },
  {
   "cell_type": "markdown",
   "id": "ada1f639-92b1-47a8-88fe-b3b59fd9563f",
   "metadata": {},
   "source": [
    "Supongamos que queremos buscar la palabra `'imaginario'` en cada documento. Es posible hacer esto recorriendo todo cada vez que ejecutamos la búsqueda según el siguiente código."
   ]
  },
  {
   "cell_type": "code",
   "execution_count": 74,
   "id": "bdc00fdd-f399-4f08-8ec1-1a8857455b3d",
   "metadata": {},
   "outputs": [
    {
     "data": {
      "text/plain": [
       "['El hombre imaginario',\n",
       " 'rodeada de árboles imaginarios',\n",
       " 'a la orilla de un río imaginario',\n",
       " 'De los muros que son imaginarios',\n",
       " 'penden antiguos cuadros imaginarios',\n",
       " 'que representan hechos imaginarios',\n",
       " 'ocurridos en mundos imaginarios',\n",
       " 'en lugares y tiempos imaginarios',\n",
       " 'y se asoma al balcón imaginario',\n",
       " 'a mirar el paisaje imaginario',\n",
       " 'que consiste en un valle imaginario',\n",
       " 'circundado de cerros imaginarios',\n",
       " 'vienen por el camino imaginario',\n",
       " 'a la muerte del sol imaginario',\n",
       " 'que le brindó su amor imaginario',\n",
       " 'ese mismo placer imaginario',\n",
       " 'el corazón del hombre imaginario']"
      ]
     },
     "execution_count": 74,
     "metadata": {},
     "output_type": "execute_result"
    }
   ],
   "source": [
    "to_search = \"imaginario\"\n",
    "\n",
    "found = [line for line in lines if to_search in line]\n",
    "found"
   ]
  },
  {
   "cell_type": "code",
   "execution_count": 75,
   "id": "34585f5d-72d4-4ec9-99ee-160c488ba810",
   "metadata": {},
   "outputs": [
    {
     "name": "stdout",
     "output_type": "stream",
     "text": [
      "1.88 µs ± 74.3 ns per loop (mean ± std. dev. of 7 runs, 100,000 loops each)\n"
     ]
    }
   ],
   "source": [
    "%timeit found = [line for line in lines if to_search in line]"
   ]
  },
  {
   "cell_type": "markdown",
   "id": "ea2c3a97-27a4-4418-a544-d4c81c555bc0",
   "metadata": {},
   "source": [
    "Se debe considerar que el tiempo de ejecución asociado a consultar por una palabra es $O(N)$. Para mejorar esto, se puede construir un diccionario, donde a cada palabra se asocie un índice, donde este último corresponde al la linea (o documento si se prefiere) al que pertenece. Esto se puede hacer mediante el siguiente código"
   ]
  },
  {
   "cell_type": "code",
   "execution_count": 76,
   "id": "41a72e57-c0cf-4340-82f3-f18ae919291c",
   "metadata": {},
   "outputs": [],
   "source": [
    "index = defaultdict(list)\n",
    "\n",
    "for i, line in enumerate(lines):\n",
    "\n",
    "    for word in line.split():\n",
    "        index[word].append(i)"
   ]
  },
  {
   "cell_type": "code",
   "execution_count": 77,
   "id": "b5b95924-be85-4594-b792-b7b77d9e23d1",
   "metadata": {},
   "outputs": [
    {
     "data": {
      "text/plain": [
       "defaultdict(list,\n",
       "            {'El': [0],\n",
       "             'hombre': [0, 30],\n",
       "             'imaginario': [0, 3, 14, 15, 16, 20, 22, 26, 28, 30],\n",
       "             'vive': [1],\n",
       "             'en': [1, 9, 10, 16, 24],\n",
       "             'una': [1],\n",
       "             'mansión': [1],\n",
       "             'imaginaria': [1, 24, 25],\n",
       "             'rodeada': [2],\n",
       "             'de': [2, 3, 17, 24],\n",
       "             'árboles': [2],\n",
       "             'imaginarios': [2, 5, 6, 8, 9, 10, 17],\n",
       "             'a': [3, 15, 22, 27, 29],\n",
       "             'la': [3, 22, 25],\n",
       "             'orilla': [3],\n",
       "             'un': [3, 16],\n",
       "             'río': [3],\n",
       "             'De': [5],\n",
       "             'los': [5],\n",
       "             'muros': [5],\n",
       "             'que': [5, 8, 16, 26],\n",
       "             'son': [5],\n",
       "             'penden': [6],\n",
       "             'antiguos': [6],\n",
       "             'cuadros': [6],\n",
       "             'irreparables': [7],\n",
       "             'grietas': [7],\n",
       "             'imaginarias': [7, 12, 13, 19, 21],\n",
       "             'representan': [8],\n",
       "             'hechos': [8],\n",
       "             'ocurridos': [9],\n",
       "             'mundos': [9],\n",
       "             'lugares': [10],\n",
       "             'y': [10, 14, 29],\n",
       "             'tiempos': [10],\n",
       "             'Todas': [12],\n",
       "             'las': [12, 13, 24],\n",
       "             'tardes': [12, 12],\n",
       "             'sube': [13],\n",
       "             'escaleras': [13],\n",
       "             'se': [14],\n",
       "             'asoma': [14],\n",
       "             'al': [14],\n",
       "             'balcón': [14],\n",
       "             'mirar': [15],\n",
       "             'el': [15, 20, 30],\n",
       "             'paisaje': [15],\n",
       "             'consiste': [16],\n",
       "             'valle': [16],\n",
       "             'circundado': [17],\n",
       "             'cerros': [17],\n",
       "             'Sombras': [19],\n",
       "             'vienen': [20],\n",
       "             'por': [20],\n",
       "             'camino': [20],\n",
       "             'entonando': [21],\n",
       "             'canciones': [21],\n",
       "             'muerte': [22],\n",
       "             'del': [22, 30],\n",
       "             'sol': [22],\n",
       "             'Y': [24],\n",
       "             'noches': [24],\n",
       "             'luna': [24],\n",
       "             'sueña': [25],\n",
       "             'con': [25],\n",
       "             'mujer': [25],\n",
       "             'le': [26],\n",
       "             'brindó': [26],\n",
       "             'su': [26],\n",
       "             'amor': [26],\n",
       "             'vuelve': [27, 29],\n",
       "             'sentir': [27],\n",
       "             'ese': [27, 28],\n",
       "             'mismo': [27, 28],\n",
       "             'dolor': [27],\n",
       "             'placer': [28],\n",
       "             'palpitar': [29],\n",
       "             'corazón': [30]})"
      ]
     },
     "execution_count": 77,
     "metadata": {},
     "output_type": "execute_result"
    }
   ],
   "source": [
    "index"
   ]
  },
  {
   "cell_type": "markdown",
   "id": "a28160e1-a70f-4f34-8d7c-0c32e40e1055",
   "metadata": {},
   "source": [
    "En el diccionario generado, hacer búsquedas es de orden $O(1)$, luego para la misma consulta antes hecha se tiene"
   ]
  },
  {
   "cell_type": "code",
   "execution_count": 78,
   "id": "f6e60c01-928e-4755-80b1-64ee65cb3a37",
   "metadata": {},
   "outputs": [
    {
     "name": "stdout",
     "output_type": "stream",
     "text": [
      "1.01 µs ± 23.9 ns per loop (mean ± std. dev. of 7 runs, 1,000,000 loops each)\n"
     ]
    }
   ],
   "source": [
    "%%timeit\n",
    "res = index[to_search]\n",
    "[lines[i] for i in res]"
   ]
  },
  {
   "cell_type": "markdown",
   "id": "04e1471f-234b-4774-8ee6-b6de6d3c26d3",
   "metadata": {},
   "source": [
    "Es decir, un aumento substancial de rendimiento. Cabe mencionar, que este procedimiento solo tiene sentido si se busca hacer una cantidad alta de consultas sobre un arreglo de lineas/documentos, esto pues, el tiempo de preprocesamiento para generar el indexado por diccionario puede ser muy alto."
   ]
  },
  {
   "cell_type": "markdown",
   "id": "52a1fd6a-bbc8-4d52-b6c1-32b732dfe4cc",
   "metadata": {},
   "source": [
    "---\n",
    "\n",
    "### Optimización con uso de Memoización\n",
    "\n",
    "También se puede mejorar el rendimiento de aplicaciones por medio de un uso eficiente de la memoria, una de las ideas tras esta premisa es la de guardar los resultados de operaciones intensivas en un espacio de memoria llamado *cache*, este espacio puede estar ubicado en memoria (RAM), disco o almacenada de manera remota. El acto de guardar resultados en memoria para luego utilizarlos de manera directa se denomina **memoización**. y es una forma de *chaching* o uso de memorias *cache*.\n",
    "\n",
    "Python ofrece el decorador `@lru_cache` accesible desde la librería base `functools`. Este decorador puede ser utilizado de manera sencilla para guardar resultados en memoria y luego accederlos. \n",
    "\n",
    "**Ejemplo**\n",
    "\n",
    "Se utiliza el decorador `@lru_cache` sobre una función sencilla. En primera instancia se importa el módulo necesario."
   ]
  },
  {
   "cell_type": "code",
   "execution_count": 80,
   "id": "96cfd1e5-92ac-4410-bdce-bfc6f8219aef",
   "metadata": {},
   "outputs": [],
   "source": [
    "from functools import lru_cache"
   ]
  },
  {
   "cell_type": "markdown",
   "id": "c66091a6-97bf-47c0-8192-32e754260c64",
   "metadata": {},
   "source": [
    "Se define la función a memoizar y se aplica el decorador"
   ]
  },
  {
   "cell_type": "code",
   "execution_count": 81,
   "id": "2397d99b-ebeb-4ed6-af29-c0a17d6aebb2",
   "metadata": {},
   "outputs": [],
   "source": [
    "@lru_cache\n",
    "def simple_func(x, y):\n",
    "    \"\"\"Funcion de prueba para memoizar.\"\"\"\n",
    "\n",
    "    print(\"Obteniendo el resultado...\")\n",
    "\n",
    "    return x**y + y**x"
   ]
  },
  {
   "cell_type": "markdown",
   "id": "182fb3f6-7f95-42a1-86be-452e950e290b",
   "metadata": {},
   "source": [
    "Para comprobar el funcionamiento del decorador se llama la función dos veces sobre el mismo argumento."
   ]
  },
  {
   "cell_type": "code",
   "execution_count": 82,
   "id": "a4d80caf-d2ed-4faa-a26c-5b4da403564a",
   "metadata": {},
   "outputs": [
    {
     "name": "stdout",
     "output_type": "stream",
     "text": [
      "Obteniendo el resultado...\n"
     ]
    },
    {
     "data": {
      "text/plain": [
       "57"
      ]
     },
     "execution_count": 82,
     "metadata": {},
     "output_type": "execute_result"
    }
   ],
   "source": [
    "args = (2, 5)\n",
    "simple_func(*args)"
   ]
  },
  {
   "cell_type": "markdown",
   "id": "a88d2a48-2988-411c-8259-1137fb7ffbd4",
   "metadata": {},
   "source": [
    "Se repite el procedimiento "
   ]
  },
  {
   "cell_type": "code",
   "execution_count": 83,
   "id": "fa8fd47d-63ed-4339-a270-bc75bd6c5717",
   "metadata": {},
   "outputs": [
    {
     "data": {
      "text/plain": [
       "57"
      ]
     },
     "execution_count": 83,
     "metadata": {},
     "output_type": "execute_result"
    }
   ],
   "source": [
    "simple_func(*args)"
   ]
  },
  {
   "cell_type": "markdown",
   "id": "7b960ff1-9f45-40bb-ba9b-d9950c393613",
   "metadata": {},
   "source": [
    "En este último caso se observa que el resultado es obtenido directamente desde la memoria. "
   ]
  },
  {
   "cell_type": "markdown",
   "id": "12716665-4ed9-4c63-a985-a343e3108d32",
   "metadata": {},
   "source": [
    "**Ejercicios**\n",
    "\n",
    "`@lru_cache` es un decorador que acepta argumentos de entrada, permitiendo el uso del `max_size`. Con este parámetro se especifica el tamaño máximo de memoria para el cache asociado a la función. \n",
    "\n",
    "1. Decore la función anterior indicando como parámetro `max_size = 8`.\n",
    "\n",
    "2. ¿Qué ocurre cuando se llena el tamaño maximo y se realizan más cálculos? *Hint*: lru significa *least recently used*.\n",
    "\n",
    "3. Acceda a la información del *cache* por medio del método `.cache_info()` de la función decorada. ¿Qué significa *hit* y *miss* en este contexto?\n"
   ]
  },
  {
   "cell_type": "markdown",
   "id": "f4daecad-0c55-4728-9226-b0c4342a4560",
   "metadata": {},
   "source": [
    "Un ejemplo más avanzado es el de memoizar funciones recursivas\n",
    "\n",
    "**Ejemplo**\n",
    "\n",
    "Se trabaja con la función recursiva `factorial` almacenando sus resultados en *cache*.\n",
    "\n",
    "\n",
    "```python\n",
    "\n",
    "(factorial(5))\n",
    "(5 * factorial(4))\n",
    "(5 * (4 *factorial(3)))\n",
    "(5 * (4 * (3 *factorial(2))))\n",
    "(5 * (4 * (3 * (2 * factorial(1)))))\n",
    "(5 * (4 * (3 * (2 * 1))))\n",
    "(5 * (4 * (3 * 2)))\n",
    "(5 * (4 * 6))\n",
    "(5 * 24)\n",
    "(120)\n",
    "\n",
    "```"
   ]
  },
  {
   "cell_type": "code",
   "execution_count": 84,
   "id": "f2bb99fc-ee0f-45e0-8f52-919012cb5a33",
   "metadata": {},
   "outputs": [],
   "source": [
    "def factorial(n):\n",
    "    if n == 1:\n",
    "        return 1\n",
    "    else:\n",
    "        return n * factorial(n - 1)"
   ]
  },
  {
   "cell_type": "markdown",
   "id": "41cf8b32-dd6d-4188-adca-a733359d913b",
   "metadata": {},
   "source": [
    "Se mide el tiempo de ejecución para `n=1000`."
   ]
  },
  {
   "cell_type": "code",
   "execution_count": 85,
   "id": "e744269f-5838-4e5f-8e41-5d20d300c05d",
   "metadata": {},
   "outputs": [
    {
     "name": "stdout",
     "output_type": "stream",
     "text": [
      "574 µs ± 18 µs per loop (mean ± std. dev. of 7 runs, 1,000 loops each)\n"
     ]
    }
   ],
   "source": [
    "%%timeit\n",
    "factorial(1000)"
   ]
  },
  {
   "cell_type": "markdown",
   "id": "f4328c32-8fac-431f-9dc0-d20568f0f929",
   "metadata": {},
   "source": [
    "Se memoiza la función y se repite el experimento"
   ]
  },
  {
   "cell_type": "code",
   "execution_count": 86,
   "id": "e93863e9-d4b1-4db8-8955-5131db678bff",
   "metadata": {},
   "outputs": [],
   "source": [
    "@lru_cache(maxsize=1000)\n",
    "def factorial(n):\n",
    "    if n == 1:\n",
    "        return 1\n",
    "    else:\n",
    "        return n * factorial(n - 1)"
   ]
  },
  {
   "cell_type": "code",
   "execution_count": 87,
   "id": "8e2c5c28-c50f-4a7d-801f-aa8108908bde",
   "metadata": {},
   "outputs": [
    {
     "name": "stdout",
     "output_type": "stream",
     "text": [
      "96.7 ns ± 5.1 ns per loop (mean ± std. dev. of 7 runs, 10,000,000 loops each)\n"
     ]
    }
   ],
   "source": [
    "%%timeit\n",
    "factorial(1000)"
   ]
  },
  {
   "cell_type": "markdown",
   "id": "c41c52bb-3359-42bc-a6c1-6f17a62ae884",
   "metadata": {},
   "source": [
    "Con lo que se comprueba la eficiencia del método. "
   ]
  },
  {
   "cell_type": "markdown",
   "id": "4a150588-3635-4cec-8667-5fb79f5e8a4a",
   "metadata": {},
   "source": [
    "> **Nota**: La ventaja de utilizar técnicas de *caching* tienen un costo, este radica en aumentar el consumo de memoria, si esta memoria esta localizada en disco, el acceso puede ser muy lento y el rendimiento puede decaer drásticamente. Antes de usar este tipo de estrategias, se recomienda estudiar la factibilidad, teniendo en cuenta las politicas de almacenamiento y acceso de los resultados y su relación con el rendimiento del programa que se desea implementar."
   ]
  }
 ],
 "metadata": {
  "kernelspec": {
   "display_name": "Python 3 (ipykernel)",
   "language": "python",
   "name": "python3"
  },
  "language_info": {
   "codemirror_mode": {
    "name": "ipython",
    "version": 3
   },
   "file_extension": ".py",
   "mimetype": "text/x-python",
   "name": "python",
   "nbconvert_exporter": "python",
   "pygments_lexer": "ipython3",
   "version": "3.9.7"
  },
  "toc": {
   "base_numbering": 1,
   "nav_menu": {},
   "number_sections": true,
   "sideBar": true,
   "skip_h1_title": true,
   "title_cell": "Table of Contents",
   "title_sidebar": "Contents",
   "toc_cell": false,
   "toc_position": {},
   "toc_section_display": true,
   "toc_window_display": false
  }
 },
 "nbformat": 4,
 "nbformat_minor": 5
}
