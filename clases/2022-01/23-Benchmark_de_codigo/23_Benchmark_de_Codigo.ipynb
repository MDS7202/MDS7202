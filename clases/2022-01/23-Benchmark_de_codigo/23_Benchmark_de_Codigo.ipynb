{
 "cells": [
  {
   "cell_type": "markdown",
   "id": "978f7ad8-23fd-4a71-bcdb-7e6121a335eb",
   "metadata": {},
   "source": [
    "# Clase 20: Optimización de Código en Python\n",
    "\n",
    "**MDS7202: Laboratorio de Programación Científica para Ciencia de Datos**\n",
    "\n",
    "**Profesor: Pablo Badilla**\n",
    "\n",
    "Basados en las clases de *Nicolás Caro*\n",
    "\n"
   ]
  },
  {
   "cell_type": "markdown",
   "id": "98047d07-aa63-46b4-9af4-05b7e1fd889f",
   "metadata": {},
   "source": [
    "---\n",
    "\n",
    "## Optimización de Código en Ciencia de Datos\n",
    "\n",
    "El flujo de trabajo en ciencia de datos consta de **numerosas rutinas de carga, procesamiento y visualización**. Lo ideal es que diseñemos estas rutinas de la forma más optima posible con el fin de reducir recursos, tiempos de carga utilizados y sus costos asociados. Estas optimizaciones son abordadas por medio de algoritmos, técnicas de programación y diseño de código. "
   ]
  },
  {
   "cell_type": "markdown",
   "id": "23132696-76e1-4b0d-aca5-7cadd9384987",
   "metadata": {},
   "source": [
    "---\n",
    "\n",
    "## Lenguajes de Programación\n",
    "\n",
    "El lenguaje de máquina es el conjunto de instrucciones que el hardware es capaz de interpretar y procesar.\n",
    "A través de estas instrucciones podemos lograr que nuestro procesador ejecute distintos tipos de acciones muy básicas. \n",
    "Este conjuntos de lenguajes es comunmente conocido como *lenguaje de bajo nivel*\n",
    "\n",
    "<center>\n",
    "<img src='./resources/codigo_maquina.png' width=400 />\n",
    "<center/>\n",
    "\n",
    "<center>Por suerte no tenemos que si quiera pensar en esto...</center>\n",
    "    \n",
    "<center> \n",
    "    Fuente: <a href='https://en.wikipedia.org/wiki/Machine_code#/media/File:W65C816S_Machine_Code_Monitor.jpeg'>Wikipedia </a>\n",
    "</center>\n",
    "    \n",
    "    \n",
    "    \n"
   ]
  },
  {
   "cell_type": "markdown",
   "id": "40d96b49-4f2e-4cbb-9491-c201dd70c71c",
   "metadata": {},
   "source": [
    "La idea general de un lenguaje de programación que conocemos hasta ahora (como `python`) es tener una forma *humana* de comunicarse con la máquina. Es decir, que nos permitan escribir código de forma sencilla y que sean luego convertidos al lenguaje que la máquina sea capaz de entender.\n",
    "\n",
    "Estos lenguajes se denominan *lenguajes de alto nivel*."
   ]
  },
  {
   "cell_type": "markdown",
   "id": "673a8fae-75cb-4326-9ed2-a7ba91c4ac90",
   "metadata": {},
   "source": [
    "---\n",
    "\n",
    "## Lenguajes Compilados vs Intepretados\n",
    "\n",
    "Existen dos enfoques principales para convertir un código de lenguaje de alto nivel a uno de bajo nivel: que el lenguaje sea **Compilado** o **Interpretado**."
   ]
  },
  {
   "cell_type": "markdown",
   "id": "c47e5a0c-a615-4cc6-80c7-31b7bfa36238",
   "metadata": {},
   "source": [
    "<center>\n",
    "<img src='./resources/tipos_lenguajes.png' width=800/>\n",
    "\n",
    "</center>"
   ]
  },
  {
   "cell_type": "markdown",
   "id": "984df845-311b-4e0e-8268-fe52a15a9c68",
   "metadata": {},
   "source": [
    "---\n",
    "\n",
    "## Computación de alto Rendimiento con Python\n",
    "\n",
    "Python es utilizado transversalmente, ya sea en la industria o en la academia. Dentro de sus cualidades se encuentra la portabilidad de código, sintaxis intuitiva, disponibilidad de herramientas y documentación. Sin embargo, al ser un lenguaje interpretado se pierden ciertas características intrínsicas de los lenguajes de bajo nivel como C, C++ y Fortran.\n",
    "\n",
    "En esta y la próxima clase estudiaremos distintas herramientas para mejorar el rendimiento del interprete, como el uso eficiente de objetos base y la aplicación de técnicas de paralelismo y compilación utilizando tanto librerías nativas, como desarrolladas por terceros. \n",
    "\n",
    "\n",
    "> **Pregunta:** ¿Será conveniente programar siempre pensando crear código óptimo?"
   ]
  },
  {
   "cell_type": "markdown",
   "id": "689e58f9-908a-4e27-a955-e2c75938cf92",
   "metadata": {
    "tags": []
   },
   "source": [
    "---\n",
    "\n",
    "## Perfilamiento y Referenciación\n",
    "\n",
    " Como directriz general, se recomienda llevar el proceso de desarrollo en dos etapas:\n",
    " \n",
    "1. La primera consiste en **generar código correcto, comprensibles y mantenibles**, evitando la sobre-optimización prematura de código. \n",
    "\n",
    "2. Como segunda etapa, se recomienda comenzar con los procesos de **optimización de código**. Esto pues, las herramientas que permiten mejorar los aspectos computacionales, interfieren en la sencillez del código, entorpeciendo los procesos de depuración y mantención. \n",
    "\n",
    "Una vez que las rutinas están implementadas de manera correcta, la mejor manera de enfocar los esfuerzos, pasa por **perfilar** (*profiling*) el código. Esto consiste en encontrar las zonas de código criticas en cuanto a carga computacional. La manera más directa de encontrar estas zonas, es por medio del uso de contadores de tiempo o *timers*.\n",
    "\n"
   ]
  },
  {
   "cell_type": "markdown",
   "id": "9d191a8c-5ed0-4fc9-9fe3-1b4892a58bdf",
   "metadata": {},
   "source": [
    "### Medición del Tiempo de Ejecución ⏰\n",
    "\n",
    "\n",
    "El tiempo de ejecución es el tiempo tomado por algun segemento de código, función en completar su ejecución.\n",
    "\n",
    "En Python, la forma más sencilla de medir el tiempo de ejecución es a través de la librería `time`. El ejemplo siguiente muestra como utilizarla."
   ]
  },
  {
   "cell_type": "code",
   "execution_count": 2,
   "id": "a35b7447-a990-4197-8fa7-0c2bb9152dd2",
   "metadata": {},
   "outputs": [],
   "source": [
    "import time\n",
    "from math import cos, sin"
   ]
  },
  {
   "cell_type": "markdown",
   "id": "8a003de8-30a3-4b8b-b86d-8293c194d9fd",
   "metadata": {},
   "source": [
    "Definimos un rango de datos a operar "
   ]
  },
  {
   "cell_type": "code",
   "execution_count": 3,
   "id": "67d2c25a-eecc-4244-9ba5-5e2777b51694",
   "metadata": {},
   "outputs": [
    {
     "data": {
      "text/plain": [
       "[0.0,\n",
       " 0.1,\n",
       " 0.2,\n",
       " 0.30000000000000004,\n",
       " 0.4,\n",
       " 0.5,\n",
       " 0.6000000000000001,\n",
       " 0.7000000000000001,\n",
       " 0.8,\n",
       " 0.9]"
      ]
     },
     "execution_count": 3,
     "metadata": {},
     "output_type": "execute_result"
    }
   ],
   "source": [
    "x = [0.1 * i for i in range(1000)]\n",
    "\n",
    "x[0:10]  # veamos los datos"
   ]
  },
  {
   "cell_type": "markdown",
   "id": "b3059adb-e2f7-46d0-9cd4-4424e4cadb97",
   "metadata": {},
   "source": [
    "Luego definimos la función que mediremos. Esta simplemente calcula $(\\sin(val) + \\cos(val)^2)^{1/3}$ y luego retorna su valor."
   ]
  },
  {
   "cell_type": "code",
   "execution_count": 4,
   "id": "4e354c4e-441c-4ecc-9a2f-7247d241a297",
   "metadata": {},
   "outputs": [],
   "source": [
    "def func_1(val):\n",
    "    return (sin(val) + cos(val) ** 2)**(1/9)"
   ]
  },
  {
   "cell_type": "markdown",
   "id": "16586457-fcd5-4e8a-95c0-bc78a6a715c4",
   "metadata": {},
   "source": [
    "Ahora, estudiamos el tiempo de ejecución por medio de la función `process_time`."
   ]
  },
  {
   "cell_type": "code",
   "execution_count": 20,
   "id": "3456ca0a-691e-4f45-9cd8-f6a129db64bf",
   "metadata": {},
   "outputs": [
    {
     "name": "stdout",
     "output_type": "stream",
     "text": [
      "Tiempo transcurrido 0.0002670000000000172\n"
     ]
    }
   ],
   "source": [
    "# tiempo inicial\n",
    "t0 = time.process_time()\n",
    "\n",
    "for i in x:\n",
    "    func_1(i)\n",
    "\n",
    "# tiempo final\n",
    "t1 = time.process_time()\n",
    "\n",
    "# el tiempo transcurrido es simplemente el delta entre t1 y t0\n",
    "print(\"Tiempo transcurrido\", t1 - t0)"
   ]
  },
  {
   "cell_type": "markdown",
   "id": "4ab78328",
   "metadata": {},
   "source": [
    "> **Pregunta ❓:** ¿Si ejecutamos nuevamente la celda anterior, obtendremos los mismos tiempos? ¿Existirá alguna forma más consistente de medir el tiempo de ejecución del código?"
   ]
  },
  {
   "cell_type": "markdown",
   "id": "1a3d9ac0-619e-4192-8087-cdec46f9219c",
   "metadata": {},
   "source": [
    "---\n",
    "\n",
    "### `timeit`\n",
    "\n",
    "En algunas ocasiones se desea medir el tiempo de ejecución para tareas sencillas, la librería estándar de Python provee el módulo `timeit`. En la práctica, una llamada de `timeit` ejecuta por defecto 10.000.000 el código, repite 7 veces el experimento y luego reporta el tiempo de ejecución promedio.\n",
    "\n",
    "Este puede ser utilizado directamente en la consola interactiva IPython o en notebooks de Jupyter por medio del comando mágico `%timeit` para el caso de una linea de código y `%%timeit` para medir toda la celda. \n",
    "\n",
    "Documentación de `%timeit`: [Timeit Magic en la documentación de Ipython](https://ipython.readthedocs.io/en/stable/interactive/magics.html#magic-timeit)\n"
   ]
  },
  {
   "cell_type": "markdown",
   "id": "2c6d96a7",
   "metadata": {},
   "source": [
    "\n",
    "**Ejemplo**\n",
    "\n",
    "\n",
    "Medimos la eficiencia de la implementación original de python de `cos`."
   ]
  },
  {
   "cell_type": "code",
   "execution_count": 21,
   "id": "370e475f",
   "metadata": {},
   "outputs": [
    {
     "name": "stdout",
     "output_type": "stream",
     "text": [
      "33.7 ns ± 0.247 ns per loop (mean ± std. dev. of 7 runs, 10000000 loops each)\n"
     ]
    }
   ],
   "source": [
    "%timeit cos(0.5)"
   ]
  },
  {
   "cell_type": "markdown",
   "id": "5a5dc8f9",
   "metadata": {},
   "source": [
    "Y lo comparamos con el tiempo de ejecución promedio para la función coseno de `numpy`."
   ]
  },
  {
   "cell_type": "code",
   "execution_count": 22,
   "id": "7d0f4d8c-9f70-4f45-96ea-d2c3fd55f77b",
   "metadata": {},
   "outputs": [],
   "source": [
    "import numpy as np"
   ]
  },
  {
   "cell_type": "code",
   "execution_count": 23,
   "id": "87ceb756-aad9-49c4-b7f4-e3ee7a6f4c7b",
   "metadata": {},
   "outputs": [
    {
     "name": "stdout",
     "output_type": "stream",
     "text": [
      "491 ns ± 5.13 ns per loop (mean ± std. dev. of 7 runs, 1000000 loops each)\n"
     ]
    }
   ],
   "source": [
    "%timeit np.cos(0.5)"
   ]
  },
  {
   "cell_type": "markdown",
   "id": "60db6786-c35b-4543-b039-cd523e72b60d",
   "metadata": {},
   "source": [
    "> **Ejercicios 🗒️**\n",
    "\n",
    "1. En Pyhton existen 2 maneras para declarar listas, tuplas y diccionarios, una de ellas es la *forma funcional* y viene dada por la función de conversión de tipo de datos, por ejemplo para diccionarios es `dict()`. La otra forma es utilizar *expresiones literales* esto quiere decir declarar listas usando `[]`, tuplas usando `()` y diccionarios / conjuntos usando `{}`. Una de estas dos maneras es más rápida que la otra, utilice `%timeit` para deducir cual. \n",
    "\n",
    "\n",
    "2. ¿Qué operación es más eficiente ?\n",
    "\n",
    "    1. `list(range())`\n",
    "    2. `[*range()]`\n",
    "    \n",
    "    \n",
    "    \n",
    "> **Pregunta ❓:** ¿Se podrá medir el tiempo que toma cada instrucción por separado?"
   ]
  },
  {
   "cell_type": "markdown",
   "id": "26be6122-564f-445c-be30-5b2bd8407b33",
   "metadata": {},
   "source": [
    "---\n",
    "\n",
    "### Perfilador `prun` y Benchmarking"
   ]
  },
  {
   "cell_type": "markdown",
   "id": "7dd63512-d659-4e1d-8456-7208f8cc982b",
   "metadata": {},
   "source": [
    "Un **perfilador**  (*profiler*) es un programa que ejecuta una función y monitorea sus subfunciones, obteniendo métricas de rendimiento como el consumo de tiempo y memoria. \n",
    "\n",
    "Por otra parte, el ***benchmarking*** consiste en medir el rendimiento de ciertos segmentos de código rendimiento antes y después de aplicar técnicas de optimización. Es similar a establecer un baseline de un modelo y luego, optimizarlo y medir el incremento de rendimiento. \n",
    "\n",
    "\n",
    "IPython provee de un perfilador de código dado por la orden `%prun`.\n",
    "\n",
    "**Ejemplo**\n",
    "\n",
    "1. Perfilaremos una función utilizando `%prun`. En primera instancia se define tal función `benchmark_sum` que acumula para cada `i` en `n` los valores de la siguiente forma:\n",
    "\n",
    "Por cada $i$ en $n$:\n",
    "\n",
    "`to_sum =` `[`${\\frac{i}{2}}^n + (i - n)^{\\frac{n}{3}}$ `for i in range(n)]`\n",
    "\n",
    "`sum_ =` $\\sum_{i=0}^{n}$ `to_sum`$_{i}$ \n"
   ]
  },
  {
   "cell_type": "code",
   "execution_count": 24,
   "id": "bb683ee4-bf4e-4a53-b846-358de8483517",
   "metadata": {},
   "outputs": [],
   "source": [
    "def benchmark_sum(n):\n",
    "    \"\"\"Funcion de referencia que suma n elementos transformados\n",
    "    \"\"\"\n",
    "    ac = []\n",
    "\n",
    "    for i in range(n):\n",
    "        to_sum = [(i // 2) ** n + (i - n) ** (n // 3) for i in range(n)]\n",
    "        sum_ = sum(to_sum)\n",
    "        ac.append(sum_)\n",
    "\n",
    "    return ac"
   ]
  },
  {
   "cell_type": "markdown",
   "id": "32409903-2d9c-4737-9dfe-bc61db441c73",
   "metadata": {},
   "source": [
    "Se perfila la función con `%prun`"
   ]
  },
  {
   "cell_type": "code",
   "execution_count": 25,
   "id": "d4dc88d3-f619-4eeb-b62b-2dcbe7fec8df",
   "metadata": {},
   "outputs": [
    {
     "name": "stdout",
     "output_type": "stream",
     "text": [
      " "
     ]
    }
   ],
   "source": [
    "%prun benchmark_sum(500)"
   ]
  },
  {
   "cell_type": "markdown",
   "id": "26a58a7f-db85-4ef7-9211-07342af826b8",
   "metadata": {},
   "source": [
    "EL resultado corresponde las mediciones temporales de cada función involucrada en la ejecución de `benchmark_sum(500)`. En este caso, la mayoria del tiempo se utiliza en la ejecución de la compresión de listas `<listcomp>`. Esto indica que la mejor manera de optimizar el código de `benchmark_sum`pasa por optimizar tal sección del código."
   ]
  },
  {
   "cell_type": "markdown",
   "id": "f91ec74f-e3cb-4cf8-b3c3-cc9842ae6aab",
   "metadata": {},
   "source": [
    "---\n",
    "\n",
    "### `lineprofiler`\n",
    "\n",
    "Con `%lprun` es posible perfilar por linea de código, para ello es necesario instalar el módulo `line_profiler`. \n",
    "\n",
    "**Ejemplo**\n",
    "\n",
    "Se carga la extensión `%lprun` y se prueba con `benchmark_sum`."
   ]
  },
  {
   "cell_type": "code",
   "execution_count": null,
   "id": "371d8730-f054-4d6f-8e20-b0d40bdfe271",
   "metadata": {},
   "outputs": [],
   "source": [
    "!pip install line_profiler"
   ]
  },
  {
   "cell_type": "code",
   "execution_count": 26,
   "id": "31fde02b-4d20-497c-ab7a-5c42ef75150a",
   "metadata": {},
   "outputs": [],
   "source": [
    "%load_ext line_profiler"
   ]
  },
  {
   "cell_type": "markdown",
   "id": "da6f66eb-9c56-4c02-809f-d2e764e84b67",
   "metadata": {},
   "source": [
    "El comando `%lprun` toma como parámetro una orden de Python y su principal argumento. Las funciones que se desean perfilar deben ser especificadas de manera explicita con la orden `-f`. En el caso de `benchmark_sum` esto se haría según el siguiente código"
   ]
  },
  {
   "cell_type": "code",
   "execution_count": 34,
   "id": "11ee3c17-7689-4002-8fb5-f83301fa415e",
   "metadata": {},
   "outputs": [],
   "source": [
    "%lprun -f benchmark_sum benchmark_sum(500)"
   ]
  },
  {
   "cell_type": "markdown",
   "id": "4bce8b4c-7d52-41c6-b363-dbd643a8533a",
   "metadata": {},
   "source": [
    "El resultado es una tabla con el tiempo utilizado en cada linea de las funciones perfiladas, mostrando porcentajes del tiempo consumido en cada paso."
   ]
  },
  {
   "cell_type": "markdown",
   "id": "ea437761-2a17-4dc5-b052-eeaf9ebaf6e1",
   "metadata": {},
   "source": [
    "---\n",
    "\n",
    "### Ejemplo Benchmark Numpy\n",
    "\n",
    "Definimos en la siguiente celda una versión optimizada de la función anterior usando `numpy` y medimos."
   ]
  },
  {
   "cell_type": "code",
   "execution_count": 32,
   "id": "57757b13-1538-487d-9b31-966cc766d289",
   "metadata": {},
   "outputs": [],
   "source": [
    "def benchmark_sum_numpy(n):\n",
    "    \"\"\"Funcion de referencia que suma n elementos transformados\n",
    "    \"\"\"\n",
    "    ac = []\n",
    "\n",
    "    for i in range(n):\n",
    "        to_sum = np.array(\n",
    "            [\n",
    "                (i // 2) ** n + (i - n) ** (n // 3)\n",
    "                for i in np.arange(n, dtype=\"float128\")\n",
    "            ],\n",
    "        )\n",
    "        sum_ = np.sum(to_sum)\n",
    "        ac.append(sum_)\n",
    "\n",
    "    return ac"
   ]
  },
  {
   "cell_type": "code",
   "execution_count": 35,
   "id": "f3d1a29f-7777-4116-b5b9-8b2d51a6d17e",
   "metadata": {},
   "outputs": [],
   "source": [
    "%lprun -f benchmark_sum_numpy benchmark_sum_numpy(500)"
   ]
  },
  {
   "cell_type": "markdown",
   "id": "584ef3f8-e512-4def-98e3-d6fc5d4e9e10",
   "metadata": {},
   "source": [
    "**Ejercicio**\n",
    "\n",
    "1. Los perfiladores `%prun` y `%lprun` tienen en común los argumentos -D, -T y -r utilice el parámetro `?` para investigar estas opciones."
   ]
  },
  {
   "cell_type": "markdown",
   "id": "ef758846-1f85-438b-ba3c-63c201056ca9",
   "metadata": {},
   "source": [
    "---\n",
    "\n",
    "### `memory_profiler`"
   ]
  },
  {
   "cell_type": "markdown",
   "id": "f1374d9b-7b0f-41a3-801e-25aaeb55d5d0",
   "metadata": {},
   "source": [
    "Es posible perfilar uso de memoria, para ello existen los comandos mágicos `%memit` y `%mprun`. Para utilizarlos es necesario instalar el módulo `memory_profiler` y cargarlo mediante\n",
    "\n",
    "```python\n",
    "%load_ext memory_profiler\n",
    "```\n",
    "\n",
    "**Ejemplo**"
   ]
  },
  {
   "cell_type": "code",
   "execution_count": null,
   "id": "751a4b02-76ba-4a44-8edc-a333aa07addd",
   "metadata": {},
   "outputs": [],
   "source": [
    "!pip install memory_profiler"
   ]
  },
  {
   "cell_type": "code",
   "execution_count": 29,
   "id": "0c494ce4-afce-4e5e-9bb5-c4930dbfb675",
   "metadata": {},
   "outputs": [],
   "source": [
    "%load_ext memory_profiler"
   ]
  },
  {
   "cell_type": "markdown",
   "id": "df39b4ca-95ed-4d7e-890b-256ffee0cb5c",
   "metadata": {},
   "source": [
    "En primera instancia perfilamos utilizando la linea mágica `%memit`, la cual es equivalente a `%timeit` pero ofrece medidas sobre el uso de memoria. "
   ]
  },
  {
   "cell_type": "code",
   "execution_count": 30,
   "id": "7b8d356e-d6c5-4b99-acbb-ff73632fe1f0",
   "metadata": {},
   "outputs": [
    {
     "name": "stdout",
     "output_type": "stream",
     "text": [
      "peak memory: 91.16 MiB, increment: 0.48 MiB\n"
     ]
    }
   ],
   "source": [
    "%memit benchmark_sum(500)"
   ]
  },
  {
   "cell_type": "code",
   "execution_count": 33,
   "id": "29edb52b-2ffb-4507-aa59-fea789c62e11",
   "metadata": {},
   "outputs": [
    {
     "name": "stdout",
     "output_type": "stream",
     "text": [
      "peak memory: 92.16 MiB, increment: 0.02 MiB\n"
     ]
    }
   ],
   "source": [
    "%memit benchmark_sum_numpy(500)"
   ]
  },
  {
   "cell_type": "markdown",
   "id": "f6d73a9a-38d0-441d-96db-2461656d5638",
   "metadata": {},
   "source": [
    "Se puede observar un uso de memoria en torno a 90 MB.\n",
    "\n",
    "De manera análoga a `%prun` la librería `memory_profiler` permite utilizar `%mprun`, con la cual se pueden obtener descripciones linea a linea del uso de memoria. El uso de este comando es un poco más restrictivo, pues solo permite medir funciones definidas en módulos (no dentro de un notebook). Para ello, se crea el módulo `memory_demo`. La manera sencilla de hacer esto, es mediante el comando mágico `%%file` este permite crear archivos en el directorio de trabajo actual, utilizando el código dentro de una celda de jupyter. \n",
    "\n",
    "Se procede a generar el módulo que contiene el código de `benchmark_sum` utilizando el comando `%%file`.\n",
    "\n",
    "\n"
   ]
  },
  {
   "cell_type": "code",
   "execution_count": 36,
   "id": "1237e2c9-93cc-412c-b820-4a1190325630",
   "metadata": {},
   "outputs": [
    {
     "name": "stdout",
     "output_type": "stream",
     "text": [
      "Overwriting bench_module.py\n"
     ]
    }
   ],
   "source": [
    "%%file bench_module.py\n",
    "\n",
    "\n",
    "def benchmark_sum(n):\n",
    "    \"\"\"Funcion de referencia que suma n elementos transformados\n",
    "    \"\"\"\n",
    "    ac = []\n",
    "\n",
    "    for i in range(n):\n",
    "        to_sum = [(i // 2) ** n + (i - n) ** (n // 3) for i in range(n)]\n",
    "        sum_ = sum(to_sum)\n",
    "        ac.append(sum_)\n",
    "\n",
    "    return ac"
   ]
  },
  {
   "cell_type": "markdown",
   "id": "1bfd65a1-0810-45d8-bec8-5405ec081887",
   "metadata": {},
   "source": [
    "a continuación, se importa el módulo creado y se perfuila su memoria mediante:"
   ]
  },
  {
   "cell_type": "code",
   "execution_count": 38,
   "id": "f0df729f-7f22-40ec-9c42-59bbf5a9973c",
   "metadata": {},
   "outputs": [
    {
     "name": "stdout",
     "output_type": "stream",
     "text": [
      "*** KeyboardInterrupt exception caught in code being profiled.\n"
     ]
    }
   ],
   "source": [
    "from bench_module import benchmark_sum\n",
    "\n",
    "%mprun -f benchmark_sum benchmark_sum(50000)"
   ]
  },
  {
   "cell_type": "markdown",
   "id": "fdcc9c5c-7a2e-485d-98c4-01d90854b58c",
   "metadata": {},
   "source": [
    "El resultado se muestra en pantalla, obteniendo detalles linea a linea."
   ]
  },
  {
   "cell_type": "markdown",
   "id": "62fbfb97-d0aa-4dbf-a678-e47f3222ab44",
   "metadata": {},
   "source": [
    "---\n",
    "\n",
    "## Optimización del Código Nativo\n",
    "\n",
    "Una de las manera más eficientes de mejorar el rendimiento de aplicaciones es por medio del uso de algoritmos más eficientes en conjunción de estructuras de datos mejor diseñadas. A continuación, se estudian los algoritmos y estructuras de datos presentes de manera nativa en Python que permiten acelerar ciertas rutinas. \n",
    "\n",
    "En términos generales, los algoritmos pueden ser clasificados según su **complejidad computacional**. Esta clasificación se expresa según la notación de **O-grande, que corresponde a una cota superior de las operaciones requeridas para ejecutar una tarea.**\n",
    "\n",
    "Ejemplos: \n",
    "\n",
    "- $O(n)$ requiere ejecutar una operación por cada elemento de un arreglo.\n",
    "- $O(1)$ requiero para acceder a cierta llave de un diccionario. Noten que esto es totalmente independiente del número de datos que tenga el diccionario.\n",
    "\n",
    "**Ejemplo**\n",
    "\n",
    "Se genera un lista, a cada uno de sus elementos se le realiza una operación básica."
   ]
  },
  {
   "cell_type": "code",
   "execution_count": 41,
   "id": "9bcf0cf0",
   "metadata": {},
   "outputs": [
    {
     "data": {
      "text/plain": [
       "[0, 1, 2, 3, 4, 5, 6, 7, 8, 9]"
      ]
     },
     "execution_count": 41,
     "metadata": {},
     "output_type": "execute_result"
    }
   ],
   "source": [
    "lista = list(range(10))\n",
    "lista"
   ]
  },
  {
   "cell_type": "code",
   "execution_count": 42,
   "id": "0c2cd265-800d-4048-8139-bfb6016c01ca",
   "metadata": {},
   "outputs": [],
   "source": [
    "for i in range(len(lista)):\n",
    "    lista[i] += 100"
   ]
  },
  {
   "cell_type": "code",
   "execution_count": 43,
   "id": "f04f3901-d472-4f2c-8d5a-93743c4d44c2",
   "metadata": {},
   "outputs": [
    {
     "data": {
      "text/plain": [
       "[100, 101, 102, 103, 104, 105, 106, 107, 108, 109]"
      ]
     },
     "execution_count": 43,
     "metadata": {},
     "output_type": "execute_result"
    }
   ],
   "source": [
    "lista"
   ]
  },
  {
   "cell_type": "code",
   "execution_count": 46,
   "id": "d16eff0b",
   "metadata": {},
   "outputs": [
    {
     "data": {
      "text/plain": [
       "array([0, 1, 2, 3, 4, 5, 6, 7, 8, 9])"
      ]
     },
     "execution_count": 46,
     "metadata": {},
     "output_type": "execute_result"
    }
   ],
   "source": [
    "lista = np.arange(0,10)\n",
    "lista"
   ]
  },
  {
   "cell_type": "code",
   "execution_count": 47,
   "id": "b59ee0d7",
   "metadata": {},
   "outputs": [
    {
     "data": {
      "text/plain": [
       "array([100, 101, 102, 103, 104, 105, 106, 107, 108, 109])"
      ]
     },
     "execution_count": 47,
     "metadata": {},
     "output_type": "execute_result"
    }
   ],
   "source": [
    "lista + 100"
   ]
  },
  {
   "cell_type": "markdown",
   "id": "f28529ae-adee-4b78-83ca-e36f2fc83f56",
   "metadata": {},
   "source": [
    "En este algoritmo, la operación `lista[i]+=100` es repetida tantas veces como elementos hay en `lista`, que corresponde al tamaño de los datos de entrada. Al observar la que las operaciones realizadas por este algoritmo son proporcionales a la cantidad de elementos de `lista`, se puede decir que su tiempo de ejecución es $O(N)$ donde `N = len(lista)`. "
   ]
  },
  {
   "cell_type": "markdown",
   "id": "ddbca5e9-9df7-40de-909b-e47f3cddc37f",
   "metadata": {},
   "source": [
    "### Optimización de Operaciones con Listas\n",
    "\n",
    "Las listas de Python son **colecciones ordenadas de elementos**, estás se encuentran clasificadas como *arreglos*, que a la vez corresponden a una estructura de datos caracterizada por contener elementos contiguos en bloques de memoria, cada uno de los cuales contienen una referencia a un objeto de Python. La ventaja de las listas recae en la facilidad que entregan par acceder, modificar y agregar elementos. \n",
    "\n",
    "#### Acceder y Modificar\n",
    "\n",
    "Dado que acceder y modificar elementos de una lista corresponde a acceder a espacios de memoria que a priori no dependen de la longitud de la lista, se dice que estas operaciones tienen complejidad $O(1)$. \n",
    "\n",
    "\n",
    "```python\n",
    "[0, 1, 2, 3]\n",
    "#   ↑\n",
    "# acceder y modificar cualquier elemento es tiempo constante O(1)    \n",
    "```\n",
    "\n",
    "#### Agregar al Final\n",
    "\n",
    "Por otra parte, para agregar un elemento a una lista por medio de `.append()`, puede requerirse re-ubicar la memoria del arreglo asociado, operación que toma un tiempo de $O(N)$. Sin embargo, tal operación es muy poco frecuente, pues por lo general se tiene acceso a bloques de memoria contiguos, por tal motivo, se dice que la operación `.append()` tiene un tiempo esperado de ejecución de $O(1)$. \n",
    "\n",
    "```python\n",
    "[0, 1, 2, 3]\n",
    "\n",
    "#si ejemcutamos append(4)\n",
    "\n",
    "[0, 1, 2, 3, 4]\n",
    "#            ↑\n",
    "# agregar por lo general es O(1)    \n",
    "```\n",
    "\n",
    "\n",
    "#### Agregar (`insert`) /Eliminar al inicio\n",
    "\n",
    "Para agregar o eliminar datos al inicio de un arreglo, se requiere hacer una traslación (o *shift*) de los demás elementos por lo que tal operación toma un tiempo de $O(N)$. Para agregar o remover elementos de un arreglo en una posición distinta a la última, se opera de manera análoga. \n",
    "\n",
    "```python\n",
    "[0, 1, 2, 3]\n",
    "\n",
    "#si ejemcutamos insert(0, -1) tendremos que desplazar todo el arreglo a la derecha.\n",
    "\n",
    "[-1, 0, 1, 2, 3]\n",
    "# ↑, →, →, →, →\n",
    "# agregar al inicio implicará desplazar todo. Es decir, O(n)\n",
    "```\n",
    "\n",
    "\n",
    "```python\n",
    "[0, 1, 2, 3]\n",
    "\n",
    "#si ejemcutamos pop(0) tendremos que desplazar todo el arreglo a la izquierda.\n",
    "\n",
    "[ 1, 2, 3]\n",
    "# ←, ←, ←\n",
    "# eliminar al inicio implicará desplazar todo. Es decir, O(n)\n",
    "```\n",
    "\n",
    "\n",
    "\n",
    "**Ejemplo**\n",
    "\n",
    "Se definen listas para estudiar la complejidad de ciertos métodos empíricamente. Se definen los parámetros"
   ]
  },
  {
   "cell_type": "code",
   "execution_count": 48,
   "id": "30c319e4-01e7-4673-9855-1a193c7f5610",
   "metadata": {},
   "outputs": [],
   "source": [
    "n_0, n_1, n_2 = (int(10e5), int(5 * 10e5), int(10e6))"
   ]
  },
  {
   "cell_type": "code",
   "execution_count": 49,
   "id": "c3e797fa-ab19-4ed2-843b-5a15e63cbd52",
   "metadata": {},
   "outputs": [
    {
     "data": {
      "text/plain": [
       "1000000"
      ]
     },
     "execution_count": 49,
     "metadata": {},
     "output_type": "execute_result"
    }
   ],
   "source": [
    "n_0"
   ]
  },
  {
   "cell_type": "code",
   "execution_count": 50,
   "id": "73003a91-ca2c-4316-aa5d-dbc07d59c243",
   "metadata": {},
   "outputs": [
    {
     "data": {
      "text/plain": [
       "5000000"
      ]
     },
     "execution_count": 50,
     "metadata": {},
     "output_type": "execute_result"
    }
   ],
   "source": [
    "n_1"
   ]
  },
  {
   "cell_type": "code",
   "execution_count": 51,
   "id": "16a532ab-f504-4e0c-aeb2-2eaeca971082",
   "metadata": {},
   "outputs": [
    {
     "data": {
      "text/plain": [
       "10000000"
      ]
     },
     "execution_count": 51,
     "metadata": {},
     "output_type": "execute_result"
    }
   ],
   "source": [
    "n_2"
   ]
  },
  {
   "cell_type": "markdown",
   "id": "c1579513-4097-4878-bd9f-cfbe455de6e8",
   "metadata": {},
   "source": [
    "Se generan una funciones de referencia"
   ]
  },
  {
   "cell_type": "code",
   "execution_count": 52,
   "id": "68909d04-0d45-41c6-abf7-364ec9e6f831",
   "metadata": {},
   "outputs": [],
   "source": [
    "def copy_objs(obj_0, obj_1, obj_2):\n",
    "    \"\"\"Abstraccion auxiliar para copiar elementos.\"\"\"\n",
    "    return (obj_0.copy(), obj_1.copy(), obj_2.copy())\n",
    "\n",
    "\n",
    "def bench_pop(l_0, l_1, l_2, arg=-1):\n",
    "    \"\"\"Funcion de referncia para eliminacion de elementos.\"\"\"\n",
    "\n",
    "    l_0.pop(arg)\n",
    "    l_1.pop(arg)\n",
    "    l_2.pop(arg)\n",
    "\n",
    "\n",
    "def bench_append(l_0, l_1, l_2, arg=1):\n",
    "    \"\"\"Funcion de referencia para insertar 1 con append.\"\"\"\n",
    "\n",
    "    l_0.append(arg)\n",
    "    l_1.append(arg)\n",
    "    l_2.append(arg)\n",
    "\n",
    "\n",
    "def bench_insert(l_0, l_1, l_2, args=(0, 1)):\n",
    "    \"\"\"Funcion de referncia para insertar 1 con insert.\"\"\"\n",
    "\n",
    "    l_0.insert(*args)\n",
    "    l_1.insert(*args)\n",
    "    l_2.insert(*args)"
   ]
  },
  {
   "cell_type": "markdown",
   "id": "5a476deb-997c-4970-b03d-96422c2778ae",
   "metadata": {},
   "source": [
    "Se construye el test "
   ]
  },
  {
   "cell_type": "code",
   "execution_count": 53,
   "id": "694eb0d6-6216-4d25-aa09-2abe682cb16b",
   "metadata": {},
   "outputs": [],
   "source": [
    "lista_0, lista_1, lista_2 = (list(range(n_0)), list(range(n_1)), list(range(n_2)))"
   ]
  },
  {
   "cell_type": "code",
   "execution_count": 54,
   "id": "798fdfcd-aeb0-4607-a870-7cf9c81ec6da",
   "metadata": {},
   "outputs": [
    {
     "data": {
      "text/plain": [
       "1000000"
      ]
     },
     "execution_count": 54,
     "metadata": {},
     "output_type": "execute_result"
    }
   ],
   "source": [
    "len(lista_0)"
   ]
  },
  {
   "cell_type": "code",
   "execution_count": 55,
   "id": "2872ec4e-14cc-4d7c-ba34-8c58de6f98c3",
   "metadata": {},
   "outputs": [
    {
     "data": {
      "text/plain": [
       "5000000"
      ]
     },
     "execution_count": 55,
     "metadata": {},
     "output_type": "execute_result"
    }
   ],
   "source": [
    "len(lista_1)"
   ]
  },
  {
   "cell_type": "code",
   "execution_count": 56,
   "id": "7994a1fd-76a2-4df3-9004-a2e6574abc6c",
   "metadata": {},
   "outputs": [
    {
     "data": {
      "text/plain": [
       "10000000"
      ]
     },
     "execution_count": 56,
     "metadata": {},
     "output_type": "execute_result"
    }
   ],
   "source": [
    "len(lista_2)"
   ]
  },
  {
   "cell_type": "markdown",
   "id": "5bbb9444-cda5-4286-b019-0576e1343b15",
   "metadata": {},
   "source": [
    "#### Eliminar el ultimo elemento"
   ]
  },
  {
   "cell_type": "code",
   "execution_count": 57,
   "id": "673f07d8-b445-4b2f-b224-641ec999328b",
   "metadata": {},
   "outputs": [],
   "source": [
    "l_0, l_1, l_2 = copy_objs(lista_0, lista_1, lista_2)\n",
    "\n",
    "# Se observa un tiempo constante\n",
    "%lprun -f bench_pop bench_pop(l_0,l_1,l_2)"
   ]
  },
  {
   "cell_type": "markdown",
   "id": "167115bb-8271-4e5f-8115-f1a0965661c0",
   "metadata": {},
   "source": [
    "#### Eliminar el primer elemento"
   ]
  },
  {
   "cell_type": "code",
   "execution_count": 58,
   "id": "adeab72e-4fe6-4dd4-8577-c12013faff7d",
   "metadata": {},
   "outputs": [],
   "source": [
    "l_0, l_1, l_2 = copy_objs(lista_0, lista_1, lista_2)\n",
    "\n",
    "# Se observa un tiempo lineal\n",
    "%lprun -f bench_pop bench_pop(l_0,l_1,l_2,0)"
   ]
  },
  {
   "cell_type": "markdown",
   "id": "a36a5f39-3c52-4b43-b4a9-d00c4035d4d1",
   "metadata": {},
   "source": [
    "#### Insertar 1 en la ultima posicion"
   ]
  },
  {
   "cell_type": "code",
   "execution_count": 59,
   "id": "06d98428-da2f-4643-86d6-72896eff3da5",
   "metadata": {},
   "outputs": [],
   "source": [
    "l_0, l_1, l_2 = copy_objs(lista_0, lista_1, lista_2)\n",
    "\n",
    "# Se observa un tiempo constante (casi seguramente)\n",
    "%lprun -f  bench_append bench_append(l_0,l_1,l_2)"
   ]
  },
  {
   "cell_type": "markdown",
   "id": "49699725-ee62-4757-9cb6-a9802918ce9c",
   "metadata": {},
   "source": [
    "#### Insertar 1 en la primera posicion"
   ]
  },
  {
   "cell_type": "code",
   "execution_count": 60,
   "id": "e313a830-95c3-4764-80ff-0732777056a2",
   "metadata": {},
   "outputs": [],
   "source": [
    "l_0, l_1, l_2 = copy_objs(lista_0, lista_1, lista_2)\n",
    "\n",
    "# Se observa un tiempo lineal\n",
    "%lprun -f bench_insert bench_insert(l_0,l_1,l_2)"
   ]
  },
  {
   "cell_type": "markdown",
   "id": "52a2b482-2604-454c-a3cf-beafd08aa438",
   "metadata": {},
   "source": [
    "---\n",
    "\n",
    "### Double-Ended Queue: `deque` \n",
    "\n",
    "\n",
    "<img src='./resources/deque.png'/>\n",
    "\n",
    "<center>Fuente: <a href='https://medium.com/@rasmussen.matias/fun-with-deques-in-python-31942bcb6321'>Matias Rasmussen en Medium </a>\n",
    "    \n",
    "</center>\n",
    "\n",
    "Para efectuar inserciones de manera eficiente (siempre en tiempo constante) Se puede utilizar la estructura de datos `deque` del módulo `collections`. Estas estructuras se comportan como listas, están diseñadas para acelerar la inserción de objetos y añaden los métodos `.popleft` y `.appendleft`. \n",
    "\n",
    "\n",
    "\n",
    "\n",
    "**Ejemplo**\n",
    "\n",
    "Se compara `.popleft` en *deques* con `.pop(0)` en listas."
   ]
  },
  {
   "cell_type": "code",
   "execution_count": null,
   "id": "c6041c90-b66b-4b85-8161-811cd0e4d62e",
   "metadata": {},
   "outputs": [],
   "source": [
    "from collections import deque\n",
    "\n",
    "\n",
    "def bench_pop_left(d_0, d_1, d_2):\n",
    "    \"\"\"Funcion de referncia para eliminacion de elementos.\"\"\"\n",
    "\n",
    "    d_0.popleft()\n",
    "    d_1.popleft()\n",
    "    d_2.popleft()\n",
    "\n",
    "\n",
    "def bench_append_left(d_0, d_1, d_2, val=1):\n",
    "    \"\"\"Funcion de referncia para insertar 1 con insert.\"\"\"\n",
    "\n",
    "    d_0.appendleft(val)\n",
    "    d_1.appendleft(val)\n",
    "    d_2.appendleft(val)"
   ]
  },
  {
   "cell_type": "markdown",
   "id": "2a984400-5dec-4a63-b8b7-269b6bdfb530",
   "metadata": {},
   "source": [
    "Se definen los objetos sobre los que se trabajará"
   ]
  },
  {
   "cell_type": "code",
   "execution_count": null,
   "id": "e6e7ee35-76be-40ad-9e0f-722d745d7bb9",
   "metadata": {},
   "outputs": [],
   "source": [
    "deque_0, deque_1, deque_2 = tuple(map(deque, [lista_1, lista_1, lista_2]))"
   ]
  },
  {
   "cell_type": "code",
   "execution_count": null,
   "id": "f9fe8a05-8ab4-4571-ae3d-7096effc691c",
   "metadata": {},
   "outputs": [],
   "source": [
    "d_0, d_1, d_2 = copy_objs(deque_0, deque_1, deque_2)\n",
    "\n",
    "# Se observa un tiempo constante\n",
    "%lprun -f bench_pop_left bench_pop_left(d_0, d_1, d_2)"
   ]
  },
  {
   "cell_type": "code",
   "execution_count": null,
   "id": "d0b91f9b-f7a1-453c-8c8d-fb02d5888e0a",
   "metadata": {},
   "outputs": [],
   "source": [
    "%%timeit\n",
    "d_0, d_1, d_2 = copy_objs(deque_0, deque_1, deque_2)"
   ]
  },
  {
   "cell_type": "markdown",
   "id": "4349bf82-0e7e-4bbb-96eb-b06f04009b9c",
   "metadata": {},
   "source": [
    "Copiar objetos de tipo `deque` tiene una carga de aproximadamente 190 ms"
   ]
  },
  {
   "cell_type": "code",
   "execution_count": null,
   "id": "de959879-e2f1-49f8-9efe-f496df97ffa4",
   "metadata": {},
   "outputs": [],
   "source": [
    "%%timeit\n",
    "d_0, d_1, d_2 = copy_objs(deque_0, deque_1, deque_2)\n",
    "bench_pop_left(d_0, d_1, d_2)"
   ]
  },
  {
   "cell_type": "markdown",
   "id": "0c5a8991-c0dd-425d-92da-6b7b90060e1c",
   "metadata": {},
   "source": [
    "Por su parte, aplicar el benchmark `bench_pop_left` tarda en promedio 191 - 190 ms = 1 ms.\n",
    "\n",
    "En cuanto a las listas, la operación de copiar lleva unos 112 ms en promedio"
   ]
  },
  {
   "cell_type": "code",
   "execution_count": null,
   "id": "2a8f4ac7-3ae0-40c0-a6d7-84288946fff7",
   "metadata": {},
   "outputs": [],
   "source": [
    "%%timeit\n",
    "l_0, l_1, l_2 = copy_objs(lista_0, lista_1, lista_2)"
   ]
  },
  {
   "cell_type": "markdown",
   "id": "4dfc80fd-ad85-456a-a0e1-f3c803ca3657",
   "metadata": {},
   "source": [
    "Aplicar el benchmark `bench_pop` en listas lleva un tiempo promedio de 120 ms - 112 ms = 8ms. Por lo que se aprecia un aumento en el rendimiento. Cabe señalar que tal aumento se ve sujeto a una carga mayor en el proceso de copia de objetos, por tal motivo, vale la pena evitar la copia de objetos tipo `deque` y utilizarlos para acceder a lista con una gran cantidad de elementos."
   ]
  },
  {
   "cell_type": "code",
   "execution_count": null,
   "id": "9b9a3390-ad32-44a2-ab9d-76aa1ff303e7",
   "metadata": {},
   "outputs": [],
   "source": [
    "%%timeit\n",
    "l_0, l_1, l_2 = copy_objs(lista_0, lista_1, lista_2)\n",
    "bench_pop(lista_0, lista_1, lista_2, 0)"
   ]
  },
  {
   "cell_type": "markdown",
   "id": "fd3f4ac9-6292-4843-ad67-064c9bf6b9d3",
   "metadata": {},
   "source": [
    "**Ejercicios**\n",
    "\n",
    "1. Repita el proceso de comparación para `.appendleft` en deques  e `.insert()` en listas. \n",
    "\n",
    "2. Cual es la complejidad computacional de acceder a:\n",
    "    1. Primer elemento de un deque / lista\n",
    "    2. Ultimo elemento de un deque / lista\n",
    "    3. Un elemento distinto del último o el primero (ej: el elemento de la mitad de un arreglo).\n",
    "\n",
    "3. El módulo `bisect` permite hacer búsquedas rápidas en arreglos ordenados. la función `bisect.bisect` permite encontrar el índice en cual insertar un elemento, manteniendo el orden del arreglo operado. \n",
    "    1. Genere la lista ordenada 'ordered_list'  de números entre 0 y 10.\n",
    "    2. Elimine el cuarto elemento de la lista, guarde su valor en la variable `dropped`. Se debe hacer en una linea de código. \n",
    "    3. Importe el módulo `bisect` y utilice el comando `bisect.bisect(ordered_list,dropped)`. ¿Qué significa el valor retornado por la función?¿qué operación se efectúa por medio del comando recién aplicado?\n",
    "    4. Haga un código de referencia para comparar las funciones `list.index()` y `bisect.bisect()` por medio de perfilamiento temporal. Para comprobar sus resultados utilice el hecho de que  el tiempo de ejecución para `bisect.bisect` es de $O(\\log(N)$, mientras que el de `list.index()` es de $O(N)$. \n",
    "    5. Estudie la función `bisect.bisect_left`. \n",
    "    "
   ]
  },
  {
   "cell_type": "markdown",
   "id": "169817d8-a1c4-4a65-934d-cac2c4b4fbb9",
   "metadata": {},
   "source": [
    "---\n",
    "\n",
    "### Optimización de Operaciones con Diccionarios\n",
    "\n",
    "La gran flexibilidad de los diccionarios los hacen un objeto central en el uso de Python. Estos son implementaciones de *hash maps*, es decir, son estructuras de datos construidas por medio de asociaciones *llave - valor*, donde a cada llave, se asigna un índice especifico, de tal manera que el valor de tal índice puede ser ordenado en un arreglo. Por tal motivo, los diccionarios son altamente eficientes en procesos de eliminación, acceso e inserción teniendo un tiempo promedio de ejecución de $O(1)$. \n",
    "\n",
    "\n",
    "<div align='center'>\n",
    "    <img src='./resources/hashmap.png' width=500 />\n",
    "    Fuente: <a href='https://techmastertutorial.in/java-collection-internal-hashmap.html'>Java HashMap en techmastertutorial.in</a>\n",
    "              \n",
    "              \n",
    "</div>\n",
    "\n",
    "Para acceder a los índices dados por el *hash map* se puede utilizar la función `hash` de Python, esta opera sobre distintos tipos de datos.\n",
    "\n",
    "\n",
    "\n",
    "\n",
    "**Ejemplo**\n",
    "\n",
    "Se aplica `hash` a diferentes objetos"
   ]
  },
  {
   "cell_type": "code",
   "execution_count": 61,
   "id": "d95c5d8e-a664-4335-a0a2-32bd9c68761e",
   "metadata": {},
   "outputs": [
    {
     "name": "stdout",
     "output_type": "stream",
     "text": [
      "hash string:  -4734775736864783018\n",
      "hash int: 1234\n",
      "hash tuple 1136591782148889888\n"
     ]
    }
   ],
   "source": [
    "print(\"hash string: \", hash(\"MDS7202\"))\n",
    "print(\"hash int:\", hash(1234))\n",
    "print(\"hash tuple\", hash((\"a\", \"b\", \"c\")))"
   ]
  },
  {
   "cell_type": "markdown",
   "id": "c916da63-945b-4f5a-8d65-168effddd7b6",
   "metadata": {},
   "source": [
    "Un objeto puede ser operado por `hash` (*hashable object*) si tiene un método `__hash__` y puede ser comparado por medio de `__eq__` por ejemplo. Si un objeto es *hashable* significa que puede ser utilizado como llave de un diccionario, en general, todos los objetos inmutables de Python son *hashables* mientras que las listas y diccionarios, por ser inmutables, no lo son.  \n",
    "\n"
   ]
  },
  {
   "cell_type": "markdown",
   "id": "0bcd600a-308e-4cef-9b51-607c23469754",
   "metadata": {},
   "source": [
    "#### `defaultdict`"
   ]
  },
  {
   "cell_type": "code",
   "execution_count": null,
   "id": "7eeec3d2-c32b-4299-9874-9f263a0a02ba",
   "metadata": {},
   "outputs": [],
   "source": [
    "from collections import defaultdict"
   ]
  },
  {
   "cell_type": "markdown",
   "id": "73046956-4535-4644-824d-a496beeb1a51",
   "metadata": {},
   "source": [
    "Los objetos `defaultdict` poseen todas las funcionalidades de un diccionario pero añaden el método `.__missing__()` con el cual se proveen valores por defecto, los cuales se asignan a una nueva llave, es decir, permiten inicializar diccionarios entregando solo el valor de la llave (y no su valor asociado), pues a cada llave nueva, se asigna un valor por defecto de manera automática. \n"
   ]
  },
  {
   "cell_type": "code",
   "execution_count": null,
   "id": "d7d48236-af26-4197-83e2-f191c5b33671",
   "metadata": {},
   "outputs": [],
   "source": [
    "# list es el valor por defecto que tendrá cada llave del diccionario,\n",
    "# aunque esta no se haya definido.\n",
    "d = defaultdict(list)\n",
    "d"
   ]
  },
  {
   "cell_type": "code",
   "execution_count": null,
   "id": "b849a7d0-2f22-4876-8edd-6ad78c358c0f",
   "metadata": {},
   "outputs": [],
   "source": [
    "\"hola\" in d"
   ]
  },
  {
   "cell_type": "code",
   "execution_count": null,
   "id": "60971697-dc1f-43d1-b4d0-0ce5ed802931",
   "metadata": {},
   "outputs": [],
   "source": [
    "hash(\"hola\")"
   ]
  },
  {
   "cell_type": "code",
   "execution_count": null,
   "id": "24ba6477-3d00-4798-a310-fde79fd8330b",
   "metadata": {},
   "outputs": [],
   "source": [
    "# esto inicializa la variable hola.\n",
    "d[\"hola\"]"
   ]
  },
  {
   "cell_type": "code",
   "execution_count": null,
   "id": "58de7726-07ff-46fc-907f-0074d95357ba",
   "metadata": {},
   "outputs": [],
   "source": [
    "d[\"hola2\"]"
   ]
  },
  {
   "cell_type": "code",
   "execution_count": null,
   "id": "38168563-cda1-4f97-91cf-6652b65c05ad",
   "metadata": {},
   "outputs": [],
   "source": [
    "\"hola\" in d"
   ]
  },
  {
   "cell_type": "code",
   "execution_count": null,
   "id": "72ee21a7-4ac1-4c44-9e89-d2a02f9d5a5d",
   "metadata": {},
   "outputs": [],
   "source": [
    "# vean como se agregó la llave 'hola' junto a una lista vacía [] al diccionario\n",
    "d"
   ]
  },
  {
   "cell_type": "markdown",
   "id": "68602514-66b9-486d-811c-297980d77fcf",
   "metadata": {},
   "source": [
    "El comportamiento anterior, como vimos anteriormente, no es posible en un diccionario común y corriente:"
   ]
  },
  {
   "cell_type": "code",
   "execution_count": null,
   "id": "d1ddb8a7-99ae-4e1d-aaa6-cf6ecd322934",
   "metadata": {},
   "outputs": [],
   "source": [
    "d2 = {}\n",
    "d2[\"hola\"]"
   ]
  },
  {
   "cell_type": "markdown",
   "id": "633be8c1-1433-4366-8e12-1fe48635b32c",
   "metadata": {},
   "source": [
    "Para perfilar los `defaultdict`, creamos una lista de tuplas (llave-valor) `to_group` las cuales las queremos agrupar y luego ejecutamos %%timeit sobre ellas."
   ]
  },
  {
   "cell_type": "code",
   "execution_count": null,
   "id": "c73d79d7-be3f-4c48-8eeb-6f5df452b198",
   "metadata": {},
   "outputs": [],
   "source": [
    "to_group = [\n",
    "    (\"a\", 1),\n",
    "    (\"b\", 2),\n",
    "    (\"c\", 3),\n",
    "    (\"b\", 4),\n",
    "    (\"d\", 1),\n",
    "]"
   ]
  },
  {
   "cell_type": "markdown",
   "id": "a8703724-07a5-44c2-b3f7-cede23d724df",
   "metadata": {},
   "source": [
    "Esto es lo que quisieramos lograr:\n",
    "\n",
    "```python\n",
    "salida_esperada = [('a', [1]), \n",
    "                   ('b', [2, 4]), \n",
    "                   ('c', [3]), \n",
    "                   ('d', [1])]\n",
    "```\n"
   ]
  },
  {
   "cell_type": "code",
   "execution_count": null,
   "id": "ffbd9301-d53b-4ff9-b24a-f52cb4b10594",
   "metadata": {},
   "outputs": [],
   "source": [
    "D = defaultdict(list)\n",
    "\n",
    "for k, v in to_group:\n",
    "    D[k].append(v)\n",
    "\n",
    "D"
   ]
  },
  {
   "cell_type": "code",
   "execution_count": null,
   "id": "df2b1411-c3a9-4757-8905-3476840a49d3",
   "metadata": {},
   "outputs": [],
   "source": [
    "%%timeit # timeit con %% mide toda la celda.\n",
    "D = defaultdict(list)\n",
    "\n",
    "for k, v in to_group:\n",
    "    D[k].append(v)\n",
    "\n",
    "sorted(D.items())"
   ]
  },
  {
   "cell_type": "markdown",
   "id": "6816fd4b-99be-471c-94c4-cc9f04955368",
   "metadata": {},
   "source": [
    "El código anterior genera las llaves `k`, que por defecto poseen una lista vacía asociada, a cada lista vacía agregan por medio de `append` (tiempo de ejecución constante) el elemento inspeccionado `v`. "
   ]
  },
  {
   "cell_type": "markdown",
   "id": "c5d34920-47db-4d00-93ea-dcbb72e55120",
   "metadata": {},
   "source": [
    "Ahora, comprobemos la eficiencia del diccionario con respecto a una implementación con listas.\n",
    "Para esto, implementamos la misma funcionalidad, pero con  `for` y `append`  y luego perfilamos utilizando `%%timeit`:"
   ]
  },
  {
   "cell_type": "code",
   "execution_count": null,
   "id": "e2dec521-c957-43ab-879a-ace0459a6dc8",
   "metadata": {},
   "outputs": [],
   "source": [
    "%%timeit\n",
    "L = []\n",
    "for elem in to_group:\n",
    "    if len(L) == 0:\n",
    "        L.append((elem[0], [elem[1]]))\n",
    "    else:\n",
    "        c = 0\n",
    "        for l in L:\n",
    "            if l[0] == elem[0]:\n",
    "                l[1].append(elem[1])\n",
    "                c = 1\n",
    "        if c == 0:\n",
    "            L.append((elem[0], [elem[1]]))\n"
   ]
  },
  {
   "cell_type": "markdown",
   "id": "bc4c1b3f-9bb2-475a-918c-d694203bdaab",
   "metadata": {},
   "source": [
    "Con lo anterior apreciamos una ganancia en eficiencia, que tambien se traduce en simpleza."
   ]
  },
  {
   "cell_type": "markdown",
   "id": "18532100-dac8-436b-87be-fd5483a5e5f9",
   "metadata": {},
   "source": [
    "**Ejercicios**\n",
    "\n",
    "Los objetos `defaultdict` permiten además aumentar la eficiencia al momento de contar elementos de un arreglo. Para ver esto, implemente una función que:\n",
    "\n",
    "1. Reciba una *iterable* como argumento.\n",
    "2. Inicalice un objeto `defaultdict` con tipo de dato `int`. ¿Qué valor se asocia por defecto?.\n",
    "3. Recorra cada elemento del iterable, registrando su número de ocurrencias en una llave del objeto `defaultdict` antes inicializado.\n",
    "    "
   ]
  },
  {
   "cell_type": "markdown",
   "id": "383c6aa5-f698-48c4-b093-b1a525f5b027",
   "metadata": {},
   "source": [
    "---\n",
    "\n",
    "### `Counter`\n",
    "\n",
    "El módulo `collections` permite implementar el procedimiento del ejercicio 2 anterior por medio de la clase `Counter`\n"
   ]
  },
  {
   "cell_type": "code",
   "execution_count": null,
   "id": "85847dcd-358a-4336-bfdd-1ec813c56620",
   "metadata": {},
   "outputs": [],
   "source": [
    "from collections import Counter\n",
    "\n",
    "import numpy as np\n",
    "\n",
    "lista = np.random.randint(0, 10, size=100)\n",
    "counts = Counter(lista)\n",
    "\n",
    "sorted(counts.items())"
   ]
  },
  {
   "cell_type": "markdown",
   "id": "6274cfc5-a0e3-4131-a337-9605305eb4c2",
   "metadata": {},
   "source": [
    "**Obs**: El método de counteo por medio de la clase `Counter` tiene un tiempo de ejecución de $O(N)$."
   ]
  },
  {
   "cell_type": "markdown",
   "id": "4e380b9d-bba8-4e22-bacf-e3f07737b7dd",
   "metadata": {},
   "source": [
    "Otra ventaja de los diccionarios es que permiten buscar palabras de manera rápida en una *lista de documentos*. \n",
    "\n",
    "Por ejemplo, *El hombre imaginario*. (aquí asumimos que cada elemento del arreglo es un documento por separado)."
   ]
  },
  {
   "cell_type": "code",
   "execution_count": null,
   "id": "6420e422-9503-4bc8-8a5c-153e3cf19ff8",
   "metadata": {},
   "outputs": [],
   "source": [
    "with open(\"./resources/text.txt\", \"r\") as file:\n",
    "    lines = file.readlines()\n",
    "    lines = [l.rstrip(\" \\n\") for l in lines]\n",
    "\n",
    "lines"
   ]
  },
  {
   "cell_type": "markdown",
   "id": "ada1f639-92b1-47a8-88fe-b3b59fd9563f",
   "metadata": {},
   "source": [
    "Supongamos que queremos buscar la palabra `'imaginario'` en cada documento. Es posible hacer esto recorriendo todo cada vez que ejecutamos la búsqueda según el siguiente código."
   ]
  },
  {
   "cell_type": "code",
   "execution_count": null,
   "id": "bdc00fdd-f399-4f08-8ec1-1a8857455b3d",
   "metadata": {},
   "outputs": [],
   "source": [
    "to_search = \"imaginario\"\n",
    "\n",
    "found = [line for line in lines if to_search in line]\n",
    "found"
   ]
  },
  {
   "cell_type": "code",
   "execution_count": null,
   "id": "34585f5d-72d4-4ec9-99ee-160c488ba810",
   "metadata": {},
   "outputs": [],
   "source": [
    "%timeit found = [line for line in lines if to_search in line]"
   ]
  },
  {
   "cell_type": "markdown",
   "id": "ea2c3a97-27a4-4418-a544-d4c81c555bc0",
   "metadata": {},
   "source": [
    "Se debe considerar que el tiempo de ejecución asociado a consultar por una palabra es $O(N)$. Para mejorar esto, se puede construir un diccionario, donde a cada palabra se asocie un índice, donde este último corresponde al la linea (o documento si se prefiere) al que pertenece. Esto se puede hacer mediante el siguiente código"
   ]
  },
  {
   "cell_type": "code",
   "execution_count": null,
   "id": "41a72e57-c0cf-4340-82f3-f18ae919291c",
   "metadata": {},
   "outputs": [],
   "source": [
    "index = defaultdict(list)\n",
    "\n",
    "for i, line in enumerate(lines):\n",
    "\n",
    "    for word in line.split():\n",
    "        index[word].append(i)"
   ]
  },
  {
   "cell_type": "code",
   "execution_count": null,
   "id": "b5b95924-be85-4594-b792-b7b77d9e23d1",
   "metadata": {},
   "outputs": [],
   "source": [
    "index"
   ]
  },
  {
   "cell_type": "markdown",
   "id": "a28160e1-a70f-4f34-8d7c-0c32e40e1055",
   "metadata": {},
   "source": [
    "En el diccionario generado, hacer búsquedas es de orden $O(1)$, luego para la misma consulta antes hecha se tiene"
   ]
  },
  {
   "cell_type": "code",
   "execution_count": null,
   "id": "f6e60c01-928e-4755-80b1-64ee65cb3a37",
   "metadata": {},
   "outputs": [],
   "source": [
    "%%timeit\n",
    "res = index[to_search]\n",
    "[lines[i] for i in res]"
   ]
  },
  {
   "cell_type": "markdown",
   "id": "04e1471f-234b-4774-8ee6-b6de6d3c26d3",
   "metadata": {},
   "source": [
    "Es decir, un aumento substancial de rendimiento. Cabe mencionar, que este procedimiento solo tiene sentido si se busca hacer una cantidad alta de consultas sobre un arreglo de lineas/documentos, esto pues, el tiempo de preprocesamiento para generar el indexado por diccionario puede ser muy alto."
   ]
  },
  {
   "cell_type": "markdown",
   "id": "13a2a433-1fa5-4c7b-adab-40052ce4b040",
   "metadata": {},
   "source": [
    "---\n",
    "\n",
    "### Optimización de Operaciones con Conjuntos\n",
    "\n",
    "A diferencia de las listas, los conjuntos son colecciones no ordenadas, donde cada elemento debe ser único. La implementación de conjuntos en Python sigue la misma lógica de los diccionarios en cuanto ambos utilizan funciones *hash*. Por tal motivo, en conjuntos se tienen operaciones rápidas para añadir, eliminar y acceder a elementos. (Del orden $O(1)$)."
   ]
  },
  {
   "cell_type": "markdown",
   "id": "997b05f5-7526-4ab5-8048-6524dc5bc3a3",
   "metadata": {},
   "source": [
    "**Ejercicio**\n",
    "\n",
    "Los tiempos de ejecución para los métodos `A.union(B)`, `A.intersection(B)` y `A.difference(B)` son $O(a+b)$, $O(\\min(a,b))$ y $O(a)$, donde $a = |A|$ y $b = |B|$. \n",
    "\n",
    "1. Construya una función de referencia para cada método y utilice un perfilamiento adecuado para comprobar la afirmación anterior de manera empírica. "
   ]
  },
  {
   "cell_type": "markdown",
   "id": "6d5bfacb-a749-4014-9bfe-b8ce6cc57a43",
   "metadata": {},
   "source": [
    "Se puede hacer uso de conjuntos para efectuar consultas rápidas.\n",
    "\n",
    "**Ejemplo**\n",
    "\n",
    "Se utiliza el objeto `index` creado para hacer búsquedas sobre texto. Se consulta sobre los documentos donde las palabras 'imaginario' y 'vive' ocurren simultáneamente, se obtiene un estimado del tiempo de ejecución."
   ]
  },
  {
   "cell_type": "code",
   "execution_count": null,
   "id": "efc39bcc-348d-41c7-942e-0f7930254030",
   "metadata": {},
   "outputs": [],
   "source": [
    "to_search = [\"imaginaria\", \"vive\"]"
   ]
  },
  {
   "cell_type": "code",
   "execution_count": null,
   "id": "d03284cb-5a16-4cb9-a3ae-7f665ee3fbf2",
   "metadata": {},
   "outputs": [],
   "source": [
    "res_0 = [lines[i] for i in index[to_search[0]]]\n",
    "res_1 = [lines[i] for i in index[to_search[1]]]\n",
    "\n",
    "[r for r in res_1 if r in res_0]"
   ]
  },
  {
   "cell_type": "code",
   "execution_count": null,
   "id": "721eeef5-3471-4ad2-b0c0-ce4deb8b7f0c",
   "metadata": {},
   "outputs": [],
   "source": [
    "%%timeit\n",
    "\n",
    "res_0 = [lines[i] for i in index[to_search[0]]]\n",
    "res_1 = [lines[i] for i in index[to_search[1]]]\n",
    "\n",
    "[r for r in res_1 if r in res_0]"
   ]
  },
  {
   "cell_type": "markdown",
   "id": "b8c7c988-e888-4443-aa5e-0a3e2744e063",
   "metadata": {},
   "source": [
    "Se puede modificar la función de indexación para que opere sobre conjuntos."
   ]
  },
  {
   "cell_type": "code",
   "execution_count": null,
   "id": "70f25f57-4147-47f7-8461-ebe3a492e771",
   "metadata": {},
   "outputs": [],
   "source": [
    "index_set = defaultdict(set)\n",
    "\n",
    "for i, line in enumerate(lines):\n",
    "\n",
    "    for word in line.split():\n",
    "        index_set[word].add(i)"
   ]
  },
  {
   "cell_type": "markdown",
   "id": "d29875c7-6b28-41bf-82b9-6af226e42e15",
   "metadata": {},
   "source": [
    "luego se hace la misma búsqueda por medio de"
   ]
  },
  {
   "cell_type": "code",
   "execution_count": null,
   "id": "2fa1b7b4-79a6-477f-a307-a0a9ecd426af",
   "metadata": {},
   "outputs": [],
   "source": [
    "%%timeit\n",
    "index_set[to_search[0]].intersection(index_set[to_search[1]])"
   ]
  },
  {
   "cell_type": "code",
   "execution_count": null,
   "id": "c258c25b-6e41-4478-a189-117f42e57d06",
   "metadata": {},
   "outputs": [],
   "source": [
    "index_set"
   ]
  },
  {
   "cell_type": "markdown",
   "id": "c7a19f3d-ed16-4349-b7b6-f0ea89baabfa",
   "metadata": {},
   "source": [
    "En este apartado se ve un incremento substancial."
   ]
  },
  {
   "cell_type": "markdown",
   "id": "52a1fd6a-bbc8-4d52-b6c1-32b732dfe4cc",
   "metadata": {},
   "source": [
    "---\n",
    "\n",
    "### Optimización con uso de Memoización\n",
    "\n",
    "También se puede mejorar el rendimiento de aplicaciones por medio de un uso eficiente de la memoria, una de las ideas tras esta premisa es la de guardar los resultados de operaciones intensivas en un espacio de memoria llamado *cache*, este espacio puede estar ubicado en memoria (RAM), disco o almacenada de manera remota. El acto de guardar resultados en memoria para luego utilizarlos de manera directa se denomina **memoización**. y es una forma de *chaching* o uso de memorias *cache*.\n",
    "\n",
    "Python ofrece el decorador `@lru_cache` accesible desde la librería base `functools`. Este decorador puede ser utilizado de manera sencilla para guardar resultados en memoria y luego accederlos. \n",
    "\n",
    "**Ejemplo**\n",
    "\n",
    "Se utiliza el decorador `@lru_cache` sobre una función sencilla. En primera instancia se importa el módulo necesario."
   ]
  },
  {
   "cell_type": "code",
   "execution_count": null,
   "id": "96cfd1e5-92ac-4410-bdce-bfc6f8219aef",
   "metadata": {},
   "outputs": [],
   "source": [
    "from functools import lru_cache"
   ]
  },
  {
   "cell_type": "markdown",
   "id": "c66091a6-97bf-47c0-8192-32e754260c64",
   "metadata": {},
   "source": [
    "Se define la función a memoizar y se aplica el decorador"
   ]
  },
  {
   "cell_type": "code",
   "execution_count": null,
   "id": "2397d99b-ebeb-4ed6-af29-c0a17d6aebb2",
   "metadata": {},
   "outputs": [],
   "source": [
    "@lru_cache\n",
    "def simple_func(x, y):\n",
    "    \"\"\"Funcion de prueba para memoizar.\"\"\"\n",
    "\n",
    "    print(\"Obteniendo el resultado...\")\n",
    "\n",
    "    return x ** y + y ** x"
   ]
  },
  {
   "cell_type": "markdown",
   "id": "182fb3f6-7f95-42a1-86be-452e950e290b",
   "metadata": {},
   "source": [
    "Para comprobar el funcionamiento del decorador se llama la función dos veces sobre el mismo argumento."
   ]
  },
  {
   "cell_type": "code",
   "execution_count": null,
   "id": "a4d80caf-d2ed-4faa-a26c-5b4da403564a",
   "metadata": {},
   "outputs": [],
   "source": [
    "args = (2, 5)\n",
    "simple_func(*args)"
   ]
  },
  {
   "cell_type": "markdown",
   "id": "a88d2a48-2988-411c-8259-1137fb7ffbd4",
   "metadata": {},
   "source": [
    "Se repite el procedimiento "
   ]
  },
  {
   "cell_type": "code",
   "execution_count": null,
   "id": "fa8fd47d-63ed-4339-a270-bc75bd6c5717",
   "metadata": {},
   "outputs": [],
   "source": [
    "simple_func(*args)"
   ]
  },
  {
   "cell_type": "markdown",
   "id": "7b960ff1-9f45-40bb-ba9b-d9950c393613",
   "metadata": {},
   "source": [
    "En este último caso se observa que el resultado es obtenido directamente desde la memoria. "
   ]
  },
  {
   "cell_type": "markdown",
   "id": "12716665-4ed9-4c63-a985-a343e3108d32",
   "metadata": {},
   "source": [
    "**Ejercicios**\n",
    "\n",
    "`@lru_cache` es un decorador que acepta argumentos de entrada, permitiendo el uso del `max_size`. Con este parámetro se especifica el tamaño máximo de memoria para el cache asociado a la función. \n",
    "\n",
    "1. Decore la función anterior indicando como parámetro `max_size = 8`.\n",
    "\n",
    "2. ¿Qué ocurre cuando se llena el tamaño maximo y se realizan más cálculos? *Hint*: lru significa *least recently used*.\n",
    "\n",
    "3. Acceda a la información del *cache* por medio del método `.cache_info()` de la función decorada. ¿Qué significa *hit* y *miss* en este contexto?\n"
   ]
  },
  {
   "cell_type": "markdown",
   "id": "f4daecad-0c55-4728-9226-b0c4342a4560",
   "metadata": {},
   "source": [
    "Un ejemplo más avanzado es el de memoizar funciones recursivas\n",
    "\n",
    "**Ejemplo**\n",
    "\n",
    "Se trabaja con la función recursiva `factorial` almacenando sus resultados en *cache*.\n",
    "\n",
    "\n",
    "```python\n",
    "\n",
    "(factorial(5))\n",
    "(5 * factorial(4))\n",
    "(5 * (4 *factorial(3)))\n",
    "(5 * (4 * (3 *factorial(2))))\n",
    "(5 * (4 * (3 * (2 * factorial(1)))))\n",
    "(5 * (4 * (3 * (2 * 1))))\n",
    "(5 * (4 * (3 * 2)))\n",
    "(5 * (4 * 6))\n",
    "(5 * 24)\n",
    "(120)\n",
    "\n",
    "```"
   ]
  },
  {
   "cell_type": "code",
   "execution_count": null,
   "id": "f2bb99fc-ee0f-45e0-8f52-919012cb5a33",
   "metadata": {},
   "outputs": [],
   "source": [
    "def factorial(n):\n",
    "    if n == 1:\n",
    "        return 1\n",
    "    else:\n",
    "        return n * factorial(n - 1)"
   ]
  },
  {
   "cell_type": "markdown",
   "id": "41cf8b32-dd6d-4188-adca-a733359d913b",
   "metadata": {},
   "source": [
    "Se mide el tiempo de ejecución para `n=1000`."
   ]
  },
  {
   "cell_type": "code",
   "execution_count": null,
   "id": "e744269f-5838-4e5f-8e41-5d20d300c05d",
   "metadata": {},
   "outputs": [],
   "source": [
    "%%timeit\n",
    "factorial(1000)"
   ]
  },
  {
   "cell_type": "markdown",
   "id": "f4328c32-8fac-431f-9dc0-d20568f0f929",
   "metadata": {},
   "source": [
    "Se memoiza la función y se repite el experimento"
   ]
  },
  {
   "cell_type": "code",
   "execution_count": null,
   "id": "e93863e9-d4b1-4db8-8955-5131db678bff",
   "metadata": {},
   "outputs": [],
   "source": [
    "@lru_cache(maxsize=1000)\n",
    "def factorial(n):\n",
    "    if n == 1:\n",
    "        return 1\n",
    "    else:\n",
    "        return n * factorial(n - 1)"
   ]
  },
  {
   "cell_type": "code",
   "execution_count": null,
   "id": "8e2c5c28-c50f-4a7d-801f-aa8108908bde",
   "metadata": {},
   "outputs": [],
   "source": [
    "%%timeit\n",
    "factorial(1000)"
   ]
  },
  {
   "cell_type": "markdown",
   "id": "c41c52bb-3359-42bc-a6c1-6f17a62ae884",
   "metadata": {},
   "source": [
    "Con lo que se comprueba la eficiencia del método. "
   ]
  },
  {
   "cell_type": "markdown",
   "id": "a0c8fccf-b501-4e1d-bd2d-54428271be11",
   "metadata": {},
   "source": [
    "**Ejercicios**\n",
    "\n",
    "1. Programe secuencia de Fibonacci, perfile su consumo de tiempo y luego compare con una versión memoizada.\n",
    "\n",
    "2. Instale el módulo `joblib`. Este módulo permite guardar resultados en disco por medio del objeto `Memory`. Utilice el decorador `@memory.cache` para memoizar as funciones anteriores (factorial y fibonacci). Compare los tiempos de ejecución al guardar los resultados en disco vs ram."
   ]
  },
  {
   "cell_type": "markdown",
   "id": "4a150588-3635-4cec-8667-5fb79f5e8a4a",
   "metadata": {},
   "source": [
    "**Obs**: La ventaja de utilizar técnicas de *caching* tienen un costo, este radica en aumentar el consumo de memoria, si esta memoria esta localizada en disco, el acceso puede ser muy lento y el rendimiento puede decaer drásticamente. Antes de usar este tipo de estrategias, se recomienda estudiar la factibilidad, teniendo en cuenta las politicas de almacenamiento y acceso de los resultados y su relación con el rendimiento del programa que se desea implementar."
   ]
  },
  {
   "cell_type": "markdown",
   "id": "afd66b5f-415b-4067-a874-eb7c03d8be68",
   "metadata": {},
   "source": [
    "### Optimización con uso de Compresiones y Generadores\n",
    "\n",
    "Las compresiones de lista están altamente optimizadas en Python y por tanto puede ser utilizadas para reemplazar ciclos `for` en ciertas circunstancias. \n",
    "\n",
    "**Ejemplo**\n",
    "\n",
    "Es posible ganar un mayor rendimiento al utilizar comprensión de listas en vez del ciclo `for` en el siguiente código"
   ]
  },
  {
   "cell_type": "code",
   "execution_count": null,
   "id": "69425519-0242-44ac-9622-6c6231af4d2c",
   "metadata": {
    "tags": []
   },
   "outputs": [],
   "source": [
    "n = int(10e4)\n",
    "\n",
    "\n",
    "def for_loop(n=n):\n",
    "    res = []\n",
    "    for i in range(n):\n",
    "        res.append(i * (i + 1) - i ** 2)\n",
    "\n",
    "    return sum(res) / n"
   ]
  },
  {
   "cell_type": "code",
   "execution_count": null,
   "id": "f8becf05-ae79-4f4d-a7d0-249773b9a06c",
   "metadata": {},
   "outputs": [],
   "source": [
    "for_loop(n)"
   ]
  },
  {
   "cell_type": "markdown",
   "id": "0e7b16e4-38cd-4e0c-9961-ecaf78acb828",
   "metadata": {},
   "source": [
    "Se mide su consumo de tiempo por medio de `%%timeit`"
   ]
  },
  {
   "cell_type": "code",
   "execution_count": null,
   "id": "8d0039d3-2687-4a0c-903a-e0a4c54f6ba1",
   "metadata": {},
   "outputs": [],
   "source": [
    "%%timeit\n",
    "for_loop()"
   ]
  },
  {
   "cell_type": "markdown",
   "id": "3f61d733-3b69-46a2-b7ae-0d95a8d7ff6b",
   "metadata": {},
   "source": [
    "Se implementa la misma función haciendo uso de compresión de listas y de diccionarios."
   ]
  },
  {
   "cell_type": "code",
   "execution_count": null,
   "id": "7778b9cd-a531-4072-a3eb-134e52d19bba",
   "metadata": {},
   "outputs": [],
   "source": [
    "def list_comp(n=n):\n",
    "    return sum([i * (i + 1) - i ** 2 for i in range(n)]) / n\n",
    "\n",
    "\n",
    "def dic_comp(n=n):\n",
    "    return sum({i: i * (i + 1) - i ** 2 for i in range(n)}) / n"
   ]
  },
  {
   "cell_type": "code",
   "execution_count": null,
   "id": "cb4655a5-86ae-44e9-b160-03973cb3a50d",
   "metadata": {},
   "outputs": [],
   "source": [
    "%%timeit\n",
    "list_comp()"
   ]
  },
  {
   "cell_type": "code",
   "execution_count": null,
   "id": "d4ab32cf-3ffb-41ec-b4ba-fb14ba3ccdb2",
   "metadata": {},
   "outputs": [],
   "source": [
    "%%timeit\n",
    "dic_comp()"
   ]
  },
  {
   "cell_type": "markdown",
   "id": "68a9856d-93e6-42ea-9062-db006573db8a",
   "metadata": {},
   "source": [
    "En el caso de compresión de listas vemos una mejoría, por su parte, en compresión de diccionarios, podemos esperar que operaciones de reducción sean más lentas pues se hace uso de llaves. \n",
    "\n",
    "En términos de memoria, cada compresión de listas (o diccionarios) ocupa un nuevo espacio, lo cual aumenta el uso de memoria. Para atacar este problema, se puede hacer uso de **generadores**. \n",
    "\n",
    "\n"
   ]
  },
  {
   "cell_type": "markdown",
   "id": "d4c4a8b2-8fc2-485d-a902-971a92eb2f51",
   "metadata": {},
   "source": [
    "#### Generadores\n",
    "\n",
    "Un generador es un iterable que guarda que posee memoria solo de su estado actual y una regla de cambio para el estado siguiente. \n",
    "\n",
    "##### `map`\n",
    "\n",
    "Ejemplo: Ya hemos usado bastante la función `map`, la cual, es en verdad un generador."
   ]
  },
  {
   "cell_type": "code",
   "execution_count": 62,
   "id": "c092f319-4f63-48cc-bc19-a0d70bccaa6e",
   "metadata": {},
   "outputs": [
    {
     "data": {
      "text/plain": [
       "<map at 0x7f2fc00adac0>"
      ]
     },
     "execution_count": 62,
     "metadata": {},
     "output_type": "execute_result"
    }
   ],
   "source": [
    "m = map(lambda x: x * 10, range(0,10))\n",
    "m"
   ]
  },
  {
   "cell_type": "code",
   "execution_count": 63,
   "id": "fd008410-47f0-439d-a8f9-d7e79b814b8c",
   "metadata": {},
   "outputs": [
    {
     "data": {
      "text/plain": [
       "0"
      ]
     },
     "execution_count": 63,
     "metadata": {},
     "output_type": "execute_result"
    }
   ],
   "source": [
    "next(m)"
   ]
  },
  {
   "cell_type": "code",
   "execution_count": 64,
   "id": "84ac864a-1302-4bd5-b8dc-ca0a17127028",
   "metadata": {},
   "outputs": [
    {
     "data": {
      "text/plain": [
       "10"
      ]
     },
     "execution_count": 64,
     "metadata": {},
     "output_type": "execute_result"
    }
   ],
   "source": [
    "next(m)"
   ]
  },
  {
   "cell_type": "code",
   "execution_count": 65,
   "id": "d247c1c8-d727-4282-a709-ae6cfff6ddee",
   "metadata": {},
   "outputs": [
    {
     "data": {
      "text/plain": [
       "20"
      ]
     },
     "execution_count": 65,
     "metadata": {},
     "output_type": "execute_result"
    }
   ],
   "source": [
    "next(m)"
   ]
  },
  {
   "cell_type": "code",
   "execution_count": 73,
   "id": "57176a84",
   "metadata": {},
   "outputs": [
    {
     "ename": "StopIteration",
     "evalue": "",
     "output_type": "error",
     "traceback": [
      "\u001b[0;31m---------------------------------------------------------------------------\u001b[0m",
      "\u001b[0;31mStopIteration\u001b[0m                             Traceback (most recent call last)",
      "\u001b[0;32m/tmp/ipykernel_1167/1080171644.py\u001b[0m in \u001b[0;36m<module>\u001b[0;34m\u001b[0m\n\u001b[0;32m----> 1\u001b[0;31m \u001b[0mnext\u001b[0m\u001b[0;34m(\u001b[0m\u001b[0mm\u001b[0m\u001b[0;34m)\u001b[0m\u001b[0;34m\u001b[0m\u001b[0;34m\u001b[0m\u001b[0m\n\u001b[0m",
      "\u001b[0;31mStopIteration\u001b[0m: "
     ]
    }
   ],
   "source": [
    "next(m)"
   ]
  },
  {
   "cell_type": "code",
   "execution_count": 74,
   "id": "f1a43195-f3f5-4399-af0c-d6cb0972c100",
   "metadata": {},
   "outputs": [
    {
     "data": {
      "text/plain": [
       "<map at 0x7f2fc00adac0>"
      ]
     },
     "execution_count": 74,
     "metadata": {},
     "output_type": "execute_result"
    }
   ],
   "source": [
    "m"
   ]
  },
  {
   "cell_type": "markdown",
   "id": "969b049c-29d4-40fa-b7eb-9c16eecf6209",
   "metadata": {},
   "source": [
    "##### `filter`\n",
    "\n",
    "Por otro lado, también hemos usado `filter`, el cual, cumple la misma propiedad que vimos en map"
   ]
  },
  {
   "cell_type": "code",
   "execution_count": null,
   "id": "0c299f87-7190-4910-8307-f6cc2a5b40a6",
   "metadata": {},
   "outputs": [],
   "source": [
    "f = filter(lambda x: x % 2 == 0, range(10))\n",
    "f"
   ]
  },
  {
   "cell_type": "code",
   "execution_count": null,
   "id": "cca03fd8-06d1-413c-bd69-68fdc2b27bb6",
   "metadata": {},
   "outputs": [],
   "source": [
    "next(f)"
   ]
  },
  {
   "cell_type": "code",
   "execution_count": null,
   "id": "6053ea73-48a4-4a66-a5e2-27640887c0ce",
   "metadata": {},
   "outputs": [],
   "source": [
    "next(f)"
   ]
  },
  {
   "cell_type": "code",
   "execution_count": null,
   "id": "3158f2cb-be26-4a01-9975-bbd27676371f",
   "metadata": {},
   "outputs": [],
   "source": [
    "next(f)"
   ]
  },
  {
   "cell_type": "code",
   "execution_count": null,
   "id": "8aec1614-7c26-4863-9950-94bc0f24314a",
   "metadata": {},
   "outputs": [],
   "source": [
    "next(f)"
   ]
  },
  {
   "cell_type": "code",
   "execution_count": null,
   "id": "9fe344d8-0b2c-499a-80da-ebcbc94fdb4f",
   "metadata": {},
   "outputs": [],
   "source": [
    "next(f)"
   ]
  },
  {
   "cell_type": "markdown",
   "id": "cf2a7c78-f15a-4d02-b0b2-56cbfc37d3d4",
   "metadata": {},
   "source": [
    "Noten que cuando ya no quedan más elementos, se lanza una excepción."
   ]
  },
  {
   "cell_type": "code",
   "execution_count": null,
   "id": "0f7d260c-8b73-4b8d-84ea-e08519ef24d7",
   "metadata": {},
   "outputs": [],
   "source": [
    "next(f)"
   ]
  },
  {
   "cell_type": "markdown",
   "id": "79a45ff3-3a32-4fe4-b36a-e81bc550568e",
   "metadata": {},
   "source": [
    "**Ejemplo**\n",
    "\n",
    "La función `map` toma como argumentos una función y un iterator, el resultado de su aplicación es un generador. Para estudiar el comportamiento de este tipo de objetos se construyen dos funciones y se perfilan ...\n",
    "\n"
   ]
  },
  {
   "cell_type": "code",
   "execution_count": null,
   "id": "f3f2fe3e-a7e0-4a55-b0d0-d39cca34afa6",
   "metadata": {},
   "outputs": [],
   "source": [
    "# %%file bench_module.py -a\n",
    "\n",
    "\n",
    "def list_comp_list(n=int(10e6)):\n",
    "    \"\"\"Concatena operaciones sobre comprensiones de lista\"\"\"\n",
    "\n",
    "    l_1 = [i ** 2 for i in range(n) if i % 2 == 0]\n",
    "    l_2 = [i * (i - 1) for i in l_1]\n",
    "\n",
    "    l_3 = [i // 3 for i in l_2]\n",
    "\n",
    "    return max(l_3) / n ** 2"
   ]
  },
  {
   "cell_type": "markdown",
   "id": "ade83b12-177d-469b-86f7-532568d79f48",
   "metadata": {},
   "source": [
    "se construye la misma función utilizando generadores `map`"
   ]
  },
  {
   "cell_type": "code",
   "execution_count": null,
   "id": "93b7ada4-1df0-4a26-a861-6d32729ab0b5",
   "metadata": {},
   "outputs": [],
   "source": [
    "# %%file bench_module.py -a\n",
    "\n",
    "\n",
    "def list_comp_map(n=int(10e6)):\n",
    "    \"\"\"Concatena operaciones sobre comprensiones de lista\"\"\"\n",
    "\n",
    "    l_1 = map(lambda i: i ** 2, [i for i in range(n) if i % 2 == 0])\n",
    "    l_2 = map(lambda i: i * (i - 1), l_1)\n",
    "\n",
    "    l_3 = map(lambda i: i // 3, l_2)\n",
    "\n",
    "    return max(l_3) / n ** 2"
   ]
  },
  {
   "cell_type": "markdown",
   "id": "e4d2e674-33b5-4148-ad36-664958ce5717",
   "metadata": {},
   "source": [
    "se perfila la memoria utilizada por estas funciones"
   ]
  },
  {
   "cell_type": "code",
   "execution_count": null,
   "id": "11517686-2830-4542-8d9f-ce25f4ca9005",
   "metadata": {},
   "outputs": [],
   "source": [
    "%memit list_comp_list()"
   ]
  },
  {
   "cell_type": "code",
   "execution_count": null,
   "id": "391c6886-f125-40f0-8aed-9681df87fc17",
   "metadata": {},
   "outputs": [],
   "source": [
    "%memit list_comp_map()"
   ]
  },
  {
   "cell_type": "markdown",
   "id": "4a0ac404-e034-4794-b932-e02e2c3e5b26",
   "metadata": {},
   "source": [
    "**Ejercicios**\n",
    "\n",
    "Se pueden entender los objetos generadores con las estructuras ya vistas. El objetivo de estos ejercicios es revisar ciertos aspectos de interés al usar generadores.\n",
    "\n",
    "1. Se puede definir un generador por medio de *compresnsión de generadores* este tipo de comprensión sigue la misma sintaxis que una compresión usua (listas o diccionarios) solo que se utilizan paréntesis normales (como una '*compresion de tuplas*'). Defina un generador por medio de *compresión de generadores*.\n",
    "\n",
    "2. Se pueden definir generadores a partir de funciones, en este caso, el comando `return` debe ser sustituido por `yield`. Este comando permite que el generador definido sea un iterable, el cual solo guarda su estado actual de ejecución y posee una *regla de transición* dada por el cuerpo de la función. Implemente un generador de secuencias inifinitas. Para ello:\n",
    "    1. Defina una función `infinite_seq`, que no tiene argumentos de entrada. \n",
    "    2. Defina un acumulador de suma por medio de la variable `sum = 0`.\n",
    "    3. Defina un bloque `while True` dentro de este inserte las ordenes `yield sum` y en la linea siguiente `sum +=1`. \n",
    "    4. Itere sobre su generador utilizando el método `next`. Interprete la función de `yield` en el bloque anterior. "
   ]
  }
 ],
 "metadata": {
  "kernelspec": {
   "display_name": "Python 3 (ipykernel)",
   "language": "python",
   "name": "python3"
  },
  "language_info": {
   "codemirror_mode": {
    "name": "ipython",
    "version": 3
   },
   "file_extension": ".py",
   "mimetype": "text/x-python",
   "name": "python",
   "nbconvert_exporter": "python",
   "pygments_lexer": "ipython3",
   "version": "3.9.7"
  },
  "toc": {
   "base_numbering": 1,
   "nav_menu": {},
   "number_sections": true,
   "sideBar": true,
   "skip_h1_title": true,
   "title_cell": "Table of Contents",
   "title_sidebar": "Contents",
   "toc_cell": false,
   "toc_position": {},
   "toc_section_display": true,
   "toc_window_display": false
  }
 },
 "nbformat": 4,
 "nbformat_minor": 5
}
