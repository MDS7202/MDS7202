{
 "cells": [
  {
   "cell_type": "markdown",
   "metadata": {},
   "source": [
    "# Clase 2 - Jupyter y Git\n",
    "\n",
    "**MDS7202:  Laboratorio de Programación Científica para Ciencia de Datos**\n",
    "\n",
    "Profesor: Pablo Badilla\n",
    "\n",
    "## Objetivos de la clase\n",
    "\n",
    "- Utilizar ambientes de `Conda`.\n",
    "- Explorar entornos de desarrollo.\n",
    "- Familiarizarse con el software de control de versiones `Git` y sus metodologías asociadas.\n",
    "\n",
    "\n",
    "---"
   ]
  },
  {
   "cell_type": "markdown",
   "metadata": {},
   "source": [
    "## Gestores de Paquetes y Ambientes 📦\n",
    "\n",
    "\n",
    "### Ambientes de ejecución\n",
    "\n",
    "Un ambiente es un directorio que contiene una versión específica del intérprete de python (o del interprete/compliador que se esté usando) más una colección definida de librerías.\n",
    "La idea general de los ambientes es que estos sean usados, modificados y gestionados de forma independiente de los otros. Así, un paquete instalado en un ambiente A no será instalado o modificado en todos los otros B,C, D...\n",
    "\n",
    "\n",
    "### Gestores de Ambientes y Paquetes\n",
    "\n",
    "Un gestor de ambientes permite administrar los ambientes (crear, eliminar, etc...), los paquetes instalados en estos. \n",
    "Además, también incluyen herramientas para cambiar entre los ambientes de forma sencilla.\n",
    "\n",
    "\n",
    "> **Pregunta ❓**: ¿Qué ventajas tiene trabajar en ambientes separados?\n"
   ]
  },
  {
   "cell_type": "markdown",
   "metadata": {},
   "source": [
    "## Conda 🐍\n",
    "\n",
    "\n",
    "Gestor de paquetes y ambientes para python. \n",
    "Permite aislar las librerías en ambientes de python definidos con un propósito específico.\n",
    "\n",
    "<div align='center'>\n",
    "\n",
    "<img src=\"./resources/envs.png\" width=500/>\n",
    "    <div>\n",
    "    Fuente: <a href=\"https://angus.readthedocs.io/en/2019/conda_tutorial.html\" >Tutorial de Conda</a>\n",
    "    </div>\n",
    "</div>\n",
    "\n",
    "El bundle por defecto incluye la mayoría de las librerías que usaremos en el curso.\n",
    "Descargar anaconda:\n",
    "\n",
    "https://www.anaconda.com/products/individual"
   ]
  },
  {
   "cell_type": "markdown",
   "metadata": {},
   "source": [
    "### Algunos Comandos Básicos\n",
    "\n",
    "Todos los comandos de conda se deben ejecutar en el terminal en donde tengan instalado `Conda`.\n",
    "\n",
    "- Para crear un ambiente:"
   ]
  },
  {
   "cell_type": "markdown",
   "metadata": {},
   "source": [
    "```bash\n",
    "conda create --name mds7202 python=3.9\n",
    "```"
   ]
  },
  {
   "cell_type": "markdown",
   "metadata": {},
   "source": [
    "- Para activar el ambiente"
   ]
  },
  {
   "cell_type": "markdown",
   "metadata": {},
   "source": [
    "```bash\n",
    "conda activate mds7202\n",
    "```"
   ]
  },
  {
   "cell_type": "markdown",
   "metadata": {},
   "source": [
    "- Para instalar un paquete\n"
   ]
  },
  {
   "cell_type": "markdown",
   "metadata": {},
   "source": [
    "```bash\n",
    "conda install nombre_del_paquete\n",
    "```"
   ]
  },
  {
   "cell_type": "markdown",
   "metadata": {},
   "source": [
    "    Ejemplo: \n",
    "\n",
    "```bash\n",
    "conda install numpy\n",
    "```"
   ]
  },
  {
   "cell_type": "markdown",
   "metadata": {},
   "source": [
    "- Para actualizar una librería en específico:"
   ]
  },
  {
   "cell_type": "markdown",
   "metadata": {},
   "source": [
    "\n",
    "```bash\n",
    "conda update nombre_del_paquete\n",
    "```"
   ]
  },
  {
   "cell_type": "markdown",
   "metadata": {},
   "source": [
    "- Para actualizar todo: \n"
   ]
  },
  {
   "cell_type": "markdown",
   "metadata": {},
   "source": [
    "```bash\n",
    "conda update --all\n",
    "```"
   ]
  },
  {
   "cell_type": "markdown",
   "metadata": {},
   "source": [
    "- Para usar el ambiente por defecto"
   ]
  },
  {
   "cell_type": "markdown",
   "metadata": {},
   "source": [
    "```bash\n",
    "conda deactivate\n",
    "```"
   ]
  },
  {
   "cell_type": "markdown",
   "metadata": {},
   "source": [
    "- Para eliminar el ambiente 😭"
   ]
  },
  {
   "cell_type": "markdown",
   "metadata": {},
   "source": [
    "```bash\n",
    "conda remove --name mds7202 --all\n",
    "```"
   ]
  },
  {
   "cell_type": "markdown",
   "metadata": {},
   "source": [
    "### Torpedos\n",
    "\n",
    "\n",
    "En general, la mayoría de herramientas que usaremos durante el curso tendrán *cheat sheets* torpedos asociados.\n",
    "\n",
    "Por ejemplo, <a href=\"https://docs.conda.io/projects/conda/en/4.6.0/_downloads/52a95608c49671267e40c689e0bc00ca/conda-cheatsheet.pdf\"> este</a> torpedo para conda.\n",
    "\n",
    "<div align=\"center\">\n",
    "    <img src='./resources/conda_cheatsheet.png' width=800/>\n",
    "</div>"
   ]
  },
  {
   "cell_type": "markdown",
   "metadata": {},
   "source": [
    "### Para el Curso\n",
    "\n",
    "1. Instalar anaconda (cliente + paquetes por defecto) o miniconda (es solo el cliente, sin paquetes).\n",
    "2. Luego de haber instaldo conda/miniconda, crear ambiente, instalar paquetes y abrir `jupyter-lab`"
   ]
  },
  {
   "cell_type": "markdown",
   "metadata": {},
   "source": [
    "```bash\n",
    "# en el caso que estén trabajando desde powershell:\n",
    "conda init\n",
    "\n",
    "# crear un ambiente\n",
    "conda create --name mds7202 python=3.9\n",
    "\n",
    "# activar el nuevo ambiente\n",
    "conda activate mds7202\n",
    "\n",
    "# instalar paquetes\n",
    "conda install numpy pandas scikit-learn plotly jupyterlab  jupyterlab_code_formatter black -c conda-forge -y\n",
    "\n",
    "# iniciar jupyter-lab\n",
    "jupyter-lab\n",
    "\n",
    "# para entrar a jupyer-lab, en un navegador acceder a la dirección que les indica la terminal...\n",
    "```"
   ]
  },
  {
   "cell_type": "markdown",
   "metadata": {},
   "source": [
    "Para una siguiente vez ya tendrán todo instalado, por ende solo bastará activar el ambiente y ejecutar jupyter-lab:\n",
    "\n",
    "```\n",
    "conda activate mds7202\n",
    "\n",
    "jupyter-lab\n",
    "```"
   ]
  },
  {
   "cell_type": "markdown",
   "metadata": {},
   "source": [
    "---\n"
   ]
  },
  {
   "cell_type": "markdown",
   "metadata": {},
   "source": [
    "## Control de Versiones con Git 🔃\n",
    "\n",
    "Un **sistema de control de versiones (VCS)** es una herramienta que permite registrar cambios realizados en carpetas y archivos de un proyecto. Con tal registro es posible:\n",
    "\n",
    "- Regresar a un estado anterior para deshacer errores.\n",
    "- Colaborar de manera sincronizada a través de la nube.\n",
    "\n",
    "Al trabajar en equipo, un sistema de control de versiones ayuda a identificar:\n",
    "\n",
    "- Qué cambios fueron hechos.\n",
    "- Quién/nes hicieron los cambios.\n",
    "- Cuándo fueron hechos.\n",
    "\n",
    "**`Git`** es una herramienta de este tipo y es la que usaremos en el curso. Es software libre y lo pueden encontrar en https://git-scm.com/. \n",
    "\n",
    "<div align=\"center\">\n",
    "    <br>\n",
    "<img src=\"./resources/git_logo.png\" alt=\"Git\" width=200/>\n",
    "    <br>\n",
    "</div>"
   ]
  },
  {
   "cell_type": "markdown",
   "metadata": {},
   "source": [
    "> **Pregunta ❓**: ¿Es el control de versiones y git solo para equipos?"
   ]
  },
  {
   "cell_type": "markdown",
   "metadata": {},
   "source": [
    "### Formas de usar `git`\n",
    "\n",
    "Hay dos formas de utilizar git: \n",
    "\n",
    "1. Desde la consola de comandos.\n",
    "2. Desde alguna aplicación con interfaz visual (como [Github desktop](https://desktop.github.com/), [Gitkraken](https://www.gitkraken.com/) o incluso a través de plugins de su editor de código favorito).\n",
    "\n"
   ]
  },
  {
   "cell_type": "markdown",
   "metadata": {
    "ExecuteTime": {
     "end_time": "2021-03-17T12:47:07.420491Z",
     "start_time": "2021-03-17T12:47:07.404863Z"
    }
   },
   "source": [
    "---\n",
    "\n",
    "### Instalación e Inicialización\n",
    "\n",
    "La instalación de `git` la pueden hacer a través de:\n",
    "\n",
    "- Windows: Instalador que encuentran en la [página oficial](https://git-scm.com/downloads).\n",
    "- MacOS: \n",
    "\n",
    "```bash\n",
    "brew install git\n",
    "```\n",
    "\n",
    "- Linux (ubuntu): \n",
    "\n",
    "```bash\n",
    "sudo apt-get update\n",
    "sudo apt-get install git\n",
    "```\n",
    "\n",
    "\n",
    "Una vez realizada, es necesario configurar la identidad de quien lo va a utilizar.\n",
    "Esto se hace por medio de:\n",
    "    \n",
    "```https://git-scm.com/\n",
    "$ git config --global user.name \"Nombre-Usuario\"\n",
    "$ git config --global user.email mail@ejemplo.xyz\n",
    "```"
   ]
  },
  {
   "cell_type": "markdown",
   "metadata": {},
   "source": [
    "\n",
    "## Repositorio\n",
    "\n",
    "Un repositorio es un conjunto de carpetas y archivos en el que se almacena el código de un proyecto más el historial de cambios de cada archivo. Git administra los registros a través de archivos en una carpeta oculta llamada `.git`.\n",
    "\n",
    "<img src=\"./resources/ejemplo_proyecto.jpg\" alt=\"Ejemplo de repositorio\" style=\"width: 600px;\"/>\n",
    "\n",
    "<center>Un ejemplo de un repositorio típico de un proyecto basado en python (Fuente: https://github.com/fabiommendes/python-boilerplate)</center>\n",
    "\n",
    "\n"
   ]
  },
  {
   "cell_type": "markdown",
   "metadata": {},
   "source": [
    "> **Pregunta ❓**: ¿Cuál es la funcionalidad de Github, Bitbucket, Gitlab, etc...?"
   ]
  },
  {
   "cell_type": "markdown",
   "metadata": {},
   "source": [
    "## Git es Distribuido\n",
    "\n",
    "<div align=\"center\">\n",
    "<img src=\"./resources/git_distributed.png\" alt=\"Git es distribuido\" style=\"width: 600px;\"/>\n",
    "<center>Fuente: https://www.edureka.co/blog/what-is-git/</center>\n",
    "</div>\n",
    "\n",
    "El repositorio central se encuentra en algún servidor (ejemplo: Github, Bitbucket,etc...)\n",
    "\n",
    "Cada programador mantiene una copia del repositorio en su computador local. Veremos las consecuencias de esto más adelante.\n",
    "    "
   ]
  },
  {
   "cell_type": "markdown",
   "metadata": {
    "ExecuteTime": {
     "end_time": "2021-03-17T14:13:48.551335Z",
     "start_time": "2021-03-17T14:13:48.535739Z"
    }
   },
   "source": [
    "\n",
    "\n",
    "## Primeros Pasos (`git init` y `git clone`)\n",
    " \n",
    "    \n",
    "- Para inicializar un repositorio desde cero, usamos:\n",
    "\n",
    "```bash\n",
    "git init nombre-del-repo\n",
    "```\n",
    "\n",
    "- Para clonar un repositorio (es decir, copiar un repositorio a tu almacenamiento local desde algún servidor github, gitlab, bitbucket u otro servidor de git):\n",
    "\n",
    "```bash\n",
    "git clone /ruta/al/repo.git\n",
    "```\n",
    "\n",
    "\n",
    "- Para inicializar un repositorio en algún servicio de repositorios remotos, como github.\n",
    "\n",
    "> Visitar la página del servicio."
   ]
  },
  {
   "cell_type": "markdown",
   "metadata": {},
   "source": [
    "### Estado del proyecto\n",
    "\n",
    "> **Nota 📓**: Desde aquí en adelante hablaremos solo de nuestro repositorio local a menos que se indique lo contrario.\n",
    "\n",
    "\n",
    "La idea general de git es ir guardando *snapshots/capturas* (**commits**) en el historial que registran y consolidan los cambios. Esto puede ser visto como un grafo en donde cada nodo es un **commit** o una captura de como se veía el repositorio en ese entonces:\n",
    "\n",
    "<img src=\"./resources/git_basico.png\" alt=\"Git básico\" width=600/>"
   ]
  },
  {
   "cell_type": "markdown",
   "metadata": {},
   "source": [
    "### `git status`\n",
    "\n",
    "\n",
    "Una operación simple de entender es el comando ```status```. Este permite tener una idea del estado actual del repositorio. Este se ejecuta por medio del comando :\n",
    "\n",
    "```bash\n",
    "git status\n",
    "```\n",
    "\n",
    "\n",
    "Al clonar el repositorio, por defecto veremos el último commit. Por ejemplo, para el proyecto [ejemplo_MDS7202](https://github.com/pbadillatorrealba/ejemplo_MDS7202.git) que tiene ya varios archivos:\n",
    "\n",
    "<img src=\"./resources/ejemplo_repo_0.jpg\" alt=\"Ejemplo de un proyecto 2\" width=400/>\n",
    "\n",
    "\n",
    "Al ejecutar `git status`, la consola imprimirá: \n",
    "\n",
    "\n",
    "<img src=\"./resources/git_status_0.jpg\" alt=\"Git status\" width=700/>\n",
    "\n",
    "\n"
   ]
  },
  {
   "cell_type": "markdown",
   "metadata": {},
   "source": [
    "#### Cambios\n",
    "\n",
    "Supongamos que ahora agregamos los archivos `new_class.py` y `test_new_class.py` (recalcados en verde):\n",
    "\n",
    "\n",
    "<img src=\"./resources/ejemplo_repo_2.jpg\" alt=\"Ejemplo de un proyecto 2\" width=400/>\n",
    "\n",
    "\n",
    "Al ejecutar `git status` nos muestra:\n",
    "\n",
    "\n",
    "<img src=\"./resources/git_status_1.jpg\" alt=\"Git status\" width=600/>\n",
    "\n",
    "\n",
    "Como podrás haber visto, `git status` detectó cambios y los indicó en color rojo."
   ]
  },
  {
   "cell_type": "markdown",
   "metadata": {},
   "source": [
    "\n",
    "## Ciclo de Vida de los Archivos 🗄️\n",
    "\n",
    "`Git` permite llevar un registro de los cambios del proyecto por medio de la asignación de ciclos de vida a los archivos.\n",
    "\n",
    "Visto de manera sencilla, se puede decir que en `git` existen 4 tipos de archivos:\n",
    "\n",
    "- no rastreados o `untracked`.\n",
    "- no modificados o `unmodified`.\n",
    "- modificados o `modified`.\n",
    "- listos para ser consilidados o `staged`.\n",
    "\n",
    "Las interacciones son las siguientes:\n",
    "\n",
    "<img src='./resources/lifecycle.png' width=600/>\n",
    "\n",
    "\n"
   ]
  },
  {
   "cell_type": "markdown",
   "metadata": {},
   "source": [
    "### Archivo consolidado\n",
    "\n",
    "Un archivo consolidado o `commited`, es aquel que ha sido modificado y ha sido aprobado para formar parte integra del repositorio y del registro de cambios. \n",
    "\n",
    "> **Pregunta ❓**: ¿Este archivo ya se encuentra en el historial del repositorio?¿Y en el repositorio central?"
   ]
  },
  {
   "cell_type": "markdown",
   "metadata": {},
   "source": [
    "### Staging Area\n",
    "\n",
    "La staging area consiste en el conjunto de archivos modificados que aún no han sido aprobados para formar parte del repositorio ni de su registro de cambios, pero que están a un paso de serlos.\n",
    "\n",
    "\n",
    "Para que un archivo que ha sido modificado (`modified`) pase a ser parte de la staging area, debe estar *marcado* como `staged`. Esto puede ser realizado a través de `git add`:\n",
    "\n",
    "```bash \n",
    "# Caso de un archivo:\n",
    "git add path/to/file.py\n",
    "\n",
    "# Caso de una carpeta:\n",
    "git add path/*\n",
    "\n",
    "# Caso de todos los cambios:\n",
    "git add --all\n",
    "```\n",
    "\n",
    "Si agregamos `src/new_class.py` ahora ejecutamos `git status`, veremos algo como esto:\n",
    "\n",
    "<img src=\"./resources/git_status_2.jpg\" alt=\"Git status\" width=700/>\n",
    "\n",
    "\n",
    "> **Pregunta ❓**: ¿Qué pasa si agrego un archivo al staging area y después lo modifico?\n",
    "\n",
    "- Finalmente un archivo del repositorio puede no ser marcado como tracked, por lo que al modificarse, no pasa a ser parte del área de montaje. Este tipo de archivos de denota como **untracked**. "
   ]
  },
  {
   "cell_type": "markdown",
   "metadata": {},
   "source": [
    "### Commit o Cómo Consolidar Archivos\n",
    "\n",
    "Realizar un commit permite es capturar una instantanea de los archivos `staged` del repositorio y agregarlos a su historial de cambios.\n",
    "\n",
    "Para ello utilizo:\n",
    "\n",
    "```bash\n",
    "git commit\n",
    "```\n",
    "\n",
    "Esto abrira un archivo en su editor de texto prederminado donde deberán dejar un mensaje de que cambios hicimos y porque. \n",
    "\n",
    "Si desean dejar una descripción pequeña de los cambios, simplemente podemos agregar el parámetro `-m`\n",
    "\n",
    "```bash\n",
    "git commit -m \"Mi mensaje aquí\"\n",
    "```\n",
    "\n",
    "Hacer un commit hará que los archivos `staged` pasen a ser `unmodified`.\n",
    "\n",
    "\n",
    "> **Pregunta ❓**: ¿Qué pasa con los archivos `untracked` hago un `commit`?"
   ]
  },
  {
   "cell_type": "markdown",
   "metadata": {},
   "source": [
    "## Comandos útiles\n",
    "\n",
    "#### `git diff`\n",
    "\n",
    "Una herramienta potente en el sistema Git es el comando ```diff```, este permite obtener una visualización con la cual es posible observar las diferencias entre conjuntos de archivos **en el repositorio**.\n",
    "\n",
    "Por ejemplo, al agregar una linea de código al archivo main.py\n",
    "\n",
    "\n",
    "<img src=\"./resources/main_nueva_linea.py.jpg\" alt=\"Git diff\" width=600/>\n",
    "\n",
    "Ejecutar `git diff` mostrará:\n",
    "\n",
    "<img src=\"./resources/git_diff.jpg\" alt=\"Git diff\" width=600/>\n"
   ]
  },
  {
   "cell_type": "markdown",
   "metadata": {},
   "source": [
    "En este caso, ```a``` y ```b``` indican la primera y segunda versión del archivo mostrado. Las lineas con ```-``` indican lineas borradas, mientras que ```+``` indica lineas agregadas. \n",
    "\n",
    "La sección demarcada con ```@@``` contiene coordenadas ```linea inicio, numero de lineas```. \n"
   ]
  },
  {
   "cell_type": "markdown",
   "metadata": {},
   "source": [
    "#### Comparar Entre 2 Commits\n",
    "\n",
    "Para comparar dos commits, se puede usar el operador ```..```\n",
    "\n",
    "\n",
    "```bash\n",
    "git diff hash_1..hash_2\n",
    "```"
   ]
  },
  {
   "cell_type": "markdown",
   "metadata": {},
   "source": [
    "#### `git log`\n",
    "\n",
    "Para observar el rgistro de cambios se utiliza ```git log```, al ejecutar este comando se aprecia la estructura de un commit: este consta de un autor, momento de realización de la modificación y un **hash** identificador del cambio. \n",
    "\n",
    "<img src=\"./resources/git_log.jpg\" alt=\"Git log\" width=600/>\n",
    "\n",
    "Observa que cada commit tiene su propio identificador **hash** (números y letas después de la palabra commit)."
   ]
  },
  {
   "cell_type": "markdown",
   "metadata": {},
   "source": [
    "## Git Ignore"
   ]
  },
  {
   "cell_type": "markdown",
   "metadata": {},
   "source": [
    "En algunos proyectos, como producción de archivos en LaTex, se generan archivos colaterales como logs y pdfs. Es posible ignorar este tipo de archivos en el repositorio. Para ello se genera un archivo ```.gitignore``` en la carpeta raiz listando archivos y carpetas no deseados en cada linea.\n",
    "\n",
    "<img src=\"./resources/ejemplo_gitignore.jpg\" alt=\"Git log\" width=500/>\n",
    "\n"
   ]
  },
  {
   "cell_type": "markdown",
   "metadata": {
    "tags": []
   },
   "source": [
    "## Deshacer Cambios ⬅️\n",
    "\n",
    "#### Eliminar del area de montaje\n",
    "\n",
    "¿Qué ocurre si se agrega accidentalmente un archivo al área de montaje? \n",
    "\n",
    "```bash\n",
    "git reset HEAD\n",
    "```\n",
    "\n",
    "Nota: esto eliminará todos los archivos con cambios que hayan sido agregados al area de montaje.\n",
    "\n",
    "#### Deshacer cambios de un archivo:\n",
    "\n",
    "\n",
    "Si por otra parte, un archivo ```folder/file``` ya fue consolidado y se desean revertir los cambios al commit anterior, es posible usar el comando \n",
    "\n",
    "```bash\n",
    "git checkout -- folder/file\n",
    "```\n"
   ]
  },
  {
   "cell_type": "markdown",
   "metadata": {},
   "source": [
    "Al igual que ```diff```, el comando ```checkout``` puede realizar múltiples funciones. Es posible volver a una versión (commit) anterior de cierto archivo utilizando la sintaxis:\n",
    "\n",
    "```bash\n",
    "git checkout commit-hash folder/file\n",
    "```"
   ]
  },
  {
   "cell_type": "markdown",
   "metadata": {
    "ExecuteTime": {
     "end_time": "2021-03-17T16:30:52.265782Z",
     "start_time": "2021-03-17T16:30:52.234355Z"
    }
   },
   "source": [
    "Y si quieres retornar todos los archivos a un commit anterior, puedes usar:\n",
    "    \n",
    "```bash\n",
    "git checkout commit-hash\n",
    "```"
   ]
  },
  {
   "cell_type": "markdown",
   "metadata": {},
   "source": [
    "## Branches y Colaboración"
   ]
  },
  {
   "cell_type": "markdown",
   "metadata": {},
   "source": [
    "### Branches\n",
    "\n",
    "Una rama o **branch** es un mecanismo que nos permite trabajar en un ambiente independiente del código principal.\n",
    "\n",
    "\n",
    "<img src=\"./resources/branch.png\" alt=\"Branch\" width=500/>\n",
    "\n",
    "<center>Fuente: https://www.atlassian.com/es/git/tutorials/using-branches</center>\n",
    "\n",
    "Al crear una branch, se \"replican\" los elementos de la rama desde donde se originó. Todos los commits que hagamos se harán en la branch que creamos. Luego, podemos juntar los cambios a través de un `merge`.\n",
    "\n",
    "\n",
    "> **Pregunta ❓**: Imagínense que estamos construyendo una app para gestionar pedidos de comida. ¿Qué beneficios nos entrega trabajar con ramas?"
   ]
  },
  {
   "cell_type": "markdown",
   "metadata": {},
   "source": [
    "#### Comandos\n",
    "\n",
    "**Ver las ramas disponibles**\n",
    "\n",
    "\n",
    "```bash\n",
    "git branch\n",
    "```\n",
    "\n",
    "Permite ver las ramas disponibles en el repositorio.\n",
    "\n",
    "**Crear ramas**\n",
    "\n",
    "```bash\n",
    "git branch new-branch\n",
    "``` \n",
    "\n",
    "permite crear una rama con nombre *new-branch*. \n",
    "\n",
    "**Cambiar de ramas**\n",
    "\n",
    "Para cambiar a la nueva rama, hacemos uso de \n",
    "\n",
    "```bash\n",
    "git checkout new-branch\n",
    "```\n",
    "\n",
    "Para cambiar en general a cualquier rama:\n",
    "\n",
    "```bash\n",
    "git checkout <nombre-rama>\n",
    "```\n",
    "\n",
    "Un atajo para crear una nueva rama y acceder inmediatamente es el comando: \n",
    "\n",
    "```bash \n",
    "git checkout -b new-branch\n",
    "```"
   ]
  },
  {
   "cell_type": "markdown",
   "metadata": {},
   "source": [
    "### Merge\n",
    "\n",
    "La gran ventaja de trabajar con ramas viene de unir posteriormente los resultados y registros, esto se denomina **merging**. Para unir dos ramas se utiliza el comando:\n",
    "\n",
    "```bash\n",
    "git merge source_branch destination_branch\n",
    "```\n",
    "\n",
    "<img src=\"./resources/merge.png\" alt=\"Gitflow\" width=600/>\n",
    "\n",
    "<center>Fuente: https://www.atlassian.com/es/git/tutorials/using-branches/git-merge<center/>\n",
    "   \n",
    "    \n",
    "<br>\n",
    "    \n",
    "Usando esta opción, git intentará unir el trabajo de ambas branch de forma automática.    \n",
    "    \n",
    "> **Pregunta ❓**: ¿Qué pasa cuando dos personas trabajan en las mismas lineas de código?"
   ]
  },
  {
   "cell_type": "markdown",
   "metadata": {},
   "source": [
    "### Conflictos 😥\n",
    "\n",
    "Finalmente, es posible que existan colisiones en el trabajo realizado dentro de distintas ramas.\n",
    "Estas ocurren cuando 2 personas trabajan en las mismas lineas de código y luego intentan unir sus cambios. Estas colisiones se denominan **conflictos** .\n",
    "\n",
    "Comunmente uno deberá resolver estos conflictos a mano y luego subir los cambios.\n",
    "\n",
    "En el siguiente ejemplo se muestra que es lo que ocurre cuando git detecta conflicto que no pudo resolver por cuenta propia:"
   ]
  },
  {
   "cell_type": "markdown",
   "metadata": {
    "ExecuteTime": {
     "end_time": "2021-03-17T23:05:45.949593Z",
     "start_time": "2021-03-17T23:05:45.937593Z"
    }
   },
   "source": [
    "<img src=\"./resources/git_conflicto.jpg\" alt=\"Gitflow\" width=750/>\n"
   ]
  },
  {
   "cell_type": "markdown",
   "metadata": {
    "ExecuteTime": {
     "end_time": "2021-03-17T23:08:17.147875Z",
     "start_time": "2021-03-17T23:08:17.136907Z"
    }
   },
   "source": [
    "Al usar un IDE (Entorno de desarrollo integrado) como `vscode`, tenemos cuatro opciones disponibles:\n",
    "    \n",
    "- Conservar los cambios actuales (los que están en la rama que hizo el merge)\n",
    "- Conservar los cambios entrantes (los que vienen en la rama entrante)\n",
    "- Aceptar ambos cambios\n",
    "- Resolver manualmente que conservar y que descartar."
   ]
  },
  {
   "cell_type": "markdown",
   "metadata": {},
   "source": [
    "---\n",
    "\n",
    "## Repositorios Remotos 📡\n",
    "\n",
    "Ya sabemos iniciar repositorios y clonarlos. \n",
    "En el segundo caso, `git` registra el repositorio original del cual se obtuvo un clon, tal repositorio original se denota como **remoto**. Tal información se almacena con un nombre y una dirección (local o url). \n",
    "\n",
    "El comando ```git clone ruta``` permite nombrar el repositorio clonado por medio de ```git clone ruta nombre_clon```. \n"
   ]
  },
  {
   "cell_type": "markdown",
   "metadata": {},
   "source": [
    "La ventaja de este sistema de almacenamiento de rutas remotas, es que permite sincronizar el trabajo tanto en una máquina local, como en colaboraciones por medio de internet. \n",
    "\n",
    "#### Pull\n",
    "\n",
    "La comunicación entre repositorios se hace por medio de intrucciones especiales, una de ellas es ```pull```. \n",
    "\n",
    "```git pull``` permite obtener el registro de cambios de un repositorio remoto, e incluso, una rama de tal repositorio. La sintaxis es:\n",
    "\n",
    "```bash\n",
    "git pull repo_remoto rama\n",
    "```\n",
    "\n",
    "Con este comando, se toma toda la información del repositorio ```repo_remoto``` y se une directamente con el repositorio actual (*merging*)."
   ]
  },
  {
   "cell_type": "markdown",
   "metadata": {},
   "source": [
    "#### Push\n",
    "\n",
    "Por otra parte, es posible enviar cambios a un repositorio remoto, esto se hace por medio de ```git push```. La sintaxis es análoga: \n",
    "\n",
    "```bash\n",
    "git push repo_remoto rama\n",
    "```"
   ]
  },
  {
   "cell_type": "markdown",
   "metadata": {},
   "source": [
    "## Flujo de trabajo de Gitflow 🤝\n",
    " \n",
    " "
   ]
  },
  {
   "cell_type": "markdown",
   "metadata": {},
   "source": [
    "Existen varios tipos de flujos de trabajo usando branch. Uno de ellos es Gitflow.\n",
    "<div align=\"center\">\n",
    "    <img src=\"./resources/gitflow.png\" alt=\"Gitflow\" width=600/>\n",
    "    <div>\n",
    "    Fuente: <a href=\"https://www.atlassian.com/es/git/tutorials/comparing-workflows/gitflow-workflow\">\n",
    "Gitflow Workflow\n",
    "</a>\n",
    "    </div>\n",
    "</div>\n"
   ]
  },
  {
   "cell_type": "markdown",
   "metadata": {
    "ExecuteTime": {
     "end_time": "2021-03-17T17:08:45.600508Z",
     "start_time": "2021-03-17T17:08:45.584885Z"
    }
   },
   "source": [
    "Si tienen dudas o quieren profundizar aún mas en git, pueden visitar:\n",
    "    \n",
    "[https://www.atlassian.com/es/git/tutorials](https://www.atlassian.com/es/git/tutorials)\n",
    "\n",
    "Tiene exelentes tutoriales en español."
   ]
  },
  {
   "cell_type": "markdown",
   "metadata": {},
   "source": [
    "## Trunk Based 🤝"
   ]
  },
  {
   "cell_type": "markdown",
   "metadata": {},
   "source": [
    "<div align=\"center\">\n",
    "<img src=\"./resources/trunk_based.png\">\n",
    "\n",
    "<div>\n",
    "Fuente: <a href='https://dev.to/marianocodes/por-que-trunk-based-development-i5n'> ¿Por qué Trunk-Based Development? </a>\n",
    "</div>\n",
    "</div>"
   ]
  },
  {
   "cell_type": "markdown",
   "metadata": {},
   "source": [
    "### Torpedo Git (por Atlassian)\n",
    "\n",
    "\n",
    "https://wac-cdn.atlassian.com/es/dam/jcr:e7e22f25-bba2-4ef1-a197-53f46b6df4a5/SWTM-2088_Atlassian-Git-Cheatsheet.pdf?cdnVersion=264"
   ]
  }
 ],
 "metadata": {
  "kernelspec": {
   "display_name": "Python 3",
   "language": "python",
   "name": "python3"
  },
  "language_info": {
   "codemirror_mode": {
    "name": "ipython",
    "version": 3
   },
   "file_extension": ".py",
   "mimetype": "text/x-python",
   "name": "python",
   "nbconvert_exporter": "python",
   "pygments_lexer": "ipython3",
   "version": "3.9.7"
  },
  "nbTranslate": {
   "displayLangs": [
    "es",
    "en"
   ],
   "hotkey": "alt-t",
   "langInMainMenu": true,
   "sourceLang": "en",
   "targetLang": "es",
   "useGoogleTranslate": true
  },
  "toc": {
   "base_numbering": 1,
   "nav_menu": {},
   "number_sections": true,
   "sideBar": true,
   "skip_h1_title": false,
   "title_cell": "Table of Contents",
   "title_sidebar": "Contents",
   "toc_cell": false,
   "toc_position": {
    "height": "calc(100% - 180px)",
    "left": "10px",
    "top": "150px",
    "width": "385.2px"
   },
   "toc_section_display": true,
   "toc_window_display": false
  },
  "varInspector": {
   "cols": {
    "lenName": 16,
    "lenType": 16,
    "lenVar": 40
   },
   "kernels_config": {
    "python": {
     "delete_cmd_postfix": "",
     "delete_cmd_prefix": "del ",
     "library": "var_list.py",
     "varRefreshCmd": "print(var_dic_list())"
    },
    "r": {
     "delete_cmd_postfix": ") ",
     "delete_cmd_prefix": "rm(",
     "library": "var_list.r",
     "varRefreshCmd": "cat(var_dic_list()) "
    }
   },
   "types_to_exclude": [
    "module",
    "function",
    "builtin_function_or_method",
    "instance",
    "_Feature"
   ],
   "window_display": false
  }
 },
 "nbformat": 4,
 "nbformat_minor": 4
}
