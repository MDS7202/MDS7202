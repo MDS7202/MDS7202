{
 "cells": [
  {
   "cell_type": "markdown",
   "id": "c1166476-122e-4308-8c51-2c3f9b37ca29",
   "metadata": {},
   "source": [
    "# Clase 6 - Excepciones, Decoradores y Módulos"
   ]
  },
  {
   "cell_type": "markdown",
   "id": "ef7f9f90-0943-4ccf-915f-1a91538d95a6",
   "metadata": {},
   "source": [
    "## Manejo de Excepciones\n"
   ]
  },
  {
   "cell_type": "markdown",
   "id": "d3a0c9db-67a5-4150-b0a7-197c85e125d5",
   "metadata": {},
   "source": [
    "El manejo de excepciones en Python sigue una estructura similar a la de otros lenguajes de programación. Aquí, se hace uso de bloques```try``` seguidos de uno o más bloques ```except```.\n",
    "\n",
    "El contenido del bloque ```try``` se ejecuta en primera instancia y con normalidad, hasta que aparece un error o excepción de cierto tipo (```KeyError``` por ejemplo). En tal punto, se pasa al bloque `except` identificado con el tipo de excepción que se presente. "
   ]
  },
  {
   "cell_type": "markdown",
   "id": "e904777f-cd3e-4084-811e-141f73dc34aa",
   "metadata": {},
   "source": [
    "**Ejemplo**: Recorramos una lista hasta un indice que no existe:\n"
   ]
  },
  {
   "cell_type": "code",
   "execution_count": 9,
   "id": "c74b07ef-0d04-48e9-8c30-a24fd2ea09d4",
   "metadata": {
    "ExecuteTime": {
     "end_time": "2021-03-29T20:15:59.804233Z",
     "start_time": "2021-03-29T20:15:59.788234Z"
    }
   },
   "outputs": [
    {
     "name": "stdout",
     "output_type": "stream",
     "text": [
      "Índice = 0 | Elemento = 1000\n",
      "Índice = 1 | Elemento = 2000\n",
      "Índice = 2 | Elemento = 3000\n",
      "Índice = 3 | Elemento = 4000\n",
      "Índice = 4 | Elemento = 5000\n"
     ]
    },
    {
     "ename": "IndexError",
     "evalue": "list index out of range",
     "output_type": "error",
     "traceback": [
      "\u001b[0;31m---------------------------------------------------------------------------\u001b[0m",
      "\u001b[0;31mIndexError\u001b[0m                                Traceback (most recent call last)",
      "Input \u001b[0;32mIn [9]\u001b[0m, in \u001b[0;36m<cell line: 3>\u001b[0;34m()\u001b[0m\n\u001b[1;32m      1\u001b[0m lista \u001b[38;5;241m=\u001b[39m [\u001b[38;5;241m1000\u001b[39m, \u001b[38;5;241m2000\u001b[39m, \u001b[38;5;241m3000\u001b[39m, \u001b[38;5;241m4000\u001b[39m, \u001b[38;5;241m5000\u001b[39m]\n\u001b[1;32m      3\u001b[0m \u001b[38;5;28;01mfor\u001b[39;00m i \u001b[38;5;129;01min\u001b[39;00m [\u001b[38;5;241m0\u001b[39m, \u001b[38;5;241m1\u001b[39m, \u001b[38;5;241m2\u001b[39m, \u001b[38;5;241m3\u001b[39m, \u001b[38;5;241m4\u001b[39m, \u001b[38;5;241m5\u001b[39m, \u001b[38;5;241m6\u001b[39m, \u001b[38;5;241m7\u001b[39m, \u001b[38;5;241m8\u001b[39m, \u001b[38;5;241m9\u001b[39m]:\n\u001b[0;32m----> 4\u001b[0m     \u001b[38;5;28mprint\u001b[39m(\u001b[38;5;124m'\u001b[39m\u001b[38;5;124mÍndice =\u001b[39m\u001b[38;5;124m'\u001b[39m, i, \u001b[38;5;124m'\u001b[39m\u001b[38;5;124m| Elemento =\u001b[39m\u001b[38;5;124m'\u001b[39m, \u001b[43mlista\u001b[49m\u001b[43m[\u001b[49m\u001b[43mi\u001b[49m\u001b[43m]\u001b[49m)\n\u001b[1;32m      6\u001b[0m \u001b[38;5;28mprint\u001b[39m(\u001b[38;5;124m'\u001b[39m\u001b[38;5;124mEl programa continua\u001b[39m\u001b[38;5;124m'\u001b[39m)\n",
      "\u001b[0;31mIndexError\u001b[0m: list index out of range"
     ]
    }
   ],
   "source": [
    "lista = [1000, 2000, 3000, 4000, 5000]\n",
    "\n",
    "for i in [0, 1, 2, 3, 4, 5, 6, 7, 8, 9]:\n",
    "    print('Índice =', i, '| Elemento =', lista[i])\n",
    "    \n",
    "print('El programa continua')"
   ]
  },
  {
   "cell_type": "code",
   "execution_count": 2,
   "id": "ed1f0094-2c53-4e64-9248-aa13b749748f",
   "metadata": {},
   "outputs": [
    {
     "ename": "NameError",
     "evalue": "name 'variable_que_no_existe' is not defined",
     "output_type": "error",
     "traceback": [
      "\u001b[0;31m---------------------------------------------------------------------------\u001b[0m",
      "\u001b[0;31mNameError\u001b[0m                                 Traceback (most recent call last)",
      "Input \u001b[0;32mIn [2]\u001b[0m, in \u001b[0;36m<cell line: 1>\u001b[0;34m()\u001b[0m\n\u001b[0;32m----> 1\u001b[0m \u001b[43mvariable_que_no_existe\u001b[49m\n",
      "\u001b[0;31mNameError\u001b[0m: name 'variable_que_no_existe' is not defined"
     ]
    }
   ],
   "source": [
    "variable_que_no_existe"
   ]
  },
  {
   "cell_type": "code",
   "execution_count": 3,
   "id": "811d04d8-8830-4185-805b-30e350788e3e",
   "metadata": {},
   "outputs": [
    {
     "ename": "TypeError",
     "evalue": "unsupported operand type(s) for +: 'int' and 'str'",
     "output_type": "error",
     "traceback": [
      "\u001b[0;31m---------------------------------------------------------------------------\u001b[0m",
      "\u001b[0;31mTypeError\u001b[0m                                 Traceback (most recent call last)",
      "Input \u001b[0;32mIn [3]\u001b[0m, in \u001b[0;36m<cell line: 1>\u001b[0;34m()\u001b[0m\n\u001b[0;32m----> 1\u001b[0m \u001b[38;5;241;43m1\u001b[39;49m\u001b[43m \u001b[49m\u001b[38;5;241;43m+\u001b[39;49m\u001b[43m \u001b[49m\u001b[38;5;124;43m'\u001b[39;49m\u001b[38;5;124;43my\u001b[39;49m\u001b[38;5;124;43m'\u001b[39;49m\n",
      "\u001b[0;31mTypeError\u001b[0m: unsupported operand type(s) for +: 'int' and 'str'"
     ]
    }
   ],
   "source": [
    "1 + 'y' "
   ]
  },
  {
   "cell_type": "code",
   "execution_count": 4,
   "id": "5854cf7c-a3df-4494-bbe4-b688d5f490bc",
   "metadata": {},
   "outputs": [
    {
     "ename": "TypeError",
     "evalue": "unsupported operand type(s) for /: 'str' and 'int'",
     "output_type": "error",
     "traceback": [
      "\u001b[0;31m---------------------------------------------------------------------------\u001b[0m",
      "\u001b[0;31mTypeError\u001b[0m                                 Traceback (most recent call last)",
      "Input \u001b[0;32mIn [4]\u001b[0m, in \u001b[0;36m<cell line: 1>\u001b[0;34m()\u001b[0m\n\u001b[0;32m----> 1\u001b[0m \u001b[38;5;124;43m'\u001b[39;49m\u001b[38;5;124;43my\u001b[39;49m\u001b[38;5;124;43m'\u001b[39;49m\u001b[38;5;241;43m/\u001b[39;49m\u001b[38;5;241;43m10\u001b[39;49m\n",
      "\u001b[0;31mTypeError\u001b[0m: unsupported operand type(s) for /: 'str' and 'int'"
     ]
    }
   ],
   "source": [
    "'y'/10"
   ]
  },
  {
   "cell_type": "code",
   "execution_count": 7,
   "id": "7a75a06b-2bdb-441c-aa64-dca401105421",
   "metadata": {},
   "outputs": [
    {
     "ename": "ZeroDivisionError",
     "evalue": "division by zero",
     "output_type": "error",
     "traceback": [
      "\u001b[0;31m---------------------------------------------------------------------------\u001b[0m",
      "\u001b[0;31mZeroDivisionError\u001b[0m                         Traceback (most recent call last)",
      "Input \u001b[0;32mIn [7]\u001b[0m, in \u001b[0;36m<cell line: 1>\u001b[0;34m()\u001b[0m\n\u001b[0;32m----> 1\u001b[0m \u001b[38;5;241;43m1\u001b[39;49m\u001b[38;5;241;43m/\u001b[39;49m\u001b[38;5;241;43m0\u001b[39;49m\n",
      "\u001b[0;31mZeroDivisionError\u001b[0m: division by zero"
     ]
    }
   ],
   "source": [
    "1/0"
   ]
  },
  {
   "cell_type": "code",
   "execution_count": 6,
   "id": "717a1f5a-2f43-4fcb-87cc-47faa00d9579",
   "metadata": {},
   "outputs": [
    {
     "ename": "TypeError",
     "evalue": "a no es string",
     "output_type": "error",
     "traceback": [
      "\u001b[0;31m---------------------------------------------------------------------------\u001b[0m",
      "\u001b[0;31mTypeError\u001b[0m                                 Traceback (most recent call last)",
      "Input \u001b[0;32mIn [6]\u001b[0m, in \u001b[0;36m<cell line: 3>\u001b[0;34m()\u001b[0m\n\u001b[1;32m      1\u001b[0m a \u001b[38;5;241m=\u001b[39m \u001b[38;5;241m1\u001b[39m\n\u001b[1;32m      3\u001b[0m \u001b[38;5;28;01mif\u001b[39;00m \u001b[38;5;129;01mnot\u001b[39;00m \u001b[38;5;28misinstance\u001b[39m(a, \u001b[38;5;28mstr\u001b[39m):\n\u001b[0;32m----> 4\u001b[0m     \u001b[38;5;28;01mraise\u001b[39;00m \u001b[38;5;167;01mTypeError\u001b[39;00m(\u001b[38;5;124m'\u001b[39m\u001b[38;5;124ma no es string\u001b[39m\u001b[38;5;124m'\u001b[39m)\n",
      "\u001b[0;31mTypeError\u001b[0m: a no es string"
     ]
    }
   ],
   "source": [
    "a = 1\n",
    "\n",
    "if not isinstance(a, str):\n",
    "    raise TypeError('a no es string')"
   ]
  },
  {
   "cell_type": "markdown",
   "id": "e9c4af8c-01a2-4d01-acbb-3977fc75e317",
   "metadata": {
    "ExecuteTime": {
     "end_time": "2021-03-29T16:01:10.693958Z",
     "start_time": "2021-03-29T16:01:10.681956Z"
    }
   },
   "source": [
    "En algún punto nos lanza una excepción y detiene la ejecución del programa.\n",
    "\n",
    "Podemos manjear esto a través de la estructura `try-except`:"
   ]
  },
  {
   "cell_type": "code",
   "execution_count": 8,
   "id": "9863ff9b-f6c0-4cbe-a705-93dac2adce24",
   "metadata": {
    "ExecuteTime": {
     "end_time": "2021-03-29T20:15:37.941407Z",
     "start_time": "2021-03-29T20:15:37.930407Z"
    }
   },
   "outputs": [
    {
     "name": "stdout",
     "output_type": "stream",
     "text": [
      "Índice = 0 | Elemento = 1000\n",
      "Índice = 1 | Elemento = 2000\n",
      "Índice = 2 | Elemento = 3000\n",
      "Índice = 3 | Elemento = 4000\n",
      "Índice = 4 | Elemento = 5000\n",
      "Error!, indice 5 fuera de la lista\n",
      "\n",
      "El programa continua\n"
     ]
    }
   ],
   "source": [
    "lista = [1000, 2000, 3000, 4000, 5000]\n",
    "\n",
    "try:\n",
    "    for i in [0, 1, 2, 3, 4, 5, 6, 7, 8, 9]:\n",
    "        print('Índice =', i, '| Elemento =', lista[i])\n",
    "except:\n",
    "    print(f'Error!, indice {i} fuera de la lista\\n')\n",
    "\n",
    "print('El programa continua')"
   ]
  },
  {
   "cell_type": "markdown",
   "id": "ef7abcc4-499a-4f33-9fa3-6327172f2c45",
   "metadata": {
    "ExecuteTime": {
     "end_time": "2021-03-29T16:01:20.679052Z",
     "start_time": "2021-03-29T16:01:20.665010Z"
    }
   },
   "source": [
    "Podemos acceder incluso al error usando `except Exception as e:`"
   ]
  },
  {
   "cell_type": "code",
   "execution_count": 11,
   "id": "747c6cc8-783b-4a22-8f23-9059282ff022",
   "metadata": {
    "ExecuteTime": {
     "end_time": "2021-03-29T20:16:16.240143Z",
     "start_time": "2021-03-29T20:16:16.219143Z"
    }
   },
   "outputs": [
    {
     "name": "stdout",
     "output_type": "stream",
     "text": [
      "1000\n",
      "2000\n",
      "3000\n",
      "4000\n",
      "5000\n",
      "Error! Descripción del error: list index out of range\n",
      "El programa continua\n"
     ]
    }
   ],
   "source": [
    "lista = [1000, 2000, 3000, 4000, 5000]\n",
    "\n",
    "try:\n",
    "    for i in range(10):\n",
    "        print(lista[i])\n",
    "except Exception as e:\n",
    "    print(f'Error! Descripción del error: {e}')\n",
    "\n",
    "print('El programa continua')"
   ]
  },
  {
   "cell_type": "code",
   "execution_count": 12,
   "id": "2c9fd014-b260-4661-be45-2a1b847e830c",
   "metadata": {},
   "outputs": [
    {
     "name": "stdout",
     "output_type": "stream",
     "text": [
      "The Zen of Python, by Tim Peters\n",
      "\n",
      "Beautiful is better than ugly.\n",
      "Explicit is better than implicit.\n",
      "Simple is better than complex.\n",
      "Complex is better than complicated.\n",
      "Flat is better than nested.\n",
      "Sparse is better than dense.\n",
      "Readability counts.\n",
      "Special cases aren't special enough to break the rules.\n",
      "Although practicality beats purity.\n",
      "Errors should never pass silently.\n",
      "Unless explicitly silenced.\n",
      "In the face of ambiguity, refuse the temptation to guess.\n",
      "There should be one-- and preferably only one --obvious way to do it.\n",
      "Although that way may not be obvious at first unless you're Dutch.\n",
      "Now is better than never.\n",
      "Although never is often better than *right* now.\n",
      "If the implementation is hard to explain, it's a bad idea.\n",
      "If the implementation is easy to explain, it may be a good idea.\n",
      "Namespaces are one honking great idea -- let's do more of those!\n"
     ]
    }
   ],
   "source": [
    "import this"
   ]
  },
  {
   "cell_type": "markdown",
   "id": "68693fe7-cb7c-4235-827c-a0afdcb4023e",
   "metadata": {},
   "source": [
    "Sin embargo, no es buena idea dejar pasar los errores sin hacer una acción que los maneje\n",
    "\n",
    "> Errors should never pass silently.\n",
    "> Unless explicitly silenced.\n",
    "\n",
    "Para eso, podemos especificar que hacemos en cada tipo de excepción."
   ]
  },
  {
   "cell_type": "markdown",
   "id": "e17c7d58-7ad6-4203-867a-5bdad43015ee",
   "metadata": {
    "ExecuteTime": {
     "end_time": "2021-03-29T16:01:40.156002Z",
     "start_time": "2021-03-29T16:01:40.145011Z"
    }
   },
   "source": [
    "### Tipos de Excepciones en Python\n",
    "\n",
    "---\n",
    "\n",
    "> **Ejercicio ✏️**\n",
    "\n",
    "Para entender que tipos de excepciones pueden existir en Python:\n",
    "\n",
    "1. Nombre al menos 6 tipos de excepciones en Python. (*hint:https://docs.python.org/3/library/exceptions.html#bltin-exceptions* )\n",
    "2. Genere un código que produzca exepciones del tipo: ```NameError```,```ZeroDivisionError``` y ```TypeError```.\n",
    "\n",
    "---"
   ]
  },
  {
   "cell_type": "code",
   "execution_count": 13,
   "id": "7e27872d-64c7-4f75-8215-c3c95259aa12",
   "metadata": {
    "ExecuteTime": {
     "end_time": "2021-03-29T20:17:00.880474Z",
     "start_time": "2021-03-29T20:17:00.839476Z"
    }
   },
   "outputs": [
    {
     "ename": "NameError",
     "evalue": "name 'f' is not defined",
     "output_type": "error",
     "traceback": [
      "\u001b[0;31m---------------------------------------------------------------------------\u001b[0m",
      "\u001b[0;31mNameError\u001b[0m                                 Traceback (most recent call last)",
      "Input \u001b[0;32mIn [13]\u001b[0m, in \u001b[0;36m<cell line: 1>\u001b[0;34m()\u001b[0m\n\u001b[0;32m----> 1\u001b[0m \u001b[43mf\u001b[49m\n",
      "\u001b[0;31mNameError\u001b[0m: name 'f' is not defined"
     ]
    }
   ],
   "source": [
    "f"
   ]
  },
  {
   "cell_type": "code",
   "execution_count": 14,
   "id": "42a24b9f-6587-42b0-a304-53c49ea51073",
   "metadata": {
    "ExecuteTime": {
     "end_time": "2021-03-29T20:16:55.570952Z",
     "start_time": "2021-03-29T20:16:55.553923Z"
    }
   },
   "outputs": [
    {
     "ename": "ZeroDivisionError",
     "evalue": "division by zero",
     "output_type": "error",
     "traceback": [
      "\u001b[0;31m---------------------------------------------------------------------------\u001b[0m",
      "\u001b[0;31mZeroDivisionError\u001b[0m                         Traceback (most recent call last)",
      "Input \u001b[0;32mIn [14]\u001b[0m, in \u001b[0;36m<cell line: 1>\u001b[0;34m()\u001b[0m\n\u001b[0;32m----> 1\u001b[0m \u001b[38;5;241;43m1\u001b[39;49m\u001b[38;5;241;43m/\u001b[39;49m\u001b[38;5;241;43m0\u001b[39;49m\n",
      "\u001b[0;31mZeroDivisionError\u001b[0m: division by zero"
     ]
    }
   ],
   "source": [
    "1/0"
   ]
  },
  {
   "cell_type": "code",
   "execution_count": 15,
   "id": "6028f84e-7f4f-4d48-8c03-555b72277595",
   "metadata": {
    "ExecuteTime": {
     "end_time": "2021-03-29T20:17:23.294111Z",
     "start_time": "2021-03-29T20:17:23.277112Z"
    }
   },
   "outputs": [
    {
     "ename": "TypeError",
     "evalue": "list indices must be integers or slices, not str",
     "output_type": "error",
     "traceback": [
      "\u001b[0;31m---------------------------------------------------------------------------\u001b[0m",
      "\u001b[0;31mTypeError\u001b[0m                                 Traceback (most recent call last)",
      "Input \u001b[0;32mIn [15]\u001b[0m, in \u001b[0;36m<cell line: 1>\u001b[0;34m()\u001b[0m\n\u001b[0;32m----> 1\u001b[0m \u001b[43mlista\u001b[49m\u001b[43m[\u001b[49m\u001b[38;5;124;43m'\u001b[39;49m\u001b[38;5;124;43mhola\u001b[39;49m\u001b[38;5;124;43m'\u001b[39;49m\u001b[43m]\u001b[49m\n",
      "\u001b[0;31mTypeError\u001b[0m: list indices must be integers or slices, not str"
     ]
    }
   ],
   "source": [
    "lista['hola']"
   ]
  },
  {
   "cell_type": "markdown",
   "id": "e15b7c46-7e7c-4da2-8327-246c7f2271d8",
   "metadata": {
    "ExecuteTime": {
     "end_time": "2021-03-29T16:01:51.046911Z",
     "start_time": "2021-03-29T16:01:51.024911Z"
    }
   },
   "source": [
    "Un bloque ```try``` puede tener más de un bloque ```except``` asociado, cada ```except``` explicita acciones a realizarse según el tipo de excepción aparecida en el código. A lo más, se podrá ejecutar un ```except``` (de los posiblemente múltiples). El código que maneja la excepción, asociada a un bloque ```except``` se le denomina *handler*. \n",
    "\n",
    "Las excepciones (del ejercicio anterior por ejemplo) pueden ser utilizadas para definir distintos handlers según la sintaxis: \n",
    "\n",
    "```python\n",
    "try:\n",
    "    # Accion que se desea ejecutar\n",
    "    code_to_try\n",
    "    \n",
    "# Ejemplos de handlers y su sintaxis\n",
    "except RuntimeError:\n",
    "    handler_RuntimeError\n",
    "\n",
    "except ZeroDivisionError:\n",
    "    handler_ZeroDivisionError\n",
    "    \n",
    "except TypeError:\n",
    "     handler_TypeError\n",
    "...\n",
    "```\n",
    "\n",
    "Una manera más compacta viene dada por el uso de tuplas:\n",
    "\n",
    "\n",
    "```python\n",
    "try:\n",
    "    # Accion que se desea ejecutar\n",
    "    code_to_try\n",
    "    \n",
    "# Ejemplos de handlers y su sintaxis\n",
    "except (RuntimeError,ZeroDivisionError,TypeError):\n",
    "    handler_multi_exception\n",
    "...\n",
    "```\n",
    "\n",
    "Finalmente, es posible tratar una excepción como una variable dentro de la scope que genera, para ello se utiliza la orden ```as``` según la sintaxis:\n",
    "\n",
    "```python\n",
    "try:\n",
    "    # Accion que se desea ejecutar\n",
    "    code_to_try\n",
    "    \n",
    "# Ejemplo de handler usando la variable err\n",
    "except RuntimeError as err:\n",
    "    handler_RuntimeError(err) #el handler usa la variable err\n",
    "\n",
    "```"
   ]
  },
  {
   "cell_type": "markdown",
   "id": "ff773fdc-a44d-4b2b-92ab-e160b8d96c40",
   "metadata": {},
   "source": [
    "### Atributos de las Excepciones\n",
    "\n",
    "Supongamos que queremos tener acceso a un archivo, pero no se escribe el nombre correcto. Esto es equivalente a acceder a un archivo que para el sistema es inexistente. La excepción asociada es del tipo ```FileNotFoundError```. Vale destacar que las excepción son objetos de la clase ```Exception``` y que por lo tanto tienen métodos (funciones) y atributos asociados. En este caso la variable ```err``` \n",
    "tiene el atributo ```.filename``` que hace referencia al archivo que se desea acceder:"
   ]
  },
  {
   "cell_type": "code",
   "execution_count": 18,
   "id": "db2e1e72-abe0-4896-98b7-1f313073769e",
   "metadata": {
    "ExecuteTime": {
     "end_time": "2021-03-29T20:19:05.910219Z",
     "start_time": "2021-03-29T20:19:05.894224Z"
    }
   },
   "outputs": [
    {
     "ename": "ZeroDivisionError",
     "evalue": "division by zero",
     "output_type": "error",
     "traceback": [
      "\u001b[0;31m---------------------------------------------------------------------------\u001b[0m",
      "\u001b[0;31mZeroDivisionError\u001b[0m                         Traceback (most recent call last)",
      "Input \u001b[0;32mIn [18]\u001b[0m, in \u001b[0;36m<cell line: 1>\u001b[0;34m()\u001b[0m\n\u001b[1;32m      1\u001b[0m \u001b[38;5;28;01mtry\u001b[39;00m:\n\u001b[1;32m      2\u001b[0m     \u001b[38;5;124;03m'''\u001b[39;00m\n\u001b[1;32m      3\u001b[0m \u001b[38;5;124;03m    La funcion open permite leer y excribir archivos de manera nativa\u001b[39;00m\n\u001b[1;32m      4\u001b[0m \u001b[38;5;124;03m    '''\u001b[39;00m\n\u001b[0;32m----> 5\u001b[0m     \u001b[38;5;241;43m0\u001b[39;49m\u001b[38;5;241;43m/\u001b[39;49m\u001b[38;5;241;43m0\u001b[39;49m\n\u001b[1;32m      6\u001b[0m     f \u001b[38;5;241m=\u001b[39m \u001b[38;5;28mopen\u001b[39m(\u001b[38;5;124m'\u001b[39m\u001b[38;5;124marchivo_inexistente.txt\u001b[39m\u001b[38;5;124m'\u001b[39m)\n\u001b[1;32m      7\u001b[0m     s \u001b[38;5;241m=\u001b[39m f\u001b[38;5;241m.\u001b[39mreadline()\n",
      "\u001b[0;31mZeroDivisionError\u001b[0m: division by zero"
     ]
    }
   ],
   "source": [
    "try:\n",
    "    '''\n",
    "    La funcion open permite leer y excribir archivos de manera nativa\n",
    "    '''\n",
    "    f = open('archivo_inexistente.txt')\n",
    "    s = f.readline()\n",
    "    i = int(s.strip())\n",
    "    \n",
    "\n",
    "except FileNotFoundError as err:\n",
    "    print(\"Error! archivo no encontrado:\", err.filename)\n",
    "    print('\\nLos atributos y métodos disponibles del error son:\\n', dir(err))"
   ]
  },
  {
   "cell_type": "markdown",
   "id": "610b4021-5ba7-4b91-b8c0-0d79897e584b",
   "metadata": {
    "ExecuteTime": {
     "end_time": "2021-03-29T16:02:30.336438Z",
     "start_time": "2021-03-29T16:02:30.328440Z"
    }
   },
   "source": [
    "---\n",
    "\n",
    "> **Ejercicio ✏️**\n",
    "\n",
    "1. Considere un conjunto de bloques ```try```-```except``` donde cada ```except``` tiene especificado su comportamiento según una excepción especifica. ¿Es posible declarar un último bloque ```except``` al final, sin tener este, ninguna excepción asociada?"
   ]
  },
  {
   "cell_type": "markdown",
   "id": "95e249a4-8a90-4231-89e8-1e88349a9ae6",
   "metadata": {},
   "source": [
    "### Else\n",
    "\n",
    "La estructura de los bloques ```try``` es similar a la de los bloques ```if```, estos, de hecho, comparten el uso de la orden ```else```. Cuando se utiliza esta última, el flujo comienza por la clausula ```try``` para luego pasar por cada bloque ```except```, si no se levanta ninguna excepción, se ejecuta el bloque ```else```.\n",
    "\n",
    "> **Ejemplo 📖**\n",
    "\n",
    "El siguiente código, se intenta acceder \n",
    "- al archivo `./archivo_inexistente_1.txt` que no existe y, \n",
    "- al archivo `./archivo.txt` que si existe y contiene texto."
   ]
  },
  {
   "cell_type": "code",
   "execution_count": 21,
   "id": "5c8c931a-4c0f-4982-8c16-626eb8cf3d77",
   "metadata": {},
   "outputs": [
    {
     "name": "stdout",
     "output_type": "stream",
     "text": [
      "Archivo: ./archivo.txt \n",
      "\n",
      "Este es un texto de ejemplo\n"
     ]
    }
   ],
   "source": [
    "#file = './archivo_inexistente_1.txt'\n",
    "file = './archivo.txt'\n",
    "\n",
    "try:\n",
    "    '''\n",
    "    Intenta abrir los archivos de la lista\n",
    "    '''\n",
    "    text = open(file, 'r')\n",
    "except FileNotFoundError:\n",
    "    '''\n",
    "    Si no se encuentra el archivo, lo imprime en pantalla\n",
    "    '''\n",
    "    print('No se encuentra:', file, '\\n')\n",
    "else:\n",
    "    '''\n",
    "    Si no aparecen excepciones, aplica el código siguiente\n",
    "    '''\n",
    "    print('Archivo:', text.name, '\\n')\n",
    "    print(text.read())\n",
    "    text.close()"
   ]
  },
  {
   "cell_type": "markdown",
   "id": "e4ac3e78-ac3b-4dd6-a796-d591335f531e",
   "metadata": {},
   "source": [
    "Como podemos ver, los archivos inexistentes 1 y 2 arrojan el mensaje de error correspondiente. Por su parte, dado que ejemplo_2.txt existe en entorno de trabajo, no levanta ninguna excepción y ejecuta el código correspondiente:\n",
    "\n",
    "1. Mostrar el nombre del archivo con el atributo ```.name```.\n",
    "2. Mostrar el contenido en pantalla con el método ```.read()```\n",
    "3. Finalmente, cerrar la conexión al archivo de texto por medio del método ```.close()```."
   ]
  },
  {
   "cell_type": "markdown",
   "id": "9e268672-f38d-4109-8b46-157d4c49599a",
   "metadata": {},
   "source": [
    "### Raise"
   ]
  },
  {
   "cell_type": "markdown",
   "id": "5ff24e14-9053-42eb-bd1e-e6e22d6a92c6",
   "metadata": {},
   "source": [
    "Por otra parte, la orden ```raise``` permite forzar la aparición de una excepción.\n",
    "\n",
    "> **Ejemplo 📖**\n",
    "\n",
    "A continuación se levanta el error ```ValueError```, sin algún contexto especifico."
   ]
  },
  {
   "cell_type": "code",
   "execution_count": 22,
   "id": "daf9797c-6ae6-4298-a605-d497677c9e54",
   "metadata": {
    "ExecuteTime": {
     "end_time": "2021-03-29T16:03:05.151171Z",
     "start_time": "2021-03-29T16:03:05.135127Z"
    }
   },
   "outputs": [
    {
     "ename": "TypeError",
     "evalue": "Texto no es string. Entregado: 5",
     "output_type": "error",
     "traceback": [
      "\u001b[0;31m---------------------------------------------------------------------------\u001b[0m",
      "\u001b[0;31mTypeError\u001b[0m                                 Traceback (most recent call last)",
      "Input \u001b[0;32mIn [22]\u001b[0m, in \u001b[0;36m<cell line: 3>\u001b[0;34m()\u001b[0m\n\u001b[1;32m      1\u001b[0m texto \u001b[38;5;241m=\u001b[39m \u001b[38;5;241m5\u001b[39m\n\u001b[1;32m      3\u001b[0m \u001b[38;5;28;01mif\u001b[39;00m \u001b[38;5;129;01mnot\u001b[39;00m \u001b[38;5;28misinstance\u001b[39m(texto, \u001b[38;5;28mstr\u001b[39m):\n\u001b[0;32m----> 4\u001b[0m     \u001b[38;5;28;01mraise\u001b[39;00m \u001b[38;5;167;01mTypeError\u001b[39;00m(\u001b[38;5;124mf\u001b[39m\u001b[38;5;124m'\u001b[39m\u001b[38;5;124mTexto no es string. Entregado: \u001b[39m\u001b[38;5;132;01m{\u001b[39;00mtexto\u001b[38;5;132;01m}\u001b[39;00m\u001b[38;5;124m'\u001b[39m)\n",
      "\u001b[0;31mTypeError\u001b[0m: Texto no es string. Entregado: 5"
     ]
    }
   ],
   "source": [
    "texto = 5\n",
    "\n",
    "if not isinstance(texto, str):\n",
    "    raise TypeError(f'Texto no es string. Entregado: {texto}')"
   ]
  },
  {
   "cell_type": "markdown",
   "id": "46b2939d-e499-444f-8e92-a21e899e6c3e",
   "metadata": {},
   "source": [
    "Esta herramienta permite mayor control sobre los errores y el comportamiento que puede manejar nuestro código. "
   ]
  },
  {
   "cell_type": "markdown",
   "id": "bf89dc13-d937-4904-a41b-26f6e9c97517",
   "metadata": {},
   "source": [
    "### Finally\n",
    "\n",
    "Por último, se puede agrear una orden de *limpieza* a un bloque ```try```, para ello se utiliza el comando ```finally```, este tipo de código se ejecuta sin importar la aparición de errores, su uso más común conlleva cerrar archivos antes abiertos, cerrar conexiones, borrar objetos de la memoria, etc...\n",
    "\n",
    "La sintaxis para este tipo de orden es:\n",
    "\n",
    "```python\n",
    "try:\n",
    "    accion\n",
    "except: \n",
    "    manejo_de_excepcion\n",
    "else: \n",
    "    accion_alternativa_sin_error\n",
    "finally:\n",
    "    accion_limpieza\n",
    "```"
   ]
  },
  {
   "cell_type": "markdown",
   "id": "15071a82-11f9-4c6d-83d3-2a89ac6b10f7",
   "metadata": {},
   "source": [
    "> **Ejemplo 📖** \n",
    "\n",
    "A continuación se muestra un bloque en el que aparece un error y se realiza un acción de limpieza."
   ]
  },
  {
   "cell_type": "code",
   "execution_count": 23,
   "id": "d326a1cb-4b24-4fc3-8497-40c763a07d7b",
   "metadata": {},
   "outputs": [
    {
     "name": "stdout",
     "output_type": "stream",
     "text": [
      "Con errores: division by zero \n",
      "\n",
      "Limpieza \n",
      "\n",
      "None\n"
     ]
    }
   ],
   "source": [
    "try:\n",
    "    b = 5\n",
    "    a = 0/0\n",
    "    b += a\n",
    "except ZeroDivisionError as e:\n",
    "    print(f'Con errores: {e} \\n')\n",
    "else:\n",
    "    print('Sin errores \\n')\n",
    "finally:\n",
    "    print('Limpieza \\n')\n",
    "    b = None\n",
    "    \n",
    "print(b)"
   ]
  },
  {
   "cell_type": "markdown",
   "id": "b6c3ba7e-825b-4c2d-bcdf-ab266bd1384c",
   "metadata": {},
   "source": [
    "---\n",
    "\n",
    "## Decoradores\n",
    "\n",
    "\n",
    "Los decoradores son funciones que se aplican sobre otras funciones a través de una sintaxis especial:\n",
    "\n",
    "\n",
    "```python\n",
    "@decorator\n",
    "def func():\n",
    "    pass\n",
    "```"
   ]
  },
  {
   "cell_type": "markdown",
   "id": "43581ad6-b2c0-4ad4-b060-9a2389f888e6",
   "metadata": {},
   "source": [
    "\n",
    "La idea es simple: \n",
    "\n",
    "- El decorador recibe una función objetivo como parámetro.\n",
    "- Dentro del decorador se define una función que hace alguna operación y luego ejecuta la función objetivo (\"la decora\").\n",
    "- Retorna la función decorada."
   ]
  },
  {
   "cell_type": "code",
   "execution_count": 24,
   "id": "eb2da788-1bbc-4666-9df4-5a5470404970",
   "metadata": {},
   "outputs": [],
   "source": [
    "def info(f):\n",
    "    \n",
    "    def funcion_decorada(a, b):\n",
    "        \n",
    "        print(f\"Se ha invocado a la función decorada con los argumentos: ({a}, {b})\")\n",
    "        return f(a, b)\n",
    "    \n",
    "    return funcion_decorada"
   ]
  },
  {
   "cell_type": "code",
   "execution_count": 25,
   "id": "da6b2bba-91ad-42fb-96aa-f9b0964dff83",
   "metadata": {},
   "outputs": [
    {
     "name": "stdout",
     "output_type": "stream",
     "text": [
      "Se ha invocado a la función decorada con los argumentos: (10, 5)\n"
     ]
    },
    {
     "data": {
      "text/plain": [
       "15"
      ]
     },
     "execution_count": 25,
     "metadata": {},
     "output_type": "execute_result"
    }
   ],
   "source": [
    "def sumar(a, b):\n",
    "    return a + b\n",
    "\n",
    "info(sumar)(10, 5)"
   ]
  },
  {
   "cell_type": "code",
   "execution_count": 26,
   "id": "1c861d98-6ea9-443a-bdfd-174e033a0794",
   "metadata": {},
   "outputs": [
    {
     "name": "stdout",
     "output_type": "stream",
     "text": [
      "Se ha invocado a la función decorada con los argumentos: (10, 5)\n",
      "15\n"
     ]
    }
   ],
   "source": [
    "@info\n",
    "def sumar(a, b):\n",
    "    return a + b\n",
    "\n",
    "\n",
    "print(sumar(10, 5))"
   ]
  },
  {
   "cell_type": "markdown",
   "id": "ee78be56-5ffc-4ec9-92da-f43f20b24ffa",
   "metadata": {
    "tags": []
   },
   "source": [
    "---\n",
    "\n",
    "### Programación Modular y Librerías\n",
    "\n",
    "La programación modular es una técnica de de diseño de software. Sus cimientos se fundan la simplificación de sistemas complejos por medio del modelado de sus componentes o módulos. Este principio es agnóstico al paradigma de programación usado y está presente en la gran mayoría de proyectos de software. \n",
    "\n",
    "Para diseñar programas mantenibles, confiables y de fácil lectura con un nivel de esfuerzo razonable, se recomienda utilizar técnicas de desarrollo modular. Aquí, es de vital importancia, reducir la interdependencia entre componentes del sistema, generando piezas (o módulos) lo más independiente posibles. \n",
    "\n",
    "Python posee un manejo de módulos nativo, este sigue la sintaxis:\n",
    "\n",
    "```python\n",
    "\n",
    "import module_name\n",
    "\n",
    "```\n",
    "\n",
    "Así un modulo en Python es un archivo con extensión ```.py``` consistente en código Python. Un módulo puede contener una cantidad arbitraria de objetos, como por ejemplo, clases, archivos funciones, etc. Tampoco hay una sintaxis predefinida para definir tales objetos. \n",
    "\n",
    "El comando ```import``` permite obtener acceso a todos los objetos del archivo ```.py```. \n",
    "\n",
    "Ejemplo de un módulo de nombre `sample` :\n",
    "\n",
    "\n",
    "    README.rst\n",
    "    LICENSE\n",
    "    setup.py\n",
    "    requirements.txt\n",
    "    sample/\n",
    "        __init__.py\n",
    "        core.py\n",
    "        helpers.py\n",
    "        subfolder/\n",
    "            subcore.py\n",
    "    docs/\n",
    "        conf.py\n",
    "        index.rst\n",
    "    tests/\n",
    "        test_basic.py\n",
    "        test_advanced.py\n",
    "        \n",
    "    main.py  \n",
    "\n",
    "<small>Referencia: https://docs.python-guide.org/writing/structure/ </small>\n"
   ]
  },
  {
   "cell_type": "markdown",
   "id": "235fe3ba-1e99-4add-ac1e-df6f724485a3",
   "metadata": {},
   "source": [
    "\n",
    "\n",
    "> **Ejemplo 📖**\n",
    "\n",
    "El módulo ```math``` contiene ciertas constantes y funciones. A continuación se importa y se accede a algunos de sus objetos."
   ]
  },
  {
   "cell_type": "code",
   "execution_count": 28,
   "id": "f037506c-56cd-4d9b-9dd1-463e7f2a17c4",
   "metadata": {},
   "outputs": [
    {
     "name": "stdout",
     "output_type": "stream",
     "text": [
      "Coseno cos(0):  1.0\n",
      "logaritmo natural ln(1):  0.0\n",
      "Numero de Euler e:  2.718281828459045\n"
     ]
    }
   ],
   "source": [
    "import math\n",
    "\n",
    "# Función coseno\n",
    "print('Coseno cos(0): ', math.cos(0))\n",
    "\n",
    "# Función logaritmo natural\n",
    "\n",
    "print('logaritmo natural ln(1): ', math.log(1))\n",
    "\n",
    "# Constante de Euler\n",
    "print('Numero de Euler e: ', math.e)\n",
    "\n"
   ]
  },
  {
   "cell_type": "markdown",
   "id": "fd151e1e-f135-49c4-8a52-96b6dce6e201",
   "metadata": {},
   "source": [
    "Al importar ```math``` se accede a sus funciones y constantes según la notación de objetos. Es posible importar solo algunos métodos o atributos por medio de la sintaxis:\n",
    "\n",
    "```python\n",
    "from module import method_1, attribute_1, ... , method_n\n",
    "```\n",
    "\n",
    "otra sintaxis relativamente útil es \n",
    "\n",
    "```python\n",
    "from module import *\n",
    "```\n",
    "\n",
    "Esto quiere decir, que se importan todos los objetos de ```module```, directamente al namespace global. En el ejemplo del módulo ```math```,  al ejecutar la orden de importación usando el operador ```*```, ya no sería necesario llamar sus atributos y métodos por medio de ```math.cos()``` o ```math.e``` (para coseno y e) sino que se puede hacer directamente por medio de ```cos()``` y ```e```. \n",
    "\n",
    "> **Nota**: Los objetos importados con `*` se cargan al *namespace* global, lo que implica que pueden haber conflictos con los nombres de las variables globales. Por este motivo, **es una mala práctica**.\n",
    "\n",
    "> **Ejemplo 📖**\n",
    "\n",
    "Se importa el modulo random como rnd y se llama el método ```.gauss()```."
   ]
  },
  {
   "cell_type": "code",
   "execution_count": 30,
   "id": "746fbd1e-6c96-4f08-9db4-19cbb7e55b0a",
   "metadata": {},
   "outputs": [
    {
     "data": {
      "text/plain": [
       "1.1518647942755047"
      ]
     },
     "execution_count": 30,
     "metadata": {},
     "output_type": "execute_result"
    }
   ],
   "source": [
    "import random \n",
    "\n",
    "# Gaussiana 0,1\n",
    "random.gauss(0, 1)"
   ]
  },
  {
   "cell_type": "markdown",
   "id": "40c9436b-1e0d-4b4c-ab96-f5dcc25e48af",
   "metadata": {},
   "source": [
    "\n",
    "Por último, al considerar los módulos importados como objetos, se pueden renombrar en el namespace global por medio de la sintaxis\n",
    "\n",
    "```python\n",
    "import module_name as new_name\n",
    "```\n"
   ]
  },
  {
   "cell_type": "code",
   "execution_count": 34,
   "id": "f2cb45d1-fccf-4262-9d2a-106c2281cd3c",
   "metadata": {},
   "outputs": [
    {
     "data": {
      "text/plain": [
       "0.7599571667189111"
      ]
     },
     "execution_count": 34,
     "metadata": {},
     "output_type": "execute_result"
    }
   ],
   "source": [
    "import random as rnd\n",
    "\n",
    "# Gaussiana 0,1\n",
    "rnd.gauss(0, 1)"
   ]
  },
  {
   "cell_type": "markdown",
   "id": "f1d05f4a-b507-4ef6-b75d-17f7c6eb6284",
   "metadata": {},
   "source": [
    "#### Estructura de un Módulo\n",
    "\n",
    "Un módulo en Python es un archivo conteniendo ordenes y definiciones. El nombre del módulo se deduce del nombre del archivo. Por ejemplo si se tiene el archivo ```module.py``` el nombre del módulo sera ```module```. \n",
    "\n",
    "> **Ejemplo 📖**\n",
    "\n",
    "Se crea un archivo ```.py``` llamado ```zords.py```. Este archivo contiene las definiciones iniciales de las clases ```DinoZord```, ```Tyrannosaurus```, ```Mastodon```, ```Triceratops```, ```Sabertooth```, ```Pterodactyl``` y ```MegaZord```. Se importa según ```import zords``` y se accede a sus clases mediante la notación ```zord._____```. "
   ]
  },
  {
   "cell_type": "code",
   "execution_count": 37,
   "id": "e26e1979-683c-4f54-82ec-46049735df47",
   "metadata": {},
   "outputs": [],
   "source": [
    "from src.zords.tyrannosaurus import Tyrannosaurus\n",
    "from src.zords.mastodon import Mastodon\n",
    "from src.zords.triceratops import Triceratops\n",
    "from src.zords.sabertooth import Sabertooth\n",
    "from src.zords.pterodactyl import Pterodactyl\n",
    "\n",
    "\n",
    "tyrannosaurus = Tyrannosaurus()\n",
    "tyrannosaurus.pilot = 'Jason Lee Scott'\n",
    "\n",
    "mastodon = Mastodon()\n",
    "mastodon.pilot = 'Zack Taylor'\n",
    "\n",
    "triceratops = Triceratops()\n",
    "triceratops.pilot = 'Billy Cranston'\n",
    "\n",
    "sabertooth = Sabertooth()\n",
    "sabertooth.pilot = 'Trini Kwan'\n",
    "\n",
    "pterodactyl = Pterodactyl()\n",
    "pterodactyl.pilot = 'Kimberly Hart'\n"
   ]
  },
  {
   "cell_type": "code",
   "execution_count": 38,
   "id": "4c20512f-a830-466e-b5cf-21f1cee193dc",
   "metadata": {},
   "outputs": [
    {
     "data": {
      "text/plain": [
       "<src.zords.tyrannosaurus.Tyrannosaurus at 0x7f58e851f970>"
      ]
     },
     "execution_count": 38,
     "metadata": {},
     "output_type": "execute_result"
    }
   ],
   "source": [
    "tyrannosaurus"
   ]
  },
  {
   "cell_type": "markdown",
   "id": "25a41fbb-d908-4659-ac19-084db3e791ec",
   "metadata": {},
   "source": [
    "Al importarse un módulo, el interprete de Python busca en la misma carpeta donde se está ejecutando el código actual, luego busca en las carpetas de la configuración global, denotadas por la variable PYTHONPATH en sistemas operativos linux. Finalmente busca en la ruta donde Python fue instalado. Para conocer dicho orden se puede acceder al atributo `path` del módulo `sys`."
   ]
  },
  {
   "cell_type": "code",
   "execution_count": null,
   "id": "5d22850c-7ca1-4168-a57f-53202665d08b",
   "metadata": {},
   "outputs": [],
   "source": [
    "import sys\n",
    "sys.path"
   ]
  },
  {
   "cell_type": "markdown",
   "id": "5b5857d3-3709-4c93-bbfc-c007329e6ada",
   "metadata": {},
   "source": [
    "---\n",
    "\n",
    "## Docstrings\n",
    "\n",
    "\n",
    "Cuando creamos funciones, lo hacemos principalmente por su funcionalidad, si trabajamos con otros desarrolladores, hacemos uso de comentarios por medio de la sintaxis:\n",
    "\n",
    "```python\n",
    "# Comentario\n",
    "\n",
    "```\n",
    "para comentarios de una linea, o\n",
    "\n",
    "```python\n",
    "\"\"\"\n",
    "Para \n",
    "     comentarios \n",
    "                 multilinea\n",
    "\"\"\"\n",
    "\n",
    "```\n",
    "\n",
    "Sin embargo, hay que tener en cuenta, que en general, se leerá el código durante más tiempo (por uno mismo o los desarrolladores) del que pasará escribiéndolo. \n",
    "\n",
    "El sistema de comentarios puede funcionar de manera perfecta al trabajar con desarrolladores con acceso al código fuente, pero al momento de que un usuario desee entender el significado de una función o trozo de código, no podrá necesariamente acceder al código de fuente cada vez que necesite utilizar sus funciones. \n",
    "\n",
    "El término **Docstring** en Python se refiere a la documentación de tipo string asociada a una función, clase, modulo o método. Esta documentación se accede por medio de la función ```help(funcion)``` sobre el objeto que se desea consultar. \n",
    "\n",
    "Esta función permite comprender la funcionalidad de trozos de código a un nivel general y transversal (tanto para desarrolladores como para usuarios). Debido a que un *Docstring* es en esencia un texto producido por el programador para ser entendido por el público general (en especial el programador mismo), es que aparecen distintos tipos de estándar para generar estas documentaciones. "
   ]
  },
  {
   "cell_type": "code",
   "execution_count": null,
   "id": "7e337886-1671-4c45-b570-0504c27c8c63",
   "metadata": {
    "ExecuteTime": {
     "end_time": "2021-03-24T20:10:29.985337Z",
     "start_time": "2021-03-24T20:10:29.964350Z"
    }
   },
   "outputs": [
    {
     "name": "stdout",
     "output_type": "stream",
     "text": [
      "Help on class list in module builtins:\n",
      "\n",
      "class list(object)\n",
      " |  list(iterable=(), /)\n",
      " |  \n",
      " |  Built-in mutable sequence.\n",
      " |  \n",
      " |  If no argument is given, the constructor creates a new empty list.\n",
      " |  The argument must be an iterable if specified.\n",
      " |  \n",
      " |  Methods defined here:\n",
      " |  \n",
      " |  __add__(self, value, /)\n",
      " |      Return self+value.\n",
      " |  \n",
      " |  __contains__(self, key, /)\n",
      " |      Return key in self.\n",
      " |  \n",
      " |  __delitem__(self, key, /)\n",
      " |      Delete self[key].\n",
      " |  \n",
      " |  __eq__(self, value, /)\n",
      " |      Return self==value.\n",
      " |  \n",
      " |  __ge__(self, value, /)\n",
      " |      Return self>=value.\n",
      " |  \n",
      " |  __getattribute__(self, name, /)\n",
      " |      Return getattr(self, name).\n",
      " |  \n",
      " |  __getitem__(...)\n",
      " |      x.__getitem__(y) <==> x[y]\n",
      " |  \n",
      " |  __gt__(self, value, /)\n",
      " |      Return self>value.\n",
      " |  \n",
      " |  __iadd__(self, value, /)\n",
      " |      Implement self+=value.\n",
      " |  \n",
      " |  __imul__(self, value, /)\n",
      " |      Implement self*=value.\n",
      " |  \n",
      " |  __init__(self, /, *args, **kwargs)\n",
      " |      Initialize self.  See help(type(self)) for accurate signature.\n",
      " |  \n",
      " |  __iter__(self, /)\n",
      " |      Implement iter(self).\n",
      " |  \n",
      " |  __le__(self, value, /)\n",
      " |      Return self<=value.\n",
      " |  \n",
      " |  __len__(self, /)\n",
      " |      Return len(self).\n",
      " |  \n",
      " |  __lt__(self, value, /)\n",
      " |      Return self<value.\n",
      " |  \n",
      " |  __mul__(self, value, /)\n",
      " |      Return self*value.\n",
      " |  \n",
      " |  __ne__(self, value, /)\n",
      " |      Return self!=value.\n",
      " |  \n",
      " |  __repr__(self, /)\n",
      " |      Return repr(self).\n",
      " |  \n",
      " |  __reversed__(self, /)\n",
      " |      Return a reverse iterator over the list.\n",
      " |  \n",
      " |  __rmul__(self, value, /)\n",
      " |      Return value*self.\n",
      " |  \n",
      " |  __setitem__(self, key, value, /)\n",
      " |      Set self[key] to value.\n",
      " |  \n",
      " |  __sizeof__(self, /)\n",
      " |      Return the size of the list in memory, in bytes.\n",
      " |  \n",
      " |  append(self, object, /)\n",
      " |      Append object to the end of the list.\n",
      " |  \n",
      " |  clear(self, /)\n",
      " |      Remove all items from list.\n",
      " |  \n",
      " |  copy(self, /)\n",
      " |      Return a shallow copy of the list.\n",
      " |  \n",
      " |  count(self, value, /)\n",
      " |      Return number of occurrences of value.\n",
      " |  \n",
      " |  extend(self, iterable, /)\n",
      " |      Extend list by appending elements from the iterable.\n",
      " |  \n",
      " |  index(self, value, start=0, stop=9223372036854775807, /)\n",
      " |      Return first index of value.\n",
      " |      \n",
      " |      Raises ValueError if the value is not present.\n",
      " |  \n",
      " |  insert(self, index, object, /)\n",
      " |      Insert object before index.\n",
      " |  \n",
      " |  pop(self, index=-1, /)\n",
      " |      Remove and return item at index (default last).\n",
      " |      \n",
      " |      Raises IndexError if list is empty or index is out of range.\n",
      " |  \n",
      " |  remove(self, value, /)\n",
      " |      Remove first occurrence of value.\n",
      " |      \n",
      " |      Raises ValueError if the value is not present.\n",
      " |  \n",
      " |  reverse(self, /)\n",
      " |      Reverse *IN PLACE*.\n",
      " |  \n",
      " |  sort(self, /, *, key=None, reverse=False)\n",
      " |      Sort the list in ascending order and return None.\n",
      " |      \n",
      " |      The sort is in-place (i.e. the list itself is modified) and stable (i.e. the\n",
      " |      order of two equal elements is maintained).\n",
      " |      \n",
      " |      If a key function is given, apply it once to each list item and sort them,\n",
      " |      ascending or descending, according to their function values.\n",
      " |      \n",
      " |      The reverse flag can be set to sort in descending order.\n",
      " |  \n",
      " |  ----------------------------------------------------------------------\n",
      " |  Class methods defined here:\n",
      " |  \n",
      " |  __class_getitem__(...) from builtins.type\n",
      " |      See PEP 585\n",
      " |  \n",
      " |  ----------------------------------------------------------------------\n",
      " |  Static methods defined here:\n",
      " |  \n",
      " |  __new__(*args, **kwargs) from builtins.type\n",
      " |      Create and return a new object.  See help(type) for accurate signature.\n",
      " |  \n",
      " |  ----------------------------------------------------------------------\n",
      " |  Data and other attributes defined here:\n",
      " |  \n",
      " |  __hash__ = None\n",
      "\n"
     ]
    }
   ],
   "source": [
    "help(list)"
   ]
  },
  {
   "cell_type": "markdown",
   "id": "b4afd9ce-680a-4f16-aa6c-477936966872",
   "metadata": {},
   "source": [
    "A continuación veremos algunos lineamientos a la hora de construir docstrings:\n",
    "\n",
    "Para Docstrings de una linea:\n",
    "\n",
    "* Se usa ```\"\"\" \"\"\"``` inclusive si se puede escribir todo en una linea.\n",
    "* Las comillas que inicial la documentación están en la misma linea que aquellas que la cierran.\n",
    "* El docstring es una frase que termina en punto, describe el objeto al cual se hace referencia y su efecto en la forma (accion,resultado).\n",
    "* La documentación no debe tener la \"firma\" (signature) del objeto subyacente: \n",
    "\n",
    "```python\n",
    "# Mala practica:\n",
    "def funcion_suma(a,b):\n",
    "    \"\"\" funcion(a,b) -> int \"\"\"\n",
    "    return a+b\n",
    "    \n",
    "# Buena practica:\n",
    "def funcion_suma(a,b):\n",
    "    \"\"\"Retorna la suma de a y b.\n",
    "    \n",
    "    Parameters\n",
    "    ----------\n",
    "    a \n",
    "        Entero o flotante.\n",
    "    b \n",
    "        Entero o flotante\n",
    "\n",
    "    Returns\n",
    "    -------\n",
    "    int\n",
    "        Entero o flotante con la suma de a y b\n",
    "\n",
    "    \"\"\"\n",
    "    return a+b\n",
    "```\n",
    "\n",
    "Docstrings multilinea:\n",
    "\n",
    "* La documentación debe estar indentada completamente.\n",
    "\n",
    "* La primera linea debe ser siempre un resumen corto y conciso de el propósito del objeto que se documenta.\n",
    "\n",
    "* Debe haber una linea en blanco luego del resumen corto. Se puede agregar una explicación más profunda posterior al espacio.\n",
    "\n",
    "En general existen cualidades comunes al momento de crear un docstring, estas incluyen, argumentos, atributos y resultados (returns). Los distintos estándares de creación de documentos abordan esto, dentro de los estándares más comunes se encuentran:\n",
    "\n",
    "[Estándar google](https://github.com/google/styleguide/blob/gh-pages/pyguide.md#38-comments-and-docstrings)\n",
    "\n",
    "[Estándar Numpy/Scipy](https://numpydoc.readthedocs.io/en/latest/format.html)\n",
    "\n",
    "Una buena guia de manejo de docstrings se puede encontrar en la [documentación oficial](https://www.python.org/dev/peps/pep-0257/) de Python.\n"
   ]
  },
  {
   "cell_type": "markdown",
   "id": "abd9c016-8497-4ec6-adb4-95e4c983f718",
   "metadata": {},
   "source": [
    "---\n",
    "> **Ejercicio 💻**\n",
    "\n",
    "El estándar a seguir en este curso será el de Numpy/Scipy.\n",
    "\n",
    "1. Estudia los lineamientos que tal estándar supone.\n",
    "\n",
    "2. Aplica tales lineamientos a a los ejercicios con map/filter/reduce.\n",
    "\n",
    "3. Elija una de las funciones, para una de las cuales confeccionó un docstring y acceda a tal documentación por medio del atributo ```help(function)```. (Desde un entorno jupyter notebook: ¿Qué ocurre se presiona las teclas ```shift+tab``` con el cursor dentro de la función? ejemplo: sum(|) ```shift+tab``` donde \"|\" es el cursor)\n",
    "\n",
    "\n",
    "---"
   ]
  },
  {
   "cell_type": "markdown",
   "id": "4c402d92-1be5-407b-92cb-1c4772dcbc37",
   "metadata": {},
   "source": [
    "Para construir código \"pythonico\" vale decir, de fácil lectura y no redundante, se recomienda seguir la guía de estilo [PEP8](https://www.python.org/dev/peps/pep-0008/), su uso es transversal y se considera una buena práctica utilizarlo."
   ]
  }
 ],
 "metadata": {
  "kernelspec": {
   "display_name": "Python 3 (ipykernel)",
   "language": "python",
   "name": "python3"
  },
  "language_info": {
   "codemirror_mode": {
    "name": "ipython",
    "version": 3
   },
   "file_extension": ".py",
   "mimetype": "text/x-python",
   "name": "python",
   "nbconvert_exporter": "python",
   "pygments_lexer": "ipython3",
   "version": "3.9.7"
  }
 },
 "nbformat": 4,
 "nbformat_minor": 5
}
