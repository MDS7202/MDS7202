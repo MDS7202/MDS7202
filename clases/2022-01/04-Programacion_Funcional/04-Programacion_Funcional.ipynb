{
 "cells": [
  {
   "cell_type": "markdown",
   "metadata": {},
   "source": [
    "#  Clase 4: Programación Funcional\n",
    "\n",
    "**MDS7202: Laboratorio de Programación Científica para Ciencia de Datos**\n",
    "\n",
    "*Profesor: Pablo Badilla Torrealba*\n",
    "\n",
    "## Objetivos de la Clase:\n",
    "\n",
    "- Funciones y su sintaxis en Python\n",
    "- Scopes\n",
    "- Testing\n",
    "- Programación funcional: `lambdas`, `map`, `filter` y `reduce`\n",
    "- Referencias y Mutabilidad\n",
    "- Decoradores\n"
   ]
  },
  {
   "cell_type": "markdown",
   "metadata": {},
   "source": [
    "---\n",
    "\n",
    "## Parte 1: Funciones\n",
    "\n",
    "\n",
    "Una función es un segmento de código separado del código principal, la cual puede ser ejecutada (de aquí en adelante, *invocada*) desde cualquier otro punto del programa (incluyendo de si misma).\n",
    "\n",
    "Las funciones por lo general toman parámetros, que en términos prácticos, son los datos sobre los cuales operarán."
   ]
  },
  {
   "cell_type": "markdown",
   "metadata": {},
   "source": [
    "### Sintaxis Básica\n",
    "\n",
    "En Python, una función se define por medio de la keyword `def` seguido por el nombre y los parámetros que recibirá de entrada la función. \n",
    "\n",
    "\n",
    "```python\n",
    "def función_1(parámetro_1, parámetro_2): \n",
    "    acción\n",
    "    ...\n",
    "\n",
    "```\n"
   ]
  },
  {
   "cell_type": "markdown",
   "metadata": {},
   "source": [
    "#### Return\n",
    "\n",
    "La keyword ```return``` permite que valores definidos dentro de la función puedan ser retornadas hacia el exterior.  Una función definida sin ```return``` entrega como resultado el tipo de datos ```None```.\n",
    "\n",
    "```python\n",
    "def función_2(parámetro_1, parámetro_2): \n",
    "    acción\n",
    "    nuevo_valor = ...\n",
    "    ...\n",
    "    \n",
    "    return nuevo_valor\n",
    "\n",
    "```\n",
    "\n",
    "> **Nota 📝**: Parametro es el nombre de la variable dentro de la función. Argumento es el valor que le pasamos a el parámetro al momento de invocar la función. Se pueden usar indistintivamente.\n",
    "\n"
   ]
  },
  {
   "cell_type": "markdown",
   "metadata": {},
   "source": [
    "#### Invocación \n",
    "\n",
    "Para invocar una función (*ejecutarla*), se utiliza el nombre de la función junto a dos paréntesis que encierran los argumentos.\n",
    "\n",
    "```python\n",
    "def función_2(parámetro_1, parámetro_2): \n",
    "    acción\n",
    "    nuevo_valor = ...\n",
    "    ...\n",
    "    \n",
    "    return nuevo_valor\n",
    "\n",
    "\n",
    "variable_1 = 1\n",
    "variable_2 = 2\n",
    "\n",
    "función_2(variable_1, variable_2)\n",
    "```\n",
    "\n",
    "\n",
    "Ya hemos estudiado funciones básicas de Python, como lo son `print()`, `type()` o `isinstance()`.\n"
   ]
  },
  {
   "cell_type": "markdown",
   "metadata": {},
   "source": [
    "> **Ejemplo 📖**\n",
    "\n",
    "La función ```sumar(a, b)``` que suma dos número esta definida por:"
   ]
  },
  {
   "cell_type": "code",
   "execution_count": 7,
   "metadata": {
    "ExecuteTime": {
     "end_time": "2021-03-24T19:33:30.473840Z",
     "start_time": "2021-03-24T19:33:30.452812Z"
    }
   },
   "outputs": [],
   "source": [
    "def sumar(a, b):\n",
    "    c = a + b\n",
    "    return c"
   ]
  },
  {
   "cell_type": "code",
   "execution_count": 8,
   "metadata": {
    "ExecuteTime": {
     "end_time": "2021-03-24T19:33:46.931701Z",
     "start_time": "2021-03-24T19:33:46.912703Z"
    },
    "scrolled": true
   },
   "outputs": [
    {
     "data": {
      "text/plain": [
       "210"
      ]
     },
     "execution_count": 8,
     "metadata": {},
     "output_type": "execute_result"
    }
   ],
   "source": [
    "sumar(10, 200)"
   ]
  },
  {
   "cell_type": "markdown",
   "metadata": {},
   "source": [
    "> **Pregunta ❓:** ¿Qué sucede con la variable `c` definida dentro de la función?"
   ]
  },
  {
   "cell_type": "code",
   "execution_count": 10,
   "metadata": {
    "ExecuteTime": {
     "end_time": "2021-03-24T19:35:09.838952Z",
     "start_time": "2021-03-24T19:35:09.828938Z"
    }
   },
   "outputs": [
    {
     "ename": "NameError",
     "evalue": "name 'c' is not defined",
     "output_type": "error",
     "traceback": [
      "\u001b[0;31m---------------------------------------------------------------------------\u001b[0m",
      "\u001b[0;31mNameError\u001b[0m                                 Traceback (most recent call last)",
      "Input \u001b[0;32mIn [10]\u001b[0m, in \u001b[0;36m<cell line: 1>\u001b[0;34m()\u001b[0m\n\u001b[0;32m----> 1\u001b[0m \u001b[43mc\u001b[49m\n",
      "\u001b[0;31mNameError\u001b[0m: name 'c' is not defined"
     ]
    }
   ],
   "source": [
    "c"
   ]
  },
  {
   "cell_type": "markdown",
   "metadata": {},
   "source": [
    "### Elementos extra de la sintáxis de funciones\n",
    "\n",
    "#### Parámetros nombrados"
   ]
  },
  {
   "cell_type": "markdown",
   "metadata": {},
   "source": [
    "Las funciones de python tambíen aceptan parámetros nombrados. Es decir, al invocar la función indicarle especificamente el valor de cada parámetro por su nombre."
   ]
  },
  {
   "cell_type": "code",
   "execution_count": 11,
   "metadata": {
    "ExecuteTime": {
     "end_time": "2021-03-24T19:36:06.139377Z",
     "start_time": "2021-03-24T19:36:06.120379Z"
    }
   },
   "outputs": [
    {
     "data": {
      "text/plain": [
       "30"
      ]
     },
     "execution_count": 11,
     "metadata": {},
     "output_type": "execute_result"
    }
   ],
   "source": [
    "sumar(a=10, b=20)"
   ]
  },
  {
   "cell_type": "code",
   "execution_count": 12,
   "metadata": {
    "ExecuteTime": {
     "end_time": "2021-03-24T19:36:19.661112Z",
     "start_time": "2021-03-24T19:36:19.643112Z"
    }
   },
   "outputs": [
    {
     "data": {
      "text/plain": [
       "30"
      ]
     },
     "execution_count": 12,
     "metadata": {},
     "output_type": "execute_result"
    }
   ],
   "source": [
    "sumar(b=10, a=20)"
   ]
  },
  {
   "cell_type": "markdown",
   "metadata": {},
   "source": [
    "> **Pregunta ❓**: ¿Puede tener 0 parámetros una función?¿Y pueden tener n?"
   ]
  },
  {
   "cell_type": "markdown",
   "metadata": {},
   "source": [
    "#### Cero parámetros\n",
    "\n",
    "Una función puede ser ejecutada sin necesidad de tener parámetros.\n",
    "En este caso (idealmente) la función siempre debería hacer la misma acción."
   ]
  },
  {
   "cell_type": "code",
   "execution_count": null,
   "metadata": {
    "ExecuteTime": {
     "end_time": "2021-03-24T19:37:26.217558Z",
     "start_time": "2021-03-24T19:37:26.198563Z"
    }
   },
   "outputs": [
    {
     "name": "stdout",
     "output_type": "stream",
     "text": [
      "Hola!😊\n"
     ]
    }
   ],
   "source": [
    "def hola_mundo():\n",
    "    print('Hola!😊')\n",
    "\n",
    "hola_mundo()"
   ]
  },
  {
   "cell_type": "markdown",
   "metadata": {},
   "source": [
    "#### N parámetros\n",
    "\n",
    "Una función puede tomar n parámetros no previamente definidos. \n",
    "Esto lo logra a través del parámetro `*args`, el cuál actua como una tupla:"
   ]
  },
  {
   "cell_type": "code",
   "execution_count": 14,
   "metadata": {
    "ExecuteTime": {
     "end_time": "2021-03-24T19:40:13.564653Z",
     "start_time": "2021-03-24T19:40:13.555653Z"
    }
   },
   "outputs": [
    {
     "name": "stdout",
     "output_type": "stream",
     "text": [
      "Los parámetros entregados son: (1, 2, 3, 4, 5, 6, 7, 8, 9, 10, 11, 12)\n"
     ]
    }
   ],
   "source": [
    "def funcion_n_parametros(*args):\n",
    "    # args= parámetros sin nombre\n",
    "    print('Los parámetros entregados son:', args)\n",
    "\n",
    "funcion_n_parametros(1, 2, 3, 4, 5, 6, 7, 8, 9, 10, 11, 12)"
   ]
  },
  {
   "cell_type": "markdown",
   "metadata": {},
   "source": [
    "¿Cuál es la utilidad de esto?"
   ]
  },
  {
   "cell_type": "code",
   "execution_count": 15,
   "metadata": {},
   "outputs": [
    {
     "data": {
      "text/plain": [
       "78"
      ]
     },
     "execution_count": 15,
     "metadata": {},
     "output_type": "execute_result"
    }
   ],
   "source": [
    "def suma_n(*args): \n",
    "    acum = 0\n",
    "    for i in args:\n",
    "        acum += i\n",
    "    return acum\n",
    "\n",
    "suma_n(1, 2, 3, 4, 5, 6, 7, 8, 9, 10, 11, 12)"
   ]
  },
  {
   "cell_type": "markdown",
   "metadata": {},
   "source": [
    "#### N Parámetros nombrados\n",
    "\n",
    "Las funciones también pueden tomar n parámetros nombrados a través de `**kwargs`, el cúal se comporta como un diccionario."
   ]
  },
  {
   "cell_type": "code",
   "execution_count": 16,
   "metadata": {},
   "outputs": [
    {
     "name": "stdout",
     "output_type": "stream",
     "text": [
      "{}\n"
     ]
    }
   ],
   "source": [
    "def funcion_n_parametros_nombrados(*args, **kwargs): \n",
    "    print(kwargs)\n",
    "    \n",
    "argumentos = {'parametro_nombrado_1': True, 'parametro_nombrado_2': False, 'parametro_nombrado_5': False}\n",
    "funcion_n_parametros_nombrados(argumentos)"
   ]
  },
  {
   "cell_type": "markdown",
   "metadata": {},
   "source": [
    "#### Valores por defecto"
   ]
  },
  {
   "cell_type": "markdown",
   "metadata": {},
   "source": [
    "Los parámetros también pueden tener valores por defecto:\n",
    "\n",
    "\n",
    "> **Nota 📝:** Los parámetros con valores por defecto deben ser declarados a la derecha de todos aquellos parámetros sin valores predefinidos.\n"
   ]
  },
  {
   "cell_type": "code",
   "execution_count": null,
   "metadata": {
    "ExecuteTime": {
     "end_time": "2021-03-24T19:42:01.164527Z",
     "start_time": "2021-03-24T19:42:01.146528Z"
    }
   },
   "outputs": [],
   "source": [
    "def sumar_2(a, b=2, advertencias=False):\n",
    "    if advertencias == True:\n",
    "        print('Cuidado')\n",
    "    c = a + b\n",
    "    print(f'a : {a} | b : {b} | c : {c}')\n",
    "    return c"
   ]
  },
  {
   "cell_type": "code",
   "execution_count": null,
   "metadata": {
    "ExecuteTime": {
     "end_time": "2021-03-24T19:41:06.740132Z",
     "start_time": "2021-03-24T19:41:06.729133Z"
    }
   },
   "outputs": [],
   "source": [
    "sumar_2(10)"
   ]
  },
  {
   "cell_type": "code",
   "execution_count": null,
   "metadata": {
    "ExecuteTime": {
     "end_time": "2021-03-24T19:41:13.816210Z",
     "start_time": "2021-03-24T19:41:13.803213Z"
    },
    "scrolled": true
   },
   "outputs": [],
   "source": [
    "sumar_2(10, 2000)"
   ]
  },
  {
   "cell_type": "code",
   "execution_count": null,
   "metadata": {
    "ExecuteTime": {
     "end_time": "2021-03-24T19:41:29.891166Z",
     "start_time": "2021-03-24T19:41:29.882167Z"
    }
   },
   "outputs": [],
   "source": [
    "sumar_2(10, advertencias=True)"
   ]
  },
  {
   "cell_type": "markdown",
   "metadata": {},
   "source": [
    "#### Retornar múltiples valores"
   ]
  },
  {
   "cell_type": "markdown",
   "metadata": {},
   "source": [
    "También se pueden retornar múltiples valores"
   ]
  },
  {
   "cell_type": "code",
   "execution_count": 20,
   "metadata": {
    "ExecuteTime": {
     "end_time": "2021-03-24T19:42:52.488689Z",
     "start_time": "2021-03-24T19:42:52.470551Z"
    }
   },
   "outputs": [],
   "source": [
    "def operaciones(a, b):\n",
    "    suma = a+b\n",
    "    resta = a-b\n",
    "    mult = a*b\n",
    "    div = a/b\n",
    "    \n",
    "    return suma, resta, mult, div"
   ]
  },
  {
   "cell_type": "markdown",
   "metadata": {},
   "source": [
    "> **Pregunta ❓**: ¿Qué retorno cuando hay varias variables en el return?"
   ]
  },
  {
   "cell_type": "code",
   "execution_count": 17,
   "metadata": {
    "ExecuteTime": {
     "end_time": "2021-03-24T19:43:07.637016Z",
     "start_time": "2021-03-24T19:43:07.624019Z"
    }
   },
   "outputs": [
    {
     "ename": "NameError",
     "evalue": "name 'operaciones' is not defined",
     "output_type": "error",
     "traceback": [
      "\u001b[0;31m---------------------------------------------------------------------------\u001b[0m",
      "\u001b[0;31mNameError\u001b[0m                                 Traceback (most recent call last)",
      "Input \u001b[0;32mIn [17]\u001b[0m, in \u001b[0;36m<cell line: 1>\u001b[0;34m()\u001b[0m\n\u001b[0;32m----> 1\u001b[0m \u001b[43moperaciones\u001b[49m(\u001b[38;5;241m5\u001b[39m,\u001b[38;5;241m2\u001b[39m)\n",
      "\u001b[0;31mNameError\u001b[0m: name 'operaciones' is not defined"
     ]
    }
   ],
   "source": [
    "operaciones(5,2)"
   ]
  },
  {
   "cell_type": "code",
   "execution_count": 22,
   "metadata": {
    "ExecuteTime": {
     "end_time": "2021-03-24T19:43:30.351313Z",
     "start_time": "2021-03-24T19:43:30.339306Z"
    },
    "scrolled": true
   },
   "outputs": [
    {
     "data": {
      "text/plain": [
       "tuple"
      ]
     },
     "execution_count": 22,
     "metadata": {},
     "output_type": "execute_result"
    }
   ],
   "source": [
    "type(operaciones(5,2))"
   ]
  },
  {
   "cell_type": "markdown",
   "metadata": {},
   "source": [
    "----\n",
    "\n",
    "## Parte 2: Scopes \n",
    "\n",
    "En cada función se define un entorno de variables o *namespace*. Esto quiere decir, que para cada función existe un conjunto de variables (o nombres) los cuales no tienen una relación con las variables fuera de la función. \n",
    "\n",
    "Esto permite definir el concepto de **scope**. El scope se define como un lugar delimitado en donde se define y son visibles un cierto conjunto de variables. \n",
    "\n",
    "Una de las implicancias de esta delimitación es que aquellas variables definidas dentro de un scope en particular no pueden interactuar con las de afuera de dicha área. \n"
   ]
  },
  {
   "cell_type": "markdown",
   "metadata": {},
   "source": [
    "\n",
    "En `Python` se pueden diferenciar 3 tipos de scopes:\n",
    "\n",
    "1. **Global**: variables (u objetos si se desea) definidas en el cuerpo del código.\n",
    "2. **Local**: variables definidas dentro de una función.\n",
    "3. **Built-in**: variables predefinidas por el modulo built-in's (como ```print()``` por ejemplo.)\n"
   ]
  },
  {
   "cell_type": "code",
   "execution_count": 21,
   "metadata": {
    "ExecuteTime": {
     "end_time": "2021-03-24T19:45:21.182553Z",
     "start_time": "2021-03-24T19:45:21.172556Z"
    }
   },
   "outputs": [
    {
     "data": {
      "text/plain": [
       "25"
      ]
     },
     "execution_count": 21,
     "metadata": {},
     "output_type": "execute_result"
    }
   ],
   "source": [
    "def suma(a, b):\n",
    "    c = a + b\n",
    "    return c\n",
    "\n",
    "suma(10, 15)"
   ]
  },
  {
   "cell_type": "markdown",
   "metadata": {},
   "source": [
    "Notemos que si intentamos inspeccionar `c`, nos el intérprete nos va a indicar que no está definida: "
   ]
  },
  {
   "cell_type": "code",
   "execution_count": 23,
   "metadata": {
    "ExecuteTime": {
     "end_time": "2021-03-24T19:45:44.129517Z",
     "start_time": "2021-03-24T19:45:44.114528Z"
    }
   },
   "outputs": [
    {
     "ename": "NameError",
     "evalue": "name 'c' is not defined",
     "output_type": "error",
     "traceback": [
      "\u001b[0;31m---------------------------------------------------------------------------\u001b[0m",
      "\u001b[0;31mNameError\u001b[0m                                 Traceback (most recent call last)",
      "Input \u001b[0;32mIn [23]\u001b[0m, in \u001b[0;36m<cell line: 1>\u001b[0;34m()\u001b[0m\n\u001b[0;32m----> 1\u001b[0m \u001b[43mc\u001b[49m\n",
      "\u001b[0;31mNameError\u001b[0m: name 'c' is not defined"
     ]
    }
   ],
   "source": [
    "c"
   ]
  },
  {
   "cell_type": "markdown",
   "metadata": {},
   "source": [
    "Esto es porque `c` se definió dentro del scope de la función `suma` y no sobre el scope global."
   ]
  },
  {
   "cell_type": "markdown",
   "metadata": {},
   "source": [
    "> **Pregunta ❓**: ¿Qué sucederá en la siguiente celda?"
   ]
  },
  {
   "cell_type": "code",
   "execution_count": 30,
   "metadata": {
    "ExecuteTime": {
     "end_time": "2021-03-24T19:47:02.624894Z",
     "start_time": "2021-03-24T19:47:02.608922Z"
    },
    "scrolled": true
   },
   "outputs": [
    {
     "data": {
      "text/plain": [
       "20"
      ]
     },
     "execution_count": 30,
     "metadata": {},
     "output_type": "execute_result"
    }
   ],
   "source": [
    "n = 5\n",
    "\n",
    "def suma_n(a):\n",
    "    n = 10\n",
    "    c = a + n\n",
    "    return c\n",
    "\n",
    "suma_n(10)"
   ]
  },
  {
   "cell_type": "code",
   "execution_count": 31,
   "metadata": {
    "ExecuteTime": {
     "end_time": "2021-03-24T19:47:06.006789Z",
     "start_time": "2021-03-24T19:47:05.996789Z"
    },
    "scrolled": true
   },
   "outputs": [
    {
     "data": {
      "text/plain": [
       "5"
      ]
     },
     "execution_count": 31,
     "metadata": {},
     "output_type": "execute_result"
    }
   ],
   "source": [
    "n"
   ]
  },
  {
   "cell_type": "markdown",
   "metadata": {},
   "source": [
    "En este caso, la instrucción `n = 10` hace que `n` se modifique en el scope local de la función `suma_n`, pero esto no modifica el valor de `n` en el scope global (el de afuera).\n"
   ]
  },
  {
   "cell_type": "markdown",
   "metadata": {
    "ExecuteTime": {
     "end_time": "2021-03-24T14:20:27.993890Z",
     "start_time": "2021-03-24T14:20:27.978885Z"
    }
   },
   "source": [
    "#### Locals\n",
    "\n",
    "Pueden ver que variables hay en el scope local usando la función `locals()`"
   ]
  },
  {
   "cell_type": "code",
   "execution_count": 34,
   "metadata": {
    "ExecuteTime": {
     "end_time": "2021-03-24T19:49:16.727056Z",
     "start_time": "2021-03-24T19:49:16.723056Z"
    }
   },
   "outputs": [],
   "source": [
    "n = 5\n",
    "\n",
    "def suma_n(a):\n",
    "    n = 10\n",
    "    c = a + n\n",
    "    print(f'Las variables locales de la función son {locals()}')\n",
    "    return c\n"
   ]
  },
  {
   "cell_type": "code",
   "execution_count": 35,
   "metadata": {
    "ExecuteTime": {
     "end_time": "2021-03-24T19:49:18.524853Z",
     "start_time": "2021-03-24T19:49:18.514853Z"
    }
   },
   "outputs": [
    {
     "name": "stdout",
     "output_type": "stream",
     "text": [
      "Las variables locales de la función son {'a': 10, 'n': 10, 'c': 20}\n"
     ]
    },
    {
     "data": {
      "text/plain": [
       "20"
      ]
     },
     "execution_count": 35,
     "metadata": {},
     "output_type": "execute_result"
    }
   ],
   "source": [
    "suma_n(10)"
   ]
  },
  {
   "cell_type": "markdown",
   "metadata": {},
   "source": [
    "> **Ejercicio 💻**\n",
    "\n",
    "También existe la posibilidad de que, dentro de una función, se modifique el valor de una variable en el scope global. Para esto, consulte la keyword `global` y programe una función que haga lo descrito anteriormente. "
   ]
  },
  {
   "cell_type": "markdown",
   "metadata": {},
   "source": [
    "---\n",
    "\n",
    "## Parte 3: Unit Testing\n",
    "\n",
    "\n",
    "El *unit testing* o pruebas unitarias es un método para comprobar el correcto funcionamiento de un segmento de código o función.\n",
    "La idea es crear casos de prueba en donde establecemos valores correctos que deberían retornar la funcion y luego comprobar que la función efectivamente los retorne. \n",
    "\n",
    "Para esto, los test que creemos deben ser determinísticos (no aleatorios) y repetibles. \n",
    "\n",
    "\n",
    "Python provee la *keyword* `assert` la cual verifica el valor de una condición: \n",
    "\n",
    "- Si es `True` continua la ejecución. \n",
    "- Si es `False`, lanza la excepción `AssertionError` y detiene la ejecución.\n",
    "\n",
    "> **Ejemplo 📖**\n"
   ]
  },
  {
   "cell_type": "code",
   "execution_count": 48,
   "metadata": {
    "ExecuteTime": {
     "end_time": "2021-03-24T19:52:21.820347Z",
     "start_time": "2021-03-24T19:52:21.802304Z"
    }
   },
   "outputs": [],
   "source": [
    "def suma(a, b):\n",
    "    return a + b"
   ]
  },
  {
   "cell_type": "code",
   "execution_count": 49,
   "metadata": {
    "ExecuteTime": {
     "end_time": "2021-03-24T19:52:39.018445Z",
     "start_time": "2021-03-24T19:52:39.011446Z"
    }
   },
   "outputs": [],
   "source": [
    "assert suma(2,3) == 5"
   ]
  },
  {
   "cell_type": "code",
   "execution_count": 50,
   "metadata": {
    "ExecuteTime": {
     "end_time": "2021-03-24T19:53:28.730146Z",
     "start_time": "2021-03-24T19:53:28.721136Z"
    }
   },
   "outputs": [],
   "source": [
    "# La idea es hacer varios casos de prueba unitarios.\n",
    "assert suma(2,-3) == -1\n",
    "assert suma(99999,1) == 100000\n",
    "assert suma(3,3) != 5"
   ]
  },
  {
   "cell_type": "markdown",
   "metadata": {
    "ExecuteTime": {
     "end_time": "2021-03-24T15:34:18.662574Z",
     "start_time": "2021-03-24T15:34:18.647544Z"
    }
   },
   "source": [
    "### Comprobación de errores al modificar el código\n",
    "\n",
    "Si por ejemplo, ahora modifico erroneamente la función suma y y en vez de sumar, multiplico `a` por `b`, el test los test que había programado de antemano deberían fallar."
   ]
  },
  {
   "cell_type": "code",
   "execution_count": 46,
   "metadata": {
    "ExecuteTime": {
     "end_time": "2021-03-24T19:53:49.277547Z",
     "start_time": "2021-03-24T19:53:49.249539Z"
    }
   },
   "outputs": [
    {
     "ename": "AssertionError",
     "evalue": "",
     "output_type": "error",
     "traceback": [
      "\u001b[0;31m---------------------------------------------------------------------------\u001b[0m",
      "\u001b[0;31mAssertionError\u001b[0m                            Traceback (most recent call last)",
      "Input \u001b[0;32mIn [46]\u001b[0m, in \u001b[0;36m<cell line: 4>\u001b[0;34m()\u001b[0m\n\u001b[1;32m      1\u001b[0m \u001b[38;5;28;01mdef\u001b[39;00m \u001b[38;5;21msuma\u001b[39m(a, b):\n\u001b[1;32m      2\u001b[0m     \u001b[38;5;28;01mreturn\u001b[39;00m a \u001b[38;5;241m*\u001b[39m b \n\u001b[0;32m----> 4\u001b[0m \u001b[38;5;28;01massert\u001b[39;00m suma(\u001b[38;5;241m2\u001b[39m,\u001b[38;5;241m-\u001b[39m\u001b[38;5;241m3\u001b[39m) \u001b[38;5;241m==\u001b[39m \u001b[38;5;241m-\u001b[39m\u001b[38;5;241m1\u001b[39m\n\u001b[1;32m      5\u001b[0m \u001b[38;5;28;01massert\u001b[39;00m suma(\u001b[38;5;241m99999\u001b[39m,\u001b[38;5;241m1\u001b[39m) \u001b[38;5;241m==\u001b[39m \u001b[38;5;241m100000\u001b[39m\n\u001b[1;32m      6\u001b[0m \u001b[38;5;28;01massert\u001b[39;00m suma(\u001b[38;5;241m3\u001b[39m,\u001b[38;5;241m3\u001b[39m) \u001b[38;5;241m!=\u001b[39m \u001b[38;5;241m5\u001b[39m\n",
      "\u001b[0;31mAssertionError\u001b[0m: "
     ]
    }
   ],
   "source": [
    "def suma(a, b):\n",
    "    return a * b \n",
    "\n",
    "assert suma(2,-3) == -1\n",
    "assert suma(99999,1) == 100000\n",
    "assert suma(3,3) != 5"
   ]
  },
  {
   "cell_type": "code",
   "execution_count": null,
   "metadata": {
    "ExecuteTime": {
     "end_time": "2021-03-24T19:54:07.915018Z",
     "start_time": "2021-03-24T19:54:07.900019Z"
    },
    "scrolled": true
   },
   "outputs": [],
   "source": [
    "# Le podemos indicar que nos entregue un mensaje de error\n",
    "\n",
    "assert suma(3,2) == 5, 'Error al sumar'"
   ]
  },
  {
   "cell_type": "markdown",
   "metadata": {
    "ExecuteTime": {
     "end_time": "2021-03-24T15:35:22.876002Z",
     "start_time": "2021-03-24T15:35:22.855969Z"
    }
   },
   "source": [
    "> Nota interesante 📝:\n",
    "\n",
    "    \"Program testing can be used to show the presence of bugs, but never to show their absence!\"\n",
    "    \n",
    "                                                                         —Edsger Dijkstra, 1970"
   ]
  },
  {
   "cell_type": "markdown",
   "metadata": {},
   "source": [
    "### Paréntesis: TDD y pruebas unitarias\n",
    "\n",
    "El test driven development (TDD) o desarrollo guiado por pruebas implica desarrollar las pruebas unitarias a las que se va a someter el software antes de escribirlo.\n",
    "De esta manera, el desarrollo se realiza atendiendo a los requisitos que se han establecido en la prueba que deberá pasar.\n",
    "\n",
    "(Fuente: https://www.yeeply.com/blog/que-son-pruebas-unitarias/)"
   ]
  },
  {
   "cell_type": "markdown",
   "metadata": {},
   "source": [
    "> **Ejercicio 💻**\n",
    "\n",
    "Programe la función `promedio(lista)` que calcule el promedio de una lista y luego haga una serie de test unitarios que comprueben su funcionamiento. \n",
    "¿Qué pasa cuando el promedio es float?\n"
   ]
  },
  {
   "cell_type": "code",
   "execution_count": null,
   "metadata": {
    "ExecuteTime": {
     "end_time": "2021-03-24T19:20:37.332510Z",
     "start_time": "2021-03-24T19:20:37.172Z"
    }
   },
   "outputs": [],
   "source": [
    "def promedio(lista):\n",
    "    pass"
   ]
  },
  {
   "cell_type": "markdown",
   "metadata": {},
   "source": [
    "---\n",
    "\n",
    "## Parte 4: Programación Funcional con Map, Filter y Reduce\n",
    "\n",
    "<br>\n",
    "<br>\n",
    "\n",
    "<div align='center'>\n",
    "<img alt=\"Map, filter y reduce\" src=\"./resources/map_filter_reduce.jpeg\" width=600/>\n",
    "</div>\n",
    "<br>\n",
    "\n",
    "<div align='center'>Fuente: <a href='https://towardsdatascience.com/accelerate-your-python-list-handling-with-map-filter-and-reduce-d70941b19e52'>Map, Filter And Reduce In Pure Python</a><div/>\n"
   ]
  },
  {
   "cell_type": "markdown",
   "metadata": {},
   "source": [
    "En ciencia de datos, la utilidad de las funciones ```lambda``` generalmente se asocia a las operaciones ```map()```, ```filter()``` y ```reduce()``` usando usando el modulo functools). Estás operaciones se denotan como **funciones de orden superior** pues reciben otra función como argumento. "
   ]
  },
  {
   "cell_type": "markdown",
   "metadata": {},
   "source": [
    "### Map\n",
    "\n",
    "```map()``` permite aplicar la función objetivo sobre un contenedor (como una lista) elemento por elemento, el resultado es un objeto tipo ```map``` que entre sus características es un iterable.\n"
   ]
  },
  {
   "cell_type": "code",
   "execution_count": 57,
   "metadata": {
    "ExecuteTime": {
     "end_time": "2021-03-25T12:09:31.264131Z",
     "start_time": "2021-03-25T12:09:31.243101Z"
    },
    "scrolled": true
   },
   "outputs": [
    {
     "data": {
      "text/plain": [
       "[1, 4, 9, 16, 25, 36]"
      ]
     },
     "execution_count": 57,
     "metadata": {},
     "output_type": "execute_result"
    }
   ],
   "source": [
    "# Ejemplo iterativo usando for\n",
    "\n",
    "def al_cuadrado(x):\n",
    "    return x**2\n",
    "\n",
    "lista = [1, 2, 3, 4, 5, 6]\n",
    "lista_al_cuadrado = []\n",
    "\n",
    "for i in lista:\n",
    "    c = al_cuadrado(i)\n",
    "    lista_al_cuadrado.append(c)\n",
    "\n",
    "lista_al_cuadrado"
   ]
  },
  {
   "cell_type": "markdown",
   "metadata": {},
   "source": [
    "Podemos reescribir esta función usando `map` como:"
   ]
  },
  {
   "cell_type": "code",
   "execution_count": 64,
   "metadata": {
    "ExecuteTime": {
     "end_time": "2021-03-25T12:09:33.167608Z",
     "start_time": "2021-03-25T12:09:33.146621Z"
    }
   },
   "outputs": [
    {
     "data": {
      "text/plain": [
       "<map at 0x7fc3bdc80940>"
      ]
     },
     "execution_count": 64,
     "metadata": {},
     "output_type": "execute_result"
    }
   ],
   "source": [
    "def al_cuadrado(x):\n",
    "    return x**2\n",
    "\n",
    "lista = [1, 2, 3, 4, 5, 6]\n",
    "map(al_cuadrado, lista)"
   ]
  },
  {
   "cell_type": "markdown",
   "metadata": {},
   "source": [
    "Notemos que `map` retorna un iterable (un objeto que puede ser iterado, pero que aún no ha sido generado). Para evaluarlo, podemos utilizar la función `list`:"
   ]
  },
  {
   "cell_type": "code",
   "execution_count": 66,
   "metadata": {
    "ExecuteTime": {
     "end_time": "2021-03-25T12:09:33.970383Z",
     "start_time": "2021-03-25T12:09:33.953344Z"
    },
    "scrolled": true
   },
   "outputs": [
    {
     "data": {
      "text/plain": [
       "[1, 4, 9, 16, 25, 36]"
      ]
     },
     "execution_count": 66,
     "metadata": {},
     "output_type": "execute_result"
    }
   ],
   "source": [
    " # Retorna un iterable. Para evaluarlo, usar list(map)\n",
    "    \n",
    "def al_cuadrado(x):\n",
    "    return x**2\n",
    "\n",
    "lista = [1, 2, 3, 4, 5, 6]\n",
    "lista_al_cuadrado = list(map(al_cuadrado, lista))\n",
    "lista_al_cuadrado"
   ]
  },
  {
   "cell_type": "markdown",
   "metadata": {},
   "source": [
    "### Funciones lambda\n",
    "\n",
    "Cuando se trabaja con funciones simples, la notación ```def``` puede ser \n",
    "lenta e innecesaria. En este contexto, Python posee las funciones **lambda**. Estas se pueden considerar como un análogo de las funciones, como *list comprehension* en relación a los ciclos. \n",
    "\n",
    "> **Ejemplo 📖**\n",
    "\n",
    "La sintaxis es bastante sencilla. Por ejemplo, la función `al_cuadrado`"
   ]
  },
  {
   "cell_type": "code",
   "execution_count": 2,
   "metadata": {
    "ExecuteTime": {
     "end_time": "2021-03-24T19:57:28.684940Z",
     "start_time": "2021-03-24T19:57:28.663933Z"
    },
    "scrolled": true
   },
   "outputs": [
    {
     "data": {
      "text/plain": [
       "100"
      ]
     },
     "execution_count": 2,
     "metadata": {},
     "output_type": "execute_result"
    }
   ],
   "source": [
    "def al_cuadrado(x):\n",
    "    return x**2\n",
    "\n",
    "al_cuadrado(10)"
   ]
  },
  {
   "cell_type": "markdown",
   "metadata": {},
   "source": [
    "Esta se puede reemplazar por\n"
   ]
  },
  {
   "cell_type": "code",
   "execution_count": 6,
   "metadata": {
    "ExecuteTime": {
     "end_time": "2021-03-24T19:58:33.315275Z",
     "start_time": "2021-03-24T19:58:33.306276Z"
    }
   },
   "outputs": [
    {
     "data": {
      "text/plain": [
       "100"
      ]
     },
     "execution_count": 6,
     "metadata": {},
     "output_type": "execute_result"
    }
   ],
   "source": [
    "al_cuadrado = lambda x: x ** 2\n",
    "\n",
    "al_cuadrado(10)"
   ]
  },
  {
   "cell_type": "markdown",
   "metadata": {},
   "source": [
    "Es decir, se sigue la sintaxis:\n",
    "\n",
    "```python\n",
    "lambda param_1, param_2, ..., param_n : accion\n",
    "```\n"
   ]
  },
  {
   "cell_type": "markdown",
   "metadata": {},
   "source": [
    "#### Map y funciones lambdas\n",
    "\n",
    "Podemos definir `al_cuadrado` en una sola linea usando una función lambda. Esto hace el código aún más compacto y funcional (y de paso, *anonimiza* la función):"
   ]
  },
  {
   "cell_type": "code",
   "execution_count": 5,
   "metadata": {},
   "outputs": [
    {
     "data": {
      "text/plain": [
       "[1, 4, 9, 16, 25, 36]"
      ]
     },
     "execution_count": 5,
     "metadata": {},
     "output_type": "execute_result"
    }
   ],
   "source": [
    "lista = [1, 2, 3, 4, 5, 6]\n",
    "lista_al_cuadrado = list(map(lambda x: x**2, lista))\n",
    "lista_al_cuadrado"
   ]
  },
  {
   "cell_type": "markdown",
   "metadata": {},
   "source": [
    "### Filter\n",
    "\n",
    "La función ```filter()``` permite mantener elementos de un arreglo según el valor de verdad asociado a cada uno por la función objetivo.\n"
   ]
  },
  {
   "cell_type": "code",
   "execution_count": 11,
   "metadata": {
    "ExecuteTime": {
     "end_time": "2021-03-25T12:09:39.968542Z",
     "start_time": "2021-03-25T12:09:39.962541Z"
    }
   },
   "outputs": [
    {
     "data": {
      "text/plain": [
       "[2, 4, 6]"
      ]
     },
     "execution_count": 11,
     "metadata": {},
     "output_type": "execute_result"
    }
   ],
   "source": [
    "lista = [1, 2, 3, 4, 5, 6]\n",
    "\n",
    "# Mantener solo numeros pares\n",
    "list(filter(lambda x: x % 2 == 0, lista))"
   ]
  },
  {
   "cell_type": "markdown",
   "metadata": {},
   "source": [
    "### Reduce\n",
    "\n",
    "`reduce()` permite acumular valores de izquierda a derecha según una función sobre algún iterable. La idea es reducir la lista a un solo valor según la función estipulada.\n",
    "El primer argumento de los 2 de la función a pasar es el valor acumulado y el segundo es el valor siguiente de la secuencia.\n",
    "\n",
    "> **Nota 📖**: Esta función debe ser *importada* desde el módulo `functools`.\n",
    "\n",
    "Por ejemplo:\n",
    "\n",
    "```python\n",
    "fun = lambda x, y: x + y\n",
    "functools.reduce(fun, [1, 2, ,3, 4, 5])\n",
    "```\n",
    "\n",
    "Al ejecutar esta línea, por cada iteración se calcula:\n",
    "\n",
    "0. `fun(0, 1)`\n",
    "1. `fun(1, 2)`\n",
    "2. `fun(fun(1, 2), 3)` \n",
    "3. `fun(fun(fun(1, 2), 3), 4)`\n",
    "4. `fun(fun(fun(fun(1, 2), 3), 4), 5)`\n",
    "\n",
    "Lo que en resumidas cuentas calcula:\n",
    "```python\n",
    "0 + ((((1+2)+3)+4)+5) = 15\n",
    "```\n",
    "`reduce` también tiene un tercer (opcional) argumento, `initializer`, si este es entregado se utiliza como primer elemento en el calculo acumulativo, por lo que si en el caso anterior se tuviera\n",
    "\n",
    "```python\n",
    "functools.reduce(fun, [1, 2, ,3, 4, 5], 8)\n",
    "```\n",
    "\n",
    "el resultado sería,\n",
    "\n",
    "```python\n",
    "8 + ((((1+2)+3)+4)+5) = 23\n",
    "```\n"
   ]
  },
  {
   "cell_type": "code",
   "execution_count": 13,
   "metadata": {
    "ExecuteTime": {
     "end_time": "2021-03-25T12:09:41.245354Z",
     "start_time": "2021-03-25T12:09:41.226383Z"
    }
   },
   "outputs": [
    {
     "data": {
      "text/plain": [
       "15"
      ]
     },
     "execution_count": 13,
     "metadata": {},
     "output_type": "execute_result"
    }
   ],
   "source": [
    "# importamos la función usando la siguiente instrucción:\n",
    "from functools import reduce\n",
    "\n",
    "lista = [1, 2, 3, 4, 5]\n",
    "\n",
    "# Sumar todos los elementos\n",
    "reduce(lambda a, b: a + b, lista)"
   ]
  },
  {
   "cell_type": "code",
   "execution_count": 11,
   "metadata": {},
   "outputs": [
    {
     "data": {
      "text/plain": [
       "23"
      ]
     },
     "execution_count": 11,
     "metadata": {},
     "output_type": "execute_result"
    }
   ],
   "source": [
    "reduce(lambda a, b: a + b, lista, 8)"
   ]
  },
  {
   "cell_type": "markdown",
   "metadata": {},
   "source": [
    "Otro ejemplo, combinando if else más reduce, podemos encontrar el máximo de una lista:m"
   ]
  },
  {
   "cell_type": "code",
   "execution_count": 14,
   "metadata": {
    "ExecuteTime": {
     "end_time": "2021-03-25T12:09:41.918643Z",
     "start_time": "2021-03-25T12:09:41.898614Z"
    }
   },
   "outputs": [
    {
     "data": {
      "text/plain": [
       "5"
      ]
     },
     "execution_count": 14,
     "metadata": {},
     "output_type": "execute_result"
    }
   ],
   "source": [
    "# Encontrar el máximo\n",
    "reduce(lambda a, b: a if a > b else b, lista)"
   ]
  },
  {
   "cell_type": "markdown",
   "metadata": {},
   "source": [
    "---\n",
    "> **Ejercicios para practicar programación funcional 💻**\n",
    "\n",
    "1. En strings el método ```.upper()``` permite transformar el contenido en mayúsculas. Cree la función ```to_upper(texto)``` que toma un caracter (un string de largo 1) y retorna una versión en mayúsculas. Luego, utilice la función `map()` sobre cada caracter del string.\n",
    "\n",
    "\n",
    "2. El método ```.split()``` permite obtener todas las palabras de un string. Por otra parte, la función ```len()``` permite obtener el largo de un arreglo o cantidad de letras en una palabra. Cree la función `separador()` que separe un texto por espacios (`' '`) y quite todas aquellas palabras de tamaño 3 o menos usando `filter()`. \n",
    "\n",
    "3. Cree la función `mayus_r()` la cual transforme a mayúsculas todas las palabras que terminen en 'r'. Considere  además cada palabra como una lista y acceda la última letra con el slice correspondiente. Utilice ```map()``` más las herramientas que crea necesarias para resolver este problema.\n",
    "\n",
    "4. Cree la función `promedio(lista)` la cual calcule el promedio usando solo las funciones `reduce()` y `len()`\n",
    "\n",
    "4. Cree test unitarios independientes que prueben estas funciones.\n",
    "\n",
    "---"
   ]
  },
  {
   "cell_type": "code",
   "execution_count": null,
   "metadata": {
    "ExecuteTime": {
     "end_time": "2021-03-24T19:20:37.349511Z",
     "start_time": "2021-03-24T19:20:37.271Z"
    }
   },
   "outputs": [],
   "source": [
    "# Pueden usar este texto de ejemplo para hacer los ejercicios\n",
    "\n",
    "texto_ejemplo = \"\"\"\n",
    "Budín de zapallos italianos\n",
    "\n",
    "Una tradicional receta chilena, que siempre me ha gustado mucho.\n",
    "Acá estamos en plena temporada de zapallos italianos y aunque aún no he cosechado ninguno en casa, \n",
    "si lo he estado haciendo en una de las huertas donde trabajo de voluntaria. \n",
    "Esta receta ya estaba en el blog, pero la estoy re-publicando con fotos nuevas y mas lindas. \n",
    "¿Cuál es tu manera favorita de preparar los zapallos italianos?\n",
    "Recuerden siempre probar los zapallos crudos y descartarlos si están amargos, \n",
    "no hay nada peor que cocinarlos y descubrir al momento de servir que había uno malo.\n",
    "Fuente: https://www.enmicocinahoy.cl/pastel-zapallos-italianos/\"\"\""
   ]
  },
  {
   "cell_type": "code",
   "execution_count": null,
   "metadata": {
    "ExecuteTime": {
     "end_time": "2021-03-24T19:20:37.351510Z",
     "start_time": "2021-03-24T19:20:37.277Z"
    }
   },
   "outputs": [],
   "source": [
    "# solo nombres de las funciones, falta agregar sus parámetros.\n",
    "\n",
    "def to_upper():\n",
    "    pass\n",
    "\n",
    "def separador():\n",
    "    pass\n",
    "\n",
    "def mayus_r():\n",
    "    pass\n",
    "\n",
    "def promedio():\n",
    "    pass"
   ]
  },
  {
   "cell_type": "markdown",
   "metadata": {},
   "source": [
    "---"
   ]
  },
  {
   "cell_type": "markdown",
   "metadata": {},
   "source": [
    "---\n",
    "\n",
    "## Parte 5: Referencias\n",
    "\n",
    "<br>\n",
    "\n",
    "Consideremos el siguiente ejemplo:"
   ]
  },
  {
   "cell_type": "code",
   "execution_count": 15,
   "metadata": {
    "ExecuteTime": {
     "end_time": "2021-03-24T20:13:12.073503Z",
     "start_time": "2021-03-24T20:13:12.069502Z"
    }
   },
   "outputs": [],
   "source": [
    "lista_1 = [1,2,3,4,5]\n",
    "lista_2 = lista_1"
   ]
  },
  {
   "cell_type": "code",
   "execution_count": 16,
   "metadata": {
    "ExecuteTime": {
     "end_time": "2021-03-24T20:13:12.747512Z",
     "start_time": "2021-03-24T20:13:12.736503Z"
    },
    "scrolled": true
   },
   "outputs": [
    {
     "data": {
      "text/plain": [
       "[1, 2, 3, 4, 5, 10]"
      ]
     },
     "execution_count": 16,
     "metadata": {},
     "output_type": "execute_result"
    }
   ],
   "source": [
    "lista_1.append(10)\n",
    "lista_1"
   ]
  },
  {
   "cell_type": "code",
   "execution_count": 17,
   "metadata": {
    "ExecuteTime": {
     "end_time": "2021-03-24T20:13:17.974439Z",
     "start_time": "2021-03-24T20:13:17.955440Z"
    },
    "scrolled": true
   },
   "outputs": [
    {
     "data": {
      "text/plain": [
       "[1, 2, 3, 4, 5, 10]"
      ]
     },
     "execution_count": 17,
     "metadata": {},
     "output_type": "execute_result"
    }
   ],
   "source": [
    "lista_2"
   ]
  },
  {
   "cell_type": "markdown",
   "metadata": {},
   "source": [
    "> **Pregunta ❓:** ¿Por qué al modificar `lista_1`, los cambios también se ven reflejados en `lista_2`?"
   ]
  },
  {
   "cell_type": "markdown",
   "metadata": {},
   "source": [
    "Cuando asignamos una lista a una variable, lo que guardamos en la misma es en realidad una referencia a la lista y no la lista en sí. \n",
    "\n",
    "> Referencia según la *RAE* : 9. f. Ling. Relación que se establece entre una expresión lingüística y aquello a lo que alude.\n",
    "\n",
    "Por lo tanto, al copiar la variable a otra lo que hicimos fue copiar la referencia y no sus valores. Podemos analizar las referencias de cada variable (lugar en la dirección de memoria donde se encuentran los datos) a través de la función `id`:"
   ]
  },
  {
   "cell_type": "code",
   "execution_count": 18,
   "metadata": {
    "ExecuteTime": {
     "end_time": "2021-03-24T20:14:08.735748Z",
     "start_time": "2021-03-24T20:14:08.716745Z"
    }
   },
   "outputs": [
    {
     "name": "stdout",
     "output_type": "stream",
     "text": [
      "Identificador lista_1: 140434250636992\n",
      "Identificador lista_2: 140434250636992\n"
     ]
    }
   ],
   "source": [
    "print(f'Identificador lista_1: {id(lista_1)}\\nIdentificador lista_2: {id(lista_2)}')"
   ]
  },
  {
   "cell_type": "markdown",
   "metadata": {
    "ExecuteTime": {
     "end_time": "2021-03-24T17:38:07.640881Z",
     "start_time": "2021-03-24T17:38:07.631840Z"
    }
   },
   "source": [
    "> **Nota**: Si realmente queremos copiar un arreglo (y cuálquier colección y estructura compleja en general) debemos utilizar la función `deepcopy()`"
   ]
  },
  {
   "cell_type": "code",
   "execution_count": 19,
   "metadata": {},
   "outputs": [],
   "source": [
    "lista_1 = [1, 2, 3, 4, 5]"
   ]
  },
  {
   "cell_type": "code",
   "execution_count": 20,
   "metadata": {
    "ExecuteTime": {
     "end_time": "2021-03-24T20:17:00.249507Z",
     "start_time": "2021-03-24T20:17:00.243507Z"
    }
   },
   "outputs": [
    {
     "data": {
      "text/plain": [
       "[1, 2, 3, 4, 5, 10]"
      ]
     },
     "execution_count": 20,
     "metadata": {},
     "output_type": "execute_result"
    }
   ],
   "source": [
    "from copy import deepcopy\n",
    "\n",
    "lista_3 = deepcopy(lista_1)\n",
    "lista_1.append(10)\n",
    "\n",
    "lista_1"
   ]
  },
  {
   "cell_type": "code",
   "execution_count": 21,
   "metadata": {
    "ExecuteTime": {
     "end_time": "2021-03-24T20:15:05.738891Z",
     "start_time": "2021-03-24T20:15:05.729897Z"
    },
    "scrolled": true
   },
   "outputs": [
    {
     "data": {
      "text/plain": [
       "[1, 2, 3, 4, 5]"
      ]
     },
     "execution_count": 21,
     "metadata": {},
     "output_type": "execute_result"
    }
   ],
   "source": [
    "lista_3"
   ]
  },
  {
   "cell_type": "code",
   "execution_count": 22,
   "metadata": {
    "ExecuteTime": {
     "end_time": "2021-03-24T20:15:13.563792Z",
     "start_time": "2021-03-24T20:15:13.547797Z"
    }
   },
   "outputs": [
    {
     "name": "stdout",
     "output_type": "stream",
     "text": [
      "Identificador lista_1: 140434250571968\n",
      "Identificador lista_2: 140434250697920\n"
     ]
    }
   ],
   "source": [
    "print(f'Identificador lista_1: {id(lista_1)}\\nIdentificador lista_2: {id(lista_3)}')"
   ]
  },
  {
   "cell_type": "markdown",
   "metadata": {},
   "source": [
    "En general, Python asignará identificadores distintos cuando creemos listas y diccionarios:"
   ]
  },
  {
   "cell_type": "code",
   "execution_count": 23,
   "metadata": {
    "ExecuteTime": {
     "end_time": "2021-03-24T20:18:45.314653Z",
     "start_time": "2021-03-24T20:18:45.302653Z"
    }
   },
   "outputs": [
    {
     "name": "stdout",
     "output_type": "stream",
     "text": [
      "Identificador dict_1: 140434250464128\n",
      "Identificador dict_2: 140434250462336\n"
     ]
    }
   ],
   "source": [
    "d_1 = {'key_1': 'Hola'}\n",
    "d_2 = {'key_1': 'Hola'}\n",
    "\n",
    "print(f'Identificador dict_1: {id(d_1)}\\nIdentificador dict_2: {id(d_2)}')"
   ]
  },
  {
   "cell_type": "markdown",
   "metadata": {
    "ExecuteTime": {
     "end_time": "2021-03-24T17:51:53.481728Z",
     "start_time": "2021-03-24T17:51:53.472726Z"
    }
   },
   "source": [
    "¿Qué pasa ahora con los elementos inmutables como los strings?"
   ]
  },
  {
   "cell_type": "code",
   "execution_count": 24,
   "metadata": {
    "ExecuteTime": {
     "end_time": "2021-03-24T20:18:04.170052Z",
     "start_time": "2021-03-24T20:18:04.163053Z"
    }
   },
   "outputs": [
    {
     "data": {
      "text/plain": [
       "140434250461488"
      ]
     },
     "execution_count": 24,
     "metadata": {},
     "output_type": "execute_result"
    }
   ],
   "source": [
    "s1 = 'Hola'\n",
    "id(s1)"
   ]
  },
  {
   "cell_type": "code",
   "execution_count": 25,
   "metadata": {
    "ExecuteTime": {
     "end_time": "2021-03-24T20:18:04.916052Z",
     "start_time": "2021-03-24T20:18:04.898118Z"
    }
   },
   "outputs": [
    {
     "data": {
      "text/plain": [
       "140434250461488"
      ]
     },
     "execution_count": 25,
     "metadata": {},
     "output_type": "execute_result"
    }
   ],
   "source": [
    "s2 = 'Hola'\n",
    "id(s2)"
   ]
  },
  {
   "cell_type": "code",
   "execution_count": 26,
   "metadata": {
    "ExecuteTime": {
     "end_time": "2021-03-24T20:18:46.450652Z",
     "start_time": "2021-03-24T20:18:46.441655Z"
    },
    "scrolled": true
   },
   "outputs": [
    {
     "data": {
      "text/plain": [
       "140016371039920"
      ]
     },
     "execution_count": 26,
     "metadata": {},
     "output_type": "execute_result"
    }
   ],
   "source": [
    "id(d_1['key_1'])"
   ]
  },
  {
   "cell_type": "markdown",
   "metadata": {},
   "source": [
    "¿Y si le concatenamos otro string (similar al `append` del inicio)?"
   ]
  },
  {
   "cell_type": "code",
   "execution_count": 26,
   "metadata": {
    "ExecuteTime": {
     "end_time": "2021-03-24T19:20:37.482510Z",
     "start_time": "2021-03-24T19:20:37.480Z"
    }
   },
   "outputs": [
    {
     "data": {
      "text/plain": [
       "140434250281872"
      ]
     },
     "execution_count": 26,
     "metadata": {},
     "output_type": "execute_result"
    }
   ],
   "source": [
    "s3 = s1 + ', qué tal?'\n",
    "id(s3)"
   ]
  },
  {
   "cell_type": "markdown",
   "metadata": {},
   "source": [
    "> **Pregunta ❓**: ¿Por qué no se conserva el id?"
   ]
  },
  {
   "cell_type": "markdown",
   "metadata": {},
   "source": [
    "## Parte 6: Mutabilidad e Inmutabilidad `v2`\n",
    "\n",
    "**Recuerdo:** Cada entidad (u objeto) en python puede ser catalogada como **mutables** o **inmutables**. \n",
    "- Los objetos **mutables** son aquellos que pueden ser modificados luego de ser creados (o asignados), \n",
    "- Los objetos **inmutables** son objetos con valores fijos que no pueden ser modificados.\n"
   ]
  },
  {
   "cell_type": "markdown",
   "metadata": {},
   "source": [
    "> **Pregunta ❓**: Hasta ahora, ¿qué tipos de datos son mutables y que tipo de datos son inmutables?"
   ]
  },
  {
   "cell_type": "markdown",
   "metadata": {},
   "source": [
    "Python maneja los objetos mutables e inmutables de manera distinta.\n",
    "\n",
    "- Se utilizan objetos inmutables si se desea acceder e iterar de manera eficiente en estructuras que no cambian frecuentemente en el código. Sin embargo, **son estáticos**. Esto se evidencia al querer modificar un valor, **proceso que conlleva la creación de una copia del inmutable original.** \n",
    "\n",
    "- Los objetos mutables **se utilizan cuando se desea cambiar el tamaño o atributos de un objeto a medida que es procesado por un código**. "
   ]
  },
  {
   "cell_type": "markdown",
   "metadata": {},
   "source": [
    "### ¿Inmutables que mutan?\n",
    "\n",
    "\n",
    "> **Pregunta ❓**: ¿Qué sucede en el siguiente código?"
   ]
  },
  {
   "cell_type": "code",
   "execution_count": 27,
   "metadata": {
    "ExecuteTime": {
     "end_time": "2021-03-24T20:20:09.983944Z",
     "start_time": "2021-03-24T20:20:09.978944Z"
    }
   },
   "outputs": [
    {
     "data": {
      "text/plain": [
       "('texto', [0, 1])"
      ]
     },
     "execution_count": 27,
     "metadata": {},
     "output_type": "execute_result"
    }
   ],
   "source": [
    "tupla = ('texto', [0,1])\n",
    "tupla"
   ]
  },
  {
   "cell_type": "code",
   "execution_count": 28,
   "metadata": {
    "ExecuteTime": {
     "end_time": "2021-03-24T20:20:15.646244Z",
     "start_time": "2021-03-24T20:20:15.627246Z"
    },
    "scrolled": true
   },
   "outputs": [
    {
     "ename": "TypeError",
     "evalue": "'tuple' object does not support item assignment",
     "output_type": "error",
     "traceback": [
      "\u001b[0;31m---------------------------------------------------------------------------\u001b[0m",
      "\u001b[0;31mTypeError\u001b[0m                                 Traceback (most recent call last)",
      "Input \u001b[0;32mIn [28]\u001b[0m, in \u001b[0;36m<cell line: 1>\u001b[0;34m()\u001b[0m\n\u001b[0;32m----> 1\u001b[0m tupla[\u001b[38;5;241m1\u001b[39m] \u001b[38;5;241m=\u001b[39m [\u001b[38;5;241m0\u001b[39m,\u001b[38;5;241m1\u001b[39m,\u001b[38;5;241m2\u001b[39m]\n",
      "\u001b[0;31mTypeError\u001b[0m: 'tuple' object does not support item assignment"
     ]
    }
   ],
   "source": [
    "tupla[1] = [0,1,2]"
   ]
  },
  {
   "cell_type": "code",
   "execution_count": 29,
   "metadata": {
    "ExecuteTime": {
     "end_time": "2021-03-24T20:20:27.266619Z",
     "start_time": "2021-03-24T20:20:27.250607Z"
    }
   },
   "outputs": [
    {
     "data": {
      "text/plain": [
       "[0, 1]"
      ]
     },
     "execution_count": 29,
     "metadata": {},
     "output_type": "execute_result"
    }
   ],
   "source": [
    "tupla[1]"
   ]
  },
  {
   "cell_type": "code",
   "execution_count": 30,
   "metadata": {
    "ExecuteTime": {
     "end_time": "2021-03-24T20:20:53.456034Z",
     "start_time": "2021-03-24T20:20:53.442026Z"
    }
   },
   "outputs": [
    {
     "data": {
      "text/plain": [
       "('texto', [0, 1, 2])"
      ]
     },
     "execution_count": 30,
     "metadata": {},
     "output_type": "execute_result"
    }
   ],
   "source": [
    "tupla[1].append(2)\n",
    "tupla"
   ]
  },
  {
   "cell_type": "markdown",
   "metadata": {},
   "source": [
    "### Argumentos de las Funciones\n",
    "\n",
    "Las referencias a objetos mutables e inmutables tienen un papel importante en la **evaluación de funciones**. \n",
    "\n",
    "Pensemos por ejemplo en la siguiente función:"
   ]
  },
  {
   "cell_type": "code",
   "execution_count": 31,
   "metadata": {
    "ExecuteTime": {
     "end_time": "2021-03-24T20:21:35.166076Z",
     "start_time": "2021-03-24T20:21:35.157083Z"
    }
   },
   "outputs": [],
   "source": [
    "def cambia_elemento_0(x):\n",
    "    ''' Cambia el primer indice de una lista. '''\n",
    "    c = 0\n",
    "    x[0] = 'cambiado'"
   ]
  },
  {
   "cell_type": "markdown",
   "metadata": {},
   "source": [
    "Si se define la lista:"
   ]
  },
  {
   "cell_type": "code",
   "execution_count": 32,
   "metadata": {
    "ExecuteTime": {
     "end_time": "2021-03-24T20:21:39.441106Z",
     "start_time": "2021-03-24T20:21:39.430107Z"
    }
   },
   "outputs": [],
   "source": [
    "lista = ['no_cambiar', 2, 3, 4, 5]"
   ]
  },
  {
   "cell_type": "code",
   "execution_count": 33,
   "metadata": {
    "ExecuteTime": {
     "end_time": "2021-03-24T20:22:42.069305Z",
     "start_time": "2021-03-24T20:22:42.050308Z"
    },
    "scrolled": true
   },
   "outputs": [
    {
     "data": {
      "text/plain": [
       "['cambiado', 2, 3, 4, 5]"
      ]
     },
     "execution_count": 33,
     "metadata": {},
     "output_type": "execute_result"
    }
   ],
   "source": [
    "cambia_elemento_0(lista)\n",
    "lista"
   ]
  },
  {
   "cell_type": "markdown",
   "metadata": {},
   "source": [
    "El elemento cambió porque le pasamos una referencia de la lista a la función. NO una copia de esta."
   ]
  },
  {
   "cell_type": "markdown",
   "metadata": {},
   "source": [
    "## Parte 7: Decoradores\n",
    "\n",
    "\n",
    "Los decoradores son funciones que se aplican sobre otras funciones con el objetivo de modificar su comportamiento. Los decoradores actuan a través de una sintaxis especial:\n",
    "\n",
    "\n",
    "```python\n",
    "@decorator\n",
    "def func():\n",
    "    pass\n",
    "```"
   ]
  },
  {
   "cell_type": "markdown",
   "metadata": {},
   "source": [
    "\n",
    "La idea es simple: \n",
    "\n",
    "- El decorador recibe una función objetivo como parámetro.\n",
    "- Dentro del decorador se define una función que hace alguna operación y luego ejecuta la función objetivo (\"la decora\").\n",
    "- Retorna la función decorada."
   ]
  },
  {
   "cell_type": "code",
   "execution_count": 32,
   "metadata": {},
   "outputs": [],
   "source": [
    "def info(f):\n",
    "    \n",
    "    def funcion_decorada(a, b):\n",
    "        \n",
    "        print(f\"Se ha invocado a: {f.__name__}({a}, {b})\")\n",
    "        return f(a, b)\n",
    "    \n",
    "    return funcion_decorada"
   ]
  },
  {
   "cell_type": "code",
   "execution_count": 33,
   "metadata": {},
   "outputs": [
    {
     "name": "stdout",
     "output_type": "stream",
     "text": [
      "Se ha invocado a: sumar(10, 5)\n"
     ]
    },
    {
     "data": {
      "text/plain": [
       "15"
      ]
     },
     "execution_count": 33,
     "metadata": {},
     "output_type": "execute_result"
    }
   ],
   "source": [
    "def sumar(a, b):\n",
    "    return a + b\n",
    "\n",
    "info(sumar)(10, 5)"
   ]
  },
  {
   "cell_type": "code",
   "execution_count": 34,
   "metadata": {},
   "outputs": [
    {
     "name": "stdout",
     "output_type": "stream",
     "text": [
      "Se ha invocado a: sumar(10, 5)\n",
      "15\n"
     ]
    }
   ],
   "source": [
    "@info\n",
    "def sumar(a, b):\n",
    "    return a + b\n",
    "\n",
    "\n",
    "print(sumar(10, 5))"
   ]
  },
  {
   "cell_type": "markdown",
   "metadata": {},
   "source": [
    "## Parte 8: Docstrings\n",
    "\n",
    "\n",
    "Cuando creamos funciones, lo hacemos principalmente por su funcionalidad, si trabajamos con otros desarrolladores, hacemos uso de comentarios por medio de la sintaxis:\n",
    "\n",
    "```python\n",
    "# Comentario\n",
    "\n",
    "```\n",
    "para comentarios de una linea, o\n",
    "\n",
    "```python\n",
    "\"\"\"\n",
    "Para \n",
    "     comentarios \n",
    "                 multilinea\n",
    "\"\"\"\n",
    "\n",
    "```\n",
    "\n",
    "Sin embargo, hay que tener en cuenta, que en general, se leerá el código durante más tiempo (por uno mismo o los desarrolladores) del que pasará escribiéndolo. \n",
    "\n",
    "El sistema de comentarios puede funcionar de manera perfecta al trabajar con desarrolladores con acceso al código fuente, pero al momento de que un usuario desee entender el significado de una función o trozo de código, no podrá necesariamente acceder al código de fuente cada vez que necesite utilizar sus funciones. \n",
    "\n",
    "El término **Docstring** en Python se refiere a la documentación de tipo string asociada a una función, clase, modulo o método. Esta documentación se accede por medio de la función ```help(funcion)``` sobre el objeto que se desea consultar. \n",
    "\n",
    "Esta función permite comprender la funcionalidad de trozos de código a un nivel general y transversal (tanto para desarrolladores como para usuarios). Debido a que un *Docstring* es en esencia un texto producido por el programador para ser entendido por el público general (en especial el programador mismo), es que aparecen distintos tipos de estándar para generar estas documentaciones. "
   ]
  },
  {
   "cell_type": "code",
   "execution_count": null,
   "metadata": {
    "ExecuteTime": {
     "end_time": "2021-03-24T20:10:29.985337Z",
     "start_time": "2021-03-24T20:10:29.964350Z"
    }
   },
   "outputs": [],
   "source": [
    "help(list)"
   ]
  },
  {
   "cell_type": "markdown",
   "metadata": {},
   "source": [
    "A continuación veremos algunos lineamientos a la hora de construir docstrings:\n",
    "\n",
    "Para Docstrings de una linea:\n",
    "\n",
    "* Se usa ```\"\"\" \"\"\"``` inclusive si se puede escribir todo en una linea.\n",
    "* Las comillas que inicial la documentación están en la misma linea que aquellas que la cierran.\n",
    "* El docstring es una frase que termina en punto, describe el objeto al cual se hace referencia y su efecto en la forma (accion,resultado).\n",
    "* La documentación no debe tener la \"firma\" (signature) del objeto subyacente: \n",
    "\n",
    "```python\n",
    "# Mala practica:\n",
    "def funcion_suma(a,b):\n",
    "    \"\"\" funcion(a,b) -> int \"\"\"\n",
    "    return a+b\n",
    "    \n",
    "# Buena practica:\n",
    "def funcion_suma(a,b):\n",
    "    \"\"\"Retorna la suma de a y b.\n",
    "    \n",
    "    Parameters\n",
    "    ----------\n",
    "    a \n",
    "        Número entero o flotante.\n",
    "    b \n",
    "        Número entero o flotante.\n",
    "\n",
    "    Returns\n",
    "    -------\n",
    "    int\n",
    "        Entero o flotante que contiene la suma de a y b\n",
    "\n",
    "    \"\"\"\n",
    "    return a+b\n",
    "```\n",
    "\n",
    "Docstrings multilinea:\n",
    "\n",
    "* La documentación debe estar indentada completamente.\n",
    "\n",
    "* La primera linea debe ser siempre un resumen corto y conciso de el propósito del objeto que se documenta.\n",
    "\n",
    "* Debe haber una linea en blanco luego del resumen corto. Se puede agregar una explicación más profunda posterior al espacio.\n",
    "\n",
    "En general existen cualidades comunes al momento de crear un docstring, estas incluyen, argumentos, atributos y resultados (returns). Los distintos estándares de creación de documentos abordan esto, dentro de los estándares más comunes se encuentran:\n",
    "\n",
    "[Estándar google](https://github.com/google/styleguide/blob/gh-pages/pyguide.md#38-comments-and-docstrings)\n",
    "\n",
    "[Estándar Numpy/Scipy](https://numpydoc.readthedocs.io/en/latest/format.html)\n",
    "\n",
    "Una buena guia de manejo de docstrings se puede encontrar en la [documentación oficial](https://www.python.org/dev/peps/pep-0257/) de Python.\n"
   ]
  },
  {
   "cell_type": "markdown",
   "metadata": {},
   "source": [
    "---\n",
    "> **Ejercicio 💻**\n",
    "\n",
    "El estándar a seguir en este curso será el de Numpy/Scipy.\n",
    "\n",
    "1. Estudie los lineamientos que el estándar de documentación supone.\n",
    "\n",
    "2. Aplique los lineamientos de documentación a los ejercicios con map/filter/reduce.\n",
    "\n",
    "3. Elija una de las funciones, para una de las cuales confeccionó un docstring y acceda a tal documentación por medio del atributo ```help(function)```. (Desde un entorno jupyter notebook: ¿Qué ocurre se presiona las teclas ```shift+tab``` con el cursor dentro de la función?"
   ]
  }
 ],
 "metadata": {
  "kernelspec": {
   "display_name": "Python 3 (ipykernel)",
   "language": "python",
   "name": "python3"
  },
  "language_info": {
   "codemirror_mode": {
    "name": "ipython",
    "version": 3
   },
   "file_extension": ".py",
   "mimetype": "text/x-python",
   "name": "python",
   "nbconvert_exporter": "python",
   "pygments_lexer": "ipython3",
   "version": "3.9.7"
  },
  "nbTranslate": {
   "displayLangs": [
    "es",
    "en"
   ],
   "hotkey": "alt-t",
   "langInMainMenu": true,
   "sourceLang": "en",
   "targetLang": "es",
   "useGoogleTranslate": true
  },
  "toc": {
   "base_numbering": 1,
   "nav_menu": {},
   "number_sections": true,
   "sideBar": true,
   "skip_h1_title": false,
   "title_cell": "Table of Contents",
   "title_sidebar": "Contents",
   "toc_cell": false,
   "toc_position": {
    "height": "calc(100% - 180px)",
    "left": "10px",
    "top": "150px",
    "width": "269.717px"
   },
   "toc_section_display": true,
   "toc_window_display": false
  },
  "varInspector": {
   "cols": {
    "lenName": 16,
    "lenType": 16,
    "lenVar": 40
   },
   "kernels_config": {
    "python": {
     "delete_cmd_postfix": "",
     "delete_cmd_prefix": "del ",
     "library": "var_list.py",
     "varRefreshCmd": "print(var_dic_list())"
    },
    "r": {
     "delete_cmd_postfix": ") ",
     "delete_cmd_prefix": "rm(",
     "library": "var_list.r",
     "varRefreshCmd": "cat(var_dic_list()) "
    }
   },
   "types_to_exclude": [
    "module",
    "function",
    "builtin_function_or_method",
    "instance",
    "_Feature"
   ],
   "window_display": false
  }
 },
 "nbformat": 4,
 "nbformat_minor": 4
}
