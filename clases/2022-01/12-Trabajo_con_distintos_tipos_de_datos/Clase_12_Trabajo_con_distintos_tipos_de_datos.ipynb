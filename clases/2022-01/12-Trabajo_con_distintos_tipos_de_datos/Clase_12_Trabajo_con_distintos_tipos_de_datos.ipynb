{
 "cells": [
  {
   "cell_type": "markdown",
   "id": "9327f25f",
   "metadata": {},
   "source": [
    "# Clase 12: Trabajando Con Distintos Tipos de Datos\n",
    "\n",
    "**MDS7202: Laboratorio de Programación Científica para Ciencia de Datos**\n",
    "\n",
    "**Profesor: Pablo Badilla**\n",
    "\n",
    "## Objetivos de la Clase\n",
    "\n",
    "- Comprender las interfaces que Python ofrece para trabajar usando datos de texto, temporales y categorías .\n",
    "\n",
    "### Roadmap\n",
    "\n",
    "\n",
    "**Unidad 2: Manejo de Datos con Pandas y AED**\n",
    "\n",
    "- [X] Introducción a Manejo de Datos Tabulares con Pandas\n",
    "- [X] Reorganización, Multi-Índices y Agregación de Datos.\n",
    "- [X] Concatenación y Combinación de Múltiples Fuentes de Datos.\n",
    "- [ ] Trabajo con strings y datos temporales, categóricos y ordinales en Pandas."
   ]
  },
  {
   "cell_type": "code",
   "execution_count": 1,
   "id": "1dcf9355",
   "metadata": {},
   "outputs": [],
   "source": [
    "import pandas as pd"
   ]
  },
  {
   "cell_type": "markdown",
   "id": "fa11886b-f0a5-44d7-8feb-aa74b59e8258",
   "metadata": {},
   "source": [
    "## Datasets de Hoy\n"
   ]
  },
  {
   "cell_type": "markdown",
   "id": "5c9afa10-9287-4b63-bf1b-8f699cc9a7ca",
   "metadata": {},
   "source": [
    "### Dataset de Temperaturas Globales\n",
    "\n",
    "![wbg_climate](./resources/wbg_climate.png)\n",
    "\n",
    "\n",
    "https://climateknowledgeportal.worldbank.org/download-data"
   ]
  },
  {
   "cell_type": "code",
   "execution_count": 2,
   "id": "00acad00-8a60-4dcd-8d00-ed63d4becf82",
   "metadata": {},
   "outputs": [
    {
     "data": {
      "text/html": [
       "<div>\n",
       "<style scoped>\n",
       "    .dataframe tbody tr th:only-of-type {\n",
       "        vertical-align: middle;\n",
       "    }\n",
       "\n",
       "    .dataframe tbody tr th {\n",
       "        vertical-align: top;\n",
       "    }\n",
       "\n",
       "    .dataframe thead th {\n",
       "        text-align: right;\n",
       "    }\n",
       "</style>\n",
       "<table border=\"1\" class=\"dataframe\">\n",
       "  <thead>\n",
       "    <tr style=\"text-align: right;\">\n",
       "      <th></th>\n",
       "      <th>Temperature</th>\n",
       "      <th>Year</th>\n",
       "      <th>Month</th>\n",
       "      <th>Country</th>\n",
       "      <th>ISO3</th>\n",
       "    </tr>\n",
       "  </thead>\n",
       "  <tbody>\n",
       "    <tr>\n",
       "      <th>0</th>\n",
       "      <td>-0.03110</td>\n",
       "      <td>1991</td>\n",
       "      <td>Jan</td>\n",
       "      <td>Afghanistan</td>\n",
       "      <td>AFG</td>\n",
       "    </tr>\n",
       "    <tr>\n",
       "      <th>1</th>\n",
       "      <td>1.43654</td>\n",
       "      <td>1991</td>\n",
       "      <td>Feb</td>\n",
       "      <td>Afghanistan</td>\n",
       "      <td>AFG</td>\n",
       "    </tr>\n",
       "    <tr>\n",
       "      <th>2</th>\n",
       "      <td>6.88685</td>\n",
       "      <td>1991</td>\n",
       "      <td>Mar</td>\n",
       "      <td>Afghanistan</td>\n",
       "      <td>AFG</td>\n",
       "    </tr>\n",
       "  </tbody>\n",
       "</table>\n",
       "</div>"
      ],
      "text/plain": [
       "   Temperature  Year Month      Country ISO3\n",
       "0     -0.03110  1991   Jan  Afghanistan  AFG\n",
       "1      1.43654  1991   Feb  Afghanistan  AFG\n",
       "2      6.88685  1991   Mar  Afghanistan  AFG"
      ]
     },
     "execution_count": 2,
     "metadata": {},
     "output_type": "execute_result"
    }
   ],
   "source": [
    "temp_df = pd.read_csv(\"./resources/temperature.csv\")\n",
    "temp_df.head(3)"
   ]
  },
  {
   "cell_type": "code",
   "execution_count": 3,
   "id": "12a20681-022d-4bf7-9696-0cfc34979d6e",
   "metadata": {},
   "outputs": [],
   "source": [
    "# setear opciones para mostrar todas las filas y columnas\n",
    "# cuidado al ejecutar esto en sus notebooks, se puede quedar pegado el navegador!\n",
    "pd.set_option(\"display.max_colwidth\", None)\n",
    "pd.set_option(\"display.max_colwidth\", None)"
   ]
  },
  {
   "cell_type": "markdown",
   "id": "cabf8b6a",
   "metadata": {},
   "source": [
    "---\n",
    "\n",
    "## 1.- Strings\n",
    "\n",
    "Es común que los datasets incluyan por lo menos una columna que contiene texto. Por lo general, el texto no es utilizable tal como viene (desordenado y sucio) por lo que preprocesarlo antes de utilizarlo es una tarea que se debe dominar.\n",
    "\n",
    "Las `Series` de pandas implementan diversos métodos de procesamiento de string que permiten operar facilmente con estos. Por lo general, estos métodos son una réplica de los métodos originales de la clase built-in `string`.\n",
    "\n",
    "<div align='center'>\n",
    "<img src='./resources/pets.jpg' alt='Mascotas' width=600/>\n",
    "</div>"
   ]
  },
  {
   "cell_type": "code",
   "execution_count": 4,
   "id": "185d95a9",
   "metadata": {},
   "outputs": [
    {
     "data": {
      "text/html": [
       "<div>\n",
       "<style scoped>\n",
       "    .dataframe tbody tr th:only-of-type {\n",
       "        vertical-align: middle;\n",
       "    }\n",
       "\n",
       "    .dataframe tbody tr th {\n",
       "        vertical-align: top;\n",
       "    }\n",
       "\n",
       "    .dataframe thead th {\n",
       "        text-align: right;\n",
       "    }\n",
       "</style>\n",
       "<table border=\"1\" class=\"dataframe\">\n",
       "  <thead>\n",
       "    <tr style=\"text-align: right;\">\n",
       "      <th></th>\n",
       "      <th>nombre</th>\n",
       "      <th>descripcion</th>\n",
       "    </tr>\n",
       "  </thead>\n",
       "  <tbody>\n",
       "    <tr>\n",
       "      <th>0</th>\n",
       "      <td>Perro</td>\n",
       "      <td>El perro (Canis familiaris o Canis lupus familiaris, dependiendo de si se lo considera una especie por derecho propio o una subespecie del lobo),1​2​3​ llamado perro doméstico o can,4​ y en algunos lugares coloquialmente llamado chucho,5​ tuso,6​ choco,7​ entre otros; es un mamífero carnívoro de la familia de los cánidos, que constituye una especie del género Canis.8​9​ En el 2013, la población mundial estimada de perros estaba entre setecientos millones y novecientos ochenta y siete millones.10​11​ Su tamaño (o talla), su forma y su pelaje es muy diverso, según la raza. Posee un oído y un olfato muy desarrollados, y este último es su principal órgano sensorial. Su longevidad media es de diez a trece años,12​13​14​ dependiendo de la raza.</td>\n",
       "    </tr>\n",
       "    <tr>\n",
       "      <th>1</th>\n",
       "      <td>Gato</td>\n",
       "      <td>El gato doméstico1​2​ (Felis silvestris catus), llamado popularmente gato, y de forma coloquial minino,3​ michino,4​ michi,5​ micho,6​ mizo,7​ miz,8​ morroño9​ o morrongo,10​ entre otros nombres, es un mamífero carnívoro de la familia Felidae. Es una subespecie domesticada por la convivencia con el ser humano. El gato se comunica a través de vocalizaciones. Las más populares son su característico maullido y el ronroneo, pero puede aullar, gemir, gruñir y bufar.11​Los gatos desarrollaron el maullido con la única finalidad de poder comunicarse con el ser humano. Además, adopta poses o expresiones que informan, a sus congéneres, sus enemigos o sus cuidadores, de su ánimo o sus intenciones.</td>\n",
       "    </tr>\n",
       "    <tr>\n",
       "      <th>2</th>\n",
       "      <td>Hamster</td>\n",
       "      <td>Los cricetinos (Cricetinae) son una subfamilia de roedores, conocidos comúnmente como hámsteres (un germanismo).2​3​ Se han identificado diecinueve especies actuales, agrupadas en siete géneros. La mayoría son originarias de Oriente Medio y del sureste de los Estados Unidos. Todas las especies se caracterizan por las bolsas expansibles, llamadas abazones, ubicadas en el interior de la boca y que van desde las mejillas hasta los hombros. Al ser muy fáciles de criar en cautividad, son ampliamente usados como animales de laboratorio y como mascotas.</td>\n",
       "    </tr>\n",
       "    <tr>\n",
       "      <th>3</th>\n",
       "      <td>Cuy</td>\n",
       "      <td>Cavia porcellus, conocida como cuy, cuye, cuyo, cobaya, cobayo, acure, güimo o conejillo de Indias, es una especie híbrida doméstica de roedor histricomorfo de la familia Caviidae. Es el resultado del cruce milenario de varias especies del género Cavia realizado en la región andina de América del Sur, habiéndose encontrado registros arqueológicos en Colombia, Ecuador, Perú y Bolivia. Fue una ofrenda en tiempos antiguos para su Dios.1​</td>\n",
       "    </tr>\n",
       "    <tr>\n",
       "      <th>4</th>\n",
       "      <td>Canario</td>\n",
       "      <td>El canario doméstico (Serinus canaria domestica)3​4​ es una subespecie desarrollada durante siglos de selección en cautividad partiendo de ejemplares del canario silvestre o canario salvaje (Serinus canaria), una especie de ave del orden paseriforme de la familia de los fringílidos, endémica de las islas Canarias, Azores y Madeira.5​6​Es el ave doméstica criada como animal de compañía más abundante del mundo junto con el periquito. A pesar de esto, no se conocen poblaciones asilvestradas.</td>\n",
       "    </tr>\n",
       "  </tbody>\n",
       "</table>\n",
       "</div>"
      ],
      "text/plain": [
       "    nombre  \\\n",
       "0    Perro   \n",
       "1     Gato   \n",
       "2  Hamster   \n",
       "3      Cuy   \n",
       "4  Canario   \n",
       "\n",
       "                                                                                                                                                                                                                                                                                                                                                                                                                                                                                                                                                                                                                                                                                                                                                                     descripcion  \n",
       "0  El perro (Canis familiaris o Canis lupus familiaris, dependiendo de si se lo considera una especie por derecho propio o una subespecie del lobo),1​2​3​ llamado perro doméstico o can,4​ y en algunos lugares coloquialmente llamado chucho,5​ tuso,6​ choco,7​ entre otros; es un mamífero carnívoro de la familia de los cánidos, que constituye una especie del género Canis.8​9​ En el 2013, la población mundial estimada de perros estaba entre setecientos millones y novecientos ochenta y siete millones.10​11​ Su tamaño (o talla), su forma y su pelaje es muy diverso, según la raza. Posee un oído y un olfato muy desarrollados, y este último es su principal órgano sensorial. Su longevidad media es de diez a trece años,12​13​14​ dependiendo de la raza.   \n",
       "1                                                       El gato doméstico1​2​ (Felis silvestris catus), llamado popularmente gato, y de forma coloquial minino,3​ michino,4​ michi,5​ micho,6​ mizo,7​ miz,8​ morroño9​ o morrongo,10​ entre otros nombres, es un mamífero carnívoro de la familia Felidae. Es una subespecie domesticada por la convivencia con el ser humano. El gato se comunica a través de vocalizaciones. Las más populares son su característico maullido y el ronroneo, pero puede aullar, gemir, gruñir y bufar.11​Los gatos desarrollaron el maullido con la única finalidad de poder comunicarse con el ser humano. Además, adopta poses o expresiones que informan, a sus congéneres, sus enemigos o sus cuidadores, de su ánimo o sus intenciones.   \n",
       "2                                                                                                                                                                                                      Los cricetinos (Cricetinae) son una subfamilia de roedores, conocidos comúnmente como hámsteres (un germanismo).2​3​ Se han identificado diecinueve especies actuales, agrupadas en siete géneros. La mayoría son originarias de Oriente Medio y del sureste de los Estados Unidos. Todas las especies se caracterizan por las bolsas expansibles, llamadas abazones, ubicadas en el interior de la boca y que van desde las mejillas hasta los hombros. Al ser muy fáciles de criar en cautividad, son ampliamente usados como animales de laboratorio y como mascotas.   \n",
       "3                                                                                                                                                                                                                                                                                                                        Cavia porcellus, conocida como cuy, cuye, cuyo, cobaya, cobayo, acure, güimo o conejillo de Indias, es una especie híbrida doméstica de roedor histricomorfo de la familia Caviidae. Es el resultado del cruce milenario de varias especies del género Cavia realizado en la región andina de América del Sur, habiéndose encontrado registros arqueológicos en Colombia, Ecuador, Perú y Bolivia. Fue una ofrenda en tiempos antiguos para su Dios.1​   \n",
       "4                                                                                                                                                                                                                                                                 El canario doméstico (Serinus canaria domestica)3​4​ es una subespecie desarrollada durante siglos de selección en cautividad partiendo de ejemplares del canario silvestre o canario salvaje (Serinus canaria), una especie de ave del orden paseriforme de la familia de los fringílidos, endémica de las islas Canarias, Azores y Madeira.5​6​Es el ave doméstica criada como animal de compañía más abundante del mundo junto con el periquito. A pesar de esto, no se conocen poblaciones asilvestradas.   "
      ]
     },
     "execution_count": 4,
     "metadata": {},
     "output_type": "execute_result"
    }
   ],
   "source": [
    "mascotas = [\n",
    "    (\n",
    "        \"Perro\",\n",
    "        \"El perro (Canis familiaris o Canis lupus familiaris, dependiendo de si se lo considera una especie por \"\n",
    "        \"derecho propio o una subespecie del lobo),1​2​3​ llamado perro doméstico o can,4​ y en algunos lugares\"\n",
    "        \" coloquialmente llamado chucho,5​ tuso,6​ choco,7​ entre otros; es un mamífero carnívoro de la familia de \"\n",
    "        \"los cánidos, que constituye una especie del género Canis.8​9​ En el 2013, la población mundial estimada \"\n",
    "        \"de perros estaba entre setecientos millones y novecientos ochenta y siete millones.10​11​ Su tamaño \"\n",
    "        \"(o talla), su forma y su pelaje es muy diverso, según la raza. Posee un oído y un olfato muy desarrollados,\"\n",
    "        \" y este último es su principal órgano sensorial. Su longevidad media es de diez a trece años,12​13​14​ \"\n",
    "        \"dependiendo de la raza. \",\n",
    "    ),\n",
    "    (\n",
    "        \"Gato\",\n",
    "        \"El gato doméstico1​2​ (Felis silvestris catus), llamado popularmente gato, y de forma coloquial minino,\"\n",
    "        \"3​ michino,4​ michi,5​ micho,6​ mizo,7​ miz,8​ morroño9​ o morrongo,10​ entre otros nombres, es un mamífero \"\n",
    "        \"carnívoro de la familia Felidae. Es una subespecie domesticada por la convivencia con el ser humano. \"\n",
    "        \"El gato se comunica a través de vocalizaciones. Las más populares son su característico maullido y el \"\n",
    "        \"ronroneo, pero puede aullar, gemir, gruñir y bufar.11​Los gatos desarrollaron el maullido con la única \"\n",
    "        \"finalidad de poder comunicarse con el ser humano. Además, adopta poses o expresiones que informan, \"\n",
    "        \"a sus congéneres, sus enemigos o sus cuidadores, de su ánimo o sus intenciones. \",\n",
    "    ),\n",
    "    (\n",
    "        \"Hamster\",\n",
    "        \"Los cricetinos (Cricetinae) son una subfamilia de roedores, conocidos comúnmente como hámsteres (un germanismo)\"\n",
    "        \".2​3​ Se han identificado diecinueve especies actuales, agrupadas en siete géneros. La mayoría son originarias \"\n",
    "        \"de Oriente Medio y del sureste de los Estados Unidos. Todas las especies se caracterizan por las bolsas \"\n",
    "        \"expansibles, llamadas abazones, ubicadas en el interior de la boca y que van desde las mejillas hasta los hombros.\"\n",
    "        \" Al ser muy fáciles de criar en cautividad, son ampliamente usados como animales de laboratorio y como mascotas. \",\n",
    "    ),\n",
    "    (\n",
    "        \"Cuy\",\n",
    "        \"Cavia porcellus, conocida como cuy, cuye, cuyo, cobaya, cobayo, acure, güimo o conejillo de Indias, es una especie \"\n",
    "        \"híbrida doméstica de roedor histricomorfo de la familia Caviidae. Es el resultado del cruce milenario de varias \"\n",
    "        \"especies del género Cavia realizado en la región andina de América del Sur, habiéndose encontrado registros \"\n",
    "        \"arqueológicos en Colombia, Ecuador, Perú y Bolivia. Fue una ofrenda en tiempos antiguos para su Dios.1​ \",\n",
    "    ),\n",
    "    (\n",
    "        \"Canario\",\n",
    "        \"El canario doméstico (Serinus canaria domestica)3​4​ es una subespecie desarrollada durante siglos de selección\"\n",
    "        \" en cautividad partiendo de ejemplares del canario silvestre o canario salvaje (Serinus canaria), una especie \"\n",
    "        \"de ave del orden paseriforme de la familia de los fringílidos, endémica de las islas Canarias, Azores y Madeira.5​6​\"\n",
    "        \"Es el ave doméstica criada como animal de compañía más abundante del mundo junto con el periquito. A pesar de esto, \"\n",
    "        \"no se conocen poblaciones asilvestradas. \",\n",
    "    ),\n",
    "]\n",
    "mascotas_df = pd.DataFrame(mascotas, columns=[\"nombre\", \"descripcion\"])\n",
    "mascotas_df"
   ]
  },
  {
   "cell_type": "code",
   "execution_count": 5,
   "id": "6c2a64bd",
   "metadata": {},
   "outputs": [
    {
     "data": {
      "text/plain": [
       "'El perro (Canis familiaris o Canis lupus familiaris, dependiendo de si se lo considera una especie por derecho propio o una subespecie del lobo),1\\u200b2\\u200b3\\u200b llamado perro doméstico o can,4\\u200b y en algunos lugares coloquialmente llamado chucho,5\\u200b tuso,6\\u200b choco,7\\u200b entre otros; es un mamífero carnívoro de la familia de los cánidos, que constituye una especie del género Canis.8\\u200b9\\u200b En el 2013, la población mundial estimada de perros estaba entre setecientos millones y novecientos ochenta y siete millones.10\\u200b11\\u200b Su tamaño (o talla), su forma y su pelaje es muy diverso, según la raza. Posee un oído y un olfato muy desarrollados, y este último es su principal órgano sensorial. Su longevidad media es de diez a trece años,12\\u200b13\\u200b14\\u200b dependiendo de la raza. '"
      ]
     },
     "execution_count": 5,
     "metadata": {},
     "output_type": "execute_result"
    }
   ],
   "source": [
    "desc_perro = mascotas_df.loc[0, \"descripcion\"]\n",
    "desc_perro"
   ]
  },
  {
   "cell_type": "markdown",
   "id": "388719ff",
   "metadata": {},
   "source": [
    "### Métodos de la Clase String\n",
    "\n",
    "Como se dijo anteriormente, la mayoría de los métodos para string que implementa pandas sobre las `Series` son una réplica de los métodos implementados por la clase `String`. \n",
    "\n",
    "A continuación veremos un par de ejemplos de los métodos de strings y como utilizar estos métodos sobre una serie."
   ]
  },
  {
   "cell_type": "code",
   "execution_count": 6,
   "id": "95e61cff",
   "metadata": {},
   "outputs": [
    {
     "data": {
      "text/plain": [
       "749"
      ]
     },
     "execution_count": 6,
     "metadata": {},
     "output_type": "execute_result"
    }
   ],
   "source": [
    "len(desc_perro)"
   ]
  },
  {
   "cell_type": "code",
   "execution_count": 7,
   "id": "b97db599",
   "metadata": {},
   "outputs": [
    {
     "data": {
      "text/plain": [
       "'el perro (canis familiaris o canis lupus familiaris, dependiendo de si se lo considera una especie por derecho propio o una subespecie del lobo),1\\u200b2\\u200b3\\u200b llamado perro doméstico o can,4\\u200b y en algunos lugares coloquialmente llamado chucho,5\\u200b tuso,6\\u200b choco,7\\u200b entre otros; es un mamífero carnívoro de la familia de los cánidos, que constituye una especie del género canis.8\\u200b9\\u200b en el 2013, la población mundial estimada de perros estaba entre setecientos millones y novecientos ochenta y siete millones.10\\u200b11\\u200b su tamaño (o talla), su forma y su pelaje es muy diverso, según la raza. posee un oído y un olfato muy desarrollados, y este último es su principal órgano sensorial. su longevidad media es de diez a trece años,12\\u200b13\\u200b14\\u200b dependiendo de la raza. '"
      ]
     },
     "execution_count": 7,
     "metadata": {},
     "output_type": "execute_result"
    }
   ],
   "source": [
    "desc_perro.lower()"
   ]
  },
  {
   "cell_type": "code",
   "execution_count": 8,
   "id": "c7a687ee",
   "metadata": {},
   "outputs": [
    {
     "data": {
      "text/plain": [
       "'EL PERRO (CANIS FAMILIARIS O CANIS LUPUS FAMILIARIS, DEPENDIENDO DE SI SE LO CONSIDERA UNA ESPECIE POR DERECHO PROPIO O UNA SUBESPECIE DEL LOBO),1\\u200b2\\u200b3\\u200b LLAMADO PERRO DOMÉSTICO O CAN,4\\u200b Y EN ALGUNOS LUGARES COLOQUIALMENTE LLAMADO CHUCHO,5\\u200b TUSO,6\\u200b CHOCO,7\\u200b ENTRE OTROS; ES UN MAMÍFERO CARNÍVORO DE LA FAMILIA DE LOS CÁNIDOS, QUE CONSTITUYE UNA ESPECIE DEL GÉNERO CANIS.8\\u200b9\\u200b EN EL 2013, LA POBLACIÓN MUNDIAL ESTIMADA DE PERROS ESTABA ENTRE SETECIENTOS MILLONES Y NOVECIENTOS OCHENTA Y SIETE MILLONES.10\\u200b11\\u200b SU TAMAÑO (O TALLA), SU FORMA Y SU PELAJE ES MUY DIVERSO, SEGÚN LA RAZA. POSEE UN OÍDO Y UN OLFATO MUY DESARROLLADOS, Y ESTE ÚLTIMO ES SU PRINCIPAL ÓRGANO SENSORIAL. SU LONGEVIDAD MEDIA ES DE DIEZ A TRECE AÑOS,12\\u200b13\\u200b14\\u200b DEPENDIENDO DE LA RAZA. '"
      ]
     },
     "execution_count": 8,
     "metadata": {},
     "output_type": "execute_result"
    }
   ],
   "source": [
    "desc_perro.upper()"
   ]
  },
  {
   "cell_type": "code",
   "execution_count": 9,
   "id": "0e0ff0b4",
   "metadata": {},
   "outputs": [
    {
     "data": {
      "text/plain": [
       "'El Perro (Canis Familiaris O Canis Lupus Familiaris, Dependiendo De Si Se Lo Considera Una Especie Por Derecho Propio O Una Subespecie Del Lobo),1\\u200b2\\u200b3\\u200b Llamado Perro Doméstico O Can,4\\u200b Y En Algunos Lugares Coloquialmente Llamado Chucho,5\\u200b Tuso,6\\u200b Choco,7\\u200b Entre Otros; Es Un Mamífero Carnívoro De La Familia De Los Cánidos, Que Constituye Una Especie Del Género Canis.8\\u200b9\\u200b En El 2013, La Población Mundial Estimada De Perros Estaba Entre Setecientos Millones Y Novecientos Ochenta Y Siete Millones.10\\u200b11\\u200b Su Tamaño (O Talla), Su Forma Y Su Pelaje Es Muy Diverso, Según La Raza. Posee Un Oído Y Un Olfato Muy Desarrollados, Y Este Último Es Su Principal Órgano Sensorial. Su Longevidad Media Es De Diez A Trece Años,12\\u200b13\\u200b14\\u200b Dependiendo De La Raza. '"
      ]
     },
     "execution_count": 9,
     "metadata": {},
     "output_type": "execute_result"
    }
   ],
   "source": [
    "desc_perro.title()"
   ]
  },
  {
   "cell_type": "code",
   "execution_count": 10,
   "id": "0c6f6d83",
   "metadata": {},
   "outputs": [
    {
     "data": {
      "text/plain": [
       "['El',\n",
       " 'perro',\n",
       " '(Canis',\n",
       " 'familiaris',\n",
       " 'o',\n",
       " 'Canis',\n",
       " 'lupus',\n",
       " 'familiaris,',\n",
       " 'dependiendo',\n",
       " 'de',\n",
       " 'si',\n",
       " 'se',\n",
       " 'lo',\n",
       " 'considera',\n",
       " 'una',\n",
       " 'especie',\n",
       " 'por',\n",
       " 'derecho',\n",
       " 'propio',\n",
       " 'o',\n",
       " 'una',\n",
       " 'subespecie',\n",
       " 'del',\n",
       " 'lobo),1\\u200b2\\u200b3\\u200b',\n",
       " 'llamado',\n",
       " 'perro',\n",
       " 'doméstico',\n",
       " 'o',\n",
       " 'can,4\\u200b',\n",
       " 'y',\n",
       " 'en',\n",
       " 'algunos',\n",
       " 'lugares',\n",
       " 'coloquialmente',\n",
       " 'llamado',\n",
       " 'chucho,5\\u200b',\n",
       " 'tuso,6\\u200b',\n",
       " 'choco,7\\u200b',\n",
       " 'entre',\n",
       " 'otros;',\n",
       " 'es',\n",
       " 'un',\n",
       " 'mamífero',\n",
       " 'carnívoro',\n",
       " 'de',\n",
       " 'la',\n",
       " 'familia',\n",
       " 'de',\n",
       " 'los',\n",
       " 'cánidos,',\n",
       " 'que',\n",
       " 'constituye',\n",
       " 'una',\n",
       " 'especie',\n",
       " 'del',\n",
       " 'género',\n",
       " 'Canis.8\\u200b9\\u200b',\n",
       " 'En',\n",
       " 'el',\n",
       " '2013,',\n",
       " 'la',\n",
       " 'población',\n",
       " 'mundial',\n",
       " 'estimada',\n",
       " 'de',\n",
       " 'perros',\n",
       " 'estaba',\n",
       " 'entre',\n",
       " 'setecientos',\n",
       " 'millones',\n",
       " 'y',\n",
       " 'novecientos',\n",
       " 'ochenta',\n",
       " 'y',\n",
       " 'siete',\n",
       " 'millones.10\\u200b11\\u200b',\n",
       " 'Su',\n",
       " 'tamaño',\n",
       " '(o',\n",
       " 'talla),',\n",
       " 'su',\n",
       " 'forma',\n",
       " 'y',\n",
       " 'su',\n",
       " 'pelaje',\n",
       " 'es',\n",
       " 'muy',\n",
       " 'diverso,',\n",
       " 'según',\n",
       " 'la',\n",
       " 'raza.',\n",
       " 'Posee',\n",
       " 'un',\n",
       " 'oído',\n",
       " 'y',\n",
       " 'un',\n",
       " 'olfato',\n",
       " 'muy',\n",
       " 'desarrollados,',\n",
       " 'y',\n",
       " 'este',\n",
       " 'último',\n",
       " 'es',\n",
       " 'su',\n",
       " 'principal',\n",
       " 'órgano',\n",
       " 'sensorial.',\n",
       " 'Su',\n",
       " 'longevidad',\n",
       " 'media',\n",
       " 'es',\n",
       " 'de',\n",
       " 'diez',\n",
       " 'a',\n",
       " 'trece',\n",
       " 'años,12\\u200b13\\u200b14\\u200b',\n",
       " 'dependiendo',\n",
       " 'de',\n",
       " 'la',\n",
       " 'raza.',\n",
       " '']"
      ]
     },
     "execution_count": 10,
     "metadata": {},
     "output_type": "execute_result"
    }
   ],
   "source": [
    "desc_perro.split(\" \")"
   ]
  },
  {
   "cell_type": "code",
   "execution_count": 11,
   "id": "fa3f7ef8",
   "metadata": {},
   "outputs": [
    {
     "data": {
      "text/plain": [
       "'Este-string-(ya no)-esta-separado'"
      ]
     },
     "execution_count": 11,
     "metadata": {},
     "output_type": "execute_result"
    }
   ],
   "source": [
    "\"-\".join([\"Este\", \"string\", \"(ya no)\", \"esta\", \"separado\"])"
   ]
  },
  {
   "cell_type": "code",
   "execution_count": 12,
   "id": "4d4843eb",
   "metadata": {},
   "outputs": [
    {
     "data": {
      "text/plain": [
       "True"
      ]
     },
     "execution_count": 12,
     "metadata": {},
     "output_type": "execute_result"
    }
   ],
   "source": [
    "\"perro\" in desc_perro"
   ]
  },
  {
   "cell_type": "code",
   "execution_count": 13,
   "id": "e298012d",
   "metadata": {},
   "outputs": [
    {
     "data": {
      "text/plain": [
       "False"
      ]
     },
     "execution_count": 13,
     "metadata": {},
     "output_type": "execute_result"
    }
   ],
   "source": [
    "\"gato\" in desc_perro"
   ]
  },
  {
   "cell_type": "markdown",
   "id": "6d9834dc",
   "metadata": {},
   "source": [
    "### Strings En Las Series"
   ]
  },
  {
   "cell_type": "code",
   "execution_count": 14,
   "id": "78d21062",
   "metadata": {},
   "outputs": [
    {
     "data": {
      "text/plain": [
       "0    El perro (Canis familiaris o Canis lupus familiaris, dependiendo de si se lo considera una especie por derecho propio o una subespecie del lobo),1​2​3​ llamado perro doméstico o can,4​ y en algunos lugares coloquialmente llamado chucho,5​ tuso,6​ choco,7​ entre otros; es un mamífero carnívoro de la familia de los cánidos, que constituye una especie del género Canis.8​9​ En el 2013, la población mundial estimada de perros estaba entre setecientos millones y novecientos ochenta y siete millones.10​11​ Su tamaño (o talla), su forma y su pelaje es muy diverso, según la raza. Posee un oído y un olfato muy desarrollados, y este último es su principal órgano sensorial. Su longevidad media es de diez a trece años,12​13​14​ dependiendo de la raza. \n",
       "1                                                         El gato doméstico1​2​ (Felis silvestris catus), llamado popularmente gato, y de forma coloquial minino,3​ michino,4​ michi,5​ micho,6​ mizo,7​ miz,8​ morroño9​ o morrongo,10​ entre otros nombres, es un mamífero carnívoro de la familia Felidae. Es una subespecie domesticada por la convivencia con el ser humano. El gato se comunica a través de vocalizaciones. Las más populares son su característico maullido y el ronroneo, pero puede aullar, gemir, gruñir y bufar.11​Los gatos desarrollaron el maullido con la única finalidad de poder comunicarse con el ser humano. Además, adopta poses o expresiones que informan, a sus congéneres, sus enemigos o sus cuidadores, de su ánimo o sus intenciones. \n",
       "2                                                                                                                                                                                                        Los cricetinos (Cricetinae) son una subfamilia de roedores, conocidos comúnmente como hámsteres (un germanismo).2​3​ Se han identificado diecinueve especies actuales, agrupadas en siete géneros. La mayoría son originarias de Oriente Medio y del sureste de los Estados Unidos. Todas las especies se caracterizan por las bolsas expansibles, llamadas abazones, ubicadas en el interior de la boca y que van desde las mejillas hasta los hombros. Al ser muy fáciles de criar en cautividad, son ampliamente usados como animales de laboratorio y como mascotas. \n",
       "3                                                                                                                                                                                                                                                                                                                          Cavia porcellus, conocida como cuy, cuye, cuyo, cobaya, cobayo, acure, güimo o conejillo de Indias, es una especie híbrida doméstica de roedor histricomorfo de la familia Caviidae. Es el resultado del cruce milenario de varias especies del género Cavia realizado en la región andina de América del Sur, habiéndose encontrado registros arqueológicos en Colombia, Ecuador, Perú y Bolivia. Fue una ofrenda en tiempos antiguos para su Dios.1​ \n",
       "4                                                                                                                                                                                                                                                                   El canario doméstico (Serinus canaria domestica)3​4​ es una subespecie desarrollada durante siglos de selección en cautividad partiendo de ejemplares del canario silvestre o canario salvaje (Serinus canaria), una especie de ave del orden paseriforme de la familia de los fringílidos, endémica de las islas Canarias, Azores y Madeira.5​6​Es el ave doméstica criada como animal de compañía más abundante del mundo junto con el periquito. A pesar de esto, no se conocen poblaciones asilvestradas. \n",
       "Name: descripcion, dtype: object"
      ]
     },
     "execution_count": 14,
     "metadata": {},
     "output_type": "execute_result"
    }
   ],
   "source": [
    "mascotas_df[\"descripcion\"]"
   ]
  },
  {
   "cell_type": "markdown",
   "id": "f15e4c15",
   "metadata": {},
   "source": [
    "#### Len, Lower, Upper, Title y Capitalize"
   ]
  },
  {
   "cell_type": "code",
   "execution_count": 16,
   "id": "8d9ff791-3a0b-490c-a237-012323d90ae1",
   "metadata": {},
   "outputs": [
    {
     "data": {
      "text/plain": [
       "<pandas.core.strings.accessor.StringMethods at 0x7f4c3856f490>"
      ]
     },
     "execution_count": 16,
     "metadata": {},
     "output_type": "execute_result"
    }
   ],
   "source": [
    "mascotas_df[\"descripcion\"].str"
   ]
  },
  {
   "cell_type": "code",
   "execution_count": 15,
   "id": "73d97536",
   "metadata": {},
   "outputs": [
    {
     "data": {
      "text/plain": [
       "0    749\n",
       "1    696\n",
       "2    553\n",
       "3    439\n",
       "4    494\n",
       "Name: descripcion, dtype: int64"
      ]
     },
     "execution_count": 15,
     "metadata": {},
     "output_type": "execute_result"
    }
   ],
   "source": [
    "mascotas_df[\"descripcion\"].str.len()"
   ]
  },
  {
   "cell_type": "code",
   "execution_count": 17,
   "id": "11fdef32",
   "metadata": {},
   "outputs": [
    {
     "data": {
      "text/plain": [
       "0    el perro (canis familiaris o canis lupus familiaris, dependiendo de si se lo considera una especie por derecho propio o una subespecie del lobo),1​2​3​ llamado perro doméstico o can,4​ y en algunos lugares coloquialmente llamado chucho,5​ tuso,6​ choco,7​ entre otros; es un mamífero carnívoro de la familia de los cánidos, que constituye una especie del género canis.8​9​ en el 2013, la población mundial estimada de perros estaba entre setecientos millones y novecientos ochenta y siete millones.10​11​ su tamaño (o talla), su forma y su pelaje es muy diverso, según la raza. posee un oído y un olfato muy desarrollados, y este último es su principal órgano sensorial. su longevidad media es de diez a trece años,12​13​14​ dependiendo de la raza. \n",
       "1                                                         el gato doméstico1​2​ (felis silvestris catus), llamado popularmente gato, y de forma coloquial minino,3​ michino,4​ michi,5​ micho,6​ mizo,7​ miz,8​ morroño9​ o morrongo,10​ entre otros nombres, es un mamífero carnívoro de la familia felidae. es una subespecie domesticada por la convivencia con el ser humano. el gato se comunica a través de vocalizaciones. las más populares son su característico maullido y el ronroneo, pero puede aullar, gemir, gruñir y bufar.11​los gatos desarrollaron el maullido con la única finalidad de poder comunicarse con el ser humano. además, adopta poses o expresiones que informan, a sus congéneres, sus enemigos o sus cuidadores, de su ánimo o sus intenciones. \n",
       "2                                                                                                                                                                                                        los cricetinos (cricetinae) son una subfamilia de roedores, conocidos comúnmente como hámsteres (un germanismo).2​3​ se han identificado diecinueve especies actuales, agrupadas en siete géneros. la mayoría son originarias de oriente medio y del sureste de los estados unidos. todas las especies se caracterizan por las bolsas expansibles, llamadas abazones, ubicadas en el interior de la boca y que van desde las mejillas hasta los hombros. al ser muy fáciles de criar en cautividad, son ampliamente usados como animales de laboratorio y como mascotas. \n",
       "3                                                                                                                                                                                                                                                                                                                          cavia porcellus, conocida como cuy, cuye, cuyo, cobaya, cobayo, acure, güimo o conejillo de indias, es una especie híbrida doméstica de roedor histricomorfo de la familia caviidae. es el resultado del cruce milenario de varias especies del género cavia realizado en la región andina de américa del sur, habiéndose encontrado registros arqueológicos en colombia, ecuador, perú y bolivia. fue una ofrenda en tiempos antiguos para su dios.1​ \n",
       "4                                                                                                                                                                                                                                                                   el canario doméstico (serinus canaria domestica)3​4​ es una subespecie desarrollada durante siglos de selección en cautividad partiendo de ejemplares del canario silvestre o canario salvaje (serinus canaria), una especie de ave del orden paseriforme de la familia de los fringílidos, endémica de las islas canarias, azores y madeira.5​6​es el ave doméstica criada como animal de compañía más abundante del mundo junto con el periquito. a pesar de esto, no se conocen poblaciones asilvestradas. \n",
       "Name: descripcion, dtype: object"
      ]
     },
     "execution_count": 17,
     "metadata": {},
     "output_type": "execute_result"
    }
   ],
   "source": [
    "mascotas_df[\"descripcion\"].str.lower()"
   ]
  },
  {
   "cell_type": "code",
   "execution_count": 18,
   "id": "f657a04d",
   "metadata": {},
   "outputs": [
    {
     "data": {
      "text/plain": [
       "0    EL PERRO (CANIS FAMILIARIS O CANIS LUPUS FAMILIARIS, DEPENDIENDO DE SI SE LO CONSIDERA UNA ESPECIE POR DERECHO PROPIO O UNA SUBESPECIE DEL LOBO),1​2​3​ LLAMADO PERRO DOMÉSTICO O CAN,4​ Y EN ALGUNOS LUGARES COLOQUIALMENTE LLAMADO CHUCHO,5​ TUSO,6​ CHOCO,7​ ENTRE OTROS; ES UN MAMÍFERO CARNÍVORO DE LA FAMILIA DE LOS CÁNIDOS, QUE CONSTITUYE UNA ESPECIE DEL GÉNERO CANIS.8​9​ EN EL 2013, LA POBLACIÓN MUNDIAL ESTIMADA DE PERROS ESTABA ENTRE SETECIENTOS MILLONES Y NOVECIENTOS OCHENTA Y SIETE MILLONES.10​11​ SU TAMAÑO (O TALLA), SU FORMA Y SU PELAJE ES MUY DIVERSO, SEGÚN LA RAZA. POSEE UN OÍDO Y UN OLFATO MUY DESARROLLADOS, Y ESTE ÚLTIMO ES SU PRINCIPAL ÓRGANO SENSORIAL. SU LONGEVIDAD MEDIA ES DE DIEZ A TRECE AÑOS,12​13​14​ DEPENDIENDO DE LA RAZA. \n",
       "1                                                         EL GATO DOMÉSTICO1​2​ (FELIS SILVESTRIS CATUS), LLAMADO POPULARMENTE GATO, Y DE FORMA COLOQUIAL MININO,3​ MICHINO,4​ MICHI,5​ MICHO,6​ MIZO,7​ MIZ,8​ MORROÑO9​ O MORRONGO,10​ ENTRE OTROS NOMBRES, ES UN MAMÍFERO CARNÍVORO DE LA FAMILIA FELIDAE. ES UNA SUBESPECIE DOMESTICADA POR LA CONVIVENCIA CON EL SER HUMANO. EL GATO SE COMUNICA A TRAVÉS DE VOCALIZACIONES. LAS MÁS POPULARES SON SU CARACTERÍSTICO MAULLIDO Y EL RONRONEO, PERO PUEDE AULLAR, GEMIR, GRUÑIR Y BUFAR.11​LOS GATOS DESARROLLARON EL MAULLIDO CON LA ÚNICA FINALIDAD DE PODER COMUNICARSE CON EL SER HUMANO. ADEMÁS, ADOPTA POSES O EXPRESIONES QUE INFORMAN, A SUS CONGÉNERES, SUS ENEMIGOS O SUS CUIDADORES, DE SU ÁNIMO O SUS INTENCIONES. \n",
       "2                                                                                                                                                                                                        LOS CRICETINOS (CRICETINAE) SON UNA SUBFAMILIA DE ROEDORES, CONOCIDOS COMÚNMENTE COMO HÁMSTERES (UN GERMANISMO).2​3​ SE HAN IDENTIFICADO DIECINUEVE ESPECIES ACTUALES, AGRUPADAS EN SIETE GÉNEROS. LA MAYORÍA SON ORIGINARIAS DE ORIENTE MEDIO Y DEL SURESTE DE LOS ESTADOS UNIDOS. TODAS LAS ESPECIES SE CARACTERIZAN POR LAS BOLSAS EXPANSIBLES, LLAMADAS ABAZONES, UBICADAS EN EL INTERIOR DE LA BOCA Y QUE VAN DESDE LAS MEJILLAS HASTA LOS HOMBROS. AL SER MUY FÁCILES DE CRIAR EN CAUTIVIDAD, SON AMPLIAMENTE USADOS COMO ANIMALES DE LABORATORIO Y COMO MASCOTAS. \n",
       "3                                                                                                                                                                                                                                                                                                                          CAVIA PORCELLUS, CONOCIDA COMO CUY, CUYE, CUYO, COBAYA, COBAYO, ACURE, GÜIMO O CONEJILLO DE INDIAS, ES UNA ESPECIE HÍBRIDA DOMÉSTICA DE ROEDOR HISTRICOMORFO DE LA FAMILIA CAVIIDAE. ES EL RESULTADO DEL CRUCE MILENARIO DE VARIAS ESPECIES DEL GÉNERO CAVIA REALIZADO EN LA REGIÓN ANDINA DE AMÉRICA DEL SUR, HABIÉNDOSE ENCONTRADO REGISTROS ARQUEOLÓGICOS EN COLOMBIA, ECUADOR, PERÚ Y BOLIVIA. FUE UNA OFRENDA EN TIEMPOS ANTIGUOS PARA SU DIOS.1​ \n",
       "4                                                                                                                                                                                                                                                                   EL CANARIO DOMÉSTICO (SERINUS CANARIA DOMESTICA)3​4​ ES UNA SUBESPECIE DESARROLLADA DURANTE SIGLOS DE SELECCIÓN EN CAUTIVIDAD PARTIENDO DE EJEMPLARES DEL CANARIO SILVESTRE O CANARIO SALVAJE (SERINUS CANARIA), UNA ESPECIE DE AVE DEL ORDEN PASERIFORME DE LA FAMILIA DE LOS FRINGÍLIDOS, ENDÉMICA DE LAS ISLAS CANARIAS, AZORES Y MADEIRA.5​6​ES EL AVE DOMÉSTICA CRIADA COMO ANIMAL DE COMPAÑÍA MÁS ABUNDANTE DEL MUNDO JUNTO CON EL PERIQUITO. A PESAR DE ESTO, NO SE CONOCEN POBLACIONES ASILVESTRADAS. \n",
       "Name: descripcion, dtype: object"
      ]
     },
     "execution_count": 18,
     "metadata": {},
     "output_type": "execute_result"
    }
   ],
   "source": [
    "mascotas_df[\"descripcion\"].str.upper()"
   ]
  },
  {
   "cell_type": "code",
   "execution_count": 19,
   "id": "c94f097b",
   "metadata": {},
   "outputs": [
    {
     "data": {
      "text/plain": [
       "0    El Perro (Canis Familiaris O Canis Lupus Familiaris, Dependiendo De Si Se Lo Considera Una Especie Por Derecho Propio O Una Subespecie Del Lobo),1​2​3​ Llamado Perro Doméstico O Can,4​ Y En Algunos Lugares Coloquialmente Llamado Chucho,5​ Tuso,6​ Choco,7​ Entre Otros; Es Un Mamífero Carnívoro De La Familia De Los Cánidos, Que Constituye Una Especie Del Género Canis.8​9​ En El 2013, La Población Mundial Estimada De Perros Estaba Entre Setecientos Millones Y Novecientos Ochenta Y Siete Millones.10​11​ Su Tamaño (O Talla), Su Forma Y Su Pelaje Es Muy Diverso, Según La Raza. Posee Un Oído Y Un Olfato Muy Desarrollados, Y Este Último Es Su Principal Órgano Sensorial. Su Longevidad Media Es De Diez A Trece Años,12​13​14​ Dependiendo De La Raza. \n",
       "1                                                         El Gato Doméstico1​2​ (Felis Silvestris Catus), Llamado Popularmente Gato, Y De Forma Coloquial Minino,3​ Michino,4​ Michi,5​ Micho,6​ Mizo,7​ Miz,8​ Morroño9​ O Morrongo,10​ Entre Otros Nombres, Es Un Mamífero Carnívoro De La Familia Felidae. Es Una Subespecie Domesticada Por La Convivencia Con El Ser Humano. El Gato Se Comunica A Través De Vocalizaciones. Las Más Populares Son Su Característico Maullido Y El Ronroneo, Pero Puede Aullar, Gemir, Gruñir Y Bufar.11​Los Gatos Desarrollaron El Maullido Con La Única Finalidad De Poder Comunicarse Con El Ser Humano. Además, Adopta Poses O Expresiones Que Informan, A Sus Congéneres, Sus Enemigos O Sus Cuidadores, De Su Ánimo O Sus Intenciones. \n",
       "2                                                                                                                                                                                                        Los Cricetinos (Cricetinae) Son Una Subfamilia De Roedores, Conocidos Comúnmente Como Hámsteres (Un Germanismo).2​3​ Se Han Identificado Diecinueve Especies Actuales, Agrupadas En Siete Géneros. La Mayoría Son Originarias De Oriente Medio Y Del Sureste De Los Estados Unidos. Todas Las Especies Se Caracterizan Por Las Bolsas Expansibles, Llamadas Abazones, Ubicadas En El Interior De La Boca Y Que Van Desde Las Mejillas Hasta Los Hombros. Al Ser Muy Fáciles De Criar En Cautividad, Son Ampliamente Usados Como Animales De Laboratorio Y Como Mascotas. \n",
       "3                                                                                                                                                                                                                                                                                                                          Cavia Porcellus, Conocida Como Cuy, Cuye, Cuyo, Cobaya, Cobayo, Acure, Güimo O Conejillo De Indias, Es Una Especie Híbrida Doméstica De Roedor Histricomorfo De La Familia Caviidae. Es El Resultado Del Cruce Milenario De Varias Especies Del Género Cavia Realizado En La Región Andina De América Del Sur, Habiéndose Encontrado Registros Arqueológicos En Colombia, Ecuador, Perú Y Bolivia. Fue Una Ofrenda En Tiempos Antiguos Para Su Dios.1​ \n",
       "4                                                                                                                                                                                                                                                                   El Canario Doméstico (Serinus Canaria Domestica)3​4​ Es Una Subespecie Desarrollada Durante Siglos De Selección En Cautividad Partiendo De Ejemplares Del Canario Silvestre O Canario Salvaje (Serinus Canaria), Una Especie De Ave Del Orden Paseriforme De La Familia De Los Fringílidos, Endémica De Las Islas Canarias, Azores Y Madeira.5​6​Es El Ave Doméstica Criada Como Animal De Compañía Más Abundante Del Mundo Junto Con El Periquito. A Pesar De Esto, No Se Conocen Poblaciones Asilvestradas. \n",
       "Name: descripcion, dtype: object"
      ]
     },
     "execution_count": 19,
     "metadata": {},
     "output_type": "execute_result"
    }
   ],
   "source": [
    "mascotas_df[\"descripcion\"].str.title()"
   ]
  },
  {
   "cell_type": "code",
   "execution_count": 20,
   "id": "eae9a001",
   "metadata": {},
   "outputs": [
    {
     "data": {
      "text/plain": [
       "0    El perro (canis familiaris o canis lupus familiaris, dependiendo de si se lo considera una especie por derecho propio o una subespecie del lobo),1​2​3​ llamado perro doméstico o can,4​ y en algunos lugares coloquialmente llamado chucho,5​ tuso,6​ choco,7​ entre otros; es un mamífero carnívoro de la familia de los cánidos, que constituye una especie del género canis.8​9​ en el 2013, la población mundial estimada de perros estaba entre setecientos millones y novecientos ochenta y siete millones.10​11​ su tamaño (o talla), su forma y su pelaje es muy diverso, según la raza. posee un oído y un olfato muy desarrollados, y este último es su principal órgano sensorial. su longevidad media es de diez a trece años,12​13​14​ dependiendo de la raza. \n",
       "1                                                         El gato doméstico1​2​ (felis silvestris catus), llamado popularmente gato, y de forma coloquial minino,3​ michino,4​ michi,5​ micho,6​ mizo,7​ miz,8​ morroño9​ o morrongo,10​ entre otros nombres, es un mamífero carnívoro de la familia felidae. es una subespecie domesticada por la convivencia con el ser humano. el gato se comunica a través de vocalizaciones. las más populares son su característico maullido y el ronroneo, pero puede aullar, gemir, gruñir y bufar.11​los gatos desarrollaron el maullido con la única finalidad de poder comunicarse con el ser humano. además, adopta poses o expresiones que informan, a sus congéneres, sus enemigos o sus cuidadores, de su ánimo o sus intenciones. \n",
       "2                                                                                                                                                                                                        Los cricetinos (cricetinae) son una subfamilia de roedores, conocidos comúnmente como hámsteres (un germanismo).2​3​ se han identificado diecinueve especies actuales, agrupadas en siete géneros. la mayoría son originarias de oriente medio y del sureste de los estados unidos. todas las especies se caracterizan por las bolsas expansibles, llamadas abazones, ubicadas en el interior de la boca y que van desde las mejillas hasta los hombros. al ser muy fáciles de criar en cautividad, son ampliamente usados como animales de laboratorio y como mascotas. \n",
       "3                                                                                                                                                                                                                                                                                                                          Cavia porcellus, conocida como cuy, cuye, cuyo, cobaya, cobayo, acure, güimo o conejillo de indias, es una especie híbrida doméstica de roedor histricomorfo de la familia caviidae. es el resultado del cruce milenario de varias especies del género cavia realizado en la región andina de américa del sur, habiéndose encontrado registros arqueológicos en colombia, ecuador, perú y bolivia. fue una ofrenda en tiempos antiguos para su dios.1​ \n",
       "4                                                                                                                                                                                                                                                                   El canario doméstico (serinus canaria domestica)3​4​ es una subespecie desarrollada durante siglos de selección en cautividad partiendo de ejemplares del canario silvestre o canario salvaje (serinus canaria), una especie de ave del orden paseriforme de la familia de los fringílidos, endémica de las islas canarias, azores y madeira.5​6​es el ave doméstica criada como animal de compañía más abundante del mundo junto con el periquito. a pesar de esto, no se conocen poblaciones asilvestradas. \n",
       "Name: descripcion, dtype: object"
      ]
     },
     "execution_count": 20,
     "metadata": {},
     "output_type": "execute_result"
    }
   ],
   "source": [
    "mascotas_df[\"descripcion\"].str.capitalize()"
   ]
  },
  {
   "cell_type": "markdown",
   "id": "432ca609",
   "metadata": {},
   "source": [
    "#### Contains, Split y Join"
   ]
  },
  {
   "cell_type": "code",
   "execution_count": 21,
   "id": "dfa6cde7",
   "metadata": {},
   "outputs": [
    {
     "data": {
      "text/plain": [
       "0     True\n",
       "1    False\n",
       "2    False\n",
       "3    False\n",
       "4    False\n",
       "Name: descripcion, dtype: bool"
      ]
     },
     "execution_count": 21,
     "metadata": {},
     "output_type": "execute_result"
    }
   ],
   "source": [
    "mascotas_df[\"descripcion\"].str.contains(\"perro\")"
   ]
  },
  {
   "cell_type": "code",
   "execution_count": 22,
   "id": "e16db4ef",
   "metadata": {},
   "outputs": [
    {
     "data": {
      "text/plain": [
       "0    False\n",
       "1     True\n",
       "2    False\n",
       "3    False\n",
       "4    False\n",
       "Name: descripcion, dtype: bool"
      ]
     },
     "execution_count": 22,
     "metadata": {},
     "output_type": "execute_result"
    }
   ],
   "source": [
    "mascotas_df[\"descripcion\"].str.contains(\"gato\")"
   ]
  },
  {
   "cell_type": "code",
   "execution_count": 23,
   "id": "8791410b",
   "metadata": {},
   "outputs": [
    {
     "data": {
      "text/plain": [
       "0                                               [El, perro, (Canis, familiaris, o, Canis, lupus, familiaris,, dependiendo, de, si, se, lo, considera, una, especie, por, derecho, propio, o, una, subespecie, del, lobo),1​2​3​, llamado, perro, doméstico, o, can,4​, y, en, algunos, lugares, coloquialmente, llamado, chucho,5​, tuso,6​, choco,7​, entre, otros;, es, un, mamífero, carnívoro, de, la, familia, de, los, cánidos,, que, constituye, una, especie, del, género, Canis.8​9​, En, el, 2013,, la, población, mundial, estimada, de, perros, estaba, entre, setecientos, millones, y, novecientos, ochenta, y, siete, millones.10​11​, Su, tamaño, (o, talla),, su, forma, y, su, pelaje, es, muy, diverso,, según, la, raza., Posee, un, oído, y, un, olfato, muy, desarrollados,, y, ...]\n",
       "1    [El, gato, doméstico1​2​, (Felis, silvestris, catus),, llamado, popularmente, gato,, y, de, forma, coloquial, minino,3​, michino,4​, michi,5​, micho,6​, mizo,7​, miz,8​, morroño9​, o, morrongo,10​, entre, otros, nombres,, es, un, mamífero, carnívoro, de, la, familia, Felidae., Es, una, subespecie, domesticada, por, la, convivencia, con, el, ser, humano., El, gato, se, comunica, a, través, de, vocalizaciones., Las, más, populares, son, su, característico, maullido, y, el, ronroneo,, pero, puede, aullar,, gemir,, gruñir, y, bufar.11​Los, gatos, desarrollaron, el, maullido, con, la, única, finalidad, de, poder, comunicarse, con, el, ser, humano., Además,, adopta, poses, o, expresiones, que, informan,, a, sus, congéneres,, sus, enemigos, o, sus, cuidadores,, de, ...]\n",
       "2                                                                                                                                           [Los, cricetinos, (Cricetinae), son, una, subfamilia, de, roedores,, conocidos, comúnmente, como, hámsteres, (un, germanismo).2​3​, Se, han, identificado, diecinueve, especies, actuales,, agrupadas, en, siete, géneros., La, mayoría, son, originarias, de, Oriente, Medio, y, del, sureste, de, los, Estados, Unidos., Todas, las, especies, se, caracterizan, por, las, bolsas, expansibles,, llamadas, abazones,, ubicadas, en, el, interior, de, la, boca, y, que, van, desde, las, mejillas, hasta, los, hombros., Al, ser, muy, fáciles, de, criar, en, cautividad,, son, ampliamente, usados, como, animales, de, laboratorio, y, como, mascotas., ]\n",
       "3                                                                                                                                                                                                                                                                             [Cavia, porcellus,, conocida, como, cuy,, cuye,, cuyo,, cobaya,, cobayo,, acure,, güimo, o, conejillo, de, Indias,, es, una, especie, híbrida, doméstica, de, roedor, histricomorfo, de, la, familia, Caviidae., Es, el, resultado, del, cruce, milenario, de, varias, especies, del, género, Cavia, realizado, en, la, región, andina, de, América, del, Sur,, habiéndose, encontrado, registros, arqueológicos, en, Colombia,, Ecuador,, Perú, y, Bolivia., Fue, una, ofrenda, en, tiempos, antiguos, para, su, Dios.1​, ]\n",
       "4                                                                                                                                                                                                                [El, canario, doméstico, (Serinus, canaria, domestica)3​4​, es, una, subespecie, desarrollada, durante, siglos, de, selección, en, cautividad, partiendo, de, ejemplares, del, canario, silvestre, o, canario, salvaje, (Serinus, canaria),, una, especie, de, ave, del, orden, paseriforme, de, la, familia, de, los, fringílidos,, endémica, de, las, islas, Canarias,, Azores, y, Madeira.5​6​Es, el, ave, doméstica, criada, como, animal, de, compañía, más, abundante, del, mundo, junto, con, el, periquito., A, pesar, de, esto,, no, se, conocen, poblaciones, asilvestradas., ]\n",
       "Name: descripcion, dtype: object"
      ]
     },
     "execution_count": 23,
     "metadata": {},
     "output_type": "execute_result"
    }
   ],
   "source": [
    "mascotas_df[\"descripcion\"].str.split(\" \")"
   ]
  },
  {
   "cell_type": "code",
   "execution_count": 24,
   "id": "26faa609",
   "metadata": {},
   "outputs": [
    {
     "data": {
      "text/plain": [
       "0    El|perro|(Canis|familiaris|o|Canis|lupus|familiaris,|dependiendo|de|si|se|lo|considera|una|especie|por|derecho|propio|o|una|subespecie|del|lobo),1​2​3​|llamado|perro|doméstico|o|can,4​|y|en|algunos|lugares|coloquialmente|llamado|chucho,5​|tuso,6​|choco,7​|entre|otros;|es|un|mamífero|carnívoro|de|la|familia|de|los|cánidos,|que|constituye|una|especie|del|género|Canis.8​9​|En|el|2013,|la|población|mundial|estimada|de|perros|estaba|entre|setecientos|millones|y|novecientos|ochenta|y|siete|millones.10​11​|Su|tamaño|(o|talla),|su|forma|y|su|pelaje|es|muy|diverso,|según|la|raza.|Posee|un|oído|y|un|olfato|muy|desarrollados,|y|este|último|es|su|principal|órgano|sensorial.|Su|longevidad|media|es|de|diez|a|trece|años,12​13​14​|dependiendo|de|la|raza.|\n",
       "1                                                         El|gato|doméstico1​2​|(Felis|silvestris|catus),|llamado|popularmente|gato,|y|de|forma|coloquial|minino,3​|michino,4​|michi,5​|micho,6​|mizo,7​|miz,8​|morroño9​|o|morrongo,10​|entre|otros|nombres,|es|un|mamífero|carnívoro|de|la|familia|Felidae.|Es|una|subespecie|domesticada|por|la|convivencia|con|el|ser|humano.|El|gato|se|comunica|a|través|de|vocalizaciones.|Las|más|populares|son|su|característico|maullido|y|el|ronroneo,|pero|puede|aullar,|gemir,|gruñir|y|bufar.11​Los|gatos|desarrollaron|el|maullido|con|la|única|finalidad|de|poder|comunicarse|con|el|ser|humano.|Además,|adopta|poses|o|expresiones|que|informan,|a|sus|congéneres,|sus|enemigos|o|sus|cuidadores,|de|su|ánimo|o|sus|intenciones.|\n",
       "2                                                                                                                                                                                                        Los|cricetinos|(Cricetinae)|son|una|subfamilia|de|roedores,|conocidos|comúnmente|como|hámsteres|(un|germanismo).2​3​|Se|han|identificado|diecinueve|especies|actuales,|agrupadas|en|siete|géneros.|La|mayoría|son|originarias|de|Oriente|Medio|y|del|sureste|de|los|Estados|Unidos.|Todas|las|especies|se|caracterizan|por|las|bolsas|expansibles,|llamadas|abazones,|ubicadas|en|el|interior|de|la|boca|y|que|van|desde|las|mejillas|hasta|los|hombros.|Al|ser|muy|fáciles|de|criar|en|cautividad,|son|ampliamente|usados|como|animales|de|laboratorio|y|como|mascotas.|\n",
       "3                                                                                                                                                                                                                                                                                                                          Cavia|porcellus,|conocida|como|cuy,|cuye,|cuyo,|cobaya,|cobayo,|acure,|güimo|o|conejillo|de|Indias,|es|una|especie|híbrida|doméstica|de|roedor|histricomorfo|de|la|familia|Caviidae.|Es|el|resultado|del|cruce|milenario|de|varias|especies|del|género|Cavia|realizado|en|la|región|andina|de|América|del|Sur,|habiéndose|encontrado|registros|arqueológicos|en|Colombia,|Ecuador,|Perú|y|Bolivia.|Fue|una|ofrenda|en|tiempos|antiguos|para|su|Dios.1​|\n",
       "4                                                                                                                                                                                                                                                                   El|canario|doméstico|(Serinus|canaria|domestica)3​4​|es|una|subespecie|desarrollada|durante|siglos|de|selección|en|cautividad|partiendo|de|ejemplares|del|canario|silvestre|o|canario|salvaje|(Serinus|canaria),|una|especie|de|ave|del|orden|paseriforme|de|la|familia|de|los|fringílidos,|endémica|de|las|islas|Canarias,|Azores|y|Madeira.5​6​Es|el|ave|doméstica|criada|como|animal|de|compañía|más|abundante|del|mundo|junto|con|el|periquito.|A|pesar|de|esto,|no|se|conocen|poblaciones|asilvestradas.|\n",
       "Name: descripcion, dtype: object"
      ]
     },
     "execution_count": 24,
     "metadata": {},
     "output_type": "execute_result"
    }
   ],
   "source": [
    "mascotas_df[\"descripcion\"].str.split(\" \").str.join(\"|\")"
   ]
  },
  {
   "cell_type": "markdown",
   "id": "d33bec55",
   "metadata": {},
   "source": [
    "#### Replace"
   ]
  },
  {
   "cell_type": "code",
   "execution_count": 26,
   "id": "814d624c-d65c-4893-a8dc-372face40283",
   "metadata": {},
   "outputs": [
    {
     "data": {
      "text/plain": [
       "0    El perro (Canis familiaris o Canis lupus familiaris, dependiendo de si se lo considera una especie por derecho propio o una subespecie del lobo),1​2​3​ llamado perro doméstico o can,4​ y en algunos lugares coloquialmente llamado chucho,5​ tuso,6​ choco,7​ entre otros; es un mamífero carnívoro de la familia de los cánidos, que constituye una especie del género Canis.8​9​ En el 2013, la población mundial estimada de perros estaba entre setecientos millones y novecientos ochenta y siete millones.10​11​ Su tamaño (o talla), su forma y su pelaje es muy diverso, según la raza. Posee un oído y un olfato muy desarrollados, y este último es su principal órgano sensorial. Su longevidad media es de diez a trece años,12​13​14​ dependiendo de la raza. \n",
       "1                                                         El gato doméstico1​2​ (Felis silvestris catus), llamado popularmente gato, y de forma coloquial minino,3​ michino,4​ michi,5​ micho,6​ mizo,7​ miz,8​ morroño9​ o morrongo,10​ entre otros nombres, es un mamífero carnívoro de la familia Felidae. Es una subespecie domesticada por la convivencia con el ser humano. El gato se comunica a través de vocalizaciones. Las más populares son su característico maullido y el ronroneo, pero puede aullar, gemir, gruñir y bufar.11​Los gatos desarrollaron el maullido con la única finalidad de poder comunicarse con el ser humano. Además, adopta poses o expresiones que informan, a sus congéneres, sus enemigos o sus cuidadores, de su ánimo o sus intenciones. \n",
       "2                                                                                                                                                                                                        Los cricetinos (Cricetinae) son una subfamilia de roedores, conocidos comúnmente como hámsteres (un germanismo).2​3​ Se han identificado diecinueve especies actuales, agrupadas en siete géneros. La mayoría son originarias de Oriente Medio y del sureste de los Estados Unidos. Todas las especies se caracterizan por las bolsas expansibles, llamadas abazones, ubicadas en el interior de la boca y que van desde las mejillas hasta los hombros. Al ser muy fáciles de criar en cautividad, son ampliamente usados como animales de laboratorio y como mascotas. \n",
       "3                                                                                                                                                                                                                                                                                                                          Cavia porcellus, conocida como cuy, cuye, cuyo, cobaya, cobayo, acure, güimo o conejillo de Indias, es una especie híbrida doméstica de roedor histricomorfo de la familia Caviidae. Es el resultado del cruce milenario de varias especies del género Cavia realizado en la región andina de América del Sur, habiéndose encontrado registros arqueológicos en Colombia, Ecuador, Perú y Bolivia. Fue una ofrenda en tiempos antiguos para su Dios.1​ \n",
       "4                                                                                                                                                                                                                                                                   El canario doméstico (Serinus canaria domestica)3​4​ es una subespecie desarrollada durante siglos de selección en cautividad partiendo de ejemplares del canario silvestre o canario salvaje (Serinus canaria), una especie de ave del orden paseriforme de la familia de los fringílidos, endémica de las islas Canarias, Azores y Madeira.5​6​Es el ave doméstica criada como animal de compañía más abundante del mundo junto con el periquito. A pesar de esto, no se conocen poblaciones asilvestradas. \n",
       "Name: descripcion, dtype: object"
      ]
     },
     "execution_count": 26,
     "metadata": {},
     "output_type": "execute_result"
    }
   ],
   "source": [
    "mascotas_df[\"descripcion\"]"
   ]
  },
  {
   "cell_type": "code",
   "execution_count": 25,
   "id": "3a46de96",
   "metadata": {},
   "outputs": [
    {
     "data": {
      "text/plain": [
       "0    El perro Canis familiaris o Canis lupus familiaris, dependiendo de si se lo considera una especie por derecho propio o una subespecie del lobo,1​2​3​ llamado perro doméstico o can,4​ y en algunos lugares coloquialmente llamado chucho,5​ tuso,6​ choco,7​ entre otros; es un mamífero carnívoro de la familia de los cánidos, que constituye una especie del género Canis.8​9​ En el 2013, la población mundial estimada de perros estaba entre setecientos millones y novecientos ochenta y siete millones.10​11​ Su tamaño o talla, su forma y su pelaje es muy diverso, según la raza. Posee un oído y un olfato muy desarrollados, y este último es su principal órgano sensorial. Su longevidad media es de diez a trece años,12​13​14​ dependiendo de la raza. \n",
       "1                                                       El gato doméstico1​2​ Felis silvestris catus, llamado popularmente gato, y de forma coloquial minino,3​ michino,4​ michi,5​ micho,6​ mizo,7​ miz,8​ morroño9​ o morrongo,10​ entre otros nombres, es un mamífero carnívoro de la familia Felidae. Es una subespecie domesticada por la convivencia con el ser humano. El gato se comunica a través de vocalizaciones. Las más populares son su característico maullido y el ronroneo, pero puede aullar, gemir, gruñir y bufar.11​Los gatos desarrollaron el maullido con la única finalidad de poder comunicarse con el ser humano. Además, adopta poses o expresiones que informan, a sus congéneres, sus enemigos o sus cuidadores, de su ánimo o sus intenciones. \n",
       "2                                                                                                                                                                                                        Los cricetinos Cricetinae son una subfamilia de roedores, conocidos comúnmente como hámsteres un germanismo.2​3​ Se han identificado diecinueve especies actuales, agrupadas en siete géneros. La mayoría son originarias de Oriente Medio y del sureste de los Estados Unidos. Todas las especies se caracterizan por las bolsas expansibles, llamadas abazones, ubicadas en el interior de la boca y que van desde las mejillas hasta los hombros. Al ser muy fáciles de criar en cautividad, son ampliamente usados como animales de laboratorio y como mascotas. \n",
       "3                                                                                                                                                                                                                                                                                                                      Cavia porcellus, conocida como cuy, cuye, cuyo, cobaya, cobayo, acure, güimo o conejillo de Indias, es una especie híbrida doméstica de roedor histricomorfo de la familia Caviidae. Es el resultado del cruce milenario de varias especies del género Cavia realizado en la región andina de América del Sur, habiéndose encontrado registros arqueológicos en Colombia, Ecuador, Perú y Bolivia. Fue una ofrenda en tiempos antiguos para su Dios.1​ \n",
       "4                                                                                                                                                                                                                                                                   El canario doméstico Serinus canaria domestica3​4​ es una subespecie desarrollada durante siglos de selección en cautividad partiendo de ejemplares del canario silvestre o canario salvaje Serinus canaria, una especie de ave del orden paseriforme de la familia de los fringílidos, endémica de las islas Canarias, Azores y Madeira.5​6​Es el ave doméstica criada como animal de compañía más abundante del mundo junto con el periquito. A pesar de esto, no se conocen poblaciones asilvestradas. \n",
       "Name: descripcion, dtype: object"
      ]
     },
     "execution_count": 25,
     "metadata": {},
     "output_type": "execute_result"
    }
   ],
   "source": [
    "mascotas_df[\"descripcion\"].str.replace(\"(\", \"\", regex=False).str.replace(\n",
    "    \")\", \"\", regex=False\n",
    ")"
   ]
  },
  {
   "cell_type": "markdown",
   "id": "d5c46509",
   "metadata": {},
   "source": [
    "##### Expresiones Regulares\n",
    "\n",
    "> Según [`re` de `python`](https://docs.python.org/3/library/re.html): *A regular expression (or RE) specifies a set of strings that matches it; the functions in this module let you check if a particular string matches a given regular expression (or if a given regular expression matches a particular string, which comes down to the same thing).*\n",
    "\n",
    "\n",
    "- https://www.programiz.com/python-programming/regex\n",
    "\n",
    "- https://regex101.com/"
   ]
  },
  {
   "cell_type": "code",
   "execution_count": 28,
   "id": "72893cfe",
   "metadata": {},
   "outputs": [
    {
     "data": {
      "text/plain": [
       "0    El perro Canis familiaris o Canis lupus familiaris dependiendo de si se lo considera una especie por derecho propio o una subespecie del lobo1​2​3​ llamado perro doméstico o can4​ y en algunos lugares coloquialmente llamado chucho5​ tuso6​ choco7​ entre otros; es un mamífero carnívoro de la familia de los cánidos que constituye una especie del género Canis.8​9​ En el 2013 la población mundial estimada de perros estaba entre setecientos millones y novecientos ochenta y siete millones.10​11​ Su tamaño o talla su forma y su pelaje es muy diverso según la raza. Posee un oído y un olfato muy desarrollados y este último es su principal órgano sensorial. Su longevidad media es de diez a trece años12​13​14​ dependiendo de la raza. \n",
       "1                                                            El gato doméstico1​2​ Felis silvestris catus llamado popularmente gato y de forma coloquial minino3​ michino4​ michi5​ micho6​ mizo7​ miz8​ morroño9​ o morrongo10​ entre otros nombres es un mamífero carnívoro de la familia Felidae. Es una subespecie domesticada por la convivencia con el ser humano. El gato se comunica a través de vocalizaciones. Las más populares son su característico maullido y el ronroneo pero puede aullar gemir gruñir y bufar.11​Los gatos desarrollaron el maullido con la única finalidad de poder comunicarse con el ser humano. Además adopta poses o expresiones que informan a sus congéneres sus enemigos o sus cuidadores de su ánimo o sus intenciones. \n",
       "2                                                                                                                                                                                                 Los cricetinos Cricetinae son una subfamilia de roedores conocidos comúnmente como hámsteres un germanismo.2​3​ Se han identificado diecinueve especies actuales agrupadas en siete géneros. La mayoría son originarias de Oriente Medio y del sureste de los Estados Unidos. Todas las especies se caracterizan por las bolsas expansibles llamadas abazones ubicadas en el interior de la boca y que van desde las mejillas hasta los hombros. Al ser muy fáciles de criar en cautividad son ampliamente usados como animales de laboratorio y como mascotas. \n",
       "3                                                                                                                                                                                                                                                                                                                     Cavia porcellus conocida como cuy cuye cuyo cobaya cobayo acure güimo o conejillo de Indias es una especie híbrida doméstica de roedor histricomorfo de la familia Caviidae. Es el resultado del cruce milenario de varias especies del género Cavia realizado en la región andina de América del Sur habiéndose encontrado registros arqueológicos en Colombia Ecuador Perú y Bolivia. Fue una ofrenda en tiempos antiguos para su Dios.1​ \n",
       "4                                                                                                                                                                                                                                                           El canario doméstico Serinus canaria domestica3​4​ es una subespecie desarrollada durante siglos de selección en cautividad partiendo de ejemplares del canario silvestre o canario salvaje Serinus canaria una especie de ave del orden paseriforme de la familia de los fringílidos endémica de las islas Canarias Azores y Madeira.5​6​Es el ave doméstica criada como animal de compañía más abundante del mundo junto con el periquito. A pesar de esto no se conocen poblaciones asilvestradas. \n",
       "Name: descripcion, dtype: object"
      ]
     },
     "execution_count": 28,
     "metadata": {},
     "output_type": "execute_result"
    }
   ],
   "source": [
    "mascotas_df[\"descripcion\"].str.replace(\"\\(|\\)|,\", \"\", regex=True)"
   ]
  },
  {
   "cell_type": "code",
   "execution_count": 29,
   "id": "1ee089bc",
   "metadata": {
    "scrolled": true
   },
   "outputs": [
    {
     "data": {
      "text/plain": [
       "0    El perro (Canis familiaris o Canis lupus familiaris, dependiendo de si se lo considera una especie por derecho propio o una subespecie del lobo),​​​ llamado perro doméstico o can,​ y en algunos lugares coloquialmente llamado chucho,​ tuso,​ choco,​ entre otros; es un mamífero carnívoro de la familia de los cánidos, que constituye una especie del género Canis.​​ En el , la población mundial estimada de perros estaba entre setecientos millones y novecientos ochenta y siete millones.​​ Su tamaño (o talla), su forma y su pelaje es muy diverso, según la raza. Posee un oído y un olfato muy desarrollados, y este último es su principal órgano sensorial. Su longevidad media es de diez a trece años,​​​ dependiendo de la raza. \n",
       "1                                               El gato doméstico​​ (Felis silvestris catus), llamado popularmente gato, y de forma coloquial minino,​ michino,​ michi,​ micho,​ mizo,​ miz,​ morroño​ o morrongo,​ entre otros nombres, es un mamífero carnívoro de la familia Felidae. Es una subespecie domesticada por la convivencia con el ser humano. El gato se comunica a través de vocalizaciones. Las más populares son su característico maullido y el ronroneo, pero puede aullar, gemir, gruñir y bufar.​Los gatos desarrollaron el maullido con la única finalidad de poder comunicarse con el ser humano. Además, adopta poses o expresiones que informan, a sus congéneres, sus enemigos o sus cuidadores, de su ánimo o sus intenciones. \n",
       "2                                                                                                                                                                                   Los cricetinos (Cricetinae) son una subfamilia de roedores, conocidos comúnmente como hámsteres (un germanismo).​​ Se han identificado diecinueve especies actuales, agrupadas en siete géneros. La mayoría son originarias de Oriente Medio y del sureste de los Estados Unidos. Todas las especies se caracterizan por las bolsas expansibles, llamadas abazones, ubicadas en el interior de la boca y que van desde las mejillas hasta los hombros. Al ser muy fáciles de criar en cautividad, son ampliamente usados como animales de laboratorio y como mascotas. \n",
       "3                                                                                                                                                                                                                                                                                                    Cavia porcellus, conocida como cuy, cuye, cuyo, cobaya, cobayo, acure, güimo o conejillo de Indias, es una especie híbrida doméstica de roedor histricomorfo de la familia Caviidae. Es el resultado del cruce milenario de varias especies del género Cavia realizado en la región andina de América del Sur, habiéndose encontrado registros arqueológicos en Colombia, Ecuador, Perú y Bolivia. Fue una ofrenda en tiempos antiguos para su Dios.​ \n",
       "4                                                                                                                                                                                                                                                El canario doméstico (Serinus canaria domestica)​​ es una subespecie desarrollada durante siglos de selección en cautividad partiendo de ejemplares del canario silvestre o canario salvaje (Serinus canaria), una especie de ave del orden paseriforme de la familia de los fringílidos, endémica de las islas Canarias, Azores y Madeira.​​Es el ave doméstica criada como animal de compañía más abundante del mundo junto con el periquito. A pesar de esto, no se conocen poblaciones asilvestradas. \n",
       "Name: descripcion, dtype: object"
      ]
     },
     "execution_count": 29,
     "metadata": {},
     "output_type": "execute_result"
    }
   ],
   "source": [
    "mascotas_df[\"descripcion\"].str.replace(\"\\d{1,3}\", \"\", regex=True)"
   ]
  },
  {
   "cell_type": "markdown",
   "id": "a107b3ff",
   "metadata": {},
   "source": [
    "### Paréntesis: Método `apply`\n",
    "\n",
    "Este método permite aplicar una función sobre una serie (o sobre las filas o columnas de un DataFrame)"
   ]
  },
  {
   "cell_type": "code",
   "execution_count": 30,
   "id": "dd1930e0",
   "metadata": {
    "scrolled": true
   },
   "outputs": [
    {
     "data": {
      "text/plain": [
       "0    False\n",
       "1     True\n",
       "2    False\n",
       "3    False\n",
       "4    False\n",
       "Name: descripcion, dtype: bool"
      ]
     },
     "execution_count": 30,
     "metadata": {},
     "output_type": "execute_result"
    }
   ],
   "source": [
    "mascotas_df[\"descripcion\"].apply(lambda x: \"gato\" in x)"
   ]
  },
  {
   "cell_type": "code",
   "execution_count": 31,
   "id": "687b15bc",
   "metadata": {},
   "outputs": [],
   "source": [
    "import unicodedata\n",
    "\n",
    "\n",
    "def strip_accents_ascii(s):\n",
    "    \"\"\"Transform accentuated unicode symbols into ascii or nothing\n",
    "    Warning: this solution is only suited for languages that have a direct\n",
    "    transliteration to ASCII symbols.\n",
    "    See also\n",
    "    --------\n",
    "    strip_accents_unicode\n",
    "        Remove accentuated char for any unicode symbol.\n",
    "    \"\"\"\n",
    "    nkfd_form = unicodedata.normalize(\"NFKD\", s)\n",
    "    return nkfd_form.encode(\"ASCII\", \"ignore\").decode(\"ASCII\")"
   ]
  },
  {
   "cell_type": "code",
   "execution_count": 32,
   "id": "b33254cf-1fa3-4ea2-8a03-3a69e79855c0",
   "metadata": {},
   "outputs": [
    {
     "data": {
      "text/plain": [
       "0    El perro (Canis familiaris o Canis lupus familiaris, dependiendo de si se lo considera una especie por derecho propio o una subespecie del lobo),1​2​3​ llamado perro doméstico o can,4​ y en algunos lugares coloquialmente llamado chucho,5​ tuso,6​ choco,7​ entre otros; es un mamífero carnívoro de la familia de los cánidos, que constituye una especie del género Canis.8​9​ En el 2013, la población mundial estimada de perros estaba entre setecientos millones y novecientos ochenta y siete millones.10​11​ Su tamaño (o talla), su forma y su pelaje es muy diverso, según la raza. Posee un oído y un olfato muy desarrollados, y este último es su principal órgano sensorial. Su longevidad media es de diez a trece años,12​13​14​ dependiendo de la raza. \n",
       "1                                                         El gato doméstico1​2​ (Felis silvestris catus), llamado popularmente gato, y de forma coloquial minino,3​ michino,4​ michi,5​ micho,6​ mizo,7​ miz,8​ morroño9​ o morrongo,10​ entre otros nombres, es un mamífero carnívoro de la familia Felidae. Es una subespecie domesticada por la convivencia con el ser humano. El gato se comunica a través de vocalizaciones. Las más populares son su característico maullido y el ronroneo, pero puede aullar, gemir, gruñir y bufar.11​Los gatos desarrollaron el maullido con la única finalidad de poder comunicarse con el ser humano. Además, adopta poses o expresiones que informan, a sus congéneres, sus enemigos o sus cuidadores, de su ánimo o sus intenciones. \n",
       "2                                                                                                                                                                                                        Los cricetinos (Cricetinae) son una subfamilia de roedores, conocidos comúnmente como hámsteres (un germanismo).2​3​ Se han identificado diecinueve especies actuales, agrupadas en siete géneros. La mayoría son originarias de Oriente Medio y del sureste de los Estados Unidos. Todas las especies se caracterizan por las bolsas expansibles, llamadas abazones, ubicadas en el interior de la boca y que van desde las mejillas hasta los hombros. Al ser muy fáciles de criar en cautividad, son ampliamente usados como animales de laboratorio y como mascotas. \n",
       "3                                                                                                                                                                                                                                                                                                                          Cavia porcellus, conocida como cuy, cuye, cuyo, cobaya, cobayo, acure, güimo o conejillo de Indias, es una especie híbrida doméstica de roedor histricomorfo de la familia Caviidae. Es el resultado del cruce milenario de varias especies del género Cavia realizado en la región andina de América del Sur, habiéndose encontrado registros arqueológicos en Colombia, Ecuador, Perú y Bolivia. Fue una ofrenda en tiempos antiguos para su Dios.1​ \n",
       "4                                                                                                                                                                                                                                                                   El canario doméstico (Serinus canaria domestica)3​4​ es una subespecie desarrollada durante siglos de selección en cautividad partiendo de ejemplares del canario silvestre o canario salvaje (Serinus canaria), una especie de ave del orden paseriforme de la familia de los fringílidos, endémica de las islas Canarias, Azores y Madeira.5​6​Es el ave doméstica criada como animal de compañía más abundante del mundo junto con el periquito. A pesar de esto, no se conocen poblaciones asilvestradas. \n",
       "Name: descripcion, dtype: object"
      ]
     },
     "execution_count": 32,
     "metadata": {},
     "output_type": "execute_result"
    }
   ],
   "source": [
    "mascotas_df[\"descripcion\"]"
   ]
  },
  {
   "cell_type": "code",
   "execution_count": 33,
   "id": "ed4812ac",
   "metadata": {},
   "outputs": [
    {
     "data": {
      "text/plain": [
       "0    El perro (Canis familiaris o Canis lupus familiaris, dependiendo de si se lo considera una especie por derecho propio o una subespecie del lobo),123 llamado perro domestico o can,4 y en algunos lugares coloquialmente llamado chucho,5 tuso,6 choco,7 entre otros; es un mamifero carnivoro de la familia de los canidos, que constituye una especie del genero Canis.89 En el 2013, la poblacion mundial estimada de perros estaba entre setecientos millones y novecientos ochenta y siete millones.1011 Su tamano (o talla), su forma y su pelaje es muy diverso, segun la raza. Posee un oido y un olfato muy desarrollados, y este ultimo es su principal organo sensorial. Su longevidad media es de diez a trece anos,121314 dependiendo de la raza. \n",
       "1                                                      El gato domestico12 (Felis silvestris catus), llamado popularmente gato, y de forma coloquial minino,3 michino,4 michi,5 micho,6 mizo,7 miz,8 morrono9 o morrongo,10 entre otros nombres, es un mamifero carnivoro de la familia Felidae. Es una subespecie domesticada por la convivencia con el ser humano. El gato se comunica a traves de vocalizaciones. Las mas populares son su caracteristico maullido y el ronroneo, pero puede aullar, gemir, grunir y bufar.11Los gatos desarrollaron el maullido con la unica finalidad de poder comunicarse con el ser humano. Ademas, adopta poses o expresiones que informan, a sus congeneres, sus enemigos o sus cuidadores, de su animo o sus intenciones. \n",
       "2                                                                                                                                                                                            Los cricetinos (Cricetinae) son una subfamilia de roedores, conocidos comunmente como hamsteres (un germanismo).23 Se han identificado diecinueve especies actuales, agrupadas en siete generos. La mayoria son originarias de Oriente Medio y del sureste de los Estados Unidos. Todas las especies se caracterizan por las bolsas expansibles, llamadas abazones, ubicadas en el interior de la boca y que van desde las mejillas hasta los hombros. Al ser muy faciles de criar en cautividad, son ampliamente usados como animales de laboratorio y como mascotas. \n",
       "3                                                                                                                                                                                                                                                                                                             Cavia porcellus, conocida como cuy, cuye, cuyo, cobaya, cobayo, acure, guimo o conejillo de Indias, es una especie hibrida domestica de roedor histricomorfo de la familia Caviidae. Es el resultado del cruce milenario de varias especies del genero Cavia realizado en la region andina de America del Sur, habiendose encontrado registros arqueologicos en Colombia, Ecuador, Peru y Bolivia. Fue una ofrenda en tiempos antiguos para su Dios.1 \n",
       "4                                                                                                                                                                                                                                                         El canario domestico (Serinus canaria domestica)34 es una subespecie desarrollada durante siglos de seleccion en cautividad partiendo de ejemplares del canario silvestre o canario salvaje (Serinus canaria), una especie de ave del orden paseriforme de la familia de los fringilidos, endemica de las islas Canarias, Azores y Madeira.56Es el ave domestica criada como animal de compania mas abundante del mundo junto con el periquito. A pesar de esto, no se conocen poblaciones asilvestradas. \n",
       "Name: descripcion, dtype: object"
      ]
     },
     "execution_count": 33,
     "metadata": {},
     "output_type": "execute_result"
    }
   ],
   "source": [
    "mascotas_df[\"descripcion\"].apply(strip_accents_ascii)"
   ]
  },
  {
   "cell_type": "markdown",
   "id": "d93f922c",
   "metadata": {},
   "source": [
    "Aplicación sobre DataFrames:"
   ]
  },
  {
   "cell_type": "code",
   "execution_count": 34,
   "id": "19bb4c37",
   "metadata": {},
   "outputs": [
    {
     "data": {
      "text/html": [
       "<div>\n",
       "<style scoped>\n",
       "    .dataframe tbody tr th:only-of-type {\n",
       "        vertical-align: middle;\n",
       "    }\n",
       "\n",
       "    .dataframe tbody tr th {\n",
       "        vertical-align: top;\n",
       "    }\n",
       "\n",
       "    .dataframe thead th {\n",
       "        text-align: right;\n",
       "    }\n",
       "</style>\n",
       "<table border=\"1\" class=\"dataframe\">\n",
       "  <thead>\n",
       "    <tr style=\"text-align: right;\">\n",
       "      <th></th>\n",
       "      <th>nombre</th>\n",
       "      <th>descripcion</th>\n",
       "    </tr>\n",
       "  </thead>\n",
       "  <tbody>\n",
       "    <tr>\n",
       "      <th>0</th>\n",
       "      <td>Perro</td>\n",
       "      <td>El perro (Canis familiaris o Canis lupus familiaris, dependiendo de si se lo considera una especie por derecho propio o una subespecie del lobo),1​2​3​ llamado perro doméstico o can,4​ y en algunos lugares coloquialmente llamado chucho,5​ tuso,6​ choco,7​ entre otros; es un mamífero carnívoro de la familia de los cánidos, que constituye una especie del género Canis.8​9​ En el 2013, la población mundial estimada de perros estaba entre setecientos millones y novecientos ochenta y siete millones.10​11​ Su tamaño (o talla), su forma y su pelaje es muy diverso, según la raza. Posee un oído y un olfato muy desarrollados, y este último es su principal órgano sensorial. Su longevidad media es de diez a trece años,12​13​14​ dependiendo de la raza.</td>\n",
       "    </tr>\n",
       "    <tr>\n",
       "      <th>1</th>\n",
       "      <td>Gato</td>\n",
       "      <td>El gato doméstico1​2​ (Felis silvestris catus), llamado popularmente gato, y de forma coloquial minino,3​ michino,4​ michi,5​ micho,6​ mizo,7​ miz,8​ morroño9​ o morrongo,10​ entre otros nombres, es un mamífero carnívoro de la familia Felidae. Es una subespecie domesticada por la convivencia con el ser humano. El gato se comunica a través de vocalizaciones. Las más populares son su característico maullido y el ronroneo, pero puede aullar, gemir, gruñir y bufar.11​Los gatos desarrollaron el maullido con la única finalidad de poder comunicarse con el ser humano. Además, adopta poses o expresiones que informan, a sus congéneres, sus enemigos o sus cuidadores, de su ánimo o sus intenciones.</td>\n",
       "    </tr>\n",
       "    <tr>\n",
       "      <th>2</th>\n",
       "      <td>Hamster</td>\n",
       "      <td>Los cricetinos (Cricetinae) son una subfamilia de roedores, conocidos comúnmente como hámsteres (un germanismo).2​3​ Se han identificado diecinueve especies actuales, agrupadas en siete géneros. La mayoría son originarias de Oriente Medio y del sureste de los Estados Unidos. Todas las especies se caracterizan por las bolsas expansibles, llamadas abazones, ubicadas en el interior de la boca y que van desde las mejillas hasta los hombros. Al ser muy fáciles de criar en cautividad, son ampliamente usados como animales de laboratorio y como mascotas.</td>\n",
       "    </tr>\n",
       "    <tr>\n",
       "      <th>3</th>\n",
       "      <td>Cuy</td>\n",
       "      <td>Cavia porcellus, conocida como cuy, cuye, cuyo, cobaya, cobayo, acure, güimo o conejillo de Indias, es una especie híbrida doméstica de roedor histricomorfo de la familia Caviidae. Es el resultado del cruce milenario de varias especies del género Cavia realizado en la región andina de América del Sur, habiéndose encontrado registros arqueológicos en Colombia, Ecuador, Perú y Bolivia. Fue una ofrenda en tiempos antiguos para su Dios.1​</td>\n",
       "    </tr>\n",
       "    <tr>\n",
       "      <th>4</th>\n",
       "      <td>Canario</td>\n",
       "      <td>El canario doméstico (Serinus canaria domestica)3​4​ es una subespecie desarrollada durante siglos de selección en cautividad partiendo de ejemplares del canario silvestre o canario salvaje (Serinus canaria), una especie de ave del orden paseriforme de la familia de los fringílidos, endémica de las islas Canarias, Azores y Madeira.5​6​Es el ave doméstica criada como animal de compañía más abundante del mundo junto con el periquito. A pesar de esto, no se conocen poblaciones asilvestradas.</td>\n",
       "    </tr>\n",
       "  </tbody>\n",
       "</table>\n",
       "</div>"
      ],
      "text/plain": [
       "    nombre  \\\n",
       "0    Perro   \n",
       "1     Gato   \n",
       "2  Hamster   \n",
       "3      Cuy   \n",
       "4  Canario   \n",
       "\n",
       "                                                                                                                                                                                                                                                                                                                                                                                                                                                                                                                                                                                                                                                                                                                                                                     descripcion  \n",
       "0  El perro (Canis familiaris o Canis lupus familiaris, dependiendo de si se lo considera una especie por derecho propio o una subespecie del lobo),1​2​3​ llamado perro doméstico o can,4​ y en algunos lugares coloquialmente llamado chucho,5​ tuso,6​ choco,7​ entre otros; es un mamífero carnívoro de la familia de los cánidos, que constituye una especie del género Canis.8​9​ En el 2013, la población mundial estimada de perros estaba entre setecientos millones y novecientos ochenta y siete millones.10​11​ Su tamaño (o talla), su forma y su pelaje es muy diverso, según la raza. Posee un oído y un olfato muy desarrollados, y este último es su principal órgano sensorial. Su longevidad media es de diez a trece años,12​13​14​ dependiendo de la raza.   \n",
       "1                                                       El gato doméstico1​2​ (Felis silvestris catus), llamado popularmente gato, y de forma coloquial minino,3​ michino,4​ michi,5​ micho,6​ mizo,7​ miz,8​ morroño9​ o morrongo,10​ entre otros nombres, es un mamífero carnívoro de la familia Felidae. Es una subespecie domesticada por la convivencia con el ser humano. El gato se comunica a través de vocalizaciones. Las más populares son su característico maullido y el ronroneo, pero puede aullar, gemir, gruñir y bufar.11​Los gatos desarrollaron el maullido con la única finalidad de poder comunicarse con el ser humano. Además, adopta poses o expresiones que informan, a sus congéneres, sus enemigos o sus cuidadores, de su ánimo o sus intenciones.   \n",
       "2                                                                                                                                                                                                      Los cricetinos (Cricetinae) son una subfamilia de roedores, conocidos comúnmente como hámsteres (un germanismo).2​3​ Se han identificado diecinueve especies actuales, agrupadas en siete géneros. La mayoría son originarias de Oriente Medio y del sureste de los Estados Unidos. Todas las especies se caracterizan por las bolsas expansibles, llamadas abazones, ubicadas en el interior de la boca y que van desde las mejillas hasta los hombros. Al ser muy fáciles de criar en cautividad, son ampliamente usados como animales de laboratorio y como mascotas.   \n",
       "3                                                                                                                                                                                                                                                                                                                        Cavia porcellus, conocida como cuy, cuye, cuyo, cobaya, cobayo, acure, güimo o conejillo de Indias, es una especie híbrida doméstica de roedor histricomorfo de la familia Caviidae. Es el resultado del cruce milenario de varias especies del género Cavia realizado en la región andina de América del Sur, habiéndose encontrado registros arqueológicos en Colombia, Ecuador, Perú y Bolivia. Fue una ofrenda en tiempos antiguos para su Dios.1​   \n",
       "4                                                                                                                                                                                                                                                                 El canario doméstico (Serinus canaria domestica)3​4​ es una subespecie desarrollada durante siglos de selección en cautividad partiendo de ejemplares del canario silvestre o canario salvaje (Serinus canaria), una especie de ave del orden paseriforme de la familia de los fringílidos, endémica de las islas Canarias, Azores y Madeira.5​6​Es el ave doméstica criada como animal de compañía más abundante del mundo junto con el periquito. A pesar de esto, no se conocen poblaciones asilvestradas.   "
      ]
     },
     "execution_count": 34,
     "metadata": {},
     "output_type": "execute_result"
    }
   ],
   "source": [
    "mascotas_df"
   ]
  },
  {
   "cell_type": "code",
   "execution_count": 35,
   "id": "c6788dde",
   "metadata": {},
   "outputs": [
    {
     "data": {
      "text/plain": [
       "0    Perro - El perro (Canis familiaris o Canis lupus familiaris, dependiendo de si se lo considera una especie por derecho propio o una subespecie del lobo),1​2​3​ llamado perro doméstico o can,4​ y en algunos lugares coloquialmente llamado chucho,5​ tuso,6​ choco,7​ entre otros; es un mamífero carnívoro de la familia de los cánidos, que constituye una especie del género Canis.8​9​ En el 2013, la población mundial estimada de perros estaba entre setecientos millones y novecientos ochenta y siete millones.10​11​ Su tamaño (o talla), su forma y su pelaje es muy diverso, según la raza. Posee un oído y un olfato muy desarrollados, y este último es su principal órgano sensorial. Su longevidad media es de diez a trece años,12​13​14​ dependiendo de la raza. \n",
       "1                                                          Gato - El gato doméstico1​2​ (Felis silvestris catus), llamado popularmente gato, y de forma coloquial minino,3​ michino,4​ michi,5​ micho,6​ mizo,7​ miz,8​ morroño9​ o morrongo,10​ entre otros nombres, es un mamífero carnívoro de la familia Felidae. Es una subespecie domesticada por la convivencia con el ser humano. El gato se comunica a través de vocalizaciones. Las más populares son su característico maullido y el ronroneo, pero puede aullar, gemir, gruñir y bufar.11​Los gatos desarrollaron el maullido con la única finalidad de poder comunicarse con el ser humano. Además, adopta poses o expresiones que informan, a sus congéneres, sus enemigos o sus cuidadores, de su ánimo o sus intenciones. \n",
       "2                                                                                                                                                                                                      Hamster - Los cricetinos (Cricetinae) son una subfamilia de roedores, conocidos comúnmente como hámsteres (un germanismo).2​3​ Se han identificado diecinueve especies actuales, agrupadas en siete géneros. La mayoría son originarias de Oriente Medio y del sureste de los Estados Unidos. Todas las especies se caracterizan por las bolsas expansibles, llamadas abazones, ubicadas en el interior de la boca y que van desde las mejillas hasta los hombros. Al ser muy fáciles de criar en cautividad, son ampliamente usados como animales de laboratorio y como mascotas. \n",
       "3                                                                                                                                                                                                                                                                                                                            Cuy - Cavia porcellus, conocida como cuy, cuye, cuyo, cobaya, cobayo, acure, güimo o conejillo de Indias, es una especie híbrida doméstica de roedor histricomorfo de la familia Caviidae. Es el resultado del cruce milenario de varias especies del género Cavia realizado en la región andina de América del Sur, habiéndose encontrado registros arqueológicos en Colombia, Ecuador, Perú y Bolivia. Fue una ofrenda en tiempos antiguos para su Dios.1​ \n",
       "4                                                                                                                                                                                                                                                                 Canario - El canario doméstico (Serinus canaria domestica)3​4​ es una subespecie desarrollada durante siglos de selección en cautividad partiendo de ejemplares del canario silvestre o canario salvaje (Serinus canaria), una especie de ave del orden paseriforme de la familia de los fringílidos, endémica de las islas Canarias, Azores y Madeira.5​6​Es el ave doméstica criada como animal de compañía más abundante del mundo junto con el periquito. A pesar de esto, no se conocen poblaciones asilvestradas. \n",
       "dtype: object"
      ]
     },
     "execution_count": 35,
     "metadata": {},
     "output_type": "execute_result"
    }
   ],
   "source": [
    "mascotas_df.apply(lambda x: x[\"nombre\"] + \" - \" + x[\"descripcion\"], axis=1)"
   ]
  },
  {
   "cell_type": "markdown",
   "id": "d4263b07",
   "metadata": {},
   "source": [
    "#### Preprocesamiento Completo"
   ]
  },
  {
   "cell_type": "code",
   "execution_count": 37,
   "id": "c6c4b682",
   "metadata": {},
   "outputs": [
    {
     "data": {
      "text/plain": [
       "0    El perro (Canis familiaris o Canis lupus familiaris, dependiendo de si se lo considera una especie por derecho propio o una subespecie del lobo),1​2​3​ llamado perro doméstico o can,4​ y en algunos lugares coloquialmente llamado chucho,5​ tuso,6​ choco,7​ entre otros; es un mamífero carnívoro de la familia de los cánidos, que constituye una especie del género Canis.8​9​ En el 2013, la población mundial estimada de perros estaba entre setecientos millones y novecientos ochenta y siete millones.10​11​ Su tamaño (o talla), su forma y su pelaje es muy diverso, según la raza. Posee un oído y un olfato muy desarrollados, y este último es su principal órgano sensorial. Su longevidad media es de diez a trece años,12​13​14​ dependiendo de la raza. \n",
       "1                                                         El gato doméstico1​2​ (Felis silvestris catus), llamado popularmente gato, y de forma coloquial minino,3​ michino,4​ michi,5​ micho,6​ mizo,7​ miz,8​ morroño9​ o morrongo,10​ entre otros nombres, es un mamífero carnívoro de la familia Felidae. Es una subespecie domesticada por la convivencia con el ser humano. El gato se comunica a través de vocalizaciones. Las más populares son su característico maullido y el ronroneo, pero puede aullar, gemir, gruñir y bufar.11​Los gatos desarrollaron el maullido con la única finalidad de poder comunicarse con el ser humano. Además, adopta poses o expresiones que informan, a sus congéneres, sus enemigos o sus cuidadores, de su ánimo o sus intenciones. \n",
       "2                                                                                                                                                                                                        Los cricetinos (Cricetinae) son una subfamilia de roedores, conocidos comúnmente como hámsteres (un germanismo).2​3​ Se han identificado diecinueve especies actuales, agrupadas en siete géneros. La mayoría son originarias de Oriente Medio y del sureste de los Estados Unidos. Todas las especies se caracterizan por las bolsas expansibles, llamadas abazones, ubicadas en el interior de la boca y que van desde las mejillas hasta los hombros. Al ser muy fáciles de criar en cautividad, son ampliamente usados como animales de laboratorio y como mascotas. \n",
       "3                                                                                                                                                                                                                                                                                                                          Cavia porcellus, conocida como cuy, cuye, cuyo, cobaya, cobayo, acure, güimo o conejillo de Indias, es una especie híbrida doméstica de roedor histricomorfo de la familia Caviidae. Es el resultado del cruce milenario de varias especies del género Cavia realizado en la región andina de América del Sur, habiéndose encontrado registros arqueológicos en Colombia, Ecuador, Perú y Bolivia. Fue una ofrenda en tiempos antiguos para su Dios.1​ \n",
       "4                                                                                                                                                                                                                                                                   El canario doméstico (Serinus canaria domestica)3​4​ es una subespecie desarrollada durante siglos de selección en cautividad partiendo de ejemplares del canario silvestre o canario salvaje (Serinus canaria), una especie de ave del orden paseriforme de la familia de los fringílidos, endémica de las islas Canarias, Azores y Madeira.5​6​Es el ave doméstica criada como animal de compañía más abundante del mundo junto con el periquito. A pesar de esto, no se conocen poblaciones asilvestradas. \n",
       "Name: descripcion, dtype: object"
      ]
     },
     "execution_count": 37,
     "metadata": {},
     "output_type": "execute_result"
    }
   ],
   "source": [
    "mascotas_df[\"descripcion\"]"
   ]
  },
  {
   "cell_type": "code",
   "execution_count": 38,
   "id": "5bdece33",
   "metadata": {},
   "outputs": [
    {
     "data": {
      "text/plain": [
       "0    el perro canis familiaris o canis lupus familiaris dependiendo de si se lo considera una especie por derecho propio o una subespecie del lobo llamado perro domestico o can y en algunos lugares coloquialmente llamado chucho tuso choco entre otros es un mamifero carnivoro de la familia de los canidos que constituye una especie del genero canis en el la poblacion mundial estimada de perros estaba entre setecientos millones y novecientos ochenta y siete millones su tamano o talla su forma y su pelaje es muy diverso segun la raza posee un oido y un olfato muy desarrollados y este ultimo es su principal organo sensorial su longevidad media es de diez a trece anos dependiendo de la raza\n",
       "1                                             el gato domestico felis silvestris catus llamado popularmente gato y de forma coloquial minino michino michi micho mizo miz morrono o morrongo entre otros nombres es un mamifero carnivoro de la familia felidae es una subespecie domesticada por la convivencia con el ser humano el gato se comunica a traves de vocalizaciones las mas populares son su caracteristico maullido y el ronroneo pero puede aullar gemir grunir y bufar los gatos desarrollaron el maullido con la unica finalidad de poder comunicarse con el ser humano ademas adopta poses o expresiones que informan a sus congeneres sus enemigos o sus cuidadores de su animo o sus intenciones\n",
       "2                                                                                                                                                              los cricetinos cricetinae son una subfamilia de roedores conocidos comunmente como hamsteres un germanismo se han identificado diecinueve especies actuales agrupadas en siete generos la mayoria son originarias de oriente medio y del sureste de los estados unidos todas las especies se caracterizan por las bolsas expansibles llamadas abazones ubicadas en el interior de la boca y que van desde las mejillas hasta los hombros al ser muy faciles de criar en cautividad son ampliamente usados como animales de laboratorio y como mascotas\n",
       "3                                                                                                                                                                                                                                                                              cavia porcellus conocida como cuy cuye cuyo cobaya cobayo acure guimo o conejillo de indias es una especie hibrida domestica de roedor histricomorfo de la familia caviidae es el resultado del cruce milenario de varias especies del genero cavia realizado en la region andina de america del sur habiendose encontrado registros arqueologicos en colombia ecuador peru y bolivia fue una ofrenda en tiempos antiguos para su dios\n",
       "4                                                                                                                                                                                                                         el canario domestico serinus canaria domestica es una subespecie desarrollada durante siglos de seleccion en cautividad partiendo de ejemplares del canario silvestre o canario salvaje serinus canaria una especie de ave del orden paseriforme de la familia de los fringilidos endemica de las islas canarias azores y madeira es el ave domestica criada como animal de compania mas abundante del mundo junto con el periquito a pesar de esto no se conocen poblaciones asilvestradas\n",
       "Name: descripcion, dtype: object"
      ]
     },
     "execution_count": 38,
     "metadata": {},
     "output_type": "execute_result"
    }
   ],
   "source": [
    "(\n",
    "    mascotas_df[\"descripcion\"]\n",
    "    .apply(lambda x: strip_accents_ascii(x))\n",
    "    .str.replace(\"\\(|\\)|,|\\d{1,3}|;|\\.\", \" \", regex=True)\n",
    "    .str.replace(r\"\\s+\", \" \", regex=True)\n",
    "    .str.strip()\n",
    "    .str.lower()\n",
    ")"
   ]
  },
  {
   "cell_type": "markdown",
   "id": "a5ae19de",
   "metadata": {},
   "source": [
    "#### Concatenación"
   ]
  },
  {
   "cell_type": "code",
   "execution_count": 39,
   "id": "2a92420d",
   "metadata": {},
   "outputs": [
    {
     "data": {
      "text/plain": [
       "'el perro canis familiaris o canis lupus familiaris dependiendo de si se lo considera una especie por derecho propio o una subespecie del lobo llamado perro domestico o can y en algunos lugares coloquialmente llamado chucho tuso choco entre otros es un mamifero carnivoro de la familia de los canidos que constituye una especie del genero canis en el la poblacion mundial estimada de perros estaba entre setecientos millones y novecientos ochenta y siete millones su tamano o talla su forma y su pelaje es muy diverso segun la raza posee un oido y un olfato muy desarrollados y este ultimo es su principal organo sensorial su longevidad media es de diez a trece anos dependiendo de la raza|el gato domestico felis silvestris catus llamado popularmente gato y de forma coloquial minino michino michi micho mizo miz morrono o morrongo entre otros nombres es un mamifero carnivoro de la familia felidae es una subespecie domesticada por la convivencia con el ser humano el gato se comunica a traves de vocalizaciones las mas populares son su caracteristico maullido y el ronroneo pero puede aullar gemir grunir y bufar los gatos desarrollaron el maullido con la unica finalidad de poder comunicarse con el ser humano ademas adopta poses o expresiones que informan a sus congeneres sus enemigos o sus cuidadores de su animo o sus intenciones|los cricetinos cricetinae son una subfamilia de roedores conocidos comunmente como hamsteres un germanismo se han identificado diecinueve especies actuales agrupadas en siete generos la mayoria son originarias de oriente medio y del sureste de los estados unidos todas las especies se caracterizan por las bolsas expansibles llamadas abazones ubicadas en el interior de la boca y que van desde las mejillas hasta los hombros al ser muy faciles de criar en cautividad son ampliamente usados como animales de laboratorio y como mascotas|cavia porcellus conocida como cuy cuye cuyo cobaya cobayo acure guimo o conejillo de indias es una especie hibrida domestica de roedor histricomorfo de la familia caviidae es el resultado del cruce milenario de varias especies del genero cavia realizado en la region andina de america del sur habiendose encontrado registros arqueologicos en colombia ecuador peru y bolivia fue una ofrenda en tiempos antiguos para su dios|el canario domestico serinus canaria domestica es una subespecie desarrollada durante siglos de seleccion en cautividad partiendo de ejemplares del canario silvestre o canario salvaje serinus canaria una especie de ave del orden paseriforme de la familia de los fringilidos endemica de las islas canarias azores y madeira es el ave domestica criada como animal de compania mas abundante del mundo junto con el periquito a pesar de esto no se conocen poblaciones asilvestradas'"
      ]
     },
     "execution_count": 39,
     "metadata": {},
     "output_type": "execute_result"
    }
   ],
   "source": [
    "desc_limpia = (\n",
    "    mascotas_df[\"descripcion\"]\n",
    "    .apply(lambda x: strip_accents_ascii(x))\n",
    "    .str.replace(\"\\(|\\)|,|\\d{1,3}|;|\\.\", \" \", regex=True)\n",
    "    .str.replace(r\"\\s+\", \" \", regex=True)\n",
    "    .str.strip()\n",
    "    .str.lower()\n",
    ")\n",
    "# s1 + s2 + ... + sn\n",
    "desc_limpia.str.cat(sep=\"|\")"
   ]
  },
  {
   "cell_type": "markdown",
   "id": "b47a19fa-77f0-4abd-90c9-f438d3ba51a2",
   "metadata": {},
   "source": [
    "---\n",
    "\n",
    "## 2.- Datos Temporales"
   ]
  },
  {
   "cell_type": "markdown",
   "id": "4c9933be-bbfc-4fa7-b963-c927ed645c75",
   "metadata": {},
   "source": [
    "### Módulo Datetime\n",
    "\n",
    "Módulo built-in de python enfocado en manejar fechas y horas."
   ]
  },
  {
   "cell_type": "code",
   "execution_count": 40,
   "id": "2b2f2c45-32b9-4813-b140-15bc4a522cff",
   "metadata": {},
   "outputs": [],
   "source": [
    "import datetime"
   ]
  },
  {
   "cell_type": "markdown",
   "id": "9e9063b6-c306-41d0-83a7-4f011534ecd0",
   "metadata": {},
   "source": [
    "#### Date\n",
    "\n",
    "Objeto que almacena día, mes y año."
   ]
  },
  {
   "cell_type": "code",
   "execution_count": 41,
   "id": "b2a5d214-5070-4cfc-aa08-c809c0c9cf81",
   "metadata": {},
   "outputs": [
    {
     "name": "stdout",
     "output_type": "stream",
     "text": [
      "2022-04-25\n"
     ]
    }
   ],
   "source": [
    "date_object = datetime.date.today()\n",
    "print(date_object)"
   ]
  },
  {
   "cell_type": "code",
   "execution_count": 42,
   "id": "c6ad7148-abd1-4800-9800-92c5a9154bb5",
   "metadata": {},
   "outputs": [
    {
     "data": {
      "text/plain": [
       "25"
      ]
     },
     "execution_count": 42,
     "metadata": {},
     "output_type": "execute_result"
    }
   ],
   "source": [
    "date_object.day"
   ]
  },
  {
   "cell_type": "code",
   "execution_count": 43,
   "id": "93d940d7-328e-4dbf-bb7a-133f4b764e5c",
   "metadata": {},
   "outputs": [
    {
     "data": {
      "text/plain": [
       "4"
      ]
     },
     "execution_count": 43,
     "metadata": {},
     "output_type": "execute_result"
    }
   ],
   "source": [
    "date_object.month"
   ]
  },
  {
   "cell_type": "code",
   "execution_count": 44,
   "id": "84e2f758-6a7a-4eec-a046-b7137b96cd1b",
   "metadata": {},
   "outputs": [
    {
     "data": {
      "text/plain": [
       "2022"
      ]
     },
     "execution_count": 44,
     "metadata": {},
     "output_type": "execute_result"
    }
   ],
   "source": [
    "date_object.year"
   ]
  },
  {
   "cell_type": "markdown",
   "id": "28f628ac-322d-4934-9ffa-df7afce926a0",
   "metadata": {},
   "source": [
    "#### Datetime\n",
    "\n",
    "Almacena segundos, minutos, hora, día, mes y año. También puede contener timezone."
   ]
  },
  {
   "cell_type": "code",
   "execution_count": 45,
   "id": "19ed10ec-bfe4-4420-a871-caa310508f4c",
   "metadata": {},
   "outputs": [
    {
     "name": "stdout",
     "output_type": "stream",
     "text": [
      "2022-04-25 17:33:24.430822\n"
     ]
    }
   ],
   "source": [
    "datetime_object = datetime.datetime.now()\n",
    "print(datetime_object)"
   ]
  },
  {
   "cell_type": "markdown",
   "id": "1ede2a4f-263d-4354-b1ba-ccb7b4e6eb54",
   "metadata": {},
   "source": [
    "#### Instanciar nuevos Date y Datetimes"
   ]
  },
  {
   "cell_type": "code",
   "execution_count": 46,
   "id": "2a195750-6552-4cc4-bf73-f272ffdd63d6",
   "metadata": {},
   "outputs": [
    {
     "name": "stdout",
     "output_type": "stream",
     "text": [
      "2021-09-09\n"
     ]
    }
   ],
   "source": [
    "d = datetime.date(2021, 9, 9)\n",
    "print(d)"
   ]
  },
  {
   "cell_type": "code",
   "execution_count": 47,
   "id": "552c62d5-e254-424c-8af7-1779ff47b183",
   "metadata": {},
   "outputs": [
    {
     "name": "stdout",
     "output_type": "stream",
     "text": [
      "Año: 2021\n",
      "Mes: 9\n",
      "Día: 9\n"
     ]
    }
   ],
   "source": [
    "print(\"Año:\", d.year)\n",
    "print(\"Mes:\", d.month)\n",
    "print(\"Día:\", d.day)"
   ]
  },
  {
   "cell_type": "code",
   "execution_count": 48,
   "id": "0564bbaa-8a96-48bf-9926-d7b91699be56",
   "metadata": {},
   "outputs": [
    {
     "name": "stdout",
     "output_type": "stream",
     "text": [
      "2021-04-19 10:59:55\n"
     ]
    }
   ],
   "source": [
    "d = datetime.datetime(2021, 4, 19, 10, 59, 55)\n",
    "print(d)"
   ]
  },
  {
   "cell_type": "code",
   "execution_count": 49,
   "id": "0bea4dcf-0259-47cf-b3ae-acb6349a66f5",
   "metadata": {},
   "outputs": [
    {
     "name": "stdout",
     "output_type": "stream",
     "text": [
      "Hora: 10\n",
      "Minuto: 59\n",
      "Segundo: 55\n",
      "Microsegundo: 0\n"
     ]
    }
   ],
   "source": [
    "print(\"Hora:\", d.hour)\n",
    "print(\"Minuto:\", d.minute)\n",
    "print(\"Segundo:\", d.second)\n",
    "print(\"Microsegundo:\", d.microsecond)"
   ]
  },
  {
   "cell_type": "markdown",
   "id": "a70d1aa9-1778-4b92-b18b-ad1bd0791d79",
   "metadata": {},
   "source": [
    "Obviamente, estos objetos cuentan con las restricciones pertinentes "
   ]
  },
  {
   "cell_type": "code",
   "execution_count": 50,
   "id": "62c8d446-0348-4efc-9687-3f6587556b46",
   "metadata": {},
   "outputs": [
    {
     "ename": "ValueError",
     "evalue": "year -1 is out of range",
     "output_type": "error",
     "traceback": [
      "\u001b[0;31m---------------------------------------------------------------------------\u001b[0m",
      "\u001b[0;31mValueError\u001b[0m                                Traceback (most recent call last)",
      "Input \u001b[0;32mIn [50]\u001b[0m, in \u001b[0;36m<cell line: 1>\u001b[0;34m()\u001b[0m\n\u001b[0;32m----> 1\u001b[0m \u001b[43mdatetime\u001b[49m\u001b[38;5;241;43m.\u001b[39;49m\u001b[43mdatetime\u001b[49m\u001b[43m(\u001b[49m\u001b[38;5;241;43m-\u001b[39;49m\u001b[38;5;241;43m1\u001b[39;49m\u001b[43m,\u001b[49m\u001b[43m \u001b[49m\u001b[38;5;241;43m4\u001b[39;49m\u001b[43m,\u001b[49m\u001b[43m \u001b[49m\u001b[38;5;241;43m19\u001b[39;49m\u001b[43m,\u001b[49m\u001b[43m \u001b[49m\u001b[38;5;241;43m10\u001b[39;49m\u001b[43m,\u001b[49m\u001b[43m \u001b[49m\u001b[38;5;241;43m59\u001b[39;49m\u001b[43m,\u001b[49m\u001b[43m \u001b[49m\u001b[38;5;241;43m55\u001b[39;49m\u001b[43m)\u001b[49m\n",
      "\u001b[0;31mValueError\u001b[0m: year -1 is out of range"
     ]
    }
   ],
   "source": [
    "datetime.datetime(-1, 4, 19, 10, 59, 55)"
   ]
  },
  {
   "cell_type": "code",
   "execution_count": 53,
   "id": "9d77a6ae-f64a-42d3-ae21-3290d83715a2",
   "metadata": {},
   "outputs": [
    {
     "data": {
      "text/plain": [
       "datetime.datetime(9999, 4, 19, 10, 59, 55)"
      ]
     },
     "execution_count": 53,
     "metadata": {},
     "output_type": "execute_result"
    }
   ],
   "source": [
    "datetime.datetime(9999, 4, 19, 10, 59, 55)"
   ]
  },
  {
   "cell_type": "markdown",
   "id": "8f93adec-b51b-4f22-824b-a9fc2d31e5de",
   "metadata": {},
   "source": [
    "Relacionado: https://es.wikipedia.org/wiki/Problema_del_a%C3%B1o_2000\n",
    "\n",
    "\n",
    "El problema del año 2000, fue un bug o error de software causado por la costumbre que habían adoptado los programadores de omitir la centuria en el año para el almacenamiento de fechas (generalmente para economizar memoria), asumiendo que el software solo funcionaría durante los años cuyos números comenzaran con 19XX\n",
    "\n",
    "\n",
    "![Antes](https://www.sopitas.com/wp-content/uploads/2016/04/ss.gif)\n"
   ]
  },
  {
   "cell_type": "code",
   "execution_count": 54,
   "id": "f60933cc-3e53-4c52-97e2-3a819ca04a17",
   "metadata": {},
   "outputs": [
    {
     "ename": "ValueError",
     "evalue": "year 999999 is out of range",
     "output_type": "error",
     "traceback": [
      "\u001b[0;31m---------------------------------------------------------------------------\u001b[0m",
      "\u001b[0;31mValueError\u001b[0m                                Traceback (most recent call last)",
      "Input \u001b[0;32mIn [54]\u001b[0m, in \u001b[0;36m<cell line: 1>\u001b[0;34m()\u001b[0m\n\u001b[0;32m----> 1\u001b[0m \u001b[43mdatetime\u001b[49m\u001b[38;5;241;43m.\u001b[39;49m\u001b[43mdatetime\u001b[49m\u001b[43m(\u001b[49m\u001b[38;5;241;43m999999\u001b[39;49m\u001b[43m,\u001b[49m\u001b[43m \u001b[49m\u001b[38;5;241;43m4\u001b[39;49m\u001b[43m,\u001b[49m\u001b[43m \u001b[49m\u001b[38;5;241;43m19\u001b[39;49m\u001b[43m,\u001b[49m\u001b[43m \u001b[49m\u001b[38;5;241;43m10\u001b[39;49m\u001b[43m,\u001b[49m\u001b[43m \u001b[49m\u001b[38;5;241;43m59\u001b[39;49m\u001b[43m,\u001b[49m\u001b[43m \u001b[49m\u001b[38;5;241;43m55\u001b[39;49m\u001b[43m)\u001b[49m\n",
      "\u001b[0;31mValueError\u001b[0m: year 999999 is out of range"
     ]
    }
   ],
   "source": [
    "datetime.datetime(999999, 4, 19, 10, 59, 55)"
   ]
  },
  {
   "cell_type": "code",
   "execution_count": 55,
   "id": "6c4bde86-a577-488e-b340-0a905a5f0d61",
   "metadata": {},
   "outputs": [
    {
     "ename": "ValueError",
     "evalue": "minute must be in 0..59",
     "output_type": "error",
     "traceback": [
      "\u001b[0;31m---------------------------------------------------------------------------\u001b[0m",
      "\u001b[0;31mValueError\u001b[0m                                Traceback (most recent call last)",
      "Input \u001b[0;32mIn [55]\u001b[0m, in \u001b[0;36m<cell line: 1>\u001b[0;34m()\u001b[0m\n\u001b[0;32m----> 1\u001b[0m \u001b[43mdatetime\u001b[49m\u001b[38;5;241;43m.\u001b[39;49m\u001b[43mdatetime\u001b[49m\u001b[43m(\u001b[49m\u001b[38;5;241;43m2020\u001b[39;49m\u001b[43m,\u001b[49m\u001b[43m \u001b[49m\u001b[38;5;241;43m4\u001b[39;49m\u001b[43m,\u001b[49m\u001b[43m \u001b[49m\u001b[38;5;241;43m19\u001b[39;49m\u001b[43m,\u001b[49m\u001b[43m \u001b[49m\u001b[38;5;241;43m10\u001b[39;49m\u001b[43m,\u001b[49m\u001b[43m \u001b[49m\u001b[38;5;241;43m60\u001b[39;49m\u001b[43m,\u001b[49m\u001b[43m \u001b[49m\u001b[38;5;241;43m55\u001b[39;49m\u001b[43m)\u001b[49m\n",
      "\u001b[0;31mValueError\u001b[0m: minute must be in 0..59"
     ]
    }
   ],
   "source": [
    "datetime.datetime(2020, 4, 19, 10, 60, 55)"
   ]
  },
  {
   "cell_type": "markdown",
   "id": "598efa1a-1d72-4adf-acdc-b119816a8fbd",
   "metadata": {},
   "source": [
    "¿Y los años bisiestos?"
   ]
  },
  {
   "cell_type": "code",
   "execution_count": 56,
   "id": "3ac621c8-fa75-43c8-b14e-ef6ee392dcd0",
   "metadata": {},
   "outputs": [
    {
     "data": {
      "text/plain": [
       "datetime.datetime(2020, 2, 29, 0, 0)"
      ]
     },
     "execution_count": 56,
     "metadata": {},
     "output_type": "execute_result"
    }
   ],
   "source": [
    "datetime.datetime(2020, 2, 29)"
   ]
  },
  {
   "cell_type": "code",
   "execution_count": 57,
   "id": "e7497b7d-631a-4696-bb55-e55049ee870f",
   "metadata": {},
   "outputs": [
    {
     "ename": "ValueError",
     "evalue": "day is out of range for month",
     "output_type": "error",
     "traceback": [
      "\u001b[0;31m---------------------------------------------------------------------------\u001b[0m",
      "\u001b[0;31mValueError\u001b[0m                                Traceback (most recent call last)",
      "Input \u001b[0;32mIn [57]\u001b[0m, in \u001b[0;36m<cell line: 1>\u001b[0;34m()\u001b[0m\n\u001b[0;32m----> 1\u001b[0m \u001b[43mdatetime\u001b[49m\u001b[38;5;241;43m.\u001b[39;49m\u001b[43mdatetime\u001b[49m\u001b[43m(\u001b[49m\u001b[38;5;241;43m2021\u001b[39;49m\u001b[43m,\u001b[49m\u001b[43m \u001b[49m\u001b[38;5;241;43m2\u001b[39;49m\u001b[43m,\u001b[49m\u001b[43m \u001b[49m\u001b[38;5;241;43m29\u001b[39;49m\u001b[43m)\u001b[49m\n",
      "\u001b[0;31mValueError\u001b[0m: day is out of range for month"
     ]
    }
   ],
   "source": [
    "datetime.datetime(2021, 2, 29)"
   ]
  },
  {
   "cell_type": "markdown",
   "id": "e77ed491-9401-4aea-a2bc-506e81093891",
   "metadata": {},
   "source": [
    "##### Desde timestamp\n",
    "\n",
    "`A Unix timestamp is the number of seconds between a particular date and January 1, 1970 at UTC.`"
   ]
  },
  {
   "cell_type": "code",
   "execution_count": 58,
   "id": "6eb446b2-ab0b-4c15-8902-12cc9aa498e1",
   "metadata": {},
   "outputs": [
    {
     "name": "stdout",
     "output_type": "stream",
     "text": [
      "Date = 2012-01-10\n"
     ]
    }
   ],
   "source": [
    "timestamp = datetime.date.fromtimestamp(1326244364)\n",
    "print(\"Date =\", timestamp)"
   ]
  },
  {
   "cell_type": "markdown",
   "id": "ec68bbdf-f6e3-4df7-b488-bb3759cfb49f",
   "metadata": {},
   "source": [
    "> **Pregunta ❓**: ¿Podemos sumar o restar fechas?"
   ]
  },
  {
   "cell_type": "code",
   "execution_count": 59,
   "id": "cbf27631-8017-4abb-8839-e2c90d874863",
   "metadata": {},
   "outputs": [
    {
     "data": {
      "text/plain": [
       "datetime.datetime(1, 1, 1, 0, 0)"
      ]
     },
     "execution_count": 59,
     "metadata": {},
     "output_type": "execute_result"
    }
   ],
   "source": [
    "delta = datetime.datetime(1, 1, 1)\n",
    "delta"
   ]
  },
  {
   "cell_type": "code",
   "execution_count": 60,
   "id": "0a2b3440-ea2a-4cfa-aa88-81f2a2c858c6",
   "metadata": {},
   "outputs": [
    {
     "data": {
      "text/plain": [
       "datetime.datetime(2021, 4, 19, 10, 59, 55)"
      ]
     },
     "execution_count": 60,
     "metadata": {},
     "output_type": "execute_result"
    }
   ],
   "source": [
    "d"
   ]
  },
  {
   "cell_type": "code",
   "execution_count": 61,
   "id": "35c6272b-c378-4f63-8d43-f9ef8de004df",
   "metadata": {},
   "outputs": [
    {
     "ename": "TypeError",
     "evalue": "unsupported operand type(s) for +: 'datetime.datetime' and 'datetime.datetime'",
     "output_type": "error",
     "traceback": [
      "\u001b[0;31m---------------------------------------------------------------------------\u001b[0m",
      "\u001b[0;31mTypeError\u001b[0m                                 Traceback (most recent call last)",
      "Input \u001b[0;32mIn [61]\u001b[0m, in \u001b[0;36m<cell line: 1>\u001b[0;34m()\u001b[0m\n\u001b[0;32m----> 1\u001b[0m \u001b[43md\u001b[49m\u001b[43m \u001b[49m\u001b[38;5;241;43m+\u001b[39;49m\u001b[43m \u001b[49m\u001b[43mdelta\u001b[49m\n",
      "\u001b[0;31mTypeError\u001b[0m: unsupported operand type(s) for +: 'datetime.datetime' and 'datetime.datetime'"
     ]
    }
   ],
   "source": [
    "d + delta"
   ]
  },
  {
   "cell_type": "markdown",
   "id": "88b93cfe-3f0d-4a78-a0b2-abb6091c335c",
   "metadata": {},
   "source": [
    "#### TimeDelta\n",
    "\n",
    "Permide sumar semanas, días, horas, etc... a objetos `date` y `datetime`."
   ]
  },
  {
   "cell_type": "code",
   "execution_count": 62,
   "id": "19c06b94-474c-4054-8b0e-fdacda3bb445",
   "metadata": {},
   "outputs": [
    {
     "data": {
      "text/plain": [
       "datetime.datetime(2021, 4, 19, 10, 59, 55)"
      ]
     },
     "execution_count": 62,
     "metadata": {},
     "output_type": "execute_result"
    }
   ],
   "source": [
    "d"
   ]
  },
  {
   "cell_type": "code",
   "execution_count": 63,
   "id": "8d72de31-484a-430c-9c69-b1704b077ea2",
   "metadata": {},
   "outputs": [
    {
     "data": {
      "text/plain": [
       "datetime.timedelta(days=14)"
      ]
     },
     "execution_count": 63,
     "metadata": {},
     "output_type": "execute_result"
    }
   ],
   "source": [
    "from datetime import timedelta\n",
    "\n",
    "t1 = timedelta(weeks=2)\n",
    "t1"
   ]
  },
  {
   "cell_type": "code",
   "execution_count": 64,
   "id": "7456f6ea-55f2-428e-8865-9142ea755d5f",
   "metadata": {},
   "outputs": [
    {
     "data": {
      "text/plain": [
       "datetime.datetime(2021, 5, 3, 10, 59, 55)"
      ]
     },
     "execution_count": 64,
     "metadata": {},
     "output_type": "execute_result"
    }
   ],
   "source": [
    "d + t1"
   ]
  },
  {
   "cell_type": "markdown",
   "id": "5c5ff81b-685b-4d5f-9a64-57405ca7653b",
   "metadata": {},
   "source": [
    "¿Y tiempos negativos?"
   ]
  },
  {
   "cell_type": "code",
   "execution_count": 65,
   "id": "3c53e689-8967-4775-8b93-3756caf3edf3",
   "metadata": {},
   "outputs": [],
   "source": [
    "t2 = timedelta(minutes=-1)"
   ]
  },
  {
   "cell_type": "code",
   "execution_count": 66,
   "id": "e60ec2a2-459c-49f5-9c78-6c1c05189414",
   "metadata": {},
   "outputs": [
    {
     "data": {
      "text/plain": [
       "datetime.datetime(2021, 4, 19, 10, 58, 55)"
      ]
     },
     "execution_count": 66,
     "metadata": {},
     "output_type": "execute_result"
    }
   ],
   "source": [
    "d + t2"
   ]
  },
  {
   "cell_type": "code",
   "execution_count": 67,
   "id": "1c0925cc-f88a-424b-be3b-2d3914b467c5",
   "metadata": {},
   "outputs": [
    {
     "data": {
      "text/plain": [
       "datetime.datetime(2021, 4, 19, 11, 0, 55)"
      ]
     },
     "execution_count": 67,
     "metadata": {},
     "output_type": "execute_result"
    }
   ],
   "source": [
    "d - t2"
   ]
  },
  {
   "cell_type": "markdown",
   "id": "55de533a-ea34-4d9b-af59-4da1d3ae3c4b",
   "metadata": {},
   "source": [
    "¿Cambios de mes?"
   ]
  },
  {
   "cell_type": "code",
   "execution_count": 68,
   "id": "19be7712-2603-4215-a8ce-c504c54780f2",
   "metadata": {},
   "outputs": [],
   "source": [
    "t3 = timedelta(days=1)"
   ]
  },
  {
   "cell_type": "code",
   "execution_count": 69,
   "id": "424f2c13-962f-46e6-9d02-049476af9e78",
   "metadata": {},
   "outputs": [
    {
     "data": {
      "text/plain": [
       "datetime.date(2020, 2, 29)"
      ]
     },
     "execution_count": 69,
     "metadata": {},
     "output_type": "execute_result"
    }
   ],
   "source": [
    "t3 + datetime.date(2020, 2, 28)"
   ]
  },
  {
   "cell_type": "code",
   "execution_count": 70,
   "id": "fccef8ee-08f5-46e9-94f3-90ff1157cd6a",
   "metadata": {},
   "outputs": [
    {
     "data": {
      "text/plain": [
       "datetime.date(2021, 3, 1)"
      ]
     },
     "execution_count": 70,
     "metadata": {},
     "output_type": "execute_result"
    }
   ],
   "source": [
    "t3 + datetime.date(2021, 2, 28)"
   ]
  },
  {
   "cell_type": "markdown",
   "id": "d857fbc1-c587-48e5-89e9-e9a63f0b8338",
   "metadata": {},
   "source": [
    "#### Formatear a string"
   ]
  },
  {
   "cell_type": "code",
   "execution_count": 71,
   "id": "7788c00c-e055-48a3-99f0-a558406e7abc",
   "metadata": {},
   "outputs": [
    {
     "data": {
      "text/plain": [
       "'19/04/2021, 10:59:55'"
      ]
     },
     "execution_count": 71,
     "metadata": {},
     "output_type": "execute_result"
    }
   ],
   "source": [
    "s1 = d.strftime(\"%d/%m/%Y, %H:%M:%S\")\n",
    "# dd/mm/YY H:M:S format\n",
    "s1"
   ]
  },
  {
   "cell_type": "code",
   "execution_count": 72,
   "id": "13e643b3-bb57-4cd2-8e77-90056f509c5a",
   "metadata": {},
   "outputs": [
    {
     "data": {
      "text/plain": [
       "'19/04/2021'"
      ]
     },
     "execution_count": 72,
     "metadata": {},
     "output_type": "execute_result"
    }
   ],
   "source": [
    "s1 = d.strftime(\"%d/%m/%Y\")\n",
    "# dd/mm/YY H:M:S format\n",
    "s1"
   ]
  },
  {
   "cell_type": "code",
   "execution_count": 73,
   "id": "7ababef0-2180-4fff-a2fc-42287291fffe",
   "metadata": {},
   "outputs": [
    {
     "data": {
      "text/plain": [
       "'Monday 19 April 2021, 10:59:55'"
      ]
     },
     "execution_count": 73,
     "metadata": {},
     "output_type": "execute_result"
    }
   ],
   "source": [
    "s2 = d.strftime(\"%A %d %B %Y, %X\")\n",
    "# dd/mm/YY H:M:S format\n",
    "s2"
   ]
  },
  {
   "cell_type": "markdown",
   "id": "76cb1f50-f671-4848-a098-2af61e6665e9",
   "metadata": {},
   "source": [
    "Referencia completa de formateo de fechas:\n",
    "\n",
    "https://www.programiz.com/python-programming/datetime/strftime"
   ]
  },
  {
   "cell_type": "markdown",
   "id": "ea7552c1-79f6-4532-89a5-2d878e4eb568",
   "metadata": {},
   "source": [
    "---\n",
    "\n",
    "## 3.- Datos temporales en Pandas\n",
    "\n",
    "Pandas implementa su propio sistema de datetimes.\n",
    "`pd.to_datetimes` nos permite convertir una `Serie` o un `DataFrame` en una `Serie` de datetimes."
   ]
  },
  {
   "cell_type": "code",
   "execution_count": 74,
   "id": "b0116ba2-64b3-469c-a41a-9f4b8b096d2b",
   "metadata": {
    "scrolled": true
   },
   "outputs": [
    {
     "data": {
      "text/html": [
       "<div>\n",
       "<style scoped>\n",
       "    .dataframe tbody tr th:only-of-type {\n",
       "        vertical-align: middle;\n",
       "    }\n",
       "\n",
       "    .dataframe tbody tr th {\n",
       "        vertical-align: top;\n",
       "    }\n",
       "\n",
       "    .dataframe thead th {\n",
       "        text-align: right;\n",
       "    }\n",
       "</style>\n",
       "<table border=\"1\" class=\"dataframe\">\n",
       "  <thead>\n",
       "    <tr style=\"text-align: right;\">\n",
       "      <th></th>\n",
       "      <th>Temperature</th>\n",
       "      <th>Year</th>\n",
       "      <th>Month</th>\n",
       "      <th>Country</th>\n",
       "      <th>ISO3</th>\n",
       "    </tr>\n",
       "  </thead>\n",
       "  <tbody>\n",
       "    <tr>\n",
       "      <th>0</th>\n",
       "      <td>-0.03110</td>\n",
       "      <td>1991</td>\n",
       "      <td>Jan</td>\n",
       "      <td>Afghanistan</td>\n",
       "      <td>AFG</td>\n",
       "    </tr>\n",
       "    <tr>\n",
       "      <th>1</th>\n",
       "      <td>1.43654</td>\n",
       "      <td>1991</td>\n",
       "      <td>Feb</td>\n",
       "      <td>Afghanistan</td>\n",
       "      <td>AFG</td>\n",
       "    </tr>\n",
       "    <tr>\n",
       "      <th>2</th>\n",
       "      <td>6.88685</td>\n",
       "      <td>1991</td>\n",
       "      <td>Mar</td>\n",
       "      <td>Afghanistan</td>\n",
       "      <td>AFG</td>\n",
       "    </tr>\n",
       "  </tbody>\n",
       "</table>\n",
       "</div>"
      ],
      "text/plain": [
       "   Temperature  Year Month      Country ISO3\n",
       "0     -0.03110  1991   Jan  Afghanistan  AFG\n",
       "1      1.43654  1991   Feb  Afghanistan  AFG\n",
       "2      6.88685  1991   Mar  Afghanistan  AFG"
      ]
     },
     "execution_count": 74,
     "metadata": {},
     "output_type": "execute_result"
    }
   ],
   "source": [
    "temp_df.head(3)"
   ]
  },
  {
   "cell_type": "code",
   "execution_count": 75,
   "id": "29cbce9c-7328-4ba5-bcdb-c012115feef4",
   "metadata": {},
   "outputs": [
    {
     "data": {
      "text/html": [
       "<div>\n",
       "<style scoped>\n",
       "    .dataframe tbody tr th:only-of-type {\n",
       "        vertical-align: middle;\n",
       "    }\n",
       "\n",
       "    .dataframe tbody tr th {\n",
       "        vertical-align: top;\n",
       "    }\n",
       "\n",
       "    .dataframe thead th {\n",
       "        text-align: right;\n",
       "    }\n",
       "</style>\n",
       "<table border=\"1\" class=\"dataframe\">\n",
       "  <thead>\n",
       "    <tr style=\"text-align: right;\">\n",
       "      <th></th>\n",
       "      <th>Year</th>\n",
       "      <th>Month</th>\n",
       "      <th>Day</th>\n",
       "    </tr>\n",
       "  </thead>\n",
       "  <tbody>\n",
       "    <tr>\n",
       "      <th>0</th>\n",
       "      <td>1991</td>\n",
       "      <td>Jan</td>\n",
       "      <td>1.0</td>\n",
       "    </tr>\n",
       "    <tr>\n",
       "      <th>1</th>\n",
       "      <td>1991</td>\n",
       "      <td>Feb</td>\n",
       "      <td>1.0</td>\n",
       "    </tr>\n",
       "    <tr>\n",
       "      <th>2</th>\n",
       "      <td>1991</td>\n",
       "      <td>Mar</td>\n",
       "      <td>1.0</td>\n",
       "    </tr>\n",
       "    <tr>\n",
       "      <th>3</th>\n",
       "      <td>1991</td>\n",
       "      <td>Apr</td>\n",
       "      <td>1.0</td>\n",
       "    </tr>\n",
       "    <tr>\n",
       "      <th>4</th>\n",
       "      <td>1991</td>\n",
       "      <td>May</td>\n",
       "      <td>1.0</td>\n",
       "    </tr>\n",
       "    <tr>\n",
       "      <th>...</th>\n",
       "      <td>...</td>\n",
       "      <td>...</td>\n",
       "      <td>...</td>\n",
       "    </tr>\n",
       "    <tr>\n",
       "      <th>59899</th>\n",
       "      <td>2016</td>\n",
       "      <td>Aug</td>\n",
       "      <td>1.0</td>\n",
       "    </tr>\n",
       "    <tr>\n",
       "      <th>59900</th>\n",
       "      <td>2016</td>\n",
       "      <td>Sep</td>\n",
       "      <td>1.0</td>\n",
       "    </tr>\n",
       "    <tr>\n",
       "      <th>59901</th>\n",
       "      <td>2016</td>\n",
       "      <td>Oct</td>\n",
       "      <td>1.0</td>\n",
       "    </tr>\n",
       "    <tr>\n",
       "      <th>59902</th>\n",
       "      <td>2016</td>\n",
       "      <td>Nov</td>\n",
       "      <td>1.0</td>\n",
       "    </tr>\n",
       "    <tr>\n",
       "      <th>59903</th>\n",
       "      <td>2016</td>\n",
       "      <td>Dec</td>\n",
       "      <td>1.0</td>\n",
       "    </tr>\n",
       "  </tbody>\n",
       "</table>\n",
       "<p>59904 rows × 3 columns</p>\n",
       "</div>"
      ],
      "text/plain": [
       "       Year Month  Day\n",
       "0      1991   Jan  1.0\n",
       "1      1991   Feb  1.0\n",
       "2      1991   Mar  1.0\n",
       "3      1991   Apr  1.0\n",
       "4      1991   May  1.0\n",
       "...     ...   ...  ...\n",
       "59899  2016   Aug  1.0\n",
       "59900  2016   Sep  1.0\n",
       "59901  2016   Oct  1.0\n",
       "59902  2016   Nov  1.0\n",
       "59903  2016   Dec  1.0\n",
       "\n",
       "[59904 rows x 3 columns]"
      ]
     },
     "execution_count": 75,
     "metadata": {},
     "output_type": "execute_result"
    }
   ],
   "source": [
    "import numpy as np\n",
    "\n",
    "dates = temp_df.loc[:, [\"Year\", \"Month\"]]\n",
    "dates[\"Day\"] = np.ones(dates.shape[0])\n",
    "dates"
   ]
  },
  {
   "cell_type": "code",
   "execution_count": 76,
   "id": "f3d5657e-1635-4fdf-80df-67040086516b",
   "metadata": {},
   "outputs": [
    {
     "ename": "OutOfBoundsDatetime",
     "evalue": "Out of bounds nanosecond timestamp: 1-01-01 00:00:00",
     "output_type": "error",
     "traceback": [
      "\u001b[0;31m---------------------------------------------------------------------------\u001b[0m",
      "\u001b[0;31mTypeError\u001b[0m                                 Traceback (most recent call last)",
      "File \u001b[0;32m~/miniconda3/lib/python3.9/site-packages/pandas/core/arrays/datetimes.py:2211\u001b[0m, in \u001b[0;36mobjects_to_datetime64ns\u001b[0;34m(data, dayfirst, yearfirst, utc, errors, require_iso8601, allow_object, allow_mixed)\u001b[0m\n\u001b[1;32m   2210\u001b[0m \u001b[38;5;28;01mtry\u001b[39;00m:\n\u001b[0;32m-> 2211\u001b[0m     values, tz_parsed \u001b[38;5;241m=\u001b[39m \u001b[43mconversion\u001b[49m\u001b[38;5;241;43m.\u001b[39;49m\u001b[43mdatetime_to_datetime64\u001b[49m\u001b[43m(\u001b[49m\u001b[43mdata\u001b[49m\u001b[38;5;241;43m.\u001b[39;49m\u001b[43mravel\u001b[49m\u001b[43m(\u001b[49m\u001b[38;5;124;43m\"\u001b[39;49m\u001b[38;5;124;43mK\u001b[39;49m\u001b[38;5;124;43m\"\u001b[39;49m\u001b[43m)\u001b[49m\u001b[43m)\u001b[49m\n\u001b[1;32m   2212\u001b[0m     \u001b[38;5;66;03m# If tzaware, these values represent unix timestamps, so we\u001b[39;00m\n\u001b[1;32m   2213\u001b[0m     \u001b[38;5;66;03m#  return them as i8 to distinguish from wall times\u001b[39;00m\n",
      "File \u001b[0;32m~/miniconda3/lib/python3.9/site-packages/pandas/_libs/tslibs/conversion.pyx:360\u001b[0m, in \u001b[0;36mpandas._libs.tslibs.conversion.datetime_to_datetime64\u001b[0;34m()\u001b[0m\n",
      "\u001b[0;31mTypeError\u001b[0m: Unrecognized value type: <class 'str'>",
      "\nDuring handling of the above exception, another exception occurred:\n",
      "\u001b[0;31mOutOfBoundsDatetime\u001b[0m                       Traceback (most recent call last)",
      "Input \u001b[0;32mIn [76]\u001b[0m, in \u001b[0;36m<cell line: 1>\u001b[0;34m()\u001b[0m\n\u001b[0;32m----> 1\u001b[0m \u001b[43mpd\u001b[49m\u001b[38;5;241;43m.\u001b[39;49m\u001b[43mto_datetime\u001b[49m\u001b[43m(\u001b[49m\u001b[43m[\u001b[49m\u001b[38;5;124;43m\"\u001b[39;49m\u001b[38;5;124;43m1991\u001b[39;49m\u001b[38;5;124;43m\"\u001b[39;49m\u001b[43m,\u001b[49m\u001b[43m \u001b[49m\u001b[38;5;124;43m\"\u001b[39;49m\u001b[38;5;124;43mJan\u001b[39;49m\u001b[38;5;124;43m\"\u001b[39;49m\u001b[43m,\u001b[49m\u001b[43m \u001b[49m\u001b[38;5;124;43m\"\u001b[39;49m\u001b[38;5;124;43m1.0\u001b[39;49m\u001b[38;5;124;43m\"\u001b[39;49m\u001b[43m]\u001b[49m\u001b[43m,\u001b[49m\u001b[43m \u001b[49m\u001b[43myearfirst\u001b[49m\u001b[38;5;241;43m=\u001b[39;49m\u001b[38;5;28;43;01mTrue\u001b[39;49;00m\u001b[43m)\u001b[49m\n",
      "File \u001b[0;32m~/miniconda3/lib/python3.9/site-packages/pandas/core/tools/datetimes.py:1076\u001b[0m, in \u001b[0;36mto_datetime\u001b[0;34m(arg, errors, dayfirst, yearfirst, utc, format, exact, unit, infer_datetime_format, origin, cache)\u001b[0m\n\u001b[1;32m   1074\u001b[0m         result \u001b[38;5;241m=\u001b[39m _convert_and_box_cache(arg, cache_array)\n\u001b[1;32m   1075\u001b[0m     \u001b[38;5;28;01melse\u001b[39;00m:\n\u001b[0;32m-> 1076\u001b[0m         result \u001b[38;5;241m=\u001b[39m \u001b[43mconvert_listlike\u001b[49m\u001b[43m(\u001b[49m\u001b[43marg\u001b[49m\u001b[43m,\u001b[49m\u001b[43m \u001b[49m\u001b[38;5;28;43mformat\u001b[39;49m\u001b[43m)\u001b[49m\n\u001b[1;32m   1077\u001b[0m \u001b[38;5;28;01melse\u001b[39;00m:\n\u001b[1;32m   1078\u001b[0m     result \u001b[38;5;241m=\u001b[39m convert_listlike(np\u001b[38;5;241m.\u001b[39marray([arg]), \u001b[38;5;28mformat\u001b[39m)[\u001b[38;5;241m0\u001b[39m]\n",
      "File \u001b[0;32m~/miniconda3/lib/python3.9/site-packages/pandas/core/tools/datetimes.py:402\u001b[0m, in \u001b[0;36m_convert_listlike_datetimes\u001b[0;34m(arg, format, name, tz, unit, errors, infer_datetime_format, dayfirst, yearfirst, exact)\u001b[0m\n\u001b[1;32m    400\u001b[0m \u001b[38;5;28;01massert\u001b[39;00m \u001b[38;5;28mformat\u001b[39m \u001b[38;5;129;01mis\u001b[39;00m \u001b[38;5;28;01mNone\u001b[39;00m \u001b[38;5;129;01mor\u001b[39;00m infer_datetime_format\n\u001b[1;32m    401\u001b[0m utc \u001b[38;5;241m=\u001b[39m tz \u001b[38;5;241m==\u001b[39m \u001b[38;5;124m\"\u001b[39m\u001b[38;5;124mutc\u001b[39m\u001b[38;5;124m\"\u001b[39m\n\u001b[0;32m--> 402\u001b[0m result, tz_parsed \u001b[38;5;241m=\u001b[39m \u001b[43mobjects_to_datetime64ns\u001b[49m\u001b[43m(\u001b[49m\n\u001b[1;32m    403\u001b[0m \u001b[43m    \u001b[49m\u001b[43marg\u001b[49m\u001b[43m,\u001b[49m\n\u001b[1;32m    404\u001b[0m \u001b[43m    \u001b[49m\u001b[43mdayfirst\u001b[49m\u001b[38;5;241;43m=\u001b[39;49m\u001b[43mdayfirst\u001b[49m\u001b[43m,\u001b[49m\n\u001b[1;32m    405\u001b[0m \u001b[43m    \u001b[49m\u001b[43myearfirst\u001b[49m\u001b[38;5;241;43m=\u001b[39;49m\u001b[43myearfirst\u001b[49m\u001b[43m,\u001b[49m\n\u001b[1;32m    406\u001b[0m \u001b[43m    \u001b[49m\u001b[43mutc\u001b[49m\u001b[38;5;241;43m=\u001b[39;49m\u001b[43mutc\u001b[49m\u001b[43m,\u001b[49m\n\u001b[1;32m    407\u001b[0m \u001b[43m    \u001b[49m\u001b[43merrors\u001b[49m\u001b[38;5;241;43m=\u001b[39;49m\u001b[43merrors\u001b[49m\u001b[43m,\u001b[49m\n\u001b[1;32m    408\u001b[0m \u001b[43m    \u001b[49m\u001b[43mrequire_iso8601\u001b[49m\u001b[38;5;241;43m=\u001b[39;49m\u001b[43mrequire_iso8601\u001b[49m\u001b[43m,\u001b[49m\n\u001b[1;32m    409\u001b[0m \u001b[43m    \u001b[49m\u001b[43mallow_object\u001b[49m\u001b[38;5;241;43m=\u001b[39;49m\u001b[38;5;28;43;01mTrue\u001b[39;49;00m\u001b[43m,\u001b[49m\n\u001b[1;32m    410\u001b[0m \u001b[43m\u001b[49m\u001b[43m)\u001b[49m\n\u001b[1;32m    412\u001b[0m \u001b[38;5;28;01mif\u001b[39;00m tz_parsed \u001b[38;5;129;01mis\u001b[39;00m \u001b[38;5;129;01mnot\u001b[39;00m \u001b[38;5;28;01mNone\u001b[39;00m:\n\u001b[1;32m    413\u001b[0m     \u001b[38;5;66;03m# We can take a shortcut since the datetime64 numpy array\u001b[39;00m\n\u001b[1;32m    414\u001b[0m     \u001b[38;5;66;03m# is in UTC\u001b[39;00m\n\u001b[1;32m    415\u001b[0m     dta \u001b[38;5;241m=\u001b[39m DatetimeArray(result, dtype\u001b[38;5;241m=\u001b[39mtz_to_dtype(tz_parsed))\n",
      "File \u001b[0;32m~/miniconda3/lib/python3.9/site-packages/pandas/core/arrays/datetimes.py:2217\u001b[0m, in \u001b[0;36mobjects_to_datetime64ns\u001b[0;34m(data, dayfirst, yearfirst, utc, errors, require_iso8601, allow_object, allow_mixed)\u001b[0m\n\u001b[1;32m   2215\u001b[0m         \u001b[38;5;28;01mreturn\u001b[39;00m values\u001b[38;5;241m.\u001b[39mview(\u001b[38;5;124m\"\u001b[39m\u001b[38;5;124mi8\u001b[39m\u001b[38;5;124m\"\u001b[39m), tz_parsed\n\u001b[1;32m   2216\u001b[0m     \u001b[38;5;28;01mexcept\u001b[39;00m (\u001b[38;5;167;01mValueError\u001b[39;00m, \u001b[38;5;167;01mTypeError\u001b[39;00m):\n\u001b[0;32m-> 2217\u001b[0m         \u001b[38;5;28;01mraise\u001b[39;00m err\n\u001b[1;32m   2219\u001b[0m \u001b[38;5;28;01mif\u001b[39;00m tz_parsed \u001b[38;5;129;01mis\u001b[39;00m \u001b[38;5;129;01mnot\u001b[39;00m \u001b[38;5;28;01mNone\u001b[39;00m:\n\u001b[1;32m   2220\u001b[0m     \u001b[38;5;66;03m# We can take a shortcut since the datetime64 numpy array\u001b[39;00m\n\u001b[1;32m   2221\u001b[0m     \u001b[38;5;66;03m#  is in UTC\u001b[39;00m\n\u001b[1;32m   2222\u001b[0m     \u001b[38;5;66;03m# Return i8 values to denote unix timestamps\u001b[39;00m\n\u001b[1;32m   2223\u001b[0m     \u001b[38;5;28;01mreturn\u001b[39;00m result\u001b[38;5;241m.\u001b[39mview(\u001b[38;5;124m\"\u001b[39m\u001b[38;5;124mi8\u001b[39m\u001b[38;5;124m\"\u001b[39m), tz_parsed\n",
      "File \u001b[0;32m~/miniconda3/lib/python3.9/site-packages/pandas/core/arrays/datetimes.py:2199\u001b[0m, in \u001b[0;36mobjects_to_datetime64ns\u001b[0;34m(data, dayfirst, yearfirst, utc, errors, require_iso8601, allow_object, allow_mixed)\u001b[0m\n\u001b[1;32m   2197\u001b[0m order: Literal[\u001b[38;5;124m\"\u001b[39m\u001b[38;5;124mF\u001b[39m\u001b[38;5;124m\"\u001b[39m, \u001b[38;5;124m\"\u001b[39m\u001b[38;5;124mC\u001b[39m\u001b[38;5;124m\"\u001b[39m] \u001b[38;5;241m=\u001b[39m \u001b[38;5;124m\"\u001b[39m\u001b[38;5;124mF\u001b[39m\u001b[38;5;124m\"\u001b[39m \u001b[38;5;28;01mif\u001b[39;00m flags\u001b[38;5;241m.\u001b[39mf_contiguous \u001b[38;5;28;01melse\u001b[39;00m \u001b[38;5;124m\"\u001b[39m\u001b[38;5;124mC\u001b[39m\u001b[38;5;124m\"\u001b[39m\n\u001b[1;32m   2198\u001b[0m \u001b[38;5;28;01mtry\u001b[39;00m:\n\u001b[0;32m-> 2199\u001b[0m     result, tz_parsed \u001b[38;5;241m=\u001b[39m \u001b[43mtslib\u001b[49m\u001b[38;5;241;43m.\u001b[39;49m\u001b[43marray_to_datetime\u001b[49m\u001b[43m(\u001b[49m\n\u001b[1;32m   2200\u001b[0m \u001b[43m        \u001b[49m\u001b[43mdata\u001b[49m\u001b[38;5;241;43m.\u001b[39;49m\u001b[43mravel\u001b[49m\u001b[43m(\u001b[49m\u001b[38;5;124;43m\"\u001b[39;49m\u001b[38;5;124;43mK\u001b[39;49m\u001b[38;5;124;43m\"\u001b[39;49m\u001b[43m)\u001b[49m\u001b[43m,\u001b[49m\n\u001b[1;32m   2201\u001b[0m \u001b[43m        \u001b[49m\u001b[43merrors\u001b[49m\u001b[38;5;241;43m=\u001b[39;49m\u001b[43merrors\u001b[49m\u001b[43m,\u001b[49m\n\u001b[1;32m   2202\u001b[0m \u001b[43m        \u001b[49m\u001b[43mutc\u001b[49m\u001b[38;5;241;43m=\u001b[39;49m\u001b[43mutc\u001b[49m\u001b[43m,\u001b[49m\n\u001b[1;32m   2203\u001b[0m \u001b[43m        \u001b[49m\u001b[43mdayfirst\u001b[49m\u001b[38;5;241;43m=\u001b[39;49m\u001b[43mdayfirst\u001b[49m\u001b[43m,\u001b[49m\n\u001b[1;32m   2204\u001b[0m \u001b[43m        \u001b[49m\u001b[43myearfirst\u001b[49m\u001b[38;5;241;43m=\u001b[39;49m\u001b[43myearfirst\u001b[49m\u001b[43m,\u001b[49m\n\u001b[1;32m   2205\u001b[0m \u001b[43m        \u001b[49m\u001b[43mrequire_iso8601\u001b[49m\u001b[38;5;241;43m=\u001b[39;49m\u001b[43mrequire_iso8601\u001b[49m\u001b[43m,\u001b[49m\n\u001b[1;32m   2206\u001b[0m \u001b[43m        \u001b[49m\u001b[43mallow_mixed\u001b[49m\u001b[38;5;241;43m=\u001b[39;49m\u001b[43mallow_mixed\u001b[49m\u001b[43m,\u001b[49m\n\u001b[1;32m   2207\u001b[0m \u001b[43m    \u001b[49m\u001b[43m)\u001b[49m\n\u001b[1;32m   2208\u001b[0m     result \u001b[38;5;241m=\u001b[39m result\u001b[38;5;241m.\u001b[39mreshape(data\u001b[38;5;241m.\u001b[39mshape, order\u001b[38;5;241m=\u001b[39morder)\n\u001b[1;32m   2209\u001b[0m \u001b[38;5;28;01mexcept\u001b[39;00m \u001b[38;5;167;01mValueError\u001b[39;00m \u001b[38;5;28;01mas\u001b[39;00m err:\n",
      "File \u001b[0;32m~/miniconda3/lib/python3.9/site-packages/pandas/_libs/tslib.pyx:381\u001b[0m, in \u001b[0;36mpandas._libs.tslib.array_to_datetime\u001b[0;34m()\u001b[0m\n",
      "File \u001b[0;32m~/miniconda3/lib/python3.9/site-packages/pandas/_libs/tslib.pyx:608\u001b[0m, in \u001b[0;36mpandas._libs.tslib.array_to_datetime\u001b[0;34m()\u001b[0m\n",
      "File \u001b[0;32m~/miniconda3/lib/python3.9/site-packages/pandas/_libs/tslib.pyx:604\u001b[0m, in \u001b[0;36mpandas._libs.tslib.array_to_datetime\u001b[0;34m()\u001b[0m\n",
      "File \u001b[0;32m~/miniconda3/lib/python3.9/site-packages/pandas/_libs/tslib.pyx:559\u001b[0m, in \u001b[0;36mpandas._libs.tslib.array_to_datetime\u001b[0;34m()\u001b[0m\n",
      "File \u001b[0;32m~/miniconda3/lib/python3.9/site-packages/pandas/_libs/tslibs/conversion.pyx:517\u001b[0m, in \u001b[0;36mpandas._libs.tslibs.conversion.convert_datetime_to_tsobject\u001b[0;34m()\u001b[0m\n",
      "File \u001b[0;32m~/miniconda3/lib/python3.9/site-packages/pandas/_libs/tslibs/np_datetime.pyx:120\u001b[0m, in \u001b[0;36mpandas._libs.tslibs.np_datetime.check_dts_bounds\u001b[0;34m()\u001b[0m\n",
      "\u001b[0;31mOutOfBoundsDatetime\u001b[0m: Out of bounds nanosecond timestamp: 1-01-01 00:00:00"
     ]
    }
   ],
   "source": [
    "pd.to_datetime([\"1991\", \"Jan\", \"1.0\"], yearfirst=True)"
   ]
  },
  {
   "cell_type": "markdown",
   "id": "63aa2947-888b-4330-9e47-19f6df06b969",
   "metadata": {},
   "source": [
    "### Paréntesis: Método `Map`\n",
    "\n",
    "Esta función permite hacer un `mapeo` (sustituir un valor por otro) sobre los elementos de una serie."
   ]
  },
  {
   "cell_type": "code",
   "execution_count": null,
   "id": "e36acc0a-7529-4b13-8fa6-30118261767d",
   "metadata": {},
   "outputs": [],
   "source": [
    "dates[\"Month\"]"
   ]
  },
  {
   "cell_type": "code",
   "execution_count": 77,
   "id": "e9ebd121-7dbb-4adc-b7c3-c7e66447ac70",
   "metadata": {},
   "outputs": [
    {
     "data": {
      "text/plain": [
       "0         1\n",
       "1         2\n",
       "2         3\n",
       "3         4\n",
       "4         5\n",
       "         ..\n",
       "59899     8\n",
       "59900     9\n",
       "59901    10\n",
       "59902    11\n",
       "59903    12\n",
       "Name: Month, Length: 59904, dtype: int64"
      ]
     },
     "execution_count": 77,
     "metadata": {},
     "output_type": "execute_result"
    }
   ],
   "source": [
    "dates[\"Month\"].map(\n",
    "    {\n",
    "        \"Jan\": 1,\n",
    "        \"Feb\": 2,\n",
    "        \"Mar\": 3,\n",
    "        \"Apr\": 4,\n",
    "        \"May\": 5,\n",
    "        \"Jun\": 6,\n",
    "        \"Jul\": 7,\n",
    "        \"Aug\": 8,\n",
    "        \"Sep\": 9,\n",
    "        \"Oct\": 10,\n",
    "        \"Nov\": 11,\n",
    "        \"Dec\": 12,\n",
    "    }\n",
    ")"
   ]
  },
  {
   "cell_type": "code",
   "execution_count": 78,
   "id": "a17639a8-5cff-4fd5-8f65-639728ddf1c3",
   "metadata": {},
   "outputs": [],
   "source": [
    "dates[\"Month\"] = dates[\"Month\"].map(\n",
    "    {\n",
    "        \"Jan\": 1,\n",
    "        \"Feb\": 2,\n",
    "        \"Mar\": 3,\n",
    "        \"Apr\": 4,\n",
    "        \"May\": 5,\n",
    "        \"Jun\": 6,\n",
    "        \"Jul\": 7,\n",
    "        \"Aug\": 8,\n",
    "        \"Sep\": 9,\n",
    "        \"Oct\": 10,\n",
    "        \"Nov\": 11,\n",
    "        \"Dec\": 12,\n",
    "    }\n",
    ")"
   ]
  },
  {
   "cell_type": "code",
   "execution_count": 79,
   "id": "6018a4a0-0e0b-4ef1-834f-5e7dd87f0798",
   "metadata": {},
   "outputs": [
    {
     "data": {
      "text/html": [
       "<div>\n",
       "<style scoped>\n",
       "    .dataframe tbody tr th:only-of-type {\n",
       "        vertical-align: middle;\n",
       "    }\n",
       "\n",
       "    .dataframe tbody tr th {\n",
       "        vertical-align: top;\n",
       "    }\n",
       "\n",
       "    .dataframe thead th {\n",
       "        text-align: right;\n",
       "    }\n",
       "</style>\n",
       "<table border=\"1\" class=\"dataframe\">\n",
       "  <thead>\n",
       "    <tr style=\"text-align: right;\">\n",
       "      <th></th>\n",
       "      <th>Year</th>\n",
       "      <th>Month</th>\n",
       "      <th>Day</th>\n",
       "    </tr>\n",
       "  </thead>\n",
       "  <tbody>\n",
       "    <tr>\n",
       "      <th>0</th>\n",
       "      <td>1991</td>\n",
       "      <td>1</td>\n",
       "      <td>1.0</td>\n",
       "    </tr>\n",
       "    <tr>\n",
       "      <th>1</th>\n",
       "      <td>1991</td>\n",
       "      <td>2</td>\n",
       "      <td>1.0</td>\n",
       "    </tr>\n",
       "    <tr>\n",
       "      <th>2</th>\n",
       "      <td>1991</td>\n",
       "      <td>3</td>\n",
       "      <td>1.0</td>\n",
       "    </tr>\n",
       "    <tr>\n",
       "      <th>3</th>\n",
       "      <td>1991</td>\n",
       "      <td>4</td>\n",
       "      <td>1.0</td>\n",
       "    </tr>\n",
       "    <tr>\n",
       "      <th>4</th>\n",
       "      <td>1991</td>\n",
       "      <td>5</td>\n",
       "      <td>1.0</td>\n",
       "    </tr>\n",
       "    <tr>\n",
       "      <th>...</th>\n",
       "      <td>...</td>\n",
       "      <td>...</td>\n",
       "      <td>...</td>\n",
       "    </tr>\n",
       "    <tr>\n",
       "      <th>59899</th>\n",
       "      <td>2016</td>\n",
       "      <td>8</td>\n",
       "      <td>1.0</td>\n",
       "    </tr>\n",
       "    <tr>\n",
       "      <th>59900</th>\n",
       "      <td>2016</td>\n",
       "      <td>9</td>\n",
       "      <td>1.0</td>\n",
       "    </tr>\n",
       "    <tr>\n",
       "      <th>59901</th>\n",
       "      <td>2016</td>\n",
       "      <td>10</td>\n",
       "      <td>1.0</td>\n",
       "    </tr>\n",
       "    <tr>\n",
       "      <th>59902</th>\n",
       "      <td>2016</td>\n",
       "      <td>11</td>\n",
       "      <td>1.0</td>\n",
       "    </tr>\n",
       "    <tr>\n",
       "      <th>59903</th>\n",
       "      <td>2016</td>\n",
       "      <td>12</td>\n",
       "      <td>1.0</td>\n",
       "    </tr>\n",
       "  </tbody>\n",
       "</table>\n",
       "<p>59904 rows × 3 columns</p>\n",
       "</div>"
      ],
      "text/plain": [
       "       Year  Month  Day\n",
       "0      1991      1  1.0\n",
       "1      1991      2  1.0\n",
       "2      1991      3  1.0\n",
       "3      1991      4  1.0\n",
       "4      1991      5  1.0\n",
       "...     ...    ...  ...\n",
       "59899  2016      8  1.0\n",
       "59900  2016      9  1.0\n",
       "59901  2016     10  1.0\n",
       "59902  2016     11  1.0\n",
       "59903  2016     12  1.0\n",
       "\n",
       "[59904 rows x 3 columns]"
      ]
     },
     "execution_count": 79,
     "metadata": {},
     "output_type": "execute_result"
    }
   ],
   "source": [
    "dates"
   ]
  },
  {
   "cell_type": "code",
   "execution_count": 80,
   "id": "b09cc74f-7704-46cd-bf8c-75c8c75d7660",
   "metadata": {},
   "outputs": [
    {
     "data": {
      "text/plain": [
       "0       1991-01-01\n",
       "1       1991-02-01\n",
       "2       1991-03-01\n",
       "3       1991-04-01\n",
       "4       1991-05-01\n",
       "           ...    \n",
       "59899   2016-08-01\n",
       "59900   2016-09-01\n",
       "59901   2016-10-01\n",
       "59902   2016-11-01\n",
       "59903   2016-12-01\n",
       "Length: 59904, dtype: datetime64[ns]"
      ]
     },
     "execution_count": 80,
     "metadata": {},
     "output_type": "execute_result"
    }
   ],
   "source": [
    "parsed_dates = pd.to_datetime(dates, yearfirst=True, infer_datetime_format=True)\n",
    "parsed_dates"
   ]
  },
  {
   "cell_type": "code",
   "execution_count": 81,
   "id": "83683b37-0762-4511-bb98-79df38bc4d0e",
   "metadata": {},
   "outputs": [
    {
     "data": {
      "text/html": [
       "<div>\n",
       "<style scoped>\n",
       "    .dataframe tbody tr th:only-of-type {\n",
       "        vertical-align: middle;\n",
       "    }\n",
       "\n",
       "    .dataframe tbody tr th {\n",
       "        vertical-align: top;\n",
       "    }\n",
       "\n",
       "    .dataframe thead th {\n",
       "        text-align: right;\n",
       "    }\n",
       "</style>\n",
       "<table border=\"1\" class=\"dataframe\">\n",
       "  <thead>\n",
       "    <tr style=\"text-align: right;\">\n",
       "      <th></th>\n",
       "      <th>Temperature</th>\n",
       "      <th>Year</th>\n",
       "      <th>Month</th>\n",
       "      <th>Country</th>\n",
       "      <th>ISO3</th>\n",
       "      <th>dates</th>\n",
       "    </tr>\n",
       "  </thead>\n",
       "  <tbody>\n",
       "    <tr>\n",
       "      <th>0</th>\n",
       "      <td>-0.03110</td>\n",
       "      <td>1991</td>\n",
       "      <td>Jan</td>\n",
       "      <td>Afghanistan</td>\n",
       "      <td>AFG</td>\n",
       "      <td>1991-01-01</td>\n",
       "    </tr>\n",
       "    <tr>\n",
       "      <th>1</th>\n",
       "      <td>1.43654</td>\n",
       "      <td>1991</td>\n",
       "      <td>Feb</td>\n",
       "      <td>Afghanistan</td>\n",
       "      <td>AFG</td>\n",
       "      <td>1991-02-01</td>\n",
       "    </tr>\n",
       "    <tr>\n",
       "      <th>2</th>\n",
       "      <td>6.88685</td>\n",
       "      <td>1991</td>\n",
       "      <td>Mar</td>\n",
       "      <td>Afghanistan</td>\n",
       "      <td>AFG</td>\n",
       "      <td>1991-03-01</td>\n",
       "    </tr>\n",
       "    <tr>\n",
       "      <th>3</th>\n",
       "      <td>12.93970</td>\n",
       "      <td>1991</td>\n",
       "      <td>Apr</td>\n",
       "      <td>Afghanistan</td>\n",
       "      <td>AFG</td>\n",
       "      <td>1991-04-01</td>\n",
       "    </tr>\n",
       "    <tr>\n",
       "      <th>4</th>\n",
       "      <td>17.07550</td>\n",
       "      <td>1991</td>\n",
       "      <td>May</td>\n",
       "      <td>Afghanistan</td>\n",
       "      <td>AFG</td>\n",
       "      <td>1991-05-01</td>\n",
       "    </tr>\n",
       "    <tr>\n",
       "      <th>...</th>\n",
       "      <td>...</td>\n",
       "      <td>...</td>\n",
       "      <td>...</td>\n",
       "      <td>...</td>\n",
       "      <td>...</td>\n",
       "      <td>...</td>\n",
       "    </tr>\n",
       "    <tr>\n",
       "      <th>59899</th>\n",
       "      <td>26.09480</td>\n",
       "      <td>2016</td>\n",
       "      <td>Aug</td>\n",
       "      <td>Venezuela</td>\n",
       "      <td>VEN</td>\n",
       "      <td>2016-08-01</td>\n",
       "    </tr>\n",
       "    <tr>\n",
       "      <th>59900</th>\n",
       "      <td>26.22090</td>\n",
       "      <td>2016</td>\n",
       "      <td>Sep</td>\n",
       "      <td>Venezuela</td>\n",
       "      <td>VEN</td>\n",
       "      <td>2016-09-01</td>\n",
       "    </tr>\n",
       "    <tr>\n",
       "      <th>59901</th>\n",
       "      <td>26.62850</td>\n",
       "      <td>2016</td>\n",
       "      <td>Oct</td>\n",
       "      <td>Venezuela</td>\n",
       "      <td>VEN</td>\n",
       "      <td>2016-10-01</td>\n",
       "    </tr>\n",
       "    <tr>\n",
       "      <th>59902</th>\n",
       "      <td>26.27680</td>\n",
       "      <td>2016</td>\n",
       "      <td>Nov</td>\n",
       "      <td>Venezuela</td>\n",
       "      <td>VEN</td>\n",
       "      <td>2016-11-01</td>\n",
       "    </tr>\n",
       "    <tr>\n",
       "      <th>59903</th>\n",
       "      <td>26.12860</td>\n",
       "      <td>2016</td>\n",
       "      <td>Dec</td>\n",
       "      <td>Venezuela</td>\n",
       "      <td>VEN</td>\n",
       "      <td>2016-12-01</td>\n",
       "    </tr>\n",
       "  </tbody>\n",
       "</table>\n",
       "<p>59904 rows × 6 columns</p>\n",
       "</div>"
      ],
      "text/plain": [
       "       Temperature  Year Month      Country ISO3      dates\n",
       "0         -0.03110  1991   Jan  Afghanistan  AFG 1991-01-01\n",
       "1          1.43654  1991   Feb  Afghanistan  AFG 1991-02-01\n",
       "2          6.88685  1991   Mar  Afghanistan  AFG 1991-03-01\n",
       "3         12.93970  1991   Apr  Afghanistan  AFG 1991-04-01\n",
       "4         17.07550  1991   May  Afghanistan  AFG 1991-05-01\n",
       "...            ...   ...   ...          ...  ...        ...\n",
       "59899     26.09480  2016   Aug    Venezuela  VEN 2016-08-01\n",
       "59900     26.22090  2016   Sep    Venezuela  VEN 2016-09-01\n",
       "59901     26.62850  2016   Oct    Venezuela  VEN 2016-10-01\n",
       "59902     26.27680  2016   Nov    Venezuela  VEN 2016-11-01\n",
       "59903     26.12860  2016   Dec    Venezuela  VEN 2016-12-01\n",
       "\n",
       "[59904 rows x 6 columns]"
      ]
     },
     "execution_count": 81,
     "metadata": {},
     "output_type": "execute_result"
    }
   ],
   "source": [
    "temp_df[\"dates\"] = parsed_dates\n",
    "temp_df"
   ]
  },
  {
   "cell_type": "code",
   "execution_count": 82,
   "id": "9cc18cc4-09f7-4d60-8a40-47eaaec9595a",
   "metadata": {},
   "outputs": [
    {
     "name": "stdout",
     "output_type": "stream",
     "text": [
      "<class 'pandas.core.frame.DataFrame'>\n",
      "RangeIndex: 59904 entries, 0 to 59903\n",
      "Data columns (total 6 columns):\n",
      " #   Column       Non-Null Count  Dtype         \n",
      "---  ------       --------------  -----         \n",
      " 0   Temperature  59904 non-null  float64       \n",
      " 1   Year         59904 non-null  int64         \n",
      " 2   Month        59904 non-null  object        \n",
      " 3   Country      59904 non-null  object        \n",
      " 4   ISO3         59904 non-null  object        \n",
      " 5   dates        59904 non-null  datetime64[ns]\n",
      "dtypes: datetime64[ns](1), float64(1), int64(1), object(3)\n",
      "memory usage: 2.7+ MB\n"
     ]
    }
   ],
   "source": [
    "temp_df.info()"
   ]
  },
  {
   "cell_type": "markdown",
   "id": "e468faaf-990c-4b55-958f-575befb54de1",
   "metadata": {},
   "source": [
    "### Valores Inválidos\n",
    "\n",
    "Puede ocurrir que tengamos algún dato inválido que no podamos transformar a `datetime`.\n",
    "\n",
    "`pd.to_datetime` ofrece el siguiente parámetro para manejar estos problemas:\n",
    "\n",
    "`errors{‘ignore’, ‘raise’, ‘coerce’}, default ‘raise’`\n",
    "\n",
    "- If `raise`, then invalid parsing will raise an exception.\n",
    "\n",
    "- If `coerce`, then invalid parsing will be set as NaT.\n",
    "\n",
    "- If `ignore`, then invalid parsing will return the input.\n",
    "\n",
    "\n",
    "**Nota:** NaT = Not a Time\n"
   ]
  },
  {
   "cell_type": "code",
   "execution_count": 83,
   "id": "a7241899-5c8d-44cc-bf6c-7c56cca953c8",
   "metadata": {},
   "outputs": [
    {
     "data": {
      "text/plain": [
       "DatetimeIndex(['2009-07-31', 'NaT'], dtype='datetime64[ns]', freq=None)"
      ]
     },
     "execution_count": 83,
     "metadata": {},
     "output_type": "execute_result"
    }
   ],
   "source": [
    "pd.to_datetime([\"2009/07/31\", \"asd\"], errors=\"coerce\")"
   ]
  },
  {
   "cell_type": "markdown",
   "id": "fc5da2c9-fa99-42cf-b6fa-1fe11a060e7e",
   "metadata": {},
   "source": [
    "### Indexado\n",
    "\n",
    "Podemos fijar las fechas como índices y luego indexar por rangos de estas"
   ]
  },
  {
   "cell_type": "code",
   "execution_count": 84,
   "id": "95312db5-bd24-4c25-a4ce-fdc6cf437863",
   "metadata": {},
   "outputs": [
    {
     "data": {
      "text/html": [
       "<div>\n",
       "<style scoped>\n",
       "    .dataframe tbody tr th:only-of-type {\n",
       "        vertical-align: middle;\n",
       "    }\n",
       "\n",
       "    .dataframe tbody tr th {\n",
       "        vertical-align: top;\n",
       "    }\n",
       "\n",
       "    .dataframe thead th {\n",
       "        text-align: right;\n",
       "    }\n",
       "</style>\n",
       "<table border=\"1\" class=\"dataframe\">\n",
       "  <thead>\n",
       "    <tr style=\"text-align: right;\">\n",
       "      <th></th>\n",
       "      <th>Temperature</th>\n",
       "      <th>Year</th>\n",
       "      <th>Month</th>\n",
       "      <th>Country</th>\n",
       "      <th>ISO3</th>\n",
       "    </tr>\n",
       "    <tr>\n",
       "      <th>dates</th>\n",
       "      <th></th>\n",
       "      <th></th>\n",
       "      <th></th>\n",
       "      <th></th>\n",
       "      <th></th>\n",
       "    </tr>\n",
       "  </thead>\n",
       "  <tbody>\n",
       "    <tr>\n",
       "      <th>1991-01-01</th>\n",
       "      <td>-0.03110</td>\n",
       "      <td>1991</td>\n",
       "      <td>Jan</td>\n",
       "      <td>Afghanistan</td>\n",
       "      <td>AFG</td>\n",
       "    </tr>\n",
       "    <tr>\n",
       "      <th>1991-02-01</th>\n",
       "      <td>1.43654</td>\n",
       "      <td>1991</td>\n",
       "      <td>Feb</td>\n",
       "      <td>Afghanistan</td>\n",
       "      <td>AFG</td>\n",
       "    </tr>\n",
       "    <tr>\n",
       "      <th>1991-03-01</th>\n",
       "      <td>6.88685</td>\n",
       "      <td>1991</td>\n",
       "      <td>Mar</td>\n",
       "      <td>Afghanistan</td>\n",
       "      <td>AFG</td>\n",
       "    </tr>\n",
       "    <tr>\n",
       "      <th>1991-04-01</th>\n",
       "      <td>12.93970</td>\n",
       "      <td>1991</td>\n",
       "      <td>Apr</td>\n",
       "      <td>Afghanistan</td>\n",
       "      <td>AFG</td>\n",
       "    </tr>\n",
       "    <tr>\n",
       "      <th>1991-05-01</th>\n",
       "      <td>17.07550</td>\n",
       "      <td>1991</td>\n",
       "      <td>May</td>\n",
       "      <td>Afghanistan</td>\n",
       "      <td>AFG</td>\n",
       "    </tr>\n",
       "    <tr>\n",
       "      <th>...</th>\n",
       "      <td>...</td>\n",
       "      <td>...</td>\n",
       "      <td>...</td>\n",
       "      <td>...</td>\n",
       "      <td>...</td>\n",
       "    </tr>\n",
       "    <tr>\n",
       "      <th>2016-08-01</th>\n",
       "      <td>26.09480</td>\n",
       "      <td>2016</td>\n",
       "      <td>Aug</td>\n",
       "      <td>Venezuela</td>\n",
       "      <td>VEN</td>\n",
       "    </tr>\n",
       "    <tr>\n",
       "      <th>2016-09-01</th>\n",
       "      <td>26.22090</td>\n",
       "      <td>2016</td>\n",
       "      <td>Sep</td>\n",
       "      <td>Venezuela</td>\n",
       "      <td>VEN</td>\n",
       "    </tr>\n",
       "    <tr>\n",
       "      <th>2016-10-01</th>\n",
       "      <td>26.62850</td>\n",
       "      <td>2016</td>\n",
       "      <td>Oct</td>\n",
       "      <td>Venezuela</td>\n",
       "      <td>VEN</td>\n",
       "    </tr>\n",
       "    <tr>\n",
       "      <th>2016-11-01</th>\n",
       "      <td>26.27680</td>\n",
       "      <td>2016</td>\n",
       "      <td>Nov</td>\n",
       "      <td>Venezuela</td>\n",
       "      <td>VEN</td>\n",
       "    </tr>\n",
       "    <tr>\n",
       "      <th>2016-12-01</th>\n",
       "      <td>26.12860</td>\n",
       "      <td>2016</td>\n",
       "      <td>Dec</td>\n",
       "      <td>Venezuela</td>\n",
       "      <td>VEN</td>\n",
       "    </tr>\n",
       "  </tbody>\n",
       "</table>\n",
       "<p>59904 rows × 5 columns</p>\n",
       "</div>"
      ],
      "text/plain": [
       "            Temperature  Year Month      Country ISO3\n",
       "dates                                                \n",
       "1991-01-01     -0.03110  1991   Jan  Afghanistan  AFG\n",
       "1991-02-01      1.43654  1991   Feb  Afghanistan  AFG\n",
       "1991-03-01      6.88685  1991   Mar  Afghanistan  AFG\n",
       "1991-04-01     12.93970  1991   Apr  Afghanistan  AFG\n",
       "1991-05-01     17.07550  1991   May  Afghanistan  AFG\n",
       "...                 ...   ...   ...          ...  ...\n",
       "2016-08-01     26.09480  2016   Aug    Venezuela  VEN\n",
       "2016-09-01     26.22090  2016   Sep    Venezuela  VEN\n",
       "2016-10-01     26.62850  2016   Oct    Venezuela  VEN\n",
       "2016-11-01     26.27680  2016   Nov    Venezuela  VEN\n",
       "2016-12-01     26.12860  2016   Dec    Venezuela  VEN\n",
       "\n",
       "[59904 rows x 5 columns]"
      ]
     },
     "execution_count": 84,
     "metadata": {},
     "output_type": "execute_result"
    }
   ],
   "source": [
    "temperaturas_por_fecha = temp_df.set_index(\"dates\")\n",
    "temperaturas_por_fecha"
   ]
  },
  {
   "cell_type": "code",
   "execution_count": 85,
   "id": "a14be1c4-bbe4-49a5-9d8a-887cdccb4d2b",
   "metadata": {},
   "outputs": [
    {
     "data": {
      "text/html": [
       "<div>\n",
       "<style scoped>\n",
       "    .dataframe tbody tr th:only-of-type {\n",
       "        vertical-align: middle;\n",
       "    }\n",
       "\n",
       "    .dataframe tbody tr th {\n",
       "        vertical-align: top;\n",
       "    }\n",
       "\n",
       "    .dataframe thead th {\n",
       "        text-align: right;\n",
       "    }\n",
       "</style>\n",
       "<table border=\"1\" class=\"dataframe\">\n",
       "  <thead>\n",
       "    <tr style=\"text-align: right;\">\n",
       "      <th></th>\n",
       "      <th>Temperature</th>\n",
       "      <th>Year</th>\n",
       "      <th>Month</th>\n",
       "      <th>Country</th>\n",
       "      <th>ISO3</th>\n",
       "    </tr>\n",
       "    <tr>\n",
       "      <th>dates</th>\n",
       "      <th></th>\n",
       "      <th></th>\n",
       "      <th></th>\n",
       "      <th></th>\n",
       "      <th></th>\n",
       "    </tr>\n",
       "  </thead>\n",
       "  <tbody>\n",
       "    <tr>\n",
       "      <th>1995-01-01</th>\n",
       "      <td>0.92358</td>\n",
       "      <td>1995</td>\n",
       "      <td>Jan</td>\n",
       "      <td>Afghanistan</td>\n",
       "      <td>AFG</td>\n",
       "    </tr>\n",
       "    <tr>\n",
       "      <th>1995-02-01</th>\n",
       "      <td>2.96133</td>\n",
       "      <td>1995</td>\n",
       "      <td>Feb</td>\n",
       "      <td>Afghanistan</td>\n",
       "      <td>AFG</td>\n",
       "    </tr>\n",
       "    <tr>\n",
       "      <th>1995-03-01</th>\n",
       "      <td>6.36893</td>\n",
       "      <td>1995</td>\n",
       "      <td>Mar</td>\n",
       "      <td>Afghanistan</td>\n",
       "      <td>AFG</td>\n",
       "    </tr>\n",
       "    <tr>\n",
       "      <th>1995-04-01</th>\n",
       "      <td>12.26760</td>\n",
       "      <td>1995</td>\n",
       "      <td>Apr</td>\n",
       "      <td>Afghanistan</td>\n",
       "      <td>AFG</td>\n",
       "    </tr>\n",
       "    <tr>\n",
       "      <th>1995-05-01</th>\n",
       "      <td>18.11870</td>\n",
       "      <td>1995</td>\n",
       "      <td>May</td>\n",
       "      <td>Afghanistan</td>\n",
       "      <td>AFG</td>\n",
       "    </tr>\n",
       "    <tr>\n",
       "      <th>...</th>\n",
       "      <td>...</td>\n",
       "      <td>...</td>\n",
       "      <td>...</td>\n",
       "      <td>...</td>\n",
       "      <td>...</td>\n",
       "    </tr>\n",
       "    <tr>\n",
       "      <th>1999-08-01</th>\n",
       "      <td>24.86170</td>\n",
       "      <td>1999</td>\n",
       "      <td>Aug</td>\n",
       "      <td>Venezuela</td>\n",
       "      <td>VEN</td>\n",
       "    </tr>\n",
       "    <tr>\n",
       "      <th>1999-09-01</th>\n",
       "      <td>25.33310</td>\n",
       "      <td>1999</td>\n",
       "      <td>Sep</td>\n",
       "      <td>Venezuela</td>\n",
       "      <td>VEN</td>\n",
       "    </tr>\n",
       "    <tr>\n",
       "      <th>1999-10-01</th>\n",
       "      <td>25.35280</td>\n",
       "      <td>1999</td>\n",
       "      <td>Oct</td>\n",
       "      <td>Venezuela</td>\n",
       "      <td>VEN</td>\n",
       "    </tr>\n",
       "    <tr>\n",
       "      <th>1999-11-01</th>\n",
       "      <td>25.94590</td>\n",
       "      <td>1999</td>\n",
       "      <td>Nov</td>\n",
       "      <td>Venezuela</td>\n",
       "      <td>VEN</td>\n",
       "    </tr>\n",
       "    <tr>\n",
       "      <th>1999-12-01</th>\n",
       "      <td>25.39510</td>\n",
       "      <td>1999</td>\n",
       "      <td>Dec</td>\n",
       "      <td>Venezuela</td>\n",
       "      <td>VEN</td>\n",
       "    </tr>\n",
       "  </tbody>\n",
       "</table>\n",
       "<p>11520 rows × 5 columns</p>\n",
       "</div>"
      ],
      "text/plain": [
       "            Temperature  Year Month      Country ISO3\n",
       "dates                                                \n",
       "1995-01-01      0.92358  1995   Jan  Afghanistan  AFG\n",
       "1995-02-01      2.96133  1995   Feb  Afghanistan  AFG\n",
       "1995-03-01      6.36893  1995   Mar  Afghanistan  AFG\n",
       "1995-04-01     12.26760  1995   Apr  Afghanistan  AFG\n",
       "1995-05-01     18.11870  1995   May  Afghanistan  AFG\n",
       "...                 ...   ...   ...          ...  ...\n",
       "1999-08-01     24.86170  1999   Aug    Venezuela  VEN\n",
       "1999-09-01     25.33310  1999   Sep    Venezuela  VEN\n",
       "1999-10-01     25.35280  1999   Oct    Venezuela  VEN\n",
       "1999-11-01     25.94590  1999   Nov    Venezuela  VEN\n",
       "1999-12-01     25.39510  1999   Dec    Venezuela  VEN\n",
       "\n",
       "[11520 rows x 5 columns]"
      ]
     },
     "execution_count": 85,
     "metadata": {},
     "output_type": "execute_result"
    }
   ],
   "source": [
    "# Rango 1995-1-1 al 199-12-1\n",
    "temperaturas_por_fecha.loc[\"1995-1-1\":\"1999-12-1\"]"
   ]
  },
  {
   "cell_type": "code",
   "execution_count": 86,
   "id": "f4f6a342-10af-4e3c-ae59-ebe427b3ed5a",
   "metadata": {},
   "outputs": [
    {
     "data": {
      "text/html": [
       "<div>\n",
       "<style scoped>\n",
       "    .dataframe tbody tr th:only-of-type {\n",
       "        vertical-align: middle;\n",
       "    }\n",
       "\n",
       "    .dataframe tbody tr th {\n",
       "        vertical-align: top;\n",
       "    }\n",
       "\n",
       "    .dataframe thead th {\n",
       "        text-align: right;\n",
       "    }\n",
       "</style>\n",
       "<table border=\"1\" class=\"dataframe\">\n",
       "  <thead>\n",
       "    <tr style=\"text-align: right;\">\n",
       "      <th></th>\n",
       "      <th>Temperature</th>\n",
       "      <th>Year</th>\n",
       "      <th>Month</th>\n",
       "      <th>Country</th>\n",
       "      <th>ISO3</th>\n",
       "    </tr>\n",
       "    <tr>\n",
       "      <th>dates</th>\n",
       "      <th></th>\n",
       "      <th></th>\n",
       "      <th></th>\n",
       "      <th></th>\n",
       "      <th></th>\n",
       "    </tr>\n",
       "  </thead>\n",
       "  <tbody>\n",
       "    <tr>\n",
       "      <th>1999-11-01</th>\n",
       "      <td>8.22556</td>\n",
       "      <td>1999</td>\n",
       "      <td>Nov</td>\n",
       "      <td>Afghanistan</td>\n",
       "      <td>AFG</td>\n",
       "    </tr>\n",
       "    <tr>\n",
       "      <th>1999-12-01</th>\n",
       "      <td>3.80288</td>\n",
       "      <td>1999</td>\n",
       "      <td>Dec</td>\n",
       "      <td>Afghanistan</td>\n",
       "      <td>AFG</td>\n",
       "    </tr>\n",
       "    <tr>\n",
       "      <th>1999-11-01</th>\n",
       "      <td>7.79985</td>\n",
       "      <td>1999</td>\n",
       "      <td>Nov</td>\n",
       "      <td>Albania</td>\n",
       "      <td>ALB</td>\n",
       "    </tr>\n",
       "    <tr>\n",
       "      <th>1999-12-01</th>\n",
       "      <td>4.74799</td>\n",
       "      <td>1999</td>\n",
       "      <td>Dec</td>\n",
       "      <td>Albania</td>\n",
       "      <td>ALB</td>\n",
       "    </tr>\n",
       "    <tr>\n",
       "      <th>1999-11-01</th>\n",
       "      <td>17.59640</td>\n",
       "      <td>1999</td>\n",
       "      <td>Nov</td>\n",
       "      <td>Algeria</td>\n",
       "      <td>DZA</td>\n",
       "    </tr>\n",
       "    <tr>\n",
       "      <th>...</th>\n",
       "      <td>...</td>\n",
       "      <td>...</td>\n",
       "      <td>...</td>\n",
       "      <td>...</td>\n",
       "      <td>...</td>\n",
       "    </tr>\n",
       "    <tr>\n",
       "      <th>1999-12-01</th>\n",
       "      <td>2.38418</td>\n",
       "      <td>1999</td>\n",
       "      <td>Dec</td>\n",
       "      <td>Uzbekistan</td>\n",
       "      <td>UZB</td>\n",
       "    </tr>\n",
       "    <tr>\n",
       "      <th>1999-11-01</th>\n",
       "      <td>24.71980</td>\n",
       "      <td>1999</td>\n",
       "      <td>Nov</td>\n",
       "      <td>Vanuatu</td>\n",
       "      <td>VUT</td>\n",
       "    </tr>\n",
       "    <tr>\n",
       "      <th>1999-12-01</th>\n",
       "      <td>24.55080</td>\n",
       "      <td>1999</td>\n",
       "      <td>Dec</td>\n",
       "      <td>Vanuatu</td>\n",
       "      <td>VUT</td>\n",
       "    </tr>\n",
       "    <tr>\n",
       "      <th>1999-11-01</th>\n",
       "      <td>25.94590</td>\n",
       "      <td>1999</td>\n",
       "      <td>Nov</td>\n",
       "      <td>Venezuela</td>\n",
       "      <td>VEN</td>\n",
       "    </tr>\n",
       "    <tr>\n",
       "      <th>1999-12-01</th>\n",
       "      <td>25.39510</td>\n",
       "      <td>1999</td>\n",
       "      <td>Dec</td>\n",
       "      <td>Venezuela</td>\n",
       "      <td>VEN</td>\n",
       "    </tr>\n",
       "  </tbody>\n",
       "</table>\n",
       "<p>384 rows × 5 columns</p>\n",
       "</div>"
      ],
      "text/plain": [
       "            Temperature  Year Month      Country ISO3\n",
       "dates                                                \n",
       "1999-11-01      8.22556  1999   Nov  Afghanistan  AFG\n",
       "1999-12-01      3.80288  1999   Dec  Afghanistan  AFG\n",
       "1999-11-01      7.79985  1999   Nov      Albania  ALB\n",
       "1999-12-01      4.74799  1999   Dec      Albania  ALB\n",
       "1999-11-01     17.59640  1999   Nov      Algeria  DZA\n",
       "...                 ...   ...   ...          ...  ...\n",
       "1999-12-01      2.38418  1999   Dec   Uzbekistan  UZB\n",
       "1999-11-01     24.71980  1999   Nov      Vanuatu  VUT\n",
       "1999-12-01     24.55080  1999   Dec      Vanuatu  VUT\n",
       "1999-11-01     25.94590  1999   Nov    Venezuela  VEN\n",
       "1999-12-01     25.39510  1999   Dec    Venezuela  VEN\n",
       "\n",
       "[384 rows x 5 columns]"
      ]
     },
     "execution_count": 86,
     "metadata": {},
     "output_type": "execute_result"
    }
   ],
   "source": [
    "temperaturas_por_fecha.loc[\"1999-11-1\":\"1999-12-1\"]"
   ]
  },
  {
   "cell_type": "markdown",
   "id": "f139ee83-542a-4365-953d-be87f3dac7bc",
   "metadata": {},
   "source": [
    "### Pandas Timedeltas\n",
    "\n",
    "En general podemos construir un `pd.Timedelta` con los parámetros:\n",
    "\n",
    "`weeks, days, hours, minutes, seconds, milliseconds, microseconds, nanoseconds`"
   ]
  },
  {
   "cell_type": "code",
   "execution_count": 87,
   "id": "95e64e61-8231-4c47-8aba-26438b357c23",
   "metadata": {},
   "outputs": [
    {
     "data": {
      "text/plain": [
       "Timedelta('14 days 00:00:00')"
      ]
     },
     "execution_count": 87,
     "metadata": {},
     "output_type": "execute_result"
    }
   ],
   "source": [
    "ptd1 = pd.Timedelta(weeks=2)\n",
    "ptd1"
   ]
  },
  {
   "cell_type": "code",
   "execution_count": 88,
   "id": "02d320eb-e93b-4b6a-aaaf-81f53d68b4f0",
   "metadata": {},
   "outputs": [
    {
     "data": {
      "text/plain": [
       "0       1991-01-01\n",
       "1       1991-02-01\n",
       "2       1991-03-01\n",
       "3       1991-04-01\n",
       "4       1991-05-01\n",
       "           ...    \n",
       "59899   2016-08-01\n",
       "59900   2016-09-01\n",
       "59901   2016-10-01\n",
       "59902   2016-11-01\n",
       "59903   2016-12-01\n",
       "Name: dates, Length: 59904, dtype: datetime64[ns]"
      ]
     },
     "execution_count": 88,
     "metadata": {},
     "output_type": "execute_result"
    }
   ],
   "source": [
    "temp_df[\"dates\"]"
   ]
  },
  {
   "cell_type": "code",
   "execution_count": 89,
   "id": "b091c615-7b79-4ff7-a760-17781a0caa8c",
   "metadata": {},
   "outputs": [
    {
     "data": {
      "text/plain": [
       "0       1991-01-15\n",
       "1       1991-02-15\n",
       "2       1991-03-15\n",
       "3       1991-04-15\n",
       "4       1991-05-15\n",
       "           ...    \n",
       "59899   2016-08-15\n",
       "59900   2016-09-15\n",
       "59901   2016-10-15\n",
       "59902   2016-11-15\n",
       "59903   2016-12-15\n",
       "Name: dates, Length: 59904, dtype: datetime64[ns]"
      ]
     },
     "execution_count": 89,
     "metadata": {},
     "output_type": "execute_result"
    }
   ],
   "source": [
    "temp_df[\"dates\"] + ptd1"
   ]
  },
  {
   "cell_type": "markdown",
   "id": "0ea1fc60-a13e-4e09-8314-17b0db2ba02b",
   "metadata": {},
   "source": [
    "Y podemos también hacer Broadcasting con `datetime.timedeltas`"
   ]
  },
  {
   "cell_type": "code",
   "execution_count": 90,
   "id": "ab2cbd9d-244a-4f0a-8673-408849f608f2",
   "metadata": {},
   "outputs": [
    {
     "data": {
      "text/plain": [
       "0       1990-12-31\n",
       "1       1991-01-31\n",
       "2       1991-02-28\n",
       "3       1991-03-31\n",
       "4       1991-04-30\n",
       "           ...    \n",
       "59899   2016-07-31\n",
       "59900   2016-08-31\n",
       "59901   2016-09-30\n",
       "59902   2016-10-31\n",
       "59903   2016-11-30\n",
       "Name: dates, Length: 59904, dtype: datetime64[ns]"
      ]
     },
     "execution_count": 90,
     "metadata": {},
     "output_type": "execute_result"
    }
   ],
   "source": [
    "temp_df[\"dates\"] + datetime.timedelta(days=-1)"
   ]
  },
  {
   "cell_type": "markdown",
   "id": "9ea3da68-6c55-4973-a25f-94bbc0c6e3df",
   "metadata": {},
   "source": [
    "---\n",
    "\n",
    "## 4.- Datos Categóricos"
   ]
  },
  {
   "cell_type": "markdown",
   "id": "14514485-cf95-49fb-84ea-7874f93dc36b",
   "metadata": {},
   "source": [
    "Una variable categórica es un tipo de dato que puede tomar un número limitado (y usualmente fijo) de posibles valores.\n",
    "Ejemplos de esto: Género, clase social, tipo de sangre, etc...\n",
    "\n",
    "En general, guardar los datos como categóricos es mucho más eficiente que guardarlos como string. Según la referencia de pandas:\n",
    "\n",
    "> The memory usage of a Categorical is proportional to the number of categories plus the length of the data. In contrast, an object dtype is a constant times the length of the data.\n",
    "\n",
    "Como ejemplo, usaremos los continentes a los que pertenece cada país:"
   ]
  },
  {
   "cell_type": "code",
   "execution_count": 91,
   "id": "0e7a888e-bdd9-4ea9-9b33-41145cd2e814",
   "metadata": {},
   "outputs": [
    {
     "data": {
      "text/html": [
       "<div>\n",
       "<style scoped>\n",
       "    .dataframe tbody tr th:only-of-type {\n",
       "        vertical-align: middle;\n",
       "    }\n",
       "\n",
       "    .dataframe tbody tr th {\n",
       "        vertical-align: top;\n",
       "    }\n",
       "\n",
       "    .dataframe thead th {\n",
       "        text-align: right;\n",
       "    }\n",
       "</style>\n",
       "<table border=\"1\" class=\"dataframe\">\n",
       "  <thead>\n",
       "    <tr style=\"text-align: right;\">\n",
       "      <th></th>\n",
       "      <th>Continent_Name</th>\n",
       "      <th>Country_Name</th>\n",
       "    </tr>\n",
       "  </thead>\n",
       "  <tbody>\n",
       "    <tr>\n",
       "      <th>0</th>\n",
       "      <td>Asia</td>\n",
       "      <td>Afghanistan, Islamic Republic of</td>\n",
       "    </tr>\n",
       "    <tr>\n",
       "      <th>1</th>\n",
       "      <td>Europe</td>\n",
       "      <td>Albania</td>\n",
       "    </tr>\n",
       "    <tr>\n",
       "      <th>2</th>\n",
       "      <td>Antarctica</td>\n",
       "      <td>Antarctica (the territory South of 60 deg S)</td>\n",
       "    </tr>\n",
       "    <tr>\n",
       "      <th>3</th>\n",
       "      <td>Africa</td>\n",
       "      <td>Algeria, People's Democratic Republic of</td>\n",
       "    </tr>\n",
       "    <tr>\n",
       "      <th>4</th>\n",
       "      <td>Oceania</td>\n",
       "      <td>American Samoa</td>\n",
       "    </tr>\n",
       "    <tr>\n",
       "      <th>...</th>\n",
       "      <td>...</td>\n",
       "      <td>...</td>\n",
       "    </tr>\n",
       "    <tr>\n",
       "      <th>257</th>\n",
       "      <td>Africa</td>\n",
       "      <td>Zambia</td>\n",
       "    </tr>\n",
       "    <tr>\n",
       "      <th>258</th>\n",
       "      <td>Oceania</td>\n",
       "      <td>Disputed Territory</td>\n",
       "    </tr>\n",
       "    <tr>\n",
       "      <th>259</th>\n",
       "      <td>Asia</td>\n",
       "      <td>Iraq-Saudi Arabia Neutral Zone</td>\n",
       "    </tr>\n",
       "    <tr>\n",
       "      <th>260</th>\n",
       "      <td>Asia</td>\n",
       "      <td>United Nations Neutral Zone</td>\n",
       "    </tr>\n",
       "    <tr>\n",
       "      <th>261</th>\n",
       "      <td>Asia</td>\n",
       "      <td>Spratly Islands</td>\n",
       "    </tr>\n",
       "  </tbody>\n",
       "</table>\n",
       "<p>262 rows × 2 columns</p>\n",
       "</div>"
      ],
      "text/plain": [
       "    Continent_Name                                  Country_Name\n",
       "0             Asia              Afghanistan, Islamic Republic of\n",
       "1           Europe                                       Albania\n",
       "2       Antarctica  Antarctica (the territory South of 60 deg S)\n",
       "3           Africa      Algeria, People's Democratic Republic of\n",
       "4          Oceania                                American Samoa\n",
       "..             ...                                           ...\n",
       "257         Africa                                        Zambia\n",
       "258        Oceania                            Disputed Territory\n",
       "259           Asia                Iraq-Saudi Arabia Neutral Zone\n",
       "260           Asia                   United Nations Neutral Zone\n",
       "261           Asia                               Spratly Islands\n",
       "\n",
       "[262 rows x 2 columns]"
      ]
     },
     "execution_count": 91,
     "metadata": {},
     "output_type": "execute_result"
    }
   ],
   "source": [
    "countries = pd.read_csv(\"resources/country-and-continent.csv\")\n",
    "countries = countries.loc[:, [\"Continent_Name\", \"Country_Name\"]]\n",
    "countries"
   ]
  },
  {
   "cell_type": "markdown",
   "id": "778fa0ee-5033-46e4-8721-748e4d834b80",
   "metadata": {},
   "source": [
    "Declaramos una variable como categórica transformando la serie a `category` con `.astype(\"category\")`:"
   ]
  },
  {
   "cell_type": "code",
   "execution_count": 92,
   "id": "7c6f97cb-8698-4ed6-911e-d03739e4d223",
   "metadata": {},
   "outputs": [
    {
     "data": {
      "text/plain": [
       "0            Asia\n",
       "1          Europe\n",
       "2      Antarctica\n",
       "3          Africa\n",
       "4         Oceania\n",
       "          ...    \n",
       "257        Africa\n",
       "258       Oceania\n",
       "259          Asia\n",
       "260          Asia\n",
       "261          Asia\n",
       "Name: Continent_Name, Length: 262, dtype: object"
      ]
     },
     "execution_count": 92,
     "metadata": {},
     "output_type": "execute_result"
    }
   ],
   "source": [
    "countries[\"Continent_Name\"]"
   ]
  },
  {
   "cell_type": "code",
   "execution_count": 94,
   "id": "b8aa4e03-4332-4fe9-9a9e-7a79857e87a1",
   "metadata": {},
   "outputs": [
    {
     "data": {
      "text/plain": [
       "0            Asia\n",
       "1          Europe\n",
       "2      Antarctica\n",
       "3          Africa\n",
       "4         Oceania\n",
       "          ...    \n",
       "257        Africa\n",
       "258       Oceania\n",
       "259          Asia\n",
       "260          Asia\n",
       "261          Asia\n",
       "Name: Continent_Name, Length: 262, dtype: category\n",
       "Categories (7, object): ['Africa', 'Antarctica', 'Asia', 'Europe', 'North America', 'Oceania', 'South America']"
      ]
     },
     "execution_count": 94,
     "metadata": {},
     "output_type": "execute_result"
    }
   ],
   "source": [
    "countries[\"Continent_Name\"] = countries.loc[:, \"Continent_Name\"].astype(\"category\")\n",
    "countries[\"Continent_Name\"]"
   ]
  },
  {
   "cell_type": "markdown",
   "id": "dbca7c40-ea62-4286-a7d2-229f91cea9ba",
   "metadata": {},
   "source": [
    "Podemos acceder a las categorías con:"
   ]
  },
  {
   "cell_type": "code",
   "execution_count": 95,
   "id": "fbe387a6-da16-435c-a9e1-89ebf7e1e5d8",
   "metadata": {},
   "outputs": [
    {
     "data": {
      "text/plain": [
       "Index(['Africa', 'Antarctica', 'Asia', 'Europe', 'North America', 'Oceania',\n",
       "       'South America'],\n",
       "      dtype='object')"
      ]
     },
     "execution_count": 95,
     "metadata": {},
     "output_type": "execute_result"
    }
   ],
   "source": [
    "countries[\"Continent_Name\"].cat.categories"
   ]
  },
  {
   "cell_type": "markdown",
   "id": "03168590-ad3b-45bf-a057-0e073862c497",
   "metadata": {},
   "source": [
    "### Operaciones con categorías"
   ]
  },
  {
   "cell_type": "markdown",
   "id": "2cef2aeb-250d-447f-b859-ce6ce346c434",
   "metadata": {},
   "source": [
    "Podemos renombrar categorías usando el método `rename_categories`:"
   ]
  },
  {
   "cell_type": "code",
   "execution_count": 96,
   "id": "2449b616-49fb-4891-9da3-4c63af301637",
   "metadata": {},
   "outputs": [
    {
     "data": {
      "text/plain": [
       "0            Asia\n",
       "1          Europa\n",
       "2      Antarctica\n",
       "3          Africa\n",
       "4         Oceania\n",
       "          ...    \n",
       "257        Africa\n",
       "258       Oceania\n",
       "259          Asia\n",
       "260          Asia\n",
       "261          Asia\n",
       "Name: Continent_Name, Length: 262, dtype: category\n",
       "Categories (7, object): ['Africa', 'Antarctica', 'Asia', 'Europa', 'América del Norte', 'Oceania', 'América del Sur']"
      ]
     },
     "execution_count": 96,
     "metadata": {},
     "output_type": "execute_result"
    }
   ],
   "source": [
    "# renombrar en español\n",
    "countries[\"Continent_Name\"] = countries[\"Continent_Name\"].cat.rename_categories(\n",
    "    [\n",
    "        \"Africa\",\n",
    "        \"Antarctica\",\n",
    "        \"Asia\",\n",
    "        \"Europa\",\n",
    "        \"América del Norte\",\n",
    "        \"Oceania\",\n",
    "        \"América del Sur\",\n",
    "    ]\n",
    ")\n",
    "\n",
    "countries[\"Continent_Name\"]"
   ]
  },
  {
   "cell_type": "code",
   "execution_count": null,
   "id": "af1898f3-9e72-4e29-a277-806ad00cff2a",
   "metadata": {
    "scrolled": true
   },
   "outputs": [],
   "source": [
    "countries.sample(10)"
   ]
  },
  {
   "cell_type": "markdown",
   "id": "4e85e2b7-4605-4c34-a880-39c96fc28f64",
   "metadata": {},
   "source": [
    "`rename_categories` también acepta diccionarios como entrada. La idea es que el diccionario vincule los nombres antiguos con los nuevos:"
   ]
  },
  {
   "cell_type": "code",
   "execution_count": 97,
   "id": "4cfa769c-10c8-47ab-b502-1f3e3a76c01d",
   "metadata": {},
   "outputs": [],
   "source": [
    "countries[\"Continent_Name\"] = countries[\"Continent_Name\"].cat.rename_categories(\n",
    "    {\n",
    "        \"Europe\": \"Europa\",\n",
    "    }\n",
    ")"
   ]
  },
  {
   "cell_type": "code",
   "execution_count": 98,
   "id": "5a7a033d-c69d-4e38-b189-a16940a7fe0f",
   "metadata": {},
   "outputs": [
    {
     "data": {
      "text/html": [
       "<div>\n",
       "<style scoped>\n",
       "    .dataframe tbody tr th:only-of-type {\n",
       "        vertical-align: middle;\n",
       "    }\n",
       "\n",
       "    .dataframe tbody tr th {\n",
       "        vertical-align: top;\n",
       "    }\n",
       "\n",
       "    .dataframe thead th {\n",
       "        text-align: right;\n",
       "    }\n",
       "</style>\n",
       "<table border=\"1\" class=\"dataframe\">\n",
       "  <thead>\n",
       "    <tr style=\"text-align: right;\">\n",
       "      <th></th>\n",
       "      <th>Continent_Name</th>\n",
       "      <th>Country_Name</th>\n",
       "    </tr>\n",
       "  </thead>\n",
       "  <tbody>\n",
       "    <tr>\n",
       "      <th>0</th>\n",
       "      <td>Asia</td>\n",
       "      <td>Afghanistan, Islamic Republic of</td>\n",
       "    </tr>\n",
       "    <tr>\n",
       "      <th>1</th>\n",
       "      <td>Europa</td>\n",
       "      <td>Albania</td>\n",
       "    </tr>\n",
       "    <tr>\n",
       "      <th>2</th>\n",
       "      <td>Antarctica</td>\n",
       "      <td>Antarctica (the territory South of 60 deg S)</td>\n",
       "    </tr>\n",
       "    <tr>\n",
       "      <th>3</th>\n",
       "      <td>Africa</td>\n",
       "      <td>Algeria, People's Democratic Republic of</td>\n",
       "    </tr>\n",
       "    <tr>\n",
       "      <th>4</th>\n",
       "      <td>Oceania</td>\n",
       "      <td>American Samoa</td>\n",
       "    </tr>\n",
       "    <tr>\n",
       "      <th>...</th>\n",
       "      <td>...</td>\n",
       "      <td>...</td>\n",
       "    </tr>\n",
       "    <tr>\n",
       "      <th>257</th>\n",
       "      <td>Africa</td>\n",
       "      <td>Zambia</td>\n",
       "    </tr>\n",
       "    <tr>\n",
       "      <th>258</th>\n",
       "      <td>Oceania</td>\n",
       "      <td>Disputed Territory</td>\n",
       "    </tr>\n",
       "    <tr>\n",
       "      <th>259</th>\n",
       "      <td>Asia</td>\n",
       "      <td>Iraq-Saudi Arabia Neutral Zone</td>\n",
       "    </tr>\n",
       "    <tr>\n",
       "      <th>260</th>\n",
       "      <td>Asia</td>\n",
       "      <td>United Nations Neutral Zone</td>\n",
       "    </tr>\n",
       "    <tr>\n",
       "      <th>261</th>\n",
       "      <td>Asia</td>\n",
       "      <td>Spratly Islands</td>\n",
       "    </tr>\n",
       "  </tbody>\n",
       "</table>\n",
       "<p>262 rows × 2 columns</p>\n",
       "</div>"
      ],
      "text/plain": [
       "    Continent_Name                                  Country_Name\n",
       "0             Asia              Afghanistan, Islamic Republic of\n",
       "1           Europa                                       Albania\n",
       "2       Antarctica  Antarctica (the territory South of 60 deg S)\n",
       "3           Africa      Algeria, People's Democratic Republic of\n",
       "4          Oceania                                American Samoa\n",
       "..             ...                                           ...\n",
       "257         Africa                                        Zambia\n",
       "258        Oceania                            Disputed Territory\n",
       "259           Asia                Iraq-Saudi Arabia Neutral Zone\n",
       "260           Asia                   United Nations Neutral Zone\n",
       "261           Asia                               Spratly Islands\n",
       "\n",
       "[262 rows x 2 columns]"
      ]
     },
     "execution_count": 98,
     "metadata": {},
     "output_type": "execute_result"
    }
   ],
   "source": [
    "countries"
   ]
  },
  {
   "cell_type": "markdown",
   "id": "e142c34a-7ba0-417a-94f4-76c97e9c49fa",
   "metadata": {},
   "source": [
    "Se pueden agregar categorías"
   ]
  },
  {
   "cell_type": "code",
   "execution_count": 99,
   "id": "1d6406ce-5478-4566-834e-c0b0df18cce2",
   "metadata": {},
   "outputs": [
    {
     "data": {
      "text/plain": [
       "0            Asia\n",
       "1          Europa\n",
       "2      Antarctica\n",
       "3          Africa\n",
       "4         Oceania\n",
       "          ...    \n",
       "257        Africa\n",
       "258       Oceania\n",
       "259          Asia\n",
       "260          Asia\n",
       "261          Asia\n",
       "Name: Continent_Name, Length: 262, dtype: category\n",
       "Categories (8, object): ['Africa', 'Antarctica', 'Asia', 'Europa', 'América del Norte', 'Oceania', 'América del Sur', 'Atlantida']"
      ]
     },
     "execution_count": 99,
     "metadata": {},
     "output_type": "execute_result"
    }
   ],
   "source": [
    "countries[\"Continent_Name\"].cat.add_categories([\"Atlantida\"])"
   ]
  },
  {
   "cell_type": "markdown",
   "id": "61279199-76d7-42ed-9c91-f47289e79ac5",
   "metadata": {},
   "source": [
    "Como también eliminar las no usadas:"
   ]
  },
  {
   "cell_type": "code",
   "execution_count": 100,
   "id": "aeb25bd4-6a02-407d-ba1e-5f5b9f750732",
   "metadata": {},
   "outputs": [
    {
     "data": {
      "text/plain": [
       "0            Asia\n",
       "1          Europa\n",
       "2      Antarctica\n",
       "3          Africa\n",
       "4         Oceania\n",
       "          ...    \n",
       "257        Africa\n",
       "258       Oceania\n",
       "259          Asia\n",
       "260          Asia\n",
       "261          Asia\n",
       "Name: Continent_Name, Length: 262, dtype: category\n",
       "Categories (7, object): ['Africa', 'Antarctica', 'Asia', 'Europa', 'América del Norte', 'Oceania', 'América del Sur']"
      ]
     },
     "execution_count": 100,
     "metadata": {},
     "output_type": "execute_result"
    }
   ],
   "source": [
    "# Remover las no usadas\n",
    "countries[\"Continent_Name\"].cat.remove_unused_categories()"
   ]
  },
  {
   "cell_type": "markdown",
   "id": "77d6c042-8649-4222-8093-a6b7c67a44ca",
   "metadata": {},
   "source": [
    "O incluso, eliminar una categoría completa. Noten que esto transforma valores de esa categoría a `NaN`."
   ]
  },
  {
   "cell_type": "code",
   "execution_count": 101,
   "id": "c9b45926-35cd-433c-bbf9-700c0be64839",
   "metadata": {},
   "outputs": [
    {
     "data": {
      "text/plain": [
       "0            Asia\n",
       "1             NaN\n",
       "2      Antarctica\n",
       "3          Africa\n",
       "4         Oceania\n",
       "          ...    \n",
       "257        Africa\n",
       "258       Oceania\n",
       "259          Asia\n",
       "260          Asia\n",
       "261          Asia\n",
       "Name: Continent_Name, Length: 262, dtype: category\n",
       "Categories (6, object): ['Africa', 'Antarctica', 'Asia', 'América del Norte', 'Oceania', 'América del Sur']"
      ]
     },
     "execution_count": 101,
     "metadata": {},
     "output_type": "execute_result"
    }
   ],
   "source": [
    "# Como también remover una categoría completa.\n",
    "countries[\"Continent_Name\"].cat.remove_categories([\"Europa\"])"
   ]
  },
  {
   "cell_type": "markdown",
   "id": "56a8e56a-8ad9-42c9-a3d6-89d72a551569",
   "metadata": {},
   "source": [
    "### Nota sobre memoria\n",
    "\n",
    "Como habíamos dicho, es mucho más eficiente guardar variables categóricas que strings.\n",
    "Podemos ver esto en el siguiente ejemplo:\n",
    "\n",
    "#### Usando Strings"
   ]
  },
  {
   "cell_type": "code",
   "execution_count": 102,
   "id": "7dacbe58-e4be-4342-9afe-d45aa3542b3c",
   "metadata": {},
   "outputs": [
    {
     "data": {
      "text/html": [
       "<div>\n",
       "<style scoped>\n",
       "    .dataframe tbody tr th:only-of-type {\n",
       "        vertical-align: middle;\n",
       "    }\n",
       "\n",
       "    .dataframe tbody tr th {\n",
       "        vertical-align: top;\n",
       "    }\n",
       "\n",
       "    .dataframe thead th {\n",
       "        text-align: right;\n",
       "    }\n",
       "</style>\n",
       "<table border=\"1\" class=\"dataframe\">\n",
       "  <thead>\n",
       "    <tr style=\"text-align: right;\">\n",
       "      <th></th>\n",
       "      <th>var</th>\n",
       "    </tr>\n",
       "  </thead>\n",
       "  <tbody>\n",
       "    <tr>\n",
       "      <th>0</th>\n",
       "      <td>A</td>\n",
       "    </tr>\n",
       "    <tr>\n",
       "      <th>1</th>\n",
       "      <td>B</td>\n",
       "    </tr>\n",
       "    <tr>\n",
       "      <th>2</th>\n",
       "      <td>C</td>\n",
       "    </tr>\n",
       "    <tr>\n",
       "      <th>3</th>\n",
       "      <td>D</td>\n",
       "    </tr>\n",
       "    <tr>\n",
       "      <th>4</th>\n",
       "      <td>E</td>\n",
       "    </tr>\n",
       "    <tr>\n",
       "      <th>...</th>\n",
       "      <td>...</td>\n",
       "    </tr>\n",
       "    <tr>\n",
       "      <th>99999995</th>\n",
       "      <td>F</td>\n",
       "    </tr>\n",
       "    <tr>\n",
       "      <th>99999996</th>\n",
       "      <td>G</td>\n",
       "    </tr>\n",
       "    <tr>\n",
       "      <th>99999997</th>\n",
       "      <td>H</td>\n",
       "    </tr>\n",
       "    <tr>\n",
       "      <th>99999998</th>\n",
       "      <td>I</td>\n",
       "    </tr>\n",
       "    <tr>\n",
       "      <th>99999999</th>\n",
       "      <td>J</td>\n",
       "    </tr>\n",
       "  </tbody>\n",
       "</table>\n",
       "<p>100000000 rows × 1 columns</p>\n",
       "</div>"
      ],
      "text/plain": [
       "         var\n",
       "0          A\n",
       "1          B\n",
       "2          C\n",
       "3          D\n",
       "4          E\n",
       "...       ..\n",
       "99999995   F\n",
       "99999996   G\n",
       "99999997   H\n",
       "99999998   I\n",
       "99999999   J\n",
       "\n",
       "[100000000 rows x 1 columns]"
      ]
     },
     "execution_count": 102,
     "metadata": {},
     "output_type": "execute_result"
    }
   ],
   "source": [
    "# cuidado con este experimento, ocupa mucha memoria!\n",
    "df_pesado = pd.DataFrame(\n",
    "    [\"A\", \"B\", \"C\", \"D\", \"E\", \"F\", \"G\", \"H\", \"I\", \"J\"] * 10000000, columns=[\"var\"]\n",
    ")\n",
    "df_pesado"
   ]
  },
  {
   "cell_type": "code",
   "execution_count": 103,
   "id": "e40ed6f7-0692-4443-894a-a79690cb6c08",
   "metadata": {},
   "outputs": [
    {
     "ename": "AttributeError",
     "evalue": "Can only use .cat accessor with a 'category' dtype",
     "output_type": "error",
     "traceback": [
      "\u001b[0;31m---------------------------------------------------------------------------\u001b[0m",
      "\u001b[0;31mAttributeError\u001b[0m                            Traceback (most recent call last)",
      "Input \u001b[0;32mIn [103]\u001b[0m, in \u001b[0;36m<cell line: 2>\u001b[0;34m()\u001b[0m\n\u001b[1;32m      1\u001b[0m \u001b[38;5;66;03m# strings no tienen .cat\u001b[39;00m\n\u001b[0;32m----> 2\u001b[0m \u001b[43mdf_pesado\u001b[49m\u001b[43m[\u001b[49m\u001b[38;5;124;43m\"\u001b[39;49m\u001b[38;5;124;43mvar\u001b[39;49m\u001b[38;5;124;43m\"\u001b[39;49m\u001b[43m]\u001b[49m\u001b[38;5;241;43m.\u001b[39;49m\u001b[43mcat\u001b[49m\n",
      "File \u001b[0;32m~/miniconda3/lib/python3.9/site-packages/pandas/core/generic.py:5583\u001b[0m, in \u001b[0;36mNDFrame.__getattr__\u001b[0;34m(self, name)\u001b[0m\n\u001b[1;32m   5576\u001b[0m \u001b[38;5;28;01mif\u001b[39;00m (\n\u001b[1;32m   5577\u001b[0m     name \u001b[38;5;129;01mnot\u001b[39;00m \u001b[38;5;129;01min\u001b[39;00m \u001b[38;5;28mself\u001b[39m\u001b[38;5;241m.\u001b[39m_internal_names_set\n\u001b[1;32m   5578\u001b[0m     \u001b[38;5;129;01mand\u001b[39;00m name \u001b[38;5;129;01mnot\u001b[39;00m \u001b[38;5;129;01min\u001b[39;00m \u001b[38;5;28mself\u001b[39m\u001b[38;5;241m.\u001b[39m_metadata\n\u001b[1;32m   5579\u001b[0m     \u001b[38;5;129;01mand\u001b[39;00m name \u001b[38;5;129;01mnot\u001b[39;00m \u001b[38;5;129;01min\u001b[39;00m \u001b[38;5;28mself\u001b[39m\u001b[38;5;241m.\u001b[39m_accessors\n\u001b[1;32m   5580\u001b[0m     \u001b[38;5;129;01mand\u001b[39;00m \u001b[38;5;28mself\u001b[39m\u001b[38;5;241m.\u001b[39m_info_axis\u001b[38;5;241m.\u001b[39m_can_hold_identifiers_and_holds_name(name)\n\u001b[1;32m   5581\u001b[0m ):\n\u001b[1;32m   5582\u001b[0m     \u001b[38;5;28;01mreturn\u001b[39;00m \u001b[38;5;28mself\u001b[39m[name]\n\u001b[0;32m-> 5583\u001b[0m \u001b[38;5;28;01mreturn\u001b[39;00m \u001b[38;5;28;43mobject\u001b[39;49m\u001b[38;5;241;43m.\u001b[39;49m\u001b[38;5;21;43m__getattribute__\u001b[39;49m\u001b[43m(\u001b[49m\u001b[38;5;28;43mself\u001b[39;49m\u001b[43m,\u001b[49m\u001b[43m \u001b[49m\u001b[43mname\u001b[49m\u001b[43m)\u001b[49m\n",
      "File \u001b[0;32m~/miniconda3/lib/python3.9/site-packages/pandas/core/accessor.py:182\u001b[0m, in \u001b[0;36mCachedAccessor.__get__\u001b[0;34m(self, obj, cls)\u001b[0m\n\u001b[1;32m    179\u001b[0m \u001b[38;5;28;01mif\u001b[39;00m obj \u001b[38;5;129;01mis\u001b[39;00m \u001b[38;5;28;01mNone\u001b[39;00m:\n\u001b[1;32m    180\u001b[0m     \u001b[38;5;66;03m# we're accessing the attribute of the class, i.e., Dataset.geo\u001b[39;00m\n\u001b[1;32m    181\u001b[0m     \u001b[38;5;28;01mreturn\u001b[39;00m \u001b[38;5;28mself\u001b[39m\u001b[38;5;241m.\u001b[39m_accessor\n\u001b[0;32m--> 182\u001b[0m accessor_obj \u001b[38;5;241m=\u001b[39m \u001b[38;5;28;43mself\u001b[39;49m\u001b[38;5;241;43m.\u001b[39;49m\u001b[43m_accessor\u001b[49m\u001b[43m(\u001b[49m\u001b[43mobj\u001b[49m\u001b[43m)\u001b[49m\n\u001b[1;32m    183\u001b[0m \u001b[38;5;66;03m# Replace the property with the accessor object. Inspired by:\u001b[39;00m\n\u001b[1;32m    184\u001b[0m \u001b[38;5;66;03m# https://www.pydanny.com/cached-property.html\u001b[39;00m\n\u001b[1;32m    185\u001b[0m \u001b[38;5;66;03m# We need to use object.__setattr__ because we overwrite __setattr__ on\u001b[39;00m\n\u001b[1;32m    186\u001b[0m \u001b[38;5;66;03m# NDFrame\u001b[39;00m\n\u001b[1;32m    187\u001b[0m \u001b[38;5;28mobject\u001b[39m\u001b[38;5;241m.\u001b[39m\u001b[38;5;21m__setattr__\u001b[39m(obj, \u001b[38;5;28mself\u001b[39m\u001b[38;5;241m.\u001b[39m_name, accessor_obj)\n",
      "File \u001b[0;32m~/miniconda3/lib/python3.9/site-packages/pandas/core/arrays/categorical.py:2717\u001b[0m, in \u001b[0;36mCategoricalAccessor.__init__\u001b[0;34m(self, data)\u001b[0m\n\u001b[1;32m   2716\u001b[0m \u001b[38;5;28;01mdef\u001b[39;00m \u001b[38;5;21m__init__\u001b[39m(\u001b[38;5;28mself\u001b[39m, data):\n\u001b[0;32m-> 2717\u001b[0m     \u001b[38;5;28;43mself\u001b[39;49m\u001b[38;5;241;43m.\u001b[39;49m\u001b[43m_validate\u001b[49m\u001b[43m(\u001b[49m\u001b[43mdata\u001b[49m\u001b[43m)\u001b[49m\n\u001b[1;32m   2718\u001b[0m     \u001b[38;5;28mself\u001b[39m\u001b[38;5;241m.\u001b[39m_parent \u001b[38;5;241m=\u001b[39m data\u001b[38;5;241m.\u001b[39mvalues\n\u001b[1;32m   2719\u001b[0m     \u001b[38;5;28mself\u001b[39m\u001b[38;5;241m.\u001b[39m_index \u001b[38;5;241m=\u001b[39m data\u001b[38;5;241m.\u001b[39mindex\n",
      "File \u001b[0;32m~/miniconda3/lib/python3.9/site-packages/pandas/core/arrays/categorical.py:2726\u001b[0m, in \u001b[0;36mCategoricalAccessor._validate\u001b[0;34m(data)\u001b[0m\n\u001b[1;32m   2723\u001b[0m \u001b[38;5;129m@staticmethod\u001b[39m\n\u001b[1;32m   2724\u001b[0m \u001b[38;5;28;01mdef\u001b[39;00m \u001b[38;5;21m_validate\u001b[39m(data):\n\u001b[1;32m   2725\u001b[0m     \u001b[38;5;28;01mif\u001b[39;00m \u001b[38;5;129;01mnot\u001b[39;00m is_categorical_dtype(data\u001b[38;5;241m.\u001b[39mdtype):\n\u001b[0;32m-> 2726\u001b[0m         \u001b[38;5;28;01mraise\u001b[39;00m \u001b[38;5;167;01mAttributeError\u001b[39;00m(\u001b[38;5;124m\"\u001b[39m\u001b[38;5;124mCan only use .cat accessor with a \u001b[39m\u001b[38;5;124m'\u001b[39m\u001b[38;5;124mcategory\u001b[39m\u001b[38;5;124m'\u001b[39m\u001b[38;5;124m dtype\u001b[39m\u001b[38;5;124m\"\u001b[39m)\n",
      "\u001b[0;31mAttributeError\u001b[0m: Can only use .cat accessor with a 'category' dtype"
     ]
    }
   ],
   "source": [
    "# strings no tienen .cat\n",
    "df_pesado[\"var\"].cat"
   ]
  },
  {
   "cell_type": "code",
   "execution_count": 104,
   "id": "27f8808b-7c98-4d39-b3b4-8d4c1f104efd",
   "metadata": {},
   "outputs": [
    {
     "name": "stdout",
     "output_type": "stream",
     "text": [
      "<class 'pandas.core.frame.DataFrame'>\n",
      "RangeIndex: 100000000 entries, 0 to 99999999\n",
      "Data columns (total 1 columns):\n",
      " #   Column  Dtype \n",
      "---  ------  ----- \n",
      " 0   var     object\n",
      "dtypes: object(1)\n",
      "memory usage: 762.9+ MB\n"
     ]
    }
   ],
   "source": [
    "# observen la cantidad de memoria.\n",
    "df_pesado.info()"
   ]
  },
  {
   "cell_type": "markdown",
   "id": "c64cd50e-e7bc-4d2d-9f7e-5c6097759744",
   "metadata": {},
   "source": [
    "#### Usando Categorías"
   ]
  },
  {
   "cell_type": "code",
   "execution_count": 105,
   "id": "960ea20a-2117-43c6-8c51-706121bd591d",
   "metadata": {},
   "outputs": [
    {
     "data": {
      "text/html": [
       "<div>\n",
       "<style scoped>\n",
       "    .dataframe tbody tr th:only-of-type {\n",
       "        vertical-align: middle;\n",
       "    }\n",
       "\n",
       "    .dataframe tbody tr th {\n",
       "        vertical-align: top;\n",
       "    }\n",
       "\n",
       "    .dataframe thead th {\n",
       "        text-align: right;\n",
       "    }\n",
       "</style>\n",
       "<table border=\"1\" class=\"dataframe\">\n",
       "  <thead>\n",
       "    <tr style=\"text-align: right;\">\n",
       "      <th></th>\n",
       "      <th>var</th>\n",
       "    </tr>\n",
       "  </thead>\n",
       "  <tbody>\n",
       "    <tr>\n",
       "      <th>0</th>\n",
       "      <td>A</td>\n",
       "    </tr>\n",
       "    <tr>\n",
       "      <th>1</th>\n",
       "      <td>B</td>\n",
       "    </tr>\n",
       "    <tr>\n",
       "      <th>2</th>\n",
       "      <td>C</td>\n",
       "    </tr>\n",
       "    <tr>\n",
       "      <th>3</th>\n",
       "      <td>D</td>\n",
       "    </tr>\n",
       "    <tr>\n",
       "      <th>4</th>\n",
       "      <td>E</td>\n",
       "    </tr>\n",
       "    <tr>\n",
       "      <th>...</th>\n",
       "      <td>...</td>\n",
       "    </tr>\n",
       "    <tr>\n",
       "      <th>99999995</th>\n",
       "      <td>F</td>\n",
       "    </tr>\n",
       "    <tr>\n",
       "      <th>99999996</th>\n",
       "      <td>G</td>\n",
       "    </tr>\n",
       "    <tr>\n",
       "      <th>99999997</th>\n",
       "      <td>H</td>\n",
       "    </tr>\n",
       "    <tr>\n",
       "      <th>99999998</th>\n",
       "      <td>I</td>\n",
       "    </tr>\n",
       "    <tr>\n",
       "      <th>99999999</th>\n",
       "      <td>J</td>\n",
       "    </tr>\n",
       "  </tbody>\n",
       "</table>\n",
       "<p>100000000 rows × 1 columns</p>\n",
       "</div>"
      ],
      "text/plain": [
       "         var\n",
       "0          A\n",
       "1          B\n",
       "2          C\n",
       "3          D\n",
       "4          E\n",
       "...       ..\n",
       "99999995   F\n",
       "99999996   G\n",
       "99999997   H\n",
       "99999998   I\n",
       "99999999   J\n",
       "\n",
       "[100000000 rows x 1 columns]"
      ]
     },
     "execution_count": 105,
     "metadata": {},
     "output_type": "execute_result"
    }
   ],
   "source": [
    "df_pesado = pd.DataFrame(\n",
    "    [\"A\", \"B\", \"C\", \"D\", \"E\", \"F\", \"G\", \"H\", \"I\", \"J\"] * 10000000, columns=[\"var\"]\n",
    ")\n",
    "df_pesado[\"var\"] = df_pesado[\"var\"].astype(\"category\")\n",
    "df_pesado"
   ]
  },
  {
   "cell_type": "code",
   "execution_count": 106,
   "id": "95b8754e-f70b-4f33-8a80-5dfafdc4b249",
   "metadata": {},
   "outputs": [
    {
     "data": {
      "text/plain": [
       "<pandas.core.arrays.categorical.CategoricalAccessor object at 0x7f4c352a4910>"
      ]
     },
     "execution_count": 106,
     "metadata": {},
     "output_type": "execute_result"
    }
   ],
   "source": [
    "df_pesado[\"var\"].cat"
   ]
  },
  {
   "cell_type": "code",
   "execution_count": 107,
   "id": "62793681-4350-410d-b8f4-87104b589819",
   "metadata": {},
   "outputs": [
    {
     "name": "stdout",
     "output_type": "stream",
     "text": [
      "<class 'pandas.core.frame.DataFrame'>\n",
      "RangeIndex: 100000000 entries, 0 to 99999999\n",
      "Data columns (total 1 columns):\n",
      " #   Column  Dtype   \n",
      "---  ------  -----   \n",
      " 0   var     category\n",
      "dtypes: category(1)\n",
      "memory usage: 95.4 MB\n"
     ]
    }
   ],
   "source": [
    "df_pesado.info()"
   ]
  },
  {
   "cell_type": "markdown",
   "id": "3885c733-7060-4bba-9dc3-7332226b3a02",
   "metadata": {},
   "source": [
    "### Un pequeño merge con los datos anteriores\n",
    "\n",
    "Notar que en esta versión se especificó sobre que variables hacer el merge en ambos datasets."
   ]
  },
  {
   "cell_type": "code",
   "execution_count": 109,
   "id": "899a2c2f-06c4-4839-86b8-b84d15a4fdce",
   "metadata": {},
   "outputs": [
    {
     "data": {
      "text/html": [
       "<div>\n",
       "<style scoped>\n",
       "    .dataframe tbody tr th:only-of-type {\n",
       "        vertical-align: middle;\n",
       "    }\n",
       "\n",
       "    .dataframe tbody tr th {\n",
       "        vertical-align: top;\n",
       "    }\n",
       "\n",
       "    .dataframe thead tr th {\n",
       "        text-align: left;\n",
       "    }\n",
       "\n",
       "    .dataframe thead tr:last-of-type th {\n",
       "        text-align: right;\n",
       "    }\n",
       "</style>\n",
       "<table border=\"1\" class=\"dataframe\">\n",
       "  <thead>\n",
       "    <tr>\n",
       "      <th></th>\n",
       "      <th colspan=\"2\" halign=\"left\">Temperature</th>\n",
       "    </tr>\n",
       "    <tr>\n",
       "      <th></th>\n",
       "      <th>mean</th>\n",
       "      <th>std</th>\n",
       "    </tr>\n",
       "    <tr>\n",
       "      <th>Country</th>\n",
       "      <th></th>\n",
       "      <th></th>\n",
       "    </tr>\n",
       "  </thead>\n",
       "  <tbody>\n",
       "    <tr>\n",
       "      <th>Afghanistan</th>\n",
       "      <td>13.545609</td>\n",
       "      <td>8.695203</td>\n",
       "    </tr>\n",
       "    <tr>\n",
       "      <th>Albania</th>\n",
       "      <td>12.106435</td>\n",
       "      <td>7.101392</td>\n",
       "    </tr>\n",
       "    <tr>\n",
       "      <th>Algeria</th>\n",
       "      <td>23.439610</td>\n",
       "      <td>7.473115</td>\n",
       "    </tr>\n",
       "    <tr>\n",
       "      <th>Andorra</th>\n",
       "      <td>11.953746</td>\n",
       "      <td>6.014903</td>\n",
       "    </tr>\n",
       "    <tr>\n",
       "      <th>Angola</th>\n",
       "      <td>22.133815</td>\n",
       "      <td>1.710757</td>\n",
       "    </tr>\n",
       "    <tr>\n",
       "      <th>...</th>\n",
       "      <td>...</td>\n",
       "      <td>...</td>\n",
       "    </tr>\n",
       "    <tr>\n",
       "      <th>United States</th>\n",
       "      <td>7.617000</td>\n",
       "      <td>9.077944</td>\n",
       "    </tr>\n",
       "    <tr>\n",
       "      <th>Uruguay</th>\n",
       "      <td>17.941855</td>\n",
       "      <td>4.505184</td>\n",
       "    </tr>\n",
       "    <tr>\n",
       "      <th>Uzbekistan</th>\n",
       "      <td>13.158793</td>\n",
       "      <td>10.837303</td>\n",
       "    </tr>\n",
       "    <tr>\n",
       "      <th>Vanuatu</th>\n",
       "      <td>24.123163</td>\n",
       "      <td>1.204321</td>\n",
       "    </tr>\n",
       "    <tr>\n",
       "      <th>Venezuela</th>\n",
       "      <td>25.865055</td>\n",
       "      <td>0.621697</td>\n",
       "    </tr>\n",
       "  </tbody>\n",
       "</table>\n",
       "<p>192 rows × 2 columns</p>\n",
       "</div>"
      ],
      "text/plain": [
       "              Temperature           \n",
       "                     mean        std\n",
       "Country                             \n",
       "Afghanistan     13.545609   8.695203\n",
       "Albania         12.106435   7.101392\n",
       "Algeria         23.439610   7.473115\n",
       "Andorra         11.953746   6.014903\n",
       "Angola          22.133815   1.710757\n",
       "...                   ...        ...\n",
       "United States    7.617000   9.077944\n",
       "Uruguay         17.941855   4.505184\n",
       "Uzbekistan      13.158793  10.837303\n",
       "Vanuatu         24.123163   1.204321\n",
       "Venezuela       25.865055   0.621697\n",
       "\n",
       "[192 rows x 2 columns]"
      ]
     },
     "execution_count": 109,
     "metadata": {},
     "output_type": "execute_result"
    }
   ],
   "source": [
    "temp_agg = temp_df.groupby(\"Country\").agg({\"Temperature\": [\"mean\", \"std\"]})\n",
    "temp_agg"
   ]
  },
  {
   "cell_type": "code",
   "execution_count": 110,
   "id": "4f711ee1-430a-446a-ba82-0005009d99e3",
   "metadata": {},
   "outputs": [
    {
     "data": {
      "text/html": [
       "<div>\n",
       "<style scoped>\n",
       "    .dataframe tbody tr th:only-of-type {\n",
       "        vertical-align: middle;\n",
       "    }\n",
       "\n",
       "    .dataframe tbody tr th {\n",
       "        vertical-align: top;\n",
       "    }\n",
       "\n",
       "    .dataframe thead th {\n",
       "        text-align: right;\n",
       "    }\n",
       "</style>\n",
       "<table border=\"1\" class=\"dataframe\">\n",
       "  <thead>\n",
       "    <tr style=\"text-align: right;\">\n",
       "      <th></th>\n",
       "      <th>Continent_Name</th>\n",
       "      <th>Country_Name</th>\n",
       "    </tr>\n",
       "  </thead>\n",
       "  <tbody>\n",
       "    <tr>\n",
       "      <th>0</th>\n",
       "      <td>Asia</td>\n",
       "      <td>Afghanistan, Islamic Republic of</td>\n",
       "    </tr>\n",
       "    <tr>\n",
       "      <th>1</th>\n",
       "      <td>Europa</td>\n",
       "      <td>Albania</td>\n",
       "    </tr>\n",
       "    <tr>\n",
       "      <th>2</th>\n",
       "      <td>Antarctica</td>\n",
       "      <td>Antarctica (the territory South of 60 deg S)</td>\n",
       "    </tr>\n",
       "    <tr>\n",
       "      <th>3</th>\n",
       "      <td>Africa</td>\n",
       "      <td>Algeria, People's Democratic Republic of</td>\n",
       "    </tr>\n",
       "    <tr>\n",
       "      <th>4</th>\n",
       "      <td>Oceania</td>\n",
       "      <td>American Samoa</td>\n",
       "    </tr>\n",
       "    <tr>\n",
       "      <th>...</th>\n",
       "      <td>...</td>\n",
       "      <td>...</td>\n",
       "    </tr>\n",
       "    <tr>\n",
       "      <th>257</th>\n",
       "      <td>Africa</td>\n",
       "      <td>Zambia</td>\n",
       "    </tr>\n",
       "    <tr>\n",
       "      <th>258</th>\n",
       "      <td>Oceania</td>\n",
       "      <td>Disputed Territory</td>\n",
       "    </tr>\n",
       "    <tr>\n",
       "      <th>259</th>\n",
       "      <td>Asia</td>\n",
       "      <td>Iraq-Saudi Arabia Neutral Zone</td>\n",
       "    </tr>\n",
       "    <tr>\n",
       "      <th>260</th>\n",
       "      <td>Asia</td>\n",
       "      <td>United Nations Neutral Zone</td>\n",
       "    </tr>\n",
       "    <tr>\n",
       "      <th>261</th>\n",
       "      <td>Asia</td>\n",
       "      <td>Spratly Islands</td>\n",
       "    </tr>\n",
       "  </tbody>\n",
       "</table>\n",
       "<p>262 rows × 2 columns</p>\n",
       "</div>"
      ],
      "text/plain": [
       "    Continent_Name                                  Country_Name\n",
       "0             Asia              Afghanistan, Islamic Republic of\n",
       "1           Europa                                       Albania\n",
       "2       Antarctica  Antarctica (the territory South of 60 deg S)\n",
       "3           Africa      Algeria, People's Democratic Republic of\n",
       "4          Oceania                                American Samoa\n",
       "..             ...                                           ...\n",
       "257         Africa                                        Zambia\n",
       "258        Oceania                            Disputed Territory\n",
       "259           Asia                Iraq-Saudi Arabia Neutral Zone\n",
       "260           Asia                   United Nations Neutral Zone\n",
       "261           Asia                               Spratly Islands\n",
       "\n",
       "[262 rows x 2 columns]"
      ]
     },
     "execution_count": 110,
     "metadata": {},
     "output_type": "execute_result"
    }
   ],
   "source": [
    "countries"
   ]
  },
  {
   "cell_type": "code",
   "execution_count": 111,
   "id": "b048e3b3-40b2-4220-ac8a-fc40ff8ee00f",
   "metadata": {},
   "outputs": [
    {
     "data": {
      "text/html": [
       "<div>\n",
       "<style scoped>\n",
       "    .dataframe tbody tr th:only-of-type {\n",
       "        vertical-align: middle;\n",
       "    }\n",
       "\n",
       "    .dataframe tbody tr th {\n",
       "        vertical-align: top;\n",
       "    }\n",
       "\n",
       "    .dataframe thead th {\n",
       "        text-align: right;\n",
       "    }\n",
       "</style>\n",
       "<table border=\"1\" class=\"dataframe\">\n",
       "  <thead>\n",
       "    <tr style=\"text-align: right;\">\n",
       "      <th></th>\n",
       "      <th>Country</th>\n",
       "      <th>Mean temperature</th>\n",
       "      <th>Std temperature</th>\n",
       "      <th>Continent_Name</th>\n",
       "      <th>Country_Name</th>\n",
       "    </tr>\n",
       "  </thead>\n",
       "  <tbody>\n",
       "    <tr>\n",
       "      <th>0</th>\n",
       "      <td>Afghanistan</td>\n",
       "      <td>13.545609</td>\n",
       "      <td>8.695203</td>\n",
       "      <td>NaN</td>\n",
       "      <td>NaN</td>\n",
       "    </tr>\n",
       "    <tr>\n",
       "      <th>1</th>\n",
       "      <td>Albania</td>\n",
       "      <td>12.106435</td>\n",
       "      <td>7.101392</td>\n",
       "      <td>Europa</td>\n",
       "      <td>Albania</td>\n",
       "    </tr>\n",
       "    <tr>\n",
       "      <th>2</th>\n",
       "      <td>Algeria</td>\n",
       "      <td>23.439610</td>\n",
       "      <td>7.473115</td>\n",
       "      <td>NaN</td>\n",
       "      <td>NaN</td>\n",
       "    </tr>\n",
       "    <tr>\n",
       "      <th>3</th>\n",
       "      <td>Andorra</td>\n",
       "      <td>11.953746</td>\n",
       "      <td>6.014903</td>\n",
       "      <td>NaN</td>\n",
       "      <td>NaN</td>\n",
       "    </tr>\n",
       "    <tr>\n",
       "      <th>4</th>\n",
       "      <td>Angola</td>\n",
       "      <td>22.133815</td>\n",
       "      <td>1.710757</td>\n",
       "      <td>Africa</td>\n",
       "      <td>Angola</td>\n",
       "    </tr>\n",
       "    <tr>\n",
       "      <th>...</th>\n",
       "      <td>...</td>\n",
       "      <td>...</td>\n",
       "      <td>...</td>\n",
       "      <td>...</td>\n",
       "      <td>...</td>\n",
       "    </tr>\n",
       "    <tr>\n",
       "      <th>193</th>\n",
       "      <td>United States</td>\n",
       "      <td>7.617000</td>\n",
       "      <td>9.077944</td>\n",
       "      <td>América del Norte</td>\n",
       "      <td>United States</td>\n",
       "    </tr>\n",
       "    <tr>\n",
       "      <th>194</th>\n",
       "      <td>Uruguay</td>\n",
       "      <td>17.941855</td>\n",
       "      <td>4.505184</td>\n",
       "      <td>NaN</td>\n",
       "      <td>NaN</td>\n",
       "    </tr>\n",
       "    <tr>\n",
       "      <th>195</th>\n",
       "      <td>Uzbekistan</td>\n",
       "      <td>13.158793</td>\n",
       "      <td>10.837303</td>\n",
       "      <td>Asia</td>\n",
       "      <td>Uzbekistan</td>\n",
       "    </tr>\n",
       "    <tr>\n",
       "      <th>196</th>\n",
       "      <td>Vanuatu</td>\n",
       "      <td>24.123163</td>\n",
       "      <td>1.204321</td>\n",
       "      <td>Oceania</td>\n",
       "      <td>Vanuatu</td>\n",
       "    </tr>\n",
       "    <tr>\n",
       "      <th>197</th>\n",
       "      <td>Venezuela</td>\n",
       "      <td>25.865055</td>\n",
       "      <td>0.621697</td>\n",
       "      <td>NaN</td>\n",
       "      <td>NaN</td>\n",
       "    </tr>\n",
       "  </tbody>\n",
       "</table>\n",
       "<p>198 rows × 5 columns</p>\n",
       "</div>"
      ],
      "text/plain": [
       "           Country  Mean temperature  Std temperature     Continent_Name  \\\n",
       "0      Afghanistan         13.545609         8.695203                NaN   \n",
       "1          Albania         12.106435         7.101392             Europa   \n",
       "2          Algeria         23.439610         7.473115                NaN   \n",
       "3          Andorra         11.953746         6.014903                NaN   \n",
       "4           Angola         22.133815         1.710757             Africa   \n",
       "..             ...               ...              ...                ...   \n",
       "193  United States          7.617000         9.077944  América del Norte   \n",
       "194        Uruguay         17.941855         4.505184                NaN   \n",
       "195     Uzbekistan         13.158793        10.837303               Asia   \n",
       "196        Vanuatu         24.123163         1.204321            Oceania   \n",
       "197      Venezuela         25.865055         0.621697                NaN   \n",
       "\n",
       "      Country_Name  \n",
       "0              NaN  \n",
       "1          Albania  \n",
       "2              NaN  \n",
       "3              NaN  \n",
       "4           Angola  \n",
       "..             ...  \n",
       "193  United States  \n",
       "194            NaN  \n",
       "195     Uzbekistan  \n",
       "196        Vanuatu  \n",
       "197            NaN  \n",
       "\n",
       "[198 rows x 5 columns]"
      ]
     },
     "execution_count": 111,
     "metadata": {},
     "output_type": "execute_result"
    }
   ],
   "source": [
    "temp_agg.columns = temp_agg.columns.droplevel()\n",
    "temp_agg = temp_agg.reset_index()\n",
    "temp_agg.columns = [\"Country\", \"Mean temperature\", \"Std temperature\"]\n",
    "temp_agg\n",
    "\n",
    "merged_df = pd.merge(\n",
    "    temp_agg,\n",
    "    countries,\n",
    "    how=\"left\",\n",
    "    left_on=\"Country\",\n",
    "    right_on=\"Country_Name\",\n",
    ")\n",
    "\n",
    "merged_df"
   ]
  },
  {
   "cell_type": "markdown",
   "id": "f204aad7-258c-47a8-86ee-0a98d1aa78b0",
   "metadata": {},
   "source": [
    "---\n",
    "\n",
    "## 5.- Ordinales\n",
    "\n",
    "Son variables categóricas con un orden definido.\n",
    "\n",
    "Por ejemplo, hagamos una clasificación muy simple del clima a partir de la temperatura media. Para esto, calculemos cuartiles:\n",
    "\n",
    "> Nota: Los elementos meteorológicos a tomar en cuenta para definir un clima son la temperatura, la presión, el viento, la humedad y la precipitación. Referencias: https://es.wikipedia.org/wiki/Clima"
   ]
  },
  {
   "cell_type": "code",
   "execution_count": 112,
   "id": "d0723f59-3a5c-40e3-b02b-c06cea0f44d8",
   "metadata": {},
   "outputs": [
    {
     "data": {
      "text/plain": [
       "0      13.545609\n",
       "1      12.106435\n",
       "2      23.439610\n",
       "3      11.953746\n",
       "4      22.133815\n",
       "         ...    \n",
       "193     7.617000\n",
       "194    17.941855\n",
       "195    13.158793\n",
       "196    24.123163\n",
       "197    25.865055\n",
       "Name: Mean temperature, Length: 198, dtype: float64"
      ]
     },
     "execution_count": 112,
     "metadata": {},
     "output_type": "execute_result"
    }
   ],
   "source": [
    "mean_temp = merged_df[\"Mean temperature\"]\n",
    "mean_temp"
   ]
  },
  {
   "cell_type": "code",
   "execution_count": 113,
   "id": "5e789fad-922f-4070-a3d1-4cef39e2018b",
   "metadata": {},
   "outputs": [
    {
     "data": {
      "text/plain": [
       "count    198.000000\n",
       "mean      18.889212\n",
       "std        8.721793\n",
       "min      -17.072330\n",
       "25%       11.300543\n",
       "50%       22.726409\n",
       "75%       25.844148\n",
       "max       28.883495\n",
       "Name: Mean temperature, dtype: float64"
      ]
     },
     "execution_count": 113,
     "metadata": {},
     "output_type": "execute_result"
    }
   ],
   "source": [
    "mean_temp.describe()"
   ]
  },
  {
   "cell_type": "code",
   "execution_count": 114,
   "id": "4f4d3df2-cc47-48b5-a995-c9847fd2b797",
   "metadata": {},
   "outputs": [
    {
     "data": {
      "text/plain": [
       "0          Frio\n",
       "1          Frio\n",
       "2      Templado\n",
       "3          Frio\n",
       "4      Templado\n",
       "         ...   \n",
       "193       Polar\n",
       "194        Frio\n",
       "195        Frio\n",
       "196    Templado\n",
       "197      Calido\n",
       "Name: Mean temperature, Length: 198, dtype: category\n",
       "Categories (5, object): ['Polar' < 'Frio' < 'Templado' < 'Calido' < 'Muy Calido']"
      ]
     },
     "execution_count": 114,
     "metadata": {},
     "output_type": "execute_result"
    }
   ],
   "source": [
    "clima_ordinal = pd.qcut(\n",
    "    mean_temp, 5, labels=[\"Polar\", \"Frio\", \"Templado\", \"Calido\", \"Muy Calido\"]\n",
    ")\n",
    "clima_ordinal"
   ]
  },
  {
   "cell_type": "markdown",
   "id": "9138c6bc-0e8e-415a-aaf1-d2dace9f0ebd",
   "metadata": {},
   "source": [
    "#### Operaciones sobre Series Categóricas con Orden"
   ]
  },
  {
   "cell_type": "code",
   "execution_count": 115,
   "id": "e99d925d-b729-4daf-b292-529c8ce2ebf0",
   "metadata": {},
   "outputs": [
    {
     "data": {
      "text/plain": [
       "Polar         40\n",
       "Frio          40\n",
       "Muy Calido    40\n",
       "Templado      39\n",
       "Calido        39\n",
       "Name: Mean temperature, dtype: int64"
      ]
     },
     "execution_count": 115,
     "metadata": {},
     "output_type": "execute_result"
    }
   ],
   "source": [
    "clima_ordinal.value_counts()"
   ]
  },
  {
   "cell_type": "code",
   "execution_count": 116,
   "id": "1f8375cc-366b-4a5b-a753-ef0bf7f26a9a",
   "metadata": {},
   "outputs": [
    {
     "data": {
      "text/plain": [
       "'Polar'"
      ]
     },
     "execution_count": 116,
     "metadata": {},
     "output_type": "execute_result"
    }
   ],
   "source": [
    "clima_ordinal.min()"
   ]
  },
  {
   "cell_type": "code",
   "execution_count": 117,
   "id": "2f265dfc-c927-40fd-a843-fe1a9345fec5",
   "metadata": {},
   "outputs": [
    {
     "data": {
      "text/plain": [
       "'Muy Calido'"
      ]
     },
     "execution_count": 117,
     "metadata": {},
     "output_type": "execute_result"
    }
   ],
   "source": [
    "clima_ordinal.max()"
   ]
  },
  {
   "cell_type": "code",
   "execution_count": 118,
   "id": "28d0ca34-90e1-44c2-b965-51c27af5ba63",
   "metadata": {},
   "outputs": [
    {
     "data": {
      "text/plain": [
       "0         Polar\n",
       "1          Frio\n",
       "2    Muy Calido\n",
       "Name: Mean temperature, dtype: category\n",
       "Categories (5, object): ['Polar' < 'Frio' < 'Templado' < 'Calido' < 'Muy Calido']"
      ]
     },
     "execution_count": 118,
     "metadata": {},
     "output_type": "execute_result"
    }
   ],
   "source": [
    "clima_ordinal.mode()"
   ]
  },
  {
   "cell_type": "markdown",
   "id": "39d7ac40-6beb-403d-8b10-6c7d8b03538d",
   "metadata": {},
   "source": [
    "---\n",
    "\n",
    "### Ordenar y Filtrar usando Ordinales"
   ]
  },
  {
   "cell_type": "code",
   "execution_count": 119,
   "id": "02f05096-1c5b-485a-92a2-48537d5e55ad",
   "metadata": {},
   "outputs": [
    {
     "data": {
      "text/html": [
       "<div>\n",
       "<style scoped>\n",
       "    .dataframe tbody tr th:only-of-type {\n",
       "        vertical-align: middle;\n",
       "    }\n",
       "\n",
       "    .dataframe tbody tr th {\n",
       "        vertical-align: top;\n",
       "    }\n",
       "\n",
       "    .dataframe thead th {\n",
       "        text-align: right;\n",
       "    }\n",
       "</style>\n",
       "<table border=\"1\" class=\"dataframe\">\n",
       "  <thead>\n",
       "    <tr style=\"text-align: right;\">\n",
       "      <th></th>\n",
       "      <th>Country</th>\n",
       "      <th>Mean temperature</th>\n",
       "      <th>Std temperature</th>\n",
       "      <th>Continent_Name</th>\n",
       "      <th>Country_Name</th>\n",
       "      <th>Temp Quartile</th>\n",
       "    </tr>\n",
       "  </thead>\n",
       "  <tbody>\n",
       "    <tr>\n",
       "      <th>0</th>\n",
       "      <td>Afghanistan</td>\n",
       "      <td>13.545609</td>\n",
       "      <td>8.695203</td>\n",
       "      <td>NaN</td>\n",
       "      <td>NaN</td>\n",
       "      <td>Frio</td>\n",
       "    </tr>\n",
       "    <tr>\n",
       "      <th>1</th>\n",
       "      <td>Albania</td>\n",
       "      <td>12.106435</td>\n",
       "      <td>7.101392</td>\n",
       "      <td>Europa</td>\n",
       "      <td>Albania</td>\n",
       "      <td>Frio</td>\n",
       "    </tr>\n",
       "    <tr>\n",
       "      <th>2</th>\n",
       "      <td>Algeria</td>\n",
       "      <td>23.439610</td>\n",
       "      <td>7.473115</td>\n",
       "      <td>NaN</td>\n",
       "      <td>NaN</td>\n",
       "      <td>Templado</td>\n",
       "    </tr>\n",
       "  </tbody>\n",
       "</table>\n",
       "</div>"
      ],
      "text/plain": [
       "       Country  Mean temperature  Std temperature Continent_Name Country_Name  \\\n",
       "0  Afghanistan         13.545609         8.695203            NaN          NaN   \n",
       "1      Albania         12.106435         7.101392         Europa      Albania   \n",
       "2      Algeria         23.439610         7.473115            NaN          NaN   \n",
       "\n",
       "  Temp Quartile  \n",
       "0          Frio  \n",
       "1          Frio  \n",
       "2      Templado  "
      ]
     },
     "execution_count": 119,
     "metadata": {},
     "output_type": "execute_result"
    }
   ],
   "source": [
    "merged_df[\"Temp Quartile\"] = clima_ordinal\n",
    "merged_df.head(3)"
   ]
  },
  {
   "cell_type": "code",
   "execution_count": 120,
   "id": "998e4f6a-c7cc-4481-821c-477355d56186",
   "metadata": {},
   "outputs": [
    {
     "name": "stdout",
     "output_type": "stream",
     "text": [
      "<class 'pandas.core.frame.DataFrame'>\n",
      "Int64Index: 198 entries, 0 to 197\n",
      "Data columns (total 6 columns):\n",
      " #   Column            Non-Null Count  Dtype   \n",
      "---  ------            --------------  -----   \n",
      " 0   Country           198 non-null    object  \n",
      " 1   Mean temperature  198 non-null    float64 \n",
      " 2   Std temperature   198 non-null    float64 \n",
      " 3   Continent_Name    131 non-null    category\n",
      " 4   Country_Name      131 non-null    object  \n",
      " 5   Temp Quartile     198 non-null    category\n",
      "dtypes: category(2), float64(2), object(2)\n",
      "memory usage: 8.7+ KB\n"
     ]
    }
   ],
   "source": [
    "merged_df.info()"
   ]
  },
  {
   "cell_type": "code",
   "execution_count": 121,
   "id": "42782f3e-460c-41a4-aae3-e2ca3a553c95",
   "metadata": {},
   "outputs": [
    {
     "data": {
      "text/html": [
       "<div>\n",
       "<style scoped>\n",
       "    .dataframe tbody tr th:only-of-type {\n",
       "        vertical-align: middle;\n",
       "    }\n",
       "\n",
       "    .dataframe tbody tr th {\n",
       "        vertical-align: top;\n",
       "    }\n",
       "\n",
       "    .dataframe thead th {\n",
       "        text-align: right;\n",
       "    }\n",
       "</style>\n",
       "<table border=\"1\" class=\"dataframe\">\n",
       "  <thead>\n",
       "    <tr style=\"text-align: right;\">\n",
       "      <th></th>\n",
       "      <th>Country</th>\n",
       "      <th>Mean temperature</th>\n",
       "      <th>Std temperature</th>\n",
       "      <th>Continent_Name</th>\n",
       "      <th>Country_Name</th>\n",
       "      <th>Temp Quartile</th>\n",
       "    </tr>\n",
       "  </thead>\n",
       "  <tbody>\n",
       "    <tr>\n",
       "      <th>71</th>\n",
       "      <td>Greenland</td>\n",
       "      <td>-17.072330</td>\n",
       "      <td>8.745566</td>\n",
       "      <td>América del Norte</td>\n",
       "      <td>Greenland</td>\n",
       "      <td>Polar</td>\n",
       "    </tr>\n",
       "    <tr>\n",
       "      <th>32</th>\n",
       "      <td>Canada</td>\n",
       "      <td>-5.963874</td>\n",
       "      <td>12.528132</td>\n",
       "      <td>América del Norte</td>\n",
       "      <td>Canada</td>\n",
       "      <td>Polar</td>\n",
       "    </tr>\n",
       "    <tr>\n",
       "      <th>150</th>\n",
       "      <td>Russia</td>\n",
       "      <td>-5.255763</td>\n",
       "      <td>14.663405</td>\n",
       "      <td>Europa</td>\n",
       "      <td>Russia</td>\n",
       "      <td>Polar</td>\n",
       "    </tr>\n",
       "    <tr>\n",
       "      <th>119</th>\n",
       "      <td>Mongolia</td>\n",
       "      <td>0.598241</td>\n",
       "      <td>13.699369</td>\n",
       "      <td>Asia</td>\n",
       "      <td>Mongolia</td>\n",
       "      <td>Polar</td>\n",
       "    </tr>\n",
       "    <tr>\n",
       "      <th>133</th>\n",
       "      <td>Norway</td>\n",
       "      <td>1.726860</td>\n",
       "      <td>7.287373</td>\n",
       "      <td>Europa</td>\n",
       "      <td>Norway</td>\n",
       "      <td>Polar</td>\n",
       "    </tr>\n",
       "    <tr>\n",
       "      <th>...</th>\n",
       "      <td>...</td>\n",
       "      <td>...</td>\n",
       "      <td>...</td>\n",
       "      <td>...</td>\n",
       "      <td>...</td>\n",
       "      <td>...</td>\n",
       "    </tr>\n",
       "    <tr>\n",
       "      <th>114</th>\n",
       "      <td>Mauritania</td>\n",
       "      <td>28.416357</td>\n",
       "      <td>4.659151</td>\n",
       "      <td>NaN</td>\n",
       "      <td>NaN</td>\n",
       "      <td>Muy Calido</td>\n",
       "    </tr>\n",
       "    <tr>\n",
       "      <th>188</th>\n",
       "      <td>Tuvalu</td>\n",
       "      <td>28.504638</td>\n",
       "      <td>0.393742</td>\n",
       "      <td>Oceania</td>\n",
       "      <td>Tuvalu</td>\n",
       "      <td>Muy Calido</td>\n",
       "    </tr>\n",
       "    <tr>\n",
       "      <th>155</th>\n",
       "      <td>Senegal</td>\n",
       "      <td>28.630989</td>\n",
       "      <td>2.062197</td>\n",
       "      <td>Africa</td>\n",
       "      <td>Senegal</td>\n",
       "      <td>Muy Calido</td>\n",
       "    </tr>\n",
       "    <tr>\n",
       "      <th>28</th>\n",
       "      <td>Burkina Faso</td>\n",
       "      <td>28.698612</td>\n",
       "      <td>2.397689</td>\n",
       "      <td>Africa</td>\n",
       "      <td>Burkina Faso</td>\n",
       "      <td>Muy Calido</td>\n",
       "    </tr>\n",
       "    <tr>\n",
       "      <th>111</th>\n",
       "      <td>Mali</td>\n",
       "      <td>28.883495</td>\n",
       "      <td>4.116799</td>\n",
       "      <td>Africa</td>\n",
       "      <td>Mali</td>\n",
       "      <td>Muy Calido</td>\n",
       "    </tr>\n",
       "  </tbody>\n",
       "</table>\n",
       "<p>198 rows × 6 columns</p>\n",
       "</div>"
      ],
      "text/plain": [
       "          Country  Mean temperature  Std temperature     Continent_Name  \\\n",
       "71      Greenland        -17.072330         8.745566  América del Norte   \n",
       "32         Canada         -5.963874        12.528132  América del Norte   \n",
       "150        Russia         -5.255763        14.663405             Europa   \n",
       "119      Mongolia          0.598241        13.699369               Asia   \n",
       "133        Norway          1.726860         7.287373             Europa   \n",
       "..            ...               ...              ...                ...   \n",
       "114    Mauritania         28.416357         4.659151                NaN   \n",
       "188        Tuvalu         28.504638         0.393742            Oceania   \n",
       "155       Senegal         28.630989         2.062197             Africa   \n",
       "28   Burkina Faso         28.698612         2.397689             Africa   \n",
       "111          Mali         28.883495         4.116799             Africa   \n",
       "\n",
       "     Country_Name Temp Quartile  \n",
       "71      Greenland         Polar  \n",
       "32         Canada         Polar  \n",
       "150        Russia         Polar  \n",
       "119      Mongolia         Polar  \n",
       "133        Norway         Polar  \n",
       "..            ...           ...  \n",
       "114           NaN    Muy Calido  \n",
       "188        Tuvalu    Muy Calido  \n",
       "155       Senegal    Muy Calido  \n",
       "28   Burkina Faso    Muy Calido  \n",
       "111          Mali    Muy Calido  \n",
       "\n",
       "[198 rows x 6 columns]"
      ]
     },
     "execution_count": 121,
     "metadata": {},
     "output_type": "execute_result"
    }
   ],
   "source": [
    "merged_df = merged_df.sort_values([\"Temp Quartile\", \"Mean temperature\"])\n",
    "merged_df"
   ]
  },
  {
   "cell_type": "markdown",
   "id": "41ecd70e-2dcf-4288-9dab-c2678541df08",
   "metadata": {},
   "source": [
    "### Nota sobre Merge con id repetidos\n",
    "\n",
    "> Pregunta: ¿Qué sucede si hacemos un merge de una fila con muchas otras con igual identificador?"
   ]
  },
  {
   "cell_type": "code",
   "execution_count": 122,
   "id": "8b535577-10f8-42a0-9c21-0b3b3aabb2be",
   "metadata": {},
   "outputs": [
    {
     "data": {
      "text/plain": [
       "Index(['Polar', 'Frio', 'Templado', 'Calido', 'Muy Calido'], dtype='object')"
      ]
     },
     "execution_count": 122,
     "metadata": {},
     "output_type": "execute_result"
    }
   ],
   "source": [
    "merged_df[\"Temp Quartile\"].cat.categories"
   ]
  },
  {
   "cell_type": "code",
   "execution_count": 123,
   "id": "322cce7c-2e50-4581-ad48-512e040f34d3",
   "metadata": {},
   "outputs": [
    {
     "data": {
      "text/plain": [
       "71      True\n",
       "32      True\n",
       "150     True\n",
       "119     True\n",
       "133     True\n",
       "       ...  \n",
       "114    False\n",
       "188    False\n",
       "155    False\n",
       "28     False\n",
       "111    False\n",
       "Name: Temp Quartile, Length: 198, dtype: bool"
      ]
     },
     "execution_count": 123,
     "metadata": {},
     "output_type": "execute_result"
    }
   ],
   "source": [
    "mask = merged_df[\"Temp Quartile\"] < \"Frio\"\n",
    "mask"
   ]
  },
  {
   "cell_type": "code",
   "execution_count": 124,
   "id": "18a15b5e-0557-4008-846f-772cfda5c64c",
   "metadata": {},
   "outputs": [
    {
     "data": {
      "text/html": [
       "<div>\n",
       "<style scoped>\n",
       "    .dataframe tbody tr th:only-of-type {\n",
       "        vertical-align: middle;\n",
       "    }\n",
       "\n",
       "    .dataframe tbody tr th {\n",
       "        vertical-align: top;\n",
       "    }\n",
       "\n",
       "    .dataframe thead th {\n",
       "        text-align: right;\n",
       "    }\n",
       "</style>\n",
       "<table border=\"1\" class=\"dataframe\">\n",
       "  <thead>\n",
       "    <tr style=\"text-align: right;\">\n",
       "      <th></th>\n",
       "      <th>Country</th>\n",
       "      <th>Mean temperature</th>\n",
       "      <th>Std temperature</th>\n",
       "      <th>Continent_Name</th>\n",
       "      <th>Country_Name</th>\n",
       "      <th>Temp Quartile</th>\n",
       "    </tr>\n",
       "  </thead>\n",
       "  <tbody>\n",
       "    <tr>\n",
       "      <th>71</th>\n",
       "      <td>Greenland</td>\n",
       "      <td>-17.072330</td>\n",
       "      <td>8.745566</td>\n",
       "      <td>América del Norte</td>\n",
       "      <td>Greenland</td>\n",
       "      <td>Polar</td>\n",
       "    </tr>\n",
       "    <tr>\n",
       "      <th>32</th>\n",
       "      <td>Canada</td>\n",
       "      <td>-5.963874</td>\n",
       "      <td>12.528132</td>\n",
       "      <td>América del Norte</td>\n",
       "      <td>Canada</td>\n",
       "      <td>Polar</td>\n",
       "    </tr>\n",
       "    <tr>\n",
       "      <th>150</th>\n",
       "      <td>Russia</td>\n",
       "      <td>-5.255763</td>\n",
       "      <td>14.663405</td>\n",
       "      <td>Europa</td>\n",
       "      <td>Russia</td>\n",
       "      <td>Polar</td>\n",
       "    </tr>\n",
       "    <tr>\n",
       "      <th>119</th>\n",
       "      <td>Mongolia</td>\n",
       "      <td>0.598241</td>\n",
       "      <td>13.699369</td>\n",
       "      <td>Asia</td>\n",
       "      <td>Mongolia</td>\n",
       "      <td>Polar</td>\n",
       "    </tr>\n",
       "    <tr>\n",
       "      <th>133</th>\n",
       "      <td>Norway</td>\n",
       "      <td>1.726860</td>\n",
       "      <td>7.287373</td>\n",
       "      <td>Europa</td>\n",
       "      <td>Norway</td>\n",
       "      <td>Polar</td>\n",
       "    </tr>\n",
       "    <tr>\n",
       "      <th>80</th>\n",
       "      <td>Iceland</td>\n",
       "      <td>2.307253</td>\n",
       "      <td>4.468936</td>\n",
       "      <td>Europa</td>\n",
       "      <td>Iceland</td>\n",
       "      <td>Polar</td>\n",
       "    </tr>\n",
       "    <tr>\n",
       "      <th>62</th>\n",
       "      <td>Finland</td>\n",
       "      <td>2.402188</td>\n",
       "      <td>9.278735</td>\n",
       "      <td>Europa</td>\n",
       "      <td>Finland</td>\n",
       "      <td>Polar</td>\n",
       "    </tr>\n",
       "    <tr>\n",
       "      <th>174</th>\n",
       "      <td>Sweden</td>\n",
       "      <td>2.537722</td>\n",
       "      <td>8.185242</td>\n",
       "      <td>Europa</td>\n",
       "      <td>Sweden</td>\n",
       "      <td>Polar</td>\n",
       "    </tr>\n",
       "    <tr>\n",
       "      <th>96</th>\n",
       "      <td>Kyrgyzstan</td>\n",
       "      <td>3.137480</td>\n",
       "      <td>9.972644</td>\n",
       "      <td>NaN</td>\n",
       "      <td>NaN</td>\n",
       "      <td>Polar</td>\n",
       "    </tr>\n",
       "    <tr>\n",
       "      <th>103</th>\n",
       "      <td>Liechtenstein</td>\n",
       "      <td>3.549368</td>\n",
       "      <td>5.943636</td>\n",
       "      <td>NaN</td>\n",
       "      <td>NaN</td>\n",
       "      <td>Polar</td>\n",
       "    </tr>\n",
       "    <tr>\n",
       "      <th>177</th>\n",
       "      <td>Tajikistan</td>\n",
       "      <td>4.001360</td>\n",
       "      <td>8.788011</td>\n",
       "      <td>Asia</td>\n",
       "      <td>Tajikistan</td>\n",
       "      <td>Polar</td>\n",
       "    </tr>\n",
       "    <tr>\n",
       "      <th>57</th>\n",
       "      <td>Estonia</td>\n",
       "      <td>6.166056</td>\n",
       "      <td>8.199942</td>\n",
       "      <td>Europa</td>\n",
       "      <td>Estonia</td>\n",
       "      <td>Polar</td>\n",
       "    </tr>\n",
       "    <tr>\n",
       "      <th>131</th>\n",
       "      <td>NorthKorea</td>\n",
       "      <td>6.223913</td>\n",
       "      <td>11.365693</td>\n",
       "      <td>NaN</td>\n",
       "      <td>NaN</td>\n",
       "      <td>Polar</td>\n",
       "    </tr>\n",
       "    <tr>\n",
       "      <th>98</th>\n",
       "      <td>Latvia</td>\n",
       "      <td>6.696891</td>\n",
       "      <td>8.127505</td>\n",
       "      <td>Europa</td>\n",
       "      <td>Latvia</td>\n",
       "      <td>Polar</td>\n",
       "    </tr>\n",
       "    <tr>\n",
       "      <th>175</th>\n",
       "      <td>Switzerland</td>\n",
       "      <td>6.713588</td>\n",
       "      <td>6.237274</td>\n",
       "      <td>Europa</td>\n",
       "      <td>Switzerland</td>\n",
       "      <td>Polar</td>\n",
       "    </tr>\n",
       "    <tr>\n",
       "      <th>59</th>\n",
       "      <td>FaroeIslands</td>\n",
       "      <td>6.770316</td>\n",
       "      <td>2.911743</td>\n",
       "      <td>NaN</td>\n",
       "      <td>NaN</td>\n",
       "      <td>Polar</td>\n",
       "    </tr>\n",
       "    <tr>\n",
       "      <th>91</th>\n",
       "      <td>Kazakhstan</td>\n",
       "      <td>6.810408</td>\n",
       "      <td>12.792550</td>\n",
       "      <td>Europa</td>\n",
       "      <td>Kazakhstan</td>\n",
       "      <td>Polar</td>\n",
       "    </tr>\n",
       "    <tr>\n",
       "      <th>92</th>\n",
       "      <td>Kazakhstan</td>\n",
       "      <td>6.810408</td>\n",
       "      <td>12.792550</td>\n",
       "      <td>Asia</td>\n",
       "      <td>Kazakhstan</td>\n",
       "      <td>Polar</td>\n",
       "    </tr>\n",
       "    <tr>\n",
       "      <th>66</th>\n",
       "      <td>Georgia</td>\n",
       "      <td>6.957606</td>\n",
       "      <td>8.942169</td>\n",
       "      <td>Europa</td>\n",
       "      <td>Georgia</td>\n",
       "      <td>Polar</td>\n",
       "    </tr>\n",
       "    <tr>\n",
       "      <th>67</th>\n",
       "      <td>Georgia</td>\n",
       "      <td>6.957606</td>\n",
       "      <td>8.942169</td>\n",
       "      <td>Asia</td>\n",
       "      <td>Georgia</td>\n",
       "      <td>Polar</td>\n",
       "    </tr>\n",
       "    <tr>\n",
       "      <th>37</th>\n",
       "      <td>China</td>\n",
       "      <td>7.039332</td>\n",
       "      <td>9.721250</td>\n",
       "      <td>NaN</td>\n",
       "      <td>NaN</td>\n",
       "      <td>Polar</td>\n",
       "    </tr>\n",
       "    <tr>\n",
       "      <th>10</th>\n",
       "      <td>Austria</td>\n",
       "      <td>7.202215</td>\n",
       "      <td>6.993245</td>\n",
       "      <td>Europa</td>\n",
       "      <td>Austria</td>\n",
       "      <td>Polar</td>\n",
       "    </tr>\n",
       "    <tr>\n",
       "      <th>104</th>\n",
       "      <td>Lithuania</td>\n",
       "      <td>7.280419</td>\n",
       "      <td>8.113566</td>\n",
       "      <td>Europa</td>\n",
       "      <td>Lithuania</td>\n",
       "      <td>Polar</td>\n",
       "    </tr>\n",
       "    <tr>\n",
       "      <th>17</th>\n",
       "      <td>Belarus</td>\n",
       "      <td>7.362349</td>\n",
       "      <td>8.803962</td>\n",
       "      <td>Europa</td>\n",
       "      <td>Belarus</td>\n",
       "      <td>Polar</td>\n",
       "    </tr>\n",
       "    <tr>\n",
       "      <th>193</th>\n",
       "      <td>United States</td>\n",
       "      <td>7.617000</td>\n",
       "      <td>9.077944</td>\n",
       "      <td>América del Norte</td>\n",
       "      <td>United States</td>\n",
       "      <td>Polar</td>\n",
       "    </tr>\n",
       "    <tr>\n",
       "      <th>7</th>\n",
       "      <td>Armenia</td>\n",
       "      <td>7.803382</td>\n",
       "      <td>9.697264</td>\n",
       "      <td>Europa</td>\n",
       "      <td>Armenia</td>\n",
       "      <td>Polar</td>\n",
       "    </tr>\n",
       "    <tr>\n",
       "      <th>8</th>\n",
       "      <td>Armenia</td>\n",
       "      <td>7.803382</td>\n",
       "      <td>9.697264</td>\n",
       "      <td>Asia</td>\n",
       "      <td>Armenia</td>\n",
       "      <td>Polar</td>\n",
       "    </tr>\n",
       "    <tr>\n",
       "      <th>159</th>\n",
       "      <td>Slovakia</td>\n",
       "      <td>8.452959</td>\n",
       "      <td>7.797643</td>\n",
       "      <td>NaN</td>\n",
       "      <td>NaN</td>\n",
       "      <td>Polar</td>\n",
       "    </tr>\n",
       "    <tr>\n",
       "      <th>36</th>\n",
       "      <td>Chile</td>\n",
       "      <td>8.454478</td>\n",
       "      <td>3.126838</td>\n",
       "      <td>América del Sur</td>\n",
       "      <td>Chile</td>\n",
       "      <td>Polar</td>\n",
       "    </tr>\n",
       "    <tr>\n",
       "      <th>142</th>\n",
       "      <td>Poland</td>\n",
       "      <td>8.667610</td>\n",
       "      <td>7.471490</td>\n",
       "      <td>Europa</td>\n",
       "      <td>Poland</td>\n",
       "      <td>Polar</td>\n",
       "    </tr>\n",
       "    <tr>\n",
       "      <th>48</th>\n",
       "      <td>Denmark</td>\n",
       "      <td>8.678213</td>\n",
       "      <td>6.136734</td>\n",
       "      <td>Europa</td>\n",
       "      <td>Denmark</td>\n",
       "      <td>Polar</td>\n",
       "    </tr>\n",
       "    <tr>\n",
       "      <th>46</th>\n",
       "      <td>CzechRepublic</td>\n",
       "      <td>8.756214</td>\n",
       "      <td>7.398374</td>\n",
       "      <td>NaN</td>\n",
       "      <td>NaN</td>\n",
       "      <td>Polar</td>\n",
       "    </tr>\n",
       "    <tr>\n",
       "      <th>192</th>\n",
       "      <td>United Kingdom</td>\n",
       "      <td>9.062469</td>\n",
       "      <td>4.253525</td>\n",
       "      <td>Europa</td>\n",
       "      <td>United Kingdom</td>\n",
       "      <td>Polar</td>\n",
       "    </tr>\n",
       "    <tr>\n",
       "      <th>190</th>\n",
       "      <td>Ukraine</td>\n",
       "      <td>9.072880</td>\n",
       "      <td>9.178330</td>\n",
       "      <td>Europa</td>\n",
       "      <td>Ukraine</td>\n",
       "      <td>Polar</td>\n",
       "    </tr>\n",
       "    <tr>\n",
       "      <th>68</th>\n",
       "      <td>Germany</td>\n",
       "      <td>9.429345</td>\n",
       "      <td>6.574786</td>\n",
       "      <td>Europa</td>\n",
       "      <td>Germany</td>\n",
       "      <td>Polar</td>\n",
       "    </tr>\n",
       "    <tr>\n",
       "      <th>146</th>\n",
       "      <td>Republic of Montenegro</td>\n",
       "      <td>9.609226</td>\n",
       "      <td>7.388896</td>\n",
       "      <td>NaN</td>\n",
       "      <td>NaN</td>\n",
       "      <td>Polar</td>\n",
       "    </tr>\n",
       "    <tr>\n",
       "      <th>85</th>\n",
       "      <td>Ireland</td>\n",
       "      <td>9.640844</td>\n",
       "      <td>3.684947</td>\n",
       "      <td>Europa</td>\n",
       "      <td>Ireland</td>\n",
       "      <td>Polar</td>\n",
       "    </tr>\n",
       "    <tr>\n",
       "      <th>160</th>\n",
       "      <td>Slovenia</td>\n",
       "      <td>9.677381</td>\n",
       "      <td>7.151006</td>\n",
       "      <td>Europa</td>\n",
       "      <td>Slovenia</td>\n",
       "      <td>Polar</td>\n",
       "    </tr>\n",
       "    <tr>\n",
       "      <th>149</th>\n",
       "      <td>Romania</td>\n",
       "      <td>9.690750</td>\n",
       "      <td>8.359718</td>\n",
       "      <td>Europa</td>\n",
       "      <td>Romania</td>\n",
       "      <td>Polar</td>\n",
       "    </tr>\n",
       "    <tr>\n",
       "      <th>105</th>\n",
       "      <td>Luxembourg</td>\n",
       "      <td>9.932402</td>\n",
       "      <td>6.138378</td>\n",
       "      <td>Europa</td>\n",
       "      <td>Luxembourg</td>\n",
       "      <td>Polar</td>\n",
       "    </tr>\n",
       "  </tbody>\n",
       "</table>\n",
       "</div>"
      ],
      "text/plain": [
       "                    Country  Mean temperature  Std temperature  \\\n",
       "71                Greenland        -17.072330         8.745566   \n",
       "32                   Canada         -5.963874        12.528132   \n",
       "150                  Russia         -5.255763        14.663405   \n",
       "119                Mongolia          0.598241        13.699369   \n",
       "133                  Norway          1.726860         7.287373   \n",
       "80                  Iceland          2.307253         4.468936   \n",
       "62                  Finland          2.402188         9.278735   \n",
       "174                  Sweden          2.537722         8.185242   \n",
       "96               Kyrgyzstan          3.137480         9.972644   \n",
       "103           Liechtenstein          3.549368         5.943636   \n",
       "177              Tajikistan          4.001360         8.788011   \n",
       "57                  Estonia          6.166056         8.199942   \n",
       "131              NorthKorea          6.223913        11.365693   \n",
       "98                   Latvia          6.696891         8.127505   \n",
       "175             Switzerland          6.713588         6.237274   \n",
       "59            FaroeIslands           6.770316         2.911743   \n",
       "91               Kazakhstan          6.810408        12.792550   \n",
       "92               Kazakhstan          6.810408        12.792550   \n",
       "66                  Georgia          6.957606         8.942169   \n",
       "67                  Georgia          6.957606         8.942169   \n",
       "37                    China          7.039332         9.721250   \n",
       "10                  Austria          7.202215         6.993245   \n",
       "104               Lithuania          7.280419         8.113566   \n",
       "17                  Belarus          7.362349         8.803962   \n",
       "193           United States          7.617000         9.077944   \n",
       "7                   Armenia          7.803382         9.697264   \n",
       "8                   Armenia          7.803382         9.697264   \n",
       "159                Slovakia          8.452959         7.797643   \n",
       "36                    Chile          8.454478         3.126838   \n",
       "142                  Poland          8.667610         7.471490   \n",
       "48                  Denmark          8.678213         6.136734   \n",
       "46            CzechRepublic          8.756214         7.398374   \n",
       "192          United Kingdom          9.062469         4.253525   \n",
       "190                 Ukraine          9.072880         9.178330   \n",
       "68                  Germany          9.429345         6.574786   \n",
       "146  Republic of Montenegro          9.609226         7.388896   \n",
       "85                  Ireland          9.640844         3.684947   \n",
       "160                Slovenia          9.677381         7.151006   \n",
       "149                 Romania          9.690750         8.359718   \n",
       "105              Luxembourg          9.932402         6.138378   \n",
       "\n",
       "        Continent_Name    Country_Name Temp Quartile  \n",
       "71   América del Norte       Greenland         Polar  \n",
       "32   América del Norte          Canada         Polar  \n",
       "150             Europa          Russia         Polar  \n",
       "119               Asia        Mongolia         Polar  \n",
       "133             Europa          Norway         Polar  \n",
       "80              Europa         Iceland         Polar  \n",
       "62              Europa         Finland         Polar  \n",
       "174             Europa          Sweden         Polar  \n",
       "96                 NaN             NaN         Polar  \n",
       "103                NaN             NaN         Polar  \n",
       "177               Asia      Tajikistan         Polar  \n",
       "57              Europa         Estonia         Polar  \n",
       "131                NaN             NaN         Polar  \n",
       "98              Europa          Latvia         Polar  \n",
       "175             Europa     Switzerland         Polar  \n",
       "59                 NaN             NaN         Polar  \n",
       "91              Europa      Kazakhstan         Polar  \n",
       "92                Asia      Kazakhstan         Polar  \n",
       "66              Europa         Georgia         Polar  \n",
       "67                Asia         Georgia         Polar  \n",
       "37                 NaN             NaN         Polar  \n",
       "10              Europa         Austria         Polar  \n",
       "104             Europa       Lithuania         Polar  \n",
       "17              Europa         Belarus         Polar  \n",
       "193  América del Norte   United States         Polar  \n",
       "7               Europa         Armenia         Polar  \n",
       "8                 Asia         Armenia         Polar  \n",
       "159                NaN             NaN         Polar  \n",
       "36     América del Sur           Chile         Polar  \n",
       "142             Europa          Poland         Polar  \n",
       "48              Europa         Denmark         Polar  \n",
       "46                 NaN             NaN         Polar  \n",
       "192             Europa  United Kingdom         Polar  \n",
       "190             Europa         Ukraine         Polar  \n",
       "68              Europa         Germany         Polar  \n",
       "146                NaN             NaN         Polar  \n",
       "85              Europa         Ireland         Polar  \n",
       "160             Europa        Slovenia         Polar  \n",
       "149             Europa         Romania         Polar  \n",
       "105             Europa      Luxembourg         Polar  "
      ]
     },
     "execution_count": 124,
     "metadata": {},
     "output_type": "execute_result"
    }
   ],
   "source": [
    "merged_df[mask]"
   ]
  },
  {
   "cell_type": "markdown",
   "id": "bab1ccc2-6242-43a5-9c41-57337fe11c93",
   "metadata": {},
   "source": [
    "## Anexo: Cómo Combinar dos Filtros/Máscaras Booleanas\n",
    "\n",
    "Se puede usar las operaciones `|` (or) y `&` and para combinar dos máscaras.\n",
    "\n",
    "- `|` simboliza un ó lógico.\n",
    "- `&` simboliza un y lógico."
   ]
  },
  {
   "cell_type": "code",
   "execution_count": 125,
   "id": "816c433b-806d-4746-a281-62dad7646d91",
   "metadata": {},
   "outputs": [
    {
     "data": {
      "text/plain": [
       "71      True\n",
       "32      True\n",
       "150     True\n",
       "119     True\n",
       "133     True\n",
       "       ...  \n",
       "114    False\n",
       "188    False\n",
       "155    False\n",
       "28     False\n",
       "111    False\n",
       "Name: Temp Quartile, Length: 198, dtype: bool"
      ]
     },
     "execution_count": 125,
     "metadata": {},
     "output_type": "execute_result"
    }
   ],
   "source": [
    "mask_2 = (merged_df[\"Temp Quartile\"] < \"Frio\") | (\n",
    "    merged_df[\"Temp Quartile\"] == \"Templado\"\n",
    ")\n",
    "mask_2"
   ]
  },
  {
   "cell_type": "code",
   "execution_count": 126,
   "id": "d26ef9b4-f9b5-47db-886d-59c8a6b09d6b",
   "metadata": {},
   "outputs": [
    {
     "data": {
      "text/html": [
       "<div>\n",
       "<style scoped>\n",
       "    .dataframe tbody tr th:only-of-type {\n",
       "        vertical-align: middle;\n",
       "    }\n",
       "\n",
       "    .dataframe tbody tr th {\n",
       "        vertical-align: top;\n",
       "    }\n",
       "\n",
       "    .dataframe thead th {\n",
       "        text-align: right;\n",
       "    }\n",
       "</style>\n",
       "<table border=\"1\" class=\"dataframe\">\n",
       "  <thead>\n",
       "    <tr style=\"text-align: right;\">\n",
       "      <th></th>\n",
       "      <th>Country</th>\n",
       "      <th>Mean temperature</th>\n",
       "      <th>Std temperature</th>\n",
       "      <th>Continent_Name</th>\n",
       "      <th>Country_Name</th>\n",
       "      <th>Temp Quartile</th>\n",
       "    </tr>\n",
       "  </thead>\n",
       "  <tbody>\n",
       "    <tr>\n",
       "      <th>71</th>\n",
       "      <td>Greenland</td>\n",
       "      <td>-17.072330</td>\n",
       "      <td>8.745566</td>\n",
       "      <td>América del Norte</td>\n",
       "      <td>Greenland</td>\n",
       "      <td>Polar</td>\n",
       "    </tr>\n",
       "    <tr>\n",
       "      <th>32</th>\n",
       "      <td>Canada</td>\n",
       "      <td>-5.963874</td>\n",
       "      <td>12.528132</td>\n",
       "      <td>América del Norte</td>\n",
       "      <td>Canada</td>\n",
       "      <td>Polar</td>\n",
       "    </tr>\n",
       "    <tr>\n",
       "      <th>150</th>\n",
       "      <td>Russia</td>\n",
       "      <td>-5.255763</td>\n",
       "      <td>14.663405</td>\n",
       "      <td>Europa</td>\n",
       "      <td>Russia</td>\n",
       "      <td>Polar</td>\n",
       "    </tr>\n",
       "    <tr>\n",
       "      <th>119</th>\n",
       "      <td>Mongolia</td>\n",
       "      <td>0.598241</td>\n",
       "      <td>13.699369</td>\n",
       "      <td>Asia</td>\n",
       "      <td>Mongolia</td>\n",
       "      <td>Polar</td>\n",
       "    </tr>\n",
       "    <tr>\n",
       "      <th>133</th>\n",
       "      <td>Norway</td>\n",
       "      <td>1.726860</td>\n",
       "      <td>7.287373</td>\n",
       "      <td>Europa</td>\n",
       "      <td>Norway</td>\n",
       "      <td>Polar</td>\n",
       "    </tr>\n",
       "    <tr>\n",
       "      <th>...</th>\n",
       "      <td>...</td>\n",
       "      <td>...</td>\n",
       "      <td>...</td>\n",
       "      <td>...</td>\n",
       "      <td>...</td>\n",
       "      <td>...</td>\n",
       "    </tr>\n",
       "    <tr>\n",
       "      <th>121</th>\n",
       "      <td>Mozambique</td>\n",
       "      <td>24.281818</td>\n",
       "      <td>2.410008</td>\n",
       "      <td>Africa</td>\n",
       "      <td>Mozambique</td>\n",
       "      <td>Templado</td>\n",
       "    </tr>\n",
       "    <tr>\n",
       "      <th>61</th>\n",
       "      <td>Fiji</td>\n",
       "      <td>24.325886</td>\n",
       "      <td>1.436607</td>\n",
       "      <td>NaN</td>\n",
       "      <td>NaN</td>\n",
       "      <td>Templado</td>\n",
       "    </tr>\n",
       "    <tr>\n",
       "      <th>54</th>\n",
       "      <td>ElSalvador</td>\n",
       "      <td>24.371996</td>\n",
       "      <td>1.016290</td>\n",
       "      <td>NaN</td>\n",
       "      <td>NaN</td>\n",
       "      <td>Templado</td>\n",
       "    </tr>\n",
       "    <tr>\n",
       "      <th>51</th>\n",
       "      <td>DominicanRepublic</td>\n",
       "      <td>24.483362</td>\n",
       "      <td>1.356441</td>\n",
       "      <td>NaN</td>\n",
       "      <td>NaN</td>\n",
       "      <td>Templado</td>\n",
       "    </tr>\n",
       "    <tr>\n",
       "      <th>47</th>\n",
       "      <td>Democratic Republic of Congo</td>\n",
       "      <td>24.537549</td>\n",
       "      <td>0.613208</td>\n",
       "      <td>NaN</td>\n",
       "      <td>NaN</td>\n",
       "      <td>Templado</td>\n",
       "    </tr>\n",
       "  </tbody>\n",
       "</table>\n",
       "<p>79 rows × 6 columns</p>\n",
       "</div>"
      ],
      "text/plain": [
       "                          Country  Mean temperature  Std temperature  \\\n",
       "71                      Greenland        -17.072330         8.745566   \n",
       "32                         Canada         -5.963874        12.528132   \n",
       "150                        Russia         -5.255763        14.663405   \n",
       "119                      Mongolia          0.598241        13.699369   \n",
       "133                        Norway          1.726860         7.287373   \n",
       "..                            ...               ...              ...   \n",
       "121                    Mozambique         24.281818         2.410008   \n",
       "61                           Fiji         24.325886         1.436607   \n",
       "54                     ElSalvador         24.371996         1.016290   \n",
       "51              DominicanRepublic         24.483362         1.356441   \n",
       "47   Democratic Republic of Congo         24.537549         0.613208   \n",
       "\n",
       "        Continent_Name Country_Name Temp Quartile  \n",
       "71   América del Norte    Greenland         Polar  \n",
       "32   América del Norte       Canada         Polar  \n",
       "150             Europa       Russia         Polar  \n",
       "119               Asia     Mongolia         Polar  \n",
       "133             Europa       Norway         Polar  \n",
       "..                 ...          ...           ...  \n",
       "121             Africa   Mozambique      Templado  \n",
       "61                 NaN          NaN      Templado  \n",
       "54                 NaN          NaN      Templado  \n",
       "51                 NaN          NaN      Templado  \n",
       "47                 NaN          NaN      Templado  \n",
       "\n",
       "[79 rows x 6 columns]"
      ]
     },
     "execution_count": 126,
     "metadata": {},
     "output_type": "execute_result"
    }
   ],
   "source": [
    "merged_df[mask_2]"
   ]
  }
 ],
 "metadata": {
  "kernelspec": {
   "display_name": "Python 3 (ipykernel)",
   "language": "python",
   "name": "python3"
  },
  "language_info": {
   "codemirror_mode": {
    "name": "ipython",
    "version": 3
   },
   "file_extension": ".py",
   "mimetype": "text/x-python",
   "name": "python",
   "nbconvert_exporter": "python",
   "pygments_lexer": "ipython3",
   "version": "3.9.7"
  },
  "toc": {
   "base_numbering": 1,
   "nav_menu": {},
   "number_sections": true,
   "sideBar": true,
   "skip_h1_title": true,
   "title_cell": "Table of Contents",
   "title_sidebar": "Contents",
   "toc_cell": true,
   "toc_position": {
    "height": "calc(100% - 180px)",
    "left": "10px",
    "top": "150px",
    "width": "274.833px"
   },
   "toc_section_display": true,
   "toc_window_display": false
  },
  "varInspector": {
   "cols": {
    "lenName": 16,
    "lenType": 16,
    "lenVar": 40
   },
   "kernels_config": {
    "python": {
     "delete_cmd_postfix": "",
     "delete_cmd_prefix": "del ",
     "library": "var_list.py",
     "varRefreshCmd": "print(var_dic_list())"
    },
    "r": {
     "delete_cmd_postfix": ") ",
     "delete_cmd_prefix": "rm(",
     "library": "var_list.r",
     "varRefreshCmd": "cat(var_dic_list()) "
    }
   },
   "types_to_exclude": [
    "module",
    "function",
    "builtin_function_or_method",
    "instance",
    "_Feature"
   ],
   "window_display": false
  }
 },
 "nbformat": 4,
 "nbformat_minor": 5
}
