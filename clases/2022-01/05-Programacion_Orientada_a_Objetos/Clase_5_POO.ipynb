{
 "cells": [
  {
   "cell_type": "markdown",
   "metadata": {},
   "source": [
    "# Clase 5: Programación Orientada a Objetos\n",
    "\n",
    "**MDS7202: Laboratorio de Programación Científica para Ciencia de Datos**\n",
    "\n",
    "**Profesor: Pablo Badilla**\n",
    "\n",
    "\n",
    "## Objetivos de la Clase\n",
    "\n",
    "El objetivo de esta clase es comprender los fundamentos de la programación orientada a objetos (POO).\n",
    "En particular, veremos:\n",
    "\n",
    "- Programación orientada a objetos: Clases, atributos y métodos.\n",
    "- Principios básicos de POO:\n",
    "    - Abstraccion y Encapsulación.\n",
    "    - Herencia.\n",
    "    - Anulación de Métodos.\n",
    "    - Métodos Mágicos.\n",
    "    - Herencia Múltiple.\n",
    "\n",
    "\n"
   ]
  },
  {
   "cell_type": "markdown",
   "metadata": {},
   "source": [
    "## Paradigmas de Programación \n",
    "\n",
    "Una forma usual de clasificar lenguajes de programación es por medio de su **paradigma principal**.\n",
    "\n",
    "> Según la RAE, un paradigma es un *ejemplo* o una *teoría o conjunto de teorías cuyo núcleo central se acepta sin cuestionar y que suministra la base y modelo para resolver problemas y avanzar en el conocimiento. *.\n",
    "\n",
    "Se puede interpretar a un paradigma de programación, como un conjunto de patrones o un modelo base o estilo sobre los cuales se resuelven problemas computacionales y que tienen directa relación con la sintaxis del lenguaje.\n",
    "\n",
    "Los paradigmas de programación principales son:\n",
    "\n",
    "* Imperativo\n",
    "* Funcional\n",
    "* Lógico\n",
    "* Orientado a objetos\n",
    "\n",
    "Pero existen muchos mas.\n",
    "\n",
    "En esta sección, estudiaremos las características de Python, que permiten implementar técnicas del paradigma orientado a objetos. "
   ]
  },
  {
   "cell_type": "markdown",
   "metadata": {},
   "source": [
    "> **Pregunta ❓**: Python es un lenguaje de programación multi-paradigma. ¿Qué paradigmas de programación, aparte del orientado a objetos, soporta Python? \n",
    "\n",
    "\n",
    "\n",
    "> **Ejercicio ✏️**: Busque información y defina (con sus propias palabras) los paradigmas de programación *Imperativa*, *Funcional* y *Lógica*. "
   ]
  },
  {
   "cell_type": "markdown",
   "metadata": {},
   "source": [
    "---\n",
    "\n",
    "## Programación Orientada a Objetos\n",
    "\n",
    "El paradigma de **programación orientado a objetos** (POO / OOP) permite estructurar programas, de manera tal que es posible **asociar acciones (métodos) y propiedades (atributos) a entidades llamadas objetos**. Las relaciones entre objetos encargados de procesar tareas de diversa índole permiten estructurar ordenadamente el programa y obtener de manera mas sencilla los resultados buscados. \n",
    "\n",
    "\n",
    "Por ejemplo, un *objeto* puede representar a una persona. En este caso, sus *atributos* podrían ser el `nombre`, la `edad`, la `ocupacion` y algún `hobbie`. Por otro lado, sus comportamientos/*métodos* serán `dormir()`, `comer()`, `ejercitarse()`, `pasarlo_bien()`... e incluso podrá tener relaciones entre objetos \"persona\" a través de algún atributo amigo.\n",
    "\n",
    "\n",
    "\n",
    "![Ejemplo clase Persona](./resources/clase_persona.png)\n",
    "<center>Ejemplo clase persona y posibles objetos que podrían instanciarla</center>\n"
   ]
  },
  {
   "cell_type": "markdown",
   "metadata": {},
   "source": [
    "---\n",
    "\n",
    "## Clases en Python\n",
    "\n",
    "\n",
    "Una **clase** provee de la estructura sobre la cual se definirá un objeto. Esta en su formulación base no se encuentra provista de la información que se materializa con el objeto.\n",
    "\n",
    "\n",
    "### Declaración de clases\n",
    "\n",
    "En Python, las clases se definen siguiendo la sintaxis:\n",
    "\n",
    "```python\n",
    "class NombreDeLaClase:\n",
    "    ...\n",
    "```\n",
    "\n",
    "Siguen una estructura bastante similar a la de las funciones. La dinámica de scopes sigue la misma lógica que en funciones: todas las asignaciones a variables locales dentro de la clase, quedan su scope local asociado (o *namespace*). \n",
    "\n",
    "Una práctica estándar es usar notación **Upper CamelCase**, es decir, cada palabra o abreviación al medio de la frase, que define el nombre de la clase, debe comenzar con mayúscula, sin hacer uso de espacios ni signos de puntuación.\n",
    "\n",
    "> **Ejemplo 📖**\n",
    "\n",
    "El tipo de clase más básico de Python se puede definir usando la orden ```pass```"
   ]
  },
  {
   "cell_type": "code",
   "execution_count": 1,
   "metadata": {
    "ExecuteTime": {
     "end_time": "2021-03-29T19:27:06.881720Z",
     "start_time": "2021-03-29T19:27:06.874726Z"
    }
   },
   "outputs": [],
   "source": [
    "class Persona:\n",
    "    pass"
   ]
  },
  {
   "cell_type": "markdown",
   "metadata": {},
   "source": [
    "Esta clase básicamente es la clase vacía, sin atributos (más que su nombre) y sin métodos. Para *instanciar un objeto (o instancia de la clase)* invocamos la clase y la asignamos a alguna variable. "
   ]
  },
  {
   "cell_type": "code",
   "execution_count": 2,
   "metadata": {},
   "outputs": [
    {
     "data": {
      "text/plain": [
       "<__main__.Persona at 0x7ff5a464a6a0>"
      ]
     },
     "execution_count": 2,
     "metadata": {},
     "output_type": "execute_result"
    }
   ],
   "source": [
    "Persona()"
   ]
  },
  {
   "cell_type": "markdown",
   "metadata": {},
   "source": [
    "---\n",
    "\n",
    "### Atributos y Constructor\n",
    "\n",
    "Al trabajar con objetos es natural el concepto de **atributo**, los cuales representan característica asociada a los objetos. Para que los objetos de cierta clase posean atributos al momento de ser instanciados, estos se deben **inicializar**. \n",
    "\n",
    "#### Constructor\n",
    "\n",
    "Para inicializar atributos dentro de objetos se utiliza el **método constructor ```__init__()```**. Este método debe tener al menos un argumento (`self`) que es una referencia al objeto que se está instanciando en esa llamada. \n",
    "\n",
    "> **Ejemplo 📖**\n",
    "\n",
    "Definimos la clase ```Estudiante```, esta clase posee los atributos ```nombre``` y ```edad```.\n",
    "\n",
    "**Obs**: Nota que ```self``` es un nombre de variable usado *por convención*, en algunas implementaciones (más antiguas) se hace uso de la convención ```this```. "
   ]
  },
  {
   "cell_type": "code",
   "execution_count": 54,
   "metadata": {
    "ExecuteTime": {
     "end_time": "2021-03-29T19:34:12.466917Z",
     "start_time": "2021-03-29T19:34:12.447917Z"
    }
   },
   "outputs": [],
   "source": [
    "class Persona:\n",
    "    '''Clase que representa una persona cualquiera'''\n",
    "\n",
    "    def __init__(self, nombre, edad, ocupacion, amigos):\n",
    "        self.nombre = nombre\n",
    "        self.edad = edad\n",
    "        self.ocupacion = ocupacion\n",
    "        self.amigos = amigos"
   ]
  },
  {
   "cell_type": "markdown",
   "metadata": {},
   "source": [
    "En este ejemplo, la clase ```persona``` entrega la base para que cada una de sus instancias tenga un dato asociado a `nombre`, `edad`, `ocupacion` y `amigos`.\n",
    "Para crear un objeto `Persona`, debemos instanciar la clase junto a sus parámetros."
   ]
  },
  {
   "cell_type": "code",
   "execution_count": 55,
   "metadata": {
    "ExecuteTime": {
     "end_time": "2021-03-29T19:33:49.375119Z",
     "start_time": "2021-03-29T19:33:49.351121Z"
    }
   },
   "outputs": [
    {
     "data": {
      "text/plain": [
       "<__main__.Persona at 0x7ff58d0fea60>"
      ]
     },
     "execution_count": 55,
     "metadata": {},
     "output_type": "execute_result"
    }
   ],
   "source": [
    "ana = Persona('Ana', 23, 'estudiante', [])\n",
    "ana"
   ]
  },
  {
   "cell_type": "markdown",
   "metadata": {},
   "source": [
    "Accedemos a sus atributos a través de la notación **{`objeto`}.{`atributo`}**"
   ]
  },
  {
   "cell_type": "code",
   "execution_count": 20,
   "metadata": {},
   "outputs": [
    {
     "data": {
      "text/plain": [
       "'Ana'"
      ]
     },
     "execution_count": 20,
     "metadata": {},
     "output_type": "execute_result"
    }
   ],
   "source": [
    "ana.nombre"
   ]
  },
  {
   "cell_type": "code",
   "execution_count": 21,
   "metadata": {},
   "outputs": [
    {
     "data": {
      "text/plain": [
       "23"
      ]
     },
     "execution_count": 21,
     "metadata": {},
     "output_type": "execute_result"
    }
   ],
   "source": [
    "ana.edad"
   ]
  },
  {
   "cell_type": "code",
   "execution_count": 22,
   "metadata": {},
   "outputs": [
    {
     "data": {
      "text/plain": [
       "'estudiante'"
      ]
     },
     "execution_count": 22,
     "metadata": {},
     "output_type": "execute_result"
    }
   ],
   "source": [
    "ana.ocupacion"
   ]
  },
  {
   "cell_type": "code",
   "execution_count": 29,
   "metadata": {},
   "outputs": [
    {
     "data": {
      "text/plain": [
       "<__main__.Persona at 0x7ff58d794640>"
      ]
     },
     "execution_count": 29,
     "metadata": {},
     "output_type": "execute_result"
    }
   ],
   "source": [
    "# instanciamos otra persona\n",
    "pedro = Persona('Pedro', 23, 'cocinero', [])\n",
    "pedro"
   ]
  },
  {
   "cell_type": "code",
   "execution_count": 30,
   "metadata": {},
   "outputs": [
    {
     "data": {
      "text/plain": [
       "'Pedro'"
      ]
     },
     "execution_count": 30,
     "metadata": {},
     "output_type": "execute_result"
    }
   ],
   "source": [
    "pedro.nombre"
   ]
  },
  {
   "cell_type": "code",
   "execution_count": 31,
   "metadata": {},
   "outputs": [
    {
     "data": {
      "text/plain": [
       "[]"
      ]
     },
     "execution_count": 31,
     "metadata": {},
     "output_type": "execute_result"
    }
   ],
   "source": [
    "pedro.amigos"
   ]
  },
  {
   "cell_type": "markdown",
   "metadata": {},
   "source": [
    "Podemos asignar el valor de algún atributo usando **{`objeto`}.{`atributo`}** = **`valor`**"
   ]
  },
  {
   "cell_type": "code",
   "execution_count": 34,
   "metadata": {},
   "outputs": [
    {
     "data": {
      "text/plain": [
       "[]"
      ]
     },
     "execution_count": 34,
     "metadata": {},
     "output_type": "execute_result"
    }
   ],
   "source": [
    "ana.amigos"
   ]
  },
  {
   "cell_type": "code",
   "execution_count": 35,
   "metadata": {},
   "outputs": [],
   "source": [
    "ana.amigos = [pedro]"
   ]
  },
  {
   "cell_type": "code",
   "execution_count": 36,
   "metadata": {},
   "outputs": [
    {
     "data": {
      "text/plain": [
       "[<__main__.Persona at 0x7ff58d794640>]"
      ]
     },
     "execution_count": 36,
     "metadata": {},
     "output_type": "execute_result"
    }
   ],
   "source": [
    "ana.amigos"
   ]
  },
  {
   "cell_type": "code",
   "execution_count": 38,
   "metadata": {},
   "outputs": [
    {
     "data": {
      "text/plain": [
       "[]"
      ]
     },
     "execution_count": 38,
     "metadata": {},
     "output_type": "execute_result"
    }
   ],
   "source": [
    "pedro.amigos"
   ]
  },
  {
   "cell_type": "markdown",
   "metadata": {},
   "source": [
    "--- \n",
    "\n",
    "> **Ejercicios ✏️** \n",
    "\n",
    "1. ¿Cuáles de estos comandos son correctos y por qué? \n",
    "\n",
    "    a. ```sara = Persona('Sara', 29, 'estudiante', [])```  \n",
    "    \n",
    "    b. ```alberto = Persona(nombre = 'Alberto', edad = 25, ocupacion = 'estudiante', amigos = [])```\n",
    "    \n",
    "    c. ```alberto = Persona(nombre = 'Alberto', edad = '25', ocupacion = 'estudiante', amigos='' )```  \n",
    "    \n",
    "    d. ```estudiante_1 = Persona()``` \n",
    "    \n",
    "    \n",
    "2. Ejecute el siguiente código:\n",
    "```python\n",
    "persona = Persona('Ana', 23, 'estudiante', [])\n",
    "persona.hobbie = 'Catán'\n",
    "print(persona.hobbie)\n",
    "```\n",
    "\n",
    "Donde ```Persona``` se definió unas celdas más arriba. Si observa con detención, se creó el atributo ```hobbie``` \"directamente\" ¿Qué diferencia / ventaja / desventaja posee este método de creación de atributos versus el uso del constructor ```__init__()__```?\n",
    "\n",
    "\n",
    "3. Las clases se comportan de la misma manera que las funciones en cuanto al manejo de variables por bloque (scope). Declare la clase ```Perro``` no modifique el método ```__init__()__``` de esta clase, sin embargo, añada una variable ```patas = 4``` compartida por todos los objetos de la clase. \n",
    "\n",
    "```python\n",
    "class Perro:\n",
    "    patas = 4\n",
    "```\n",
    "Explique las implicancias de esta definición al instanciar cualquier objeto de la clase perro. (*hint*: este tipo de variables se denomina *variable de clase estática*, por consiguiente, las variables definidas por el constructor ```__init__()__``` son *dinámicas*.)\n",
    "\n",
    "\n",
    "4. Como observó en el ejercicio 2, es posible sobreescribir el valor de un atributo accediendo a el directamente desde el objeto que lo posee. Defina el objeto ```cajero_de_metro```, instacia de la clase ```CajeroAutomatico``` y sobreescriba el atributo  ```cajero_de_metro.dinero``` por -1, luego imprima en pantalla el valor de tal atributo. Clase por la cuál iniciar:\n",
    "\n",
    "```python\n",
    "class CajeroAutomatico:\n",
    "    def __init__(self):\n",
    "        self.dinero = 10000000\n",
    "```\n",
    "\n",
    "¿Es buena idea usar esta forma de acceder a los atributos? Basarse en la siguiente nota para responder:\n",
    "\n",
    "\n",
    "> **Nota 📝**: Por lo general se busca bloquear el acceso a atributos internos de un objeto, con el fin de garantizar integridad y control sobre los datos que se operan. Esto se denota como **encapsulación**."
   ]
  },
  {
   "cell_type": "markdown",
   "metadata": {},
   "source": [
    "---\n",
    "\n",
    "#### Métodos\n",
    "\n",
    "Los métodos de una clase son simplemente funciones asociadas a su construcción. Ya se estudió el método especial ```__init__()```, este utiliza un bloque ```def``` para ser declarado, de manera similar se trabaja con métodos definidos por el usuario.\n",
    "\n",
    "\n",
    "> **Ejemplo 📖**\n"
   ]
  },
  {
   "cell_type": "code",
   "execution_count": 72,
   "metadata": {},
   "outputs": [],
   "source": [
    "class Persona:\n",
    "    '''Clase que representa una persona cualquiera'''\n",
    "\n",
    "    def __init__(self, nombre, edad, ocupacion, amigos):\n",
    "        self.nombre = nombre\n",
    "        self.edad = edad\n",
    "        self.ocupacion = ocupacion\n",
    "        self.amigos = []\n",
    "        \n",
    "    def saludar(self):\n",
    "        print(f\"Hola!, soy {self.nombre} 👋\")\n",
    "        \n",
    "    def practicar_ocupacion(self):\n",
    "        print(f'Estoy practicando mi ocupacion: {self.ocupacion}')\n",
    "\n",
    "    def agregar_amigo(self, nuevo_amigo):\n",
    "        self.amigos.append(nuevo_amigo)\n",
    "        nuevo_amigo.amigos.append(self)\n",
    "        "
   ]
  },
  {
   "cell_type": "code",
   "execution_count": 73,
   "metadata": {},
   "outputs": [],
   "source": [
    "juanita = Persona('Juanita', 24, 'Científica de Datos', [])\n",
    "ana = Persona('Ana', 23, 'estudiante', [])"
   ]
  },
  {
   "cell_type": "code",
   "execution_count": 74,
   "metadata": {},
   "outputs": [
    {
     "name": "stdout",
     "output_type": "stream",
     "text": [
      "Hola!, soy Juanita 👋\n"
     ]
    }
   ],
   "source": [
    "juanita.saludar()"
   ]
  },
  {
   "cell_type": "code",
   "execution_count": 75,
   "metadata": {},
   "outputs": [
    {
     "name": "stdout",
     "output_type": "stream",
     "text": [
      "Estoy practicando mi ocupacion: Científica de Datos\n"
     ]
    }
   ],
   "source": [
    "juanita.practicar_ocupacion()\n"
   ]
  },
  {
   "cell_type": "code",
   "execution_count": 78,
   "metadata": {},
   "outputs": [],
   "source": [
    "juanita.agregar_amigo(ana)"
   ]
  },
  {
   "cell_type": "code",
   "execution_count": 79,
   "metadata": {},
   "outputs": [
    {
     "data": {
      "text/plain": [
       "[<__main__.Persona at 0x7ff58d17ad30>]"
      ]
     },
     "execution_count": 79,
     "metadata": {},
     "output_type": "execute_result"
    }
   ],
   "source": [
    "juanita.amigos"
   ]
  },
  {
   "cell_type": "code",
   "execution_count": 80,
   "metadata": {},
   "outputs": [
    {
     "data": {
      "text/plain": [
       "[<__main__.Persona at 0x7ff58d17a970>]"
      ]
     },
     "execution_count": 80,
     "metadata": {},
     "output_type": "execute_result"
    }
   ],
   "source": [
    "ana.amigos"
   ]
  },
  {
   "cell_type": "markdown",
   "metadata": {},
   "source": [
    "#### Duck typing\n",
    "\n",
    "Python permite realizar **Duck typing** con sus objetos. Este término proviene del dicho \"If it walks like a duck and it quacks like a duck, then it must be a duck\" (si camina como pato y grazna como pato, entonces debe ser un pato). En programación esto implica que si un objeto tiene cierta funcionalidad (aka. métodos), esta puede ser utilizada sin importar su clase ni su objetivo real. \n",
    "\n",
    "Los siguientes ejercicios están diseñados para entender en duck typing en Python.\n",
    "\n",
    "\n",
    "> **Ejercicio ✏️**\n",
    "\n",
    "\n",
    "1. Defina la clase ```Pato``` con el atributo estático ```patas = 2```, defina además el método ```hablar()``` que imprime en pantalla ```Soy un patito inofensivo, cuack```. \n",
    "\n",
    "2. Defina la clase ```Bomba``` con los métodos: \n",
    "    1. ```explotar()```, este método imprime en pantalla ```Booom!```\n",
    "    2. ```hablar()```, este método imprime en pantalla ```3... 2... 1...``` y ejecuta el método ```explotar()```\n",
    "    \n",
    "3. Defina la clase ```Persona```, está clase tiene el atributo estático ```su_pato = None```. En su método constructor ```__init__()```, inicializa la variable ```nombre``` y luego imprime en pantalla ```[nombre] cruza la calle y te pide dinero para comprar un pato ```. La clase ```Persona``` tiene además los siguientes métodos:\n",
    "    1. ```toma_pato``` este método toma como input un objeto y lo asigna al atributo ```su_pato``` de la clase, luego imprime en pantalla ```[nombre] compra el pato y se va felizmente ```\n",
    "    2. ```hace_lo_suyo()``` imprime en pantalla ```[nombre] intenta hacer que el pato hable``` luego, si el atributo ```su_pato``` es distinto de ```None``` ejecuta ```su_pato.hablar()```.\n",
    " \n",
    "4. Defina los objetos de la clase ```Persona```, ```Bomba``` y ```Pato```. Suponiendo que definió ```per``` como el objeto ```Persona```, y ```pat``` como el objeto ```Pato```, ejecute ```per.toma_pato(pat)``` y ```per.hace_lo_suyo()```. Finalmente, si definió ```bomb``` como el objeto ```Bomba``` ejecute ```per.toma_pato(bomb)``` y ```per.hace_lo_suyo()```. Deduzca que el método ```hace_lo_suyo()``` es indiferente sobre el objeto que opera, siempre y cuando tenga implementado el método ```hablar```. Es decir, hace *duck typing*, manifestándose en la explosión de la bomba.\n",
    "    \n",
    "**Obs**: ```[nombre]``` debe ser reemplazado por el nombre del objeto instanciado, por ejemplo si ```obj=Persona('Jaime')```, se debe imprimir ```Jaime cruza la calle y ...```. \n",
    "\n",
    "*Hint*: Por lo menos para los objetos ```Bomba``` y ```Persona``` , defina un constructor ```__init__()```. \n",
    "\n",
    "*Este ejercicio fue adaptado de un comentario en [stackoverflow](https://stackoverflow.com/a/14532188). y busca mostrar por qué el duck typing puede ser \"malvado\".*"
   ]
  },
  {
   "cell_type": "markdown",
   "metadata": {
    "ExecuteTime": {
     "end_time": "2021-03-29T17:22:31.322706Z",
     "start_time": "2021-03-29T17:22:31.307706Z"
    }
   },
   "source": [
    "### Nota interesante: Todo en Python son objetos\n",
    "\n",
    "Todos los tipos de datos básicos y funciones que hemos visto hasta ahora son objetos. Y la mayoría de estos objetos tienen algún método asociado"
   ]
  },
  {
   "cell_type": "code",
   "execution_count": 81,
   "metadata": {
    "ExecuteTime": {
     "end_time": "2021-03-29T19:34:53.292227Z",
     "start_time": "2021-03-29T19:34:53.276229Z"
    }
   },
   "outputs": [],
   "source": [
    "a = []"
   ]
  },
  {
   "cell_type": "code",
   "execution_count": 83,
   "metadata": {
    "ExecuteTime": {
     "end_time": "2021-03-29T19:35:07.611063Z",
     "start_time": "2021-03-29T19:35:07.591064Z"
    },
    "collapsed": true,
    "jupyter": {
     "outputs_hidden": true
    },
    "tags": []
   },
   "outputs": [
    {
     "name": "stdout",
     "output_type": "stream",
     "text": [
      "Help on list object:\n",
      "\n",
      "class list(object)\n",
      " |  list(iterable=(), /)\n",
      " |  \n",
      " |  Built-in mutable sequence.\n",
      " |  \n",
      " |  If no argument is given, the constructor creates a new empty list.\n",
      " |  The argument must be an iterable if specified.\n",
      " |  \n",
      " |  Methods defined here:\n",
      " |  \n",
      " |  __add__(self, value, /)\n",
      " |      Return self+value.\n",
      " |  \n",
      " |  __contains__(self, key, /)\n",
      " |      Return key in self.\n",
      " |  \n",
      " |  __delitem__(self, key, /)\n",
      " |      Delete self[key].\n",
      " |  \n",
      " |  __eq__(self, value, /)\n",
      " |      Return self==value.\n",
      " |  \n",
      " |  __ge__(self, value, /)\n",
      " |      Return self>=value.\n",
      " |  \n",
      " |  __getattribute__(self, name, /)\n",
      " |      Return getattr(self, name).\n",
      " |  \n",
      " |  __getitem__(...)\n",
      " |      x.__getitem__(y) <==> x[y]\n",
      " |  \n",
      " |  __gt__(self, value, /)\n",
      " |      Return self>value.\n",
      " |  \n",
      " |  __iadd__(self, value, /)\n",
      " |      Implement self+=value.\n",
      " |  \n",
      " |  __imul__(self, value, /)\n",
      " |      Implement self*=value.\n",
      " |  \n",
      " |  __init__(self, /, *args, **kwargs)\n",
      " |      Initialize self.  See help(type(self)) for accurate signature.\n",
      " |  \n",
      " |  __iter__(self, /)\n",
      " |      Implement iter(self).\n",
      " |  \n",
      " |  __le__(self, value, /)\n",
      " |      Return self<=value.\n",
      " |  \n",
      " |  __len__(self, /)\n",
      " |      Return len(self).\n",
      " |  \n",
      " |  __lt__(self, value, /)\n",
      " |      Return self<value.\n",
      " |  \n",
      " |  __mul__(self, value, /)\n",
      " |      Return self*value.\n",
      " |  \n",
      " |  __ne__(self, value, /)\n",
      " |      Return self!=value.\n",
      " |  \n",
      " |  __repr__(self, /)\n",
      " |      Return repr(self).\n",
      " |  \n",
      " |  __reversed__(self, /)\n",
      " |      Return a reverse iterator over the list.\n",
      " |  \n",
      " |  __rmul__(self, value, /)\n",
      " |      Return value*self.\n",
      " |  \n",
      " |  __setitem__(self, key, value, /)\n",
      " |      Set self[key] to value.\n",
      " |  \n",
      " |  __sizeof__(self, /)\n",
      " |      Return the size of the list in memory, in bytes.\n",
      " |  \n",
      " |  append(self, object, /)\n",
      " |      Append object to the end of the list.\n",
      " |  \n",
      " |  clear(self, /)\n",
      " |      Remove all items from list.\n",
      " |  \n",
      " |  copy(self, /)\n",
      " |      Return a shallow copy of the list.\n",
      " |  \n",
      " |  count(self, value, /)\n",
      " |      Return number of occurrences of value.\n",
      " |  \n",
      " |  extend(self, iterable, /)\n",
      " |      Extend list by appending elements from the iterable.\n",
      " |  \n",
      " |  index(self, value, start=0, stop=9223372036854775807, /)\n",
      " |      Return first index of value.\n",
      " |      \n",
      " |      Raises ValueError if the value is not present.\n",
      " |  \n",
      " |  insert(self, index, object, /)\n",
      " |      Insert object before index.\n",
      " |  \n",
      " |  pop(self, index=-1, /)\n",
      " |      Remove and return item at index (default last).\n",
      " |      \n",
      " |      Raises IndexError if list is empty or index is out of range.\n",
      " |  \n",
      " |  remove(self, value, /)\n",
      " |      Remove first occurrence of value.\n",
      " |      \n",
      " |      Raises ValueError if the value is not present.\n",
      " |  \n",
      " |  reverse(self, /)\n",
      " |      Reverse *IN PLACE*.\n",
      " |  \n",
      " |  sort(self, /, *, key=None, reverse=False)\n",
      " |      Sort the list in ascending order and return None.\n",
      " |      \n",
      " |      The sort is in-place (i.e. the list itself is modified) and stable (i.e. the\n",
      " |      order of two equal elements is maintained).\n",
      " |      \n",
      " |      If a key function is given, apply it once to each list item and sort them,\n",
      " |      ascending or descending, according to their function values.\n",
      " |      \n",
      " |      The reverse flag can be set to sort in descending order.\n",
      " |  \n",
      " |  ----------------------------------------------------------------------\n",
      " |  Class methods defined here:\n",
      " |  \n",
      " |  __class_getitem__(...) from builtins.type\n",
      " |      See PEP 585\n",
      " |  \n",
      " |  ----------------------------------------------------------------------\n",
      " |  Static methods defined here:\n",
      " |  \n",
      " |  __new__(*args, **kwargs) from builtins.type\n",
      " |      Create and return a new object.  See help(type) for accurate signature.\n",
      " |  \n",
      " |  ----------------------------------------------------------------------\n",
      " |  Data and other attributes defined here:\n",
      " |  \n",
      " |  __hash__ = None\n",
      "\n"
     ]
    }
   ],
   "source": [
    "help([])"
   ]
  },
  {
   "cell_type": "code",
   "execution_count": null,
   "metadata": {
    "ExecuteTime": {
     "end_time": "2021-03-29T19:34:58.866417Z",
     "start_time": "2021-03-29T19:34:58.849385Z"
    }
   },
   "outputs": [],
   "source": [
    "# Esto es en verdad un método de la clase list\n",
    "a.append(1)"
   ]
  },
  {
   "cell_type": "code",
   "execution_count": null,
   "metadata": {
    "ExecuteTime": {
     "end_time": "2021-03-29T19:35:02.363094Z",
     "start_time": "2021-03-29T19:35:02.354095Z"
    }
   },
   "outputs": [],
   "source": [
    "a"
   ]
  },
  {
   "cell_type": "code",
   "execution_count": 85,
   "metadata": {
    "collapsed": true,
    "jupyter": {
     "outputs_hidden": true
    },
    "tags": []
   },
   "outputs": [
    {
     "name": "stdout",
     "output_type": "stream",
     "text": [
      "Help on int object:\n",
      "\n",
      "class int(object)\n",
      " |  int([x]) -> integer\n",
      " |  int(x, base=10) -> integer\n",
      " |  \n",
      " |  Convert a number or string to an integer, or return 0 if no arguments\n",
      " |  are given.  If x is a number, return x.__int__().  For floating point\n",
      " |  numbers, this truncates towards zero.\n",
      " |  \n",
      " |  If x is not a number or if base is given, then x must be a string,\n",
      " |  bytes, or bytearray instance representing an integer literal in the\n",
      " |  given base.  The literal can be preceded by '+' or '-' and be surrounded\n",
      " |  by whitespace.  The base defaults to 10.  Valid bases are 0 and 2-36.\n",
      " |  Base 0 means to interpret the base from the string as an integer literal.\n",
      " |  >>> int('0b100', base=0)\n",
      " |  4\n",
      " |  \n",
      " |  Built-in subclasses:\n",
      " |      bool\n",
      " |  \n",
      " |  Methods defined here:\n",
      " |  \n",
      " |  __abs__(self, /)\n",
      " |      abs(self)\n",
      " |  \n",
      " |  __add__(self, value, /)\n",
      " |      Return self+value.\n",
      " |  \n",
      " |  __and__(self, value, /)\n",
      " |      Return self&value.\n",
      " |  \n",
      " |  __bool__(self, /)\n",
      " |      self != 0\n",
      " |  \n",
      " |  __ceil__(...)\n",
      " |      Ceiling of an Integral returns itself.\n",
      " |  \n",
      " |  __divmod__(self, value, /)\n",
      " |      Return divmod(self, value).\n",
      " |  \n",
      " |  __eq__(self, value, /)\n",
      " |      Return self==value.\n",
      " |  \n",
      " |  __float__(self, /)\n",
      " |      float(self)\n",
      " |  \n",
      " |  __floor__(...)\n",
      " |      Flooring an Integral returns itself.\n",
      " |  \n",
      " |  __floordiv__(self, value, /)\n",
      " |      Return self//value.\n",
      " |  \n",
      " |  __format__(self, format_spec, /)\n",
      " |      Default object formatter.\n",
      " |  \n",
      " |  __ge__(self, value, /)\n",
      " |      Return self>=value.\n",
      " |  \n",
      " |  __getattribute__(self, name, /)\n",
      " |      Return getattr(self, name).\n",
      " |  \n",
      " |  __getnewargs__(self, /)\n",
      " |  \n",
      " |  __gt__(self, value, /)\n",
      " |      Return self>value.\n",
      " |  \n",
      " |  __hash__(self, /)\n",
      " |      Return hash(self).\n",
      " |  \n",
      " |  __index__(self, /)\n",
      " |      Return self converted to an integer, if self is suitable for use as an index into a list.\n",
      " |  \n",
      " |  __int__(self, /)\n",
      " |      int(self)\n",
      " |  \n",
      " |  __invert__(self, /)\n",
      " |      ~self\n",
      " |  \n",
      " |  __le__(self, value, /)\n",
      " |      Return self<=value.\n",
      " |  \n",
      " |  __lshift__(self, value, /)\n",
      " |      Return self<<value.\n",
      " |  \n",
      " |  __lt__(self, value, /)\n",
      " |      Return self<value.\n",
      " |  \n",
      " |  __mod__(self, value, /)\n",
      " |      Return self%value.\n",
      " |  \n",
      " |  __mul__(self, value, /)\n",
      " |      Return self*value.\n",
      " |  \n",
      " |  __ne__(self, value, /)\n",
      " |      Return self!=value.\n",
      " |  \n",
      " |  __neg__(self, /)\n",
      " |      -self\n",
      " |  \n",
      " |  __or__(self, value, /)\n",
      " |      Return self|value.\n",
      " |  \n",
      " |  __pos__(self, /)\n",
      " |      +self\n",
      " |  \n",
      " |  __pow__(self, value, mod=None, /)\n",
      " |      Return pow(self, value, mod).\n",
      " |  \n",
      " |  __radd__(self, value, /)\n",
      " |      Return value+self.\n",
      " |  \n",
      " |  __rand__(self, value, /)\n",
      " |      Return value&self.\n",
      " |  \n",
      " |  __rdivmod__(self, value, /)\n",
      " |      Return divmod(value, self).\n",
      " |  \n",
      " |  __repr__(self, /)\n",
      " |      Return repr(self).\n",
      " |  \n",
      " |  __rfloordiv__(self, value, /)\n",
      " |      Return value//self.\n",
      " |  \n",
      " |  __rlshift__(self, value, /)\n",
      " |      Return value<<self.\n",
      " |  \n",
      " |  __rmod__(self, value, /)\n",
      " |      Return value%self.\n",
      " |  \n",
      " |  __rmul__(self, value, /)\n",
      " |      Return value*self.\n",
      " |  \n",
      " |  __ror__(self, value, /)\n",
      " |      Return value|self.\n",
      " |  \n",
      " |  __round__(...)\n",
      " |      Rounding an Integral returns itself.\n",
      " |      Rounding with an ndigits argument also returns an integer.\n",
      " |  \n",
      " |  __rpow__(self, value, mod=None, /)\n",
      " |      Return pow(value, self, mod).\n",
      " |  \n",
      " |  __rrshift__(self, value, /)\n",
      " |      Return value>>self.\n",
      " |  \n",
      " |  __rshift__(self, value, /)\n",
      " |      Return self>>value.\n",
      " |  \n",
      " |  __rsub__(self, value, /)\n",
      " |      Return value-self.\n",
      " |  \n",
      " |  __rtruediv__(self, value, /)\n",
      " |      Return value/self.\n",
      " |  \n",
      " |  __rxor__(self, value, /)\n",
      " |      Return value^self.\n",
      " |  \n",
      " |  __sizeof__(self, /)\n",
      " |      Returns size in memory, in bytes.\n",
      " |  \n",
      " |  __sub__(self, value, /)\n",
      " |      Return self-value.\n",
      " |  \n",
      " |  __truediv__(self, value, /)\n",
      " |      Return self/value.\n",
      " |  \n",
      " |  __trunc__(...)\n",
      " |      Truncating an Integral returns itself.\n",
      " |  \n",
      " |  __xor__(self, value, /)\n",
      " |      Return self^value.\n",
      " |  \n",
      " |  as_integer_ratio(self, /)\n",
      " |      Return integer ratio.\n",
      " |      \n",
      " |      Return a pair of integers, whose ratio is exactly equal to the original int\n",
      " |      and with a positive denominator.\n",
      " |      \n",
      " |      >>> (10).as_integer_ratio()\n",
      " |      (10, 1)\n",
      " |      >>> (-10).as_integer_ratio()\n",
      " |      (-10, 1)\n",
      " |      >>> (0).as_integer_ratio()\n",
      " |      (0, 1)\n",
      " |  \n",
      " |  bit_length(self, /)\n",
      " |      Number of bits necessary to represent self in binary.\n",
      " |      \n",
      " |      >>> bin(37)\n",
      " |      '0b100101'\n",
      " |      >>> (37).bit_length()\n",
      " |      6\n",
      " |  \n",
      " |  conjugate(...)\n",
      " |      Returns self, the complex conjugate of any int.\n",
      " |  \n",
      " |  to_bytes(self, /, length, byteorder, *, signed=False)\n",
      " |      Return an array of bytes representing an integer.\n",
      " |      \n",
      " |      length\n",
      " |        Length of bytes object to use.  An OverflowError is raised if the\n",
      " |        integer is not representable with the given number of bytes.\n",
      " |      byteorder\n",
      " |        The byte order used to represent the integer.  If byteorder is 'big',\n",
      " |        the most significant byte is at the beginning of the byte array.  If\n",
      " |        byteorder is 'little', the most significant byte is at the end of the\n",
      " |        byte array.  To request the native byte order of the host system, use\n",
      " |        `sys.byteorder' as the byte order value.\n",
      " |      signed\n",
      " |        Determines whether two's complement is used to represent the integer.\n",
      " |        If signed is False and a negative integer is given, an OverflowError\n",
      " |        is raised.\n",
      " |  \n",
      " |  ----------------------------------------------------------------------\n",
      " |  Class methods defined here:\n",
      " |  \n",
      " |  from_bytes(bytes, byteorder, *, signed=False) from builtins.type\n",
      " |      Return the integer represented by the given array of bytes.\n",
      " |      \n",
      " |      bytes\n",
      " |        Holds the array of bytes to convert.  The argument must either\n",
      " |        support the buffer protocol or be an iterable object producing bytes.\n",
      " |        Bytes and bytearray are examples of built-in objects that support the\n",
      " |        buffer protocol.\n",
      " |      byteorder\n",
      " |        The byte order used to represent the integer.  If byteorder is 'big',\n",
      " |        the most significant byte is at the beginning of the byte array.  If\n",
      " |        byteorder is 'little', the most significant byte is at the end of the\n",
      " |        byte array.  To request the native byte order of the host system, use\n",
      " |        `sys.byteorder' as the byte order value.\n",
      " |      signed\n",
      " |        Indicates whether two's complement is used to represent the integer.\n",
      " |  \n",
      " |  ----------------------------------------------------------------------\n",
      " |  Static methods defined here:\n",
      " |  \n",
      " |  __new__(*args, **kwargs) from builtins.type\n",
      " |      Create and return a new object.  See help(type) for accurate signature.\n",
      " |  \n",
      " |  ----------------------------------------------------------------------\n",
      " |  Data descriptors defined here:\n",
      " |  \n",
      " |  denominator\n",
      " |      the denominator of a rational number in lowest terms\n",
      " |  \n",
      " |  imag\n",
      " |      the imaginary part of a complex number\n",
      " |  \n",
      " |  numerator\n",
      " |      the numerator of a rational number in lowest terms\n",
      " |  \n",
      " |  real\n",
      " |      the real part of a complex number\n",
      "\n"
     ]
    }
   ],
   "source": [
    "help(1)"
   ]
  },
  {
   "cell_type": "code",
   "execution_count": 86,
   "metadata": {
    "ExecuteTime": {
     "end_time": "2021-03-29T19:35:27.759397Z",
     "start_time": "2021-03-29T19:35:27.744398Z"
    },
    "collapsed": true,
    "jupyter": {
     "outputs_hidden": true
    },
    "tags": []
   },
   "outputs": [
    {
     "name": "stdout",
     "output_type": "stream",
     "text": [
      "Help on class map in module builtins:\n",
      "\n",
      "class map(object)\n",
      " |  map(func, *iterables) --> map object\n",
      " |  \n",
      " |  Make an iterator that computes the function using arguments from\n",
      " |  each of the iterables.  Stops when the shortest iterable is exhausted.\n",
      " |  \n",
      " |  Methods defined here:\n",
      " |  \n",
      " |  __getattribute__(self, name, /)\n",
      " |      Return getattr(self, name).\n",
      " |  \n",
      " |  __iter__(self, /)\n",
      " |      Implement iter(self).\n",
      " |  \n",
      " |  __next__(self, /)\n",
      " |      Implement next(self).\n",
      " |  \n",
      " |  __reduce__(...)\n",
      " |      Return state information for pickling.\n",
      " |  \n",
      " |  ----------------------------------------------------------------------\n",
      " |  Static methods defined here:\n",
      " |  \n",
      " |  __new__(*args, **kwargs) from builtins.type\n",
      " |      Create and return a new object.  See help(type) for accurate signature.\n",
      "\n"
     ]
    }
   ],
   "source": [
    "help(map)"
   ]
  },
  {
   "cell_type": "markdown",
   "metadata": {},
   "source": [
    "----\n",
    "\n",
    "## Principios Básicos de la POO\n",
    "\n",
    "POO no solo consiste en basar la programación en objetos. Estos deben también poder cumplir con los siguientes principios, los cuales veremos a continuación \n",
    "\n",
    "- Abstracción\n",
    "- Encapsulación\n",
    "- Polimorfismo\n",
    "- Herencia\n",
    "\n",
    "Todos estos los veremos a continuación.\n"
   ]
  },
  {
   "cell_type": "markdown",
   "metadata": {},
   "source": [
    "---\n",
    "\n",
    "### Abstracción y Encapsulación \n",
    "Por lo general, los conceptos de abstracción, encapsulación e información oculta se utilizan como sinónimos, sin embargo, existe una diferencia entre ellos. \n",
    "\n",
    "- En primer lugar, **encapsulación** es el empaquetamiento de los datos del objeto para **esconderlos o restringir su acceso**. La idea de estos es evitar que estos cambien de manera accidental o sean accedidos por clases que no estaban autorizadas a ello.\n",
    "\n",
    "\n",
    "- La **abstracción** es el mecanismo por el cual representamos las características de un programa sin detallar la implementación de estos.\n",
    "\n",
    "\n",
    "En la mayroía de los lenguajes orientados a objetos, la encapsulación de datos se logra por medio de métodos que permiten el acceso a los datos, llamados **métodos _getter_**. Este tipo de métodos no cambian los valores asociados a atributos, sino que simplemente los *retornan*. Finalmente, para modificar la información y lograr encapsularla, hacen falta métodos modificadores (contraparte a los métodos *getter*). Estos se denominan **métodos _setter_**. \n",
    "\n",
    "> **Ejemplo 📖**\n",
    "\n",
    "Definimos la clase ```MaquinaDeCafe``` esta posee un método *setter* y un método *getter* para el atributo ```numero_id```. "
   ]
  },
  {
   "cell_type": "code",
   "execution_count": 87,
   "metadata": {
    "ExecuteTime": {
     "end_time": "2021-03-29T19:40:22.064853Z",
     "start_time": "2021-03-29T19:40:22.048855Z"
    },
    "code_folding": []
   },
   "outputs": [],
   "source": [
    "class Cafetera:\n",
    "    \"\"\"Clase Cafetera que prepara ricos cafecitos.\"\"\"\n",
    "\n",
    "    tipos_cafe_admitidos = [\"expreso\", \"capuchino\", \"cortado\", \"doble\"]\n",
    "\n",
    "    def __init__(self):\n",
    "        self.pedido = None\n",
    "\n",
    "    # getter\n",
    "    def get_pedido(self):\n",
    "        return self.pedido\n",
    "\n",
    "    # setter\n",
    "    def set_pedido(self, nuevo_pedido):\n",
    "        \n",
    "        if nuevo_pedido in self.tipos_cafe_admitidos:\n",
    "            self.pedido = nuevo_pedido\n",
    "            \n",
    "        else:\n",
    "            raise ValueError(\n",
    "                'Error ❌: el tipo_cafe debe ser uno de: \"expreso\" '\n",
    "                f'\"capuchino\", \"cortado\" o \"doble\". Entregado: {nuevo_pedido}'\n",
    "            )\n",
    "\n",
    "    def trabajar(self):\n",
    "        if self.pedido is not None:\n",
    "            print(f\"☕☕ Preparando un café {self.pedido} ☕☕\")\n",
    "            print('Cafe está listo :)')\n",
    "\n",
    "        else:\n",
    "            print(\"No tengo pedidos pendientes... 😴😴😴\")"
   ]
  },
  {
   "cell_type": "markdown",
   "metadata": {},
   "source": [
    "> **Ejemplo 📖**"
   ]
  },
  {
   "cell_type": "code",
   "execution_count": 88,
   "metadata": {
    "ExecuteTime": {
     "end_time": "2021-03-29T19:40:23.031854Z",
     "start_time": "2021-03-29T19:40:23.026856Z"
    },
    "scrolled": true
   },
   "outputs": [
    {
     "data": {
      "text/plain": [
       "<__main__.Cafetera at 0x7ff58c6b6b20>"
      ]
     },
     "execution_count": 88,
     "metadata": {},
     "output_type": "execute_result"
    }
   ],
   "source": [
    "cafetera_1 = Cafetera()\n",
    "cafetera_1"
   ]
  },
  {
   "cell_type": "code",
   "execution_count": 89,
   "metadata": {},
   "outputs": [],
   "source": [
    "cafetera_1.set_pedido('capuchino')\n"
   ]
  },
  {
   "cell_type": "code",
   "execution_count": 90,
   "metadata": {},
   "outputs": [
    {
     "name": "stdout",
     "output_type": "stream",
     "text": [
      "☕☕ Preparando un café capuchino ☕☕\n",
      "Cafe está listo :)\n"
     ]
    }
   ],
   "source": [
    "cafetera_1.trabajar()"
   ]
  },
  {
   "cell_type": "code",
   "execution_count": 91,
   "metadata": {},
   "outputs": [
    {
     "ename": "ValueError",
     "evalue": "Error ❌: el tipo_cafe debe ser uno de: \"expreso\" \"capuchino\", \"cortado\" o \"doble\". Entregado: moka",
     "output_type": "error",
     "traceback": [
      "\u001b[0;31m---------------------------------------------------------------------------\u001b[0m",
      "\u001b[0;31mValueError\u001b[0m                                Traceback (most recent call last)",
      "Input \u001b[0;32mIn [91]\u001b[0m, in \u001b[0;36m<cell line: 1>\u001b[0;34m()\u001b[0m\n\u001b[0;32m----> 1\u001b[0m \u001b[43mcafetera_1\u001b[49m\u001b[38;5;241;43m.\u001b[39;49m\u001b[43mset_pedido\u001b[49m\u001b[43m(\u001b[49m\u001b[38;5;124;43m'\u001b[39;49m\u001b[38;5;124;43mmoka\u001b[39;49m\u001b[38;5;124;43m'\u001b[39;49m\u001b[43m)\u001b[49m\n",
      "Input \u001b[0;32mIn [87]\u001b[0m, in \u001b[0;36mCafetera.set_pedido\u001b[0;34m(self, nuevo_pedido)\u001b[0m\n\u001b[1;32m     17\u001b[0m     \u001b[38;5;28mself\u001b[39m\u001b[38;5;241m.\u001b[39mpedido \u001b[38;5;241m=\u001b[39m nuevo_pedido\n\u001b[1;32m     19\u001b[0m \u001b[38;5;28;01melse\u001b[39;00m:\n\u001b[0;32m---> 20\u001b[0m     \u001b[38;5;28;01mraise\u001b[39;00m \u001b[38;5;167;01mValueError\u001b[39;00m(\n\u001b[1;32m     21\u001b[0m         \u001b[38;5;124m'\u001b[39m\u001b[38;5;124mError ❌: el tipo_cafe debe ser uno de: \u001b[39m\u001b[38;5;124m\"\u001b[39m\u001b[38;5;124mexpreso\u001b[39m\u001b[38;5;124m\"\u001b[39m\u001b[38;5;124m \u001b[39m\u001b[38;5;124m'\u001b[39m\n\u001b[1;32m     22\u001b[0m         \u001b[38;5;124mf\u001b[39m\u001b[38;5;124m'\u001b[39m\u001b[38;5;124m\"\u001b[39m\u001b[38;5;124mcapuchino\u001b[39m\u001b[38;5;124m\"\u001b[39m\u001b[38;5;124m, \u001b[39m\u001b[38;5;124m\"\u001b[39m\u001b[38;5;124mcortado\u001b[39m\u001b[38;5;124m\"\u001b[39m\u001b[38;5;124m o \u001b[39m\u001b[38;5;124m\"\u001b[39m\u001b[38;5;124mdoble\u001b[39m\u001b[38;5;124m\"\u001b[39m\u001b[38;5;124m. Entregado: \u001b[39m\u001b[38;5;132;01m{\u001b[39;00mnuevo_pedido\u001b[38;5;132;01m}\u001b[39;00m\u001b[38;5;124m'\u001b[39m\n\u001b[1;32m     23\u001b[0m     )\n",
      "\u001b[0;31mValueError\u001b[0m: Error ❌: el tipo_cafe debe ser uno de: \"expreso\" \"capuchino\", \"cortado\" o \"doble\". Entregado: moka"
     ]
    }
   ],
   "source": [
    "cafetera_1.set_pedido('moka')"
   ]
  },
  {
   "cell_type": "code",
   "execution_count": 92,
   "metadata": {},
   "outputs": [],
   "source": [
    "cafetera_1.pedido = 'cafe con malicia'"
   ]
  },
  {
   "cell_type": "code",
   "execution_count": 93,
   "metadata": {},
   "outputs": [
    {
     "name": "stdout",
     "output_type": "stream",
     "text": [
      "☕☕ Preparando un café cafe con malicia ☕☕\n",
      "Cafe está listo :)\n"
     ]
    }
   ],
   "source": [
    "cafetera_1.trabajar()"
   ]
  },
  {
   "cell_type": "markdown",
   "metadata": {},
   "source": [
    "**Nota interesante**: Si bien, estos patrones getter/setters son comunes en lenguajes como `Java` o `C#`, `Python` desincentiva la creación de setters y getters y le da el favor al acceso directo de los atributos. \n",
    "\n",
    "Veremos en unos momentos más la manera *pythonica* de implementar getters y setters a través de *propiedades*."
   ]
  },
  {
   "cell_type": "code",
   "execution_count": 94,
   "metadata": {
    "ExecuteTime": {
     "end_time": "2021-03-29T19:40:54.929595Z",
     "start_time": "2021-03-29T19:40:54.921595Z"
    }
   },
   "outputs": [
    {
     "name": "stdout",
     "output_type": "stream",
     "text": [
      "The Zen of Python, by Tim Peters\n",
      "\n",
      "Beautiful is better than ugly.\n",
      "Explicit is better than implicit.\n",
      "Simple is better than complex.\n",
      "Complex is better than complicated.\n",
      "Flat is better than nested.\n",
      "Sparse is better than dense.\n",
      "Readability counts.\n",
      "Special cases aren't special enough to break the rules.\n",
      "Although practicality beats purity.\n",
      "Errors should never pass silently.\n",
      "Unless explicitly silenced.\n",
      "In the face of ambiguity, refuse the temptation to guess.\n",
      "There should be one-- and preferably only one --obvious way to do it.\n",
      "Although that way may not be obvious at first unless you're Dutch.\n",
      "Now is better than never.\n",
      "Although never is often better than *right* now.\n",
      "If the implementation is hard to explain, it's a bad idea.\n",
      "If the implementation is easy to explain, it may be a good idea.\n",
      "Namespaces are one honking great idea -- let's do more of those!\n"
     ]
    }
   ],
   "source": [
    "import this"
   ]
  },
  {
   "cell_type": "markdown",
   "metadata": {},
   "source": [
    ">**There should be one-- and preferably only one --obvious way to do it.**"
   ]
  },
  {
   "cell_type": "markdown",
   "metadata": {},
   "source": [
    "---\n",
    "\n",
    "#### Atributos Públicos, Protegidos y Privados\n",
    "\n",
    "Como se puede evidenciar en el ejercicio anterior, no se puede evitar directamente acceder y modificar atributos, aún cuando se definen funciones setter y getter. \n",
    "\n",
    "En algunos lenguajes de programación es posible agregar grados de restricción a los datos por medio de atributos privados y protegidos. \n",
    "\n",
    "- Los atributos **privados** por convención solo deben ser accedidos por los objetos de la misma clase.\n",
    "\n",
    "\n",
    "- Los atributos **protegidos** pueden ser accedidos por otros objetos de la clase y del módulo, pero no de otros objetos fuera de estos.\n",
    "\n",
    "\n",
    "- Finalmente, cualquier atributo que pueden ser accedidos por cualquier segmento de código (por lo tanto \"no encapsulado\") son llamados **públicos**.\n",
    "\n",
    "<br>\n",
    "<div align='center'>\n",
    "    <strong>En Python NO EXISTE KEYWORD PARA LIMITAR EL ACCESO A LOS ATRIBUTOS. <strong/>\n",
    "</div>\n",
    "<br>\n",
    "    \n",
    "Existe la convención de que un atributo es privado o protegido al anteponer un `_` antes del nombre del atributo. **Esto es solo para uso de los desarrolladores, no tiene ninguna implicancia en la ejecución del código**\n",
    "    \n",
    "Ejemplo: \n",
    "\n",
    "```python\n",
    "class MaquinaDeCafe:\n",
    "    \"\"\"Clase MaquinaDeCafe con getter y setter.\"\"\"\n",
    "\n",
    "    tipos_cafe_admitidos = [\"expreso\", \"capuchino\", \"cortado\", \"doble\"]\n",
    "\n",
    "    def __init__(self):\n",
    "        self._pedido = None\n",
    "\n",
    "    # getter\n",
    "    def get_pedido(self):\n",
    "        return self._pedido\n",
    "\n",
    "    # setter\n",
    "    def set_pedido(self, nuevo_pedido):\n",
    "        if nuevo_pedido not in self.tipos_cafe_admitidos:\n",
    "            self._pedido = nuevo_pedido\n",
    "        else:\n",
    "            print(\n",
    "                '❌ Error ❌: el tipo_cafe debe ser uno de: \"expreso\" '\n",
    "                f'\"capuchino\", \"cortado\" o \"doble\". Entregado: {nuevo_pedido}'\n",
    "            )\n",
    "\n",
    "    def trabajar(self):\n",
    "        if self._pedido is not None:\n",
    "            print(f\"☕☕ Preparando un café {self._pedido} ☕☕\")\n",
    "\n",
    "        else:\n",
    "            print(\"No tengo pedidos pendientes... 😴😴😴\")\n",
    "```\n",
    "\n",
    "Si bien en varios lugares recomiendan la convención de usar `__atributo` (lo cual es llamado [mangled names](https://en.wikipedia.org/wiki/Name_mangling#Python)) para ocultar un atributo, esto **NO LO HACE PRIVADO**. Solo cambia su nombre para evitar conflictos con subclases, lo cual veremos más adelante."
   ]
  },
  {
   "cell_type": "markdown",
   "metadata": {},
   "source": [
    "> **Ejemplo 📖**\n",
    "\n",
    "Podemos mostrar que aún podemos acceder a un atributo aunque lo declaremos con `__` a través de la siguiente clase:"
   ]
  },
  {
   "cell_type": "code",
   "execution_count": null,
   "metadata": {
    "ExecuteTime": {
     "end_time": "2021-03-29T19:44:04.936225Z",
     "start_time": "2021-03-29T19:44:04.920225Z"
    }
   },
   "outputs": [],
   "source": [
    "class Cafetera:\n",
    "    \"\"\"Clase Cafetera que prepara ricos cafecitos.\"\"\"\n",
    "\n",
    "    tipos_cafe_admitidos = [\"expreso\", \"capuchino\", \"cortado\", \"doble\"]\n",
    "\n",
    "    def __init__(self):\n",
    "        self._pedido = None\n",
    "\n",
    "    # getter\n",
    "    def get_pedido(self):\n",
    "        return self._pedido\n",
    "\n",
    "    # setter\n",
    "    def set_pedido(self, nuevo_pedido):\n",
    "        \n",
    "        if nuevo_pedido in self.tipos_cafe_admitidos:\n",
    "            self._pedido = nuevo_pedido\n",
    "            \n",
    "        else:\n",
    "            print(\n",
    "                '❌ Error ❌: el tipo_cafe debe ser uno de: \"expreso\" '\n",
    "                f'\"capuchino\", \"cortado\" o \"doble\". Entregado: {nuevo_pedido}'\n",
    "            )\n",
    "\n",
    "    def trabajar(self):\n",
    "        if self._pedido is not None:\n",
    "            print(f\"☕☕ Preparando un café {self._pedido} ☕☕\")\n",
    "\n",
    "        else:\n",
    "            print(\"No tengo pedidos pendientes... 😴😴😴\")\n",
    "\n"
   ]
  },
  {
   "cell_type": "markdown",
   "metadata": {},
   "source": [
    "Luego, instanciamos una cafetera:"
   ]
  },
  {
   "cell_type": "code",
   "execution_count": null,
   "metadata": {
    "ExecuteTime": {
     "end_time": "2021-03-29T19:44:05.945224Z",
     "start_time": "2021-03-29T19:44:05.930240Z"
    }
   },
   "outputs": [],
   "source": [
    "cafetera_1 = Cafetera()\n",
    "cafetera_1.set_pedido('doble')"
   ]
  },
  {
   "cell_type": "markdown",
   "metadata": {},
   "source": [
    "Noten que aún podemos acceder a este atributo:"
   ]
  },
  {
   "cell_type": "code",
   "execution_count": null,
   "metadata": {
    "ExecuteTime": {
     "end_time": "2021-03-29T19:44:35.569690Z",
     "start_time": "2021-03-29T19:44:35.553653Z"
    }
   },
   "outputs": [],
   "source": [
    "cafetera_1._pedido"
   ]
  },
  {
   "cell_type": "markdown",
   "metadata": {},
   "source": [
    "Y incluso cambiarlo por algo inválido!!!"
   ]
  },
  {
   "cell_type": "code",
   "execution_count": null,
   "metadata": {},
   "outputs": [],
   "source": [
    "cafetera_1._pedido = 'con pan con queso'"
   ]
  },
  {
   "cell_type": "code",
   "execution_count": null,
   "metadata": {},
   "outputs": [],
   "source": [
    "cafetera_1.trabajar()"
   ]
  },
  {
   "cell_type": "markdown",
   "metadata": {},
   "source": [
    "---\n",
    "\n",
    "### Propiedades\n",
    "\n",
    "Abusar de métodos *getter-setter*, puede llevar a complejizar demasiado el código (recordar que el código se lee más de lo que se escribe) y además viola el principio de una sola forma de hacer las cosas. \n",
    "La solución que propone python al problema de encapsulación es rediseñar la clase por medio de **propiedades**. \n"
   ]
  },
  {
   "cell_type": "markdown",
   "metadata": {},
   "source": [
    "\n",
    "Una propiedad es un tipo de atributo decorado, que permite controlar los métodos *setter* y *getter* sin sobrecargar la notación, manteniendo las cosas simples. Si sintaxis sigue el patrón:\n",
    "\n",
    "```python\n",
    "class ClaseEjemplo:\n",
    "    \n",
    "    # se define el atributo como publico.\n",
    "    def __init__(self,property_atr, **kwargs)\n",
    "        self.atributo = 0\n",
    "    \n",
    "    # Función getter decorada que \"protege\" el atributo\n",
    "    @property\n",
    "    def atributo(self):\n",
    "        return self.atributo\n",
    "    \n",
    "    # Setter decorado usando el atributo como función\n",
    "    @atributo.setter\n",
    "    def atributo(self,*args,**kwargs):\n",
    "        # Se asigna como privado\n",
    "        # verificar alguna condición o hacer alguna acción previa:\n",
    "        self.atributo = hacer_algo_antes(*args,**kwargs)\n",
    "```\n",
    "\n",
    "Hay que destacar que inicialmente el atributo a considerar como propiedad se inicializa como un atributo público en ```__init__```, luego se utiliza un método con el nombre del atributo para tener control sobre el *setter** asociado.\n",
    "\n",
    "> **Ejemplo 📖**\n",
    "\n",
    "Se modifica la clase ```Cafetera``` para restringir *pedido* sin sobrecargar con *setter* y *getters*."
   ]
  },
  {
   "cell_type": "code",
   "execution_count": 95,
   "metadata": {
    "ExecuteTime": {
     "end_time": "2021-03-29T19:50:09.936724Z",
     "start_time": "2021-03-29T19:50:09.898725Z"
    }
   },
   "outputs": [],
   "source": [
    "class Cafetera:\n",
    "    \"\"\"Clase Cafetera que prepara ricos cafecitos.\"\"\"\n",
    "\n",
    "    tipos_cafe_admitidos = [\"expreso\", \"capuchino\", \"cortado\", \"doble\"]\n",
    "\n",
    "    def __init__(self):\n",
    "        self._pedido = None\n",
    "    \n",
    "    @property\n",
    "    def pedido(self):\n",
    "        return self._pedido\n",
    "        \n",
    "\n",
    "    @pedido.setter\n",
    "    def pedido(self, nuevo_pedido):\n",
    "        \n",
    "        if nuevo_pedido in self.tipos_cafe_admitidos:\n",
    "            self._pedido = nuevo_pedido\n",
    "            \n",
    "        else:\n",
    "            raise Exception(\n",
    "                'Error ❌: el tipo_cafe debe ser uno de: \"expreso\" '\n",
    "                f'\"capuchino\", \"cortado\" o \"doble\". Entregado: {nuevo_pedido}'\n",
    "            )\n",
    "\n",
    "    def trabajar(self):\n",
    "        if self._pedido is not None:\n",
    "            print(f\"☕☕ Preparando un café {self._pedido} ☕☕\")\n",
    "\n",
    "        else:\n",
    "            print(\"No tengo pedidos pendientes... 😴😴😴\")"
   ]
  },
  {
   "cell_type": "markdown",
   "metadata": {},
   "source": [
    "En el siguiente ejemplo se aprecia como el *setter* es llamado cuando se ejecuta una asignación directa sobre el atributo (lo cual genera solo una manera de definir tal asignación sobre atributo) a la vez que no se pierde la lógica de la asignación."
   ]
  },
  {
   "cell_type": "code",
   "execution_count": 96,
   "metadata": {
    "ExecuteTime": {
     "start_time": "2021-03-29T19:50:11.133Z"
    }
   },
   "outputs": [
    {
     "data": {
      "text/plain": [
       "'capuchino'"
      ]
     },
     "execution_count": 96,
     "metadata": {},
     "output_type": "execute_result"
    }
   ],
   "source": [
    "cafetera_2 = Cafetera()\n",
    "cafetera_2.pedido = 'capuchino'\n",
    "\n",
    "cafetera_2.pedido"
   ]
  },
  {
   "cell_type": "code",
   "execution_count": null,
   "metadata": {},
   "outputs": [],
   "source": [
    "cafetera_2.trabajar()"
   ]
  },
  {
   "cell_type": "code",
   "execution_count": 97,
   "metadata": {
    "ExecuteTime": {
     "end_time": "2021-03-29T19:49:07.354908Z",
     "start_time": "2021-03-29T19:49:07.337910Z"
    }
   },
   "outputs": [
    {
     "ename": "Exception",
     "evalue": "Error ❌: el tipo_cafe debe ser uno de: \"expreso\" \"capuchino\", \"cortado\" o \"doble\". Entregado: pan con queso",
     "output_type": "error",
     "traceback": [
      "\u001b[0;31m---------------------------------------------------------------------------\u001b[0m",
      "\u001b[0;31mException\u001b[0m                                 Traceback (most recent call last)",
      "Input \u001b[0;32mIn [97]\u001b[0m, in \u001b[0;36m<cell line: 1>\u001b[0;34m()\u001b[0m\n\u001b[0;32m----> 1\u001b[0m cafetera_2\u001b[38;5;241m.\u001b[39mpedido \u001b[38;5;241m=\u001b[39m \u001b[38;5;124m'\u001b[39m\u001b[38;5;124mpan con queso\u001b[39m\u001b[38;5;124m'\u001b[39m\n",
      "Input \u001b[0;32mIn [95]\u001b[0m, in \u001b[0;36mCafetera.pedido\u001b[0;34m(self, nuevo_pedido)\u001b[0m\n\u001b[1;32m     18\u001b[0m     \u001b[38;5;28mself\u001b[39m\u001b[38;5;241m.\u001b[39m_pedido \u001b[38;5;241m=\u001b[39m nuevo_pedido\n\u001b[1;32m     20\u001b[0m \u001b[38;5;28;01melse\u001b[39;00m:\n\u001b[0;32m---> 21\u001b[0m     \u001b[38;5;28;01mraise\u001b[39;00m \u001b[38;5;167;01mException\u001b[39;00m(\n\u001b[1;32m     22\u001b[0m         \u001b[38;5;124m'\u001b[39m\u001b[38;5;124mError ❌: el tipo_cafe debe ser uno de: \u001b[39m\u001b[38;5;124m\"\u001b[39m\u001b[38;5;124mexpreso\u001b[39m\u001b[38;5;124m\"\u001b[39m\u001b[38;5;124m \u001b[39m\u001b[38;5;124m'\u001b[39m\n\u001b[1;32m     23\u001b[0m         \u001b[38;5;124mf\u001b[39m\u001b[38;5;124m'\u001b[39m\u001b[38;5;124m\"\u001b[39m\u001b[38;5;124mcapuchino\u001b[39m\u001b[38;5;124m\"\u001b[39m\u001b[38;5;124m, \u001b[39m\u001b[38;5;124m\"\u001b[39m\u001b[38;5;124mcortado\u001b[39m\u001b[38;5;124m\"\u001b[39m\u001b[38;5;124m o \u001b[39m\u001b[38;5;124m\"\u001b[39m\u001b[38;5;124mdoble\u001b[39m\u001b[38;5;124m\"\u001b[39m\u001b[38;5;124m. Entregado: \u001b[39m\u001b[38;5;132;01m{\u001b[39;00mnuevo_pedido\u001b[38;5;132;01m}\u001b[39;00m\u001b[38;5;124m'\u001b[39m\n\u001b[1;32m     24\u001b[0m     )\n",
      "\u001b[0;31mException\u001b[0m: Error ❌: el tipo_cafe debe ser uno de: \"expreso\" \"capuchino\", \"cortado\" o \"doble\". Entregado: pan con queso"
     ]
    }
   ],
   "source": [
    "cafetera_2.pedido = 'pan con queso'"
   ]
  },
  {
   "cell_type": "markdown",
   "metadata": {},
   "source": [
    "Definir propiedades es la manera *pythonica* de encapsular atributos **accesibles por el usuario**. "
   ]
  },
  {
   "cell_type": "markdown",
   "metadata": {},
   "source": [
    "---\n",
    "\n",
    "### Herencia \n",
    "\n",
    "La herencia es una herramienta que permite obtener nuevas clases a partir de otras. Al hacer esto, se obtiene una jerarquía de clases, donde las clases de niveles más bajos adquieren atributos y métodos pre establecidos por las clases de jerarquías más altas. \n",
    "\n",
    "El beneficio directo de utilizar herencia, es poder de reciclar y modificar el comportamiento de una clase base. Más aún, una clase derivada puede añadir nuevas propiedades atributos y métodos, extendiendo la funcionalidad inicial. \n",
    "\n",
    "\n",
    "La sintaxis asociada al proceso de herencia se resume a continuación.\n",
    "\n",
    "```python\n",
    "class SubClase(ClaseBase):\n",
    "    hacer_cosas()\n",
    "    ...\n",
    "    \n",
    "```\n",
    "\n",
    "> **Ejemplo 📖**\n",
    "\n",
    "Se define la clase ```Estudiante``` que deriva la clase ```Persona```. "
   ]
  },
  {
   "cell_type": "code",
   "execution_count": 100,
   "metadata": {
    "ExecuteTime": {
     "end_time": "2021-03-29T19:56:26.888564Z",
     "start_time": "2021-03-29T19:56:26.880565Z"
    }
   },
   "outputs": [],
   "source": [
    "class Persona:\n",
    "    '''Clase que representa una persona cualquiera'''\n",
    "\n",
    "    def __init__(self, nombre, edad, ocupacion, amigos):\n",
    "        self.nombre = nombre\n",
    "        self.edad = edad\n",
    "        self.ocupacion = ocupacion\n",
    "        self.amigos = []\n",
    "        \n",
    "    def saludar(self):\n",
    "        print(f\"Hola!, soy {self.nombre} 👋\")\n",
    "        \n",
    "    def practicar_ocupacion(self):\n",
    "        print(f'Estoy practicando mi ocupacion: {self.ocupacion}')\n",
    "\n",
    "    def agregar_amigo(self, nuevo_amigo):\n",
    "        self.amigos.append(nuevo_amigo)\n",
    "\n",
    "\n",
    "class Estudiante(Persona):\n",
    "    def __init__(self, nombre, edad, amigos):\n",
    "        super().__init__(nombre, edad, 'estudiante', amigos)\n",
    "        # Un objeto de esta clase ahora tendrá el atributo horas estudiadas.\n",
    "        self.horas_estudiadas = 0\n",
    "        \n",
    "    def estudiar(self):\n",
    "        self.horas_estudiadas = self.horas_estudiadas + 1\n",
    "        print(f'He estudiado {self.horas_estudiadas} hora(s) 📚')"
   ]
  },
  {
   "cell_type": "markdown",
   "metadata": {},
   "source": [
    "Aquí podemos observar como la clase `Piano` poseen los métodos `.nombre()` y `.tocar()` aún cuando este no se define de manera explicita.\n"
   ]
  },
  {
   "cell_type": "code",
   "execution_count": 101,
   "metadata": {},
   "outputs": [],
   "source": [
    "ana = Estudiante('Ana', 23, [])"
   ]
  },
  {
   "cell_type": "code",
   "execution_count": 102,
   "metadata": {
    "ExecuteTime": {
     "end_time": "2021-03-29T19:56:16.183484Z",
     "start_time": "2021-03-29T19:56:16.160484Z"
    }
   },
   "outputs": [
    {
     "name": "stdout",
     "output_type": "stream",
     "text": [
      "Hola!, soy Ana 👋\n"
     ]
    }
   ],
   "source": [
    "ana.saludar()"
   ]
  },
  {
   "cell_type": "code",
   "execution_count": 103,
   "metadata": {},
   "outputs": [
    {
     "data": {
      "text/plain": [
       "__main__.Estudiante"
      ]
     },
     "execution_count": 103,
     "metadata": {},
     "output_type": "execute_result"
    }
   ],
   "source": [
    "type(ana)"
   ]
  },
  {
   "cell_type": "markdown",
   "metadata": {},
   "source": [
    "La verdadera funcionalidad de la herencia es implementar nuevos atributos y métodos adicionales a la clase que se está extendiendo."
   ]
  },
  {
   "cell_type": "code",
   "execution_count": 109,
   "metadata": {
    "ExecuteTime": {
     "end_time": "2021-03-29T19:54:02.443252Z",
     "start_time": "2021-03-29T19:54:01.670356Z"
    }
   },
   "outputs": [
    {
     "name": "stdout",
     "output_type": "stream",
     "text": [
      "He estudiado 6 hora(s) 📚\n"
     ]
    }
   ],
   "source": [
    "ana.estudiar()"
   ]
  },
  {
   "cell_type": "markdown",
   "metadata": {},
   "source": [
    "> **Ejercicios ✏️**\n",
    "\n",
    "A lo largo de este curso se ha hecho uso de la función ```type()```, útil para saber el tipo de dato de un objeto en particular. Sin embargo, La documentación de PEP 8, dice explicitamente \n",
    "> \"Object type comparisons should always use ```isinstance()``` instead of comparing types directly\". \n",
    "\n",
    "Es decir, la buena práctica es utilizar ```isinstance()``` en lugar de ```type()```, la razón que soporta esta recomendación se explica por medio de la herencia de clases.\n",
    "\n",
    "1. Defina una clase base (```ClaseBase```) y una subclase (o clase derivada ```ClaseDerivada```). Suponiendo  ```obj_base``` es un objeto de la clase base y ```obj_derivado``` un objeto de la clase derivada compare los siguientes outputs: \n",
    "```python\n",
    "isinstance(obj_base, ClaseBase)\n",
    "isinstance(obj_derivado, ClaseBase)\n",
    "isinstance(obj_base, ClaseDerivada)\n",
    "isinstance(obj_derivado, ClaseDerivada)\n",
    "```\n",
    "Finalmente observe el comportamiento de:\n",
    "```python\n",
    "type(obj_derivado) == ClaseBase\n",
    "type(obj_base) == ClaseDerivada\n",
    "```\n",
    "Deduzca por qué en PEP 8 se recomienda utilizar ```isinstance()``` en reemplazo de ```type()```.\n",
    "\n",
    "\n",
    "*Hint*: Es razonable considerar que los números enteros negativos, como sub-clase de los enteros, sigan siendo considerados como miembros de la clase \"enteros\" por un type-checker. "
   ]
  },
  {
   "cell_type": "markdown",
   "metadata": {},
   "source": [
    "---\n",
    "\n",
    "### Polimorfismo\n",
    "\n",
    "El polimorfismo se refiere al principio por el que es posible enviar mensajes sintácticamente iguales a objetos de clases distintas. \n",
    "El único requisito que deben cumplir los objetos que se utilizan de manera polimórfica es saber responder al mensaje que se les envía. \n",
    "\n",
    "Esto es ampliamente utilizado en herencia, como pudimos ver en el ejemplo anterior. \n",
    "Anulación de métodos también es un buen ejemplo de esto.\n",
    "\n",
    "\n",
    "#### Anulación de métodos\n",
    "\n",
    "La anulación de métodos en herencia, consiste en modificar o redefinir los métodos de una clase base a una clase derivada. El nombre de esta operación proviene *method overriding*. \n",
    "\n",
    "> **Ejemplo 📖** \n",
    "\n",
    "Se define la clase ```Ciudadano```. Como clase derivada se define ```Medico```."
   ]
  },
  {
   "cell_type": "code",
   "execution_count": 6,
   "metadata": {
    "ExecuteTime": {
     "end_time": "2021-03-29T19:59:54.370825Z",
     "start_time": "2021-03-29T19:59:54.354826Z"
    },
    "tags": []
   },
   "outputs": [],
   "source": [
    "class Persona:\n",
    "    '''Clase que representa una persona cualquiera'''\n",
    "\n",
    "    def __init__(self, nombre, edad, ocupacion, amigos):\n",
    "        self.nombre = nombre\n",
    "        self.edad = edad\n",
    "        self.ocupacion = ocupacion\n",
    "        self.amigos = []\n",
    "        \n",
    "    def saludar(self):\n",
    "        print(f\"Hola!, soy {self.nombre} 👋\")\n",
    "        \n",
    "    def practicar_ocupacion(self):\n",
    "        print(f'Estoy practicando mi ocupacion: {self.ocupacion}')\n",
    "\n",
    "    def agregar_amigo(self, nuevo_amigo):\n",
    "        self.amigos.append(nuevo_amigo)\n",
    "\n",
    "class Medico(Persona):\n",
    "    '''Clase derivada que ignora el metodo saludo.'''\n",
    "    \n",
    "    def saludar(self):\n",
    "        print('Bienvenido a mi consulta')\n",
    "        \n",
    "        if self.nombre[-1] == 'a':\n",
    "            print('Soy la doctora ' + self.nombre)\n",
    "        else:\n",
    "            print('Soy el doctor ' + self.nombre)\n",
    "            "
   ]
  },
  {
   "cell_type": "markdown",
   "metadata": {},
   "source": [
    "Al ejecutar, comprobamos que el método ```.saludo()``` es ignorado por la subclase Medico."
   ]
  },
  {
   "cell_type": "code",
   "execution_count": 8,
   "metadata": {},
   "outputs": [
    {
     "name": "stdout",
     "output_type": "stream",
     "text": [
      "Hola!, soy Ana 👋\n"
     ]
    }
   ],
   "source": [
    "ana = Persona('Ana', 23, 'estudiante', [])\n",
    "ana.saludar()"
   ]
  },
  {
   "cell_type": "code",
   "execution_count": 10,
   "metadata": {},
   "outputs": [
    {
     "data": {
      "text/plain": [
       "__main__.Persona"
      ]
     },
     "execution_count": 10,
     "metadata": {},
     "output_type": "execute_result"
    }
   ],
   "source": [
    "type(ana)"
   ]
  },
  {
   "cell_type": "code",
   "execution_count": 9,
   "metadata": {},
   "outputs": [
    {
     "name": "stdout",
     "output_type": "stream",
     "text": [
      "Bienvenido a mi consulta\n",
      "Soy la doctora Alejandra\n"
     ]
    }
   ],
   "source": [
    "alejandra = Medico('Alejandra', 55, 'Doctora', [])\n",
    "alejandra.saludar()"
   ]
  },
  {
   "cell_type": "code",
   "execution_count": 11,
   "metadata": {},
   "outputs": [
    {
     "data": {
      "text/plain": [
       "__main__.Medico"
      ]
     },
     "execution_count": 11,
     "metadata": {},
     "output_type": "execute_result"
    }
   ],
   "source": [
    "type(alejandra)"
   ]
  },
  {
   "cell_type": "markdown",
   "metadata": {},
   "source": [
    "---\n",
    "\n",
    "### Sobrecarga de Operadores y Métodos Mágicos\n",
    "\n",
    "Los métodos mágicos, corresponden a funciones especiales con nombres fijos, por lo general denotados por doble guión bajo. Hasta el momento se ha estudiado el método ```__init__()``` que sobrecarga la inicialización de clases."
   ]
  },
  {
   "cell_type": "code",
   "execution_count": null,
   "metadata": {},
   "outputs": [],
   "source": [
    "class ClaseBasica:\n",
    "    pass\n",
    "\n",
    "\n",
    "siguiente_objeto = ClaseBasica() # invocar ClaseBasica() en verdad ejecuta el método definido en init."
   ]
  },
  {
   "cell_type": "code",
   "execution_count": null,
   "metadata": {},
   "outputs": [],
   "source": [
    "class ClaseInitSobrecargado:\n",
    "    def __init__(self):\n",
    "        print('Me estoy instanciado...')\n",
    "        \n",
    "        \n",
    "ClaseInitSobrecargado()"
   ]
  },
  {
   "cell_type": "markdown",
   "metadata": {},
   "source": [
    "Se aprecia que no es necesario especificar un método ```__init__()``` para que la clase tenga un constructor predeterminado. Por otra parte, el concepto de **sobrecarga de operadores**, este se aprecia en las siguientes operaciones ya utilizadas:"
   ]
  },
  {
   "cell_type": "code",
   "execution_count": null,
   "metadata": {},
   "outputs": [],
   "source": [
    "print(9 + 9)\n",
    "print([1, 2] + [3, 4, 5])\n",
    "print('nueve ' + 'nueve')"
   ]
  },
  {
   "cell_type": "markdown",
   "metadata": {},
   "source": [
    "El operador sobrecargado es ```+``` pues está habilitado para trabajar de manera *polimorfica*, es decir, en distintas clases o tipos de datos. Los métodos mágicos juegan un papel fundamental en la sobrecarga de operadores. \n",
    "\n",
    "> **Ejemplo 📖**\n",
    "\n",
    "El método mágico asociado al operador ```+``` es ```__add__()```. Por tanto, cada objeto sobre el cual se puede operar con ```+``` tiene su propia implementación de ```__add__()```, en el siguiente código se sobrecarga el operador para que actúe sobre objetos de la clase ```Estudiante```. "
   ]
  },
  {
   "cell_type": "code",
   "execution_count": 22,
   "metadata": {},
   "outputs": [],
   "source": [
    "class Estudiante(Persona):\n",
    "    def __init__(self, nombre, edad, amigos):\n",
    "        super().__init__(nombre, edad, 'estudiante', amigos)\n",
    "        # Un objeto de esta clase ahora tendrá el atributo horas estudiadas.\n",
    "        self.horas_estudiadas = 0\n",
    "        \n",
    "    def estudiar(self):\n",
    "        self.horas_estudiadas = self.horas_estudiadas + 1\n",
    "        print(f'He estudiado {self.horas_estudiadas} hora(s) 📚')\n",
    "        \n",
    "    def __add__(self, hora_de_estudio):\n",
    "        self.horas_estudiadas += hora_de_estudio\n",
    "        print(f'Estudié {hora_de_estudio} hora(s) 😯')\n"
   ]
  },
  {
   "cell_type": "code",
   "execution_count": 23,
   "metadata": {},
   "outputs": [
    {
     "name": "stdout",
     "output_type": "stream",
     "text": [
      "<super: <class 'Estudiante'>, <Estudiante object>>\n",
      "Estudié 10 hora(s) 😯\n"
     ]
    }
   ],
   "source": [
    "ana = Estudiante('Ana', 23, [])\n",
    "\n",
    "ana + 10"
   ]
  },
  {
   "cell_type": "markdown",
   "metadata": {},
   "source": [
    "---\n",
    "\n",
    "> **Ejercicios ✏️**\n",
    "\n",
    "1. Nombre los métodos mágicos asociados a los operadores ```-```, ```*```, ```//```, ```/```, ```%```, ```+=```,```*=```, ```<```, ```==``` y ```>=```.\n",
    "\n",
    "2. Defina la clase ```Temp```. Esta clase modela unidades de medida de temperatura (°C,°F y K) y permite sumarlas obteniendo el resultado en kelvins. Para esto, implemente:\n",
    "    1. Un atributo protegido ```_temp_conv```, consistente en un diccionario con los valores de conversión (ej. ```{'C': 274.15}```).\n",
    "    2. Un constructor que inicializa los atributos ```.val``` (float) y ```.unit``` (str). A estos atributos se les debe asociar una propiedad y setter correspondiente, donde se comprueba que los valores ```val``` sean superiores a 0 K y que las unidades ```.unit``` solo puedan ser 'C','F' o 'K'. \n",
    "    3. Un método ```.to_kelvin()``` que utiliza los atributos ```__temp_conv```, ```unit``` y ```val``` y retorna el valor correspondiente en kelvin.\n",
    "    4. Una sobrecarga al operador suma, de manera tal, que se puedan sumar objetos ```Temp``` con unidades de medición arbitrarias y se retorne un objeto ```Temp``` con el resultado en kelvins.\n",
    "    5. Una sobrecarga al operador ```__str__``` (método que conversión a tipo de dato string) que retorne el resultado del método ```.to_kelvin()``` concatenado con ' K'.\n",
    "    6. Una sobrecarga al operador ```__repr__``` (método de representación de objetos) que retorne un string de la forma ```'Temp('+ str(self.val) + ',' + self.unit + ')'```.\n",
    "    7. Defina objetos t1 y t2 de la clase ```Temp``` luego defina un objeto t3 como la suma de t1 y t2. Ejecute ```print(t3)```, ```str(t3)``` y luego ejecute ```t3```, relacione los *outputs* con el funcionamiento de ```__str__``` y ```__repr__```."
   ]
  },
  {
   "cell_type": "markdown",
   "metadata": {},
   "source": [
    "---\n",
    "\n",
    "### Herencia Múltiple\n",
    "\n",
    "Se pueden pensar las relaciones de herencia entre clases como un grafo dirigido, donde los vértices son las clases involucradas y las aristas representan las relaciones de jerarquía `clase derivada --> clase base`. \n",
    "\n",
    "Hasta ahora, este grafo posee la estructura de un bosque, donde cada árbol tiene como raíz una clase base, con la cual se conectan las clases derivadas, que a la vez pueden ser clases bases de nuevas clases derivadas. Sin embargo, esta estructura es bastante rígida y no permite que una clase derivada tenga más que una clase base. Justamente, esta última idea se conoce como **herencia múltiple** y permite flexibilizar la estructura de relaciones `clase base - clase derivada`.\n",
    "\n",
    "\n",
    "![Herencia Múltiple](./resources/herencia_multiple.png)\n",
    "<center>Ejemplo Herencia Múltiple</center>\n",
    "\n",
    "\n",
    "En Python, este tipo de herencia se obtiene por medio de la sintaxis:\n",
    "\n",
    "```python\n",
    "class ClaseDerivada(ClaseBase1, ClaseBase2, ClaseBase3, ...)\n",
    "\n",
    "    do_stuff()\n",
    "    pass #opcional\n",
    "```\n"
   ]
  },
  {
   "cell_type": "markdown",
   "metadata": {},
   "source": [
    "\n",
    "> **Ejemplo 📖**\n",
    "\n",
    "Es conveniente pensar la herencia múltiple como una composición de clases, cada una de las cuales representa una parte de un todo. Estudiemos el siguiente ejemplo. \n",
    "\n",
    "La antigua serie de televisión *power rangers* basaba sus tramas en peleas épicas entre grandes monstruos y robots. La principal herramienta de los héroes de la serie era el *Mega Zord*, robot colosal formado por la unión de otros 5 robots zoomorfos llamados *Dino Zords*. \n",
    "\n",
    "\n",
    "\n",
    "Para entender las relaciones de herencia y herencia múltiple se creamos clase ```DinoZord```. A parir de aquí existen 2 posibilidades claras:\n",
    "\n",
    "1. Se modela cada Dino Zord como un objeto de la clase ```DinoZord``` en cuyo caso, cada Dino Zord tendría la misma clase base, y una misma estructura de métodos y atributos. Finalmente, un Mega Zord sería una clase que hereda únicamente de la clase base ```DinoZord``` y se instancia entregando 5 objetos tipo ```DinoZord``` compatibles. En este modelo solo habrían relaciones de herencia simple. **Obs**: puede ser un buen ejercicio modelar este esquema de herencia.\n",
    "\n",
    "2. Se modelan cinco clases distintas, cada una siendo clase derivada de ```DinoZord```. Estas clases se denotan como ```Tyrannosaurus```, ```Mastodon```, ```Triceratops```, ```Sabertooth```,```Pterodactyl```. Gracias a este esquema es posible implementar métodos distintos para cada clase derivada, manteniendo un esquema de atributos y métodos base. Finalmente, se crea la Clase ```MegaZord```, la cual hereda de las cinco clases derivadas anteriores. Por lo anterior, ```MegaZord``` sería además una clase tipo ```DinoZord```, por lo que comparte atributos y métodos base con cada una de las 5 clases de las que hereda. Finalmente, ```MegaZord``` tiene sus propios métodos y puede ignorar métodos coumunes de su clase base.\n",
    "\n",
    "\n",
    "![Zords](./resources/zords.jpg)\n",
    "\n",
    "<center>Fuente: https://www.bandai.es/sites/default/files//styles/foto_producto/public/Zords%20Power%20Rangers%20Movie%2013.jpg?itok=x8qpqAFa</center>\n",
    "\n",
    "\n",
    "En este ejemplo implementaremos la segunda opción:"
   ]
  },
  {
   "cell_type": "code",
   "execution_count": null,
   "metadata": {
    "ExecuteTime": {
     "end_time": "2021-03-29T18:13:49.321464Z",
     "start_time": "2021-03-29T18:13:49.303464Z"
    }
   },
   "outputs": [],
   "source": [
    "# Se define la clase base Zord\n",
    "class DinoZord:\n",
    "    '''Clase base ejemplo.\n",
    "    '''\n",
    "    def __init__(self, nombre, color, habilidad, largo, ancho, velocidad):\n",
    "        self.nombre = nombre\n",
    "        self.color = color\n",
    "        self.habilidad = habilidad\n",
    "        self.largo = largo\n",
    "        self.ancho = ancho\n",
    "        self.velocidad = velocidad\n",
    "\n",
    "    # Método de ataque\n",
    "    def attack(self):\n",
    "        print(f'⚔️ {self.nombre.title()} ataca usando {self.habilidad} !! ⚔️')"
   ]
  },
  {
   "cell_type": "markdown",
   "metadata": {},
   "source": [
    "Como se puede apreciar, esta clase posee métodos y atributos. La clase tiene el método ```.attack()``` y cada clase derivada podrá anular ester método.\n",
    "\n",
    "Luego se fabrican 5 clases, cada una derivada ```DinoZord```."
   ]
  },
  {
   "cell_type": "code",
   "execution_count": null,
   "metadata": {
    "ExecuteTime": {
     "end_time": "2021-03-29T18:18:38.697509Z",
     "start_time": "2021-03-29T18:18:38.689509Z"
    }
   },
   "outputs": [],
   "source": [
    "class Tyrannosaurus(DinoZord):\n",
    "    '''Clase derivada - Herencia simple'''\n",
    "\n",
    "    # Se utililiza el método constructor directamente desde la clase base\n",
    "    def __init__(self):\n",
    "        super().__init__(nombre='Tyrannosaurus Dinozord',\n",
    "                         color='red',\n",
    "                         habilidad='fire energy blasts',\n",
    "                         largo=45,\n",
    "                         ancho=96,\n",
    "                         velocidad=120)\n",
    "\n",
    "    # Método protegido de ensamblaje\n",
    "    def _modo(self):\n",
    "        if self.pilot:\n",
    "            print(self.pilot + ' dice: ensamblando torso y cabeza')\n",
    "\n",
    "    def boost_dexterity(self):\n",
    "        print('Zord con destreza mejorada')"
   ]
  },
  {
   "cell_type": "code",
   "execution_count": null,
   "metadata": {
    "ExecuteTime": {
     "end_time": "2021-03-29T18:18:39.516415Z",
     "start_time": "2021-03-29T18:18:39.500374Z"
    }
   },
   "outputs": [],
   "source": [
    "class Mastodon(DinoZord):\n",
    "    '''Clase derivada - Herencia simple'''\n",
    "\n",
    "    def __init__(self):\n",
    "        super().__init__(nombre='Mastodon Dinozord',\n",
    "                         color='black',\n",
    "                         habilidad='frigid blasts of cold air',\n",
    "                         largo=24.7,\n",
    "                         ancho=108,\n",
    "                         velocidad=120)\n",
    "\n",
    "    # Método protegido de ensamblaje\n",
    "    def _modo(self):\n",
    "        if self.pilot:\n",
    "            print(self.pilot + ' dice: ensamblando espalda y brazos')\n",
    "\n",
    "    def boost_strength(self):\n",
    "        print('Zord con fuerza mejorada')"
   ]
  },
  {
   "cell_type": "code",
   "execution_count": null,
   "metadata": {
    "ExecuteTime": {
     "end_time": "2021-03-29T18:18:40.164447Z",
     "start_time": "2021-03-29T18:18:40.146446Z"
    }
   },
   "outputs": [],
   "source": [
    "class Triceratops(DinoZord):\n",
    "    '''Clase derivada - Herencia simple'''\n",
    "\n",
    "    def __init__(self):\n",
    "        super().__init__(nombre='Triceratops Dinozord',\n",
    "                         color='blue',\n",
    "                         habilidad='laser shots',\n",
    "                         largo=37.3,\n",
    "                         ancho=141,\n",
    "                         velocidad=140)\n",
    "\n",
    "    # Método protegido de ensamblaje\n",
    "    def _modo(self):\n",
    "        if self.pilot:\n",
    "            print(self.pilot + ' dice: ensamblando pierna izquierda')\n",
    "\n",
    "    def boost_endurance(self):\n",
    "        print('Zord con resistencia mejorada')"
   ]
  },
  {
   "cell_type": "code",
   "execution_count": null,
   "metadata": {
    "ExecuteTime": {
     "end_time": "2021-03-29T18:18:41.503461Z",
     "start_time": "2021-03-29T18:18:41.498447Z"
    }
   },
   "outputs": [],
   "source": [
    "class Sabertooth(DinoZord):\n",
    "    '''Clase derivada - Herencia simple'''\n",
    "\n",
    "    def __init__(self):\n",
    "        super().__init__(nombre='Sabertooth Tiger Dinozord',\n",
    "                         color='yellow',\n",
    "                         habilidad='large yellow laser',\n",
    "                         largo=37.3,\n",
    "                         ancho=141,\n",
    "                         velocidad=140)\n",
    "\n",
    "    # Método protegido de ensamblaje\n",
    "    def _modo(self):\n",
    "        if self.pilot:\n",
    "            print(self.pilot + ' dice: ensamblando pierna derecha')\n",
    "\n",
    "    def boost_agility(self):\n",
    "        print('Zord con agilidad mejorada')"
   ]
  },
  {
   "cell_type": "code",
   "execution_count": null,
   "metadata": {
    "ExecuteTime": {
     "end_time": "2021-03-29T18:18:42.443472Z",
     "start_time": "2021-03-29T18:18:42.435443Z"
    },
    "code_folding": []
   },
   "outputs": [],
   "source": [
    "class Pterodactyl(DinoZord):\n",
    "    '''Clase derivada - Herencia simple'''\n",
    "\n",
    "    def __init__(self):\n",
    "        super().__init__(nombre='Pterodactyl Dinozord',\n",
    "                         color='pink',\n",
    "                         habilidad='twin lasers',\n",
    "                         largo=21,\n",
    "                         ancho=84,\n",
    "                         velocidad='match 2.5')\n",
    "\n",
    "    # Método protegido de ensamblaje\n",
    "    def _modo(self):\n",
    "        if self.pilot:\n",
    "            print(self.pilot + ' dice: ensamblando pecho')\n",
    "\n",
    "    def boost_defense(self):\n",
    "        print('Zord con defensa mejorada')"
   ]
  },
  {
   "cell_type": "markdown",
   "metadata": {},
   "source": [
    "En este caso, cada clase derivada tiene una estructura común dada por los diccionarios privados ```__construction_dict``` y ```__attribute_dict```. Más aún, se reutiliza el método constructor de la clase base \n",
    "```DinoZord```, para asignar sus atributos base a todo objeto instanciado (representado por ```self```). Más aún, cada clase derivada tiene un método protegido en común ```._modo()``` y un método propio único de cada subclase (ej. ```.boost_defense()```). \n",
    "\n",
    "Finalmente se crea un clase con herencia múltiple ```MegaZord```."
   ]
  },
  {
   "cell_type": "code",
   "execution_count": null,
   "metadata": {
    "ExecuteTime": {
     "end_time": "2021-03-29T18:23:52.115846Z",
     "start_time": "2021-03-29T18:23:52.099876Z"
    }
   },
   "outputs": [],
   "source": [
    "class MegaZord(Tyrannosaurus, Mastodon, Triceratops, Sabertooth, Pterodactyl):\n",
    "    '''Clase derivada - Ejemplo herencia multiple'''\n",
    "\n",
    "    # Constructor\n",
    "\n",
    "    def __init__(self, tyrannosaurus, mastodon, triceratops, sabertooth,\n",
    "                 pterodactyl):\n",
    "\n",
    "        # Secuencia de ensamblaje\n",
    "        tyrannosaurus._modo()\n",
    "        mastodon._modo()\n",
    "        triceratops._modo()\n",
    "        sabertooth._modo()\n",
    "        pterodactyl._modo()\n",
    "        '''\n",
    "        Constructor de caracteristicas base usando la clase base DinoZord, \n",
    "        observe que no se declaro explicitamente como clase base al definir\n",
    "        MegaZord, sin embargo sus atributos se heredan.\n",
    "        \n",
    "        '''\n",
    "\n",
    "        DinoZord.__init__(self, nombre='Mega Zord',\n",
    "                          color='Multicolor',\n",
    "                          habilidad='Power Sword',\n",
    "                          largo=67,\n",
    "                          ancho=570,\n",
    "                          velocidad=140)\n",
    "\n",
    "        # variables de la clase\n",
    "        self._components = (tyrannosaurus, mastodon, triceratops, sabertooth,\n",
    "                            pterodactyl)\n",
    "        self._mode = 'tank_mode'\n",
    "\n",
    "        # asignación de piloto\n",
    "        self.pilot = [zord.pilot for zord in self._components]\n",
    "\n",
    "        # Fin secuencia de construcción\n",
    "        print()\n",
    "        print(f'⚔️ Megazord activado en {self._mode}! ⚔️')\n",
    "\n",
    "    ''' Metodos: overriding y metodos nuevos.'''\n",
    "\n",
    "    # method overriding\n",
    "    def _modo(self):\n",
    "        return self._mode\n",
    "\n",
    "    # Nueva funcionalidad: wrapper de métodos heredados por herencia multiple\n",
    "    def boost(self):\n",
    "        self.boost_dexterity()\n",
    "        self.boost_defense()\n",
    "        self.boost_agility()\n",
    "        self.boost_endurance()\n",
    "        self.boost_strength()\n",
    "\n",
    "    # Nueva funcionalidad: cambio de modo\n",
    "    def change_mode(self):\n",
    "        if self._mode == 'battle_mode':\n",
    "            print('Cambiando a Tank Mode')\n",
    "            self._mode = 'tank_mode'\n",
    "\n",
    "        else:\n",
    "            print('Cambiando a Battle Mode')\n",
    "            self._mode = 'battle_mode'"
   ]
  },
  {
   "cell_type": "markdown",
   "metadata": {},
   "source": [
    "En esta clase, al heredar sus atributos de clases tipo ```DinoZord``` tiene la misma estructura base que cada una de su clases base. Esto se ve en su método ```.__init__()``` donde nuevamente se hace uso del constructor ```DinoZord.__init__()``` sobre los diccionarios privados ```__construction_dict``` y ```__attribute_dict```. Así mismo, la clase ```MegaZord``` posee la variables privadas extra ```__components``` y ```__mode```. Donde para esa última, existe un método especial setter denominado ```.change_mode()```. En la clase ```MegaZord``` se ignora el método ```_modo()``` (*overriding*) transformándolo en un *getter* para la ```__mode```. Por último, la clase ```MegaZord```tiene el método ```.boost()``` que ejecuta todos lo métodos propios de cada clase base. \n",
    "\n",
    "Se crean 5 objetos del tipo ```Tyrannosaurus```, ```Mastodon```, ```Triceratops```, ```Sabertooth``` y ```Pterodactyl```, para cada uno, se define la propiedad piloto. Finalmente se crea un objeto tipo ```MegaZord``` utilizando los 5 objetos ```DynoZord```."
   ]
  },
  {
   "cell_type": "code",
   "execution_count": null,
   "metadata": {
    "ExecuteTime": {
     "end_time": "2021-03-29T18:23:29.815150Z",
     "start_time": "2021-03-29T18:23:29.800153Z"
    },
    "scrolled": true,
    "tags": []
   },
   "outputs": [],
   "source": [
    "tyrannosaurus = Tyrannosaurus()\n",
    "tyrannosaurus.pilot = 'Jason Lee Scott'\n",
    "\n",
    "mastodon = Mastodon()\n",
    "mastodon.pilot = 'Zack Taylor'\n",
    "\n",
    "triceratops = Triceratops()\n",
    "triceratops.pilot = 'Billy Cranston'\n",
    "\n",
    "sabertooth = Sabertooth()\n",
    "sabertooth.pilot = 'Trini Kwan'\n",
    "\n",
    "pterodactyl = Pterodactyl()\n",
    "pterodactyl.pilot = 'Kimberly Hart'\n",
    "\n",
    "mega_zord = MegaZord(tyrannosaurus, mastodon,\n",
    "                     triceratops, sabertooth, pterodactyl)"
   ]
  },
  {
   "cell_type": "markdown",
   "metadata": {},
   "source": [
    "Se hacen pruebas sobre los métodos y atributos del objeto ```mega_zord```."
   ]
  },
  {
   "cell_type": "code",
   "execution_count": null,
   "metadata": {
    "ExecuteTime": {
     "end_time": "2021-03-29T18:24:11.533297Z",
     "start_time": "2021-03-29T18:24:11.525266Z"
    }
   },
   "outputs": [],
   "source": [
    "# Asignación de piloto: propiedad compuesta\n",
    "print('Pilotos: ', mega_zord.pilot, '\\n')\n",
    "\n",
    "\n",
    "# method overriding\n",
    "print('Modo:')\n",
    "print(mega_zord._modo(), '\\n')\n",
    "\n",
    "# Metodos propios\n",
    "print('Metodo propio boost:')\n",
    "mega_zord.boost()\n",
    "print('\\nMetodo propio change mode:')\n",
    "mega_zord.change_mode()\n",
    "\n",
    "# Metodos de heredados:\n",
    "# DinoZord\n",
    "print('\\nAtaque: ')\n",
    "mega_zord.attack()\n",
    "\n",
    "# Tyrannosaurus, Mastodon, Triceratops, Sabertooth y Pterodactyl\n",
    "print('\\nMetodos heredados:')\n",
    "mega_zord.boost_dexterity()\n",
    "mega_zord.boost_defense()\n",
    "mega_zord.boost_agility()\n",
    "mega_zord.boost_endurance()\n",
    "mega_zord.boost_strength()"
   ]
  },
  {
   "cell_type": "markdown",
   "metadata": {},
   "source": [
    "---\n",
    "\n",
    "> **Ejercicios ✏️**\n",
    "\n",
    "**Problema del Diamante**: Cómo se mencionó anteriormente, el sistema de herencia múltiple permite flexibilizar las relaciones de jerarquía  vistas como un grafo dirigido. En este contexto es posible que formen relaciones tipo diamante, donde una clase base da origen a múltiples clases derivadas donde a la vez, todas son clases base de una última clase derivada. Este fenómeno se dio en el ejemplo anterior. \n",
    "\n",
    "1. Defina la clase ```A```, con el método ```.show()```, el cual imprime en pantalla ```'método show de clase A'```. \n",
    "\n",
    "2. Defina las clases ```B1``` y ```B2```, la clase ```B1``` debe anular el método ```.show()``` imprimiendo en pantalla ```'método show de clase B1'```, mientras que la clase ```B2``` anula el mismo método imprimiendo en pantalla ```'método show de clase B2'```.\n",
    "\n",
    "3. Defina la clase ```C1``` que hereda de ```B1``` y ```B2``` (en ese orden), esta clase no añade atributos ni métodos. Defina la clase ```C2```que hereda de ```B2``` y ```B1```(en ese orden).\n",
    "\n",
    "4. Cree los objetos ```c1``` y ```c2``` de las clases ```C1``` y ```C2``` respectivamente.  ¿Qué resultado se espera de ejecutar ```c1.show()``` y ```c2.show()```?\n",
    "\n",
    "5. Cree la clase ```B3```, esta clase no es más que *proxy* de la clase ```A``` (no agrega/quita/modifica ningún atributo o método). A continuación cree la clase ```C3``` que hereda de ```B3``` y ```B1```. Instancie el objeto ```c3``` de a clase ```C3``` y ejecute ```c3.show()``` ¿Qué resultado se espera? pruebe cambiando el orden de herencia en ```C3```, conmutando entre ```B1``` con ```B3``` y```B2``` con ```B3```. ¿En qué se diferencia con el ejercicio 4?\n",
    "\n",
    "Python resuelve el problema del diamante mediante un método de resolución de ordenes *MRO*. La intención de este ejercicio es que usted comprenda tal mecanismo, observando el orden búsqueda y ejecución de métodos. ¿Podría identificar este fenómeno en el ejemplo de ```DinoZord``` - ```MegaZord```?"
   ]
  }
 ],
 "metadata": {
  "kernelspec": {
   "display_name": "Python 3 (ipykernel)",
   "language": "python",
   "name": "python3"
  },
  "language_info": {
   "codemirror_mode": {
    "name": "ipython",
    "version": 3
   },
   "file_extension": ".py",
   "mimetype": "text/x-python",
   "name": "python",
   "nbconvert_exporter": "python",
   "pygments_lexer": "ipython3",
   "version": "3.9.7"
  },
  "nbTranslate": {
   "displayLangs": [
    "es",
    "en"
   ],
   "hotkey": "alt-t",
   "langInMainMenu": true,
   "sourceLang": "en",
   "targetLang": "es",
   "useGoogleTranslate": true
  },
  "toc": {
   "base_numbering": 1,
   "nav_menu": {},
   "number_sections": true,
   "sideBar": true,
   "skip_h1_title": false,
   "title_cell": "Table of Contents",
   "title_sidebar": "Contents",
   "toc_cell": false,
   "toc_position": {
    "height": "calc(100% - 180px)",
    "left": "10px",
    "top": "150px",
    "width": "269.867px"
   },
   "toc_section_display": true,
   "toc_window_display": false
  },
  "varInspector": {
   "cols": {
    "lenName": 16,
    "lenType": 16,
    "lenVar": 40
   },
   "kernels_config": {
    "python": {
     "delete_cmd_postfix": "",
     "delete_cmd_prefix": "del ",
     "library": "var_list.py",
     "varRefreshCmd": "print(var_dic_list())"
    },
    "r": {
     "delete_cmd_postfix": ") ",
     "delete_cmd_prefix": "rm(",
     "library": "var_list.r",
     "varRefreshCmd": "cat(var_dic_list()) "
    }
   },
   "types_to_exclude": [
    "module",
    "function",
    "builtin_function_or_method",
    "instance",
    "_Feature"
   ],
   "window_display": false
  }
 },
 "nbformat": 4,
 "nbformat_minor": 4
}
