{
  "cells": [
    {
      "cell_type": "markdown",
      "metadata": {
        "id": "GBWMS2Y5h3Wb"
      },
      "source": [
        "# Clase 07: Detección de Anomalías y Visualización en Baja Dimensionalidad\n",
        "\n",
        "**MDS7202: Laboratorio de Programación Científica para Ciencia de Datos**\n"
      ]
    },
    {
      "cell_type": "markdown",
      "metadata": {
        "id": "Q3iYDe0nh3We"
      },
      "source": [
        "\n",
        "\n",
        "## Objetivos de la Clase\n",
        "\n",
        "- Entender qué es un outlier y explorar distintas téncicas para encontrarlos.\n",
        "- Explorar técnicas para visualizar datos en baja dimensionalidad."
      ]
    },
    {
      "cell_type": "markdown",
      "metadata": {
        "id": "JiaqNHlZh3We"
      },
      "source": [
        "## Detección y manejo de Anomalías\n",
        "\n",
        "> **Pregunta**: ¿Qué es una anomalía?\n",
        "\n",
        "Una anomalía (*outlier* en ingles) es un dato significativamente distinto a los demás. Se puede considerar como una observación cuya desviación del conjunto de datos permite establecer la hipótesis, de que su generación fue obtenida por un mecanismo distinto al principal en la modelación de un fenómeno.\n",
        "\n",
        "![Outlier](../../recursos/2023-01/16-Detección-anomalias/outliers.gif)\n",
        "\n",
        "> **Pregunta**: ¿Por qué debería preocuparme por estos valores?\n",
        "\n",
        "Las anomalías contienen por tanto información sobre características anormales de las entidades y esquemas que impactan el proceso generativo de los datos. Reconocer estas observaciones permite:\n",
        "- Desde el punto de vista teórico, mejorar el entendimiento de los problemas modelados.\n",
        "- Desde el punto de vista práctico, permite mejorar procesos de adquisición de datos y presición de modelos.\n",
        "\n",
        "\n",
        "Antes de continuar, es necesario hacer una distinción entre términos:\n",
        "\n",
        "- **Detección de Outliers** : Detectamos anomalías sobre los datos que estamos analizando o sobre los datos de entrenamiento del modelo.\n",
        "\n",
        "- **Novelty Detection**: Cuando detectamos outliers sobre **datos nuevos**.\n"
      ]
    },
    {
      "cell_type": "markdown",
      "metadata": {
        "id": "dVqeRM5yh3Wf"
      },
      "source": [
        "## Tipos de Outliers\n",
        "\n",
        "- **Univariados**: Solo en una característica de los datos.\n",
        "- **Multivariados**: Outlier al combinar más de una característica de los datos.\n",
        "   "
      ]
    },
    {
      "cell_type": "markdown",
      "metadata": {
        "id": "n0RswNDhh3Wg"
      },
      "source": [
        "## Origen de los Outliers\n",
        "\n",
        "\n",
        "> **Pregunta ❓**: ¿Cuáles son las posibles fuentes de Outliers?"
      ]
    },
    {
      "cell_type": "markdown",
      "metadata": {
        "id": "XncM10wlh3Wg"
      },
      "source": [
        "\n",
        "- Errores al transcribir los Datos.\n",
        "- Errores de Medición.\n",
        "- Errores Experimentales.\n",
        "- Errores del preprocesamiento.\n",
        "- Al extraer o mezclar datos que no son compatibles entre si.\n",
        "- Naturales."
      ]
    },
    {
      "cell_type": "markdown",
      "metadata": {
        "id": "ti4rU9buh3Wg"
      },
      "source": [
        "## Dataset de Hoy: Wine Quality 🍷\n",
        "\n",
        "<div style=\"text-align: center;\">\n",
        "    <img src=\"../../recursos/2023-01/16-Detección-anomalias/wine.jpg\" style=\"width: 50%;\">\n",
        "</div>\n",
        "\n",
        "<center> Fuente de la imagen: https://www.baysidegroup.com.au/blog/could-native-grapes-be-the-future-of-australian-wine/</center>\n",
        "\n",
        "Wine Quality es un dataset de características que describen vinos portugeses de la variedad \"Vinho Verde\".\n",
        "\n",
        "Atributos:\n",
        "\n",
        "    1 - fixed acidity\n",
        "    2 - volatile acidity\n",
        "    3 - citric acid\n",
        "    4 - residual sugar\n",
        "    5 - chlorides\n",
        "    6 - free sulfur dioxide\n",
        "    7 - total sulfur dioxide\n",
        "    8 - density\n",
        "    9 - pH\n",
        "    10 - sulphates\n",
        "    11 - alcohol\n",
        "    \n",
        "Output: Calidad subjetiva del vino.\n",
        "\n",
        "    12 - quality (score between 0 and 10)"
      ]
    },
    {
      "cell_type": "code",
      "execution_count": null,
      "metadata": {
        "colab": {
          "base_uri": "https://localhost:8080/",
          "height": 551
        },
        "id": "ktkXd9Eih3Wh",
        "outputId": "fbc270fd-8f65-4f51-f529-ee19657989e7"
      },
      "outputs": [],
      "source": [
        "import pandas as pd\n",
        "import plotly.express as px\n",
        "\n",
        "df = pd.read_csv(\"../../recursos/2023-01/16-Detección-anomalias/wineQualityReds.csv\", index_col=0)\n",
        "df.head()"
      ]
    },
    {
      "cell_type": "code",
      "execution_count": null,
      "metadata": {
        "id": "stDX-eMTh3Wi",
        "outputId": "a4b29d8f-089d-4d0a-f7fa-d40ba4ce967e"
      },
      "outputs": [],
      "source": [
        "df.describe()"
      ]
    },
    {
      "cell_type": "code",
      "execution_count": null,
      "metadata": {
        "id": "BMSxOviRh3Wj",
        "outputId": "ad500d22-3444-4e3f-acb5-9260eb92c607"
      },
      "outputs": [],
      "source": [
        "for col in df:\n",
        "    fig = px.histogram(df, x=col, marginal=\"box\", title = 'Histogram of ' + col)\n",
        "    fig.show()"
      ]
    },
    {
      "cell_type": "markdown",
      "metadata": {
        "id": "kbX8mjQph3Wj"
      },
      "source": [
        "## Métodos de Manejo de Anomalías Univariados\n",
        "\n",
        "\n",
        "#### Desviación Estándar\n",
        "\n",
        "Si se estima que la variable a estudiar se distribuye de manera normal, entonces el 95% de los datos se encuentra a 2 desviaciones estándar de la media, mientras que el 99.7% se encuentra dentro de 3 desviaciones estándar. Basándose en esto, se puede considerar que cualquier punto fuera de 3 desviaciones estándar de la media como candidato a anomalía. Una forma más flexible de estimar anomalías usando el principio de normalidad, es por medio de z-scores.\n",
        "\n",
        "\n",
        "$$\\text{z-score} = \\frac{x_i - \\overline{x}}{s}$$\n"
      ]
    },
    {
      "cell_type": "markdown",
      "metadata": {
        "id": "2H6gxp5Wh3Wj"
      },
      "source": [
        "<div style=\"text-align: center;\">\n",
        "    <img src=\"../../recursos/2023-01/16-Detección-anomalias/norm.png\" style=\"width: 75%;\">\n",
        "</div>"
      ]
    },
    {
      "cell_type": "code",
      "execution_count": null,
      "metadata": {
        "id": "GWTi4iyRh3Wj",
        "outputId": "48989cf6-898a-4c7b-b248-ad72a79933b9"
      },
      "outputs": [],
      "source": [
        "from scipy.stats import zscore\n",
        "\n",
        "z_scores = zscore(df[\"fixed.acidity\"])\n",
        "z_scores"
      ]
    },
    {
      "cell_type": "code",
      "execution_count": null,
      "metadata": {
        "id": "Cyzp-CSJh3Wk",
        "outputId": "8e36db26-7d7a-4d5b-c6bd-ab274d744c7a"
      },
      "outputs": [],
      "source": [
        "# agregamos los zscores al df\n",
        "df[\"fixed.acidity_zscores\"] = z_scores\n",
        "df"
      ]
    },
    {
      "cell_type": "code",
      "execution_count": null,
      "metadata": {
        "id": "X0b0Jj_sh3Wk",
        "outputId": "35a6407b-e37e-4e5f-8363-1e1c26670cec"
      },
      "outputs": [],
      "source": [
        "# agregamos un booleano por cada fila que indica si la observación está\n",
        "# a 3 o más distribuciones estandar entonces es booleano.\n",
        "df[\"fixed.acidity_outlier\"] = df[\"fixed.acidity_zscores\"].abs() > 3\n",
        "\n",
        "# los datos se verian asi:\n",
        "df[[\"fixed.acidity\", \"fixed.acidity_zscores\", \"fixed.acidity_outlier\"]].head(10)"
      ]
    },
    {
      "cell_type": "code",
      "execution_count": null,
      "metadata": {
        "id": "BRFvhNFwh3Wk",
        "outputId": "99083742-4d13-4122-827c-ec4789f5d647"
      },
      "outputs": [],
      "source": [
        "df.loc[\n",
        "    df[\"fixed.acidity_outlier\"], # condicion: fixed.acidity_outlier == True\n",
        "    [\"fixed.acidity\", \"fixed.acidity_zscores\", \"fixed.acidity_outlier\"],\n",
        "]"
      ]
    },
    {
      "cell_type": "code",
      "execution_count": null,
      "metadata": {
        "id": "X8c8Hot2h3Wk",
        "outputId": "46f41552-011c-495d-da6b-f9db01d9e201"
      },
      "outputs": [],
      "source": [
        "fig = px.histogram(df, x=\"fixed.acidity\", color=\"fixed.acidity_outlier\")\n",
        "fig.update_layout(showlegend=False)"
      ]
    },
    {
      "cell_type": "markdown",
      "metadata": {
        "id": "-TxctYs0h3Wk"
      },
      "source": [
        "Si se va a estudiar una columna con ouliers mediante este método, es coveniente hacer un **test de normalidad**. Si la variable no cumple con la hipótesis, es posible preprocesarla usando el método de **box-cox**, **Yeo-Johnson** o **Inter Quantilico**. Se recomienda este último por ser robusto a outliers.\n"
      ]
    },
    {
      "cell_type": "markdown",
      "metadata": {
        "id": "0LNOIRWwh3Wk",
        "tags": []
      },
      "source": [
        "#### IQR: Rango Intercuartilico\n",
        "\n",
        "El rango intercuartílico (**IQR**) se utiliza para medir la dispersión de los datos.\n",
        "Para obtenerlo:\n",
        "\n",
        "Los datos se separan en 4 grupo de (casi) igual tamaño.\n",
        "El IQR se calcula como la diferencia entre el primer cuartil $Q1$ (25%) y el tercero $Q3$ (75%) : $IQR = Q3 - Q1$.\n",
        "\n",
        "<div align='center'>\n",
        "    <img src=\"https://miro.medium.com/max/9000/1*2c21SkzJMf3frPXPAR_gZA.png\" style=\"width: 50%;\">\n",
        "    <p>\n",
        "        Fuente:\n",
        "        <a href='https://www.kdnuggets.com/2019/11/understanding-boxplots.html'>Understanding Boxplots\n",
        "        </a>\n",
        "    </p>\n",
        "</div>"
      ]
    },
    {
      "cell_type": "code",
      "execution_count": null,
      "metadata": {
        "id": "ADCm0kg-h3Wk",
        "outputId": "afaba078-9d1e-4a26-924b-fa13a88db657"
      },
      "outputs": [],
      "source": [
        "df[\"total.sulfur.dioxide\"].describe()"
      ]
    },
    {
      "cell_type": "code",
      "execution_count": null,
      "metadata": {
        "id": "cPwQ_7KHh3Wl",
        "outputId": "1148b082-28c8-471e-a962-51f3b3ef3338"
      },
      "outputs": [],
      "source": [
        "px.histogram(df, \"total.sulfur.dioxide\", marginal=\"box\")"
      ]
    },
    {
      "cell_type": "code",
      "execution_count": null,
      "metadata": {
        "id": "CKKY0eR7h3Wl",
        "outputId": "0f7448dd-63b9-4765-b7d1-5dc6b536997b"
      },
      "outputs": [],
      "source": [
        "desc = df[\"total.sulfur.dioxide\"].describe()\n",
        "desc"
      ]
    },
    {
      "cell_type": "code",
      "execution_count": null,
      "metadata": {
        "id": "vDrG6hQNh3Wl",
        "outputId": "ddfbaa3b-508b-49d9-c7af-84d51f5bd5bd"
      },
      "outputs": [],
      "source": [
        "iqr = desc[\"75%\"] - desc[\"25%\"]\n",
        "iqr"
      ]
    },
    {
      "cell_type": "markdown",
      "metadata": {
        "id": "5CaaCqHkh3Wl"
      },
      "source": [
        "Luego, los valores que estén en $25\\% - (IQR * 1.5)$"
      ]
    },
    {
      "cell_type": "code",
      "execution_count": null,
      "metadata": {
        "id": "3jgvf3Qsh3Wl",
        "outputId": "f340f4ba-9dbd-4249-9552-439634b1ec34"
      },
      "outputs": [],
      "source": [
        "cota_inf = desc[\"25%\"] - iqr * 1.5\n",
        "cota_inf"
      ]
    },
    {
      "cell_type": "markdown",
      "metadata": {
        "id": "kOIUlZiuh3Wl"
      },
      "source": [
        "Y los valores que estén sobre $75\\% + (IQR * 1.5)$"
      ]
    },
    {
      "cell_type": "code",
      "execution_count": null,
      "metadata": {
        "id": "2R3s2AJ3h3Wl",
        "outputId": "45b6293a-8144-4206-c6d5-1fa70dd15b9b"
      },
      "outputs": [],
      "source": [
        "cota_sup = desc[\"75%\"] + iqr * 1.5\n",
        "cota_sup"
      ]
    },
    {
      "cell_type": "markdown",
      "metadata": {
        "id": "lryTYZVKh3Wl"
      },
      "source": [
        "Con ambas cotas, generamos una columna de outliers:"
      ]
    },
    {
      "cell_type": "code",
      "execution_count": null,
      "metadata": {
        "id": "QxzxDZOUh3Wl"
      },
      "outputs": [],
      "source": [
        "df[\"total.sulfur.dioxide_outlier\"] = (\n",
        "    df[\"total.sulfur.dioxide\"] > cota_sup) | (\n",
        "    df[\"total.sulfur.dioxide\"] < cota_inf\n",
        ")"
      ]
    },
    {
      "cell_type": "markdown",
      "metadata": {
        "id": "1DmLrmWJh3Wl"
      },
      "source": [
        "Grafiquemos ahora los outliers bajo esta clasificación:"
      ]
    },
    {
      "cell_type": "code",
      "execution_count": null,
      "metadata": {
        "id": "5UsA1aush3Wl",
        "outputId": "7f3e29b3-c009-4285-df1a-203e377b76f9"
      },
      "outputs": [],
      "source": [
        "import plotly.express as px\n",
        "\n",
        "fig1 = px.box(df, x=\"total.sulfur.dioxide\", height=200)\n",
        "fig1.show()\n",
        "\n",
        "fig2 = px.histogram(\n",
        "    df,\n",
        "    x=\"total.sulfur.dioxide\",\n",
        "    color=\"total.sulfur.dioxide_outlier\",\n",
        "    title=\"total.sulfur.dioxide<br><sup>Rojo = outlier</sup>\",\n",
        ")\n",
        "fig2.update_layout(showlegend=False)\n",
        "fig2.show()"
      ]
    },
    {
      "cell_type": "markdown",
      "metadata": {
        "id": "Q8jY1A-ph3Wm"
      },
      "source": [
        "En el gráfico de caja, vemos que los outliers están sobre y bajo las lineas rectas, cada una representa Q1 - 1.5 x IQR (linea inferior) y Q3 + 1.5 x IQR (linea superior). Los valores dentro de la caja corresponden al IQR y la linea central es la mediana de los datos."
      ]
    },
    {
      "cell_type": "markdown",
      "metadata": {
        "id": "6UsPMDk4h3Wm"
      },
      "source": [
        "> **Pregunta:** ¿Por qué 1.5 y no otro número?\n",
        "\n",
        "<div style=\"text-align: center;\">\n",
        "    <img src=\"../../recursos/2023-01/16-Detección-anomalias/iqr_origen.png\" style=\"width: 50%;\">\n",
        "</div>"
      ]
    },
    {
      "cell_type": "markdown",
      "metadata": {
        "id": "df2G6xRvh3Wm"
      },
      "source": [
        "## Reducción de Dimensionalidad para la Visualización\n",
        "\n",
        "Como hemos visto en las clases anteriores, todos las observaciones se componen de muchas variables/características distintas. Mientras más características se tengan, más complejo se torna el análisis exploratorio de datos, la detección de outliers y la creación de modelos predictivos.\n",
        "\n"
      ]
    },
    {
      "cell_type": "code",
      "execution_count": null,
      "metadata": {
        "id": "j74zz5Ahh3Wm",
        "outputId": "8fe86796-07e5-49fb-a846-2282ca565a7a"
      },
      "outputs": [],
      "source": [
        "df.head()"
      ]
    },
    {
      "cell_type": "markdown",
      "metadata": {
        "id": "iTl8aLtEh3Wm"
      },
      "source": [
        "\n",
        "\n",
        "Por lo tanto, sería de mucha utilidad contar con mecanismos para reducir la cantidad de características. Existen 2 enfoques:\n",
        "\n",
        "- **Selección de Atributos Relevantes**\n",
        "- **Reducción de Dimensionalidad.**\n",
        "\n",
        "Ambos serán vistos con mayor profundidad más adelante.\n",
        "\n",
        "Sin embargo, existe un par de métodos de reducción de dimensionalidad que nos pueden ser particularmente útiles para la tarea que estamos resolviendo en este momento (detección de outliers) y en general, para crear una idea de como se distribuyen los datos al considerar todas las características.\n",
        "\n",
        "\n",
        "Estos son los **métodos de reducción de dimensionalidad para visualización**. Estas son técnicas que nos permiten representar cada observación (un vector de alta dimensionalidad) en un vector de dos o tres dimensiones (mucho más sencillo para graficar).\n",
        "\n",
        "\n",
        "**Paréntesis: Manifold learning**  \n",
        "\n",
        "\n",
        "> Manifold learning es un enfoque para la reducción de dimensionalidad no lineal. Los algoritmos para esta tarea se basan en la idea de que la dimensionalidad de muchos conjuntos de datos es solo artificialmente alta."
      ]
    },
    {
      "cell_type": "markdown",
      "metadata": {
        "id": "3RvjhQgwh3Wm"
      },
      "source": [
        "### t-distributed Stochastic Neighbor Embedding (t-SNE)\n",
        "\n",
        "\n",
        "La idea detrás de este método es proveer un método efectivo de reducción de dimensionalidad para visualizar un dataset complejo. El objetivo es conservar la mayor parte de la información en la dimensión baja a la vez que permita visualizar clusters y estructura general de los datos.\n",
        "\n",
        "Este método conserva la localidad de las observaciones: Es decir, las observaciones similares queden en vectores cercanos y observaciones distintas en vectores lejanos (cercanos y lejanos en función de sus distancias).\n",
        "\n",
        "\n",
        "Sin embargo, el método posee un par de desventajas:\n",
        "\n",
        "- Es computacionalmente caro. Puede tomar horas transformar más de un millon de datos.\n",
        "- Es estocástico: diferentes ejecuciones entregan distintas proyecciones.\n",
        "- Las relaciones entre distancias globales no se preservan correctamente.\n",
        "\n",
        "> **Nota**: Es importante tener a la misma escala todos los datos.\n",
        "\n",
        "<div style=\"text-align: center;\">\n",
        "    <img src=\"https://miro.medium.com/max/800/1*lKLB_1aghhnxQjMQziEyGQ.gif\" style=\"width: 50%;\">\n",
        "</div>\n",
        "\n",
        "<center>Fuente de la animación: https://www.oreilly.com/content/an-illustrated-introduction-to-the-t-sne-algorithm/</center>\n",
        "\n",
        "\n",
        "No veremos la implementación de este método en clases, pero pueden encontrar una muy buena referencia en el siguiente video: https://www.youtube.com/watch?v=NEaUSP4YerM\n",
        "\n",
        "Ver también: **https://projector.tensorflow.org/**"
      ]
    },
    {
      "cell_type": "code",
      "execution_count": null,
      "metadata": {
        "id": "cuoTMbvCh3Wm",
        "outputId": "c9d24c21-00f2-4f95-8e05-57a405df8aa8"
      },
      "outputs": [],
      "source": [
        "features = df.drop(\n",
        "    columns=[\n",
        "        \"quality\",\n",
        "        \"fixed.acidity_zscores\",\n",
        "        \"fixed.acidity_outlier\",\n",
        "        \"total.sulfur.dioxide_outlier\",\n",
        "    ]\n",
        ")\n",
        "quality = df.loc[:, [\"quality\"]]\n",
        "\n",
        "features.head(3)"
      ]
    },
    {
      "cell_type": "code",
      "execution_count": null,
      "metadata": {
        "id": "n5nfbTCih3Wn",
        "outputId": "6817c572-41a0-46c5-8bc5-b18a9428de38"
      },
      "outputs": [],
      "source": [
        "from sklearn.manifold import TSNE\n",
        "from sklearn.preprocessing import MinMaxScaler\n",
        "\n",
        "# Notar que hacemos un escalamiento previo!!\n",
        "scaled_features = MinMaxScaler().fit_transform(features)\n",
        "\n",
        "# Creamos una instancia de tsne\n",
        "tsne = TSNE(n_components=2, random_state=42)\n",
        "\n",
        "# Transformamos los datos\n",
        "wine_features_tsne_embedded = tsne.fit_transform(scaled_features)\n",
        "wine_features_tsne_embedded"
      ]
    },
    {
      "cell_type": "code",
      "execution_count": null,
      "metadata": {
        "id": "GiWEwz8Ch3Wq"
      },
      "outputs": [],
      "source": [
        "# Noten que guardamos la transformación en df y no en features.\n",
        "df[\"x_tsne\"] = wine_features_tsne_embedded[:, 0]\n",
        "df[\"y_tsne\"] = wine_features_tsne_embedded[:, 1]"
      ]
    },
    {
      "cell_type": "code",
      "execution_count": null,
      "metadata": {
        "id": "p2J5YPcyh3Wq",
        "outputId": "35b3cb23-4cb6-4fee-b70c-59034d2e416c"
      },
      "outputs": [],
      "source": [
        "px.scatter(df, x=\"x_tsne\", y=\"y_tsne\")"
      ]
    },
    {
      "cell_type": "code",
      "execution_count": null,
      "metadata": {
        "id": "Mb_jOM3zh3Wq",
        "outputId": "51ad6818-0f32-44f2-c401-4f348799cf1b"
      },
      "outputs": [],
      "source": [
        "px.scatter(df, x=\"x_tsne\", y=\"y_tsne\", color=\"pH\")"
      ]
    },
    {
      "cell_type": "code",
      "execution_count": null,
      "metadata": {
        "id": "i1icuzlyh3Wr",
        "outputId": "669e7cb0-baa3-4ae6-e4af-c770b3221c98"
      },
      "outputs": [],
      "source": [
        "px.scatter(df, x=\"x_tsne\", y=\"y_tsne\", color=\"alcohol\")"
      ]
    },
    {
      "cell_type": "code",
      "execution_count": null,
      "metadata": {
        "id": "GveIlJ_Nh3Wr",
        "outputId": "4c9a2dbd-f124-4ff7-b1ba-3ce53b86a5e4"
      },
      "outputs": [],
      "source": [
        "px.scatter(df, x=\"x_tsne\", y=\"y_tsne\", color=\"residual.sugar\")"
      ]
    },
    {
      "cell_type": "code",
      "execution_count": null,
      "metadata": {
        "id": "afOIWBP4h3Wr",
        "outputId": "9536b30b-e0db-49af-b832-4645310a02a7"
      },
      "outputs": [],
      "source": [
        "px.scatter(df, x=\"x_tsne\", y=\"y_tsne\", color=\"quality\")"
      ]
    },
    {
      "cell_type": "code",
      "execution_count": null,
      "metadata": {
        "id": "EIZSjPOoh3Wr",
        "outputId": "38335f42-7de5-4e0c-ecc7-76b4d3832b75"
      },
      "outputs": [],
      "source": [
        "px.scatter(df, x=\"x_tsne\", y=\"y_tsne\", color=\"fixed.acidity\")"
      ]
    },
    {
      "cell_type": "code",
      "execution_count": null,
      "metadata": {
        "id": "K-Uz-Pjbh3Wr",
        "outputId": "c0459e8a-94da-4592-db2c-32bbab5d1703"
      },
      "outputs": [],
      "source": [
        "# probamos el criterio de outliers z-score\n",
        "px.scatter(df, x=\"x_tsne\", y=\"y_tsne\", color=\"fixed.acidity_outlier\")"
      ]
    },
    {
      "cell_type": "markdown",
      "metadata": {
        "id": "s9ftxUFIh3Wr"
      },
      "source": [
        "### Uniform Manifold Approximation and Projection (UMAP)\n",
        "\n",
        "Relativamente novedoso método de reducción de dimensionalidad. Puede ser usado tanto para visualización como para reducción de dimensionalidad para modelos predictivos.\n",
        "\n",
        "Presenta varias mejoras que con respecto a TSNE.  \n",
        "\n",
        "- Es más rápido y acepta una mayor cantidad de datos.\n",
        "- Conserva las distancias globales entre puntos."
      ]
    },
    {
      "cell_type": "code",
      "execution_count": null,
      "metadata": {
        "id": "9XakDctjh3Wr"
      },
      "outputs": [],
      "source": [
        "# hay que instalarlo aparte.\n",
        "#!pip install umap-learn"
      ]
    },
    {
      "cell_type": "code",
      "execution_count": null,
      "metadata": {
        "id": "qz9UVB0Sh3Wr",
        "outputId": "a08cd889-0b31-4569-9df3-f788a742f80e"
      },
      "outputs": [],
      "source": [
        "from umap import UMAP\n",
        "\n",
        "# Notar que hacemos un escalamiento previo\n",
        "scaled_features = MinMaxScaler().fit_transform(features)\n",
        "\n",
        "umap = UMAP()\n",
        "\n",
        "wine_features_umap_embedded = umap.fit_transform(scaled_features)\n",
        "wine_features_umap_embedded"
      ]
    },
    {
      "cell_type": "markdown",
      "metadata": {},
      "source": [
        "**Pregunta:** Cómo podríamos implementar la celda anterior con `pipeline`? Podemos hacer lo mismo con `t-SNE`?"
      ]
    },
    {
      "cell_type": "code",
      "execution_count": null,
      "metadata": {
        "id": "AEpfUZcch3Wr"
      },
      "outputs": [],
      "source": [
        "# Noten que guardamos la transformación en df y no en features.\n",
        "df[\"x_umap\"] = wine_features_umap_embedded[:, 0]\n",
        "df[\"y_umap\"] = wine_features_umap_embedded[:, 1]"
      ]
    },
    {
      "cell_type": "code",
      "execution_count": null,
      "metadata": {
        "id": "w5XtKq4zh3Wr"
      },
      "outputs": [],
      "source": [
        "from plotly.subplots import make_subplots\n",
        "\n",
        "fig1 = px.scatter(\n",
        "    df,\n",
        "    x=\"x_umap\",\n",
        "    y=\"y_umap\",\n",
        ")\n",
        "\n",
        "fig2 = px.scatter(\n",
        "    df,\n",
        "    x=\"x_tsne\",\n",
        "    y=\"y_tsne\",\n",
        ")\n",
        "\n",
        "# izquierda: UMAP\n",
        "# derecha: TSNE\n",
        "fig = (\n",
        "    make_subplots(rows=1, cols=2)\n",
        "    .add_trace(fig1.data[0], row=1, col=1)\n",
        "    .add_trace(fig2.data[0], row=1, col=2)\n",
        "    .update_layout(height=400, title_text=\"Comparación UMAP - TSNE\")\n",
        "    .show()\n",
        ")"
      ]
    },
    {
      "cell_type": "code",
      "execution_count": null,
      "metadata": {
        "id": "rb0GpFmmh3Wr"
      },
      "outputs": [],
      "source": [
        "px.scatter(\n",
        "    df,\n",
        "    x=\"x_umap\",\n",
        "    y=\"y_umap\",\n",
        "    color=\"quality\",\n",
        ")"
      ]
    },
    {
      "cell_type": "code",
      "execution_count": null,
      "metadata": {
        "id": "oFRcoOa1h3Ws"
      },
      "outputs": [],
      "source": [
        "px.scatter(df, x=\"x_umap\", y=\"y_umap\", color=\"fixed.acidity_outlier\")"
      ]
    },
    {
      "cell_type": "code",
      "execution_count": null,
      "metadata": {
        "id": "BKDnB7k2h3Ws"
      },
      "outputs": [],
      "source": [
        "px.scatter(df, x=\"x_umap\", y=\"y_umap\", color=\"fixed.acidity\")"
      ]
    },
    {
      "cell_type": "markdown",
      "metadata": {
        "id": "-qny6Q4Vh3Ws"
      },
      "source": [
        "> **Pregunta:** ¿Son suficientes los detectores de outliers sobre sola una variable?"
      ]
    },
    {
      "cell_type": "markdown",
      "metadata": {
        "id": "jYiH3fAOh3Ws"
      },
      "source": [
        "## Métodos de Manejo de Outliers Multivariados\n",
        "\n",
        "\n",
        "Este tipo de métodos permiten encontrar outliers considerando no solo un atributo en particular, si no que todos los atributos al mismo tiempo."
      ]
    },
    {
      "cell_type": "markdown",
      "metadata": {
        "id": "0kDswS4Nh3Ws"
      },
      "source": [
        "### Paréntesis: Clustering\n",
        "\n",
        "\n",
        "**El Clustering es la tarea de agrupar distintas observaciones según su similitud.**\n",
        "\n",
        "Es de tipo no-supervisado (no requiere etiquetas para entrenar).\n",
        "\n",
        "![](./resources/clustering.png)"
      ]
    },
    {
      "cell_type": "markdown",
      "metadata": {
        "id": "pZV2lUeQh3Ws"
      },
      "source": [
        "### DBScan"
      ]
    },
    {
      "cell_type": "markdown",
      "metadata": {
        "id": "MYK5nP_Hh3Ws"
      },
      "source": [
        "DBscan es un algoritmo de clustering basado en densidad. Su funcionamiento se basa en clasificar los datos en tres categorías:\n",
        "\n",
        "- **Core point**: Es un punto que contiene un número minimo de vecinos cerca de un vecindario (esfera de radio ɛ)\n",
        "\n",
        "- **Border point**: Es un punto que no es core, pero que es alcanzable por un Core Point. Es decir, existe un camino entre el Core Point y este.\n",
        "\n",
        "- **Outlier**: Es un punto que no es core point y a la vez, que no tiene un camino entre un Core Point u Border Point."
      ]
    },
    {
      "cell_type": "markdown",
      "metadata": {
        "id": "LA-QECqUh3Wt"
      },
      "source": [
        "<div style=\"text-align: center;\">\n",
        "    <img src=\"../../recursos/2023-01/16-Detección-anomalias/dbscan.png\" style=\"width: 50%;\">\n",
        "</div>"
      ]
    },
    {
      "cell_type": "code",
      "execution_count": null,
      "metadata": {
        "id": "ANvsDx7vh3Wt"
      },
      "outputs": [],
      "source": [
        "from sklearn.cluster import DBSCAN\n",
        "\n",
        "# El parámetro eps indicará el tamaño de la esfera y por tanto, la cantidad de outliers\n",
        "# Mientras menor sea el tamaño de eps, mayor la cantidad de outliers\n",
        "clustering = DBSCAN(eps=0.3, min_samples=3).fit(scaled_features)\n",
        "\n",
        "db_scan_labels = clustering.labels_\n",
        "\n",
        "db_scan_labels"
      ]
    },
    {
      "cell_type": "code",
      "execution_count": null,
      "metadata": {
        "id": "jDIKUnegh3Wt"
      },
      "outputs": [],
      "source": [
        "db_scan_labels.max()"
      ]
    },
    {
      "cell_type": "code",
      "execution_count": null,
      "metadata": {
        "id": "X68-X6Tzh3Wt"
      },
      "outputs": [],
      "source": [
        "# Nota: Los labels de los outliers son -1\n",
        "df[db_scan_labels == -1]"
      ]
    },
    {
      "cell_type": "code",
      "execution_count": null,
      "metadata": {
        "id": "JyZJCv3jh3Wt"
      },
      "outputs": [],
      "source": [
        "# Es más sencillo visualizar los outliers con color=db_scan_labels == -1\n",
        "px.scatter(df, x=\"x_umap\", y=\"y_umap\", color=db_scan_labels == -1)"
      ]
    },
    {
      "cell_type": "code",
      "execution_count": null,
      "metadata": {
        "id": "y4TY104vh3Wt"
      },
      "outputs": [],
      "source": [
        "px.scatter(df, x=\"x_umap\", y=\"y_umap\", color=db_scan_labels.astype(str))"
      ]
    },
    {
      "cell_type": "code",
      "execution_count": null,
      "metadata": {
        "id": "fXOC6AwIh3Wt"
      },
      "outputs": [],
      "source": [
        "from sklearn.cluster import DBSCAN\n",
        "\n",
        "# Volvemos a hacer lo mismo pero con las dimensiones de UMAP\n",
        "clustering_projections = DBSCAN(eps=0.3, min_samples=3).fit(wine_features_umap_embedded)\n",
        "\n",
        "db_scan_labels = clustering_projections.labels_\n",
        "\n",
        "db_scan_labels"
      ]
    },
    {
      "cell_type": "code",
      "execution_count": null,
      "metadata": {
        "id": "E84WAfOBh3Wt"
      },
      "outputs": [],
      "source": [
        "wine_features_umap_embedded"
      ]
    },
    {
      "cell_type": "code",
      "execution_count": null,
      "metadata": {
        "id": "m0988d5_h3Wt"
      },
      "outputs": [],
      "source": [
        "px.scatter(df, x=\"x_umap\", y=\"y_umap\", color=db_scan_labels.astype(str))"
      ]
    },
    {
      "cell_type": "markdown",
      "metadata": {
        "id": "RaUr3uCrh3Wt"
      },
      "source": [
        "## Métodos Específicos Provistos por Scikit-Learn\n",
        "\n",
        "<div style=\"text-align: center;\">\n",
        "    <img src=\"../../recursos/2023-01/16-Detección-anomalias/outlier_methods_sklearn.png\" style=\"width: 50%;\">\n",
        "</div>"
      ]
    },
    {
      "cell_type": "markdown",
      "metadata": {
        "id": "99QVKi7fh3Wt"
      },
      "source": [
        "### Isolation Forest\n",
        "\n",
        "El concepto subyacente de Isolation Forest es que las anomalías son datos que son pocos y diferentes, y por lo tanto, **más fáciles de aislar** que los datos normales. Isolar se refiere al proceso de separar un punto de datos del resto del conjunto de datos.\n",
        "\n",
        "#### ¿Cómo funciona?\n",
        "\n",
        "1. Construcción de Árboles de Aislamiento: Isolation Forest construye múltiples árboles de decisión, llamados árboles de aislamiento, para aislar cada muestra de datos. Para cada árbol, el proceso es como sigue:\n",
        "    - **Seleccionar aleatoriamente una variable** y luego selecciona un valor aleatorio de corte entre el mínimo y máximo valor de la característica seleccionada.\n",
        "    - **Dividir el conjunto de datos en dos subconjuntos**: uno con valores menores que el valor de corte y otro con valores mayores o iguales.\n",
        "    - **Repetir este proceso** recursivamente en cada subconjunto hasta que todos los datos han sido aislados o se alcanza un límite predeterminado en la profundidad del árbol.\n",
        "2. Propiedad de Aislamiento: En teoría, las anomalías, al ser pocos y distintos, **requieren menos divisiones** aleatorias para ser aislados en comparación con los puntos de datos normales. Por lo tanto, los puntos de datos que tienen caminos cortos en los árboles son más propensos a ser anomalías.\n",
        "\n",
        "#### Cálculo de puntuación de Anomalía\n",
        "\n",
        "Una vez construidos los árboles, Isolation Forest evalúa la anormalidad de los datos utilizando una puntuación de anomalía basada en la **longitud del camino promedio** de un punto de datos en los árboles de aislamiento.\n",
        "**Cuanto más corto es el camino promedio de un punto de datos, más alta es la puntuación de anomalía**, lo que indica una mayor probabilidad de ser una anomalía.\n",
        "\n",
        "<div style=\"text-align: center;\">\n",
        "    <img src=\"../../recursos/2023-01/16-Detección-anomalias/itree.png\" style=\"width: 50%;\">\n",
        "</div>\n",
        "    \n",
        "<center>Fuente:https://betterprogramming.pub/anomaly-detection-with-isolation-forest-e41f1f55cc6</center>\n",
        "\n",
        "#### Ventajas de Isolation Forest\n",
        "- **Eficiencia**: Es eficaz en grandes conjuntos de datos y con una alta dimensionalidad de datos.\n",
        "- **No necesita normalización**: A diferencia de otros métodos que requieren normalización de datos, Isolation Forest no necesita normalizar los datos porque el método de partición es independiente de la distribución.\n",
        "- **Escalabilidad y Facilidad de Implementación**: Es relativamente fácil de implementar y escalar en comparación con otros métodos de detección de anomalías.\n",
        "\n",
        "\n",
        "<center>Trafico web a través del tiempo<center/>\n",
        "\n",
        "<div style=\"text-align: center;\">\n",
        "    <img src=\"https://upload.wikimedia.org/wikipedia/commons/b/b9/Anomalous_Web_Traffic.png\" style=\"width: 60%;\">\n",
        "</div>\n"
      ]
    },
    {
      "cell_type": "code",
      "execution_count": null,
      "metadata": {
        "id": "jMllg9pBh3Wu"
      },
      "outputs": [],
      "source": [
        "import numpy as np\n",
        "from sklearn.ensemble import IsolationForest\n",
        "\n",
        "isf = IsolationForest(n_estimators=20, random_state=42)\n",
        "outliers = isf.fit_predict(scaled_features)"
      ]
    },
    {
      "cell_type": "code",
      "execution_count": null,
      "metadata": {
        "id": "iHH5yubjh3Wu"
      },
      "outputs": [],
      "source": [
        "px.scatter(df, x=\"x_umap\", y=\"y_umap\", color=outliers.astype(str))"
      ]
    },
    {
      "cell_type": "markdown",
      "metadata": {
        "id": "Kl2opqoOh3Wu"
      },
      "source": [
        "#### Novelty Detection\n",
        "\n",
        "Ya que tenemos el modelo entrenado, podemos aplicarlo para clasificar una nueva observación (fuera del conjunto de entrenamiento) como outlier o no. Podemos lograr esto a través del método `.predict`:"
      ]
    },
    {
      "cell_type": "code",
      "execution_count": null,
      "metadata": {
        "id": "_g00goYch3Wu"
      },
      "outputs": [],
      "source": [
        "row = scaled_features[100, :].copy() # obtenemos una fila\n",
        "row"
      ]
    },
    {
      "cell_type": "code",
      "execution_count": null,
      "metadata": {
        "id": "CKzi-NRIh3Wu"
      },
      "outputs": [],
      "source": [
        "isf.predict([row]) # 1: no es outlier"
      ]
    },
    {
      "cell_type": "code",
      "execution_count": null,
      "metadata": {
        "id": "2wBhhyLJh3Wu"
      },
      "outputs": [],
      "source": [
        "row[0] *= -100 # cambiar feature 0  * -1000\n",
        "row[5] *= 500 # cambiar feature 5 * 500\n",
        "row[10] *= 999 # cambiar feature 10 * 999\n",
        "row"
      ]
    },
    {
      "cell_type": "code",
      "execution_count": null,
      "metadata": {
        "id": "nslGZlCkh3Wv"
      },
      "outputs": [],
      "source": [
        "isf.predict([row]) # -1: es outlier"
      ]
    }
  ],
  "metadata": {
    "colab": {
      "provenance": []
    },
    "kernelspec": {
      "display_name": "base",
      "language": "python",
      "name": "python3"
    },
    "language_info": {
      "codemirror_mode": {
        "name": "ipython",
        "version": 3
      },
      "file_extension": ".py",
      "mimetype": "text/x-python",
      "name": "python",
      "nbconvert_exporter": "python",
      "pygments_lexer": "ipython3",
      "version": "3.12.7"
    },
    "toc": {
      "base_numbering": 1,
      "nav_menu": {},
      "number_sections": true,
      "sideBar": true,
      "skip_h1_title": true,
      "title_cell": "Table of Contents",
      "title_sidebar": "Contents",
      "toc_cell": true,
      "toc_position": {
        "height": "calc(100% - 180px)",
        "left": "10px",
        "top": "150px",
        "width": "294.717px"
      },
      "toc_section_display": true,
      "toc_window_display": false
    },
    "varInspector": {
      "cols": {
        "lenName": 16,
        "lenType": 16,
        "lenVar": 40
      },
      "kernels_config": {
        "python": {
          "delete_cmd_postfix": "",
          "delete_cmd_prefix": "del ",
          "library": "var_list.py",
          "varRefreshCmd": "print(var_dic_list())"
        },
        "r": {
          "delete_cmd_postfix": ") ",
          "delete_cmd_prefix": "rm(",
          "library": "var_list.r",
          "varRefreshCmd": "cat(var_dic_list()) "
        }
      },
      "types_to_exclude": [
        "module",
        "function",
        "builtin_function_or_method",
        "instance",
        "_Feature"
      ],
      "window_display": false
    }
  },
  "nbformat": 4,
  "nbformat_minor": 0
}
