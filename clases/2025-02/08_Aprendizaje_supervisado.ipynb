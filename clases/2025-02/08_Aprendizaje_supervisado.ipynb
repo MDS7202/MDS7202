{
 "cells": [
  {
   "cell_type": "markdown",
   "metadata": {},
   "source": [
    "# Clase 8: Introducción al Aprendizaje Supervisado\n",
    "\n",
    "\n",
    "**MDS7202: Laboratorio de Programación Científica para Ciencia de Datos**"
   ]
  },
  {
   "cell_type": "markdown",
   "metadata": {},
   "source": [
    "## Objetivos: \n",
    "   \n",
    "- Introducirlos en el aprendizaje supervisado usando ejemplos aplicados.\n",
    "- Entender el framework de clasificación y la ingeniería de características.\n",
    "- Ver las métricas de evaluación más comunes.\n",
    "- Entender conceptos relacionados con el entrenamiento de un modelo de machine learninig.\n"
   ]
  },
  {
   "cell_type": "markdown",
   "metadata": {},
   "source": [
    "<br>\n",
    "\n",
    "<div align='center'>\n",
    "<img src=\"../../recursos/2023-01/18-Aprendizaje-Supervisado-I/machine_learning.png?raw=true\" alt=\"Panorama General ML: Clasificación supervisada, No supervisada y Aprendizaje Reforzado binario\" width=700/>\n",
    "</div>\n"
   ]
  },
  {
   "cell_type": "markdown",
   "metadata": {},
   "source": [
    "## Aprendizaje Supervisado\n",
    "\n",
    "El aprendizaje supervisado se basa en trabajar con datasets cuyas observaciones son conjuntos de vectores con distintas **características** que describen a algún objeto en particular, y también contienen una **etiqueta/valor real** la cuál asigna una clase o valor a cada objeto. \n",
    "\n",
    "Cuando el valor a predecir es un(a): \n",
    "\n",
    "- Categoría/Etiqueta, el problema que se resuelve se denomina **Clasificación**.\n",
    "- Valor real, el problema que se resuelve se denomina **Regresión**.\n",
    "\n",
    "\n",
    "Las etiquetas pertenecen a un número finito de clases.\n",
    "\n",
    "\n",
    "Por ejemplo, el caso que estemos describiendo a una persona, el vector puede contener las siguentes **features/características**:\n",
    "\n",
    "- su altura en cm, \n",
    "- edad, \n",
    "- peso en kg, \n",
    "- residencia, \n",
    "- etc...\n",
    "\n",
    "Mientras que la **etiqueta** puede ser si la persona *quiere o no contratar un servicio de internet*: $\\{ True, False\\}$ "
   ]
  },
  {
   "cell_type": "code",
   "execution_count": 1,
   "metadata": {},
   "outputs": [
    {
     "data": {
      "text/html": [
       "<div>\n",
       "<style scoped>\n",
       "    .dataframe tbody tr th:only-of-type {\n",
       "        vertical-align: middle;\n",
       "    }\n",
       "\n",
       "    .dataframe tbody tr th {\n",
       "        vertical-align: top;\n",
       "    }\n",
       "\n",
       "    .dataframe thead th {\n",
       "        text-align: right;\n",
       "    }\n",
       "</style>\n",
       "<table border=\"1\" class=\"dataframe\">\n",
       "  <thead>\n",
       "    <tr style=\"text-align: right;\">\n",
       "      <th></th>\n",
       "      <th>Altura</th>\n",
       "      <th>Edad</th>\n",
       "      <th>Peso</th>\n",
       "      <th>Residencia</th>\n",
       "      <th>Posible cliente?</th>\n",
       "    </tr>\n",
       "  </thead>\n",
       "  <tbody>\n",
       "    <tr>\n",
       "      <th>0</th>\n",
       "      <td>177</td>\n",
       "      <td>43</td>\n",
       "      <td>72</td>\n",
       "      <td>Maipú</td>\n",
       "      <td>True</td>\n",
       "    </tr>\n",
       "    <tr>\n",
       "      <th>1</th>\n",
       "      <td>160</td>\n",
       "      <td>16</td>\n",
       "      <td>60</td>\n",
       "      <td>Pudahuel</td>\n",
       "      <td>False</td>\n",
       "    </tr>\n",
       "  </tbody>\n",
       "</table>\n",
       "</div>"
      ],
      "text/plain": [
       "   Altura  Edad  Peso Residencia  Posible cliente?\n",
       "0     177    43    72      Maipú              True\n",
       "1     160    16    60   Pudahuel             False"
      ]
     },
     "execution_count": 1,
     "metadata": {},
     "output_type": "execute_result"
    }
   ],
   "source": [
    "import pandas as pd\n",
    "\n",
    "# ejemplo clasificación\n",
    "pd.DataFrame(\n",
    "    [[177, 43, 72, \"Maipú\", True], [160, 16, 60, \"Pudahuel\", False]],\n",
    "    columns=[\"Altura\", \"Edad\", \"Peso\", \"Residencia\", \"Posible cliente?\"],\n",
    ")"
   ]
  },
  {
   "cell_type": "markdown",
   "metadata": {},
   "source": [
    "Como también lo que está dispuesto a gastar en el plan."
   ]
  },
  {
   "cell_type": "code",
   "execution_count": 2,
   "metadata": {},
   "outputs": [
    {
     "data": {
      "text/html": [
       "<div>\n",
       "<style scoped>\n",
       "    .dataframe tbody tr th:only-of-type {\n",
       "        vertical-align: middle;\n",
       "    }\n",
       "\n",
       "    .dataframe tbody tr th {\n",
       "        vertical-align: top;\n",
       "    }\n",
       "\n",
       "    .dataframe thead th {\n",
       "        text-align: right;\n",
       "    }\n",
       "</style>\n",
       "<table border=\"1\" class=\"dataframe\">\n",
       "  <thead>\n",
       "    <tr style=\"text-align: right;\">\n",
       "      <th></th>\n",
       "      <th>Altura</th>\n",
       "      <th>Edad</th>\n",
       "      <th>Peso</th>\n",
       "      <th>Residencia</th>\n",
       "      <th>Cuánto está dispuesto a pagar?</th>\n",
       "    </tr>\n",
       "  </thead>\n",
       "  <tbody>\n",
       "    <tr>\n",
       "      <th>0</th>\n",
       "      <td>177</td>\n",
       "      <td>43</td>\n",
       "      <td>72</td>\n",
       "      <td>Maipú</td>\n",
       "      <td>55000</td>\n",
       "    </tr>\n",
       "    <tr>\n",
       "      <th>1</th>\n",
       "      <td>160</td>\n",
       "      <td>16</td>\n",
       "      <td>60</td>\n",
       "      <td>Pudahuel</td>\n",
       "      <td>0</td>\n",
       "    </tr>\n",
       "  </tbody>\n",
       "</table>\n",
       "</div>"
      ],
      "text/plain": [
       "   Altura  Edad  Peso Residencia  Cuánto está dispuesto a pagar?\n",
       "0     177    43    72      Maipú                           55000\n",
       "1     160    16    60   Pudahuel                               0"
      ]
     },
     "execution_count": 2,
     "metadata": {},
     "output_type": "execute_result"
    }
   ],
   "source": [
    "# ejemplo regresión\n",
    "pd.DataFrame(\n",
    "    [[177, 43, 72, \"Maipú\", 55000], [160, 16, 60, \"Pudahuel\", 0]],\n",
    "    columns=[\"Altura\", \"Edad\", \"Peso\", \"Residencia\", \"Cuánto está dispuesto a pagar?\"],\n",
    ")"
   ]
  },
  {
   "cell_type": "markdown",
   "metadata": {},
   "source": [
    "El objetivo final del aprendizaje supervisado es crear modelos que permiten **asignar de forma automática categorías o valores a observaciones nuevas**. \n",
    "\n",
    "En términos prácticos, dado una nueva observación representada por un vector de características, el modelo generado debe ser capaz de asignar una etiqueta a dicha observación.\n"
   ]
  },
  {
   "cell_type": "markdown",
   "metadata": {},
   "source": [
    "### Framework General de Aprendizaje Supervisado Clásico\n",
    "\n",
    "La siguiente lista muestra las etapas que debería cumplir un algoritmo de aprendizaje supervisado clásico (i.e., no red neuronal)\n",
    "\n",
    "1. **Feature Engineering y Preprocesamiento**: Recolectar y preparar los datos.\n",
    "2. **Entrenar** un algoritmo de clasificación/regresión usando los datos.\n",
    "3. **Evaluar** qué tan bien clasifica el modelo generado.\n",
    "4. **Optimizar los modelos** modificando sus hiperparámetros."
   ]
  },
  {
   "cell_type": "markdown",
   "metadata": {},
   "source": [
    "\n",
    "\n",
    "El modelo construido debe **generalizar**, es decir, debe ser capaz de realizar predicciones correctas en nuevas observaciones. Para esto es útil pensar que el modelo generado está separando los datos por clases a través de un *decision boundary*. Mientras más holgado sea este *decision boundary*, mejor podrá generalizar el modelo.\n",
    "\n",
    "<div align='center'>\n",
    "<img src='https://github.com/MDS7202/MDS7202/blob/main/recursos/2023-01/18-Aprendizaje-Supervisado-I/overfitting.png?raw=true' witdh=400/>\n",
    "\n",
    "</div>\n",
    "\n",
    "<div align='center'>\n",
    "<a href='https://www.researchgate.net/figure/Example-of-overfitting-in-classification-a-Decision-boundary-that-best-fits-training_fig1_349186066'>Ejemplo de *Overfitting* en researchgate</a>\n",
    "</div>\n",
    "    \n",
    "<br/>\n",
    " \n",
    "### Cómo determinar que algorimo utilizar \n",
    " \n",
    "Lo más importante es la **capacidad predictiva** del modelo.\n",
    "Sin embargo, también hay otros factores muy relevantes que determinarán que algoritmo predictivo utilizar: \n",
    "\n",
    "**Costo computacional y eficiencia**: \n",
    "  - ¿Qué tanto se está demorando mi modelo en entrenar? \n",
    "  - ¿Y en predecir? \n",
    "  - ¿Corre con los recursos que tengo disponible?\n",
    "  - ¿Es posible usarlo en tiempo real para algún tipo de solución online?\n",
    "  \n",
    "**Explicabilidad**: \n",
    "  - ¿Puedo explicar por qué el modelo está clasificando/regresionando de la manera que lo hace? \n",
    "  \n",
    "***Fairness***: \n",
    "  - ¿Mi modelo es injusto con respecto a algún grupo social?\n",
    "\n",
    "***El que rinda mejor***: \n",
    "  - Si todo lo demás se cumple, entonces se mide por desempeño."
   ]
  },
  {
   "cell_type": "markdown",
   "metadata": {},
   "source": [
    "\n",
    "### ¿Cómo saber si un modelo es bueno o no?\n",
    "\n",
    "Lo primero que nos tenemos que preguntar es qué significa ser bueno.\n",
    "\n",
    "1) Resuelva bien el problema planteado, según la métrica adecuada.\n",
    "2) Cumple con los requisitos de los *stakeholders* involucrados (en cuando a *fairness*, interpretabilidad, velocidad).\n",
    "3) Generaliza bien a nuevos datos.\n",
    "\n",
    "\n",
    "Sobre el pto 1, resumimos la capacidad predictiva de un modelo mediante **métricas de desempeño**, las cuales se construyen contrastando los valores predichos versus los valores reales de la variable objetivo (con datos no usados durante entrenamiento)."
   ]
  },
  {
   "cell_type": "markdown",
   "metadata": {},
   "source": [
    "##  Métricas de desempeño Clasificación - Matriz de Confusión"
   ]
  },
  {
   "cell_type": "markdown",
   "metadata": {},
   "source": [
    "<div align='center'>\n",
    "    <img src=\"https://github.com/MDS7202/MDS7202/blob/main/recursos/2023-01/18-Aprendizaje-Supervisado-I/matriz_conf.PNG?raw=true\" alt=\"Ejemplo de una matriz de confusión para un problema de clasificación binario\" width=450/>\n",
    "</div>\n",
    "\n",
    "<center>Ejemplo de una matriz de confusión para un problema de clasificación binario.</center>\n",
    "\n"
   ]
  },
  {
   "cell_type": "markdown",
   "metadata": {},
   "source": [
    "---\n",
    "\n",
    "> Ejemplo: Alergia a cierto medicamento en donde la clase `+` indica alergia.\n",
    "\n",
    "\n",
    "Nuestro dataset tiene 10.000 observaciones distribuidos de la siguiente forma:\n",
    "\n",
    "- Clase `+`: 100 observaciones.\n",
    "- Clase `-`: 9900 observaciones.\n",
    "\n",
    "\n",
    "Luego, creamos un modelo que clasificó nuestro dataset y graficamos sus resultados a través de la siguiente matriz de confusión:\n",
    "\n",
    "\n",
    "|                    | **Predicha (`+`)**  | **Predicha (`-`)** |\n",
    "|--------------------|---------------------|--------------------|\n",
    "| **Real (`+`)**     | 10                  | 90                 |\n",
    "| **Real (`-`)**     | 100                 | 9800               |\n",
    "\n",
    "---\n",
    "\n",
    "> **Pregunta**: ¿Cuáles métricas de desempeño conocen para evaluar este caso?"
   ]
  },
  {
   "cell_type": "markdown",
   "metadata": {},
   "source": [
    "### Métricas de desempeño\n",
    "\n",
    "Métricas basadas en contar datos correcta e incorrectamente clasificados:\n",
    "\n",
    "- **Accuracy (Exactitud)**: $$\\text{accuracy} = \\frac{\\text{número de predicciones correctas}}{\\text{número de predicciones totales}}$$\n",
    "\n",
    "- **Error rate (Tasa de error)**: $$\\text{error rate} = \\frac{\\text{número de predicciones incorrectas}}{\\text{número de predicciones totales}}$$\n",
    "\n",
    "\n",
    "\n",
    "- En nuestro ejemplo anterior: \n",
    "\n",
    "$$\\text{accuracy} = \\frac{9810}{10000} = 0.981$$\n",
    "\n",
    "$$\\text{error rate} = \\frac{190}{10000} = 0.019$$\n",
    "\n",
    "\n",
    "> **Pregunta ❓:** ¿Cuál es el problema de `Accuracy` en nuestro ejemplo?\n",
    "\n",
    "\n",
    "\n",
    "---\n"
   ]
  },
  {
   "cell_type": "markdown",
   "metadata": {},
   "source": [
    "#### Métricas Basadas en la Matriz de Confusión\n",
    "\n",
    "Una posible solución a este problema son las métricas basadas en la matriz de confusión:\n",
    "\n",
    "<div align='center'>\n",
    "    <img src=\"https://github.com/MDS7202/MDS7202/blob/main/recursos/2023-01/18-Aprendizaje-Supervisado-I/matriz_conf.PNG?raw=true\" alt=\"Ejemplo de una matriz de confusión para un problema de clasificación binario\" width=450/>\n",
    "</div>\n",
    "\n",
    "- **Precision**:  Fracción de ejemplos correctamente predichos como `+` con respecto a todos los predichos `+`.\n",
    "\n",
    "$$P = \\frac{\\text{Clasificados correctamente como positivo}}{\\text{Todos los predichos como positivos}} =\\frac{TP}{(TP + FP)}$$\n",
    "\n",
    "\n",
    "<br>\n",
    "\n",
    "- **Recall**: Fracción de ejemplos `+` que son correctamente clasificados sobre el total de ejemplos `+`: \n",
    "\n",
    "$$R = \\frac{\\text{Clasificados correctamente como positivo}}{\\text{Todos los que debería haber clasificado como positivos}}  = \\frac{TP}{(TP+FN)}$$\n",
    "\n",
    "\n",
    "<br>\n",
    "\n",
    "- **F1 measure**: Combina precisión y recall usando una media armónica (i.e., media que castiga si ambos valores son muy diferentes).\n",
    "\n",
    "$$F = \\frac{2PR}{(P+R)}$$\n"
   ]
  },
  {
   "cell_type": "markdown",
   "metadata": {},
   "source": [
    "\n",
    "|                    | **Predicha (`+`)**  | **Predicha (`-`)** |\n",
    "|--------------------|---------------------|--------------------|\n",
    "| **Real (`+`)**     | 10                  | 90                 |\n",
    "| **Real (`-`)**     | 100                 | 9800               |"
   ]
  },
  {
   "cell_type": "markdown",
   "metadata": {},
   "source": [
    "En nuestro ejemplo anterior:\n",
    "\n",
    "\n",
    "$$P = \\frac{10}{110} = 0.\\bar{09}$$\n",
    "\n",
    "$$R = \\frac{10}{100} = 0.1$$\n",
    "\n",
    "$$F = \\frac{2 \\cdot 0.1 \\cdot 0.\\bar{1}}{(0.1 + 0.\\bar{1})} \\approx 0.095$$ \n",
    "\n",
    "Ahora claramente se nota el problema."
   ]
  },
  {
   "cell_type": "markdown",
   "metadata": {},
   "source": [
    "> **Pregunta ❓**: En el caso de un problema de detección de frutas podridas, ¿que nos convendría más utilizar? ¿precision o recall? "
   ]
  },
  {
   "cell_type": "markdown",
   "metadata": {},
   "source": [
    "![](https://www.lavanguardia.com/files/article_main_microformat/uploads/2019/11/05/5e9979d2bdba1.jpeg)"
   ]
  },
  {
   "cell_type": "markdown",
   "metadata": {},
   "source": [
    "#### Matriz de confusión multiclase\n",
    "\n",
    "Cuando tenemos $k$ clases, la matriz de confusión es una matriz de $k \\times k$.\n",
    "\n",
    "<div align='center'>\n",
    "<img src=\"https://github.com/MDS7202/MDS7202/blob/main/recursos/2023-01/18-Aprendizaje-Supervisado-I/matriz_conf_multiclase.png?raw=true\" alt=\"Ejemplo de una matriz de confusión para un problema de clasificación binario\" style=\"width: 500px;\"/>\n",
    "</div>\n",
    "\n",
    "¿Cómo calculamos las métricas?\n",
    "\n",
    "\n",
    "#### Métricas de Desempeño Generalizadas: \n",
    "\n",
    "\n",
    "- Precision: Fracción de ejemplos asignados a la clase `i` que son realmente de la clase `i`. Finalmente, es la fracción de casos en los que declaramos correctamente 𝑖 de todos los casos en los que el algoritmo declaró 𝑖.\n",
    "\n",
    "$$\\text{precision} = \\frac{c_{ii}}{\\sum_{j}c_{ji}}$$\n",
    "\n",
    "\n",
    "- Recall: Fracción de ejemplos de la clase `i` correctamente clasificados. Recall es la fracción de eventos en los que declaramos correctamente 𝑖 de todos los casos en los que el verdadero estado 𝑖: \n",
    "\n",
    "$$\\text{recall} = \\frac{c_{ii}}{\\sum_{j}c_{ij}}$$\n",
    "\n",
    "- Accuracy: Fracción de ejemplos correctamente clasificados:\n",
    "\n",
    "$$\\text{accuracy} = \\frac{\\sum_{i}c_{ii}}{\\sum_{j}\\sum_{i}c_{ij}}$$\n",
    "\n",
    "#### Estrategia de Agregación\n",
    "\n",
    "- **Macroaveraging**\n",
    "    - Computar métrica para cada clase y luego promediar. \n",
    "    - Sobrerepresentan clases minoritarias al tratar a todas por igual.\n",
    "\n",
    "- **Weighted**\n",
    "    - Computar métrica para cada clase y luego hace un promedio ponderado por el número de ejemplos de esa clase.\n",
    "    - Al ser ponderado por el número de casos, da más prioridad a las clases frecuentes.\n",
    "\n",
    "- **Microaveraging**\n",
    "    - Computar métrica sobre los resultados globales, sin discriminar por clase. \n",
    "    - Refleja el rendimiendo global del modelo, agnóstico a la clases.\n",
    "\n",
    "\n",
    "`Scikit` provee un acceso rápido a todas estas métricas a través de su función `sklearn.metrics.classification_report`"
   ]
  },
  {
   "cell_type": "markdown",
   "metadata": {},
   "source": [
    "## Generalización - Underfitting y Overfitting\n",
    "\n",
    "Errores de entrenamiento o **Underfitting**. \n",
    "- Malos resultados sobre los datos de entrenamiento\n",
    "- El clasificador no tiene capacidad de aprender el patrón.\n",
    "\n",
    "Errores de generalización o **Overfitting**. \n",
    "- Malos resultados sobre datos nuevos \n",
    "- El modelo se hace demasiado específico a los datos de entrenamiento. \n",
    "\n",
    "\n",
    "<div align='center'>\n",
    "<img src='https://github.com/MDS7202/MDS7202/blob/main/recursos/2023-01/18-Aprendizaje-Supervisado-I/tipos_fit.png?raw=true' width=800/>\n",
    "</div>\n",
    "\n",
    "<div align='center'>\n",
    "    Fuente: The Hundred-Page Machine Learning Book.\n",
    "</div>"
   ]
  },
  {
   "cell_type": "markdown",
   "metadata": {
    "ExecuteTime": {
     "end_time": "2020-09-07T19:45:34.649513Z",
     "start_time": "2020-09-07T19:45:34.617566Z"
    },
    "tags": []
   },
   "source": [
    "## Nuestro problema de hoy: Pingüinos  🐧\n",
    "\n",
    "\n",
    "Origen del dataset:\n",
    "\n",
    "**Palmer Archipelago (Antarctica) penguin data**: \n",
    "\n",
    "*Data were collected and made available by Dr. Kristen Gorman and the Palmer Station, Antarctica LTER, a member of the Long Term Ecological Research Network.*\n",
    "\n",
    "https://github.com/allisonhorst/palmerpenguins\n",
    "\n",
    "![Pinguinos](https://raw.githubusercontent.com/allisonhorst/palmerpenguins/master/man/figures/lter_penguins.png)\n",
    "\n",
    "\n",
    "    \n",
    "    \n"
   ]
  },
  {
   "cell_type": "markdown",
   "metadata": {},
   "source": [
    "### Atributos\n",
    " \n",
    "- `culmen_length_mm`: Largo del culmen (vértice o borde superior de la mandíbula)  (mm).\n",
    "- `culmen_depth_mm`: Alto del culmen (vértice o borde superior de la mandíbula) (mm).\n",
    "- `flipper_length_mm`: Longitud de las aletas (mm).\n",
    "- `body_mass_g`: Masa corporal (g).\n",
    "- `island`: Isla de origen (Dream, Torgersen, or Biscoe) en el archipiélago de Palmer (Antarctica).\n",
    "- `sex`: Sexo del pinguino.\n",
    "\n",
    "![Detalle Variables](https://allisonhorst.github.io/palmerpenguins/reference/figures/culmen_depth.png)\n",
    "    \n",
    "<center>Créditos a Allison Horst por sus excelentes ilustraciones https://github.com/allisonhorst </center>    \n",
    "    \n",
    "    \n",
    "### Variable a predecir\n",
    "\n",
    "- `species`: Especie del pinguino (Chinstrap, Adélie, or Gentoo)"
   ]
  },
  {
   "cell_type": "markdown",
   "metadata": {
    "ExecuteTime": {
     "end_time": "2020-09-07T18:13:05.372393Z",
     "start_time": "2020-09-07T18:13:05.369428Z"
    }
   },
   "source": [
    "### Exploración y Preprocesamiento\n"
   ]
  },
  {
   "cell_type": "code",
   "execution_count": 3,
   "metadata": {
    "ExecuteTime": {
     "end_time": "2020-09-11T17:43:11.786261Z",
     "start_time": "2020-09-11T17:43:11.778282Z"
    }
   },
   "outputs": [],
   "source": [
    "import numpy as np\n",
    "import pandas as pd\n",
    "from sklearn.metrics import classification_report, confusion_matrix"
   ]
  },
  {
   "cell_type": "code",
   "execution_count": 4,
   "metadata": {
    "ExecuteTime": {
     "end_time": "2020-09-11T17:43:11.818175Z",
     "start_time": "2020-09-11T17:43:11.788255Z"
    }
   },
   "outputs": [
    {
     "data": {
      "text/html": [
       "<div>\n",
       "<style scoped>\n",
       "    .dataframe tbody tr th:only-of-type {\n",
       "        vertical-align: middle;\n",
       "    }\n",
       "\n",
       "    .dataframe tbody tr th {\n",
       "        vertical-align: top;\n",
       "    }\n",
       "\n",
       "    .dataframe thead th {\n",
       "        text-align: right;\n",
       "    }\n",
       "</style>\n",
       "<table border=\"1\" class=\"dataframe\">\n",
       "  <thead>\n",
       "    <tr style=\"text-align: right;\">\n",
       "      <th></th>\n",
       "      <th>species</th>\n",
       "      <th>island</th>\n",
       "      <th>culmen_length_mm</th>\n",
       "      <th>culmen_depth_mm</th>\n",
       "      <th>flipper_length_mm</th>\n",
       "      <th>body_mass_g</th>\n",
       "      <th>sex</th>\n",
       "    </tr>\n",
       "  </thead>\n",
       "  <tbody>\n",
       "    <tr>\n",
       "      <th>0</th>\n",
       "      <td>Adelie</td>\n",
       "      <td>Torgersen</td>\n",
       "      <td>39.1</td>\n",
       "      <td>18.7</td>\n",
       "      <td>181.0</td>\n",
       "      <td>3750.0</td>\n",
       "      <td>MALE</td>\n",
       "    </tr>\n",
       "    <tr>\n",
       "      <th>1</th>\n",
       "      <td>Adelie</td>\n",
       "      <td>Torgersen</td>\n",
       "      <td>39.5</td>\n",
       "      <td>17.4</td>\n",
       "      <td>186.0</td>\n",
       "      <td>3800.0</td>\n",
       "      <td>FEMALE</td>\n",
       "    </tr>\n",
       "    <tr>\n",
       "      <th>2</th>\n",
       "      <td>Adelie</td>\n",
       "      <td>Torgersen</td>\n",
       "      <td>40.3</td>\n",
       "      <td>18.0</td>\n",
       "      <td>195.0</td>\n",
       "      <td>3250.0</td>\n",
       "      <td>FEMALE</td>\n",
       "    </tr>\n",
       "    <tr>\n",
       "      <th>3</th>\n",
       "      <td>Adelie</td>\n",
       "      <td>Torgersen</td>\n",
       "      <td>36.7</td>\n",
       "      <td>19.3</td>\n",
       "      <td>193.0</td>\n",
       "      <td>3450.0</td>\n",
       "      <td>FEMALE</td>\n",
       "    </tr>\n",
       "    <tr>\n",
       "      <th>4</th>\n",
       "      <td>Adelie</td>\n",
       "      <td>Torgersen</td>\n",
       "      <td>39.3</td>\n",
       "      <td>20.6</td>\n",
       "      <td>190.0</td>\n",
       "      <td>3650.0</td>\n",
       "      <td>MALE</td>\n",
       "    </tr>\n",
       "    <tr>\n",
       "      <th>...</th>\n",
       "      <td>...</td>\n",
       "      <td>...</td>\n",
       "      <td>...</td>\n",
       "      <td>...</td>\n",
       "      <td>...</td>\n",
       "      <td>...</td>\n",
       "      <td>...</td>\n",
       "    </tr>\n",
       "    <tr>\n",
       "      <th>329</th>\n",
       "      <td>Gentoo</td>\n",
       "      <td>Biscoe</td>\n",
       "      <td>47.2</td>\n",
       "      <td>13.7</td>\n",
       "      <td>214.0</td>\n",
       "      <td>4925.0</td>\n",
       "      <td>FEMALE</td>\n",
       "    </tr>\n",
       "    <tr>\n",
       "      <th>330</th>\n",
       "      <td>Gentoo</td>\n",
       "      <td>Biscoe</td>\n",
       "      <td>46.8</td>\n",
       "      <td>14.3</td>\n",
       "      <td>215.0</td>\n",
       "      <td>4850.0</td>\n",
       "      <td>FEMALE</td>\n",
       "    </tr>\n",
       "    <tr>\n",
       "      <th>331</th>\n",
       "      <td>Gentoo</td>\n",
       "      <td>Biscoe</td>\n",
       "      <td>50.4</td>\n",
       "      <td>15.7</td>\n",
       "      <td>222.0</td>\n",
       "      <td>5750.0</td>\n",
       "      <td>MALE</td>\n",
       "    </tr>\n",
       "    <tr>\n",
       "      <th>332</th>\n",
       "      <td>Gentoo</td>\n",
       "      <td>Biscoe</td>\n",
       "      <td>45.2</td>\n",
       "      <td>14.8</td>\n",
       "      <td>212.0</td>\n",
       "      <td>5200.0</td>\n",
       "      <td>FEMALE</td>\n",
       "    </tr>\n",
       "    <tr>\n",
       "      <th>333</th>\n",
       "      <td>Gentoo</td>\n",
       "      <td>Biscoe</td>\n",
       "      <td>49.9</td>\n",
       "      <td>16.1</td>\n",
       "      <td>213.0</td>\n",
       "      <td>5400.0</td>\n",
       "      <td>MALE</td>\n",
       "    </tr>\n",
       "  </tbody>\n",
       "</table>\n",
       "<p>334 rows × 7 columns</p>\n",
       "</div>"
      ],
      "text/plain": [
       "    species     island  culmen_length_mm  culmen_depth_mm  flipper_length_mm  \\\n",
       "0    Adelie  Torgersen              39.1             18.7              181.0   \n",
       "1    Adelie  Torgersen              39.5             17.4              186.0   \n",
       "2    Adelie  Torgersen              40.3             18.0              195.0   \n",
       "3    Adelie  Torgersen              36.7             19.3              193.0   \n",
       "4    Adelie  Torgersen              39.3             20.6              190.0   \n",
       "..      ...        ...               ...              ...                ...   \n",
       "329  Gentoo     Biscoe              47.2             13.7              214.0   \n",
       "330  Gentoo     Biscoe              46.8             14.3              215.0   \n",
       "331  Gentoo     Biscoe              50.4             15.7              222.0   \n",
       "332  Gentoo     Biscoe              45.2             14.8              212.0   \n",
       "333  Gentoo     Biscoe              49.9             16.1              213.0   \n",
       "\n",
       "     body_mass_g     sex  \n",
       "0         3750.0    MALE  \n",
       "1         3800.0  FEMALE  \n",
       "2         3250.0  FEMALE  \n",
       "3         3450.0  FEMALE  \n",
       "4         3650.0    MALE  \n",
       "..           ...     ...  \n",
       "329       4925.0  FEMALE  \n",
       "330       4850.0  FEMALE  \n",
       "331       5750.0    MALE  \n",
       "332       5200.0  FEMALE  \n",
       "333       5400.0    MALE  \n",
       "\n",
       "[334 rows x 7 columns]"
      ]
     },
     "execution_count": 4,
     "metadata": {},
     "output_type": "execute_result"
    }
   ],
   "source": [
    "df = (\n",
    "    pd.read_csv(\"../../recursos/2023-01/18-Aprendizaje-Supervisado-I/penguins.csv\")\n",
    "    .dropna()\n",
    "    .reset_index(drop=True)\n",
    ")\n",
    "df"
   ]
  },
  {
   "cell_type": "code",
   "execution_count": 5,
   "metadata": {},
   "outputs": [
    {
     "data": {
      "text/plain": [
       "Index(['species', 'island', 'culmen_length_mm', 'culmen_depth_mm',\n",
       "       'flipper_length_mm', 'body_mass_g', 'sex'],\n",
       "      dtype='object')"
      ]
     },
     "execution_count": 5,
     "metadata": {},
     "output_type": "execute_result"
    }
   ],
   "source": [
    "df.columns"
   ]
  },
  {
   "cell_type": "code",
   "execution_count": 6,
   "metadata": {
    "ExecuteTime": {
     "end_time": "2020-09-11T17:43:11.906937Z",
     "start_time": "2020-09-11T17:43:11.822164Z"
    }
   },
   "outputs": [
    {
     "data": {
      "application/vnd.plotly.v1+json": {
       "config": {
        "plotlyServerURL": "https://plot.ly"
       },
       "data": [
        {
         "dimensions": [
          {
           "axis": {
            "matches": true
           },
           "label": "culmen_length_mm",
           "values": {
            "bdata": "zczMzMyMQ0AAAAAAAMBDQGZmZmZmJkRAmpmZmZlZQkBmZmZmZqZDQDMzMzMzc0NAmpmZmZmZQ0DNzMzMzIxEQM3MzMzMTENAzczMzMxMQUDNzMzMzExCQJqZmZmZWUNAAAAAAABARUAzMzMzMzNBQAAAAAAAAEdAZmZmZmbmQkCamZmZmdlCQDMzMzMz80FAmpmZmZkZQ0BmZmZmZmZDQGZmZmZmpkFAzczMzMxMREAAAAAAAEBEQDMzMzMz80JAAAAAAABAREAAAAAAAMBDQJqZmZmZmUJAAAAAAADAQ0AzMzMzM3NEQDMzMzMzM0JAmpmZmZmZQ0BmZmZmZmZDQJqZmZmZGUVAzczMzMzMQkBmZmZmZuZDQAAAAAAAQEJAZmZmZmZmREAAAAAAAABCQM3MzMzMDEZAAAAAAACAQkDNzMzMzMxDQM3MzMzMjERAAAAAAAAAQkBmZmZmZiZFQM3MzMzMzENAzczMzMwMREAAAAAAAIBBQAAAAAAAAEVAAAAAAABAQUAzMzMzM7NEQAAAAAAAgENAzczMzMxMREAAAAAAAEBCQM3MzMzMzEJAmpmZmZnZQUBmZmZmZqZEQM3MzMzMzEJAzczMzMyMREAzMzMzMzNCQM3MzMzMzERAAAAAAADAQUDNzMzMzIxEQDMzMzMz80FAZmZmZmbmREAAAAAAAMBAQJqZmZmZ2UNAzczMzMzMQ0BmZmZmZuZGQAAAAAAAwEFAZmZmZmZmRUAzMzMzM3NEQJqZmZmZmUJAmpmZmZkZQkDNzMzMzAxFQM3MzMzMTEFAMzMzMzNzRUCamZmZmVlCQM3MzMzMjEFAZmZmZmamQkBmZmZmZqZEQGZmZmZmJkJAMzMzMzNzQkBmZmZmZiZDQDMzMzMzc0NAmpmZmZnZQUDNzMzMzIxEQAAAAAAAAEFAzczMzMzMQ0CamZmZmRlCQGZmZmZmZkRAzczMzMwMQ0BmZmZmZiZEQM3MzMzMjEBAmpmZmZmZRUAAAAAAAIBBQAAAAAAAgERAmpmZmZnZQkBmZmZmZuZCQDMzMzMz80JAmpmZmZnZQ0DNzMzMzExDQJqZmZmZGUNAzczMzMwMQ0CamZmZmZlFQM3MzMzMDENAzczMzMzMRkCamZmZmdlDQJqZmZmZGUVAzczMzMzMQ0CamZmZmVlFQM3MzMzMTENAZmZmZmamQkCamZmZmdlBQM3MzMzMjERAmpmZmZkZQkCamZmZmdlCQJqZmZmZGURAMzMzMzOzRECamZmZmZlBQM3MzMzMTERAZmZmZmZmQ0AAAAAAAMBEQAAAAAAAgENAzczMzMwMRkAAAAAAAEBDQM3MzMzMjEVAZmZmZmZmQkAAAAAAAMBCQM3MzMzMDENAzczMzMyMREDNzMzMzMxBQJqZmZmZGURAAAAAAACAQkCamZmZmdlDQJqZmZmZGURAzczMzMxMREDNzMzMzAxAQJqZmZmZWURAZmZmZmamQkAAAAAAAIBDQJqZmZmZmUNAzczMzMxMQkAAAAAAAABCQGZmZmZm5kJAAAAAAAAAQkAAAAAAAMBEQA==",
            "dtype": "f8"
           }
          },
          {
           "axis": {
            "matches": true
           },
           "label": "culmen_depth_mm",
           "values": {
            "bdata": "MzMzMzOzMkBmZmZmZmYxQAAAAAAAADJAzczMzMxMM0CamZmZmZk0QM3MzMzMzDFAmpmZmZmZM0CamZmZmZkxQDMzMzMzMzVAmpmZmZkZNUDNzMzMzMwxQAAAAAAAADNAMzMzMzOzNEBmZmZmZmYyQAAAAAAAgDVAzczMzMxMMkAzMzMzM7MyQDMzMzMzMzNAmpmZmZkZMkAzMzMzMzMxQGZmZmZm5jJAmpmZmZmZMkBmZmZmZuYxQJqZmZmZmTJAZmZmZmbmMkAzMzMzM7MwQJqZmZmZGTJAzczMzMzMMUBmZmZmZuYyQAAAAAAAADFAmpmZmZkZNUAAAAAAAAA0QAAAAAAAgDJAzczMzMxMM0CamZmZmRkzQAAAAAAAADJAZmZmZmZmMkAAAAAAAIAyQDMzMzMzszNAZmZmZmbmMEDNzMzMzMwyQAAAAAAAADNAZmZmZmbmMUAzMzMzMzM1QDMzMzMzszFAZmZmZmbmMkBmZmZmZuYxQAAAAAAAgDNAmpmZmZkZMkCamZmZmZkyQAAAAAAAgDFAzczMzMzMMkCamZmZmZkwQJqZmZmZGTNAZmZmZmbmMECamZmZmRk1QAAAAAAAADFAMzMzMzMzMkCamZmZmRkxQAAAAAAAADJAMzMzMzMzMECamZmZmRkzQJqZmZmZmTBAZmZmZmZmM0AAAAAAAAAzQGZmZmZmZjJAMzMzMzMzMUBmZmZmZuYyQAAAAAAAgDFAAAAAAACAMkDNzMzMzMwwQGZmZmZmZjNAmpmZmZkZMECamZmZmRkzQDMzMzMzMzFAmpmZmZmZMUDNzMzMzMwyQGZmZmZmZjNAzczMzMzMMUDNzMzMzEw0QAAAAAAAgDNAmpmZmZmZMkAzMzMzMzMzQM3MzMzMzDJAAAAAAAAAMkCamZmZmRkyQJqZmZmZGTFAmpmZmZkZMkDNzMzMzEwxQGZmZmZm5jJAmpmZmZmZMkAAAAAAAIAyQJqZmZmZGTBAAAAAAACAMkBmZmZmZuYxQAAAAAAAADRAAAAAAAAAMEAAAAAAAAA0QJqZmZmZmTJAZmZmZmbmMkAzMzMzMzMxQAAAAAAAADRAAAAAAAAAMUAAAAAAAAAzQAAAAAAAgDBAzczMzMxMNEAzMzMzM7MxQAAAAAAAgDNAMzMzMzOzNEDNzMzMzEwyQAAAAAAAADFAAAAAAACANEAAAAAAAAAxQJqZmZmZmTJAMzMzMzMzMUDNzMzMzMwzQAAAAAAAADFAAAAAAACAMkDNzMzMzMwvQAAAAAAAADNAmpmZmZmZMUDNzMzMzEwyQJqZmZmZGTFAAAAAAAAAMkBmZmZmZuYxQDMzMzMzMzNAAAAAAACAMkAAAAAAAIAyQJqZmZmZmTFAAAAAAACAMUAAAAAAAIAxQJqZmZmZGTRAAAAAAACAMEBmZmZmZuYxQJqZmZmZGTFAMzMzMzMzMUAAAAAAAAAvQAAAAAAAADFAzczMzMzMMEAzMzMzM7MyQJqZmZmZmTJAZmZmZmZmMkDNzMzMzMwxQJqZmZmZGTJAmpmZmZkZMUAAAAAAAIAyQA==",
            "dtype": "f8"
           }
          },
          {
           "axis": {
            "matches": true
           },
           "label": "flipper_length_mm",
           "values": {
            "bdata": "AAAAAACgZkAAAAAAAEBnQAAAAAAAYGhAAAAAAAAgaEAAAAAAAMBnQAAAAAAAoGZAAAAAAABgaEAAAAAAAMBmQAAAAAAA4GdAAAAAAADAaEAAAAAAACBnQAAAAAAAYGhAAAAAAACgaEAAAAAAAABnQAAAAAAAQGhAAAAAAADAZUAAAAAAAIBmQAAAAAAAoGdAAAAAAAAgZ0AAAAAAAIBmQAAAAAAAYGdAAAAAAADgZkAAAAAAAGBnQAAAAAAAgGVAAAAAAACAZkAAAAAAAEBmQAAAAAAAQGZAAAAAAACAZ0AAAAAAAABnQAAAAAAAYGhAAAAAAACAaEAAAAAAAMBnQAAAAAAAgGZAAAAAAACgZkAAAAAAAABnQAAAAAAAwGZAAAAAAABgaEAAAAAAAEBnQAAAAAAAgGhAAAAAAAAgZ0AAAAAAAMBnQAAAAAAAwGZAAAAAAADAZ0AAAAAAAOBnQAAAAAAAQGdAAAAAAACAZ0AAAAAAAMBnQAAAAAAAAGlAAAAAAABgZ0AAAAAAAOBnQAAAAAAAQGdAAAAAAAAgaEAAAAAAAKBmQAAAAAAAQGhAAAAAAAAgZ0AAAAAAAGBoQAAAAAAAIGdAAAAAAAAAaEAAAAAAAABnQAAAAAAAAGhAAAAAAABgaEAAAAAAAIBnQAAAAAAAwGdAAAAAAADAaEAAAAAAAMBnQAAAAAAAwGdAAAAAAACAaEAAAAAAAKBoQAAAAAAAwGdAAAAAAABgaEAAAAAAAOBnQAAAAAAAAGdAAAAAAABgZ0AAAAAAAGBoQAAAAAAAoGdAAAAAAACAaEAAAAAAAGBnQAAAAAAAIGhAAAAAAADgZ0AAAAAAAEBoQAAAAAAAwGdAAAAAAACgZ0AAAAAAAKBnQAAAAAAAwGdAAAAAAABAaUAAAAAAAKBpQAAAAAAAIGdAAAAAAABAZ0AAAAAAAGBnQAAAAAAAAGpAAAAAAADAZ0AAAAAAAIBoQAAAAAAAQGZAAAAAAAAAaEAAAAAAAABoQAAAAAAAYGlAAAAAAADgZkAAAAAAAMBnQAAAAAAAIGhAAAAAAAAAZ0AAAAAAAOBoQAAAAAAAwGdAAAAAAACgZkAAAAAAAKBoQAAAAAAAwGhAAAAAAADgZ0AAAAAAACBoQAAAAAAAoGhAAAAAAADgZ0AAAAAAAIBoQAAAAAAAgGdAAAAAAADgaEAAAAAAAKBnQAAAAAAAoGdAAAAAAABgZ0AAAAAAAMBoQAAAAAAAAGZAAAAAAABAaUAAAAAAAEBnQAAAAAAA4GhAAAAAAADgZ0AAAAAAAGBoQAAAAAAA4GdAAAAAAABAakAAAAAAAMBnQAAAAAAAoGhAAAAAAAAgaEAAAAAAAOBoQAAAAAAAYGdAAAAAAADAZ0AAAAAAAOBnQAAAAAAAAGlAAAAAAAAgZ0AAAAAAACBoQAAAAAAAIGhAAAAAAABgZ0AAAAAAAIBnQAAAAAAAwGdAAAAAAAAAaEAAAAAAACBnQAAAAAAAwGdAAAAAAAAAZ0AAAAAAAGBoQAAAAAAAIGhAAAAAAABgZ0AAAAAAACBpQA==",
            "dtype": "f8"
           }
          },
          {
           "axis": {
            "matches": true
           },
           "label": "body_mass_g",
           "values": {
            "bdata": "AAAAAABMrUAAAAAAALCtQAAAAAAAZKlAAAAAAAD0qkAAAAAAAISsQAAAAAAAUqxAAAAAAABDskAAAAAAAACpQAAAAAAAsK1AAAAAAAAwsUAAAAAAAOisQAAAAAAA9KpAAAAAAACUsUAAAAAAAPqpQAAAAAAAaLBAAAAAAACQqkAAAAAAACCsQAAAAAAAsK1AAAAAAADcrkAAAAAAALCtQAAAAAAAsK1AAAAAAAC8q0AAAAAAAACpQAAAAAAAnKhAAAAAAADcrkAAAAAAAGSpQAAAAAAAeK5AAAAAAADIqUAAAAAAAHiuQAAAAAAA+qlAAAAAAAA2sEAAAAAAANyuQAAAAAAAvKtAAAAAAADIqUAAAAAAACqyQAAAAAAAnKhAAAAAAAB4rkAAAAAAADioQAAAAAAAMLFAAAAAAABwp0AAAAAAAPixQAAAAAAAwqpAAAAAAAD0qkAAAAAAADawQAAAAAAAWKtAAAAAAADMsEAAAAAAAPSqQAAAAAAApK9AAAAAAACopkAAAAAAAOisQAAAAAAAvKtAAAAAAACwrUAAAAAAAESmQAAAAAAATK1AAAAAAACcqEAAAAAAADCxQAAAAAAAIKxAAAAAAACkr0AAAAAAAESmQAAAAAAA3K5AAAAAAAAsqkAAAAAAAASwQAAAAAAA1KdAAAAAAABisUAAAAAAACCsQAAAAAAAeK5AAAAAAAC8q0AAAAAAADawQAAAAAAA6KxAAAAAAACasEAAAAAAAOisQAAAAAAAeK5AAAAAAAC8q0AAAAAAAECvQAAAAAAAAKlAAAAAAABcskAAAAAAALCtQAAAAAAAaLBAAAAAAAAsqkAAAAAAALyrQAAAAAAAsK1AAAAAAABYq0AAAAAAANyuQAAAAAAAIKxAAAAAAAC8q0AAAAAAAMywQAAAAAAAkKpAAAAAAABisUAAAAAAAMipQAAAAAAAzLBAAAAAAADorEAAAAAAAP6wQAAAAAAAqKZAAAAAAAAEsEAAAAAAABqtQAAAAAAAdbJAAAAAAAAGqEAAAAAAAJqwQAAAAAAA2qZAAAAAAAC8q0AAAAAAAEytQAAAAAAAeK5AAAAAAADOqEAAAAAAAKeyQAAAAAAA4q1AAAAAAAD4sUAAAAAAAACpQAAAAAAAs7BAAAAAAAB4rkAAAAAAANavQAAAAAAAqKZAAAAAAAB+rUAAAAAAACyqQAAAAAAA+qlAAAAAAACcqEAAAAAAAFirQAAAAAAA9KpAAAAAAABGrkAAAAAAANSnQAAAAAAAQK9AAAAAAACWqUAAAAAAAMywQAAAAAAA1KdAAAAAAABAr0AAAAAAAPqpQAAAAAAAWKtAAAAAAABYq0AAAAAAAHuxQAAAAAAAwqpAAAAAAAB4rkAAAAAAAM6oQAAAAAAADq9AAAAAAACQqkAAAAAAAJqwQAAAAAAAkKpAAAAAAAAmq0AAAAAAANSnQAAAAAAAGq1AAAAAAABwp0AAAAAAAISsQAAAAAAAmrBAAAAAAAAmq0AAAAAAAPSqQAAAAAAATK1AAAAAAADorEAAAAAAAECvQA==",
            "dtype": "f8"
           }
          }
         ],
         "hovertemplate": "species=Adelie<br>%{xaxis.title.text}=%{x}<br>%{yaxis.title.text}=%{y}<extra></extra>",
         "legendgroup": "Adelie",
         "marker": {
          "color": "#636efa",
          "symbol": "circle"
         },
         "name": "Adelie",
         "showlegend": true,
         "type": "splom"
        },
        {
         "dimensions": [
          {
           "axis": {
            "matches": true
           },
           "label": "culmen_length_mm",
           "values": {
            "bdata": "AAAAAABAR0AAAAAAAABJQGZmZmZmpklAMzMzMzOzRkCamZmZmVlKQJqZmZmZmUZAzczMzMwMR0BmZmZmZqZJQAAAAAAAAEdAZmZmZmamSUDNzMzMzExHQJqZmZmZ2UlAAAAAAACAR0AAAAAAAABKQDMzMzMz80ZAAAAAAABASUBmZmZmZiZJQAAAAAAAAE1AMzMzMzMzR0CamZmZmZlIQDMzMzMzM0VAAAAAAABASECamZmZmZlFQM3MzMzMTElAmpmZmZlZR0AAAAAAAABKQAAAAAAAQElAAAAAAADASEAzMzMzMzNHQGZmZmZmZkpAMzMzMzNzRECamZmZmRlLQAAAAAAAQEVAAAAAAACASUCamZmZmdlIQAAAAAAAwEdAzczMzMzMR0AAAAAAAABKQDMzMzMzc0dAAAAAAADASkAAAAAAAIBIQJqZmZmZGUdAMzMzMzNzSUAAAAAAAMBGQDMzMzMzc0lAZmZmZmZmSUDNzMzMzAxJQAAAAAAAgEhAAAAAAADASUBmZmZmZuZIQM3MzMzMDEhAMzMzMzOzSUCamZmZmdlGQJqZmZmZWUlAAAAAAABARUCamZmZmRlKQJqZmZmZmUZAZmZmZmamSECamZmZmRlJQM3MzMzMzEZAMzMzMzPzSUBmZmZmZmZHQJqZmZmZ2UZAZmZmZmbmS0AAAAAAAMBFQM3MzMzMzEhAZmZmZmZmSUCamZmZmRlJQA==",
            "dtype": "f8"
           }
          },
          {
           "axis": {
            "matches": true
           },
           "label": "culmen_depth_mm",
           "values": {
            "bdata": "ZmZmZmbmMUAAAAAAAIAzQDMzMzMzMzNAMzMzMzOzMkDNzMzMzMwzQM3MzMzMzDFAMzMzMzMzMkAzMzMzMzMyQGZmZmZm5jJAZmZmZmbmM0DNzMzMzMwxQM3MzMzMTDRAzczMzMxMMUCamZmZmRkyQJqZmZmZGTFAmpmZmZmZM0AAAAAAAAA0QM3MzMzMzDFAmpmZmZmZMkAzMzMzMzMyQM3MzMzMTDFAAAAAAACAMUCamZmZmZkwQGZmZmZmZjNAZmZmZmbmMUAAAAAAAAAzQGZmZmZmZjJAAAAAAAAAM0DNzMzMzMwxQAAAAAAAADRAmpmZmZmZMEDNzMzMzMw0QDMzMzMzszBAzczMzMzMMkCamZmZmZkyQM3MzMzMzDBAzczMzMxMMkAzMzMzM7M0QJqZmZmZmTBAZmZmZmbmM0AAAAAAAIAzQAAAAAAAgDFAmpmZmZkZM0AAAAAAAAAxQGZmZmZm5jFAAAAAAACAMkBmZmZmZuYxQJqZmZmZmTNAMzMzMzOzMkDNzMzMzEwxQGZmZmZmZjBAAAAAAAAAM0DNzMzMzEwxQDMzMzMzszNAzczMzMxMMUDNzMzMzMwyQJqZmZmZmTBAZmZmZmbmM0DNzMzMzMwyQGZmZmZmZjNAAAAAAACAM0AAAAAAAIAwQAAAAAAAADFAzczMzMzMM0CamZmZmRkyQDMzMzMzMzJAAAAAAAAAM0AzMzMzM7MyQA==",
            "dtype": "f8"
           }
          },
          {
           "axis": {
            "matches": true
           },
           "label": "flipper_length_mm",
           "values": {
            "bdata": "AAAAAAAAaEAAAAAAAIBoQAAAAAAAIGhAAAAAAACAZ0AAAAAAAKBoQAAAAAAAwGhAAAAAAABAZkAAAAAAAKBoQAAAAAAAYGhAAAAAAADAaEAAAAAAACBoQAAAAAAAQGhAAAAAAAAgZ0AAAAAAACBpQAAAAAAAwGdAAAAAAAAgaUAAAAAAAKBoQAAAAAAAoGZAAAAAAADAZ0AAAAAAAGBoQAAAAAAAoGZAAAAAAADgZ0AAAAAAAGBnQAAAAAAAIGhAAAAAAABgaEAAAAAAAKBoQAAAAAAAAGlAAAAAAAAAaUAAAAAAAOBnQAAAAAAAoGlAAAAAAABgZ0AAAAAAACBpQAAAAAAAYGdAAAAAAABgaUAAAAAAAGBoQAAAAAAA4GhAAAAAAABgaEAAAAAAAEBqQAAAAAAAAGhAAAAAAACgaUAAAAAAAEBqQAAAAAAAYGdAAAAAAACAaEAAAAAAAIBoQAAAAAAAgGhAAAAAAAAgaUAAAAAAAMBnQAAAAAAAgGpAAAAAAABgZ0AAAAAAAMBoQAAAAAAA4GhAAAAAAAAgaUAAAAAAACBoQAAAAAAAYGlAAAAAAABgZ0AAAAAAAKBoQAAAAAAA4GdAAAAAAABgaUAAAAAAAEBpQAAAAAAAQGhAAAAAAADAaUAAAAAAAKBnQAAAAAAAYGhAAAAAAADgaUAAAAAAAEBpQAAAAAAAIGhAAAAAAABAakAAAAAAAMBoQA==",
            "dtype": "f8"
           }
          },
          {
           "axis": {
            "matches": true
           },
           "label": "body_mass_g",
           "values": {
            "bdata": "AAAAAABYq0AAAAAAAHiuQAAAAAAAhKxAAAAAAACKq0AAAAAAABqtQAAAAAAA3K5AAAAAAABkqUAAAAAAAEytQAAAAAAANrBAAAAAAADorEAAAAAAALCtQAAAAAAAfq1AAAAAAADorEAAAAAAAKSvQAAAAAAA7qtAAAAAAACkr0AAAAAAAMipQAAAAAAA6KxAAAAAAAD0qkAAAAAAADCxQAAAAAAAIKxAAAAAAACQqkAAAAAAAKimQAAAAAAAsK1AAAAAAADIqUAAAAAAADawQAAAAAAAkKpAAAAAAACwrUAAAAAAAOisQAAAAAAAxrFAAAAAAAAAqUAAAAAAAMywQAAAAAAALKpAAAAAAAAEsEAAAAAAACCsQAAAAAAAeK5AAAAAAAAUrkAAAAAAAMCyQAAAAAAAGKVAAAAAAACUsUAAAAAAANyuQAAAAAAAhKxAAAAAAAC8q0AAAAAAAFirQAAAAAAAtqxAAAAAAABisUAAAAAAAJCqQAAAAAAAzLBAAAAAAABkqUAAAAAAALasQAAAAAAA+qlAAAAAAADcrkAAAAAAACCsQAAAAAAApK9AAAAAAAAsqkAAAAAAAPSqQAAAAAAAZKlAAAAAAACkr0AAAAAAALCtQAAAAAAAiqtAAAAAAADcrkAAAAAAAISsQAAAAAAAhKxAAAAAAABAr0AAAAAAAJCqQAAAAAAAfq1AAAAAAAAEsEAAAAAAAH6tQA==",
            "dtype": "f8"
           }
          }
         ],
         "hovertemplate": "species=Chinstrap<br>%{xaxis.title.text}=%{x}<br>%{yaxis.title.text}=%{y}<extra></extra>",
         "legendgroup": "Chinstrap",
         "marker": {
          "color": "#EF553B",
          "symbol": "circle"
         },
         "name": "Chinstrap",
         "showlegend": true,
         "type": "splom"
        },
        {
         "dimensions": [
          {
           "axis": {
            "matches": true
           },
           "label": "culmen_length_mm",
           "values": {
            "bdata": "zczMzMwMR0AAAAAAAABJQJqZmZmZWUhAAAAAAAAASUDNzMzMzMxHQAAAAAAAQEdAMzMzMzOzRkCamZmZmVlHQGZmZmZmpkVAZmZmZmZmR0AzMzMzM3NEQAAAAAAAgEhAAAAAAADARkAzMzMzMzNIQGZmZmZm5kZAZmZmZmamSEAAAAAAAABFQJqZmZmZmUhAmpmZmZkZR0CamZmZmVlIQJqZmZmZGUlAzczMzMyMRkAAAAAAAEBHQGZmZmZmJkdAMzMzMzNzRUDNzMzMzAxHQGZmZmZm5kdAmpmZmZkZSEAAAAAAAABJQGZmZmZmpkdAZmZmZmZmRUDNzMzMzIxGQM3MzMzMzE1AzczMzMyMSEAzMzMzMzNIQM3MzMzMTEVAMzMzMzMzRkAAAAAAAABGQJqZmZmZWUhAmpmZmZlZRUDNzMzMzMxIQGZmZmZmpkZAzczMzMzMSEAAAAAAAEBJQM3MzMzMzEVAAAAAAADARkAAAAAAAEBJQDMzMzMzc0ZAmpmZmZmZRkDNzMzMzExHQAAAAAAAQEhAzczMzMyMRkDNzMzMzAxJQAAAAAAAQEdAAAAAAACARkBmZmZmZuZFQAAAAAAAwEZAmpmZmZmZRUAzMzMzMzNJQGZmZmZmpkZAmpmZmZkZR0CamZmZmdlGQGZmZmZmJktAZmZmZmbmRkBmZmZmZuZIQAAAAAAAwEhAAAAAAADARUCamZmZmVlJQJqZmZmZ2UdAMzMzMzMzR0CamZmZmRlIQAAAAAAAQEdAMzMzMzMzR0DNzMzMzExIQAAAAAAAwEdAzczMzMyMSUCamZmZmZlGQJqZmZmZmUZAzczMzMyMSEAAAAAAAEBKQDMzMzMzs0dAAAAAAAAASUAzMzMzM3NGQGZmZmZmZklAMzMzMzOzRUBmZmZmZqZJQAAAAAAAwEdAzczMzMwMSkAAAAAAAMBHQJqZmZmZGUpAAAAAAADARkAAAAAAAMBIQAAAAAAAQEZAZmZmZmZmSUAzMzMzM7NIQDMzMzMzc0dAMzMzMzMzSEDNzMzMzIxJQAAAAAAAQEhAMzMzMzPzS0CamZmZmZlHQM3MzMzMjEhAZmZmZmZmR0CamZmZmdlEQDMzMzMzs0pAZmZmZmamRUDNzMzMzAxIQAAAAAAAQElAZmZmZmbmSEAAAAAAAMBFQAAAAAAAwElAmpmZmZkZR0DNzMzMzIxLQAAAAAAAQEZAZmZmZmZmSECamZmZmZlHQGZmZmZmZkdAMzMzMzMzSUCamZmZmZlGQDMzMzMz80hA",
            "dtype": "f8"
           }
          },
          {
           "axis": {
            "matches": true
           },
           "label": "culmen_depth_mm",
           "values": {
            "bdata": "ZmZmZmZmKkDNzMzMzEwwQDMzMzMzMyxAZmZmZmZmLkAAAAAAAAAtQAAAAAAAACtAMzMzMzMzLUCamZmZmZkuQM3MzMzMzCpAzczMzMzMLkBmZmZmZmYrQJqZmZmZGTBAZmZmZmZmK0AzMzMzMzMtQDMzMzMzMy1AZmZmZmZmL0AAAAAAAAArQGZmZmZmZi5AAAAAAAAALUAzMzMzMzMuQJqZmZmZmSxAAAAAAAAALUAAAAAAAAAtQJqZmZmZmS9AMzMzMzMzKkAzMzMzMzMuQAAAAAAAAC5AmpmZmZmZLECamZmZmZkuQJqZmZmZmS5AZmZmZmZmLEAAAAAAAAAtQAAAAAAAADFAmpmZmZmZLUDNzMzMzEwwQGZmZmZmZitAzczMzMxMMUAzMzMzMzMrQGZmZmZmZi9AZmZmZmZmK0AAAAAAAAAwQGZmZmZmZitAAAAAAAAALkDNzMzMzMwvQM3MzMzMzCtAzczMzMzMK0DNzMzMzMwvQJqZmZmZmSpAmpmZmZmZL0BmZmZmZmYsQDMzMzMzMyxAzczMzMzMLEAAAAAAAAAuQM3MzMzMzCxAzczMzMzMLkDNzMzMzMwrQAAAAAAAAC5AAAAAAAAALUCamZmZmZkuQJqZmZmZmStAzczMzMzMLUDNzMzMzMwrQGZmZmZmZi9AZmZmZmZmLEDNzMzMzMwwQDMzMzMzMzBAZmZmZmZmLEAAAAAAAAAuQAAAAAAAAC5AMzMzMzMzL0AzMzMzMzMvQJqZmZmZmS1AAAAAAAAALkAAAAAAAAAwQGZmZmZmZixAzczMzMxMMECamZmZmZkrQGZmZmZmZjBAAAAAAAAALUAzMzMzMzMvQDMzMzMzMy1AzczMzMzML0CamZmZmZkrQM3MzMzMTDFAzczMzMzMLEBmZmZmZmYsQAAAAAAAACxAAAAAAAAAMUAAAAAAAAAuQJqZmZmZGTFAAAAAAAAALUCamZmZmRkwQGZmZmZmZi1AZmZmZmZmL0CamZmZmZkvQDMzMzMzMy1AzczMzMzMLEAAAAAAAIAwQAAAAAAAAC5AAAAAAAAAMUAAAAAAAAAvQAAAAAAAAC5AmpmZmZkZMEBmZmZmZmYtQJqZmZmZmS9AAAAAAAAALEAzMzMzMzMuQGZmZmZmZi5AzczMzMzML0BmZmZmZmYuQM3MzMzMTDBAMzMzMzMzLEAAAAAAAAAwQGZmZmZmZi9AMzMzMzMzMEBmZmZmZmYrQJqZmZmZmSxAZmZmZmZmL0CamZmZmZktQJqZmZmZGTBA",
            "dtype": "f8"
           }
          },
          {
           "axis": {
            "matches": true
           },
           "label": "flipper_length_mm",
           "values": {
            "bdata": "AAAAAABgakAAAAAAAMBsQAAAAAAAQGpAAAAAAABAa0AAAAAAAOBqQAAAAAAAQGpAAAAAAABgakAAAAAAAGBrQAAAAAAAIGpAAAAAAADgakAAAAAAAMBqQAAAAAAAAGtAAAAAAADAakAAAAAAAKBqQAAAAAAAQGpAAAAAAAAga0AAAAAAAEBqQAAAAAAAoGtAAAAAAAAgakAAAAAAAMBrQAAAAAAAQGtAAAAAAADgakAAAAAAAKBqQAAAAAAA4GpAAAAAAADgakAAAAAAAOBqQAAAAAAA4GpAAAAAAABAakAAAAAAAIBrQAAAAAAAwGtAAAAAAAAgakAAAAAAAOBpQAAAAAAAwGxAAAAAAACAa0AAAAAAAIBrQAAAAAAAoGpAAAAAAABga0AAAAAAAABqQAAAAAAAAGpAAAAAAAAAakAAAAAAACBsQAAAAAAAQGpAAAAAAAAAa0AAAAAAAMBrQAAAAAAAIGtAAAAAAABAakAAAAAAACBsQAAAAAAAoGpAAAAAAADgakAAAAAAAEBqQAAAAAAAgGtAAAAAAABAakAAAAAAACBsQAAAAAAAIGtAAAAAAACAa0AAAAAAAABqQAAAAAAAgGtAAAAAAAAAakAAAAAAAABsQAAAAAAAAGpAAAAAAACga0AAAAAAAMBqQAAAAAAA4GxAAAAAAABga0AAAAAAAMBsQAAAAAAAoGxAAAAAAACAa0AAAAAAAOBrQAAAAAAAAGtAAAAAAACga0AAAAAAAKBrQAAAAAAAIGtAAAAAAAAAa0AAAAAAAMBsQAAAAAAAIGpAAAAAAACAa0AAAAAAAOBqQAAAAAAA4GtAAAAAAACAakAAAAAAAKBrQAAAAAAAgGpAAAAAAAAAbEAAAAAAAIBqQAAAAAAAgGxAAAAAAABAa0AAAAAAAEBrQAAAAAAAgGpAAAAAAADAbEAAAAAAAEBrQAAAAAAAgGxAAAAAAACAakAAAAAAAABsQAAAAAAAwGpAAAAAAABAbEAAAAAAAABrQAAAAAAAwGtAAAAAAABgaUAAAAAAACBsQAAAAAAAYGtAAAAAAACAbEAAAAAAAOBqQAAAAAAAgGxAAAAAAADgakAAAAAAAEBqQAAAAAAAYGtAAAAAAAAAakAAAAAAACBqQAAAAAAAAGtAAAAAAACgbEAAAAAAAKBqQAAAAAAAwGxAAAAAAAAga0AAAAAAAMBsQAAAAAAAIGtAAAAAAADAa0AAAAAAAMBqQAAAAAAA4GpAAAAAAADAa0AAAAAAAIBqQAAAAAAAoGpA",
            "dtype": "f8"
           }
          },
          {
           "axis": {
            "matches": true
           },
           "label": "body_mass_g",
           "values": {
            "bdata": "AAAAAACUsUAAAAAAAES2QAAAAAAAYrFAAAAAAABEtkAAAAAAABi1QAAAAAAAxrFAAAAAAADAskAAAAAAAFC0QAAAAAAAMLFAAAAAAAAetEAAAAAAACqyQAAAAAAArrVAAAAAAAAqskAAAAAAANq2QAAAAAAAaLBAAAAAAADatkAAAAAAADawQAAAAAAAnLhAAAAAAADAskAAAAAAAOa0QAAAAAAARLZAAAAAAACIs0AAAAAAADCxQAAAAAAAurNAAAAAAACIs0AAAAAAAOyzQAAAAAAAErZAAAAAAAD4sUAAAAAAAK61QAAAAAAAgrRAAAAAAABcskAAAAAAALqzQAAAAAAAordAAAAAAAAetEAAAAAAABi1QAAAAAAAVrNAAAAAAACCtEAAAAAAAP6wQAAAAAAA5rRAAAAAAADcrkAAAAAAAES2QAAAAAAAzLBAAAAAAACOskAAAAAAAK61QAAAAAAAJLNAAAAAAABosEAAAAAAABi1QAAAAAAA7LNAAAAAAAC0tEAAAAAAAPKyQAAAAAAAtLRAAAAAAAAwsUAAAAAAAIizQAAAAAAAJLNAAAAAAAC6s0AAAAAAAMywQAAAAAAAiLNAAAAAAABisUAAAAAAAK61QAAAAAAAaLBAAAAAAAC0tEAAAAAAADCxQAAAAAAAErZAAAAAAABcskAAAAAAAES2QAAAAAAAqLZAAAAAAABcskAAAAAAAK61QAAAAAAAjrJAAAAAAACIs0AAAAAAAOyzQAAAAAAAULRAAAAAAABcskAAAAAAAKi2QAAAAAAA+LFAAAAAAABwt0AAAAAAAI6yQAAAAAAAPrdAAAAAAAARskAAAAAAAEq1QAAAAAAAdbJAAAAAAADmtEAAAAAAAI6yQAAAAAAA4LVAAAAAAAD4sUAAAAAAALS0QAAAAAAAC7NAAAAAAACutUAAAAAAAFazQAAAAAAAGLVAAAAAAACOskAAAAAAABK2QAAAAAAA8rJAAAAAAABQtEAAAAAAAD2zQAAAAAAAC7NAAAAAAAARskAAAAAAAIK0QAAAAAAA8rJAAAAAAADgtUAAAAAAAG+zQAAAAAAAfLVAAAAAAAB8tUAAAAAAAFyyQAAAAAAAfLVAAAAAAADfsUAAAAAAAHy1QAAAAAAAiLNAAAAAAAA+t0AAAAAAACqyQAAAAAAAfLVAAAAAAAAXsUAAAAAAANq2QAAAAAAAC7NAAAAAAABwt0AAAAAAAD2zQAAAAAAA8rJAAAAAAAB2tkAAAAAAAFC0QAAAAAAAGLVA",
            "dtype": "f8"
           }
          }
         ],
         "hovertemplate": "species=Gentoo<br>%{xaxis.title.text}=%{x}<br>%{yaxis.title.text}=%{y}<extra></extra>",
         "legendgroup": "Gentoo",
         "marker": {
          "color": "#00cc96",
          "symbol": "circle"
         },
         "name": "Gentoo",
         "showlegend": true,
         "type": "splom"
        }
       ],
       "layout": {
        "dragmode": "select",
        "height": 1000,
        "legend": {
         "title": {
          "text": "species"
         },
         "tracegroupgap": 0
        },
        "margin": {
         "t": 60
        },
        "template": {
         "data": {
          "bar": [
           {
            "error_x": {
             "color": "#2a3f5f"
            },
            "error_y": {
             "color": "#2a3f5f"
            },
            "marker": {
             "line": {
              "color": "#E5ECF6",
              "width": 0.5
             },
             "pattern": {
              "fillmode": "overlay",
              "size": 10,
              "solidity": 0.2
             }
            },
            "type": "bar"
           }
          ],
          "barpolar": [
           {
            "marker": {
             "line": {
              "color": "#E5ECF6",
              "width": 0.5
             },
             "pattern": {
              "fillmode": "overlay",
              "size": 10,
              "solidity": 0.2
             }
            },
            "type": "barpolar"
           }
          ],
          "carpet": [
           {
            "aaxis": {
             "endlinecolor": "#2a3f5f",
             "gridcolor": "white",
             "linecolor": "white",
             "minorgridcolor": "white",
             "startlinecolor": "#2a3f5f"
            },
            "baxis": {
             "endlinecolor": "#2a3f5f",
             "gridcolor": "white",
             "linecolor": "white",
             "minorgridcolor": "white",
             "startlinecolor": "#2a3f5f"
            },
            "type": "carpet"
           }
          ],
          "choropleth": [
           {
            "colorbar": {
             "outlinewidth": 0,
             "ticks": ""
            },
            "type": "choropleth"
           }
          ],
          "contour": [
           {
            "colorbar": {
             "outlinewidth": 0,
             "ticks": ""
            },
            "colorscale": [
             [
              0,
              "#0d0887"
             ],
             [
              0.1111111111111111,
              "#46039f"
             ],
             [
              0.2222222222222222,
              "#7201a8"
             ],
             [
              0.3333333333333333,
              "#9c179e"
             ],
             [
              0.4444444444444444,
              "#bd3786"
             ],
             [
              0.5555555555555556,
              "#d8576b"
             ],
             [
              0.6666666666666666,
              "#ed7953"
             ],
             [
              0.7777777777777778,
              "#fb9f3a"
             ],
             [
              0.8888888888888888,
              "#fdca26"
             ],
             [
              1,
              "#f0f921"
             ]
            ],
            "type": "contour"
           }
          ],
          "contourcarpet": [
           {
            "colorbar": {
             "outlinewidth": 0,
             "ticks": ""
            },
            "type": "contourcarpet"
           }
          ],
          "heatmap": [
           {
            "colorbar": {
             "outlinewidth": 0,
             "ticks": ""
            },
            "colorscale": [
             [
              0,
              "#0d0887"
             ],
             [
              0.1111111111111111,
              "#46039f"
             ],
             [
              0.2222222222222222,
              "#7201a8"
             ],
             [
              0.3333333333333333,
              "#9c179e"
             ],
             [
              0.4444444444444444,
              "#bd3786"
             ],
             [
              0.5555555555555556,
              "#d8576b"
             ],
             [
              0.6666666666666666,
              "#ed7953"
             ],
             [
              0.7777777777777778,
              "#fb9f3a"
             ],
             [
              0.8888888888888888,
              "#fdca26"
             ],
             [
              1,
              "#f0f921"
             ]
            ],
            "type": "heatmap"
           }
          ],
          "histogram": [
           {
            "marker": {
             "pattern": {
              "fillmode": "overlay",
              "size": 10,
              "solidity": 0.2
             }
            },
            "type": "histogram"
           }
          ],
          "histogram2d": [
           {
            "colorbar": {
             "outlinewidth": 0,
             "ticks": ""
            },
            "colorscale": [
             [
              0,
              "#0d0887"
             ],
             [
              0.1111111111111111,
              "#46039f"
             ],
             [
              0.2222222222222222,
              "#7201a8"
             ],
             [
              0.3333333333333333,
              "#9c179e"
             ],
             [
              0.4444444444444444,
              "#bd3786"
             ],
             [
              0.5555555555555556,
              "#d8576b"
             ],
             [
              0.6666666666666666,
              "#ed7953"
             ],
             [
              0.7777777777777778,
              "#fb9f3a"
             ],
             [
              0.8888888888888888,
              "#fdca26"
             ],
             [
              1,
              "#f0f921"
             ]
            ],
            "type": "histogram2d"
           }
          ],
          "histogram2dcontour": [
           {
            "colorbar": {
             "outlinewidth": 0,
             "ticks": ""
            },
            "colorscale": [
             [
              0,
              "#0d0887"
             ],
             [
              0.1111111111111111,
              "#46039f"
             ],
             [
              0.2222222222222222,
              "#7201a8"
             ],
             [
              0.3333333333333333,
              "#9c179e"
             ],
             [
              0.4444444444444444,
              "#bd3786"
             ],
             [
              0.5555555555555556,
              "#d8576b"
             ],
             [
              0.6666666666666666,
              "#ed7953"
             ],
             [
              0.7777777777777778,
              "#fb9f3a"
             ],
             [
              0.8888888888888888,
              "#fdca26"
             ],
             [
              1,
              "#f0f921"
             ]
            ],
            "type": "histogram2dcontour"
           }
          ],
          "mesh3d": [
           {
            "colorbar": {
             "outlinewidth": 0,
             "ticks": ""
            },
            "type": "mesh3d"
           }
          ],
          "parcoords": [
           {
            "line": {
             "colorbar": {
              "outlinewidth": 0,
              "ticks": ""
             }
            },
            "type": "parcoords"
           }
          ],
          "pie": [
           {
            "automargin": true,
            "type": "pie"
           }
          ],
          "scatter": [
           {
            "fillpattern": {
             "fillmode": "overlay",
             "size": 10,
             "solidity": 0.2
            },
            "type": "scatter"
           }
          ],
          "scatter3d": [
           {
            "line": {
             "colorbar": {
              "outlinewidth": 0,
              "ticks": ""
             }
            },
            "marker": {
             "colorbar": {
              "outlinewidth": 0,
              "ticks": ""
             }
            },
            "type": "scatter3d"
           }
          ],
          "scattercarpet": [
           {
            "marker": {
             "colorbar": {
              "outlinewidth": 0,
              "ticks": ""
             }
            },
            "type": "scattercarpet"
           }
          ],
          "scattergeo": [
           {
            "marker": {
             "colorbar": {
              "outlinewidth": 0,
              "ticks": ""
             }
            },
            "type": "scattergeo"
           }
          ],
          "scattergl": [
           {
            "marker": {
             "colorbar": {
              "outlinewidth": 0,
              "ticks": ""
             }
            },
            "type": "scattergl"
           }
          ],
          "scattermap": [
           {
            "marker": {
             "colorbar": {
              "outlinewidth": 0,
              "ticks": ""
             }
            },
            "type": "scattermap"
           }
          ],
          "scattermapbox": [
           {
            "marker": {
             "colorbar": {
              "outlinewidth": 0,
              "ticks": ""
             }
            },
            "type": "scattermapbox"
           }
          ],
          "scatterpolar": [
           {
            "marker": {
             "colorbar": {
              "outlinewidth": 0,
              "ticks": ""
             }
            },
            "type": "scatterpolar"
           }
          ],
          "scatterpolargl": [
           {
            "marker": {
             "colorbar": {
              "outlinewidth": 0,
              "ticks": ""
             }
            },
            "type": "scatterpolargl"
           }
          ],
          "scatterternary": [
           {
            "marker": {
             "colorbar": {
              "outlinewidth": 0,
              "ticks": ""
             }
            },
            "type": "scatterternary"
           }
          ],
          "surface": [
           {
            "colorbar": {
             "outlinewidth": 0,
             "ticks": ""
            },
            "colorscale": [
             [
              0,
              "#0d0887"
             ],
             [
              0.1111111111111111,
              "#46039f"
             ],
             [
              0.2222222222222222,
              "#7201a8"
             ],
             [
              0.3333333333333333,
              "#9c179e"
             ],
             [
              0.4444444444444444,
              "#bd3786"
             ],
             [
              0.5555555555555556,
              "#d8576b"
             ],
             [
              0.6666666666666666,
              "#ed7953"
             ],
             [
              0.7777777777777778,
              "#fb9f3a"
             ],
             [
              0.8888888888888888,
              "#fdca26"
             ],
             [
              1,
              "#f0f921"
             ]
            ],
            "type": "surface"
           }
          ],
          "table": [
           {
            "cells": {
             "fill": {
              "color": "#EBF0F8"
             },
             "line": {
              "color": "white"
             }
            },
            "header": {
             "fill": {
              "color": "#C8D4E3"
             },
             "line": {
              "color": "white"
             }
            },
            "type": "table"
           }
          ]
         },
         "layout": {
          "annotationdefaults": {
           "arrowcolor": "#2a3f5f",
           "arrowhead": 0,
           "arrowwidth": 1
          },
          "autotypenumbers": "strict",
          "coloraxis": {
           "colorbar": {
            "outlinewidth": 0,
            "ticks": ""
           }
          },
          "colorscale": {
           "diverging": [
            [
             0,
             "#8e0152"
            ],
            [
             0.1,
             "#c51b7d"
            ],
            [
             0.2,
             "#de77ae"
            ],
            [
             0.3,
             "#f1b6da"
            ],
            [
             0.4,
             "#fde0ef"
            ],
            [
             0.5,
             "#f7f7f7"
            ],
            [
             0.6,
             "#e6f5d0"
            ],
            [
             0.7,
             "#b8e186"
            ],
            [
             0.8,
             "#7fbc41"
            ],
            [
             0.9,
             "#4d9221"
            ],
            [
             1,
             "#276419"
            ]
           ],
           "sequential": [
            [
             0,
             "#0d0887"
            ],
            [
             0.1111111111111111,
             "#46039f"
            ],
            [
             0.2222222222222222,
             "#7201a8"
            ],
            [
             0.3333333333333333,
             "#9c179e"
            ],
            [
             0.4444444444444444,
             "#bd3786"
            ],
            [
             0.5555555555555556,
             "#d8576b"
            ],
            [
             0.6666666666666666,
             "#ed7953"
            ],
            [
             0.7777777777777778,
             "#fb9f3a"
            ],
            [
             0.8888888888888888,
             "#fdca26"
            ],
            [
             1,
             "#f0f921"
            ]
           ],
           "sequentialminus": [
            [
             0,
             "#0d0887"
            ],
            [
             0.1111111111111111,
             "#46039f"
            ],
            [
             0.2222222222222222,
             "#7201a8"
            ],
            [
             0.3333333333333333,
             "#9c179e"
            ],
            [
             0.4444444444444444,
             "#bd3786"
            ],
            [
             0.5555555555555556,
             "#d8576b"
            ],
            [
             0.6666666666666666,
             "#ed7953"
            ],
            [
             0.7777777777777778,
             "#fb9f3a"
            ],
            [
             0.8888888888888888,
             "#fdca26"
            ],
            [
             1,
             "#f0f921"
            ]
           ]
          },
          "colorway": [
           "#636efa",
           "#EF553B",
           "#00cc96",
           "#ab63fa",
           "#FFA15A",
           "#19d3f3",
           "#FF6692",
           "#B6E880",
           "#FF97FF",
           "#FECB52"
          ],
          "font": {
           "color": "#2a3f5f"
          },
          "geo": {
           "bgcolor": "white",
           "lakecolor": "white",
           "landcolor": "#E5ECF6",
           "showlakes": true,
           "showland": true,
           "subunitcolor": "white"
          },
          "hoverlabel": {
           "align": "left"
          },
          "hovermode": "closest",
          "mapbox": {
           "style": "light"
          },
          "paper_bgcolor": "white",
          "plot_bgcolor": "#E5ECF6",
          "polar": {
           "angularaxis": {
            "gridcolor": "white",
            "linecolor": "white",
            "ticks": ""
           },
           "bgcolor": "#E5ECF6",
           "radialaxis": {
            "gridcolor": "white",
            "linecolor": "white",
            "ticks": ""
           }
          },
          "scene": {
           "xaxis": {
            "backgroundcolor": "#E5ECF6",
            "gridcolor": "white",
            "gridwidth": 2,
            "linecolor": "white",
            "showbackground": true,
            "ticks": "",
            "zerolinecolor": "white"
           },
           "yaxis": {
            "backgroundcolor": "#E5ECF6",
            "gridcolor": "white",
            "gridwidth": 2,
            "linecolor": "white",
            "showbackground": true,
            "ticks": "",
            "zerolinecolor": "white"
           },
           "zaxis": {
            "backgroundcolor": "#E5ECF6",
            "gridcolor": "white",
            "gridwidth": 2,
            "linecolor": "white",
            "showbackground": true,
            "ticks": "",
            "zerolinecolor": "white"
           }
          },
          "shapedefaults": {
           "line": {
            "color": "#2a3f5f"
           }
          },
          "ternary": {
           "aaxis": {
            "gridcolor": "white",
            "linecolor": "white",
            "ticks": ""
           },
           "baxis": {
            "gridcolor": "white",
            "linecolor": "white",
            "ticks": ""
           },
           "bgcolor": "#E5ECF6",
           "caxis": {
            "gridcolor": "white",
            "linecolor": "white",
            "ticks": ""
           }
          },
          "title": {
           "x": 0.05
          },
          "xaxis": {
           "automargin": true,
           "gridcolor": "white",
           "linecolor": "white",
           "ticks": "",
           "title": {
            "standoff": 15
           },
           "zerolinecolor": "white",
           "zerolinewidth": 2
          },
          "yaxis": {
           "automargin": true,
           "gridcolor": "white",
           "linecolor": "white",
           "ticks": "",
           "title": {
            "standoff": 15
           },
           "zerolinecolor": "white",
           "zerolinewidth": 2
          }
         }
        }
       }
      }
     },
     "metadata": {},
     "output_type": "display_data"
    }
   ],
   "source": [
    "import plotly.express as px\n",
    "\n",
    "fig = px.scatter_matrix(\n",
    "    df, dimensions=df.select_dtypes(\"number\").columns, color=\"species\", height=1000\n",
    ")\n",
    "fig.show()"
   ]
  },
  {
   "cell_type": "markdown",
   "metadata": {},
   "source": [
    "## Holdout\n",
    "\n",
    "Consiste en particionar nuestro dataset en conjuntos de:\n",
    "\n",
    "- **Training**: conjunto que se utiliza para **entrenar** el modelo.\n",
    "- **Testing**: datos que se usa para **evaluar** qué tan bien predice el modelo (a través de las métricas de evaluación). \n",
    "\n",
    "\n",
    "Comunmente se dividen en proporción $2/3$ y $1/3$ del dataset respectivamente. Sin embargo, todo depende de la cantidad de datos que se posean: si se tiene millones de ejemplos, quizas puede dividirse en 95% train, 5% test sin problemas. \n",
    "\n",
    "\n",
    "La evaluación puede variar mucho según las particiones escogidas: \n",
    "\n",
    "- Training pequeño -> modelo sesgado, \n",
    "- Testing pequeño -> evaluación poco confiable.\n",
    "\n",
    "\n",
    "Esta técnica utiliza **Random Subsampling** para seleccionar aleatoriamente las observaciones de cada uno de estos conjuntos.\n",
    "\n",
    "Para ejecutar todo esto usaremos `train_test_split`. Veamos algunos de sus parámetros:\n",
    "\n",
    "- `test_size = 0.33` - indica el tamaño del test de evaluación.\n",
    "- `shuffle = True` - indica que ejecutaremos Random Subsampling.\n",
    "- `stratify = labels` - intenta manetener la distribución de clases original en ambos conjuntos."
   ]
  },
  {
   "cell_type": "markdown",
   "metadata": {},
   "source": [
    "### Validation set:\n",
    "\n",
    "Cuando se desea realizar una búsqueda de los mejores algoritmos y sus hiperparámetros, el dataset puede ser dividido en 3:\n",
    "\n",
    "\n",
    "- **Training**: Se utiliza para entrenar los modelos.\n",
    "- **Validation**: Se utiliza para seleccionar el mejor modelo al ir variando sus hiperparámetros.\n",
    "- **Testing**: Se utiliza para evaluar el modelo previo a ser entregado o puesto en producción. Esta evaluación solo se hace sobre el modelo final.\n",
    "\n",
    "\n",
    "En este caso la división puede ser $70\\%, 15\\%, 15\\%$ respectivamente."
   ]
  },
  {
   "cell_type": "code",
   "execution_count": 7,
   "metadata": {
    "ExecuteTime": {
     "end_time": "2020-09-11T17:43:12.091444Z",
     "start_time": "2020-09-11T17:43:12.083466Z"
    }
   },
   "outputs": [],
   "source": [
    "# Holdout\n",
    "from sklearn import preprocessing\n",
    "from sklearn.model_selection import train_test_split\n",
    "\n",
    "features = df.drop(columns=[\"species\"])\n",
    "labels = df.loc[:, \"species\"]\n",
    "\n",
    "\n",
    "X_train, X_test, y_train, y_test = train_test_split(\n",
    "    features, labels, test_size=0.33, shuffle=True, stratify=labels, random_state=42\n",
    ")"
   ]
  },
  {
   "cell_type": "code",
   "execution_count": 8,
   "metadata": {
    "ExecuteTime": {
     "end_time": "2020-09-11T17:43:12.118372Z",
     "start_time": "2020-09-11T17:43:12.094436Z"
    },
    "scrolled": true
   },
   "outputs": [
    {
     "data": {
      "text/plain": [
       "(223, 6)"
      ]
     },
     "execution_count": 8,
     "metadata": {},
     "output_type": "execute_result"
    }
   ],
   "source": [
    "X_train.shape"
   ]
  },
  {
   "cell_type": "code",
   "execution_count": 9,
   "metadata": {},
   "outputs": [
    {
     "data": {
      "text/plain": [
       "(111, 6)"
      ]
     },
     "execution_count": 9,
     "metadata": {},
     "output_type": "execute_result"
    }
   ],
   "source": [
    "X_test.shape"
   ]
  },
  {
   "cell_type": "code",
   "execution_count": 10,
   "metadata": {},
   "outputs": [
    {
     "data": {
      "text/plain": [
       "species\n",
       "Adelie       43.712575\n",
       "Gentoo       35.928144\n",
       "Chinstrap    20.359281\n",
       "Name: count, dtype: float64"
      ]
     },
     "execution_count": 10,
     "metadata": {},
     "output_type": "execute_result"
    }
   ],
   "source": [
    "# distribución original\n",
    "labels.value_counts() / labels.count() * 100"
   ]
  },
  {
   "cell_type": "code",
   "execution_count": 11,
   "metadata": {
    "scrolled": true
   },
   "outputs": [
    {
     "data": {
      "text/plain": [
       "species\n",
       "Adelie       43.946188\n",
       "Gentoo       35.874439\n",
       "Chinstrap    20.179372\n",
       "Name: count, dtype: float64"
      ]
     },
     "execution_count": 11,
     "metadata": {},
     "output_type": "execute_result"
    }
   ],
   "source": [
    "# conjunto de entrenamiento\n",
    "y_train.value_counts() / y_train.count() * 100"
   ]
  },
  {
   "cell_type": "code",
   "execution_count": 12,
   "metadata": {
    "scrolled": true
   },
   "outputs": [
    {
     "data": {
      "text/plain": [
       "species\n",
       "Adelie       43.243243\n",
       "Gentoo       36.036036\n",
       "Chinstrap    20.720721\n",
       "Name: count, dtype: float64"
      ]
     },
     "execution_count": 12,
     "metadata": {},
     "output_type": "execute_result"
    }
   ],
   "source": [
    "# conjunto de pruebas\n",
    "y_test.value_counts() / y_test.count() * 100"
   ]
  },
  {
   "cell_type": "markdown",
   "metadata": {
    "tags": []
   },
   "source": [
    "## `cross-validation`\n",
    "\n",
    "Cross-validation es una técnica para evaluar el grado de generalización de un modelo en un conjunto de datos independiente. Es especialmente útil para conjuntos de datos pequeños, en los que cada punto de datos es valioso tanto para el entrenamiento como para la validación. El proceso consiste en dividir el conjunto de datos en varias partes, utilizar algunas para entrenar el modelo y el resto para probarlo, y repetir este proceso varias veces para garantizar una evaluación completa.\n",
    "\n",
    "Aunque normalmente se utiliza para la selección de modelos y la estimación del rendimiento, la validación cruzada también puede proporcionar información sobre la estabilidad y la incertidumbre de las predicciones de su modelo. Al examinar la variación de las métricas de rendimiento (p. ej., precisión, RMSE), puede evaluar la coherencia del rendimiento de los modelos en diferentes subconjuntos de datos.\n",
    "\n",
    "---\n",
    "    Para cada partición i:\n",
    "        - Juntar todas las k-1 particiones restantes y entrenar el modelo sobre esos datos.\n",
    "        - Evaluar el modelo en la partición i.\n",
    "        \n",
    "    El error total = promedio de errores de todos los modelos  \n",
    "\n",
    "---\n",
    "\n",
    "<img src='https://github.com/MDS7202/MDS7202/blob/main/recursos/2023-01/18-Aprendizaje-Supervisado-I/kfold.png?raw=true' width=400>"
   ]
  },
  {
   "cell_type": "code",
   "execution_count": 13,
   "metadata": {},
   "outputs": [],
   "source": [
    "from sklearn.compose import ColumnTransformer\n",
    "from sklearn.preprocessing import OneHotEncoder, RobustScaler\n",
    "\n",
    "ct = ColumnTransformer(\n",
    "    [\n",
    "        (\n",
    "            \"Scaler\",\n",
    "            RobustScaler(),\n",
    "            [\n",
    "                \"culmen_length_mm\",\n",
    "                \"culmen_depth_mm\",\n",
    "                \"flipper_length_mm\",\n",
    "                \"body_mass_g\",\n",
    "            ],\n",
    "        ),\n",
    "        (\n",
    "            \"OneHot\", \n",
    "            OneHotEncoder(sparse_output=False, handle_unknown='infrequent_if_exist'), \n",
    "            [\n",
    "                \"island\", \n",
    "                \"sex\"\n",
    "            ]\n",
    "        ),\n",
    "    ]\n",
    ")"
   ]
  },
  {
   "cell_type": "markdown",
   "metadata": {},
   "source": [
    "<center>\n",
    "<img src='https://amueller.github.io/aml/_images/stratified_cv.png' width=500 />\n"
   ]
  },
  {
   "cell_type": "code",
   "execution_count": 14,
   "metadata": {},
   "outputs": [],
   "source": [
    "from sklearn.model_selection import StratifiedKFold\n",
    "from sklearn.tree import DecisionTreeClassifier\n",
    "from sklearn.metrics import accuracy_score, f1_score\n",
    "import pandas as pd\n",
    "\n",
    "# Realizamos transformaciones pertinentes\n",
    "X_train_cv = ct.fit_transform(X_train)\n",
    "cols_trans_name = ct.get_feature_names_out()\n",
    "X_train_cv = pd.DataFrame(X_train_cv, columns=cols_trans_name)\n",
    "\n",
    "cv = StratifiedKFold(n_splits=7)\n",
    "scores = {'acc': [], 'f1': []}\n",
    "\n",
    "for train_index, test_index in cv.split(X_train_cv, y_train):\n",
    "    X_train_fold, X_test_fold = X_train_cv.iloc[train_index], X_train_cv.iloc[test_index]\n",
    "    y_train_fold, y_test_fold = y_train.iloc[train_index], y_train.iloc[test_index]\n",
    "    \n",
    "    # Entrenamos el modelo\n",
    "    model = DecisionTreeClassifier(random_state=42)\n",
    "    model.fit(X_train_fold, y_train_fold)\n",
    "\n",
    "    # Evaluamos el modelo\n",
    "    y_pred_fold = model.predict(X_test_fold)\n",
    "    acc_score = accuracy_score(y_test_fold, y_pred_fold)\n",
    "    f_score = f1_score(y_test_fold, y_pred_fold, average=\"macro\")\n",
    "    scores['acc'].append(acc_score)\n",
    "    scores['f1'].append(f_score)"
   ]
  },
  {
   "cell_type": "code",
   "execution_count": 15,
   "metadata": {},
   "outputs": [
    {
     "data": {
      "text/html": [
       "<div>\n",
       "<style scoped>\n",
       "    .dataframe tbody tr th:only-of-type {\n",
       "        vertical-align: middle;\n",
       "    }\n",
       "\n",
       "    .dataframe tbody tr th {\n",
       "        vertical-align: top;\n",
       "    }\n",
       "\n",
       "    .dataframe thead th {\n",
       "        text-align: right;\n",
       "    }\n",
       "</style>\n",
       "<table border=\"1\" class=\"dataframe\">\n",
       "  <thead>\n",
       "    <tr style=\"text-align: right;\">\n",
       "      <th></th>\n",
       "      <th>acc</th>\n",
       "      <th>f1</th>\n",
       "    </tr>\n",
       "  </thead>\n",
       "  <tbody>\n",
       "    <tr>\n",
       "      <th>0</th>\n",
       "      <td>0.937500</td>\n",
       "      <td>0.920635</td>\n",
       "    </tr>\n",
       "    <tr>\n",
       "      <th>1</th>\n",
       "      <td>0.968750</td>\n",
       "      <td>0.958203</td>\n",
       "    </tr>\n",
       "    <tr>\n",
       "      <th>2</th>\n",
       "      <td>1.000000</td>\n",
       "      <td>1.000000</td>\n",
       "    </tr>\n",
       "    <tr>\n",
       "      <th>3</th>\n",
       "      <td>0.937500</td>\n",
       "      <td>0.928571</td>\n",
       "    </tr>\n",
       "    <tr>\n",
       "      <th>4</th>\n",
       "      <td>0.968750</td>\n",
       "      <td>0.965432</td>\n",
       "    </tr>\n",
       "    <tr>\n",
       "      <th>5</th>\n",
       "      <td>0.937500</td>\n",
       "      <td>0.938095</td>\n",
       "    </tr>\n",
       "    <tr>\n",
       "      <th>6</th>\n",
       "      <td>0.967742</td>\n",
       "      <td>0.962013</td>\n",
       "    </tr>\n",
       "    <tr>\n",
       "      <th>mean</th>\n",
       "      <td>0.959677</td>\n",
       "      <td>0.953279</td>\n",
       "    </tr>\n",
       "    <tr>\n",
       "      <th>std</th>\n",
       "      <td>0.021814</td>\n",
       "      <td>0.024893</td>\n",
       "    </tr>\n",
       "  </tbody>\n",
       "</table>\n",
       "</div>"
      ],
      "text/plain": [
       "           acc        f1\n",
       "0     0.937500  0.920635\n",
       "1     0.968750  0.958203\n",
       "2     1.000000  1.000000\n",
       "3     0.937500  0.928571\n",
       "4     0.968750  0.965432\n",
       "5     0.937500  0.938095\n",
       "6     0.967742  0.962013\n",
       "mean  0.959677  0.953279\n",
       "std   0.021814  0.024893"
      ]
     },
     "execution_count": 15,
     "metadata": {},
     "output_type": "execute_result"
    }
   ],
   "source": [
    "# Hagamos una tabla delos resultados\n",
    "results = pd.DataFrame.from_dict(scores)\n",
    "results.loc[\"mean\"] = results.mean()\n",
    "results.loc[\"std\"] = results.std()\n",
    "results"
   ]
  },
  {
   "cell_type": "markdown",
   "metadata": {},
   "source": [
    "> **Pregunta ❓**: ¿Qué podría pasar si nuestro modelo tiene una alta variación?"
   ]
  },
  {
   "cell_type": "markdown",
   "metadata": {},
   "source": [
    "## ¿Qué problemas podríamos visualizar con Holdout?"
   ]
  },
  {
   "cell_type": "markdown",
   "metadata": {},
   "source": [
    "> **Pregunta 1❓**: ¿Podría existir algún problema con el realizar un feature engineering en el siguiente conjunto de datos?"
   ]
  },
  {
   "attachments": {
    "754e9359-7835-49c6-b1cc-e926ee52eecc.png": {
     "image/png": "[encoded data removed]"
    }
   },
   "cell_type": "markdown",
   "metadata": {},
   "source": [
    "![Screenshot 2024-05-04 at 5.51.55 PM.png](attachment:754e9359-7835-49c6-b1cc-e926ee52eecc.png)"
   ]
  },
  {
   "cell_type": "markdown",
   "metadata": {},
   "source": [
    "### Preprocesamiento y Data Leakage"
   ]
  },
  {
   "cell_type": "markdown",
   "metadata": {},
   "source": [
    "<center>\n",
    "<img src='https://media1.giphy.com/media/lVBtp4SRW6rvDHf1b6/200w.gif?cid=6c09b952a7zf3h2d55w0f4w0qwqam42qbtojlgcpitpq4c8o&ep=v1_gifs_search&rid=200w.gif&ct=g' width=300 />"
   ]
  },
  {
   "cell_type": "markdown",
   "metadata": {},
   "source": [
    "Data Leakage o fuga de datos se refiere al uso de datos de prueba dentro del entrenamiento de un modelo predictivo, o a la presencia directa o indirecta de la etiqueta a predecir dentro de los datos de entrenamiento (lo que ovbiamente es incorrecto).\n",
    "\n",
    "Dentro de los motivos por los cuales se podra generar data leakage, tenemos:\n",
    "\n",
    "- **Fuga temporal**: Se refiere a dividir datos que están correlacionados en el tiempo de manera aleatoria en lugar de hacerlo de forma cronológica. Esto puede causar problemas en la interpretación y evaluación del modelo.\n",
    "  \n",
    "- **Procesamiento de datos antes de la división**: Se refiere a la manipulación de los datos antes de dividirlos en conjuntos de entrenamiento y prueba. Es importante realizar cualquier procesamiento de datos, como normalización o codificación, después de dividir los datos para evitar fugas de información.\n",
    "  \n",
    "- **Manejo deficiente de la duplicación de datos antes de la división**: Indica que no se está manejando adecuadamente la duplicación de datos antes de dividirlos en conjuntos de entrenamiento y prueba. Esto puede introducir sesgos en el modelo y afectar su rendimiento.\n",
    "  \n",
    "- **Fuga por variables altamente correlacionadas con el target**: Ocurre cuando usamos columnas que contienen información derivada o transformada del target, aunque indirectamente, en nuestro entrenamiento. Obviamente si esta es una correlación real entre una variable usable para predecir (X) y la etiqueta a predecir (y) esto no es problema. Pero se debe tener cuidado con que esta correlación sea una rtefacto del procesamiento de datos.\n",
    "\n",
    "Es muy importante que el **preprocesamiento y feature engineering lo hagan siempre sobre los datos de entrenamiento y no sobre todo el dataset**. De lo contrario, estarían ocupando datos destinados a evaluar para entrenar el modelo (o el preprocesamiento) lo que puede inducir a resultados muy buenos cuando en verdad no deberían serlos.\n",
    "\n",
    "Mas información en [data-leakage de scikit-learn](https://scikit-learn.org/stable/common_pitfalls.html#data-leakage)"
   ]
  },
  {
   "cell_type": "code",
   "execution_count": 16,
   "metadata": {},
   "outputs": [
    {
     "data": {
      "text/html": [
       "<div>\n",
       "<style scoped>\n",
       "    .dataframe tbody tr th:only-of-type {\n",
       "        vertical-align: middle;\n",
       "    }\n",
       "\n",
       "    .dataframe tbody tr th {\n",
       "        vertical-align: top;\n",
       "    }\n",
       "\n",
       "    .dataframe thead th {\n",
       "        text-align: right;\n",
       "    }\n",
       "</style>\n",
       "<table border=\"1\" class=\"dataframe\">\n",
       "  <thead>\n",
       "    <tr style=\"text-align: right;\">\n",
       "      <th></th>\n",
       "      <th>culmen_length_mm</th>\n",
       "      <th>culmen_depth_mm</th>\n",
       "      <th>flipper_length_mm</th>\n",
       "      <th>body_mass_g</th>\n",
       "      <th>island_Biscoe</th>\n",
       "      <th>island_Dream</th>\n",
       "      <th>island_Torgersen</th>\n",
       "      <th>sex_FEMALE</th>\n",
       "      <th>sex_MALE</th>\n",
       "    </tr>\n",
       "  </thead>\n",
       "  <tbody>\n",
       "    <tr>\n",
       "      <th>0</th>\n",
       "      <td>0.143590</td>\n",
       "      <td>-1.000000</td>\n",
       "      <td>0.913043</td>\n",
       "      <td>0.553191</td>\n",
       "      <td>1.0</td>\n",
       "      <td>0.0</td>\n",
       "      <td>0.0</td>\n",
       "      <td>1.0</td>\n",
       "      <td>0.0</td>\n",
       "    </tr>\n",
       "    <tr>\n",
       "      <th>1</th>\n",
       "      <td>-0.953846</td>\n",
       "      <td>0.677419</td>\n",
       "      <td>-0.217391</td>\n",
       "      <td>0.127660</td>\n",
       "      <td>0.0</td>\n",
       "      <td>0.0</td>\n",
       "      <td>1.0</td>\n",
       "      <td>0.0</td>\n",
       "      <td>1.0</td>\n",
       "    </tr>\n",
       "    <tr>\n",
       "      <th>2</th>\n",
       "      <td>0.851282</td>\n",
       "      <td>0.806452</td>\n",
       "      <td>-0.043478</td>\n",
       "      <td>-0.276596</td>\n",
       "      <td>0.0</td>\n",
       "      <td>1.0</td>\n",
       "      <td>0.0</td>\n",
       "      <td>0.0</td>\n",
       "      <td>1.0</td>\n",
       "    </tr>\n",
       "    <tr>\n",
       "      <th>3</th>\n",
       "      <td>0.584615</td>\n",
       "      <td>0.193548</td>\n",
       "      <td>-0.347826</td>\n",
       "      <td>-0.553191</td>\n",
       "      <td>0.0</td>\n",
       "      <td>1.0</td>\n",
       "      <td>0.0</td>\n",
       "      <td>1.0</td>\n",
       "      <td>0.0</td>\n",
       "    </tr>\n",
       "    <tr>\n",
       "      <th>4</th>\n",
       "      <td>-0.082051</td>\n",
       "      <td>-1.096774</td>\n",
       "      <td>0.826087</td>\n",
       "      <td>0.723404</td>\n",
       "      <td>1.0</td>\n",
       "      <td>0.0</td>\n",
       "      <td>0.0</td>\n",
       "      <td>1.0</td>\n",
       "      <td>0.0</td>\n",
       "    </tr>\n",
       "    <tr>\n",
       "      <th>...</th>\n",
       "      <td>...</td>\n",
       "      <td>...</td>\n",
       "      <td>...</td>\n",
       "      <td>...</td>\n",
       "      <td>...</td>\n",
       "      <td>...</td>\n",
       "      <td>...</td>\n",
       "      <td>...</td>\n",
       "      <td>...</td>\n",
       "    </tr>\n",
       "    <tr>\n",
       "      <th>218</th>\n",
       "      <td>-0.030769</td>\n",
       "      <td>0.774194</td>\n",
       "      <td>-0.086957</td>\n",
       "      <td>0.297872</td>\n",
       "      <td>0.0</td>\n",
       "      <td>1.0</td>\n",
       "      <td>0.0</td>\n",
       "      <td>0.0</td>\n",
       "      <td>1.0</td>\n",
       "    </tr>\n",
       "    <tr>\n",
       "      <th>219</th>\n",
       "      <td>-1.005128</td>\n",
       "      <td>1.225806</td>\n",
       "      <td>0.000000</td>\n",
       "      <td>0.297872</td>\n",
       "      <td>0.0</td>\n",
       "      <td>0.0</td>\n",
       "      <td>1.0</td>\n",
       "      <td>0.0</td>\n",
       "      <td>1.0</td>\n",
       "    </tr>\n",
       "    <tr>\n",
       "      <th>220</th>\n",
       "      <td>-0.687179</td>\n",
       "      <td>-0.419355</td>\n",
       "      <td>-0.652174</td>\n",
       "      <td>-0.829787</td>\n",
       "      <td>1.0</td>\n",
       "      <td>0.0</td>\n",
       "      <td>0.0</td>\n",
       "      <td>1.0</td>\n",
       "      <td>0.0</td>\n",
       "    </tr>\n",
       "    <tr>\n",
       "      <th>221</th>\n",
       "      <td>0.071795</td>\n",
       "      <td>-0.935484</td>\n",
       "      <td>0.521739</td>\n",
       "      <td>0.297872</td>\n",
       "      <td>1.0</td>\n",
       "      <td>0.0</td>\n",
       "      <td>0.0</td>\n",
       "      <td>1.0</td>\n",
       "      <td>0.0</td>\n",
       "    </tr>\n",
       "    <tr>\n",
       "      <th>222</th>\n",
       "      <td>-1.117949</td>\n",
       "      <td>0.548387</td>\n",
       "      <td>-0.347826</td>\n",
       "      <td>-0.382979</td>\n",
       "      <td>0.0</td>\n",
       "      <td>0.0</td>\n",
       "      <td>1.0</td>\n",
       "      <td>1.0</td>\n",
       "      <td>0.0</td>\n",
       "    </tr>\n",
       "  </tbody>\n",
       "</table>\n",
       "<p>223 rows × 9 columns</p>\n",
       "</div>"
      ],
      "text/plain": [
       "     culmen_length_mm  culmen_depth_mm  flipper_length_mm  body_mass_g  \\\n",
       "0            0.143590        -1.000000           0.913043     0.553191   \n",
       "1           -0.953846         0.677419          -0.217391     0.127660   \n",
       "2            0.851282         0.806452          -0.043478    -0.276596   \n",
       "3            0.584615         0.193548          -0.347826    -0.553191   \n",
       "4           -0.082051        -1.096774           0.826087     0.723404   \n",
       "..                ...              ...                ...          ...   \n",
       "218         -0.030769         0.774194          -0.086957     0.297872   \n",
       "219         -1.005128         1.225806           0.000000     0.297872   \n",
       "220         -0.687179        -0.419355          -0.652174    -0.829787   \n",
       "221          0.071795        -0.935484           0.521739     0.297872   \n",
       "222         -1.117949         0.548387          -0.347826    -0.382979   \n",
       "\n",
       "     island_Biscoe  island_Dream  island_Torgersen  sex_FEMALE  sex_MALE  \n",
       "0              1.0           0.0               0.0         1.0       0.0  \n",
       "1              0.0           0.0               1.0         0.0       1.0  \n",
       "2              0.0           1.0               0.0         0.0       1.0  \n",
       "3              0.0           1.0               0.0         1.0       0.0  \n",
       "4              1.0           0.0               0.0         1.0       0.0  \n",
       "..             ...           ...               ...         ...       ...  \n",
       "218            0.0           1.0               0.0         0.0       1.0  \n",
       "219            0.0           0.0               1.0         0.0       1.0  \n",
       "220            1.0           0.0               0.0         1.0       0.0  \n",
       "221            1.0           0.0               0.0         1.0       0.0  \n",
       "222            0.0           0.0               1.0         1.0       0.0  \n",
       "\n",
       "[223 rows x 9 columns]"
      ]
     },
     "execution_count": 16,
     "metadata": {},
     "output_type": "execute_result"
    }
   ],
   "source": [
    "X_train_preprocessed = pd.DataFrame(\n",
    "    ct.fit_transform(X_train),\n",
    "    columns=np.concatenate(\n",
    "        [ct.transformers_[0][2], ct.transformers_[1][1].get_feature_names_out()], axis=0\n",
    "    ),\n",
    ")\n",
    "X_train_preprocessed"
   ]
  },
  {
   "cell_type": "markdown",
   "metadata": {},
   "source": [
    "#### Data Leakage, ¿donde?"
   ]
  },
  {
   "cell_type": "markdown",
   "metadata": {},
   "source": [
    "1. **Medir la correlación de una features con las etiquetas**. Revisar en profundidad las correlaciones altas entre feature porque podrían contener información de nuestra etiqueta.\n",
    "\n",
    "2. **Estudio de ablación de features**. Si la eliminación de una feature provoca una disminución significativa en el rendimiento del modelo, es importante averiguar por qué.\n",
    "\n",
    "3. **Cómo identificarlo**. Métricas demasiado buenas para ser verdad. Gran brecha entre validación y test real."
   ]
  },
  {
   "cell_type": "markdown",
   "metadata": {},
   "source": [
    "**Retomemos el ejemplo anterior**"
   ]
  },
  {
   "cell_type": "code",
   "execution_count": 17,
   "metadata": {
    "ExecuteTime": {
     "end_time": "2020-09-11T17:43:12.133332Z",
     "start_time": "2020-09-11T17:43:12.121364Z"
    }
   },
   "outputs": [],
   "source": [
    "from sklearn.pipeline import Pipeline\n",
    "from sklearn.tree import DecisionTreeClassifier\n",
    "\n",
    "tree_pipe = Pipeline(\n",
    "    [(\"preprocesamiento\", ct), (\"tree\", DecisionTreeClassifier(criterion=\"entropy\"))]\n",
    ")\n",
    "\n",
    "# noten que aquí se pasa X_train ya que la etapa de\n",
    "# preprocesamiento está incluida en el pipeline (primera etapa)\n",
    "\n",
    "tree_pipe = tree_pipe.fit(X_train, y_train)"
   ]
  },
  {
   "cell_type": "code",
   "execution_count": 18,
   "metadata": {
    "ExecuteTime": {
     "end_time": "2020-09-11T17:43:12.153278Z",
     "start_time": "2020-09-11T17:43:12.135327Z"
    }
   },
   "outputs": [
    {
     "data": {
      "text/plain": [
       "111"
      ]
     },
     "execution_count": 18,
     "metadata": {},
     "output_type": "execute_result"
    }
   ],
   "source": [
    "y_pred = tree_pipe.predict(X_test)\n",
    "len(y_pred)"
   ]
  },
  {
   "cell_type": "markdown",
   "metadata": {},
   "source": [
    "### Evaluación"
   ]
  },
  {
   "cell_type": "code",
   "execution_count": 19,
   "metadata": {},
   "outputs": [
    {
     "name": "stdout",
     "output_type": "stream",
     "text": [
      "Matriz de confusión\n",
      "\n",
      " [[45  3  0]\n",
      " [ 0 23  0]\n",
      " [ 1  1 38]] \n",
      "\n",
      "              precision    recall  f1-score   support\n",
      "\n",
      "      Adelie       0.98      0.94      0.96        48\n",
      "   Chinstrap       0.85      1.00      0.92        23\n",
      "      Gentoo       1.00      0.95      0.97        40\n",
      "\n",
      "    accuracy                           0.95       111\n",
      "   macro avg       0.94      0.96      0.95       111\n",
      "weighted avg       0.96      0.95      0.96       111\n",
      "\n"
     ]
    }
   ],
   "source": [
    "print(\"Matriz de confusión\\n\\n\", confusion_matrix(y_test, y_pred), \"\\n\")\n",
    "print(classification_report(y_test, y_pred))"
   ]
  },
  {
   "cell_type": "markdown",
   "metadata": {},
   "source": [
    "> **Pregunta❓**: ¿Cuándo podemos decir que un modelo esta sobre-ajustado?"
   ]
  },
  {
   "cell_type": "markdown",
   "metadata": {},
   "source": [
    "### Learning Curves"
   ]
  },
  {
   "cell_type": "markdown",
   "metadata": {},
   "source": [
    "<center>\n",
    "<img src='https://media.tenor.com/cPX9p2z6fK8AAAAM/cerebrito-simpsons.gif' width=300 />"
   ]
  },
  {
   "cell_type": "markdown",
   "metadata": {},
   "source": [
    "Una Learning Curve muestra la relación entre la puntuación de entrenamiento y la puntuación de prueba validada cruzadamente para un estimador con un número variable de muestras de entrenamiento. Esta visualización se utiliza típicamente para demostrar:\n",
    "\n",
    "1. Cuánto se beneficia el estimador a medida que posee más datos.\n",
    "\n",
    "2. Evaluar si el modelo está sufriendo underfitting u overfitting."
   ]
  },
  {
   "cell_type": "code",
   "execution_count": 20,
   "metadata": {},
   "outputs": [
    {
     "data": {
      "image/png": "[encoded data removed]",
      "text/plain": [
       "<Figure size 800x550 with 1 Axes>"
      ]
     },
     "metadata": {},
     "output_type": "display_data"
    },
    {
     "data": {
      "text/plain": [
       "<Axes: title={'center': 'Learning Curve for DecisionTreeClassifier'}, xlabel='Training Instances', ylabel='Score'>"
      ]
     },
     "execution_count": 20,
     "metadata": {},
     "output_type": "execute_result"
    }
   ],
   "source": [
    "import numpy as np\n",
    "from yellowbrick.model_selection import LearningCurve\n",
    "import matplotlib.pyplot as plt\n",
    "plt.rcParams['font.family'] = 'DejaVu Sans'\n",
    "\n",
    "cv = StratifiedKFold(n_splits=12)\n",
    "sizes = np.linspace(0.3, 1.0, 10)\n",
    "\n",
    "visualizer = LearningCurve(\n",
    "    tree_pipe, cv=cv, scoring='f1_weighted', train_sizes=sizes, n_jobs=4\n",
    ")\n",
    "\n",
    "visualizer.fit(features, labels)\n",
    "visualizer.show()"
   ]
  },
  {
   "cell_type": "markdown",
   "metadata": {},
   "source": [
    "En sintesis, esto nos ayuda a:\n",
    "\n",
    "1. **Optimización del tamaño del conjunto de datos:** Ayuda a determinar si el modelo se beneficiaría de más datos de entrenamiento o si ya ha alcanzado su límite de rendimiento con la cantidad actual de datos. Esto es crucial para evitar el sobreajuste o el subajuste del modelo.\n",
    "\n",
    "2. **Diagnóstico de problemas de rendimiento:** Permite identificar si el modelo sufre principalmente de sesgo (underfitting) o de varianza (overfitting). Si la curva de aprendizaje indica un bajo rendimiento tanto en los datos de entrenamiento como en los de validación, es posible que el modelo necesite una mayor complejidad. Si la brecha entre las curvas de aprendizaje es grande, puede ser indicativo de sobreajuste.\n",
    "\n",
    "3. **Toma de decisiones informadas:** Proporciona información valiosa para tomar decisiones sobre la arquitectura del modelo, la recopilación de datos adicionales o la necesidad de técnicas de regularización para mejorar el rendimiento del modelo."
   ]
  },
  {
   "cell_type": "markdown",
   "metadata": {},
   "source": [
    "### Importancia de Features"
   ]
  },
  {
   "cell_type": "markdown",
   "metadata": {},
   "source": [
    "<center>\n",
    "<img src='https://i.imgur.com/pYamhDO.gif' width=300 />"
   ]
  },
  {
   "cell_type": "markdown",
   "metadata": {},
   "source": [
    ">  **Pregunta❓**: ¿Cuánto se deteriora el rendimiento del modelo si se elimina una feature o un conjunto de características que contienen esa feature del modelo?"
   ]
  },
  {
   "cell_type": "markdown",
   "metadata": {},
   "source": [
    "La feature importance en machine learning es una medida que indica la contribución relativa de cada característica (o variable) en la predicción realizada por un modelo. En esencia, proporciona información sobre qué características son más influyentes para el modelo a la hora de hacer predicciones.\n",
    "\n",
    "Esta medida es útil para entender qué variables están contribuyendo significativamente a la capacidad predictiva del modelo y puede ayudar en tareas como la selección de características, la interpretación del modelo y la identificación de características relevantes para un problema en particular.\n",
    "\n",
    "Existen diferentes métodos para calcular la importancia de características, dependiendo del tipo de modelo utilizado. Algunos modelos proporcionan directamente esta información (como los árboles de decisión), mientras que en otros casos se pueden aplicar técnicas específicas, como la importancia de características basada en permutaciones o el uso de coeficientes en modelos lineales."
   ]
  },
  {
   "attachments": {
    "43f3514d-e139-43d8-87fd-15cf4d4a9a28.png": {
     "image/png": "[encoded data removed]"
    }
   },
   "cell_type": "markdown",
   "metadata": {},
   "source": [
    "![Screenshot 2024-05-04 at 8.09.00 PM.png](attachment:43f3514d-e139-43d8-87fd-15cf4d4a9a28.png)"
   ]
  },
  {
   "cell_type": "markdown",
   "metadata": {},
   "source": [
    "Veamos la importancia en nuestro árbol:"
   ]
  },
  {
   "cell_type": "code",
   "execution_count": 21,
   "metadata": {},
   "outputs": [
    {
     "data": {
      "image/png": "[encoded data removed]",
      "text/plain": [
       "<Figure size 800x600 with 1 Axes>"
      ]
     },
     "metadata": {},
     "output_type": "display_data"
    }
   ],
   "source": [
    "columns_names = tree_pipe['preprocesamiento'].get_feature_names_out()\n",
    "feat_importances = pd.DataFrame(\n",
    "    tree_pipe['tree'].feature_importances_, \n",
    "    index=columns_names,\n",
    "    columns=[\"Importance\"]\n",
    ")\n",
    "feat_importances.sort_values(by='Importance', ascending=True, inplace=True)\n",
    "feat_importances.plot(kind='barh', figsize=(8,6), legend=False)\n",
    "plt.show()"
   ]
  },
  {
   "cell_type": "markdown",
   "metadata": {},
   "source": [
    ">  **Pregunta❓**: ¿Cómo podríamos sacarle provecho a esto?"
   ]
  },
  {
   "cell_type": "code",
   "execution_count": 22,
   "metadata": {},
   "outputs": [],
   "source": [
    "import plotly.graph_objects as go\n",
    "import numpy as np\n",
    "\n",
    "def plot_line_std(x, y, std):\n",
    "    # Crear una figura\n",
    "    fig = go.Figure()\n",
    "\n",
    "    # Añadir la línea principal\n",
    "    fig.add_trace(go.Scatter(x=x, y=y, mode='lines', name='Main Line'))\n",
    "\n",
    "    # Añadir la banda de variación o desviación estándar\n",
    "    fig.add_trace(go.Scatter(x=np.concatenate([x, x[::-1]]),\n",
    "                             y=np.concatenate([y - std, (y + std)[::-1]]),\n",
    "                             fill='toself',\n",
    "                             fillcolor='rgba(0,100,80,0.2)',\n",
    "                             line=dict(color='rgba(255,255,255,0)'),\n",
    "                             name='Variation'))\n",
    "\n",
    "    # Establecer el diseño del gráfico\n",
    "    fig.update_layout(title='Precisión del modelo con el número de features',\n",
    "                      template='simple_white',\n",
    "                      showlegend=False,\n",
    "                      xaxis_title='Número de features',\n",
    "                      yaxis_title='Score')\n",
    "\n",
    "    # Mostrar el gráfico\n",
    "    fig.show()"
   ]
  },
  {
   "cell_type": "code",
   "execution_count": 23,
   "metadata": {},
   "outputs": [
    {
     "ename": "SyntaxError",
     "evalue": "invalid syntax (1449247211.py, line 31)",
     "output_type": "error",
     "traceback": [
      "  \u001b[36mCell\u001b[39m\u001b[36m \u001b[39m\u001b[32mIn[23]\u001b[39m\u001b[32m, line 31\u001b[39m\n\u001b[31m    \u001b[39m\u001b[31mplot_line_std(x, y, std).00\u001b[39m\n                            ^\n\u001b[31mSyntaxError\u001b[39m\u001b[31m:\u001b[39m invalid syntax\n"
     ]
    }
   ],
   "source": [
    "from sklearn.model_selection import cross_val_score\n",
    "import matplotlib.pyplot as plt\n",
    "\n",
    "# Obtenemos X para el train para el ejemplo\n",
    "array_X = tree_pipe['preprocesamiento'].fit_transform(X_train)\n",
    "cols_trans_name = tree_pipe['preprocesamiento'].get_feature_names_out()\n",
    "new_X_train = pd.DataFrame(array_X, columns=cols_trans_name)\n",
    "\n",
    "# Lista para almacenar la precisión del modelo con cada número de características\n",
    "precision_scores = []\n",
    "\n",
    "# Crear un selector de características recursivo con validación cruzada\n",
    "clf = tree_pipe['tree']\n",
    "\n",
    "# Iterar sobre las características y evaluar el modelo con cada adición\n",
    "for i in range(1, len(cols_trans_name) + 1):\n",
    "    # Seleccionar las primeras i características\n",
    "    selected_features = cols_trans_name[:i]\n",
    "    scores = cross_val_score(\n",
    "        clf, new_X_train[selected_features], \n",
    "        y_train, cv=5, scoring='precision_macro'\n",
    "    )    \n",
    "    # Almacenar la precisión del modelo con i características\n",
    "    precision_scores.append(scores)\n",
    "\n",
    "# Calcular variación de los puntos\n",
    "x = [i for i in range(1, len(cols_trans_name) + 1)]\n",
    "y = np.array(precision_scores).mean(axis=1)\n",
    "std = np.array(precision_scores).std(axis=1)\n",
    "\n",
    "plot_line_std(x, y, std).00"
   ]
  },
  {
   "cell_type": "markdown",
   "metadata": {},
   "source": [
    "### Calibración de Modelos"
   ]
  },
  {
   "cell_type": "markdown",
   "metadata": {},
   "source": [
    "Sea $f: X \\rightarrow Y$, la clase predicha por $X$ es dada por $\\hat{Y}$ y con una probabilidad $\\hat{P} = f(X)$. Se define que un modelo $f$ esta perfectamente calibrado cuando $\\forall p \\in [0,1]$,  $\\mathbb{P}(\\hat{Y}=1 | \\hat{P}=p)=p$"
   ]
  },
  {
   "cell_type": "markdown",
   "metadata": {},
   "source": [
    "<center>\n",
    "<img src='https://miro.medium.com/v2/resize:fit:864/0*1tT_Ryn4f0I2IJ2b.png' width=800 />"
   ]
  },
  {
   "cell_type": "markdown",
   "metadata": {},
   "source": [
    "Las salidas de un modelo calibrado siempre están entre 0 y 1, esto nos puede permitir interpretar los valores como probabilidades. ¿Pero de qué sucesos? Para cumplir la lectura frecuentista subyacente de esas puntuaciones, las muestras con probabilidad predicha p deben tener una frecuencia observada de pertenencia a la clase positiva que sea precisamente p. Bajo esta declaración, nuestras predicciones tendrían un porcentaje de seguridad hacía que clase pertenecen."
   ]
  },
  {
   "cell_type": "markdown",
   "metadata": {},
   "source": [
    "Es importante aplicar una calibración, ya que los modelos de machine learning por lo general poseen sesgos en las distribuciones de salida (intrínsecos), por lo que aplicar modelos de calibración pueden ayudar enormemente en la toma de decisiones de nuestros modelos y en modular nuestros scores."
   ]
  },
  {
   "cell_type": "markdown",
   "metadata": {},
   "source": [
    "#### ¿Cuáles son las consecuencias de los modelos mal calibrados?\n",
    "\n",
    "Intuitivamente, uno quiere tener calibrado para poder interpretar sus probabilidades estimadas como frecuencias a largo plazo. En ese sentido, la pregunta podría ser \"¿por qué no querría estar calibrado?\". Pero vayamos más allá y señalemos algunas razones prácticas por las que queremos que nuestro modelo esté calibrado:\n",
    "\n",
    "- **Razón práctica nº 1**: Las probabilidades estimadas permiten flexibilidad\n",
    "Si está prediciendo si un usuario hará clic en un anuncio con un clasificador, es útil poder clasificar los anuncios por su probabilidad de que se haga clic en ellos. Esto no requiere calibración. Pero si desea calcular el número esperado de clics, necesitará calibrar las probabilidades. Este valor esperado puede ser útil para simular el impacto de un experimento (¿aumenta esto los clics esperados lo suficiente como para justificar la realización de un experimento real?) o puede utilizarse directamente para no publicar anuncios cuyos ingresos esperados no sean superiores a su coste.\n",
    "- **Razón práctica nº 2**: Modularidad del modelo\n",
    "En los sistemas complejos de aprendizaje automático, los modelos dependen unos de otros. Los clasificadores individuales son a menudo entradas en sistemas más grandes que toman las decisiones finales.\n",
    "\n",
    "Para estos sistemas de ML, la calibración simplifica la interacción. La calibración permite que cada modelo se centre en estimar sus probabilidades particulares lo mejor posible. Y como la interpretación es estable, no es necesario que otros componentes del sistema cambien cada vez que cambian los modelos."
   ]
  },
  {
   "cell_type": "markdown",
   "metadata": {},
   "source": [
    "<center>\n",
    "<img src='https://media2.giphy.com/media/l2Je4Ku0Cx292KWv6/200w.gif?cid=6c09b952d09suwi1qla8qqn94d8n1uv453kmb618y7cwswjf&ep=v1_gifs_search&rid=200w.gif&ct=g' width=300 />"
   ]
  },
  {
   "cell_type": "markdown",
   "metadata": {},
   "source": [
    "**Tipos de calibradores en Sklearn**:\n",
    "\n",
    "1. **Calibración de regresión isotónica**:\n",
    "   - **¿Qué hace?**: Ajusta una función isotónica a las probabilidades predichas por el clasificador. Esta función es monótona no decreciente, lo que significa que las probabilidades recalibradas aumentan o permanecen iguales en relación con las probabilidades originales.\n",
    "   - **Cuándo es útil**: Es útil cuando las probabilidades predichas por el clasificador no son monótonas o no están bien calibradas. Puede ayudar a mejorar la calibración de las probabilidades y hacer que reflejen mejor la probabilidad real de que ocurra un evento.\n",
    "\n",
    "2. **Calibración de regresión sigmoidal**:\n",
    "   - **¿Qué hace?**: Ajusta una función sigmoide a las probabilidades predichas por el clasificador. Esta función mapea las probabilidades originales a un rango más amplio, lo que puede mejorar la discriminación entre clases y la calibración de las probabilidades.\n",
    "   - **Cuándo es útil**: Es útil cuando las probabilidades predichas por el clasificador están mal calibradas o no están bien discriminadas entre las clases. La calibración sigmoidal puede ayudar a mejorar la separación entre clases y hacer que las probabilidades sean más confiables.\n",
    "   \n",
    "> Notar 💡: Un artículo muy interesante sobre calibración https://www.unofficialgoogledatascience.com/2021/04/why-model-calibration-matters-and-how.html"
   ]
  },
  {
   "cell_type": "code",
   "execution_count": null,
   "metadata": {},
   "outputs": [],
   "source": [
    "# Obtenemos X para el train para el ejemplo\n",
    "array_X = tree_pipe['preprocesamiento'].fit_transform(X_train)\n",
    "cols_trans_name = tree_pipe['preprocesamiento'].get_feature_names_out()\n",
    "new_X_train = pd.DataFrame(array_X, columns=cols_trans_name)\n",
    "\n",
    "# Obtenemos X para el test para el ejemplo\n",
    "array_X = tree_pipe['preprocesamiento'].transform(X_test)\n",
    "cols_trans_name = tree_pipe['preprocesamiento'].get_feature_names_out()\n",
    "new_X_test = pd.DataFrame(array_X, columns=cols_trans_name)\n",
    "\n",
    "# Obtenemos y para el ejemplo\n",
    "new_y_train = (y_train == 'Adelie')\n",
    "new_y_test = (y_test == 'Adelie')"
   ]
  },
  {
   "cell_type": "code",
   "execution_count": null,
   "metadata": {},
   "outputs": [],
   "source": [
    "from numpy import mean\n",
    "from sklearn.model_selection import cross_validate\n",
    "from sklearn.model_selection import RepeatedStratifiedKFold\n",
    "from sklearn.calibration import CalibratedClassifierCV\n",
    "\n",
    "# Entrenamos primero que todo un modelo\n",
    "clf = tree_pipe['tree']\n",
    "clf.fit(new_X_train, y_train)\n",
    "\n",
    "# Hacemos un Wrap sobre el modelo\n",
    "calibrated = CalibratedClassifierCV(clf, method='isotonic', cv=3)\n",
    "# Definimos procedimiento de evaluación\n",
    "cv = RepeatedStratifiedKFold(n_splits=10, n_repeats=1, random_state=1)\n",
    "# Evaluamos\n",
    "estimator = cross_validate(\n",
    "    calibrated, new_X_test, new_y_test, \n",
    "    scoring='roc_auc', cv=cv, n_jobs=-1, \n",
    "    return_estimator=True\n",
    ")"
   ]
  },
  {
   "cell_type": "code",
   "execution_count": null,
   "metadata": {},
   "outputs": [
    {
     "name": "stderr",
     "output_type": "stream",
     "text": [
      "C:\\Users\\Diego\\AppData\\Local\\Temp\\ipykernel_4808\\2853971688.py:26: UserWarning:\n",
      "\n",
      "FigureCanvasAgg is non-interactive, and thus cannot be shown\n",
      "\n"
     ]
    },
    {
     "data": {
      "image/png": "[encoded data removed]",
      "text/plain": [
       "<Figure size 800x550 with 1 Axes>"
      ]
     },
     "metadata": {},
     "output_type": "display_data"
    }
   ],
   "source": [
    "import matplotlib.pyplot as plt\n",
    "from sklearn.calibration import calibration_curve\n",
    "\n",
    "# Definimos figura para hacer el plot\n",
    "fig = plt.figure()\n",
    "ax = fig.add_subplot()\n",
    "ax.plot([0, 1], [0, 1], \"b--\", label=\"Perfectly calibrated\")\n",
    "ax.set_ylabel(\"Fraction of positives\")\n",
    "ax.set_xlabel(\"Mean predicted value\")\n",
    "ax.set_title('Calibration plot (reliability curve)')\n",
    "\n",
    "# Graficamos el primer modelo raw\n",
    "prob_pos_dt = clf.predict_proba(new_X_test)[:, 1]\n",
    "fraction_of_positives_dt, mean_predicted_value_dt = calibration_curve(new_y_test, prob_pos_dt, n_bins=20)\n",
    "ax.plot(\n",
    "    mean_predicted_value_dt, \n",
    "    fraction_of_positives_dt, \"s-\", label=\"%s\" % ('Raw model')\n",
    ")\n",
    "\n",
    "# Graficamos el modelo calibrado\n",
    "prob_pos_cc = estimator['estimator'][0].predict_proba(new_X_test)[:, 1]\n",
    "fraction_of_positives_cc, mean_predicted_value_cc = calibration_curve(new_y_test, prob_pos_cc, n_bins=10)\n",
    "ax.plot(mean_predicted_value_cc, fraction_of_positives_cc, \"s-\", label=\"%s\" % ('probabilistic calibration'))\n",
    "\n",
    "ax.legend(loc=\"lower right\")\n",
    "fig.show()"
   ]
  },
  {
   "cell_type": "markdown",
   "metadata": {},
   "source": [
    "**Consideraciones:**\n",
    "\n",
    "- En general la aplicación de la calibración no produce probabilidades perfectamente calibradas, sino sólo probabilidades mejor calibradas. \n",
    "- Necesita de un nuevo conjunto de datos llamado calibración."
   ]
  },
  {
   "cell_type": "markdown",
   "metadata": {},
   "source": [
    "### Discrimiación de Threshold"
   ]
  },
  {
   "cell_type": "markdown",
   "metadata": {},
   "source": [
    "En el ámbito de los algoritmos de clasificación, nuestro objetivo principal es predecir si una instancia pertenece a una clase u otra dentro de un conjunto de datos. Aunque los algoritmos que utilizamos generalmente ofrecen excelentes resultados, a veces resulta beneficioso reevaluar el umbral (threshold) que determina la clasificación de las instancias.\n",
    "\n",
    "En situaciones de desequilibrio de clases, es común que muchos modelos sesguen sus probabilidades hacia un extremo de la distribución, como cerca del origen. Este sesgo puede resultar en una baja tasa de casos correctamente identificados, incluso cuando se han seleccionado los mejores estimadores durante el entrenamiento. Esto suele ocurrir porque el umbral predeterminado en muchas bibliotecas de código es generalmente 0.5.\n",
    "\n",
    "Una solución efectiva para estos problemas es ajustar el umbral. Esto se puede lograr mediante el uso de gráficos de discriminación o la optimización del umbral utilizando técnicas como el método de las g-means.\n",
    "\n",
    "En cuanto al uso de gráficos de discriminación, este método consiste en evaluar el modelo con varios umbrales para observar cómo afectan al rendimiento del mismo. Las métricas que se analizan incluyen la precisión, la exhaustividad (recall), el puntaje F1 y la tasa de aceptación (queue rate). La elección del umbral adecuado dependerá de la métrica que se desee maximizar o minimizar, según los objetivos específicos del negocio."
   ]
  },
  {
   "cell_type": "code",
   "execution_count": null,
   "metadata": {},
   "outputs": [
    {
     "data": {
      "text/html": [
       "<style>#sk-container-id-1 {\n",
       "  /* Definition of color scheme common for light and dark mode */\n",
       "  --sklearn-color-text: #000;\n",
       "  --sklearn-color-text-muted: #666;\n",
       "  --sklearn-color-line: gray;\n",
       "  /* Definition of color scheme for unfitted estimators */\n",
       "  --sklearn-color-unfitted-level-0: #fff5e6;\n",
       "  --sklearn-color-unfitted-level-1: #f6e4d2;\n",
       "  --sklearn-color-unfitted-level-2: #ffe0b3;\n",
       "  --sklearn-color-unfitted-level-3: chocolate;\n",
       "  /* Definition of color scheme for fitted estimators */\n",
       "  --sklearn-color-fitted-level-0: #f0f8ff;\n",
       "  --sklearn-color-fitted-level-1: #d4ebff;\n",
       "  --sklearn-color-fitted-level-2: #b3dbfd;\n",
       "  --sklearn-color-fitted-level-3: cornflowerblue;\n",
       "\n",
       "  /* Specific color for light theme */\n",
       "  --sklearn-color-text-on-default-background: var(--sg-text-color, var(--theme-code-foreground, var(--jp-content-font-color1, black)));\n",
       "  --sklearn-color-background: var(--sg-background-color, var(--theme-background, var(--jp-layout-color0, white)));\n",
       "  --sklearn-color-border-box: var(--sg-text-color, var(--theme-code-foreground, var(--jp-content-font-color1, black)));\n",
       "  --sklearn-color-icon: #696969;\n",
       "\n",
       "  @media (prefers-color-scheme: dark) {\n",
       "    /* Redefinition of color scheme for dark theme */\n",
       "    --sklearn-color-text-on-default-background: var(--sg-text-color, var(--theme-code-foreground, var(--jp-content-font-color1, white)));\n",
       "    --sklearn-color-background: var(--sg-background-color, var(--theme-background, var(--jp-layout-color0, #111)));\n",
       "    --sklearn-color-border-box: var(--sg-text-color, var(--theme-code-foreground, var(--jp-content-font-color1, white)));\n",
       "    --sklearn-color-icon: #878787;\n",
       "  }\n",
       "}\n",
       "\n",
       "#sk-container-id-1 {\n",
       "  color: var(--sklearn-color-text);\n",
       "}\n",
       "\n",
       "#sk-container-id-1 pre {\n",
       "  padding: 0;\n",
       "}\n",
       "\n",
       "#sk-container-id-1 input.sk-hidden--visually {\n",
       "  border: 0;\n",
       "  clip: rect(1px 1px 1px 1px);\n",
       "  clip: rect(1px, 1px, 1px, 1px);\n",
       "  height: 1px;\n",
       "  margin: -1px;\n",
       "  overflow: hidden;\n",
       "  padding: 0;\n",
       "  position: absolute;\n",
       "  width: 1px;\n",
       "}\n",
       "\n",
       "#sk-container-id-1 div.sk-dashed-wrapped {\n",
       "  border: 1px dashed var(--sklearn-color-line);\n",
       "  margin: 0 0.4em 0.5em 0.4em;\n",
       "  box-sizing: border-box;\n",
       "  padding-bottom: 0.4em;\n",
       "  background-color: var(--sklearn-color-background);\n",
       "}\n",
       "\n",
       "#sk-container-id-1 div.sk-container {\n",
       "  /* jupyter's `normalize.less` sets `[hidden] { display: none; }`\n",
       "     but bootstrap.min.css set `[hidden] { display: none !important; }`\n",
       "     so we also need the `!important` here to be able to override the\n",
       "     default hidden behavior on the sphinx rendered scikit-learn.org.\n",
       "     See: https://github.com/scikit-learn/scikit-learn/issues/21755 */\n",
       "  display: inline-block !important;\n",
       "  position: relative;\n",
       "}\n",
       "\n",
       "#sk-container-id-1 div.sk-text-repr-fallback {\n",
       "  display: none;\n",
       "}\n",
       "\n",
       "div.sk-parallel-item,\n",
       "div.sk-serial,\n",
       "div.sk-item {\n",
       "  /* draw centered vertical line to link estimators */\n",
       "  background-image: linear-gradient(var(--sklearn-color-text-on-default-background), var(--sklearn-color-text-on-default-background));\n",
       "  background-size: 2px 100%;\n",
       "  background-repeat: no-repeat;\n",
       "  background-position: center center;\n",
       "}\n",
       "\n",
       "/* Parallel-specific style estimator block */\n",
       "\n",
       "#sk-container-id-1 div.sk-parallel-item::after {\n",
       "  content: \"\";\n",
       "  width: 100%;\n",
       "  border-bottom: 2px solid var(--sklearn-color-text-on-default-background);\n",
       "  flex-grow: 1;\n",
       "}\n",
       "\n",
       "#sk-container-id-1 div.sk-parallel {\n",
       "  display: flex;\n",
       "  align-items: stretch;\n",
       "  justify-content: center;\n",
       "  background-color: var(--sklearn-color-background);\n",
       "  position: relative;\n",
       "}\n",
       "\n",
       "#sk-container-id-1 div.sk-parallel-item {\n",
       "  display: flex;\n",
       "  flex-direction: column;\n",
       "}\n",
       "\n",
       "#sk-container-id-1 div.sk-parallel-item:first-child::after {\n",
       "  align-self: flex-end;\n",
       "  width: 50%;\n",
       "}\n",
       "\n",
       "#sk-container-id-1 div.sk-parallel-item:last-child::after {\n",
       "  align-self: flex-start;\n",
       "  width: 50%;\n",
       "}\n",
       "\n",
       "#sk-container-id-1 div.sk-parallel-item:only-child::after {\n",
       "  width: 0;\n",
       "}\n",
       "\n",
       "/* Serial-specific style estimator block */\n",
       "\n",
       "#sk-container-id-1 div.sk-serial {\n",
       "  display: flex;\n",
       "  flex-direction: column;\n",
       "  align-items: center;\n",
       "  background-color: var(--sklearn-color-background);\n",
       "  padding-right: 1em;\n",
       "  padding-left: 1em;\n",
       "}\n",
       "\n",
       "\n",
       "/* Toggleable style: style used for estimator/Pipeline/ColumnTransformer box that is\n",
       "clickable and can be expanded/collapsed.\n",
       "- Pipeline and ColumnTransformer use this feature and define the default style\n",
       "- Estimators will overwrite some part of the style using the `sk-estimator` class\n",
       "*/\n",
       "\n",
       "/* Pipeline and ColumnTransformer style (default) */\n",
       "\n",
       "#sk-container-id-1 div.sk-toggleable {\n",
       "  /* Default theme specific background. It is overwritten whether we have a\n",
       "  specific estimator or a Pipeline/ColumnTransformer */\n",
       "  background-color: var(--sklearn-color-background);\n",
       "}\n",
       "\n",
       "/* Toggleable label */\n",
       "#sk-container-id-1 label.sk-toggleable__label {\n",
       "  cursor: pointer;\n",
       "  display: flex;\n",
       "  width: 100%;\n",
       "  margin-bottom: 0;\n",
       "  padding: 0.5em;\n",
       "  box-sizing: border-box;\n",
       "  text-align: center;\n",
       "  align-items: start;\n",
       "  justify-content: space-between;\n",
       "  gap: 0.5em;\n",
       "}\n",
       "\n",
       "#sk-container-id-1 label.sk-toggleable__label .caption {\n",
       "  font-size: 0.6rem;\n",
       "  font-weight: lighter;\n",
       "  color: var(--sklearn-color-text-muted);\n",
       "}\n",
       "\n",
       "#sk-container-id-1 label.sk-toggleable__label-arrow:before {\n",
       "  /* Arrow on the left of the label */\n",
       "  content: \"▸\";\n",
       "  float: left;\n",
       "  margin-right: 0.25em;\n",
       "  color: var(--sklearn-color-icon);\n",
       "}\n",
       "\n",
       "#sk-container-id-1 label.sk-toggleable__label-arrow:hover:before {\n",
       "  color: var(--sklearn-color-text);\n",
       "}\n",
       "\n",
       "/* Toggleable content - dropdown */\n",
       "\n",
       "#sk-container-id-1 div.sk-toggleable__content {\n",
       "  display: none;\n",
       "  text-align: left;\n",
       "  /* unfitted */\n",
       "  background-color: var(--sklearn-color-unfitted-level-0);\n",
       "}\n",
       "\n",
       "#sk-container-id-1 div.sk-toggleable__content.fitted {\n",
       "  /* fitted */\n",
       "  background-color: var(--sklearn-color-fitted-level-0);\n",
       "}\n",
       "\n",
       "#sk-container-id-1 div.sk-toggleable__content pre {\n",
       "  margin: 0.2em;\n",
       "  border-radius: 0.25em;\n",
       "  color: var(--sklearn-color-text);\n",
       "  /* unfitted */\n",
       "  background-color: var(--sklearn-color-unfitted-level-0);\n",
       "}\n",
       "\n",
       "#sk-container-id-1 div.sk-toggleable__content.fitted pre {\n",
       "  /* unfitted */\n",
       "  background-color: var(--sklearn-color-fitted-level-0);\n",
       "}\n",
       "\n",
       "#sk-container-id-1 input.sk-toggleable__control:checked~div.sk-toggleable__content {\n",
       "  /* Expand drop-down */\n",
       "  display: block;\n",
       "  width: 100%;\n",
       "  overflow: visible;\n",
       "}\n",
       "\n",
       "#sk-container-id-1 input.sk-toggleable__control:checked~label.sk-toggleable__label-arrow:before {\n",
       "  content: \"▾\";\n",
       "}\n",
       "\n",
       "/* Pipeline/ColumnTransformer-specific style */\n",
       "\n",
       "#sk-container-id-1 div.sk-label input.sk-toggleable__control:checked~label.sk-toggleable__label {\n",
       "  color: var(--sklearn-color-text);\n",
       "  background-color: var(--sklearn-color-unfitted-level-2);\n",
       "}\n",
       "\n",
       "#sk-container-id-1 div.sk-label.fitted input.sk-toggleable__control:checked~label.sk-toggleable__label {\n",
       "  background-color: var(--sklearn-color-fitted-level-2);\n",
       "}\n",
       "\n",
       "/* Estimator-specific style */\n",
       "\n",
       "/* Colorize estimator box */\n",
       "#sk-container-id-1 div.sk-estimator input.sk-toggleable__control:checked~label.sk-toggleable__label {\n",
       "  /* unfitted */\n",
       "  background-color: var(--sklearn-color-unfitted-level-2);\n",
       "}\n",
       "\n",
       "#sk-container-id-1 div.sk-estimator.fitted input.sk-toggleable__control:checked~label.sk-toggleable__label {\n",
       "  /* fitted */\n",
       "  background-color: var(--sklearn-color-fitted-level-2);\n",
       "}\n",
       "\n",
       "#sk-container-id-1 div.sk-label label.sk-toggleable__label,\n",
       "#sk-container-id-1 div.sk-label label {\n",
       "  /* The background is the default theme color */\n",
       "  color: var(--sklearn-color-text-on-default-background);\n",
       "}\n",
       "\n",
       "/* On hover, darken the color of the background */\n",
       "#sk-container-id-1 div.sk-label:hover label.sk-toggleable__label {\n",
       "  color: var(--sklearn-color-text);\n",
       "  background-color: var(--sklearn-color-unfitted-level-2);\n",
       "}\n",
       "\n",
       "/* Label box, darken color on hover, fitted */\n",
       "#sk-container-id-1 div.sk-label.fitted:hover label.sk-toggleable__label.fitted {\n",
       "  color: var(--sklearn-color-text);\n",
       "  background-color: var(--sklearn-color-fitted-level-2);\n",
       "}\n",
       "\n",
       "/* Estimator label */\n",
       "\n",
       "#sk-container-id-1 div.sk-label label {\n",
       "  font-family: monospace;\n",
       "  font-weight: bold;\n",
       "  display: inline-block;\n",
       "  line-height: 1.2em;\n",
       "}\n",
       "\n",
       "#sk-container-id-1 div.sk-label-container {\n",
       "  text-align: center;\n",
       "}\n",
       "\n",
       "/* Estimator-specific */\n",
       "#sk-container-id-1 div.sk-estimator {\n",
       "  font-family: monospace;\n",
       "  border: 1px dotted var(--sklearn-color-border-box);\n",
       "  border-radius: 0.25em;\n",
       "  box-sizing: border-box;\n",
       "  margin-bottom: 0.5em;\n",
       "  /* unfitted */\n",
       "  background-color: var(--sklearn-color-unfitted-level-0);\n",
       "}\n",
       "\n",
       "#sk-container-id-1 div.sk-estimator.fitted {\n",
       "  /* fitted */\n",
       "  background-color: var(--sklearn-color-fitted-level-0);\n",
       "}\n",
       "\n",
       "/* on hover */\n",
       "#sk-container-id-1 div.sk-estimator:hover {\n",
       "  /* unfitted */\n",
       "  background-color: var(--sklearn-color-unfitted-level-2);\n",
       "}\n",
       "\n",
       "#sk-container-id-1 div.sk-estimator.fitted:hover {\n",
       "  /* fitted */\n",
       "  background-color: var(--sklearn-color-fitted-level-2);\n",
       "}\n",
       "\n",
       "/* Specification for estimator info (e.g. \"i\" and \"?\") */\n",
       "\n",
       "/* Common style for \"i\" and \"?\" */\n",
       "\n",
       ".sk-estimator-doc-link,\n",
       "a:link.sk-estimator-doc-link,\n",
       "a:visited.sk-estimator-doc-link {\n",
       "  float: right;\n",
       "  font-size: smaller;\n",
       "  line-height: 1em;\n",
       "  font-family: monospace;\n",
       "  background-color: var(--sklearn-color-background);\n",
       "  border-radius: 1em;\n",
       "  height: 1em;\n",
       "  width: 1em;\n",
       "  text-decoration: none !important;\n",
       "  margin-left: 0.5em;\n",
       "  text-align: center;\n",
       "  /* unfitted */\n",
       "  border: var(--sklearn-color-unfitted-level-1) 1pt solid;\n",
       "  color: var(--sklearn-color-unfitted-level-1);\n",
       "}\n",
       "\n",
       ".sk-estimator-doc-link.fitted,\n",
       "a:link.sk-estimator-doc-link.fitted,\n",
       "a:visited.sk-estimator-doc-link.fitted {\n",
       "  /* fitted */\n",
       "  border: var(--sklearn-color-fitted-level-1) 1pt solid;\n",
       "  color: var(--sklearn-color-fitted-level-1);\n",
       "}\n",
       "\n",
       "/* On hover */\n",
       "div.sk-estimator:hover .sk-estimator-doc-link:hover,\n",
       ".sk-estimator-doc-link:hover,\n",
       "div.sk-label-container:hover .sk-estimator-doc-link:hover,\n",
       ".sk-estimator-doc-link:hover {\n",
       "  /* unfitted */\n",
       "  background-color: var(--sklearn-color-unfitted-level-3);\n",
       "  color: var(--sklearn-color-background);\n",
       "  text-decoration: none;\n",
       "}\n",
       "\n",
       "div.sk-estimator.fitted:hover .sk-estimator-doc-link.fitted:hover,\n",
       ".sk-estimator-doc-link.fitted:hover,\n",
       "div.sk-label-container:hover .sk-estimator-doc-link.fitted:hover,\n",
       ".sk-estimator-doc-link.fitted:hover {\n",
       "  /* fitted */\n",
       "  background-color: var(--sklearn-color-fitted-level-3);\n",
       "  color: var(--sklearn-color-background);\n",
       "  text-decoration: none;\n",
       "}\n",
       "\n",
       "/* Span, style for the box shown on hovering the info icon */\n",
       ".sk-estimator-doc-link span {\n",
       "  display: none;\n",
       "  z-index: 9999;\n",
       "  position: relative;\n",
       "  font-weight: normal;\n",
       "  right: .2ex;\n",
       "  padding: .5ex;\n",
       "  margin: .5ex;\n",
       "  width: min-content;\n",
       "  min-width: 20ex;\n",
       "  max-width: 50ex;\n",
       "  color: var(--sklearn-color-text);\n",
       "  box-shadow: 2pt 2pt 4pt #999;\n",
       "  /* unfitted */\n",
       "  background: var(--sklearn-color-unfitted-level-0);\n",
       "  border: .5pt solid var(--sklearn-color-unfitted-level-3);\n",
       "}\n",
       "\n",
       ".sk-estimator-doc-link.fitted span {\n",
       "  /* fitted */\n",
       "  background: var(--sklearn-color-fitted-level-0);\n",
       "  border: var(--sklearn-color-fitted-level-3);\n",
       "}\n",
       "\n",
       ".sk-estimator-doc-link:hover span {\n",
       "  display: block;\n",
       "}\n",
       "\n",
       "/* \"?\"-specific style due to the `<a>` HTML tag */\n",
       "\n",
       "#sk-container-id-1 a.estimator_doc_link {\n",
       "  float: right;\n",
       "  font-size: 1rem;\n",
       "  line-height: 1em;\n",
       "  font-family: monospace;\n",
       "  background-color: var(--sklearn-color-background);\n",
       "  border-radius: 1rem;\n",
       "  height: 1rem;\n",
       "  width: 1rem;\n",
       "  text-decoration: none;\n",
       "  /* unfitted */\n",
       "  color: var(--sklearn-color-unfitted-level-1);\n",
       "  border: var(--sklearn-color-unfitted-level-1) 1pt solid;\n",
       "}\n",
       "\n",
       "#sk-container-id-1 a.estimator_doc_link.fitted {\n",
       "  /* fitted */\n",
       "  border: var(--sklearn-color-fitted-level-1) 1pt solid;\n",
       "  color: var(--sklearn-color-fitted-level-1);\n",
       "}\n",
       "\n",
       "/* On hover */\n",
       "#sk-container-id-1 a.estimator_doc_link:hover {\n",
       "  /* unfitted */\n",
       "  background-color: var(--sklearn-color-unfitted-level-3);\n",
       "  color: var(--sklearn-color-background);\n",
       "  text-decoration: none;\n",
       "}\n",
       "\n",
       "#sk-container-id-1 a.estimator_doc_link.fitted:hover {\n",
       "  /* fitted */\n",
       "  background-color: var(--sklearn-color-fitted-level-3);\n",
       "}\n",
       "\n",
       ".estimator-table summary {\n",
       "    padding: .5rem;\n",
       "    font-family: monospace;\n",
       "    cursor: pointer;\n",
       "}\n",
       "\n",
       ".estimator-table details[open] {\n",
       "    padding-left: 0.1rem;\n",
       "    padding-right: 0.1rem;\n",
       "    padding-bottom: 0.3rem;\n",
       "}\n",
       "\n",
       ".estimator-table .parameters-table {\n",
       "    margin-left: auto !important;\n",
       "    margin-right: auto !important;\n",
       "}\n",
       "\n",
       ".estimator-table .parameters-table tr:nth-child(odd) {\n",
       "    background-color: #fff;\n",
       "}\n",
       "\n",
       ".estimator-table .parameters-table tr:nth-child(even) {\n",
       "    background-color: #f6f6f6;\n",
       "}\n",
       "\n",
       ".estimator-table .parameters-table tr:hover {\n",
       "    background-color: #e0e0e0;\n",
       "}\n",
       "\n",
       ".estimator-table table td {\n",
       "    border: 1px solid rgba(106, 105, 104, 0.232);\n",
       "}\n",
       "\n",
       ".user-set td {\n",
       "    color:rgb(255, 94, 0);\n",
       "    text-align: left;\n",
       "}\n",
       "\n",
       ".user-set td.value pre {\n",
       "    color:rgb(255, 94, 0) !important;\n",
       "    background-color: transparent !important;\n",
       "}\n",
       "\n",
       ".default td {\n",
       "    color: black;\n",
       "    text-align: left;\n",
       "}\n",
       "\n",
       ".user-set td i,\n",
       ".default td i {\n",
       "    color: black;\n",
       "}\n",
       "\n",
       ".copy-paste-icon {\n",
       "    background-image: url(data:image/svg+xml;base64,PHN2ZyB4bWxucz0iaHR0cDovL3d3dy53My5vcmcvMjAwMC9zdmciIHZpZXdCb3g9IjAgMCA0NDggNTEyIj48IS0tIUZvbnQgQXdlc29tZSBGcmVlIDYuNy4yIGJ5IEBmb250YXdlc29tZSAtIGh0dHBzOi8vZm9udGF3ZXNvbWUuY29tIExpY2Vuc2UgLSBodHRwczovL2ZvbnRhd2Vzb21lLmNvbS9saWNlbnNlL2ZyZWUgQ29weXJpZ2h0IDIwMjUgRm9udGljb25zLCBJbmMuLS0+PHBhdGggZD0iTTIwOCAwTDMzMi4xIDBjMTIuNyAwIDI0LjkgNS4xIDMzLjkgMTQuMWw2Ny45IDY3LjljOSA5IDE0LjEgMjEuMiAxNC4xIDMzLjlMNDQ4IDMzNmMwIDI2LjUtMjEuNSA0OC00OCA0OGwtMTkyIDBjLTI2LjUgMC00OC0yMS41LTQ4LTQ4bDAtMjg4YzAtMjYuNSAyMS41LTQ4IDQ4LTQ4ek00OCAxMjhsODAgMCAwIDY0LTY0IDAgMCAyNTYgMTkyIDAgMC0zMiA2NCAwIDAgNDhjMCAyNi41LTIxLjUgNDgtNDggNDhMNDggNTEyYy0yNi41IDAtNDgtMjEuNS00OC00OEwwIDE3NmMwLTI2LjUgMjEuNS00OCA0OC00OHoiLz48L3N2Zz4=);\n",
       "    background-repeat: no-repeat;\n",
       "    background-size: 14px 14px;\n",
       "    background-position: 0;\n",
       "    display: inline-block;\n",
       "    width: 14px;\n",
       "    height: 14px;\n",
       "    cursor: pointer;\n",
       "}\n",
       "</style><body><div id=\"sk-container-id-1\" class=\"sk-top-container\"><div class=\"sk-text-repr-fallback\"><pre>DecisionTreeClassifier(criterion=&#x27;entropy&#x27;)</pre><b>In a Jupyter environment, please rerun this cell to show the HTML representation or trust the notebook. <br />On GitHub, the HTML representation is unable to render, please try loading this page with nbviewer.org.</b></div><div class=\"sk-container\" hidden><div class=\"sk-item\"><div class=\"sk-estimator fitted sk-toggleable\"><input class=\"sk-toggleable__control sk-hidden--visually\" id=\"sk-estimator-id-1\" type=\"checkbox\" checked><label for=\"sk-estimator-id-1\" class=\"sk-toggleable__label fitted sk-toggleable__label-arrow\"><div><div>DecisionTreeClassifier</div></div><div><a class=\"sk-estimator-doc-link fitted\" rel=\"noreferrer\" target=\"_blank\" href=\"https://scikit-learn.org/1.7/modules/generated/sklearn.tree.DecisionTreeClassifier.html\">?<span>Documentation for DecisionTreeClassifier</span></a><span class=\"sk-estimator-doc-link fitted\">i<span>Fitted</span></span></div></label><div class=\"sk-toggleable__content fitted\" data-param-prefix=\"\">\n",
       "        <div class=\"estimator-table\">\n",
       "            <details>\n",
       "                <summary>Parameters</summary>\n",
       "                <table class=\"parameters-table\">\n",
       "                  <tbody>\n",
       "                    \n",
       "        <tr class=\"user-set\">\n",
       "            <td><i class=\"copy-paste-icon\"\n",
       "                 onclick=\"copyToClipboard('criterion',\n",
       "                          this.parentElement.nextElementSibling)\"\n",
       "            ></i></td>\n",
       "            <td class=\"param\">criterion&nbsp;</td>\n",
       "            <td class=\"value\">&#x27;entropy&#x27;</td>\n",
       "        </tr>\n",
       "    \n",
       "\n",
       "        <tr class=\"default\">\n",
       "            <td><i class=\"copy-paste-icon\"\n",
       "                 onclick=\"copyToClipboard('splitter',\n",
       "                          this.parentElement.nextElementSibling)\"\n",
       "            ></i></td>\n",
       "            <td class=\"param\">splitter&nbsp;</td>\n",
       "            <td class=\"value\">&#x27;best&#x27;</td>\n",
       "        </tr>\n",
       "    \n",
       "\n",
       "        <tr class=\"default\">\n",
       "            <td><i class=\"copy-paste-icon\"\n",
       "                 onclick=\"copyToClipboard('max_depth',\n",
       "                          this.parentElement.nextElementSibling)\"\n",
       "            ></i></td>\n",
       "            <td class=\"param\">max_depth&nbsp;</td>\n",
       "            <td class=\"value\">None</td>\n",
       "        </tr>\n",
       "    \n",
       "\n",
       "        <tr class=\"default\">\n",
       "            <td><i class=\"copy-paste-icon\"\n",
       "                 onclick=\"copyToClipboard('min_samples_split',\n",
       "                          this.parentElement.nextElementSibling)\"\n",
       "            ></i></td>\n",
       "            <td class=\"param\">min_samples_split&nbsp;</td>\n",
       "            <td class=\"value\">2</td>\n",
       "        </tr>\n",
       "    \n",
       "\n",
       "        <tr class=\"default\">\n",
       "            <td><i class=\"copy-paste-icon\"\n",
       "                 onclick=\"copyToClipboard('min_samples_leaf',\n",
       "                          this.parentElement.nextElementSibling)\"\n",
       "            ></i></td>\n",
       "            <td class=\"param\">min_samples_leaf&nbsp;</td>\n",
       "            <td class=\"value\">1</td>\n",
       "        </tr>\n",
       "    \n",
       "\n",
       "        <tr class=\"default\">\n",
       "            <td><i class=\"copy-paste-icon\"\n",
       "                 onclick=\"copyToClipboard('min_weight_fraction_leaf',\n",
       "                          this.parentElement.nextElementSibling)\"\n",
       "            ></i></td>\n",
       "            <td class=\"param\">min_weight_fraction_leaf&nbsp;</td>\n",
       "            <td class=\"value\">0.0</td>\n",
       "        </tr>\n",
       "    \n",
       "\n",
       "        <tr class=\"default\">\n",
       "            <td><i class=\"copy-paste-icon\"\n",
       "                 onclick=\"copyToClipboard('max_features',\n",
       "                          this.parentElement.nextElementSibling)\"\n",
       "            ></i></td>\n",
       "            <td class=\"param\">max_features&nbsp;</td>\n",
       "            <td class=\"value\">None</td>\n",
       "        </tr>\n",
       "    \n",
       "\n",
       "        <tr class=\"default\">\n",
       "            <td><i class=\"copy-paste-icon\"\n",
       "                 onclick=\"copyToClipboard('random_state',\n",
       "                          this.parentElement.nextElementSibling)\"\n",
       "            ></i></td>\n",
       "            <td class=\"param\">random_state&nbsp;</td>\n",
       "            <td class=\"value\">None</td>\n",
       "        </tr>\n",
       "    \n",
       "\n",
       "        <tr class=\"default\">\n",
       "            <td><i class=\"copy-paste-icon\"\n",
       "                 onclick=\"copyToClipboard('max_leaf_nodes',\n",
       "                          this.parentElement.nextElementSibling)\"\n",
       "            ></i></td>\n",
       "            <td class=\"param\">max_leaf_nodes&nbsp;</td>\n",
       "            <td class=\"value\">None</td>\n",
       "        </tr>\n",
       "    \n",
       "\n",
       "        <tr class=\"default\">\n",
       "            <td><i class=\"copy-paste-icon\"\n",
       "                 onclick=\"copyToClipboard('min_impurity_decrease',\n",
       "                          this.parentElement.nextElementSibling)\"\n",
       "            ></i></td>\n",
       "            <td class=\"param\">min_impurity_decrease&nbsp;</td>\n",
       "            <td class=\"value\">0.0</td>\n",
       "        </tr>\n",
       "    \n",
       "\n",
       "        <tr class=\"default\">\n",
       "            <td><i class=\"copy-paste-icon\"\n",
       "                 onclick=\"copyToClipboard('class_weight',\n",
       "                          this.parentElement.nextElementSibling)\"\n",
       "            ></i></td>\n",
       "            <td class=\"param\">class_weight&nbsp;</td>\n",
       "            <td class=\"value\">None</td>\n",
       "        </tr>\n",
       "    \n",
       "\n",
       "        <tr class=\"default\">\n",
       "            <td><i class=\"copy-paste-icon\"\n",
       "                 onclick=\"copyToClipboard('ccp_alpha',\n",
       "                          this.parentElement.nextElementSibling)\"\n",
       "            ></i></td>\n",
       "            <td class=\"param\">ccp_alpha&nbsp;</td>\n",
       "            <td class=\"value\">0.0</td>\n",
       "        </tr>\n",
       "    \n",
       "\n",
       "        <tr class=\"default\">\n",
       "            <td><i class=\"copy-paste-icon\"\n",
       "                 onclick=\"copyToClipboard('monotonic_cst',\n",
       "                          this.parentElement.nextElementSibling)\"\n",
       "            ></i></td>\n",
       "            <td class=\"param\">monotonic_cst&nbsp;</td>\n",
       "            <td class=\"value\">None</td>\n",
       "        </tr>\n",
       "    \n",
       "                  </tbody>\n",
       "                </table>\n",
       "            </details>\n",
       "        </div>\n",
       "    </div></div></div></div></div><script>function copyToClipboard(text, element) {\n",
       "    // Get the parameter prefix from the closest toggleable content\n",
       "    const toggleableContent = element.closest('.sk-toggleable__content');\n",
       "    const paramPrefix = toggleableContent ? toggleableContent.dataset.paramPrefix : '';\n",
       "    const fullParamName = paramPrefix ? `${paramPrefix}${text}` : text;\n",
       "\n",
       "    const originalStyle = element.style;\n",
       "    const computedStyle = window.getComputedStyle(element);\n",
       "    const originalWidth = computedStyle.width;\n",
       "    const originalHTML = element.innerHTML.replace('Copied!', '');\n",
       "\n",
       "    navigator.clipboard.writeText(fullParamName)\n",
       "        .then(() => {\n",
       "            element.style.width = originalWidth;\n",
       "            element.style.color = 'green';\n",
       "            element.innerHTML = \"Copied!\";\n",
       "\n",
       "            setTimeout(() => {\n",
       "                element.innerHTML = originalHTML;\n",
       "                element.style = originalStyle;\n",
       "            }, 2000);\n",
       "        })\n",
       "        .catch(err => {\n",
       "            console.error('Failed to copy:', err);\n",
       "            element.style.color = 'red';\n",
       "            element.innerHTML = \"Failed!\";\n",
       "            setTimeout(() => {\n",
       "                element.innerHTML = originalHTML;\n",
       "                element.style = originalStyle;\n",
       "            }, 2000);\n",
       "        });\n",
       "    return false;\n",
       "}\n",
       "\n",
       "document.querySelectorAll('.fa-regular.fa-copy').forEach(function(element) {\n",
       "    const toggleableContent = element.closest('.sk-toggleable__content');\n",
       "    const paramPrefix = toggleableContent ? toggleableContent.dataset.paramPrefix : '';\n",
       "    const paramName = element.parentElement.nextElementSibling.textContent.trim();\n",
       "    const fullParamName = paramPrefix ? `${paramPrefix}${paramName}` : paramName;\n",
       "\n",
       "    element.setAttribute('title', fullParamName);\n",
       "});\n",
       "</script></body>"
      ],
      "text/plain": [
       "DecisionTreeClassifier(criterion='entropy')"
      ]
     },
     "execution_count": 26,
     "metadata": {},
     "output_type": "execute_result"
    }
   ],
   "source": [
    "from yellowbrick.classifier import DiscriminationThreshold\n",
    "\n",
    "model = tree_pipe['tree']\n",
    "model.fit(new_X_train, new_y_train)"
   ]
  },
  {
   "cell_type": "code",
   "execution_count": null,
   "metadata": {},
   "outputs": [
    {
     "data": {
      "image/png": "[encoded data removed]",
      "text/plain": [
       "<Figure size 800x550 with 1 Axes>"
      ]
     },
     "metadata": {},
     "output_type": "display_data"
    },
    {
     "data": {
      "text/plain": [
       "<AxesSubplot: title={'center': 'Threshold Plot for DecisionTreeClassifier'}, xlabel='discrimination threshold', ylabel='score'>"
      ]
     },
     "execution_count": 123,
     "metadata": {},
     "output_type": "execute_result"
    }
   ],
   "source": [
    "visualizer = DiscriminationThreshold(model, is_fitted=True)\n",
    "visualizer.fit(new_X_train, new_y_train)\n",
    "visualizer.show()"
   ]
  },
  {
   "cell_type": "code",
   "execution_count": null,
   "metadata": {},
   "outputs": [
    {
     "data": {
      "text/html": [
       "<style>#sk-container-id-3 {\n",
       "  /* Definition of color scheme common for light and dark mode */\n",
       "  --sklearn-color-text: #000;\n",
       "  --sklearn-color-text-muted: #666;\n",
       "  --sklearn-color-line: gray;\n",
       "  /* Definition of color scheme for unfitted estimators */\n",
       "  --sklearn-color-unfitted-level-0: #fff5e6;\n",
       "  --sklearn-color-unfitted-level-1: #f6e4d2;\n",
       "  --sklearn-color-unfitted-level-2: #ffe0b3;\n",
       "  --sklearn-color-unfitted-level-3: chocolate;\n",
       "  /* Definition of color scheme for fitted estimators */\n",
       "  --sklearn-color-fitted-level-0: #f0f8ff;\n",
       "  --sklearn-color-fitted-level-1: #d4ebff;\n",
       "  --sklearn-color-fitted-level-2: #b3dbfd;\n",
       "  --sklearn-color-fitted-level-3: cornflowerblue;\n",
       "\n",
       "  /* Specific color for light theme */\n",
       "  --sklearn-color-text-on-default-background: var(--sg-text-color, var(--theme-code-foreground, var(--jp-content-font-color1, black)));\n",
       "  --sklearn-color-background: var(--sg-background-color, var(--theme-background, var(--jp-layout-color0, white)));\n",
       "  --sklearn-color-border-box: var(--sg-text-color, var(--theme-code-foreground, var(--jp-content-font-color1, black)));\n",
       "  --sklearn-color-icon: #696969;\n",
       "\n",
       "  @media (prefers-color-scheme: dark) {\n",
       "    /* Redefinition of color scheme for dark theme */\n",
       "    --sklearn-color-text-on-default-background: var(--sg-text-color, var(--theme-code-foreground, var(--jp-content-font-color1, white)));\n",
       "    --sklearn-color-background: var(--sg-background-color, var(--theme-background, var(--jp-layout-color0, #111)));\n",
       "    --sklearn-color-border-box: var(--sg-text-color, var(--theme-code-foreground, var(--jp-content-font-color1, white)));\n",
       "    --sklearn-color-icon: #878787;\n",
       "  }\n",
       "}\n",
       "\n",
       "#sk-container-id-3 {\n",
       "  color: var(--sklearn-color-text);\n",
       "}\n",
       "\n",
       "#sk-container-id-3 pre {\n",
       "  padding: 0;\n",
       "}\n",
       "\n",
       "#sk-container-id-3 input.sk-hidden--visually {\n",
       "  border: 0;\n",
       "  clip: rect(1px 1px 1px 1px);\n",
       "  clip: rect(1px, 1px, 1px, 1px);\n",
       "  height: 1px;\n",
       "  margin: -1px;\n",
       "  overflow: hidden;\n",
       "  padding: 0;\n",
       "  position: absolute;\n",
       "  width: 1px;\n",
       "}\n",
       "\n",
       "#sk-container-id-3 div.sk-dashed-wrapped {\n",
       "  border: 1px dashed var(--sklearn-color-line);\n",
       "  margin: 0 0.4em 0.5em 0.4em;\n",
       "  box-sizing: border-box;\n",
       "  padding-bottom: 0.4em;\n",
       "  background-color: var(--sklearn-color-background);\n",
       "}\n",
       "\n",
       "#sk-container-id-3 div.sk-container {\n",
       "  /* jupyter's `normalize.less` sets `[hidden] { display: none; }`\n",
       "     but bootstrap.min.css set `[hidden] { display: none !important; }`\n",
       "     so we also need the `!important` here to be able to override the\n",
       "     default hidden behavior on the sphinx rendered scikit-learn.org.\n",
       "     See: https://github.com/scikit-learn/scikit-learn/issues/21755 */\n",
       "  display: inline-block !important;\n",
       "  position: relative;\n",
       "}\n",
       "\n",
       "#sk-container-id-3 div.sk-text-repr-fallback {\n",
       "  display: none;\n",
       "}\n",
       "\n",
       "div.sk-parallel-item,\n",
       "div.sk-serial,\n",
       "div.sk-item {\n",
       "  /* draw centered vertical line to link estimators */\n",
       "  background-image: linear-gradient(var(--sklearn-color-text-on-default-background), var(--sklearn-color-text-on-default-background));\n",
       "  background-size: 2px 100%;\n",
       "  background-repeat: no-repeat;\n",
       "  background-position: center center;\n",
       "}\n",
       "\n",
       "/* Parallel-specific style estimator block */\n",
       "\n",
       "#sk-container-id-3 div.sk-parallel-item::after {\n",
       "  content: \"\";\n",
       "  width: 100%;\n",
       "  border-bottom: 2px solid var(--sklearn-color-text-on-default-background);\n",
       "  flex-grow: 1;\n",
       "}\n",
       "\n",
       "#sk-container-id-3 div.sk-parallel {\n",
       "  display: flex;\n",
       "  align-items: stretch;\n",
       "  justify-content: center;\n",
       "  background-color: var(--sklearn-color-background);\n",
       "  position: relative;\n",
       "}\n",
       "\n",
       "#sk-container-id-3 div.sk-parallel-item {\n",
       "  display: flex;\n",
       "  flex-direction: column;\n",
       "}\n",
       "\n",
       "#sk-container-id-3 div.sk-parallel-item:first-child::after {\n",
       "  align-self: flex-end;\n",
       "  width: 50%;\n",
       "}\n",
       "\n",
       "#sk-container-id-3 div.sk-parallel-item:last-child::after {\n",
       "  align-self: flex-start;\n",
       "  width: 50%;\n",
       "}\n",
       "\n",
       "#sk-container-id-3 div.sk-parallel-item:only-child::after {\n",
       "  width: 0;\n",
       "}\n",
       "\n",
       "/* Serial-specific style estimator block */\n",
       "\n",
       "#sk-container-id-3 div.sk-serial {\n",
       "  display: flex;\n",
       "  flex-direction: column;\n",
       "  align-items: center;\n",
       "  background-color: var(--sklearn-color-background);\n",
       "  padding-right: 1em;\n",
       "  padding-left: 1em;\n",
       "}\n",
       "\n",
       "\n",
       "/* Toggleable style: style used for estimator/Pipeline/ColumnTransformer box that is\n",
       "clickable and can be expanded/collapsed.\n",
       "- Pipeline and ColumnTransformer use this feature and define the default style\n",
       "- Estimators will overwrite some part of the style using the `sk-estimator` class\n",
       "*/\n",
       "\n",
       "/* Pipeline and ColumnTransformer style (default) */\n",
       "\n",
       "#sk-container-id-3 div.sk-toggleable {\n",
       "  /* Default theme specific background. It is overwritten whether we have a\n",
       "  specific estimator or a Pipeline/ColumnTransformer */\n",
       "  background-color: var(--sklearn-color-background);\n",
       "}\n",
       "\n",
       "/* Toggleable label */\n",
       "#sk-container-id-3 label.sk-toggleable__label {\n",
       "  cursor: pointer;\n",
       "  display: flex;\n",
       "  width: 100%;\n",
       "  margin-bottom: 0;\n",
       "  padding: 0.5em;\n",
       "  box-sizing: border-box;\n",
       "  text-align: center;\n",
       "  align-items: start;\n",
       "  justify-content: space-between;\n",
       "  gap: 0.5em;\n",
       "}\n",
       "\n",
       "#sk-container-id-3 label.sk-toggleable__label .caption {\n",
       "  font-size: 0.6rem;\n",
       "  font-weight: lighter;\n",
       "  color: var(--sklearn-color-text-muted);\n",
       "}\n",
       "\n",
       "#sk-container-id-3 label.sk-toggleable__label-arrow:before {\n",
       "  /* Arrow on the left of the label */\n",
       "  content: \"▸\";\n",
       "  float: left;\n",
       "  margin-right: 0.25em;\n",
       "  color: var(--sklearn-color-icon);\n",
       "}\n",
       "\n",
       "#sk-container-id-3 label.sk-toggleable__label-arrow:hover:before {\n",
       "  color: var(--sklearn-color-text);\n",
       "}\n",
       "\n",
       "/* Toggleable content - dropdown */\n",
       "\n",
       "#sk-container-id-3 div.sk-toggleable__content {\n",
       "  display: none;\n",
       "  text-align: left;\n",
       "  /* unfitted */\n",
       "  background-color: var(--sklearn-color-unfitted-level-0);\n",
       "}\n",
       "\n",
       "#sk-container-id-3 div.sk-toggleable__content.fitted {\n",
       "  /* fitted */\n",
       "  background-color: var(--sklearn-color-fitted-level-0);\n",
       "}\n",
       "\n",
       "#sk-container-id-3 div.sk-toggleable__content pre {\n",
       "  margin: 0.2em;\n",
       "  border-radius: 0.25em;\n",
       "  color: var(--sklearn-color-text);\n",
       "  /* unfitted */\n",
       "  background-color: var(--sklearn-color-unfitted-level-0);\n",
       "}\n",
       "\n",
       "#sk-container-id-3 div.sk-toggleable__content.fitted pre {\n",
       "  /* unfitted */\n",
       "  background-color: var(--sklearn-color-fitted-level-0);\n",
       "}\n",
       "\n",
       "#sk-container-id-3 input.sk-toggleable__control:checked~div.sk-toggleable__content {\n",
       "  /* Expand drop-down */\n",
       "  display: block;\n",
       "  width: 100%;\n",
       "  overflow: visible;\n",
       "}\n",
       "\n",
       "#sk-container-id-3 input.sk-toggleable__control:checked~label.sk-toggleable__label-arrow:before {\n",
       "  content: \"▾\";\n",
       "}\n",
       "\n",
       "/* Pipeline/ColumnTransformer-specific style */\n",
       "\n",
       "#sk-container-id-3 div.sk-label input.sk-toggleable__control:checked~label.sk-toggleable__label {\n",
       "  color: var(--sklearn-color-text);\n",
       "  background-color: var(--sklearn-color-unfitted-level-2);\n",
       "}\n",
       "\n",
       "#sk-container-id-3 div.sk-label.fitted input.sk-toggleable__control:checked~label.sk-toggleable__label {\n",
       "  background-color: var(--sklearn-color-fitted-level-2);\n",
       "}\n",
       "\n",
       "/* Estimator-specific style */\n",
       "\n",
       "/* Colorize estimator box */\n",
       "#sk-container-id-3 div.sk-estimator input.sk-toggleable__control:checked~label.sk-toggleable__label {\n",
       "  /* unfitted */\n",
       "  background-color: var(--sklearn-color-unfitted-level-2);\n",
       "}\n",
       "\n",
       "#sk-container-id-3 div.sk-estimator.fitted input.sk-toggleable__control:checked~label.sk-toggleable__label {\n",
       "  /* fitted */\n",
       "  background-color: var(--sklearn-color-fitted-level-2);\n",
       "}\n",
       "\n",
       "#sk-container-id-3 div.sk-label label.sk-toggleable__label,\n",
       "#sk-container-id-3 div.sk-label label {\n",
       "  /* The background is the default theme color */\n",
       "  color: var(--sklearn-color-text-on-default-background);\n",
       "}\n",
       "\n",
       "/* On hover, darken the color of the background */\n",
       "#sk-container-id-3 div.sk-label:hover label.sk-toggleable__label {\n",
       "  color: var(--sklearn-color-text);\n",
       "  background-color: var(--sklearn-color-unfitted-level-2);\n",
       "}\n",
       "\n",
       "/* Label box, darken color on hover, fitted */\n",
       "#sk-container-id-3 div.sk-label.fitted:hover label.sk-toggleable__label.fitted {\n",
       "  color: var(--sklearn-color-text);\n",
       "  background-color: var(--sklearn-color-fitted-level-2);\n",
       "}\n",
       "\n",
       "/* Estimator label */\n",
       "\n",
       "#sk-container-id-3 div.sk-label label {\n",
       "  font-family: monospace;\n",
       "  font-weight: bold;\n",
       "  display: inline-block;\n",
       "  line-height: 1.2em;\n",
       "}\n",
       "\n",
       "#sk-container-id-3 div.sk-label-container {\n",
       "  text-align: center;\n",
       "}\n",
       "\n",
       "/* Estimator-specific */\n",
       "#sk-container-id-3 div.sk-estimator {\n",
       "  font-family: monospace;\n",
       "  border: 1px dotted var(--sklearn-color-border-box);\n",
       "  border-radius: 0.25em;\n",
       "  box-sizing: border-box;\n",
       "  margin-bottom: 0.5em;\n",
       "  /* unfitted */\n",
       "  background-color: var(--sklearn-color-unfitted-level-0);\n",
       "}\n",
       "\n",
       "#sk-container-id-3 div.sk-estimator.fitted {\n",
       "  /* fitted */\n",
       "  background-color: var(--sklearn-color-fitted-level-0);\n",
       "}\n",
       "\n",
       "/* on hover */\n",
       "#sk-container-id-3 div.sk-estimator:hover {\n",
       "  /* unfitted */\n",
       "  background-color: var(--sklearn-color-unfitted-level-2);\n",
       "}\n",
       "\n",
       "#sk-container-id-3 div.sk-estimator.fitted:hover {\n",
       "  /* fitted */\n",
       "  background-color: var(--sklearn-color-fitted-level-2);\n",
       "}\n",
       "\n",
       "/* Specification for estimator info (e.g. \"i\" and \"?\") */\n",
       "\n",
       "/* Common style for \"i\" and \"?\" */\n",
       "\n",
       ".sk-estimator-doc-link,\n",
       "a:link.sk-estimator-doc-link,\n",
       "a:visited.sk-estimator-doc-link {\n",
       "  float: right;\n",
       "  font-size: smaller;\n",
       "  line-height: 1em;\n",
       "  font-family: monospace;\n",
       "  background-color: var(--sklearn-color-background);\n",
       "  border-radius: 1em;\n",
       "  height: 1em;\n",
       "  width: 1em;\n",
       "  text-decoration: none !important;\n",
       "  margin-left: 0.5em;\n",
       "  text-align: center;\n",
       "  /* unfitted */\n",
       "  border: var(--sklearn-color-unfitted-level-1) 1pt solid;\n",
       "  color: var(--sklearn-color-unfitted-level-1);\n",
       "}\n",
       "\n",
       ".sk-estimator-doc-link.fitted,\n",
       "a:link.sk-estimator-doc-link.fitted,\n",
       "a:visited.sk-estimator-doc-link.fitted {\n",
       "  /* fitted */\n",
       "  border: var(--sklearn-color-fitted-level-1) 1pt solid;\n",
       "  color: var(--sklearn-color-fitted-level-1);\n",
       "}\n",
       "\n",
       "/* On hover */\n",
       "div.sk-estimator:hover .sk-estimator-doc-link:hover,\n",
       ".sk-estimator-doc-link:hover,\n",
       "div.sk-label-container:hover .sk-estimator-doc-link:hover,\n",
       ".sk-estimator-doc-link:hover {\n",
       "  /* unfitted */\n",
       "  background-color: var(--sklearn-color-unfitted-level-3);\n",
       "  color: var(--sklearn-color-background);\n",
       "  text-decoration: none;\n",
       "}\n",
       "\n",
       "div.sk-estimator.fitted:hover .sk-estimator-doc-link.fitted:hover,\n",
       ".sk-estimator-doc-link.fitted:hover,\n",
       "div.sk-label-container:hover .sk-estimator-doc-link.fitted:hover,\n",
       ".sk-estimator-doc-link.fitted:hover {\n",
       "  /* fitted */\n",
       "  background-color: var(--sklearn-color-fitted-level-3);\n",
       "  color: var(--sklearn-color-background);\n",
       "  text-decoration: none;\n",
       "}\n",
       "\n",
       "/* Span, style for the box shown on hovering the info icon */\n",
       ".sk-estimator-doc-link span {\n",
       "  display: none;\n",
       "  z-index: 9999;\n",
       "  position: relative;\n",
       "  font-weight: normal;\n",
       "  right: .2ex;\n",
       "  padding: .5ex;\n",
       "  margin: .5ex;\n",
       "  width: min-content;\n",
       "  min-width: 20ex;\n",
       "  max-width: 50ex;\n",
       "  color: var(--sklearn-color-text);\n",
       "  box-shadow: 2pt 2pt 4pt #999;\n",
       "  /* unfitted */\n",
       "  background: var(--sklearn-color-unfitted-level-0);\n",
       "  border: .5pt solid var(--sklearn-color-unfitted-level-3);\n",
       "}\n",
       "\n",
       ".sk-estimator-doc-link.fitted span {\n",
       "  /* fitted */\n",
       "  background: var(--sklearn-color-fitted-level-0);\n",
       "  border: var(--sklearn-color-fitted-level-3);\n",
       "}\n",
       "\n",
       ".sk-estimator-doc-link:hover span {\n",
       "  display: block;\n",
       "}\n",
       "\n",
       "/* \"?\"-specific style due to the `<a>` HTML tag */\n",
       "\n",
       "#sk-container-id-3 a.estimator_doc_link {\n",
       "  float: right;\n",
       "  font-size: 1rem;\n",
       "  line-height: 1em;\n",
       "  font-family: monospace;\n",
       "  background-color: var(--sklearn-color-background);\n",
       "  border-radius: 1rem;\n",
       "  height: 1rem;\n",
       "  width: 1rem;\n",
       "  text-decoration: none;\n",
       "  /* unfitted */\n",
       "  color: var(--sklearn-color-unfitted-level-1);\n",
       "  border: var(--sklearn-color-unfitted-level-1) 1pt solid;\n",
       "}\n",
       "\n",
       "#sk-container-id-3 a.estimator_doc_link.fitted {\n",
       "  /* fitted */\n",
       "  border: var(--sklearn-color-fitted-level-1) 1pt solid;\n",
       "  color: var(--sklearn-color-fitted-level-1);\n",
       "}\n",
       "\n",
       "/* On hover */\n",
       "#sk-container-id-3 a.estimator_doc_link:hover {\n",
       "  /* unfitted */\n",
       "  background-color: var(--sklearn-color-unfitted-level-3);\n",
       "  color: var(--sklearn-color-background);\n",
       "  text-decoration: none;\n",
       "}\n",
       "\n",
       "#sk-container-id-3 a.estimator_doc_link.fitted:hover {\n",
       "  /* fitted */\n",
       "  background-color: var(--sklearn-color-fitted-level-3);\n",
       "}\n",
       "\n",
       ".estimator-table summary {\n",
       "    padding: .5rem;\n",
       "    font-family: monospace;\n",
       "    cursor: pointer;\n",
       "}\n",
       "\n",
       ".estimator-table details[open] {\n",
       "    padding-left: 0.1rem;\n",
       "    padding-right: 0.1rem;\n",
       "    padding-bottom: 0.3rem;\n",
       "}\n",
       "\n",
       ".estimator-table .parameters-table {\n",
       "    margin-left: auto !important;\n",
       "    margin-right: auto !important;\n",
       "}\n",
       "\n",
       ".estimator-table .parameters-table tr:nth-child(odd) {\n",
       "    background-color: #fff;\n",
       "}\n",
       "\n",
       ".estimator-table .parameters-table tr:nth-child(even) {\n",
       "    background-color: #f6f6f6;\n",
       "}\n",
       "\n",
       ".estimator-table .parameters-table tr:hover {\n",
       "    background-color: #e0e0e0;\n",
       "}\n",
       "\n",
       ".estimator-table table td {\n",
       "    border: 1px solid rgba(106, 105, 104, 0.232);\n",
       "}\n",
       "\n",
       ".user-set td {\n",
       "    color:rgb(255, 94, 0);\n",
       "    text-align: left;\n",
       "}\n",
       "\n",
       ".user-set td.value pre {\n",
       "    color:rgb(255, 94, 0) !important;\n",
       "    background-color: transparent !important;\n",
       "}\n",
       "\n",
       ".default td {\n",
       "    color: black;\n",
       "    text-align: left;\n",
       "}\n",
       "\n",
       ".user-set td i,\n",
       ".default td i {\n",
       "    color: black;\n",
       "}\n",
       "\n",
       ".copy-paste-icon {\n",
       "    background-image: url(data:image/svg+xml;base64,PHN2ZyB4bWxucz0iaHR0cDovL3d3dy53My5vcmcvMjAwMC9zdmciIHZpZXdCb3g9IjAgMCA0NDggNTEyIj48IS0tIUZvbnQgQXdlc29tZSBGcmVlIDYuNy4yIGJ5IEBmb250YXdlc29tZSAtIGh0dHBzOi8vZm9udGF3ZXNvbWUuY29tIExpY2Vuc2UgLSBodHRwczovL2ZvbnRhd2Vzb21lLmNvbS9saWNlbnNlL2ZyZWUgQ29weXJpZ2h0IDIwMjUgRm9udGljb25zLCBJbmMuLS0+PHBhdGggZD0iTTIwOCAwTDMzMi4xIDBjMTIuNyAwIDI0LjkgNS4xIDMzLjkgMTQuMWw2Ny45IDY3LjljOSA5IDE0LjEgMjEuMiAxNC4xIDMzLjlMNDQ4IDMzNmMwIDI2LjUtMjEuNSA0OC00OCA0OGwtMTkyIDBjLTI2LjUgMC00OC0yMS41LTQ4LTQ4bDAtMjg4YzAtMjYuNSAyMS41LTQ4IDQ4LTQ4ek00OCAxMjhsODAgMCAwIDY0LTY0IDAgMCAyNTYgMTkyIDAgMC0zMiA2NCAwIDAgNDhjMCAyNi41LTIxLjUgNDgtNDggNDhMNDggNTEyYy0yNi41IDAtNDgtMjEuNS00OC00OEwwIDE3NmMwLTI2LjUgMjEuNS00OCA0OC00OHoiLz48L3N2Zz4=);\n",
       "    background-repeat: no-repeat;\n",
       "    background-size: 14px 14px;\n",
       "    background-position: 0;\n",
       "    display: inline-block;\n",
       "    width: 14px;\n",
       "    height: 14px;\n",
       "    cursor: pointer;\n",
       "}\n",
       "</style><body><div id=\"sk-container-id-3\" class=\"sk-top-container\"><div class=\"sk-text-repr-fallback\"><pre>LogisticRegression(solver=&#x27;liblinear&#x27;)</pre><b>In a Jupyter environment, please rerun this cell to show the HTML representation or trust the notebook. <br />On GitHub, the HTML representation is unable to render, please try loading this page with nbviewer.org.</b></div><div class=\"sk-container\" hidden><div class=\"sk-item\"><div class=\"sk-estimator fitted sk-toggleable\"><input class=\"sk-toggleable__control sk-hidden--visually\" id=\"sk-estimator-id-3\" type=\"checkbox\" checked><label for=\"sk-estimator-id-3\" class=\"sk-toggleable__label fitted sk-toggleable__label-arrow\"><div><div>LogisticRegression</div></div><div><a class=\"sk-estimator-doc-link fitted\" rel=\"noreferrer\" target=\"_blank\" href=\"https://scikit-learn.org/1.7/modules/generated/sklearn.linear_model.LogisticRegression.html\">?<span>Documentation for LogisticRegression</span></a><span class=\"sk-estimator-doc-link fitted\">i<span>Fitted</span></span></div></label><div class=\"sk-toggleable__content fitted\" data-param-prefix=\"\">\n",
       "        <div class=\"estimator-table\">\n",
       "            <details>\n",
       "                <summary>Parameters</summary>\n",
       "                <table class=\"parameters-table\">\n",
       "                  <tbody>\n",
       "                    \n",
       "        <tr class=\"default\">\n",
       "            <td><i class=\"copy-paste-icon\"\n",
       "                 onclick=\"copyToClipboard('penalty',\n",
       "                          this.parentElement.nextElementSibling)\"\n",
       "            ></i></td>\n",
       "            <td class=\"param\">penalty&nbsp;</td>\n",
       "            <td class=\"value\">&#x27;l2&#x27;</td>\n",
       "        </tr>\n",
       "    \n",
       "\n",
       "        <tr class=\"default\">\n",
       "            <td><i class=\"copy-paste-icon\"\n",
       "                 onclick=\"copyToClipboard('dual',\n",
       "                          this.parentElement.nextElementSibling)\"\n",
       "            ></i></td>\n",
       "            <td class=\"param\">dual&nbsp;</td>\n",
       "            <td class=\"value\">False</td>\n",
       "        </tr>\n",
       "    \n",
       "\n",
       "        <tr class=\"default\">\n",
       "            <td><i class=\"copy-paste-icon\"\n",
       "                 onclick=\"copyToClipboard('tol',\n",
       "                          this.parentElement.nextElementSibling)\"\n",
       "            ></i></td>\n",
       "            <td class=\"param\">tol&nbsp;</td>\n",
       "            <td class=\"value\">0.0001</td>\n",
       "        </tr>\n",
       "    \n",
       "\n",
       "        <tr class=\"default\">\n",
       "            <td><i class=\"copy-paste-icon\"\n",
       "                 onclick=\"copyToClipboard('C',\n",
       "                          this.parentElement.nextElementSibling)\"\n",
       "            ></i></td>\n",
       "            <td class=\"param\">C&nbsp;</td>\n",
       "            <td class=\"value\">1.0</td>\n",
       "        </tr>\n",
       "    \n",
       "\n",
       "        <tr class=\"default\">\n",
       "            <td><i class=\"copy-paste-icon\"\n",
       "                 onclick=\"copyToClipboard('fit_intercept',\n",
       "                          this.parentElement.nextElementSibling)\"\n",
       "            ></i></td>\n",
       "            <td class=\"param\">fit_intercept&nbsp;</td>\n",
       "            <td class=\"value\">True</td>\n",
       "        </tr>\n",
       "    \n",
       "\n",
       "        <tr class=\"default\">\n",
       "            <td><i class=\"copy-paste-icon\"\n",
       "                 onclick=\"copyToClipboard('intercept_scaling',\n",
       "                          this.parentElement.nextElementSibling)\"\n",
       "            ></i></td>\n",
       "            <td class=\"param\">intercept_scaling&nbsp;</td>\n",
       "            <td class=\"value\">1</td>\n",
       "        </tr>\n",
       "    \n",
       "\n",
       "        <tr class=\"default\">\n",
       "            <td><i class=\"copy-paste-icon\"\n",
       "                 onclick=\"copyToClipboard('class_weight',\n",
       "                          this.parentElement.nextElementSibling)\"\n",
       "            ></i></td>\n",
       "            <td class=\"param\">class_weight&nbsp;</td>\n",
       "            <td class=\"value\">None</td>\n",
       "        </tr>\n",
       "    \n",
       "\n",
       "        <tr class=\"default\">\n",
       "            <td><i class=\"copy-paste-icon\"\n",
       "                 onclick=\"copyToClipboard('random_state',\n",
       "                          this.parentElement.nextElementSibling)\"\n",
       "            ></i></td>\n",
       "            <td class=\"param\">random_state&nbsp;</td>\n",
       "            <td class=\"value\">None</td>\n",
       "        </tr>\n",
       "    \n",
       "\n",
       "        <tr class=\"user-set\">\n",
       "            <td><i class=\"copy-paste-icon\"\n",
       "                 onclick=\"copyToClipboard('solver',\n",
       "                          this.parentElement.nextElementSibling)\"\n",
       "            ></i></td>\n",
       "            <td class=\"param\">solver&nbsp;</td>\n",
       "            <td class=\"value\">&#x27;liblinear&#x27;</td>\n",
       "        </tr>\n",
       "    \n",
       "\n",
       "        <tr class=\"default\">\n",
       "            <td><i class=\"copy-paste-icon\"\n",
       "                 onclick=\"copyToClipboard('max_iter',\n",
       "                          this.parentElement.nextElementSibling)\"\n",
       "            ></i></td>\n",
       "            <td class=\"param\">max_iter&nbsp;</td>\n",
       "            <td class=\"value\">100</td>\n",
       "        </tr>\n",
       "    \n",
       "\n",
       "        <tr class=\"default\">\n",
       "            <td><i class=\"copy-paste-icon\"\n",
       "                 onclick=\"copyToClipboard('multi_class',\n",
       "                          this.parentElement.nextElementSibling)\"\n",
       "            ></i></td>\n",
       "            <td class=\"param\">multi_class&nbsp;</td>\n",
       "            <td class=\"value\">&#x27;deprecated&#x27;</td>\n",
       "        </tr>\n",
       "    \n",
       "\n",
       "        <tr class=\"default\">\n",
       "            <td><i class=\"copy-paste-icon\"\n",
       "                 onclick=\"copyToClipboard('verbose',\n",
       "                          this.parentElement.nextElementSibling)\"\n",
       "            ></i></td>\n",
       "            <td class=\"param\">verbose&nbsp;</td>\n",
       "            <td class=\"value\">0</td>\n",
       "        </tr>\n",
       "    \n",
       "\n",
       "        <tr class=\"default\">\n",
       "            <td><i class=\"copy-paste-icon\"\n",
       "                 onclick=\"copyToClipboard('warm_start',\n",
       "                          this.parentElement.nextElementSibling)\"\n",
       "            ></i></td>\n",
       "            <td class=\"param\">warm_start&nbsp;</td>\n",
       "            <td class=\"value\">False</td>\n",
       "        </tr>\n",
       "    \n",
       "\n",
       "        <tr class=\"default\">\n",
       "            <td><i class=\"copy-paste-icon\"\n",
       "                 onclick=\"copyToClipboard('n_jobs',\n",
       "                          this.parentElement.nextElementSibling)\"\n",
       "            ></i></td>\n",
       "            <td class=\"param\">n_jobs&nbsp;</td>\n",
       "            <td class=\"value\">None</td>\n",
       "        </tr>\n",
       "    \n",
       "\n",
       "        <tr class=\"default\">\n",
       "            <td><i class=\"copy-paste-icon\"\n",
       "                 onclick=\"copyToClipboard('l1_ratio',\n",
       "                          this.parentElement.nextElementSibling)\"\n",
       "            ></i></td>\n",
       "            <td class=\"param\">l1_ratio&nbsp;</td>\n",
       "            <td class=\"value\">None</td>\n",
       "        </tr>\n",
       "    \n",
       "                  </tbody>\n",
       "                </table>\n",
       "            </details>\n",
       "        </div>\n",
       "    </div></div></div></div></div><script>function copyToClipboard(text, element) {\n",
       "    // Get the parameter prefix from the closest toggleable content\n",
       "    const toggleableContent = element.closest('.sk-toggleable__content');\n",
       "    const paramPrefix = toggleableContent ? toggleableContent.dataset.paramPrefix : '';\n",
       "    const fullParamName = paramPrefix ? `${paramPrefix}${text}` : text;\n",
       "\n",
       "    const originalStyle = element.style;\n",
       "    const computedStyle = window.getComputedStyle(element);\n",
       "    const originalWidth = computedStyle.width;\n",
       "    const originalHTML = element.innerHTML.replace('Copied!', '');\n",
       "\n",
       "    navigator.clipboard.writeText(fullParamName)\n",
       "        .then(() => {\n",
       "            element.style.width = originalWidth;\n",
       "            element.style.color = 'green';\n",
       "            element.innerHTML = \"Copied!\";\n",
       "\n",
       "            setTimeout(() => {\n",
       "                element.innerHTML = originalHTML;\n",
       "                element.style = originalStyle;\n",
       "            }, 2000);\n",
       "        })\n",
       "        .catch(err => {\n",
       "            console.error('Failed to copy:', err);\n",
       "            element.style.color = 'red';\n",
       "            element.innerHTML = \"Failed!\";\n",
       "            setTimeout(() => {\n",
       "                element.innerHTML = originalHTML;\n",
       "                element.style = originalStyle;\n",
       "            }, 2000);\n",
       "        });\n",
       "    return false;\n",
       "}\n",
       "\n",
       "document.querySelectorAll('.fa-regular.fa-copy').forEach(function(element) {\n",
       "    const toggleableContent = element.closest('.sk-toggleable__content');\n",
       "    const paramPrefix = toggleableContent ? toggleableContent.dataset.paramPrefix : '';\n",
       "    const paramName = element.parentElement.nextElementSibling.textContent.trim();\n",
       "    const fullParamName = paramPrefix ? `${paramPrefix}${paramName}` : paramName;\n",
       "\n",
       "    element.setAttribute('title', fullParamName);\n",
       "});\n",
       "</script></body>"
      ],
      "text/plain": [
       "LogisticRegression(solver='liblinear')"
      ]
     },
     "execution_count": 29,
     "metadata": {},
     "output_type": "execute_result"
    }
   ],
   "source": [
    "from sklearn.linear_model import LogisticRegression\n",
    "\n",
    "model = LogisticRegression(solver=\"liblinear\")\n",
    "model.fit(new_X_train, new_y_train)"
   ]
  },
  {
   "cell_type": "code",
   "execution_count": null,
   "metadata": {},
   "outputs": [
    {
     "data": {
      "image/png": "[encoded data removed]",
      "text/plain": [
       "<Figure size 800x550 with 1 Axes>"
      ]
     },
     "metadata": {},
     "output_type": "display_data"
    }
   ],
   "source": [
    "visualizer = DiscriminationThreshold(model, is_fitted=True)\n",
    "visualizer.fit(new_X_train, new_y_train)\n",
    "visualizer.show()\n",
    "plt.show()"
   ]
  },
  {
   "cell_type": "markdown",
   "metadata": {},
   "source": [
    "## Selección de Modelos"
   ]
  },
  {
   "cell_type": "markdown",
   "metadata": {},
   "source": [
    "#### No piensen siempre en modelos SOTA (state of the art) 😨"
   ]
  },
  {
   "cell_type": "markdown",
   "metadata": {},
   "source": [
    "<center>\n",
    "<img src='https://media4.giphy.com/media/3o6Mb8wQGubBoBSXjq/200w.gif?cid=6c09b952orurxn8c1bhkv4td1v2m812xx2sxq4q3fjsrtohi&ep=v1_gifs_search&rid=200w.gif&ct=g' width=300 />"
   ]
  },
  {
   "cell_type": "markdown",
   "metadata": {},
   "source": [
    "1. **Costo:** A menudo, los modelos o algoritmos que son líderes en investigación pueden ser costosos de implementar en términos de recursos computacionales o financieros. Esto puede hacer que sean imprácticos o poco realistas para implementar en entornos del mundo real.\n",
    "\n",
    "2. **Latencia:** La velocidad de procesamiento puede variar entre diferentes modelos. Lo que puede funcionar rápidamente en un entorno de investigación puede no ser tan eficiente cuando se trata de manejar grandes volúmenes de datos en tiempo real o con restricciones de tiempo estrictas.\n",
    "\n",
    "3. **Éxito probado en la industria:** A veces, un modelo o técnica puede ser altamente efectivo en un entorno de investigación controlado, pero puede no tener el mismo impacto cuando se aplica en el mundo real. Esto puede deberse a diferencias en los conjuntos de datos, las condiciones de operación o las necesidades específicas de la industria.\n",
    "\n",
    "4. **Apoyo de la comunidad:** La comunidad de investigación puede respaldar un enfoque particular, pero eso no garantiza que sea la mejor opción para su aplicación específica. Es importante considerar cómo se adapta el modelo o la técnica a su caso de uso y si hay una comunidad activa que pueda proporcionar soporte y soluciones a problemas específicos."
   ]
  },
  {
   "cell_type": "markdown",
   "metadata": {},
   "source": [
    "#### Escojan el modelo más simple"
   ]
  },
  {
   "cell_type": "markdown",
   "metadata": {},
   "source": [
    "<center>\n",
    "<img src='https://media0.giphy.com/media/xT5LMQPcARLvQuknaU/200w.gif?cid=6c09b952r2d86p3qx85fwf3xdrrl4cypise3l7o7awvgjnf8&ep=v1_gifs_search&rid=200w.gif&ct=g' width=300 />"
   ]
  },
  {
   "cell_type": "markdown",
   "metadata": {},
   "source": [
    "1. **Más fácil de implementar:** Significa que es más sencillo poner en funcionamiento un sistema o aplicación utilizando ciertas técnicas o modelos. En términos de desarrollo de software, esto podría referirse a la facilidad con la que se puede instalar, configurar y hacer funcionar un sistema.\n",
    "\n",
    "2. **Implementar tempranamente permite validar el proceso:** Indica que al implementar una solución o sistema de manera temprana en el proceso de desarrollo, se pueden identificar y corregir posibles problemas o errores más rápidamente. Esto permite validar si el sistema está cumpliendo con los requisitos y expectativas deseados.\n",
    "\n",
    "3. **Más fácil de depurar:** Se refiere a la capacidad de identificar y corregir errores o fallos en el sistema de manera más eficiente. Esto puede ser importante durante el proceso de desarrollo y mantenimiento del software para asegurar su correcto funcionamiento.\n",
    "\n",
    "4. **Más fácil de mejorar:** Significa que es más sencillo realizar ajustes, optimizaciones o agregar nuevas funcionalidades a un sistema o modelo en particular. Esto puede ser crucial para mantener la relevancia y efectividad de la solución a lo largo del tiempo.\n",
    "\n",
    "5. **Más fácil de explicar:** Esta característica se refiere a la capacidad de un modelo o sistema para ser comprendido y comunicado de manera clara y concisa. Cuando un modelo es fácil de explicar, es más accesible para aquellos que no son expertos en el campo, lo que facilita su adopción y aceptación en entornos donde la comprensión del modelo es importante.\n",
    "\n",
    "6. **Modelos más simples no son necesariamente aquellos que requieren menos esfuerzo:** Esto destaca que la simplicidad de un modelo no siempre se correlaciona con la cantidad de esfuerzo necesario para desarrollarlo o implementarlo. A veces, modelos más simples pueden requerir un esfuerzo considerable para ser efectivos, mientras que modelos más complejos pueden ser más fáciles de implementar en ciertos casos.\n",
    "\n",
    "7. **BERT es fácil de comenzar con un modelo preentrenado, pero no es el más simple:** Aquí se menciona un ejemplo específico, BERT, que es un modelo de lenguaje muy utilizado en el procesamiento del lenguaje natural. Aunque es fácil comenzar con BERT utilizando un modelo preentrenado, puede no ser el modelo más simple en términos de implementación y comprensión, debido a su complejidad y sofisticación."
   ]
  },
  {
   "cell_type": "markdown",
   "metadata": {},
   "source": [
    "#### Otros puntos relevantes ❗❗❗❗"
   ]
  },
  {
   "cell_type": "markdown",
   "metadata": {},
   "source": [
    "<center>\n",
    "<img src='https://i0.wp.com/i.imgur.com/oAy4dC6.gif?w=780&quality=55&strip=all' width=300 />"
   ]
  },
  {
   "cell_type": "markdown",
   "metadata": {},
   "source": [
    "1. **Evitar sesgos humanos en la selección de modelos:** Este punto se refiere a la necesidad de evitar que los prejuicios o sesgos personales influyan en la elección de modelos para un determinado problema. Es importante seleccionar modelos de manera objetiva, basados en métricas y criterios específicos, en lugar de basarse únicamente en opiniones o preferencias personales que podrían introducir sesgos no deseados en el proceso.\n",
    "\n",
    "2. **Evaluar el buen rendimiento ahora frente al buen rendimiento más tarde:** Esta idea implica sopesar la calidad del rendimiento de un modelo en el momento presente en comparación con su posible rendimiento futuro. Es posible que un modelo tenga un buen rendimiento en el presente, pero es importante considerar si ese rendimiento se mantendrá o mejorará en el futuro a medida que cambien las condiciones o los datos. Esto puede influir en decisiones como la inversión en el desarrollo o la adopción de un modelo.\n",
    "\n",
    "3. **Evaluar los compromisos:** Al seleccionar un modelo o tomar decisiones relacionadas con él, es esencial evaluar los compromisos implicados. Esto significa considerar y equilibrar los aspectos positivos y negativos de diferentes opciones. Por ejemplo, un modelo puede tener un rendimiento superior en términos de precisión, pero podría requerir más recursos computacionales o ser más difícil de interpretar. Comprender y evaluar estos compromisos es fundamental para tomar decisiones informadas.\n",
    "\n",
    "4. **Comprender las suposiciones de tu modelo:** Cada modelo está basado en ciertas suposiciones o limitaciones que pueden afectar su rendimiento y aplicabilidad en diferentes contextos. Es importante comprender estas suposiciones para poder interpretar adecuadamente los resultados del modelo y evitar utilizarlo en situaciones donde esas suposiciones no se cumplan. Esto implica conocer cómo funciona el modelo, qué datos son más adecuados para él y qué condiciones deben cumplirse para que sea efectivo."
   ]
  },
  {
   "cell_type": "markdown",
   "metadata": {
    "tags": []
   },
   "source": [
    "#### Guía de Scikit-learn para Elegir el Modelo\n",
    "\n",
    "<img src='https://github.com/MDS7202/MDS7202/blob/main/recursos/2023-01/18-Aprendizaje-Supervisado-I/ml_map.png?raw=true' />"
   ]
  },
  {
   "cell_type": "markdown",
   "metadata": {},
   "source": [
    "## Auto-ML"
   ]
  },
  {
   "cell_type": "markdown",
   "metadata": {},
   "source": [
    "<center>\n",
    "<img src='https://i.gifer.com/origin/53/534610a486a7e3c27e25b9793ecfdae7_w200.gif' width=300 />"
   ]
  },
  {
   "cell_type": "markdown",
   "metadata": {},
   "source": [
    "AutoML, o Aprendizaje Automático Automatizado, es un proceso en el que las máquinas se encargan de los pasos involucrados en la construcción de modelos de aprendizaje automático, facilitando a los humanos la creación de modelos poderosos con menos esfuerzo. Automatiza tareas como la ingeniería de características, la selección de algoritmos, la optimización de hiperparámetros, el entrenamiento de modelos y la evaluación de modelos.\n",
    "\n",
    "Piensa en AutoML como tener un asistente inteligente que se encarga de todo el trabajo complejo involucrado en la construcción de modelos de aprendizaje automático. En lugar de probar manualmente diferentes algoritmos y ajustar parámetros para encontrar el mejor modelo, AutoML lo hace automáticamente. Esto ahorra mucho tiempo y recursos, especialmente para personas que pueden no tener un conocimiento extenso de técnicas de aprendizaje automático.\n",
    "\n",
    "En resumen, AutoML democratiza el aprendizaje automático al hacerlo más accesible para una variedad más amplia de personas, permitiéndoles aprovechar el poder del aprendizaje automático sin necesidad de ser expertos en el campo."
   ]
  },
  {
   "cell_type": "markdown",
   "metadata": {},
   "source": [
    "<center>\n",
    "<img src='https://miro.medium.com/v2/resize:fit:1024/1*Cku5-rqmqSIuhUyFkIAdIA.png' width=800 />"
   ]
  },
  {
   "cell_type": "code",
   "execution_count": null,
   "metadata": {
    "tags": []
   },
   "outputs": [],
   "source": [
    "from pycaret.classification import setup\n",
    "import os\n",
    "\n",
    "os.environ[\"PYCARET_CUSTOM_LOGGING_LEVEL\"] = \"CRITICAL\"\n",
    "\n",
    "# Setup PyCaret\n",
    "clf = setup(df, target='species')"
   ]
  },
  {
   "cell_type": "code",
   "execution_count": 127,
   "metadata": {
    "tags": []
   },
   "outputs": [
    {
     "data": {
      "text/html": [],
      "text/plain": [
       "<IPython.core.display.HTML object>"
      ]
     },
     "metadata": {},
     "output_type": "display_data"
    },
    {
     "data": {
      "text/html": [
       "<style type=\"text/css\">\n",
       "#T_4dc5d th {\n",
       "  text-align: left;\n",
       "}\n",
       "#T_4dc5d_row0_col0, #T_4dc5d_row0_col2, #T_4dc5d_row0_col4, #T_4dc5d_row0_col7, #T_4dc5d_row1_col0, #T_4dc5d_row1_col4, #T_4dc5d_row1_col7, #T_4dc5d_row2_col0, #T_4dc5d_row2_col2, #T_4dc5d_row2_col5, #T_4dc5d_row3_col0, #T_4dc5d_row3_col1, #T_4dc5d_row3_col2, #T_4dc5d_row3_col3, #T_4dc5d_row3_col4, #T_4dc5d_row3_col5, #T_4dc5d_row3_col6, #T_4dc5d_row3_col7, #T_4dc5d_row4_col0, #T_4dc5d_row4_col1, #T_4dc5d_row4_col2, #T_4dc5d_row4_col3, #T_4dc5d_row4_col4, #T_4dc5d_row4_col5, #T_4dc5d_row4_col6, #T_4dc5d_row4_col7, #T_4dc5d_row5_col0, #T_4dc5d_row5_col1, #T_4dc5d_row5_col2, #T_4dc5d_row5_col3, #T_4dc5d_row5_col4, #T_4dc5d_row5_col5, #T_4dc5d_row5_col6, #T_4dc5d_row5_col7, #T_4dc5d_row6_col0, #T_4dc5d_row6_col1, #T_4dc5d_row6_col2, #T_4dc5d_row6_col3, #T_4dc5d_row6_col4, #T_4dc5d_row6_col5, #T_4dc5d_row6_col6, #T_4dc5d_row6_col7, #T_4dc5d_row7_col0, #T_4dc5d_row7_col1, #T_4dc5d_row7_col2, #T_4dc5d_row7_col3, #T_4dc5d_row7_col4, #T_4dc5d_row7_col5, #T_4dc5d_row7_col6, #T_4dc5d_row7_col7, #T_4dc5d_row8_col0, #T_4dc5d_row8_col1, #T_4dc5d_row8_col3, #T_4dc5d_row8_col4, #T_4dc5d_row8_col5, #T_4dc5d_row8_col6, #T_4dc5d_row8_col7, #T_4dc5d_row9_col0, #T_4dc5d_row9_col1, #T_4dc5d_row9_col2, #T_4dc5d_row9_col3, #T_4dc5d_row9_col4, #T_4dc5d_row9_col5, #T_4dc5d_row9_col6, #T_4dc5d_row9_col7, #T_4dc5d_row10_col0, #T_4dc5d_row10_col1, #T_4dc5d_row10_col2, #T_4dc5d_row10_col3, #T_4dc5d_row10_col4, #T_4dc5d_row10_col5, #T_4dc5d_row10_col6, #T_4dc5d_row10_col7, #T_4dc5d_row11_col0, #T_4dc5d_row11_col1, #T_4dc5d_row11_col2, #T_4dc5d_row11_col3, #T_4dc5d_row11_col4, #T_4dc5d_row11_col5, #T_4dc5d_row11_col6, #T_4dc5d_row11_col7, #T_4dc5d_row12_col0, #T_4dc5d_row12_col1, #T_4dc5d_row12_col2, #T_4dc5d_row12_col3, #T_4dc5d_row12_col4, #T_4dc5d_row12_col5, #T_4dc5d_row12_col6, #T_4dc5d_row12_col7 {\n",
       "  text-align: left;\n",
       "}\n",
       "#T_4dc5d_row0_col1, #T_4dc5d_row0_col3, #T_4dc5d_row0_col5, #T_4dc5d_row0_col6, #T_4dc5d_row1_col1, #T_4dc5d_row1_col2, #T_4dc5d_row1_col3, #T_4dc5d_row1_col5, #T_4dc5d_row1_col6, #T_4dc5d_row2_col1, #T_4dc5d_row2_col3, #T_4dc5d_row2_col4, #T_4dc5d_row2_col6, #T_4dc5d_row2_col7, #T_4dc5d_row8_col2 {\n",
       "  text-align: left;\n",
       "  background-color: yellow;\n",
       "}\n",
       "#T_4dc5d_row0_col8 {\n",
       "  text-align: left;\n",
       "  background-color: yellow;\n",
       "  background-color: lightgrey;\n",
       "}\n",
       "#T_4dc5d_row1_col8, #T_4dc5d_row2_col8, #T_4dc5d_row3_col8, #T_4dc5d_row4_col8, #T_4dc5d_row5_col8, #T_4dc5d_row6_col8, #T_4dc5d_row7_col8, #T_4dc5d_row8_col8, #T_4dc5d_row9_col8, #T_4dc5d_row10_col8, #T_4dc5d_row11_col8, #T_4dc5d_row12_col8 {\n",
       "  text-align: left;\n",
       "  background-color: lightgrey;\n",
       "}\n",
       "</style>\n",
       "<table id=\"T_4dc5d\">\n",
       "  <thead>\n",
       "    <tr>\n",
       "      <th class=\"blank level0\" >&nbsp;</th>\n",
       "      <th id=\"T_4dc5d_level0_col0\" class=\"col_heading level0 col0\" >Model</th>\n",
       "      <th id=\"T_4dc5d_level0_col1\" class=\"col_heading level0 col1\" >Accuracy</th>\n",
       "      <th id=\"T_4dc5d_level0_col2\" class=\"col_heading level0 col2\" >AUC</th>\n",
       "      <th id=\"T_4dc5d_level0_col3\" class=\"col_heading level0 col3\" >Recall</th>\n",
       "      <th id=\"T_4dc5d_level0_col4\" class=\"col_heading level0 col4\" >Prec.</th>\n",
       "      <th id=\"T_4dc5d_level0_col5\" class=\"col_heading level0 col5\" >F1</th>\n",
       "      <th id=\"T_4dc5d_level0_col6\" class=\"col_heading level0 col6\" >Kappa</th>\n",
       "      <th id=\"T_4dc5d_level0_col7\" class=\"col_heading level0 col7\" >MCC</th>\n",
       "      <th id=\"T_4dc5d_level0_col8\" class=\"col_heading level0 col8\" >TT (Sec)</th>\n",
       "    </tr>\n",
       "  </thead>\n",
       "  <tbody>\n",
       "    <tr>\n",
       "      <th id=\"T_4dc5d_level0_row0\" class=\"row_heading level0 row0\" >ridge</th>\n",
       "      <td id=\"T_4dc5d_row0_col0\" class=\"data row0 col0\" >Ridge Classifier</td>\n",
       "      <td id=\"T_4dc5d_row0_col1\" class=\"data row0 col1\" >0.9913</td>\n",
       "      <td id=\"T_4dc5d_row0_col2\" class=\"data row0 col2\" >0.0000</td>\n",
       "      <td id=\"T_4dc5d_row0_col3\" class=\"data row0 col3\" >0.9913</td>\n",
       "      <td id=\"T_4dc5d_row0_col4\" class=\"data row0 col4\" >0.9913</td>\n",
       "      <td id=\"T_4dc5d_row0_col5\" class=\"data row0 col5\" >0.9913</td>\n",
       "      <td id=\"T_4dc5d_row0_col6\" class=\"data row0 col6\" >0.9865</td>\n",
       "      <td id=\"T_4dc5d_row0_col7\" class=\"data row0 col7\" >0.9865</td>\n",
       "      <td id=\"T_4dc5d_row0_col8\" class=\"data row0 col8\" >0.0190</td>\n",
       "    </tr>\n",
       "    <tr>\n",
       "      <th id=\"T_4dc5d_level0_row1\" class=\"row_heading level0 row1\" >lda</th>\n",
       "      <td id=\"T_4dc5d_row1_col0\" class=\"data row1 col0\" >Linear Discriminant Analysis</td>\n",
       "      <td id=\"T_4dc5d_row1_col1\" class=\"data row1 col1\" >0.9913</td>\n",
       "      <td id=\"T_4dc5d_row1_col2\" class=\"data row1 col2\" >0.9994</td>\n",
       "      <td id=\"T_4dc5d_row1_col3\" class=\"data row1 col3\" >0.9913</td>\n",
       "      <td id=\"T_4dc5d_row1_col4\" class=\"data row1 col4\" >0.9913</td>\n",
       "      <td id=\"T_4dc5d_row1_col5\" class=\"data row1 col5\" >0.9913</td>\n",
       "      <td id=\"T_4dc5d_row1_col6\" class=\"data row1 col6\" >0.9865</td>\n",
       "      <td id=\"T_4dc5d_row1_col7\" class=\"data row1 col7\" >0.9865</td>\n",
       "      <td id=\"T_4dc5d_row1_col8\" class=\"data row1 col8\" >0.0240</td>\n",
       "    </tr>\n",
       "    <tr>\n",
       "      <th id=\"T_4dc5d_level0_row2\" class=\"row_heading level0 row2\" >et</th>\n",
       "      <td id=\"T_4dc5d_row2_col0\" class=\"data row2 col0\" >Extra Trees Classifier</td>\n",
       "      <td id=\"T_4dc5d_row2_col1\" class=\"data row2 col1\" >0.9913</td>\n",
       "      <td id=\"T_4dc5d_row2_col2\" class=\"data row2 col2\" >0.9988</td>\n",
       "      <td id=\"T_4dc5d_row2_col3\" class=\"data row2 col3\" >0.9913</td>\n",
       "      <td id=\"T_4dc5d_row2_col4\" class=\"data row2 col4\" >0.9924</td>\n",
       "      <td id=\"T_4dc5d_row2_col5\" class=\"data row2 col5\" >0.9912</td>\n",
       "      <td id=\"T_4dc5d_row2_col6\" class=\"data row2 col6\" >0.9865</td>\n",
       "      <td id=\"T_4dc5d_row2_col7\" class=\"data row2 col7\" >0.9870</td>\n",
       "      <td id=\"T_4dc5d_row2_col8\" class=\"data row2 col8\" >0.0570</td>\n",
       "    </tr>\n",
       "    <tr>\n",
       "      <th id=\"T_4dc5d_level0_row3\" class=\"row_heading level0 row3\" >rf</th>\n",
       "      <td id=\"T_4dc5d_row3_col0\" class=\"data row3 col0\" >Random Forest Classifier</td>\n",
       "      <td id=\"T_4dc5d_row3_col1\" class=\"data row3 col1\" >0.9826</td>\n",
       "      <td id=\"T_4dc5d_row3_col2\" class=\"data row3 col2\" >0.9972</td>\n",
       "      <td id=\"T_4dc5d_row3_col3\" class=\"data row3 col3\" >0.9826</td>\n",
       "      <td id=\"T_4dc5d_row3_col4\" class=\"data row3 col4\" >0.9860</td>\n",
       "      <td id=\"T_4dc5d_row3_col5\" class=\"data row3 col5\" >0.9805</td>\n",
       "      <td id=\"T_4dc5d_row3_col6\" class=\"data row3 col6\" >0.9719</td>\n",
       "      <td id=\"T_4dc5d_row3_col7\" class=\"data row3 col7\" >0.9747</td>\n",
       "      <td id=\"T_4dc5d_row3_col8\" class=\"data row3 col8\" >0.0650</td>\n",
       "    </tr>\n",
       "    <tr>\n",
       "      <th id=\"T_4dc5d_level0_row4\" class=\"row_heading level0 row4\" >lr</th>\n",
       "      <td id=\"T_4dc5d_row4_col0\" class=\"data row4 col0\" >Logistic Regression</td>\n",
       "      <td id=\"T_4dc5d_row4_col1\" class=\"data row4 col1\" >0.9784</td>\n",
       "      <td id=\"T_4dc5d_row4_col2\" class=\"data row4 col2\" >0.9976</td>\n",
       "      <td id=\"T_4dc5d_row4_col3\" class=\"data row4 col3\" >0.9784</td>\n",
       "      <td id=\"T_4dc5d_row4_col4\" class=\"data row4 col4\" >0.9794</td>\n",
       "      <td id=\"T_4dc5d_row4_col5\" class=\"data row4 col5\" >0.9780</td>\n",
       "      <td id=\"T_4dc5d_row4_col6\" class=\"data row4 col6\" >0.9660</td>\n",
       "      <td id=\"T_4dc5d_row4_col7\" class=\"data row4 col7\" >0.9668</td>\n",
       "      <td id=\"T_4dc5d_row4_col8\" class=\"data row4 col8\" >0.2360</td>\n",
       "    </tr>\n",
       "    <tr>\n",
       "      <th id=\"T_4dc5d_level0_row5\" class=\"row_heading level0 row5\" >gbc</th>\n",
       "      <td id=\"T_4dc5d_row5_col0\" class=\"data row5 col0\" >Gradient Boosting Classifier</td>\n",
       "      <td id=\"T_4dc5d_row5_col1\" class=\"data row5 col1\" >0.9741</td>\n",
       "      <td id=\"T_4dc5d_row5_col2\" class=\"data row5 col2\" >0.9901</td>\n",
       "      <td id=\"T_4dc5d_row5_col3\" class=\"data row5 col3\" >0.9741</td>\n",
       "      <td id=\"T_4dc5d_row5_col4\" class=\"data row5 col4\" >0.9794</td>\n",
       "      <td id=\"T_4dc5d_row5_col5\" class=\"data row5 col5\" >0.9723</td>\n",
       "      <td id=\"T_4dc5d_row5_col6\" class=\"data row5 col6\" >0.9584</td>\n",
       "      <td id=\"T_4dc5d_row5_col7\" class=\"data row5 col7\" >0.9620</td>\n",
       "      <td id=\"T_4dc5d_row5_col8\" class=\"data row5 col8\" >0.0740</td>\n",
       "    </tr>\n",
       "    <tr>\n",
       "      <th id=\"T_4dc5d_level0_row6\" class=\"row_heading level0 row6\" >dt</th>\n",
       "      <td id=\"T_4dc5d_row6_col0\" class=\"data row6 col0\" >Decision Tree Classifier</td>\n",
       "      <td id=\"T_4dc5d_row6_col1\" class=\"data row6 col1\" >0.9609</td>\n",
       "      <td id=\"T_4dc5d_row6_col2\" class=\"data row6 col2\" >0.9675</td>\n",
       "      <td id=\"T_4dc5d_row6_col3\" class=\"data row6 col3\" >0.9609</td>\n",
       "      <td id=\"T_4dc5d_row6_col4\" class=\"data row6 col4\" >0.9675</td>\n",
       "      <td id=\"T_4dc5d_row6_col5\" class=\"data row6 col5\" >0.9596</td>\n",
       "      <td id=\"T_4dc5d_row6_col6\" class=\"data row6 col6\" >0.9376</td>\n",
       "      <td id=\"T_4dc5d_row6_col7\" class=\"data row6 col7\" >0.9414</td>\n",
       "      <td id=\"T_4dc5d_row6_col8\" class=\"data row6 col8\" >0.0270</td>\n",
       "    </tr>\n",
       "    <tr>\n",
       "      <th id=\"T_4dc5d_level0_row7\" class=\"row_heading level0 row7\" >ada</th>\n",
       "      <td id=\"T_4dc5d_row7_col0\" class=\"data row7 col0\" >Ada Boost Classifier</td>\n",
       "      <td id=\"T_4dc5d_row7_col1\" class=\"data row7 col1\" >0.8496</td>\n",
       "      <td id=\"T_4dc5d_row7_col2\" class=\"data row7 col2\" >0.9097</td>\n",
       "      <td id=\"T_4dc5d_row7_col3\" class=\"data row7 col3\" >0.8496</td>\n",
       "      <td id=\"T_4dc5d_row7_col4\" class=\"data row7 col4\" >0.8109</td>\n",
       "      <td id=\"T_4dc5d_row7_col5\" class=\"data row7 col5\" >0.8087</td>\n",
       "      <td id=\"T_4dc5d_row7_col6\" class=\"data row7 col6\" >0.7490</td>\n",
       "      <td id=\"T_4dc5d_row7_col7\" class=\"data row7 col7\" >0.7809</td>\n",
       "      <td id=\"T_4dc5d_row7_col8\" class=\"data row7 col8\" >0.0340</td>\n",
       "    </tr>\n",
       "    <tr>\n",
       "      <th id=\"T_4dc5d_level0_row8\" class=\"row_heading level0 row8\" >nb</th>\n",
       "      <td id=\"T_4dc5d_row8_col0\" class=\"data row8 col0\" >Naive Bayes</td>\n",
       "      <td id=\"T_4dc5d_row8_col1\" class=\"data row8 col1\" >0.8413</td>\n",
       "      <td id=\"T_4dc5d_row8_col2\" class=\"data row8 col2\" >0.9994</td>\n",
       "      <td id=\"T_4dc5d_row8_col3\" class=\"data row8 col3\" >0.8413</td>\n",
       "      <td id=\"T_4dc5d_row8_col4\" class=\"data row8 col4\" >0.9117</td>\n",
       "      <td id=\"T_4dc5d_row8_col5\" class=\"data row8 col5\" >0.8437</td>\n",
       "      <td id=\"T_4dc5d_row8_col6\" class=\"data row8 col6\" >0.7657</td>\n",
       "      <td id=\"T_4dc5d_row8_col7\" class=\"data row8 col7\" >0.7964</td>\n",
       "      <td id=\"T_4dc5d_row8_col8\" class=\"data row8 col8\" >0.3160</td>\n",
       "    </tr>\n",
       "    <tr>\n",
       "      <th id=\"T_4dc5d_level0_row9\" class=\"row_heading level0 row9\" >knn</th>\n",
       "      <td id=\"T_4dc5d_row9_col0\" class=\"data row9 col0\" >K Neighbors Classifier</td>\n",
       "      <td id=\"T_4dc5d_row9_col1\" class=\"data row9 col1\" >0.7672</td>\n",
       "      <td id=\"T_4dc5d_row9_col2\" class=\"data row9 col2\" >0.8596</td>\n",
       "      <td id=\"T_4dc5d_row9_col3\" class=\"data row9 col3\" >0.7672</td>\n",
       "      <td id=\"T_4dc5d_row9_col4\" class=\"data row9 col4\" >0.7616</td>\n",
       "      <td id=\"T_4dc5d_row9_col5\" class=\"data row9 col5\" >0.7409</td>\n",
       "      <td id=\"T_4dc5d_row9_col6\" class=\"data row9 col6\" >0.6210</td>\n",
       "      <td id=\"T_4dc5d_row9_col7\" class=\"data row9 col7\" >0.6445</td>\n",
       "      <td id=\"T_4dc5d_row9_col8\" class=\"data row9 col8\" >0.0800</td>\n",
       "    </tr>\n",
       "    <tr>\n",
       "      <th id=\"T_4dc5d_level0_row10\" class=\"row_heading level0 row10\" >dummy</th>\n",
       "      <td id=\"T_4dc5d_row10_col0\" class=\"data row10 col0\" >Dummy Classifier</td>\n",
       "      <td id=\"T_4dc5d_row10_col1\" class=\"data row10 col1\" >0.4377</td>\n",
       "      <td id=\"T_4dc5d_row10_col2\" class=\"data row10 col2\" >0.5000</td>\n",
       "      <td id=\"T_4dc5d_row10_col3\" class=\"data row10 col3\" >0.4377</td>\n",
       "      <td id=\"T_4dc5d_row10_col4\" class=\"data row10 col4\" >0.1917</td>\n",
       "      <td id=\"T_4dc5d_row10_col5\" class=\"data row10 col5\" >0.2666</td>\n",
       "      <td id=\"T_4dc5d_row10_col6\" class=\"data row10 col6\" >0.0000</td>\n",
       "      <td id=\"T_4dc5d_row10_col7\" class=\"data row10 col7\" >0.0000</td>\n",
       "      <td id=\"T_4dc5d_row10_col8\" class=\"data row10 col8\" >0.0240</td>\n",
       "    </tr>\n",
       "    <tr>\n",
       "      <th id=\"T_4dc5d_level0_row11\" class=\"row_heading level0 row11\" >qda</th>\n",
       "      <td id=\"T_4dc5d_row11_col0\" class=\"data row11 col0\" >Quadratic Discriminant Analysis</td>\n",
       "      <td id=\"T_4dc5d_row11_col1\" class=\"data row11 col1\" >0.4159</td>\n",
       "      <td id=\"T_4dc5d_row11_col2\" class=\"data row11 col2\" >0.0000</td>\n",
       "      <td id=\"T_4dc5d_row11_col3\" class=\"data row11 col3\" >0.4159</td>\n",
       "      <td id=\"T_4dc5d_row11_col4\" class=\"data row11 col4\" >0.1775</td>\n",
       "      <td id=\"T_4dc5d_row11_col5\" class=\"data row11 col5\" >0.2480</td>\n",
       "      <td id=\"T_4dc5d_row11_col6\" class=\"data row11 col6\" >0.0000</td>\n",
       "      <td id=\"T_4dc5d_row11_col7\" class=\"data row11 col7\" >0.0000</td>\n",
       "      <td id=\"T_4dc5d_row11_col8\" class=\"data row11 col8\" >0.0240</td>\n",
       "    </tr>\n",
       "    <tr>\n",
       "      <th id=\"T_4dc5d_level0_row12\" class=\"row_heading level0 row12\" >svm</th>\n",
       "      <td id=\"T_4dc5d_row12_col0\" class=\"data row12 col0\" >SVM - Linear Kernel</td>\n",
       "      <td id=\"T_4dc5d_row12_col1\" class=\"data row12 col1\" >0.3611</td>\n",
       "      <td id=\"T_4dc5d_row12_col2\" class=\"data row12 col2\" >0.0000</td>\n",
       "      <td id=\"T_4dc5d_row12_col3\" class=\"data row12 col3\" >0.3611</td>\n",
       "      <td id=\"T_4dc5d_row12_col4\" class=\"data row12 col4\" >0.2107</td>\n",
       "      <td id=\"T_4dc5d_row12_col5\" class=\"data row12 col5\" >0.2260</td>\n",
       "      <td id=\"T_4dc5d_row12_col6\" class=\"data row12 col6\" >0.0659</td>\n",
       "      <td id=\"T_4dc5d_row12_col7\" class=\"data row12 col7\" >0.1025</td>\n",
       "      <td id=\"T_4dc5d_row12_col8\" class=\"data row12 col8\" >0.0200</td>\n",
       "    </tr>\n",
       "  </tbody>\n",
       "</table>\n"
      ],
      "text/plain": [
       "<pandas.io.formats.style.Styler at 0x7f227f4d3130>"
      ]
     },
     "metadata": {},
     "output_type": "display_data"
    },
    {
     "data": {
      "text/html": [],
      "text/plain": [
       "<IPython.core.display.HTML object>"
      ]
     },
     "metadata": {},
     "output_type": "display_data"
    }
   ],
   "source": [
    "# Comparar un conjunto de modelos\n",
    "best_model = compare_models(exclude = ['lightgbm'])"
   ]
  },
  {
   "cell_type": "code",
   "execution_count": 128,
   "metadata": {},
   "outputs": [
    {
     "data": {
      "text/html": [],
      "text/plain": [
       "<IPython.core.display.HTML object>"
      ]
     },
     "metadata": {},
     "output_type": "display_data"
    }
   ],
   "source": [
    "predicciones = predict_model(best_model, data=X_test)"
   ]
  },
  {
   "cell_type": "code",
   "execution_count": 129,
   "metadata": {},
   "outputs": [
    {
     "data": {
      "text/html": [
       "<div>\n",
       "<style scoped>\n",
       "    .dataframe tbody tr th:only-of-type {\n",
       "        vertical-align: middle;\n",
       "    }\n",
       "\n",
       "    .dataframe tbody tr th {\n",
       "        vertical-align: top;\n",
       "    }\n",
       "\n",
       "    .dataframe thead th {\n",
       "        text-align: right;\n",
       "    }\n",
       "</style>\n",
       "<table border=\"1\" class=\"dataframe\">\n",
       "  <thead>\n",
       "    <tr style=\"text-align: right;\">\n",
       "      <th></th>\n",
       "      <th>island</th>\n",
       "      <th>culmen_length_mm</th>\n",
       "      <th>culmen_depth_mm</th>\n",
       "      <th>flipper_length_mm</th>\n",
       "      <th>body_mass_g</th>\n",
       "      <th>sex</th>\n",
       "      <th>prediction_label</th>\n",
       "    </tr>\n",
       "  </thead>\n",
       "  <tbody>\n",
       "    <tr>\n",
       "      <th>322</th>\n",
       "      <td>Biscoe</td>\n",
       "      <td>49.799999</td>\n",
       "      <td>15.900000</td>\n",
       "      <td>229.0</td>\n",
       "      <td>5950.0</td>\n",
       "      <td>MALE</td>\n",
       "      <td>Gentoo</td>\n",
       "    </tr>\n",
       "    <tr>\n",
       "      <th>125</th>\n",
       "      <td>Torgersen</td>\n",
       "      <td>43.099998</td>\n",
       "      <td>19.200001</td>\n",
       "      <td>197.0</td>\n",
       "      <td>3500.0</td>\n",
       "      <td>MALE</td>\n",
       "      <td>Adelie</td>\n",
       "    </tr>\n",
       "    <tr>\n",
       "      <th>232</th>\n",
       "      <td>Biscoe</td>\n",
       "      <td>46.200001</td>\n",
       "      <td>14.500000</td>\n",
       "      <td>209.0</td>\n",
       "      <td>4800.0</td>\n",
       "      <td>FEMALE</td>\n",
       "      <td>Gentoo</td>\n",
       "    </tr>\n",
       "    <tr>\n",
       "      <th>149</th>\n",
       "      <td>Dream</td>\n",
       "      <td>45.400002</td>\n",
       "      <td>18.700001</td>\n",
       "      <td>188.0</td>\n",
       "      <td>3525.0</td>\n",
       "      <td>FEMALE</td>\n",
       "      <td>Chinstrap</td>\n",
       "    </tr>\n",
       "    <tr>\n",
       "      <th>106</th>\n",
       "      <td>Biscoe</td>\n",
       "      <td>39.700001</td>\n",
       "      <td>17.700001</td>\n",
       "      <td>193.0</td>\n",
       "      <td>3200.0</td>\n",
       "      <td>FEMALE</td>\n",
       "      <td>Adelie</td>\n",
       "    </tr>\n",
       "    <tr>\n",
       "      <th>...</th>\n",
       "      <td>...</td>\n",
       "      <td>...</td>\n",
       "      <td>...</td>\n",
       "      <td>...</td>\n",
       "      <td>...</td>\n",
       "      <td>...</td>\n",
       "      <td>...</td>\n",
       "    </tr>\n",
       "    <tr>\n",
       "      <th>314</th>\n",
       "      <td>Biscoe</td>\n",
       "      <td>47.200001</td>\n",
       "      <td>15.500000</td>\n",
       "      <td>215.0</td>\n",
       "      <td>4975.0</td>\n",
       "      <td>FEMALE</td>\n",
       "      <td>Gentoo</td>\n",
       "    </tr>\n",
       "    <tr>\n",
       "      <th>213</th>\n",
       "      <td>Dream</td>\n",
       "      <td>50.200001</td>\n",
       "      <td>18.700001</td>\n",
       "      <td>198.0</td>\n",
       "      <td>3775.0</td>\n",
       "      <td>FEMALE</td>\n",
       "      <td>Chinstrap</td>\n",
       "    </tr>\n",
       "    <tr>\n",
       "      <th>283</th>\n",
       "      <td>Biscoe</td>\n",
       "      <td>46.400002</td>\n",
       "      <td>15.600000</td>\n",
       "      <td>221.0</td>\n",
       "      <td>5000.0</td>\n",
       "      <td>MALE</td>\n",
       "      <td>Gentoo</td>\n",
       "    </tr>\n",
       "    <tr>\n",
       "      <th>175</th>\n",
       "      <td>Dream</td>\n",
       "      <td>52.799999</td>\n",
       "      <td>20.000000</td>\n",
       "      <td>205.0</td>\n",
       "      <td>4550.0</td>\n",
       "      <td>MALE</td>\n",
       "      <td>Chinstrap</td>\n",
       "    </tr>\n",
       "    <tr>\n",
       "      <th>57</th>\n",
       "      <td>Biscoe</td>\n",
       "      <td>41.099998</td>\n",
       "      <td>18.200001</td>\n",
       "      <td>192.0</td>\n",
       "      <td>4050.0</td>\n",
       "      <td>MALE</td>\n",
       "      <td>Adelie</td>\n",
       "    </tr>\n",
       "  </tbody>\n",
       "</table>\n",
       "<p>111 rows × 7 columns</p>\n",
       "</div>"
      ],
      "text/plain": [
       "        island  culmen_length_mm  culmen_depth_mm  flipper_length_mm  \\\n",
       "322     Biscoe         49.799999        15.900000              229.0   \n",
       "125  Torgersen         43.099998        19.200001              197.0   \n",
       "232     Biscoe         46.200001        14.500000              209.0   \n",
       "149      Dream         45.400002        18.700001              188.0   \n",
       "106     Biscoe         39.700001        17.700001              193.0   \n",
       "..         ...               ...              ...                ...   \n",
       "314     Biscoe         47.200001        15.500000              215.0   \n",
       "213      Dream         50.200001        18.700001              198.0   \n",
       "283     Biscoe         46.400002        15.600000              221.0   \n",
       "175      Dream         52.799999        20.000000              205.0   \n",
       "57      Biscoe         41.099998        18.200001              192.0   \n",
       "\n",
       "     body_mass_g     sex prediction_label  \n",
       "322       5950.0    MALE           Gentoo  \n",
       "125       3500.0    MALE           Adelie  \n",
       "232       4800.0  FEMALE           Gentoo  \n",
       "149       3525.0  FEMALE        Chinstrap  \n",
       "106       3200.0  FEMALE           Adelie  \n",
       "..           ...     ...              ...  \n",
       "314       4975.0  FEMALE           Gentoo  \n",
       "213       3775.0  FEMALE        Chinstrap  \n",
       "283       5000.0    MALE           Gentoo  \n",
       "175       4550.0    MALE        Chinstrap  \n",
       "57        4050.0    MALE           Adelie  \n",
       "\n",
       "[111 rows x 7 columns]"
      ]
     },
     "execution_count": 129,
     "metadata": {},
     "output_type": "execute_result"
    }
   ],
   "source": [
    "predicciones"
   ]
  }
 ],
 "metadata": {
  "kernelspec": {
   "display_name": "mds7207pycaret",
   "language": "python",
   "name": "python3"
  },
  "language_info": {
   "codemirror_mode": {
    "name": "ipython",
    "version": 3
   },
   "file_extension": ".py",
   "mimetype": "text/x-python",
   "name": "python",
   "nbconvert_exporter": "python",
   "pygments_lexer": "ipython3",
   "version": "3.11.13"
  },
  "toc": {
   "base_numbering": 1,
   "nav_menu": {},
   "number_sections": false,
   "sideBar": true,
   "skip_h1_title": true,
   "title_cell": "Table of Contents",
   "title_sidebar": "Contents",
   "toc_cell": false,
   "toc_position": {},
   "toc_section_display": true,
   "toc_window_display": false
  },
  "varInspector": {
   "cols": {
    "lenName": 16,
    "lenType": 16,
    "lenVar": 40
   },
   "kernels_config": {
    "python": {
     "delete_cmd_postfix": "",
     "delete_cmd_prefix": "del ",
     "library": "var_list.py",
     "varRefreshCmd": "print(var_dic_list())"
    },
    "r": {
     "delete_cmd_postfix": ") ",
     "delete_cmd_prefix": "rm(",
     "library": "var_list.r",
     "varRefreshCmd": "cat(var_dic_list()) "
    }
   },
   "types_to_exclude": [
    "module",
    "function",
    "builtin_function_or_method",
    "instance",
    "_Feature"
   ],
   "window_display": false
  }
 },
 "nbformat": 4,
 "nbformat_minor": 4
}
