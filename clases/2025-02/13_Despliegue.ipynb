{
 "cells": [
  {
   "attachments": {},
   "cell_type": "markdown",
   "id": "1111d3ad-458e-475b-ab30-0017e4117e8a",
   "metadata": {},
   "source": [
    "# Clase 13: Despliegue\n",
    "\n",
    "**MDS7202: Laboratorio de Programación Científica para Ciencia de Datos**\n"
   ]
  },
  {
   "cell_type": "markdown",
   "id": "9ec262af",
   "metadata": {},
   "source": [
    "## Objetivo\n",
    "\n",
    "- Conocer diferentes herramientas de despliegue de modelos: `Gradio`, `FastAPI`\n",
    "- Comprender los distintos componentes de los sistemas basados en ML como la arquitectura cliente-servidor, URL, HTTP, APIs REST, etc..."
   ]
  },
  {
   "cell_type": "markdown",
   "id": "67fe4da8",
   "metadata": {},
   "source": [
    "## Datos de esta clase"
   ]
  },
  {
   "cell_type": "markdown",
   "id": "3594a4fe",
   "metadata": {
    "vscode": {
     "languageId": "plaintext"
    }
   },
   "source": [
    "Para esta clase, ejemplificaremos lo aprendido utilizando el clásico **Iris Dataset**. El objetivo es simple: entrenar un modelo de ML para clasificar flores del tipo iris en sus 3 categorías: setosa, versicolor y virginica. Las características disponibles son 4: el largo y ancho del pétalo y sépalo.\n",
    "\n",
    "![Iris Dataset](../../recursos/2024-01/despliegue/images/iris.png)"
   ]
  },
  {
   "cell_type": "markdown",
   "id": "ba94c037",
   "metadata": {},
   "source": [
    "Comencemos primero importando los datos. Podemos hacer esto de manera simple usando la API de `sklearn`:"
   ]
  },
  {
   "cell_type": "code",
   "execution_count": 1,
   "id": "d15d59dd",
   "metadata": {},
   "outputs": [
    {
     "data": {
      "text/html": [
       "<div>\n",
       "<style scoped>\n",
       "    .dataframe tbody tr th:only-of-type {\n",
       "        vertical-align: middle;\n",
       "    }\n",
       "\n",
       "    .dataframe tbody tr th {\n",
       "        vertical-align: top;\n",
       "    }\n",
       "\n",
       "    .dataframe thead th {\n",
       "        text-align: right;\n",
       "    }\n",
       "</style>\n",
       "<table border=\"1\" class=\"dataframe\">\n",
       "  <thead>\n",
       "    <tr style=\"text-align: right;\">\n",
       "      <th></th>\n",
       "      <th>sepal length (cm)</th>\n",
       "      <th>sepal width (cm)</th>\n",
       "      <th>petal length (cm)</th>\n",
       "      <th>petal width (cm)</th>\n",
       "    </tr>\n",
       "  </thead>\n",
       "  <tbody>\n",
       "    <tr>\n",
       "      <th>0</th>\n",
       "      <td>5.1</td>\n",
       "      <td>3.5</td>\n",
       "      <td>1.4</td>\n",
       "      <td>0.2</td>\n",
       "    </tr>\n",
       "    <tr>\n",
       "      <th>1</th>\n",
       "      <td>4.9</td>\n",
       "      <td>3.0</td>\n",
       "      <td>1.4</td>\n",
       "      <td>0.2</td>\n",
       "    </tr>\n",
       "    <tr>\n",
       "      <th>2</th>\n",
       "      <td>4.7</td>\n",
       "      <td>3.2</td>\n",
       "      <td>1.3</td>\n",
       "      <td>0.2</td>\n",
       "    </tr>\n",
       "    <tr>\n",
       "      <th>3</th>\n",
       "      <td>4.6</td>\n",
       "      <td>3.1</td>\n",
       "      <td>1.5</td>\n",
       "      <td>0.2</td>\n",
       "    </tr>\n",
       "    <tr>\n",
       "      <th>4</th>\n",
       "      <td>5.0</td>\n",
       "      <td>3.6</td>\n",
       "      <td>1.4</td>\n",
       "      <td>0.2</td>\n",
       "    </tr>\n",
       "    <tr>\n",
       "      <th>...</th>\n",
       "      <td>...</td>\n",
       "      <td>...</td>\n",
       "      <td>...</td>\n",
       "      <td>...</td>\n",
       "    </tr>\n",
       "    <tr>\n",
       "      <th>145</th>\n",
       "      <td>6.7</td>\n",
       "      <td>3.0</td>\n",
       "      <td>5.2</td>\n",
       "      <td>2.3</td>\n",
       "    </tr>\n",
       "    <tr>\n",
       "      <th>146</th>\n",
       "      <td>6.3</td>\n",
       "      <td>2.5</td>\n",
       "      <td>5.0</td>\n",
       "      <td>1.9</td>\n",
       "    </tr>\n",
       "    <tr>\n",
       "      <th>147</th>\n",
       "      <td>6.5</td>\n",
       "      <td>3.0</td>\n",
       "      <td>5.2</td>\n",
       "      <td>2.0</td>\n",
       "    </tr>\n",
       "    <tr>\n",
       "      <th>148</th>\n",
       "      <td>6.2</td>\n",
       "      <td>3.4</td>\n",
       "      <td>5.4</td>\n",
       "      <td>2.3</td>\n",
       "    </tr>\n",
       "    <tr>\n",
       "      <th>149</th>\n",
       "      <td>5.9</td>\n",
       "      <td>3.0</td>\n",
       "      <td>5.1</td>\n",
       "      <td>1.8</td>\n",
       "    </tr>\n",
       "  </tbody>\n",
       "</table>\n",
       "<p>150 rows × 4 columns</p>\n",
       "</div>"
      ],
      "text/plain": [
       "     sepal length (cm)  sepal width (cm)  petal length (cm)  petal width (cm)\n",
       "0                  5.1               3.5                1.4               0.2\n",
       "1                  4.9               3.0                1.4               0.2\n",
       "2                  4.7               3.2                1.3               0.2\n",
       "3                  4.6               3.1                1.5               0.2\n",
       "4                  5.0               3.6                1.4               0.2\n",
       "..                 ...               ...                ...               ...\n",
       "145                6.7               3.0                5.2               2.3\n",
       "146                6.3               2.5                5.0               1.9\n",
       "147                6.5               3.0                5.2               2.0\n",
       "148                6.2               3.4                5.4               2.3\n",
       "149                5.9               3.0                5.1               1.8\n",
       "\n",
       "[150 rows x 4 columns]"
      ]
     },
     "execution_count": 1,
     "metadata": {},
     "output_type": "execute_result"
    }
   ],
   "source": [
    "from sklearn.datasets import load_iris\n",
    "\n",
    "iris_df = load_iris(as_frame=True) # cargar dataset\n",
    "X = iris_df[\"data\"] # features para predecir\n",
    "y = iris_df[\"target\"] # variable target, 0: setosa, 1: versicolor, 2: viginica\n",
    "\n",
    "# features disponibles\n",
    "X "
   ]
  },
  {
   "cell_type": "code",
   "execution_count": 2,
   "id": "5a64f26e",
   "metadata": {},
   "outputs": [
    {
     "data": {
      "text/plain": [
       "0      0\n",
       "1      0\n",
       "2      0\n",
       "3      0\n",
       "4      0\n",
       "      ..\n",
       "145    2\n",
       "146    2\n",
       "147    2\n",
       "148    2\n",
       "149    2\n",
       "Name: target, Length: 150, dtype: int64"
      ]
     },
     "execution_count": 2,
     "metadata": {},
     "output_type": "execute_result"
    }
   ],
   "source": [
    "# variable a predecir\n",
    "y "
   ]
  },
  {
   "cell_type": "markdown",
   "id": "20ab1252",
   "metadata": {},
   "source": [
    "Con los datos ya ingestados, podemos entrenar un clasificador de `RandomForest` de manera simple:"
   ]
  },
  {
   "cell_type": "code",
   "execution_count": 3,
   "id": "8dd3606a",
   "metadata": {},
   "outputs": [
    {
     "name": "stdout",
     "output_type": "stream",
     "text": [
      "              precision    recall  f1-score   support\n",
      "\n",
      "           0       1.00      1.00      1.00        13\n",
      "           1       0.95      1.00      0.97        18\n",
      "           2       1.00      0.93      0.96        14\n",
      "\n",
      "    accuracy                           0.98        45\n",
      "   macro avg       0.98      0.98      0.98        45\n",
      "weighted avg       0.98      0.98      0.98        45\n",
      "\n"
     ]
    }
   ],
   "source": [
    "from sklearn.ensemble import RandomForestClassifier\n",
    "from sklearn.model_selection import train_test_split\n",
    "from sklearn.metrics import classification_report\n",
    "\n",
    "seed = 3380\n",
    "\n",
    "# separamos los datos\n",
    "X_train, X_test, y_train, y_test = train_test_split(X.values, y.values, test_size=0.3, random_state = seed)\n",
    "\n",
    "model = RandomForestClassifier(random_state = seed) # instanciar modelo\n",
    "model.fit(X_train, y_train) # fit\n",
    "\n",
    "y_pred = model.predict(X_test) # predict sobre X_test\n",
    "print(classification_report(y_test, y_pred)) # performance"
   ]
  },
  {
   "cell_type": "markdown",
   "id": "f3cce3e3",
   "metadata": {},
   "source": [
    "Genial! Entrenamos efectivamente un modelo de ML para resolver nuestro problema :)\n",
    "\n",
    "Del entrenamiento, notamos que nuestro modelo tiene una alta capacidad de predicción, acertando el 98% de los casos en el conjunto de test."
   ]
  },
  {
   "cell_type": "markdown",
   "id": "fab87708",
   "metadata": {},
   "source": [
    "## Entrené mi modelo... y ahora qué?\n",
    "\n",
    "Supongamos que tenemos un cercano (jefe, colega, mamá, hermano, perro, etc) al que queramos mostrarle el funcionamiento de nuestro modelo. ¿Qué es lo que tendríamos que hacer para lograr esto?\n",
    "\n",
    "Una primera idea sería mostrarles directamente nuestro código montado en nuestro equipo y mostrar como se ejecuta... aunque esto dificilmente es una solución aceptable en términos profesionales. Para atacar este problema de manera efectiva, nos dedicaremos el resto de la clase a aprender diferentes técnicas de **despliegue** de nuestro modelo.\n",
    "\n"
   ]
  },
  {
   "cell_type": "markdown",
   "id": "80350a31",
   "metadata": {},
   "source": [
    "## Pasos previos\n",
    "\n",
    "Antes de desplegar el modelo, una buena idea es **re entrenarlo con todos los datos disponibles**. Recuerden que hasta ahora su modelo solo fue entrenado con los datos `X_train`, por lo que si desean llevar su modelo a *producción* deberían llevarlo usando el máximo de datos disponible (siempre y cuando esto sea deseable, porsupuesto). \n",
    "\n",
    "Podemos lograr lo anterior de manera simple por medio de:"
   ]
  },
  {
   "cell_type": "code",
   "execution_count": 4,
   "id": "9bdda671",
   "metadata": {},
   "outputs": [
    {
     "data": {
      "text/html": [
       "<style>#sk-container-id-1 {\n",
       "  /* Definition of color scheme common for light and dark mode */\n",
       "  --sklearn-color-text: black;\n",
       "  --sklearn-color-line: gray;\n",
       "  /* Definition of color scheme for unfitted estimators */\n",
       "  --sklearn-color-unfitted-level-0: #fff5e6;\n",
       "  --sklearn-color-unfitted-level-1: #f6e4d2;\n",
       "  --sklearn-color-unfitted-level-2: #ffe0b3;\n",
       "  --sklearn-color-unfitted-level-3: chocolate;\n",
       "  /* Definition of color scheme for fitted estimators */\n",
       "  --sklearn-color-fitted-level-0: #f0f8ff;\n",
       "  --sklearn-color-fitted-level-1: #d4ebff;\n",
       "  --sklearn-color-fitted-level-2: #b3dbfd;\n",
       "  --sklearn-color-fitted-level-3: cornflowerblue;\n",
       "\n",
       "  /* Specific color for light theme */\n",
       "  --sklearn-color-text-on-default-background: var(--sg-text-color, var(--theme-code-foreground, var(--jp-content-font-color1, black)));\n",
       "  --sklearn-color-background: var(--sg-background-color, var(--theme-background, var(--jp-layout-color0, white)));\n",
       "  --sklearn-color-border-box: var(--sg-text-color, var(--theme-code-foreground, var(--jp-content-font-color1, black)));\n",
       "  --sklearn-color-icon: #696969;\n",
       "\n",
       "  @media (prefers-color-scheme: dark) {\n",
       "    /* Redefinition of color scheme for dark theme */\n",
       "    --sklearn-color-text-on-default-background: var(--sg-text-color, var(--theme-code-foreground, var(--jp-content-font-color1, white)));\n",
       "    --sklearn-color-background: var(--sg-background-color, var(--theme-background, var(--jp-layout-color0, #111)));\n",
       "    --sklearn-color-border-box: var(--sg-text-color, var(--theme-code-foreground, var(--jp-content-font-color1, white)));\n",
       "    --sklearn-color-icon: #878787;\n",
       "  }\n",
       "}\n",
       "\n",
       "#sk-container-id-1 {\n",
       "  color: var(--sklearn-color-text);\n",
       "}\n",
       "\n",
       "#sk-container-id-1 pre {\n",
       "  padding: 0;\n",
       "}\n",
       "\n",
       "#sk-container-id-1 input.sk-hidden--visually {\n",
       "  border: 0;\n",
       "  clip: rect(1px 1px 1px 1px);\n",
       "  clip: rect(1px, 1px, 1px, 1px);\n",
       "  height: 1px;\n",
       "  margin: -1px;\n",
       "  overflow: hidden;\n",
       "  padding: 0;\n",
       "  position: absolute;\n",
       "  width: 1px;\n",
       "}\n",
       "\n",
       "#sk-container-id-1 div.sk-dashed-wrapped {\n",
       "  border: 1px dashed var(--sklearn-color-line);\n",
       "  margin: 0 0.4em 0.5em 0.4em;\n",
       "  box-sizing: border-box;\n",
       "  padding-bottom: 0.4em;\n",
       "  background-color: var(--sklearn-color-background);\n",
       "}\n",
       "\n",
       "#sk-container-id-1 div.sk-container {\n",
       "  /* jupyter's `normalize.less` sets `[hidden] { display: none; }`\n",
       "     but bootstrap.min.css set `[hidden] { display: none !important; }`\n",
       "     so we also need the `!important` here to be able to override the\n",
       "     default hidden behavior on the sphinx rendered scikit-learn.org.\n",
       "     See: https://github.com/scikit-learn/scikit-learn/issues/21755 */\n",
       "  display: inline-block !important;\n",
       "  position: relative;\n",
       "}\n",
       "\n",
       "#sk-container-id-1 div.sk-text-repr-fallback {\n",
       "  display: none;\n",
       "}\n",
       "\n",
       "div.sk-parallel-item,\n",
       "div.sk-serial,\n",
       "div.sk-item {\n",
       "  /* draw centered vertical line to link estimators */\n",
       "  background-image: linear-gradient(var(--sklearn-color-text-on-default-background), var(--sklearn-color-text-on-default-background));\n",
       "  background-size: 2px 100%;\n",
       "  background-repeat: no-repeat;\n",
       "  background-position: center center;\n",
       "}\n",
       "\n",
       "/* Parallel-specific style estimator block */\n",
       "\n",
       "#sk-container-id-1 div.sk-parallel-item::after {\n",
       "  content: \"\";\n",
       "  width: 100%;\n",
       "  border-bottom: 2px solid var(--sklearn-color-text-on-default-background);\n",
       "  flex-grow: 1;\n",
       "}\n",
       "\n",
       "#sk-container-id-1 div.sk-parallel {\n",
       "  display: flex;\n",
       "  align-items: stretch;\n",
       "  justify-content: center;\n",
       "  background-color: var(--sklearn-color-background);\n",
       "  position: relative;\n",
       "}\n",
       "\n",
       "#sk-container-id-1 div.sk-parallel-item {\n",
       "  display: flex;\n",
       "  flex-direction: column;\n",
       "}\n",
       "\n",
       "#sk-container-id-1 div.sk-parallel-item:first-child::after {\n",
       "  align-self: flex-end;\n",
       "  width: 50%;\n",
       "}\n",
       "\n",
       "#sk-container-id-1 div.sk-parallel-item:last-child::after {\n",
       "  align-self: flex-start;\n",
       "  width: 50%;\n",
       "}\n",
       "\n",
       "#sk-container-id-1 div.sk-parallel-item:only-child::after {\n",
       "  width: 0;\n",
       "}\n",
       "\n",
       "/* Serial-specific style estimator block */\n",
       "\n",
       "#sk-container-id-1 div.sk-serial {\n",
       "  display: flex;\n",
       "  flex-direction: column;\n",
       "  align-items: center;\n",
       "  background-color: var(--sklearn-color-background);\n",
       "  padding-right: 1em;\n",
       "  padding-left: 1em;\n",
       "}\n",
       "\n",
       "\n",
       "/* Toggleable style: style used for estimator/Pipeline/ColumnTransformer box that is\n",
       "clickable and can be expanded/collapsed.\n",
       "- Pipeline and ColumnTransformer use this feature and define the default style\n",
       "- Estimators will overwrite some part of the style using the `sk-estimator` class\n",
       "*/\n",
       "\n",
       "/* Pipeline and ColumnTransformer style (default) */\n",
       "\n",
       "#sk-container-id-1 div.sk-toggleable {\n",
       "  /* Default theme specific background. It is overwritten whether we have a\n",
       "  specific estimator or a Pipeline/ColumnTransformer */\n",
       "  background-color: var(--sklearn-color-background);\n",
       "}\n",
       "\n",
       "/* Toggleable label */\n",
       "#sk-container-id-1 label.sk-toggleable__label {\n",
       "  cursor: pointer;\n",
       "  display: block;\n",
       "  width: 100%;\n",
       "  margin-bottom: 0;\n",
       "  padding: 0.5em;\n",
       "  box-sizing: border-box;\n",
       "  text-align: center;\n",
       "}\n",
       "\n",
       "#sk-container-id-1 label.sk-toggleable__label-arrow:before {\n",
       "  /* Arrow on the left of the label */\n",
       "  content: \"▸\";\n",
       "  float: left;\n",
       "  margin-right: 0.25em;\n",
       "  color: var(--sklearn-color-icon);\n",
       "}\n",
       "\n",
       "#sk-container-id-1 label.sk-toggleable__label-arrow:hover:before {\n",
       "  color: var(--sklearn-color-text);\n",
       "}\n",
       "\n",
       "/* Toggleable content - dropdown */\n",
       "\n",
       "#sk-container-id-1 div.sk-toggleable__content {\n",
       "  max-height: 0;\n",
       "  max-width: 0;\n",
       "  overflow: hidden;\n",
       "  text-align: left;\n",
       "  /* unfitted */\n",
       "  background-color: var(--sklearn-color-unfitted-level-0);\n",
       "}\n",
       "\n",
       "#sk-container-id-1 div.sk-toggleable__content.fitted {\n",
       "  /* fitted */\n",
       "  background-color: var(--sklearn-color-fitted-level-0);\n",
       "}\n",
       "\n",
       "#sk-container-id-1 div.sk-toggleable__content pre {\n",
       "  margin: 0.2em;\n",
       "  border-radius: 0.25em;\n",
       "  color: var(--sklearn-color-text);\n",
       "  /* unfitted */\n",
       "  background-color: var(--sklearn-color-unfitted-level-0);\n",
       "}\n",
       "\n",
       "#sk-container-id-1 div.sk-toggleable__content.fitted pre {\n",
       "  /* unfitted */\n",
       "  background-color: var(--sklearn-color-fitted-level-0);\n",
       "}\n",
       "\n",
       "#sk-container-id-1 input.sk-toggleable__control:checked~div.sk-toggleable__content {\n",
       "  /* Expand drop-down */\n",
       "  max-height: 200px;\n",
       "  max-width: 100%;\n",
       "  overflow: auto;\n",
       "}\n",
       "\n",
       "#sk-container-id-1 input.sk-toggleable__control:checked~label.sk-toggleable__label-arrow:before {\n",
       "  content: \"▾\";\n",
       "}\n",
       "\n",
       "/* Pipeline/ColumnTransformer-specific style */\n",
       "\n",
       "#sk-container-id-1 div.sk-label input.sk-toggleable__control:checked~label.sk-toggleable__label {\n",
       "  color: var(--sklearn-color-text);\n",
       "  background-color: var(--sklearn-color-unfitted-level-2);\n",
       "}\n",
       "\n",
       "#sk-container-id-1 div.sk-label.fitted input.sk-toggleable__control:checked~label.sk-toggleable__label {\n",
       "  background-color: var(--sklearn-color-fitted-level-2);\n",
       "}\n",
       "\n",
       "/* Estimator-specific style */\n",
       "\n",
       "/* Colorize estimator box */\n",
       "#sk-container-id-1 div.sk-estimator input.sk-toggleable__control:checked~label.sk-toggleable__label {\n",
       "  /* unfitted */\n",
       "  background-color: var(--sklearn-color-unfitted-level-2);\n",
       "}\n",
       "\n",
       "#sk-container-id-1 div.sk-estimator.fitted input.sk-toggleable__control:checked~label.sk-toggleable__label {\n",
       "  /* fitted */\n",
       "  background-color: var(--sklearn-color-fitted-level-2);\n",
       "}\n",
       "\n",
       "#sk-container-id-1 div.sk-label label.sk-toggleable__label,\n",
       "#sk-container-id-1 div.sk-label label {\n",
       "  /* The background is the default theme color */\n",
       "  color: var(--sklearn-color-text-on-default-background);\n",
       "}\n",
       "\n",
       "/* On hover, darken the color of the background */\n",
       "#sk-container-id-1 div.sk-label:hover label.sk-toggleable__label {\n",
       "  color: var(--sklearn-color-text);\n",
       "  background-color: var(--sklearn-color-unfitted-level-2);\n",
       "}\n",
       "\n",
       "/* Label box, darken color on hover, fitted */\n",
       "#sk-container-id-1 div.sk-label.fitted:hover label.sk-toggleable__label.fitted {\n",
       "  color: var(--sklearn-color-text);\n",
       "  background-color: var(--sklearn-color-fitted-level-2);\n",
       "}\n",
       "\n",
       "/* Estimator label */\n",
       "\n",
       "#sk-container-id-1 div.sk-label label {\n",
       "  font-family: monospace;\n",
       "  font-weight: bold;\n",
       "  display: inline-block;\n",
       "  line-height: 1.2em;\n",
       "}\n",
       "\n",
       "#sk-container-id-1 div.sk-label-container {\n",
       "  text-align: center;\n",
       "}\n",
       "\n",
       "/* Estimator-specific */\n",
       "#sk-container-id-1 div.sk-estimator {\n",
       "  font-family: monospace;\n",
       "  border: 1px dotted var(--sklearn-color-border-box);\n",
       "  border-radius: 0.25em;\n",
       "  box-sizing: border-box;\n",
       "  margin-bottom: 0.5em;\n",
       "  /* unfitted */\n",
       "  background-color: var(--sklearn-color-unfitted-level-0);\n",
       "}\n",
       "\n",
       "#sk-container-id-1 div.sk-estimator.fitted {\n",
       "  /* fitted */\n",
       "  background-color: var(--sklearn-color-fitted-level-0);\n",
       "}\n",
       "\n",
       "/* on hover */\n",
       "#sk-container-id-1 div.sk-estimator:hover {\n",
       "  /* unfitted */\n",
       "  background-color: var(--sklearn-color-unfitted-level-2);\n",
       "}\n",
       "\n",
       "#sk-container-id-1 div.sk-estimator.fitted:hover {\n",
       "  /* fitted */\n",
       "  background-color: var(--sklearn-color-fitted-level-2);\n",
       "}\n",
       "\n",
       "/* Specification for estimator info (e.g. \"i\" and \"?\") */\n",
       "\n",
       "/* Common style for \"i\" and \"?\" */\n",
       "\n",
       ".sk-estimator-doc-link,\n",
       "a:link.sk-estimator-doc-link,\n",
       "a:visited.sk-estimator-doc-link {\n",
       "  float: right;\n",
       "  font-size: smaller;\n",
       "  line-height: 1em;\n",
       "  font-family: monospace;\n",
       "  background-color: var(--sklearn-color-background);\n",
       "  border-radius: 1em;\n",
       "  height: 1em;\n",
       "  width: 1em;\n",
       "  text-decoration: none !important;\n",
       "  margin-left: 1ex;\n",
       "  /* unfitted */\n",
       "  border: var(--sklearn-color-unfitted-level-1) 1pt solid;\n",
       "  color: var(--sklearn-color-unfitted-level-1);\n",
       "}\n",
       "\n",
       ".sk-estimator-doc-link.fitted,\n",
       "a:link.sk-estimator-doc-link.fitted,\n",
       "a:visited.sk-estimator-doc-link.fitted {\n",
       "  /* fitted */\n",
       "  border: var(--sklearn-color-fitted-level-1) 1pt solid;\n",
       "  color: var(--sklearn-color-fitted-level-1);\n",
       "}\n",
       "\n",
       "/* On hover */\n",
       "div.sk-estimator:hover .sk-estimator-doc-link:hover,\n",
       ".sk-estimator-doc-link:hover,\n",
       "div.sk-label-container:hover .sk-estimator-doc-link:hover,\n",
       ".sk-estimator-doc-link:hover {\n",
       "  /* unfitted */\n",
       "  background-color: var(--sklearn-color-unfitted-level-3);\n",
       "  color: var(--sklearn-color-background);\n",
       "  text-decoration: none;\n",
       "}\n",
       "\n",
       "div.sk-estimator.fitted:hover .sk-estimator-doc-link.fitted:hover,\n",
       ".sk-estimator-doc-link.fitted:hover,\n",
       "div.sk-label-container:hover .sk-estimator-doc-link.fitted:hover,\n",
       ".sk-estimator-doc-link.fitted:hover {\n",
       "  /* fitted */\n",
       "  background-color: var(--sklearn-color-fitted-level-3);\n",
       "  color: var(--sklearn-color-background);\n",
       "  text-decoration: none;\n",
       "}\n",
       "\n",
       "/* Span, style for the box shown on hovering the info icon */\n",
       ".sk-estimator-doc-link span {\n",
       "  display: none;\n",
       "  z-index: 9999;\n",
       "  position: relative;\n",
       "  font-weight: normal;\n",
       "  right: .2ex;\n",
       "  padding: .5ex;\n",
       "  margin: .5ex;\n",
       "  width: min-content;\n",
       "  min-width: 20ex;\n",
       "  max-width: 50ex;\n",
       "  color: var(--sklearn-color-text);\n",
       "  box-shadow: 2pt 2pt 4pt #999;\n",
       "  /* unfitted */\n",
       "  background: var(--sklearn-color-unfitted-level-0);\n",
       "  border: .5pt solid var(--sklearn-color-unfitted-level-3);\n",
       "}\n",
       "\n",
       ".sk-estimator-doc-link.fitted span {\n",
       "  /* fitted */\n",
       "  background: var(--sklearn-color-fitted-level-0);\n",
       "  border: var(--sklearn-color-fitted-level-3);\n",
       "}\n",
       "\n",
       ".sk-estimator-doc-link:hover span {\n",
       "  display: block;\n",
       "}\n",
       "\n",
       "/* \"?\"-specific style due to the `<a>` HTML tag */\n",
       "\n",
       "#sk-container-id-1 a.estimator_doc_link {\n",
       "  float: right;\n",
       "  font-size: 1rem;\n",
       "  line-height: 1em;\n",
       "  font-family: monospace;\n",
       "  background-color: var(--sklearn-color-background);\n",
       "  border-radius: 1rem;\n",
       "  height: 1rem;\n",
       "  width: 1rem;\n",
       "  text-decoration: none;\n",
       "  /* unfitted */\n",
       "  color: var(--sklearn-color-unfitted-level-1);\n",
       "  border: var(--sklearn-color-unfitted-level-1) 1pt solid;\n",
       "}\n",
       "\n",
       "#sk-container-id-1 a.estimator_doc_link.fitted {\n",
       "  /* fitted */\n",
       "  border: var(--sklearn-color-fitted-level-1) 1pt solid;\n",
       "  color: var(--sklearn-color-fitted-level-1);\n",
       "}\n",
       "\n",
       "/* On hover */\n",
       "#sk-container-id-1 a.estimator_doc_link:hover {\n",
       "  /* unfitted */\n",
       "  background-color: var(--sklearn-color-unfitted-level-3);\n",
       "  color: var(--sklearn-color-background);\n",
       "  text-decoration: none;\n",
       "}\n",
       "\n",
       "#sk-container-id-1 a.estimator_doc_link.fitted:hover {\n",
       "  /* fitted */\n",
       "  background-color: var(--sklearn-color-fitted-level-3);\n",
       "}\n",
       "</style><div id=\"sk-container-id-1\" class=\"sk-top-container\"><div class=\"sk-text-repr-fallback\"><pre>RandomForestClassifier(random_state=3380)</pre><b>In a Jupyter environment, please rerun this cell to show the HTML representation or trust the notebook. <br />On GitHub, the HTML representation is unable to render, please try loading this page with nbviewer.org.</b></div><div class=\"sk-container\" hidden><div class=\"sk-item\"><div class=\"sk-estimator fitted sk-toggleable\"><input class=\"sk-toggleable__control sk-hidden--visually\" id=\"sk-estimator-id-1\" type=\"checkbox\" checked><label for=\"sk-estimator-id-1\" class=\"sk-toggleable__label fitted sk-toggleable__label-arrow fitted\">&nbsp;&nbsp;RandomForestClassifier<a class=\"sk-estimator-doc-link fitted\" rel=\"noreferrer\" target=\"_blank\" href=\"https://scikit-learn.org/1.4/modules/generated/sklearn.ensemble.RandomForestClassifier.html\">?<span>Documentation for RandomForestClassifier</span></a><span class=\"sk-estimator-doc-link fitted\">i<span>Fitted</span></span></label><div class=\"sk-toggleable__content fitted\"><pre>RandomForestClassifier(random_state=3380)</pre></div> </div></div></div></div>"
      ],
      "text/plain": [
       "RandomForestClassifier(random_state=3380)"
      ]
     },
     "execution_count": 4,
     "metadata": {},
     "output_type": "execute_result"
    }
   ],
   "source": [
    "model.fit(X, y)"
   ]
  },
  {
   "cell_type": "markdown",
   "id": "8173a606",
   "metadata": {},
   "source": [
    "Después de entrenar el modelo con todos los datos, podemos ahora serializar nuestro modelo usando la librería `pickle`: "
   ]
  },
  {
   "cell_type": "code",
   "execution_count": 5,
   "id": "a7303b5f",
   "metadata": {},
   "outputs": [],
   "source": [
    "import pickle\n",
    "\n",
    "# crear \"model.pkl\" con nuestro modelo serializado\n",
    "with open('./model.pkl', 'wb') as file:\n",
    "    pickle.dump(model, file)"
   ]
  },
  {
   "cell_type": "markdown",
   "id": "54e1c514",
   "metadata": {},
   "source": [
    "Podemos que nuestro modelo se carga de manera efectiva:"
   ]
  },
  {
   "cell_type": "code",
   "execution_count": 6,
   "id": "4ced908a",
   "metadata": {},
   "outputs": [
    {
     "ename": "NameError",
     "evalue": "name 'model' is not defined",
     "output_type": "error",
     "traceback": [
      "\u001b[31m---------------------------------------------------------------------------\u001b[39m",
      "\u001b[31mNameError\u001b[39m                                 Traceback (most recent call last)",
      "\u001b[36mCell\u001b[39m\u001b[36m \u001b[39m\u001b[32mIn[6]\u001b[39m\u001b[32m, line 5\u001b[39m\n\u001b[32m      2\u001b[39m \u001b[38;5;28;01mdel\u001b[39;00m model\n\u001b[32m      4\u001b[39m \u001b[38;5;66;03m# noten como ya no podemos predecir sobre X pues model ya no existe\u001b[39;00m\n\u001b[32m----> \u001b[39m\u001b[32m5\u001b[39m \u001b[43mmodel\u001b[49m.predict(X)\n",
      "\u001b[31mNameError\u001b[39m: name 'model' is not defined"
     ]
    }
   ],
   "source": [
    "# borramos modelo\n",
    "del model\n",
    "\n",
    "# noten como ya no podemos predecir sobre X pues model ya no existe\n",
    "model.predict(X)"
   ]
  },
  {
   "cell_type": "code",
   "execution_count": 7,
   "id": "b063a7a2",
   "metadata": {},
   "outputs": [
    {
     "data": {
      "text/plain": [
       "array([0, 0, 0, 0, 0, 0, 0, 0, 0, 0, 0, 0, 0, 0, 0, 0, 0, 0, 0, 0, 0, 0,\n",
       "       0, 0, 0, 0, 0, 0, 0, 0, 0, 0, 0, 0, 0, 0, 0, 0, 0, 0, 0, 0, 0, 0,\n",
       "       0, 0, 0, 0, 0, 0, 1, 1, 1, 1, 1, 1, 1, 1, 1, 1, 1, 1, 1, 1, 1, 1,\n",
       "       1, 1, 1, 1, 1, 1, 1, 1, 1, 1, 1, 1, 1, 1, 1, 1, 1, 1, 1, 1, 1, 1,\n",
       "       1, 1, 1, 1, 1, 1, 1, 1, 1, 1, 1, 1, 2, 2, 2, 2, 2, 2, 2, 2, 2, 2,\n",
       "       2, 2, 2, 2, 2, 2, 2, 2, 2, 2, 2, 2, 2, 2, 2, 2, 2, 2, 2, 2, 2, 2,\n",
       "       2, 2, 2, 2, 2, 2, 2, 2, 2, 2, 2, 2, 2, 2, 2, 2, 2, 2])"
      ]
     },
     "execution_count": 7,
     "metadata": {},
     "output_type": "execute_result"
    }
   ],
   "source": [
    "# cargamos modelo\n",
    "with open('model.pkl', 'rb') as file:\n",
    "    model = pickle.load(file)\n",
    "\n",
    "# verificamos funcionamiento\n",
    "model.predict(X)"
   ]
  },
  {
   "cell_type": "markdown",
   "id": "202ed5cc",
   "metadata": {},
   "source": [
    "## Esencia del despliegue\n",
    "\n",
    "<div style=\"text-align: center;\">\n",
    "<img src='../../recursos/2024-01/despliegue/images/diagrama_despliegue.png' width = 650/>\n",
    "</div>\n",
    "\n",
    "Cualquier herramienta de despliegue debería ser capaz de:\n",
    "\n",
    "0. Cargar nuestro modelo \n",
    "1. Recibir nuevos datos (i.e una nueva *fila* de X)\n",
    "2. Pre procesar los datos de manera adecuada (escalar, transformar a one_hot, crear nuevas features, etc)\n",
    "3. Generar una predicción sobre los datos procesados\n",
    "4. Retornar la predicción generada\n",
    "\n",
    "> **Pregunta:** Qué herramienta aprendida en el curso nos puede ayudar a los pasos 2 y 3?\n",
    "\n",
    "Veamos como se vería esto de manera conceptual en el código:"
   ]
  },
  {
   "cell_type": "code",
   "execution_count": 8,
   "id": "0258692b",
   "metadata": {},
   "outputs": [
    {
     "data": {
      "text/plain": [
       "'setosa'"
      ]
     },
     "execution_count": 8,
     "metadata": {},
     "output_type": "execute_result"
    }
   ],
   "source": [
    "import warnings\n",
    "warnings.filterwarnings(\"ignore\")\n",
    "\n",
    "# cargar modelo\n",
    "with open('model.pkl', 'rb') as file:\n",
    "  model = pickle.load(file)\n",
    "\n",
    "labels_dict = {0: 'setosa', 1: 'versicolor', 2: 'virginica'} # diccionario de etiquetas\n",
    "def make_prediction(\n",
    "  sepal_length: float,\n",
    "  sepal_width: float,\n",
    "  petal_length: float,\n",
    "  petal_width: float\n",
    "):\n",
    "  '''\n",
    "  función que devuelve la predicción del modelo dado un set de atributos\n",
    "  '''\n",
    "\n",
    "  # mantener el orden!\n",
    "  features = [\n",
    "      [sepal_length, sepal_width, petal_length, petal_width] # obs a predecir, OJO con el orden!! \n",
    "  ]\n",
    "  \n",
    "  prediction = model.predict(features).item() # generar prediccion\n",
    "  label = labels_dict[prediction] # transformar a etiqueta\n",
    "\n",
    "  return label # retornar prediccion\n",
    "\n",
    "make_prediction(sepal_length=2, sepal_width=1, petal_length=1, petal_width=1)"
   ]
  },
  {
   "cell_type": "markdown",
   "id": "b4a7adcc",
   "metadata": {},
   "source": [
    "Noten que si queremos cambiar los atributos de entrada, simplemente debemos cambiar los valores de los parámetros de la función:"
   ]
  },
  {
   "cell_type": "code",
   "execution_count": 9,
   "id": "ce46794e",
   "metadata": {},
   "outputs": [
    {
     "data": {
      "text/plain": [
       "'virginica'"
      ]
     },
     "execution_count": 9,
     "metadata": {},
     "output_type": "execute_result"
    }
   ],
   "source": [
    "make_prediction(sepal_length=5, sepal_width=4, petal_length=5, petal_width=3)"
   ]
  },
  {
   "cell_type": "code",
   "execution_count": 10,
   "id": "18c93ead",
   "metadata": {},
   "outputs": [
    {
     "data": {
      "text/plain": [
       "'setosa'"
      ]
     },
     "execution_count": 10,
     "metadata": {},
     "output_type": "execute_result"
    }
   ],
   "source": [
    "make_prediction(sepal_length=1, sepal_width=7, petal_length=1.7, petal_width=0.5)"
   ]
  },
  {
   "cell_type": "markdown",
   "id": "76654e53",
   "metadata": {},
   "source": [
    "Guardaremos una copia de esta función en `recursos/2025-01/13-Despliegue/make_prediction.py` para volver a utilizarla más adelante."
   ]
  },
  {
   "cell_type": "markdown",
   "id": "c5d74dcd",
   "metadata": {},
   "source": [
    "## Ambientes virtuales\n",
    "\n",
    "La idea de esta sección es generar las condiciones necesarias para que nuestro proyecto pueda ser ejecutado otros dispositivos de manera fácil. Una primera aproximación para lograr esto es a través de **entornos virtuales**, los cuales pueden ser interpretados como un espacio virtual aislado donde podemos instalar y levantar configuraciones *custom* de nuestro proyecto.\n",
    "\n",
    "> **Pregunta:** Se les ocurre algún ejemplo donde sea útil hacer uso de estos ambientes?\n",
    "\n",
    "### ¿Cómo crear nuestro ambiente virtual?\n",
    "\n",
    "El primer paso para trabajar sobre ambientes virtuales es instalar [anaconda](https://www.anaconda.com). Con la distribución instalada, podemos levantar un ambiente virtual ejecutando en la terminal los siguientes comandos:\n",
    "\n",
    "`conda create --name nombre_ambiente python=version_python -y` # crear ambiente virtual\n",
    "\n",
    "donde *version_python* equivale a la versión de python deseada (3.9, 3.10, 3.11, etc). Luego de crear nuestro ambiente, es necesario entrar a este por medio de:\n",
    "\n",
    "`conda activate nombre_ambiente` # activar ambiente virtual\n",
    "\n",
    "`conda deactivate` # desactivar ambiente virtual\n",
    "\n",
    "### Levantando un proyecto en un ambiente virtual\n",
    "\n",
    "Para levantar un proyecto en un ambiente virtual, necesitaremos de los siguientes elementos:\n",
    "\n",
    "- **main.py:** Código python a ejecutar (basicamente el código python que programaron en su proyecto)\n",
    "- **requirements.txt:** Archivo con las liberias necesarias para ejecutar `main.py` (pandas==2.2.2, etc.)\n",
    "- **.env:** Archivo con las credenciales necesarias para ejecutar el proyecto (API KEYS, etc.)\n",
    "\n",
    "Noten que este ambiente de python es un ambiente *virgen* y no tiene ninguna librería instalada. Pueden verificar lo anterior por medio de:\n",
    "\n",
    "`pip freeze` # printear librerias instaladas por pip\n",
    "\n",
    "Para instalar las librerias necesarias, lo pueden realizar de manera simple por medio de:\n",
    "\n",
    "`pip install -r requirements.txt`\n",
    "\n",
    "Al contrario, si desean exportar las librerias utilizadas en su proyecto a un archivo `requirements.txt`:\n",
    "\n",
    "`pip freeze > requirements.txt`\n",
    "\n",
    "> **Pregunta**: Conocen otra herramienta que pueda resolver el mismo problema?\n",
    "\n",
    "**Importante**: Noten que usando ambientes virtuales, somos capaces de montar nuestro modelo de manera fácil en otro equipo! Sólo necesitaríamos:\n",
    "- Modelo (`model.pkl`)\n",
    "- Librerías (`requirements.txt`)\n",
    "- Código de ejecución (`make_predictions.py` o `main.py`)"
   ]
  },
  {
   "cell_type": "markdown",
   "id": "32fecd91",
   "metadata": {
    "vscode": {
     "languageId": "plaintext"
    }
   },
   "source": [
    "## Gradio\n",
    "\n",
    "*Tutorial basado en https://www.youtube.com/watch?v=97KxA1r184o y https://github.com/gradio-app/gradio/*\n",
    "\n",
    "![Gradio](https://encrypted-tbn0.gstatic.com/images?q=tbn:ANd9GcQdC1xNkDaMNEbtQRyupw5v32HSGVA6w0zNjA&s)\n",
    "\n",
    "[gradio](https://www.gradio.app) es una librería de Python similar a `Streamlit` que permite generar **demos** de manera simple especificando los **componentes** de entrada y salida esperados por tu modelo de machine learning.\n",
    "\n",
    "¿A qué nos referimos con componentes de entrada y salida? Gradio viene con diferentes componentes para diferentes tipos de modelos de machine learning. Algunos ejemplos:\n",
    "\n",
    "*   Para un **clasificador de imágenes**, el input esperado es de tipo `Image` y la salida es del tipo `Label`.\n",
    "*   Para un modelo de **speech recognition**, el input esperado es del tipo `Microphone` (lo que permite al usuario grabar desde el navegador) o `Audio` (lo que permite a los usuarios subir sus propios archivos de audio), mientras que la salida es del tipo `Text`.\n",
    "* Para un modelo de **questiong answering**, se esperan dos entradas: [`Text`, `Text`], una entrada de texto para el párrafo y otro texto para la pregunta, mientras que la salida es del tipo `Text` para contener la respuesta generada.\n",
    "\n",
    "Una lista completa de los componentes habilitados se puede encontrar en la [documentación](https://gradio.app/docs/).\n",
    "\n",
    "Además de los componentes de entrada y salida, Gradio espera un tercer parámetro: **la función de predicción**. Este parámetro puede ser ***cualquier* función regular de Python** que reciba los parámetros correspondientes a los componentes de entrada y retorne una salida congruente con los componentes de salida.\n",
    "\n",
    "Veamos esto en código!"
   ]
  },
  {
   "cell_type": "code",
   "execution_count": 12,
   "id": "2c43f142",
   "metadata": {},
   "outputs": [
    {
     "name": "stdout",
     "output_type": "stream",
     "text": [
      "* Running on local URL:  http://127.0.0.1:7861\n",
      "* Running on public URL: https://ba00872c04de2108bb.gradio.live\n",
      "\n",
      "This share link expires in 1 week. For free permanent hosting and GPU upgrades, run `gradio deploy` from the terminal in the working directory to deploy to Hugging Face Spaces (https://huggingface.co/spaces)\n"
     ]
    },
    {
     "data": {
      "text/html": [
       "<div><iframe src=\"https://ba00872c04de2108bb.gradio.live\" width=\"100%\" height=\"500\" allow=\"autoplay; camera; microphone; clipboard-read; clipboard-write;\" frameborder=\"0\" allowfullscreen></iframe></div>"
      ],
      "text/plain": [
       "<IPython.core.display.HTML object>"
      ]
     },
     "metadata": {},
     "output_type": "display_data"
    },
    {
     "data": {
      "text/plain": []
     },
     "execution_count": 12,
     "metadata": {},
     "output_type": "execute_result"
    }
   ],
   "source": [
    "import gradio as gr\n",
    "\n",
    "demo = gr.Interface(\n",
    "  fn = make_prediction, # noten como estamos usando la función que generamos anteriormente\n",
    "  inputs = [\"number\", \"number\", \"number\", \"number\"], # valores de entrada\n",
    "  outputs = [\"text\"]\n",
    ") # valor de salida\n",
    "\n",
    "demo.launch(share=True) # share = True: nos permite compartir el demo con quien queramos!"
   ]
  },
  {
   "cell_type": "code",
   "execution_count": 13,
   "id": "7bd49978",
   "metadata": {},
   "outputs": [
    {
     "name": "stdout",
     "output_type": "stream",
     "text": [
      "Closing server running on port: 7861\n"
     ]
    }
   ],
   "source": [
    "demo.close()"
   ]
  },
  {
   "cell_type": "markdown",
   "id": "cdea1e60",
   "metadata": {},
   "source": [
    "Genial! Ahora que tenemos una primera versión, veamos como podemos mejorarla un poco en términos estéticos:"
   ]
  },
  {
   "cell_type": "code",
   "execution_count": 14,
   "id": "f196088f",
   "metadata": {},
   "outputs": [
    {
     "name": "stdout",
     "output_type": "stream",
     "text": [
      "* Running on local URL:  http://127.0.0.1:7861\n",
      "* To create a public link, set `share=True` in `launch()`.\n"
     ]
    },
    {
     "data": {
      "text/html": [
       "<div><iframe src=\"http://127.0.0.1:7861/\" width=\"100%\" height=\"500\" allow=\"autoplay; camera; microphone; clipboard-read; clipboard-write;\" frameborder=\"0\" allowfullscreen></iframe></div>"
      ],
      "text/plain": [
       "<IPython.core.display.HTML object>"
      ]
     },
     "metadata": {},
     "output_type": "display_data"
    },
    {
     "data": {
      "text/plain": []
     },
     "execution_count": 14,
     "metadata": {},
     "output_type": "execute_result"
    }
   ],
   "source": [
    "demo = gr.Interface(\n",
    "  fn = make_prediction,\n",
    "  inputs = [ # definimos el intervalo y asignamos un nombre a cada input\n",
    "      gr.Slider(label = 'Sepal Length', minimum = 0, maximum = 10),\n",
    "      gr.Slider(label = 'Sepal Width', minimum = 0, maximum = 10), \n",
    "      gr.Slider(label = 'Petal Length', minimum = 0, maximum = 10), \n",
    "      gr.Slider(label = 'Petal Width', minimum = 0, maximum = 10)],\n",
    "  outputs = gr.Text(label = 'Predicted Label'), # se define un nombre para la salida\n",
    "  title = 'Iris ML Demo', # asignar un titulo al demo\n",
    "  examples=[[0.5, 1.5, 2.5, 3.5], [1, 3, 5, 7]], # generar ejemplos\n",
    ")\n",
    "\n",
    "demo.launch()"
   ]
  },
  {
   "cell_type": "code",
   "execution_count": 15,
   "id": "21ba414d",
   "metadata": {},
   "outputs": [
    {
     "name": "stdout",
     "output_type": "stream",
     "text": [
      "Closing server running on port: 7861\n"
     ]
    }
   ],
   "source": [
    "demo.close()"
   ]
  },
  {
   "cell_type": "markdown",
   "id": "635eb42c",
   "metadata": {},
   "source": [
    "Genial! Revisemos ahora como customizar aun más el *display* de nuestra aplicación mediante `gr.Blocks`:"
   ]
  },
  {
   "cell_type": "code",
   "execution_count": 16,
   "id": "0b0f561d",
   "metadata": {},
   "outputs": [
    {
     "name": "stdout",
     "output_type": "stream",
     "text": [
      "* Running on local URL:  http://127.0.0.1:7861\n",
      "* Running on public URL: https://d79def785e19ba2b88.gradio.live\n",
      "\n",
      "This share link expires in 1 week. For free permanent hosting and GPU upgrades, run `gradio deploy` from the terminal in the working directory to deploy to Hugging Face Spaces (https://huggingface.co/spaces)\n"
     ]
    },
    {
     "data": {
      "text/html": [
       "<div><iframe src=\"https://d79def785e19ba2b88.gradio.live\" width=\"100%\" height=\"500\" allow=\"autoplay; camera; microphone; clipboard-read; clipboard-write;\" frameborder=\"0\" allowfullscreen></iframe></div>"
      ],
      "text/plain": [
       "<IPython.core.display.HTML object>"
      ]
     },
     "metadata": {},
     "output_type": "display_data"
    },
    {
     "data": {
      "text/plain": []
     },
     "execution_count": 16,
     "metadata": {},
     "output_type": "execute_result"
    }
   ],
   "source": [
    "with gr.Blocks(theme = gr.themes.Base()) as demo:\n",
    "\n",
    "  # agregamos un markdown para describir la aplicacion\n",
    "  gr.Markdown(\n",
    "  \"\"\"\n",
    "  # Iris ML Demo\n",
    "  Bienvenid@ a Iris ML demo! Esta herramienta esta diseñada para predecir la clase de una flor a partir de sus características usando Machine Learning.\n",
    "  ## Cómo usar este demo?\n",
    "  Usar esta herramienta es fácil! Sólo debes seguir los siguientes pasos:\n",
    "  1. Fijar los valores de **Sepal Length**, **Sepal Width**, **Petal Length** y **Petal Width**.\n",
    "  2. Observar el tipo de flor que predice el modelo.\n",
    "  \n",
    "  Eso es todo! Estás list@ para explorar y predecir diferentes tipos de flores. Que lo disfrutes!\n",
    "  \"\"\")\n",
    "\n",
    "  # definimos explicitamente la posicion de los elementos\n",
    "  with gr.Row():\n",
    "      with gr.Column():\n",
    "          sepal_length_slider = gr.Slider(label = 'Sepal Length', minimum = 0, maximum = 10)\n",
    "          sepal_width_slider = gr.Slider(label = 'Sepal Width', minimum = 0, maximum = 10)\n",
    "          petal_length_slider = gr.Slider(label = 'Petal Length', minimum = 0, maximum = 10)\n",
    "          petal_width_slider = gr.Slider(label = 'Petal Width', minimum = 0, maximum = 10)\n",
    "\n",
    "      with gr.Column():\n",
    "          label = gr.Text(label = 'Predicted Label') # se define un nombre para la salida\n",
    "  \n",
    "  with gr.Row():\n",
    "      button = gr.Button(value = 'Predict!')\n",
    "\n",
    "  # setear interactividad\n",
    "  inputs = [sepal_length_slider, sepal_width_slider, petal_length_slider, petal_width_slider]\n",
    "  outputs = [label]\n",
    "  button.click(fn = make_prediction, inputs = inputs, outputs = outputs)\n",
    "\n",
    "  examples = [\n",
    "      [0.5, 1.5, 2.5, 3.5], # example 1\n",
    "      [1, 3, 5, 7], # example 2\n",
    "  ]\n",
    "  gr.Examples(examples = examples, inputs = inputs) \n",
    "\n",
    "demo.launch(share=True)"
   ]
  },
  {
   "cell_type": "code",
   "execution_count": 17,
   "id": "2022e123",
   "metadata": {},
   "outputs": [
    {
     "name": "stdout",
     "output_type": "stream",
     "text": [
      "Closing server running on port: 7861\n"
     ]
    }
   ],
   "source": [
    "demo.close()"
   ]
  },
  {
   "cell_type": "markdown",
   "id": "2a64e89c",
   "metadata": {},
   "source": [
    "Pueden encontrar la totalidad del código en `recursos/2025-01/13-Despliegue/gradio_app.py`.\n",
    "\n",
    "**Bonus:** [Tutorial para Desplegar su aplicación de gradio en HuggingFace](https://www.youtube.com/watch?v=97KxA1r184o)."
   ]
  },
  {
   "cell_type": "markdown",
   "id": "2eb48d8c",
   "metadata": {},
   "source": [
    "## FastAPI\n",
    "\n",
    "<img src='../../recursos/2024-01/despliegue/images/fastapi.png'/>\n",
    "\n",
    "La idea de esta sección es que aprendamos a desplegar nuestra solución de ML por medio de una API usando `FastAPI`. Cabe decir que esta es la manera mas usual y \"profesional\" para desplegar modelos, por lo que es de suma importancia que sepan como realizar este tipo de procedimientos.\n",
    "\n",
    "Antes de sumergirnos en el código, un poco de contexto:"
   ]
  },
  {
   "attachments": {},
   "cell_type": "markdown",
   "id": "fe45169b-a475-4896-b4f9-6fe093d8f226",
   "metadata": {},
   "source": [
    "### Arquitectura Cliente-Servidor\n",
    "\n",
    "Según [Wikipedia](https://es.wikipedia.org/wiki/Cliente-servidor):\n",
    "\n",
    "> La arquitectura cliente-servidor es un modelo de diseño de software en el que las tareas se reparten entre los proveedores de recursos o servicios, llamados servidores, y los demandantes, llamados clientes. Un cliente realiza peticiones a otro programa, el servidor, quien le da respuesta. "
   ]
  },
  {
   "attachments": {},
   "cell_type": "markdown",
   "id": "b54d9750-31dc-4ad7-bd3d-9d0f2cb73c99",
   "metadata": {},
   "source": [
    "<div align='center'>\n",
    "<img alt='Arquitectura Cliente Servidor' src='https://raw.githubusercontent.com/MDS7202/MDS7202/main/recursos/2023-01/27_puesta_en_produccion/cliente_servidor.png' width=800/>\n",
    "</div>"
   ]
  },
  {
   "attachments": {},
   "cell_type": "markdown",
   "id": "2cb8ce02-8b0b-4903-8927-4e10ca77da24",
   "metadata": {},
   "source": [
    "#### Cliente \n",
    "\n",
    "Demanda algún servicio. Sus características principales son:\n",
    "\n",
    "- Inicia solicitudes (peticiones) y espera respuestas del servidor.\n",
    "- Puede ser a través de una *interfaz de programación de aplicaciones (API en inglés) o una interfaz gráfica* (como el navegador o un juego ejecutable)."
   ]
  },
  {
   "attachments": {},
   "cell_type": "markdown",
   "id": "bfd3ecf3-0b77-40c4-922a-d2fae03af825",
   "metadata": {},
   "source": [
    "#### Servidor\n",
    "\n",
    "Provee de servicios. Sus características principales son:\n",
    "\n",
    "- Reciben las solicitudes de los clientes, las procesan y luego envían una respuesta.\n",
    "- Pueden aceptar varias solicitudes de distintos clientes a la vez.\n"
   ]
  },
  {
   "attachments": {},
   "cell_type": "markdown",
   "id": "0d4563fd-7d58-46dd-8b14-6acb9c6a2e5c",
   "metadata": {},
   "source": [
    "### Características de esta arquitectura\n",
    "\n",
    "Una de las principales ventajas es que permite centralizar la información y las responsabilidades de proveer servicios.\n",
    "Es decir, solo el servidor será el encargado de manejar las solicitudes, acceder y modificar a las bases de datos, procesar dicha información y responder a sus clientes.\n"
   ]
  },
  {
   "attachments": {},
   "cell_type": "markdown",
   "id": "1d305c91-e357-4c44-b189-3a141689e5da",
   "metadata": {},
   "source": [
    "### Opciones y Frameworks"
   ]
  },
  {
   "attachments": {},
   "cell_type": "markdown",
   "id": "d03324be-7fb2-49fc-b281-5b980eb06325",
   "metadata": {},
   "source": [
    "Según [Wikipedia](https://es.wikipedia.org/wiki/Framework): \n",
    "\n",
    "> *Framework*: Un entorno de trabajo es un conjunto estandarizado de conceptos, prácticas y criterios para resolver un tipo de problemática particular y que sirve como referencia, para enfrentar y resolver nuevos problemas de índole similar. \n",
    "\n",
    "*¡Ya han estado utilizando un framework todo este tiempo!: `scikit-learn` y sus famosos `fit` y `predict`.*\n",
    "\n",
    "\n",
    "Existe una gigantezca variedad de frameworks (y combinaciones de estos) que implementan esta arquitectura.\n",
    "\n",
    "##### Servidor (y ocasionalmente también clientes) o *Backend*:\n",
    "\n",
    "- `Django`\n",
    "- `Flask`\n",
    "- `FastAPI`\n",
    "\n",
    "\n",
    "##### Clientes (Interfaces Gráficas) (la mayoría en JavaScript) o *Frontend*: \n",
    "\n",
    "- `React`\n",
    "- `Vue`\n",
    "\n",
    "\n",
    "Una combinación de estas tecnologías se denomina *stack tecnológico*.\n",
    "\n",
    "\n",
    "> **Pregunta**: ¿Conocen alguno de estos? ¿En que consisten?\n",
    "\n",
    "Visiten los siguientes links para ver buenas comparativas entre estos frameworks: \n",
    "\n",
    "- https://www.section.io/engineering-education/choosing-between-django-flask-and-fastapi/\n",
    "- https://www.analyticsvidhya.com/blog/2020/11/fastapi-the-right-replacement-for-flask/\n",
    "\n",
    "\n",
    "**En nuestro caso en particular, veremos el framework (de moda) `FastAPI`.**\n",
    "\n",
    "> **Pregunta:** ¿Qué es una API?"
   ]
  },
  {
   "attachments": {},
   "cell_type": "markdown",
   "id": "6c79093d-766c-4280-b484-8bfd9d90985c",
   "metadata": {},
   "source": [
    "---\n",
    "\n",
    "### Interfaz de Programación de Aplicaciones / Application Programming Interface (API)\n",
    "\n",
    "Es un conjunto de reglas, funciones o endpoints que permiten que diferentes aplicaciones interactuen entre sí. Un ejemplo podrían ser las librerías que utilizamos constantemente, en donde un conjunto de funciones se exponen para interactuar con ella.\n",
    "<div align='center'>\n",
    "<img src='https://raw.githubusercontent.com/MDS7202/MDS7202/main/recursos/2023-01/27_puesta_en_produccion/pandas_api.png' width=800/>\n",
    "</div>\n",
    "\n",
    "<div align='center'>\n",
    "<p>Ejemplo de una API: la API de pandas</p>\n",
    "</div>\n",
    "\n",
    "---\n",
    "\n",
    "En el caso en particular de los servidores web, la API es el conjunto de funciones (también conocidas como **Endpoints**) que nos permiten interactuar con el servidor. Comunmente esto se hace a través de **URLs** parametrizadas:\n",
    "\n",
    "<div align='center'>\n",
    "<img src='https://raw.githubusercontent.com/MDS7202/MDS7202/main/recursos/2023-01/27_puesta_en_produccion/api_maps.png' width=800/>\n",
    "</div>\n",
    "\n",
    "<div align='center'>\n",
    "<img src='https://raw.githubusercontent.com/MDS7202/MDS7202/main/recursos/2023-01/27_puesta_en_produccion/api_maps_2.png' width=800/>\n",
    "</div>\n",
    "\n",
    "<div align='center'>\n",
    "Ejemplo de una web API: La API de <a href='https://developers.google.com/maps/documentation/urls/get-started/'>Google Maps</a>\n",
    "</div>"
   ]
  },
  {
   "attachments": {},
   "cell_type": "markdown",
   "id": "f6c78a1e-d98c-46a1-8055-e96d08051544",
   "metadata": {},
   "source": [
    "#### URL\n",
    "\n",
    "Una Localizador de recursos uniforme o **Uniform Resource Locator (URL)** es simplemente un localizador de un recurso web más un protocolo que permite acceder a este.\n",
    "\n",
    "Ejemplo: \n",
    "\n",
    "De: https://en.wikipedia.org/wiki/URL\n",
    "\n",
    "- Protocolo: `https`\n",
    "- Dirección del recurso: `en.wikipedia.org`\n",
    "- Archivo: `wiki/URL` (que se interpreta como html)\n",
    "\n",
    "\n",
    "##### Sintaxis de una URL\n",
    "\n",
    "<img src='../../recursos/2025-01/13-Despliegue/sinxtaxis_uri.png' />\n",
    "\n",
    "\n",
    "<div align='center'>\n",
    "Fuente:  <a href='https://en.wikipedia.org/wiki/URL' />URL en Wikipedia</a>\n",
    "</div>\n",
    "\n"
   ]
  },
  {
   "attachments": {},
   "cell_type": "markdown",
   "id": "7142a2dc-0a85-4c73-a884-0a566c79880a",
   "metadata": {},
   "source": [
    "#### Protocolo de transferencia de hipertexto o HTTP y HTTPS\n",
    "\n",
    "[Protocolo de Comunicaciones según Wikipedia](https://es.wikipedia.org/wiki/Protocolo_de_comunicaciones):\n",
    "\n",
    "> Es un sistema de reglas que permiten que dos o más entidades (computadoras, teléfonos celulares, etc.) de un sistema de comunicación se comuniquen entre ellas con el fin de transmitir información por medio de cualquier tipo de variación de una magnitud física.\n",
    "\n",
    "> Se trata de las reglas o el estándar que define la sintaxis, semántica y sincronización de la comunicación, así como también los posibles métodos de recuperación de errores\n",
    "\n",
    "\n",
    "HTTP permite la transmisión de información a través de archivos html y otros formatos.\n",
    "Esta especifica en los mensajes:\n",
    "\n",
    "- Cabeceras (Headers) que contienen metadatos.\n",
    "     - `Host`: Indica el nombre del dominio destino.\n",
    "     - `User-Agent`: Identifica al cliente que hace la solicitud (navegador, app, etc).\n",
    "     - `Accept`: Declara qué tipo de contenido espera (`application/json`, `text/html`).\n",
    "     - `Content-type`: Indica el tipo de dato enviado en el cuerpo (`application/json`, etc).\n",
    "- Método de petición (`GET`, `POST`, `PUT`, `DELETE`, `HEAD`, `OPTION`, etc...)\n",
    "     - `GET`: Solicitud para pedir datos.\n",
    "     - `POST`: Enviar datos (en el cuerpo de la solicitud) comunmente para ser procesados y guardados.\n",
    "     - `DELETE`: Elimina un dato.\n",
    "     - `PUT`: Actualiza un dato.\n",
    "\n",
    "\n",
    "- Códigos de respuesta (https://http.cat/)\n",
    "  - `1xx` - Respuestas informativas\n",
    "  - `2xx` - Respuestas satisfactorias \n",
    "  - `3xx` - Redirecciones \n",
    "  - `4xx` - Errores de los clientes \n",
    "  - `5xx` - Errores de los servidores \n",
    "  \n",
    "  \n",
    "- Cuerpo del mensaje\n",
    "\n",
    "\n",
    "#### Ejemplo: \n",
    "\n",
    "Petición del Cliente:\n",
    "\n",
    "     GET /index.html HTTP/1.1\n",
    "     Host: www.example.com\n",
    "     User-Agent: Mozilla/5.0 (X11; Linux x86_64; rv:45.0) Gecko/20100101 Firefox/45.0\n",
    "     Accept: text/html\n",
    "\n",
    "\n",
    "Respuesta del Servidor:\n",
    "\n",
    "    HTTP/1.1 200 OK\n",
    "    Date: Fri, 31 Dec 2003 23:59:59 GMT\n",
    "    Content-Type: text/html\n",
    "    Content-Length: 1221\n",
    "\n",
    "    <html lang=\"eo\">\n",
    "    <head>\n",
    "    <meta charset=\"utf-8\">\n",
    "    <title>Título del sitio</title>\n",
    "    </head>\n",
    "    <body>\n",
    "    <h1>Página principal de tuHost</h1>\n",
    "    (Contenido)\n",
    "      .\n",
    "      .\n",
    "      .\n",
    "    </body>\n",
    "    </html>\n",
    "\n",
    "\n",
    "HTTPS indica que el protocolo es seguro mediante cifrado de la información."
   ]
  },
  {
   "attachments": {},
   "cell_type": "markdown",
   "id": "192865b6-c5fa-4e6b-8ec8-3e44d42bf066",
   "metadata": {},
   "source": [
    "### API REST\n",
    "\n",
    "Lo último antes de empezar a ver código es hacer una recapitulación de todo lo que hemos visto, lo que puede ser agrupado dentro de un cómodo conjunto de principios llamado **Transferencia de estado representacional o representational state transfer (REST)**.\n",
    "\n",
    "Según [Wikipedia](https://es.wikipedia.org/wiki/Protocolo_de_transferencia_de_hipertexto), es un conjunto de principios para diseñar aplicaciones web:\n",
    "\n",
    "- **Un protocolo cliente/servidor sin estado:** cada mensaje HTTP contiene toda la información necesaria para comprender la petición. Como resultado, ni el cliente ni el servidor necesitan recordar ningún estado de las comunicaciones entre mensajes. En la práctica, muchas aplicaciones utilizan cookies y otros mecanismos para mantener el estado de la sesión.\n",
    "\n",
    "- Posee un conjunto de operaciones bien definidas que se aplican a todos los recursos de información: HTTP en sí define un conjunto pequeño de operaciones, las más importantes son **POST, GET, PUT y DELETE**. Con frecuencia estas operaciones se equiparan a las operaciones **CRUD en bases de datos** (CLAB en castellano: crear,leer,actualizar,borrar) que se requieren para la persistencia de datos.\n",
    "\n",
    "- **Una sintaxis universal para identificar los recursos.** En un sistema REST, cada recurso es direccionable únicamente a través de su **URI**.\n",
    "\n",
    "    ``/usuarios``\n",
    "\n",
    "    ``/usuarios/42``\n",
    "\n",
    "    ``/productos/15/comentarios``"
   ]
  },
  {
   "cell_type": "markdown",
   "id": "542d6940",
   "metadata": {},
   "source": [
    "### Desplegando nuestro modelo con FastAPI\n",
    "\n",
    "Ya que conocemos lo que es una API REST, revisemos como podemos usar `FastAPI` para implementar nuestra propia API.\n",
    "\n",
    "[FastAPI](https://fastapi.tiangolo.com) es un framework moderno y de alto rendimiento para construir APIs con Python, que destaca por su simplicidad, rapidez y eficiencia. FastAPI permite desarrollar aplicaciones web rápidamente utilizando la tipificación de Python para generar documentación automática y validaciones de datos sin esfuerzo adicional. Con una curva de aprendizaje amigable, FastAPI es una excelente elección para aprender y dominar el desarrollo de APIs en Python.\n",
    "\n",
    "Comencemos instalando la libreria:"
   ]
  },
  {
   "cell_type": "code",
   "execution_count": null,
   "id": "22f0c8d6",
   "metadata": {},
   "outputs": [],
   "source": [
    "#!pip install \"fastapi[all]\""
   ]
  },
  {
   "cell_type": "markdown",
   "id": "290fac8d",
   "metadata": {},
   "source": [
    "Con la libreria instalada, pasemos ahora a escribir nuestra API!\n",
    "\n",
    "**Nota importante: A diferencia de la sección de `gradio`, será necesario ejecutar nuestro código usando la terminal. Encontrarán el código completo de la API en `recursos/2025-01/13-Despliegue/fastapi_app.py`**\n",
    "\n",
    "Para usar `fastapi`, lo primero que se debe realizar es generar una instancia del módulo FastAPI:"
   ]
  },
  {
   "cell_type": "code",
   "execution_count": 21,
   "id": "d86bc085",
   "metadata": {},
   "outputs": [],
   "source": [
    "from fastapi import FastAPI\n",
    "\n",
    "# crear aplicación\n",
    "app = FastAPI()"
   ]
  },
  {
   "cell_type": "markdown",
   "id": "7d122079",
   "metadata": {},
   "source": [
    "Para levantar nuestra aplicación, tenemos 2 opciones:\n",
    "\n",
    "1. Escribir en la terminal el siguiente comando:\n",
    "\n",
    "```{python}\n",
    "uvicorn nombre_script:app --port 8000\n",
    "```\n",
    "\n",
    "2. Adjuntar al final del código de la aplicación el siguiente *chunk*:\n",
    "\n",
    "```{python}\n",
    "if __name__ == '__main__':\n",
    "    uvicorn.run('fastapi_app:app', port = 8000)\n",
    "```\n",
    "\n",
    "Si siguieron todos los pasos correctamente, deberia levantarse su aplicación en la siguiente ruta: [http://127.0.0.1:8000](http://127.0.0.1:8000)\n",
    "\n",
    "> **Pregunta:** ¿Qué les muestra el anterior link? ¿A qué se podría deber esto?\n",
    "\n",
    "El siguiente paso es crear un *home* o vista default de nuestra aplicación. Usualmente, esta vista está hecha para introducir al usuario al funcionamiento de la aplicación.\n",
    "\n",
    "Veamos como podemos implementar esto en nuestra aplicación:"
   ]
  },
  {
   "cell_type": "code",
   "execution_count": 19,
   "id": "92ee91dd",
   "metadata": {},
   "outputs": [],
   "source": [
    "from fastapi import FastAPI\n",
    "\n",
    "app = FastAPI()\n",
    "\n",
    "@app.get('/') # ruta\n",
    "async def home(): \n",
    "    return {'Hello': 'World'}"
   ]
  },
  {
   "cell_type": "markdown",
   "id": "cb05601b",
   "metadata": {},
   "source": [
    "Noten como FastAPI hace uso de *decoradores* para definir las rutas de la aplicación (donde en este caso, estamos definiendo un `GET`).\n",
    "\n",
    "Luego si levantamos nuestra aplicación de nuevo e ingresamos a [http://127.0.0.1:8000](http://127.0.0.1:8000), deberiamos obtener como respuesta:\n",
    "\n",
    "```{python}\n",
    "{'Hello': 'World'}\n",
    "```\n",
    "\n",
    "> **Pregunta: ¿Qué es un json? ¿Porqué es deseable hacer uso de este tipo en nuestra API?**\n",
    "\n",
    "Veamos ahora como definir una segunda ruta de acceso:"
   ]
  },
  {
   "cell_type": "code",
   "execution_count": 22,
   "id": "d4e93452",
   "metadata": {},
   "outputs": [],
   "source": [
    "from fastapi import FastAPI\n",
    "# from make_prediction import make_prediction\n",
    "\n",
    "# init app\n",
    "app = FastAPI()\n",
    "\n",
    "# def home\n",
    "@app.get('/') # ruta\n",
    "async def home():\n",
    "    return {'Hello': 'World'}\n",
    "\n",
    "@app.get('/classroom') # ruta\n",
    "async def classroom():\n",
    "    return {'Message': 'This is my first API :)'}"
   ]
  },
  {
   "cell_type": "markdown",
   "id": "1d698df0",
   "metadata": {},
   "source": [
    "Donde si ingresan a [http://127.0.0.1:8000/classroom](http://127.0.0.1:8000/classroom) deberian observar:\n",
    "\n",
    "```{python}\n",
    "{'Message': 'This is my first API :)'}\n",
    "```"
   ]
  },
  {
   "cell_type": "markdown",
   "id": "33eff680",
   "metadata": {},
   "source": [
    "Genial! Ahora que ya sabemos como definir algunas rutas de acceso en nuestra aplicación, veamos como implementar un método `POST` para desplegar nuestro modelo.\n",
    "\n",
    "> **Pregunta:** ¿Porqué es deseable generar un método `POST` para el despliegue de nuestra solución?"
   ]
  },
  {
   "cell_type": "code",
   "execution_count": 21,
   "id": "3f9d8b9e",
   "metadata": {},
   "outputs": [],
   "source": [
    "from fastapi import FastAPI\n",
    "\n",
    "# init app\n",
    "app = FastAPI()\n",
    "\n",
    "# def home\n",
    "@app.get('/') # ruta\n",
    "async def home():\n",
    "    return {'Hello': 'World'}\n",
    "\n",
    "@app.get('/classroom') # ruta\n",
    "def classroom():\n",
    "    return {'Message': 'This is my first API :)'}\n",
    "\n",
    "# def predict method\n",
    "@app.post(\"/predict\") # ruta\n",
    "async def predict(sepal_length: float, sepal_width: float, petal_length: float, petal_width: float): # parametros de entrada\n",
    "\n",
    "    label = make_prediction(sepal_length, sepal_width, petal_length, petal_width) # generar prediccion\n",
    "\n",
    "    return {\"label\": label} # retornar prediccion"
   ]
  },
  {
   "cell_type": "markdown",
   "id": "4f72c75a",
   "metadata": {},
   "source": [
    "Como pueden ver, desplegar nuestra solución fue sumamente simple ya que pudimos reciclar gran parte de lo hecho en `make_prediction`. Probemos ahora nuestra API!\n",
    "\n",
    "> **Pregunta:** ¿Qué deberia pasar si ingresamos a [http://127.0.0.1:8000/predict](http://127.0.0.1:8000/predict)? ¿Porqué?\n",
    "\n",
    "Para probar que el método `POST` funciona, `FastAPI` nos habilita la ruta [http://127.0.0.1:8000/docs](http://127.0.0.1:8000/docs) por defecto en donde podemos probar lo que hemos desarrollado en la API.\n",
    "\n",
    "Veamos ahora en vivo como probar nuestra aplicación!\n",
    "\n",
    "<p align=\"center\">\n",
    "  <img src=\"https://media.tenor.com/ug1DBRF_MjIAAAAC/bill-oreilly-well-do-it-live.gif\" width=\"400\">\n",
    "</p>"
   ]
  }
 ],
 "metadata": {
  "kernelspec": {
   "display_name": "mds7202",
   "language": "python",
   "name": "python3"
  },
  "language_info": {
   "codemirror_mode": {
    "name": "ipython",
    "version": 3
   },
   "file_extension": ".py",
   "mimetype": "text/x-python",
   "name": "python",
   "nbconvert_exporter": "python",
   "pygments_lexer": "ipython3",
   "version": "3.12.3"
  },
  "toc": {
   "base_numbering": 1,
   "nav_menu": {},
   "number_sections": true,
   "sideBar": true,
   "skip_h1_title": true,
   "title_cell": "Table of Contents",
   "title_sidebar": "Contents",
   "toc_cell": false,
   "toc_position": {},
   "toc_section_display": true,
   "toc_window_display": false
  }
 },
 "nbformat": 4,
 "nbformat_minor": 5
}
