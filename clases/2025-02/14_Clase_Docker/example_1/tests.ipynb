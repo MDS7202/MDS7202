{
 "cells": [
  {
   "cell_type": "code",
   "execution_count": 1,
   "metadata": {},
   "outputs": [],
   "source": [
    "import gradio as gr\n",
    "import requests\n",
    "from PIL import Image\n",
    "from io import BytesIO\n",
    "import os\n",
    "from datetime import datetime"
   ]
  },
  {
   "cell_type": "code",
   "execution_count": 2,
   "metadata": {},
   "outputs": [],
   "source": [
    "# Crear una carpeta para almacenar las imágenes de gatos\n",
    "os.makedirs(\"saved_cats\", exist_ok=True)\n",
    "\n",
    "def fetch_random_cat_pic():\n",
    "    try:\n",
    "        # Enviar una solicitud a The Cat API\n",
    "        cat_api_response = requests.get(\"https://api.thecatapi.com/v1/images/search\")\n",
    "        cat_api_response.raise_for_status()\n",
    "        \n",
    "        # Extraer la URL de la imagen de la respuesta de la API\n",
    "        cat_data = cat_api_response.json()\n",
    "        cat_image_url = cat_data[0]['url']\n",
    "        \n",
    "        # Descargar la imagen\n",
    "        image_response = requests.get(cat_image_url)\n",
    "        image_response.raise_for_status()\n",
    "        \n",
    "        # Abrir la imagen\n",
    "        cat_image = Image.open(BytesIO(image_response.content))\n",
    "        \n",
    "        # Generar un nombre de archivo único usando la fecha y hora actual\n",
    "        image_filename = f\"cat_{datetime.now().strftime('%Y%m%d_%H%M%S')}.png\"\n",
    "        image_path = os.path.join(\"saved_cats\", image_filename)\n",
    "        \n",
    "        # Guardar la imagen localmente\n",
    "        cat_image.save(image_path)\n",
    "        \n",
    "        return image_path\n",
    "    except requests.exceptions.RequestException as e:\n",
    "        print(f\"An error occurred: {e}\")\n",
    "        return None"
   ]
  },
  {
   "cell_type": "code",
   "execution_count": 3,
   "metadata": {},
   "outputs": [
    {
     "name": "stdout",
     "output_type": "stream",
     "text": [
      "* Running on local URL:  http://127.0.0.1:7860\n",
      "\n",
      "To create a public link, set `share=True` in `launch()`.\n"
     ]
    },
    {
     "data": {
      "text/html": [
       "<div><iframe src=\"http://127.0.0.1:7860/\" width=\"100%\" height=\"500\" allow=\"autoplay; camera; microphone; clipboard-read; clipboard-write;\" frameborder=\"0\" allowfullscreen></iframe></div>"
      ],
      "text/plain": [
       "<IPython.core.display.HTML object>"
      ]
     },
     "metadata": {},
     "output_type": "display_data"
    },
    {
     "data": {
      "text/plain": []
     },
     "execution_count": 3,
     "metadata": {},
     "output_type": "execute_result"
    }
   ],
   "source": [
    "iface = gr.Interface(\n",
    "    fn=fetch_random_cat_pic,\n",
    "    inputs=[],\n",
    "    outputs=gr.Image(type=\"filepath\", label=\"Random Cat Image\"),\n",
    "    live=True\n",
    ")\n",
    "\n",
    "iface.launch()"
   ]
  },
  {
   "cell_type": "code",
   "execution_count": null,
   "metadata": {},
   "outputs": [],
   "source": []
  }
 ],
 "metadata": {
  "kernelspec": {
   "display_name": "base",
   "language": "python",
   "name": "python3"
  },
  "language_info": {
   "codemirror_mode": {
    "name": "ipython",
    "version": 3
   },
   "file_extension": ".py",
   "mimetype": "text/x-python",
   "name": "python",
   "nbconvert_exporter": "python",
   "pygments_lexer": "ipython3",
   "version": "3.12.7"
  }
 },
 "nbformat": 4,
 "nbformat_minor": 2
}
