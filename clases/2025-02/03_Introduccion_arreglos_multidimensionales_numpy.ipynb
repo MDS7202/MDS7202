{
  "cells": [
    {
      "cell_type": "markdown",
      "id": "c678acd9-7b94-4a01-8205-431edfecc601",
      "metadata": {
        "id": "c678acd9-7b94-4a01-8205-431edfecc601",
        "tags": []
      },
      "source": [
        "# Clase 3: Manejo de Arreglos Multidimensionales con `Numpy`\n",
        "\n",
        "**MDS7202: Laboratorio de Programación Científica para Ciencia de Datos**\n"
      ]
    },
    {
      "cell_type": "markdown",
      "id": "c9ef0c9a",
      "metadata": {
        "id": "c9ef0c9a"
      },
      "source": [
        "## Objetivos\n",
        "\n",
        "- Introducirlos a Numpy y su uso en la ciencia de datos.\n",
        "- Explorar arreglos multidimensionales y la vectorización de operaciones.\n"
      ]
    },
    {
      "cell_type": "markdown",
      "id": "20de96ca-08d0-4a7c-9635-864cd3ec5d8d",
      "metadata": {
        "id": "20de96ca-08d0-4a7c-9635-864cd3ec5d8d"
      },
      "source": [
        "## Motivación\n"
      ]
    },
    {
      "cell_type": "markdown",
      "id": "7da8b1bf-3364-4781-9df3-e1870d6d6183",
      "metadata": {
        "id": "7da8b1bf-3364-4781-9df3-e1870d6d6183"
      },
      "source": [
        "Consideren el siguiente ejemplo:\n",
        "\n",
        "> **Pregunta ❓:** ¿Cómo le sumamos 1 a cada valor de la lista?\n"
      ]
    },
    {
      "cell_type": "code",
      "execution_count": null,
      "id": "ab893abb-fa78-4f09-b7c5-c5e64c5b6cb4",
      "metadata": {
        "id": "ab893abb-fa78-4f09-b7c5-c5e64c5b6cb4"
      },
      "outputs": [],
      "source": [
        "lista = [1, 4, 5, 7]\n",
        "lista"
      ]
    },
    {
      "cell_type": "code",
      "execution_count": null,
      "id": "aad9fa20-0014-423b-9c00-2841db444d11",
      "metadata": {
        "id": "aad9fa20-0014-423b-9c00-2841db444d11"
      },
      "outputs": [],
      "source": [
        "for i in range(len(lista)):\n",
        "    lista[i] = lista[i] + 1\n",
        "\n",
        "lista"
      ]
    },
    {
      "cell_type": "code",
      "execution_count": null,
      "id": "2cc06b62",
      "metadata": {
        "id": "2cc06b62"
      },
      "outputs": [],
      "source": [
        "[i+1 for i in lista]"
      ]
    },
    {
      "cell_type": "markdown",
      "id": "69cafe55-acab-4c07-b40f-ab9f5032b4d2",
      "metadata": {
        "id": "69cafe55-acab-4c07-b40f-ab9f5032b4d2"
      },
      "source": [
        "> **Pregunta ❓:** ¿Cómo le sumamos 1 a cada valor de la matriz?\n"
      ]
    },
    {
      "cell_type": "code",
      "execution_count": null,
      "id": "69fbc7c2",
      "metadata": {
        "id": "69fbc7c2"
      },
      "outputs": [],
      "source": [
        "matriz = [\n",
        "    [1, 4, 5, 7],\n",
        "    [1, 1, 0, 0],\n",
        "    [7, 7, 2, 5],\n",
        "]\n",
        "matriz"
      ]
    },
    {
      "cell_type": "code",
      "execution_count": null,
      "id": "623e1912-4c41-4059-b7c6-a9933058f22c",
      "metadata": {
        "id": "623e1912-4c41-4059-b7c6-a9933058f22c"
      },
      "outputs": [],
      "source": [
        "for i in range(len(matriz)):\n",
        "    for j in range(len(matriz[0])):\n",
        "        matriz[i][j] += 1"
      ]
    },
    {
      "cell_type": "code",
      "execution_count": null,
      "id": "90ff8e2b-80c1-4162-a3f4-37deedbf649c",
      "metadata": {
        "id": "90ff8e2b-80c1-4162-a3f4-37deedbf649c"
      },
      "outputs": [],
      "source": [
        "matriz"
      ]
    },
    {
      "cell_type": "markdown",
      "id": "46d1b144-706d-44f9-b42b-bc7ef24c597b",
      "metadata": {
        "id": "46d1b144-706d-44f9-b42b-bc7ef24c597b"
      },
      "source": [
        "> **Pregunta ❓:** Qué pasa si tenemos una lista de matrices y a cada elemento queremos sumarle 1?\n"
      ]
    },
    {
      "cell_type": "code",
      "execution_count": null,
      "id": "178b2ecb-e9b6-422a-9712-3135e16d47e0",
      "metadata": {
        "id": "178b2ecb-e9b6-422a-9712-3135e16d47e0"
      },
      "outputs": [],
      "source": [
        "matriz = [\n",
        "    [\n",
        "        [1, 4, 5, 7],\n",
        "        [1, 1, 0, 0],\n",
        "        [7, 7, 2, 5],\n",
        "    ],\n",
        "    [\n",
        "        [4, 7, 8, 10],\n",
        "        [4, 4, 3, 3],\n",
        "        [10, 10, 5, 8],\n",
        "    ],\n",
        "]"
      ]
    },
    {
      "cell_type": "code",
      "execution_count": null,
      "id": "fdb8ea73-bee0-468c-922b-f4e6a77ead51",
      "metadata": {
        "id": "fdb8ea73-bee0-468c-922b-f4e6a77ead51"
      },
      "outputs": [],
      "source": [
        "for i in range(len(matriz)):\n",
        "    for j in range(len(matriz[0])):\n",
        "        for k in range(len(matriz[0][0])):\n",
        "            matriz[i][j][k] += 1"
      ]
    },
    {
      "cell_type": "markdown",
      "id": "5e0517fd-4f40-4ef0-8d50-64584ac7feee",
      "metadata": {
        "id": "5e0517fd-4f40-4ef0-8d50-64584ac7feee"
      },
      "source": [
        "> **Pregunta ❓:** Y podríamos tener algo como `matriz + 1`?\n"
      ]
    },
    {
      "cell_type": "code",
      "execution_count": null,
      "id": "1e5197b2-d0d2-41a5-a50e-f1de21fb7f36",
      "metadata": {
        "id": "1e5197b2-d0d2-41a5-a50e-f1de21fb7f36"
      },
      "outputs": [],
      "source": [
        "matriz + 1"
      ]
    },
    {
      "cell_type": "markdown",
      "id": "6ba60689-6891-402b-82b1-048448d29eec",
      "metadata": {
        "id": "6ba60689-6891-402b-82b1-048448d29eec"
      },
      "source": [
        "### Numpy\n",
        "\n",
        "[NumPy (Numerical Python)](http://www.numpy.org/) es el módulo fundamental para la computación científica en Python. Numpy es un módulo que provee **arreglos multi-dimensionales homogeneos** (i.e., del mismo tipo de datos) y una gran gama de operaciones optimizadas que aplican sobre estos, tales como álgebra lineal, E/S (I/O), estadística básica, simulaciones aleatorias y un gran etc.\n",
        "\n",
        "Su uso se ha vuelto un estándar en computación científica, en particular en ciencia de datos y machine learning. Su uso es similar a otras herramientas matemáticas como MATLAB, pero esta es **Open Source 👍**.\n"
      ]
    },
    {
      "cell_type": "markdown",
      "id": "3ad0341a-c0a3-4f6f-b810-a923f8014ba4",
      "metadata": {
        "id": "3ad0341a-c0a3-4f6f-b810-a923f8014ba4",
        "jp-MarkdownHeadingCollapsed": true,
        "tags": []
      },
      "source": [
        "### Ejemplos de Aplicaciones\n",
        "\n",
        "<div align='center'>\n",
        "<img src=\"https://raw.githubusercontent.com/MDS7202/MDS7202/main/recursos/2023-01/07-Numpy/numpy_case_studies.jpg\" alt=\"Casos de estudio\" style=\"width: 800px;\"/>\n",
        "</div>\n"
      ]
    },
    {
      "cell_type": "markdown",
      "id": "c85cae75-6e66-44c8-a381-97ce815d44e4",
      "metadata": {
        "id": "c85cae75-6e66-44c8-a381-97ce815d44e4"
      },
      "source": [
        "### Ecosistema\n",
        "\n",
        "<div align='center'>\n",
        "<img src=\"https://raw.githubusercontent.com/MDS7202/MDS7202/main/recursos/2023-01/07-Numpy/numpy_ecosistema.jpg\" alt=\"Ecosistema de Numpy\" style=\"width: 800px;\"/>\n",
        "</div>\n"
      ]
    },
    {
      "cell_type": "markdown",
      "id": "70432cdd-9b4c-468c-8b45-fac4e31d1c98",
      "metadata": {
        "id": "70432cdd-9b4c-468c-8b45-fac4e31d1c98"
      },
      "source": [
        "### La clase `ndarray`\n",
        "\n",
        "**Arreglo** (según wikipedia):\n",
        "\n",
        "> Es a una zona de almacenamiento contiguo (en la memoria RAM) que contiene una serie de elementos del mismo tipo.\n",
        "\n",
        "<br>\n",
        "\n",
        "<div align='center'>\n",
        "<img src='https://raw.githubusercontent.com/MDS7202/MDS7202/main/recursos/2023-01/07-Numpy/array.png' width=800>\n",
        "</div>\n",
        "\n",
        "<div align='center'>\n",
        "    Fuente: <a href='https://medium.com/@akedalat/how-arrays-allocate-memory-a9bc93c0ad45'> https://medium.com/@akedalat/how-arrays-allocate-memory-a9bc93c0ad45</a>\n",
        "</div>\n",
        "\n",
        "<br>\n",
        "\n",
        "El núcleo de `numpy` es el objeto ndarray. Este objeto encapsula **arreglos n-dimensionales** de **tipos de datos homogeneos** e implementa **rutinas precompiladas** para el calculo de operaciones.\n",
        "\n",
        "Algunas de las características de estos arreglos.\n",
        "\n",
        "| Arreglos de tamaño fijo.                                                                                                                                               | Arreglos del mismo tipo de datos.                                                                                                  | Provee operaciones matemáticas sobre largos conjuntos de datos.                                                           |\n",
        "| ---------------------------------------------------------------------------------------------------------------------------------------------------------------------- | ---------------------------------------------------------------------------------------------------------------------------------- | ------------------------------------------------------------------------------------------------------------------------- |\n",
        "| A diferencia de las listas de python que pueden crecer dinámicamente, los arreglos de numpy son estáticos. Modificar el tamaño de un arreglo implicará crear uno nuevo | Tipos de datos distintos tienen tamaños distintos. Al tener tipos de datos de igual tamaño, se puede manejar mejor la memoria RAM. | Los módulos precompilados ofrecen operaciones más eficientes sobre arreglos numpy que su equivalente de listas en python. |\n"
      ]
    },
    {
      "cell_type": "markdown",
      "id": "daa37745-b11c-4273-a0ba-765006e6cd18",
      "metadata": {
        "id": "daa37745-b11c-4273-a0ba-765006e6cd18"
      },
      "source": [
        "---\n"
      ]
    },
    {
      "cell_type": "markdown",
      "id": "780dcea4-01b1-4d1d-90a1-d94b07ce55a9",
      "metadata": {
        "id": "780dcea4-01b1-4d1d-90a1-d94b07ce55a9"
      },
      "source": [
        "### Vectorización\n",
        "\n",
        "La vectorización es la ausencia de cualquier ciclo o indexado explícito en el código. Todo se hace a través de funciones que operan \"detrás de escenas\".\n",
        "\n",
        "**Ventajas**\n",
        "\n",
        "- El código vectorizado es mas conciso y fácil de leer.\n",
        "\n",
        "- Menos lineas de código = Menos bugs.\n",
        "\n",
        "- La notación vectorizada \"recuerda\" en algo a la notación matemática. (Piensen en una suma de dos vectores implementado en for con respecto un `a + b`).\n"
      ]
    },
    {
      "cell_type": "markdown",
      "id": "0b9da391-69c1-4c20-ac44-77237e658e60",
      "metadata": {
        "id": "0b9da391-69c1-4c20-ac44-77237e658e60"
      },
      "source": [
        "```python\n",
        "# pseudocódigo que nos permite comparar ambos enfoques: ciclos vs vectorización.\n",
        "\n",
        "a = [1, 2, 3, 4, ...]\n",
        "b = [1, 2, 3, 4, ...]\n",
        "\n",
        "```\n"
      ]
    },
    {
      "cell_type": "markdown",
      "id": "78ffe026-e278-4547-84d9-d013319f2987",
      "metadata": {
        "id": "78ffe026-e278-4547-84d9-d013319f2987"
      },
      "source": [
        "```python\n",
        "# 1.- Ejemplo con ciclos.\n",
        "c = []\n",
        "for i in range(len(a)):\n",
        "    suma = a[i] + b[i]\n",
        "    c.append(suma)\n",
        "\n",
        "```\n"
      ]
    },
    {
      "cell_type": "markdown",
      "id": "90b4b89d-dd91-48c6-9bcf-9cbd0b9b1292",
      "metadata": {
        "id": "90b4b89d-dd91-48c6-9bcf-9cbd0b9b1292"
      },
      "source": [
        "```python\n",
        "# 2.- Ejemplo vectorizado.\n",
        "c = a + b\n",
        "```\n"
      ]
    },
    {
      "cell_type": "markdown",
      "id": "69ecfb3d-74e7-4496-9868-a033f07e8a74",
      "metadata": {
        "id": "69ecfb3d-74e7-4496-9868-a033f07e8a74"
      },
      "source": [
        "### Primeros Pasos\n"
      ]
    },
    {
      "cell_type": "markdown",
      "id": "23641067-dac7-4c85-a175-cc3a7b934431",
      "metadata": {
        "id": "23641067-dac7-4c85-a175-cc3a7b934431"
      },
      "source": [
        "Importamos comunmente `numpy` usando el alias `np`.\n"
      ]
    },
    {
      "cell_type": "code",
      "execution_count": null,
      "id": "09fec7bf-f107-4a5d-830d-25c184d9d553",
      "metadata": {
        "id": "09fec7bf-f107-4a5d-830d-25c184d9d553"
      },
      "outputs": [],
      "source": [
        "!pip install numpy"
      ]
    },
    {
      "cell_type": "code",
      "execution_count": null,
      "id": "cd082e44-4ce2-41e2-8e3e-e5ee7bea56e3",
      "metadata": {
        "ExecuteTime": {
          "end_time": "2021-03-31T19:28:07.775507Z",
          "start_time": "2021-03-31T19:28:07.770496Z"
        },
        "id": "cd082e44-4ce2-41e2-8e3e-e5ee7bea56e3"
      },
      "outputs": [],
      "source": [
        "# alias comun es np\n",
        "import numpy as np"
      ]
    },
    {
      "cell_type": "markdown",
      "id": "dfe2cdef-aeba-4124-95d9-79aab7f7e408",
      "metadata": {
        "id": "dfe2cdef-aeba-4124-95d9-79aab7f7e408"
      },
      "source": [
        "#### Creación de arrays\n",
        "\n",
        "Existen varias formas de crear arreglos.\n"
      ]
    },
    {
      "cell_type": "markdown",
      "id": "1aab0a4b-b61a-4a57-a844-02fbdf5076cc",
      "metadata": {
        "ExecuteTime": {
          "end_time": "2021-03-31T14:48:06.295871Z",
          "start_time": "2021-03-31T14:48:06.275946Z"
        },
        "id": "1aab0a4b-b61a-4a57-a844-02fbdf5076cc"
      },
      "source": [
        "##### Inicializar a partir de listas\n"
      ]
    },
    {
      "cell_type": "code",
      "execution_count": null,
      "id": "e3b5bc9a-5a67-4ed0-a53e-8b572b85ffed",
      "metadata": {
        "ExecuteTime": {
          "end_time": "2021-03-31T19:28:08.541506Z",
          "start_time": "2021-03-31T19:28:08.518497Z"
        },
        "id": "e3b5bc9a-5a67-4ed0-a53e-8b572b85ffed",
        "scrolled": true
      },
      "outputs": [],
      "source": [
        "a = np.array([1, 2, 3])\n",
        "a"
      ]
    },
    {
      "cell_type": "markdown",
      "id": "38a11354-9c3c-4b8d-8568-468e2d57c200",
      "metadata": {
        "id": "38a11354-9c3c-4b8d-8568-468e2d57c200"
      },
      "source": [
        "![Ejemplo ndarray](https://raw.githubusercontent.com/MDS7202/MDS7202/main/recursos/2023-01/07-Numpy/np_array.png)\n"
      ]
    },
    {
      "cell_type": "markdown",
      "id": "4f017921-9428-4273-b2f8-9d69fd3b815f",
      "metadata": {
        "id": "4f017921-9428-4273-b2f8-9d69fd3b815f"
      },
      "source": [
        "##### Crear _arrays_ llenos de ceros\n"
      ]
    },
    {
      "cell_type": "code",
      "execution_count": null,
      "id": "3b2d8a2b-39cc-49ed-a57f-c8f5bf2c2331",
      "metadata": {
        "ExecuteTime": {
          "end_time": "2021-03-31T19:28:37.593794Z",
          "start_time": "2021-03-31T19:28:37.573796Z"
        },
        "id": "3b2d8a2b-39cc-49ed-a57f-c8f5bf2c2331"
      },
      "outputs": [],
      "source": [
        "b = np.zeros(10)\n",
        "b"
      ]
    },
    {
      "cell_type": "markdown",
      "id": "433a743b-c4f6-4109-8f3a-9ee91a818426",
      "metadata": {
        "code_folding": [],
        "id": "433a743b-c4f6-4109-8f3a-9ee91a818426"
      },
      "source": [
        "##### Crear _arrays_ de 1\n"
      ]
    },
    {
      "cell_type": "code",
      "execution_count": null,
      "id": "dd5fdef9-0d1a-4dbd-850d-bd44e7f08b87",
      "metadata": {
        "ExecuteTime": {
          "end_time": "2021-03-31T19:28:42.996086Z",
          "start_time": "2021-03-31T19:28:42.984083Z"
        },
        "id": "dd5fdef9-0d1a-4dbd-850d-bd44e7f08b87"
      },
      "outputs": [],
      "source": [
        "c = np.ones(10)\n",
        "c"
      ]
    },
    {
      "cell_type": "markdown",
      "id": "acd6ca43-a660-42ce-be49-c21fe56dcf4f",
      "metadata": {
        "id": "acd6ca43-a660-42ce-be49-c21fe56dcf4f"
      },
      "source": [
        "##### Y arreglos con valores aleatorios\n",
        "\n",
        "Esto genera una matriz en donde cada elemento es un número $ \\sim \\text{unif}([0,1])$\n"
      ]
    },
    {
      "cell_type": "code",
      "execution_count": null,
      "id": "c8059691-bd53-45ac-a8ad-54324a444dec",
      "metadata": {
        "ExecuteTime": {
          "end_time": "2021-03-31T19:29:14.620715Z",
          "start_time": "2021-03-31T19:29:14.609688Z"
        },
        "id": "c8059691-bd53-45ac-a8ad-54324a444dec",
        "scrolled": true
      },
      "outputs": [],
      "source": [
        "np.random.rand(5)"
      ]
    },
    {
      "cell_type": "markdown",
      "id": "03cd340b-6056-4fe8-9671-ab5aa12aa195",
      "metadata": {
        "id": "03cd340b-6056-4fe8-9671-ab5aa12aa195"
      },
      "source": [
        "##### También podemos crear matrices de forma muy sencilla\n"
      ]
    },
    {
      "cell_type": "code",
      "execution_count": null,
      "id": "4085613a-090d-447a-8d42-7dc8f12b2323",
      "metadata": {
        "ExecuteTime": {
          "end_time": "2021-03-31T19:29:22.430505Z",
          "start_time": "2021-03-31T19:29:22.413506Z"
        },
        "id": "4085613a-090d-447a-8d42-7dc8f12b2323"
      },
      "outputs": [],
      "source": [
        "e = np.ones((5, 6))\n",
        "e"
      ]
    },
    {
      "cell_type": "markdown",
      "id": "28e95490-c6b6-4d13-8a15-e4e4b9f33e9e",
      "metadata": {
        "id": "28e95490-c6b6-4d13-8a15-e4e4b9f33e9e"
      },
      "source": [
        "Como también a partir de listas\n"
      ]
    },
    {
      "cell_type": "code",
      "execution_count": null,
      "id": "9755d263-c183-4017-b8a5-711ce10a116b",
      "metadata": {
        "ExecuteTime": {
          "end_time": "2021-03-31T19:30:02.133772Z",
          "start_time": "2021-03-31T19:30:02.117772Z"
        },
        "id": "9755d263-c183-4017-b8a5-711ce10a116b"
      },
      "outputs": [],
      "source": [
        "m = np.array(\n",
        "    [\n",
        "        [1, 2, 3],\n",
        "        [4, 5, 6],\n",
        "        [7, 8, 9],\n",
        "        [10, 11, 12],\n",
        "    ]\n",
        ")\n",
        "\n",
        "m\n"
      ]
    },
    {
      "cell_type": "markdown",
      "id": "787c8c67-3d1b-4f68-bf96-ef4e9f67997e",
      "metadata": {
        "id": "787c8c67-3d1b-4f68-bf96-ef4e9f67997e"
      },
      "source": [
        "> **Pregunta ❓** : ¿Qué sucederá con el siguiente código?"
      ]
    },
    {
      "cell_type": "code",
      "execution_count": null,
      "id": "f57d3f32-bf6f-4ad7-b0c9-1c1259a3a399",
      "metadata": {
        "ExecuteTime": {
          "end_time": "2021-03-31T19:31:27.823705Z",
          "start_time": "2021-03-31T19:31:27.811708Z"
        },
        "id": "f57d3f32-bf6f-4ad7-b0c9-1c1259a3a399"
      },
      "outputs": [],
      "source": [
        "m2 = np.array(\n",
        "    [\n",
        "        [1, 2, 3],\n",
        "        [4, 5, 6],\n",
        "        [7,],\n",
        "    ]\n",
        ")\n",
        "m2"
      ]
    },
    {
      "cell_type": "markdown",
      "id": "ece7f217",
      "metadata": {
        "id": "ece7f217"
      },
      "source": [
        "> **Pregunta ❓** : ¿Qué sucede con el siguiente código?\n"
      ]
    },
    {
      "cell_type": "code",
      "execution_count": null,
      "id": "ec7560c4-9129-49e2-b44a-1ed6c4aed049",
      "metadata": {
        "id": "ec7560c4-9129-49e2-b44a-1ed6c4aed049"
      },
      "outputs": [],
      "source": [
        "np.array([\"hola\", \"chao\"])"
      ]
    },
    {
      "cell_type": "code",
      "execution_count": null,
      "id": "37bc90f9-c403-4e58-851f-6d99f05462f0",
      "metadata": {
        "id": "37bc90f9-c403-4e58-851f-6d99f05462f0"
      },
      "outputs": [],
      "source": [
        "np.array(\n",
        "    [\n",
        "        [\"h\", \"o\", \"l\", \"a\"],\n",
        "        [\"c\", \"h\", \"a\", \"o\"],\n",
        "    ]\n",
        ")\n"
      ]
    },
    {
      "cell_type": "markdown",
      "id": "f614ad19-db7b-4622-bbbe-7c2092ef9e36",
      "metadata": {
        "id": "f614ad19-db7b-4622-bbbe-7c2092ef9e36"
      },
      "source": [
        "### Triángulo 📐\n",
        "\n",
        "De aquí en adelante definiremos una matriz que contendrá los puntos que conforman un triángulo y estaremos trabajando sobre esta.\n"
      ]
    },
    {
      "cell_type": "code",
      "execution_count": null,
      "id": "b7af023d-d888-4e8e-9eaf-697eb9807bab",
      "metadata": {
        "id": "b7af023d-d888-4e8e-9eaf-697eb9807bab"
      },
      "outputs": [],
      "source": [
        "import numpy as np\n",
        "\n",
        "puntos = np.array(\n",
        "    [\n",
        "        [0, 0],\n",
        "        [1, 2],\n",
        "        [2, 0],\n",
        "        [0, 0],\n",
        "    ]\n",
        ")\n",
        "\n",
        "puntos"
      ]
    },
    {
      "cell_type": "markdown",
      "id": "15cf4603-cc93-4226-811c-e5b941761a2e",
      "metadata": {
        "id": "15cf4603-cc93-4226-811c-e5b941761a2e"
      },
      "source": [
        "> **Pregunta ❓**: ¿Qué interpretación le podríamos dar a los valores mostrados en el arreglo anterior?\n"
      ]
    },
    {
      "cell_type": "code",
      "execution_count": null,
      "id": "004e4c80-ede8-4865-8ec2-0aa9dcd37113",
      "metadata": {
        "id": "004e4c80-ede8-4865-8ec2-0aa9dcd37113"
      },
      "outputs": [],
      "source": [
        "# para instalarlo en colab\n",
        "!pip install plotly"
      ]
    },
    {
      "cell_type": "code",
      "execution_count": null,
      "id": "371240cd-5f59-4d8c-97b5-0be612e83fe2",
      "metadata": {
        "id": "371240cd-5f59-4d8c-97b5-0be612e83fe2"
      },
      "outputs": [],
      "source": [
        "import plotly.graph_objects as go\n",
        "\n",
        "\n",
        "def plot_triangulo(puntos):\n",
        "    fig = go.Figure(go.Scatter(x=puntos[:, 0], y=puntos[:, 1], fill=\"toself\"))\n",
        "    fig.update_layout(height=500, width=500).show()"
      ]
    },
    {
      "cell_type": "code",
      "execution_count": null,
      "id": "80521b84-5f40-44fd-8bb0-a52fc66dadfa",
      "metadata": {
        "id": "80521b84-5f40-44fd-8bb0-a52fc66dadfa"
      },
      "outputs": [],
      "source": [
        "plot_triangulo(puntos)"
      ]
    },
    {
      "cell_type": "code",
      "execution_count": null,
      "id": "28512092-3f26-4016-a77d-86ca0213f0cc",
      "metadata": {
        "id": "28512092-3f26-4016-a77d-86ca0213f0cc"
      },
      "outputs": [],
      "source": [
        "puntos"
      ]
    },
    {
      "cell_type": "markdown",
      "id": "068ff58d-0c83-48da-a4c1-eaa2e5ca4706",
      "metadata": {
        "id": "068ff58d-0c83-48da-a4c1-eaa2e5ca4706"
      },
      "source": [
        "#### Axes\n",
        "\n",
        "En `numpy`, las dimensiones son llamadas **_axes_**.\n",
        "\n",
        "La matriz que vimos antes (`puntos`) es un conjunto de cuatro puntos bidimensionales. Es decir, la matriz puede ser considerada como una lista de puntos, los cuales cuentan con un valor para el eje X y uno para el eje Y.\n",
        "\n",
        "Notemos que:\n",
        "\n",
        "- Un punto `[0, 0]` es un arreglo de una sola dimensión (un solo axe).\n",
        "- Un conjunto de dos puntos `[[0, 0], [1, 2]],` es un arreglo de dos dimensiones (dos axes).\n",
        "\n",
        "> **Pregunta ❓**: `[[[0, 0], [1, 2]], [[3, 4], [5, 6]], [[7, 8], [9, 10]]]` ¿Cuántos axes tiene?\n"
      ]
    },
    {
      "cell_type": "markdown",
      "id": "7fa63939-a71b-43fd-8f83-922a819db2be",
      "metadata": {
        "id": "7fa63939-a71b-43fd-8f83-922a819db2be"
      },
      "source": [
        "#### Atributos de la clase ndarray\n"
      ]
    },
    {
      "cell_type": "code",
      "execution_count": null,
      "id": "3c25a6fa-4a9b-4ac8-b96b-8e7f3ced0cce",
      "metadata": {
        "ExecuteTime": {
          "end_time": "2021-03-31T19:36:04.611878Z",
          "start_time": "2021-03-31T19:36:04.597881Z"
        },
        "id": "3c25a6fa-4a9b-4ac8-b96b-8e7f3ced0cce",
        "scrolled": true
      },
      "outputs": [],
      "source": [
        "puntos"
      ]
    },
    {
      "cell_type": "markdown",
      "id": "28fb8d78-edee-4db0-aaaf-faf32e0afeea",
      "metadata": {
        "id": "28fb8d78-edee-4db0-aaaf-faf32e0afeea"
      },
      "source": [
        "##### `ndim`\n",
        "\n",
        "Podemos acceder al número de dimensiones o axes a través del atributo `ndim`\n"
      ]
    },
    {
      "cell_type": "code",
      "execution_count": null,
      "id": "249f1baa-fcd1-47d4-93af-42847e876a7e",
      "metadata": {
        "ExecuteTime": {
          "end_time": "2021-03-31T19:36:21.394474Z",
          "start_time": "2021-03-31T19:36:21.376477Z"
        },
        "id": "249f1baa-fcd1-47d4-93af-42847e876a7e",
        "scrolled": true
      },
      "outputs": [],
      "source": [
        "puntos.ndim"
      ]
    },
    {
      "cell_type": "markdown",
      "id": "473e70f8-c93f-42fc-8606-6c5bc34674a3",
      "metadata": {
        "id": "473e70f8-c93f-42fc-8606-6c5bc34674a3"
      },
      "source": [
        "##### `shape`\n",
        "\n",
        "Shape es una tupla que indica el tamaño de cada dimension. Nota que la tupla tiene la misma cantidad de elementos que el número de dimensiones.\n",
        "\n",
        "En nuesto ejemplo, la dimensión 1 tiene tamaño 4 (4 puntos) y la segunda dimensión tiene 2 (coordenadas).\n"
      ]
    },
    {
      "cell_type": "code",
      "execution_count": null,
      "id": "ab754e39-0865-4f9c-a114-5e5606adcdbd",
      "metadata": {
        "ExecuteTime": {
          "end_time": "2021-03-31T19:36:33.081198Z",
          "start_time": "2021-03-31T19:36:33.075199Z"
        },
        "id": "ab754e39-0865-4f9c-a114-5e5606adcdbd"
      },
      "outputs": [],
      "source": [
        "puntos.shape"
      ]
    },
    {
      "cell_type": "code",
      "execution_count": null,
      "id": "e6f5a4af-9aed-48c1-b25b-30c4055c9876",
      "metadata": {
        "id": "e6f5a4af-9aed-48c1-b25b-30c4055c9876"
      },
      "outputs": [],
      "source": [
        "puntos"
      ]
    },
    {
      "cell_type": "markdown",
      "id": "b6a68e01-910d-433f-90a5-fb0b305a156b",
      "metadata": {
        "id": "b6a68e01-910d-433f-90a5-fb0b305a156b"
      },
      "source": [
        "##### `size`\n",
        "\n",
        "Es el número de elementos totales en nuestro arreglo. Se calcula como la **multiplicación** de los tamaños de cada dimensión.\n"
      ]
    },
    {
      "cell_type": "code",
      "execution_count": null,
      "id": "8efd87d2-3654-463e-a6ca-197cef329c95",
      "metadata": {
        "ExecuteTime": {
          "end_time": "2021-03-31T19:37:45.424587Z",
          "start_time": "2021-03-31T19:37:45.407587Z"
        },
        "id": "8efd87d2-3654-463e-a6ca-197cef329c95"
      },
      "outputs": [],
      "source": [
        "puntos.size"
      ]
    },
    {
      "cell_type": "markdown",
      "id": "938adb72-bd1a-4474-bb6c-a33cad41248f",
      "metadata": {
        "id": "938adb72-bd1a-4474-bb6c-a33cad41248f"
      },
      "source": [
        "##### `dtype`\n",
        "\n",
        "El tipo de datos que tiene nuestro arreglo\n"
      ]
    },
    {
      "cell_type": "code",
      "execution_count": null,
      "id": "079b68bc-96b2-497b-a711-9e498b85f7cb",
      "metadata": {
        "ExecuteTime": {
          "end_time": "2021-03-31T19:37:52.676667Z",
          "start_time": "2021-03-31T19:37:52.669658Z"
        },
        "id": "079b68bc-96b2-497b-a711-9e498b85f7cb"
      },
      "outputs": [],
      "source": [
        "puntos.dtype"
      ]
    },
    {
      "cell_type": "markdown",
      "id": "df1c8fb6-1050-4337-a709-fb46ec891894",
      "metadata": {
        "id": "df1c8fb6-1050-4337-a709-fb46ec891894"
      },
      "source": [
        "#### Datos sobre múltiples dimensiones\n",
        "\n",
        "Supongamos que el triángulo va creciendo aleatoriamente según pasa el tiempo.\n",
        "\n",
        "Es decir que tendrémos para cada $t$, un conjunto de cuatro puntos distintos.\n"
      ]
    },
    {
      "cell_type": "code",
      "execution_count": null,
      "id": "6102655a-51af-4c2b-99cd-78beb3a37a73",
      "metadata": {
        "id": "6102655a-51af-4c2b-99cd-78beb3a37a73"
      },
      "outputs": [],
      "source": [
        "puntos = np.array(\n",
        "    [\n",
        "        [0, 0],\n",
        "        [1, 2],\n",
        "        [2, 0],\n",
        "        [0, 0],\n",
        "    ]\n",
        ")\n",
        "\n",
        "print(puntos)\n",
        "plot_triangulo(puntos)"
      ]
    },
    {
      "cell_type": "code",
      "execution_count": null,
      "id": "e4dc5097-40ed-4dec-b7e2-24194a22d650",
      "metadata": {
        "ExecuteTime": {
          "end_time": "2021-03-31T19:39:19.543222Z",
          "start_time": "2021-03-31T19:39:19.533227Z"
        },
        "id": "e4dc5097-40ed-4dec-b7e2-24194a22d650",
        "scrolled": true
      },
      "outputs": [],
      "source": [
        "puntos_t1 = np.round(puntos + np.random.uniform(low=-1, high=1, size=(4, 2)), 2)\n",
        "puntos_t1[-1, :] = puntos_t1[0, :]  # aseguramos que la figura producida termine al incio y sea cerrada.\n",
        "print(puntos_t1)\n",
        "plot_triangulo(puntos_t1)"
      ]
    },
    {
      "cell_type": "code",
      "execution_count": null,
      "id": "55bbcaa9-e693-4f4c-bb4b-a25d7d159408",
      "metadata": {
        "ExecuteTime": {
          "end_time": "2021-03-31T19:39:31.709916Z",
          "start_time": "2021-03-31T19:39:31.703922Z"
        },
        "id": "55bbcaa9-e693-4f4c-bb4b-a25d7d159408",
        "scrolled": true
      },
      "outputs": [],
      "source": [
        "puntos_t2 = np.round(puntos_t1 + np.random.uniform(low=-1, high=1, size=(4, 2)), 2)\n",
        "puntos_t2[-1, :] = puntos_t2[0, :]  # aseguramos que la figura producida termine al incio y sea cerrada.\n",
        "print(puntos_t2)\n",
        "plot_triangulo(puntos_t2)"
      ]
    },
    {
      "cell_type": "code",
      "execution_count": null,
      "id": "54bcaae2-48b5-445b-a7fc-623487b7326b",
      "metadata": {
        "ExecuteTime": {
          "end_time": "2021-03-31T19:39:32.623916Z",
          "start_time": "2021-03-31T19:39:32.616916Z"
        },
        "id": "54bcaae2-48b5-445b-a7fc-623487b7326b"
      },
      "outputs": [],
      "source": [
        "puntos_t3 = np.round(puntos_t2 + np.random.uniform(low=-1, high=1, size=(4, 2)), 2)\n",
        "puntos_t3[-1, :] = puntos_t3[0, :]  # aseguramos que la figura producida termine al incio y sea cerrada.\n",
        "print(puntos_t3)\n",
        "plot_triangulo(puntos_t3)"
      ]
    },
    {
      "cell_type": "code",
      "execution_count": null,
      "id": "d9bb04a8-add6-4e71-8eb5-81f680358022",
      "metadata": {
        "id": "d9bb04a8-add6-4e71-8eb5-81f680358022"
      },
      "outputs": [],
      "source": [
        "puntos_t4 = np.round(puntos_t3 + np.random.uniform(low=-1, high=1, size=(4, 2)), 2)\n",
        "puntos_t4[-1, :] = puntos_t4[0, :]  # aseguramos que la figura producida termine al incio y sea cerrada.\n",
        "print(puntos_t4)\n",
        "plot_triangulo(puntos_t4)"
      ]
    },
    {
      "cell_type": "markdown",
      "id": "6a47aaa7-1835-47c9-bf0a-a417f24ea654",
      "metadata": {
        "ExecuteTime": {
          "end_time": "2021-03-31T15:26:45.166466Z",
          "start_time": "2021-03-31T15:26:45.146319Z"
        },
        "id": "6a47aaa7-1835-47c9-bf0a-a417f24ea654"
      },
      "source": [
        "> **Pregunta ❓**: ¿Cómo podemos agregar el tiempo a nuestro conjunto de datos?\n"
      ]
    },
    {
      "cell_type": "markdown",
      "id": "e763406c-9cc4-4188-8084-9071523b2674",
      "metadata": {
        "id": "e763406c-9cc4-4188-8084-9071523b2674"
      },
      "source": [
        "La forma de agregar esta variable es agregar una nueva dimensión al arreglo.\n",
        "\n",
        "Es decir, ahora tener las dimensiones serán: `(tiempo, puntos del tetraedro, valores de X e Y)`\n"
      ]
    },
    {
      "cell_type": "code",
      "execution_count": null,
      "id": "82dde8b2-b459-47e6-9ba6-56a9aeb3bc9f",
      "metadata": {
        "ExecuteTime": {
          "end_time": "2021-03-31T19:41:08.997055Z",
          "start_time": "2021-03-31T19:41:08.984057Z"
        },
        "id": "82dde8b2-b459-47e6-9ba6-56a9aeb3bc9f"
      },
      "outputs": [],
      "source": [
        "puntos_t = np.array([\n",
        "    puntos,\n",
        "    puntos_t1,\n",
        "    puntos_t2,\n",
        "    puntos_t3,\n",
        "    puntos_t4,\n",
        "])\n",
        "puntos_t"
      ]
    },
    {
      "cell_type": "code",
      "execution_count": null,
      "id": "4bf9df8b",
      "metadata": {
        "id": "4bf9df8b"
      },
      "outputs": [],
      "source": [
        "puntos_t.shape"
      ]
    },
    {
      "cell_type": "code",
      "execution_count": null,
      "id": "b8a5800b-24f3-4615-a99c-d82f91c75fd8",
      "metadata": {
        "ExecuteTime": {
          "end_time": "2021-03-31T19:41:45.200738Z",
          "start_time": "2021-03-31T19:41:45.188739Z"
        },
        "id": "b8a5800b-24f3-4615-a99c-d82f91c75fd8"
      },
      "outputs": [],
      "source": [
        "puntos_t.ndim"
      ]
    },
    {
      "cell_type": "markdown",
      "id": "128551e8-87bf-4623-bf0d-f50560b8f53b",
      "metadata": {
        "ExecuteTime": {
          "end_time": "2021-03-31T15:32:45.336152Z",
          "start_time": "2021-03-31T15:32:45.326056Z"
        },
        "id": "128551e8-87bf-4623-bf0d-f50560b8f53b"
      },
      "source": [
        "Comunmente, los arreglos de más de dos dimensiones son conocidos como **<u>tensores</u>**.\n"
      ]
    },
    {
      "cell_type": "markdown",
      "id": "c0ea36a0-7714-47e0-bcd8-38fa0f5e5605",
      "metadata": {
        "id": "c0ea36a0-7714-47e0-bcd8-38fa0f5e5605"
      },
      "source": [
        "> **Pregunta ❓**: ¿Qué son las imágenes y cómo podemos modelarlas usando un arreglo?\n"
      ]
    },
    {
      "cell_type": "markdown",
      "id": "7eeb2409-c813-4e76-9d16-e7d97656a405",
      "metadata": {
        "id": "7eeb2409-c813-4e76-9d16-e7d97656a405"
      },
      "source": [
        "Ejemplo de imagen 8x8 en blanco negro.\n"
      ]
    },
    {
      "cell_type": "code",
      "execution_count": null,
      "id": "9d68b477-633a-4f6d-a009-991fc221e1c6",
      "metadata": {
        "ExecuteTime": {
          "end_time": "2021-03-31T21:45:13.081409Z",
          "start_time": "2021-03-31T21:45:13.065409Z"
        },
        "id": "9d68b477-633a-4f6d-a009-991fc221e1c6"
      },
      "outputs": [],
      "source": [
        "imagen = (\n",
        "    np.array(\n",
        "        [\n",
        "            [0, 0, 0, 0, 0, 0, 0, 0, 0, 0, 0, 0, 0, 0, 0, 0],\n",
        "            [0, 0, 0, 0, 0, 0, 0, 0, 0, 0, 0, 0, 0, 0, 0, 0],\n",
        "            [0, 0, 0, 1, 1, 0, 0, 0, 0, 0, 0, 1, 1, 0, 0, 0],\n",
        "            [0, 0, 1, 0, 0, 1, 0, 0, 0, 0, 1, 0, 0, 1, 0, 0],\n",
        "            [0, 0, 0, 0, 0, 0, 0, 0, 0, 0, 0, 0, 0, 0, 0, 0],\n",
        "            [0, 0, 0, 0, 0, 0, 1, 0, 0, 1, 0, 0, 0, 0, 0, 0],\n",
        "            [0, 0, 0, 0, 0, 0, 1, 1, 1, 1, 0, 0, 0, 0, 0, 0],\n",
        "            [0, 0, 0, 0, 0, 0, 0, 0, 0, 0, 0, 0, 0, 0, 0, 0],\n",
        "        ],\n",
        "        dtype=\"uint8\",\n",
        "    )\n",
        "    * 255\n",
        ")"
      ]
    },
    {
      "cell_type": "code",
      "execution_count": null,
      "id": "35fe7759-47f8-49ea-8861-f309b81319a7",
      "metadata": {
        "id": "35fe7759-47f8-49ea-8861-f309b81319a7"
      },
      "outputs": [],
      "source": [
        "import plotly.express as px\n",
        "\n",
        "px.imshow(imagen, binary_string=True)"
      ]
    },
    {
      "cell_type": "markdown",
      "id": "4872bbec-5e71-4850-bcbe-6ab7f39b2337",
      "metadata": {
        "id": "4872bbec-5e71-4850-bcbe-6ab7f39b2337"
      },
      "source": [
        "Por lo general, las imágenes tienen 3 canales: Rojo Verde y Azul (Red, Green and Blue = **RGB**).\n"
      ]
    },
    {
      "cell_type": "code",
      "execution_count": null,
      "id": "a0bea046-cb37-4b3c-b8d8-0a61e1dd5ac9",
      "metadata": {
        "ExecuteTime": {
          "end_time": "2021-03-31T21:54:09.103894Z",
          "start_time": "2021-03-31T21:54:09.099921Z"
        },
        "id": "a0bea046-cb37-4b3c-b8d8-0a61e1dd5ac9"
      },
      "outputs": [],
      "source": [
        "imagen = [\n",
        "    [[1, 2, 33], [3, 122, 22], [2, 122, 1], ...],\n",
        "    [[...], [...], [...], ...],\n",
        "    [[...], [...], [...], ...],\n",
        "    [[...], [...], [...], ...],\n",
        "    [[...], [...], [...], ...],\n",
        "    [[...], [...], [...], ...],\n",
        "]"
      ]
    },
    {
      "cell_type": "markdown",
      "id": "cd2ef323-46ab-4e15-ba0b-df7452728b86",
      "metadata": {
        "id": "cd2ef323-46ab-4e15-ba0b-df7452728b86"
      },
      "source": [
        "> **Pregunta ❓**: ¿Y los videos?\n",
        "\n"
      ]
    },
    {
      "cell_type": "markdown",
      "id": "81de4c5f-1ab4-4fae-a7eb-00f70f931f2a",
      "metadata": {
        "id": "81de4c5f-1ab4-4fae-a7eb-00f70f931f2a"
      },
      "source": [
        "### Indexado\n",
        "\n",
        "Permite acceder a ciertos valores del arreglo. El indexado es muy similar a las listas de python.\n",
        "\n",
        "![Indexado](https://raw.githubusercontent.com/MDS7202/MDS7202/main/recursos/2023-01/07-Numpy/np_indexing.png)\n",
        "\n",
        "<center>Fuente: https://numpy.org/devdocs/user/absolute_beginners.html </center>\n"
      ]
    },
    {
      "cell_type": "markdown",
      "id": "c9cd7825-a84c-4c1a-b343-6b929d1da48f",
      "metadata": {
        "id": "c9cd7825-a84c-4c1a-b343-6b929d1da48f"
      },
      "source": [
        "**Recordar**: En nuestro ejercicio, `puntos_t` tiene 3 dimensiones: `(tiempo, puntos del tetraedro, valores X e Y)`\n"
      ]
    },
    {
      "cell_type": "code",
      "execution_count": null,
      "id": "fbb6d954-cc83-4343-b0fe-8ff96a8234e5",
      "metadata": {
        "id": "fbb6d954-cc83-4343-b0fe-8ff96a8234e5"
      },
      "outputs": [],
      "source": [
        "puntos_t"
      ]
    },
    {
      "cell_type": "markdown",
      "id": "ecd4dd8c-c002-426c-9c41-8a9472e3428c",
      "metadata": {
        "id": "ecd4dd8c-c002-426c-9c41-8a9472e3428c"
      },
      "source": [
        "### Ejercicios de Indexación\n"
      ]
    },
    {
      "cell_type": "markdown",
      "id": "d31962fc-1427-4951-b7b6-caf3c976f965",
      "metadata": {
        "id": "d31962fc-1427-4951-b7b6-caf3c976f965"
      },
      "source": [
        "1.- Obtener el primer triángulo, en el tiempo 0.\n"
      ]
    },
    {
      "cell_type": "code",
      "execution_count": null,
      "id": "6eb3a17f-a2d2-437d-b0aa-cee925b79578",
      "metadata": {
        "id": "6eb3a17f-a2d2-437d-b0aa-cee925b79578"
      },
      "outputs": [],
      "source": [
        "puntos_t[0]"
      ]
    },
    {
      "cell_type": "markdown",
      "id": "9ee144b2-d248-4ac5-9b80-a3275fa60d91",
      "metadata": {
        "id": "9ee144b2-d248-4ac5-9b80-a3275fa60d91"
      },
      "source": [
        "2.- Obtener el primer y segundo triángulo (tiempos 0 y 1)\n"
      ]
    },
    {
      "cell_type": "code",
      "execution_count": null,
      "id": "17181d1f-9892-49f6-86d2-870c0d56a161",
      "metadata": {
        "id": "17181d1f-9892-49f6-86d2-870c0d56a161"
      },
      "outputs": [],
      "source": [
        "puntos_t[:2]"
      ]
    },
    {
      "cell_type": "code",
      "execution_count": null,
      "id": "b08d5f95-afb7-4e00-936b-b6cbe0625883",
      "metadata": {
        "id": "b08d5f95-afb7-4e00-936b-b6cbe0625883"
      },
      "outputs": [],
      "source": [
        "puntos_t[0:2]"
      ]
    },
    {
      "cell_type": "markdown",
      "id": "f311ca72-017c-4d81-a125-be3abeb76c35",
      "metadata": {
        "id": "f311ca72-017c-4d81-a125-be3abeb76c35"
      },
      "source": [
        "3.- Obtener el primer y el tercer triángulo (tiempos 0 y 2)\n"
      ]
    },
    {
      "cell_type": "code",
      "execution_count": null,
      "id": "aab6af39-8eae-490b-abbc-dbd3c566c8f0",
      "metadata": {
        "id": "aab6af39-8eae-490b-abbc-dbd3c566c8f0"
      },
      "outputs": [],
      "source": [
        "puntos_t[[0, 2]]"
      ]
    },
    {
      "cell_type": "markdown",
      "id": "77410c0d-c793-4b5e-80f0-bdec8f2a2b96",
      "metadata": {
        "id": "77410c0d-c793-4b5e-80f0-bdec8f2a2b96"
      },
      "source": [
        "4.- Obtener el primer y segundo vértice del triángulo en el tiempo 0.\n"
      ]
    },
    {
      "cell_type": "code",
      "execution_count": null,
      "id": "2cb598b3-2c39-405c-b6ba-7f80dadd9f93",
      "metadata": {
        "id": "2cb598b3-2c39-405c-b6ba-7f80dadd9f93"
      },
      "outputs": [],
      "source": [
        "puntos_t[0][0:2]"
      ]
    },
    {
      "cell_type": "markdown",
      "id": "c2396cff-6443-48a0-8b20-f2c9048a3842",
      "metadata": {
        "id": "c2396cff-6443-48a0-8b20-f2c9048a3842"
      },
      "source": [
        "5.- Resumir la operación anterior en un solo indexador\n"
      ]
    },
    {
      "cell_type": "code",
      "execution_count": null,
      "id": "b02cee75-7fe1-4791-a031-58799f6b073a",
      "metadata": {
        "ExecuteTime": {
          "end_time": "2021-03-31T19:51:43.335550Z",
          "start_time": "2021-03-31T19:51:43.315551Z"
        },
        "id": "b02cee75-7fe1-4791-a031-58799f6b073a"
      },
      "outputs": [],
      "source": [
        "puntos_t[0, 0:2]"
      ]
    },
    {
      "cell_type": "markdown",
      "id": "46355825-4105-4631-bc59-ebcf6570b7a9",
      "metadata": {
        "id": "46355825-4105-4631-bc59-ebcf6570b7a9"
      },
      "source": [
        "6.- Obtener solo los puntos del eje X de todos los triángulos\n"
      ]
    },
    {
      "cell_type": "code",
      "execution_count": null,
      "id": "39b43a6f-1ea3-4e53-8258-2f47d1da4009",
      "metadata": {
        "id": "39b43a6f-1ea3-4e53-8258-2f47d1da4009"
      },
      "outputs": [],
      "source": [
        "puntos_t[:, :, 0]"
      ]
    },
    {
      "cell_type": "markdown",
      "id": "28597d65-33b2-481d-b895-5d6193614f9c",
      "metadata": {
        "id": "28597d65-33b2-481d-b895-5d6193614f9c"
      },
      "source": [
        "7.- ¿Qué obtenemos en este caso?\n"
      ]
    },
    {
      "cell_type": "code",
      "execution_count": null,
      "id": "1077c9bb-c4a1-4185-90ee-b851059f5ac5",
      "metadata": {
        "id": "1077c9bb-c4a1-4185-90ee-b851059f5ac5"
      },
      "outputs": [],
      "source": [
        "puntos_t[:, 0:1, 1] # eje Y del primer punto de todos los triángulos"
      ]
    },
    {
      "cell_type": "code",
      "execution_count": null,
      "id": "7eb183ac-9d6f-4da8-aff5-37a80acb71f0",
      "metadata": {
        "ExecuteTime": {
          "end_time": "2021-03-31T19:53:48.272219Z",
          "start_time": "2021-03-31T19:53:48.261221Z"
        },
        "id": "7eb183ac-9d6f-4da8-aff5-37a80acb71f0",
        "scrolled": true
      },
      "outputs": [],
      "source": [
        "puntos_t[:, 0:1, 0:2] # eje X e Y del primer punto de todos los triángulos"
      ]
    },
    {
      "cell_type": "code",
      "execution_count": null,
      "id": "3935545a",
      "metadata": {
        "id": "3935545a"
      },
      "outputs": [],
      "source": [
        "puntos_t"
      ]
    },
    {
      "cell_type": "markdown",
      "id": "d78ed1e0-684f-455b-8337-9592cf11721b",
      "metadata": {
        "ExecuteTime": {
          "end_time": "2021-03-31T16:36:45.356085Z",
          "start_time": "2021-03-31T16:36:45.340502Z"
        },
        "id": "d78ed1e0-684f-455b-8337-9592cf11721b",
        "tags": []
      },
      "source": [
        "### Operaciones aritméticas y lógicas\n"
      ]
    },
    {
      "cell_type": "markdown",
      "id": "8bce6b3d-4e3f-4eb4-8fea-2cc61dcce89c",
      "metadata": {
        "id": "8bce6b3d-4e3f-4eb4-8fea-2cc61dcce89c",
        "tags": []
      },
      "source": [
        "#### Operaciones aritméticas\n",
        "\n",
        "Las operaciones aritméticas siempre operan elemento a elemento (**elementwise**).\n"
      ]
    },
    {
      "cell_type": "code",
      "execution_count": null,
      "id": "7ee12300-1943-49f0-baf0-017947b75ced",
      "metadata": {
        "ExecuteTime": {
          "end_time": "2021-03-31T20:01:37.037519Z",
          "start_time": "2021-03-31T20:01:37.020520Z"
        },
        "id": "7ee12300-1943-49f0-baf0-017947b75ced"
      },
      "outputs": [],
      "source": [
        "a = np.array([20, 30, 40, 50])\n",
        "b = np.array([0, 1, 2, 3])"
      ]
    },
    {
      "cell_type": "code",
      "execution_count": null,
      "id": "a344a9c8-1d5c-43a6-9bef-0012377046b8",
      "metadata": {
        "ExecuteTime": {
          "end_time": "2021-03-31T20:01:39.862519Z",
          "start_time": "2021-03-31T20:01:39.847522Z"
        },
        "id": "a344a9c8-1d5c-43a6-9bef-0012377046b8"
      },
      "outputs": [],
      "source": [
        "a - b"
      ]
    },
    {
      "cell_type": "code",
      "execution_count": null,
      "id": "38475277-2d78-40f3-99b8-8b7149ba9dab",
      "metadata": {
        "ExecuteTime": {
          "end_time": "2021-03-31T20:01:47.153520Z",
          "start_time": "2021-03-31T20:01:47.142520Z"
        },
        "id": "38475277-2d78-40f3-99b8-8b7149ba9dab"
      },
      "outputs": [],
      "source": [
        "a + b"
      ]
    },
    {
      "cell_type": "code",
      "execution_count": null,
      "id": "c82d52e4-533e-4efd-9301-0c9af9eddef5",
      "metadata": {
        "ExecuteTime": {
          "end_time": "2021-03-31T20:01:51.141518Z",
          "start_time": "2021-03-31T20:01:51.131521Z"
        },
        "id": "c82d52e4-533e-4efd-9301-0c9af9eddef5"
      },
      "outputs": [],
      "source": [
        "b**2"
      ]
    },
    {
      "cell_type": "code",
      "execution_count": null,
      "id": "844f0481-0f29-4955-bfd4-c28cfa078123",
      "metadata": {
        "ExecuteTime": {
          "end_time": "2021-03-31T20:01:53.905519Z",
          "start_time": "2021-03-31T20:01:53.895521Z"
        },
        "id": "844f0481-0f29-4955-bfd4-c28cfa078123"
      },
      "outputs": [],
      "source": [
        "10 * b"
      ]
    },
    {
      "cell_type": "markdown",
      "id": "2c729e73-0de2-467f-a275-0e896b9a892b",
      "metadata": {
        "id": "2c729e73-0de2-467f-a275-0e896b9a892b"
      },
      "source": [
        "##### Operaciones Lógicas\n"
      ]
    },
    {
      "cell_type": "code",
      "execution_count": null,
      "id": "4cd6b4c6-77b8-4e82-b788-226e51719b3d",
      "metadata": {
        "id": "4cd6b4c6-77b8-4e82-b788-226e51719b3d"
      },
      "outputs": [],
      "source": [
        "a = np.array([20, 30, 40, 50])\n",
        "b = np.array([0, 1, 2, 3])"
      ]
    },
    {
      "cell_type": "code",
      "execution_count": null,
      "id": "9dad7e16-8acc-4011-b1e2-0b101f79ffd4",
      "metadata": {
        "ExecuteTime": {
          "end_time": "2021-03-31T20:03:50.741666Z",
          "start_time": "2021-03-31T20:03:50.724669Z"
        },
        "id": "9dad7e16-8acc-4011-b1e2-0b101f79ffd4"
      },
      "outputs": [],
      "source": [
        "a < b"
      ]
    },
    {
      "cell_type": "code",
      "execution_count": null,
      "id": "bcd37853-e06a-45cb-83cc-86b3bd366911",
      "metadata": {
        "ExecuteTime": {
          "end_time": "2021-03-31T20:02:56.792025Z",
          "start_time": "2021-03-31T20:02:56.774027Z"
        },
        "id": "bcd37853-e06a-45cb-83cc-86b3bd366911"
      },
      "outputs": [],
      "source": [
        "a <= 20"
      ]
    },
    {
      "cell_type": "code",
      "execution_count": null,
      "id": "37bc4fe5-29c8-464d-ac51-4c04bf9c59d7",
      "metadata": {
        "ExecuteTime": {
          "end_time": "2021-03-31T20:03:17.377859Z",
          "start_time": "2021-03-31T20:03:17.363860Z"
        },
        "id": "37bc4fe5-29c8-464d-ac51-4c04bf9c59d7"
      },
      "outputs": [],
      "source": [
        "a > 20"
      ]
    },
    {
      "cell_type": "code",
      "execution_count": null,
      "id": "985834e5-237a-4dae-a583-0e847d88f241",
      "metadata": {
        "ExecuteTime": {
          "end_time": "2021-03-31T20:03:31.178003Z",
          "start_time": "2021-03-31T20:03:31.171004Z"
        },
        "id": "985834e5-237a-4dae-a583-0e847d88f241",
        "scrolled": true
      },
      "outputs": [],
      "source": [
        "a == 20"
      ]
    },
    {
      "cell_type": "code",
      "execution_count": null,
      "id": "34bd4399-cc65-4a11-ba81-572a4226fbe1",
      "metadata": {
        "id": "34bd4399-cc65-4a11-ba81-572a4226fbe1"
      },
      "outputs": [],
      "source": [
        "condicion1 = a > 20\n",
        "condicion2 = a == 20"
      ]
    },
    {
      "cell_type": "code",
      "execution_count": null,
      "id": "f06c964c-b280-41ea-83e5-4ba616b0d4bc",
      "metadata": {
        "id": "f06c964c-b280-41ea-83e5-4ba616b0d4bc"
      },
      "outputs": [],
      "source": [
        "np.logical_and(condicion1, condicion2)  # y lógico"
      ]
    },
    {
      "cell_type": "code",
      "execution_count": null,
      "id": "1894571d-dd88-4111-8a90-dbaa013354d8",
      "metadata": {
        "id": "1894571d-dd88-4111-8a90-dbaa013354d8"
      },
      "outputs": [],
      "source": [
        "np.logical_or(condicion1, condicion2)  # o lógico"
      ]
    },
    {
      "cell_type": "code",
      "execution_count": null,
      "id": "f4470200-7fe5-4485-b456-93f857a4ba17",
      "metadata": {
        "id": "f4470200-7fe5-4485-b456-93f857a4ba17"
      },
      "outputs": [],
      "source": [
        "np.logical_not(condicion1)  # not"
      ]
    },
    {
      "cell_type": "markdown",
      "id": "193cccf8-f1d4-46e8-ab89-04a936872294",
      "metadata": {
        "ExecuteTime": {
          "end_time": "2021-03-31T16:39:12.400271Z",
          "start_time": "2021-03-31T16:39:12.384635Z"
        },
        "id": "193cccf8-f1d4-46e8-ab89-04a936872294"
      },
      "source": [
        "**Nota:** Para el caso del producto matricial, se ocupa `@`.\n"
      ]
    },
    {
      "cell_type": "markdown",
      "id": "20696acf-1d85-48f6-b1ab-4e6d766570e1",
      "metadata": {
        "ExecuteTime": {
          "end_time": "2021-03-31T16:45:24.969756Z",
          "start_time": "2021-03-31T16:45:24.922910Z"
        },
        "id": "20696acf-1d85-48f6-b1ab-4e6d766570e1"
      },
      "source": [
        "<div align='center'>\n",
        "    <img src=\"https://raw.githubusercontent.com/MDS7202/MDS7202/main/recursos/2023-01/07-Numpy/formula_prod_matricial.jpg\" alt=\"Formula prod matricial\" style=\"width: 700px;\"/>\n",
        "</div>\n"
      ]
    },
    {
      "cell_type": "markdown",
      "id": "1c209ddd-70ed-45bf-8ad3-7c22b564ca7c",
      "metadata": {
        "id": "1c209ddd-70ed-45bf-8ad3-7c22b564ca7c"
      },
      "source": [
        "<div align='center'>\n",
        "<img src=\"https://raw.githubusercontent.com/MDS7202/MDS7202/main/recursos/2023-01/07-Numpy/prod_matricial.jpg\" alt=\"Producto Matricial\" width=250/>\n",
        "</div>\n"
      ]
    },
    {
      "cell_type": "code",
      "execution_count": null,
      "id": "1b8de339-38b1-4a35-8c5e-567074f5c429",
      "metadata": {
        "ExecuteTime": {
          "end_time": "2021-03-31T20:04:39.021057Z",
          "start_time": "2021-03-31T20:04:39.016020Z"
        },
        "id": "1b8de339-38b1-4a35-8c5e-567074f5c429"
      },
      "outputs": [],
      "source": [
        "A = np.array([[1, 1], [0, 1]])\n",
        "\n",
        "B = np.array([[2, 0], [3, 4]])"
      ]
    },
    {
      "cell_type": "code",
      "execution_count": null,
      "id": "58568385-8b57-4be2-9586-9af0bada5869",
      "metadata": {
        "ExecuteTime": {
          "end_time": "2021-03-31T19:06:18.368458Z",
          "start_time": "2021-03-31T19:06:18.352834Z"
        },
        "id": "58568385-8b57-4be2-9586-9af0bada5869"
      },
      "outputs": [],
      "source": [
        "A * B  # elementwise product"
      ]
    },
    {
      "cell_type": "code",
      "execution_count": null,
      "id": "5bf184c9-e372-49a9-9865-cafdfd3ad2ba",
      "metadata": {
        "ExecuteTime": {
          "end_time": "2021-03-31T20:04:42.632337Z",
          "start_time": "2021-03-31T20:04:42.625336Z"
        },
        "id": "5bf184c9-e372-49a9-9865-cafdfd3ad2ba"
      },
      "outputs": [],
      "source": [
        "A @ B  # producto punto"
      ]
    },
    {
      "cell_type": "markdown",
      "id": "aa497ab9-434a-4c19-a7f1-5c1432ea955a",
      "metadata": {
        "id": "aa497ab9-434a-4c19-a7f1-5c1432ea955a"
      },
      "source": [
        "#### Operaciones sobre los elementos\n"
      ]
    },
    {
      "cell_type": "code",
      "execution_count": null,
      "id": "faf5e8f8-a241-4bcb-aa76-56ca86a25a1f",
      "metadata": {
        "id": "faf5e8f8-a241-4bcb-aa76-56ca86a25a1f"
      },
      "outputs": [],
      "source": [
        "a"
      ]
    },
    {
      "cell_type": "code",
      "execution_count": null,
      "id": "616d4fdc-4ca0-4e9d-a39d-a6eb8645a8f5",
      "metadata": {
        "ExecuteTime": {
          "end_time": "2021-03-31T20:05:32.620288Z",
          "start_time": "2021-03-31T20:05:32.602290Z"
        },
        "id": "616d4fdc-4ca0-4e9d-a39d-a6eb8645a8f5",
        "tags": []
      },
      "outputs": [],
      "source": [
        "a.sum()"
      ]
    },
    {
      "cell_type": "code",
      "execution_count": null,
      "id": "5426ee05-a6cd-48fc-b1d9-a7b7479895e9",
      "metadata": {
        "ExecuteTime": {
          "end_time": "2021-03-31T20:06:19.293098Z",
          "start_time": "2021-03-31T20:06:19.289067Z"
        },
        "id": "5426ee05-a6cd-48fc-b1d9-a7b7479895e9"
      },
      "outputs": [],
      "source": [
        "a.min()"
      ]
    },
    {
      "cell_type": "code",
      "execution_count": null,
      "id": "cdc22694-bc82-47dd-83b2-4a72f04caa78",
      "metadata": {
        "ExecuteTime": {
          "end_time": "2021-03-31T20:06:22.387130Z",
          "start_time": "2021-03-31T20:06:22.368132Z"
        },
        "id": "cdc22694-bc82-47dd-83b2-4a72f04caa78"
      },
      "outputs": [],
      "source": [
        "a.max()"
      ]
    },
    {
      "cell_type": "markdown",
      "id": "93a61513",
      "metadata": {
        "id": "93a61513"
      },
      "source": [
        "> **Pregunta ❓**: Para el caso de un arreglo de más de una dimensión, qué retornará max?"
      ]
    },
    {
      "cell_type": "code",
      "execution_count": null,
      "id": "b27ecd82-da35-4073-aff3-3017bacf252c",
      "metadata": {
        "id": "b27ecd82-da35-4073-aff3-3017bacf252c"
      },
      "outputs": [],
      "source": [
        "a = np.array(\n",
        "    [\n",
        "        [10, 2, -3],\n",
        "        [1, 2, 6],\n",
        "        [7, -9, 9],\n",
        "    ]\n",
        ")\n",
        "\n",
        "a"
      ]
    },
    {
      "cell_type": "code",
      "execution_count": null,
      "id": "3fa19739",
      "metadata": {
        "id": "3fa19739"
      },
      "outputs": [],
      "source": [
        "a.max()"
      ]
    },
    {
      "cell_type": "markdown",
      "id": "2b646daf",
      "metadata": {
        "id": "2b646daf"
      },
      "source": [
        "Se puede especificar el eje sobre el cuál se ejecutará la acción:"
      ]
    },
    {
      "cell_type": "code",
      "execution_count": null,
      "id": "4715f394",
      "metadata": {
        "id": "4715f394"
      },
      "outputs": [],
      "source": [
        "a.max(axis=0)"
      ]
    },
    {
      "cell_type": "code",
      "execution_count": null,
      "id": "83c674bd",
      "metadata": {
        "id": "83c674bd"
      },
      "outputs": [],
      "source": [
        "a.max(axis=1)"
      ]
    },
    {
      "cell_type": "markdown",
      "id": "46afc734-c570-44ce-bf2e-3e4f8fdbcd88",
      "metadata": {
        "id": "46afc734-c570-44ce-bf2e-3e4f8fdbcd88"
      },
      "source": [
        "### Queries\n",
        "\n",
        "Selección de datos por medio de consultas, en este caso lógicas.\n"
      ]
    },
    {
      "cell_type": "code",
      "execution_count": null,
      "id": "48a4ca18-7616-4347-b45d-2c7aa2c4fae7",
      "metadata": {
        "id": "48a4ca18-7616-4347-b45d-2c7aa2c4fae7"
      },
      "outputs": [],
      "source": [
        "a = np.array(\n",
        "    [\n",
        "        [10, 2, -3],\n",
        "        [1, 2, 6],\n",
        "        [7, -9, 9],\n",
        "    ]\n",
        ")"
      ]
    },
    {
      "cell_type": "code",
      "execution_count": null,
      "id": "8359640a-fbe2-4929-9cad-e2cd8672c5cc",
      "metadata": {
        "id": "8359640a-fbe2-4929-9cad-e2cd8672c5cc"
      },
      "outputs": [],
      "source": [
        "a > 3"
      ]
    },
    {
      "cell_type": "code",
      "execution_count": null,
      "id": "adc6fe34-24f1-40b4-a6aa-d6e75ffa13c9",
      "metadata": {
        "ExecuteTime": {
          "end_time": "2021-03-31T19:06:18.985738Z",
          "start_time": "2021-03-31T19:06:18.970115Z"
        },
        "id": "adc6fe34-24f1-40b4-a6aa-d6e75ffa13c9",
        "scrolled": true
      },
      "outputs": [],
      "source": [
        "mayor3 = a[a > 3]\n",
        "mayor3"
      ]
    },
    {
      "cell_type": "markdown",
      "id": "e8806c16-588c-4d1e-9329-cd382a783d27",
      "metadata": {
        "id": "e8806c16-588c-4d1e-9329-cd382a783d27"
      },
      "source": [
        "> **Pregunta ❓**: ¿Qué implicancia podría tener esta funcionalidad a futuro?\n"
      ]
    },
    {
      "cell_type": "markdown",
      "id": "556f68c4-ecf6-4da7-8624-243282c4e6aa",
      "metadata": {
        "id": "556f68c4-ecf6-4da7-8624-243282c4e6aa"
      },
      "source": [
        "### Funciones Universales\n",
        "\n",
        "Operaciones elemento a elemento aplicadas a arreglos.\n",
        "\n",
        "Ejemplo:`sen, cos, exp, sqrt, log, etc...`\n"
      ]
    },
    {
      "cell_type": "code",
      "execution_count": null,
      "id": "05f46864-e208-4e4c-8b14-f0e62e5b3205",
      "metadata": {
        "ExecuteTime": {
          "end_time": "2021-03-31T20:08:56.565077Z",
          "start_time": "2021-03-31T20:08:56.558077Z"
        },
        "id": "05f46864-e208-4e4c-8b14-f0e62e5b3205"
      },
      "outputs": [],
      "source": [
        "B = np.arange(0, 10 , 0.5)\n",
        "B"
      ]
    },
    {
      "cell_type": "code",
      "execution_count": null,
      "id": "bdf597be-3d60-4148-a8ff-c9cc178bb4cb",
      "metadata": {
        "ExecuteTime": {
          "end_time": "2021-03-31T20:08:58.241091Z",
          "start_time": "2021-03-31T20:08:58.235076Z"
        },
        "id": "bdf597be-3d60-4148-a8ff-c9cc178bb4cb"
      },
      "outputs": [],
      "source": [
        "exp = np.exp(B)\n",
        "exp"
      ]
    },
    {
      "cell_type": "code",
      "execution_count": null,
      "id": "f283531a-8437-4f29-aaf4-4e24ba865de3",
      "metadata": {
        "ExecuteTime": {
          "end_time": "2021-03-31T20:08:59.540077Z",
          "start_time": "2021-03-31T20:08:59.529077Z"
        },
        "id": "f283531a-8437-4f29-aaf4-4e24ba865de3"
      },
      "outputs": [],
      "source": [
        "sqrt = np.sqrt(B)\n",
        "sqrt"
      ]
    },
    {
      "cell_type": "code",
      "execution_count": null,
      "id": "cbd7e228-eea5-4ab7-b195-987eb67ad4b7",
      "metadata": {
        "id": "cbd7e228-eea5-4ab7-b195-987eb67ad4b7"
      },
      "outputs": [],
      "source": [
        "sin = np.sin(B)\n",
        "sin"
      ]
    },
    {
      "cell_type": "code",
      "execution_count": null,
      "id": "4574abf0-01ff-4580-8dcc-1588c26e017c",
      "metadata": {
        "id": "4574abf0-01ff-4580-8dcc-1588c26e017c"
      },
      "outputs": [],
      "source": [
        "cos = np.cos(B)\n",
        "cos"
      ]
    },
    {
      "cell_type": "code",
      "execution_count": null,
      "id": "78dc2992-6244-4868-a83f-27082ce2082c",
      "metadata": {
        "id": "78dc2992-6244-4868-a83f-27082ce2082c"
      },
      "outputs": [],
      "source": [
        "log = np.log(B)\n",
        "log"
      ]
    },
    {
      "cell_type": "code",
      "execution_count": null,
      "id": "d662846a-6367-424e-82aa-2a3a29b78198",
      "metadata": {
        "id": "d662846a-6367-424e-82aa-2a3a29b78198",
        "tags": []
      },
      "outputs": [],
      "source": [
        "fig = go.Figure()\n",
        "fig.add_trace(go.Scatter(x=B, y=exp, name=\"exp\", mode=\"lines+markers\"))\n",
        "fig.add_trace(go.Scatter(x=B, y=sqrt, name=\"sqrt\", mode=\"lines+markers\"))\n",
        "fig.add_trace(go.Scatter(x=B, y=sin, name=\"sin\", mode=\"lines+markers\"))\n",
        "fig.add_trace(go.Scatter(x=B, y=cos, name=\"cos\", mode=\"lines+markers\"))\n",
        "fig.add_trace(go.Scatter(x=B, y=log, name=\"log\", mode=\"lines+markers\"))\n",
        "\n",
        "fig.update_layout(height=600).show()"
      ]
    },
    {
      "cell_type": "markdown",
      "id": "2db67ba7-b3b9-44fd-a160-fa2caa80bab2",
      "metadata": {
        "id": "2db67ba7-b3b9-44fd-a160-fa2caa80bab2"
      },
      "source": [
        "### Broadcasting\n",
        "\n",
        "El Broadcasting es como numpy trata las operaciones entre arreglos con diferentes tamaños, como por ejemplo, un escalar por una matriz. A continuación un ejemplo sencillo:\n"
      ]
    },
    {
      "cell_type": "code",
      "execution_count": null,
      "id": "d1cdc73a-4b97-479d-9ff7-8c1230dd7cd2",
      "metadata": {
        "id": "d1cdc73a-4b97-479d-9ff7-8c1230dd7cd2"
      },
      "outputs": [],
      "source": [
        "a = np.array([1.0, 2.0, 3.0])\n",
        "b = np.array([2.0, 2.0, 2.0])"
      ]
    },
    {
      "cell_type": "code",
      "execution_count": null,
      "id": "97c1473b-3fc2-4c7d-8366-d9891e23da97",
      "metadata": {
        "ExecuteTime": {
          "end_time": "2021-03-31T20:14:11.168032Z",
          "start_time": "2021-03-31T20:14:11.149018Z"
        },
        "id": "97c1473b-3fc2-4c7d-8366-d9891e23da97"
      },
      "outputs": [],
      "source": [
        "a * b"
      ]
    },
    {
      "cell_type": "code",
      "execution_count": null,
      "id": "9b68d830-fd27-473d-8e90-a6ee291c7774",
      "metadata": {
        "id": "9b68d830-fd27-473d-8e90-a6ee291c7774"
      },
      "outputs": [],
      "source": [
        "a * 2"
      ]
    },
    {
      "cell_type": "markdown",
      "id": "31f2c187-fe75-4353-8636-9a0b362e3ef1",
      "metadata": {
        "id": "31f2c187-fe75-4353-8636-9a0b362e3ef1"
      },
      "source": [
        "Si bien hicimos la misma operación, estas se diferencian en que en la primera operación hicimos un arreglo del mismo tamaño para multiplicar elemento a elemento y en la segunda ocupamos el escalar directamente.\n",
        "\n",
        "Ahora imagínense un arreglo de miles de millones de elementos y tener que multiplicarlos por dos de la primera forma. Obviamente la segúnda forma será mas eficiente y esto es lo que numpy implementa eficientemente a través del _broadcasting_.\n"
      ]
    },
    {
      "cell_type": "markdown",
      "id": "45c41839-e13c-4a87-805e-b125065584b0",
      "metadata": {
        "ExecuteTime": {
          "end_time": "2021-03-31T18:17:04.537013Z",
          "start_time": "2021-03-31T18:17:04.490090Z"
        },
        "id": "45c41839-e13c-4a87-805e-b125065584b0"
      },
      "source": [
        "![Broadcasting en el ejemplo anterior](https://raw.githubusercontent.com/MDS7202/MDS7202/main/recursos/2023-01/07-Numpy/boradcasting_1.gif)\n"
      ]
    },
    {
      "cell_type": "markdown",
      "id": "8ddb3be9-42ea-4433-bcb7-6c42cc1e785b",
      "metadata": {
        "id": "8ddb3be9-42ea-4433-bcb7-6c42cc1e785b"
      },
      "source": [
        "El broadcasting no se limita solo a escalares, si no también que podemos usarlos con arreglos. A continuación, un ejemplo de aquello:\n"
      ]
    },
    {
      "cell_type": "markdown",
      "id": "1113f852-b234-4cf0-a4c6-8c3cace20ea9",
      "metadata": {
        "ExecuteTime": {
          "end_time": "2021-03-31T18:17:54.022774Z",
          "start_time": "2021-03-31T18:17:53.975859Z"
        },
        "id": "1113f852-b234-4cf0-a4c6-8c3cace20ea9"
      },
      "source": [
        "![Broadcasting en el ejemplo anterior](https://raw.githubusercontent.com/MDS7202/MDS7202/main/recursos/2023-01/07-Numpy/boradcasting_2.gif)\n"
      ]
    },
    {
      "cell_type": "markdown",
      "id": "fb7ca9f7-f192-4219-bf0a-5046d574d5d7",
      "metadata": {
        "id": "fb7ca9f7-f192-4219-bf0a-5046d574d5d7"
      },
      "source": [
        "En este ejemplo, un caso en donde el broadcasting no funciona, ya que no calzan las dimensiones:\n"
      ]
    },
    {
      "cell_type": "markdown",
      "id": "23e95798-69a1-4cf9-bc66-cb4eb5a231b0",
      "metadata": {
        "ExecuteTime": {
          "end_time": "2021-03-31T18:19:55.362212Z",
          "start_time": "2021-03-31T18:19:55.327167Z"
        },
        "id": "23e95798-69a1-4cf9-bc66-cb4eb5a231b0"
      },
      "source": [
        "![Broadcasting en el ejemplo anterior](https://raw.githubusercontent.com/MDS7202/MDS7202/main/recursos/2023-01/07-Numpy/boradcasting_3.gif)\n"
      ]
    },
    {
      "cell_type": "markdown",
      "id": "45b3eddb-61f0-4b46-ac07-255a01361195",
      "metadata": {
        "ExecuteTime": {
          "end_time": "2021-03-31T18:22:33.504518Z",
          "start_time": "2021-03-31T18:22:33.488893Z"
        },
        "id": "45b3eddb-61f0-4b46-ac07-255a01361195"
      },
      "source": [
        "> **Pregunta ❓**: ¿Qué habría que hacer aquí para que esta operación funcione?\n"
      ]
    },
    {
      "cell_type": "code",
      "execution_count": null,
      "id": "297669e2-327f-43f0-9c3f-aa6ddb4913bc",
      "metadata": {
        "id": "297669e2-327f-43f0-9c3f-aa6ddb4913bc"
      },
      "outputs": [],
      "source": [
        "a = np.ones((4, 3))\n",
        "a"
      ]
    },
    {
      "cell_type": "code",
      "execution_count": null,
      "id": "3ac4135e-38a9-4c0a-a3f8-beb896b9f21c",
      "metadata": {
        "ExecuteTime": {
          "end_time": "2021-03-31T19:13:48.619503Z",
          "start_time": "2021-03-31T19:13:48.604459Z"
        },
        "id": "3ac4135e-38a9-4c0a-a3f8-beb896b9f21c"
      },
      "outputs": [],
      "source": [
        "a * 10"
      ]
    },
    {
      "cell_type": "code",
      "execution_count": null,
      "id": "770390c4-d302-4bfb-ac46-28027049bdb4",
      "metadata": {
        "id": "770390c4-d302-4bfb-ac46-28027049bdb4"
      },
      "outputs": [],
      "source": [
        "a * [10] # se transforma a np.array(10) y se repite hacia abajo y a la derecha hasta completar la dimensión de a, luego se multiplica"
      ]
    },
    {
      "cell_type": "code",
      "execution_count": null,
      "id": "4bfb48c8-32ee-40cd-9022-c5b6d6b6a191",
      "metadata": {
        "id": "4bfb48c8-32ee-40cd-9022-c5b6d6b6a191"
      },
      "outputs": [],
      "source": [
        "a * [10, 20, 30] # se transforma a np.array([10, 20, 30]) y se repite hacia abajo hasta completar la dimensión de a, luego se multiplica"
      ]
    },
    {
      "cell_type": "code",
      "execution_count": null,
      "id": "0053f169-e8d5-4a5d-bd63-64d76e1a4e4e",
      "metadata": {
        "ExecuteTime": {
          "end_time": "2021-03-31T19:13:49.859027Z",
          "start_time": "2021-03-31T19:13:49.842480Z"
        },
        "id": "0053f169-e8d5-4a5d-bd63-64d76e1a4e4e"
      },
      "outputs": [],
      "source": [
        "b = np.ones((1,4)) # 4 \"columnas\"\n",
        "b"
      ]
    },
    {
      "cell_type": "code",
      "execution_count": null,
      "id": "686bf0f6-96e7-4a7b-b177-56a1afa5da4a",
      "metadata": {
        "ExecuteTime": {
          "end_time": "2021-03-31T19:13:50.516828Z",
          "start_time": "2021-03-31T19:13:50.506789Z"
        },
        "id": "686bf0f6-96e7-4a7b-b177-56a1afa5da4a"
      },
      "outputs": [],
      "source": [
        "a + b"
      ]
    },
    {
      "cell_type": "code",
      "execution_count": null,
      "id": "2de151e3-ecd4-4b19-b405-a642775c647a",
      "metadata": {
        "id": "2de151e3-ecd4-4b19-b405-a642775c647a"
      },
      "outputs": [],
      "source": [
        "b = np.ones((4, 1))\n",
        "b"
      ]
    },
    {
      "cell_type": "code",
      "execution_count": null,
      "id": "90c176eb-9223-42b0-bfcc-003fca2f214e",
      "metadata": {
        "ExecuteTime": {
          "end_time": "2021-03-31T19:13:53.074126Z",
          "start_time": "2021-03-31T19:13:53.058125Z"
        },
        "id": "90c176eb-9223-42b0-bfcc-003fca2f214e"
      },
      "outputs": [],
      "source": [
        "a + b # se repite b hacia la derecha hasta completar la dimensión de a, luego se suma"
      ]
    },
    {
      "cell_type": "markdown",
      "id": "9bcb840f-cfc4-4dc7-b28d-a70be756052c",
      "metadata": {
        "ExecuteTime": {
          "end_time": "2021-03-31T18:20:19.372060Z",
          "start_time": "2021-03-31T18:20:19.356422Z"
        },
        "id": "9bcb840f-cfc4-4dc7-b28d-a70be756052c"
      },
      "source": [
        "Más información en el siguiente [link](https://numpy.org/doc/stable/user/theory.broadcasting.html#array-broadcasting-in-numpy).\n"
      ]
    },
    {
      "cell_type": "markdown",
      "id": "5d627acb-6c4d-4aba-a63d-1fa8c64a461d",
      "metadata": {
        "id": "5d627acb-6c4d-4aba-a63d-1fa8c64a461d"
      },
      "source": [
        "### Vistas y Copias\n"
      ]
    },
    {
      "cell_type": "markdown",
      "id": "a8e63618-d20d-4323-9c40-62022196e8aa",
      "metadata": {
        "id": "a8e63618-d20d-4323-9c40-62022196e8aa"
      },
      "source": [
        "Recuerden que los nombres son referencias!\n"
      ]
    },
    {
      "cell_type": "code",
      "execution_count": null,
      "id": "c357d8f0-827a-40e5-88bf-23624c15c8b1",
      "metadata": {
        "ExecuteTime": {
          "end_time": "2021-03-31T20:11:52.773279Z",
          "start_time": "2021-03-31T20:11:52.763281Z"
        },
        "id": "c357d8f0-827a-40e5-88bf-23624c15c8b1"
      },
      "outputs": [],
      "source": [
        "a = np.array(\n",
        "    [\n",
        "        [0, 1, 2, 3],\n",
        "        [4, 5, 6, 7],\n",
        "        [8, 9, 10, 11],\n",
        "    ]\n",
        ")\n",
        "\n",
        "b = a\n"
      ]
    },
    {
      "cell_type": "code",
      "execution_count": null,
      "id": "757ef291-d743-46b0-8892-7b60d01bcff7",
      "metadata": {
        "ExecuteTime": {
          "end_time": "2021-03-31T20:11:59.736477Z",
          "start_time": "2021-03-31T20:11:59.725477Z"
        },
        "id": "757ef291-d743-46b0-8892-7b60d01bcff7"
      },
      "outputs": [],
      "source": [
        "b[0, 0] = 999\n",
        "b"
      ]
    },
    {
      "cell_type": "markdown",
      "id": "bb0f2b41-a8a5-408f-a795-e26bea7fcc02",
      "metadata": {
        "id": "bb0f2b41-a8a5-408f-a795-e26bea7fcc02"
      },
      "source": [
        "> **Pregunta ❓**: ¿Qué sucede con a?\n"
      ]
    },
    {
      "cell_type": "code",
      "execution_count": null,
      "id": "5a3b0a83-1bc0-42c2-b4e4-5832336e542b",
      "metadata": {
        "id": "5a3b0a83-1bc0-42c2-b4e4-5832336e542b"
      },
      "outputs": [],
      "source": [
        "a"
      ]
    },
    {
      "cell_type": "markdown",
      "id": "4378baff-263a-493e-b5f7-69675a5db7dc",
      "metadata": {
        "id": "4378baff-263a-493e-b5f7-69675a5db7dc"
      },
      "source": [
        "**Copy**\n"
      ]
    },
    {
      "cell_type": "code",
      "execution_count": null,
      "id": "83df5a66-08fc-4249-a65e-47542bd4b475",
      "metadata": {
        "ExecuteTime": {
          "end_time": "2021-03-31T20:12:31.395527Z",
          "start_time": "2021-03-31T20:12:31.386529Z"
        },
        "id": "83df5a66-08fc-4249-a65e-47542bd4b475"
      },
      "outputs": [],
      "source": [
        "a = np.array(\n",
        "    [\n",
        "        [0, 1, 2, 3],\n",
        "        [4, 5, 6, 7],\n",
        "        [8, 9, 10, 11],\n",
        "    ]\n",
        ")\n",
        "\n",
        "d = a.copy()"
      ]
    },
    {
      "cell_type": "code",
      "execution_count": null,
      "id": "e51c24c4-441f-4f94-b8d7-733b52db9a97",
      "metadata": {
        "ExecuteTime": {
          "end_time": "2021-03-31T20:12:33.985689Z",
          "start_time": "2021-03-31T20:12:33.965689Z"
        },
        "id": "e51c24c4-441f-4f94-b8d7-733b52db9a97"
      },
      "outputs": [],
      "source": [
        "d is a"
      ]
    },
    {
      "cell_type": "code",
      "execution_count": null,
      "id": "b4cbfb65-cd7e-42a2-8de9-a30acb8928fc",
      "metadata": {
        "ExecuteTime": {
          "end_time": "2021-03-31T20:12:45.854429Z",
          "start_time": "2021-03-31T20:12:45.835429Z"
        },
        "id": "b4cbfb65-cd7e-42a2-8de9-a30acb8928fc"
      },
      "outputs": [],
      "source": [
        "d[0, 0] = 999\n",
        "d"
      ]
    },
    {
      "cell_type": "code",
      "execution_count": null,
      "id": "5e074049-a3a7-471a-bb18-fe2d388b559b",
      "metadata": {
        "ExecuteTime": {
          "end_time": "2021-03-31T20:12:49.834057Z",
          "start_time": "2021-03-31T20:12:49.824057Z"
        },
        "id": "5e074049-a3a7-471a-bb18-fe2d388b559b"
      },
      "outputs": [],
      "source": [
        "a"
      ]
    },
    {
      "cell_type": "markdown",
      "id": "68fe5623",
      "metadata": {
        "id": "68fe5623"
      },
      "source": [
        "### Como cambiar las dimensiones de un arreglo\n",
        "\n",
        "#### Reshape\n",
        "\n",
        "Permite cambiar la forma del arreglo."
      ]
    },
    {
      "cell_type": "code",
      "execution_count": null,
      "id": "4153fc1f",
      "metadata": {
        "id": "4153fc1f"
      },
      "outputs": [],
      "source": [
        "a = np.array([[1,2,3], [4,5,6]])\n",
        "a"
      ]
    },
    {
      "cell_type": "code",
      "execution_count": null,
      "id": "046b4e7e",
      "metadata": {
        "id": "046b4e7e"
      },
      "outputs": [],
      "source": [
        "a.shape"
      ]
    },
    {
      "cell_type": "code",
      "execution_count": null,
      "id": "474cbf88",
      "metadata": {
        "id": "474cbf88"
      },
      "outputs": [],
      "source": [
        "np.reshape(a, (3, 2))"
      ]
    },
    {
      "cell_type": "markdown",
      "id": "05ca0990",
      "metadata": {
        "id": "05ca0990"
      },
      "source": [
        "No siempre es posible, el cambio de los elementos debe ser consistente con las dimensiones."
      ]
    },
    {
      "cell_type": "code",
      "execution_count": null,
      "id": "16dd0f25",
      "metadata": {
        "id": "16dd0f25"
      },
      "outputs": [],
      "source": [
        "np.reshape(a, (7,))"
      ]
    },
    {
      "cell_type": "markdown",
      "id": "2267ed13",
      "metadata": {
        "id": "2267ed13"
      },
      "source": [
        "Veamos otras formas de cambiar la forma de un arreglo.\n",
        "\n",
        "Primero definimos un arreglo aleatorio.\n"
      ]
    },
    {
      "cell_type": "code",
      "execution_count": null,
      "id": "3659418c",
      "metadata": {
        "id": "3659418c"
      },
      "outputs": [],
      "source": [
        "c = np.random.rand(2,3)\n",
        "print(c, \"\\n\")\n",
        "print(c.shape)"
      ]
    },
    {
      "cell_type": "markdown",
      "id": "8352011e",
      "metadata": {
        "id": "8352011e"
      },
      "source": [
        "#### Ravel\n",
        "\n",
        "Se utiliza para \"desenrollar\" o \"aplanar\" un arreglo multidimensional en un arreglo unidimensional"
      ]
    },
    {
      "cell_type": "code",
      "execution_count": null,
      "id": "3be85674",
      "metadata": {
        "id": "3be85674"
      },
      "outputs": [],
      "source": [
        "d = c.ravel()\n",
        "print(d, \"\\n\")\n",
        "print(d.shape, \"\\n\")"
      ]
    },
    {
      "cell_type": "markdown",
      "id": "377f7259",
      "metadata": {
        "id": "377f7259"
      },
      "source": [
        "#### Transponer un arreglo\n",
        "\n",
        "\n",
        "`arreglo.T` crea un nuevo arreglo con la transpuesta."
      ]
    },
    {
      "cell_type": "code",
      "execution_count": null,
      "id": "7d3a3888",
      "metadata": {
        "id": "7d3a3888"
      },
      "outputs": [],
      "source": [
        "e = c.T\n",
        "print(e, \"\\n\")\n",
        "print(e.shape, \"\\n\")"
      ]
    },
    {
      "cell_type": "code",
      "execution_count": null,
      "id": "6b2257b6",
      "metadata": {},
      "outputs": [],
      "source": [
        "c.reshape(3, 2) # no es lo mismo que hacer reshape!!"
      ]
    },
    {
      "cell_type": "markdown",
      "id": "786b40e6",
      "metadata": {
        "id": "786b40e6"
      },
      "source": [
        "#### Resize\n",
        "\n",
        "Cambia las dimensiones en el propio arreglo, rellenando con el mismo arreglo o 0s dependiendo de la sintaxis hasta llegar a la dimensión requerida. No retorna otro arreglo como en caso de `reshape`.\n"
      ]
    },
    {
      "cell_type": "code",
      "execution_count": null,
      "id": "55745a68",
      "metadata": {
        "id": "55745a68"
      },
      "outputs": [],
      "source": [
        "e = np.array([1, 2, 3])\n",
        "e"
      ]
    },
    {
      "cell_type": "code",
      "execution_count": null,
      "id": "588333a2",
      "metadata": {
        "id": "588333a2"
      },
      "outputs": [],
      "source": [
        "# usando np.resize()\n",
        "x = np.resize(e, (1,2))\n",
        "y = np.resize(e, (5, 4))\n",
        "print('resize a arreglo de menor tamaño:\\n', x)\n",
        "print('resize a arreglo de mayor tamaño:\\n', y)"
      ]
    },
    {
      "cell_type": "code",
      "execution_count": null,
      "id": "119fd7e5",
      "metadata": {
        "id": "119fd7e5"
      },
      "outputs": [],
      "source": [
        "# usando arreglo.resize()\n",
        "e.resize(4, 4, refcheck = False)\n",
        "e"
      ]
    },
    {
      "cell_type": "code",
      "execution_count": null,
      "id": "1015244a",
      "metadata": {
        "id": "1015244a"
      },
      "outputs": [],
      "source": [
        "e.resize(1, 2, refcheck = False)\n",
        "e"
      ]
    },
    {
      "cell_type": "markdown",
      "id": "bb8af7c3",
      "metadata": {
        "id": "bb8af7c3"
      },
      "source": [
        "### Concatenate\n",
        "\n",
        "Concatena arreglos en un nuevo arreglo"
      ]
    },
    {
      "cell_type": "code",
      "execution_count": null,
      "id": "953f3c42",
      "metadata": {
        "id": "953f3c42"
      },
      "outputs": [],
      "source": [
        "a = np.array([1, 2, 3, 4])\n",
        "b = np.array([5, 6, 7, 8])\n",
        "\n",
        "np.concatenate((a, b))"
      ]
    },
    {
      "cell_type": "code",
      "execution_count": null,
      "id": "8ae65b20",
      "metadata": {
        "id": "8ae65b20"
      },
      "outputs": [],
      "source": [
        "x = np.array([[1, 2],\n",
        "              [3, 4]])\n",
        "\n",
        "y = np.array([[5, 6]])\n",
        "\n",
        "np.concatenate((x, y))"
      ]
    },
    {
      "cell_type": "code",
      "execution_count": null,
      "id": "16165b94",
      "metadata": {
        "id": "16165b94"
      },
      "outputs": [],
      "source": [
        "x = np.array([[1, 2],\n",
        "              [3, 4]])\n",
        "\n",
        "z = np.array([[5, 6],\n",
        "              [7, 8]])\n",
        "\n",
        "np.concatenate((x, z), axis=0)  # idea: concatenar a las filas"
      ]
    },
    {
      "cell_type": "code",
      "execution_count": null,
      "id": "10e18d1c",
      "metadata": {
        "id": "10e18d1c"
      },
      "outputs": [],
      "source": [
        "np.concatenate((x, z), axis=1)  # idea: concatenar a las columnas"
      ]
    },
    {
      "cell_type": "markdown",
      "id": "5b19b3d5",
      "metadata": {
        "id": "5b19b3d5"
      },
      "source": [
        "## Referencias"
      ]
    },
    {
      "cell_type": "markdown",
      "id": "9056f59b",
      "metadata": {
        "id": "9056f59b"
      },
      "source": [
        "Recuerden que siempre pueden acudir a la clase grabada de años anteriores:\n",
        "[Clase 1](https://www.youtube.com/watch?v=bgqOQ2Xrkxs&list=PLIaUi-1jO5b4PztTeatJFQO1QeQwGo3FS&index=7&pp=iAQB) y [Clase 2](https://www.youtube.com/watch?v=tBxejj6L46U&list=PLIaUi-1jO5b4PztTeatJFQO1QeQwGo3FS&index=8&pp=iAQB)"
      ]
    }
  ],
  "metadata": {
    "colab": {
      "provenance": []
    },
    "kernelspec": {
      "display_name": "base",
      "language": "python",
      "name": "python3"
    },
    "language_info": {
      "codemirror_mode": {
        "name": "ipython",
        "version": 3
      },
      "file_extension": ".py",
      "mimetype": "text/x-python",
      "name": "python",
      "nbconvert_exporter": "python",
      "pygments_lexer": "ipython3",
      "version": "3.12.5"
    },
    "toc": {
      "base_numbering": 1,
      "nav_menu": {},
      "number_sections": true,
      "sideBar": true,
      "skip_h1_title": false,
      "title_cell": "Table of Contents",
      "title_sidebar": "Contents",
      "toc_cell": false,
      "toc_position": {
        "height": "calc(100% - 180px)",
        "left": "10px",
        "top": "150px",
        "width": "347.117px"
      },
      "toc_section_display": true,
      "toc_window_display": false
    },
    "varInspector": {
      "cols": {
        "lenName": 16,
        "lenType": 16,
        "lenVar": 40
      },
      "kernels_config": {
        "python": {
          "delete_cmd_postfix": "",
          "delete_cmd_prefix": "del ",
          "library": "var_list.py",
          "varRefreshCmd": "print(var_dic_list())"
        },
        "r": {
          "delete_cmd_postfix": ") ",
          "delete_cmd_prefix": "rm(",
          "library": "var_list.r",
          "varRefreshCmd": "cat(var_dic_list()) "
        }
      },
      "types_to_exclude": [
        "module",
        "function",
        "builtin_function_or_method",
        "instance",
        "_Feature"
      ],
      "window_display": false
    }
  },
  "nbformat": 4,
  "nbformat_minor": 5
}
