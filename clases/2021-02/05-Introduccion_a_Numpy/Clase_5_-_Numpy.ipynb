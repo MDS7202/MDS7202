{
 "cells": [
  {
   "cell_type": "markdown",
   "metadata": {},
   "source": [
    "# Clase 6: Numpy y Scipy\n",
    "\n",
    "\n",
    "**MDS7202: Laboratorio de Programación Científica para Ciencia de Datos**\n",
    "\n",
    "**Profesor: Pablo Badilla**\n",
    "\n",
    "Basadas en las clases de Nicolás Caro.\n"
   ]
  },
  {
   "cell_type": "markdown",
   "metadata": {},
   "source": [
    "---\n",
    "\n",
    "## NumPy y SciPy: Librerías Científicas \n",
    "\n",
    "`Numpy` y `SciPy` son módulos de código abierto para Python que proveen rutinas matemáticas precompiladas y de alto rendimiento. \n",
    "\n",
    "Ambos paquetes son estándar a la hora de trabajar con operaciones numéricas, siendo `Numpy` la base para el trabajo con vectores y matrices, mientras que `SciPy` extiende dichas rutinas al incorporar algoritmos de análisis numérico, optimización, transformadas de Fourier entre otras.\n",
    "\n"
   ]
  },
  {
   "cell_type": "markdown",
   "metadata": {
    "ExecuteTime": {
     "end_time": "2021-03-31T14:02:43.200558Z",
     "start_time": "2021-03-31T14:02:43.188510Z"
    }
   },
   "source": [
    "---\n",
    "\n",
    "## Numpy\n",
    "\n",
    "[NumPy (Numerical Python)](http://www.numpy.org/) es el módulo fundamental para la computación científica en Python. Numpy es un módulo que módulo que provee **arreglos multi-dimensionales homogeneos** (i.e., del mismo tipo de datos) y una gran gama de operaciones (extremadamente optimizadas) que aplican sobre estos, tales como álgebra lineal, E/S (I/O), estadística básica, simulaciones aleatorias y un gran etc.\n",
    "\n",
    "Su uso se ha vuelto un estándar en computación científica, en particular en ciencia de datos y machine learning. Su uso es similar a otras herramientas matemáticas como MATLAB, pero esta es **Open Source 👍**. Si vienes de MATLAB, puedes encontrar una guia rápida de transción a python [aqui](https://numpy.org/devdocs/user/numpy-for-matlab-users.html).\n",
    "\n",
    "### Ejemplos de aplicaciones\n",
    "\n",
    "<img src=\"./resources/numpy_case_studies.jpg\" alt=\"Casos de estudio\" style=\"width: 800px;\"/>\n",
    "\n",
    "### Ecosistema\n",
    "\n",
    "<img src=\"./resources/numpy_ecosistema.jpg\" alt=\"Ecosistema de Numpy\" style=\"width: 800px;\"/>"
   ]
  },
  {
   "cell_type": "markdown",
   "metadata": {},
   "source": [
    "### La clase ndarray\n",
    "\n",
    "**Arreglo** (según wikipedia): \n",
    "> Es a una zona de almacenamiento contiguo (en la memoria RAM) que contiene una serie de elementos del mismo tipo.\n",
    "\n",
    "<img src='http://www.mathcs.emory.edu/~cheung/Courses/170/Syllabus/09/FIGS/array02x.gif' width=400>\n",
    "\n",
    "\n",
    "\n",
    "El núcleo de `numpy` es el objeto ndarray. Este objeto encapsula **arreglos n-dimensionales** de **tipos de datos homogeneos** e implementa **rutinas precompiladas** para el calculo de operaciones.\n",
    "\n",
    "Algunas de las características de estos arreglos.\n",
    "\n",
    "| Arreglos de tamaño fijo. | Arreglos del mismo tipo de datos.  | Provee operaciones matemáticas sobre largos conjuntos de datos. | Gran ecosistema basado en Numpy |\n",
    "|-|-|-|-|\n",
    "| A diferencia de las listas de python que pueden crecer dinámicamente, los arreglos de numpy son estáticos.  Modificar el tamaño de un arreglo implicará crear uno nuevo | Tipos de datos distintos tienen tamaños distintos. Al tener tipos de datos de igual tamaño, se puede manejar mejor la memoria RAM. | Los módulos precompilados ofrecen operaciones más eficientes sobre arreglos numpy que su equivalente de listas en python. | En general, la mayoría de librerías científicas están basadas en los arreglos de numpy. |"
   ]
  },
  {
   "cell_type": "markdown",
   "metadata": {},
   "source": [
    "### Vectorización\n",
    "\n",
    "La vectorización es la ausencia de cualquier ciclo o indexado explícito en el código. Todo se hace a través de funciones que operan \"detrás de escenas\".\n",
    "\n",
    "Ventajas:\n",
    "\n",
    "- El código vectorizado es mas consiso y facil de leer.\n",
    "\n",
    "- Menos lineas de código = Menos bugs.\n",
    "\n",
    "- La notación vectorizada \"recuerda\" en algo a la notación matemática. (Piensen en una suma de dos vectores implementado en for con respecto un `a + b`).\n"
   ]
  },
  {
   "cell_type": "markdown",
   "metadata": {},
   "source": [
    "### Primeros Pasos"
   ]
  },
  {
   "cell_type": "markdown",
   "metadata": {},
   "source": [
    "Importamos comunmente `numpy` usando el alias `np`."
   ]
  },
  {
   "cell_type": "code",
   "execution_count": null,
   "metadata": {
    "ExecuteTime": {
     "end_time": "2021-03-31T19:28:07.775507Z",
     "start_time": "2021-03-31T19:28:07.770496Z"
    }
   },
   "outputs": [],
   "source": [
    "# alias comun es np\n",
    "import numpy as np"
   ]
  },
  {
   "cell_type": "markdown",
   "metadata": {},
   "source": [
    "#### Creación de arrays\n",
    "\n",
    "Existen varias formas de crear arreglos."
   ]
  },
  {
   "cell_type": "markdown",
   "metadata": {
    "ExecuteTime": {
     "end_time": "2021-03-31T14:48:06.295871Z",
     "start_time": "2021-03-31T14:48:06.275946Z"
    }
   },
   "source": [
    "##### Inicializar a partir de listas"
   ]
  },
  {
   "cell_type": "code",
   "execution_count": null,
   "metadata": {
    "ExecuteTime": {
     "end_time": "2021-03-31T19:28:08.541506Z",
     "start_time": "2021-03-31T19:28:08.518497Z"
    },
    "scrolled": true
   },
   "outputs": [],
   "source": [
    "a = np.array([1, 2, 3])\n",
    "a"
   ]
  },
  {
   "cell_type": "markdown",
   "metadata": {},
   "source": [
    "![Ejemplo ndarray](./resources/np_array.png)"
   ]
  },
  {
   "cell_type": "markdown",
   "metadata": {},
   "source": [
    "##### Crear _arrays_ llenos de ceros"
   ]
  },
  {
   "cell_type": "code",
   "execution_count": null,
   "metadata": {
    "ExecuteTime": {
     "end_time": "2021-03-31T19:28:37.593794Z",
     "start_time": "2021-03-31T19:28:37.573796Z"
    }
   },
   "outputs": [],
   "source": [
    "b = np.zeros(10)\n",
    "b"
   ]
  },
  {
   "cell_type": "markdown",
   "metadata": {
    "code_folding": []
   },
   "source": [
    "##### Crear _arrays_ de 1"
   ]
  },
  {
   "cell_type": "code",
   "execution_count": null,
   "metadata": {
    "ExecuteTime": {
     "end_time": "2021-03-31T19:28:42.996086Z",
     "start_time": "2021-03-31T19:28:42.984083Z"
    }
   },
   "outputs": [],
   "source": [
    "c = np.ones(10)\n",
    "c"
   ]
  },
  {
   "cell_type": "markdown",
   "metadata": {},
   "source": [
    "##### Y usar un simil de la función range"
   ]
  },
  {
   "cell_type": "code",
   "execution_count": null,
   "metadata": {
    "ExecuteTime": {
     "end_time": "2021-03-31T19:28:44.831364Z",
     "start_time": "2021-03-31T19:28:44.812336Z"
    }
   },
   "outputs": [],
   "source": [
    "d = np.arange(2, 15, 2)  # de 2 al 15 (sin incluir) con un salto de 2 en 2.\n",
    "d"
   ]
  },
  {
   "cell_type": "markdown",
   "metadata": {},
   "source": [
    "##### Y arreglos con valores aleatorios\n",
    "\n",
    "\n",
    "Esto genera una matriz en donde cada elemento es un número $ \\sim \\text{unif}([0,1])$"
   ]
  },
  {
   "cell_type": "code",
   "execution_count": null,
   "metadata": {
    "ExecuteTime": {
     "end_time": "2021-03-31T19:29:14.620715Z",
     "start_time": "2021-03-31T19:29:14.609688Z"
    },
    "scrolled": true
   },
   "outputs": [],
   "source": [
    "np.random.rand(3)"
   ]
  },
  {
   "cell_type": "markdown",
   "metadata": {},
   "source": [
    "##### También podemos crear matrices"
   ]
  },
  {
   "cell_type": "code",
   "execution_count": null,
   "metadata": {
    "ExecuteTime": {
     "end_time": "2021-03-31T19:29:22.430505Z",
     "start_time": "2021-03-31T19:29:22.413506Z"
    }
   },
   "outputs": [],
   "source": [
    "e = np.ones((5, 5))\n",
    "e"
   ]
  },
  {
   "cell_type": "code",
   "execution_count": null,
   "metadata": {
    "ExecuteTime": {
     "end_time": "2021-03-31T19:30:02.133772Z",
     "start_time": "2021-03-31T19:30:02.117772Z"
    }
   },
   "outputs": [],
   "source": [
    "m = np.array([[1, 2, 3], \n",
    "              [4, 5, 6], \n",
    "              [7, 8, 9], \n",
    "              [10, 11, 12]])\n",
    "m"
   ]
  },
  {
   "cell_type": "markdown",
   "metadata": {},
   "source": [
    "> **Pregunta ❓** : ¿Qué sucede con el siguiente código?\n",
    "\n",
    "```python\n",
    "m2 = np.array([[1, 2, 3], [4, 5, 6], [7]])\n",
    "```"
   ]
  },
  {
   "cell_type": "code",
   "execution_count": null,
   "metadata": {
    "ExecuteTime": {
     "end_time": "2021-03-31T19:31:27.823705Z",
     "start_time": "2021-03-31T19:31:27.811708Z"
    },
    "scrolled": true
   },
   "outputs": [],
   "source": [
    "m2 = np.array([[1, 2, 3], [4, 5, 6], [7]])\n",
    "m2"
   ]
  },
  {
   "cell_type": "markdown",
   "metadata": {
    "ExecuteTime": {
     "end_time": "2021-03-31T17:43:47.023395Z",
     "start_time": "2021-03-31T17:43:47.005551Z"
    }
   },
   "source": [
    "> **Ejercicio ✏️**: Existen más alternativas para crear arreglos. Verifique las funciones `np.vstack` y `np.hstack` en la siguiente [referencia](https://numpy.org/devdocs/user/absolute_beginners.html#how-to-create-an-array-from-existing-data)."
   ]
  },
  {
   "cell_type": "markdown",
   "metadata": {},
   "source": [
    "---\n",
    "\n",
    "De aquí en adelante, definiremos la siguiente matriz como una secuencia de 4 puntos tridimensionales que describen algún objeto tridimensional, como por ejemplo, un tetraedro:"
   ]
  },
  {
   "cell_type": "code",
   "execution_count": null,
   "metadata": {
    "scrolled": false
   },
   "outputs": [],
   "source": [
    "puntos = np.array([\n",
    "    [0, 0, 0],\n",
    "    [1, 0, 2],\n",
    "    [2, 1, 0],\n",
    "    [0, 2, 1]]\n",
    ")\n",
    "puntos"
   ]
  },
  {
   "cell_type": "code",
   "execution_count": null,
   "metadata": {
    "ExecuteTime": {
     "end_time": "2021-03-31T19:33:52.474692Z",
     "start_time": "2021-03-31T19:33:52.454692Z"
    }
   },
   "outputs": [],
   "source": [
    "import plotly.graph_objects as go\n",
    "\n",
    "def plot_tetraedro(puntos):\n",
    "    fig = go.Figure(data=[go.Mesh3d(\n",
    "        x=puntos[:, 0],\n",
    "        y=puntos[:, 1],\n",
    "        z=puntos[:, 2],\n",
    "        opacity=0.5,\n",
    "        # indices de los puntos donde se dibujan caras.\n",
    "        # i=0, j=1, k=2 indica que se dibujará una\n",
    "        # cara en [0, 0, 0] -> [1, 0, 2] -> [2, 1, 0]\n",
    "        i=[0, 0, 0, 1],\n",
    "        j=[1, 2, 3, 2],\n",
    "        k=[2, 3, 1, 3],\n",
    "    )])\n",
    "    fig.show()\n",
    "    \n",
    "plot_tetraedro(puntos)"
   ]
  },
  {
   "cell_type": "markdown",
   "metadata": {},
   "source": [
    "#### Axes\n",
    "\n",
    "En `numpy`, las dimensiones son llamadas ***axes***.\n",
    "\n",
    "Supongamos que la matriz que vimos antes (`puntos`) es un conjunto de cuatro puntos tridimensionales.\n",
    "- Un punto `[0, 0, 0]` es un arreglo de una sola dimensión (un solo axe).\n",
    "- Un conjunto de dos puntos `[[0, 0, 0], [1, 0, 2]],` es un arreglo de dos dimensiones (dos axes).\n",
    "\n",
    "> **Pregunta ❓**: `[[0, 0, 0], [1, 0, 2], [2, 1, 0],` ¿Cuántos axes tiene?\n"
   ]
  },
  {
   "cell_type": "markdown",
   "metadata": {},
   "source": [
    "#### Atributos de la clase ndarray "
   ]
  },
  {
   "cell_type": "code",
   "execution_count": null,
   "metadata": {
    "ExecuteTime": {
     "end_time": "2021-03-31T19:36:04.611878Z",
     "start_time": "2021-03-31T19:36:04.597881Z"
    },
    "scrolled": true
   },
   "outputs": [],
   "source": [
    "puntos"
   ]
  },
  {
   "cell_type": "markdown",
   "metadata": {},
   "source": [
    "##### `ndim`\n",
    "\n",
    "Podemos acceder al número de dimensiones o axes a través del atributo `ndim`"
   ]
  },
  {
   "cell_type": "code",
   "execution_count": null,
   "metadata": {
    "ExecuteTime": {
     "end_time": "2021-03-31T19:36:21.394474Z",
     "start_time": "2021-03-31T19:36:21.376477Z"
    },
    "scrolled": true
   },
   "outputs": [],
   "source": [
    "puntos.ndim"
   ]
  },
  {
   "cell_type": "markdown",
   "metadata": {},
   "source": [
    "##### `shape`\n",
    "\n",
    "Shape es una tupla que indica el tamaño de cada dimension. Nota que la tupla tiene la misma cantidad de elementos que el número de dimensiones. \n",
    "\n",
    "En nuesto ejemplo, la dimensión 1 tiene tamaño 4 (4 puntos) y la segunda dimensión tiene 3 (coordenadas)."
   ]
  },
  {
   "cell_type": "code",
   "execution_count": null,
   "metadata": {
    "ExecuteTime": {
     "end_time": "2021-03-31T19:36:33.081198Z",
     "start_time": "2021-03-31T19:36:33.075199Z"
    }
   },
   "outputs": [],
   "source": [
    "puntos.shape"
   ]
  },
  {
   "cell_type": "markdown",
   "metadata": {},
   "source": [
    "##### `size`\n",
    "\n",
    "Es el número de elementos totales en nuestro arreglo"
   ]
  },
  {
   "cell_type": "code",
   "execution_count": null,
   "metadata": {
    "ExecuteTime": {
     "end_time": "2021-03-31T19:37:45.424587Z",
     "start_time": "2021-03-31T19:37:45.407587Z"
    }
   },
   "outputs": [],
   "source": [
    "puntos.size"
   ]
  },
  {
   "cell_type": "markdown",
   "metadata": {},
   "source": [
    "##### `dtype`\n",
    "\n",
    "El tipo de datos que tiene nuestro arreglo"
   ]
  },
  {
   "cell_type": "code",
   "execution_count": null,
   "metadata": {
    "ExecuteTime": {
     "end_time": "2021-03-31T19:37:52.676667Z",
     "start_time": "2021-03-31T19:37:52.669658Z"
    }
   },
   "outputs": [],
   "source": [
    "puntos.dtype"
   ]
  },
  {
   "cell_type": "markdown",
   "metadata": {},
   "source": [
    "#### Datos sobre múltiples dimensiones\n",
    "\n",
    "Supongamos que el tetraedro va creciendo aleatoriamente según pasa el tiempo.\n",
    "\n",
    "Es decir que tendrémos para cada $t$, un conjunto de cuatro puntos distintos. "
   ]
  },
  {
   "cell_type": "code",
   "execution_count": null,
   "metadata": {
    "ExecuteTime": {
     "end_time": "2021-03-31T19:39:19.543222Z",
     "start_time": "2021-03-31T19:39:19.533227Z"
    },
    "scrolled": true
   },
   "outputs": [],
   "source": [
    "puntos_t1 = np.round(puntos + np.random.rand(4,3), 2)\n",
    "puntos_t1"
   ]
  },
  {
   "cell_type": "code",
   "execution_count": null,
   "metadata": {},
   "outputs": [],
   "source": [
    "plot_tetraedro(puntos_t1)"
   ]
  },
  {
   "cell_type": "code",
   "execution_count": null,
   "metadata": {
    "ExecuteTime": {
     "end_time": "2021-03-31T19:39:31.709916Z",
     "start_time": "2021-03-31T19:39:31.703922Z"
    },
    "scrolled": true
   },
   "outputs": [],
   "source": [
    "puntos_t2 = np.round(puntos_t1 + np.random.rand(4, 3), 2)\n",
    "puntos_t2"
   ]
  },
  {
   "cell_type": "code",
   "execution_count": null,
   "metadata": {},
   "outputs": [],
   "source": [
    "plot_tetraedro(puntos_t2)"
   ]
  },
  {
   "cell_type": "code",
   "execution_count": null,
   "metadata": {
    "ExecuteTime": {
     "end_time": "2021-03-31T19:39:32.623916Z",
     "start_time": "2021-03-31T19:39:32.616916Z"
    }
   },
   "outputs": [],
   "source": [
    "puntos_t3 = np.round(puntos_t2 + np.random.rand(4, 3), 2)\n",
    "puntos_t3"
   ]
  },
  {
   "cell_type": "code",
   "execution_count": null,
   "metadata": {},
   "outputs": [],
   "source": [
    "plot_tetraedro(puntos_t3)"
   ]
  },
  {
   "cell_type": "code",
   "execution_count": null,
   "metadata": {},
   "outputs": [],
   "source": [
    "puntos_t4 = np.round(puntos_t3 + np.random.rand(4, 3), 2)\n",
    "puntos_t4"
   ]
  },
  {
   "cell_type": "code",
   "execution_count": null,
   "metadata": {},
   "outputs": [],
   "source": [
    "plot_tetraedro(puntos_t4)"
   ]
  },
  {
   "cell_type": "markdown",
   "metadata": {
    "ExecuteTime": {
     "end_time": "2021-03-31T15:26:45.166466Z",
     "start_time": "2021-03-31T15:26:45.146319Z"
    }
   },
   "source": [
    "> **Pregunta ❓**: ¿Cómo podemos agregar el tiempo a nuestro conjunto de datos?"
   ]
  },
  {
   "cell_type": "markdown",
   "metadata": {},
   "source": [
    "La forma de agregar esta variable es agregar una nueva dimensión al arreglo. Es decir, ahora tener las dimensiones `(tiempo, puntos del tetraedro, valores)`"
   ]
  },
  {
   "cell_type": "code",
   "execution_count": null,
   "metadata": {
    "ExecuteTime": {
     "end_time": "2021-03-31T19:41:08.997055Z",
     "start_time": "2021-03-31T19:41:08.984057Z"
    }
   },
   "outputs": [],
   "source": [
    "puntos_t = np.array([puntos, puntos_t1, puntos_t2, puntos_t3, puntos_t4])\n",
    "puntos_t"
   ]
  },
  {
   "cell_type": "code",
   "execution_count": null,
   "metadata": {
    "ExecuteTime": {
     "end_time": "2021-03-31T19:41:45.200738Z",
     "start_time": "2021-03-31T19:41:45.188739Z"
    }
   },
   "outputs": [],
   "source": [
    "puntos_t.ndim"
   ]
  },
  {
   "cell_type": "code",
   "execution_count": null,
   "metadata": {
    "ExecuteTime": {
     "end_time": "2021-03-31T19:41:47.781740Z",
     "start_time": "2021-03-31T19:41:47.774739Z"
    },
    "scrolled": true
   },
   "outputs": [],
   "source": [
    "puntos_t.shape"
   ]
  },
  {
   "cell_type": "markdown",
   "metadata": {
    "ExecuteTime": {
     "end_time": "2021-03-31T15:32:45.336152Z",
     "start_time": "2021-03-31T15:32:45.326056Z"
    }
   },
   "source": [
    "Comunmente, los arreglos de más de dos dimensiones son conocidos como **tensores**."
   ]
  },
  {
   "cell_type": "markdown",
   "metadata": {},
   "source": [
    "> **Pregunta ❓**: ¿Cómo podemos modelar datos como imágenes y videos en arreglos multidimensionales?\n",
    "\n",
    "> Propongan algún otro tipo de dato para modelarlo en este momento.\n"
   ]
  },
  {
   "cell_type": "markdown",
   "metadata": {},
   "source": [
    "Ejemplo de imagen 8x8 en blanco negro."
   ]
  },
  {
   "cell_type": "code",
   "execution_count": null,
   "metadata": {
    "ExecuteTime": {
     "end_time": "2021-03-31T21:45:13.081409Z",
     "start_time": "2021-03-31T21:45:13.065409Z"
    }
   },
   "outputs": [],
   "source": [
    "imagen = np.array([[0, 0, 0, 0, 0, 0, 0, 0, 0, 0, 0, 0, 0, 0, 0, 0],\n",
    "                   [0, 0, 0, 0, 0, 0, 0, 0, 0, 0, 0, 0, 0, 0, 0, 0],\n",
    "                   [0, 0, 0, 1, 1, 0, 0, 0, 0, 0, 0, 1, 1, 0, 0, 0],\n",
    "                   [0, 0, 1, 0, 0, 1, 0, 0, 0, 0, 1, 0, 0, 1, 0, 0],\n",
    "                   [0, 0, 0, 0, 0, 0, 0, 0, 0, 0, 0, 0, 0, 0, 0, 0],\n",
    "                   [0, 0, 0, 0, 0, 0, 1, 0, 0, 1, 0, 0, 0, 0, 0, 0],\n",
    "                   [0, 0, 0, 0, 0, 0, 1, 1, 1, 1, 0, 0, 0, 0, 0, 0],\n",
    "                   [0, 0, 0, 0, 0, 0, 0, 0, 0, 0, 0, 0, 0, 0, 0, 0]],\n",
    "                  dtype='uint8') * 255"
   ]
  },
  {
   "cell_type": "code",
   "execution_count": null,
   "metadata": {},
   "outputs": [],
   "source": [
    "import plotly.express as px\n",
    "px.imshow(img1)"
   ]
  },
  {
   "cell_type": "markdown",
   "metadata": {},
   "source": [
    "Por lo general, las imágenes tienen 3 canales: Rojo Verde y Azul (Red, Green and Blue = **RGB**)."
   ]
  },
  {
   "cell_type": "code",
   "execution_count": null,
   "metadata": {
    "ExecuteTime": {
     "end_time": "2021-03-31T21:54:09.103894Z",
     "start_time": "2021-03-31T21:54:09.099921Z"
    }
   },
   "outputs": [],
   "source": [
    "imagen = [[0,0,0  ], [...], [...],\n",
    "          [0,0,255], [...], [...],\n",
    "         ]"
   ]
  },
  {
   "cell_type": "code",
   "execution_count": null,
   "metadata": {
    "ExecuteTime": {
     "end_time": "2021-03-31T21:54:08.365069Z",
     "start_time": "2021-03-31T21:54:08.353050Z"
    }
   },
   "outputs": [],
   "source": [
    "['Rojo', 'Verde', 'Azul']"
   ]
  },
  {
   "cell_type": "markdown",
   "metadata": {
    "ExecuteTime": {
     "end_time": "2021-03-31T21:54:10.060152Z",
     "start_time": "2021-03-31T21:54:10.044152Z"
    }
   },
   "source": [
    "Los videos no son más que conjuntos de imágenes más audio. Si consideramos solo las imágenes, tendríamos:"
   ]
  },
  {
   "cell_type": "code",
   "execution_count": null,
   "metadata": {
    "ExecuteTime": {
     "end_time": "2021-03-31T21:47:46.325043Z",
     "start_time": "2021-03-31T21:47:46.317032Z"
    }
   },
   "outputs": [],
   "source": [
    "#video = [img1, img2, img3, ...]\n",
    "\n",
    "# El arreglo tendría las siguientes dimensiones: (tiempo, alto, ancho, canal)"
   ]
  },
  {
   "cell_type": "markdown",
   "metadata": {},
   "source": [
    "### Indexado\n",
    "\n",
    "\n",
    "El indexado es similar a las listas de python.\n",
    "\n",
    "![Indexado](./resources/np_indexing.png)\n",
    "<center>Fuente: https://numpy.org/devdocs/user/absolute_beginners.html </center>"
   ]
  },
  {
   "cell_type": "code",
   "execution_count": null,
   "metadata": {
    "ExecuteTime": {
     "end_time": "2021-03-31T19:50:22.160338Z",
     "start_time": "2021-03-31T19:50:22.150338Z"
    },
    "scrolled": true
   },
   "outputs": [],
   "source": [
    "data = np.array([1, 2, 3])"
   ]
  },
  {
   "cell_type": "code",
   "execution_count": null,
   "metadata": {},
   "outputs": [],
   "source": [
    "# indexador sin slice retorna solo un número\n",
    "data[1]"
   ]
  },
  {
   "cell_type": "code",
   "execution_count": null,
   "metadata": {},
   "outputs": [],
   "source": [
    "# slice retorna arreglo\n",
    "data[1:2]"
   ]
  },
  {
   "cell_type": "code",
   "execution_count": null,
   "metadata": {},
   "outputs": [],
   "source": [
    "# slice retorna arreglo\n",
    "data[0:2]"
   ]
  },
  {
   "cell_type": "code",
   "execution_count": null,
   "metadata": {},
   "outputs": [],
   "source": [
    "# desde el índice 1 hacia adelante\n",
    "data[1:]"
   ]
  },
  {
   "cell_type": "markdown",
   "metadata": {},
   "source": [
    "Y multidimensional"
   ]
  },
  {
   "cell_type": "code",
   "execution_count": null,
   "metadata": {
    "ExecuteTime": {
     "end_time": "2021-03-31T19:50:32.269077Z",
     "start_time": "2021-03-31T19:50:32.253066Z"
    }
   },
   "outputs": [],
   "source": [
    "puntos_t"
   ]
  },
  {
   "cell_type": "code",
   "execution_count": null,
   "metadata": {},
   "outputs": [],
   "source": [
    "# 3 indexadores\n",
    "# el primero elige solo punto_t1 y punto_t2.\n",
    "# el segundo elige todos los vértices.\n",
    "# el tercero elige todas las coordenadas de los vertices.\n",
    "puntos_t[1:3][:][:]"
   ]
  },
  {
   "cell_type": "code",
   "execution_count": null,
   "metadata": {
    "ExecuteTime": {
     "end_time": "2021-03-31T19:51:43.335550Z",
     "start_time": "2021-03-31T19:51:43.315551Z"
    }
   },
   "outputs": [],
   "source": [
    "# La operación anterior ppodemos resumirla en un solo indexador\n",
    "\n",
    "puntos_t[1:3, :, :]"
   ]
  },
  {
   "cell_type": "code",
   "execution_count": null,
   "metadata": {},
   "outputs": [],
   "source": [
    "# Podemos obtener de todos los tetraedros solo su primer vértice:\n",
    "puntos_t[:, 0:1, :]"
   ]
  },
  {
   "cell_type": "code",
   "execution_count": null,
   "metadata": {},
   "outputs": [],
   "source": [
    "# Y solo la coordenada z de todos los vértices\n",
    "puntos_t[:, :, -1]"
   ]
  },
  {
   "cell_type": "markdown",
   "metadata": {},
   "source": [
    "> **Pregunta ❓**: ¿Qué obtenemos en este caso?\n"
   ]
  },
  {
   "cell_type": "code",
   "execution_count": null,
   "metadata": {
    "ExecuteTime": {
     "end_time": "2021-03-31T19:52:41.578061Z",
     "start_time": "2021-03-31T19:52:41.559026Z"
    },
    "scrolled": true
   },
   "outputs": [],
   "source": [
    "puntos_t[0:3, 1:2, 0]"
   ]
  },
  {
   "cell_type": "markdown",
   "metadata": {},
   "source": [
    "> **Pregunta ❓**: ¿Y en este otro?\n"
   ]
  },
  {
   "cell_type": "code",
   "execution_count": null,
   "metadata": {
    "ExecuteTime": {
     "end_time": "2021-03-31T19:53:48.272219Z",
     "start_time": "2021-03-31T19:53:48.261221Z"
    },
    "scrolled": true
   },
   "outputs": [],
   "source": [
    "puntos_t[:, 0:1, 0:2]"
   ]
  },
  {
   "cell_type": "markdown",
   "metadata": {},
   "source": [
    "### Operaciones básicas sobre arreglos\n",
    "\n",
    "\n",
    "#### Ordenar y Concatenar"
   ]
  },
  {
   "cell_type": "markdown",
   "metadata": {},
   "source": [
    "##### `sort`\n",
    "\n",
    "Retorna una copia del arreglo original ordenado."
   ]
  },
  {
   "cell_type": "code",
   "execution_count": null,
   "metadata": {
    "ExecuteTime": {
     "end_time": "2021-03-31T19:56:18.936414Z",
     "start_time": "2021-03-31T19:56:18.918414Z"
    }
   },
   "outputs": [],
   "source": [
    "arr = np.array([2, 1, 5, 3, 7, 4, 6, 8])\n",
    "\n",
    "np.sort(arr)"
   ]
  },
  {
   "cell_type": "markdown",
   "metadata": {},
   "source": [
    "##### `concatenate`\n",
    "\n",
    "Concatena arreglos (similar a la operación `+`)"
   ]
  },
  {
   "cell_type": "code",
   "execution_count": null,
   "metadata": {
    "ExecuteTime": {
     "end_time": "2021-03-31T19:56:41.527163Z",
     "start_time": "2021-03-31T19:56:41.508161Z"
    }
   },
   "outputs": [],
   "source": [
    "a = np.array([1, 2, 3, 4])\n",
    "b = np.array([5, 6, 7, 8])\n",
    "\n",
    "np.concatenate((a, b))"
   ]
  },
  {
   "cell_type": "code",
   "execution_count": null,
   "metadata": {
    "ExecuteTime": {
     "end_time": "2021-03-31T19:57:05.983719Z",
     "start_time": "2021-03-31T19:57:05.978718Z"
    }
   },
   "outputs": [],
   "source": [
    "x = np.array([[1, 2], \n",
    "              [3, 4]])\n",
    "\n",
    "y = np.array([[5, 6]])\n",
    "\n",
    "np.concatenate((x, y))"
   ]
  },
  {
   "cell_type": "markdown",
   "metadata": {
    "ExecuteTime": {
     "end_time": "2021-03-31T15:41:58.386116Z",
     "start_time": "2021-03-31T15:41:58.376638Z"
    }
   },
   "source": [
    "Se puede especificar la dimensión donde se desea concatenar"
   ]
  },
  {
   "cell_type": "code",
   "execution_count": null,
   "metadata": {
    "ExecuteTime": {
     "end_time": "2021-03-31T19:57:33.039395Z",
     "start_time": "2021-03-31T19:57:33.030394Z"
    }
   },
   "outputs": [],
   "source": [
    "x = np.array([[1, 2], \n",
    "              [3, 4]])\n",
    "\n",
    "z = np.array([[5, 6], \n",
    "              [7, 8]])\n",
    "\n",
    "np.concatenate((x, z), axis=0)  # idea: concatenar a las filas"
   ]
  },
  {
   "cell_type": "code",
   "execution_count": null,
   "metadata": {
    "ExecuteTime": {
     "end_time": "2021-03-31T19:58:03.361272Z",
     "start_time": "2021-03-31T19:58:03.317273Z"
    },
    "scrolled": true
   },
   "outputs": [],
   "source": [
    "np.concatenate((x, y), axis=1)  # idea: concatenar a las columnas"
   ]
  },
  {
   "cell_type": "markdown",
   "metadata": {},
   "source": [
    "#### Nota: Cómo leer documentación de python\n",
    "\n",
    "https://numpy.org/devdocs/reference/generated/numpy.concatenate.html#numpy.concatenate\n",
    "\n",
    "\n",
    "<img src=\"./resources/doc_1.jpg\" alt=\"Definición de la función\" width=600/>\n",
    "<img src=\"./resources/doc_2.jpg\" alt=\"Definición de la función\" width=600/>\n",
    "<img src=\"./resources/doc_3.jpg\" alt=\"Definición de la función\" width=600/>"
   ]
  },
  {
   "cell_type": "markdown",
   "metadata": {},
   "source": [
    "**Todo esto se encuentra en el docstring de la función!!!**"
   ]
  },
  {
   "cell_type": "code",
   "execution_count": null,
   "metadata": {
    "ExecuteTime": {
     "end_time": "2021-03-31T20:00:37.650382Z",
     "start_time": "2021-03-31T20:00:37.632384Z"
    }
   },
   "outputs": [],
   "source": [
    "help(np.concatenate)"
   ]
  },
  {
   "cell_type": "markdown",
   "metadata": {
    "ExecuteTime": {
     "end_time": "2021-03-31T16:36:45.356085Z",
     "start_time": "2021-03-31T16:36:45.340502Z"
    }
   },
   "source": [
    "#### Operaciones aritméticas y lógicas\n",
    "\n",
    "Las operaciones aritméticas siempre operan elemento a elemento (**elementwise**)."
   ]
  },
  {
   "cell_type": "code",
   "execution_count": null,
   "metadata": {
    "ExecuteTime": {
     "end_time": "2021-03-31T20:01:37.037519Z",
     "start_time": "2021-03-31T20:01:37.020520Z"
    }
   },
   "outputs": [],
   "source": [
    "a = np.array([20, 30, 40, 50])\n",
    "b = np.array([0, 1, 2, 3])"
   ]
  },
  {
   "cell_type": "code",
   "execution_count": null,
   "metadata": {
    "ExecuteTime": {
     "end_time": "2021-03-31T20:01:39.862519Z",
     "start_time": "2021-03-31T20:01:39.847522Z"
    }
   },
   "outputs": [],
   "source": [
    "a - b"
   ]
  },
  {
   "cell_type": "code",
   "execution_count": null,
   "metadata": {
    "ExecuteTime": {
     "end_time": "2021-03-31T20:01:47.153520Z",
     "start_time": "2021-03-31T20:01:47.142520Z"
    }
   },
   "outputs": [],
   "source": [
    "a + b"
   ]
  },
  {
   "cell_type": "code",
   "execution_count": null,
   "metadata": {
    "ExecuteTime": {
     "end_time": "2021-03-31T20:01:51.141518Z",
     "start_time": "2021-03-31T20:01:51.131521Z"
    }
   },
   "outputs": [],
   "source": [
    "b ** 2"
   ]
  },
  {
   "cell_type": "code",
   "execution_count": null,
   "metadata": {
    "ExecuteTime": {
     "end_time": "2021-03-31T20:01:53.905519Z",
     "start_time": "2021-03-31T20:01:53.895521Z"
    }
   },
   "outputs": [],
   "source": [
    "10 * b"
   ]
  },
  {
   "cell_type": "code",
   "execution_count": null,
   "metadata": {
    "ExecuteTime": {
     "end_time": "2021-03-31T20:02:00.190519Z",
     "start_time": "2021-03-31T20:02:00.181521Z"
    }
   },
   "outputs": [],
   "source": [
    "[10] * b"
   ]
  },
  {
   "cell_type": "code",
   "execution_count": null,
   "metadata": {
    "ExecuteTime": {
     "end_time": "2021-03-31T20:02:25.006427Z",
     "start_time": "2021-03-31T20:02:24.996427Z"
    }
   },
   "outputs": [],
   "source": [
    "a * b"
   ]
  },
  {
   "cell_type": "code",
   "execution_count": null,
   "metadata": {
    "ExecuteTime": {
     "end_time": "2021-03-31T19:06:18.283784Z",
     "start_time": "2021-03-31T19:06:18.268191Z"
    }
   },
   "outputs": [],
   "source": [
    "b ** 2"
   ]
  },
  {
   "cell_type": "code",
   "execution_count": null,
   "metadata": {
    "ExecuteTime": {
     "end_time": "2021-03-31T20:02:48.039025Z",
     "start_time": "2021-03-31T20:02:48.022027Z"
    }
   },
   "outputs": [],
   "source": [
    "a"
   ]
  },
  {
   "cell_type": "code",
   "execution_count": null,
   "metadata": {
    "ExecuteTime": {
     "end_time": "2021-03-31T20:02:56.792025Z",
     "start_time": "2021-03-31T20:02:56.774027Z"
    }
   },
   "outputs": [],
   "source": [
    "a <= 20"
   ]
  },
  {
   "cell_type": "code",
   "execution_count": null,
   "metadata": {
    "ExecuteTime": {
     "end_time": "2021-03-31T20:03:17.377859Z",
     "start_time": "2021-03-31T20:03:17.363860Z"
    }
   },
   "outputs": [],
   "source": [
    "a > 20"
   ]
  },
  {
   "cell_type": "code",
   "execution_count": null,
   "metadata": {
    "ExecuteTime": {
     "end_time": "2021-03-31T20:03:50.741666Z",
     "start_time": "2021-03-31T20:03:50.724669Z"
    }
   },
   "outputs": [],
   "source": [
    "a < b"
   ]
  },
  {
   "cell_type": "code",
   "execution_count": null,
   "metadata": {
    "ExecuteTime": {
     "end_time": "2021-03-31T20:03:31.178003Z",
     "start_time": "2021-03-31T20:03:31.171004Z"
    },
    "scrolled": true
   },
   "outputs": [],
   "source": [
    "a == 20"
   ]
  },
  {
   "cell_type": "markdown",
   "metadata": {
    "ExecuteTime": {
     "end_time": "2021-03-31T16:39:12.400271Z",
     "start_time": "2021-03-31T16:39:12.384635Z"
    }
   },
   "source": [
    "**Nota:** Para el caso del producto matricial, se ocupa `@`.\n",
    "\n"
   ]
  },
  {
   "cell_type": "markdown",
   "metadata": {
    "ExecuteTime": {
     "end_time": "2021-03-31T16:45:24.969756Z",
     "start_time": "2021-03-31T16:45:24.922910Z"
    }
   },
   "source": [
    "<img src=\"./resources/formula_prod_matricial.jpg\" alt=\"Formula prod matricial\" style=\"width: 700px;\"/>"
   ]
  },
  {
   "cell_type": "markdown",
   "metadata": {},
   "source": [
    "<img src=\"./resources/prod_matricial.jpg\" alt=\"Producto Matricial\" width=250/>"
   ]
  },
  {
   "cell_type": "code",
   "execution_count": null,
   "metadata": {
    "ExecuteTime": {
     "end_time": "2021-03-31T20:04:39.021057Z",
     "start_time": "2021-03-31T20:04:39.016020Z"
    }
   },
   "outputs": [],
   "source": [
    "A = np.array([[1, 1],\n",
    "              [0, 1]])\n",
    "\n",
    "B = np.array([[2, 0],\n",
    "              [3, 4]])"
   ]
  },
  {
   "cell_type": "code",
   "execution_count": null,
   "metadata": {
    "ExecuteTime": {
     "end_time": "2021-03-31T19:06:18.368458Z",
     "start_time": "2021-03-31T19:06:18.352834Z"
    }
   },
   "outputs": [],
   "source": [
    "A * B  # elementwise product"
   ]
  },
  {
   "cell_type": "code",
   "execution_count": null,
   "metadata": {
    "ExecuteTime": {
     "end_time": "2021-03-31T20:04:42.632337Z",
     "start_time": "2021-03-31T20:04:42.625336Z"
    }
   },
   "outputs": [],
   "source": [
    "A @ B  # producto punto"
   ]
  },
  {
   "cell_type": "code",
   "execution_count": null,
   "metadata": {
    "ExecuteTime": {
     "end_time": "2021-03-31T20:04:47.938655Z",
     "start_time": "2021-03-31T20:04:47.922657Z"
    }
   },
   "outputs": [],
   "source": [
    "A.dot(B)  # another matrix product"
   ]
  },
  {
   "cell_type": "markdown",
   "metadata": {},
   "source": [
    "#### Operaciones sobre los elementos"
   ]
  },
  {
   "cell_type": "code",
   "execution_count": null,
   "metadata": {
    "ExecuteTime": {
     "end_time": "2021-03-31T20:04:57.652357Z",
     "start_time": "2021-03-31T20:04:57.644359Z"
    }
   },
   "outputs": [],
   "source": [
    "a = np.arange(0, 15, 1).reshape(3, 5)\n",
    "a"
   ]
  },
  {
   "cell_type": "code",
   "execution_count": null,
   "metadata": {
    "ExecuteTime": {
     "end_time": "2021-03-31T20:05:32.620288Z",
     "start_time": "2021-03-31T20:05:32.602290Z"
    }
   },
   "outputs": [],
   "source": [
    "a.sum()"
   ]
  },
  {
   "cell_type": "code",
   "execution_count": null,
   "metadata": {
    "ExecuteTime": {
     "end_time": "2021-03-31T20:05:49.513254Z",
     "start_time": "2021-03-31T20:05:49.498251Z"
    }
   },
   "outputs": [],
   "source": [
    "a.sum(axis=0)"
   ]
  },
  {
   "cell_type": "code",
   "execution_count": null,
   "metadata": {
    "ExecuteTime": {
     "end_time": "2021-03-31T20:06:02.477934Z",
     "start_time": "2021-03-31T20:06:02.457936Z"
    }
   },
   "outputs": [],
   "source": [
    "a.sum(axis=1)"
   ]
  },
  {
   "cell_type": "code",
   "execution_count": null,
   "metadata": {
    "ExecuteTime": {
     "end_time": "2021-03-31T20:06:19.293098Z",
     "start_time": "2021-03-31T20:06:19.289067Z"
    }
   },
   "outputs": [],
   "source": [
    "a.min()"
   ]
  },
  {
   "cell_type": "code",
   "execution_count": null,
   "metadata": {
    "ExecuteTime": {
     "end_time": "2021-03-31T20:06:22.387130Z",
     "start_time": "2021-03-31T20:06:22.368132Z"
    }
   },
   "outputs": [],
   "source": [
    "a.max()"
   ]
  },
  {
   "cell_type": "code",
   "execution_count": null,
   "metadata": {
    "ExecuteTime": {
     "end_time": "2021-03-31T19:06:18.515634Z",
     "start_time": "2021-03-31T19:06:18.499978Z"
    }
   },
   "outputs": [],
   "source": [
    "a.max(axis=1)"
   ]
  },
  {
   "cell_type": "markdown",
   "metadata": {},
   "source": [
    "> **Pregunta ❓**: ¿Qué sucede cuando hay más de 2 dimensiones?"
   ]
  },
  {
   "cell_type": "code",
   "execution_count": null,
   "metadata": {
    "ExecuteTime": {
     "end_time": "2021-03-31T20:06:43.635522Z",
     "start_time": "2021-03-31T20:06:43.616522Z"
    }
   },
   "outputs": [],
   "source": [
    "puntos_t"
   ]
  },
  {
   "cell_type": "code",
   "execution_count": null,
   "metadata": {
    "ExecuteTime": {
     "end_time": "2021-03-31T20:07:12.449722Z",
     "start_time": "2021-03-31T20:07:12.445658Z"
    },
    "scrolled": true
   },
   "outputs": [],
   "source": [
    "# Idea: máximo sobre los vértices y los tetraedros que cambian en el tiempo\n",
    "# entrega el tetraedro más grande.\n",
    "\n",
    "m_a0 = puntos_t.max(axis=0, keepdims=True)\n",
    "print(m_a0.shape)\n",
    "print(m_a0)"
   ]
  },
  {
   "cell_type": "code",
   "execution_count": null,
   "metadata": {
    "ExecuteTime": {
     "end_time": "2021-03-31T20:08:15.830419Z",
     "start_time": "2021-03-31T20:08:15.812420Z"
    }
   },
   "outputs": [],
   "source": [
    "# Idea: máximo sobre el tiempo y sobre las coordenadas en particular\n",
    "# entrega el conjunto de coordenadas máximas por cada tetraedro\n",
    "m_a1 = puntos_t.max(axis=1, keepdims=True)\n",
    "print(m_a1.shape)\n",
    "print(m_a1)"
   ]
  },
  {
   "cell_type": "code",
   "execution_count": null,
   "metadata": {
    "ExecuteTime": {
     "end_time": "2021-03-31T20:08:19.636336Z",
     "start_time": "2021-03-31T20:08:19.631335Z"
    }
   },
   "outputs": [],
   "source": [
    "# Idea: máximo sobre el tiempo y el máximo de cada punto\n",
    "# entrega la coordenada máxima de cada vértice para todos los tetraedros en el tiempo\n",
    "\n",
    "m_a2 = puntos_t.max(axis=2, keepdims=True)\n",
    "print(m_a2.shape)\n",
    "print(m_a2)"
   ]
  },
  {
   "cell_type": "markdown",
   "metadata": {},
   "source": [
    "### Funciones Universales\n",
    "\n",
    "Operaciones elemento a elemento aplicadas a arreglos.\n",
    "\n",
    "Ejemplo:`sen, cos, exp, sqrt, log, etc...`"
   ]
  },
  {
   "cell_type": "code",
   "execution_count": null,
   "metadata": {
    "ExecuteTime": {
     "end_time": "2021-03-31T20:08:56.565077Z",
     "start_time": "2021-03-31T20:08:56.558077Z"
    }
   },
   "outputs": [],
   "source": [
    "B = np.arange(3)\n",
    "B"
   ]
  },
  {
   "cell_type": "code",
   "execution_count": null,
   "metadata": {
    "ExecuteTime": {
     "end_time": "2021-03-31T20:08:58.241091Z",
     "start_time": "2021-03-31T20:08:58.235076Z"
    }
   },
   "outputs": [],
   "source": [
    "np.exp(B)"
   ]
  },
  {
   "cell_type": "code",
   "execution_count": null,
   "metadata": {
    "ExecuteTime": {
     "end_time": "2021-03-31T20:08:59.540077Z",
     "start_time": "2021-03-31T20:08:59.529077Z"
    }
   },
   "outputs": [],
   "source": [
    "np.sqrt(B)"
   ]
  },
  {
   "cell_type": "markdown",
   "metadata": {},
   "source": [
    "### Reshape"
   ]
  },
  {
   "cell_type": "markdown",
   "metadata": {},
   "source": [
    "Usando la función `reshape()` podemos darle un nuevo `shape` sin la necesidad de cambiar los datos.\n",
    "Lo importante es que el nuevo arreglo tenga la misma cantidad de elemento que la antigua.\n"
   ]
  },
  {
   "cell_type": "code",
   "execution_count": null,
   "metadata": {
    "ExecuteTime": {
     "end_time": "2021-03-31T20:09:28.790894Z",
     "start_time": "2021-03-31T20:09:28.772896Z"
    }
   },
   "outputs": [],
   "source": [
    "a = np.arange(6)\n",
    "a"
   ]
  },
  {
   "cell_type": "code",
   "execution_count": null,
   "metadata": {
    "ExecuteTime": {
     "end_time": "2021-03-31T20:09:36.044622Z",
     "start_time": "2021-03-31T20:09:36.038624Z"
    }
   },
   "outputs": [],
   "source": [
    "b = a.reshape(3, 2)\n",
    "b"
   ]
  },
  {
   "cell_type": "code",
   "execution_count": null,
   "metadata": {
    "ExecuteTime": {
     "end_time": "2021-03-31T20:09:45.202623Z",
     "start_time": "2021-03-31T20:09:45.195628Z"
    },
    "scrolled": true
   },
   "outputs": [],
   "source": [
    "c = a.reshape(1, 3, 2)  # Agregamos un nuevo axis.\n",
    "c"
   ]
  },
  {
   "cell_type": "markdown",
   "metadata": {},
   "source": [
    "También podemos agregar nuevos axis usando `np.newaxis`"
   ]
  },
  {
   "cell_type": "code",
   "execution_count": null,
   "metadata": {
    "ExecuteTime": {
     "end_time": "2021-03-31T20:09:57.969569Z",
     "start_time": "2021-03-31T20:09:57.959568Z"
    }
   },
   "outputs": [],
   "source": [
    "a = np.array([1, 2, 3, 4, 5, 6])\n",
    "\n",
    "a.shape"
   ]
  },
  {
   "cell_type": "code",
   "execution_count": null,
   "metadata": {
    "ExecuteTime": {
     "end_time": "2021-03-31T20:10:03.613103Z",
     "start_time": "2021-03-31T20:10:03.596105Z"
    }
   },
   "outputs": [],
   "source": [
    "a2 = a[np.newaxis, :]\n",
    "\n",
    "a2.shape"
   ]
  },
  {
   "cell_type": "code",
   "execution_count": null,
   "metadata": {
    "ExecuteTime": {
     "end_time": "2021-03-31T20:10:14.698574Z",
     "start_time": "2021-03-31T20:10:14.691572Z"
    }
   },
   "outputs": [],
   "source": [
    "a2"
   ]
  },
  {
   "cell_type": "markdown",
   "metadata": {},
   "source": [
    "Y con `expand_dims`."
   ]
  },
  {
   "cell_type": "code",
   "execution_count": null,
   "metadata": {
    "ExecuteTime": {
     "end_time": "2021-03-31T20:10:32.519770Z",
     "start_time": "2021-03-31T20:10:32.515771Z"
    },
    "scrolled": true
   },
   "outputs": [],
   "source": [
    "b = np.expand_dims(a, axis=0)\n",
    "b.shape"
   ]
  },
  {
   "cell_type": "code",
   "execution_count": null,
   "metadata": {
    "ExecuteTime": {
     "end_time": "2021-03-31T20:10:42.115647Z",
     "start_time": "2021-03-31T20:10:42.110647Z"
    }
   },
   "outputs": [],
   "source": [
    "b"
   ]
  },
  {
   "cell_type": "code",
   "execution_count": null,
   "metadata": {
    "ExecuteTime": {
     "end_time": "2021-03-31T20:10:47.281925Z",
     "start_time": "2021-03-31T20:10:47.276926Z"
    }
   },
   "outputs": [],
   "source": [
    "c = np.expand_dims(a, axis=1)\n",
    "c.shape"
   ]
  },
  {
   "cell_type": "code",
   "execution_count": null,
   "metadata": {
    "ExecuteTime": {
     "end_time": "2021-03-31T20:10:49.835980Z",
     "start_time": "2021-03-31T20:10:49.823970Z"
    }
   },
   "outputs": [],
   "source": [
    "c"
   ]
  },
  {
   "cell_type": "markdown",
   "metadata": {},
   "source": [
    "En cuanto a las **funcionalidades básicas de álgebra lineal**, se encuentra la inversa una matriz:"
   ]
  },
  {
   "cell_type": "code",
   "execution_count": null,
   "metadata": {
    "ExecuteTime": {
     "end_time": "2021-03-31T19:06:18.869841Z",
     "start_time": "2021-03-31T19:06:18.854219Z"
    }
   },
   "outputs": [],
   "source": [
    "A = np.array([[1, -2, 2, 2], [0, 4, -2, 1], [1, -2, 4, 0], [1, -1, 2, 2]])\n",
    "A_inv = np.linalg.inv(A)\n",
    "\n",
    "print(\"A:\\n\", A, \"\\n\")\n",
    "print(\"Inversa de A:\\n\", A_inv)"
   ]
  },
  {
   "cell_type": "markdown",
   "metadata": {},
   "source": [
    "La matriz identidad"
   ]
  },
  {
   "cell_type": "code",
   "execution_count": null,
   "metadata": {
    "ExecuteTime": {
     "end_time": "2021-03-31T19:06:18.901092Z",
     "start_time": "2021-03-31T19:06:18.869841Z"
    }
   },
   "outputs": [],
   "source": [
    "# Identidad matricial\n",
    "\n",
    "I1 = np.matmul(A, A_inv)\n",
    "I2 = np.eye(4)  # Matriz identidad de dimension 4x4\n",
    "\n",
    "print(\"I1:\\n\", I1, \"\\n\")\n",
    "print(\"I2:\\n\", I2)"
   ]
  },
  {
   "cell_type": "markdown",
   "metadata": {},
   "source": [
    "### Stacks\n",
    "\n",
    "\n",
    "Vertical stack: Se posiciona el arreglo de la izquierda por \n",
    "sobre el derecho. \n",
    "\n"
   ]
  },
  {
   "cell_type": "code",
   "execution_count": null,
   "metadata": {
    "ExecuteTime": {
     "end_time": "2021-03-31T19:06:18.916718Z",
     "start_time": "2021-03-31T19:06:18.901092Z"
    }
   },
   "outputs": [],
   "source": [
    "X = np.array([1, 2, 3])\n",
    "Y = np.ones_like(X)\n",
    "\n",
    "np.vstack([X, Y])"
   ]
  },
  {
   "cell_type": "markdown",
   "metadata": {},
   "source": [
    "Usando esto podemos acomodar nuevos valores para, por ejemplo, aplicar regresión lineal."
   ]
  },
  {
   "cell_type": "code",
   "execution_count": null,
   "metadata": {
    "ExecuteTime": {
     "end_time": "2021-03-31T19:06:18.938861Z",
     "start_time": "2021-03-31T19:06:18.916718Z"
    }
   },
   "outputs": [],
   "source": [
    "Z = np.vstack([X,Y])\n",
    "Z.T"
   ]
  },
  {
   "cell_type": "markdown",
   "metadata": {},
   "source": [
    "por otra parte `.hstack()`, que opera de manera similar a `.vstack()` pero de manera horizontal."
   ]
  },
  {
   "cell_type": "code",
   "execution_count": null,
   "metadata": {
    "ExecuteTime": {
     "end_time": "2021-03-31T19:06:18.954488Z",
     "start_time": "2021-03-31T19:06:18.938861Z"
    }
   },
   "outputs": [],
   "source": [
    "Z = np.hstack([X,Y])\n",
    "Z"
   ]
  },
  {
   "cell_type": "markdown",
   "metadata": {},
   "source": [
    "###  Queries\n",
    "\n",
    "Selección de datos por medio de consultas, en este caso lógicas."
   ]
  },
  {
   "cell_type": "code",
   "execution_count": null,
   "metadata": {},
   "outputs": [],
   "source": [
    "a = np.array([[1, 2, 3, 4], \n",
    "              [5, 6, 7, 8], \n",
    "              [9, 10, 11, 12]])"
   ]
  },
  {
   "cell_type": "code",
   "execution_count": null,
   "metadata": {},
   "outputs": [],
   "source": [
    "a > 3"
   ]
  },
  {
   "cell_type": "code",
   "execution_count": null,
   "metadata": {
    "ExecuteTime": {
     "end_time": "2021-03-31T19:06:18.985738Z",
     "start_time": "2021-03-31T19:06:18.970115Z"
    },
    "scrolled": true
   },
   "outputs": [],
   "source": [
    "mayor3 = a[a > 3]\n",
    "mayor3"
   ]
  },
  {
   "cell_type": "markdown",
   "metadata": {},
   "source": [
    "> **Pregunta ❓**: ¿Qué implicancia podría tener esta funcionalidad a futuro?"
   ]
  },
  {
   "cell_type": "markdown",
   "metadata": {},
   "source": [
    "### Vistas y Copias"
   ]
  },
  {
   "cell_type": "markdown",
   "metadata": {},
   "source": [
    "Recuerden que los nombres son referencias!"
   ]
  },
  {
   "cell_type": "code",
   "execution_count": null,
   "metadata": {
    "ExecuteTime": {
     "end_time": "2021-03-31T20:11:52.773279Z",
     "start_time": "2021-03-31T20:11:52.763281Z"
    }
   },
   "outputs": [],
   "source": [
    "a = np.array([[0, 1, 2, 3], \n",
    "              [4, 5, 6, 7], \n",
    "              [8, 9, 10, 11]])\n",
    "\n",
    "b = a  \n",
    "b is a"
   ]
  },
  {
   "cell_type": "code",
   "execution_count": null,
   "metadata": {
    "ExecuteTime": {
     "end_time": "2021-03-31T20:11:59.736477Z",
     "start_time": "2021-03-31T20:11:59.725477Z"
    }
   },
   "outputs": [],
   "source": [
    "b[0,0] = 999\n",
    "a"
   ]
  },
  {
   "cell_type": "markdown",
   "metadata": {},
   "source": [
    "**View**\n",
    "\n",
    "View crea un nuevo arreglo con los mismos datos, pero no le pertenecen"
   ]
  },
  {
   "cell_type": "code",
   "execution_count": null,
   "metadata": {
    "ExecuteTime": {
     "end_time": "2021-03-31T19:06:19.039138Z",
     "start_time": "2021-03-31T19:06:19.016994Z"
    }
   },
   "outputs": [],
   "source": [
    "a = np.array([[0, 1, 2, 3], \n",
    "              [4, 5, 6, 7], \n",
    "              [8, 9, 10, 11]])\n",
    "\n",
    "c = a.view()\n",
    "\n",
    "c is a        "
   ]
  },
  {
   "cell_type": "code",
   "execution_count": null,
   "metadata": {
    "ExecuteTime": {
     "end_time": "2021-03-31T19:06:19.054764Z",
     "start_time": "2021-03-31T19:06:19.039138Z"
    }
   },
   "outputs": [],
   "source": [
    "c.base is a     "
   ]
  },
  {
   "cell_type": "code",
   "execution_count": null,
   "metadata": {
    "ExecuteTime": {
     "end_time": "2021-03-31T19:06:19.070390Z",
     "start_time": "2021-03-31T19:06:19.054764Z"
    }
   },
   "outputs": [],
   "source": [
    "c.flags.owndata"
   ]
  },
  {
   "cell_type": "code",
   "execution_count": null,
   "metadata": {
    "ExecuteTime": {
     "end_time": "2021-03-31T19:06:19.086013Z",
     "start_time": "2021-03-31T19:06:19.070390Z"
    }
   },
   "outputs": [],
   "source": [
    "c[0,0] = 1234         \n",
    "a"
   ]
  },
  {
   "cell_type": "markdown",
   "metadata": {},
   "source": [
    "**Copy**"
   ]
  },
  {
   "cell_type": "code",
   "execution_count": null,
   "metadata": {
    "ExecuteTime": {
     "end_time": "2021-03-31T20:12:31.395527Z",
     "start_time": "2021-03-31T20:12:31.386529Z"
    }
   },
   "outputs": [],
   "source": [
    "a = np.array([[0, 1, 2, 3], \n",
    "              [4, 5, 6, 7], \n",
    "              [8, 9, 10, 11]])\n",
    "\n",
    "d = a.copy()         "
   ]
  },
  {
   "cell_type": "code",
   "execution_count": null,
   "metadata": {
    "ExecuteTime": {
     "end_time": "2021-03-31T20:12:33.985689Z",
     "start_time": "2021-03-31T20:12:33.965689Z"
    }
   },
   "outputs": [],
   "source": [
    "d is a "
   ]
  },
  {
   "cell_type": "code",
   "execution_count": null,
   "metadata": {
    "ExecuteTime": {
     "end_time": "2021-03-31T20:12:45.854429Z",
     "start_time": "2021-03-31T20:12:45.835429Z"
    }
   },
   "outputs": [],
   "source": [
    "d[0,0] = 999\n",
    "d"
   ]
  },
  {
   "cell_type": "code",
   "execution_count": null,
   "metadata": {
    "ExecuteTime": {
     "end_time": "2021-03-31T20:12:49.834057Z",
     "start_time": "2021-03-31T20:12:49.824057Z"
    }
   },
   "outputs": [],
   "source": [
    "a"
   ]
  },
  {
   "cell_type": "markdown",
   "metadata": {},
   "source": [
    "### Broadcasting\n",
    "\n",
    "El Broadcasting es como numpy trata las operaciones entre arreglos con diferentes tamaños, como por ejemplo, un escalar por una matriz. A continuación un ejemplo sencillo:\n"
   ]
  },
  {
   "cell_type": "code",
   "execution_count": null,
   "metadata": {
    "ExecuteTime": {
     "end_time": "2021-03-31T20:14:11.168032Z",
     "start_time": "2021-03-31T20:14:11.149018Z"
    }
   },
   "outputs": [],
   "source": [
    "a = np.array([1.0, 2.0, 3.0])\n",
    "b = np.array([2.0, 2.0, 2.0])\n",
    "a * b"
   ]
  },
  {
   "cell_type": "code",
   "execution_count": null,
   "metadata": {},
   "outputs": [],
   "source": [
    "[(1.0 * 2.0), (2.0 * 2.0), (3.0 * 2.0)]"
   ]
  },
  {
   "cell_type": "code",
   "execution_count": null,
   "metadata": {
    "ExecuteTime": {
     "end_time": "2021-03-31T20:14:12.517431Z",
     "start_time": "2021-03-31T20:14:12.499398Z"
    }
   },
   "outputs": [],
   "source": [
    "2 * a"
   ]
  },
  {
   "cell_type": "markdown",
   "metadata": {},
   "source": [
    "Si bien hicimos la misma operación, estas se diferencian en que en la primera operación hicimos un arreglo del mismo tamaño para multiplicar elemento a elemento y en la segunda ocupamos el escalar directamente. \n",
    "\n",
    "Ahora imagínense un arreglo de miles de millones de elementos y tener que multiplicarlos por dos de la primera forma. Obviamente la segúnda forma será mas eficiente y esto es lo que numpy implementa eficientemente a través del *broadcasting*."
   ]
  },
  {
   "cell_type": "markdown",
   "metadata": {
    "ExecuteTime": {
     "end_time": "2021-03-31T18:17:04.537013Z",
     "start_time": "2021-03-31T18:17:04.490090Z"
    }
   },
   "source": [
    "![Broadcasting en el ejemplo anterior](./resources/boradcasting_1.gif)\n"
   ]
  },
  {
   "cell_type": "markdown",
   "metadata": {},
   "source": [
    "El broadcasting no se limita solo a escalares, si no también que podemos usarlos con arreglos. A continuación, un ejemplo de aquello:"
   ]
  },
  {
   "cell_type": "markdown",
   "metadata": {
    "ExecuteTime": {
     "end_time": "2021-03-31T18:17:54.022774Z",
     "start_time": "2021-03-31T18:17:53.975859Z"
    }
   },
   "source": [
    "![Broadcasting en el ejemplo anterior](./resources/boradcasting_2.gif)\n"
   ]
  },
  {
   "cell_type": "markdown",
   "metadata": {},
   "source": [
    "En este ejemplo, un caso en donde el broadcasting no funciona, ya que no calzan las dimensiones:"
   ]
  },
  {
   "cell_type": "markdown",
   "metadata": {
    "ExecuteTime": {
     "end_time": "2021-03-31T18:19:55.362212Z",
     "start_time": "2021-03-31T18:19:55.327167Z"
    }
   },
   "source": [
    "![Broadcasting en el ejemplo anterior](./resources/boradcasting_3.gif)\n"
   ]
  },
  {
   "cell_type": "markdown",
   "metadata": {
    "ExecuteTime": {
     "end_time": "2021-03-31T18:22:33.504518Z",
     "start_time": "2021-03-31T18:22:33.488893Z"
    }
   },
   "source": [
    "> **Pregunta ❓**: ¿Qué habría que hacer aquí para que esta operación funcione?"
   ]
  },
  {
   "cell_type": "code",
   "execution_count": null,
   "metadata": {
    "ExecuteTime": {
     "end_time": "2021-03-31T19:13:48.619503Z",
     "start_time": "2021-03-31T19:13:48.604459Z"
    }
   },
   "outputs": [],
   "source": [
    "a = np.ones((4,3))* 10\n",
    "a"
   ]
  },
  {
   "cell_type": "code",
   "execution_count": null,
   "metadata": {
    "ExecuteTime": {
     "end_time": "2021-03-31T19:13:49.859027Z",
     "start_time": "2021-03-31T19:13:49.842480Z"
    }
   },
   "outputs": [],
   "source": [
    "b = np.ones(4)\n",
    "b"
   ]
  },
  {
   "cell_type": "code",
   "execution_count": null,
   "metadata": {
    "ExecuteTime": {
     "end_time": "2021-03-31T19:13:50.516828Z",
     "start_time": "2021-03-31T19:13:50.506789Z"
    }
   },
   "outputs": [],
   "source": [
    "a + b"
   ]
  },
  {
   "cell_type": "code",
   "execution_count": null,
   "metadata": {
    "ExecuteTime": {
     "end_time": "2021-03-31T19:13:53.074126Z",
     "start_time": "2021-03-31T19:13:53.058125Z"
    }
   },
   "outputs": [],
   "source": [
    "a + b.reshape(4, -1)"
   ]
  },
  {
   "cell_type": "markdown",
   "metadata": {
    "ExecuteTime": {
     "end_time": "2021-03-31T18:20:19.372060Z",
     "start_time": "2021-03-31T18:20:19.356422Z"
    }
   },
   "source": [
    "Más información en el siguiente [link](https://numpy.org/doc/stable/user/theory.broadcasting.html#array-broadcasting-in-numpy)."
   ]
  },
  {
   "cell_type": "markdown",
   "metadata": {},
   "source": [
    "## Scipy\n",
    "\n",
    "SciPy es una colección de algoritmos y funciones comunes implementadas sobre NumPy. Agrega comandos de alto nivel y clases para la manipulación e incluso visualización de datos. Es posible encontrar información relevante para el curso [aqui](https://docs.scipy.org/doc/scipy/reference/tutorial/index.html).\n",
    "\n",
    "A diferencia de las librerías ya trabajadas, se recomienda cargar las funcionalidades de SciPy a través de sus sub-módulos, estos son:\n",
    "\n",
    "* `cluster`: Algoritmos de aglomeración (clustering)\n",
    "* `constants`: Constantes matemáticas y físicas\n",
    "* `fftpack`: rutinas de transformada de Fourier rápida\n",
    "* `integrate`: Integración y solvers de EDO's\n",
    "* `interpolate`: Interpolación y splines\n",
    "* `io`: Input - output\n",
    "* `linalg`: Álgebra lineal\n",
    "* `ndimage`: Procesamiento de imágenes N-dimensionales\n",
    "* `odr`: Regresión de distancias ortogonal\n",
    "* `optimize`: Módulo de optimización \n",
    "* `signal`: Procesamiento de señales\n",
    "* `sparse`: Manejo de matrices sparse\n",
    "* `spatial`: Estructuras de datos espaciales\n",
    "* `special`: Funciones especiales\n",
    "* `stats`: Distribuciones y funciones estadísticas"
   ]
  },
  {
   "cell_type": "markdown",
   "metadata": {},
   "source": [
    "A continuación veremos brevemente algunos ejemplos con los módulos de estadística, interpolación y optimización. \n",
    "\n",
    "En primer lugar, el modulo de distribuciones y funciones estadísticas se importa por medio de:"
   ]
  },
  {
   "cell_type": "code",
   "execution_count": null,
   "metadata": {
    "ExecuteTime": {
     "end_time": "2021-03-31T20:18:54.724760Z",
     "start_time": "2021-03-31T20:18:54.095757Z"
    }
   },
   "outputs": [],
   "source": [
    "from scipy import stats"
   ]
  },
  {
   "cell_type": "markdown",
   "metadata": {},
   "source": [
    "En este módulo se pueden encontrar clases dedicadas a variables aleatorias tanto discretas como continuas. Cada variable aleatoria de SciPy esta provista de métodos públicos como:\n",
    "- `.rvs()` para la obtención de muestras aleatorias\n",
    "- `.pdf()` que contiene su función de densidad de probabilidad asociada\n",
    "- `.cdf()` que contiene su función de distribución acumulada, \n",
    "- `.stats()` que retorna estadísticos como la media y varianza, entre otros métodos.\n",
    "\n",
    "**Ejemplo**\n",
    "\n",
    "Cómo generar una variable aleatoria $\\mathcal{N}(0,1)$:\n",
    "\n",
    "<img src=\"./resources/norm_01_pdf.jpg\" alt=\"Función de densidad de probabilidad\" style=\"width: 500px;\"/>\n",
    "<center>Función de densidad de probabilidad </center>\n",
    "\n",
    "<img src=\"./resources/norm_01_cdf.jpg\" alt=\"Función de distribución acumulada\" style=\"width: 500px;\"/>\n",
    "<center>Función de distribución acumulada </center>"
   ]
  },
  {
   "cell_type": "code",
   "execution_count": null,
   "metadata": {
    "ExecuteTime": {
     "end_time": "2021-03-31T20:19:33.617434Z",
     "start_time": "2021-03-31T20:19:33.603436Z"
    }
   },
   "outputs": [],
   "source": [
    "normal = stats.norm()\n",
    "\n",
    "# Estadisticos\n",
    "print(\"('media','varianza'):\", normal.stats())"
   ]
  },
  {
   "cell_type": "code",
   "execution_count": null,
   "metadata": {},
   "outputs": [],
   "source": [
    "# Algunas muestras\n",
    "print('4 muestras: ', normal.rvs(size=4))"
   ]
  },
  {
   "cell_type": "markdown",
   "metadata": {},
   "source": [
    "#### Ajuste de distribuciones\n",
    "\n",
    "Como método adicional una distribución de probabilidad de SciPy posee los métodos `.fit()` para ajustar parámetros de la distribución objetivo mediante máxima verosimilitud. `.fit_loc_scale()` para estimar los parámetros de traslación y escalamiento. `.nnlf()` la función de log versimilutd negativa y `.expect()` el valor esperado de cierta función contra la `pdf` (o `pmf` en el caso discreto).\n",
    "\n",
    "\n",
    "> **Ejemplo** Ajustar una distribución de la estatura en Chile"
   ]
  },
  {
   "cell_type": "code",
   "execution_count": null,
   "metadata": {
    "ExecuteTime": {
     "end_time": "2021-03-31T20:20:29.929054Z",
     "start_time": "2021-03-31T20:20:29.924054Z"
    }
   },
   "outputs": [],
   "source": [
    "sample = [\n",
    "    163.445, 155.388, 162.915, 189.496, 170.786, 143.99, 169.676, 165.638,\n",
    "    183.385, 154.783, 158.739, 149.224, 150.83, 187.672, 154.716, 176.548,\n",
    "    164.658, 158.191, 209.785, 171.219, 172.579, 142.78, 178.892, 192.484,\n",
    "    208.407\n",
    "]  # numeros aleatorios..."
   ]
  },
  {
   "cell_type": "code",
   "execution_count": null,
   "metadata": {
    "ExecuteTime": {
     "end_time": "2021-03-31T20:20:58.112479Z",
     "start_time": "2021-03-31T20:20:58.105467Z"
    }
   },
   "outputs": [],
   "source": [
    "param_fit = stats.norm.fit(sample)\n",
    "\n",
    "print('Se estima que la media es :', param_fit[0])\n",
    "print('Se estima que la varianza es :', param_fit[1])"
   ]
  },
  {
   "cell_type": "markdown",
   "metadata": {},
   "source": [
    "### Interpolación\n",
    "\n",
    "Existen distintas opciones de interpolación para datos. La función más básica en este apartado es `interp1d` se puede acceder a esta por medio de"
   ]
  },
  {
   "cell_type": "code",
   "execution_count": null,
   "metadata": {
    "ExecuteTime": {
     "end_time": "2021-03-31T20:21:19.807386Z",
     "start_time": "2021-03-31T20:21:19.792387Z"
    }
   },
   "outputs": [],
   "source": [
    "from scipy import interpolate"
   ]
  },
  {
   "cell_type": "markdown",
   "metadata": {},
   "source": [
    "`interp1d` es un método conveniente para la obtención de una función dado un conjunto de datos unidimensional y fijo. Esta función puede ser evaluada en cualquier punto dentro del soporte (o dominio) que ofrece el rango de los datos. Este método es más bien una clase con el método `__call__` sobrecargado, por tal motivo, pueder se utilizado como una función. \n",
    "\n",
    "**Ejemplo**\n",
    "\n",
    "Se genera una malla de puntos en el intervalo $[0,10]$, sobre estos puntos se evalúa una función coseno compuesta con una transformación cuadrática en los puntos."
   ]
  },
  {
   "cell_type": "code",
   "execution_count": null,
   "metadata": {
    "ExecuteTime": {
     "end_time": "2021-03-31T20:21:28.611686Z",
     "start_time": "2021-03-31T20:21:28.599686Z"
    }
   },
   "outputs": [],
   "source": [
    "x = np.arange(0, 11)\n",
    "x"
   ]
  },
  {
   "cell_type": "code",
   "execution_count": null,
   "metadata": {
    "ExecuteTime": {
     "end_time": "2021-03-31T20:21:31.759455Z",
     "start_time": "2021-03-31T20:21:31.744453Z"
    },
    "scrolled": true
   },
   "outputs": [],
   "source": [
    "def f(x):\n",
    "    return np.cos(-5 * x**2)\n",
    "y = f(x)\n",
    "y"
   ]
  },
  {
   "cell_type": "markdown",
   "metadata": {},
   "source": [
    "Se interpolan los puntos de `y` por medio de un interpolador lineal y uno cúbico"
   ]
  },
  {
   "cell_type": "code",
   "execution_count": null,
   "metadata": {
    "ExecuteTime": {
     "end_time": "2021-03-31T20:22:06.776290Z",
     "start_time": "2021-03-31T20:22:06.768287Z"
    }
   },
   "outputs": [],
   "source": [
    "f_linear = interpolate.interp1d(x, y)\n",
    "f_cubic = interpolate.interp1d(x, y, kind='cubic')"
   ]
  },
  {
   "cell_type": "markdown",
   "metadata": {},
   "source": [
    "Se hace más fina el mallado de x"
   ]
  },
  {
   "cell_type": "code",
   "execution_count": null,
   "metadata": {
    "ExecuteTime": {
     "end_time": "2021-03-31T20:22:09.139094Z",
     "start_time": "2021-03-31T20:22:09.119085Z"
    }
   },
   "outputs": [],
   "source": [
    "x_new = np.linspace(0, 10, num=50, endpoint=True)"
   ]
  },
  {
   "cell_type": "markdown",
   "metadata": {},
   "source": [
    "Se evalúan $f(x) = cos(-5x^2)$, `f_linear` y `f_cubic`. Para observar el comportamiento de de estas interpolaciones, es preciso graficar  sus acciones sobre `x_new`. Para ello, se hace uso de la librería `matplotlib` esta librería se estudiará con mayor detenimiento en una cátedra posterior. "
   ]
  },
  {
   "cell_type": "code",
   "execution_count": null,
   "metadata": {
    "ExecuteTime": {
     "end_time": "2021-03-31T20:22:11.096083Z",
     "start_time": "2021-03-31T20:22:10.046093Z"
    },
    "scrolled": false
   },
   "outputs": [],
   "source": [
    "import matplotlib.pyplot as plt\n",
    "\n",
    "plt.plot(x, y, 'o', x_new, f_linear(x_new), '-', x_new, f_cubic(x_new), '--')\n",
    "plt.legend(['real', 'linear', 'cubic'], loc='best')\n",
    "plt.show()"
   ]
  },
  {
   "cell_type": "markdown",
   "metadata": {},
   "source": [
    "Una **función base radial** (RBF) es una función real $\\phi(\\cdot)$ cuyo valor depende solo da la distancia entre su input y algún punto fijo, en un espacio vectorial normado, esto toma la forma $\\phi(\\cdot) = \\phi(|| \\cdot - c||)$ para algún $c$ fijo. Sin perdida de generalidad, se puede considerar que una función RBF es una función que depende de la norma de su input, es decir, cumple $\\phi(x) = \\phi(||x||)$. Por le general, este tipo de funciones se denota por $\\phi(r)$. Dentro de las funciones radiales se encuentran:\n",
    "\n",
    "* Gaussiana: $\\phi(r) = \\exp({-(r/\\varepsilon)^2})$\n",
    "* Lineal: $\\phi(r) = r$\n",
    "* Cúbica: $\\phi(r) = r^3$\n",
    "* Multicuadrática = $\\sqrt{(r/\\varepsilon)^2 +1}$\n",
    "\n",
    "SciPy ofrece un método de interpolación basado en funciones de base radial para datos N-dimensionales. \n",
    "\n",
    "**Ejemplo**\n",
    "\n",
    "Se estudia un ejemplo en 2 dimensiones y se visualiza su resultado. Primero, se genera una malla de puntos según la función $x \\cdot  exp(-x^2 - y^2)$"
   ]
  },
  {
   "cell_type": "code",
   "execution_count": null,
   "metadata": {
    "ExecuteTime": {
     "end_time": "2021-03-31T20:22:39.787687Z",
     "start_time": "2021-03-31T20:22:39.767702Z"
    },
    "code_folding": []
   },
   "outputs": [],
   "source": [
    "# Puntos aleatorios entre -2 y 2 para los ejes x,y\n",
    "\n",
    "x = np.random.rand(1000) * 4.0 - 2.0\n",
    "y = np.random.rand(1000) * 4.0 - 2.0\n",
    "\n",
    "# Función a interpolar\n",
    "def func_2d(x, y):\n",
    "    return x * np.exp(-x**2 - y**2)\n",
    "\n",
    "\n",
    "# Datos con los cuales se interpola\n",
    "z = func_2d(x, y)\n",
    "\n",
    "# grilla 2-d regular entre -2 y 2\n",
    "axis = np.linspace(-2.0, 2.0, 100)\n",
    "'''\n",
    "np.meshgrid(x,y) genera un iterable por medio del producto cartesiano \n",
    "entre x,y, se puede comprobar al ejecutar print((X[0,0],Y[0,0])).\n",
    "'''\n",
    "\n",
    "X, Y = np.meshgrid(axis, axis)"
   ]
  },
  {
   "cell_type": "markdown",
   "metadata": {},
   "source": [
    "Visualizamos en primer lugar el valor de la función en los puntos de la malla aleatoria generada."
   ]
  },
  {
   "cell_type": "code",
   "execution_count": null,
   "metadata": {
    "ExecuteTime": {
     "end_time": "2021-03-31T20:22:42.721686Z",
     "start_time": "2021-03-31T20:22:42.225687Z"
    },
    "scrolled": false
   },
   "outputs": [],
   "source": [
    "from matplotlib import cm\n",
    "\n",
    "plt.figure(figsize=[15, 5])\n",
    "plt.subplot(1, 2, 1)\n",
    "plt.scatter(x, y, s=15, c=z, cmap=cm.jet)\n",
    "plt.title('Función en malla aleatoria')\n",
    "plt.xlim(-2, 2)\n",
    "plt.ylim(-2, 2)\n",
    "plt.colorbar()"
   ]
  },
  {
   "cell_type": "markdown",
   "metadata": {},
   "source": [
    "Se instancia el objeto RBF para que interpole los valores de `z` en los nodos dados por `(x,y)`. La función base a usar será la gaussiana."
   ]
  },
  {
   "cell_type": "code",
   "execution_count": null,
   "metadata": {
    "ExecuteTime": {
     "end_time": "2021-03-31T20:23:31.592732Z",
     "start_time": "2021-03-31T20:23:31.403733Z"
    }
   },
   "outputs": [],
   "source": [
    "'''\n",
    "Se escohe el parámetro epsilon = 2, este controla \n",
    "la suavidad de la interpolacion\n",
    "'''\n",
    "eps = 2\n",
    "rbf = interpolate.Rbf(x, y, z, epsilon=eps)"
   ]
  },
  {
   "cell_type": "markdown",
   "metadata": {},
   "source": [
    "Finalmente se evalúa el interpolador obtenido en los puntos de la malla regular dada por `X` y `Y`."
   ]
  },
  {
   "cell_type": "code",
   "execution_count": null,
   "metadata": {
    "ExecuteTime": {
     "end_time": "2021-03-31T20:23:32.768729Z",
     "start_time": "2021-03-31T20:23:32.442733Z"
    }
   },
   "outputs": [],
   "source": [
    "Z = rbf(X, Y)"
   ]
  },
  {
   "cell_type": "markdown",
   "metadata": {},
   "source": [
    "A continuación se muestra la interpolación en la malla regular"
   ]
  },
  {
   "cell_type": "code",
   "execution_count": null,
   "metadata": {
    "ExecuteTime": {
     "end_time": "2021-03-31T20:23:34.196738Z",
     "start_time": "2021-03-31T20:23:33.811731Z"
    },
    "scrolled": true
   },
   "outputs": [],
   "source": [
    "plt.figure(figsize=[15, 5])\n",
    "plt.subplot(1, 2, 1)\n",
    "plt.pcolor(X, Y, Z, cmap=cm.jet)\n",
    "plt.title('Interpolación RBF gaussiana eps=2')\n",
    "plt.xlim(-2, 2)\n",
    "plt.ylim(-2, 2)"
   ]
  }
 ],
 "metadata": {
  "kernelspec": {
   "display_name": "Python 3",
   "language": "python",
   "name": "python3"
  },
  "language_info": {
   "codemirror_mode": {
    "name": "ipython",
    "version": 3
   },
   "file_extension": ".py",
   "mimetype": "text/x-python",
   "name": "python",
   "nbconvert_exporter": "python",
   "pygments_lexer": "ipython3",
   "version": "3.9.6"
  },
  "nbTranslate": {
   "displayLangs": [
    "es",
    "en"
   ],
   "hotkey": "alt-t",
   "langInMainMenu": true,
   "sourceLang": "en",
   "targetLang": "es",
   "useGoogleTranslate": true
  },
  "toc": {
   "base_numbering": 1,
   "nav_menu": {},
   "number_sections": true,
   "sideBar": true,
   "skip_h1_title": false,
   "title_cell": "Table of Contents",
   "title_sidebar": "Contents",
   "toc_cell": false,
   "toc_position": {
    "height": "calc(100% - 180px)",
    "left": "10px",
    "top": "150px",
    "width": "294.4px"
   },
   "toc_section_display": true,
   "toc_window_display": true
  },
  "varInspector": {
   "cols": {
    "lenName": 16,
    "lenType": 16,
    "lenVar": 40
   },
   "kernels_config": {
    "python": {
     "delete_cmd_postfix": "",
     "delete_cmd_prefix": "del ",
     "library": "var_list.py",
     "varRefreshCmd": "print(var_dic_list())"
    },
    "r": {
     "delete_cmd_postfix": ") ",
     "delete_cmd_prefix": "rm(",
     "library": "var_list.r",
     "varRefreshCmd": "cat(var_dic_list()) "
    }
   },
   "types_to_exclude": [
    "module",
    "function",
    "builtin_function_or_method",
    "instance",
    "_Feature"
   ],
   "window_display": false
  }
 },
 "nbformat": 4,
 "nbformat_minor": 4
}
