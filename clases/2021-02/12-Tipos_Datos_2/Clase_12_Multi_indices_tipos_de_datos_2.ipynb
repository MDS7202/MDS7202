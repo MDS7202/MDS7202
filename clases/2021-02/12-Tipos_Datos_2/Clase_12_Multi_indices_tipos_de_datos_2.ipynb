{
 "cells": [
  {
   "cell_type": "markdown",
   "id": "f50f5226",
   "metadata": {
    "toc": true
   },
   "source": [
    "<h1>Table of Contents<span class=\"tocSkip\"></span></h1>\n",
    "<div class=\"toc\"><ul class=\"toc-item\"><li><span><a href=\"#Objetivos-de-la-Clase\" data-toc-modified-id=\"Objetivos-de-la-Clase-1\"><span class=\"toc-item-num\">1&nbsp;&nbsp;</span>Objetivos de la Clase</a></span><ul class=\"toc-item\"><li><span><a href=\"#Roadmap\" data-toc-modified-id=\"Roadmap-1.1\"><span class=\"toc-item-num\">1.1&nbsp;&nbsp;</span>Roadmap</a></span></li></ul></li><li><span><a href=\"#Datasets-de-Hoy\" data-toc-modified-id=\"Datasets-de-Hoy-2\"><span class=\"toc-item-num\">2&nbsp;&nbsp;</span>Datasets de Hoy</a></span><ul class=\"toc-item\"><li><span><a href=\"#Dataset-de-Temperaturas-Globales\" data-toc-modified-id=\"Dataset-de-Temperaturas-Globales-2.1\"><span class=\"toc-item-num\">2.1&nbsp;&nbsp;</span>Dataset de Temperaturas Globales</a></span></li></ul></li><li><span><a href=\"#Datos-Temporales\" data-toc-modified-id=\"Datos-Temporales-3\"><span class=\"toc-item-num\">3&nbsp;&nbsp;</span>Datos Temporales</a></span><ul class=\"toc-item\"><li><span><a href=\"#Módulo-Datetime\" data-toc-modified-id=\"Módulo-Datetime-3.1\"><span class=\"toc-item-num\">3.1&nbsp;&nbsp;</span>Módulo Datetime</a></span><ul class=\"toc-item\"><li><span><a href=\"#Date\" data-toc-modified-id=\"Date-3.1.1\"><span class=\"toc-item-num\">3.1.1&nbsp;&nbsp;</span>Date</a></span></li><li><span><a href=\"#Datetime\" data-toc-modified-id=\"Datetime-3.1.2\"><span class=\"toc-item-num\">3.1.2&nbsp;&nbsp;</span>Datetime</a></span></li><li><span><a href=\"#Instanciar-nuevos-Date-y-Datetimes\" data-toc-modified-id=\"Instanciar-nuevos-Date-y-Datetimes-3.1.3\"><span class=\"toc-item-num\">3.1.3&nbsp;&nbsp;</span>Instanciar nuevos Date y Datetimes</a></span><ul class=\"toc-item\"><li><span><a href=\"#Desde-timestamp\" data-toc-modified-id=\"Desde-timestamp-3.1.3.1\"><span class=\"toc-item-num\">3.1.3.1&nbsp;&nbsp;</span>Desde timestamp</a></span></li></ul></li><li><span><a href=\"#TimeDelta\" data-toc-modified-id=\"TimeDelta-3.1.4\"><span class=\"toc-item-num\">3.1.4&nbsp;&nbsp;</span>TimeDelta</a></span></li><li><span><a href=\"#Formatear-a-string\" data-toc-modified-id=\"Formatear-a-string-3.1.5\"><span class=\"toc-item-num\">3.1.5&nbsp;&nbsp;</span>Formatear a string</a></span></li></ul></li></ul></li><li><span><a href=\"#Datos-temporales-en-Pandas\" data-toc-modified-id=\"Datos-temporales-en-Pandas-4\"><span class=\"toc-item-num\">4&nbsp;&nbsp;</span>Datos temporales en Pandas</a></span><ul class=\"toc-item\"><li><span><a href=\"#Paréntesis:-Función-Map\" data-toc-modified-id=\"Paréntesis:-Función-Map-4.1\"><span class=\"toc-item-num\">4.1&nbsp;&nbsp;</span>Paréntesis: Función <code>Map</code></a></span></li><li><span><a href=\"#Valores-Inválidos\" data-toc-modified-id=\"Valores-Inválidos-4.2\"><span class=\"toc-item-num\">4.2&nbsp;&nbsp;</span>Valores Inválidos</a></span></li><li><span><a href=\"#Indexado\" data-toc-modified-id=\"Indexado-4.3\"><span class=\"toc-item-num\">4.3&nbsp;&nbsp;</span>Indexado</a></span></li><li><span><a href=\"#Pandas-Timedeltas\" data-toc-modified-id=\"Pandas-Timedeltas-4.4\"><span class=\"toc-item-num\">4.4&nbsp;&nbsp;</span>Pandas Timedeltas</a></span></li></ul></li><li><span><a href=\"#Datos-Categóricos\" data-toc-modified-id=\"Datos-Categóricos-5\"><span class=\"toc-item-num\">5&nbsp;&nbsp;</span>Datos Categóricos</a></span><ul class=\"toc-item\"><li><span><a href=\"#Operaciones-con-categorías\" data-toc-modified-id=\"Operaciones-con-categorías-5.1\"><span class=\"toc-item-num\">5.1&nbsp;&nbsp;</span>Operaciones con categorías</a></span></li><li><span><a href=\"#Nota-sobre-memoria\" data-toc-modified-id=\"Nota-sobre-memoria-5.2\"><span class=\"toc-item-num\">5.2&nbsp;&nbsp;</span>Nota sobre memoria</a></span><ul class=\"toc-item\"><li><span><a href=\"#Usando-Strings\" data-toc-modified-id=\"Usando-Strings-5.2.1\"><span class=\"toc-item-num\">5.2.1&nbsp;&nbsp;</span>Usando Strings</a></span></li><li><span><a href=\"#Usando-Categorías\" data-toc-modified-id=\"Usando-Categorías-5.2.2\"><span class=\"toc-item-num\">5.2.2&nbsp;&nbsp;</span>Usando Categorías</a></span></li></ul></li><li><span><a href=\"#Un-pequeño-merge-con-los-datos-anteriores\" data-toc-modified-id=\"Un-pequeño-merge-con-los-datos-anteriores-5.3\"><span class=\"toc-item-num\">5.3&nbsp;&nbsp;</span>Un pequeño merge con los datos anteriores</a></span></li></ul></li><li><span><a href=\"#Ordinales\" data-toc-modified-id=\"Ordinales-6\"><span class=\"toc-item-num\">6&nbsp;&nbsp;</span>Ordinales</a></span><ul class=\"toc-item\"><li><ul class=\"toc-item\"><li><span><a href=\"#Operaciones-sobre-Series-Categóricas-con-Orden\" data-toc-modified-id=\"Operaciones-sobre-Series-Categóricas-con-Orden-6.0.1\"><span class=\"toc-item-num\">6.0.1&nbsp;&nbsp;</span>Operaciones sobre Series Categóricas con Orden</a></span></li></ul></li><li><span><a href=\"#Ordenar-y-Filtrar-usando-Ordinales\" data-toc-modified-id=\"Ordenar-y-Filtrar-usando-Ordinales-6.1\"><span class=\"toc-item-num\">6.1&nbsp;&nbsp;</span>Ordenar y Filtrar usando Ordinales</a></span></li><li><span><a href=\"#Nota-sobre-Merge-con-id-repetidos\" data-toc-modified-id=\"Nota-sobre-Merge-con-id-repetidos-6.2\"><span class=\"toc-item-num\">6.2&nbsp;&nbsp;</span>Nota sobre Merge con id repetidos</a></span></li></ul></li><li><span><a href=\"#Anexo:-Cómo-Combinar-dos-Filtros/Máscaras-Booleanas\" data-toc-modified-id=\"Anexo:-Cómo-Combinar-dos-Filtros/Máscaras-Booleanas-7\"><span class=\"toc-item-num\">7&nbsp;&nbsp;</span>Anexo: Cómo Combinar dos Filtros/Máscaras Booleanas</a></span></li></ul></div>"
   ]
  },
  {
   "cell_type": "markdown",
   "id": "9327f25f",
   "metadata": {},
   "source": [
    "# Clase 12:  Tipos de Datos 2\n",
    "\n",
    "**MDS7202: Laboratorio de Programación Científica para Ciencia de Datos**\n",
    "\n",
    "**Profesor: Pablo Badilla**\n",
    "\n",
    "## Objetivos de la Clase\n",
    "\n",
    "- Comprender como unir distintas fuentes de datos a partir de `concatenaciones` y `merge`.\n",
    "\n",
    "### Roadmap\n",
    "\n",
    "\n",
    "**Unidad 2: Manejo de Datos con Pandas y AED**\n",
    "\n",
    "- [X] Introducción a pandas: DataFrames, Series, Operaciones básicas y Filtrado.\n",
    "- [X] Agregaciones.\n",
    "- [X] Visualizaciones interactivas usando Plotly.\n",
    "- [X] Concatenaciones y Merge de Dataframes.\n",
    "- [X] Multi-índices y Trabajo con strings\n",
    "- [ ]  Trabajo con datos temporales, categóricos y ordinales en Pandas.\n",
    "- [ ] Análisis exploratorio de Datos (AED)."
   ]
  },
  {
   "cell_type": "code",
   "execution_count": 1,
   "id": "1dcf9355",
   "metadata": {},
   "outputs": [],
   "source": [
    "import pandas as pd"
   ]
  },
  {
   "cell_type": "markdown",
   "id": "d6125564",
   "metadata": {},
   "source": [
    "## Datasets de Hoy\n"
   ]
  },
  {
   "cell_type": "markdown",
   "id": "dc5e20a4",
   "metadata": {},
   "source": [
    "### Dataset de Temperaturas Globales\n",
    "\n",
    "![wbg_climate](./resources/wbg_climate.png)\n",
    "\n",
    "\n",
    "https://climateknowledgeportal.worldbank.org/download-data"
   ]
  },
  {
   "cell_type": "code",
   "execution_count": 2,
   "id": "d2164c98",
   "metadata": {},
   "outputs": [
    {
     "data": {
      "text/html": [
       "<div>\n",
       "<style scoped>\n",
       "    .dataframe tbody tr th:only-of-type {\n",
       "        vertical-align: middle;\n",
       "    }\n",
       "\n",
       "    .dataframe tbody tr th {\n",
       "        vertical-align: top;\n",
       "    }\n",
       "\n",
       "    .dataframe thead th {\n",
       "        text-align: right;\n",
       "    }\n",
       "</style>\n",
       "<table border=\"1\" class=\"dataframe\">\n",
       "  <thead>\n",
       "    <tr style=\"text-align: right;\">\n",
       "      <th></th>\n",
       "      <th>Temperature</th>\n",
       "      <th>Year</th>\n",
       "      <th>Month</th>\n",
       "      <th>Country</th>\n",
       "      <th>ISO3</th>\n",
       "    </tr>\n",
       "  </thead>\n",
       "  <tbody>\n",
       "    <tr>\n",
       "      <th>0</th>\n",
       "      <td>-0.03110</td>\n",
       "      <td>1991</td>\n",
       "      <td>Jan</td>\n",
       "      <td>Afghanistan</td>\n",
       "      <td>AFG</td>\n",
       "    </tr>\n",
       "    <tr>\n",
       "      <th>1</th>\n",
       "      <td>1.43654</td>\n",
       "      <td>1991</td>\n",
       "      <td>Feb</td>\n",
       "      <td>Afghanistan</td>\n",
       "      <td>AFG</td>\n",
       "    </tr>\n",
       "    <tr>\n",
       "      <th>2</th>\n",
       "      <td>6.88685</td>\n",
       "      <td>1991</td>\n",
       "      <td>Mar</td>\n",
       "      <td>Afghanistan</td>\n",
       "      <td>AFG</td>\n",
       "    </tr>\n",
       "  </tbody>\n",
       "</table>\n",
       "</div>"
      ],
      "text/plain": [
       "   Temperature  Year Month      Country ISO3\n",
       "0     -0.03110  1991   Jan  Afghanistan  AFG\n",
       "1      1.43654  1991   Feb  Afghanistan  AFG\n",
       "2      6.88685  1991   Mar  Afghanistan  AFG"
      ]
     },
     "execution_count": 2,
     "metadata": {},
     "output_type": "execute_result"
    }
   ],
   "source": [
    "temp_df = pd.read_csv(\"./resources/temperature.csv\")\n",
    "temp_df.head(3)"
   ]
  },
  {
   "cell_type": "code",
   "execution_count": 3,
   "id": "82cdc68b",
   "metadata": {},
   "outputs": [],
   "source": [
    "pd.set_option('display.max_colwidth', None)"
   ]
  },
  {
   "cell_type": "markdown",
   "id": "970b18bd",
   "metadata": {},
   "source": [
    "## Datos Temporales"
   ]
  },
  {
   "cell_type": "markdown",
   "id": "f332a037",
   "metadata": {},
   "source": [
    "### Módulo Datetime\n",
    "\n",
    "Módulo built-in de python enfocado en manejar fechas y horas."
   ]
  },
  {
   "cell_type": "code",
   "execution_count": 4,
   "id": "efcd444d",
   "metadata": {},
   "outputs": [],
   "source": [
    "import datetime"
   ]
  },
  {
   "cell_type": "markdown",
   "id": "923c4f2c",
   "metadata": {},
   "source": [
    "#### Date\n",
    "\n",
    "Objeto que almacena día, mes y año."
   ]
  },
  {
   "cell_type": "code",
   "execution_count": 5,
   "id": "68b47050",
   "metadata": {},
   "outputs": [
    {
     "name": "stdout",
     "output_type": "stream",
     "text": [
      "2021-10-04\n"
     ]
    }
   ],
   "source": [
    "date_object = datetime.date.today()\n",
    "print(date_object)"
   ]
  },
  {
   "cell_type": "code",
   "execution_count": 6,
   "id": "2e9daa22",
   "metadata": {},
   "outputs": [
    {
     "data": {
      "text/plain": [
       "4"
      ]
     },
     "execution_count": 6,
     "metadata": {},
     "output_type": "execute_result"
    }
   ],
   "source": [
    "date_object.day"
   ]
  },
  {
   "cell_type": "code",
   "execution_count": 7,
   "id": "9421e3b3",
   "metadata": {},
   "outputs": [
    {
     "data": {
      "text/plain": [
       "10"
      ]
     },
     "execution_count": 7,
     "metadata": {},
     "output_type": "execute_result"
    }
   ],
   "source": [
    "date_object.month"
   ]
  },
  {
   "cell_type": "code",
   "execution_count": 8,
   "id": "a105880c",
   "metadata": {},
   "outputs": [
    {
     "data": {
      "text/plain": [
       "2021"
      ]
     },
     "execution_count": 8,
     "metadata": {},
     "output_type": "execute_result"
    }
   ],
   "source": [
    "date_object.year"
   ]
  },
  {
   "cell_type": "markdown",
   "id": "20821243",
   "metadata": {},
   "source": [
    "#### Datetime\n",
    "\n",
    "Almacena segundos, minutos, hora, día, mes y año. También puede contener timezone."
   ]
  },
  {
   "cell_type": "code",
   "execution_count": 9,
   "id": "462d80f9",
   "metadata": {},
   "outputs": [
    {
     "name": "stdout",
     "output_type": "stream",
     "text": [
      "2021-10-04 18:27:54.153364\n"
     ]
    }
   ],
   "source": [
    "datetime_object = datetime.datetime.now()\n",
    "print(datetime_object)"
   ]
  },
  {
   "cell_type": "markdown",
   "id": "efc195da",
   "metadata": {},
   "source": [
    "#### Instanciar nuevos Date y Datetimes"
   ]
  },
  {
   "cell_type": "code",
   "execution_count": 10,
   "id": "8b78cb38",
   "metadata": {},
   "outputs": [
    {
     "name": "stdout",
     "output_type": "stream",
     "text": [
      "2021-09-09\n"
     ]
    }
   ],
   "source": [
    "d = datetime.date(2021, 9, 9)\n",
    "print(d)"
   ]
  },
  {
   "cell_type": "code",
   "execution_count": 11,
   "id": "f3ec3c13",
   "metadata": {},
   "outputs": [
    {
     "name": "stdout",
     "output_type": "stream",
     "text": [
      "Año: 2021\n",
      "Mes: 9\n",
      "Día: 9\n"
     ]
    }
   ],
   "source": [
    "print(\"Año:\", d.year)\n",
    "print(\"Mes:\", d.month)\n",
    "print(\"Día:\", d.day)"
   ]
  },
  {
   "cell_type": "code",
   "execution_count": 12,
   "id": "95cd06f5",
   "metadata": {},
   "outputs": [
    {
     "name": "stdout",
     "output_type": "stream",
     "text": [
      "2021-04-19 10:59:55\n"
     ]
    }
   ],
   "source": [
    "d = datetime.datetime(2021, 4, 19, 10, 59, 55)\n",
    "print(d)"
   ]
  },
  {
   "cell_type": "code",
   "execution_count": 13,
   "id": "506e3d3e",
   "metadata": {},
   "outputs": [
    {
     "name": "stdout",
     "output_type": "stream",
     "text": [
      "Hora: 10\n",
      "Minuto: 59\n",
      "Segundo: 55\n",
      "Microsegundo: 0\n"
     ]
    }
   ],
   "source": [
    "print(\"Hora:\", d.hour)\n",
    "print(\"Minuto:\", d.minute)\n",
    "print(\"Segundo:\", d.second)\n",
    "print(\"Microsegundo:\", d.microsecond)"
   ]
  },
  {
   "cell_type": "markdown",
   "id": "83130249",
   "metadata": {},
   "source": [
    "Obviamente, estos objetos cuentan con las restricciones pertinentes "
   ]
  },
  {
   "cell_type": "code",
   "execution_count": 14,
   "id": "69ad2516",
   "metadata": {},
   "outputs": [
    {
     "ename": "ValueError",
     "evalue": "year -1 is out of range",
     "output_type": "error",
     "traceback": [
      "\u001b[0;31m---------------------------------------------------------------------------\u001b[0m",
      "\u001b[0;31mValueError\u001b[0m                                Traceback (most recent call last)",
      "\u001b[0;32m/tmp/ipykernel_13078/690469567.py\u001b[0m in \u001b[0;36m<module>\u001b[0;34m\u001b[0m\n\u001b[0;32m----> 1\u001b[0;31m \u001b[0mdatetime\u001b[0m\u001b[0;34m.\u001b[0m\u001b[0mdatetime\u001b[0m\u001b[0;34m(\u001b[0m\u001b[0;34m-\u001b[0m\u001b[0;36m1\u001b[0m\u001b[0;34m,\u001b[0m \u001b[0;36m4\u001b[0m\u001b[0;34m,\u001b[0m \u001b[0;36m19\u001b[0m\u001b[0;34m,\u001b[0m \u001b[0;36m10\u001b[0m\u001b[0;34m,\u001b[0m \u001b[0;36m59\u001b[0m\u001b[0;34m,\u001b[0m \u001b[0;36m55\u001b[0m\u001b[0;34m)\u001b[0m\u001b[0;34m\u001b[0m\u001b[0;34m\u001b[0m\u001b[0m\n\u001b[0m",
      "\u001b[0;31mValueError\u001b[0m: year -1 is out of range"
     ]
    }
   ],
   "source": [
    "datetime.datetime(-1, 4, 19, 10, 59, 55)"
   ]
  },
  {
   "cell_type": "code",
   "execution_count": 15,
   "id": "a1bb5ca5",
   "metadata": {},
   "outputs": [
    {
     "data": {
      "text/plain": [
       "datetime.datetime(9999, 4, 19, 10, 59, 55)"
      ]
     },
     "execution_count": 15,
     "metadata": {},
     "output_type": "execute_result"
    }
   ],
   "source": [
    "datetime.datetime(9999, 4, 19, 10, 59, 55)"
   ]
  },
  {
   "cell_type": "markdown",
   "id": "d4a943d6",
   "metadata": {},
   "source": [
    "Relacionado: https://es.wikipedia.org/wiki/Problema_del_a%C3%B1o_2000\n",
    "\n",
    "\n",
    "El problema del año 2000, fue un bug o error de software causado por la costumbre que habían adoptado los programadores de omitir la centuria en el año para el almacenamiento de fechas (generalmente para economizar memoria), asumiendo que el software solo funcionaría durante los años cuyos números comenzaran con 19XX\n",
    "\n",
    "\n",
    "![Antes](https://www.sopitas.com/wp-content/uploads/2016/04/ss.gif)\n"
   ]
  },
  {
   "cell_type": "code",
   "execution_count": 16,
   "id": "e2bccdcd",
   "metadata": {},
   "outputs": [
    {
     "ename": "ValueError",
     "evalue": "year 999999 is out of range",
     "output_type": "error",
     "traceback": [
      "\u001b[0;31m---------------------------------------------------------------------------\u001b[0m",
      "\u001b[0;31mValueError\u001b[0m                                Traceback (most recent call last)",
      "\u001b[0;32m/tmp/ipykernel_13078/16416647.py\u001b[0m in \u001b[0;36m<module>\u001b[0;34m\u001b[0m\n\u001b[0;32m----> 1\u001b[0;31m \u001b[0mdatetime\u001b[0m\u001b[0;34m.\u001b[0m\u001b[0mdatetime\u001b[0m\u001b[0;34m(\u001b[0m\u001b[0;36m999999\u001b[0m\u001b[0;34m,\u001b[0m \u001b[0;36m4\u001b[0m\u001b[0;34m,\u001b[0m \u001b[0;36m19\u001b[0m\u001b[0;34m,\u001b[0m \u001b[0;36m10\u001b[0m\u001b[0;34m,\u001b[0m \u001b[0;36m59\u001b[0m\u001b[0;34m,\u001b[0m \u001b[0;36m55\u001b[0m\u001b[0;34m)\u001b[0m\u001b[0;34m\u001b[0m\u001b[0;34m\u001b[0m\u001b[0m\n\u001b[0m",
      "\u001b[0;31mValueError\u001b[0m: year 999999 is out of range"
     ]
    }
   ],
   "source": [
    "datetime.datetime(999999, 4, 19, 10, 59, 55)"
   ]
  },
  {
   "cell_type": "code",
   "execution_count": 17,
   "id": "25a11347",
   "metadata": {},
   "outputs": [
    {
     "ename": "ValueError",
     "evalue": "minute must be in 0..59",
     "output_type": "error",
     "traceback": [
      "\u001b[0;31m---------------------------------------------------------------------------\u001b[0m",
      "\u001b[0;31mValueError\u001b[0m                                Traceback (most recent call last)",
      "\u001b[0;32m/tmp/ipykernel_13078/2583663962.py\u001b[0m in \u001b[0;36m<module>\u001b[0;34m\u001b[0m\n\u001b[0;32m----> 1\u001b[0;31m \u001b[0mdatetime\u001b[0m\u001b[0;34m.\u001b[0m\u001b[0mdatetime\u001b[0m\u001b[0;34m(\u001b[0m\u001b[0;36m2020\u001b[0m\u001b[0;34m,\u001b[0m \u001b[0;36m4\u001b[0m\u001b[0;34m,\u001b[0m \u001b[0;36m19\u001b[0m\u001b[0;34m,\u001b[0m \u001b[0;36m10\u001b[0m\u001b[0;34m,\u001b[0m \u001b[0;36m60\u001b[0m\u001b[0;34m,\u001b[0m \u001b[0;36m55\u001b[0m\u001b[0;34m)\u001b[0m\u001b[0;34m\u001b[0m\u001b[0;34m\u001b[0m\u001b[0m\n\u001b[0m",
      "\u001b[0;31mValueError\u001b[0m: minute must be in 0..59"
     ]
    }
   ],
   "source": [
    "datetime.datetime(2020, 4, 19, 10, 60, 55)"
   ]
  },
  {
   "cell_type": "markdown",
   "id": "4a3a2b4e",
   "metadata": {},
   "source": [
    "¿Y los años bisiestos?"
   ]
  },
  {
   "cell_type": "code",
   "execution_count": 18,
   "id": "0dd1db64",
   "metadata": {},
   "outputs": [
    {
     "data": {
      "text/plain": [
       "datetime.datetime(2020, 2, 29, 0, 0)"
      ]
     },
     "execution_count": 18,
     "metadata": {},
     "output_type": "execute_result"
    }
   ],
   "source": [
    "datetime.datetime(2020, 2, 29)"
   ]
  },
  {
   "cell_type": "code",
   "execution_count": 19,
   "id": "03f13ba9",
   "metadata": {},
   "outputs": [
    {
     "ename": "ValueError",
     "evalue": "day is out of range for month",
     "output_type": "error",
     "traceback": [
      "\u001b[0;31m---------------------------------------------------------------------------\u001b[0m",
      "\u001b[0;31mValueError\u001b[0m                                Traceback (most recent call last)",
      "\u001b[0;32m/tmp/ipykernel_13078/293187185.py\u001b[0m in \u001b[0;36m<module>\u001b[0;34m\u001b[0m\n\u001b[0;32m----> 1\u001b[0;31m \u001b[0mdatetime\u001b[0m\u001b[0;34m.\u001b[0m\u001b[0mdatetime\u001b[0m\u001b[0;34m(\u001b[0m\u001b[0;36m2021\u001b[0m\u001b[0;34m,\u001b[0m \u001b[0;36m2\u001b[0m\u001b[0;34m,\u001b[0m \u001b[0;36m29\u001b[0m\u001b[0;34m)\u001b[0m\u001b[0;34m\u001b[0m\u001b[0;34m\u001b[0m\u001b[0m\n\u001b[0m",
      "\u001b[0;31mValueError\u001b[0m: day is out of range for month"
     ]
    }
   ],
   "source": [
    "datetime.datetime(2021, 2, 29)"
   ]
  },
  {
   "cell_type": "markdown",
   "id": "924b3f1f",
   "metadata": {},
   "source": [
    "##### Desde timestamp\n",
    "\n",
    "`A Unix timestamp is the number of seconds between a particular date and January 1, 1970 at UTC.`"
   ]
  },
  {
   "cell_type": "code",
   "execution_count": 20,
   "id": "21c002b2",
   "metadata": {},
   "outputs": [
    {
     "name": "stdout",
     "output_type": "stream",
     "text": [
      "Date = 2012-01-10\n"
     ]
    }
   ],
   "source": [
    "timestamp = datetime.date.fromtimestamp(1326244364)\n",
    "print(\"Date =\", timestamp)"
   ]
  },
  {
   "cell_type": "markdown",
   "id": "c8f7dac3",
   "metadata": {},
   "source": [
    "> **Pregunta ❓**: ¿Podemos sumar o restar fechas?"
   ]
  },
  {
   "cell_type": "code",
   "execution_count": 21,
   "id": "75c03c0f",
   "metadata": {},
   "outputs": [
    {
     "data": {
      "text/plain": [
       "datetime.datetime(1, 1, 1, 0, 0)"
      ]
     },
     "execution_count": 21,
     "metadata": {},
     "output_type": "execute_result"
    }
   ],
   "source": [
    "delta = datetime.datetime(1, 1, 1)\n",
    "delta"
   ]
  },
  {
   "cell_type": "code",
   "execution_count": 22,
   "id": "24109b61",
   "metadata": {},
   "outputs": [
    {
     "data": {
      "text/plain": [
       "datetime.datetime(2021, 4, 19, 10, 59, 55)"
      ]
     },
     "execution_count": 22,
     "metadata": {},
     "output_type": "execute_result"
    }
   ],
   "source": [
    "d"
   ]
  },
  {
   "cell_type": "code",
   "execution_count": 23,
   "id": "bb81232b",
   "metadata": {},
   "outputs": [
    {
     "ename": "TypeError",
     "evalue": "unsupported operand type(s) for +: 'datetime.datetime' and 'datetime.datetime'",
     "output_type": "error",
     "traceback": [
      "\u001b[0;31m---------------------------------------------------------------------------\u001b[0m",
      "\u001b[0;31mTypeError\u001b[0m                                 Traceback (most recent call last)",
      "\u001b[0;32m/tmp/ipykernel_13078/1477006583.py\u001b[0m in \u001b[0;36m<module>\u001b[0;34m\u001b[0m\n\u001b[0;32m----> 1\u001b[0;31m \u001b[0md\u001b[0m \u001b[0;34m+\u001b[0m \u001b[0mdelta\u001b[0m\u001b[0;34m\u001b[0m\u001b[0;34m\u001b[0m\u001b[0m\n\u001b[0m",
      "\u001b[0;31mTypeError\u001b[0m: unsupported operand type(s) for +: 'datetime.datetime' and 'datetime.datetime'"
     ]
    }
   ],
   "source": [
    "d + delta"
   ]
  },
  {
   "cell_type": "markdown",
   "id": "d7054c82",
   "metadata": {},
   "source": [
    "#### TimeDelta\n",
    "\n",
    "Permide sumar semanas, días, horas, etc... a objetos `date` y `datetime`."
   ]
  },
  {
   "cell_type": "code",
   "execution_count": 24,
   "id": "fc770375",
   "metadata": {},
   "outputs": [
    {
     "data": {
      "text/plain": [
       "datetime.datetime(2021, 4, 19, 10, 59, 55)"
      ]
     },
     "execution_count": 24,
     "metadata": {},
     "output_type": "execute_result"
    }
   ],
   "source": [
    "d"
   ]
  },
  {
   "cell_type": "code",
   "execution_count": 25,
   "id": "c329aa2a",
   "metadata": {},
   "outputs": [
    {
     "data": {
      "text/plain": [
       "datetime.timedelta(days=14)"
      ]
     },
     "execution_count": 25,
     "metadata": {},
     "output_type": "execute_result"
    }
   ],
   "source": [
    "from datetime import timedelta\n",
    "\n",
    "t1 = timedelta(weeks=2)\n",
    "t1"
   ]
  },
  {
   "cell_type": "code",
   "execution_count": 26,
   "id": "ee42d1a0",
   "metadata": {},
   "outputs": [
    {
     "data": {
      "text/plain": [
       "datetime.datetime(2021, 5, 3, 10, 59, 55)"
      ]
     },
     "execution_count": 26,
     "metadata": {},
     "output_type": "execute_result"
    }
   ],
   "source": [
    "d + t1"
   ]
  },
  {
   "cell_type": "markdown",
   "id": "4a1469bf",
   "metadata": {},
   "source": [
    "¿Y tiempos negativos?"
   ]
  },
  {
   "cell_type": "code",
   "execution_count": 27,
   "id": "731c3df6",
   "metadata": {},
   "outputs": [],
   "source": [
    "t2 = timedelta(minutes=-1)"
   ]
  },
  {
   "cell_type": "code",
   "execution_count": 28,
   "id": "cb749973",
   "metadata": {},
   "outputs": [
    {
     "data": {
      "text/plain": [
       "datetime.datetime(2021, 4, 19, 10, 58, 55)"
      ]
     },
     "execution_count": 28,
     "metadata": {},
     "output_type": "execute_result"
    }
   ],
   "source": [
    "d + t2"
   ]
  },
  {
   "cell_type": "code",
   "execution_count": 29,
   "id": "0c11c9df",
   "metadata": {},
   "outputs": [
    {
     "data": {
      "text/plain": [
       "datetime.datetime(2021, 4, 19, 11, 0, 55)"
      ]
     },
     "execution_count": 29,
     "metadata": {},
     "output_type": "execute_result"
    }
   ],
   "source": [
    "d - t2"
   ]
  },
  {
   "cell_type": "markdown",
   "id": "08179549",
   "metadata": {},
   "source": [
    "¿Cambios de mes?"
   ]
  },
  {
   "cell_type": "code",
   "execution_count": 30,
   "id": "c81a2b80",
   "metadata": {},
   "outputs": [],
   "source": [
    "t3 = timedelta(days=1)"
   ]
  },
  {
   "cell_type": "code",
   "execution_count": 31,
   "id": "42133c22",
   "metadata": {},
   "outputs": [
    {
     "data": {
      "text/plain": [
       "datetime.date(2020, 2, 29)"
      ]
     },
     "execution_count": 31,
     "metadata": {},
     "output_type": "execute_result"
    }
   ],
   "source": [
    "t3 + datetime.date(2020, 2, 28)"
   ]
  },
  {
   "cell_type": "code",
   "execution_count": 32,
   "id": "6a62415c",
   "metadata": {},
   "outputs": [
    {
     "data": {
      "text/plain": [
       "datetime.date(2021, 3, 1)"
      ]
     },
     "execution_count": 32,
     "metadata": {},
     "output_type": "execute_result"
    }
   ],
   "source": [
    "t3 + datetime.date(2021, 2, 28)"
   ]
  },
  {
   "cell_type": "markdown",
   "id": "d6900ac3",
   "metadata": {},
   "source": [
    "#### Formatear a string"
   ]
  },
  {
   "cell_type": "code",
   "execution_count": 33,
   "id": "290c034f",
   "metadata": {},
   "outputs": [
    {
     "data": {
      "text/plain": [
       "'19/04/2021, 10:59:55'"
      ]
     },
     "execution_count": 33,
     "metadata": {},
     "output_type": "execute_result"
    }
   ],
   "source": [
    "s1 = d.strftime(\"%d/%m/%Y, %H:%M:%S\")\n",
    "# dd/mm/YY H:M:S format\n",
    "s1"
   ]
  },
  {
   "cell_type": "code",
   "execution_count": 34,
   "id": "5f2d8f31",
   "metadata": {},
   "outputs": [
    {
     "data": {
      "text/plain": [
       "'19/04/2021'"
      ]
     },
     "execution_count": 34,
     "metadata": {},
     "output_type": "execute_result"
    }
   ],
   "source": [
    "s1 = d.strftime(\"%d/%m/%Y\")\n",
    "# dd/mm/YY H:M:S format\n",
    "s1"
   ]
  },
  {
   "cell_type": "code",
   "execution_count": 35,
   "id": "5db2278f",
   "metadata": {},
   "outputs": [
    {
     "data": {
      "text/plain": [
       "'Monday 19 April 2021, 10:59:55'"
      ]
     },
     "execution_count": 35,
     "metadata": {},
     "output_type": "execute_result"
    }
   ],
   "source": [
    "s2 = d.strftime(\"%A %d %B %Y, %X\")\n",
    "# dd/mm/YY H:M:S format\n",
    "s2"
   ]
  },
  {
   "cell_type": "markdown",
   "id": "03c2f96f",
   "metadata": {},
   "source": [
    "Referencia completa de formateo de fechas:\n",
    "\n",
    "https://www.programiz.com/python-programming/datetime/strftime"
   ]
  },
  {
   "cell_type": "markdown",
   "id": "23f95c98",
   "metadata": {},
   "source": [
    "## Datos temporales en Pandas\n",
    "\n",
    "Pandas implementa su propio sistema de datetimes.\n",
    "`pd.to_datetimes` nos permite convertir una `Serie` o un `DataFrame` en una `Serie` de datetimes."
   ]
  },
  {
   "cell_type": "code",
   "execution_count": 36,
   "id": "c9e69513",
   "metadata": {
    "scrolled": true
   },
   "outputs": [
    {
     "data": {
      "text/html": [
       "<div>\n",
       "<style scoped>\n",
       "    .dataframe tbody tr th:only-of-type {\n",
       "        vertical-align: middle;\n",
       "    }\n",
       "\n",
       "    .dataframe tbody tr th {\n",
       "        vertical-align: top;\n",
       "    }\n",
       "\n",
       "    .dataframe thead th {\n",
       "        text-align: right;\n",
       "    }\n",
       "</style>\n",
       "<table border=\"1\" class=\"dataframe\">\n",
       "  <thead>\n",
       "    <tr style=\"text-align: right;\">\n",
       "      <th></th>\n",
       "      <th>Temperature</th>\n",
       "      <th>Year</th>\n",
       "      <th>Month</th>\n",
       "      <th>Country</th>\n",
       "      <th>ISO3</th>\n",
       "    </tr>\n",
       "  </thead>\n",
       "  <tbody>\n",
       "    <tr>\n",
       "      <th>0</th>\n",
       "      <td>-0.03110</td>\n",
       "      <td>1991</td>\n",
       "      <td>Jan</td>\n",
       "      <td>Afghanistan</td>\n",
       "      <td>AFG</td>\n",
       "    </tr>\n",
       "    <tr>\n",
       "      <th>1</th>\n",
       "      <td>1.43654</td>\n",
       "      <td>1991</td>\n",
       "      <td>Feb</td>\n",
       "      <td>Afghanistan</td>\n",
       "      <td>AFG</td>\n",
       "    </tr>\n",
       "    <tr>\n",
       "      <th>2</th>\n",
       "      <td>6.88685</td>\n",
       "      <td>1991</td>\n",
       "      <td>Mar</td>\n",
       "      <td>Afghanistan</td>\n",
       "      <td>AFG</td>\n",
       "    </tr>\n",
       "  </tbody>\n",
       "</table>\n",
       "</div>"
      ],
      "text/plain": [
       "   Temperature  Year Month      Country ISO3\n",
       "0     -0.03110  1991   Jan  Afghanistan  AFG\n",
       "1      1.43654  1991   Feb  Afghanistan  AFG\n",
       "2      6.88685  1991   Mar  Afghanistan  AFG"
      ]
     },
     "execution_count": 36,
     "metadata": {},
     "output_type": "execute_result"
    }
   ],
   "source": [
    "temp_df.head(3)"
   ]
  },
  {
   "cell_type": "code",
   "execution_count": 37,
   "id": "6fbe04a2",
   "metadata": {},
   "outputs": [
    {
     "data": {
      "text/html": [
       "<div>\n",
       "<style scoped>\n",
       "    .dataframe tbody tr th:only-of-type {\n",
       "        vertical-align: middle;\n",
       "    }\n",
       "\n",
       "    .dataframe tbody tr th {\n",
       "        vertical-align: top;\n",
       "    }\n",
       "\n",
       "    .dataframe thead th {\n",
       "        text-align: right;\n",
       "    }\n",
       "</style>\n",
       "<table border=\"1\" class=\"dataframe\">\n",
       "  <thead>\n",
       "    <tr style=\"text-align: right;\">\n",
       "      <th></th>\n",
       "      <th>Year</th>\n",
       "      <th>Month</th>\n",
       "      <th>Day</th>\n",
       "    </tr>\n",
       "  </thead>\n",
       "  <tbody>\n",
       "    <tr>\n",
       "      <th>0</th>\n",
       "      <td>1991</td>\n",
       "      <td>Jan</td>\n",
       "      <td>1.0</td>\n",
       "    </tr>\n",
       "    <tr>\n",
       "      <th>1</th>\n",
       "      <td>1991</td>\n",
       "      <td>Feb</td>\n",
       "      <td>1.0</td>\n",
       "    </tr>\n",
       "    <tr>\n",
       "      <th>2</th>\n",
       "      <td>1991</td>\n",
       "      <td>Mar</td>\n",
       "      <td>1.0</td>\n",
       "    </tr>\n",
       "    <tr>\n",
       "      <th>3</th>\n",
       "      <td>1991</td>\n",
       "      <td>Apr</td>\n",
       "      <td>1.0</td>\n",
       "    </tr>\n",
       "    <tr>\n",
       "      <th>4</th>\n",
       "      <td>1991</td>\n",
       "      <td>May</td>\n",
       "      <td>1.0</td>\n",
       "    </tr>\n",
       "    <tr>\n",
       "      <th>...</th>\n",
       "      <td>...</td>\n",
       "      <td>...</td>\n",
       "      <td>...</td>\n",
       "    </tr>\n",
       "    <tr>\n",
       "      <th>59899</th>\n",
       "      <td>2016</td>\n",
       "      <td>Aug</td>\n",
       "      <td>1.0</td>\n",
       "    </tr>\n",
       "    <tr>\n",
       "      <th>59900</th>\n",
       "      <td>2016</td>\n",
       "      <td>Sep</td>\n",
       "      <td>1.0</td>\n",
       "    </tr>\n",
       "    <tr>\n",
       "      <th>59901</th>\n",
       "      <td>2016</td>\n",
       "      <td>Oct</td>\n",
       "      <td>1.0</td>\n",
       "    </tr>\n",
       "    <tr>\n",
       "      <th>59902</th>\n",
       "      <td>2016</td>\n",
       "      <td>Nov</td>\n",
       "      <td>1.0</td>\n",
       "    </tr>\n",
       "    <tr>\n",
       "      <th>59903</th>\n",
       "      <td>2016</td>\n",
       "      <td>Dec</td>\n",
       "      <td>1.0</td>\n",
       "    </tr>\n",
       "  </tbody>\n",
       "</table>\n",
       "<p>59904 rows × 3 columns</p>\n",
       "</div>"
      ],
      "text/plain": [
       "       Year Month  Day\n",
       "0      1991   Jan  1.0\n",
       "1      1991   Feb  1.0\n",
       "2      1991   Mar  1.0\n",
       "3      1991   Apr  1.0\n",
       "4      1991   May  1.0\n",
       "...     ...   ...  ...\n",
       "59899  2016   Aug  1.0\n",
       "59900  2016   Sep  1.0\n",
       "59901  2016   Oct  1.0\n",
       "59902  2016   Nov  1.0\n",
       "59903  2016   Dec  1.0\n",
       "\n",
       "[59904 rows x 3 columns]"
      ]
     },
     "execution_count": 37,
     "metadata": {},
     "output_type": "execute_result"
    }
   ],
   "source": [
    "import numpy as np\n",
    "\n",
    "dates = temp_df.loc[:, [\"Year\", \"Month\"]]\n",
    "dates[\"Day\"] = np.ones(dates.shape[0])\n",
    "dates"
   ]
  },
  {
   "cell_type": "code",
   "execution_count": 38,
   "id": "ff78e192",
   "metadata": {},
   "outputs": [
    {
     "ename": "OutOfBoundsDatetime",
     "evalue": "Out of bounds nanosecond timestamp: 1-01-01 00:00:00",
     "output_type": "error",
     "traceback": [
      "\u001b[0;31m---------------------------------------------------------------------------\u001b[0m",
      "\u001b[0;31mTypeError\u001b[0m                                 Traceback (most recent call last)",
      "\u001b[0;32m~/miniconda3/lib/python3.9/site-packages/pandas/core/arrays/datetimes.py\u001b[0m in \u001b[0;36mobjects_to_datetime64ns\u001b[0;34m(data, dayfirst, yearfirst, utc, errors, require_iso8601, allow_object, allow_mixed)\u001b[0m\n\u001b[1;32m   2186\u001b[0m         \u001b[0;32mtry\u001b[0m\u001b[0;34m:\u001b[0m\u001b[0;34m\u001b[0m\u001b[0;34m\u001b[0m\u001b[0m\n\u001b[0;32m-> 2187\u001b[0;31m             \u001b[0mvalues\u001b[0m\u001b[0;34m,\u001b[0m \u001b[0mtz_parsed\u001b[0m \u001b[0;34m=\u001b[0m \u001b[0mconversion\u001b[0m\u001b[0;34m.\u001b[0m\u001b[0mdatetime_to_datetime64\u001b[0m\u001b[0;34m(\u001b[0m\u001b[0mdata\u001b[0m\u001b[0;34m.\u001b[0m\u001b[0mravel\u001b[0m\u001b[0;34m(\u001b[0m\u001b[0;34m\"K\"\u001b[0m\u001b[0;34m)\u001b[0m\u001b[0;34m)\u001b[0m\u001b[0;34m\u001b[0m\u001b[0;34m\u001b[0m\u001b[0m\n\u001b[0m\u001b[1;32m   2188\u001b[0m             \u001b[0;31m# If tzaware, these values represent unix timestamps, so we\u001b[0m\u001b[0;34m\u001b[0m\u001b[0;34m\u001b[0m\u001b[0;34m\u001b[0m\u001b[0m\n",
      "\u001b[0;32m~/miniconda3/lib/python3.9/site-packages/pandas/_libs/tslibs/conversion.pyx\u001b[0m in \u001b[0;36mpandas._libs.tslibs.conversion.datetime_to_datetime64\u001b[0;34m()\u001b[0m\n",
      "\u001b[0;31mTypeError\u001b[0m: Unrecognized value type: <class 'str'>",
      "\nDuring handling of the above exception, another exception occurred:\n",
      "\u001b[0;31mOutOfBoundsDatetime\u001b[0m                       Traceback (most recent call last)",
      "\u001b[0;32m/tmp/ipykernel_13078/1669576989.py\u001b[0m in \u001b[0;36m<module>\u001b[0;34m\u001b[0m\n\u001b[0;32m----> 1\u001b[0;31m \u001b[0mpd\u001b[0m\u001b[0;34m.\u001b[0m\u001b[0mto_datetime\u001b[0m\u001b[0;34m(\u001b[0m\u001b[0;34m[\u001b[0m\u001b[0;34m\"1991\"\u001b[0m\u001b[0;34m,\u001b[0m \u001b[0;34m\"Jan\"\u001b[0m\u001b[0;34m,\u001b[0m \u001b[0;34m\"1.0\"\u001b[0m\u001b[0;34m]\u001b[0m\u001b[0;34m,\u001b[0m \u001b[0myearfirst\u001b[0m\u001b[0;34m=\u001b[0m\u001b[0;32mTrue\u001b[0m\u001b[0;34m)\u001b[0m\u001b[0;34m\u001b[0m\u001b[0;34m\u001b[0m\u001b[0m\n\u001b[0m",
      "\u001b[0;32m~/miniconda3/lib/python3.9/site-packages/pandas/core/tools/datetimes.py\u001b[0m in \u001b[0;36mto_datetime\u001b[0;34m(arg, errors, dayfirst, yearfirst, utc, format, exact, unit, infer_datetime_format, origin, cache)\u001b[0m\n\u001b[1;32m    910\u001b[0m             \u001b[0mresult\u001b[0m \u001b[0;34m=\u001b[0m \u001b[0m_convert_and_box_cache\u001b[0m\u001b[0;34m(\u001b[0m\u001b[0marg\u001b[0m\u001b[0;34m,\u001b[0m \u001b[0mcache_array\u001b[0m\u001b[0;34m)\u001b[0m\u001b[0;34m\u001b[0m\u001b[0;34m\u001b[0m\u001b[0m\n\u001b[1;32m    911\u001b[0m         \u001b[0;32melse\u001b[0m\u001b[0;34m:\u001b[0m\u001b[0;34m\u001b[0m\u001b[0;34m\u001b[0m\u001b[0m\n\u001b[0;32m--> 912\u001b[0;31m             \u001b[0mresult\u001b[0m \u001b[0;34m=\u001b[0m \u001b[0mconvert_listlike\u001b[0m\u001b[0;34m(\u001b[0m\u001b[0marg\u001b[0m\u001b[0;34m,\u001b[0m \u001b[0mformat\u001b[0m\u001b[0;34m)\u001b[0m\u001b[0;34m\u001b[0m\u001b[0;34m\u001b[0m\u001b[0m\n\u001b[0m\u001b[1;32m    913\u001b[0m     \u001b[0;32melse\u001b[0m\u001b[0;34m:\u001b[0m\u001b[0;34m\u001b[0m\u001b[0;34m\u001b[0m\u001b[0m\n\u001b[1;32m    914\u001b[0m         \u001b[0mresult\u001b[0m \u001b[0;34m=\u001b[0m \u001b[0mconvert_listlike\u001b[0m\u001b[0;34m(\u001b[0m\u001b[0mnp\u001b[0m\u001b[0;34m.\u001b[0m\u001b[0marray\u001b[0m\u001b[0;34m(\u001b[0m\u001b[0;34m[\u001b[0m\u001b[0marg\u001b[0m\u001b[0;34m]\u001b[0m\u001b[0;34m)\u001b[0m\u001b[0;34m,\u001b[0m \u001b[0mformat\u001b[0m\u001b[0;34m)\u001b[0m\u001b[0;34m[\u001b[0m\u001b[0;36m0\u001b[0m\u001b[0;34m]\u001b[0m\u001b[0;34m\u001b[0m\u001b[0;34m\u001b[0m\u001b[0m\n",
      "\u001b[0;32m~/miniconda3/lib/python3.9/site-packages/pandas/core/tools/datetimes.py\u001b[0m in \u001b[0;36m_convert_listlike_datetimes\u001b[0;34m(arg, format, name, tz, unit, errors, infer_datetime_format, dayfirst, yearfirst, exact)\u001b[0m\n\u001b[1;32m    399\u001b[0m     \u001b[0;32massert\u001b[0m \u001b[0mformat\u001b[0m \u001b[0;32mis\u001b[0m \u001b[0;32mNone\u001b[0m \u001b[0;32mor\u001b[0m \u001b[0minfer_datetime_format\u001b[0m\u001b[0;34m\u001b[0m\u001b[0;34m\u001b[0m\u001b[0m\n\u001b[1;32m    400\u001b[0m     \u001b[0mutc\u001b[0m \u001b[0;34m=\u001b[0m \u001b[0mtz\u001b[0m \u001b[0;34m==\u001b[0m \u001b[0;34m\"utc\"\u001b[0m\u001b[0;34m\u001b[0m\u001b[0;34m\u001b[0m\u001b[0m\n\u001b[0;32m--> 401\u001b[0;31m     result, tz_parsed = objects_to_datetime64ns(\n\u001b[0m\u001b[1;32m    402\u001b[0m         \u001b[0marg\u001b[0m\u001b[0;34m,\u001b[0m\u001b[0;34m\u001b[0m\u001b[0;34m\u001b[0m\u001b[0m\n\u001b[1;32m    403\u001b[0m         \u001b[0mdayfirst\u001b[0m\u001b[0;34m=\u001b[0m\u001b[0mdayfirst\u001b[0m\u001b[0;34m,\u001b[0m\u001b[0;34m\u001b[0m\u001b[0;34m\u001b[0m\u001b[0m\n",
      "\u001b[0;32m~/miniconda3/lib/python3.9/site-packages/pandas/core/arrays/datetimes.py\u001b[0m in \u001b[0;36mobjects_to_datetime64ns\u001b[0;34m(data, dayfirst, yearfirst, utc, errors, require_iso8601, allow_object, allow_mixed)\u001b[0m\n\u001b[1;32m   2191\u001b[0m             \u001b[0;32mreturn\u001b[0m \u001b[0mvalues\u001b[0m\u001b[0;34m.\u001b[0m\u001b[0mview\u001b[0m\u001b[0;34m(\u001b[0m\u001b[0;34m\"i8\"\u001b[0m\u001b[0;34m)\u001b[0m\u001b[0;34m,\u001b[0m \u001b[0mtz_parsed\u001b[0m\u001b[0;34m\u001b[0m\u001b[0;34m\u001b[0m\u001b[0m\n\u001b[1;32m   2192\u001b[0m         \u001b[0;32mexcept\u001b[0m \u001b[0;34m(\u001b[0m\u001b[0mValueError\u001b[0m\u001b[0;34m,\u001b[0m \u001b[0mTypeError\u001b[0m\u001b[0;34m)\u001b[0m\u001b[0;34m:\u001b[0m\u001b[0;34m\u001b[0m\u001b[0;34m\u001b[0m\u001b[0m\n\u001b[0;32m-> 2193\u001b[0;31m             \u001b[0;32mraise\u001b[0m \u001b[0merr\u001b[0m\u001b[0;34m\u001b[0m\u001b[0;34m\u001b[0m\u001b[0m\n\u001b[0m\u001b[1;32m   2194\u001b[0m \u001b[0;34m\u001b[0m\u001b[0m\n\u001b[1;32m   2195\u001b[0m     \u001b[0;32mif\u001b[0m \u001b[0mtz_parsed\u001b[0m \u001b[0;32mis\u001b[0m \u001b[0;32mnot\u001b[0m \u001b[0;32mNone\u001b[0m\u001b[0;34m:\u001b[0m\u001b[0;34m\u001b[0m\u001b[0;34m\u001b[0m\u001b[0m\n",
      "\u001b[0;32m~/miniconda3/lib/python3.9/site-packages/pandas/core/arrays/datetimes.py\u001b[0m in \u001b[0;36mobjects_to_datetime64ns\u001b[0;34m(data, dayfirst, yearfirst, utc, errors, require_iso8601, allow_object, allow_mixed)\u001b[0m\n\u001b[1;32m   2173\u001b[0m     \u001b[0morder\u001b[0m\u001b[0;34m:\u001b[0m \u001b[0mLiteral\u001b[0m\u001b[0;34m[\u001b[0m\u001b[0;34m\"F\"\u001b[0m\u001b[0;34m,\u001b[0m \u001b[0;34m\"C\"\u001b[0m\u001b[0;34m]\u001b[0m \u001b[0;34m=\u001b[0m \u001b[0;34m\"F\"\u001b[0m \u001b[0;32mif\u001b[0m \u001b[0mflags\u001b[0m\u001b[0;34m.\u001b[0m\u001b[0mf_contiguous\u001b[0m \u001b[0;32melse\u001b[0m \u001b[0;34m\"C\"\u001b[0m\u001b[0;34m\u001b[0m\u001b[0;34m\u001b[0m\u001b[0m\n\u001b[1;32m   2174\u001b[0m     \u001b[0;32mtry\u001b[0m\u001b[0;34m:\u001b[0m\u001b[0;34m\u001b[0m\u001b[0;34m\u001b[0m\u001b[0m\n\u001b[0;32m-> 2175\u001b[0;31m         result, tz_parsed = tslib.array_to_datetime(\n\u001b[0m\u001b[1;32m   2176\u001b[0m             \u001b[0mdata\u001b[0m\u001b[0;34m.\u001b[0m\u001b[0mravel\u001b[0m\u001b[0;34m(\u001b[0m\u001b[0;34m\"K\"\u001b[0m\u001b[0;34m)\u001b[0m\u001b[0;34m,\u001b[0m\u001b[0;34m\u001b[0m\u001b[0;34m\u001b[0m\u001b[0m\n\u001b[1;32m   2177\u001b[0m             \u001b[0merrors\u001b[0m\u001b[0;34m=\u001b[0m\u001b[0merrors\u001b[0m\u001b[0;34m,\u001b[0m\u001b[0;34m\u001b[0m\u001b[0;34m\u001b[0m\u001b[0m\n",
      "\u001b[0;32m~/miniconda3/lib/python3.9/site-packages/pandas/_libs/tslib.pyx\u001b[0m in \u001b[0;36mpandas._libs.tslib.array_to_datetime\u001b[0;34m()\u001b[0m\n",
      "\u001b[0;32m~/miniconda3/lib/python3.9/site-packages/pandas/_libs/tslib.pyx\u001b[0m in \u001b[0;36mpandas._libs.tslib.array_to_datetime\u001b[0;34m()\u001b[0m\n",
      "\u001b[0;32m~/miniconda3/lib/python3.9/site-packages/pandas/_libs/tslib.pyx\u001b[0m in \u001b[0;36mpandas._libs.tslib.array_to_datetime\u001b[0;34m()\u001b[0m\n",
      "\u001b[0;32m~/miniconda3/lib/python3.9/site-packages/pandas/_libs/tslib.pyx\u001b[0m in \u001b[0;36mpandas._libs.tslib.array_to_datetime\u001b[0;34m()\u001b[0m\n",
      "\u001b[0;32m~/miniconda3/lib/python3.9/site-packages/pandas/_libs/tslibs/conversion.pyx\u001b[0m in \u001b[0;36mpandas._libs.tslibs.conversion.convert_datetime_to_tsobject\u001b[0;34m()\u001b[0m\n",
      "\u001b[0;32m~/miniconda3/lib/python3.9/site-packages/pandas/_libs/tslibs/np_datetime.pyx\u001b[0m in \u001b[0;36mpandas._libs.tslibs.np_datetime.check_dts_bounds\u001b[0;34m()\u001b[0m\n",
      "\u001b[0;31mOutOfBoundsDatetime\u001b[0m: Out of bounds nanosecond timestamp: 1-01-01 00:00:00"
     ]
    }
   ],
   "source": [
    "pd.to_datetime([\"1991\", \"Jan\", \"1.0\"], yearfirst=True)"
   ]
  },
  {
   "cell_type": "markdown",
   "id": "2e4f3778",
   "metadata": {},
   "source": [
    "### Paréntesis: Función `Map`\n",
    "\n",
    "Esta función permite hacer un `mapeo` (sustituir un valor por otro) sobre los elementos de una serie."
   ]
  },
  {
   "cell_type": "code",
   "execution_count": 39,
   "id": "bf220338",
   "metadata": {},
   "outputs": [
    {
     "data": {
      "text/plain": [
       "0        Jan\n",
       "1        Feb\n",
       "2        Mar\n",
       "3        Apr\n",
       "4        May\n",
       "        ... \n",
       "59899    Aug\n",
       "59900    Sep\n",
       "59901    Oct\n",
       "59902    Nov\n",
       "59903    Dec\n",
       "Name: Month, Length: 59904, dtype: object"
      ]
     },
     "execution_count": 39,
     "metadata": {},
     "output_type": "execute_result"
    }
   ],
   "source": [
    "dates[\"Month\"]"
   ]
  },
  {
   "cell_type": "code",
   "execution_count": 40,
   "id": "1d6512ae",
   "metadata": {},
   "outputs": [
    {
     "data": {
      "text/plain": [
       "0         1\n",
       "1         2\n",
       "2         3\n",
       "3         4\n",
       "4         5\n",
       "         ..\n",
       "59899     8\n",
       "59900     9\n",
       "59901    10\n",
       "59902    11\n",
       "59903    12\n",
       "Name: Month, Length: 59904, dtype: int64"
      ]
     },
     "execution_count": 40,
     "metadata": {},
     "output_type": "execute_result"
    }
   ],
   "source": [
    "dates[\"Month\"].map(\n",
    "    {\n",
    "        \"Jan\": 1,\n",
    "        \"Feb\": 2,\n",
    "        \"Mar\": 3,\n",
    "        \"Apr\": 4,\n",
    "        \"May\": 5,\n",
    "        \"Jun\": 6,\n",
    "        \"Jul\": 7,\n",
    "        \"Aug\": 8,\n",
    "        \"Sep\": 9,\n",
    "        \"Oct\": 10,\n",
    "        \"Nov\": 11,\n",
    "        \"Dec\": 12,\n",
    "    }\n",
    ")"
   ]
  },
  {
   "cell_type": "code",
   "execution_count": 41,
   "id": "a9d0bfe1",
   "metadata": {},
   "outputs": [],
   "source": [
    "dates[\"Month\"] = dates[\"Month\"].map(\n",
    "    {\n",
    "        \"Jan\": 1,\n",
    "        \"Feb\": 2,\n",
    "        \"Mar\": 3,\n",
    "        \"Apr\": 4,\n",
    "        \"May\": 5,\n",
    "        \"Jun\": 6,\n",
    "        \"Jul\": 7,\n",
    "        \"Aug\": 8,\n",
    "        \"Sep\": 9,\n",
    "        \"Oct\": 10,\n",
    "        \"Nov\": 11,\n",
    "        \"Dec\": 12,\n",
    "    }\n",
    ")"
   ]
  },
  {
   "cell_type": "code",
   "execution_count": 42,
   "id": "8fffe524",
   "metadata": {},
   "outputs": [
    {
     "data": {
      "text/html": [
       "<div>\n",
       "<style scoped>\n",
       "    .dataframe tbody tr th:only-of-type {\n",
       "        vertical-align: middle;\n",
       "    }\n",
       "\n",
       "    .dataframe tbody tr th {\n",
       "        vertical-align: top;\n",
       "    }\n",
       "\n",
       "    .dataframe thead th {\n",
       "        text-align: right;\n",
       "    }\n",
       "</style>\n",
       "<table border=\"1\" class=\"dataframe\">\n",
       "  <thead>\n",
       "    <tr style=\"text-align: right;\">\n",
       "      <th></th>\n",
       "      <th>Year</th>\n",
       "      <th>Month</th>\n",
       "      <th>Day</th>\n",
       "    </tr>\n",
       "  </thead>\n",
       "  <tbody>\n",
       "    <tr>\n",
       "      <th>0</th>\n",
       "      <td>1991</td>\n",
       "      <td>1</td>\n",
       "      <td>1.0</td>\n",
       "    </tr>\n",
       "    <tr>\n",
       "      <th>1</th>\n",
       "      <td>1991</td>\n",
       "      <td>2</td>\n",
       "      <td>1.0</td>\n",
       "    </tr>\n",
       "    <tr>\n",
       "      <th>2</th>\n",
       "      <td>1991</td>\n",
       "      <td>3</td>\n",
       "      <td>1.0</td>\n",
       "    </tr>\n",
       "    <tr>\n",
       "      <th>3</th>\n",
       "      <td>1991</td>\n",
       "      <td>4</td>\n",
       "      <td>1.0</td>\n",
       "    </tr>\n",
       "    <tr>\n",
       "      <th>4</th>\n",
       "      <td>1991</td>\n",
       "      <td>5</td>\n",
       "      <td>1.0</td>\n",
       "    </tr>\n",
       "    <tr>\n",
       "      <th>...</th>\n",
       "      <td>...</td>\n",
       "      <td>...</td>\n",
       "      <td>...</td>\n",
       "    </tr>\n",
       "    <tr>\n",
       "      <th>59899</th>\n",
       "      <td>2016</td>\n",
       "      <td>8</td>\n",
       "      <td>1.0</td>\n",
       "    </tr>\n",
       "    <tr>\n",
       "      <th>59900</th>\n",
       "      <td>2016</td>\n",
       "      <td>9</td>\n",
       "      <td>1.0</td>\n",
       "    </tr>\n",
       "    <tr>\n",
       "      <th>59901</th>\n",
       "      <td>2016</td>\n",
       "      <td>10</td>\n",
       "      <td>1.0</td>\n",
       "    </tr>\n",
       "    <tr>\n",
       "      <th>59902</th>\n",
       "      <td>2016</td>\n",
       "      <td>11</td>\n",
       "      <td>1.0</td>\n",
       "    </tr>\n",
       "    <tr>\n",
       "      <th>59903</th>\n",
       "      <td>2016</td>\n",
       "      <td>12</td>\n",
       "      <td>1.0</td>\n",
       "    </tr>\n",
       "  </tbody>\n",
       "</table>\n",
       "<p>59904 rows × 3 columns</p>\n",
       "</div>"
      ],
      "text/plain": [
       "       Year  Month  Day\n",
       "0      1991      1  1.0\n",
       "1      1991      2  1.0\n",
       "2      1991      3  1.0\n",
       "3      1991      4  1.0\n",
       "4      1991      5  1.0\n",
       "...     ...    ...  ...\n",
       "59899  2016      8  1.0\n",
       "59900  2016      9  1.0\n",
       "59901  2016     10  1.0\n",
       "59902  2016     11  1.0\n",
       "59903  2016     12  1.0\n",
       "\n",
       "[59904 rows x 3 columns]"
      ]
     },
     "execution_count": 42,
     "metadata": {},
     "output_type": "execute_result"
    }
   ],
   "source": [
    "dates"
   ]
  },
  {
   "cell_type": "code",
   "execution_count": 43,
   "id": "74e749c9",
   "metadata": {},
   "outputs": [
    {
     "data": {
      "text/plain": [
       "0       1991-01-01\n",
       "1       1991-02-01\n",
       "2       1991-03-01\n",
       "3       1991-04-01\n",
       "4       1991-05-01\n",
       "           ...    \n",
       "59899   2016-08-01\n",
       "59900   2016-09-01\n",
       "59901   2016-10-01\n",
       "59902   2016-11-01\n",
       "59903   2016-12-01\n",
       "Length: 59904, dtype: datetime64[ns]"
      ]
     },
     "execution_count": 43,
     "metadata": {},
     "output_type": "execute_result"
    }
   ],
   "source": [
    "parsed_dates = pd.to_datetime(dates, yearfirst=True, infer_datetime_format=True)\n",
    "parsed_dates"
   ]
  },
  {
   "cell_type": "code",
   "execution_count": 44,
   "id": "fc7d2bf9",
   "metadata": {},
   "outputs": [
    {
     "data": {
      "text/html": [
       "<div>\n",
       "<style scoped>\n",
       "    .dataframe tbody tr th:only-of-type {\n",
       "        vertical-align: middle;\n",
       "    }\n",
       "\n",
       "    .dataframe tbody tr th {\n",
       "        vertical-align: top;\n",
       "    }\n",
       "\n",
       "    .dataframe thead th {\n",
       "        text-align: right;\n",
       "    }\n",
       "</style>\n",
       "<table border=\"1\" class=\"dataframe\">\n",
       "  <thead>\n",
       "    <tr style=\"text-align: right;\">\n",
       "      <th></th>\n",
       "      <th>Temperature</th>\n",
       "      <th>Year</th>\n",
       "      <th>Month</th>\n",
       "      <th>Country</th>\n",
       "      <th>ISO3</th>\n",
       "      <th>dates</th>\n",
       "    </tr>\n",
       "  </thead>\n",
       "  <tbody>\n",
       "    <tr>\n",
       "      <th>0</th>\n",
       "      <td>-0.03110</td>\n",
       "      <td>1991</td>\n",
       "      <td>Jan</td>\n",
       "      <td>Afghanistan</td>\n",
       "      <td>AFG</td>\n",
       "      <td>1991-01-01</td>\n",
       "    </tr>\n",
       "    <tr>\n",
       "      <th>1</th>\n",
       "      <td>1.43654</td>\n",
       "      <td>1991</td>\n",
       "      <td>Feb</td>\n",
       "      <td>Afghanistan</td>\n",
       "      <td>AFG</td>\n",
       "      <td>1991-02-01</td>\n",
       "    </tr>\n",
       "    <tr>\n",
       "      <th>2</th>\n",
       "      <td>6.88685</td>\n",
       "      <td>1991</td>\n",
       "      <td>Mar</td>\n",
       "      <td>Afghanistan</td>\n",
       "      <td>AFG</td>\n",
       "      <td>1991-03-01</td>\n",
       "    </tr>\n",
       "    <tr>\n",
       "      <th>3</th>\n",
       "      <td>12.93970</td>\n",
       "      <td>1991</td>\n",
       "      <td>Apr</td>\n",
       "      <td>Afghanistan</td>\n",
       "      <td>AFG</td>\n",
       "      <td>1991-04-01</td>\n",
       "    </tr>\n",
       "    <tr>\n",
       "      <th>4</th>\n",
       "      <td>17.07550</td>\n",
       "      <td>1991</td>\n",
       "      <td>May</td>\n",
       "      <td>Afghanistan</td>\n",
       "      <td>AFG</td>\n",
       "      <td>1991-05-01</td>\n",
       "    </tr>\n",
       "    <tr>\n",
       "      <th>...</th>\n",
       "      <td>...</td>\n",
       "      <td>...</td>\n",
       "      <td>...</td>\n",
       "      <td>...</td>\n",
       "      <td>...</td>\n",
       "      <td>...</td>\n",
       "    </tr>\n",
       "    <tr>\n",
       "      <th>59899</th>\n",
       "      <td>26.09480</td>\n",
       "      <td>2016</td>\n",
       "      <td>Aug</td>\n",
       "      <td>Venezuela</td>\n",
       "      <td>VEN</td>\n",
       "      <td>2016-08-01</td>\n",
       "    </tr>\n",
       "    <tr>\n",
       "      <th>59900</th>\n",
       "      <td>26.22090</td>\n",
       "      <td>2016</td>\n",
       "      <td>Sep</td>\n",
       "      <td>Venezuela</td>\n",
       "      <td>VEN</td>\n",
       "      <td>2016-09-01</td>\n",
       "    </tr>\n",
       "    <tr>\n",
       "      <th>59901</th>\n",
       "      <td>26.62850</td>\n",
       "      <td>2016</td>\n",
       "      <td>Oct</td>\n",
       "      <td>Venezuela</td>\n",
       "      <td>VEN</td>\n",
       "      <td>2016-10-01</td>\n",
       "    </tr>\n",
       "    <tr>\n",
       "      <th>59902</th>\n",
       "      <td>26.27680</td>\n",
       "      <td>2016</td>\n",
       "      <td>Nov</td>\n",
       "      <td>Venezuela</td>\n",
       "      <td>VEN</td>\n",
       "      <td>2016-11-01</td>\n",
       "    </tr>\n",
       "    <tr>\n",
       "      <th>59903</th>\n",
       "      <td>26.12860</td>\n",
       "      <td>2016</td>\n",
       "      <td>Dec</td>\n",
       "      <td>Venezuela</td>\n",
       "      <td>VEN</td>\n",
       "      <td>2016-12-01</td>\n",
       "    </tr>\n",
       "  </tbody>\n",
       "</table>\n",
       "<p>59904 rows × 6 columns</p>\n",
       "</div>"
      ],
      "text/plain": [
       "       Temperature  Year Month      Country ISO3      dates\n",
       "0         -0.03110  1991   Jan  Afghanistan  AFG 1991-01-01\n",
       "1          1.43654  1991   Feb  Afghanistan  AFG 1991-02-01\n",
       "2          6.88685  1991   Mar  Afghanistan  AFG 1991-03-01\n",
       "3         12.93970  1991   Apr  Afghanistan  AFG 1991-04-01\n",
       "4         17.07550  1991   May  Afghanistan  AFG 1991-05-01\n",
       "...            ...   ...   ...          ...  ...        ...\n",
       "59899     26.09480  2016   Aug    Venezuela  VEN 2016-08-01\n",
       "59900     26.22090  2016   Sep    Venezuela  VEN 2016-09-01\n",
       "59901     26.62850  2016   Oct    Venezuela  VEN 2016-10-01\n",
       "59902     26.27680  2016   Nov    Venezuela  VEN 2016-11-01\n",
       "59903     26.12860  2016   Dec    Venezuela  VEN 2016-12-01\n",
       "\n",
       "[59904 rows x 6 columns]"
      ]
     },
     "execution_count": 44,
     "metadata": {},
     "output_type": "execute_result"
    }
   ],
   "source": [
    "temp_df[\"dates\"] = parsed_dates\n",
    "temp_df"
   ]
  },
  {
   "cell_type": "code",
   "execution_count": 45,
   "id": "1d7a0caf",
   "metadata": {},
   "outputs": [
    {
     "name": "stdout",
     "output_type": "stream",
     "text": [
      "<class 'pandas.core.frame.DataFrame'>\n",
      "RangeIndex: 59904 entries, 0 to 59903\n",
      "Data columns (total 6 columns):\n",
      " #   Column       Non-Null Count  Dtype         \n",
      "---  ------       --------------  -----         \n",
      " 0   Temperature  59904 non-null  float64       \n",
      " 1   Year         59904 non-null  int64         \n",
      " 2   Month        59904 non-null  object        \n",
      " 3   Country      59904 non-null  object        \n",
      " 4   ISO3         59904 non-null  object        \n",
      " 5   dates        59904 non-null  datetime64[ns]\n",
      "dtypes: datetime64[ns](1), float64(1), int64(1), object(3)\n",
      "memory usage: 2.7+ MB\n"
     ]
    }
   ],
   "source": [
    "temp_df.info()"
   ]
  },
  {
   "cell_type": "markdown",
   "id": "8571323e",
   "metadata": {},
   "source": [
    "### Valores Inválidos\n",
    "\n",
    "Puede ocurrir que tengamos algún dato inválido que no podamos transformar a `datetime`.\n",
    "\n",
    "`pd.to_datetime` ofrece el siguiente parámetro para manejar estos problemas:\n",
    "\n",
    "`errors{‘ignore’, ‘raise’, ‘coerce’}, default ‘raise’`\n",
    "\n",
    "- If `raise`, then invalid parsing will raise an exception.\n",
    "\n",
    "- If `coerce`, then invalid parsing will be set as NaT.\n",
    "\n",
    "- If `ignore`, then invalid parsing will return the input.\n",
    "\n",
    "\n",
    "**Nota:** NaT = Not a Time\n"
   ]
  },
  {
   "cell_type": "code",
   "execution_count": 46,
   "id": "58221f36",
   "metadata": {},
   "outputs": [
    {
     "data": {
      "text/plain": [
       "DatetimeIndex(['2009-07-31', 'NaT'], dtype='datetime64[ns]', freq=None)"
      ]
     },
     "execution_count": 46,
     "metadata": {},
     "output_type": "execute_result"
    }
   ],
   "source": [
    "pd.to_datetime([\"2009/07/31\", \"asd\"], errors=\"coerce\")"
   ]
  },
  {
   "cell_type": "markdown",
   "id": "cece7bea",
   "metadata": {},
   "source": [
    "### Indexado\n",
    "\n",
    "Podemos fijar las fechas como índices y luego indexar por rangos de estas"
   ]
  },
  {
   "cell_type": "code",
   "execution_count": 47,
   "id": "420c1f11",
   "metadata": {},
   "outputs": [
    {
     "data": {
      "text/html": [
       "<div>\n",
       "<style scoped>\n",
       "    .dataframe tbody tr th:only-of-type {\n",
       "        vertical-align: middle;\n",
       "    }\n",
       "\n",
       "    .dataframe tbody tr th {\n",
       "        vertical-align: top;\n",
       "    }\n",
       "\n",
       "    .dataframe thead th {\n",
       "        text-align: right;\n",
       "    }\n",
       "</style>\n",
       "<table border=\"1\" class=\"dataframe\">\n",
       "  <thead>\n",
       "    <tr style=\"text-align: right;\">\n",
       "      <th></th>\n",
       "      <th>Temperature</th>\n",
       "      <th>Year</th>\n",
       "      <th>Month</th>\n",
       "      <th>Country</th>\n",
       "      <th>ISO3</th>\n",
       "    </tr>\n",
       "    <tr>\n",
       "      <th>dates</th>\n",
       "      <th></th>\n",
       "      <th></th>\n",
       "      <th></th>\n",
       "      <th></th>\n",
       "      <th></th>\n",
       "    </tr>\n",
       "  </thead>\n",
       "  <tbody>\n",
       "    <tr>\n",
       "      <th>1991-01-01</th>\n",
       "      <td>-0.03110</td>\n",
       "      <td>1991</td>\n",
       "      <td>Jan</td>\n",
       "      <td>Afghanistan</td>\n",
       "      <td>AFG</td>\n",
       "    </tr>\n",
       "    <tr>\n",
       "      <th>1991-02-01</th>\n",
       "      <td>1.43654</td>\n",
       "      <td>1991</td>\n",
       "      <td>Feb</td>\n",
       "      <td>Afghanistan</td>\n",
       "      <td>AFG</td>\n",
       "    </tr>\n",
       "    <tr>\n",
       "      <th>1991-03-01</th>\n",
       "      <td>6.88685</td>\n",
       "      <td>1991</td>\n",
       "      <td>Mar</td>\n",
       "      <td>Afghanistan</td>\n",
       "      <td>AFG</td>\n",
       "    </tr>\n",
       "    <tr>\n",
       "      <th>1991-04-01</th>\n",
       "      <td>12.93970</td>\n",
       "      <td>1991</td>\n",
       "      <td>Apr</td>\n",
       "      <td>Afghanistan</td>\n",
       "      <td>AFG</td>\n",
       "    </tr>\n",
       "    <tr>\n",
       "      <th>1991-05-01</th>\n",
       "      <td>17.07550</td>\n",
       "      <td>1991</td>\n",
       "      <td>May</td>\n",
       "      <td>Afghanistan</td>\n",
       "      <td>AFG</td>\n",
       "    </tr>\n",
       "    <tr>\n",
       "      <th>...</th>\n",
       "      <td>...</td>\n",
       "      <td>...</td>\n",
       "      <td>...</td>\n",
       "      <td>...</td>\n",
       "      <td>...</td>\n",
       "    </tr>\n",
       "    <tr>\n",
       "      <th>2016-08-01</th>\n",
       "      <td>26.09480</td>\n",
       "      <td>2016</td>\n",
       "      <td>Aug</td>\n",
       "      <td>Venezuela</td>\n",
       "      <td>VEN</td>\n",
       "    </tr>\n",
       "    <tr>\n",
       "      <th>2016-09-01</th>\n",
       "      <td>26.22090</td>\n",
       "      <td>2016</td>\n",
       "      <td>Sep</td>\n",
       "      <td>Venezuela</td>\n",
       "      <td>VEN</td>\n",
       "    </tr>\n",
       "    <tr>\n",
       "      <th>2016-10-01</th>\n",
       "      <td>26.62850</td>\n",
       "      <td>2016</td>\n",
       "      <td>Oct</td>\n",
       "      <td>Venezuela</td>\n",
       "      <td>VEN</td>\n",
       "    </tr>\n",
       "    <tr>\n",
       "      <th>2016-11-01</th>\n",
       "      <td>26.27680</td>\n",
       "      <td>2016</td>\n",
       "      <td>Nov</td>\n",
       "      <td>Venezuela</td>\n",
       "      <td>VEN</td>\n",
       "    </tr>\n",
       "    <tr>\n",
       "      <th>2016-12-01</th>\n",
       "      <td>26.12860</td>\n",
       "      <td>2016</td>\n",
       "      <td>Dec</td>\n",
       "      <td>Venezuela</td>\n",
       "      <td>VEN</td>\n",
       "    </tr>\n",
       "  </tbody>\n",
       "</table>\n",
       "<p>59904 rows × 5 columns</p>\n",
       "</div>"
      ],
      "text/plain": [
       "            Temperature  Year Month      Country ISO3\n",
       "dates                                                \n",
       "1991-01-01     -0.03110  1991   Jan  Afghanistan  AFG\n",
       "1991-02-01      1.43654  1991   Feb  Afghanistan  AFG\n",
       "1991-03-01      6.88685  1991   Mar  Afghanistan  AFG\n",
       "1991-04-01     12.93970  1991   Apr  Afghanistan  AFG\n",
       "1991-05-01     17.07550  1991   May  Afghanistan  AFG\n",
       "...                 ...   ...   ...          ...  ...\n",
       "2016-08-01     26.09480  2016   Aug    Venezuela  VEN\n",
       "2016-09-01     26.22090  2016   Sep    Venezuela  VEN\n",
       "2016-10-01     26.62850  2016   Oct    Venezuela  VEN\n",
       "2016-11-01     26.27680  2016   Nov    Venezuela  VEN\n",
       "2016-12-01     26.12860  2016   Dec    Venezuela  VEN\n",
       "\n",
       "[59904 rows x 5 columns]"
      ]
     },
     "execution_count": 47,
     "metadata": {},
     "output_type": "execute_result"
    }
   ],
   "source": [
    "temperaturas_por_fecha = temp_df.set_index(\"dates\")\n",
    "temperaturas_por_fecha"
   ]
  },
  {
   "cell_type": "code",
   "execution_count": 48,
   "id": "ddf66587",
   "metadata": {},
   "outputs": [
    {
     "data": {
      "text/html": [
       "<div>\n",
       "<style scoped>\n",
       "    .dataframe tbody tr th:only-of-type {\n",
       "        vertical-align: middle;\n",
       "    }\n",
       "\n",
       "    .dataframe tbody tr th {\n",
       "        vertical-align: top;\n",
       "    }\n",
       "\n",
       "    .dataframe thead th {\n",
       "        text-align: right;\n",
       "    }\n",
       "</style>\n",
       "<table border=\"1\" class=\"dataframe\">\n",
       "  <thead>\n",
       "    <tr style=\"text-align: right;\">\n",
       "      <th></th>\n",
       "      <th>Temperature</th>\n",
       "      <th>Year</th>\n",
       "      <th>Month</th>\n",
       "      <th>Country</th>\n",
       "      <th>ISO3</th>\n",
       "    </tr>\n",
       "    <tr>\n",
       "      <th>dates</th>\n",
       "      <th></th>\n",
       "      <th></th>\n",
       "      <th></th>\n",
       "      <th></th>\n",
       "      <th></th>\n",
       "    </tr>\n",
       "  </thead>\n",
       "  <tbody>\n",
       "    <tr>\n",
       "      <th>1995-01-01</th>\n",
       "      <td>0.92358</td>\n",
       "      <td>1995</td>\n",
       "      <td>Jan</td>\n",
       "      <td>Afghanistan</td>\n",
       "      <td>AFG</td>\n",
       "    </tr>\n",
       "    <tr>\n",
       "      <th>1995-02-01</th>\n",
       "      <td>2.96133</td>\n",
       "      <td>1995</td>\n",
       "      <td>Feb</td>\n",
       "      <td>Afghanistan</td>\n",
       "      <td>AFG</td>\n",
       "    </tr>\n",
       "    <tr>\n",
       "      <th>1995-03-01</th>\n",
       "      <td>6.36893</td>\n",
       "      <td>1995</td>\n",
       "      <td>Mar</td>\n",
       "      <td>Afghanistan</td>\n",
       "      <td>AFG</td>\n",
       "    </tr>\n",
       "    <tr>\n",
       "      <th>1995-04-01</th>\n",
       "      <td>12.26760</td>\n",
       "      <td>1995</td>\n",
       "      <td>Apr</td>\n",
       "      <td>Afghanistan</td>\n",
       "      <td>AFG</td>\n",
       "    </tr>\n",
       "    <tr>\n",
       "      <th>1995-05-01</th>\n",
       "      <td>18.11870</td>\n",
       "      <td>1995</td>\n",
       "      <td>May</td>\n",
       "      <td>Afghanistan</td>\n",
       "      <td>AFG</td>\n",
       "    </tr>\n",
       "    <tr>\n",
       "      <th>...</th>\n",
       "      <td>...</td>\n",
       "      <td>...</td>\n",
       "      <td>...</td>\n",
       "      <td>...</td>\n",
       "      <td>...</td>\n",
       "    </tr>\n",
       "    <tr>\n",
       "      <th>1999-08-01</th>\n",
       "      <td>24.86170</td>\n",
       "      <td>1999</td>\n",
       "      <td>Aug</td>\n",
       "      <td>Venezuela</td>\n",
       "      <td>VEN</td>\n",
       "    </tr>\n",
       "    <tr>\n",
       "      <th>1999-09-01</th>\n",
       "      <td>25.33310</td>\n",
       "      <td>1999</td>\n",
       "      <td>Sep</td>\n",
       "      <td>Venezuela</td>\n",
       "      <td>VEN</td>\n",
       "    </tr>\n",
       "    <tr>\n",
       "      <th>1999-10-01</th>\n",
       "      <td>25.35280</td>\n",
       "      <td>1999</td>\n",
       "      <td>Oct</td>\n",
       "      <td>Venezuela</td>\n",
       "      <td>VEN</td>\n",
       "    </tr>\n",
       "    <tr>\n",
       "      <th>1999-11-01</th>\n",
       "      <td>25.94590</td>\n",
       "      <td>1999</td>\n",
       "      <td>Nov</td>\n",
       "      <td>Venezuela</td>\n",
       "      <td>VEN</td>\n",
       "    </tr>\n",
       "    <tr>\n",
       "      <th>1999-12-01</th>\n",
       "      <td>25.39510</td>\n",
       "      <td>1999</td>\n",
       "      <td>Dec</td>\n",
       "      <td>Venezuela</td>\n",
       "      <td>VEN</td>\n",
       "    </tr>\n",
       "  </tbody>\n",
       "</table>\n",
       "<p>11520 rows × 5 columns</p>\n",
       "</div>"
      ],
      "text/plain": [
       "            Temperature  Year Month      Country ISO3\n",
       "dates                                                \n",
       "1995-01-01      0.92358  1995   Jan  Afghanistan  AFG\n",
       "1995-02-01      2.96133  1995   Feb  Afghanistan  AFG\n",
       "1995-03-01      6.36893  1995   Mar  Afghanistan  AFG\n",
       "1995-04-01     12.26760  1995   Apr  Afghanistan  AFG\n",
       "1995-05-01     18.11870  1995   May  Afghanistan  AFG\n",
       "...                 ...   ...   ...          ...  ...\n",
       "1999-08-01     24.86170  1999   Aug    Venezuela  VEN\n",
       "1999-09-01     25.33310  1999   Sep    Venezuela  VEN\n",
       "1999-10-01     25.35280  1999   Oct    Venezuela  VEN\n",
       "1999-11-01     25.94590  1999   Nov    Venezuela  VEN\n",
       "1999-12-01     25.39510  1999   Dec    Venezuela  VEN\n",
       "\n",
       "[11520 rows x 5 columns]"
      ]
     },
     "execution_count": 48,
     "metadata": {},
     "output_type": "execute_result"
    }
   ],
   "source": [
    "# Rango 1995-1-1 al 199-12-1\n",
    "temperaturas_por_fecha.loc[\"1995-1-1\":\"1999-12-1\"]"
   ]
  },
  {
   "cell_type": "code",
   "execution_count": 50,
   "id": "6fccfe47",
   "metadata": {},
   "outputs": [
    {
     "data": {
      "text/html": [
       "<div>\n",
       "<style scoped>\n",
       "    .dataframe tbody tr th:only-of-type {\n",
       "        vertical-align: middle;\n",
       "    }\n",
       "\n",
       "    .dataframe tbody tr th {\n",
       "        vertical-align: top;\n",
       "    }\n",
       "\n",
       "    .dataframe thead th {\n",
       "        text-align: right;\n",
       "    }\n",
       "</style>\n",
       "<table border=\"1\" class=\"dataframe\">\n",
       "  <thead>\n",
       "    <tr style=\"text-align: right;\">\n",
       "      <th></th>\n",
       "      <th>Temperature</th>\n",
       "      <th>Year</th>\n",
       "      <th>Month</th>\n",
       "      <th>Country</th>\n",
       "      <th>ISO3</th>\n",
       "    </tr>\n",
       "    <tr>\n",
       "      <th>dates</th>\n",
       "      <th></th>\n",
       "      <th></th>\n",
       "      <th></th>\n",
       "      <th></th>\n",
       "      <th></th>\n",
       "    </tr>\n",
       "  </thead>\n",
       "  <tbody>\n",
       "    <tr>\n",
       "      <th>1999-11-01</th>\n",
       "      <td>8.22556</td>\n",
       "      <td>1999</td>\n",
       "      <td>Nov</td>\n",
       "      <td>Afghanistan</td>\n",
       "      <td>AFG</td>\n",
       "    </tr>\n",
       "    <tr>\n",
       "      <th>1999-12-01</th>\n",
       "      <td>3.80288</td>\n",
       "      <td>1999</td>\n",
       "      <td>Dec</td>\n",
       "      <td>Afghanistan</td>\n",
       "      <td>AFG</td>\n",
       "    </tr>\n",
       "    <tr>\n",
       "      <th>1999-11-01</th>\n",
       "      <td>7.79985</td>\n",
       "      <td>1999</td>\n",
       "      <td>Nov</td>\n",
       "      <td>Albania</td>\n",
       "      <td>ALB</td>\n",
       "    </tr>\n",
       "    <tr>\n",
       "      <th>1999-12-01</th>\n",
       "      <td>4.74799</td>\n",
       "      <td>1999</td>\n",
       "      <td>Dec</td>\n",
       "      <td>Albania</td>\n",
       "      <td>ALB</td>\n",
       "    </tr>\n",
       "    <tr>\n",
       "      <th>1999-11-01</th>\n",
       "      <td>17.59640</td>\n",
       "      <td>1999</td>\n",
       "      <td>Nov</td>\n",
       "      <td>Algeria</td>\n",
       "      <td>DZA</td>\n",
       "    </tr>\n",
       "    <tr>\n",
       "      <th>...</th>\n",
       "      <td>...</td>\n",
       "      <td>...</td>\n",
       "      <td>...</td>\n",
       "      <td>...</td>\n",
       "      <td>...</td>\n",
       "    </tr>\n",
       "    <tr>\n",
       "      <th>1999-12-01</th>\n",
       "      <td>2.38418</td>\n",
       "      <td>1999</td>\n",
       "      <td>Dec</td>\n",
       "      <td>Uzbekistan</td>\n",
       "      <td>UZB</td>\n",
       "    </tr>\n",
       "    <tr>\n",
       "      <th>1999-11-01</th>\n",
       "      <td>24.71980</td>\n",
       "      <td>1999</td>\n",
       "      <td>Nov</td>\n",
       "      <td>Vanuatu</td>\n",
       "      <td>VUT</td>\n",
       "    </tr>\n",
       "    <tr>\n",
       "      <th>1999-12-01</th>\n",
       "      <td>24.55080</td>\n",
       "      <td>1999</td>\n",
       "      <td>Dec</td>\n",
       "      <td>Vanuatu</td>\n",
       "      <td>VUT</td>\n",
       "    </tr>\n",
       "    <tr>\n",
       "      <th>1999-11-01</th>\n",
       "      <td>25.94590</td>\n",
       "      <td>1999</td>\n",
       "      <td>Nov</td>\n",
       "      <td>Venezuela</td>\n",
       "      <td>VEN</td>\n",
       "    </tr>\n",
       "    <tr>\n",
       "      <th>1999-12-01</th>\n",
       "      <td>25.39510</td>\n",
       "      <td>1999</td>\n",
       "      <td>Dec</td>\n",
       "      <td>Venezuela</td>\n",
       "      <td>VEN</td>\n",
       "    </tr>\n",
       "  </tbody>\n",
       "</table>\n",
       "<p>384 rows × 5 columns</p>\n",
       "</div>"
      ],
      "text/plain": [
       "            Temperature  Year Month      Country ISO3\n",
       "dates                                                \n",
       "1999-11-01      8.22556  1999   Nov  Afghanistan  AFG\n",
       "1999-12-01      3.80288  1999   Dec  Afghanistan  AFG\n",
       "1999-11-01      7.79985  1999   Nov      Albania  ALB\n",
       "1999-12-01      4.74799  1999   Dec      Albania  ALB\n",
       "1999-11-01     17.59640  1999   Nov      Algeria  DZA\n",
       "...                 ...   ...   ...          ...  ...\n",
       "1999-12-01      2.38418  1999   Dec   Uzbekistan  UZB\n",
       "1999-11-01     24.71980  1999   Nov      Vanuatu  VUT\n",
       "1999-12-01     24.55080  1999   Dec      Vanuatu  VUT\n",
       "1999-11-01     25.94590  1999   Nov    Venezuela  VEN\n",
       "1999-12-01     25.39510  1999   Dec    Venezuela  VEN\n",
       "\n",
       "[384 rows x 5 columns]"
      ]
     },
     "execution_count": 50,
     "metadata": {},
     "output_type": "execute_result"
    }
   ],
   "source": [
    "temperaturas_por_fecha.loc[\"1999-11-1\":\"1999-12-1\"]"
   ]
  },
  {
   "cell_type": "markdown",
   "id": "9b82491c",
   "metadata": {},
   "source": [
    "### Pandas Timedeltas\n",
    "\n",
    "En general podemos construir un `pd.Timedelta` con los parámetros:\n",
    "\n",
    "`weeks, days, hours, minutes, seconds, milliseconds, microseconds, nanoseconds`"
   ]
  },
  {
   "cell_type": "code",
   "execution_count": 51,
   "id": "c2f29530",
   "metadata": {},
   "outputs": [
    {
     "data": {
      "text/plain": [
       "Timedelta('14 days 00:00:00')"
      ]
     },
     "execution_count": 51,
     "metadata": {},
     "output_type": "execute_result"
    }
   ],
   "source": [
    "ptd1 = pd.Timedelta(weeks=2)\n",
    "ptd1"
   ]
  },
  {
   "cell_type": "code",
   "execution_count": 52,
   "id": "30dea727",
   "metadata": {},
   "outputs": [
    {
     "data": {
      "text/plain": [
       "0       1991-01-15\n",
       "1       1991-02-15\n",
       "2       1991-03-15\n",
       "3       1991-04-15\n",
       "4       1991-05-15\n",
       "           ...    \n",
       "59899   2016-08-15\n",
       "59900   2016-09-15\n",
       "59901   2016-10-15\n",
       "59902   2016-11-15\n",
       "59903   2016-12-15\n",
       "Name: dates, Length: 59904, dtype: datetime64[ns]"
      ]
     },
     "execution_count": 52,
     "metadata": {},
     "output_type": "execute_result"
    }
   ],
   "source": [
    "temp_df[\"dates\"] + ptd1"
   ]
  },
  {
   "cell_type": "markdown",
   "id": "8d1c0fd6",
   "metadata": {},
   "source": [
    "Y podemos también hacer Broadcasting con `datetime.timedeltas`"
   ]
  },
  {
   "cell_type": "code",
   "execution_count": 53,
   "id": "50156294",
   "metadata": {},
   "outputs": [
    {
     "data": {
      "text/plain": [
       "0       1990-12-31\n",
       "1       1991-01-31\n",
       "2       1991-02-28\n",
       "3       1991-03-31\n",
       "4       1991-04-30\n",
       "           ...    \n",
       "59899   2016-07-31\n",
       "59900   2016-08-31\n",
       "59901   2016-09-30\n",
       "59902   2016-10-31\n",
       "59903   2016-11-30\n",
       "Name: dates, Length: 59904, dtype: datetime64[ns]"
      ]
     },
     "execution_count": 53,
     "metadata": {},
     "output_type": "execute_result"
    }
   ],
   "source": [
    "temp_df[\"dates\"] + datetime.timedelta(days=-1)"
   ]
  },
  {
   "cell_type": "markdown",
   "id": "6712adb9",
   "metadata": {},
   "source": [
    "## Datos Categóricos"
   ]
  },
  {
   "cell_type": "markdown",
   "id": "5f1e50e8",
   "metadata": {},
   "source": [
    "Una variable categórica es un tipo de dato que puede tomar un número limitado (y usualmente fijo) de posibles valores.\n",
    "Ejemplos de esto: Género, clase social, tipo de sangre, etc...\n",
    "\n",
    "En general, guardar los datos como categóricos es mucho más eficiente que guardarlos como string. Según la referencia de pandas:\n",
    "\n",
    "> The memory usage of a Categorical is proportional to the number of categories plus the length of the data. In contrast, an object dtype is a constant times the length of the data.\n",
    "\n",
    "Como ejemplo, usaremos los continentes a los que pertenece cada país:"
   ]
  },
  {
   "cell_type": "code",
   "execution_count": 54,
   "id": "512840c6",
   "metadata": {},
   "outputs": [
    {
     "data": {
      "text/html": [
       "<div>\n",
       "<style scoped>\n",
       "    .dataframe tbody tr th:only-of-type {\n",
       "        vertical-align: middle;\n",
       "    }\n",
       "\n",
       "    .dataframe tbody tr th {\n",
       "        vertical-align: top;\n",
       "    }\n",
       "\n",
       "    .dataframe thead th {\n",
       "        text-align: right;\n",
       "    }\n",
       "</style>\n",
       "<table border=\"1\" class=\"dataframe\">\n",
       "  <thead>\n",
       "    <tr style=\"text-align: right;\">\n",
       "      <th></th>\n",
       "      <th>Continent_Name</th>\n",
       "      <th>Country_Name</th>\n",
       "    </tr>\n",
       "  </thead>\n",
       "  <tbody>\n",
       "    <tr>\n",
       "      <th>0</th>\n",
       "      <td>Asia</td>\n",
       "      <td>Afghanistan, Islamic Republic of</td>\n",
       "    </tr>\n",
       "    <tr>\n",
       "      <th>1</th>\n",
       "      <td>Europe</td>\n",
       "      <td>Albania</td>\n",
       "    </tr>\n",
       "    <tr>\n",
       "      <th>2</th>\n",
       "      <td>Antarctica</td>\n",
       "      <td>Antarctica (the territory South of 60 deg S)</td>\n",
       "    </tr>\n",
       "    <tr>\n",
       "      <th>3</th>\n",
       "      <td>Africa</td>\n",
       "      <td>Algeria, People's Democratic Republic of</td>\n",
       "    </tr>\n",
       "    <tr>\n",
       "      <th>4</th>\n",
       "      <td>Oceania</td>\n",
       "      <td>American Samoa</td>\n",
       "    </tr>\n",
       "    <tr>\n",
       "      <th>...</th>\n",
       "      <td>...</td>\n",
       "      <td>...</td>\n",
       "    </tr>\n",
       "    <tr>\n",
       "      <th>257</th>\n",
       "      <td>Africa</td>\n",
       "      <td>Zambia</td>\n",
       "    </tr>\n",
       "    <tr>\n",
       "      <th>258</th>\n",
       "      <td>Oceania</td>\n",
       "      <td>Disputed Territory</td>\n",
       "    </tr>\n",
       "    <tr>\n",
       "      <th>259</th>\n",
       "      <td>Asia</td>\n",
       "      <td>Iraq-Saudi Arabia Neutral Zone</td>\n",
       "    </tr>\n",
       "    <tr>\n",
       "      <th>260</th>\n",
       "      <td>Asia</td>\n",
       "      <td>United Nations Neutral Zone</td>\n",
       "    </tr>\n",
       "    <tr>\n",
       "      <th>261</th>\n",
       "      <td>Asia</td>\n",
       "      <td>Spratly Islands</td>\n",
       "    </tr>\n",
       "  </tbody>\n",
       "</table>\n",
       "<p>262 rows × 2 columns</p>\n",
       "</div>"
      ],
      "text/plain": [
       "    Continent_Name                                  Country_Name\n",
       "0             Asia              Afghanistan, Islamic Republic of\n",
       "1           Europe                                       Albania\n",
       "2       Antarctica  Antarctica (the territory South of 60 deg S)\n",
       "3           Africa      Algeria, People's Democratic Republic of\n",
       "4          Oceania                                American Samoa\n",
       "..             ...                                           ...\n",
       "257         Africa                                        Zambia\n",
       "258        Oceania                            Disputed Territory\n",
       "259           Asia                Iraq-Saudi Arabia Neutral Zone\n",
       "260           Asia                   United Nations Neutral Zone\n",
       "261           Asia                               Spratly Islands\n",
       "\n",
       "[262 rows x 2 columns]"
      ]
     },
     "execution_count": 54,
     "metadata": {},
     "output_type": "execute_result"
    }
   ],
   "source": [
    "countries_and_continents = pd.read_csv(\"resources/country-and-continent.csv\")\n",
    "countries_and_continents = countries_and_continents.loc[\n",
    "    :, [\"Continent_Name\", \"Country_Name\"]\n",
    "]\n",
    "countries_and_continents"
   ]
  },
  {
   "cell_type": "markdown",
   "id": "712bf64b",
   "metadata": {},
   "source": [
    "Declaramos una variable como categórica transformando la serie a `category` con `.astype(\"category\")`:"
   ]
  },
  {
   "cell_type": "code",
   "execution_count": 55,
   "id": "3ec05073",
   "metadata": {},
   "outputs": [
    {
     "data": {
      "text/plain": [
       "0            Asia\n",
       "1          Europe\n",
       "2      Antarctica\n",
       "3          Africa\n",
       "4         Oceania\n",
       "          ...    \n",
       "257        Africa\n",
       "258       Oceania\n",
       "259          Asia\n",
       "260          Asia\n",
       "261          Asia\n",
       "Name: Continent_Name, Length: 262, dtype: object"
      ]
     },
     "execution_count": 55,
     "metadata": {},
     "output_type": "execute_result"
    }
   ],
   "source": [
    "countries_and_continents[\n",
    "    \"Continent_Name\"\n",
    "]"
   ]
  },
  {
   "cell_type": "code",
   "execution_count": 56,
   "id": "59e3f06e",
   "metadata": {},
   "outputs": [
    {
     "data": {
      "text/plain": [
       "0            Asia\n",
       "1          Europe\n",
       "2      Antarctica\n",
       "3          Africa\n",
       "4         Oceania\n",
       "          ...    \n",
       "257        Africa\n",
       "258       Oceania\n",
       "259          Asia\n",
       "260          Asia\n",
       "261          Asia\n",
       "Name: Continent_Name, Length: 262, dtype: category\n",
       "Categories (7, object): ['Africa', 'Antarctica', 'Asia', 'Europe', 'North America', 'Oceania', 'South America']"
      ]
     },
     "execution_count": 56,
     "metadata": {},
     "output_type": "execute_result"
    }
   ],
   "source": [
    "countries_and_continents[\"Continent_Name\"] = countries_and_continents[\n",
    "    \"Continent_Name\"\n",
    "].astype(\"category\")\n",
    "countries_and_continents[\"Continent_Name\"]"
   ]
  },
  {
   "cell_type": "markdown",
   "id": "ee141f03",
   "metadata": {},
   "source": [
    "Podemos acceder a las categorías con:"
   ]
  },
  {
   "cell_type": "code",
   "execution_count": 57,
   "id": "b70868bb",
   "metadata": {},
   "outputs": [
    {
     "data": {
      "text/plain": [
       "Index(['Africa', 'Antarctica', 'Asia', 'Europe', 'North America', 'Oceania',\n",
       "       'South America'],\n",
       "      dtype='object')"
      ]
     },
     "execution_count": 57,
     "metadata": {},
     "output_type": "execute_result"
    }
   ],
   "source": [
    "countries_and_continents[\"Continent_Name\"].cat.categories"
   ]
  },
  {
   "cell_type": "markdown",
   "id": "8d4d06e1",
   "metadata": {},
   "source": [
    "### Operaciones con categorías"
   ]
  },
  {
   "cell_type": "markdown",
   "id": "44faff37",
   "metadata": {},
   "source": [
    "Podemos renombrar categorías:"
   ]
  },
  {
   "cell_type": "code",
   "execution_count": 58,
   "id": "a835687d",
   "metadata": {},
   "outputs": [
    {
     "data": {
      "text/plain": [
       "0            Asia\n",
       "1          Europa\n",
       "2      Antarctica\n",
       "3          Africa\n",
       "4         Oceania\n",
       "          ...    \n",
       "257        Africa\n",
       "258       Oceania\n",
       "259          Asia\n",
       "260          Asia\n",
       "261          Asia\n",
       "Name: Continent_Name, Length: 262, dtype: category\n",
       "Categories (7, object): ['Africa', 'Antarctica', 'Asia', 'Europa', 'América del Norte', 'Oceania', 'América del Sur']"
      ]
     },
     "execution_count": 58,
     "metadata": {},
     "output_type": "execute_result"
    }
   ],
   "source": [
    "countries_and_continents[\"Continent_Name\"] = countries_and_continents[\n",
    "    \"Continent_Name\"].cat.rename_categories([\n",
    "        \"Africa\",\n",
    "        \"Antarctica\",\n",
    "        \"Asia\",\n",
    "        \"Europa\",\n",
    "        \"América del Norte\",\n",
    "        \"Oceania\",\n",
    "        \"América del Sur\",\n",
    "    ])\n",
    "\n",
    "countries_and_continents[\"Continent_Name\"]"
   ]
  },
  {
   "cell_type": "code",
   "execution_count": 59,
   "id": "c8b0928a",
   "metadata": {
    "scrolled": true
   },
   "outputs": [
    {
     "data": {
      "text/html": [
       "<div>\n",
       "<style scoped>\n",
       "    .dataframe tbody tr th:only-of-type {\n",
       "        vertical-align: middle;\n",
       "    }\n",
       "\n",
       "    .dataframe tbody tr th {\n",
       "        vertical-align: top;\n",
       "    }\n",
       "\n",
       "    .dataframe thead th {\n",
       "        text-align: right;\n",
       "    }\n",
       "</style>\n",
       "<table border=\"1\" class=\"dataframe\">\n",
       "  <thead>\n",
       "    <tr style=\"text-align: right;\">\n",
       "      <th></th>\n",
       "      <th>Continent_Name</th>\n",
       "      <th>Country_Name</th>\n",
       "    </tr>\n",
       "  </thead>\n",
       "  <tbody>\n",
       "    <tr>\n",
       "      <th>29</th>\n",
       "      <td>Oceania</td>\n",
       "      <td>Solomon Islands</td>\n",
       "    </tr>\n",
       "    <tr>\n",
       "      <th>144</th>\n",
       "      <td>Europa</td>\n",
       "      <td>Monaco, Principality of</td>\n",
       "    </tr>\n",
       "    <tr>\n",
       "      <th>105</th>\n",
       "      <td>Europa</td>\n",
       "      <td>Iceland</td>\n",
       "    </tr>\n",
       "    <tr>\n",
       "      <th>147</th>\n",
       "      <td>Europa</td>\n",
       "      <td>Montenegro</td>\n",
       "    </tr>\n",
       "    <tr>\n",
       "      <th>39</th>\n",
       "      <td>Africa</td>\n",
       "      <td>Cape Verde</td>\n",
       "    </tr>\n",
       "    <tr>\n",
       "      <th>102</th>\n",
       "      <td>América del Norte</td>\n",
       "      <td>Honduras</td>\n",
       "    </tr>\n",
       "    <tr>\n",
       "      <th>205</th>\n",
       "      <td>Africa</td>\n",
       "      <td>Senegal</td>\n",
       "    </tr>\n",
       "    <tr>\n",
       "      <th>98</th>\n",
       "      <td>América del Sur</td>\n",
       "      <td>Guyana, Co-operative Republic of</td>\n",
       "    </tr>\n",
       "    <tr>\n",
       "      <th>252</th>\n",
       "      <td>Asia</td>\n",
       "      <td>Uzbekistan</td>\n",
       "    </tr>\n",
       "    <tr>\n",
       "      <th>189</th>\n",
       "      <td>Africa</td>\n",
       "      <td>Reunion</td>\n",
       "    </tr>\n",
       "  </tbody>\n",
       "</table>\n",
       "</div>"
      ],
      "text/plain": [
       "        Continent_Name                      Country_Name\n",
       "29             Oceania                   Solomon Islands\n",
       "144             Europa           Monaco, Principality of\n",
       "105             Europa                           Iceland\n",
       "147             Europa                        Montenegro\n",
       "39              Africa                        Cape Verde\n",
       "102  América del Norte                          Honduras\n",
       "205             Africa                           Senegal\n",
       "98     América del Sur  Guyana, Co-operative Republic of\n",
       "252               Asia                        Uzbekistan\n",
       "189             Africa                           Reunion"
      ]
     },
     "execution_count": 59,
     "metadata": {},
     "output_type": "execute_result"
    }
   ],
   "source": [
    "countries_and_continents.sample(10)"
   ]
  },
  {
   "cell_type": "code",
   "execution_count": 60,
   "id": "5ffc9f3f",
   "metadata": {},
   "outputs": [],
   "source": [
    "countries_and_continents[\"Continent_Name\"] = countries_and_continents[\n",
    "    \"Continent_Name\"\n",
    "].cat.rename_categories({\"Europe\": \"Europa\",})"
   ]
  },
  {
   "cell_type": "code",
   "execution_count": 61,
   "id": "e4eccc66",
   "metadata": {},
   "outputs": [
    {
     "data": {
      "text/html": [
       "<div>\n",
       "<style scoped>\n",
       "    .dataframe tbody tr th:only-of-type {\n",
       "        vertical-align: middle;\n",
       "    }\n",
       "\n",
       "    .dataframe tbody tr th {\n",
       "        vertical-align: top;\n",
       "    }\n",
       "\n",
       "    .dataframe thead th {\n",
       "        text-align: right;\n",
       "    }\n",
       "</style>\n",
       "<table border=\"1\" class=\"dataframe\">\n",
       "  <thead>\n",
       "    <tr style=\"text-align: right;\">\n",
       "      <th></th>\n",
       "      <th>Continent_Name</th>\n",
       "      <th>Country_Name</th>\n",
       "    </tr>\n",
       "  </thead>\n",
       "  <tbody>\n",
       "    <tr>\n",
       "      <th>0</th>\n",
       "      <td>Asia</td>\n",
       "      <td>Afghanistan, Islamic Republic of</td>\n",
       "    </tr>\n",
       "    <tr>\n",
       "      <th>1</th>\n",
       "      <td>Europa</td>\n",
       "      <td>Albania</td>\n",
       "    </tr>\n",
       "    <tr>\n",
       "      <th>2</th>\n",
       "      <td>Antarctica</td>\n",
       "      <td>Antarctica (the territory South of 60 deg S)</td>\n",
       "    </tr>\n",
       "    <tr>\n",
       "      <th>3</th>\n",
       "      <td>Africa</td>\n",
       "      <td>Algeria, People's Democratic Republic of</td>\n",
       "    </tr>\n",
       "    <tr>\n",
       "      <th>4</th>\n",
       "      <td>Oceania</td>\n",
       "      <td>American Samoa</td>\n",
       "    </tr>\n",
       "    <tr>\n",
       "      <th>...</th>\n",
       "      <td>...</td>\n",
       "      <td>...</td>\n",
       "    </tr>\n",
       "    <tr>\n",
       "      <th>257</th>\n",
       "      <td>Africa</td>\n",
       "      <td>Zambia</td>\n",
       "    </tr>\n",
       "    <tr>\n",
       "      <th>258</th>\n",
       "      <td>Oceania</td>\n",
       "      <td>Disputed Territory</td>\n",
       "    </tr>\n",
       "    <tr>\n",
       "      <th>259</th>\n",
       "      <td>Asia</td>\n",
       "      <td>Iraq-Saudi Arabia Neutral Zone</td>\n",
       "    </tr>\n",
       "    <tr>\n",
       "      <th>260</th>\n",
       "      <td>Asia</td>\n",
       "      <td>United Nations Neutral Zone</td>\n",
       "    </tr>\n",
       "    <tr>\n",
       "      <th>261</th>\n",
       "      <td>Asia</td>\n",
       "      <td>Spratly Islands</td>\n",
       "    </tr>\n",
       "  </tbody>\n",
       "</table>\n",
       "<p>262 rows × 2 columns</p>\n",
       "</div>"
      ],
      "text/plain": [
       "    Continent_Name                                  Country_Name\n",
       "0             Asia              Afghanistan, Islamic Republic of\n",
       "1           Europa                                       Albania\n",
       "2       Antarctica  Antarctica (the territory South of 60 deg S)\n",
       "3           Africa      Algeria, People's Democratic Republic of\n",
       "4          Oceania                                American Samoa\n",
       "..             ...                                           ...\n",
       "257         Africa                                        Zambia\n",
       "258        Oceania                            Disputed Territory\n",
       "259           Asia                Iraq-Saudi Arabia Neutral Zone\n",
       "260           Asia                   United Nations Neutral Zone\n",
       "261           Asia                               Spratly Islands\n",
       "\n",
       "[262 rows x 2 columns]"
      ]
     },
     "execution_count": 61,
     "metadata": {},
     "output_type": "execute_result"
    }
   ],
   "source": [
    "countries_and_continents"
   ]
  },
  {
   "cell_type": "markdown",
   "id": "164d59f2",
   "metadata": {},
   "source": [
    "Se pueden agregar categorías"
   ]
  },
  {
   "cell_type": "code",
   "execution_count": 62,
   "id": "398abfad",
   "metadata": {},
   "outputs": [
    {
     "data": {
      "text/plain": [
       "0            Asia\n",
       "1          Europa\n",
       "2      Antarctica\n",
       "3          Africa\n",
       "4         Oceania\n",
       "          ...    \n",
       "257        Africa\n",
       "258       Oceania\n",
       "259          Asia\n",
       "260          Asia\n",
       "261          Asia\n",
       "Name: Continent_Name, Length: 262, dtype: category\n",
       "Categories (8, object): ['Africa', 'Antarctica', 'Asia', 'Europa', 'América del Norte', 'Oceania', 'América del Sur', 'Atlantida']"
      ]
     },
     "execution_count": 62,
     "metadata": {},
     "output_type": "execute_result"
    }
   ],
   "source": [
    "countries_and_continents[\"Continent_Name\"].cat.add_categories([\"Atlantida\"])"
   ]
  },
  {
   "cell_type": "markdown",
   "id": "bc0d4fb6",
   "metadata": {},
   "source": [
    "Como también eliminarlas"
   ]
  },
  {
   "cell_type": "code",
   "execution_count": 63,
   "id": "7659da5b",
   "metadata": {},
   "outputs": [
    {
     "data": {
      "text/plain": [
       "0            Asia\n",
       "1          Europa\n",
       "2      Antarctica\n",
       "3          Africa\n",
       "4         Oceania\n",
       "          ...    \n",
       "257        Africa\n",
       "258       Oceania\n",
       "259          Asia\n",
       "260          Asia\n",
       "261          Asia\n",
       "Name: Continent_Name, Length: 262, dtype: category\n",
       "Categories (7, object): ['Africa', 'Antarctica', 'Asia', 'Europa', 'América del Norte', 'Oceania', 'América del Sur']"
      ]
     },
     "execution_count": 63,
     "metadata": {},
     "output_type": "execute_result"
    }
   ],
   "source": [
    "# Remover las no usadas\n",
    "countries_and_continents[\"Continent_Name\"].cat.remove_unused_categories()"
   ]
  },
  {
   "cell_type": "code",
   "execution_count": 64,
   "id": "fa624aff",
   "metadata": {},
   "outputs": [
    {
     "data": {
      "text/plain": [
       "0            Asia\n",
       "1             NaN\n",
       "2      Antarctica\n",
       "3          Africa\n",
       "4         Oceania\n",
       "          ...    \n",
       "257        Africa\n",
       "258       Oceania\n",
       "259          Asia\n",
       "260          Asia\n",
       "261          Asia\n",
       "Name: Continent_Name, Length: 262, dtype: category\n",
       "Categories (6, object): ['Africa', 'Antarctica', 'Asia', 'América del Norte', 'Oceania', 'América del Sur']"
      ]
     },
     "execution_count": 64,
     "metadata": {},
     "output_type": "execute_result"
    }
   ],
   "source": [
    "# Como también remover una categoría completa. Esto deja los valores de esa categoría con NaN\n",
    "countries_and_continents[\"Continent_Name\"].cat.remove_categories([\"Europa\"])"
   ]
  },
  {
   "cell_type": "markdown",
   "id": "e118d406",
   "metadata": {},
   "source": [
    "### Nota sobre memoria\n",
    "\n",
    "Como habíamos dicho, es mucho más eficiente guardar variables categóricas que strings.\n",
    "Podemos ver esto en el siguiente ejemplo:\n",
    "\n",
    "#### Usando Strings"
   ]
  },
  {
   "cell_type": "code",
   "execution_count": 65,
   "id": "4f76a4fa",
   "metadata": {},
   "outputs": [
    {
     "data": {
      "text/html": [
       "<div>\n",
       "<style scoped>\n",
       "    .dataframe tbody tr th:only-of-type {\n",
       "        vertical-align: middle;\n",
       "    }\n",
       "\n",
       "    .dataframe tbody tr th {\n",
       "        vertical-align: top;\n",
       "    }\n",
       "\n",
       "    .dataframe thead th {\n",
       "        text-align: right;\n",
       "    }\n",
       "</style>\n",
       "<table border=\"1\" class=\"dataframe\">\n",
       "  <thead>\n",
       "    <tr style=\"text-align: right;\">\n",
       "      <th></th>\n",
       "      <th>var</th>\n",
       "    </tr>\n",
       "  </thead>\n",
       "  <tbody>\n",
       "    <tr>\n",
       "      <th>0</th>\n",
       "      <td>A</td>\n",
       "    </tr>\n",
       "    <tr>\n",
       "      <th>1</th>\n",
       "      <td>B</td>\n",
       "    </tr>\n",
       "    <tr>\n",
       "      <th>2</th>\n",
       "      <td>C</td>\n",
       "    </tr>\n",
       "    <tr>\n",
       "      <th>3</th>\n",
       "      <td>D</td>\n",
       "    </tr>\n",
       "    <tr>\n",
       "      <th>4</th>\n",
       "      <td>E</td>\n",
       "    </tr>\n",
       "    <tr>\n",
       "      <th>...</th>\n",
       "      <td>...</td>\n",
       "    </tr>\n",
       "    <tr>\n",
       "      <th>9999995</th>\n",
       "      <td>F</td>\n",
       "    </tr>\n",
       "    <tr>\n",
       "      <th>9999996</th>\n",
       "      <td>G</td>\n",
       "    </tr>\n",
       "    <tr>\n",
       "      <th>9999997</th>\n",
       "      <td>H</td>\n",
       "    </tr>\n",
       "    <tr>\n",
       "      <th>9999998</th>\n",
       "      <td>I</td>\n",
       "    </tr>\n",
       "    <tr>\n",
       "      <th>9999999</th>\n",
       "      <td>J</td>\n",
       "    </tr>\n",
       "  </tbody>\n",
       "</table>\n",
       "<p>10000000 rows × 1 columns</p>\n",
       "</div>"
      ],
      "text/plain": [
       "        var\n",
       "0         A\n",
       "1         B\n",
       "2         C\n",
       "3         D\n",
       "4         E\n",
       "...      ..\n",
       "9999995   F\n",
       "9999996   G\n",
       "9999997   H\n",
       "9999998   I\n",
       "9999999   J\n",
       "\n",
       "[10000000 rows x 1 columns]"
      ]
     },
     "execution_count": 65,
     "metadata": {},
     "output_type": "execute_result"
    }
   ],
   "source": [
    "strings = pd.DataFrame([\"A\", \"B\", \"C\", \"D\", \"E\", \"F\", \"G\", \"H\", \"I\", \"J\"] *\n",
    "                       1000000,\n",
    "                       columns=[\"var\"])\n",
    "strings"
   ]
  },
  {
   "cell_type": "code",
   "execution_count": 67,
   "id": "19b26f20",
   "metadata": {},
   "outputs": [
    {
     "ename": "AttributeError",
     "evalue": "Can only use .cat accessor with a 'category' dtype",
     "output_type": "error",
     "traceback": [
      "\u001b[0;31m---------------------------------------------------------------------------\u001b[0m",
      "\u001b[0;31mAttributeError\u001b[0m                            Traceback (most recent call last)",
      "\u001b[0;32m/tmp/ipykernel_13078/3883500793.py\u001b[0m in \u001b[0;36m<module>\u001b[0;34m\u001b[0m\n\u001b[1;32m      1\u001b[0m \u001b[0;31m# strings no tienen .cat\u001b[0m\u001b[0;34m\u001b[0m\u001b[0;34m\u001b[0m\u001b[0;34m\u001b[0m\u001b[0m\n\u001b[0;32m----> 2\u001b[0;31m \u001b[0mstrings\u001b[0m\u001b[0;34m[\u001b[0m\u001b[0;34m'var'\u001b[0m\u001b[0;34m]\u001b[0m\u001b[0;34m.\u001b[0m\u001b[0mcat\u001b[0m\u001b[0;34m\u001b[0m\u001b[0;34m\u001b[0m\u001b[0m\n\u001b[0m",
      "\u001b[0;32m~/miniconda3/lib/python3.9/site-packages/pandas/core/generic.py\u001b[0m in \u001b[0;36m__getattr__\u001b[0;34m(self, name)\u001b[0m\n\u001b[1;32m   5485\u001b[0m         ):\n\u001b[1;32m   5486\u001b[0m             \u001b[0;32mreturn\u001b[0m \u001b[0mself\u001b[0m\u001b[0;34m[\u001b[0m\u001b[0mname\u001b[0m\u001b[0;34m]\u001b[0m\u001b[0;34m\u001b[0m\u001b[0;34m\u001b[0m\u001b[0m\n\u001b[0;32m-> 5487\u001b[0;31m         \u001b[0;32mreturn\u001b[0m \u001b[0mobject\u001b[0m\u001b[0;34m.\u001b[0m\u001b[0m__getattribute__\u001b[0m\u001b[0;34m(\u001b[0m\u001b[0mself\u001b[0m\u001b[0;34m,\u001b[0m \u001b[0mname\u001b[0m\u001b[0;34m)\u001b[0m\u001b[0;34m\u001b[0m\u001b[0;34m\u001b[0m\u001b[0m\n\u001b[0m\u001b[1;32m   5488\u001b[0m \u001b[0;34m\u001b[0m\u001b[0m\n\u001b[1;32m   5489\u001b[0m     \u001b[0;32mdef\u001b[0m \u001b[0m__setattr__\u001b[0m\u001b[0;34m(\u001b[0m\u001b[0mself\u001b[0m\u001b[0;34m,\u001b[0m \u001b[0mname\u001b[0m\u001b[0;34m:\u001b[0m \u001b[0mstr\u001b[0m\u001b[0;34m,\u001b[0m \u001b[0mvalue\u001b[0m\u001b[0;34m)\u001b[0m \u001b[0;34m->\u001b[0m \u001b[0;32mNone\u001b[0m\u001b[0;34m:\u001b[0m\u001b[0;34m\u001b[0m\u001b[0;34m\u001b[0m\u001b[0m\n",
      "\u001b[0;32m~/miniconda3/lib/python3.9/site-packages/pandas/core/accessor.py\u001b[0m in \u001b[0;36m__get__\u001b[0;34m(self, obj, cls)\u001b[0m\n\u001b[1;32m    179\u001b[0m             \u001b[0;31m# we're accessing the attribute of the class, i.e., Dataset.geo\u001b[0m\u001b[0;34m\u001b[0m\u001b[0;34m\u001b[0m\u001b[0;34m\u001b[0m\u001b[0m\n\u001b[1;32m    180\u001b[0m             \u001b[0;32mreturn\u001b[0m \u001b[0mself\u001b[0m\u001b[0;34m.\u001b[0m\u001b[0m_accessor\u001b[0m\u001b[0;34m\u001b[0m\u001b[0;34m\u001b[0m\u001b[0m\n\u001b[0;32m--> 181\u001b[0;31m         \u001b[0maccessor_obj\u001b[0m \u001b[0;34m=\u001b[0m \u001b[0mself\u001b[0m\u001b[0;34m.\u001b[0m\u001b[0m_accessor\u001b[0m\u001b[0;34m(\u001b[0m\u001b[0mobj\u001b[0m\u001b[0;34m)\u001b[0m\u001b[0;34m\u001b[0m\u001b[0;34m\u001b[0m\u001b[0m\n\u001b[0m\u001b[1;32m    182\u001b[0m         \u001b[0;31m# Replace the property with the accessor object. Inspired by:\u001b[0m\u001b[0;34m\u001b[0m\u001b[0;34m\u001b[0m\u001b[0;34m\u001b[0m\u001b[0m\n\u001b[1;32m    183\u001b[0m         \u001b[0;31m# https://www.pydanny.com/cached-property.html\u001b[0m\u001b[0;34m\u001b[0m\u001b[0;34m\u001b[0m\u001b[0;34m\u001b[0m\u001b[0m\n",
      "\u001b[0;32m~/miniconda3/lib/python3.9/site-packages/pandas/core/arrays/categorical.py\u001b[0m in \u001b[0;36m__init__\u001b[0;34m(self, data)\u001b[0m\n\u001b[1;32m   2598\u001b[0m \u001b[0;34m\u001b[0m\u001b[0m\n\u001b[1;32m   2599\u001b[0m     \u001b[0;32mdef\u001b[0m \u001b[0m__init__\u001b[0m\u001b[0;34m(\u001b[0m\u001b[0mself\u001b[0m\u001b[0;34m,\u001b[0m \u001b[0mdata\u001b[0m\u001b[0;34m)\u001b[0m\u001b[0;34m:\u001b[0m\u001b[0;34m\u001b[0m\u001b[0;34m\u001b[0m\u001b[0m\n\u001b[0;32m-> 2600\u001b[0;31m         \u001b[0mself\u001b[0m\u001b[0;34m.\u001b[0m\u001b[0m_validate\u001b[0m\u001b[0;34m(\u001b[0m\u001b[0mdata\u001b[0m\u001b[0;34m)\u001b[0m\u001b[0;34m\u001b[0m\u001b[0;34m\u001b[0m\u001b[0m\n\u001b[0m\u001b[1;32m   2601\u001b[0m         \u001b[0mself\u001b[0m\u001b[0;34m.\u001b[0m\u001b[0m_parent\u001b[0m \u001b[0;34m=\u001b[0m \u001b[0mdata\u001b[0m\u001b[0;34m.\u001b[0m\u001b[0mvalues\u001b[0m\u001b[0;34m\u001b[0m\u001b[0;34m\u001b[0m\u001b[0m\n\u001b[1;32m   2602\u001b[0m         \u001b[0mself\u001b[0m\u001b[0;34m.\u001b[0m\u001b[0m_index\u001b[0m \u001b[0;34m=\u001b[0m \u001b[0mdata\u001b[0m\u001b[0;34m.\u001b[0m\u001b[0mindex\u001b[0m\u001b[0;34m\u001b[0m\u001b[0;34m\u001b[0m\u001b[0m\n",
      "\u001b[0;32m~/miniconda3/lib/python3.9/site-packages/pandas/core/arrays/categorical.py\u001b[0m in \u001b[0;36m_validate\u001b[0;34m(data)\u001b[0m\n\u001b[1;32m   2607\u001b[0m     \u001b[0;32mdef\u001b[0m \u001b[0m_validate\u001b[0m\u001b[0;34m(\u001b[0m\u001b[0mdata\u001b[0m\u001b[0;34m)\u001b[0m\u001b[0;34m:\u001b[0m\u001b[0;34m\u001b[0m\u001b[0;34m\u001b[0m\u001b[0m\n\u001b[1;32m   2608\u001b[0m         \u001b[0;32mif\u001b[0m \u001b[0;32mnot\u001b[0m \u001b[0mis_categorical_dtype\u001b[0m\u001b[0;34m(\u001b[0m\u001b[0mdata\u001b[0m\u001b[0;34m.\u001b[0m\u001b[0mdtype\u001b[0m\u001b[0;34m)\u001b[0m\u001b[0;34m:\u001b[0m\u001b[0;34m\u001b[0m\u001b[0;34m\u001b[0m\u001b[0m\n\u001b[0;32m-> 2609\u001b[0;31m             \u001b[0;32mraise\u001b[0m \u001b[0mAttributeError\u001b[0m\u001b[0;34m(\u001b[0m\u001b[0;34m\"Can only use .cat accessor with a 'category' dtype\"\u001b[0m\u001b[0;34m)\u001b[0m\u001b[0;34m\u001b[0m\u001b[0;34m\u001b[0m\u001b[0m\n\u001b[0m\u001b[1;32m   2610\u001b[0m \u001b[0;34m\u001b[0m\u001b[0m\n\u001b[1;32m   2611\u001b[0m     \u001b[0;32mdef\u001b[0m \u001b[0m_delegate_property_get\u001b[0m\u001b[0;34m(\u001b[0m\u001b[0mself\u001b[0m\u001b[0;34m,\u001b[0m \u001b[0mname\u001b[0m\u001b[0;34m)\u001b[0m\u001b[0;34m:\u001b[0m\u001b[0;34m\u001b[0m\u001b[0;34m\u001b[0m\u001b[0m\n",
      "\u001b[0;31mAttributeError\u001b[0m: Can only use .cat accessor with a 'category' dtype"
     ]
    }
   ],
   "source": [
    "# strings no tienen .cat\n",
    "strings['var'].cat"
   ]
  },
  {
   "cell_type": "code",
   "execution_count": null,
   "id": "8ff956b1",
   "metadata": {},
   "outputs": [],
   "source": [
    "# observen la cantidad de memoria.\n",
    "strings.info()"
   ]
  },
  {
   "cell_type": "markdown",
   "id": "18b3efe0",
   "metadata": {},
   "source": [
    "#### Usando Categorías"
   ]
  },
  {
   "cell_type": "code",
   "execution_count": null,
   "id": "2a213b4e",
   "metadata": {},
   "outputs": [],
   "source": [
    "strings = pd.DataFrame(\n",
    "    [\"A\", \"B\", \"C\", \"D\", \"E\", \"F\", \"G\", \"H\", \"I\", \"J\"] * 1000000, columns=[\"var\"]\n",
    ")\n",
    "strings[\"var\"] = strings[\"var\"].astype(\"category\")\n",
    "strings"
   ]
  },
  {
   "cell_type": "code",
   "execution_count": null,
   "id": "6801b3c5",
   "metadata": {},
   "outputs": [],
   "source": [
    "strings[\"var\"]"
   ]
  },
  {
   "cell_type": "code",
   "execution_count": 68,
   "id": "1eba147e",
   "metadata": {},
   "outputs": [
    {
     "name": "stdout",
     "output_type": "stream",
     "text": [
      "<class 'pandas.core.frame.DataFrame'>\n",
      "RangeIndex: 10000000 entries, 0 to 9999999\n",
      "Data columns (total 1 columns):\n",
      " #   Column  Dtype \n",
      "---  ------  ----- \n",
      " 0   var     object\n",
      "dtypes: object(1)\n",
      "memory usage: 76.3+ MB\n"
     ]
    }
   ],
   "source": [
    "strings.info()"
   ]
  },
  {
   "cell_type": "markdown",
   "id": "72deae27",
   "metadata": {},
   "source": [
    "### Un pequeño merge con los datos anteriores\n",
    "\n",
    "Notar que en esta versión se especificó sobre que variables hacer el merge en ambos datasets."
   ]
  },
  {
   "cell_type": "code",
   "execution_count": 69,
   "id": "13ec157a",
   "metadata": {},
   "outputs": [
    {
     "data": {
      "text/html": [
       "<div>\n",
       "<style scoped>\n",
       "    .dataframe tbody tr th:only-of-type {\n",
       "        vertical-align: middle;\n",
       "    }\n",
       "\n",
       "    .dataframe tbody tr th {\n",
       "        vertical-align: top;\n",
       "    }\n",
       "\n",
       "    .dataframe thead th {\n",
       "        text-align: right;\n",
       "    }\n",
       "</style>\n",
       "<table border=\"1\" class=\"dataframe\">\n",
       "  <thead>\n",
       "    <tr style=\"text-align: right;\">\n",
       "      <th></th>\n",
       "      <th>Country</th>\n",
       "      <th>Mean temperature</th>\n",
       "      <th>Std temperature</th>\n",
       "      <th>Continent_Name</th>\n",
       "      <th>Country_Name</th>\n",
       "    </tr>\n",
       "  </thead>\n",
       "  <tbody>\n",
       "    <tr>\n",
       "      <th>0</th>\n",
       "      <td>Afghanistan</td>\n",
       "      <td>13.545609</td>\n",
       "      <td>8.695203</td>\n",
       "      <td>NaN</td>\n",
       "      <td>NaN</td>\n",
       "    </tr>\n",
       "    <tr>\n",
       "      <th>1</th>\n",
       "      <td>Albania</td>\n",
       "      <td>12.106435</td>\n",
       "      <td>7.101392</td>\n",
       "      <td>Europa</td>\n",
       "      <td>Albania</td>\n",
       "    </tr>\n",
       "    <tr>\n",
       "      <th>2</th>\n",
       "      <td>Algeria</td>\n",
       "      <td>23.439610</td>\n",
       "      <td>7.473115</td>\n",
       "      <td>NaN</td>\n",
       "      <td>NaN</td>\n",
       "    </tr>\n",
       "    <tr>\n",
       "      <th>3</th>\n",
       "      <td>Andorra</td>\n",
       "      <td>11.953746</td>\n",
       "      <td>6.014903</td>\n",
       "      <td>NaN</td>\n",
       "      <td>NaN</td>\n",
       "    </tr>\n",
       "    <tr>\n",
       "      <th>4</th>\n",
       "      <td>Angola</td>\n",
       "      <td>22.133815</td>\n",
       "      <td>1.710757</td>\n",
       "      <td>Africa</td>\n",
       "      <td>Angola</td>\n",
       "    </tr>\n",
       "    <tr>\n",
       "      <th>...</th>\n",
       "      <td>...</td>\n",
       "      <td>...</td>\n",
       "      <td>...</td>\n",
       "      <td>...</td>\n",
       "      <td>...</td>\n",
       "    </tr>\n",
       "    <tr>\n",
       "      <th>193</th>\n",
       "      <td>United States</td>\n",
       "      <td>7.617000</td>\n",
       "      <td>9.077944</td>\n",
       "      <td>América del Norte</td>\n",
       "      <td>United States</td>\n",
       "    </tr>\n",
       "    <tr>\n",
       "      <th>194</th>\n",
       "      <td>Uruguay</td>\n",
       "      <td>17.941855</td>\n",
       "      <td>4.505184</td>\n",
       "      <td>NaN</td>\n",
       "      <td>NaN</td>\n",
       "    </tr>\n",
       "    <tr>\n",
       "      <th>195</th>\n",
       "      <td>Uzbekistan</td>\n",
       "      <td>13.158793</td>\n",
       "      <td>10.837303</td>\n",
       "      <td>Asia</td>\n",
       "      <td>Uzbekistan</td>\n",
       "    </tr>\n",
       "    <tr>\n",
       "      <th>196</th>\n",
       "      <td>Vanuatu</td>\n",
       "      <td>24.123163</td>\n",
       "      <td>1.204321</td>\n",
       "      <td>Oceania</td>\n",
       "      <td>Vanuatu</td>\n",
       "    </tr>\n",
       "    <tr>\n",
       "      <th>197</th>\n",
       "      <td>Venezuela</td>\n",
       "      <td>25.865055</td>\n",
       "      <td>0.621697</td>\n",
       "      <td>NaN</td>\n",
       "      <td>NaN</td>\n",
       "    </tr>\n",
       "  </tbody>\n",
       "</table>\n",
       "<p>198 rows × 5 columns</p>\n",
       "</div>"
      ],
      "text/plain": [
       "           Country  Mean temperature  Std temperature     Continent_Name  \\\n",
       "0      Afghanistan         13.545609         8.695203                NaN   \n",
       "1          Albania         12.106435         7.101392             Europa   \n",
       "2          Algeria         23.439610         7.473115                NaN   \n",
       "3          Andorra         11.953746         6.014903                NaN   \n",
       "4           Angola         22.133815         1.710757             Africa   \n",
       "..             ...               ...              ...                ...   \n",
       "193  United States          7.617000         9.077944  América del Norte   \n",
       "194        Uruguay         17.941855         4.505184                NaN   \n",
       "195     Uzbekistan         13.158793        10.837303               Asia   \n",
       "196        Vanuatu         24.123163         1.204321            Oceania   \n",
       "197      Venezuela         25.865055         0.621697                NaN   \n",
       "\n",
       "      Country_Name  \n",
       "0              NaN  \n",
       "1          Albania  \n",
       "2              NaN  \n",
       "3              NaN  \n",
       "4           Angola  \n",
       "..             ...  \n",
       "193  United States  \n",
       "194            NaN  \n",
       "195     Uzbekistan  \n",
       "196        Vanuatu  \n",
       "197            NaN  \n",
       "\n",
       "[198 rows x 5 columns]"
      ]
     },
     "execution_count": 69,
     "metadata": {},
     "output_type": "execute_result"
    }
   ],
   "source": [
    "temperaturas_agregadas = (\n",
    "    temp_df\n",
    "    .groupby(\"Country\")\n",
    "    .agg({\"Temperature\": [\"mean\", \"std\"]})\n",
    ")\n",
    "\n",
    "temperaturas_agregadas.columns = temperaturas_agregadas.columns.droplevel()\n",
    "temperaturas_agregadas = temperaturas_agregadas.reset_index()\n",
    "temperaturas_agregadas.columns = ['Country', 'Mean temperature', 'Std temperature']\n",
    "temperaturas_agregadas\n",
    "\n",
    "\n",
    "merged_data = pd.merge(\n",
    "    temperaturas_agregadas,\n",
    "    countries_and_continents,\n",
    "    how=\"left\",\n",
    "    left_on=\"Country\",\n",
    "    right_on=\"Country_Name\",\n",
    ")\n",
    "\n",
    "merged_data"
   ]
  },
  {
   "cell_type": "markdown",
   "id": "6eea8965",
   "metadata": {},
   "source": [
    "## Ordinales\n",
    "\n",
    "Son variables categóricas con un orden definido.\n",
    "\n",
    "Por ejemplo, hagamos una clasificación muy simple del clima a partir de la temperatura media. Para esto, calculemos cuartiles:\n",
    "\n",
    "> Nota: Los elementos meteorológicos a tomar en cuenta para definir un clima son la temperatura, la presión, el viento, la humedad y la precipitación. Referencias: https://es.wikipedia.org/wiki/Clima"
   ]
  },
  {
   "cell_type": "code",
   "execution_count": 70,
   "id": "e2af21fc",
   "metadata": {},
   "outputs": [
    {
     "data": {
      "text/plain": [
       "0      13.545609\n",
       "1      12.106435\n",
       "2      23.439610\n",
       "3      11.953746\n",
       "4      22.133815\n",
       "         ...    \n",
       "193     7.617000\n",
       "194    17.941855\n",
       "195    13.158793\n",
       "196    24.123163\n",
       "197    25.865055\n",
       "Name: Mean temperature, Length: 198, dtype: float64"
      ]
     },
     "execution_count": 70,
     "metadata": {},
     "output_type": "execute_result"
    }
   ],
   "source": [
    "mean_temp = merged_data[\"Mean temperature\"]\n",
    "mean_temp"
   ]
  },
  {
   "cell_type": "code",
   "execution_count": 71,
   "id": "119211ec",
   "metadata": {},
   "outputs": [
    {
     "data": {
      "text/plain": [
       "count    198.000000\n",
       "mean      18.889212\n",
       "std        8.721793\n",
       "min      -17.072330\n",
       "25%       11.300543\n",
       "50%       22.726409\n",
       "75%       25.844148\n",
       "max       28.883495\n",
       "Name: Mean temperature, dtype: float64"
      ]
     },
     "execution_count": 71,
     "metadata": {},
     "output_type": "execute_result"
    }
   ],
   "source": [
    "mean_temp.describe()"
   ]
  },
  {
   "cell_type": "code",
   "execution_count": 72,
   "id": "6e94df52",
   "metadata": {},
   "outputs": [
    {
     "data": {
      "text/plain": [
       "0          Frio\n",
       "1          Frio\n",
       "2      Templado\n",
       "3          Frio\n",
       "4      Templado\n",
       "         ...   \n",
       "193       Polar\n",
       "194        Frio\n",
       "195        Frio\n",
       "196    Templado\n",
       "197      Calido\n",
       "Name: Mean temperature, Length: 198, dtype: category\n",
       "Categories (5, object): ['Polar' < 'Frio' < 'Templado' < 'Calido' < 'Muy Calido']"
      ]
     },
     "execution_count": 72,
     "metadata": {},
     "output_type": "execute_result"
    }
   ],
   "source": [
    "# Spoiler Lab 3!!\n",
    "\n",
    "clima_ordinal = pd.qcut(mean_temp, 5, labels=[\"Polar\", \"Frio\", \"Templado\", \"Calido\", \"Muy Calido\"])\n",
    "clima_ordinal"
   ]
  },
  {
   "cell_type": "markdown",
   "id": "b5b2afbd",
   "metadata": {},
   "source": [
    "#### Operaciones sobre Series Categóricas con Orden"
   ]
  },
  {
   "cell_type": "code",
   "execution_count": 73,
   "id": "6607aa17",
   "metadata": {},
   "outputs": [
    {
     "data": {
      "text/plain": [
       "Polar         40\n",
       "Frio          40\n",
       "Muy Calido    40\n",
       "Templado      39\n",
       "Calido        39\n",
       "Name: Mean temperature, dtype: int64"
      ]
     },
     "execution_count": 73,
     "metadata": {},
     "output_type": "execute_result"
    }
   ],
   "source": [
    "clima_ordinal.value_counts()"
   ]
  },
  {
   "cell_type": "code",
   "execution_count": 74,
   "id": "12e2784f",
   "metadata": {},
   "outputs": [
    {
     "data": {
      "text/plain": [
       "'Polar'"
      ]
     },
     "execution_count": 74,
     "metadata": {},
     "output_type": "execute_result"
    }
   ],
   "source": [
    "clima_ordinal.min()"
   ]
  },
  {
   "cell_type": "code",
   "execution_count": 75,
   "id": "21931aa9",
   "metadata": {},
   "outputs": [
    {
     "data": {
      "text/plain": [
       "'Muy Calido'"
      ]
     },
     "execution_count": 75,
     "metadata": {},
     "output_type": "execute_result"
    }
   ],
   "source": [
    "clima_ordinal.max()"
   ]
  },
  {
   "cell_type": "code",
   "execution_count": 76,
   "id": "638655e3",
   "metadata": {},
   "outputs": [
    {
     "data": {
      "text/plain": [
       "0         Polar\n",
       "1          Frio\n",
       "2    Muy Calido\n",
       "Name: Mean temperature, dtype: category\n",
       "Categories (5, object): ['Polar' < 'Frio' < 'Templado' < 'Calido' < 'Muy Calido']"
      ]
     },
     "execution_count": 76,
     "metadata": {},
     "output_type": "execute_result"
    }
   ],
   "source": [
    "clima_ordinal.mode()"
   ]
  },
  {
   "cell_type": "markdown",
   "id": "3399de47",
   "metadata": {},
   "source": [
    "---\n",
    "\n",
    "### Ordenar y Filtrar usando Ordinales"
   ]
  },
  {
   "cell_type": "code",
   "execution_count": 77,
   "id": "9253f5fc",
   "metadata": {},
   "outputs": [
    {
     "data": {
      "text/html": [
       "<div>\n",
       "<style scoped>\n",
       "    .dataframe tbody tr th:only-of-type {\n",
       "        vertical-align: middle;\n",
       "    }\n",
       "\n",
       "    .dataframe tbody tr th {\n",
       "        vertical-align: top;\n",
       "    }\n",
       "\n",
       "    .dataframe thead th {\n",
       "        text-align: right;\n",
       "    }\n",
       "</style>\n",
       "<table border=\"1\" class=\"dataframe\">\n",
       "  <thead>\n",
       "    <tr style=\"text-align: right;\">\n",
       "      <th></th>\n",
       "      <th>Country</th>\n",
       "      <th>Mean temperature</th>\n",
       "      <th>Std temperature</th>\n",
       "      <th>Continent_Name</th>\n",
       "      <th>Country_Name</th>\n",
       "      <th>Clima cuartiles</th>\n",
       "    </tr>\n",
       "  </thead>\n",
       "  <tbody>\n",
       "    <tr>\n",
       "      <th>0</th>\n",
       "      <td>Afghanistan</td>\n",
       "      <td>13.545609</td>\n",
       "      <td>8.695203</td>\n",
       "      <td>NaN</td>\n",
       "      <td>NaN</td>\n",
       "      <td>Frio</td>\n",
       "    </tr>\n",
       "    <tr>\n",
       "      <th>1</th>\n",
       "      <td>Albania</td>\n",
       "      <td>12.106435</td>\n",
       "      <td>7.101392</td>\n",
       "      <td>Europa</td>\n",
       "      <td>Albania</td>\n",
       "      <td>Frio</td>\n",
       "    </tr>\n",
       "    <tr>\n",
       "      <th>2</th>\n",
       "      <td>Algeria</td>\n",
       "      <td>23.439610</td>\n",
       "      <td>7.473115</td>\n",
       "      <td>NaN</td>\n",
       "      <td>NaN</td>\n",
       "      <td>Templado</td>\n",
       "    </tr>\n",
       "  </tbody>\n",
       "</table>\n",
       "</div>"
      ],
      "text/plain": [
       "       Country  Mean temperature  Std temperature Continent_Name Country_Name  \\\n",
       "0  Afghanistan         13.545609         8.695203            NaN          NaN   \n",
       "1      Albania         12.106435         7.101392         Europa      Albania   \n",
       "2      Algeria         23.439610         7.473115            NaN          NaN   \n",
       "\n",
       "  Clima cuartiles  \n",
       "0            Frio  \n",
       "1            Frio  \n",
       "2        Templado  "
      ]
     },
     "execution_count": 77,
     "metadata": {},
     "output_type": "execute_result"
    }
   ],
   "source": [
    "merged_data[\"Clima cuartiles\"] = clima_ordinal\n",
    "merged_data.head(3)"
   ]
  },
  {
   "cell_type": "code",
   "execution_count": 78,
   "id": "b16236bd",
   "metadata": {},
   "outputs": [
    {
     "name": "stdout",
     "output_type": "stream",
     "text": [
      "<class 'pandas.core.frame.DataFrame'>\n",
      "Int64Index: 198 entries, 0 to 197\n",
      "Data columns (total 6 columns):\n",
      " #   Column            Non-Null Count  Dtype   \n",
      "---  ------            --------------  -----   \n",
      " 0   Country           198 non-null    object  \n",
      " 1   Mean temperature  198 non-null    float64 \n",
      " 2   Std temperature   198 non-null    float64 \n",
      " 3   Continent_Name    131 non-null    category\n",
      " 4   Country_Name      131 non-null    object  \n",
      " 5   Clima cuartiles   198 non-null    category\n",
      "dtypes: category(2), float64(2), object(2)\n",
      "memory usage: 8.7+ KB\n"
     ]
    }
   ],
   "source": [
    "merged_data.info()"
   ]
  },
  {
   "cell_type": "code",
   "execution_count": 79,
   "id": "da15425e",
   "metadata": {},
   "outputs": [
    {
     "data": {
      "text/html": [
       "<div>\n",
       "<style scoped>\n",
       "    .dataframe tbody tr th:only-of-type {\n",
       "        vertical-align: middle;\n",
       "    }\n",
       "\n",
       "    .dataframe tbody tr th {\n",
       "        vertical-align: top;\n",
       "    }\n",
       "\n",
       "    .dataframe thead th {\n",
       "        text-align: right;\n",
       "    }\n",
       "</style>\n",
       "<table border=\"1\" class=\"dataframe\">\n",
       "  <thead>\n",
       "    <tr style=\"text-align: right;\">\n",
       "      <th></th>\n",
       "      <th>Country</th>\n",
       "      <th>Mean temperature</th>\n",
       "      <th>Std temperature</th>\n",
       "      <th>Continent_Name</th>\n",
       "      <th>Country_Name</th>\n",
       "      <th>Clima cuartiles</th>\n",
       "    </tr>\n",
       "  </thead>\n",
       "  <tbody>\n",
       "    <tr>\n",
       "      <th>71</th>\n",
       "      <td>Greenland</td>\n",
       "      <td>-17.072330</td>\n",
       "      <td>8.745566</td>\n",
       "      <td>América del Norte</td>\n",
       "      <td>Greenland</td>\n",
       "      <td>Polar</td>\n",
       "    </tr>\n",
       "    <tr>\n",
       "      <th>32</th>\n",
       "      <td>Canada</td>\n",
       "      <td>-5.963874</td>\n",
       "      <td>12.528132</td>\n",
       "      <td>América del Norte</td>\n",
       "      <td>Canada</td>\n",
       "      <td>Polar</td>\n",
       "    </tr>\n",
       "    <tr>\n",
       "      <th>150</th>\n",
       "      <td>Russia</td>\n",
       "      <td>-5.255763</td>\n",
       "      <td>14.663405</td>\n",
       "      <td>Europa</td>\n",
       "      <td>Russia</td>\n",
       "      <td>Polar</td>\n",
       "    </tr>\n",
       "    <tr>\n",
       "      <th>119</th>\n",
       "      <td>Mongolia</td>\n",
       "      <td>0.598241</td>\n",
       "      <td>13.699369</td>\n",
       "      <td>Asia</td>\n",
       "      <td>Mongolia</td>\n",
       "      <td>Polar</td>\n",
       "    </tr>\n",
       "    <tr>\n",
       "      <th>133</th>\n",
       "      <td>Norway</td>\n",
       "      <td>1.726860</td>\n",
       "      <td>7.287373</td>\n",
       "      <td>Europa</td>\n",
       "      <td>Norway</td>\n",
       "      <td>Polar</td>\n",
       "    </tr>\n",
       "    <tr>\n",
       "      <th>...</th>\n",
       "      <td>...</td>\n",
       "      <td>...</td>\n",
       "      <td>...</td>\n",
       "      <td>...</td>\n",
       "      <td>...</td>\n",
       "      <td>...</td>\n",
       "    </tr>\n",
       "    <tr>\n",
       "      <th>114</th>\n",
       "      <td>Mauritania</td>\n",
       "      <td>28.416357</td>\n",
       "      <td>4.659151</td>\n",
       "      <td>NaN</td>\n",
       "      <td>NaN</td>\n",
       "      <td>Muy Calido</td>\n",
       "    </tr>\n",
       "    <tr>\n",
       "      <th>188</th>\n",
       "      <td>Tuvalu</td>\n",
       "      <td>28.504638</td>\n",
       "      <td>0.393742</td>\n",
       "      <td>Oceania</td>\n",
       "      <td>Tuvalu</td>\n",
       "      <td>Muy Calido</td>\n",
       "    </tr>\n",
       "    <tr>\n",
       "      <th>155</th>\n",
       "      <td>Senegal</td>\n",
       "      <td>28.630989</td>\n",
       "      <td>2.062197</td>\n",
       "      <td>Africa</td>\n",
       "      <td>Senegal</td>\n",
       "      <td>Muy Calido</td>\n",
       "    </tr>\n",
       "    <tr>\n",
       "      <th>28</th>\n",
       "      <td>Burkina Faso</td>\n",
       "      <td>28.698612</td>\n",
       "      <td>2.397689</td>\n",
       "      <td>Africa</td>\n",
       "      <td>Burkina Faso</td>\n",
       "      <td>Muy Calido</td>\n",
       "    </tr>\n",
       "    <tr>\n",
       "      <th>111</th>\n",
       "      <td>Mali</td>\n",
       "      <td>28.883495</td>\n",
       "      <td>4.116799</td>\n",
       "      <td>Africa</td>\n",
       "      <td>Mali</td>\n",
       "      <td>Muy Calido</td>\n",
       "    </tr>\n",
       "  </tbody>\n",
       "</table>\n",
       "<p>198 rows × 6 columns</p>\n",
       "</div>"
      ],
      "text/plain": [
       "          Country  Mean temperature  Std temperature     Continent_Name  \\\n",
       "71      Greenland        -17.072330         8.745566  América del Norte   \n",
       "32         Canada         -5.963874        12.528132  América del Norte   \n",
       "150        Russia         -5.255763        14.663405             Europa   \n",
       "119      Mongolia          0.598241        13.699369               Asia   \n",
       "133        Norway          1.726860         7.287373             Europa   \n",
       "..            ...               ...              ...                ...   \n",
       "114    Mauritania         28.416357         4.659151                NaN   \n",
       "188        Tuvalu         28.504638         0.393742            Oceania   \n",
       "155       Senegal         28.630989         2.062197             Africa   \n",
       "28   Burkina Faso         28.698612         2.397689             Africa   \n",
       "111          Mali         28.883495         4.116799             Africa   \n",
       "\n",
       "     Country_Name Clima cuartiles  \n",
       "71      Greenland           Polar  \n",
       "32         Canada           Polar  \n",
       "150        Russia           Polar  \n",
       "119      Mongolia           Polar  \n",
       "133        Norway           Polar  \n",
       "..            ...             ...  \n",
       "114           NaN      Muy Calido  \n",
       "188        Tuvalu      Muy Calido  \n",
       "155       Senegal      Muy Calido  \n",
       "28   Burkina Faso      Muy Calido  \n",
       "111          Mali      Muy Calido  \n",
       "\n",
       "[198 rows x 6 columns]"
      ]
     },
     "execution_count": 79,
     "metadata": {},
     "output_type": "execute_result"
    }
   ],
   "source": [
    "merged_data = merged_data.sort_values([\"Clima cuartiles\", \"Mean temperature\"])\n",
    "merged_data"
   ]
  },
  {
   "cell_type": "markdown",
   "id": "798f5723",
   "metadata": {},
   "source": [
    "### Nota sobre Merge con id repetidos\n",
    "\n",
    "> Pregunta: ¿Qué sucede si hacemos un merge de una fila con muchas otras con igual identificador?"
   ]
  },
  {
   "cell_type": "code",
   "execution_count": 80,
   "id": "06343964",
   "metadata": {},
   "outputs": [
    {
     "data": {
      "text/plain": [
       "Index(['Polar', 'Frio', 'Templado', 'Calido', 'Muy Calido'], dtype='object')"
      ]
     },
     "execution_count": 80,
     "metadata": {},
     "output_type": "execute_result"
    }
   ],
   "source": [
    "merged_data[\"Clima cuartiles\"].cat.categories"
   ]
  },
  {
   "cell_type": "code",
   "execution_count": 81,
   "id": "7cfc4e51",
   "metadata": {},
   "outputs": [
    {
     "data": {
      "text/plain": [
       "71      True\n",
       "32      True\n",
       "150     True\n",
       "119     True\n",
       "133     True\n",
       "       ...  \n",
       "114    False\n",
       "188    False\n",
       "155    False\n",
       "28     False\n",
       "111    False\n",
       "Name: Clima cuartiles, Length: 198, dtype: bool"
      ]
     },
     "execution_count": 81,
     "metadata": {},
     "output_type": "execute_result"
    }
   ],
   "source": [
    "mask = merged_data[\"Clima cuartiles\"] < \"Frio\"\n",
    "mask"
   ]
  },
  {
   "cell_type": "code",
   "execution_count": 82,
   "id": "f7da3bcf",
   "metadata": {},
   "outputs": [
    {
     "data": {
      "text/html": [
       "<div>\n",
       "<style scoped>\n",
       "    .dataframe tbody tr th:only-of-type {\n",
       "        vertical-align: middle;\n",
       "    }\n",
       "\n",
       "    .dataframe tbody tr th {\n",
       "        vertical-align: top;\n",
       "    }\n",
       "\n",
       "    .dataframe thead th {\n",
       "        text-align: right;\n",
       "    }\n",
       "</style>\n",
       "<table border=\"1\" class=\"dataframe\">\n",
       "  <thead>\n",
       "    <tr style=\"text-align: right;\">\n",
       "      <th></th>\n",
       "      <th>Country</th>\n",
       "      <th>Mean temperature</th>\n",
       "      <th>Std temperature</th>\n",
       "      <th>Continent_Name</th>\n",
       "      <th>Country_Name</th>\n",
       "      <th>Clima cuartiles</th>\n",
       "    </tr>\n",
       "  </thead>\n",
       "  <tbody>\n",
       "    <tr>\n",
       "      <th>71</th>\n",
       "      <td>Greenland</td>\n",
       "      <td>-17.072330</td>\n",
       "      <td>8.745566</td>\n",
       "      <td>América del Norte</td>\n",
       "      <td>Greenland</td>\n",
       "      <td>Polar</td>\n",
       "    </tr>\n",
       "    <tr>\n",
       "      <th>32</th>\n",
       "      <td>Canada</td>\n",
       "      <td>-5.963874</td>\n",
       "      <td>12.528132</td>\n",
       "      <td>América del Norte</td>\n",
       "      <td>Canada</td>\n",
       "      <td>Polar</td>\n",
       "    </tr>\n",
       "    <tr>\n",
       "      <th>150</th>\n",
       "      <td>Russia</td>\n",
       "      <td>-5.255763</td>\n",
       "      <td>14.663405</td>\n",
       "      <td>Europa</td>\n",
       "      <td>Russia</td>\n",
       "      <td>Polar</td>\n",
       "    </tr>\n",
       "    <tr>\n",
       "      <th>119</th>\n",
       "      <td>Mongolia</td>\n",
       "      <td>0.598241</td>\n",
       "      <td>13.699369</td>\n",
       "      <td>Asia</td>\n",
       "      <td>Mongolia</td>\n",
       "      <td>Polar</td>\n",
       "    </tr>\n",
       "    <tr>\n",
       "      <th>133</th>\n",
       "      <td>Norway</td>\n",
       "      <td>1.726860</td>\n",
       "      <td>7.287373</td>\n",
       "      <td>Europa</td>\n",
       "      <td>Norway</td>\n",
       "      <td>Polar</td>\n",
       "    </tr>\n",
       "    <tr>\n",
       "      <th>80</th>\n",
       "      <td>Iceland</td>\n",
       "      <td>2.307253</td>\n",
       "      <td>4.468936</td>\n",
       "      <td>Europa</td>\n",
       "      <td>Iceland</td>\n",
       "      <td>Polar</td>\n",
       "    </tr>\n",
       "    <tr>\n",
       "      <th>62</th>\n",
       "      <td>Finland</td>\n",
       "      <td>2.402188</td>\n",
       "      <td>9.278735</td>\n",
       "      <td>Europa</td>\n",
       "      <td>Finland</td>\n",
       "      <td>Polar</td>\n",
       "    </tr>\n",
       "    <tr>\n",
       "      <th>174</th>\n",
       "      <td>Sweden</td>\n",
       "      <td>2.537722</td>\n",
       "      <td>8.185242</td>\n",
       "      <td>Europa</td>\n",
       "      <td>Sweden</td>\n",
       "      <td>Polar</td>\n",
       "    </tr>\n",
       "    <tr>\n",
       "      <th>96</th>\n",
       "      <td>Kyrgyzstan</td>\n",
       "      <td>3.137480</td>\n",
       "      <td>9.972644</td>\n",
       "      <td>NaN</td>\n",
       "      <td>NaN</td>\n",
       "      <td>Polar</td>\n",
       "    </tr>\n",
       "    <tr>\n",
       "      <th>103</th>\n",
       "      <td>Liechtenstein</td>\n",
       "      <td>3.549368</td>\n",
       "      <td>5.943636</td>\n",
       "      <td>NaN</td>\n",
       "      <td>NaN</td>\n",
       "      <td>Polar</td>\n",
       "    </tr>\n",
       "    <tr>\n",
       "      <th>177</th>\n",
       "      <td>Tajikistan</td>\n",
       "      <td>4.001360</td>\n",
       "      <td>8.788011</td>\n",
       "      <td>Asia</td>\n",
       "      <td>Tajikistan</td>\n",
       "      <td>Polar</td>\n",
       "    </tr>\n",
       "    <tr>\n",
       "      <th>57</th>\n",
       "      <td>Estonia</td>\n",
       "      <td>6.166056</td>\n",
       "      <td>8.199942</td>\n",
       "      <td>Europa</td>\n",
       "      <td>Estonia</td>\n",
       "      <td>Polar</td>\n",
       "    </tr>\n",
       "    <tr>\n",
       "      <th>131</th>\n",
       "      <td>NorthKorea</td>\n",
       "      <td>6.223913</td>\n",
       "      <td>11.365693</td>\n",
       "      <td>NaN</td>\n",
       "      <td>NaN</td>\n",
       "      <td>Polar</td>\n",
       "    </tr>\n",
       "    <tr>\n",
       "      <th>98</th>\n",
       "      <td>Latvia</td>\n",
       "      <td>6.696891</td>\n",
       "      <td>8.127505</td>\n",
       "      <td>Europa</td>\n",
       "      <td>Latvia</td>\n",
       "      <td>Polar</td>\n",
       "    </tr>\n",
       "    <tr>\n",
       "      <th>175</th>\n",
       "      <td>Switzerland</td>\n",
       "      <td>6.713588</td>\n",
       "      <td>6.237274</td>\n",
       "      <td>Europa</td>\n",
       "      <td>Switzerland</td>\n",
       "      <td>Polar</td>\n",
       "    </tr>\n",
       "    <tr>\n",
       "      <th>59</th>\n",
       "      <td>FaroeIslands</td>\n",
       "      <td>6.770316</td>\n",
       "      <td>2.911743</td>\n",
       "      <td>NaN</td>\n",
       "      <td>NaN</td>\n",
       "      <td>Polar</td>\n",
       "    </tr>\n",
       "    <tr>\n",
       "      <th>91</th>\n",
       "      <td>Kazakhstan</td>\n",
       "      <td>6.810408</td>\n",
       "      <td>12.792550</td>\n",
       "      <td>Europa</td>\n",
       "      <td>Kazakhstan</td>\n",
       "      <td>Polar</td>\n",
       "    </tr>\n",
       "    <tr>\n",
       "      <th>92</th>\n",
       "      <td>Kazakhstan</td>\n",
       "      <td>6.810408</td>\n",
       "      <td>12.792550</td>\n",
       "      <td>Asia</td>\n",
       "      <td>Kazakhstan</td>\n",
       "      <td>Polar</td>\n",
       "    </tr>\n",
       "    <tr>\n",
       "      <th>66</th>\n",
       "      <td>Georgia</td>\n",
       "      <td>6.957606</td>\n",
       "      <td>8.942169</td>\n",
       "      <td>Europa</td>\n",
       "      <td>Georgia</td>\n",
       "      <td>Polar</td>\n",
       "    </tr>\n",
       "    <tr>\n",
       "      <th>67</th>\n",
       "      <td>Georgia</td>\n",
       "      <td>6.957606</td>\n",
       "      <td>8.942169</td>\n",
       "      <td>Asia</td>\n",
       "      <td>Georgia</td>\n",
       "      <td>Polar</td>\n",
       "    </tr>\n",
       "    <tr>\n",
       "      <th>37</th>\n",
       "      <td>China</td>\n",
       "      <td>7.039332</td>\n",
       "      <td>9.721250</td>\n",
       "      <td>NaN</td>\n",
       "      <td>NaN</td>\n",
       "      <td>Polar</td>\n",
       "    </tr>\n",
       "    <tr>\n",
       "      <th>10</th>\n",
       "      <td>Austria</td>\n",
       "      <td>7.202215</td>\n",
       "      <td>6.993245</td>\n",
       "      <td>Europa</td>\n",
       "      <td>Austria</td>\n",
       "      <td>Polar</td>\n",
       "    </tr>\n",
       "    <tr>\n",
       "      <th>104</th>\n",
       "      <td>Lithuania</td>\n",
       "      <td>7.280419</td>\n",
       "      <td>8.113566</td>\n",
       "      <td>Europa</td>\n",
       "      <td>Lithuania</td>\n",
       "      <td>Polar</td>\n",
       "    </tr>\n",
       "    <tr>\n",
       "      <th>17</th>\n",
       "      <td>Belarus</td>\n",
       "      <td>7.362349</td>\n",
       "      <td>8.803962</td>\n",
       "      <td>Europa</td>\n",
       "      <td>Belarus</td>\n",
       "      <td>Polar</td>\n",
       "    </tr>\n",
       "    <tr>\n",
       "      <th>193</th>\n",
       "      <td>United States</td>\n",
       "      <td>7.617000</td>\n",
       "      <td>9.077944</td>\n",
       "      <td>América del Norte</td>\n",
       "      <td>United States</td>\n",
       "      <td>Polar</td>\n",
       "    </tr>\n",
       "    <tr>\n",
       "      <th>7</th>\n",
       "      <td>Armenia</td>\n",
       "      <td>7.803382</td>\n",
       "      <td>9.697264</td>\n",
       "      <td>Europa</td>\n",
       "      <td>Armenia</td>\n",
       "      <td>Polar</td>\n",
       "    </tr>\n",
       "    <tr>\n",
       "      <th>8</th>\n",
       "      <td>Armenia</td>\n",
       "      <td>7.803382</td>\n",
       "      <td>9.697264</td>\n",
       "      <td>Asia</td>\n",
       "      <td>Armenia</td>\n",
       "      <td>Polar</td>\n",
       "    </tr>\n",
       "    <tr>\n",
       "      <th>159</th>\n",
       "      <td>Slovakia</td>\n",
       "      <td>8.452959</td>\n",
       "      <td>7.797643</td>\n",
       "      <td>NaN</td>\n",
       "      <td>NaN</td>\n",
       "      <td>Polar</td>\n",
       "    </tr>\n",
       "    <tr>\n",
       "      <th>36</th>\n",
       "      <td>Chile</td>\n",
       "      <td>8.454478</td>\n",
       "      <td>3.126838</td>\n",
       "      <td>América del Sur</td>\n",
       "      <td>Chile</td>\n",
       "      <td>Polar</td>\n",
       "    </tr>\n",
       "    <tr>\n",
       "      <th>142</th>\n",
       "      <td>Poland</td>\n",
       "      <td>8.667610</td>\n",
       "      <td>7.471490</td>\n",
       "      <td>Europa</td>\n",
       "      <td>Poland</td>\n",
       "      <td>Polar</td>\n",
       "    </tr>\n",
       "    <tr>\n",
       "      <th>48</th>\n",
       "      <td>Denmark</td>\n",
       "      <td>8.678213</td>\n",
       "      <td>6.136734</td>\n",
       "      <td>Europa</td>\n",
       "      <td>Denmark</td>\n",
       "      <td>Polar</td>\n",
       "    </tr>\n",
       "    <tr>\n",
       "      <th>46</th>\n",
       "      <td>CzechRepublic</td>\n",
       "      <td>8.756214</td>\n",
       "      <td>7.398374</td>\n",
       "      <td>NaN</td>\n",
       "      <td>NaN</td>\n",
       "      <td>Polar</td>\n",
       "    </tr>\n",
       "    <tr>\n",
       "      <th>192</th>\n",
       "      <td>United Kingdom</td>\n",
       "      <td>9.062469</td>\n",
       "      <td>4.253525</td>\n",
       "      <td>Europa</td>\n",
       "      <td>United Kingdom</td>\n",
       "      <td>Polar</td>\n",
       "    </tr>\n",
       "    <tr>\n",
       "      <th>190</th>\n",
       "      <td>Ukraine</td>\n",
       "      <td>9.072880</td>\n",
       "      <td>9.178330</td>\n",
       "      <td>Europa</td>\n",
       "      <td>Ukraine</td>\n",
       "      <td>Polar</td>\n",
       "    </tr>\n",
       "    <tr>\n",
       "      <th>68</th>\n",
       "      <td>Germany</td>\n",
       "      <td>9.429345</td>\n",
       "      <td>6.574786</td>\n",
       "      <td>Europa</td>\n",
       "      <td>Germany</td>\n",
       "      <td>Polar</td>\n",
       "    </tr>\n",
       "    <tr>\n",
       "      <th>146</th>\n",
       "      <td>Republic of Montenegro</td>\n",
       "      <td>9.609226</td>\n",
       "      <td>7.388896</td>\n",
       "      <td>NaN</td>\n",
       "      <td>NaN</td>\n",
       "      <td>Polar</td>\n",
       "    </tr>\n",
       "    <tr>\n",
       "      <th>85</th>\n",
       "      <td>Ireland</td>\n",
       "      <td>9.640844</td>\n",
       "      <td>3.684947</td>\n",
       "      <td>Europa</td>\n",
       "      <td>Ireland</td>\n",
       "      <td>Polar</td>\n",
       "    </tr>\n",
       "    <tr>\n",
       "      <th>160</th>\n",
       "      <td>Slovenia</td>\n",
       "      <td>9.677381</td>\n",
       "      <td>7.151006</td>\n",
       "      <td>Europa</td>\n",
       "      <td>Slovenia</td>\n",
       "      <td>Polar</td>\n",
       "    </tr>\n",
       "    <tr>\n",
       "      <th>149</th>\n",
       "      <td>Romania</td>\n",
       "      <td>9.690750</td>\n",
       "      <td>8.359718</td>\n",
       "      <td>Europa</td>\n",
       "      <td>Romania</td>\n",
       "      <td>Polar</td>\n",
       "    </tr>\n",
       "    <tr>\n",
       "      <th>105</th>\n",
       "      <td>Luxembourg</td>\n",
       "      <td>9.932402</td>\n",
       "      <td>6.138378</td>\n",
       "      <td>Europa</td>\n",
       "      <td>Luxembourg</td>\n",
       "      <td>Polar</td>\n",
       "    </tr>\n",
       "  </tbody>\n",
       "</table>\n",
       "</div>"
      ],
      "text/plain": [
       "                    Country  Mean temperature  Std temperature  \\\n",
       "71                Greenland        -17.072330         8.745566   \n",
       "32                   Canada         -5.963874        12.528132   \n",
       "150                  Russia         -5.255763        14.663405   \n",
       "119                Mongolia          0.598241        13.699369   \n",
       "133                  Norway          1.726860         7.287373   \n",
       "80                  Iceland          2.307253         4.468936   \n",
       "62                  Finland          2.402188         9.278735   \n",
       "174                  Sweden          2.537722         8.185242   \n",
       "96               Kyrgyzstan          3.137480         9.972644   \n",
       "103           Liechtenstein          3.549368         5.943636   \n",
       "177              Tajikistan          4.001360         8.788011   \n",
       "57                  Estonia          6.166056         8.199942   \n",
       "131              NorthKorea          6.223913        11.365693   \n",
       "98                   Latvia          6.696891         8.127505   \n",
       "175             Switzerland          6.713588         6.237274   \n",
       "59            FaroeIslands           6.770316         2.911743   \n",
       "91               Kazakhstan          6.810408        12.792550   \n",
       "92               Kazakhstan          6.810408        12.792550   \n",
       "66                  Georgia          6.957606         8.942169   \n",
       "67                  Georgia          6.957606         8.942169   \n",
       "37                    China          7.039332         9.721250   \n",
       "10                  Austria          7.202215         6.993245   \n",
       "104               Lithuania          7.280419         8.113566   \n",
       "17                  Belarus          7.362349         8.803962   \n",
       "193           United States          7.617000         9.077944   \n",
       "7                   Armenia          7.803382         9.697264   \n",
       "8                   Armenia          7.803382         9.697264   \n",
       "159                Slovakia          8.452959         7.797643   \n",
       "36                    Chile          8.454478         3.126838   \n",
       "142                  Poland          8.667610         7.471490   \n",
       "48                  Denmark          8.678213         6.136734   \n",
       "46            CzechRepublic          8.756214         7.398374   \n",
       "192          United Kingdom          9.062469         4.253525   \n",
       "190                 Ukraine          9.072880         9.178330   \n",
       "68                  Germany          9.429345         6.574786   \n",
       "146  Republic of Montenegro          9.609226         7.388896   \n",
       "85                  Ireland          9.640844         3.684947   \n",
       "160                Slovenia          9.677381         7.151006   \n",
       "149                 Romania          9.690750         8.359718   \n",
       "105              Luxembourg          9.932402         6.138378   \n",
       "\n",
       "        Continent_Name    Country_Name Clima cuartiles  \n",
       "71   América del Norte       Greenland           Polar  \n",
       "32   América del Norte          Canada           Polar  \n",
       "150             Europa          Russia           Polar  \n",
       "119               Asia        Mongolia           Polar  \n",
       "133             Europa          Norway           Polar  \n",
       "80              Europa         Iceland           Polar  \n",
       "62              Europa         Finland           Polar  \n",
       "174             Europa          Sweden           Polar  \n",
       "96                 NaN             NaN           Polar  \n",
       "103                NaN             NaN           Polar  \n",
       "177               Asia      Tajikistan           Polar  \n",
       "57              Europa         Estonia           Polar  \n",
       "131                NaN             NaN           Polar  \n",
       "98              Europa          Latvia           Polar  \n",
       "175             Europa     Switzerland           Polar  \n",
       "59                 NaN             NaN           Polar  \n",
       "91              Europa      Kazakhstan           Polar  \n",
       "92                Asia      Kazakhstan           Polar  \n",
       "66              Europa         Georgia           Polar  \n",
       "67                Asia         Georgia           Polar  \n",
       "37                 NaN             NaN           Polar  \n",
       "10              Europa         Austria           Polar  \n",
       "104             Europa       Lithuania           Polar  \n",
       "17              Europa         Belarus           Polar  \n",
       "193  América del Norte   United States           Polar  \n",
       "7               Europa         Armenia           Polar  \n",
       "8                 Asia         Armenia           Polar  \n",
       "159                NaN             NaN           Polar  \n",
       "36     América del Sur           Chile           Polar  \n",
       "142             Europa          Poland           Polar  \n",
       "48              Europa         Denmark           Polar  \n",
       "46                 NaN             NaN           Polar  \n",
       "192             Europa  United Kingdom           Polar  \n",
       "190             Europa         Ukraine           Polar  \n",
       "68              Europa         Germany           Polar  \n",
       "146                NaN             NaN           Polar  \n",
       "85              Europa         Ireland           Polar  \n",
       "160             Europa        Slovenia           Polar  \n",
       "149             Europa         Romania           Polar  \n",
       "105             Europa      Luxembourg           Polar  "
      ]
     },
     "execution_count": 82,
     "metadata": {},
     "output_type": "execute_result"
    }
   ],
   "source": [
    "merged_data[mask]"
   ]
  },
  {
   "cell_type": "markdown",
   "id": "89bf77d4",
   "metadata": {},
   "source": [
    "## Anexo: Cómo Combinar dos Filtros/Máscaras Booleanas\n",
    "\n",
    "Se puede usar las operaciones `|` (or) y `&` and para combinar dos máscaras.\n",
    "\n",
    "- `|` simboliza un ó lógico.\n",
    "- `&` simboliza un y lógico."
   ]
  },
  {
   "cell_type": "code",
   "execution_count": 83,
   "id": "dab81d9f",
   "metadata": {},
   "outputs": [
    {
     "data": {
      "text/plain": [
       "71      True\n",
       "32      True\n",
       "150     True\n",
       "119     True\n",
       "133     True\n",
       "       ...  \n",
       "114    False\n",
       "188    False\n",
       "155    False\n",
       "28     False\n",
       "111    False\n",
       "Name: Clima cuartiles, Length: 198, dtype: bool"
      ]
     },
     "execution_count": 83,
     "metadata": {},
     "output_type": "execute_result"
    }
   ],
   "source": [
    "mask_2 = (\n",
    "    (merged_data[\"Clima cuartiles\"] < \"Frio\") | \n",
    "    (merged_data[\"Clima cuartiles\"] == \"Templado\"))\n",
    "mask_2"
   ]
  },
  {
   "cell_type": "code",
   "execution_count": 84,
   "id": "15e06b27",
   "metadata": {},
   "outputs": [
    {
     "data": {
      "text/html": [
       "<div>\n",
       "<style scoped>\n",
       "    .dataframe tbody tr th:only-of-type {\n",
       "        vertical-align: middle;\n",
       "    }\n",
       "\n",
       "    .dataframe tbody tr th {\n",
       "        vertical-align: top;\n",
       "    }\n",
       "\n",
       "    .dataframe thead th {\n",
       "        text-align: right;\n",
       "    }\n",
       "</style>\n",
       "<table border=\"1\" class=\"dataframe\">\n",
       "  <thead>\n",
       "    <tr style=\"text-align: right;\">\n",
       "      <th></th>\n",
       "      <th>Country</th>\n",
       "      <th>Mean temperature</th>\n",
       "      <th>Std temperature</th>\n",
       "      <th>Continent_Name</th>\n",
       "      <th>Country_Name</th>\n",
       "      <th>Clima cuartiles</th>\n",
       "    </tr>\n",
       "  </thead>\n",
       "  <tbody>\n",
       "    <tr>\n",
       "      <th>71</th>\n",
       "      <td>Greenland</td>\n",
       "      <td>-17.072330</td>\n",
       "      <td>8.745566</td>\n",
       "      <td>América del Norte</td>\n",
       "      <td>Greenland</td>\n",
       "      <td>Polar</td>\n",
       "    </tr>\n",
       "    <tr>\n",
       "      <th>32</th>\n",
       "      <td>Canada</td>\n",
       "      <td>-5.963874</td>\n",
       "      <td>12.528132</td>\n",
       "      <td>América del Norte</td>\n",
       "      <td>Canada</td>\n",
       "      <td>Polar</td>\n",
       "    </tr>\n",
       "    <tr>\n",
       "      <th>150</th>\n",
       "      <td>Russia</td>\n",
       "      <td>-5.255763</td>\n",
       "      <td>14.663405</td>\n",
       "      <td>Europa</td>\n",
       "      <td>Russia</td>\n",
       "      <td>Polar</td>\n",
       "    </tr>\n",
       "    <tr>\n",
       "      <th>119</th>\n",
       "      <td>Mongolia</td>\n",
       "      <td>0.598241</td>\n",
       "      <td>13.699369</td>\n",
       "      <td>Asia</td>\n",
       "      <td>Mongolia</td>\n",
       "      <td>Polar</td>\n",
       "    </tr>\n",
       "    <tr>\n",
       "      <th>133</th>\n",
       "      <td>Norway</td>\n",
       "      <td>1.726860</td>\n",
       "      <td>7.287373</td>\n",
       "      <td>Europa</td>\n",
       "      <td>Norway</td>\n",
       "      <td>Polar</td>\n",
       "    </tr>\n",
       "    <tr>\n",
       "      <th>...</th>\n",
       "      <td>...</td>\n",
       "      <td>...</td>\n",
       "      <td>...</td>\n",
       "      <td>...</td>\n",
       "      <td>...</td>\n",
       "      <td>...</td>\n",
       "    </tr>\n",
       "    <tr>\n",
       "      <th>121</th>\n",
       "      <td>Mozambique</td>\n",
       "      <td>24.281818</td>\n",
       "      <td>2.410008</td>\n",
       "      <td>Africa</td>\n",
       "      <td>Mozambique</td>\n",
       "      <td>Templado</td>\n",
       "    </tr>\n",
       "    <tr>\n",
       "      <th>61</th>\n",
       "      <td>Fiji</td>\n",
       "      <td>24.325886</td>\n",
       "      <td>1.436607</td>\n",
       "      <td>NaN</td>\n",
       "      <td>NaN</td>\n",
       "      <td>Templado</td>\n",
       "    </tr>\n",
       "    <tr>\n",
       "      <th>54</th>\n",
       "      <td>ElSalvador</td>\n",
       "      <td>24.371996</td>\n",
       "      <td>1.016290</td>\n",
       "      <td>NaN</td>\n",
       "      <td>NaN</td>\n",
       "      <td>Templado</td>\n",
       "    </tr>\n",
       "    <tr>\n",
       "      <th>51</th>\n",
       "      <td>DominicanRepublic</td>\n",
       "      <td>24.483362</td>\n",
       "      <td>1.356441</td>\n",
       "      <td>NaN</td>\n",
       "      <td>NaN</td>\n",
       "      <td>Templado</td>\n",
       "    </tr>\n",
       "    <tr>\n",
       "      <th>47</th>\n",
       "      <td>Democratic Republic of Congo</td>\n",
       "      <td>24.537549</td>\n",
       "      <td>0.613208</td>\n",
       "      <td>NaN</td>\n",
       "      <td>NaN</td>\n",
       "      <td>Templado</td>\n",
       "    </tr>\n",
       "  </tbody>\n",
       "</table>\n",
       "<p>79 rows × 6 columns</p>\n",
       "</div>"
      ],
      "text/plain": [
       "                          Country  Mean temperature  Std temperature  \\\n",
       "71                      Greenland        -17.072330         8.745566   \n",
       "32                         Canada         -5.963874        12.528132   \n",
       "150                        Russia         -5.255763        14.663405   \n",
       "119                      Mongolia          0.598241        13.699369   \n",
       "133                        Norway          1.726860         7.287373   \n",
       "..                            ...               ...              ...   \n",
       "121                    Mozambique         24.281818         2.410008   \n",
       "61                           Fiji         24.325886         1.436607   \n",
       "54                     ElSalvador         24.371996         1.016290   \n",
       "51              DominicanRepublic         24.483362         1.356441   \n",
       "47   Democratic Republic of Congo         24.537549         0.613208   \n",
       "\n",
       "        Continent_Name Country_Name Clima cuartiles  \n",
       "71   América del Norte    Greenland           Polar  \n",
       "32   América del Norte       Canada           Polar  \n",
       "150             Europa       Russia           Polar  \n",
       "119               Asia     Mongolia           Polar  \n",
       "133             Europa       Norway           Polar  \n",
       "..                 ...          ...             ...  \n",
       "121             Africa   Mozambique        Templado  \n",
       "61                 NaN          NaN        Templado  \n",
       "54                 NaN          NaN        Templado  \n",
       "51                 NaN          NaN        Templado  \n",
       "47                 NaN          NaN        Templado  \n",
       "\n",
       "[79 rows x 6 columns]"
      ]
     },
     "execution_count": 84,
     "metadata": {},
     "output_type": "execute_result"
    }
   ],
   "source": [
    "merged_data[mask_2]"
   ]
  }
 ],
 "metadata": {
  "kernelspec": {
   "display_name": "Python 3 (ipykernel)",
   "language": "python",
   "name": "python3"
  },
  "language_info": {
   "codemirror_mode": {
    "name": "ipython",
    "version": 3
   },
   "file_extension": ".py",
   "mimetype": "text/x-python",
   "name": "python",
   "nbconvert_exporter": "python",
   "pygments_lexer": "ipython3",
   "version": "3.9.7"
  },
  "toc": {
   "base_numbering": 1,
   "nav_menu": {},
   "number_sections": true,
   "sideBar": true,
   "skip_h1_title": true,
   "title_cell": "Table of Contents",
   "title_sidebar": "Contents",
   "toc_cell": true,
   "toc_position": {
    "height": "calc(100% - 180px)",
    "left": "10px",
    "top": "150px",
    "width": "274.833px"
   },
   "toc_section_display": true,
   "toc_window_display": false
  },
  "varInspector": {
   "cols": {
    "lenName": 16,
    "lenType": 16,
    "lenVar": 40
   },
   "kernels_config": {
    "python": {
     "delete_cmd_postfix": "",
     "delete_cmd_prefix": "del ",
     "library": "var_list.py",
     "varRefreshCmd": "print(var_dic_list())"
    },
    "r": {
     "delete_cmd_postfix": ") ",
     "delete_cmd_prefix": "rm(",
     "library": "var_list.r",
     "varRefreshCmd": "cat(var_dic_list()) "
    }
   },
   "types_to_exclude": [
    "module",
    "function",
    "builtin_function_or_method",
    "instance",
    "_Feature"
   ],
   "window_display": false
  }
 },
 "nbformat": 4,
 "nbformat_minor": 5
}
