{
 "cells": [
  {
   "cell_type": "markdown",
   "id": "958072d5-97d3-4e0a-bb65-a52954f1401e",
   "metadata": {},
   "source": [
    "# Clase 22: Compilación y Paralelismo\n",
    "\n",
    "**MDS7202: Laboratorio de Programación Científica para Ciencia de Datos**\n",
    "\n",
    "**Profesor: Pablo Badilla**"
   ]
  },
  {
   "cell_type": "markdown",
   "id": "5c7e10b3-aeb6-4dd7-bd5d-d1a30d1eb926",
   "metadata": {},
   "source": [
    "## Tipos de Lenguaje\n",
    "\n",
    "<br>\n",
    "<center>\n",
    "<img src='./resources/tipos_lenguajes.png' width=800 />\n",
    "</center>\n"
   ]
  },
  {
   "cell_type": "markdown",
   "id": "86f51719-cae9-4fe2-af68-9d016487b654",
   "metadata": {},
   "source": [
    "---\n",
    "\n",
    "## Compiladores\n",
    "\n",
    "<center>\n",
    "<img src='./resources/numba.png' width=600/>\n",
    "</center>\n",
    "\n",
    "Un proyecto interesante la librería **`Numba`** la cual está enfocada en **analizar y compilar funciones de Python**. Compiladores como Numba, diseñados para compilar código en ejecución (y no previo a la ejecución) se denomina compiladores **JIT** (just in time). \n",
    "\n",
    "Numba permite compilar funciones individuales de Python usado una *máquina virtual de bajo nivel* o LLVM por sus siglas en inglés (LLVM es un conjunto de herramientas pensadas para escribir compiladores).\n",
    "\n",
    "Por medio de LLVM Numba inspecciona funciones de Python y las compila utilizando una capa de representación intermedia similar a código *assembly*. La potencia de esta inspección radica en la inferencia de tipos de datos generando una versiones compiladas con tipos de datos estáticos.\n",
    "\n",
    "Numba se basa principalmente en el decorador `@jit` con el cual se definen las funciones a compilar.\n",
    "\n",
    "**Ejemplo: Calcular el valor de $\\pi$ usando Montecarlo**\n",
    "\n",
    "\n",
    "Idea: \n",
    "\n",
    "<div align='center'>\n",
    "<img src='./resources/montecarlo.png' width=300 />\n",
    "<div/>\n",
    "    \n",
    "$$\\frac{\\text{area círculo}}{\\text{area cuadrado}} = \\frac{\\pi r^2}{(2r)^2} $$\n",
    "\n",
    "$$ 4* \\frac{\\text{area círculo}}{\\text{area cuadrado}} = \\pi $$\n",
    "\n",
    "\n",
    "Y después simulamos que lanzamos puntos al azar a nuestra figura y contamos: \n",
    "\n",
    "$$ 4* \\frac{\\text{puntos en el circulo}}{\\text{puntos en el cuadrado}} = \\pi $$\n",
    "\n",
    "\n",
    "\n"
   ]
  },
  {
   "cell_type": "markdown",
   "id": "dd47f0b9-14a4-4d7b-b498-714961214c47",
   "metadata": {},
   "source": [
    "Para comprobar el aumento de rendimiento de la compilación, usaremos 3 implementaciones distintas:\n",
    "    \n",
    "    1. Python.\n",
    "    2. Numpy.\n",
    "    3. Python con Numba."
   ]
  },
  {
   "cell_type": "markdown",
   "id": "1b9fd9f4-0706-4f4b-a64f-e1998cebe034",
   "metadata": {},
   "source": [
    "### $\\pi$ con Montecarlo en `Python`"
   ]
  },
  {
   "cell_type": "code",
   "execution_count": 2,
   "id": "fe5b285c-6aa7-4bc0-b478-39339a738eb5",
   "metadata": {},
   "outputs": [],
   "source": [
    "import random \n",
    "\n",
    "def monte_carlo_pi_python(nsamples):\n",
    "    acc = 0\n",
    "    for i in range(nsamples):\n",
    "        x = random.random()\n",
    "        y = random.random()\n",
    "\n",
    "        if (x ** 2 + y ** 2) < 1.0:\n",
    "            acc += 1\n",
    "\n",
    "    return 4.0 * acc / nsamples"
   ]
  },
  {
   "cell_type": "code",
   "execution_count": 5,
   "id": "5dbe9fea-7931-48da-ba39-deabfc0091af",
   "metadata": {},
   "outputs": [
    {
     "data": {
      "text/plain": [
       "3.1423836"
      ]
     },
     "execution_count": 5,
     "metadata": {},
     "output_type": "execute_result"
    }
   ],
   "source": [
    "monte_carlo_pi_python(10000000)"
   ]
  },
  {
   "cell_type": "code",
   "execution_count": 6,
   "id": "fa3ce85a-b0f1-4b9b-9006-98da13c5f103",
   "metadata": {},
   "outputs": [
    {
     "name": "stdout",
     "output_type": "stream",
     "text": [
      "18.3 ms ± 144 µs per loop (mean ± std. dev. of 7 runs, 100 loops each)\n"
     ]
    }
   ],
   "source": [
    "%timeit monte_carlo_pi_python(100000)"
   ]
  },
  {
   "cell_type": "markdown",
   "id": "61c60368-8df5-4e94-9fb4-f1370fe6f483",
   "metadata": {},
   "source": [
    "### $\\pi$ con Montecarlo en `Numpy`"
   ]
  },
  {
   "cell_type": "code",
   "execution_count": 7,
   "id": "253d77f8-6cb0-4496-8a20-3b9be6e7c847",
   "metadata": {},
   "outputs": [],
   "source": [
    "import numpy as np\n",
    "\n",
    "\n",
    "def monte_carlo_pi_numpy(nsamples):\n",
    "    acc = 0\n",
    "    x = np.random.rand(nsamples)\n",
    "    y = np.random.rand(nsamples)\n",
    "\n",
    "    op = x ** 2 + y ** 2\n",
    "    dentro_circulo = op[op < 1.0]\n",
    "\n",
    "    return 4.0 * np.count_nonzero(dentro_circulo) / nsamples"
   ]
  },
  {
   "cell_type": "code",
   "execution_count": 8,
   "id": "458d5065-7344-48ad-96a1-93911a58ad13",
   "metadata": {},
   "outputs": [
    {
     "data": {
      "text/plain": [
       "3.14564"
      ]
     },
     "execution_count": 8,
     "metadata": {},
     "output_type": "execute_result"
    }
   ],
   "source": [
    "monte_carlo_pi_numpy(100000)"
   ]
  },
  {
   "cell_type": "code",
   "execution_count": 9,
   "id": "7b8c3388-39a0-4525-8e19-9c07f24fa4a4",
   "metadata": {},
   "outputs": [
    {
     "name": "stdout",
     "output_type": "stream",
     "text": [
      "1.71 ms ± 20.8 µs per loop (mean ± std. dev. of 7 runs, 1000 loops each)\n"
     ]
    }
   ],
   "source": [
    "%timeit monte_carlo_pi_numpy(100000)"
   ]
  },
  {
   "cell_type": "markdown",
   "id": "350d6a86-9667-4c3c-a802-1513ff3a78b0",
   "metadata": {},
   "source": [
    "### $\\pi$ con Montecarlo en `Numba`"
   ]
  },
  {
   "cell_type": "markdown",
   "id": "5e867c1b-b045-4322-b99a-515f5d358190",
   "metadata": {},
   "source": [
    "Y ahora probamos con una función compilada usando el decorador `@jit`."
   ]
  },
  {
   "cell_type": "code",
   "execution_count": 10,
   "id": "aeccc3f0-e002-47b3-a281-725979f3766d",
   "metadata": {
    "tags": []
   },
   "outputs": [],
   "source": [
    "import random\n",
    "\n",
    "from numba import jit\n",
    "\n",
    "\n",
    "@jit(nopython=True)\n",
    "def monte_carlo_pi_numba(nsamples):\n",
    "    acc = 0\n",
    "    for i in range(nsamples):\n",
    "        x = random.random()\n",
    "        y = random.random()\n",
    "\n",
    "        if (x ** 2 + y ** 2) < 1.0:\n",
    "            acc += 1\n",
    "\n",
    "    return 4.0 * acc / nsamples"
   ]
  },
  {
   "cell_type": "code",
   "execution_count": 11,
   "id": "b389ed98-bbdc-49e7-bcef-2313bc3894a4",
   "metadata": {},
   "outputs": [
    {
     "data": {
      "text/plain": [
       "3.14388"
      ]
     },
     "execution_count": 11,
     "metadata": {},
     "output_type": "execute_result"
    }
   ],
   "source": [
    "monte_carlo_pi_numba(100000)"
   ]
  },
  {
   "cell_type": "code",
   "execution_count": 12,
   "id": "ed9e63c0-5fec-4913-89bc-ee635da69637",
   "metadata": {},
   "outputs": [
    {
     "name": "stdout",
     "output_type": "stream",
     "text": [
      "605 µs ± 2.38 µs per loop (mean ± std. dev. of 7 runs, 1000 loops each)\n"
     ]
    }
   ],
   "source": [
    "%timeit monte_carlo_pi_numba(100000)"
   ]
  },
  {
   "cell_type": "markdown",
   "id": "16b881ed-b3ae-4eee-b030-eb6be21d68a0",
   "metadata": {},
   "source": [
    "### Numba y Numpy\n",
    "\n",
    "`Numba` también está diseñado para funcionar en conjunto con `numpy`"
   ]
  },
  {
   "cell_type": "code",
   "execution_count": 13,
   "id": "8f1c574e-bbfc-49a0-8775-82fa1397d0a2",
   "metadata": {},
   "outputs": [],
   "source": [
    "@jit(nopython=True)\n",
    "def monte_carlo_pi_numpy_numba(nsamples):\n",
    "    acc = 0\n",
    "    x = np.random.rand(nsamples)\n",
    "    y = np.random.rand(nsamples)\n",
    "\n",
    "    op = x ** 2 + y ** 2\n",
    "    dentro_circulo = op[op < 1.0]\n",
    "\n",
    "    return 4.0 * np.count_nonzero(dentro_circulo) / nsamples"
   ]
  },
  {
   "cell_type": "code",
   "execution_count": 14,
   "id": "8631e193-991a-41ed-9364-7fb7e5c25508",
   "metadata": {},
   "outputs": [
    {
     "data": {
      "text/plain": [
       "3.14056"
      ]
     },
     "execution_count": 14,
     "metadata": {},
     "output_type": "execute_result"
    }
   ],
   "source": [
    "monte_carlo_pi_numpy_numba(100000)"
   ]
  },
  {
   "cell_type": "code",
   "execution_count": 15,
   "id": "5add4a97-84be-494b-8254-4993c2f34c2f",
   "metadata": {},
   "outputs": [
    {
     "name": "stdout",
     "output_type": "stream",
     "text": [
      "805 µs ± 4.72 µs per loop (mean ± std. dev. of 7 runs, 1000 loops each)\n"
     ]
    }
   ],
   "source": [
    "%timeit monte_carlo_pi_numpy_numba(100000)"
   ]
  },
  {
   "cell_type": "markdown",
   "id": "56e05fb5-eddc-4e0f-af5f-7ce6185cbbb2",
   "metadata": {},
   "source": [
    "### Importante: `Numba` solo compila código de Python y `Numpy`\n",
    "\n",
    "Está en general diseñado para optimizar tareas matemáticas y con ciclos.\n",
    "No entiende librerías más complejas como `pandas` por ejemplo.\n",
    "\n",
    "\n",
    "\n"
   ]
  },
  {
   "cell_type": "code",
   "execution_count": 16,
   "id": "349bd564-9831-4242-a71a-50cfc98f2f25",
   "metadata": {},
   "outputs": [],
   "source": [
    "import pandas as pd\n",
    "\n",
    "x = {\"a\": [1, 2, 3], \"b\": [20, 30, 40]}"
   ]
  },
  {
   "cell_type": "code",
   "execution_count": 17,
   "id": "de7d8770-ac6e-4f98-a871-533e76c449da",
   "metadata": {},
   "outputs": [],
   "source": [
    "def use_pandas(a):  # Function will not benefit from Numba jit\n",
    "    df = pd.DataFrame.from_dict(a)  # Numba doesn't know about pd.DataFrame\n",
    "    df += 1  # Numba doesn't understand what this is\n",
    "    return df.cov()  # or this!"
   ]
  },
  {
   "cell_type": "code",
   "execution_count": 18,
   "id": "6a528c9b-47ac-422b-8974-379960147fa7",
   "metadata": {},
   "outputs": [
    {
     "name": "stdout",
     "output_type": "stream",
     "text": [
      "403 µs ± 21.3 µs per loop (mean ± std. dev. of 7 runs, 1000 loops each)\n"
     ]
    }
   ],
   "source": [
    "%timeit use_pandas(x)"
   ]
  },
  {
   "cell_type": "code",
   "execution_count": 19,
   "id": "dba041aa-cd92-48e7-82bc-57806747276e",
   "metadata": {},
   "outputs": [],
   "source": [
    "@jit\n",
    "def use_pandas(a):  # Function will not benefit from Numba jit\n",
    "    df = pd.DataFrame.from_dict(a)  # Numba doesn't know about pd.DataFrame\n",
    "    df += 1  # Numba doesn't understand what this is\n",
    "    return df.cov()  # or this!"
   ]
  },
  {
   "cell_type": "code",
   "execution_count": 20,
   "id": "bfbe99ff-d583-45b4-bf1e-95e073539746",
   "metadata": {},
   "outputs": [
    {
     "name": "stderr",
     "output_type": "stream",
     "text": [
      "/tmp/ipykernel_13943/1783315070.py:1: NumbaWarning: \u001b[1m\n",
      "Compilation is falling back to object mode WITH looplifting enabled because Function \"use_pandas\" failed type inference due to: \u001b[1m\u001b[1mnon-precise type pyobject\u001b[0m\n",
      "\u001b[0m\u001b[1mDuring: typing of argument at /tmp/ipykernel_13943/1783315070.py (3)\u001b[0m\n",
      "\u001b[1m\n",
      "File \"../../../../../../tmp/ipykernel_13943/1783315070.py\", line 3:\u001b[0m\n",
      "\u001b[1m<source missing, REPL/exec in use?>\u001b[0m\n",
      "\u001b[0m\n",
      "  @jit\n",
      "/home/pablo/miniconda3/lib/python3.9/site-packages/numba/core/object_mode_passes.py:151: NumbaWarning: \u001b[1mFunction \"use_pandas\" was compiled in object mode without forceobj=True.\n",
      "\u001b[1m\n",
      "File \"../../../../../../tmp/ipykernel_13943/1783315070.py\", line 1:\u001b[0m\n",
      "\u001b[1m<source missing, REPL/exec in use?>\u001b[0m\n",
      "\u001b[0m\n",
      "  warnings.warn(errors.NumbaWarning(warn_msg,\n",
      "/home/pablo/miniconda3/lib/python3.9/site-packages/numba/core/object_mode_passes.py:161: NumbaDeprecationWarning: \u001b[1m\n",
      "Fall-back from the nopython compilation path to the object mode compilation path has been detected, this is deprecated behaviour.\n",
      "\n",
      "For more information visit https://numba.pydata.org/numba-doc/latest/reference/deprecation.html#deprecation-of-object-mode-fall-back-behaviour-when-using-jit\n",
      "\u001b[1m\n",
      "File \"../../../../../../tmp/ipykernel_13943/1783315070.py\", line 1:\u001b[0m\n",
      "\u001b[1m<source missing, REPL/exec in use?>\u001b[0m\n",
      "\u001b[0m\n",
      "  warnings.warn(errors.NumbaDeprecationWarning(msg,\n"
     ]
    },
    {
     "name": "stdout",
     "output_type": "stream",
     "text": [
      "459 µs ± 26.2 µs per loop (mean ± std. dev. of 7 runs, 1000 loops each)\n"
     ]
    }
   ],
   "source": [
    "%timeit use_pandas(x)"
   ]
  },
  {
   "cell_type": "markdown",
   "id": "72f2eaa0-1358-4ea0-a0c5-0d46e1001600",
   "metadata": {},
   "source": [
    "---\n",
    "\n",
    "## Paralelismo\n",
    "\n",
    "El paralelismo se basa en el uso de múltiples unidades de computo de manera simulánea, con el el fin de mejorar la eficiencia en rutinas de código. La idea principal consite en enfrentar un problema de programación, dividiendolo en subunidades independientes y utilizar los núcleos disponibles de la máquina para resolver tales subunidades en paralelo.\n",
    "\n",
    "<img src='./resources/paralelo_vs_secuencial.jpeg'/>\n",
    "<center>\n",
    "Fuente: \n",
    "<a href='https://towardsdatascience.com/an-intro-to-parallel-computing-with-ray-d8503629485'>https://towardsdatascience.com/an-intro-to-parallel-computing-with-ray-d8503629485</a>\n",
    "    \n",
    "</center>\n",
    "\n"
   ]
  },
  {
   "cell_type": "markdown",
   "id": "a22a5d17-b567-4070-a97f-ebc0d1c1c42d",
   "metadata": {
    "tags": []
   },
   "source": [
    "---\n",
    "\n",
    "### Problemas Perfectamente Paralelizables o Data Parallel\n",
    "\n",
    "La idea detrás de que se les denomine **Data Parallel** es que se aplica una función en particular sobre todos los datos (por ejemplo, multiplicar una matriz por un escalar).\n",
    "\n",
    "\n",
    "\n",
    "Noten que la función es exactamente la misma y el calculo de esta es independiente de todas las otras funciones. Por lo mismo, estas tareas también son denominadas **perfectamente paralelizables**. \n",
    "\n",
    "Las operaciones elemento por elemento sobre arreglos poseen esta propiedad. \n",
    "\n",
    "\n",
    "<center>\n",
    "<img src='./resources/cpu_gpu.jpg' width=500 />\n",
    "</center>\n",
    "\n",
    "<center>\n",
    "Imaginense la cantidad de operaciones simples que una GPU puede lograr hacer en paralelo. Por ejemplo, sumar una matriz con otra elemento a elemento.\n",
    "Fuente:    \n",
    "<a href='https://www.nvidia.com/es-la/drivers/what-is-gpu-computing/'>nvidia.</a>\n",
    "</center>\n",
    "\n"
   ]
  },
  {
   "cell_type": "markdown",
   "id": "df57ce35-39d9-4a4b-8148-b18dbfbe3743",
   "metadata": {},
   "source": [
    "---\n",
    "\n",
    "### Problemas Task Parallel\n",
    "\n",
    "\n",
    "Por lo general, las subunidades de un programa no son completamente independientes y necesitan compartir información, en estos casos,se debe tener en cuenta que la comunicación entre subunidades y los datos compartidos **quitan eficiencia** al problema que se resuelve, pues se incurre en *costos de comunicación*. \n",
    "\n",
    "\n",
    "<center>\n",
    "<img src='./resources/paralelismo_memoria.png' width=500 />\n",
    "</center>\n",
    "\n",
    "<center>\n",
    "Fuente:    \n",
    "<a href='https://manningbooks.medium.com/explaining-mapreduce-with-ducks-f643c78e0b40'>https://manningbooks.medium.com/explaining-mapreduce-with-ducks-f643c78e0b40</a>\n",
    "</center>\n",
    "\n",
    "\n",
    "\n",
    "La comunicación entre procesos es inherentemente costosa y puede llevar fallas de correctitud. Por lo general, se enfrenta el problema de costo de comunicación y correctud del manejo de memoria por medio de sistemas que se comunican por medio de **threads/hilos con memoria compartida** y **procesos con memoria distribuida**."
   ]
  },
  {
   "cell_type": "markdown",
   "id": "247f9d9e-059b-458d-87c7-bf61945b0922",
   "metadata": {},
   "source": [
    "---\n",
    "\n",
    "### Hilos de Procesamiento o Threads\n",
    "\n",
    "En el caso de memoria compartida, las subunidades involucradas en el programa tienen acceso a un espacio común de memoria, este por lo general es de acceso rápido, si bien esto solventa el problema de velocidad de comunicación, el problema de correctitud sigue latente, por lo que se hace necesario utilizar técnicas de **sincronización**. \n",
    "\n",
    "La manera usual en la que se implementan procesos de memoria compartida es por medio de **threads** o *hilos*. Estos consisten en subtareas originadas de un proceso en particular y que comparten recursos. \n",
    "\n",
    "\n",
    "<center>\n",
    "<img src='./resources/threads.jpg' width=500/>\n",
    "</center>\n",
    "\n",
    "<center>\n",
    "Fuente:\n",
    "<a href='https://www.cs.uic.edu/~jbell/CourseNotes/OperatingSystems/4_Threads.html'> https://www.cs.uic.edu/~jbell/CourseNotes/OperatingSystems/4_Threads.html </a>\n",
    "</center>"
   ]
  },
  {
   "cell_type": "markdown",
   "id": "d2f48539-fbec-4619-bd0f-f5efbee2d7ed",
   "metadata": {},
   "source": [
    "---\n",
    "\n",
    "### Procesos\n",
    "\n",
    "Por otra parte, el concepto de memoria distribuida concibe cada subunidad como un proceso completamente separado del resto con su propio espacio de memoria asociado. En este caso, la comunicación entre procesos se debe manejar de manera explicita y es más costosa que en el caso de memoria compartida, sin embargo, se reduce el riesgo de generar errores en el manejo de memoria. \n",
    "\n",
    "Este tipo de paralelismos puede ser observadas en los distintos procesos que ejecuta nuestro computador.\n",
    "\n",
    "<center>\n",
    "<img src='./resources/thread_process.png' width=500/>\n",
    "</center>\n",
    "\n",
    "\n",
    "<center>\n",
    "    Fuente:\n",
    "    <a href='https://www.javamex.com/tutorials/threads/how_threads_work.shtml'>https://www.javamex.com/tutorials/threads/how_threads_work.shtml<a/>\n",
    "</center>\n",
    "\n",
    "    \n",
    "\n"
   ]
  },
  {
   "cell_type": "markdown",
   "id": "66b40dea-6c0a-4f46-927b-cc95674bf31f",
   "metadata": {},
   "source": [
    "---\n",
    "\n",
    "### Threads y Procesos en Python\n",
    "\n",
    "Python puede manejar threads pero dado el diseño de su interprete, por defecto, se puede ejecutar solo una tarea a la vez, esto se conoce como **GIL** (Global Interpreter Lock). GIL provoca que cada vez que un hilo ejecute una orden de Python, se genere un bloqueo que solo será liberado una vez la ejecución del hilo termine. **Esto hace que los hilos solo puedan ser ejecutados de manera secuencial.**\n",
    "\n",
    "Aunque GIL evita la ejecución de hilos usando múltiples procesadores en paralelo, es posible utilizar procesos mediante algunas librerías. La principal es `multiprocessing`\n",
    "\n",
    "Multiprocessing ofrece una interfaz sencilla que incluye múltiples herramientas para manejar sincronozación y ejecución de tareas. Es posible importar esta librería de manera estándar. \n",
    "\n",
    "```python\n",
    "import multiprocessing\n",
    "```\n",
    "\n",
    "Es posible crear procesos independientes por medio la clase `Process`, para ello basta extender el método `__init__` para inicializar los datos a procesar y generar el método `run` sobre el cual se ejecuta el proceso.\n",
    "\n",
    "**Ejemplo**\n",
    " \n",
    "Se genera un proceso independiente utilizando la clase `Process`"
   ]
  },
  {
   "cell_type": "code",
   "execution_count": 21,
   "id": "c5dd4ac3-2173-4bb0-b562-fac4cdfd9593",
   "metadata": {},
   "outputs": [],
   "source": [
    "import time\n",
    "from multiprocessing import Process\n",
    "\n",
    "\n",
    "class Proceso_ind(Process):\n",
    "    def __init__(self, num):\n",
    "        super().__init__()\n",
    "        self.num = num\n",
    "\n",
    "    def run(self):\n",
    "        print(\"Mi número:\", self.num, \"\\nMe voy a dormir 10s 💤😴💤\")\n",
    "        time.sleep(10)\n",
    "        print(\"Dormí y desperte 😃\")"
   ]
  },
  {
   "cell_type": "markdown",
   "id": "bd5b0221-969c-4492-9b07-7661039808f0",
   "metadata": {},
   "source": [
    "Para utilizar el proceso se instancia un objeto de la clase `Proceso_ind` y se llama el método `.start()` "
   ]
  },
  {
   "cell_type": "code",
   "execution_count": 29,
   "id": "262fade8-f0fd-467c-83f3-43c5c49ceff8",
   "metadata": {},
   "outputs": [
    {
     "name": "stdout",
     "output_type": "stream",
     "text": [
      "Mi número: 5 \n",
      "Me voy a dormir 10s 💤😴💤\n",
      "Dormí y desperte 😃\n"
     ]
    }
   ],
   "source": [
    "proc = Proceso_ind(5)\n",
    "proc.start()"
   ]
  },
  {
   "cell_type": "code",
   "execution_count": 30,
   "id": "34a74157",
   "metadata": {},
   "outputs": [
    {
     "name": "stdout",
     "output_type": "stream",
     "text": [
      "Mi número: 10 \n",
      "Me voy a dormir 10s 💤😴💤\n",
      "Dormí y desperte 😃\n"
     ]
    }
   ],
   "source": [
    "proc = Proceso_ind(10)\n",
    "proc.start()"
   ]
  },
  {
   "cell_type": "code",
   "execution_count": 28,
   "id": "f2cc1786-2251-4309-b320-4574b2aa1db4",
   "metadata": {},
   "outputs": [
    {
     "name": "stdout",
     "output_type": "stream",
     "text": [
      "¿¿¿🤨??? Me puedo ejecutar sin esperar a que la celda anterior termine\n"
     ]
    }
   ],
   "source": [
    "print(\"¿¿¿🤨??? Me puedo ejecutar sin esperar a que la celda anterior termine\")"
   ]
  },
  {
   "cell_type": "markdown",
   "id": "b7677086-a786-4646-970a-a3b7ac42aed2",
   "metadata": {},
   "source": [
    "**Obs**:En el ejemplo anterior, no fue necesario utilizar el metodo anulado `.run()`, este es llamado por `.start()` de manera interna."
   ]
  },
  {
   "cell_type": "markdown",
   "id": "a7f6749c-98fe-4c5e-9a3b-97fba4930c0c",
   "metadata": {},
   "source": [
    "En el caso en que se requiera esperar la finalización de un conjunto de tareas paralelas para luego recopilar resultados, es posible utilizar el método `.join()`."
   ]
  },
  {
   "cell_type": "code",
   "execution_count": 31,
   "id": "0348451f-608a-4413-93e8-b7ef07efcd80",
   "metadata": {},
   "outputs": [
    {
     "name": "stdout",
     "output_type": "stream",
     "text": [
      "Mi número: 5 \n",
      "Me voy a dormir 10s 💤😴💤\n",
      "Dormí y desperte 😃\n",
      "Aquí tuve que esperar 😔\n"
     ]
    }
   ],
   "source": [
    "proc = Proceso_ind(5)\n",
    "proc.start()\n",
    "proc.join()\n",
    "\n",
    "print(\"Aquí tuve que esperar 😔\")"
   ]
  },
  {
   "cell_type": "markdown",
   "id": "f059a32b-0282-47d6-ae4c-17bb55e55797",
   "metadata": {},
   "source": [
    "Con la construcción actual, es posible levantar tantos procesos como se requiera, en esta caso se levantan 3 procesos."
   ]
  },
  {
   "cell_type": "code",
   "execution_count": 33,
   "id": "e6291f45-dd9b-42d2-8914-9ef2f2910828",
   "metadata": {},
   "outputs": [],
   "source": [
    "import time\n",
    "from multiprocessing import Process\n",
    "\n",
    "\n",
    "class Proceso_ind(Process):\n",
    "    def __init__(self, num):\n",
    "        super().__init__()\n",
    "        self.num = num\n",
    "\n",
    "    def run(self):\n",
    "        print(\"Mi número:\\n\", self.num, \"\\nMe voy a dormir 3s 💤😴💤\")\n",
    "        time.sleep(3)\n",
    "        print(\"Dormí y desperte 😃\")"
   ]
  },
  {
   "cell_type": "code",
   "execution_count": 34,
   "id": "dc71d4e5-608d-414c-8661-8d8fab839287",
   "metadata": {},
   "outputs": [
    {
     "name": "stdout",
     "output_type": "stream",
     "text": [
      "Mi número:\n",
      " 2Mi número:\n",
      " \n",
      "Me voy a dormir 3s 💤😴💤 \n",
      "3 \n",
      "Me voy a dormir 3s 💤😴💤\n",
      "Mi número:\n",
      " 1 \n",
      "Me voy a dormir 3s 💤😴💤\n",
      "Dormí y desperte 😃\n",
      "Dormí y desperte 😃\n",
      "Dormí y desperte 😃\n",
      "Tiempo de ejecución:  3.09502911567688\n"
     ]
    }
   ],
   "source": [
    "# Se definen los 3 procesos\n",
    "proc = (Proceso_ind(1), Proceso_ind(2), Proceso_ind(3))\n",
    "\n",
    "# Se mide el tiempo de ejecucion\n",
    "start = time.time()\n",
    "\n",
    "[*map(lambda p: p.start(), proc)]\n",
    "[p.join() for p in proc]\n",
    "\n",
    "end = time.time()\n",
    "\n",
    "\n",
    "print(\"Tiempo de ejecución: \", end - start)"
   ]
  },
  {
   "cell_type": "markdown",
   "id": "4c1dde08-944a-4e67-a7f6-babd722394eb",
   "metadata": {},
   "source": [
    "Estos tres procesos corren de manera paralela, pues su tiempo de ejecución total es aproximado al tiempo de ejecución individual. \n",
    "\n",
    "Es necesario comprender que el orden de ejecución de procesos paralelos no es necesariamente ordenando y predecible pues depende de cómo el sistema operativo asigne los recursos. "
   ]
  },
  {
   "cell_type": "markdown",
   "id": "5d5af317-88b5-4947-9826-b4bf2dc7cc92",
   "metadata": {},
   "source": [
    "---\n",
    "\n",
    "### Pool\n",
    "\n",
    "El módulo `multiprocessing` ofrece la clase `Pool`, esta permite manejar de manera sencilla un conjunto de procesos paralelos. Esta clase genera un conjunto de procesos llamados **workers** a los cuales se les asignan tareas por medio de los métodos `.apply()`, `.apply_async()`, `map` o `map_async`. \n",
    "\n",
    "El método `Pool.map()` actua de manera análoga la función nativa `map` de Python. Como resultado entrega una lista con los resultados, donde cada componente es el resultado de un worker de la clas.\n",
    "\n",
    "**Ejemplo**\n",
    "\n",
    "Para utilizar el método `.map` de la clase `Pool` se inicializa la clase, es posible hacerlo sin entregar un número de procesos asociados. Se genera también la función a paralelizar."
   ]
  },
  {
   "cell_type": "code",
   "execution_count": 39,
   "id": "b93e499c-35ae-40db-90f7-9f4b731d3f11",
   "metadata": {},
   "outputs": [],
   "source": [
    "from multiprocessing import Pool\n",
    "\n",
    "\n",
    "def func(x):\n",
    "    return x ** 2 - 1\n",
    "\n",
    "\n",
    "p = Pool(3)  # tambien funciona Pool()"
   ]
  },
  {
   "cell_type": "markdown",
   "id": "aee87787-6f74-4f95-b58a-f70ff17e2a73",
   "metadata": {},
   "source": [
    "Se comprueban los resultados y se cierra el conjunto de procesos por medio de `.close()`"
   ]
  },
  {
   "cell_type": "code",
   "execution_count": 48,
   "id": "d62a0910-e958-420b-9eeb-481b95e4583d",
   "metadata": {},
   "outputs": [
    {
     "name": "stdout",
     "output_type": "stream",
     "text": [
      "1.89 s ± 158 ms per loop (mean ± std. dev. of 7 runs, 1 loop each)\n"
     ]
    }
   ],
   "source": [
    "%%timeit\n",
    "p = Pool(7)\n",
    "\n",
    "var = np.arange(0, 1000, 0.001)\n",
    "\n",
    "out = p.map(func, var)\n",
    "p.close()\n",
    "\n",
    "out"
   ]
  },
  {
   "cell_type": "code",
   "execution_count": 49,
   "id": "3858d1f4",
   "metadata": {},
   "outputs": [
    {
     "name": "stdout",
     "output_type": "stream",
     "text": [
      "314 ms ± 3.1 ms per loop (mean ± std. dev. of 7 runs, 1 loop each)\n"
     ]
    }
   ],
   "source": [
    "%%timeit\n",
    "var = np.arange(0, 1000, 0.001)\n",
    "\n",
    "out = list(map(func, var))"
   ]
  },
  {
   "cell_type": "markdown",
   "id": "f24f2280-7054-4ea5-b1f5-2d3a0f5327d6",
   "metadata": {},
   "source": [
    "El método `.map_async()` es análogo al método `.map()` con la salvedad de que retorna un objeto tipo `AsyncResult`. Esto significa que el resultado de ejecutar `.map_async()` se obtiene de manera inmediata, pudiendo continuar con las demás ordenes que proceden pero seguirá calculandose como proceso de fondo. para acceder a los resultados asociados al objeto `AsyncResult` se utiliza el método `.get()`.\n",
    "\n",
    "Utilizamos el método de mapeo asincrónico"
   ]
  },
  {
   "cell_type": "code",
   "execution_count": null,
   "id": "58c5de24-6c29-4539-92c6-9c1d97298b20",
   "metadata": {},
   "outputs": [],
   "source": [
    "p = Pool(3)  # tambien funciona Pool()\n",
    "\n",
    "var = [2, 4, 6, 8, 10, 12]\n",
    "out = p.map_async(func, var)\n",
    "out"
   ]
  },
  {
   "cell_type": "markdown",
   "id": "e3ea1647-1f4e-4b8b-834f-1958675c6634",
   "metadata": {},
   "source": [
    "accedemos a sus resultados"
   ]
  },
  {
   "cell_type": "code",
   "execution_count": null,
   "id": "47f18be9-bed4-455a-a595-899119dd229b",
   "metadata": {},
   "outputs": [],
   "source": [
    "print(out.get())\n",
    "p.close()"
   ]
  },
  {
   "cell_type": "markdown",
   "id": "3a1e7bfe-e481-4d1a-b8c3-6fbf7f55fe02",
   "metadata": {},
   "source": [
    "**Ejercicios**\n",
    "\n",
    "El métodos `.apply()` es similar a  `apply_async()`, `.map()` y `.map_async()`\n",
    "\n",
    "1. ¿En qué se diferencian?\n",
    "2. Programe una rutina que haga uso de `.apply()` y `apply_async()`. \n",
    "\n",
    "3. ¿Cómo se relaciona la clase `Pool` y los métodos de aplicación (`.map()`, `.apply()`, ...) con las funciones de Cython ?"
   ]
  },
  {
   "cell_type": "markdown",
   "id": "4cca43fc-fc3d-4892-b2e1-69334c45e3e3",
   "metadata": {},
   "source": [
    "### Memoria Compartida y Dataraces"
   ]
  },
  {
   "cell_type": "markdown",
   "id": "5609dfb8-e765-4b07-99be-dea9d5810189",
   "metadata": {},
   "source": [
    "Un data race es una situación que ocurre cuando uno o más hilos acceden concurrentemente a una posición de memoria o variable, al menos uno está escribiendo y al menos uno no está sincronizado con los otros hilos.\n",
    "\n",
    "<center>\n",
    "<img src='./resources/datarace_1.png' />\n",
    "</center>\n",
    "\n",
    "<center>\n",
    "    Ejecución secuencial en memoria compartida por threads.\n",
    "    Fuente: <a href='https://en.wikipedia.org/wiki/Race_condition'>Wikipedia</a>\n",
    "</center>\n",
    "\n",
    "<br>\n",
    "<br>\n",
    "\n",
    "<center>\n",
    "<img src='./resources/datarace_2.png' />\n",
    "</center>\n",
    "\n",
    "<center>\n",
    "    Ejecución paralela en memoria compartida por threads.\n",
    "    Fuente: <a href='https://en.wikipedia.org/wiki/Race_condition'>Wikipedia</a>\n",
    "</center>\n",
    "\n",
    "\n",
    "**La solución es tener mecanismos de sincronización** de hilos. \n"
   ]
  },
  {
   "cell_type": "markdown",
   "id": "f980ca12",
   "metadata": {},
   "source": [
    "\n",
    "### Ejemplo en `multiprocessing`\n",
    "\n",
    "\n",
    "El comportamiento predeterminado de `multiprocessing` es generar procesos con memoria independiente, sin embargo, permite definir ciertas variables en memoria compartida. Para definir una variable en memoria compartida se utiliza la clase `Value`, a esta clase se le entrega un tipo de dato que puede ser `i` para entero, `f` para flotante, `d` para doble precisión entre otros. \n"
   ]
  },
  {
   "cell_type": "code",
   "execution_count": 50,
   "id": "482b3fc9-1a31-40ff-bb87-cfc9e50efbe4",
   "metadata": {},
   "outputs": [],
   "source": [
    "from multiprocessing import Value\n",
    "\n",
    "comp_var = Value(\"d\")\n",
    "comp_var = 55"
   ]
  },
  {
   "cell_type": "markdown",
   "id": "3fe738b8-f485-4f52-a5ac-c14f81b020a6",
   "metadata": {},
   "source": [
    "Al utilizar variables en memoria compartida se deben tener en cuenta los procesos que acceden a ella, manejando la *concurrencia*, es decir, si los procesos pueden acceder a dichas variables de manera simultanea u ordenada. Por lo general en la actualización de valores unidimensionales se debe tener en cuenta la concurrencia bloqueando el acceso simultaneo. En arreglos se puede permitir tal manipulación siempre que los computos sean independientes. \n",
    "\n",
    "Para bloquear el acceso a una variable compartida se hace uso de la clase `Lock`."
   ]
  },
  {
   "cell_type": "code",
   "execution_count": 51,
   "id": "bfbefb31-c9e2-46ea-a054-6bac2611b70e",
   "metadata": {},
   "outputs": [],
   "source": [
    "from multiprocessing import Lock\n",
    "\n",
    "lock = Lock()"
   ]
  },
  {
   "cell_type": "markdown",
   "id": "4a221d22-717b-405f-8b9d-7ff586f5b8d0",
   "metadata": {},
   "source": [
    "A continuación se genera una rutina que accede a una variable de memoria compartida"
   ]
  },
  {
   "cell_type": "code",
   "execution_count": 52,
   "id": "b2453437-182a-4b31-87e2-5c645e3ce596",
   "metadata": {},
   "outputs": [],
   "source": [
    "from multiprocessing import Process, Value\n",
    "\n",
    "\n",
    "class Process_shared(Process):\n",
    "    def __init__(self, var, n=10000):\n",
    "        super().__init__()\n",
    "        self.var = var\n",
    "        self.n = n\n",
    "\n",
    "    def run(self):\n",
    "        for i in range(self.n):\n",
    "            self.var.value += 1"
   ]
  },
  {
   "cell_type": "markdown",
   "id": "a2ba6b92-367f-434b-afe9-2e176e7d97fe",
   "metadata": {},
   "source": [
    "El proceso asociado toma un valor y le añade 1 hasta `n = 10000` veces por proceso. Se crea el valor inicial y se inicializan 3 procesos"
   ]
  },
  {
   "cell_type": "code",
   "execution_count": 53,
   "id": "b8056121-d6c1-4dd2-b007-2cdc2fb4e002",
   "metadata": {},
   "outputs": [],
   "source": [
    "def test():\n",
    "    var = Value(\"i\")\n",
    "    var.value = 0\n",
    "\n",
    "    procs = [Process_shared(var) for i in range(3)]\n",
    "\n",
    "    [p.start() for p in procs]\n",
    "    [p.join() for p in procs]\n",
    "\n",
    "    print(var.value)"
   ]
  },
  {
   "cell_type": "markdown",
   "id": "dc65807e-50a7-4929-abe3-e55643f61964",
   "metadata": {},
   "source": [
    "Se prueba el resultado"
   ]
  },
  {
   "cell_type": "code",
   "execution_count": 54,
   "id": "6f723ea8-06a4-49c2-a379-bbe4bd1b34eb",
   "metadata": {},
   "outputs": [
    {
     "name": "stdout",
     "output_type": "stream",
     "text": [
      "29462\n"
     ]
    }
   ],
   "source": [
    "test()"
   ]
  },
  {
   "cell_type": "markdown",
   "id": "8a6bc4ec-fd1a-45d4-9792-b60be221382c",
   "metadata": {},
   "source": [
    "Como se puede ver, el resultado no es necesariamente 30.000, esto se debe al acceso simultaneo y aleatorio de los procesos a `var`, para solucionar este problema se hace uso de `lock`, para ello se redefine la clase `Process_shared` observando que lock es un *context manager*"
   ]
  },
  {
   "cell_type": "code",
   "execution_count": 55,
   "id": "7e5cb69d-18c7-41da-a0bd-d51f2b06a574",
   "metadata": {},
   "outputs": [],
   "source": [
    "class Process_shared_lock(Process):\n",
    "    def __init__(self, var, n=10000):\n",
    "        super().__init__()\n",
    "        self.var = var\n",
    "        self.n = n\n",
    "\n",
    "    def run(self):\n",
    "        for i in range(self.n):\n",
    "            with lock:\n",
    "                self.var.value += 1"
   ]
  },
  {
   "cell_type": "markdown",
   "id": "863e887a-0d1a-469d-86cd-11ed086ceba2",
   "metadata": {},
   "source": [
    "Se redefine la prueba asociada y se ejecuta:"
   ]
  },
  {
   "cell_type": "code",
   "execution_count": 56,
   "id": "e964469f-ee69-45b2-a6d1-def3de8097b9",
   "metadata": {},
   "outputs": [
    {
     "name": "stdout",
     "output_type": "stream",
     "text": [
      "30000\n"
     ]
    }
   ],
   "source": [
    "def test():\n",
    "    var = Value(\"i\")\n",
    "    var.value = 0\n",
    "\n",
    "    procs = [Process_shared_lock(var) for i in range(3)]\n",
    "\n",
    "    [p.start() for p in procs]\n",
    "    [p.join() for p in procs]\n",
    "\n",
    "    print(var.value)\n",
    "\n",
    "\n",
    "test()"
   ]
  },
  {
   "cell_type": "markdown",
   "id": "9b281fb5-b9e4-45d8-a955-32e186044360",
   "metadata": {},
   "source": [
    "Con lo cual se obtiene el resultado buscado"
   ]
  },
  {
   "cell_type": "markdown",
   "id": "e4fd2cfa-56e9-4c08-94de-5138b94c4903",
   "metadata": {},
   "source": [
    "---\n",
    "\n",
    "### Paralelización con `Joblib`"
   ]
  },
  {
   "cell_type": "markdown",
   "id": "c71e8875-84aa-4168-be0a-1620404aeb79",
   "metadata": {},
   "source": [
    "Otra forma de paralelizar de forma relativamente sencilla es usar la librería `joblib`. \n",
    "Esta permite ejecutar funciones de forma paralela similar a un map. Es decir, le entregamos una lista de argumentos y ejecuta una función con dichos argumentos de forma paralela.\n",
    "\n",
    "Para esto, utiliza el decorador `delayed` sobre una función (lo que la transforma a lazy, es decir, no se ejecuta instantaneamente). Luego a través del objeto `Parallel` que toma el número de trabajos concurrentes que se ejecutarán (`n_jobs`) ejecuta las funciones con sus parámetros."
   ]
  },
  {
   "cell_type": "code",
   "execution_count": 60,
   "id": "0807e0b8",
   "metadata": {},
   "outputs": [
    {
     "data": {
      "text/plain": [
       "[1.0,\n",
       " 0.9950041652780258,\n",
       " 0.9800665778412416,\n",
       " 0.955336489125606,\n",
       " 0.9210609940028851,\n",
       " 0.8775825618903728,\n",
       " 0.8253356149096782,\n",
       " 0.7648421872844884,\n",
       " 0.6967067093471654,\n",
       " 0.6216099682706644]"
      ]
     },
     "execution_count": 60,
     "metadata": {},
     "output_type": "execute_result"
    }
   ],
   "source": [
    "[np.cos(i) for i in np.arange(0,1,0.1)]"
   ]
  },
  {
   "cell_type": "code",
   "execution_count": 58,
   "id": "d0d54df2-b5c7-4404-961d-b8462996c4b5",
   "metadata": {},
   "outputs": [
    {
     "data": {
      "text/plain": [
       "<generator object <genexpr> at 0x7f5fe8cf55f0>"
      ]
     },
     "execution_count": 58,
     "metadata": {},
     "output_type": "execute_result"
    }
   ],
   "source": [
    "(delayed(np.cos)(i) for i in np.arange(0, 1, 0.1))"
   ]
  },
  {
   "cell_type": "code",
   "execution_count": 62,
   "id": "15cdaf9f",
   "metadata": {},
   "outputs": [],
   "source": [
    "?Parallel"
   ]
  },
  {
   "cell_type": "code",
   "execution_count": 63,
   "id": "604cbecb-4af7-49a3-b2a4-45a135ffdc53",
   "metadata": {},
   "outputs": [
    {
     "data": {
      "text/plain": [
       "[1.0,\n",
       " 0.9950041652780258,\n",
       " 0.9800665778412416,\n",
       " 0.955336489125606,\n",
       " 0.9210609940028851,\n",
       " 0.8775825618903728,\n",
       " 0.8253356149096782,\n",
       " 0.7648421872844884,\n",
       " 0.6967067093471654,\n",
       " 0.6216099682706644]"
      ]
     },
     "execution_count": 63,
     "metadata": {},
     "output_type": "execute_result"
    }
   ],
   "source": [
    "from math import sqrt\n",
    "\n",
    "from joblib import Parallel, delayed\n",
    "\n",
    "Parallel(n_jobs=-1)(delayed(np.cos)(i) for i in np.arange(0, 1, 0.1))"
   ]
  },
  {
   "cell_type": "code",
   "execution_count": 64,
   "id": "e38219e2-b33b-4617-bf45-b1262227b994",
   "metadata": {},
   "outputs": [
    {
     "name": "stdout",
     "output_type": "stream",
     "text": [
      "822 µs ± 7.74 µs per loop (mean ± std. dev. of 7 runs, 1000 loops each)\n"
     ]
    }
   ],
   "source": [
    "%timeit [np.cos(i) for i in np.arange(0, 1, 0.001)]"
   ]
  },
  {
   "cell_type": "code",
   "execution_count": 65,
   "id": "4208c066-037e-4fd9-900b-3108705ed30b",
   "metadata": {},
   "outputs": [
    {
     "name": "stdout",
     "output_type": "stream",
     "text": [
      "138 ms ± 11 ms per loop (mean ± std. dev. of 7 runs, 10 loops each)\n"
     ]
    }
   ],
   "source": [
    "%timeit Parallel(n_jobs=-1)(delayed(np.cos)(i) for i in np.arange(0, 1, 0.001))"
   ]
  },
  {
   "cell_type": "markdown",
   "id": "81d8db37-d68c-48f9-8506-230171f86419",
   "metadata": {},
   "source": [
    "Quizas para tareas numéricas no es tan efectivo, para tareas pesadas, se comporta bastante bien.\n",
    "\n",
    "Para este ejemplo, leeremos un archivo con números aleatorios en forma secuencial y en forma paralelizada:"
   ]
  },
  {
   "cell_type": "code",
   "execution_count": 66,
   "id": "1b07f773-c677-4d91-b93b-b2fb53e56265",
   "metadata": {},
   "outputs": [],
   "source": [
    "import pandas as pd\n",
    "\n",
    "def leer_archivo(_):\n",
    "    _ = pd.read_csv(\"./resources/num_aleatorios.csv\")"
   ]
  },
  {
   "cell_type": "code",
   "execution_count": 67,
   "id": "7d798fa4-8f7b-4619-9cc7-cc07f83c8af7",
   "metadata": {},
   "outputs": [
    {
     "name": "stdout",
     "output_type": "stream",
     "text": [
      "1.61 s ± 101 ms per loop (mean ± std. dev. of 7 runs, 1 loop each)\n"
     ]
    }
   ],
   "source": [
    "%timeit [leer_archivo(_) for _ in range(0, 50)]"
   ]
  },
  {
   "cell_type": "code",
   "execution_count": 68,
   "id": "8b81e619-afc1-4d05-9496-496dc0bc96cd",
   "metadata": {},
   "outputs": [
    {
     "name": "stdout",
     "output_type": "stream",
     "text": [
      "624 ms ± 33.7 ms per loop (mean ± std. dev. of 7 runs, 1 loop each)\n"
     ]
    }
   ],
   "source": [
    "%timeit Parallel(n_jobs=-1)(delayed(leer_archivo)(_) for _ in range(0,50))"
   ]
  },
  {
   "cell_type": "markdown",
   "id": "a56343c1-9281-463c-aa34-85ae685c7d78",
   "metadata": {},
   "source": [
    "Ahora si notamos diferencias."
   ]
  },
  {
   "cell_type": "markdown",
   "id": "504f4ce9",
   "metadata": {},
   "source": [
    "### Asincronía y Corrutinas\n",
    "\n",
    "<center>\n",
    "<img src='./resources/corrutinas.png' />\n",
    "</center>\n",
    "\n",
    "En general, se utiliza más en el desarrollo web/software para no bloquear la ejecución de código al solicitar datos a un servidor externo."
   ]
  },
  {
   "cell_type": "markdown",
   "id": "6d4bd170-c9bb-4d5e-b583-7ed801352710",
   "metadata": {},
   "source": [
    "## Procesamiento Distribuido\n",
    "\n",
    "<img src='./resources/distributed.png'/>\n",
    "\n",
    "El procesamiento distribuido hace referencia a la ejecución de tareas utilizando múltiples máquinas. Por lo general se refiere al trabajo con clusters de procesamiento y suele llevarse a cabo por medio de herramientas como `Dask` o `Ray`.\n",
    "\n",
    "En Python existen diversas librerías que permiten computación distribuida. En esta última sección estudiaremos una de ellas: `Dask`.\n"
   ]
  },
  {
   "cell_type": "markdown",
   "id": "953daa93-b98e-4c50-b982-f6304fc349d2",
   "metadata": {},
   "source": [
    "\n",
    "### `Dask`\n",
    "\n",
    "\n",
    "Dask permite escalar objetos y procedimientos de Python ya sea en un computador personal o un cluster de manera sencilla. Provee de funcionalidades para tratar, por medio de procesamiento multi-core, con datsets masivos **que por lo general no caben en memoria.**\n",
    "\n",
    "**Nota**: Si tu dataset cabe en memoria comodamente, entonces quizas no es necesario usar `Dask`.\n",
    "\n",
    "<img src='./resources/dask.png' />\n",
    "\n",
    "\n",
    "Dask proporciona planificadores de bajo nivel, cuya función es sincronizar tareas entre múltiples procesos o máquinas, análogo a la librería `multiprocessing` recientemente estudiada. \n"
   ]
  },
  {
   "cell_type": "markdown",
   "id": "6b93ab7d-4229-4bed-b651-3ddef71fa735",
   "metadata": {},
   "source": [
    "<center>\n",
    "<img src='./resources/dask_mimic.png' width=700>\n",
    "</center>"
   ]
  },
  {
   "cell_type": "markdown",
   "id": "0d1751a7-caa6-4c74-a0da-4aa96d3bae78",
   "metadata": {},
   "source": [
    "Pueden encontrar mayor información en la página oficial del proyecto:\n",
    "\n",
    "https://docs.dask.org/en/latest/"
   ]
  },
  {
   "cell_type": "markdown",
   "id": "0cb25b97",
   "metadata": {},
   "source": [
    "## Y las otras opciones?\n",
    "\n",
    "Una buena guía en inglés: https://www.datarevenue.com/en-blog/pandas-vs-dask-vs-vaex-vs-modin-vs-rapids-vs-ray\n",
    "\n",
    "\n",
    "- [Cupy](https://docs.cupy.dev/en/stable/user_guide/basic.html) - NumPy/SciPy-compatible Array Library for GPU-accelerated Computing with Python \n",
    "- [Rapids](https://rapids.ai/start.html): The RAPIDS data science framework includes a collection of libraries for executing end-to-end data science pipelines completely in the GPU\n",
    "- [Modin](https://modin.readthedocs.io/en/stable/): https://modin.readthedocs.io/en/stable/\n",
    "- [Ray](https://www.ray.io/): Ray provides a simple, universal API for building distributed applications."
   ]
  }
 ],
 "metadata": {
  "kernelspec": {
   "display_name": "Python 3 (ipykernel)",
   "language": "python",
   "name": "python3"
  },
  "language_info": {
   "codemirror_mode": {
    "name": "ipython",
    "version": 3
   },
   "file_extension": ".py",
   "mimetype": "text/x-python",
   "name": "python",
   "nbconvert_exporter": "python",
   "pygments_lexer": "ipython3",
   "version": "3.9.7"
  },
  "toc": {
   "base_numbering": 1,
   "nav_menu": {},
   "number_sections": true,
   "sideBar": true,
   "skip_h1_title": true,
   "title_cell": "Table of Contents",
   "title_sidebar": "Contents",
   "toc_cell": false,
   "toc_position": {},
   "toc_section_display": true,
   "toc_window_display": false
  }
 },
 "nbformat": 4,
 "nbformat_minor": 5
}
