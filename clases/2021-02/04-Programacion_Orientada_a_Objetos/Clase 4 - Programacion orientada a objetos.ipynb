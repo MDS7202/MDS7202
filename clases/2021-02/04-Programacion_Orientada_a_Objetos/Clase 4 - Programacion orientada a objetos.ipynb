{
 "cells": [
  {
   "cell_type": "markdown",
   "metadata": {},
   "source": [
    "# Clase 4: Programación Orientada a Objetos\n",
    "\n",
    "**MDS7202: Laboratorio de Programación Científica para Ciencia de Datos**\n",
    "\n",
    "**Profesor: Pablo Badilla**\n",
    "\n",
    "\n",
    "## Objetivos de la Clase\n",
    "\n",
    "El objetivo de esta clase es comprender los fundamentos de la programación orientada a objetos (POO).\n",
    "En particular, veremos:\n",
    "\n",
    "- Programación orientada a objetos: Clases, atributos y métodos.\n",
    "- Principios básicos de POO:\n",
    "    - Abstraccion y Encapsulación.\n",
    "    - Herencia.\n",
    "    - Anulación de Métodos.\n",
    "    - Métodos Mágicos.\n",
    "    - Herencia Múltiple (Propuesto 🏠).\n",
    "\n",
    "- Programación Modular.\n",
    "    - Estructura de un módulo (Propuesto 🏠).\n",
    "- Manejo de Excepciones.\n",
    "\n"
   ]
  },
  {
   "cell_type": "markdown",
   "metadata": {},
   "source": [
    "## Paradigmas de Programación \n",
    "\n",
    "Una forma usual de clasificar lenguajes de programación es por medio de su **paradigma principal**.\n",
    "\n",
    "> Según la RAE, un paradigma es un *ejemplo* o una *teoría o conjunto de teorías cuyo núcleo central se acepta sin cuestionar y que suministra la base y modelo para resolver problemas y avanzar en el conocimiento. *.\n",
    "\n",
    "Se puede interpretar a un paradigma de programación, como un conjunto de patrones o un modelo base o estilo sobre los cuales se resuelven problemas computacionales y que tienen directa relación con la sintaxis del lenguaje.\n",
    "\n",
    "Los paradigmas de programación principales son:\n",
    "\n",
    "* Imperativo\n",
    "* Funcional\n",
    "* Lógico\n",
    "* Orientado a objetos\n",
    "\n",
    "Pero existen muchos mas.\n",
    "\n",
    "En esta sección, estudiaremos las características de Python, que permiten implementar técnicas del paradigma orientado a objetos. "
   ]
  },
  {
   "cell_type": "markdown",
   "metadata": {},
   "source": [
    "> **Pregunta ❓**: Python es un lenguaje de programación multi-paradigma. ¿Qué paradigmas de programación, aparte del orientado a objetos, soporta Python? \n",
    "\n",
    "\n",
    "\n",
    "> **Ejercicio ✏️**: Busque información y defina (con sus propias palabras) los paradigmas de programación *Imperativa*, *Funcional* y *Lógica*. "
   ]
  },
  {
   "cell_type": "markdown",
   "metadata": {},
   "source": [
    "---\n",
    "\n",
    "## Programación Orientada a Objetos\n",
    "\n",
    "El paradigma de **programación orientado a objetos** (POO / OOP) permite estructurar programas, de manera tal que es posible **asociar acciones (métodos) y propiedades (atributos) a entidades llamadas objetos**. Las relaciones entre objetos encargados de procesar tareas de diversa índole permiten estructurar ordenadamente el programa y obtener de manera mas sencilla los resultados buscados. \n",
    "\n",
    "\n",
    "Por ejemplo, un *objeto* puede representar a un auto. En este caso, sus *atributos* serán la cantidad de bencina en el estanque, velocidad actual, velocidad máxima y mucho otros más. Por otro lado, sus comportamientos/*métodos* serán cargar bencina, acelerar, frenar, etc... e incluso podrá tener relaciones entre objetos \"persona\" al ejecutar un método conducir.\n",
    "\n",
    "\n",
    "\n",
    "![Ejemplo clase auto](./resources/clase_auto.png)\n",
    "<center>Ejemplo clase auto y objetos que la instancian</center>\n"
   ]
  },
  {
   "cell_type": "markdown",
   "metadata": {},
   "source": [
    "---\n",
    "\n",
    "## Clases en Python\n",
    "\n",
    "\n",
    "Una **clase** provee de la estructura sobre la cual se definirá un objeto. Esta en su formulación base no se encuentra provista de la información que se materializa con el objeto.\n",
    "\n",
    "\n",
    "### Declaración de clases\n",
    "\n",
    "En Python, las clases se definen siguiendo la sintaxis:\n",
    "\n",
    "```python\n",
    "class ClassName:\n",
    "    ...\n",
    "```\n",
    "\n",
    "Como se puede apreciar, siguen una estructura bastante similar a la de las funciones (bloque ```def```) y deben ser declaradas antes de ser utilizadas. La dinámica de scopes sigue la misma lógica que en funciones: todas las asignaciones a variables locales dentro de la clase, quedan su scope local asociado (o *namespace*). \n",
    "\n",
    "Una práctica estándar es usar notación **Upper CamelCase**, es decir, cada palabra o abreviación al medio de la frase, que define el nombre de la clase, debe comenzar con mayúscula, sin hacer uso de espacios ni signos de puntuación.\n",
    "\n",
    "> **Ejemplo 📖**\n",
    "\n",
    "El tipo de clase más básico de Python se puede definir usando la orden ```pass```"
   ]
  },
  {
   "cell_type": "code",
   "execution_count": 1,
   "metadata": {},
   "outputs": [],
   "source": [
    "class Auto:\n",
    "    pass"
   ]
  },
  {
   "cell_type": "code",
   "execution_count": 2,
   "metadata": {
    "ExecuteTime": {
     "end_time": "2021-03-29T19:27:06.881720Z",
     "start_time": "2021-03-29T19:27:06.874726Z"
    }
   },
   "outputs": [],
   "source": [
    "class Persona:\n",
    "    pass"
   ]
  },
  {
   "cell_type": "markdown",
   "metadata": {},
   "source": [
    "Esta clase básicamente es la clase vacía, sin atributos (más que su nombre) y sin métodos. Para *instanciar un objeto (o instancia de la clase)* invocamos la clase y la asignamos a alguna variable. \n",
    "\n",
    "> **Nota 📝**: Para definir la clase sin herencia (cosa que veremos más adelante) no se utilizan paréntesis. Por otra parte, al instanciar la clase y crear el objeto, si se utilizan."
   ]
  },
  {
   "cell_type": "code",
   "execution_count": 4,
   "metadata": {
    "ExecuteTime": {
     "end_time": "2021-03-29T19:27:54.414026Z",
     "start_time": "2021-03-29T19:27:54.409027Z"
    },
    "scrolled": true
   },
   "outputs": [
    {
     "data": {
      "text/plain": [
       "<__main__.Auto at 0x7f2ba88ade20>"
      ]
     },
     "execution_count": 4,
     "metadata": {},
     "output_type": "execute_result"
    }
   ],
   "source": [
    "objeto = Auto()\n",
    "objeto"
   ]
  },
  {
   "cell_type": "markdown",
   "metadata": {},
   "source": [
    "---\n",
    "\n",
    "### Atributos y Constructor\n",
    "\n",
    "Al trabajar con objetos es natural el concepto de **atributo**, los cuales representan característica asociada a los objetos. Para que los objetos de cierta clase posean atributos al momento de ser instanciados, estos se deben **inicializar**. \n",
    "\n",
    "#### Constructor\n",
    "\n",
    "Para inicializar atributos dentro de objetos se utiliza el **método constructor ```__init__()```**. Este método debe tener al menos un argumento (`self`) que es una referencia al objeto que se está instanciando en esa llamada. \n",
    "\n",
    "> **Ejemplo 📖**\n",
    "\n",
    "Definimos la clase ```Estudiante```, esta clase posee los atributos ```nombre``` y ```edad```.\n",
    "\n",
    "**Obs**: Nota que ```self``` es un nombre de variable usado *por convención*, en algunas implementaciones (más antiguas) se hace uso de la convención ```this```. "
   ]
  },
  {
   "cell_type": "code",
   "execution_count": 5,
   "metadata": {
    "ExecuteTime": {
     "end_time": "2021-03-29T19:34:12.466917Z",
     "start_time": "2021-03-29T19:34:12.447917Z"
    }
   },
   "outputs": [],
   "source": [
    "class Estudiante:\n",
    "    '''Clase Estudiante del Curso MDS7202'''\n",
    "\n",
    "    def __init__(self, name, age):\n",
    "        self.nombre = name\n",
    "        self.edad = age\n",
    "        self.horas_de_estudio = 0\n"
   ]
  },
  {
   "cell_type": "markdown",
   "metadata": {},
   "source": [
    "En este ejemplo, la clase ```Estudiante``` entrega la base para que cada una de sus instancias tenga un dato asociado a ```nombre``` y ```edad```.\n",
    "Para crear un objeto Estudiante, debemos instanciar la clase."
   ]
  },
  {
   "cell_type": "code",
   "execution_count": 6,
   "metadata": {
    "ExecuteTime": {
     "end_time": "2021-03-29T19:33:49.375119Z",
     "start_time": "2021-03-29T19:33:49.351121Z"
    }
   },
   "outputs": [],
   "source": [
    "estudiante = Estudiante('Agustín', 66)"
   ]
  },
  {
   "cell_type": "markdown",
   "metadata": {},
   "source": [
    "Accedemos a sus atributos a través de la notación **{`objeto`}.{`atributo`}**"
   ]
  },
  {
   "cell_type": "code",
   "execution_count": 7,
   "metadata": {},
   "outputs": [
    {
     "data": {
      "text/plain": [
       "'Agustín'"
      ]
     },
     "execution_count": 7,
     "metadata": {},
     "output_type": "execute_result"
    }
   ],
   "source": [
    "estudiante.nombre"
   ]
  },
  {
   "cell_type": "code",
   "execution_count": 8,
   "metadata": {},
   "outputs": [
    {
     "data": {
      "text/plain": [
       "66"
      ]
     },
     "execution_count": 8,
     "metadata": {},
     "output_type": "execute_result"
    }
   ],
   "source": [
    "estudiante.edad"
   ]
  },
  {
   "cell_type": "code",
   "execution_count": 9,
   "metadata": {},
   "outputs": [
    {
     "data": {
      "text/plain": [
       "0"
      ]
     },
     "execution_count": 9,
     "metadata": {},
     "output_type": "execute_result"
    }
   ],
   "source": [
    "estudiante.horas_de_estudio"
   ]
  },
  {
   "cell_type": "markdown",
   "metadata": {},
   "source": [
    "Podemos asignar el valor de algún atributo usando **{`objeto`}.{`atributo`}** = **`valor`**"
   ]
  },
  {
   "cell_type": "code",
   "execution_count": 10,
   "metadata": {},
   "outputs": [],
   "source": [
    "estudiante.horas_de_estudio = 100 # pasó de curso :)"
   ]
  },
  {
   "cell_type": "code",
   "execution_count": 11,
   "metadata": {},
   "outputs": [
    {
     "data": {
      "text/plain": [
       "100"
      ]
     },
     "execution_count": 11,
     "metadata": {},
     "output_type": "execute_result"
    }
   ],
   "source": [
    "estudiante.horas_de_estudio"
   ]
  },
  {
   "cell_type": "markdown",
   "metadata": {},
   "source": [
    "--- \n",
    "\n",
    "> **Ejercicios ✏️** \n",
    "\n",
    "1. ¿Cuáles de estos comandos son correctos y por qué? \n",
    "\n",
    "    a. ```estudiante_1 = Estudiante('Sara', 29)```  \n",
    "    \n",
    "    b. ```estudiante_1 = Estudiante(name = 'Alberto', age = 25)```\n",
    "    \n",
    "    c. ```estudiante_1 = Estudiante(name = 'Alberto', age = '25')```  \n",
    "    \n",
    "    d. ```estudiante_1 = Estudiante()``` \n",
    "    \n",
    "    \n",
    "2. Ejecute el siguiente código:\n",
    "```python\n",
    "persona = Persona()\n",
    "persona.edad = 100\n",
    "print(objeto_1.atributo_1)\n",
    "```\n",
    "Donde ```Persona``` se definió unas celdas más arriba. Si observa con detención, se creó el atributo ```edad``` \"directamente\" ¿Qué diferencia / ventaja / desventaja posee este método de creación de atributos versus el uso del constructor ```__init__()__```?\n",
    "\n",
    "\n",
    "3. Las clases se comportan de la misma manera que las funciones en cuanto al manejo de variables por bloque (scope). Declare la clase ```Perro``` no modifique el método ```__init__()__``` de esta clase, sin embargo, añada una variable ```patas = 4``` compartida por todos los objetos de la clase. \n",
    "\n",
    "```python\n",
    "class Perro:\n",
    "    patas = 4\n",
    "```\n",
    "Explique las implicancias de esta definición al instanciar cualquier objeto de la clase perro. (*hint*: este tipo de variables se denomina *variable de clase estática*, por consiguiente, las variables definidas por el constructor ```__init__()__``` son *dinámicas*.)\n",
    "\n",
    "\n",
    "4. Como observó en el ejercicio 2, es posible sobreescribir el valor de un atributo accediendo a el directamente desde el objeto que lo posee. Defina el objeto ```cajero_de_metro```, instacia de la clase ```CajeroAutomatico``` y sobreescriba el atributo  ```cajero_de_metro.dinero``` por -1, luego imprima en pantalla el valor de tal atributo. Clase por usar:\n",
    "\n",
    "```python\n",
    "class CajeroAutomatico:\n",
    "    def __init__(self):\n",
    "        self.dinero = 10000000\n",
    "```\n",
    "\n",
    "¿Es buena idea usar esta forma de acceder a los atributos? Basarse en la siguiente nota para responder:\n",
    "\n",
    "\n",
    "> **Nota 📝**: Por lo general se busca bloquear el acceso a atributos internos de un objeto, con el fin de garantizar integridad y control sobre los datos que se operan. Esto se denota como **encapsulación**."
   ]
  },
  {
   "cell_type": "markdown",
   "metadata": {},
   "source": [
    "---\n",
    "\n",
    "#### Métodos\n",
    "\n",
    "Los métodos de una clase son simplemente funciones asociadas a su construcción. Ya se estudió el método especial ```__init__()```, este utiliza un bloque ```def``` para ser declarado, de manera similar se trabaja con métodos definidos por el usuario.\n",
    "\n",
    "\n",
    "> **Ejemplo 📖**\n"
   ]
  },
  {
   "cell_type": "code",
   "execution_count": 20,
   "metadata": {},
   "outputs": [],
   "source": [
    "class Estudiante:\n",
    "    '''Clase Estudiante del Curso MDS7202'''\n",
    "\n",
    "    def __init__(self, name, age):\n",
    "        self.nombre = name\n",
    "        self.edad = age\n",
    "        self.horas_de_estudio = 0\n",
    "        \n",
    "    def estudiar_una_hora(self):\n",
    "        self.horas_de_estudio += 1\n",
    "        \n",
    "    def print_estudiante(self):\n",
    "        print(f'{self.nombre} : horas_de_estudio: {self.horas_de_estudio}')"
   ]
  },
  {
   "cell_type": "code",
   "execution_count": 21,
   "metadata": {},
   "outputs": [
    {
     "name": "stdout",
     "output_type": "stream",
     "text": [
      "Juanita : horas_de_estudio: 0\n"
     ]
    }
   ],
   "source": [
    "estudiante = Estudiante('Juanita', 24)\n",
    "print(f'{estudiante.nombre} : horas_de_estudio: {estudiante.horas_de_estudio}')"
   ]
  },
  {
   "cell_type": "code",
   "execution_count": 23,
   "metadata": {},
   "outputs": [
    {
     "name": "stdout",
     "output_type": "stream",
     "text": [
      "Juanita : horas_de_estudio: 2 horas.\n"
     ]
    }
   ],
   "source": [
    "estudiante.estudiar_una_hora()\n",
    "\n",
    "print(f'{estudiante.nombre} : horas_de_estudio: {estudiante.horas_de_estudio} horas.')"
   ]
  },
  {
   "cell_type": "code",
   "execution_count": 24,
   "metadata": {},
   "outputs": [
    {
     "name": "stdout",
     "output_type": "stream",
     "text": [
      "Juanita : horas_de_estudio: 2\n"
     ]
    }
   ],
   "source": [
    "estudiante.print_estudiante()"
   ]
  },
  {
   "cell_type": "markdown",
   "metadata": {},
   "source": [
    "#### Duck typing\n",
    "\n",
    "Python permite realizar **Duck typing** con sus objetos. Este término proviene del dicho \"If it walks like a duck and it quacks like a duck, then it must be a duck\" (si camina como pato y grazna como pato, entonces debe ser un pato). En programación esto implica que si un objeto tiene cierta funcionalidad, esta puede ser utilizada sin importar el contexto. Los siguientes ejercicios están diseñados para entender en duck typing en Python.\n",
    "\n",
    "\n",
    "> **Ejercicio ✏️**\n",
    "\n",
    "\n",
    "1. Defina la clase ```Pato``` con el atributo estático ```patas = 2```, defina además el método ```hablar()``` que imprime en pantalla ```Soy un patito inofensivo, cuack```. \n",
    "\n",
    "2. Defina la clase ```Bomba``` con los métodos: \n",
    "    1. ```explotar()```, este método imprime en pantalla ```Booom!```\n",
    "    2. ```hablar()```, este método imprime en pantalla ```3... 2... 1...``` y ejecuta el método ```explotar()```\n",
    "    \n",
    "3. Defina la clase ```Persona```, está clase tiene el atributo estático ```su_pato = None```. En su método constructor ```__init__()```, inicializa la variable ```nombre``` y luego imprime en pantalla ```[nombre] cruza la calle y te pide dinero para comprar un pato ```. La clase ```Persona``` tiene además los siguientes métodos:\n",
    "    1. ```toma_pato``` este método toma como input un objeto y lo asigna al atributo ```su_pato``` de la clase, luego imprime en pantalla ```[nombre] compra el pato y se va felizmente ```\n",
    "    2. ```hace_lo_suyo()``` imprime en pantalla ```[nombre] intenta hacer que el pato hable``` luego, si el atributo ```su_pato``` es distinto de ```None``` ejecuta ```su_pato.hablar()```.\n",
    " \n",
    "4. Defina los objetos de la clase ```Persona```, ```Bomba``` y ```Pato```. Suponiendo que definió ```per``` como el objeto ```Persona```, y ```pat``` como el objeto ```Pato```, ejecute ```per.toma_pato(pat)``` y ```per.hace_lo_suyo()```. Finalmente, si definió ```bomb``` como el objeto ```Bomba``` ejecute ```per.toma_pato(bomb)``` y ```per.hace_lo_suyo()```. Deduzca que el método ```hace_lo_suyo()``` es indiferente sobre el objeto que opera, siempre y cuando tenga implementado el método ```hablar```. Es decir, hace *duck typing*, manifestándose en la explosión de la bomba.\n",
    "    \n",
    "**Obs**: ```[nombre]``` debe ser reemplazado por el nombre del objeto instanciado, por ejemplo si ```obj=Persona('Jaime')```, se debe imprimir ```Jaime cruza la calle y ...```. \n",
    "\n",
    "*Hint*: Por lo menos para los objetos ```Bomba``` y ```Persona``` , defina un constructor ```__init__()```. \n",
    "\n",
    "*Este ejercicio fue adaptado de un comentario en [stackoverflow](https://stackoverflow.com/a/14532188). y busca mostrar por qué el duck typing puede ser \"malvado\".*"
   ]
  },
  {
   "cell_type": "markdown",
   "metadata": {
    "ExecuteTime": {
     "end_time": "2021-03-29T17:22:31.322706Z",
     "start_time": "2021-03-29T17:22:31.307706Z"
    }
   },
   "source": [
    "### Nota interesante: Todo en Python son objetos\n",
    "\n",
    "Todos los tipos de datos básicos y funciones que hemos visto hasta ahora son objetos. Y la mayoría de estos objetos tienen algún método asociado"
   ]
  },
  {
   "cell_type": "code",
   "execution_count": 27,
   "metadata": {
    "ExecuteTime": {
     "end_time": "2021-03-29T19:34:53.292227Z",
     "start_time": "2021-03-29T19:34:53.276229Z"
    }
   },
   "outputs": [],
   "source": [
    "a = []"
   ]
  },
  {
   "cell_type": "code",
   "execution_count": 28,
   "metadata": {
    "ExecuteTime": {
     "end_time": "2021-03-29T19:35:07.611063Z",
     "start_time": "2021-03-29T19:35:07.591064Z"
    }
   },
   "outputs": [
    {
     "name": "stdout",
     "output_type": "stream",
     "text": [
      "Help on class list in module builtins:\n",
      "\n",
      "class list(object)\n",
      " |  list(iterable=(), /)\n",
      " |  \n",
      " |  Built-in mutable sequence.\n",
      " |  \n",
      " |  If no argument is given, the constructor creates a new empty list.\n",
      " |  The argument must be an iterable if specified.\n",
      " |  \n",
      " |  Methods defined here:\n",
      " |  \n",
      " |  __add__(self, value, /)\n",
      " |      Return self+value.\n",
      " |  \n",
      " |  __contains__(self, key, /)\n",
      " |      Return key in self.\n",
      " |  \n",
      " |  __delitem__(self, key, /)\n",
      " |      Delete self[key].\n",
      " |  \n",
      " |  __eq__(self, value, /)\n",
      " |      Return self==value.\n",
      " |  \n",
      " |  __ge__(self, value, /)\n",
      " |      Return self>=value.\n",
      " |  \n",
      " |  __getattribute__(self, name, /)\n",
      " |      Return getattr(self, name).\n",
      " |  \n",
      " |  __getitem__(...)\n",
      " |      x.__getitem__(y) <==> x[y]\n",
      " |  \n",
      " |  __gt__(self, value, /)\n",
      " |      Return self>value.\n",
      " |  \n",
      " |  __iadd__(self, value, /)\n",
      " |      Implement self+=value.\n",
      " |  \n",
      " |  __imul__(self, value, /)\n",
      " |      Implement self*=value.\n",
      " |  \n",
      " |  __init__(self, /, *args, **kwargs)\n",
      " |      Initialize self.  See help(type(self)) for accurate signature.\n",
      " |  \n",
      " |  __iter__(self, /)\n",
      " |      Implement iter(self).\n",
      " |  \n",
      " |  __le__(self, value, /)\n",
      " |      Return self<=value.\n",
      " |  \n",
      " |  __len__(self, /)\n",
      " |      Return len(self).\n",
      " |  \n",
      " |  __lt__(self, value, /)\n",
      " |      Return self<value.\n",
      " |  \n",
      " |  __mul__(self, value, /)\n",
      " |      Return self*value.\n",
      " |  \n",
      " |  __ne__(self, value, /)\n",
      " |      Return self!=value.\n",
      " |  \n",
      " |  __repr__(self, /)\n",
      " |      Return repr(self).\n",
      " |  \n",
      " |  __reversed__(self, /)\n",
      " |      Return a reverse iterator over the list.\n",
      " |  \n",
      " |  __rmul__(self, value, /)\n",
      " |      Return value*self.\n",
      " |  \n",
      " |  __setitem__(self, key, value, /)\n",
      " |      Set self[key] to value.\n",
      " |  \n",
      " |  __sizeof__(self, /)\n",
      " |      Return the size of the list in memory, in bytes.\n",
      " |  \n",
      " |  append(self, object, /)\n",
      " |      Append object to the end of the list.\n",
      " |  \n",
      " |  clear(self, /)\n",
      " |      Remove all items from list.\n",
      " |  \n",
      " |  copy(self, /)\n",
      " |      Return a shallow copy of the list.\n",
      " |  \n",
      " |  count(self, value, /)\n",
      " |      Return number of occurrences of value.\n",
      " |  \n",
      " |  extend(self, iterable, /)\n",
      " |      Extend list by appending elements from the iterable.\n",
      " |  \n",
      " |  index(self, value, start=0, stop=9223372036854775807, /)\n",
      " |      Return first index of value.\n",
      " |      \n",
      " |      Raises ValueError if the value is not present.\n",
      " |  \n",
      " |  insert(self, index, object, /)\n",
      " |      Insert object before index.\n",
      " |  \n",
      " |  pop(self, index=-1, /)\n",
      " |      Remove and return item at index (default last).\n",
      " |      \n",
      " |      Raises IndexError if list is empty or index is out of range.\n",
      " |  \n",
      " |  remove(self, value, /)\n",
      " |      Remove first occurrence of value.\n",
      " |      \n",
      " |      Raises ValueError if the value is not present.\n",
      " |  \n",
      " |  reverse(self, /)\n",
      " |      Reverse *IN PLACE*.\n",
      " |  \n",
      " |  sort(self, /, *, key=None, reverse=False)\n",
      " |      Sort the list in ascending order and return None.\n",
      " |      \n",
      " |      The sort is in-place (i.e. the list itself is modified) and stable (i.e. the\n",
      " |      order of two equal elements is maintained).\n",
      " |      \n",
      " |      If a key function is given, apply it once to each list item and sort them,\n",
      " |      ascending or descending, according to their function values.\n",
      " |      \n",
      " |      The reverse flag can be set to sort in descending order.\n",
      " |  \n",
      " |  ----------------------------------------------------------------------\n",
      " |  Class methods defined here:\n",
      " |  \n",
      " |  __class_getitem__(...) from builtins.type\n",
      " |      See PEP 585\n",
      " |  \n",
      " |  ----------------------------------------------------------------------\n",
      " |  Static methods defined here:\n",
      " |  \n",
      " |  __new__(*args, **kwargs) from builtins.type\n",
      " |      Create and return a new object.  See help(type) for accurate signature.\n",
      " |  \n",
      " |  ----------------------------------------------------------------------\n",
      " |  Data and other attributes defined here:\n",
      " |  \n",
      " |  __hash__ = None\n",
      "\n"
     ]
    }
   ],
   "source": [
    "help(list)"
   ]
  },
  {
   "cell_type": "code",
   "execution_count": null,
   "metadata": {
    "ExecuteTime": {
     "end_time": "2021-03-29T19:34:58.866417Z",
     "start_time": "2021-03-29T19:34:58.849385Z"
    }
   },
   "outputs": [],
   "source": [
    "# Esto es en verdad un método de la clase list\n",
    "a.append(1)"
   ]
  },
  {
   "cell_type": "code",
   "execution_count": null,
   "metadata": {
    "ExecuteTime": {
     "end_time": "2021-03-29T19:35:02.363094Z",
     "start_time": "2021-03-29T19:35:02.354095Z"
    }
   },
   "outputs": [],
   "source": [
    "a"
   ]
  },
  {
   "cell_type": "code",
   "execution_count": 30,
   "metadata": {},
   "outputs": [
    {
     "data": {
      "text/plain": [
       "'1'"
      ]
     },
     "execution_count": 30,
     "metadata": {},
     "output_type": "execute_result"
    }
   ],
   "source": [
    "'1'"
   ]
  },
  {
   "cell_type": "code",
   "execution_count": 31,
   "metadata": {
    "ExecuteTime": {
     "end_time": "2021-03-29T19:35:27.759397Z",
     "start_time": "2021-03-29T19:35:27.744398Z"
    }
   },
   "outputs": [
    {
     "name": "stdout",
     "output_type": "stream",
     "text": [
      "Help on class map in module builtins:\n",
      "\n",
      "class map(object)\n",
      " |  map(func, *iterables) --> map object\n",
      " |  \n",
      " |  Make an iterator that computes the function using arguments from\n",
      " |  each of the iterables.  Stops when the shortest iterable is exhausted.\n",
      " |  \n",
      " |  Methods defined here:\n",
      " |  \n",
      " |  __getattribute__(self, name, /)\n",
      " |      Return getattr(self, name).\n",
      " |  \n",
      " |  __iter__(self, /)\n",
      " |      Implement iter(self).\n",
      " |  \n",
      " |  __next__(self, /)\n",
      " |      Implement next(self).\n",
      " |  \n",
      " |  __reduce__(...)\n",
      " |      Return state information for pickling.\n",
      " |  \n",
      " |  ----------------------------------------------------------------------\n",
      " |  Static methods defined here:\n",
      " |  \n",
      " |  __new__(*args, **kwargs) from builtins.type\n",
      " |      Create and return a new object.  See help(type) for accurate signature.\n",
      "\n"
     ]
    }
   ],
   "source": [
    "help(map)"
   ]
  },
  {
   "cell_type": "markdown",
   "metadata": {},
   "source": [
    "----\n",
    "\n",
    "## Principios Básicos de la POO\n",
    "\n",
    "POO no solo consiste en basar la programación en objetos. Estos deben también poder cumplir con los siguientes principios, los cuales veremos a continuación \n",
    "\n",
    "- Abstracción\n",
    "- Encapsulación\n",
    "- Polimorfismo\n",
    "- Herencia\n",
    "\n",
    "Todos estos los veremos a continuación.\n"
   ]
  },
  {
   "cell_type": "markdown",
   "metadata": {},
   "source": [
    "---\n",
    "\n",
    "### Abstracción y Encapsulación \n",
    "Por lo general, los conceptos de abstracción, encapsulación e información oculta se utilizan como sinónimos, sin embargo, existe una diferencia entre ellos. \n",
    "\n",
    "- En primer lugar, **encapsulación** es el empaquetamiento de los datos del objeto para **esconderlos o restringir su acceso**. La idea de estos es evitar que estos cambien de manera accidental o sean accedidos por clases que no estaban autorizadas a ello.\n",
    "\n",
    "\n",
    "- La **abstracción** es el mecanismo por el cual representamos las características de un programa sin detallar la implementación de estos.\n",
    "\n",
    "\n",
    "En la mayría de los lenguajes orientados a objetos, la encapsulación de datos se logra por medio de métodos que permiten el acceso a los datos, llamados **métodos _getter_**. Este tipo de métodos no cambian los valores asociados a atributos, sino que simplemente los *retornan*. Finalmente, para modificar la información y lograr encapsularla, hacen falta métodos modificadores (contraparte a los métodos *getter*). Estos se denominan **métodos _setter_**. \n",
    "\n",
    "> **Ejemplo 📖**\n",
    "\n",
    "Definimos la clase ```MaquinaDeCafe``` esta posee un método *setter* y un método *getter* para el atributo ```numero_id```. "
   ]
  },
  {
   "cell_type": "code",
   "execution_count": 36,
   "metadata": {
    "ExecuteTime": {
     "end_time": "2021-03-29T19:40:22.064853Z",
     "start_time": "2021-03-29T19:40:22.048855Z"
    },
    "code_folding": []
   },
   "outputs": [],
   "source": [
    "class Cafetera:\n",
    "    \"\"\"Clase Cafetera que prepara ricos cafecitos.\"\"\"\n",
    "\n",
    "    tipos_cafe_admitidos = [\"expreso\", \"capuchino\", \"cortado\", \"doble\"]\n",
    "\n",
    "    def __init__(self):\n",
    "        self.pedido = None\n",
    "\n",
    "    # getter\n",
    "    def get_pedido(self):\n",
    "        return self.pedido\n",
    "\n",
    "    # setter\n",
    "    def set_pedido(self, nuevo_pedido):\n",
    "        \n",
    "        if nuevo_pedido in self.tipos_cafe_admitidos:\n",
    "            self.pedido = nuevo_pedido\n",
    "            \n",
    "        else:\n",
    "            raise ValueError(\n",
    "                'Error ❌: el tipo_cafe debe ser uno de: \"expreso\" '\n",
    "                f'\"capuchino\", \"cortado\" o \"doble\". Entregado: {nuevo_pedido}'\n",
    "            )\n",
    "\n",
    "    def trabajar(self):\n",
    "        if self.pedido is not None:\n",
    "            print(f\"☕☕ Preparando un café {self.pedido} ☕☕\")\n",
    "            print('Cafe está listo :)')\n",
    "\n",
    "        else:\n",
    "            print(\"No tengo pedidos pendientes... 😴😴😴\")"
   ]
  },
  {
   "cell_type": "markdown",
   "metadata": {},
   "source": [
    "> **Ejemplo 📖**"
   ]
  },
  {
   "cell_type": "code",
   "execution_count": 38,
   "metadata": {
    "ExecuteTime": {
     "end_time": "2021-03-29T19:40:23.031854Z",
     "start_time": "2021-03-29T19:40:23.026856Z"
    },
    "scrolled": true
   },
   "outputs": [
    {
     "data": {
      "text/plain": [
       "<__main__.Cafetera at 0x7f2b92532160>"
      ]
     },
     "execution_count": 38,
     "metadata": {},
     "output_type": "execute_result"
    }
   ],
   "source": [
    "cafetera_1 = Cafetera()\n",
    "cafetera_1"
   ]
  },
  {
   "cell_type": "code",
   "execution_count": 39,
   "metadata": {},
   "outputs": [
    {
     "name": "stdout",
     "output_type": "stream",
     "text": [
      "☕☕ Preparando un café capuchino ☕☕\n",
      "Cafe está listo :)\n"
     ]
    }
   ],
   "source": [
    "cafetera_1.set_pedido('capuchino')\n",
    "cafetera_1.trabajar()"
   ]
  },
  {
   "cell_type": "code",
   "execution_count": 40,
   "metadata": {},
   "outputs": [
    {
     "ename": "ValueError",
     "evalue": "Error ❌: el tipo_cafe debe ser uno de: \"expreso\" \"capuchino\", \"cortado\" o \"doble\". Entregado: moka",
     "output_type": "error",
     "traceback": [
      "\u001b[0;31m---------------------------------------------------------------------------\u001b[0m",
      "\u001b[0;31mValueError\u001b[0m                                Traceback (most recent call last)",
      "\u001b[0;32m<ipython-input-40-bc4c28df83af>\u001b[0m in \u001b[0;36m<module>\u001b[0;34m\u001b[0m\n\u001b[0;32m----> 1\u001b[0;31m \u001b[0mcafetera_1\u001b[0m\u001b[0;34m.\u001b[0m\u001b[0mset_pedido\u001b[0m\u001b[0;34m(\u001b[0m\u001b[0;34m'moka'\u001b[0m\u001b[0;34m)\u001b[0m\u001b[0;34m\u001b[0m\u001b[0;34m\u001b[0m\u001b[0m\n\u001b[0m",
      "\u001b[0;32m<ipython-input-36-23658f28e4b7>\u001b[0m in \u001b[0;36mset_pedido\u001b[0;34m(self, nuevo_pedido)\u001b[0m\n\u001b[1;32m     18\u001b[0m \u001b[0;34m\u001b[0m\u001b[0m\n\u001b[1;32m     19\u001b[0m         \u001b[0;32melse\u001b[0m\u001b[0;34m:\u001b[0m\u001b[0;34m\u001b[0m\u001b[0;34m\u001b[0m\u001b[0m\n\u001b[0;32m---> 20\u001b[0;31m             raise ValueError(\n\u001b[0m\u001b[1;32m     21\u001b[0m                 \u001b[0;34m'Error ❌: el tipo_cafe debe ser uno de: \"expreso\" '\u001b[0m\u001b[0;34m\u001b[0m\u001b[0;34m\u001b[0m\u001b[0m\n\u001b[1;32m     22\u001b[0m                 \u001b[0;34mf'\"capuchino\", \"cortado\" o \"doble\". Entregado: {nuevo_pedido}'\u001b[0m\u001b[0;34m\u001b[0m\u001b[0;34m\u001b[0m\u001b[0m\n",
      "\u001b[0;31mValueError\u001b[0m: Error ❌: el tipo_cafe debe ser uno de: \"expreso\" \"capuchino\", \"cortado\" o \"doble\". Entregado: moka"
     ]
    }
   ],
   "source": [
    "cafetera_1.set_pedido('moka')"
   ]
  },
  {
   "cell_type": "code",
   "execution_count": 43,
   "metadata": {},
   "outputs": [],
   "source": [
    "cafetera_1.pedido = 'malicia'"
   ]
  },
  {
   "cell_type": "code",
   "execution_count": 44,
   "metadata": {},
   "outputs": [
    {
     "name": "stdout",
     "output_type": "stream",
     "text": [
      "☕☕ Preparando un café malicia ☕☕\n",
      "Cafe está listo :)\n"
     ]
    }
   ],
   "source": [
    "cafetera_1.trabajar()"
   ]
  },
  {
   "cell_type": "markdown",
   "metadata": {},
   "source": [
    "**Nota interesante**: Si bien, estos patrones getter/setters son comunes en lenguajes como `Java` o `C#`, `Python` desincentiva la creación de setters y getters y le da el favor al acceso directo de los atributos. \n",
    "\n",
    "Veremos en unos momentos más la manera *pythonica* de implementar getters y setters a través de *propiedades*."
   ]
  },
  {
   "cell_type": "code",
   "execution_count": 45,
   "metadata": {
    "ExecuteTime": {
     "end_time": "2021-03-29T19:40:54.929595Z",
     "start_time": "2021-03-29T19:40:54.921595Z"
    }
   },
   "outputs": [
    {
     "name": "stdout",
     "output_type": "stream",
     "text": [
      "The Zen of Python, by Tim Peters\n",
      "\n",
      "Beautiful is better than ugly.\n",
      "Explicit is better than implicit.\n",
      "Simple is better than complex.\n",
      "Complex is better than complicated.\n",
      "Flat is better than nested.\n",
      "Sparse is better than dense.\n",
      "Readability counts.\n",
      "Special cases aren't special enough to break the rules.\n",
      "Although practicality beats purity.\n",
      "Errors should never pass silently.\n",
      "Unless explicitly silenced.\n",
      "In the face of ambiguity, refuse the temptation to guess.\n",
      "There should be one-- and preferably only one --obvious way to do it.\n",
      "Although that way may not be obvious at first unless you're Dutch.\n",
      "Now is better than never.\n",
      "Although never is often better than *right* now.\n",
      "If the implementation is hard to explain, it's a bad idea.\n",
      "If the implementation is easy to explain, it may be a good idea.\n",
      "Namespaces are one honking great idea -- let's do more of those!\n"
     ]
    }
   ],
   "source": [
    "import this"
   ]
  },
  {
   "cell_type": "markdown",
   "metadata": {},
   "source": [
    ">**There should be one-- and preferably only one --obvious way to do it.**"
   ]
  },
  {
   "cell_type": "markdown",
   "metadata": {},
   "source": [
    "---\n",
    "\n",
    "#### Atributos Públicos, Protegidos y Privados\n",
    "\n",
    "Como se puede evidenciar en el ejercicio anterior, no se puede evitar directamente acceder y modificar atributos, aún cuando se definen funciones setter y getter. \n",
    "\n",
    "En algunos lenguajes de programación es posible agregar grados de restricción a los datos por medio de atributos privados y protegidos. \n",
    "\n",
    "- Los atributos **privados** por convención solo deben ser accedidos por los objetos de la misma clase.\n",
    "\n",
    "\n",
    "- Los atributos **protegidos** pueden ser accedidos por otros objetos de la clase y del módulo, pero no de otros objetos fuera de estos.\n",
    "\n",
    "\n",
    "- Finalmente, cualquier atributo que pueden ser accedidos por cualquier segmento de código (por lo tanto \"no encapsulado\") son llamados **públicos**.\n",
    "\n",
    "<br>\n",
    "<div align='center'>\n",
    "    <strong>En Python NO EXISTE KEYWORD PARA LIMITAR EL ACCESO A LOS ATRIBUTOS. <strong/>\n",
    "</div>\n",
    "<br>\n",
    "    \n",
    "Existe la convención de que un atributo es privado o protegido al anteponer un `_` antes del nombre del atributo. Ejemplo: \n",
    "\n",
    "```python\n",
    "class MaquinaDeCafe:\n",
    "    \"\"\"Clase MaquinaDeCafe con getter y setter.\"\"\"\n",
    "\n",
    "    tipos_cafe_admitidos = [\"expreso\", \"capuchino\", \"cortado\", \"doble\"]\n",
    "\n",
    "    def __init__(self):\n",
    "        self._pedido = None\n",
    "\n",
    "    # getter\n",
    "    def get_pedido(self):\n",
    "        return self._pedido\n",
    "\n",
    "    # setter\n",
    "    def set_pedido(self, nuevo_pedido):\n",
    "        if nuevo_pedido not in self.tipos_cafe_admitidos:\n",
    "            self._pedido = nuevo_pedido\n",
    "        else:\n",
    "            print(\n",
    "                '❌ Error ❌: el tipo_cafe debe ser uno de: \"expreso\" '\n",
    "                f'\"capuchino\", \"cortado\" o \"doble\". Entregado: {nuevo_pedido}'\n",
    "            )\n",
    "\n",
    "    def trabajar(self):\n",
    "        if self._pedido is not None:\n",
    "            print(f\"☕☕ Preparando un café {self._pedido} ☕☕\")\n",
    "\n",
    "        else:\n",
    "            print(\"No tengo pedidos pendientes... 😴😴😴\")\n",
    "```\n",
    "\n",
    "Si bien en varios lugares recomiendan la convención de usar `__atributo` (lo cual es llamado [mangled names](https://en.wikipedia.org/wiki/Name_mangling#Python)) para ocultar un atributo, esto **NO LO HACE PRIVADO**. Solo cambia su nombre para evitar conflictos con subclases, lo cual veremos más adelante."
   ]
  },
  {
   "cell_type": "markdown",
   "metadata": {},
   "source": [
    "> **Ejemplo 📖**\n",
    "\n",
    "Podemos mostrar que aún podemos acceder a un atributo aunque lo declaremos con `__` a través de la siguiente clase:"
   ]
  },
  {
   "cell_type": "code",
   "execution_count": 46,
   "metadata": {
    "ExecuteTime": {
     "end_time": "2021-03-29T19:44:04.936225Z",
     "start_time": "2021-03-29T19:44:04.920225Z"
    }
   },
   "outputs": [],
   "source": [
    "class Cafetera:\n",
    "    \"\"\"Clase Cafetera que prepara ricos cafecitos.\"\"\"\n",
    "\n",
    "    tipos_cafe_admitidos = [\"expreso\", \"capuchino\", \"cortado\", \"doble\"]\n",
    "\n",
    "    def __init__(self):\n",
    "        self._pedido = None\n",
    "\n",
    "    # getter\n",
    "    def get_pedido(self):\n",
    "        return self._pedido\n",
    "\n",
    "    # setter\n",
    "    def set_pedido(self, nuevo_pedido):\n",
    "        \n",
    "        if nuevo_pedido in self.tipos_cafe_admitidos:\n",
    "            self._pedido = nuevo_pedido\n",
    "            \n",
    "        else:\n",
    "            print(\n",
    "                '❌ Error ❌: el tipo_cafe debe ser uno de: \"expreso\" '\n",
    "                f'\"capuchino\", \"cortado\" o \"doble\". Entregado: {nuevo_pedido}'\n",
    "            )\n",
    "\n",
    "    def trabajar(self):\n",
    "        if self._pedido is not None:\n",
    "            print(f\"☕☕ Preparando un café {self._pedido} ☕☕\")\n",
    "\n",
    "        else:\n",
    "            print(\"No tengo pedidos pendientes... 😴😴😴\")\n",
    "\n"
   ]
  },
  {
   "cell_type": "markdown",
   "metadata": {},
   "source": [
    "Luego, instanciamos una cafetera:"
   ]
  },
  {
   "cell_type": "code",
   "execution_count": 47,
   "metadata": {
    "ExecuteTime": {
     "end_time": "2021-03-29T19:44:05.945224Z",
     "start_time": "2021-03-29T19:44:05.930240Z"
    }
   },
   "outputs": [],
   "source": [
    "cafetera_1 = Cafetera()\n",
    "cafetera_1.set_pedido('doble')"
   ]
  },
  {
   "cell_type": "markdown",
   "metadata": {},
   "source": [
    "Noten que aún podemos acceder a este atributo:"
   ]
  },
  {
   "cell_type": "code",
   "execution_count": 48,
   "metadata": {
    "ExecuteTime": {
     "end_time": "2021-03-29T19:44:35.569690Z",
     "start_time": "2021-03-29T19:44:35.553653Z"
    }
   },
   "outputs": [
    {
     "data": {
      "text/plain": [
       "'doble'"
      ]
     },
     "execution_count": 48,
     "metadata": {},
     "output_type": "execute_result"
    }
   ],
   "source": [
    "cafetera_1._pedido"
   ]
  },
  {
   "cell_type": "markdown",
   "metadata": {},
   "source": [
    "Y incluso cambiarlo por algo inválido!!!"
   ]
  },
  {
   "cell_type": "code",
   "execution_count": 51,
   "metadata": {},
   "outputs": [],
   "source": [
    "cafetera_1._pedido = 'con pan con queso'"
   ]
  },
  {
   "cell_type": "code",
   "execution_count": 52,
   "metadata": {},
   "outputs": [
    {
     "name": "stdout",
     "output_type": "stream",
     "text": [
      "☕☕ Preparando un café con pan con queso ☕☕\n"
     ]
    }
   ],
   "source": [
    "cafetera_1.trabajar()"
   ]
  },
  {
   "cell_type": "markdown",
   "metadata": {},
   "source": [
    "---\n",
    "\n",
    "### Propiedades\n",
    "\n",
    "Abusar de métodos *getter-setter*, puede llevar a complejizar demasiado el código (recordar que el código se lee más de lo que se escribe) y además viola el principio de una sola forma de hacer las cosas. \n",
    "La solución que propone python al problema de encapsulación es rediseñar la clase por medio de **propiedades**. \n"
   ]
  },
  {
   "cell_type": "markdown",
   "metadata": {},
   "source": [
    "\n",
    "Una propiedad es un tipo de atributo decorado, que permite controlar los métodos *setter* y *getter* sin sobrecargar la notación, manteniendo las cosas simples. Si sintaxis sigue el patrón:\n",
    "\n",
    "```python\n",
    "class ExClass:\n",
    "    \n",
    "    # se define el atributo como publico.\n",
    "    def __init__(self,property_atr, **kwargs)\n",
    "        self._property_atr\n",
    "    \n",
    "    # Función getter decorada que \"protege\" el atributo\n",
    "    @property\n",
    "    def property_atr(self):\n",
    "        return self._property_atr\n",
    "    \n",
    "    # Setter decorado usando el atributo como función\n",
    "    @property_atr.setter\n",
    "    def property_atr(self,*args,**kwargs):\n",
    "        # Se asigna como privado\n",
    "        self._property_atr = do_more_stuff(*args,**kwargs)\n",
    "```\n",
    "\n",
    "Hay que destacar que inicialmente el atributo a considerar como propiedad se inicializa como un atributo público en ```__init__```, luego se utiliza el *método propiedad* asociado al atributo para tener control sobre el *setter** asociado.\n",
    "\n",
    "> **Ejemplo 📖**\n",
    "\n",
    "Se modifica la clase ```Cafetera``` para restringir *pedido* sin sobrecargar con *setter* y *getters*."
   ]
  },
  {
   "cell_type": "code",
   "execution_count": 60,
   "metadata": {
    "ExecuteTime": {
     "end_time": "2021-03-29T19:50:09.936724Z",
     "start_time": "2021-03-29T19:50:09.898725Z"
    }
   },
   "outputs": [],
   "source": [
    "class Cafetera:\n",
    "    \"\"\"Clase Cafetera que prepara ricos cafecitos.\"\"\"\n",
    "\n",
    "    tipos_cafe_admitidos = [\"expreso\", \"capuchino\", \"cortado\", \"doble\"]\n",
    "\n",
    "    def __init__(self):\n",
    "        self._pedido = None\n",
    "    \n",
    "    @property\n",
    "    def pedido(self):\n",
    "        return self._pedido\n",
    "        \n",
    "\n",
    "    @pedido.setter\n",
    "    def pedido(self, nuevo_pedido):\n",
    "        \n",
    "        if nuevo_pedido in self.tipos_cafe_admitidos:\n",
    "            self._pedido = nuevo_pedido\n",
    "            \n",
    "        else:\n",
    "            raise Exception(\n",
    "                'Error ❌: el tipo_cafe debe ser uno de: \"expreso\" '\n",
    "                f'\"capuchino\", \"cortado\" o \"doble\". Entregado: {nuevo_pedido}'\n",
    "            )\n",
    "\n",
    "    def trabajar(self):\n",
    "        if self._pedido is not None:\n",
    "            print(f\"☕☕ Preparando un café {self._pedido} ☕☕\")\n",
    "\n",
    "        else:\n",
    "            print(\"No tengo pedidos pendientes... 😴😴😴\")"
   ]
  },
  {
   "cell_type": "markdown",
   "metadata": {},
   "source": [
    "En el siguiente ejemplo se aprecia como el *setter* es llamado cuando se ejecuta una asignación directa sobre el atributo (lo cual genera solo una manera de definir tal asignación sobre atributo) a la vez que no se pierde la lógica de la asignación."
   ]
  },
  {
   "cell_type": "code",
   "execution_count": 61,
   "metadata": {
    "ExecuteTime": {
     "start_time": "2021-03-29T19:50:11.133Z"
    }
   },
   "outputs": [
    {
     "data": {
      "text/plain": [
       "'capuchino'"
      ]
     },
     "execution_count": 61,
     "metadata": {},
     "output_type": "execute_result"
    }
   ],
   "source": [
    "cafetera_2 = Cafetera()\n",
    "cafetera_2.pedido = 'capuchino'\n",
    "\n",
    "cafetera_2.pedido"
   ]
  },
  {
   "cell_type": "code",
   "execution_count": 62,
   "metadata": {},
   "outputs": [
    {
     "name": "stdout",
     "output_type": "stream",
     "text": [
      "☕☕ Preparando un café capuchino ☕☕\n"
     ]
    }
   ],
   "source": [
    "cafetera_2.trabajar()"
   ]
  },
  {
   "cell_type": "code",
   "execution_count": 63,
   "metadata": {
    "ExecuteTime": {
     "end_time": "2021-03-29T19:49:07.354908Z",
     "start_time": "2021-03-29T19:49:07.337910Z"
    }
   },
   "outputs": [
    {
     "ename": "Exception",
     "evalue": "Error ❌: el tipo_cafe debe ser uno de: \"expreso\" \"capuchino\", \"cortado\" o \"doble\". Entregado: pan con queso",
     "output_type": "error",
     "traceback": [
      "\u001b[0;31m---------------------------------------------------------------------------\u001b[0m",
      "\u001b[0;31mException\u001b[0m                                 Traceback (most recent call last)",
      "\u001b[0;32m<ipython-input-63-1e5d78123943>\u001b[0m in \u001b[0;36m<module>\u001b[0;34m\u001b[0m\n\u001b[0;32m----> 1\u001b[0;31m \u001b[0mcafetera_2\u001b[0m\u001b[0;34m.\u001b[0m\u001b[0mpedido\u001b[0m \u001b[0;34m=\u001b[0m \u001b[0;34m'pan con queso'\u001b[0m\u001b[0;34m\u001b[0m\u001b[0;34m\u001b[0m\u001b[0m\n\u001b[0m",
      "\u001b[0;32m<ipython-input-60-f825a5643988>\u001b[0m in \u001b[0;36mpedido\u001b[0;34m(self, nuevo_pedido)\u001b[0m\n\u001b[1;32m     19\u001b[0m \u001b[0;34m\u001b[0m\u001b[0m\n\u001b[1;32m     20\u001b[0m         \u001b[0;32melse\u001b[0m\u001b[0;34m:\u001b[0m\u001b[0;34m\u001b[0m\u001b[0;34m\u001b[0m\u001b[0m\n\u001b[0;32m---> 21\u001b[0;31m             raise Exception(\n\u001b[0m\u001b[1;32m     22\u001b[0m                 \u001b[0;34m'Error ❌: el tipo_cafe debe ser uno de: \"expreso\" '\u001b[0m\u001b[0;34m\u001b[0m\u001b[0;34m\u001b[0m\u001b[0m\n\u001b[1;32m     23\u001b[0m                 \u001b[0;34mf'\"capuchino\", \"cortado\" o \"doble\". Entregado: {nuevo_pedido}'\u001b[0m\u001b[0;34m\u001b[0m\u001b[0;34m\u001b[0m\u001b[0m\n",
      "\u001b[0;31mException\u001b[0m: Error ❌: el tipo_cafe debe ser uno de: \"expreso\" \"capuchino\", \"cortado\" o \"doble\". Entregado: pan con queso"
     ]
    }
   ],
   "source": [
    "cafetera_2.pedido = 'pan con queso'"
   ]
  },
  {
   "cell_type": "markdown",
   "metadata": {},
   "source": [
    "Definir propiedades es la manera *pythonica* de encapsular atributos **accesibles por el usuario**. "
   ]
  },
  {
   "cell_type": "markdown",
   "metadata": {},
   "source": [
    "---\n",
    "\n",
    "### Herencia \n",
    "\n",
    "La herencia es una herramienta que permite obtener nuevas clases a partir de otras. Al hacer esto, se obtiene una jerarquía de clases, donde las clases de niveles más bajos adquieren atributos y métodos pre establecidos por las clases de jerarquías más altas. \n",
    "\n",
    "El beneficio directo de utilizar herencia, es poder de reciclar y modificar el comportamiento de una clase base. Más aún, una clase derivada puede añadir nuevas propiedades atributos y métodos, extendiendo la funcionalidad inicial. \n",
    "\n",
    "\n",
    "La sintaxis asociada al proceso de herencia se resume a continuación.\n",
    "\n",
    "```python\n",
    "class SubClase(ClaseBase):\n",
    "    hacer_cosas()\n",
    "    ...\n",
    "    \n",
    "```\n",
    "\n",
    "> **Ejemplo 📖**\n",
    "\n",
    "Se define la clase ```Instrumento``` de esta clase base, se deriva la subclase ```Piano```. "
   ]
  },
  {
   "cell_type": "code",
   "execution_count": 64,
   "metadata": {
    "ExecuteTime": {
     "end_time": "2021-03-29T19:56:26.888564Z",
     "start_time": "2021-03-29T19:56:26.880565Z"
    }
   },
   "outputs": [],
   "source": [
    "class Instrumento:\n",
    "    '''Clase ejemplo representando un instrumento abstracto.'''\n",
    "\n",
    "    def __init__(self, name):\n",
    "        self.name = name\n",
    "\n",
    "    def nombre(self):\n",
    "        print('Este instrumento es un ' + self.name)\n",
    "\n",
    "    def tocar(self):\n",
    "        print('🎵🎵🎵')\n",
    "\n",
    "\n",
    "class Piano(Instrumento):\n",
    "    '''Sub clase sencilla, representa un instrumento musical.'''\n",
    "\n",
    "    def __init__(self):\n",
    "        super().__init__(name = 'Sin nombre')\n",
    "    \n",
    "    def solo(self):\n",
    "        print('🎹  🎵🎵🎵  🎹')"
   ]
  },
  {
   "cell_type": "markdown",
   "metadata": {},
   "source": [
    "Aquí podemos observar como la clase `Piano` poseen los métodos `.nombre()` y `.tocar()` aún cuando este no se define de manera explicita.\n"
   ]
  },
  {
   "cell_type": "code",
   "execution_count": 65,
   "metadata": {
    "ExecuteTime": {
     "end_time": "2021-03-29T19:56:16.183484Z",
     "start_time": "2021-03-29T19:56:16.160484Z"
    }
   },
   "outputs": [
    {
     "name": "stdout",
     "output_type": "stream",
     "text": [
      "Este instrumento es un Flauta\n"
     ]
    }
   ],
   "source": [
    "ins = Instrumento('Flauta')\n",
    "ins.nombre()"
   ]
  },
  {
   "cell_type": "code",
   "execution_count": 66,
   "metadata": {},
   "outputs": [
    {
     "name": "stdout",
     "output_type": "stream",
     "text": [
      "Este instrumento es un Sin nombre\n"
     ]
    }
   ],
   "source": [
    "piano = Piano()\n",
    "piano.nombre()"
   ]
  },
  {
   "cell_type": "code",
   "execution_count": 67,
   "metadata": {
    "scrolled": true
   },
   "outputs": [
    {
     "name": "stdout",
     "output_type": "stream",
     "text": [
      "🎵🎵🎵\n"
     ]
    }
   ],
   "source": [
    "ins.tocar()"
   ]
  },
  {
   "cell_type": "code",
   "execution_count": 68,
   "metadata": {},
   "outputs": [
    {
     "name": "stdout",
     "output_type": "stream",
     "text": [
      "🎵🎵🎵\n"
     ]
    }
   ],
   "source": [
    "piano.tocar()"
   ]
  },
  {
   "cell_type": "markdown",
   "metadata": {},
   "source": [
    "La verdadera funcionalidad de la herencia es implementar nuevos funcionamientos y atributos adicionales a la clase que se está extendiendo. En las siguientes celdas podemos apreciar esto:"
   ]
  },
  {
   "cell_type": "code",
   "execution_count": 69,
   "metadata": {
    "ExecuteTime": {
     "end_time": "2021-03-29T19:54:02.443252Z",
     "start_time": "2021-03-29T19:54:01.670356Z"
    }
   },
   "outputs": [
    {
     "ename": "AttributeError",
     "evalue": "'Instrumento' object has no attribute 'solo'",
     "output_type": "error",
     "traceback": [
      "\u001b[0;31m---------------------------------------------------------------------------\u001b[0m",
      "\u001b[0;31mAttributeError\u001b[0m                            Traceback (most recent call last)",
      "\u001b[0;32m<ipython-input-69-38aeee908aa4>\u001b[0m in \u001b[0;36m<module>\u001b[0;34m\u001b[0m\n\u001b[0;32m----> 1\u001b[0;31m \u001b[0mins\u001b[0m\u001b[0;34m.\u001b[0m\u001b[0msolo\u001b[0m\u001b[0;34m(\u001b[0m\u001b[0;34m)\u001b[0m\u001b[0;34m\u001b[0m\u001b[0;34m\u001b[0m\u001b[0m\n\u001b[0m",
      "\u001b[0;31mAttributeError\u001b[0m: 'Instrumento' object has no attribute 'solo'"
     ]
    }
   ],
   "source": [
    "ins.solo()"
   ]
  },
  {
   "cell_type": "code",
   "execution_count": 70,
   "metadata": {
    "ExecuteTime": {
     "end_time": "2021-03-29T19:54:06.508264Z",
     "start_time": "2021-03-29T19:54:06.493252Z"
    }
   },
   "outputs": [
    {
     "name": "stdout",
     "output_type": "stream",
     "text": [
      "🎹  🎵🎵🎵  🎹\n"
     ]
    }
   ],
   "source": [
    "# El solo está definido solo para el Piano\n",
    "piano.solo()"
   ]
  },
  {
   "cell_type": "markdown",
   "metadata": {},
   "source": [
    "> **Ejercicios ✏️**\n",
    "\n",
    "A lo largo de este curso se ha hecho uso de la función ```type()```, útil para saber el tipo de dato de un objeto en particular. Sin embargo, La documentación de PEP 8, dice explicitamente \"Object type comparisons should always use ```isinstance()``` instead of comparing types directly\". Es decir, la buena práctica es utilizar ```isinstance()``` en lugar de ```type()```, la razón que soporta esta recomendación se explica por medio de la herencia de clases.\n",
    "\n",
    "1. Defina una clase base (```ClaseBase```) y una subclase (o clase derivada ```ClaseDerivada```). Suponiendo  ```obj_base``` es un objeto de la clase base y ```obj_derivado``` un objeto de la clase derivada compare los siguientes outputs: \n",
    "```python\n",
    "isinstance(obj_base, ClaseBase)\n",
    "isinstance(obj_derivado, ClaseBase)\n",
    "isinstance(obj_base, ClaseDerivada)\n",
    "isinstance(obj_derivado, ClaseDerivada)\n",
    "```\n",
    "Finalmente observe el comportamiento de:\n",
    "```python\n",
    "type(obj_derivado) == ClaseBase\n",
    "type(obj_base) == ClaseDerivada\n",
    "```\n",
    "Deduzca por qué en PEP 8 se recomienda utilizar ```isinstance()``` en reemplazo de ```type()```.\n",
    "\n",
    "\n",
    "*Hint*: Es razonable considerar que los números enteros negativos, como sub-clase de los enteros, sigan siendo considerados como miembros de la clase \"enteros\" por un type-checker. "
   ]
  },
  {
   "cell_type": "markdown",
   "metadata": {},
   "source": [
    "---\n",
    "\n",
    "### Polimorfismo\n",
    "\n",
    "El polimorfismo se refiere al principio por el que es posible enviar mensajes sintácticamente iguales a objetos de clases distintas. \n",
    "El único requisito que deben cumplir los objetos que se utilizan de manera polimórfica es saber responder al mensaje que se les envía. \n",
    "\n",
    "Esto es ampliamente utilizado en herencia, como pudimos ver en el ejemplo anterior. \n",
    "Anulación de métodos también es un buen ejemplo de esto.\n",
    "\n",
    "\n",
    "#### Anulación de métodos\n",
    "\n",
    "La anulación de métodos en herencia, consiste en modificar o redefinir los métodos de una clase base a una clase derivada. El nombre de esta operación proviene *method overriding*. \n",
    "\n",
    "> **Ejemplo 📖** \n",
    "\n",
    "Se define la clase ```Ciudadano```. Como clase derivada se define ```Medico```."
   ]
  },
  {
   "cell_type": "code",
   "execution_count": 71,
   "metadata": {
    "ExecuteTime": {
     "end_time": "2021-03-29T19:59:54.370825Z",
     "start_time": "2021-03-29T19:59:54.354826Z"
    }
   },
   "outputs": [],
   "source": [
    "class Ciudadano:\n",
    "    '''Clase Ejemplo method overriding.'''\n",
    "\n",
    "    def __init__(self, name):\n",
    "        self.name = name\n",
    "\n",
    "    def saludo(self):\n",
    "        print('Hola me llamo ' + self.name)\n",
    "\n",
    "\n",
    "class Medico(Ciudadano):\n",
    "    '''Clase derivada que ignora el metodo saludo.'''\n",
    "\n",
    "    def saludo(self):\n",
    "        print('Bienvenido a mi consulta')\n",
    "        print('Soy el doctor ' + self.name)"
   ]
  },
  {
   "cell_type": "markdown",
   "metadata": {},
   "source": [
    "Al ejecutar, comprobamos que el método ```.saludo()``` es ignorado por la subclase Medico."
   ]
  },
  {
   "cell_type": "code",
   "execution_count": 74,
   "metadata": {},
   "outputs": [
    {
     "name": "stdout",
     "output_type": "stream",
     "text": [
      "Hola me llamo Juanito\n"
     ]
    }
   ],
   "source": [
    "ciudadano = Ciudadano('Juanito')\n",
    "ciudadano.saludo()"
   ]
  },
  {
   "cell_type": "code",
   "execution_count": 72,
   "metadata": {
    "ExecuteTime": {
     "end_time": "2021-03-29T19:59:59.545867Z",
     "start_time": "2021-03-29T19:59:59.533868Z"
    }
   },
   "outputs": [
    {
     "name": "stdout",
     "output_type": "stream",
     "text": [
      "Bienvenido a mi consulta\n",
      "Soy el doctor House\n"
     ]
    }
   ],
   "source": [
    "doc = Medico('House')\n",
    "doc.saludo()"
   ]
  },
  {
   "cell_type": "markdown",
   "metadata": {},
   "source": [
    "---\n",
    "\n",
    "### Sobrecarga de Operadores y Métodos Mágicos\n",
    "\n",
    "Los métodos mágicos, corresponden a funciones especiales con nombres fijos, por lo general denotados por doble guión bajo. Hasta el momento se ha estudiado el método ```__init__()``` que sobrecarga la inicialización de clases."
   ]
  },
  {
   "cell_type": "code",
   "execution_count": null,
   "metadata": {},
   "outputs": [],
   "source": [
    "class ClaseBasica:\n",
    "    pass\n",
    "\n",
    "\n",
    "siguiente_objeto = ClaseBasica() # invocar ClaseBasica() en verdad ejecuta el método definido en init."
   ]
  },
  {
   "cell_type": "code",
   "execution_count": null,
   "metadata": {},
   "outputs": [],
   "source": [
    "class ClaseInitSobrecargado:\n",
    "    def __init__(self):\n",
    "        print('Me estoy instanciado...')\n",
    "        \n",
    "        \n",
    "ClaseInitSobrecargado()"
   ]
  },
  {
   "cell_type": "markdown",
   "metadata": {},
   "source": [
    "Se aprecia que no es necesario especificar un método ```__init__()``` para que la clase tenga un constructor predeterminado. Por otra parte, el concepto de **sobrecarga de operadores**, este se aprecia en las siguientes operaciones ya utilizadas:"
   ]
  },
  {
   "cell_type": "code",
   "execution_count": null,
   "metadata": {},
   "outputs": [],
   "source": [
    "print(9 + 9)\n",
    "print([1, 2] + [3, 4, 5])\n",
    "print('nueve ' + 'nueve')"
   ]
  },
  {
   "cell_type": "markdown",
   "metadata": {},
   "source": [
    "El operador sobrecargado es ```+``` pues está habilitado para trabajar de manera *polimorfica*, es decir, en distintas clases o tipos de datos. Los métodos mágicos juegan un papel fundamental en la sobrecarga de operadores. \n",
    "\n",
    "> **Ejemplo 📖**\n",
    "\n",
    "El método mágico asociado al operador ```+``` es ```__add__()```. Por tanto, cada objeto sobre el cual se puede operar con ```+``` tiene su propia implementación de ```__add__()```, en el siguiente código se sobrecarga el operador para que actúe sobre objetos de la clase ```NumeroExtraño```. "
   ]
  },
  {
   "cell_type": "code",
   "execution_count": 75,
   "metadata": {
    "ExecuteTime": {
     "end_time": "2021-03-29T20:01:28.094253Z",
     "start_time": "2021-03-29T20:01:28.085248Z"
    }
   },
   "outputs": [
    {
     "data": {
      "text/plain": [
       "9765625"
      ]
     },
     "execution_count": 75,
     "metadata": {},
     "output_type": "execute_result"
    }
   ],
   "source": [
    "class NumeroExtraño:\n",
    "    '''Clase modificada para sobrecargar el operado +.'''\n",
    "    def __init__(self, n):\n",
    "        self._n = n\n",
    "\n",
    "    def __add__(self, other):\n",
    "        return (self._n + other._n) ** 5\n",
    "\n",
    "\n",
    "num_10 = NumeroExtraño(10)\n",
    "num_15 = NumeroExtraño(15)\n",
    "\n",
    "num_10 + num_15"
   ]
  },
  {
   "cell_type": "code",
   "execution_count": null,
   "metadata": {
    "ExecuteTime": {
     "end_time": "2021-03-29T20:01:44.697326Z",
     "start_time": "2021-03-29T20:01:44.692327Z"
    }
   },
   "outputs": [],
   "source": [
    "dir(ClaseConOverride)"
   ]
  },
  {
   "cell_type": "markdown",
   "metadata": {},
   "source": [
    "---\n",
    "\n",
    "> **Ejercicios ✏️**\n",
    "\n",
    "1. Nombre los métodos mágicos asociados a los operadores ```-```, ```*```, ```//```, ```/```, ```%```, ```+=```,```*=```, ```<```, ```==``` y ```>=```.\n",
    "\n",
    "2. Defina la clase ```Temp```. Esta clase modela unidades de medida de temperatura (°C,°F y K) y permite sumarlas obteniendo el resultado en kelvins. Para esto, implemente:\n",
    "    1. Un atributo protegido ```_temp_conv```, consistente en un diccionario con los valores de conversión (ej. ```{'C': 274.15}```).\n",
    "    2. Un constructor que inicializa los atributos ```.val``` (float) y ```.unit``` (str). A estos atributos se les debe asociar una propiedad y setter correspondiente, donde se comprueba que los valores ```val``` sean superiores a 0 K y que las unidades ```.unit``` solo puedan ser 'C','F' o 'K'. \n",
    "    3. Un método ```.to_kelvin()``` que utiliza los atributos ```__temp_conv```, ```unit``` y ```val``` y retorna el valor correspondiente en kelvin.\n",
    "    4. Una sobrecarga al operador suma, de manera tal, que se puedan sumar objetos ```Temp``` con unidades de medición arbitrarias y se retorne un objeto ```Temp``` con el resultado en kelvins.\n",
    "    5. Una sobrecarga al operador ```__str__``` (método que conversión a tipo de dato string) que retorne el resultado del método ```.to_kelvin()``` concatenado con ' K'.\n",
    "    6. Una sobrecarga al operador ```__repr__``` (método de representación de objetos) que retorne un string de la forma ```'Temp('+ str(self.val) + ',' + self.unit + ')'```.\n",
    "    7. Defina objetos t1 y t2 de la clase ```Temp``` luego defina un objeto t3 como la suma de t1 y t2. Ejecute ```print(t3)```, ```str(t3)``` y luego ejecute ```t3```, relacione los *outputs* con el funcionamiento de ```__str__``` y ```__repr__```."
   ]
  },
  {
   "cell_type": "markdown",
   "metadata": {},
   "source": [
    "---\n",
    "\n",
    "### Herencia Múltiple\n",
    "\n",
    "Se pueden pensar las relaciones de herencia entre clases como un grafo dirigido, donde los vértices son las clases involucradas y las aristas representan las relaciones de jerarquía `clase derivada --> clase base`. \n",
    "\n",
    "Hasta ahora, este grafo posee la estructura de un bosque, donde cada árbol tiene como raíz una clase base, con la cual se conectan las clases derivadas, que a la vez pueden ser clases bases de nuevas clases derivadas. Sin embargo, esta estructura es bastante rígida y no permite que una clase derivada tenga más que una clase base. Justamente, esta última idea se conoce como **herencia múltiple** y permite flexibilizar la estructura de relaciones `clase base - clase derivada`.\n",
    "\n",
    "\n",
    "![Herencia Múltiple](./resources/herencia_multiple.png)\n",
    "<center>Ejemplo Herencia Múltiple</center>\n",
    "\n",
    "\n",
    "En Python, este tipo de herencia se obtiene por medio de la sintaxis:\n",
    "\n",
    "```python\n",
    "class ClaseDerivada(ClaseBase1, ClaseBase2, ClaseBase3, ...)\n",
    "\n",
    "    do_stuff()\n",
    "    pass #opcional\n",
    "```\n"
   ]
  },
  {
   "cell_type": "markdown",
   "metadata": {},
   "source": [
    "\n",
    "> **Ejemplo 📖**\n",
    "\n",
    "Es conveniente pensar la herencia múltiple como una composición de clases, cada una de las cuales representa una parte de un todo. Estudiemos el siguiente ejemplo. \n",
    "\n",
    "La antigua serie de televisión *power rangers* basaba sus tramas en peleas épicas entre grandes monstruos y robots. La principal herramienta de los héroes de la serie era el *Mega Zord*, robot colosal formado por la unión de otros 5 robots zoomorfos llamados *Dino Zords*. \n",
    "\n",
    "\n",
    "\n",
    "Para entender las relaciones de herencia y herencia múltiple se creamos clase ```DinoZord```. A parir de aquí existen 2 posibilidades claras:\n",
    "\n",
    "1. Se modela cada Dino Zord como un objeto de la clase ```DinoZord``` en cuyo caso, cada Dino Zord tendría la misma clase base, y una misma estructura de métodos y atributos. Finalmente, un Mega Zord sería una clase que hereda únicamente de la clase base ```DinoZord``` y se instancia entregando 5 objetos tipo ```DinoZord``` compatibles. En este modelo solo habrían relaciones de herencia simple. **Obs**: puede ser un buen ejercicio modelar este esquema de herencia.\n",
    "\n",
    "2. Se modelan cinco clases distintas, cada una siendo clase derivada de ```DinoZord```. Estas clases se denotan como ```Tyrannosaurus```, ```Mastodon```, ```Triceratops```, ```Sabertooth```,```Pterodactyl```. Gracias a este esquema es posible implementar métodos distintos para cada clase derivada, manteniendo un esquema de atributos y métodos base. Finalmente, se crea la Clase ```MegaZord```, la cual hereda de las cinco clases derivadas anteriores. Por lo anterior, ```MegaZord``` sería además una clase tipo ```DinoZord```, por lo que comparte atributos y métodos base con cada una de las 5 clases de las que hereda. Finalmente, ```MegaZord``` tiene sus propios métodos y puede ignorar métodos coumunes de su clase base.\n",
    "\n",
    "\n",
    "![Zords](./resources/zords.jpg)\n",
    "\n",
    "<center>Fuente: https://www.bandai.es/sites/default/files//styles/foto_producto/public/Zords%20Power%20Rangers%20Movie%2013.jpg?itok=x8qpqAFa</center>\n",
    "\n",
    "\n",
    "En este ejemplo implementaremos la segunda opción:"
   ]
  },
  {
   "cell_type": "code",
   "execution_count": null,
   "metadata": {
    "ExecuteTime": {
     "end_time": "2021-03-29T18:13:49.321464Z",
     "start_time": "2021-03-29T18:13:49.303464Z"
    }
   },
   "outputs": [],
   "source": [
    "# Se define la clase base Zord\n",
    "class DinoZord:\n",
    "    '''Clase base ejemplo.\n",
    "    '''\n",
    "    def __init__(self, nombre, color, habilidad, largo, ancho, velocidad):\n",
    "        self.nombre = nombre\n",
    "        self.color = color\n",
    "        self.habilidad = habilidad\n",
    "        self.largo = largo\n",
    "        self.ancho = ancho\n",
    "        self.velocidad = velocidad\n",
    "\n",
    "    # Método de ataque\n",
    "    def attack(self):\n",
    "        print(f'⚔️ {self.nombre.title()} ataca usando {self.habilidad} !! ⚔️')"
   ]
  },
  {
   "cell_type": "markdown",
   "metadata": {},
   "source": [
    "Como se puede apreciar, esta clase posee métodos y atributos. La clase tiene el método ```.attack()``` y cada clase derivada podrá anular ester método.\n",
    "\n",
    "Luego se fabrican 5 clases, cada una derivada ```DinoZord```."
   ]
  },
  {
   "cell_type": "code",
   "execution_count": null,
   "metadata": {
    "ExecuteTime": {
     "end_time": "2021-03-29T18:18:38.697509Z",
     "start_time": "2021-03-29T18:18:38.689509Z"
    }
   },
   "outputs": [],
   "source": [
    "class Tyrannosaurus(DinoZord):\n",
    "    '''Clase derivada - Herencia simple'''\n",
    "\n",
    "    # Se utililiza el método constructor directamente desde la clase base\n",
    "    def __init__(self):\n",
    "        super().__init__(nombre='Tyrannosaurus Dinozord',\n",
    "                         color='red',\n",
    "                         habilidad='fire energy blasts',\n",
    "                         largo=45,\n",
    "                         ancho=96,\n",
    "                         velocidad=120)\n",
    "\n",
    "    # Método protegido de ensamblaje\n",
    "    def _modo(self):\n",
    "        if self.pilot:\n",
    "            print(self.pilot + ' dice: ensamblando torso y cabeza')\n",
    "\n",
    "    def boost_dexterity(self):\n",
    "        print('Zord con destreza mejorada')"
   ]
  },
  {
   "cell_type": "code",
   "execution_count": null,
   "metadata": {
    "ExecuteTime": {
     "end_time": "2021-03-29T18:18:39.516415Z",
     "start_time": "2021-03-29T18:18:39.500374Z"
    }
   },
   "outputs": [],
   "source": [
    "class Mastodon(DinoZord):\n",
    "    '''Clase derivada - Herencia simple'''\n",
    "\n",
    "    def __init__(self):\n",
    "        super().__init__(nombre='Mastodon Dinozord',\n",
    "                         color='black',\n",
    "                         habilidad='frigid blasts of cold air',\n",
    "                         largo=24.7,\n",
    "                         ancho=108,\n",
    "                         velocidad=120)\n",
    "\n",
    "    # Método protegido de ensamblaje\n",
    "    def _modo(self):\n",
    "        if self.pilot:\n",
    "            print(self.pilot + ' dice: ensamblando espalda y brazos')\n",
    "\n",
    "    def boost_strength(self):\n",
    "        print('Zord con fuerza mejorada')"
   ]
  },
  {
   "cell_type": "code",
   "execution_count": null,
   "metadata": {
    "ExecuteTime": {
     "end_time": "2021-03-29T18:18:40.164447Z",
     "start_time": "2021-03-29T18:18:40.146446Z"
    }
   },
   "outputs": [],
   "source": [
    "class Triceratops(DinoZord):\n",
    "    '''Clase derivada - Herencia simple'''\n",
    "\n",
    "    def __init__(self):\n",
    "        super().__init__(nombre='Triceratops Dinozord',\n",
    "                         color='blue',\n",
    "                         habilidad='laser shots',\n",
    "                         largo=37.3,\n",
    "                         ancho=141,\n",
    "                         velocidad=140)\n",
    "\n",
    "    # Método protegido de ensamblaje\n",
    "    def _modo(self):\n",
    "        if self.pilot:\n",
    "            print(self.pilot + ' dice: ensamblando pierna izquierda')\n",
    "\n",
    "    def boost_endurance(self):\n",
    "        print('Zord con resistencia mejorada')"
   ]
  },
  {
   "cell_type": "code",
   "execution_count": null,
   "metadata": {
    "ExecuteTime": {
     "end_time": "2021-03-29T18:18:41.503461Z",
     "start_time": "2021-03-29T18:18:41.498447Z"
    }
   },
   "outputs": [],
   "source": [
    "class Sabertooth(DinoZord):\n",
    "    '''Clase derivada - Herencia simple'''\n",
    "\n",
    "    def __init__(self):\n",
    "        super().__init__(nombre='Sabertooth Tiger Dinozord',\n",
    "                         color='yellow',\n",
    "                         habilidad='large yellow laser',\n",
    "                         largo=37.3,\n",
    "                         ancho=141,\n",
    "                         velocidad=140)\n",
    "\n",
    "    # Método protegido de ensamblaje\n",
    "    def _modo(self):\n",
    "        if self.pilot:\n",
    "            print(self.pilot + ' dice: ensamblando pierna derecha')\n",
    "\n",
    "    def boost_agility(self):\n",
    "        print('Zord con agilidad mejorada')"
   ]
  },
  {
   "cell_type": "code",
   "execution_count": null,
   "metadata": {
    "ExecuteTime": {
     "end_time": "2021-03-29T18:18:42.443472Z",
     "start_time": "2021-03-29T18:18:42.435443Z"
    },
    "code_folding": []
   },
   "outputs": [],
   "source": [
    "class Pterodactyl(DinoZord):\n",
    "    '''Clase derivada - Herencia simple'''\n",
    "\n",
    "    def __init__(self):\n",
    "        super().__init__(nombre='Pterodactyl Dinozord',\n",
    "                         color='pink',\n",
    "                         habilidad='twin lasers',\n",
    "                         largo=21,\n",
    "                         ancho=84,\n",
    "                         velocidad='match 2.5')\n",
    "\n",
    "    # Método protegido de ensamblaje\n",
    "    def _modo(self):\n",
    "        if self.pilot:\n",
    "            print(self.pilot + ' dice: ensamblando pecho')\n",
    "\n",
    "    def boost_defense(self):\n",
    "        print('Zord con defensa mejorada')"
   ]
  },
  {
   "cell_type": "markdown",
   "metadata": {},
   "source": [
    "En este caso, cada clase derivada tiene una estructura común dada por los diccionarios privados ```__construction_dict``` y ```__attribute_dict```. Más aún, se reutiliza el método constructor de la clase base \n",
    "```DinoZord```, para asignar sus atributos base a todo objeto instanciado (representado por ```self```). Más aún, cada clase derivada tiene un método protegido en común ```._modo()``` y un método propio único de cada subclase (ej. ```.boost_defense()```). \n",
    "\n",
    "Finalmente se crea un clase con herencia múltiple ```MegaZord```."
   ]
  },
  {
   "cell_type": "code",
   "execution_count": null,
   "metadata": {
    "ExecuteTime": {
     "end_time": "2021-03-29T18:23:52.115846Z",
     "start_time": "2021-03-29T18:23:52.099876Z"
    }
   },
   "outputs": [],
   "source": [
    "class MegaZord(Tyrannosaurus, Mastodon, Triceratops, Sabertooth, Pterodactyl):\n",
    "    '''Clase derivada - Ejemplo herencia multiple'''\n",
    "\n",
    "    # Constructor\n",
    "\n",
    "    def __init__(self, tyrannosaurus, mastodon, triceratops, sabertooth,\n",
    "                 pterodactyl):\n",
    "\n",
    "        # Secuencia de ensamblaje\n",
    "        tyrannosaurus._modo()\n",
    "        mastodon._modo()\n",
    "        triceratops._modo()\n",
    "        sabertooth._modo()\n",
    "        pterodactyl._modo()\n",
    "        '''\n",
    "        Constructor de caracteristicas base usando la clase base DinoZord, \n",
    "        observe que no se declaro explicitamente como clase base al definir\n",
    "        MegaZord, sin embargo sus atributos se heredan.\n",
    "        \n",
    "        '''\n",
    "\n",
    "        DinoZord.__init__(self, nombre='Mega Zord',\n",
    "                          color='Multicolor',\n",
    "                          habilidad='Power Sword',\n",
    "                          largo=67,\n",
    "                          ancho=570,\n",
    "                          velocidad=140)\n",
    "\n",
    "        # variables de la clase\n",
    "        self._components = (tyrannosaurus, mastodon, triceratops, sabertooth,\n",
    "                            pterodactyl)\n",
    "        self._mode = 'tank_mode'\n",
    "\n",
    "        # asignación de piloto\n",
    "        self.pilot = [zord.pilot for zord in self._components]\n",
    "\n",
    "        # Fin secuencia de construcción\n",
    "        print()\n",
    "        print(f'⚔️ Megazord activado en {self._mode}! ⚔️')\n",
    "\n",
    "    ''' Metodos: overriding y metodos nuevos.'''\n",
    "\n",
    "    # method overriding\n",
    "    def _modo(self):\n",
    "        return self._mode\n",
    "\n",
    "    # Nueva funcionalidad: wrapper de métodos heredados por herencia multiple\n",
    "    def boost(self):\n",
    "        self.boost_dexterity()\n",
    "        self.boost_defense()\n",
    "        self.boost_agility()\n",
    "        self.boost_endurance()\n",
    "        self.boost_strength()\n",
    "\n",
    "    # Nueva funcionalidad: cambio de modo\n",
    "    def change_mode(self):\n",
    "        if self._mode == 'battle_mode':\n",
    "            print('Cambiando a Tank Mode')\n",
    "            self._mode = 'tank_mode'\n",
    "\n",
    "        else:\n",
    "            print('Cambiando a Battle Mode')\n",
    "            self._mode = 'battle_mode'"
   ]
  },
  {
   "cell_type": "markdown",
   "metadata": {},
   "source": [
    "En esta clase, al heredar sus atributos de clases tipo ```DinoZord``` tiene la misma estructura base que cada una de su clases base. Esto se ve en su método ```.__init__()``` donde nuevamente se hace uso del constructor ```DinoZord.__init__()``` sobre los diccionarios privados ```__construction_dict``` y ```__attribute_dict```. Así mismo, la clase ```MegaZord``` posee la variables privadas extra ```__components``` y ```__mode```. Donde para esa última, existe un método especial setter denominado ```.change_mode()```. En la clase ```MegaZord``` se ignora el método ```_modo()``` (*overriding*) transformándolo en un *getter* para la ```__mode```. Por último, la clase ```MegaZord```tiene el método ```.boost()``` que ejecuta todos lo métodos propios de cada clase base. \n",
    "\n",
    "Se crean 5 objetos del tipo ```Tyrannosaurus```, ```Mastodon```, ```Triceratops```, ```Sabertooth``` y ```Pterodactyl```, para cada uno, se define la propiedad piloto. Finalmente se crea un objeto tipo ```MegaZord``` utilizando los 5 objetos ```DynoZord```."
   ]
  },
  {
   "cell_type": "code",
   "execution_count": null,
   "metadata": {
    "ExecuteTime": {
     "end_time": "2021-03-29T18:23:29.815150Z",
     "start_time": "2021-03-29T18:23:29.800153Z"
    },
    "scrolled": true
   },
   "outputs": [],
   "source": [
    "tyrannosaurus = Tyrannosaurus()\n",
    "tyrannosaurus.pilot = 'Jason Lee Scott'\n",
    "\n",
    "mastodon = Mastodon()\n",
    "mastodon.pilot = 'Zack Taylor'\n",
    "\n",
    "triceratops = Triceratops()\n",
    "triceratops.pilot = 'Billy Cranston'\n",
    "\n",
    "sabertooth = Sabertooth()\n",
    "sabertooth.pilot = 'Trini Kwan'\n",
    "\n",
    "pterodactyl = Pterodactyl()\n",
    "pterodactyl.pilot = 'Kimberly Hart'\n",
    "\n",
    "mega_zord = MegaZord(tyrannosaurus, mastodon,\n",
    "                     triceratops, sabertooth, pterodactyl)"
   ]
  },
  {
   "cell_type": "markdown",
   "metadata": {},
   "source": [
    "Se hacen pruebas sobre los métodos y atributos del objeto ```mega_zord```."
   ]
  },
  {
   "cell_type": "code",
   "execution_count": null,
   "metadata": {
    "ExecuteTime": {
     "end_time": "2021-03-29T18:24:11.533297Z",
     "start_time": "2021-03-29T18:24:11.525266Z"
    }
   },
   "outputs": [],
   "source": [
    "# Asignación de piloto: propiedad compuesta\n",
    "print('Pilotos: ', mega_zord.pilot, '\\n')\n",
    "\n",
    "\n",
    "# method overriding\n",
    "print('Modo:')\n",
    "print(mega_zord._modo(), '\\n')\n",
    "\n",
    "# Metodos propios\n",
    "print('Metodo propio boost:')\n",
    "mega_zord.boost()\n",
    "print('\\nMetodo propio change mode:')\n",
    "mega_zord.change_mode()\n",
    "\n",
    "# Metodos de heredados:\n",
    "# DinoZord\n",
    "print('\\nAtaque: ')\n",
    "mega_zord.attack()\n",
    "\n",
    "# Tyrannosaurus, Mastodon, Triceratops, Sabertooth y Pterodactyl\n",
    "print('\\nMetodos heredados:')\n",
    "mega_zord.boost_dexterity()\n",
    "mega_zord.boost_defense()\n",
    "mega_zord.boost_agility()\n",
    "mega_zord.boost_endurance()\n",
    "mega_zord.boost_strength()"
   ]
  },
  {
   "cell_type": "markdown",
   "metadata": {},
   "source": [
    "---\n",
    "\n",
    "> **Ejercicios ✏️**\n",
    "\n",
    "**Problema del Diamante**: Cómo se mencionó anteriormente, el sistema de herencia múltiple permite flexibilizar las relaciones de jerarquía  vistas como un grafo dirigido. En este contexto es posible que formen relaciones tipo diamante, donde una clase base da origen a múltiples clases derivadas donde a la vez, todas son clases base de una última clase derivada. Este fenómeno se dio en el ejemplo anterior. \n",
    "\n",
    "1. Defina la clase ```A```, con el método ```.show()```, el cual imprime en pantalla ```'método show de clase A'```. \n",
    "\n",
    "2. Defina las clases ```B1``` y ```B2```, la clase ```B1``` debe anular el método ```.show()``` imprimiendo en pantalla ```'método show de clase B1'```, mientras que la clase ```B2``` anula el mismo método imprimiendo en pantalla ```'método show de clase B2'```.\n",
    "\n",
    "3. Defina la clase ```C1``` que hereda de ```B1``` y ```B2``` (en ese orden), esta clase no añade atributos ni métodos. Defina la clase ```C2```que hereda de ```B2``` y ```B1```(en ese orden).\n",
    "\n",
    "4. Cree los objetos ```c1``` y ```c2``` de las clases ```C1``` y ```C2``` respectivamente.  ¿Qué resultado se espera de ejecutar ```c1.show()``` y ```c2.show()```?\n",
    "\n",
    "5. Cree la clase ```B3```, esta clase no es más que *proxy* de la clase ```A``` (no agrega/quita/modifica ningún atributo o método). A continuación cree la clase ```C3``` que hereda de ```B3``` y ```B1```. Instancie el objeto ```c3``` de a clase ```C3``` y ejecute ```c3.show()``` ¿Qué resultado se espera? pruebe cambiando el orden de herencia en ```C3```, conmutando entre ```B1``` con ```B3``` y```B2``` con ```B3```. ¿En qué se diferencia con el ejercicio 4?\n",
    "\n",
    "Python resuelve el problema del diamante mediante un método de resolución de ordenes *MRO*. La intención de este ejercicio es que usted comprenda tal mecanismo, observando el orden búsqueda y ejecución de métodos. ¿Podría identificar este fenómeno en el ejemplo de ```DinoZord``` - ```MegaZord```?"
   ]
  },
  {
   "cell_type": "markdown",
   "metadata": {},
   "source": [
    "Con lo ejercicios anteriores, es posible entender como Python enfrenta el problema del diamante. A continuación, se estudia más en profundidad dicho problema, cuando todas las clases involucradas poseen el mismo método. \n",
    "\n",
    "> **Ejemplo 📖**\n",
    "\n",
    "Se definen las clases:"
   ]
  },
  {
   "cell_type": "code",
   "execution_count": null,
   "metadata": {},
   "outputs": [],
   "source": [
    "class W:\n",
    "    def who(self):\n",
    "        print('Se reporta W')\n",
    "\n",
    "\n",
    "class X(W):\n",
    "    def who(self):\n",
    "        print('Se reporta X')\n",
    "        W.who(self)\n",
    "\n",
    "\n",
    "class Y(W):\n",
    "    def who(self):\n",
    "        print('Se reporta Y')\n",
    "        W.who(self)\n",
    "\n",
    "\n",
    "class Z(X, Y):\n",
    "    def who(self):\n",
    "        print('Se reporta Z')\n",
    "        X.who(self)\n",
    "        Y.who(self)"
   ]
  },
  {
   "cell_type": "markdown",
   "metadata": {},
   "source": [
    "Observamos el output de instanciar la clase ```Z``` y llamar el método ```.who()```."
   ]
  },
  {
   "cell_type": "code",
   "execution_count": null,
   "metadata": {},
   "outputs": [],
   "source": [
    "z = Z()\n",
    "z.who()"
   ]
  },
  {
   "cell_type": "markdown",
   "metadata": {},
   "source": [
    "Lo que ocurre en este caso, es que en primer lugar, el método ```.who()``` de ```Z``` ignora los métodos homónimos de sus clases bases. Por lo tanto se obtiene como primera linea el output:\n",
    "\n",
    "```python\n",
    "Se reporta Z\n",
    "```\n",
    "\n",
    "Posteriormente, se ejecuta el método ```.who()``` de la clase ```X```, que anula su contraparte de la clase ```W``` y por lo tanto imprime \n",
    "\n",
    "```python\n",
    "Se reporta X\n",
    "Se reporta W\n",
    "```\n",
    "\n",
    "Finalmente ocurre el mismo fenómeno al invocar ```Y.who(self)``` al final del proceso. En Python, existe el la función ```super()```. Esta se llama dentro de una clase y permite acceder a métodos y atributos de su clase base. Su funcionamiento en herencia simple es trivial, veámoslo con la clase ```X```, para ello, redefinimos la relación de herencia inicial."
   ]
  },
  {
   "cell_type": "code",
   "execution_count": null,
   "metadata": {},
   "outputs": [],
   "source": [
    "class W:\n",
    "    def who(self):\n",
    "        print('Se reporta W')\n",
    "\n",
    "\n",
    "class X(W):\n",
    "    def who(self):\n",
    "        print('Se reporta X')\n",
    "        super(X, self).who()  # Cambiamos W.who por super(X,self)"
   ]
  },
  {
   "cell_type": "markdown",
   "metadata": {},
   "source": [
    "Aquí, la sintaxis ```super(X,self).who()``` busca la clase base de ```X```, en este caso ```W```, posteriormente, se comporta como una función de orden superior que opera sobre ```.who()``` por medio de la aplicación ```.who()``` $\\mapsto$ ```W.who(self)```. Se testea el resultado."
   ]
  },
  {
   "cell_type": "code",
   "execution_count": null,
   "metadata": {},
   "outputs": [],
   "source": [
    "x = X()\n",
    "x.who()"
   ]
  },
  {
   "cell_type": "markdown",
   "metadata": {},
   "source": [
    "Lo que comprueba lo anterior. Por definición, si ejecutamos la orden ```super()``` dentro de la clase ```X```, sus argumentos predeterminados serán ```(X,self)```por lo que el código se puede simplificar a:"
   ]
  },
  {
   "cell_type": "code",
   "execution_count": null,
   "metadata": {},
   "outputs": [],
   "source": [
    "class W:\n",
    "    def who(self):\n",
    "        print('Se reporta W')\n",
    "\n",
    "\n",
    "class X(W):\n",
    "    def who(self):\n",
    "        print('Se reporta X')\n",
    "        super().who()  # Cambiamos W.who por super(X,self)"
   ]
  },
  {
   "cell_type": "code",
   "execution_count": null,
   "metadata": {},
   "outputs": [],
   "source": [
    "x = X()\n",
    "x.who()"
   ]
  },
  {
   "cell_type": "markdown",
   "metadata": {},
   "source": [
    "Que reporta el mismo resultado. \n",
    "\n",
    "En situaciones de herencia múltiple, el funcionamiento de ```super()``` es más complejo y requiere una buena compresión del orden de resolución de métodos *MRO*. En palabras simples (y como lo podrá intuir de un ejercicio anterior), el MRO de Python soluciona el problema del diamante en herencia múltiple por medio de una linealización del árbol asociado a la relación de herencia múltiple (grafo clase base - clase derivada), esta linealización se lleva a cabo por medio de una búsqueda *depth-first, left to right*. Es decir, para una clase ```D(A,B,C)``` con herencia múltiple, al ejecutarse un método de la forma ```D.func()``` el *MRO* de Python buscará inicialmente en los métodos nativos de la clase ```D```, luego, buscará en ```A```, luego en las clases base de ```A```, hasta agotar las relaciones de herencia de ```A```, luego pasará a ```B```, inspeccionado sus clases bases hasta agotarlas, para terminar con ```C``` haciendo el mismo proceso. Si cambiamos el código inicial, es posible agregar ```super()``` donde corresponda."
   ]
  },
  {
   "cell_type": "code",
   "execution_count": null,
   "metadata": {},
   "outputs": [],
   "source": [
    "class W:\n",
    "    def who(self):\n",
    "        print('Se reporta W')\n",
    "\n",
    "\n",
    "class X(W):\n",
    "    def who(self):\n",
    "        print('Se reporta X')\n",
    "        super().who()\n",
    "\n",
    "\n",
    "class Y(W):\n",
    "    def who(self):\n",
    "        print('Se reporta Y')\n",
    "        super().who()\n",
    "\n",
    "\n",
    "class Z(X, Y):\n",
    "    def who(self):\n",
    "        print('Se reporta Z')\n",
    "        super().who()\n",
    "        super().who()"
   ]
  },
  {
   "cell_type": "markdown",
   "metadata": {},
   "source": [
    "El resultado esperado es:\n",
    "```python\n",
    "Se reporta Z\n",
    "Se reporta X\n",
    "Se reporta W\n",
    "Se reporta Y\n",
    "Se reporta W\n",
    "```\n",
    "\n",
    "Sin embargo, se obtiene:"
   ]
  },
  {
   "cell_type": "code",
   "execution_count": null,
   "metadata": {},
   "outputs": [],
   "source": [
    "z1 = Z()\n",
    "z1.who()"
   ]
  },
  {
   "cell_type": "markdown",
   "metadata": {},
   "source": [
    "Esto se debe al factor que considera el *MRO* de Python, y es que siempre se busca resolver un método que esté lo más alejado de clase base. Por tal motivo, es que cuando una clase se repite en el orden de búsqueda, se elimina de la lista manteniendo solo las ocurrencias más lejanas. Esto queda más claro estudiando el *MRO* de la clase ```Z```, en efecto , la búsqueda debería ser ```Z -> X -> W -> Y -> W``` , la clase base ```W``` se elimina de la lista manteniendo solo la copia más lejana. Se llega a que el orden de resolución es ```Z -> X -> Y -> W```, lo que quiere decir, que luego de buscar en ```X``` pasará a buscar en ```Y``` y finalizará con ```W```. Para ver esto en acción se observa el método ```.mro()``` de la clase ```Z``` (no del objeto)."
   ]
  },
  {
   "cell_type": "code",
   "execution_count": null,
   "metadata": {},
   "outputs": [],
   "source": [
    "Z.mro()"
   ]
  },
  {
   "cell_type": "markdown",
   "metadata": {},
   "source": [
    "Lo que comprueba el orden de búsqueda calculado. Cabe señalar que todas las clases en Python provienen de la clase base ```object```. Según este esquema es posible utilizar los argumentos de ```super()``` para mejorar el output. Para ello reescribimos el esquema de clases inicial."
   ]
  },
  {
   "cell_type": "code",
   "execution_count": null,
   "metadata": {},
   "outputs": [],
   "source": [
    "class W:\n",
    "    def who(self):\n",
    "        print('Se reporta W')\n",
    "\n",
    "\n",
    "class X(W):\n",
    "    def who(self):\n",
    "        print('Se reporta X')\n",
    "        super(X, self).who()  # Equivalente a super(), pero más explicito\n",
    "\n",
    "\n",
    "class Y(W):\n",
    "    def who(self):\n",
    "        print('Se reporta Y')\n",
    "        super(Y, self).who()  # Equivalente a super(), pero más explicito\n",
    "\n",
    "\n",
    "class Z(X, Y):\n",
    "    def who(self):\n",
    "        print('Se reporta Z')\n",
    "        super(Z, self).who()  # Equivalente a super(), pero más explicito\n",
    "        super(X, self).who()"
   ]
  },
  {
   "cell_type": "markdown",
   "metadata": {},
   "source": [
    "y llamamos el método en cuestión"
   ]
  },
  {
   "cell_type": "code",
   "execution_count": null,
   "metadata": {},
   "outputs": [],
   "source": [
    "z2 = Z()\n",
    "z2.who()"
   ]
  },
  {
   "cell_type": "markdown",
   "metadata": {},
   "source": [
    "Comparamos nuevamente con la implementación inicial:\n",
    "\n",
    "```python\n",
    "Se reporta Z\n",
    "Se reporta X\n",
    "Se reporta W\n",
    "Se reporta Y\n",
    "Se reporta W\n",
    "\n",
    "```\n",
    "y vemos que difieren sólo en la tercera fila. Antes de arreglar este problema, estudiemos como se comporta ```super()``` con los argumentos entregados. En primer lugar se ejecuta ```Z.who()``` que muestra el texto ```Se reporta Z``` luego se ejecuta ```super(Z,self).who()``` que es equivalente a ```super().who()```. Según el orden de resolución calculado, se debe buscar ahora en la clase ```X```, donde se ejecuta ```X.who()```, que muestra el texto ```Se reporta X```, en ```X``` se ejecuta ```super(X,self).who()```, esto le indica al interprete de Python que comience a buscar desde ```X``` en la cadena de resolución ```Z -> X -> Y -> W``` por tanto se pasa a ejecutar ```Y.who()``` que desde luego imprime en pantalla ```Se reporta Y``` para luego ejecutar ```super(Y,self).who()```, es decir, se busca ahora desde la posición ```Y``` que resuelve finalmente ejecutar```W.who()``` imprimiéndose ```Se reporta W```. Lo que falta es la  ejecución de ```super(X,self).who()```, esta pone el indice inicial de búsqueda en ```X```, por lo que comienza el proceso desde la clase ```Y``` imprimiendo ```Se reporta Y``` y finalmente ```Se reporta W```.\n",
    "\n",
    "Como no se puede cambiar el orden ```Z -> X -> Y -> W``` de manera tal que se imprima lo que mostraba la implementación inicial, solo queda hacer que las clases *cooperen entre si* modificando el método correspondiente de la clase ```X``` y cambiándolo por:"
   ]
  },
  {
   "cell_type": "code",
   "execution_count": null,
   "metadata": {},
   "outputs": [],
   "source": [
    "class W:\n",
    "    def who(self):\n",
    "        print('Se reporta W')\n",
    "\n",
    "\n",
    "class X(W):\n",
    "    def who(self):\n",
    "        '''\n",
    "        Si el objeto instanciado es de la clase Z, entonces modificar el mro \n",
    "        para que busque desde Y, en caso contrario se mantiene el comportamiento\n",
    "        inicial.\n",
    "        '''\n",
    "\n",
    "        print('Se reporta X')\n",
    "        if isinstance(self, Z):\n",
    "            super(Y, self).who()\n",
    "        else:\n",
    "            super(X, self).who()\n",
    "\n",
    "\n",
    "class Y(W):\n",
    "    def who(self):\n",
    "        print('Se reporta Y')\n",
    "        super(Y, self).who()\n",
    "\n",
    "\n",
    "class Z(X, Y):\n",
    "    def who(self):\n",
    "        print('Se reporta Z')\n",
    "        super(Z, self).who()  # Equivalente a super(), pero más explicito\n",
    "        super(X, self).who()"
   ]
  },
  {
   "cell_type": "markdown",
   "metadata": {},
   "source": [
    "Finalmente comprobamos que el cambio surta efecto."
   ]
  },
  {
   "cell_type": "code",
   "execution_count": null,
   "metadata": {},
   "outputs": [],
   "source": [
    "z3 = Z()\n",
    "z3.who()"
   ]
  },
  {
   "cell_type": "markdown",
   "metadata": {},
   "source": [
    "Al usar ```super()``` en herencia múltiple y comprender el proceso de orden de resolución, se tiene control total sobre los atributos y métodos a reutilizar, escogiendo las clases base de manera **dinámica**. Esto último es de vital importancia, pues mejora la mantenibilidad del código; cambiar una clase base (ej. su nombre) no afecta directamente el comportamiento de sus clases derivadas."
   ]
  },
  {
   "cell_type": "markdown",
   "metadata": {},
   "source": [
    "--- \n",
    "\n",
    "> **Ejercicios ✏️**\n",
    "\n",
    "1. Modifique las clases ```Tyrannosaurus```, ```Mastodon```, ```Triceratops```, ```Sabertooth```, ```Pterodactyl``` y ```MegaZord``` para que en sus métodos constructores utilicen ```super()```.\n",
    "\n",
    "2. Modifique el método ```.boost()``` de la clase ```MegaZord``` para que utilice ```super()``` en todos sus llamados. ¿Cuál es el *MRO* de la clase ```MegaZord```?"
   ]
  },
  {
   "cell_type": "markdown",
   "metadata": {},
   "source": [
    "---\n",
    "\n",
    "### Programación Modular y Librerías\n",
    "\n",
    "La programación modular es una técnica de de diseño de software. Sus cimientos se fundan la simplificación de sistemas complejos por medio del modelado de sus componentes o módulos. Este principio es agnóstico al paradigma de programación usado y está presente en la gran mayoría de proyectos de software. \n",
    "\n",
    "Para diseñar programas mantenibles, confiables y de fácil lectura con un nivel de esfuerzo razonable, se recomienda utilizar técnicas de desarrollo modular. Aquí, es de vital importancia, reducir la interdependencia entre componentes del sistema, generando piezas (o módulos) lo más independiente posibles. \n",
    "\n",
    "Python posee un manejo de módulos nativo, este sigue la sintaxis:\n",
    "\n",
    "```python\n",
    "\n",
    "import module_name\n",
    "\n",
    "```\n",
    "\n",
    "Así un modulo en Python es un archivo con extensión ```.py``` consistente en código Python. Un módulo puede contener una cantidad arbitraria de objetos, como por ejemplo, clases, archivos funciones, etc. Tampoco hay una sintaxis predefinida para definir tales objetos. \n",
    "\n",
    "El comando ```import``` permite obtener acceso a todos los objetos del archivo ```.py```. \n",
    "\n",
    "Ejemplo de un módulo de nombre `sample` :\n",
    "\n",
    "\n",
    "    README.rst\n",
    "    LICENSE\n",
    "    setup.py\n",
    "    requirements.txt\n",
    "    sample/\n",
    "        __init__.py\n",
    "        core.py\n",
    "        helpers.py\n",
    "        subfolder/\n",
    "            subcore.py\n",
    "    docs/\n",
    "        conf.py\n",
    "        index.rst\n",
    "    tests/\n",
    "        test_basic.py\n",
    "        test_advanced.py\n",
    "        \n",
    "    main.py  \n",
    "\n",
    "<small>Referencia: https://docs.python-guide.org/writing/structure/ </small>\n"
   ]
  },
  {
   "cell_type": "code",
   "execution_count": null,
   "metadata": {
    "ExecuteTime": {
     "end_time": "2021-03-29T20:13:43.605161Z",
     "start_time": "2021-03-29T20:13:43.595165Z"
    }
   },
   "outputs": [],
   "source": [
    "from functools import reduce"
   ]
  },
  {
   "cell_type": "code",
   "execution_count": null,
   "metadata": {},
   "outputs": [],
   "source": [
    "from sample.subfolder import subcore"
   ]
  },
  {
   "cell_type": "markdown",
   "metadata": {},
   "source": [
    "\n",
    "\n",
    "> **Ejemplo 📖**\n",
    "\n",
    "El módulo ```math``` contiene ciertas constantes y funciones. A continuación se importa y se accede a algunos de sus objetos."
   ]
  },
  {
   "cell_type": "code",
   "execution_count": null,
   "metadata": {},
   "outputs": [],
   "source": [
    "import math\n",
    "\n",
    "# Función coseno\n",
    "print('Coseno cos(0): ', math.cos(0))\n",
    "\n",
    "# Función logaritmo natural\n",
    "\n",
    "print('logaritmo natural ln(1): ', math.log(1))\n",
    "\n",
    "# Constante de Euler\n",
    "print('Numero de Euler e: ', math.e)"
   ]
  },
  {
   "cell_type": "markdown",
   "metadata": {},
   "source": [
    "Al importar ```math``` se accede a sus funciones y constantes según la notación de objetos. Es posible importar solo algunos métodos o atributos por medio de la sintaxis:\n",
    "\n",
    "```python\n",
    "from module import method_1, attribute_1, ... , method_n\n",
    "```\n",
    "\n",
    "otra sintaxis relativamente útil es \n",
    "\n",
    "```python\n",
    "from module import *\n",
    "```\n",
    "\n",
    "Esto quiere decir, que se importan todos los objetos de ```module```, directamente al namespace global. En el ejemplo del módulo ```math```,  al ejecutar la orden de importación usando el operador ```*```, ya no sería necesario llamar sus atributos y métodos por medio de ```math.cos()``` o ```math.e``` (para coseno y e) sino que se puede hacer directamente por medio de ```cos()``` y ```e```. \n",
    "\n",
    "**Nota**: Los objetos importados con `*` se cargan al *namespace* global, lo que implica re-escritura y probables conflictos con variables globales. Por este motivo, parte de la comunidad lo considera una mala práctica.\n",
    "\n",
    "Por último, al considerar los módulos importados como objetos, se pueden renombrar en el namespace global por medio de la sintaxis\n",
    "\n",
    "```python\n",
    "import module_name as new_name\n",
    "```\n",
    "\n",
    "> **Ejemplo 📖**\n",
    "\n",
    "Se importa el modulo random como rnd y se llama el método ```.gauss()```."
   ]
  },
  {
   "cell_type": "code",
   "execution_count": null,
   "metadata": {},
   "outputs": [],
   "source": [
    "import random as rnd\n",
    "\n",
    "# Gaussiana 0,1\n",
    "rnd.gauss(0, 1)"
   ]
  },
  {
   "cell_type": "markdown",
   "metadata": {},
   "source": [
    "#### Estructura de un Módulo\n",
    "\n",
    "Un módulo en Python es un archivo conteniendo ordenes y definiciones. El nombre del módulo se deduce del nombre del archivo. Por ejemplo si se tiene el archivo ```module.py``` el nombre del módulo sera ```module```. \n",
    "\n",
    "> **Ejemplo 📖**\n",
    "\n",
    "Se crea un archivo ```.py``` llamado ```zords.py```. Este archivo contiene las definiciones iniciales de las clases ```DinoZord```, ```Tyrannosaurus```, ```Mastodon```, ```Triceratops```, ```Sabertooth```, ```Pterodactyl``` y ```MegaZord```. Se importa según ```import zords``` y se accede a sus clases mediante la notación ```zord._____```. "
   ]
  },
  {
   "cell_type": "code",
   "execution_count": null,
   "metadata": {},
   "outputs": [],
   "source": [
    "import zords\n",
    "\n",
    "tyrannosaurus = zords.Tyrannosaurus()\n",
    "tyrannosaurus.pilot = 'Jason Lee Scott'\n",
    "\n",
    "mastodon = zords.Mastodon()\n",
    "mastodon.pilot = 'Zack Taylor'\n",
    "\n",
    "triceratops = zords.Triceratops()\n",
    "triceratops.pilot = 'Billy Cranston'\n",
    "\n",
    "sabertooth = zords.Sabertooth()\n",
    "sabertooth.pilot = 'Trini Kwan'\n",
    "\n",
    "pterodactyl = zords.Pterodactyl()\n",
    "pterodactyl.pilot = 'Kimberly Hart'\n",
    "\n",
    "mega_zord = zords.MegaZord(tyrannosaurus, mastodon,\n",
    "                           triceratops, sabertooth, pterodactyl)"
   ]
  },
  {
   "cell_type": "markdown",
   "metadata": {},
   "source": [
    "---\n",
    "\n",
    "> **Ejercicio ✏️** \n",
    "\n",
    "1. Modifique el módulo ```zords``` de manera tal que imprima ```Cargando información``` al importarlo. Por defecto, no se pueden recargar módulos en Python, para poder apreciar los cambios hechos, tendrá que ejecutar ```from imp import reload``` para finalmente recargar por medio de ```reload(zords)```."
   ]
  },
  {
   "cell_type": "markdown",
   "metadata": {},
   "source": [
    "Al importarse un módulo, el interprete de Python busca en la misma carpeta donde se está ejecutando el código actual, luego busca en las carpetas de la configuración global, denotadas por la variable PYTHONPATH en sistemas operativos linux. Finalmente busca en la ruta donde Python fue instalado. Para conocer dicho orden se puede acceder al atributo `path` del módulo `sys`."
   ]
  },
  {
   "cell_type": "code",
   "execution_count": null,
   "metadata": {},
   "outputs": [],
   "source": [
    "import sys\n",
    "sys.path"
   ]
  },
  {
   "cell_type": "markdown",
   "metadata": {},
   "source": [
    "Un conjunto de módulos agrupados en una estructura de carpetas, se denota **paquete**. Para que Python reconozca un paquete como tal, este debe tener un archivo ```__init__.py```. Esto significa que toda carpeta en el árbol de búsqueda de archivos de Python, con un archivo ```__init__.py```en su interior, se considera un paquete. \n",
    "\n",
    "> **Ejemplo 📖**\n",
    "\n",
    "1. Defina dos módulos ```A.py``` y ```B.py```. En el módulo ```A``` defina una función ```func_a``` que imprima en pantalla ```Función del modulo A```. De manera análoga defina  ```func_b``` en el módulo ```B```.\n",
    "\n",
    "2. Mueva los archivos ```A.py``` y ```B.py``` a la carpeta ```test_package``` ubicada en el mismo directorio que este notebook.\n",
    "\n",
    "3. En la carpeta ```test_package``` genere un archivo ```__init__.py``` vacío. Luego importe el paquete ```test_package``` por medio de ```import test_package```. ¿Como se accede a los módulos ```A``` y ```B``` desde esta configuración?\n",
    "\n",
    "4. Modifique el archivo ```__init__.py``` de manera tal que importe los módulos ```A``` y ```B```. *Hint* agregue lineas del tipo ```import package.module```\n",
    "\n",
    "5. Recargue el paquete ```test_package``` e intente acceder a las funciones de los módulos ```A``` y ```B```."
   ]
  },
  {
   "cell_type": "markdown",
   "metadata": {},
   "source": [
    "## Manejo de Excepciones\n"
   ]
  },
  {
   "cell_type": "markdown",
   "metadata": {},
   "source": [
    "El manejo de excepciones en Python sigue una estructura similar a la de otros lenguajes de programación. Aquí, se hace uso de bloques```try``` seguidos de uno o más bloques ```except```.\n",
    "\n",
    "El contenido del bloque ```try``` se ejecuta en primera instancia y con normalidad, hasta que aparece un error o excepción de cierto tipo (```KeyError``` por ejemplo). En tal punto, se pasa al bloque `except` identificado con el tipo de excepción que se presente. "
   ]
  },
  {
   "cell_type": "markdown",
   "metadata": {},
   "source": [
    "**Ejemplo**: Recorramos una lista hasta un indice que no existe:\n"
   ]
  },
  {
   "cell_type": "code",
   "execution_count": 1,
   "metadata": {
    "ExecuteTime": {
     "end_time": "2021-03-29T20:15:59.804233Z",
     "start_time": "2021-03-29T20:15:59.788234Z"
    }
   },
   "outputs": [
    {
     "name": "stdout",
     "output_type": "stream",
     "text": [
      "1000\n",
      "2000\n",
      "3000\n",
      "4000\n",
      "5000\n"
     ]
    },
    {
     "ename": "IndexError",
     "evalue": "list index out of range",
     "output_type": "error",
     "traceback": [
      "\u001b[0;31m---------------------------------------------------------------------------\u001b[0m",
      "\u001b[0;31mIndexError\u001b[0m                                Traceback (most recent call last)",
      "\u001b[0;32m<ipython-input-1-fb8e525c133f>\u001b[0m in \u001b[0;36m<module>\u001b[0;34m\u001b[0m\n\u001b[1;32m      2\u001b[0m \u001b[0;34m\u001b[0m\u001b[0m\n\u001b[1;32m      3\u001b[0m \u001b[0;32mfor\u001b[0m \u001b[0mi\u001b[0m \u001b[0;32min\u001b[0m \u001b[0;34m[\u001b[0m\u001b[0;36m0\u001b[0m\u001b[0;34m,\u001b[0m \u001b[0;36m1\u001b[0m\u001b[0;34m,\u001b[0m \u001b[0;36m2\u001b[0m\u001b[0;34m,\u001b[0m \u001b[0;36m3\u001b[0m\u001b[0;34m,\u001b[0m \u001b[0;36m4\u001b[0m\u001b[0;34m,\u001b[0m \u001b[0;36m5\u001b[0m\u001b[0;34m,\u001b[0m \u001b[0;36m6\u001b[0m\u001b[0;34m,\u001b[0m \u001b[0;36m7\u001b[0m\u001b[0;34m,\u001b[0m \u001b[0;36m8\u001b[0m\u001b[0;34m,\u001b[0m \u001b[0;36m9\u001b[0m\u001b[0;34m]\u001b[0m\u001b[0;34m:\u001b[0m\u001b[0;34m\u001b[0m\u001b[0;34m\u001b[0m\u001b[0m\n\u001b[0;32m----> 4\u001b[0;31m     \u001b[0mprint\u001b[0m\u001b[0;34m(\u001b[0m\u001b[0mlista\u001b[0m\u001b[0;34m[\u001b[0m\u001b[0mi\u001b[0m\u001b[0;34m]\u001b[0m\u001b[0;34m)\u001b[0m\u001b[0;34m\u001b[0m\u001b[0;34m\u001b[0m\u001b[0m\n\u001b[0m\u001b[1;32m      5\u001b[0m \u001b[0;34m\u001b[0m\u001b[0m\n\u001b[1;32m      6\u001b[0m \u001b[0mprint\u001b[0m\u001b[0;34m(\u001b[0m\u001b[0;34m'El programa continua'\u001b[0m\u001b[0;34m)\u001b[0m\u001b[0;34m\u001b[0m\u001b[0;34m\u001b[0m\u001b[0m\n",
      "\u001b[0;31mIndexError\u001b[0m: list index out of range"
     ]
    }
   ],
   "source": [
    "lista = [1000, 2000, 3000, 4000, 5000]\n",
    "\n",
    "for i in [0, 1, 2, 3, 4, 5, 6, 7, 8, 9]:\n",
    "    print(lista[i])\n",
    "    \n",
    "print('El programa continua')\n"
   ]
  },
  {
   "cell_type": "code",
   "execution_count": 2,
   "metadata": {},
   "outputs": [
    {
     "ename": "NameError",
     "evalue": "name 'f' is not defined",
     "output_type": "error",
     "traceback": [
      "\u001b[0;31m---------------------------------------------------------------------------\u001b[0m",
      "\u001b[0;31mNameError\u001b[0m                                 Traceback (most recent call last)",
      "\u001b[0;32m<ipython-input-2-a9fcd54b25e7>\u001b[0m in \u001b[0;36m<module>\u001b[0;34m\u001b[0m\n\u001b[0;32m----> 1\u001b[0;31m \u001b[0mf\u001b[0m\u001b[0;34m\u001b[0m\u001b[0;34m\u001b[0m\u001b[0m\n\u001b[0m",
      "\u001b[0;31mNameError\u001b[0m: name 'f' is not defined"
     ]
    }
   ],
   "source": [
    "f"
   ]
  },
  {
   "cell_type": "code",
   "execution_count": 5,
   "metadata": {},
   "outputs": [
    {
     "ename": "TypeError",
     "evalue": "unsupported operand type(s) for +: 'int' and 'str'",
     "output_type": "error",
     "traceback": [
      "\u001b[0;31m---------------------------------------------------------------------------\u001b[0m",
      "\u001b[0;31mTypeError\u001b[0m                                 Traceback (most recent call last)",
      "\u001b[0;32m<ipython-input-5-9068031ffbfc>\u001b[0m in \u001b[0;36m<module>\u001b[0;34m\u001b[0m\n\u001b[0;32m----> 1\u001b[0;31m \u001b[0;36m1\u001b[0m \u001b[0;34m+\u001b[0m \u001b[0;34m'y'\u001b[0m\u001b[0;34m\u001b[0m\u001b[0;34m\u001b[0m\u001b[0m\n\u001b[0m",
      "\u001b[0;31mTypeError\u001b[0m: unsupported operand type(s) for +: 'int' and 'str'"
     ]
    }
   ],
   "source": [
    "1 + 'y' "
   ]
  },
  {
   "cell_type": "code",
   "execution_count": 6,
   "metadata": {},
   "outputs": [
    {
     "ename": "TypeError",
     "evalue": "unsupported operand type(s) for /: 'str' and 'int'",
     "output_type": "error",
     "traceback": [
      "\u001b[0;31m---------------------------------------------------------------------------\u001b[0m",
      "\u001b[0;31mTypeError\u001b[0m                                 Traceback (most recent call last)",
      "\u001b[0;32m<ipython-input-6-e81eb6c91786>\u001b[0m in \u001b[0;36m<module>\u001b[0;34m\u001b[0m\n\u001b[0;32m----> 1\u001b[0;31m \u001b[0;34m'y'\u001b[0m\u001b[0;34m/\u001b[0m\u001b[0;36m10\u001b[0m\u001b[0;34m\u001b[0m\u001b[0;34m\u001b[0m\u001b[0m\n\u001b[0m",
      "\u001b[0;31mTypeError\u001b[0m: unsupported operand type(s) for /: 'str' and 'int'"
     ]
    }
   ],
   "source": [
    "'y'/10"
   ]
  },
  {
   "cell_type": "code",
   "execution_count": 8,
   "metadata": {},
   "outputs": [
    {
     "ename": "Exception",
     "evalue": "a no es string",
     "output_type": "error",
     "traceback": [
      "\u001b[0;31m---------------------------------------------------------------------------\u001b[0m",
      "\u001b[0;31mException\u001b[0m                                 Traceback (most recent call last)",
      "\u001b[0;32m<ipython-input-8-7694c371e277>\u001b[0m in \u001b[0;36m<module>\u001b[0;34m\u001b[0m\n\u001b[1;32m      2\u001b[0m \u001b[0;34m\u001b[0m\u001b[0m\n\u001b[1;32m      3\u001b[0m \u001b[0;32mif\u001b[0m \u001b[0;32mnot\u001b[0m \u001b[0misinstance\u001b[0m\u001b[0;34m(\u001b[0m\u001b[0ma\u001b[0m\u001b[0;34m,\u001b[0m \u001b[0mstr\u001b[0m\u001b[0;34m)\u001b[0m\u001b[0;34m:\u001b[0m\u001b[0;34m\u001b[0m\u001b[0;34m\u001b[0m\u001b[0m\n\u001b[0;32m----> 4\u001b[0;31m     \u001b[0;32mraise\u001b[0m \u001b[0mException\u001b[0m\u001b[0;34m(\u001b[0m\u001b[0;34m'a no es string'\u001b[0m\u001b[0;34m)\u001b[0m\u001b[0;34m\u001b[0m\u001b[0;34m\u001b[0m\u001b[0m\n\u001b[0m",
      "\u001b[0;31mException\u001b[0m: a no es string"
     ]
    }
   ],
   "source": [
    "a = 1\n",
    "\n",
    "if not isinstance(a, str):\n",
    "    raise Exception('a no es string')"
   ]
  },
  {
   "cell_type": "markdown",
   "metadata": {
    "ExecuteTime": {
     "end_time": "2021-03-29T16:01:10.693958Z",
     "start_time": "2021-03-29T16:01:10.681956Z"
    }
   },
   "source": [
    "En algún punto nos lanza una excepción y detiene la ejecución del programa.\n",
    "\n",
    "Podemos manjear esto a través de la estructura `try-except`:"
   ]
  },
  {
   "cell_type": "code",
   "execution_count": null,
   "metadata": {
    "ExecuteTime": {
     "end_time": "2021-03-29T20:15:37.941407Z",
     "start_time": "2021-03-29T20:15:37.930407Z"
    }
   },
   "outputs": [],
   "source": [
    "lista = [1, 2, 3, 4, 5]\n",
    "\n",
    "try:\n",
    "    for i in range(10):\n",
    "        print(lista[i])\n",
    "except:\n",
    "    print(f'Error!, indice {i} fuera de la lista\\n')\n",
    "\n",
    "print('El programa continua')"
   ]
  },
  {
   "cell_type": "markdown",
   "metadata": {
    "ExecuteTime": {
     "end_time": "2021-03-29T16:01:20.679052Z",
     "start_time": "2021-03-29T16:01:20.665010Z"
    }
   },
   "source": [
    "Podemos acceder incluso al error usando `except Exception as e:`"
   ]
  },
  {
   "cell_type": "code",
   "execution_count": null,
   "metadata": {
    "ExecuteTime": {
     "end_time": "2021-03-29T20:16:16.240143Z",
     "start_time": "2021-03-29T20:16:16.219143Z"
    }
   },
   "outputs": [],
   "source": [
    "lista = [1, 2, 3, 4, 5]\n",
    "\n",
    "try:\n",
    "    for i in range(10):\n",
    "        print(lista[i])\n",
    "except Exception as e:\n",
    "    print(f'Error! Descripción del error: {e}')\n",
    "\n",
    "print('El programa continua')"
   ]
  },
  {
   "cell_type": "markdown",
   "metadata": {
    "ExecuteTime": {
     "end_time": "2021-03-29T16:01:40.156002Z",
     "start_time": "2021-03-29T16:01:40.145011Z"
    }
   },
   "source": [
    "### Tipos de Excepciones en Python\n",
    "\n",
    "---\n",
    "\n",
    "> **Ejercicio ✏️**\n",
    "\n",
    "Para entender que tipos de excepciones pueden existir en Python:\n",
    "\n",
    "1. Nombre al menos 6 tipos de excepciones en Python. (*hint:https://docs.python.org/3/library/exceptions.html#bltin-exceptions* )\n",
    "2. Genere un código que produzca exepciones del tipo: ```NameError```,```ZeroDivisionError``` y ```TypeError```.\n",
    "\n",
    "---"
   ]
  },
  {
   "cell_type": "code",
   "execution_count": null,
   "metadata": {
    "ExecuteTime": {
     "end_time": "2021-03-29T20:17:00.880474Z",
     "start_time": "2021-03-29T20:17:00.839476Z"
    }
   },
   "outputs": [],
   "source": [
    "f"
   ]
  },
  {
   "cell_type": "code",
   "execution_count": null,
   "metadata": {
    "ExecuteTime": {
     "end_time": "2021-03-29T20:16:55.570952Z",
     "start_time": "2021-03-29T20:16:55.553923Z"
    }
   },
   "outputs": [],
   "source": [
    "1/0"
   ]
  },
  {
   "cell_type": "code",
   "execution_count": null,
   "metadata": {
    "ExecuteTime": {
     "end_time": "2021-03-29T20:17:23.294111Z",
     "start_time": "2021-03-29T20:17:23.277112Z"
    }
   },
   "outputs": [],
   "source": [
    "lista['hola']"
   ]
  },
  {
   "cell_type": "markdown",
   "metadata": {
    "ExecuteTime": {
     "end_time": "2021-03-29T16:01:51.046911Z",
     "start_time": "2021-03-29T16:01:51.024911Z"
    }
   },
   "source": [
    "Un bloque ```try``` puede tener más de un bloque ```except``` asociado, cada ```except``` explicita acciones a realizarse según el tipo de excepción aparecida en el código. A lo más, se podrá ejecutar un ```except``` (de los posiblemente múltiples). El código que maneja la excepción, asociada a un bloque ```except``` se le denomina *handler*. \n",
    "\n",
    "Las excepciones (del ejercicio anterior por ejemplo) pueden ser utilizadas para definir distintos handlers según la sintaxis: \n",
    "\n",
    "```python\n",
    "try:\n",
    "    # Accion que se desea ejecutar\n",
    "    code_to_try\n",
    "    \n",
    "# Ejemplos de handlers y su sintaxis\n",
    "except RuntimeError:\n",
    "    handler_RuntimeError\n",
    "\n",
    "except ZeroDivisionError:\n",
    "    handler_ZeroDivisionError\n",
    "    \n",
    "except TypeError:\n",
    "     handler_TypeError\n",
    "...\n",
    "```\n",
    "\n",
    "Una manera más compacta viene dada por el uso de tuplas:\n",
    "\n",
    "\n",
    "```python\n",
    "try:\n",
    "    # Accion que se desea ejecutar\n",
    "    code_to_try\n",
    "    \n",
    "# Ejemplos de handlers y su sintaxis\n",
    "except (RuntimeError,ZeroDivisionError,TypeError):\n",
    "    handler_multi_exception\n",
    "...\n",
    "```\n",
    "\n",
    "Finalmente, es posible tratar una excepción como una variable dentro de la scope que genera, para ello se utiliza la orden ```as``` según la sintaxis:\n",
    "\n",
    "```python\n",
    "try:\n",
    "    # Accion que se desea ejecutar\n",
    "    code_to_try\n",
    "    \n",
    "# Ejemplo de handler usando la variable err\n",
    "except RuntimeError as err:\n",
    "    handler_RuntimeError(err) #el handler usa la variable err\n",
    "\n",
    "```"
   ]
  },
  {
   "cell_type": "markdown",
   "metadata": {},
   "source": [
    "### Atributos de las Excepciones\n",
    "\n",
    "Supongamos que queremos tener acceso a un archivo, pero no se escribe el nombre correcto. Esto es equivalente a acceder a un archivo que para el sistema es inexistente. La excepción asociada es del tipo ```FileNotFoundError```. Vale destacar que las excepción son objetos de la clase ```Exception``` y que por lo tanto tienen métodos (funciones) y atributos asociados. En este caso la variable ```err``` \n",
    "tiene el atributo ```.filename``` que hace referencia al archivo que se desea acceder:"
   ]
  },
  {
   "cell_type": "code",
   "execution_count": null,
   "metadata": {
    "ExecuteTime": {
     "end_time": "2021-03-29T20:19:05.910219Z",
     "start_time": "2021-03-29T20:19:05.894224Z"
    }
   },
   "outputs": [],
   "source": [
    "try:\n",
    "    '''\n",
    "    La funcion open permite leer y excribir archivos de manera nativa\n",
    "    '''\n",
    "    f = open('archivo_inexistente.txt')\n",
    "    s = f.readline()\n",
    "    i = int(s.strip())\n",
    "\n",
    "except FileNotFoundError as err:\n",
    "    print(\"Error! archivo no encontrado:\", err.filename)\n",
    "    print(dir(err))"
   ]
  },
  {
   "cell_type": "markdown",
   "metadata": {
    "ExecuteTime": {
     "end_time": "2021-03-29T16:02:30.336438Z",
     "start_time": "2021-03-29T16:02:30.328440Z"
    }
   },
   "source": [
    "---\n",
    "\n",
    "> **Ejercicio ✏️**\n",
    "\n",
    "1. Considere un conjunto de bloques ```try```-```except``` donde cada ```except``` tiene especificado su comportamiento según una excepción especifica. ¿Es posible declarar un último bloque ```except``` al final, sin tener este, ninguna excepción asociada?"
   ]
  },
  {
   "cell_type": "markdown",
   "metadata": {},
   "source": [
    "### Else\n",
    "\n",
    "La estructura de los bloques ```try``` es similar a la de los bloques ```if```, estos, de hecho, comparten el uso de la orden ```else```. Cuando se utiliza esta última, el flujo comienza por la clausula ```try``` para luego pasar por cada bloque ```except```, si no se levanta ninguna excepción, se ejecuta el bloque ```else```.\n",
    "\n",
    "> **Ejemplo 📖**\n",
    "\n",
    "El siguiente ciclo, intenta acceder a los archivos ```files = [archivo_inexistente_1, archivo_inexistente_2, ejemplo_2.txt]```"
   ]
  },
  {
   "cell_type": "code",
   "execution_count": null,
   "metadata": {},
   "outputs": [],
   "source": [
    "files = ['archivo_inexistente_1', 'archivo_inexistente_2', 'ejemplo_2.txt']\n",
    "for fi in files:\n",
    "    try:\n",
    "        '''\n",
    "        Intenta abrir los archivos de la lista\n",
    "        '''\n",
    "        text = open(fi, 'r')\n",
    "    except FileNotFoundError:\n",
    "        '''\n",
    "        Si no se encuentra el archivo, lo imprime en pantalla\n",
    "        '''\n",
    "        print('No se encuentra:', fi, '\\n')\n",
    "    else:\n",
    "        '''\n",
    "        Si no aparecen excepciones, aplica el código siguiente\n",
    "        '''\n",
    "        print('Archivo:', text.name, '\\n')\n",
    "        print(text.read())\n",
    "        text.close()"
   ]
  },
  {
   "cell_type": "markdown",
   "metadata": {},
   "source": [
    "Como podemos ver, los archivos inexistentes 1 y 2 arrojan el mensaje de error correspondiente. Por su parte, dado que ejemplo_2.txt existe en entorno de trabajo, no levanta ninguna excepción y ejecuta el código correspondiente:\n",
    "\n",
    "1. Mostrar el nombre del archivo con el atributo ```.name```.\n",
    "2. Mostrar el contenido en pantalla con el método ```.read()```\n",
    "3. Finalmente, cerrar la conexión al archivo de texto por medio del método ```.close()```."
   ]
  },
  {
   "cell_type": "markdown",
   "metadata": {},
   "source": [
    "Por otra parte, la orden ```raise``` permite forzar la aparición de una excepción.\n",
    "\n",
    "> **Ejemplo 📖**\n",
    "\n",
    "A continuación se levanta el error ```ValueError```, sin algún contexto especifico."
   ]
  },
  {
   "cell_type": "code",
   "execution_count": null,
   "metadata": {
    "ExecuteTime": {
     "end_time": "2021-03-29T16:03:05.151171Z",
     "start_time": "2021-03-29T16:03:05.135127Z"
    }
   },
   "outputs": [],
   "source": [
    "raise ValueError"
   ]
  },
  {
   "cell_type": "markdown",
   "metadata": {},
   "source": [
    "Esta herramienta permite mayor control sobre los errores y el comportamiento que puede manejar nuestro código. "
   ]
  },
  {
   "cell_type": "markdown",
   "metadata": {},
   "source": [
    "---\n",
    "\n",
    "> **Ejercicio ✏️**\n",
    "\n",
    "1. Levante una excepción del tipo ```OSError``` con el mensaje: ```msj = 'Esta excepción actuá sobre errores producidos en el sistema, se relaciona comúnmente a fallas de input - output como lo es \"disk full\"'```. Para ello, deberá llamar el objeto ```OSError(msj)``` en conjunto con una orden ```raise```.\n",
    "\n",
    "2. Supongamos que tenemos una porción del código que arroja una excepción del tipo ```OSError(msj)```, tal porción la manejamos por medio de bloques ```try```-```except``` según el siguiente código:"
   ]
  },
  {
   "cell_type": "code",
   "execution_count": null,
   "metadata": {},
   "outputs": [],
   "source": [
    "msj  = 'Esta excepción actúa sobre errores producidos en el sistema, se ' \n",
    "msj += 'realciona comúnmente a fallas de input - output como lo es \"disk full\"'"
   ]
  },
  {
   "cell_type": "code",
   "execution_count": null,
   "metadata": {},
   "outputs": [],
   "source": [
    "try:\n",
    "    # Codigo simulado que arroja un error OSError(msj)\n",
    "    _ _ _ _  # Completar 1\n",
    "\n",
    "except _ _ _ _:  # Completar 2\n",
    "\n",
    "    print('Texto 1')\n",
    "\n",
    "    _ _ _ _  # Completar 3\n",
    "else:\n",
    ". print('Texto 2')"
   ]
  },
  {
   "cell_type": "markdown",
   "metadata": {},
   "source": [
    "Complete el código de manera tal que imprima en pantalla:\n",
    "   + Solamente ```Texto 1```.\n",
    "   + Solamente ```Texto 2```.\n",
    "   + ```OSError: Esta excepción actúa sobre errores producidos en el sistema, se relaciona comúnmente a fallas de input - output como lo es \"disk full\"```\n",
    "\n",
    "    Finalmente, complete el código anterior, de manera tal que se imprima en pantalla ```Texto 1``` y ```OSError: Esta excepción actúa sobre errores producidos en el sistema, se relaciona comúnmente a fallas de input - output como lo es \"disk full\"```simultáneamente. \n",
    "\n",
    "    Para este ejercicio, sólo podrá modificar las lineas de la forma ```_ _ _ _ # Completar N```, puede elegir no escribir en aquellas lineas si lo amerita. \n",
    "\n",
    "    (*hint:* Al imprimir  ```Texto 1``` y ```OSError: Esta ex ...``` en la última parte del ejercicio, debe además esperar un texto de la forma ```  Traceback (most recent call last) ```)\n",
    "\n",
    "3. Otra manera de manejar excepciones es por medio de ```assert()```, esta función es similar a un bloque ```try```-```except``` pero se ejecuta en una linea. Sigue la sintaxis ```assert(accion_logica)``` donde si ```accion_logica``` tiene valor de verdad ```True```, se continua con la ejecución normal del código. En caso contrario se muestra en pantalla una excepción del tipo ```AssertionError```. Verifique si en la variable ```msj``` del ejercicio 1 se encuentra la oración ```'file not found'```, en caso contrario imprima en pantalla el mensaje ```'Se debe agregar el tipo de error!'```. Utilice ```try```, ```except``` y ```assert```. (*Hint:* se puede hacer en 4 lineas)\n",
    "\n",
    "\n",
    "---"
   ]
  },
  {
   "cell_type": "markdown",
   "metadata": {},
   "source": [
    "### Finally\n",
    "\n",
    "Por último, se puede agrear una orden de *limpieza* a un bloque ```try```, para ello se utiliza el comando ```finally```, este tipo de código se ejecuta sin importar la aparición de errores, su uso más común conlleva cerrar archivos antes abiertos, cerrar conexiones, borrar objetos de la memoria, etc...\n",
    "\n",
    "La sintaxis para este tipo de orden es:\n",
    "\n",
    "```python\n",
    "try:\n",
    "    accion\n",
    "except: \n",
    "    manejo_de_excepcion\n",
    "else: \n",
    "    accion_alternativa_sin_error\n",
    "finally:\n",
    "    accion_limpieza\n",
    "```"
   ]
  },
  {
   "cell_type": "markdown",
   "metadata": {},
   "source": [
    "> **Ejemplo 📖** \n",
    "\n",
    "A continuación se muestra un bloque en el que aparece un error y se realiza un acción de limpieza."
   ]
  },
  {
   "cell_type": "code",
   "execution_count": null,
   "metadata": {},
   "outputs": [],
   "source": [
    "try:\n",
    "    b = 5\n",
    "    a = 0/0\n",
    "    b += a\n",
    "except:\n",
    "    print('Con errores \\n')\n",
    "else:\n",
    "    print('Sin errores \\n')\n",
    "finally:\n",
    "    print('Limpieza \\n')\n",
    "    del b"
   ]
  },
  {
   "cell_type": "markdown",
   "metadata": {
    "ExecuteTime": {
     "end_time": "2021-03-29T15:56:14.429221Z",
     "start_time": "2021-03-29T15:56:14.413252Z"
    }
   },
   "source": [
    "---\n",
    "\n",
    "> **Ejercicio ✏️**\n",
    "\n",
    "1. ¿Qué tipo de excepción aparece en el ejemplo anterior?¿qué diferencia hay entre ```else``` y ```finally```?"
   ]
  }
 ],
 "metadata": {
  "kernelspec": {
   "display_name": "Python 3 (ipykernel)",
   "language": "python",
   "name": "python3"
  },
  "language_info": {
   "codemirror_mode": {
    "name": "ipython",
    "version": 3
   },
   "file_extension": ".py",
   "mimetype": "text/x-python",
   "name": "python",
   "nbconvert_exporter": "python",
   "pygments_lexer": "ipython3",
   "version": "3.9.7"
  },
  "nbTranslate": {
   "displayLangs": [
    "es",
    "en"
   ],
   "hotkey": "alt-t",
   "langInMainMenu": true,
   "sourceLang": "en",
   "targetLang": "es",
   "useGoogleTranslate": true
  },
  "toc": {
   "base_numbering": 1,
   "nav_menu": {},
   "number_sections": true,
   "sideBar": true,
   "skip_h1_title": false,
   "title_cell": "Table of Contents",
   "title_sidebar": "Contents",
   "toc_cell": false,
   "toc_position": {
    "height": "calc(100% - 180px)",
    "left": "10px",
    "top": "150px",
    "width": "269.867px"
   },
   "toc_section_display": true,
   "toc_window_display": false
  },
  "varInspector": {
   "cols": {
    "lenName": 16,
    "lenType": 16,
    "lenVar": 40
   },
   "kernels_config": {
    "python": {
     "delete_cmd_postfix": "",
     "delete_cmd_prefix": "del ",
     "library": "var_list.py",
     "varRefreshCmd": "print(var_dic_list())"
    },
    "r": {
     "delete_cmd_postfix": ") ",
     "delete_cmd_prefix": "rm(",
     "library": "var_list.r",
     "varRefreshCmd": "cat(var_dic_list()) "
    }
   },
   "types_to_exclude": [
    "module",
    "function",
    "builtin_function_or_method",
    "instance",
    "_Feature"
   ],
   "window_display": false
  }
 },
 "nbformat": 4,
 "nbformat_minor": 4
}
