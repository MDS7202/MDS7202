{
 "cells": [
  {
   "cell_type": "markdown",
   "metadata": {},
   "source": [
    "#  Clase 3: Programación Funcional\n",
    "\n",
    "**MDS7202: Laboratorio de Programación Científica para Ciencia de Datos**\n",
    "\n",
    "**Profesor: Pablo Badilla**\n",
    "\n",
    "Basadas en las clases de Nicolás Caro\n",
    "\n",
    "\n",
    "## Objetivos de la Clase:\n",
    "\n",
    "Entender como se implementan en Python:\n",
    "\n",
    "- Sintaxis de Funciones en Python\n",
    "- Scopes\n",
    "- Testing\n",
    "- Funciones lambda\n",
    "- Referencias y Mutabilidad\n",
    "- Decoradores\n"
   ]
  },
  {
   "cell_type": "markdown",
   "metadata": {},
   "source": [
    "\n",
    "## Brevísimo Repaso de Python"
   ]
  },
  {
   "cell_type": "markdown",
   "metadata": {
    "ExecuteTime": {
     "end_time": "2021-03-24T12:37:32.164723Z",
     "start_time": "2021-03-24T12:37:32.152721Z"
    }
   },
   "source": [
    "**Asignación de variables y tipos de datos básicos.**"
   ]
  },
  {
   "cell_type": "code",
   "execution_count": null,
   "metadata": {
    "ExecuteTime": {
     "end_time": "2021-03-24T19:20:51.069058Z",
     "start_time": "2021-03-24T19:20:51.054059Z"
    }
   },
   "outputs": [],
   "source": [
    "texto = \"Empanada de queso - Ingredientes: Harina sin polvos de hornear 500 gr.\"\n",
    "numero = 235\n",
    "numero_decimal = 100.234\n",
    "\n",
    "print(texto)\n",
    "print(texto.split('-')) "
   ]
  },
  {
   "cell_type": "code",
   "execution_count": null,
   "metadata": {
    "ExecuteTime": {
     "end_time": "2021-03-24T19:21:46.816594Z",
     "start_time": "2021-03-24T19:21:46.797584Z"
    },
    "scrolled": true
   },
   "outputs": [],
   "source": [
    "print('Puedo formatear un string anteponiendo una \"f\" al string usando los {variable} con una variable dentro de estos')\n",
    "print(f'Ejemplo:\\n\\tEl valor del número en la variable \"numero\" es: {numero}')\n",
    "\n",
    "# \\n en un string nos permite hacer saltos de linea.\n",
    "# \\t en un string nos permite hacer tabs."
   ]
  },
  {
   "cell_type": "markdown",
   "metadata": {
    "ExecuteTime": {
     "end_time": "2021-03-24T12:42:35.095287Z",
     "start_time": "2021-03-24T12:42:35.079288Z"
    }
   },
   "source": [
    "**Operaciones entre números**"
   ]
  },
  {
   "cell_type": "code",
   "execution_count": null,
   "metadata": {
    "ExecuteTime": {
     "end_time": "2021-03-24T19:22:04.805743Z",
     "start_time": "2021-03-24T19:22:04.787776Z"
    }
   },
   "outputs": [],
   "source": [
    "print(f\"numero * 2 = {numero * 2} (numero multiplicado por 2)\")\n",
    "print(f\"numero ** 2 = {numero ** 2} (numero elevado a 2)\")\n",
    "print(f\"numero / 2 = {numero / 2} (numero divido en 2)\")\n",
    "print(f\"numero // 2 {numero // 2} (parte entera de la división del número por 2\")\n",
    "print(f\"numero % 2: {numero % 2} (módulo del número dividido en 2 )\")"
   ]
  },
  {
   "cell_type": "code",
   "execution_count": null,
   "metadata": {},
   "outputs": [],
   "source": [
    "\"hola\"*5"
   ]
  },
  {
   "cell_type": "markdown",
   "metadata": {},
   "source": [
    "**Listas**"
   ]
  },
  {
   "cell_type": "code",
   "execution_count": null,
   "metadata": {
    "ExecuteTime": {
     "end_time": "2021-03-24T19:26:00.450958Z",
     "start_time": "2021-03-24T19:26:00.439960Z"
    }
   },
   "outputs": [],
   "source": [
    "# Lista: estructura mutable que permite almacenar datos. \n",
    "# Los datos almacenados en la lista están indexados desde el 0.\n",
    "lista =   [0, 10, 20, 30, 40]\n",
    "indices = [0, 1,  2,  3,  4]\n",
    "print(f'lista: {lista}')\n",
    "\n",
    "\n",
    "elemento_0 = lista[0]\n",
    "print(f'Accedo al elemento en el índice 0 de la lista: {elemento_0}')\n",
    "\n",
    "ultimo_elemento = lista[-1]\n",
    "print(f'Accedo al elemento último elemento de la lista: {ultimo_elemento}')\n",
    "\n",
    "lista[1] = -10\n",
    "print(f'Asigno -10 a la posición en el índice \"1\" de la lista: {lista}')\n"
   ]
  },
  {
   "cell_type": "code",
   "execution_count": null,
   "metadata": {
    "ExecuteTime": {
     "end_time": "2021-03-24T19:26:02.718055Z",
     "start_time": "2021-03-24T19:26:02.700055Z"
    }
   },
   "outputs": [],
   "source": [
    "#Puedo seleccionar la sublista de una lista (slice) haciendo lista[inicio:fin]\n",
    "\n",
    "print(f'Slice de la lista en [2,4]: {lista[2:4]}')"
   ]
  },
  {
   "cell_type": "code",
   "execution_count": null,
   "metadata": {
    "ExecuteTime": {
     "end_time": "2021-03-24T19:26:23.884536Z",
     "start_time": "2021-03-24T19:26:23.863535Z"
    }
   },
   "outputs": [],
   "source": [
    "lista = [0, 10, 20, 30, 40]\n",
    "\n",
    "# agrego el elemento al final de la lista\n",
    "lista.append(50) \n",
    "print(f'lista después del append: {lista}')\n"
   ]
  },
  {
   "cell_type": "code",
   "execution_count": null,
   "metadata": {},
   "outputs": [],
   "source": [
    "# Elimino el elemento en el índice 0 de la lista. El ínidice que elimino es parámetro de la función.\n",
    "lista.pop(0) \n",
    "print(f'lista después del pop: {lista}')"
   ]
  },
  {
   "cell_type": "code",
   "execution_count": null,
   "metadata": {},
   "outputs": [],
   "source": [
    "# Indice en donde encontré el primer 50 (de izquierda a derecha)\n",
    "print(f'lista.index(50) = {lista.index(50)}')"
   ]
  },
  {
   "cell_type": "code",
   "execution_count": null,
   "metadata": {
    "ExecuteTime": {
     "end_time": "2021-03-24T19:27:37.356961Z",
     "start_time": "2021-03-24T19:27:37.350959Z"
    }
   },
   "outputs": [],
   "source": [
    "# Puedo iterar sobre la lista y hacer determinadas operaciones:\n",
    "    \n",
    "lista_al_cuadrado = []\n",
    "\n",
    "for numero in lista:\n",
    "    print(numero, numero ** 2)\n",
    "    lista_al_cuadrado.append(numero ** 2)\n",
    "    \n",
    "print(lista_al_cuadrado)"
   ]
  },
  {
   "cell_type": "code",
   "execution_count": null,
   "metadata": {
    "ExecuteTime": {
     "end_time": "2021-03-24T19:28:09.374164Z",
     "start_time": "2021-03-24T19:28:09.366167Z"
    }
   },
   "outputs": [],
   "source": [
    "# Usando List Comprehension\n",
    "\n",
    "lista_al_cuadrado_2 = [numero ** 2 for numero in lista]\n",
    "\n",
    "print(lista_al_cuadrado_2)"
   ]
  },
  {
   "cell_type": "markdown",
   "metadata": {},
   "source": [
    "**Tuplas**"
   ]
  },
  {
   "cell_type": "code",
   "execution_count": null,
   "metadata": {
    "ExecuteTime": {
     "end_time": "2021-03-24T19:28:28.945583Z",
     "start_time": "2021-03-24T19:28:28.930585Z"
    }
   },
   "outputs": [],
   "source": [
    "# Coleccion inmutable\n",
    "\n",
    "t = (1,2,3,4)\n",
    "t[1]"
   ]
  },
  {
   "cell_type": "code",
   "execution_count": null,
   "metadata": {},
   "outputs": [],
   "source": [
    "t[1] = 100"
   ]
  },
  {
   "cell_type": "markdown",
   "metadata": {},
   "source": [
    "**Condicionales**"
   ]
  },
  {
   "cell_type": "code",
   "execution_count": null,
   "metadata": {
    "ExecuteTime": {
     "end_time": "2021-03-24T19:29:37.344549Z",
     "start_time": "2021-03-24T19:29:37.336549Z"
    }
   },
   "outputs": [],
   "source": [
    "animal = 'perro'\n",
    "\n",
    "if animal == 'perro':\n",
    "    print('🐶')\n",
    "elif animal == 'gato':\n",
    "    print('😺')\n",
    "elif animal == 'pez':\n",
    "    print(':pez:')\n",
    "else:\n",
    "    print('🐄')"
   ]
  },
  {
   "cell_type": "markdown",
   "metadata": {},
   "source": [
    "**Diccionarios**\n",
    "\n",
    "Estructura que nos permite almacenar información en forma de llave-valor.\n"
   ]
  },
  {
   "cell_type": "code",
   "execution_count": null,
   "metadata": {
    "ExecuteTime": {
     "end_time": "2021-03-24T19:30:33.497808Z",
     "start_time": "2021-03-24T19:30:33.483792Z"
    }
   },
   "outputs": [],
   "source": [
    "gato = {\n",
    "    'clase': 'mamífero',\n",
    "    'patas': 4,\n",
    "    'ojos': 2,\n",
    "    'comunicación': ['maullido', 'ronroneo'],\n",
    "    'meme': True,\n",
    "}\n",
    "print(f'Llaves: {gato.keys()}\\n')\n",
    "print(f'Valores: {gato.values()}\\n')\n",
    "print(f'Items: {gato.items()}\\n')\n"
   ]
  },
  {
   "cell_type": "markdown",
   "metadata": {},
   "source": [
    "## Programación de Funciones en Python\n",
    "\n",
    "\n",
    "Una función es un segmento de código separado del código principal, la cual puede ser invocada desde cualquier otro punto del programa (incluyendo de si misma).\n",
    "\n",
    "### Sintaxis\n",
    "\n",
    "- En Python, una función se define por medio de la keyword ```def``` seguido por el nombre y los parámetros que recibirá de entrada la función. (i.e., `def funcion(parametro_1, ...)`)\n",
    "\n",
    "- Asociada a está orden se encuentra la orden ```return```. Esta permite que valores definidos dentro de la función puedan ser retornadas hacia el exterior.  Una función definida sin la orden ```return``` entrega como resultado el tipo de datos ```None```.\n",
    "\n",
    "- Para invocar una función (*ejecutarla*), se utiliza el nombre de la función junto a dos paréntesis que encierran los argumentos (i.e., `nombre_funcion(argumento_1, ...)` .\n",
    "\n",
    "Ya hemos estudiado funciones básicas de Python, como lo son ```print()```.\n",
    "\n",
    "> **Nota 📝**: Parametro es el nombre de la variable dentro de la función. Argumento es el valor que le pasamos a el parámetro al momento de invocar la función. Se pueden usar indistintivamente.\n",
    "\n",
    "> **Ejemplo 📖**\n",
    "\n",
    "La función ```sumar(a, b)``` que suma dos número esta definida por:"
   ]
  },
  {
   "cell_type": "code",
   "execution_count": null,
   "metadata": {
    "ExecuteTime": {
     "end_time": "2021-03-24T19:33:00.449286Z",
     "start_time": "2021-03-24T19:33:00.434278Z"
    }
   },
   "outputs": [],
   "source": [
    "def sumar(a, b):\n",
    "    # asigno una nueva variable con la suma de a y b\n",
    "    c = a + b\n",
    "    print(f'a : {a} | b : {b} | c : {c}')\n",
    "    # retorno la variable para que su valor pueda ser utilizado fuera de la función.\n",
    "    return c"
   ]
  },
  {
   "cell_type": "markdown",
   "metadata": {},
   "source": [
    "Para invocar la función (ejecutarla), hacemos uso de la sintáxis `nombre_funcion(arg_1, arg_2)`"
   ]
  },
  {
   "cell_type": "code",
   "execution_count": null,
   "metadata": {
    "ExecuteTime": {
     "end_time": "2021-03-24T19:33:30.473840Z",
     "start_time": "2021-03-24T19:33:30.452812Z"
    }
   },
   "outputs": [],
   "source": [
    "sumar(10, 20)"
   ]
  },
  {
   "cell_type": "code",
   "execution_count": null,
   "metadata": {
    "ExecuteTime": {
     "end_time": "2021-03-24T19:33:46.931701Z",
     "start_time": "2021-03-24T19:33:46.912703Z"
    },
    "scrolled": true
   },
   "outputs": [],
   "source": [
    "resultado = sumar(10, 200)\n",
    "resultado"
   ]
  },
  {
   "cell_type": "markdown",
   "metadata": {},
   "source": [
    "> **Pregunta ❓:** ¿Qué sucede con la variable `c` definida dentro de la función?"
   ]
  },
  {
   "cell_type": "code",
   "execution_count": null,
   "metadata": {
    "ExecuteTime": {
     "end_time": "2021-03-24T19:35:09.838952Z",
     "start_time": "2021-03-24T19:35:09.828938Z"
    }
   },
   "outputs": [],
   "source": [
    "print(c)"
   ]
  },
  {
   "cell_type": "markdown",
   "metadata": {},
   "source": [
    "Las funciones de python tambíen aceptan parámetros nombrados. Es decir, al invocar la función indicarle especificamente el valor de cada parámetro por su nombre."
   ]
  },
  {
   "cell_type": "code",
   "execution_count": null,
   "metadata": {
    "ExecuteTime": {
     "end_time": "2021-03-24T19:36:06.139377Z",
     "start_time": "2021-03-24T19:36:06.120379Z"
    }
   },
   "outputs": [],
   "source": [
    "sumar(a=10, b=20)"
   ]
  },
  {
   "cell_type": "code",
   "execution_count": null,
   "metadata": {
    "ExecuteTime": {
     "end_time": "2021-03-24T19:36:19.661112Z",
     "start_time": "2021-03-24T19:36:19.643112Z"
    }
   },
   "outputs": [],
   "source": [
    "sumar(b=10, a=20)"
   ]
  },
  {
   "cell_type": "markdown",
   "metadata": {},
   "source": [
    "> **Pregunta ❓**: ¿Puede tener 0 parámetros una función?¿Y pueden tener n?"
   ]
  },
  {
   "cell_type": "code",
   "execution_count": null,
   "metadata": {
    "ExecuteTime": {
     "end_time": "2021-03-24T19:37:26.217558Z",
     "start_time": "2021-03-24T19:37:26.198563Z"
    }
   },
   "outputs": [],
   "source": [
    "def hola_mundo():\n",
    "    print('Hola!😊')\n",
    "\n",
    "hola_mundo()"
   ]
  },
  {
   "cell_type": "code",
   "execution_count": null,
   "metadata": {
    "ExecuteTime": {
     "end_time": "2021-03-24T19:40:13.564653Z",
     "start_time": "2021-03-24T19:40:13.555653Z"
    }
   },
   "outputs": [],
   "source": [
    "def funcion_n_parametros(*args, **kwargs):\n",
    "    # args= parámetros sin nombre\n",
    "    print(args)\n",
    "    # kwargs = parámetros nombrados.\n",
    "    print(kwargs)\n",
    "\n",
    "\n",
    "funcion_n_parametros(1, 2, 3, 4, 5, 6, 7, 8, 9, 10, 11, 12, parametro_nombrado_1=True,\n",
    "                     parametro_nombrado_2=False, parametro_nombrado_5=False)"
   ]
  },
  {
   "cell_type": "code",
   "execution_count": null,
   "metadata": {},
   "outputs": [],
   "source": [
    "argumentos = {'parametro_nombrado_1': True, 'parametro_nombrado_2': False, 'parametro_nombrado_5': False}\n",
    "funcion_n_parametros(**argumentos)"
   ]
  },
  {
   "cell_type": "code",
   "execution_count": null,
   "metadata": {},
   "outputs": [],
   "source": [
    "def suma_n(*args): \n",
    "    acum = 0\n",
    "    for i in args:\n",
    "        acum += i\n",
    "    return acum"
   ]
  },
  {
   "cell_type": "code",
   "execution_count": null,
   "metadata": {},
   "outputs": [],
   "source": [
    "suma_n(1, 2, 3, 4, 5, 6, 7, 8, 9, 10, 11, 12, 13, 15)"
   ]
  },
  {
   "cell_type": "markdown",
   "metadata": {},
   "source": [
    "Los parámetros también pueden tener valores por defecto:\n",
    "\n",
    "\n",
    "> **Nota 📝:** Los parámetros con valores por defecto deben ser declarados a la derecha de todos aquellos parámetros sin valores predefinidos.\n"
   ]
  },
  {
   "cell_type": "code",
   "execution_count": null,
   "metadata": {
    "ExecuteTime": {
     "end_time": "2021-03-24T19:42:01.164527Z",
     "start_time": "2021-03-24T19:42:01.146528Z"
    }
   },
   "outputs": [],
   "source": [
    "def sumar_2(a, b=2, advertencias=False):\n",
    "    if advertencias == True:\n",
    "        print('Cuidado')\n",
    "    c = a + b\n",
    "    print(f'a : {a} | b : {b} | c : {c}')\n",
    "    return c"
   ]
  },
  {
   "cell_type": "code",
   "execution_count": null,
   "metadata": {
    "ExecuteTime": {
     "end_time": "2021-03-24T19:41:06.740132Z",
     "start_time": "2021-03-24T19:41:06.729133Z"
    }
   },
   "outputs": [],
   "source": [
    "sumar_2(10)"
   ]
  },
  {
   "cell_type": "code",
   "execution_count": null,
   "metadata": {
    "ExecuteTime": {
     "end_time": "2021-03-24T19:41:13.816210Z",
     "start_time": "2021-03-24T19:41:13.803213Z"
    },
    "scrolled": true
   },
   "outputs": [],
   "source": [
    "sumar_2(10, 2000)"
   ]
  },
  {
   "cell_type": "code",
   "execution_count": null,
   "metadata": {
    "ExecuteTime": {
     "end_time": "2021-03-24T19:41:29.891166Z",
     "start_time": "2021-03-24T19:41:29.882167Z"
    }
   },
   "outputs": [],
   "source": [
    "sumar_2(10, advertencias=True)"
   ]
  },
  {
   "cell_type": "markdown",
   "metadata": {},
   "source": [
    "Y también se pueden retornar múltiples valores"
   ]
  },
  {
   "cell_type": "code",
   "execution_count": null,
   "metadata": {
    "ExecuteTime": {
     "end_time": "2021-03-24T19:42:52.488689Z",
     "start_time": "2021-03-24T19:42:52.470551Z"
    }
   },
   "outputs": [],
   "source": [
    "def operaciones(a, b):\n",
    "    suma = a+b\n",
    "    resta = a-b\n",
    "    mult = a*b\n",
    "    div = a/b\n",
    "    \n",
    "    return suma, resta, mult, div"
   ]
  },
  {
   "cell_type": "markdown",
   "metadata": {},
   "source": [
    "> **Pregunta ❓**: ¿Qué retorno cuando hay varias variables en el return?"
   ]
  },
  {
   "cell_type": "code",
   "execution_count": null,
   "metadata": {
    "ExecuteTime": {
     "end_time": "2021-03-24T19:43:07.637016Z",
     "start_time": "2021-03-24T19:43:07.624019Z"
    }
   },
   "outputs": [],
   "source": [
    "operaciones(5,2)"
   ]
  },
  {
   "cell_type": "code",
   "execution_count": null,
   "metadata": {
    "ExecuteTime": {
     "end_time": "2021-03-24T19:43:30.351313Z",
     "start_time": "2021-03-24T19:43:30.339306Z"
    },
    "scrolled": true
   },
   "outputs": [],
   "source": [
    "type(operaciones(5,2))"
   ]
  },
  {
   "cell_type": "markdown",
   "metadata": {},
   "source": [
    "### Scopes \n",
    "\n",
    "En cada función se define un entorno de variables o *namespace*, esto quiere decir, que para cada función existe un conjunto de variables (o nombres) los cuales no tienen una relación *a priori* con las variables fuera de la función. \n",
    "\n",
    "Esto permite dilucidar la noción de **scope**, este concepto, se refiere al área donde son definidas las variables, por defecto en Python, aquellas variables no pueden interactuar fuera de tal área. \n",
    "\n",
    "Se pueden diferenciar 3 tipos de scopes:\n",
    "\n",
    "1. Global: variables (u objetos si se desea) definidas en el cuerpo del código.\n",
    "2. Local: variables definidas dentro de una función.\n",
    "3. Built-in: variables predefinidas por el modulo built-in's (como ```print()``` por ejemplo.)\n"
   ]
  },
  {
   "cell_type": "code",
   "execution_count": null,
   "metadata": {
    "ExecuteTime": {
     "end_time": "2021-03-24T19:45:21.182553Z",
     "start_time": "2021-03-24T19:45:21.172556Z"
    }
   },
   "outputs": [],
   "source": [
    "n = 5\n",
    "\n",
    "def suma_n(a):\n",
    "    c = a + n\n",
    "    print(c)\n",
    "    return c\n",
    "\n",
    "suma_n(10)"
   ]
  },
  {
   "cell_type": "markdown",
   "metadata": {},
   "source": [
    "> **Pregunta ❓**: ¿Qué sucederá en la siguiente celda?"
   ]
  },
  {
   "cell_type": "code",
   "execution_count": null,
   "metadata": {
    "ExecuteTime": {
     "end_time": "2021-03-24T19:45:44.129517Z",
     "start_time": "2021-03-24T19:45:44.114528Z"
    }
   },
   "outputs": [],
   "source": [
    "print(c)"
   ]
  },
  {
   "cell_type": "markdown",
   "metadata": {},
   "source": [
    "> **Pregunta ❓**: ¿Qué sucederá en la siguiente celda?"
   ]
  },
  {
   "cell_type": "code",
   "execution_count": null,
   "metadata": {
    "ExecuteTime": {
     "end_time": "2021-03-24T19:47:02.624894Z",
     "start_time": "2021-03-24T19:47:02.608922Z"
    },
    "scrolled": true
   },
   "outputs": [],
   "source": [
    "n = 5\n",
    "\n",
    "def suma_n(a):\n",
    "    #n = 10\n",
    "    c = a + n\n",
    "    print(f'El valor de n es {n}')\n",
    "    return c\n",
    "\n",
    "suma_n(10)"
   ]
  },
  {
   "cell_type": "code",
   "execution_count": null,
   "metadata": {
    "ExecuteTime": {
     "end_time": "2021-03-24T19:47:06.006789Z",
     "start_time": "2021-03-24T19:47:05.996789Z"
    },
    "scrolled": true
   },
   "outputs": [],
   "source": [
    "print(f'El valor de n es {n}')"
   ]
  },
  {
   "cell_type": "markdown",
   "metadata": {
    "ExecuteTime": {
     "end_time": "2021-03-24T14:18:00.730608Z",
     "start_time": "2021-03-24T14:18:00.721578Z"
    }
   },
   "source": [
    "#### Variables globales"
   ]
  },
  {
   "cell_type": "markdown",
   "metadata": {},
   "source": [
    "La orden ```global``` permite acceder a variables del scope global desde uno local, suponiendo que se desea acceder a la variable global ```var```, desde la función ```func()``` se sigue la sintaxis:\n",
    "\n",
    "```python\n",
    "def func(params):\n",
    "    global var\n",
    "    actions \n",
    "    return vals #opcional\n",
    "```"
   ]
  },
  {
   "cell_type": "code",
   "execution_count": null,
   "metadata": {
    "ExecuteTime": {
     "end_time": "2021-03-24T19:49:03.557473Z",
     "start_time": "2021-03-24T19:49:03.547475Z"
    }
   },
   "outputs": [],
   "source": [
    "n = 5\n",
    "\n",
    "def suma_n_global(a, n):\n",
    "    global n\n",
    "    n = 10\n",
    "    c = a + n\n",
    "    print(f'El valor de n es {n}')\n",
    "    return c\n",
    "\n",
    "suma_n_global(10)"
   ]
  },
  {
   "cell_type": "code",
   "execution_count": null,
   "metadata": {
    "ExecuteTime": {
     "end_time": "2021-03-24T19:49:04.140479Z",
     "start_time": "2021-03-24T19:49:04.122475Z"
    },
    "scrolled": true
   },
   "outputs": [],
   "source": [
    "print(f'El valor de n es {n}')"
   ]
  },
  {
   "cell_type": "markdown",
   "metadata": {
    "ExecuteTime": {
     "end_time": "2021-03-24T14:20:27.993890Z",
     "start_time": "2021-03-24T14:20:27.978885Z"
    }
   },
   "source": [
    "#### Locals\n",
    "\n",
    "Pueden ver que variables hay en el scope local usando la función `locals()`"
   ]
  },
  {
   "cell_type": "code",
   "execution_count": null,
   "metadata": {
    "ExecuteTime": {
     "end_time": "2021-03-24T19:49:16.727056Z",
     "start_time": "2021-03-24T19:49:16.723056Z"
    }
   },
   "outputs": [],
   "source": [
    "n = 5\n",
    "\n",
    "def suma_n(a):\n",
    "    n = 10\n",
    "    c = a + n\n",
    "    print(f'Las variables locales de la función son {locals()}')\n",
    "    return c"
   ]
  },
  {
   "cell_type": "code",
   "execution_count": null,
   "metadata": {
    "ExecuteTime": {
     "end_time": "2021-03-24T19:49:18.524853Z",
     "start_time": "2021-03-24T19:49:18.514853Z"
    }
   },
   "outputs": [],
   "source": [
    "suma_n(10)"
   ]
  },
  {
   "cell_type": "markdown",
   "metadata": {},
   "source": [
    "### Unit Testing\n",
    "\n",
    "\n",
    "El *unit testing* o pruebas unitarias es un método para comprobar el correcto funcionamiento de un segmento de código o función.\n",
    "La idea es crear casos de prueba en donde sabemos que valores debería retornar una función y luego comprobar que la función efectivamente los retorne. \n",
    "\n",
    "Para esto, los test que creemos deben ser determinísticos (no aleatorios) y repetibles. \n",
    "\n",
    "\n",
    "Python provee la *keyword* `assert` la cual verifica el valor de una condición: \n",
    "\n",
    "- Si es `True` continua la ejecución. \n",
    "- Si es `False`, lanza la excepción `AssertionError` y detiene la ejecución.\n",
    "\n",
    "> **Ejemplo 📖**\n"
   ]
  },
  {
   "cell_type": "code",
   "execution_count": null,
   "metadata": {
    "ExecuteTime": {
     "end_time": "2021-03-24T19:52:21.820347Z",
     "start_time": "2021-03-24T19:52:21.802304Z"
    }
   },
   "outputs": [],
   "source": [
    "def suma(a, b):\n",
    "    return a+b"
   ]
  },
  {
   "cell_type": "code",
   "execution_count": null,
   "metadata": {
    "ExecuteTime": {
     "end_time": "2021-03-24T19:52:39.018445Z",
     "start_time": "2021-03-24T19:52:39.011446Z"
    }
   },
   "outputs": [],
   "source": [
    "def suma(a, b):\n",
    "    return a+b\n",
    "\n",
    "assert suma(2,3) == 5"
   ]
  },
  {
   "cell_type": "code",
   "execution_count": null,
   "metadata": {
    "ExecuteTime": {
     "end_time": "2021-03-24T19:53:28.730146Z",
     "start_time": "2021-03-24T19:53:28.721136Z"
    }
   },
   "outputs": [],
   "source": [
    "# La idea es hacer varios casos de prueba unitarios.\n",
    "assert suma(2,-3) == -1\n",
    "assert suma(99999,1) == 100000\n",
    "assert suma(3,3) != 5"
   ]
  },
  {
   "cell_type": "markdown",
   "metadata": {
    "ExecuteTime": {
     "end_time": "2021-03-24T15:34:18.662574Z",
     "start_time": "2021-03-24T15:34:18.647544Z"
    }
   },
   "source": [
    "Si por ejemplo, ahora modifico la función suma y multiplico a y b, el test debería fallar."
   ]
  },
  {
   "cell_type": "code",
   "execution_count": null,
   "metadata": {
    "ExecuteTime": {
     "end_time": "2021-03-24T19:53:49.277547Z",
     "start_time": "2021-03-24T19:53:49.249539Z"
    }
   },
   "outputs": [],
   "source": [
    "def suma(a, b):\n",
    "    return a+b+1\n",
    "\n",
    "assert suma(2,3) == 5"
   ]
  },
  {
   "cell_type": "code",
   "execution_count": null,
   "metadata": {
    "ExecuteTime": {
     "end_time": "2021-03-24T19:54:07.915018Z",
     "start_time": "2021-03-24T19:54:07.900019Z"
    },
    "scrolled": true
   },
   "outputs": [],
   "source": [
    "# Le podemos indicar que nos entregue un mensaje de error\n",
    "\n",
    "assert suma(3,2) == 5, 'Error al sumar'"
   ]
  },
  {
   "cell_type": "markdown",
   "metadata": {
    "ExecuteTime": {
     "end_time": "2021-03-24T15:35:22.876002Z",
     "start_time": "2021-03-24T15:35:22.855969Z"
    }
   },
   "source": [
    "> Nota interesante 📝:\n",
    "\n",
    "    \"Program testing can be used to show the presence of bugs, but never to show their absence!\"\n",
    "    \n",
    "                                                                         —Edsger Dijkstra, 1970"
   ]
  },
  {
   "cell_type": "markdown",
   "metadata": {},
   "source": [
    "**Paréntesis: TDD y pruebas unitarias**\n",
    "\n",
    "El test driven development (TDD) o desarrollo guiado por pruebas implica desarrollar las pruebas unitarias a las que se va a someter el software antes de escribirlo.\n",
    "De esta manera, el desarrollo se realiza atendiendo a los requisitos que se han establecido en la prueba que deberá pasar.\n",
    "\n",
    "(Fuente: https://www.yeeply.com/blog/que-son-pruebas-unitarias/)"
   ]
  },
  {
   "cell_type": "markdown",
   "metadata": {},
   "source": [
    "---\n",
    "> **Ejercicio 💻**\n",
    "\n",
    "Programe la función `promedio(lista)` que calcule el promedio de una lista y luego haga una serie de test unitarios que comprueben su funcionamiento. \n",
    "¿Qué pasa cuando el promedio es float?\n"
   ]
  },
  {
   "cell_type": "code",
   "execution_count": null,
   "metadata": {
    "ExecuteTime": {
     "end_time": "2021-03-24T19:20:37.332510Z",
     "start_time": "2021-03-24T19:20:37.172Z"
    }
   },
   "outputs": [],
   "source": [
    "def promedio(lista):\n",
    "    pass"
   ]
  },
  {
   "cell_type": "markdown",
   "metadata": {},
   "source": [
    "---"
   ]
  },
  {
   "cell_type": "markdown",
   "metadata": {},
   "source": [
    "### Funciones lambda\n",
    "\n",
    "Cuando se trabaja con funciones simples, la notación ```def``` puede ser \n",
    "lenta e innecesaria. En este contexto, Python posee las funciones **lambda**. Estas se pueden considerar como un análogo de las funciones, como *list comprehension* en relación a los ciclos. \n",
    "\n",
    "> **Ejemplo 📖**\n",
    "\n",
    "La sintaxis es bastante sencilla. Por ejemplo si se quiere definir la función:"
   ]
  },
  {
   "cell_type": "code",
   "execution_count": null,
   "metadata": {
    "ExecuteTime": {
     "end_time": "2021-03-24T19:57:28.684940Z",
     "start_time": "2021-03-24T19:57:28.663933Z"
    },
    "scrolled": true
   },
   "outputs": [],
   "source": [
    "def mult_5(x):\n",
    "    return x*5\n",
    "\n",
    "mult_5(10)"
   ]
  },
  {
   "cell_type": "markdown",
   "metadata": {},
   "source": [
    "Esta se puede reemplazar por\n"
   ]
  },
  {
   "cell_type": "code",
   "execution_count": null,
   "metadata": {
    "ExecuteTime": {
     "end_time": "2021-03-24T19:58:33.315275Z",
     "start_time": "2021-03-24T19:58:33.306276Z"
    }
   },
   "outputs": [],
   "source": [
    "lambda_mult_5 = lambda x: 5*x\n",
    "\n",
    "print(lambda_mult_5(10))"
   ]
  },
  {
   "cell_type": "markdown",
   "metadata": {},
   "source": [
    "Es decir, se sigue la sintaxis:\n",
    "\n",
    "```python\n",
    "func_name = lambda arg_1, arg_2: action\n",
    "```\n"
   ]
  },
  {
   "cell_type": "markdown",
   "metadata": {},
   "source": [
    "## Programación Funcional con Map, Filter y Reduce\n",
    "\n",
    "<br>\n",
    "<br>\n",
    "\n",
    "<div align='center'>\n",
    "<img alt=\"Map, filter y reduce\" src=\"./resources/map_filter_reduce.jpeg\" width=600/>\n",
    "</div>\n",
    "<br>\n",
    "\n",
    "<div align='center'>Fuente: <a href='https://towardsdatascience.com/accelerate-your-python-list-handling-with-map-filter-and-reduce-d70941b19e52'>Map, Filter And Reduce In Pure Python</a><div/>\n"
   ]
  },
  {
   "cell_type": "markdown",
   "metadata": {},
   "source": [
    "En ciencia de datos, la utilidad de las funciones ```lambda``` generalmente se asocia a las operaciones ```map()```, ```filter()``` y ```reduce()``` usando usando el modulo functools). Estás operaciones se denotan como **funciones de orden superior** pues reciben otra función como argumento. "
   ]
  },
  {
   "cell_type": "markdown",
   "metadata": {},
   "source": [
    "### Map\n",
    "\n",
    "```map()``` permite aplicar la función objetivo sobre un contenedor (como una lista) elemento por elemento, el resultado es un objeto tipo ```map``` que entre sus características es un iterable.\n"
   ]
  },
  {
   "cell_type": "code",
   "execution_count": 1,
   "metadata": {
    "ExecuteTime": {
     "end_time": "2021-03-25T12:09:31.264131Z",
     "start_time": "2021-03-25T12:09:31.243101Z"
    },
    "scrolled": true
   },
   "outputs": [
    {
     "data": {
      "text/plain": [
       "[1, 4, 9, 16, 25, 36]"
      ]
     },
     "execution_count": 1,
     "metadata": {},
     "output_type": "execute_result"
    }
   ],
   "source": [
    "# Ejemplo iterativo usando for\n",
    "l_r = []\n",
    "for elemento in [1,2,3,4,5,6]:\n",
    "    l_r.append(elemento ** 2)\n",
    "l_r"
   ]
  },
  {
   "cell_type": "code",
   "execution_count": 3,
   "metadata": {
    "ExecuteTime": {
     "end_time": "2021-03-25T12:09:33.167608Z",
     "start_time": "2021-03-25T12:09:33.146621Z"
    }
   },
   "outputs": [
    {
     "data": {
      "text/plain": [
       "<map at 0x7f58281fbd90>"
      ]
     },
     "execution_count": 3,
     "metadata": {},
     "output_type": "execute_result"
    }
   ],
   "source": [
    "lista = [1, 2, 3, 4, 5, 6]\n",
    "\n",
    "map(lambda x: x**2, lista) # Retorna un iterable"
   ]
  },
  {
   "cell_type": "code",
   "execution_count": 4,
   "metadata": {
    "ExecuteTime": {
     "end_time": "2021-03-25T12:09:33.970383Z",
     "start_time": "2021-03-25T12:09:33.953344Z"
    },
    "scrolled": true
   },
   "outputs": [
    {
     "data": {
      "text/plain": [
       "[1, 4, 9, 16, 25, 36]"
      ]
     },
     "execution_count": 4,
     "metadata": {},
     "output_type": "execute_result"
    }
   ],
   "source": [
    " # Retorna un iterable. Para evaluarlo, usar list(map)\n",
    "list(map(lambda x: x**2, lista))"
   ]
  },
  {
   "cell_type": "code",
   "execution_count": null,
   "metadata": {},
   "outputs": [],
   "source": [
    "def al_cuadrado(x):\n",
    "    return x**2"
   ]
  },
  {
   "cell_type": "code",
   "execution_count": 9,
   "metadata": {},
   "outputs": [
    {
     "data": {
      "text/plain": [
       "[1, 1024, 59049, 1048576, 9765625, 60466176]"
      ]
     },
     "execution_count": 9,
     "metadata": {},
     "output_type": "execute_result"
    }
   ],
   "source": [
    "list(map(al_cuadrado, lista))"
   ]
  },
  {
   "cell_type": "markdown",
   "metadata": {},
   "source": [
    "### Filter\n",
    "\n",
    "```filter()``` permite mantener elementos de un arreglo según el valor de verdad asociado a cada uno por la función objetivo.\n"
   ]
  },
  {
   "cell_type": "code",
   "execution_count": 11,
   "metadata": {
    "ExecuteTime": {
     "end_time": "2021-03-25T12:09:39.968542Z",
     "start_time": "2021-03-25T12:09:39.962541Z"
    }
   },
   "outputs": [
    {
     "data": {
      "text/plain": [
       "[2, 4, 6]"
      ]
     },
     "execution_count": 11,
     "metadata": {},
     "output_type": "execute_result"
    }
   ],
   "source": [
    "lista = [1, 2, 3, 4, 5, 6]\n",
    "\n",
    "# Mantener solo numeros pares\n",
    "list(filter(lambda x: x % 2 == 0, lista))"
   ]
  },
  {
   "cell_type": "markdown",
   "metadata": {},
   "source": [
    "### Reduce\n",
    "\n",
    "`reduce()` permite acumular valores de izquierda a derecha según una función sobre algún iterable. La idea es reducir la lista a un solo valor según la función estipulada.\n",
    "El primer argumento de los 2 de la función a pasar es el valor acumulado y el segundo es el valor siguiente de la secuencia.\n",
    "\n",
    "Nota: Hay que importarla desde `functools`\n",
    "\n",
    "Por ejemplo:\n",
    "\n",
    "```python\n",
    "fun = lambda x, y: x + y\n",
    "functools.reduce(fun, [1, 2, ,3, 4, 5])\n",
    "```\n",
    "\n",
    "Al ejecutar esta línea se calcula:\n",
    "\n",
    "0. fun(0, 1)\n",
    "1. fun(1, 2)\n",
    "2. fun(fun(1, 2), 3) \n",
    "3. fun(fun(fun(1, 2), 3), 4)\n",
    "4. fun(fun(fun(fun(1, 2), 3), 4), 5)\n",
    "\n",
    "Lo que en total entrega,\n",
    "\n",
    "$$\\left(\\left(\\left(\\left(1+2\\right)+3\\right)+4\\right)+5 \\right) = 15$$\n",
    "\n",
    "Lo que en total entrega,\n",
    "\n",
    "$$\\left(\\left(\\left(\\left(1+2\\right)+3\\right)+4\\right)+5 \\right) = 15$$\n",
    "\n",
    "\n",
    "`functools.reduce` también tiene un tercer (opcional) argumento, `initializer`, si este es entregado se utiliza como primer elemento en el calculo acumulativo, por lo que si en el caso anterior se tuviera\n",
    "\n",
    "`functools.reduce(fun, [1, 2, ,3, 4, 5], 8)`\n",
    "\n",
    "el resultado sería,\n",
    "\n",
    "$$8 + ((((1+2)+3)+4)+5) = 23$$"
   ]
  },
  {
   "cell_type": "code",
   "execution_count": 12,
   "metadata": {},
   "outputs": [
    {
     "name": "stdout",
     "output_type": "stream",
     "text": [
      "1 1\n",
      "2 3\n",
      "3 6\n",
      "4 10\n",
      "5 15\n",
      "6 21\n"
     ]
    }
   ],
   "source": [
    "lista = [1, 2, 3, 4, 5, 6]\n",
    "\n",
    "acumulador = 0\n",
    "for n in lista:\n",
    "    acumulador = acumulador + n\n",
    "    print(n, acumulador)"
   ]
  },
  {
   "cell_type": "code",
   "execution_count": 13,
   "metadata": {
    "ExecuteTime": {
     "end_time": "2021-03-25T12:09:41.245354Z",
     "start_time": "2021-03-25T12:09:41.226383Z"
    }
   },
   "outputs": [
    {
     "data": {
      "text/plain": [
       "21"
      ]
     },
     "execution_count": 13,
     "metadata": {},
     "output_type": "execute_result"
    }
   ],
   "source": [
    "from functools import reduce\n",
    "\n",
    "lista = [1, 2, 3, 4, 5, 6]\n",
    "\n",
    "# Sumar todos los elementos\n",
    "reduce(lambda a, b: a + b, lista)"
   ]
  },
  {
   "cell_type": "code",
   "execution_count": 14,
   "metadata": {
    "ExecuteTime": {
     "end_time": "2021-03-25T12:09:41.918643Z",
     "start_time": "2021-03-25T12:09:41.898614Z"
    }
   },
   "outputs": [
    {
     "data": {
      "text/plain": [
       "6"
      ]
     },
     "execution_count": 14,
     "metadata": {},
     "output_type": "execute_result"
    }
   ],
   "source": [
    "# Encontrar el máximo\n",
    "reduce(lambda a, b: a if a > b else b, lista)"
   ]
  },
  {
   "cell_type": "markdown",
   "metadata": {},
   "source": [
    "---\n",
    "> **Ejercicios 💻**\n",
    "\n",
    "1. En strings el método ```.upper()``` permite transformar el contenido en mayúsculas. Cree la función ```to_upper(texto)``` que toma un string y retorna una versión en mayúsculas. Utilice la función `map()` sobre cada caracter.\n",
    "\n",
    "\n",
    "2. El método ```.split()```permite obtener todas las palabras de un string. Por otra parte, la función ```len()``` permite obtener el largo de un arreglo o cantidad de letras en una palabra. Cree la función `separador()` que separe un texto por espacios (`' '`) y quite todas aquellas palabras de tamaño 3 o menos usando `filter()`. \n",
    "\n",
    "3. Cree la función `mayus_r()` la cual transforme a mayúsculas todas las palabras que terminen en 'r'. Considere  además cada palabra como una lista y acceda la última letra con el slice correspondiente. Utilice ```map()``` más las herramientas que crea necesarias para resolver este problema.\n",
    "\n",
    "4. Cree la función `promedio(lista)` la cual calcule el promedio usando solo las funciones `reduce()` y `len()`\n",
    "\n",
    "4. Crea test unitarios independientes que prueben estas funciones.\n",
    "\n",
    "---"
   ]
  },
  {
   "cell_type": "code",
   "execution_count": null,
   "metadata": {
    "ExecuteTime": {
     "end_time": "2021-03-24T19:20:37.349511Z",
     "start_time": "2021-03-24T19:20:37.271Z"
    }
   },
   "outputs": [],
   "source": [
    "# Pueden usar este texto de ejemplo para hacer los ejercicios\n",
    "\n",
    "texto_ejemplo = \"\"\"Budín de zapallos italianos\n",
    "Una tradicional receta chilena, que siempre me ha gustado mucho.\n",
    "Acá estamos en plena temporada de zapallos italianos y aunque aún no he cosechado ninguno en casa, \n",
    "si lo he estado haciendo en una de las huertas donde trabajo de voluntaria. \n",
    "Esta receta ya estaba en el blog, pero la estoy re-publicando con fotos nuevas y mas lindas. \n",
    "¿Cuál es tu manera favorita de preparar los zapallos italianos?\n",
    "Recuerden siempre probar los zapallos crudos y descartarlos si están amargos, \n",
    "no hay nada peor que cocinarlos y descubrir al momento de servir que había uno malo.\n",
    "Fuente: https://www.enmicocinahoy.cl/pastel-zapallos-italianos/\"\"\""
   ]
  },
  {
   "cell_type": "code",
   "execution_count": null,
   "metadata": {
    "ExecuteTime": {
     "end_time": "2021-03-24T19:20:37.351510Z",
     "start_time": "2021-03-24T19:20:37.277Z"
    }
   },
   "outputs": [],
   "source": [
    "# solo nombres de las funciones, falta agregar sus parámetros.\n",
    "\n",
    "def to_upper():\n",
    "    pass\n",
    "\n",
    "def separador():\n",
    "    pass\n",
    "\n",
    "def mayus_r():\n",
    "    pass\n",
    "\n",
    "def promedio():\n",
    "    pass"
   ]
  },
  {
   "cell_type": "markdown",
   "metadata": {},
   "source": [
    "---"
   ]
  },
  {
   "cell_type": "markdown",
   "metadata": {},
   "source": [
    "## Referencias\n",
    "\n",
    "<br>\n",
    "\n",
    "Consideremos el siguiente ejemplo:"
   ]
  },
  {
   "cell_type": "code",
   "execution_count": 15,
   "metadata": {
    "ExecuteTime": {
     "end_time": "2021-03-24T20:13:12.073503Z",
     "start_time": "2021-03-24T20:13:12.069502Z"
    }
   },
   "outputs": [],
   "source": [
    "lista_1 = [1,2,3,4,5]\n",
    "lista_2 = lista_1"
   ]
  },
  {
   "cell_type": "code",
   "execution_count": 16,
   "metadata": {
    "ExecuteTime": {
     "end_time": "2021-03-24T20:13:12.747512Z",
     "start_time": "2021-03-24T20:13:12.736503Z"
    },
    "scrolled": true
   },
   "outputs": [
    {
     "data": {
      "text/plain": [
       "[1, 2, 3, 4, 5, 10]"
      ]
     },
     "execution_count": 16,
     "metadata": {},
     "output_type": "execute_result"
    }
   ],
   "source": [
    "lista_1.append(10)\n",
    "lista_1"
   ]
  },
  {
   "cell_type": "code",
   "execution_count": 17,
   "metadata": {
    "ExecuteTime": {
     "end_time": "2021-03-24T20:13:17.974439Z",
     "start_time": "2021-03-24T20:13:17.955440Z"
    },
    "scrolled": true
   },
   "outputs": [
    {
     "data": {
      "text/plain": [
       "[1, 2, 3, 4, 5, 10]"
      ]
     },
     "execution_count": 17,
     "metadata": {},
     "output_type": "execute_result"
    }
   ],
   "source": [
    "lista_2"
   ]
  },
  {
   "cell_type": "markdown",
   "metadata": {},
   "source": [
    "> **Pregunta ❓:** ¿Por qué al modificar `lista_1`, los cambios también se ven reflejados en `lista_2`?"
   ]
  },
  {
   "cell_type": "markdown",
   "metadata": {},
   "source": [
    "Cuando asignamos una lista a una variable, lo que guardamos en la misma es en realidad una referencia a la lista y no la lista en sí. \n",
    "\n",
    "Por lo tanto, al copiar la variable a otra lo que hicimos fue copiar la referencia y no sus valores. Podemos analizar las referencias de cada variable (lugar en la dirección de memoria donde se encuentran los datos) a través de la función `id`:"
   ]
  },
  {
   "cell_type": "code",
   "execution_count": 18,
   "metadata": {
    "ExecuteTime": {
     "end_time": "2021-03-24T20:14:08.735748Z",
     "start_time": "2021-03-24T20:14:08.716745Z"
    }
   },
   "outputs": [
    {
     "name": "stdout",
     "output_type": "stream",
     "text": [
      "Identificador lista_1: 140016372389184\n",
      "Identificador lista_2: 140016372389184\n"
     ]
    }
   ],
   "source": [
    "print(f'Identificador lista_1: {id(lista_1)}\\nIdentificador lista_2: {id(lista_2)}')"
   ]
  },
  {
   "cell_type": "markdown",
   "metadata": {
    "ExecuteTime": {
     "end_time": "2021-03-24T17:38:07.640881Z",
     "start_time": "2021-03-24T17:38:07.631840Z"
    }
   },
   "source": [
    "Nota: Si realmente queremos copiar un arreglo, debemos utilizar la función `deepcopy()`"
   ]
  },
  {
   "cell_type": "code",
   "execution_count": 19,
   "metadata": {},
   "outputs": [],
   "source": [
    "lista_1 = [1, 2, 3, 4, 5]"
   ]
  },
  {
   "cell_type": "code",
   "execution_count": 20,
   "metadata": {
    "ExecuteTime": {
     "end_time": "2021-03-24T20:17:00.249507Z",
     "start_time": "2021-03-24T20:17:00.243507Z"
    }
   },
   "outputs": [
    {
     "data": {
      "text/plain": [
       "[1, 2, 3, 4, 5, 10]"
      ]
     },
     "execution_count": 20,
     "metadata": {},
     "output_type": "execute_result"
    }
   ],
   "source": [
    "from copy import deepcopy\n",
    "\n",
    "lista_3 = deepcopy(lista_1)\n",
    "lista_1.append(10)\n",
    "lista_1"
   ]
  },
  {
   "cell_type": "code",
   "execution_count": 21,
   "metadata": {
    "ExecuteTime": {
     "end_time": "2021-03-24T20:15:05.738891Z",
     "start_time": "2021-03-24T20:15:05.729897Z"
    },
    "scrolled": true
   },
   "outputs": [
    {
     "data": {
      "text/plain": [
       "[1, 2, 3, 4, 5]"
      ]
     },
     "execution_count": 21,
     "metadata": {},
     "output_type": "execute_result"
    }
   ],
   "source": [
    "lista_3"
   ]
  },
  {
   "cell_type": "code",
   "execution_count": 22,
   "metadata": {
    "ExecuteTime": {
     "end_time": "2021-03-24T20:15:13.563792Z",
     "start_time": "2021-03-24T20:15:13.547797Z"
    }
   },
   "outputs": [
    {
     "name": "stdout",
     "output_type": "stream",
     "text": [
      "Identificador lista_1: 140016371215168\n",
      "Identificador lista_2: 140016357111680\n"
     ]
    }
   ],
   "source": [
    "print(f'Identificador lista_1: {id(lista_1)}\\nIdentificador lista_2: {id(lista_3)}')"
   ]
  },
  {
   "cell_type": "markdown",
   "metadata": {},
   "source": [
    "En general, Python asignará identificadores distintos cuando creemos listas y diccionarios:"
   ]
  },
  {
   "cell_type": "code",
   "execution_count": 23,
   "metadata": {
    "ExecuteTime": {
     "end_time": "2021-03-24T20:18:45.314653Z",
     "start_time": "2021-03-24T20:18:45.302653Z"
    }
   },
   "outputs": [
    {
     "name": "stdout",
     "output_type": "stream",
     "text": [
      "Identificador dict_1: 140016657806016\n",
      "Identificador dict_2: 140016371068736\n"
     ]
    }
   ],
   "source": [
    "d_1 = {'key_1': 'Hola'}\n",
    "d_2 = {'key_1': 'Hola'}\n",
    "\n",
    "print(f'Identificador dict_1: {id(d_1)}\\nIdentificador dict_2: {id(d_2)}')"
   ]
  },
  {
   "cell_type": "markdown",
   "metadata": {
    "ExecuteTime": {
     "end_time": "2021-03-24T17:51:53.481728Z",
     "start_time": "2021-03-24T17:51:53.472726Z"
    }
   },
   "source": [
    "¿Qué pasa ahora con los elementos inmutables como los strings?"
   ]
  },
  {
   "cell_type": "code",
   "execution_count": 24,
   "metadata": {
    "ExecuteTime": {
     "end_time": "2021-03-24T20:18:04.170052Z",
     "start_time": "2021-03-24T20:18:04.163053Z"
    }
   },
   "outputs": [
    {
     "data": {
      "text/plain": [
       "140016371039920"
      ]
     },
     "execution_count": 24,
     "metadata": {},
     "output_type": "execute_result"
    }
   ],
   "source": [
    "s1 = 'Hola'\n",
    "id(s1)"
   ]
  },
  {
   "cell_type": "code",
   "execution_count": 25,
   "metadata": {
    "ExecuteTime": {
     "end_time": "2021-03-24T20:18:04.916052Z",
     "start_time": "2021-03-24T20:18:04.898118Z"
    }
   },
   "outputs": [
    {
     "data": {
      "text/plain": [
       "140016371039920"
      ]
     },
     "execution_count": 25,
     "metadata": {},
     "output_type": "execute_result"
    }
   ],
   "source": [
    "s2 = 'Hola'\n",
    "id(s2)"
   ]
  },
  {
   "cell_type": "code",
   "execution_count": 26,
   "metadata": {
    "ExecuteTime": {
     "end_time": "2021-03-24T20:18:46.450652Z",
     "start_time": "2021-03-24T20:18:46.441655Z"
    },
    "scrolled": true
   },
   "outputs": [
    {
     "data": {
      "text/plain": [
       "140016371039920"
      ]
     },
     "execution_count": 26,
     "metadata": {},
     "output_type": "execute_result"
    }
   ],
   "source": [
    "id(d_1['key_1'])"
   ]
  },
  {
   "cell_type": "markdown",
   "metadata": {},
   "source": [
    "¿Y si le concatenamos otro string (similar al `append` del inicio)?"
   ]
  },
  {
   "cell_type": "code",
   "execution_count": 27,
   "metadata": {
    "ExecuteTime": {
     "end_time": "2021-03-24T19:20:37.482510Z",
     "start_time": "2021-03-24T19:20:37.480Z"
    }
   },
   "outputs": [
    {
     "data": {
      "text/plain": [
       "140016361410800"
      ]
     },
     "execution_count": 27,
     "metadata": {},
     "output_type": "execute_result"
    }
   ],
   "source": [
    "s3 = s1 + ', qué tal?'\n",
    "id(s3)"
   ]
  },
  {
   "cell_type": "markdown",
   "metadata": {},
   "source": [
    "> **Pregunta ❓**: ¿Por qué no se conserva el id?"
   ]
  },
  {
   "cell_type": "markdown",
   "metadata": {},
   "source": [
    "## Mutabilidad e Inmutabilidad v2\n",
    "\n",
    "**Recuerdo:** Cada entidad (u objeto) en python puede ser catalogada como **mutables** o **inmutables**. \n",
    "- Los objetos **mutables** son aquellos que pueden ser modificados luego de ser creados (o asignados), \n",
    "- Los objetos **inmutables** son objetos con valores fijos que no pueden ser modificados.\n"
   ]
  },
  {
   "cell_type": "markdown",
   "metadata": {},
   "source": [
    "> **Pregunta ❓**: Hasta ahora, ¿qué tipos de datos son mutables y que tipo de datos son inmutables?"
   ]
  },
  {
   "cell_type": "markdown",
   "metadata": {},
   "source": [
    "Python maneja los objetos mutables e inmutables de manera distinta.\n",
    "\n",
    "- Se utilizan objetos inmutables si se desea acceder e iterar de manera eficiente en estructuras que no cambian frecuentemente en el código. Sin embargo, **son estáticos**. Esto se evidencia al querer modificar un valor, **proceso que conlleva la creación de una copia del inmutable original.** \n",
    "\n",
    "- Los objetos mutables **se utilizan cuando se desea cambiar el tamaño o atributos de un objeto a medida que es procesado por un código**. "
   ]
  },
  {
   "cell_type": "markdown",
   "metadata": {},
   "source": [
    "### ¿Inmutables que mutan?\n",
    "\n",
    "\n",
    "> **Pregunta ❓**: ¿Qué sucede en el siguiente código?"
   ]
  },
  {
   "cell_type": "code",
   "execution_count": null,
   "metadata": {
    "ExecuteTime": {
     "end_time": "2021-03-24T20:20:09.983944Z",
     "start_time": "2021-03-24T20:20:09.978944Z"
    }
   },
   "outputs": [],
   "source": [
    "tupla = ('texto', [0,1])\n",
    "tupla"
   ]
  },
  {
   "cell_type": "code",
   "execution_count": null,
   "metadata": {
    "ExecuteTime": {
     "end_time": "2021-03-24T20:20:15.646244Z",
     "start_time": "2021-03-24T20:20:15.627246Z"
    },
    "scrolled": true
   },
   "outputs": [],
   "source": [
    "tupla[1] = [0,1,2]"
   ]
  },
  {
   "cell_type": "code",
   "execution_count": null,
   "metadata": {
    "ExecuteTime": {
     "end_time": "2021-03-24T20:20:27.266619Z",
     "start_time": "2021-03-24T20:20:27.250607Z"
    }
   },
   "outputs": [],
   "source": [
    "tupla[1]"
   ]
  },
  {
   "cell_type": "code",
   "execution_count": null,
   "metadata": {
    "ExecuteTime": {
     "end_time": "2021-03-24T20:20:53.456034Z",
     "start_time": "2021-03-24T20:20:53.442026Z"
    }
   },
   "outputs": [],
   "source": [
    "tupla[1].append(2)\n",
    "tupla"
   ]
  },
  {
   "cell_type": "markdown",
   "metadata": {},
   "source": [
    "### Argumentos de las Funciones\n",
    "\n",
    "Las referencias a objetos mutables e inmutables tienen un papel importante en la **evaluación de funciones**. \n",
    "\n",
    "Pensemos por ejemplo en la siguiente función:"
   ]
  },
  {
   "cell_type": "code",
   "execution_count": null,
   "metadata": {
    "ExecuteTime": {
     "end_time": "2021-03-24T20:21:35.166076Z",
     "start_time": "2021-03-24T20:21:35.157083Z"
    }
   },
   "outputs": [],
   "source": [
    "def cambia_elemento_0(x):\n",
    "    ''' Cambia el primer indice de una lista. '''\n",
    "    c = 0\n",
    "    x[0] = 'cambiado'"
   ]
  },
  {
   "cell_type": "markdown",
   "metadata": {},
   "source": [
    "Si se define la lista:"
   ]
  },
  {
   "cell_type": "code",
   "execution_count": null,
   "metadata": {
    "ExecuteTime": {
     "end_time": "2021-03-24T20:21:39.441106Z",
     "start_time": "2021-03-24T20:21:39.430107Z"
    }
   },
   "outputs": [],
   "source": [
    "lista = ['no_cambiar', 2, 3, 4, 5]"
   ]
  },
  {
   "cell_type": "code",
   "execution_count": null,
   "metadata": {
    "ExecuteTime": {
     "end_time": "2021-03-24T20:22:42.069305Z",
     "start_time": "2021-03-24T20:22:42.050308Z"
    },
    "scrolled": true
   },
   "outputs": [],
   "source": [
    "cambia_elemento_0(lista)\n",
    "lista"
   ]
  },
  {
   "cell_type": "markdown",
   "metadata": {},
   "source": [
    "El elemento cambió porque le pasamos una referencia de la lista a la función. NO una copia de esta."
   ]
  },
  {
   "cell_type": "markdown",
   "metadata": {},
   "source": [
    "---\n",
    "\n",
    "**Ejercicio 💻** \n",
    "\n",
    "Sea la siguiente función:\n",
    "\n",
    "```python\n",
    "def add_key(value, d = dict()):\n",
    "    \"\"\"Agrega una llave al diccionario `d`.\n",
    "  \n",
    "    La llave se denota por \"key_<n>\" donde \"n\" es\n",
    "    un indice numerico dado por el total de llaves.\n",
    "    \n",
    "    Args\n",
    "    ----\n",
    "    value \n",
    "        Valor a agregar en la nueva llave.\n",
    "    d : dict\n",
    "        Diccionario a actualizar (opcional), si no se \n",
    "        entrega, se asume un diccionario vacio.\n",
    "           \n",
    "    Returns:\n",
    "        dict\n",
    "    \"\"\"\n",
    "    llave = 'col_'+str(len(d.keys()))\n",
    "    d[llave] = value\n",
    "    return d\n",
    "```\n",
    "1. Comprueba que es una mala práctica definir mutables como parámetros default. Para ello ejecute ```print(add_key(1))``` y luego ```print(add_key(2))``` ¿qué resultado espera en la segunda impresión?\n",
    "\n",
    "2. Corriga el error de la función, para ello haga uso del tipo de datos ```None``` y un control de flujo ```if```.\n"
   ]
  },
  {
   "cell_type": "markdown",
   "metadata": {},
   "source": [
    "## Decoradores\n",
    "\n",
    "\n",
    "Los decoradores son funciones que se aplican sobre otras funciones a través de una sintaxis especial:\n",
    "\n",
    "\n",
    "```python\n",
    "@decorator\n",
    "def func():\n",
    "    pass\n",
    "```"
   ]
  },
  {
   "cell_type": "markdown",
   "metadata": {},
   "source": [
    "\n",
    "La idea es simple: \n",
    "\n",
    "- El decorador recibe una función objetivo como parámetro.\n",
    "- Dentro del decorador se define una función que hace alguna operación y luego ejecuta la función objetivo (\"la decora\").\n",
    "- Retorna la función decorada."
   ]
  },
  {
   "cell_type": "code",
   "execution_count": 32,
   "metadata": {},
   "outputs": [],
   "source": [
    "def info(f):\n",
    "    \n",
    "    def funcion_decorada(a, b):\n",
    "        \n",
    "        print(f\"Se ha invocado a: {f.__name__}({a}, {b})\")\n",
    "        return f(a, b)\n",
    "    \n",
    "    return funcion_decorada"
   ]
  },
  {
   "cell_type": "code",
   "execution_count": 33,
   "metadata": {},
   "outputs": [
    {
     "name": "stdout",
     "output_type": "stream",
     "text": [
      "Se ha invocado a: sumar(10, 5)\n"
     ]
    },
    {
     "data": {
      "text/plain": [
       "15"
      ]
     },
     "execution_count": 33,
     "metadata": {},
     "output_type": "execute_result"
    }
   ],
   "source": [
    "def sumar(a, b):\n",
    "    return a + b\n",
    "\n",
    "info(sumar)(10, 5)"
   ]
  },
  {
   "cell_type": "code",
   "execution_count": 34,
   "metadata": {},
   "outputs": [
    {
     "name": "stdout",
     "output_type": "stream",
     "text": [
      "Se ha invocado a: sumar(10, 5)\n",
      "15\n"
     ]
    }
   ],
   "source": [
    "@info\n",
    "def sumar(a, b):\n",
    "    return a + b\n",
    "\n",
    "\n",
    "print(sumar(10, 5))"
   ]
  },
  {
   "cell_type": "markdown",
   "metadata": {},
   "source": [
    "### Docstrings\n",
    "\n",
    "\n",
    "Cuando creamos funciones, lo hacemos principalmente por su funcionalidad, si trabajamos con otros desarrolladores, hacemos uso de comentarios por medio de la sintaxis:\n",
    "\n",
    "```python\n",
    "# Comentario\n",
    "\n",
    "```\n",
    "para comentarios de una linea, o\n",
    "\n",
    "```python\n",
    "\"\"\"\n",
    "Para \n",
    "     comentarios \n",
    "                 multilinea\n",
    "\"\"\"\n",
    "\n",
    "```\n",
    "\n",
    "Sin embargo, hay que tener en cuenta, que en general, se leerá el código durante más tiempo (por uno mismo o los desarrolladores) del que pasará escribiéndolo. \n",
    "\n",
    "El sistema de comentarios puede funcionar de manera perfecta al trabajar con desarrolladores con acceso al código fuente, pero al momento de que un usuario desee entender el significado de una función o trozo de código, no podrá necesariamente acceder al código de fuente cada vez que necesite utilizar sus funciones. \n",
    "\n",
    "El término **Docstring** en Python se refiere a la documentación de tipo string asociada a una función, clase, modulo o método. Esta documentación se accede por medio de la función ```help(funcion)``` sobre el objeto que se desea consultar. \n",
    "\n",
    "Esta función permite comprender la funcionalidad de trozos de código a un nivel general y transversal (tanto para desarrolladores como para usuarios). Debido a que un *Docstring* es en esencia un texto producido por el programador para ser entendido por el público general (en especial el programador mismo), es que aparecen distintos tipos de estándar para generar estas documentaciones. "
   ]
  },
  {
   "cell_type": "code",
   "execution_count": null,
   "metadata": {
    "ExecuteTime": {
     "end_time": "2021-03-24T20:10:29.985337Z",
     "start_time": "2021-03-24T20:10:29.964350Z"
    }
   },
   "outputs": [],
   "source": [
    "help(list)"
   ]
  },
  {
   "cell_type": "markdown",
   "metadata": {},
   "source": [
    "A continuación veremos algunos lineamientos a la hora de construir docstrings:\n",
    "\n",
    "Para Docstrings de una linea:\n",
    "\n",
    "* Se usa ```\"\"\" \"\"\"``` inclusive si se puede escribir todo en una linea.\n",
    "* Las comillas que inicial la documentación están en la misma linea que aquellas que la cierran.\n",
    "* El docstring es una frase que termina en punto, describe el objeto al cual se hace referencia y su efecto en la forma (accion,resultado).\n",
    "* La documentación no debe tener la \"firma\" (signature) del objeto subyacente: \n",
    "\n",
    "```python\n",
    "# Mala practica:\n",
    "def funcion_suma(a,b):\n",
    "    \"\"\" funcion(a,b) -> int \"\"\"\n",
    "    return a+b\n",
    "    \n",
    "# Buena practica:\n",
    "def funcion_suma(a,b):\n",
    "    \"\"\"Retorna la suma de a y b.\n",
    "    \n",
    "    Parameters\n",
    "    ----------\n",
    "    a \n",
    "        Entero o flotante.\n",
    "    b \n",
    "        Entero o flotante\n",
    "\n",
    "    Returns\n",
    "    -------\n",
    "    int\n",
    "        Entero o flotante con la suma de a y b\n",
    "\n",
    "    \"\"\"\n",
    "    return a+b\n",
    "```\n",
    "\n",
    "Docstrings multilinea:\n",
    "\n",
    "* La documentación debe estar indentada completamente.\n",
    "\n",
    "* La primera linea debe ser siempre un resumen corto y conciso de el propósito del objeto que se documenta.\n",
    "\n",
    "* Debe haber una linea en blanco luego del resumen corto. Se puede agregar una explicación más profunda posterior al espacio.\n",
    "\n",
    "En general existen cualidades comunes al momento de crear un docstring, estas incluyen, argumentos, atributos y resultados (returns). Los distintos estándares de creación de documentos abordan esto, dentro de los estándares más comunes se encuentran:\n",
    "\n",
    "[Estándar google](https://github.com/google/styleguide/blob/gh-pages/pyguide.md#38-comments-and-docstrings)\n",
    "\n",
    "[Estándar Numpy/Scipy](https://numpydoc.readthedocs.io/en/latest/format.html)\n",
    "\n",
    "Una buena guia de manejo de docstrings se puede encontrar en la [documentación oficial](https://www.python.org/dev/peps/pep-0257/) de Python.\n"
   ]
  },
  {
   "cell_type": "markdown",
   "metadata": {},
   "source": [
    "---\n",
    "> **Ejercicio 💻**\n",
    "\n",
    "El estándar a seguir en este curso será el de Numpy/Scipy.\n",
    "\n",
    "1. Estudia los lineamientos que tal estándar supone.\n",
    "\n",
    "2. Aplica tales lineamientos a a los ejercicios con map/filter/reduce.\n",
    "\n",
    "3. Elija una de las funciones, para una de las cuales confeccionó un docstring y acceda a tal documentación por medio del atributo ```help(function)```. (Desde un entorno jupyter notebook: ¿Qué ocurre se presiona las teclas ```shift+tab``` con el cursor dentro de la función? ejemplo: sum(|) ```shift+tab``` donde \"|\" es el cursor)\n",
    "\n",
    "\n",
    "---"
   ]
  },
  {
   "cell_type": "markdown",
   "metadata": {},
   "source": [
    "Para construir código \"pythonico\" vale decir, de fácil lectura y no redundante, se recomienda seguir la guía de estilo [PEP8](https://www.python.org/dev/peps/pep-0008/), su uso es transversal y se considera una buena práctica utilizarlo."
   ]
  }
 ],
 "metadata": {
  "kernelspec": {
   "display_name": "Python 3 (ipykernel)",
   "language": "python",
   "name": "python3"
  },
  "language_info": {
   "codemirror_mode": {
    "name": "ipython",
    "version": 3
   },
   "file_extension": ".py",
   "mimetype": "text/x-python",
   "name": "python",
   "nbconvert_exporter": "python",
   "pygments_lexer": "ipython3",
   "version": "3.9.7"
  },
  "nbTranslate": {
   "displayLangs": [
    "es",
    "en"
   ],
   "hotkey": "alt-t",
   "langInMainMenu": true,
   "sourceLang": "en",
   "targetLang": "es",
   "useGoogleTranslate": true
  },
  "toc": {
   "base_numbering": 1,
   "nav_menu": {},
   "number_sections": true,
   "sideBar": true,
   "skip_h1_title": false,
   "title_cell": "Table of Contents",
   "title_sidebar": "Contents",
   "toc_cell": false,
   "toc_position": {
    "height": "calc(100% - 180px)",
    "left": "10px",
    "top": "150px",
    "width": "269.717px"
   },
   "toc_section_display": true,
   "toc_window_display": false
  },
  "varInspector": {
   "cols": {
    "lenName": 16,
    "lenType": 16,
    "lenVar": 40
   },
   "kernels_config": {
    "python": {
     "delete_cmd_postfix": "",
     "delete_cmd_prefix": "del ",
     "library": "var_list.py",
     "varRefreshCmd": "print(var_dic_list())"
    },
    "r": {
     "delete_cmd_postfix": ") ",
     "delete_cmd_prefix": "rm(",
     "library": "var_list.r",
     "varRefreshCmd": "cat(var_dic_list()) "
    }
   },
   "types_to_exclude": [
    "module",
    "function",
    "builtin_function_or_method",
    "instance",
    "_Feature"
   ],
   "window_display": false
  }
 },
 "nbformat": 4,
 "nbformat_minor": 4
}
