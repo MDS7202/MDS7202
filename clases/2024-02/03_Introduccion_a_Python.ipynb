{
  "cells": [
    {
      "cell_type": "markdown",
      "id": "201e2305-96c6-4aaa-a417-688dcdb888fe",
      "metadata": {
        "id": "201e2305-96c6-4aaa-a417-688dcdb888fe"
      },
      "source": [
        "# Clase 3: Introducción a la Programación con `Python`\n",
        "\n",
        "**MDS7202: Laboratorio de Programación Científica para Ciencia de Datos**"
      ]
    },
    {
      "cell_type": "markdown",
      "id": "accepting-university",
      "metadata": {
        "id": "accepting-university"
      },
      "source": [
        "\n",
        "## Objetivos de la Clase 🎯\n",
        "\n",
        "- Introducirlos a `Python` y el porqué lo usamos.\n",
        "- Variables.\n",
        "- Tipos de datos básicos y tipado dinámico.\n",
        "- Operaciones y operadores, transformaciones entre tipos de datos.\n",
        "- Control de flujo.\n",
        "- Colecciones: Listas, tuplas, conjuntos y diccionarios.\n",
        "- Iteraciones\n",
        "- Funciones\n",
        "- Unit Testing\n",
        "- Documentación\n",
        "- Programación Modular"
      ]
    },
    {
      "cell_type": "markdown",
      "id": "collective-springer",
      "metadata": {
        "id": "collective-springer",
        "tags": []
      },
      "source": [
        "## Introducción a Python\n",
        "\n",
        "\n",
        "<div align='center'>\n",
        "<img src=\"https://raw.githubusercontent.com/MDS7202/MDS7202/main/recursos/2023-01/03-Intro_a_la_programacion_en_python/python_logo.png\" width=400 alt=\"logo\"/>\n",
        "</div>\n",
        "\n",
        "`Python` es un lenguaje de programación multipropósito, enfocado en preservar legibilidad y simpleza sintáctica (_o sea, que sea facil de leer y escribir_).\n",
        "Sus características y principios lo convierten en un lenguaje poderoso y fácil de aprender.\n",
        "\n",
        "Por esta razón, es ampliamente utilizado en ámbitos tales como:\n",
        "\n",
        "- Desarrollo Web,\n",
        "- Data Science,\n",
        "- Scripting,\n",
        "- Software de escritorio,\n",
        "- etc..."
      ]
    },
    {
      "cell_type": "markdown",
      "id": "7be8f68c-5609-4c2a-b8f7-441091217f17",
      "metadata": {
        "id": "7be8f68c-5609-4c2a-b8f7-441091217f17"
      },
      "source": [
        "### Ecosistema 🌳\n",
        "\n",
        "Muy probablemente la segunda razón de la popularidad de python es su extenso ecosistema: la gran cantidad de paquetes de código abierto que son compatibles con el lenguaje.\n",
        "\n",
        "> **Nota 🗒️**: Un paquete o librería es un software desarrollado por terceros que permite ampliar las funcionalidades disponibles en python, las cuáles están enfocadas en ser usadas bajo demanda.\n",
        "\n",
        "\n",
        "<div align=\"center\"/>\n",
        "<img src=\"https://raw.githubusercontent.com/MDS7202/MDS7202/main/recursos/2023-01/03-Intro_a_la_programacion_en_python/python_powered.png\" width=\"600\">\n",
        "</div>\n",
        "\n",
        "<br>\n",
        "\n",
        "<div align=\"center\"/>\n",
        "Fuente: <a href=\"https://en.wikipedia.org/wiki/Python_(programming_language)#Uses\">Python en Wikipedia</a>.\n",
        "</div>\n",
        "\n",
        "\n",
        "La principal forma de acceder a las librerías es el repositorio de paquetes de python [PyPi](https://pypi.org/))."
      ]
    },
    {
      "cell_type": "markdown",
      "id": "ad716eb2",
      "metadata": {
        "id": "ad716eb2"
      },
      "source": [
        "### Entonces, ¿Por qué usamos `Python` en Data Science? 🤔\n",
        "\n",
        "Se podría decir que la suma de lo anterior:\n",
        "<div align=\"center\">\n",
        "    <strong>\n",
        " La simpleza del lenguaje más la gran y activa comunidad open-source que desarrolla el ecosistema de paquetes enfocados en ciencia de datos.\n",
        "    </strong>\n",
        "</div>\n",
        "\n",
        "<br>\n",
        "<br>\n",
        "    \n",
        "<div align=\"center\"/>\n",
        "<img src=\"https://raw.githubusercontent.com/MDS7202/MDS7202/main/recursos/2023-01/03-Intro_a_la_programacion_en_python/python_ds_stack.png\" width=\"600\">\n",
        "</div>\n",
        "\n",
        "<br>\n",
        "\n",
        "<div align=\"center\"/>\n",
        "Fuente: <a href=\"https://jupytearth.org/jupyter-resources/introduction/ecosystem.html\">Jupyter Meets the Earth</a>.\n",
        "</div>\n"
      ]
    },
    {
      "cell_type": "markdown",
      "id": "792ef8b2-9308-4f8f-966d-4c6d9378efac",
      "metadata": {
        "id": "792ef8b2-9308-4f8f-966d-4c6d9378efac"
      },
      "source": [
        "### Pero pero pero python es lento... 😪\n",
        "\n",
        "Si bien el rendimiento de los lenguajes interpretados (como python) es bajo para operaciones intensivas computacionalmente, la mayoría de las librerías están implementadas usando código escrito en lenguajes mucho más eficientes (Rust, C, Fortran), lo que permite que las operaciones sean muy eficientes.\n",
        "\n",
        "<div align=\"center\"/>\n",
        "<img src=\"https://storage.googleapis.com/cdn.thenewstack.io/media/2018/05/3730357d-results-energy-time-and-memory-usage-screenshot-from-research-paper.png\" width=\"600\">\n",
        "</div>\n",
        "\n"
      ]
    },
    {
      "cell_type": "markdown",
      "id": "779d80eb-9597-4991-b779-b555ae3e72ea",
      "metadata": {
        "id": "779d80eb-9597-4991-b779-b555ae3e72ea",
        "tags": []
      },
      "source": [
        "## Manos a la obra 🛠️\n",
        "\n",
        "\n",
        "A continuación haremos un repaso a grandes rasgos de las sintaxis y funcionalidades básicas de python."
      ]
    },
    {
      "cell_type": "markdown",
      "id": "03c531e6-e0f8-49a4-8442-115c091b29b1",
      "metadata": {
        "id": "03c531e6-e0f8-49a4-8442-115c091b29b1"
      },
      "source": [
        "---"
      ]
    },
    {
      "cell_type": "markdown",
      "id": "champion-dubai",
      "metadata": {
        "id": "champion-dubai"
      },
      "source": [
        "## 1. Variables 🪪\n",
        "\n",
        "Las variables son un bloque fundamental en la programación: Son el medio que nos permite vincular un identificador/variable con valores/datos.\n",
        "En Python se definen por medio de una **sentencia de asignación** usando el operador ` = `.\n",
        "\n",
        "> **Nota 🗒️**: Una sentencia es una instrucción que el intérprete de Python puede ejecutar\n"
      ]
    },
    {
      "cell_type": "code",
      "execution_count": null,
      "id": "extensive-basis",
      "metadata": {
        "ExecuteTime": {
          "end_time": "2021-03-22T19:22:38.821644Z",
          "start_time": "2021-03-22T19:22:38.817644Z"
        },
        "id": "extensive-basis"
      },
      "outputs": [],
      "source": [
        "variable = 9"
      ]
    },
    {
      "cell_type": "markdown",
      "id": "atlantic-insight",
      "metadata": {
        "id": "atlantic-insight"
      },
      "source": [
        "Pueden imprimir el valor que tiene una variable utilizando la función `print(nombre_de_la_variable)`\n",
        "\n",
        "> **Nota 🗒️**: Veremos más adelante funciones; mientras tanto, solo utilícenla."
      ]
    },
    {
      "cell_type": "code",
      "execution_count": null,
      "id": "eleven-austria",
      "metadata": {
        "ExecuteTime": {
          "end_time": "2021-03-22T19:23:23.900022Z",
          "start_time": "2021-03-22T19:23:23.887023Z"
        },
        "id": "eleven-austria"
      },
      "outputs": [],
      "source": [
        "print(variable)"
      ]
    },
    {
      "cell_type": "markdown",
      "id": "prepared-collector",
      "metadata": {
        "id": "prepared-collector"
      },
      "source": [
        "O cuando estén ejecutando un Jupyter Notebook, pueden imprimir el valor de la variable poniendo el nombre de esta al final de una celda.\n",
        "\n",
        "> **Nota 🗒️:** Pueden escribir comentarios (lineas que no se ejecutarán) usando `#`:\n"
      ]
    },
    {
      "cell_type": "code",
      "execution_count": null,
      "id": "gentle-illinois",
      "metadata": {
        "ExecuteTime": {
          "end_time": "2021-03-22T19:24:03.318890Z",
          "start_time": "2021-03-22T19:24:03.311841Z"
        },
        "id": "gentle-illinois",
        "scrolled": true,
        "tags": []
      },
      "outputs": [],
      "source": [
        "# declarar la variable\n",
        "variable = 9\n",
        "\n",
        "# ver su valor\n",
        "variable"
      ]
    },
    {
      "cell_type": "markdown",
      "id": "73f8489d-7c99-4e3d-802c-df70989adc81",
      "metadata": {
        "ExecuteTime": {
          "end_time": "2021-03-22T14:32:19.114508Z",
          "start_time": "2021-03-22T14:32:19.100507Z"
        },
        "id": "73f8489d-7c99-4e3d-802c-df70989adc81",
        "tags": []
      },
      "source": [
        "### Convenciones para Nombrar Variables\n",
        "\n",
        "Estas son las convenciones que se usualmente se usan en `python` para escribir código (declaradas en un [Python Enhancement Proposal (PEP) 8 – Style Guide for Python Code](https://peps.python.org/pep-0008) y que **utilizaremos en el curso**.\n",
        "La idea es siempre mantener siempre la consistencia y legibilidad del código.\n",
        "\n",
        "- Largo máximo de linea: 79 carácteres\n",
        "\n",
        "- Nombres de variables y funciones: `lower_case_with_underscores`.\n",
        "\n",
        "```python\n",
        "entero = 10\n",
        "entero_mas_grande = 100\n",
        "una_funcion_cualquiera\n",
        "```\n",
        "\n",
        "- Constantes (identificadores que no deberían cambiar a futuro): `UPPER_CASE_WITH_UNDERSCORES`\n",
        "```python\n",
        "PI = 3.14\n",
        "GRAVEDAD_EN_MARTE = 3.711\n",
        "```\n"
      ]
    },
    {
      "cell_type": "markdown",
      "id": "9068540e-b27c-4116-9562-79056ccc8ec1",
      "metadata": {
        "id": "9068540e-b27c-4116-9562-79056ccc8ec1"
      },
      "source": [
        "> **Pregunta ❓**: ¿Pueden cambiar los valores de las constantes?\n"
      ]
    },
    {
      "cell_type": "markdown",
      "id": "df21e332-d08f-4bc1-8eb6-a5a4b27ecfd8",
      "metadata": {
        "id": "df21e332-d08f-4bc1-8eb6-a5a4b27ecfd8"
      },
      "source": [
        "- Clases (veremos qué son más adelante): `CapitalizedWords `\n",
        "\n",
        "\n",
        "```python\n",
        "class ClaseConEstilo1:\n",
        "    ...\n",
        "```\n",
        "\n",
        "- Otras reglas:\n",
        "    - Nombres de variables con sentido y que describan que contiene la variable o que hace la función.\n",
        "    - Nunca usar nombres con uno o dos carácteres: usualmente rompen con el punto anterior.\n",
        "\n",
        "> **Nota 🗒️**: Recuerden que en un ámbito profesional, su código probablemente será visto y usados por otros!\n",
        "    "
      ]
    },
    {
      "cell_type": "markdown",
      "id": "87c91542-1dfe-4ec4-b578-5331ffc34fd1",
      "metadata": {
        "id": "87c91542-1dfe-4ec4-b578-5331ffc34fd1"
      },
      "source": [
        "---"
      ]
    },
    {
      "cell_type": "markdown",
      "id": "egyptian-sharp",
      "metadata": {
        "id": "egyptian-sharp",
        "tags": []
      },
      "source": [
        "## 2. Tipos de Datos 📇\n",
        "\n",
        "A continuación veremos los tipos de datos básicos o literales: **datos en bruto** que se asignan a variables.\n",
        "\n",
        "\n",
        "### Tipos de Datos Básicos\n"
      ]
    },
    {
      "cell_type": "markdown",
      "id": "jewish-documentation",
      "metadata": {
        "id": "jewish-documentation"
      },
      "source": [
        "#### Integers\n",
        "\n",
        "Números enteros creados sin parte compleja ni posiciones decimales. En este tipo de de dato es posible realizar las operaciones de división entera."
      ]
    },
    {
      "cell_type": "code",
      "execution_count": null,
      "id": "julian-tennessee",
      "metadata": {
        "ExecuteTime": {
          "end_time": "2021-03-22T19:25:31.129685Z",
          "start_time": "2021-03-22T19:25:31.110685Z"
        },
        "id": "julian-tennessee"
      },
      "outputs": [],
      "source": [
        "entero = 9\n",
        "entero"
      ]
    },
    {
      "cell_type": "markdown",
      "id": "extreme-oxide",
      "metadata": {
        "id": "extreme-oxide"
      },
      "source": [
        "#### Floats\n",
        "\n",
        "Valores numéricos de punto flotante, pueden ser creados agregando posiciones decimales ej: ```0.87```"
      ]
    },
    {
      "cell_type": "code",
      "execution_count": null,
      "id": "square-jones",
      "metadata": {
        "ExecuteTime": {
          "end_time": "2021-03-22T19:25:47.489212Z",
          "start_time": "2021-03-22T19:25:47.480216Z"
        },
        "id": "square-jones"
      },
      "outputs": [],
      "source": [
        "numero_flotante = 9.2344\n",
        "numero_flotante"
      ]
    },
    {
      "cell_type": "markdown",
      "id": "periodic-characterization",
      "metadata": {
        "id": "periodic-characterization"
      },
      "source": [
        "#### Complex\n",
        "\n",
        "Números complejos, se pueden crear utilizando la notación ```a + bj``` donde ```a``` es la parte real y ```b``` es la parte compleja."
      ]
    },
    {
      "cell_type": "code",
      "execution_count": null,
      "id": "printable-mining",
      "metadata": {
        "ExecuteTime": {
          "end_time": "2021-03-22T19:25:52.849207Z",
          "start_time": "2021-03-22T19:25:52.841207Z"
        },
        "id": "printable-mining",
        "scrolled": true
      },
      "outputs": [],
      "source": [
        "numero_complejo = 10 + 1j\n",
        "numero_complejo"
      ]
    },
    {
      "cell_type": "markdown",
      "id": "affecting-session",
      "metadata": {
        "id": "affecting-session"
      },
      "source": [
        "#### Booleans/Bools\n",
        "\n",
        "Valores de verdad `True` o `False`."
      ]
    },
    {
      "cell_type": "code",
      "execution_count": null,
      "id": "super-affair",
      "metadata": {
        "ExecuteTime": {
          "end_time": "2021-03-22T19:26:29.515577Z",
          "start_time": "2021-03-22T19:26:29.500546Z"
        },
        "id": "super-affair"
      },
      "outputs": [],
      "source": [
        "booleano = False\n",
        "booleano"
      ]
    },
    {
      "cell_type": "code",
      "execution_count": null,
      "id": "32ed614a-163d-4097-8b99-e69998bdbae9",
      "metadata": {
        "id": "32ed614a-163d-4097-8b99-e69998bdbae9"
      },
      "outputs": [],
      "source": [
        "booleano = True\n",
        "booleano"
      ]
    },
    {
      "cell_type": "markdown",
      "id": "e8e7e6ae-d18a-4984-9a91-7575f49d21e1",
      "metadata": {
        "id": "e8e7e6ae-d18a-4984-9a91-7575f49d21e1"
      },
      "source": [
        "#### Strings\n",
        "\n",
        "\"Cadenas\" de carácteres que contienen un texto. Estos pueden ser definidos usando comillas simples ``` ' '``` o dobles ```\" \"```."
      ]
    },
    {
      "cell_type": "code",
      "execution_count": null,
      "id": "inside-departure",
      "metadata": {
        "ExecuteTime": {
          "end_time": "2021-03-22T19:27:24.309550Z",
          "start_time": "2021-03-22T19:27:24.305543Z"
        },
        "id": "inside-departure"
      },
      "outputs": [],
      "source": [
        "oracion = \"Juan esta tomando té 🍵\"\n",
        "oracion"
      ]
    },
    {
      "cell_type": "markdown",
      "id": "suburban-radar",
      "metadata": {
        "ExecuteTime": {
          "end_time": "2021-03-22T15:21:25.296930Z",
          "start_time": "2021-03-22T15:21:25.278931Z"
        },
        "id": "suburban-radar"
      },
      "source": [
        "#### `None`\n",
        "\n",
        "Tipo especial (pronunciado *nan*) que representa que la variable tiene un valor inespecífico."
      ]
    },
    {
      "cell_type": "code",
      "execution_count": null,
      "id": "committed-citizen",
      "metadata": {
        "ExecuteTime": {
          "end_time": "2021-03-22T19:11:41.641505Z",
          "start_time": "2021-03-22T19:11:41.627508Z"
        },
        "id": "committed-citizen"
      },
      "outputs": [],
      "source": [
        "variable_sin_ningún_valor = None\n",
        "variable_sin_ningún_valor"
      ]
    },
    {
      "cell_type": "code",
      "execution_count": null,
      "id": "b00014f2",
      "metadata": {
        "id": "b00014f2"
      },
      "outputs": [],
      "source": [
        "print(variable_sin_ningún_valor)"
      ]
    },
    {
      "cell_type": "code",
      "execution_count": null,
      "id": "accredited-objective",
      "metadata": {
        "ExecuteTime": {
          "end_time": "2021-03-22T19:27:31.586122Z",
          "start_time": "2021-03-22T19:27:31.569122Z"
        },
        "id": "accredited-objective"
      },
      "outputs": [],
      "source": [
        "variable_sin_ningún_valor"
      ]
    },
    {
      "cell_type": "markdown",
      "id": "6467a7cb-b270-4746-8890-c16b810df065",
      "metadata": {
        "id": "6467a7cb-b270-4746-8890-c16b810df065"
      },
      "source": [
        "> **Pregunta ❓**: En ciencia de datos, qué utilidad pueden tener estos tipos de datos?"
      ]
    },
    {
      "cell_type": "markdown",
      "id": "unlimited-diameter",
      "metadata": {
        "ExecuteTime": {
          "end_time": "2021-03-22T14:17:09.464686Z",
          "start_time": "2021-03-22T14:17:09.444669Z"
        },
        "id": "unlimited-diameter"
      },
      "source": [
        "### Función `type`\n",
        "\n",
        "Podemos usar la función `type(identificador)` para saber cuál es el tipo de dato que contiene una variable"
      ]
    },
    {
      "cell_type": "code",
      "execution_count": null,
      "id": "5a9cc107-2b15-45da-bff2-e8f20af873db",
      "metadata": {
        "id": "5a9cc107-2b15-45da-bff2-e8f20af873db"
      },
      "outputs": [],
      "source": [
        "oracion"
      ]
    },
    {
      "cell_type": "code",
      "execution_count": null,
      "id": "dental-filling",
      "metadata": {
        "ExecuteTime": {
          "end_time": "2021-03-22T19:28:13.717955Z",
          "start_time": "2021-03-22T19:28:13.708955Z"
        },
        "id": "dental-filling",
        "scrolled": true
      },
      "outputs": [],
      "source": [
        "type(oracion)"
      ]
    },
    {
      "cell_type": "code",
      "execution_count": null,
      "id": "1a6cfc9f-7cb9-475c-87e2-c4ba3fccce53",
      "metadata": {
        "id": "1a6cfc9f-7cb9-475c-87e2-c4ba3fccce53"
      },
      "outputs": [],
      "source": [
        "entero"
      ]
    },
    {
      "cell_type": "code",
      "execution_count": null,
      "id": "unauthorized-oregon",
      "metadata": {
        "ExecuteTime": {
          "end_time": "2021-03-22T19:28:19.987131Z",
          "start_time": "2021-03-22T19:28:19.972132Z"
        },
        "id": "unauthorized-oregon",
        "scrolled": true
      },
      "outputs": [],
      "source": [
        "type(entero)"
      ]
    },
    {
      "cell_type": "markdown",
      "id": "34dbd0a5",
      "metadata": {
        "id": "34dbd0a5"
      },
      "source": [
        "### Verificar tipo de dato con `isinstance`\n",
        "\n",
        "La función `isinstance` permite \"preguntar\" si una variable contiene un tipo de dato específico."
      ]
    },
    {
      "cell_type": "code",
      "execution_count": null,
      "id": "aaa3add4",
      "metadata": {
        "id": "aaa3add4"
      },
      "outputs": [],
      "source": [
        "oracion"
      ]
    },
    {
      "cell_type": "code",
      "execution_count": null,
      "id": "d42122bd",
      "metadata": {
        "id": "d42122bd"
      },
      "outputs": [],
      "source": [
        "isinstance(oracion, int)"
      ]
    },
    {
      "cell_type": "code",
      "execution_count": null,
      "id": "80b6beea-3c58-4104-a9db-8693761baa46",
      "metadata": {
        "id": "80b6beea-3c58-4104-a9db-8693761baa46"
      },
      "outputs": [],
      "source": [
        "isinstance(oracion, float)"
      ]
    },
    {
      "cell_type": "code",
      "execution_count": null,
      "id": "a9563d98",
      "metadata": {
        "id": "a9563d98"
      },
      "outputs": [],
      "source": [
        "isinstance(oracion, str)"
      ]
    },
    {
      "cell_type": "markdown",
      "id": "c5b86eec-4a44-4381-b029-dab631348ec1",
      "metadata": {
        "id": "c5b86eec-4a44-4381-b029-dab631348ec1"
      },
      "source": [
        "> **Pregunta ❓**: En Ciencia de los Datos, ¿cuál sería la utilidad de la función `isinstance`?"
      ]
    },
    {
      "cell_type": "markdown",
      "id": "5689808c-bbe0-4141-b8dc-ae234b2c9350",
      "metadata": {
        "id": "5689808c-bbe0-4141-b8dc-ae234b2c9350",
        "tags": []
      },
      "source": [
        "### Transformar Datos a Otros Tipos\n",
        "\n",
        "Podemos usar las funciones\n",
        "\n",
        "- `int()`\n",
        "- `float()`\n",
        "- `str()`\n",
        "- etc...\n",
        "\n",
        "para transformar un dato de un tipo determinado en otro."
      ]
    },
    {
      "cell_type": "markdown",
      "id": "3eafba9b-e894-40a4-9f6b-befc446fa0d0",
      "metadata": {
        "id": "3eafba9b-e894-40a4-9f6b-befc446fa0d0",
        "tags": []
      },
      "source": [
        "### Entero a flotante"
      ]
    },
    {
      "cell_type": "code",
      "execution_count": null,
      "id": "pressing-canberra",
      "metadata": {
        "ExecuteTime": {
          "end_time": "2021-03-22T19:50:49.771248Z",
          "start_time": "2021-03-22T19:50:49.754221Z"
        },
        "id": "pressing-canberra"
      },
      "outputs": [],
      "source": [
        "float(3)"
      ]
    },
    {
      "cell_type": "code",
      "execution_count": null,
      "id": "e19afce7-c631-4773-aeca-219200ecaaf8",
      "metadata": {
        "id": "e19afce7-c631-4773-aeca-219200ecaaf8"
      },
      "outputs": [],
      "source": [
        "type(3)"
      ]
    },
    {
      "cell_type": "code",
      "execution_count": null,
      "id": "53cc9c47-e6eb-4f30-b7eb-6021e7eaead3",
      "metadata": {
        "id": "53cc9c47-e6eb-4f30-b7eb-6021e7eaead3"
      },
      "outputs": [],
      "source": [
        "type(float(3))"
      ]
    },
    {
      "cell_type": "code",
      "execution_count": null,
      "id": "0af1724a-cfad-4673-8303-b1c9f4ca2ea7",
      "metadata": {
        "id": "0af1724a-cfad-4673-8303-b1c9f4ca2ea7"
      },
      "outputs": [],
      "source": [
        "3 + 1.1"
      ]
    },
    {
      "cell_type": "code",
      "execution_count": null,
      "id": "99fc6d84-771e-4c57-8716-a644cf9829da",
      "metadata": {
        "id": "99fc6d84-771e-4c57-8716-a644cf9829da"
      },
      "outputs": [],
      "source": [
        "type(3 + 1.1)"
      ]
    },
    {
      "cell_type": "markdown",
      "id": "96c2e0d9-597b-491e-9908-4fb7d7491e88",
      "metadata": {
        "id": "96c2e0d9-597b-491e-9908-4fb7d7491e88"
      },
      "source": [
        "### Flotante a entero\n",
        "\n",
        "Ojo que pierde la parte decimal."
      ]
    },
    {
      "cell_type": "code",
      "execution_count": null,
      "id": "45bd0c6f-53a5-4c15-9413-50556da623ef",
      "metadata": {
        "ExecuteTime": {
          "end_time": "2021-03-22T19:50:37.609745Z",
          "start_time": "2021-03-22T19:50:37.594744Z"
        },
        "id": "45bd0c6f-53a5-4c15-9413-50556da623ef"
      },
      "outputs": [],
      "source": [
        "int(3.14)"
      ]
    },
    {
      "cell_type": "markdown",
      "id": "e492cfa4-6293-438d-8975-071550c3b9ed",
      "metadata": {
        "id": "e492cfa4-6293-438d-8975-071550c3b9ed"
      },
      "source": [
        "---"
      ]
    },
    {
      "cell_type": "markdown",
      "id": "polish-plasma",
      "metadata": {
        "id": "polish-plasma"
      },
      "source": [
        "## 3. Operaciones entre datos ➕"
      ]
    },
    {
      "cell_type": "markdown",
      "id": "fiscal-encounter",
      "metadata": {
        "id": "fiscal-encounter"
      },
      "source": [
        "Los operadores en python son **símbolos y keywords** especiales que permiten llevar a cabo operaciones aritméticas o lógicas entre datos.\n",
        "\n",
        "Aritméticas:\n",
        "\n",
        "- `+`\n",
        "- `-`\n",
        "- `*`\n",
        "- `/`\n",
        "- `//` (división entera)\n",
        "- `%` (módulo)\n",
        "\n",
        "Comparación e igualdad:\n",
        "\n",
        "- `>` y `>=`\n",
        "- `<` y `<=`\n",
        "- `==`\n",
        "\n",
        "Lógicas:\n",
        "\n",
        "- `and`\n",
        "- `or`\n",
        "- `not`\n",
        "- `is`\n",
        "- `in`\n",
        "- `not in`"
      ]
    },
    {
      "cell_type": "markdown",
      "id": "thorough-milan",
      "metadata": {
        "id": "thorough-milan"
      },
      "source": [
        "### Expresión\n",
        "\n",
        "Una expresión es una **combinación de valores, variables y operadores** que **pueden ser <u>evaluadas</u>** por el interprete.\n",
        "\n",
        "> **Nota 🗒️**: Python es interpretado. Esto quiere decir que existe un *interprete* que convierte el código a `bytecode` (código que el procesador es capaz de entender y ejecutar) en el momento en que el código se ejecuta."
      ]
    },
    {
      "cell_type": "markdown",
      "id": "stuck-dollar",
      "metadata": {
        "ExecuteTime": {
          "end_time": "2021-03-22T15:06:13.576207Z",
          "start_time": "2021-03-22T15:06:13.565203Z"
        },
        "id": "stuck-dollar"
      },
      "source": [
        "### Operadores Aritméticos y de Comparación e Igualdad"
      ]
    },
    {
      "cell_type": "markdown",
      "id": "9accd2b6-cf36-4f16-bbc4-2e0f9b55c3a6",
      "metadata": {
        "id": "9accd2b6-cf36-4f16-bbc4-2e0f9b55c3a6"
      },
      "source": [
        "#### Suma"
      ]
    },
    {
      "cell_type": "code",
      "execution_count": null,
      "id": "joined-deviation",
      "metadata": {
        "ExecuteTime": {
          "end_time": "2021-03-22T19:35:19.329013Z",
          "start_time": "2021-03-22T19:35:19.320006Z"
        },
        "id": "joined-deviation"
      },
      "outputs": [],
      "source": [
        "5 + 2"
      ]
    },
    {
      "cell_type": "markdown",
      "id": "d0d90047-e85e-4280-964e-a31f01420199",
      "metadata": {
        "id": "d0d90047-e85e-4280-964e-a31f01420199"
      },
      "source": [
        "#### Resta"
      ]
    },
    {
      "cell_type": "code",
      "execution_count": null,
      "id": "a1e071e8-7b19-4b72-bb7f-7afcb43ccaf2",
      "metadata": {
        "id": "a1e071e8-7b19-4b72-bb7f-7afcb43ccaf2"
      },
      "outputs": [],
      "source": [
        "5 - 2"
      ]
    },
    {
      "cell_type": "markdown",
      "id": "f1af6141-e8ed-49c8-9032-3f963443484e",
      "metadata": {
        "id": "f1af6141-e8ed-49c8-9032-3f963443484e"
      },
      "source": [
        "#### Multiplicación"
      ]
    },
    {
      "cell_type": "code",
      "execution_count": null,
      "id": "joined-interface",
      "metadata": {
        "ExecuteTime": {
          "end_time": "2021-03-22T19:35:21.891720Z",
          "start_time": "2021-03-22T19:35:21.876721Z"
        },
        "id": "joined-interface"
      },
      "outputs": [],
      "source": [
        "5 * 2"
      ]
    },
    {
      "cell_type": "markdown",
      "id": "fe629f57-6c0d-42c5-ab44-9c9574cc78d9",
      "metadata": {
        "id": "fe629f57-6c0d-42c5-ab44-9c9574cc78d9"
      },
      "source": [
        "#### División"
      ]
    },
    {
      "cell_type": "code",
      "execution_count": null,
      "id": "ordered-religious",
      "metadata": {
        "ExecuteTime": {
          "end_time": "2021-03-22T19:35:22.736640Z",
          "start_time": "2021-03-22T19:35:22.725640Z"
        },
        "id": "ordered-religious"
      },
      "outputs": [],
      "source": [
        "5 / 2"
      ]
    },
    {
      "cell_type": "markdown",
      "id": "d3916c1b-6a55-4d58-89dd-a894f89fc06a",
      "metadata": {
        "id": "d3916c1b-6a55-4d58-89dd-a894f89fc06a"
      },
      "source": [
        "#### División Entera\n",
        "\n",
        "Conserva solo la parte entera de la división."
      ]
    },
    {
      "cell_type": "code",
      "execution_count": null,
      "id": "correct-romantic",
      "metadata": {
        "ExecuteTime": {
          "end_time": "2021-03-22T19:35:24.591066Z",
          "start_time": "2021-03-22T19:35:24.571007Z"
        },
        "id": "correct-romantic"
      },
      "outputs": [],
      "source": [
        "5 // 2"
      ]
    },
    {
      "cell_type": "markdown",
      "id": "according-cabin",
      "metadata": {
        "id": "according-cabin"
      },
      "source": [
        "> **Pregunta ❓**: ¿Qué sucede con `//` con al operarlos con datos de tipo `float`?"
      ]
    },
    {
      "cell_type": "code",
      "execution_count": null,
      "id": "coral-satin",
      "metadata": {
        "ExecuteTime": {
          "end_time": "2021-03-22T19:36:41.810644Z",
          "start_time": "2021-03-22T19:36:41.789647Z"
        },
        "id": "coral-satin"
      },
      "outputs": [],
      "source": [
        "2.5 / 2.0"
      ]
    },
    {
      "cell_type": "code",
      "execution_count": null,
      "id": "former-bermuda",
      "metadata": {
        "ExecuteTime": {
          "end_time": "2021-03-22T19:36:57.964286Z",
          "start_time": "2021-03-22T19:36:57.946286Z"
        },
        "id": "former-bermuda",
        "scrolled": true
      },
      "outputs": [],
      "source": [
        "2.5 // 2.0"
      ]
    },
    {
      "cell_type": "markdown",
      "id": "f1b3b93e-01cb-425d-9b4e-947ca43e0d00",
      "metadata": {
        "id": "f1b3b93e-01cb-425d-9b4e-947ca43e0d00"
      },
      "source": [
        "#### Módulo (resto) de una división\n"
      ]
    },
    {
      "cell_type": "code",
      "execution_count": null,
      "id": "martial-bonus",
      "metadata": {
        "ExecuteTime": {
          "end_time": "2021-03-22T19:35:27.157300Z",
          "start_time": "2021-03-22T19:35:27.139301Z"
        },
        "id": "martial-bonus",
        "scrolled": true
      },
      "outputs": [],
      "source": [
        "5 % 2"
      ]
    },
    {
      "cell_type": "markdown",
      "id": "56e4cb85-0ba1-4611-abad-86dc4837a0c8",
      "metadata": {
        "id": "56e4cb85-0ba1-4611-abad-86dc4837a0c8"
      },
      "source": [
        "#### Potenciación\n",
        "\n",
        "2 elevado a 3:"
      ]
    },
    {
      "cell_type": "code",
      "execution_count": null,
      "id": "narrow-salmon",
      "metadata": {
        "ExecuteTime": {
          "end_time": "2021-03-22T19:35:48.238020Z",
          "start_time": "2021-03-22T19:35:48.220022Z"
        },
        "id": "narrow-salmon"
      },
      "outputs": [],
      "source": [
        "2 ** 3"
      ]
    },
    {
      "cell_type": "code",
      "execution_count": null,
      "id": "c28e9fb5-ce62-4fe8-9c33-0ca0c01aae5a",
      "metadata": {
        "id": "c28e9fb5-ce62-4fe8-9c33-0ca0c01aae5a"
      },
      "outputs": [],
      "source": [
        "2 ** -3"
      ]
    },
    {
      "cell_type": "code",
      "execution_count": null,
      "id": "0484298a-a8c4-46e5-a9dd-150269793eff",
      "metadata": {
        "id": "0484298a-a8c4-46e5-a9dd-150269793eff"
      },
      "outputs": [],
      "source": [
        "2 ** -3.2334"
      ]
    },
    {
      "cell_type": "markdown",
      "id": "starting-timeline",
      "metadata": {
        "ExecuteTime": {
          "end_time": "2021-03-22T16:35:35.923564Z",
          "start_time": "2021-03-22T16:35:35.905524Z"
        },
        "id": "starting-timeline"
      },
      "source": [
        "### Operadores de Comparación e Igualdad:"
      ]
    },
    {
      "cell_type": "markdown",
      "id": "6a2b026d-02c2-4630-b5e7-6426295d66f1",
      "metadata": {
        "id": "6a2b026d-02c2-4630-b5e7-6426295d66f1"
      },
      "source": [
        "#### Igualdad"
      ]
    },
    {
      "cell_type": "code",
      "execution_count": null,
      "id": "2b291f92-1831-4ed0-801a-654b2d8c8fdf",
      "metadata": {
        "id": "2b291f92-1831-4ed0-801a-654b2d8c8fdf"
      },
      "outputs": [],
      "source": [
        "# es 2 igual a 2?\n",
        "2 == 2"
      ]
    },
    {
      "cell_type": "code",
      "execution_count": null,
      "id": "4244aa9c-c268-4e30-9856-755bca4659d9",
      "metadata": {
        "id": "4244aa9c-c268-4e30-9856-755bca4659d9"
      },
      "outputs": [],
      "source": [
        "type(2 == 2)"
      ]
    },
    {
      "cell_type": "code",
      "execution_count": null,
      "id": "noticed-facility",
      "metadata": {
        "ExecuteTime": {
          "end_time": "2021-03-22T19:37:45.602649Z",
          "start_time": "2021-03-22T19:37:45.583649Z"
        },
        "id": "noticed-facility"
      },
      "outputs": [],
      "source": [
        "2 == 4"
      ]
    },
    {
      "cell_type": "markdown",
      "id": "50eba53f-edc9-4b9b-8462-8ba670319d87",
      "metadata": {
        "id": "50eba53f-edc9-4b9b-8462-8ba670319d87"
      },
      "source": [
        "> **Pregunta ❓**: ¿Qué sucede con `==` cuando comparamos tipos distintos (`int` con `float` y `string`)?"
      ]
    },
    {
      "cell_type": "code",
      "execution_count": null,
      "id": "crazy-lighting",
      "metadata": {
        "ExecuteTime": {
          "end_time": "2021-03-22T19:38:19.828468Z",
          "start_time": "2021-03-22T19:38:19.808466Z"
        },
        "id": "crazy-lighting"
      },
      "outputs": [],
      "source": [
        "2 == 2.0"
      ]
    },
    {
      "cell_type": "code",
      "execution_count": null,
      "id": "286893f0-738b-4ca1-93c9-069c35872c65",
      "metadata": {
        "id": "286893f0-738b-4ca1-93c9-069c35872c65"
      },
      "outputs": [],
      "source": [
        "2 == \"2\""
      ]
    },
    {
      "cell_type": "code",
      "execution_count": null,
      "id": "0f84aab5-35ba-4725-b6e7-4c56565ae649",
      "metadata": {
        "id": "0f84aab5-35ba-4725-b6e7-4c56565ae649"
      },
      "outputs": [],
      "source": [
        "2 == int(\"2\")"
      ]
    },
    {
      "cell_type": "code",
      "execution_count": null,
      "id": "fdde9f58-e061-43af-ab3a-0f54a882e75e",
      "metadata": {
        "id": "fdde9f58-e061-43af-ab3a-0f54a882e75e"
      },
      "outputs": [],
      "source": [
        "2 == 2 + 0j"
      ]
    },
    {
      "cell_type": "markdown",
      "id": "a0424b09-7127-4032-93f9-96f3e5db8685",
      "metadata": {
        "id": "a0424b09-7127-4032-93f9-96f3e5db8685"
      },
      "source": [
        "#### Mayor y mayor igual"
      ]
    },
    {
      "cell_type": "code",
      "execution_count": null,
      "id": "invisible-snake",
      "metadata": {
        "ExecuteTime": {
          "end_time": "2021-03-22T19:38:48.700702Z",
          "start_time": "2021-03-22T19:38:48.683700Z"
        },
        "id": "invisible-snake"
      },
      "outputs": [],
      "source": [
        "2 > 2"
      ]
    },
    {
      "cell_type": "code",
      "execution_count": null,
      "id": "3b609a2e-5971-404b-ac50-0dc7e76994a3",
      "metadata": {
        "id": "3b609a2e-5971-404b-ac50-0dc7e76994a3"
      },
      "outputs": [],
      "source": [
        "2 > 1"
      ]
    },
    {
      "cell_type": "code",
      "execution_count": null,
      "id": "f352e7f5-e8fd-448e-a11f-276db5d24282",
      "metadata": {
        "id": "f352e7f5-e8fd-448e-a11f-276db5d24282"
      },
      "outputs": [],
      "source": [
        "2 > 3"
      ]
    },
    {
      "cell_type": "code",
      "execution_count": null,
      "id": "8d49b86e-1911-4893-9bc0-2dfe466db800",
      "metadata": {
        "id": "8d49b86e-1911-4893-9bc0-2dfe466db800"
      },
      "outputs": [],
      "source": [
        "2 >= 2"
      ]
    },
    {
      "cell_type": "markdown",
      "id": "bd87d1bb-049d-4081-8470-146067f91662",
      "metadata": {
        "id": "bd87d1bb-049d-4081-8470-146067f91662"
      },
      "source": [
        "> **Pregunta ❓**: ¿Qué sucede con `>`/`>=` cuando comparamos tipos distintos (`int` con `string`)?"
      ]
    },
    {
      "cell_type": "code",
      "execution_count": null,
      "id": "checked-baker",
      "metadata": {
        "ExecuteTime": {
          "end_time": "2021-03-22T19:39:52.016912Z",
          "start_time": "2021-03-22T19:39:51.989914Z"
        },
        "id": "checked-baker",
        "scrolled": true
      },
      "outputs": [],
      "source": [
        "3 >= \"3\""
      ]
    },
    {
      "cell_type": "markdown",
      "id": "602938ee-6669-4b35-87ce-02355596ee35",
      "metadata": {
        "id": "602938ee-6669-4b35-87ce-02355596ee35"
      },
      "source": [
        "#### Menor y menor igual\n",
        "\n",
        "Mismo caso que el anterior"
      ]
    },
    {
      "cell_type": "code",
      "execution_count": null,
      "id": "916267f8-fef4-40e3-8af5-18d2e5472c25",
      "metadata": {
        "id": "916267f8-fef4-40e3-8af5-18d2e5472c25"
      },
      "outputs": [],
      "source": [
        "2 < 3"
      ]
    },
    {
      "cell_type": "code",
      "execution_count": null,
      "id": "93af0c82-99c5-4cf6-abba-26e923b57bf6",
      "metadata": {
        "id": "93af0c82-99c5-4cf6-abba-26e923b57bf6"
      },
      "outputs": [],
      "source": [
        "2 < 1"
      ]
    },
    {
      "cell_type": "markdown",
      "id": "b7c4f15b-a397-4f10-878a-3c88735a456d",
      "metadata": {
        "id": "b7c4f15b-a397-4f10-878a-3c88735a456d"
      },
      "source": [
        "#### Concatenación"
      ]
    },
    {
      "cell_type": "code",
      "execution_count": null,
      "id": "detailed-saver",
      "metadata": {
        "ExecuteTime": {
          "end_time": "2021-03-22T19:40:31.963073Z",
          "start_time": "2021-03-22T19:40:31.949079Z"
        },
        "id": "detailed-saver"
      },
      "outputs": [],
      "source": [
        "pregunta = '¿quieres un '\n",
        "\n",
        "respuesta_a = 'tecito?'\n",
        "respuesta_b = 'cafecito?'"
      ]
    },
    {
      "cell_type": "code",
      "execution_count": null,
      "id": "regional-trauma",
      "metadata": {
        "ExecuteTime": {
          "end_time": "2021-03-22T19:40:32.799073Z",
          "start_time": "2021-03-22T19:40:32.785072Z"
        },
        "id": "regional-trauma"
      },
      "outputs": [],
      "source": [
        "pregunta + respuesta_a"
      ]
    },
    {
      "cell_type": "markdown",
      "id": "speaking-replica",
      "metadata": {
        "id": "speaking-replica"
      },
      "source": [
        "#### Formateo de strings 🌟"
      ]
    },
    {
      "cell_type": "code",
      "execution_count": null,
      "id": "mounted-transaction",
      "metadata": {
        "ExecuteTime": {
          "end_time": "2021-03-22T19:42:28.638229Z",
          "start_time": "2021-03-22T19:42:28.616228Z"
        },
        "id": "mounted-transaction"
      },
      "outputs": [],
      "source": [
        "pregunta_completa = f\"¿deseas un {respuesta_b}\"\n",
        "pregunta_completa"
      ]
    },
    {
      "cell_type": "markdown",
      "id": "a287f29a-529e-4dd0-8a6c-75082af07821",
      "metadata": {
        "id": "a287f29a-529e-4dd0-8a6c-75082af07821"
      },
      "source": [
        "#### Repetir strings"
      ]
    },
    {
      "cell_type": "code",
      "execution_count": null,
      "id": "accessory-pulse",
      "metadata": {
        "ExecuteTime": {
          "end_time": "2021-03-22T19:44:30.723837Z",
          "start_time": "2021-03-22T19:44:30.717836Z"
        },
        "id": "accessory-pulse",
        "scrolled": true
      },
      "outputs": [],
      "source": [
        "respuesta_a * 10"
      ]
    },
    {
      "cell_type": "markdown",
      "id": "patent-trance",
      "metadata": {
        "ExecuteTime": {
          "end_time": "2021-03-22T15:05:16.889531Z",
          "start_time": "2021-03-22T15:05:16.869533Z"
        },
        "id": "patent-trance"
      },
      "source": [
        "> **Pregunta** : ¿ `a / 10` ? ¿ `a // 10` ?"
      ]
    },
    {
      "cell_type": "code",
      "execution_count": null,
      "id": "lasting-courage",
      "metadata": {
        "ExecuteTime": {
          "end_time": "2021-03-22T19:44:42.074505Z",
          "start_time": "2021-03-22T19:44:42.061506Z"
        },
        "id": "lasting-courage"
      },
      "outputs": [],
      "source": [
        "respuesta_a / 10"
      ]
    },
    {
      "cell_type": "markdown",
      "id": "af4d30de-5447-4d70-8c6f-c46b6e335cd0",
      "metadata": {
        "id": "af4d30de-5447-4d70-8c6f-c46b6e335cd0"
      },
      "source": [
        "#### Operador `in`"
      ]
    },
    {
      "cell_type": "code",
      "execution_count": null,
      "id": "35add86b-206b-42ec-aa74-73690ee2e37a",
      "metadata": {
        "id": "35add86b-206b-42ec-aa74-73690ee2e37a"
      },
      "outputs": [],
      "source": [
        "respuesta_b"
      ]
    },
    {
      "cell_type": "code",
      "execution_count": null,
      "id": "disciplinary-clock",
      "metadata": {
        "ExecuteTime": {
          "end_time": "2021-03-22T19:45:43.393616Z",
          "start_time": "2021-03-22T19:45:43.384616Z"
        },
        "id": "disciplinary-clock"
      },
      "outputs": [],
      "source": [
        "'te' in respuesta_b"
      ]
    },
    {
      "cell_type": "code",
      "execution_count": null,
      "id": "corrected-shade",
      "metadata": {
        "ExecuteTime": {
          "end_time": "2021-03-22T19:45:46.932781Z",
          "start_time": "2021-03-22T19:45:46.912751Z"
        },
        "id": "corrected-shade",
        "scrolled": true
      },
      "outputs": [],
      "source": [
        "'cafe' in respuesta_b"
      ]
    },
    {
      "cell_type": "markdown",
      "id": "538b11d5-4402-4a86-ba33-0644c480dbac",
      "metadata": {
        "id": "538b11d5-4402-4a86-ba33-0644c480dbac"
      },
      "source": [
        "#### Operador `not`"
      ]
    },
    {
      "cell_type": "code",
      "execution_count": null,
      "id": "specific-kazakhstan",
      "metadata": {
        "ExecuteTime": {
          "end_time": "2021-03-22T19:45:55.867701Z",
          "start_time": "2021-03-22T19:45:55.847673Z"
        },
        "id": "specific-kazakhstan"
      },
      "outputs": [],
      "source": [
        "'te' not in respuesta_b"
      ]
    },
    {
      "cell_type": "code",
      "execution_count": null,
      "id": "73d477d9",
      "metadata": {
        "id": "73d477d9"
      },
      "outputs": [],
      "source": [
        "pregunta_completa"
      ]
    },
    {
      "cell_type": "markdown",
      "id": "42c50381-eea7-42bf-967b-8dea76e3bcb5",
      "metadata": {
        "id": "42c50381-eea7-42bf-967b-8dea76e3bcb5"
      },
      "source": [
        "### Funciones asociadas a los `strings`"
      ]
    },
    {
      "cell_type": "markdown",
      "id": "7330a8c0-376e-46d0-9772-c941302c06d9",
      "metadata": {
        "id": "7330a8c0-376e-46d0-9772-c941302c06d9"
      },
      "source": [
        "#### Cambiar a mayúscula, minúscula, etc..."
      ]
    },
    {
      "cell_type": "code",
      "execution_count": null,
      "id": "45ea8b6b-1e39-4550-8905-2f533852edf7",
      "metadata": {
        "id": "45ea8b6b-1e39-4550-8905-2f533852edf7"
      },
      "outputs": [],
      "source": [
        "pregunta_completa"
      ]
    },
    {
      "cell_type": "code",
      "execution_count": null,
      "id": "satellite-volume",
      "metadata": {
        "ExecuteTime": {
          "end_time": "2021-03-22T19:46:07.738762Z",
          "start_time": "2021-03-22T19:46:07.724763Z"
        },
        "id": "satellite-volume"
      },
      "outputs": [],
      "source": [
        "print('Lower:', pregunta_completa.lower())\n",
        "print('Upper:', pregunta_completa.upper())\n",
        "print('Title:', pregunta_completa.title())\n",
        "print('Capitalize:', pregunta_completa.capitalize())"
      ]
    },
    {
      "cell_type": "markdown",
      "id": "1caa528f-cd90-4028-a8c8-31a07aba4c32",
      "metadata": {
        "id": "1caa528f-cd90-4028-a8c8-31a07aba4c32"
      },
      "source": [
        "#### Reemplazar"
      ]
    },
    {
      "cell_type": "code",
      "execution_count": null,
      "id": "18fe284c-401a-4b4a-87fd-135542e87833",
      "metadata": {
        "id": "18fe284c-401a-4b4a-87fd-135542e87833"
      },
      "outputs": [],
      "source": [
        "pregunta_completa"
      ]
    },
    {
      "cell_type": "code",
      "execution_count": null,
      "id": "fdaccb71-ea76-4877-850c-ea72c8b8be26",
      "metadata": {
        "id": "fdaccb71-ea76-4877-850c-ea72c8b8be26"
      },
      "outputs": [],
      "source": [
        "pregunta_completa.replace('cafecito', 'tecito')"
      ]
    },
    {
      "cell_type": "markdown",
      "id": "094a6f84-5c15-4855-913f-8813803d79f1",
      "metadata": {
        "id": "094a6f84-5c15-4855-913f-8813803d79f1"
      },
      "source": [
        "#### Eliminar espacios del inicio y final"
      ]
    },
    {
      "cell_type": "code",
      "execution_count": null,
      "id": "f0e56d04-d520-410e-936f-f2a0d031506f",
      "metadata": {
        "id": "f0e56d04-d520-410e-936f-f2a0d031506f"
      },
      "outputs": [],
      "source": [
        "hola = '    hola      '\n",
        "hola"
      ]
    },
    {
      "cell_type": "code",
      "execution_count": null,
      "id": "76be00e0-c205-4347-ac41-6c01a51d241b",
      "metadata": {
        "id": "76be00e0-c205-4347-ac41-6c01a51d241b"
      },
      "outputs": [],
      "source": [
        "hola.strip()"
      ]
    },
    {
      "cell_type": "markdown",
      "id": "distinguished-basin",
      "metadata": {
        "id": "distinguished-basin"
      },
      "source": [
        "Más información y métodos útiles (en inglés):\n",
        "    \n",
        "https://www.programiz.com/python-programming/string"
      ]
    },
    {
      "cell_type": "markdown",
      "id": "diagnostic-doctrine",
      "metadata": {
        "id": "diagnostic-doctrine",
        "tags": []
      },
      "source": [
        "### Operadores con booleanos\n",
        "\n",
        "Las siguientes tablas muestran como funcionan las operaciones lógicas `and`, `or` y `not`."
      ]
    },
    {
      "cell_type": "markdown",
      "id": "physical-gathering",
      "metadata": {
        "id": "physical-gathering"
      },
      "source": [
        "#### Operador `and`\n",
        "\n",
        "Implementa la operación lógica \"y\""
      ]
    },
    {
      "cell_type": "code",
      "execution_count": null,
      "id": "empty-episode",
      "metadata": {
        "ExecuteTime": {
          "end_time": "2021-03-22T19:47:25.648406Z",
          "start_time": "2021-03-22T19:47:25.636406Z"
        },
        "id": "empty-episode"
      },
      "outputs": [],
      "source": [
        "print('| Bool1  -  Bool2 |  Resultado')\n",
        "print('------------------------------')\n",
        "print('| True  and True  | ', True and True)\n",
        "print('| False and True  | ', False and True)\n",
        "print('| True  and False | ', True and False)\n",
        "print('| False and False | ', False and False)"
      ]
    },
    {
      "cell_type": "markdown",
      "id": "olympic-louisville",
      "metadata": {
        "id": "olympic-louisville"
      },
      "source": [
        "#### Operador `or`\n",
        "\n",
        "Implementa la operación lógica \"o\""
      ]
    },
    {
      "cell_type": "code",
      "execution_count": null,
      "id": "played-breakfast",
      "metadata": {
        "ExecuteTime": {
          "end_time": "2021-03-22T19:47:40.866246Z",
          "start_time": "2021-03-22T19:47:40.858245Z"
        },
        "id": "played-breakfast"
      },
      "outputs": [],
      "source": [
        "print('| Bool1  -  Bool2 |  Resultado')\n",
        "print('------------------------------')\n",
        "print('| True  or True  | ', True or True)\n",
        "print('| False or True  | ', False or True)\n",
        "print('| True  or False | ', True or False)\n",
        "print('| False or False | ', False or False)"
      ]
    },
    {
      "cell_type": "markdown",
      "id": "grateful-atlas",
      "metadata": {
        "id": "grateful-atlas"
      },
      "source": [
        "#### Operador `not`\n",
        "\n",
        "\n",
        "Implementa la operación lógica \"negación\""
      ]
    },
    {
      "cell_type": "code",
      "execution_count": null,
      "id": "ad43ed3c-e999-41ad-9b5a-56079ccef153",
      "metadata": {
        "id": "ad43ed3c-e999-41ad-9b5a-56079ccef153"
      },
      "outputs": [],
      "source": [
        "print('| Bool1      |  Resultado')\n",
        "print('-------------------------')\n",
        "print('| not True   | ', not True)\n",
        "print('| not False  | ', not False)"
      ]
    },
    {
      "cell_type": "markdown",
      "id": "polar-worst",
      "metadata": {
        "id": "polar-worst"
      },
      "source": [
        "#### Comparaciones e igualdades"
      ]
    },
    {
      "cell_type": "code",
      "execution_count": null,
      "id": "innocent-drive",
      "metadata": {
        "ExecuteTime": {
          "end_time": "2021-03-22T19:47:59.571799Z",
          "start_time": "2021-03-22T19:47:59.565834Z"
        },
        "id": "innocent-drive"
      },
      "outputs": [],
      "source": [
        "variable_1 = True\n",
        "variable_2 = False"
      ]
    },
    {
      "cell_type": "markdown",
      "id": "cd5425b5-803b-448c-b018-6cfa02b429c9",
      "metadata": {
        "id": "cd5425b5-803b-448c-b018-6cfa02b429c9"
      },
      "source": [
        "#### Igualdad"
      ]
    },
    {
      "cell_type": "code",
      "execution_count": null,
      "id": "acquired-lambda",
      "metadata": {
        "ExecuteTime": {
          "end_time": "2021-03-22T19:48:24.654775Z",
          "start_time": "2021-03-22T19:48:24.645776Z"
        },
        "id": "acquired-lambda"
      },
      "outputs": [],
      "source": [
        "variable_1 == True"
      ]
    },
    {
      "cell_type": "code",
      "execution_count": null,
      "id": "94d0ecee-42b1-453e-941d-3db430af64c7",
      "metadata": {
        "id": "94d0ecee-42b1-453e-941d-3db430af64c7"
      },
      "outputs": [],
      "source": [
        "variable_2 == True"
      ]
    },
    {
      "cell_type": "markdown",
      "id": "little-instrumentation",
      "metadata": {
        "ExecuteTime": {
          "end_time": "2021-03-22T15:16:11.183686Z",
          "start_time": "2021-03-22T15:16:11.173687Z"
        },
        "id": "little-instrumentation"
      },
      "source": [
        "> **Pregunta ❓:** ¿En otros lenguajes existen los operadores `&&` y `||`?¿Existen estos en python?"
      ]
    },
    {
      "cell_type": "markdown",
      "id": "13936f8c-66cf-40ac-a9b8-f15b292a9466",
      "metadata": {
        "id": "13936f8c-66cf-40ac-a9b8-f15b292a9466"
      },
      "source": [
        "---"
      ]
    },
    {
      "cell_type": "markdown",
      "id": "greater-internship",
      "metadata": {
        "id": "greater-internship"
      },
      "source": [
        "\n",
        "## 4. Control de Flujo 🔀"
      ]
    },
    {
      "cell_type": "markdown",
      "id": "ordinary-navigation",
      "metadata": {
        "id": "ordinary-navigation"
      },
      "source": [
        "Una estructura de **Control de flujo** se refiere a un tipo de estructura de código que nos permite decidir si ejecutar o no un determinado segmento de código según una expresión o variable booleana.\n",
        "\n",
        "### Ejemplo: _La cafetería de la serpiente 🐍_\n",
        "\n",
        "En el ejemplo desarrollaremos una cafetería usando expresiones de control de flujo en python."
      ]
    },
    {
      "cell_type": "code",
      "execution_count": null,
      "id": "32c20440-f5a6-479e-87fa-313ba1f038a5",
      "metadata": {
        "id": "32c20440-f5a6-479e-87fa-313ba1f038a5"
      },
      "outputs": [],
      "source": [
        "pedido = 'té'"
      ]
    },
    {
      "cell_type": "markdown",
      "id": "b3ac885f-19a4-439f-bee8-f45703471ef0",
      "metadata": {
        "id": "b3ac885f-19a4-439f-bee8-f45703471ef0"
      },
      "source": [
        "**Caso 1:** si respuesta es `'té'`, entonces servir el té:"
      ]
    },
    {
      "cell_type": "code",
      "execution_count": null,
      "id": "130dc663-39ae-4168-8d5a-9efab520a127",
      "metadata": {
        "id": "130dc663-39ae-4168-8d5a-9efab520a127"
      },
      "outputs": [],
      "source": [
        "if 'té' == pedido:\n",
        "    print('Enseguida le traigo su té 🍵.')"
      ]
    },
    {
      "cell_type": "markdown",
      "id": "e70f18ac-95e0-40d5-bd47-7a02c014c7ad",
      "metadata": {
        "id": "e70f18ac-95e0-40d5-bd47-7a02c014c7ad"
      },
      "source": [
        "> **Pregunta ❓**: ¿Qué pasa si ahora pruebo con café?"
      ]
    },
    {
      "cell_type": "code",
      "execution_count": null,
      "id": "14cf3179-6235-4831-b2d8-16e593918dba",
      "metadata": {
        "id": "14cf3179-6235-4831-b2d8-16e593918dba"
      },
      "outputs": [],
      "source": [
        "pedido = 'café'"
      ]
    },
    {
      "cell_type": "code",
      "execution_count": null,
      "id": "ca399f33-26a1-4b04-961f-16217725bb77",
      "metadata": {
        "id": "ca399f33-26a1-4b04-961f-16217725bb77"
      },
      "outputs": [],
      "source": [
        "if 'té' == pedido:\n",
        "    print('Enseguida le traigo su té 🍵.')"
      ]
    },
    {
      "cell_type": "markdown",
      "id": "e6273bd6-6ba3-4256-b594-9e60e1c17f9f",
      "metadata": {
        "id": "e6273bd6-6ba3-4256-b594-9e60e1c17f9f"
      },
      "source": [
        "**Caso 2:** si respuesta es `'café'`, entonces servir el café, pero conservando la opción de servir té:"
      ]
    },
    {
      "cell_type": "code",
      "execution_count": null,
      "id": "working-garden",
      "metadata": {
        "ExecuteTime": {
          "end_time": "2021-03-22T19:55:30.847496Z",
          "start_time": "2021-03-22T19:55:30.831497Z"
        },
        "id": "working-garden"
      },
      "outputs": [],
      "source": [
        "pedido = 'café'\n",
        "\n",
        "if 'té' == pedido:\n",
        "    print('Enseguida le traigo su té 🍵.')\n",
        "\n",
        "elif pedido == 'café':\n",
        "    print('Enseguida le traigo su café ☕.')"
      ]
    },
    {
      "cell_type": "code",
      "execution_count": null,
      "id": "406fadaa-5056-4b34-a140-e2c3e91facb2",
      "metadata": {
        "id": "406fadaa-5056-4b34-a140-e2c3e91facb2"
      },
      "outputs": [],
      "source": [
        "pedido = 'café'\n",
        "\n",
        "if 'té' == pedido:\n",
        "    print('Enseguida le traigo su té 🍵.')\n",
        "\n",
        "if 'té' == pedido:\n",
        "    print('Enseguida le traigo su café ☕.')"
      ]
    },
    {
      "cell_type": "markdown",
      "id": "6907638d-9c8c-41c7-87a3-1521cc2ae33f",
      "metadata": {
        "id": "6907638d-9c8c-41c7-87a3-1521cc2ae33f"
      },
      "source": [
        "> **Nota 🗒️**: La keyword ```elif``` permite agregar un nuevo caso al control de flujo y su uso es opcional.\n"
      ]
    },
    {
      "cell_type": "markdown",
      "id": "3313e588-8cc0-4d4e-b6bb-d4c055fc8a0b",
      "metadata": {
        "id": "3313e588-8cc0-4d4e-b6bb-d4c055fc8a0b"
      },
      "source": [
        "**Caso 3:** Para cualquier pedido que no sea ni té ni café, indicar que no hay:"
      ]
    },
    {
      "cell_type": "code",
      "execution_count": null,
      "id": "bc9f1c1a-2254-4e74-be16-45bbdea3aad8",
      "metadata": {
        "id": "bc9f1c1a-2254-4e74-be16-45bbdea3aad8"
      },
      "outputs": [],
      "source": [
        "pedido = 'bebida'\n",
        "\n",
        "if 'té' == pedido:\n",
        "    print('Enseguida le traigo su 🍵.')\n",
        "\n",
        "elif pedido == 'café':\n",
        "    print('Enseguida le traigo su ☕.')\n",
        "\n",
        "else:\n",
        "    print(\"No tenemos lo que nos está pidiendo\")"
      ]
    },
    {
      "cell_type": "markdown",
      "id": "5240eaa1-46a8-4fa2-b850-1ad12395d7bb",
      "metadata": {
        "id": "5240eaa1-46a8-4fa2-b850-1ad12395d7bb"
      },
      "source": [
        "\n",
        "> **Nota 🗒️**: La keyword ```else``` finaliza el el flujo y es opcional. Es decir, se puede hacer\n",
        "un control de flujo sin utilizar ```elif``` no ```else```.\n"
      ]
    },
    {
      "cell_type": "markdown",
      "id": "284c4382-5bc0-4742-aa22-8d2a364fa8bb",
      "metadata": {
        "id": "284c4382-5bc0-4742-aa22-8d2a364fa8bb"
      },
      "source": [
        "> **Pregunta ❓:** Qué pasa si pruebo el código anterior con `te` (sin acento)?"
      ]
    },
    {
      "cell_type": "code",
      "execution_count": null,
      "id": "b504662f-eb1b-4544-87f2-71c299bc4be5",
      "metadata": {
        "id": "b504662f-eb1b-4544-87f2-71c299bc4be5"
      },
      "outputs": [],
      "source": [
        "pedido = 'te'\n",
        "\n",
        "if 'té' == pedido:\n",
        "    print('Enseguida le traigo su 🍵.')\n",
        "\n",
        "elif pedido == 'café':\n",
        "    print('Enseguida le traigo su ☕.')\n",
        "\n",
        "else:\n",
        "    print(\"No tenemos lo que nos está pidiendo\")"
      ]
    },
    {
      "cell_type": "markdown",
      "id": "78e6120c-50cf-4e6c-a29d-5db77a4f7f04",
      "metadata": {
        "id": "78e6120c-50cf-4e6c-a29d-5db77a4f7f04"
      },
      "source": [
        "> **Pregunta ❓:** ¿Cómo agrego la opción de `bebida`?"
      ]
    },
    {
      "cell_type": "code",
      "execution_count": null,
      "id": "36c665de-df31-4854-8376-7befe25e799a",
      "metadata": {
        "id": "36c665de-df31-4854-8376-7befe25e799a"
      },
      "outputs": [],
      "source": [
        "if 'té' == pedido:\n",
        "    print('Enseguida le traigo su 🍵.')\n",
        "\n",
        "elif pedido == 'café':\n",
        "    print('Enseguida le traigo su ☕.')\n",
        "\n",
        "else:\n",
        "    print(\"No tenemos lo que nos está pidiendo\")"
      ]
    },
    {
      "cell_type": "markdown",
      "id": "e729752a-e1fe-412b-810f-2fe55081558f",
      "metadata": {
        "id": "e729752a-e1fe-412b-810f-2fe55081558f"
      },
      "source": [
        "> **Nota 🗒️**: Puede usarse ```elif``` tantas veces como sea necesario.\n"
      ]
    },
    {
      "cell_type": "markdown",
      "id": "de2405ca-04b5-4185-b3ec-eaf56c2c6a1a",
      "metadata": {
        "id": "de2405ca-04b5-4185-b3ec-eaf56c2c6a1a"
      },
      "source": [
        "---"
      ]
    },
    {
      "cell_type": "markdown",
      "id": "digital-incentive",
      "metadata": {
        "id": "digital-incentive",
        "tags": []
      },
      "source": [
        "## 5. Colecciones 🗃️\n",
        "\n",
        "Hasta el momento solo hemos visto como manejar datos únicos, sin embargo, en ciencia de datos necesitaremos herramientas para manejar grandes colecciones de datos.\n",
        "\n",
        "> **Pregunta ❓:** Cómo han manejado colecciones de datos en python?.\n",
        "\n"
      ]
    },
    {
      "cell_type": "markdown",
      "id": "a18cfc4c-8e49-48fd-aa25-c5b8e4e51f73",
      "metadata": {
        "id": "a18cfc4c-8e49-48fd-aa25-c5b8e4e51f73"
      },
      "source": [
        "Una **colección** es una estructura de datos que permite almacenar datos y operarlos. Algunas de las posibles operaciones son:\n",
        "\n",
        "- Ordenar\n",
        "- Mapear (aplicar una función a cada elemento)\n",
        "- Filtrar\n",
        "- Agregar de todos los elementos (según alguna función como la suma o el promedio)."
      ]
    },
    {
      "cell_type": "markdown",
      "id": "45e2dd1b-3328-4971-81aa-33f08f2b4dd0",
      "metadata": {
        "id": "45e2dd1b-3328-4971-81aa-33f08f2b4dd0"
      },
      "source": [
        "### Mutabilidad\n",
        "\n",
        "En python, las colecciones pueden ser:\n",
        "\n",
        "1. **Mutables** (listas, conjuntos), que en palabras simples, permiten adición, eliminación y modificación de sus elementos.\n",
        "\n",
        "2. **Inmutables** (tuplas). No se pueden modificar sus elementos,\n",
        "\n"
      ]
    },
    {
      "cell_type": "markdown",
      "id": "78ff8b95-0611-4318-a8a5-607e1ca1c25b",
      "metadata": {
        "id": "78ff8b95-0611-4318-a8a5-607e1ca1c25b"
      },
      "source": [
        "### Iterar\n",
        "\n",
        "Iterar se define como \"realizar cierta acción varias veces\".\n",
        "\n",
        "Finalmente, es posible **iterar** sobre estas estructuras y calcular operaciones de reducción sobre estas (promedios, medianas, sumas, etc ...). Por tal motivo, las colecciones están íntimamente relacionados con la programación en Python para el análisis de datos."
      ]
    },
    {
      "cell_type": "markdown",
      "id": "dynamic-dragon",
      "metadata": {
        "id": "dynamic-dragon"
      },
      "source": [
        "### Listas\n",
        "\n",
        "Creamos las listas usando los brackets ([])."
      ]
    },
    {
      "cell_type": "code",
      "execution_count": null,
      "id": "racial-optimum",
      "metadata": {
        "ExecuteTime": {
          "end_time": "2021-03-22T19:57:50.566059Z",
          "start_time": "2021-03-22T19:57:50.551060Z"
        },
        "id": "racial-optimum"
      },
      "outputs": [],
      "source": [
        "# Lista sin elementos pero inicializada.\n",
        "lista_vacia = []\n",
        "lista_vacia"
      ]
    },
    {
      "cell_type": "code",
      "execution_count": null,
      "id": "amateur-morocco",
      "metadata": {
        "id": "amateur-morocco",
        "scrolled": true
      },
      "outputs": [],
      "source": [
        "# Lista con literales\n",
        "lista_1 = [1, 2, 3]\n",
        "lista_1"
      ]
    },
    {
      "cell_type": "markdown",
      "id": "discrete-filter",
      "metadata": {
        "id": "discrete-filter"
      },
      "source": [
        "También podemos crear una lista con distintos tipos de datos (incluyendo otras colecciones)"
      ]
    },
    {
      "cell_type": "code",
      "execution_count": null,
      "id": "collaborative-rescue",
      "metadata": {
        "ExecuteTime": {
          "end_time": "2021-03-22T19:58:06.077336Z",
          "start_time": "2021-03-22T19:58:06.062335Z"
        },
        "id": "collaborative-rescue"
      },
      "outputs": [],
      "source": [
        "lista_2 = [1, 2, 10.0, 'hola', True, [0, 1, 2]]\n",
        "lista_2"
      ]
    },
    {
      "cell_type": "markdown",
      "id": "8a5f65bf",
      "metadata": {
        "id": "8a5f65bf"
      },
      "source": [
        "> **Pregunta ❓**: ¿Sería correcto declarar una lista como esta: `presion = [1 ,2 ,3, 3.3, 3 +1j, '4']`?"
      ]
    },
    {
      "cell_type": "markdown",
      "id": "compound-civilization",
      "metadata": {
        "id": "compound-civilization"
      },
      "source": [
        "Y podemos acceder a la **cantidad** de elementos de la lista usando la función `len(variable_lista)`"
      ]
    },
    {
      "cell_type": "code",
      "execution_count": null,
      "id": "adapted-failing",
      "metadata": {
        "ExecuteTime": {
          "end_time": "2021-03-23T13:47:49.256063Z",
          "start_time": "2021-03-23T13:47:49.006052Z"
        },
        "id": "adapted-failing"
      },
      "outputs": [],
      "source": [
        "# Largo de la lista = Cantidad de elementos dentro de la lista.\n",
        "len(lista_2)"
      ]
    },
    {
      "cell_type": "code",
      "execution_count": null,
      "id": "91d764ca-875f-49ba-aa83-2007e382a16b",
      "metadata": {
        "id": "91d764ca-875f-49ba-aa83-2007e382a16b"
      },
      "outputs": [],
      "source": [
        "len([])"
      ]
    },
    {
      "cell_type": "markdown",
      "id": "orange-operation",
      "metadata": {
        "id": "orange-operation"
      },
      "source": [
        "#### Operaciones con listas"
      ]
    },
    {
      "cell_type": "markdown",
      "id": "cleared-mattress",
      "metadata": {
        "id": "cleared-mattress"
      },
      "source": [
        "##### Indexado: Cómo acceder a ciertos elementos de la lista\n",
        "\n",
        "\n",
        "Cada elemento de una lista va asociado a un indice, el cual identifica la posición del elemnto dentro de la lista.\n",
        "```python\n",
        "lista   =  ['Uvas 🍇', 'Melón 🍈', 'Sandía 🍉', 'Damasco 🍊', 'Limón 🍋']\n",
        "indices -> [  0            1             2             3            4  ]\n",
        "# Ojo que parten desde el 0!!\n",
        "```\n",
        "\n",
        "Podemos acceder a cierto elemento de la lista  usando la sintaxis\n",
        "\n",
        "```python\n",
        "lista[indice]\n",
        "```\n",
        "\n"
      ]
    },
    {
      "cell_type": "code",
      "execution_count": null,
      "id": "6b0ef001-0d3c-4489-825f-b4683abd90d8",
      "metadata": {
        "ExecuteTime": {
          "end_time": "2021-03-22T19:59:05.476354Z",
          "start_time": "2021-03-22T19:59:05.461354Z"
        },
        "id": "6b0ef001-0d3c-4489-825f-b4683abd90d8"
      },
      "outputs": [],
      "source": [
        "lista = [\n",
        "    'Uvas 🍇',\n",
        "    'Melón 🍈',\n",
        "    'Sandía 🍉',\n",
        "    'Damasco 🍊',\n",
        "    'Limón 🍋',\n",
        "]\n",
        "\n",
        "# len(lista) nos permite ver el número de elementos que contiene la lista\n",
        "\n",
        "len(lista)"
      ]
    },
    {
      "cell_type": "code",
      "execution_count": null,
      "id": "premium-contribution",
      "metadata": {
        "id": "premium-contribution"
      },
      "outputs": [],
      "source": [
        "lista[0]"
      ]
    },
    {
      "cell_type": "code",
      "execution_count": null,
      "id": "younger-harbor",
      "metadata": {
        "ExecuteTime": {
          "end_time": "2021-03-22T19:59:13.168055Z",
          "start_time": "2021-03-22T19:59:13.158028Z"
        },
        "id": "younger-harbor"
      },
      "outputs": [],
      "source": [
        "lista[1]"
      ]
    },
    {
      "cell_type": "markdown",
      "id": "a97d1d41-3d68-4f31-b9e5-5807015c6ab3",
      "metadata": {
        "id": "a97d1d41-3d68-4f31-b9e5-5807015c6ab3"
      },
      "source": [
        "El indexado negativo nos permite partir desde el último elemento hasta el primero\n"
      ]
    },
    {
      "cell_type": "code",
      "execution_count": null,
      "id": "beautiful-prayer",
      "metadata": {
        "ExecuteTime": {
          "end_time": "2021-03-22T19:59:30.685686Z",
          "start_time": "2021-03-22T19:59:30.673688Z"
        },
        "id": "beautiful-prayer"
      },
      "outputs": [],
      "source": [
        "lista[-1]"
      ]
    },
    {
      "cell_type": "markdown",
      "id": "8c43cf2a-8e1c-4ce1-ab18-ff87641f4b02",
      "metadata": {
        "id": "8c43cf2a-8e1c-4ce1-ab18-ff87641f4b02",
        "jp-MarkdownHeadingCollapsed": true,
        "tags": []
      },
      "source": [
        "Indices parten de cero. El largo de la lista parte contando desde 1, ya que existe por lo menos un elemento en la lista. Entonces, para sacar el elemento i, tenemos que restale 1."
      ]
    },
    {
      "cell_type": "code",
      "execution_count": null,
      "id": "competitive-valuation",
      "metadata": {
        "ExecuteTime": {
          "end_time": "2021-03-22T20:01:32.006964Z",
          "start_time": "2021-03-22T20:01:31.991966Z"
        },
        "id": "competitive-valuation"
      },
      "outputs": [],
      "source": [
        "# El código anterior es equivalente a algo similar a esto:\n",
        "lista[len(lista) - 1]"
      ]
    },
    {
      "cell_type": "code",
      "execution_count": null,
      "id": "determined-olympus",
      "metadata": {
        "ExecuteTime": {
          "end_time": "2021-03-22T20:01:41.166890Z",
          "start_time": "2021-03-22T20:01:41.153886Z"
        },
        "id": "determined-olympus"
      },
      "outputs": [],
      "source": [
        "lista[-1]"
      ]
    },
    {
      "cell_type": "markdown",
      "id": "widespread-serbia",
      "metadata": {
        "id": "widespread-serbia"
      },
      "source": [
        "Podemos mutar un valor de una lista usando\n",
        "\n",
        "```python\n",
        "lista[indice] = nuevo_valor\n",
        "```"
      ]
    },
    {
      "cell_type": "code",
      "execution_count": null,
      "id": "defined-allergy",
      "metadata": {
        "id": "defined-allergy"
      },
      "outputs": [],
      "source": [
        "lista"
      ]
    },
    {
      "cell_type": "code",
      "execution_count": null,
      "id": "threatened-channel",
      "metadata": {
        "id": "threatened-channel",
        "scrolled": true
      },
      "outputs": [],
      "source": [
        "lista[0] = 'Manzana🍏' # modificamos el elemento en el índice 0 por '🍏 '\n",
        "lista"
      ]
    },
    {
      "cell_type": "markdown",
      "id": "tracked-quality",
      "metadata": {
        "id": "tracked-quality"
      },
      "source": [
        "Nota: Podemos simular las matrices a través de listas de listas"
      ]
    },
    {
      "cell_type": "code",
      "execution_count": null,
      "id": "driven-vacuum",
      "metadata": {
        "ExecuteTime": {
          "end_time": "2021-03-22T20:02:01.976235Z",
          "start_time": "2021-03-22T20:02:01.959238Z"
        },
        "id": "driven-vacuum"
      },
      "outputs": [],
      "source": [
        "matriz = [\n",
        "    [1, 2, 3],\n",
        "    [4, 5, 6],\n",
        "    [7, 8, 9]\n",
        "]\n",
        "\n",
        "matriz[2]  # i = Tercera fila"
      ]
    },
    {
      "cell_type": "code",
      "execution_count": null,
      "id": "b4fd647a-ffd0-4361-b2fa-4302f46ca7d0",
      "metadata": {
        "id": "b4fd647a-ffd0-4361-b2fa-4302f46ca7d0"
      },
      "outputs": [],
      "source": [
        "matriz[2][1]"
      ]
    },
    {
      "cell_type": "code",
      "execution_count": null,
      "id": "english-missile",
      "metadata": {
        "ExecuteTime": {
          "end_time": "2021-03-22T20:02:26.495024Z",
          "start_time": "2021-03-22T20:02:26.487026Z"
        },
        "id": "english-missile",
        "scrolled": true
      },
      "outputs": [],
      "source": [
        "# Para acceder a un elemento de la matriz, podemos usar un doble indexado.\n",
        "\n",
        "matriz[2][0]  # i = Tercera fila, j = primera columna"
      ]
    },
    {
      "cell_type": "markdown",
      "id": "respected-principal",
      "metadata": {
        "id": "respected-principal"
      },
      "source": [
        "##### Slice: Seleccionar una sublista a partir ciertos indices\n",
        "\n",
        "Notar que esta operación retorna una nueva lista con referencias a los datos de la lista original (no los copia)."
      ]
    },
    {
      "cell_type": "code",
      "execution_count": null,
      "id": "different-uzbekistan",
      "metadata": {
        "ExecuteTime": {
          "end_time": "2021-03-22T20:02:49.919181Z",
          "start_time": "2021-03-22T20:02:49.901179Z"
        },
        "id": "different-uzbekistan"
      },
      "outputs": [],
      "source": [
        "lista_3 = [\n",
        "    'Uvas 🍇',\n",
        "    'Melón 🍈',\n",
        "    'Sandía 🍉',\n",
        "    'Damasco 🍊',\n",
        "    'Limón 🍋',\n",
        "]\n",
        "\n",
        "lista_3[1:4]"
      ]
    },
    {
      "cell_type": "markdown",
      "id": "mighty-first",
      "metadata": {
        "id": "mighty-first"
      },
      "source": [
        "##### `.append`: Agrega un elemento al final de la lista.\n",
        "\n",
        "Esta operación muta la lista original"
      ]
    },
    {
      "cell_type": "code",
      "execution_count": null,
      "id": "banner-cowboy",
      "metadata": {
        "ExecuteTime": {
          "end_time": "2021-03-22T20:06:11.031940Z",
          "start_time": "2021-03-22T20:06:11.021910Z"
        },
        "id": "banner-cowboy"
      },
      "outputs": [],
      "source": [
        "lista = [\n",
        "    'Uvas 🍇',\n",
        "    'Melón 🍈',\n",
        "    'Sandía 🍉',\n",
        "    'Damasco 🍊',\n",
        "    'Limón 🍋',\n",
        "]\n",
        "\n",
        "lista.append('Manzana 🍎')\n",
        "lista"
      ]
    },
    {
      "cell_type": "markdown",
      "id": "functioning-header",
      "metadata": {
        "ExecuteTime": {
          "end_time": "2021-03-22T17:22:38.838554Z",
          "start_time": "2021-03-22T17:22:38.823544Z"
        },
        "id": "functioning-header"
      },
      "source": [
        "> **Pregunta ❓**: ¿Qué pasa si ejecutamos la misma expresión nuevamente?"
      ]
    },
    {
      "cell_type": "code",
      "execution_count": null,
      "id": "amino-commodity",
      "metadata": {
        "ExecuteTime": {
          "end_time": "2021-03-22T20:06:24.586145Z",
          "start_time": "2021-03-22T20:06:24.575142Z"
        },
        "id": "amino-commodity"
      },
      "outputs": [],
      "source": [
        "lista.append('Manzana 🍎')\n",
        "lista"
      ]
    },
    {
      "cell_type": "code",
      "execution_count": null,
      "id": "1fd560f9-dfe4-4378-ab26-64fa2f1e1297",
      "metadata": {
        "id": "1fd560f9-dfe4-4378-ab26-64fa2f1e1297"
      },
      "outputs": [],
      "source": [
        "lista"
      ]
    },
    {
      "cell_type": "markdown",
      "id": "proof-vaccine",
      "metadata": {
        "ExecuteTime": {
          "end_time": "2021-03-22T17:25:28.562746Z",
          "start_time": "2021-03-22T17:25:28.552750Z"
        },
        "id": "proof-vaccine"
      },
      "source": [
        "#####  Concatenar\n",
        "\n",
        "También se pueden concatenar listas. Estas rentornan una **nueva lista** en vez de mutar la de origen."
      ]
    },
    {
      "cell_type": "code",
      "execution_count": null,
      "id": "copyrighted-schema",
      "metadata": {
        "ExecuteTime": {
          "end_time": "2021-03-23T13:48:20.670219Z",
          "start_time": "2021-03-23T13:48:20.651210Z"
        },
        "id": "copyrighted-schema"
      },
      "outputs": [],
      "source": [
        "# Limpiamos a lista anterior a la original que teníamos.\n",
        "lista = ['Uvas 🍇', 'Melón 🍈', 'Sandía 🍉', 'Damasco 🍊', 'Limón 🍋', 'Manzana 🍎']\n",
        "lista_2 = ['Manzana 🍎', 'Plátano 🍌', 'Piña 🍍']\n",
        "\n",
        "# Concatenamos\n",
        "nueva_lista = lista + lista_2\n",
        "nueva_lista"
      ]
    },
    {
      "cell_type": "code",
      "execution_count": null,
      "id": "1d396017-9ae4-40cf-8756-51cf05413e16",
      "metadata": {
        "id": "1d396017-9ae4-40cf-8756-51cf05413e16"
      },
      "outputs": [],
      "source": [
        "lista"
      ]
    },
    {
      "cell_type": "markdown",
      "id": "identified-terrorist",
      "metadata": {
        "id": "identified-terrorist"
      },
      "source": [
        "##### `.pop`: Quita de la lista el elemento indicado por cierto índice\n",
        "\n",
        "Observación: Si no encuentra un elemento en el índice indicado, levanta una excepción y corta la ejecución del programa."
      ]
    },
    {
      "cell_type": "code",
      "execution_count": null,
      "id": "98d1f376-6f59-41d5-87e2-c25d257e9eb3",
      "metadata": {
        "id": "98d1f376-6f59-41d5-87e2-c25d257e9eb3"
      },
      "outputs": [],
      "source": [
        "lista"
      ]
    },
    {
      "cell_type": "code",
      "execution_count": null,
      "id": "threaded-future",
      "metadata": {
        "ExecuteTime": {
          "end_time": "2021-03-23T13:48:26.935898Z",
          "start_time": "2021-03-23T13:48:26.915897Z"
        },
        "id": "threaded-future"
      },
      "outputs": [],
      "source": [
        "lista.pop(1)"
      ]
    },
    {
      "cell_type": "code",
      "execution_count": null,
      "id": "d4bccf15-9aae-4899-8076-675eee487a45",
      "metadata": {
        "id": "d4bccf15-9aae-4899-8076-675eee487a45"
      },
      "outputs": [],
      "source": [
        "lista"
      ]
    },
    {
      "cell_type": "code",
      "execution_count": null,
      "id": "monetary-theater",
      "metadata": {
        "ExecuteTime": {
          "end_time": "2021-03-23T13:48:27.708582Z",
          "start_time": "2021-03-23T13:48:27.698582Z"
        },
        "id": "monetary-theater"
      },
      "outputs": [],
      "source": [
        "lista.pop(100)"
      ]
    },
    {
      "cell_type": "code",
      "execution_count": null,
      "id": "9cd07779-f4d3-42b3-add5-0664e55d1bd0",
      "metadata": {
        "id": "9cd07779-f4d3-42b3-add5-0664e55d1bd0"
      },
      "outputs": [],
      "source": [
        "lista.pop(-1)"
      ]
    },
    {
      "cell_type": "markdown",
      "id": "behavioral-master",
      "metadata": {
        "ExecuteTime": {
          "end_time": "2021-03-22T18:06:52.967997Z",
          "start_time": "2021-03-22T18:06:52.953004Z"
        },
        "id": "behavioral-master"
      },
      "source": [
        "##### `.sort`: Ordena\n",
        "\n",
        "> **Nota 🗒️**: Ordena según como se defina `>=` para el tipo de dato."
      ]
    },
    {
      "cell_type": "code",
      "execution_count": null,
      "id": "persistent-stretch",
      "metadata": {
        "ExecuteTime": {
          "end_time": "2021-03-23T13:48:32.069063Z",
          "start_time": "2021-03-23T13:48:32.052063Z"
        },
        "id": "persistent-stretch"
      },
      "outputs": [],
      "source": [
        "# Orden numérico.\n",
        "lista_desordenada = [10, 3, 2, -8, 1, 0, 0, -3]\n",
        "lista_desordenada.sort()\n",
        "lista_desordenada"
      ]
    },
    {
      "cell_type": "code",
      "execution_count": null,
      "id": "b4413d7c-d688-4e94-82ee-a402b9f271c1",
      "metadata": {
        "id": "b4413d7c-d688-4e94-82ee-a402b9f271c1"
      },
      "outputs": [],
      "source": [
        "lista_desordenada"
      ]
    },
    {
      "cell_type": "markdown",
      "id": "cf31b50d-fa59-4b87-979f-ccd6924a2f97",
      "metadata": {
        "id": "cf31b50d-fa59-4b87-979f-ccd6924a2f97"
      },
      "source": [
        "Para ordenar strings también se hace uso del orden lexicográfico"
      ]
    },
    {
      "cell_type": "code",
      "execution_count": null,
      "id": "aggressive-production",
      "metadata": {
        "ExecuteTime": {
          "end_time": "2021-03-23T13:48:32.845205Z",
          "start_time": "2021-03-23T13:48:32.829250Z"
        },
        "id": "aggressive-production"
      },
      "outputs": [],
      "source": [
        "# Usando listas con strings se hace con orden lexicográfico.\n",
        "lista_desordenada_2 = [\n",
        "    'vienesa 🍖',\n",
        "    'pan 🥖',\n",
        "    'tomate 🍅',\n",
        "    'palta 🥑',\n",
        "    'mayo 🍶',\n",
        "    'ketchup 🍶'\n",
        "]\n",
        "lista_desordenada_2.sort()\n",
        "lista_desordenada_2"
      ]
    },
    {
      "cell_type": "markdown",
      "id": "metropolitan-nashville",
      "metadata": {
        "id": "metropolitan-nashville"
      },
      "source": [
        "##### `.index`: Busca el elemento entregado en la lista y retorna su índice"
      ]
    },
    {
      "cell_type": "code",
      "execution_count": null,
      "id": "modular-maximum",
      "metadata": {
        "ExecuteTime": {
          "end_time": "2021-03-23T13:49:32.322633Z",
          "start_time": "2021-03-23T13:49:32.302594Z"
        },
        "id": "modular-maximum"
      },
      "outputs": [],
      "source": [
        "# Recordamos que había en lista\n",
        "lista = ['Uvas 🍇', 'Melón 🍈', 'Sandía 🍉', 'Damasco 🍊', 'Limón 🍋']\n",
        "lista"
      ]
    },
    {
      "cell_type": "code",
      "execution_count": null,
      "id": "allied-coral",
      "metadata": {
        "ExecuteTime": {
          "end_time": "2021-03-23T13:49:33.304645Z",
          "start_time": "2021-03-23T13:49:33.291629Z"
        },
        "id": "allied-coral",
        "scrolled": true
      },
      "outputs": [],
      "source": [
        "lista.index('Sandía 🍉')"
      ]
    },
    {
      "cell_type": "markdown",
      "id": "66515f5b-608d-4185-a773-efc659a19463",
      "metadata": {
        "id": "66515f5b-608d-4185-a773-efc659a19463"
      },
      "source": [
        "> **Pregunta ❓**: Qué pasa si no existe el elemento?"
      ]
    },
    {
      "cell_type": "code",
      "execution_count": null,
      "id": "amended-congress",
      "metadata": {
        "ExecuteTime": {
          "end_time": "2021-03-23T13:49:36.762155Z",
          "start_time": "2021-03-23T13:49:36.746124Z"
        },
        "id": "amended-congress"
      },
      "outputs": [],
      "source": [
        "lista.index('Arándanos 🫐')"
      ]
    },
    {
      "cell_type": "markdown",
      "id": "graduate-alignment",
      "metadata": {
        "id": "graduate-alignment"
      },
      "source": [
        "Pueden encontrar una completa guía aquí de todos los métodos (funciones) que pueden ejecutar con una lista:\n",
        "    \n",
        "https://www.programiz.com/python-programming/list"
      ]
    },
    {
      "cell_type": "markdown",
      "id": "advanced-administrator",
      "metadata": {
        "ExecuteTime": {
          "end_time": "2021-03-22T18:01:08.375069Z",
          "start_time": "2021-03-22T18:01:08.362071Z"
        },
        "id": "advanced-administrator",
        "tags": []
      },
      "source": [
        "### Paréntesis: Strings.\n",
        "\n",
        "Los strings son un tipo especial de lista que no es mutable, pero que se puede indexar."
      ]
    },
    {
      "cell_type": "code",
      "execution_count": null,
      "id": "derived-identifier",
      "metadata": {
        "ExecuteTime": {
          "end_time": "2021-03-22T20:03:15.091952Z",
          "start_time": "2021-03-22T20:03:15.076952Z"
        },
        "id": "derived-identifier"
      },
      "outputs": [],
      "source": [
        "nombre = 'Juan'\n",
        "nombre[2:4]"
      ]
    },
    {
      "cell_type": "markdown",
      "id": "final-nicaragua",
      "metadata": {
        "id": "final-nicaragua"
      },
      "source": [
        "También se pueden convertir a string"
      ]
    },
    {
      "cell_type": "code",
      "execution_count": null,
      "id": "olive-meeting",
      "metadata": {
        "ExecuteTime": {
          "end_time": "2021-03-22T20:03:39.934091Z",
          "start_time": "2021-03-22T20:03:39.916065Z"
        },
        "id": "olive-meeting"
      },
      "outputs": [],
      "source": [
        "list(nombre)"
      ]
    },
    {
      "cell_type": "code",
      "execution_count": null,
      "id": "immune-endorsement",
      "metadata": {
        "ExecuteTime": {
          "end_time": "2021-03-22T20:03:54.221041Z",
          "start_time": "2021-03-22T20:03:54.207054Z"
        },
        "id": "immune-endorsement"
      },
      "outputs": [],
      "source": [
        "str(['J', 'u', 'a', 'n'])"
      ]
    },
    {
      "cell_type": "code",
      "execution_count": null,
      "id": "d46b8d7b-185e-46c0-8a40-557815d7790e",
      "metadata": {
        "id": "d46b8d7b-185e-46c0-8a40-557815d7790e"
      },
      "outputs": [],
      "source": [
        "''.join(['J', 'u', 'a', 'n'])"
      ]
    },
    {
      "cell_type": "markdown",
      "id": "organic-strap",
      "metadata": {
        "id": "organic-strap"
      },
      "source": [
        "Y podemos separarlos/juntarlos según algun carácter"
      ]
    },
    {
      "cell_type": "code",
      "execution_count": null,
      "id": "australian-summer",
      "metadata": {
        "ExecuteTime": {
          "end_time": "2021-03-22T20:04:50.394800Z",
          "start_time": "2021-03-22T20:04:50.386782Z"
        },
        "id": "australian-summer"
      },
      "outputs": [],
      "source": [
        "'Juan come verduras'.split(' ')"
      ]
    },
    {
      "cell_type": "code",
      "execution_count": null,
      "id": "sonic-meaning",
      "metadata": {
        "ExecuteTime": {
          "end_time": "2021-03-22T20:05:39.326724Z",
          "start_time": "2021-03-22T20:05:39.315728Z"
        },
        "id": "sonic-meaning"
      },
      "outputs": [],
      "source": [
        "# El string que pongan antes del join será el que unirá los strings del arreglo. En este caso, se uniran con '-'\n",
        "'-'.join(['Juan', 'come', 'verduras'])"
      ]
    },
    {
      "cell_type": "markdown",
      "id": "7bc8b0bb-5f0e-44e3-933f-c5e40dab0ead",
      "metadata": {
        "id": "7bc8b0bb-5f0e-44e3-933f-c5e40dab0ead"
      },
      "source": [
        "Como también concatenar"
      ]
    },
    {
      "cell_type": "code",
      "execution_count": null,
      "id": "aa93bf21-0f05-47cf-9c3c-64a8a91543ee",
      "metadata": {
        "id": "aa93bf21-0f05-47cf-9c3c-64a8a91543ee"
      },
      "outputs": [],
      "source": [
        "texto1 = \"Juan come verduras\"\n",
        "texto2 = \" y frutas.\"\n",
        "\n",
        "texto1 + texto2"
      ]
    },
    {
      "cell_type": "markdown",
      "id": "experimental-store",
      "metadata": {
        "ExecuteTime": {
          "end_time": "2021-03-22T18:13:21.155383Z",
          "start_time": "2021-03-22T18:13:21.138410Z"
        },
        "id": "experimental-store"
      },
      "source": [
        "### Tuplas\n",
        "\n",
        "Las tuplas siguen el mismo principio de las listas en cuanto a almacenar datos, no obstante, a diferencia de las listas, las tuplas son **inmutables**. Una ventaja sobre las listas, es que **son más eficientes computacionalmente y son más ligeras**."
      ]
    },
    {
      "cell_type": "code",
      "execution_count": null,
      "id": "incorporated-coffee",
      "metadata": {
        "ExecuteTime": {
          "end_time": "2021-03-23T13:49:58.837087Z",
          "start_time": "2021-03-23T13:49:58.819087Z"
        },
        "id": "incorporated-coffee"
      },
      "outputs": [],
      "source": [
        "# Se utilizan 'parentesis' para crearlas\n",
        "\n",
        "tupla = (1, 2, 3)\n",
        "tupla"
      ]
    },
    {
      "cell_type": "markdown",
      "id": "textile-table",
      "metadata": {
        "id": "textile-table"
      },
      "source": [
        "Al igual que las listas, sus elementos pueden ser accedidos a través del indexado (que parte desde 0!)."
      ]
    },
    {
      "cell_type": "code",
      "execution_count": null,
      "id": "unlimited-candidate",
      "metadata": {
        "ExecuteTime": {
          "end_time": "2021-03-23T13:50:00.583597Z",
          "start_time": "2021-03-23T13:50:00.564640Z"
        },
        "id": "unlimited-candidate"
      },
      "outputs": [],
      "source": [
        "tupla[0]"
      ]
    },
    {
      "cell_type": "code",
      "execution_count": null,
      "id": "decent-partition",
      "metadata": {
        "ExecuteTime": {
          "end_time": "2021-03-23T13:50:01.245933Z",
          "start_time": "2021-03-23T13:50:01.227906Z"
        },
        "id": "decent-partition"
      },
      "outputs": [],
      "source": [
        "tupla[-1]"
      ]
    },
    {
      "cell_type": "code",
      "execution_count": null,
      "id": "standard-birmingham",
      "metadata": {
        "ExecuteTime": {
          "end_time": "2021-03-23T13:50:01.811887Z",
          "start_time": "2021-03-23T13:50:01.803886Z"
        },
        "id": "standard-birmingham"
      },
      "outputs": [],
      "source": [
        "tupla[0:2]"
      ]
    },
    {
      "cell_type": "markdown",
      "id": "medium-mining",
      "metadata": {
        "id": "medium-mining"
      },
      "source": [
        "> **Pregunta ❓**: ¿Qué sucede si intentamos cambiar un valor de una tupla?"
      ]
    },
    {
      "cell_type": "code",
      "execution_count": null,
      "id": "primary-doctrine",
      "metadata": {
        "ExecuteTime": {
          "end_time": "2021-03-22T20:10:48.920390Z",
          "start_time": "2021-03-22T20:10:48.909387Z"
        },
        "id": "primary-doctrine"
      },
      "outputs": [],
      "source": [
        "tupla[0] = 1"
      ]
    },
    {
      "cell_type": "markdown",
      "id": "1cf52fde-7625-410e-b072-e53ef6c0ac03",
      "metadata": {
        "id": "1cf52fde-7625-410e-b072-e53ef6c0ac03"
      },
      "source": [
        "> **Pregunta ❓**: ¿Cómo podría agregar nuevos elementos a una tupla?"
      ]
    },
    {
      "cell_type": "code",
      "execution_count": null,
      "id": "03544ab5-eba6-4337-85fe-52ebecac9376",
      "metadata": {
        "id": "03544ab5-eba6-4337-85fe-52ebecac9376"
      },
      "outputs": [],
      "source": [
        "nueva_tupla = (1, 2, 3, 4)\n",
        "nueva_tupla"
      ]
    },
    {
      "cell_type": "markdown",
      "id": "verbal-pocket",
      "metadata": {
        "id": "verbal-pocket"
      },
      "source": [
        "#### Unpacking\n",
        "\n",
        "Tuplas y listas comparten el acceso a sus elementos por medio de la sintaxis ```[*]```. Tanto tuplas como las listas se pueden \"desempacar\", el termino *pythonico* es **unpacking**. Ejemplo:"
      ]
    },
    {
      "cell_type": "code",
      "execution_count": null,
      "id": "pregnant-stamp",
      "metadata": {
        "ExecuteTime": {
          "end_time": "2021-03-23T13:50:04.356386Z",
          "start_time": "2021-03-23T13:50:04.348385Z"
        },
        "id": "pregnant-stamp"
      },
      "outputs": [],
      "source": [
        "# Unpacking de tuplas\n",
        "a, b, c, d = ('🚗', '🚌', '🚒', '🚕')"
      ]
    },
    {
      "cell_type": "code",
      "execution_count": null,
      "id": "anticipated-seeking",
      "metadata": {
        "ExecuteTime": {
          "end_time": "2021-03-23T13:50:04.949324Z",
          "start_time": "2021-03-23T13:50:04.931285Z"
        },
        "id": "anticipated-seeking"
      },
      "outputs": [],
      "source": [
        "a"
      ]
    },
    {
      "cell_type": "code",
      "execution_count": null,
      "id": "charitable-hotel",
      "metadata": {
        "ExecuteTime": {
          "end_time": "2021-03-23T13:50:05.473217Z",
          "start_time": "2021-03-23T13:50:05.458188Z"
        },
        "id": "charitable-hotel",
        "scrolled": true
      },
      "outputs": [],
      "source": [
        "b"
      ]
    },
    {
      "cell_type": "code",
      "execution_count": null,
      "id": "397d107c-382a-43a7-be7c-bce1f9ef0416",
      "metadata": {
        "id": "397d107c-382a-43a7-be7c-bce1f9ef0416"
      },
      "outputs": [],
      "source": [
        "c"
      ]
    },
    {
      "cell_type": "code",
      "execution_count": null,
      "id": "98cdfbc7-4273-44ed-95c7-16b3e4831530",
      "metadata": {
        "id": "98cdfbc7-4273-44ed-95c7-16b3e4831530"
      },
      "outputs": [],
      "source": [
        "d"
      ]
    },
    {
      "cell_type": "markdown",
      "id": "electric-hands",
      "metadata": {
        "id": "electric-hands"
      },
      "source": [
        "### Conjuntos\n",
        "\n",
        "Los conjuntos o **sets** son contenedores mutables, no ordenadas de objetos. Los sets se caracterizan por componerse de **elementos únicos sin repetición**. Están diseñados para comportarse como sus contrapartes matemáticas. Un `frozenset` posee las mismas propiedades, solo que es inmutable."
      ]
    },
    {
      "cell_type": "code",
      "execution_count": null,
      "id": "closed-austria",
      "metadata": {
        "ExecuteTime": {
          "end_time": "2021-03-22T20:12:05.870376Z",
          "start_time": "2021-03-22T20:12:05.858361Z"
        },
        "id": "closed-austria"
      },
      "outputs": [],
      "source": [
        "comida_chatarra = {\n",
        "    'Pizza 🍕',\n",
        "    'Hamburguesa🍔',\n",
        "    'Papas fritas🍟',\n",
        "    'Completo 🌭',\n",
        "    'Huevo Frito 🍳',\n",
        "    'Sandwich 🥪'\n",
        "}\n",
        "\n",
        "comida_chatarra"
      ]
    },
    {
      "cell_type": "code",
      "execution_count": null,
      "id": "common-laser",
      "metadata": {
        "ExecuteTime": {
          "end_time": "2021-03-23T13:50:08.385114Z",
          "start_time": "2021-03-23T13:50:08.371104Z"
        },
        "id": "common-laser",
        "scrolled": true
      },
      "outputs": [],
      "source": [
        "lista_desayuno = [\n",
        "    'Sandwich 🥪',\n",
        "    'Pan 🥖',\n",
        "    'Manzana 🍎',\n",
        "    'Huevo Frito 🍳',\n",
        "    'Sandwich 🥪',\n",
        "    'Media luna 🥐',\n",
        "    'Sandwich 🥪',\n",
        "] # Noten que repetimos varias veces 'Sandwich 🥪'"
      ]
    },
    {
      "cell_type": "code",
      "execution_count": null,
      "id": "12935885-ba21-4e20-b423-7cc8f1923e9c",
      "metadata": {
        "id": "12935885-ba21-4e20-b423-7cc8f1923e9c"
      },
      "outputs": [],
      "source": [
        "# usando set podemos convertir una lista a conjunto\n",
        "desayuno = set(lista_desayuno)\n",
        "desayuno"
      ]
    },
    {
      "cell_type": "markdown",
      "id": "brilliant-hungarian",
      "metadata": {
        "id": "brilliant-hungarian"
      },
      "source": [
        "### Diccionarios\n",
        "\n",
        "Un diccionario corresponde a la implementación pythonica de una aplicación del tipo \"llave - valor\".\n",
        "Permite crear estructuras que nos permitan representar de una forma más natural los datos.\n",
        "\n",
        "**Ejemplo**:"
      ]
    },
    {
      "cell_type": "code",
      "execution_count": null,
      "id": "deadly-lloyd",
      "metadata": {
        "ExecuteTime": {
          "end_time": "2021-03-23T13:50:12.556210Z",
          "start_time": "2021-03-23T13:50:12.547228Z"
        },
        "id": "deadly-lloyd"
      },
      "outputs": [],
      "source": [
        "persona = {\n",
        "    'nombre': 'Juan',\n",
        "    'edad': 29,\n",
        "    'peso': 70.3,\n",
        "    'hobby': 'ilusionismo',\n",
        "}\n",
        "persona"
      ]
    },
    {
      "cell_type": "markdown",
      "id": "centered-cursor",
      "metadata": {
        "id": "centered-cursor"
      },
      "source": [
        "Los datos presentes en un diccionario pueden ser accedidos mediante la sintaxis ```diccionario[llave]```."
      ]
    },
    {
      "cell_type": "code",
      "execution_count": null,
      "id": "tropical-trinity",
      "metadata": {
        "ExecuteTime": {
          "end_time": "2021-03-23T13:50:14.083270Z",
          "start_time": "2021-03-23T13:50:14.064275Z"
        },
        "id": "tropical-trinity"
      },
      "outputs": [],
      "source": [
        "persona['nombre']"
      ]
    },
    {
      "cell_type": "markdown",
      "id": "successful-buffer",
      "metadata": {
        "id": "successful-buffer"
      },
      "source": [
        "> **Pregunta ❓**: ¿Qué sucede si intentamos acceder a una llave que no existe en el diccionario?"
      ]
    },
    {
      "cell_type": "code",
      "execution_count": null,
      "id": "creative-institute",
      "metadata": {
        "ExecuteTime": {
          "end_time": "2021-03-23T13:50:15.397944Z",
          "start_time": "2021-03-23T13:50:15.386966Z"
        },
        "id": "creative-institute"
      },
      "outputs": [],
      "source": [
        "persona['apellido']"
      ]
    },
    {
      "cell_type": "markdown",
      "id": "architectural-thesaurus",
      "metadata": {
        "id": "architectural-thesaurus"
      },
      "source": [
        "Podemos verificar si una llave existe en el diccionario usando el operador `in`"
      ]
    },
    {
      "cell_type": "code",
      "execution_count": null,
      "id": "amino-mortgage",
      "metadata": {
        "ExecuteTime": {
          "end_time": "2021-03-23T13:50:16.641522Z",
          "start_time": "2021-03-23T13:50:16.634521Z"
        },
        "id": "amino-mortgage"
      },
      "outputs": [],
      "source": [
        "'apellido' in persona"
      ]
    },
    {
      "cell_type": "code",
      "execution_count": null,
      "id": "d2ddb245-d867-4a8f-b737-0803d3a0577f",
      "metadata": {
        "id": "d2ddb245-d867-4a8f-b737-0803d3a0577f"
      },
      "outputs": [],
      "source": [
        "if 'apellido' in persona:\n",
        "    print(persona['apellido'])\n",
        "else:\n",
        "    print('apellido no existe en el diccionario')"
      ]
    },
    {
      "cell_type": "markdown",
      "id": "015bd33a-2d3b-4939-ba66-0c622df899c4",
      "metadata": {
        "id": "015bd33a-2d3b-4939-ba66-0c622df899c4"
      },
      "source": [
        "#### Agregar llave al diccionario"
      ]
    },
    {
      "cell_type": "code",
      "execution_count": null,
      "id": "051ee7a1-e788-4737-ad87-2a35fbc81458",
      "metadata": {
        "id": "051ee7a1-e788-4737-ad87-2a35fbc81458"
      },
      "outputs": [],
      "source": [
        "persona"
      ]
    },
    {
      "cell_type": "code",
      "execution_count": null,
      "id": "89d12392-0b8c-4514-830c-3c2cd9484d08",
      "metadata": {
        "id": "89d12392-0b8c-4514-830c-3c2cd9484d08"
      },
      "outputs": [],
      "source": [
        "persona['apellido'] = 'Pérez'"
      ]
    },
    {
      "cell_type": "code",
      "execution_count": null,
      "id": "8e71eddd-9a26-4c74-8ccb-cc072e0d2835",
      "metadata": {
        "id": "8e71eddd-9a26-4c74-8ccb-cc072e0d2835"
      },
      "outputs": [],
      "source": [
        "persona"
      ]
    },
    {
      "cell_type": "markdown",
      "id": "laden-burlington",
      "metadata": {
        "id": "laden-burlington"
      },
      "source": [
        "#### Mutar Diccionario\n",
        "\n",
        "Podemos modifcar un valores presente en el diccionario similar a como lo hacíamos con listas, pero cambiando el índice por la llave:"
      ]
    },
    {
      "cell_type": "code",
      "execution_count": null,
      "id": "future-asthma",
      "metadata": {
        "ExecuteTime": {
          "end_time": "2021-03-22T20:16:08.234933Z",
          "start_time": "2021-03-22T20:16:08.211924Z"
        },
        "id": "future-asthma"
      },
      "outputs": [],
      "source": [
        "persona['peso'] = 68.01\n",
        "persona"
      ]
    },
    {
      "cell_type": "markdown",
      "id": "alert-water",
      "metadata": {
        "id": "alert-water"
      },
      "source": [
        "Se pueden eliminar elementos del diccionario usando el operador `del`"
      ]
    },
    {
      "cell_type": "code",
      "execution_count": null,
      "id": "blank-wednesday",
      "metadata": {
        "ExecuteTime": {
          "end_time": "2021-03-22T20:16:58.312264Z",
          "start_time": "2021-03-22T20:16:58.302264Z"
        },
        "id": "blank-wednesday"
      },
      "outputs": [],
      "source": [
        "del persona['peso']\n",
        "\n",
        "persona"
      ]
    },
    {
      "cell_type": "markdown",
      "id": "arctic-antarctica",
      "metadata": {
        "id": "arctic-antarctica"
      },
      "source": [
        "#### Acceder a *colecciones* con los elementos de los diccionarios"
      ]
    },
    {
      "cell_type": "markdown",
      "id": "massive-revelation",
      "metadata": {
        "id": "massive-revelation"
      },
      "source": [
        "Para obtener las llaves de un diccionario se puede hacer uso del método ```.keys()```.\n"
      ]
    },
    {
      "cell_type": "code",
      "execution_count": null,
      "id": "extensive-royal",
      "metadata": {
        "ExecuteTime": {
          "end_time": "2021-03-22T20:16:50.035215Z",
          "start_time": "2021-03-22T20:16:50.029208Z"
        },
        "id": "extensive-royal"
      },
      "outputs": [],
      "source": [
        "# Redefinimos el diccionario al original para el siguiente ejemplo\n",
        "persona = {\n",
        "    'nombre': 'Juan',\n",
        "    'edad': 29,\n",
        "    'peso': 70.3\n",
        "}"
      ]
    },
    {
      "cell_type": "code",
      "execution_count": null,
      "id": "sophisticated-praise",
      "metadata": {
        "ExecuteTime": {
          "end_time": "2021-03-22T20:16:24.765298Z",
          "start_time": "2021-03-22T20:16:24.753298Z"
        },
        "id": "sophisticated-praise"
      },
      "outputs": [],
      "source": [
        "persona.keys()  # Ojo que no es una lista!"
      ]
    },
    {
      "cell_type": "markdown",
      "id": "opponent-palmer",
      "metadata": {
        "id": "opponent-palmer"
      },
      "source": [
        "Para obtener los elementos podemos usar el método `.values()`"
      ]
    },
    {
      "cell_type": "code",
      "execution_count": null,
      "id": "three-insider",
      "metadata": {
        "ExecuteTime": {
          "end_time": "2021-03-22T20:16:40.046254Z",
          "start_time": "2021-03-22T20:16:40.032232Z"
        },
        "id": "three-insider"
      },
      "outputs": [],
      "source": [
        "persona.values()"
      ]
    },
    {
      "cell_type": "markdown",
      "id": "controlled-theology",
      "metadata": {
        "id": "controlled-theology"
      },
      "source": [
        "Y se pueden obtener tuplas indicando todas las `(llaves, valor)` del diccionario"
      ]
    },
    {
      "cell_type": "code",
      "execution_count": null,
      "id": "about-toolbox",
      "metadata": {
        "id": "about-toolbox"
      },
      "outputs": [],
      "source": [
        "persona.items()"
      ]
    },
    {
      "cell_type": "markdown",
      "id": "f3e3ab37-2d3f-4d93-a1e6-c30883b370a7",
      "metadata": {
        "id": "f3e3ab37-2d3f-4d93-a1e6-c30883b370a7"
      },
      "source": [
        "---"
      ]
    },
    {
      "cell_type": "markdown",
      "id": "magnetic-gambling",
      "metadata": {
        "id": "magnetic-gambling"
      },
      "source": [
        "\n",
        "## 6. Iteraciones 🔁"
      ]
    },
    {
      "cell_type": "markdown",
      "id": "emerging-storm",
      "metadata": {
        "id": "emerging-storm"
      },
      "source": [
        "Las iteraciones permiten recorrer y ejecutar alguna acción sobre cada elemento de una colección. Existen varias formas de lograr esto:\n",
        "\n",
        "\n",
        "### Ciclo While - Propuesto estudio Personal\n",
        "\n",
        "\n",
        "**While:** un ciclo ```while``` permite realizar una ```acción``` en función del valor de verdad de una ```condicion```, su estructura es:\n",
        "\n",
        "```\n",
        "while condicion: # Condición booleana\n",
        "    acción # Bloque indentado\n",
        "```"
      ]
    },
    {
      "cell_type": "code",
      "execution_count": null,
      "id": "wanted-maker",
      "metadata": {
        "ExecuteTime": {
          "end_time": "2021-03-23T13:50:19.897248Z",
          "start_time": "2021-03-23T13:50:19.875247Z"
        },
        "id": "wanted-maker"
      },
      "outputs": [],
      "source": [
        "contador = 0\n",
        "lista = [10, 20, 30, 40, 50, 60, 70, 80, 90, 100]\n",
        "\n",
        "while contador < len(lista):\n",
        "    print(\"Contador: \", contador, \" | \", \"Valor: \", lista[contador])\n",
        "    contador += 1"
      ]
    },
    {
      "cell_type": "markdown",
      "id": "e2ab756c-eb20-4db5-95ce-f4c90090dbe9",
      "metadata": {
        "id": "e2ab756c-eb20-4db5-95ce-f4c90090dbe9"
      },
      "source": [
        "> **Nota 🗒️**: Notar que si no se rompe el ciclo while con alguna condición este puede iterar infinitamente"
      ]
    },
    {
      "cell_type": "code",
      "execution_count": null,
      "id": "9b8c6f74-82fc-4db7-a7d4-a9b056318070",
      "metadata": {
        "id": "9b8c6f74-82fc-4db7-a7d4-a9b056318070"
      },
      "outputs": [],
      "source": [
        "# no ejecutar esto\n",
        "# while True:\n",
        "#    ..."
      ]
    },
    {
      "cell_type": "markdown",
      "id": "gothic-concern",
      "metadata": {
        "id": "gothic-concern"
      },
      "source": [
        "### Ciclo For\n",
        "\n",
        "Un ciclo ```for``` permite repetir realizar una```acción``` en función de los elementos de una *colección*. Su estructura corresponde a:\n",
        "\n",
        "```python\n",
        "for elemento in coleccion:\n",
        "    acción_sobre_el_elemento\n",
        "\n",
        "```\n",
        "\n",
        "en este caso ```elemento``` corresponde a una variable que toma, secuencialmente, los valores del iterator.\n",
        "\n",
        "###"
      ]
    },
    {
      "cell_type": "markdown",
      "id": "f1e4147f-847d-4a93-abc2-d8a905969c46",
      "metadata": {
        "id": "f1e4147f-847d-4a93-abc2-d8a905969c46"
      },
      "source": [
        "#### Iteración sobre lista"
      ]
    },
    {
      "cell_type": "code",
      "execution_count": null,
      "id": "alleged-mercy",
      "metadata": {
        "ExecuteTime": {
          "end_time": "2021-03-23T13:50:21.833277Z",
          "start_time": "2021-03-23T13:50:21.818239Z"
        },
        "id": "alleged-mercy"
      },
      "outputs": [],
      "source": [
        "lista = [0, 1, 2, 3, 4, 5]"
      ]
    },
    {
      "cell_type": "code",
      "execution_count": null,
      "id": "smoking-secret",
      "metadata": {
        "ExecuteTime": {
          "end_time": "2021-03-23T13:50:22.476165Z",
          "start_time": "2021-03-23T13:50:22.459150Z"
        },
        "id": "smoking-secret"
      },
      "outputs": [],
      "source": [
        "for elemento in lista:\n",
        "    #print(elemento)\n",
        "    print(elemento ** 2)\n",
        "    #print(elemento, '^ 2 =', elemento ** 2)"
      ]
    },
    {
      "cell_type": "markdown",
      "id": "8a3365d2-6d2a-46f6-91c6-3511dbd313e6",
      "metadata": {
        "id": "8a3365d2-6d2a-46f6-91c6-3511dbd313e6"
      },
      "source": [
        "### Iteración sobre llaves del diccionario"
      ]
    },
    {
      "cell_type": "code",
      "execution_count": null,
      "id": "6f955e5d",
      "metadata": {
        "id": "6f955e5d"
      },
      "outputs": [],
      "source": [
        "persona = {\n",
        "    'nombre': 'Juan',\n",
        "    'edad': 29,\n",
        "    'peso': 70.3,\n",
        "    'hobby': 'ilusionismo',\n",
        "}\n",
        "persona"
      ]
    },
    {
      "cell_type": "code",
      "execution_count": null,
      "id": "amateur-stewart",
      "metadata": {
        "ExecuteTime": {
          "end_time": "2021-03-22T20:21:39.879297Z",
          "start_time": "2021-03-22T20:21:39.859296Z"
        },
        "id": "amateur-stewart"
      },
      "outputs": [],
      "source": [
        "for key in persona:\n",
        "    value = persona[key]\n",
        "    print(key.upper(), value)"
      ]
    },
    {
      "cell_type": "code",
      "execution_count": null,
      "id": "4738b389-38f8-4e31-bfcf-1ad9604dfa02",
      "metadata": {
        "id": "4738b389-38f8-4e31-bfcf-1ad9604dfa02"
      },
      "outputs": [],
      "source": [
        "persona"
      ]
    },
    {
      "cell_type": "markdown",
      "id": "4e3d70ce-2008-4ae3-a600-1b49e2db90a0",
      "metadata": {
        "id": "4e3d70ce-2008-4ae3-a600-1b49e2db90a0"
      },
      "source": [
        "#### Iteración sobre ítems del diccionario\n",
        "\n",
        "Recordemos que `d.items()` nos entregaba una estructura similar a una lista [(llave_1, valor_1), ...]\n",
        "Como cada elemento es una tupla, podemos desempacarla en llave, valor en el mismo ciclo."
      ]
    },
    {
      "cell_type": "code",
      "execution_count": null,
      "id": "f9528bc1-f2b5-4d24-887e-495127fe89fc",
      "metadata": {
        "id": "f9528bc1-f2b5-4d24-887e-495127fe89fc"
      },
      "outputs": [],
      "source": [
        "persona.items()"
      ]
    },
    {
      "cell_type": "code",
      "execution_count": null,
      "id": "guilty-effects",
      "metadata": {
        "ExecuteTime": {
          "end_time": "2021-03-22T20:22:17.080653Z",
          "start_time": "2021-03-22T20:22:17.073658Z"
        },
        "id": "guilty-effects"
      },
      "outputs": [],
      "source": [
        "for tupla in persona.items():\n",
        "    llave, valor = tupla\n",
        "    print(llave, valor)\n",
        "    #print(f'{llave.upper()} : {valor}')"
      ]
    },
    {
      "cell_type": "code",
      "execution_count": null,
      "id": "xHupvT9DRbfl",
      "metadata": {
        "id": "xHupvT9DRbfl"
      },
      "outputs": [],
      "source": [
        "for key, value in persona.items():\n",
        "  print(key, value)"
      ]
    },
    {
      "cell_type": "markdown",
      "id": "computational-norman",
      "metadata": {
        "id": "computational-norman"
      },
      "source": [
        "### Utilitarios para la iteración"
      ]
    },
    {
      "cell_type": "markdown",
      "id": "corporate-message",
      "metadata": {
        "id": "corporate-message"
      },
      "source": [
        "#### Enumerador\n",
        "\n",
        "Permite asignar el **índice** del elemento al cual estamos accediendo. Para esto, usar la función `enumerate(lista)`"
      ]
    },
    {
      "cell_type": "code",
      "execution_count": null,
      "id": "d3a77bb8-cee6-42fa-8314-ef829050ceb3",
      "metadata": {
        "id": "d3a77bb8-cee6-42fa-8314-ef829050ceb3"
      },
      "outputs": [],
      "source": [
        "lista = [10, 11, 12, 13, 14, 15]\n",
        "\n",
        "list(enumerate(lista))"
      ]
    },
    {
      "cell_type": "code",
      "execution_count": null,
      "id": "elect-adelaide",
      "metadata": {
        "ExecuteTime": {
          "end_time": "2021-03-22T20:22:27.345116Z",
          "start_time": "2021-03-22T20:22:27.325122Z"
        },
        "id": "elect-adelaide"
      },
      "outputs": [],
      "source": [
        "for indice, elemento in enumerate(lista):\n",
        "    print(f'Indice: {indice} | Elemento: {elemento}')\n",
        "    if indice % 3 == 0:\n",
        "        print(f'Encontré un indínce que es múltiplo de 3: {indice}')"
      ]
    },
    {
      "cell_type": "markdown",
      "id": "ecological-halloween",
      "metadata": {
        "id": "ecological-halloween"
      },
      "source": [
        "#### Range\n",
        "\n",
        "Genera una secuencia de números. No es una lista como tal, si no que un generador.Sintaxis:\n",
        "\n",
        "```python\n",
        "range(inicio, fin, opcional(salto) )\n",
        "```"
      ]
    },
    {
      "cell_type": "code",
      "execution_count": null,
      "id": "moved-century",
      "metadata": {
        "ExecuteTime": {
          "end_time": "2021-03-23T14:00:50.184140Z",
          "start_time": "2021-03-23T14:00:50.165117Z"
        },
        "id": "moved-century"
      },
      "outputs": [],
      "source": [
        "for elemento in range(0, 5):\n",
        "    print(elemento)"
      ]
    },
    {
      "cell_type": "code",
      "execution_count": null,
      "id": "casual-recycling",
      "metadata": {
        "ExecuteTime": {
          "end_time": "2021-03-23T14:02:11.120715Z",
          "start_time": "2021-03-23T14:02:11.109702Z"
        },
        "id": "casual-recycling"
      },
      "outputs": [],
      "source": [
        "# Podemos darle además un salto, es decir, cuanto saltaremos entre un elemento y otro.\n",
        "for elemento in range(0, 10, 3):\n",
        "    print(elemento)"
      ]
    },
    {
      "cell_type": "markdown",
      "id": "corrected-ballet",
      "metadata": {
        "id": "corrected-ballet"
      },
      "source": [
        "#### Zip\n",
        "\n",
        "Permite **iterar entre dos o mas secuencias <u>al mismo tiempo</u>**. Para esto, genera tuplas con ambos valores."
      ]
    },
    {
      "cell_type": "code",
      "execution_count": null,
      "id": "sixth-communication",
      "metadata": {
        "ExecuteTime": {
          "end_time": "2021-03-23T13:58:54.552693Z",
          "start_time": "2021-03-23T13:58:54.542693Z"
        },
        "id": "sixth-communication"
      },
      "outputs": [],
      "source": [
        "preguntas = ['nombre', 'edad', 'peso']\n",
        "respuestas = ['Juan', '27', '70']\n",
        "\n",
        "list(zip(preguntas, respuestas))\n"
      ]
    },
    {
      "cell_type": "code",
      "execution_count": null,
      "id": "59809ab2-e7dd-4a20-9254-b33aa6897e6d",
      "metadata": {
        "id": "59809ab2-e7dd-4a20-9254-b33aa6897e6d"
      },
      "outputs": [],
      "source": [
        "for pregunta, respuesta in zip(preguntas, respuestas):\n",
        "    print(f'Cuál es tu {pregunta}?  Es {respuesta}.')"
      ]
    },
    {
      "cell_type": "markdown",
      "id": "practical-protection",
      "metadata": {
        "id": "practical-protection"
      },
      "source": [
        "#### Reverse\n",
        "\n",
        "Invierte el orden de la colección:"
      ]
    },
    {
      "cell_type": "code",
      "execution_count": null,
      "id": "f892f5d5-31eb-4a7f-a967-e7f1c7012fb4",
      "metadata": {
        "id": "f892f5d5-31eb-4a7f-a967-e7f1c7012fb4"
      },
      "outputs": [],
      "source": [
        "persona"
      ]
    },
    {
      "cell_type": "code",
      "execution_count": null,
      "id": "fitting-firewall",
      "metadata": {
        "ExecuteTime": {
          "end_time": "2021-03-23T13:59:47.139452Z",
          "start_time": "2021-03-23T13:59:47.133466Z"
        },
        "id": "fitting-firewall"
      },
      "outputs": [],
      "source": [
        "for i in reversed(persona):\n",
        "    print(i)"
      ]
    },
    {
      "cell_type": "markdown",
      "id": "fifth-recording",
      "metadata": {
        "id": "fifth-recording"
      },
      "source": [
        "### List Comprehensions 🌟\n",
        "\n",
        "Es una forma *elegante* de crear colecciones.\n",
        "\n",
        "Supongamos que queremos crear una lista con todas las letras de la palabra `cuaderno`."
      ]
    },
    {
      "cell_type": "code",
      "execution_count": null,
      "id": "registered-sword",
      "metadata": {
        "ExecuteTime": {
          "end_time": "2021-03-22T20:23:14.764115Z",
          "start_time": "2021-03-22T20:23:14.751130Z"
        },
        "id": "registered-sword"
      },
      "outputs": [],
      "source": [
        "letras = []\n",
        "palabra = 'Cuaderno 📗'\n",
        "\n",
        "for letra in palabra:\n",
        "    letras.append(letra.upper())\n",
        "    print(f'Agregué a la lista: {letra.upper()}')\n",
        "\n",
        "letras"
      ]
    },
    {
      "cell_type": "markdown",
      "id": "illegal-meaning",
      "metadata": {
        "id": "illegal-meaning"
      },
      "source": [
        "Podemos reemplazar este ciclo `for` por una sintaxis mas compacta:"
      ]
    },
    {
      "cell_type": "code",
      "execution_count": null,
      "id": "formal-reset",
      "metadata": {
        "ExecuteTime": {
          "end_time": "2021-03-22T20:23:58.748825Z",
          "start_time": "2021-03-22T20:23:58.740827Z"
        },
        "id": "formal-reset"
      },
      "outputs": [],
      "source": [
        "letras = [letra.upper() for letra in palabra]\n",
        "letras"
      ]
    },
    {
      "cell_type": "markdown",
      "id": "severe-artwork",
      "metadata": {
        "ExecuteTime": {
          "end_time": "2021-03-22T19:02:53.523752Z",
          "start_time": "2021-03-22T19:02:53.515781Z"
        },
        "id": "severe-artwork"
      },
      "source": [
        "Esto se le conoce como **List Comprehension**"
      ]
    },
    {
      "cell_type": "markdown",
      "id": "distributed-vision",
      "metadata": {
        "id": "distributed-vision"
      },
      "source": [
        "Supongamos ahora que generamos una lista con los 10 primeros números enteros y de estos queremos solo los pares.\n",
        "Un código usando `for` se vería como:"
      ]
    },
    {
      "cell_type": "code",
      "execution_count": null,
      "id": "bf5d7ccb-3c35-4675-ba36-317771f96ded",
      "metadata": {
        "id": "bf5d7ccb-3c35-4675-ba36-317771f96ded"
      },
      "outputs": [],
      "source": [
        "list(range(10))"
      ]
    },
    {
      "cell_type": "code",
      "execution_count": null,
      "id": "rough-toner",
      "metadata": {
        "ExecuteTime": {
          "end_time": "2021-03-22T20:24:21.286110Z",
          "start_time": "2021-03-22T20:24:21.276108Z"
        },
        "id": "rough-toner"
      },
      "outputs": [],
      "source": [
        "numeros_pares = []\n",
        "for numero in range(10):\n",
        "    if numero % 2 == 0:\n",
        "        numeros_pares.append(numero)\n",
        "\n",
        "numeros_pares"
      ]
    },
    {
      "cell_type": "markdown",
      "id": "completed-check",
      "metadata": {
        "id": "completed-check"
      },
      "source": [
        "Usando **List Comprehension**:"
      ]
    },
    {
      "cell_type": "code",
      "execution_count": null,
      "id": "prostate-information",
      "metadata": {
        "ExecuteTime": {
          "end_time": "2021-03-22T20:25:13.348291Z",
          "start_time": "2021-03-22T20:25:13.341291Z"
        },
        "id": "prostate-information"
      },
      "outputs": [],
      "source": [
        "numeros_pares = [numero for numero in range(10) if numero % 2 == 0]\n",
        "numeros_pares"
      ]
    },
    {
      "cell_type": "code",
      "execution_count": null,
      "id": "subsequent-wright",
      "metadata": {
        "ExecuteTime": {
          "end_time": "2021-03-22T20:25:25.368603Z",
          "start_time": "2021-03-22T20:25:25.352606Z"
        },
        "id": "subsequent-wright"
      },
      "outputs": [],
      "source": [
        "numeros_pares = ['Par' if numero % 2 == 0 else 'Impar' for numero in range(10)]\n",
        "numeros_pares"
      ]
    },
    {
      "cell_type": "markdown",
      "id": "transsexual-color",
      "metadata": {
        "id": "transsexual-color"
      },
      "source": [
        "> **Pregunta ❓:** ¿Se puede crear usando esta notación conjuntos o diccionarios?"
      ]
    },
    {
      "cell_type": "code",
      "execution_count": null,
      "id": "a31cf772-18c0-4e08-b2cd-2b0a61e84d61",
      "metadata": {
        "id": "a31cf772-18c0-4e08-b2cd-2b0a61e84d61"
      },
      "outputs": [],
      "source": [
        "{numero: 'Par' if numero % 2 == 0 else 'Impar' for numero in range(10) }"
      ]
    },
    {
      "cell_type": "markdown",
      "id": "eafcf936",
      "metadata": {
        "id": "eafcf936"
      },
      "source": [
        "---\n",
        "\n",
        "## 7. Funciones\n",
        "\n",
        "\n",
        "Una función es un segmento de código separado del código principal, la cual puede ser ejecutada (de aquí en adelante, *invocada*) desde cualquier otro punto del programa (incluyendo de si misma).\n",
        "\n",
        "Las funciones por lo general toman parámetros, que en términos prácticos, son los datos sobre los cuales operarán."
      ]
    },
    {
      "cell_type": "markdown",
      "id": "7f2b8f35",
      "metadata": {
        "id": "7f2b8f35"
      },
      "source": [
        "### Sintaxis Básica\n",
        "\n",
        "En Python, una función se define por medio de la keyword `def` seguido por el nombre y los parámetros que recibirá de entrada la función.\n",
        "\n",
        "> **Nota 📝**: Parametro es el nombre de la variable dentro de la función. Argumento es el valor que le pasamos a el parámetro al momento de invocar la función. Se pueden usar indistintivamente."
      ]
    },
    {
      "cell_type": "code",
      "execution_count": null,
      "id": "55c85255",
      "metadata": {
        "id": "55c85255"
      },
      "outputs": [],
      "source": [
        "def sumar(a, b):\n",
        "    ..."
      ]
    },
    {
      "cell_type": "markdown",
      "id": "48db59e1",
      "metadata": {
        "id": "48db59e1"
      },
      "source": [
        "#### Return\n",
        "\n",
        "La keyword ```return``` permite que valores definidos dentro de la función puedan ser retornadas hacia el exterior.  Una función definida sin ```return``` entrega como resultado `None`."
      ]
    },
    {
      "cell_type": "code",
      "execution_count": null,
      "id": "3379c991",
      "metadata": {
        "id": "3379c991"
      },
      "outputs": [],
      "source": [
        "def sumar(a, b):\n",
        "    c = a + b\n",
        "    return c"
      ]
    },
    {
      "cell_type": "code",
      "execution_count": null,
      "id": "b9912e14",
      "metadata": {
        "id": "b9912e14"
      },
      "outputs": [],
      "source": [
        "sumar(1, 2)"
      ]
    },
    {
      "cell_type": "markdown",
      "id": "a845d50f",
      "metadata": {
        "id": "a845d50f"
      },
      "source": [
        "#### Invocación\n",
        "\n",
        "Para invocar una función (*ejecutarla*), se utiliza el nombre de la función junto a dos paréntesis que encierran los argumentos."
      ]
    },
    {
      "cell_type": "code",
      "execution_count": null,
      "id": "cb52374c",
      "metadata": {
        "id": "cb52374c"
      },
      "outputs": [],
      "source": [
        "sumar(10, 200)"
      ]
    },
    {
      "cell_type": "markdown",
      "id": "7a68af8f",
      "metadata": {
        "id": "7a68af8f"
      },
      "source": [
        "> **Pregunta ❓:** ¿Qué sucede con la variable `c` definida dentro de la función?"
      ]
    },
    {
      "cell_type": "code",
      "execution_count": null,
      "id": "5667a59b",
      "metadata": {
        "id": "5667a59b"
      },
      "outputs": [],
      "source": [
        "def sumar(a, b):\n",
        "    c = a + b\n",
        "    return c\n",
        "\n",
        "sumar(10, 200)"
      ]
    },
    {
      "cell_type": "markdown",
      "id": "2fad4a8f",
      "metadata": {
        "id": "2fad4a8f"
      },
      "source": [
        "### Elementos extra de la sintáxis de funciones\n",
        "\n",
        "#### Parámetros nombrados"
      ]
    },
    {
      "cell_type": "code",
      "execution_count": null,
      "id": "1fb4f1ad",
      "metadata": {
        "id": "1fb4f1ad"
      },
      "outputs": [],
      "source": [
        "def sumar(a, b):\n",
        "    c = a + b\n",
        "    return c"
      ]
    },
    {
      "cell_type": "code",
      "execution_count": null,
      "id": "1200ce9d",
      "metadata": {
        "id": "1200ce9d"
      },
      "outputs": [],
      "source": [
        "sumar(a=10, b=20)"
      ]
    },
    {
      "cell_type": "code",
      "execution_count": null,
      "id": "6b83d318",
      "metadata": {
        "id": "6b83d318"
      },
      "outputs": [],
      "source": [
        "sumar(b=10, a=20)"
      ]
    },
    {
      "cell_type": "markdown",
      "id": "8425e1cc",
      "metadata": {
        "id": "8425e1cc"
      },
      "source": [
        "#### Cero parámetros\n",
        "\n",
        "Una función puede ser ejecutada sin necesidad de tener parámetros.\n",
        "En este caso (idealmente) la función siempre debería hacer la misma acción."
      ]
    },
    {
      "cell_type": "code",
      "execution_count": null,
      "id": "1cfa45f7",
      "metadata": {
        "id": "1cfa45f7"
      },
      "outputs": [],
      "source": [
        "def hola_mundo():\n",
        "    print('Hola!😊')\n",
        "\n",
        "hola_mundo()"
      ]
    },
    {
      "cell_type": "markdown",
      "id": "c33cab2c",
      "metadata": {
        "id": "c33cab2c"
      },
      "source": [
        "#### N parámetros 🌟\n",
        "\n",
        "Una función puede tomar n parámetros no previamente definidos.\n",
        "Esto lo logra a través del parámetro `*args`, el cuál actua como una tupla (tupla = lista inmutable):"
      ]
    },
    {
      "cell_type": "code",
      "execution_count": null,
      "id": "260e9cc7",
      "metadata": {
        "id": "260e9cc7"
      },
      "outputs": [],
      "source": [
        "def funcion_n_parametros(*args):\n",
        "    print(\n",
        "        'Los parámetros entregados son:',\n",
        "        args\n",
        "    )\n",
        "\n",
        "funcion_n_parametros(1, 2, 3, 4, 5, 6, 7, 8, 9, 10, 11, 12)"
      ]
    },
    {
      "cell_type": "markdown",
      "id": "390ec05f",
      "metadata": {
        "id": "390ec05f"
      },
      "source": [
        "¿Cuál es la utilidad de esto?"
      ]
    },
    {
      "cell_type": "code",
      "execution_count": null,
      "id": "95731921",
      "metadata": {
        "id": "95731921"
      },
      "outputs": [],
      "source": [
        "def suma_n(*args):\n",
        "    acum = 0\n",
        "    for i in args:\n",
        "        acum += i\n",
        "    return acum\n",
        "\n",
        "suma_n(1, 2, 3, 4, 5, 6, 7, 8, 9, 10, 11, 12)"
      ]
    },
    {
      "cell_type": "code",
      "execution_count": null,
      "id": "qLvDJthkTGPN",
      "metadata": {
        "id": "qLvDJthkTGPN"
      },
      "outputs": [],
      "source": [
        "numeros = [1, 2, 3, 4, 5, 6, 7, 8, 9, 10, 11, 12]\n",
        "\n",
        "suma_n(*numeros)"
      ]
    },
    {
      "cell_type": "markdown",
      "id": "2c139cc3",
      "metadata": {
        "id": "2c139cc3"
      },
      "source": [
        "#### N Parámetros nombrados 🌟\n",
        "\n",
        "Las funciones también pueden tomar n parámetros nombrados a través de `**kwargs`, el cúal se comporta como un diccionario."
      ]
    },
    {
      "cell_type": "code",
      "execution_count": null,
      "id": "5443bf0e",
      "metadata": {
        "id": "5443bf0e"
      },
      "outputs": [],
      "source": [
        "def funcion_n_parametros_nombrados(*args, **kwargs):\n",
        "    print(kwargs)\n",
        "\n",
        "funcion_n_parametros_nombrados(param_1 = 1, param_2 = 2)"
      ]
    },
    {
      "cell_type": "code",
      "execution_count": null,
      "id": "fb26a0cc",
      "metadata": {
        "id": "fb26a0cc"
      },
      "outputs": [],
      "source": [
        "argumentos = {\n",
        "    'param_1': True,\n",
        "    'param_2': False,\n",
        "    'param_5': False,\n",
        "}\n",
        "\n",
        "funcion_n_parametros_nombrados(**argumentos)"
      ]
    },
    {
      "cell_type": "markdown",
      "id": "e225ec1c",
      "metadata": {
        "id": "e225ec1c"
      },
      "source": [
        "#### Valores por defecto\n",
        "\n",
        "Los parámetros también pueden tener valores por defecto:\n",
        "\n",
        "\n",
        "> **Nota 📝:** Los parámetros con valores por defecto deben ser declarados a la derecha de todos aquellos parámetros sin valores predefinidos."
      ]
    },
    {
      "cell_type": "code",
      "execution_count": null,
      "id": "6866d318",
      "metadata": {
        "id": "6866d318"
      },
      "outputs": [],
      "source": [
        "def sumar(a, b, advertencias=False):\n",
        "    if advertencias == True:\n",
        "        print('Cuidado 👀')\n",
        "    c = a + b\n",
        "    return c"
      ]
    },
    {
      "cell_type": "code",
      "execution_count": null,
      "id": "e406b15d",
      "metadata": {
        "id": "e406b15d"
      },
      "outputs": [],
      "source": [
        "sumar(10, 2)"
      ]
    },
    {
      "cell_type": "code",
      "execution_count": null,
      "id": "ebd228f6",
      "metadata": {
        "id": "ebd228f6"
      },
      "outputs": [],
      "source": [
        "sumar(10, b=2, advertencias=True)"
      ]
    },
    {
      "cell_type": "markdown",
      "id": "6b913f39",
      "metadata": {
        "id": "6b913f39"
      },
      "source": [
        "#### Retornar múltiples valores\n",
        "\n",
        "También se pueden retornar múltiples valores"
      ]
    },
    {
      "cell_type": "code",
      "execution_count": null,
      "id": "6b4e2ceb",
      "metadata": {
        "id": "6b4e2ceb"
      },
      "outputs": [],
      "source": [
        "def operaciones(a, b):\n",
        "    suma = a+b\n",
        "    resta = a-b\n",
        "    mult = a*b\n",
        "    div = a/b\n",
        "\n",
        "    return suma, resta, mult, div"
      ]
    },
    {
      "cell_type": "code",
      "execution_count": null,
      "id": "c9f4aa5d",
      "metadata": {
        "id": "c9f4aa5d"
      },
      "outputs": [],
      "source": [
        "operaciones(5,2)"
      ]
    },
    {
      "cell_type": "code",
      "execution_count": null,
      "id": "5dff419d",
      "metadata": {
        "id": "5dff419d"
      },
      "outputs": [],
      "source": [
        "type(operaciones(5,2))"
      ]
    },
    {
      "cell_type": "code",
      "execution_count": null,
      "id": "ca5c2af0",
      "metadata": {
        "id": "ca5c2af0"
      },
      "outputs": [],
      "source": [
        "suma, resta, mult, div = operaciones(5,2)\n",
        "\n",
        "suma"
      ]
    },
    {
      "cell_type": "markdown",
      "id": "6f9ceb0b",
      "metadata": {
        "id": "6f9ceb0b"
      },
      "source": [
        "---\n",
        "\n",
        "## 8. Unit Testing\n",
        "\n",
        "\n",
        "El *unit testing* o pruebas unitarias es un método para comprobar el correcto funcionamiento de un segmento de código o función.\n",
        "La idea es crear casos de prueba en donde establecemos valores correctos que deberían retornar la funcion y luego comprobar que la función efectivamente los retorne.\n",
        "\n",
        "Para esto, los test que creemos deben ser determinísticos (no aleatorios) y repetibles.\n",
        "\n",
        "\n",
        "Python provee la *keyword* `assert` la cual verifica el valor de una condición:\n",
        "\n",
        "- Si es `True` continua la ejecución.\n",
        "- Si es `False`, lanza la excepción `AssertionError` y detiene la ejecución."
      ]
    },
    {
      "cell_type": "code",
      "execution_count": null,
      "id": "c975234f",
      "metadata": {
        "id": "c975234f"
      },
      "outputs": [],
      "source": [
        "def suma(a, b):\n",
        "    return a + b"
      ]
    },
    {
      "cell_type": "code",
      "execution_count": null,
      "id": "4a76eab0",
      "metadata": {
        "id": "4a76eab0"
      },
      "outputs": [],
      "source": [
        "assert 5 == suma(2, 3)"
      ]
    },
    {
      "cell_type": "code",
      "execution_count": null,
      "id": "cdc7e3b3",
      "metadata": {
        "id": "cdc7e3b3"
      },
      "outputs": [],
      "source": [
        "# La idea es hacer varios casos de prueba unitarios.\n",
        "assert 5 == suma(2,3)\n",
        "assert suma(2, -3) == -1\n",
        "assert suma(99999,1) == 100000\n",
        "assert suma(3,3) != 5\n",
        "assert isinstance(suma(3,3.0), float)"
      ]
    },
    {
      "cell_type": "markdown",
      "id": "dc8ed2fb",
      "metadata": {
        "id": "dc8ed2fb"
      },
      "source": [
        "### Comprobación de errores al modificar el código\n",
        "\n",
        "Si por ejemplo, ahora modifico erroneamente la función suma y y en vez de sumar, multiplico `a` por `b`, el test los test que había programado de antemano deberían fallar."
      ]
    },
    {
      "cell_type": "code",
      "execution_count": null,
      "id": "a0ab3874",
      "metadata": {
        "id": "a0ab3874"
      },
      "outputs": [],
      "source": [
        "def suma(a, b):\n",
        "    return a * b\n",
        "\n",
        "assert suma(2,-3) == -1\n",
        "assert suma(99999,1) == 100000\n",
        "assert suma(3,3) != 5"
      ]
    },
    {
      "cell_type": "code",
      "execution_count": null,
      "id": "ccf28f45",
      "metadata": {
        "id": "ccf28f45"
      },
      "outputs": [],
      "source": [
        "# Le podemos indicar que nos entregue un mensaje de error\n",
        "\n",
        "assert suma(3,2) == 5, 'Error en suma en el test suma(3, 2)'"
      ]
    },
    {
      "cell_type": "markdown",
      "id": "99ae8080",
      "metadata": {
        "id": "99ae8080"
      },
      "source": [
        "## 9. Documentación\n",
        "\n",
        "Es muy probable que otros programadores (o uno mismo) quiera saber que hace alguna función sin tener que leer directamente el código para descifrarlo.\n",
        "\n",
        "La forma estándar de lograr esto es a través de _docstrings_, documentación escrita a mano que describe qué hace la función y opcionalmente que es lo que recibe como parámetros y que es lo que retorna.\n",
        "\n",
        "En python, el docstring de cada función es simplemente un string multi-linea y puede ser accedido a través de la función `help(nombre_función)`. Usualmente, los IDE (cómo jupyter o colab) también permiten acceder rápidamente a la documentación a través de popups u otros elementos."
      ]
    },
    {
      "cell_type": "code",
      "execution_count": null,
      "id": "47b73725",
      "metadata": {
        "id": "47b73725"
      },
      "outputs": [],
      "source": [
        "help(print)"
      ]
    },
    {
      "cell_type": "code",
      "execution_count": null,
      "id": "74c53ad4",
      "metadata": {
        "id": "74c53ad4"
      },
      "outputs": [],
      "source": [
        "help(list)"
      ]
    },
    {
      "cell_type": "markdown",
      "id": "9d77ab9c",
      "metadata": {
        "id": "9d77ab9c"
      },
      "source": [
        "### Implementando docstrings\n",
        "\n",
        "Para Docstrings de una linea:\n",
        "\n",
        "\n",
        "* Se usan strings multilineas ```\"\"\" \"\"\"```, inclusive si se puede escribir todo en una linea.\n",
        "* Las comillas que inicial la documentación están en la misma linea que aquellas que la cierran.\n",
        "* El docstring es una frase que termina en punto, describe el objeto al cual se hace referencia y su efecto en la forma (accion,resultado).\n",
        "* La documentación no debe tener la \"firma\" (signature) del objeto subyacente:\n",
        "\n",
        "```python\n",
        "# Firma, mala practica:\n",
        "def funcion_suma(a,b):\n",
        "    \"\"\" funcion(a,b) -> int \"\"\"\n",
        "    return a+b\n",
        "    \n",
        "# Buena practica:\n",
        "def funcion_suma(a,b):\n",
        "    \"\"\"Suma a y b y retorna su resultado \"\"\"\n",
        "    return a+b\n",
        "```"
      ]
    },
    {
      "cell_type": "code",
      "execution_count": null,
      "id": "gtqwDqyWTlDs",
      "metadata": {
        "id": "gtqwDqyWTlDs"
      },
      "outputs": [],
      "source": [
        "def funcion_suma(a,b):\n",
        "    \"\"\"Suma a y b y retorna su resultado \"\"\"\n",
        "    return a+b\n",
        "\n",
        "help(funcion_suma)"
      ]
    },
    {
      "cell_type": "markdown",
      "id": "d4fd6ae1",
      "metadata": {
        "id": "d4fd6ae1"
      },
      "source": [
        "Docstrings multilinea:\n",
        "\n",
        "* La documentación debe estar indentada completamente.\n",
        "* La primera linea debe ser siempre un resumen corto y conciso de el propósito del objeto que se documenta.\n",
        "* Debe haber una linea en blanco luego del resumen corto. Se puede agregar una explicación más profunda posterior al espacio.\n",
        "\n",
        "El estándar a seguir en este curso será el de Numpy, el cual pueden encontrar en el siguiente [enlace](https://sphinxcontrib-napoleon.readthedocs.io/en/latest/example_numpy.html)."
      ]
    },
    {
      "cell_type": "markdown",
      "id": "3d63b5d8",
      "metadata": {
        "id": "3d63b5d8"
      },
      "source": [
        "---\n",
        "\n",
        "## 10. Programación Modular y Librerías\n",
        "\n",
        "La programación modular es una técnica de de diseño de software en la que se dividen los componentes del software en distintos módulos. Este principio es agnóstico al paradigma de programación usado y está presente en la gran mayoría de proyectos de software.\n",
        "\n",
        "La idea es reducir la interdependencia entre componentes del sistema, generando piezas (o módulos) lo más independiente posibles.\n",
        "\n",
        "Python posee un manejo de módulos nativo (que ya hemos visto antes) el cuál sigue la siguiente sintaxis:\n",
        "\n",
        "```python\n",
        "import module_name\n",
        "```\n",
        "\n",
        "\n",
        "\n",
        "Un modulo en Python es simplemente un archivo con extensión ```.py``` que contiene código Python (correcto).\n",
        "Un módulo puede contener una cantidad arbitraria de objetos, como por ejemplo, clases, archivos funciones, etc."
      ]
    },
    {
      "cell_type": "markdown",
      "id": "2c5eab42",
      "metadata": {
        "id": "2c5eab42"
      },
      "source": [
        "### Paquetes y Librerías"
      ]
    },
    {
      "cell_type": "markdown",
      "id": "f3d4ae99",
      "metadata": {
        "id": "f3d4ae99"
      },
      "source": [
        "Los paquetes que pueden ser descargados desde **PyPi** se agregan al entorno de ejecución por lo que pueden ser directamente importados y tratados como módulos. Por ejemplo:"
      ]
    },
    {
      "cell_type": "code",
      "execution_count": null,
      "id": "8af4743b",
      "metadata": {
        "id": "8af4743b"
      },
      "outputs": [],
      "source": [
        "import plotly.express as px\n",
        "\n",
        "\n",
        "df = px.data.iris()\n",
        "fig = px.scatter(df, x=\"sepal_width\", y=\"sepal_length\", color=\"species\", marginal_y=\"violin\",\n",
        "           marginal_x=\"box\", template=\"simple_white\")\n",
        "fig.show()"
      ]
    },
    {
      "cell_type": "markdown",
      "id": "d7413d2f",
      "metadata": {
        "id": "d7413d2f"
      },
      "source": [
        "### Proyectos de Python\n",
        "\n",
        "Usualmente los proyectos de python contienen una estructura relativamente similar en donde en ciertas carpetas ubicadas en la raiz del proyecto se guarda el código (`src` o una carpeta con el nombre del proyecto por ejemplo) mientras que en otras se guarda la documentación (`docs`) entre otros.\n",
        "\n",
        "Luego, para importar se utilizan rutas relativas a la raiz del proyecto. Por ejemplo, para la siguiente estructura:\n",
        "\n",
        "    ├── proyecto1\n",
        "    │   ├── modulo1\n",
        "    │   │   ├── submodulo1\n",
        "    │   ├── modulo2\n",
        "    ├── docs\n",
        "    │   notebooks\n",
        "    ├── README\n",
        "    ├── LICENSE\n",
        "\n",
        "Podemos importar `funcion_1`, `funcion_2` de la siguiente manera:\n",
        "\n",
        "```python\n",
        "from proyecto1.modulo1.submodulo1 import funcion_1, funcion_2\n",
        "\n",
        "```\n",
        "\n",
        "Noten que se recorre toda la ruta desde la raiz del proyecto.\n",
        "\n",
        "\n",
        "> **Nota 🗒️**: Si bien para el proceso exploratorio de datos y prototipos de sistemas predictivos se puede almacenar todo en notebooks, el paso a producción de un sistema analítico o predictivo requiere si o si una estructura modular, en donde se separen y ordenen los componentes según su funcionalidad."
      ]
    },
    {
      "cell_type": "markdown",
      "id": "m1tQl3OoWLGh",
      "metadata": {
        "id": "m1tQl3OoWLGh"
      },
      "source": [
        "#### Ejemplo: Recorriendo la libreria de scikit-learn\n",
        "\n",
        "Cuando estamos importando alguna funcionalidad específica de una libreria, intrínsicamente lo que estamos haciendo es indicar el *path* donde esa funcionalidad está almacenada. Veamos como se vería esto con un ejemplo:\n",
        "\n",
        "Supongamos que queremos importar la clase `Pipeline` de `scikit-learn` para entrenar nuestros modelos de machine learning (materia que veremos en algunas clases más adelante):"
      ]
    },
    {
      "cell_type": "code",
      "execution_count": null,
      "id": "dZbR-QJqWTj9",
      "metadata": {
        "id": "dZbR-QJqWTj9"
      },
      "outputs": [],
      "source": [
        "from sklearn.pipeline import Pipeline"
      ]
    },
    {
      "cell_type": "markdown",
      "id": "1SrF2eeWftZI",
      "metadata": {
        "id": "1SrF2eeWftZI"
      },
      "source": [
        "Si aplicamos lo aprendido, podemos deducir que la clase `Pipeline` se encuentra en un script de python llamado `pipeline`. A la vez, este script está almacenado en una carpeta ccon nombre `sklearn`. De este modo, tendríamos un proyecto con la siguiente estructura:\n",
        "\n",
        "    ├── sklearn\n",
        "    │   ├── pipeline"
      ]
    },
    {
      "cell_type": "markdown",
      "id": "lF13cm9PgeOI",
      "metadata": {
        "id": "lF13cm9PgeOI"
      },
      "source": [
        "> **Ejercicio: 📕**: Navegue al [repositorio oficial](https://github.com/scikit-learn/scikit-learn/tree/main) de `sklearn` y encuentre el script `pipeline.py` con la clase `Pipeline`."
      ]
    },
    {
      "cell_type": "markdown",
      "id": "59d5c668",
      "metadata": {},
      "source": []
    },
    {
      "cell_type": "markdown",
      "id": "c4563451",
      "metadata": {},
      "source": []
    }
  ],
  "metadata": {
    "colab": {
      "provenance": [],
      "toc_visible": true
    },
    "kernelspec": {
      "display_name": "Python 3",
      "language": "python",
      "name": "python3"
    },
    "language_info": {
      "codemirror_mode": {
        "name": "ipython",
        "version": 3
      },
      "file_extension": ".py",
      "mimetype": "text/x-python",
      "name": "python",
      "nbconvert_exporter": "python",
      "pygments_lexer": "ipython3",
      "version": "3.11.7"
    },
    "toc": {
      "base_numbering": 1,
      "nav_menu": {},
      "number_sections": true,
      "sideBar": true,
      "skip_h1_title": false,
      "title_cell": "Table of Contents",
      "title_sidebar": "Contents",
      "toc_cell": false,
      "toc_position": {
        "height": "calc(100% - 180px)",
        "left": "10px",
        "top": "150px",
        "width": "294.233px"
      },
      "toc_section_display": true,
      "toc_window_display": true
    },
    "varInspector": {
      "cols": {
        "lenName": 16,
        "lenType": 16,
        "lenVar": 40
      },
      "kernels_config": {
        "python": {
          "delete_cmd_postfix": "",
          "delete_cmd_prefix": "del ",
          "library": "var_list.py",
          "varRefreshCmd": "print(var_dic_list())"
        },
        "r": {
          "delete_cmd_postfix": ") ",
          "delete_cmd_prefix": "rm(",
          "library": "var_list.r",
          "varRefreshCmd": "cat(var_dic_list()) "
        }
      },
      "types_to_exclude": [
        "module",
        "function",
        "builtin_function_or_method",
        "instance",
        "_Feature"
      ],
      "window_display": false
    }
  },
  "nbformat": 4,
  "nbformat_minor": 5
}
