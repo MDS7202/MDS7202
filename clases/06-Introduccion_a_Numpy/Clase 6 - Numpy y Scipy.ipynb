{
 "cells": [
  {
   "cell_type": "markdown",
   "metadata": {},
   "source": [
    "# Clase 6: Numpy y Scipy\n",
    "\n",
    "\n",
    "**MDS7202: Laboratorio de Programación Científica para Ciencia de Datos**\n",
    "\n",
    "**Profesor: Pablo Badilla**\n",
    "\n",
    "Basadas en las clases de Nicolás Caro.\n"
   ]
  },
  {
   "cell_type": "markdown",
   "metadata": {},
   "source": [
    "## Nota previa\n",
    "\n",
    "Dadas las condiciones de este año, no será posible ver todos los contenidos de python básico sin correr más el calendario.\n",
    "Lo que no alcanzamos a ver hasta el momento: \n",
    "\n",
    "- Iteradores e iterables\n",
    "- Entrada/Salida\n",
    "- functools\n",
    "- itertools\n",
    "\n",
    "Los contenidos extras no vistos hasta el momento lo podrán encontrar en github, en la misma carpeta de esta clase."
   ]
  },
  {
   "cell_type": "markdown",
   "metadata": {},
   "source": [
    "---\n",
    "\n",
    "## NumPy y SciPy: Librerías Científicas \n",
    "\n",
    "`Numpy` y `SciPy` son módulos de código abierto para Python que proveen rutinas matemáticas precompiladas y de alto rendimiento. \n",
    "\n",
    "Ambos paquetes son estándar a la hora de trabajar con operaciones numéricas, siendo `Numpy` la base para el trabajo con vectores y matrices, mientras que `SciPy` extiende dichas rutinas al incorporar algoritmos de análisis numérico, optimización, transformadas de Fourier entre otras.\n",
    "\n"
   ]
  },
  {
   "cell_type": "markdown",
   "metadata": {
    "ExecuteTime": {
     "end_time": "2021-03-31T14:02:43.200558Z",
     "start_time": "2021-03-31T14:02:43.188510Z"
    }
   },
   "source": [
    "---\n",
    "\n",
    "## Numpy\n",
    "\n",
    "[NumPy (Numerical Python)](http://www.numpy.org/) es el módulo fundamental para la computación científica en Python. Numpy es un módulo que módulo que provee **arreglos multi-dimensionales homogeneos** (i.e., del mismo tipo de datos) y una gran gama de operaciones (extremadamente optimizadas) que aplican sobre estos, tales como álgebra lineal, E/S (I/O), estadística básica, simulaciones aleatorias y un gran etc.\n",
    "\n",
    "Su uso se ha vuelto un estándar en computación científica, en particular en ciencia de datos y machine learning. Su uso es similar a otras herramientas matemáticas como MATLAB, pero esta es **Open Source 👍**. Si vienes de MATLAB, puedes encontrar una guia rápida de transción a python [aqui](https://numpy.org/devdocs/user/numpy-for-matlab-users.html).\n",
    "\n",
    "### Ejemplos de aplicaciones\n",
    "\n",
    "<img src=\"./resources/numpy_case_studies.jpg\" alt=\"Casos de estudio\" style=\"width: 800px;\"/>\n",
    "\n",
    "### Ecosistema\n",
    "\n",
    "<img src=\"./resources/numpy_ecosistema.jpg\" alt=\"Ecosistema de Numpy\" style=\"width: 800px;\"/>"
   ]
  },
  {
   "cell_type": "markdown",
   "metadata": {},
   "source": [
    "### La clase ndarray\n",
    "\n",
    "**Arreglo** (según wikipedia): \n",
    "> Es a una zona de almacenamiento contiguo (en la memoria RAM) que contiene una serie de elementos del mismo tipo.\n",
    "\n",
    "\n",
    "El núcleo de `numpy` es el objeto ndarray. Este objeto encapsula **arreglos n-dimensionales** de **tipos de datos homogeneos** e implementa **rutinas precompiladas** para el calculo de operaciones.\n",
    "\n",
    "Algunas de las características de estos arreglos.\n",
    "\n",
    "| Arreglos de tamaño fijo. | Arreglos del mismo tipo de datos.  | Provee operaciones matemáticas sobre largos conjuntos de datos. | Gran ecosistema basado en Numpy |\n",
    "|-|-|-|-|\n",
    "| A diferencia de las listas de python que pueden crecer dinámicamente, los arreglos de numpy son estáticos.  Modificar el tamaño de un arreglo implicará crear uno nuevo | Tipos de datos distintos tienen tamaños distintos. Al tener tipos de datos de igual tamaño, se puede manejar mejor la memoria RAM. | Los módulos precompilados ofrecen operaciones más eficientes sobre arreglos numpy que su equivalente de listas en python. | En general, la mayoría de librerías científicas están basadas en los arreglos de numpy. |"
   ]
  },
  {
   "cell_type": "markdown",
   "metadata": {},
   "source": [
    "### Vectorización\n",
    "\n",
    "La vectorización es la ausencia de cualquier ciclo o indexado explícito en el código. Todo se hace a través de funciones que operan \"detrás de escenas\".\n",
    "\n",
    "Ventajas:\n",
    "\n",
    "- El código vectorizado es mas consiso y facil de leer.\n",
    "\n",
    "- Menos lineas de código = Menos bugs.\n",
    "\n",
    "- La notación vectorizada \"recuerda\" en algo a la notación matemática. (Piensen en una suma de dos vectores implementado en for con respecto un `a + b`).\n"
   ]
  },
  {
   "cell_type": "markdown",
   "metadata": {},
   "source": [
    "### Primeros Pasos"
   ]
  },
  {
   "cell_type": "markdown",
   "metadata": {},
   "source": [
    "Importamos comunmente `numpy` usando el alias `np`."
   ]
  },
  {
   "cell_type": "code",
   "execution_count": 1,
   "metadata": {
    "ExecuteTime": {
     "end_time": "2021-03-31T19:28:07.775507Z",
     "start_time": "2021-03-31T19:28:07.770496Z"
    }
   },
   "outputs": [],
   "source": [
    "# alias comun es np\n",
    "import numpy as np"
   ]
  },
  {
   "cell_type": "markdown",
   "metadata": {},
   "source": [
    "#### Creación de arrays\n",
    "\n",
    "Existen varias formas de crear arreglos."
   ]
  },
  {
   "cell_type": "markdown",
   "metadata": {
    "ExecuteTime": {
     "end_time": "2021-03-31T14:48:06.295871Z",
     "start_time": "2021-03-31T14:48:06.275946Z"
    }
   },
   "source": [
    "##### Convertir listas de python a ndarrays"
   ]
  },
  {
   "cell_type": "code",
   "execution_count": 2,
   "metadata": {
    "ExecuteTime": {
     "end_time": "2021-03-31T19:28:08.541506Z",
     "start_time": "2021-03-31T19:28:08.518497Z"
    },
    "scrolled": true
   },
   "outputs": [
    {
     "data": {
      "text/plain": [
       "array([1, 2, 3])"
      ]
     },
     "execution_count": 2,
     "metadata": {},
     "output_type": "execute_result"
    }
   ],
   "source": [
    "a = np.array([1, 2, 3])\n",
    "a"
   ]
  },
  {
   "cell_type": "markdown",
   "metadata": {},
   "source": [
    "![Ejemplo ndarray](./resources/np_array.png)"
   ]
  },
  {
   "cell_type": "markdown",
   "metadata": {},
   "source": [
    "##### Crear _arrays_ llenos de ceros"
   ]
  },
  {
   "cell_type": "code",
   "execution_count": 3,
   "metadata": {
    "ExecuteTime": {
     "end_time": "2021-03-31T19:28:37.593794Z",
     "start_time": "2021-03-31T19:28:37.573796Z"
    }
   },
   "outputs": [
    {
     "data": {
      "text/plain": [
       "array([0., 0., 0., 0., 0., 0., 0., 0., 0., 0.])"
      ]
     },
     "execution_count": 3,
     "metadata": {},
     "output_type": "execute_result"
    }
   ],
   "source": [
    "b = np.zeros(10)\n",
    "b"
   ]
  },
  {
   "cell_type": "markdown",
   "metadata": {
    "code_folding": []
   },
   "source": [
    "##### Crear _arrays_ de 1"
   ]
  },
  {
   "cell_type": "code",
   "execution_count": 4,
   "metadata": {
    "ExecuteTime": {
     "end_time": "2021-03-31T19:28:42.996086Z",
     "start_time": "2021-03-31T19:28:42.984083Z"
    }
   },
   "outputs": [
    {
     "data": {
      "text/plain": [
       "array([1., 1., 1., 1., 1., 1., 1., 1., 1., 1.])"
      ]
     },
     "execution_count": 4,
     "metadata": {},
     "output_type": "execute_result"
    }
   ],
   "source": [
    "c = np.ones(10)\n",
    "c"
   ]
  },
  {
   "cell_type": "markdown",
   "metadata": {},
   "source": [
    "##### Y usar un simil de la función range"
   ]
  },
  {
   "cell_type": "code",
   "execution_count": 5,
   "metadata": {
    "ExecuteTime": {
     "end_time": "2021-03-31T19:28:44.831364Z",
     "start_time": "2021-03-31T19:28:44.812336Z"
    }
   },
   "outputs": [
    {
     "data": {
      "text/plain": [
       "array([ 2,  4,  6,  8, 10, 12, 14])"
      ]
     },
     "execution_count": 5,
     "metadata": {},
     "output_type": "execute_result"
    }
   ],
   "source": [
    "d = np.arange(2, 15, 2)  # de 2 al 15 (sin incluir) con un salto de 2 en 2.\n",
    "d"
   ]
  },
  {
   "cell_type": "markdown",
   "metadata": {},
   "source": [
    "##### Y arreglos con valores aleatorios\n",
    "\n",
    "\n",
    "Esto genera una matriz en donde cada elemento es un número $ \\sim \\text{unif}([0,1])$"
   ]
  },
  {
   "cell_type": "code",
   "execution_count": 8,
   "metadata": {
    "ExecuteTime": {
     "end_time": "2021-03-31T19:29:14.620715Z",
     "start_time": "2021-03-31T19:29:14.609688Z"
    }
   },
   "outputs": [
    {
     "data": {
      "text/plain": [
       "array([0.04991149, 0.33071468, 0.75072423])"
      ]
     },
     "execution_count": 8,
     "metadata": {},
     "output_type": "execute_result"
    }
   ],
   "source": [
    "np.random.rand(3)"
   ]
  },
  {
   "cell_type": "markdown",
   "metadata": {},
   "source": [
    "##### También podemos crear matrices"
   ]
  },
  {
   "cell_type": "code",
   "execution_count": 9,
   "metadata": {
    "ExecuteTime": {
     "end_time": "2021-03-31T19:29:22.430505Z",
     "start_time": "2021-03-31T19:29:22.413506Z"
    }
   },
   "outputs": [
    {
     "data": {
      "text/plain": [
       "array([[1., 1., 1., 1., 1.],\n",
       "       [1., 1., 1., 1., 1.],\n",
       "       [1., 1., 1., 1., 1.],\n",
       "       [1., 1., 1., 1., 1.],\n",
       "       [1., 1., 1., 1., 1.]])"
      ]
     },
     "execution_count": 9,
     "metadata": {},
     "output_type": "execute_result"
    }
   ],
   "source": [
    "e = np.ones((5, 5))\n",
    "e"
   ]
  },
  {
   "cell_type": "code",
   "execution_count": 10,
   "metadata": {
    "ExecuteTime": {
     "end_time": "2021-03-31T19:30:02.133772Z",
     "start_time": "2021-03-31T19:30:02.117772Z"
    }
   },
   "outputs": [
    {
     "data": {
      "text/plain": [
       "array([[ 1,  2,  3],\n",
       "       [ 4,  5,  6],\n",
       "       [ 7,  8,  9],\n",
       "       [10, 11, 12]])"
      ]
     },
     "execution_count": 10,
     "metadata": {},
     "output_type": "execute_result"
    }
   ],
   "source": [
    "m = np.array([[1, 2, 3], \n",
    "              [4, 5, 6], \n",
    "              [7, 8, 9], \n",
    "              [10, 11, 12]])\n",
    "m"
   ]
  },
  {
   "cell_type": "markdown",
   "metadata": {},
   "source": [
    "> **Pregunta ❓** : ¿Qué sucede con el siguiente código?\n",
    "\n",
    "```python\n",
    "m2 = np.array([[1, 2, 3], [4, 5, 6], [7]])\n",
    "```"
   ]
  },
  {
   "cell_type": "code",
   "execution_count": 12,
   "metadata": {
    "ExecuteTime": {
     "end_time": "2021-03-31T19:31:27.823705Z",
     "start_time": "2021-03-31T19:31:27.811708Z"
    },
    "scrolled": true
   },
   "outputs": [
    {
     "name": "stderr",
     "output_type": "stream",
     "text": [
      "<ipython-input-12-6db3b318f6bf>:1: VisibleDeprecationWarning: Creating an ndarray from ragged nested sequences (which is a list-or-tuple of lists-or-tuples-or ndarrays with different lengths or shapes) is deprecated. If you meant to do this, you must specify 'dtype=object' when creating the ndarray\n",
      "  m2 = np.array([[1, 2, 3], [4, 5, 6], [7]])\n"
     ]
    },
    {
     "data": {
      "text/plain": [
       "array([list([1, 2, 3]), list([4, 5, 6]), list([7])], dtype=object)"
      ]
     },
     "execution_count": 12,
     "metadata": {},
     "output_type": "execute_result"
    }
   ],
   "source": [
    "m2 = np.array([[1, 2, 3], [4, 5, 6], [7]])\n",
    "m2"
   ]
  },
  {
   "cell_type": "markdown",
   "metadata": {
    "ExecuteTime": {
     "end_time": "2021-03-31T17:43:47.023395Z",
     "start_time": "2021-03-31T17:43:47.005551Z"
    }
   },
   "source": [
    "> **Ejercicio ✏️**: Existen más alternativas para crear arreglos. Verifique las funciones `np.vstack` y `np.hstack` en la siguiente [referencia](https://numpy.org/devdocs/user/absolute_beginners.html#how-to-create-an-array-from-existing-data)."
   ]
  },
  {
   "cell_type": "markdown",
   "metadata": {},
   "source": [
    "---\n",
    "\n",
    "De aquí en adelante, definiremos la siguiente matriz como una secuencia de 4 puntos tridimensionales que describen algún objeto tridimensional, como por ejemplo, un tetraedro irregular:\n",
    "\n",
    "![Tetraedro](./resources/tetraedro.jpg)\n"
   ]
  },
  {
   "cell_type": "code",
   "execution_count": 13,
   "metadata": {
    "ExecuteTime": {
     "end_time": "2021-03-31T19:33:52.474692Z",
     "start_time": "2021-03-31T19:33:52.454692Z"
    }
   },
   "outputs": [
    {
     "data": {
      "text/plain": [
       "array([[10.1 ,  2.2 ,  3.99],\n",
       "       [ 0.  ,  9.1 ,  6.05],\n",
       "       [ 7.01,  2.55,  1.2 ],\n",
       "       [10.1 ,  0.  ,  4.44]])"
      ]
     },
     "execution_count": 13,
     "metadata": {},
     "output_type": "execute_result"
    }
   ],
   "source": [
    "puntos = np.array([[10.1, 2.2, 3.99],\n",
    "                   [0.0, 9.1, 6.05],\n",
    "                   [7.01, 2.55, 1.2],\n",
    "                   [10.1, 0.0, 4.44]])\n",
    "puntos"
   ]
  },
  {
   "cell_type": "markdown",
   "metadata": {},
   "source": [
    "#### Axes\n",
    "\n",
    "En `numpy`, las dimensiones son llamadas ***axes***.\n",
    "\n",
    "Supongamos que la matriz que vimos antes (`puntos`) es un conjunto de cuatro puntos tridimensionales.\n",
    "- Un punto `[10.1, 2.2, 3.99]` es un arreglo de una sola dimensión (un solo axe).\n",
    "- Un conjunto de dos puntos `[[10.1, 2.2, 3.99], [0.0, 9.1, 6.05]]` es un arreglo de dos dimensiones (dos axes).\n",
    "\n",
    "> **Pregunta ❓**: `[[10.1, 2.2, 3.99], [0.0, 9.1, 6.05], [7.01, 2.55, 1.2]]` ¿Cuántos axes tiene?\n"
   ]
  },
  {
   "cell_type": "markdown",
   "metadata": {},
   "source": [
    "#### Atributos de la clase ndarray "
   ]
  },
  {
   "cell_type": "code",
   "execution_count": 14,
   "metadata": {
    "ExecuteTime": {
     "end_time": "2021-03-31T19:36:04.611878Z",
     "start_time": "2021-03-31T19:36:04.597881Z"
    },
    "scrolled": true
   },
   "outputs": [
    {
     "data": {
      "text/plain": [
       "array([[10.1 ,  2.2 ,  3.99],\n",
       "       [ 0.  ,  9.1 ,  6.05],\n",
       "       [ 7.01,  2.55,  1.2 ],\n",
       "       [10.1 ,  0.  ,  4.44]])"
      ]
     },
     "execution_count": 14,
     "metadata": {},
     "output_type": "execute_result"
    }
   ],
   "source": [
    "puntos"
   ]
  },
  {
   "cell_type": "markdown",
   "metadata": {},
   "source": [
    "##### `ndim`\n",
    "\n",
    "Podemos acceder al número de dimensiones o axes a través del atributo `ndim`"
   ]
  },
  {
   "cell_type": "code",
   "execution_count": 15,
   "metadata": {
    "ExecuteTime": {
     "end_time": "2021-03-31T19:36:21.394474Z",
     "start_time": "2021-03-31T19:36:21.376477Z"
    },
    "scrolled": true
   },
   "outputs": [
    {
     "data": {
      "text/plain": [
       "2"
      ]
     },
     "execution_count": 15,
     "metadata": {},
     "output_type": "execute_result"
    }
   ],
   "source": [
    "puntos.ndim"
   ]
  },
  {
   "cell_type": "markdown",
   "metadata": {},
   "source": [
    "##### `shape`\n",
    "\n",
    "Shape es una tupla que indica el tamaño de cada dimension. Nota que la tupla tiene la misma cantidad de elementos que el número de dimensiones. \n",
    "\n",
    "En nuesto ejemplo, la dimensión 1 tiene tamaño 4 (4 puntos) y la segunda dimensión tiene 3 (coordenadas)."
   ]
  },
  {
   "cell_type": "code",
   "execution_count": 16,
   "metadata": {
    "ExecuteTime": {
     "end_time": "2021-03-31T19:36:33.081198Z",
     "start_time": "2021-03-31T19:36:33.075199Z"
    }
   },
   "outputs": [
    {
     "data": {
      "text/plain": [
       "(4, 3)"
      ]
     },
     "execution_count": 16,
     "metadata": {},
     "output_type": "execute_result"
    }
   ],
   "source": [
    "puntos.shape"
   ]
  },
  {
   "cell_type": "markdown",
   "metadata": {},
   "source": [
    "##### `size`\n",
    "\n",
    "Es el número de elementos totales en nuestro arreglo"
   ]
  },
  {
   "cell_type": "code",
   "execution_count": 17,
   "metadata": {
    "ExecuteTime": {
     "end_time": "2021-03-31T19:37:45.424587Z",
     "start_time": "2021-03-31T19:37:45.407587Z"
    }
   },
   "outputs": [
    {
     "data": {
      "text/plain": [
       "12"
      ]
     },
     "execution_count": 17,
     "metadata": {},
     "output_type": "execute_result"
    }
   ],
   "source": [
    "puntos.size"
   ]
  },
  {
   "cell_type": "markdown",
   "metadata": {},
   "source": [
    "##### `dtype`\n",
    "\n",
    "El tipo de datos que tiene nuestro arreglo"
   ]
  },
  {
   "cell_type": "code",
   "execution_count": 18,
   "metadata": {
    "ExecuteTime": {
     "end_time": "2021-03-31T19:37:52.676667Z",
     "start_time": "2021-03-31T19:37:52.669658Z"
    }
   },
   "outputs": [
    {
     "data": {
      "text/plain": [
       "dtype('float64')"
      ]
     },
     "execution_count": 18,
     "metadata": {},
     "output_type": "execute_result"
    }
   ],
   "source": [
    "puntos.dtype"
   ]
  },
  {
   "cell_type": "markdown",
   "metadata": {},
   "source": [
    "#### Datos sobre múltiples dimensiones\n",
    "\n",
    "Supongamos que ahora queremos agregar la dimensión temporal para modelar el movimiento del tetraedro. \n",
    "\n",
    "![Tetraedro_movimiento](./resources/tetraedro.gif)\n",
    "\n",
    "\n",
    "\n",
    "Es decir que tendrémos para cada $t$, un conjunto de cuatro puntos distintos. "
   ]
  },
  {
   "cell_type": "code",
   "execution_count": 22,
   "metadata": {
    "ExecuteTime": {
     "end_time": "2021-03-31T19:39:19.543222Z",
     "start_time": "2021-03-31T19:39:19.533227Z"
    },
    "scrolled": true
   },
   "outputs": [
    {
     "data": {
      "text/plain": [
       "array([[10.42249093,  2.69294488,  4.3465848 ],\n",
       "       [ 0.49782003,  9.48542132,  6.30274123],\n",
       "       [ 7.77098465,  2.94050522,  1.62639528],\n",
       "       [10.15337417,  0.82346807,  5.12995723]])"
      ]
     },
     "execution_count": 22,
     "metadata": {},
     "output_type": "execute_result"
    }
   ],
   "source": [
    "puntos_t1 = puntos + np.random.rand(4, 3)\n",
    "puntos_t1"
   ]
  },
  {
   "cell_type": "code",
   "execution_count": 23,
   "metadata": {
    "ExecuteTime": {
     "end_time": "2021-03-31T19:39:31.709916Z",
     "start_time": "2021-03-31T19:39:31.703922Z"
    },
    "scrolled": true
   },
   "outputs": [
    {
     "data": {
      "text/plain": [
       "array([[10.5182158 ,  3.15292577,  5.05815335],\n",
       "       [ 1.26147088,  9.88377687,  6.79998644],\n",
       "       [ 8.03280643,  3.06360547,  2.53648021],\n",
       "       [10.44498779,  1.79600588,  5.27350479]])"
      ]
     },
     "execution_count": 23,
     "metadata": {},
     "output_type": "execute_result"
    }
   ],
   "source": [
    "puntos_t2 = puntos_t1 + np.random.rand(4, 3)\n",
    "puntos_t2"
   ]
  },
  {
   "cell_type": "code",
   "execution_count": 24,
   "metadata": {
    "ExecuteTime": {
     "end_time": "2021-03-31T19:39:32.623916Z",
     "start_time": "2021-03-31T19:39:32.616916Z"
    }
   },
   "outputs": [
    {
     "data": {
      "text/plain": [
       "array([[11.32565728,  3.73735407,  5.46028217],\n",
       "       [ 1.34153341, 10.33205064,  7.66899138],\n",
       "       [ 8.97394255,  3.6720334 ,  3.43756954],\n",
       "       [11.43978862,  1.97005299,  5.75780397]])"
      ]
     },
     "execution_count": 24,
     "metadata": {},
     "output_type": "execute_result"
    }
   ],
   "source": [
    "puntos_t3 = puntos_t2 + np.random.rand(4, 3)\n",
    "puntos_t3"
   ]
  },
  {
   "cell_type": "code",
   "execution_count": 25,
   "metadata": {
    "ExecuteTime": {
     "end_time": "2021-03-31T19:39:33.780542Z",
     "start_time": "2021-03-31T19:39:33.770574Z"
    }
   },
   "outputs": [
    {
     "data": {
      "text/plain": [
       "array([[11.46726408,  4.17589992,  5.92325804],\n",
       "       [ 1.50408475, 10.97115224,  8.13171111],\n",
       "       [ 9.96637768,  4.45459068,  4.19059735],\n",
       "       [12.30015034,  2.24823659,  6.62748934]])"
      ]
     },
     "execution_count": 25,
     "metadata": {},
     "output_type": "execute_result"
    }
   ],
   "source": [
    "puntos_t4 = puntos_t3 + np.random.rand(4, 3)\n",
    "puntos_t4"
   ]
  },
  {
   "cell_type": "code",
   "execution_count": null,
   "metadata": {
    "ExecuteTime": {
     "end_time": "2021-03-31T19:06:17.913949Z",
     "start_time": "2021-03-31T19:06:17.898324Z"
    },
    "scrolled": true
   },
   "outputs": [],
   "source": [
    "..."
   ]
  },
  {
   "cell_type": "markdown",
   "metadata": {
    "ExecuteTime": {
     "end_time": "2021-03-31T15:26:45.166466Z",
     "start_time": "2021-03-31T15:26:45.146319Z"
    }
   },
   "source": [
    "> **Pregunta ❓**: ¿Cómo podemos agregar el tiempo a nuestro conjunto de datos?"
   ]
  },
  {
   "cell_type": "markdown",
   "metadata": {},
   "source": [
    "La forma de agregar esta variable es agregar una nueva dimensión al arreglo. Es decir, ahora tener las dimensiones `(tiempo, puntos del tetraedro, valores)`"
   ]
  },
  {
   "cell_type": "code",
   "execution_count": 26,
   "metadata": {
    "ExecuteTime": {
     "end_time": "2021-03-31T19:41:08.997055Z",
     "start_time": "2021-03-31T19:41:08.984057Z"
    }
   },
   "outputs": [
    {
     "data": {
      "text/plain": [
       "array([[[10.1       ,  2.2       ,  3.99      ],\n",
       "        [ 0.        ,  9.1       ,  6.05      ],\n",
       "        [ 7.01      ,  2.55      ,  1.2       ],\n",
       "        [10.1       ,  0.        ,  4.44      ]],\n",
       "\n",
       "       [[10.42249093,  2.69294488,  4.3465848 ],\n",
       "        [ 0.49782003,  9.48542132,  6.30274123],\n",
       "        [ 7.77098465,  2.94050522,  1.62639528],\n",
       "        [10.15337417,  0.82346807,  5.12995723]],\n",
       "\n",
       "       [[10.5182158 ,  3.15292577,  5.05815335],\n",
       "        [ 1.26147088,  9.88377687,  6.79998644],\n",
       "        [ 8.03280643,  3.06360547,  2.53648021],\n",
       "        [10.44498779,  1.79600588,  5.27350479]],\n",
       "\n",
       "       [[11.32565728,  3.73735407,  5.46028217],\n",
       "        [ 1.34153341, 10.33205064,  7.66899138],\n",
       "        [ 8.97394255,  3.6720334 ,  3.43756954],\n",
       "        [11.43978862,  1.97005299,  5.75780397]],\n",
       "\n",
       "       [[11.46726408,  4.17589992,  5.92325804],\n",
       "        [ 1.50408475, 10.97115224,  8.13171111],\n",
       "        [ 9.96637768,  4.45459068,  4.19059735],\n",
       "        [12.30015034,  2.24823659,  6.62748934]]])"
      ]
     },
     "execution_count": 26,
     "metadata": {},
     "output_type": "execute_result"
    }
   ],
   "source": [
    "puntos_t = np.array([puntos, puntos_t1, puntos_t2, puntos_t3, puntos_t4])\n",
    "puntos_t"
   ]
  },
  {
   "cell_type": "code",
   "execution_count": 27,
   "metadata": {
    "ExecuteTime": {
     "end_time": "2021-03-31T19:41:45.200738Z",
     "start_time": "2021-03-31T19:41:45.188739Z"
    }
   },
   "outputs": [
    {
     "data": {
      "text/plain": [
       "3"
      ]
     },
     "execution_count": 27,
     "metadata": {},
     "output_type": "execute_result"
    }
   ],
   "source": [
    "puntos_t.ndim"
   ]
  },
  {
   "cell_type": "code",
   "execution_count": 28,
   "metadata": {
    "ExecuteTime": {
     "end_time": "2021-03-31T19:41:47.781740Z",
     "start_time": "2021-03-31T19:41:47.774739Z"
    },
    "scrolled": true
   },
   "outputs": [
    {
     "data": {
      "text/plain": [
       "(5, 4, 3)"
      ]
     },
     "execution_count": 28,
     "metadata": {},
     "output_type": "execute_result"
    }
   ],
   "source": [
    "puntos_t.shape"
   ]
  },
  {
   "cell_type": "markdown",
   "metadata": {
    "ExecuteTime": {
     "end_time": "2021-03-31T15:32:45.336152Z",
     "start_time": "2021-03-31T15:32:45.326056Z"
    }
   },
   "source": [
    "Comunmente, los arreglos de más de dos dimensiones son conocidos como **tensores**."
   ]
  },
  {
   "cell_type": "markdown",
   "metadata": {},
   "source": [
    "> **Pregunta ❓**: ¿Cómo podemos modelar datos como imágenes y videos en arreglos multidimensionales?\n",
    "\n",
    "> Propongan algún otro tipo de dato para modelarlo en este momento.\n"
   ]
  },
  {
   "cell_type": "markdown",
   "metadata": {},
   "source": [
    "Ejemplo de imagen 8x8 en blanco negro."
   ]
  },
  {
   "cell_type": "code",
   "execution_count": 188,
   "metadata": {
    "ExecuteTime": {
     "end_time": "2021-03-31T21:45:13.081409Z",
     "start_time": "2021-03-31T21:45:13.065409Z"
    }
   },
   "outputs": [],
   "source": [
    "imagen = np.array([[0, 0, 0, 0, 0, 0, 0, 0, 0, 0, 0, 0, 0, 0, 0, 0],\n",
    "                   [0, 0, 0, 0, 0, 0, 0, 0, 0, 0, 0, 0, 0, 0, 0, 0],\n",
    "                   [0, 0, 0, 1, 1, 0, 0, 0, 0, 0, 0, 1, 1, 0, 0, 0],\n",
    "                   [0, 0, 1, 0, 0, 1, 0, 0, 0, 0, 1, 0, 0, 1, 0, 0],\n",
    "                   [0, 0, 0, 0, 0, 0, 0, 0, 0, 0, 0, 0, 0, 0, 0, 0],\n",
    "                   [0, 0, 0, 0, 0, 0, 1, 0, 0, 1, 0, 0, 0, 0, 0, 0],\n",
    "                   [0, 0, 0, 0, 0, 0, 1, 1, 1, 1, 0, 0, 0, 0, 0, 0],\n",
    "                   [0, 0, 0, 0, 0, 0, 0, 0, 0, 0, 0, 0, 0, 0, 0, 0]],\n",
    "                  dtype='uint8') * 255"
   ]
  },
  {
   "cell_type": "code",
   "execution_count": 192,
   "metadata": {
    "ExecuteTime": {
     "end_time": "2021-03-31T21:47:37.903838Z",
     "start_time": "2021-03-31T21:47:37.891824Z"
    },
    "scrolled": true
   },
   "outputs": [
    {
     "data": {
      "image/png": "[encoded data removed]",
      "text/plain": [
       "<PIL.Image.Image image mode=L size=16x8 at 0x1B8159B64F0>"
      ]
     },
     "execution_count": 192,
     "metadata": {},
     "output_type": "execute_result"
    }
   ],
   "source": [
    "from PIL import Image\n",
    "img1 = Image.fromarray(imagen)\n",
    "img1"
   ]
  },
  {
   "cell_type": "markdown",
   "metadata": {},
   "source": [
    "Por lo general, las imágenes tienen 3 canales: Rojo Verde y Azul (Red, Green and Blue = **RGB**)."
   ]
  },
  {
   "cell_type": "code",
   "execution_count": 200,
   "metadata": {
    "ExecuteTime": {
     "end_time": "2021-03-31T21:54:09.103894Z",
     "start_time": "2021-03-31T21:54:09.099921Z"
    }
   },
   "outputs": [],
   "source": [
    "imagen = [[0,0,0  ], [...], [...],\n",
    "          [0,0,255], [...], [...],\n",
    "          [...]\n",
    "         ]"
   ]
  },
  {
   "cell_type": "code",
   "execution_count": 199,
   "metadata": {
    "ExecuteTime": {
     "end_time": "2021-03-31T21:54:08.365069Z",
     "start_time": "2021-03-31T21:54:08.353050Z"
    }
   },
   "outputs": [
    {
     "data": {
      "text/plain": [
       "['Rojo', 'Verde', 'Azul']"
      ]
     },
     "execution_count": 199,
     "metadata": {},
     "output_type": "execute_result"
    }
   ],
   "source": [
    "['Rojo', 'Verde', 'Azul']"
   ]
  },
  {
   "cell_type": "markdown",
   "metadata": {
    "ExecuteTime": {
     "end_time": "2021-03-31T21:54:10.060152Z",
     "start_time": "2021-03-31T21:54:10.044152Z"
    }
   },
   "source": [
    "Los videos no son más que conjuntos de imágenes más audio. Si consideramos solo las imágenes, tendríamos:"
   ]
  },
  {
   "cell_type": "code",
   "execution_count": 193,
   "metadata": {
    "ExecuteTime": {
     "end_time": "2021-03-31T21:47:46.325043Z",
     "start_time": "2021-03-31T21:47:46.317032Z"
    }
   },
   "outputs": [],
   "source": [
    "#video = [img1, img2, img3, ...]\n",
    "\n",
    "# El arreglo tendría las siguientes dimensiones: (tiempo, alto, ancho, canal)"
   ]
  },
  {
   "cell_type": "markdown",
   "metadata": {},
   "source": [
    "### Indexado\n",
    "\n",
    "\n",
    "El indexado es similar a las listas de python.\n",
    "\n",
    "![Indexado](./resources/np_indexing.png)\n",
    "<center>Fuente: https://numpy.org/devdocs/user/absolute_beginners.html </center>"
   ]
  },
  {
   "cell_type": "code",
   "execution_count": 31,
   "metadata": {
    "ExecuteTime": {
     "end_time": "2021-03-31T19:50:22.160338Z",
     "start_time": "2021-03-31T19:50:22.150338Z"
    },
    "scrolled": true
   },
   "outputs": [
    {
     "name": "stdout",
     "output_type": "stream",
     "text": [
      "data:  [1 2 3]\n",
      "data[1]:  2 - Ojo que esto retorna el elemento, no un arreglo!\n",
      "data[1]:  [2] - Esta versión si retorna un arreglo\n",
      "data[0:2]:  [1 2]\n",
      "data[1:]:  [2 3]\n",
      "data[-2:]:  [2 3]\n"
     ]
    }
   ],
   "source": [
    "data = np.array([1, 2, 3])\n",
    "print(\"data: \", data)\n",
    "print(\"data[1]: \", data[1],\n",
    "      '- Ojo que esto retorna el elemento, no un arreglo!')\n",
    "print(\"data[1]: \", data[1:2], '- Esta versión si retorna un arreglo')\n",
    "\n",
    "print(\"data[0:2]: \", data[0:2])\n",
    "print(\"data[1:]: \", data[1:])\n",
    "print(\"data[-2:]: \", data[-2:])"
   ]
  },
  {
   "cell_type": "markdown",
   "metadata": {},
   "source": [
    "Y multidimensional"
   ]
  },
  {
   "cell_type": "code",
   "execution_count": 32,
   "metadata": {
    "ExecuteTime": {
     "end_time": "2021-03-31T19:50:32.269077Z",
     "start_time": "2021-03-31T19:50:32.253066Z"
    }
   },
   "outputs": [
    {
     "data": {
      "text/plain": [
       "array([[[10.1       ,  2.2       ,  3.99      ],\n",
       "        [ 0.        ,  9.1       ,  6.05      ],\n",
       "        [ 7.01      ,  2.55      ,  1.2       ],\n",
       "        [10.1       ,  0.        ,  4.44      ]],\n",
       "\n",
       "       [[10.42249093,  2.69294488,  4.3465848 ],\n",
       "        [ 0.49782003,  9.48542132,  6.30274123],\n",
       "        [ 7.77098465,  2.94050522,  1.62639528],\n",
       "        [10.15337417,  0.82346807,  5.12995723]],\n",
       "\n",
       "       [[10.5182158 ,  3.15292577,  5.05815335],\n",
       "        [ 1.26147088,  9.88377687,  6.79998644],\n",
       "        [ 8.03280643,  3.06360547,  2.53648021],\n",
       "        [10.44498779,  1.79600588,  5.27350479]],\n",
       "\n",
       "       [[11.32565728,  3.73735407,  5.46028217],\n",
       "        [ 1.34153341, 10.33205064,  7.66899138],\n",
       "        [ 8.97394255,  3.6720334 ,  3.43756954],\n",
       "        [11.43978862,  1.97005299,  5.75780397]],\n",
       "\n",
       "       [[11.46726408,  4.17589992,  5.92325804],\n",
       "        [ 1.50408475, 10.97115224,  8.13171111],\n",
       "        [ 9.96637768,  4.45459068,  4.19059735],\n",
       "        [12.30015034,  2.24823659,  6.62748934]]])"
      ]
     },
     "execution_count": 32,
     "metadata": {},
     "output_type": "execute_result"
    }
   ],
   "source": [
    "puntos_t"
   ]
  },
  {
   "cell_type": "code",
   "execution_count": null,
   "metadata": {},
   "outputs": [],
   "source": [
    "puntos[1:3][:][:]"
   ]
  },
  {
   "cell_type": "code",
   "execution_count": 33,
   "metadata": {
    "ExecuteTime": {
     "end_time": "2021-03-31T19:51:43.335550Z",
     "start_time": "2021-03-31T19:51:43.315551Z"
    }
   },
   "outputs": [
    {
     "data": {
      "text/plain": [
       "array([[[10.42249093,  2.69294488,  4.3465848 ],\n",
       "        [ 0.49782003,  9.48542132,  6.30274123],\n",
       "        [ 7.77098465,  2.94050522,  1.62639528],\n",
       "        [10.15337417,  0.82346807,  5.12995723]],\n",
       "\n",
       "       [[10.5182158 ,  3.15292577,  5.05815335],\n",
       "        [ 1.26147088,  9.88377687,  6.79998644],\n",
       "        [ 8.03280643,  3.06360547,  2.53648021],\n",
       "        [10.44498779,  1.79600588,  5.27350479]]])"
      ]
     },
     "execution_count": 33,
     "metadata": {},
     "output_type": "execute_result"
    }
   ],
   "source": [
    "# Los primeros 2 conjuntos de puntos para t={0,1}\n",
    "\n",
    "puntos_t[1:3, :, :]"
   ]
  },
  {
   "cell_type": "code",
   "execution_count": 34,
   "metadata": {
    "ExecuteTime": {
     "end_time": "2021-03-31T19:52:41.578061Z",
     "start_time": "2021-03-31T19:52:41.559026Z"
    }
   },
   "outputs": [
    {
     "data": {
      "text/plain": [
       "array([[[10.42249093,  2.69294488,  4.3465848 ]],\n",
       "\n",
       "       [[10.5182158 ,  3.15292577,  5.05815335]]])"
      ]
     },
     "execution_count": 34,
     "metadata": {},
     "output_type": "execute_result"
    }
   ],
   "source": [
    "# Los primeros 2 conjuntos de puntos para t={0,1} y solo uno de los puntos ubicado en 0\n",
    "\n",
    "puntos_t[1:3, 0:1, :]"
   ]
  },
  {
   "cell_type": "code",
   "execution_count": 35,
   "metadata": {
    "ExecuteTime": {
     "end_time": "2021-03-31T19:53:48.272219Z",
     "start_time": "2021-03-31T19:53:48.261221Z"
    }
   },
   "outputs": [
    {
     "data": {
      "text/plain": [
       "array([[10.42249093],\n",
       "       [10.5182158 ]])"
      ]
     },
     "execution_count": 35,
     "metadata": {},
     "output_type": "execute_result"
    }
   ],
   "source": [
    "#  Los primeros 2 conjuntos de puntos para t={1,2} y solo uno de los puntos ubicado en 0 y solo el eje X\n",
    "puntos_t[1:3, 0:1, 0]"
   ]
  },
  {
   "cell_type": "markdown",
   "metadata": {},
   "source": [
    "### Operaciones básicas sobre arreglos\n",
    "\n",
    "\n",
    "#### Ordenar y Concatenar"
   ]
  },
  {
   "cell_type": "markdown",
   "metadata": {},
   "source": [
    "##### `sort`\n",
    "\n",
    "Retorna una copia del arreglo original ordenado."
   ]
  },
  {
   "cell_type": "code",
   "execution_count": 36,
   "metadata": {
    "ExecuteTime": {
     "end_time": "2021-03-31T19:56:18.936414Z",
     "start_time": "2021-03-31T19:56:18.918414Z"
    }
   },
   "outputs": [
    {
     "data": {
      "text/plain": [
       "array([1, 2, 3, 4, 5, 6, 7, 8])"
      ]
     },
     "execution_count": 36,
     "metadata": {},
     "output_type": "execute_result"
    }
   ],
   "source": [
    "arr = np.array([2, 1, 5, 3, 7, 4, 6, 8])\n",
    "\n",
    "np.sort(arr)"
   ]
  },
  {
   "cell_type": "markdown",
   "metadata": {},
   "source": [
    "##### `concatenate`\n",
    "\n",
    "Concatena arreglos (similar a la operación `+`)"
   ]
  },
  {
   "cell_type": "code",
   "execution_count": 37,
   "metadata": {
    "ExecuteTime": {
     "end_time": "2021-03-31T19:56:41.527163Z",
     "start_time": "2021-03-31T19:56:41.508161Z"
    }
   },
   "outputs": [
    {
     "data": {
      "text/plain": [
       "array([1, 2, 3, 4, 5, 6, 7, 8])"
      ]
     },
     "execution_count": 37,
     "metadata": {},
     "output_type": "execute_result"
    }
   ],
   "source": [
    "a = np.array([1, 2, 3, 4])\n",
    "b = np.array([5, 6, 7, 8])\n",
    "\n",
    "np.concatenate((a, b))"
   ]
  },
  {
   "cell_type": "code",
   "execution_count": 38,
   "metadata": {
    "ExecuteTime": {
     "end_time": "2021-03-31T19:57:05.983719Z",
     "start_time": "2021-03-31T19:57:05.978718Z"
    }
   },
   "outputs": [
    {
     "data": {
      "text/plain": [
       "array([[1, 2],\n",
       "       [3, 4],\n",
       "       [5, 6]])"
      ]
     },
     "execution_count": 38,
     "metadata": {},
     "output_type": "execute_result"
    }
   ],
   "source": [
    "x = np.array([[1, 2], \n",
    "              [3, 4]])\n",
    "\n",
    "y = np.array([[5, 6]])\n",
    "\n",
    "np.concatenate((x, y))"
   ]
  },
  {
   "cell_type": "markdown",
   "metadata": {
    "ExecuteTime": {
     "end_time": "2021-03-31T15:41:58.386116Z",
     "start_time": "2021-03-31T15:41:58.376638Z"
    }
   },
   "source": [
    "Se puede especificar la dimensión donde se desea concatenar"
   ]
  },
  {
   "cell_type": "code",
   "execution_count": 39,
   "metadata": {
    "ExecuteTime": {
     "end_time": "2021-03-31T19:57:33.039395Z",
     "start_time": "2021-03-31T19:57:33.030394Z"
    }
   },
   "outputs": [
    {
     "data": {
      "text/plain": [
       "array([[1, 2],\n",
       "       [3, 4],\n",
       "       [5, 6],\n",
       "       [7, 8]])"
      ]
     },
     "execution_count": 39,
     "metadata": {},
     "output_type": "execute_result"
    }
   ],
   "source": [
    "x = np.array([[1, 2], \n",
    "              [3, 4]])\n",
    "\n",
    "z = np.array([[5, 6], \n",
    "              [7, 8]])\n",
    "\n",
    "np.concatenate((x, z), axis=0)  # idea: concatenar a las filas"
   ]
  },
  {
   "cell_type": "code",
   "execution_count": 41,
   "metadata": {
    "ExecuteTime": {
     "end_time": "2021-03-31T19:58:03.361272Z",
     "start_time": "2021-03-31T19:58:03.317273Z"
    },
    "scrolled": true
   },
   "outputs": [
    {
     "ename": "ValueError",
     "evalue": "all the input array dimensions for the concatenation axis must match exactly, but along dimension 0, the array at index 0 has size 2 and the array at index 1 has size 1",
     "output_type": "error",
     "traceback": [
      "\u001b[1;31m---------------------------------------------------------------------------\u001b[0m",
      "\u001b[1;31mValueError\u001b[0m                                Traceback (most recent call last)",
      "\u001b[1;32m<ipython-input-41-eacd9ae4a480>\u001b[0m in \u001b[0;36m<module>\u001b[1;34m\u001b[0m\n\u001b[1;32m----> 1\u001b[1;33m \u001b[0mnp\u001b[0m\u001b[1;33m.\u001b[0m\u001b[0mconcatenate\u001b[0m\u001b[1;33m(\u001b[0m\u001b[1;33m(\u001b[0m\u001b[0mx\u001b[0m\u001b[1;33m,\u001b[0m \u001b[0my\u001b[0m\u001b[1;33m)\u001b[0m\u001b[1;33m,\u001b[0m \u001b[0maxis\u001b[0m\u001b[1;33m=\u001b[0m\u001b[1;36m1\u001b[0m\u001b[1;33m)\u001b[0m  \u001b[1;31m# idea: concatenar a las columnas\u001b[0m\u001b[1;33m\u001b[0m\u001b[1;33m\u001b[0m\u001b[0m\n\u001b[0m",
      "\u001b[1;32m<__array_function__ internals>\u001b[0m in \u001b[0;36mconcatenate\u001b[1;34m(*args, **kwargs)\u001b[0m\n",
      "\u001b[1;31mValueError\u001b[0m: all the input array dimensions for the concatenation axis must match exactly, but along dimension 0, the array at index 0 has size 2 and the array at index 1 has size 1"
     ]
    }
   ],
   "source": [
    "np.concatenate((x, y), axis=1)  # idea: concatenar a las columnas"
   ]
  },
  {
   "cell_type": "markdown",
   "metadata": {},
   "source": [
    "#### Nota: Cómo leer documentación de python\n",
    "\n",
    "https://numpy.org/devdocs/reference/generated/numpy.concatenate.html#numpy.concatenate\n",
    "\n",
    "\n",
    "<img src=\"./resources/doc_1.jpg\" alt=\"Definición de la función\" style=\"width: 750px;\"/>\n",
    "<img src=\"./resources/doc_2.jpg\" alt=\"Definición de la función\" style=\"width: 700px;\"/>\n",
    "<img src=\"./resources/doc_3.jpg\" alt=\"Definición de la función\" style=\"width: 700px;\"/>"
   ]
  },
  {
   "cell_type": "markdown",
   "metadata": {},
   "source": [
    "**Todo esto se encuentra en el docstring de la función!!!**"
   ]
  },
  {
   "cell_type": "code",
   "execution_count": 42,
   "metadata": {
    "ExecuteTime": {
     "end_time": "2021-03-31T20:00:37.650382Z",
     "start_time": "2021-03-31T20:00:37.632384Z"
    }
   },
   "outputs": [
    {
     "name": "stdout",
     "output_type": "stream",
     "text": [
      "Help on function concatenate in module numpy:\n",
      "\n",
      "concatenate(...)\n",
      "    concatenate((a1, a2, ...), axis=0, out=None)\n",
      "    \n",
      "    Join a sequence of arrays along an existing axis.\n",
      "    \n",
      "    Parameters\n",
      "    ----------\n",
      "    a1, a2, ... : sequence of array_like\n",
      "        The arrays must have the same shape, except in the dimension\n",
      "        corresponding to `axis` (the first, by default).\n",
      "    axis : int, optional\n",
      "        The axis along which the arrays will be joined.  If axis is None,\n",
      "        arrays are flattened before use.  Default is 0.\n",
      "    out : ndarray, optional\n",
      "        If provided, the destination to place the result. The shape must be\n",
      "        correct, matching that of what concatenate would have returned if no\n",
      "        out argument were specified.\n",
      "    \n",
      "    Returns\n",
      "    -------\n",
      "    res : ndarray\n",
      "        The concatenated array.\n",
      "    \n",
      "    See Also\n",
      "    --------\n",
      "    ma.concatenate : Concatenate function that preserves input masks.\n",
      "    array_split : Split an array into multiple sub-arrays of equal or\n",
      "                  near-equal size.\n",
      "    split : Split array into a list of multiple sub-arrays of equal size.\n",
      "    hsplit : Split array into multiple sub-arrays horizontally (column wise).\n",
      "    vsplit : Split array into multiple sub-arrays vertically (row wise).\n",
      "    dsplit : Split array into multiple sub-arrays along the 3rd axis (depth).\n",
      "    stack : Stack a sequence of arrays along a new axis.\n",
      "    block : Assemble arrays from blocks.\n",
      "    hstack : Stack arrays in sequence horizontally (column wise).\n",
      "    vstack : Stack arrays in sequence vertically (row wise).\n",
      "    dstack : Stack arrays in sequence depth wise (along third dimension).\n",
      "    column_stack : Stack 1-D arrays as columns into a 2-D array.\n",
      "    \n",
      "    Notes\n",
      "    -----\n",
      "    When one or more of the arrays to be concatenated is a MaskedArray,\n",
      "    this function will return a MaskedArray object instead of an ndarray,\n",
      "    but the input masks are *not* preserved. In cases where a MaskedArray\n",
      "    is expected as input, use the ma.concatenate function from the masked\n",
      "    array module instead.\n",
      "    \n",
      "    Examples\n",
      "    --------\n",
      "    >>> a = np.array([[1, 2], [3, 4]])\n",
      "    >>> b = np.array([[5, 6]])\n",
      "    >>> np.concatenate((a, b), axis=0)\n",
      "    array([[1, 2],\n",
      "           [3, 4],\n",
      "           [5, 6]])\n",
      "    >>> np.concatenate((a, b.T), axis=1)\n",
      "    array([[1, 2, 5],\n",
      "           [3, 4, 6]])\n",
      "    >>> np.concatenate((a, b), axis=None)\n",
      "    array([1, 2, 3, 4, 5, 6])\n",
      "    \n",
      "    This function will not preserve masking of MaskedArray inputs.\n",
      "    \n",
      "    >>> a = np.ma.arange(3)\n",
      "    >>> a[1] = np.ma.masked\n",
      "    >>> b = np.arange(2, 5)\n",
      "    >>> a\n",
      "    masked_array(data=[0, --, 2],\n",
      "                 mask=[False,  True, False],\n",
      "           fill_value=999999)\n",
      "    >>> b\n",
      "    array([2, 3, 4])\n",
      "    >>> np.concatenate([a, b])\n",
      "    masked_array(data=[0, 1, 2, 2, 3, 4],\n",
      "                 mask=False,\n",
      "           fill_value=999999)\n",
      "    >>> np.ma.concatenate([a, b])\n",
      "    masked_array(data=[0, --, 2, 2, 3, 4],\n",
      "                 mask=[False,  True, False, False, False, False],\n",
      "           fill_value=999999)\n",
      "\n"
     ]
    }
   ],
   "source": [
    "help(np.concatenate)"
   ]
  },
  {
   "cell_type": "markdown",
   "metadata": {
    "ExecuteTime": {
     "end_time": "2021-03-31T16:36:45.356085Z",
     "start_time": "2021-03-31T16:36:45.340502Z"
    }
   },
   "source": [
    "#### Operaciones aritméticas y lógicas\n",
    "\n",
    "Las operaciones aritméticas siempre operan elemento a elemento (**elementwise**)."
   ]
  },
  {
   "cell_type": "code",
   "execution_count": 43,
   "metadata": {
    "ExecuteTime": {
     "end_time": "2021-03-31T20:01:37.037519Z",
     "start_time": "2021-03-31T20:01:37.020520Z"
    }
   },
   "outputs": [],
   "source": [
    "a = np.array([20, 30, 40, 50])\n",
    "b = np.array([0, 1, 2, 3])"
   ]
  },
  {
   "cell_type": "code",
   "execution_count": 44,
   "metadata": {
    "ExecuteTime": {
     "end_time": "2021-03-31T20:01:39.862519Z",
     "start_time": "2021-03-31T20:01:39.847522Z"
    }
   },
   "outputs": [
    {
     "data": {
      "text/plain": [
       "array([20, 29, 38, 47])"
      ]
     },
     "execution_count": 44,
     "metadata": {},
     "output_type": "execute_result"
    }
   ],
   "source": [
    "a - b"
   ]
  },
  {
   "cell_type": "code",
   "execution_count": 45,
   "metadata": {
    "ExecuteTime": {
     "end_time": "2021-03-31T20:01:47.153520Z",
     "start_time": "2021-03-31T20:01:47.142520Z"
    }
   },
   "outputs": [
    {
     "data": {
      "text/plain": [
       "array([20, 31, 42, 53])"
      ]
     },
     "execution_count": 45,
     "metadata": {},
     "output_type": "execute_result"
    }
   ],
   "source": [
    "a + b"
   ]
  },
  {
   "cell_type": "code",
   "execution_count": 46,
   "metadata": {
    "ExecuteTime": {
     "end_time": "2021-03-31T20:01:51.141518Z",
     "start_time": "2021-03-31T20:01:51.131521Z"
    }
   },
   "outputs": [
    {
     "data": {
      "text/plain": [
       "array([0, 1, 4, 9], dtype=int32)"
      ]
     },
     "execution_count": 46,
     "metadata": {},
     "output_type": "execute_result"
    }
   ],
   "source": [
    "b ** 2"
   ]
  },
  {
   "cell_type": "code",
   "execution_count": 47,
   "metadata": {
    "ExecuteTime": {
     "end_time": "2021-03-31T20:01:53.905519Z",
     "start_time": "2021-03-31T20:01:53.895521Z"
    }
   },
   "outputs": [
    {
     "data": {
      "text/plain": [
       "array([ 0, 10, 20, 30])"
      ]
     },
     "execution_count": 47,
     "metadata": {},
     "output_type": "execute_result"
    }
   ],
   "source": [
    "10 * b"
   ]
  },
  {
   "cell_type": "code",
   "execution_count": 48,
   "metadata": {
    "ExecuteTime": {
     "end_time": "2021-03-31T20:02:00.190519Z",
     "start_time": "2021-03-31T20:02:00.181521Z"
    }
   },
   "outputs": [
    {
     "data": {
      "text/plain": [
       "array([ 0, 10, 20, 30])"
      ]
     },
     "execution_count": 48,
     "metadata": {},
     "output_type": "execute_result"
    }
   ],
   "source": [
    "[10] * b"
   ]
  },
  {
   "cell_type": "code",
   "execution_count": 49,
   "metadata": {
    "ExecuteTime": {
     "end_time": "2021-03-31T20:02:25.006427Z",
     "start_time": "2021-03-31T20:02:24.996427Z"
    }
   },
   "outputs": [
    {
     "data": {
      "text/plain": [
       "array([  0,  30,  80, 150])"
      ]
     },
     "execution_count": 49,
     "metadata": {},
     "output_type": "execute_result"
    }
   ],
   "source": [
    "a * b"
   ]
  },
  {
   "cell_type": "code",
   "execution_count": null,
   "metadata": {
    "ExecuteTime": {
     "end_time": "2021-03-31T19:06:18.283784Z",
     "start_time": "2021-03-31T19:06:18.268191Z"
    }
   },
   "outputs": [],
   "source": [
    "b ** 2"
   ]
  },
  {
   "cell_type": "code",
   "execution_count": 51,
   "metadata": {
    "ExecuteTime": {
     "end_time": "2021-03-31T20:02:48.039025Z",
     "start_time": "2021-03-31T20:02:48.022027Z"
    }
   },
   "outputs": [
    {
     "data": {
      "text/plain": [
       "array([20, 30, 40, 50])"
      ]
     },
     "execution_count": 51,
     "metadata": {},
     "output_type": "execute_result"
    }
   ],
   "source": [
    "a"
   ]
  },
  {
   "cell_type": "code",
   "execution_count": 52,
   "metadata": {
    "ExecuteTime": {
     "end_time": "2021-03-31T20:02:56.792025Z",
     "start_time": "2021-03-31T20:02:56.774027Z"
    }
   },
   "outputs": [
    {
     "data": {
      "text/plain": [
       "array([ True, False, False, False])"
      ]
     },
     "execution_count": 52,
     "metadata": {},
     "output_type": "execute_result"
    }
   ],
   "source": [
    "a <= 20"
   ]
  },
  {
   "cell_type": "code",
   "execution_count": 53,
   "metadata": {
    "ExecuteTime": {
     "end_time": "2021-03-31T20:03:17.377859Z",
     "start_time": "2021-03-31T20:03:17.363860Z"
    }
   },
   "outputs": [
    {
     "data": {
      "text/plain": [
       "array([False,  True,  True,  True])"
      ]
     },
     "execution_count": 53,
     "metadata": {},
     "output_type": "execute_result"
    }
   ],
   "source": [
    "a > 20"
   ]
  },
  {
   "cell_type": "code",
   "execution_count": 55,
   "metadata": {
    "ExecuteTime": {
     "end_time": "2021-03-31T20:03:50.741666Z",
     "start_time": "2021-03-31T20:03:50.724669Z"
    }
   },
   "outputs": [
    {
     "data": {
      "text/plain": [
       "array([False, False, False, False])"
      ]
     },
     "execution_count": 55,
     "metadata": {},
     "output_type": "execute_result"
    }
   ],
   "source": [
    "a < b"
   ]
  },
  {
   "cell_type": "code",
   "execution_count": 54,
   "metadata": {
    "ExecuteTime": {
     "end_time": "2021-03-31T20:03:31.178003Z",
     "start_time": "2021-03-31T20:03:31.171004Z"
    },
    "scrolled": true
   },
   "outputs": [
    {
     "data": {
      "text/plain": [
       "array([ True, False, False, False])"
      ]
     },
     "execution_count": 54,
     "metadata": {},
     "output_type": "execute_result"
    }
   ],
   "source": [
    "a == 20"
   ]
  },
  {
   "cell_type": "markdown",
   "metadata": {
    "ExecuteTime": {
     "end_time": "2021-03-31T16:39:12.400271Z",
     "start_time": "2021-03-31T16:39:12.384635Z"
    }
   },
   "source": [
    "**Nota:** Para el caso del producto matricial, se ocupa `@`.\n",
    "\n"
   ]
  },
  {
   "cell_type": "markdown",
   "metadata": {
    "ExecuteTime": {
     "end_time": "2021-03-31T16:45:24.969756Z",
     "start_time": "2021-03-31T16:45:24.922910Z"
    }
   },
   "source": [
    "<img src=\"./resources/formula_prod_matricial.jpg\" alt=\"Formula prod matricial\" style=\"width: 700px;\"/>"
   ]
  },
  {
   "cell_type": "markdown",
   "metadata": {},
   "source": [
    "<img src=\"./resources/prod_matricial.jpg\" alt=\"Producto Matricial\" style=\"width: 250px;\"/>"
   ]
  },
  {
   "cell_type": "code",
   "execution_count": 56,
   "metadata": {
    "ExecuteTime": {
     "end_time": "2021-03-31T20:04:39.021057Z",
     "start_time": "2021-03-31T20:04:39.016020Z"
    }
   },
   "outputs": [],
   "source": [
    "A = np.array([[1, 1],\n",
    "              [0, 1]])\n",
    "\n",
    "B = np.array([[2, 0],\n",
    "              [3, 4]])"
   ]
  },
  {
   "cell_type": "code",
   "execution_count": null,
   "metadata": {
    "ExecuteTime": {
     "end_time": "2021-03-31T19:06:18.368458Z",
     "start_time": "2021-03-31T19:06:18.352834Z"
    }
   },
   "outputs": [],
   "source": [
    "A * B  # elementwise product"
   ]
  },
  {
   "cell_type": "code",
   "execution_count": 57,
   "metadata": {
    "ExecuteTime": {
     "end_time": "2021-03-31T20:04:42.632337Z",
     "start_time": "2021-03-31T20:04:42.625336Z"
    }
   },
   "outputs": [
    {
     "data": {
      "text/plain": [
       "array([[5, 4],\n",
       "       [3, 4]])"
      ]
     },
     "execution_count": 57,
     "metadata": {},
     "output_type": "execute_result"
    }
   ],
   "source": [
    "A @ B  # producto punto"
   ]
  },
  {
   "cell_type": "code",
   "execution_count": 58,
   "metadata": {
    "ExecuteTime": {
     "end_time": "2021-03-31T20:04:47.938655Z",
     "start_time": "2021-03-31T20:04:47.922657Z"
    }
   },
   "outputs": [
    {
     "data": {
      "text/plain": [
       "array([[5, 4],\n",
       "       [3, 4]])"
      ]
     },
     "execution_count": 58,
     "metadata": {},
     "output_type": "execute_result"
    }
   ],
   "source": [
    "A.dot(B)  # another matrix product"
   ]
  },
  {
   "cell_type": "markdown",
   "metadata": {},
   "source": [
    "#### Operaciones sobre los elementos"
   ]
  },
  {
   "cell_type": "code",
   "execution_count": 59,
   "metadata": {
    "ExecuteTime": {
     "end_time": "2021-03-31T20:04:57.652357Z",
     "start_time": "2021-03-31T20:04:57.644359Z"
    }
   },
   "outputs": [
    {
     "data": {
      "text/plain": [
       "array([[ 0,  1,  2,  3,  4],\n",
       "       [ 5,  6,  7,  8,  9],\n",
       "       [10, 11, 12, 13, 14]])"
      ]
     },
     "execution_count": 59,
     "metadata": {},
     "output_type": "execute_result"
    }
   ],
   "source": [
    "a = np.arange(0, 15, 1).reshape(3, 5)\n",
    "a"
   ]
  },
  {
   "cell_type": "code",
   "execution_count": 61,
   "metadata": {
    "ExecuteTime": {
     "end_time": "2021-03-31T20:05:32.620288Z",
     "start_time": "2021-03-31T20:05:32.602290Z"
    }
   },
   "outputs": [
    {
     "data": {
      "text/plain": [
       "105"
      ]
     },
     "execution_count": 61,
     "metadata": {},
     "output_type": "execute_result"
    }
   ],
   "source": [
    "a.sum()"
   ]
  },
  {
   "cell_type": "code",
   "execution_count": 62,
   "metadata": {
    "ExecuteTime": {
     "end_time": "2021-03-31T20:05:49.513254Z",
     "start_time": "2021-03-31T20:05:49.498251Z"
    }
   },
   "outputs": [
    {
     "data": {
      "text/plain": [
       "array([15, 18, 21, 24, 27])"
      ]
     },
     "execution_count": 62,
     "metadata": {},
     "output_type": "execute_result"
    }
   ],
   "source": [
    "a.sum(axis=0)"
   ]
  },
  {
   "cell_type": "code",
   "execution_count": 63,
   "metadata": {
    "ExecuteTime": {
     "end_time": "2021-03-31T20:06:02.477934Z",
     "start_time": "2021-03-31T20:06:02.457936Z"
    }
   },
   "outputs": [
    {
     "data": {
      "text/plain": [
       "array([10, 35, 60])"
      ]
     },
     "execution_count": 63,
     "metadata": {},
     "output_type": "execute_result"
    }
   ],
   "source": [
    "a.sum(axis=1)"
   ]
  },
  {
   "cell_type": "code",
   "execution_count": 64,
   "metadata": {
    "ExecuteTime": {
     "end_time": "2021-03-31T20:06:19.293098Z",
     "start_time": "2021-03-31T20:06:19.289067Z"
    }
   },
   "outputs": [
    {
     "data": {
      "text/plain": [
       "0"
      ]
     },
     "execution_count": 64,
     "metadata": {},
     "output_type": "execute_result"
    }
   ],
   "source": [
    "a.min()"
   ]
  },
  {
   "cell_type": "code",
   "execution_count": 65,
   "metadata": {
    "ExecuteTime": {
     "end_time": "2021-03-31T20:06:22.387130Z",
     "start_time": "2021-03-31T20:06:22.368132Z"
    }
   },
   "outputs": [
    {
     "data": {
      "text/plain": [
       "14"
      ]
     },
     "execution_count": 65,
     "metadata": {},
     "output_type": "execute_result"
    }
   ],
   "source": [
    "a.max()"
   ]
  },
  {
   "cell_type": "code",
   "execution_count": null,
   "metadata": {
    "ExecuteTime": {
     "end_time": "2021-03-31T19:06:18.515634Z",
     "start_time": "2021-03-31T19:06:18.499978Z"
    }
   },
   "outputs": [],
   "source": [
    "a.max(axis=1)"
   ]
  },
  {
   "cell_type": "markdown",
   "metadata": {},
   "source": [
    "> **Pregunta ❓**: ¿Qué sucede cuando hay más de 2 dimensiones?"
   ]
  },
  {
   "cell_type": "code",
   "execution_count": 66,
   "metadata": {
    "ExecuteTime": {
     "end_time": "2021-03-31T20:06:43.635522Z",
     "start_time": "2021-03-31T20:06:43.616522Z"
    }
   },
   "outputs": [
    {
     "data": {
      "text/plain": [
       "array([[[10.1       ,  2.2       ,  3.99      ],\n",
       "        [ 0.        ,  9.1       ,  6.05      ],\n",
       "        [ 7.01      ,  2.55      ,  1.2       ],\n",
       "        [10.1       ,  0.        ,  4.44      ]],\n",
       "\n",
       "       [[10.42249093,  2.69294488,  4.3465848 ],\n",
       "        [ 0.49782003,  9.48542132,  6.30274123],\n",
       "        [ 7.77098465,  2.94050522,  1.62639528],\n",
       "        [10.15337417,  0.82346807,  5.12995723]],\n",
       "\n",
       "       [[10.5182158 ,  3.15292577,  5.05815335],\n",
       "        [ 1.26147088,  9.88377687,  6.79998644],\n",
       "        [ 8.03280643,  3.06360547,  2.53648021],\n",
       "        [10.44498779,  1.79600588,  5.27350479]],\n",
       "\n",
       "       [[11.32565728,  3.73735407,  5.46028217],\n",
       "        [ 1.34153341, 10.33205064,  7.66899138],\n",
       "        [ 8.97394255,  3.6720334 ,  3.43756954],\n",
       "        [11.43978862,  1.97005299,  5.75780397]],\n",
       "\n",
       "       [[11.46726408,  4.17589992,  5.92325804],\n",
       "        [ 1.50408475, 10.97115224,  8.13171111],\n",
       "        [ 9.96637768,  4.45459068,  4.19059735],\n",
       "        [12.30015034,  2.24823659,  6.62748934]]])"
      ]
     },
     "execution_count": 66,
     "metadata": {},
     "output_type": "execute_result"
    }
   ],
   "source": [
    "puntos_t"
   ]
  },
  {
   "cell_type": "code",
   "execution_count": 67,
   "metadata": {
    "ExecuteTime": {
     "end_time": "2021-03-31T20:07:12.449722Z",
     "start_time": "2021-03-31T20:07:12.445658Z"
    },
    "scrolled": true
   },
   "outputs": [
    {
     "name": "stdout",
     "output_type": "stream",
     "text": [
      "(1, 4, 3)\n",
      "[[[11.46726408  4.17589992  5.92325804]\n",
      "  [ 1.50408475 10.97115224  8.13171111]\n",
      "  [ 9.96637768  4.45459068  4.19059735]\n",
      "  [12.30015034  2.24823659  6.62748934]]]\n"
     ]
    }
   ],
   "source": [
    "# Idea: máximo sobre los puntos y sobre el tiempo\n",
    "# Retorna un el estado del objeto sobre un tiempo en particular\n",
    "\n",
    "m_a0 = puntos_t.max(axis=0, keepdims=True)\n",
    "print(m_a0.shape)\n",
    "print(m_a0)"
   ]
  },
  {
   "cell_type": "code",
   "execution_count": 68,
   "metadata": {
    "ExecuteTime": {
     "end_time": "2021-03-31T20:07:52.803476Z",
     "start_time": "2021-03-31T20:07:52.783474Z"
    }
   },
   "outputs": [
    {
     "name": "stdout",
     "output_type": "stream",
     "text": [
      "56.74\n",
      "62.19268781192452\n",
      "67.8219196848715\n",
      "75.11706000389289\n"
     ]
    }
   ],
   "source": [
    "print(puntos_t[0].sum())\n",
    "print(puntos_t[1].sum())\n",
    "print(puntos_t[2].sum())\n",
    "print(puntos_t[3].sum())"
   ]
  },
  {
   "cell_type": "code",
   "execution_count": 69,
   "metadata": {
    "ExecuteTime": {
     "end_time": "2021-03-31T20:08:15.830419Z",
     "start_time": "2021-03-31T20:08:15.812420Z"
    }
   },
   "outputs": [
    {
     "name": "stdout",
     "output_type": "stream",
     "text": [
      "(5, 1, 3)\n",
      "[[[10.1         9.1         6.05      ]]\n",
      "\n",
      " [[10.42249093  9.48542132  6.30274123]]\n",
      "\n",
      " [[10.5182158   9.88377687  6.79998644]]\n",
      "\n",
      " [[11.43978862 10.33205064  7.66899138]]\n",
      "\n",
      " [[12.30015034 10.97115224  8.13171111]]]\n"
     ]
    }
   ],
   "source": [
    "# Idea: máximo sobre el tiempo y sobre puntos en particular\n",
    "\n",
    "m_a1 = puntos_t.max(axis=1, keepdims=True)\n",
    "print(m_a1.shape)\n",
    "print(m_a1)"
   ]
  },
  {
   "cell_type": "code",
   "execution_count": 70,
   "metadata": {
    "ExecuteTime": {
     "end_time": "2021-03-31T20:08:19.636336Z",
     "start_time": "2021-03-31T20:08:19.631335Z"
    }
   },
   "outputs": [
    {
     "name": "stdout",
     "output_type": "stream",
     "text": [
      "(5, 4, 1)\n",
      "[[[10.1       ]\n",
      "  [ 9.1       ]\n",
      "  [ 7.01      ]\n",
      "  [10.1       ]]\n",
      "\n",
      " [[10.42249093]\n",
      "  [ 9.48542132]\n",
      "  [ 7.77098465]\n",
      "  [10.15337417]]\n",
      "\n",
      " [[10.5182158 ]\n",
      "  [ 9.88377687]\n",
      "  [ 8.03280643]\n",
      "  [10.44498779]]\n",
      "\n",
      " [[11.32565728]\n",
      "  [10.33205064]\n",
      "  [ 8.97394255]\n",
      "  [11.43978862]]\n",
      "\n",
      " [[11.46726408]\n",
      "  [10.97115224]\n",
      "  [ 9.96637768]\n",
      "  [12.30015034]]]\n"
     ]
    }
   ],
   "source": [
    "# Idea: máximo sobre el tiempo y el máximo de cada punto\n",
    "\n",
    "m_a2 = puntos_t.max(axis=2, keepdims=True)\n",
    "print(m_a2.shape)\n",
    "print(m_a2)"
   ]
  },
  {
   "cell_type": "markdown",
   "metadata": {},
   "source": [
    "### Funciones Universales\n",
    "\n",
    "Operaciones elemento a elemento aplicadas a arreglos.\n",
    "\n",
    "Ejemplo:`sen, cos, exp, sqrt, log, etc...`"
   ]
  },
  {
   "cell_type": "code",
   "execution_count": 72,
   "metadata": {
    "ExecuteTime": {
     "end_time": "2021-03-31T20:08:56.565077Z",
     "start_time": "2021-03-31T20:08:56.558077Z"
    }
   },
   "outputs": [
    {
     "data": {
      "text/plain": [
       "array([0, 1, 2])"
      ]
     },
     "execution_count": 72,
     "metadata": {},
     "output_type": "execute_result"
    }
   ],
   "source": [
    "B = np.arange(3)\n",
    "B"
   ]
  },
  {
   "cell_type": "code",
   "execution_count": 73,
   "metadata": {
    "ExecuteTime": {
     "end_time": "2021-03-31T20:08:58.241091Z",
     "start_time": "2021-03-31T20:08:58.235076Z"
    }
   },
   "outputs": [
    {
     "data": {
      "text/plain": [
       "array([1.        , 2.71828183, 7.3890561 ])"
      ]
     },
     "execution_count": 73,
     "metadata": {},
     "output_type": "execute_result"
    }
   ],
   "source": [
    "np.exp(B)"
   ]
  },
  {
   "cell_type": "code",
   "execution_count": 74,
   "metadata": {
    "ExecuteTime": {
     "end_time": "2021-03-31T20:08:59.540077Z",
     "start_time": "2021-03-31T20:08:59.529077Z"
    }
   },
   "outputs": [
    {
     "data": {
      "text/plain": [
       "array([0.        , 1.        , 1.41421356])"
      ]
     },
     "execution_count": 74,
     "metadata": {},
     "output_type": "execute_result"
    }
   ],
   "source": [
    "np.sqrt(B)"
   ]
  },
  {
   "cell_type": "markdown",
   "metadata": {},
   "source": [
    "### Reshape"
   ]
  },
  {
   "cell_type": "markdown",
   "metadata": {},
   "source": [
    "Usando la función `reshape()` podemos darle un nuevo `shape` sin la necesidad de cambiar los datos.\n",
    "Lo importante es que el nuevo arreglo tenga la misma cantidad de elemento que la antigua.\n"
   ]
  },
  {
   "cell_type": "code",
   "execution_count": 76,
   "metadata": {
    "ExecuteTime": {
     "end_time": "2021-03-31T20:09:28.790894Z",
     "start_time": "2021-03-31T20:09:28.772896Z"
    }
   },
   "outputs": [
    {
     "data": {
      "text/plain": [
       "array([0, 1, 2, 3, 4, 5])"
      ]
     },
     "execution_count": 76,
     "metadata": {},
     "output_type": "execute_result"
    }
   ],
   "source": [
    "a = np.arange(6)\n",
    "a"
   ]
  },
  {
   "cell_type": "code",
   "execution_count": 77,
   "metadata": {
    "ExecuteTime": {
     "end_time": "2021-03-31T20:09:36.044622Z",
     "start_time": "2021-03-31T20:09:36.038624Z"
    }
   },
   "outputs": [
    {
     "data": {
      "text/plain": [
       "array([[0, 1],\n",
       "       [2, 3],\n",
       "       [4, 5]])"
      ]
     },
     "execution_count": 77,
     "metadata": {},
     "output_type": "execute_result"
    }
   ],
   "source": [
    "b = a.reshape(3, 2)\n",
    "b"
   ]
  },
  {
   "cell_type": "code",
   "execution_count": 78,
   "metadata": {
    "ExecuteTime": {
     "end_time": "2021-03-31T20:09:45.202623Z",
     "start_time": "2021-03-31T20:09:45.195628Z"
    },
    "scrolled": true
   },
   "outputs": [
    {
     "data": {
      "text/plain": [
       "array([[[0, 1],\n",
       "        [2, 3],\n",
       "        [4, 5]]])"
      ]
     },
     "execution_count": 78,
     "metadata": {},
     "output_type": "execute_result"
    }
   ],
   "source": [
    "c = a.reshape(1, 3, 2)  # Agregamos un nuevo axis.\n",
    "c"
   ]
  },
  {
   "cell_type": "markdown",
   "metadata": {},
   "source": [
    "También podemos agregar nuevos axis usando `np.newaxis`"
   ]
  },
  {
   "cell_type": "code",
   "execution_count": 79,
   "metadata": {
    "ExecuteTime": {
     "end_time": "2021-03-31T20:09:57.969569Z",
     "start_time": "2021-03-31T20:09:57.959568Z"
    }
   },
   "outputs": [
    {
     "data": {
      "text/plain": [
       "(6,)"
      ]
     },
     "execution_count": 79,
     "metadata": {},
     "output_type": "execute_result"
    }
   ],
   "source": [
    "a = np.array([1, 2, 3, 4, 5, 6])\n",
    "\n",
    "a.shape"
   ]
  },
  {
   "cell_type": "code",
   "execution_count": 80,
   "metadata": {
    "ExecuteTime": {
     "end_time": "2021-03-31T20:09:59.009566Z",
     "start_time": "2021-03-31T20:09:58.995572Z"
    }
   },
   "outputs": [
    {
     "data": {
      "text/plain": [
       "array([1, 2, 3, 4, 5, 6])"
      ]
     },
     "execution_count": 80,
     "metadata": {},
     "output_type": "execute_result"
    }
   ],
   "source": [
    "a"
   ]
  },
  {
   "cell_type": "code",
   "execution_count": 81,
   "metadata": {
    "ExecuteTime": {
     "end_time": "2021-03-31T20:10:03.613103Z",
     "start_time": "2021-03-31T20:10:03.596105Z"
    }
   },
   "outputs": [
    {
     "data": {
      "text/plain": [
       "(1, 6)"
      ]
     },
     "execution_count": 81,
     "metadata": {},
     "output_type": "execute_result"
    }
   ],
   "source": [
    "a2 = a[np.newaxis, :]\n",
    "\n",
    "a2.shape"
   ]
  },
  {
   "cell_type": "code",
   "execution_count": 82,
   "metadata": {
    "ExecuteTime": {
     "end_time": "2021-03-31T20:10:14.698574Z",
     "start_time": "2021-03-31T20:10:14.691572Z"
    }
   },
   "outputs": [
    {
     "data": {
      "text/plain": [
       "array([[1, 2, 3, 4, 5, 6]])"
      ]
     },
     "execution_count": 82,
     "metadata": {},
     "output_type": "execute_result"
    }
   ],
   "source": [
    "a2"
   ]
  },
  {
   "cell_type": "markdown",
   "metadata": {},
   "source": [
    "Y con `expand_dims`."
   ]
  },
  {
   "cell_type": "code",
   "execution_count": 83,
   "metadata": {
    "ExecuteTime": {
     "end_time": "2021-03-31T20:10:32.519770Z",
     "start_time": "2021-03-31T20:10:32.515771Z"
    },
    "scrolled": true
   },
   "outputs": [
    {
     "data": {
      "text/plain": [
       "(1, 6)"
      ]
     },
     "execution_count": 83,
     "metadata": {},
     "output_type": "execute_result"
    }
   ],
   "source": [
    "b = np.expand_dims(a, axis=0)\n",
    "b.shape"
   ]
  },
  {
   "cell_type": "code",
   "execution_count": 84,
   "metadata": {
    "ExecuteTime": {
     "end_time": "2021-03-31T20:10:42.115647Z",
     "start_time": "2021-03-31T20:10:42.110647Z"
    }
   },
   "outputs": [
    {
     "data": {
      "text/plain": [
       "array([[1, 2, 3, 4, 5, 6]])"
      ]
     },
     "execution_count": 84,
     "metadata": {},
     "output_type": "execute_result"
    }
   ],
   "source": [
    "b"
   ]
  },
  {
   "cell_type": "code",
   "execution_count": 85,
   "metadata": {
    "ExecuteTime": {
     "end_time": "2021-03-31T20:10:47.281925Z",
     "start_time": "2021-03-31T20:10:47.276926Z"
    }
   },
   "outputs": [
    {
     "data": {
      "text/plain": [
       "(6, 1)"
      ]
     },
     "execution_count": 85,
     "metadata": {},
     "output_type": "execute_result"
    }
   ],
   "source": [
    "c = np.expand_dims(a, axis=1)\n",
    "c.shape"
   ]
  },
  {
   "cell_type": "code",
   "execution_count": 86,
   "metadata": {
    "ExecuteTime": {
     "end_time": "2021-03-31T20:10:49.835980Z",
     "start_time": "2021-03-31T20:10:49.823970Z"
    }
   },
   "outputs": [
    {
     "data": {
      "text/plain": [
       "array([[1],\n",
       "       [2],\n",
       "       [3],\n",
       "       [4],\n",
       "       [5],\n",
       "       [6]])"
      ]
     },
     "execution_count": 86,
     "metadata": {},
     "output_type": "execute_result"
    }
   ],
   "source": [
    "c"
   ]
  },
  {
   "cell_type": "markdown",
   "metadata": {},
   "source": [
    "En cuanto a las **funcionalidades básicas de álgebra lineal**, se encuentra la inversa una matriz:"
   ]
  },
  {
   "cell_type": "code",
   "execution_count": null,
   "metadata": {
    "ExecuteTime": {
     "end_time": "2021-03-31T19:06:18.869841Z",
     "start_time": "2021-03-31T19:06:18.854219Z"
    }
   },
   "outputs": [],
   "source": [
    "A = np.array([[1, -2, 2, 2], [0, 4, -2, 1], [1, -2, 4, 0], [1, -1, 2, 2]])\n",
    "A_inv = np.linalg.inv(A)\n",
    "\n",
    "print(\"A:\\n\", A, \"\\n\")\n",
    "print(\"Inversa de A:\\n\", A_inv)"
   ]
  },
  {
   "cell_type": "markdown",
   "metadata": {},
   "source": [
    "La matriz identidad"
   ]
  },
  {
   "cell_type": "code",
   "execution_count": null,
   "metadata": {
    "ExecuteTime": {
     "end_time": "2021-03-31T19:06:18.901092Z",
     "start_time": "2021-03-31T19:06:18.869841Z"
    }
   },
   "outputs": [],
   "source": [
    "# Identidad matricial\n",
    "\n",
    "I1 = np.matmul(A, A_inv)\n",
    "I2 = np.eye(4)  # Matriz identidad de dimension 4x4\n",
    "\n",
    "print(\"I1:\\n\", I1, \"\\n\")\n",
    "print(\"I2:\\n\", I2)"
   ]
  },
  {
   "cell_type": "markdown",
   "metadata": {},
   "source": [
    "El *slicing* de NumPy opera siguiendo la lógica de *slicing* en listas. "
   ]
  },
  {
   "cell_type": "code",
   "execution_count": null,
   "metadata": {
    "ExecuteTime": {
     "end_time": "2021-03-31T19:06:18.916718Z",
     "start_time": "2021-03-31T19:06:18.901092Z"
    }
   },
   "outputs": [],
   "source": [
    "X = np.array([1, 2, 3])\n",
    "Y = np.ones_like(X)\n",
    "'''\n",
    "Vertical stack: Se posiciona el arreglo de la izquierda por \n",
    "sobre el derecho. \n",
    "'''\n",
    "\n",
    "np.vstack([X, Y])"
   ]
  },
  {
   "cell_type": "markdown",
   "metadata": {},
   "source": [
    "Usando esto podemos acomodar nuevos valores para, por ejemplo, aplicar regresión lineal."
   ]
  },
  {
   "cell_type": "code",
   "execution_count": null,
   "metadata": {
    "ExecuteTime": {
     "end_time": "2021-03-31T19:06:18.938861Z",
     "start_time": "2021-03-31T19:06:18.916718Z"
    }
   },
   "outputs": [],
   "source": [
    "Z = np.vstack([X,Y])\n",
    "Z.T"
   ]
  },
  {
   "cell_type": "markdown",
   "metadata": {},
   "source": [
    "por otra parte `.hstack()`, que opera de manera similar a `.vstack()` pero de manera horizontal."
   ]
  },
  {
   "cell_type": "code",
   "execution_count": null,
   "metadata": {
    "ExecuteTime": {
     "end_time": "2021-03-31T19:06:18.954488Z",
     "start_time": "2021-03-31T19:06:18.938861Z"
    }
   },
   "outputs": [],
   "source": [
    "Z = np.hstack([X,Y])\n",
    "Z"
   ]
  },
  {
   "cell_type": "code",
   "execution_count": null,
   "metadata": {
    "ExecuteTime": {
     "end_time": "2021-03-31T19:06:18.970115Z",
     "start_time": "2021-03-31T19:06:18.954488Z"
    }
   },
   "outputs": [],
   "source": [
    "a = np.array([[1, 2, 3], [4, 5, 6], [7, 8, 9], [10, 11, 12]])\n",
    "\n",
    "print(\"A:\\n\", a, \"\\n\")\n",
    "print(\"Fila 2:\\n\", a[1], \"\\n\")\n",
    "\n",
    "# notaciion doble a[1][2] es equivalente\n",
    "print(\"Posicion 2,3:\\n\", a[1, 2], \"\\n\")\n",
    "print('Slicing tradicional con doble indice: \\n', a[0][:], '\\n')\n",
    "print('Ultimos 2 elementos fila 2: \\n', a[1, -2:], '\\n')"
   ]
  },
  {
   "cell_type": "markdown",
   "metadata": {},
   "source": [
    "A lo anterior se sumam *queries* o selección de datos por medio de consultas, en este caso lógicas."
   ]
  },
  {
   "cell_type": "code",
   "execution_count": null,
   "metadata": {
    "ExecuteTime": {
     "end_time": "2021-03-31T19:06:18.985738Z",
     "start_time": "2021-03-31T19:06:18.970115Z"
    }
   },
   "outputs": [],
   "source": [
    "a = np.array([[1, 2, 3, 4], [5, 6, 7, 8], [9, 10, 11, 12]])\n",
    "\n",
    "pares = a[a % 2 == 0]\n",
    "mayor3 = a[a > 3]\n",
    "print(\"Elementos pares:\\n\", pares, \"\\n\")\n",
    "print(\"Mayores que 3:\\n\", mayor3, \"\\n\")"
   ]
  },
  {
   "cell_type": "markdown",
   "metadata": {},
   "source": [
    "### Vistas y Copias"
   ]
  },
  {
   "cell_type": "markdown",
   "metadata": {},
   "source": [
    "Recuerden que los nombres son referencias!"
   ]
  },
  {
   "cell_type": "code",
   "execution_count": 88,
   "metadata": {
    "ExecuteTime": {
     "end_time": "2021-03-31T20:11:52.773279Z",
     "start_time": "2021-03-31T20:11:52.763281Z"
    }
   },
   "outputs": [
    {
     "data": {
      "text/plain": [
       "True"
      ]
     },
     "execution_count": 88,
     "metadata": {},
     "output_type": "execute_result"
    }
   ],
   "source": [
    "a = np.array([[0, 1, 2, 3], \n",
    "              [4, 5, 6, 7], \n",
    "              [8, 9, 10, 11]])\n",
    "\n",
    "b = a  \n",
    "b is a"
   ]
  },
  {
   "cell_type": "code",
   "execution_count": 89,
   "metadata": {
    "ExecuteTime": {
     "end_time": "2021-03-31T20:11:59.736477Z",
     "start_time": "2021-03-31T20:11:59.725477Z"
    }
   },
   "outputs": [
    {
     "data": {
      "text/plain": [
       "array([[999,   1,   2,   3],\n",
       "       [  4,   5,   6,   7],\n",
       "       [  8,   9,  10,  11]])"
      ]
     },
     "execution_count": 89,
     "metadata": {},
     "output_type": "execute_result"
    }
   ],
   "source": [
    "b[0,0] = 999\n",
    "a"
   ]
  },
  {
   "cell_type": "markdown",
   "metadata": {},
   "source": [
    "**View**\n",
    "\n",
    "View crea un nuevo arreglo con los mismos datos, pero no le pertenecen"
   ]
  },
  {
   "cell_type": "code",
   "execution_count": null,
   "metadata": {
    "ExecuteTime": {
     "end_time": "2021-03-31T19:06:19.039138Z",
     "start_time": "2021-03-31T19:06:19.016994Z"
    }
   },
   "outputs": [],
   "source": [
    "a = np.array([[0, 1, 2, 3], \n",
    "              [4, 5, 6, 7], \n",
    "              [8, 9, 10, 11]])\n",
    "\n",
    "c = a.view()\n",
    "\n",
    "c is a        "
   ]
  },
  {
   "cell_type": "code",
   "execution_count": null,
   "metadata": {
    "ExecuteTime": {
     "end_time": "2021-03-31T19:06:19.054764Z",
     "start_time": "2021-03-31T19:06:19.039138Z"
    }
   },
   "outputs": [],
   "source": [
    "c.base is a     "
   ]
  },
  {
   "cell_type": "code",
   "execution_count": null,
   "metadata": {
    "ExecuteTime": {
     "end_time": "2021-03-31T19:06:19.070390Z",
     "start_time": "2021-03-31T19:06:19.054764Z"
    }
   },
   "outputs": [],
   "source": [
    "c.flags.owndata"
   ]
  },
  {
   "cell_type": "code",
   "execution_count": null,
   "metadata": {
    "ExecuteTime": {
     "end_time": "2021-03-31T19:06:19.086013Z",
     "start_time": "2021-03-31T19:06:19.070390Z"
    }
   },
   "outputs": [],
   "source": [
    "c[0,0] = 1234         \n",
    "a"
   ]
  },
  {
   "cell_type": "markdown",
   "metadata": {},
   "source": [
    "**Copy**"
   ]
  },
  {
   "cell_type": "code",
   "execution_count": 90,
   "metadata": {
    "ExecuteTime": {
     "end_time": "2021-03-31T20:12:31.395527Z",
     "start_time": "2021-03-31T20:12:31.386529Z"
    }
   },
   "outputs": [],
   "source": [
    "a = np.array([[0, 1, 2, 3], \n",
    "              [4, 5, 6, 7], \n",
    "              [8, 9, 10, 11]])\n",
    "\n",
    "d = a.copy()         "
   ]
  },
  {
   "cell_type": "code",
   "execution_count": 91,
   "metadata": {
    "ExecuteTime": {
     "end_time": "2021-03-31T20:12:33.985689Z",
     "start_time": "2021-03-31T20:12:33.965689Z"
    }
   },
   "outputs": [
    {
     "data": {
      "text/plain": [
       "False"
      ]
     },
     "execution_count": 91,
     "metadata": {},
     "output_type": "execute_result"
    }
   ],
   "source": [
    "d is a "
   ]
  },
  {
   "cell_type": "code",
   "execution_count": 92,
   "metadata": {
    "ExecuteTime": {
     "end_time": "2021-03-31T20:12:45.854429Z",
     "start_time": "2021-03-31T20:12:45.835429Z"
    }
   },
   "outputs": [
    {
     "data": {
      "text/plain": [
       "array([[999,   1,   2,   3],\n",
       "       [  4,   5,   6,   7],\n",
       "       [  8,   9,  10,  11]])"
      ]
     },
     "execution_count": 92,
     "metadata": {},
     "output_type": "execute_result"
    }
   ],
   "source": [
    "d[0,0] = 999\n",
    "d"
   ]
  },
  {
   "cell_type": "code",
   "execution_count": 93,
   "metadata": {
    "ExecuteTime": {
     "end_time": "2021-03-31T20:12:49.834057Z",
     "start_time": "2021-03-31T20:12:49.824057Z"
    }
   },
   "outputs": [
    {
     "data": {
      "text/plain": [
       "array([[ 0,  1,  2,  3],\n",
       "       [ 4,  5,  6,  7],\n",
       "       [ 8,  9, 10, 11]])"
      ]
     },
     "execution_count": 93,
     "metadata": {},
     "output_type": "execute_result"
    }
   ],
   "source": [
    "a"
   ]
  },
  {
   "cell_type": "markdown",
   "metadata": {},
   "source": [
    "### Broadcasting\n",
    "\n",
    "El Broadcasting es como numpy trata las operaciones entre arreglos con diferentes tamaños, como por ejemplo, un escalar por una matriz. A continuación un ejemplo sencillo:\n"
   ]
  },
  {
   "cell_type": "code",
   "execution_count": 94,
   "metadata": {
    "ExecuteTime": {
     "end_time": "2021-03-31T20:14:11.168032Z",
     "start_time": "2021-03-31T20:14:11.149018Z"
    }
   },
   "outputs": [
    {
     "data": {
      "text/plain": [
       "array([2., 4., 6.])"
      ]
     },
     "execution_count": 94,
     "metadata": {},
     "output_type": "execute_result"
    }
   ],
   "source": [
    "a = np.array([1.0, 2.0, 3.0])\n",
    "b = np.array([2.0, 2.0, 2.0])\n",
    "a * b"
   ]
  },
  {
   "cell_type": "code",
   "execution_count": null,
   "metadata": {},
   "outputs": [],
   "source": [
    "[(1.0 * 2.0), (2.0 * 2.0), (3.0 * 2.0)]"
   ]
  },
  {
   "cell_type": "code",
   "execution_count": 95,
   "metadata": {
    "ExecuteTime": {
     "end_time": "2021-03-31T20:14:12.517431Z",
     "start_time": "2021-03-31T20:14:12.499398Z"
    }
   },
   "outputs": [
    {
     "data": {
      "text/plain": [
       "array([2., 4., 6.])"
      ]
     },
     "execution_count": 95,
     "metadata": {},
     "output_type": "execute_result"
    }
   ],
   "source": [
    "2 * a"
   ]
  },
  {
   "cell_type": "markdown",
   "metadata": {},
   "source": [
    "Si bien hicimos la misma operación, estas se diferencian en que en la primera operación hicimos un arreglo del mismo tamaño para multiplicar elemento a elemento y en la segunda ocupamos el escalar directamente. \n",
    "\n",
    "Ahora imagínense un arreglo de miles de millones de elementos y tener que multiplicarlos por dos de la primera forma. Obviamente la segúnda forma será mas eficiente y esto es lo que numpy implementa eficientemente a través del *broadcasting*."
   ]
  },
  {
   "cell_type": "markdown",
   "metadata": {
    "ExecuteTime": {
     "end_time": "2021-03-31T18:17:04.537013Z",
     "start_time": "2021-03-31T18:17:04.490090Z"
    }
   },
   "source": [
    "![Broadcasting en el ejemplo anterior](./resources/boradcasting_1.gif)\n"
   ]
  },
  {
   "cell_type": "markdown",
   "metadata": {},
   "source": [
    "El broadcasting no se limita solo a escalares, si no también que podemos usarlos con arreglos. A continuación, un ejemplo de aquello:"
   ]
  },
  {
   "cell_type": "markdown",
   "metadata": {
    "ExecuteTime": {
     "end_time": "2021-03-31T18:17:54.022774Z",
     "start_time": "2021-03-31T18:17:53.975859Z"
    }
   },
   "source": [
    "![Broadcasting en el ejemplo anterior](./resources/boradcasting_2.gif)\n"
   ]
  },
  {
   "cell_type": "markdown",
   "metadata": {},
   "source": [
    "En este ejemplo, un caso en donde el broadcasting no funciona, ya que no calzan las dimensiones:"
   ]
  },
  {
   "cell_type": "markdown",
   "metadata": {
    "ExecuteTime": {
     "end_time": "2021-03-31T18:19:55.362212Z",
     "start_time": "2021-03-31T18:19:55.327167Z"
    }
   },
   "source": [
    "![Broadcasting en el ejemplo anterior](./resources/boradcasting_3.gif)\n"
   ]
  },
  {
   "cell_type": "code",
   "execution_count": null,
   "metadata": {},
   "outputs": [],
   "source": []
  },
  {
   "cell_type": "markdown",
   "metadata": {
    "ExecuteTime": {
     "end_time": "2021-03-31T18:22:33.504518Z",
     "start_time": "2021-03-31T18:22:33.488893Z"
    }
   },
   "source": [
    "> **Pregunta ❓**: ¿Qué habría que hacer aquí para que esta operación funcione?"
   ]
  },
  {
   "cell_type": "code",
   "execution_count": null,
   "metadata": {
    "ExecuteTime": {
     "end_time": "2021-03-31T19:13:48.619503Z",
     "start_time": "2021-03-31T19:13:48.604459Z"
    }
   },
   "outputs": [],
   "source": [
    "a = np.ones((4,3))* 10\n",
    "a"
   ]
  },
  {
   "cell_type": "code",
   "execution_count": null,
   "metadata": {
    "ExecuteTime": {
     "end_time": "2021-03-31T19:13:49.859027Z",
     "start_time": "2021-03-31T19:13:49.842480Z"
    }
   },
   "outputs": [],
   "source": [
    "b = np.ones(4)\n",
    "b"
   ]
  },
  {
   "cell_type": "code",
   "execution_count": null,
   "metadata": {
    "ExecuteTime": {
     "end_time": "2021-03-31T19:13:50.516828Z",
     "start_time": "2021-03-31T19:13:50.506789Z"
    }
   },
   "outputs": [],
   "source": [
    "a + b"
   ]
  },
  {
   "cell_type": "code",
   "execution_count": null,
   "metadata": {
    "ExecuteTime": {
     "end_time": "2021-03-31T19:13:53.074126Z",
     "start_time": "2021-03-31T19:13:53.058125Z"
    }
   },
   "outputs": [],
   "source": [
    "a + b.reshape(4, -1)"
   ]
  },
  {
   "cell_type": "markdown",
   "metadata": {
    "ExecuteTime": {
     "end_time": "2021-03-31T18:20:19.372060Z",
     "start_time": "2021-03-31T18:20:19.356422Z"
    }
   },
   "source": [
    "Más información en el siguiente [link](https://numpy.org/doc/stable/user/theory.broadcasting.html#array-broadcasting-in-numpy)."
   ]
  },
  {
   "cell_type": "markdown",
   "metadata": {},
   "source": [
    "## Scipy\n",
    "\n",
    "SciPy es una colección de algoritmos y funciones comunes implementadas sobre NumPy. Agrega comandos de alto nivel y clases para la manipulación e incluso visualización de datos. Es posible encontrar información relevante para el curso [aqui](https://docs.scipy.org/doc/scipy/reference/tutorial/index.html).\n",
    "\n",
    "A diferencia de las librerías ya trabajadas, se recomienda cargar las funcionalidades de SciPy a través de sus sub-módulos, estos son:\n",
    "\n",
    "* `cluster`: Algoritmos de aglomeración (clustering)\n",
    "* `constants`: Constantes matemáticas y físicas\n",
    "* `fftpack`: rutinas de transformada de Fourier rápida\n",
    "* `integrate`: Integración y solvers de EDO's\n",
    "* `interpolate`: Interpolación y splines\n",
    "* `io`: Input - output\n",
    "* `linalg`: Álgebra lineal\n",
    "* `ndimage`: Procesamiento de imágenes N-dimensionales\n",
    "* `odr`: Regresión de distancias ortogonal\n",
    "* `optimize`: Módulo de optimización \n",
    "* `signal`: Procesamiento de señales\n",
    "* `sparse`: Manejo de matrices sparse\n",
    "* `spatial`: Estructuras de datos espaciales\n",
    "* `special`: Funciones especiales\n",
    "* `stats`: Distribuciones y funciones estadísticas"
   ]
  },
  {
   "cell_type": "markdown",
   "metadata": {},
   "source": [
    "A continuación veremos brevemente algunos ejemplos con los módulos de estadística, interpolación y optimización. \n",
    "\n",
    "En primer lugar, el modulo de distribuciones y funciones estadísticas se importa por medio de:"
   ]
  },
  {
   "cell_type": "code",
   "execution_count": 96,
   "metadata": {
    "ExecuteTime": {
     "end_time": "2021-03-31T20:18:54.724760Z",
     "start_time": "2021-03-31T20:18:54.095757Z"
    }
   },
   "outputs": [],
   "source": [
    "from scipy import stats"
   ]
  },
  {
   "cell_type": "markdown",
   "metadata": {},
   "source": [
    "En este módulo se pueden encontrar clases dedicadas a variables aleatorias tanto discretas como continuas. Cada variable aleatoria de SciPy esta provista de métodos públicos como:\n",
    "- `.rvs()` para la obtención de muestras aleatorias\n",
    "- `.pdf()` que contiene su función de densidad de probabilidad asociada\n",
    "- `.cdf()` que contiene su función de distribución acumulada, \n",
    "- `.stats()` que retorna estadísticos como la media y varianza, entre otros métodos.\n",
    "\n",
    "**Ejemplo**\n",
    "\n",
    "Cómo generar una variable aleatoria $\\mathcal{N}(0,1)$:\n",
    "\n",
    "<img src=\"./resources/norm_01_pdf.jpg\" alt=\"Función de densidad de probabilidad\" style=\"width: 500px;\"/>\n",
    "<center>Función de densidad de probabilidad </center>\n",
    "\n",
    "<img src=\"./resources/norm_01_cdf.jpg\" alt=\"Función de distribución acumulada\" style=\"width: 500px;\"/>\n",
    "<center>Función de distribución acumulada </center>"
   ]
  },
  {
   "cell_type": "code",
   "execution_count": 97,
   "metadata": {
    "ExecuteTime": {
     "end_time": "2021-03-31T20:19:33.617434Z",
     "start_time": "2021-03-31T20:19:33.603436Z"
    }
   },
   "outputs": [
    {
     "name": "stdout",
     "output_type": "stream",
     "text": [
      "('media','varianza'): (array(0.), array(1.))\n",
      "3 muestras:  [-0.84096694 -0.21729023  0.58954744 -0.14828779]\n",
      "Masa hasta 1.5:  0.9331927987311419\n"
     ]
    }
   ],
   "source": [
    "normal = stats.norm()\n",
    "\n",
    "# Estadisticos\n",
    "print(\"('media','varianza'):\", normal.stats())\n",
    "\n",
    "# Algunas muestras\n",
    "print('3 muestras: ', normal.rvs(size=4))\n",
    "\n",
    "# cdf de la distribución\n",
    "print('Masa hasta 1.5: ', normal.cdf(1.5))"
   ]
  },
  {
   "cell_type": "markdown",
   "metadata": {},
   "source": [
    "#### Ajuste de distribuciones\n",
    "\n",
    "Como método adicional una distribución de probabilidad de SciPy posee los métodos `.fit()` para ajustar parámetros de la distribución objetivo mediante máxima verosimilitud. `.fit_loc_scale()` para estimar los parámetros de traslación y escalamiento. `.nnlf()` la función de log versimilutd negativa y `.expect()` el valor esperado de cierta función contra la `pdf` (o `pmf` en el caso discreto).\n",
    "\n",
    "\n",
    "**Ejemplo**\n",
    "\n",
    "Ajustar una distribución de la estatura en Chile"
   ]
  },
  {
   "cell_type": "markdown",
   "metadata": {},
   "source": [
    "Se procede a encontrar el valor de los parámetros a partir de la muestra `sample`, ajustando una normal."
   ]
  },
  {
   "cell_type": "code",
   "execution_count": 98,
   "metadata": {
    "ExecuteTime": {
     "end_time": "2021-03-31T20:20:29.929054Z",
     "start_time": "2021-03-31T20:20:29.924054Z"
    }
   },
   "outputs": [],
   "source": [
    "sample = [\n",
    "    163.445, 155.388, 162.915, 189.496, 170.786, 143.99, 169.676, 165.638,\n",
    "    183.385, 154.783, 158.739, 149.224, 150.83, 187.672, 154.716, 176.548,\n",
    "    164.658, 158.191, 209.785, 171.219, 172.579, 142.78, 178.892, 192.484,\n",
    "    208.407\n",
    "]  # numeros aleatorios..."
   ]
  },
  {
   "cell_type": "code",
   "execution_count": 99,
   "metadata": {
    "ExecuteTime": {
     "end_time": "2021-03-31T20:20:58.112479Z",
     "start_time": "2021-03-31T20:20:58.105467Z"
    }
   },
   "outputs": [
    {
     "name": "stdout",
     "output_type": "stream",
     "text": [
      "Se estima que la media es : 169.44904\n",
      "Se estima que la varianza es : 17.731870402143144\n"
     ]
    }
   ],
   "source": [
    "param_fit = stats.norm.fit(sample)\n",
    "\n",
    "print('Se estima que la media es :', param_fit[0])\n",
    "print('Se estima que la varianza es :', param_fit[1])"
   ]
  },
  {
   "cell_type": "markdown",
   "metadata": {},
   "source": [
    "### Interpolación\n",
    "\n",
    "Existen distintas opciones de interpolación para datos. La función más básica en este apartado es `interp1d` se puede acceder a esta por medio de"
   ]
  },
  {
   "cell_type": "code",
   "execution_count": 100,
   "metadata": {
    "ExecuteTime": {
     "end_time": "2021-03-31T20:21:19.807386Z",
     "start_time": "2021-03-31T20:21:19.792387Z"
    }
   },
   "outputs": [],
   "source": [
    "''' Opcionalmente: from scipy.interpolate import interp1d'''\n",
    "from scipy import interpolate"
   ]
  },
  {
   "cell_type": "markdown",
   "metadata": {},
   "source": [
    "`interp1d` es un método conveniente para la obtención de una función dado un conjunto de datos unidimensional y fijo. Esta función puede ser evaluada en cualquier punto dentro del soporte (o dominio) que ofrece el rango de los datos. Este método es más bien una clase con el método `__call__` sobrecargado, por tal motivo, pueder se utilizado como una función. \n",
    "\n",
    "**Ejemplo**\n",
    "\n",
    "Se genera una malla de puntos en el intervalo $[0,10]$, sobre estos puntos se evalúa una función coseno compuesta con una transformación cuadrática en los puntos."
   ]
  },
  {
   "cell_type": "code",
   "execution_count": 101,
   "metadata": {
    "ExecuteTime": {
     "end_time": "2021-03-31T20:21:28.611686Z",
     "start_time": "2021-03-31T20:21:28.599686Z"
    }
   },
   "outputs": [
    {
     "data": {
      "text/plain": [
       "array([ 0,  1,  2,  3,  4,  5,  6,  7,  8,  9, 10])"
      ]
     },
     "execution_count": 101,
     "metadata": {},
     "output_type": "execute_result"
    }
   ],
   "source": [
    "x = np.arange(0, 11)\n",
    "x"
   ]
  },
  {
   "cell_type": "code",
   "execution_count": 102,
   "metadata": {
    "ExecuteTime": {
     "end_time": "2021-03-31T20:21:31.759455Z",
     "start_time": "2021-03-31T20:21:31.744453Z"
    },
    "scrolled": true
   },
   "outputs": [
    {
     "data": {
      "text/plain": [
       "array([ 1.        ,  0.28366219,  0.40808206,  0.52532199, -0.11038724,\n",
       "        0.78771451, -0.59846007,  0.99902215,  0.90370511, -0.96497394,\n",
       "       -0.88384927])"
      ]
     },
     "execution_count": 102,
     "metadata": {},
     "output_type": "execute_result"
    }
   ],
   "source": [
    "def f(x):\n",
    "    return np.cos(-5 * x**2)\n",
    "y = f(x)\n",
    "y"
   ]
  },
  {
   "cell_type": "markdown",
   "metadata": {},
   "source": [
    "Se interpolan los puntos de `y` por medio de un interpolador lineal y uno cúbico"
   ]
  },
  {
   "cell_type": "code",
   "execution_count": 103,
   "metadata": {
    "ExecuteTime": {
     "end_time": "2021-03-31T20:22:06.776290Z",
     "start_time": "2021-03-31T20:22:06.768287Z"
    }
   },
   "outputs": [],
   "source": [
    "f_linear = interpolate.interp1d(x, y)\n",
    "f_cubic = interpolate.interp1d(x, y, kind='cubic')"
   ]
  },
  {
   "cell_type": "markdown",
   "metadata": {},
   "source": [
    "Se hace más fina el mallado de x"
   ]
  },
  {
   "cell_type": "code",
   "execution_count": 104,
   "metadata": {
    "ExecuteTime": {
     "end_time": "2021-03-31T20:22:09.139094Z",
     "start_time": "2021-03-31T20:22:09.119085Z"
    }
   },
   "outputs": [],
   "source": [
    "x_new = np.linspace(0, 10, num=50, endpoint=True)"
   ]
  },
  {
   "cell_type": "markdown",
   "metadata": {},
   "source": [
    "Se evalúan $f(x) = cos(-5x^2)$, `f_linear` y `f_cubic`. Para observar el comportamiento de de estas interpolaciones, es preciso graficar  sus acciones sobre `x_new`. Para ello, se hace uso de la librería `matplotlib` esta librería se estudiará con mayor detenimiento en una cátedra posterior. "
   ]
  },
  {
   "cell_type": "code",
   "execution_count": 105,
   "metadata": {
    "ExecuteTime": {
     "end_time": "2021-03-31T20:22:11.096083Z",
     "start_time": "2021-03-31T20:22:10.046093Z"
    }
   },
   "outputs": [
    {
     "data": {
      "image/png": "[encoded data removed]",
      "text/plain": [
       "<Figure size 432x288 with 1 Axes>"
      ]
     },
     "metadata": {
      "needs_background": "light"
     },
     "output_type": "display_data"
    }
   ],
   "source": [
    "import matplotlib.pyplot as plt\n",
    "\n",
    "plt.plot(x, y, 'o', x_new, f_linear(x_new), '-', x_new, f_cubic(x_new), '--')\n",
    "plt.legend(['real', 'linear', 'cubic'], loc='best')\n",
    "plt.show()"
   ]
  },
  {
   "cell_type": "markdown",
   "metadata": {},
   "source": [
    "Una **función base radial** (RBF) es una función real $\\phi(\\cdot)$ cuyo valor depende solo da la distancia entre su input y algún punto fijo, en un espacio vectorial normado, esto toma la forma $\\phi(\\cdot) = \\phi(|| \\cdot - c||)$ para algún $c$ fijo. Sin perdida de generalidad, se puede considerar que una función RBF es una función que depende de la norma de su input, es decir, cumple $\\phi(x) = \\phi(||x||)$. Por le general, este tipo de funciones se denota por $\\phi(r)$. Dentro de las funciones radiales se encuentran:\n",
    "\n",
    "* Gaussiana: $\\phi(r) = \\exp({-(r/\\varepsilon)^2})$\n",
    "* Lineal: $\\phi(r) = r$\n",
    "* Cúbica: $\\phi(r) = r^3$\n",
    "* Multicuadrática = $\\sqrt{(r/\\varepsilon)^2 +1}$\n",
    "\n",
    "SciPy ofrece un método de interpolación basado en funciones de base radial para datos N-dimensionales. \n",
    "\n",
    "**Ejemplo**\n",
    "\n",
    "Se estudia un ejemplo en 2 dimensiones y se visualiza su resultado. Primero, se genera una malla de puntos según la función $x \\cdot  exp(-x^2 - y^2)$"
   ]
  },
  {
   "cell_type": "code",
   "execution_count": 106,
   "metadata": {
    "ExecuteTime": {
     "end_time": "2021-03-31T20:22:39.787687Z",
     "start_time": "2021-03-31T20:22:39.767702Z"
    },
    "code_folding": []
   },
   "outputs": [],
   "source": [
    "# Puntos aleatorios entre -2 y 2 para los ejes x,y\n",
    "\n",
    "x = np.random.rand(1000) * 4.0 - 2.0\n",
    "y = np.random.rand(1000) * 4.0 - 2.0\n",
    "\n",
    "# Función a interpolar\n",
    "def func_2d(x, y):\n",
    "    return x * np.exp(-x**2 - y**2)\n",
    "\n",
    "\n",
    "# Datos con los cuales se interpola\n",
    "z = func_2d(x, y)\n",
    "\n",
    "# grilla 2-d regular entre -2 y 2\n",
    "axis = np.linspace(-2.0, 2.0, 100)\n",
    "'''\n",
    "np.meshgrid(x,y) genera un iterable por medio del producto cartesiano \n",
    "entre x,y, se puede comprobar al ejecutar print((X[0,0],Y[0,0])).\n",
    "'''\n",
    "\n",
    "X, Y = np.meshgrid(axis, axis)"
   ]
  },
  {
   "cell_type": "markdown",
   "metadata": {},
   "source": [
    "Visualizamos en primer lugar el valor de la función en los puntos de la malla aleatoria generada."
   ]
  },
  {
   "cell_type": "code",
   "execution_count": 107,
   "metadata": {
    "ExecuteTime": {
     "end_time": "2021-03-31T20:22:42.721686Z",
     "start_time": "2021-03-31T20:22:42.225687Z"
    },
    "scrolled": false
   },
   "outputs": [
    {
     "data": {
      "text/plain": [
       "<matplotlib.colorbar.Colorbar at 0x1b81784a430>"
      ]
     },
     "execution_count": 107,
     "metadata": {},
     "output_type": "execute_result"
    },
    {
     "data": {
      "image/png": "[encoded data removed]",
      "text/plain": [
       "<Figure size 1080x360 with 2 Axes>"
      ]
     },
     "metadata": {
      "needs_background": "light"
     },
     "output_type": "display_data"
    }
   ],
   "source": [
    "from matplotlib import cm\n",
    "\n",
    "plt.figure(figsize=[15, 5])\n",
    "plt.subplot(1, 2, 1)\n",
    "plt.scatter(x, y, s=15, c=z, cmap=cm.jet)\n",
    "plt.title('Función en malla aleatoria')\n",
    "plt.xlim(-2, 2)\n",
    "plt.ylim(-2, 2)\n",
    "plt.colorbar()"
   ]
  },
  {
   "cell_type": "markdown",
   "metadata": {},
   "source": [
    "Se instancia el objeto RBF para que interpole los valores de `z` en los nodos dados por `(x,y)`. La función base a usar será la gaussiana."
   ]
  },
  {
   "cell_type": "code",
   "execution_count": 110,
   "metadata": {
    "ExecuteTime": {
     "end_time": "2021-03-31T20:23:31.592732Z",
     "start_time": "2021-03-31T20:23:31.403733Z"
    }
   },
   "outputs": [],
   "source": [
    "'''\n",
    "Se escohe el parámetro epsilon = 2, este controla \n",
    "la suavidad de la interpolacion\n",
    "'''\n",
    "eps = 2\n",
    "rbf = interpolate.Rbf(x, y, z, epsilon=eps)"
   ]
  },
  {
   "cell_type": "markdown",
   "metadata": {},
   "source": [
    "Finalmente se evalúa el interpolador obtenido en los puntos de la malla regular dada por `X` y `Y`."
   ]
  },
  {
   "cell_type": "code",
   "execution_count": 111,
   "metadata": {
    "ExecuteTime": {
     "end_time": "2021-03-31T20:23:32.768729Z",
     "start_time": "2021-03-31T20:23:32.442733Z"
    }
   },
   "outputs": [],
   "source": [
    "Z = rbf(X, Y)"
   ]
  },
  {
   "cell_type": "markdown",
   "metadata": {},
   "source": [
    "A continuación se muestra la interpolación en la malla regular"
   ]
  },
  {
   "cell_type": "code",
   "execution_count": 112,
   "metadata": {
    "ExecuteTime": {
     "end_time": "2021-03-31T20:23:34.196738Z",
     "start_time": "2021-03-31T20:23:33.811731Z"
    }
   },
   "outputs": [
    {
     "name": "stderr",
     "output_type": "stream",
     "text": [
      "<ipython-input-112-082a54e1140f>:3: MatplotlibDeprecationWarning: shading='flat' when X and Y have the same dimensions as C is deprecated since 3.3.  Either specify the corners of the quadrilaterals with X and Y, or pass shading='auto', 'nearest' or 'gouraud', or set rcParams['pcolor.shading'].  This will become an error two minor releases later.\n",
      "  plt.pcolor(X, Y, Z, cmap=cm.jet)\n"
     ]
    },
    {
     "data": {
      "text/plain": [
       "(-2.0, 2.0)"
      ]
     },
     "execution_count": 112,
     "metadata": {},
     "output_type": "execute_result"
    },
    {
     "data": {
      "image/png": "[encoded data removed]",
      "text/plain": [
       "<Figure size 1080x360 with 1 Axes>"
      ]
     },
     "metadata": {
      "needs_background": "light"
     },
     "output_type": "display_data"
    }
   ],
   "source": [
    "plt.figure(figsize=[15, 5])\n",
    "plt.subplot(1, 2, 1)\n",
    "plt.pcolor(X, Y, Z, cmap=cm.jet)\n",
    "plt.title('Interpolación RBF gaussiana eps=2')\n",
    "plt.xlim(-2, 2)\n",
    "plt.ylim(-2, 2)"
   ]
  },
  {
   "cell_type": "markdown",
   "metadata": {},
   "source": [
    "### Optimización\n",
    "\n",
    "El módulo de optimización de SciPy proporciona bastantes algoritmos para resolver problemas con y sin restricciones para funciones escalares multivariadas, permite rutinas de optimización global, cálculo de mínimos cuadrados entre otras. \n",
    "\n",
    "Dentro de los métodos a considerar en este módulo, se encuentran:\n",
    "\n",
    "* `linprog()` para minimizar una función objetivo lineal con restricciones de igualdad y desigualdad lineales.\n",
    "* `minimize_scalar()` y `minimize()`, que permiten minimizar una función de una o más variables.\n",
    "* `root_scalar()` y `root()` para calcular ceros de una función uni o multivariada\n",
    "* `curve_fit()`, para ajustar una función a datos de entrada.\n",
    "\n",
    "**Ejemplo**\n",
    "\n",
    "Para comenzar, se resuelve un problema de optimización en una dimensión, en este caso se busca el mínimo de la función $f(x) = x\\exp({-x^2})$, para ello se utiliza `optimize.minimize_scalar()`. En primer lugar, se importa el módulo de optimización."
   ]
  },
  {
   "cell_type": "code",
   "execution_count": 114,
   "metadata": {
    "ExecuteTime": {
     "end_time": "2021-03-31T20:24:00.929415Z",
     "start_time": "2021-03-31T20:24:00.919437Z"
    }
   },
   "outputs": [],
   "source": [
    "from scipy import optimize"
   ]
  },
  {
   "cell_type": "markdown",
   "metadata": {},
   "source": [
    "Luego, se define la función"
   ]
  },
  {
   "cell_type": "code",
   "execution_count": 115,
   "metadata": {
    "ExecuteTime": {
     "end_time": "2021-03-31T20:24:02.643308Z",
     "start_time": "2021-03-31T20:24:02.629309Z"
    }
   },
   "outputs": [],
   "source": [
    "def f(x):\n",
    "    return x * np.exp(-(x)**2)"
   ]
  },
  {
   "cell_type": "markdown",
   "metadata": {},
   "source": [
    "Se utiliza `optimize.minimize_scalar()` sobre la función definida, por defecto se utiliza el método de Brent. "
   ]
  },
  {
   "cell_type": "code",
   "execution_count": 116,
   "metadata": {
    "ExecuteTime": {
     "end_time": "2021-03-31T20:24:14.812308Z",
     "start_time": "2021-03-31T20:24:14.800310Z"
    }
   },
   "outputs": [],
   "source": [
    "res = optimize.minimize_scalar(f)"
   ]
  },
  {
   "cell_type": "markdown",
   "metadata": {},
   "source": [
    "Se estudia el resultado"
   ]
  },
  {
   "cell_type": "code",
   "execution_count": 117,
   "metadata": {
    "ExecuteTime": {
     "end_time": "2021-03-31T20:24:16.326308Z",
     "start_time": "2021-03-31T20:24:16.320308Z"
    }
   },
   "outputs": [
    {
     "name": "stdout",
     "output_type": "stream",
     "text": [
      "minimo:  -0.7071067811533622\n",
      "numero de iteraciones:  9\n"
     ]
    }
   ],
   "source": [
    "# punto minimo\n",
    "x_min = res.x\n",
    "print('minimo: ', x_min)\n",
    "\n",
    "# numero de iteraciones\n",
    "print('numero de iteraciones: ', res.nit)"
   ]
  },
  {
   "cell_type": "code",
   "execution_count": 118,
   "metadata": {
    "ExecuteTime": {
     "end_time": "2021-03-31T20:24:24.814129Z",
     "start_time": "2021-03-31T20:24:24.541127Z"
    }
   },
   "outputs": [
    {
     "data": {
      "image/png": "[encoded data removed]",
      "text/plain": [
       "<Figure size 576x360 with 1 Axes>"
      ]
     },
     "metadata": {
      "needs_background": "light"
     },
     "output_type": "display_data"
    }
   ],
   "source": [
    "x = np.linspace(-5, 5, 100)\n",
    "plt.figure(figsize=[8, 5])\n",
    "plt.title('Minimizador escalar')\n",
    "plt.plot(x, f(x), label='funcion objetivo')\n",
    "plt.scatter(x_min, f(x_min), c='r', marker='o', label='Minimo encontrado')\n",
    "plt.legend()\n",
    "plt.show()"
   ]
  },
  {
   "cell_type": "markdown",
   "metadata": {},
   "source": [
    "Es posible usar métodos basados en descenso de gradiente, se implementa el método de descenso de gradiente conjugado sobre una función de prueba."
   ]
  },
  {
   "cell_type": "code",
   "execution_count": null,
   "metadata": {
    "ExecuteTime": {
     "end_time": "2021-03-31T19:14:00.355090Z",
     "start_time": "2021-03-31T19:14:00.342091Z"
    }
   },
   "outputs": [],
   "source": [
    "# Función a utilizar (Rosenbrock)\n",
    "def f(x):\n",
    "    return (1 / 2) * (1 - x[0])**2 + (x[1] - x[0]**2)**2"
   ]
  },
  {
   "cell_type": "markdown",
   "metadata": {},
   "source": [
    "para minimizar una función de más de una variable, se utiliza el método `.optimize.minimize()` y se indica el método de gradiente conjugado por medio de `method='CG'`. Este método necesita el jacobiano (puede calcularse numéricamente pero es mejor definirlo)"
   ]
  },
  {
   "cell_type": "code",
   "execution_count": null,
   "metadata": {
    "ExecuteTime": {
     "end_time": "2021-03-31T19:14:00.371088Z",
     "start_time": "2021-03-31T19:14:00.357089Z"
    }
   },
   "outputs": [],
   "source": [
    "def jac(x):\n",
    "    return np.array((-2 * .5 * (1 - x[0]) - 4 * x[0] * (x[1] - x[0]**2),\n",
    "                     2 * (x[1] - x[0]**2)))"
   ]
  },
  {
   "cell_type": "markdown",
   "metadata": {},
   "source": [
    "Se minimiza la función anterior en primer lugar sin proporcionar el jacobiano y comenzando desde el origen."
   ]
  },
  {
   "cell_type": "code",
   "execution_count": null,
   "metadata": {
    "ExecuteTime": {
     "end_time": "2021-03-31T19:14:00.403088Z",
     "start_time": "2021-03-31T19:14:00.378091Z"
    }
   },
   "outputs": [],
   "source": [
    "res = optimize.minimize(fun=f, x0=(0, 0), method=\"CG\")\n",
    "print(res)"
   ]
  },
  {
   "cell_type": "markdown",
   "metadata": {},
   "source": [
    "Se repite la el proceso entregando el jacobiano"
   ]
  },
  {
   "cell_type": "code",
   "execution_count": null,
   "metadata": {
    "ExecuteTime": {
     "end_time": "2021-03-31T19:14:00.419088Z",
     "start_time": "2021-03-31T19:14:00.407091Z"
    }
   },
   "outputs": [],
   "source": [
    "res_jac = optimize.minimize(fun=f, x0=(0, 0), method=\"CG\", jac=jac)\n",
    "print(res_jac)"
   ]
  },
  {
   "cell_type": "markdown",
   "metadata": {},
   "source": [
    "Un método bastante usado es BFGS, este consiste en un método quasi-Newton que refina la aproximación de la matriz hessiana en cada paso. Se estudia este método con la función anterior."
   ]
  },
  {
   "cell_type": "code",
   "execution_count": null,
   "metadata": {
    "ExecuteTime": {
     "end_time": "2021-03-31T19:14:00.435090Z",
     "start_time": "2021-03-31T19:14:00.421088Z"
    }
   },
   "outputs": [],
   "source": [
    "res_bfgs = optimize.minimize(f, [0, 0], method=\"BFGS\", jac=jac)\n",
    "print(res_bfgs)"
   ]
  },
  {
   "cell_type": "markdown",
   "metadata": {},
   "source": [
    "> **Ejercicio ✏️**\n",
    "\n",
    "Utilice el módulo de optimización para ajustar una curva a un conjunto de datos sintéticos, para ello:\n",
    "\n",
    "1. Defina una discretización `d`, uniforme del intervalo $[-2,2]$ con $n=100$ puntos.\n",
    "2. Defina la función $f(x) = x \\exp(-x^2)$, para generar los datos de ajuste `y = f(d)`.\n",
    "3. Defina la familia de funciones a ajustar de la forma $f_{abc}(x) = a\\cdot \\cos(b\\cdot x + c)$, donde $a,b,c$ son los parámetros a ajustar.\n",
    "4. Ajuste la familia de funciones anterior a los datos `y`. Para ello.\n",
    "    1. Cree la función `least_square` que calcula el error cuadrático de aproximar $f$ con $f_{abc}$ en `d`. Posteriormente, minimice tal error cuadrático usando `optimize.minimize()` con el método BFGS y punto inicial $x0 = (1,1,1)$ \n",
    "    2. Utilice la función `optimize.curve_fit()` sobre $f_{abc}$ con los datos `y` en la malla `d` .\n",
    "    3. Compare los resultados obtenidos\n",
    "5. Seleccione un método de los anteriores observe el ajuste de su modelo, para ello utilice la función `plot_fit()` definida en la celda inferior.\n",
    "\n",
    "6. Añada ruido gaussiano a los datos `y = f(d)`, la desviación estándar del ruido debe ser del orden de $10^{-2}$. Vuelva a ajustar la familia $𝑓_{𝑎𝑏𝑐}$ y compare los resultados con el ajuste sin ruido."
   ]
  },
  {
   "cell_type": "code",
   "execution_count": null,
   "metadata": {
    "ExecuteTime": {
     "end_time": "2021-03-31T19:06:19.239680Z",
     "start_time": "2021-03-31T19:06:18.485Z"
    }
   },
   "outputs": [],
   "source": [
    "def plot_fit(func, params_list, data_grid=d, data_points=y):\n",
    "    ''' Visualiza en pantalla una curva ajustada.\n",
    "\n",
    "    Crea una visualizacion para el ajuste de func, contra\n",
    "    los datos reales data_points. Para ello, se entrega una \n",
    "    lista de parámetros para la función func, de tal manera que \n",
    "    func(x,*params) tenga sentido para todo x en d. \n",
    "\n",
    "    Args:\n",
    "        func: Funcion que se ajusta a los datos.\n",
    "\n",
    "        params_list: Lista de parametros necesarios para la funcion func\n",
    "            se debe poder ejecutar func(x,*params) para todo x float.\n",
    "\n",
    "        data_grid: Malla sobre la cual se mide el ajuste.\n",
    "\n",
    "        data_point: Datos para comparar el ajuste.\n",
    "\n",
    "    Returns:\n",
    "        None, genera una visualizacion de matplotlib\n",
    "    '''\n",
    "    def f_opt(x): return func(x, *params_list)\n",
    "\n",
    "    plt.figure(figsize=[8, 5])\n",
    "    plt.title('Ajuste a los datos', fontdict={'fontsize': 18})\n",
    "    plt.plot(data_grid, f_opt(data_grid), label='Ajuste')\n",
    "    plt.plot(data_grid, y, label='datos')\n",
    "    plt.legend(fontsize=12)"
   ]
  }
 ],
 "metadata": {
  "kernelspec": {
   "display_name": "Python 3",
   "language": "python",
   "name": "python3"
  },
  "language_info": {
   "codemirror_mode": {
    "name": "ipython",
    "version": 3
   },
   "file_extension": ".py",
   "mimetype": "text/x-python",
   "name": "python",
   "nbconvert_exporter": "python",
   "pygments_lexer": "ipython3",
   "version": "3.8.5"
  },
  "nbTranslate": {
   "displayLangs": [
    "es",
    "en"
   ],
   "hotkey": "alt-t",
   "langInMainMenu": true,
   "sourceLang": "en",
   "targetLang": "es",
   "useGoogleTranslate": true
  },
  "toc": {
   "base_numbering": 1,
   "nav_menu": {},
   "number_sections": true,
   "sideBar": true,
   "skip_h1_title": false,
   "title_cell": "Table of Contents",
   "title_sidebar": "Contents",
   "toc_cell": false,
   "toc_position": {
    "height": "calc(100% - 180px)",
    "left": "10px",
    "top": "150px",
    "width": "294.4px"
   },
   "toc_section_display": true,
   "toc_window_display": true
  },
  "varInspector": {
   "cols": {
    "lenName": 16,
    "lenType": 16,
    "lenVar": 40
   },
   "kernels_config": {
    "python": {
     "delete_cmd_postfix": "",
     "delete_cmd_prefix": "del ",
     "library": "var_list.py",
     "varRefreshCmd": "print(var_dic_list())"
    },
    "r": {
     "delete_cmd_postfix": ") ",
     "delete_cmd_prefix": "rm(",
     "library": "var_list.r",
     "varRefreshCmd": "cat(var_dic_list()) "
    }
   },
   "types_to_exclude": [
    "module",
    "function",
    "builtin_function_or_method",
    "instance",
    "_Feature"
   ],
   "window_display": false
  }
 },
 "nbformat": 4,
 "nbformat_minor": 4
}
