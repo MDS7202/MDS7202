{
 "cells": [
  {
   "cell_type": "markdown",
   "id": "1e08ec0a",
   "metadata": {},
   "source": [
    "# Clase 7: Pandas II\n",
    "\n",
    "**MDS7202: Laboratorio de Programación Científica para Ciencia de Datos**"
   ]
  },
  {
   "cell_type": "markdown",
   "id": "dd44a84d-50a0-47b3-90e8-9ee9b5629897",
   "metadata": {},
   "source": [
    "## Objetivos de la Clase\n",
    "\n",
    "- Comprender como fusionar distintas fuentes de datos a partir de `concatenaciones` y `merge`.\n",
    "- Reorganizar los datos usando `transpose`, `pivot` y `melt`\n",
    "- Trabajar con dataframes con `multi-índices`\n",
    "- Operar en Pandas con diferentes tipos de datos: `strings`, `fechas`, `categorías` y `ordinales`\n"
   ]
  },
  {
   "cell_type": "code",
   "execution_count": null,
   "id": "97057880",
   "metadata": {},
   "outputs": [],
   "source": [
    "import pandas as pd\n",
    "\n",
    "bli_df = pd.read_excel(\"../../recursos/2023-02/pandas-2/dataset.xlsx\", header=1, index_col=0)\n",
    "bli_df.head()"
   ]
  },
  {
   "cell_type": "code",
   "execution_count": null,
   "id": "5295260b",
   "metadata": {},
   "outputs": [],
   "source": [
    "bli_df.shape"
   ]
  },
  {
   "cell_type": "code",
   "execution_count": null,
   "id": "cc353e7d",
   "metadata": {},
   "outputs": [],
   "source": [
    "temp_df = pd.read_csv(\n",
    "    \"../../recursos/2023-02/pandas-2/temperature.csv\")\n",
    "temp_df.head(20)"
   ]
  },
  {
   "cell_type": "code",
   "execution_count": null,
   "id": "79217d7d",
   "metadata": {
    "scrolled": true
   },
   "outputs": [],
   "source": [
    "temp_df.shape"
   ]
  },
  {
   "cell_type": "markdown",
   "id": "c20a4ab6",
   "metadata": {
    "tags": []
   },
   "source": [
    "----\n",
    "\n",
    "## 1. Concatenación\n",
    "\n",
    "\n",
    "> Según Wikipedia: *Es la operación por la cual dos caracteres se unen para formar una cadena de caracteres (o string). También se pueden concatenar dos cadenas de caracteres o un carácter con una cadena para formar una cadena de mayor tamaño*. Ejemplo: "
   ]
  },
  {
   "cell_type": "code",
   "execution_count": null,
   "id": "28caa54b",
   "metadata": {},
   "outputs": [],
   "source": [
    "a = \"Hola \"\n",
    "\n",
    "b = \"a todos 🤗\"\n",
    "\n",
    "\n",
    "a + b"
   ]
  },
  {
   "cell_type": "markdown",
   "id": "c4f06783",
   "metadata": {},
   "source": [
    "La idea general de concatenar es unir 2 o más `Dataframes` por filas o columnas.\n",
    "\n",
    "<div align='center'>\n",
    "    <img src='https://raw.githubusercontent.com/MDS7202/MDS7202/main/recursos/2023-01/10-Pandas3/concat.png' width=900/>\n",
    "</div>\n",
    "\n",
    "\n",
    "Todas las operaciones se hacen a través de la operación sobre los índices de los `DataFrames`."
   ]
  },
  {
   "cell_type": "markdown",
   "id": "4097666d",
   "metadata": {},
   "source": [
    "### Caso 1: Concatenar Filas\n",
    "\n",
    "En el caso de contactenar por filas `(axis=0)`, los `DataFrames` se unen al final a través de los índices.\n",
    "\n",
    "<div align='center'>\n",
    "    <img src='https://raw.githubusercontent.com/MDS7202/MDS7202/main/recursos/2023-01/10-Pandas3/merging_concat_basic.png' width=500/>\n",
    "</div>"
   ]
  },
  {
   "cell_type": "code",
   "execution_count": null,
   "id": "ee30b709-9fb4-4a10-bb75-3e6000316993",
   "metadata": {},
   "outputs": [],
   "source": [
    "bli_df = bli_df.reset_index()"
   ]
  },
  {
   "cell_type": "markdown",
   "id": "0b586d68",
   "metadata": {},
   "source": [
    "Supongamos que tenemos 3 dataframes distintos:"
   ]
  },
  {
   "cell_type": "code",
   "execution_count": null,
   "id": "4fbc30eb",
   "metadata": {},
   "outputs": [],
   "source": [
    "# 1 dataframe por continente: sudamerica, norteamerica, oceania\n",
    "sudamerica_df = bli_df.loc[bli_df[\"Country\"].isin([\"Chile\",\"Brazil\",\"Colombia\",]), :]\n",
    "norteamerica_df = bli_df.loc[bli_df[\"Country\"].isin([\"Canada\", \"United States\", \"Mexico\",]), :]\n",
    "oceania_df = bli_df.loc[bli_df[\"Country\"].isin([\"New Zealand\", \"Australia\"]), :]"
   ]
  },
  {
   "cell_type": "markdown",
   "id": "427c8bd5-8608-436f-b3c5-14ce8a301c6b",
   "metadata": {},
   "source": [
    "Para ejecutar la concatenación, usamos el método `pd.concat` sobre una lista con los `DataFrames` por concatenar."
   ]
  },
  {
   "cell_type": "code",
   "execution_count": null,
   "id": "4ff7a2d6",
   "metadata": {},
   "outputs": [],
   "source": [
    "df_concatenado_filas = pd.concat(\n",
    "    [sudamerica_df, norteamerica_df, oceania_df], \n",
    "    axis=0) # para concatenar verticalmente\n",
    "df_concatenado_filas"
   ]
  },
  {
   "cell_type": "markdown",
   "id": "c3985e0b",
   "metadata": {},
   "source": [
    "### Caso 2: Concatenar Columnas\n",
    "\n",
    "En este caso, los `DataFrames` se unen por los índices y las columnas.\n",
    "\n",
    "\n",
    "<div align='center'>\n",
    "    <img src='https://raw.githubusercontent.com/MDS7202/MDS7202/main/recursos/2023-01/10-Pandas3/merging_concat_mixed_ndim.png' width=700/>\n",
    "</div>"
   ]
  },
  {
   "cell_type": "code",
   "execution_count": null,
   "id": "6e1aaeee",
   "metadata": {},
   "outputs": [],
   "source": [
    "env_df = bli_df.loc[:, [\"Country\", \"Air pollution\", \"Water quality\"]]\n",
    "env_df.head()"
   ]
  },
  {
   "cell_type": "code",
   "execution_count": null,
   "id": "a9e7ce3e",
   "metadata": {},
   "outputs": [],
   "source": [
    "health_df = bli_df.loc[\n",
    "    :, [\n",
    "        \"Country\", \n",
    "        \"Self-reported health\", \n",
    "        \"Life expectancy\", \n",
    "        \"Life satisfaction\",\n",
    "    ]\n",
    "]\n",
    "\n",
    "health_df.head()"
   ]
  },
  {
   "cell_type": "code",
   "execution_count": null,
   "id": "b917bd9a",
   "metadata": {},
   "outputs": [],
   "source": [
    "env_health_df = pd.concat(\n",
    "    [env_df, health_df],\n",
    "    axis=1 # concatenar horizontalmente\n",
    ")\n",
    "\n",
    "env_health_df.head()"
   ]
  },
  {
   "cell_type": "code",
   "execution_count": null,
   "id": "0d4d4bbb-33ae-4aaf-9190-7cdd760e3b48",
   "metadata": {},
   "outputs": [],
   "source": [
    "env_health_df.loc[:, \"Country\"].head()"
   ]
  },
  {
   "cell_type": "markdown",
   "id": "8dda66c1-8f25-4577-b7d1-fdaaacd036fd",
   "metadata": {},
   "source": [
    "Nota: La unión sigue siendo por filas. Por ende, una columna repetida aparecerá dos veces en el `DataFrame` resultante, como en el caso anterior con `Country`"
   ]
  },
  {
   "cell_type": "markdown",
   "id": "cdcc966a-5a73-49e0-bbf8-30c7a47fa169",
   "metadata": {},
   "source": [
    "> **Nota**: Para facilitar la práctica, solo dejaremos una columna `Country`"
   ]
  },
  {
   "cell_type": "code",
   "execution_count": null,
   "id": "9801c2fd",
   "metadata": {},
   "outputs": [],
   "source": [
    "env_health_df = env_health_df.loc[:, ~env_health_df.columns.duplicated()]\n",
    "env_health_df.head()"
   ]
  },
  {
   "cell_type": "markdown",
   "id": "c359f033-0471-421d-bfff-e5212bd2d79e",
   "metadata": {},
   "source": [
    "### Un `DataFrame` tiene menos datos que el otro\n",
    "\n",
    "En este caso, rellena los valores de las filas sin valor con `np.nan`.\n",
    "\n",
    "<div align='center'>\n",
    "    <img src='https://raw.githubusercontent.com/MDS7202/MDS7202/main/recursos/2023-01/10-Pandas3/merging_concat_axis1.png' width=800/>\n",
    "</div>"
   ]
  },
  {
   "cell_type": "code",
   "execution_count": null,
   "id": "1a579c3e-d3fd-4b9a-9f9b-9e0e296112c8",
   "metadata": {},
   "outputs": [],
   "source": [
    "env_df_reducido = env_df[0:7]\n",
    "env_df_reducido"
   ]
  },
  {
   "cell_type": "code",
   "execution_count": null,
   "id": "e30215f3-e71f-454f-86bf-fd4580a49c0a",
   "metadata": {},
   "outputs": [],
   "source": [
    "health_df[:15]"
   ]
  },
  {
   "cell_type": "code",
   "execution_count": null,
   "id": "a49898f2-2531-463b-9af5-838a974bea6a",
   "metadata": {},
   "outputs": [],
   "source": [
    "pd.concat(\n",
    "    [\n",
    "        env_df_reducido, \n",
    "        health_df[:15]\n",
    "    ], axis=1)"
   ]
  },
  {
   "cell_type": "markdown",
   "id": "f56db6c8",
   "metadata": {},
   "source": [
    "---\n",
    "\n",
    "## 2. Merge\n",
    "\n",
    "Es una forma de combinar dos `DataFrames` en la que usamos los valores de columna como identificador comunes para concatenar el resto de los valores:\n",
    "\n",
    "![Idea del Merge](https://raw.githubusercontent.com/MDS7202/MDS7202/main/recursos/2023-01/10-Pandas3/merge.png)\n",
    "\n",
    "\n",
    "Es equivalente a las sentencias `JOIN` de SQL. Existen varios tipos. `Pandas` implementa 5 a través de la función `pd.merge`.\n",
    "\n",
    "En los siguientes ejemplos uniremos los datasets de la OECD y de temperatura agregada según los distintos tipos de `Merge`. Será de mucha utilidad pensar los `Merge` como operaciones sobre conjuntos."
   ]
  },
  {
   "cell_type": "code",
   "execution_count": null,
   "id": "3ebf79db-aa1d-4a17-b5b1-59cb09e8942a",
   "metadata": {},
   "outputs": [],
   "source": [
    "temp_df = pd.read_csv(\"../../recursos/2023-02/pandas-2/temperature.csv\")\n",
    "t_agg_df = temp_df.groupby(\"Country\").agg({\"Temperature\": [\"median\", \"min\", \"max\"]})\n",
    "t_agg_df = t_agg_df.droplevel(0, axis=1).reset_index()\n",
    "t_agg_df.columns = [\"Country\", \"t_median\", \"t_min\", \"t_max\"]\n",
    "t_agg_df.head()"
   ]
  },
  {
   "cell_type": "markdown",
   "id": "a4927475",
   "metadata": {},
   "source": [
    "---"
   ]
  },
  {
   "cell_type": "code",
   "execution_count": null,
   "id": "83e77b60",
   "metadata": {},
   "outputs": [],
   "source": [
    "env_health_df.head()"
   ]
  },
  {
   "cell_type": "markdown",
   "id": "133ae294",
   "metadata": {},
   "source": [
    "### Inner\n",
    "\n",
    "Combina los elementos que se encuentren en ambas tablas. Descarta todo el resto\n",
    "\n",
    "![Inner](https://raw.githubusercontent.com/MDS7202/MDS7202/main/recursos/2023-01/10-Pandas3/inner.png)"
   ]
  },
  {
   "cell_type": "code",
   "execution_count": null,
   "id": "813c7aa1",
   "metadata": {},
   "outputs": [],
   "source": [
    "inner_merge_df = pd.merge(\n",
    "    left=env_health_df,\n",
    "    right=t_agg_df,\n",
    "    left_on=\"Country\",\n",
    "    right_on=\"Country\",\n",
    "    how=\"inner\",\n",
    "    sort=True,\n",
    ")\n",
    "inner_merge_df.head()"
   ]
  },
  {
   "cell_type": "code",
   "execution_count": null,
   "id": "a8f33e4d",
   "metadata": {},
   "outputs": [],
   "source": [
    "inner_merge_df.shape"
   ]
  },
  {
   "cell_type": "markdown",
   "id": "359f55be",
   "metadata": {},
   "source": [
    "### Left Merge\n",
    "\n",
    "![Right Merge](https://raw.githubusercontent.com/MDS7202/MDS7202/main/recursos/2023-01/10-Pandas3/left.png)\n",
    "\n",
    "Conserva solo los elementos que se hayan combinado correctamente provenientes dataset `left`."
   ]
  },
  {
   "cell_type": "code",
   "execution_count": null,
   "id": "52092a0c",
   "metadata": {},
   "outputs": [],
   "source": [
    "left_merge_df = pd.merge(\n",
    "    left=env_health_df,\n",
    "    right=t_agg_df,\n",
    "    on=\"Country\",\n",
    "    how=\"left\",\n",
    "    sort=True,\n",
    ")\n",
    "\n",
    "left_merge_df.head()"
   ]
  },
  {
   "cell_type": "code",
   "execution_count": null,
   "id": "fffbd5e4",
   "metadata": {},
   "outputs": [],
   "source": [
    "left_merge_df.shape"
   ]
  },
  {
   "cell_type": "markdown",
   "id": "12951d97",
   "metadata": {},
   "source": [
    "### Right Merge\n",
    "\n",
    "Conserva solo los elementos que se hayan combinado correctamente provenientes dataset `right`.\n",
    "\n",
    "![Right Merge](https://raw.githubusercontent.com/MDS7202/MDS7202/main/recursos/2023-01/10-Pandas3/right.png)"
   ]
  },
  {
   "cell_type": "code",
   "execution_count": null,
   "id": "def9fc84",
   "metadata": {},
   "outputs": [],
   "source": [
    "right_merge_df = pd.merge(\n",
    "    left=env_health_df,\n",
    "    right=t_agg_df,\n",
    "    on=\"Country\",\n",
    "    how=\"right\",\n",
    "    sort=True,\n",
    ")\n",
    "\n",
    "right_merge_df.head()"
   ]
  },
  {
   "cell_type": "code",
   "execution_count": null,
   "id": "5310a745",
   "metadata": {},
   "outputs": [],
   "source": [
    "right_merge_df.shape"
   ]
  },
  {
   "cell_type": "markdown",
   "id": "2b6a3239",
   "metadata": {},
   "source": [
    "### Outer\n",
    "\n",
    "Combina todos los elementos posibles y conserva todo el resto en filas independientes.\n",
    "\n",
    "![Outer Join](https://raw.githubusercontent.com/MDS7202/MDS7202/main/recursos/2023-01/10-Pandas3/outer.png)"
   ]
  },
  {
   "cell_type": "code",
   "execution_count": null,
   "id": "909b2ddc",
   "metadata": {},
   "outputs": [],
   "source": [
    "outer_merge_df = pd.merge(\n",
    "    left=env_health_df,\n",
    "    right=t_agg_df,\n",
    "    on=\"Country\",\n",
    "    sort=True,\n",
    "    how=\"outer\",\n",
    ")\n",
    "outer_merge_df"
   ]
  },
  {
   "cell_type": "code",
   "execution_count": null,
   "id": "0f3f997e",
   "metadata": {},
   "outputs": [],
   "source": [
    "outer_merge_df.shape"
   ]
  },
  {
   "cell_type": "markdown",
   "id": "103e1eb7",
   "metadata": {},
   "source": [
    "#### Con Indicador"
   ]
  },
  {
   "cell_type": "code",
   "execution_count": null,
   "id": "e6589618",
   "metadata": {},
   "outputs": [],
   "source": [
    "outer_merged_df = pd.merge(\n",
    "    left=env_health_df,\n",
    "    right=t_agg_df,\n",
    "    on=\"Country\",\n",
    "    how=\"outer\",\n",
    "    sort=True,\n",
    "    indicator=True,\n",
    ")\n",
    "outer_merged_df.head()"
   ]
  },
  {
   "cell_type": "code",
   "execution_count": null,
   "id": "6baf3ad9",
   "metadata": {},
   "outputs": [],
   "source": [
    "outer_merged_df[outer_merged_df[\"_merge\"] == \"left_only\"].head()"
   ]
  },
  {
   "cell_type": "code",
   "execution_count": null,
   "id": "de37c744-5719-4318-95bf-bd5783bdbe27",
   "metadata": {},
   "outputs": [],
   "source": [
    "outer_merged_df[outer_merged_df[\"_merge\"] == \"both\"].head()"
   ]
  },
  {
   "cell_type": "code",
   "execution_count": null,
   "id": "a23c98a8-cbfc-4351-ba1f-84f72e6f0af0",
   "metadata": {},
   "outputs": [],
   "source": [
    "outer_merged_df[outer_merged_df[\"_merge\"] == \"right_only\"].head()"
   ]
  },
  {
   "cell_type": "markdown",
   "id": "50a4cae3-c79f-4180-9c3d-fdac15431a7d",
   "metadata": {},
   "source": [
    "---\n",
    "\n",
    "## 3. Transponer Datos\n",
    "\n",
    "Simplemente invertir las filas por las columnas."
   ]
  },
  {
   "cell_type": "code",
   "execution_count": null,
   "id": "7929e2f8",
   "metadata": {},
   "outputs": [],
   "source": [
    "bli_df.head()"
   ]
  },
  {
   "cell_type": "code",
   "execution_count": null,
   "id": "701bdc1b-a70e-4955-8b4e-fb0600cd63fc",
   "metadata": {},
   "outputs": [],
   "source": [
    "bli_df.T.head()"
   ]
  },
  {
   "cell_type": "markdown",
   "id": "cfad9839-60bf-4326-a645-6fdc438f0e0c",
   "metadata": {},
   "source": [
    "---\n",
    "\n",
    "## 4. Pivot y Melt\n",
    "\n",
    "### Introducción\n",
    "\n",
    "El dataset que usamos la clase pasada está relativamente ordenado."
   ]
  },
  {
   "cell_type": "code",
   "execution_count": null,
   "id": "7711fc83-b71e-43df-b70f-d90d1c58b466",
   "metadata": {},
   "outputs": [],
   "source": [
    "bli_df.head(5).iloc[:, 0:20]"
   ]
  },
  {
   "cell_type": "code",
   "execution_count": null,
   "id": "f65762e6",
   "metadata": {},
   "outputs": [],
   "source": [
    "bli_df.loc[:, [\"Country\", \"Labour market insecurity\"]].head()"
   ]
  },
  {
   "cell_type": "markdown",
   "id": "df3de580-926b-42fb-bef2-efd344808105",
   "metadata": {},
   "source": [
    "Sin embargo, originalmente tenía la siguiente estructura:"
   ]
  },
  {
   "cell_type": "code",
   "execution_count": null,
   "id": "6b383f60-5ecb-42d9-94d0-f6615e599996",
   "metadata": {},
   "outputs": [],
   "source": [
    "dataset_original = pd.read_csv(\"../../recursos/2023-02/pandas-3/bli_original.csv\", keep_default_na=False)\n",
    "dataset_original.head()"
   ]
  },
  {
   "cell_type": "code",
   "execution_count": null,
   "id": "ea869928-82dd-4674-8a2e-1b91b77aab26",
   "metadata": {},
   "outputs": [],
   "source": [
    "dataset_original.loc[:, [\"Country\", \"Indicator\", \"Value\"]].sort_values('Country').tail(10)"
   ]
  },
  {
   "cell_type": "code",
   "execution_count": null,
   "id": "2654639a-1004-4161-b28a-fbfec9df0b76",
   "metadata": {},
   "outputs": [],
   "source": [
    "dataset_original.shape"
   ]
  },
  {
   "cell_type": "markdown",
   "id": "6d5c9c1e-06ba-4781-8e29-8860eb44a60e",
   "metadata": {},
   "source": [
    "Cada fila de este dataset contiene información acerca de los paises y de los indicadores y el valor del indicador. Esta forma es conocida como **long**. \n",
    "\n",
    "### Pivot\n",
    "\n",
    "![Pivot](../../recursos/2024-01/pandas-2/pivot.png)\n",
    "\n",
    "Para convertirla al formato con el que hemos estado trabajando, **wide**, debemos **pivotear** la tabla:"
   ]
  },
  {
   "cell_type": "code",
   "execution_count": null,
   "id": "94bd453a-4db9-427c-8084-473171c64cf9",
   "metadata": {
    "scrolled": true
   },
   "outputs": [],
   "source": [
    "dataset_original.head(3)"
   ]
  },
  {
   "cell_type": "code",
   "execution_count": null,
   "id": "648009ef-c626-4350-913f-81f03bb95f75",
   "metadata": {},
   "outputs": [],
   "source": [
    "dataset_original.head().loc[:, [\"Country\", \"Indicator\", \"Value\"]] # comenzamos desde formato long"
   ]
  },
  {
   "cell_type": "markdown",
   "id": "2a94b8a0-2e3c-4726-acb6-5fb67436c4f2",
   "metadata": {},
   "source": [
    "> **Ejercicio ✏️**: Pivotear la tabla original de los datos de la OECD"
   ]
  },
  {
   "cell_type": "code",
   "execution_count": null,
   "id": "d1944ee0-9d82-477d-aeb4-60192b2d3564",
   "metadata": {},
   "outputs": [],
   "source": [
    "# transformamos a formato wide\n",
    "pd.pivot_table(\n",
    "    dataset_original, \n",
    "    index='Country', \n",
    "    columns='Indicator', \n",
    "    values='Value'\n",
    ").head(5)"
   ]
  },
  {
   "cell_type": "markdown",
   "id": "99691200",
   "metadata": {},
   "source": [
    "### Melt\n",
    "\n",
    "Y como transformamos un dataframe **wide** a **long**? Podemos usar la operación `melt`:\n",
    "\n",
    "![Melt](../../recursos/2023-02/pandas-4/melt.png)"
   ]
  },
  {
   "cell_type": "code",
   "execution_count": null,
   "id": "17021727",
   "metadata": {},
   "outputs": [],
   "source": [
    "# partimos desde el dataframe con formato wide\n",
    "bli_df.head()"
   ]
  },
  {
   "cell_type": "code",
   "execution_count": null,
   "id": "bbd3128e",
   "metadata": {},
   "outputs": [],
   "source": [
    "# transformamos a formato long\n",
    "bli_df.melt(id_vars = 'Country', # variable id sobre la cual hacer unpivot\n",
    "            var_name = 'Indicator', # nombre de la columna \"variable\"\n",
    "            value_name = 'Value') # nombre de la columna \"valor\""
   ]
  },
  {
   "cell_type": "markdown",
   "id": "c63e14f0",
   "metadata": {},
   "source": [
    "Usando su argumento `value_vars` podemos seleccionar solo alguna de las columnas que deseamos operar con `melt`.\n",
    "De todas formas, este comportamiento también puede ser logrado usando un simple indexador `.loc`"
   ]
  },
  {
   "cell_type": "markdown",
   "id": "029aa91b",
   "metadata": {},
   "source": [
    "---\n",
    "\n",
    "## 5. Multi-Índices\n",
    "\n",
    "Hasta el momento solo hemos trabajado con `Dataframes` que contienen solo un nivel de filas o columnas. Sin embargo, es posible también agregar **más niveles** a los indices y a las columnas. \n",
    "Esto se le conoce como **<u>multi-índice</u>**."
   ]
  },
  {
   "cell_type": "code",
   "execution_count": null,
   "id": "4a31d206",
   "metadata": {},
   "outputs": [],
   "source": [
    "dataset_original.loc[:, \n",
    "                     [\"Continent\", \n",
    "                      \"Country\", \n",
    "                      \"Indicator\", \n",
    "                      \"Unit\", \n",
    "                      \"Value\"]].head()"
   ]
  },
  {
   "cell_type": "markdown",
   "id": "32bfbf3d",
   "metadata": {},
   "source": [
    "Para agregar niveles de columnas, en el proceso de pivoteo vamos a indicar que tanto `Unit` como `Indicator` sean niveles de las columnas; y que a la vez, tanto `Continent` como `Country` sean indices para las filas. \n",
    "\n",
    "El resultado de esto puede ser visto en el siguiente `DataFrame`:"
   ]
  },
  {
   "cell_type": "code",
   "execution_count": null,
   "id": "f0895ae8",
   "metadata": {},
   "outputs": [],
   "source": [
    "# primero seteamos unas opciones de display de pandas\n",
    "pd.set_option(\"display.max_columns\", None)\n",
    "pd.set_option(\"display.max_rows\", 100)"
   ]
  },
  {
   "cell_type": "code",
   "execution_count": null,
   "id": "39f56237",
   "metadata": {},
   "outputs": [],
   "source": [
    "# generamos dataframe con multi-índices usando pivot\n",
    "dataset_multindex = pd.pivot_table(\n",
    "    dataset_original,\n",
    "    index=[\"Continent\", \"Country\"],\n",
    "    columns=[\"Unit\", \"Indicator\"],\n",
    "    values=\"Value\",\n",
    ")\n",
    "dataset_multindex.head()"
   ]
  },
  {
   "cell_type": "code",
   "execution_count": null,
   "id": "8aeee19e",
   "metadata": {},
   "outputs": [],
   "source": [
    "dataset_multindex.index"
   ]
  },
  {
   "cell_type": "code",
   "execution_count": null,
   "id": "9e8e7347",
   "metadata": {},
   "outputs": [],
   "source": [
    "dataset_multindex.columns.values"
   ]
  },
  {
   "cell_type": "markdown",
   "id": "6e4f5ca8",
   "metadata": {},
   "source": [
    "### Acceder a Multi-Índices"
   ]
  },
  {
   "cell_type": "code",
   "execution_count": null,
   "id": "fbc3a8a3",
   "metadata": {},
   "outputs": [],
   "source": [
    "# Seleccionar la fila que contiene a Chile\n",
    "dataset_multindex.loc[[('SA', 'Chile')], :]"
   ]
  },
  {
   "cell_type": "code",
   "execution_count": null,
   "id": "2d20ff2b",
   "metadata": {},
   "outputs": [],
   "source": [
    "# Seleccionar las columnas de los indicadores basados en Porcentajes\n",
    "dataset_multindex.loc[:, ['Percentage']]"
   ]
  },
  {
   "cell_type": "markdown",
   "id": "b7a84ccf",
   "metadata": {},
   "source": [
    "### `droplevel`\n",
    "\n",
    "El método `droplevel` nos permite eliminar un nivel de un multi-índice, tanto para filas como para columnas.\n",
    "Recibe como parámetros el nivel (partiendo por 0 desde afuera hacia adentro) y el eje (axis): "
   ]
  },
  {
   "cell_type": "code",
   "execution_count": null,
   "id": "ae71bdc5",
   "metadata": {},
   "outputs": [],
   "source": [
    "dataset_multindex.head()"
   ]
  },
  {
   "cell_type": "code",
   "execution_count": null,
   "id": "9d425fa2",
   "metadata": {},
   "outputs": [],
   "source": [
    "dataset_multindex.droplevel(0, axis=0).head() # dropear nivel 0 de las filas"
   ]
  },
  {
   "cell_type": "code",
   "execution_count": null,
   "id": "4b2682e2",
   "metadata": {},
   "outputs": [],
   "source": [
    "dataset_multindex.droplevel(1, axis=0).head() # dropear nivel 1 de las filas"
   ]
  },
  {
   "cell_type": "code",
   "execution_count": null,
   "id": "921da1d0",
   "metadata": {},
   "outputs": [],
   "source": [
    "dataset_multindex.droplevel(0, axis=1).head() # dropear nivel 0 de las columnas"
   ]
  },
  {
   "cell_type": "markdown",
   "id": "4a218dbe",
   "metadata": {},
   "source": [
    "---\n",
    "\n",
    "## 6. Strings en Pandas\n",
    "\n",
    "La mayoría de los métodos de procesamiento de strings que se vieron anteriormente pueden ser ejecutados a través del atributo `.str` en las series de Pandas.\n",
    "\n",
    "La idea detrás del uso de los métodos de `.str` es que el preprocesamiento se haga de manera ordenada y eficiente. Al utilizar estos métodos, los usuarios pueden aplicar una variedad de transformaciones a sus datos de texto en una sola línea de código, lo que facilita el procesamiento de grandes conjuntos de datos de texto."
   ]
  },
  {
   "cell_type": "code",
   "execution_count": null,
   "id": "93d221eb",
   "metadata": {},
   "outputs": [],
   "source": [
    "mascotas = [\n",
    "    [\n",
    "        \"Perro\",\n",
    "        \"el perro (Canis familiaris o Canis lupus familiaris, dependiendo de si \"\n",
    "        \"se lo considera una especie por derecho propio o una subespecie del \"\n",
    "        \"lobo),1​2​3​ llamado perro doméstico o can,4​ y en algunos lugares\"\n",
    "        \" coloquialmente llamado chucho,5​ tuso,6​ choco,7​ entre otros; es un \"\n",
    "        \"mamífero carnívoro de la familia de los cánidos, que constituye \"\n",
    "        \"una especie del género Canis.8​9​. Posee un oído y un olfato muy \"\n",
    "        \"desarrollados, y este último es su principal órgano sensorial.  \\n\"\n",
    "        ],\n",
    "    [\n",
    "        \"Gato\",\n",
    "        \"el gato doméstico1​2​ (Felis silvestris catus), llamado popularmente \"\n",
    "        \"gato, y de forma coloquial minino,3​ michino,4​ michi,5​ micho,\"\n",
    "        \"6​ mizo,7​ miz,8​ morroño9​ o morrongo,10​ entre otros nombres, es \"\n",
    "        \"un mamífero carnívoro de la familia Felidae. Es una subespecie \"\n",
    "        \"domesticada por la convivencia con el ser humano.  \\n\"\n",
    "    ],\n",
    "    [\n",
    "        \"Canario\",\n",
    "        \"el canario doméstico (Serinus canaria domestica)3​4​ es una \"\n",
    "        \"subespecie desarrollada durante siglos de selección en cautividad \"\n",
    "        \"partiendo de ejemplares del canario silvestre o canario salvaje \"\n",
    "        \"(Serinus canaria), una especie de ave del orden paseriforme de \"\n",
    "        \"la familia de los fringílidos, endémica de las islas Canarias, \"\n",
    "        \"Azores y Madeira.5​6​   \\n\"\n",
    "    ],\n",
    "]\n",
    "\n",
    "df_mascotas = pd.DataFrame(mascotas, columns=[\"nombre\", \"resumen\"])\n",
    "df_mascotas"
   ]
  },
  {
   "cell_type": "markdown",
   "id": "041a072a",
   "metadata": {},
   "source": [
    "### Len, Lower, Upper, Title, Capitalize"
   ]
  },
  {
   "cell_type": "code",
   "execution_count": null,
   "id": "c1ed4092",
   "metadata": {},
   "outputs": [],
   "source": [
    "df_mascotas.loc[:, \"resumen\"].str"
   ]
  },
  {
   "cell_type": "code",
   "execution_count": null,
   "id": "7a28540e",
   "metadata": {},
   "outputs": [],
   "source": [
    "df_mascotas.loc[:, \"resumen\"].str.len()"
   ]
  },
  {
   "cell_type": "code",
   "execution_count": null,
   "id": "7431ea9c",
   "metadata": {},
   "outputs": [],
   "source": [
    "df_mascotas.loc[:, \"resumen\"].str.lower()"
   ]
  },
  {
   "cell_type": "code",
   "execution_count": null,
   "id": "62e79e34",
   "metadata": {},
   "outputs": [],
   "source": [
    "df_mascotas.loc[:, \"resumen\"].str.upper()"
   ]
  },
  {
   "cell_type": "code",
   "execution_count": null,
   "id": "6eac97ef",
   "metadata": {},
   "outputs": [],
   "source": [
    "df_mascotas.loc[:, \"resumen\"].str.title()"
   ]
  },
  {
   "cell_type": "code",
   "execution_count": null,
   "id": "07365c0f",
   "metadata": {},
   "outputs": [],
   "source": [
    "df_mascotas.loc[:, \"resumen\"].str.capitalize()"
   ]
  },
  {
   "cell_type": "markdown",
   "id": "f97f62ff",
   "metadata": {},
   "source": [
    "### Contains, Split, Join, Replace"
   ]
  },
  {
   "cell_type": "code",
   "execution_count": null,
   "id": "008ae3d5",
   "metadata": {},
   "outputs": [],
   "source": [
    "df_mascotas.loc[:, \"resumen\"].str.contains(\"perro\")"
   ]
  },
  {
   "cell_type": "code",
   "execution_count": null,
   "id": "3c759476",
   "metadata": {},
   "outputs": [],
   "source": [
    "df_mascotas.loc[:, \"resumen\"].str.contains(\"gato\")"
   ]
  },
  {
   "cell_type": "code",
   "execution_count": null,
   "id": "4271fc77",
   "metadata": {},
   "outputs": [],
   "source": [
    "df_mascotas.loc[:, \"resumen\"].str.split(\" \")"
   ]
  },
  {
   "cell_type": "code",
   "execution_count": null,
   "id": "9fc0f033",
   "metadata": {},
   "outputs": [],
   "source": [
    "df_mascotas.loc[:, \"resumen\"].str.split(\" \").str.join(\" \")"
   ]
  },
  {
   "cell_type": "code",
   "execution_count": null,
   "id": "e845a827",
   "metadata": {},
   "outputs": [],
   "source": [
    "df_mascotas.loc[:, \"resumen\"].values"
   ]
  },
  {
   "cell_type": "code",
   "execution_count": null,
   "id": "162dbc51",
   "metadata": {},
   "outputs": [],
   "source": [
    "s1 = (\n",
    "    df_mascotas.loc[:, \"resumen\"]\n",
    "    .str.replace(\"(\", \"\", regex=False)\n",
    "    .str.replace(\")\", \"\", regex=False)\n",
    "    .str.replace(\"perro\", \"perrito\", regex=False)\n",
    "    .str.replace(\"gato\", \"gatito\", regex=False)\n",
    ")\n",
    "\n",
    "s1"
   ]
  },
  {
   "cell_type": "markdown",
   "id": "1104828e",
   "metadata": {},
   "source": [
    "> **Pregunta ❓:** ¿Qué indica el parámetro `regex`?"
   ]
  },
  {
   "cell_type": "markdown",
   "id": "db7129db",
   "metadata": {},
   "source": [
    "### Otra forma de hacer lo anterior? Método `apply`"
   ]
  },
  {
   "cell_type": "code",
   "execution_count": null,
   "id": "60905c5d",
   "metadata": {},
   "outputs": [],
   "source": [
    "df_mascotas.loc[:, \"resumen\"].apply(lambda x: len(x))"
   ]
  },
  {
   "cell_type": "code",
   "execution_count": null,
   "id": "105b340e",
   "metadata": {},
   "outputs": [],
   "source": [
    "df_mascotas.loc[:, \"resumen\"].apply(lambda x: x.lower())"
   ]
  },
  {
   "cell_type": "code",
   "execution_count": null,
   "id": "1639280a",
   "metadata": {},
   "outputs": [],
   "source": [
    "df_mascotas.loc[:, \"resumen\"].apply(lambda x: x.split(' '))"
   ]
  },
  {
   "cell_type": "markdown",
   "id": "5538ec7a",
   "metadata": {},
   "source": [
    "> **Ejercicio ✏️**: Realizar el resto de las operaciones de `.str` usando `.apply`"
   ]
  },
  {
   "cell_type": "markdown",
   "id": "d1137f0e",
   "metadata": {},
   "source": [
    "---\n",
    "\n",
    "## 7. Fechas\n",
    "\n",
    "Volveremos a usar el dataframe de temperaturas!\n",
    "\n",
    "Las fechas y horarios son por lo general parte íntegra de los datos en muchas aplicaciones. Algunos ejemplos de uso de fechas y horarios en aplicaciones son el análisis de datos de ventas a lo largo del tiempo, el seguimiento de la evolución del clima, el análisis de la actividad del usuario en una plataforma digital, entre otros.\n",
    "\n",
    "> **Pregunta ❓**: ¿Qué aplicación particular podríamos darle al manejar los datetimes del clima? "
   ]
  },
  {
   "cell_type": "code",
   "execution_count": null,
   "id": "f6d870e9",
   "metadata": {},
   "outputs": [],
   "source": [
    "temp_df.head()"
   ]
  },
  {
   "cell_type": "markdown",
   "id": "2ccfa069",
   "metadata": {},
   "source": [
    "### Módulo `Datetime`\n",
    "\n",
    "El módulo datetime en Python es una librería estándar (built-in) que proporciona clases y métodos para trabajar con fechas y horas los cuales simplifican la manipulación y cálculos ellos."
   ]
  },
  {
   "cell_type": "code",
   "execution_count": null,
   "id": "b943eac9",
   "metadata": {},
   "outputs": [],
   "source": [
    "import datetime"
   ]
  },
  {
   "cell_type": "markdown",
   "id": "39805dfc",
   "metadata": {},
   "source": [
    "#### Date\n",
    "\n",
    "Objeto que almacena día, mes y año."
   ]
  },
  {
   "cell_type": "code",
   "execution_count": null,
   "id": "beb7fddb",
   "metadata": {},
   "outputs": [],
   "source": [
    "date_object = datetime.date.today()\n",
    "print(date_object)"
   ]
  },
  {
   "cell_type": "code",
   "execution_count": null,
   "id": "e08ec1cf",
   "metadata": {},
   "outputs": [],
   "source": [
    "date_object.day"
   ]
  },
  {
   "cell_type": "code",
   "execution_count": null,
   "id": "991d315f",
   "metadata": {},
   "outputs": [],
   "source": [
    "date_object.month"
   ]
  },
  {
   "cell_type": "code",
   "execution_count": null,
   "id": "35d56c8c",
   "metadata": {},
   "outputs": [],
   "source": [
    "date_object.year"
   ]
  },
  {
   "cell_type": "markdown",
   "id": "2228d901",
   "metadata": {},
   "source": [
    "#### Datetime\n",
    "\n",
    "Almacena segundos, minutos, hora, día, mes y año. También puede contener timezone."
   ]
  },
  {
   "cell_type": "code",
   "execution_count": null,
   "id": "59a4ab25",
   "metadata": {},
   "outputs": [],
   "source": [
    "datetime_object = datetime.datetime.now()\n",
    "print(datetime_object)"
   ]
  },
  {
   "cell_type": "code",
   "execution_count": null,
   "id": "5d4f43c6",
   "metadata": {},
   "outputs": [],
   "source": [
    "datetime_object.second"
   ]
  },
  {
   "cell_type": "code",
   "execution_count": null,
   "id": "e125d079",
   "metadata": {},
   "outputs": [],
   "source": [
    "datetime_object.day"
   ]
  },
  {
   "cell_type": "markdown",
   "id": "2a6e3258",
   "metadata": {},
   "source": [
    "#### Instanciar nuevos Date y Datetimes"
   ]
  },
  {
   "cell_type": "code",
   "execution_count": null,
   "id": "e4d2fac0",
   "metadata": {},
   "outputs": [],
   "source": [
    "d = datetime.date(2021, 9, 9)\n",
    "print(d)"
   ]
  },
  {
   "cell_type": "code",
   "execution_count": null,
   "id": "e448e0dc",
   "metadata": {},
   "outputs": [],
   "source": [
    "print(datetime.date)"
   ]
  },
  {
   "cell_type": "code",
   "execution_count": null,
   "id": "d0ee75f6",
   "metadata": {},
   "outputs": [],
   "source": [
    "print(\"Año:\", d.year)\n",
    "print(\"Mes:\", d.month)\n",
    "print(\"Día:\", d.day)"
   ]
  },
  {
   "cell_type": "code",
   "execution_count": null,
   "id": "a97cfffb",
   "metadata": {},
   "outputs": [],
   "source": [
    "d = datetime.datetime(\n",
    "    year=2021, \n",
    "    month=4, \n",
    "    day=19, \n",
    "    hour=10, \n",
    "    minute=59, \n",
    "    second=55\n",
    ")\n",
    "print(d)"
   ]
  },
  {
   "cell_type": "code",
   "execution_count": null,
   "id": "b7644709",
   "metadata": {},
   "outputs": [],
   "source": [
    "print(\"Hora:\", d.hour)\n",
    "print(\"Minuto:\", d.minute)\n",
    "print(\"Segundo:\", d.second)\n",
    "print(\"Microsegundo:\", d.microsecond)"
   ]
  },
  {
   "cell_type": "markdown",
   "id": "bf48c5ff",
   "metadata": {},
   "source": [
    "> **Pregunta ❓**: ¿Podemos sumar o restar fechas?"
   ]
  },
  {
   "cell_type": "code",
   "execution_count": null,
   "id": "5dc4b062",
   "metadata": {},
   "outputs": [],
   "source": [
    "datetime.datetime.now() + datetime.datetime(1, 1, 1)"
   ]
  },
  {
   "cell_type": "markdown",
   "id": "19a11c8b",
   "metadata": {},
   "source": [
    "#### TimeDelta\n",
    "\n",
    "Podemos realizar operaciones entre fechas mediante `timedelta`"
   ]
  },
  {
   "cell_type": "code",
   "execution_count": null,
   "id": "d0c09c37",
   "metadata": {},
   "outputs": [],
   "source": [
    "d = datetime.datetime.now()\n",
    "d"
   ]
  },
  {
   "cell_type": "code",
   "execution_count": null,
   "id": "c22f90b8",
   "metadata": {},
   "outputs": [],
   "source": [
    "from datetime import timedelta\n",
    "\n",
    "t1 = timedelta(weeks=2)\n",
    "t1"
   ]
  },
  {
   "cell_type": "code",
   "execution_count": null,
   "id": "c042a730",
   "metadata": {},
   "outputs": [],
   "source": [
    "d + t1"
   ]
  },
  {
   "cell_type": "code",
   "execution_count": null,
   "id": "dfe040d4",
   "metadata": {},
   "outputs": [],
   "source": [
    "d - t1"
   ]
  },
  {
   "cell_type": "markdown",
   "id": "d3c3d4b1",
   "metadata": {},
   "source": [
    "###  Datos temporales en Pandas\n",
    "\n",
    "Pandas implementa su propio sistema de datetimes.\n",
    "`pd.to_datetimes` nos permite convertir una `Serie` o un `DataFrame` en una `Serie` de datetimes."
   ]
  },
  {
   "cell_type": "code",
   "execution_count": null,
   "id": "1049441a",
   "metadata": {},
   "outputs": [],
   "source": [
    "temp_df"
   ]
  },
  {
   "cell_type": "code",
   "execution_count": null,
   "id": "6bb7eb34",
   "metadata": {},
   "outputs": [],
   "source": [
    "dates = temp_df.loc[:, [\"Year\", \"Month\"]].copy() # seleccionar columnas de fecha\n",
    "dates.loc[:, \"Day\"] = 1 # crear columna \"Dia\"\n",
    "\n",
    "dates = dates.astype(str)\n",
    "concat_dates = (\n",
    "    dates.loc[:, 'Year']\n",
    "    + ' '\n",
    "    +  dates.loc[:, 'Month'] \n",
    "    + ' '\n",
    "    + dates.loc[:, 'Day']\n",
    ")\n",
    "\n",
    "concat_dates # columna str"
   ]
  },
  {
   "cell_type": "code",
   "execution_count": null,
   "id": "c01f3692",
   "metadata": {},
   "outputs": [],
   "source": [
    "# transformar a datetime\n",
    "parsed_dates = pd.to_datetime(concat_dates)\n",
    "\n",
    "# creamos esta columna en el dataframe\n",
    "temp_df.loc[:, 'dates'] = parsed_dates\n",
    "temp_df"
   ]
  },
  {
   "cell_type": "markdown",
   "id": "ef515e0f",
   "metadata": {},
   "source": [
    "#### Indexado\n",
    "\n",
    "Podemos fijar las fechas como índices y luego indexar por rangos de estas"
   ]
  },
  {
   "cell_type": "code",
   "execution_count": null,
   "id": "6bac824d",
   "metadata": {},
   "outputs": [],
   "source": [
    "temperaturas_por_fecha = temp_df.set_index(\"dates\")\n",
    "temperaturas_por_fecha"
   ]
  },
  {
   "cell_type": "code",
   "execution_count": null,
   "id": "07faac53",
   "metadata": {},
   "outputs": [],
   "source": [
    "# Rango 1995-1-1 al 199-12-1\n",
    "temperaturas_por_fecha.loc[\"1995-1-1\":\"1999-12-1\"]"
   ]
  },
  {
   "cell_type": "code",
   "execution_count": null,
   "id": "122c2563",
   "metadata": {},
   "outputs": [],
   "source": [
    "temperaturas_por_fecha.loc[\"1999-11-1\":\"1999-12-1\"]"
   ]
  },
  {
   "cell_type": "markdown",
   "id": "849c3f4f",
   "metadata": {},
   "source": [
    "#### Timedeltas\n",
    "\n",
    "Podemos también sumar/restar unidades de tiempo a columnas `datetime` en Pandas"
   ]
  },
  {
   "cell_type": "code",
   "execution_count": null,
   "id": "40ed73a9",
   "metadata": {},
   "outputs": [],
   "source": [
    "ptd1 = pd.Timedelta(weeks=2)\n",
    "ptd1"
   ]
  },
  {
   "cell_type": "code",
   "execution_count": null,
   "id": "7f960e95",
   "metadata": {},
   "outputs": [],
   "source": [
    "temp_df.loc[:, \"dates\"] + ptd1"
   ]
  },
  {
   "cell_type": "markdown",
   "id": "c00c34d2",
   "metadata": {},
   "source": [
    "---\n",
    "\n",
    "##  8. Categorías\n",
    "\n",
    "Una variable categórica es un tipo de dato que puede tomar un número limitado (y usualmente fijo) de posibles valores.\n",
    "Ejemplos de esto: Género, clase social, tipo de sangre, etc...\n",
    "\n",
    "En general, guardar los datos como categóricos es mucho más eficiente que guardarlos como string. Según la referencia de pandas:\n",
    "\n",
    "> The memory usage of a Categorical is proportional to the number of categories plus the length of the data. In contrast, an object dtype is a constant times the length of the data.\n",
    "\n",
    "Como ejemplo, usaremos los continentes a los que pertenece cada país:"
   ]
  },
  {
   "cell_type": "code",
   "execution_count": null,
   "id": "e1d17ad7",
   "metadata": {},
   "outputs": [],
   "source": [
    "countries = pd.read_csv(\n",
    "    \"https://raw.githubusercontent.com/MDS7202/MDS7202/main/recursos/2023-01/11-Pandas4/country-and-continent.csv\"\n",
    ")\n",
    "countries = countries.loc[:, [\"Continent_Name\", \"Country_Name\"]]\n",
    "countries"
   ]
  },
  {
   "cell_type": "markdown",
   "id": "feb61c42",
   "metadata": {},
   "source": [
    "Declaramos una variable como categórica transformando la serie a `category` con `.astype(\"category\")`:"
   ]
  },
  {
   "cell_type": "code",
   "execution_count": null,
   "id": "2b50b112",
   "metadata": {},
   "outputs": [],
   "source": [
    "countries[\"Continent_Name\"]"
   ]
  },
  {
   "cell_type": "code",
   "execution_count": null,
   "id": "335de18d",
   "metadata": {},
   "outputs": [],
   "source": [
    "countries[\"Continent_Name\"] = countries.loc[:, \"Continent_Name\"].astype(\"category\")\n",
    "countries[\"Continent_Name\"]"
   ]
  },
  {
   "cell_type": "markdown",
   "id": "4da20fc2",
   "metadata": {},
   "source": [
    "Podemos acceder a las categorías con:"
   ]
  },
  {
   "cell_type": "code",
   "execution_count": null,
   "id": "a6cd51ba",
   "metadata": {},
   "outputs": [],
   "source": [
    "countries[\"Continent_Name\"].cat.categories"
   ]
  },
  {
   "cell_type": "markdown",
   "id": "cddc7550",
   "metadata": {},
   "source": [
    "Podemos renombrar categorias de la siguiente manera:"
   ]
  },
  {
   "cell_type": "code",
   "execution_count": null,
   "id": "242412a5",
   "metadata": {},
   "outputs": [],
   "source": [
    "countries[\"Continent_Name\"] = countries[\"Continent_Name\"].cat.rename_categories(\n",
    "    {\n",
    "        \"Europe\": \"Europa\",\n",
    "    }\n",
    ")"
   ]
  },
  {
   "cell_type": "markdown",
   "id": "b44da3ba",
   "metadata": {},
   "source": [
    "Se pueden agregar categorías"
   ]
  },
  {
   "cell_type": "code",
   "execution_count": null,
   "id": "9c5f3a8d",
   "metadata": {},
   "outputs": [],
   "source": [
    "countries[\"Continent_Name\"].cat.add_categories([\"Atlantida\"])"
   ]
  },
  {
   "cell_type": "markdown",
   "id": "6f6445e2",
   "metadata": {},
   "source": [
    "Como también eliminar las no usadas:"
   ]
  },
  {
   "cell_type": "code",
   "execution_count": null,
   "id": "9cd65ebe",
   "metadata": {},
   "outputs": [],
   "source": [
    "# Remover las no usadas\n",
    "countries[\"Continent_Name\"].cat.remove_unused_categories()"
   ]
  },
  {
   "cell_type": "markdown",
   "id": "a49eb408",
   "metadata": {},
   "source": [
    "O incluso, eliminar una categoría completa. Noten que esto transforma valores de esa categoría a `NaN`."
   ]
  },
  {
   "cell_type": "code",
   "execution_count": null,
   "id": "b892e189",
   "metadata": {},
   "outputs": [],
   "source": [
    "# Como también remover una categoría completa.\n",
    "countries[\"Continent_Name\"].cat.remove_categories([\"Europa\"])"
   ]
  },
  {
   "cell_type": "markdown",
   "id": "b57098a5",
   "metadata": {},
   "source": [
    "---\n",
    "\n",
    "## 9. Ordinales\n",
    "\n",
    "Una variable ordinal es un tipo de variable categórica que representa una característica o atributo que se puede **ordenar** en diferentes niveles categorías bajo un orden predefinido.\n",
    "\n",
    "Por ejemplo, hagamos una clasificación muy simple del clima a partir de la temperatura media. Para esto, calculemos quintiles:\n",
    "\n",
    "> Nota: Los elementos meteorológicos a tomar en cuenta para definir un clima son la temperatura, la presión, el viento, la humedad y la precipitación. Referencias: https://es.wikipedia.org/wiki/Clima"
   ]
  },
  {
   "cell_type": "code",
   "execution_count": null,
   "id": "9de471cf",
   "metadata": {},
   "outputs": [],
   "source": [
    "# Preparemos el dataset\n",
    "\n",
    "temp_agg = temp_df.groupby(\"Country\").agg({\"Temperature\": [\"mean\", \"std\"]})\n",
    "\n",
    "temp_agg.columns = temp_agg.columns.droplevel()\n",
    "temp_agg = temp_agg.reset_index()\n",
    "temp_agg.columns = [\"Country\", \"Mean temperature\", \"Std temperature\"]\n",
    "temp_agg\n",
    "\n",
    "merged_df = pd.merge(\n",
    "    temp_agg,\n",
    "    countries,\n",
    "    how=\"left\",\n",
    "    left_on=\"Country\",\n",
    "    right_on=\"Country_Name\",\n",
    ")\n",
    "\n",
    "# obtenemos la media de temperatura\n",
    "mean_temp = merged_df[\"Mean temperature\"]\n",
    "mean_temp\n"
   ]
  },
  {
   "cell_type": "code",
   "execution_count": null,
   "id": "6cdfb32d",
   "metadata": {},
   "outputs": [],
   "source": [
    "# quintiles nombrados\n",
    "clima_ordinal = pd.qcut(\n",
    "    mean_temp, 5, labels=[\"Polar\", \"Frio\", \"Templado\", \"Calido\", \"Muy Calido\"]\n",
    ")\n",
    "clima_ordinal"
   ]
  },
  {
   "cell_type": "code",
   "execution_count": null,
   "id": "60973cfa",
   "metadata": {},
   "outputs": [],
   "source": [
    "clima_ordinal.min()"
   ]
  },
  {
   "cell_type": "code",
   "execution_count": null,
   "id": "8cff5617",
   "metadata": {},
   "outputs": [],
   "source": [
    "clima_ordinal.max()"
   ]
  },
  {
   "cell_type": "code",
   "execution_count": null,
   "id": "400c32a5",
   "metadata": {},
   "outputs": [],
   "source": [
    "clima_ordinal.value_counts()"
   ]
  },
  {
   "cell_type": "code",
   "execution_count": null,
   "id": "c7f175f1",
   "metadata": {},
   "outputs": [],
   "source": [
    "clima_ordinal.mode()"
   ]
  },
  {
   "cell_type": "code",
   "execution_count": null,
   "id": "5183364b",
   "metadata": {},
   "outputs": [],
   "source": [
    "clima_ordinal.sort_values()"
   ]
  }
 ],
 "metadata": {
  "kernelspec": {
   "display_name": "Python 3 (ipykernel)",
   "language": "python",
   "name": "python3"
  },
  "language_info": {
   "codemirror_mode": {
    "name": "ipython",
    "version": 3
   },
   "file_extension": ".py",
   "mimetype": "text/x-python",
   "name": "python",
   "nbconvert_exporter": "python",
   "pygments_lexer": "ipython3",
   "version": "3.10.9"
  },
  "toc": {
   "base_numbering": 1,
   "nav_menu": {},
   "number_sections": true,
   "sideBar": true,
   "skip_h1_title": true,
   "title_cell": "Table of Contents",
   "title_sidebar": "Contents",
   "toc_cell": true,
   "toc_position": {},
   "toc_section_display": true,
   "toc_window_display": false
  },
  "varInspector": {
   "cols": {
    "lenName": 16,
    "lenType": 16,
    "lenVar": 40
   },
   "kernels_config": {
    "python": {
     "delete_cmd_postfix": "",
     "delete_cmd_prefix": "del ",
     "library": "var_list.py",
     "varRefreshCmd": "print(var_dic_list())"
    },
    "r": {
     "delete_cmd_postfix": ") ",
     "delete_cmd_prefix": "rm(",
     "library": "var_list.r",
     "varRefreshCmd": "cat(var_dic_list()) "
    }
   },
   "types_to_exclude": [
    "module",
    "function",
    "builtin_function_or_method",
    "instance",
    "_Feature"
   ],
   "window_display": false
  }
 },
 "nbformat": 4,
 "nbformat_minor": 5
}
