{
 "cells": [
  {
   "cell_type": "markdown",
   "metadata": {
    "id": "rtS08lU0FxGl"
   },
   "source": [
    "<img src=\"https://www.dii.uchile.cl/wp-content/uploads/2021/06/Magi%CC%81ster-en-Ciencia-de-Datos.png\" width=350 />"
   ]
  },
  {
   "cell_type": "markdown",
   "metadata": {
    "id": "u7PVZO_O8KDN"
   },
   "source": [
    "\n",
    "# Clase 7: PySpark 🗄️\n",
    "**MDS7202: Laboratorio de Programación Científica para Ciencia de Datos**"
   ]
  },
  {
   "cell_type": "markdown",
   "metadata": {
    "id": "C-C9I34s8XG6"
   },
   "source": [
    "### Objetivos de la clase\n",
    "\n",
    "- **Aprender los conceptos básicos de Spark:** Aprender que es spark y que funcionalidades y capacidades nos ofrece este framework.\n",
    "\n",
    "- **Apoyar la computación paralela y el procesamiento distribuido:** Entender y aprovechar las capacidades de Spark para la computación paralela, con el objetivo de realizar operaciones sobre grandes colecciones de datos de manera eficiente en un entorno distribuido.\n"
   ]
  },
  {
   "cell_type": "markdown",
   "metadata": {
    "id": "L_7HEt1_zv8t"
   },
   "source": [
    "# Motivación\n"
   ]
  },
  {
   "cell_type": "markdown",
   "metadata": {
    "id": "hbvfjtUH7U0k"
   },
   "source": [
    "> **Pregunta ❓**: ¿Qué son los procesos productivos?"
   ]
  },
  {
   "cell_type": "markdown",
   "metadata": {
    "id": "KzO76HNf4nun"
   },
   "source": [
    "<center>\n",
    "<img src=\"https://github.com/MDS7202/MDS7202/blob/main/clases/2024-01/imagenes_clase_7/putting-machine-learning-into-production.png?raw=true\" width=600/>"
   ]
  },
  {
   "cell_type": "markdown",
   "metadata": {
    "id": "lhUWDIao3AEm"
   },
   "source": [
    "## Extract-Transform-Load (ETL)\n",
    "\n",
    "\n",
    "Una ETL es como una cocina de un restaurante donde llegan ingredientes de varios lugares (la \"extracción\"), se limpian y preparan (la \"transformación\"), y luego se combinan para crear platos que se sirven en el comedor o se envían a domicilio (la \"carga\"). En el mundo de los datos, ETL es el proceso de tomar datos de diferentes lugares, limpiarlos y organizarlos para que tengan sentido juntos, y finalmente ponerlos en una base de datos o sistema donde las personas puedan usarlos fácilmente para tomar decisiones o entender mejor algo."
   ]
  },
  {
   "cell_type": "markdown",
   "metadata": {
    "id": "SSqhB8gw6mgr"
   },
   "source": [
    "<center>\n",
    "<img src=\"https://github.com/MDS7202/MDS7202/blob/main/clases/2024-01/imagenes_clase_7/etl.png?raw=true\" width=500 />"
   ]
  },
  {
   "cell_type": "markdown",
   "metadata": {
    "id": "utLgzaPJ3uLR"
   },
   "source": [
    "> **Pregunta ❓**: ¿Comó podriamos tratar diferentes conjuntos de datos tabulares y realizar trasnformaciones y merges sobre ellos?"
   ]
  },
  {
   "cell_type": "markdown",
   "metadata": {
    "id": "-epXdhlsz1fL"
   },
   "source": [
    "En las clases anteriores, exploramos una libreria diseñada para el manejo de datos en estructuras tabulares (`Pandas`). Esta biblioteca facilita el trabajo con estructuras de datos conocidas como `DataFrames`, proporcionando un medio intuitivo para manipular datos a través de operaciones optimizadas. Una ventaja notable es el paralelismo inherente a su implementación, atribuible a que gran parte de su código subyacente está escrito en C, lo que mejora significativamente el rendimiento.\n",
    "\n",
    "> **Pregunta ❓**: ¿Cuál es la desventaja de utilizar pandas en escenarios con grandes volúmenes de datos?"
   ]
  },
  {
   "cell_type": "markdown",
   "metadata": {
    "id": "a8qrBRiWzwW4"
   },
   "source": [
    "## Problemas que puede presentar Pandas en producción\n",
    "\n",
    "1. **Gestión de Memoria:** Pandas emplea una evaluación ansiosa (`Eager Evaluation`), lo que significa que ejecuta operaciones inmediatamente después de que se llaman. Esta característica, combinada con la inferencia automática de tipos de datos y el uso de objetos de Python, puede resultar en una gestión ineficiente de la memoria. Esto es particularmente notable cuando se manejan grandes conjuntos de datos, donde el consumo excesivo de memoria puede ser un problema.\n",
    "\n",
    "2. **Desempeño con Grandes Volumenes de Datos:** Pandas es excelente en el análisis de conjuntos de datos de tamaño moderado, pero su desempeño puede verse comprometido al trabajar con volúmenes de datos más grandes. Esta limitación surge en parte debido a su dependencia de NumPy, que, aunque potente, no está optimizado para operar con grandes cantidades de datos ni para ejecutar operaciones de forma paralela o distribuida.\n",
    "\n",
    "3. **Capacidad para Operaciones Paralelas y Distribuidas:** De forma inherente, Pandas no fue diseñado para soportar computación paralela o distribuida. Enfrentar desafíos con conjuntos de datos que superan la capacidad de memoria de una sola máquina implica explorar alternativas y soluciones adicionales. Herramientas como Dask ofrecen paralelización, mientras que la transición a sistemas especializados en procesamiento distribuido, como Apache Spark, puede ser necesaria para manejar eficientemente estas situaciones."
   ]
  },
  {
   "cell_type": "markdown",
   "metadata": {
    "id": "P5fujed94tXI"
   },
   "source": [
    "<center>\n",
    "<img src=\"https://github.com/MDS7202/MDS7202/blob/main/clases/2024-01/imagenes_clase_7/Pandas-vs-Spark-2.png?raw=true\" width=350/>\n",
    "\n",
    "<img src=\"https://github.com/MDS7202/MDS7202/blob/main/clases/2024-01/imagenes_clase_7/PandasVsPySpark1.png?raw=true\" width=350/>"
   ]
  },
  {
   "cell_type": "markdown",
   "metadata": {
    "id": "wI7WRtVCGPyR"
   },
   "source": [
    "> **Nota 📝:** Una importante limitación al utilizar Pandas en ambientes de producción es su manejo de grandes conjuntos de datos. Cuando estos exceden la capacidad de memoria disponible, puede provocar que el código falle debido a errores de memoria insuficiente. Esta característica subraya la importancia de considerar otras herramientas o estrategias para el manejo de datos a gran escala."
   ]
  },
  {
   "cell_type": "markdown",
   "metadata": {
    "id": "w5KGKh568BKZ"
   },
   "source": [
    "# Spark + Python = Pyspark"
   ]
  },
  {
   "cell_type": "markdown",
   "metadata": {
    "id": "fDoOGAzpE0DR"
   },
   "source": [
    "<center>\n",
    "<img src=\"https://github.com/MDS7202/MDS7202/blob/main/clases/2024-01/imagenes_clase_7/pyspark.jpeg?raw=true\" width=500 />"
   ]
  },
  {
   "cell_type": "markdown",
   "metadata": {
    "id": "z8Pc1MhK8K3j"
   },
   "source": [
    "**Apache Spark** es un potente motor unificado, diseñado para el procesamiento de datos a gran escala, tanto en centros de datos físicos como en entornos de nube. Se distingue por ofrecer almacenamiento en memoria para cálculos intermedios, lo que acelera significativamente sus operaciones en comparación con Hadoop MapReduce. Además, su API integra bibliotecas avanzadas para aprendizaje automático, consultas SQL interactivas, streaming de datos y procesamiento de gráficos mediante GraphX.\n",
    "\n",
    "Para superar las limitaciones de Hadoop, Spark se fundamenta en cuatro pilares esenciales en su diseño:\n",
    "\n",
    "- **Velocidad:** Aprovecha los avances en hardware, como el incremento en gigabytes y núcleos de procesador, para maximizar el uso de recursos. Mejora la velocidad mediante la construcción de cálculos como Gráficos Acíclicos Dirigidos (DAGs), que optimizan y programan las tareas para una ejecución paralela eficiente. Su motor de ejecución también perfecciona la generación de código, produciendo ejecutables compactos y eficientes.\n",
    "\n",
    "- **Facilidad de uso:** Introduce el Resilient Distributed Dataset (RDD), una estructura de datos que simplifica la manipulación de información tabular de forma inmutable.\n",
    "\n",
    "- **Modularidad:** Compatible con múltiples lenguajes de programación, Spark proporciona una amplia gama de módulos para el manejo de datos y aprendizaje automático, facilitando su integración y uso en diversos contextos.\n",
    "\n",
    "- **Extensibilidad:** Mientras se enfoca en el paralelismo para el procesamiento veloz, permite la separación entre cómputo y almacenamiento, lo que habilita la lectura de diversos tipos de datos (como Amazon S3 y Azure) para su procesamiento en memoria.\n",
    "\n",
    "Esta filosofía de diseño convierte a Spark en una solución avanzada y flexible para el procesamiento de grandes volúmenes de datos, adaptándose a las necesidades de proyectos modernos de big data y análisis."
   ]
  },
  {
   "cell_type": "markdown",
   "metadata": {
    "id": "lkVG8u5jH8QO"
   },
   "source": [
    "<center>\n",
    "<img src=\"https://github.com/MDS7202/MDS7202/blob/main/clases/2024-01/imagenes_clase_7/sparkframework.png?raw=true\" width=500>"
   ]
  },
  {
   "cell_type": "markdown",
   "metadata": {
    "id": "-g7BOWd7L9H3"
   },
   "source": [
    "\n",
    "> **Nota 📝:** ¿Como empezo esto? En 2009, un equipo de investigadores de la Universidad de Berkeley, previamente involucrados en el desarrollo de MapReduce, inició un proyecto conocido como Spark. Su objetivo era crear un framework que fuera simple, rápido y fácil de usar. Desde sus inicios, Spark demostró ser significativamente más rápido que Hadoop, superando su velocidad de procesamiento en un factor de 10 a 20 veces, una mejora que ha aumentado aún más con el tiempo. Para 2013, Spark había ganado popularidad y sus creadores lo donaron a la Apache Software Foundation (ASF), estableciendo también la compañía Databricks. El proyecto alcanzó otro hito importante en 2014 con el lanzamiento de Apache Spark 1.0."
   ]
  },
  {
   "cell_type": "markdown",
   "metadata": {
    "id": "UW5UZhB-4ORM"
   },
   "source": [
    "## Ejecución Distribuida de Apache Spark"
   ]
  },
  {
   "cell_type": "markdown",
   "metadata": {
    "id": "97tthwiGKX7A"
   },
   "source": [
    "<center>\n",
    "<img src=\"https://github.com/MDS7202/MDS7202/blob/main/clases/2024-01/imagenes_clase_7/sparkdriver.png?raw=true\" width=500>"
   ]
  },
  {
   "cell_type": "markdown",
   "metadata": {
    "id": "n4MHSwHS8wJA"
   },
   "source": [
    "En términos generales, la arquitectura de Spark está diseñada alrededor de una aplicación de Spark, que se compone de un programa conductor. Este programa tiene la tarea fundamental de coordinar de manera paralela las diversas operaciones que se llevan a cabo en el clúster de Spark. La comunicación del conductor con las componentes distribuidas del sistema (como los ejecutores y el gestor del clúster) se facilita mediante una `SparkSession`.\n",
    "\n",
    "**Spark Driver:** Es el corazón de una aplicación de Spark, encargado de instanciar la `SparkSession`. Sus principales funciones incluyen comunicarse con el gestor del clúster para solicitar recursos (CPU, memoria, entre otros) que serán utilizados por los ejecutores de Spark, y transformar las operaciones definidas en el código en gráficos acíclicos dirigidos (DAGs), que permiten una ejecución eficiente de las tareas.\n",
    "\n",
    "**SparkSession:** Actúa como el punto de entrada para la programación con Spark, ofreciendo una interfaz unificada para diversas operaciones y manipulación de datos dentro de Spark. A través de la `SparkSession`, se pueden crear entornos de ejecución JVM, definir DataFrames y DataSets, leer fuentes de datos, acceder a metadatos, y ejecutar consultas SQL.\n",
    "\n",
    "**Cluster Manager:** Es el encargado de administrar y asignar los recursos disponibles en el clúster de nodos donde se ejecuta la aplicación de Spark. Su rol es crucial para asegurar que los recursos se utilicen de manera eficiente y que las tareas se distribuyan adecuadamente entre los nodos disponibles.\n",
    "\n",
    "**Spark Executor:** Opera en cada nodo trabajador dentro del clúster, comunicándose directamente con el programa conductor. Los ejecutores son responsables de llevar a cabo las tareas asignadas por el conductor en los nodos de trabajo, procesando datos y devolviendo los resultados al conductor.\n",
    "\n",
    "Esta estructura proporciona a Spark la flexibilidad y escalabilidad necesarias para procesar grandes volúmenes de datos de manera eficiente, permitiendo a las aplicaciones aprovechar al máximo los recursos computacionales disponibles."
   ]
  },
  {
   "cell_type": "markdown",
   "metadata": {
    "id": "qUasZsA-9ywG"
   },
   "source": [
    "### Nuestro primero SparkContext\n",
    "\n",
    "Para iniciar con PySpark, es necesario realizar algunos pasos de configuración previos. Primero, instala la biblioteca pyspark junto con Java 8. Luego, ajusta las variables de entorno adecuadamente para asegurar que el sistema opere sin errores:"
   ]
  },
  {
   "cell_type": "code",
   "execution_count": 2,
   "metadata": {
    "colab": {
     "base_uri": "https://localhost:8080/"
    },
    "id": "ubhXKpI5B4-q",
    "outputId": "69a4d5fd-ae0d-41c9-cf00-3a4f9f0b9fb2"
   },
   "outputs": [
    {
     "name": "stdout",
     "output_type": "stream",
     "text": [
      "Collecting pyspark\n",
      "  Downloading pyspark-3.5.1.tar.gz (317.0 MB)\n",
      "\u001b[2K     \u001b[90m━━━━━━━━━━━━━━━━━━━━━━━━━━━━━━━━━━━━━━━━\u001b[0m \u001b[32m317.0/317.0 MB\u001b[0m \u001b[31m2.3 MB/s\u001b[0m eta \u001b[36m0:00:00\u001b[0m\n",
      "\u001b[?25h  Preparing metadata (setup.py) ... \u001b[?25l\u001b[?25hdone\n",
      "Requirement already satisfied: py4j==0.10.9.7 in /usr/local/lib/python3.10/dist-packages (from pyspark) (0.10.9.7)\n",
      "Building wheels for collected packages: pyspark\n",
      "  Building wheel for pyspark (setup.py) ... \u001b[?25l\u001b[?25hdone\n",
      "  Created wheel for pyspark: filename=pyspark-3.5.1-py2.py3-none-any.whl size=317488491 sha256=f7dc9f882cff0bc4cf6d9f671d3986a5f2ff294d8daf2dfe50906438b927555b\n",
      "  Stored in directory: /root/.cache/pip/wheels/80/1d/60/2c256ed38dddce2fdd93be545214a63e02fbd8d74fb0b7f3a6\n",
      "Successfully built pyspark\n",
      "Installing collected packages: pyspark\n",
      "Successfully installed pyspark-3.5.1\n"
     ]
    }
   ],
   "source": [
    "!pip install pyspark\n",
    "!apt-get install openjdk-8-jdk-headless -qq > /dev/null\n",
    "\n",
    "import os\n",
    "os.environ[\"JAVA_HOME\"] = \"/usr/lib/jvm/java-8-openjdk-amd64\""
   ]
  },
  {
   "cell_type": "code",
   "execution_count": 3,
   "metadata": {
    "colab": {
     "base_uri": "https://localhost:8080/",
     "height": 35
    },
    "id": "kBYdFmTN8Yya",
    "outputId": "94206880-c38f-46b3-880f-c4f5c83e9eb1"
   },
   "outputs": [
    {
     "data": {
      "application/vnd.google.colaboratory.intrinsic+json": {
       "type": "string"
      },
      "text/plain": [
       "'3.5.1'"
      ]
     },
     "execution_count": 3,
     "metadata": {},
     "output_type": "execute_result"
    }
   ],
   "source": [
    "import pyspark\n",
    "pyspark.__version__"
   ]
  },
  {
   "cell_type": "markdown",
   "metadata": {
    "id": "lNyhxEo7ODfW"
   },
   "source": [
    "\n",
    "Cuando trabajas con PySpark, iniciar el `SparkContext` es uno de los primeros pasos que debes realizar. El SparkContext es el corazón de cualquier aplicación Spark, ya que actúa como el principal punto de entrada a las funcionalidades de Spark. Permite a Spark acceder a los recursos del cluster y ejecutar operaciones en conjunto de datos distribuidos. Aquí tienes una explicación paso a paso de cómo se inicia el SparkContext usando el código proporcionado:"
   ]
  },
  {
   "cell_type": "code",
   "execution_count": 4,
   "metadata": {
    "colab": {
     "base_uri": "https://localhost:8080/",
     "height": 197
    },
    "id": "GVnGWSdGBiQ5",
    "outputId": "2890a6fd-5621-4764-fc74-fc0810298454"
   },
   "outputs": [
    {
     "data": {
      "text/html": [
       "\n",
       "        <div>\n",
       "            <p><b>SparkContext</b></p>\n",
       "\n",
       "            <p><a href=\"http://11fb6248a889:4040\">Spark UI</a></p>\n",
       "\n",
       "            <dl>\n",
       "              <dt>Version</dt>\n",
       "                <dd><code>v3.5.1</code></dd>\n",
       "              <dt>Master</dt>\n",
       "                <dd><code>local</code></dd>\n",
       "              <dt>AppName</dt>\n",
       "                <dd><code>Ejemplo con RDD</code></dd>\n",
       "            </dl>\n",
       "        </div>\n",
       "        "
      ],
      "text/plain": [
       "<SparkContext master=local appName=Ejemplo con RDD>"
      ]
     },
     "execution_count": 4,
     "metadata": {},
     "output_type": "execute_result"
    }
   ],
   "source": [
    "from pyspark import SparkConf, SparkContext\n",
    "\n",
    "conf = SparkConf().setMaster(\"local\").setAppName(\"Ejemplo con RDD\")\n",
    "\n",
    "# Inicializo el Spark Context\n",
    "sc = SparkContext(conf = conf)\n",
    "\n",
    "sc"
   ]
  },
  {
   "cell_type": "markdown",
   "metadata": {
    "id": "LANZerwPE6gA"
   },
   "source": [
    "Después de haber inicializado un SparkContext, ya podemos utilizar todos los métodos para crear y manipular RDDs, Dataframes, y Datasets que son las estructuras de datos presentes en Spark."
   ]
  },
  {
   "cell_type": "markdown",
   "metadata": {
    "id": "xNh-lrBnChOP"
   },
   "source": [
    "### Datos Distribuidos y particiones\n",
    "\n",
    "Los datos se distribuyen físicamente a través de sistemas de almacenamiento, como HDFS o servicios de almacenamiento en la nube, organizados en particiones. Spark aborda estas particiones utilizando conceptos de alto nivel para procesar los datos de manera eficiente."
   ]
  },
  {
   "cell_type": "markdown",
   "metadata": {
    "id": "mJ1eayH3Cy-O"
   },
   "source": [
    "<center>\n",
    "<img src=\"https://github.com/MDS7202/MDS7202/blob/main/clases/2024-01/imagenes_clase_7/partitions.png?raw=true\" width=500 />"
   ]
  },
  {
   "cell_type": "markdown",
   "metadata": {
    "id": "7woa4hb5DZJh"
   },
   "source": [
    "El particionamiento de datos es clave para optimizar el rendimiento, ya que promueve el paralelismo. Al distribuir los datos en segmentos o particiones, se facilita que los ejecutores (executors) de Spark procesen datos que se encuentran físicamente más próximos a ellos, reduciendo así el uso del ancho de banda necesario para la transferencia de datos. De este modo, a cada núcleo de procesamiento de un ejecutor se le asigna una partición específica sobre la cual trabajar, maximizando la eficiencia del procesamiento y minimizando el tiempo de ejecución."
   ]
  },
  {
   "cell_type": "markdown",
   "metadata": {
    "id": "g5E5xSZSDZv4"
   },
   "source": [
    "<center>\n",
    "<img src=\"https://github.com/MDS7202/MDS7202/blob/main/clases/2024-01/imagenes_clase_7/partitionandexecutors.png?raw=true\" width=500 />"
   ]
  },
  {
   "cell_type": "markdown",
   "metadata": {
    "id": "4tt4rkOmDx8R"
   },
   "source": [
    "\n",
    "Pregunta ❓: ¿Cómo se visualizan los datos particionados dentro de las carpetas?"
   ]
  },
  {
   "cell_type": "markdown",
   "metadata": {
    "id": "6-eFGGRQDyj-"
   },
   "source": [
    "```sql\n",
    "data/\n",
    "├── year=2023/\n",
    "│   ├── month=01/\n",
    "│   │   ├── day=01/\n",
    "│   │   │   ├── datafile1.parquet\n",
    "│   │   │   ├── datafile2.parquet\n",
    "│   │   ├── day=02/\n",
    "│   │   │   ├── datafile1.parquet\n",
    "│   │   │   ├── datafile2.parquet\n",
    "│   │   ...\n",
    "│   ├── month=02/\n",
    "│   │   ├── day=01/\n",
    "│   │   │   ├── datafile1.parquet\n",
    "│   │   │   ├── datafile2.parquet\n",
    "│   │   ...\n",
    "│   ...\n",
    "├── year=2024/\n",
    "│   ├── month=01/\n",
    "│   │   ├── day=01/\n",
    "│   │   │   ├── datafile1.parquet\n",
    "│   │   │   ├── datafile2.parquet\n",
    "│   │   ...\n",
    "│   ...\n",
    "```"
   ]
  },
  {
   "cell_type": "markdown",
   "metadata": {
    "id": "zQxByzNIERJj"
   },
   "source": [
    "### Spark Jobs\n",
    "\n",
    "Durante una sesión interactiva de Spark, el nodo maestro (driver) descompone tu aplicación en uno o varios trabajos de Spark. Es importante señalar que cada trabajo se organiza en un Gráfico Acíclico Dirigido (DAG), donde cada nodo del DAG puede representar una o varias etapas (stages) en el proceso de Spark."
   ]
  },
  {
   "cell_type": "markdown",
   "metadata": {
    "id": "jSF4uEsFE1Qg"
   },
   "source": [
    "<center>\n",
    "<img src=\"https://github.com/MDS7202/MDS7202/blob/main/clases/2024-01/imagenes_clase_7/sparkjobs.png?raw=true\" width=500 />"
   ]
  },
  {
   "cell_type": "markdown",
   "metadata": {
    "id": "lme-812jExnu"
   },
   "source": [
    "**Etapas en Spark:** Dentro de los nodos del DAG, las etapas se establecen en función de las operaciones que pueden ejecutarse de manera secuencial o en paralelo. Sin embargo, dado que no todas las operaciones pueden completarse en una sola etapa, estas pueden subdividirse en múltiples etapas que facilitan la transferencia de datos entre los ejecutores."
   ]
  },
  {
   "cell_type": "markdown",
   "metadata": {
    "id": "Jhl9O4eYGv49"
   },
   "source": [
    "<center>\n",
    "<img src=\"https://github.com/MDS7202/MDS7202/blob/main/clases/2024-01/imagenes_clase_7/sparksstages.png?raw=true\" width=500 />"
   ]
  },
  {
   "cell_type": "markdown",
   "metadata": {
    "id": "TcPDxlueE0kI"
   },
   "source": [
    "**Tareas en Spark:** Cada etapa incluye varias tareas, y cada tarea se asigna a un núcleo de procesador, operando exclusivamente sobre una partición de datos. Este aspecto es crucial, ya que un ejecutor con 12 núcleos puede gestionar 12 o más tareas simultáneamente sobre 12 o más particiones de datos en paralelo. Este diseño permite que Spark alcance un alto grado de paralelismo y eficiencia en el procesamiento de datos."
   ]
  },
  {
   "cell_type": "markdown",
   "metadata": {
    "id": "QRAZhmIeE2Nc"
   },
   "source": [
    "<center>\n",
    "<img src=\"https://github.com/MDS7202/MDS7202/blob/main/clases/2024-01/imagenes_clase_7/sparktask.png?raw=true\" width=500 />"
   ]
  },
  {
   "cell_type": "markdown",
   "metadata": {
    "id": "3Uic43NJQUNw"
   },
   "source": [
    "Pregunta ❓: ¿Cómo se vería esto desglosada en Jobs, stages y tasks?"
   ]
  },
  {
   "cell_type": "markdown",
   "metadata": {
    "id": "ZUgN9jM8QRUB"
   },
   "source": [
    "```python\n",
    "# 1. Leer un archivo CSV\n",
    "df = spark.read.csv(\"path/to/csv/file.csv\", header=True, inferSchema=True)\n",
    "\n",
    "# 2. Filtrar las filas donde la edad es mayor a 30\n",
    "filtered_df = df.filter(df[\"edad\"] > 30)\n",
    "\n",
    "# 3. Contar el número de filas resultantes\n",
    "count = filtered_df.count()\n",
    "```"
   ]
  },
  {
   "cell_type": "markdown",
   "metadata": {
    "id": "4oNG4W-5Qf5d"
   },
   "source": [
    "Job: Toda la secuencia desde leer el archivo hasta contar las filas filtradas se considera un `Job` en Spark. Un job comienza con una acción, en este caso, `count()`. Cada vez que se solicita una acción en Spark, se crea un nuevo job.\n",
    "\n",
    "Stage: Los `stages` se dividen en función de las operaciones que requieren que los datos sean enviados a través del clúster (shuffle). En nuestro ejemplo simple, podríamos tener dos stages:\n",
    "\n",
    "  - Stage 1: Leer el archivo CSV y filtrar las filas. Este stage no requiere un shuffle porque tanto la lectura del archivo como el filtrado pueden realizarse en paralelo en cada partición del archivo sin necesidad de intercambio de datos entre particiones.\n",
    "\n",
    "  - Stage 2: Contar el número de filas. Este stage podría considerarse separado si el filtrado anterior implicara un shuffle de los datos (aunque en este ejemplo simple, es probable que Spark optimice esto en un único stage si no hay un motivo para un shuffle).\n",
    "\n",
    "Task: Las tareas son las unidades de trabajo más pequeñas que se envían a los ejecutores. Cada tarea trabaja en una partición de los datos y realiza las operaciones necesarias. Por ejemplo, en el primer stage, habría una tarea por partición del archivo CSV que primero leería su sección del archivo y luego aplicaría el filtro. La cantidad de tareas está determinada por el número de particiones en los datos."
   ]
  },
  {
   "cell_type": "markdown",
   "metadata": {
    "id": "MthXnH34EIhF"
   },
   "source": [
    "## Estructuras de Datos en Spark"
   ]
  },
  {
   "cell_type": "markdown",
   "metadata": {
    "id": "IvzxwTM4LmuE"
   },
   "source": [
    "### RDD"
   ]
  },
  {
   "cell_type": "markdown",
   "metadata": {
    "id": "uqXz-do_Lhfy"
   },
   "source": [
    "<center>\n",
    "<img src=\"https://github.com/MDS7202/MDS7202/blob/main/clases/2024-01/imagenes_clase_7/sparkrdd.png?raw=true\" width=500 />"
   ]
  },
  {
   "cell_type": "markdown",
   "metadata": {
    "id": "Ha4GJBIogCPw"
   },
   "source": [
    "\n",
    "\n",
    "Un RDD (Resilient Distributed Dataset) es una colección distribuida e inmutable de elementos que constituye el pilar fundamental de Apache Spark. Este modelo permite que Spark realice operaciones de computación en paralelo de manera eficiente, distribuyendo los datos a través del clúster y ejecutando operaciones en paralelo. **Los RDD son esenciales para entender la arquitectura y la ejecución de tareas en Spark**. Alguna de las caracteristicas vitales de RDD son:\n",
    "\n",
    "- Dependencias\n",
    "- Particiones\n",
    "- Computo de funciones: Partition => Iterator[T]\n",
    "\n",
    "A medida que Spark ha evolucionado, especialmente desde mediados de 2019, ha habido un cambio en el enfoque de manipulación de datos hacia estructuras más avanzadas como los DataFrames y los DataSets. Estas son abstracciones de nivel superior sobre los RDD, ofreciendo una interfaz más rica y optimizaciones automáticas, pero internamente, Spark sigue fundamentándose en el concepto de RDD."
   ]
  },
  {
   "cell_type": "markdown",
   "metadata": {
    "id": "jRe_d1RxJDZF"
   },
   "source": [
    "#### Creación de RDD\n",
    "\n",
    "Un RDD puede estar compuesto por distintos tipos de datos, incluyendo objetos de Python, Java, o Scala, y hasta clases definidas por el usuario. La distribución de estos datos se organiza en particiones, que pueden ser procesadas concurrentemente en varios nodos del clúster, aprovechando así la arquitectura distribuida de Spark.\n",
    "\n",
    "Existen dos enfoques principales para crear RDDs:\n",
    "\n",
    "1. **Distribuyendo una colección de objetos existentes**, como una lista o un set en el programa, lo cual se puede realizar mediante métodos como `sc.parallelize()`.\n",
    "2. **Cargando un conjunto de datos desde un origen externo**, lo cual se logra mediante el uso de métodos como `sc.textFile()`, permitiendo la lectura de archivos de texto y su conversión directa en RDD.\n",
    "\n",
    "EL primer ejemplo muestra como crear un conjunto de datos utilizando `sc.parallelize()`:"
   ]
  },
  {
   "cell_type": "code",
   "execution_count": 5,
   "metadata": {
    "colab": {
     "base_uri": "https://localhost:8080/"
    },
    "id": "k8Pc-RnlBWfy",
    "outputId": "1eb3a895-ec81-41ca-f323-067527057954"
   },
   "outputs": [
    {
     "data": {
      "text/plain": [
       "('Brooke', 22.5)"
      ]
     },
     "execution_count": 5,
     "metadata": {},
     "output_type": "execute_result"
    }
   ],
   "source": [
    "dataRDD = sc.parallelize([(\"Brooke\", 20), (\"Denny\", 31), (\"Jules\", 30),\n",
    "(\"TD\", 35), (\"Brooke\", 25)])\n",
    "\n",
    "# Usamos map reduce\n",
    "agesRDD = (\n",
    "    dataRDD.map(lambda x: (x[0], (x[1], 1)))\n",
    "    .reduceByKey(lambda x, y: (x[0] + y[0], x[1] + y[1]))\n",
    "    .map(lambda x: (x[0], x[1][0]/x[1][1]))\n",
    ")\n",
    "agesRDD.first()"
   ]
  },
  {
   "cell_type": "markdown",
   "metadata": {
    "id": "_dLeDNvhBYS8"
   },
   "source": [
    "El siguiente ejemplo ilustra la creación de un RDD a partir de un archivo externo utilizando el método `sc.textFile()`:"
   ]
  },
  {
   "cell_type": "code",
   "execution_count": 6,
   "metadata": {
    "colab": {
     "base_uri": "https://localhost:8080/"
    },
    "id": "jftKM4Fy66n6",
    "outputId": "dde219da-6aef-4a0a-f7aa-2854646ff92f"
   },
   "outputs": [
    {
     "name": "stdout",
     "output_type": "stream",
     "text": [
      "--2024-04-07 21:41:29--  https://raw.githubusercontent.com/MDS7202/MDS7202/main/clases/2024-01/imagenes_clase_7/Shrek-Script.txt\n",
      "Resolving raw.githubusercontent.com (raw.githubusercontent.com)... 185.199.110.133, 185.199.111.133, 185.199.108.133, ...\n",
      "Connecting to raw.githubusercontent.com (raw.githubusercontent.com)|185.199.110.133|:443... connected.\n",
      "HTTP request sent, awaiting response... 200 OK\n",
      "Length: 72841 (71K) [text/plain]\n",
      "Saving to: ‘Shrek-Script.txt’\n",
      "\n",
      "Shrek-Script.txt    100%[===================>]  71.13K  --.-KB/s    in 0.008s  \n",
      "\n",
      "2024-04-07 21:41:29 (8.29 MB/s) - ‘Shrek-Script.txt’ saved [72841/72841]\n",
      "\n"
     ]
    }
   ],
   "source": [
    "!wget https://raw.githubusercontent.com/MDS7202/MDS7202/main/clases/2024-01/imagenes_clase_7/Shrek-Script.txt"
   ]
  },
  {
   "cell_type": "code",
   "execution_count": 7,
   "metadata": {
    "colab": {
     "base_uri": "https://localhost:8080/"
    },
    "id": "a1ZVTg6AirCv",
    "outputId": "3b9915a7-5367-475b-a38f-58022d2ff637"
   },
   "outputs": [
    {
     "data": {
      "text/plain": [
       "('SHREK', 266)"
      ]
     },
     "execution_count": 7,
     "metadata": {},
     "output_type": "execute_result"
    }
   ],
   "source": [
    "# Cargamos archivo de texto\n",
    "text_file = sc.textFile(\"Shrek-Script.txt\")\n",
    "\n",
    "# Separo en palabras\n",
    "words = text_file.flatMap(lambda line: line.split(\" \"))\n",
    "\n",
    "# Transformo a clave-valor\n",
    "key_value = words.map(lambda word: (word, 1))\n",
    "\n",
    "# Agrupo por clave\n",
    "wordCounts = key_value.reduceByKey(lambda a,b:a +b)\n",
    "\n",
    "# Muestro el primero\n",
    "wordCounts.first()"
   ]
  },
  {
   "cell_type": "code",
   "execution_count": 8,
   "metadata": {
    "colab": {
     "base_uri": "https://localhost:8080/"
    },
    "id": "ZUDzr60b_l44",
    "outputId": "7e9c47b4-9c20-4f32-c7ba-47f08a48a97b"
   },
   "outputs": [
    {
     "name": "stdout",
     "output_type": "stream",
     "text": [
      "('SHREK', 266)\n",
      "('(2001)', 1)\n",
      "('Writer', 1)\n",
      "('Credits:', 1)\n",
      "('William', 1)\n",
      "('Steig', 1)\n",
      "('(Book);', 1)\n",
      "('Ted', 1)\n",
      "('Elliott,', 1)\n",
      "('Terry', 1)\n",
      "('Rossio,', 1)\n",
      "('Joe', 1)\n",
      "('Stillman', 1)\n",
      "('&', 5)\n",
      "('Roger', 1)\n",
      "('S.H.', 1)\n",
      "('Schulman', 1)\n",
      "('(Screenplay);', 1)\n",
      "('Cody', 1)\n",
      "('Cameron,', 1)\n",
      "('Chris', 1)\n",
      "('Miller', 1)\n",
      "('Conrad', 1)\n",
      "('Vernon', 1)\n",
      "('(Additional', 1)\n",
      "('Dialogue).', 1)\n",
      "('OPENING', 1)\n",
      "('SEQUENCE:', 1)\n",
      "('A', 15)\n",
      "('FAIRYTALE', 1)\n",
      "('BOOK', 1)\n",
      "('Voiceover:', 2)\n",
      "('Shrek', 140)\n",
      "('Once', 1)\n",
      "('upon', 3)\n",
      "('a', 285)\n",
      "('time', 8)\n",
      "('there', 9)\n",
      "('was', 31)\n",
      "('lovely', 3)\n",
      "('princess.', 10)\n",
      "('But', 30)\n",
      "('she', 17)\n",
      "('had', 7)\n",
      "('an', 21)\n",
      "('enchantment', 1)\n",
      "('her', 53)\n",
      "('of', 133)\n",
      "('fearful', 1)\n",
      "('sort', 1)\n",
      "('which', 10)\n",
      "('could', 6)\n",
      "('only', 9)\n",
      "('be', 38)\n",
      "('broken', 1)\n",
      "('by', 26)\n",
      "(\"love's\", 10)\n",
      "('first', 12)\n",
      "('kiss.', 5)\n",
      "('She', 29)\n",
      "('locked', 3)\n",
      "('away', 9)\n",
      "('in', 88)\n",
      "('castle', 4)\n",
      "('guarded', 1)\n",
      "('terrible', 1)\n",
      "('fire-breathing', 2)\n",
      "('dragon.', 5)\n",
      "('Many', 1)\n",
      "('brave', 3)\n",
      "('knights', 5)\n",
      "('attempted', 1)\n",
      "('to', 237)\n",
      "('free', 2)\n",
      "('from', 36)\n",
      "('this', 47)\n",
      "('dreadful', 1)\n",
      "('prison,', 1)\n",
      "('but', 36)\n",
      "('none', 1)\n",
      "('prevailed.', 1)\n",
      "('waited', 1)\n",
      "('the', 437)\n",
      "(\"dragon's\", 1)\n",
      "('keep', 12)\n",
      "('highest', 2)\n",
      "('room', 2)\n",
      "('tallest', 4)\n",
      "('tower', 6)\n",
      "('for', 52)\n",
      "('true', 19)\n",
      "('love', 19)\n",
      "('and', 265)\n",
      "('(laughs)', 3)\n",
      "('(Page', 1)\n",
      "('is', 122)\n",
      "('ripped', 1)\n",
      "('out.)', 2)\n",
      "('CUT', 47)\n",
      "('TO:', 47)\n",
      "('OUTDOOR', 1)\n",
      "('TOILET.', 1)\n",
      "('Like', 4)\n",
      "(\"that's\", 17)\n",
      "('ever', 9)\n",
      "('gonna', 20)\n",
      "('happen.', 2)\n",
      "('What', 37)\n",
      "('load', 1)\n",
      "('-', 87)\n",
      "('(Toilet', 1)\n",
      "('flush,', 1)\n",
      "('bursts', 2)\n",
      "('out', 38)\n",
      "('toilet.)', 1)\n",
      "('(Music', 4)\n",
      "('plays:', 4)\n",
      "('Allstar', 1)\n",
      "('Smashmouth', 1)\n",
      "('begins', 15)\n",
      "('play.)', 1)\n",
      "('DAYTIME.', 22)\n",
      "('THE', 10)\n",
      "('SWAMP.', 3)\n",
      "('CREDIT', 1)\n",
      "('ROLL.', 1)\n",
      "('Montage', 2)\n",
      "('various', 3)\n",
      "('activities.', 1)\n",
      "('In', 3)\n",
      "('nearby', 2)\n",
      "('town,', 1)\n",
      "('villagers', 1)\n",
      "('get', 34)\n",
      "('together', 2)\n",
      "('go', 17)\n",
      "('after', 8)\n",
      "('ogre..', 1)\n",
      "('NIGHT.', 6)\n",
      "('It’s', 3)\n",
      "('night', 5)\n",
      "('time,', 2)\n",
      "('men', 9)\n",
      "('town', 2)\n",
      "('have', 53)\n",
      "('lit', 1)\n",
      "('torches', 2)\n",
      "('are', 65)\n",
      "('running', 7)\n",
      "('into', 30)\n",
      "('swamp.', 6)\n",
      "('They', 20)\n",
      "('arrive', 1)\n",
      "('at', 53)\n",
      "('Shrek’s', 7)\n",
      "('home.', 3)\n",
      "('MAN', 19)\n",
      "('1', 6)\n",
      "('Think', 1)\n",
      "(\"it's\", 26)\n",
      "('there?', 5)\n",
      "('2', 3)\n",
      "('All', 19)\n",
      "('right.', 12)\n",
      "(\"Let's\", 7)\n",
      "('it!', 6)\n",
      "('Whoa.', 1)\n",
      "('Hold', 4)\n",
      "('on.', 11)\n",
      "('Do', 7)\n",
      "('you', 221)\n",
      "('know', 42)\n",
      "('what', 37)\n",
      "('that', 64)\n",
      "('thing', 11)\n",
      "('can', 30)\n",
      "('do', 41)\n",
      "('you?', 15)\n",
      "('3', 6)\n",
      "('Yeah,', 9)\n",
      "(\"it'll\", 2)\n",
      "('grind', 2)\n",
      "('your', 43)\n",
      "('bones', 2)\n",
      "('bread.', 1)\n",
      "('sneaks', 1)\n",
      "('up', 64)\n",
      "('behind', 10)\n",
      "('them', 10)\n",
      "('laughs.', 2)\n",
      "('Yes,', 9)\n",
      "('well,', 7)\n",
      "('actually,', 1)\n",
      "('would', 12)\n",
      "('giant.', 1)\n",
      "('Now,', 6)\n",
      "('ogres,', 1)\n",
      "('oh', 1)\n",
      "(\"they're\", 3)\n",
      "('much', 5)\n",
      "('worse.', 1)\n",
      "(\"They'll\", 2)\n",
      "('make', 15)\n",
      "('suit', 1)\n",
      "('freshly', 1)\n",
      "('peeled', 1)\n",
      "('skin.', 1)\n",
      "('MEN', 8)\n",
      "('No!', 21)\n",
      "('shave', 1)\n",
      "('liver.', 1)\n",
      "('Squeeze', 1)\n",
      "('jelly', 1)\n",
      "('eyes!', 1)\n",
      "('Actually,', 1)\n",
      "('quite', 3)\n",
      "('good', 20)\n",
      "('on', 65)\n",
      "('toast.', 1)\n",
      "('Back!', 2)\n",
      "('Back,', 1)\n",
      "('beast!', 3)\n",
      "('I', 263)\n",
      "('warn', 2)\n",
      "('ya!', 2)\n",
      "('(He', 7)\n",
      "('waves', 1)\n",
      "('torch', 2)\n",
      "('Shrek.)', 5)\n",
      "('(Shrek', 7)\n",
      "('calmly', 1)\n",
      "('licks', 2)\n",
      "('his', 51)\n",
      "('fingers', 1)\n",
      "('extinguishes', 2)\n",
      "('torch.)', 1)\n",
      "('Right!', 1)\n",
      "('(The', 2)\n",
      "('shrink', 2)\n",
      "('back', 32)\n",
      "('him.', 15)\n",
      "('roars', 2)\n",
      "('very', 8)\n",
      "('loudly,', 1)\n",
      "('roar', 1)\n",
      "('loudly', 1)\n",
      "('back.', 6)\n",
      "('His', 2)\n",
      "('long', 4)\n",
      "('breath', 3)\n",
      "('all', 38)\n",
      "('remaining', 1)\n",
      "('until', 5)\n",
      "('dark.)', 1)\n",
      "('(Whispers', 1)\n",
      "('Man', 3)\n",
      "('1.)', 1)\n",
      "('This', 20)\n",
      "('part', 4)\n",
      "('where', 15)\n",
      "('run', 7)\n",
      "('away.', 11)\n",
      "('scramble', 1)\n",
      "('He', 41)\n",
      "('laughs.)', 2)\n",
      "('And', 16)\n",
      "('stay', 8)\n",
      "('out!', 2)\n",
      "('looks', 26)\n",
      "('down', 25)\n",
      "('picks', 6)\n",
      "('piece', 1)\n",
      "('paper.', 1)\n",
      "('Reads.)', 1)\n",
      "('\"Wanted.', 1)\n",
      "('Fairy', 2)\n",
      "('tale', 8)\n",
      "('creatures.\"(He', 1)\n",
      "('sighs', 2)\n",
      "('throws', 5)\n",
      "('paper', 1)\n",
      "('over', 28)\n",
      "('shoulder.)', 1)\n",
      "('FOREST.', 8)\n",
      "('There', 9)\n",
      "('line', 3)\n",
      "('fairy', 8)\n",
      "('creatures.', 2)\n",
      "('The', 68)\n",
      "('head', 9)\n",
      "('guard', 5)\n",
      "('sits', 3)\n",
      "('table', 4)\n",
      "('paying', 1)\n",
      "('people', 5)\n",
      "('bringing', 2)\n",
      "('creatures', 2)\n",
      "('cages', 1)\n",
      "('around.', 2)\n",
      "('We', 10)\n",
      "('see', 23)\n",
      "('Peter', 2)\n",
      "('Pan,', 1)\n",
      "('Tinkerbell,', 1)\n",
      "('seven', 2)\n",
      "('dwarves,', 1)\n",
      "('Gipetto', 1)\n",
      "('Pinocchio,', 1)\n",
      "('three', 3)\n",
      "('little', 23)\n",
      "('pigs.', 1)\n",
      "('GUARD', 19)\n",
      "(\"one's\", 2)\n",
      "('full.', 1)\n",
      "('Take', 8)\n",
      "('it', 56)\n",
      "('away!', 3)\n",
      "('Move', 1)\n",
      "('along.', 1)\n",
      "('Come', 7)\n",
      "('on!', 8)\n",
      "('Get', 9)\n",
      "('up!', 5)\n",
      "('HEAD', 16)\n",
      "('Next!', 4)\n",
      "('(taking', 1)\n",
      "(\"witch's\", 1)\n",
      "('broom)', 1)\n",
      "('Give', 4)\n",
      "('me', 44)\n",
      "('that!', 4)\n",
      "('Your', 6)\n",
      "('flying', 2)\n",
      "('days', 1)\n",
      "('over!', 1)\n",
      "('(Breaks', 1)\n",
      "('broom', 1)\n",
      "('half.)', 1)\n",
      "(\"That's\", 24)\n",
      "('20', 1)\n",
      "('pieces', 1)\n",
      "('silver', 1)\n",
      "('witch.', 1)\n",
      "('Sit', 1)\n",
      "('there!', 3)\n",
      "('Be', 2)\n",
      "('quiet!', 1)\n",
      "('LITTLE', 3)\n",
      "('BEAR', 1)\n",
      "('(Crying.)', 1)\n",
      "('cage', 2)\n",
      "('too', 3)\n",
      "('small.', 1)\n",
      "('DONKEY', 224)\n",
      "('Please,', 2)\n",
      "(\"don't\", 54)\n",
      "('turn', 3)\n",
      "('in.', 6)\n",
      "(\"I'll\", 28)\n",
      "('never', 8)\n",
      "('stubborn', 1)\n",
      "('again.', 6)\n",
      "('change.', 1)\n",
      "('Please!', 4)\n",
      "('another', 5)\n",
      "('chance!', 1)\n",
      "('OLD', 6)\n",
      "('WOMAN', 7)\n",
      "('Oh,', 60)\n",
      "('shut', 4)\n",
      "('up.', 8)\n",
      "('(jerks', 1)\n",
      "('rope)', 1)\n",
      "('Oh!', 19)\n",
      "('got?', 2)\n",
      "('GIPETTO', 1)\n",
      "('wooden', 5)\n",
      "('puppet.', 2)\n",
      "('PINOCCHIO', 4)\n",
      "(\"I'm\", 78)\n",
      "('not', 41)\n",
      "('real', 3)\n",
      "('boy.', 2)\n",
      "('(His', 1)\n",
      "('nose', 1)\n",
      "('grows.)', 1)\n",
      "('Five', 1)\n",
      "('shillings', 1)\n",
      "('possessed', 1)\n",
      "('toy.', 1)\n",
      "('Father,', 1)\n",
      "('please!', 2)\n",
      "(\"Don't\", 16)\n",
      "('let', 10)\n",
      "('this!', 4)\n",
      "('Help', 1)\n",
      "('me!', 12)\n",
      "('(Gipetto', 1)\n",
      "('takes', 12)\n",
      "('money', 1)\n",
      "('walks', 17)\n",
      "('off.', 9)\n",
      "('old', 3)\n",
      "('woman', 3)\n",
      "('steps', 5)\n",
      "('table.)', 1)\n",
      "('Well,', 32)\n",
      "(\"I've\", 6)\n",
      "('got', 15)\n",
      "('talking', 9)\n",
      "('donkey.', 6)\n",
      "('Right.', 4)\n",
      "('ten', 1)\n",
      "('shillings,', 1)\n",
      "('if', 18)\n",
      "('prove', 2)\n",
      "('it.', 25)\n",
      "('ahead,', 3)\n",
      "('fella.', 1)\n",
      "('(Donkey', 5)\n",
      "('just', 43)\n",
      "('her.)', 2)\n",
      "('Well?', 1)\n",
      "('oh,', 1)\n",
      "(\"he's\", 10)\n",
      "(\"just...he's\", 1)\n",
      "('nervous.', 1)\n",
      "(\"He's\", 5)\n",
      "('really', 14)\n",
      "('chatterbox.', 1)\n",
      "('Talk,', 1)\n",
      "('boneheaded', 1)\n",
      "('dolt...', 1)\n",
      "('heard', 6)\n",
      "('enough.', 2)\n",
      "('Guards!', 3)\n",
      "('No,', 26)\n",
      "('no,', 17)\n",
      "('he', 36)\n",
      "('talks!', 2)\n",
      "('does.', 2)\n",
      "('(Pretends', 1)\n",
      "('Donkey)', 5)\n",
      "('talk.', 4)\n",
      "('talkingest', 1)\n",
      "('damn', 2)\n",
      "('saw.', 1)\n",
      "('my', 59)\n",
      "('sight.', 1)\n",
      "('no!', 9)\n",
      "('swear!', 1)\n",
      "('talk!', 2)\n",
      "('guards', 7)\n",
      "('grab', 1)\n",
      "('struggles', 2)\n",
      "('with', 54)\n",
      "('them.', 7)\n",
      "('One', 2)\n",
      "('legs', 3)\n",
      "('flies', 4)\n",
      "('kicks', 2)\n",
      "('Tinkerbell', 1)\n",
      "('Pan’s', 1)\n",
      "('hands,', 1)\n",
      "('drops', 5)\n",
      "(\"Donkey's\", 2)\n",
      "('head.', 6)\n",
      "('gets', 10)\n",
      "('sprinkled', 1)\n",
      "('dust', 2)\n",
      "('able', 2)\n",
      "('fly.', 2)\n",
      "(')', 1)\n",
      "('Hey!', 9)\n",
      "('fly!', 3)\n",
      "('PETER', 1)\n",
      "('PAN', 1)\n",
      "('PIGS', 1)\n",
      "('Ha,', 3)\n",
      "('ha!', 3)\n",
      "('right,', 14)\n",
      "('fool!', 1)\n",
      "('Now', 16)\n",
      "('flying,', 1)\n",
      "('You', 80)\n",
      "('might', 3)\n",
      "('seen', 5)\n",
      "('housefly,', 1)\n",
      "('maybe', 8)\n",
      "('even', 6)\n",
      "('superfly', 1)\n",
      "('bet', 1)\n",
      "(\"ain't\", 7)\n",
      "('donkey', 2)\n",
      "('pixie', 1)\n",
      "('wear', 2)\n",
      "('Uh-oh.', 1)\n",
      "('sink', 1)\n",
      "('ground.', 5)\n",
      "('hits', 4)\n",
      "('ground', 3)\n",
      "('thud.', 1)\n",
      "('Donkey', 87)\n",
      "('running.', 2)\n",
      "('Seize', 1)\n",
      "('him!', 7)\n",
      "('After', 1)\n",
      "('GUARDS', 2)\n",
      "('getting', 7)\n",
      "('way!', 2)\n",
      "('Turn!', 1)\n",
      "('keeps', 3)\n",
      "('eventually', 1)\n",
      "('runs', 10)\n",
      "('Shrek.', 23)\n",
      "('scared', 1)\n",
      "('when', 18)\n",
      "('spots', 5)\n",
      "('coming', 3)\n",
      "('path.', 1)\n",
      "('quickly', 2)\n",
      "('hides', 1)\n",
      "('there.', 11)\n",
      "('Ogre!', 1)\n",
      "('Aye?', 1)\n",
      "('By', 3)\n",
      "('order', 2)\n",
      "('Lord', 20)\n",
      "('Farquaad', 20)\n",
      "('am', 8)\n",
      "('authorized', 1)\n",
      "('place', 3)\n",
      "('both', 6)\n",
      "('under', 1)\n",
      "('arrest', 1)\n",
      "('transport', 1)\n",
      "('designated', 1)\n",
      "('resettlement', 1)\n",
      "('facility.', 1)\n",
      "('really?', 1)\n",
      "('army?', 1)\n",
      "('turns', 12)\n",
      "('other', 7)\n",
      "('deserted', 1)\n",
      "('off,', 2)\n",
      "('too.', 5)\n",
      "('laughs', 2)\n",
      "('walking', 7)\n",
      "('cottage.', 4)\n",
      "('follows.', 1)\n",
      "('Can', 9)\n",
      "('say', 6)\n",
      "('something', 7)\n",
      "('Listen,', 3)\n",
      "('really,', 4)\n",
      "(\"somethin'\", 1)\n",
      "('here.', 11)\n",
      "('Incredible!', 1)\n",
      "('Are', 6)\n",
      "(\"talkin'\", 6)\n",
      "('to...', 1)\n",
      "('around', 13)\n",
      "('gone.', 2)\n",
      "('me?', 10)\n",
      "('right', 16)\n",
      "('front', 9)\n",
      "('Whoa!', 3)\n",
      "('Yes.', 3)\n",
      "('you!', 5)\n",
      "('tell', 24)\n",
      "('great', 6)\n",
      "('Those', 2)\n",
      "('guards!', 1)\n",
      "('thought', 9)\n",
      "('they', 19)\n",
      "('that.', 10)\n",
      "('Then', 7)\n",
      "('showed', 1)\n",
      "('up,', 4)\n",
      "('bam!', 1)\n",
      "(\"trippin'\", 1)\n",
      "('themselves', 1)\n",
      "('like', 42)\n",
      "('babes', 1)\n",
      "('woods.', 2)\n",
      "('That', 9)\n",
      "('made', 2)\n",
      "('feel', 5)\n",
      "('great.', 1)\n",
      "('Really.', 1)\n",
      "('Man,', 6)\n",
      "('free.', 1)\n",
      "('why', 9)\n",
      "('celebrate', 1)\n",
      "('freedom', 1)\n",
      "('own', 3)\n",
      "('friends?', 1)\n",
      "('Hmm?', 3)\n",
      "('But,', 3)\n",
      "('uh,', 14)\n",
      "('any', 7)\n",
      "('friends.', 2)\n",
      "(\"goin'\", 3)\n",
      "('myself.', 2)\n",
      "('Hey,', 21)\n",
      "('wait', 3)\n",
      "('minute!', 2)\n",
      "('idea!', 1)\n",
      "('stick', 2)\n",
      "('you.', 19)\n",
      "(\"You're\", 26)\n",
      "('mean,', 9)\n",
      "('green,', 1)\n",
      "(\"fightin'\", 1)\n",
      "('machine.', 1)\n",
      "('Together', 1)\n",
      "(\"we'll\", 2)\n",
      "('scare', 1)\n",
      "('spit', 2)\n",
      "('anybody', 1)\n",
      "('crosses', 1)\n",
      "('us.', 3)\n",
      "('regards', 1)\n",
      "('moment', 2)\n",
      "('before', 11)\n",
      "('roaring', 1)\n",
      "('loudly.', 1)\n",
      "('wow!', 1)\n",
      "('scary.', 1)\n",
      "('If', 4)\n",
      "('mind', 1)\n",
      "(\"sayin',\", 1)\n",
      "('work,', 1)\n",
      "('certainly', 2)\n",
      "('will', 13)\n",
      "('job', 4)\n",
      "('done,', 1)\n",
      "(\"'cause\", 5)\n",
      "('definitely', 2)\n",
      "('need', 6)\n",
      "('some', 12)\n",
      "('Tic', 1)\n",
      "('Tacs', 1)\n",
      "('or', 8)\n",
      "('something,', 2)\n",
      "('stinks!', 1)\n",
      "('Man!', 1)\n",
      "('almost', 1)\n",
      "('burned', 2)\n",
      "('hair', 1)\n",
      "('outta', 1)\n",
      "('nose,', 1)\n",
      "('time...', 1)\n",
      "('covers', 1)\n",
      "('mouth', 3)\n",
      "('continues', 6)\n",
      "('talk,', 1)\n",
      "('so', 28)\n",
      "('removes', 1)\n",
      "('hand.', 2)\n",
      "('...then', 1)\n",
      "('ate', 2)\n",
      "('rotten', 1)\n",
      "('berries.', 1)\n",
      "('strong', 1)\n",
      "('gases', 1)\n",
      "('leaking', 1)\n",
      "('butt', 3)\n",
      "('day.', 1)\n",
      "('Why', 7)\n",
      "('following', 1)\n",
      "('why.', 1)\n",
      "('(Singing)', 2)\n",
      "(\"'Cause\", 3)\n",
      "('alone,', 3)\n",
      "(\"There's\", 11)\n",
      "('no', 20)\n",
      "('one', 33)\n",
      "('here', 9)\n",
      "('beside', 3)\n",
      "('me,', 15)\n",
      "('My', 5)\n",
      "('problems', 1)\n",
      "('gone,', 1)\n",
      "('deride', 1)\n",
      "('gotta', 8)\n",
      "('faith...', 1)\n",
      "('Stop', 4)\n",
      "('singing!', 1)\n",
      "('wonder', 1)\n",
      "('Wow.', 1)\n",
      "('Only', 2)\n",
      "('friend', 1)\n",
      "('cruelly', 1)\n",
      "('honest.', 1)\n",
      "('look', 28)\n",
      "('me.', 17)\n",
      "('I?', 2)\n",
      "('(Looks', 1)\n",
      "('way', 13)\n",
      "('Uh', 2)\n",
      "('...really', 1)\n",
      "('tall?', 1)\n",
      "('ogre!', 2)\n",
      "('know.', 8)\n",
      "('\"Grab', 1)\n",
      "('pitchforks.\"', 1)\n",
      "(\"Doesn't\", 1)\n",
      "('bother', 1)\n",
      "('Nope.', 1)\n",
      "('Really?', 4)\n",
      "('Really,', 4)\n",
      "('really.', 3)\n",
      "('Oh.', 6)\n",
      "(\"What's\", 6)\n",
      "('name?', 1)\n",
      "('Uh,', 14)\n",
      "('Shrek?', 10)\n",
      "('about', 19)\n",
      "('you,', 12)\n",
      "('kind', 6)\n",
      "(\"I-don't-care-what-nobody-thinks-of-me\", 1)\n",
      "('thing.', 1)\n",
      "('respect', 1)\n",
      "('that,', 3)\n",
      "('come', 18)\n",
      "('hill', 2)\n",
      "(\"Shrek's\", 9)\n",
      "('Look', 2)\n",
      "(\"Who'd\", 1)\n",
      "('want', 8)\n",
      "('live', 5)\n",
      "('that?', 11)\n",
      "('lovely!', 1)\n",
      "('Just', 10)\n",
      "('beautiful.', 4)\n",
      "('decorator.', 1)\n",
      "(\"It's\", 19)\n",
      "('amazing', 1)\n",
      "(\"you've\", 2)\n",
      "('done', 1)\n",
      "('such', 4)\n",
      "('modest', 1)\n",
      "('budget.', 1)\n",
      "('boulder.', 2)\n",
      "('nice', 1)\n",
      "('past', 5)\n",
      "('“keep', 1)\n",
      "('out”', 1)\n",
      "('“beware”', 1)\n",
      "('signs', 1)\n",
      "('has', 18)\n",
      "('erected.', 1)\n",
      "('guess', 10)\n",
      "('entertain', 1)\n",
      "('much,', 1)\n",
      "('privacy.', 1)\n",
      "('know,', 18)\n",
      "('we', 28)\n",
      "('common.', 2)\n",
      "('hate', 1)\n",
      "('somebody', 4)\n",
      "('face.', 2)\n",
      "(\"You've\", 2)\n",
      "('trying', 3)\n",
      "('give', 7)\n",
      "('hint,', 1)\n",
      "(\"won't\", 4)\n",
      "('leave.', 1)\n",
      "('big', 7)\n",
      "('awkward', 2)\n",
      "('silence,', 1)\n",
      "('Big', 2)\n",
      "('silence.', 1)\n",
      "('what?', 6)\n",
      "('please?', 1)\n",
      "('(Sarcastically)', 1)\n",
      "('Of', 3)\n",
      "('course!', 2)\n",
      "('', 16)\n",
      "('No.', 7)\n",
      "('wanna', 7)\n",
      "('considered', 1)\n",
      "('freak.', 1)\n",
      "('(Pause', 1)\n",
      "('while', 4)\n",
      "('do.', 4)\n",
      "('together.', 2)\n",
      "('stay!', 1)\n",
      "('Okay!', 3)\n",
      "('only.', 1)\n",
      "('Ah!', 4)\n",
      "('Thank', 3)\n",
      "('inside', 7)\n",
      "('INT.', 17)\n",
      "('SHREK’S', 4)\n",
      "('COTTAGE.', 5)\n",
      "('you...?', 1)\n",
      "('hops', 1)\n",
      "('onto', 5)\n",
      "('confortable', 1)\n",
      "('armchair.', 1)\n",
      "('Ah,', 6)\n",
      "('fun!', 1)\n",
      "('late,', 1)\n",
      "(\"swappin'\", 1)\n",
      "('manly', 1)\n",
      "('stories,', 1)\n",
      "(\"mornin'\", 1)\n",
      "(\"makin'\", 1)\n",
      "('waffles.', 1)\n",
      "('Where', 8)\n",
      "('do,', 2)\n",
      "('sleep?', 1)\n",
      "('(Irritated)', 1)\n",
      "('Outside!', 1)\n",
      "('cool.', 1)\n",
      "('outside', 4)\n",
      "('best,', 1)\n",
      "('(Sniffs.)', 1)\n",
      "('Here', 2)\n",
      "('go.', 5)\n",
      "('Good', 5)\n",
      "('night.', 9)\n",
      "('EXT.', 20)\n",
      "('DAYTIME.SHREKS', 1)\n",
      "('down,', 4)\n",
      "('sad.', 1)\n",
      "('Behind', 1)\n",
      "('him,', 4)\n",
      "('slams', 2)\n",
      "('door.', 3)\n",
      "('sighs.', 2)\n",
      "('hear', 6)\n",
      "('outside.', 6)\n",
      "('outdoors.', 1)\n",
      "('born', 1)\n",
      "('sitting', 4)\n",
      "('myself', 1)\n",
      "('outside,', 1)\n",
      "('guess,', 1)\n",
      "('myself,', 1)\n",
      "('(Sings)', 1)\n",
      "(\"alone...there's\", 1)\n",
      "('me...', 2)\n",
      "('dinnertime.', 1)\n",
      "('places', 1)\n",
      "('eyeball', 1)\n",
      "('martini', 1)\n",
      "('drink.', 1)\n",
      "('himself', 3)\n",
      "('pulls', 9)\n",
      "('ear', 1)\n",
      "('candle', 1)\n",
      "('earwax,', 1)\n",
      "('lights.', 1)\n",
      "('through', 17)\n",
      "('window.', 2)\n",
      "('eating', 4)\n",
      "('hears', 3)\n",
      "('noise.', 1)\n",
      "('stands', 2)\n",
      "('huff.', 1)\n",
      "('(To', 6)\n",
      "('told', 4)\n",
      "('(From', 1)\n",
      "('window)', 1)\n",
      "('noise', 1)\n",
      "('turns.', 1)\n",
      "('sees', 8)\n",
      "('several', 2)\n",
      "('shadows', 1)\n",
      "('moving.', 3)\n",
      "('finally', 3)\n",
      "('blind', 1)\n",
      "('mice', 1)\n",
      "('table.', 5)\n",
      "('BLIND', 3)\n",
      "('MOUSE', 3)\n",
      "('gents,', 1)\n",
      "('far', 2)\n",
      "('cry', 1)\n",
      "('farm,', 1)\n",
      "('choice', 1)\n",
      "('have?', 1)\n",
      "('home,', 1)\n",
      "('fine.', 4)\n",
      "('GORDO', 4)\n",
      "('(Bouncing', 1)\n",
      "('slug.)', 1)\n",
      "('bed.', 3)\n",
      "('Gotcha.', 1)\n",
      "('grabs', 8)\n",
      "('Gordo', 2)\n",
      "('mouse,', 1)\n",
      "('escapes', 1)\n",
      "('lands', 4)\n",
      "('shoulder.', 2)\n",
      "('found', 3)\n",
      "('cheese.', 1)\n",
      "('mouse', 1)\n",
      "('bites', 1)\n",
      "('ear.', 1)\n",
      "('mice.', 2)\n",
      "('Ow!', 8)\n",
      "('Blah!', 1)\n",
      "('Awful', 1)\n",
      "('stuff.', 1)\n",
      "('Is', 3)\n",
      "('Gordo?', 1)\n",
      "('How', 3)\n",
      "('did', 11)\n",
      "('know?', 1)\n",
      "('Enough!', 1)\n",
      "('doing', 5)\n",
      "('house?', 1)\n",
      "('bumped', 1)\n",
      "('Seven', 1)\n",
      "('Dwarves', 2)\n",
      "('Snow', 4)\n",
      "('White', 2)\n",
      "('no.', 11)\n",
      "('Dead', 1)\n",
      "('broad', 1)\n",
      "('off', 23)\n",
      "('DWARF', 1)\n",
      "('supposed', 4)\n",
      "('put', 6)\n",
      "('her?', 4)\n",
      "(\"bed's\", 1)\n",
      "('taken.', 1)\n",
      "('Huh?', 2)\n",
      "('marches', 1)\n",
      "('bedroom.', 1)\n",
      "('curtain.', 1)\n",
      "('Bad', 1)\n",
      "('Wolf', 2)\n",
      "('lying', 2)\n",
      "('BIG', 1)\n",
      "('BAD', 1)\n",
      "('WOLF', 1)\n",
      "('What?', 11)\n",
      "('drags', 1)\n",
      "('wolf', 1)\n",
      "('door', 15)\n",
      "('collar.', 2)\n",
      "('opens', 8)\n",
      "('stunned', 1)\n",
      "('signs.', 1)\n",
      "('terrifying', 1)\n",
      "('privacy?', 1)\n",
      "('throw', 1)\n",
      "('collected', 1)\n",
      "('Tale', 1)\n",
      "('Creatures', 1)\n",
      "('land.', 3)\n",
      "('creatures:', 1)\n",
      "('Bears,', 1)\n",
      "('Pied', 1)\n",
      "('Piper', 1)\n",
      "('rats,', 1)\n",
      "('elves,', 1)\n",
      "('fairies', 2)\n",
      "('witches.', 1)\n",
      "('swamp?', 3)\n",
      "('Everyone', 3)\n",
      "('falls', 6)\n",
      "('silent.', 1)\n",
      "('Gasps.', 1)\n",
      "('Three', 1)\n",
      "('hide', 1)\n",
      "('tent.', 1)\n",
      "('move', 4)\n",
      "('go!', 2)\n",
      "('Hurry', 2)\n",
      "('DWARVES', 1)\n",
      "('Quickly.', 1)\n",
      "('house.', 2)\n",
      "('Not', 6)\n",
      "('gives', 4)\n",
      "('chase,', 1)\n",
      "('can’t', 1)\n",
      "('(Turns', 2)\n",
      "('Donkey).', 1)\n",
      "(\"didn't\", 8)\n",
      "('invite', 1)\n",
      "('gosh,', 1)\n",
      "('invited', 1)\n",
      "('were', 6)\n",
      "('forced', 1)\n",
      "('(Flabbergasted.)', 1)\n",
      "('who?', 2)\n",
      "('PIG', 1)\n",
      "('Farquaad.', 5)\n",
      "('huffed', 1)\n",
      "('puffed', 1)\n",
      "('he...signed', 1)\n",
      "('eviction', 1)\n",
      "('notice.', 1)\n",
      "('(Heavy', 1)\n",
      "('sigh.)', 3)\n",
      "('Who', 4)\n",
      "('knows', 1)\n",
      "('guy', 4)\n",
      "('is?', 1)\n",
      "('each', 6)\n",
      "('answers.', 1)\n",
      "('is.', 3)\n",
      "('Does', 4)\n",
      "('anyone', 2)\n",
      "('else', 2)\n",
      "('find', 13)\n",
      "('him?', 2)\n",
      "('Anyone', 1)\n",
      "('all?', 3)\n",
      "('Me!', 3)\n",
      "('Anyone?', 1)\n",
      "('pick', 1)\n",
      "('know!', 2)\n",
      "('Me,', 1)\n",
      "('bouncing', 1)\n",
      "('high', 1)\n",
      "('air.', 1)\n",
      "('deliberately', 2)\n",
      "('ignoring', 1)\n",
      "('(Sigh)', 1)\n",
      "('Okay,', 14)\n",
      "('Attention,', 1)\n",
      "('things.', 2)\n",
      "('comfortable.', 1)\n",
      "('welcome', 2)\n",
      "('officially', 1)\n",
      "('worn', 1)\n",
      "('out.', 10)\n",
      "('fact,', 1)\n",
      "('now', 10)\n",
      "('land', 2)\n",
      "('came', 2)\n",
      "('from!', 1)\n",
      "('Pause.', 1)\n",
      "('crowd', 3)\n",
      "('goes', 10)\n",
      "('wild,', 1)\n",
      "('clapping', 1)\n",
      "('cheering.', 1)\n",
      "('You!', 1)\n",
      "(\"comin'\", 1)\n",
      "('hear,', 1)\n",
      "('man.', 5)\n",
      "('Donkey,', 15)\n",
      "('two', 8)\n",
      "('stalwart', 1)\n",
      "('friends,', 2)\n",
      "('whirlwind', 1)\n",
      "('big-city', 1)\n",
      "('adventure.', 1)\n",
      "('(Singing.)', 1)\n",
      "('On', 1)\n",
      "('road', 3)\n",
      "('Sing', 1)\n",
      "(\"can't\", 13)\n",
      "('singing?', 1)\n",
      "('whistle?', 1)\n",
      "('hum', 3)\n",
      "('it?', 5)\n",
      "(\"'On\", 1)\n",
      "('Road', 1)\n",
      "(\"Again'.\", 1)\n",
      "('DULOC', 12)\n",
      "('–', 1)\n",
      "('TORTURE', 1)\n",
      "('CHAMBER', 1)\n",
      "('Footsteps', 1)\n",
      "('medieval', 1)\n",
      "('castle.', 5)\n",
      "('masked', 2)\n",
      "('man', 5)\n",
      "('pours', 1)\n",
      "('milk', 3)\n",
      "('glass.', 1)\n",
      "('corridor.', 1)\n",
      "('Guards', 2)\n",
      "('him', 24)\n",
      "('through.', 1)\n",
      "('torturing', 1)\n",
      "('Gingerbread', 5)\n",
      "('dunking', 1)\n",
      "('milk.', 1)\n",
      "('FARQUAAD', 55)\n",
      "('ready', 3)\n",
      "('pulled', 2)\n",
      "('slammed', 1)\n",
      "('cookie', 1)\n",
      "('sheet.', 3)\n",
      "('evilly', 1)\n",
      "('However', 1)\n",
      "('reaches', 4)\n",
      "('eyes.', 1)\n",
      "('clears', 2)\n",
      "('throat', 2)\n",
      "('lowered.', 1)\n",
      "(\"Man's\", 2)\n",
      "('plays', 2)\n",
      "('them.)', 1)\n",
      "('Run,', 1)\n",
      "('run,', 2)\n",
      "('as', 38)\n",
      "('fast', 1)\n",
      "('can.', 1)\n",
      "('catch', 2)\n",
      "('gingerbread', 1)\n",
      "('GINGERBREAD', 11)\n",
      "('monster.', 1)\n",
      "('monster', 1)\n",
      "('are.', 4)\n",
      "('rest', 4)\n",
      "('trash,', 1)\n",
      "('poisoning', 1)\n",
      "('perfect', 8)\n",
      "('world.', 1)\n",
      "('others?', 1)\n",
      "('Eat', 1)\n",
      "('spits', 1)\n",
      "('Farquaad’s', 3)\n",
      "('eye.)', 1)\n",
      "('tried', 1)\n",
      "('fair', 1)\n",
      "('patience', 1)\n",
      "('reached', 1)\n",
      "('its', 2)\n",
      "('end!', 1)\n",
      "('Tell', 1)\n",
      "(\"I'll...\", 1)\n",
      "('(he', 1)\n",
      "('pretends', 1)\n",
      "('pull', 4)\n",
      "('buttons)', 1)\n",
      "('buttons.', 2)\n",
      "('gumdrop', 1)\n",
      "('then.', 2)\n",
      "(\"Who's\", 2)\n",
      "('hiding', 1)\n",
      "('them?', 1)\n",
      "('muffin', 8)\n",
      "('man?', 3)\n",
      "('man,', 3)\n",
      "('who', 14)\n",
      "('lives', 3)\n",
      "('Drury', 1)\n",
      "('Lane?', 1)\n",
      "(\"she's\", 6)\n",
      "('married', 3)\n",
      "('man!', 1)\n",
      "(\"She's\", 7)\n",
      "('Head', 1)\n",
      "('Guard', 1)\n",
      "('lord!', 2)\n",
      "('waiting', 3)\n",
      "('for?', 3)\n",
      "('Bring', 1)\n",
      "('More', 1)\n",
      "('enter', 1)\n",
      "('carrying', 1)\n",
      "('covered', 1)\n",
      "('hang', 2)\n",
      "('whatever', 1)\n",
      "('remove', 3)\n",
      "('covering', 1)\n",
      "('It', 11)\n",
      "('Magic', 3)\n",
      "('Mirror.', 1)\n",
      "('gasp.', 1)\n",
      "('(In', 1)\n",
      "('awe.)', 1)\n",
      "('Ahhhh...', 1)\n",
      "('mirror...', 1)\n",
      "('anything!', 1)\n",
      "('whacks', 1)\n",
      "('trash', 1)\n",
      "('can,', 1)\n",
      "('closing', 1)\n",
      "('lid.', 1)\n",
      "('Evening.', 1)\n",
      "('Mirror,', 2)\n",
      "('mirror', 2)\n",
      "('wall.', 1)\n",
      "('most', 2)\n",
      "('kingdom', 2)\n",
      "('MIRROR', 7)\n",
      "('technically', 1)\n",
      "(\"you're\", 19)\n",
      "('king.', 2)\n",
      "('Thelonius.', 1)\n",
      "('Thelonius', 2)\n",
      "('holds', 8)\n",
      "('hand', 6)\n",
      "('smashes', 4)\n",
      "('fist.', 1)\n",
      "('saying?', 1)\n",
      "('(Nervous.)', 1)\n",
      "('mean', 8)\n",
      "('king', 1)\n",
      "('yet.', 3)\n",
      "('become', 2)\n",
      "('one.', 3)\n",
      "('marry', 7)\n",
      "('Go', 8)\n",
      "('(Chuckles', 2)\n",
      "('nervously)', 1)\n",
      "('So,', 4)\n",
      "('sit', 2)\n",
      "('relax,', 1)\n",
      "('lord,', 2)\n",
      "('because', 3)\n",
      "('meet', 1)\n",
      "(\"today's\", 1)\n",
      "('eligible', 1)\n",
      "('bachelorettes.', 1)\n",
      "('are!', 2)\n",
      "('Love', 2)\n",
      "('Potion,', 1)\n",
      "('Herb', 1)\n",
      "('Alpert)', 1)\n",
      "('Bachelorette', 2)\n",
      "('number', 8)\n",
      "('mentally', 1)\n",
      "('abused', 1)\n",
      "('shut-in', 1)\n",
      "('far,', 1)\n",
      "('likes', 5)\n",
      "('sushi', 1)\n",
      "('hot', 3)\n",
      "('tubbing', 1)\n",
      "('anytime.', 1)\n",
      "('Her', 1)\n",
      "('hobbies', 1)\n",
      "('include', 1)\n",
      "('cooking', 2)\n",
      "('cleaning', 2)\n",
      "('evil', 1)\n",
      "('sisters.', 1)\n",
      "('Please', 4)\n",
      "('Cinderella.', 1)\n",
      "('(Shows', 2)\n",
      "('picture', 2)\n",
      "('Cinderella.)', 1)\n",
      "('cape-wearing', 1)\n",
      "('girl', 3)\n",
      "('fancy.', 1)\n",
      "('Although', 1)\n",
      "('men,', 1)\n",
      "('easy.', 1)\n",
      "('kiss', 9)\n",
      "('dead,', 1)\n",
      "('frozen', 1)\n",
      "('lips', 2)\n",
      "('wire', 1)\n",
      "('White!', 1)\n",
      "('(Picture', 1)\n",
      "('White.)', 1)\n",
      "('last,', 2)\n",
      "('least,', 1)\n",
      "('bachelorette', 4)\n",
      "('fiery', 2)\n",
      "('redhead', 1)\n",
      "('dragon-guarded', 1)\n",
      "('surrounded', 2)\n",
      "('boiling', 3)\n",
      "('lava!', 2)\n",
      "('cool', 1)\n",
      "('loaded', 1)\n",
      "('pistol', 1)\n",
      "('pina', 1)\n",
      "('coladas', 1)\n",
      "('caught', 1)\n",
      "('rain.', 1)\n",
      "('Yours', 1)\n",
      "('rescuing,', 1)\n",
      "('Princess', 24)\n",
      "('Fiona!', 5)\n",
      "('Fiona)', 1)\n",
      "('So', 4)\n",
      "('one,', 3)\n",
      "('three?', 1)\n",
      "('Two!', 4)\n",
      "('Three!', 4)\n",
      "('Three?', 2)\n",
      "('One?', 1)\n",
      "('THELONIUS', 1)\n",
      "('(holds', 1)\n",
      "('fingers)', 1)\n",
      "('Pick', 1)\n",
      "('three,', 1)\n",
      "('okay,', 2)\n",
      "('three!', 1)\n",
      "('Farquaad,', 5)\n",
      "('chosen', 1)\n",
      "('Music', 2)\n",
      "('Plays:', 1)\n",
      "('“If', 1)\n",
      "('Pina', 1)\n",
      "('Coladas...”', 1)\n",
      "('clap', 1)\n",
      "('cheer.', 1)\n",
      "('Fiona.', 10)\n",
      "('perfect.', 2)\n",
      "('someone', 2)\n",
      "('go...', 1)\n",
      "('probably', 2)\n",
      "('should', 4)\n",
      "('mention', 1)\n",
      "('happens', 3)\n",
      "('sunset...', 1)\n",
      "('Silence!', 1)\n",
      "('Fiona', 66)\n",
      "('queen,', 1)\n",
      "('DuLoc', 9)\n",
      "('king!', 3)\n",
      "('Captain,', 2)\n",
      "('assemble', 1)\n",
      "('finest', 1)\n",
      "('men.', 2)\n",
      "(\"We're\", 2)\n",
      "('going', 7)\n",
      "('tournament.', 1)\n",
      "('(Smiles', 1)\n",
      "('evilly.)', 1)\n",
      "('PARKING', 1)\n",
      "('LOT', 1)\n",
      "('(LANCELOT', 1)\n",
      "('SECTION)', 1)\n",
      "('field', 2)\n",
      "('parking', 2)\n",
      "('lot.', 3)\n",
      "('itself', 1)\n",
      "('40', 1)\n",
      "('floors', 1)\n",
      "('high.', 1)\n",
      "('DuLoc.', 8)\n",
      "('ya', 4)\n",
      "(\"I'd\", 7)\n",
      "('must', 5)\n",
      "(\"Farquaad's\", 5)\n",
      "('Uh-huh.', 1)\n",
      "('place.', 3)\n",
      "('think', 14)\n",
      "('compensating', 2)\n",
      "('something?', 3)\n",
      "('laughs;', 1)\n",
      "('groans', 2)\n",
      "(\"doesn't\", 3)\n",
      "('joke.', 1)\n",
      "('walk', 4)\n",
      "('wait.', 4)\n",
      "('Wait', 5)\n",
      "('Hurry,', 1)\n",
      "('darling.', 1)\n",
      "('late.', 3)\n",
      "('Hurry.', 1)\n",
      "('attendant,', 1)\n",
      "('wearing', 1)\n",
      "('giant', 3)\n",
      "('screams', 1)\n",
      "('rows', 1)\n",
      "('rope', 2)\n",
      "('gate', 1)\n",
      "('second.', 2)\n",
      "('Look,', 11)\n",
      "('eat', 3)\n",
      "('then', 17)\n",
      "('straight', 2)\n",
      "('rows.', 1)\n",
      "('attendant', 1)\n",
      "('wall', 4)\n",
      "('down.', 16)\n",
      "('continue', 3)\n",
      "('EXT.DAYTIME.', 1)\n",
      "('VILLAGE', 1)\n",
      "('quiet.', 3)\n",
      "('Too', 1)\n",
      "('everybody?', 1)\n",
      "('lever', 2)\n",
      "('attached', 2)\n",
      "('box', 2)\n",
      "('marked', 1)\n",
      "(\"'Information'.\", 1)\n",
      "('music', 2)\n",
      "('winds', 1)\n",
      "('doors', 1)\n",
      "('open', 4)\n",
      "('begin', 3)\n",
      "('sing.)', 1)\n",
      "('WOODEN', 1)\n",
      "('CHARACTERS', 1)\n",
      "('Welcome', 1)\n",
      "('town!', 1)\n",
      "('rules.', 1)\n",
      "('Let', 5)\n",
      "('us', 3)\n",
      "('lay', 2)\n",
      "('waves,', 1)\n",
      "('along', 2)\n",
      "('fine!', 1)\n",
      "('place!', 1)\n",
      "('grass!', 1)\n",
      "('Shine', 1)\n",
      "('shoes,', 1)\n",
      "('wipe', 1)\n",
      "('your...', 2)\n",
      "('face,', 3)\n",
      "('is,', 5)\n",
      "('Suddenly', 8)\n",
      "('camera', 2)\n",
      "('snaps', 2)\n",
      "('picture.', 1)\n",
      "('prints', 1)\n",
      "('photobooth.', 1)\n",
      "('Wow!', 1)\n",
      "('again!', 1)\n",
      "('prepares', 1)\n",
      "('stopped', 1)\n",
      "('grabbing', 1)\n",
      "('tail.', 2)\n",
      "('trumpet', 1)\n",
      "('fanfare,', 1)\n",
      "('follow', 2)\n",
      "('sound,', 1)\n",
      "('heading', 1)\n",
      "('arena.', 2)\n",
      "('Brave', 1)\n",
      "('knights.', 2)\n",
      "('best', 1)\n",
      "('brightest', 1)\n",
      "('Today', 1)\n",
      "('shall', 5)\n",
      "('himself...', 1)\n",
      "('hums', 1)\n",
      "('theme', 3)\n",
      "('song', 1)\n",
      "('tunnel', 1)\n",
      "('smacked', 1)\n",
      "('bottom.', 2)\n",
      "('Sorry', 1)\n",
      "('arena', 1)\n",
      "('cheers.', 3)\n",
      "('INT.DAYTIME.THE', 1)\n",
      "('ARENA.', 1)\n",
      "('Farquuad', 1)\n",
      "('addressing', 1)\n",
      "('crowd.', 2)\n",
      "('champion', 1)\n",
      "('honor', 2)\n",
      "('--', 2)\n",
      "('privilege', 1)\n",
      "('forth', 1)\n",
      "('rescue', 12)\n",
      "('reason', 2)\n",
      "('winner', 1)\n",
      "('unsuccessful,', 1)\n",
      "('runner-up', 1)\n",
      "('take', 13)\n",
      "('forth.', 1)\n",
      "('Some', 1)\n",
      "('may', 3)\n",
      "('die,', 1)\n",
      "('it’s', 1)\n",
      "('sacrifice', 1)\n",
      "('willing', 1)\n",
      "('make.', 2)\n",
      "('Crowd', 1)\n",
      "('notices', 1)\n",
      "('tournament', 1)\n",
      "('begin!', 1)\n",
      "('Ugh,', 1)\n",
      "('hideous!', 1)\n",
      "('nice.', 2)\n",
      "('Indeed.', 2)\n",
      "('Knights,', 1)\n",
      "('new', 3)\n",
      "('plan!', 1)\n",
      "('kills', 1)\n",
      "('ogre', 9)\n",
      "('named', 1)\n",
      "('champion!', 2)\n",
      "('Have', 2)\n",
      "('hey!', 3)\n",
      "('Hang', 1)\n",
      "('now.', 5)\n",
      "('bumps', 3)\n",
      "('mugs', 1)\n",
      "('beer.', 2)\n",
      "('drinks', 1)\n",
      "('CROWD', 2)\n",
      "('ahead!', 1)\n",
      "('(Holds', 1)\n",
      "('mug', 1)\n",
      "('beer.)', 1)\n",
      "(\"Can't\", 2)\n",
      "('settle', 1)\n",
      "('pint?', 1)\n",
      "('Kill', 1)\n",
      "('No?', 1)\n",
      "('mug,', 1)\n",
      "('spigot', 1)\n",
      "('large', 4)\n",
      "('barrel', 2)\n",
      "('beer', 3)\n",
      "('floods', 1)\n",
      "('out,', 3)\n",
      "('drenching', 1)\n",
      "('knights,', 1)\n",
      "('turning', 1)\n",
      "('mud.', 1)\n",
      "('spear.', 1)\n",
      "('climbs', 2)\n",
      "('rolls', 1)\n",
      "('top', 4)\n",
      "('Various', 1)\n",
      "('fight', 5)\n",
      "('scenes', 3)\n",
      "('Shrek,', 18)\n",
      "('tag', 1)\n",
      "('Tag', 1)\n",
      "('comes', 4)\n",
      "('bangs', 1)\n",
      "(\"man's\", 1)\n",
      "('against', 2)\n",
      "('Donkeys.', 1)\n",
      "('ropes', 1)\n",
      "('interacts', 1)\n",
      "('Yeah!', 1)\n",
      "('knight', 4)\n",
      "('tries', 1)\n",
      "('sneak', 1)\n",
      "('chair!', 2)\n",
      "('chair', 1)\n",
      "('knight’s', 1)\n",
      "('Finally', 1)\n",
      "('beaten.', 1)\n",
      "('helmet.', 3)\n",
      "('ding', 1)\n",
      "('sounds', 1)\n",
      "('end', 1)\n",
      "('match.', 1)\n",
      "('audience', 2)\n",
      "('wild.', 1)\n",
      "('yeah!', 2)\n",
      "('much!', 1)\n",
      "('till', 1)\n",
      "('Thursday.', 1)\n",
      "('Try', 1)\n",
      "('veal!', 1)\n",
      "('laughter', 1)\n",
      "('stops', 2)\n",
      "('their', 9)\n",
      "('weapons', 1)\n",
      "('Shall', 1)\n",
      "('order,', 1)\n",
      "('sir?', 1)\n",
      "('better', 5)\n",
      "('idea.', 3)\n",
      "('People', 3)\n",
      "('DuLoc,', 3)\n",
      "('our', 7)\n",
      "('Congratulations,', 1)\n",
      "('ogre.', 12)\n",
      "('won', 1)\n",
      "('embarking', 1)\n",
      "('noble', 4)\n",
      "('quest.', 1)\n",
      "('Quest?', 1)\n",
      "('already', 4)\n",
      "('quest,', 1)\n",
      "('quest', 2)\n",
      "('swamp', 5)\n",
      "('swamp!', 3)\n",
      "('dumped', 1)\n",
      "('those', 6)\n",
      "('creatures!', 1)\n",
      "('deal.', 1)\n",
      "('Exactly', 1)\n",
      "('was?', 1)\n",
      "('Down', 1)\n",
      "('last', 5)\n",
      "('slime-covered', 1)\n",
      "('toadstool.', 1)\n",
      "('squatters?', 1)\n",
      "('As', 5)\n",
      "('quest?', 1)\n",
      "('EXT.DAYTIME.SUNFLOWER', 1)\n",
      "('FIELD.', 1)\n",
      "('munching', 1)\n",
      "('onion.', 3)\n",
      "('straight.', 1)\n",
      "('dragon', 22)\n",
      "('princess', 6)\n",
      "('filled', 1)\n",
      "('full', 1)\n",
      "('freaks', 1)\n",
      "('right?', 6)\n",
      "(\"there's\", 14)\n",
      "('donkeys', 2)\n",
      "(\"shouldn't\", 2)\n",
      "('stuff', 2)\n",
      "('Throttle', 1)\n",
      "('siege', 1)\n",
      "('fortress,', 1)\n",
      "('bread,', 1)\n",
      "('whole', 10)\n",
      "('trip.', 1)\n",
      "('what.', 1)\n",
      "('Maybe', 3)\n",
      "('decapitated', 1)\n",
      "('entire', 1)\n",
      "('village', 1)\n",
      "('heads', 3)\n",
      "('pike,', 1)\n",
      "('gotten', 1)\n",
      "('knife,', 1)\n",
      "('cut', 3)\n",
      "('spleen', 1)\n",
      "('drink', 1)\n",
      "('fluids.', 1)\n",
      "('sound', 3)\n",
      "('For', 4)\n",
      "('information,', 1)\n",
      "('lot', 4)\n",
      "('more', 3)\n",
      "('ogres', 3)\n",
      "('than', 5)\n",
      "('think.', 1)\n",
      "('Example?', 2)\n",
      "('um,', 5)\n",
      "('onions.', 2)\n",
      "('(Sniffs', 1)\n",
      "('onion.)', 1)\n",
      "('stink?', 1)\n",
      "('Yes', 1)\n",
      "('cry?', 1)\n",
      "('leave', 2)\n",
      "('sun,', 1)\n",
      "('brown,', 1)\n",
      "('start', 6)\n",
      "(\"sproutin'\", 1)\n",
      "('white', 1)\n",
      "('hairs.', 1)\n",
      "('Layers!', 1)\n",
      "('Onions', 2)\n",
      "('layers.', 6)\n",
      "('Ogres', 3)\n",
      "('layers!', 1)\n",
      "('heaves', 2)\n",
      "('sigh', 1)\n",
      "('(Trailing', 1)\n",
      "('{Sniffs}', 1)\n",
      "('everybody', 2)\n",
      "('Cake!', 1)\n",
      "('Everybody', 1)\n",
      "('loves', 1)\n",
      "('cakes!', 1)\n",
      "('Cakes', 1)\n",
      "('care...', 1)\n",
      "('everyone', 1)\n",
      "('likes.', 1)\n",
      "('cakes.', 1)\n",
      "('likes?', 1)\n",
      "('Parfaits.', 1)\n",
      "('met', 1)\n",
      "('person,', 1)\n",
      "('say,', 5)\n",
      "('\"Let\\'s', 1)\n",
      "('parfait,\"', 1)\n",
      "('\"Hell', 1)\n",
      "('parfait\"?', 1)\n",
      "('Parfaits', 2)\n",
      "('delicious.', 2)\n",
      "('dense,', 1)\n",
      "('irritating,', 1)\n",
      "('miniature', 1)\n",
      "('beast', 3)\n",
      "('burden!', 1)\n",
      "('onions!', 1)\n",
      "('End', 1)\n",
      "('story.', 1)\n",
      "('Bye-bye.', 1)\n",
      "('See', 2)\n",
      "('later.', 1)\n",
      "('delicious', 1)\n",
      "('planet.', 1)\n",
      "('preferred', 1)\n",
      "('humming.', 1)\n",
      "('tissue', 1)\n",
      "('making', 3)\n",
      "('mess.', 1)\n",
      "('word', 2)\n",
      "('parfait', 1)\n",
      "('slobbering.', 1)\n",
      "('Montage:', 1)\n",
      "('Walking', 1)\n",
      "('sunset.', 2)\n",
      "('Sleeping', 1)\n",
      "('beneath', 1)\n",
      "('bright', 1)\n",
      "('moon.', 2)\n",
      "('campfire', 1)\n",
      "('next', 2)\n",
      "('day;', 1)\n",
      "('peeing', 1)\n",
      "('I’m', 10)\n",
      "('way,', 4)\n",
      "('Proclaimers.', 1)\n",
      "('DARK.', 5)\n",
      "(\"DRAGON'S\", 1)\n",
      "('KEEP', 4)\n",
      "('Dragon’s', 2)\n",
      "('volcano.', 1)\n",
      "('molten', 1)\n",
      "('lava', 1)\n",
      "('everywhere.', 1)\n",
      "('(sniffs)', 1)\n",
      "('Ohh!', 4)\n",
      "('Shrek!', 21)\n",
      "('Did', 1)\n",
      "('crack', 2)\n",
      "('everything.', 1)\n",
      "('Believe', 1)\n",
      "(\"you'd\", 2)\n",
      "('dead.', 1)\n",
      "('(Sniffs)', 1)\n",
      "('brimstone.', 4)\n",
      "('close.', 1)\n",
      "('smell.', 1)\n",
      "(\"wasn't\", 5)\n",
      "('stone', 4)\n",
      "('neither.', 2)\n",
      "('reach', 2)\n",
      "('volcano', 2)\n",
      "('lava.', 2)\n",
      "('rickety', 2)\n",
      "('bridge', 6)\n",
      "('leads', 1)\n",
      "('Sure,', 1)\n",
      "('enough,', 1)\n",
      "('location.', 1)\n",
      "('Laughs...then', 1)\n",
      "('laugh', 1)\n",
      "('groan.', 1)\n",
      "('remember', 1)\n",
      "('said', 7)\n",
      "('layers?', 1)\n",
      "('aye.', 1)\n",
      "('bit', 1)\n",
      "('confession', 1)\n",
      "('Donkeys', 2)\n",
      "('fear', 1)\n",
      "('sleeves.', 2)\n",
      "('mean.', 1)\n",
      "('afraid', 6)\n",
      "('heights.', 1)\n",
      "('uncomfortable', 1)\n",
      "('being', 5)\n",
      "('on,', 4)\n",
      "('Donkey.', 13)\n",
      "('ya,', 1)\n",
      "('okay?', 6)\n",
      "('emotional', 1)\n",
      "('support,', 1)\n",
      "('we’ll', 1)\n",
      "('tackle', 1)\n",
      "('baby', 1)\n",
      "('step', 4)\n",
      "('time.', 6)\n",
      "('makes', 4)\n",
      "('better.', 4)\n",
      "('Keep', 2)\n",
      "('rotting', 1)\n",
      "('board', 1)\n",
      "('ends', 1)\n",
      "('looking', 5)\n",
      "(\"lookin'\", 2)\n",
      "('down!', 3)\n",
      "('God,', 1)\n",
      "('halfway.', 1)\n",
      "('half', 3)\n",
      "('safe!', 1)\n",
      "('this.', 3)\n",
      "('Wait!', 1)\n",
      "('Just,', 1)\n",
      "('dance', 1)\n",
      "('then,', 1)\n",
      "('bounces', 1)\n",
      "('sways', 1)\n",
      "('bridge.', 2)\n",
      "('sorry.', 3)\n",
      "('this?', 2)\n",
      "('(Bounces', 1)\n",
      "('again.)', 1)\n",
      "('Yes?', 1)\n",
      "('Okay.', 4)\n",
      "('bounce', 1)\n",
      "('sway', 1)\n",
      "('backs', 2)\n",
      "('across', 2)\n",
      "(\"doin'\", 1)\n",
      "('solid', 1)\n",
      "('die.', 5)\n",
      "(\"That'll\", 2)\n",
      "('towards', 6)\n",
      "('Cool.', 2)\n",
      "('pain-in-the-neck', 1)\n",
      "('anyway?', 2)\n",
      "('Inside,', 1)\n",
      "('her.', 13)\n",
      "('(Chuckles.)', 3)\n",
      "('dragon,', 1)\n",
      "('DRAGON’S', 5)\n",
      "('afraid?', 1)\n",
      "('But...', 1)\n",
      "('Shh.', 2)\n",
      "('good.', 7)\n",
      "('Me', 1)\n",
      "('skeleton', 1)\n",
      "('gasps.', 1)\n",
      "(\"nothin'\", 2)\n",
      "('wrong', 1)\n",
      "(\"bein'\", 1)\n",
      "('afraid.', 1)\n",
      "(\"Fear's\", 1)\n",
      "('sensible', 1)\n",
      "('response', 1)\n",
      "('unfamiliar', 1)\n",
      "('situation.', 1)\n",
      "('Unfamiliar', 1)\n",
      "('dangerous', 1)\n",
      "('situation,', 1)\n",
      "('add.', 1)\n",
      "('With', 2)\n",
      "('breathes', 3)\n",
      "('fire', 5)\n",
      "('eats', 2)\n",
      "('fire,', 1)\n",
      "('sure', 2)\n",
      "('coward', 1)\n",
      "('scared,', 1)\n",
      "('mean?', 2)\n",
      "('heck', 1)\n",
      "('coward.', 1)\n",
      "('crashes', 2)\n",
      "('metal', 1)\n",
      "('helmets.', 1)\n",
      "('helmet', 3)\n",
      "('things,', 2)\n",
      "('Shut', 1)\n",
      "('...', 1)\n",
      "('stairs.', 5)\n",
      "('Donkey’s', 1)\n",
      "('puts', 4)\n",
      "('Stairs?', 1)\n",
      "('stairs', 2)\n",
      "('tower.', 2)\n",
      "(\"she'll\", 1)\n",
      "('read', 2)\n",
      "('book', 1)\n",
      "('once.', 1)\n",
      "('off)', 1)\n",
      "('handle', 2)\n",
      "('whip', 1)\n",
      "(\"goin'.\", 1)\n",
      "('off.)', 4)\n",
      "('KEEP.', 2)\n",
      "('EMPTY', 1)\n",
      "('ROOM', 1)\n",
      "('still', 11)\n",
      "('room.', 2)\n",
      "('drastic', 1)\n",
      "('steps.', 1)\n",
      "('Kick', 1)\n",
      "('curb.', 1)\n",
      "('mess', 1)\n",
      "('stair', 1)\n",
      "('master.', 1)\n",
      "('mastered', 1)\n",
      "('wish', 1)\n",
      "('here,', 3)\n",
      "('Unbeknownst', 1)\n",
      "('Dragon', 7)\n",
      "('eye.', 2)\n",
      "('ELSEWHERE', 2)\n",
      "('light', 2)\n",
      "('least', 3)\n",
      "(\"where's\", 1)\n",
      "('the...', 1)\n",
      "('(Interrupts,', 1)\n",
      "('yelling.)', 1)\n",
      "('Dragon!', 1)\n",
      "('gasps', 2)\n",
      "('chase.', 1)\n",
      "('fireball.', 1)\n",
      "('releases', 1)\n",
      "('second', 1)\n",
      "('fireball,', 1)\n",
      "('way.', 6)\n",
      "('chase', 1)\n",
      "('Donkey;', 1)\n",
      "('dragon’s', 4)\n",
      "('tail,', 1)\n",
      "('distracting', 1)\n",
      "('Got', 1)\n",
      "('irritated', 1)\n",
      "('flicks', 1)\n",
      "('tail', 2)\n",
      "('air', 2)\n",
      "('roof', 1)\n",
      "('LIGHT.', 2)\n",
      "('FIONA’S', 2)\n",
      "('TOWER', 2)\n",
      "('wakes', 2)\n",
      "('floor.', 2)\n",
      "('chasing', 1)\n",
      "('breathing', 1)\n",
      "('terrifying.', 1)\n",
      "('Aah!', 5)\n",
      "('cornered', 1)\n",
      "('repeatedly', 2)\n",
      "('knocks', 1)\n",
      "('small', 1)\n",
      "('standing', 1)\n",
      "('DRAGON', 8)\n",
      "('(Rumbles.)', 1)\n",
      "('teeth', 2)\n",
      "('have.', 1)\n",
      "('(Growls.)', 1)\n",
      "('white,', 1)\n",
      "('sparkling', 1)\n",
      "('teeth.', 1)\n",
      "('food,', 1)\n",
      "('bleach,', 1)\n",
      "('dazzling', 1)\n",
      "('smile', 3)\n",
      "('detect', 1)\n",
      "('hint', 1)\n",
      "('minty', 1)\n",
      "('freshness?', 1)\n",
      "('else?', 1)\n",
      "('dragon!', 1)\n",
      "('sure!', 1)\n",
      "('course', 1)\n",
      "('cos', 1)\n",
      "('reeking', 1)\n",
      "('feminine', 1)\n",
      "('beauty.', 1)\n",
      "('(Flutters', 1)\n",
      "('eyelids', 1)\n",
      "('Donkey.)', 1)\n",
      "('matter', 2)\n",
      "('eye?', 1)\n",
      "('(Blows', 1)\n",
      "('heart-shaped', 1)\n",
      "('smoke', 2)\n",
      "('ring.)', 1)\n",
      "('Ohh.', 1)\n",
      "('stay,', 2)\n",
      "(\"I'm,\", 1)\n",
      "('uh...(coughs)', 1)\n",
      "('asthmatic,', 1)\n",
      "(\"it'd\", 1)\n",
      "('work', 1)\n",
      "('blow', 1)\n",
      "('rings', 1)\n",
      "('stuff...', 1)\n",
      "('(Picks', 1)\n",
      "('carries', 1)\n",
      "('Ahhh,', 1)\n",
      "('straightens', 1)\n",
      "('dress', 2)\n",
      "('lays', 2)\n",
      "('bouquet', 1)\n",
      "('flowers', 2)\n",
      "('side', 1)\n",
      "('appears', 2)\n",
      "('asleep.', 2)\n",
      "('puckers', 2)\n",
      "('lips.', 2)\n",
      "('shoulders', 1)\n",
      "('shakes', 2)\n",
      "('awake.', 3)\n",
      "('FIONA', 137)\n",
      "('Wake', 3)\n",
      "('Fiona?', 3)\n",
      "('am,', 1)\n",
      "('awaiting', 2)\n",
      "('bold', 1)\n",
      "(\"let's\", 1)\n",
      "('wait,', 2)\n",
      "('Sir', 3)\n",
      "('Knight.', 2)\n",
      "('be-ith', 1)\n",
      "('meeting.', 1)\n",
      "('Should', 1)\n",
      "('wonderful,', 1)\n",
      "('romantic', 2)\n",
      "('moment?', 1)\n",
      "('sorry,', 4)\n",
      "('lady.', 1)\n",
      "('doing?', 7)\n",
      "('sweep', 1)\n",
      "('feet', 2)\n",
      "('yonder', 1)\n",
      "('window', 1)\n",
      "('valiant', 1)\n",
      "('steed.', 4)\n",
      "('plan', 1)\n",
      "('this,', 2)\n",
      "(\"haven't\", 2)\n",
      "('(Smiling.)', 1)\n",
      "('Mm-hmm.', 1)\n",
      "('breaks', 1)\n",
      "('lock', 1)\n",
      "('hallway.', 1)\n",
      "('Keep.', 1)\n",
      "('savor', 1)\n",
      "('moment!', 1)\n",
      "('recite', 1)\n",
      "('epic', 1)\n",
      "('poem', 1)\n",
      "('ballad?', 1)\n",
      "('sonnet!', 1)\n",
      "('limerick?', 1)\n",
      "('Or', 1)\n",
      "('something!', 1)\n",
      "('so.', 1)\n",
      "('name', 2)\n",
      "('champion?', 1)\n",
      "('(clears', 1)\n",
      "('handkerchief)', 1)\n",
      "('pray', 1)\n",
      "('favor', 1)\n",
      "('token', 1)\n",
      "('gratitude.', 1)\n",
      "('Thanks!', 1)\n",
      "('roar.', 1)\n",
      "('(Surprised.)', 1)\n",
      "('slay', 1)\n",
      "('dragon?', 1)\n",
      "('to-do', 1)\n",
      "('list.', 2)\n",
      "('(Takes', 2)\n",
      "('running,', 1)\n",
      "('dragging', 1)\n",
      "('him.)', 1)\n",
      "(\"isn't\", 3)\n",
      "('right!', 2)\n",
      "('meant', 2)\n",
      "('charge', 1)\n",
      "('in,', 2)\n",
      "('sword', 3)\n",
      "('drawn,', 1)\n",
      "('banner', 1)\n",
      "('flying.', 1)\n",
      "('did.', 1)\n",
      "('burst', 2)\n",
      "('flame.', 1)\n",
      "('point.', 1)\n",
      "('suddenly', 1)\n",
      "('ignores', 2)\n",
      "('side.', 2)\n",
      "('Wait.', 3)\n",
      "('going?', 1)\n",
      "(\"exit's\", 1)\n",
      "('save', 2)\n",
      "('ass.', 2)\n",
      "('kind.', 1)\n",
      "('throne', 1)\n",
      "('room,', 1)\n",
      "('wrapped', 2)\n",
      "('cannot', 1)\n",
      "('escape.', 1)\n",
      "('Slow', 2)\n",
      "('baby,', 1)\n",
      "('please.', 1)\n",
      "('believe', 2)\n",
      "('healthy', 1)\n",
      "('period', 1)\n",
      "('call', 1)\n",
      "('old-fashioned.', 1)\n",
      "('(laughs', 1)\n",
      "('worriedly)', 1)\n",
      "('(Rumbles', 1)\n",
      "('gently.)', 1)\n",
      "('rush', 1)\n",
      "('physical', 2)\n",
      "('relationship.', 1)\n",
      "('emotionally', 1)\n",
      "('commitment', 1)\n",
      "('of,', 1)\n",
      "('Magnitude', 1)\n",
      "('for.', 3)\n",
      "('Magnitude-', 1)\n",
      "('(Gently', 2)\n",
      "('touches', 1)\n",
      "('chin', 1)\n",
      "('claw.)', 1)\n",
      "('unwanted', 1)\n",
      "('contact.', 1)\n",
      "('chandelier', 3)\n",
      "('it.)', 1)\n",
      "('okay.', 6)\n",
      "('friends', 3)\n",
      "('pen', 1)\n",
      "('pals.', 1)\n",
      "('chain,', 1)\n",
      "('swing', 1)\n",
      "('swings', 4)\n",
      "('starts', 3)\n",
      "('climbing', 1)\n",
      "('chandelier.', 2)\n",
      "('lot,', 1)\n",
      "('receiving', 1)\n",
      "('cards', 3)\n",
      "('tail!', 1)\n",
      "('personal', 1)\n",
      "('tear', 1)\n",
      "('permission', 1)\n",
      "('No', 4)\n",
      "('chain', 5)\n",
      "('unwinds', 1)\n",
      "('kisses', 2)\n",
      "('instead.', 2)\n",
      "('eyes', 4)\n",
      "('roars.', 2)\n",
      "('lets', 1)\n",
      "('head,', 1)\n",
      "('forming', 1)\n",
      "('again', 3)\n",
      "('Hi,', 2)\n",
      "('Princess!', 3)\n",
      "('trick.', 1)\n",
      "('gains', 1)\n",
      "('jumps', 1)\n",
      "('descending', 1)\n",
      "('slide', 1)\n",
      "('groin.', 1)\n",
      "('stumbles', 1)\n",
      "('close', 1)\n",
      "('exit', 2)\n",
      "('sets', 3)\n",
      "('two,', 1)\n",
      "('exit!', 1)\n",
      "('care', 1)\n",
      "('toward', 3)\n",
      "('interior', 1)\n",
      "('between', 1)\n",
      "('overlapping', 1)\n",
      "('links.', 1)\n",
      "('links', 1)\n",
      "('neck.', 1)\n",
      "('(Echoing.)', 1)\n",
      "('Run!', 2)\n",
      "('race', 1)\n",
      "('pursuit.', 1)\n",
      "('At', 1)\n",
      "('bridge,', 1)\n",
      "('burn', 1)\n",
      "('collapses.', 1)\n",
      "('attempts', 1)\n",
      "('fly', 1)\n",
      "('them,', 1)\n",
      "('restrained', 1)\n",
      "('others', 1)\n",
      "('climb', 3)\n",
      "('safety.', 1)\n",
      "('angry', 1)\n",
      "('giving', 1)\n",
      "('sad', 1)\n",
      "('whimper', 1)\n",
      "('ACROSS', 1)\n",
      "('FROM', 1)\n",
      "('Safely', 1)\n",
      "('side,', 1)\n",
      "('trio', 1)\n",
      "('journey', 2)\n",
      "('(Sliding', 1)\n",
      "('volcanic', 1)\n",
      "('hill.)', 1)\n",
      "('rescued', 3)\n",
      "('amazing.', 1)\n",
      "('tumbles', 1)\n",
      "('wonderful.', 1)\n",
      "(\"You're...\", 1)\n",
      "('tumble', 1)\n",
      "('banging', 1)\n",
      "('...a', 1)\n",
      "('unorthodox', 1)\n",
      "('admit.', 1)\n",
      "('thy', 2)\n",
      "('deed', 3)\n",
      "('great,', 1)\n",
      "('heart', 1)\n",
      "('pure.', 1)\n",
      "('eternally', 1)\n",
      "('debt.', 1)\n",
      "('throat.', 1)\n",
      "('without', 2)\n",
      "('steed?', 1)\n",
      "('hope', 1)\n",
      "('called', 1)\n",
      "('thinks', 2)\n",
      "('battle', 1)\n",
      "('won.', 1)\n",
      "('helmet,', 1)\n",
      "('not?', 2)\n",
      "('hair.', 1)\n",
      "('Please.', 1)\n",
      "(\"would'st\", 1)\n",
      "('face', 3)\n",
      "('rescuer.', 2)\n",
      "(\"wouldn't\", 3)\n",
      "(\"'st.\", 1)\n",
      "('how', 10)\n",
      "('(to', 4)\n",
      "('description.', 1)\n",
      "('perk.', 1)\n",
      "('destiny.', 1)\n",
      "('goes.', 1)\n",
      "('beset', 1)\n",
      "('knight,', 1)\n",
      "('share', 1)\n",
      "('think-', 1)\n",
      "('love?', 2)\n",
      "('yes.', 2)\n",
      "('Both', 2)\n",
      "('laughing.', 1)\n",
      "('love!', 1)\n",
      "('funny?', 1)\n",
      "('type,', 1)\n",
      "('course,', 1)\n",
      "('Look.', 1)\n",
      "('to.', 2)\n",
      "('Now!', 1)\n",
      "('Easy.', 1)\n",
      "('command.', 1)\n",
      "('Highness.', 1)\n",
      "('helmet.)', 1)\n",
      "('You-', 1)\n",
      "('a-', 1)\n",
      "('expecting', 1)\n",
      "('Prince', 1)\n",
      "('Charming.', 1)\n",
      "('yes,', 2)\n",
      "('actually.', 1)\n",
      "('wrong.', 1)\n",
      "('Princess,', 6)\n",
      "('sent', 1)\n",
      "('wants', 3)\n",
      "('question.', 2)\n",
      "('ask', 3)\n",
      "('love,', 4)\n",
      "('pet.', 1)\n",
      "('easier.', 1)\n",
      "('problem.', 1)\n",
      "('properly,', 1)\n",
      "('messenger', 1)\n",
      "('boy,', 2)\n",
      "('(Ominous)', 1)\n",
      "('delivery', 1)\n",
      "('dare.', 1)\n",
      "('Put', 3)\n",
      "('Ya', 1)\n",
      "(\"comin',\", 1)\n",
      "('Donkey?', 4)\n",
      "('ya.', 1)\n",
      "('suffer', 1)\n",
      "('consequences!', 1)\n",
      "('dignified!', 1)\n",
      "('WOODS', 1)\n",
      "('Time', 2)\n",
      "('passed', 1)\n",
      "('calmed', 1)\n",
      "('carried', 1)\n",
      "('shoulder,', 1)\n",
      "('hanging', 1)\n",
      "('there,', 3)\n",
      "('bored.', 1)\n",
      "(\"here's\", 1)\n",
      "('Say', 1)\n",
      "('digs', 1)\n",
      "('easy', 1)\n",
      "('feelings', 1)\n",
      "(\"aren't\", 3)\n",
      "('hurt,', 1)\n",
      "('crisp', 1)\n",
      "('eaten?', 1)\n",
      "('love.', 3)\n",
      "('knowest', 1)\n",
      "('Fiona,', 6)\n",
      "('startling', 2)\n",
      "('her,', 1)\n",
      "('smiles,', 1)\n",
      "('doesn’t', 2)\n",
      "('see.', 1)\n",
      "('sooner', 1)\n",
      "('Princess.', 6)\n",
      "('beautiful!', 1)\n",
      "('groom-to-be?', 1)\n",
      "('Farquaad?', 3)\n",
      "('like?', 1)\n",
      "('unceremoniously', 1)\n",
      "('watering', 2)\n",
      "('hole.', 1)\n",
      "('Men', 1)\n",
      "('stature', 1)\n",
      "('short', 1)\n",
      "('supply.', 1)\n",
      "('laugh.', 1)\n",
      "('hole,', 1)\n",
      "('splashing', 1)\n",
      "('water', 1)\n",
      "('clean', 1)\n",
      "('laugh,', 1)\n",
      "('irritated.', 1)\n",
      "('it,', 2)\n",
      "('jealous', 1)\n",
      "('measure', 1)\n",
      "('ruler', 1)\n",
      "('\"measuring\"', 1)\n",
      "('tomorrow.', 1)\n",
      "('sun', 6)\n",
      "('setting.', 1)\n",
      "('(Gasps)', 1)\n",
      "('Tomorrow?', 1)\n",
      "(\"It'll\", 1)\n",
      "('long?', 1)\n",
      "(\"Shouldn't\", 1)\n",
      "('stop', 2)\n",
      "('camp?', 1)\n",
      "(\"that'll\", 1)\n",
      "('longer.', 1)\n",
      "('going.', 1)\n",
      "('robbers', 1)\n",
      "('Camp', 1)\n",
      "('starting', 1)\n",
      "('scarier', 1)\n",
      "('anything', 2)\n",
      "(\"we're\", 4)\n",
      "('forest.', 1)\n",
      "('somewhere', 1)\n",
      "('camp', 1)\n",
      "('now!', 2)\n",
      "('ears', 1)\n",
      "('lower', 1)\n",
      "('scary!', 1)\n",
      "('SUNSET.', 2)\n",
      "('MOUNTAIN', 1)\n",
      "('CLIFF', 1)\n",
      "('cave', 5)\n",
      "('order.', 1)\n",
      "('shoves', 1)\n",
      "('boulder', 2)\n",
      "('reveal', 1)\n",
      "('cave.', 2)\n",
      "('Over', 1)\n",
      "('fit', 1)\n",
      "('needs', 1)\n",
      "('few', 1)\n",
      "('homey', 1)\n",
      "('touches.', 1)\n",
      "('Homey', 1)\n",
      "('touches?', 1)\n",
      "('tears', 1)\n",
      "('bark', 2)\n",
      "('tree.', 2)\n",
      "('door?', 1)\n",
      "('gentlemen,', 1)\n",
      "('bid', 1)\n",
      "('thee', 1)\n",
      "('enters', 1)\n",
      "('bedtime', 1)\n",
      "('story?', 1)\n",
      "('Cos', 1)\n",
      "('will.', 1)\n",
      "('night!', 1)\n",
      "('taken', 1)\n",
      "('aback', 1)\n",
      "('Fiona’s', 3)\n",
      "('manner.', 1)\n",
      "('entrance', 2)\n",
      "('inside.', 2)\n",
      "('(Laughs.)', 2)\n",
      "('just-', 1)\n",
      "('kidding.', 2)\n",
      "('CAMPFIRE', 1)\n",
      "('campfire.', 1)\n",
      "('dark', 1)\n",
      "('sky', 2)\n",
      "('thousands', 1)\n",
      "('stars.', 1)\n",
      "('staring', 1)\n",
      "('points', 1)\n",
      "('certain', 1)\n",
      "('star', 1)\n",
      "('constellations', 1)\n",
      "('And,', 1)\n",
      "('Throwback,', 1)\n",
      "('wheat', 1)\n",
      "('fields.', 1)\n",
      "('Yeah.', 3)\n",
      "('future', 2)\n",
      "('these', 2)\n",
      "('stars?', 1)\n",
      "('stars', 1)\n",
      "('future,', 1)\n",
      "('stories.', 1)\n",
      "('Bloodnut,', 1)\n",
      "('Flatulent.', 1)\n",
      "('famous', 1)\n",
      "('look.', 3)\n",
      "('group', 4)\n",
      "('hunters', 1)\n",
      "('stench.', 1)\n",
      "('bunch', 2)\n",
      "('dots.', 1)\n",
      "('sometimes', 1)\n",
      "('things', 2)\n",
      "('appear.', 1)\n",
      "('Forget', 1)\n",
      "('(Heaves', 1)\n",
      "('Our', 2)\n",
      "('rescuing', 2)\n",
      "('We?', 1)\n",
      "('\"we\".', 1)\n",
      "('\"our\".', 1)\n",
      "('build', 1)\n",
      "('ten-foot', 1)\n",
      "('deep,', 1)\n",
      "('deep', 2)\n",
      "('think?', 2)\n",
      "(\"hidin'\", 1)\n",
      "('Never', 3)\n",
      "('mind,', 3)\n",
      "('onion', 2)\n",
      "('drop-it', 1)\n",
      "('leave-it', 1)\n",
      "('alone', 1)\n",
      "('talk', 4)\n",
      "('blocking?', 1)\n",
      "('blocking.', 1)\n",
      "('warning', 1)\n",
      "('out?', 1)\n",
      "('Everyone!', 1)\n",
      "('Okay?', 2)\n",
      "('(Pause.)', 1)\n",
      "(\"gettin'\", 1)\n",
      "('somewhere.', 1)\n",
      "('(Grins.)', 1)\n",
      "('Pete!', 2)\n",
      "('Unseen', 1)\n",
      "('edge', 1)\n",
      "('cliff', 1)\n",
      "('Hey', 1)\n",
      "(\"what's\", 4)\n",
      "('problem,', 2)\n",
      "('world', 2)\n",
      "('anyway,', 1)\n",
      "('huh?', 1)\n",
      "('seems', 1)\n",
      "('problem', 1)\n",
      "('\"Aah!', 1)\n",
      "('Help!', 1)\n",
      "('big,', 3)\n",
      "('stupid,', 3)\n",
      "('ugly', 6)\n",
      "('ogre!\"', 1)\n",
      "('(Lets', 1)\n",
      "('judge', 2)\n",
      "('alone.', 3)\n",
      "('watches', 5)\n",
      "('intently', 1)\n",
      "('hideout.', 1)\n",
      "('listens,', 1)\n",
      "('closes', 2)\n",
      "('When', 4)\n",
      "('met,', 1)\n",
      "(\"there's,\", 1)\n",
      "('Gabby,', 1)\n",
      "('Small', 1)\n",
      "('Annoying.', 1)\n",
      "('shiny', 1)\n",
      "('DULOC.', 1)\n",
      "('FARQUAAD’S', 1)\n",
      "('BEDROOM.', 1)\n",
      "('pans', 1)\n",
      "('wedding', 4)\n",
      "('regalia.', 1)\n",
      "('Soft', 1)\n",
      "('background.', 1)\n",
      "('bed,', 1)\n",
      "('Mirror', 2)\n",
      "('showing', 2)\n",
      "('Again,', 1)\n",
      "('show', 4)\n",
      "('mirror,', 1)\n",
      "('Show', 1)\n",
      "('Hmph.', 1)\n",
      "('rewinds', 1)\n",
      "('play', 2)\n",
      "('beginning.', 1)\n",
      "('Ah.', 2)\n",
      "('Perfect.', 1)\n",
      "('bare', 1)\n",
      "('chest', 1)\n",
      "('sheet', 1)\n",
      "('cover', 1)\n",
      "('though', 1)\n",
      "('gazes', 1)\n",
      "('sheepishly', 1)\n",
      "('image', 1)\n",
      "('mirror.', 1)\n",
      "('MORNING.', 3)\n",
      "('sleeping.', 1)\n",
      "('wanders', 1)\n",
      "('woods', 2)\n",
      "('blue', 3)\n",
      "('bird', 5)\n",
      "('sing.', 1)\n",
      "('sings', 1)\n",
      "('higher', 2)\n",
      "('notes', 1)\n",
      "('pressure', 1)\n",
      "('note', 1)\n",
      "('explodes.', 1)\n",
      "('eggs', 3)\n",
      "('left', 2)\n",
      "('cooks', 1)\n",
      "('breakfast.', 1)\n",
      "('(Quietly)', 1)\n",
      "('Mmm,', 1)\n",
      "('yeah,', 1)\n",
      "('like,', 1)\n",
      "('baby.', 1)\n",
      "('wake', 1)\n",
      "('stretches', 1)\n",
      "('yawns.)', 1)\n",
      "('morning.', 1)\n",
      "('Hmm,', 1)\n",
      "('eggs?', 1)\n",
      "('morning,', 1)\n",
      "('about?', 5)\n",
      "('bad', 2)\n",
      "('yesterday.', 1)\n",
      "('wanted', 3)\n",
      "('all,', 1)\n",
      "('thanks.', 1)\n",
      "('sniffs', 1)\n",
      "(\"We've\", 1)\n",
      "('day', 5)\n",
      "('ahead', 2)\n",
      "('LATER.', 1)\n",
      "('belches.', 2)\n",
      "('compliment.', 1)\n",
      "('Better', 1)\n",
      "('always', 3)\n",
      "('say.', 1)\n",
      "('behave', 1)\n",
      "('Thanks.', 1)\n",
      "('nasty', 1)\n",
      "('exactly', 1)\n",
      "('expected.', 1)\n",
      "('smiles', 1)\n",
      "('walking,', 1)\n",
      "('singing', 2)\n",
      "('softly.', 1)\n",
      "('nowhere,', 1)\n",
      "('swoops', 1)\n",
      "('ROBIN', 10)\n",
      "('HOOD', 10)\n",
      "('La', 1)\n",
      "('liberte!', 1)\n",
      "('Robin', 4)\n",
      "('Hood)', 1)\n",
      "('still,', 2)\n",
      "('mon', 1)\n",
      "('cherie,', 1)\n",
      "('savior!', 1)\n",
      "('green...', 1)\n",
      "('Hood', 2)\n",
      "('arm', 1)\n",
      "('disgust', 1)\n",
      "('...beast!', 1)\n",
      "('princess!', 3)\n",
      "('own!', 1)\n",
      "('monster!', 1)\n",
      "('busy', 1)\n",
      "('here?', 2)\n",
      "('(Getting', 1)\n",
      "('fed', 1)\n",
      "('up.)', 1)\n",
      "('pal,', 1)\n",
      "('rude.', 1)\n",
      "('introduce', 1)\n",
      "('Merry', 1)\n",
      "('Men!', 1)\n",
      "('(Laughs)', 2)\n",
      "('accordion', 1)\n",
      "('merry', 3)\n",
      "('jump', 1)\n",
      "('bushes.', 1)\n",
      "('sing', 1)\n",
      "(\"Hood's\", 1)\n",
      "('song.', 2)\n",
      "('MERRY', 7)\n",
      "('Ta,', 1)\n",
      "('dah,', 3)\n",
      "('whoo.', 1)\n",
      "('steal', 1)\n",
      "('rich', 1)\n",
      "('needy.', 1)\n",
      "('wee', 1)\n",
      "('percentage,', 1)\n",
      "('greedy.', 1)\n",
      "('pretty', 2)\n",
      "('damsels,', 1)\n",
      "('guy,', 1)\n",
      "('Monsieur', 1)\n",
      "('Hood.', 1)\n",
      "('Break', 1)\n",
      "('(Dancing.)', 1)\n",
      "('honest', 1)\n",
      "('saucy', 1)\n",
      "('maid...', 1)\n",
      "('basically', 1)\n",
      "('saying', 3)\n",
      "('get...', 2)\n",
      "('Paid.', 1)\n",
      "('So...When', 1)\n",
      "('bush', 1)\n",
      "('lady', 1)\n",
      "('tush.', 1)\n",
      "('bad.', 3)\n",
      "('That’s', 2)\n",
      "('Bad.', 2)\n",
      "(\"beauty's\", 1)\n",
      "('awfully', 1)\n",
      "('mad.', 2)\n",
      "('mad,', 1)\n",
      "('blade', 1)\n",
      "('ram', 1)\n",
      "('heart,', 1)\n",
      "('boys', 1)\n",
      "('start...', 1)\n",
      "('tree,', 1)\n",
      "('knocking', 1)\n",
      "('unconscious.', 1)\n",
      "('annoying!', 1)\n",
      "('admiration.', 1)\n",
      "('little-', 1)\n",
      "('shoots', 1)\n",
      "('arrow', 7)\n",
      "('ducks', 1)\n",
      "('launches', 1)\n",
      "('scene.', 1)\n",
      "('karate', 1)\n",
      "('chops', 1)\n",
      "('punches', 1)\n",
      "('standing.', 1)\n",
      "('stunned.', 1)\n",
      "('we?', 1)\n",
      "('phone.', 1)\n",
      "('heavily,', 2)\n",
      "('Whoa,', 1)\n",
      "('whoa,', 1)\n",
      "('whoa.', 1)\n",
      "('from?', 1)\n",
      "('That!', 1)\n",
      "('Back', 2)\n",
      "('amazing!', 1)\n",
      "('learn', 2)\n",
      "('Well...(laughs)', 1)\n",
      "('case', 1)\n",
      "('a...', 1)\n",
      "('(gasps', 1)\n",
      "('points)', 1)\n",
      "('butt!', 1)\n",
      "('looks.)', 1)\n",
      "('flinches.', 1)\n",
      "('fault.', 1)\n",
      "('(Walking', 1)\n",
      "('up)', 2)\n",
      "('Why?', 1)\n",
      "('wrong?', 1)\n",
      "('hurt.', 2)\n",
      "('hurt?', 1)\n",
      "('young', 1)\n",
      "('elevated.', 1)\n",
      "('Turn', 1)\n",
      "('cough.', 1)\n",
      "('Heimlich?', 1)\n",
      "('Donkey!', 5)\n",
      "('Calm', 2)\n",
      "('help', 1)\n",
      "('flower', 4)\n",
      "('red', 12)\n",
      "('thorns.', 12)\n",
      "('Blue', 10)\n",
      "('flower,', 10)\n",
      "('die', 1)\n",
      "('tunnel,', 1)\n",
      "('light!', 1)\n",
      "('yeah.', 3)\n",
      "('rid', 1)\n",
      "('hold', 5)\n",
      "('yank', 1)\n",
      "('(Fiona', 3)\n",
      "('little.)', 1)\n",
      "('(jumps', 2)\n",
      "('away)', 1)\n",
      "('Easy', 1)\n",
      "(\"yankin'.\", 1)\n",
      "('dodging', 1)\n",
      "('tender.', 1)\n",
      "('opposite', 1)\n",
      "('help.', 1)\n",
      "('move.', 2)\n",
      "('look,', 2)\n",
      "('Would', 1)\n",
      "('you...', 2)\n",
      "('arrow.', 1)\n",
      "('propose', 1)\n",
      "('do?', 1)\n",
      "('Meanwhile,', 1)\n",
      "('special', 1)\n",
      "('flower.', 1)\n",
      "('easier', 1)\n",
      "('color-blind!', 1)\n",
      "(\"comin'!\", 1)\n",
      "('rips', 1)\n",
      "('bush.', 1)\n",
      "('attending', 1)\n",
      "('butt.', 1)\n",
      "('hurries', 1)\n",
      "('nearly', 1)\n",
      "('grunts', 1)\n",
      "('pulls)', 1)\n",
      "('about...', 1)\n",
      "('jerks.', 1)\n",
      "('(Clears', 1)\n",
      "('throat.)', 2)\n",
      "('Nothing', 2)\n",
      "('happened.', 1)\n",
      "('just,', 1)\n",
      "('uh', 1)\n",
      "('ask.', 1)\n",
      "('mind.', 2)\n",
      "('just—', 1)\n",
      "('Ugh!', 2)\n",
      "('triumphantly.', 1)\n",
      "('(Nervous', 1)\n",
      "('chuckle.)', 1)\n",
      "(\"That's...is\", 1)\n",
      "('blood?', 1)\n",
      "('faints.', 1)\n",
      "('plays.)', 2)\n",
      "('montage', 1)\n",
      "('including:', 1)\n",
      "('•', 11)\n",
      "('crawling', 1)\n",
      "('tree', 3)\n",
      "('creek.', 1)\n",
      "('swatting', 1)\n",
      "('mosquitoes.', 1)\n",
      "('using', 1)\n",
      "('spiderweb', 1)\n",
      "('bugs.', 1)\n",
      "('catching', 3)\n",
      "('toad', 2)\n",
      "('blows', 1)\n",
      "('balloon', 2)\n",
      "('snake,', 1)\n",
      "('blowing', 1)\n",
      "('animal', 2)\n",
      "('windmill.', 2)\n",
      "('distance', 1)\n",
      "('awaits', 1)\n",
      "('DuLoc?', 1)\n",
      "('means', 1)\n",
      "('really...', 1)\n",
      "('heavily', 1)\n",
      "('hoof.', 1)\n",
      "('Um,', 3)\n",
      "('I,', 2)\n",
      "('uh-', 1)\n",
      "('Sure.', 1)\n",
      "('worried', 1)\n",
      "('kneels', 1)\n",
      "('eyes.)', 1)\n",
      "('back...', 1)\n",
      "('(pause)', 1)\n",
      "('dead!', 1)\n",
      "('awful.', 1)\n",
      "('|Do', 1)\n",
      "('down?', 1)\n",
      "('tea.', 1)\n",
      "(\"nothin',\", 1)\n",
      "('twinge', 1)\n",
      "('neck,', 1)\n",
      "('(turns', 1)\n",
      "('neck', 1)\n",
      "('sharp', 1)\n",
      "('completely', 1)\n",
      "('sideways)', 1)\n",
      "('See?', 1)\n",
      "('hungry?', 1)\n",
      "('dinner.', 1)\n",
      "('firewood.', 2)\n",
      "(\"goin'?\", 2)\n",
      "('toes!', 2)\n",
      "('(looks', 1)\n",
      "('yelps)', 1)\n",
      "('hug.', 1)\n",
      "('built', 1)\n",
      "('dinner', 4)\n",
      "('eats.', 1)\n",
      "('Mmm.', 1)\n",
      "('weed', 2)\n",
      "('rat.', 1)\n",
      "('Rotisserie', 1)\n",
      "('style.', 1)\n",
      "('also', 1)\n",
      "('stews.', 1)\n",
      "('brag,', 1)\n",
      "('rat', 1)\n",
      "('stew.', 1)\n",
      "('chuckles.)', 1)\n",
      "('dining', 1)\n",
      "('differently', 1)\n",
      "('tomorrow', 3)\n",
      "('visit', 1)\n",
      "('sometime.', 1)\n",
      "('cook', 1)\n",
      "('Swamp', 1)\n",
      "('soup,', 1)\n",
      "('fish', 1)\n",
      "('eye', 2)\n",
      "('tartare', 1)\n",
      "('(Smiles)', 1)\n",
      "('other.', 3)\n",
      "('Princess?', 4)\n",
      "('wondering...are', 1)\n",
      "('you...(sighs)', 1)\n",
      "('(chuckles)', 1)\n",
      "('romantic?', 1)\n",
      "('Sunset?', 1)\n",
      "(\"I-It's\", 1)\n",
      "('What!', 1)\n",
      "('minute.', 1)\n",
      "('dark,', 2)\n",
      "('Yes!', 2)\n",
      "('terrified.', 1)\n",
      "('bad,', 2)\n",
      "('used', 1)\n",
      "('too,', 1)\n",
      "('dark.', 1)\n",
      "('sighs.)', 1)\n",
      "('windmill', 2)\n",
      "('animal,', 1)\n",
      "('instincts.', 1)\n",
      "(\"diggin'\", 1)\n",
      "('crazy.', 1)\n",
      "('smell', 1)\n",
      "('pheromones.', 1)\n",
      "('feel.', 1)\n",
      "('I-', 1)\n",
      "('nothing', 1)\n",
      "('tell.', 2)\n",
      "('Besides,', 1)\n",
      "(\"sayin'\", 1)\n",
      "(\"'\", 1)\n",
      "('cause', 1)\n",
      "('princess,', 2)\n",
      "('An', 3)\n",
      "('ogre?', 1)\n",
      "('To', 1)\n",
      "('(sighs)', 1)\n",
      "('pile', 1)\n",
      "('firewood', 1)\n",
      "('WINDMILL.', 2)\n",
      "('Windmill', 1)\n",
      "('nowhere', 2)\n",
      "('seen.', 2)\n",
      "('shadows,', 1)\n",
      "('spooky', 1)\n",
      "('playing', 1)\n",
      "('games.', 1)\n",
      "('railing.', 1)\n",
      "('herself.', 1)\n",
      "('freaking', 1)\n",
      "('help!', 1)\n",
      "('Shh!', 1)\n",
      "('princess?', 1)\n",
      "('body.', 1)\n",
      "('God!', 1)\n",
      "('stomach.)', 2)\n",
      "('(Still', 1)\n",
      "('aimed', 1)\n",
      "('breathing!', 1)\n",
      "('pets', 1)\n",
      "('muzzle,', 1)\n",
      "('quiets', 1)\n",
      "('happened', 1)\n",
      "(\"You're,\", 1)\n",
      "('different.', 1)\n",
      "('ugly,', 2)\n",
      "('Was', 1)\n",
      "('ate?', 1)\n",
      "('rats', 1)\n",
      "('eat,', 1)\n",
      "('said.', 1)\n",
      "('been', 3)\n",
      "('remember.', 1)\n",
      "('before.', 3)\n",
      "('\"By', 2)\n",
      "('another.', 1)\n",
      "('norm...', 1)\n",
      "('kiss...', 1)\n",
      "('form.\"', 2)\n",
      "('wrote', 1)\n",
      "('poetry.', 1)\n",
      "('spell.', 3)\n",
      "('(sigh)', 1)\n",
      "('girl,', 1)\n",
      "('witch', 1)\n",
      "('cast', 1)\n",
      "('spell', 3)\n",
      "('Every', 2)\n",
      "('horrible,', 1)\n",
      "('placed', 1)\n",
      "('await', 1)\n",
      "('(She', 2)\n",
      "('cry.)', 1)\n",
      "('ugly.', 2)\n",
      "('lie.', 1)\n",
      "('24-7.', 1)\n",
      "(\"'bout\", 1)\n",
      "('break', 3)\n",
      "('orge,', 1)\n",
      "('Outside,', 1)\n",
      "('sunflower', 1)\n",
      "('himself)', 1)\n",
      "('how’s', 1)\n",
      "('going,', 1)\n",
      "('Good?', 1)\n",
      "('saw', 3)\n",
      "('pretty.', 1)\n",
      "('anyway.', 1)\n",
      "('uh...(sighs)', 1)\n",
      "('trouble.', 1)\n",
      "('pauses', 1)\n",
      "('talking.', 2)\n",
      "('whoever', 1)\n",
      "('want.', 1)\n",
      "('hideous', 2)\n",
      "('ugly?', 1)\n",
      "('\"Princess\"', 1)\n",
      "('\"ugly\"', 1)\n",
      "('shock.', 2)\n",
      "('chance', 2)\n",
      "('happily', 1)\n",
      "('sigh.', 1)\n",
      "('see,', 1)\n",
      "('be.', 1)\n",
      "('truth.', 2)\n",
      "('breathe', 1)\n",
      "('word.', 2)\n",
      "('point', 1)\n",
      "('secrets?', 1)\n",
      "('Promise', 1)\n",
      "('Promise!', 1)\n",
      "('should.', 1)\n",
      "('(goes', 1)\n",
      "('outside)', 1)\n",
      "('over,', 2)\n",
      "('serious', 1)\n",
      "('therapy.', 1)\n",
      "(\"twitchin'.\", 1)\n",
      "('sunflower.', 2)\n",
      "('plucking', 1)\n",
      "('petals', 1)\n",
      "('not.', 2)\n",
      "('exits', 1)\n",
      "('windmill,', 1)\n",
      "('want...', 1)\n",
      "('rises', 1)\n",
      "('human.', 1)\n",
      "('stomps', 2)\n",
      "('Perfect!', 1)\n",
      "('anything,', 1)\n",
      "('enough', 3)\n",
      "('said?', 1)\n",
      "('understand.', 3)\n",
      "('said,', 1)\n",
      "('\"Who', 1)\n",
      "('hideous,', 1)\n",
      "('beast?\"', 1)\n",
      "('Yeah?', 2)\n",
      "('approaching.', 1)\n",
      "('brought', 1)\n",
      "('something.', 1)\n",
      "('arrived', 1)\n",
      "('regal', 1)\n",
      "('horse.', 2)\n",
      "('tall.', 1)\n",
      "('yawn', 1)\n",
      "('soldiers', 1)\n",
      "('march', 1)\n",
      "('by.', 1)\n",
      "(\"What'd\", 2)\n",
      "('miss?', 2)\n",
      "('soldiers.)', 1)\n",
      "('SOLDIER', 1)\n",
      "('(Muffled)', 1)\n",
      "(\"Couldn't\", 1)\n",
      "('promised.', 1)\n",
      "('over.', 1)\n",
      "('Very', 2)\n",
      "('title', 2)\n",
      "('deed.', 1)\n",
      "('swamp,', 2)\n",
      "('cleared', 1)\n",
      "('agreed.', 1)\n",
      "('change', 1)\n",
      "('Forgive', 2)\n",
      "('startled', 1)\n",
      "('radiant', 1)\n",
      "('beauty', 1)\n",
      "('fingers.', 1)\n",
      "('short...', 1)\n",
      "('lifted', 2)\n",
      "('horse', 1)\n",
      "('set', 1)\n",
      "('waist.', 1)\n",
      "('...farewell.', 1)\n",
      "('sweet.', 1)\n",
      "('waste', 1)\n",
      "('manners', 1)\n",
      "('feelings.', 2)\n",
      "(\"doesn't.\", 1)\n",
      "('exchange', 1)\n",
      "('curious', 1)\n",
      "('beautiful,', 1)\n",
      "('fair,', 1)\n",
      "('flawless', 1)\n",
      "('marriage.', 1)\n",
      "('Will', 1)\n",
      "('bride', 1)\n",
      "('groom?', 1)\n",
      "('accept.', 1)\n",
      "('(Interrupting)', 1)\n",
      "('Excellent!', 1)\n",
      "('plans,', 1)\n",
      "('wed!', 1)\n",
      "('wait?', 1)\n",
      "('today', 2)\n",
      "('sets.', 1)\n",
      "('anxious,', 1)\n",
      "('sooner,', 1)\n",
      "('do!', 3)\n",
      "('caterer,', 1)\n",
      "('cake,', 1)\n",
      "('band,', 1)\n",
      "('guest', 1)\n",
      "('round', 1)\n",
      "('guests!', 1)\n",
      "('Fare-thee-well,', 1)\n",
      "('party', 2)\n",
      "('letting', 1)\n",
      "('talked', 2)\n",
      "('night,', 1)\n",
      "('pals,', 1)\n",
      "('ya?', 2)\n",
      "('home?', 1)\n",
      "('home', 1)\n",
      "('alone!', 1)\n",
      "('Nobody', 2)\n",
      "('else!', 1)\n",
      "('Understand?', 1)\n",
      "('Nobody!', 1)\n",
      "('Especially', 1)\n",
      "('useless,', 1)\n",
      "('pathetic,', 1)\n",
      "('annoying,', 1)\n",
      "('donkeys!', 1)\n",
      "('wrong!', 1)\n",
      "('off.)(Music', 1)\n",
      "('MONTAGE', 1)\n",
      "('OF', 1)\n",
      "('DIFFERENT', 1)\n",
      "('SCENES.', 1)\n",
      "('arriving', 1)\n",
      "('fitted', 1)\n",
      "('dress.', 1)\n",
      "('stream', 1)\n",
      "('INT/EXT.', 1)\n",
      "('SHREKS', 1)\n",
      "('HOUSE.', 1)\n",
      "('investigate.', 1)\n",
      "('doing.', 1)\n",
      "('think,', 1)\n",
      "('people,', 1)\n",
      "('recognize', 1)\n",
      "(\"wall's\", 1)\n",
      "('half.', 4)\n",
      "('half,', 1)\n",
      "('Hmm.', 1)\n",
      "('helped', 1)\n",
      "('work.', 1)\n",
      "('booty.', 1)\n",
      "('rock,', 1)\n",
      "('off!', 1)\n",
      "('branch', 2)\n",
      "('working', 1)\n",
      "('with.', 1)\n",
      "('go,', 1)\n",
      "('Stubborn', 1)\n",
      "('jackass!', 1)\n",
      "('Smelly', 1)\n",
      "('Fine!', 1)\n",
      "('hey,', 1)\n",
      "('Uh-uh.', 1)\n",
      "('always,', 1)\n",
      "('\"Me,', 1)\n",
      "('me!\"', 1)\n",
      "('what!', 1)\n",
      "('turn!', 1)\n",
      "('pay', 1)\n",
      "('attention!', 1)\n",
      "('insult', 1)\n",
      "('appreciate', 1)\n",
      "('pushing', 2)\n",
      "('yeah?', 1)\n",
      "('treated', 1)\n",
      "('back?', 1)\n",
      "('Because', 2)\n",
      "('forgive', 3)\n",
      "('other!', 1)\n",
      "(\"stabbin'\", 1)\n",
      "('back!', 2)\n",
      "('toilet', 1)\n",
      "('layers,', 1)\n",
      "('are,', 1)\n",
      "('ll', 1)\n",
      "('creature.', 1)\n",
      "('about,', 1)\n",
      "('else.', 1)\n",
      "('Uh-uh,', 1)\n",
      "('anything.', 1)\n",
      "('listen', 2)\n",
      "('Right?', 2)\n",
      "('(Sigh.)', 1)\n",
      "('for,', 1)\n",
      "('Friends?', 1)\n",
      "('Friends.', 1)\n",
      "('asking', 1)\n",
      "('wedding!', 1)\n",
      "(\"We'll\", 1)\n",
      "('Ha-ha-ha!', 1)\n",
      "('fear,', 1)\n",
      "('will,', 1)\n",
      "('whistles', 1)\n",
      "('guarding', 1)\n",
      "('arrives', 1)\n",
      "('overhead', 1)\n",
      "('low', 1)\n",
      "('magnetism.', 1)\n",
      "('(They', 1)\n",
      "('laugh.)', 1)\n",
      "('Aw,', 1)\n",
      "('cuddle.)', 1)\n",
      "('slobbery.', 1)\n",
      "('hop', 1)\n",
      "('tight.', 1)\n",
      "('install', 1)\n",
      "('seat', 1)\n",
      "('belts', 1)\n",
      "('aboard', 1)\n",
      "('races', 1)\n",
      "('CHURCH.', 5)\n",
      "('married.', 2)\n",
      "('prompter', 2)\n",
      "('card', 2)\n",
      "('instruct', 1)\n",
      "('PRIEST', 5)\n",
      "('gather', 1)\n",
      "('bear', 1)\n",
      "('witness', 1)\n",
      "('union....', 1)\n",
      "('(Eyeing', 1)\n",
      "('setting', 2)\n",
      "('sun)', 2)\n",
      "('Um-', 1)\n",
      "('...of', 1)\n",
      "('king...', 1)\n",
      "('Excuse', 1)\n",
      "('Could', 1)\n",
      "('skip', 1)\n",
      "('\"I', 2)\n",
      "('do\\'s\"?', 1)\n",
      "('motions', 1)\n",
      "('priest', 2)\n",
      "('indulge', 1)\n",
      "('Fiona.)', 1)\n",
      "('COURTYARD.', 4)\n",
      "('milling', 1)\n",
      "('scattering', 1)\n",
      "('guards.', 2)\n",
      "('Dragon)', 1)\n",
      "('fun.', 1)\n",
      "('whistle.', 1)\n",
      "('nods', 1)\n",
      "('wait!', 1)\n",
      "('(At', 1)\n",
      "('Church', 1)\n",
      "('door)', 1)\n",
      "(\"preacher's\", 1)\n",
      "('\"Speak', 1)\n",
      "('forever', 1)\n",
      "('peace.\"', 1)\n",
      "('object!\"', 1)\n",
      "('Listen', 1)\n",
      "('woman,', 1)\n",
      "('(Singing', 1)\n",
      "('James', 1)\n",
      "('Brown', 1)\n",
      "('style)', 1)\n",
      "('to,', 1)\n",
      "('try', 1)\n",
      "('tenderness.', 1)\n",
      "('(Normal)', 1)\n",
      "('chicks', 1)\n",
      "('crap!', 1)\n",
      "('Cut', 1)\n",
      "('does', 2)\n",
      "('line?', 1)\n",
      "('check', 1)\n",
      "('talks', 1)\n",
      "('shadow', 1)\n",
      "('crossing', 1)\n",
      "('windows.', 2)\n",
      "('tossing', 1)\n",
      "('so,', 1)\n",
      "('power', 1)\n",
      "('vested', 1)\n",
      "('see?', 1)\n",
      "(\"town's\", 1)\n",
      "('Inside.', 1)\n",
      "('pronounce', 1)\n",
      "('husband', 1)\n",
      "('wife...', 2)\n",
      "(\"They're\", 1)\n",
      "('altar.', 1)\n",
      "('...king', 1)\n",
      "('queen.', 1)\n",
      "('Mother', 1)\n",
      "('Fletcher!', 1)\n",
      "('hard.', 1)\n",
      "('(Running', 1)\n",
      "('alter)', 1)\n",
      "('object!', 1)\n",
      "('congregation', 4)\n",
      "('want?', 1)\n",
      "('Church)', 1)\n",
      "('everyone.', 1)\n",
      "(\"Havin'\", 1)\n",
      "('all.', 1)\n",
      "('clean.', 1)\n",
      "('rude', 1)\n",
      "('alive', 1)\n",
      "('uninvited', 1)\n",
      "('wedding...', 1)\n",
      "('talk?', 1)\n",
      "('late', 1)\n",
      "(\"you'll\", 1)\n",
      "('excuse', 1)\n",
      "('Because-', 1)\n",
      "('marring', 1)\n",
      "('Outrageous!', 1)\n",
      "('precious.', 1)\n",
      "('fallen', 1)\n",
      "('Lord.', 1)\n",
      "('usher', 1)\n",
      "('says', 1)\n",
      "(\"'Laugh'\", 1)\n",
      "('true?', 1)\n",
      "('cares?', 1)\n",
      "('preposterous!', 1)\n",
      "('\"happily', 1)\n",
      "('after.\"', 1)\n",
      "('leans', 2)\n",
      "('kiss,', 1)\n",
      "('(looking', 1)\n",
      "('another.\"', 1)\n",
      "('sets,', 1)\n",
      "('changes', 1)\n",
      "('sheepish', 1)\n",
      "('smile.', 1)\n",
      "('smiles.', 1)\n",
      "('explains', 1)\n",
      "('disgusting!', 1)\n",
      "('sight', 1)\n",
      "('them!', 1)\n",
      "('both!', 1)\n",
      "('separate', 1)\n",
      "('fights', 1)\n",
      "('hocus-pocus', 1)\n",
      "('alters', 1)\n",
      "('nothing.', 1)\n",
      "('marriage', 1)\n",
      "('binding,', 1)\n",
      "('See!', 2)\n",
      "('stand', 1)\n",
      "('morons.', 1)\n",
      "('Arrgh!', 1)\n",
      "('regret', 1)\n",
      "('met.', 1)\n",
      "('drawn', 1)\n",
      "('quartered!', 1)\n",
      "(\"You'll\", 1)\n",
      "('beg', 1)\n",
      "('death', 1)\n",
      "('(Lord', 1)\n",
      "('dagger', 1)\n",
      "(\"Fiona's\", 2)\n",
      "('days!', 1)\n",
      "('manages', 1)\n",
      "('whistles.', 1)\n",
      "('order!', 1)\n",
      "('perfection!', 1)\n",
      "('smash', 1)\n",
      "('window,', 1)\n",
      "('riding', 1)\n",
      "('Aaaah!', 1)\n",
      "('use', 1)\n",
      "('edge!', 1)\n",
      "('belches', 1)\n",
      "('crown', 1)\n",
      "('Celebrity', 1)\n",
      "('marriages.', 1)\n",
      "('they?', 1)\n",
      "('(Smiles.)', 1)\n",
      "('writes', 1)\n",
      "(\"'Awwww'\", 1)\n",
      "('shows', 1)\n",
      "('congregation.', 1)\n",
      "('CONGREGATION', 1)\n",
      "('Aawww!', 1)\n",
      "('magic', 2)\n",
      "('hovers', 1)\n",
      "('spins,', 1)\n",
      "('works', 1)\n",
      "('WHISPERS', 1)\n",
      "('\"Until', 1)\n",
      "('form.', 2)\n",
      "('wide.', 1)\n",
      "('consumed', 1)\n",
      "('slowly', 1)\n",
      "('lowered', 1)\n",
      "('(Going', 1)\n",
      "('ogre.)', 1)\n",
      "('hoping', 1)\n",
      "('happy', 1)\n",
      "('ending.', 1)\n",
      "('kiss...and', 1)\n",
      "('fades', 1)\n",
      "('into...', 1)\n",
      "('...their', 1)\n",
      "('apart', 1)\n",
      "('carriage,', 1)\n",
      "('tosses', 1)\n",
      "('bouquet,', 1)\n",
      "('Cinderella', 1)\n",
      "('catches', 1)\n",
      "('leg', 1)\n",
      "('candy', 1)\n",
      "('cane.', 1)\n",
      "('guests', 1)\n",
      "('Believer/Smash', 1)\n",
      "('Mouth.)', 1)\n",
      "('God', 1)\n",
      "('bless', 1)\n",
      "('us,', 1)\n",
      "('every', 1)\n",
      "('C’mon', 1)\n",
      "('all....', 1)\n",
      "('ha', 1)\n",
      "('ha,', 1)\n",
      "('believer,', 5)\n",
      "('trace', 2)\n",
      "('doubt', 2)\n",
      "('oh-ah', 1)\n",
      "('couldn’t', 1)\n",
      "('tried.', 1)\n",
      "('time!', 1)\n",
      "('c’mon!', 1)\n",
      "('believe,', 4)\n",
      "('(x9)', 1)\n",
      "('Fade', 1)\n",
      "('black.', 1)\n",
      "('Believe...', 2)\n",
      "('funny.', 1)\n",
      "('breathe.', 2)\n",
      "('---END---', 1)\n"
     ]
    },
    {
     "data": {
      "text/plain": [
       "3409"
      ]
     },
     "execution_count": 8,
     "metadata": {},
     "output_type": "execute_result"
    }
   ],
   "source": [
    "# Muestro todos\n",
    "for x in wordCounts.collect():\n",
    "     print(x)\n",
    "\n",
    "# Mostramos la cantidad\n",
    "wordCounts.count()"
   ]
  },
  {
   "cell_type": "markdown",
   "metadata": {
    "id": "wtIz-dd8BlgG"
   },
   "source": [
    "> **Nota 📝:** Mediante los RDD (Resilient Distributed Datasets), se llevan a cabo las operaciones fundamentales de Spark, tales como filtrado, mapeo, reducción y agrupación, proporcionando una base sólida para el procesamiento de datos. Posteriormente, estos mismos principios se aplican para realizar operaciones más avanzadas en DataFrames, permitiendo un manejo de datos más sofisticado sin que tengamos que intervenir directamente en la complejidad subyacente."
   ]
  },
  {
   "cell_type": "code",
   "execution_count": 9,
   "metadata": {
    "id": "IZYCbQXPJS9O"
   },
   "outputs": [],
   "source": [
    "# Importante apagar la sesión interactiva una vez que terminemos\n",
    "sc.stop()"
   ]
  },
  {
   "cell_type": "markdown",
   "metadata": {
    "id": "aPsXjEBlUUIr"
   },
   "source": [
    "> **Pregunta ❓**: ¿Cuál debería ser la razón de apagar esto?"
   ]
  },
  {
   "cell_type": "markdown",
   "metadata": {
    "id": "OdZllQKuLp8e"
   },
   "source": [
    "### Dataframes"
   ]
  },
  {
   "cell_type": "markdown",
   "metadata": {
    "id": "E8sld9A5LqiO"
   },
   "source": [
    "<center>\n",
    "<img src=\"https://github.com/MDS7202/MDS7202/blob/main/clases/2024-01/imagenes_clase_7/sparkDataframes.png?raw=true\" width=500 />"
   ]
  },
  {
   "cell_type": "markdown",
   "metadata": {
    "id": "V2T7a7_94_5X"
   },
   "source": [
    "\n",
    "\n",
    "Los DataFrames de Spark son estructuras de datos distribuidas, inmutables y esquematizadas, diseñadas para el procesamiento eficiente de grandes volúmenes de datos en clusters. Inspirados en los dataframes de R y Pandas, combinan la simplicidad de las APIs de alto nivel con la potencia del procesamiento paralelo distribuido. Cada DataFrame posee un esquema que define el nombre y tipo de sus columnas, permitiendo la manipulación de datos estructurados de manera intuitiva y eficaz. Además, los DataFrames facilitan la ejecución de consultas SQL y se integran con el ecosistema de Spark, ofreciendo una plataforma robusta para análisis de big data, con optimizaciones automáticas para mejorar el rendimiento y la eficiencia en el procesamiento de datos."
   ]
  },
  {
   "cell_type": "markdown",
   "metadata": {
    "id": "Vq0zxwKvOJRa"
   },
   "source": [
    "Como explicamos anteriormente, la SparkSession proporciona un punto de entrada único a las funcionalidades de Spark, simplificando la interacción del usuario con las capacidades de Spark. Algunos de los métodos mas relevantes son los siguientes:\n",
    "\n",
    "* `.appName(name):` Define el nombre de la aplicación Spark, útil para identificar la aplicación en la interfaz de usuario de Spark y en los registros.\n",
    "* `.master(url):` Especifica el modo de despliegue de la aplicación Spark (por ejemplo, local, local[4], spark://host:port, mesos://host:port, etc.).\n",
    "* `.config(key, value):` Permite establecer configuraciones específicas de Spark, como límites de memoria, propiedades de ejecución, configuraciones de serialización, entre otros."
   ]
  },
  {
   "cell_type": "code",
   "execution_count": 10,
   "metadata": {
    "id": "LEU4SxoH6MMq"
   },
   "outputs": [],
   "source": [
    "import pyspark\n",
    "from pyspark.sql import SparkSession\n",
    "\n",
    "sparksession = SparkSession.builder.master(\"local\").appName(\"Ejemplo Dataframes\").getOrCreate()"
   ]
  },
  {
   "cell_type": "markdown",
   "metadata": {
    "id": "ErU0DmmWWqHP"
   },
   "source": [
    "Luego comprobamos las definiciones entregadas a nuestra sesión de Spark:"
   ]
  },
  {
   "cell_type": "code",
   "execution_count": 11,
   "metadata": {
    "colab": {
     "base_uri": "https://localhost:8080/",
     "height": 221
    },
    "id": "aTFuAJaERNnG",
    "outputId": "1861d32c-5ce6-4a79-f2cd-08b1d669cc34"
   },
   "outputs": [
    {
     "data": {
      "text/html": [
       "\n",
       "            <div>\n",
       "                <p><b>SparkSession - in-memory</b></p>\n",
       "                \n",
       "        <div>\n",
       "            <p><b>SparkContext</b></p>\n",
       "\n",
       "            <p><a href=\"http://11fb6248a889:4040\">Spark UI</a></p>\n",
       "\n",
       "            <dl>\n",
       "              <dt>Version</dt>\n",
       "                <dd><code>v3.5.1</code></dd>\n",
       "              <dt>Master</dt>\n",
       "                <dd><code>local</code></dd>\n",
       "              <dt>AppName</dt>\n",
       "                <dd><code>Ejemplo Dataframes</code></dd>\n",
       "            </dl>\n",
       "        </div>\n",
       "        \n",
       "            </div>\n",
       "        "
      ],
      "text/plain": [
       "<pyspark.sql.session.SparkSession at 0x7f8d05e0a050>"
      ]
     },
     "execution_count": 11,
     "metadata": {},
     "output_type": "execute_result"
    }
   ],
   "source": [
    "sparksession"
   ]
  },
  {
   "cell_type": "markdown",
   "metadata": {
    "id": "DGFZ0OfyW48G"
   },
   "source": [
    "Trabajar con DataFrames en Spark comúnmente implica cargar datos desde una variedad de formatos, como Parquet, CSV, TXT, entre otros, dentro del entorno de Spark. Para ilustrar cómo se hace, cargaremos un archivo Parquet utilizando dos métodos diferentes: `read` y `load`."
   ]
  },
  {
   "cell_type": "code",
   "execution_count": 12,
   "metadata": {
    "id": "aztF3vPPQVQe"
   },
   "outputs": [],
   "source": [
    "%%capture\n",
    "!wget https://gitlab.com/imezadelajara/datos_clase_7_mds7202/-/raw/main/fraudes.parquet"
   ]
  },
  {
   "cell_type": "code",
   "execution_count": 13,
   "metadata": {
    "id": "P7hTlc1BQyD3"
   },
   "outputs": [],
   "source": [
    "df = (\n",
    "    sparksession.read\n",
    "    .option(\"header\",'True')\n",
    "    #.option('delimiter', ',') # Formato del delimiter en el archivo de lectura\n",
    "    .parquet(\"fraudes.parquet\")\n",
    "\n",
    ")\n",
    "\n",
    "df_estilo_pandas = (\n",
    "    sparksession.read\n",
    "    .load(\n",
    "        \"fraudes.parquet\",\n",
    "        format=\"parquet\",\n",
    "        sep=\",\",\n",
    "        inferSchema=\"true\",\n",
    "        header=\"true\"\n",
    "    )\n",
    ")"
   ]
  },
  {
   "cell_type": "code",
   "execution_count": 14,
   "metadata": {
    "id": "nrtEpM7jVwow"
   },
   "outputs": [],
   "source": [
    "assert df.schema == df_estilo_pandas.schema"
   ]
  },
  {
   "cell_type": "markdown",
   "metadata": {
    "id": "4Shj0qcjWdXk"
   },
   "source": [
    "\n",
    "Un `Schema` en Spark define la estructura de los datos, especificando los nombres de las columnas, los tipos de datos de cada columna, y si una columna puede contener valores nulos. En el contexto de Spark SQL y DataFrames, el esquema es una descripción formal de la organización de los datos, lo que facilita el procesamiento, la manipulación y el análisis de grandes conjuntos de datos de manera eficiente."
   ]
  },
  {
   "cell_type": "code",
   "execution_count": 15,
   "metadata": {
    "colab": {
     "base_uri": "https://localhost:8080/"
    },
    "id": "zSCa6-HsWJMo",
    "outputId": "67d87824-b595-47ed-af67-03ad0f0b43ca"
   },
   "outputs": [
    {
     "name": "stdout",
     "output_type": "stream",
     "text": [
      "root\n",
      " |-- Transaction ID: string (nullable = true)\n",
      " |-- Customer ID: string (nullable = true)\n",
      " |-- Transaction Amount: double (nullable = true)\n",
      " |-- Transaction Date: string (nullable = true)\n",
      " |-- Payment Method: string (nullable = true)\n",
      " |-- Product Category: string (nullable = true)\n",
      " |-- Quantity: long (nullable = true)\n",
      " |-- Customer Age: long (nullable = true)\n",
      " |-- Customer Location: string (nullable = true)\n",
      " |-- Device Used: string (nullable = true)\n",
      " |-- IP Address: string (nullable = true)\n",
      " |-- Shipping Address: string (nullable = true)\n",
      " |-- Billing Address: string (nullable = true)\n",
      " |-- Is Fraudulent: long (nullable = true)\n",
      " |-- Account Age Days: long (nullable = true)\n",
      " |-- Transaction Hour: long (nullable = true)\n",
      "\n"
     ]
    }
   ],
   "source": [
    "df.printSchema()"
   ]
  },
  {
   "cell_type": "markdown",
   "metadata": {
    "id": "TVo2hDtZXjil"
   },
   "source": [
    "## Transformaciones, Acciones y Lazy evaluation"
   ]
  },
  {
   "cell_type": "markdown",
   "metadata": {
    "id": "jTTzuWGNXkA-"
   },
   "source": [
    "<center>\n",
    "<img src=\"https://github.com/MDS7202/MDS7202/blob/main/clases/2024-01/imagenes_clase_7/lazy.png?raw=true\" width=500 />"
   ]
  },
  {
   "cell_type": "markdown",
   "metadata": {
    "id": "0uPaAN4PHNCE"
   },
   "source": [
    "\n",
    "\n",
    "En Spark, las operaciones se dividen en dos categorías principales: transformaciones y acciones.\n",
    "\n",
    "- **Transformaciones**: Estas operaciones generan un nuevo DataFrame a partir de uno existente sin modificar el conjunto de datos original, aprovechando la característica de inmutabilidad de los DataFrames de Spark. Permiten realizar manipulaciones como filtrar, mapear y agrupar los datos.\n",
    "\n",
    "- **Acciones**: Son las operaciones que desencadenan la ejecución de todas las transformaciones acumuladas. Las transformaciones se organizan y almacenan internamente hasta que se invoca una acción, momento en el cual Spark lleva a cabo las operaciones necesarias.\n",
    "\n",
    "Es crucial destacar que Spark opera bajo el principio de `lazy evaluation` , lo que significa que las operaciones se planifican y almacenan sin ejecutarse inmediatamente. Esta evaluación perezosa permite a Spark optimizar el plan de ejecución de las queries, encadenando transformaciones y manteniendo un linaje de los datos para proporcionar tolerancia a fallos. Esta arquitectura contrasta significativamente con sistemas como Hadoop, donde la tolerancia a fallos y la optimización de ejecución no son tan intrínsecamente gestionadas, ofreciendo a Spark una ventaja considerable en eficiencia y resiliencia."
   ]
  },
  {
   "cell_type": "markdown",
   "metadata": {
    "id": "sh7XzzzXKp_V"
   },
   "source": [
    "| Operación   | Tipo           |\n",
    "| ----------- | -------------- |\n",
    "| `orderBy()` | Transformación |\n",
    "| `groupBy()` | Transformación |\n",
    "| `filter()`  | Transformación |\n",
    "| `select()`  | Transformación |\n",
    "| `join()`    | Transformación |\n",
    "| `show()`    | Acción         |\n",
    "| `take()`    | Acción         |\n",
    "| `count()`   | Acción         |\n",
    "| `collect()` | Acción         |\n",
    "| `save()`    | Acción         |"
   ]
  },
  {
   "cell_type": "markdown",
   "metadata": {
    "id": "6KewgUYYKuNu"
   },
   "source": [
    "A partir de esto, podemos deducir que todos los métodos que consolidan información a partir de las tablas se clasifican como acciones, debido a que requieren ejecutar el linaje de comandos aplicados anteriormente para producir resultados."
   ]
  },
  {
   "cell_type": "markdown",
   "metadata": {
    "id": "SpK_5Is6XuO5"
   },
   "source": [
    "**Analicemos la diferencia en tiempo de ejecución entre una transformación y una acción:**"
   ]
  },
  {
   "cell_type": "code",
   "execution_count": 16,
   "metadata": {
    "colab": {
     "base_uri": "https://localhost:8080/"
    },
    "id": "goZ3wYR0TC9q",
    "outputId": "12d2178d-89a2-4f3a-f0e9-34fbb31f6876"
   },
   "outputs": [
    {
     "name": "stdout",
     "output_type": "stream",
     "text": [
      "CPU times: user 9.44 ms, sys: 324 µs, total: 9.76 ms\n",
      "Wall time: 443 ms\n"
     ]
    }
   ],
   "source": [
    "%%time\n",
    "df_group1 = df.groupBy('Product Category').agg(\n",
    "    {\n",
    "        'Customer Age':'median',\n",
    "        'Product Category':'count',\n",
    "        'Transaction Amount':'mean'\n",
    "    }\n",
    ")"
   ]
  },
  {
   "cell_type": "code",
   "execution_count": 17,
   "metadata": {
    "colab": {
     "base_uri": "https://localhost:8080/"
    },
    "id": "Ye9ObUUuTkOK",
    "outputId": "17c95145-5db5-4c39-d71c-19c9e4eed7b7"
   },
   "outputs": [
    {
     "name": "stdout",
     "output_type": "stream",
     "text": [
      "+----------------+--------------------+-----------------------+-----------------------+\n",
      "|Product Category|median(Customer Age)|avg(Transaction Amount)|count(Product Category)|\n",
      "+----------------+--------------------+-----------------------+-----------------------+\n",
      "| health & beauty|                35.0|     226.31680804387682|                 120340|\n",
      "|    toys & games|                34.0|     227.39503040971658|                 119863|\n",
      "|     electronics|                34.0|     226.74130695314096|                 119989|\n",
      "|        clothing|                35.0|     226.21975282397648|                 119955|\n",
      "|   home & garden|                35.0|     227.50232927002205|                 119853|\n",
      "+----------------+--------------------+-----------------------+-----------------------+\n",
      "\n",
      "CPU times: user 59.2 ms, sys: 5.97 ms, total: 65.1 ms\n",
      "Wall time: 9.58 s\n"
     ]
    }
   ],
   "source": [
    "%%time\n",
    "df_group1.show(10)"
   ]
  },
  {
   "cell_type": "code",
   "execution_count": 18,
   "metadata": {
    "id": "v4glOzgMiZ3J"
   },
   "outputs": [],
   "source": [
    "sparksession.stop()"
   ]
  },
  {
   "cell_type": "markdown",
   "metadata": {
    "id": "ftLKMNukYLjI"
   },
   "source": [
    "## Operaciones sobre DataFrames con Spark"
   ]
  },
  {
   "cell_type": "markdown",
   "metadata": {
    "id": "fOM3_k0BYU98"
   },
   "source": [
    "<center>\n",
    "<img src=\"https://github.com/MDS7202/MDS7202/blob/main/clases/2024-01/imagenes_clase_7/operationsDataframe.png?raw=true\" width=500 />"
   ]
  },
  {
   "cell_type": "markdown",
   "metadata": {
    "id": "eXdcsKRfcUtE"
   },
   "source": [
    "Al igual que en Pandas, Spark nos permite realizar una amplia gama de operaciones sobre los DataFrames, facilitando la creación de nuevas estructuras de datos que se ajustan a las necesidades específicas de un problema. En esta sección, exploraremos diversos comandos que abordan las operaciones más habituales que podrías necesitar en tus proyectos de análisis de datos con Spark."
   ]
  },
  {
   "cell_type": "code",
   "execution_count": 19,
   "metadata": {
    "id": "DJSWgx7eiUOy"
   },
   "outputs": [],
   "source": [
    "import pyspark\n",
    "from pyspark.sql import SparkSession\n",
    "\n",
    "sparksession = SparkSession.builder.master(\"local\").appName(\"Ejemplo Dataframes\").getOrCreate()\n",
    "\n",
    "df = (\n",
    "    sparksession.read\n",
    "    .option(\"header\",'True')\n",
    "    .parquet(\"fraudes.parquet\")\n",
    "\n",
    ")"
   ]
  },
  {
   "cell_type": "markdown",
   "metadata": {
    "id": "7PGNIGBYZhQk"
   },
   "source": [
    "### Operaciones Básicas"
   ]
  },
  {
   "cell_type": "markdown",
   "metadata": {
    "id": "OhA9ieDqcxc8"
   },
   "source": [
    "Como ya habiamos visto, el método `.printSchema()` es extremadamente útil para entender rápidamente la estructura de nuestros datos, incluyendo los nombres de las columnas y sus tipos de datos, así como si alguna columna permite valores nulos."
   ]
  },
  {
   "cell_type": "code",
   "execution_count": 20,
   "metadata": {
    "colab": {
     "base_uri": "https://localhost:8080/"
    },
    "id": "gQMo0o7ec8BG",
    "outputId": "78e93993-6495-43f1-93a4-5ed708564e3d"
   },
   "outputs": [
    {
     "name": "stdout",
     "output_type": "stream",
     "text": [
      "root\n",
      " |-- Transaction ID: string (nullable = true)\n",
      " |-- Customer ID: string (nullable = true)\n",
      " |-- Transaction Amount: double (nullable = true)\n",
      " |-- Transaction Date: string (nullable = true)\n",
      " |-- Payment Method: string (nullable = true)\n",
      " |-- Product Category: string (nullable = true)\n",
      " |-- Quantity: long (nullable = true)\n",
      " |-- Customer Age: long (nullable = true)\n",
      " |-- Customer Location: string (nullable = true)\n",
      " |-- Device Used: string (nullable = true)\n",
      " |-- IP Address: string (nullable = true)\n",
      " |-- Shipping Address: string (nullable = true)\n",
      " |-- Billing Address: string (nullable = true)\n",
      " |-- Is Fraudulent: long (nullable = true)\n",
      " |-- Account Age Days: long (nullable = true)\n",
      " |-- Transaction Hour: long (nullable = true)\n",
      "\n"
     ]
    }
   ],
   "source": [
    "# Revisemos el esquema del dataframe\n",
    "df.printSchema()"
   ]
  },
  {
   "cell_type": "code",
   "execution_count": null,
   "metadata": {
    "id": "90YmXHxpik2O"
   },
   "outputs": [],
   "source": [
    "# Podemos ver el tipo de objeto que es un dataframe\n",
    "type(df)"
   ]
  },
  {
   "cell_type": "markdown",
   "metadata": {
    "id": "awp4m9uzdYVj"
   },
   "source": [
    "`.head(1)` retorna las N primeras filas del DataFrame df como un objeto Row. Es especialmente útil para obtener una rápida visión general de los datos y su formato sin necesidad de cargar todo el conjunto de datos en memoria. Es similar a take(1), pero más intuitivo para quienes provienen de un entorno de Pandas.\n",
    "\n"
   ]
  },
  {
   "cell_type": "code",
   "execution_count": 78,
   "metadata": {
    "colab": {
     "base_uri": "https://localhost:8080/"
    },
    "id": "fI_hmxEKipNK",
    "outputId": "3c31ef92-233f-4b19-f5d1-89fdd9b5c13a"
   },
   "outputs": [
    {
     "data": {
      "text/plain": [
       "[Row(Transaction ID='15d2e414-8735-46fc-9e02-80b472b2580f', Customer ID='d1b87f62-51b2-493b-ad6a-77e0fe13e785', Transaction Amount=58.09, Transaction Date='2024-02-20 05:58:41', Payment Method='bank transfer', Product Category='electronics', Quantity=1, Customer Age=17, Customer Location='Amandaborough', Device Used='tablet', IP Address='212.195.49.198', Shipping Address='Unit 8934 Box 0058\\nDPO AA 05437', Billing Address='Unit 8934 Box 0058\\nDPO AA 05437', Is Fraudulent=0, Account Age Days=30, Transaction Hour=5)]"
      ]
     },
     "execution_count": 78,
     "metadata": {},
     "output_type": "execute_result"
    }
   ],
   "source": [
    "# Comprobar los N primeros elementos del dataframe\n",
    "df.head(1)"
   ]
  },
  {
   "cell_type": "markdown",
   "metadata": {
    "id": "mJCvZyPjdlj5"
   },
   "source": [
    "`show(n)` imprime las primeras n filas del DataFrame df en una tabla ASCII fácil de leer, en este caso, las primeras 4 filas. Es una herramienta conveniente para una inspección rápida de los datos, incluyendo el formato de las columnas y los primeros valores, lo que ayuda a entender el contexto de los datos con los que estamos trabajando."
   ]
  },
  {
   "cell_type": "code",
   "execution_count": 94,
   "metadata": {
    "colab": {
     "base_uri": "https://localhost:8080/"
    },
    "id": "jdPFcW1GirPy",
    "outputId": "3f5b74b0-3c2d-4a24-b319-85dcc91445db"
   },
   "outputs": [
    {
     "name": "stdout",
     "output_type": "stream",
     "text": [
      "+--------------------+--------------------+------------------+-------------------+--------------+----------------+--------+------------+-----------------+-----------+---------------+--------------------+--------------------+-------------+----------------+----------------+\n",
      "|      Transaction ID|         Customer ID|Transaction Amount|   Transaction Date|Payment Method|Product Category|Quantity|Customer Age|Customer Location|Device Used|     IP Address|    Shipping Address|     Billing Address|Is Fraudulent|Account Age Days|Transaction Hour|\n",
      "+--------------------+--------------------+------------------+-------------------+--------------+----------------+--------+------------+-----------------+-----------+---------------+--------------------+--------------------+-------------+----------------+----------------+\n",
      "|15d2e414-8735-46f...|d1b87f62-51b2-493...|             58.09|2024-02-20 05:58:41| bank transfer|     electronics|       1|          17|    Amandaborough|     tablet| 212.195.49.198|Unit 8934 Box 005...|Unit 8934 Box 005...|            0|              30|               5|\n",
      "|0bfee1a0-6d5e-40d...|37de64d5-e901-4a5...|            389.96|2024-02-25 08:09:45|    debit card|     electronics|       2|          40|     East Timothy|    desktop|208.106.249.121|634 May Keys\\nPor...|634 May Keys\\nPor...|            0|              72|               8|\n",
      "|e588eef4-b754-468...|1bac88d6-4b22-409...|            134.19|2024-03-18 03:42:55|        PayPal|   home & garden|       2|          22|       Davismouth|     tablet|   76.63.88.212|16282 Dana Falls ...|16282 Dana Falls ...|            0|              63|               3|\n",
      "|4de46e52-60c3-49d...|2357c76e-9253-4ce...|            226.17|2024-03-16 20:41:31| bank transfer|        clothing|       5|          31|         Lynnberg|    desktop| 207.208.171.73|828 Strong Loaf A...|828 Strong Loaf A...|            0|             124|              20|\n",
      "+--------------------+--------------------+------------------+-------------------+--------------+----------------+--------+------------+-----------------+-----------+---------------+--------------------+--------------------+-------------+----------------+----------------+\n",
      "only showing top 4 rows\n",
      "\n"
     ]
    }
   ],
   "source": [
    "# Mostrar un ejemplo de 4 filas\n",
    "df.show(4)"
   ]
  },
  {
   "cell_type": "markdown",
   "metadata": {
    "id": "6Y03x5t-dqgJ"
   },
   "source": [
    "El método `.sample()` genera una muestra aleatoria del DataFrame df, donde fraction determina la fracción aproximada de filas a retornar. En este ejemplo, se solicita un 10% de las filas. El parámetro seed asegura la reproducibilidad del muestreo. Es útil para trabajar con un subconjunto representativo de los datos cuando el conjunto completo es demasiado grande para procesar eficientemente."
   ]
  },
  {
   "cell_type": "code",
   "execution_count": 98,
   "metadata": {
    "colab": {
     "base_uri": "https://localhost:8080/"
    },
    "id": "zzUAeZxulYrp",
    "outputId": "83c30a69-97b6-4231-b2cb-d306041abc30"
   },
   "outputs": [
    {
     "name": "stdout",
     "output_type": "stream",
     "text": [
      "+--------------------+--------------------+------------------+-------------------+--------------+----------------+--------+------------+-----------------+-----------+---------------+--------------------+--------------------+-------------+----------------+----------------+\n",
      "|      Transaction ID|         Customer ID|Transaction Amount|   Transaction Date|Payment Method|Product Category|Quantity|Customer Age|Customer Location|Device Used|     IP Address|    Shipping Address|     Billing Address|Is Fraudulent|Account Age Days|Transaction Hour|\n",
      "+--------------------+--------------------+------------------+-------------------+--------------+----------------+--------+------------+-----------------+-----------+---------------+--------------------+--------------------+-------------+----------------+----------------+\n",
      "|1b46cabd-fa15-47b...|a748a557-cf3d-481...|            267.12|2024-03-09 00:04:37|   credit card|   home & garden|       2|          13|         West Amy|     tablet| 123.118.78.180|37175 Christopher...|37175 Christopher...|            0|              39|               0|\n",
      "|ffc2d68a-5717-465...|07308817-5b75-4cb...|            686.48|2024-03-10 09:30:42|    debit card|   home & garden|       1|          39|West Carolinetown|     mobile|  66.10.168.104|19110 Kaitlin Wal...|19110 Kaitlin Wal...|            0|              85|               9|\n",
      "|d4539b2d-2b55-4b4...|c1d0af10-418f-457...|             268.3|2024-03-25 08:49:36|   credit card| health & beauty|       4|          48|   South Michelle|    desktop| 205.79.162.144|5271 Russell Turn...|5271 Russell Turn...|            0|               1|               8|\n",
      "|286788e3-94bc-4d1...|a1e6015c-7935-436...|             65.03|2024-02-25 00:47:09|    debit card|    toys & games|       2|          17|         Deanside|     mobile|   3.68.182.201|29693 Meyers Row\\...|29693 Meyers Row\\...|            0|             167|               0|\n",
      "|d4d59c86-4003-45e...|e3c8980b-5492-458...|             51.05|2024-02-05 18:09:11|        PayPal|     electronics|       3|          39|        Larryfurt|    desktop| 156.230.136.99|47712 Samantha Sh...|47712 Samantha Sh...|            0|              44|              18|\n",
      "|7b653e0f-2b4c-477...|a16a3d44-8d89-469...|            847.22|2024-02-14 12:16:11| bank transfer|        clothing|       4|          32| Port Danielville|     mobile|185.146.150.184|3047 Stevenson Cr...|3047 Stevenson Cr...|            0|              11|              12|\n",
      "|ecb35870-c7dc-464...|50113ff2-620e-40b...|             11.84|2024-01-08 15:18:49|        PayPal|   home & garden|       5|          39|       Hurstmouth|    desktop|    116.33.62.5|USNS Pena\\nFPO AP...|USNS Pena\\nFPO AP...|            0|             223|              15|\n",
      "|3b57a59c-7fb0-423...|2338385b-97e1-4d7...|            530.29|2024-03-18 01:14:32|        PayPal|        clothing|       3|          33|    East Kimberly|     mobile|   176.27.26.35|52383 Miller Grov...|52383 Miller Grov...|            0|             246|               1|\n",
      "|cbb1ec3d-ceb5-44f...|cc809fbc-3e32-453...|             46.19|2024-01-23 11:49:32|        PayPal|        clothing|       4|          55|     East William|     tablet|  206.249.33.26|PSC 4829, Box 352...|PSC 4829, Box 352...|            0|             310|              11|\n",
      "|3840df25-0c37-491...|e61351cb-de8b-4a4...|             40.42|2024-03-16 14:03:53| bank transfer|    toys & games|       5|          31|          Amybury|     mobile|  179.46.122.98|699 Barbara Estat...|699 Barbara Estat...|            0|             242|              14|\n",
      "|df84765e-5110-45e...|a7f8b5aa-5dbf-4e9...|            181.91|2024-03-06 09:06:49|   credit card|   home & garden|       2|          36|       Georgebury|     tablet|   179.69.29.67|061 Elaine Motorw...|061 Elaine Motorw...|            0|             267|               9|\n",
      "|62407bab-c37c-4f0...|07f2e177-ef38-484...|            444.45|2024-01-27 20:17:33|        PayPal|   home & garden|       1|          19|       Patelhaven|     mobile|207.245.198.231|3085 Johnson Gard...|3085 Johnson Gard...|            0|             183|              20|\n",
      "|edf09a98-8979-487...|bd155fc7-e770-4f9...|            673.88|2024-02-16 00:00:51|    debit card|        clothing|       3|          39|      North Kevin|     mobile|   15.80.83.117|45848 Brooks Spur...|45848 Brooks Spur...|            0|             252|               0|\n",
      "|d5874431-acf6-4e6...|af33c8fd-389f-461...|             81.85|2024-01-21 06:39:47|   credit card|        clothing|       1|          42|   East Jamesberg|     tablet|     93.12.0.42|916 Jeffrey Path\\...|765 Wallace Branc...|            0|             256|               6|\n",
      "|c2416e98-ac7f-4de...|388697ca-a3cd-410...|            715.28|2024-03-12 21:30:06|   credit card|   home & garden|       2|          35|       Mercadoton|    desktop|  87.98.167.231|75532 Kimberly Co...|5731 Phillips Ext...|            0|             179|              21|\n",
      "|5766ae23-899a-45c...|8fabfafb-2cf0-4ef...|            134.73|2024-02-14 14:08:21| bank transfer| health & beauty|       2|          30|      East Amanda|    desktop| 74.174.105.142|7315 Cohen Ports ...|7315 Cohen Ports ...|            0|              73|              14|\n",
      "|41832d98-1738-494...|85c4357f-548d-409...|            329.44|2024-02-17 22:57:28|        PayPal|    toys & games|       4|          35| West Christopher|     tablet|  19.243.24.189|0329 Hodges Terra...|138 Hunt Mountain...|            0|             330|              22|\n",
      "|3c3ab2bf-d4c5-405...|94451ad3-be7e-460...|             64.53|2024-02-17 14:56:49|    debit card|     electronics|       3|          36|South Gregorytown|    desktop| 196.199.123.24|Unit 8016 Box 041...|USNS Johnston\\nFP...|            0|             286|              14|\n",
      "|0c726f23-8af8-465...|ee08ef28-f5a6-49c...|             293.2|2024-03-17 15:51:30|        PayPal| health & beauty|       3|          28|       North Mark|    desktop|    95.72.28.52|8094 Nicholas Gar...|8094 Nicholas Gar...|            0|              95|              15|\n",
      "|c5cbd2b8-535f-444...|78b5ccd5-fe87-4be...|            183.04|2024-01-23 23:39:58| bank transfer|     electronics|       5|          34|        Lopezfort|     tablet| 134.197.81.134|8756 Carter Lodge...|8756 Carter Lodge...|            0|             183|              23|\n",
      "+--------------------+--------------------+------------------+-------------------+--------------+----------------+--------+------------+-----------------+-----------+---------------+--------------------+--------------------+-------------+----------------+----------------+\n",
      "only showing top 20 rows\n",
      "\n"
     ]
    }
   ],
   "source": [
    "# Realizar un muestreo con el dataframe\n",
    "df.sample(fraction=0.1, seed=3).show()"
   ]
  },
  {
   "cell_type": "markdown",
   "metadata": {
    "id": "Wx30UsPEdw80"
   },
   "source": [
    "El método `select()` permite especificar un subconjunto de columnas para incluir en un nuevo DataFrame. Aquí, seleccionamos solo las columnas 'Transaction ID', 'Transaction Amount' y 'Is Fraudulent' de df. Este enfoque es útil para enfocar el análisis en ciertas características de interés o para reducir la carga de memoria al trabajar solo con las columnas relevantes."
   ]
  },
  {
   "cell_type": "code",
   "execution_count": 81,
   "metadata": {
    "colab": {
     "base_uri": "https://localhost:8080/"
    },
    "id": "IdIRebAuis1y",
    "outputId": "d6fa1d3a-f6b8-4881-bf27-f4e0ace16205"
   },
   "outputs": [
    {
     "name": "stdout",
     "output_type": "stream",
     "text": [
      "+--------------------+------------------+-------------+\n",
      "|      Transaction ID|Transaction Amount|Is Fraudulent|\n",
      "+--------------------+------------------+-------------+\n",
      "|15d2e414-8735-46f...|             58.09|            0|\n",
      "|0bfee1a0-6d5e-40d...|            389.96|            0|\n",
      "|e588eef4-b754-468...|            134.19|            0|\n",
      "|4de46e52-60c3-49d...|            226.17|            0|\n",
      "|074a76de-fe2d-443...|            121.53|            0|\n",
      "|4e707452-7c8a-4cb...|            166.41|            0|\n",
      "|7ed952fe-8ae1-4f1...|             92.88|            0|\n",
      "|0b2fb5aa-7171-472...|            318.14|            0|\n",
      "|1f52366c-7f40-439...|             47.92|            0|\n",
      "|3f10dfde-9c4c-408...|            121.78|            0|\n",
      "|75f19b14-516c-4f1...|            633.39|            0|\n",
      "|0dae14e6-aca5-48b...|             56.31|            0|\n",
      "|fb09ac9b-8c76-4ca...|            275.87|            0|\n",
      "|3a25fa55-ec25-4b4...|            178.94|            0|\n",
      "|c696ffee-f01d-444...|            374.04|            0|\n",
      "|e3ac696e-978c-43c...|            169.04|            0|\n",
      "|e3c1a8ee-6455-4a3...|            254.48|            0|\n",
      "|08ded43b-24bf-400...|            266.06|            0|\n",
      "|0c0345fa-406b-406...|            263.28|            0|\n",
      "|8501d4c2-10e4-4ae...|            475.76|            0|\n",
      "+--------------------+------------------+-------------+\n",
      "only showing top 20 rows\n",
      "\n"
     ]
    }
   ],
   "source": [
    "# Seleccionar partes del dataframe\n",
    "df.select(['Transaction ID','Transaction Amount', 'Is Fraudulent']).show()"
   ]
  },
  {
   "cell_type": "code",
   "execution_count": 105,
   "metadata": {
    "colab": {
     "base_uri": "https://localhost:8080/",
     "height": 187
    },
    "id": "-BVqEYO7ivyR",
    "outputId": "01dbc57a-33d3-49de-9871-fd947dc42f63"
   },
   "outputs": [
    {
     "data": {
      "text/html": [
       "<div style=\"max-width:800px; border: 1px solid var(--colab-border-color);\"><style>\n",
       "      pre.function-repr-contents {\n",
       "        overflow-x: auto;\n",
       "        padding: 8px 12px;\n",
       "        max-height: 500px;\n",
       "      }\n",
       "\n",
       "      pre.function-repr-contents.function-repr-contents-collapsed {\n",
       "        cursor: pointer;\n",
       "        max-height: 100px;\n",
       "      }\n",
       "    </style>\n",
       "    <pre style=\"white-space: initial; background:\n",
       "         var(--colab-secondary-surface-color); padding: 8px 12px;\n",
       "         border-bottom: 1px solid var(--colab-border-color);\"><b>pyspark.sql.column.Column</b><br/>def __init__(jc: JavaObject) -&gt; None</pre><pre class=\"function-repr-contents function-repr-contents-collapsed\" style=\"\"><a class=\"filepath\" style=\"display:none\" href=\"#\">/usr/local/lib/python3.10/dist-packages/pyspark/sql/column.py</a>A column in a DataFrame.\n",
       "\n",
       ".. versionadded:: 1.3.0\n",
       "\n",
       ".. versionchanged:: 3.4.0\n",
       "    Supports Spark Connect.\n",
       "\n",
       "Examples\n",
       "--------\n",
       "Column instances can be created by\n",
       "\n",
       "&gt;&gt;&gt; df = spark.createDataFrame(\n",
       "...      [(2, &quot;Alice&quot;), (5, &quot;Bob&quot;)], [&quot;age&quot;, &quot;name&quot;])\n",
       "\n",
       "Select a column out of a DataFrame\n",
       "&gt;&gt;&gt; df.name\n",
       "Column&lt;&#x27;name&#x27;&gt;\n",
       "&gt;&gt;&gt; df[&quot;name&quot;]\n",
       "Column&lt;&#x27;name&#x27;&gt;\n",
       "\n",
       "Create from an expression\n",
       "\n",
       "&gt;&gt;&gt; df.age + 1\n",
       "Column&lt;...&gt;\n",
       "&gt;&gt;&gt; 1 / df.age\n",
       "Column&lt;...&gt;</pre>\n",
       "      <script>\n",
       "      if (google.colab.kernel.accessAllowed && google.colab.files && google.colab.files.view) {\n",
       "        for (const element of document.querySelectorAll('.filepath')) {\n",
       "          element.style.display = 'block'\n",
       "          element.onclick = (event) => {\n",
       "            event.preventDefault();\n",
       "            event.stopPropagation();\n",
       "            google.colab.files.view(element.textContent, 185);\n",
       "          };\n",
       "        }\n",
       "      }\n",
       "      for (const element of document.querySelectorAll('.function-repr-contents')) {\n",
       "        element.onclick = (event) => {\n",
       "          event.preventDefault();\n",
       "          event.stopPropagation();\n",
       "          element.classList.toggle('function-repr-contents-collapsed');\n",
       "        };\n",
       "      }\n",
       "      </script>\n",
       "      </div>"
      ],
      "text/plain": [
       "pyspark.sql.column.Column"
      ]
     },
     "execution_count": 105,
     "metadata": {},
     "output_type": "execute_result"
    }
   ],
   "source": [
    "# Podemos revisar el tipo de una selección como se hacia en pandas\n",
    "type(df['Transaction Amount'])"
   ]
  },
  {
   "cell_type": "markdown",
   "metadata": {
    "id": "DBM9mosad2_m"
   },
   "source": [
    "`dtypes` retorna una lista de tuplas con los nombres de las columnas y sus tipos de datos correspondientes en el DataFrame df. Este atributo no es un método y se utiliza para obtener rápidamente el esquema de datos de un DataFrame en términos de tipos de Python, lo que es crucial para la validación de datos y la planificación de operaciones de transformación y análisis."
   ]
  },
  {
   "cell_type": "code",
   "execution_count": 89,
   "metadata": {
    "colab": {
     "base_uri": "https://localhost:8080/"
    },
    "id": "r28UJw1fixy2",
    "outputId": "1f1e54a8-e6e8-4f9f-f18b-920e93e8e518"
   },
   "outputs": [
    {
     "data": {
      "text/plain": [
       "[('Transaction ID', 'string'),\n",
       " ('Customer ID', 'string'),\n",
       " ('Transaction Amount', 'double'),\n",
       " ('Transaction Date', 'string'),\n",
       " ('Payment Method', 'string'),\n",
       " ('Product Category', 'string'),\n",
       " ('Quantity', 'bigint'),\n",
       " ('Customer Age', 'bigint'),\n",
       " ('Customer Location', 'string'),\n",
       " ('Device Used', 'string'),\n",
       " ('IP Address', 'string'),\n",
       " ('Shipping Address', 'string'),\n",
       " ('Billing Address', 'string'),\n",
       " ('Is Fraudulent', 'bigint'),\n",
       " ('Account Age Days', 'bigint'),\n",
       " ('Transaction Hour', 'bigint')]"
      ]
     },
     "execution_count": 89,
     "metadata": {},
     "output_type": "execute_result"
    }
   ],
   "source": [
    "df.dtypes"
   ]
  },
  {
   "cell_type": "markdown",
   "metadata": {
    "id": "7k-SzTH6eAR4"
   },
   "source": [
    "> **Pregunta ❓**: ¿Qué pasa si quiero cambiar el tipo de dato de una columna?"
   ]
  },
  {
   "cell_type": "markdown",
   "metadata": {
    "id": "GenfAxfHepj0"
   },
   "source": [
    "```python\n",
    "df[col_name].cast(new_type)\n",
    "```\n",
    "\n",
    "`.cast()` se utiliza para cambiar el tipo de datos de una columna específica en el DataFrame df. Aquí, col_name es el nombre de la columna que quieres modificar, y new_type es el nuevo tipo de datos que deseas aplicar a la columna. El método cast(new_type) es especialmente útil para asegurar que los tipos de datos de tus columnas se alineen con las operaciones analíticas que planeas realizar."
   ]
  },
  {
   "cell_type": "markdown",
   "metadata": {
    "id": "D7s0ss0_e2yj"
   },
   "source": [
    "A diferencia de Pandas, donde las operaciones pueden aplicarse a múltiples columnas de manera simultánea, este método en PySpark se ejecuta individualmente en una sola columna. Por lo tanto, si necesitas aplicar cambios a varias columnas, sería conveniente definir una función como la siguiente para automatizar el proceso:"
   ]
  },
  {
   "cell_type": "code",
   "execution_count": 95,
   "metadata": {
    "colab": {
     "base_uri": "https://localhost:8080/"
    },
    "id": "7EdQDbeEk4Gs",
    "outputId": "d2af84da-9cfe-4ae6-8724-0b2a01ebc306"
   },
   "outputs": [
    {
     "name": "stdout",
     "output_type": "stream",
     "text": [
      "root\n",
      " |-- Transaction ID: string (nullable = true)\n",
      " |-- Customer ID: string (nullable = true)\n",
      " |-- Transaction Amount: double (nullable = true)\n",
      " |-- Transaction Date: string (nullable = true)\n",
      " |-- Payment Method: string (nullable = true)\n",
      " |-- Product Category: string (nullable = true)\n",
      " |-- Quantity: integer (nullable = true)\n",
      " |-- Customer Age: long (nullable = true)\n",
      " |-- Customer Location: string (nullable = true)\n",
      " |-- Device Used: string (nullable = true)\n",
      " |-- IP Address: string (nullable = true)\n",
      " |-- Shipping Address: string (nullable = true)\n",
      " |-- Billing Address: string (nullable = true)\n",
      " |-- Is Fraudulent: float (nullable = true)\n",
      " |-- Account Age Days: long (nullable = true)\n",
      " |-- Transaction Hour: long (nullable = true)\n",
      "\n"
     ]
    }
   ],
   "source": [
    "from pyspark.sql.types import StringType, IntegerType, FloatType\n",
    "\n",
    "\n",
    "def cast_columns(df, cols_types):\n",
    "    \"\"\"\n",
    "    Cambia el tipo de múltiples columnas en un DataFrame de Spark.\n",
    "\n",
    "    Parámetros:\n",
    "    - df: DataFrame de Spark.\n",
    "    - cols_types: Diccionario con nombres de columnas como claves y tipos de datos de Spark como valores.\n",
    "\n",
    "    Retorna:\n",
    "    - DataFrame de Spark con tipos de columnas modificados.\n",
    "    \"\"\"\n",
    "    for col_name, new_type in cols_types.items():\n",
    "        df = df.withColumn(col_name, df[col_name].cast(new_type))\n",
    "    return df\n",
    "\n",
    "# Ejemplo de uso\n",
    "cols_to_cast = {\"Quantity\": IntegerType(), \"Is Fraudulent\": FloatType()}\n",
    "df_con_casteo = cast_columns(df, cols_to_cast)\n",
    "df_con_casteo.printSchema()"
   ]
  },
  {
   "cell_type": "markdown",
   "metadata": {
    "id": "nV2JcHxMfRr6"
   },
   "source": [
    "`.withColumn()` añade una nueva columna al DataFrame df, llamada 'Transaction Amount CLP', calculada multiplicando cada valor en la columna 'Transaction Amount' por 939.79. Este tipo de operación es útil para realizar conversiones de unidades o calcular nuevos valores basados en datos existentes dentro del DataFrame."
   ]
  },
  {
   "cell_type": "code",
   "execution_count": 90,
   "metadata": {
    "id": "sxGotcKMizsE"
   },
   "outputs": [],
   "source": [
    "### Adding Columns in data frame\n",
    "df=df.withColumn('Transaction Amount CLP',df['Transaction Amount']*939.79)\n",
    "\n",
    "# Mostraro dos elementos para comprobar\n",
    "df.show(2)"
   ]
  },
  {
   "cell_type": "markdown",
   "metadata": {
    "id": "QBJGMvRgfXoQ"
   },
   "source": [
    "Aquí, `drop('Transaction Amount CLP')` elimina la columna 'Transaction Amount CLP' del DataFrame df, y show() imprime las primeras filas del DataFrame resultante. Este comando es útil cuando necesitas limpiar tu DataFrame eliminando columnas que ya no son necesarias para tu análisis."
   ]
  },
  {
   "cell_type": "code",
   "execution_count": null,
   "metadata": {
    "id": "qeeM6wkjqrgv"
   },
   "outputs": [],
   "source": [
    "### Drop columns\n",
    "df.drop('Transaction Amount CLP').show()"
   ]
  },
  {
   "cell_type": "markdown",
   "metadata": {
    "id": "kzIwzPFofYMZ"
   },
   "source": [
    "`.withColumnRenamed()` cambia el nombre de la columna 'Customer ID' a 'User ID' en el DataFrame df. El cambio se refleja inmediatamente en el esquema del DataFrame, y show() permite visualizar las primeras filas para confirmar el cambio. Renombrar columnas puede ser crucial para clarificar el significado de los datos o para estandarizar los nombres de las columnas a través de múltiples DataFrames."
   ]
  },
  {
   "cell_type": "code",
   "execution_count": 93,
   "metadata": {
    "colab": {
     "base_uri": "https://localhost:8080/"
    },
    "id": "Fg15BMRdi5TU",
    "outputId": "b5794096-dd95-4665-b768-816e54368dbf"
   },
   "outputs": [
    {
     "name": "stdout",
     "output_type": "stream",
     "text": [
      "+--------------------+--------------------+------------------+-------------------+--------------+----------------+--------+------------+-----------------+-----------+---------------+--------------------+--------------------+-------------+----------------+----------------+\n",
      "|      Transaction ID|             User ID|Transaction Amount|   Transaction Date|Payment Method|Product Category|Quantity|Customer Age|Customer Location|Device Used|     IP Address|    Shipping Address|     Billing Address|Is Fraudulent|Account Age Days|Transaction Hour|\n",
      "+--------------------+--------------------+------------------+-------------------+--------------+----------------+--------+------------+-----------------+-----------+---------------+--------------------+--------------------+-------------+----------------+----------------+\n",
      "|15d2e414-8735-46f...|d1b87f62-51b2-493...|             58.09|2024-02-20 05:58:41| bank transfer|     electronics|       1|          17|    Amandaborough|     tablet| 212.195.49.198|Unit 8934 Box 005...|Unit 8934 Box 005...|            0|              30|               5|\n",
      "|0bfee1a0-6d5e-40d...|37de64d5-e901-4a5...|            389.96|2024-02-25 08:09:45|    debit card|     electronics|       2|          40|     East Timothy|    desktop|208.106.249.121|634 May Keys\\nPor...|634 May Keys\\nPor...|            0|              72|               8|\n",
      "|e588eef4-b754-468...|1bac88d6-4b22-409...|            134.19|2024-03-18 03:42:55|        PayPal|   home & garden|       2|          22|       Davismouth|     tablet|   76.63.88.212|16282 Dana Falls ...|16282 Dana Falls ...|            0|              63|               3|\n",
      "|4de46e52-60c3-49d...|2357c76e-9253-4ce...|            226.17|2024-03-16 20:41:31| bank transfer|        clothing|       5|          31|         Lynnberg|    desktop| 207.208.171.73|828 Strong Loaf A...|828 Strong Loaf A...|            0|             124|              20|\n",
      "|074a76de-fe2d-443...|45071bc5-9588-43e...|            121.53|2024-01-15 05:08:17| bank transfer|        clothing|       2|          51|     South Nicole|     tablet| 190.172.14.169|29799 Jason Hills...|29799 Jason Hills...|            0|             158|               5|\n",
      "|4e707452-7c8a-4cb...|29616b04-2d5c-472...|            166.41|2024-01-30 10:55:14| bank transfer|    toys & games|       2|          34|     Herreramouth|     tablet|  202.237.29.55|5699 Brittany Vil...|120 Kristi Dale\\n...|            0|              38|              10|\n",
      "|7ed952fe-8ae1-4f1...|fe21ae29-ba4c-424...|             92.88|2024-02-04 19:59:10|        PayPal|    toys & games|       2|          14|        Ramosfort|     tablet|   13.45.27.192|727 Gibson Island...|727 Gibson Island...|            0|             119|              19|\n",
      "|0b2fb5aa-7171-472...|024257c3-5671-4de...|            318.14|2024-02-20 13:30:29|   credit card| health & beauty|       4|          42|       Port Emily|    desktop|131.141.230.185|3914 Davis Union\\...|3914 Davis Union\\...|            0|             251|              13|\n",
      "|1f52366c-7f40-439...|f17640ca-49da-45d...|             47.92|2024-03-03 19:44:00| bank transfer|   home & garden|       4|          38|       Carneyfurt|    desktop| 210.148.17.240|47893 Maldonado S...|47893 Maldonado S...|            0|             190|              19|\n",
      "|3f10dfde-9c4c-408...|aab93e75-582f-445...|            121.78|2024-01-16 21:19:39| bank transfer| health & beauty|       4|          39|       Brockburgh|     mobile| 174.32.252.238|2334 Briana Cente...|2334 Briana Cente...|            0|             343|              21|\n",
      "|75f19b14-516c-4f1...|6a2e1397-e24a-414...|            633.39|2024-01-20 22:11:22|        PayPal|    toys & games|       5|          20|        Craneport|     tablet|201.188.209.214|Unit 7360 Box 518...|55423 Henry Haven...|            0|             285|              22|\n",
      "|0dae14e6-aca5-48b...|a30a5030-1c23-475...|             56.31|2024-02-16 21:08:15|        PayPal|   home & garden|       3|          35|     West Michael|     tablet|  81.95.103.200|3684 Morris Inlet...|3684 Morris Inlet...|            0|             259|              21|\n",
      "|fb09ac9b-8c76-4ca...|2d86cadf-184e-46c...|            275.87|2024-02-15 11:45:52|   credit card|   home & garden|       5|          45|      Melindafurt|     mobile| 105.173.82.111|4197 Lewis Way\\nM...|075 Monroe Court\\...|            0|             307|              11|\n",
      "|3a25fa55-ec25-4b4...|7be37ed2-b2d6-48b...|            178.94|2024-01-29 15:55:08|    debit card|        clothing|       4|          27|      Deniseburgh|     mobile| 211.46.251.245|298 Taylor Canyon...|298 Taylor Canyon...|            0|             200|              15|\n",
      "|c696ffee-f01d-444...|bffedad1-43c1-4ef...|            374.04|2024-02-14 13:31:00| bank transfer|   home & garden|       5|          51|      Danielmouth|     tablet|   25.126.229.2|32232 Omar Glens\\...|32232 Omar Glens\\...|            0|              22|              13|\n",
      "|e3ac696e-978c-43c...|4c80f103-ce9c-4e4...|            169.04|2024-03-04 10:10:58|    debit card|   home & garden|       1|          54|         Lamburgh|     tablet|  1.199.155.117|Unit 4478 Box 382...|Unit 4478 Box 382...|            0|              60|              10|\n",
      "|e3c1a8ee-6455-4a3...|b4e261d2-2e81-4e5...|            254.48|2024-01-08 08:26:25| bank transfer|     electronics|       4|          20|West Melissashire|    desktop|   52.160.5.136|1117 Braun Courts...|1117 Braun Courts...|            0|             238|               8|\n",
      "|08ded43b-24bf-400...|ed5b5482-fa35-48b...|            266.06|2024-01-26 14:29:25|    debit card|     electronics|       1|          41|     Port Rebecca|     tablet|   194.26.237.2|1228 Torres Squar...|1228 Torres Squar...|            0|             264|              14|\n",
      "|0c0345fa-406b-406...|e852cd05-3ee9-45a...|            263.28|2024-03-07 22:58:45|    debit card|    toys & games|       3|          30|    East Jonathan|     tablet|166.131.101.195|12872 Kevin Creek...|12872 Kevin Creek...|            0|             159|              22|\n",
      "|8501d4c2-10e4-4ae...|339683a0-3028-449...|            475.76|2024-01-17 10:58:52|        PayPal|        clothing|       2|          29|      Muellerstad|     mobile|  196.101.90.48|3496 Jason Ports\\...|3496 Jason Ports\\...|            0|             143|              10|\n",
      "+--------------------+--------------------+------------------+-------------------+--------------+----------------+--------+------------+-----------------+-----------+---------------+--------------------+--------------------+-------------+----------------+----------------+\n",
      "only showing top 20 rows\n",
      "\n"
     ]
    }
   ],
   "source": [
    "# Renombrar columna\n",
    "df.withColumnRenamed('Customer ID','User ID').show()"
   ]
  },
  {
   "cell_type": "markdown",
   "metadata": {
    "id": "BEEEBA-5faZy"
   },
   "source": [
    "El método `.when()` dentro de un withColumn en PySpark se utiliza para realizar operaciones condicionales sobre los datos de un DataFrame. Funciona de manera similar a las declaraciones IF...ELSE en otros lenguajes de programación, permitiéndote especificar una condición y el valor que debe tomarse cuando esa condición es verdadera. También puedes encadenar múltiples condiciones usando .otherwise() para especificar un valor por defecto si las condiciones anteriores no se cumplen."
   ]
  },
  {
   "cell_type": "markdown",
   "metadata": {
    "id": "PvIJiA8lgCr-"
   },
   "source": [
    "En este ejemplo, `when(rand() < umbral_nulo, None).otherwise(df[\"Transaction Amount\"])` introduce valores nulos (None) de manera aleatoria en la columna 'Transaction Amount', basado en un umbral definido por umbral_nulo. La función rand() genera un número aleatorio entre 0 y 1, y si este número es menor que el umbral especificado, el valor en la columna se reemplaza por None (nulo); de lo contrario, se mantiene el valor original. Este enfoque puede ser útil para pruebas o simulaciones que requieren representar la ausencia de datos de manera aleatoria."
   ]
  },
  {
   "cell_type": "code",
   "execution_count": 21,
   "metadata": {
    "id": "Af9cIXRKps4-"
   },
   "outputs": [],
   "source": [
    "from pyspark.sql.functions import when, rand, col, sum\n",
    "\n",
    "umbral_nulo = 0.2  # 20% de probabilidad de ser nulo\n",
    "\n",
    "# Agregar nulos aleatoriamente a la columna \"Edad\"\n",
    "df_nulos = df.withColumn(\"Transaction Amount\", when(rand() < umbral_nulo, None).otherwise(df[\"Transaction Amount\"]))\n",
    "df_nulos = df_nulos.withColumn(\"Customer Age\", when(rand() < umbral_nulo, None).otherwise(df_nulos[\"Customer Age\"]))"
   ]
  },
  {
   "cell_type": "markdown",
   "metadata": {
    "id": "X_5zoeH1ZPdQ"
   },
   "source": [
    "### Manejo de Nulos"
   ]
  },
  {
   "cell_type": "markdown",
   "metadata": {
    "id": "pg-RC2I_gm9P"
   },
   "source": [
    "A diferencia de pandas, Spark no posee un método que le permita calcular directamente los nulos, esto se hace un tanto mas complejo:"
   ]
  },
  {
   "cell_type": "code",
   "execution_count": 22,
   "metadata": {
    "colab": {
     "base_uri": "https://localhost:8080/"
    },
    "id": "zRZKbq-Qnobo",
    "outputId": "c7036919-055e-4472-a52e-d61c7231ec0f"
   },
   "outputs": [
    {
     "name": "stdout",
     "output_type": "stream",
     "text": [
      "+--------------+-----------+------------------+----------------+--------------+----------------+--------+------------+-----------------+-----------+----------+----------------+---------------+-------------+----------------+----------------+\n",
      "|Transaction ID|Customer ID|Transaction Amount|Transaction Date|Payment Method|Product Category|Quantity|Customer Age|Customer Location|Device Used|IP Address|Shipping Address|Billing Address|Is Fraudulent|Account Age Days|Transaction Hour|\n",
      "+--------------+-----------+------------------+----------------+--------------+----------------+--------+------------+-----------------+-----------+----------+----------------+---------------+-------------+----------------+----------------+\n",
      "|             0|          0|            120176|               0|             0|               0|       0|      120011|                0|          0|         0|               0|              0|            0|               0|               0|\n",
      "+--------------+-----------+------------------+----------------+--------------+----------------+--------+------------+-----------------+-----------+----------+----------------+---------------+-------------+----------------+----------------+\n",
      "\n"
     ]
    }
   ],
   "source": [
    "exprs = [sum(when(col(c).isNull(), 1).otherwise(0)).alias(c) for c in df_nulos.columns]\n",
    "\n",
    "df_nulos.agg(*exprs).show()"
   ]
  },
  {
   "cell_type": "markdown",
   "metadata": {
    "id": "2_w7-4Q4guQW"
   },
   "source": [
    "Sin embargo, métodos como `.na.drop()` eliminan las filas del DataFrame que contienen valores nulos (None o NaN) en cualquier columna. Es útil cuando deseas asegurar que tu análisis o los modelos de machine learning no se vean afectados por datos incompletos."
   ]
  },
  {
   "cell_type": "code",
   "execution_count": 31,
   "metadata": {
    "colab": {
     "base_uri": "https://localhost:8080/"
    },
    "id": "gHTsoNWjnAcZ",
    "outputId": "2aa086c2-98a2-4920-d941-310ca7b4adeb"
   },
   "outputs": [
    {
     "data": {
      "text/plain": [
       "384022"
      ]
     },
     "execution_count": 31,
     "metadata": {},
     "output_type": "execute_result"
    }
   ],
   "source": [
    "df_nulos.na.drop().count()"
   ]
  },
  {
   "cell_type": "code",
   "execution_count": 30,
   "metadata": {
    "colab": {
     "base_uri": "https://localhost:8080/"
    },
    "id": "4k-Sg97SnKWt",
    "outputId": "4a55e591-2ce6-4627-85be-242ff86fce3d"
   },
   "outputs": [
    {
     "data": {
      "text/plain": [
       "384022"
      ]
     },
     "execution_count": 30,
     "metadata": {},
     "output_type": "execute_result"
    }
   ],
   "source": [
    "# Drop si cualquiera de las columnas tiene un nulo\n",
    "df_nulos.na.drop(how=\"any\").count()"
   ]
  },
  {
   "cell_type": "code",
   "execution_count": 32,
   "metadata": {
    "colab": {
     "base_uri": "https://localhost:8080/"
    },
    "id": "T6uT4EO2kSFP",
    "outputId": "69e19a7c-8c4c-4464-8483-4188c48505c7"
   },
   "outputs": [
    {
     "data": {
      "text/plain": [
       "600000"
      ]
     },
     "execution_count": 32,
     "metadata": {},
     "output_type": "execute_result"
    }
   ],
   "source": [
    "# Drop si todas las columnas tiene un nulo\n",
    "df_nulos.na.drop(how=\"all\").count()"
   ]
  },
  {
   "cell_type": "code",
   "execution_count": 36,
   "metadata": {
    "colab": {
     "base_uri": "https://localhost:8080/"
    },
    "id": "EyFHwmsWnM7C",
    "outputId": "0c8a2147-3ada-488e-c6ea-f6225bfb154f"
   },
   "outputs": [
    {
     "name": "stdout",
     "output_type": "stream",
     "text": [
      "+--------------------+--------------------+------------------+-------------------+--------------+----------------+--------+------------+-----------------+-----------+---------------+--------------------+--------------------+-------------+----------------+----------------+\n",
      "|      Transaction ID|         Customer ID|Transaction Amount|   Transaction Date|Payment Method|Product Category|Quantity|Customer Age|Customer Location|Device Used|     IP Address|    Shipping Address|     Billing Address|Is Fraudulent|Account Age Days|Transaction Hour|\n",
      "+--------------------+--------------------+------------------+-------------------+--------------+----------------+--------+------------+-----------------+-----------+---------------+--------------------+--------------------+-------------+----------------+----------------+\n",
      "|15d2e414-8735-46f...|d1b87f62-51b2-493...|             58.09|2024-02-20 05:58:41| bank transfer|     electronics|       1|          17|    Amandaborough|     tablet| 212.195.49.198|Unit 8934 Box 005...|Unit 8934 Box 005...|            0|              30|               5|\n",
      "|0bfee1a0-6d5e-40d...|37de64d5-e901-4a5...|            389.96|2024-02-25 08:09:45|    debit card|     electronics|       2|          40|     East Timothy|    desktop|208.106.249.121|634 May Keys\\nPor...|634 May Keys\\nPor...|            0|              72|               8|\n",
      "|e588eef4-b754-468...|1bac88d6-4b22-409...|            134.19|2024-03-18 03:42:55|        PayPal|   home & garden|       2|        NULL|       Davismouth|     tablet|   76.63.88.212|16282 Dana Falls ...|16282 Dana Falls ...|            0|              63|               3|\n",
      "|4de46e52-60c3-49d...|2357c76e-9253-4ce...|            226.17|2024-03-16 20:41:31| bank transfer|        clothing|       5|          31|         Lynnberg|    desktop| 207.208.171.73|828 Strong Loaf A...|828 Strong Loaf A...|            0|             124|              20|\n",
      "|074a76de-fe2d-443...|45071bc5-9588-43e...|            121.53|2024-01-15 05:08:17| bank transfer|        clothing|       2|          51|     South Nicole|     tablet| 190.172.14.169|29799 Jason Hills...|29799 Jason Hills...|            0|             158|               5|\n",
      "|4e707452-7c8a-4cb...|29616b04-2d5c-472...|            166.41|2024-01-30 10:55:14| bank transfer|    toys & games|       2|          34|     Herreramouth|     tablet|  202.237.29.55|5699 Brittany Vil...|120 Kristi Dale\\n...|            0|              38|              10|\n",
      "|7ed952fe-8ae1-4f1...|fe21ae29-ba4c-424...|             92.88|2024-02-04 19:59:10|        PayPal|    toys & games|       2|          14|        Ramosfort|     tablet|   13.45.27.192|727 Gibson Island...|727 Gibson Island...|            0|             119|              19|\n",
      "|0b2fb5aa-7171-472...|024257c3-5671-4de...|            318.14|2024-02-20 13:30:29|   credit card| health & beauty|       4|          42|       Port Emily|    desktop|131.141.230.185|3914 Davis Union\\...|3914 Davis Union\\...|            0|             251|              13|\n",
      "|1f52366c-7f40-439...|f17640ca-49da-45d...|              NULL|2024-03-03 19:44:00| bank transfer|   home & garden|       4|          38|       Carneyfurt|    desktop| 210.148.17.240|47893 Maldonado S...|47893 Maldonado S...|            0|             190|              19|\n",
      "|3f10dfde-9c4c-408...|aab93e75-582f-445...|            121.78|2024-01-16 21:19:39| bank transfer| health & beauty|       4|          39|       Brockburgh|     mobile| 174.32.252.238|2334 Briana Cente...|2334 Briana Cente...|            0|             343|              21|\n",
      "|75f19b14-516c-4f1...|6a2e1397-e24a-414...|            633.39|2024-01-20 22:11:22|        PayPal|    toys & games|       5|        NULL|        Craneport|     tablet|201.188.209.214|Unit 7360 Box 518...|55423 Henry Haven...|            0|             285|              22|\n",
      "|0dae14e6-aca5-48b...|a30a5030-1c23-475...|             56.31|2024-02-16 21:08:15|        PayPal|   home & garden|       3|          35|     West Michael|     tablet|  81.95.103.200|3684 Morris Inlet...|3684 Morris Inlet...|            0|             259|              21|\n",
      "|fb09ac9b-8c76-4ca...|2d86cadf-184e-46c...|            275.87|2024-02-15 11:45:52|   credit card|   home & garden|       5|          45|      Melindafurt|     mobile| 105.173.82.111|4197 Lewis Way\\nM...|075 Monroe Court\\...|            0|             307|              11|\n",
      "|3a25fa55-ec25-4b4...|7be37ed2-b2d6-48b...|            178.94|2024-01-29 15:55:08|    debit card|        clothing|       4|          27|      Deniseburgh|     mobile| 211.46.251.245|298 Taylor Canyon...|298 Taylor Canyon...|            0|             200|              15|\n",
      "|c696ffee-f01d-444...|bffedad1-43c1-4ef...|            374.04|2024-02-14 13:31:00| bank transfer|   home & garden|       5|          51|      Danielmouth|     tablet|   25.126.229.2|32232 Omar Glens\\...|32232 Omar Glens\\...|            0|              22|              13|\n",
      "|e3ac696e-978c-43c...|4c80f103-ce9c-4e4...|            169.04|2024-03-04 10:10:58|    debit card|   home & garden|       1|          54|         Lamburgh|     tablet|  1.199.155.117|Unit 4478 Box 382...|Unit 4478 Box 382...|            0|              60|              10|\n",
      "|e3c1a8ee-6455-4a3...|b4e261d2-2e81-4e5...|              NULL|2024-01-08 08:26:25| bank transfer|     electronics|       4|          20|West Melissashire|    desktop|   52.160.5.136|1117 Braun Courts...|1117 Braun Courts...|            0|             238|               8|\n",
      "|08ded43b-24bf-400...|ed5b5482-fa35-48b...|            266.06|2024-01-26 14:29:25|    debit card|     electronics|       1|          41|     Port Rebecca|     tablet|   194.26.237.2|1228 Torres Squar...|1228 Torres Squar...|            0|             264|              14|\n",
      "|0c0345fa-406b-406...|e852cd05-3ee9-45a...|            263.28|2024-03-07 22:58:45|    debit card|    toys & games|       3|          30|    East Jonathan|     tablet|166.131.101.195|12872 Kevin Creek...|12872 Kevin Creek...|            0|             159|              22|\n",
      "|8501d4c2-10e4-4ae...|339683a0-3028-449...|              NULL|2024-01-17 10:58:52|        PayPal|        clothing|       2|        NULL|      Muellerstad|     mobile|  196.101.90.48|3496 Jason Ports\\...|3496 Jason Ports\\...|            0|             143|              10|\n",
      "+--------------------+--------------------+------------------+-------------------+--------------+----------------+--------+------------+-----------------+-----------+---------------+--------------------+--------------------+-------------+----------------+----------------+\n",
      "only showing top 20 rows\n",
      "\n"
     ]
    }
   ],
   "source": [
    "# threshold\n",
    "df_nulos.na.drop(how=\"any\",thresh=1).show()"
   ]
  },
  {
   "cell_type": "code",
   "execution_count": 50,
   "metadata": {
    "colab": {
     "base_uri": "https://localhost:8080/"
    },
    "id": "QLOLCw50nUW3",
    "outputId": "332d43f6-4ca9-4bd4-81a0-0bf042147efc"
   },
   "outputs": [
    {
     "data": {
      "text/plain": [
       "479824"
      ]
     },
     "execution_count": 50,
     "metadata": {},
     "output_type": "execute_result"
    }
   ],
   "source": [
    "# Subset\n",
    "df_nulos.na.drop(how=\"any\",subset=['Transaction Amount']).count()"
   ]
  },
  {
   "cell_type": "markdown",
   "metadata": {
    "id": "ZMU1vYy-iRt7"
   },
   "source": [
    "Por otro lado, para relleanr los valores nulos en el DataFrame df con un valor específico que proporcionas (valor). Este método puede aplicarse a todo el DataFrame o especificarse para ciertas columnas, mejorando la calidad de los datos para el análisis al tratar con valores ausentes."
   ]
  },
  {
   "cell_type": "code",
   "execution_count": 57,
   "metadata": {
    "colab": {
     "base_uri": "https://localhost:8080/"
    },
    "id": "DypjDdYTnWMV",
    "outputId": "c7f92728-9e7a-4b98-f1d7-9a24bc60b89a"
   },
   "outputs": [
    {
     "name": "stdout",
     "output_type": "stream",
     "text": [
      "+--------------------+--------------------+------------------+-------------------+--------------+----------------+--------+------------+-----------------+-----------+--------------+--------------------+--------------------+-------------+----------------+----------------+\n",
      "|      Transaction ID|         Customer ID|Transaction Amount|   Transaction Date|Payment Method|Product Category|Quantity|Customer Age|Customer Location|Device Used|    IP Address|    Shipping Address|     Billing Address|Is Fraudulent|Account Age Days|Transaction Hour|\n",
      "+--------------------+--------------------+------------------+-------------------+--------------+----------------+--------+------------+-----------------+-----------+--------------+--------------------+--------------------+-------------+----------------+----------------+\n",
      "|1f52366c-7f40-439...|f17640ca-49da-45d...|             999.0|2024-03-03 19:44:00| bank transfer|   home & garden|       4|          38|       Carneyfurt|    desktop|210.148.17.240|47893 Maldonado S...|47893 Maldonado S...|            0|             190|              19|\n",
      "|e3c1a8ee-6455-4a3...|b4e261d2-2e81-4e5...|             999.0|2024-01-08 08:26:25| bank transfer|     electronics|       4|          20|West Melissashire|    desktop|  52.160.5.136|1117 Braun Courts...|1117 Braun Courts...|            0|             238|               8|\n",
      "|8501d4c2-10e4-4ae...|339683a0-3028-449...|             999.0|2024-01-17 10:58:52|        PayPal|        clothing|       2|          18|      Muellerstad|     mobile| 196.101.90.48|3496 Jason Ports\\...|3496 Jason Ports\\...|            0|             143|              10|\n",
      "|4fef0df1-e9d7-41b...|221ff13a-1429-47b...|             999.0|2024-03-29 04:57:16|    debit card|        clothing|       3|          32|      Robbinsport|     mobile|206.94.162.125|642 Moss Wall Sui...|642 Moss Wall Sui...|            0|             334|               4|\n",
      "+--------------------+--------------------+------------------+-------------------+--------------+----------------+--------+------------+-----------------+-----------+--------------+--------------------+--------------------+-------------+----------------+----------------+\n",
      "only showing top 4 rows\n",
      "\n"
     ]
    }
   ],
   "source": [
    "# Fill con un valor que desees\n",
    "df_filled = df_nulos.na.fill({'Transaction Amount': 999, 'Customer Age': 18})\n",
    "# Buscamos los nulos rellenados\n",
    "df_filled.filter(df_filled[\"Transaction Amount\"]==999.0).show(4)"
   ]
  },
  {
   "cell_type": "markdown",
   "metadata": {
    "id": "wP6JNLOXiex1"
   },
   "source": [
    "> **Pregunta ❓**: ¿Existe algún método más inteligente para rellenar nulos?"
   ]
  },
  {
   "cell_type": "code",
   "execution_count": null,
   "metadata": {
    "id": "A4jnbKlLnifi"
   },
   "outputs": [],
   "source": [
    "# Extra\n",
    "from pyspark.ml.feature import Imputer\n",
    "\n",
    "imputer = Imputer(\n",
    "    inputCols=['Transaction Amount', 'Customer Age'],\n",
    "    outputCols=[\"{}_imputed\".format(c) for c in ['Transaction Amount', 'Customer Age']]\n",
    "    ).setStrategy(\"median\")"
   ]
  },
  {
   "cell_type": "markdown",
   "metadata": {
    "id": "YSmD6BfVZpco"
   },
   "source": [
    "### Manejo de Filtros"
   ]
  },
  {
   "cell_type": "markdown",
   "metadata": {
    "id": "y3wTZS9-ipwV"
   },
   "source": [
    "`.filter` filtra las filas del DataFrame df para incluir solo aquellas que cumplen con la condición especificada. La condicion puede ser una expresión lógica aplicada a las columnas del DataFrame. Es una herramienta esencial para refinar tus conjuntos de datos, seleccionando solo las partes de interés."
   ]
  },
  {
   "cell_type": "markdown",
   "metadata": {
    "id": "EokgdxSui04o"
   },
   "source": [
    "Una forma simple de hacer esto, es señalando a traves de un `str` la condición que quieres filtrar:"
   ]
  },
  {
   "cell_type": "code",
   "execution_count": 59,
   "metadata": {
    "colab": {
     "base_uri": "https://localhost:8080/"
    },
    "id": "wkbAqx25c9hX",
    "outputId": "f02629f7-c395-488b-a559-56d8bc43b84b"
   },
   "outputs": [
    {
     "name": "stdout",
     "output_type": "stream",
     "text": [
      "+--------------------+--------------------+------------------+-------------------+--------------+----------------+--------+------------+-----------------+-----------+---------------+--------------------+--------------------+-------------+----------------+----------------+\n",
      "|      Transaction ID|         Customer ID|Transaction Amount|   Transaction Date|Payment Method|Product Category|Quantity|Customer Age|Customer Location|Device Used|     IP Address|    Shipping Address|     Billing Address|Is Fraudulent|Account Age Days|Transaction Hour|\n",
      "+--------------------+--------------------+------------------+-------------------+--------------+----------------+--------+------------+-----------------+-----------+---------------+--------------------+--------------------+-------------+----------------+----------------+\n",
      "|15d2e414-8735-46f...|d1b87f62-51b2-493...|             58.09|2024-02-20 05:58:41| bank transfer|     electronics|       1|          17|    Amandaborough|     tablet| 212.195.49.198|Unit 8934 Box 005...|Unit 8934 Box 005...|            0|              30|               5|\n",
      "|0bfee1a0-6d5e-40d...|37de64d5-e901-4a5...|            389.96|2024-02-25 08:09:45|    debit card|     electronics|       2|          40|     East Timothy|    desktop|208.106.249.121|634 May Keys\\nPor...|634 May Keys\\nPor...|            0|              72|               8|\n",
      "|e588eef4-b754-468...|1bac88d6-4b22-409...|            134.19|2024-03-18 03:42:55|        PayPal|   home & garden|       2|          22|       Davismouth|     tablet|   76.63.88.212|16282 Dana Falls ...|16282 Dana Falls ...|            0|              63|               3|\n",
      "|074a76de-fe2d-443...|45071bc5-9588-43e...|            121.53|2024-01-15 05:08:17| bank transfer|        clothing|       2|          51|     South Nicole|     tablet| 190.172.14.169|29799 Jason Hills...|29799 Jason Hills...|            0|             158|               5|\n",
      "|4e707452-7c8a-4cb...|29616b04-2d5c-472...|            166.41|2024-01-30 10:55:14| bank transfer|    toys & games|       2|          34|     Herreramouth|     tablet|  202.237.29.55|5699 Brittany Vil...|120 Kristi Dale\\n...|            0|              38|              10|\n",
      "|7ed952fe-8ae1-4f1...|fe21ae29-ba4c-424...|             92.88|2024-02-04 19:59:10|        PayPal|    toys & games|       2|          14|        Ramosfort|     tablet|   13.45.27.192|727 Gibson Island...|727 Gibson Island...|            0|             119|              19|\n",
      "|0dae14e6-aca5-48b...|a30a5030-1c23-475...|             56.31|2024-02-16 21:08:15|        PayPal|   home & garden|       3|          35|     West Michael|     tablet|  81.95.103.200|3684 Morris Inlet...|3684 Morris Inlet...|            0|             259|              21|\n",
      "|e3ac696e-978c-43c...|4c80f103-ce9c-4e4...|            169.04|2024-03-04 10:10:58|    debit card|   home & garden|       1|          54|         Lamburgh|     tablet|  1.199.155.117|Unit 4478 Box 382...|Unit 4478 Box 382...|            0|              60|              10|\n",
      "|08ded43b-24bf-400...|ed5b5482-fa35-48b...|            266.06|2024-01-26 14:29:25|    debit card|     electronics|       1|          41|     Port Rebecca|     tablet|   194.26.237.2|1228 Torres Squar...|1228 Torres Squar...|            0|             264|              14|\n",
      "|0c0345fa-406b-406...|e852cd05-3ee9-45a...|            263.28|2024-03-07 22:58:45|    debit card|    toys & games|       3|          30|    East Jonathan|     tablet|166.131.101.195|12872 Kevin Creek...|12872 Kevin Creek...|            0|             159|              22|\n",
      "|8501d4c2-10e4-4ae...|339683a0-3028-449...|            475.76|2024-01-17 10:58:52|        PayPal|        clothing|       2|          29|      Muellerstad|     mobile|  196.101.90.48|3496 Jason Ports\\...|3496 Jason Ports\\...|            0|             143|              10|\n",
      "|0293493e-7c4f-4b2...|aa5bb186-5693-40e...|            264.24|2024-01-16 07:04:42|   credit card|    toys & games|       3|          33|    Jennifershire|     mobile|   201.24.228.3|5430 Lee Dale\\nRo...|5430 Lee Dale\\nRo...|            0|             150|               7|\n",
      "|402da312-6957-47a...|1967927c-2316-420...|            123.35|2024-04-02 19:54:47|    debit card|    toys & games|       1|          35| Port Christopher|    desktop|  199.73.51.223|5146 Desiree Ridg...|5146 Desiree Ridg...|            0|              20|              19|\n",
      "|b4c3e417-6627-449...|de73f019-973d-4cf...|            352.67|2024-01-12 23:25:02| bank transfer| health & beauty|       1|          45|        Murrayton|     mobile| 132.248.133.78|5137 Rebecca Rest...|5137 Rebecca Rest...|            0|             189|              23|\n",
      "|66eecfd6-fa41-4c3...|67c1fbc9-5830-409...|            118.83|2024-02-06 22:06:46|    debit card| health & beauty|       1|          30|        Jasonberg|     mobile| 66.205.254.110|501 Calderon Unde...|501 Calderon Unde...|            0|              79|              22|\n",
      "|1b46cabd-fa15-47b...|a748a557-cf3d-481...|            267.12|2024-03-09 00:04:37|   credit card|   home & garden|       2|          13|         West Amy|     tablet| 123.118.78.180|37175 Christopher...|37175 Christopher...|            0|              39|               0|\n",
      "|74118581-84a5-477...|82563528-49f7-480...|            153.05|2024-01-31 03:10:38|    debit card|     electronics|       3|          27|         Ramoston|     mobile|  94.151.244.55|0554 Stephen Radi...|0554 Stephen Radi...|            0|             177|               3|\n",
      "|bb26a794-4d18-4ef...|29104f1d-3db9-425...|            615.52|2024-02-09 16:59:12|   credit card| health & beauty|       3|          46| West Richardbury|     mobile|190.153.209.188|935 Aaron Corners...|935 Aaron Corners...|            0|             238|              16|\n",
      "|0a5ba20d-69d5-4ff...|5e031e9e-87de-4db...|             31.08|2024-01-17 13:18:27|        PayPal|        clothing|       2|          32|   Lake Jimmyfurt|     tablet|   78.50.82.205|68408 Vanessa Pas...|68408 Vanessa Pas...|            1|             147|              13|\n",
      "|4fef0df1-e9d7-41b...|221ff13a-1429-47b...|            141.89|2024-03-29 04:57:16|    debit card|        clothing|       3|          32|      Robbinsport|     mobile| 206.94.162.125|642 Moss Wall Sui...|642 Moss Wall Sui...|            0|             334|               4|\n",
      "+--------------------+--------------------+------------------+-------------------+--------------+----------------+--------+------------+-----------------+-----------+---------------+--------------------+--------------------+-------------+----------------+----------------+\n",
      "only showing top 20 rows\n",
      "\n"
     ]
    }
   ],
   "source": [
    "df.filter(\"Quantity<=3\").show()"
   ]
  },
  {
   "cell_type": "markdown",
   "metadata": {
    "id": "NAh4XOsNiylW"
   },
   "source": [
    "Por otro lado, hay una forma más similar a Pandas, esta forma utiliza el objeto `Column` de spark para realizar el filtro."
   ]
  },
  {
   "cell_type": "code",
   "execution_count": 60,
   "metadata": {
    "colab": {
     "base_uri": "https://localhost:8080/"
    },
    "id": "PhCg6KmTrX9X",
    "outputId": "faa7d597-0cde-45b4-805e-3c06f2fc16d3"
   },
   "outputs": [
    {
     "name": "stdout",
     "output_type": "stream",
     "text": [
      "+--------------------+--------------------+------------------+-------------------+--------------+----------------+--------+------------+-----------------+-----------+---------------+--------------------+--------------------+-------------+----------------+----------------+\n",
      "|      Transaction ID|         Customer ID|Transaction Amount|   Transaction Date|Payment Method|Product Category|Quantity|Customer Age|Customer Location|Device Used|     IP Address|    Shipping Address|     Billing Address|Is Fraudulent|Account Age Days|Transaction Hour|\n",
      "+--------------------+--------------------+------------------+-------------------+--------------+----------------+--------+------------+-----------------+-----------+---------------+--------------------+--------------------+-------------+----------------+----------------+\n",
      "|15d2e414-8735-46f...|d1b87f62-51b2-493...|             58.09|2024-02-20 05:58:41| bank transfer|     electronics|       1|          17|    Amandaborough|     tablet| 212.195.49.198|Unit 8934 Box 005...|Unit 8934 Box 005...|            0|              30|               5|\n",
      "|0bfee1a0-6d5e-40d...|37de64d5-e901-4a5...|            389.96|2024-02-25 08:09:45|    debit card|     electronics|       2|          40|     East Timothy|    desktop|208.106.249.121|634 May Keys\\nPor...|634 May Keys\\nPor...|            0|              72|               8|\n",
      "|e588eef4-b754-468...|1bac88d6-4b22-409...|            134.19|2024-03-18 03:42:55|        PayPal|   home & garden|       2|          22|       Davismouth|     tablet|   76.63.88.212|16282 Dana Falls ...|16282 Dana Falls ...|            0|              63|               3|\n",
      "|4de46e52-60c3-49d...|2357c76e-9253-4ce...|            226.17|2024-03-16 20:41:31| bank transfer|        clothing|       5|          31|         Lynnberg|    desktop| 207.208.171.73|828 Strong Loaf A...|828 Strong Loaf A...|            0|             124|              20|\n",
      "|074a76de-fe2d-443...|45071bc5-9588-43e...|            121.53|2024-01-15 05:08:17| bank transfer|        clothing|       2|          51|     South Nicole|     tablet| 190.172.14.169|29799 Jason Hills...|29799 Jason Hills...|            0|             158|               5|\n",
      "|4e707452-7c8a-4cb...|29616b04-2d5c-472...|            166.41|2024-01-30 10:55:14| bank transfer|    toys & games|       2|          34|     Herreramouth|     tablet|  202.237.29.55|5699 Brittany Vil...|120 Kristi Dale\\n...|            0|              38|              10|\n",
      "|7ed952fe-8ae1-4f1...|fe21ae29-ba4c-424...|             92.88|2024-02-04 19:59:10|        PayPal|    toys & games|       2|          14|        Ramosfort|     tablet|   13.45.27.192|727 Gibson Island...|727 Gibson Island...|            0|             119|              19|\n",
      "|0b2fb5aa-7171-472...|024257c3-5671-4de...|            318.14|2024-02-20 13:30:29|   credit card| health & beauty|       4|          42|       Port Emily|    desktop|131.141.230.185|3914 Davis Union\\...|3914 Davis Union\\...|            0|             251|              13|\n",
      "|1f52366c-7f40-439...|f17640ca-49da-45d...|             47.92|2024-03-03 19:44:00| bank transfer|   home & garden|       4|          38|       Carneyfurt|    desktop| 210.148.17.240|47893 Maldonado S...|47893 Maldonado S...|            0|             190|              19|\n",
      "|3f10dfde-9c4c-408...|aab93e75-582f-445...|            121.78|2024-01-16 21:19:39| bank transfer| health & beauty|       4|          39|       Brockburgh|     mobile| 174.32.252.238|2334 Briana Cente...|2334 Briana Cente...|            0|             343|              21|\n",
      "|75f19b14-516c-4f1...|6a2e1397-e24a-414...|            633.39|2024-01-20 22:11:22|        PayPal|    toys & games|       5|          20|        Craneport|     tablet|201.188.209.214|Unit 7360 Box 518...|55423 Henry Haven...|            0|             285|              22|\n",
      "|0dae14e6-aca5-48b...|a30a5030-1c23-475...|             56.31|2024-02-16 21:08:15|        PayPal|   home & garden|       3|          35|     West Michael|     tablet|  81.95.103.200|3684 Morris Inlet...|3684 Morris Inlet...|            0|             259|              21|\n",
      "|fb09ac9b-8c76-4ca...|2d86cadf-184e-46c...|            275.87|2024-02-15 11:45:52|   credit card|   home & garden|       5|          45|      Melindafurt|     mobile| 105.173.82.111|4197 Lewis Way\\nM...|075 Monroe Court\\...|            0|             307|              11|\n",
      "|3a25fa55-ec25-4b4...|7be37ed2-b2d6-48b...|            178.94|2024-01-29 15:55:08|    debit card|        clothing|       4|          27|      Deniseburgh|     mobile| 211.46.251.245|298 Taylor Canyon...|298 Taylor Canyon...|            0|             200|              15|\n",
      "|c696ffee-f01d-444...|bffedad1-43c1-4ef...|            374.04|2024-02-14 13:31:00| bank transfer|   home & garden|       5|          51|      Danielmouth|     tablet|   25.126.229.2|32232 Omar Glens\\...|32232 Omar Glens\\...|            0|              22|              13|\n",
      "|e3ac696e-978c-43c...|4c80f103-ce9c-4e4...|            169.04|2024-03-04 10:10:58|    debit card|   home & garden|       1|          54|         Lamburgh|     tablet|  1.199.155.117|Unit 4478 Box 382...|Unit 4478 Box 382...|            0|              60|              10|\n",
      "|e3c1a8ee-6455-4a3...|b4e261d2-2e81-4e5...|            254.48|2024-01-08 08:26:25| bank transfer|     electronics|       4|          20|West Melissashire|    desktop|   52.160.5.136|1117 Braun Courts...|1117 Braun Courts...|            0|             238|               8|\n",
      "|08ded43b-24bf-400...|ed5b5482-fa35-48b...|            266.06|2024-01-26 14:29:25|    debit card|     electronics|       1|          41|     Port Rebecca|     tablet|   194.26.237.2|1228 Torres Squar...|1228 Torres Squar...|            0|             264|              14|\n",
      "|0c0345fa-406b-406...|e852cd05-3ee9-45a...|            263.28|2024-03-07 22:58:45|    debit card|    toys & games|       3|          30|    East Jonathan|     tablet|166.131.101.195|12872 Kevin Creek...|12872 Kevin Creek...|            0|             159|              22|\n",
      "|8501d4c2-10e4-4ae...|339683a0-3028-449...|            475.76|2024-01-17 10:58:52|        PayPal|        clothing|       2|          29|      Muellerstad|     mobile|  196.101.90.48|3496 Jason Ports\\...|3496 Jason Ports\\...|            0|             143|              10|\n",
      "+--------------------+--------------------+------------------+-------------------+--------------+----------------+--------+------------+-----------------+-----------+---------------+--------------------+--------------------+-------------+----------------+----------------+\n",
      "only showing top 20 rows\n",
      "\n"
     ]
    }
   ],
   "source": [
    "df.filter(df['Transaction Amount']<=20000).show()"
   ]
  },
  {
   "cell_type": "markdown",
   "metadata": {
    "id": "mVgg3UiCjF07"
   },
   "source": [
    "Para el caso quisieramos filtrar con más de una condición, deberiamos usar los simbolos `|` para añadir un \"ó\" y `&` para añadir un \"y\"."
   ]
  },
  {
   "cell_type": "code",
   "execution_count": 61,
   "metadata": {
    "colab": {
     "base_uri": "https://localhost:8080/"
    },
    "id": "h1smzQ0Pradx",
    "outputId": "71dbc1cb-914d-4c12-8b18-18182e771bed"
   },
   "outputs": [
    {
     "name": "stdout",
     "output_type": "stream",
     "text": [
      "+--------------------+--------------------+------------------+-------------------+--------------+----------------+--------+------------+-----------------+-----------+---------------+--------------------+--------------------+-------------+----------------+----------------+\n",
      "|      Transaction ID|         Customer ID|Transaction Amount|   Transaction Date|Payment Method|Product Category|Quantity|Customer Age|Customer Location|Device Used|     IP Address|    Shipping Address|     Billing Address|Is Fraudulent|Account Age Days|Transaction Hour|\n",
      "+--------------------+--------------------+------------------+-------------------+--------------+----------------+--------+------------+-----------------+-----------+---------------+--------------------+--------------------+-------------+----------------+----------------+\n",
      "|15d2e414-8735-46f...|d1b87f62-51b2-493...|             58.09|2024-02-20 05:58:41| bank transfer|     electronics|       1|          17|    Amandaborough|     tablet| 212.195.49.198|Unit 8934 Box 005...|Unit 8934 Box 005...|            0|              30|               5|\n",
      "|0bfee1a0-6d5e-40d...|37de64d5-e901-4a5...|            389.96|2024-02-25 08:09:45|    debit card|     electronics|       2|          40|     East Timothy|    desktop|208.106.249.121|634 May Keys\\nPor...|634 May Keys\\nPor...|            0|              72|               8|\n",
      "|e588eef4-b754-468...|1bac88d6-4b22-409...|            134.19|2024-03-18 03:42:55|        PayPal|   home & garden|       2|          22|       Davismouth|     tablet|   76.63.88.212|16282 Dana Falls ...|16282 Dana Falls ...|            0|              63|               3|\n",
      "|4de46e52-60c3-49d...|2357c76e-9253-4ce...|            226.17|2024-03-16 20:41:31| bank transfer|        clothing|       5|          31|         Lynnberg|    desktop| 207.208.171.73|828 Strong Loaf A...|828 Strong Loaf A...|            0|             124|              20|\n",
      "|074a76de-fe2d-443...|45071bc5-9588-43e...|            121.53|2024-01-15 05:08:17| bank transfer|        clothing|       2|          51|     South Nicole|     tablet| 190.172.14.169|29799 Jason Hills...|29799 Jason Hills...|            0|             158|               5|\n",
      "|4e707452-7c8a-4cb...|29616b04-2d5c-472...|            166.41|2024-01-30 10:55:14| bank transfer|    toys & games|       2|          34|     Herreramouth|     tablet|  202.237.29.55|5699 Brittany Vil...|120 Kristi Dale\\n...|            0|              38|              10|\n",
      "|7ed952fe-8ae1-4f1...|fe21ae29-ba4c-424...|             92.88|2024-02-04 19:59:10|        PayPal|    toys & games|       2|          14|        Ramosfort|     tablet|   13.45.27.192|727 Gibson Island...|727 Gibson Island...|            0|             119|              19|\n",
      "|0b2fb5aa-7171-472...|024257c3-5671-4de...|            318.14|2024-02-20 13:30:29|   credit card| health & beauty|       4|          42|       Port Emily|    desktop|131.141.230.185|3914 Davis Union\\...|3914 Davis Union\\...|            0|             251|              13|\n",
      "|1f52366c-7f40-439...|f17640ca-49da-45d...|             47.92|2024-03-03 19:44:00| bank transfer|   home & garden|       4|          38|       Carneyfurt|    desktop| 210.148.17.240|47893 Maldonado S...|47893 Maldonado S...|            0|             190|              19|\n",
      "|3f10dfde-9c4c-408...|aab93e75-582f-445...|            121.78|2024-01-16 21:19:39| bank transfer| health & beauty|       4|          39|       Brockburgh|     mobile| 174.32.252.238|2334 Briana Cente...|2334 Briana Cente...|            0|             343|              21|\n",
      "|75f19b14-516c-4f1...|6a2e1397-e24a-414...|            633.39|2024-01-20 22:11:22|        PayPal|    toys & games|       5|          20|        Craneport|     tablet|201.188.209.214|Unit 7360 Box 518...|55423 Henry Haven...|            0|             285|              22|\n",
      "|0dae14e6-aca5-48b...|a30a5030-1c23-475...|             56.31|2024-02-16 21:08:15|        PayPal|   home & garden|       3|          35|     West Michael|     tablet|  81.95.103.200|3684 Morris Inlet...|3684 Morris Inlet...|            0|             259|              21|\n",
      "|fb09ac9b-8c76-4ca...|2d86cadf-184e-46c...|            275.87|2024-02-15 11:45:52|   credit card|   home & garden|       5|          45|      Melindafurt|     mobile| 105.173.82.111|4197 Lewis Way\\nM...|075 Monroe Court\\...|            0|             307|              11|\n",
      "|3a25fa55-ec25-4b4...|7be37ed2-b2d6-48b...|            178.94|2024-01-29 15:55:08|    debit card|        clothing|       4|          27|      Deniseburgh|     mobile| 211.46.251.245|298 Taylor Canyon...|298 Taylor Canyon...|            0|             200|              15|\n",
      "|c696ffee-f01d-444...|bffedad1-43c1-4ef...|            374.04|2024-02-14 13:31:00| bank transfer|   home & garden|       5|          51|      Danielmouth|     tablet|   25.126.229.2|32232 Omar Glens\\...|32232 Omar Glens\\...|            0|              22|              13|\n",
      "|e3ac696e-978c-43c...|4c80f103-ce9c-4e4...|            169.04|2024-03-04 10:10:58|    debit card|   home & garden|       1|          54|         Lamburgh|     tablet|  1.199.155.117|Unit 4478 Box 382...|Unit 4478 Box 382...|            0|              60|              10|\n",
      "|e3c1a8ee-6455-4a3...|b4e261d2-2e81-4e5...|            254.48|2024-01-08 08:26:25| bank transfer|     electronics|       4|          20|West Melissashire|    desktop|   52.160.5.136|1117 Braun Courts...|1117 Braun Courts...|            0|             238|               8|\n",
      "|08ded43b-24bf-400...|ed5b5482-fa35-48b...|            266.06|2024-01-26 14:29:25|    debit card|     electronics|       1|          41|     Port Rebecca|     tablet|   194.26.237.2|1228 Torres Squar...|1228 Torres Squar...|            0|             264|              14|\n",
      "|0c0345fa-406b-406...|e852cd05-3ee9-45a...|            263.28|2024-03-07 22:58:45|    debit card|    toys & games|       3|          30|    East Jonathan|     tablet|166.131.101.195|12872 Kevin Creek...|12872 Kevin Creek...|            0|             159|              22|\n",
      "|8501d4c2-10e4-4ae...|339683a0-3028-449...|            475.76|2024-01-17 10:58:52|        PayPal|        clothing|       2|          29|      Muellerstad|     mobile|  196.101.90.48|3496 Jason Ports\\...|3496 Jason Ports\\...|            0|             143|              10|\n",
      "+--------------------+--------------------+------------------+-------------------+--------------+----------------+--------+------------+-----------------+-----------+---------------+--------------------+--------------------+-------------+----------------+----------------+\n",
      "only showing top 20 rows\n",
      "\n"
     ]
    }
   ],
   "source": [
    "df.filter((df['Transaction Amount']<=200) |\n",
    "                  (df['Transaction Amount']>=50)).show()"
   ]
  },
  {
   "cell_type": "markdown",
   "metadata": {
    "id": "louBCcfljTfk"
   },
   "source": [
    "Finalmente, si deseamos la negación de estos filtros, tendremos que usar el simbolo `~`:\n",
    "\n",
    "> Add blockquote\n",
    "\n"
   ]
  },
  {
   "cell_type": "code",
   "execution_count": 63,
   "metadata": {
    "colab": {
     "base_uri": "https://localhost:8080/"
    },
    "id": "f_IQvkf3rd0j",
    "outputId": "a0993e3c-2b1c-4197-f5c7-8a739ca55d30"
   },
   "outputs": [
    {
     "name": "stdout",
     "output_type": "stream",
     "text": [
      "+--------------------+--------------------+------------------+-------------------+--------------+----------------+--------+------------+-----------------+-----------+---------------+--------------------+--------------------+-------------+----------------+----------------+\n",
      "|      Transaction ID|         Customer ID|Transaction Amount|   Transaction Date|Payment Method|Product Category|Quantity|Customer Age|Customer Location|Device Used|     IP Address|    Shipping Address|     Billing Address|Is Fraudulent|Account Age Days|Transaction Hour|\n",
      "+--------------------+--------------------+------------------+-------------------+--------------+----------------+--------+------------+-----------------+-----------+---------------+--------------------+--------------------+-------------+----------------+----------------+\n",
      "|15d2e414-8735-46f...|d1b87f62-51b2-493...|             58.09|2024-02-20 05:58:41| bank transfer|     electronics|       1|          17|    Amandaborough|     tablet| 212.195.49.198|Unit 8934 Box 005...|Unit 8934 Box 005...|            0|              30|               5|\n",
      "|7ed952fe-8ae1-4f1...|fe21ae29-ba4c-424...|             92.88|2024-02-04 19:59:10|        PayPal|    toys & games|       2|          14|        Ramosfort|     tablet|   13.45.27.192|727 Gibson Island...|727 Gibson Island...|            0|             119|              19|\n",
      "|1f52366c-7f40-439...|f17640ca-49da-45d...|             47.92|2024-03-03 19:44:00| bank transfer|   home & garden|       4|          38|       Carneyfurt|    desktop| 210.148.17.240|47893 Maldonado S...|47893 Maldonado S...|            0|             190|              19|\n",
      "|0dae14e6-aca5-48b...|a30a5030-1c23-475...|             56.31|2024-02-16 21:08:15|        PayPal|   home & garden|       3|          35|     West Michael|     tablet|  81.95.103.200|3684 Morris Inlet...|3684 Morris Inlet...|            0|             259|              21|\n",
      "|4b798a5c-8400-439...|26695fcc-6a94-40e...|             89.38|2024-02-07 02:13:55|   credit card| health & beauty|       4|          35|   Lake Elizabeth|     mobile|  82.111.15.220|635 Danielle Park...|635 Danielle Park...|            0|             315|               2|\n",
      "|0b5286d8-853b-427...|daebc1ea-4a8a-402...|             53.73|2024-03-15 14:11:33| bank transfer|    toys & games|       4|          48|         Popefort|     mobile| 103.23.100.105|0720 Holmes Garde...|0720 Holmes Garde...|            0|             364|              14|\n",
      "|39b77e1a-f7aa-428...|0e6c7829-1e94-44e...|             21.24|2024-01-13 19:36:49|    debit card| health & beauty|       5|          49|       Barronview|    desktop|    89.25.29.96|838 Ross Square\\n...|838 Ross Square\\n...|            0|             223|              19|\n",
      "|0a5ba20d-69d5-4ff...|5e031e9e-87de-4db...|             31.08|2024-01-17 13:18:27|        PayPal|        clothing|       2|          32|   Lake Jimmyfurt|     tablet|   78.50.82.205|68408 Vanessa Pas...|68408 Vanessa Pas...|            1|             147|              13|\n",
      "|8e3efc28-4aa3-4df...|77501c50-72cc-4e4...|             16.05|2024-03-17 01:27:50|   credit card|   home & garden|       3|          22|       West Kevin|     mobile| 116.65.177.140|1832 Greer Trail\\...|1832 Greer Trail\\...|            0|             213|               1|\n",
      "|247de335-896b-417...|2c644e55-dcb1-457...|             56.33|2024-02-04 07:53:00| bank transfer|        clothing|       4|          38|    Howardborough|    desktop|118.118.247.178|6499 Lee Flat Apt...|78577 Dylan Throu...|            0|             198|               7|\n",
      "|aa4c8ef8-1e0a-465...|32d5ea3a-f5c0-47d...|             71.57|2024-02-17 21:28:09| bank transfer|     electronics|       5|          37|       Medinafort|     tablet|   90.75.141.52|624 Schultz Spurs...|624 Schultz Spurs...|            0|              80|              21|\n",
      "|c217760b-a18e-496...|3e8635c6-939f-4f3...|             43.96|2024-02-19 22:57:27|    debit card|     electronics|       4|          22|   Port Shaneberg|     mobile| 179.59.183.205|45344 Mary Hollow...|45344 Mary Hollow...|            0|             349|              22|\n",
      "|48bb3bd2-c616-407...|e86a2850-b766-48b...|             87.36|2024-02-21 13:41:02|        PayPal| health & beauty|       5|          39|West Caitlinmouth|     tablet|136.225.140.174|8105 Amber Flats\\...|8105 Amber Flats\\...|            0|               7|              13|\n",
      "|c1681a49-698d-4ff...|bcb2d89b-74f7-41e...|             96.07|2024-03-15 07:50:40|        PayPal|    toys & games|       3|          24|      Williamside|    desktop| 42.205.203.181|1518 Pineda Manor...|1518 Pineda Manor...|            0|             119|               7|\n",
      "|e9bc401d-d408-4ad...|42c3553c-477c-4ed...|             86.51|2024-01-25 19:12:01|    debit card| health & beauty|       3|          31|    East Erikland|     mobile|  94.208.203.43|17260 Knight Grov...|17260 Knight Grov...|            0|             262|              19|\n",
      "|286788e3-94bc-4d1...|a1e6015c-7935-436...|             65.03|2024-02-25 00:47:09|    debit card|    toys & games|       2|          17|         Deanside|     mobile|   3.68.182.201|29693 Meyers Row\\...|29693 Meyers Row\\...|            0|             167|               0|\n",
      "|ccc482ec-51bd-45b...|e6bf9d87-3dc1-4e1...|             22.93|2024-01-29 20:04:26|   credit card|    toys & games|       1|          58|        Richshire|    desktop| 42.203.164.128|747 Green Manors ...|747 Green Manors ...|            0|             103|              20|\n",
      "|d4d59c86-4003-45e...|e3c8980b-5492-458...|             51.05|2024-02-05 18:09:11|        PayPal|     electronics|       3|          39|        Larryfurt|    desktop| 156.230.136.99|47712 Samantha Sh...|47712 Samantha Sh...|            0|              44|              18|\n",
      "|6a57a850-189a-4d9...|c09cabd8-696d-4f0...|             10.59|2024-01-11 03:02:57|    debit card|        clothing|       1|          46|  Lake Jamieshire|     tablet|  130.33.173.82|9316 Nicholas Cir...|9316 Nicholas Cir...|            0|             272|               3|\n",
      "|001588cf-5c96-45a...|787d07ac-26a4-446...|             56.83|2024-01-28 15:36:10|    debit card|    toys & games|       3|          21|   Port Adamhaven|     tablet|134.165.126.136|571 Michael Knoll...|571 Michael Knoll...|            0|             321|              15|\n",
      "+--------------------+--------------------+------------------+-------------------+--------------+----------------+--------+------------+-----------------+-----------+---------------+--------------------+--------------------+-------------+----------------+----------------+\n",
      "only showing top 20 rows\n",
      "\n"
     ]
    }
   ],
   "source": [
    "df.filter(~(df['Transaction Amount']>=100)).show()"
   ]
  },
  {
   "cell_type": "markdown",
   "metadata": {
    "id": "IepveA8tZvvW"
   },
   "source": [
    "### Agregaciones"
   ]
  },
  {
   "cell_type": "markdown",
   "metadata": {
    "id": "fRtdvpeJjda4"
   },
   "source": [
    "`.groupBy()` Agrupa el DataFrame df por una o más columnas, permitiendo realizar operaciones de agregación sobre los grupos resultantes. Este método es fundamental para el análisis de datos, ya que permite resumir y entender mejor las características distintas de diferentes segmentos o categorías en tus datos."
   ]
  },
  {
   "cell_type": "code",
   "execution_count": 65,
   "metadata": {
    "colab": {
     "base_uri": "https://localhost:8080/"
    },
    "id": "DL8EwE80c-EC",
    "outputId": "d7a13402-73d8-424e-de3b-cbdead493959"
   },
   "outputs": [
    {
     "name": "stdout",
     "output_type": "stream",
     "text": [
      "+----------------+-----------------------+-------------+-----------------+------------------+---------------------+---------------------+\n",
      "|Product Category|sum(Transaction Amount)|sum(Quantity)|sum(Customer Age)|sum(Is Fraudulent)|sum(Account Age Days)|sum(Transaction Hour)|\n",
      "+----------------+-----------------------+-------------+-----------------+------------------+---------------------+---------------------+\n",
      "| health & beauty|   2.7234964680000138E7|       360265|          4155478|              5980|             21646699|              1356016|\n",
      "|    toys & games|    2.725625052999986E7|       359408|          4132384|              6081|             21573251|              1351441|\n",
      "|     electronics|    2.720646268000043E7|       360161|          4137520|              6006|             21584165|              1355189|\n",
      "|        clothing|     2.71361904500001E7|       359806|          4140709|              5947|             21542791|              1354304|\n",
      "|   home & garden|   2.7266836669999953E7|       359476|          4139837|              6146|             21461796|              1356703|\n",
      "+----------------+-----------------------+-------------+-----------------+------------------+---------------------+---------------------+\n",
      "\n"
     ]
    }
   ],
   "source": [
    "df.groupBy('Product Category').sum().show()"
   ]
  },
  {
   "cell_type": "code",
   "execution_count": 66,
   "metadata": {
    "colab": {
     "base_uri": "https://localhost:8080/"
    },
    "id": "-2ARzf1RrjOZ",
    "outputId": "cc115065-0744-45bc-c800-efea7954c7ec"
   },
   "outputs": [
    {
     "name": "stdout",
     "output_type": "stream",
     "text": [
      "+----------------+-----------------------+------------------+------------------+--------------------+---------------------+---------------------+\n",
      "|Product Category|avg(Transaction Amount)|     avg(Quantity)| avg(Customer Age)|  avg(Is Fraudulent)|avg(Account Age Days)|avg(Transaction Hour)|\n",
      "+----------------+-----------------------+------------------+------------------+--------------------+---------------------+---------------------+\n",
      "| health & beauty|     226.31680804387682|2.9937261093568224| 34.53114508891474| 0.04969253780953964|   179.87949975070634|   11.268206747548613|\n",
      "|    toys & games|     227.39503040971658| 2.998489942684565| 34.47589331153066|0.050732920083762297|   179.98257176943676|    11.27488048855777|\n",
      "|     electronics|     226.74130695314096| 3.001616814874697| 34.48249422863763| 0.05005458833726425|   179.88453108201585|    11.29427697538941|\n",
      "|        clothing|     226.21975282397648| 2.999508148889167|34.518852903172025| 0.04957692468008837|   179.59060481013714|   11.290100454337043|\n",
      "|   home & garden|     227.50232927002205|2.9993074850024612| 34.54095433572793|0.051279484034609066|    179.0676578809041|    11.31972499645399|\n",
      "+----------------+-----------------------+------------------+------------------+--------------------+---------------------+---------------------+\n",
      "\n"
     ]
    }
   ],
   "source": [
    "df.groupBy('Product Category').avg().show()"
   ]
  },
  {
   "cell_type": "markdown",
   "metadata": {
    "id": "-HZ5wNlRjidM"
   },
   "source": [
    "Muy similar al método anterior, `.agg()` realiza una operación de agregación sobre el DataFrame df, como max, min, avg, sum, etc., especificada por un diccionario que mapea nombres de columnas a funciones de agregación. Cuando se usa después de groupBy, aplica estas funciones de agregación a cada grupo."
   ]
  },
  {
   "cell_type": "code",
   "execution_count": 68,
   "metadata": {
    "colab": {
     "base_uri": "https://localhost:8080/"
    },
    "id": "AYxusfPprsLQ",
    "outputId": "4f5b67bf-6cc4-45ee-bc12-aabdb75b1e3e"
   },
   "outputs": [
    {
     "name": "stdout",
     "output_type": "stream",
     "text": [
      "+----------------+--------------+-----------------------+-------------+\n",
      "|Product Category|Payment Method|avg(Transaction Amount)|sum(Quantity)|\n",
      "+----------------+--------------+-----------------------+-------------+\n",
      "| health & beauty|   credit card|      225.1705797437345|        90889|\n",
      "|   home & garden|    debit card|     227.96262454273386|        90231|\n",
      "|   home & garden|        PayPal|     227.29266382099075|        90194|\n",
      "|        clothing|    debit card|     225.37682668183115|        89516|\n",
      "|   home & garden| bank transfer|     226.55064501036057|        89239|\n",
      "| health & beauty|        PayPal|      226.3843668195371|        89372|\n",
      "|     electronics|   credit card|     227.04638911102143|        89870|\n",
      "| health & beauty|    debit card|     226.62497625610175|        89748|\n",
      "|    toys & games|    debit card|     225.43380700000031|        89587|\n",
      "|    toys & games| bank transfer|     228.85355572682707|        89541|\n",
      "|   home & garden|   credit card|      228.2026859476474|        89812|\n",
      "|        clothing|        PayPal|     226.64023987259822|        90336|\n",
      "|     electronics| bank transfer|     228.01993433114407|        89934|\n",
      "|        clothing|   credit card|     225.92690120754048|        90419|\n",
      "|    toys & games|   credit card|      226.9915102692985|        90417|\n",
      "|    toys & games|        PayPal|     228.31009172781842|        89863|\n",
      "|     electronics|    debit card|     226.87006428950167|        90822|\n",
      "| health & beauty| bank transfer|      227.0902975025708|        90256|\n",
      "|        clothing| bank transfer|      226.9367965208039|        89535|\n",
      "|     electronics|        PayPal|      225.0166223743369|        89535|\n",
      "+----------------+--------------+-----------------------+-------------+\n",
      "\n"
     ]
    }
   ],
   "source": [
    "df.groupBy(['Product Category', 'Payment Method']).agg({'Quantity':'sum', 'Transaction Amount':'mean'}).show()"
   ]
  },
  {
   "cell_type": "markdown",
   "metadata": {
    "id": "p0azjd0QZ2FW"
   },
   "source": [
    "### Melt y Pivot\n",
    "\n",
    "Al trabajar con grandes conjuntos de datos, a menudo nos encontramos con la necesidad de reestructurarlos para facilitar el análisis. En PySpark, esto se puede lograr mediante operaciones de \"melt\" y \"pivot\", que permiten transformar y reorganizar los datos de maneras específicas para adaptarse mejor a nuestras necesidades de análisis. Esta sección explorará cómo clasificar y aplicar estas dos operaciones poderosas dentro del entorno de PySpark.\n",
    "\n",
    "Operación de `Melt`\n",
    "La operación \"melt\" es un proceso de transformación de datos que convierte columnas de tu DataFrame en filas, lo que resulta útil cuando necesitas desnormalizar tus datos o convertir datos anchos en datos largos para análisis o visualización."
   ]
  },
  {
   "cell_type": "code",
   "execution_count": 84,
   "metadata": {
    "colab": {
     "base_uri": "https://localhost:8080/"
    },
    "id": "bjMklH6YcvU6",
    "outputId": "d7626f85-aabc-4fd6-d1f5-8bb4480a0d16"
   },
   "outputs": [
    {
     "name": "stdout",
     "output_type": "stream",
     "text": [
      "+----------------+------------------+------------------+\n",
      "|Product Category|     Is Fraudulent|Transaction Amount|\n",
      "+----------------+------------------+------------------+\n",
      "|     electronics|Transaction Amount|             58.09|\n",
      "|     electronics|Transaction Amount|            389.96|\n",
      "|   home & garden|Transaction Amount|            134.19|\n",
      "|        clothing|Transaction Amount|            226.17|\n",
      "|        clothing|Transaction Amount|            121.53|\n",
      "|    toys & games|Transaction Amount|            166.41|\n",
      "|    toys & games|Transaction Amount|             92.88|\n",
      "| health & beauty|Transaction Amount|            318.14|\n",
      "|   home & garden|Transaction Amount|             47.92|\n",
      "| health & beauty|Transaction Amount|            121.78|\n",
      "|    toys & games|Transaction Amount|            633.39|\n",
      "|   home & garden|Transaction Amount|             56.31|\n",
      "|   home & garden|Transaction Amount|            275.87|\n",
      "|        clothing|Transaction Amount|            178.94|\n",
      "|   home & garden|Transaction Amount|            374.04|\n",
      "|   home & garden|Transaction Amount|            169.04|\n",
      "|     electronics|Transaction Amount|            254.48|\n",
      "|     electronics|Transaction Amount|            266.06|\n",
      "|    toys & games|Transaction Amount|            263.28|\n",
      "|        clothing|Transaction Amount|            475.76|\n",
      "+----------------+------------------+------------------+\n",
      "only showing top 20 rows\n",
      "\n"
     ]
    }
   ],
   "source": [
    "df.melt(\n",
    "    ids='Product Category',\n",
    "    values='Transaction Amount',\n",
    "    variableColumnName='Is Fraudulent',\n",
    "    valueColumnName='Transaction Amount'\n",
    ").show()"
   ]
  },
  {
   "cell_type": "markdown",
   "metadata": {
    "id": "jIX-jwdKcunO"
   },
   "source": [
    "Operación de `Pivot`\n",
    "Por otro lado, la operación \"pivot\" permite transformar los datos de un formato largo a un formato ancho, creando tablas dinámicas que resumen información. Con pivot, puedes girar una columna específica de tu DataFrame para que sus valores únicos se conviertan en columnas individuales, permitiéndote realizar agregaciones en las restantes. Esta operación es esencial para resumir y analizar grandes volúmenes de datos, facilitando la comprensión de las relaciones y tendencias dentro de tus datos."
   ]
  },
  {
   "cell_type": "code",
   "execution_count": 85,
   "metadata": {
    "colab": {
     "base_uri": "https://localhost:8080/"
    },
    "id": "XOOfjdFBo21s",
    "outputId": "872a36eb-bfcb-4a81-de8f-955933434fde"
   },
   "outputs": [
    {
     "name": "stdout",
     "output_type": "stream",
     "text": [
      "+----------------+------------------+-----------------+\n",
      "|Product Category|                 0|                1|\n",
      "+----------------+------------------+-----------------+\n",
      "| health & beauty|209.73250848198688|543.4707374581941|\n",
      "|    toys & games|209.64851092439974|559.4513501068927|\n",
      "|     electronics|209.98856776888175|544.6779487179508|\n",
      "|        clothing|209.76507762613306|541.6669715823115|\n",
      "|   home & garden|210.00183023032963| 551.278646273998|\n",
      "+----------------+------------------+-----------------+\n",
      "\n"
     ]
    }
   ],
   "source": [
    "df_plot = df.groupBy(\"Product Category\").pivot(\"Is Fraudulent\").mean(\"Transaction Amount\")\n",
    "df_plot.show()"
   ]
  },
  {
   "cell_type": "markdown",
   "metadata": {
    "id": "PlKmJ_i3rebo"
   },
   "source": [
    "> **Pregunta ❓**: ¿Qué pasa si ploteamos directamente estos dataframes?"
   ]
  },
  {
   "cell_type": "markdown",
   "metadata": {
    "id": "bVGp9is6rnmG"
   },
   "source": [
    "Primero que todo vamos a dejar nuestro `dataframe`en una forma mas amigable para su ploteo, para esto, utilizaremos `melt`."
   ]
  },
  {
   "cell_type": "code",
   "execution_count": 91,
   "metadata": {
    "colab": {
     "base_uri": "https://localhost:8080/"
    },
    "id": "jzUki2xjqzpy",
    "outputId": "9d06709f-9f54-416a-ff08-f816bf736432"
   },
   "outputs": [
    {
     "name": "stdout",
     "output_type": "stream",
     "text": [
      "+----------------+-------------+------------------+\n",
      "|Product Category|Is Fraudulent|        Avg Amount|\n",
      "+----------------+-------------+------------------+\n",
      "| health & beauty|            0|209.73250848198688|\n",
      "| health & beauty|            1| 543.4707374581941|\n",
      "|    toys & games|            0|209.64851092439974|\n",
      "|    toys & games|            1| 559.4513501068927|\n",
      "|     electronics|            0|209.98856776888175|\n",
      "|     electronics|            1| 544.6779487179508|\n",
      "|        clothing|            0|209.76507762613306|\n",
      "|        clothing|            1| 541.6669715823115|\n",
      "|   home & garden|            0|210.00183023032963|\n",
      "|   home & garden|            1|  551.278646273998|\n",
      "+----------------+-------------+------------------+\n",
      "\n"
     ]
    }
   ],
   "source": [
    "df_plot = df_plot.melt(\n",
    "    ids='Product Category',\n",
    "    values=['0','1'],\n",
    "    variableColumnName='Is Fraudulent',\n",
    "    valueColumnName='Avg Amount')\n",
    "df_plot.show()"
   ]
  },
  {
   "cell_type": "markdown",
   "metadata": {
    "id": "jsNvpIWdr90b"
   },
   "source": [
    "Creamos visualizaciones utilizando Plotly, una biblioteca de gráficos avanzada que simplifica la creación de visualizaciones interactivas en comparación con Matplotlib. Plotly destaca por su facilidad de uso y por ofrecer gráficos dinámicos que mejoran significativamente la experiencia de análisis de datos."
   ]
  },
  {
   "cell_type": "code",
   "execution_count": 102,
   "metadata": {
    "colab": {
     "base_uri": "https://localhost:8080/",
     "height": 365
    },
    "id": "mqY3gNNzrzPq",
    "outputId": "07a8d494-80b2-431d-e5d8-ea7eb50202b1"
   },
   "outputs": [
    {
     "ename": "ValueError",
     "evalue": "DataFrame constructor not properly called!",
     "output_type": "error",
     "traceback": [
      "\u001b[0;31m---------------------------------------------------------------------------\u001b[0m",
      "\u001b[0;31mValueError\u001b[0m                                Traceback (most recent call last)",
      "\u001b[0;32m<ipython-input-102-070b4a37088a>\u001b[0m in \u001b[0;36m<cell line: 3>\u001b[0;34m()\u001b[0m\n\u001b[1;32m      1\u001b[0m \u001b[0;32mimport\u001b[0m \u001b[0mplotly\u001b[0m\u001b[0;34m.\u001b[0m\u001b[0mexpress\u001b[0m \u001b[0;32mas\u001b[0m \u001b[0mpx\u001b[0m\u001b[0;34m\u001b[0m\u001b[0;34m\u001b[0m\u001b[0m\n\u001b[1;32m      2\u001b[0m \u001b[0;34m\u001b[0m\u001b[0m\n\u001b[0;32m----> 3\u001b[0;31m px.bar(\n\u001b[0m\u001b[1;32m      4\u001b[0m     \u001b[0mdf_plot\u001b[0m\u001b[0;34m,\u001b[0m\u001b[0;34m\u001b[0m\u001b[0;34m\u001b[0m\u001b[0m\n\u001b[1;32m      5\u001b[0m     \u001b[0mx\u001b[0m\u001b[0;34m=\u001b[0m\u001b[0;34m'Is Fraudulent'\u001b[0m\u001b[0;34m,\u001b[0m\u001b[0;34m\u001b[0m\u001b[0;34m\u001b[0m\u001b[0m\n",
      "\u001b[0;32m/usr/local/lib/python3.10/dist-packages/plotly/express/_chart_types.py\u001b[0m in \u001b[0;36mbar\u001b[0;34m(data_frame, x, y, color, pattern_shape, facet_row, facet_col, facet_col_wrap, facet_row_spacing, facet_col_spacing, hover_name, hover_data, custom_data, text, base, error_x, error_x_minus, error_y, error_y_minus, animation_frame, animation_group, category_orders, labels, color_discrete_sequence, color_discrete_map, color_continuous_scale, pattern_shape_sequence, pattern_shape_map, range_color, color_continuous_midpoint, opacity, orientation, barmode, log_x, log_y, range_x, range_y, text_auto, title, template, width, height)\u001b[0m\n\u001b[1;32m    371\u001b[0m     \u001b[0mmark\u001b[0m\u001b[0;34m.\u001b[0m\u001b[0;34m\u001b[0m\u001b[0;34m\u001b[0m\u001b[0m\n\u001b[1;32m    372\u001b[0m     \"\"\"\n\u001b[0;32m--> 373\u001b[0;31m     return make_figure(\n\u001b[0m\u001b[1;32m    374\u001b[0m         \u001b[0margs\u001b[0m\u001b[0;34m=\u001b[0m\u001b[0mlocals\u001b[0m\u001b[0;34m(\u001b[0m\u001b[0;34m)\u001b[0m\u001b[0;34m,\u001b[0m\u001b[0;34m\u001b[0m\u001b[0;34m\u001b[0m\u001b[0m\n\u001b[1;32m    375\u001b[0m         \u001b[0mconstructor\u001b[0m\u001b[0;34m=\u001b[0m\u001b[0mgo\u001b[0m\u001b[0;34m.\u001b[0m\u001b[0mBar\u001b[0m\u001b[0;34m,\u001b[0m\u001b[0;34m\u001b[0m\u001b[0;34m\u001b[0m\u001b[0m\n",
      "\u001b[0;32m/usr/local/lib/python3.10/dist-packages/plotly/express/_core.py\u001b[0m in \u001b[0;36mmake_figure\u001b[0;34m(args, constructor, trace_patch, layout_patch)\u001b[0m\n\u001b[1;32m   2001\u001b[0m     \u001b[0mapply_default_cascade\u001b[0m\u001b[0;34m(\u001b[0m\u001b[0margs\u001b[0m\u001b[0;34m)\u001b[0m\u001b[0;34m\u001b[0m\u001b[0;34m\u001b[0m\u001b[0m\n\u001b[1;32m   2002\u001b[0m \u001b[0;34m\u001b[0m\u001b[0m\n\u001b[0;32m-> 2003\u001b[0;31m     \u001b[0margs\u001b[0m \u001b[0;34m=\u001b[0m \u001b[0mbuild_dataframe\u001b[0m\u001b[0;34m(\u001b[0m\u001b[0margs\u001b[0m\u001b[0;34m,\u001b[0m \u001b[0mconstructor\u001b[0m\u001b[0;34m)\u001b[0m\u001b[0;34m\u001b[0m\u001b[0;34m\u001b[0m\u001b[0m\n\u001b[0m\u001b[1;32m   2004\u001b[0m     \u001b[0;32mif\u001b[0m \u001b[0mconstructor\u001b[0m \u001b[0;32min\u001b[0m \u001b[0;34m[\u001b[0m\u001b[0mgo\u001b[0m\u001b[0;34m.\u001b[0m\u001b[0mTreemap\u001b[0m\u001b[0;34m,\u001b[0m \u001b[0mgo\u001b[0m\u001b[0;34m.\u001b[0m\u001b[0mSunburst\u001b[0m\u001b[0;34m,\u001b[0m \u001b[0mgo\u001b[0m\u001b[0;34m.\u001b[0m\u001b[0mIcicle\u001b[0m\u001b[0;34m]\u001b[0m \u001b[0;32mand\u001b[0m \u001b[0margs\u001b[0m\u001b[0;34m[\u001b[0m\u001b[0;34m\"path\"\u001b[0m\u001b[0;34m]\u001b[0m \u001b[0;32mis\u001b[0m \u001b[0;32mnot\u001b[0m \u001b[0;32mNone\u001b[0m\u001b[0;34m:\u001b[0m\u001b[0;34m\u001b[0m\u001b[0;34m\u001b[0m\u001b[0m\n\u001b[1;32m   2005\u001b[0m         \u001b[0margs\u001b[0m \u001b[0;34m=\u001b[0m \u001b[0mprocess_dataframe_hierarchy\u001b[0m\u001b[0;34m(\u001b[0m\u001b[0margs\u001b[0m\u001b[0;34m)\u001b[0m\u001b[0;34m\u001b[0m\u001b[0;34m\u001b[0m\u001b[0m\n",
      "\u001b[0;32m/usr/local/lib/python3.10/dist-packages/plotly/express/_core.py\u001b[0m in \u001b[0;36mbuild_dataframe\u001b[0;34m(args, constructor)\u001b[0m\n\u001b[1;32m   1311\u001b[0m             \u001b[0margs\u001b[0m\u001b[0;34m[\u001b[0m\u001b[0;34m\"data_frame\"\u001b[0m\u001b[0;34m]\u001b[0m \u001b[0;34m=\u001b[0m \u001b[0margs\u001b[0m\u001b[0;34m[\u001b[0m\u001b[0;34m\"data_frame\"\u001b[0m\u001b[0;34m]\u001b[0m\u001b[0;34m.\u001b[0m\u001b[0mto_pandas\u001b[0m\u001b[0;34m(\u001b[0m\u001b[0;34m)\u001b[0m\u001b[0;34m\u001b[0m\u001b[0;34m\u001b[0m\u001b[0m\n\u001b[1;32m   1312\u001b[0m         \u001b[0;32melse\u001b[0m\u001b[0;34m:\u001b[0m\u001b[0;34m\u001b[0m\u001b[0;34m\u001b[0m\u001b[0m\n\u001b[0;32m-> 1313\u001b[0;31m             \u001b[0margs\u001b[0m\u001b[0;34m[\u001b[0m\u001b[0;34m\"data_frame\"\u001b[0m\u001b[0;34m]\u001b[0m \u001b[0;34m=\u001b[0m \u001b[0mpd\u001b[0m\u001b[0;34m.\u001b[0m\u001b[0mDataFrame\u001b[0m\u001b[0;34m(\u001b[0m\u001b[0margs\u001b[0m\u001b[0;34m[\u001b[0m\u001b[0;34m\"data_frame\"\u001b[0m\u001b[0;34m]\u001b[0m\u001b[0;34m)\u001b[0m\u001b[0;34m\u001b[0m\u001b[0;34m\u001b[0m\u001b[0m\n\u001b[0m\u001b[1;32m   1314\u001b[0m     \u001b[0mdf_input\u001b[0m \u001b[0;34m=\u001b[0m \u001b[0margs\u001b[0m\u001b[0;34m[\u001b[0m\u001b[0;34m\"data_frame\"\u001b[0m\u001b[0;34m]\u001b[0m\u001b[0;34m\u001b[0m\u001b[0;34m\u001b[0m\u001b[0m\n\u001b[1;32m   1315\u001b[0m \u001b[0;34m\u001b[0m\u001b[0m\n",
      "\u001b[0;32m/usr/local/lib/python3.10/dist-packages/pandas/core/frame.py\u001b[0m in \u001b[0;36m__init__\u001b[0;34m(self, data, index, columns, dtype, copy)\u001b[0m\n\u001b[1;32m    815\u001b[0m         \u001b[0;32melse\u001b[0m\u001b[0;34m:\u001b[0m\u001b[0;34m\u001b[0m\u001b[0;34m\u001b[0m\u001b[0m\n\u001b[1;32m    816\u001b[0m             \u001b[0;32mif\u001b[0m \u001b[0mindex\u001b[0m \u001b[0;32mis\u001b[0m \u001b[0;32mNone\u001b[0m \u001b[0;32mor\u001b[0m \u001b[0mcolumns\u001b[0m \u001b[0;32mis\u001b[0m \u001b[0;32mNone\u001b[0m\u001b[0;34m:\u001b[0m\u001b[0;34m\u001b[0m\u001b[0;34m\u001b[0m\u001b[0m\n\u001b[0;32m--> 817\u001b[0;31m                 \u001b[0;32mraise\u001b[0m \u001b[0mValueError\u001b[0m\u001b[0;34m(\u001b[0m\u001b[0;34m\"DataFrame constructor not properly called!\"\u001b[0m\u001b[0;34m)\u001b[0m\u001b[0;34m\u001b[0m\u001b[0;34m\u001b[0m\u001b[0m\n\u001b[0m\u001b[1;32m    818\u001b[0m \u001b[0;34m\u001b[0m\u001b[0m\n\u001b[1;32m    819\u001b[0m             \u001b[0mindex\u001b[0m \u001b[0;34m=\u001b[0m \u001b[0mensure_index\u001b[0m\u001b[0;34m(\u001b[0m\u001b[0mindex\u001b[0m\u001b[0;34m)\u001b[0m\u001b[0;34m\u001b[0m\u001b[0;34m\u001b[0m\u001b[0m\n",
      "\u001b[0;31mValueError\u001b[0m: DataFrame constructor not properly called!"
     ]
    }
   ],
   "source": [
    "import plotly.express as px\n",
    "\n",
    "px.bar(\n",
    "    df_plot,\n",
    "    x='Is Fraudulent',\n",
    "    y='Avg Amount',\n",
    "    color='Product Category',\n",
    "    template='simple_white',\n",
    "    barmode='group'\n",
    ")"
   ]
  },
  {
   "cell_type": "markdown",
   "metadata": {
    "id": "wZMQk9ursKP6"
   },
   "source": [
    "Plotly nos alerata de que `ValueError: DataFrame constructor not properly called!`, esto es debido a que los dataframes de spark por lo general no son muy compatibles con las librerías de gráficos, por lo que necesitaremos transformar nuestro dataframes a uno de tipo pandas."
   ]
  },
  {
   "cell_type": "code",
   "execution_count": 96,
   "metadata": {
    "colab": {
     "base_uri": "https://localhost:8080/",
     "height": 175
    },
    "id": "FTrRkI-5saSB",
    "outputId": "db660e19-f0cb-4e5f-9272-bb083b8aa5f2"
   },
   "outputs": [
    {
     "data": {
      "application/vnd.google.colaboratory.intrinsic+json": {
       "summary": "{\n  \"name\": \"df_pandas\",\n  \"rows\": 10,\n  \"fields\": [\n    {\n      \"column\": \"Product Category\",\n      \"properties\": {\n        \"dtype\": \"string\",\n        \"num_unique_values\": 5,\n        \"samples\": [\n          \"toys & games\",\n          \"home & garden\",\n          \"electronics\"\n        ],\n        \"semantic_type\": \"\",\n        \"description\": \"\"\n      }\n    },\n    {\n      \"column\": \"Is Fraudulent\",\n      \"properties\": {\n        \"dtype\": \"category\",\n        \"num_unique_values\": 2,\n        \"samples\": [\n          \"1\",\n          \"0\"\n        ],\n        \"semantic_type\": \"\",\n        \"description\": \"\"\n      }\n    },\n    {\n      \"column\": \"Avg Amount\",\n      \"properties\": {\n        \"dtype\": \"number\",\n        \"std\": 178.35672012626898,\n        \"min\": 209.64851092439974,\n        \"max\": 559.4513501068927,\n        \"num_unique_values\": 10,\n        \"samples\": [\n          210.00183023032963,\n          543.4707374581941\n        ],\n        \"semantic_type\": \"\",\n        \"description\": \"\"\n      }\n    }\n  ]\n}",
       "type": "dataframe",
       "variable_name": "df_pandas"
      },
      "text/html": [
       "\n",
       "  <div id=\"df-cc9e6c46-78a9-4023-97db-f8b0519a58be\" class=\"colab-df-container\">\n",
       "    <div>\n",
       "<style scoped>\n",
       "    .dataframe tbody tr th:only-of-type {\n",
       "        vertical-align: middle;\n",
       "    }\n",
       "\n",
       "    .dataframe tbody tr th {\n",
       "        vertical-align: top;\n",
       "    }\n",
       "\n",
       "    .dataframe thead th {\n",
       "        text-align: right;\n",
       "    }\n",
       "</style>\n",
       "<table border=\"1\" class=\"dataframe\">\n",
       "  <thead>\n",
       "    <tr style=\"text-align: right;\">\n",
       "      <th></th>\n",
       "      <th>Product Category</th>\n",
       "      <th>Is Fraudulent</th>\n",
       "      <th>Avg Amount</th>\n",
       "    </tr>\n",
       "  </thead>\n",
       "  <tbody>\n",
       "    <tr>\n",
       "      <th>0</th>\n",
       "      <td>health &amp; beauty</td>\n",
       "      <td>0</td>\n",
       "      <td>209.732508</td>\n",
       "    </tr>\n",
       "    <tr>\n",
       "      <th>1</th>\n",
       "      <td>health &amp; beauty</td>\n",
       "      <td>1</td>\n",
       "      <td>543.470737</td>\n",
       "    </tr>\n",
       "    <tr>\n",
       "      <th>2</th>\n",
       "      <td>toys &amp; games</td>\n",
       "      <td>0</td>\n",
       "      <td>209.648511</td>\n",
       "    </tr>\n",
       "    <tr>\n",
       "      <th>3</th>\n",
       "      <td>toys &amp; games</td>\n",
       "      <td>1</td>\n",
       "      <td>559.451350</td>\n",
       "    </tr>\n",
       "  </tbody>\n",
       "</table>\n",
       "</div>\n",
       "    <div class=\"colab-df-buttons\">\n",
       "\n",
       "  <div class=\"colab-df-container\">\n",
       "    <button class=\"colab-df-convert\" onclick=\"convertToInteractive('df-cc9e6c46-78a9-4023-97db-f8b0519a58be')\"\n",
       "            title=\"Convert this dataframe to an interactive table.\"\n",
       "            style=\"display:none;\">\n",
       "\n",
       "  <svg xmlns=\"http://www.w3.org/2000/svg\" height=\"24px\" viewBox=\"0 -960 960 960\">\n",
       "    <path d=\"M120-120v-720h720v720H120Zm60-500h600v-160H180v160Zm220 220h160v-160H400v160Zm0 220h160v-160H400v160ZM180-400h160v-160H180v160Zm440 0h160v-160H620v160ZM180-180h160v-160H180v160Zm440 0h160v-160H620v160Z\"/>\n",
       "  </svg>\n",
       "    </button>\n",
       "\n",
       "  <style>\n",
       "    .colab-df-container {\n",
       "      display:flex;\n",
       "      gap: 12px;\n",
       "    }\n",
       "\n",
       "    .colab-df-convert {\n",
       "      background-color: #E8F0FE;\n",
       "      border: none;\n",
       "      border-radius: 50%;\n",
       "      cursor: pointer;\n",
       "      display: none;\n",
       "      fill: #1967D2;\n",
       "      height: 32px;\n",
       "      padding: 0 0 0 0;\n",
       "      width: 32px;\n",
       "    }\n",
       "\n",
       "    .colab-df-convert:hover {\n",
       "      background-color: #E2EBFA;\n",
       "      box-shadow: 0px 1px 2px rgba(60, 64, 67, 0.3), 0px 1px 3px 1px rgba(60, 64, 67, 0.15);\n",
       "      fill: #174EA6;\n",
       "    }\n",
       "\n",
       "    .colab-df-buttons div {\n",
       "      margin-bottom: 4px;\n",
       "    }\n",
       "\n",
       "    [theme=dark] .colab-df-convert {\n",
       "      background-color: #3B4455;\n",
       "      fill: #D2E3FC;\n",
       "    }\n",
       "\n",
       "    [theme=dark] .colab-df-convert:hover {\n",
       "      background-color: #434B5C;\n",
       "      box-shadow: 0px 1px 3px 1px rgba(0, 0, 0, 0.15);\n",
       "      filter: drop-shadow(0px 1px 2px rgba(0, 0, 0, 0.3));\n",
       "      fill: #FFFFFF;\n",
       "    }\n",
       "  </style>\n",
       "\n",
       "    <script>\n",
       "      const buttonEl =\n",
       "        document.querySelector('#df-cc9e6c46-78a9-4023-97db-f8b0519a58be button.colab-df-convert');\n",
       "      buttonEl.style.display =\n",
       "        google.colab.kernel.accessAllowed ? 'block' : 'none';\n",
       "\n",
       "      async function convertToInteractive(key) {\n",
       "        const element = document.querySelector('#df-cc9e6c46-78a9-4023-97db-f8b0519a58be');\n",
       "        const dataTable =\n",
       "          await google.colab.kernel.invokeFunction('convertToInteractive',\n",
       "                                                    [key], {});\n",
       "        if (!dataTable) return;\n",
       "\n",
       "        const docLinkHtml = 'Like what you see? Visit the ' +\n",
       "          '<a target=\"_blank\" href=https://colab.research.google.com/notebooks/data_table.ipynb>data table notebook</a>'\n",
       "          + ' to learn more about interactive tables.';\n",
       "        element.innerHTML = '';\n",
       "        dataTable['output_type'] = 'display_data';\n",
       "        await google.colab.output.renderOutput(dataTable, element);\n",
       "        const docLink = document.createElement('div');\n",
       "        docLink.innerHTML = docLinkHtml;\n",
       "        element.appendChild(docLink);\n",
       "      }\n",
       "    </script>\n",
       "  </div>\n",
       "\n",
       "\n",
       "<div id=\"df-4a4e1635-2289-4fe4-b548-0969733b4e0d\">\n",
       "  <button class=\"colab-df-quickchart\" onclick=\"quickchart('df-4a4e1635-2289-4fe4-b548-0969733b4e0d')\"\n",
       "            title=\"Suggest charts\"\n",
       "            style=\"display:none;\">\n",
       "\n",
       "<svg xmlns=\"http://www.w3.org/2000/svg\" height=\"24px\"viewBox=\"0 0 24 24\"\n",
       "     width=\"24px\">\n",
       "    <g>\n",
       "        <path d=\"M19 3H5c-1.1 0-2 .9-2 2v14c0 1.1.9 2 2 2h14c1.1 0 2-.9 2-2V5c0-1.1-.9-2-2-2zM9 17H7v-7h2v7zm4 0h-2V7h2v10zm4 0h-2v-4h2v4z\"/>\n",
       "    </g>\n",
       "</svg>\n",
       "  </button>\n",
       "\n",
       "<style>\n",
       "  .colab-df-quickchart {\n",
       "      --bg-color: #E8F0FE;\n",
       "      --fill-color: #1967D2;\n",
       "      --hover-bg-color: #E2EBFA;\n",
       "      --hover-fill-color: #174EA6;\n",
       "      --disabled-fill-color: #AAA;\n",
       "      --disabled-bg-color: #DDD;\n",
       "  }\n",
       "\n",
       "  [theme=dark] .colab-df-quickchart {\n",
       "      --bg-color: #3B4455;\n",
       "      --fill-color: #D2E3FC;\n",
       "      --hover-bg-color: #434B5C;\n",
       "      --hover-fill-color: #FFFFFF;\n",
       "      --disabled-bg-color: #3B4455;\n",
       "      --disabled-fill-color: #666;\n",
       "  }\n",
       "\n",
       "  .colab-df-quickchart {\n",
       "    background-color: var(--bg-color);\n",
       "    border: none;\n",
       "    border-radius: 50%;\n",
       "    cursor: pointer;\n",
       "    display: none;\n",
       "    fill: var(--fill-color);\n",
       "    height: 32px;\n",
       "    padding: 0;\n",
       "    width: 32px;\n",
       "  }\n",
       "\n",
       "  .colab-df-quickchart:hover {\n",
       "    background-color: var(--hover-bg-color);\n",
       "    box-shadow: 0 1px 2px rgba(60, 64, 67, 0.3), 0 1px 3px 1px rgba(60, 64, 67, 0.15);\n",
       "    fill: var(--button-hover-fill-color);\n",
       "  }\n",
       "\n",
       "  .colab-df-quickchart-complete:disabled,\n",
       "  .colab-df-quickchart-complete:disabled:hover {\n",
       "    background-color: var(--disabled-bg-color);\n",
       "    fill: var(--disabled-fill-color);\n",
       "    box-shadow: none;\n",
       "  }\n",
       "\n",
       "  .colab-df-spinner {\n",
       "    border: 2px solid var(--fill-color);\n",
       "    border-color: transparent;\n",
       "    border-bottom-color: var(--fill-color);\n",
       "    animation:\n",
       "      spin 1s steps(1) infinite;\n",
       "  }\n",
       "\n",
       "  @keyframes spin {\n",
       "    0% {\n",
       "      border-color: transparent;\n",
       "      border-bottom-color: var(--fill-color);\n",
       "      border-left-color: var(--fill-color);\n",
       "    }\n",
       "    20% {\n",
       "      border-color: transparent;\n",
       "      border-left-color: var(--fill-color);\n",
       "      border-top-color: var(--fill-color);\n",
       "    }\n",
       "    30% {\n",
       "      border-color: transparent;\n",
       "      border-left-color: var(--fill-color);\n",
       "      border-top-color: var(--fill-color);\n",
       "      border-right-color: var(--fill-color);\n",
       "    }\n",
       "    40% {\n",
       "      border-color: transparent;\n",
       "      border-right-color: var(--fill-color);\n",
       "      border-top-color: var(--fill-color);\n",
       "    }\n",
       "    60% {\n",
       "      border-color: transparent;\n",
       "      border-right-color: var(--fill-color);\n",
       "    }\n",
       "    80% {\n",
       "      border-color: transparent;\n",
       "      border-right-color: var(--fill-color);\n",
       "      border-bottom-color: var(--fill-color);\n",
       "    }\n",
       "    90% {\n",
       "      border-color: transparent;\n",
       "      border-bottom-color: var(--fill-color);\n",
       "    }\n",
       "  }\n",
       "</style>\n",
       "\n",
       "  <script>\n",
       "    async function quickchart(key) {\n",
       "      const quickchartButtonEl =\n",
       "        document.querySelector('#' + key + ' button');\n",
       "      quickchartButtonEl.disabled = true;  // To prevent multiple clicks.\n",
       "      quickchartButtonEl.classList.add('colab-df-spinner');\n",
       "      try {\n",
       "        const charts = await google.colab.kernel.invokeFunction(\n",
       "            'suggestCharts', [key], {});\n",
       "      } catch (error) {\n",
       "        console.error('Error during call to suggestCharts:', error);\n",
       "      }\n",
       "      quickchartButtonEl.classList.remove('colab-df-spinner');\n",
       "      quickchartButtonEl.classList.add('colab-df-quickchart-complete');\n",
       "    }\n",
       "    (() => {\n",
       "      let quickchartButtonEl =\n",
       "        document.querySelector('#df-4a4e1635-2289-4fe4-b548-0969733b4e0d button');\n",
       "      quickchartButtonEl.style.display =\n",
       "        google.colab.kernel.accessAllowed ? 'block' : 'none';\n",
       "    })();\n",
       "  </script>\n",
       "</div>\n",
       "\n",
       "    </div>\n",
       "  </div>\n"
      ],
      "text/plain": [
       "  Product Category Is Fraudulent  Avg Amount\n",
       "0  health & beauty             0  209.732508\n",
       "1  health & beauty             1  543.470737\n",
       "2     toys & games             0  209.648511\n",
       "3     toys & games             1  559.451350"
      ]
     },
     "execution_count": 96,
     "metadata": {},
     "output_type": "execute_result"
    }
   ],
   "source": [
    "# Para transformar a pandas usamos el método toPandas()\n",
    "df_pandas = df_plot.toPandas()\n",
    "df_pandas.head(4)"
   ]
  },
  {
   "cell_type": "code",
   "execution_count": 101,
   "metadata": {
    "colab": {
     "base_uri": "https://localhost:8080/",
     "height": 542
    },
    "id": "70g9WKbwslai",
    "outputId": "a15369e6-6987-4999-a89f-3ed5c760f6f0"
   },
   "outputs": [
    {
     "data": {
      "text/html": [
       "<html>\n",
       "<head><meta charset=\"utf-8\" /></head>\n",
       "<body>\n",
       "    <div>            <script src=\"https://cdnjs.cloudflare.com/ajax/libs/mathjax/2.7.5/MathJax.js?config=TeX-AMS-MML_SVG\"></script><script type=\"text/javascript\">if (window.MathJax && window.MathJax.Hub && window.MathJax.Hub.Config) {window.MathJax.Hub.Config({SVG: {font: \"STIX-Web\"}});}</script>                <script type=\"text/javascript\">window.PlotlyConfig = {MathJaxConfig: 'local'};</script>\n",
       "        <script charset=\"utf-8\" src=\"https://cdn.plot.ly/plotly-2.24.1.min.js\"></script>                <div id=\"4e4a934a-8f7f-4b50-a4be-e414999af08b\" class=\"plotly-graph-div\" style=\"height:525px; width:100%;\"></div>            <script type=\"text/javascript\">                                    window.PLOTLYENV=window.PLOTLYENV || {};                                    if (document.getElementById(\"4e4a934a-8f7f-4b50-a4be-e414999af08b\")) {                    Plotly.newPlot(                        \"4e4a934a-8f7f-4b50-a4be-e414999af08b\",                        [{\"alignmentgroup\":\"True\",\"hovertemplate\":\"Product Category=health & beauty\\u003cbr\\u003eIs Fraudulent=%{x}\\u003cbr\\u003eAvg Amount=%{y}\\u003cextra\\u003e\\u003c\\u002fextra\\u003e\",\"legendgroup\":\"health & beauty\",\"marker\":{\"color\":\"#1F77B4\",\"pattern\":{\"shape\":\"\"}},\"name\":\"health & beauty\",\"offsetgroup\":\"health & beauty\",\"orientation\":\"v\",\"showlegend\":true,\"textposition\":\"auto\",\"x\":[\"0\",\"1\"],\"xaxis\":\"x\",\"y\":[209.73250848198688,543.4707374581941],\"yaxis\":\"y\",\"type\":\"bar\"},{\"alignmentgroup\":\"True\",\"hovertemplate\":\"Product Category=toys & games\\u003cbr\\u003eIs Fraudulent=%{x}\\u003cbr\\u003eAvg Amount=%{y}\\u003cextra\\u003e\\u003c\\u002fextra\\u003e\",\"legendgroup\":\"toys & games\",\"marker\":{\"color\":\"#FF7F0E\",\"pattern\":{\"shape\":\"\"}},\"name\":\"toys & games\",\"offsetgroup\":\"toys & games\",\"orientation\":\"v\",\"showlegend\":true,\"textposition\":\"auto\",\"x\":[\"0\",\"1\"],\"xaxis\":\"x\",\"y\":[209.64851092439974,559.4513501068927],\"yaxis\":\"y\",\"type\":\"bar\"},{\"alignmentgroup\":\"True\",\"hovertemplate\":\"Product Category=electronics\\u003cbr\\u003eIs Fraudulent=%{x}\\u003cbr\\u003eAvg Amount=%{y}\\u003cextra\\u003e\\u003c\\u002fextra\\u003e\",\"legendgroup\":\"electronics\",\"marker\":{\"color\":\"#2CA02C\",\"pattern\":{\"shape\":\"\"}},\"name\":\"electronics\",\"offsetgroup\":\"electronics\",\"orientation\":\"v\",\"showlegend\":true,\"textposition\":\"auto\",\"x\":[\"0\",\"1\"],\"xaxis\":\"x\",\"y\":[209.98856776888175,544.6779487179508],\"yaxis\":\"y\",\"type\":\"bar\"},{\"alignmentgroup\":\"True\",\"hovertemplate\":\"Product Category=clothing\\u003cbr\\u003eIs Fraudulent=%{x}\\u003cbr\\u003eAvg Amount=%{y}\\u003cextra\\u003e\\u003c\\u002fextra\\u003e\",\"legendgroup\":\"clothing\",\"marker\":{\"color\":\"#D62728\",\"pattern\":{\"shape\":\"\"}},\"name\":\"clothing\",\"offsetgroup\":\"clothing\",\"orientation\":\"v\",\"showlegend\":true,\"textposition\":\"auto\",\"x\":[\"0\",\"1\"],\"xaxis\":\"x\",\"y\":[209.76507762613306,541.6669715823115],\"yaxis\":\"y\",\"type\":\"bar\"},{\"alignmentgroup\":\"True\",\"hovertemplate\":\"Product Category=home & garden\\u003cbr\\u003eIs Fraudulent=%{x}\\u003cbr\\u003eAvg Amount=%{y}\\u003cextra\\u003e\\u003c\\u002fextra\\u003e\",\"legendgroup\":\"home & garden\",\"marker\":{\"color\":\"#9467BD\",\"pattern\":{\"shape\":\"\"}},\"name\":\"home & garden\",\"offsetgroup\":\"home & garden\",\"orientation\":\"v\",\"showlegend\":true,\"textposition\":\"auto\",\"x\":[\"0\",\"1\"],\"xaxis\":\"x\",\"y\":[210.00183023032963,551.278646273998],\"yaxis\":\"y\",\"type\":\"bar\"}],                        {\"template\":{\"data\":{\"barpolar\":[{\"marker\":{\"line\":{\"color\":\"white\",\"width\":0.5},\"pattern\":{\"fillmode\":\"overlay\",\"size\":10,\"solidity\":0.2}},\"type\":\"barpolar\"}],\"bar\":[{\"error_x\":{\"color\":\"rgb(36,36,36)\"},\"error_y\":{\"color\":\"rgb(36,36,36)\"},\"marker\":{\"line\":{\"color\":\"white\",\"width\":0.5},\"pattern\":{\"fillmode\":\"overlay\",\"size\":10,\"solidity\":0.2}},\"type\":\"bar\"}],\"carpet\":[{\"aaxis\":{\"endlinecolor\":\"rgb(36,36,36)\",\"gridcolor\":\"white\",\"linecolor\":\"white\",\"minorgridcolor\":\"white\",\"startlinecolor\":\"rgb(36,36,36)\"},\"baxis\":{\"endlinecolor\":\"rgb(36,36,36)\",\"gridcolor\":\"white\",\"linecolor\":\"white\",\"minorgridcolor\":\"white\",\"startlinecolor\":\"rgb(36,36,36)\"},\"type\":\"carpet\"}],\"choropleth\":[{\"colorbar\":{\"outlinewidth\":1,\"tickcolor\":\"rgb(36,36,36)\",\"ticks\":\"outside\"},\"type\":\"choropleth\"}],\"contourcarpet\":[{\"colorbar\":{\"outlinewidth\":1,\"tickcolor\":\"rgb(36,36,36)\",\"ticks\":\"outside\"},\"type\":\"contourcarpet\"}],\"contour\":[{\"colorbar\":{\"outlinewidth\":1,\"tickcolor\":\"rgb(36,36,36)\",\"ticks\":\"outside\"},\"colorscale\":[[0.0,\"#440154\"],[0.1111111111111111,\"#482878\"],[0.2222222222222222,\"#3e4989\"],[0.3333333333333333,\"#31688e\"],[0.4444444444444444,\"#26828e\"],[0.5555555555555556,\"#1f9e89\"],[0.6666666666666666,\"#35b779\"],[0.7777777777777778,\"#6ece58\"],[0.8888888888888888,\"#b5de2b\"],[1.0,\"#fde725\"]],\"type\":\"contour\"}],\"heatmapgl\":[{\"colorbar\":{\"outlinewidth\":1,\"tickcolor\":\"rgb(36,36,36)\",\"ticks\":\"outside\"},\"colorscale\":[[0.0,\"#440154\"],[0.1111111111111111,\"#482878\"],[0.2222222222222222,\"#3e4989\"],[0.3333333333333333,\"#31688e\"],[0.4444444444444444,\"#26828e\"],[0.5555555555555556,\"#1f9e89\"],[0.6666666666666666,\"#35b779\"],[0.7777777777777778,\"#6ece58\"],[0.8888888888888888,\"#b5de2b\"],[1.0,\"#fde725\"]],\"type\":\"heatmapgl\"}],\"heatmap\":[{\"colorbar\":{\"outlinewidth\":1,\"tickcolor\":\"rgb(36,36,36)\",\"ticks\":\"outside\"},\"colorscale\":[[0.0,\"#440154\"],[0.1111111111111111,\"#482878\"],[0.2222222222222222,\"#3e4989\"],[0.3333333333333333,\"#31688e\"],[0.4444444444444444,\"#26828e\"],[0.5555555555555556,\"#1f9e89\"],[0.6666666666666666,\"#35b779\"],[0.7777777777777778,\"#6ece58\"],[0.8888888888888888,\"#b5de2b\"],[1.0,\"#fde725\"]],\"type\":\"heatmap\"}],\"histogram2dcontour\":[{\"colorbar\":{\"outlinewidth\":1,\"tickcolor\":\"rgb(36,36,36)\",\"ticks\":\"outside\"},\"colorscale\":[[0.0,\"#440154\"],[0.1111111111111111,\"#482878\"],[0.2222222222222222,\"#3e4989\"],[0.3333333333333333,\"#31688e\"],[0.4444444444444444,\"#26828e\"],[0.5555555555555556,\"#1f9e89\"],[0.6666666666666666,\"#35b779\"],[0.7777777777777778,\"#6ece58\"],[0.8888888888888888,\"#b5de2b\"],[1.0,\"#fde725\"]],\"type\":\"histogram2dcontour\"}],\"histogram2d\":[{\"colorbar\":{\"outlinewidth\":1,\"tickcolor\":\"rgb(36,36,36)\",\"ticks\":\"outside\"},\"colorscale\":[[0.0,\"#440154\"],[0.1111111111111111,\"#482878\"],[0.2222222222222222,\"#3e4989\"],[0.3333333333333333,\"#31688e\"],[0.4444444444444444,\"#26828e\"],[0.5555555555555556,\"#1f9e89\"],[0.6666666666666666,\"#35b779\"],[0.7777777777777778,\"#6ece58\"],[0.8888888888888888,\"#b5de2b\"],[1.0,\"#fde725\"]],\"type\":\"histogram2d\"}],\"histogram\":[{\"marker\":{\"line\":{\"color\":\"white\",\"width\":0.6}},\"type\":\"histogram\"}],\"mesh3d\":[{\"colorbar\":{\"outlinewidth\":1,\"tickcolor\":\"rgb(36,36,36)\",\"ticks\":\"outside\"},\"type\":\"mesh3d\"}],\"parcoords\":[{\"line\":{\"colorbar\":{\"outlinewidth\":1,\"tickcolor\":\"rgb(36,36,36)\",\"ticks\":\"outside\"}},\"type\":\"parcoords\"}],\"pie\":[{\"automargin\":true,\"type\":\"pie\"}],\"scatter3d\":[{\"line\":{\"colorbar\":{\"outlinewidth\":1,\"tickcolor\":\"rgb(36,36,36)\",\"ticks\":\"outside\"}},\"marker\":{\"colorbar\":{\"outlinewidth\":1,\"tickcolor\":\"rgb(36,36,36)\",\"ticks\":\"outside\"}},\"type\":\"scatter3d\"}],\"scattercarpet\":[{\"marker\":{\"colorbar\":{\"outlinewidth\":1,\"tickcolor\":\"rgb(36,36,36)\",\"ticks\":\"outside\"}},\"type\":\"scattercarpet\"}],\"scattergeo\":[{\"marker\":{\"colorbar\":{\"outlinewidth\":1,\"tickcolor\":\"rgb(36,36,36)\",\"ticks\":\"outside\"}},\"type\":\"scattergeo\"}],\"scattergl\":[{\"marker\":{\"colorbar\":{\"outlinewidth\":1,\"tickcolor\":\"rgb(36,36,36)\",\"ticks\":\"outside\"}},\"type\":\"scattergl\"}],\"scattermapbox\":[{\"marker\":{\"colorbar\":{\"outlinewidth\":1,\"tickcolor\":\"rgb(36,36,36)\",\"ticks\":\"outside\"}},\"type\":\"scattermapbox\"}],\"scatterpolargl\":[{\"marker\":{\"colorbar\":{\"outlinewidth\":1,\"tickcolor\":\"rgb(36,36,36)\",\"ticks\":\"outside\"}},\"type\":\"scatterpolargl\"}],\"scatterpolar\":[{\"marker\":{\"colorbar\":{\"outlinewidth\":1,\"tickcolor\":\"rgb(36,36,36)\",\"ticks\":\"outside\"}},\"type\":\"scatterpolar\"}],\"scatter\":[{\"fillpattern\":{\"fillmode\":\"overlay\",\"size\":10,\"solidity\":0.2},\"type\":\"scatter\"}],\"scatterternary\":[{\"marker\":{\"colorbar\":{\"outlinewidth\":1,\"tickcolor\":\"rgb(36,36,36)\",\"ticks\":\"outside\"}},\"type\":\"scatterternary\"}],\"surface\":[{\"colorbar\":{\"outlinewidth\":1,\"tickcolor\":\"rgb(36,36,36)\",\"ticks\":\"outside\"},\"colorscale\":[[0.0,\"#440154\"],[0.1111111111111111,\"#482878\"],[0.2222222222222222,\"#3e4989\"],[0.3333333333333333,\"#31688e\"],[0.4444444444444444,\"#26828e\"],[0.5555555555555556,\"#1f9e89\"],[0.6666666666666666,\"#35b779\"],[0.7777777777777778,\"#6ece58\"],[0.8888888888888888,\"#b5de2b\"],[1.0,\"#fde725\"]],\"type\":\"surface\"}],\"table\":[{\"cells\":{\"fill\":{\"color\":\"rgb(237,237,237)\"},\"line\":{\"color\":\"white\"}},\"header\":{\"fill\":{\"color\":\"rgb(217,217,217)\"},\"line\":{\"color\":\"white\"}},\"type\":\"table\"}]},\"layout\":{\"annotationdefaults\":{\"arrowhead\":0,\"arrowwidth\":1},\"autotypenumbers\":\"strict\",\"coloraxis\":{\"colorbar\":{\"outlinewidth\":1,\"tickcolor\":\"rgb(36,36,36)\",\"ticks\":\"outside\"}},\"colorscale\":{\"diverging\":[[0.0,\"rgb(103,0,31)\"],[0.1,\"rgb(178,24,43)\"],[0.2,\"rgb(214,96,77)\"],[0.3,\"rgb(244,165,130)\"],[0.4,\"rgb(253,219,199)\"],[0.5,\"rgb(247,247,247)\"],[0.6,\"rgb(209,229,240)\"],[0.7,\"rgb(146,197,222)\"],[0.8,\"rgb(67,147,195)\"],[0.9,\"rgb(33,102,172)\"],[1.0,\"rgb(5,48,97)\"]],\"sequential\":[[0.0,\"#440154\"],[0.1111111111111111,\"#482878\"],[0.2222222222222222,\"#3e4989\"],[0.3333333333333333,\"#31688e\"],[0.4444444444444444,\"#26828e\"],[0.5555555555555556,\"#1f9e89\"],[0.6666666666666666,\"#35b779\"],[0.7777777777777778,\"#6ece58\"],[0.8888888888888888,\"#b5de2b\"],[1.0,\"#fde725\"]],\"sequentialminus\":[[0.0,\"#440154\"],[0.1111111111111111,\"#482878\"],[0.2222222222222222,\"#3e4989\"],[0.3333333333333333,\"#31688e\"],[0.4444444444444444,\"#26828e\"],[0.5555555555555556,\"#1f9e89\"],[0.6666666666666666,\"#35b779\"],[0.7777777777777778,\"#6ece58\"],[0.8888888888888888,\"#b5de2b\"],[1.0,\"#fde725\"]]},\"colorway\":[\"#1F77B4\",\"#FF7F0E\",\"#2CA02C\",\"#D62728\",\"#9467BD\",\"#8C564B\",\"#E377C2\",\"#7F7F7F\",\"#BCBD22\",\"#17BECF\"],\"font\":{\"color\":\"rgb(36,36,36)\"},\"geo\":{\"bgcolor\":\"white\",\"lakecolor\":\"white\",\"landcolor\":\"white\",\"showlakes\":true,\"showland\":true,\"subunitcolor\":\"white\"},\"hoverlabel\":{\"align\":\"left\"},\"hovermode\":\"closest\",\"mapbox\":{\"style\":\"light\"},\"paper_bgcolor\":\"white\",\"plot_bgcolor\":\"white\",\"polar\":{\"angularaxis\":{\"gridcolor\":\"rgb(232,232,232)\",\"linecolor\":\"rgb(36,36,36)\",\"showgrid\":false,\"showline\":true,\"ticks\":\"outside\"},\"bgcolor\":\"white\",\"radialaxis\":{\"gridcolor\":\"rgb(232,232,232)\",\"linecolor\":\"rgb(36,36,36)\",\"showgrid\":false,\"showline\":true,\"ticks\":\"outside\"}},\"scene\":{\"xaxis\":{\"backgroundcolor\":\"white\",\"gridcolor\":\"rgb(232,232,232)\",\"gridwidth\":2,\"linecolor\":\"rgb(36,36,36)\",\"showbackground\":true,\"showgrid\":false,\"showline\":true,\"ticks\":\"outside\",\"zeroline\":false,\"zerolinecolor\":\"rgb(36,36,36)\"},\"yaxis\":{\"backgroundcolor\":\"white\",\"gridcolor\":\"rgb(232,232,232)\",\"gridwidth\":2,\"linecolor\":\"rgb(36,36,36)\",\"showbackground\":true,\"showgrid\":false,\"showline\":true,\"ticks\":\"outside\",\"zeroline\":false,\"zerolinecolor\":\"rgb(36,36,36)\"},\"zaxis\":{\"backgroundcolor\":\"white\",\"gridcolor\":\"rgb(232,232,232)\",\"gridwidth\":2,\"linecolor\":\"rgb(36,36,36)\",\"showbackground\":true,\"showgrid\":false,\"showline\":true,\"ticks\":\"outside\",\"zeroline\":false,\"zerolinecolor\":\"rgb(36,36,36)\"}},\"shapedefaults\":{\"fillcolor\":\"black\",\"line\":{\"width\":0},\"opacity\":0.3},\"ternary\":{\"aaxis\":{\"gridcolor\":\"rgb(232,232,232)\",\"linecolor\":\"rgb(36,36,36)\",\"showgrid\":false,\"showline\":true,\"ticks\":\"outside\"},\"baxis\":{\"gridcolor\":\"rgb(232,232,232)\",\"linecolor\":\"rgb(36,36,36)\",\"showgrid\":false,\"showline\":true,\"ticks\":\"outside\"},\"bgcolor\":\"white\",\"caxis\":{\"gridcolor\":\"rgb(232,232,232)\",\"linecolor\":\"rgb(36,36,36)\",\"showgrid\":false,\"showline\":true,\"ticks\":\"outside\"}},\"title\":{\"x\":0.05},\"xaxis\":{\"automargin\":true,\"gridcolor\":\"rgb(232,232,232)\",\"linecolor\":\"rgb(36,36,36)\",\"showgrid\":false,\"showline\":true,\"ticks\":\"outside\",\"title\":{\"standoff\":15},\"zeroline\":false,\"zerolinecolor\":\"rgb(36,36,36)\"},\"yaxis\":{\"automargin\":true,\"gridcolor\":\"rgb(232,232,232)\",\"linecolor\":\"rgb(36,36,36)\",\"showgrid\":false,\"showline\":true,\"ticks\":\"outside\",\"title\":{\"standoff\":15},\"zeroline\":false,\"zerolinecolor\":\"rgb(36,36,36)\"}}},\"xaxis\":{\"anchor\":\"y\",\"domain\":[0.0,1.0],\"title\":{\"text\":\"Is Fraudulent\"}},\"yaxis\":{\"anchor\":\"x\",\"domain\":[0.0,1.0],\"title\":{\"text\":\"Avg Amount\"}},\"legend\":{\"title\":{\"text\":\"Product Category\"},\"tracegroupgap\":0},\"margin\":{\"t\":60},\"barmode\":\"group\"},                        {\"responsive\": true}                    ).then(function(){\n",
       "                            \n",
       "var gd = document.getElementById('4e4a934a-8f7f-4b50-a4be-e414999af08b');\n",
       "var x = new MutationObserver(function (mutations, observer) {{\n",
       "        var display = window.getComputedStyle(gd).display;\n",
       "        if (!display || display === 'none') {{\n",
       "            console.log([gd, 'removed!']);\n",
       "            Plotly.purge(gd);\n",
       "            observer.disconnect();\n",
       "        }}\n",
       "}});\n",
       "\n",
       "// Listen for the removal of the full notebook cells\n",
       "var notebookContainer = gd.closest('#notebook-container');\n",
       "if (notebookContainer) {{\n",
       "    x.observe(notebookContainer, {childList: true});\n",
       "}}\n",
       "\n",
       "// Listen for the clearing of the current output cell\n",
       "var outputEl = gd.closest('.output');\n",
       "if (outputEl) {{\n",
       "    x.observe(outputEl, {childList: true});\n",
       "}}\n",
       "\n",
       "                        })                };                            </script>        </div>\n",
       "</body>\n",
       "</html>"
      ]
     },
     "metadata": {},
     "output_type": "display_data"
    }
   ],
   "source": [
    "px.bar(\n",
    "    df_pandas,\n",
    "    x='Is Fraudulent',\n",
    "    y='Avg Amount',\n",
    "    color='Product Category',\n",
    "    template='simple_white',\n",
    "    barmode='group'\n",
    ")"
   ]
  },
  {
   "cell_type": "markdown",
   "metadata": {
    "id": "E2R8Z_iOtFbT"
   },
   "source": [
    ">**Pregunta ❓**: Si al final voy a utilizar Pandas para ciertos análisis, ¿por qué no cargar directamente los datos en un DataFrame de Pandas desde el principio?"
   ]
  },
  {
   "cell_type": "markdown",
   "metadata": {
    "id": "HrNlQTkBcHJc"
   },
   "source": [
    "### ¿Cómo guardo los datos con Spark?"
   ]
  },
  {
   "cell_type": "markdown",
   "metadata": {
    "id": "lTMvFQ-vcCE4"
   },
   "source": [
    "<center>\n",
    "<img src=\"https://github.com/MDS7202/MDS7202/blob/main/clases/2024-01/imagenes_clase_7/savedata.png?raw=true\" width=500 />"
   ]
  },
  {
   "cell_type": "markdown",
   "metadata": {
    "id": "L7Nv4vCOahJA"
   },
   "source": [
    "Guardar datos de manera eficiente en Spark es crucial para asegurar la integridad, accesibilidad y rendimiento óptimo de tus aplicaciones de análisis de datos. Aquí te presento algunas buenas prácticas para guardar datos en Spark, junto con ejemplos de código para ilustrarte mejor el proceso.\n",
    "\n",
    "**Buenas Prácticas para Guardar Datos**\n",
    "\n",
    "1. **Elegir el Formato Adecuado**\n",
    "Dependiendo de tus necesidades de análisis y almacenamiento, elige el formato de archivo más adecuado. Parquet y ORC son excelentes para operaciones analíticas debido a su compresión y optimización de lectura. CSV y JSON son más adecuados para interoperabilidad con otras herramientas.\n",
    "\n",
    "  - **Parquet**: Ideal para almacenamiento eficiente y operaciones analíticas.\n",
    "  - **ORC**: Similar a Parquet con optimizaciones para ciertos casos de uso.\n",
    "  - **CSV/JSON**: Buena opción para interoperabilidad y casos de uso más simples.\n",
    "\n",
    "2. **Particionar los Datos**\n",
    "Particionar tus datos al guardarlos puede mejorar significativamente el rendimiento de lectura. Considera particionar tus datos basándote en columnas que suelen usarse en filtros o consultas.\n",
    "\n",
    "3. **Coalesce o Repartition**\n",
    "Antes de guardar, ajusta el número de particiones usando `coalesce` (reduce el número de particiones sin provocar shuffle) o `repartition` (permite aumentar o disminuir el número de particiones, pero provoca shuffle).\n",
    "\n",
    "  - **Coalesce**: Útil para reducir el número de archivos sin un shuffle completo.\n",
    "  - **Repartition**: Usado cuando necesitas un número específico de archivos o redistribuir datos (por ejemplo, después de un filtrado masivo)."
   ]
  },
  {
   "cell_type": "markdown",
   "metadata": {
    "id": "xAotqGmnbUku"
   },
   "source": [
    "Guardar en Formato Parquet con Particionado"
   ]
  },
  {
   "cell_type": "code",
   "execution_count": 125,
   "metadata": {
    "id": "EQ521b4qczrp"
   },
   "outputs": [],
   "source": [
    "(\n",
    "    df.write.partitionBy(\"Product Category\", \"Payment Method\")\n",
    "    .format(\"parquet\")\n",
    "    .save(\"./parquets/example1/\")\n",
    ")"
   ]
  },
  {
   "cell_type": "markdown",
   "metadata": {
    "id": "cdJQmD0nc3Y5"
   },
   "source": [
    "Uso de Coalesce para Reducir el Número de Particiones"
   ]
  },
  {
   "cell_type": "code",
   "execution_count": 127,
   "metadata": {
    "id": "qFCf2U4cc1Iv"
   },
   "outputs": [],
   "source": [
    "df.coalesce(2).write.format(\"parquet\").save(\"./parquets/example2/\")"
   ]
  },
  {
   "cell_type": "markdown",
   "metadata": {
    "id": "tbWpoW2nbV8X"
   },
   "source": [
    "Adoptar estas buenas prácticas y elegir las configuraciones adecuadas para tu caso de uso específico te ayudará a optimizar el almacenamiento de datos y el rendimiento de tus aplicaciones Spark. Recuerda siempre considerar las características de tus datos y los requisitos de análisis cuando elijas cómo y dónde guardar tus datos."
   ]
  },
  {
   "cell_type": "markdown",
   "metadata": {
    "id": "0dDgiBCbt1F1"
   },
   "source": [
    "Como pueden observar, al utilizar estos comandos para guardar DataFrames, Spark genera múltiples archivos. Sin embargo, no es necesario cargar estos archivos individualmente; Spark maneja automáticamente este proceso en segundo plano:"
   ]
  },
  {
   "cell_type": "code",
   "execution_count": 129,
   "metadata": {
    "id": "vR6DcDM4tm9c"
   },
   "outputs": [],
   "source": [
    "df_load = sparksession.read.parquet(\"./parquets/example1/\")\n",
    "df_load.show(2)"
   ]
  },
  {
   "cell_type": "markdown",
   "metadata": {
    "id": "kbconuiEbkTa"
   },
   "source": [
    "## Finalizamos Sesión"
   ]
  },
  {
   "cell_type": "markdown",
   "metadata": {
    "id": "JV7brceLbbho"
   },
   "source": [
    "Finalmente, para apagar Spark, debemos llamar al método stop () del SparkContext, en nuestro caso la variable _sc_:"
   ]
  },
  {
   "cell_type": "code",
   "execution_count": null,
   "metadata": {
    "id": "b0ccwcf-bfOg"
   },
   "outputs": [],
   "source": [
    "sparksession.stop()"
   ]
  },
  {
   "cell_type": "markdown",
   "metadata": {
    "id": "EzQEybzFU5u_"
   },
   "source": [
    "## Referencias\n",
    "\n",
    "1. Learning Spark - Holden Karau, Andy Konwinski, Patrick Wendell and Matei Zaharia.  O’Reilly Media, Inc. 2015. ISBN 978-1-449-35862-4\n",
    "2. Spark Overview. http://spark.apache.org/docs/latest/\n",
    "3. PySpark – Word Count Example. https://pythonexamples.org/pyspark-word-count-example/\n"
   ]
  }
 ],
 "metadata": {
  "colab": {
   "provenance": [],
   "toc_visible": true
  },
  "kernelspec": {
   "display_name": "Python 3 (ipykernel)",
   "language": "python",
   "name": "python3"
  },
  "language_info": {
   "codemirror_mode": {
    "name": "ipython",
    "version": 3
   },
   "file_extension": ".py",
   "mimetype": "text/x-python",
   "name": "python",
   "nbconvert_exporter": "python",
   "pygments_lexer": "ipython3",
   "version": "3.10.9"
  }
 },
 "nbformat": 4,
 "nbformat_minor": 4
}
