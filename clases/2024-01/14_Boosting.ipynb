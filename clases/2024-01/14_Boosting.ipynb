{
 "cells": [
  {
   "cell_type": "markdown",
   "id": "f97e3ccc-bc09-45f0-bfe8-1c9934f802a0",
   "metadata": {
    "tags": []
   },
   "source": [
    "## Gradient Boosting Machines (GBM)\n",
    "\n",
    "Las GBM son algoritmos que se volvieron muy populares con la aparición de XGBoost en el 2016 para las tareas de clasificación y regresión. En términos de funcionamiento, estos algoritmos utilizan múltiples \"weak-learners\" con los que a través de múltiples iteraciones corrigen los errores que presentan sus regresores/clasificadores en etapas anteriores.\n",
    "\n",
    "\t\t❓ Pregunta: ¿Qué características tienen los \"weak-learners\"?\n",
    "\n",
    "1.  El objetivo no es crear clasificadores potentes con ellos, si no como su nombre lo dice queremos generar \"aprendices débiles\" que se potencian con otros.\n",
    "2. En general se utilizan como weak learners árboles de decisión por su simpleza y versatilidad que nos ofrecen para regresión y clasificación.\n",
    "3. Pueden ser entrenados con una muestra de la totalidad para obtener entrenamientos rápidos sobre ellos.\n",
    "4. Su uso en un algoritmo implica la comprensión de estos elementos, ya que se heredan sus problemas en una estructura más compleja."
   ]
  },
  {
   "cell_type": "markdown",
   "id": "74ef55d0-679c-40f4-93fc-d861ad65f08d",
   "metadata": {},
   "source": [
    "❓ Pregunta: ¿Qué problemas tenían los árboles de decisión?\n",
    "![3 Techniques to Avoid Overfitting of Decision Trees | by Satyam Kumar |  Towards Data Science](https://miro.medium.com/v2/resize:fit:1702/1*KbRVJC5B0EgO8YAyeCrLkA.png)\n",
    "\n",
    "Recordar que los árboles de decisión son elementos que tienen una alta facilidad de sobre-ajustarse si aumentamos la profundidad o número de hijos por nodo. Esto puede causar problemas en un algoritmo de GBM y por ello, este debe ser un valor que debemos controlar de forma directa o indirectamente."
   ]
  },
  {
   "cell_type": "markdown",
   "id": "6a42f5ff-80b5-490a-924e-5fef5dfc8102",
   "metadata": {},
   "source": [
    "Adentrándonos más en detalles en el algoritmo de gradient boosting, estos forman parte de los algoritmos de ensemble, que básicamente son algoritmos que combinan múltiples modelos para el proceso de predicción. Una forma de esto es a través de modelos aditivos, donde entrenando múltiples algoritmos simples de forma independiente, utilizamos la suma de sus salidas para generar un modelo más potente para la regresión/clasificación:\n",
    "$$F_M(x) = f_1(x)+...+f_M(x)=\\sum_{m=1}^M f_m(x)$$\n",
    "![Develop an Intuition for How Ensemble Learning Works -  MachineLearningMastery.com](https://machinelearningmastery.com/wp-content/uploads/2020/07/Example-of-Combining-Decision-Boundaries-Using-an-Ensemble.png)\n"
   ]
  },
  {
   "cell_type": "markdown",
   "id": "a6e28f15-95f2-4125-87f6-bdfa13312dc2",
   "metadata": {},
   "source": [
    "### GBM: Regresión\n",
    "\n",
    "La idea que sigue por detrás las GBM es realizar descenso del gradiente a una función $\\hat{f}$ en el espacio de funciones. O sea, si utilizamos un conjunto $f$ de funciones deseamos disminuir, todo lo posible la función de error que representa la función de pérdida ($\\mathcal{L}$) durante el entrenamiento. Formalmente:\t\n",
    "$$\\hat{f}=argmin_f \\, \\mathcal{L}(f)$$\n",
    "donde $f$:\n",
    "$$f = (f(x_1), ..., f(x_N))$$\n",
    "Donde en cada paso $m$ (número de la iteración) generaremos un gradiente $g_m$ de la función $\\mathcal{L(f_m)}$ :\n",
    "$$g_m = [\\dfrac{\\partial{l}(y_i,f(x_i))}{\\partial{f}(x_i)}]_{f=f_{m-1}}$$\n",
    "En cada una de las iteraciones del modelo $g_m$ se encargará de actualizar el valor de $f_{m-1}$, de tal forma de generar la función $f_m$ de la iteración. $g_m$ es la expresión matemática que contiene la información de los errores de la predicción anterior que deseamos corregir en cada iteración. \n",
    "\n",
    "Luego, para comprender la actualización situémonos en el paso $m$, en el tendremos:\n",
    "$$f_m = f_{m-1} - \\beta_{m}g_{m}$$\n",
    "Donde $\\beta_m$ se define como el largo del paso en la corrección. Visto de otra forma, podemos interpretar este valor como un factor de aprendizaje que podremos fijar o optimizar en la función, señalando cuánta corrección aplicaremos del proceso anterior en el proceso actual. \n",
    "\n",
    "Si bien en cada una de las iteraciones encontraremos un valor óptimo para $f_m$ y $N$ puntos, está por sí sola no genera un clasificador global capaz de obtener mejores generalizaciones, por esta razón necesitamos definir una nueva función con la misma idea pero que en cada iteración se haga más robusta. En esta modificación, el algoritmo para ajustar los weak-learners a una aproximación de la señal negativa del gradiente, donde en cada iteración entrena un nuevo weak learner, quedando la actualización de la función como:\n",
    "$$F_m = argmin_F \\sum_{i=1}^N (-g_{im}-F(x_i))^2$$\n",
    "Notar que $F(x_i)$ es un weak learner que se entrena en cada una de las iteraciones de nuestro algoritmo de GBM."
   ]
  },
  {
   "cell_type": "markdown",
   "id": "0106ab54-77ce-4806-994c-7a4dc0020537",
   "metadata": {},
   "source": [
    "Finalmente el algoritmo se vería como:\n",
    "\n",
    "![](https://github.com/MDS7202/MDS7202/blob/main/recursos/2023-01/21_Ensamblaje/Pasted%20image%2020230527153450.png?raw=true)\n"
   ]
  },
  {
   "cell_type": "markdown",
   "id": "7ceffe09-45a9-4009-9131-c5f0c4a260b6",
   "metadata": {},
   "source": [
    "### GBM: Clasificación\n",
    "\n",
    "\t\t❓ Pregunta: ¿Debería ser diferente la clasificación a la regresión?\n",
    "\n",
    "La respuesta directa a esto es \"sí\". Los cambios que presenta la clasificación respecto a la regresión se dan netamente en la elección de la función de pérdida ($\\mathcal{L}$) y algunas consideraciones que se toman para las salidas de los nodos.\n",
    "\n",
    "Respecto a las funciones de pérdida, esto se debe a cómo se define el problema de clasificación supervisada, donde nuestro interés no será la reducción del error que tenemos del valor estimado respecto a un valor continuo. En su reemplazo son utilizadas funciones de pérdida para clasificación, quienes tienen como principal objetivo disminuir el error predecir una etiqueta. Una de las funciones de pérdidas más conocidas/utilizadas para el problema de clasificación se encuentra la logistic-loss/cross-entropy:\n",
    "$$\\mathcal{L}_i = -(y_i log(p_i) + (1-y_i)log(1-p_i))$$\n",
    "\t❓ Pregunta:  ¿Cómo podemos interpretar esta función de pérdida?\n",
    "\t\n",
    "Donde su derivada es:\n",
    "$$\\dfrac{\\partial \\mathcal{L}_i}{\\partial \\hat{y}}=p_i-y_i$$\n",
    "El segundo punto a considerar es que la estimación de $y$ será igual a:\n",
    "$$\\hat{y}=log(odds)=log(\\dfrac{p}{1-p})$$\n",
    "\t\t❓ Pregunta:  ¿Por qué usamos odds?\n",
    "\t\t\n",
    "Básicamente debido a que los modelos de clasificación con GBM son modelos de regresión, por lo que sus salidas no pueden ser consideradas como probabilidades, sino como scores que debemos transformar y normalizar.\n",
    "\n",
    "Finalmente para calcular las probabilidades de las salidas de nuestro GBM tendremos que calcular la función softmax de $\\hat{y}$, la que viene dada por:\n",
    "$$\\text{softmax}(\\hat{y})=\\dfrac{1}{1+e^{-\\hat{y}}}$$"
   ]
  },
  {
   "cell_type": "code",
   "execution_count": 3,
   "id": "6a9a3d69-63da-47bc-8468-c5517cec4274",
   "metadata": {},
   "outputs": [
    {
     "data": {
      "text/plain": [
       "4.605170185988091"
      ]
     },
     "execution_count": 3,
     "metadata": {},
     "output_type": "execute_result"
    }
   ],
   "source": [
    "import math\n",
    "\n",
    "p = 0.99\n",
    "y = 0\n",
    "-(y*math.log(p)+(1-y)*math.log(1-p))"
   ]
  },
  {
   "cell_type": "code",
   "execution_count": 4,
   "id": "d63d66a4-9905-40d6-9501-4b58f59d469c",
   "metadata": {},
   "outputs": [
    {
     "data": {
      "text/plain": [
       "0.10536051565782628"
      ]
     },
     "execution_count": 4,
     "metadata": {},
     "output_type": "execute_result"
    }
   ],
   "source": [
    "p = 0.9\n",
    "y = 1\n",
    "-(y* math.log(p) + (1-y)*math.log(1-p))"
   ]
  },
  {
   "cell_type": "code",
   "execution_count": 5,
   "id": "2f36f6af-cde4-4944-b2c8-07b2df783e68",
   "metadata": {},
   "outputs": [
    {
     "data": {
      "text/plain": [
       "0.35667494393873245"
      ]
     },
     "execution_count": 5,
     "metadata": {},
     "output_type": "execute_result"
    }
   ],
   "source": [
    "p = 0.3\n",
    "y = 0\n",
    "-(y* math.log(p) + (1-y)*math.log(1-p))"
   ]
  },
  {
   "cell_type": "code",
   "execution_count": 13,
   "id": "35087c5c-1382-4698-bfc5-b28334ea2811",
   "metadata": {},
   "outputs": [
    {
     "data": {
      "application/vnd.plotly.v1+json": {
       "config": {
        "plotlyServerURL": "https://plot.ly"
       },
       "data": [
        {
         "hovertemplate": "x=%{x}<br>y=%{y}<extra></extra>",
         "legendgroup": "",
         "line": {
          "color": "#636efa",
          "dash": "solid"
         },
         "marker": {
          "symbol": "circle"
         },
         "mode": "lines",
         "name": "",
         "orientation": "v",
         "showlegend": false,
         "type": "scatter",
         "x": [
          0.1,
          0.2,
          0.3,
          0.4,
          0.5,
          0.6,
          0.7,
          0.8,
          0.9
         ],
         "xaxis": "x",
         "y": [
          2.3025850929940455,
          1.6094379124341003,
          1.2039728043259361,
          0.916290731874155,
          0.6931471805599453,
          0.5108256237659907,
          0.35667494393873245,
          0.2231435513142097,
          0.10536051565782628
         ],
         "yaxis": "y"
        }
       ],
       "layout": {
        "autosize": true,
        "legend": {
         "tracegroupgap": 0
        },
        "template": {
         "data": {
          "bar": [
           {
            "error_x": {
             "color": "#2a3f5f"
            },
            "error_y": {
             "color": "#2a3f5f"
            },
            "marker": {
             "line": {
              "color": "#E5ECF6",
              "width": 0.5
             },
             "pattern": {
              "fillmode": "overlay",
              "size": 10,
              "solidity": 0.2
             }
            },
            "type": "bar"
           }
          ],
          "barpolar": [
           {
            "marker": {
             "line": {
              "color": "#E5ECF6",
              "width": 0.5
             },
             "pattern": {
              "fillmode": "overlay",
              "size": 10,
              "solidity": 0.2
             }
            },
            "type": "barpolar"
           }
          ],
          "carpet": [
           {
            "aaxis": {
             "endlinecolor": "#2a3f5f",
             "gridcolor": "white",
             "linecolor": "white",
             "minorgridcolor": "white",
             "startlinecolor": "#2a3f5f"
            },
            "baxis": {
             "endlinecolor": "#2a3f5f",
             "gridcolor": "white",
             "linecolor": "white",
             "minorgridcolor": "white",
             "startlinecolor": "#2a3f5f"
            },
            "type": "carpet"
           }
          ],
          "choropleth": [
           {
            "colorbar": {
             "outlinewidth": 0,
             "ticks": ""
            },
            "type": "choropleth"
           }
          ],
          "contour": [
           {
            "colorbar": {
             "outlinewidth": 0,
             "ticks": ""
            },
            "colorscale": [
             [
              0,
              "#0d0887"
             ],
             [
              0.1111111111111111,
              "#46039f"
             ],
             [
              0.2222222222222222,
              "#7201a8"
             ],
             [
              0.3333333333333333,
              "#9c179e"
             ],
             [
              0.4444444444444444,
              "#bd3786"
             ],
             [
              0.5555555555555556,
              "#d8576b"
             ],
             [
              0.6666666666666666,
              "#ed7953"
             ],
             [
              0.7777777777777778,
              "#fb9f3a"
             ],
             [
              0.8888888888888888,
              "#fdca26"
             ],
             [
              1,
              "#f0f921"
             ]
            ],
            "type": "contour"
           }
          ],
          "contourcarpet": [
           {
            "colorbar": {
             "outlinewidth": 0,
             "ticks": ""
            },
            "type": "contourcarpet"
           }
          ],
          "heatmap": [
           {
            "colorbar": {
             "outlinewidth": 0,
             "ticks": ""
            },
            "colorscale": [
             [
              0,
              "#0d0887"
             ],
             [
              0.1111111111111111,
              "#46039f"
             ],
             [
              0.2222222222222222,
              "#7201a8"
             ],
             [
              0.3333333333333333,
              "#9c179e"
             ],
             [
              0.4444444444444444,
              "#bd3786"
             ],
             [
              0.5555555555555556,
              "#d8576b"
             ],
             [
              0.6666666666666666,
              "#ed7953"
             ],
             [
              0.7777777777777778,
              "#fb9f3a"
             ],
             [
              0.8888888888888888,
              "#fdca26"
             ],
             [
              1,
              "#f0f921"
             ]
            ],
            "type": "heatmap"
           }
          ],
          "heatmapgl": [
           {
            "colorbar": {
             "outlinewidth": 0,
             "ticks": ""
            },
            "colorscale": [
             [
              0,
              "#0d0887"
             ],
             [
              0.1111111111111111,
              "#46039f"
             ],
             [
              0.2222222222222222,
              "#7201a8"
             ],
             [
              0.3333333333333333,
              "#9c179e"
             ],
             [
              0.4444444444444444,
              "#bd3786"
             ],
             [
              0.5555555555555556,
              "#d8576b"
             ],
             [
              0.6666666666666666,
              "#ed7953"
             ],
             [
              0.7777777777777778,
              "#fb9f3a"
             ],
             [
              0.8888888888888888,
              "#fdca26"
             ],
             [
              1,
              "#f0f921"
             ]
            ],
            "type": "heatmapgl"
           }
          ],
          "histogram": [
           {
            "marker": {
             "pattern": {
              "fillmode": "overlay",
              "size": 10,
              "solidity": 0.2
             }
            },
            "type": "histogram"
           }
          ],
          "histogram2d": [
           {
            "colorbar": {
             "outlinewidth": 0,
             "ticks": ""
            },
            "colorscale": [
             [
              0,
              "#0d0887"
             ],
             [
              0.1111111111111111,
              "#46039f"
             ],
             [
              0.2222222222222222,
              "#7201a8"
             ],
             [
              0.3333333333333333,
              "#9c179e"
             ],
             [
              0.4444444444444444,
              "#bd3786"
             ],
             [
              0.5555555555555556,
              "#d8576b"
             ],
             [
              0.6666666666666666,
              "#ed7953"
             ],
             [
              0.7777777777777778,
              "#fb9f3a"
             ],
             [
              0.8888888888888888,
              "#fdca26"
             ],
             [
              1,
              "#f0f921"
             ]
            ],
            "type": "histogram2d"
           }
          ],
          "histogram2dcontour": [
           {
            "colorbar": {
             "outlinewidth": 0,
             "ticks": ""
            },
            "colorscale": [
             [
              0,
              "#0d0887"
             ],
             [
              0.1111111111111111,
              "#46039f"
             ],
             [
              0.2222222222222222,
              "#7201a8"
             ],
             [
              0.3333333333333333,
              "#9c179e"
             ],
             [
              0.4444444444444444,
              "#bd3786"
             ],
             [
              0.5555555555555556,
              "#d8576b"
             ],
             [
              0.6666666666666666,
              "#ed7953"
             ],
             [
              0.7777777777777778,
              "#fb9f3a"
             ],
             [
              0.8888888888888888,
              "#fdca26"
             ],
             [
              1,
              "#f0f921"
             ]
            ],
            "type": "histogram2dcontour"
           }
          ],
          "mesh3d": [
           {
            "colorbar": {
             "outlinewidth": 0,
             "ticks": ""
            },
            "type": "mesh3d"
           }
          ],
          "parcoords": [
           {
            "line": {
             "colorbar": {
              "outlinewidth": 0,
              "ticks": ""
             }
            },
            "type": "parcoords"
           }
          ],
          "pie": [
           {
            "automargin": true,
            "type": "pie"
           }
          ],
          "scatter": [
           {
            "fillpattern": {
             "fillmode": "overlay",
             "size": 10,
             "solidity": 0.2
            },
            "type": "scatter"
           }
          ],
          "scatter3d": [
           {
            "line": {
             "colorbar": {
              "outlinewidth": 0,
              "ticks": ""
             }
            },
            "marker": {
             "colorbar": {
              "outlinewidth": 0,
              "ticks": ""
             }
            },
            "type": "scatter3d"
           }
          ],
          "scattercarpet": [
           {
            "marker": {
             "colorbar": {
              "outlinewidth": 0,
              "ticks": ""
             }
            },
            "type": "scattercarpet"
           }
          ],
          "scattergeo": [
           {
            "marker": {
             "colorbar": {
              "outlinewidth": 0,
              "ticks": ""
             }
            },
            "type": "scattergeo"
           }
          ],
          "scattergl": [
           {
            "marker": {
             "colorbar": {
              "outlinewidth": 0,
              "ticks": ""
             }
            },
            "type": "scattergl"
           }
          ],
          "scattermapbox": [
           {
            "marker": {
             "colorbar": {
              "outlinewidth": 0,
              "ticks": ""
             }
            },
            "type": "scattermapbox"
           }
          ],
          "scatterpolar": [
           {
            "marker": {
             "colorbar": {
              "outlinewidth": 0,
              "ticks": ""
             }
            },
            "type": "scatterpolar"
           }
          ],
          "scatterpolargl": [
           {
            "marker": {
             "colorbar": {
              "outlinewidth": 0,
              "ticks": ""
             }
            },
            "type": "scatterpolargl"
           }
          ],
          "scatterternary": [
           {
            "marker": {
             "colorbar": {
              "outlinewidth": 0,
              "ticks": ""
             }
            },
            "type": "scatterternary"
           }
          ],
          "surface": [
           {
            "colorbar": {
             "outlinewidth": 0,
             "ticks": ""
            },
            "colorscale": [
             [
              0,
              "#0d0887"
             ],
             [
              0.1111111111111111,
              "#46039f"
             ],
             [
              0.2222222222222222,
              "#7201a8"
             ],
             [
              0.3333333333333333,
              "#9c179e"
             ],
             [
              0.4444444444444444,
              "#bd3786"
             ],
             [
              0.5555555555555556,
              "#d8576b"
             ],
             [
              0.6666666666666666,
              "#ed7953"
             ],
             [
              0.7777777777777778,
              "#fb9f3a"
             ],
             [
              0.8888888888888888,
              "#fdca26"
             ],
             [
              1,
              "#f0f921"
             ]
            ],
            "type": "surface"
           }
          ],
          "table": [
           {
            "cells": {
             "fill": {
              "color": "#EBF0F8"
             },
             "line": {
              "color": "white"
             }
            },
            "header": {
             "fill": {
              "color": "#C8D4E3"
             },
             "line": {
              "color": "white"
             }
            },
            "type": "table"
           }
          ]
         },
         "layout": {
          "annotationdefaults": {
           "arrowcolor": "#2a3f5f",
           "arrowhead": 0,
           "arrowwidth": 1
          },
          "autotypenumbers": "strict",
          "coloraxis": {
           "colorbar": {
            "outlinewidth": 0,
            "ticks": ""
           }
          },
          "colorscale": {
           "diverging": [
            [
             0,
             "#8e0152"
            ],
            [
             0.1,
             "#c51b7d"
            ],
            [
             0.2,
             "#de77ae"
            ],
            [
             0.3,
             "#f1b6da"
            ],
            [
             0.4,
             "#fde0ef"
            ],
            [
             0.5,
             "#f7f7f7"
            ],
            [
             0.6,
             "#e6f5d0"
            ],
            [
             0.7,
             "#b8e186"
            ],
            [
             0.8,
             "#7fbc41"
            ],
            [
             0.9,
             "#4d9221"
            ],
            [
             1,
             "#276419"
            ]
           ],
           "sequential": [
            [
             0,
             "#0d0887"
            ],
            [
             0.1111111111111111,
             "#46039f"
            ],
            [
             0.2222222222222222,
             "#7201a8"
            ],
            [
             0.3333333333333333,
             "#9c179e"
            ],
            [
             0.4444444444444444,
             "#bd3786"
            ],
            [
             0.5555555555555556,
             "#d8576b"
            ],
            [
             0.6666666666666666,
             "#ed7953"
            ],
            [
             0.7777777777777778,
             "#fb9f3a"
            ],
            [
             0.8888888888888888,
             "#fdca26"
            ],
            [
             1,
             "#f0f921"
            ]
           ],
           "sequentialminus": [
            [
             0,
             "#0d0887"
            ],
            [
             0.1111111111111111,
             "#46039f"
            ],
            [
             0.2222222222222222,
             "#7201a8"
            ],
            [
             0.3333333333333333,
             "#9c179e"
            ],
            [
             0.4444444444444444,
             "#bd3786"
            ],
            [
             0.5555555555555556,
             "#d8576b"
            ],
            [
             0.6666666666666666,
             "#ed7953"
            ],
            [
             0.7777777777777778,
             "#fb9f3a"
            ],
            [
             0.8888888888888888,
             "#fdca26"
            ],
            [
             1,
             "#f0f921"
            ]
           ]
          },
          "colorway": [
           "#636efa",
           "#EF553B",
           "#00cc96",
           "#ab63fa",
           "#FFA15A",
           "#19d3f3",
           "#FF6692",
           "#B6E880",
           "#FF97FF",
           "#FECB52"
          ],
          "font": {
           "color": "#2a3f5f"
          },
          "geo": {
           "bgcolor": "white",
           "lakecolor": "white",
           "landcolor": "#E5ECF6",
           "showlakes": true,
           "showland": true,
           "subunitcolor": "white"
          },
          "hoverlabel": {
           "align": "left"
          },
          "hovermode": "closest",
          "mapbox": {
           "style": "light"
          },
          "paper_bgcolor": "white",
          "plot_bgcolor": "#E5ECF6",
          "polar": {
           "angularaxis": {
            "gridcolor": "white",
            "linecolor": "white",
            "ticks": ""
           },
           "bgcolor": "#E5ECF6",
           "radialaxis": {
            "gridcolor": "white",
            "linecolor": "white",
            "ticks": ""
           }
          },
          "scene": {
           "xaxis": {
            "backgroundcolor": "#E5ECF6",
            "gridcolor": "white",
            "gridwidth": 2,
            "linecolor": "white",
            "showbackground": true,
            "ticks": "",
            "zerolinecolor": "white"
           },
           "yaxis": {
            "backgroundcolor": "#E5ECF6",
            "gridcolor": "white",
            "gridwidth": 2,
            "linecolor": "white",
            "showbackground": true,
            "ticks": "",
            "zerolinecolor": "white"
           },
           "zaxis": {
            "backgroundcolor": "#E5ECF6",
            "gridcolor": "white",
            "gridwidth": 2,
            "linecolor": "white",
            "showbackground": true,
            "ticks": "",
            "zerolinecolor": "white"
           }
          },
          "shapedefaults": {
           "line": {
            "color": "#2a3f5f"
           }
          },
          "ternary": {
           "aaxis": {
            "gridcolor": "white",
            "linecolor": "white",
            "ticks": ""
           },
           "baxis": {
            "gridcolor": "white",
            "linecolor": "white",
            "ticks": ""
           },
           "bgcolor": "#E5ECF6",
           "caxis": {
            "gridcolor": "white",
            "linecolor": "white",
            "ticks": ""
           }
          },
          "title": {
           "x": 0.05
          },
          "xaxis": {
           "automargin": true,
           "gridcolor": "white",
           "linecolor": "white",
           "ticks": "",
           "title": {
            "standoff": 15
           },
           "zerolinecolor": "white",
           "zerolinewidth": 2
          },
          "yaxis": {
           "automargin": true,
           "gridcolor": "white",
           "linecolor": "white",
           "ticks": "",
           "title": {
            "standoff": 15
           },
           "zerolinecolor": "white",
           "zerolinewidth": 2
          }
         }
        },
        "title": {
         "text": "Loss with different predictions: y=1"
        },
        "xaxis": {
         "anchor": "y",
         "autorange": true,
         "domain": [
          0,
          1
         ],
         "range": [
          0.1,
          0.9
         ],
         "title": {
          "text": "x"
         },
         "type": "linear"
        },
        "yaxis": {
         "anchor": "x",
         "autorange": true,
         "domain": [
          0,
          1
         ],
         "range": [
          -0.016707516416408108,
          2.42465312506828
         ],
         "title": {
          "text": "y"
         },
         "type": "linear"
        }
       }
      },
      "image/png": "[encoded data removed]",
      "text/html": [
       "<div>                            <div id=\"c8808a91-1cec-4142-a848-04658fe7a861\" class=\"plotly-graph-div\" style=\"height:525px; width:100%;\"></div>            <script type=\"text/javascript\">                require([\"plotly\"], function(Plotly) {                    window.PLOTLYENV=window.PLOTLYENV || {};                                    if (document.getElementById(\"c8808a91-1cec-4142-a848-04658fe7a861\")) {                    Plotly.newPlot(                        \"c8808a91-1cec-4142-a848-04658fe7a861\",                        [{\"hovertemplate\":\"x=%{x}<br>y=%{y}<extra></extra>\",\"legendgroup\":\"\",\"line\":{\"color\":\"#636efa\",\"dash\":\"solid\"},\"marker\":{\"symbol\":\"circle\"},\"mode\":\"lines\",\"name\":\"\",\"orientation\":\"v\",\"showlegend\":false,\"x\":[0.1,0.2,0.3,0.4,0.5,0.6,0.7,0.8,0.9],\"xaxis\":\"x\",\"y\":[2.3025850929940455,1.6094379124341003,1.2039728043259361,0.916290731874155,0.6931471805599453,0.5108256237659907,0.35667494393873245,0.2231435513142097,0.10536051565782628],\"yaxis\":\"y\",\"type\":\"scatter\"}],                        {\"template\":{\"data\":{\"histogram2dcontour\":[{\"type\":\"histogram2dcontour\",\"colorbar\":{\"outlinewidth\":0,\"ticks\":\"\"},\"colorscale\":[[0.0,\"#0d0887\"],[0.1111111111111111,\"#46039f\"],[0.2222222222222222,\"#7201a8\"],[0.3333333333333333,\"#9c179e\"],[0.4444444444444444,\"#bd3786\"],[0.5555555555555556,\"#d8576b\"],[0.6666666666666666,\"#ed7953\"],[0.7777777777777778,\"#fb9f3a\"],[0.8888888888888888,\"#fdca26\"],[1.0,\"#f0f921\"]]}],\"choropleth\":[{\"type\":\"choropleth\",\"colorbar\":{\"outlinewidth\":0,\"ticks\":\"\"}}],\"histogram2d\":[{\"type\":\"histogram2d\",\"colorbar\":{\"outlinewidth\":0,\"ticks\":\"\"},\"colorscale\":[[0.0,\"#0d0887\"],[0.1111111111111111,\"#46039f\"],[0.2222222222222222,\"#7201a8\"],[0.3333333333333333,\"#9c179e\"],[0.4444444444444444,\"#bd3786\"],[0.5555555555555556,\"#d8576b\"],[0.6666666666666666,\"#ed7953\"],[0.7777777777777778,\"#fb9f3a\"],[0.8888888888888888,\"#fdca26\"],[1.0,\"#f0f921\"]]}],\"heatmap\":[{\"type\":\"heatmap\",\"colorbar\":{\"outlinewidth\":0,\"ticks\":\"\"},\"colorscale\":[[0.0,\"#0d0887\"],[0.1111111111111111,\"#46039f\"],[0.2222222222222222,\"#7201a8\"],[0.3333333333333333,\"#9c179e\"],[0.4444444444444444,\"#bd3786\"],[0.5555555555555556,\"#d8576b\"],[0.6666666666666666,\"#ed7953\"],[0.7777777777777778,\"#fb9f3a\"],[0.8888888888888888,\"#fdca26\"],[1.0,\"#f0f921\"]]}],\"heatmapgl\":[{\"type\":\"heatmapgl\",\"colorbar\":{\"outlinewidth\":0,\"ticks\":\"\"},\"colorscale\":[[0.0,\"#0d0887\"],[0.1111111111111111,\"#46039f\"],[0.2222222222222222,\"#7201a8\"],[0.3333333333333333,\"#9c179e\"],[0.4444444444444444,\"#bd3786\"],[0.5555555555555556,\"#d8576b\"],[0.6666666666666666,\"#ed7953\"],[0.7777777777777778,\"#fb9f3a\"],[0.8888888888888888,\"#fdca26\"],[1.0,\"#f0f921\"]]}],\"contourcarpet\":[{\"type\":\"contourcarpet\",\"colorbar\":{\"outlinewidth\":0,\"ticks\":\"\"}}],\"contour\":[{\"type\":\"contour\",\"colorbar\":{\"outlinewidth\":0,\"ticks\":\"\"},\"colorscale\":[[0.0,\"#0d0887\"],[0.1111111111111111,\"#46039f\"],[0.2222222222222222,\"#7201a8\"],[0.3333333333333333,\"#9c179e\"],[0.4444444444444444,\"#bd3786\"],[0.5555555555555556,\"#d8576b\"],[0.6666666666666666,\"#ed7953\"],[0.7777777777777778,\"#fb9f3a\"],[0.8888888888888888,\"#fdca26\"],[1.0,\"#f0f921\"]]}],\"surface\":[{\"type\":\"surface\",\"colorbar\":{\"outlinewidth\":0,\"ticks\":\"\"},\"colorscale\":[[0.0,\"#0d0887\"],[0.1111111111111111,\"#46039f\"],[0.2222222222222222,\"#7201a8\"],[0.3333333333333333,\"#9c179e\"],[0.4444444444444444,\"#bd3786\"],[0.5555555555555556,\"#d8576b\"],[0.6666666666666666,\"#ed7953\"],[0.7777777777777778,\"#fb9f3a\"],[0.8888888888888888,\"#fdca26\"],[1.0,\"#f0f921\"]]}],\"mesh3d\":[{\"type\":\"mesh3d\",\"colorbar\":{\"outlinewidth\":0,\"ticks\":\"\"}}],\"scatter\":[{\"fillpattern\":{\"fillmode\":\"overlay\",\"size\":10,\"solidity\":0.2},\"type\":\"scatter\"}],\"parcoords\":[{\"type\":\"parcoords\",\"line\":{\"colorbar\":{\"outlinewidth\":0,\"ticks\":\"\"}}}],\"scatterpolargl\":[{\"type\":\"scatterpolargl\",\"marker\":{\"colorbar\":{\"outlinewidth\":0,\"ticks\":\"\"}}}],\"bar\":[{\"error_x\":{\"color\":\"#2a3f5f\"},\"error_y\":{\"color\":\"#2a3f5f\"},\"marker\":{\"line\":{\"color\":\"#E5ECF6\",\"width\":0.5},\"pattern\":{\"fillmode\":\"overlay\",\"size\":10,\"solidity\":0.2}},\"type\":\"bar\"}],\"scattergeo\":[{\"type\":\"scattergeo\",\"marker\":{\"colorbar\":{\"outlinewidth\":0,\"ticks\":\"\"}}}],\"scatterpolar\":[{\"type\":\"scatterpolar\",\"marker\":{\"colorbar\":{\"outlinewidth\":0,\"ticks\":\"\"}}}],\"histogram\":[{\"marker\":{\"pattern\":{\"fillmode\":\"overlay\",\"size\":10,\"solidity\":0.2}},\"type\":\"histogram\"}],\"scattergl\":[{\"type\":\"scattergl\",\"marker\":{\"colorbar\":{\"outlinewidth\":0,\"ticks\":\"\"}}}],\"scatter3d\":[{\"type\":\"scatter3d\",\"line\":{\"colorbar\":{\"outlinewidth\":0,\"ticks\":\"\"}},\"marker\":{\"colorbar\":{\"outlinewidth\":0,\"ticks\":\"\"}}}],\"scattermapbox\":[{\"type\":\"scattermapbox\",\"marker\":{\"colorbar\":{\"outlinewidth\":0,\"ticks\":\"\"}}}],\"scatterternary\":[{\"type\":\"scatterternary\",\"marker\":{\"colorbar\":{\"outlinewidth\":0,\"ticks\":\"\"}}}],\"scattercarpet\":[{\"type\":\"scattercarpet\",\"marker\":{\"colorbar\":{\"outlinewidth\":0,\"ticks\":\"\"}}}],\"carpet\":[{\"aaxis\":{\"endlinecolor\":\"#2a3f5f\",\"gridcolor\":\"white\",\"linecolor\":\"white\",\"minorgridcolor\":\"white\",\"startlinecolor\":\"#2a3f5f\"},\"baxis\":{\"endlinecolor\":\"#2a3f5f\",\"gridcolor\":\"white\",\"linecolor\":\"white\",\"minorgridcolor\":\"white\",\"startlinecolor\":\"#2a3f5f\"},\"type\":\"carpet\"}],\"table\":[{\"cells\":{\"fill\":{\"color\":\"#EBF0F8\"},\"line\":{\"color\":\"white\"}},\"header\":{\"fill\":{\"color\":\"#C8D4E3\"},\"line\":{\"color\":\"white\"}},\"type\":\"table\"}],\"barpolar\":[{\"marker\":{\"line\":{\"color\":\"#E5ECF6\",\"width\":0.5},\"pattern\":{\"fillmode\":\"overlay\",\"size\":10,\"solidity\":0.2}},\"type\":\"barpolar\"}],\"pie\":[{\"automargin\":true,\"type\":\"pie\"}]},\"layout\":{\"autotypenumbers\":\"strict\",\"colorway\":[\"#636efa\",\"#EF553B\",\"#00cc96\",\"#ab63fa\",\"#FFA15A\",\"#19d3f3\",\"#FF6692\",\"#B6E880\",\"#FF97FF\",\"#FECB52\"],\"font\":{\"color\":\"#2a3f5f\"},\"hovermode\":\"closest\",\"hoverlabel\":{\"align\":\"left\"},\"paper_bgcolor\":\"white\",\"plot_bgcolor\":\"#E5ECF6\",\"polar\":{\"bgcolor\":\"#E5ECF6\",\"angularaxis\":{\"gridcolor\":\"white\",\"linecolor\":\"white\",\"ticks\":\"\"},\"radialaxis\":{\"gridcolor\":\"white\",\"linecolor\":\"white\",\"ticks\":\"\"}},\"ternary\":{\"bgcolor\":\"#E5ECF6\",\"aaxis\":{\"gridcolor\":\"white\",\"linecolor\":\"white\",\"ticks\":\"\"},\"baxis\":{\"gridcolor\":\"white\",\"linecolor\":\"white\",\"ticks\":\"\"},\"caxis\":{\"gridcolor\":\"white\",\"linecolor\":\"white\",\"ticks\":\"\"}},\"coloraxis\":{\"colorbar\":{\"outlinewidth\":0,\"ticks\":\"\"}},\"colorscale\":{\"sequential\":[[0.0,\"#0d0887\"],[0.1111111111111111,\"#46039f\"],[0.2222222222222222,\"#7201a8\"],[0.3333333333333333,\"#9c179e\"],[0.4444444444444444,\"#bd3786\"],[0.5555555555555556,\"#d8576b\"],[0.6666666666666666,\"#ed7953\"],[0.7777777777777778,\"#fb9f3a\"],[0.8888888888888888,\"#fdca26\"],[1.0,\"#f0f921\"]],\"sequentialminus\":[[0.0,\"#0d0887\"],[0.1111111111111111,\"#46039f\"],[0.2222222222222222,\"#7201a8\"],[0.3333333333333333,\"#9c179e\"],[0.4444444444444444,\"#bd3786\"],[0.5555555555555556,\"#d8576b\"],[0.6666666666666666,\"#ed7953\"],[0.7777777777777778,\"#fb9f3a\"],[0.8888888888888888,\"#fdca26\"],[1.0,\"#f0f921\"]],\"diverging\":[[0,\"#8e0152\"],[0.1,\"#c51b7d\"],[0.2,\"#de77ae\"],[0.3,\"#f1b6da\"],[0.4,\"#fde0ef\"],[0.5,\"#f7f7f7\"],[0.6,\"#e6f5d0\"],[0.7,\"#b8e186\"],[0.8,\"#7fbc41\"],[0.9,\"#4d9221\"],[1,\"#276419\"]]},\"xaxis\":{\"gridcolor\":\"white\",\"linecolor\":\"white\",\"ticks\":\"\",\"title\":{\"standoff\":15},\"zerolinecolor\":\"white\",\"automargin\":true,\"zerolinewidth\":2},\"yaxis\":{\"gridcolor\":\"white\",\"linecolor\":\"white\",\"ticks\":\"\",\"title\":{\"standoff\":15},\"zerolinecolor\":\"white\",\"automargin\":true,\"zerolinewidth\":2},\"scene\":{\"xaxis\":{\"backgroundcolor\":\"#E5ECF6\",\"gridcolor\":\"white\",\"linecolor\":\"white\",\"showbackground\":true,\"ticks\":\"\",\"zerolinecolor\":\"white\",\"gridwidth\":2},\"yaxis\":{\"backgroundcolor\":\"#E5ECF6\",\"gridcolor\":\"white\",\"linecolor\":\"white\",\"showbackground\":true,\"ticks\":\"\",\"zerolinecolor\":\"white\",\"gridwidth\":2},\"zaxis\":{\"backgroundcolor\":\"#E5ECF6\",\"gridcolor\":\"white\",\"linecolor\":\"white\",\"showbackground\":true,\"ticks\":\"\",\"zerolinecolor\":\"white\",\"gridwidth\":2}},\"shapedefaults\":{\"line\":{\"color\":\"#2a3f5f\"}},\"annotationdefaults\":{\"arrowcolor\":\"#2a3f5f\",\"arrowhead\":0,\"arrowwidth\":1},\"geo\":{\"bgcolor\":\"white\",\"landcolor\":\"#E5ECF6\",\"subunitcolor\":\"white\",\"showland\":true,\"showlakes\":true,\"lakecolor\":\"white\"},\"title\":{\"x\":0.05},\"mapbox\":{\"style\":\"light\"}}},\"xaxis\":{\"anchor\":\"y\",\"domain\":[0.0,1.0],\"title\":{\"text\":\"x\"}},\"yaxis\":{\"anchor\":\"x\",\"domain\":[0.0,1.0],\"title\":{\"text\":\"y\"}},\"legend\":{\"tracegroupgap\":0},\"title\":{\"text\":\"Loss with different predictions: y=1\"}},                        {\"responsive\": true}                    ).then(function(){\n",
       "                            \n",
       "var gd = document.getElementById('c8808a91-1cec-4142-a848-04658fe7a861');\n",
       "var x = new MutationObserver(function (mutations, observer) {{\n",
       "        var display = window.getComputedStyle(gd).display;\n",
       "        if (!display || display === 'none') {{\n",
       "            console.log([gd, 'removed!']);\n",
       "            Plotly.purge(gd);\n",
       "            observer.disconnect();\n",
       "        }}\n",
       "}});\n",
       "\n",
       "// Listen for the removal of the full notebook cells\n",
       "var notebookContainer = gd.closest('#notebook-container');\n",
       "if (notebookContainer) {{\n",
       "    x.observe(notebookContainer, {childList: true});\n",
       "}}\n",
       "\n",
       "// Listen for the clearing of the current output cell\n",
       "var outputEl = gd.closest('.output');\n",
       "if (outputEl) {{\n",
       "    x.observe(outputEl, {childList: true});\n",
       "}}\n",
       "\n",
       "                        })                };                });            </script>        </div>"
      ]
     },
     "metadata": {},
     "output_type": "display_data"
    }
   ],
   "source": [
    "lis1, prob = [], []\n",
    "for i in range(1, 10):\n",
    "    y = 1\n",
    "    lis1.append(-(y* math.log(i/10) + (1-y)*math.log(1-i/10)))\n",
    "    prob.append(i/10)\n",
    "\n",
    "import plotly.express as px\n",
    "\n",
    "px.line(x=prob, y=lis1, title=f'Loss with different predictions: y={y}')"
   ]
  },
  {
   "cell_type": "markdown",
   "id": "4753bb7e-4280-47c2-bae5-c3990a0ad0b9",
   "metadata": {},
   "source": [
    "### Retrospectiva\n",
    "\n",
    "\t\t❓ Pregunta: ¿Pero cómo podríamos simplificar estas definiciones que acabamos de dar?\n",
    "\n",
    "Si visualizamos GBM en un juego de golf, tendríamos un jugador que comienza con un tiro $f_0$, el cual a medida que va realizando cada tiro va aplicando una corrección $\\Delta_m$ en cada una de sus jugadas. Con esto, si cerebralmente el jugador corrige sus errores a través de una función MSE, tendremos que el jugador irá optimizando esta función hasta meter la pelota en el agujero (mínimo de la función de pérdida).\n",
    "\n",
    "$\\text{MSE LOSS} = \\mathcal{L}(y, F_M(X))=\\dfrac{1}{N} \\sum_{i=1}^N (y_i - F_M(x_i))^2$\n",
    "\n",
    "![](https://explained.ai/gradient-boosting/images/golf-MSE.png)\n",
    "\n",
    "\t\t❓ ¿Cómo podría el golfista corregir de mejor forma sus tiros? ¿Existe alguna forma?.\n",
    "\t\t\n",
    "![1d-vectors.png](https://explained.ai/gradient-boosting/images/1d-vectors.png)\n",
    "\n",
    "Como vimos durante el entrenamiento de GBM, este proceso considera un $\\nu$ conocido como shrinkage rate o learning rate. Este valor nos permitirá realizar correcciones en las actualizaciones de nuestras funciones $f_m$, ya que podría darse el caso que el gradiente obtenido durante la optimización sea muy alto y nos permita obtener un mínimo adecuado para el problema. De esta forma:\n",
    "$$f_m(x) = f_{m-1}(x) + \\nu F_m(x)$$\n",
    "Otra forma podría ser cambiando la función de pérdida que definimos en el problema. Dependiendo si es un problema de clasificación o regresión existen múltiples funciones de pérdida con diferentes interpretaciones que pueden mejorar significativamente el problema que deseamos resolver. Algunas de estas son:\n",
    "\n",
    "| Nombre         | Loss                         | Derivada           |  \n",
    "| -------------- | ---------------------------- | ------------------ |\n",
    "| Squeared Error | $\\dfrac{1}{2}(y_i-f(x_i))^2$ | $y_i -f(x_i)$      |\n",
    "| Absolute Error | $y_i - f(x_i)$               | $sgn(y_i -f(x_i))$ |\n",
    "| Binary Logloss                | $log(1+e^{-y_if_i})$  | $y-\\sigma(2f(x_i))$    |\n",
    "\n",
    "\n",
    "En tercer lugar tenemos la adición de un regularizador a nuestra función de pérdida, de esta forma podremos disminuir el sobreajuste de nuestro modelo, generando pequeñas modificaciones en los árboles que vamos generando.\n",
    "$$\\mathcal{L}(f) = \\sum_{i=1}^Nl(y_i,f(x))+\\Omega(f))$$\n",
    "donde $\\Omega$:\n",
    "$$\\Omega(f)= \\gamma J+\\dfrac{1}{2}\\lambda \\sum_{j=1}^J w^2_j$$"
   ]
  },
  {
   "cell_type": "markdown",
   "id": "d41b7e14-270b-4467-924a-10189151b12d",
   "metadata": {},
   "source": [
    "### Pros & Cons\n",
    "\n",
    "**Pros**:\n",
    "\n",
    "- Capacidad para manejar tanto problemas de regresión como de clasificación.\n",
    "- Puede capturar relaciones no lineales y características complejas en los datos.\n",
    "- Adaptabilidad a diferentes tipos de predictores, incluyendo variables numéricas y categóricas.\n",
    "- Robustez ante valores atípicos y datos ruidosos.\n",
    "- Capacidad para manejar grandes conjuntos de datos y escalabilidad.\n",
    "- Flexibilidad en la elección de funciones de pérdida y métricas de evaluación.\n",
    "- Capacidad para manejar características faltantes y utilizar todas las observaciones disponibles.\n",
    "- Puede generar importancia de variables para ayudar en la interpretación y selección de características.\n",
    "\n",
    "**Contras**:\n",
    "\n",
    "- Mayor complejidad y tiempo de entrenamiento en comparación con algoritmos más simples.\n",
    "- Puede ser propenso a sobreajuste si no se controlan los hiperparámetros adecuadamente.\n",
    "- Requiere una configuración cuidadosa de los hiperparámetros para obtener el mejor rendimiento.\n",
    "- Interpretación más difícil debido a la naturaleza de combinación de múltiples árboles.\n",
    "- Sensible a datos desequilibrados, donde las clases minoritarias pueden no recibir suficiente atención.\n",
    "- La importancia de las variables puede verse sesgada hacia las variables numéricas o con mayor cardinalidad.\n",
    "- No es adecuado para problemas con alta dimensionalidad o con muchos predictores.\n",
    "- Mayor consumo de recursos computacionales en comparación con algoritmos más simples.\n"
   ]
  },
  {
   "cell_type": "markdown",
   "id": "1bac118e-ce1c-438a-891d-ea51090f5278",
   "metadata": {},
   "source": [
    "## Ejemplo a Mano 🤨\n",
    "\n",
    "Como ya sabemos como funciona por detrás un algoritmo simple de Gradient Boosting, veamos un ejemplo para ejecutar un pequeño GBM a mano. Para esto consideremos los siguientes datos:\n",
    "\n",
    "| index | $feature_1$ | $feature_2$ | y     |  \n",
    "| ----- | ----- | ----- | ----- |\n",
    "| 1     | 1.12  | 1.4   | 1     |   \n",
    "| 2     | 5.45  | 3.1   | 0     |   \n",
    "| 3     | 3.54  | 1.2   | 1     |   \n",
    "\n",
    "Considerando los datos construir un modelo de GBM con 2 estimadores y un $\\nu$ igual a $0.1$.\n",
    "\n",
    "**Desarrollo:**\n",
    "Con la tabla anterior, comenzamos realizando nuestra primera iteración (m=1), para ello se considera que todos los datos se encuentran en el mismo nodo. De esta forma, calculando los odds y los log(odds) de los datos tendremos:\n",
    "\n",
    "$$odds = \\dfrac{\\text{cantidad de casos exitosos}}{\\text{cantidad de casos fallidos}}$$\n",
    "$$odds = 2/1 = 2$$\n",
    "Luego para los $log_n(odds)$:\n",
    "$$log_n(odds)=log_n(2)=0,693$$\n",
    "Notar que debido a que todos los valores están en el mismo nodo, todos los valores poseerán el mismo log_n(odds). Luego calculamos las probabilidades para cada uno de los valores.\n",
    "$$p=\\dfrac{1}{1+e^{-\\hat{y}}}=\\dfrac{1}{1+e^{-0.693}}=0.67$$\n",
    "Finalmente $\\gamma$ será:\n",
    "$$\\gamma_1=y-p_1=1-0.67=0.33$$\n",
    "$$\\gamma_2=y-p_2=0-0.67=-0,67$$\n",
    "$$\\gamma_3=y-p_3=1-0.67=0.33$$\n",
    "Tenemos nuestro primer estimador calculado, ahora el siguiente paso es generar un nuevo árbol. Para esto vamos a generar un árbol donde el nodo padre tiene la regla $feature_2>2$.\n",
    "\n",
    "![](https://github.com/MDS7202/MDS7202/blob/main/recursos/2023-01/21_Ensamblaje/Flowchart%20Template.jpg?raw=true)\n",
    "\n",
    "Considerando los resultados obtenidos en la iteración anterior, tendremos que ahora los valores de $\\gamma_i$ están dados por:\n",
    "$$\\gamma_{i}=\\dfrac{\\sum_i y_i-p_i}{\\sum_i p_i(1-p_i)}$$\n",
    "Reemplazando cada valor:\n",
    "$$\\gamma_{1m}=\\dfrac{0.33+0.33}{2*(0.67(1-0.67))}=1.49$$\n",
    "$$\\gamma_{2m}=\\dfrac{-0.67}{0.67(1-0.67)}=-3.03$$\n",
    "Finalmente, con los valores obtenidos calculamos el $F_m$ resultante de las 2 iteraciones para cada una de las hojas:\n",
    "\n",
    "$$F_m(x)=F_{m-1}(x)+\\nu \\gamma_m$$\n",
    "Reemplazamos para cada uno de los valores que tenemos por fila:\n",
    "$$\\hat{y_1}=F_1(x_1)=0.69+0.1*1.49=0.839$$\n",
    "$$\\hat{y_2}=F_2(x_2)=0.69+0.1*(-3.03)=0.387$$\n",
    "$$\\hat{y_3}=F_3(x_3)=0.69+0.1*1.49=0.839$$\n",
    "Como podemos ver, estos valores solamente representan un score que no nos indica la probabilidad, para esto aplicamos una softmax para normalizar las salidas:\n",
    "\n",
    "$$p_1=\\dfrac{1}{1+e^{-\\hat{y}}}=0.698$$\n",
    "$$p_2=0.595$$\n",
    "$$p_3=0.698$$\n",
    "Finalmente los residuales de cada una de las salidas es:\n",
    "\n",
    "$$\\gamma_1 = \\gamma_3 = 0.302$$\n",
    "$$\\gamma_2 = -0.595$$\n",
    "\t\t❓ Pregunta: ¿el cálculo tiene una dependencia de las features?"
   ]
  },
  {
   "cell_type": "markdown",
   "id": "ca03c8ee-e596-49dc-991d-491c3f944c32",
   "metadata": {},
   "source": [
    "## Ejemplo con Código 🧐\n",
    "\n",
    "Como ya comprendimos que es un algoritmo de GBM de forma teórica y como este se calcula a mano, el último paso es visualizar como funciona el entrenamiento a través de código. Para realizar este ejercicio modificaremos desde 0 el algoritmo de GBM utilizando los `DecisionTreeClassifier` de scikit-learn. \n",
    "\n",
    "**Objetivo:** Codificar cada una de las partes que contiene un algoritmo de GBM en una clase de python.\n",
    "\n",
    "![XGBoost vs LightGBM: How Are They Different](https://i0.wp.com/neptune.ai/wp-content/uploads/2022/10/Gradient-boosting-LightGBM-vs-XGBoost.png?resize=591%2C431&ssl=1)\n",
    "\n",
    "Comenzamos definiendo el inicializador de nuestra clase `GBMClassifier`, para esto definimos los siguientes valores:\n",
    "- n_estimators = Número de árboles que vamos a entrenar en el entrenamiento secuencial e iterativo.\n",
    "- max_depth = Máxima profundidad de los arboles que vamos a entrenar.\n",
    "- lr = Tasa de aprendizaje de nuestro GBM.\n",
    "- loss = Definimos la función de pérdida que vamos a utilizar para el problema.\n",
    "\n",
    "```python\n",
    "class GBMClassifier:\n",
    "    def __init__(self, n_trees, learning_rate=0.1, max_depth=1, loss_function=None):\n",
    "            self.n_trees=n_trees\n",
    "            self.learning_rate=learning_rate\n",
    "            self.max_depth=max_depth\n",
    "            self.loss_function = loss_function\n",
    "```\n",
    "\n",
    "En segundo lugar debemos definir el método que entrenará a nuestro modelo GBM. Para la construcción consideramos los siguientes pasos:  \n",
    "1. Generamos una lista donde almacenaremos nuestros árboles en cada una de las iteraciones, para esto generamos un atributo donde será almacenado.\n",
    "2. En segundo lugar es necesario obtener las predicciones bases de la primera etapa de nuestro modelo utilizando la función que calcula los gradientes de la función de pérdida.\n",
    "3. Generamos un loop en el que entrenaremos los $n$ árboles que definimos al inicializar la GBM y realizamos los siguientes pasos.\n",
    "\t1. Obtener los gradientes ($\\gamma$) de cada una de las etapas.\n",
    "\t2. Entrenamos los árboles con los gradientes obtenidos en 1.\n",
    "\t3. Actualizamos las predicciones realizadas por nuestros árboles.\n",
    "\t4. Obtenemos $F_M$ a utilizando las predicciones y el learning rate.\n",
    "\t5. Agregamos el árbol entrenado en esta etapa a nuestra lista de árboles.\n",
    "\n",
    "```python \n",
    "def fit(self):\n",
    "self.trees = []\n",
    "        self.base_prediction = self._argmin_fun(y=y)\n",
    "        current_predictions = self.base_prediction * np.ones(shape=y.shape)\n",
    "        for _ in range(self.n_trees):\n",
    "            pseudo_residuals = self.loss_function.negative_gradient(y, current_predictions)\n",
    "            tree = DecisionTreeRegressor(max_depth=self.max_depth)\n",
    "            tree.fit(X, pseudo_residuals)\n",
    "            self._update_terminal_nodes(tree, X, y, current_predictions)\n",
    "            current_predictions += self.learning_rate * tree.predict(X)\n",
    "            self.trees.append(tree)\n",
    "```\n",
    "\n",
    "Para calcular los gradientes de nuestra función utilizaremos una función de minimización, de esta forma no nos preocupamos de las derivadas. En la definición de este método tendremos dos casos: el caso base, cuando no se tiene un $\\hat{y}$ y un segundo cuando se tiene las predicciones de un estimador.\n",
    "\n",
    "```python\n",
    "def _argmin_fun(self, y, y_hat=None):\n",
    "        if np.array(y_hat).all() == None:\n",
    "            fun = lambda c: self.loss_function.loss(y, c)\n",
    "        else:\n",
    "            fun = lambda c: self.loss_function.loss(y, y_hat+c)\n",
    "        c0 = y.mean()\n",
    "        return minimize(fun=fun, x0=c0).x[0]\n",
    "```\n",
    "\n",
    "Finalmente tenemos la actualización de los nodos del árbol entrenado, para esto comenzamos obtenido las `ids` de los nodos que contienen las predicciones y los recorremos en un loop:\n",
    "\n",
    "1. Dentro del loop encontramos todos los valores que estén la misma hoja y seleccionamos los `y` e $\\hat{y}$ que poseen estos valores.\n",
    "2. Calculamos el $\\gamma$ de estos valores y los reemplazamos en los árboles.\n",
    "\n",
    "```python\n",
    "def _update_terminal_nodes(self, tree, X, y, current_predictions):\n",
    "        leaf_nodes = np.nonzero(tree.tree_.children_left == -1)[0]\n",
    "        leaf_node_for_each_sample = tree.apply(X)\n",
    "        for leaf in leaf_nodes:\n",
    "            samples_in_this_leaf = np.where(leaf_node_for_each_sample == leaf)[0]\n",
    "            y_in_leaf = y.take(samples_in_this_leaf, axis=0)\n",
    "            preds_in_leaf = current_predictions.take(samples_in_this_leaf, axis=0)\n",
    "            val = self._argmin_fun(y=y_in_leaf, y_hat=preds_in_leaf)\n",
    "            tree.tree_.value[leaf, 0, 0] = val\n",
    "```"
   ]
  },
  {
   "cell_type": "markdown",
   "id": "620bc227-ecef-40fa-a0c4-e481915fe7b6",
   "metadata": {},
   "source": [
    "### Definamos la clase que creamos"
   ]
  },
  {
   "cell_type": "code",
   "execution_count": null,
   "id": "4917a2ec-2322-4c76-9e06-1d92a6606339",
   "metadata": {},
   "outputs": [],
   "source": [
    "import numpy as np\n",
    "from sklearn.tree import DecisionTreeRegressor \n",
    "from scipy.optimize import minimize\n",
    "\n",
    "class GradientBoostingMachine():\n",
    "    \n",
    "    def __init__(self, n_trees, learning_rate=0.1, max_depth=1, loss_function=None):\n",
    "        self.n_trees=n_trees\n",
    "        self.learning_rate=learning_rate\n",
    "        self.max_depth=max_depth\n",
    "        self.loss_function = loss_function\n",
    "    \n",
    "    def fit(self, X, y):        \n",
    "        self.trees = []\n",
    "        self.base_prediction = self._argmin_fun(y=y)\n",
    "        current_predictions = self.base_prediction * np.ones(shape=y.shape)\n",
    "        for _ in range(self.n_trees):\n",
    "            pseudo_residuals = self.loss_function.negative_gradient(y, current_predictions)\n",
    "            tree = DecisionTreeRegressor(max_depth=self.max_depth)\n",
    "            tree.fit(X, pseudo_residuals)\n",
    "            self._update_terminal_nodes(tree, X, y, current_predictions)\n",
    "            current_predictions += self.learning_rate * tree.predict(X)\n",
    "            self.trees.append(tree)\n",
    "\n",
    "    def _argmin_fun(self, y, y_hat=None):\n",
    "        if np.array(y_hat).all() == None:\n",
    "            fun = lambda c: self.loss_function.loss(y, c)\n",
    "        else:\n",
    "            fun = lambda c: self.loss_function.loss(y, y_hat+c)\n",
    "        c0 = y.mean()\n",
    "        return minimize(fun=fun, x0=c0).x[0]\n",
    "        \n",
    "    def _update_terminal_nodes(self, tree, X, y, current_predictions):\n",
    "        leaf_nodes = np.nonzero(tree.tree_.children_left == -1)[0]\n",
    "        leaf_node_for_each_sample = tree.apply(X)\n",
    "        for leaf in leaf_nodes:\n",
    "            samples_in_this_leaf = np.where(leaf_node_for_each_sample == leaf)[0]\n",
    "            y_in_leaf = y.take(samples_in_this_leaf, axis=0)\n",
    "            preds_in_leaf = current_predictions.take(samples_in_this_leaf, axis=0)\n",
    "            val = self._argmin_fun(y=y_in_leaf, y_hat=preds_in_leaf)\n",
    "            tree.tree_.value[leaf, 0, 0] = val\n",
    "            \n",
    "    def predict(self, X):\n",
    "        return (self.base_prediction \n",
    "                + self.learning_rate \n",
    "                * np.sum([tree.predict(X) for tree in self.trees], axis=0))"
   ]
  },
  {
   "cell_type": "markdown",
   "id": "d4732efd-d1e8-4fc1-8d20-71810335d08a",
   "metadata": {},
   "source": [
    "#### Probemos!"
   ]
  },
  {
   "cell_type": "code",
   "execution_count": null,
   "id": "fed80534-1480-4ff3-9bdf-e87931701bba",
   "metadata": {},
   "outputs": [],
   "source": [
    "import numpy.random as rng\n",
    "\n",
    "from sklearn.ensemble import GradientBoostingRegressor, GradientBoostingClassifier\n",
    "\n",
    "# test data\n",
    "def make_test_data(n, noise_scale):\n",
    "    x = np.linspace(0, 10, 500).reshape(-1,1)\n",
    "    y = (np.where(x < 5, x, 5) + rng.normal(0, noise_scale, size=x.shape)).ravel()\n",
    "    return x, y\n",
    "    \n",
    "# print model loss scores\n",
    "def print_model_loss_scores(obj, y, preds, sk_preds):\n",
    "    print(f'From Scratch Loss = {obj.loss(y, pred):0.4}')\n",
    "    print(f'Scikit-Learn Loss = {obj.loss(y, sk_pred):0.4}')"
   ]
  },
  {
   "cell_type": "markdown",
   "id": "c4578ab0-647c-4feb-ba15-5551f209c185",
   "metadata": {},
   "source": [
    "Comenzamos generando unos datos con cierto grado de relación para generar una regresión simple:"
   ]
  },
  {
   "cell_type": "code",
   "execution_count": null,
   "id": "be632ae1-a6f8-414e-8a8a-0dad43952404",
   "metadata": {},
   "outputs": [],
   "source": [
    "import plotly.express as px\n",
    "\n",
    "x, y = make_test_data(500, 0.4)\n",
    "px.scatter(x, y, title='Datos de Prueba',template='simple_white')"
   ]
  },
  {
   "cell_type": "markdown",
   "id": "61d222aa-b357-4842-954f-ca0dda66a48c",
   "metadata": {},
   "source": [
    "Donde nuestra función de perdida viene dada por:"
   ]
  },
  {
   "cell_type": "code",
   "execution_count": null,
   "id": "19dbad0e-b303-4994-96f9-aef0afd3cfee",
   "metadata": {},
   "outputs": [],
   "source": [
    "class MSELoss():\n",
    "    '''User-Defined Squared Error Loss'''\n",
    "    \n",
    "    @staticmethod\n",
    "    def loss(y, preds):\n",
    "        return np.mean((y - preds)**2)\n",
    "    \n",
    "    @staticmethod\n",
    "    def negative_gradient(y, preds):\n",
    "        return y - preds\n",
    "    \n",
    "\n",
    "gbm = GradientBoostingMachine(n_trees=100,\n",
    "                                  learning_rate=0.5,\n",
    "                                  max_depth=1,\n",
    "                                  loss_function=MSELoss()\n",
    "                                 )\n",
    "gbm.fit(x, y)\n",
    "pred = gbm.predict(x)"
   ]
  },
  {
   "cell_type": "code",
   "execution_count": null,
   "id": "25d96bfa-2f27-4074-ad8b-98473526ffbf",
   "metadata": {},
   "outputs": [],
   "source": [
    "pred[:10]"
   ]
  },
  {
   "cell_type": "markdown",
   "id": "c03fee02-f237-42be-91da-e9c7c8b7a24d",
   "metadata": {},
   "source": [
    "Con los datos generamos un loop para visualizar como es el impacto que los estimadores dentro de la regresión, con esto obtenemos los siguientes gráficos:"
   ]
  },
  {
   "cell_type": "code",
   "execution_count": null,
   "id": "5a1416df-3aec-4512-bf19-773263b52bf3",
   "metadata": {},
   "outputs": [],
   "source": [
    "import matplotlib.pyplot as plt\n",
    "\n",
    "def plot_regresion(x, y, y_pred, name=\"Datos con regresión\", color='r'):\n",
    "    plt.scatter(x, y)\n",
    "    plt.plot(x, pred, color='r')\n",
    "    plt.title(name)\n",
    "    plt.show()\n",
    "    \n",
    "for i in range(1, 11):\n",
    "    gbm = GradientBoostingMachine(n_trees=i,\n",
    "                                  learning_rate=0.5,\n",
    "                                  max_depth=1,\n",
    "                                  loss_function=MSELoss()\n",
    "                                 )\n",
    "    gbm.fit(x, y)\n",
    "    pred = gbm.predict(x)\n",
    "    name_plot = f\"Datos con regresión con {i} estimadores\"\n",
    "    plot_regresion(x, y, pred, name=name_plot)"
   ]
  },
  {
   "cell_type": "markdown",
   "id": "f5d4dcfa-c425-4e73-9b0c-1c2a0620665a",
   "metadata": {},
   "source": [
    "Comprobemos si esto tiene sentido con el clasificador de boosting que viene en sklearn:"
   ]
  },
  {
   "cell_type": "code",
   "execution_count": null,
   "id": "7d15c0b5-3418-4f66-b7b3-8292652f73dc",
   "metadata": {},
   "outputs": [],
   "source": [
    "sk_gbm = GradientBoostingRegressor(n_estimators=10,\n",
    "                                   learning_rate=0.5,\n",
    "                                   max_depth=1)\n",
    "sk_gbm.fit(x, y)\n",
    "sk_pred = sk_gbm.predict(x)"
   ]
  },
  {
   "cell_type": "code",
   "execution_count": null,
   "id": "d13c525d-d947-4cf1-bdb8-aea91ecbc855",
   "metadata": {},
   "outputs": [],
   "source": [
    "print_model_loss_scores(MSELoss(), y, pred, sk_pred)"
   ]
  },
  {
   "cell_type": "markdown",
   "id": "2d1649bf-b1be-47bd-b14a-b78cae35e035",
   "metadata": {},
   "source": [
    "De los resultados se observa que a medida que aumentamos el número de estimadores es posible generar una regresión más similar a la tendencia que señalan los datos, por lo que la adición de weak-learners a nuestro modelo fue efectiva!\n",
    "\n",
    "## Retrospectiva\n",
    "\n",
    "\t\t❓ Pregunta: ¿añadir muchos estimadores que puede provocar?\n",
    "\t\t❓ Pregunta: Sabemos que los árboles son interpretables, ¿que sucede con los algoritmos de ensemle?\n",
    "\t\t❓ Pregunta: ¿Comó podemos medir el sobre ajuste de estos modelos si son multiples árboles?\n",
    "\t\t❓ Pregunta: ¿A nivel general son buenos estimadores los GBM?\n",
    "\t\t\n",
    "\n",
    "Links de interés:\n",
    "https://explained.ai/gradient-boosting/descent.html\n",
    "https://www.cienciadedatos.net/documentos/py09_gradient_boosting_python.html\n",
    "https://explained.ai/gradient-boosting/L2-loss.html"
   ]
  },
  {
   "cell_type": "markdown",
   "id": "8da94600-2837-4b22-85c4-c49e517ca672",
   "metadata": {},
   "source": [
    "## Restricciones"
   ]
  },
  {
   "cell_type": "markdown",
   "id": "b2455263-d46b-450e-a86c-9574bdcf673c",
   "metadata": {},
   "source": [
    "### Qué es Monotonicity?"
   ]
  },
  {
   "cell_type": "markdown",
   "id": "8ce76ee5-2295-43e1-913b-cbbfb4d83657",
   "metadata": {},
   "source": [
    "Diferentes variaciones entre una característica X e Y se reconocen como una función no monótona, y podemos representar esto de la siguiente manera:\n",
    "\n",
    "![Imagen 1](https://github.com/MDS7202/MDS7202/blob/main/recursos/2023-02/bosting/Pasted%20image%2020230915081517.png?raw=true)\n",
    "\n",
    "Por otro lado, si la relación aumenta, tenemos una función monótonamente creciente:\n",
    "\n",
    "$$f(x_{1}, x_{2}, x, \\dots, x_{n}) \\geq f(x_{1}, x_{2}, x', \\dots, x_{n})$$\n",
    "\n",
    "![Imagen 2](https://github.com/MDS7202/MDS7202/blob/main/recursos/2023-02/bosting/Pasted%20image%2020230915081603.png?raw=true)\n",
    "\n",
    "Finalmente, otro caso es la función monótonamente decreciente, dada por una relación decreciente entre X e Y:\n",
    "\n",
    "$$f(x_{1}, x_{2}, x, \\dots, x_{n}) \\leq f(x_{1}, x_{2}, x', \\dots, x_{n})$$\n",
    "![Imagen 3](https://github.com/MDS7202/MDS7202/blob/main/recursos/2023-02/bosting/Pasted%20image%2020230915081659.png?raw=true)\n",
    "\n",
    "Matemáticamente, si podemos establecer restricciones que nos permitan generar una salida positiva o negativa para cada variable, esto nos permitirá generar un mejor modelo para el negocio.\n",
    "\n",
    "Estas son las ideas básicas que necesitamos comprender para saber cómo utilizar esto. El siguiente paso es definir cómo podemos obtener o visualizar el comportamiento monótono entre las variables (si no tenemos una idea clara de la relación). La mejor manera de hacerlo es mediante el uso de Gráficos de Dependencia Parcial (PDP)."
   ]
  },
  {
   "cell_type": "markdown",
   "id": "5b38d6cc-7b77-4484-9bd8-fae5ac7b8471",
   "metadata": {},
   "source": [
    "### Monotonicity in Models\n",
    "#### Motivation "
   ]
  },
  {
   "cell_type": "markdown",
   "id": "78a580d1-614a-49c0-94ea-5ac0ea01521e",
   "metadata": {},
   "source": [
    "Si conocemos la relación entre dos variables y el objetivo, deberíamos generar o ayudar al modelo a generar un modelo con este comportamiento. Agregar restricciones al modelo nos permitirá obtener modelos mejores y generar modelos con menos sesgo en sus decisiones. Recuerda, si podemos corregir el sesgo en un modelo, podremos tomar decisiones mejores en el futuro.\n",
    "\n",
    "El uso principal de esta restricción es indicar el comportamiento de una variable cuyo comportamiento conocemos a partir de conocimiento previo. Al establecer diferentes restricciones para cada variable, podemos generar modelos más precisos para el problema que queremos resolver y evitar problemas futuros con el modelo debido a una subrepresentación de los datos durante el entrenamiento. Por ejemplo: Supongamos que tenemos pocos datos para una variable $X_1$ que sabemos tiene un comportamiento monótonamente negativo con el objetivo Y. Sin embargo, el comportamiento en el conjunto de datos de entrenamiento nos muestra una historia diferente. Si observáramos la relación entre el objetivo y la característica, veríamos una tendencia monótonamente positiva. ¿Cómo podemos resolver esto?... mediante la imposición de restricciones de monotonía en el modelo."
   ]
  },
  {
   "cell_type": "markdown",
   "id": "475972e6-994b-4e82-ae31-4cc2e924b60c",
   "metadata": {},
   "source": [
    "![image4](https://github.com/MDS7202/MDS7202/blob/main/recursos/2023-02/bosting/Pasted%20image%2020230915093309.png?raw=true)"
   ]
  },
  {
   "cell_type": "markdown",
   "id": "52c84ff1-f824-4791-8928-d57216503c6d",
   "metadata": {},
   "source": [
    "¿Qué logramos al aplicar estas restricciones a nuestro modelo? Básicamente, resolvimos 3 puntos durante el modelado: Equidad, consistencia y confiabilidad."
   ]
  },
  {
   "cell_type": "markdown",
   "id": "ec63e9e2-8bc9-46f5-b7fe-71797e358ce4",
   "metadata": {},
   "source": [
    "![](https://github.com/MDS7202/MDS7202/blob/main/recursos/2023-02/bosting/Pasted%20image%2020230915095556.png?raw=true)"
   ]
  },
  {
   "cell_type": "markdown",
   "id": "2ef02125-2689-42d6-9193-8f0b3f421156",
   "metadata": {},
   "source": [
    "#### Dependencias Parciales\n",
    "\n",
    "¿Qué es un Gráfico de Dependencias Parciales? Básicamente, es un gráfico que nos ayuda a comprender el comportamiento de una variable en relación con el objetivo. Estos gráficos nos permiten ver el comportamiento esperado (promedio) de la variable con respecto al objetivo y se representan como un gráfico de líneas donde X es la variable que deseamos analizar y Y es el objetivo.\n",
    "\n",
    "![Imagen 1](https://github.com/MDS7202/MDS7202/blob/main/recursos/2023-02/bosting/Pasted%20image%2020230915082448.png?raw=true)\n",
    "\n",
    "#### ¿Cómo se implementa esto?\n",
    "\n",
    "La función parcial $\\hat{f}_S$ se estima calculando promedios en los datos de entrenamiento, también conocido como método de Monte Carlo:\n",
    "\n",
    "$$\\hat{f}_S(x_S) = \\frac{1}{n} \\sum_{i=1}^n \\hat{f} (x_S, x_C^{(i)})$$\n",
    "\n",
    "La función parcial nos dice cuál es el efecto marginal promedio en la predicción para un valor dado (o valores) de las características S. En esta fórmula, $x_C^{(i)}$ son los valores reales de las características del conjunto de datos para las características en las que no estamos interesados, y n es el número de instancias en el conjunto de datos. Se asume en el PDP que las características en C no están correlacionadas con las características en S.\n",
    "\n",
    "#### ¿Por qué es relevante?\n",
    "\n",
    "Una comparación de gráficos de dependencias parciales puede proporcionar una visión importante, por ejemplo, revelar la estabilidad de la predicción del modelo. Algunas otras características que estos modelos permiten son:\n",
    "\n",
    "1. Se pueden crear perfiles para todas las observaciones en el conjunto, así como para la división en relación con otras variables. Por ejemplo, podemos ver cómo se comporta una variable específica cuando se diferencia por género, raza u otros factores.\n",
    "2. Podemos detectar algunas relaciones complicadas entre variables. Por ejemplo, tenemos perfiles de DP para dos modelos y podemos ver que uno de los modelos simples (regresión lineal) no detecta ninguna dependencia, mientras que el perfil de un modelo de caja negra (bosque aleatorio) nota una diferencia."
   ]
  },
  {
   "cell_type": "markdown",
   "id": "b3f38da0-be78-4a23-891e-55d6d0fbe936",
   "metadata": {},
   "source": [
    "### Restricciones de Interacción\n",
    "\n",
    "Otro problema que puede surgir en los modelos que generamos es la creación de modelos sesgados. Estos casos pueden ocurrir cuando observamos que las SHAPs en nuestro modelo relacionan variables que no deberían estar relacionadas, generando problemas de discriminación en el camino. Por ejemplo, la figura a continuación muestra cómo la raza interactúa más intensamente con la duración de la estancia, el grupo de edad y los antecedentes por año. Estas interacciones desaparecerían una vez que eliminamos la raza. Sin embargo, dada esta observación, se debe prestar especial atención si estas características no tienen sesgo racial incorporado. La investigación respalda la necesidad del grupo de edad y los antecedentes por año, lo que deja la duración de la estancia como candidata para un escrutinio.\n",
    "\n",
    "![Imagen 2](https://github.com/MDS7202/MDS7202/blob/main/recursos/2023-02/bosting/Pasted%20image%2020230915100939.png?raw=true)\n",
    "\n",
    "Cuando la profundidad del árbol es mayor que uno, muchas variables interactúan únicamente con el fin de minimizar la pérdida de entrenamiento, y el árbol de decisión resultante puede capturar una relación espuria (ruido) en lugar de una relación legítima que generalice en diferentes conjuntos de datos. Las **restricciones de interacción de características** permiten a los usuarios decidir qué variables pueden interactuar y cuáles no.\n",
    "\n",
    "Ajustando las restricciones de interacción en el conjunto de datos anterior y evitando la relación entre las variables raciales y el resto de los datos, podemos obtener los siguientes resultados.\n",
    "\n",
    "![Imagen 3](https://github.com/MDS7202/MDS7202/blob/main/recursos/2023-02/bosting/Pasted%20image%2020230915101644.png?raw=true)\n",
    "\n",
    "Los posibles beneficios incluyen:\n",
    "- Mejor rendimiento predictivo al centrarse en las interacciones que funcionan.\n",
    "- Menos ruido en las predicciones; mejor generalización.\n",
    "- Mayor control para el usuario sobre lo que el modelo puede ajustar."
   ]
  },
  {
   "cell_type": "markdown",
   "id": "6ff408ab-bb4f-4dab-b4cc-1776d7e4fbaa",
   "metadata": {},
   "source": [
    "## Modelos de Boosting más conocidos?"
   ]
  },
  {
   "attachments": {
    "9894d983-9d30-49c8-9733-0efd51ce5403.png": {
     "image/png": "[encoded data removed]"
    }
   },
   "cell_type": "markdown",
   "id": "935bbab6-81ea-40cf-a58b-f1b4b03c2ffe",
   "metadata": {},
   "source": [
    "![Screenshot 2024-05-05 at 5.25.23 PM.png](attachment:9894d983-9d30-49c8-9733-0efd51ce5403.png)"
   ]
  },
  {
   "cell_type": "markdown",
   "id": "1b43a1c8-23f3-48fb-8c6c-5ae387c39bd5",
   "metadata": {},
   "source": [
    "**XGBoost**, **LightGBM** y **CatBoost** son algoritmos de aprendizaje supervisado que utilizan técnicas de boosting con árboles de decisión como weak learners. Son populares debido a su eficiencia en el manejo de grandes cantidades de datos y su capacidad para manejar diversas formas de datos tabulares.\n",
    "\n",
    "Aunque la idea y el rendimiento son bastante similares entre estos modelos, es crucial entender ciertos aspectos fundamentales que los caracterizan. Por esta razón, a continuación exploraremos algunos de los supuestos clave que definen a cada uno:"
   ]
  },
  {
   "cell_type": "code",
   "execution_count": null,
   "id": "58bd1cd9-4905-43de-9b66-10bae5f6a7ca",
   "metadata": {},
   "outputs": [],
   "source": []
  },
  {
   "cell_type": "markdown",
   "id": "fd7122d8-32c6-45fe-88cd-f181707447e0",
   "metadata": {},
   "source": [
    "### XGBoost (Xtreme Gradient Boosting)\n",
    "\n",
    "- **Descripción**: XGBoost es un algoritmo de optimización basado en gradientes que utiliza modelos de árboles de decisión ensamblados. Es conocido por su rendimiento y velocidad.\n",
    "- **Características**:\n",
    "  - Manejo eficiente de los valores faltantes (los desvia hacía una de las ramas por defecto).\n",
    "  - Soporte para regularización (L1 y L2) que previene el sobreajuste.\n",
    "  - Alta flexibilidad, permite definir objetivos de optimización personalizados y funciones de evaluación.\n",
    "\n",
    "### LightGBM (Light Gradient Boosting Machine)\n",
    "- **Descripción**: LightGBM es un framework de boosting que utiliza árboles de decisión basados en gradientes. Es similar a XGBoost pero optimizado para ser más rápido y eficiente en memoria.\n",
    "- **Características**:\n",
    "  - Utiliza un algoritmo basado en el histograma para la construcción de árboles, lo que reduce el consumo de memoria y aumenta la velocidad.\n",
    "  - Soporta el crecimiento del árbol por hoja (leaf-wise) que tiende a ser más eficiente para conjuntos de datos grandes."
   ]
  },
  {
   "cell_type": "markdown",
   "id": "b4af102f-3d80-42ee-9552-4fecde094486",
   "metadata": {},
   "source": [
    "<center>\n",
    "<img src='https://www.oreilly.com/api/v2/epubs/9781789346411/files/assets/1da830ed-b89a-4437-83bb-373cdfac49fb.png' width=500 />"
   ]
  },
  {
   "cell_type": "markdown",
   "id": "1edf24b5-8fbd-4757-b121-3d79831e1f99",
   "metadata": {},
   "source": [
    "> Notar 💡: En el contexto de los algoritmos de árboles de decisión, la forma en que se expanden los árboles durante el entrenamiento puede tener un impacto significativo en el rendimiento y la eficiencia del modelo. Existen dos métodos principales para expandir árboles: el crecimiento por mejor primero (leaf-wise) y el crecimiento por profundidad primero (level-wise). Aunque ambos métodos pueden resultar en la construcción del mismo árbol si se permite que el árbol crezca hasta su máxima profundidad, las diferencias en el orden de expansión del árbol son cruciales, especialmente en escenarios prácticos donde no se suele permitir este crecimiento completo debido a la implementación de criterios de parada temprana y métodos de poda."
   ]
  },
  {
   "cell_type": "markdown",
   "id": "8a3ec550-de8f-4153-916b-190f78d2332e",
   "metadata": {},
   "source": [
    "### CatBoost\n",
    "- **Descripción**: CatBoost es un algoritmo de boosting también basado en árboles de decisión que maneja muy bien las variables categóricas sin necesidad de preprocesamiento extenso.\n",
    "- **Características**:\n",
    "  - Procesamiento automático de variables categóricas.\n",
    "  - Menos sensible a los parámetros de configuración, lo que facilita la puesta en marcha.\n",
    "  - Utiliza simetrización de árboles para reducir el sobreajuste.\n",
    "\n",
    "> Notar 💡: La simetrización en CatBoost implica que durante la creación de los árboles, el algoritmo utiliza un enfoque que garantiza que las decisiones tomadas en las etapas tempranas del árbol no se basen demasiado en características específicas, ayudando a que el modelo sea más general y menos propenso a ajustarse excesivamente a los datos de entrenamiento."
   ]
  },
  {
   "cell_type": "markdown",
   "id": "5b9c5284-2b3b-4088-9cb2-40f931c48325",
   "metadata": {},
   "source": [
    "### Diferencias Principales\n",
    "- **Manejo de datos**: CatBoost maneja automáticamente las variables categóricas, mientras que en XGBoost y LightGBM se necesita un preprocesamiento previo (a la fecha esto ya fue implementado por los otros algoritmos).\n",
    "- **Velocidad y uso de memoria**: LightGBM es generalmente más rápido y utiliza menos memoria que XGBoost debido a su algoritmo basado en histogramas. CatBoost, aunque eficiente, puede ser más lento que los otros dos debido a su tratamiento de las variables categóricas.\n",
    "- **Facilidad de uso**: CatBoost es menos sensible a la configuración de parámetros, lo que lo hace más fácil de usar para principiantes."
   ]
  },
  {
   "cell_type": "markdown",
   "id": "0faa1ac7-9e1d-492e-bfac-3a4bde28f9e8",
   "metadata": {},
   "source": [
    "### Ejemplo Básico de Uso con Scikit-Learn\n",
    "A continuación, un pequeño ejemplo de cómo se usa cada uno de estos algoritmos con los wrappers de clasificación en Python:"
   ]
  },
  {
   "cell_type": "markdown",
   "id": "24f5d426-1972-48d8-a181-6bcaf16d42bb",
   "metadata": {},
   "source": [
    "**XGBoost**:"
   ]
  },
  {
   "cell_type": "code",
   "execution_count": null,
   "id": "450c063f-91cc-4809-aab1-d186693709be",
   "metadata": {},
   "outputs": [],
   "source": [
    "from xgboost import XGBClassifier\n",
    "import numpy as np\n",
    "from sklearn.model_selection import train_test_split\n",
    "from sklearn.datasets import load_iris\n",
    "\n",
    "data = load_iris()\n",
    "X_train, X_test, y_train, y_test = train_test_split(data.data, data.target, test_size=0.2, random_state=42)\n",
    "\n",
    "model = XGBClassifier()\n",
    "model.fit(X_train, y_train)\n",
    "print(model.score(X_test, y_test))"
   ]
  },
  {
   "cell_type": "markdown",
   "id": "9bdac585-4d68-42e7-a81d-8fb975fea54b",
   "metadata": {},
   "source": [
    "**LGBM**:"
   ]
  },
  {
   "cell_type": "code",
   "execution_count": null,
   "id": "73c8bc37-b4d2-4122-a1d7-254942a57a91",
   "metadata": {},
   "outputs": [],
   "source": [
    "from lightgbm import LGBMClassifier\n",
    "import numpy as np\n",
    "from sklearn.model_selection import train_test_split\n",
    "from sklearn.datasets import load_iris\n",
    "\n",
    "data = load_iris()\n",
    "X_train, X_test, y_train, y_test = train_test_split(data.data, data.target, test_size=0.2, random_state=42)\n",
    "\n",
    "model = LGBMClassifier()\n",
    "model.fit(X_train, y_train)\n",
    "print(model.score(X_test, y_test))"
   ]
  },
  {
   "cell_type": "markdown",
   "id": "fb7700e1-5553-48d1-aae8-41e8d733bf67",
   "metadata": {},
   "source": [
    "**CatBoost**:"
   ]
  },
  {
   "cell_type": "code",
   "execution_count": null,
   "id": "d1d5bee7-ea24-49c9-b393-0d631fd76d94",
   "metadata": {},
   "outputs": [],
   "source": [
    "from catboost import CatBoostClassifier\n",
    "import numpy as np\n",
    "from sklearn.model_selection import train_test_split\n",
    "from sklearn.datasets import load_iris\n",
    "\n",
    "data = load_iris()\n",
    "X_train, X_test, y_train, y_test = train_test_split(data.data, data.target, test_size=0.2, random_state=42)\n",
    "\n",
    "model = CatBoostClassifier(verbose=0)  # `verbose=0` para no mostrar mensajes de entrenamiento\n",
    "model.fit(X_train, y_train)\n",
    "print(model.score(X_test, y_test))"
   ]
  }
 ],
 "metadata": {
  "kernelspec": {
   "display_name": "Python 3 (ipykernel)",
   "language": "python",
   "name": "python3"
  },
  "language_info": {
   "codemirror_mode": {
    "name": "ipython",
    "version": 3
   },
   "file_extension": ".py",
   "mimetype": "text/x-python",
   "name": "python",
   "nbconvert_exporter": "python",
   "pygments_lexer": "ipython3",
   "version": "3.10.9"
  }
 },
 "nbformat": 4,
 "nbformat_minor": 5
}
