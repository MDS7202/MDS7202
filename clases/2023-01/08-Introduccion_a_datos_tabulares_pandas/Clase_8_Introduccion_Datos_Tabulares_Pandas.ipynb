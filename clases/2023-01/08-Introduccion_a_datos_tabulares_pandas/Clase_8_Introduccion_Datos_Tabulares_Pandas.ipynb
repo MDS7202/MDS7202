{
 "cells": [
  {
   "attachments": {},
   "cell_type": "markdown",
   "id": "c678acd9-7b94-4a01-8205-431edfecc601",
   "metadata": {},
   "source": [
    "\n",
    "# Clase 8: Introducción a Manejo de Datos Tabulares con Pandas\n",
    "\n",
    "**MDS7202: Laboratorio de Programación Científica para Ciencia de Datos**\n"
   ]
  },
  {
   "cell_type": "markdown",
   "id": "ebc25986-8ac4-4730-a716-bab6032ddc36",
   "metadata": {},
   "source": [
    "### Objetivos de la clase\n",
    "\n",
    "- Introducir los datos estructurados de forma tabular.\n",
    "- Comprender los aspectos introductorios de `pandas`: `Series` y `DataFrames`.\n",
    "- Indexado y operaciones básicas en `DataFrames`.\n",
    "- Filtrados y queries. \n"
   ]
  },
  {
   "attachments": {},
   "cell_type": "markdown",
   "id": "1bb38285",
   "metadata": {},
   "source": [
    "# Motivación\n",
    "\n",
    "Primero, se presentará el dataset con el cuál estaremos trabajando durante la clase y luego, vendrán unas preguntas interesantes al respecto.\n",
    "\n",
    "\n"
   ]
  },
  {
   "cell_type": "markdown",
   "id": "88dcd569",
   "metadata": {},
   "source": [
    "### Índices para una Vida Mejor\n",
    "\n",
    "Para explicar `pandas`, analizaremos datos de la OECD, en particular de los índices para una Vida Mejor:\n",
    "\n",
    "\n",
    "<img src=\"./resources/oecd.png\" alt=\"OECD Better life index\"/>\n",
    "\n",
    "\n",
    "http://www.oecdbetterlifeindex.org/\n",
    "\n",
    "https://stats.oecd.org/Index.aspx?DataSetCode=BLI\n",
    "\n",
    "Son 11 temas considerados como esenciales para el bienestar de la población. Cada crierio contiene uno o mas indicadores\n",
    "\n",
    "| Tema | Indicador (Inglés) | Indicador (Español) | Unidad | Descripción |\n",
    "|---|---|---|---|---|\n",
    "| Vivienda 🏠 | Dwellings without basic facilities | Vivienda con Instalaciones Básicas | Porcentaje | Porcentaje de personas con inodoros de agua corriente dentro del hogar, año disponible más reciente |\n",
    "|  | Housing expenditure | Gastos en Vivienda | Porcentaje | Proporción de costos de vivienda en el ingreso neto ajustado de las familias, año disponible más reciente |\n",
    "|  | Rooms per person | Habitaciones por Persona | Ratio | Número promedio de habitaciones compartidas por persona en una vivienda, año disponible más reciente |\n",
    "| Ingresos 💰 | Household net adjusted disposable income | Ingreso Familiar Disponible | US Dollar | Cantidad promedio de dinero que una familia gana al año, después de impuestos, año disponible más reciente |\n",
    "|  | Household net wealth | Patrimonio Neto Familiar | US Dollar | Valor total promedio de los activos financieros de una familia (ahorros, acciones) menos sus pasivos (créditos), año disponible más reciente |\n",
    "| Empleo ⚙️ | Labour market insecurity | Seguridad en el Empleo | Porcentaje | Pérdida esperada de ingresos cuando alguien queda desempleado, año disponible más reciente |\n",
    "|  | Employment rate | Tasa de Empleo | Porcentaje | Porcentaje de personas, de 15 a 64 años de edad, actualmente con empleo remunerado, año disponible más reciente |\n",
    "|  | Long-term unemployment rate | Tasa de Empleo a Largo Plazo | Porcentaje | Porcentaje de personas, de 15 a 64 años de edad, que no trabajan pero que han buscado empleo activamente durante más de un año, año disponible más reciente |\n",
    "|  | Personal earnings | Ingresos Personales | US Dollar | Ingresos anuales promedio por empleado de tiempo completo, año disponible más reciente |\n",
    "| Comunidad 🧑‍🤝‍🧑   | Quality of support network  | Calidad del Apoyo Social | Porcentaje | Porcentaje de personas con amigos o parientes en quienes confiar en caso de necesidad |\n",
    "| Educación 📚 | Educational attainment | Nivel de Educación | Porcentaje | Porcentaje de personas, de 25 a 64 años de edad, graduadas por lo menos de educación media superior, año disponible más reciente |\n",
    "|  | Student skills | Competencias de estudiantes en matemáticas, lectura y ciencias | Puntaje promedio | Desempeño promedio de estudiantes de 15 años de edad, según PISA (Programa para la Evaluación Internacional de Estudiantes) |\n",
    "|  | Years in education  | Nivel de educación | Años | Duración promedio de la educación formal en la que un niño de cinco años de edad puede esperar matricularse durante su vida |\n",
    "| Medio Ambiente 🌳 | Air pollution | Contaminación del Aire | Microgramos por metro cúbico | Concentración promedio de partículas (PM2.5) en ciudades con poblaciones mayores de 100,000 personas, medida en microgramos por metro cúbico, año disponible más reciente |\n",
    "|  | Water quality | Calidad del Agua | Porcentaje | Porcentaje de personas que informan estar satisfechas con la calidad del agua local |\n",
    "| Compromiso Cívico 🗳️  | Stakeholder engagement for developing regulations | Participación de los interesados en la elaboración de regulaciones | Puntaje promedio | Nivel de transparencia gubernamental al preparar las regulaciones, año disponible más reciente |\n",
    "|  | Voter turnout | Participación electoral | Porcentaje | Porcentaje de votantes registrados que votaron durante las elecciones recientes, año disponible más reciente |\n",
    "| Salud ⚕️ | Life expectancy | Esperanza de vida | Años | Número promedio de años que una persona puede esperar vivir, año disponible más reciente |\n",
    "|  | Self-reported health | Salud según informan las personas | Porcentaje | Porcentaje de personas que informan que su salud es «buena o muy buena», año disponible más reciente |\n",
    "| Satisfacción ✨ | Life satisfaction | Satisfacción ante la vida | Puntaje promedio | Autoevaluación promedio de satisfacción ante la vida, en una escala de 0 a 10 |\n",
    "| Seguridad 🌃 | Feeling safe walking alone at night | Sentimiento de seguridad al caminar solos por la noche | Porcentaje | Porcentaje de personas que reportan sentirse seguras al caminar solas por la noche  |\n",
    "|  | Homicide rate | Tasa de homicidios | Ratio | Número promedio de homicidios reportados por 100,000 personas, año disponible más reciente |\n",
    "| Balance Vida Trabajo 🧘 | Employees working very long hours | Empleados que trabajan muchas horas | Porcentaje | Porcentaje de empleados que trabajan más de cincuenta horas a la semana en promedio, año disponible más reciente |\n",
    "|  | Time devoted to leisure and personal care | Tiempo destinado al ocio y el cuidado personal | Horas | Número promedio de minutos al día dedicados al ocio y el cuidado personal, incluidos el sueño y la alimentación |"
   ]
  },
  {
   "cell_type": "code",
   "execution_count": null,
   "id": "4e2532cb",
   "metadata": {},
   "outputs": [],
   "source": []
  },
  {
   "attachments": {},
   "cell_type": "markdown",
   "id": "02cec4aa",
   "metadata": {},
   "source": [
    "---\n",
    "\n",
    "**Hasta el momento, todos los datos con los que hemos trabajado:**\n"
   ]
  },
  {
   "attachments": {},
   "cell_type": "markdown",
   "id": "0ace596b",
   "metadata": {},
   "source": [
    "### 1. Los hemos ingresado a mano\n",
    "\n",
    "En este caso, tendríamos que copiar y pegar los datos en formato arreglo de forma manual. \n",
    "\n",
    "Por ejemplo, las 10 primeras filas del dataset de la OECD de las columnas:\n",
    "\n",
    "- Air pollution\n",
    "- Dwellings without basic facilities\n",
    "- Educational attainment\n",
    "- Employees working very long hours\n",
    "- Employment rate\n",
    "\n"
   ]
  },
  {
   "cell_type": "code",
   "execution_count": null,
   "id": "d4e2a49b",
   "metadata": {},
   "outputs": [],
   "source": [
    "import numpy as np\n",
    "\n",
    "datos = np.array(\n",
    "    [\n",
    "        [5.0, np.nan, 81.0, 12.84, 73.0],\n",
    "        [16.0, 0.9, 85.0, 6.59, 72.0],\n",
    "        [15.0, 1.9, 77.0, 4.7, 63.33],\n",
    "        [10.0, 6.7, 49.0, 7.01, 61.0],\n",
    "        [7.0, 0.2, 91.33, 3.67, 73.33],\n",
    "        [16.0, 9.4, 65.0, 9.32, 62.67],\n",
    "        [10.0, 23.9, 54.0, 26.01, 67.0],\n",
    "        [20.0, 0.7, 93.67, 5.5, 73.67],\n",
    "        [9.0, 0.5, 81.0, 2.32, 74.0],\n",
    "        [8.0, 7.0, 88.67, 2.44, 74.0],\n",
    "    ]\n",
    ")\n",
    "\n",
    "datos\n"
   ]
  },
  {
   "attachments": {},
   "cell_type": "markdown",
   "id": "0f6086ff",
   "metadata": {},
   "source": [
    "> **Pregunta ❓**: Entonces, ¿Cómo en numpy podría leer una planilla Excel? ¿Y un archivo json? ¿O un CSV? ¿ O una base de datos?"
   ]
  },
  {
   "attachments": {},
   "cell_type": "markdown",
   "id": "279eee10",
   "metadata": {},
   "source": [
    "### 2. Solo hemos usado números\n",
    "\n",
    "> **Pregunta ❓**: ¿Cómo puedo operar strings en numpy?\n",
    "\n",
    "En este caso, me gustaría agregar una nueva columna a los datos: el oaís que describen los valores:"
   ]
  },
  {
   "cell_type": "code",
   "execution_count": null,
   "id": "db96bd50",
   "metadata": {},
   "outputs": [],
   "source": [
    "pais = np.array([\n",
    "    \"Australia\",\n",
    "    \"Austria\",\n",
    "    \"Belgium\",\n",
    "    \"Brazil\",\n",
    "    \"Canada\",\n",
    "    \"Chile\",\n",
    "    \"Colombia\",\n",
    "    \"Czech Republic\",\n",
    "    \"Denmark\",\n",
    "    \"Estonia\",\n",
    "])\n"
   ]
  },
  {
   "attachments": {},
   "cell_type": "markdown",
   "id": "576077c9",
   "metadata": {},
   "source": [
    "Pero recuerden que para que numpy funcione eficientemente, los arreglos deben ser homogeneos, es decir, del mismo tipo.\n",
    "\n",
    "> **Pregunta: ❓** ¿Qué consecuencias podría traer el agregar esta nueva columna a los datos?"
   ]
  },
  {
   "cell_type": "code",
   "execution_count": null,
   "id": "5bae7189",
   "metadata": {},
   "outputs": [],
   "source": []
  },
  {
   "cell_type": "code",
   "execution_count": null,
   "id": "07d2c212",
   "metadata": {},
   "outputs": [],
   "source": [
    "nuevos_datos = np.concatenate([pais[:, np.newaxis], datos], axis=1)\n",
    "nuevos_datos\n",
    "\n"
   ]
  },
  {
   "cell_type": "code",
   "execution_count": null,
   "id": "44995495",
   "metadata": {},
   "outputs": [],
   "source": [
    "nuevos_datos.mean(axis=1)"
   ]
  },
  {
   "cell_type": "markdown",
   "id": "b93dd068",
   "metadata": {},
   "source": [
    "### 3. Trabajamos solo con índices para obtener datos."
   ]
  },
  {
   "attachments": {},
   "cell_type": "markdown",
   "id": "52293e75",
   "metadata": {},
   "source": [
    "> **Pregunta ❓** : ¿Y si mis filas o columnas tuvieran nombre (un string), cómo las podría agregar a numpy?"
   ]
  },
  {
   "cell_type": "code",
   "execution_count": null,
   "id": "89f9ff34",
   "metadata": {},
   "outputs": [],
   "source": [
    "columnas = [\n",
    "    \"Country\",\n",
    "    \"Air pollution\",\n",
    "    \"Dwellings without basic facilities\",\n",
    "    \"Educational attainment\",\n",
    "    \"Employees working very long hours\",\n",
    "    \"Employment rate\",\n",
    "]\n"
   ]
  },
  {
   "attachments": {},
   "cell_type": "markdown",
   "id": "a39e7f69",
   "metadata": {},
   "source": [
    "Las recién listadas son un solo un par de limitaciones de `numpy` a la hora de manejar datos.\n",
    "\n",
    "Como podemos ver, lamentablemente `numpy` carece de funcionalidades más avanzadas pero necesarias para ejecutar adecuada y eficientemente tareas de data science.\n",
    "\n",
    "Aquí es donde entra en juego `pandas`."
   ]
  },
  {
   "cell_type": "markdown",
   "id": "8ea399ad",
   "metadata": {},
   "source": [
    "---"
   ]
  },
  {
   "attachments": {},
   "cell_type": "markdown",
   "id": "1a581ea1",
   "metadata": {},
   "source": [
    "## 1. Pandas 🐼"
   ]
  },
  {
   "attachments": {},
   "cell_type": "markdown",
   "id": "7ba6b113",
   "metadata": {},
   "source": [
    "\n",
    "`Pandas` (derivado de _panel data_)  una librería para python utilizada para manejar datos tabulares. \n",
    "\n",
    "<div align='center'>\n",
    "<img src=\"./resources/dataframe.png\" alt=\"DataFrames\" style=\"width: 800px;\"/>\n",
    "</div>\n",
    "\n",
    "\n",
    "Está diseñada para proveer herramientas que faciliten la exploración, limpieza y procesamiento de los datos. Su enfoque es *simplicidad y eficiencia*. Es, al igual que las librerías anteriores, *open-source*.\n",
    "\n",
    "\n",
    "La base de pandas son los `DataFrames`.\n",
    "\n"
   ]
  },
  {
   "cell_type": "markdown",
   "id": "c7afcc29",
   "metadata": {},
   "source": [
    "Como convención, `Pandas` se importa de la siguiente manera:"
   ]
  },
  {
   "cell_type": "code",
   "execution_count": null,
   "id": "f1ae310c",
   "metadata": {},
   "outputs": [],
   "source": [
    "import pandas as pd"
   ]
  },
  {
   "cell_type": "markdown",
   "id": "0cc1635a",
   "metadata": {},
   "source": [
    "### Entrada / Salida (IO)"
   ]
  },
  {
   "cell_type": "markdown",
   "id": "06e22870",
   "metadata": {},
   "source": [
    "La lectura de datos en `pandas` es muy sencilla: `pandas` es compatible con muchos tipos de archivos y fuentes de datos de forma nativa:\n",
    "\n",
    "- `CSV`\n",
    "- `Excel`\n",
    "- `SQL`\n",
    "- `Json`\n",
    "- ...\n",
    "\n",
    "Los datos almacenados en estas fuentes pueden ser importados a `DataFrames` a través de las funcioes `read_*`\n",
    "\n",
    "De la misma forma, es capaz de guardar los DataFrames en el formato que deseen usando las funciones `to_*`\n",
    "\n",
    "<div align='center'>\n",
    "\n",
    "<img src=\"./resources/pandas_io.png\" alt=\"DataFrames\" style=\"width: 800px;\"/>\n",
    "</div>\n",
    "    \n",
    "Toda la información acerca de que puede o no leer la encuentran en la siguiente referencia: https://pandas.pydata.org/docs/user_guide/io.html"
   ]
  },
  {
   "cell_type": "markdown",
   "id": "072c6114",
   "metadata": {},
   "source": [
    "### Importar el Dataset\n",
    "\n",
    "A continuacion, importaremos el dataset a un `DataFrame`. Noten la gran compatiblidad de `Jupyter` con los DataFrames (DF).\n",
    "\n",
    "Cada DataFrame tiene **indices (Primera columna ) y columnas (primera fila)**. Comunmente se ocupan:\n",
    "\n",
    "- En las columnas se ocupan `strings` que identifican el nombre de la variable.\n",
    "- Enteros que identifican el número de la observación en las filas. \n",
    "\n",
    "Sin embargo, las filas también pueden ser identificadas por strings como las columnas por enteros"
   ]
  },
  {
   "cell_type": "code",
   "execution_count": null,
   "id": "9183961c-ea94-4837-9927-f9a457d0e624",
   "metadata": {},
   "outputs": [],
   "source": [
    "# para abrir archivos excel y visualizar hay que instalar esta dependencia extra\n",
    "%pip install pandas openpyxl matplotlib plotly statsmodels"
   ]
  },
  {
   "cell_type": "code",
   "execution_count": null,
   "id": "c9ca811d",
   "metadata": {},
   "outputs": [],
   "source": [
    "import pandas as pd\n",
    "\n",
    "# utilidad para mostrar todas las columnas\n",
    "pd.set_option(\"display.max_columns\", None)\n",
    "\n",
    "\n",
    "df = pd.read_excel(\"./resources/dataset.xlsx\", header=1, index_col=0)\n",
    "df"
   ]
  },
  {
   "cell_type": "markdown",
   "id": "a1dfae6c",
   "metadata": {},
   "source": [
    "---\n",
    "\n",
    "## 2.- Lo Básico\n",
    "\n",
    "A continuación veremos los atributos y métodos básicos de un DataFrame."
   ]
  },
  {
   "cell_type": "markdown",
   "id": "443be3b2",
   "metadata": {},
   "source": [
    "### Atributos\n",
    "\n",
    "#### Columnas\n",
    "\n",
    "Podemos ver los nombres de las columnas de nuestro `DataFrame` a través de `df.columns`"
   ]
  },
  {
   "cell_type": "code",
   "execution_count": null,
   "id": "bb3c868d",
   "metadata": {},
   "outputs": [],
   "source": [
    "df.columns"
   ]
  },
  {
   "cell_type": "markdown",
   "id": "b262b530",
   "metadata": {},
   "source": [
    "#### Índices"
   ]
  },
  {
   "cell_type": "markdown",
   "id": "6e3f6ca4",
   "metadata": {},
   "source": [
    "Podemos ver los indices de las filas de nuestro `DataFrame` a través de `df.index`"
   ]
  },
  {
   "cell_type": "code",
   "execution_count": null,
   "id": "0b60b5a4",
   "metadata": {},
   "outputs": [],
   "source": [
    "df.index"
   ]
  },
  {
   "cell_type": "markdown",
   "id": "69676781",
   "metadata": {},
   "source": [
    "#### Largo (cántidad de filas)"
   ]
  },
  {
   "cell_type": "code",
   "execution_count": null,
   "id": "561c5f2a",
   "metadata": {},
   "outputs": [],
   "source": [
    "len(df)"
   ]
  },
  {
   "cell_type": "markdown",
   "id": "ed05ddec",
   "metadata": {},
   "source": [
    "#### Shape"
   ]
  },
  {
   "cell_type": "code",
   "execution_count": null,
   "id": "a11dc96a",
   "metadata": {
    "scrolled": true
   },
   "outputs": [],
   "source": [
    "df.shape"
   ]
  },
  {
   "cell_type": "markdown",
   "id": "2a8fa4d0-28a1-4661-9ce3-e8ddbb6372cf",
   "metadata": {},
   "source": [
    "### Información General del Dataframe"
   ]
  },
  {
   "cell_type": "code",
   "execution_count": null,
   "id": "d862b628-2790-4dc9-8828-ace6ac930c66",
   "metadata": {},
   "outputs": [],
   "source": [
    "df.info()"
   ]
  },
  {
   "cell_type": "markdown",
   "id": "962050fc",
   "metadata": {},
   "source": [
    "### Selección de Algunos Elementos"
   ]
  },
  {
   "cell_type": "code",
   "execution_count": null,
   "id": "3a01ba89-fff0-4340-a6e0-787f265a7f53",
   "metadata": {},
   "outputs": [],
   "source": [
    "df"
   ]
  },
  {
   "cell_type": "markdown",
   "id": "81f94dcc",
   "metadata": {},
   "source": [
    "#### Head\n",
    "\n",
    "Trae los primeros n elementos\n"
   ]
  },
  {
   "cell_type": "code",
   "execution_count": null,
   "id": "48f0c16f",
   "metadata": {},
   "outputs": [],
   "source": [
    "df.head(5)"
   ]
  },
  {
   "cell_type": "markdown",
   "id": "a5b0d048",
   "metadata": {},
   "source": [
    "#### Tail\n",
    "\n",
    "Trae los últimos n elementos\n"
   ]
  },
  {
   "cell_type": "code",
   "execution_count": null,
   "id": "f370142c",
   "metadata": {},
   "outputs": [],
   "source": [
    "df.tail(5)"
   ]
  },
  {
   "cell_type": "markdown",
   "id": "ebe267f3",
   "metadata": {},
   "source": [
    "#### Sample\n",
    "\n",
    "Entrega n filas aleatorias"
   ]
  },
  {
   "cell_type": "code",
   "execution_count": null,
   "id": "9270d189",
   "metadata": {},
   "outputs": [],
   "source": [
    "df.sample(5)"
   ]
  },
  {
   "cell_type": "markdown",
   "id": "ef9b6b43-de28-4a2e-8097-9d8738d67679",
   "metadata": {},
   "source": [
    "> **Pregunta ❓** Existe alguna forma de repetir el mismo muestreo aleatorio de datos?"
   ]
  },
  {
   "cell_type": "code",
   "execution_count": null,
   "id": "f9df1460-8004-4675-ac7a-6a449aebe113",
   "metadata": {},
   "outputs": [],
   "source": [
    "df.sample(5, random_state=2)"
   ]
  },
  {
   "cell_type": "markdown",
   "id": "52080de5",
   "metadata": {},
   "source": [
    "> **Pregunta ❓** ¿Cuál es la unidad más básica que los `DataFrames`?"
   ]
  },
  {
   "cell_type": "code",
   "execution_count": null,
   "id": "dc30bb76",
   "metadata": {},
   "outputs": [],
   "source": [
    "df.values"
   ]
  },
  {
   "cell_type": "markdown",
   "id": "28c6d023",
   "metadata": {},
   "source": [
    "---\n",
    "\n",
    "## 3.- `Series`\n",
    "\n",
    "Los objetos tipo `pd.Series` son los objetos base de los DataFrames. Estos consisten en un arreglo unidimensional (que puede contener una sucesión de valores u objetos) asociados a un índice. Además, opcionalmente pueden llevar un nombre (que sería el equivalente al nombre de la columna de un DataFrame)."
   ]
  },
  {
   "cell_type": "code",
   "execution_count": null,
   "id": "7c76ad71",
   "metadata": {
    "scrolled": true
   },
   "outputs": [],
   "source": [
    "serie = pd.Series([1, 9, 7, -5, 3, 10], name=\"Mi serie\")\n",
    "serie"
   ]
  },
  {
   "cell_type": "markdown",
   "id": "9c33eb1c-f615-4598-8f8c-22061ca643cb",
   "metadata": {},
   "source": [
    "### Atributos básicos"
   ]
  },
  {
   "cell_type": "code",
   "execution_count": null,
   "id": "eab67b5c",
   "metadata": {},
   "outputs": [],
   "source": [
    "serie.values"
   ]
  },
  {
   "cell_type": "code",
   "execution_count": null,
   "id": "e766771c",
   "metadata": {},
   "outputs": [],
   "source": [
    "serie.index"
   ]
  },
  {
   "cell_type": "code",
   "execution_count": null,
   "id": "233c243c",
   "metadata": {},
   "outputs": [],
   "source": [
    "serie.dtype"
   ]
  },
  {
   "cell_type": "code",
   "execution_count": null,
   "id": "fa89aedf",
   "metadata": {},
   "outputs": [],
   "source": [
    "serie.name"
   ]
  },
  {
   "cell_type": "code",
   "execution_count": null,
   "id": "3ec2680e",
   "metadata": {},
   "outputs": [],
   "source": [
    "serie.shape"
   ]
  },
  {
   "cell_type": "markdown",
   "id": "b51fef15-8b89-4054-805e-37fabc03d9a9",
   "metadata": {},
   "source": [
    "### Indexado de Series"
   ]
  },
  {
   "cell_type": "markdown",
   "id": "141cb52b",
   "metadata": {},
   "source": [
    "Podemos acceder a cualquier elemento de una serie usando los mismos principios de indexado que en `numpy`:"
   ]
  },
  {
   "cell_type": "code",
   "execution_count": null,
   "id": "eb26a0b6-1f20-4b68-bf44-f781fdbe4466",
   "metadata": {},
   "outputs": [],
   "source": [
    "serie"
   ]
  },
  {
   "cell_type": "code",
   "execution_count": null,
   "id": "40ff60b6",
   "metadata": {},
   "outputs": [],
   "source": [
    "serie[0]"
   ]
  },
  {
   "cell_type": "code",
   "execution_count": null,
   "id": "257e4d0f",
   "metadata": {},
   "outputs": [],
   "source": [
    "serie[0:2]"
   ]
  },
  {
   "cell_type": "code",
   "execution_count": null,
   "id": "911dd21f",
   "metadata": {},
   "outputs": [],
   "source": [
    "serie[0:4]"
   ]
  },
  {
   "cell_type": "markdown",
   "id": "9dbb271e",
   "metadata": {},
   "source": [
    "---\n",
    "\n",
    "## 4.- Indexado de DataFrames\n",
    "\n",
    "En esta sección veremos como seleccionar filas y columnas a través de distintos tipos de indexados.\n",
    "\n",
    "<img src=\"./resources/subsets.png\" alt=\"OECD Better life index\"/>"
   ]
  },
  {
   "cell_type": "code",
   "execution_count": null,
   "id": "dab4ed6f",
   "metadata": {},
   "outputs": [],
   "source": [
    "df.head(5)"
   ]
  },
  {
   "cell_type": "markdown",
   "id": "c5587f20-90a4-468b-9184-d5865cc7f03b",
   "metadata": {},
   "source": [
    "### Acceder a una serie en específico\n",
    "\n",
    "\n",
    "\n",
    "Volviendo a nuestro ejemplo, podemos acceder a las series de nuestro Dataset por medio de un indexador al cual se le provee el nombre de alguna columna. \n",
    "\n",
    "Por ejemplo:\n",
    "\n",
    "> **Water quality 💧**: Porcentaje de personas que informan estar satisfechas con la calidad del agua local\n"
   ]
  },
  {
   "cell_type": "code",
   "execution_count": null,
   "id": "97e3707d-4ca1-49f3-aca5-4b3f5fc9ad2a",
   "metadata": {},
   "outputs": [],
   "source": [
    "df['Water quality']"
   ]
  },
  {
   "cell_type": "markdown",
   "id": "2de455cc",
   "metadata": {},
   "source": [
    "### Selector de Columnas"
   ]
  },
  {
   "cell_type": "markdown",
   "id": "d3ff26d0",
   "metadata": {},
   "source": [
    "Veamos ahora cómo seleccionar un par de columnas en particular, como por ejemplo:\n",
    "\n",
    "> **Water quality 💧**: Porcentaje de personas que informan estar satisfechas con la calidad del agua local\n",
    "\n",
    "> **Air Pollution 🏙️**: Concentración promedio de partículas (PM2.5) en ciudades con poblaciones mayores de 100,000 personas\n"
   ]
  },
  {
   "cell_type": "code",
   "execution_count": null,
   "id": "f6143366-34f6-48ce-8b34-d39361e3135e",
   "metadata": {},
   "outputs": [],
   "source": [
    "df[['Water quality', 'Air pollution']]"
   ]
  },
  {
   "cell_type": "markdown",
   "id": "27c37a16",
   "metadata": {},
   "source": [
    "### Selector de filas\n",
    "\n",
    "Para seleccionar filas, podemos entregar un indexador de filas al estilo `numpy`:\n"
   ]
  },
  {
   "cell_type": "code",
   "execution_count": null,
   "id": "c449d76d",
   "metadata": {},
   "outputs": [],
   "source": [
    "df[0:10]"
   ]
  },
  {
   "cell_type": "markdown",
   "id": "c0e64354",
   "metadata": {},
   "source": [
    "> **Pregunta ❓**: ¿Cómo seleccionamos al mismo tiempo filas y columnas?"
   ]
  },
  {
   "cell_type": "code",
   "execution_count": null,
   "id": "e1d06671-6b4e-45fb-8d06-dccbf1624f5f",
   "metadata": {},
   "outputs": [],
   "source": [
    "df[['Water quality']][9: 10]"
   ]
  },
  {
   "cell_type": "code",
   "execution_count": null,
   "id": "6ac360a2-1e86-42f6-9b8d-c285b8c1e03f",
   "metadata": {},
   "outputs": [],
   "source": [
    "df[[filas], [columnas]]"
   ]
  },
  {
   "cell_type": "code",
   "execution_count": null,
   "id": "a927ac45-d43c-4ce4-bae0-475d2e97f2f2",
   "metadata": {},
   "outputs": [],
   "source": [
    "df.loc[0: 3, [2, 4]]"
   ]
  },
  {
   "cell_type": "markdown",
   "id": "9be7878d",
   "metadata": {},
   "source": [
    "### Loc: Indexador por etiquetas\n",
    "\n",
    "Permite acceder ciertos elementos por nombre de columnas y nombre de índices"
   ]
  },
  {
   "cell_type": "code",
   "execution_count": null,
   "id": "dc62f053",
   "metadata": {},
   "outputs": [],
   "source": [
    "df.loc[\n",
    "    [\"Chile\", \"Mexico\", \"Brazil\", \"Colombia\"], # <- filas\n",
    "    [\"Water quality\", \"Air pollution\"]         # <- columnas\n",
    "]"
   ]
  },
  {
   "cell_type": "code",
   "execution_count": null,
   "id": "717565f5-1e3f-47ad-9d72-7f613178da60",
   "metadata": {},
   "outputs": [],
   "source": [
    "df.loc[\n",
    "    [\"Chile\", \"Mexico\", \"Brazil\", \"Colombia\"], # <- filas\n",
    "    :                                          # <- columnas\n",
    "]"
   ]
  },
  {
   "cell_type": "code",
   "execution_count": null,
   "id": "dfb8c5b7-e355-44c3-bebe-231e8e9861ee",
   "metadata": {},
   "outputs": [],
   "source": [
    "df.loc[\n",
    "    :                                        , # <- filas\n",
    "    [\"Water quality\", \"Air pollution\"]         # <- columnas\n",
    "]"
   ]
  },
  {
   "cell_type": "markdown",
   "id": "db4ccfc1-9170-4ddd-a6db-b0ab499ef6e9",
   "metadata": {},
   "source": [
    "> **Pregunta ❓**: Y si queremos usar filas con indexadores numéricos?"
   ]
  },
  {
   "cell_type": "code",
   "execution_count": null,
   "id": "ab948b3b-e1f7-4622-a615-a871e0a1a9e8",
   "metadata": {},
   "outputs": [],
   "source": [
    "# no funcionaba porque nuestros índices son los países, no números.\n",
    "df.loc[[5, 7, 12], :]"
   ]
  },
  {
   "cell_type": "code",
   "execution_count": null,
   "id": "314cfb50-7558-4d40-8d91-8a85beb5fc57",
   "metadata": {},
   "outputs": [],
   "source": [
    "df.loc[0:5, [\"Water quality\", \"Air pollution\"]]"
   ]
  },
  {
   "cell_type": "markdown",
   "id": "15fe3bca",
   "metadata": {},
   "source": [
    "### Iloc: Indexador por Índices\n",
    "\n",
    "Para seleccionar por índices debemos utilizar otro tipo de indexador: `iloc`"
   ]
  },
  {
   "cell_type": "code",
   "execution_count": null,
   "id": "c32dea2e",
   "metadata": {},
   "outputs": [],
   "source": [
    "df.iloc[8:12, :]"
   ]
  },
  {
   "cell_type": "code",
   "execution_count": null,
   "id": "70f81a49-d5f6-4a5b-905e-1b9e3ac549ac",
   "metadata": {},
   "outputs": [],
   "source": [
    "df.iloc[:, 0:3]"
   ]
  },
  {
   "cell_type": "code",
   "execution_count": null,
   "id": "b11d6bc5-adf0-489c-82ad-a86ec7c79efd",
   "metadata": {},
   "outputs": [],
   "source": [
    "df.iloc[:, [14]]"
   ]
  },
  {
   "cell_type": "markdown",
   "id": "ac5b9c14",
   "metadata": {},
   "source": [
    "### Mascaras 🎭: Selección por Booleanos\n",
    "\n",
    "\n",
    "Una operación interesante de selcción es usar un arreglo de booleanos para seleccionar datos."
   ]
  },
  {
   "cell_type": "code",
   "execution_count": null,
   "id": "935429a8",
   "metadata": {},
   "outputs": [],
   "source": [
    "len(df)"
   ]
  },
  {
   "cell_type": "markdown",
   "id": "635546c4-b228-4114-a26a-4dae08d1750c",
   "metadata": {},
   "source": [
    "> **Pregunta ❓**: ¿Cómo podríamos obtener aquellos países cuya 80% o más de su población estén conformes con la calidad del agua?"
   ]
  },
  {
   "cell_type": "code",
   "execution_count": null,
   "id": "3700e75a-c37c-4791-a696-4bf1f16b6176",
   "metadata": {},
   "outputs": [],
   "source": [
    "mascara = df[\"Water quality\"] >= 101\n",
    "mascara"
   ]
  },
  {
   "cell_type": "code",
   "execution_count": null,
   "id": "2a54cb6b",
   "metadata": {},
   "outputs": [],
   "source": [
    "df.loc[mascara, ['Water quality']]"
   ]
  }
 ],
 "metadata": {
  "kernelspec": {
   "display_name": "Python 3 (ipykernel)",
   "language": "python",
   "name": "python3"
  },
  "language_info": {
   "codemirror_mode": {
    "name": "ipython",
    "version": 3
   },
   "file_extension": ".py",
   "mimetype": "text/x-python",
   "name": "python",
   "nbconvert_exporter": "python",
   "pygments_lexer": "ipython3",
   "version": "3.9.16"
  },
  "toc": {
   "base_numbering": 1,
   "nav_menu": {},
   "number_sections": true,
   "sideBar": true,
   "skip_h1_title": false,
   "title_cell": "Table of Contents",
   "title_sidebar": "Contents",
   "toc_cell": false,
   "toc_position": {
    "height": "calc(100% - 180px)",
    "left": "10px",
    "top": "150px",
    "width": "347.117px"
   },
   "toc_section_display": true,
   "toc_window_display": false
  },
  "varInspector": {
   "cols": {
    "lenName": 16,
    "lenType": 16,
    "lenVar": 40
   },
   "kernels_config": {
    "python": {
     "delete_cmd_postfix": "",
     "delete_cmd_prefix": "del ",
     "library": "var_list.py",
     "varRefreshCmd": "print(var_dic_list())"
    },
    "r": {
     "delete_cmd_postfix": ") ",
     "delete_cmd_prefix": "rm(",
     "library": "var_list.r",
     "varRefreshCmd": "cat(var_dic_list()) "
    }
   },
   "types_to_exclude": [
    "module",
    "function",
    "builtin_function_or_method",
    "instance",
    "_Feature"
   ],
   "window_display": false
  }
 },
 "nbformat": 4,
 "nbformat_minor": 5
}
