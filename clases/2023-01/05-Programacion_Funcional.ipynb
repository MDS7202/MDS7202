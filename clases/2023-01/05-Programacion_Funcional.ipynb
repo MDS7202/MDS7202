{
 "cells": [
  {
   "cell_type": "markdown",
   "metadata": {},
   "source": [
    "#  Clase 4: Programación Funcional y Modular\n",
    "\n",
    "**MDS7202: Laboratorio de Programación Científica para Ciencia de Datos**\n",
    "\n",
    "## Objetivos de la Clase:\n",
    "\n",
    "- Funciones y su sintaxis en Python\n",
    "- Scopes\n",
    "- Testing\n",
    "- Referencias y Mutabilidad\n",
    "- Documentación\n"
   ]
  },
  {
   "cell_type": "markdown",
   "metadata": {},
   "source": [
    "##  Motivación\n",
    "\n",
    "Uno de los contenidos de la clase pasada consistió en practicar el control de flujo a través de la implementación de la _La cafetería de la serpiente 🐍_. \n",
    "\n",
    "El ejemplo consistía en controlar los mensajes que mostraba la consola indicando la disponibilidad de ciertos productos en una cafetería a través del uso de `if/elif/else`.\n",
    "\n",
    "Para el caso del té, la ejecución era la siguiente:"
   ]
  },
  {
   "cell_type": "code",
   "execution_count": null,
   "metadata": {},
   "outputs": [],
   "source": [
    "pedido = 'té'\n",
    "\n",
    "if 'té' == pedido:\n",
    "    print('Enseguida le traigo su 🍵.')\n",
    "    \n",
    "elif pedido == 'café':\n",
    "    print('Enseguida le traigo su ☕.')\n",
    "    \n",
    "else:\n",
    "    print(\"No tenemos lo que nos está pidiendo\")"
   ]
  },
  {
   "cell_type": "markdown",
   "metadata": {},
   "source": [
    "Mientras que la del café era:"
   ]
  },
  {
   "cell_type": "code",
   "execution_count": null,
   "metadata": {},
   "outputs": [],
   "source": [
    "pedido = 'café'\n",
    "\n",
    "if 'té' == pedido:\n",
    "    print('Enseguida le traigo su 🍵.')\n",
    "    \n",
    "elif pedido == 'café':\n",
    "    print('Enseguida le traigo su ☕.')\n",
    "    \n",
    "else:\n",
    "    print(\"No tenemos lo que nos está pidiendo\")"
   ]
  },
  {
   "cell_type": "markdown",
   "metadata": {},
   "source": [
    "<br>\n",
    "\n",
    "\n",
    "Como podrán ver, estamos repitiendo mucho el código...\n",
    "\n",
    "> **Pregunta ❓**: ¿Cómo podríamos repetir menos código?"
   ]
  },
  {
   "cell_type": "markdown",
   "metadata": {},
   "source": [
    "---\n",
    "\n",
    "## 1.- Funciones\n",
    "\n",
    "\n",
    "Una función es un segmento de código separado del código principal, la cual puede ser ejecutada (de aquí en adelante, *invocada*) desde cualquier otro punto del programa (incluyendo de si misma).\n",
    "\n",
    "Las funciones por lo general toman parámetros, que en términos prácticos, son los datos sobre los cuales operarán."
   ]
  },
  {
   "cell_type": "markdown",
   "metadata": {},
   "source": [
    "### Sintaxis Básica\n",
    "\n",
    "En Python, una función se define por medio de la keyword `def` seguido por el nombre y los parámetros que recibirá de entrada la función. \n",
    "\n",
    "> **Nota 📝**: Parametro es el nombre de la variable dentro de la función. Argumento es el valor que le pasamos a el parámetro al momento de invocar la función. Se pueden usar indistintivamente."
   ]
  },
  {
   "cell_type": "code",
   "execution_count": null,
   "metadata": {},
   "outputs": [],
   "source": [
    "def sumar(a, b):\n",
    "    ..."
   ]
  },
  {
   "cell_type": "markdown",
   "metadata": {},
   "source": [
    "#### Return\n",
    "\n",
    "La keyword ```return``` permite que valores definidos dentro de la función puedan ser retornadas hacia el exterior.  Una función definida sin ```return``` entrega como resultado `None`."
   ]
  },
  {
   "cell_type": "code",
   "execution_count": null,
   "metadata": {},
   "outputs": [],
   "source": [
    "def sumar(a, b):\n",
    "    c = a + b\n",
    "    return c"
   ]
  },
  {
   "cell_type": "code",
   "execution_count": null,
   "metadata": {},
   "outputs": [],
   "source": [
    "sumar(1, 2)"
   ]
  },
  {
   "cell_type": "markdown",
   "metadata": {},
   "source": [
    "#### Invocación \n",
    "\n",
    "Para invocar una función (*ejecutarla*), se utiliza el nombre de la función junto a dos paréntesis que encierran los argumentos."
   ]
  },
  {
   "cell_type": "code",
   "execution_count": null,
   "metadata": {
    "ExecuteTime": {
     "end_time": "2021-03-24T19:33:46.931701Z",
     "start_time": "2021-03-24T19:33:46.912703Z"
    },
    "scrolled": true
   },
   "outputs": [],
   "source": [
    "sumar(10, 200)"
   ]
  },
  {
   "cell_type": "markdown",
   "metadata": {},
   "source": [
    "> **Pregunta ❓:** ¿Qué sucede con la variable `c` definida dentro de la función?"
   ]
  },
  {
   "cell_type": "code",
   "execution_count": null,
   "metadata": {},
   "outputs": [],
   "source": [
    "def sumar(a, b):\n",
    "    c = a + b\n",
    "    return c\n",
    "\n",
    "sumar(10, 200)"
   ]
  },
  {
   "cell_type": "code",
   "execution_count": null,
   "metadata": {
    "ExecuteTime": {
     "end_time": "2021-03-24T19:35:09.838952Z",
     "start_time": "2021-03-24T19:35:09.828938Z"
    }
   },
   "outputs": [],
   "source": [
    "c"
   ]
  },
  {
   "cell_type": "markdown",
   "metadata": {},
   "source": [
    "#### El café de la serpiente funcional 🐍\n",
    "\n",
    "\n",
    "> **Pregunta ❓:** ¿Cómo podríamos transformar el control de flujo del café a una función?\n",
    "\n",
    "Código original:\n",
    "\n",
    "```python\n",
    "pedido = 'café'\n",
    "\n",
    "if 'té' == pedido:\n",
    "    print('Enseguida le traigo su 🍵.')\n",
    "    \n",
    "elif pedido == 'café':\n",
    "    print('Enseguida le traigo su ☕.')\n",
    "    \n",
    "else:\n",
    "    print(\"No tenemos lo que nos está pidiendo\")\n",
    "\n",
    "```"
   ]
  },
  {
   "cell_type": "code",
   "execution_count": null,
   "metadata": {},
   "outputs": [],
   "source": [
    "# respuesta...\n",
    "def atender(pedido):\n",
    "    if 'té' == pedido:\n",
    "        return 'Enseguida le traigo su 🍵.'\n",
    "    \n",
    "    elif pedido == 'café':\n",
    "        return 'Enseguida le traigo su ☕.'\n",
    "\n",
    "    else:\n",
    "        return \"No tenemos lo que nos está pidiendo\"\n",
    "        \n",
    "    \n",
    "pedido = \"té\"\n",
    "atender(pedido)"
   ]
  },
  {
   "cell_type": "code",
   "execution_count": null,
   "metadata": {},
   "outputs": [],
   "source": [
    "pedido = \"café\"\n",
    "atender(pedido)"
   ]
  },
  {
   "cell_type": "markdown",
   "metadata": {},
   "source": [
    "---"
   ]
  },
  {
   "cell_type": "markdown",
   "metadata": {},
   "source": [
    "### Elementos extra de la sintáxis de funciones\n",
    "\n",
    "#### Parámetros nombrados"
   ]
  },
  {
   "cell_type": "markdown",
   "metadata": {},
   "source": [
    "Las funciones de python tambíen aceptan parámetros nombrados. Es decir, al invocar la función indicarle especificamente el valor de cada parámetro por su nombre."
   ]
  },
  {
   "cell_type": "code",
   "execution_count": null,
   "metadata": {},
   "outputs": [],
   "source": [
    "def sumar(a, b):\n",
    "    c = a + b\n",
    "    return c"
   ]
  },
  {
   "cell_type": "code",
   "execution_count": null,
   "metadata": {
    "ExecuteTime": {
     "end_time": "2021-03-24T19:36:06.139377Z",
     "start_time": "2021-03-24T19:36:06.120379Z"
    }
   },
   "outputs": [],
   "source": [
    "sumar(a=10, b=20)"
   ]
  },
  {
   "cell_type": "code",
   "execution_count": null,
   "metadata": {
    "ExecuteTime": {
     "end_time": "2021-03-24T19:36:19.661112Z",
     "start_time": "2021-03-24T19:36:19.643112Z"
    }
   },
   "outputs": [],
   "source": [
    "sumar(b=10, a=20)"
   ]
  },
  {
   "cell_type": "markdown",
   "metadata": {},
   "source": [
    "> **Pregunta ❓**: ¿Puede tener 0 parámetros una función?¿Y pueden tener n?"
   ]
  },
  {
   "cell_type": "markdown",
   "metadata": {},
   "source": [
    "#### Cero parámetros\n",
    "\n",
    "Una función puede ser ejecutada sin necesidad de tener parámetros.\n",
    "En este caso (idealmente) la función siempre debería hacer la misma acción."
   ]
  },
  {
   "cell_type": "code",
   "execution_count": null,
   "metadata": {
    "ExecuteTime": {
     "end_time": "2021-03-24T19:37:26.217558Z",
     "start_time": "2021-03-24T19:37:26.198563Z"
    }
   },
   "outputs": [],
   "source": [
    "def hola_mundo():\n",
    "    print('Hola!😊')\n",
    "\n",
    "hola_mundo()"
   ]
  },
  {
   "cell_type": "markdown",
   "metadata": {},
   "source": [
    "#### N parámetros\n",
    "\n",
    "Una función puede tomar n parámetros no previamente definidos. \n",
    "Esto lo logra a través del parámetro `*args`, el cuál actua como una tupla (tupla = lista inmutable):"
   ]
  },
  {
   "cell_type": "code",
   "execution_count": null,
   "metadata": {
    "ExecuteTime": {
     "end_time": "2021-03-24T19:40:13.564653Z",
     "start_time": "2021-03-24T19:40:13.555653Z"
    }
   },
   "outputs": [],
   "source": [
    "def funcion_n_parametros(*args):\n",
    "    print(\n",
    "        'Los parámetros entregados son:',\n",
    "        args\n",
    "    )\n",
    "\n",
    "funcion_n_parametros(1, 2, 3, 4, 5, 6, 7, 8, 9, 10, 11, 12)"
   ]
  },
  {
   "cell_type": "markdown",
   "metadata": {},
   "source": [
    "¿Cuál es la utilidad de esto?"
   ]
  },
  {
   "cell_type": "code",
   "execution_count": null,
   "metadata": {},
   "outputs": [],
   "source": [
    "def suma_n(*args): \n",
    "    acum = 0\n",
    "    for i in args:\n",
    "        acum += i\n",
    "    return acum\n",
    "\n",
    "suma_n(1, 2, 3, 4, 5, 6, 7, 8, 9, 10, 11, 12)"
   ]
  },
  {
   "cell_type": "markdown",
   "metadata": {},
   "source": [
    "#### N Parámetros nombrados\n",
    "\n",
    "Las funciones también pueden tomar n parámetros nombrados a través de `**kwargs`, el cúal se comporta como un diccionario."
   ]
  },
  {
   "cell_type": "code",
   "execution_count": null,
   "metadata": {},
   "outputs": [],
   "source": [
    "def funcion_n_parametros_nombrados(*args, **kwargs): \n",
    "    print(kwargs)\n",
    "    \n",
    "argumentos = {\n",
    "    'param_1': True, \n",
    "    'param_2': False, \n",
    "    'param_5': False,\n",
    "}\n",
    "\n",
    "funcion_n_parametros_nombrados(param_1 = 1, param_2 = 2)"
   ]
  },
  {
   "cell_type": "markdown",
   "metadata": {},
   "source": [
    "#### Valores por defecto"
   ]
  },
  {
   "cell_type": "markdown",
   "metadata": {},
   "source": [
    "Los parámetros también pueden tener valores por defecto:\n",
    "\n",
    "\n",
    "> **Nota 📝:** Los parámetros con valores por defecto deben ser declarados a la derecha de todos aquellos parámetros sin valores predefinidos.\n"
   ]
  },
  {
   "cell_type": "code",
   "execution_count": null,
   "metadata": {
    "ExecuteTime": {
     "end_time": "2021-03-24T19:42:01.164527Z",
     "start_time": "2021-03-24T19:42:01.146528Z"
    }
   },
   "outputs": [],
   "source": [
    "def sumar(a, b, advertencias=False):\n",
    "    if advertencias == True:\n",
    "        print('Cuidado 👀')\n",
    "    c = a + b\n",
    "    return c"
   ]
  },
  {
   "cell_type": "code",
   "execution_count": null,
   "metadata": {
    "ExecuteTime": {
     "end_time": "2021-03-24T19:41:06.740132Z",
     "start_time": "2021-03-24T19:41:06.729133Z"
    }
   },
   "outputs": [],
   "source": [
    "sumar(10, 2)"
   ]
  },
  {
   "cell_type": "code",
   "execution_count": null,
   "metadata": {
    "ExecuteTime": {
     "end_time": "2021-03-24T19:41:13.816210Z",
     "start_time": "2021-03-24T19:41:13.803213Z"
    },
    "scrolled": true
   },
   "outputs": [],
   "source": [
    "sumar(10, b=2, advertencias=True)"
   ]
  },
  {
   "cell_type": "markdown",
   "metadata": {},
   "source": [
    "#### Retornar múltiples valores"
   ]
  },
  {
   "cell_type": "markdown",
   "metadata": {},
   "source": [
    "También se pueden retornar múltiples valores"
   ]
  },
  {
   "cell_type": "code",
   "execution_count": null,
   "metadata": {
    "ExecuteTime": {
     "end_time": "2021-03-24T19:42:52.488689Z",
     "start_time": "2021-03-24T19:42:52.470551Z"
    }
   },
   "outputs": [],
   "source": [
    "def operaciones(a, b):\n",
    "    suma = a+b\n",
    "    resta = a-b\n",
    "    mult = a*b\n",
    "    div = a/b\n",
    "    \n",
    "    return suma, resta, mult, div"
   ]
  },
  {
   "cell_type": "markdown",
   "metadata": {},
   "source": [
    "> **Pregunta ❓**: ¿Qué retorno cuando hay varias variables en el return?"
   ]
  },
  {
   "cell_type": "code",
   "execution_count": null,
   "metadata": {
    "ExecuteTime": {
     "end_time": "2021-03-24T19:43:07.637016Z",
     "start_time": "2021-03-24T19:43:07.624019Z"
    }
   },
   "outputs": [],
   "source": [
    "operaciones(5,2)"
   ]
  },
  {
   "cell_type": "code",
   "execution_count": null,
   "metadata": {},
   "outputs": [],
   "source": [
    "suma, resta, mult, div = operaciones(5,2)\n",
    "\n",
    "suma"
   ]
  },
  {
   "cell_type": "code",
   "execution_count": null,
   "metadata": {},
   "outputs": [],
   "source": [
    "resta"
   ]
  },
  {
   "cell_type": "code",
   "execution_count": null,
   "metadata": {},
   "outputs": [],
   "source": [
    "mult"
   ]
  },
  {
   "cell_type": "code",
   "execution_count": null,
   "metadata": {},
   "outputs": [],
   "source": [
    "div"
   ]
  },
  {
   "cell_type": "code",
   "execution_count": null,
   "metadata": {
    "ExecuteTime": {
     "end_time": "2021-03-24T19:43:30.351313Z",
     "start_time": "2021-03-24T19:43:30.339306Z"
    },
    "scrolled": true
   },
   "outputs": [],
   "source": [
    "type(operaciones(5,2))"
   ]
  },
  {
   "cell_type": "markdown",
   "metadata": {},
   "source": [
    "---"
   ]
  },
  {
   "cell_type": "markdown",
   "metadata": {},
   "source": [
    "## 2.- Scopes \n",
    "\n",
    "En cada función se define un entorno de variables o *namespace*. Esto quiere decir, que para cada función existe un conjunto de variables (o nombres) los cuales no tienen una relación con las variables fuera de la función. \n",
    "\n",
    "Esto permite definir el concepto de **scope**. El scope se define como un lugar delimitado en donde se define y son visibles un cierto conjunto de variables. \n",
    "\n",
    "Una de las implicancias de esta delimitación es que aquellas variables definidas dentro de un scope en particular no pueden interactuar con las de afuera de dicha área. \n"
   ]
  },
  {
   "cell_type": "markdown",
   "metadata": {},
   "source": [
    "\n",
    "En `Python` se pueden diferenciar 3 tipos de scopes:\n",
    "\n",
    "1. **Global**: variables (u objetos si se desea) definidas en el cuerpo del código.\n",
    "2. **Local**: variables definidas dentro de una función.\n",
    "3. **Built-in**: variables predefinidas por el modulo built-in's (como ```print()``` por ejemplo.)\n"
   ]
  },
  {
   "cell_type": "code",
   "execution_count": null,
   "metadata": {
    "ExecuteTime": {
     "end_time": "2021-03-24T19:45:21.182553Z",
     "start_time": "2021-03-24T19:45:21.172556Z"
    }
   },
   "outputs": [],
   "source": [
    "def suma(a, b):\n",
    "    c = a + b    \n",
    "    return c\n",
    "\n",
    "suma(10, 15)"
   ]
  },
  {
   "cell_type": "markdown",
   "metadata": {},
   "source": [
    "Notemos que si intentamos inspeccionar `c`, nos el intérprete nos va a indicar que no está definida: "
   ]
  },
  {
   "cell_type": "code",
   "execution_count": null,
   "metadata": {
    "ExecuteTime": {
     "end_time": "2021-03-24T19:45:44.129517Z",
     "start_time": "2021-03-24T19:45:44.114528Z"
    }
   },
   "outputs": [],
   "source": [
    "c"
   ]
  },
  {
   "cell_type": "markdown",
   "metadata": {},
   "source": [
    "Esto es porque `c` se definió dentro del scope de la función `suma` y no sobre el scope global."
   ]
  },
  {
   "cell_type": "markdown",
   "metadata": {},
   "source": [
    "> **Pregunta ❓**: ¿Qué sucederá en la siguiente celda?"
   ]
  },
  {
   "cell_type": "code",
   "execution_count": null,
   "metadata": {
    "ExecuteTime": {
     "end_time": "2021-03-24T19:47:02.624894Z",
     "start_time": "2021-03-24T19:47:02.608922Z"
    },
    "scrolled": true
   },
   "outputs": [],
   "source": [
    "n = 5\n",
    "\n",
    "def suma_n(a):\n",
    "    n = 10\n",
    "    c = a + n\n",
    "    return c\n",
    "\n",
    "suma_n(10)"
   ]
  },
  {
   "cell_type": "code",
   "execution_count": null,
   "metadata": {
    "ExecuteTime": {
     "end_time": "2021-03-24T19:47:06.006789Z",
     "start_time": "2021-03-24T19:47:05.996789Z"
    },
    "scrolled": true
   },
   "outputs": [],
   "source": [
    "n"
   ]
  },
  {
   "cell_type": "markdown",
   "metadata": {},
   "source": [
    "En este caso, la instrucción `n = 10` hace que `n` se modifique en el scope local de la función `suma_n`, pero esto no modifica el valor de `n` en el scope global (el de afuera).\n"
   ]
  },
  {
   "cell_type": "markdown",
   "metadata": {
    "ExecuteTime": {
     "end_time": "2021-03-24T14:20:27.993890Z",
     "start_time": "2021-03-24T14:20:27.978885Z"
    }
   },
   "source": [
    "#### Locals\n",
    "\n",
    "Pueden ver que variables hay en el scope local usando la función `locals()`"
   ]
  },
  {
   "cell_type": "code",
   "execution_count": null,
   "metadata": {
    "ExecuteTime": {
     "end_time": "2021-03-24T19:49:16.727056Z",
     "start_time": "2021-03-24T19:49:16.723056Z"
    }
   },
   "outputs": [],
   "source": [
    "n = 5\n",
    "\n",
    "def suma_n(a):\n",
    "    n = 10\n",
    "    c = a + n\n",
    "    \n",
    "    print(f'Las variables locales de la función son {locals()}')\n",
    "    \n",
    "    return c\n",
    "\n"
   ]
  },
  {
   "cell_type": "code",
   "execution_count": null,
   "metadata": {
    "ExecuteTime": {
     "end_time": "2021-03-24T19:49:18.524853Z",
     "start_time": "2021-03-24T19:49:18.514853Z"
    }
   },
   "outputs": [],
   "source": [
    "suma_n(10)"
   ]
  },
  {
   "cell_type": "markdown",
   "metadata": {},
   "source": [
    "---\n",
    "\n",
    "## 3.- Unit Testing\n",
    "\n",
    "\n",
    "El *unit testing* o pruebas unitarias es un método para comprobar el correcto funcionamiento de un segmento de código o función.\n",
    "La idea es crear casos de prueba en donde establecemos valores correctos que deberían retornar la funcion y luego comprobar que la función efectivamente los retorne. \n",
    "\n",
    "Para esto, los test que creemos deben ser determinísticos (no aleatorios) y repetibles. \n",
    "\n",
    "\n",
    "Python provee la *keyword* `assert` la cual verifica el valor de una condición: \n",
    "\n",
    "- Si es `True` continua la ejecución. \n",
    "- Si es `False`, lanza la excepción `AssertionError` y detiene la ejecución.\n",
    "\n"
   ]
  },
  {
   "cell_type": "code",
   "execution_count": null,
   "metadata": {
    "ExecuteTime": {
     "end_time": "2021-03-24T19:52:21.820347Z",
     "start_time": "2021-03-24T19:52:21.802304Z"
    }
   },
   "outputs": [],
   "source": [
    "def suma(a, b):\n",
    "    return a + b\n"
   ]
  },
  {
   "cell_type": "code",
   "execution_count": null,
   "metadata": {},
   "outputs": [],
   "source": [
    "assert 5 == suma(2, 3)"
   ]
  },
  {
   "cell_type": "code",
   "execution_count": null,
   "metadata": {
    "ExecuteTime": {
     "end_time": "2021-03-24T19:53:28.730146Z",
     "start_time": "2021-03-24T19:53:28.721136Z"
    }
   },
   "outputs": [],
   "source": [
    "# La idea es hacer varios casos de prueba unitarios.\n",
    "assert 5 == suma(2,3)\n",
    "assert suma(2, -3) == -1\n",
    "assert suma(99999,1) == 100000\n",
    "assert suma(3,3) != 5\n",
    "assert isinstance(suma(3,3.0), float)"
   ]
  },
  {
   "cell_type": "markdown",
   "metadata": {
    "ExecuteTime": {
     "end_time": "2021-03-24T15:34:18.662574Z",
     "start_time": "2021-03-24T15:34:18.647544Z"
    }
   },
   "source": [
    "### Comprobación de errores al modificar el código\n",
    "\n",
    "Si por ejemplo, ahora modifico erroneamente la función suma y y en vez de sumar, multiplico `a` por `b`, el test los test que había programado de antemano deberían fallar."
   ]
  },
  {
   "cell_type": "code",
   "execution_count": null,
   "metadata": {
    "ExecuteTime": {
     "end_time": "2021-03-24T19:53:49.277547Z",
     "start_time": "2021-03-24T19:53:49.249539Z"
    }
   },
   "outputs": [],
   "source": [
    "def suma(a, b):\n",
    "    return a * b \n",
    "\n",
    "assert suma(2,-3) == -1\n",
    "assert suma(99999,1) == 100000\n",
    "assert suma(3,3) != 5\n"
   ]
  },
  {
   "cell_type": "code",
   "execution_count": null,
   "metadata": {
    "ExecuteTime": {
     "end_time": "2021-03-24T19:54:07.915018Z",
     "start_time": "2021-03-24T19:54:07.900019Z"
    },
    "scrolled": true
   },
   "outputs": [],
   "source": [
    "# Le podemos indicar que nos entregue un mensaje de error\n",
    "\n",
    "assert suma(3,2) == 5, 'Error en suma en el test suma(3, 2)'"
   ]
  },
  {
   "cell_type": "markdown",
   "metadata": {
    "ExecuteTime": {
     "end_time": "2021-03-24T15:35:22.876002Z",
     "start_time": "2021-03-24T15:35:22.855969Z"
    }
   },
   "source": [
    "> Nota interesante 📝:\n",
    "\n",
    "    \"Program testing can be used to show the presence of bugs, but never to show their absence!\"\n",
    "    \n",
    "                                                                         —Edsger Dijkstra, 1970"
   ]
  },
  {
   "cell_type": "markdown",
   "metadata": {},
   "source": [
    "> **Pregunta ❓**: ¿Por qué en ciencia de datos nos interesaría esto 🤕?"
   ]
  },
  {
   "cell_type": "markdown",
   "metadata": {},
   "source": [
    "### Paréntesis: TDD y pruebas unitarias\n",
    "\n",
    "El test driven development (TDD) o desarrollo guiado por pruebas implica desarrollar las pruebas unitarias a las que se va a someter el software antes de escribirlo.\n",
    "De esta manera, el desarrollo se realiza atendiendo a los requisitos que se han establecido en la prueba que deberá pasar.\n",
    "\n",
    "(Fuente: https://www.yeeply.com/blog/que-son-pruebas-unitarias/)"
   ]
  },
  {
   "cell_type": "markdown",
   "metadata": {},
   "source": [
    "> **Ejercicio 💻**\n",
    "\n",
    "Implementa una función que calcule el promedio de una lista implementando:\n",
    "\n",
    "- primero los tests unitarios,\n",
    "- luego, la implementación de la función.\n",
    "\n",
    "> **Pregunta❓**: ¿Qué pasa cuando los valores son números flotantes? ¿Y strings o booleanos?."
   ]
  },
  {
   "cell_type": "code",
   "execution_count": null,
   "metadata": {
    "ExecuteTime": {
     "end_time": "2021-03-24T19:20:37.332510Z",
     "start_time": "2021-03-24T19:20:37.172Z"
    }
   },
   "outputs": [],
   "source": [
    "# respuesta..."
   ]
  },
  {
   "cell_type": "markdown",
   "metadata": {},
   "source": [
    "---"
   ]
  },
  {
   "cell_type": "markdown",
   "metadata": {},
   "source": [
    "## 4.- Referencias\n",
    "\n",
    "\n",
    "Consideremos el siguiente ejemplo:"
   ]
  },
  {
   "cell_type": "code",
   "execution_count": null,
   "metadata": {
    "ExecuteTime": {
     "end_time": "2021-03-24T20:13:12.073503Z",
     "start_time": "2021-03-24T20:13:12.069502Z"
    }
   },
   "outputs": [],
   "source": [
    "lista_1 = [1, 2, 3, 4, 5]\n",
    "lista_2 = lista_1"
   ]
  },
  {
   "cell_type": "code",
   "execution_count": null,
   "metadata": {
    "ExecuteTime": {
     "end_time": "2021-03-24T20:13:12.747512Z",
     "start_time": "2021-03-24T20:13:12.736503Z"
    },
    "scrolled": true
   },
   "outputs": [],
   "source": [
    "lista_1.append(10)\n",
    "lista_1"
   ]
  },
  {
   "cell_type": "code",
   "execution_count": null,
   "metadata": {
    "ExecuteTime": {
     "end_time": "2021-03-24T20:13:17.974439Z",
     "start_time": "2021-03-24T20:13:17.955440Z"
    },
    "scrolled": true
   },
   "outputs": [],
   "source": [
    "lista_2"
   ]
  },
  {
   "cell_type": "code",
   "execution_count": null,
   "metadata": {},
   "outputs": [],
   "source": [
    "lista_2.append(100)"
   ]
  },
  {
   "cell_type": "code",
   "execution_count": null,
   "metadata": {},
   "outputs": [],
   "source": [
    "lista_1"
   ]
  },
  {
   "cell_type": "markdown",
   "metadata": {},
   "source": [
    "> **Pregunta ❓:** ¿Por qué al modificar `lista_1`, los cambios también se ven reflejados en `lista_2`?"
   ]
  },
  {
   "cell_type": "markdown",
   "metadata": {},
   "source": [
    "Cuando asignamos una lista a una variable, lo que guardamos en la misma es en realidad una referencia a la lista y no la lista en sí. "
   ]
  },
  {
   "cell_type": "markdown",
   "metadata": {},
   "source": [
    "> **Nota 🗒️**: Referencia según la *RAE*. 9. f. Ling. Relación que se establece entre una expresión lingüística y aquello a lo que alude."
   ]
  },
  {
   "cell_type": "markdown",
   "metadata": {},
   "source": [
    "Por lo tanto, al copiar la variable a otra lo que hicimos fue copiar la referencia y no sus valores. Podemos analizar las referencias de cada variable (lugar en la dirección de memoria donde se encuentran los datos) a través de la función `id`:"
   ]
  },
  {
   "cell_type": "code",
   "execution_count": null,
   "metadata": {
    "ExecuteTime": {
     "end_time": "2021-03-24T20:14:08.735748Z",
     "start_time": "2021-03-24T20:14:08.716745Z"
    }
   },
   "outputs": [],
   "source": [
    "print(f'Identificador lista_1: {id(lista_1)}\\nIdentificador lista_2: {id(lista_2)}')"
   ]
  },
  {
   "cell_type": "markdown",
   "metadata": {
    "ExecuteTime": {
     "end_time": "2021-03-24T17:38:07.640881Z",
     "start_time": "2021-03-24T17:38:07.631840Z"
    }
   },
   "source": [
    "> **Nota**: Si realmente queremos copiar un arreglo (y cuálquier colección y estructura compleja en general) debemos utilizar la función `deepcopy()`"
   ]
  },
  {
   "cell_type": "code",
   "execution_count": null,
   "metadata": {
    "ExecuteTime": {
     "end_time": "2021-03-24T20:17:00.249507Z",
     "start_time": "2021-03-24T20:17:00.243507Z"
    }
   },
   "outputs": [],
   "source": [
    "from copy import deepcopy\n",
    "\n",
    "lista_1 = [1, 2, 3, 4, 5]\n",
    "\n",
    "lista_3 = deepcopy(lista_1)\n",
    "\n",
    "lista_1.append(10)\n",
    "\n",
    "lista_1"
   ]
  },
  {
   "cell_type": "code",
   "execution_count": null,
   "metadata": {
    "ExecuteTime": {
     "end_time": "2021-03-24T20:15:05.738891Z",
     "start_time": "2021-03-24T20:15:05.729897Z"
    },
    "scrolled": true,
    "tags": []
   },
   "outputs": [],
   "source": [
    "lista_3"
   ]
  },
  {
   "cell_type": "code",
   "execution_count": null,
   "metadata": {
    "ExecuteTime": {
     "end_time": "2021-03-24T20:15:13.563792Z",
     "start_time": "2021-03-24T20:15:13.547797Z"
    }
   },
   "outputs": [],
   "source": [
    "print(f'Identificador lista_1: {id(lista_1)}\\nIdentificador lista_3: {id(lista_3)}')"
   ]
  },
  {
   "cell_type": "markdown",
   "metadata": {},
   "source": [
    "En general, Python asignará identificadores distintos cuando creemos listas y diccionarios:"
   ]
  },
  {
   "cell_type": "markdown",
   "metadata": {},
   "source": [
    "En general existen cualidades comunes al momento de crear un docstring, estas incluyen, argumentos, atributos y resultados (returns). Los distintos estándares de creación de documentos abordan esto, dentro de los estándares más comunes se encuentran:\n",
    "\n",
    "- [Estándar google](https://github.com/google/styleguide/blob/gh-pages/pyguide.md#38-comments-and-docstrings)\n",
    "\n",
    "- [Estándar Numpy/Scipy](https://numpydoc.readthedocs.io/en/latest/format.html)\n",
    "\n",
    "Una buena guia de manejo de docstrings se puede encontrar en la [documentación oficial](https://www.python.org/dev/peps/pep-0257/) de Python."
   ]
  },
  {
   "cell_type": "code",
   "execution_count": null,
   "metadata": {
    "ExecuteTime": {
     "end_time": "2021-03-24T20:18:45.314653Z",
     "start_time": "2021-03-24T20:18:45.302653Z"
    }
   },
   "outputs": [],
   "source": [
    "dict_1 = {'key_1': 'Hola'}\n",
    "dict_2 = {'key_1': 'Hola'}\n",
    "\n",
    "print(f'Identificador dict_1: {id(dict_1)}\\nIdentificador dict_2: {id(dict_2)}')"
   ]
  },
  {
   "cell_type": "markdown",
   "metadata": {
    "ExecuteTime": {
     "end_time": "2021-03-24T17:51:53.481728Z",
     "start_time": "2021-03-24T17:51:53.472726Z"
    }
   },
   "source": [
    "¿Qué pasa ahora con los elementos inmutables como los strings?"
   ]
  },
  {
   "cell_type": "code",
   "execution_count": null,
   "metadata": {
    "ExecuteTime": {
     "end_time": "2021-03-24T20:18:04.170052Z",
     "start_time": "2021-03-24T20:18:04.163053Z"
    }
   },
   "outputs": [],
   "source": [
    "s1 = 'Hola'\n",
    "id(s1)"
   ]
  },
  {
   "cell_type": "code",
   "execution_count": null,
   "metadata": {
    "ExecuteTime": {
     "end_time": "2021-03-24T20:18:04.916052Z",
     "start_time": "2021-03-24T20:18:04.898118Z"
    }
   },
   "outputs": [],
   "source": [
    "s2 = 'Hola'\n",
    "id(s2)"
   ]
  },
  {
   "cell_type": "code",
   "execution_count": null,
   "metadata": {
    "ExecuteTime": {
     "end_time": "2021-03-24T20:18:46.450652Z",
     "start_time": "2021-03-24T20:18:46.441655Z"
    },
    "scrolled": true
   },
   "outputs": [],
   "source": [
    "id(d_1['key_1'])"
   ]
  },
  {
   "cell_type": "markdown",
   "metadata": {},
   "source": [
    "¿Y si le concatenamos otro string (similar al `append` del inicio)?"
   ]
  },
  {
   "cell_type": "code",
   "execution_count": null,
   "metadata": {
    "ExecuteTime": {
     "end_time": "2021-03-24T19:20:37.482510Z",
     "start_time": "2021-03-24T19:20:37.480Z"
    }
   },
   "outputs": [],
   "source": [
    "s3 = s1 + ', qué tal?'\n",
    "id(s3)"
   ]
  },
  {
   "cell_type": "markdown",
   "metadata": {},
   "source": [
    "> **Pregunta ❓**: ¿Por qué no se conserva el id?"
   ]
  },
  {
   "cell_type": "markdown",
   "metadata": {},
   "source": [
    "### Mutabilidad e Inmutabilidad `v2`\n",
    "\n",
    "**Recuerdo:** Cada entidad (u objeto) en python puede ser catalogada como **mutables** o **inmutables**. \n",
    "- Los objetos **mutables** son aquellos que pueden ser modificados luego de ser creados (o asignados), \n",
    "- Los objetos **inmutables** son objetos con valores fijos que no pueden ser modificados.\n"
   ]
  },
  {
   "cell_type": "markdown",
   "metadata": {},
   "source": [
    "> **Pregunta ❓**: Hasta ahora, ¿qué tipos de datos son mutables y que tipo de datos son inmutables?"
   ]
  },
  {
   "cell_type": "markdown",
   "metadata": {},
   "source": [
    "Python maneja los objetos mutables e inmutables de manera distinta.\n",
    "\n",
    "- Se utilizan objetos inmutables si se desea acceder e iterar de manera eficiente en estructuras que no cambian frecuentemente en el código. Sin embargo, **son estáticos**. Esto se evidencia al querer modificar un valor, **proceso que conlleva la creación de una copia del inmutable original.** \n",
    "\n",
    "- Los objetos mutables **se utilizan cuando se desea cambiar el tamaño o atributos de un objeto a medida que es procesado por un código**. "
   ]
  },
  {
   "cell_type": "markdown",
   "metadata": {},
   "source": [
    "### ¿Inmutables que mutan?\n",
    "\n",
    "\n",
    "> **Pregunta ❓**: ¿Qué sucede en el siguiente código?"
   ]
  },
  {
   "cell_type": "code",
   "execution_count": null,
   "metadata": {
    "ExecuteTime": {
     "end_time": "2021-03-24T20:20:09.983944Z",
     "start_time": "2021-03-24T20:20:09.978944Z"
    }
   },
   "outputs": [],
   "source": [
    "tupla = ('texto', [0,1])\n",
    "tupla"
   ]
  },
  {
   "cell_type": "code",
   "execution_count": null,
   "metadata": {
    "ExecuteTime": {
     "end_time": "2021-03-24T20:20:15.646244Z",
     "start_time": "2021-03-24T20:20:15.627246Z"
    },
    "scrolled": true,
    "tags": []
   },
   "outputs": [],
   "source": [
    "tupla[1] = [0,1,2]"
   ]
  },
  {
   "cell_type": "code",
   "execution_count": null,
   "metadata": {
    "ExecuteTime": {
     "end_time": "2021-03-24T20:20:27.266619Z",
     "start_time": "2021-03-24T20:20:27.250607Z"
    }
   },
   "outputs": [],
   "source": [
    "tupla[1]"
   ]
  },
  {
   "cell_type": "code",
   "execution_count": null,
   "metadata": {
    "ExecuteTime": {
     "end_time": "2021-03-24T20:20:53.456034Z",
     "start_time": "2021-03-24T20:20:53.442026Z"
    }
   },
   "outputs": [],
   "source": [
    "tupla[1].append(2)\n",
    "tupla"
   ]
  },
  {
   "cell_type": "markdown",
   "metadata": {},
   "source": [
    "### Argumentos de las Funciones\n",
    "\n",
    "Las referencias a objetos mutables e inmutables tienen un papel importante en la **evaluación de funciones**. \n",
    "\n",
    "Pensemos por ejemplo en la siguiente función:"
   ]
  },
  {
   "cell_type": "code",
   "execution_count": null,
   "metadata": {
    "ExecuteTime": {
     "end_time": "2021-03-24T20:21:35.166076Z",
     "start_time": "2021-03-24T20:21:35.157083Z"
    }
   },
   "outputs": [],
   "source": [
    "def cambia_elemento_0(x):\n",
    "    ''' Cambia el primer indice de una lista. '''\n",
    "    x[0] = 'cambiado'"
   ]
  },
  {
   "cell_type": "markdown",
   "metadata": {},
   "source": [
    "Si se define la lista:"
   ]
  },
  {
   "cell_type": "code",
   "execution_count": null,
   "metadata": {
    "ExecuteTime": {
     "end_time": "2021-03-24T20:21:39.441106Z",
     "start_time": "2021-03-24T20:21:39.430107Z"
    }
   },
   "outputs": [],
   "source": [
    "lista = ['no_cambiar', 2, 3, 4, 5]"
   ]
  },
  {
   "cell_type": "code",
   "execution_count": null,
   "metadata": {
    "ExecuteTime": {
     "end_time": "2021-03-24T20:22:42.069305Z",
     "start_time": "2021-03-24T20:22:42.050308Z"
    },
    "scrolled": true
   },
   "outputs": [],
   "source": [
    "cambia_elemento_0(lista)\n",
    "lista"
   ]
  },
  {
   "cell_type": "markdown",
   "metadata": {},
   "source": [
    "El elemento cambió porque le pasamos una referencia de la lista a la función. NO una copia de esta."
   ]
  },
  {
   "cell_type": "markdown",
   "metadata": {},
   "source": [
    "## 5.- Documentación"
   ]
  },
  {
   "cell_type": "markdown",
   "metadata": {},
   "source": [
    "Es muy probable que otros programadores (o uno mismo) quiera saber que hace alguna función sin tener que leer directamente el código para descifrarlo. \n",
    "\n",
    "La forma estándar de lograr esto es a través de _docstrings_, documentación escrita a mano que describe qué hace la función y opcionalmente que es lo que recibe como parámetros y que es lo que retorna. \n",
    "\n",
    "En python, el docstring de cada función es simplemente un string multi-linea y puede ser accedido a través de la función `help(nombre_función)`. Usualmente, los IDE (cómo jupyter o colab) también permiten acceder rápidamente a la documentación a través de popups u otros elementos. "
   ]
  },
  {
   "cell_type": "code",
   "execution_count": null,
   "metadata": {},
   "outputs": [],
   "source": [
    "help(print)"
   ]
  },
  {
   "cell_type": "code",
   "execution_count": null,
   "metadata": {},
   "outputs": [],
   "source": [
    "help(list)"
   ]
  },
  {
   "cell_type": "markdown",
   "metadata": {},
   "source": [
    "### Implementando docstrings\n",
    "\n",
    "Para Docstrings de una linea:\n",
    "\n",
    "\n",
    "* Se usan strings multilineas ```\"\"\" \"\"\"```, inclusive si se puede escribir todo en una linea.\n",
    "* Las comillas que inicial la documentación están en la misma linea que aquellas que la cierran.\n",
    "* El docstring es una frase que termina en punto, describe el objeto al cual se hace referencia y su efecto en la forma (accion,resultado).\n",
    "* La documentación no debe tener la \"firma\" (signature) del objeto subyacente: \n",
    "\n",
    "```python\n",
    "# Firma, mala practica:\n",
    "def funcion_suma(a,b):\n",
    "    \"\"\" funcion(a,b) -> int \"\"\"\n",
    "    return a+b\n",
    "    \n",
    "# Buena practica:\n",
    "def funcion_suma(a,b):\n",
    "    \"\"\"Suma a y b y retorna su resultado \"\"\"\n",
    "    return a+b\n",
    "```"
   ]
  },
  {
   "cell_type": "markdown",
   "metadata": {},
   "source": [
    "Docstrings multilinea:\n",
    "\n",
    "* La documentación debe estar indentada completamente.\n",
    "* La primera linea debe ser siempre un resumen corto y conciso de el propósito del objeto que se documenta.\n",
    "* Debe haber una linea en blanco luego del resumen corto. Se puede agregar una explicación más profunda posterior al espacio."
   ]
  },
  {
   "cell_type": "markdown",
   "metadata": {},
   "source": [
    "\n",
    "> **Ejercicio 📕**\n",
    "\n",
    "El estándar a seguir en este curso será el de Numpy/Scipy.\n",
    "\n",
    "1. Estudia los lineamientos que tal estándar supone.\n",
    "\n",
    "2. Aplica tales lineamientos a a los ejercicios con map/filter/reduce.\n",
    "\n",
    "3. Elija una de las funciones, para una de las cuales confeccionaste un docstring y acceda a tal documentación por medio del atributo ```help(function)```. (Desde un entorno jupyter notebook: ¿Qué ocurre se presiona las teclas ```shift+tab``` con el cursor dentro de la función? ejemplo: sum(|) ```shift+tab``` donde \"|\" es el cursor)\n",
    "\n",
    "\n",
    "---"
   ]
  },
  {
   "cell_type": "markdown",
   "metadata": {
    "tags": []
   },
   "source": [
    "## 6.- Decoradores\n",
    "\n",
    "### Potenciando el café de la serpiente\n",
    "\n",
    "Volvamos nuevamente al _café de la serpiente 🐍_."
   ]
  },
  {
   "cell_type": "code",
   "execution_count": null,
   "metadata": {},
   "outputs": [],
   "source": [
    "def atender_cafe(pedido):\n",
    "    if 'té' == pedido:\n",
    "        print('Enseguida le traigo su té 🍵.')\n",
    "    elif pedido == 'café':\n",
    "        print('Enseguida le traigo su café ☕.')\n",
    "    else:\n",
    "        print(\"No tenemos lo que nos está pidiendo\")\n",
    "\n",
    "atender(\"té\")"
   ]
  },
  {
   "cell_type": "markdown",
   "metadata": {},
   "source": [
    "> **Pregunta ❓**: Cómo podríamos desacoplar la funcionalidad de chequear el inventario del control de flujo?"
   ]
  },
  {
   "cell_type": "markdown",
   "metadata": {},
   "source": [
    "Una buena opción sería hacer una función independiente que chequee el inventario antes de ejecutar la función atender."
   ]
  },
  {
   "cell_type": "code",
   "execution_count": null,
   "metadata": {},
   "outputs": [],
   "source": [
    "inventario_cafe = ['té', 'café']\n",
    "\n",
    "def chequear_inventario(pedido, inventario):\n",
    "    if pedido not in inventario:\n",
    "        print(\"No tenemos lo que nos está pidiendo\")\n",
    "    return atender_cafe(pedido)\n",
    "        "
   ]
  },
  {
   "cell_type": "code",
   "execution_count": null,
   "metadata": {},
   "outputs": [],
   "source": [
    "inventario = ['té', 'café']\n",
    "chequear_inventario(\"té\", inventario_cafe)"
   ]
  },
  {
   "cell_type": "code",
   "execution_count": null,
   "metadata": {},
   "outputs": [],
   "source": [
    "chequear_inventario(\"café\", inventario_cafe)"
   ]
  },
  {
   "cell_type": "markdown",
   "metadata": {},
   "source": [
    "> **Pregunta ❓**: Qué pasaría si ahora quisiese hacer un software para atender por separado una pizzería y una cafetería?\n",
    "\n",
    "\n",
    "Podríamos hacer algo similar a lo anterior:"
   ]
  },
  {
   "cell_type": "code",
   "execution_count": null,
   "metadata": {},
   "outputs": [],
   "source": [
    "def atender_pizzeria(pedido):\n",
    "    if pedido == 'bebida':\n",
    "        print('Enseguida le traigo su bebida 🍹.')\n",
    "    elif pedido == 'pizza':\n",
    "        print('Enseguida le traigo su pizza 🍕.')\n",
    "    elif pedido == 'cerveza':\n",
    "        print('Enseguida le traigo su cerveza 🍻.')\n",
    "\n",
    "\n",
    "def chequear_inventario_pizzeria(pedido, inventario):\n",
    "    if pedido not in inventario:\n",
    "        print(\"No tenemos lo que nos está pidiendo!\")    \n",
    "    return atender_pizzeria(pedido)\n"
   ]
  },
  {
   "cell_type": "code",
   "execution_count": null,
   "metadata": {},
   "outputs": [],
   "source": [
    "inventario_pizzeria = [\"bebida\", \"pizza\", \"cerveza\"]\n",
    "\n",
    "chequear_inventario_pizzeria(\"pizza\", inventario_pizzeria)"
   ]
  },
  {
   "cell_type": "markdown",
   "metadata": {},
   "source": [
    "**Caso 1:** si respuesta es `'té'`, entonces servir el té:"
   ]
  },
  {
   "cell_type": "code",
   "execution_count": null,
   "metadata": {},
   "outputs": [],
   "source": [
    "chequear_inventario_pizzeria(\"té\", inventario_pizzeria)"
   ]
  },
  {
   "cell_type": "markdown",
   "metadata": {},
   "source": [
    "Sin embargo estamos repitiendo nuevamente código.\n",
    "\n",
    "> **Pregunta: ❓** Con lo que hemos visto, cómo podríamos arreglar esto?"
   ]
  },
  {
   "cell_type": "code",
   "execution_count": null,
   "metadata": {},
   "outputs": [],
   "source": [
    "def chequear_inventario(funcion_atender, pedido, inventario):\n",
    "    if pedido not in inventario:\n",
    "        print(\"No tenemos lo que nos está pidiendo!\")    \n",
    "    return funcion_atender(pedido)"
   ]
  },
  {
   "cell_type": "code",
   "execution_count": null,
   "metadata": {},
   "outputs": [],
   "source": [
    "chequear_inventario(atender_pizzeria, \"pizza\", inventario_pizzeria)"
   ]
  },
  {
   "cell_type": "code",
   "execution_count": null,
   "metadata": {},
   "outputs": [],
   "source": [
    "chequear_inventario(atender_cafe, \"pizza\", inventario_pizzeria)"
   ]
  },
  {
   "cell_type": "markdown",
   "metadata": {},
   "source": [
    "### Implementar decoradores\n",
    "\n",
    "Python implementa una sintaxis especial para este tipo de funciones que reciben funciones: decoradores. En términos símples los decoradores son herramientas que pemiten **modificar el comportamiento de una función ya existente sin tener que modificar su código.** Por esto es el nombre, solo decoran, pero no modifican la esctructura."
   ]
  },
  {
   "cell_type": "code",
   "execution_count": null,
   "metadata": {},
   "outputs": [],
   "source": [
    "def chequear_inventario(funcion_atender):\n",
    "    \n",
    "    def wrapper(pedido, inventario):\n",
    "        if pedido not in inventario:\n",
    "            print(\"No tenemos lo que nos está pidiendo!\")    \n",
    "        return funcion_atender(pedido)\n",
    "    \n",
    "    return wrapper\n",
    "            \n",
    "@chequear_inventario\n",
    "def atender_pizzeria(pedido):\n",
    "    if pedido == 'bebida':\n",
    "        print('Enseguida le traigo su bebida 🍹.')\n",
    "    elif pedido == 'pizza':\n",
    "        print('Enseguida le traigo su pizza 🍕.')\n",
    "    elif pedido == 'cerveza':\n",
    "        print('Enseguida le traigo su cerveza 🍻.')\n",
    "\n",
    "@chequear_inventario\n",
    "def atender_cafe(pedido):\n",
    "    if 'té' == pedido:\n",
    "        print('Enseguida le traigo su té 🍵.')\n",
    "    elif pedido == 'café':\n",
    "        print('Enseguida le traigo su café ☕.')\n"
   ]
  },
  {
   "cell_type": "code",
   "execution_count": null,
   "metadata": {},
   "outputs": [],
   "source": [
    "atender_pizzeria"
   ]
  },
  {
   "cell_type": "code",
   "execution_count": null,
   "metadata": {},
   "outputs": [],
   "source": [
    "inventario_pizzeria = [\"bebida\", \"pizza\", \"cerveza\"]\n",
    "\n",
    "atender_pizzeria(\"pizza\", inventario_pizzeria)"
   ]
  },
  {
   "cell_type": "code",
   "execution_count": null,
   "metadata": {},
   "outputs": [],
   "source": [
    "atender_cafe(\"café\", inventario_cafe)"
   ]
  },
  {
   "cell_type": "markdown",
   "metadata": {},
   "source": [
    "> **Nota 🗒️:** Técnicamente no está correcto el decorador anterior ya que aún estamos entregando el inventario como parámetro de la función. \n",
    "\n",
    "Para corregir esto hay que agregar una nueva función intermedia y volver a decorar, solo que ahora pasando el inventario como parámetro del decorador."
   ]
  },
  {
   "cell_type": "code",
   "execution_count": null,
   "metadata": {},
   "outputs": [],
   "source": [
    "def chequear_inventario(inventario):\n",
    "    def decorador_interno(funcion_atender):\n",
    "        def wrapper(pedido):\n",
    "            if pedido not in inventario:\n",
    "                print(\"No tenemos lo que nos está pidiendo!\")    \n",
    "            return funcion_atender(pedido)\n",
    "    \n",
    "        return wrapper\n",
    "    \n",
    "    return decorador_interno\n",
    "            \n",
    "@chequear_inventario(inventario_pizzeria)\n",
    "def atender_pizzeria(pedido):\n",
    "    if pedido == 'bebida':\n",
    "        print('Enseguida le traigo su bebida 🍹.')\n",
    "    elif pedido == 'pizza':\n",
    "        print('Enseguida le traigo su pizza 🍕.')\n",
    "    elif pedido == 'cerveza':\n",
    "        print('Enseguida le traigo su cerveza 🍻.')\n",
    "\n",
    "@chequear_inventario(inventario_cafe)\n",
    "def atender_cafe(pedido):\n",
    "    if 'té' == pedido:\n",
    "        print('Enseguida le traigo su té 🍵.')\n",
    "    elif pedido == 'café':\n",
    "        print('Enseguida le traigo su café ☕.')\n"
   ]
  },
  {
   "cell_type": "code",
   "execution_count": null,
   "metadata": {},
   "outputs": [],
   "source": [
    "atender_cafe(\"café\")"
   ]
  },
  {
   "cell_type": "code",
   "execution_count": null,
   "metadata": {},
   "outputs": [],
   "source": [
    "atender_cafe(\"pizza\")"
   ]
  },
  {
   "cell_type": "markdown",
   "metadata": {},
   "source": [
    "> **Nota 🗒️**: Los decoradores son ampliamente utilizados en el desarrollo en Python. Sin embargo, es poco probable que nos toque implementar decoradores, solo utilizarlos 😉."
   ]
  },
  {
   "cell_type": "markdown",
   "metadata": {
    "tags": []
   },
   "source": [
    "---\n",
    "\n",
    "## 7. Programación Modular y Librerías\n",
    "\n",
    "La programación modular es una técnica de de diseño de software en la que se dividen los componentes del software en distintos módulos. Este principio es agnóstico al paradigma de programación usado y está presente en la gran mayoría de proyectos de software. \n",
    "\n",
    "La idea es reducir la interdependencia entre componentes del sistema, generando piezas (o módulos) lo más independiente posibles. \n",
    "\n",
    "Python posee un manejo de módulos nativo (que ya hemos visto antes) el cuál sigue la siguiente sintaxis:\n",
    "\n",
    "```python\n",
    "import module_name\n",
    "```\n",
    "\n",
    "\n",
    "\n",
    "Un modulo en Python es simplemente un archivo con extensión ```.py``` que contiene código Python (correcto). \n",
    "Un módulo puede contener una cantidad arbitraria de objetos, como por ejemplo, clases, archivos funciones, etc. "
   ]
  },
  {
   "cell_type": "markdown",
   "metadata": {},
   "source": [
    "### Paquetes y Librerías"
   ]
  },
  {
   "cell_type": "markdown",
   "metadata": {},
   "source": [
    "Los paquetes que pueden ser descargados desde **PyPi** se agregan al entorno de ejecución por lo que pueden ser directamente importados y tratados como módulos. Por ejemplo:"
   ]
  },
  {
   "cell_type": "code",
   "execution_count": null,
   "metadata": {},
   "outputs": [],
   "source": [
    "import plotly.express as px\n",
    "\n",
    "\n",
    "df = px.data.iris()\n",
    "fig = px.scatter(df, x=\"sepal_width\", y=\"sepal_length\", color=\"species\", marginal_y=\"violin\",\n",
    "           marginal_x=\"box\", template=\"simple_white\")\n",
    "fig.show()"
   ]
  },
  {
   "cell_type": "markdown",
   "metadata": {
    "tags": []
   },
   "source": [
    "### Proyectos de Python\n",
    "\n",
    "Usualmente los proyectos de python contienen una estructura relativamente similar en donde en ciertas carpetas ubicadas en la raiz del proyecto se guarda el código (`src` o una carpeta con el nombre del proyecto por ejemplo) mientras que en otras se guarda la documentación (`docs`) entre otros.\n",
    "\n",
    "Luego, para importar se utilizan rutas relativas a la raiz del proyecto. Por ejemplo, para la siguiente estructura:\n",
    "\n",
    "    ├── proyecto1\n",
    "    │   ├── modulo1\n",
    "    │   │   ├── submodulo1\n",
    "    │   ├── modulo2\n",
    "    ├── docs\n",
    "    │   notebooks\n",
    "    ├── README\n",
    "    ├── LICENSE\n",
    "\n",
    "Podemos importar `funcion_1`, `funcion_2` de la siguiente manera:\n",
    "\n",
    "```python\n",
    "from proyecto1.modulo1.submodulo1 import funcion_1, funcion_2\n",
    "\n",
    "```\n",
    "\n",
    "Noten que se recorre toda la ruta desde la raiz del proyecto. \n",
    "\n",
    "\n",
    "> **Nota 🗒️**: Si bien para el proceso exploratorio de datos y prototipos de sistemas predictivos se puede almacenar todo en notebooks, el paso a producción de un sistema analítico o predictivo requiere si o si una estructura modular, en donde se separen y ordenen los componentes según su funcionalidad.\n",
    "\n",
    "\n"
   ]
  },
  {
   "cell_type": "markdown",
   "metadata": {},
   "source": [
    "\n",
    "### Cookiecutter y Proyecto de Data Science\n",
    "\n",
    "Generalmente es mucho más facil empezar con un template de proyecto que desde 0, ya que comunmente estos template orientan el trabajo y contienen rutinas repetitivas que son sencillas de estandarizar y adaptar. Python posee la herramienta [`Cookiecutter`](https://cookiecutter.readthedocs.io/en/stable/) la cuál funciona como generador de proyectos configurables. Los proyectos se generan a partir de [templates contribuidos por la comunidad](https://github.com/topics/cookiecutter-template).\n",
    "\n",
    "En particular, nuestro caso de estudio es el [cookiecutter para data science](https://drivendata.github.io/cookiecutter-data-science/), el cuál está enfocado en proveer una robusta estructura de proyectos enfocada en resolver problemas analíticos o predictivos.\n",
    "\n",
    "Noten que la documentación de este tiene fuertes opiniones sobre como tratar los datos, la estructura de los archivos, los notebooks, entre otras cosas. Es muy recomendable su lectura 🌟!!!\n",
    "\n",
    "La estructura de carpetas que genera es el siguiente:\n",
    "\n",
    "\n",
    "    ├── LICENSE\n",
    "    ├── Makefile           <- Makefile with commands like `make data` or `make train`\n",
    "    ├── README.md          <- The top-level README for developers using this project.\n",
    "    ├── data\n",
    "    │   ├── external       <- Data from third party sources.\n",
    "    │   ├── interim        <- Intermediate data that has been transformed.\n",
    "    │   ├── processed      <- The final, canonical data sets for modeling.\n",
    "    │   └── raw            <- The original, immutable data dump.\n",
    "    │\n",
    "    ├── docs               <- A default Sphinx project; see sphinx-doc.org for details\n",
    "    │\n",
    "    ├── models             <- Trained and serialized models, model predictions, or model summaries\n",
    "    │\n",
    "    ├── notebooks          <- Jupyter notebooks. Naming convention is a number (for ordering),\n",
    "    │                         the creator's initials, and a short `-` delimited description, e.g.\n",
    "    │                         `1.0-jqp-initial-data-exploration`.\n",
    "    │\n",
    "    ├── references         <- Data dictionaries, manuals, and all other explanatory materials.\n",
    "    │\n",
    "    ├── reports            <- Generated analysis as HTML, PDF, LaTeX, etc.\n",
    "    │   └── figures        <- Generated graphics and figures to be used in reporting\n",
    "    │\n",
    "    ├── requirements.txt   <- The requirements file for reproducing the analysis environment, e.g.\n",
    "    │                         generated with `pip freeze > requirements.txt`\n",
    "    │\n",
    "    ├── setup.py           <- Make this project pip installable with `pip install -e`\n",
    "    ├── src                <- Source code for use in this project.\n",
    "    │   ├── __init__.py    <- Makes src a Python module\n",
    "    │   │\n",
    "    │   ├── data           <- Scripts to download or generate data\n",
    "    │   │   └── make_dataset.py\n",
    "    │   │\n",
    "    │   ├── features       <- Scripts to turn raw data into features for modeling\n",
    "    │   │   └── build_features.py\n",
    "    │   │\n",
    "    │   ├── models         <- Scripts to train models and then use trained models to make\n",
    "    │   │   │                 predictions\n",
    "    │   │   ├── predict_model.py\n",
    "    │   │   └── train_model.py\n",
    "    │   │\n",
    "    │   └── visualization  <- Scripts to create exploratory and results oriented visualizations\n",
    "    │       └── visualize.py\n",
    "    │\n",
    "    └── tox.ini            <- tox file with settings for running tox; see tox.readthedocs.io\n",
    "\n",
    "\n",
    "> **Ejercicio: 📕**: Utilizar cookiecutter para generar un proyecto de ejemplo."
   ]
  }
 ],
 "metadata": {
  "kernelspec": {
   "display_name": "Python 3 (ipykernel)",
   "language": "python",
   "name": "python3"
  },
  "language_info": {
   "codemirror_mode": {
    "name": "ipython",
    "version": 3
   },
   "file_extension": ".py",
   "mimetype": "text/x-python",
   "name": "python",
   "nbconvert_exporter": "python",
   "pygments_lexer": "ipython3",
   "version": "3.9.16"
  },
  "nbTranslate": {
   "displayLangs": [
    "es",
    "en"
   ],
   "hotkey": "alt-t",
   "langInMainMenu": true,
   "sourceLang": "en",
   "targetLang": "es",
   "useGoogleTranslate": true
  },
  "toc": {
   "base_numbering": 1,
   "nav_menu": {},
   "number_sections": true,
   "sideBar": true,
   "skip_h1_title": false,
   "title_cell": "Table of Contents",
   "title_sidebar": "Contents",
   "toc_cell": false,
   "toc_position": {
    "height": "calc(100% - 180px)",
    "left": "10px",
    "top": "150px",
    "width": "269.717px"
   },
   "toc_section_display": true,
   "toc_window_display": false
  },
  "varInspector": {
   "cols": {
    "lenName": 16,
    "lenType": 16,
    "lenVar": 40
   },
   "kernels_config": {
    "python": {
     "delete_cmd_postfix": "",
     "delete_cmd_prefix": "del ",
     "library": "var_list.py",
     "varRefreshCmd": "print(var_dic_list())"
    },
    "r": {
     "delete_cmd_postfix": ") ",
     "delete_cmd_prefix": "rm(",
     "library": "var_list.r",
     "varRefreshCmd": "cat(var_dic_list()) "
    }
   },
   "types_to_exclude": [
    "module",
    "function",
    "builtin_function_or_method",
    "instance",
    "_Feature"
   ],
   "window_display": false
  }
 },
 "nbformat": 4,
 "nbformat_minor": 4
}
