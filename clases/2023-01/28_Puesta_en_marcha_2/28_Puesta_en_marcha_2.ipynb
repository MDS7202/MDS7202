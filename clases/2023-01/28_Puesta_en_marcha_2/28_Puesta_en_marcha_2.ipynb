{
 "cells": [
  {
   "attachments": {},
   "cell_type": "markdown",
   "id": "1111d3ad-458e-475b-ab30-0017e4117e8a",
   "metadata": {},
   "source": [
    "# Clase 27: Puesta en Marcha\n",
    "\n",
    "**MDS7202: Laboratorio de Programación Científica para Ciencia de Datos**\n",
    "\n",
    "**Profesor: Pablo Badilla**\n",
    "\n",
    "- Comprender los distintos componentes de los sistemas basados en ML como la arquitectura cliente-servidor, URL, HTTP, APIs REST, etc...\n",
    "- Introducir el despliegue de modelos usando `FastAPI`.\n"
   ]
  },
  {
   "attachments": {},
   "cell_type": "markdown",
   "id": "4dfb7dbf-21ce-4311-978f-7cf326cd7643",
   "metadata": {},
   "source": [
    "## Puesta en Marcha\n"
   ]
  },
  {
   "attachments": {},
   "cell_type": "markdown",
   "id": "f5c4d2e7-5a24-4284-95b8-ea518af8900e",
   "metadata": {},
   "source": [
    "La puesta en marcha o _despliegue_ consiste en el flujo de trabajo necesario para hacer que una aplicación pasa de un estado de desarrollo experimental (prueba de concepto) a ser una versión de _producción_ donde los usuarios finales tendrá acceso.\n",
    "\n",
    "Para poner en marcha nuestros proyectos de ciencia de datos, haremos uso de _aplicaciones web_. Estas consisten programas diseñados para ejecutarse desde un servidor web. Esta aproximación nos permitirá facilitar resultados y visualizaciones a una amplia variedad de sistemas.\n"
   ]
  },
  {
   "attachments": {},
   "cell_type": "markdown",
   "id": "fe45169b-a475-4896-b4f9-6fe093d8f226",
   "metadata": {},
   "source": [
    "### Arquitectura Cliente-Servidor\n",
    "\n",
    "Según [Wikipedia](https://es.wikipedia.org/wiki/Cliente-servidor):\n",
    "\n",
    "> La arquitectura cliente-servidor es un modelo de diseño de software en el que las tareas se reparten entre los proveedores de recursos o servicios, llamados servidores, y los demandantes, llamados clientes. Un cliente realiza peticiones a otro programa, el servidor, quien le da respuesta.\n"
   ]
  },
  {
   "attachments": {},
   "cell_type": "markdown",
   "id": "b54d9750-31dc-4ad7-bd3d-9d0f2cb73c99",
   "metadata": {},
   "source": [
    "<div align='center'>\n",
    "<img alt='Arquitectura Cliente Servidor' src='https://raw.githubusercontent.com/MDS7202/MDS7202/main/recursos/2023-01/27_puesta_en_produccion/cliente_servidor.png' width=800/>\n",
    "</div>\n"
   ]
  },
  {
   "attachments": {},
   "cell_type": "markdown",
   "id": "2cb8ce02-8b0b-4903-8927-4e10ca77da24",
   "metadata": {},
   "source": [
    "#### Cliente\n",
    "\n",
    "Demanda algún servicio. Sus características principales son:\n",
    "\n",
    "- Inicia solicitudes (peticiones) y espera respuestas del servidor.\n",
    "- Puede ser a través de una _interfaz de programación de aplicaciones (API en inglés) o una interfaz gráfica_ (como el navegador o un juego ejecutable).\n"
   ]
  },
  {
   "attachments": {},
   "cell_type": "markdown",
   "id": "bfd3ecf3-0b77-40c4-922a-d2fae03af825",
   "metadata": {},
   "source": [
    "#### Servidor\n",
    "\n",
    "Provee de servicios. Sus características principales son:\n",
    "\n",
    "- Reciben las solicitudes de los clientes, las procesan y luego envían una respuesta.\n",
    "- Pueden aceptar varias solicitudes de distintos clientes a la vez.\n"
   ]
  },
  {
   "attachments": {},
   "cell_type": "markdown",
   "id": "0d4563fd-7d58-46dd-8b14-6acb9c6a2e5c",
   "metadata": {},
   "source": [
    "### Características de esta arquitectura\n",
    "\n",
    "Una de las principales ventajas es que permite centralizar la información y las responsabilidades de proveer servicios.\n",
    "Es decir, solo el servidor será el encargado de manejar las solicitudes, acceder y modificar a las bases de datos, procesar dicha información y responder a sus clientes. Es decir, será _la única fuente de verdad_.\n"
   ]
  },
  {
   "attachments": {},
   "cell_type": "markdown",
   "id": "1d305c91-e357-4c44-b189-3a141689e5da",
   "metadata": {},
   "source": [
    "### Opciones y Frameworks\n"
   ]
  },
  {
   "attachments": {},
   "cell_type": "markdown",
   "id": "d03324be-7fb2-49fc-b281-5b980eb06325",
   "metadata": {},
   "source": [
    "Según [Wikipedia](https://es.wikipedia.org/wiki/Framework):\n",
    "\n",
    "> _Framework_: Un entorno de trabajo es un conjunto estandarizado de conceptos, prácticas y criterios para resolver un tipo de problemática particular y que sirve como referencia, para enfrentar y resolver nuevos problemas de índole similar.\n",
    "\n",
    "_¡Ya han estado utilizando un framework todo este tiempo!: `scikit-learn` y sus famosos `fit` y `predict`._\n",
    "\n",
    "Existe una gigantezca variedad de frameworks (y combinaciones de estos) que implementan esta arquitectura.\n",
    "\n",
    "##### Servidor (y ocasionalmente también clientes):\n",
    "\n",
    "- `Django`\n",
    "- `Flask`\n",
    "- `FastAPI`\n",
    "\n",
    "##### Clientes (Interfaces Gráficas) (la mayoría en JavaScript):\n",
    "\n",
    "- `React`\n",
    "- `Vue`\n",
    "\n",
    "Una combinación de estas tecnologías se denomina _stack tecnológico_.\n",
    "\n",
    "> **Pregunta**: ¿Conocen alguno de estos?¿En que consisten?\n",
    "\n",
    "Visiten los siguientes links para ver buenas comparativas entre estos frameworks:\n",
    "\n",
    "- https://www.section.io/engineering-education/choosing-between-django-flask-and-fastapi/\n",
    "- https://www.analyticsvidhya.com/blog/2020/11/fastapi-the-right-replacement-for-flask/\n",
    "\n",
    "En nuestro caso en particular, veremos el framework (de moda) `FastAPI`.\n",
    "\n",
    "> **Pregunta:** ¿Qué es una API?\n"
   ]
  },
  {
   "attachments": {},
   "cell_type": "markdown",
   "id": "6c79093d-766c-4280-b484-8bfd9d90985c",
   "metadata": {},
   "source": [
    "---\n",
    "\n",
    "## Interfaz de Programación de Aplicaciones / Application Programming Interface (API)\n",
    "\n",
    "Es el conjunto se funciones que expone una librería para interactuar con ella.\n",
    "<div align='center'>\n",
    "<img src='https://raw.githubusercontent.com/MDS7202/MDS7202/main/recursos/2023-01/27_puesta_en_produccion/pandas_api.png' width=800/>\n",
    "</div>\n",
    "\n",
    "<div align='center'>\n",
    "<p>Ejemplo de una API: la API de pandas</p>\n",
    "</div>\n",
    "\n",
    "---\n",
    "\n",
    "En el caso en particular de los servidores web, la API (también conocidas como **Endpoints**) es el conjunto de funciones que nos permiten interactuar con el servidor. Comunmente esto se hace a través de **URLs** parametrizadas:\n",
    "\n",
    "<div align='center'>\n",
    "<img src='https://raw.githubusercontent.com/MDS7202/MDS7202/main/recursos/2023-01/27_puesta_en_produccion/api_maps.png' width=800/>\n",
    "</div>\n",
    "\n",
    "<div align='center'>\n",
    "<img src='https://raw.githubusercontent.com/MDS7202/MDS7202/main/recursos/2023-01/27_puesta_en_produccion/api_maps_2.png' width=800/>\n",
    "</div>\n",
    "\n",
    "<div align='center'>\n",
    "Ejemplo de una web API: La API de <a href='https://developers.google.com/maps/documentation/urls/get-started/'>Google Maps</a>\n",
    "</div>\n"
   ]
  },
  {
   "attachments": {},
   "cell_type": "markdown",
   "id": "f6c78a1e-d98c-46a1-8055-e96d08051544",
   "metadata": {},
   "source": [
    "### URL\n",
    "\n",
    "Una Localizador de recursos uniforme o Uniform Resource Locator (URL) es simplemente un localizador de un recurso web más un protocolo que permite acceder a este.\n",
    "\n",
    "Ejemplo:\n",
    "\n",
    "De: https://en.wikipedia.org/wiki/URL\n",
    "\n",
    "- Protocolo: `https`\n",
    "- Dirección del recurso: `en.wikipedia.org`\n",
    "- Archivo: `URL` (que se interpreta como html)\n",
    "\n",
    "#### Sintaxis de una URI\n",
    "\n",
    "<img src='https://raw.githubusercontent.com/MDS7202/MDS7202/main/recursos/2023-01/27_puesta_en_produccion/sintaxis_uri.png' />\n",
    "\n",
    "<div align='center'>\n",
    "Fuente:  <a href='https://en.wikipedia.org/wiki/URL' />URL en Wikipedia</a>\n",
    "</div>\n"
   ]
  },
  {
   "attachments": {},
   "cell_type": "markdown",
   "id": "7142a2dc-0a85-4c73-a884-0a566c79880a",
   "metadata": {},
   "source": [
    "### Protocolo de transferencia de hipertexto o HTTP y HTTPS\n",
    "\n",
    "[Protocolo de Comunicaciones según Wikipedia](https://es.wikipedia.org/wiki/Protocolo_de_comunicaciones):\n",
    "\n",
    "> Es un sistema de reglas que permiten que dos o más entidades (computadoras, teléfonos celulares, etc.) de un sistema de comunicación se comuniquen entre ellas con el fin de transmitir información por medio de cualquier tipo de variación de una magnitud física.\n",
    "\n",
    "> Se trata de las reglas o el estándar que define la sintaxis, semántica y sincronización de la comunicación, así como también los posibles métodos de recuperación de errores\n",
    "\n",
    "HTTP permite la transmisión de información a través de archivos html y otros formatos.\n",
    "Esta especifica en los mensajes:\n",
    "\n",
    "- Cabeceras (Headers) que indican el protocolo.\n",
    "- Método de petición (`GET`, `POST`, `PUT`, `DELETE`, `HEAD`, `OPTION`, etc...)\n",
    "\n",
    "  - `GET`: Solicitud para pedir datos.\n",
    "  - `POST`: Enviar datos (en el cuerpo de la solicitud) comunmente para ser procesados y guardados.\n",
    "  - `DELETE`: Elimina un dato.\n",
    "  - `PUT`: Actualiza un dato.\n",
    "\n",
    "- Códigos de respuesta (https://http.cat/)\n",
    "  - `1xx` - Respuestas informativas\n",
    "  - `2xx` - Respuestas satisfactorias\n",
    "  - `3xx` - Redirecciones\n",
    "  - `4xx` - Errores de los clientes\n",
    "  - `5xx` - Errores de los servidores\n",
    "- Cuerpo del mensaje\n",
    "\n",
    "#### Ejemplo:\n",
    "\n",
    "Petición del Cliente:\n",
    "\n",
    "     GET /index.html HTTP/1.1\n",
    "     Host: www.example.com\n",
    "     Referer: www.google.com\n",
    "     User-Agent: Mozilla/5.0 (X11; Linux x86_64; rv:45.0) Gecko/20100101 Firefox/45.0\n",
    "     Connection: keep-alive\n",
    "\n",
    "Respuesta del Servidor:\n",
    "\n",
    "    HTTP/1.1 200 OK\n",
    "    Date: Fri, 31 Dec 2003 23:59:59 GMT\n",
    "    Content-Type: text/html\n",
    "    Content-Length: 1221\n",
    "\n",
    "    <html lang=\"eo\">\n",
    "    <head>\n",
    "    <meta charset=\"utf-8\">\n",
    "    <title>Título del sitio</title>\n",
    "    </head>\n",
    "    <body>\n",
    "    <h1>Página principal de tuHost</h1>\n",
    "    (Contenido)\n",
    "      .\n",
    "      .\n",
    "      .\n",
    "    </body>\n",
    "    </html>\n",
    "\n",
    "HTTPS indica que el protocolo es seguro mediante cifrado de la información.\n"
   ]
  },
  {
   "attachments": {},
   "cell_type": "markdown",
   "id": "192865b6-c5fa-4e6b-8ec8-3e44d42bf066",
   "metadata": {},
   "source": [
    "### API REST\n",
    "\n",
    "Lo último antes de empezar a ver código es hacer una recapitulación de todo lo que hemos visto, lo que puede ser agrupado dentro de un cómodo conjunto de principios llamado **Transferencia de estado representacional o representational state transfer (REST)**.\n",
    "\n",
    "Según [Wikipedia](https://es.wikipedia.org/wiki/Protocolo_de_transferencia_de_hipertexto), es un conjunto de principios para diseñar aplicaciones web:\n",
    "\n",
    "- **Un protocolo cliente/servidor sin estado:** cada mensaje HTTP contiene toda la información necesaria para comprender la petición. Como resultado, ni el cliente ni el servidor necesitan recordar ningún estado de las comunicaciones entre mensajes. En la práctica, muchas aplicaciones utilizan cookies y otros mecanismos para mantener el estado de la sesión.\n",
    "\n",
    "- Un conjunto de operaciones bien definidas que se aplican a todos los recursos de información: HTTP en sí define un conjunto pequeño de operaciones, las más importantes son **POST, GET, PUT y DELETE**. Con frecuencia estas operaciones se equiparan a las operaciones **CRUD en bases de datos** (CLAB en castellano: crear,leer,actualizar,borrar) que se requieren para la persistencia de datos.\n",
    "\n",
    "- **Una sintaxis universal para identificar los recursos.** En un sistema REST, cada recurso es direccionable únicamente a través de su **URI**.\n",
    "\n",
    "- El **uso de hipermedios**, tanto para la información de la aplicación como para las transiciones de estado de la aplicación: la representación de este estado en un sistema REST son típicamente **HTML o XML**. Como resultado de esto, es posible navegar de un recurso REST a muchos otros, simplemente siguiendo enlaces sin requerir el uso de registros u otra infraestructura adicional.\n"
   ]
  },
  {
   "attachments": {},
   "cell_type": "markdown",
   "id": "ee951d5c-0291-469e-9814-e4366f1c45dc",
   "metadata": {},
   "source": [
    "---\n",
    "\n",
    "## `FastAPI`\n",
    "\n",
    "<img src='https://raw.githubusercontent.com/MDS7202/MDS7202/main/recursos/2023-01/27_puesta_en_produccion/fastapi.png'/>\n",
    "\n",
    "En palabras simples, `FastAPI` es un framework moderno y de alto rendimiento para crear APIs en python (tipado 👀).\n",
    "\n",
    "Su documentación se encuenta en la página oficial: https://fastapi.tiangolo.com/es/\n",
    "\n",
    "Una de las grandes ventajas es que genera interfaces interactivas y documentación con la que podemos interactuar.\n"
   ]
  },
  {
   "attachments": {},
   "cell_type": "markdown",
   "id": "18096d64-0d9e-4ab4-b592-51f2e219dd17",
   "metadata": {},
   "source": [
    "## Tipos en Python\n",
    "\n",
    "Desde python 3.6 existe un soporte para tipo de datos. Es decir, anotaciones que indican con que dato estamos trabajando.\n",
    "Esto permite (a través de linters como `mypy` o `pyre`, etc...) darle más robustez al código que estamos creando.\n"
   ]
  },
  {
   "cell_type": "code",
   "execution_count": 1,
   "id": "bc8e5a30-77ab-42f6-a53b-2d0ee70b024d",
   "metadata": {},
   "outputs": [],
   "source": [
    "# ejecuten esto (en el archivo ejemplo_tipos.py) con en un editor de texto\n",
    "# que tenga soporte de tipos (mypy, pyre, etc...)\n",
    "\n",
    "\n",
    "def unir_nombre(primer_nombre, apellido):\n",
    "    return primer_nombre + \" \" + apellido\n",
    "\n",
    "\n",
    "def unir_nombre_tipado(primer_nombre: str, apellido: str):\n",
    "    return primer_nombre + \" \" + apellido\n",
    "\n",
    "\n",
    "def unir_nombre_edad(primer_nombre: str, apellido: str, edad):\n",
    "    return primer_nombre + apellido + edad\n",
    "\n",
    "\n",
    "def unir_nombre_edad(primer_nombre: str, apellido: str, edad: int):\n",
    "    return primer_nombre + apellido + str(edad)\n",
    "\n",
    "\n",
    "def unir_nombre_edad(primer_nombre: str, apellido: str, edad: int) -> str:\n",
    "    return primer_nombre + apellido + str(edad)"
   ]
  },
  {
   "attachments": {},
   "cell_type": "markdown",
   "id": "bbccea1f-160c-40d8-942f-94120898eb8a",
   "metadata": {},
   "source": [
    "#### Tipos simples permitidos en python\n",
    "\n",
    "- `int`\n",
    "- `float`\n",
    "- `bool`\n",
    "- `bytes`\n",
    "- `str`\n"
   ]
  },
  {
   "attachments": {},
   "cell_type": "markdown",
   "id": "ea475639-1256-43df-b0a7-ab7c5d52db04",
   "metadata": {},
   "source": [
    "#### Subtipos y Genéricos\n",
    "\n",
    "Permiten definir estructuras que se basan en ciertos tipos, como listas de strings, etc...\n",
    "\n",
    "- `List[str]` # lista de strings\n",
    "- `List[float]` # lista de floats\n",
    "- `List[Union[int, float]]` # lista de enteros y flotantes.\n",
    "- `Tuple[str, str, str]` # tupla de 3 strings.\n",
    "- `Optional[str]` # la variable puede ser str o None.\n",
    "- `Set[str]` # conjunto de strings.\n",
    "- `Dict[str, Any]` # definición de un diccionario con llaves str y valores cualquiera.\n",
    "\n",
    "Se importan desde el paquete `typing` a través `from typing import List, Any`\n"
   ]
  },
  {
   "attachments": {},
   "cell_type": "markdown",
   "id": "a818e94c-7cc2-4e7b-8405-5362614019a3",
   "metadata": {},
   "source": [
    "### Primeros pasos con `FastAPI`\n",
    "\n",
    "La clase continuará en la ejecución de los distintos scripts que contienen servidores implementados en FastApi.\n"
   ]
  },
  {
   "cell_type": "code",
   "execution_count": 2,
   "id": "23900658-45e1-41ed-a562-a6629cef2346",
   "metadata": {},
   "outputs": [
    {
     "name": "stdout",
     "output_type": "stream",
     "text": [
      "Requirement already satisfied: fastapi[all] in /home/pablo/miniconda3/lib/python3.9/site-packages (0.70.0)\n",
      "Requirement already satisfied: starlette==0.16.0 in /home/pablo/miniconda3/lib/python3.9/site-packages (from fastapi[all]) (0.16.0)\n",
      "Requirement already satisfied: pydantic!=1.7,!=1.7.1,!=1.7.2,!=1.7.3,!=1.8,!=1.8.1,<2.0.0,>=1.6.2 in /home/pablo/miniconda3/lib/python3.9/site-packages (from fastapi[all]) (1.8.2)\n",
      "Requirement already satisfied: requests<3.0.0,>=2.24.0 in /home/pablo/miniconda3/lib/python3.9/site-packages (from fastapi[all]) (2.26.0)\n",
      "Requirement already satisfied: ujson<5.0.0,>=4.0.1 in /home/pablo/miniconda3/lib/python3.9/site-packages (from fastapi[all]) (4.3.0)\n",
      "Requirement already satisfied: email_validator<2.0.0,>=1.1.1 in /home/pablo/miniconda3/lib/python3.9/site-packages (from fastapi[all]) (1.1.3)\n",
      "Requirement already satisfied: orjson<4.0.0,>=3.2.1 in /home/pablo/miniconda3/lib/python3.9/site-packages (from fastapi[all]) (3.6.4)\n",
      "Requirement already satisfied: python-multipart<0.0.6,>=0.0.5 in /home/pablo/miniconda3/lib/python3.9/site-packages (from fastapi[all]) (0.0.5)\n",
      "Requirement already satisfied: uvicorn[standard]<0.16.0,>=0.12.0 in /home/pablo/miniconda3/lib/python3.9/site-packages (from fastapi[all]) (0.15.0)\n",
      "Requirement already satisfied: pyyaml<6.0.0,>=5.3.1 in /home/pablo/miniconda3/lib/python3.9/site-packages (from fastapi[all]) (5.4.1)\n",
      "Requirement already satisfied: jinja2<4.0.0,>=2.11.2 in /home/pablo/miniconda3/lib/python3.9/site-packages (from fastapi[all]) (3.0.2)\n",
      "Requirement already satisfied: itsdangerous<3.0.0,>=1.1.0 in /home/pablo/miniconda3/lib/python3.9/site-packages (from fastapi[all]) (2.0.1)\n",
      "Requirement already satisfied: anyio<4,>=3.0.0 in /home/pablo/miniconda3/lib/python3.9/site-packages (from starlette==0.16.0->fastapi[all]) (3.4.0)\n",
      "Requirement already satisfied: idna>=2.0.0 in /home/pablo/miniconda3/lib/python3.9/site-packages (from email_validator<2.0.0,>=1.1.1->fastapi[all]) (3.2)\n",
      "Requirement already satisfied: dnspython>=1.15.0 in /home/pablo/miniconda3/lib/python3.9/site-packages (from email_validator<2.0.0,>=1.1.1->fastapi[all]) (2.1.0)\n",
      "Requirement already satisfied: MarkupSafe>=2.0 in /home/pablo/miniconda3/lib/python3.9/site-packages (from jinja2<4.0.0,>=2.11.2->fastapi[all]) (2.0.1)\n",
      "Requirement already satisfied: typing-extensions>=3.7.4.3 in /home/pablo/miniconda3/lib/python3.9/site-packages (from pydantic!=1.7,!=1.7.1,!=1.7.2,!=1.7.3,!=1.8,!=1.8.1,<2.0.0,>=1.6.2->fastapi[all]) (3.10.0.2)\n",
      "Requirement already satisfied: six>=1.4.0 in /home/pablo/miniconda3/lib/python3.9/site-packages (from python-multipart<0.0.6,>=0.0.5->fastapi[all]) (1.15.0)\n",
      "Requirement already satisfied: urllib3<1.27,>=1.21.1 in /home/pablo/miniconda3/lib/python3.9/site-packages (from requests<3.0.0,>=2.24.0->fastapi[all]) (1.26.7)\n",
      "Requirement already satisfied: certifi>=2017.4.17 in /home/pablo/miniconda3/lib/python3.9/site-packages (from requests<3.0.0,>=2.24.0->fastapi[all]) (2021.10.8)\n",
      "Requirement already satisfied: charset-normalizer~=2.0.0 in /home/pablo/miniconda3/lib/python3.9/site-packages (from requests<3.0.0,>=2.24.0->fastapi[all]) (2.0.4)\n",
      "Requirement already satisfied: click>=7.0 in /home/pablo/miniconda3/lib/python3.9/site-packages (from uvicorn[standard]<0.16.0,>=0.12.0->fastapi[all]) (7.1.2)\n",
      "Requirement already satisfied: asgiref>=3.4.0 in /home/pablo/miniconda3/lib/python3.9/site-packages (from uvicorn[standard]<0.16.0,>=0.12.0->fastapi[all]) (3.4.1)\n",
      "Requirement already satisfied: h11>=0.8 in /home/pablo/miniconda3/lib/python3.9/site-packages (from uvicorn[standard]<0.16.0,>=0.12.0->fastapi[all]) (0.12.0)\n",
      "Requirement already satisfied: uvloop!=0.15.0,!=0.15.1,>=0.14.0 in /home/pablo/miniconda3/lib/python3.9/site-packages (from uvicorn[standard]<0.16.0,>=0.12.0->fastapi[all]) (0.16.0)\n",
      "Requirement already satisfied: watchgod>=0.6 in /home/pablo/miniconda3/lib/python3.9/site-packages (from uvicorn[standard]<0.16.0,>=0.12.0->fastapi[all]) (0.7)\n",
      "Requirement already satisfied: httptools==0.2.* in /home/pablo/miniconda3/lib/python3.9/site-packages (from uvicorn[standard]<0.16.0,>=0.12.0->fastapi[all]) (0.2.0)\n",
      "Requirement already satisfied: python-dotenv>=0.13 in /home/pablo/miniconda3/lib/python3.9/site-packages (from uvicorn[standard]<0.16.0,>=0.12.0->fastapi[all]) (0.19.2)\n",
      "Requirement already satisfied: websockets>=9.1 in /home/pablo/miniconda3/lib/python3.9/site-packages (from uvicorn[standard]<0.16.0,>=0.12.0->fastapi[all]) (10.1)\n",
      "Requirement already satisfied: sniffio>=1.1 in /home/pablo/miniconda3/lib/python3.9/site-packages (from anyio<4,>=3.0.0->starlette==0.16.0->fastapi[all]) (1.2.0)\n"
     ]
    }
   ],
   "source": [
    "# instalarlo en caso que no esté\n",
    "import sys\n",
    "\n",
    "!{sys.executable} -m pip install fastapi[all]"
   ]
  },
  {
   "attachments": {},
   "cell_type": "markdown",
   "id": "2324c89a-0c2b-4a41-9437-2ed1db54180d",
   "metadata": {
    "tags": []
   },
   "source": [
    "## Pequeño ejemplo con Iris\n",
    "\n",
    "![Iris Dataset](https://raw.githubusercontent.com/MDS7202/MDS7202/main/recursos/2023-01/27_puesta_en_produccion/iris.png)\n"
   ]
  },
  {
   "cell_type": "code",
   "execution_count": 6,
   "id": "055f791e-aefb-433e-b14d-557a12de676b",
   "metadata": {},
   "outputs": [],
   "source": [
    "from sklearn.datasets import load_iris"
   ]
  },
  {
   "cell_type": "code",
   "execution_count": 7,
   "id": "4e76c79a-6f57-4909-812d-5c72d5e46f9b",
   "metadata": {},
   "outputs": [],
   "source": [
    "iris_df = load_iris(as_frame=True)"
   ]
  },
  {
   "cell_type": "code",
   "execution_count": 8,
   "id": "862b89e4-b100-48ec-980b-1f9c34071731",
   "metadata": {},
   "outputs": [
    {
     "data": {
      "text/html": [
       "<div>\n",
       "<style scoped>\n",
       "    .dataframe tbody tr th:only-of-type {\n",
       "        vertical-align: middle;\n",
       "    }\n",
       "\n",
       "    .dataframe tbody tr th {\n",
       "        vertical-align: top;\n",
       "    }\n",
       "\n",
       "    .dataframe thead th {\n",
       "        text-align: right;\n",
       "    }\n",
       "</style>\n",
       "<table border=\"1\" class=\"dataframe\">\n",
       "  <thead>\n",
       "    <tr style=\"text-align: right;\">\n",
       "      <th></th>\n",
       "      <th>sepal length (cm)</th>\n",
       "      <th>sepal width (cm)</th>\n",
       "      <th>petal length (cm)</th>\n",
       "      <th>petal width (cm)</th>\n",
       "    </tr>\n",
       "  </thead>\n",
       "  <tbody>\n",
       "    <tr>\n",
       "      <th>0</th>\n",
       "      <td>5.1</td>\n",
       "      <td>3.5</td>\n",
       "      <td>1.4</td>\n",
       "      <td>0.2</td>\n",
       "    </tr>\n",
       "    <tr>\n",
       "      <th>1</th>\n",
       "      <td>4.9</td>\n",
       "      <td>3.0</td>\n",
       "      <td>1.4</td>\n",
       "      <td>0.2</td>\n",
       "    </tr>\n",
       "    <tr>\n",
       "      <th>2</th>\n",
       "      <td>4.7</td>\n",
       "      <td>3.2</td>\n",
       "      <td>1.3</td>\n",
       "      <td>0.2</td>\n",
       "    </tr>\n",
       "    <tr>\n",
       "      <th>3</th>\n",
       "      <td>4.6</td>\n",
       "      <td>3.1</td>\n",
       "      <td>1.5</td>\n",
       "      <td>0.2</td>\n",
       "    </tr>\n",
       "    <tr>\n",
       "      <th>4</th>\n",
       "      <td>5.0</td>\n",
       "      <td>3.6</td>\n",
       "      <td>1.4</td>\n",
       "      <td>0.2</td>\n",
       "    </tr>\n",
       "    <tr>\n",
       "      <th>...</th>\n",
       "      <td>...</td>\n",
       "      <td>...</td>\n",
       "      <td>...</td>\n",
       "      <td>...</td>\n",
       "    </tr>\n",
       "    <tr>\n",
       "      <th>145</th>\n",
       "      <td>6.7</td>\n",
       "      <td>3.0</td>\n",
       "      <td>5.2</td>\n",
       "      <td>2.3</td>\n",
       "    </tr>\n",
       "    <tr>\n",
       "      <th>146</th>\n",
       "      <td>6.3</td>\n",
       "      <td>2.5</td>\n",
       "      <td>5.0</td>\n",
       "      <td>1.9</td>\n",
       "    </tr>\n",
       "    <tr>\n",
       "      <th>147</th>\n",
       "      <td>6.5</td>\n",
       "      <td>3.0</td>\n",
       "      <td>5.2</td>\n",
       "      <td>2.0</td>\n",
       "    </tr>\n",
       "    <tr>\n",
       "      <th>148</th>\n",
       "      <td>6.2</td>\n",
       "      <td>3.4</td>\n",
       "      <td>5.4</td>\n",
       "      <td>2.3</td>\n",
       "    </tr>\n",
       "    <tr>\n",
       "      <th>149</th>\n",
       "      <td>5.9</td>\n",
       "      <td>3.0</td>\n",
       "      <td>5.1</td>\n",
       "      <td>1.8</td>\n",
       "    </tr>\n",
       "  </tbody>\n",
       "</table>\n",
       "<p>150 rows × 4 columns</p>\n",
       "</div>"
      ],
      "text/plain": [
       "     sepal length (cm)  sepal width (cm)  petal length (cm)  petal width (cm)\n",
       "0                  5.1               3.5                1.4               0.2\n",
       "1                  4.9               3.0                1.4               0.2\n",
       "2                  4.7               3.2                1.3               0.2\n",
       "3                  4.6               3.1                1.5               0.2\n",
       "4                  5.0               3.6                1.4               0.2\n",
       "..                 ...               ...                ...               ...\n",
       "145                6.7               3.0                5.2               2.3\n",
       "146                6.3               2.5                5.0               1.9\n",
       "147                6.5               3.0                5.2               2.0\n",
       "148                6.2               3.4                5.4               2.3\n",
       "149                5.9               3.0                5.1               1.8\n",
       "\n",
       "[150 rows x 4 columns]"
      ]
     },
     "execution_count": 8,
     "metadata": {},
     "output_type": "execute_result"
    }
   ],
   "source": [
    "X = iris_df[\"data\"]\n",
    "X"
   ]
  },
  {
   "cell_type": "code",
   "execution_count": 10,
   "id": "3d7b8b4c-42cc-405d-97a8-cb04ceb3adc2",
   "metadata": {},
   "outputs": [
    {
     "data": {
      "text/plain": [
       "0         setosa\n",
       "1         setosa\n",
       "2         setosa\n",
       "3         setosa\n",
       "4         setosa\n",
       "         ...    \n",
       "145    virginica\n",
       "146    virginica\n",
       "147    virginica\n",
       "148    virginica\n",
       "149    virginica\n",
       "Name: target, Length: 150, dtype: object"
      ]
     },
     "execution_count": 10,
     "metadata": {},
     "output_type": "execute_result"
    }
   ],
   "source": [
    "y = iris_df[\"target\"].replace({0: \"setosa\", 1: \"versicolor\", 2: \"virginica\"})\n",
    "y"
   ]
  },
  {
   "cell_type": "code",
   "execution_count": 11,
   "id": "d545e0ea-9b9d-469b-9899-073647521f30",
   "metadata": {},
   "outputs": [],
   "source": [
    "from sklearn.naive_bayes import GaussianNB\n",
    "from sklearn.model_selection import train_test_split\n",
    "\n",
    "X_train, X_test, y_train, y_test = train_test_split(X, y, test_size=0.3)\n",
    "\n",
    "gnb = GaussianNB().fit(X_train, y_train)\n",
    "\n",
    "y_pred = gnb.predict(X_test)"
   ]
  },
  {
   "cell_type": "code",
   "execution_count": 6,
   "id": "d8e1b1e5-93f8-413e-b4c6-8d2aced36e84",
   "metadata": {},
   "outputs": [
    {
     "name": "stdout",
     "output_type": "stream",
     "text": [
      "              precision    recall  f1-score   support\n",
      "\n",
      "      setosa       1.00      1.00      1.00        11\n",
      "  versicolor       0.93      1.00      0.97        14\n",
      "   virginica       1.00      0.95      0.97        20\n",
      "\n",
      "    accuracy                           0.98        45\n",
      "   macro avg       0.98      0.98      0.98        45\n",
      "weighted avg       0.98      0.98      0.98        45\n",
      "\n"
     ]
    }
   ],
   "source": [
    "from sklearn.metrics import classification_report\n",
    "\n",
    "print(classification_report(y_test, y_pred))"
   ]
  },
  {
   "attachments": {},
   "cell_type": "markdown",
   "id": "0e5501a1-34b5-44b6-86ad-c2232d7b557b",
   "metadata": {},
   "source": [
    "### Persistencia de Modelos\n",
    "\n",
    "Podemos guardar un modelo de scikit-learn (ya sea un modelo simple o un pipeline con muchas transformaciones incluidas) usando `joblib`.\n"
   ]
  },
  {
   "cell_type": "code",
   "execution_count": 12,
   "id": "81043cc4-5109-45b2-9838-aa625cb0d5d7",
   "metadata": {},
   "outputs": [
    {
     "data": {
      "text/html": [
       "<style>#sk-container-id-1 {color: black;background-color: white;}#sk-container-id-1 pre{padding: 0;}#sk-container-id-1 div.sk-toggleable {background-color: white;}#sk-container-id-1 label.sk-toggleable__label {cursor: pointer;display: block;width: 100%;margin-bottom: 0;padding: 0.3em;box-sizing: border-box;text-align: center;}#sk-container-id-1 label.sk-toggleable__label-arrow:before {content: \"▸\";float: left;margin-right: 0.25em;color: #696969;}#sk-container-id-1 label.sk-toggleable__label-arrow:hover:before {color: black;}#sk-container-id-1 div.sk-estimator:hover label.sk-toggleable__label-arrow:before {color: black;}#sk-container-id-1 div.sk-toggleable__content {max-height: 0;max-width: 0;overflow: hidden;text-align: left;background-color: #f0f8ff;}#sk-container-id-1 div.sk-toggleable__content pre {margin: 0.2em;color: black;border-radius: 0.25em;background-color: #f0f8ff;}#sk-container-id-1 input.sk-toggleable__control:checked~div.sk-toggleable__content {max-height: 200px;max-width: 100%;overflow: auto;}#sk-container-id-1 input.sk-toggleable__control:checked~label.sk-toggleable__label-arrow:before {content: \"▾\";}#sk-container-id-1 div.sk-estimator input.sk-toggleable__control:checked~label.sk-toggleable__label {background-color: #d4ebff;}#sk-container-id-1 div.sk-label input.sk-toggleable__control:checked~label.sk-toggleable__label {background-color: #d4ebff;}#sk-container-id-1 input.sk-hidden--visually {border: 0;clip: rect(1px 1px 1px 1px);clip: rect(1px, 1px, 1px, 1px);height: 1px;margin: -1px;overflow: hidden;padding: 0;position: absolute;width: 1px;}#sk-container-id-1 div.sk-estimator {font-family: monospace;background-color: #f0f8ff;border: 1px dotted black;border-radius: 0.25em;box-sizing: border-box;margin-bottom: 0.5em;}#sk-container-id-1 div.sk-estimator:hover {background-color: #d4ebff;}#sk-container-id-1 div.sk-parallel-item::after {content: \"\";width: 100%;border-bottom: 1px solid gray;flex-grow: 1;}#sk-container-id-1 div.sk-label:hover label.sk-toggleable__label {background-color: #d4ebff;}#sk-container-id-1 div.sk-serial::before {content: \"\";position: absolute;border-left: 1px solid gray;box-sizing: border-box;top: 0;bottom: 0;left: 50%;z-index: 0;}#sk-container-id-1 div.sk-serial {display: flex;flex-direction: column;align-items: center;background-color: white;padding-right: 0.2em;padding-left: 0.2em;position: relative;}#sk-container-id-1 div.sk-item {position: relative;z-index: 1;}#sk-container-id-1 div.sk-parallel {display: flex;align-items: stretch;justify-content: center;background-color: white;position: relative;}#sk-container-id-1 div.sk-item::before, #sk-container-id-1 div.sk-parallel-item::before {content: \"\";position: absolute;border-left: 1px solid gray;box-sizing: border-box;top: 0;bottom: 0;left: 50%;z-index: -1;}#sk-container-id-1 div.sk-parallel-item {display: flex;flex-direction: column;z-index: 1;position: relative;background-color: white;}#sk-container-id-1 div.sk-parallel-item:first-child::after {align-self: flex-end;width: 50%;}#sk-container-id-1 div.sk-parallel-item:last-child::after {align-self: flex-start;width: 50%;}#sk-container-id-1 div.sk-parallel-item:only-child::after {width: 0;}#sk-container-id-1 div.sk-dashed-wrapped {border: 1px dashed gray;margin: 0 0.4em 0.5em 0.4em;box-sizing: border-box;padding-bottom: 0.4em;background-color: white;}#sk-container-id-1 div.sk-label label {font-family: monospace;font-weight: bold;display: inline-block;line-height: 1.2em;}#sk-container-id-1 div.sk-label-container {text-align: center;}#sk-container-id-1 div.sk-container {/* jupyter's `normalize.less` sets `[hidden] { display: none; }` but bootstrap.min.css set `[hidden] { display: none !important; }` so we also need the `!important` here to be able to override the default hidden behavior on the sphinx rendered scikit-learn.org. See: https://github.com/scikit-learn/scikit-learn/issues/21755 */display: inline-block !important;position: relative;}#sk-container-id-1 div.sk-text-repr-fallback {display: none;}</style><div id=\"sk-container-id-1\" class=\"sk-top-container\"><div class=\"sk-text-repr-fallback\"><pre>GaussianNB()</pre><b>In a Jupyter environment, please rerun this cell to show the HTML representation or trust the notebook. <br />On GitHub, the HTML representation is unable to render, please try loading this page with nbviewer.org.</b></div><div class=\"sk-container\" hidden><div class=\"sk-item\"><div class=\"sk-estimator sk-toggleable\"><input class=\"sk-toggleable__control sk-hidden--visually\" id=\"sk-estimator-id-1\" type=\"checkbox\" checked><label for=\"sk-estimator-id-1\" class=\"sk-toggleable__label sk-toggleable__label-arrow\">GaussianNB</label><div class=\"sk-toggleable__content\"><pre>GaussianNB()</pre></div></div></div></div></div>"
      ],
      "text/plain": [
       "GaussianNB()"
      ]
     },
     "execution_count": 12,
     "metadata": {},
     "output_type": "execute_result"
    }
   ],
   "source": [
    "gnb"
   ]
  },
  {
   "attachments": {},
   "cell_type": "markdown",
   "id": "93ea59b1",
   "metadata": {},
   "source": [
    "### Guardar el modelo"
   ]
  },
  {
   "cell_type": "code",
   "execution_count": 13,
   "id": "403eb0e4-ec9a-4056-8b61-8c315a80c775",
   "metadata": {},
   "outputs": [
    {
     "data": {
      "text/plain": [
       "['iris_naive_bayes.joblib']"
      ]
     },
     "execution_count": 13,
     "metadata": {},
     "output_type": "execute_result"
    }
   ],
   "source": [
    "from joblib import dump, load\n",
    "\n",
    "# guardamos usando dump\n",
    "dump(gnb, \"iris_naive_bayes.joblib\")"
   ]
  },
  {
   "attachments": {},
   "cell_type": "markdown",
   "id": "6eebb718",
   "metadata": {},
   "source": [
    "### Cargar el modelo\n",
    "\n",
    "\n",
    "> **Pregunta ❓: ¿Qué consecuencia tendrá guardar el modelo en un computador y cargarlo en otro?**\n",
    "\n",
    "> **Pregunta ❓**: ¿Qué pasa si solo guardo el modelo y no una etapa anterior, como un `ColumnTransformer`?¿Cuál es la importancia del pipeline?"
   ]
  },
  {
   "cell_type": "code",
   "execution_count": 14,
   "id": "13a944e1-8ce2-403e-a84a-83166d16a53f",
   "metadata": {},
   "outputs": [
    {
     "data": {
      "text/html": [
       "<style>#sk-container-id-2 {color: black;background-color: white;}#sk-container-id-2 pre{padding: 0;}#sk-container-id-2 div.sk-toggleable {background-color: white;}#sk-container-id-2 label.sk-toggleable__label {cursor: pointer;display: block;width: 100%;margin-bottom: 0;padding: 0.3em;box-sizing: border-box;text-align: center;}#sk-container-id-2 label.sk-toggleable__label-arrow:before {content: \"▸\";float: left;margin-right: 0.25em;color: #696969;}#sk-container-id-2 label.sk-toggleable__label-arrow:hover:before {color: black;}#sk-container-id-2 div.sk-estimator:hover label.sk-toggleable__label-arrow:before {color: black;}#sk-container-id-2 div.sk-toggleable__content {max-height: 0;max-width: 0;overflow: hidden;text-align: left;background-color: #f0f8ff;}#sk-container-id-2 div.sk-toggleable__content pre {margin: 0.2em;color: black;border-radius: 0.25em;background-color: #f0f8ff;}#sk-container-id-2 input.sk-toggleable__control:checked~div.sk-toggleable__content {max-height: 200px;max-width: 100%;overflow: auto;}#sk-container-id-2 input.sk-toggleable__control:checked~label.sk-toggleable__label-arrow:before {content: \"▾\";}#sk-container-id-2 div.sk-estimator input.sk-toggleable__control:checked~label.sk-toggleable__label {background-color: #d4ebff;}#sk-container-id-2 div.sk-label input.sk-toggleable__control:checked~label.sk-toggleable__label {background-color: #d4ebff;}#sk-container-id-2 input.sk-hidden--visually {border: 0;clip: rect(1px 1px 1px 1px);clip: rect(1px, 1px, 1px, 1px);height: 1px;margin: -1px;overflow: hidden;padding: 0;position: absolute;width: 1px;}#sk-container-id-2 div.sk-estimator {font-family: monospace;background-color: #f0f8ff;border: 1px dotted black;border-radius: 0.25em;box-sizing: border-box;margin-bottom: 0.5em;}#sk-container-id-2 div.sk-estimator:hover {background-color: #d4ebff;}#sk-container-id-2 div.sk-parallel-item::after {content: \"\";width: 100%;border-bottom: 1px solid gray;flex-grow: 1;}#sk-container-id-2 div.sk-label:hover label.sk-toggleable__label {background-color: #d4ebff;}#sk-container-id-2 div.sk-serial::before {content: \"\";position: absolute;border-left: 1px solid gray;box-sizing: border-box;top: 0;bottom: 0;left: 50%;z-index: 0;}#sk-container-id-2 div.sk-serial {display: flex;flex-direction: column;align-items: center;background-color: white;padding-right: 0.2em;padding-left: 0.2em;position: relative;}#sk-container-id-2 div.sk-item {position: relative;z-index: 1;}#sk-container-id-2 div.sk-parallel {display: flex;align-items: stretch;justify-content: center;background-color: white;position: relative;}#sk-container-id-2 div.sk-item::before, #sk-container-id-2 div.sk-parallel-item::before {content: \"\";position: absolute;border-left: 1px solid gray;box-sizing: border-box;top: 0;bottom: 0;left: 50%;z-index: -1;}#sk-container-id-2 div.sk-parallel-item {display: flex;flex-direction: column;z-index: 1;position: relative;background-color: white;}#sk-container-id-2 div.sk-parallel-item:first-child::after {align-self: flex-end;width: 50%;}#sk-container-id-2 div.sk-parallel-item:last-child::after {align-self: flex-start;width: 50%;}#sk-container-id-2 div.sk-parallel-item:only-child::after {width: 0;}#sk-container-id-2 div.sk-dashed-wrapped {border: 1px dashed gray;margin: 0 0.4em 0.5em 0.4em;box-sizing: border-box;padding-bottom: 0.4em;background-color: white;}#sk-container-id-2 div.sk-label label {font-family: monospace;font-weight: bold;display: inline-block;line-height: 1.2em;}#sk-container-id-2 div.sk-label-container {text-align: center;}#sk-container-id-2 div.sk-container {/* jupyter's `normalize.less` sets `[hidden] { display: none; }` but bootstrap.min.css set `[hidden] { display: none !important; }` so we also need the `!important` here to be able to override the default hidden behavior on the sphinx rendered scikit-learn.org. See: https://github.com/scikit-learn/scikit-learn/issues/21755 */display: inline-block !important;position: relative;}#sk-container-id-2 div.sk-text-repr-fallback {display: none;}</style><div id=\"sk-container-id-2\" class=\"sk-top-container\"><div class=\"sk-text-repr-fallback\"><pre>GaussianNB()</pre><b>In a Jupyter environment, please rerun this cell to show the HTML representation or trust the notebook. <br />On GitHub, the HTML representation is unable to render, please try loading this page with nbviewer.org.</b></div><div class=\"sk-container\" hidden><div class=\"sk-item\"><div class=\"sk-estimator sk-toggleable\"><input class=\"sk-toggleable__control sk-hidden--visually\" id=\"sk-estimator-id-2\" type=\"checkbox\" checked><label for=\"sk-estimator-id-2\" class=\"sk-toggleable__label sk-toggleable__label-arrow\">GaussianNB</label><div class=\"sk-toggleable__content\"><pre>GaussianNB()</pre></div></div></div></div></div>"
      ],
      "text/plain": [
       "GaussianNB()"
      ]
     },
     "execution_count": 14,
     "metadata": {},
     "output_type": "execute_result"
    }
   ],
   "source": [
    "# cargamos usando load\n",
    "gnb_cargado = load(\"iris_naive_bayes.joblib\")\n",
    "gnb_cargado"
   ]
  },
  {
   "attachments": {},
   "cell_type": "markdown",
   "id": "f51c38a0",
   "metadata": {},
   "source": [
    "Podemos ver que tanto el objeto como las métricas de evaluación son las mismas."
   ]
  },
  {
   "cell_type": "code",
   "execution_count": 15,
   "id": "e8b6d4fc",
   "metadata": {},
   "outputs": [
    {
     "name": "stdout",
     "output_type": "stream",
     "text": [
      "              precision    recall  f1-score   support\n",
      "\n",
      "      setosa       1.00      1.00      1.00        15\n",
      "  versicolor       0.92      1.00      0.96        12\n",
      "   virginica       1.00      0.94      0.97        18\n",
      "\n",
      "    accuracy                           0.98        45\n",
      "   macro avg       0.97      0.98      0.98        45\n",
      "weighted avg       0.98      0.98      0.98        45\n",
      "\n"
     ]
    }
   ],
   "source": [
    "from sklearn.metrics import classification_report\n",
    "\n",
    "\n",
    "y_pred = gnb_cargado.predict(X_test)\n",
    "\n",
    "print(classification_report(y_test, y_pred))"
   ]
  },
  {
   "cell_type": "code",
   "execution_count": 16,
   "id": "6b565ff9-f188-4c82-b296-f3ba9553ab26",
   "metadata": {},
   "outputs": [
    {
     "data": {
      "text/html": [
       "<div>\n",
       "<style scoped>\n",
       "    .dataframe tbody tr th:only-of-type {\n",
       "        vertical-align: middle;\n",
       "    }\n",
       "\n",
       "    .dataframe tbody tr th {\n",
       "        vertical-align: top;\n",
       "    }\n",
       "\n",
       "    .dataframe thead th {\n",
       "        text-align: right;\n",
       "    }\n",
       "</style>\n",
       "<table border=\"1\" class=\"dataframe\">\n",
       "  <thead>\n",
       "    <tr style=\"text-align: right;\">\n",
       "      <th></th>\n",
       "      <th>sepal length (cm)</th>\n",
       "      <th>sepal width (cm)</th>\n",
       "      <th>petal length (cm)</th>\n",
       "      <th>petal width (cm)</th>\n",
       "    </tr>\n",
       "  </thead>\n",
       "  <tbody>\n",
       "    <tr>\n",
       "      <th>44</th>\n",
       "      <td>5.1</td>\n",
       "      <td>3.8</td>\n",
       "      <td>1.9</td>\n",
       "      <td>0.4</td>\n",
       "    </tr>\n",
       "  </tbody>\n",
       "</table>\n",
       "</div>"
      ],
      "text/plain": [
       "    sepal length (cm)  sepal width (cm)  petal length (cm)  petal width (cm)\n",
       "44                5.1               3.8                1.9               0.4"
      ]
     },
     "execution_count": 16,
     "metadata": {},
     "output_type": "execute_result"
    }
   ],
   "source": [
    "sample = X_test.sample(1)\n",
    "sample"
   ]
  },
  {
   "cell_type": "code",
   "execution_count": 17,
   "id": "ae5f501a-4fc4-47e1-89b9-806f07b0345f",
   "metadata": {},
   "outputs": [
    {
     "data": {
      "text/plain": [
       "44    setosa\n",
       "Name: target, dtype: object"
      ]
     },
     "execution_count": 17,
     "metadata": {},
     "output_type": "execute_result"
    }
   ],
   "source": [
    "y_test[sample.index]"
   ]
  },
  {
   "cell_type": "code",
   "execution_count": 19,
   "id": "3c356862-3d86-4618-a4b1-cbffd5862ffb",
   "metadata": {},
   "outputs": [
    {
     "data": {
      "text/plain": [
       "array(['setosa'], dtype='<U10')"
      ]
     },
     "execution_count": 19,
     "metadata": {},
     "output_type": "execute_result"
    }
   ],
   "source": [
    "gnb_cargado.predict(sample)"
   ]
  },
  {
   "cell_type": "code",
   "execution_count": 14,
   "id": "87774e11-5c8f-49e1-ab77-039682c38605",
   "metadata": {},
   "outputs": [
    {
     "data": {
      "text/plain": [
       "[[5.0, 3.0, 1.6, 0.2],\n",
       " [5.5, 4.2, 1.4, 0.2],\n",
       " [5.7, 2.8, 4.1, 1.3],\n",
       " [6.4, 2.8, 5.6, 2.2],\n",
       " [5.1, 3.7, 1.5, 0.4],\n",
       " [5.7, 2.8, 4.5, 1.3],\n",
       " [5.0, 3.4, 1.5, 0.2],\n",
       " [6.7, 3.1, 4.7, 1.5],\n",
       " [5.4, 3.9, 1.3, 0.4],\n",
       " [5.8, 4.0, 1.2, 0.2]]"
      ]
     },
     "execution_count": 14,
     "metadata": {},
     "output_type": "execute_result"
    }
   ],
   "source": [
    "X_test.sample(10).values.tolist()"
   ]
  },
  {
   "attachments": {},
   "cell_type": "markdown",
   "id": "11b6f432",
   "metadata": {},
   "source": [
    "## Depurador o Debugger\n",
    "\n",
    "\n",
    "Son programas destinados a insepccionar y resolver errores en otros programas.\n",
    "Su característica fundamental es permitir detener el código en alguna linea específica mientras este se está ejecutando.\n",
    "\n",
    "\n",
    "Para ejemplificar esto, usaremos el servidor descrito en `main_1` en vscode a través del debugger.\n",
    "Aquí: \n",
    "\n",
    "1. Definiremos un archivo de configuración para el debugger.\n",
    "2. Ejecutaremos una llamada con algunos datos y veremos las variables que están definidas al ejecutar cierta linea de código.\n",
    "\n"
   ]
  },
  {
   "attachments": {},
   "cell_type": "markdown",
   "id": "500063fa",
   "metadata": {},
   "source": [
    "---\n",
    "\n",
    "## Contenedores\n",
    "\n",
    "> Primero, pensemos que es un contenedor:\n",
    "\n",
    "<div align='center'/>\n",
    "<img src='https://raw.githubusercontent.com/MDS7202/MDS7202/main/recursos/2023-01/27_puesta_en_produccion/contenedores.jpg' width=400/>\n",
    "</div>"
   ]
  },
  {
   "attachments": {},
   "cell_type": "markdown",
   "id": "6050eef9",
   "metadata": {},
   "source": [
    "Un **contenedor de aplicación** permite **aislar** la aplicación y sus dependencias de el sistema operativo en donde este se ejecuta.\n",
    "Dentro de las cosas que aisla (el entorno de desarrollo) podemos nombrar:\n",
    "\n",
    "- Librerías.\n",
    "- Entorno de ejecución (Sistema operativo, interpretes o compiladores, etc...).\n",
    "- Configuración del entorno.\n",
    "- El mismo código de la aplicación.\n",
    "- etc...\n",
    "\n",
    "> **Pregunta**: ¿Qué ventaja puede implicar el aislamiento de estas variables?"
   ]
  },
  {
   "attachments": {},
   "cell_type": "markdown",
   "id": "4bf1ee1a",
   "metadata": {},
   "source": [
    "Una de las grandes ventajas de usar contenedores es que al aislar todas estas variables, se facilita el intercambio del código entre los desarrolladores al garantizar que todos tengan el mismo entorno en el cual se está desarrollando."
   ]
  },
  {
   "attachments": {},
   "cell_type": "markdown",
   "id": "12e6e16a",
   "metadata": {},
   "source": [
    "### `Docker`\n",
    "\n",
    "<div align='center'/>\n",
    "<img src='https://raw.githubusercontent.com/MDS7202/MDS7202/main/recursos/2023-01/27_puesta_en_produccion/docker.png' width=400/>\n",
    "</div>\n",
    "\n",
    "[`Docker`](https://www.docker.com/) es la tecnología para crear, diseñar y gestionar contenedores.\n",
    "Esta basado en **imágenes**. Una imagen es simplemente una instantanea de un contenedor, es decir, algo que almacena todos los puntos que vimos anteriormente.\n"
   ]
  },
  {
   "attachments": {},
   "cell_type": "markdown",
   "id": "7dd5c62a",
   "metadata": {},
   "source": [
    "\n",
    "### Virtualización vs Contenedores\n",
    "\n",
    "La virtualización es un conjunto de técnicas para simular la existencia de un recurso tecnológico (como un sistema operativo) sobre otro.\n",
    "\n",
    "Para aislar aplicaciones, el enfoque antiguo era virtualizar pequeños sistemas operativos montados sobre el sistema operativo principal. Esto obviamente no es muy eficiente: ocupa una gran cantidad de RAM y CPU y en la práctica, no era cómodo para trabajar.\n",
    "\n",
    "En cambio, el enfoque moderno de `Docker` es crear ambientes aislados en Linux.\n",
    "\n",
    "<div align='center'/>\n",
    "<img src='https://raw.githubusercontent.com/MDS7202/MDS7202/main/recursos/2023-01/27_puesta_en_produccion/virtualizacion_vs_contenedores.png' width=800/>\n",
    "</div>\n",
    "\n",
    "La idea de un contenedor es que se aislen los procesos a través `namespaces` que limita los archivos, recursos de red, etc... que los procesos del contenedor pueden usar y de `CGroups` que limita los recursos físicos (CPU, red, RAM, etc...) que el contenedor puede ocupar.\n",
    "\n",
    "Nota: En Windows, primero monta un nucleo Linux a través `Windows Subsystem for Linux` (`WSL`) antes de trabajar.\n",
    "\n",
    "\n"
   ]
  },
  {
   "attachments": {},
   "cell_type": "markdown",
   "id": "f810c51f",
   "metadata": {},
   "source": [
    "A continuación veremos 2 ejemplos: \n",
    "    \n",
    "1. Usaremos una imagen que nos entrega rápidamente muchas herramientas simples de data science.\n",
    "2. Crearemos una imagen para nuestro servidor `FastAPI` predictor de iris.\n"
   ]
  },
  {
   "attachments": {},
   "cell_type": "markdown",
   "id": "8995b2de",
   "metadata": {},
   "source": [
    "### scipy-notebook\n",
    "\n",
    "\n",
    "\n",
    "\n",
    "Ejemplo: https://jupyter-docker-stacks.readthedocs.io/en/latest/using/selecting.html#core-stacks\n",
    "\n",
    "\n",
    "https://hub.docker.com/r/jupyter/scipy-notebook\n",
    "\n",
    "```bash\n",
    "docker pull jupyter/scipy-notebook\n",
    "```"
   ]
  }
 ],
 "metadata": {
  "kernelspec": {
   "display_name": "Python 3 (ipykernel)",
   "language": "python",
   "name": "python3"
  },
  "language_info": {
   "codemirror_mode": {
    "name": "ipython",
    "version": 3
   },
   "file_extension": ".py",
   "mimetype": "text/x-python",
   "name": "python",
   "nbconvert_exporter": "python",
   "pygments_lexer": "ipython3",
   "version": "3.9.16"
  },
  "toc": {
   "base_numbering": 1,
   "nav_menu": {},
   "number_sections": true,
   "sideBar": true,
   "skip_h1_title": true,
   "title_cell": "Table of Contents",
   "title_sidebar": "Contents",
   "toc_cell": false,
   "toc_position": {},
   "toc_section_display": true,
   "toc_window_display": false
  }
 },
 "nbformat": 4,
 "nbformat_minor": 5
}
