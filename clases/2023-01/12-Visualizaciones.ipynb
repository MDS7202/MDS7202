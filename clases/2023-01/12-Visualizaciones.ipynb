{
 "cells": [
  {
   "cell_type": "markdown",
   "id": "eed95ac8",
   "metadata": {},
   "source": [
    "# Clase 12: Visualizacion de Datos\n",
    "\n",
    "\n",
    "**MDS7202: Laboratorio de Programación Científica para Ciencia de Datos**\n",
    "\n",
    "**Profesor: Pablo Badilla**\n",
    "\n",
    "Clase Basada en el Post [**The Art and Science of Data Visualization**](https://towardsdatascience.com/the-art-and-science-of-data-visualization-6f9d706d673e) de [Michael Mahoney](https://medium.com/@mike.mahoney.218)"
   ]
  },
  {
   "cell_type": "markdown",
   "id": "9a17879f",
   "metadata": {},
   "source": [
    "## Objetivos de la Clase\n",
    "\n",
    "1. Introducirlos a las visualizaciones de datos y sus principios. \n",
    "2. Entregar ejemplos de visualizaciones.\n",
    "3. Introducirlos al uso de `plotly` para generar gráficos interactivos."
   ]
  },
  {
   "cell_type": "markdown",
   "id": "8bae38bf",
   "metadata": {},
   "source": [
    "## Visualización de Datos\n",
    "\n",
    "\n",
    "La visualización de datos es un area dedicada a representar gráficamente los datos con el objetivo de poder comunicar información de forma eficiente y sencilla.\n",
    "\n",
    "\n",
    "En terminos prácticos, es una función que mapea los datos a un gráfico. El mapeo determina entre otras cosas: \n",
    "    \n",
    "- Elementos visuales que se mostrarán.\n",
    "- Posición de los elementos.\n",
    "- Color de los elementos\n",
    "- Forma y tamaño de los elementos.\n"
   ]
  },
  {
   "cell_type": "markdown",
   "id": "d0ac9891",
   "metadata": {},
   "source": [
    "\n",
    "El tipo de mapeo que creemos determinará que tan entendible el gráfico será. Por ende, **es de suma importancia crear buenos mapeos**. \n",
    "\n",
    "Un gráfico \"bonito/estético\" está mucho más allá de formalidades matemáticas. Por ende, la visualización de datos es considerada tanto una ciencia como también un arte.\n",
    "\n",
    "Si bien, la librería \"por defecto\" de graficado en python es `Matplotlib`, en este curso usaremos `plotly` como librería para generar las visualizaciones debido principalmente a sus interfaces y su interactividad."
   ]
  },
  {
   "cell_type": "markdown",
   "id": "55b9d159",
   "metadata": {},
   "source": [
    "### Los Principios\n",
    "\n",
    "Según *The Art and Science of Data Visualization*, una buena visualización debe cumplir los siguientes principios:\n",
    "\n",
    "\n",
    "1. **Un buen gráfico cuenta una historia.**\n",
    "\n",
    "2. **Todo debe ser hecho de la forma más sencilla posible, pero no debe ser simple.**\n",
    "\n",
    "3. **Se debe usar la herramienta correcta para el trabajo a resolver.**\n",
    "\n",
    "4. **La tinta es barata, los electrones aún más.**\n",
    "\n",
    "\n",
    "\n",
    "> Nota: Lo simple es llano, fácil, falto de profundidad. Lo sencillo es certero, esencial, preciso, sobrio, escueto, claro y puede también ser modesto. Fuente: [Diferencia entre simple y sencillo](https://elpais.com/elpais/2020/01/14/del_tirador_a_la_ciudad/1579025106_976460.html).\n",
    "\n",
    "\n",
    "Cada uno de estos los veremos a continuación"
   ]
  },
  {
   "cell_type": "markdown",
   "id": "2b232227",
   "metadata": {},
   "source": [
    "## Pinguinos 🐧\n",
    "\n",
    "\n",
    "**Palmer Archipelago (Antarctica) penguin data**: \n",
    "\n",
    "\n",
    "*Data were collected and made available by Dr. Kristen Gorman and the Palmer Station, Antarctica LTER, a member of the Long Term Ecological Research Network.*\n",
    "\n",
    "https://github.com/allisonhorst/palmerpenguins\n",
    "\n",
    "![Pinguinos](https://raw.githubusercontent.com/allisonhorst/palmerpenguins/master/man/figures/lter_penguins.png)\n",
    "\n",
    "\n",
    "    \n",
    "    \n",
    "    "
   ]
  },
  {
   "cell_type": "markdown",
   "id": "33a7439c",
   "metadata": {},
   "source": [
    "### Atributos\n",
    " \n",
    "- `culmen_length_mm`: Largo del culmen (vértice o borde superior de la mandíbula)  (mm).\n",
    "- `culmen_depth_mm`: Alto del culmen (vértice o borde superior de la mandíbula) (mm).\n",
    "- `flipper_length_mm`: Longitud de las aletas (mm).\n",
    "- `body_mass_g`: Masa corporal (g).\n",
    "- `island`: Isla de origen (Dream, Torgersen, or Biscoe) en el archipiélago de Palmer (Antarctica).\n",
    "- `sex`: Sexo del pinguino.\n",
    "- `species`: Especie del pinguino (Chinstrap, Adélie, or Gentoo)\n",
    "    \n",
    "![Detalle Variables](https://allisonhorst.github.io/palmerpenguins/reference/figures/culmen_depth.png)\n",
    "    \n",
    "<center>Créditos a Allison Horst por sus excelentes ilustraciones https://github.com/allisonhorst </center>    \n",
    "    \n"
   ]
  },
  {
   "cell_type": "code",
   "execution_count": null,
   "id": "81c8bf28",
   "metadata": {},
   "outputs": [],
   "source": [
    "import pandas as pd\n",
    "\n",
    "df = pd.read_csv(\n",
    "    \"https://raw.githubusercontent.com/MDS7202/MDS7202/main/recursos/2023-01/12-Visualizaciones/penguins.csv\"\n",
    ")\n",
    "df = df.dropna()\n",
    "df\n"
   ]
  },
  {
   "cell_type": "markdown",
   "id": "ba158ed4",
   "metadata": {},
   "source": [
    "---"
   ]
  },
  {
   "cell_type": "markdown",
   "id": "c15a0c35",
   "metadata": {},
   "source": [
    "## 1.- Un Buen Gráfico Cuenta Una Historia\n",
    "\n",
    "\n",
    "Cuando construimos un gráfico, es importante entender para que lo estamos construyendo.\n",
    "Para esto, es preciso pensar por qué y para qué lo estamos creando.\n",
    "\n"
   ]
  },
  {
   "cell_type": "markdown",
   "id": "055e7e5d-4043-42e1-80b5-03eb34522829",
   "metadata": {},
   "source": [
    "\n",
    "### ¿Por qué creamos los gráficos?\n",
    "\n",
    "Comunmente puede caer en dos categorías: \n",
    "\n",
    "1. **Gráficos exploratorios**, los cuales se enfocan en identificar patrones en los datos.\n",
    "2. **Gráficos explicativos**, los cuales se enfocan en explicar los patrones encontrados en los datos."
   ]
  },
  {
   "cell_type": "code",
   "execution_count": null,
   "id": "0b82dd5c",
   "metadata": {},
   "outputs": [],
   "source": [
    "import plotly.express as px"
   ]
  },
  {
   "cell_type": "markdown",
   "id": "85491036",
   "metadata": {},
   "source": [
    "#### Gráficos Exploratorios\n",
    "\n",
    "Los gráficos exploratorios son comunmente gráficos muy simples de nuestros datos. Su objetivo es **identificar patrones y cómo ocurren en nuestros datos**.\n",
    "\n",
    "\n",
    "> **Pregunta ❓**: ¿Dado el datasets de los pinguinos, que sería interesante explorar?"
   ]
  },
  {
   "cell_type": "code",
   "execution_count": null,
   "id": "85b109a2",
   "metadata": {},
   "outputs": [],
   "source": [
    "df.head()"
   ]
  },
  {
   "cell_type": "markdown",
   "id": "d922810d",
   "metadata": {},
   "source": [
    "\n",
    "Tomemos por ejemplo, el siguiente gráfico de dispersión en donde relacionamos el largo de la aleta con la masa corporal:"
   ]
  },
  {
   "cell_type": "code",
   "execution_count": null,
   "id": "e2dc97ec",
   "metadata": {},
   "outputs": [],
   "source": [
    "px.scatter(\n",
    "    df,\n",
    "    x=\"flipper_length_mm\",\n",
    "    y=\"body_mass_g\",\n",
    ")\n"
   ]
  },
  {
   "cell_type": "markdown",
   "id": "01b42415",
   "metadata": {},
   "source": [
    "Para este caso, podemos observar claramente que existe un patrón entre ambas variables: a medida que `flipper_lenght_mm` aumenta, también lo hace `body_mass_g`. \n",
    "\n",
    "**El objetivo final (para nosotros) de esta visualización sería entonces entender cómo es esta relación.**"
   ]
  },
  {
   "cell_type": "markdown",
   "id": "378768d3",
   "metadata": {},
   "source": [
    "En el siguiente ejemplo se muestra la relación entre el largo y profundidad del culmen:"
   ]
  },
  {
   "cell_type": "code",
   "execution_count": null,
   "id": "584f90e8",
   "metadata": {},
   "outputs": [],
   "source": [
    "px.scatter(\n",
    "    df,\n",
    "    x=\"culmen_length_mm\",\n",
    "    y=\"culmen_depth_mm\",\n",
    ")\n"
   ]
  },
  {
   "cell_type": "markdown",
   "id": "4c426611",
   "metadata": {},
   "source": [
    "A diferencia del gráfico anterior, en esta figura no podemos inferir ninguna relación a simple vista."
   ]
  },
  {
   "cell_type": "markdown",
   "id": "2a844872",
   "metadata": {},
   "source": [
    "#### Gráficos Explicativos\n",
    "\n",
    "Este tipo de gráficos intenta inlcuir **explicaciones del por qué suceden los patrones**."
   ]
  },
  {
   "cell_type": "code",
   "execution_count": null,
   "id": "8fdc91d2",
   "metadata": {},
   "outputs": [],
   "source": [
    "fig = px.scatter(\n",
    "    df,\n",
    "    x=\"flipper_length_mm\",\n",
    "    y=\"body_mass_g\",\n",
    "    trendline=\"ols\",\n",
    "    title=(\n",
    "        \"Relación entre la masa corporal y el largo de la aleta de \"\n",
    "        \"los Pinguinos\"\n",
    "        \"<br><sup>Se muestra una la existencia de una relación lineal \"\n",
    "        \"entre ambas variables a través de una regresión lineal con \"\n",
    "        \"un buen ajuste (R² = 0.759).</sup></br>\"\n",
    "    ),\n",
    ")\n",
    "fig.show()"
   ]
  },
  {
   "cell_type": "markdown",
   "id": "86d1193f",
   "metadata": {},
   "source": [
    "> **Pregunta ❓**: Entonces, cuál es la diferencia entre el gráfico exploratorio y el explicativo?"
   ]
  },
  {
   "cell_type": "markdown",
   "id": "cba4255f",
   "metadata": {},
   "source": [
    "Noten que la diferencia entre el gráfico exploratorio y el explicativo no es lo pulido que es este, si no que en este caso se intenta incluir una explicación a los patrones detectados."
   ]
  },
  {
   "cell_type": "markdown",
   "id": "e43fc9bc",
   "metadata": {},
   "source": [
    "### ¿Cómo contamos la Historia?\n",
    "\n",
    "Obviamente existe una infinidad de posibles combinaciones de gráficos y sus elementos para representar visualmente un objeto. La idea es que podamos seleccionar la mejor.\n",
    "Podemos utilizar para esto dos criterios:\n",
    "\n",
    "\n",
    "1. **Expresividad:** Un conjunto de hechos es expresable en un lenguaje visual si las visualizaciones en el lenguaje expresan todos los hechos del conjunto de datos y sólo los hechos de los datos. \n",
    "\n",
    "2. **Eficacia:** Una visualización es más eficaz que otra si la información transmitida por una visualización se percibe más fácilmente que la información de la otra visualización.\n"
   ]
  },
  {
   "cell_type": "markdown",
   "id": "e1be2b3b",
   "metadata": {},
   "source": [
    "...que en términos más sencillos se podrían traducir en: \n",
    "\n",
    "1. **Solo decir la verdad y nada más que la verdad (no se debe mentir ni tampoco mentir por omisión)**\n",
    "2. **Utilizar solo los elementos que la gente pueda entender mejor (donde mejor = más rápido y/o más preciso).**\n",
    "\n"
   ]
  },
  {
   "cell_type": "markdown",
   "id": "d9e465cf",
   "metadata": {},
   "source": [
    "---"
   ]
  },
  {
   "cell_type": "markdown",
   "id": "e5d800af",
   "metadata": {
    "tags": []
   },
   "source": [
    "## 2.- Todo debe ser hecho de la forma más sencilla posible, pero no debe ser simple"
   ]
  },
  {
   "cell_type": "markdown",
   "id": "6acf1845",
   "metadata": {},
   "source": [
    "El gráfico más simple es el gráfico de dispersión en 2 dimensiones, el cuál representa en 2D un par de variables de nuestro dataset."
   ]
  },
  {
   "cell_type": "code",
   "execution_count": null,
   "id": "7e6ce19f",
   "metadata": {},
   "outputs": [],
   "source": [
    "px.scatter(df, x=\"flipper_length_mm\", y=\"body_mass_g\")"
   ]
  },
  {
   "cell_type": "markdown",
   "id": "8fa005dd",
   "metadata": {},
   "source": [
    "En esta figura, tanto el eje X (largo de la aleta) como el eje Y (masa) tiene una escala y cada punto recae sobre una combinación de una posición en los ejes. Esta es toda la información que podemos representar hasta el momento.\n",
    "\n",
    "> **Pregunta ?**: ¿Cuál es el problema de este tipo de gráficos?"
   ]
  },
  {
   "cell_type": "markdown",
   "id": "105c7c39",
   "metadata": {},
   "source": [
    "> **Pregunta ?**: Entonces, ¿Cómo podríamos visualizar más variables?"
   ]
  },
  {
   "cell_type": "code",
   "execution_count": null,
   "id": "3a606bf9",
   "metadata": {},
   "outputs": [],
   "source": [
    "df.head()"
   ]
  },
  {
   "cell_type": "markdown",
   "id": "0e99ab5c",
   "metadata": {},
   "source": [
    "Una posible solución sería agregar más dimensiones a nuestra visualización:"
   ]
  },
  {
   "cell_type": "code",
   "execution_count": null,
   "id": "bd78b49c",
   "metadata": {},
   "outputs": [],
   "source": [
    "px.scatter_3d(df, x=\"flipper_length_mm\", y=\"body_mass_g\", z=\"island\")"
   ]
  },
  {
   "cell_type": "markdown",
   "id": "dfc21ee4",
   "metadata": {},
   "source": [
    "> **Pregunta ❓**: ¿Cuál es el problema de los gráficos en 3D? ¿Cómo podríamos seguir agregando variables?"
   ]
  },
  {
   "cell_type": "markdown",
   "id": "dcc5dc82",
   "metadata": {},
   "source": [
    "Sin emabrgo, esto puede provocar que incremente la dificultad para comprender lo que se comunica, sobre todo si se representa una variable con mayor desorden:"
   ]
  },
  {
   "cell_type": "code",
   "execution_count": null,
   "id": "6e986b30",
   "metadata": {},
   "outputs": [],
   "source": [
    "px.scatter_3d(df, x=\"flipper_length_mm\", y=\"body_mass_g\", z=\"culmen_length_mm\")"
   ]
  },
  {
   "cell_type": "markdown",
   "id": "a3979316",
   "metadata": {},
   "source": [
    "Y el mayor problema: No podemos agregar otra dimensión mas.\n",
    "\n",
    "\n",
    "> **Pregunta ❓**: Entonces, nuevamente viene la pregunta: ¿Cómo podemos visualizar más variables?"
   ]
  },
  {
   "cell_type": "markdown",
   "id": "24cb7763",
   "metadata": {},
   "source": [
    "### Aesthetics o Parámetros de la Figura\n",
    "\n",
    "> *Estética según wikipedia: La estética es la rama de la filosofía que estudia la esencia y la percepción de la belleza y el arte.*\n",
    "\n",
    "\n",
    "No solo disponemos de la posición de los puntos sobre sus ejes para poder representar más de dos variables datos, si no que además contamos con elementos extra como: \n",
    "\n",
    "\n",
    "\n",
    "\n",
    " 1. Posición\n",
    " 2. Color\n",
    " 3. Forma\n",
    " 4. Tamaño \n",
    " \n",
    "Cada uno de estos parámetros y sus combinaciones nos permitirán agregar nuevas variables a nuestros gráficos. "
   ]
  },
  {
   "cell_type": "markdown",
   "id": "57ebdead",
   "metadata": {},
   "source": [
    "### 1. Posición\n",
    "\n",
    "La distancia entre los valores del eje X o Y representa que tan larga la variable es. La gente tiene a considerar que mientras mas lejos está un punto, más grande y extremo es su valor. Veamos esto a través de un sencillo ejemplo en donde generamos un punto que está fuera de los patrones:"
   ]
  },
  {
   "cell_type": "code",
   "execution_count": null,
   "id": "06fc0956",
   "metadata": {},
   "outputs": [],
   "source": [
    "# solo como ejemplo, modificaremos una medición de peso a 500\n",
    "df_ = df.copy()\n",
    "df_.loc[343, \"flipper_length_mm\"] = 240\n",
    "df_.loc[343, \"body_mass_g\"] = 6650\n",
    "\n",
    "px.scatter(\n",
    "    df_,\n",
    "    x=\"flipper_length_mm\",\n",
    "    y=\"body_mass_g\",\n",
    ")"
   ]
  },
  {
   "cell_type": "markdown",
   "id": "0422f723",
   "metadata": {},
   "source": [
    "Si vien, se ve a simple vista que este punto está fuera de lo esperado, puede en terminos prácticos, no sea realmente así. Para mostrar esto, crearemos el mismo gráfico con el eje X partiendo desde 0."
   ]
  },
  {
   "cell_type": "code",
   "execution_count": null,
   "id": "413957db",
   "metadata": {},
   "outputs": [],
   "source": [
    "px.scatter(df_, x=\"flipper_length_mm\", y=\"body_mass_g\", range_x=(0, 300), range_y=(0, 6500))"
   ]
  },
  {
   "cell_type": "markdown",
   "id": "8774e11e",
   "metadata": {},
   "source": [
    "Aquí pueden notar que en la práctica, no está tan lejos como pensabamos en un inicio respecto al 0. \n",
    "\n"
   ]
  },
  {
   "cell_type": "markdown",
   "id": "6be83092",
   "metadata": {},
   "source": [
    "Otro ejemplo para gráficos con variables categóricas.\n",
    "\n",
    "\n",
    "<br>\n",
    "<div align='center'/>\n",
    "\n",
    "<img src='https://raw.githubusercontent.com/MDS7202/MDS7202/main/recursos/2023-01/12-Visualizaciones/grafico_charcha.jpg' />\n",
    "</div>"
   ]
  },
  {
   "cell_type": "markdown",
   "id": "4dbaf106",
   "metadata": {},
   "source": [
    "> **Pregunta ❓**: ¿Qué hay de malo con este gráfico?"
   ]
  },
  {
   "cell_type": "code",
   "execution_count": null,
   "id": "c3ceadd5",
   "metadata": {},
   "outputs": [],
   "source": [
    "import plotly.graph_objects as go\n",
    "\n",
    "fig = go.Figure(\n",
    "    data=[\n",
    "        go.Bar(\n",
    "            x=[2010, 2013, 2016],\n",
    "            y=[30.7, 22.8, 27.3],\n",
    "            marker_color=[\"red\", \"blue\", \"red\"],\n",
    "        )\n",
    "    ]\n",
    ")\n",
    "fig.show()"
   ]
  },
  {
   "cell_type": "code",
   "execution_count": null,
   "id": "55975f5e",
   "metadata": {},
   "outputs": [],
   "source": [
    "fig.update_yaxes(range=[20, 32])\n",
    "fig.show()"
   ]
  },
  {
   "cell_type": "markdown",
   "id": "f49f482e",
   "metadata": {},
   "source": [
    "La moraleja de esta sección es que es común que se asuma que los gráficos parten siempre desde 0, aunque esto no sea siempre así. Siempre hay que tener esto en mente al momento de diseñar las visualizaciones"
   ]
  },
  {
   "cell_type": "markdown",
   "id": "3b386dd3",
   "metadata": {},
   "source": [
    "#### Para Concluir\n",
    "\n",
    "La moraleja de esta sección es que al momento de diseñar una visualización se debe tener en cuenta el rango/escala de las variables que se están graficando. Una escala distinta puede llevar a gráficos con interpretaciones totalmente distintas."
   ]
  },
  {
   "cell_type": "markdown",
   "id": "e42f337b",
   "metadata": {},
   "source": [
    "### Color\n",
    "\n",
    "\n",
    "Si bien, la sección anterior nos dio una gran idea de lo cuidadosos que hay que ser al tratar con los ejes y la posición de los datos, aún no sabemos como incluir una nueva variable dentro de las visualizaciones.\n",
    "\n",
    "**Spoiler**: Podemos lograrlo usando colores.\n",
    "\n",
    "\n",
    "Como ejemplo, incluyamos la isla en donde se tomo la medición de cada pinguino:"
   ]
  },
  {
   "cell_type": "code",
   "execution_count": null,
   "id": "2ad32bc1",
   "metadata": {},
   "outputs": [],
   "source": [
    "df.head()"
   ]
  },
  {
   "cell_type": "code",
   "execution_count": null,
   "id": "363a827e",
   "metadata": {},
   "outputs": [],
   "source": [
    "fig = px.scatter(\n",
    "    df,\n",
    "    x=\"flipper_length_mm\",\n",
    "    y=\"body_mass_g\",\n",
    "    color=\"island\",\n",
    ")\n",
    "\n",
    "fig.show()\n"
   ]
  },
  {
   "cell_type": "markdown",
   "id": "311780c6",
   "metadata": {},
   "source": [
    "Noten que en este caso el color representa una variable categórica, en donde cada isla tomó un color en particular.\n",
    "\n",
    "\n",
    "> **Pregunta ❓**: Entonces, ¿cómo represento una variable numérica al trabajr con colores?"
   ]
  },
  {
   "cell_type": "markdown",
   "id": "d0887010",
   "metadata": {},
   "source": [
    "\n",
    "#### Luminiscencia\n",
    "\n",
    "Sin emabrgo, si fuese una variable continua, estos colores nada nos dirían con respecto a la magnitud de esta nueva variable. \n",
    "\n",
    "Para poder representar podemos usar paletas de colores continuas, en donde se utiliza un conjunto de colores con distinta **luminiscencia** (que tanto brilla un color) de tal forma que algunos colores indican bajo valor y otros alto."
   ]
  },
  {
   "cell_type": "markdown",
   "id": "e7a18cfa-7d54-43ec-ae4d-29458b565b08",
   "metadata": {},
   "source": [
    "En este caso, el gráfico incluye una variable que no está representada por los puntos del gráfico de dispersión."
   ]
  },
  {
   "cell_type": "code",
   "execution_count": null,
   "id": "f2aa1e6e",
   "metadata": {},
   "outputs": [],
   "source": [
    "fig = px.scatter(\n",
    "    df,\n",
    "    x=\"flipper_length_mm\",\n",
    "    y=\"body_mass_g\",\n",
    "    color=\"culmen_length_mm\",\n",
    "    color_continuous_scale=\"viridis_r\"\n",
    ")\n",
    "\n",
    "\n",
    "fig.show()\n"
   ]
  },
  {
   "cell_type": "code",
   "execution_count": null,
   "id": "6e2a2c30",
   "metadata": {},
   "outputs": [],
   "source": [
    "# un vistazo de todas las paletas de colores continuas disponibles\n",
    "\n",
    "fig = px.colors.sequential.swatches_continuous()\n",
    "fig.show()"
   ]
  },
  {
   "cell_type": "markdown",
   "id": "3d53f98a",
   "metadata": {},
   "source": [
    "Consideremos ahora el siguiente ejemplo, en donde generamos 15 bins para `body_mass_g` y después los graficamos"
   ]
  },
  {
   "cell_type": "code",
   "execution_count": null,
   "id": "d5f1ecb1",
   "metadata": {},
   "outputs": [],
   "source": [
    "df_ = df.copy()\n",
    "df_.loc[:, \"body_mass_g_bins\"] = pd.cut(\n",
    "    df.loc[:, \"body_mass_g\"], 15, labels=[f\"Bin {i+1}\" for i in range(0, 15)]\n",
    ")\n",
    "\n",
    "fig = px.scatter(\n",
    "    df_,\n",
    "    x=\"flipper_length_mm\",\n",
    "    y=\"body_mass_g\",\n",
    "    color=\"body_mass_g_bins\",\n",
    "    color_continuous_scale=\"viridis_r\",\n",
    ")\n",
    "\n",
    "\n",
    "fig.show()\n"
   ]
  },
  {
   "cell_type": "markdown",
   "id": "c67d37f8",
   "metadata": {},
   "source": [
    "> **Pregunta❓**: ¿Cuál es el problema en este gráfico?"
   ]
  },
  {
   "cell_type": "markdown",
   "id": "af2daa59",
   "metadata": {},
   "source": [
    "**Cuidado con los colores!**\n",
    "\n",
    "Tiende a pasar que se sobreutilizan los colores. Esto induce finalmente a que el color tienda a confundir más que a ayudar."
   ]
  },
  {
   "cell_type": "markdown",
   "id": "87836c4a",
   "metadata": {},
   "source": [
    "> **Pregunta ❓** ¿Qué precauciones debemos tener al usar colores en nuestras visualizaciones?\n",
    "\n",
    "\n",
    "Relacionado: [viridis](https://cran.r-project.org/web/packages/viridis/vignettes/intro-to-viridis.html)"
   ]
  },
  {
   "cell_type": "markdown",
   "id": "1d68dd5b",
   "metadata": {},
   "source": [
    "### Forma"
   ]
  },
  {
   "cell_type": "markdown",
   "id": "8b6a0307",
   "metadata": {},
   "source": [
    "Otro parámetro que también nos permitiría incluir una variable es la forma de los puntos."
   ]
  },
  {
   "cell_type": "code",
   "execution_count": null,
   "id": "472d0914",
   "metadata": {},
   "outputs": [],
   "source": [
    "species_symbol = df.loc[:, \"species\"].replace(\n",
    "    {\"Adelie\": \"circle\", \"Gentoo\": \"square\", \"Chinstrap\": \"star\"}\n",
    ")\n",
    "\n",
    "df[\"species_symbol\"] = species_symbol\n",
    "df.head()"
   ]
  },
  {
   "cell_type": "code",
   "execution_count": null,
   "id": "b5bc7805",
   "metadata": {},
   "outputs": [],
   "source": [
    "fig = px.scatter(\n",
    "    df, x=\"flipper_length_mm\", y=\"body_mass_g\",  symbol=\"species\"\n",
    ")\n",
    "#.update_traces(marker=dict(size=12), selector=dict(mode='markers'))\n",
    "\n",
    "\n",
    "fig.show()"
   ]
  },
  {
   "cell_type": "markdown",
   "id": "c3d37842",
   "metadata": {},
   "source": [
    "Al igual que el color por categoría, los símbolos no permiten distinguir las magnitudes de las variables. \n"
   ]
  },
  {
   "cell_type": "markdown",
   "id": "e8b9769a",
   "metadata": {},
   "source": [
    "> **Nota:** `plotly` permite de todas formas combinar colores continuos con símbolos, sin embargo, la leyenda deja de funcionar correctamente. "
   ]
  },
  {
   "cell_type": "code",
   "execution_count": null,
   "id": "aa7ad8e0",
   "metadata": {},
   "outputs": [],
   "source": [
    "fig = px.scatter(\n",
    "    df,\n",
    "    x=\"flipper_length_mm\",\n",
    "    y=\"body_mass_g\",\n",
    "    color=\"culmen_length_mm\",\n",
    "    symbol=\"species_symbol\",\n",
    ")\n",
    "\n",
    "fig.update_traces(\n",
    "    marker=dict(size=12, line=dict(width=2, color=\"DarkSlateGrey\")),\n",
    "    selector=dict(mode=\"markers\"),\n",
    ")\n",
    "\n",
    "fig.show()"
   ]
  },
  {
   "cell_type": "markdown",
   "id": "65d3b86f",
   "metadata": {},
   "source": [
    "La leyenda puede ser desactivada modificarla usando: "
   ]
  },
  {
   "cell_type": "code",
   "execution_count": null,
   "id": "7d1f5b63",
   "metadata": {},
   "outputs": [],
   "source": [
    "fig.update_layout(legend=dict(\n",
    "    yanchor=\"top\",\n",
    "    y=0.99,\n",
    "    xanchor=\"left\",\n",
    "    x=0.01\n",
    "))\n",
    "fig.show()"
   ]
  },
  {
   "cell_type": "markdown",
   "id": "c7121079",
   "metadata": {},
   "source": [
    "> **Pregunta:** ¿Cuántas formas distintas máximas deberían usarse?"
   ]
  },
  {
   "cell_type": "markdown",
   "id": "d92d8e73",
   "metadata": {},
   "source": [
    "Ojalá no más de 4"
   ]
  },
  {
   "cell_type": "markdown",
   "id": "da07cc2d",
   "metadata": {},
   "source": [
    "### Tamaño"
   ]
  },
  {
   "cell_type": "markdown",
   "id": "e6f3fe92",
   "metadata": {},
   "source": [
    "El último punto a considerar es el tamaño de cada punto, el cual permite también establecer relación entre las observaciones."
   ]
  },
  {
   "cell_type": "code",
   "execution_count": null,
   "id": "9f910664",
   "metadata": {},
   "outputs": [],
   "source": [
    "df.head()"
   ]
  },
  {
   "cell_type": "code",
   "execution_count": null,
   "id": "165350e8",
   "metadata": {},
   "outputs": [],
   "source": [
    "fig = px.scatter(\n",
    "    df,\n",
    "    x=\"flipper_length_mm\",\n",
    "    y=\"culmen_length_mm\",\n",
    "    size=\"body_mass_g\",\n",
    "    size_max=20,\n",
    ")\n",
    "\n",
    "fig.show()\n"
   ]
  },
  {
   "cell_type": "code",
   "execution_count": null,
   "id": "d43e79fe",
   "metadata": {},
   "outputs": [],
   "source": [
    "fig = px.scatter(\n",
    "    df,\n",
    "    x=\"flipper_length_mm\",\n",
    "    y=\"culmen_length_mm\",\n",
    "    color=\"island\",\n",
    "    size=\"body_mass_g\",\n",
    "    size_max=10,\n",
    ")\n",
    "\n",
    "fig.show()"
   ]
  },
  {
   "cell_type": "markdown",
   "id": "d965f49a",
   "metadata": {},
   "source": [
    "### Cierre\n",
    "\n",
    "\n",
    "Según el árticulo original del cual está basado esta clase, el ser humano percibe estos parámetros según el siguiente orden:\n",
    "\n",
    "1. Posición\n",
    "2. Tamaño\n",
    "3. Color\n",
    "4. Forma\n",
    "\n",
    "Obviamente ustedes deciden a cual darle más importancia. Lo importante es tener en mente que no por tener muchs elementos la visualización será mejor, si no que **todo debe ser hecho de la forma más sencilla posible, pero no debe ser simple**"
   ]
  },
  {
   "cell_type": "markdown",
   "id": "06edad68",
   "metadata": {},
   "source": [
    "## 3.- Usar el Gráfico Correcto para la Tarea por Resolver"
   ]
  },
  {
   "cell_type": "markdown",
   "id": "36fe68b8",
   "metadata": {},
   "source": [
    "Cada tipo de tarea que queramos resolver a tiene asociado uno o varios tipo de gráficos que le permitirían visualizar los datos.\n",
    "\n",
    "Aquí debemos escoger:\n",
    "\n",
    "1. La herramienta para graficar.\n",
    "2. La visualización que mejor se ajuste a lo que queremos representar."
   ]
  },
  {
   "cell_type": "markdown",
   "id": "2030910c",
   "metadata": {},
   "source": [
    "### Plotly\n",
    "\n",
    "`Plotly` es una biblioteca de visualización de datos interactiva que permite crear gráficos y visualizaciones personalizadas de alta calidad en varios lenguajes de programación como Python, R y JavaScript.\n",
    "\n",
    "En particular, para el curso estaremos usando `Plotly Express`, el es una capa de interfaz de alto nivel que simplifica la creación de gráficos mediante la automatización de muchas de las tareas comunes de visualización y una alta compatiblidad con las herramientas de ciencia de datos como numpy o pandas.\n",
    "\n",
    "\n",
    "`Plotly express` incluye 30 distintos tipos de gráficos en una interfaz muy unificada y sencilla basada en funciones que usualmente siguen la siguiente sintaxis:\n",
    "\n",
    "\n",
    "```python\n",
    "px.{nombre_del_grafico} (\n",
    "    {df},\n",
    "    x={variable},\n",
    "    y={variable_2},\n",
    "    color={variable_color},\n",
    "    ... # otras configuraciones\n",
    ")\n",
    "\n",
    "```\n",
    "\n",
    "Cada gráfico cuenta con una extensa documentación. Por ejemplo para generar scatters, buscar en google [`px.scatter`](https://www.google.com/search?q=px.scatter) y ver tanto el manual de usuario como la API asociada."
   ]
  },
  {
   "cell_type": "markdown",
   "id": "ab49160c",
   "metadata": {},
   "source": [
    "### Scatter o Gráfico de Dispersión\n",
    "\n",
    "\n",
    "Este (como hemos visto en las secciones anteriores) permite representar cada observación a través de puntos ubicado en los dos ejes de un plano cartesiano. \n",
    "\n",
    "Todos los detalles en: https://plotly.com/python/line-and-scatter/\n"
   ]
  },
  {
   "cell_type": "code",
   "execution_count": null,
   "id": "1b376343",
   "metadata": {},
   "outputs": [],
   "source": [
    "px.scatter(\n",
    "    df,\n",
    "    x=\"flipper_length_mm\",\n",
    "    y=\"body_mass_g\",\n",
    ")\n"
   ]
  },
  {
   "cell_type": "markdown",
   "id": "7aebd643",
   "metadata": {},
   "source": [
    "> **Nota:** Un problema de los scatter plot es que dos puntos ubicados en la misma posición serán indistinguibles entre si.\n",
    "\n",
    "\n",
    "Una forma de solucionar esto es agregar un pequeño movimiento aleatorio a los puntos. Esto se puede obtener a través de los strip charts:\n",
    "\n",
    "https://plotly.com/python/strip-charts/"
   ]
  },
  {
   "cell_type": "code",
   "execution_count": null,
   "id": "f18f08a5",
   "metadata": {},
   "outputs": [],
   "source": [
    "px.strip(df, x=\"flipper_length_mm\", y=\"body_mass_g\")"
   ]
  },
  {
   "cell_type": "markdown",
   "id": "72f631b7",
   "metadata": {},
   "source": [
    "### Gráficos de Linea\n",
    "\n",
    "En el caso de tener una variable temporal, podemos utilizar gráficos de linea para representar su cambio:"
   ]
  },
  {
   "cell_type": "code",
   "execution_count": null,
   "id": "a259c9fb",
   "metadata": {},
   "outputs": [],
   "source": [
    "px.data.gapminder().head(10)"
   ]
  },
  {
   "cell_type": "code",
   "execution_count": null,
   "id": "d5076b70",
   "metadata": {},
   "outputs": [],
   "source": [
    "df_gapminder = px.data.gapminder()\n",
    "df_gapminder = df_gapminder[\n",
    "    df_gapminder.country.isin(\n",
    "        [\n",
    "            \"Chile\",\n",
    "            \"Argentina\",\n",
    "            \"Peru\",\n",
    "            \"Brazil\",\n",
    "            \"Colombia\",\n",
    "            \"Mexico\",\n",
    "            \"United States\",\n",
    "            \"Uruguay\",\n",
    "        ]\n",
    "    )\n",
    "]\n",
    "\n",
    "fig = px.line(df_gapminder, x=\"year\", y=\"pop\", color=\"country\", markers=True)\n",
    "fig.show()"
   ]
  },
  {
   "cell_type": "markdown",
   "id": "85a0217d",
   "metadata": {},
   "source": [
    "### Scatter Matrix\n",
    "\n",
    "https://plotly.com/python/splom/\n",
    "\n",
    "Nos permite generar multiples scatters que detalla la interacción entre múltiples variables."
   ]
  },
  {
   "cell_type": "code",
   "execution_count": null,
   "id": "44e0cb35",
   "metadata": {},
   "outputs": [],
   "source": [
    "fig = px.scatter_matrix(\n",
    "    df,\n",
    "    height=600,\n",
    "    dimensions=[\n",
    "        \"culmen_length_mm\",\n",
    "        \"culmen_depth_mm\",\n",
    "        \"flipper_length_mm\",\n",
    "        \"body_mass_g\",\n",
    "    ],\n",
    "    symbol=\"species\",\n",
    "    color=\"species\",\n",
    ")\n",
    "fig.show()"
   ]
  },
  {
   "cell_type": "markdown",
   "id": "65302341",
   "metadata": {},
   "source": [
    "### Coordenadas Paralelas\n",
    "\n",
    "Forma alternativa de graficar varias variables en una:"
   ]
  },
  {
   "cell_type": "code",
   "execution_count": null,
   "id": "288fd990",
   "metadata": {},
   "outputs": [],
   "source": [
    "# mapeo de clases a números\n",
    "df[\"species_num\"] = df[\"species\"].replace({\"Adelie\": 0, \"Chinstrap\": 1, \"Gentoo\": 2})\n",
    "\n",
    "fig = px.parallel_coordinates(\n",
    "    df,\n",
    "    color=\"species_num\",\n",
    "    color_continuous_scale=px.colors.diverging.Tealrose,\n",
    "    color_continuous_midpoint=1,\n",
    ")\n",
    "fig.show()"
   ]
  },
  {
   "cell_type": "markdown",
   "id": "0e413b95",
   "metadata": {},
   "source": [
    "### Histogramas\n",
    "\n",
    "Los histogramas permiten observar como distribuyen las variables a través de un conteo de estas."
   ]
  },
  {
   "cell_type": "code",
   "execution_count": null,
   "id": "4014ea65",
   "metadata": {},
   "outputs": [],
   "source": [
    "fig = px.histogram(df, x=\"flipper_length_mm\")\n",
    "fig.show()"
   ]
  },
  {
   "cell_type": "markdown",
   "id": "da0712b7",
   "metadata": {},
   "source": [
    "Un detalle muy importante de los histogramas es como se generan las particiones de los rangos de cada barra (también conocidos como **bins**)\n",
    "\n",
    "\n",
    "Bins muy finos pueden llevar a discontinuidades:"
   ]
  },
  {
   "cell_type": "code",
   "execution_count": null,
   "id": "b857b464",
   "metadata": {},
   "outputs": [],
   "source": [
    "fig = px.histogram(df, x=\"flipper_length_mm\", nbins=100)\n",
    "fig.show()"
   ]
  },
  {
   "cell_type": "markdown",
   "id": "0123c6e6",
   "metadata": {},
   "source": [
    "Bins muy grandes pueden llevar a distorsionar la información:"
   ]
  },
  {
   "cell_type": "code",
   "execution_count": null,
   "id": "4bc08985",
   "metadata": {},
   "outputs": [],
   "source": [
    "fig = px.histogram(df, x=\"flipper_length_mm\", nbins=5)\n",
    "fig.show()"
   ]
  },
  {
   "cell_type": "markdown",
   "id": "a84cbfd0",
   "metadata": {},
   "source": [
    "Podemos agregar más información a los histogramas a través del color:"
   ]
  },
  {
   "cell_type": "code",
   "execution_count": null,
   "id": "378f7dcc",
   "metadata": {},
   "outputs": [],
   "source": [
    "fig = px.histogram(df, x=\"flipper_length_mm\", color=\"species\")\n",
    "fig.show()"
   ]
  },
  {
   "cell_type": "code",
   "execution_count": null,
   "id": "13c6931a-4030-484a-a987-3569917de510",
   "metadata": {},
   "outputs": [],
   "source": [
    "fig = px.histogram(df, x=\"flipper_length_mm\", barmode=\"overlay\", color=\"species\", )\n",
    "fig.show()"
   ]
  },
  {
   "cell_type": "markdown",
   "id": "e49c0a18",
   "metadata": {},
   "source": [
    "Hay que ser muy cuidadoso si se le agrega color!\n",
    "El gráfico anterior es muy complicado de entender. Sería mejor separar por grupos las barras."
   ]
  },
  {
   "cell_type": "code",
   "execution_count": null,
   "id": "984274de",
   "metadata": {},
   "outputs": [],
   "source": [
    "fig = px.histogram(df, \n",
    "                   x=\"flipper_length_mm\", \n",
    "                   color=\"species\", \n",
    "                   barmode=\"group\",)\n",
    "fig.show()"
   ]
  },
  {
   "cell_type": "markdown",
   "id": "0a1bcd86-faa4-4dc6-9cd9-48788f95093a",
   "metadata": {},
   "source": [
    "### Torta\n",
    "\n",
    "Permiten ilustrar proporciones de una variable.\n"
   ]
  },
  {
   "cell_type": "code",
   "execution_count": null,
   "id": "38409e7b-c47b-4231-91de-4b325d616445",
   "metadata": {},
   "outputs": [],
   "source": [
    "df_grouped = (\n",
    "    df.groupby([\"island\"])\n",
    "    .agg({\"species\": \"count\"})\n",
    "    .div(len(df))\n",
    "    .mul(100)\n",
    "    .round(2)\n",
    "    .reset_index()\n",
    "    .rename(columns={'species': 'cantidad'})\n",
    ")\n",
    "df_grouped"
   ]
  },
  {
   "cell_type": "code",
   "execution_count": null,
   "id": "1f4680cf-c86c-4de0-9715-36baf955e715",
   "metadata": {},
   "outputs": [],
   "source": [
    "px.pie(df_grouped, values=\"cantidad\", names=\"island\")"
   ]
  },
  {
   "cell_type": "markdown",
   "id": "80c4607d-a89a-48f1-9d70-6cffd36563f4",
   "metadata": {},
   "source": [
    "### Boxplots\n",
    "\n",
    "Permiten visualizar cuartiles y outliers de una variable.\n"
   ]
  },
  {
   "cell_type": "code",
   "execution_count": null,
   "id": "defa05b1-de8b-4ad9-8b00-4fcd5e203618",
   "metadata": {},
   "outputs": [],
   "source": [
    "px.histogram(df, x=\"flipper_length_mm\", color=\"species\", marginal='box', height=800)"
   ]
  },
  {
   "cell_type": "markdown",
   "id": "bebc3bfb-fefb-4e4c-966b-8c8be80af967",
   "metadata": {},
   "source": [
    "### Violin\n",
    "\n",
    "Permiten ver la distribución de distintas variables\n"
   ]
  },
  {
   "cell_type": "code",
   "execution_count": null,
   "id": "c4ab5863-5db2-4e7d-8e5d-84650d651d22",
   "metadata": {},
   "outputs": [],
   "source": [
    "px.violin(df, x=\"flipper_length_mm\", color=\"species\")"
   ]
  },
  {
   "cell_type": "markdown",
   "id": "3b56093c-d453-4621-9a01-ce40d44bf9f4",
   "metadata": {},
   "source": [
    "Otros gráficos interesantes:\n",
    "\n",
    "- Sunbrust: Gráfico de torta con más de una variable.\n",
    "- Coroplético: Coloreo de regiones en un mapa.\n",
    "- Gráficos de calor: muestra la densidad de una variable en una zona.\n",
    "- Gran etc...\n",
    "\n",
    "Visitar https://plotly.com/python/ para más información."
   ]
  },
  {
   "cell_type": "markdown",
   "id": "516b855d",
   "metadata": {},
   "source": [
    "---\n",
    "\n",
    "## 4.- La Tinta es Barata, los Electrones Aún Más"
   ]
  },
  {
   "cell_type": "markdown",
   "id": "f01f1931",
   "metadata": {},
   "source": [
    "El último se refiere al hecho de que no es necesario intentar incluir todos los aspectos que se quiera analizar en un solo gráfico, si no que por el contrario, podemos crear múltiples gráficos con distintos grupos por analizar sin mayores problemas. En terminos prácticos, el separar un gráfico implica una ventaja inesperada: incluir una nueva variable al análisis también conocida como el grupo de separación.\n",
    "\n",
    "> La Tinta es Barata, los Electrones Aún Más -> Hace más de un gráfico!\n",
    "\n",
    "El siguiente ejemplo muestra como podemos hacer un análisis diferenciado por especie del peso y el tamaño de la aleta."
   ]
  },
  {
   "cell_type": "code",
   "execution_count": null,
   "id": "b3aa6a48-3abb-4cc7-ba2f-851104d2b41a",
   "metadata": {},
   "outputs": [],
   "source": [
    "df.head()"
   ]
  },
  {
   "cell_type": "code",
   "execution_count": null,
   "id": "c953dbdb-dbbe-4673-a35f-3959e596ad52",
   "metadata": {},
   "outputs": [],
   "source": [
    "fig = px.scatter(df, x=\"flipper_length_mm\", y=\"body_mass_g\", color=\"culmen_length_mm\")\n",
    "fig.show()"
   ]
  },
  {
   "cell_type": "code",
   "execution_count": null,
   "id": "1de3cf7e",
   "metadata": {},
   "outputs": [],
   "source": [
    "fig = px.scatter(\n",
    "    df, x=\"flipper_length_mm\", \n",
    "    y=\"body_mass_g\", \n",
    "    color=\"culmen_length_mm\", \n",
    "    facet_col=\"species\",\n",
    "    facet_row=\"sex\",\n",
    "    height=800\n",
    ")\n",
    "\n",
    "fig.show()"
   ]
  },
  {
   "cell_type": "markdown",
   "id": "cfb24150",
   "metadata": {},
   "source": [
    "### Extra: Templates y Recorrido por la Documentación\n",
    "\n",
    "\n",
    "https://plotly.com/python/templates/"
   ]
  },
  {
   "cell_type": "code",
   "execution_count": null,
   "id": "6d95e82e",
   "metadata": {},
   "outputs": [],
   "source": [
    "fig = px.scatter(\n",
    "    df,\n",
    "    x=\"flipper_length_mm\",\n",
    "    y=\"body_mass_g\",\n",
    "    color=\"body_mass_g\",\n",
    "    facet_col=\"species\",\n",
    "    template=\"plotly_dark\",\n",
    ")\n",
    "\n",
    "fig.show()"
   ]
  }
 ],
 "metadata": {
  "kernelspec": {
   "display_name": "Python 3 (ipykernel)",
   "language": "python",
   "name": "python3"
  },
  "language_info": {
   "codemirror_mode": {
    "name": "ipython",
    "version": 3
   },
   "file_extension": ".py",
   "mimetype": "text/x-python",
   "name": "python",
   "nbconvert_exporter": "python",
   "pygments_lexer": "ipython3",
   "version": "3.9.16"
  },
  "toc": {
   "base_numbering": 1,
   "nav_menu": {},
   "number_sections": true,
   "sideBar": true,
   "skip_h1_title": false,
   "title_cell": "Table of Contents",
   "title_sidebar": "Contents",
   "toc_cell": false,
   "toc_position": {},
   "toc_section_display": true,
   "toc_window_display": false
  },
  "varInspector": {
   "cols": {
    "lenName": 16,
    "lenType": 16,
    "lenVar": 40
   },
   "kernels_config": {
    "python": {
     "delete_cmd_postfix": "",
     "delete_cmd_prefix": "del ",
     "library": "var_list.py",
     "varRefreshCmd": "print(var_dic_list())"
    },
    "r": {
     "delete_cmd_postfix": ") ",
     "delete_cmd_prefix": "rm(",
     "library": "var_list.r",
     "varRefreshCmd": "cat(var_dic_list()) "
    }
   },
   "types_to_exclude": [
    "module",
    "function",
    "builtin_function_or_method",
    "instance",
    "_Feature"
   ],
   "window_display": false
  }
 },
 "nbformat": 4,
 "nbformat_minor": 5
}
