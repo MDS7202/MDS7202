{
 "cells": [
  {
   "cell_type": "markdown",
   "id": "c678acd9-7b94-4a01-8205-431edfecc601",
   "metadata": {},
   "source": [
    "\n",
    "# Clase 9: Generación de Nuevas Columnas y Agregaciones\n",
    "\n",
    "**MDS7202: Laboratorio de Programación Científica para Ciencia de Datos**\n",
    "\n"
   ]
  },
  {
   "cell_type": "markdown",
   "id": "ebc25986-8ac4-4730-a716-bab6032ddc36",
   "metadata": {},
   "source": [
    "### Objetivos de la clase\n",
    "\n",
    "- Crear nuevas columnas a partir de datos existentes.\n",
    "- Comprender las agregaciones y su funcionamiento interno.\n",
    "- Aprender a generar agregaciones con pandas.\n"
   ]
  },
  {
   "cell_type": "markdown",
   "id": "1a581ea1",
   "metadata": {},
   "source": [
    "----\n",
    "\n",
    "## 1. Pandas 🐼"
   ]
  },
  {
   "cell_type": "markdown",
   "id": "7ba6b113",
   "metadata": {},
   "source": [
    "\n",
    "`Pandas` una librería para python utilizada para manejar datos tabulares. \n",
    "\n",
    "<div align='center'>\n",
    "<img src=\"https://raw.githubusercontent.com/MDS7202/MDS7202/main/recursos/2023-01/09-Pandas2/dataframe.png\" alt=\"DataFrames\" style=\"width: 800px;\"/>\n",
    "</div>\n",
    "\n",
    "\n",
    "Está diseñada para proveer herramientas que faciliten la exploración, limpieza y procesamiento de los datos. Su enfoque es *simplicidad y eficiencia*. Es, al igual que las librerías anteriores, *open-source*.\n",
    "\n",
    "\n",
    "La base de pandas son los `DataFrames`.\n",
    "\n"
   ]
  },
  {
   "cell_type": "markdown",
   "id": "c7afcc29",
   "metadata": {},
   "source": [
    "Como convención, `Pandas` se importa de la siguiente manera:"
   ]
  },
  {
   "cell_type": "code",
   "execution_count": null,
   "id": "f1ae310c",
   "metadata": {},
   "outputs": [],
   "source": [
    "import numpy as np\n",
    "import pandas as pd"
   ]
  },
  {
   "cell_type": "markdown",
   "id": "0cc1635a",
   "metadata": {},
   "source": [
    "### Entrada / Salida (IO)"
   ]
  },
  {
   "cell_type": "markdown",
   "id": "06e22870",
   "metadata": {},
   "source": [
    "La lectura de datos en `pandas` es muy sencilla: `pandas` es compatible con muchos tipos de archivos y fuentes de datos de forma nativa:\n",
    "\n",
    "- `CSV`\n",
    "- `Excel`\n",
    "- `SQL`\n",
    "- `Json`\n",
    "- ...\n",
    "\n",
    "Los datos almacenados en estas fuentes pueden ser importados a `DataFrames` a través de las funcioes `read_*`\n",
    "\n",
    "De la misma forma, es capaz de guardar los DataFrames en el formato que deseen usando las funciones `to_*`\n",
    "\n",
    "<div align='center'>\n",
    "\n",
    "<img src=\"https://raw.githubusercontent.com/MDS7202/MDS7202/main/recursos/2023-01/09-Pandas2/pandas_io.png\" alt=\"DataFrames\" style=\"width: 800px;\"/>\n",
    "</div>\n",
    "    \n",
    "Toda la información acerca de que puede o no leer la encuentran en la siguiente referencia: https://pandas.pydata.org/docs/user_guide/io.html"
   ]
  },
  {
   "cell_type": "markdown",
   "id": "e64f4976",
   "metadata": {},
   "source": [
    "### Índices para una Vida Mejor\n",
    "\n",
    "Para explicar `pandas`, analizaremos datos de la OECD, en particular de los índices para una Vida Mejor:\n",
    "\n",
    "\n",
    "<img src=\"https://raw.githubusercontent.com/MDS7202/MDS7202/main/recursos/2023-01/09-Pandas2/oecd.png\" alt=\"OECD Better life index\"/>\n",
    "\n",
    "\n",
    "http://www.oecdbetterlifeindex.org/\n",
    "\n",
    "https://stats.oecd.org/Index.aspx?DataSetCode=BLI\n",
    "\n",
    "Son 11 temas considerados como esenciales para el bienestar de la población. Cada crierio contiene uno o mas indicadores\n",
    "\n",
    "| Tema | Indicador (Inglés) | Indicador (Español) | Unidad | Descripción |\n",
    "|---|---|---|---|---|\n",
    "| Vivienda 🏠 | Dwellings without basic facilities | Vivienda con Instalaciones Básicas | Porcentaje | Porcentaje de personas con inodoros de agua corriente dentro del hogar, año disponible más reciente |\n",
    "|  | Housing expenditure | Gastos en Vivienda | Porcentaje | Proporción de costos de vivienda en el ingreso neto ajustado de las familias, año disponible más reciente |\n",
    "|  | Rooms per person | Habitaciones por Persona | Ratio | Número promedio de habitaciones compartidas por persona en una vivienda, año disponible más reciente |\n",
    "| Ingresos 💰 | Household net adjusted disposable income | Ingreso Familiar Disponible | US Dollar | Cantidad promedio de dinero que una familia gana al año, después de impuestos, año disponible más reciente |\n",
    "|  | Household net wealth | Patrimonio Neto Familiar | US Dollar | Valor total promedio de los activos financieros de una familia (ahorros, acciones) menos sus pasivos (créditos), año disponible más reciente |\n",
    "| Empleo ⚙️ | Labour market insecurity | Seguridad en el Empleo | Porcentaje | Pérdida esperada de ingresos cuando alguien queda desempleado, año disponible más reciente |\n",
    "|  | Employment rate | Tasa de Empleo | Porcentaje | Porcentaje de personas, de 15 a 64 años de edad, actualmente con empleo remunerado, año disponible más reciente |\n",
    "|  | Long-term unemployment rate | Tasa de Empleo a Largo Plazo | Porcentaje | Porcentaje de personas, de 15 a 64 años de edad, que no trabajan pero que han buscado empleo activamente durante más de un año, año disponible más reciente |\n",
    "|  | Personal earnings | Ingresos Personales | US Dollar | Ingresos anuales promedio por empleado de tiempo completo, año disponible más reciente |\n",
    "| Comunidad 🧑‍🤝‍🧑   | Quality of support network  | Calidad del Apoyo Social | Porcentaje | Porcentaje de personas con amigos o parientes en quienes confiar en caso de necesidad |\n",
    "| Educación 📚 | Educational attainment | Nivel de Educación | Porcentaje | Porcentaje de personas, de 25 a 64 años de edad, graduadas por lo menos de educación media superior, año disponible más reciente |\n",
    "|  | Student skills | Competencias de estudiantes en matemáticas, lectura y ciencias | Puntaje promedio | Desempeño promedio de estudiantes de 15 años de edad, según PISA (Programa para la Evaluación Internacional de Estudiantes) |\n",
    "|  | Years in education  | Nivel de educación | Años | Duración promedio de la educación formal en la que un niño de cinco años de edad puede esperar matricularse durante su vida |\n",
    "| Medio Ambiente 🌳 | Air pollution | Contaminación del Aire | Microgramos por metro cúbico | Concentración promedio de partículas (PM2.5) en ciudades con poblaciones mayores de 100,000 personas, medida en microgramos por metro cúbico, año disponible más reciente |\n",
    "|  | Water quality | Calidad del Agua | Porcentaje | Porcentaje de personas que informan estar satisfechas con la calidad del agua local |\n",
    "| Compromiso Cívico 🗳️  | Stakeholder engagement for developing regulations | Participación de los interesados en la elaboración de regulaciones | Puntaje promedio | Nivel de transparencia gubernamental al preparar las regulaciones, año disponible más reciente |\n",
    "|  | Voter turnout | Participación electoral | Porcentaje | Porcentaje de votantes registrados que votaron durante las elecciones recientes, año disponible más reciente |\n",
    "| Salud ⚕️ | Life expectancy | Esperanza de vida | Años | Número promedio de años que una persona puede esperar vivir, año disponible más reciente |\n",
    "|  | Self-reported health | Salud según informan las personas | Porcentaje | Porcentaje de personas que informan que su salud es «buena o muy buena», año disponible más reciente |\n",
    "| Satisfacción ✨ | Life satisfaction | Satisfacción ante la vida | Puntaje promedio | Autoevaluación promedio de satisfacción ante la vida, en una escala de 0 a 10 |\n",
    "| Seguridad 🌃 | Feeling safe walking alone at night | Sentimiento de seguridad al caminar solos por la noche | Porcentaje | Porcentaje de personas que reportan sentirse seguras al caminar solas por la noche  |\n",
    "|  | Homicide rate | Tasa de homicidios | Ratio | Número promedio de homicidios reportados por 100,000 personas, año disponible más reciente |\n",
    "| Balance Vida Trabajo 🧘 | Employees working very long hours | Empleados que trabajan muchas horas | Porcentaje | Porcentaje de empleados que trabajan más de cincuenta horas a la semana en promedio, año disponible más reciente |\n",
    "|  | Time devoted to leisure and personal care | Tiempo destinado al ocio y el cuidado personal | Horas | Número promedio de minutos al día dedicados al ocio y el cuidado personal, incluidos el sueño y la alimentación |"
   ]
  },
  {
   "cell_type": "markdown",
   "id": "072c6114",
   "metadata": {},
   "source": [
    "### Importar el Dataset\n",
    "\n",
    "A continuacion, importaremos el dataset a un `DataFrame`. Noten la gran compatiblidad de `Jupyter` con los DataFrames (DF).\n",
    "\n",
    "Cada DataFrame tiene **indices (Primera columna ) y columnas (primera fila)**. Comunmente se ocupan:\n",
    "\n",
    "- En las columnas se ocupan `strings` que identifican el nombre de la variable.\n",
    "- Enteros que identifican el número de la observación en las filas. \n",
    "\n",
    "Sin embargo, las filas también pueden ser identificadas por strings como las columnas por enteros"
   ]
  },
  {
   "cell_type": "code",
   "execution_count": null,
   "id": "9183961c-ea94-4837-9927-f9a457d0e624",
   "metadata": {},
   "outputs": [],
   "source": [
    "# para abrir archivos excel y visualizar hay que instalar esta dependencia extra\n",
    "!pip install pandas openpyxl matplotlib plotly statsmodels"
   ]
  },
  {
   "cell_type": "code",
   "execution_count": null,
   "id": "c9ca811d",
   "metadata": {},
   "outputs": [],
   "source": [
    "import pandas as pd\n",
    "\n",
    "# utilidad para mostrar todas las columnas\n",
    "pd.set_option(\"display.max_columns\", None)\n",
    "\n",
    "df = pd.read_excel(\n",
    "    \"dataset.xlsx\",\n",
    "    header=1,\n",
    "    index_col=0,\n",
    ")\n",
    "df"
   ]
  },
  {
   "cell_type": "markdown",
   "id": "a8a25911-65d0-453c-a20e-c5116060789e",
   "metadata": {},
   "source": [
    "> **Pregunta ❓:** ¿Cómo puedo obtener solo los datos ambientales (columnas `\"Water quality\"` y `\"Air pollution\"`) de todos los paises y guardarlo en un dataframe?"
   ]
  },
  {
   "cell_type": "code",
   "execution_count": null,
   "id": "76931b23-5b20-4dea-b99b-4962bafa97cb",
   "metadata": {},
   "outputs": [],
   "source": [
    "df_ambiental = df.loc[:, [\"Water quality\", \"Air pollution\"]]\n",
    "df_ambiental"
   ]
  },
  {
   "cell_type": "markdown",
   "id": "c891da20-8bd4-47db-bef1-11b408a2024a",
   "metadata": {},
   "source": [
    "> **Pregunta ❓**: Y ahora, ¿Cómo puedo obtener solo los datos de Chile?"
   ]
  },
  {
   "cell_type": "code",
   "execution_count": null,
   "id": "833d79ff-e62a-4cfd-abc4-1ae49c85a40f",
   "metadata": {},
   "outputs": [],
   "source": [
    "df_ambiental.loc[\"Chile\", \"Air pollution\"]"
   ]
  },
  {
   "cell_type": "markdown",
   "id": "ff9fc0c6",
   "metadata": {
    "tags": []
   },
   "source": [
    "---\n",
    "\n",
    "## 1.- Generación de Nuevas Columnas\n",
    "\n",
    "En esta sección aprenderemos como generar nuevas columnas a partir de la información existente en un dataframe.\n",
    "En particular, veremos el cómo crear:\n",
    "\n",
    "- Rankings\n",
    "- Bins / Intervalos\n",
    "- Cuantiles\n",
    "\n"
   ]
  },
  {
   "cell_type": "markdown",
   "id": "d8c0f1dd-c7fa-46b0-83d2-719ad6284c0b",
   "metadata": {},
   "source": [
    "> **Pregunta ❓**: ¿Qué utilidad podría tener el saber generar nuevas columnas al momento de crear modelos predictivos?\n"
   ]
  },
  {
   "cell_type": "markdown",
   "id": "0dc6b7a1-e637-43ec-8380-5e6947dd6b29",
   "metadata": {},
   "source": [
    "### 1.1 Rankings\n",
    "\n",
    "Un ranking es una clasificación que ordena de mayor a menor los datos a partir de algún tipo de evaluación."
   ]
  },
  {
   "cell_type": "code",
   "execution_count": null,
   "id": "e5eeb131-778e-48b2-95bb-c30ee583be83",
   "metadata": {},
   "outputs": [],
   "source": [
    "df_ambiental.loc[:, \"Air pollution\"]"
   ]
  },
  {
   "cell_type": "code",
   "execution_count": null,
   "id": "4e141812",
   "metadata": {},
   "outputs": [],
   "source": [
    "air_pollution_rank = df_ambiental.loc[:, \"Air pollution\"].rank(\n",
    "    ascending=True,\n",
    "    method=\"min\",\n",
    ")\n",
    "air_pollution_rank"
   ]
  },
  {
   "cell_type": "code",
   "execution_count": null,
   "id": "22261abd-eb7a-4eb7-9e54-d0bbabd23572",
   "metadata": {},
   "outputs": [],
   "source": [
    "air_pollution_rank.sort_values()"
   ]
  },
  {
   "cell_type": "markdown",
   "id": "29524ff4-7eb1-4da9-8927-8c44ae5909c3",
   "metadata": {},
   "source": [
    "> **Pregunta ❓** ¿Qué pasa cuando tenemos datos con el mismo valor?\n",
    "\n",
    "Hint: [Documentación oficial de Rank](https://pandas.pydata.org/docs/reference/api/pandas.DataFrame.rank.html)."
   ]
  },
  {
   "cell_type": "markdown",
   "id": "5bfcb17e-12c8-4372-84aa-2e99f8d32d31",
   "metadata": {},
   "source": [
    "\n",
    "### 1.2 Dividir datos numéricos en intervalos\n",
    "\n",
    "La función `pd.cut` permite separar los datos de una columna en bins/intervalos de igual tamaño, los cuales son calculados dividiendo el rango (maximo - mínimo) en la cantidad de bins indicada.\n",
    "\n",
    "Los bins resultantes pueden ser interpretados como categorías.\n",
    "\n"
   ]
  },
  {
   "cell_type": "code",
   "execution_count": null,
   "id": "4744fab7-44ff-40d2-912b-f2615b9e22e0",
   "metadata": {},
   "outputs": [],
   "source": [
    "2322/5"
   ]
  },
  {
   "cell_type": "markdown",
   "id": "c200087f-1877-4a99-8811-b151c7f8ccae",
   "metadata": {},
   "source": [
    "> **Pregunta ❓**: ¿Cuántos datos quedan en cada bin? ¿Igual o distinta cantidad por bin?"
   ]
  },
  {
   "cell_type": "code",
   "execution_count": null,
   "id": "5cb914b4-c07d-449e-b8b9-eecdce58a2c7",
   "metadata": {},
   "outputs": [],
   "source": [
    "df_ambiental.loc[:, \"Air pollution\"]"
   ]
  },
  {
   "cell_type": "code",
   "execution_count": null,
   "id": "7ac1bd60-b879-4f09-a86a-13e5dd3bd908",
   "metadata": {},
   "outputs": [],
   "source": [
    "import plotly.express as px\n",
    "\n",
    "px.histogram(df_ambiental, x=\"Air pollution\", nbins=6)"
   ]
  },
  {
   "cell_type": "markdown",
   "id": "db4426c2-a8d8-403a-b36d-9aad174a4c67",
   "metadata": {},
   "source": [
    "> **Ejercicio 📝:** Calcular los bins de `Air pollution` al dividir el rango de la columna en 5 bins."
   ]
  },
  {
   "cell_type": "code",
   "execution_count": null,
   "id": "10cceb81-f6ec-4bf3-8164-7a1e16390579",
   "metadata": {},
   "outputs": [],
   "source": [
    "min_ = df_ambiental.loc[:, \"Air pollution\"].min()\n",
    "min_"
   ]
  },
  {
   "cell_type": "code",
   "execution_count": null,
   "id": "4ac917a6-0777-4ebe-876c-86d3fb9ceac4",
   "metadata": {},
   "outputs": [],
   "source": [
    "max_ = df_ambiental.loc[:, \"Air pollution\"].max()\n",
    "max_"
   ]
  },
  {
   "cell_type": "code",
   "execution_count": null,
   "id": "be20d407-a26e-4d0b-a05b-b5a30a80b53e",
   "metadata": {},
   "outputs": [],
   "source": [
    "rango = max_ - min_\n",
    "rango"
   ]
  },
  {
   "cell_type": "code",
   "execution_count": null,
   "id": "06da23b1-5a71-4272-bdf5-612eca08d99b",
   "metadata": {},
   "outputs": [],
   "source": [
    "n_bins = 5\n",
    "\n",
    "print(\"Tamaño de cada intervalo =\", rango / n_bins)"
   ]
  },
  {
   "cell_type": "code",
   "execution_count": null,
   "id": "34b046da-1644-4565-94ae-9a73b757355b",
   "metadata": {},
   "outputs": [],
   "source": [
    "# intervalos: [3, 8), (8, 13], (13, 17], (17, 23], (23, 28]\n",
    "\n",
    "# chile -> (13, 17]\n",
    "# korea -> (23, 28]"
   ]
  },
  {
   "cell_type": "code",
   "execution_count": null,
   "id": "00b2be5e-b867-4ce0-afd7-36181a698210",
   "metadata": {},
   "outputs": [],
   "source": [
    "air_pollution_cut = pd.cut(df_ambiental.loc[:, \"Air pollution\"], bins=5,)\n",
    "air_pollution_cut"
   ]
  },
  {
   "cell_type": "code",
   "execution_count": null,
   "id": "1fd5164f-52c4-4f58-9142-e49e9806a481",
   "metadata": {},
   "outputs": [],
   "source": [
    "air_pollution_cut.values"
   ]
  },
  {
   "cell_type": "markdown",
   "id": "93f60390-76ce-43d5-a30d-cef1e1e8ed7a",
   "metadata": {},
   "source": [
    "> **Pregunta ❓**: ¿Podemos asignar los intervalos a mano?"
   ]
  },
  {
   "cell_type": "code",
   "execution_count": null,
   "id": "bbc9b109-50e7-4088-b001-fab85259ac19",
   "metadata": {},
   "outputs": [],
   "source": [
    "air_pollution_cut = pd.cut(\n",
    "    df_ambiental.loc[:, \"Air pollution\"], \n",
    "    bins=[0, 15, 20, 24, 28])\n",
    "air_pollution_cut"
   ]
  },
  {
   "cell_type": "markdown",
   "id": "ae3108dd-1a47-4911-8062-aa7438bdb56a",
   "metadata": {},
   "source": [
    "> **Pregunta ❓** ¿Qué problema presentan las categorías recién generadas?"
   ]
  },
  {
   "cell_type": "code",
   "execution_count": null,
   "id": "cb0b46bb-fb93-4c7e-ab0d-044f1f33dd24",
   "metadata": {},
   "outputs": [],
   "source": [
    "#  [(2.975, 8.0] < (8.0, 13.0] < (13.0, 18.0] < (18.0, 23.0] < (23.0, 28.0]]\n",
    "air_pollution_cut = pd.cut(\n",
    "    df_ambiental.loc[:, \"Air pollution\"],\n",
    "    bins=4,\n",
    "    labels=[\"Bueno\", \"Medio\", \"Malo\", \"Deplorable\"],\n",
    ")\n",
    "air_pollution_cut"
   ]
  },
  {
   "cell_type": "markdown",
   "id": "050580e6-f93b-4f3c-8f16-07c6d2cd669d",
   "metadata": {},
   "source": [
    "> **Pregunta ❓:** Entonces, ¿los bins quedaban con la misma o distinta cantidad de datos?"
   ]
  },
  {
   "cell_type": "code",
   "execution_count": null,
   "id": "b48f6f41-d7e8-4a6a-9619-5267a18e6f38",
   "metadata": {},
   "outputs": [],
   "source": [
    "air_pollution_cut.value_counts()"
   ]
  },
  {
   "cell_type": "markdown",
   "id": "56109e2d-48e8-4b95-9ff7-96ff43a3fa78",
   "metadata": {},
   "source": [
    "### 1.3 Dividir datos numéricos en cuantiles \n",
    "\n",
    "La función `pd.qcut` permite dividir los datos por cuantiles, los cuales a diferencia del anterior, tienen (_o intentan tener_) la misma cantidad de datos por cada intervalo generado.\n",
    "\n",
    "\n",
    "Al igual que el caso anterior, podemos especificar como nombrar los cuantiles a través del atributo `labels`:"
   ]
  },
  {
   "cell_type": "code",
   "execution_count": null,
   "id": "b679d56b-b8d2-49be-b81b-a6219d6a9158",
   "metadata": {},
   "outputs": [],
   "source": [
    "air_pollution_qcut = pd.qcut(\n",
    "    df_ambiental.loc[:, \"Air pollution\"],\n",
    "    q=4,\n",
    ")\n",
    "\n",
    "air_pollution_qcut"
   ]
  },
  {
   "cell_type": "code",
   "execution_count": null,
   "id": "c8886674-6847-4faf-bd59-74a657fe71be",
   "metadata": {},
   "outputs": [],
   "source": [
    "water_quality_qcut = pd.qcut(\n",
    "    df_ambiental[\"Water quality\"],\n",
    "    q=5,\n",
    ")\n",
    "\n",
    "water_quality_qcut"
   ]
  },
  {
   "cell_type": "code",
   "execution_count": null,
   "id": "15d89db4-3763-440a-9dde-520e97798930",
   "metadata": {},
   "outputs": [],
   "source": [
    "water_quality_qcut.value_counts()"
   ]
  },
  {
   "cell_type": "markdown",
   "id": "3eeeec3b-a3d4-4976-bb33-41ecd8e8d763",
   "metadata": {},
   "source": [
    "> **Pregunta ❓**: ¿Podemos asignar etiquetas en vez de intervalos (i.e., `\"Excelente\"`, `\"Bueno\"`, `\"Medio\"`, `\"Malo\"`, `\"Deplorable\"`)?"
   ]
  },
  {
   "cell_type": "code",
   "execution_count": null,
   "id": "6ea1696a-9fb6-458a-9bfa-0a75f93590b4",
   "metadata": {},
   "outputs": [],
   "source": [
    "df_ambiental[\"Water quality\"]"
   ]
  },
  {
   "cell_type": "code",
   "execution_count": null,
   "id": "34ae4883-d273-41eb-9d62-991e62c4fa8e",
   "metadata": {},
   "outputs": [],
   "source": [
    "water_quality_qcut = pd.qcut(\n",
    "    df_ambiental[\"Water quality\"],\n",
    "    q=5,\n",
    "    labels=[\"Deplorable\", \"Malo\", \"Medio\", \"Bueno\", \"Excelente\"],\n",
    ")\n",
    "\n",
    "water_quality_qcut"
   ]
  },
  {
   "cell_type": "markdown",
   "id": "2b024651-a651-4976-8807-8ff2e0d08d42",
   "metadata": {},
   "source": [
    "> **Pregunta ❓**: ¿Tienen sentido los bins generados? Para responder esto, interpretar el valor de la calidad de agua en Chile y su cuantil asociado."
   ]
  },
  {
   "cell_type": "markdown",
   "id": "55de9df1",
   "metadata": {},
   "source": [
    "### 1.4 Asignación de nuevas columnas a un DataFrame\n",
    "\n",
    "Hasta el momento hemos generado nuevas columnas, pero no las hemos guardado en ningún dataframe. Sin embargo sería idea poder unir estas columnas con sus respectivos datos originales.\n",
    "\n",
    "**Si los índices del dataframe son los mismos que el de la nueva columna**, podemos asignar una serie como una nueva columna de nuestro DataFrame de la siguiente forma:"
   ]
  },
  {
   "cell_type": "code",
   "execution_count": null,
   "id": "88cfb364-2ca5-4c0c-b931-684febfbf4cb",
   "metadata": {},
   "outputs": [],
   "source": [
    "df_ambiental.loc[:, \"Air pollution Ranking\"] = air_pollution_rank\n",
    "df_ambiental"
   ]
  },
  {
   "cell_type": "code",
   "execution_count": null,
   "id": "63827c98",
   "metadata": {},
   "outputs": [],
   "source": [
    "df_ambiental.loc[:, \"Air pollution Ranking\"] = air_pollution_rank\n",
    "df_ambiental.loc[:, \"Air pollution Bins\"] = air_pollution_cut\n",
    "df_ambiental.loc[:, \"Air pollution Quintile\"] = air_pollution_qcut\n",
    "\n",
    "df_ambiental.sort_values(by=\"Air pollution Ranking\")"
   ]
  },
  {
   "cell_type": "markdown",
   "id": "9e62408f-0743-443d-8629-b3937c158bb0",
   "metadata": {},
   "source": [
    "---"
   ]
  },
  {
   "cell_type": "markdown",
   "id": "da1d827e-de87-462e-bdc4-959521881d38",
   "metadata": {},
   "source": [
    "## 2.- Agregaciones\n"
   ]
  },
  {
   "cell_type": "markdown",
   "id": "1a38def3-a110-405b-97e3-96ae2ed49dbb",
   "metadata": {
    "tags": []
   },
   "source": [
    "### Motivación: Dataset de Temperaturas Globales\n",
    "\n",
    "![wbg_climate](https://raw.githubusercontent.com/MDS7202/MDS7202/main/recursos/2023-01/09-Pandas2/wbg_climate.png)\n",
    "\n",
    "\n",
    "https://climateknowledgeportal.worldbank.org/download-data"
   ]
  },
  {
   "cell_type": "markdown",
   "id": "89ea8554-2ca2-4c61-8708-24fb3790f02e",
   "metadata": {},
   "source": [
    "**Cargar Dataset de Temperaturas Globales**"
   ]
  },
  {
   "cell_type": "code",
   "execution_count": null,
   "id": "6267129c-b9ea-4bbf-913c-95ca5fee7653",
   "metadata": {},
   "outputs": [],
   "source": [
    "import pandas as pd"
   ]
  },
  {
   "cell_type": "code",
   "execution_count": null,
   "id": "87841d73",
   "metadata": {},
   "outputs": [],
   "source": [
    "temperaturas = pd.read_csv(\n",
    "    \"temperature.csv\")\n",
    "temperaturas.head(20)"
   ]
  },
  {
   "cell_type": "code",
   "execution_count": null,
   "id": "f068c030-f7fc-4a0e-b4b1-4e896d737ada",
   "metadata": {},
   "outputs": [],
   "source": [
    "temperaturas.shape"
   ]
  },
  {
   "cell_type": "code",
   "execution_count": null,
   "id": "329c818f",
   "metadata": {
    "scrolled": true
   },
   "outputs": [],
   "source": [
    "temperaturas.columns"
   ]
  },
  {
   "cell_type": "markdown",
   "id": "4373bf5c-323e-4e46-a4f4-0a129a1fdbfa",
   "metadata": {},
   "source": [
    "**Filtrar solo los de Chile**"
   ]
  },
  {
   "cell_type": "code",
   "execution_count": null,
   "id": "6e06add5-c130-4301-9c5e-4c023a09a92e",
   "metadata": {},
   "outputs": [],
   "source": [
    "temperaturas.loc[:, \"Country\"] == \"Chile\""
   ]
  },
  {
   "cell_type": "code",
   "execution_count": null,
   "id": "54e03005",
   "metadata": {},
   "outputs": [],
   "source": [
    "t_chile = temperaturas.loc[temperaturas.loc[:, \"Country\"] == \"Chile\", :]\n",
    "t_chile"
   ]
  },
  {
   "cell_type": "code",
   "execution_count": null,
   "id": "e584ba21",
   "metadata": {},
   "outputs": [],
   "source": [
    "import plotly.express as px\n",
    "\n",
    "px.line(t_chile, x=\"Month\", y=\"Temperature\", color=\"Year\", height=600)"
   ]
  },
  {
   "cell_type": "markdown",
   "id": "ea822ba4-b236-499f-a7c1-a75fb602759a",
   "metadata": {},
   "source": [
    "> **Pregunta ❓:** ¿Cómo podría saber el promedio de temperaturas por año?"
   ]
  },
  {
   "cell_type": "code",
   "execution_count": null,
   "id": "d15eacc1-d75c-4de9-a971-5b498d7e4b0c",
   "metadata": {},
   "outputs": [],
   "source": [
    "..."
   ]
  },
  {
   "cell_type": "code",
   "execution_count": null,
   "id": "547ae321-e64b-43bd-b09b-21190ea68888",
   "metadata": {},
   "outputs": [],
   "source": [
    "t_chile.loc[:, \"Year\"].unique()"
   ]
  },
  {
   "cell_type": "code",
   "execution_count": null,
   "id": "c7c8ee18-c33c-4150-a43d-93252040ad75",
   "metadata": {},
   "outputs": [],
   "source": [
    "t_chile[t_chile.loc[:, \"Year\"] == 1991]"
   ]
  },
  {
   "cell_type": "code",
   "execution_count": null,
   "id": "f61f5ddb-76bd-4014-9d50-b268f421794e",
   "metadata": {},
   "outputs": [],
   "source": [
    "t_chile[t_chile.loc[:, \"Year\"] == 1991].loc[:, \"Temperature\"].mean()"
   ]
  },
  {
   "cell_type": "code",
   "execution_count": null,
   "id": "84a4431d-faa4-42fb-abab-384ac4dde97b",
   "metadata": {},
   "outputs": [],
   "source": [
    "t_chile[t_chile.loc[:, \"Year\"] == 1992].loc[:, \"Temperature\"].mean()"
   ]
  },
  {
   "cell_type": "code",
   "execution_count": null,
   "id": "a0afbda8-30fe-4174-8868-edb3ba5a81fd",
   "metadata": {},
   "outputs": [],
   "source": [
    "t_chile[t_chile.loc[:, \"Year\"] == 1993].loc[:, \"Temperature\"].mean()"
   ]
  },
  {
   "cell_type": "code",
   "execution_count": null,
   "id": "10c67114-300f-461f-9607-9abb1ff0709b",
   "metadata": {},
   "outputs": [],
   "source": [
    "t_chile.groupby([\"Year\"]).mean()"
   ]
  },
  {
   "cell_type": "markdown",
   "id": "706b6ab0-d274-4ac8-aae2-31b477e631ee",
   "metadata": {},
   "source": [
    "---\n",
    "\n",
    "## 5.- Agregaciones con `GroupBy`\n",
    "\n",
    "\n",
    "![Group By](https://raw.githubusercontent.com/MDS7202/MDS7202/main/recursos/2023-01/09-Pandas2/group_by.png)\n",
    "\n",
    "**Group by** es un proceso que implica uno o más de los siguientes pasos:\n",
    "\n",
    "\n",
    "- **Separar** los datos bajo algún criterio o grupo.\n",
    "\n",
    "- **Aplicar** esta función a estos datos agrupados.\n",
    "\n",
    "- **Combinar** los resultados en un nuevo `DataFrame`.\n",
    "\n",
    "\n",
    "Luego, definimos agregar como calcular alguna métrica o estadístico por grupo.\n",
    "\n",
    "<div align='center'>\n",
    "<img src=\"https://raw.githubusercontent.com/MDS7202/MDS7202/main/recursos/2023-01/09-Pandas2/aggregations.png\" alt=\"Agregaciones\" width=500px/>\n",
    "</div>\n"
   ]
  },
  {
   "cell_type": "markdown",
   "id": "11a2d072-77c5-4205-87e2-91874aff2cbc",
   "metadata": {},
   "source": [
    "### Paso 1: Separar\n",
    "\n",
    "En esta parte veremos el primer paso del group-by: **Separar** por grupos.\n",
    "\n",
    "\n",
    "![Group By](https://raw.githubusercontent.com/MDS7202/MDS7202/main/recursos/2023-01/09-Pandas2/group_by.png)\n"
   ]
  },
  {
   "cell_type": "markdown",
   "id": "1a898a60-577f-4b49-9ae9-aa998814b958",
   "metadata": {},
   "source": [
    "Para esto, agrupamos temperaturas de Chile por mes:"
   ]
  },
  {
   "cell_type": "markdown",
   "id": "2d240424-82d5-485f-b6a8-67b1acdfd970",
   "metadata": {},
   "source": [
    "#### Cantidad de Grupos"
   ]
  },
  {
   "cell_type": "code",
   "execution_count": null,
   "id": "9e96e7fe",
   "metadata": {},
   "outputs": [],
   "source": [
    "t_chile.head(10)"
   ]
  },
  {
   "cell_type": "code",
   "execution_count": null,
   "id": "f6ab5efa-b4b2-4128-9cac-753a04099d09",
   "metadata": {},
   "outputs": [],
   "source": [
    "t_chile.groupby(\"Year\")"
   ]
  },
  {
   "cell_type": "code",
   "execution_count": null,
   "id": "4939c4e9-6f27-4fdc-a236-0c185d5a19c9",
   "metadata": {},
   "outputs": [],
   "source": [
    "t_chile.groupby(\"Year\").groups"
   ]
  },
  {
   "cell_type": "code",
   "execution_count": null,
   "id": "08541c81-c93b-4be9-a500-421073b8a914",
   "metadata": {},
   "outputs": [],
   "source": [
    "t_chile.loc[\n",
    "    [10608, 10609, 10610, 10611, 10612, 10613, 10614, 10615, 10616, 10617, 10618, 10619]\n",
    "]"
   ]
  },
  {
   "cell_type": "markdown",
   "id": "4edd9117-2c1f-4686-80f4-07430a1ca271",
   "metadata": {},
   "source": [
    "#### Obtener algún grupo en particular"
   ]
  },
  {
   "cell_type": "code",
   "execution_count": null,
   "id": "cda5cfd9-dc83-40e8-a03a-09ab6b5c8213",
   "metadata": {},
   "outputs": [],
   "source": [
    "t_chile[t_chile.loc[:, \"Year\"] == 1991]"
   ]
  },
  {
   "cell_type": "code",
   "execution_count": null,
   "id": "6ed0b12b",
   "metadata": {},
   "outputs": [],
   "source": [
    "t_chile.groupby(\"Year\").get_group(1991)"
   ]
  },
  {
   "cell_type": "markdown",
   "id": "5960ed7a-0a55-48e0-b6c9-13ab98a31c7f",
   "metadata": {},
   "source": [
    "### Paso 2: Aplicar\n",
    "\n",
    "En este paso veremos las distintas opciones que tenemos en el paso **aplicar**: agregar, transformar o filtrar.\n",
    "\n",
    "![Group By](https://raw.githubusercontent.com/MDS7202/MDS7202/main/recursos/2023-01/09-Pandas2/group_by.png)\n",
    "\n"
   ]
  },
  {
   "cell_type": "markdown",
   "id": "fc58c7bb-33a6-4151-89c1-f39ec2d94915",
   "metadata": {},
   "source": [
    "#### Agregar\n",
    "\n",
    "Las funciones que ofrece pandas son:\n",
    "\n",
    "<div align='center'>\n",
    "<img src=\"https://raw.githubusercontent.com/MDS7202/MDS7202/main/recursos/2023-01/09-Pandas2/aggregations.png\" alt=\"Agregaciones\" width=500px/>\n",
    "</div>"
   ]
  },
  {
   "cell_type": "markdown",
   "id": "6151c0f8-73ad-4243-ac49-e501ea5554ef",
   "metadata": {},
   "source": [
    "##### Tamaño"
   ]
  },
  {
   "cell_type": "code",
   "execution_count": null,
   "id": "3ea00d66",
   "metadata": {},
   "outputs": [],
   "source": [
    "t_chile.groupby(\"Year\").size()"
   ]
  },
  {
   "cell_type": "markdown",
   "id": "a6c15ff2-efe1-474e-902c-380e84b75f8f",
   "metadata": {},
   "source": [
    "##### Promedio\n",
    "\n",
    "**Por  Mes**"
   ]
  },
  {
   "cell_type": "code",
   "execution_count": null,
   "id": "eb0b2893",
   "metadata": {},
   "outputs": [],
   "source": [
    "t_chile"
   ]
  },
  {
   "cell_type": "code",
   "execution_count": null,
   "id": "80729f57",
   "metadata": {},
   "outputs": [],
   "source": [
    "t_chile_prom_mes = t_chile.groupby(\"Year\").mean()\n",
    "t_chile_prom_mes"
   ]
  },
  {
   "cell_type": "code",
   "execution_count": null,
   "id": "8c96764c",
   "metadata": {},
   "outputs": [],
   "source": [
    "# Arreglo de conveniencia para ordenar los resultados por mes.\n",
    "MESES = [\n",
    "    \"Jan\",\n",
    "    \"Feb\",\n",
    "    \"Mar\",\n",
    "    \"Apr\",\n",
    "    \"May\",\n",
    "    \"Jun\",\n",
    "    \"Jul\",\n",
    "    \"Aug\",\n",
    "    \"Sep\",\n",
    "    \"Oct\",\n",
    "    \"Nov\",\n",
    "    \"Dec\",\n",
    "]\n",
    "\n",
    "t_chile_prom_mes = t_chile.groupby(\"Month\").mean()\n",
    "t_chile_prom_mes = t_chile_prom_mes.loc[MESES]\n",
    "\n",
    "t_chile_prom_mes"
   ]
  },
  {
   "cell_type": "code",
   "execution_count": null,
   "id": "f7575d3d",
   "metadata": {},
   "outputs": [],
   "source": [
    "px.line(\n",
    "    t_chile_prom_mes[\"Temperature\"],\n",
    "    title=\"Temperatura Promedio en Chile por Mes\",\n",
    ")"
   ]
  },
  {
   "cell_type": "code",
   "execution_count": null,
   "id": "acdface6",
   "metadata": {},
   "outputs": [],
   "source": [
    "t_chile"
   ]
  },
  {
   "cell_type": "markdown",
   "id": "225afd58-38c3-4ec5-bf6e-be893eba6a7f",
   "metadata": {},
   "source": [
    "> Ejercicio: Agrupar por lustros y ver como se mueve la media."
   ]
  },
  {
   "cell_type": "markdown",
   "id": "70bf03ff-2bc1-40da-9c68-852499073d63",
   "metadata": {},
   "source": [
    "**Por Año**"
   ]
  },
  {
   "cell_type": "code",
   "execution_count": null,
   "id": "84fccfbd",
   "metadata": {},
   "outputs": [],
   "source": [
    "t_chile_prom_año = t_chile.groupby(\"Year\").mean()\n",
    "t_chile_prom_año"
   ]
  },
  {
   "cell_type": "code",
   "execution_count": null,
   "id": "64cb4724",
   "metadata": {},
   "outputs": [],
   "source": [
    "px.line(\n",
    "    t_chile_prom_año,\n",
    "    title=\"Temperatura Promedio en Chile por Año\",\n",
    ")"
   ]
  },
  {
   "cell_type": "markdown",
   "id": "b4cc3a59-d7c7-4617-94fb-3436edd2a26c",
   "metadata": {},
   "source": [
    "\n",
    "#### Describe \n",
    "\n",
    "Por mes:"
   ]
  },
  {
   "cell_type": "code",
   "execution_count": null,
   "id": "48aef41a",
   "metadata": {},
   "outputs": [],
   "source": [
    "chile_t_stats = t_chile.groupby(\"Month\").describe()[\"Temperature\"]\n",
    "chile_t_stats = chile_t_stats.loc[MESES]\n",
    "chile_t_stats"
   ]
  },
  {
   "cell_type": "code",
   "execution_count": null,
   "id": "6be3f4f1",
   "metadata": {},
   "outputs": [],
   "source": [
    "px.line(\n",
    "    chile_t_stats.reset_index(),\n",
    "    x=\"Month\",\n",
    "    y=\"mean\",\n",
    "    error_y=\"std\",\n",
    "    title=\"Temperatura por Mes\",\n",
    ")"
   ]
  },
  {
   "cell_type": "markdown",
   "id": "ad46195b-e8b2-4f11-a058-f67667708720",
   "metadata": {},
   "source": [
    "#### Multi-indice\n",
    "\n",
    "También podemos ejecutar la agregación sobre varias columnas. Esto generará un DataFrame multi-indice.\n",
    "Los multi-indices pueden aparecer tanto en las filas como en las columnas."
   ]
  },
  {
   "cell_type": "code",
   "execution_count": null,
   "id": "4426b1a8",
   "metadata": {},
   "outputs": [],
   "source": [
    "stats_general = temperaturas.groupby([\"Year\", \"Country\"]).mean()"
   ]
  },
  {
   "cell_type": "code",
   "execution_count": null,
   "id": "cfd0ace4-6c2a-494e-a741-e6a455dfcbae",
   "metadata": {},
   "outputs": [],
   "source": [
    "stats_general.loc[1991, :]"
   ]
  },
  {
   "cell_type": "code",
   "execution_count": null,
   "id": "913ea4d1",
   "metadata": {},
   "outputs": [],
   "source": [
    "stats_general = temperaturas.groupby([\"Country\", \"Year\"]).mean()\n",
    "stats_general"
   ]
  },
  {
   "cell_type": "code",
   "execution_count": null,
   "id": "f72ba6f6-212c-42db-bd92-4c8c286a5009",
   "metadata": {},
   "outputs": [],
   "source": [
    "stats_general.loc[\"Chile\", :]"
   ]
  },
  {
   "cell_type": "markdown",
   "id": "58ff0096-4eea-4c5e-8511-17fbedfddc8d",
   "metadata": {},
   "source": [
    "Noten que esta operación retorna una serie con un multi-índice en los índices.\n"
   ]
  },
  {
   "cell_type": "code",
   "execution_count": null,
   "id": "476a7bbe-09e9-4ace-a6e2-8991148f4b04",
   "metadata": {},
   "outputs": [],
   "source": [
    "stats_general.index"
   ]
  },
  {
   "cell_type": "markdown",
   "id": "1ee8b2af-8ba2-485d-bfa5-e42cdeb23cb1",
   "metadata": {},
   "source": [
    "Pueden acceder a un sub-índice usando los mismos indexadores que hemos visto hasta el momento."
   ]
  },
  {
   "cell_type": "code",
   "execution_count": null,
   "id": "2b16c7d8-3e4a-4d9d-afc4-04b85749c5c7",
   "metadata": {},
   "outputs": [],
   "source": [
    "stats_general.loc[\"Chile\"]"
   ]
  },
  {
   "cell_type": "markdown",
   "id": "fc5e2d7c-7ece-46f0-a9f9-9a842eaf697f",
   "metadata": {},
   "source": [
    "Y podemos acceder a una medición en particular usando tuplas:"
   ]
  },
  {
   "cell_type": "code",
   "execution_count": null,
   "id": "8fbcd7f1-a26e-4f2b-aa55-eea1335d7882",
   "metadata": {},
   "outputs": [],
   "source": [
    "stats_general.loc[(\"Chile\", 2015)]"
   ]
  },
  {
   "cell_type": "code",
   "execution_count": null,
   "id": "0765dafa-ab1f-425a-945c-8b045f3e4b93",
   "metadata": {},
   "outputs": [],
   "source": [
    "stats_general.loc[(\"Chile\", 2016)]"
   ]
  },
  {
   "cell_type": "code",
   "execution_count": null,
   "id": "693d1295-edb1-4b17-8a96-30dc2f1fe82a",
   "metadata": {},
   "outputs": [],
   "source": [
    "stats_general.loc[(\"Chile\", 2016)].item()"
   ]
  },
  {
   "cell_type": "code",
   "execution_count": null,
   "id": "8d3613ed-0b5d-42dd-9561-dd43126e0853",
   "metadata": {},
   "outputs": [],
   "source": [
    "stats_general.loc[(\"Chile\", 2016), \"Temperature\"]"
   ]
  },
  {
   "cell_type": "code",
   "execution_count": null,
   "id": "08a69fc4-0928-409c-a6de-5aa38372d98f",
   "metadata": {},
   "outputs": [],
   "source": [
    "stats_general"
   ]
  },
  {
   "cell_type": "markdown",
   "id": "2588572a-5031-4c12-8df8-b756be1eb476",
   "metadata": {},
   "source": [
    "Para aplanar el dataframe, pueden usar el método `reset_index()`"
   ]
  },
  {
   "cell_type": "code",
   "execution_count": null,
   "id": "6b207642-67b1-4aef-924f-37cdcb74c990",
   "metadata": {},
   "outputs": [],
   "source": [
    "stats_general = stats_general.reset_index()\n",
    "stats_general"
   ]
  },
  {
   "cell_type": "code",
   "execution_count": null,
   "id": "e583e207-011c-4ebe-985b-4560b0472cb8",
   "metadata": {},
   "outputs": [],
   "source": [
    "m1 = stats_general.loc[:, \"Country\"] == \"Chile\""
   ]
  },
  {
   "cell_type": "code",
   "execution_count": null,
   "id": "44734e2f-92f5-4556-a957-7dce48372610",
   "metadata": {},
   "outputs": [],
   "source": [
    "m2 = stats_general.loc[:, \"Country\"] == \"Argentina\""
   ]
  },
  {
   "cell_type": "code",
   "execution_count": null,
   "id": "2d247aea-961f-4499-9f70-f045f83b32f9",
   "metadata": {},
   "outputs": [],
   "source": [
    "m1 & m2"
   ]
  },
  {
   "cell_type": "code",
   "execution_count": null,
   "id": "bd05d649-b174-43cc-805c-1cecd97afee0",
   "metadata": {},
   "outputs": [],
   "source": [
    "mascara = stats_general[\"Country\"].isin(\n",
    "    [\"Argentina\", \"Chile\", \"Peru\", \"Paraguay\", \"Uruguay\"]\n",
    ")\n",
    "mascara"
   ]
  },
  {
   "cell_type": "code",
   "execution_count": null,
   "id": "a36841d7-4f81-4683-834f-a54af6455e0c",
   "metadata": {},
   "outputs": [],
   "source": [
    "# filtramos para obtener solo los valores en la lista a través del método .isin\n",
    "temperature_stats_general_filtrado = stats_general.loc[mascara, :]\n",
    "temperature_stats_general_filtrado"
   ]
  },
  {
   "cell_type": "code",
   "execution_count": null,
   "id": "bb0bc90f",
   "metadata": {},
   "outputs": [],
   "source": [
    "px.line(\n",
    "    temperature_stats_general_filtrado.reset_index(),\n",
    "    x=\"Year\",\n",
    "    y=\"Temperature\",\n",
    "    color=\"Country\",\n",
    "    height=400,\n",
    ")"
   ]
  },
  {
   "cell_type": "markdown",
   "id": "16b6998c-cbfc-4135-bef5-fde0e90e484c",
   "metadata": {},
   "source": [
    "### `agg`\n",
    "\n",
    "`agg` permite agregar datos por grupo usando una o más operaciones a través de un diccionario.\n",
    "El resultado también será un dataframe multi-índice, pero por columnas:"
   ]
  },
  {
   "cell_type": "code",
   "execution_count": null,
   "id": "02fb160e",
   "metadata": {},
   "outputs": [],
   "source": [
    "prom_t_año_global = temperaturas.groupby([\"Year\"]).agg({\"Temperature\": [\"mean\", \"std\"]})\n",
    "prom_t_año_global"
   ]
  },
  {
   "cell_type": "code",
   "execution_count": null,
   "id": "e45af732-f0a6-4262-9590-244479bf398f",
   "metadata": {},
   "outputs": [],
   "source": [
    "prom_t_año_global.columns"
   ]
  },
  {
   "cell_type": "markdown",
   "id": "9c5e3d78-b1d8-4eea-8891-7f34d38115c3",
   "metadata": {},
   "source": [
    "Al igual que el caso de los multi-índices en los índices de las filas, podemos acceder a ciertas series con multi-indices en las columnas a partir de indexadores basados en tuplas."
   ]
  },
  {
   "cell_type": "code",
   "execution_count": null,
   "id": "b51c06f6-f255-4ab8-a163-02985a522e16",
   "metadata": {},
   "outputs": [],
   "source": [
    "prom_t_año_global.loc[:, (\"Temperature\", \"mean\")]"
   ]
  },
  {
   "cell_type": "code",
   "execution_count": null,
   "id": "9703598c-7e36-4371-a0bf-e7b972ed424b",
   "metadata": {},
   "outputs": [],
   "source": [
    "px.line(prom_t_año_global.droplevel(0, axis=1).reset_index(), x=\"Year\", y=\"mean\")"
   ]
  }
 ],
 "metadata": {
  "kernelspec": {
   "display_name": "Python 3 (ipykernel)",
   "language": "python",
   "name": "python3"
  },
  "language_info": {
   "codemirror_mode": {
    "name": "ipython",
    "version": 3
   },
   "file_extension": ".py",
   "mimetype": "text/x-python",
   "name": "python",
   "nbconvert_exporter": "python",
   "pygments_lexer": "ipython3",
   "version": "3.9.16"
  },
  "toc": {
   "base_numbering": 1,
   "nav_menu": {},
   "number_sections": true,
   "sideBar": true,
   "skip_h1_title": false,
   "title_cell": "Table of Contents",
   "title_sidebar": "Contents",
   "toc_cell": false,
   "toc_position": {
    "height": "calc(100% - 180px)",
    "left": "10px",
    "top": "150px",
    "width": "347.117px"
   },
   "toc_section_display": true,
   "toc_window_display": false
  },
  "varInspector": {
   "cols": {
    "lenName": 16,
    "lenType": 16,
    "lenVar": 40
   },
   "kernels_config": {
    "python": {
     "delete_cmd_postfix": "",
     "delete_cmd_prefix": "del ",
     "library": "var_list.py",
     "varRefreshCmd": "print(var_dic_list())"
    },
    "r": {
     "delete_cmd_postfix": ") ",
     "delete_cmd_prefix": "rm(",
     "library": "var_list.r",
     "varRefreshCmd": "cat(var_dic_list()) "
    }
   },
   "types_to_exclude": [
    "module",
    "function",
    "builtin_function_or_method",
    "instance",
    "_Feature"
   ],
   "window_display": false
  }
 },
 "nbformat": 4,
 "nbformat_minor": 5
}
