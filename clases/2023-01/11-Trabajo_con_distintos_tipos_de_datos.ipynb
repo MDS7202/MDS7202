{
 "cells": [
  {
   "cell_type": "markdown",
   "id": "e6df64c8-870f-413c-a44c-7aaec6147da9",
   "metadata": {},
   "source": [
    "# Clase 11: Manuipulación de strings, datetimes y categorías\n",
    "\n",
    "**MDS7202: Laboratorio de Programación Científica para Ciencia de Datos**}"
   ]
  },
  {
   "cell_type": "markdown",
   "id": "9327f25f",
   "metadata": {
    "tags": []
   },
   "source": [
    "## Objetivos\n",
    "\n",
    "- Comprender el cómo manipular y analizar datos de texto de manera eficiente y efectiva con Pandas.\n",
    "\n"
   ]
  },
  {
   "cell_type": "code",
   "execution_count": 1,
   "id": "1dcf9355",
   "metadata": {},
   "outputs": [],
   "source": [
    "import pandas as pd"
   ]
  },
  {
   "cell_type": "markdown",
   "id": "fa11886b-f0a5-44d7-8feb-aa74b59e8258",
   "metadata": {},
   "source": [
    "## Datasets de Hoy\n"
   ]
  },
  {
   "cell_type": "code",
   "execution_count": null,
   "id": "12a20681-022d-4bf7-9696-0cfc34979d6e",
   "metadata": {},
   "outputs": [],
   "source": [
    "# setear opciones para mostrar todas las filas y columnas\n",
    "# cuidado al ejecutar esto en sus notebooks, se puede quedar pegado el navegador!\n",
    "pd.set_option(\"display.max_colwidth\", None)\n",
    "pd.set_option(\"display.max_colwidth\", None)"
   ]
  },
  {
   "cell_type": "markdown",
   "id": "2c123865-d443-4f5a-8ca9-1fc95c8adf05",
   "metadata": {},
   "source": [
    "## 1.- Strings\n",
    "\n",
    "### Motivación\n",
    "\n",
    "<div align='center'>\n",
    "<img src='https://raw.githubusercontent.com/MDS7202/MDS7202/main/recursos/2023-01/11-Pandas4/pets.jpg' alt='Mascotas' width=600/>\n",
    "</div>\n",
    "\n",
    "Supongamos que poseemos un dataset generado a partir de [_web scrapping_](https://es.wikipedia.org/wiki/Web_scraping) que contiene el nombre de una mascota más el resumen (_abstract_) de la página asociada a estos en Wikipedia.\n"
   ]
  },
  {
   "cell_type": "code",
   "execution_count": 3,
   "id": "78705029-f252-45a5-b9cf-3994f06ce16f",
   "metadata": {},
   "outputs": [
    {
     "data": {
      "text/html": [
       "<div>\n",
       "<style scoped>\n",
       "    .dataframe tbody tr th:only-of-type {\n",
       "        vertical-align: middle;\n",
       "    }\n",
       "\n",
       "    .dataframe tbody tr th {\n",
       "        vertical-align: top;\n",
       "    }\n",
       "\n",
       "    .dataframe thead th {\n",
       "        text-align: right;\n",
       "    }\n",
       "</style>\n",
       "<table border=\"1\" class=\"dataframe\">\n",
       "  <thead>\n",
       "    <tr style=\"text-align: right;\">\n",
       "      <th></th>\n",
       "      <th>nombre</th>\n",
       "      <th>resumen</th>\n",
       "    </tr>\n",
       "  </thead>\n",
       "  <tbody>\n",
       "    <tr>\n",
       "      <th>0</th>\n",
       "      <td>Perro</td>\n",
       "      <td>El perro (Canis familiaris o Canis lupus fam...</td>\n",
       "    </tr>\n",
       "    <tr>\n",
       "      <th>1</th>\n",
       "      <td>Gato</td>\n",
       "      <td>El gato doméstico1​2​ (Felis silvestris catu...</td>\n",
       "    </tr>\n",
       "    <tr>\n",
       "      <th>2</th>\n",
       "      <td>Canario</td>\n",
       "      <td>El canario doméstico (Serinus canaria domest...</td>\n",
       "    </tr>\n",
       "  </tbody>\n",
       "</table>\n",
       "</div>"
      ],
      "text/plain": [
       "    nombre                                            resumen\n",
       "0    Perro    El perro (Canis familiaris o Canis lupus fam...\n",
       "1     Gato    El gato doméstico1​2​ (Felis silvestris catu...\n",
       "2  Canario    El canario doméstico (Serinus canaria domest..."
      ]
     },
     "execution_count": 3,
     "metadata": {},
     "output_type": "execute_result"
    }
   ],
   "source": [
    "mascotas = [\n",
    "    [\n",
    "        \"Perro\",\n",
    "        \"  El perro (Canis familiaris o Canis lupus familiaris, dependiendo de si \"\n",
    "        \"se lo considera una especie por derecho propio o una subespecie del \"\n",
    "        \"lobo),1​2​3​ llamado perro doméstico o can,4​ y en algunos lugares\"\n",
    "        \" coloquialmente llamado chucho,5​ tuso,6​ choco,7​ entre otros; es un \"\n",
    "        \"mamífero carnívoro de la familia de los cánidos, que constituye \"\n",
    "        \"una especie del género Canis.8​9​. Posee un oído y un olfato muy \"\n",
    "        \"desarrollados, y este último es su principal órgano sensorial.  \\n\"\n",
    "        ],\n",
    "    [\n",
    "        \"Gato\",\n",
    "        \"  El gato doméstico1​2​ (Felis silvestris catus), llamado popularmente \"\n",
    "        \"gato, y de forma coloquial minino,3​ michino,4​ michi,5​ micho,\"\n",
    "        \"6​ mizo,7​ miz,8​ morroño9​ o morrongo,10​ entre otros nombres, es \"\n",
    "        \"un mamífero carnívoro de la familia Felidae. Es una subespecie \"\n",
    "        \"domesticada por la convivencia con el ser humano.  \\n\"\n",
    "    ],\n",
    "    [\n",
    "        \"Canario\",\n",
    "        \"  El canario doméstico (Serinus canaria domestica)3​4​ es una \"\n",
    "        \"subespecie desarrollada durante siglos de selección en cautividad \"\n",
    "        \"partiendo de ejemplares del canario silvestre o canario salvaje \"\n",
    "        \"(Serinus canaria), una especie de ave del orden paseriforme de \"\n",
    "        \"la familia de los fringílidos, endémica de las islas Canarias, \"\n",
    "        \"Azores y Madeira.5​6​   \\n\"\n",
    "    ],\n",
    "]\n",
    "df_mascotas = pd.DataFrame(mascotas, columns=[\"nombre\", \"resumen\"])\n",
    "df_mascotas"
   ]
  },
  {
   "cell_type": "markdown",
   "id": "c2ed65f7-474d-400e-877d-2e40ffd43be4",
   "metadata": {},
   "source": [
    "Notemos qué sucede al acceder al resumen del Perro."
   ]
  },
  {
   "cell_type": "code",
   "execution_count": 4,
   "id": "77939c0c-ed30-46cf-bcd2-ab9a7ca6cff5",
   "metadata": {},
   "outputs": [
    {
     "data": {
      "text/plain": [
       "'  El perro (Canis familiaris o Canis lupus familiaris, dependiendo de si se lo considera una especie por derecho propio o una subespecie del lobo),1\\u200b2\\u200b3\\u200b llamado perro doméstico o can,4\\u200b y en algunos lugares coloquialmente llamado chucho,5\\u200b tuso,6\\u200b choco,7\\u200b entre otros; es un mamífero carnívoro de la familia de los cánidos, que constituye una especie del género Canis.8\\u200b9\\u200b. Posee un oído y un olfato muy desarrollados, y este último es su principal órgano sensorial.  \\n'"
      ]
     },
     "execution_count": 4,
     "metadata": {},
     "output_type": "execute_result"
    }
   ],
   "source": [
    "resumen_perro = df_mascotas.loc[0, \"resumen\"]\n",
    "resumen_perro"
   ]
  },
  {
   "cell_type": "markdown",
   "id": "9a248158-e72d-428e-8c0f-7195c7f03042",
   "metadata": {},
   "source": [
    "> **Pregunta ❓**: ¿Qué representa el símbolo `\\n`?"
   ]
  },
  {
   "cell_type": "markdown",
   "id": "b1aeff83-dcde-4f54-bd9d-b09522c4d2e3",
   "metadata": {},
   "source": [
    "> **Pregunta ❓:** ¿Podemos utilizar directamente el texto tal cuál está, por ejemplo, para hacer un buscador? ¿Qué poemos hacer al respecto?"
   ]
  },
  {
   "cell_type": "markdown",
   "id": "cabf8b6a",
   "metadata": {},
   "source": [
    "En muchas ocasiones, los conjuntos de datos que se utilizan en análisis de datos incluyen una columna que contiene texto. Sin embargo, este texto no siempre está listo para ser utilizado directamente, ya que puede presentarse de manera desordenada y con errores. Por esta razón, es de suma importancia aprender a preprocesar el texto antes de utilizarlo en análisis posteriores.\n",
    "\n",
    "\n",
    "Las `Series` de pandas implementan diversos métodos de procesamiento de string que permiten operar facilmente con estos. Por lo general, estos métodos son una réplica de los métodos originales de la clase built-in `string`, los cuales veremos a continuación:"
   ]
  },
  {
   "cell_type": "markdown",
   "id": "388719ff",
   "metadata": {},
   "source": [
    "### Métodos de la Clase String\n",
    "\n",
    "Python cuenta con una variedad de métodos built-in para procesar strings. Algunos de los métodos más comunes son:"
   ]
  },
  {
   "cell_type": "code",
   "execution_count": 5,
   "id": "c4814288-36f1-495b-93f8-072b7beb5c3f",
   "metadata": {},
   "outputs": [
    {
     "data": {
      "text/plain": [
       "'  El perro (Canis familiaris o Canis lupus familiaris, dependiendo de si se lo considera una especie por derecho propio o una subespecie del lobo),1\\u200b2\\u200b3\\u200b llamado perro doméstico o can,4\\u200b y en algunos lugares coloquialmente llamado chucho,5\\u200b tuso,6\\u200b choco,7\\u200b entre otros; es un mamífero carnívoro de la familia de los cánidos, que constituye una especie del género Canis.8\\u200b9\\u200b. Posee un oído y un olfato muy desarrollados, y este último es su principal órgano sensorial.  \\n'"
      ]
     },
     "execution_count": 5,
     "metadata": {},
     "output_type": "execute_result"
    }
   ],
   "source": [
    "resumen_perro"
   ]
  },
  {
   "cell_type": "markdown",
   "id": "5f0b2808-5b49-4629-9430-c505dba344e0",
   "metadata": {},
   "source": [
    "#### `len`\n",
    "\n",
    "Devuelve la longitud de una cadena de caracteres"
   ]
  },
  {
   "cell_type": "code",
   "execution_count": 6,
   "id": "95e61cff",
   "metadata": {},
   "outputs": [
    {
     "data": {
      "text/plain": [
       "471"
      ]
     },
     "execution_count": 6,
     "metadata": {},
     "output_type": "execute_result"
    }
   ],
   "source": [
    "len(resumen_perro)"
   ]
  },
  {
   "cell_type": "markdown",
   "id": "90ed8e60-6ae3-4bfe-9e9b-08226b165400",
   "metadata": {},
   "source": [
    "#### `.lower`\n",
    "\n",
    "Convierte todos los caracteres de un string a minúsculas."
   ]
  },
  {
   "cell_type": "code",
   "execution_count": 7,
   "id": "b97db599",
   "metadata": {},
   "outputs": [
    {
     "data": {
      "text/plain": [
       "'  el perro (canis familiaris o canis lupus familiaris, dependiendo de si se lo considera una especie por derecho propio o una subespecie del lobo),1\\u200b2\\u200b3\\u200b llamado perro doméstico o can,4\\u200b y en algunos lugares coloquialmente llamado chucho,5\\u200b tuso,6\\u200b choco,7\\u200b entre otros; es un mamífero carnívoro de la familia de los cánidos, que constituye una especie del género canis.8\\u200b9\\u200b. posee un oído y un olfato muy desarrollados, y este último es su principal órgano sensorial.  \\n'"
      ]
     },
     "execution_count": 7,
     "metadata": {},
     "output_type": "execute_result"
    }
   ],
   "source": [
    "resumen_perro.lower()"
   ]
  },
  {
   "cell_type": "markdown",
   "id": "35fca92c-98e5-4f21-9d6b-d1fcf817e77a",
   "metadata": {},
   "source": [
    "#### `.upper()`\n",
    "\n",
    "Convierte todos los caracteres de un string a mayúsculas."
   ]
  },
  {
   "cell_type": "code",
   "execution_count": 8,
   "id": "c7a687ee",
   "metadata": {},
   "outputs": [
    {
     "data": {
      "text/plain": [
       "'  EL PERRO (CANIS FAMILIARIS O CANIS LUPUS FAMILIARIS, DEPENDIENDO DE SI SE LO CONSIDERA UNA ESPECIE POR DERECHO PROPIO O UNA SUBESPECIE DEL LOBO),1\\u200b2\\u200b3\\u200b LLAMADO PERRO DOMÉSTICO O CAN,4\\u200b Y EN ALGUNOS LUGARES COLOQUIALMENTE LLAMADO CHUCHO,5\\u200b TUSO,6\\u200b CHOCO,7\\u200b ENTRE OTROS; ES UN MAMÍFERO CARNÍVORO DE LA FAMILIA DE LOS CÁNIDOS, QUE CONSTITUYE UNA ESPECIE DEL GÉNERO CANIS.8\\u200b9\\u200b. POSEE UN OÍDO Y UN OLFATO MUY DESARROLLADOS, Y ESTE ÚLTIMO ES SU PRINCIPAL ÓRGANO SENSORIAL.  \\n'"
      ]
     },
     "execution_count": 8,
     "metadata": {},
     "output_type": "execute_result"
    }
   ],
   "source": [
    "resumen_perro.upper()"
   ]
  },
  {
   "cell_type": "markdown",
   "id": "32a42e0b-12b7-4d06-9247-4d8d89224495",
   "metadata": {},
   "source": [
    "#### `.title()`\n",
    "\n",
    "title(): Convierte la primera letra de cada palabra de una cadena en mayúscula."
   ]
  },
  {
   "cell_type": "code",
   "execution_count": 9,
   "id": "0e0ff0b4",
   "metadata": {},
   "outputs": [
    {
     "data": {
      "text/plain": [
       "'  El Perro (Canis Familiaris O Canis Lupus Familiaris, Dependiendo De Si Se Lo Considera Una Especie Por Derecho Propio O Una Subespecie Del Lobo),1\\u200b2\\u200b3\\u200b Llamado Perro Doméstico O Can,4\\u200b Y En Algunos Lugares Coloquialmente Llamado Chucho,5\\u200b Tuso,6\\u200b Choco,7\\u200b Entre Otros; Es Un Mamífero Carnívoro De La Familia De Los Cánidos, Que Constituye Una Especie Del Género Canis.8\\u200b9\\u200b. Posee Un Oído Y Un Olfato Muy Desarrollados, Y Este Último Es Su Principal Órgano Sensorial.  \\n'"
      ]
     },
     "execution_count": 9,
     "metadata": {},
     "output_type": "execute_result"
    }
   ],
   "source": [
    "resumen_perro.title()"
   ]
  },
  {
   "cell_type": "markdown",
   "id": "f2d79890-aaa9-456a-a0ed-de1ee75e84b4",
   "metadata": {},
   "source": [
    "#### `.capitalize()`\n",
    "\n",
    "capitalize(): Convierte la primera letra de una cadena en mayúscula."
   ]
  },
  {
   "cell_type": "code",
   "execution_count": 10,
   "id": "6ea4da95-1237-4525-bb6d-f2bd8bdc15d0",
   "metadata": {},
   "outputs": [
    {
     "data": {
      "text/plain": [
       "'  el perro (canis familiaris o canis lupus familiaris, dependiendo de si se lo considera una especie por derecho propio o una subespecie del lobo),1\\u200b2\\u200b3\\u200b llamado perro doméstico o can,4\\u200b y en algunos lugares coloquialmente llamado chucho,5\\u200b tuso,6\\u200b choco,7\\u200b entre otros; es un mamífero carnívoro de la familia de los cánidos, que constituye una especie del género canis.8\\u200b9\\u200b. posee un oído y un olfato muy desarrollados, y este último es su principal órgano sensorial.  \\n'"
      ]
     },
     "execution_count": 10,
     "metadata": {},
     "output_type": "execute_result"
    }
   ],
   "source": [
    "resumen_perro.capitalize()"
   ]
  },
  {
   "cell_type": "markdown",
   "id": "2ca4dec8-3f15-4a93-ba84-e9c98c00105c",
   "metadata": {},
   "source": [
    "#### `.strip()`\n",
    "\n",
    "Elimina los espacios en blanco al principio y al final de una cadena."
   ]
  },
  {
   "cell_type": "code",
   "execution_count": 11,
   "id": "ed0a29a5-81b3-467f-8d68-7fa26deda49c",
   "metadata": {},
   "outputs": [
    {
     "data": {
      "text/plain": [
       "'  El perro (Canis familiaris o Canis lupus familiaris, dependiendo de si se lo considera una especie por derecho propio o una subespecie del lobo),1\\u200b2\\u200b3\\u200b llamado perro doméstico o can,4\\u200b y en algunos lugares coloquialmente llamado chucho,5\\u200b tuso,6\\u200b choco,7\\u200b entre otros; es un mamífero carnívoro de la familia de los cánidos, que constituye una especie del género Canis.8\\u200b9\\u200b. Posee un oído y un olfato muy desarrollados, y este último es su principal órgano sensorial.  \\n'"
      ]
     },
     "execution_count": 11,
     "metadata": {},
     "output_type": "execute_result"
    }
   ],
   "source": [
    "resumen_perro"
   ]
  },
  {
   "cell_type": "code",
   "execution_count": 12,
   "id": "1dac88bd-33b6-4f38-b04b-feb49bb0302c",
   "metadata": {},
   "outputs": [
    {
     "data": {
      "text/plain": [
       "'El perro (Canis familiaris o Canis lupus familiaris, dependiendo de si se lo considera una especie por derecho propio o una subespecie del lobo),1\\u200b2\\u200b3\\u200b llamado perro doméstico o can,4\\u200b y en algunos lugares coloquialmente llamado chucho,5\\u200b tuso,6\\u200b choco,7\\u200b entre otros; es un mamífero carnívoro de la familia de los cánidos, que constituye una especie del género Canis.8\\u200b9\\u200b. Posee un oído y un olfato muy desarrollados, y este último es su principal órgano sensorial.'"
      ]
     },
     "execution_count": 12,
     "metadata": {},
     "output_type": "execute_result"
    }
   ],
   "source": [
    "resumen_perro.strip()"
   ]
  },
  {
   "cell_type": "markdown",
   "id": "0c46a0f4-ea63-4175-b135-4b397a243dab",
   "metadata": {},
   "source": [
    "#### `.split()`\n",
    "\n",
    "Divide una cadena en una lista de substrings, utilizando un string (habitualmente `\" \"`) como separador."
   ]
  },
  {
   "cell_type": "code",
   "execution_count": 13,
   "id": "b730510b-e874-478d-8f30-47fc3a846e5b",
   "metadata": {},
   "outputs": [
    {
     "data": {
      "text/plain": [
       "'  El perro (Canis familiaris o Canis lupus familiaris, dependiendo de si se lo considera una especie por derecho propio o una subespecie del lobo),1\\u200b2\\u200b3\\u200b llamado perro doméstico o can,4\\u200b y en algunos lugares coloquialmente llamado chucho,5\\u200b tuso,6\\u200b choco,7\\u200b entre otros; es un mamífero carnívoro de la familia de los cánidos, que constituye una especie del género Canis.8\\u200b9\\u200b. Posee un oído y un olfato muy desarrollados, y este último es su principal órgano sensorial.  \\n'"
      ]
     },
     "execution_count": 13,
     "metadata": {},
     "output_type": "execute_result"
    }
   ],
   "source": [
    "resumen_perro"
   ]
  },
  {
   "cell_type": "code",
   "execution_count": 14,
   "id": "0c6f6d83",
   "metadata": {},
   "outputs": [
    {
     "data": {
      "text/plain": [
       "['',\n",
       " '',\n",
       " 'El',\n",
       " 'perro',\n",
       " '(Canis',\n",
       " 'familiaris',\n",
       " 'o',\n",
       " 'Canis',\n",
       " 'lupus',\n",
       " 'familiaris,',\n",
       " 'dependiendo',\n",
       " 'de',\n",
       " 'si',\n",
       " 'se',\n",
       " 'lo',\n",
       " 'considera',\n",
       " 'una',\n",
       " 'especie',\n",
       " 'por',\n",
       " 'derecho',\n",
       " 'propio',\n",
       " 'o',\n",
       " 'una',\n",
       " 'subespecie',\n",
       " 'del',\n",
       " 'lobo),1\\u200b2\\u200b3\\u200b',\n",
       " 'llamado',\n",
       " 'perro',\n",
       " 'doméstico',\n",
       " 'o',\n",
       " 'can,4\\u200b',\n",
       " 'y',\n",
       " 'en',\n",
       " 'algunos',\n",
       " 'lugares',\n",
       " 'coloquialmente',\n",
       " 'llamado',\n",
       " 'chucho,5\\u200b',\n",
       " 'tuso,6\\u200b',\n",
       " 'choco,7\\u200b',\n",
       " 'entre',\n",
       " 'otros;',\n",
       " 'es',\n",
       " 'un',\n",
       " 'mamífero',\n",
       " 'carnívoro',\n",
       " 'de',\n",
       " 'la',\n",
       " 'familia',\n",
       " 'de',\n",
       " 'los',\n",
       " 'cánidos,',\n",
       " 'que',\n",
       " 'constituye',\n",
       " 'una',\n",
       " 'especie',\n",
       " 'del',\n",
       " 'género',\n",
       " 'Canis.8\\u200b9\\u200b.',\n",
       " 'Posee',\n",
       " 'un',\n",
       " 'oído',\n",
       " 'y',\n",
       " 'un',\n",
       " 'olfato',\n",
       " 'muy',\n",
       " 'desarrollados,',\n",
       " 'y',\n",
       " 'este',\n",
       " 'último',\n",
       " 'es',\n",
       " 'su',\n",
       " 'principal',\n",
       " 'órgano',\n",
       " 'sensorial.',\n",
       " '',\n",
       " '\\n']"
      ]
     },
     "execution_count": 14,
     "metadata": {},
     "output_type": "execute_result"
    }
   ],
   "source": [
    "resumen_perro.split(\" \")"
   ]
  },
  {
   "cell_type": "code",
   "execution_count": 15,
   "id": "f1a5b199-3de1-4814-90fd-cca8aa35fe3c",
   "metadata": {},
   "outputs": [
    {
     "data": {
      "text/plain": [
       "'  El perro (Canis familiaris o Canis lupus familiaris, dependiendo de si se lo considera una especie por derecho propio o una subespecie del lobo),1\\u200b2\\u200b3\\u200b llamado perro doméstico o can,4\\u200b y en algunos lugares coloquialmente llamado chucho,5\\u200b tuso,6\\u200b choco,7\\u200b entre otros; es un mamífero carnívoro de la familia de los cánidos, que constituye una especie del género Canis.8\\u200b9\\u200b. Posee un oído y un olfato muy desarrollados, y este último es su principal órgano sensorial.  \\n'"
      ]
     },
     "execution_count": 15,
     "metadata": {},
     "output_type": "execute_result"
    }
   ],
   "source": [
    "resumen_perro"
   ]
  },
  {
   "cell_type": "markdown",
   "id": "e4863d74-b250-4cc0-9b01-0917ba85d98a",
   "metadata": {},
   "source": [
    "> **Pregunta: ❓**: ¿Cómo podría separar oraciones?"
   ]
  },
  {
   "cell_type": "code",
   "execution_count": 16,
   "id": "ab4d45c4-a8f7-47d1-839d-c996a194ab29",
   "metadata": {},
   "outputs": [],
   "source": [
    "oraciones_divididas = resumen_perro.split(\".\")"
   ]
  },
  {
   "cell_type": "code",
   "execution_count": 17,
   "id": "0a20ab59-6fa5-4fd4-9025-55c36df1490f",
   "metadata": {},
   "outputs": [
    {
     "name": "stdout",
     "output_type": "stream",
     "text": [
      "El perro (canis familiaris o canis lupus familiaris, dependiendo de si se lo considera una especie por derecho propio o una subespecie del lobo),1​2​3​ llamado perro doméstico o can,4​ y en algunos lugares coloquialmente llamado chucho,5​ tuso,6​ choco,7​ entre otros; es un mamífero carnívoro de la familia de los cánidos, que constituye una especie del género canis \n",
      "\n",
      "8​9​ \n",
      "\n",
      "Posee un oído y un olfato muy desarrollados, y este último es su principal órgano sensorial \n",
      "\n",
      " \n",
      "\n"
     ]
    }
   ],
   "source": [
    "for oracion in oraciones_divididas:\n",
    "    print(oracion.strip().capitalize(), '\\n')"
   ]
  },
  {
   "cell_type": "markdown",
   "id": "1d02613d-a36f-4d92-9b25-06ac0e79e9ca",
   "metadata": {},
   "source": [
    "#### `join(\"\")`\n",
    "\n",
    "Une una lista de strings en un único string según algún separador (comunmente un espacio `\" \"`, punto `\".\"` o salto e linea `\"\\n\"`)."
   ]
  },
  {
   "cell_type": "code",
   "execution_count": 18,
   "id": "fa3f7ef8",
   "metadata": {},
   "outputs": [
    {
     "data": {
      "text/plain": [
       "'  El perro (Canis familiaris o Canis lupus familiaris, dependiendo de si se lo considera una especie por derecho propio o una subespecie del lobo),1\\u200b2\\u200b3\\u200b llamado perro doméstico o can,4\\u200b y en algunos lugares coloquialmente llamado chucho,5\\u200b tuso,6\\u200b choco,7\\u200b entre otros; es un mamífero carnívoro de la familia de los cánidos, que constituye una especie del género Canis-8\\u200b9\\u200b- Posee un oído y un olfato muy desarrollados, y este último es su principal órgano sensorial-  \\n'"
      ]
     },
     "execution_count": 18,
     "metadata": {},
     "output_type": "execute_result"
    }
   ],
   "source": [
    "\"-\".join(oraciones_divididas)"
   ]
  },
  {
   "cell_type": "markdown",
   "id": "b58d5a27-efe9-464a-8560-686ece58e100",
   "metadata": {},
   "source": [
    "#### `str1 in str2`\n",
    "\n",
    "Devuelve True si un substring está presente en un string."
   ]
  },
  {
   "cell_type": "code",
   "execution_count": 19,
   "id": "8b08012a-0ad5-4e6a-b64a-1d447501b683",
   "metadata": {},
   "outputs": [
    {
     "data": {
      "text/plain": [
       "'  El perro (Canis familiaris o Canis lupus familiaris, dependiendo de si se lo considera una especie por derecho propio o una subespecie del lobo),1\\u200b2\\u200b3\\u200b llamado perro doméstico o can,4\\u200b y en algunos lugares coloquialmente llamado chucho,5\\u200b tuso,6\\u200b choco,7\\u200b entre otros; es un mamífero carnívoro de la familia de los cánidos, que constituye una especie del género Canis.8\\u200b9\\u200b. Posee un oído y un olfato muy desarrollados, y este último es su principal órgano sensorial.  \\n'"
      ]
     },
     "execution_count": 19,
     "metadata": {},
     "output_type": "execute_result"
    }
   ],
   "source": [
    "resumen_perro"
   ]
  },
  {
   "cell_type": "code",
   "execution_count": 20,
   "id": "4d4843eb",
   "metadata": {},
   "outputs": [
    {
     "data": {
      "text/plain": [
       "True"
      ]
     },
     "execution_count": 20,
     "metadata": {},
     "output_type": "execute_result"
    }
   ],
   "source": [
    "\"perro\" in resumen_perro"
   ]
  },
  {
   "cell_type": "code",
   "execution_count": 21,
   "id": "e298012d",
   "metadata": {},
   "outputs": [
    {
     "data": {
      "text/plain": [
       "False"
      ]
     },
     "execution_count": 21,
     "metadata": {},
     "output_type": "execute_result"
    }
   ],
   "source": [
    "\"gato\" in resumen_perro"
   ]
  },
  {
   "cell_type": "markdown",
   "id": "0a3bfe8e-2482-4969-a6cf-4b577d660828",
   "metadata": {},
   "source": [
    "#### `.replace()`\n",
    "\n",
    "Reemplaza un substring con otro en una string."
   ]
  },
  {
   "cell_type": "code",
   "execution_count": 22,
   "id": "786f7abb-259f-4236-9cb9-9b065574c996",
   "metadata": {},
   "outputs": [
    {
     "data": {
      "text/plain": [
       "'  El  (Canis familiaris o Canis lupus familiaris, dependiendo de si se lo considera una especie por derecho propio o una subespecie del lobo),1\\u200b2\\u200b3\\u200b llamado  doméstico o can,4\\u200b y en algunos lugares coloquialmente llamado chucho,5\\u200b tuso,6\\u200b choco,7\\u200b entre otros; es un mamífero carnívoro de la familia de los cánidos, que constituye una especie del género Canis.8\\u200b9\\u200b. Posee un oído y un olfato muy desarrollados, y este último es su principal órgano sensorial.  \\n'"
      ]
     },
     "execution_count": 22,
     "metadata": {},
     "output_type": "execute_result"
    }
   ],
   "source": [
    "# por ejemplo, eliminar la palabra perro.\n",
    "\n",
    "resumen_perro.replace(\"perro\", \"\")"
   ]
  },
  {
   "cell_type": "code",
   "execution_count": 23,
   "id": "94408d16-2eb1-489f-b7b8-1fc9202dc10e",
   "metadata": {},
   "outputs": [
    {
     "data": {
      "text/plain": [
       "'  El perro (Canis familiaris o Canis lupus familiaris, dependiendo de si se lo considera una especie por derecho propio o una subespecie del lobo),1\\u200b2\\u200b3\\u200b llamado perro doméstico o can,4\\u200b y en algunos lugares coloquialmente llamado chucho,5\\u200b tuso,6\\u200b choco,7\\u200b entre otros; es un mamífero carnívoro de la familia de los cánidos, que constituye una especie del género Canis.8\\u200b9\\u200b. Posee un oído y un olfato muy desarrollados, y este último es su principal órgano sensorial.  \\n'"
      ]
     },
     "execution_count": 23,
     "metadata": {},
     "output_type": "execute_result"
    }
   ],
   "source": [
    "# notar que es sensible a mayúsculas.\n",
    "resumen_perro.replace(\"Perro\", \"\")"
   ]
  },
  {
   "cell_type": "code",
   "execution_count": 24,
   "id": "615dacc3-a26c-49cd-abd6-4978359b301b",
   "metadata": {},
   "outputs": [
    {
     "data": {
      "text/plain": [
       "'  El gato (Canis familiaris o Canis lupus familiaris, dependiendo de si se lo considera una especie por derecho propio o una subespecie del lobo),1\\u200b2\\u200b3\\u200b llamado gato doméstico o can,4\\u200b y en algunos lugares coloquialmente llamado chucho,5\\u200b tuso,6\\u200b choco,7\\u200b entre otros; es un mamífero carnívoro de la familia de los cánidos, que constituye una especie del género Canis.8\\u200b9\\u200b. Posee un oído y un olfato muy desarrollados, y este último es su principal órgano sensorial.  \\n'"
      ]
     },
     "execution_count": 24,
     "metadata": {},
     "output_type": "execute_result"
    }
   ],
   "source": [
    "resumen_perro.replace(\"perro\", \"gato\")"
   ]
  },
  {
   "cell_type": "markdown",
   "id": "6d9834dc",
   "metadata": {},
   "source": [
    "### Strings en pandas\n",
    "\n",
    "La mayoría de los métodos de procesamiento de strings que se vieron anteriormente pueden ser ejecutados a través del atributo `.str` en las series de Pandas.\n",
    "\n",
    "La idea detrás del uso de los métodos de .str es que el preprocesamiento se haga de manera ordenada y eficiente. Al utilizar estos métodos, los usuarios pueden aplicar una variedad de transformaciones a sus datos de texto en una sola línea de código, lo que facilita el procesamiento de grandes conjuntos de datos de texto."
   ]
  },
  {
   "cell_type": "code",
   "execution_count": 25,
   "id": "42ae6c01-3014-4417-ab55-514e3f492c55",
   "metadata": {},
   "outputs": [
    {
     "data": {
      "text/html": [
       "<div>\n",
       "<style scoped>\n",
       "    .dataframe tbody tr th:only-of-type {\n",
       "        vertical-align: middle;\n",
       "    }\n",
       "\n",
       "    .dataframe tbody tr th {\n",
       "        vertical-align: top;\n",
       "    }\n",
       "\n",
       "    .dataframe thead th {\n",
       "        text-align: right;\n",
       "    }\n",
       "</style>\n",
       "<table border=\"1\" class=\"dataframe\">\n",
       "  <thead>\n",
       "    <tr style=\"text-align: right;\">\n",
       "      <th></th>\n",
       "      <th>nombre</th>\n",
       "      <th>resumen</th>\n",
       "    </tr>\n",
       "  </thead>\n",
       "  <tbody>\n",
       "    <tr>\n",
       "      <th>0</th>\n",
       "      <td>Perro</td>\n",
       "      <td>El perro (Canis familiaris o Canis lupus fam...</td>\n",
       "    </tr>\n",
       "    <tr>\n",
       "      <th>1</th>\n",
       "      <td>Gato</td>\n",
       "      <td>El gato doméstico1​2​ (Felis silvestris catu...</td>\n",
       "    </tr>\n",
       "    <tr>\n",
       "      <th>2</th>\n",
       "      <td>Canario</td>\n",
       "      <td>El canario doméstico (Serinus canaria domest...</td>\n",
       "    </tr>\n",
       "  </tbody>\n",
       "</table>\n",
       "</div>"
      ],
      "text/plain": [
       "    nombre                                            resumen\n",
       "0    Perro    El perro (Canis familiaris o Canis lupus fam...\n",
       "1     Gato    El gato doméstico1​2​ (Felis silvestris catu...\n",
       "2  Canario    El canario doméstico (Serinus canaria domest..."
      ]
     },
     "execution_count": 25,
     "metadata": {},
     "output_type": "execute_result"
    }
   ],
   "source": [
    "df_mascotas"
   ]
  },
  {
   "cell_type": "code",
   "execution_count": 26,
   "id": "78d21062",
   "metadata": {},
   "outputs": [
    {
     "data": {
      "text/plain": [
       "0      El perro (Canis familiaris o Canis lupus fam...\n",
       "1      El gato doméstico1​2​ (Felis silvestris catu...\n",
       "2      El canario doméstico (Serinus canaria domest...\n",
       "Name: resumen, dtype: object"
      ]
     },
     "execution_count": 26,
     "metadata": {},
     "output_type": "execute_result"
    }
   ],
   "source": [
    "df_mascotas.loc[:, \"resumen\"]"
   ]
  },
  {
   "cell_type": "markdown",
   "id": "f15e4c15",
   "metadata": {},
   "source": [
    "#### Len, Lower, Upper, Title y Capitalize"
   ]
  },
  {
   "cell_type": "code",
   "execution_count": 30,
   "id": "8d9ff791-3a0b-490c-a237-012323d90ae1",
   "metadata": {},
   "outputs": [
    {
     "data": {
      "text/plain": [
       "<pandas.core.strings.accessor.StringMethods at 0x7fb0c4aebc40>"
      ]
     },
     "execution_count": 30,
     "metadata": {},
     "output_type": "execute_result"
    }
   ],
   "source": [
    "df_mascotas.loc[:, \"resumen\"].str"
   ]
  },
  {
   "cell_type": "code",
   "execution_count": 31,
   "id": "73d97536",
   "metadata": {},
   "outputs": [
    {
     "data": {
      "text/plain": [
       "0    471\n",
       "1    316\n",
       "2    343\n",
       "Name: resumen, dtype: int64"
      ]
     },
     "execution_count": 31,
     "metadata": {},
     "output_type": "execute_result"
    }
   ],
   "source": [
    "df_mascotas.loc[:, \"resumen\"].str.len()"
   ]
  },
  {
   "cell_type": "code",
   "execution_count": 32,
   "id": "11fdef32",
   "metadata": {},
   "outputs": [
    {
     "data": {
      "text/plain": [
       "0      el perro (canis familiaris o canis lupus fam...\n",
       "1      el gato doméstico1​2​ (felis silvestris catu...\n",
       "2      el canario doméstico (serinus canaria domest...\n",
       "Name: resumen, dtype: object"
      ]
     },
     "execution_count": 32,
     "metadata": {},
     "output_type": "execute_result"
    }
   ],
   "source": [
    "df_mascotas.loc[:, \"resumen\"].str.lower()"
   ]
  },
  {
   "cell_type": "code",
   "execution_count": 33,
   "id": "f657a04d",
   "metadata": {},
   "outputs": [
    {
     "data": {
      "text/plain": [
       "0      EL PERRO (CANIS FAMILIARIS O CANIS LUPUS FAM...\n",
       "1      EL GATO DOMÉSTICO1​2​ (FELIS SILVESTRIS CATU...\n",
       "2      EL CANARIO DOMÉSTICO (SERINUS CANARIA DOMEST...\n",
       "Name: resumen, dtype: object"
      ]
     },
     "execution_count": 33,
     "metadata": {},
     "output_type": "execute_result"
    }
   ],
   "source": [
    "df_mascotas.loc[:, \"resumen\"].str.upper()"
   ]
  },
  {
   "cell_type": "code",
   "execution_count": 34,
   "id": "c94f097b",
   "metadata": {},
   "outputs": [
    {
     "data": {
      "text/plain": [
       "0      El Perro (Canis Familiaris O Canis Lupus Fam...\n",
       "1      El Gato Doméstico1​2​ (Felis Silvestris Catu...\n",
       "2      El Canario Doméstico (Serinus Canaria Domest...\n",
       "Name: resumen, dtype: object"
      ]
     },
     "execution_count": 34,
     "metadata": {},
     "output_type": "execute_result"
    }
   ],
   "source": [
    "df_mascotas.loc[:, \"resumen\"].str.title()"
   ]
  },
  {
   "cell_type": "code",
   "execution_count": 35,
   "id": "eae9a001",
   "metadata": {},
   "outputs": [
    {
     "data": {
      "text/plain": [
       "0      el perro (canis familiaris o canis lupus fam...\n",
       "1      el gato doméstico1​2​ (felis silvestris catu...\n",
       "2      el canario doméstico (serinus canaria domest...\n",
       "Name: resumen, dtype: object"
      ]
     },
     "execution_count": 35,
     "metadata": {},
     "output_type": "execute_result"
    }
   ],
   "source": [
    "df_mascotas.loc[:, \"resumen\"].str.capitalize()"
   ]
  },
  {
   "cell_type": "markdown",
   "id": "432ca609",
   "metadata": {},
   "source": [
    "#### Contains, Split y Join\n",
    "\n",
    "\n",
    "> **Nota: 🗒️**: `.contains` reemplaza al operador `.in`"
   ]
  },
  {
   "cell_type": "code",
   "execution_count": 36,
   "id": "dfa6cde7",
   "metadata": {},
   "outputs": [
    {
     "data": {
      "text/plain": [
       "0     True\n",
       "1    False\n",
       "2    False\n",
       "Name: resumen, dtype: bool"
      ]
     },
     "execution_count": 36,
     "metadata": {},
     "output_type": "execute_result"
    }
   ],
   "source": [
    "df_mascotas.loc[:, \"resumen\"].str.contains(\"perro\")"
   ]
  },
  {
   "cell_type": "code",
   "execution_count": 37,
   "id": "e16db4ef",
   "metadata": {},
   "outputs": [
    {
     "data": {
      "text/plain": [
       "0    False\n",
       "1     True\n",
       "2    False\n",
       "Name: resumen, dtype: bool"
      ]
     },
     "execution_count": 37,
     "metadata": {},
     "output_type": "execute_result"
    }
   ],
   "source": [
    "df_mascotas.loc[:, \"resumen\"].str.contains(\"gato\")"
   ]
  },
  {
   "cell_type": "code",
   "execution_count": 40,
   "id": "8791410b",
   "metadata": {},
   "outputs": [
    {
     "data": {
      "text/plain": [
       "0    [, , El, perro, (Canis, familiaris, o, Canis, ...\n",
       "1    [, , El, gato, doméstico1​2​, (Felis, silvestr...\n",
       "2    [, , El, canario, doméstico, (Serinus, canaria...\n",
       "Name: resumen, dtype: object"
      ]
     },
     "execution_count": 40,
     "metadata": {},
     "output_type": "execute_result"
    }
   ],
   "source": [
    "df_mascotas.loc[:, \"resumen\"].str.split(\" \")"
   ]
  },
  {
   "cell_type": "code",
   "execution_count": 41,
   "id": "26faa609",
   "metadata": {},
   "outputs": [
    {
     "data": {
      "text/plain": [
       "0    ||El|perro|(Canis|familiaris|o|Canis|lupus|fam...\n",
       "1    ||El|gato|doméstico1​2​|(Felis|silvestris|catu...\n",
       "2    ||El|canario|doméstico|(Serinus|canaria|domest...\n",
       "Name: resumen, dtype: object"
      ]
     },
     "execution_count": 41,
     "metadata": {},
     "output_type": "execute_result"
    }
   ],
   "source": [
    "df_mascotas.loc[:, \"resumen\"].str.split(\" \").str.join(\"|\")"
   ]
  },
  {
   "cell_type": "markdown",
   "id": "d33bec55",
   "metadata": {},
   "source": [
    "#### Replace"
   ]
  },
  {
   "cell_type": "code",
   "execution_count": 42,
   "id": "814d624c-d65c-4893-a8dc-372face40283",
   "metadata": {},
   "outputs": [
    {
     "data": {
      "text/plain": [
       "0      El perro (Canis familiaris o Canis lupus fam...\n",
       "1      El gato doméstico1​2​ (Felis silvestris catu...\n",
       "2      El canario doméstico (Serinus canaria domest...\n",
       "Name: resumen, dtype: object"
      ]
     },
     "execution_count": 42,
     "metadata": {},
     "output_type": "execute_result"
    }
   ],
   "source": [
    "df_mascotas.loc[:, \"resumen\"]"
   ]
  },
  {
   "cell_type": "code",
   "execution_count": 43,
   "id": "3a46de96",
   "metadata": {},
   "outputs": [
    {
     "data": {
      "text/plain": [
       "0      El perro Canis familiaris o Canis lupus fami...\n",
       "1      El gato doméstico1​2​ Felis silvestris catus...\n",
       "2      El canario doméstico Serinus canaria domesti...\n",
       "Name: resumen, dtype: object"
      ]
     },
     "execution_count": 43,
     "metadata": {},
     "output_type": "execute_result"
    }
   ],
   "source": [
    "(\n",
    "    df_mascotas.loc[:, \"resumen\"]\n",
    "    .str.replace(\"(\", \"\", regex=False)\n",
    "    .str.replace(\")\", \"\", regex=False)\n",
    ")"
   ]
  },
  {
   "cell_type": "markdown",
   "id": "0def7991-4c4d-4b73-95cf-733ef0a5b2f2",
   "metadata": {},
   "source": [
    "> **Pregunta ❓:** ¿Qué indica el parámetro `regex`?"
   ]
  },
  {
   "cell_type": "markdown",
   "id": "d5c46509",
   "metadata": {},
   "source": [
    "#### Expresiones Regulares\n",
    "\n",
    "Las expresiones regulares son una herramienta de búsqueda y manipulación de texto que permiten encontrar patrones específicos en una cadena de caracteres.\n",
    "\n",
    "Una expresión regular es una secuencia de caracteres que define un patrón de búsqueda. Los patrones pueden incluir caracteres específicos, combinaciones de caracteres, grupos de caracteres y operadores especiales que permiten hacer coincidir patrones complejos en el texto.\n",
    "\n",
    "Aunque pueden parecer complicadas al principio, las expresiones regulares son una herramienta muy poderosa ya que pueden ser aplicadas en una amplia variedad de tareas de procesamiento de texto.\n",
    "\n",
    "\n",
    "- Tutorial de regex: https://www.programiz.com/python-programming/regex\n",
    "- Playground para probar regex online: https://regex101.com/"
   ]
  },
  {
   "cell_type": "markdown",
   "id": "2aba5797-6ea9-4e4f-bd9c-60b0e08f348e",
   "metadata": {},
   "source": [
    "##### Sintaxis y reglas básicas\n",
    "\n",
    "1. Usa caracteres literales para representar las letras y números que deseas buscar. Por ejemplo, la expresión regular `abc` buscará la cadena de texto `\"abc\"`.\n",
    "2. Utiliza caracteres especiales para representar patrones de búsqueda más complejos. Por ejemplo, el carácter especial `\".\"` representa cualquier carácter, y el carácter especial `\"^\"` representa el inicio de una línea.\n",
    "3. Utiliza corchetes para definir un conjunto de caracteres que deseas buscar. Por ejemplo, [abc] buscará cualquiera de los caracteres `\"a\"`, `\"b\"` o `\"c\"`.\n",
    "4. Utiliza caracteres especiales como `*` o `+` para representar repeticiones de caracteres o patrones. Por ejemplo, `a*` buscará cero o más repeticiones de la letra `\"a\"` como `\"\"`, `\"a\"`, `\"aa\"`, etc...; `a+` en cambio aceptará `\"a\"`, `\"aa\"`, etc...\n",
    "5. Utiliza paréntesis para agrupar patrones y aplicar operadores a grupos de caracteres. Por ejemplo, `(abc)+` buscará una o más repeticiones de la cadena `\"abc\"`.\n",
    "6. Utiliza el carácter especial `\\` para escapar caracteres especiales (o sea, para tratar a *, +, [, ], etc... como texto) y tratarlos como caracteres literales. Por ejemplo, `\\.com` buscará el texto `\".com\"`.\n",
    "7. Utiliza el símbolo `^` para indicar que lo que se busca está al inicio de la línea, y el símbolo `$` para indica que lo que se busca el final de la línea. \n",
    "8. Uitiliza `\\s+` para encontrar todos los espacios, `[0-9]` para buscar los dígitos (`[0-9]+` para uno o más de un dígito) y `[a-zA-Z]` para encontrar letras (`[a-zA-Z]+` para uno o más de una letra)."
   ]
  },
  {
   "cell_type": "code",
   "execution_count": 55,
   "id": "72893cfe",
   "metadata": {},
   "outputs": [
    {
     "data": {
      "text/plain": [
       "array(['  El perro (Canis familiaris o Canis lupus familiaris dependiendo de si se lo considera una especie por derecho propio o una subespecie del lobo)1\\u200b2\\u200b3\\u200b llamado perro doméstico o can4\\u200b y en algunos lugares coloquialmente llamado chucho5\\u200b tuso6\\u200b choco7\\u200b entre otros; es un mamífero carnívoro de la familia de los cánidos que constituye una especie del género Canis.8\\u200b9\\u200b. Posee un oído y un olfato muy desarrollados y este último es su principal órgano sensorial.  \\n',\n",
       "       '  El gato doméstico1\\u200b2\\u200b (Felis silvestris catus) llamado popularmente gato y de forma coloquial minino3\\u200b michino4\\u200b michi5\\u200b micho6\\u200b mizo7\\u200b miz8\\u200b morroño9\\u200b o morrongo10\\u200b entre otros nombres es un mamífero carnívoro de la familia Felidae. Es una subespecie domesticada por la convivencia con el ser humano.  \\n',\n",
       "       '  El canario doméstico (Serinus canaria domestica)3\\u200b4\\u200b es una subespecie desarrollada durante siglos de selección en cautividad partiendo de ejemplares del canario silvestre o canario salvaje (Serinus canaria) una especie de ave del orden paseriforme de la familia de los fringílidos endémica de las islas Canarias Azores y Madeira.5\\u200b6\\u200b   \\n'],\n",
       "      dtype=object)"
      ]
     },
     "execution_count": 55,
     "metadata": {},
     "output_type": "execute_result"
    }
   ],
   "source": [
    "# sintaxis regex\n",
    "\n",
    "# en este caso se eliminan todas las comas\n",
    "df_mascotas.loc[:, \"resumen\"].str.replace(\",\", \"\", regex=True).values"
   ]
  },
  {
   "cell_type": "code",
   "execution_count": 56,
   "id": "a08de00f-3348-438c-86c8-b7d687ed438e",
   "metadata": {},
   "outputs": [
    {
     "data": {
      "text/plain": [
       "array(['  El perro (Canis familiaris o Canis lupus familiaris dependiendo de si se lo considera una especie por derecho propio o una subespecie del lobo)1\\u200b2\\u200b3\\u200b llamado perro doméstico o can4\\u200b y en algunos lugares coloquialmente llamado chucho5\\u200b tuso6\\u200b choco7\\u200b entre otros es un mamífero carnívoro de la familia de los cánidos que constituye una especie del género Canis.8\\u200b9\\u200b. Posee un oído y un olfato muy desarrollados y este último es su principal órgano sensorial.  \\n',\n",
       "       '  El gato doméstico1\\u200b2\\u200b (Felis silvestris catus) llamado popularmente gato y de forma coloquial minino3\\u200b michino4\\u200b michi5\\u200b micho6\\u200b mizo7\\u200b miz8\\u200b morroño9\\u200b o morrongo10\\u200b entre otros nombres es un mamífero carnívoro de la familia Felidae. Es una subespecie domesticada por la convivencia con el ser humano.  \\n',\n",
       "       '  El canario doméstico (Serinus canaria domestica)3\\u200b4\\u200b es una subespecie desarrollada durante siglos de selección en cautividad partiendo de ejemplares del canario silvestre o canario salvaje (Serinus canaria) una especie de ave del orden paseriforme de la familia de los fringílidos endémica de las islas Canarias Azores y Madeira.5\\u200b6\\u200b   \\n'],\n",
       "      dtype=object)"
      ]
     },
     "execution_count": 56,
     "metadata": {},
     "output_type": "execute_result"
    }
   ],
   "source": [
    "# en este caso se eliminan todas las comas y los punto y coma.\n",
    "# agregamos más de un caracter por eliminar usando []\n",
    "df_mascotas.loc[:, \"resumen\"].str.replace(\"[,;]\", \"\", regex=True).values"
   ]
  },
  {
   "cell_type": "code",
   "execution_count": 58,
   "id": "7a4f0b68-94cc-41e0-8920-3e1c6149bfc4",
   "metadata": {},
   "outputs": [
    {
     "data": {
      "text/plain": [
       "array(['  El perro (Canis familiaris o Canis lupus familiaris dependiendo de si se lo considera una especie por derecho propio o una subespecie del lobo)1\\u200b2\\u200b3\\u200b llamado perro doméstico o can4\\u200b y en algunos lugares coloquialmente llamado chucho5\\u200b tuso6\\u200b choco7\\u200b entre otros es un mamífero carnívoro de la familia de los cánidos que constituye una especie del género Canis8\\u200b9\\u200b Posee un oído y un olfato muy desarrollados y este último es su principal órgano sensorial  \\n',\n",
       "       '  El gato doméstico1\\u200b2\\u200b (Felis silvestris catus) llamado popularmente gato y de forma coloquial minino3\\u200b michino4\\u200b michi5\\u200b micho6\\u200b mizo7\\u200b miz8\\u200b morroño9\\u200b o morrongo10\\u200b entre otros nombres es un mamífero carnívoro de la familia Felidae Es una subespecie domesticada por la convivencia con el ser humano  \\n',\n",
       "       '  El canario doméstico (Serinus canaria domestica)3\\u200b4\\u200b es una subespecie desarrollada durante siglos de selección en cautividad partiendo de ejemplares del canario silvestre o canario salvaje (Serinus canaria) una especie de ave del orden paseriforme de la familia de los fringílidos endémica de las islas Canarias Azores y Madeira5\\u200b6\\u200b   \\n'],\n",
       "      dtype=object)"
      ]
     },
     "execution_count": 58,
     "metadata": {},
     "output_type": "execute_result"
    }
   ],
   "source": [
    "# en este caso se eliminan todas las comas y los punto y coma y los puntos\n",
    "# notar que el punto hay que escribirlo con un slash inverso \\: \\.\n",
    "df_mascotas.loc[:, \"resumen\"].str.replace(\"[,;\\.]\", \"\", regex=True).values"
   ]
  },
  {
   "cell_type": "code",
   "execution_count": 59,
   "id": "c66b03c2-f2fa-4d99-a016-dae36990002f",
   "metadata": {},
   "outputs": [
    {
     "data": {
      "text/plain": [
       "array(['  El perro Canis familiaris o Canis lupus familiaris dependiendo de si se lo considera una especie por derecho propio o una subespecie del lobo\\u200b\\u200b\\u200b llamado perro doméstico o can\\u200b y en algunos lugares coloquialmente llamado chucho\\u200b tuso\\u200b choco\\u200b entre otros es un mamífero carnívoro de la familia de los cánidos que constituye una especie del género Canis\\u200b\\u200b Posee un oído y un olfato muy desarrollados y este último es su principal órgano sensorial  \\n',\n",
       "       '  El gato doméstico\\u200b\\u200b Felis silvestris catus llamado popularmente gato y de forma coloquial minino\\u200b michino\\u200b michi\\u200b micho\\u200b mizo\\u200b miz\\u200b morroño\\u200b o morrongo\\u200b entre otros nombres es un mamífero carnívoro de la familia Felidae Es una subespecie domesticada por la convivencia con el ser humano  \\n',\n",
       "       '  El canario doméstico Serinus canaria domestica\\u200b\\u200b es una subespecie desarrollada durante siglos de selección en cautividad partiendo de ejemplares del canario silvestre o canario salvaje Serinus canaria una especie de ave del orden paseriforme de la familia de los fringílidos endémica de las islas Canarias Azores y Madeira\\u200b\\u200b   \\n'],\n",
       "      dtype=object)"
      ]
     },
     "execution_count": 59,
     "metadata": {},
     "output_type": "execute_result"
    }
   ],
   "source": [
    "# mismo caso para los paréntesis ( y ) y corchetes [, ]: hay que agregar \\.\n",
    "df_mascotas.loc[:, \"resumen\"].str.replace(\"[,;\\.\\(\\)\\[\\]\\d]\", \"\", regex=True).values"
   ]
  },
  {
   "cell_type": "code",
   "execution_count": 60,
   "id": "1ee089bc",
   "metadata": {
    "scrolled": true,
    "tags": []
   },
   "outputs": [
    {
     "data": {
      "text/plain": [
       "0      El perro (Canis familiaris o Canis lupus fam...\n",
       "1      El gato doméstico​​ (Felis silvestris catus)...\n",
       "2      El canario doméstico (Serinus canaria domest...\n",
       "Name: resumen, dtype: object"
      ]
     },
     "execution_count": 60,
     "metadata": {},
     "output_type": "execute_result"
    }
   ],
   "source": [
    "# \\d indica que se eliminarán todos todos los dígitos\n",
    "\n",
    "df_mascotas.loc[:, \"resumen\"].str.replace(\"\\d\", \"\", regex=True)"
   ]
  },
  {
   "cell_type": "code",
   "execution_count": 61,
   "id": "33a5bbeb-64c9-4c4d-b2b9-0327c91896d7",
   "metadata": {},
   "outputs": [
    {
     "data": {
      "text/plain": [
       "array(['  El perro Canis familiaris o Canis lupus familiaris dependiendo de si se lo considera una especie por derecho propio o una subespecie del lobo\\u200b\\u200b\\u200b llamado perro doméstico o can\\u200b y en algunos lugares coloquialmente llamado chucho\\u200b tuso\\u200b choco\\u200b entre otros es un mamífero carnívoro de la familia de los cánidos que constituye una especie del género Canis\\u200b\\u200b Posee un oído y un olfato muy desarrollados y este último es su principal órgano sensorial  \\n',\n",
       "       '  El gato doméstico\\u200b\\u200b Felis silvestris catus llamado popularmente gato y de forma coloquial minino\\u200b michino\\u200b michi\\u200b micho\\u200b mizo\\u200b miz\\u200b morroño\\u200b o morrongo\\u200b entre otros nombres es un mamífero carnívoro de la familia Felidae Es una subespecie domesticada por la convivencia con el ser humano  \\n',\n",
       "       '  El canario doméstico Serinus canaria domestica\\u200b\\u200b es una subespecie desarrollada durante siglos de selección en cautividad partiendo de ejemplares del canario silvestre o canario salvaje Serinus canaria una especie de ave del orden paseriforme de la familia de los fringílidos endémica de las islas Canarias Azores y Madeira\\u200b\\u200b   \\n'],\n",
       "      dtype=object)"
      ]
     },
     "execution_count": 61,
     "metadata": {},
     "output_type": "execute_result"
    }
   ],
   "source": [
    "# todo junto:\n",
    "df_mascotas.loc[:, \"resumen\"].str.replace(\"[,;\\.\\(\\)\\[\\]\\d]\", \"\", regex=True).values"
   ]
  },
  {
   "cell_type": "markdown",
   "id": "e9bac8ea-9ff9-4797-942c-bf4e7262af6c",
   "metadata": {},
   "source": [
    "> **Pregunta ❓**: ¿Según las reglas que vimos anteriormente, habría una forma más rápida de limpiar un string?"
   ]
  },
  {
   "cell_type": "code",
   "execution_count": 62,
   "id": "bb6e0787-7ca0-4cc3-baae-57f247d4102d",
   "metadata": {},
   "outputs": [
    {
     "data": {
      "text/plain": [
       "array([' El perro Canis familiaris o Canis lupus familiaris dependiendo de si se lo considera una especie por derecho propio o una subespecie del lobo llamado perro dom stico o can y en algunos lugares coloquialmente llamado chucho tuso choco entre otros es un mam fero carn voro de la familia de los c nidos que constituye una especie del g nero Canis Posee un o do y un olfato muy desarrollados y este ltimo es su principal rgano sensorial ',\n",
       "       ' El gato dom stico Felis silvestris catus llamado popularmente gato y de forma coloquial minino michino michi micho mizo miz morro o o morrongo entre otros nombres es un mam fero carn voro de la familia Felidae Es una subespecie domesticada por la convivencia con el ser humano ',\n",
       "       ' El canario dom stico Serinus canaria domestica es una subespecie desarrollada durante siglos de selecci n en cautividad partiendo de ejemplares del canario silvestre o canario salvaje Serinus canaria una especie de ave del orden paseriforme de la familia de los fring lidos end mica de las islas Canarias Azores y Madeira '],\n",
       "      dtype=object)"
      ]
     },
     "execution_count": 62,
     "metadata": {},
     "output_type": "execute_result"
    }
   ],
   "source": [
    "df_mascotas.loc[:, \"resumen\"].str.replace(\"[^A-Za-z]+\", \" \", regex=True).values"
   ]
  },
  {
   "cell_type": "code",
   "execution_count": 71,
   "id": "248d02c4-a41a-40cd-ad85-a7311c62786d",
   "metadata": {},
   "outputs": [
    {
     "data": {
      "text/plain": [
       "array(['  El perro (Canis familiaris o Canis lupus familiaris, dependiendo de si se lo considera una especie por derecho propio o una subespecie del lobo),1\\u200b2\\u200b3\\u200b llamado perro doméstico o can,4\\u200b y en algunos lugares coloquialmente llamado chucho,5\\u200b tuso,6\\u200b choco,7\\u200b entre otros; es un mamífero carnívoro de la familia de los cánidos, que constituye una especie del género Canis.8\\u200b9\\u200b. Posee un oído y un olfato muy desarrollados, y este último es su principal órgano sensorial.  \\n',\n",
       "       '  El gato doméstico1\\u200b2\\u200b (Felis silvestris catus), llamado popularmente gato, y de forma coloquial minino,3\\u200b michino,4\\u200b michi,5\\u200b micho,6\\u200b mizo,7\\u200b miz,8\\u200b morroño9\\u200b o morrongo,10\\u200b entre otros nombres, es un mamífero carnívoro de la familia Felidae. Es una subespecie domesticada por la convivencia con el ser humano.  \\n',\n",
       "       '  El canario doméstico (Serinus canaria domestica)3\\u200b4\\u200b es una subespecie desarrollada durante siglos de selección en cautividad partiendo de ejemplares del canario silvestre o canario salvaje (Serinus canaria), una especie de ave del orden paseriforme de la familia de los fringílidos, endémica de las islas Canarias, Azores y Madeira.5\\u200b6\\u200b   \\n'],\n",
       "      dtype=object)"
      ]
     },
     "execution_count": 71,
     "metadata": {},
     "output_type": "execute_result"
    }
   ],
   "source": [
    "df_mascotas.loc[:, \"resumen\"].str.replace(\"\\b[^\\W]+\\b\", \" \", regex=True).values"
   ]
  },
  {
   "cell_type": "markdown",
   "id": "f29fc1e3-a128-492c-8a0b-156f45ca7447",
   "metadata": {},
   "source": [
    " > Nota: \n",
    "\n",
    "- `\\W` para buscar todas las palabras que no contienen caracteres que no sean letras ni números, incluyendo letras con acento. \n",
    "- `\\b` se utiliza para indicar que la expresión regular debe buscar palabras completas, es decir, que no se debe incluir ninguna letra o número antes o después de la palabra."
   ]
  },
  {
   "cell_type": "markdown",
   "id": "a107b3ff",
   "metadata": {},
   "source": [
    "### Paréntesis: Método `apply`\n",
    "\n",
    "El método apply de Pandas se utiliza para aplicar una función a una columna o fila de un DataFrame. La función que se va a aplicar puede ser una función integrada de Python, una función definida por el usuario o una función lambda."
   ]
  },
  {
   "cell_type": "code",
   "execution_count": 76,
   "id": "158e6ccf-9490-46d3-9e22-4054eaea30f9",
   "metadata": {},
   "outputs": [
    {
     "data": {
      "text/plain": [
       "0      El perro (Canis familiaris o Canis lupus fam...\n",
       "1      El gato doméstico1​2​ (Felis silvestris catu...\n",
       "2      El canario doméstico (Serinus canaria domest...\n",
       "Name: resumen, dtype: object"
      ]
     },
     "execution_count": 76,
     "metadata": {},
     "output_type": "execute_result"
    }
   ],
   "source": [
    "df_mascotas.loc[:, \"resumen\"]"
   ]
  },
  {
   "cell_type": "code",
   "execution_count": 77,
   "id": "dd1930e0",
   "metadata": {
    "scrolled": true
   },
   "outputs": [
    {
     "data": {
      "text/plain": [
       "0    False\n",
       "1     True\n",
       "2    False\n",
       "Name: resumen, dtype: bool"
      ]
     },
     "execution_count": 77,
     "metadata": {},
     "output_type": "execute_result"
    }
   ],
   "source": [
    "def is_gato_in(value):\n",
    "    if \"gato\" in value:\n",
    "        return True\n",
    "    else:\n",
    "        return False\n",
    "\n",
    "df_mascotas.loc[:, \"resumen\"].apply(is_gato_in)"
   ]
  },
  {
   "cell_type": "code",
   "execution_count": 78,
   "id": "dd7c52bb-d39e-443e-8af3-4b1f684d72b4",
   "metadata": {},
   "outputs": [
    {
     "data": {
      "text/plain": [
       "0      El perro\n",
       "1      El gato \n",
       "2      El canar\n",
       "Name: resumen, dtype: object"
      ]
     },
     "execution_count": 78,
     "metadata": {},
     "output_type": "execute_result"
    }
   ],
   "source": [
    "def seleccionar_10_caracteres(value):\n",
    "    return value[0:10]\n",
    "\n",
    "df_mascotas.loc[:, \"resumen\"].apply(seleccionar_10_caracteres)"
   ]
  },
  {
   "cell_type": "code",
   "execution_count": 79,
   "id": "bff8cce6-97b2-418c-bdd9-d0456c1999ca",
   "metadata": {},
   "outputs": [
    {
     "data": {
      "text/plain": [
       "0      el perro (canis familiaris o canis lupus fam...\n",
       "1      el gato doméstico1​2​ (felis silvestris catu...\n",
       "2      el canario doméstico (serinus canaria domest...\n",
       "Name: resumen, dtype: object"
      ]
     },
     "execution_count": 79,
     "metadata": {},
     "output_type": "execute_result"
    }
   ],
   "source": [
    "def limpiar(value):\n",
    "    return value.replace(\",\", \"\").replace(\";\", \"\").lower()\n",
    "\n",
    "df_mascotas.loc[:, \"resumen\"].apply(limpiar)"
   ]
  },
  {
   "cell_type": "markdown",
   "id": "db77c12c-65a7-4304-96e3-214b952501ad",
   "metadata": {},
   "source": [
    "#### `strip_accents_ascii`\n",
    "\n",
    "`strip_accents_ascii` se utiliza para eliminar los acentos y diacríticos de una cadena, convirtiendo los caracteres Unicode que representan los acentos y diacríticos en caracteres ASCII equivalentes."
   ]
  },
  {
   "cell_type": "code",
   "execution_count": 93,
   "id": "687b15bc",
   "metadata": {},
   "outputs": [],
   "source": [
    "import unicodedata\n",
    "\n",
    "def strip_accents_ascii(value):\n",
    "    nkfd_form = unicodedata.normalize(\"NFKD\", value)\n",
    "    return nkfd_form.encode(\"ASCII\", \"ignore\").decode(\"ASCII\")"
   ]
  },
  {
   "cell_type": "code",
   "execution_count": 94,
   "id": "dd9d5cd9-0e15-4b65-85af-7c2ea5469f92",
   "metadata": {},
   "outputs": [
    {
     "data": {
      "text/plain": [
       "'domestico'"
      ]
     },
     "execution_count": 94,
     "metadata": {},
     "output_type": "execute_result"
    }
   ],
   "source": [
    "strip_accents_ascii('doméstico')"
   ]
  },
  {
   "cell_type": "code",
   "execution_count": 95,
   "id": "b33254cf-1fa3-4ea2-8a03-3a69e79855c0",
   "metadata": {},
   "outputs": [
    {
     "data": {
      "text/plain": [
       "0      El perro (Canis familiaris o Canis lupus fam...\n",
       "1      El gato doméstico1​2​ (Felis silvestris catu...\n",
       "2      El canario doméstico (Serinus canaria domest...\n",
       "Name: resumen, dtype: object"
      ]
     },
     "execution_count": 95,
     "metadata": {},
     "output_type": "execute_result"
    }
   ],
   "source": [
    "df_mascotas.loc[:, \"resumen\"]"
   ]
  },
  {
   "cell_type": "code",
   "execution_count": 96,
   "id": "ed4812ac",
   "metadata": {},
   "outputs": [
    {
     "data": {
      "text/plain": [
       "0      El perro (Canis familiaris o Canis lupus fam...\n",
       "1      El gato domestico12 (Felis silvestris catus)...\n",
       "2      El canario domestico (Serinus canaria domest...\n",
       "Name: resumen, dtype: object"
      ]
     },
     "execution_count": 96,
     "metadata": {},
     "output_type": "execute_result"
    }
   ],
   "source": [
    "df_mascotas.loc[:, \"resumen\"].apply(strip_accents_ascii)"
   ]
  },
  {
   "cell_type": "markdown",
   "id": "d93f922c",
   "metadata": {},
   "source": [
    "#### Uso de `.apply` sobre DataFrames\n",
    "\n",
    "`apply` usada sobre un Dataframe permite ejecutar una función sobre las filas o columnas, lo que se indica a través del parámetro `axis`."
   ]
  },
  {
   "cell_type": "code",
   "execution_count": 104,
   "id": "c6788dde",
   "metadata": {},
   "outputs": [
    {
     "data": {
      "text/plain": [
       "0    Perro -   El perro (Canis familiaris o Canis l...\n",
       "1    Gato -   El gato doméstico1​2​ (Felis silvestr...\n",
       "2    Canario -   El canario doméstico (Serinus cana...\n",
       "dtype: object"
      ]
     },
     "execution_count": 104,
     "metadata": {},
     "output_type": "execute_result"
    }
   ],
   "source": [
    "def unir_nombre_y_descripcion(row):\n",
    "    return row[\"nombre\"] + \" - \" + row[\"resumen\"]\n",
    "    \n",
    "# ojo: para aplicar en filas tiene que ser axis=1\n",
    "df_mascotas.apply(unir_nombre_y_descripcion, axis=1)"
   ]
  },
  {
   "cell_type": "code",
   "execution_count": 105,
   "id": "fb959d62-fdb1-4005-b81b-dfee291f1391",
   "metadata": {},
   "outputs": [
    {
     "data": {
      "text/plain": [
       "nombre                                    Perro|Gato|Canario\n",
       "resumen      El perro (Canis familiaris o Canis lupus fam...\n",
       "dtype: object"
      ]
     },
     "execution_count": 105,
     "metadata": {},
     "output_type": "execute_result"
    }
   ],
   "source": [
    "def unir_filas(col):\n",
    "    return '|'.join(col)\n",
    "    \n",
    "# ojo: para aplicar en filas tiene que ser axis=1\n",
    "df_mascotas.apply(unir_filas, axis=0)"
   ]
  },
  {
   "cell_type": "markdown",
   "id": "d4263b07",
   "metadata": {},
   "source": [
    "#### Preprocesamiento Completo\n",
    "\n"
   ]
  },
  {
   "cell_type": "code",
   "execution_count": 107,
   "id": "c6c4b682",
   "metadata": {},
   "outputs": [
    {
     "data": {
      "text/plain": [
       "array(['  El perro (Canis familiaris o Canis lupus familiaris, dependiendo de si se lo considera una especie por derecho propio o una subespecie del lobo),1\\u200b2\\u200b3\\u200b llamado perro doméstico o can,4\\u200b y en algunos lugares coloquialmente llamado chucho,5\\u200b tuso,6\\u200b choco,7\\u200b entre otros; es un mamífero carnívoro de la familia de los cánidos, que constituye una especie del género Canis.8\\u200b9\\u200b. Posee un oído y un olfato muy desarrollados, y este último es su principal órgano sensorial.  \\n',\n",
       "       '  El gato doméstico1\\u200b2\\u200b (Felis silvestris catus), llamado popularmente gato, y de forma coloquial minino,3\\u200b michino,4\\u200b michi,5\\u200b micho,6\\u200b mizo,7\\u200b miz,8\\u200b morroño9\\u200b o morrongo,10\\u200b entre otros nombres, es un mamífero carnívoro de la familia Felidae. Es una subespecie domesticada por la convivencia con el ser humano.  \\n',\n",
       "       '  El canario doméstico (Serinus canaria domestica)3\\u200b4\\u200b es una subespecie desarrollada durante siglos de selección en cautividad partiendo de ejemplares del canario silvestre o canario salvaje (Serinus canaria), una especie de ave del orden paseriforme de la familia de los fringílidos, endémica de las islas Canarias, Azores y Madeira.5\\u200b6\\u200b   \\n'],\n",
       "      dtype=object)"
      ]
     },
     "execution_count": 107,
     "metadata": {},
     "output_type": "execute_result"
    }
   ],
   "source": [
    "df_mascotas.loc[:, \"resumen\"].values"
   ]
  },
  {
   "cell_type": "code",
   "execution_count": 91,
   "id": "5bdece33",
   "metadata": {},
   "outputs": [
    {
     "data": {
      "text/plain": [
       "array(['el perro canis familiaris o canis lupus familiaris dependiendo de si se lo considera una especie por derecho propio o una subespecie del lobo llamado perro domestico o can y en algunos lugares coloquialmente llamado chucho tuso choco entre otros es un mamifero carnivoro de la familia de los canidos que constituye una especie del genero canis posee un oido y un olfato muy desarrollados y este ultimo es su principal organo sensorial',\n",
       "       'el gato domestico felis silvestris catus llamado popularmente gato y de forma coloquial minino michino michi micho mizo miz morrono o morrongo entre otros nombres es un mamifero carnivoro de la familia felidae es una subespecie domesticada por la convivencia con el ser humano',\n",
       "       'el canario domestico serinus canaria domestica es una subespecie desarrollada durante siglos de seleccion en cautividad partiendo de ejemplares del canario silvestre o canario salvaje serinus canaria una especie de ave del orden paseriforme de la familia de los fringilidos endemica de las islas canarias azores y madeira'],\n",
       "      dtype=object)"
      ]
     },
     "execution_count": 91,
     "metadata": {},
     "output_type": "execute_result"
    }
   ],
   "source": [
    "df_mascotas_procesado = (\n",
    "    df_mascotas.loc[:, \"resumen\"]\n",
    "    .apply(strip_accents_ascii)\n",
    "    .str.replace(\"[,;\\.\\(\\)\\[\\]\\d*]\", \"\", regex=True)\n",
    "    .str.replace(r\"\\s+\", \" \", regex=True) # en este caso se reemplazan todos los espacios por solo un espacio.\n",
    "    .str.strip()\n",
    "    .str.lower()\n",
    ")\n",
    "\n",
    "df_mascotas_procesado.values"
   ]
  },
  {
   "cell_type": "markdown",
   "id": "2a53579a-564a-4241-9d76-720bf6d76797",
   "metadata": {},
   "source": [
    "---"
   ]
  },
  {
   "cell_type": "markdown",
   "id": "b47a19fa-77f0-4abd-90c9-f438d3ba51a2",
   "metadata": {},
   "source": [
    "## 2.- Datos Temporales"
   ]
  },
  {
   "cell_type": "markdown",
   "id": "0b7f205b-e863-4e82-9e9a-642bd655891a",
   "metadata": {},
   "source": [
    "### Dataset de Temperaturas Globales\n",
    "\n",
    "![wbg_climate](https://raw.githubusercontent.com/MDS7202/MDS7202/main/recursos/2023-01/11-Pandas4/wbg_climate.png)\n",
    "\n",
    "\n",
    "https://climateknowledgeportal.worldbank.org/download-data"
   ]
  },
  {
   "cell_type": "code",
   "execution_count": 216,
   "id": "00acad00-8a60-4dcd-8d00-ed63d4becf82",
   "metadata": {},
   "outputs": [
    {
     "data": {
      "text/html": [
       "<div>\n",
       "<style scoped>\n",
       "    .dataframe tbody tr th:only-of-type {\n",
       "        vertical-align: middle;\n",
       "    }\n",
       "\n",
       "    .dataframe tbody tr th {\n",
       "        vertical-align: top;\n",
       "    }\n",
       "\n",
       "    .dataframe thead th {\n",
       "        text-align: right;\n",
       "    }\n",
       "</style>\n",
       "<table border=\"1\" class=\"dataframe\">\n",
       "  <thead>\n",
       "    <tr style=\"text-align: right;\">\n",
       "      <th></th>\n",
       "      <th>Temperature</th>\n",
       "      <th>Year</th>\n",
       "      <th>Month</th>\n",
       "      <th>Country</th>\n",
       "      <th>ISO3</th>\n",
       "    </tr>\n",
       "  </thead>\n",
       "  <tbody>\n",
       "    <tr>\n",
       "      <th>0</th>\n",
       "      <td>-0.03110</td>\n",
       "      <td>1991</td>\n",
       "      <td>Jan</td>\n",
       "      <td>Afghanistan</td>\n",
       "      <td>AFG</td>\n",
       "    </tr>\n",
       "    <tr>\n",
       "      <th>1</th>\n",
       "      <td>1.43654</td>\n",
       "      <td>1991</td>\n",
       "      <td>Feb</td>\n",
       "      <td>Afghanistan</td>\n",
       "      <td>AFG</td>\n",
       "    </tr>\n",
       "    <tr>\n",
       "      <th>2</th>\n",
       "      <td>6.88685</td>\n",
       "      <td>1991</td>\n",
       "      <td>Mar</td>\n",
       "      <td>Afghanistan</td>\n",
       "      <td>AFG</td>\n",
       "    </tr>\n",
       "  </tbody>\n",
       "</table>\n",
       "</div>"
      ],
      "text/plain": [
       "   Temperature  Year Month      Country ISO3\n",
       "0     -0.03110  1991   Jan  Afghanistan  AFG\n",
       "1      1.43654  1991   Feb  Afghanistan  AFG\n",
       "2      6.88685  1991   Mar  Afghanistan  AFG"
      ]
     },
     "execution_count": 216,
     "metadata": {},
     "output_type": "execute_result"
    }
   ],
   "source": [
    "df_temp = pd.read_csv(\"./temperature.csv\")\n",
    "df_temp.head(3)"
   ]
  },
  {
   "cell_type": "markdown",
   "id": "b6a983ac-9181-47eb-a3a5-e942f857b541",
   "metadata": {},
   "source": [
    "### Motivación\n",
    "\n",
    "Las fechas y horarios son por lo general parte íntegra de los datos en muchas aplicaciones. Algunos ejemplos de uso de fechas y horarios en aplicaciones son el análisis de datos de ventas a lo largo del tiempo, el seguimiento de la evolución del clima, el análisis de la actividad del usuario en una plataforma digital, entre otros.\n",
    "\n",
    "> **Pregunta ❓**: ¿Qué aplicación particular podríamos darle al manejar los datetimes del clima? "
   ]
  },
  {
   "cell_type": "markdown",
   "id": "4c9933be-bbfc-4fa7-b963-c927ed645c75",
   "metadata": {},
   "source": [
    "### Módulo `Datetime`\n",
    "\n",
    "El módulo datetime en Python es una librería estándar (built-in) que proporciona clases y métodos para trabajar con fechas y horas los cuales simplifican la manipulación y cálculos ellos."
   ]
  },
  {
   "cell_type": "code",
   "execution_count": 110,
   "id": "2b2f2c45-32b9-4813-b140-15bc4a522cff",
   "metadata": {},
   "outputs": [],
   "source": [
    "import datetime"
   ]
  },
  {
   "cell_type": "markdown",
   "id": "9e9063b6-c306-41d0-83a7-4f011534ecd0",
   "metadata": {},
   "source": [
    "#### Date\n",
    "\n",
    "Objeto que almacena día, mes y año."
   ]
  },
  {
   "cell_type": "code",
   "execution_count": 111,
   "id": "b2a5d214-5070-4cfc-aa08-c809c0c9cf81",
   "metadata": {},
   "outputs": [
    {
     "name": "stdout",
     "output_type": "stream",
     "text": [
      "2023-04-16\n"
     ]
    }
   ],
   "source": [
    "date_object = datetime.date.today()\n",
    "print(date_object)"
   ]
  },
  {
   "cell_type": "code",
   "execution_count": 112,
   "id": "c6ad7148-abd1-4800-9800-92c5a9154bb5",
   "metadata": {},
   "outputs": [
    {
     "data": {
      "text/plain": [
       "16"
      ]
     },
     "execution_count": 112,
     "metadata": {},
     "output_type": "execute_result"
    }
   ],
   "source": [
    "date_object.day"
   ]
  },
  {
   "cell_type": "code",
   "execution_count": 113,
   "id": "93d940d7-328e-4dbf-bb7a-133f4b764e5c",
   "metadata": {},
   "outputs": [
    {
     "data": {
      "text/plain": [
       "4"
      ]
     },
     "execution_count": 113,
     "metadata": {},
     "output_type": "execute_result"
    }
   ],
   "source": [
    "date_object.month"
   ]
  },
  {
   "cell_type": "code",
   "execution_count": 114,
   "id": "84e2f758-6a7a-4eec-a046-b7137b96cd1b",
   "metadata": {},
   "outputs": [
    {
     "data": {
      "text/plain": [
       "2023"
      ]
     },
     "execution_count": 114,
     "metadata": {},
     "output_type": "execute_result"
    }
   ],
   "source": [
    "date_object.year"
   ]
  },
  {
   "cell_type": "markdown",
   "id": "28f628ac-322d-4934-9ffa-df7afce926a0",
   "metadata": {},
   "source": [
    "#### Datetime\n",
    "\n",
    "Almacena segundos, minutos, hora, día, mes y año. También puede contener timezone."
   ]
  },
  {
   "cell_type": "code",
   "execution_count": 115,
   "id": "19ed10ec-bfe4-4420-a871-caa310508f4c",
   "metadata": {},
   "outputs": [
    {
     "name": "stdout",
     "output_type": "stream",
     "text": [
      "2023-04-16 23:34:32.958296\n"
     ]
    }
   ],
   "source": [
    "datetime_object = datetime.datetime.now()\n",
    "print(datetime_object)"
   ]
  },
  {
   "cell_type": "markdown",
   "id": "1ede2a4f-263d-4354-b1ba-ccb7b4e6eb54",
   "metadata": {},
   "source": [
    "#### Instanciar nuevos Date y Datetimes"
   ]
  },
  {
   "cell_type": "code",
   "execution_count": 116,
   "id": "2a195750-6552-4cc4-bf73-f272ffdd63d6",
   "metadata": {},
   "outputs": [
    {
     "name": "stdout",
     "output_type": "stream",
     "text": [
      "2021-09-09\n"
     ]
    }
   ],
   "source": [
    "d = datetime.date(2021, 9, 9)\n",
    "print(d)"
   ]
  },
  {
   "cell_type": "code",
   "execution_count": 117,
   "id": "552c62d5-e254-424c-8af7-1779ff47b183",
   "metadata": {},
   "outputs": [
    {
     "name": "stdout",
     "output_type": "stream",
     "text": [
      "Año: 2021\n",
      "Mes: 9\n",
      "Día: 9\n"
     ]
    }
   ],
   "source": [
    "print(\"Año:\", d.year)\n",
    "print(\"Mes:\", d.month)\n",
    "print(\"Día:\", d.day)"
   ]
  },
  {
   "cell_type": "code",
   "execution_count": 118,
   "id": "0564bbaa-8a96-48bf-9926-d7b91699be56",
   "metadata": {},
   "outputs": [
    {
     "name": "stdout",
     "output_type": "stream",
     "text": [
      "2021-04-19 10:59:55\n"
     ]
    }
   ],
   "source": [
    "d = datetime.datetime(2021, 4, 19, 10, 59, 55)\n",
    "print(d)"
   ]
  },
  {
   "cell_type": "code",
   "execution_count": 119,
   "id": "0bea4dcf-0259-47cf-b3ae-acb6349a66f5",
   "metadata": {},
   "outputs": [
    {
     "name": "stdout",
     "output_type": "stream",
     "text": [
      "Hora: 10\n",
      "Minuto: 59\n",
      "Segundo: 55\n",
      "Microsegundo: 0\n"
     ]
    }
   ],
   "source": [
    "print(\"Hora:\", d.hour)\n",
    "print(\"Minuto:\", d.minute)\n",
    "print(\"Segundo:\", d.second)\n",
    "print(\"Microsegundo:\", d.microsecond)"
   ]
  },
  {
   "cell_type": "markdown",
   "id": "a70d1aa9-1778-4b92-b18b-ad1bd0791d79",
   "metadata": {},
   "source": [
    "Obviamente, estos objetos cuentan con las restricciones pertinentes "
   ]
  },
  {
   "cell_type": "code",
   "execution_count": 120,
   "id": "62c8d446-0348-4efc-9687-3f6587556b46",
   "metadata": {},
   "outputs": [
    {
     "ename": "ValueError",
     "evalue": "year -1 is out of range",
     "output_type": "error",
     "traceback": [
      "\u001b[0;31m---------------------------------------------------------------------------\u001b[0m",
      "\u001b[0;31mValueError\u001b[0m                                Traceback (most recent call last)",
      "Cell \u001b[0;32mIn[120], line 1\u001b[0m\n\u001b[0;32m----> 1\u001b[0m \u001b[43mdatetime\u001b[49m\u001b[38;5;241;43m.\u001b[39;49m\u001b[43mdatetime\u001b[49m\u001b[43m(\u001b[49m\u001b[38;5;241;43m-\u001b[39;49m\u001b[38;5;241;43m1\u001b[39;49m\u001b[43m,\u001b[49m\u001b[43m \u001b[49m\u001b[38;5;241;43m4\u001b[39;49m\u001b[43m,\u001b[49m\u001b[43m \u001b[49m\u001b[38;5;241;43m19\u001b[39;49m\u001b[43m,\u001b[49m\u001b[43m \u001b[49m\u001b[38;5;241;43m10\u001b[39;49m\u001b[43m,\u001b[49m\u001b[43m \u001b[49m\u001b[38;5;241;43m59\u001b[39;49m\u001b[43m,\u001b[49m\u001b[43m \u001b[49m\u001b[38;5;241;43m55\u001b[39;49m\u001b[43m)\u001b[49m\n",
      "\u001b[0;31mValueError\u001b[0m: year -1 is out of range"
     ]
    }
   ],
   "source": [
    "datetime.datetime(-1, 4, 19, 10, 59, 55)"
   ]
  },
  {
   "cell_type": "code",
   "execution_count": 121,
   "id": "9d77a6ae-f64a-42d3-ae21-3290d83715a2",
   "metadata": {},
   "outputs": [
    {
     "data": {
      "text/plain": [
       "datetime.datetime(9999, 4, 19, 10, 59, 55)"
      ]
     },
     "execution_count": 121,
     "metadata": {},
     "output_type": "execute_result"
    }
   ],
   "source": [
    "datetime.datetime(9999, 4, 19, 10, 59, 55)"
   ]
  },
  {
   "cell_type": "markdown",
   "id": "8f93adec-b51b-4f22-824b-a9fc2d31e5de",
   "metadata": {},
   "source": [
    "Relacionado: https://es.wikipedia.org/wiki/Problema_del_a%C3%B1o_2000\n",
    "\n",
    "\n",
    "El problema del año 2000, fue un bug o error de software causado por la costumbre que habían adoptado los programadores de omitir la centuria en el año para el almacenamiento de fechas (generalmente para economizar memoria), asumiendo que el software solo funcionaría durante los años cuyos números comenzaran con 19XX\n",
    "\n",
    "\n",
    "![Antes](https://www.sopitas.com/wp-content/uploads/2016/04/ss.gif)\n"
   ]
  },
  {
   "cell_type": "code",
   "execution_count": 122,
   "id": "f60933cc-3e53-4c52-97e2-3a819ca04a17",
   "metadata": {},
   "outputs": [
    {
     "ename": "ValueError",
     "evalue": "year 999999 is out of range",
     "output_type": "error",
     "traceback": [
      "\u001b[0;31m---------------------------------------------------------------------------\u001b[0m",
      "\u001b[0;31mValueError\u001b[0m                                Traceback (most recent call last)",
      "Cell \u001b[0;32mIn[122], line 1\u001b[0m\n\u001b[0;32m----> 1\u001b[0m \u001b[43mdatetime\u001b[49m\u001b[38;5;241;43m.\u001b[39;49m\u001b[43mdatetime\u001b[49m\u001b[43m(\u001b[49m\u001b[38;5;241;43m999999\u001b[39;49m\u001b[43m,\u001b[49m\u001b[43m \u001b[49m\u001b[38;5;241;43m4\u001b[39;49m\u001b[43m,\u001b[49m\u001b[43m \u001b[49m\u001b[38;5;241;43m19\u001b[39;49m\u001b[43m,\u001b[49m\u001b[43m \u001b[49m\u001b[38;5;241;43m10\u001b[39;49m\u001b[43m,\u001b[49m\u001b[43m \u001b[49m\u001b[38;5;241;43m59\u001b[39;49m\u001b[43m,\u001b[49m\u001b[43m \u001b[49m\u001b[38;5;241;43m55\u001b[39;49m\u001b[43m)\u001b[49m\n",
      "\u001b[0;31mValueError\u001b[0m: year 999999 is out of range"
     ]
    }
   ],
   "source": [
    "datetime.datetime(999999, 4, 19, 10, 59, 55)"
   ]
  },
  {
   "cell_type": "code",
   "execution_count": 123,
   "id": "6c4bde86-a577-488e-b340-0a905a5f0d61",
   "metadata": {},
   "outputs": [
    {
     "ename": "ValueError",
     "evalue": "minute must be in 0..59",
     "output_type": "error",
     "traceback": [
      "\u001b[0;31m---------------------------------------------------------------------------\u001b[0m",
      "\u001b[0;31mValueError\u001b[0m                                Traceback (most recent call last)",
      "Cell \u001b[0;32mIn[123], line 1\u001b[0m\n\u001b[0;32m----> 1\u001b[0m \u001b[43mdatetime\u001b[49m\u001b[38;5;241;43m.\u001b[39;49m\u001b[43mdatetime\u001b[49m\u001b[43m(\u001b[49m\u001b[38;5;241;43m2020\u001b[39;49m\u001b[43m,\u001b[49m\u001b[43m \u001b[49m\u001b[38;5;241;43m4\u001b[39;49m\u001b[43m,\u001b[49m\u001b[43m \u001b[49m\u001b[38;5;241;43m19\u001b[39;49m\u001b[43m,\u001b[49m\u001b[43m \u001b[49m\u001b[38;5;241;43m10\u001b[39;49m\u001b[43m,\u001b[49m\u001b[43m \u001b[49m\u001b[38;5;241;43m60\u001b[39;49m\u001b[43m,\u001b[49m\u001b[43m \u001b[49m\u001b[38;5;241;43m55\u001b[39;49m\u001b[43m)\u001b[49m\n",
      "\u001b[0;31mValueError\u001b[0m: minute must be in 0..59"
     ]
    }
   ],
   "source": [
    "datetime.datetime(2020, 4, 19, 10, 60, 55)"
   ]
  },
  {
   "cell_type": "markdown",
   "id": "598efa1a-1d72-4adf-acdc-b119816a8fbd",
   "metadata": {},
   "source": [
    "¿Y los años bisiestos?"
   ]
  },
  {
   "cell_type": "code",
   "execution_count": 124,
   "id": "3ac621c8-fa75-43c8-b14e-ef6ee392dcd0",
   "metadata": {},
   "outputs": [
    {
     "data": {
      "text/plain": [
       "datetime.datetime(2020, 2, 29, 0, 0)"
      ]
     },
     "execution_count": 124,
     "metadata": {},
     "output_type": "execute_result"
    }
   ],
   "source": [
    "datetime.datetime(2020, 2, 29)"
   ]
  },
  {
   "cell_type": "code",
   "execution_count": 125,
   "id": "e7497b7d-631a-4696-bb55-e55049ee870f",
   "metadata": {},
   "outputs": [
    {
     "ename": "ValueError",
     "evalue": "day is out of range for month",
     "output_type": "error",
     "traceback": [
      "\u001b[0;31m---------------------------------------------------------------------------\u001b[0m",
      "\u001b[0;31mValueError\u001b[0m                                Traceback (most recent call last)",
      "Cell \u001b[0;32mIn[125], line 1\u001b[0m\n\u001b[0;32m----> 1\u001b[0m \u001b[43mdatetime\u001b[49m\u001b[38;5;241;43m.\u001b[39;49m\u001b[43mdatetime\u001b[49m\u001b[43m(\u001b[49m\u001b[38;5;241;43m2021\u001b[39;49m\u001b[43m,\u001b[49m\u001b[43m \u001b[49m\u001b[38;5;241;43m2\u001b[39;49m\u001b[43m,\u001b[49m\u001b[43m \u001b[49m\u001b[38;5;241;43m29\u001b[39;49m\u001b[43m)\u001b[49m\n",
      "\u001b[0;31mValueError\u001b[0m: day is out of range for month"
     ]
    }
   ],
   "source": [
    "datetime.datetime(2021, 2, 29)"
   ]
  },
  {
   "cell_type": "markdown",
   "id": "e77ed491-9401-4aea-a2bc-506e81093891",
   "metadata": {},
   "source": [
    "##### Desde timestamp\n",
    "\n",
    "`A Unix timestamp is the number of seconds between a particular date and January 1, 1970 at UTC.`"
   ]
  },
  {
   "cell_type": "code",
   "execution_count": 126,
   "id": "6eb446b2-ab0b-4c15-8902-12cc9aa498e1",
   "metadata": {},
   "outputs": [
    {
     "name": "stdout",
     "output_type": "stream",
     "text": [
      "Date = 2012-01-10\n"
     ]
    }
   ],
   "source": [
    "timestamp = datetime.date.fromtimestamp(1326244364)\n",
    "print(\"Date =\", timestamp)"
   ]
  },
  {
   "cell_type": "markdown",
   "id": "ec68bbdf-f6e3-4df7-b488-bb3759cfb49f",
   "metadata": {},
   "source": [
    "> **Pregunta ❓**: ¿Podemos sumar o restar fechas?"
   ]
  },
  {
   "cell_type": "code",
   "execution_count": 127,
   "id": "cbf27631-8017-4abb-8839-e2c90d874863",
   "metadata": {},
   "outputs": [
    {
     "data": {
      "text/plain": [
       "datetime.datetime(1, 1, 1, 0, 0)"
      ]
     },
     "execution_count": 127,
     "metadata": {},
     "output_type": "execute_result"
    }
   ],
   "source": [
    "delta = datetime.datetime(1, 1, 1)\n",
    "delta"
   ]
  },
  {
   "cell_type": "code",
   "execution_count": 128,
   "id": "0a2b3440-ea2a-4cfa-aa88-81f2a2c858c6",
   "metadata": {},
   "outputs": [
    {
     "data": {
      "text/plain": [
       "datetime.datetime(2021, 4, 19, 10, 59, 55)"
      ]
     },
     "execution_count": 128,
     "metadata": {},
     "output_type": "execute_result"
    }
   ],
   "source": [
    "d"
   ]
  },
  {
   "cell_type": "code",
   "execution_count": 129,
   "id": "35c6272b-c378-4f63-8d43-f9ef8de004df",
   "metadata": {},
   "outputs": [
    {
     "ename": "TypeError",
     "evalue": "unsupported operand type(s) for +: 'datetime.datetime' and 'datetime.datetime'",
     "output_type": "error",
     "traceback": [
      "\u001b[0;31m---------------------------------------------------------------------------\u001b[0m",
      "\u001b[0;31mTypeError\u001b[0m                                 Traceback (most recent call last)",
      "Cell \u001b[0;32mIn[129], line 1\u001b[0m\n\u001b[0;32m----> 1\u001b[0m \u001b[43md\u001b[49m\u001b[43m \u001b[49m\u001b[38;5;241;43m+\u001b[39;49m\u001b[43m \u001b[49m\u001b[43mdelta\u001b[49m\n",
      "\u001b[0;31mTypeError\u001b[0m: unsupported operand type(s) for +: 'datetime.datetime' and 'datetime.datetime'"
     ]
    }
   ],
   "source": [
    "d + delta"
   ]
  },
  {
   "cell_type": "markdown",
   "id": "88b93cfe-3f0d-4a78-a0b2-abb6091c335c",
   "metadata": {},
   "source": [
    "#### TimeDelta\n",
    "\n",
    "Permide sumar semanas, días, horas, etc... a objetos `date` y `datetime`."
   ]
  },
  {
   "cell_type": "code",
   "execution_count": 130,
   "id": "19c06b94-474c-4054-8b0e-fdacda3bb445",
   "metadata": {},
   "outputs": [
    {
     "data": {
      "text/plain": [
       "datetime.datetime(2021, 4, 19, 10, 59, 55)"
      ]
     },
     "execution_count": 130,
     "metadata": {},
     "output_type": "execute_result"
    }
   ],
   "source": [
    "d"
   ]
  },
  {
   "cell_type": "code",
   "execution_count": 131,
   "id": "8d72de31-484a-430c-9c69-b1704b077ea2",
   "metadata": {},
   "outputs": [
    {
     "data": {
      "text/plain": [
       "datetime.timedelta(days=14)"
      ]
     },
     "execution_count": 131,
     "metadata": {},
     "output_type": "execute_result"
    }
   ],
   "source": [
    "from datetime import timedelta\n",
    "\n",
    "t1 = timedelta(weeks=2)\n",
    "t1"
   ]
  },
  {
   "cell_type": "code",
   "execution_count": 132,
   "id": "7456f6ea-55f2-428e-8865-9142ea755d5f",
   "metadata": {},
   "outputs": [
    {
     "data": {
      "text/plain": [
       "datetime.datetime(2021, 5, 3, 10, 59, 55)"
      ]
     },
     "execution_count": 132,
     "metadata": {},
     "output_type": "execute_result"
    }
   ],
   "source": [
    "d + t1"
   ]
  },
  {
   "cell_type": "code",
   "execution_count": 133,
   "id": "8d893a53-d55c-416d-9e91-0127046e2f25",
   "metadata": {},
   "outputs": [
    {
     "data": {
      "text/plain": [
       "datetime.datetime(2021, 4, 5, 10, 59, 55)"
      ]
     },
     "execution_count": 133,
     "metadata": {},
     "output_type": "execute_result"
    }
   ],
   "source": [
    "d - t1"
   ]
  },
  {
   "cell_type": "markdown",
   "id": "5c5ff81b-685b-4d5f-9a64-57405ca7653b",
   "metadata": {},
   "source": [
    "¿Y tiempos negativos?"
   ]
  },
  {
   "cell_type": "code",
   "execution_count": 134,
   "id": "3c53e689-8967-4775-8b93-3756caf3edf3",
   "metadata": {},
   "outputs": [],
   "source": [
    "t2 = timedelta(minutes=-1)"
   ]
  },
  {
   "cell_type": "code",
   "execution_count": 135,
   "id": "e60ec2a2-459c-49f5-9c78-6c1c05189414",
   "metadata": {},
   "outputs": [
    {
     "data": {
      "text/plain": [
       "datetime.datetime(2021, 4, 19, 10, 58, 55)"
      ]
     },
     "execution_count": 135,
     "metadata": {},
     "output_type": "execute_result"
    }
   ],
   "source": [
    "d + t2"
   ]
  },
  {
   "cell_type": "code",
   "execution_count": 136,
   "id": "1c0925cc-f88a-424b-be3b-2d3914b467c5",
   "metadata": {},
   "outputs": [
    {
     "data": {
      "text/plain": [
       "datetime.datetime(2021, 4, 19, 11, 0, 55)"
      ]
     },
     "execution_count": 136,
     "metadata": {},
     "output_type": "execute_result"
    }
   ],
   "source": [
    "d - t2"
   ]
  },
  {
   "cell_type": "markdown",
   "id": "55de533a-ea34-4d9b-af59-4da1d3ae3c4b",
   "metadata": {},
   "source": [
    "¿Cambios de mes?"
   ]
  },
  {
   "cell_type": "code",
   "execution_count": 137,
   "id": "19be7712-2603-4215-a8ce-c504c54780f2",
   "metadata": {},
   "outputs": [],
   "source": [
    "t3 = timedelta(days=1)"
   ]
  },
  {
   "cell_type": "code",
   "execution_count": 141,
   "id": "fccef8ee-08f5-46e9-94f3-90ff1157cd6a",
   "metadata": {},
   "outputs": [
    {
     "data": {
      "text/plain": [
       "datetime.date(2021, 3, 1)"
      ]
     },
     "execution_count": 141,
     "metadata": {},
     "output_type": "execute_result"
    }
   ],
   "source": [
    "datetime.date(2021, 2, 28) + t3"
   ]
  },
  {
   "cell_type": "code",
   "execution_count": 140,
   "id": "424f2c13-962f-46e6-9d02-049476af9e78",
   "metadata": {},
   "outputs": [
    {
     "data": {
      "text/plain": [
       "datetime.date(2020, 2, 29)"
      ]
     },
     "execution_count": 140,
     "metadata": {},
     "output_type": "execute_result"
    }
   ],
   "source": [
    "# notar que también funciona para años bisiestos\n",
    "datetime.date(2020, 2, 28) + t3 "
   ]
  },
  {
   "cell_type": "markdown",
   "id": "d857fbc1-c587-48e5-89e9-e9a63f0b8338",
   "metadata": {},
   "source": [
    "#### Formatear a string con `.strftime`\n",
    "\n",
    "Permite convertir un objeto datetime a una cadena de caracteres que siga un patrón específico para representar la fecha y la hora."
   ]
  },
  {
   "cell_type": "code",
   "execution_count": null,
   "id": "814dd17a-cae8-41ae-847a-cb5fa8acc9f4",
   "metadata": {},
   "outputs": [],
   "source": [
    "d"
   ]
  },
  {
   "cell_type": "code",
   "execution_count": null,
   "id": "7788c00c-e055-48a3-99f0-a558406e7abc",
   "metadata": {},
   "outputs": [],
   "source": [
    "s1 = d.strftime(\"%d/%m/%Y, %H:%M:%S\")\n",
    "# dd/mm/YY H:M:S format\n",
    "s1"
   ]
  },
  {
   "cell_type": "code",
   "execution_count": null,
   "id": "72420b03-61ee-4382-95ae-62288e1a9e9f",
   "metadata": {},
   "outputs": [],
   "source": [
    "s1 = d.strftime(\"%m/%d/%Y, %H:%M:%S\")\n",
    "# dd/mm/YY H:M:S format\n",
    "s1"
   ]
  },
  {
   "cell_type": "code",
   "execution_count": null,
   "id": "13e643b3-bb57-4cd2-8e77-90056f509c5a",
   "metadata": {},
   "outputs": [],
   "source": [
    "s1 = d.strftime(\"%d/%m/%Y\")\n",
    "# dd/mm/YY H:M:S format\n",
    "s1"
   ]
  },
  {
   "cell_type": "code",
   "execution_count": null,
   "id": "7ababef0-2180-4fff-a2fc-42287291fffe",
   "metadata": {},
   "outputs": [],
   "source": [
    "s2 = d.strftime(\"%A %d %B %Y, %X\")\n",
    "# dd/mm/YY H:M:S format\n",
    "s2"
   ]
  },
  {
   "cell_type": "markdown",
   "id": "76cb1f50-f671-4848-a098-2af61e6665e9",
   "metadata": {},
   "source": [
    "Referencia completa de formateo de fechas:\n",
    "\n",
    "https://www.programiz.com/python-programming/datetime/strftime"
   ]
  },
  {
   "cell_type": "markdown",
   "id": "d82b7246-7180-47af-a566-684aa574a20d",
   "metadata": {},
   "source": [
    "---\n"
   ]
  },
  {
   "cell_type": "markdown",
   "id": "ea7552c1-79f6-4532-89a5-2d878e4eb568",
   "metadata": {},
   "source": [
    "\n",
    "###  Datos temporales en Pandas\n",
    "\n",
    "Pandas implementa su propio sistema de datetimes.\n",
    "`pd.to_datetimes` nos permite convertir una `Serie` o un `DataFrame` en una `Serie` de datetimes."
   ]
  },
  {
   "cell_type": "code",
   "execution_count": 217,
   "id": "b0116ba2-64b3-469c-a41a-9f4b8b096d2b",
   "metadata": {
    "scrolled": true
   },
   "outputs": [
    {
     "data": {
      "text/html": [
       "<div>\n",
       "<style scoped>\n",
       "    .dataframe tbody tr th:only-of-type {\n",
       "        vertical-align: middle;\n",
       "    }\n",
       "\n",
       "    .dataframe tbody tr th {\n",
       "        vertical-align: top;\n",
       "    }\n",
       "\n",
       "    .dataframe thead th {\n",
       "        text-align: right;\n",
       "    }\n",
       "</style>\n",
       "<table border=\"1\" class=\"dataframe\">\n",
       "  <thead>\n",
       "    <tr style=\"text-align: right;\">\n",
       "      <th></th>\n",
       "      <th>Temperature</th>\n",
       "      <th>Year</th>\n",
       "      <th>Month</th>\n",
       "      <th>Country</th>\n",
       "      <th>ISO3</th>\n",
       "    </tr>\n",
       "  </thead>\n",
       "  <tbody>\n",
       "    <tr>\n",
       "      <th>0</th>\n",
       "      <td>-0.03110</td>\n",
       "      <td>1991</td>\n",
       "      <td>Jan</td>\n",
       "      <td>Afghanistan</td>\n",
       "      <td>AFG</td>\n",
       "    </tr>\n",
       "    <tr>\n",
       "      <th>1</th>\n",
       "      <td>1.43654</td>\n",
       "      <td>1991</td>\n",
       "      <td>Feb</td>\n",
       "      <td>Afghanistan</td>\n",
       "      <td>AFG</td>\n",
       "    </tr>\n",
       "    <tr>\n",
       "      <th>2</th>\n",
       "      <td>6.88685</td>\n",
       "      <td>1991</td>\n",
       "      <td>Mar</td>\n",
       "      <td>Afghanistan</td>\n",
       "      <td>AFG</td>\n",
       "    </tr>\n",
       "  </tbody>\n",
       "</table>\n",
       "</div>"
      ],
      "text/plain": [
       "   Temperature  Year Month      Country ISO3\n",
       "0     -0.03110  1991   Jan  Afghanistan  AFG\n",
       "1      1.43654  1991   Feb  Afghanistan  AFG\n",
       "2      6.88685  1991   Mar  Afghanistan  AFG"
      ]
     },
     "execution_count": 217,
     "metadata": {},
     "output_type": "execute_result"
    }
   ],
   "source": [
    "df_temp.head(3)"
   ]
  },
  {
   "cell_type": "code",
   "execution_count": 218,
   "id": "552d9823-ac06-4e51-a443-e40820c08727",
   "metadata": {},
   "outputs": [
    {
     "data": {
      "text/html": [
       "<div>\n",
       "<style scoped>\n",
       "    .dataframe tbody tr th:only-of-type {\n",
       "        vertical-align: middle;\n",
       "    }\n",
       "\n",
       "    .dataframe tbody tr th {\n",
       "        vertical-align: top;\n",
       "    }\n",
       "\n",
       "    .dataframe thead th {\n",
       "        text-align: right;\n",
       "    }\n",
       "</style>\n",
       "<table border=\"1\" class=\"dataframe\">\n",
       "  <thead>\n",
       "    <tr style=\"text-align: right;\">\n",
       "      <th></th>\n",
       "      <th>Year</th>\n",
       "      <th>Month</th>\n",
       "    </tr>\n",
       "  </thead>\n",
       "  <tbody>\n",
       "    <tr>\n",
       "      <th>0</th>\n",
       "      <td>1991</td>\n",
       "      <td>Jan</td>\n",
       "    </tr>\n",
       "    <tr>\n",
       "      <th>1</th>\n",
       "      <td>1991</td>\n",
       "      <td>Feb</td>\n",
       "    </tr>\n",
       "    <tr>\n",
       "      <th>2</th>\n",
       "      <td>1991</td>\n",
       "      <td>Mar</td>\n",
       "    </tr>\n",
       "    <tr>\n",
       "      <th>3</th>\n",
       "      <td>1991</td>\n",
       "      <td>Apr</td>\n",
       "    </tr>\n",
       "    <tr>\n",
       "      <th>4</th>\n",
       "      <td>1991</td>\n",
       "      <td>May</td>\n",
       "    </tr>\n",
       "    <tr>\n",
       "      <th>...</th>\n",
       "      <td>...</td>\n",
       "      <td>...</td>\n",
       "    </tr>\n",
       "    <tr>\n",
       "      <th>59899</th>\n",
       "      <td>2016</td>\n",
       "      <td>Aug</td>\n",
       "    </tr>\n",
       "    <tr>\n",
       "      <th>59900</th>\n",
       "      <td>2016</td>\n",
       "      <td>Sep</td>\n",
       "    </tr>\n",
       "    <tr>\n",
       "      <th>59901</th>\n",
       "      <td>2016</td>\n",
       "      <td>Oct</td>\n",
       "    </tr>\n",
       "    <tr>\n",
       "      <th>59902</th>\n",
       "      <td>2016</td>\n",
       "      <td>Nov</td>\n",
       "    </tr>\n",
       "    <tr>\n",
       "      <th>59903</th>\n",
       "      <td>2016</td>\n",
       "      <td>Dec</td>\n",
       "    </tr>\n",
       "  </tbody>\n",
       "</table>\n",
       "<p>59904 rows × 2 columns</p>\n",
       "</div>"
      ],
      "text/plain": [
       "       Year Month\n",
       "0      1991   Jan\n",
       "1      1991   Feb\n",
       "2      1991   Mar\n",
       "3      1991   Apr\n",
       "4      1991   May\n",
       "...     ...   ...\n",
       "59899  2016   Aug\n",
       "59900  2016   Sep\n",
       "59901  2016   Oct\n",
       "59902  2016   Nov\n",
       "59903  2016   Dec\n",
       "\n",
       "[59904 rows x 2 columns]"
      ]
     },
     "execution_count": 218,
     "metadata": {},
     "output_type": "execute_result"
    }
   ],
   "source": [
    "dates = df_temp.loc[:, [\"Year\", \"Month\"]]\n",
    "dates"
   ]
  },
  {
   "cell_type": "code",
   "execution_count": 219,
   "id": "29cbce9c-7328-4ba5-bcdb-c012115feef4",
   "metadata": {},
   "outputs": [
    {
     "data": {
      "text/html": [
       "<div>\n",
       "<style scoped>\n",
       "    .dataframe tbody tr th:only-of-type {\n",
       "        vertical-align: middle;\n",
       "    }\n",
       "\n",
       "    .dataframe tbody tr th {\n",
       "        vertical-align: top;\n",
       "    }\n",
       "\n",
       "    .dataframe thead th {\n",
       "        text-align: right;\n",
       "    }\n",
       "</style>\n",
       "<table border=\"1\" class=\"dataframe\">\n",
       "  <thead>\n",
       "    <tr style=\"text-align: right;\">\n",
       "      <th></th>\n",
       "      <th>Year</th>\n",
       "      <th>Month</th>\n",
       "      <th>Day</th>\n",
       "    </tr>\n",
       "  </thead>\n",
       "  <tbody>\n",
       "    <tr>\n",
       "      <th>0</th>\n",
       "      <td>1991</td>\n",
       "      <td>Jan</td>\n",
       "      <td>1</td>\n",
       "    </tr>\n",
       "    <tr>\n",
       "      <th>1</th>\n",
       "      <td>1991</td>\n",
       "      <td>Feb</td>\n",
       "      <td>1</td>\n",
       "    </tr>\n",
       "    <tr>\n",
       "      <th>2</th>\n",
       "      <td>1991</td>\n",
       "      <td>Mar</td>\n",
       "      <td>1</td>\n",
       "    </tr>\n",
       "    <tr>\n",
       "      <th>3</th>\n",
       "      <td>1991</td>\n",
       "      <td>Apr</td>\n",
       "      <td>1</td>\n",
       "    </tr>\n",
       "    <tr>\n",
       "      <th>4</th>\n",
       "      <td>1991</td>\n",
       "      <td>May</td>\n",
       "      <td>1</td>\n",
       "    </tr>\n",
       "    <tr>\n",
       "      <th>...</th>\n",
       "      <td>...</td>\n",
       "      <td>...</td>\n",
       "      <td>...</td>\n",
       "    </tr>\n",
       "    <tr>\n",
       "      <th>59899</th>\n",
       "      <td>2016</td>\n",
       "      <td>Aug</td>\n",
       "      <td>1</td>\n",
       "    </tr>\n",
       "    <tr>\n",
       "      <th>59900</th>\n",
       "      <td>2016</td>\n",
       "      <td>Sep</td>\n",
       "      <td>1</td>\n",
       "    </tr>\n",
       "    <tr>\n",
       "      <th>59901</th>\n",
       "      <td>2016</td>\n",
       "      <td>Oct</td>\n",
       "      <td>1</td>\n",
       "    </tr>\n",
       "    <tr>\n",
       "      <th>59902</th>\n",
       "      <td>2016</td>\n",
       "      <td>Nov</td>\n",
       "      <td>1</td>\n",
       "    </tr>\n",
       "    <tr>\n",
       "      <th>59903</th>\n",
       "      <td>2016</td>\n",
       "      <td>Dec</td>\n",
       "      <td>1</td>\n",
       "    </tr>\n",
       "  </tbody>\n",
       "</table>\n",
       "<p>59904 rows × 3 columns</p>\n",
       "</div>"
      ],
      "text/plain": [
       "       Year Month  Day\n",
       "0      1991   Jan    1\n",
       "1      1991   Feb    1\n",
       "2      1991   Mar    1\n",
       "3      1991   Apr    1\n",
       "4      1991   May    1\n",
       "...     ...   ...  ...\n",
       "59899  2016   Aug    1\n",
       "59900  2016   Sep    1\n",
       "59901  2016   Oct    1\n",
       "59902  2016   Nov    1\n",
       "59903  2016   Dec    1\n",
       "\n",
       "[59904 rows x 3 columns]"
      ]
     },
     "execution_count": 219,
     "metadata": {},
     "output_type": "execute_result"
    }
   ],
   "source": [
    "dates.loc[:, \"Day\"] = 1\n",
    "dates"
   ]
  },
  {
   "cell_type": "code",
   "execution_count": 220,
   "id": "986fe7fd-4fb7-475b-ac66-44de54d14253",
   "metadata": {},
   "outputs": [
    {
     "data": {
      "text/plain": [
       "0        1991 Jan 1\n",
       "1        1991 Feb 1\n",
       "2        1991 Mar 1\n",
       "3        1991 Apr 1\n",
       "4        1991 May 1\n",
       "            ...    \n",
       "59899    2016 Aug 1\n",
       "59900    2016 Sep 1\n",
       "59901    2016 Oct 1\n",
       "59902    2016 Nov 1\n",
       "59903    2016 Dec 1\n",
       "Length: 59904, dtype: object"
      ]
     },
     "execution_count": 220,
     "metadata": {},
     "output_type": "execute_result"
    }
   ],
   "source": [
    "dates = dates.astype(str)\n",
    "concat_dates = dates.loc[:, 'Year'] + ' '+  dates.loc[:, 'Month'] + ' ' + dates.loc[:, 'Day']\n",
    "concat_dates"
   ]
  },
  {
   "cell_type": "code",
   "execution_count": 221,
   "id": "bc16ed6f-a23a-4254-8597-9928c6962529",
   "metadata": {},
   "outputs": [
    {
     "data": {
      "text/plain": [
       "0       1991-01-01\n",
       "1       1991-02-01\n",
       "2       1991-03-01\n",
       "3       1991-04-01\n",
       "4       1991-05-01\n",
       "           ...    \n",
       "59899   2016-08-01\n",
       "59900   2016-09-01\n",
       "59901   2016-10-01\n",
       "59902   2016-11-01\n",
       "59903   2016-12-01\n",
       "Length: 59904, dtype: datetime64[ns]"
      ]
     },
     "execution_count": 221,
     "metadata": {},
     "output_type": "execute_result"
    }
   ],
   "source": [
    "parsed_dates = pd.to_datetime(concat_dates)\n",
    "parsed_dates"
   ]
  },
  {
   "cell_type": "code",
   "execution_count": 222,
   "id": "123a6f8f-a542-43f7-810f-42397f87855d",
   "metadata": {},
   "outputs": [],
   "source": [
    "# aquí le dimos el formato con el cuál queríamos leer la fecha.\n",
    "\n",
    "parsed_dates_2 = pd.to_datetime(concat_dates, format=\"%Y %b %d\")"
   ]
  },
  {
   "cell_type": "code",
   "execution_count": 223,
   "id": "cf8e6b4b-a7ff-4647-aab8-8958c9e91f55",
   "metadata": {},
   "outputs": [
    {
     "data": {
      "text/plain": [
       "0        False\n",
       "1        False\n",
       "2        False\n",
       "3        False\n",
       "4        False\n",
       "         ...  \n",
       "59899     True\n",
       "59900     True\n",
       "59901     True\n",
       "59902     True\n",
       "59903     True\n",
       "Length: 59904, dtype: bool"
      ]
     },
     "execution_count": 223,
     "metadata": {},
     "output_type": "execute_result"
    }
   ],
   "source": [
    "pd.to_datetime(concat_dates, format=\"%Y %b %d\") > \"2016 01 01\""
   ]
  },
  {
   "cell_type": "code",
   "execution_count": 224,
   "id": "a5fcfd88-c2a8-43aa-8484-89b8040c6c6e",
   "metadata": {},
   "outputs": [],
   "source": [
    "df_temp.loc[:, 'dates'] = parsed_dates"
   ]
  },
  {
   "cell_type": "code",
   "execution_count": 225,
   "id": "9cc18cc4-09f7-4d60-8a40-47eaaec9595a",
   "metadata": {},
   "outputs": [
    {
     "name": "stdout",
     "output_type": "stream",
     "text": [
      "<class 'pandas.core.frame.DataFrame'>\n",
      "RangeIndex: 59904 entries, 0 to 59903\n",
      "Data columns (total 6 columns):\n",
      " #   Column       Non-Null Count  Dtype         \n",
      "---  ------       --------------  -----         \n",
      " 0   Temperature  59904 non-null  float64       \n",
      " 1   Year         59904 non-null  int64         \n",
      " 2   Month        59904 non-null  object        \n",
      " 3   Country      59904 non-null  object        \n",
      " 4   ISO3         59904 non-null  object        \n",
      " 5   dates        59904 non-null  datetime64[ns]\n",
      "dtypes: datetime64[ns](1), float64(1), int64(1), object(3)\n",
      "memory usage: 2.7+ MB\n"
     ]
    }
   ],
   "source": [
    "df_temp.info()"
   ]
  },
  {
   "cell_type": "markdown",
   "id": "e468faaf-990c-4b55-958f-575befb54de1",
   "metadata": {},
   "source": [
    "#### Valores Inválidos\n",
    "\n",
    "Puede ocurrir que tengamos algún dato inválido que no podamos transformar a `datetime`.\n",
    "\n",
    "`pd.to_datetime` ofrece el siguiente parámetro para manejar estos problemas:\n",
    "\n",
    "`errors{‘ignore’, ‘raise’, ‘coerce’}, default ‘raise’`\n",
    "\n",
    "- If `raise`, then invalid parsing will raise an exception.\n",
    "\n",
    "- If `coerce`, then invalid parsing will be set as NaT.\n",
    "\n",
    "- If `ignore`, then invalid parsing will return the input.\n",
    "\n",
    "\n",
    "**Nota:** NaT = Not a Time\n"
   ]
  },
  {
   "cell_type": "code",
   "execution_count": 226,
   "id": "a7241899-5c8d-44cc-bf6c-7c56cca953c8",
   "metadata": {},
   "outputs": [
    {
     "data": {
      "text/plain": [
       "DatetimeIndex(['2009-07-31', 'NaT'], dtype='datetime64[ns]', freq=None)"
      ]
     },
     "execution_count": 226,
     "metadata": {},
     "output_type": "execute_result"
    }
   ],
   "source": [
    "pd.to_datetime([\"2009/07/31\", \"asd\"], errors=\"coerce\")"
   ]
  },
  {
   "cell_type": "markdown",
   "id": "4b32d5a4-18a5-4d20-9299-6f1970fbc609",
   "metadata": {},
   "source": [
    "#### Comparaciones y consultas\n",
    "\n",
    "Se puede especificar directamente filtros booleanos usando datetimes como también strings:"
   ]
  },
  {
   "cell_type": "code",
   "execution_count": 227,
   "id": "3f601b93-00b6-4973-ad2b-5da25cf0e0b3",
   "metadata": {},
   "outputs": [
    {
     "data": {
      "text/plain": [
       "0        False\n",
       "1        False\n",
       "2        False\n",
       "3        False\n",
       "4        False\n",
       "         ...  \n",
       "59899     True\n",
       "59900     True\n",
       "59901     True\n",
       "59902     True\n",
       "59903     True\n",
       "Name: dates, Length: 59904, dtype: bool"
      ]
     },
     "execution_count": 227,
     "metadata": {},
     "output_type": "execute_result"
    }
   ],
   "source": [
    "df_temp.loc[:, \"dates\"] > datetime.datetime(2010, 1, 1)"
   ]
  },
  {
   "cell_type": "code",
   "execution_count": 228,
   "id": "82ee64ce-296d-4ffb-abc7-908232765778",
   "metadata": {},
   "outputs": [
    {
     "data": {
      "text/plain": [
       "0        False\n",
       "1        False\n",
       "2        False\n",
       "3        False\n",
       "4        False\n",
       "         ...  \n",
       "59899     True\n",
       "59900     True\n",
       "59901     True\n",
       "59902     True\n",
       "59903     True\n",
       "Name: dates, Length: 59904, dtype: bool"
      ]
     },
     "execution_count": 228,
     "metadata": {},
     "output_type": "execute_result"
    }
   ],
   "source": [
    "df_temp.loc[:, \"dates\"] > \"2010-1-1\""
   ]
  },
  {
   "cell_type": "markdown",
   "id": "fc5da2c9-fa99-42cf-b6fa-1fe11a060e7e",
   "metadata": {},
   "source": [
    "#### Indexado\n",
    "\n",
    "Podemos fijar las fechas como índices y luego indexar por rangos de estas"
   ]
  },
  {
   "cell_type": "code",
   "execution_count": 229,
   "id": "95312db5-bd24-4c25-a4ce-fdc6cf437863",
   "metadata": {},
   "outputs": [
    {
     "data": {
      "text/html": [
       "<div>\n",
       "<style scoped>\n",
       "    .dataframe tbody tr th:only-of-type {\n",
       "        vertical-align: middle;\n",
       "    }\n",
       "\n",
       "    .dataframe tbody tr th {\n",
       "        vertical-align: top;\n",
       "    }\n",
       "\n",
       "    .dataframe thead th {\n",
       "        text-align: right;\n",
       "    }\n",
       "</style>\n",
       "<table border=\"1\" class=\"dataframe\">\n",
       "  <thead>\n",
       "    <tr style=\"text-align: right;\">\n",
       "      <th></th>\n",
       "      <th>Temperature</th>\n",
       "      <th>Year</th>\n",
       "      <th>Month</th>\n",
       "      <th>Country</th>\n",
       "      <th>ISO3</th>\n",
       "    </tr>\n",
       "    <tr>\n",
       "      <th>dates</th>\n",
       "      <th></th>\n",
       "      <th></th>\n",
       "      <th></th>\n",
       "      <th></th>\n",
       "      <th></th>\n",
       "    </tr>\n",
       "  </thead>\n",
       "  <tbody>\n",
       "    <tr>\n",
       "      <th>1991-01-01</th>\n",
       "      <td>-0.03110</td>\n",
       "      <td>1991</td>\n",
       "      <td>Jan</td>\n",
       "      <td>Afghanistan</td>\n",
       "      <td>AFG</td>\n",
       "    </tr>\n",
       "    <tr>\n",
       "      <th>1991-02-01</th>\n",
       "      <td>1.43654</td>\n",
       "      <td>1991</td>\n",
       "      <td>Feb</td>\n",
       "      <td>Afghanistan</td>\n",
       "      <td>AFG</td>\n",
       "    </tr>\n",
       "    <tr>\n",
       "      <th>1991-03-01</th>\n",
       "      <td>6.88685</td>\n",
       "      <td>1991</td>\n",
       "      <td>Mar</td>\n",
       "      <td>Afghanistan</td>\n",
       "      <td>AFG</td>\n",
       "    </tr>\n",
       "    <tr>\n",
       "      <th>1991-04-01</th>\n",
       "      <td>12.93970</td>\n",
       "      <td>1991</td>\n",
       "      <td>Apr</td>\n",
       "      <td>Afghanistan</td>\n",
       "      <td>AFG</td>\n",
       "    </tr>\n",
       "    <tr>\n",
       "      <th>1991-05-01</th>\n",
       "      <td>17.07550</td>\n",
       "      <td>1991</td>\n",
       "      <td>May</td>\n",
       "      <td>Afghanistan</td>\n",
       "      <td>AFG</td>\n",
       "    </tr>\n",
       "    <tr>\n",
       "      <th>...</th>\n",
       "      <td>...</td>\n",
       "      <td>...</td>\n",
       "      <td>...</td>\n",
       "      <td>...</td>\n",
       "      <td>...</td>\n",
       "    </tr>\n",
       "    <tr>\n",
       "      <th>2016-08-01</th>\n",
       "      <td>26.09480</td>\n",
       "      <td>2016</td>\n",
       "      <td>Aug</td>\n",
       "      <td>Venezuela</td>\n",
       "      <td>VEN</td>\n",
       "    </tr>\n",
       "    <tr>\n",
       "      <th>2016-09-01</th>\n",
       "      <td>26.22090</td>\n",
       "      <td>2016</td>\n",
       "      <td>Sep</td>\n",
       "      <td>Venezuela</td>\n",
       "      <td>VEN</td>\n",
       "    </tr>\n",
       "    <tr>\n",
       "      <th>2016-10-01</th>\n",
       "      <td>26.62850</td>\n",
       "      <td>2016</td>\n",
       "      <td>Oct</td>\n",
       "      <td>Venezuela</td>\n",
       "      <td>VEN</td>\n",
       "    </tr>\n",
       "    <tr>\n",
       "      <th>2016-11-01</th>\n",
       "      <td>26.27680</td>\n",
       "      <td>2016</td>\n",
       "      <td>Nov</td>\n",
       "      <td>Venezuela</td>\n",
       "      <td>VEN</td>\n",
       "    </tr>\n",
       "    <tr>\n",
       "      <th>2016-12-01</th>\n",
       "      <td>26.12860</td>\n",
       "      <td>2016</td>\n",
       "      <td>Dec</td>\n",
       "      <td>Venezuela</td>\n",
       "      <td>VEN</td>\n",
       "    </tr>\n",
       "  </tbody>\n",
       "</table>\n",
       "<p>59904 rows × 5 columns</p>\n",
       "</div>"
      ],
      "text/plain": [
       "            Temperature  Year Month      Country ISO3\n",
       "dates                                                \n",
       "1991-01-01     -0.03110  1991   Jan  Afghanistan  AFG\n",
       "1991-02-01      1.43654  1991   Feb  Afghanistan  AFG\n",
       "1991-03-01      6.88685  1991   Mar  Afghanistan  AFG\n",
       "1991-04-01     12.93970  1991   Apr  Afghanistan  AFG\n",
       "1991-05-01     17.07550  1991   May  Afghanistan  AFG\n",
       "...                 ...   ...   ...          ...  ...\n",
       "2016-08-01     26.09480  2016   Aug    Venezuela  VEN\n",
       "2016-09-01     26.22090  2016   Sep    Venezuela  VEN\n",
       "2016-10-01     26.62850  2016   Oct    Venezuela  VEN\n",
       "2016-11-01     26.27680  2016   Nov    Venezuela  VEN\n",
       "2016-12-01     26.12860  2016   Dec    Venezuela  VEN\n",
       "\n",
       "[59904 rows x 5 columns]"
      ]
     },
     "execution_count": 229,
     "metadata": {},
     "output_type": "execute_result"
    }
   ],
   "source": [
    "temperaturas_por_fecha = df_temp.set_index(\"dates\")\n",
    "temperaturas_por_fecha"
   ]
  },
  {
   "cell_type": "code",
   "execution_count": 230,
   "id": "a14be1c4-bbe4-49a5-9d8a-887cdccb4d2b",
   "metadata": {},
   "outputs": [
    {
     "data": {
      "text/html": [
       "<div>\n",
       "<style scoped>\n",
       "    .dataframe tbody tr th:only-of-type {\n",
       "        vertical-align: middle;\n",
       "    }\n",
       "\n",
       "    .dataframe tbody tr th {\n",
       "        vertical-align: top;\n",
       "    }\n",
       "\n",
       "    .dataframe thead th {\n",
       "        text-align: right;\n",
       "    }\n",
       "</style>\n",
       "<table border=\"1\" class=\"dataframe\">\n",
       "  <thead>\n",
       "    <tr style=\"text-align: right;\">\n",
       "      <th></th>\n",
       "      <th>Temperature</th>\n",
       "      <th>Year</th>\n",
       "      <th>Month</th>\n",
       "      <th>Country</th>\n",
       "      <th>ISO3</th>\n",
       "    </tr>\n",
       "    <tr>\n",
       "      <th>dates</th>\n",
       "      <th></th>\n",
       "      <th></th>\n",
       "      <th></th>\n",
       "      <th></th>\n",
       "      <th></th>\n",
       "    </tr>\n",
       "  </thead>\n",
       "  <tbody>\n",
       "    <tr>\n",
       "      <th>1995-01-01</th>\n",
       "      <td>0.92358</td>\n",
       "      <td>1995</td>\n",
       "      <td>Jan</td>\n",
       "      <td>Afghanistan</td>\n",
       "      <td>AFG</td>\n",
       "    </tr>\n",
       "    <tr>\n",
       "      <th>1995-02-01</th>\n",
       "      <td>2.96133</td>\n",
       "      <td>1995</td>\n",
       "      <td>Feb</td>\n",
       "      <td>Afghanistan</td>\n",
       "      <td>AFG</td>\n",
       "    </tr>\n",
       "    <tr>\n",
       "      <th>1995-03-01</th>\n",
       "      <td>6.36893</td>\n",
       "      <td>1995</td>\n",
       "      <td>Mar</td>\n",
       "      <td>Afghanistan</td>\n",
       "      <td>AFG</td>\n",
       "    </tr>\n",
       "    <tr>\n",
       "      <th>1995-04-01</th>\n",
       "      <td>12.26760</td>\n",
       "      <td>1995</td>\n",
       "      <td>Apr</td>\n",
       "      <td>Afghanistan</td>\n",
       "      <td>AFG</td>\n",
       "    </tr>\n",
       "    <tr>\n",
       "      <th>1995-05-01</th>\n",
       "      <td>18.11870</td>\n",
       "      <td>1995</td>\n",
       "      <td>May</td>\n",
       "      <td>Afghanistan</td>\n",
       "      <td>AFG</td>\n",
       "    </tr>\n",
       "    <tr>\n",
       "      <th>...</th>\n",
       "      <td>...</td>\n",
       "      <td>...</td>\n",
       "      <td>...</td>\n",
       "      <td>...</td>\n",
       "      <td>...</td>\n",
       "    </tr>\n",
       "    <tr>\n",
       "      <th>1999-08-01</th>\n",
       "      <td>24.86170</td>\n",
       "      <td>1999</td>\n",
       "      <td>Aug</td>\n",
       "      <td>Venezuela</td>\n",
       "      <td>VEN</td>\n",
       "    </tr>\n",
       "    <tr>\n",
       "      <th>1999-09-01</th>\n",
       "      <td>25.33310</td>\n",
       "      <td>1999</td>\n",
       "      <td>Sep</td>\n",
       "      <td>Venezuela</td>\n",
       "      <td>VEN</td>\n",
       "    </tr>\n",
       "    <tr>\n",
       "      <th>1999-10-01</th>\n",
       "      <td>25.35280</td>\n",
       "      <td>1999</td>\n",
       "      <td>Oct</td>\n",
       "      <td>Venezuela</td>\n",
       "      <td>VEN</td>\n",
       "    </tr>\n",
       "    <tr>\n",
       "      <th>1999-11-01</th>\n",
       "      <td>25.94590</td>\n",
       "      <td>1999</td>\n",
       "      <td>Nov</td>\n",
       "      <td>Venezuela</td>\n",
       "      <td>VEN</td>\n",
       "    </tr>\n",
       "    <tr>\n",
       "      <th>1999-12-01</th>\n",
       "      <td>25.39510</td>\n",
       "      <td>1999</td>\n",
       "      <td>Dec</td>\n",
       "      <td>Venezuela</td>\n",
       "      <td>VEN</td>\n",
       "    </tr>\n",
       "  </tbody>\n",
       "</table>\n",
       "<p>11520 rows × 5 columns</p>\n",
       "</div>"
      ],
      "text/plain": [
       "            Temperature  Year Month      Country ISO3\n",
       "dates                                                \n",
       "1995-01-01      0.92358  1995   Jan  Afghanistan  AFG\n",
       "1995-02-01      2.96133  1995   Feb  Afghanistan  AFG\n",
       "1995-03-01      6.36893  1995   Mar  Afghanistan  AFG\n",
       "1995-04-01     12.26760  1995   Apr  Afghanistan  AFG\n",
       "1995-05-01     18.11870  1995   May  Afghanistan  AFG\n",
       "...                 ...   ...   ...          ...  ...\n",
       "1999-08-01     24.86170  1999   Aug    Venezuela  VEN\n",
       "1999-09-01     25.33310  1999   Sep    Venezuela  VEN\n",
       "1999-10-01     25.35280  1999   Oct    Venezuela  VEN\n",
       "1999-11-01     25.94590  1999   Nov    Venezuela  VEN\n",
       "1999-12-01     25.39510  1999   Dec    Venezuela  VEN\n",
       "\n",
       "[11520 rows x 5 columns]"
      ]
     },
     "execution_count": 230,
     "metadata": {},
     "output_type": "execute_result"
    }
   ],
   "source": [
    "# Rango 1995-1-1 al 199-12-1\n",
    "temperaturas_por_fecha.loc[\"1995-1-1\":\"1999-12-1\"]"
   ]
  },
  {
   "cell_type": "code",
   "execution_count": 231,
   "id": "f4f6a342-10af-4e3c-ae59-ebe427b3ed5a",
   "metadata": {},
   "outputs": [
    {
     "data": {
      "text/html": [
       "<div>\n",
       "<style scoped>\n",
       "    .dataframe tbody tr th:only-of-type {\n",
       "        vertical-align: middle;\n",
       "    }\n",
       "\n",
       "    .dataframe tbody tr th {\n",
       "        vertical-align: top;\n",
       "    }\n",
       "\n",
       "    .dataframe thead th {\n",
       "        text-align: right;\n",
       "    }\n",
       "</style>\n",
       "<table border=\"1\" class=\"dataframe\">\n",
       "  <thead>\n",
       "    <tr style=\"text-align: right;\">\n",
       "      <th></th>\n",
       "      <th>Temperature</th>\n",
       "      <th>Year</th>\n",
       "      <th>Month</th>\n",
       "      <th>Country</th>\n",
       "      <th>ISO3</th>\n",
       "    </tr>\n",
       "    <tr>\n",
       "      <th>dates</th>\n",
       "      <th></th>\n",
       "      <th></th>\n",
       "      <th></th>\n",
       "      <th></th>\n",
       "      <th></th>\n",
       "    </tr>\n",
       "  </thead>\n",
       "  <tbody>\n",
       "    <tr>\n",
       "      <th>1999-11-01</th>\n",
       "      <td>8.22556</td>\n",
       "      <td>1999</td>\n",
       "      <td>Nov</td>\n",
       "      <td>Afghanistan</td>\n",
       "      <td>AFG</td>\n",
       "    </tr>\n",
       "    <tr>\n",
       "      <th>1999-12-01</th>\n",
       "      <td>3.80288</td>\n",
       "      <td>1999</td>\n",
       "      <td>Dec</td>\n",
       "      <td>Afghanistan</td>\n",
       "      <td>AFG</td>\n",
       "    </tr>\n",
       "    <tr>\n",
       "      <th>1999-11-01</th>\n",
       "      <td>7.79985</td>\n",
       "      <td>1999</td>\n",
       "      <td>Nov</td>\n",
       "      <td>Albania</td>\n",
       "      <td>ALB</td>\n",
       "    </tr>\n",
       "    <tr>\n",
       "      <th>1999-12-01</th>\n",
       "      <td>4.74799</td>\n",
       "      <td>1999</td>\n",
       "      <td>Dec</td>\n",
       "      <td>Albania</td>\n",
       "      <td>ALB</td>\n",
       "    </tr>\n",
       "    <tr>\n",
       "      <th>1999-11-01</th>\n",
       "      <td>17.59640</td>\n",
       "      <td>1999</td>\n",
       "      <td>Nov</td>\n",
       "      <td>Algeria</td>\n",
       "      <td>DZA</td>\n",
       "    </tr>\n",
       "    <tr>\n",
       "      <th>...</th>\n",
       "      <td>...</td>\n",
       "      <td>...</td>\n",
       "      <td>...</td>\n",
       "      <td>...</td>\n",
       "      <td>...</td>\n",
       "    </tr>\n",
       "    <tr>\n",
       "      <th>1999-12-01</th>\n",
       "      <td>2.38418</td>\n",
       "      <td>1999</td>\n",
       "      <td>Dec</td>\n",
       "      <td>Uzbekistan</td>\n",
       "      <td>UZB</td>\n",
       "    </tr>\n",
       "    <tr>\n",
       "      <th>1999-11-01</th>\n",
       "      <td>24.71980</td>\n",
       "      <td>1999</td>\n",
       "      <td>Nov</td>\n",
       "      <td>Vanuatu</td>\n",
       "      <td>VUT</td>\n",
       "    </tr>\n",
       "    <tr>\n",
       "      <th>1999-12-01</th>\n",
       "      <td>24.55080</td>\n",
       "      <td>1999</td>\n",
       "      <td>Dec</td>\n",
       "      <td>Vanuatu</td>\n",
       "      <td>VUT</td>\n",
       "    </tr>\n",
       "    <tr>\n",
       "      <th>1999-11-01</th>\n",
       "      <td>25.94590</td>\n",
       "      <td>1999</td>\n",
       "      <td>Nov</td>\n",
       "      <td>Venezuela</td>\n",
       "      <td>VEN</td>\n",
       "    </tr>\n",
       "    <tr>\n",
       "      <th>1999-12-01</th>\n",
       "      <td>25.39510</td>\n",
       "      <td>1999</td>\n",
       "      <td>Dec</td>\n",
       "      <td>Venezuela</td>\n",
       "      <td>VEN</td>\n",
       "    </tr>\n",
       "  </tbody>\n",
       "</table>\n",
       "<p>384 rows × 5 columns</p>\n",
       "</div>"
      ],
      "text/plain": [
       "            Temperature  Year Month      Country ISO3\n",
       "dates                                                \n",
       "1999-11-01      8.22556  1999   Nov  Afghanistan  AFG\n",
       "1999-12-01      3.80288  1999   Dec  Afghanistan  AFG\n",
       "1999-11-01      7.79985  1999   Nov      Albania  ALB\n",
       "1999-12-01      4.74799  1999   Dec      Albania  ALB\n",
       "1999-11-01     17.59640  1999   Nov      Algeria  DZA\n",
       "...                 ...   ...   ...          ...  ...\n",
       "1999-12-01      2.38418  1999   Dec   Uzbekistan  UZB\n",
       "1999-11-01     24.71980  1999   Nov      Vanuatu  VUT\n",
       "1999-12-01     24.55080  1999   Dec      Vanuatu  VUT\n",
       "1999-11-01     25.94590  1999   Nov    Venezuela  VEN\n",
       "1999-12-01     25.39510  1999   Dec    Venezuela  VEN\n",
       "\n",
       "[384 rows x 5 columns]"
      ]
     },
     "execution_count": 231,
     "metadata": {},
     "output_type": "execute_result"
    }
   ],
   "source": [
    "temperaturas_por_fecha.loc[\"1999-11-1\":\"1999-12-1\"]"
   ]
  },
  {
   "cell_type": "markdown",
   "id": "f139ee83-542a-4365-953d-be87f3dac7bc",
   "metadata": {},
   "source": [
    "#### Timedeltas\n",
    "\n",
    "`pd.Timedelta` permite utilizar una interfaz similar a los `datetime.timedelta` para ejecutar cálculos sobre las fechas:\n",
    "\n",
    "`weeks, days, hours, minutes, seconds, milliseconds, microseconds, nanoseconds`"
   ]
  },
  {
   "cell_type": "code",
   "execution_count": 234,
   "id": "95e64e61-8231-4c47-8aba-26438b357c23",
   "metadata": {},
   "outputs": [
    {
     "data": {
      "text/plain": [
       "Timedelta('14 days 00:00:00')"
      ]
     },
     "execution_count": 234,
     "metadata": {},
     "output_type": "execute_result"
    }
   ],
   "source": [
    "ptd1 = pd.Timedelta(weeks=2)\n",
    "ptd1"
   ]
  },
  {
   "cell_type": "code",
   "execution_count": 241,
   "id": "b091c615-7b79-4ff7-a760-17781a0caa8c",
   "metadata": {},
   "outputs": [
    {
     "data": {
      "text/plain": [
       "0       1991-01-15\n",
       "1       1991-02-15\n",
       "2       1991-03-15\n",
       "3       1991-04-15\n",
       "4       1991-05-15\n",
       "           ...    \n",
       "59899   2016-08-15\n",
       "59900   2016-09-15\n",
       "59901   2016-10-15\n",
       "59902   2016-11-15\n",
       "59903   2016-12-15\n",
       "Name: dates, Length: 59904, dtype: datetime64[ns]"
      ]
     },
     "execution_count": 241,
     "metadata": {},
     "output_type": "execute_result"
    }
   ],
   "source": [
    "df_temp.loc[:, \"dates\"] + ptd1"
   ]
  },
  {
   "cell_type": "markdown",
   "id": "0ea1fc60-a13e-4e09-8314-17b0db2ba02b",
   "metadata": {},
   "source": [
    "Y podemos también hacer Broadcasting con `datetime.timedeltas`"
   ]
  },
  {
   "cell_type": "code",
   "execution_count": 242,
   "id": "ab2cbd9d-244a-4f0a-8673-408849f608f2",
   "metadata": {},
   "outputs": [
    {
     "data": {
      "text/plain": [
       "0       1990-12-31\n",
       "1       1991-01-31\n",
       "2       1991-02-28\n",
       "3       1991-03-31\n",
       "4       1991-04-30\n",
       "           ...    \n",
       "59899   2016-07-31\n",
       "59900   2016-08-31\n",
       "59901   2016-09-30\n",
       "59902   2016-10-31\n",
       "59903   2016-11-30\n",
       "Name: dates, Length: 59904, dtype: datetime64[ns]"
      ]
     },
     "execution_count": 242,
     "metadata": {},
     "output_type": "execute_result"
    }
   ],
   "source": [
    "df_temp.loc[:, \"dates\"] + datetime.timedelta(days=-1)"
   ]
  },
  {
   "cell_type": "markdown",
   "id": "9ea3da68-6c55-4973-a25f-94bbc0c6e3df",
   "metadata": {},
   "source": [
    "---\n",
    "\n",
    "## 3.- Datos Categóricos"
   ]
  },
  {
   "cell_type": "markdown",
   "id": "14514485-cf95-49fb-84ea-7874f93dc36b",
   "metadata": {},
   "source": [
    "Una variable categórica es un tipo de dato que puede tomar un número limitado (y usualmente fijo) de posibles valores.\n",
    "Ejemplos de esto: Género, clase social, tipo de sangre, etc...\n",
    "\n",
    "En general, guardar los datos como categóricos es mucho más eficiente que guardarlos como string. Según la referencia de pandas:\n",
    "\n",
    "> The memory usage of a Categorical is proportional to the number of categories plus the length of the data. In contrast, an object dtype is a constant times the length of the data.\n",
    "\n",
    "Como ejemplo, usaremos los continentes a los que pertenece cada país:"
   ]
  },
  {
   "cell_type": "code",
   "execution_count": 206,
   "id": "0e7a888e-bdd9-4ea9-9b33-41145cd2e814",
   "metadata": {},
   "outputs": [
    {
     "data": {
      "text/html": [
       "<div>\n",
       "<style scoped>\n",
       "    .dataframe tbody tr th:only-of-type {\n",
       "        vertical-align: middle;\n",
       "    }\n",
       "\n",
       "    .dataframe tbody tr th {\n",
       "        vertical-align: top;\n",
       "    }\n",
       "\n",
       "    .dataframe thead th {\n",
       "        text-align: right;\n",
       "    }\n",
       "</style>\n",
       "<table border=\"1\" class=\"dataframe\">\n",
       "  <thead>\n",
       "    <tr style=\"text-align: right;\">\n",
       "      <th></th>\n",
       "      <th>Continent_Name</th>\n",
       "      <th>Country_Name</th>\n",
       "    </tr>\n",
       "  </thead>\n",
       "  <tbody>\n",
       "    <tr>\n",
       "      <th>0</th>\n",
       "      <td>Asia</td>\n",
       "      <td>Afghanistan, Islamic Republic of</td>\n",
       "    </tr>\n",
       "    <tr>\n",
       "      <th>1</th>\n",
       "      <td>Europe</td>\n",
       "      <td>Albania</td>\n",
       "    </tr>\n",
       "    <tr>\n",
       "      <th>2</th>\n",
       "      <td>Antarctica</td>\n",
       "      <td>Antarctica (the territory South of 60 deg S)</td>\n",
       "    </tr>\n",
       "    <tr>\n",
       "      <th>3</th>\n",
       "      <td>Africa</td>\n",
       "      <td>Algeria, People's Democratic Republic of</td>\n",
       "    </tr>\n",
       "    <tr>\n",
       "      <th>4</th>\n",
       "      <td>Oceania</td>\n",
       "      <td>American Samoa</td>\n",
       "    </tr>\n",
       "    <tr>\n",
       "      <th>...</th>\n",
       "      <td>...</td>\n",
       "      <td>...</td>\n",
       "    </tr>\n",
       "    <tr>\n",
       "      <th>257</th>\n",
       "      <td>Africa</td>\n",
       "      <td>Zambia</td>\n",
       "    </tr>\n",
       "    <tr>\n",
       "      <th>258</th>\n",
       "      <td>Oceania</td>\n",
       "      <td>Disputed Territory</td>\n",
       "    </tr>\n",
       "    <tr>\n",
       "      <th>259</th>\n",
       "      <td>Asia</td>\n",
       "      <td>Iraq-Saudi Arabia Neutral Zone</td>\n",
       "    </tr>\n",
       "    <tr>\n",
       "      <th>260</th>\n",
       "      <td>Asia</td>\n",
       "      <td>United Nations Neutral Zone</td>\n",
       "    </tr>\n",
       "    <tr>\n",
       "      <th>261</th>\n",
       "      <td>Asia</td>\n",
       "      <td>Spratly Islands</td>\n",
       "    </tr>\n",
       "  </tbody>\n",
       "</table>\n",
       "<p>262 rows × 2 columns</p>\n",
       "</div>"
      ],
      "text/plain": [
       "    Continent_Name                                  Country_Name\n",
       "0             Asia              Afghanistan, Islamic Republic of\n",
       "1           Europe                                       Albania\n",
       "2       Antarctica  Antarctica (the territory South of 60 deg S)\n",
       "3           Africa      Algeria, People's Democratic Republic of\n",
       "4          Oceania                                American Samoa\n",
       "..             ...                                           ...\n",
       "257         Africa                                        Zambia\n",
       "258        Oceania                            Disputed Territory\n",
       "259           Asia                Iraq-Saudi Arabia Neutral Zone\n",
       "260           Asia                   United Nations Neutral Zone\n",
       "261           Asia                               Spratly Islands\n",
       "\n",
       "[262 rows x 2 columns]"
      ]
     },
     "execution_count": 206,
     "metadata": {},
     "output_type": "execute_result"
    }
   ],
   "source": [
    "countries = pd.read_csv(\n",
    "    \"https://raw.githubusercontent.com/MDS7202/MDS7202/main/recursos/2023-01/11-Pandas4/country-and-continent.csv\"\n",
    ")\n",
    "countries = countries.loc[:, [\"Continent_Name\", \"Country_Name\"]]\n",
    "countries"
   ]
  },
  {
   "cell_type": "markdown",
   "id": "778fa0ee-5033-46e4-8721-748e4d834b80",
   "metadata": {},
   "source": [
    "Declaramos una variable como categórica transformando la serie a `category` con `.astype(\"category\")`:"
   ]
  },
  {
   "cell_type": "code",
   "execution_count": 160,
   "id": "7c6f97cb-8698-4ed6-911e-d03739e4d223",
   "metadata": {},
   "outputs": [
    {
     "data": {
      "text/plain": [
       "0            Asia\n",
       "1          Europe\n",
       "2      Antarctica\n",
       "3          Africa\n",
       "4         Oceania\n",
       "          ...    \n",
       "257        Africa\n",
       "258       Oceania\n",
       "259          Asia\n",
       "260          Asia\n",
       "261          Asia\n",
       "Name: Continent_Name, Length: 262, dtype: object"
      ]
     },
     "execution_count": 160,
     "metadata": {},
     "output_type": "execute_result"
    }
   ],
   "source": [
    "countries[\"Continent_Name\"]"
   ]
  },
  {
   "cell_type": "code",
   "execution_count": 161,
   "id": "b8aa4e03-4332-4fe9-9a9e-7a79857e87a1",
   "metadata": {},
   "outputs": [
    {
     "data": {
      "text/plain": [
       "0            Asia\n",
       "1          Europe\n",
       "2      Antarctica\n",
       "3          Africa\n",
       "4         Oceania\n",
       "          ...    \n",
       "257        Africa\n",
       "258       Oceania\n",
       "259          Asia\n",
       "260          Asia\n",
       "261          Asia\n",
       "Name: Continent_Name, Length: 262, dtype: category\n",
       "Categories (7, object): ['Africa', 'Antarctica', 'Asia', 'Europe', 'North America', 'Oceania', 'South America']"
      ]
     },
     "execution_count": 161,
     "metadata": {},
     "output_type": "execute_result"
    }
   ],
   "source": [
    "countries[\"Continent_Name\"] = countries.loc[:, \"Continent_Name\"].astype(\"category\")\n",
    "countries[\"Continent_Name\"]"
   ]
  },
  {
   "cell_type": "markdown",
   "id": "dbca7c40-ea62-4286-a7d2-229f91cea9ba",
   "metadata": {},
   "source": [
    "Podemos acceder a las categorías con:"
   ]
  },
  {
   "cell_type": "code",
   "execution_count": 162,
   "id": "fbe387a6-da16-435c-a9e1-89ebf7e1e5d8",
   "metadata": {},
   "outputs": [
    {
     "data": {
      "text/plain": [
       "Index(['Africa', 'Antarctica', 'Asia', 'Europe', 'North America', 'Oceania',\n",
       "       'South America'],\n",
       "      dtype='object')"
      ]
     },
     "execution_count": 162,
     "metadata": {},
     "output_type": "execute_result"
    }
   ],
   "source": [
    "countries[\"Continent_Name\"].cat.categories"
   ]
  },
  {
   "cell_type": "markdown",
   "id": "03168590-ad3b-45bf-a057-0e073862c497",
   "metadata": {},
   "source": [
    "### Operaciones con categorías"
   ]
  },
  {
   "cell_type": "markdown",
   "id": "2cef2aeb-250d-447f-b859-ce6ce346c434",
   "metadata": {},
   "source": [
    "Podemos renombrar categorías usando el método `rename_categories`:"
   ]
  },
  {
   "cell_type": "code",
   "execution_count": 163,
   "id": "2449b616-49fb-4891-9da3-4c63af301637",
   "metadata": {},
   "outputs": [
    {
     "data": {
      "text/plain": [
       "0            Asia\n",
       "1          Europa\n",
       "2      Antarctica\n",
       "3          Africa\n",
       "4         Oceania\n",
       "          ...    \n",
       "257        Africa\n",
       "258       Oceania\n",
       "259          Asia\n",
       "260          Asia\n",
       "261          Asia\n",
       "Name: Continent_Name, Length: 262, dtype: category\n",
       "Categories (7, object): ['Africa', 'Antarctica', 'Asia', 'Europa', 'América del Norte', 'Oceania', 'América del Sur']"
      ]
     },
     "execution_count": 163,
     "metadata": {},
     "output_type": "execute_result"
    }
   ],
   "source": [
    "# renombrar en español\n",
    "countries[\"Continent_Name\"] = countries[\"Continent_Name\"].cat.rename_categories(\n",
    "    [\n",
    "        \"Africa\",\n",
    "        \"Antarctica\",\n",
    "        \"Asia\",\n",
    "        \"Europa\",\n",
    "        \"América del Norte\",\n",
    "        \"Oceania\",\n",
    "        \"América del Sur\",\n",
    "    ]\n",
    ")\n",
    "\n",
    "countries[\"Continent_Name\"]"
   ]
  },
  {
   "cell_type": "code",
   "execution_count": 164,
   "id": "af1898f3-9e72-4e29-a277-806ad00cff2a",
   "metadata": {
    "scrolled": true
   },
   "outputs": [
    {
     "data": {
      "text/html": [
       "<div>\n",
       "<style scoped>\n",
       "    .dataframe tbody tr th:only-of-type {\n",
       "        vertical-align: middle;\n",
       "    }\n",
       "\n",
       "    .dataframe tbody tr th {\n",
       "        vertical-align: top;\n",
       "    }\n",
       "\n",
       "    .dataframe thead th {\n",
       "        text-align: right;\n",
       "    }\n",
       "</style>\n",
       "<table border=\"1\" class=\"dataframe\">\n",
       "  <thead>\n",
       "    <tr style=\"text-align: right;\">\n",
       "      <th></th>\n",
       "      <th>Continent_Name</th>\n",
       "      <th>Country_Name</th>\n",
       "    </tr>\n",
       "  </thead>\n",
       "  <tbody>\n",
       "    <tr>\n",
       "      <th>240</th>\n",
       "      <td>Europa</td>\n",
       "      <td>Ukraine</td>\n",
       "    </tr>\n",
       "    <tr>\n",
       "      <th>30</th>\n",
       "      <td>América del Norte</td>\n",
       "      <td>British Virgin Islands</td>\n",
       "    </tr>\n",
       "    <tr>\n",
       "      <th>131</th>\n",
       "      <td>Europa</td>\n",
       "      <td>Lithuania</td>\n",
       "    </tr>\n",
       "    <tr>\n",
       "      <th>73</th>\n",
       "      <td>Antarctica</td>\n",
       "      <td>South Georgia and the South Sandwich Islands</td>\n",
       "    </tr>\n",
       "    <tr>\n",
       "      <th>41</th>\n",
       "      <td>Africa</td>\n",
       "      <td>Central African Republic</td>\n",
       "    </tr>\n",
       "    <tr>\n",
       "      <th>242</th>\n",
       "      <td>Africa</td>\n",
       "      <td>Egypt, Arab Republic of</td>\n",
       "    </tr>\n",
       "    <tr>\n",
       "      <th>94</th>\n",
       "      <td>América del Norte</td>\n",
       "      <td>Guadeloupe</td>\n",
       "    </tr>\n",
       "    <tr>\n",
       "      <th>233</th>\n",
       "      <td>Africa</td>\n",
       "      <td>Tunisia, Tunisian Republic</td>\n",
       "    </tr>\n",
       "    <tr>\n",
       "      <th>210</th>\n",
       "      <td>Europa</td>\n",
       "      <td>Slovak Republic</td>\n",
       "    </tr>\n",
       "    <tr>\n",
       "      <th>174</th>\n",
       "      <td>Oceania</td>\n",
       "      <td>Marshall Islands the</td>\n",
       "    </tr>\n",
       "  </tbody>\n",
       "</table>\n",
       "</div>"
      ],
      "text/plain": [
       "        Continent_Name                                  Country_Name\n",
       "240             Europa                                       Ukraine\n",
       "30   América del Norte                        British Virgin Islands\n",
       "131             Europa                                     Lithuania\n",
       "73          Antarctica  South Georgia and the South Sandwich Islands\n",
       "41              Africa                      Central African Republic\n",
       "242             Africa                       Egypt, Arab Republic of\n",
       "94   América del Norte                                    Guadeloupe\n",
       "233             Africa                    Tunisia, Tunisian Republic\n",
       "210             Europa                               Slovak Republic\n",
       "174            Oceania                          Marshall Islands the"
      ]
     },
     "execution_count": 164,
     "metadata": {},
     "output_type": "execute_result"
    }
   ],
   "source": [
    "countries.sample(10)"
   ]
  },
  {
   "cell_type": "markdown",
   "id": "4e85e2b7-4605-4c34-a880-39c96fc28f64",
   "metadata": {},
   "source": [
    "`rename_categories` también acepta diccionarios como entrada. La idea es que el diccionario vincule los nombres antiguos con los nuevos:"
   ]
  },
  {
   "cell_type": "code",
   "execution_count": 165,
   "id": "4cfa769c-10c8-47ab-b502-1f3e3a76c01d",
   "metadata": {},
   "outputs": [],
   "source": [
    "countries[\"Continent_Name\"] = countries[\"Continent_Name\"].cat.rename_categories(\n",
    "    {\n",
    "        \"Europe\": \"Europa\",\n",
    "    }\n",
    ")"
   ]
  },
  {
   "cell_type": "code",
   "execution_count": 166,
   "id": "5a7a033d-c69d-4e38-b189-a16940a7fe0f",
   "metadata": {},
   "outputs": [
    {
     "data": {
      "text/html": [
       "<div>\n",
       "<style scoped>\n",
       "    .dataframe tbody tr th:only-of-type {\n",
       "        vertical-align: middle;\n",
       "    }\n",
       "\n",
       "    .dataframe tbody tr th {\n",
       "        vertical-align: top;\n",
       "    }\n",
       "\n",
       "    .dataframe thead th {\n",
       "        text-align: right;\n",
       "    }\n",
       "</style>\n",
       "<table border=\"1\" class=\"dataframe\">\n",
       "  <thead>\n",
       "    <tr style=\"text-align: right;\">\n",
       "      <th></th>\n",
       "      <th>Continent_Name</th>\n",
       "      <th>Country_Name</th>\n",
       "    </tr>\n",
       "  </thead>\n",
       "  <tbody>\n",
       "    <tr>\n",
       "      <th>0</th>\n",
       "      <td>Asia</td>\n",
       "      <td>Afghanistan, Islamic Republic of</td>\n",
       "    </tr>\n",
       "    <tr>\n",
       "      <th>1</th>\n",
       "      <td>Europa</td>\n",
       "      <td>Albania</td>\n",
       "    </tr>\n",
       "    <tr>\n",
       "      <th>2</th>\n",
       "      <td>Antarctica</td>\n",
       "      <td>Antarctica (the territory South of 60 deg S)</td>\n",
       "    </tr>\n",
       "    <tr>\n",
       "      <th>3</th>\n",
       "      <td>Africa</td>\n",
       "      <td>Algeria, People's Democratic Republic of</td>\n",
       "    </tr>\n",
       "    <tr>\n",
       "      <th>4</th>\n",
       "      <td>Oceania</td>\n",
       "      <td>American Samoa</td>\n",
       "    </tr>\n",
       "    <tr>\n",
       "      <th>...</th>\n",
       "      <td>...</td>\n",
       "      <td>...</td>\n",
       "    </tr>\n",
       "    <tr>\n",
       "      <th>257</th>\n",
       "      <td>Africa</td>\n",
       "      <td>Zambia</td>\n",
       "    </tr>\n",
       "    <tr>\n",
       "      <th>258</th>\n",
       "      <td>Oceania</td>\n",
       "      <td>Disputed Territory</td>\n",
       "    </tr>\n",
       "    <tr>\n",
       "      <th>259</th>\n",
       "      <td>Asia</td>\n",
       "      <td>Iraq-Saudi Arabia Neutral Zone</td>\n",
       "    </tr>\n",
       "    <tr>\n",
       "      <th>260</th>\n",
       "      <td>Asia</td>\n",
       "      <td>United Nations Neutral Zone</td>\n",
       "    </tr>\n",
       "    <tr>\n",
       "      <th>261</th>\n",
       "      <td>Asia</td>\n",
       "      <td>Spratly Islands</td>\n",
       "    </tr>\n",
       "  </tbody>\n",
       "</table>\n",
       "<p>262 rows × 2 columns</p>\n",
       "</div>"
      ],
      "text/plain": [
       "    Continent_Name                                  Country_Name\n",
       "0             Asia              Afghanistan, Islamic Republic of\n",
       "1           Europa                                       Albania\n",
       "2       Antarctica  Antarctica (the territory South of 60 deg S)\n",
       "3           Africa      Algeria, People's Democratic Republic of\n",
       "4          Oceania                                American Samoa\n",
       "..             ...                                           ...\n",
       "257         Africa                                        Zambia\n",
       "258        Oceania                            Disputed Territory\n",
       "259           Asia                Iraq-Saudi Arabia Neutral Zone\n",
       "260           Asia                   United Nations Neutral Zone\n",
       "261           Asia                               Spratly Islands\n",
       "\n",
       "[262 rows x 2 columns]"
      ]
     },
     "execution_count": 166,
     "metadata": {},
     "output_type": "execute_result"
    }
   ],
   "source": [
    "countries"
   ]
  },
  {
   "cell_type": "markdown",
   "id": "e142c34a-7ba0-417a-94f4-76c97e9c49fa",
   "metadata": {},
   "source": [
    "Se pueden agregar categorías"
   ]
  },
  {
   "cell_type": "code",
   "execution_count": 167,
   "id": "1d6406ce-5478-4566-834e-c0b0df18cce2",
   "metadata": {},
   "outputs": [
    {
     "data": {
      "text/plain": [
       "0            Asia\n",
       "1          Europa\n",
       "2      Antarctica\n",
       "3          Africa\n",
       "4         Oceania\n",
       "          ...    \n",
       "257        Africa\n",
       "258       Oceania\n",
       "259          Asia\n",
       "260          Asia\n",
       "261          Asia\n",
       "Name: Continent_Name, Length: 262, dtype: category\n",
       "Categories (8, object): ['Africa', 'Antarctica', 'Asia', 'Europa', 'América del Norte', 'Oceania', 'América del Sur', 'Atlantida']"
      ]
     },
     "execution_count": 167,
     "metadata": {},
     "output_type": "execute_result"
    }
   ],
   "source": [
    "countries[\"Continent_Name\"].cat.add_categories([\"Atlantida\"])"
   ]
  },
  {
   "cell_type": "markdown",
   "id": "61279199-76d7-42ed-9c91-f47289e79ac5",
   "metadata": {},
   "source": [
    "Como también eliminar las no usadas:"
   ]
  },
  {
   "cell_type": "code",
   "execution_count": 168,
   "id": "aeb25bd4-6a02-407d-ba1e-5f5b9f750732",
   "metadata": {},
   "outputs": [
    {
     "data": {
      "text/plain": [
       "0            Asia\n",
       "1          Europa\n",
       "2      Antarctica\n",
       "3          Africa\n",
       "4         Oceania\n",
       "          ...    \n",
       "257        Africa\n",
       "258       Oceania\n",
       "259          Asia\n",
       "260          Asia\n",
       "261          Asia\n",
       "Name: Continent_Name, Length: 262, dtype: category\n",
       "Categories (7, object): ['Africa', 'Antarctica', 'Asia', 'Europa', 'América del Norte', 'Oceania', 'América del Sur']"
      ]
     },
     "execution_count": 168,
     "metadata": {},
     "output_type": "execute_result"
    }
   ],
   "source": [
    "# Remover las no usadas\n",
    "countries[\"Continent_Name\"].cat.remove_unused_categories()"
   ]
  },
  {
   "cell_type": "markdown",
   "id": "77d6c042-8649-4222-8093-a6b7c67a44ca",
   "metadata": {},
   "source": [
    "O incluso, eliminar una categoría completa. Noten que esto transforma valores de esa categoría a `NaN`."
   ]
  },
  {
   "cell_type": "code",
   "execution_count": 169,
   "id": "c9b45926-35cd-433c-bbf9-700c0be64839",
   "metadata": {},
   "outputs": [
    {
     "data": {
      "text/plain": [
       "0            Asia\n",
       "1             NaN\n",
       "2      Antarctica\n",
       "3          Africa\n",
       "4         Oceania\n",
       "          ...    \n",
       "257        Africa\n",
       "258       Oceania\n",
       "259          Asia\n",
       "260          Asia\n",
       "261          Asia\n",
       "Name: Continent_Name, Length: 262, dtype: category\n",
       "Categories (6, object): ['Africa', 'Antarctica', 'Asia', 'América del Norte', 'Oceania', 'América del Sur']"
      ]
     },
     "execution_count": 169,
     "metadata": {},
     "output_type": "execute_result"
    }
   ],
   "source": [
    "# Como también remover una categoría completa.\n",
    "countries[\"Continent_Name\"].cat.remove_categories([\"Europa\"])"
   ]
  },
  {
   "cell_type": "markdown",
   "id": "56a8e56a-8ad9-42c9-a3d6-89d72a551569",
   "metadata": {},
   "source": [
    "### Nota sobre memoria\n",
    "\n",
    "Como habíamos dicho, es mucho más eficiente guardar variables categóricas que strings.\n",
    "Podemos ver esto en el siguiente ejemplo:\n",
    "\n",
    "#### Usando Strings"
   ]
  },
  {
   "cell_type": "code",
   "execution_count": 173,
   "id": "7dacbe58-e4be-4342-9afe-d45aa3542b3c",
   "metadata": {},
   "outputs": [
    {
     "data": {
      "text/html": [
       "<div>\n",
       "<style scoped>\n",
       "    .dataframe tbody tr th:only-of-type {\n",
       "        vertical-align: middle;\n",
       "    }\n",
       "\n",
       "    .dataframe tbody tr th {\n",
       "        vertical-align: top;\n",
       "    }\n",
       "\n",
       "    .dataframe thead th {\n",
       "        text-align: right;\n",
       "    }\n",
       "</style>\n",
       "<table border=\"1\" class=\"dataframe\">\n",
       "  <thead>\n",
       "    <tr style=\"text-align: right;\">\n",
       "      <th></th>\n",
       "      <th>var</th>\n",
       "    </tr>\n",
       "  </thead>\n",
       "  <tbody>\n",
       "    <tr>\n",
       "      <th>0</th>\n",
       "      <td>A</td>\n",
       "    </tr>\n",
       "    <tr>\n",
       "      <th>1</th>\n",
       "      <td>B</td>\n",
       "    </tr>\n",
       "    <tr>\n",
       "      <th>2</th>\n",
       "      <td>C</td>\n",
       "    </tr>\n",
       "    <tr>\n",
       "      <th>3</th>\n",
       "      <td>D</td>\n",
       "    </tr>\n",
       "    <tr>\n",
       "      <th>4</th>\n",
       "      <td>E</td>\n",
       "    </tr>\n",
       "    <tr>\n",
       "      <th>...</th>\n",
       "      <td>...</td>\n",
       "    </tr>\n",
       "    <tr>\n",
       "      <th>99999995</th>\n",
       "      <td>F</td>\n",
       "    </tr>\n",
       "    <tr>\n",
       "      <th>99999996</th>\n",
       "      <td>G</td>\n",
       "    </tr>\n",
       "    <tr>\n",
       "      <th>99999997</th>\n",
       "      <td>H</td>\n",
       "    </tr>\n",
       "    <tr>\n",
       "      <th>99999998</th>\n",
       "      <td>I</td>\n",
       "    </tr>\n",
       "    <tr>\n",
       "      <th>99999999</th>\n",
       "      <td>J</td>\n",
       "    </tr>\n",
       "  </tbody>\n",
       "</table>\n",
       "<p>100000000 rows × 1 columns</p>\n",
       "</div>"
      ],
      "text/plain": [
       "         var\n",
       "0          A\n",
       "1          B\n",
       "2          C\n",
       "3          D\n",
       "4          E\n",
       "...       ..\n",
       "99999995   F\n",
       "99999996   G\n",
       "99999997   H\n",
       "99999998   I\n",
       "99999999   J\n",
       "\n",
       "[100000000 rows x 1 columns]"
      ]
     },
     "execution_count": 173,
     "metadata": {},
     "output_type": "execute_result"
    }
   ],
   "source": [
    "# cuidado con este experimento, ocupa mucha memoria!\n",
    "df_pesado = pd.DataFrame(\n",
    "    [\"A\", \"B\", \"C\", \"D\", \"E\", \"F\", \"G\", \"H\", \"I\", \"J\"] * 10000000, columns=[\"var\"]\n",
    ")\n",
    "df_pesado"
   ]
  },
  {
   "cell_type": "code",
   "execution_count": 174,
   "id": "e40ed6f7-0692-4443-894a-a79690cb6c08",
   "metadata": {},
   "outputs": [
    {
     "ename": "AttributeError",
     "evalue": "Can only use .cat accessor with a 'category' dtype",
     "output_type": "error",
     "traceback": [
      "\u001b[0;31m---------------------------------------------------------------------------\u001b[0m",
      "\u001b[0;31mAttributeError\u001b[0m                            Traceback (most recent call last)",
      "Cell \u001b[0;32mIn[174], line 2\u001b[0m\n\u001b[1;32m      1\u001b[0m \u001b[38;5;66;03m# strings no tienen .cat\u001b[39;00m\n\u001b[0;32m----> 2\u001b[0m \u001b[43mdf_pesado\u001b[49m\u001b[43m[\u001b[49m\u001b[38;5;124;43m\"\u001b[39;49m\u001b[38;5;124;43mvar\u001b[39;49m\u001b[38;5;124;43m\"\u001b[39;49m\u001b[43m]\u001b[49m\u001b[38;5;241;43m.\u001b[39;49m\u001b[43mcat\u001b[49m\n",
      "File \u001b[0;32m~/miniconda3/envs/mds7202/lib/python3.9/site-packages/pandas/core/generic.py:5902\u001b[0m, in \u001b[0;36mNDFrame.__getattr__\u001b[0;34m(self, name)\u001b[0m\n\u001b[1;32m   5895\u001b[0m \u001b[38;5;28;01mif\u001b[39;00m (\n\u001b[1;32m   5896\u001b[0m     name \u001b[38;5;129;01mnot\u001b[39;00m \u001b[38;5;129;01min\u001b[39;00m \u001b[38;5;28mself\u001b[39m\u001b[38;5;241m.\u001b[39m_internal_names_set\n\u001b[1;32m   5897\u001b[0m     \u001b[38;5;129;01mand\u001b[39;00m name \u001b[38;5;129;01mnot\u001b[39;00m \u001b[38;5;129;01min\u001b[39;00m \u001b[38;5;28mself\u001b[39m\u001b[38;5;241m.\u001b[39m_metadata\n\u001b[1;32m   5898\u001b[0m     \u001b[38;5;129;01mand\u001b[39;00m name \u001b[38;5;129;01mnot\u001b[39;00m \u001b[38;5;129;01min\u001b[39;00m \u001b[38;5;28mself\u001b[39m\u001b[38;5;241m.\u001b[39m_accessors\n\u001b[1;32m   5899\u001b[0m     \u001b[38;5;129;01mand\u001b[39;00m \u001b[38;5;28mself\u001b[39m\u001b[38;5;241m.\u001b[39m_info_axis\u001b[38;5;241m.\u001b[39m_can_hold_identifiers_and_holds_name(name)\n\u001b[1;32m   5900\u001b[0m ):\n\u001b[1;32m   5901\u001b[0m     \u001b[38;5;28;01mreturn\u001b[39;00m \u001b[38;5;28mself\u001b[39m[name]\n\u001b[0;32m-> 5902\u001b[0m \u001b[38;5;28;01mreturn\u001b[39;00m \u001b[38;5;28;43mobject\u001b[39;49m\u001b[38;5;241;43m.\u001b[39;49m\u001b[38;5;21;43m__getattribute__\u001b[39;49m\u001b[43m(\u001b[49m\u001b[38;5;28;43mself\u001b[39;49m\u001b[43m,\u001b[49m\u001b[43m \u001b[49m\u001b[43mname\u001b[49m\u001b[43m)\u001b[49m\n",
      "File \u001b[0;32m~/miniconda3/envs/mds7202/lib/python3.9/site-packages/pandas/core/accessor.py:182\u001b[0m, in \u001b[0;36mCachedAccessor.__get__\u001b[0;34m(self, obj, cls)\u001b[0m\n\u001b[1;32m    179\u001b[0m \u001b[38;5;28;01mif\u001b[39;00m obj \u001b[38;5;129;01mis\u001b[39;00m \u001b[38;5;28;01mNone\u001b[39;00m:\n\u001b[1;32m    180\u001b[0m     \u001b[38;5;66;03m# we're accessing the attribute of the class, i.e., Dataset.geo\u001b[39;00m\n\u001b[1;32m    181\u001b[0m     \u001b[38;5;28;01mreturn\u001b[39;00m \u001b[38;5;28mself\u001b[39m\u001b[38;5;241m.\u001b[39m_accessor\n\u001b[0;32m--> 182\u001b[0m accessor_obj \u001b[38;5;241m=\u001b[39m \u001b[38;5;28;43mself\u001b[39;49m\u001b[38;5;241;43m.\u001b[39;49m\u001b[43m_accessor\u001b[49m\u001b[43m(\u001b[49m\u001b[43mobj\u001b[49m\u001b[43m)\u001b[49m\n\u001b[1;32m    183\u001b[0m \u001b[38;5;66;03m# Replace the property with the accessor object. Inspired by:\u001b[39;00m\n\u001b[1;32m    184\u001b[0m \u001b[38;5;66;03m# https://www.pydanny.com/cached-property.html\u001b[39;00m\n\u001b[1;32m    185\u001b[0m \u001b[38;5;66;03m# We need to use object.__setattr__ because we overwrite __setattr__ on\u001b[39;00m\n\u001b[1;32m    186\u001b[0m \u001b[38;5;66;03m# NDFrame\u001b[39;00m\n\u001b[1;32m    187\u001b[0m \u001b[38;5;28mobject\u001b[39m\u001b[38;5;241m.\u001b[39m\u001b[38;5;21m__setattr__\u001b[39m(obj, \u001b[38;5;28mself\u001b[39m\u001b[38;5;241m.\u001b[39m_name, accessor_obj)\n",
      "File \u001b[0;32m~/miniconda3/envs/mds7202/lib/python3.9/site-packages/pandas/core/arrays/categorical.py:2849\u001b[0m, in \u001b[0;36mCategoricalAccessor.__init__\u001b[0;34m(self, data)\u001b[0m\n\u001b[1;32m   2848\u001b[0m \u001b[38;5;28;01mdef\u001b[39;00m \u001b[38;5;21m__init__\u001b[39m(\u001b[38;5;28mself\u001b[39m, data) \u001b[38;5;241m-\u001b[39m\u001b[38;5;241m>\u001b[39m \u001b[38;5;28;01mNone\u001b[39;00m:\n\u001b[0;32m-> 2849\u001b[0m     \u001b[38;5;28;43mself\u001b[39;49m\u001b[38;5;241;43m.\u001b[39;49m\u001b[43m_validate\u001b[49m\u001b[43m(\u001b[49m\u001b[43mdata\u001b[49m\u001b[43m)\u001b[49m\n\u001b[1;32m   2850\u001b[0m     \u001b[38;5;28mself\u001b[39m\u001b[38;5;241m.\u001b[39m_parent \u001b[38;5;241m=\u001b[39m data\u001b[38;5;241m.\u001b[39mvalues\n\u001b[1;32m   2851\u001b[0m     \u001b[38;5;28mself\u001b[39m\u001b[38;5;241m.\u001b[39m_index \u001b[38;5;241m=\u001b[39m data\u001b[38;5;241m.\u001b[39mindex\n",
      "File \u001b[0;32m~/miniconda3/envs/mds7202/lib/python3.9/site-packages/pandas/core/arrays/categorical.py:2858\u001b[0m, in \u001b[0;36mCategoricalAccessor._validate\u001b[0;34m(data)\u001b[0m\n\u001b[1;32m   2855\u001b[0m \u001b[38;5;129m@staticmethod\u001b[39m\n\u001b[1;32m   2856\u001b[0m \u001b[38;5;28;01mdef\u001b[39;00m \u001b[38;5;21m_validate\u001b[39m(data):\n\u001b[1;32m   2857\u001b[0m     \u001b[38;5;28;01mif\u001b[39;00m \u001b[38;5;129;01mnot\u001b[39;00m is_categorical_dtype(data\u001b[38;5;241m.\u001b[39mdtype):\n\u001b[0;32m-> 2858\u001b[0m         \u001b[38;5;28;01mraise\u001b[39;00m \u001b[38;5;167;01mAttributeError\u001b[39;00m(\u001b[38;5;124m\"\u001b[39m\u001b[38;5;124mCan only use .cat accessor with a \u001b[39m\u001b[38;5;124m'\u001b[39m\u001b[38;5;124mcategory\u001b[39m\u001b[38;5;124m'\u001b[39m\u001b[38;5;124m dtype\u001b[39m\u001b[38;5;124m\"\u001b[39m)\n",
      "\u001b[0;31mAttributeError\u001b[0m: Can only use .cat accessor with a 'category' dtype"
     ]
    }
   ],
   "source": [
    "# strings no tienen .cat\n",
    "df_pesado[\"var\"].cat"
   ]
  },
  {
   "cell_type": "code",
   "execution_count": 175,
   "id": "27f8808b-7c98-4d39-b3b4-8d4c1f104efd",
   "metadata": {},
   "outputs": [
    {
     "name": "stdout",
     "output_type": "stream",
     "text": [
      "<class 'pandas.core.frame.DataFrame'>\n",
      "RangeIndex: 100000000 entries, 0 to 99999999\n",
      "Data columns (total 1 columns):\n",
      " #   Column  Dtype \n",
      "---  ------  ----- \n",
      " 0   var     object\n",
      "dtypes: object(1)\n",
      "memory usage: 762.9+ MB\n"
     ]
    }
   ],
   "source": [
    "# observen la cantidad de memoria.\n",
    "df_pesado.info()"
   ]
  },
  {
   "cell_type": "markdown",
   "id": "c64cd50e-e7bc-4d2d-9f7e-5c6097759744",
   "metadata": {},
   "source": [
    "#### Usando Categorías"
   ]
  },
  {
   "cell_type": "code",
   "execution_count": 176,
   "id": "960ea20a-2117-43c6-8c51-706121bd591d",
   "metadata": {},
   "outputs": [
    {
     "data": {
      "text/html": [
       "<div>\n",
       "<style scoped>\n",
       "    .dataframe tbody tr th:only-of-type {\n",
       "        vertical-align: middle;\n",
       "    }\n",
       "\n",
       "    .dataframe tbody tr th {\n",
       "        vertical-align: top;\n",
       "    }\n",
       "\n",
       "    .dataframe thead th {\n",
       "        text-align: right;\n",
       "    }\n",
       "</style>\n",
       "<table border=\"1\" class=\"dataframe\">\n",
       "  <thead>\n",
       "    <tr style=\"text-align: right;\">\n",
       "      <th></th>\n",
       "      <th>var</th>\n",
       "    </tr>\n",
       "  </thead>\n",
       "  <tbody>\n",
       "    <tr>\n",
       "      <th>0</th>\n",
       "      <td>A</td>\n",
       "    </tr>\n",
       "    <tr>\n",
       "      <th>1</th>\n",
       "      <td>B</td>\n",
       "    </tr>\n",
       "    <tr>\n",
       "      <th>2</th>\n",
       "      <td>C</td>\n",
       "    </tr>\n",
       "    <tr>\n",
       "      <th>3</th>\n",
       "      <td>D</td>\n",
       "    </tr>\n",
       "    <tr>\n",
       "      <th>4</th>\n",
       "      <td>E</td>\n",
       "    </tr>\n",
       "    <tr>\n",
       "      <th>...</th>\n",
       "      <td>...</td>\n",
       "    </tr>\n",
       "    <tr>\n",
       "      <th>99999995</th>\n",
       "      <td>F</td>\n",
       "    </tr>\n",
       "    <tr>\n",
       "      <th>99999996</th>\n",
       "      <td>G</td>\n",
       "    </tr>\n",
       "    <tr>\n",
       "      <th>99999997</th>\n",
       "      <td>H</td>\n",
       "    </tr>\n",
       "    <tr>\n",
       "      <th>99999998</th>\n",
       "      <td>I</td>\n",
       "    </tr>\n",
       "    <tr>\n",
       "      <th>99999999</th>\n",
       "      <td>J</td>\n",
       "    </tr>\n",
       "  </tbody>\n",
       "</table>\n",
       "<p>100000000 rows × 1 columns</p>\n",
       "</div>"
      ],
      "text/plain": [
       "         var\n",
       "0          A\n",
       "1          B\n",
       "2          C\n",
       "3          D\n",
       "4          E\n",
       "...       ..\n",
       "99999995   F\n",
       "99999996   G\n",
       "99999997   H\n",
       "99999998   I\n",
       "99999999   J\n",
       "\n",
       "[100000000 rows x 1 columns]"
      ]
     },
     "execution_count": 176,
     "metadata": {},
     "output_type": "execute_result"
    }
   ],
   "source": [
    "df_pesado = pd.DataFrame(\n",
    "    [\"A\", \"B\", \"C\", \"D\", \"E\", \"F\", \"G\", \"H\", \"I\", \"J\"] * 10000000, columns=[\"var\"]\n",
    ")\n",
    "df_pesado[\"var\"] = df_pesado[\"var\"].astype(\"category\")\n",
    "df_pesado"
   ]
  },
  {
   "cell_type": "code",
   "execution_count": 177,
   "id": "95b8754e-f70b-4f33-8a80-5dfafdc4b249",
   "metadata": {},
   "outputs": [
    {
     "data": {
      "text/plain": [
       "<pandas.core.arrays.categorical.CategoricalAccessor object at 0x7fb0c026ca90>"
      ]
     },
     "execution_count": 177,
     "metadata": {},
     "output_type": "execute_result"
    }
   ],
   "source": [
    "df_pesado[\"var\"].cat"
   ]
  },
  {
   "cell_type": "code",
   "execution_count": 178,
   "id": "62793681-4350-410d-b8f4-87104b589819",
   "metadata": {},
   "outputs": [
    {
     "name": "stdout",
     "output_type": "stream",
     "text": [
      "<class 'pandas.core.frame.DataFrame'>\n",
      "RangeIndex: 100000000 entries, 0 to 99999999\n",
      "Data columns (total 1 columns):\n",
      " #   Column  Dtype   \n",
      "---  ------  -----   \n",
      " 0   var     category\n",
      "dtypes: category(1)\n",
      "memory usage: 95.4 MB\n"
     ]
    }
   ],
   "source": [
    "df_pesado.info()"
   ]
  },
  {
   "cell_type": "markdown",
   "id": "3885c733-7060-4bba-9dc3-7332226b3a02",
   "metadata": {},
   "source": [
    "### Un pequeño merge con los datos anteriores\n",
    "\n",
    "Notar que en esta versión se especificó sobre que variables hacer el merge en ambos datasets."
   ]
  },
  {
   "cell_type": "code",
   "execution_count": 179,
   "id": "899a2c2f-06c4-4839-86b8-b84d15a4fdce",
   "metadata": {},
   "outputs": [
    {
     "data": {
      "text/html": [
       "<div>\n",
       "<style scoped>\n",
       "    .dataframe tbody tr th:only-of-type {\n",
       "        vertical-align: middle;\n",
       "    }\n",
       "\n",
       "    .dataframe tbody tr th {\n",
       "        vertical-align: top;\n",
       "    }\n",
       "\n",
       "    .dataframe thead tr th {\n",
       "        text-align: left;\n",
       "    }\n",
       "\n",
       "    .dataframe thead tr:last-of-type th {\n",
       "        text-align: right;\n",
       "    }\n",
       "</style>\n",
       "<table border=\"1\" class=\"dataframe\">\n",
       "  <thead>\n",
       "    <tr>\n",
       "      <th></th>\n",
       "      <th colspan=\"2\" halign=\"left\">Temperature</th>\n",
       "    </tr>\n",
       "    <tr>\n",
       "      <th></th>\n",
       "      <th>mean</th>\n",
       "      <th>std</th>\n",
       "    </tr>\n",
       "    <tr>\n",
       "      <th>Country</th>\n",
       "      <th></th>\n",
       "      <th></th>\n",
       "    </tr>\n",
       "  </thead>\n",
       "  <tbody>\n",
       "    <tr>\n",
       "      <th>Afghanistan</th>\n",
       "      <td>13.545609</td>\n",
       "      <td>8.695203</td>\n",
       "    </tr>\n",
       "    <tr>\n",
       "      <th>Albania</th>\n",
       "      <td>12.106435</td>\n",
       "      <td>7.101392</td>\n",
       "    </tr>\n",
       "    <tr>\n",
       "      <th>Algeria</th>\n",
       "      <td>23.439610</td>\n",
       "      <td>7.473115</td>\n",
       "    </tr>\n",
       "    <tr>\n",
       "      <th>Andorra</th>\n",
       "      <td>11.953746</td>\n",
       "      <td>6.014903</td>\n",
       "    </tr>\n",
       "    <tr>\n",
       "      <th>Angola</th>\n",
       "      <td>22.133815</td>\n",
       "      <td>1.710757</td>\n",
       "    </tr>\n",
       "    <tr>\n",
       "      <th>...</th>\n",
       "      <td>...</td>\n",
       "      <td>...</td>\n",
       "    </tr>\n",
       "    <tr>\n",
       "      <th>United States</th>\n",
       "      <td>7.617000</td>\n",
       "      <td>9.077944</td>\n",
       "    </tr>\n",
       "    <tr>\n",
       "      <th>Uruguay</th>\n",
       "      <td>17.941855</td>\n",
       "      <td>4.505184</td>\n",
       "    </tr>\n",
       "    <tr>\n",
       "      <th>Uzbekistan</th>\n",
       "      <td>13.158793</td>\n",
       "      <td>10.837303</td>\n",
       "    </tr>\n",
       "    <tr>\n",
       "      <th>Vanuatu</th>\n",
       "      <td>24.123163</td>\n",
       "      <td>1.204321</td>\n",
       "    </tr>\n",
       "    <tr>\n",
       "      <th>Venezuela</th>\n",
       "      <td>25.865055</td>\n",
       "      <td>0.621697</td>\n",
       "    </tr>\n",
       "  </tbody>\n",
       "</table>\n",
       "<p>192 rows × 2 columns</p>\n",
       "</div>"
      ],
      "text/plain": [
       "              Temperature           \n",
       "                     mean        std\n",
       "Country                             \n",
       "Afghanistan     13.545609   8.695203\n",
       "Albania         12.106435   7.101392\n",
       "Algeria         23.439610   7.473115\n",
       "Andorra         11.953746   6.014903\n",
       "Angola          22.133815   1.710757\n",
       "...                   ...        ...\n",
       "United States    7.617000   9.077944\n",
       "Uruguay         17.941855   4.505184\n",
       "Uzbekistan      13.158793  10.837303\n",
       "Vanuatu         24.123163   1.204321\n",
       "Venezuela       25.865055   0.621697\n",
       "\n",
       "[192 rows x 2 columns]"
      ]
     },
     "execution_count": 179,
     "metadata": {},
     "output_type": "execute_result"
    }
   ],
   "source": [
    "temp_agg = df_temp.groupby(\"Country\").agg({\"Temperature\": [\"mean\", \"std\"]})\n",
    "temp_agg"
   ]
  },
  {
   "cell_type": "code",
   "execution_count": 180,
   "id": "4f711ee1-430a-446a-ba82-0005009d99e3",
   "metadata": {},
   "outputs": [
    {
     "data": {
      "text/html": [
       "<div>\n",
       "<style scoped>\n",
       "    .dataframe tbody tr th:only-of-type {\n",
       "        vertical-align: middle;\n",
       "    }\n",
       "\n",
       "    .dataframe tbody tr th {\n",
       "        vertical-align: top;\n",
       "    }\n",
       "\n",
       "    .dataframe thead th {\n",
       "        text-align: right;\n",
       "    }\n",
       "</style>\n",
       "<table border=\"1\" class=\"dataframe\">\n",
       "  <thead>\n",
       "    <tr style=\"text-align: right;\">\n",
       "      <th></th>\n",
       "      <th>Continent_Name</th>\n",
       "      <th>Country_Name</th>\n",
       "    </tr>\n",
       "  </thead>\n",
       "  <tbody>\n",
       "    <tr>\n",
       "      <th>0</th>\n",
       "      <td>Asia</td>\n",
       "      <td>Afghanistan, Islamic Republic of</td>\n",
       "    </tr>\n",
       "    <tr>\n",
       "      <th>1</th>\n",
       "      <td>Europa</td>\n",
       "      <td>Albania</td>\n",
       "    </tr>\n",
       "    <tr>\n",
       "      <th>2</th>\n",
       "      <td>Antarctica</td>\n",
       "      <td>Antarctica (the territory South of 60 deg S)</td>\n",
       "    </tr>\n",
       "    <tr>\n",
       "      <th>3</th>\n",
       "      <td>Africa</td>\n",
       "      <td>Algeria, People's Democratic Republic of</td>\n",
       "    </tr>\n",
       "    <tr>\n",
       "      <th>4</th>\n",
       "      <td>Oceania</td>\n",
       "      <td>American Samoa</td>\n",
       "    </tr>\n",
       "    <tr>\n",
       "      <th>...</th>\n",
       "      <td>...</td>\n",
       "      <td>...</td>\n",
       "    </tr>\n",
       "    <tr>\n",
       "      <th>257</th>\n",
       "      <td>Africa</td>\n",
       "      <td>Zambia</td>\n",
       "    </tr>\n",
       "    <tr>\n",
       "      <th>258</th>\n",
       "      <td>Oceania</td>\n",
       "      <td>Disputed Territory</td>\n",
       "    </tr>\n",
       "    <tr>\n",
       "      <th>259</th>\n",
       "      <td>Asia</td>\n",
       "      <td>Iraq-Saudi Arabia Neutral Zone</td>\n",
       "    </tr>\n",
       "    <tr>\n",
       "      <th>260</th>\n",
       "      <td>Asia</td>\n",
       "      <td>United Nations Neutral Zone</td>\n",
       "    </tr>\n",
       "    <tr>\n",
       "      <th>261</th>\n",
       "      <td>Asia</td>\n",
       "      <td>Spratly Islands</td>\n",
       "    </tr>\n",
       "  </tbody>\n",
       "</table>\n",
       "<p>262 rows × 2 columns</p>\n",
       "</div>"
      ],
      "text/plain": [
       "    Continent_Name                                  Country_Name\n",
       "0             Asia              Afghanistan, Islamic Republic of\n",
       "1           Europa                                       Albania\n",
       "2       Antarctica  Antarctica (the territory South of 60 deg S)\n",
       "3           Africa      Algeria, People's Democratic Republic of\n",
       "4          Oceania                                American Samoa\n",
       "..             ...                                           ...\n",
       "257         Africa                                        Zambia\n",
       "258        Oceania                            Disputed Territory\n",
       "259           Asia                Iraq-Saudi Arabia Neutral Zone\n",
       "260           Asia                   United Nations Neutral Zone\n",
       "261           Asia                               Spratly Islands\n",
       "\n",
       "[262 rows x 2 columns]"
      ]
     },
     "execution_count": 180,
     "metadata": {},
     "output_type": "execute_result"
    }
   ],
   "source": [
    "countries"
   ]
  },
  {
   "cell_type": "code",
   "execution_count": 181,
   "id": "b048e3b3-40b2-4220-ac8a-fc40ff8ee00f",
   "metadata": {},
   "outputs": [
    {
     "data": {
      "text/html": [
       "<div>\n",
       "<style scoped>\n",
       "    .dataframe tbody tr th:only-of-type {\n",
       "        vertical-align: middle;\n",
       "    }\n",
       "\n",
       "    .dataframe tbody tr th {\n",
       "        vertical-align: top;\n",
       "    }\n",
       "\n",
       "    .dataframe thead th {\n",
       "        text-align: right;\n",
       "    }\n",
       "</style>\n",
       "<table border=\"1\" class=\"dataframe\">\n",
       "  <thead>\n",
       "    <tr style=\"text-align: right;\">\n",
       "      <th></th>\n",
       "      <th>Country</th>\n",
       "      <th>Mean temperature</th>\n",
       "      <th>Std temperature</th>\n",
       "      <th>Continent_Name</th>\n",
       "      <th>Country_Name</th>\n",
       "    </tr>\n",
       "  </thead>\n",
       "  <tbody>\n",
       "    <tr>\n",
       "      <th>0</th>\n",
       "      <td>Afghanistan</td>\n",
       "      <td>13.545609</td>\n",
       "      <td>8.695203</td>\n",
       "      <td>NaN</td>\n",
       "      <td>NaN</td>\n",
       "    </tr>\n",
       "    <tr>\n",
       "      <th>1</th>\n",
       "      <td>Albania</td>\n",
       "      <td>12.106435</td>\n",
       "      <td>7.101392</td>\n",
       "      <td>Europa</td>\n",
       "      <td>Albania</td>\n",
       "    </tr>\n",
       "    <tr>\n",
       "      <th>2</th>\n",
       "      <td>Algeria</td>\n",
       "      <td>23.439610</td>\n",
       "      <td>7.473115</td>\n",
       "      <td>NaN</td>\n",
       "      <td>NaN</td>\n",
       "    </tr>\n",
       "    <tr>\n",
       "      <th>3</th>\n",
       "      <td>Andorra</td>\n",
       "      <td>11.953746</td>\n",
       "      <td>6.014903</td>\n",
       "      <td>NaN</td>\n",
       "      <td>NaN</td>\n",
       "    </tr>\n",
       "    <tr>\n",
       "      <th>4</th>\n",
       "      <td>Angola</td>\n",
       "      <td>22.133815</td>\n",
       "      <td>1.710757</td>\n",
       "      <td>Africa</td>\n",
       "      <td>Angola</td>\n",
       "    </tr>\n",
       "    <tr>\n",
       "      <th>...</th>\n",
       "      <td>...</td>\n",
       "      <td>...</td>\n",
       "      <td>...</td>\n",
       "      <td>...</td>\n",
       "      <td>...</td>\n",
       "    </tr>\n",
       "    <tr>\n",
       "      <th>193</th>\n",
       "      <td>United States</td>\n",
       "      <td>7.617000</td>\n",
       "      <td>9.077944</td>\n",
       "      <td>América del Norte</td>\n",
       "      <td>United States</td>\n",
       "    </tr>\n",
       "    <tr>\n",
       "      <th>194</th>\n",
       "      <td>Uruguay</td>\n",
       "      <td>17.941855</td>\n",
       "      <td>4.505184</td>\n",
       "      <td>NaN</td>\n",
       "      <td>NaN</td>\n",
       "    </tr>\n",
       "    <tr>\n",
       "      <th>195</th>\n",
       "      <td>Uzbekistan</td>\n",
       "      <td>13.158793</td>\n",
       "      <td>10.837303</td>\n",
       "      <td>Asia</td>\n",
       "      <td>Uzbekistan</td>\n",
       "    </tr>\n",
       "    <tr>\n",
       "      <th>196</th>\n",
       "      <td>Vanuatu</td>\n",
       "      <td>24.123163</td>\n",
       "      <td>1.204321</td>\n",
       "      <td>Oceania</td>\n",
       "      <td>Vanuatu</td>\n",
       "    </tr>\n",
       "    <tr>\n",
       "      <th>197</th>\n",
       "      <td>Venezuela</td>\n",
       "      <td>25.865055</td>\n",
       "      <td>0.621697</td>\n",
       "      <td>NaN</td>\n",
       "      <td>NaN</td>\n",
       "    </tr>\n",
       "  </tbody>\n",
       "</table>\n",
       "<p>198 rows × 5 columns</p>\n",
       "</div>"
      ],
      "text/plain": [
       "           Country  Mean temperature  Std temperature     Continent_Name  \\\n",
       "0      Afghanistan         13.545609         8.695203                NaN   \n",
       "1          Albania         12.106435         7.101392             Europa   \n",
       "2          Algeria         23.439610         7.473115                NaN   \n",
       "3          Andorra         11.953746         6.014903                NaN   \n",
       "4           Angola         22.133815         1.710757             Africa   \n",
       "..             ...               ...              ...                ...   \n",
       "193  United States          7.617000         9.077944  América del Norte   \n",
       "194        Uruguay         17.941855         4.505184                NaN   \n",
       "195     Uzbekistan         13.158793        10.837303               Asia   \n",
       "196        Vanuatu         24.123163         1.204321            Oceania   \n",
       "197      Venezuela         25.865055         0.621697                NaN   \n",
       "\n",
       "      Country_Name  \n",
       "0              NaN  \n",
       "1          Albania  \n",
       "2              NaN  \n",
       "3              NaN  \n",
       "4           Angola  \n",
       "..             ...  \n",
       "193  United States  \n",
       "194            NaN  \n",
       "195     Uzbekistan  \n",
       "196        Vanuatu  \n",
       "197            NaN  \n",
       "\n",
       "[198 rows x 5 columns]"
      ]
     },
     "execution_count": 181,
     "metadata": {},
     "output_type": "execute_result"
    }
   ],
   "source": [
    "temp_agg.columns = temp_agg.columns.droplevel()\n",
    "temp_agg = temp_agg.reset_index()\n",
    "temp_agg.columns = [\"Country\", \"Mean temperature\", \"Std temperature\"]\n",
    "temp_agg\n",
    "\n",
    "merged_df = pd.merge(\n",
    "    temp_agg,\n",
    "    countries,\n",
    "    how=\"left\",\n",
    "    left_on=\"Country\",\n",
    "    right_on=\"Country_Name\",\n",
    ")\n",
    "\n",
    "merged_df"
   ]
  },
  {
   "cell_type": "markdown",
   "id": "f204aad7-258c-47a8-86ee-0a98d1aa78b0",
   "metadata": {},
   "source": [
    "---\n",
    "\n",
    "## 4.- Ordinales\n",
    "\n",
    "Una variable ordinal es un tipo de variable categórica que representa una característica o atributo que se puede ordenar o clasificar en diferentes niveles o categorías que tienen un orden predefinido.\n",
    "\n",
    "\n",
    "Por ejemplo, hagamos una clasificación muy simple del clima a partir de la temperatura media. Para esto, calculemos cuartiles:\n",
    "\n",
    "> Nota: Los elementos meteorológicos a tomar en cuenta para definir un clima son la temperatura, la presión, el viento, la humedad y la precipitación. Referencias: https://es.wikipedia.org/wiki/Clima"
   ]
  },
  {
   "cell_type": "code",
   "execution_count": 182,
   "id": "d0723f59-3a5c-40e3-b02b-c06cea0f44d8",
   "metadata": {},
   "outputs": [
    {
     "data": {
      "text/plain": [
       "0      13.545609\n",
       "1      12.106435\n",
       "2      23.439610\n",
       "3      11.953746\n",
       "4      22.133815\n",
       "         ...    \n",
       "193     7.617000\n",
       "194    17.941855\n",
       "195    13.158793\n",
       "196    24.123163\n",
       "197    25.865055\n",
       "Name: Mean temperature, Length: 198, dtype: float64"
      ]
     },
     "execution_count": 182,
     "metadata": {},
     "output_type": "execute_result"
    }
   ],
   "source": [
    "mean_temp = merged_df[\"Mean temperature\"]\n",
    "mean_temp"
   ]
  },
  {
   "cell_type": "code",
   "execution_count": 183,
   "id": "5e789fad-922f-4070-a3d1-4cef39e2018b",
   "metadata": {},
   "outputs": [
    {
     "data": {
      "text/plain": [
       "count    198.000000\n",
       "mean      18.889212\n",
       "std        8.721793\n",
       "min      -17.072330\n",
       "25%       11.300543\n",
       "50%       22.726409\n",
       "75%       25.844148\n",
       "max       28.883495\n",
       "Name: Mean temperature, dtype: float64"
      ]
     },
     "execution_count": 183,
     "metadata": {},
     "output_type": "execute_result"
    }
   ],
   "source": [
    "mean_temp.describe()"
   ]
  },
  {
   "cell_type": "code",
   "execution_count": 184,
   "id": "4f4d3df2-cc47-48b5-a995-c9847fd2b797",
   "metadata": {},
   "outputs": [
    {
     "data": {
      "text/plain": [
       "0          Frio\n",
       "1          Frio\n",
       "2      Templado\n",
       "3          Frio\n",
       "4      Templado\n",
       "         ...   \n",
       "193       Polar\n",
       "194        Frio\n",
       "195        Frio\n",
       "196    Templado\n",
       "197      Calido\n",
       "Name: Mean temperature, Length: 198, dtype: category\n",
       "Categories (5, object): ['Polar' < 'Frio' < 'Templado' < 'Calido' < 'Muy Calido']"
      ]
     },
     "execution_count": 184,
     "metadata": {},
     "output_type": "execute_result"
    }
   ],
   "source": [
    "clima_ordinal = pd.qcut(\n",
    "    mean_temp, 5, labels=[\"Polar\", \"Frio\", \"Templado\", \"Calido\", \"Muy Calido\"]\n",
    ")\n",
    "clima_ordinal"
   ]
  },
  {
   "cell_type": "markdown",
   "id": "9138c6bc-0e8e-415a-aaf1-d2dace9f0ebd",
   "metadata": {},
   "source": [
    "#### Operaciones sobre Series Categóricas con Orden"
   ]
  },
  {
   "cell_type": "code",
   "execution_count": 185,
   "id": "e99d925d-b729-4daf-b292-529c8ce2ebf0",
   "metadata": {},
   "outputs": [
    {
     "data": {
      "text/plain": [
       "Polar         40\n",
       "Frio          40\n",
       "Muy Calido    40\n",
       "Templado      39\n",
       "Calido        39\n",
       "Name: Mean temperature, dtype: int64"
      ]
     },
     "execution_count": 185,
     "metadata": {},
     "output_type": "execute_result"
    }
   ],
   "source": [
    "clima_ordinal.value_counts()"
   ]
  },
  {
   "cell_type": "code",
   "execution_count": 186,
   "id": "1f8375cc-366b-4a5b-a753-ef0bf7f26a9a",
   "metadata": {},
   "outputs": [
    {
     "data": {
      "text/plain": [
       "'Polar'"
      ]
     },
     "execution_count": 186,
     "metadata": {},
     "output_type": "execute_result"
    }
   ],
   "source": [
    "clima_ordinal.min()"
   ]
  },
  {
   "cell_type": "code",
   "execution_count": 187,
   "id": "2f265dfc-c927-40fd-a843-fe1a9345fec5",
   "metadata": {},
   "outputs": [
    {
     "data": {
      "text/plain": [
       "'Muy Calido'"
      ]
     },
     "execution_count": 187,
     "metadata": {},
     "output_type": "execute_result"
    }
   ],
   "source": [
    "clima_ordinal.max()"
   ]
  },
  {
   "cell_type": "code",
   "execution_count": 188,
   "id": "28d0ca34-90e1-44c2-b965-51c27af5ba63",
   "metadata": {},
   "outputs": [
    {
     "data": {
      "text/plain": [
       "0         Polar\n",
       "1          Frio\n",
       "2    Muy Calido\n",
       "Name: Mean temperature, dtype: category\n",
       "Categories (5, object): ['Polar' < 'Frio' < 'Templado' < 'Calido' < 'Muy Calido']"
      ]
     },
     "execution_count": 188,
     "metadata": {},
     "output_type": "execute_result"
    }
   ],
   "source": [
    "clima_ordinal.mode()"
   ]
  },
  {
   "cell_type": "markdown",
   "id": "39d7ac40-6beb-403d-8b10-6c7d8b03538d",
   "metadata": {},
   "source": [
    "---\n",
    "\n",
    "### Ordenar y Filtrar usando Ordinales"
   ]
  },
  {
   "cell_type": "code",
   "execution_count": 189,
   "id": "02f05096-1c5b-485a-92a2-48537d5e55ad",
   "metadata": {},
   "outputs": [
    {
     "data": {
      "text/html": [
       "<div>\n",
       "<style scoped>\n",
       "    .dataframe tbody tr th:only-of-type {\n",
       "        vertical-align: middle;\n",
       "    }\n",
       "\n",
       "    .dataframe tbody tr th {\n",
       "        vertical-align: top;\n",
       "    }\n",
       "\n",
       "    .dataframe thead th {\n",
       "        text-align: right;\n",
       "    }\n",
       "</style>\n",
       "<table border=\"1\" class=\"dataframe\">\n",
       "  <thead>\n",
       "    <tr style=\"text-align: right;\">\n",
       "      <th></th>\n",
       "      <th>Country</th>\n",
       "      <th>Mean temperature</th>\n",
       "      <th>Std temperature</th>\n",
       "      <th>Continent_Name</th>\n",
       "      <th>Country_Name</th>\n",
       "      <th>Temp Quartile</th>\n",
       "    </tr>\n",
       "  </thead>\n",
       "  <tbody>\n",
       "    <tr>\n",
       "      <th>0</th>\n",
       "      <td>Afghanistan</td>\n",
       "      <td>13.545609</td>\n",
       "      <td>8.695203</td>\n",
       "      <td>NaN</td>\n",
       "      <td>NaN</td>\n",
       "      <td>Frio</td>\n",
       "    </tr>\n",
       "    <tr>\n",
       "      <th>1</th>\n",
       "      <td>Albania</td>\n",
       "      <td>12.106435</td>\n",
       "      <td>7.101392</td>\n",
       "      <td>Europa</td>\n",
       "      <td>Albania</td>\n",
       "      <td>Frio</td>\n",
       "    </tr>\n",
       "    <tr>\n",
       "      <th>2</th>\n",
       "      <td>Algeria</td>\n",
       "      <td>23.439610</td>\n",
       "      <td>7.473115</td>\n",
       "      <td>NaN</td>\n",
       "      <td>NaN</td>\n",
       "      <td>Templado</td>\n",
       "    </tr>\n",
       "  </tbody>\n",
       "</table>\n",
       "</div>"
      ],
      "text/plain": [
       "       Country  Mean temperature  Std temperature Continent_Name Country_Name  \\\n",
       "0  Afghanistan         13.545609         8.695203            NaN          NaN   \n",
       "1      Albania         12.106435         7.101392         Europa      Albania   \n",
       "2      Algeria         23.439610         7.473115            NaN          NaN   \n",
       "\n",
       "  Temp Quartile  \n",
       "0          Frio  \n",
       "1          Frio  \n",
       "2      Templado  "
      ]
     },
     "execution_count": 189,
     "metadata": {},
     "output_type": "execute_result"
    }
   ],
   "source": [
    "merged_df[\"Temp Quartile\"] = clima_ordinal\n",
    "merged_df.head(3)"
   ]
  },
  {
   "cell_type": "code",
   "execution_count": 190,
   "id": "998e4f6a-c7cc-4481-821c-477355d56186",
   "metadata": {},
   "outputs": [
    {
     "name": "stdout",
     "output_type": "stream",
     "text": [
      "<class 'pandas.core.frame.DataFrame'>\n",
      "Int64Index: 198 entries, 0 to 197\n",
      "Data columns (total 6 columns):\n",
      " #   Column            Non-Null Count  Dtype   \n",
      "---  ------            --------------  -----   \n",
      " 0   Country           198 non-null    object  \n",
      " 1   Mean temperature  198 non-null    float64 \n",
      " 2   Std temperature   198 non-null    float64 \n",
      " 3   Continent_Name    131 non-null    category\n",
      " 4   Country_Name      131 non-null    object  \n",
      " 5   Temp Quartile     198 non-null    category\n",
      "dtypes: category(2), float64(2), object(2)\n",
      "memory usage: 8.7+ KB\n"
     ]
    }
   ],
   "source": [
    "merged_df.info()"
   ]
  },
  {
   "cell_type": "code",
   "execution_count": 191,
   "id": "42782f3e-460c-41a4-aae3-e2ca3a553c95",
   "metadata": {},
   "outputs": [
    {
     "data": {
      "text/html": [
       "<div>\n",
       "<style scoped>\n",
       "    .dataframe tbody tr th:only-of-type {\n",
       "        vertical-align: middle;\n",
       "    }\n",
       "\n",
       "    .dataframe tbody tr th {\n",
       "        vertical-align: top;\n",
       "    }\n",
       "\n",
       "    .dataframe thead th {\n",
       "        text-align: right;\n",
       "    }\n",
       "</style>\n",
       "<table border=\"1\" class=\"dataframe\">\n",
       "  <thead>\n",
       "    <tr style=\"text-align: right;\">\n",
       "      <th></th>\n",
       "      <th>Country</th>\n",
       "      <th>Mean temperature</th>\n",
       "      <th>Std temperature</th>\n",
       "      <th>Continent_Name</th>\n",
       "      <th>Country_Name</th>\n",
       "      <th>Temp Quartile</th>\n",
       "    </tr>\n",
       "  </thead>\n",
       "  <tbody>\n",
       "    <tr>\n",
       "      <th>71</th>\n",
       "      <td>Greenland</td>\n",
       "      <td>-17.072330</td>\n",
       "      <td>8.745566</td>\n",
       "      <td>América del Norte</td>\n",
       "      <td>Greenland</td>\n",
       "      <td>Polar</td>\n",
       "    </tr>\n",
       "    <tr>\n",
       "      <th>32</th>\n",
       "      <td>Canada</td>\n",
       "      <td>-5.963874</td>\n",
       "      <td>12.528132</td>\n",
       "      <td>América del Norte</td>\n",
       "      <td>Canada</td>\n",
       "      <td>Polar</td>\n",
       "    </tr>\n",
       "    <tr>\n",
       "      <th>150</th>\n",
       "      <td>Russia</td>\n",
       "      <td>-5.255763</td>\n",
       "      <td>14.663405</td>\n",
       "      <td>Europa</td>\n",
       "      <td>Russia</td>\n",
       "      <td>Polar</td>\n",
       "    </tr>\n",
       "    <tr>\n",
       "      <th>119</th>\n",
       "      <td>Mongolia</td>\n",
       "      <td>0.598241</td>\n",
       "      <td>13.699369</td>\n",
       "      <td>Asia</td>\n",
       "      <td>Mongolia</td>\n",
       "      <td>Polar</td>\n",
       "    </tr>\n",
       "    <tr>\n",
       "      <th>133</th>\n",
       "      <td>Norway</td>\n",
       "      <td>1.726860</td>\n",
       "      <td>7.287373</td>\n",
       "      <td>Europa</td>\n",
       "      <td>Norway</td>\n",
       "      <td>Polar</td>\n",
       "    </tr>\n",
       "    <tr>\n",
       "      <th>...</th>\n",
       "      <td>...</td>\n",
       "      <td>...</td>\n",
       "      <td>...</td>\n",
       "      <td>...</td>\n",
       "      <td>...</td>\n",
       "      <td>...</td>\n",
       "    </tr>\n",
       "    <tr>\n",
       "      <th>114</th>\n",
       "      <td>Mauritania</td>\n",
       "      <td>28.416357</td>\n",
       "      <td>4.659151</td>\n",
       "      <td>NaN</td>\n",
       "      <td>NaN</td>\n",
       "      <td>Muy Calido</td>\n",
       "    </tr>\n",
       "    <tr>\n",
       "      <th>188</th>\n",
       "      <td>Tuvalu</td>\n",
       "      <td>28.504638</td>\n",
       "      <td>0.393742</td>\n",
       "      <td>Oceania</td>\n",
       "      <td>Tuvalu</td>\n",
       "      <td>Muy Calido</td>\n",
       "    </tr>\n",
       "    <tr>\n",
       "      <th>155</th>\n",
       "      <td>Senegal</td>\n",
       "      <td>28.630989</td>\n",
       "      <td>2.062197</td>\n",
       "      <td>Africa</td>\n",
       "      <td>Senegal</td>\n",
       "      <td>Muy Calido</td>\n",
       "    </tr>\n",
       "    <tr>\n",
       "      <th>28</th>\n",
       "      <td>Burkina Faso</td>\n",
       "      <td>28.698612</td>\n",
       "      <td>2.397689</td>\n",
       "      <td>Africa</td>\n",
       "      <td>Burkina Faso</td>\n",
       "      <td>Muy Calido</td>\n",
       "    </tr>\n",
       "    <tr>\n",
       "      <th>111</th>\n",
       "      <td>Mali</td>\n",
       "      <td>28.883495</td>\n",
       "      <td>4.116799</td>\n",
       "      <td>Africa</td>\n",
       "      <td>Mali</td>\n",
       "      <td>Muy Calido</td>\n",
       "    </tr>\n",
       "  </tbody>\n",
       "</table>\n",
       "<p>198 rows × 6 columns</p>\n",
       "</div>"
      ],
      "text/plain": [
       "          Country  Mean temperature  Std temperature     Continent_Name  \\\n",
       "71      Greenland        -17.072330         8.745566  América del Norte   \n",
       "32         Canada         -5.963874        12.528132  América del Norte   \n",
       "150        Russia         -5.255763        14.663405             Europa   \n",
       "119      Mongolia          0.598241        13.699369               Asia   \n",
       "133        Norway          1.726860         7.287373             Europa   \n",
       "..            ...               ...              ...                ...   \n",
       "114    Mauritania         28.416357         4.659151                NaN   \n",
       "188        Tuvalu         28.504638         0.393742            Oceania   \n",
       "155       Senegal         28.630989         2.062197             Africa   \n",
       "28   Burkina Faso         28.698612         2.397689             Africa   \n",
       "111          Mali         28.883495         4.116799             Africa   \n",
       "\n",
       "     Country_Name Temp Quartile  \n",
       "71      Greenland         Polar  \n",
       "32         Canada         Polar  \n",
       "150        Russia         Polar  \n",
       "119      Mongolia         Polar  \n",
       "133        Norway         Polar  \n",
       "..            ...           ...  \n",
       "114           NaN    Muy Calido  \n",
       "188        Tuvalu    Muy Calido  \n",
       "155       Senegal    Muy Calido  \n",
       "28   Burkina Faso    Muy Calido  \n",
       "111          Mali    Muy Calido  \n",
       "\n",
       "[198 rows x 6 columns]"
      ]
     },
     "execution_count": 191,
     "metadata": {},
     "output_type": "execute_result"
    }
   ],
   "source": [
    "merged_df = merged_df.sort_values([\"Temp Quartile\", \"Mean temperature\"])\n",
    "merged_df"
   ]
  },
  {
   "cell_type": "markdown",
   "id": "41ecd70e-2dcf-4288-9dab-c2678541df08",
   "metadata": {},
   "source": [
    "### Nota sobre Merge con id repetidos\n",
    "\n",
    "> Pregunta: ¿Qué sucede si hacemos un merge de una fila con muchas otras con igual identificador?"
   ]
  },
  {
   "cell_type": "code",
   "execution_count": 192,
   "id": "8b535577-10f8-42a0-9c21-0b3b3aabb2be",
   "metadata": {},
   "outputs": [
    {
     "data": {
      "text/plain": [
       "Index(['Polar', 'Frio', 'Templado', 'Calido', 'Muy Calido'], dtype='object')"
      ]
     },
     "execution_count": 192,
     "metadata": {},
     "output_type": "execute_result"
    }
   ],
   "source": [
    "merged_df[\"Temp Quartile\"].cat.categories"
   ]
  },
  {
   "cell_type": "code",
   "execution_count": 193,
   "id": "322cce7c-2e50-4581-ad48-512e040f34d3",
   "metadata": {},
   "outputs": [
    {
     "data": {
      "text/plain": [
       "71      True\n",
       "32      True\n",
       "150     True\n",
       "119     True\n",
       "133     True\n",
       "       ...  \n",
       "114    False\n",
       "188    False\n",
       "155    False\n",
       "28     False\n",
       "111    False\n",
       "Name: Temp Quartile, Length: 198, dtype: bool"
      ]
     },
     "execution_count": 193,
     "metadata": {},
     "output_type": "execute_result"
    }
   ],
   "source": [
    "mask = merged_df[\"Temp Quartile\"] < \"Frio\"\n",
    "mask"
   ]
  },
  {
   "cell_type": "code",
   "execution_count": 194,
   "id": "18a15b5e-0557-4008-846f-772cfda5c64c",
   "metadata": {},
   "outputs": [
    {
     "data": {
      "text/html": [
       "<div>\n",
       "<style scoped>\n",
       "    .dataframe tbody tr th:only-of-type {\n",
       "        vertical-align: middle;\n",
       "    }\n",
       "\n",
       "    .dataframe tbody tr th {\n",
       "        vertical-align: top;\n",
       "    }\n",
       "\n",
       "    .dataframe thead th {\n",
       "        text-align: right;\n",
       "    }\n",
       "</style>\n",
       "<table border=\"1\" class=\"dataframe\">\n",
       "  <thead>\n",
       "    <tr style=\"text-align: right;\">\n",
       "      <th></th>\n",
       "      <th>Country</th>\n",
       "      <th>Mean temperature</th>\n",
       "      <th>Std temperature</th>\n",
       "      <th>Continent_Name</th>\n",
       "      <th>Country_Name</th>\n",
       "      <th>Temp Quartile</th>\n",
       "    </tr>\n",
       "  </thead>\n",
       "  <tbody>\n",
       "    <tr>\n",
       "      <th>71</th>\n",
       "      <td>Greenland</td>\n",
       "      <td>-17.072330</td>\n",
       "      <td>8.745566</td>\n",
       "      <td>América del Norte</td>\n",
       "      <td>Greenland</td>\n",
       "      <td>Polar</td>\n",
       "    </tr>\n",
       "    <tr>\n",
       "      <th>32</th>\n",
       "      <td>Canada</td>\n",
       "      <td>-5.963874</td>\n",
       "      <td>12.528132</td>\n",
       "      <td>América del Norte</td>\n",
       "      <td>Canada</td>\n",
       "      <td>Polar</td>\n",
       "    </tr>\n",
       "    <tr>\n",
       "      <th>150</th>\n",
       "      <td>Russia</td>\n",
       "      <td>-5.255763</td>\n",
       "      <td>14.663405</td>\n",
       "      <td>Europa</td>\n",
       "      <td>Russia</td>\n",
       "      <td>Polar</td>\n",
       "    </tr>\n",
       "    <tr>\n",
       "      <th>119</th>\n",
       "      <td>Mongolia</td>\n",
       "      <td>0.598241</td>\n",
       "      <td>13.699369</td>\n",
       "      <td>Asia</td>\n",
       "      <td>Mongolia</td>\n",
       "      <td>Polar</td>\n",
       "    </tr>\n",
       "    <tr>\n",
       "      <th>133</th>\n",
       "      <td>Norway</td>\n",
       "      <td>1.726860</td>\n",
       "      <td>7.287373</td>\n",
       "      <td>Europa</td>\n",
       "      <td>Norway</td>\n",
       "      <td>Polar</td>\n",
       "    </tr>\n",
       "    <tr>\n",
       "      <th>80</th>\n",
       "      <td>Iceland</td>\n",
       "      <td>2.307253</td>\n",
       "      <td>4.468936</td>\n",
       "      <td>Europa</td>\n",
       "      <td>Iceland</td>\n",
       "      <td>Polar</td>\n",
       "    </tr>\n",
       "    <tr>\n",
       "      <th>62</th>\n",
       "      <td>Finland</td>\n",
       "      <td>2.402188</td>\n",
       "      <td>9.278735</td>\n",
       "      <td>Europa</td>\n",
       "      <td>Finland</td>\n",
       "      <td>Polar</td>\n",
       "    </tr>\n",
       "    <tr>\n",
       "      <th>174</th>\n",
       "      <td>Sweden</td>\n",
       "      <td>2.537722</td>\n",
       "      <td>8.185242</td>\n",
       "      <td>Europa</td>\n",
       "      <td>Sweden</td>\n",
       "      <td>Polar</td>\n",
       "    </tr>\n",
       "    <tr>\n",
       "      <th>96</th>\n",
       "      <td>Kyrgyzstan</td>\n",
       "      <td>3.137480</td>\n",
       "      <td>9.972644</td>\n",
       "      <td>NaN</td>\n",
       "      <td>NaN</td>\n",
       "      <td>Polar</td>\n",
       "    </tr>\n",
       "    <tr>\n",
       "      <th>103</th>\n",
       "      <td>Liechtenstein</td>\n",
       "      <td>3.549368</td>\n",
       "      <td>5.943636</td>\n",
       "      <td>NaN</td>\n",
       "      <td>NaN</td>\n",
       "      <td>Polar</td>\n",
       "    </tr>\n",
       "    <tr>\n",
       "      <th>177</th>\n",
       "      <td>Tajikistan</td>\n",
       "      <td>4.001360</td>\n",
       "      <td>8.788011</td>\n",
       "      <td>Asia</td>\n",
       "      <td>Tajikistan</td>\n",
       "      <td>Polar</td>\n",
       "    </tr>\n",
       "    <tr>\n",
       "      <th>57</th>\n",
       "      <td>Estonia</td>\n",
       "      <td>6.166056</td>\n",
       "      <td>8.199942</td>\n",
       "      <td>Europa</td>\n",
       "      <td>Estonia</td>\n",
       "      <td>Polar</td>\n",
       "    </tr>\n",
       "    <tr>\n",
       "      <th>131</th>\n",
       "      <td>NorthKorea</td>\n",
       "      <td>6.223913</td>\n",
       "      <td>11.365693</td>\n",
       "      <td>NaN</td>\n",
       "      <td>NaN</td>\n",
       "      <td>Polar</td>\n",
       "    </tr>\n",
       "    <tr>\n",
       "      <th>98</th>\n",
       "      <td>Latvia</td>\n",
       "      <td>6.696891</td>\n",
       "      <td>8.127505</td>\n",
       "      <td>Europa</td>\n",
       "      <td>Latvia</td>\n",
       "      <td>Polar</td>\n",
       "    </tr>\n",
       "    <tr>\n",
       "      <th>175</th>\n",
       "      <td>Switzerland</td>\n",
       "      <td>6.713588</td>\n",
       "      <td>6.237274</td>\n",
       "      <td>Europa</td>\n",
       "      <td>Switzerland</td>\n",
       "      <td>Polar</td>\n",
       "    </tr>\n",
       "    <tr>\n",
       "      <th>59</th>\n",
       "      <td>FaroeIslands</td>\n",
       "      <td>6.770316</td>\n",
       "      <td>2.911743</td>\n",
       "      <td>NaN</td>\n",
       "      <td>NaN</td>\n",
       "      <td>Polar</td>\n",
       "    </tr>\n",
       "    <tr>\n",
       "      <th>91</th>\n",
       "      <td>Kazakhstan</td>\n",
       "      <td>6.810408</td>\n",
       "      <td>12.792550</td>\n",
       "      <td>Europa</td>\n",
       "      <td>Kazakhstan</td>\n",
       "      <td>Polar</td>\n",
       "    </tr>\n",
       "    <tr>\n",
       "      <th>92</th>\n",
       "      <td>Kazakhstan</td>\n",
       "      <td>6.810408</td>\n",
       "      <td>12.792550</td>\n",
       "      <td>Asia</td>\n",
       "      <td>Kazakhstan</td>\n",
       "      <td>Polar</td>\n",
       "    </tr>\n",
       "    <tr>\n",
       "      <th>66</th>\n",
       "      <td>Georgia</td>\n",
       "      <td>6.957606</td>\n",
       "      <td>8.942169</td>\n",
       "      <td>Europa</td>\n",
       "      <td>Georgia</td>\n",
       "      <td>Polar</td>\n",
       "    </tr>\n",
       "    <tr>\n",
       "      <th>67</th>\n",
       "      <td>Georgia</td>\n",
       "      <td>6.957606</td>\n",
       "      <td>8.942169</td>\n",
       "      <td>Asia</td>\n",
       "      <td>Georgia</td>\n",
       "      <td>Polar</td>\n",
       "    </tr>\n",
       "    <tr>\n",
       "      <th>37</th>\n",
       "      <td>China</td>\n",
       "      <td>7.039332</td>\n",
       "      <td>9.721250</td>\n",
       "      <td>NaN</td>\n",
       "      <td>NaN</td>\n",
       "      <td>Polar</td>\n",
       "    </tr>\n",
       "    <tr>\n",
       "      <th>10</th>\n",
       "      <td>Austria</td>\n",
       "      <td>7.202215</td>\n",
       "      <td>6.993245</td>\n",
       "      <td>Europa</td>\n",
       "      <td>Austria</td>\n",
       "      <td>Polar</td>\n",
       "    </tr>\n",
       "    <tr>\n",
       "      <th>104</th>\n",
       "      <td>Lithuania</td>\n",
       "      <td>7.280419</td>\n",
       "      <td>8.113566</td>\n",
       "      <td>Europa</td>\n",
       "      <td>Lithuania</td>\n",
       "      <td>Polar</td>\n",
       "    </tr>\n",
       "    <tr>\n",
       "      <th>17</th>\n",
       "      <td>Belarus</td>\n",
       "      <td>7.362349</td>\n",
       "      <td>8.803962</td>\n",
       "      <td>Europa</td>\n",
       "      <td>Belarus</td>\n",
       "      <td>Polar</td>\n",
       "    </tr>\n",
       "    <tr>\n",
       "      <th>193</th>\n",
       "      <td>United States</td>\n",
       "      <td>7.617000</td>\n",
       "      <td>9.077944</td>\n",
       "      <td>América del Norte</td>\n",
       "      <td>United States</td>\n",
       "      <td>Polar</td>\n",
       "    </tr>\n",
       "    <tr>\n",
       "      <th>7</th>\n",
       "      <td>Armenia</td>\n",
       "      <td>7.803382</td>\n",
       "      <td>9.697264</td>\n",
       "      <td>Europa</td>\n",
       "      <td>Armenia</td>\n",
       "      <td>Polar</td>\n",
       "    </tr>\n",
       "    <tr>\n",
       "      <th>8</th>\n",
       "      <td>Armenia</td>\n",
       "      <td>7.803382</td>\n",
       "      <td>9.697264</td>\n",
       "      <td>Asia</td>\n",
       "      <td>Armenia</td>\n",
       "      <td>Polar</td>\n",
       "    </tr>\n",
       "    <tr>\n",
       "      <th>159</th>\n",
       "      <td>Slovakia</td>\n",
       "      <td>8.452959</td>\n",
       "      <td>7.797643</td>\n",
       "      <td>NaN</td>\n",
       "      <td>NaN</td>\n",
       "      <td>Polar</td>\n",
       "    </tr>\n",
       "    <tr>\n",
       "      <th>36</th>\n",
       "      <td>Chile</td>\n",
       "      <td>8.454478</td>\n",
       "      <td>3.126838</td>\n",
       "      <td>América del Sur</td>\n",
       "      <td>Chile</td>\n",
       "      <td>Polar</td>\n",
       "    </tr>\n",
       "    <tr>\n",
       "      <th>142</th>\n",
       "      <td>Poland</td>\n",
       "      <td>8.667610</td>\n",
       "      <td>7.471490</td>\n",
       "      <td>Europa</td>\n",
       "      <td>Poland</td>\n",
       "      <td>Polar</td>\n",
       "    </tr>\n",
       "    <tr>\n",
       "      <th>48</th>\n",
       "      <td>Denmark</td>\n",
       "      <td>8.678213</td>\n",
       "      <td>6.136734</td>\n",
       "      <td>Europa</td>\n",
       "      <td>Denmark</td>\n",
       "      <td>Polar</td>\n",
       "    </tr>\n",
       "    <tr>\n",
       "      <th>46</th>\n",
       "      <td>CzechRepublic</td>\n",
       "      <td>8.756214</td>\n",
       "      <td>7.398374</td>\n",
       "      <td>NaN</td>\n",
       "      <td>NaN</td>\n",
       "      <td>Polar</td>\n",
       "    </tr>\n",
       "    <tr>\n",
       "      <th>192</th>\n",
       "      <td>United Kingdom</td>\n",
       "      <td>9.062469</td>\n",
       "      <td>4.253525</td>\n",
       "      <td>Europa</td>\n",
       "      <td>United Kingdom</td>\n",
       "      <td>Polar</td>\n",
       "    </tr>\n",
       "    <tr>\n",
       "      <th>190</th>\n",
       "      <td>Ukraine</td>\n",
       "      <td>9.072880</td>\n",
       "      <td>9.178330</td>\n",
       "      <td>Europa</td>\n",
       "      <td>Ukraine</td>\n",
       "      <td>Polar</td>\n",
       "    </tr>\n",
       "    <tr>\n",
       "      <th>68</th>\n",
       "      <td>Germany</td>\n",
       "      <td>9.429345</td>\n",
       "      <td>6.574786</td>\n",
       "      <td>Europa</td>\n",
       "      <td>Germany</td>\n",
       "      <td>Polar</td>\n",
       "    </tr>\n",
       "    <tr>\n",
       "      <th>146</th>\n",
       "      <td>Republic of Montenegro</td>\n",
       "      <td>9.609226</td>\n",
       "      <td>7.388896</td>\n",
       "      <td>NaN</td>\n",
       "      <td>NaN</td>\n",
       "      <td>Polar</td>\n",
       "    </tr>\n",
       "    <tr>\n",
       "      <th>85</th>\n",
       "      <td>Ireland</td>\n",
       "      <td>9.640844</td>\n",
       "      <td>3.684947</td>\n",
       "      <td>Europa</td>\n",
       "      <td>Ireland</td>\n",
       "      <td>Polar</td>\n",
       "    </tr>\n",
       "    <tr>\n",
       "      <th>160</th>\n",
       "      <td>Slovenia</td>\n",
       "      <td>9.677381</td>\n",
       "      <td>7.151006</td>\n",
       "      <td>Europa</td>\n",
       "      <td>Slovenia</td>\n",
       "      <td>Polar</td>\n",
       "    </tr>\n",
       "    <tr>\n",
       "      <th>149</th>\n",
       "      <td>Romania</td>\n",
       "      <td>9.690750</td>\n",
       "      <td>8.359718</td>\n",
       "      <td>Europa</td>\n",
       "      <td>Romania</td>\n",
       "      <td>Polar</td>\n",
       "    </tr>\n",
       "    <tr>\n",
       "      <th>105</th>\n",
       "      <td>Luxembourg</td>\n",
       "      <td>9.932402</td>\n",
       "      <td>6.138378</td>\n",
       "      <td>Europa</td>\n",
       "      <td>Luxembourg</td>\n",
       "      <td>Polar</td>\n",
       "    </tr>\n",
       "  </tbody>\n",
       "</table>\n",
       "</div>"
      ],
      "text/plain": [
       "                    Country  Mean temperature  Std temperature  \\\n",
       "71                Greenland        -17.072330         8.745566   \n",
       "32                   Canada         -5.963874        12.528132   \n",
       "150                  Russia         -5.255763        14.663405   \n",
       "119                Mongolia          0.598241        13.699369   \n",
       "133                  Norway          1.726860         7.287373   \n",
       "80                  Iceland          2.307253         4.468936   \n",
       "62                  Finland          2.402188         9.278735   \n",
       "174                  Sweden          2.537722         8.185242   \n",
       "96               Kyrgyzstan          3.137480         9.972644   \n",
       "103           Liechtenstein          3.549368         5.943636   \n",
       "177              Tajikistan          4.001360         8.788011   \n",
       "57                  Estonia          6.166056         8.199942   \n",
       "131              NorthKorea          6.223913        11.365693   \n",
       "98                   Latvia          6.696891         8.127505   \n",
       "175             Switzerland          6.713588         6.237274   \n",
       "59            FaroeIslands           6.770316         2.911743   \n",
       "91               Kazakhstan          6.810408        12.792550   \n",
       "92               Kazakhstan          6.810408        12.792550   \n",
       "66                  Georgia          6.957606         8.942169   \n",
       "67                  Georgia          6.957606         8.942169   \n",
       "37                    China          7.039332         9.721250   \n",
       "10                  Austria          7.202215         6.993245   \n",
       "104               Lithuania          7.280419         8.113566   \n",
       "17                  Belarus          7.362349         8.803962   \n",
       "193           United States          7.617000         9.077944   \n",
       "7                   Armenia          7.803382         9.697264   \n",
       "8                   Armenia          7.803382         9.697264   \n",
       "159                Slovakia          8.452959         7.797643   \n",
       "36                    Chile          8.454478         3.126838   \n",
       "142                  Poland          8.667610         7.471490   \n",
       "48                  Denmark          8.678213         6.136734   \n",
       "46            CzechRepublic          8.756214         7.398374   \n",
       "192          United Kingdom          9.062469         4.253525   \n",
       "190                 Ukraine          9.072880         9.178330   \n",
       "68                  Germany          9.429345         6.574786   \n",
       "146  Republic of Montenegro          9.609226         7.388896   \n",
       "85                  Ireland          9.640844         3.684947   \n",
       "160                Slovenia          9.677381         7.151006   \n",
       "149                 Romania          9.690750         8.359718   \n",
       "105              Luxembourg          9.932402         6.138378   \n",
       "\n",
       "        Continent_Name    Country_Name Temp Quartile  \n",
       "71   América del Norte       Greenland         Polar  \n",
       "32   América del Norte          Canada         Polar  \n",
       "150             Europa          Russia         Polar  \n",
       "119               Asia        Mongolia         Polar  \n",
       "133             Europa          Norway         Polar  \n",
       "80              Europa         Iceland         Polar  \n",
       "62              Europa         Finland         Polar  \n",
       "174             Europa          Sweden         Polar  \n",
       "96                 NaN             NaN         Polar  \n",
       "103                NaN             NaN         Polar  \n",
       "177               Asia      Tajikistan         Polar  \n",
       "57              Europa         Estonia         Polar  \n",
       "131                NaN             NaN         Polar  \n",
       "98              Europa          Latvia         Polar  \n",
       "175             Europa     Switzerland         Polar  \n",
       "59                 NaN             NaN         Polar  \n",
       "91              Europa      Kazakhstan         Polar  \n",
       "92                Asia      Kazakhstan         Polar  \n",
       "66              Europa         Georgia         Polar  \n",
       "67                Asia         Georgia         Polar  \n",
       "37                 NaN             NaN         Polar  \n",
       "10              Europa         Austria         Polar  \n",
       "104             Europa       Lithuania         Polar  \n",
       "17              Europa         Belarus         Polar  \n",
       "193  América del Norte   United States         Polar  \n",
       "7               Europa         Armenia         Polar  \n",
       "8                 Asia         Armenia         Polar  \n",
       "159                NaN             NaN         Polar  \n",
       "36     América del Sur           Chile         Polar  \n",
       "142             Europa          Poland         Polar  \n",
       "48              Europa         Denmark         Polar  \n",
       "46                 NaN             NaN         Polar  \n",
       "192             Europa  United Kingdom         Polar  \n",
       "190             Europa         Ukraine         Polar  \n",
       "68              Europa         Germany         Polar  \n",
       "146                NaN             NaN         Polar  \n",
       "85              Europa         Ireland         Polar  \n",
       "160             Europa        Slovenia         Polar  \n",
       "149             Europa         Romania         Polar  \n",
       "105             Europa      Luxembourg         Polar  "
      ]
     },
     "execution_count": 194,
     "metadata": {},
     "output_type": "execute_result"
    }
   ],
   "source": [
    "merged_df[mask]"
   ]
  },
  {
   "cell_type": "markdown",
   "id": "bab1ccc2-6242-43a5-9c41-57337fe11c93",
   "metadata": {},
   "source": [
    "## Anexo: Cómo Combinar dos Filtros/Máscaras Booleanas\n",
    "\n",
    "Se puede usar las operaciones `|` (or) y `&` and para combinar dos máscaras.\n",
    "\n",
    "- `|` simboliza un ó lógico.\n",
    "- `&` simboliza un y lógico."
   ]
  },
  {
   "cell_type": "code",
   "execution_count": 195,
   "id": "816c433b-806d-4746-a281-62dad7646d91",
   "metadata": {},
   "outputs": [
    {
     "data": {
      "text/plain": [
       "71      True\n",
       "32      True\n",
       "150     True\n",
       "119     True\n",
       "133     True\n",
       "       ...  \n",
       "114    False\n",
       "188    False\n",
       "155    False\n",
       "28     False\n",
       "111    False\n",
       "Name: Temp Quartile, Length: 198, dtype: bool"
      ]
     },
     "execution_count": 195,
     "metadata": {},
     "output_type": "execute_result"
    }
   ],
   "source": [
    "mask_2 = (merged_df[\"Temp Quartile\"] < \"Frio\") | (\n",
    "    merged_df[\"Temp Quartile\"] == \"Templado\"\n",
    ")\n",
    "mask_2"
   ]
  },
  {
   "cell_type": "code",
   "execution_count": 196,
   "id": "d26ef9b4-f9b5-47db-886d-59c8a6b09d6b",
   "metadata": {},
   "outputs": [
    {
     "data": {
      "text/html": [
       "<div>\n",
       "<style scoped>\n",
       "    .dataframe tbody tr th:only-of-type {\n",
       "        vertical-align: middle;\n",
       "    }\n",
       "\n",
       "    .dataframe tbody tr th {\n",
       "        vertical-align: top;\n",
       "    }\n",
       "\n",
       "    .dataframe thead th {\n",
       "        text-align: right;\n",
       "    }\n",
       "</style>\n",
       "<table border=\"1\" class=\"dataframe\">\n",
       "  <thead>\n",
       "    <tr style=\"text-align: right;\">\n",
       "      <th></th>\n",
       "      <th>Country</th>\n",
       "      <th>Mean temperature</th>\n",
       "      <th>Std temperature</th>\n",
       "      <th>Continent_Name</th>\n",
       "      <th>Country_Name</th>\n",
       "      <th>Temp Quartile</th>\n",
       "    </tr>\n",
       "  </thead>\n",
       "  <tbody>\n",
       "    <tr>\n",
       "      <th>71</th>\n",
       "      <td>Greenland</td>\n",
       "      <td>-17.072330</td>\n",
       "      <td>8.745566</td>\n",
       "      <td>América del Norte</td>\n",
       "      <td>Greenland</td>\n",
       "      <td>Polar</td>\n",
       "    </tr>\n",
       "    <tr>\n",
       "      <th>32</th>\n",
       "      <td>Canada</td>\n",
       "      <td>-5.963874</td>\n",
       "      <td>12.528132</td>\n",
       "      <td>América del Norte</td>\n",
       "      <td>Canada</td>\n",
       "      <td>Polar</td>\n",
       "    </tr>\n",
       "    <tr>\n",
       "      <th>150</th>\n",
       "      <td>Russia</td>\n",
       "      <td>-5.255763</td>\n",
       "      <td>14.663405</td>\n",
       "      <td>Europa</td>\n",
       "      <td>Russia</td>\n",
       "      <td>Polar</td>\n",
       "    </tr>\n",
       "    <tr>\n",
       "      <th>119</th>\n",
       "      <td>Mongolia</td>\n",
       "      <td>0.598241</td>\n",
       "      <td>13.699369</td>\n",
       "      <td>Asia</td>\n",
       "      <td>Mongolia</td>\n",
       "      <td>Polar</td>\n",
       "    </tr>\n",
       "    <tr>\n",
       "      <th>133</th>\n",
       "      <td>Norway</td>\n",
       "      <td>1.726860</td>\n",
       "      <td>7.287373</td>\n",
       "      <td>Europa</td>\n",
       "      <td>Norway</td>\n",
       "      <td>Polar</td>\n",
       "    </tr>\n",
       "    <tr>\n",
       "      <th>...</th>\n",
       "      <td>...</td>\n",
       "      <td>...</td>\n",
       "      <td>...</td>\n",
       "      <td>...</td>\n",
       "      <td>...</td>\n",
       "      <td>...</td>\n",
       "    </tr>\n",
       "    <tr>\n",
       "      <th>121</th>\n",
       "      <td>Mozambique</td>\n",
       "      <td>24.281818</td>\n",
       "      <td>2.410008</td>\n",
       "      <td>Africa</td>\n",
       "      <td>Mozambique</td>\n",
       "      <td>Templado</td>\n",
       "    </tr>\n",
       "    <tr>\n",
       "      <th>61</th>\n",
       "      <td>Fiji</td>\n",
       "      <td>24.325886</td>\n",
       "      <td>1.436607</td>\n",
       "      <td>NaN</td>\n",
       "      <td>NaN</td>\n",
       "      <td>Templado</td>\n",
       "    </tr>\n",
       "    <tr>\n",
       "      <th>54</th>\n",
       "      <td>ElSalvador</td>\n",
       "      <td>24.371996</td>\n",
       "      <td>1.016290</td>\n",
       "      <td>NaN</td>\n",
       "      <td>NaN</td>\n",
       "      <td>Templado</td>\n",
       "    </tr>\n",
       "    <tr>\n",
       "      <th>51</th>\n",
       "      <td>DominicanRepublic</td>\n",
       "      <td>24.483362</td>\n",
       "      <td>1.356441</td>\n",
       "      <td>NaN</td>\n",
       "      <td>NaN</td>\n",
       "      <td>Templado</td>\n",
       "    </tr>\n",
       "    <tr>\n",
       "      <th>47</th>\n",
       "      <td>Democratic Republic of Congo</td>\n",
       "      <td>24.537549</td>\n",
       "      <td>0.613208</td>\n",
       "      <td>NaN</td>\n",
       "      <td>NaN</td>\n",
       "      <td>Templado</td>\n",
       "    </tr>\n",
       "  </tbody>\n",
       "</table>\n",
       "<p>79 rows × 6 columns</p>\n",
       "</div>"
      ],
      "text/plain": [
       "                          Country  Mean temperature  Std temperature  \\\n",
       "71                      Greenland        -17.072330         8.745566   \n",
       "32                         Canada         -5.963874        12.528132   \n",
       "150                        Russia         -5.255763        14.663405   \n",
       "119                      Mongolia          0.598241        13.699369   \n",
       "133                        Norway          1.726860         7.287373   \n",
       "..                            ...               ...              ...   \n",
       "121                    Mozambique         24.281818         2.410008   \n",
       "61                           Fiji         24.325886         1.436607   \n",
       "54                     ElSalvador         24.371996         1.016290   \n",
       "51              DominicanRepublic         24.483362         1.356441   \n",
       "47   Democratic Republic of Congo         24.537549         0.613208   \n",
       "\n",
       "        Continent_Name Country_Name Temp Quartile  \n",
       "71   América del Norte    Greenland         Polar  \n",
       "32   América del Norte       Canada         Polar  \n",
       "150             Europa       Russia         Polar  \n",
       "119               Asia     Mongolia         Polar  \n",
       "133             Europa       Norway         Polar  \n",
       "..                 ...          ...           ...  \n",
       "121             Africa   Mozambique      Templado  \n",
       "61                 NaN          NaN      Templado  \n",
       "54                 NaN          NaN      Templado  \n",
       "51                 NaN          NaN      Templado  \n",
       "47                 NaN          NaN      Templado  \n",
       "\n",
       "[79 rows x 6 columns]"
      ]
     },
     "execution_count": 196,
     "metadata": {},
     "output_type": "execute_result"
    }
   ],
   "source": [
    "merged_df[mask_2]"
   ]
  }
 ],
 "metadata": {
  "kernelspec": {
   "display_name": "Python 3 (ipykernel)",
   "language": "python",
   "name": "python3"
  },
  "language_info": {
   "codemirror_mode": {
    "name": "ipython",
    "version": 3
   },
   "file_extension": ".py",
   "mimetype": "text/x-python",
   "name": "python",
   "nbconvert_exporter": "python",
   "pygments_lexer": "ipython3",
   "version": "3.9.16"
  },
  "toc": {
   "base_numbering": 1,
   "nav_menu": {},
   "number_sections": true,
   "sideBar": true,
   "skip_h1_title": true,
   "title_cell": "Table of Contents",
   "title_sidebar": "Contents",
   "toc_cell": true,
   "toc_position": {
    "height": "calc(100% - 180px)",
    "left": "10px",
    "top": "150px",
    "width": "274.833px"
   },
   "toc_section_display": true,
   "toc_window_display": false
  },
  "varInspector": {
   "cols": {
    "lenName": 16,
    "lenType": 16,
    "lenVar": 40
   },
   "kernels_config": {
    "python": {
     "delete_cmd_postfix": "",
     "delete_cmd_prefix": "del ",
     "library": "var_list.py",
     "varRefreshCmd": "print(var_dic_list())"
    },
    "r": {
     "delete_cmd_postfix": ") ",
     "delete_cmd_prefix": "rm(",
     "library": "var_list.r",
     "varRefreshCmd": "cat(var_dic_list()) "
    }
   },
   "types_to_exclude": [
    "module",
    "function",
    "builtin_function_or_method",
    "instance",
    "_Feature"
   ],
   "window_display": false
  }
 },
 "nbformat": 4,
 "nbformat_minor": 5
}
