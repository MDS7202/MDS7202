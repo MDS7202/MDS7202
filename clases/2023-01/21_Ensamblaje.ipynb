{
 "cells": [
  {
   "attachments": {},
   "cell_type": "markdown",
   "id": "e1e45e86",
   "metadata": {},
   "source": [
    "# Clase Extra 2 - Ensamblaje de Modelos"
   ]
  },
  {
   "attachments": {},
   "cell_type": "markdown",
   "id": "52573471",
   "metadata": {},
   "source": [
    "---\n",
    "\n",
    "## Ensamblaje de Modelos\n",
    "\n",
    "Es muy probable que para los problemas complejos, los clasificadores vistos anteriormente (KNN, Decision Trees, Bayes) no sean capaces de producir modelos lo suficientemente complejo como para resolverlos. \n",
    "\n",
    "Si bien el camino usual para resolver el problema de la complejidad es crear modelos de redes neuronales, estos por lo general requieren una gran cantidad de datos para generalizar correctamente. Por ende, si no se posee una mayor cantidad de datos, no siempre será la elección correcta.\n",
    "\n",
    "Una opción interesante para tener en cuenta es el de utilizar **ensamblaje de modelos**. \n",
    "\n",
    "Los modelos generados por ensamblaje no son otra variedad de modelos más complejos y distintos a los vistos anteriormente, si no que son frameworks para generar **meta-modelos**, que no son otra cosa que combinaciones de muchos modelos poco complejos y con poca precisión (*weak-learners*).\n",
    "La hipótesis principal de estos modelos es que la combinación de varios *weak-learners* poco precisos permite generar modelos mucho más complejos con la misma cantidad de datos.\n",
    "\n",
    "Los *weak learners* pueden ser entrenados con pocos datos y muy rápidamente; tal como caso de los árboles de decisión. \n",
    "La combinación de estos modelos poco complejos se hace a través de algún mecanismo de agregación/votación. \n",
    "\n",
    "\n",
    "\n",
    "Existen dos paradigmas de creación de modelos ensamblados: **Bagging y Boosting**."
   ]
  },
  {
   "attachments": {},
   "cell_type": "markdown",
   "id": "abd966f2",
   "metadata": {},
   "source": [
    "### Bagging (Bootstrap Aggregating)\n",
    "\n",
    "**Bagging** consiste en entrenar varios *weak learners* (ej, trees) usando distintos muestreos del dataset de entrenamiento y luego combinar los modelos entrenados.\n",
    "\n",
    "\n",
    "<br>\n",
    "\n",
    "<div align='center'>\n",
    "    <img src='https://github.com/MDS7202/MDS7202/blob/main/recursos/2023-01/21_Ensamblaje/ensemble_bagging.png?raw=true' width=800/>\n",
    "</div>\n",
    "\n",
    "<br>\n",
    "<div align='center'>\n",
    "    Fuente: <a href='https://en.wikipedia.org/wiki/Bootstrap_aggregating'>Boosting en Wikipedia</a>\n",
    "</div>\n",
    "<br>\n",
    "\n",
    "\n",
    "\n",
    "Un ejemplo clásico de este es `RandomForest`.\n",
    "Su funcionaimento es relativamente sencillo: \n",
    "\n",
    "Supongamos que se entrenarán $B$ ($B$ de bags) árboles de decisión y que cada arbol será entrenado con $n$ datos. Entonces,\n",
    "\n",
    "\n",
    "\n",
    "- Por cada $b=1,...B$:\n",
    "    - Obtenemos un subconjunto de entrenamiento con n elementos a través de un muestreo con reemplazo (*bootstrap*) sobre conjunto de entrenamiento original.\n",
    "    - Entrenamos un árbol de decisión para regresión o clasificación $f_b$ usando ese set.\n",
    "\n",
    "Luego, dado un ejemplo por predecir $x$, para obtener los valores de:\n",
    "\n",
    "- Una regresión se calcula: \n",
    "\n",
    "$$\\hat{y} = \\frac{1}{B}\\sum_{b=1}^{B}f_b(x)$$\n",
    "\n",
    "- Una clasificación, se retorna la clase con más votos. \n",
    "\n",
    "\n",
    "EL siguiente ejemplo consiste en un problema de detección de fraudes bancarios. \n",
    "Para mostrar el funcionamiento de Random Forest, evaluaremos la tarea anterior usando un modelo `DecisionTree` y compararemos el aumento de rendimiento usando luego un `RandomForest`"
   ]
  },
  {
   "attachments": {},
   "cell_type": "markdown",
   "id": "f395c9c5",
   "metadata": {},
   "source": [
    "## Credit Card Fraud\n",
    "\n",
    "El problema de esta clase consiste en, dados ciertos atributos preprocesados usando PCA (por lo que no sabemos que codifica cada dimensión), generar un clasificador que prediga si una fila representa o no un fraude bancario.\n",
    "\n",
    "La fuente de los datos la pueden encontrar en [creditcardfraud en Kaggle](https://www.kaggle.com/mlg-ulb/creditcardfraud)."
   ]
  },
  {
   "cell_type": "code",
   "execution_count": null,
   "id": "d012f489",
   "metadata": {},
   "outputs": [],
   "source": [
    "import pandas as pd\n",
    "\n",
    "df = pd.read_pickle('/Users/imezadelajara/Repositories/MDS7202/recursos/2023-01/21_Ensamblaje/creditcard.pickle')\n",
    "df = df.drop(columns=['Time'])\n",
    "df"
   ]
  },
  {
   "attachments": {},
   "cell_type": "markdown",
   "id": "bc22856e",
   "metadata": {},
   "source": [
    "#### Desablance de Clases\n",
    "\n",
    "Una de las cosas que pueden notar de este dataset es un tremendo desbalance de clases: 284315 no fraudes vs 492 fraudes!"
   ]
  },
  {
   "cell_type": "code",
   "execution_count": null,
   "id": "6db5fbf0",
   "metadata": {},
   "outputs": [],
   "source": [
    "# normalise the amount column\n",
    "features = df.drop(columns=['Class']) \n",
    "labels = df['Class']\n",
    "# as you can see there are 492 fraud transactions.\n",
    "labels.value_counts()"
   ]
  },
  {
   "cell_type": "code",
   "execution_count": null,
   "id": "67f6e576",
   "metadata": {},
   "outputs": [],
   "source": [
    "from sklearn.model_selection import train_test_split\n",
    "\n",
    "X_train, X_test, y_train, y_test = train_test_split(features,\n",
    "                                                    labels,\n",
    "                                                    shuffle=True, \n",
    "                                                    stratify=labels,\n",
    "                                                    test_size=0.3,\n",
    "                                                    random_state=10)"
   ]
  },
  {
   "attachments": {},
   "cell_type": "markdown",
   "id": "d8b448f0",
   "metadata": {},
   "source": [
    "#### Pipeline con DecisionTree"
   ]
  },
  {
   "cell_type": "code",
   "execution_count": null,
   "id": "7e23ae2c",
   "metadata": {},
   "outputs": [],
   "source": [
    "from sklearn.pipeline import Pipeline\n",
    "from sklearn.compose import ColumnTransformer\n",
    "\n",
    "from sklearn.tree import DecisionTreeClassifier\n",
    "from sklearn.ensemble import RandomForestClassifier\n",
    "from sklearn.preprocessing import StandardScaler\n",
    "\n",
    "from sklearn.metrics import classification_report, confusion_matrix\n",
    "\n",
    "# generar el pipeline\n",
    "pipe1 = Pipeline([('Preprocesamiento',\n",
    "                   ColumnTransformer([\n",
    "                       ('Scaler', StandardScaler(), ['Amount']),\n",
    "                   ],\n",
    "                                     remainder='passthrough')),\n",
    "                  ('Decision Tree', DecisionTreeClassifier(random_state=44))])\n",
    "\n",
    "# entrenar\n",
    "pipe1.fit(X_train, y_train.ravel())\n",
    "\n",
    "# predecir\n",
    "y_pred = pipe1.predict(X_test)\n",
    "\n",
    "# reporte de clasificación\n",
    "print('Matriz de confusión\\n')\n",
    "print(confusion_matrix(y_test, y_pred))\n",
    "print('\\nReporte de Clasificación\\n')\n",
    "print(classification_report(y_test, y_pred))"
   ]
  },
  {
   "attachments": {},
   "cell_type": "markdown",
   "id": "a67b1a42",
   "metadata": {},
   "source": [
    "#### Pipeline Con RandomForest"
   ]
  },
  {
   "cell_type": "code",
   "execution_count": null,
   "id": "a20ae364",
   "metadata": {},
   "outputs": [],
   "source": [
    "# generar el pipeline\n",
    "pipe2 = Pipeline(\n",
    "    [('Preprocesamiento', ColumnTransformer([\n",
    "        ('Scaler', StandardScaler() , ['Amount']),\n",
    "    ], remainder='passthrough')),\n",
    "     ('Random Forest', RandomForestClassifier(n_estimators=500, n_jobs=-1, random_state=44))\n",
    "    ])\n",
    "\n",
    "# entrenar\n",
    "pipe2.fit(X_train, y_train.ravel())\n",
    " \n",
    "# predecir\n",
    "y_pred = pipe2.predict(X_test)\n",
    "\n",
    "# reporte de clasificación\n",
    "print('Matriz de confusión\\n')\n",
    "print(confusion_matrix(y_test, y_pred))\n",
    "print('\\nReporte de Clasificación\\n')\n",
    "print(classification_report(y_test, y_pred))"
   ]
  },
  {
   "attachments": {},
   "cell_type": "markdown",
   "id": "e51fbe9c",
   "metadata": {},
   "source": [
    "Como se puede ver, `RandomForest` incremento en la precisión y recall de la clase 1 con respecto al `DecisionTree`"
   ]
  },
  {
   "attachments": {},
   "cell_type": "markdown",
   "id": "8086ea50",
   "metadata": {},
   "source": [
    "### Boosting\n",
    "\n",
    "El segundo enfoque para crear modelos ensamblados es Boosting. En este caso, cada modelo se entrena con todos los datos, pero los modelos se entrenan de forma iterativa de tal forma que los modelos siguientes intentan corregir los errores de los modelos anteriores.\n",
    "\n",
    "<br>\n",
    "\n",
    "<div align='center'>\n",
    "    <img src='https://github.com/MDS7202/MDS7202/blob/main/recursos/2023-01/21_Ensamblaje/ensemble_boosting.png?raw=true' width=800/>\n",
    "</div>\n",
    "\n",
    "<br>\n",
    "<div align='center'>\n",
    "    Fuente: <a href='https://en.wikipedia.org/wiki/Boosting_(machine_learning)'>Boosting en Wikipedia</a>\n",
    "</div>\n",
    "<br>\n",
    "\n",
    "La idea, en términos simples, es que los primeros modelos predigan bien los casos más generales, mientras que los modelos más profundos se encarguen de predecir los casos más particulares y dificiles.\n",
    "\n",
    "\n",
    "\n",
    "El modelo ensamblado final será una combinación de los modelos creados en el proceso iterativo. Uno de los algoritmos más populares para crear este tipo de modelos es `GradientBoosting` (usaremos `HistGradientBoostingClassifier`, una implementación mucho más rápida en el ejemplo). Una explicación de su idea principal viene a continuación.\n",
    "\n",
    "\n",
    "Dada $M$ iteraciones, el algoritmo para generar un modelo para regresión es:\n",
    "\n",
    "- Comenzamos con un modelo constante $f = f_0$\n",
    "- Luego, por cada label $i=1,\\dots,N$, la transformamos a $\\hat{y}_i \\leftarrow y_i - f(x_i)$. $\\hat{y}_i$ es llamado residual y su conjunto se transforma en las nuevas labels de $x$.\n",
    "- Ahora, entrenamos un nuevo modelo (tree) $f_1$ y redefinimos $f = f_0 + \\alpha f_1$. $\\alpha$ es conocido como learning rate.\n",
    "- Computamos nuevamente los residuales y calculamos un nuevo modelo $f_2$. Luego, fijamos el modelo predictivo como $f = f_0 + \\alpha f_1 + \\alpha f_2$.\n",
    "- Repetimos hasta que se cumplan $M$ iteraciones.\n",
    "\n",
    "\n",
    "La idea general es que en cada iteración los residuales más cercanos a 0 son los que se están clasificando correctamente mientras que los residuales con valores más altos son mal predichos se espera que se vayan corrigiendo en los modelos más profundos hasta alcanzar el modelo $M$.\n",
    "\n",
    "El caso de la clasificación es un poco más complejo y utiliza modelos de Regresión Logística para lograrlo. Queda propuesta su profundización."
   ]
  },
  {
   "attachments": {},
   "cell_type": "markdown",
   "id": "0062dff7",
   "metadata": {},
   "source": [
    "#### Pipeline con GradientBoosting"
   ]
  },
  {
   "cell_type": "code",
   "execution_count": null,
   "id": "4a3d4477",
   "metadata": {},
   "outputs": [],
   "source": [
    "from sklearn.ensemble import HistGradientBoostingClassifier\n",
    "\n",
    "# generar el pipeline\n",
    "pipe3 = Pipeline(\n",
    "    [('Preprocesamiento', ColumnTransformer([\n",
    "        ('Scaler', StandardScaler() , ['Amount']),\n",
    "    ], remainder='passthrough')),\n",
    "     ('HistGradientBoostingClassifier', HistGradientBoostingClassifier(\n",
    "         random_state=44, \n",
    "         l2_regularization=10, \n",
    "         max_depth=15,\n",
    "         max_iter=1000))\n",
    "    ])\n",
    "\n",
    "# entrenar\n",
    "pipe3.fit(X_train, y_train.ravel())\n",
    " \n",
    "# predecir\n",
    "y_pred = pipe3.predict(X_test)\n",
    "\n",
    "# reporte de clasificación\n",
    "print('Matriz de confusión\\n')\n",
    "print(confusion_matrix(y_test, y_pred))\n",
    "print('\\nReporte de Clasificación\\n')\n",
    "print(classification_report(y_test, y_pred))"
   ]
  },
  {
   "attachments": {},
   "cell_type": "markdown",
   "id": "6ecbfbd4",
   "metadata": {},
   "source": [
    "Nuevamente vemos mejores resultados en este tipo de clasificador con respecto al árbol básico. \n",
    "\n",
    "\n",
    "En general, Gradient Boosting puede ser más poderoso que los basados en bagging, pero si entrenamiento de caracter secuencial puede hacelo mucho más lento."
   ]
  },
  {
   "attachments": {},
   "cell_type": "markdown",
   "id": "23ae6000",
   "metadata": {},
   "source": [
    "**Referencias**\n",
    "\n",
    "\n",
    "- [1] The Hundred-Page Machine Learning Book, Andriy Burkov. Artículo 7.5"
   ]
  }
 ],
 "metadata": {
  "kernelspec": {
   "display_name": "Python 3 (ipykernel)",
   "language": "python",
   "name": "python3"
  },
  "language_info": {
   "codemirror_mode": {
    "name": "ipython",
    "version": 3
   },
   "file_extension": ".py",
   "mimetype": "text/x-python",
   "name": "python",
   "nbconvert_exporter": "python",
   "pygments_lexer": "ipython3",
   "version": "3.10.9"
  },
  "toc": {
   "base_numbering": 1,
   "nav_menu": {},
   "number_sections": true,
   "sideBar": true,
   "skip_h1_title": true,
   "title_cell": "Table of Contents",
   "title_sidebar": "Contents",
   "toc_cell": false,
   "toc_position": {},
   "toc_section_display": true,
   "toc_window_display": false
  }
 },
 "nbformat": 4,
 "nbformat_minor": 5
}
