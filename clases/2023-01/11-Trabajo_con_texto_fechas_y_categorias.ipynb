{
 "cells": [
  {
   "cell_type": "markdown",
   "id": "e6df64c8-870f-413c-a44c-7aaec6147da9",
   "metadata": {},
   "source": [
    "# Clase 11: Trabajo con texto, fechas y categorías\n",
    "\n",
    "**MDS7202: Laboratorio de Programación Científica para Ciencia de Datos**"
   ]
  },
  {
   "cell_type": "markdown",
   "id": "9327f25f",
   "metadata": {
    "tags": []
   },
   "source": [
    "## Objetivos\n",
    "\n",
    "- Comprender el cómo manipular y analizar de manera eficiente texto, fechas y categorías y efectiva t con Pandas."
   ]
  },
  {
   "cell_type": "code",
   "execution_count": null,
   "id": "1dcf9355",
   "metadata": {},
   "outputs": [],
   "source": [
    "import pandas as pd"
   ]
  },
  {
   "cell_type": "markdown",
   "id": "fa11886b-f0a5-44d7-8feb-aa74b59e8258",
   "metadata": {},
   "source": [
    "## Datasets de Hoy\n"
   ]
  },
  {
   "cell_type": "code",
   "execution_count": null,
   "id": "12a20681-022d-4bf7-9696-0cfc34979d6e",
   "metadata": {},
   "outputs": [],
   "source": [
    "# setear opciones para mostrar todas las filas y columnas\n",
    "# cuidado al ejecutar esto en sus notebooks, se puede quedar pegado el navegador!\n",
    "pd.set_option(\"display.max_colwidth\", None)\n",
    "pd.set_option(\"display.max_colwidth\", None)"
   ]
  },
  {
   "cell_type": "markdown",
   "id": "2c123865-d443-4f5a-8ca9-1fc95c8adf05",
   "metadata": {},
   "source": [
    "## 1.- Strings\n",
    "\n",
    "### Motivación\n",
    "\n",
    "<div align='center'>\n",
    "<img src='https://raw.githubusercontent.com/MDS7202/MDS7202/main/recursos/2023-01/11-Pandas4/pets.jpg' alt='Mascotas' width=600/>\n",
    "</div>\n",
    "\n",
    "Supongamos que poseemos un dataset generado a partir de [_web scrapping_](https://es.wikipedia.org/wiki/Web_scraping) que contiene el nombre de una mascota más el resumen (_abstract_) de la página asociada a estos en Wikipedia.\n"
   ]
  },
  {
   "cell_type": "code",
   "execution_count": null,
   "id": "78705029-f252-45a5-b9cf-3994f06ce16f",
   "metadata": {},
   "outputs": [],
   "source": [
    "mascotas = [\n",
    "    [\n",
    "        \"Perro\",\n",
    "        \"  El perro (Canis familiaris o Canis lupus familiaris, dependiendo de si \"\n",
    "        \"se lo considera una especie por derecho propio o una subespecie del \"\n",
    "        \"lobo),1​2​3​ llamado perro doméstico o can,4​ y en algunos lugares\"\n",
    "        \" coloquialmente llamado chucho,5​ tuso,6​ choco,7​ entre otros; es un \"\n",
    "        \"mamífero carnívoro de la familia de los cánidos, que constituye \"\n",
    "        \"una especie del género Canis.8​9​. Posee un oído y un olfato muy \"\n",
    "        \"desarrollados, y este último es su principal órgano sensorial.  \\n\"\n",
    "        ],\n",
    "    [\n",
    "        \"Gato\",\n",
    "        \"  El gato doméstico1​2​ (Felis silvestris catus), llamado popularmente \"\n",
    "        \"gato, y de forma coloquial minino,3​ michino,4​ michi,5​ micho,\"\n",
    "        \"6​ mizo,7​ miz,8​ morroño9​ o morrongo,10​ entre otros nombres, es \"\n",
    "        \"un mamífero carnívoro de la familia Felidae. Es una subespecie \"\n",
    "        \"domesticada por la convivencia con el ser humano.  \\n\"\n",
    "    ],\n",
    "    [\n",
    "        \"Canario\",\n",
    "        \"  El canario doméstico (Serinus canaria domestica)3​4​ es una \"\n",
    "        \"subespecie desarrollada durante siglos de selección en cautividad \"\n",
    "        \"partiendo de ejemplares del canario silvestre o canario salvaje \"\n",
    "        \"(Serinus canaria), una especie de ave del orden paseriforme de \"\n",
    "        \"la familia de los fringílidos, endémica de las islas Canarias, \"\n",
    "        \"Azores y Madeira.5​6​   \\n\"\n",
    "    ],\n",
    "]\n",
    "df_mascotas = pd.DataFrame(mascotas, columns=[\"nombre\", \"resumen\"])\n",
    "df_mascotas"
   ]
  },
  {
   "cell_type": "markdown",
   "id": "c2ed65f7-474d-400e-877d-2e40ffd43be4",
   "metadata": {},
   "source": [
    "Notemos qué sucede al acceder al resumen del Perro."
   ]
  },
  {
   "cell_type": "code",
   "execution_count": null,
   "id": "77939c0c-ed30-46cf-bcd2-ab9a7ca6cff5",
   "metadata": {},
   "outputs": [],
   "source": [
    "resumen_perro = df_mascotas.loc[0, \"resumen\"]\n",
    "resumen_perro"
   ]
  },
  {
   "cell_type": "markdown",
   "id": "9a248158-e72d-428e-8c0f-7195c7f03042",
   "metadata": {},
   "source": [
    "> **Pregunta ❓**: ¿Qué representa el símbolo `\\n`?"
   ]
  },
  {
   "cell_type": "markdown",
   "id": "b1aeff83-dcde-4f54-bd9d-b09522c4d2e3",
   "metadata": {},
   "source": [
    "> **Pregunta ❓:** ¿Podemos utilizar directamente el texto tal cuál está, por ejemplo, para hacer un buscador? ¿Qué poemos hacer al respecto?"
   ]
  },
  {
   "cell_type": "markdown",
   "id": "cabf8b6a",
   "metadata": {},
   "source": [
    "En muchas ocasiones, los conjuntos de datos que se utilizan en análisis de datos incluyen una columna que contiene texto. Sin embargo, este texto no siempre está listo para ser utilizado directamente, ya que puede presentarse de manera desordenada y con errores. Por esta razón, es de suma importancia aprender a preprocesar el texto antes de utilizarlo en análisis posteriores.\n",
    "\n",
    "\n",
    "Las `Series` de pandas implementan diversos métodos de procesamiento de string que permiten operar facilmente con estos. Por lo general, estos métodos son una réplica de los métodos originales de la clase built-in `string`, los cuales veremos a continuación:"
   ]
  },
  {
   "cell_type": "markdown",
   "id": "388719ff",
   "metadata": {},
   "source": [
    "### Métodos de la Clase String\n",
    "\n",
    "Python cuenta con una variedad de métodos built-in para procesar strings. Algunos de los métodos más comunes son:"
   ]
  },
  {
   "cell_type": "code",
   "execution_count": null,
   "id": "c4814288-36f1-495b-93f8-072b7beb5c3f",
   "metadata": {},
   "outputs": [],
   "source": [
    "resumen_perro"
   ]
  },
  {
   "cell_type": "markdown",
   "id": "5f0b2808-5b49-4629-9430-c505dba344e0",
   "metadata": {},
   "source": [
    "#### `len`\n",
    "\n",
    "Devuelve la longitud de una cadena de caracteres"
   ]
  },
  {
   "cell_type": "code",
   "execution_count": null,
   "id": "95e61cff",
   "metadata": {},
   "outputs": [],
   "source": [
    "len(resumen_perro)"
   ]
  },
  {
   "cell_type": "markdown",
   "id": "90ed8e60-6ae3-4bfe-9e9b-08226b165400",
   "metadata": {},
   "source": [
    "#### `.lower`\n",
    "\n",
    "Convierte todos los caracteres de un string a minúsculas."
   ]
  },
  {
   "cell_type": "code",
   "execution_count": null,
   "id": "b97db599",
   "metadata": {},
   "outputs": [],
   "source": [
    "resumen_perro.lower()"
   ]
  },
  {
   "cell_type": "markdown",
   "id": "35fca92c-98e5-4f21-9d6b-d1fcf817e77a",
   "metadata": {},
   "source": [
    "#### `.upper()`\n",
    "\n",
    "Convierte todos los caracteres de un string a mayúsculas."
   ]
  },
  {
   "cell_type": "code",
   "execution_count": null,
   "id": "c7a687ee",
   "metadata": {},
   "outputs": [],
   "source": [
    "resumen_perro.upper()"
   ]
  },
  {
   "cell_type": "markdown",
   "id": "32a42e0b-12b7-4d06-9247-4d8d89224495",
   "metadata": {},
   "source": [
    "#### `.title()`\n",
    "\n",
    "title(): Convierte la primera letra de cada palabra de una cadena en mayúscula."
   ]
  },
  {
   "cell_type": "code",
   "execution_count": null,
   "id": "0e0ff0b4",
   "metadata": {},
   "outputs": [],
   "source": [
    "resumen_perro.title()"
   ]
  },
  {
   "cell_type": "markdown",
   "id": "f2d79890-aaa9-456a-a0ed-de1ee75e84b4",
   "metadata": {},
   "source": [
    "#### `.capitalize()`\n",
    "\n",
    "capitalize(): Convierte la primera letra de una cadena en mayúscula."
   ]
  },
  {
   "cell_type": "code",
   "execution_count": null,
   "id": "6ea4da95-1237-4525-bb6d-f2bd8bdc15d0",
   "metadata": {},
   "outputs": [],
   "source": [
    "resumen_perro.capitalize()"
   ]
  },
  {
   "cell_type": "markdown",
   "id": "2ca4dec8-3f15-4a93-ba84-e9c98c00105c",
   "metadata": {},
   "source": [
    "#### `.strip()`\n",
    "\n",
    "Elimina los espacios en blanco al principio y al final de una cadena."
   ]
  },
  {
   "cell_type": "code",
   "execution_count": null,
   "id": "ed0a29a5-81b3-467f-8d68-7fa26deda49c",
   "metadata": {},
   "outputs": [],
   "source": [
    "resumen_perro"
   ]
  },
  {
   "cell_type": "code",
   "execution_count": null,
   "id": "1dac88bd-33b6-4f38-b04b-feb49bb0302c",
   "metadata": {},
   "outputs": [],
   "source": [
    "resumen_perro.strip()"
   ]
  },
  {
   "cell_type": "markdown",
   "id": "0c46a0f4-ea63-4175-b135-4b397a243dab",
   "metadata": {},
   "source": [
    "#### `.split()`\n",
    "\n",
    "Divide una cadena en una lista de substrings, utilizando un string (habitualmente `\" \"`) como separador."
   ]
  },
  {
   "cell_type": "code",
   "execution_count": null,
   "id": "b730510b-e874-478d-8f30-47fc3a846e5b",
   "metadata": {},
   "outputs": [],
   "source": [
    "resumen_perro"
   ]
  },
  {
   "cell_type": "code",
   "execution_count": null,
   "id": "0c6f6d83",
   "metadata": {},
   "outputs": [],
   "source": [
    "resumen_perro.split(\" \")"
   ]
  },
  {
   "cell_type": "code",
   "execution_count": null,
   "id": "f1a5b199-3de1-4814-90fd-cca8aa35fe3c",
   "metadata": {},
   "outputs": [],
   "source": [
    "resumen_perro"
   ]
  },
  {
   "cell_type": "markdown",
   "id": "e4863d74-b250-4cc0-9b01-0917ba85d98a",
   "metadata": {},
   "source": [
    "> **Pregunta: ❓**: ¿Cómo podría separar oraciones?"
   ]
  },
  {
   "cell_type": "code",
   "execution_count": null,
   "id": "ab4d45c4-a8f7-47d1-839d-c996a194ab29",
   "metadata": {},
   "outputs": [],
   "source": [
    "oraciones_divididas = resumen_perro.split(\".\")"
   ]
  },
  {
   "cell_type": "code",
   "execution_count": null,
   "id": "0a20ab59-6fa5-4fd4-9025-55c36df1490f",
   "metadata": {},
   "outputs": [],
   "source": [
    "for oracion in oraciones_divididas:\n",
    "    print(oracion.strip().capitalize(), '\\n')"
   ]
  },
  {
   "cell_type": "markdown",
   "id": "1d02613d-a36f-4d92-9b25-06ac0e79e9ca",
   "metadata": {},
   "source": [
    "#### `join(\"\")`\n",
    "\n",
    "Une una lista de strings en un único string según algún separador (comunmente un espacio `\" \"`, punto `\".\"` o salto e linea `\"\\n\"`)."
   ]
  },
  {
   "cell_type": "code",
   "execution_count": null,
   "id": "fa3f7ef8",
   "metadata": {},
   "outputs": [],
   "source": [
    "\"-\".join(oraciones_divididas)"
   ]
  },
  {
   "cell_type": "markdown",
   "id": "b58d5a27-efe9-464a-8560-686ece58e100",
   "metadata": {},
   "source": [
    "#### `str1 in str2`\n",
    "\n",
    "Devuelve True si un substring está presente en un string."
   ]
  },
  {
   "cell_type": "code",
   "execution_count": null,
   "id": "8b08012a-0ad5-4e6a-b64a-1d447501b683",
   "metadata": {},
   "outputs": [],
   "source": [
    "resumen_perro"
   ]
  },
  {
   "cell_type": "code",
   "execution_count": null,
   "id": "4d4843eb",
   "metadata": {},
   "outputs": [],
   "source": [
    "\"perro\" in resumen_perro"
   ]
  },
  {
   "cell_type": "code",
   "execution_count": null,
   "id": "e298012d",
   "metadata": {},
   "outputs": [],
   "source": [
    "\"gato\" in resumen_perro"
   ]
  },
  {
   "cell_type": "markdown",
   "id": "0a3bfe8e-2482-4969-a6cf-4b577d660828",
   "metadata": {},
   "source": [
    "#### `.replace()`\n",
    "\n",
    "Reemplaza un substring con otro en una string."
   ]
  },
  {
   "cell_type": "code",
   "execution_count": null,
   "id": "786f7abb-259f-4236-9cb9-9b065574c996",
   "metadata": {},
   "outputs": [],
   "source": [
    "# por ejemplo, eliminar la palabra perro.\n",
    "\n",
    "resumen_perro.replace(\"perro\", \"\")"
   ]
  },
  {
   "cell_type": "code",
   "execution_count": null,
   "id": "94408d16-2eb1-489f-b7b8-1fc9202dc10e",
   "metadata": {},
   "outputs": [],
   "source": [
    "# notar que es sensible a mayúsculas.\n",
    "resumen_perro.replace(\"Perro\", \"\")"
   ]
  },
  {
   "cell_type": "code",
   "execution_count": null,
   "id": "615dacc3-a26c-49cd-abd6-4978359b301b",
   "metadata": {},
   "outputs": [],
   "source": [
    "resumen_perro.replace(\"perro\", \"gato\")"
   ]
  },
  {
   "cell_type": "markdown",
   "id": "6d9834dc",
   "metadata": {},
   "source": [
    "### Strings en pandas\n",
    "\n",
    "La mayoría de los métodos de procesamiento de strings que se vieron anteriormente pueden ser ejecutados a través del atributo `.str` en las series de Pandas.\n",
    "\n",
    "La idea detrás del uso de los métodos de .str es que el preprocesamiento se haga de manera ordenada y eficiente. Al utilizar estos métodos, los usuarios pueden aplicar una variedad de transformaciones a sus datos de texto en una sola línea de código, lo que facilita el procesamiento de grandes conjuntos de datos de texto."
   ]
  },
  {
   "cell_type": "code",
   "execution_count": null,
   "id": "42ae6c01-3014-4417-ab55-514e3f492c55",
   "metadata": {},
   "outputs": [],
   "source": [
    "df_mascotas"
   ]
  },
  {
   "cell_type": "code",
   "execution_count": null,
   "id": "78d21062",
   "metadata": {},
   "outputs": [],
   "source": [
    "df_mascotas.loc[:, \"resumen\"]"
   ]
  },
  {
   "cell_type": "markdown",
   "id": "f15e4c15",
   "metadata": {},
   "source": [
    "#### Len, Lower, Upper, Title y Capitalize"
   ]
  },
  {
   "cell_type": "code",
   "execution_count": null,
   "id": "8d9ff791-3a0b-490c-a237-012323d90ae1",
   "metadata": {},
   "outputs": [],
   "source": [
    "df_mascotas.loc[:, \"resumen\"].str"
   ]
  },
  {
   "cell_type": "code",
   "execution_count": null,
   "id": "73d97536",
   "metadata": {},
   "outputs": [],
   "source": [
    "df_mascotas.loc[:, \"resumen\"].str.len()"
   ]
  },
  {
   "cell_type": "code",
   "execution_count": null,
   "id": "11fdef32",
   "metadata": {},
   "outputs": [],
   "source": [
    "df_mascotas.loc[:, \"resumen\"].str.lower()"
   ]
  },
  {
   "cell_type": "code",
   "execution_count": null,
   "id": "f657a04d",
   "metadata": {},
   "outputs": [],
   "source": [
    "df_mascotas.loc[:, \"resumen\"].str.upper()"
   ]
  },
  {
   "cell_type": "code",
   "execution_count": null,
   "id": "c94f097b",
   "metadata": {},
   "outputs": [],
   "source": [
    "df_mascotas.loc[:, \"resumen\"].str.title()"
   ]
  },
  {
   "cell_type": "code",
   "execution_count": null,
   "id": "eae9a001",
   "metadata": {},
   "outputs": [],
   "source": [
    "df_mascotas.loc[:, \"resumen\"].str.capitalize()"
   ]
  },
  {
   "cell_type": "markdown",
   "id": "432ca609",
   "metadata": {},
   "source": [
    "#### Contains, Split y Join\n",
    "\n",
    "\n",
    "> **Nota: 🗒️**: `.contains` reemplaza al operador `.in`"
   ]
  },
  {
   "cell_type": "code",
   "execution_count": null,
   "id": "dfa6cde7",
   "metadata": {},
   "outputs": [],
   "source": [
    "df_mascotas.loc[:, \"resumen\"].str.contains(\"perro\")"
   ]
  },
  {
   "cell_type": "code",
   "execution_count": null,
   "id": "e16db4ef",
   "metadata": {},
   "outputs": [],
   "source": [
    "df_mascotas.loc[:, \"resumen\"].str.contains(\"gato\")"
   ]
  },
  {
   "cell_type": "code",
   "execution_count": null,
   "id": "8791410b",
   "metadata": {},
   "outputs": [],
   "source": [
    "df_mascotas.loc[:, \"resumen\"].str.split(\" \")"
   ]
  },
  {
   "cell_type": "code",
   "execution_count": null,
   "id": "26faa609",
   "metadata": {},
   "outputs": [],
   "source": [
    "df_mascotas.loc[:, \"resumen\"].str.split(\" \").str.join(\"|\")"
   ]
  },
  {
   "cell_type": "markdown",
   "id": "d33bec55",
   "metadata": {},
   "source": [
    "#### Replace"
   ]
  },
  {
   "cell_type": "code",
   "execution_count": null,
   "id": "814d624c-d65c-4893-a8dc-372face40283",
   "metadata": {},
   "outputs": [],
   "source": [
    "df_mascotas.loc[:, \"resumen\"]"
   ]
  },
  {
   "cell_type": "code",
   "execution_count": null,
   "id": "3a46de96",
   "metadata": {},
   "outputs": [],
   "source": [
    "(\n",
    "    df_mascotas.loc[:, \"resumen\"]\n",
    "    .str.replace(\"(\", \"\", regex=False)\n",
    "    .str.replace(\")\", \"\", regex=False)\n",
    ")"
   ]
  },
  {
   "cell_type": "markdown",
   "id": "0def7991-4c4d-4b73-95cf-733ef0a5b2f2",
   "metadata": {},
   "source": [
    "> **Pregunta ❓:** ¿Qué indica el parámetro `regex`?"
   ]
  },
  {
   "cell_type": "markdown",
   "id": "d5c46509",
   "metadata": {},
   "source": [
    "#### Expresiones Regulares\n",
    "\n",
    "Las expresiones regulares son una herramienta de búsqueda y manipulación de texto que permiten encontrar patrones específicos en una cadena de caracteres.\n",
    "\n",
    "Una expresión regular es una secuencia de caracteres que define un patrón de búsqueda. Los patrones pueden incluir caracteres específicos, combinaciones de caracteres, grupos de caracteres y operadores especiales que permiten hacer coincidir patrones complejos en el texto.\n",
    "\n",
    "Aunque pueden parecer complicadas al principio, las expresiones regulares son una herramienta muy poderosa ya que pueden ser aplicadas en una amplia variedad de tareas de procesamiento de texto.\n",
    "\n",
    "\n",
    "- Tutorial de regex: https://www.programiz.com/python-programming/regex\n",
    "- Playground para probar regex online: https://regex101.com/"
   ]
  },
  {
   "cell_type": "markdown",
   "id": "2aba5797-6ea9-4e4f-bd9c-60b0e08f348e",
   "metadata": {},
   "source": [
    "##### Sintaxis y reglas básicas\n",
    "\n",
    "1. Usa caracteres literales para representar las letras y números que deseas buscar. Por ejemplo, la expresión regular `abc` buscará la cadena de texto `\"abc\"`.\n",
    "2. Utiliza caracteres especiales para representar patrones de búsqueda más complejos. Por ejemplo, el carácter especial `\".\"` representa cualquier carácter, y el carácter especial `\"^\"` representa el inicio de una línea.\n",
    "3. Utiliza corchetes para definir un conjunto de caracteres que deseas buscar. Por ejemplo, [abc] buscará cualquiera de los caracteres `\"a\"`, `\"b\"` o `\"c\"`.\n",
    "4. Utiliza caracteres especiales como `*` o `+` para representar repeticiones de caracteres o patrones. Por ejemplo, `a*` buscará cero o más repeticiones de la letra `\"a\"` como `\"\"`, `\"a\"`, `\"aa\"`, etc...; `a+` en cambio aceptará `\"a\"`, `\"aa\"`, etc...\n",
    "5. Utiliza paréntesis para agrupar patrones y aplicar operadores a grupos de caracteres. Por ejemplo, `(abc)+` buscará una o más repeticiones de la cadena `\"abc\"`.\n",
    "6. Utiliza el carácter especial `\\` para escapar caracteres especiales (o sea, para tratar a *, +, [, ], etc... como texto) y tratarlos como caracteres literales. Por ejemplo, `\\.com` buscará el texto `\".com\"`.\n",
    "7. Utiliza el símbolo `^` para indicar que lo que se busca está al inicio de la línea, y el símbolo `$` para indica que lo que se busca el final de la línea. \n",
    "8. Uitiliza `\\s+` para encontrar todos los espacios, `[0-9]` para buscar los dígitos (`[0-9]+` para uno o más de un dígito) y `[a-zA-Z]` para encontrar letras (`[a-zA-Z]+` para uno o más de una letra)."
   ]
  },
  {
   "cell_type": "code",
   "execution_count": null,
   "id": "72893cfe",
   "metadata": {},
   "outputs": [],
   "source": [
    "# sintaxis regex\n",
    "\n",
    "# en este caso se eliminan todas las comas\n",
    "df_mascotas.loc[:, \"resumen\"].str.replace(\",\", \"\", regex=True).values"
   ]
  },
  {
   "cell_type": "code",
   "execution_count": null,
   "id": "a08de00f-3348-438c-86c8-b7d687ed438e",
   "metadata": {},
   "outputs": [],
   "source": [
    "# en este caso se eliminan todas las comas y los punto y coma.\n",
    "# agregamos más de un caracter por eliminar usando []\n",
    "df_mascotas.loc[:, \"resumen\"].str.replace(\"[,;]\", \"\", regex=True).values"
   ]
  },
  {
   "cell_type": "code",
   "execution_count": null,
   "id": "7a4f0b68-94cc-41e0-8920-3e1c6149bfc4",
   "metadata": {},
   "outputs": [],
   "source": [
    "# en este caso se eliminan todas las comas y los punto y coma y los puntos\n",
    "# notar que el punto hay que escribirlo con un slash inverso \\: \\.\n",
    "df_mascotas.loc[:, \"resumen\"].str.replace(\"[,;\\.]\", \"\", regex=True).values"
   ]
  },
  {
   "cell_type": "code",
   "execution_count": null,
   "id": "c66b03c2-f2fa-4d99-a016-dae36990002f",
   "metadata": {},
   "outputs": [],
   "source": [
    "# mismo caso para los paréntesis ( y ) y corchetes [, ]: hay que agregar \\.\n",
    "df_mascotas.loc[:, \"resumen\"].str.replace(\"[,;\\.\\(\\)\\[\\]\\d]\", \"\", regex=True).values"
   ]
  },
  {
   "cell_type": "code",
   "execution_count": null,
   "id": "1ee089bc",
   "metadata": {
    "scrolled": true,
    "tags": []
   },
   "outputs": [],
   "source": [
    "# \\d indica que se eliminarán todos todos los dígitos\n",
    "\n",
    "df_mascotas.loc[:, \"resumen\"].str.replace(\"\\d\", \"\", regex=True)"
   ]
  },
  {
   "cell_type": "code",
   "execution_count": null,
   "id": "33a5bbeb-64c9-4c4d-b2b9-0327c91896d7",
   "metadata": {},
   "outputs": [],
   "source": [
    "# todo junto:\n",
    "df_mascotas.loc[:, \"resumen\"].str.replace(\"[,;\\.\\(\\)\\[\\]\\d]\", \"\", regex=True).values"
   ]
  },
  {
   "cell_type": "markdown",
   "id": "e9bac8ea-9ff9-4797-942c-bf4e7262af6c",
   "metadata": {},
   "source": [
    "> **Pregunta ❓**: ¿Según las reglas que vimos anteriormente, habría una forma más rápida de limpiar un string?"
   ]
  },
  {
   "cell_type": "code",
   "execution_count": null,
   "id": "bb6e0787-7ca0-4cc3-baae-57f247d4102d",
   "metadata": {},
   "outputs": [],
   "source": [
    "df_mascotas.loc[:, \"resumen\"].str.replace(\"[^A-Za-z]+\", \" \", regex=True).values"
   ]
  },
  {
   "cell_type": "code",
   "execution_count": null,
   "id": "248d02c4-a41a-40cd-ad85-a7311c62786d",
   "metadata": {},
   "outputs": [],
   "source": [
    "df_mascotas.loc[:, \"resumen\"].str.replace(\"\\b[^\\W]+\\b\", \" \", regex=True).values"
   ]
  },
  {
   "cell_type": "markdown",
   "id": "f29fc1e3-a128-492c-8a0b-156f45ca7447",
   "metadata": {},
   "source": [
    " > Nota: \n",
    "\n",
    "- `\\W` para buscar todas las palabras que no contienen caracteres que no sean letras ni números, incluyendo letras con acento. \n",
    "- `\\b` se utiliza para indicar que la expresión regular debe buscar palabras completas, es decir, que no se debe incluir ninguna letra o número antes o después de la palabra."
   ]
  },
  {
   "cell_type": "markdown",
   "id": "a107b3ff",
   "metadata": {},
   "source": [
    "### Paréntesis: Método `apply`\n",
    "\n",
    "El método apply de Pandas se utiliza para aplicar una función a una columna o fila de un DataFrame. La función que se va a aplicar puede ser una función integrada de Python, una función definida por el usuario o una función lambda."
   ]
  },
  {
   "cell_type": "code",
   "execution_count": null,
   "id": "158e6ccf-9490-46d3-9e22-4054eaea30f9",
   "metadata": {},
   "outputs": [],
   "source": [
    "df_mascotas.loc[:, \"resumen\"]"
   ]
  },
  {
   "cell_type": "code",
   "execution_count": null,
   "id": "dd1930e0",
   "metadata": {
    "scrolled": true
   },
   "outputs": [],
   "source": [
    "def is_gato_in(value):\n",
    "    if \"gato\" in value:\n",
    "        return True\n",
    "    else:\n",
    "        return False\n",
    "\n",
    "df_mascotas.loc[:, \"resumen\"].apply(is_gato_in)"
   ]
  },
  {
   "cell_type": "code",
   "execution_count": null,
   "id": "dd7c52bb-d39e-443e-8af3-4b1f684d72b4",
   "metadata": {},
   "outputs": [],
   "source": [
    "def seleccionar_10_caracteres(value):\n",
    "    return value[0:10]\n",
    "\n",
    "df_mascotas.loc[:, \"resumen\"].apply(seleccionar_10_caracteres)"
   ]
  },
  {
   "cell_type": "code",
   "execution_count": null,
   "id": "bff8cce6-97b2-418c-bdd9-d0456c1999ca",
   "metadata": {},
   "outputs": [],
   "source": [
    "def limpiar(value):\n",
    "    return value.replace(\",\", \"\").replace(\";\", \"\").lower()\n",
    "\n",
    "df_mascotas.loc[:, \"resumen\"].apply(limpiar)"
   ]
  },
  {
   "cell_type": "markdown",
   "id": "db77c12c-65a7-4304-96e3-214b952501ad",
   "metadata": {},
   "source": [
    "#### `strip_accents_ascii`\n",
    "\n",
    "`strip_accents_ascii` se utiliza para eliminar los acentos y diacríticos de una cadena, convirtiendo los caracteres Unicode que representan los acentos y diacríticos en caracteres ASCII equivalentes."
   ]
  },
  {
   "cell_type": "code",
   "execution_count": null,
   "id": "687b15bc",
   "metadata": {},
   "outputs": [],
   "source": [
    "import unicodedata\n",
    "\n",
    "def strip_accents_ascii(value):\n",
    "    nkfd_form = unicodedata.normalize(\"NFKD\", value)\n",
    "    return nkfd_form.encode(\"ASCII\", \"ignore\").decode(\"ASCII\")"
   ]
  },
  {
   "cell_type": "code",
   "execution_count": null,
   "id": "dd9d5cd9-0e15-4b65-85af-7c2ea5469f92",
   "metadata": {},
   "outputs": [],
   "source": [
    "strip_accents_ascii('doméstico')"
   ]
  },
  {
   "cell_type": "code",
   "execution_count": null,
   "id": "b33254cf-1fa3-4ea2-8a03-3a69e79855c0",
   "metadata": {},
   "outputs": [],
   "source": [
    "df_mascotas.loc[:, \"resumen\"]"
   ]
  },
  {
   "cell_type": "code",
   "execution_count": null,
   "id": "ed4812ac",
   "metadata": {},
   "outputs": [],
   "source": [
    "df_mascotas.loc[:, \"resumen\"].apply(strip_accents_ascii)"
   ]
  },
  {
   "cell_type": "markdown",
   "id": "d93f922c",
   "metadata": {},
   "source": [
    "#### Uso de `.apply` sobre DataFrames\n",
    "\n",
    "`apply` usada sobre un Dataframe permite ejecutar una función sobre las filas o columnas, lo que se indica a través del parámetro `axis`."
   ]
  },
  {
   "cell_type": "code",
   "execution_count": null,
   "id": "c6788dde",
   "metadata": {},
   "outputs": [],
   "source": [
    "def unir_nombre_y_descripcion(row):\n",
    "    return row[\"nombre\"] + \" - \" + row[\"resumen\"]\n",
    "    \n",
    "# ojo: para aplicar en filas tiene que ser axis=1\n",
    "df_mascotas.apply(unir_nombre_y_descripcion, axis=1)"
   ]
  },
  {
   "cell_type": "code",
   "execution_count": null,
   "id": "fb959d62-fdb1-4005-b81b-dfee291f1391",
   "metadata": {},
   "outputs": [],
   "source": [
    "def unir_filas(col):\n",
    "    return '|'.join(col)\n",
    "    \n",
    "# ojo: para aplicar en filas tiene que ser axis=1\n",
    "df_mascotas.apply(unir_filas, axis=0)"
   ]
  },
  {
   "cell_type": "markdown",
   "id": "d4263b07",
   "metadata": {},
   "source": [
    "#### Preprocesamiento Completo\n",
    "\n"
   ]
  },
  {
   "cell_type": "code",
   "execution_count": null,
   "id": "c6c4b682",
   "metadata": {},
   "outputs": [],
   "source": [
    "df_mascotas.loc[:, \"resumen\"].values"
   ]
  },
  {
   "cell_type": "code",
   "execution_count": null,
   "id": "5bdece33",
   "metadata": {},
   "outputs": [],
   "source": [
    "df_mascotas_procesado = (\n",
    "    df_mascotas.loc[:, \"resumen\"]\n",
    "    .apply(strip_accents_ascii)\n",
    "    .str.replace(\"[,;\\.\\(\\)\\[\\]\\d*]\", \"\", regex=True)\n",
    "    .str.replace(r\"\\s+\", \" \", regex=True) # en este caso se reemplazan todos los espacios por solo un espacio.\n",
    "    .str.strip()\n",
    "    .str.lower()\n",
    ")\n",
    "\n",
    "df_mascotas_procesado.values"
   ]
  },
  {
   "cell_type": "markdown",
   "id": "2a53579a-564a-4241-9d76-720bf6d76797",
   "metadata": {},
   "source": [
    "---"
   ]
  },
  {
   "cell_type": "markdown",
   "id": "b47a19fa-77f0-4abd-90c9-f438d3ba51a2",
   "metadata": {},
   "source": [
    "## 2.- Fechas "
   ]
  },
  {
   "cell_type": "markdown",
   "id": "0b7f205b-e863-4e82-9e9a-642bd655891a",
   "metadata": {},
   "source": [
    "### Dataset de Temperaturas Globales\n",
    "\n",
    "![wbg_climate](https://raw.githubusercontent.com/MDS7202/MDS7202/main/recursos/2023-01/11-Pandas4/wbg_climate.png)\n",
    "\n",
    "\n",
    "https://climateknowledgeportal.worldbank.org/download-data"
   ]
  },
  {
   "cell_type": "code",
   "execution_count": null,
   "id": "00acad00-8a60-4dcd-8d00-ed63d4becf82",
   "metadata": {},
   "outputs": [],
   "source": [
    "df_temp = pd.read_csv(\"./temperature.csv\")\n",
    "df_temp.head(3)"
   ]
  },
  {
   "cell_type": "markdown",
   "id": "b6a983ac-9181-47eb-a3a5-e942f857b541",
   "metadata": {},
   "source": [
    "### Motivación\n",
    "\n",
    "Las fechas y horarios son por lo general parte íntegra de los datos en muchas aplicaciones. Algunos ejemplos de uso de fechas y horarios en aplicaciones son el análisis de datos de ventas a lo largo del tiempo, el seguimiento de la evolución del clima, el análisis de la actividad del usuario en una plataforma digital, entre otros.\n",
    "\n",
    "> **Pregunta ❓**: ¿Qué aplicación particular podríamos darle al manejar los datetimes del clima? "
   ]
  },
  {
   "cell_type": "markdown",
   "id": "4c9933be-bbfc-4fa7-b963-c927ed645c75",
   "metadata": {},
   "source": [
    "### Módulo `Datetime`\n",
    "\n",
    "El módulo datetime en Python es una librería estándar (built-in) que proporciona clases y métodos para trabajar con fechas y horas los cuales simplifican la manipulación y cálculos ellos."
   ]
  },
  {
   "cell_type": "code",
   "execution_count": null,
   "id": "2b2f2c45-32b9-4813-b140-15bc4a522cff",
   "metadata": {},
   "outputs": [],
   "source": [
    "import datetime"
   ]
  },
  {
   "cell_type": "markdown",
   "id": "9e9063b6-c306-41d0-83a7-4f011534ecd0",
   "metadata": {},
   "source": [
    "#### Date\n",
    "\n",
    "Objeto que almacena día, mes y año."
   ]
  },
  {
   "cell_type": "code",
   "execution_count": null,
   "id": "b2a5d214-5070-4cfc-aa08-c809c0c9cf81",
   "metadata": {},
   "outputs": [],
   "source": [
    "date_object = datetime.date.today()\n",
    "print(date_object)"
   ]
  },
  {
   "cell_type": "code",
   "execution_count": null,
   "id": "c6ad7148-abd1-4800-9800-92c5a9154bb5",
   "metadata": {},
   "outputs": [],
   "source": [
    "date_object.day"
   ]
  },
  {
   "cell_type": "code",
   "execution_count": null,
   "id": "93d940d7-328e-4dbf-bb7a-133f4b764e5c",
   "metadata": {},
   "outputs": [],
   "source": [
    "date_object.month"
   ]
  },
  {
   "cell_type": "code",
   "execution_count": null,
   "id": "84e2f758-6a7a-4eec-a046-b7137b96cd1b",
   "metadata": {},
   "outputs": [],
   "source": [
    "date_object.year"
   ]
  },
  {
   "cell_type": "markdown",
   "id": "28f628ac-322d-4934-9ffa-df7afce926a0",
   "metadata": {},
   "source": [
    "#### Datetime\n",
    "\n",
    "Almacena segundos, minutos, hora, día, mes y año. También puede contener timezone."
   ]
  },
  {
   "cell_type": "code",
   "execution_count": null,
   "id": "19ed10ec-bfe4-4420-a871-caa310508f4c",
   "metadata": {},
   "outputs": [],
   "source": [
    "datetime_object = datetime.datetime.now()\n",
    "print(datetime_object)"
   ]
  },
  {
   "cell_type": "markdown",
   "id": "1ede2a4f-263d-4354-b1ba-ccb7b4e6eb54",
   "metadata": {},
   "source": [
    "#### Instanciar nuevos Date y Datetimes"
   ]
  },
  {
   "cell_type": "code",
   "execution_count": null,
   "id": "2a195750-6552-4cc4-bf73-f272ffdd63d6",
   "metadata": {},
   "outputs": [],
   "source": [
    "d = datetime.date(2021, 9, 9)\n",
    "print(d)"
   ]
  },
  {
   "cell_type": "code",
   "execution_count": null,
   "id": "552c62d5-e254-424c-8af7-1779ff47b183",
   "metadata": {},
   "outputs": [],
   "source": [
    "print(\"Año:\", d.year)\n",
    "print(\"Mes:\", d.month)\n",
    "print(\"Día:\", d.day)"
   ]
  },
  {
   "cell_type": "code",
   "execution_count": null,
   "id": "0564bbaa-8a96-48bf-9926-d7b91699be56",
   "metadata": {},
   "outputs": [],
   "source": [
    "d = datetime.datetime(2021, 4, 19, 10, 59, 55)\n",
    "print(d)"
   ]
  },
  {
   "cell_type": "code",
   "execution_count": null,
   "id": "0bea4dcf-0259-47cf-b3ae-acb6349a66f5",
   "metadata": {},
   "outputs": [],
   "source": [
    "print(\"Hora:\", d.hour)\n",
    "print(\"Minuto:\", d.minute)\n",
    "print(\"Segundo:\", d.second)\n",
    "print(\"Microsegundo:\", d.microsecond)"
   ]
  },
  {
   "cell_type": "markdown",
   "id": "a70d1aa9-1778-4b92-b18b-ad1bd0791d79",
   "metadata": {},
   "source": [
    "Obviamente, estos objetos cuentan con las restricciones pertinentes "
   ]
  },
  {
   "cell_type": "code",
   "execution_count": null,
   "id": "62c8d446-0348-4efc-9687-3f6587556b46",
   "metadata": {},
   "outputs": [],
   "source": [
    "datetime.datetime(-1, 4, 19, 10, 59, 55)"
   ]
  },
  {
   "cell_type": "code",
   "execution_count": null,
   "id": "9d77a6ae-f64a-42d3-ae21-3290d83715a2",
   "metadata": {},
   "outputs": [],
   "source": [
    "datetime.datetime(9999, 4, 19, 10, 59, 55)"
   ]
  },
  {
   "cell_type": "markdown",
   "id": "8f93adec-b51b-4f22-824b-a9fc2d31e5de",
   "metadata": {},
   "source": [
    "Relacionado: https://es.wikipedia.org/wiki/Problema_del_a%C3%B1o_2000\n",
    "\n",
    "\n",
    "El problema del año 2000, fue un bug o error de software causado por la costumbre que habían adoptado los programadores de omitir la centuria en el año para el almacenamiento de fechas (generalmente para economizar memoria), asumiendo que el software solo funcionaría durante los años cuyos números comenzaran con 19XX\n",
    "\n",
    "\n",
    "![Antes](https://www.sopitas.com/wp-content/uploads/2016/04/ss.gif)\n"
   ]
  },
  {
   "cell_type": "code",
   "execution_count": null,
   "id": "f60933cc-3e53-4c52-97e2-3a819ca04a17",
   "metadata": {},
   "outputs": [],
   "source": [
    "datetime.datetime(999999, 4, 19, 10, 59, 55)"
   ]
  },
  {
   "cell_type": "code",
   "execution_count": null,
   "id": "6c4bde86-a577-488e-b340-0a905a5f0d61",
   "metadata": {},
   "outputs": [],
   "source": [
    "datetime.datetime(2020, 4, 19, 10, 60, 55)"
   ]
  },
  {
   "cell_type": "markdown",
   "id": "598efa1a-1d72-4adf-acdc-b119816a8fbd",
   "metadata": {},
   "source": [
    "¿Y los años bisiestos?"
   ]
  },
  {
   "cell_type": "code",
   "execution_count": null,
   "id": "3ac621c8-fa75-43c8-b14e-ef6ee392dcd0",
   "metadata": {},
   "outputs": [],
   "source": [
    "datetime.datetime(2020, 2, 29)"
   ]
  },
  {
   "cell_type": "code",
   "execution_count": null,
   "id": "e7497b7d-631a-4696-bb55-e55049ee870f",
   "metadata": {},
   "outputs": [],
   "source": [
    "datetime.datetime(2021, 2, 29)"
   ]
  },
  {
   "cell_type": "markdown",
   "id": "e77ed491-9401-4aea-a2bc-506e81093891",
   "metadata": {},
   "source": [
    "##### Desde timestamp\n",
    "\n",
    "`A Unix timestamp is the number of seconds between a particular date and January 1, 1970 at UTC.`"
   ]
  },
  {
   "cell_type": "code",
   "execution_count": null,
   "id": "6eb446b2-ab0b-4c15-8902-12cc9aa498e1",
   "metadata": {},
   "outputs": [],
   "source": [
    "timestamp = datetime.date.fromtimestamp(1326244364)\n",
    "print(\"Date =\", timestamp)"
   ]
  },
  {
   "cell_type": "markdown",
   "id": "ec68bbdf-f6e3-4df7-b488-bb3759cfb49f",
   "metadata": {},
   "source": [
    "> **Pregunta ❓**: ¿Podemos sumar o restar fechas?"
   ]
  },
  {
   "cell_type": "code",
   "execution_count": null,
   "id": "cbf27631-8017-4abb-8839-e2c90d874863",
   "metadata": {},
   "outputs": [],
   "source": [
    "delta = datetime.datetime(1, 1, 1)\n",
    "delta"
   ]
  },
  {
   "cell_type": "code",
   "execution_count": null,
   "id": "0a2b3440-ea2a-4cfa-aa88-81f2a2c858c6",
   "metadata": {},
   "outputs": [],
   "source": [
    "d"
   ]
  },
  {
   "cell_type": "code",
   "execution_count": null,
   "id": "35c6272b-c378-4f63-8d43-f9ef8de004df",
   "metadata": {},
   "outputs": [],
   "source": [
    "d + delta"
   ]
  },
  {
   "cell_type": "markdown",
   "id": "88b93cfe-3f0d-4a78-a0b2-abb6091c335c",
   "metadata": {},
   "source": [
    "#### TimeDelta\n",
    "\n",
    "Permide sumar semanas, días, horas, etc... a objetos `date` y `datetime`."
   ]
  },
  {
   "cell_type": "code",
   "execution_count": null,
   "id": "19c06b94-474c-4054-8b0e-fdacda3bb445",
   "metadata": {},
   "outputs": [],
   "source": [
    "d"
   ]
  },
  {
   "cell_type": "code",
   "execution_count": null,
   "id": "8d72de31-484a-430c-9c69-b1704b077ea2",
   "metadata": {},
   "outputs": [],
   "source": [
    "from datetime import timedelta\n",
    "\n",
    "t1 = timedelta(weeks=2)\n",
    "t1"
   ]
  },
  {
   "cell_type": "code",
   "execution_count": null,
   "id": "7456f6ea-55f2-428e-8865-9142ea755d5f",
   "metadata": {},
   "outputs": [],
   "source": [
    "d + t1"
   ]
  },
  {
   "cell_type": "code",
   "execution_count": null,
   "id": "8d893a53-d55c-416d-9e91-0127046e2f25",
   "metadata": {},
   "outputs": [],
   "source": [
    "d - t1"
   ]
  },
  {
   "cell_type": "markdown",
   "id": "5c5ff81b-685b-4d5f-9a64-57405ca7653b",
   "metadata": {},
   "source": [
    "¿Y tiempos negativos?"
   ]
  },
  {
   "cell_type": "code",
   "execution_count": null,
   "id": "3c53e689-8967-4775-8b93-3756caf3edf3",
   "metadata": {},
   "outputs": [],
   "source": [
    "t2 = timedelta(minutes=-1)"
   ]
  },
  {
   "cell_type": "code",
   "execution_count": null,
   "id": "e60ec2a2-459c-49f5-9c78-6c1c05189414",
   "metadata": {},
   "outputs": [],
   "source": [
    "d + t2"
   ]
  },
  {
   "cell_type": "code",
   "execution_count": null,
   "id": "1c0925cc-f88a-424b-be3b-2d3914b467c5",
   "metadata": {},
   "outputs": [],
   "source": [
    "d - t2"
   ]
  },
  {
   "cell_type": "markdown",
   "id": "55de533a-ea34-4d9b-af59-4da1d3ae3c4b",
   "metadata": {},
   "source": [
    "¿Cambios de mes?"
   ]
  },
  {
   "cell_type": "code",
   "execution_count": null,
   "id": "19be7712-2603-4215-a8ce-c504c54780f2",
   "metadata": {},
   "outputs": [],
   "source": [
    "t3 = timedelta(days=1)"
   ]
  },
  {
   "cell_type": "code",
   "execution_count": null,
   "id": "fccef8ee-08f5-46e9-94f3-90ff1157cd6a",
   "metadata": {},
   "outputs": [],
   "source": [
    "datetime.date(2021, 2, 28) + t3"
   ]
  },
  {
   "cell_type": "code",
   "execution_count": null,
   "id": "424f2c13-962f-46e6-9d02-049476af9e78",
   "metadata": {},
   "outputs": [],
   "source": [
    "# notar que también funciona para años bisiestos\n",
    "datetime.date(2020, 2, 28) + t3 "
   ]
  },
  {
   "cell_type": "markdown",
   "id": "d857fbc1-c587-48e5-89e9-e9a63f0b8338",
   "metadata": {},
   "source": [
    "#### Formatear a string con `.strftime`\n",
    "\n",
    "Permite convertir un objeto datetime a una cadena de caracteres que siga un patrón específico para representar la fecha y la hora."
   ]
  },
  {
   "cell_type": "code",
   "execution_count": null,
   "id": "814dd17a-cae8-41ae-847a-cb5fa8acc9f4",
   "metadata": {},
   "outputs": [],
   "source": [
    "d"
   ]
  },
  {
   "cell_type": "code",
   "execution_count": null,
   "id": "7788c00c-e055-48a3-99f0-a558406e7abc",
   "metadata": {},
   "outputs": [],
   "source": [
    "s1 = d.strftime(\"%d/%m/%Y, %H:%M:%S\")\n",
    "# dd/mm/YY H:M:S format\n",
    "s1"
   ]
  },
  {
   "cell_type": "code",
   "execution_count": null,
   "id": "72420b03-61ee-4382-95ae-62288e1a9e9f",
   "metadata": {},
   "outputs": [],
   "source": [
    "s1 = d.strftime(\"%m/%d/%Y, %H:%M:%S\")\n",
    "# dd/mm/YY H:M:S format\n",
    "s1"
   ]
  },
  {
   "cell_type": "code",
   "execution_count": null,
   "id": "13e643b3-bb57-4cd2-8e77-90056f509c5a",
   "metadata": {},
   "outputs": [],
   "source": [
    "s1 = d.strftime(\"%d/%m/%Y\")\n",
    "# dd/mm/YY H:M:S format\n",
    "s1"
   ]
  },
  {
   "cell_type": "code",
   "execution_count": null,
   "id": "7ababef0-2180-4fff-a2fc-42287291fffe",
   "metadata": {},
   "outputs": [],
   "source": [
    "s2 = d.strftime(\"%A %d %B %Y, %X\")\n",
    "# dd/mm/YY H:M:S format\n",
    "s2"
   ]
  },
  {
   "cell_type": "markdown",
   "id": "76cb1f50-f671-4848-a098-2af61e6665e9",
   "metadata": {},
   "source": [
    "Referencia completa de formateo de fechas:\n",
    "\n",
    "https://www.programiz.com/python-programming/datetime/strftime"
   ]
  },
  {
   "cell_type": "markdown",
   "id": "d82b7246-7180-47af-a566-684aa574a20d",
   "metadata": {},
   "source": [
    "---\n"
   ]
  },
  {
   "cell_type": "markdown",
   "id": "ea7552c1-79f6-4532-89a5-2d878e4eb568",
   "metadata": {},
   "source": [
    "\n",
    "###  Datos temporales en Pandas\n",
    "\n",
    "Pandas implementa su propio sistema de datetimes.\n",
    "`pd.to_datetimes` nos permite convertir una `Serie` o un `DataFrame` en una `Serie` de datetimes."
   ]
  },
  {
   "cell_type": "code",
   "execution_count": null,
   "id": "b0116ba2-64b3-469c-a41a-9f4b8b096d2b",
   "metadata": {
    "scrolled": true
   },
   "outputs": [],
   "source": [
    "df_temp.head(3)"
   ]
  },
  {
   "cell_type": "code",
   "execution_count": null,
   "id": "552d9823-ac06-4e51-a443-e40820c08727",
   "metadata": {},
   "outputs": [],
   "source": [
    "dates = df_temp.loc[:, [\"Year\", \"Month\"]]\n",
    "dates"
   ]
  },
  {
   "cell_type": "code",
   "execution_count": null,
   "id": "29cbce9c-7328-4ba5-bcdb-c012115feef4",
   "metadata": {},
   "outputs": [],
   "source": [
    "dates.loc[:, \"Day\"] = 1\n",
    "dates"
   ]
  },
  {
   "cell_type": "code",
   "execution_count": null,
   "id": "986fe7fd-4fb7-475b-ac66-44de54d14253",
   "metadata": {},
   "outputs": [],
   "source": [
    "dates = dates.astype(str)\n",
    "concat_dates = dates.loc[:, 'Year'] + ' '+  dates.loc[:, 'Month'] + ' ' + dates.loc[:, 'Day']\n",
    "concat_dates"
   ]
  },
  {
   "cell_type": "code",
   "execution_count": null,
   "id": "bc16ed6f-a23a-4254-8597-9928c6962529",
   "metadata": {},
   "outputs": [],
   "source": [
    "parsed_dates = pd.to_datetime(concat_dates)\n",
    "parsed_dates"
   ]
  },
  {
   "cell_type": "code",
   "execution_count": null,
   "id": "123a6f8f-a542-43f7-810f-42397f87855d",
   "metadata": {},
   "outputs": [],
   "source": [
    "# aquí le dimos el formato con el cuál queríamos leer la fecha.\n",
    "\n",
    "parsed_dates_2 = pd.to_datetime(concat_dates, format=\"%Y %b %d\")"
   ]
  },
  {
   "cell_type": "code",
   "execution_count": null,
   "id": "cf8e6b4b-a7ff-4647-aab8-8958c9e91f55",
   "metadata": {},
   "outputs": [],
   "source": [
    "pd.to_datetime(concat_dates, format=\"%Y %b %d\") > \"2016 01 01\""
   ]
  },
  {
   "cell_type": "code",
   "execution_count": null,
   "id": "a5fcfd88-c2a8-43aa-8484-89b8040c6c6e",
   "metadata": {},
   "outputs": [],
   "source": [
    "df_temp.loc[:, 'dates'] = parsed_dates"
   ]
  },
  {
   "cell_type": "code",
   "execution_count": null,
   "id": "9cc18cc4-09f7-4d60-8a40-47eaaec9595a",
   "metadata": {},
   "outputs": [],
   "source": [
    "df_temp.info()"
   ]
  },
  {
   "cell_type": "markdown",
   "id": "e468faaf-990c-4b55-958f-575befb54de1",
   "metadata": {},
   "source": [
    "#### Valores Inválidos\n",
    "\n",
    "Puede ocurrir que tengamos algún dato inválido que no podamos transformar a `datetime`.\n",
    "\n",
    "`pd.to_datetime` ofrece el siguiente parámetro para manejar estos problemas:\n",
    "\n",
    "`errors{‘ignore’, ‘raise’, ‘coerce’}, default ‘raise’`\n",
    "\n",
    "- If `raise`, then invalid parsing will raise an exception.\n",
    "\n",
    "- If `coerce`, then invalid parsing will be set as NaT.\n",
    "\n",
    "- If `ignore`, then invalid parsing will return the input.\n",
    "\n",
    "\n",
    "**Nota:** NaT = Not a Time\n"
   ]
  },
  {
   "cell_type": "code",
   "execution_count": null,
   "id": "a7241899-5c8d-44cc-bf6c-7c56cca953c8",
   "metadata": {},
   "outputs": [],
   "source": [
    "pd.to_datetime([\"2009/07/31\", \"asd\"], errors=\"coerce\")"
   ]
  },
  {
   "cell_type": "markdown",
   "id": "4b32d5a4-18a5-4d20-9299-6f1970fbc609",
   "metadata": {},
   "source": [
    "#### Comparaciones y consultas\n",
    "\n",
    "Se puede especificar directamente filtros booleanos usando datetimes como también strings:"
   ]
  },
  {
   "cell_type": "code",
   "execution_count": null,
   "id": "3f601b93-00b6-4973-ad2b-5da25cf0e0b3",
   "metadata": {},
   "outputs": [],
   "source": [
    "df_temp.loc[:, \"dates\"] > datetime.datetime(2010, 1, 1)"
   ]
  },
  {
   "cell_type": "code",
   "execution_count": null,
   "id": "82ee64ce-296d-4ffb-abc7-908232765778",
   "metadata": {},
   "outputs": [],
   "source": [
    "df_temp.loc[:, \"dates\"] > \"2010-1-1\""
   ]
  },
  {
   "cell_type": "markdown",
   "id": "fc5da2c9-fa99-42cf-b6fa-1fe11a060e7e",
   "metadata": {},
   "source": [
    "#### Indexado\n",
    "\n",
    "Podemos fijar las fechas como índices y luego indexar por rangos de estas"
   ]
  },
  {
   "cell_type": "code",
   "execution_count": null,
   "id": "95312db5-bd24-4c25-a4ce-fdc6cf437863",
   "metadata": {},
   "outputs": [],
   "source": [
    "temperaturas_por_fecha = df_temp.set_index(\"dates\")\n",
    "temperaturas_por_fecha"
   ]
  },
  {
   "cell_type": "code",
   "execution_count": null,
   "id": "a14be1c4-bbe4-49a5-9d8a-887cdccb4d2b",
   "metadata": {},
   "outputs": [],
   "source": [
    "# Rango 1995-1-1 al 199-12-1\n",
    "temperaturas_por_fecha.loc[\"1995-1-1\":\"1999-12-1\"]"
   ]
  },
  {
   "cell_type": "code",
   "execution_count": null,
   "id": "f4f6a342-10af-4e3c-ae59-ebe427b3ed5a",
   "metadata": {},
   "outputs": [],
   "source": [
    "temperaturas_por_fecha.loc[\"1999-11-1\":\"1999-12-1\"]"
   ]
  },
  {
   "cell_type": "markdown",
   "id": "f139ee83-542a-4365-953d-be87f3dac7bc",
   "metadata": {},
   "source": [
    "#### Timedeltas\n",
    "\n",
    "`pd.Timedelta` permite utilizar una interfaz similar a los `datetime.timedelta` para ejecutar cálculos sobre las fechas:\n",
    "\n",
    "`weeks, days, hours, minutes, seconds, milliseconds, microseconds, nanoseconds`"
   ]
  },
  {
   "cell_type": "code",
   "execution_count": null,
   "id": "95e64e61-8231-4c47-8aba-26438b357c23",
   "metadata": {},
   "outputs": [],
   "source": [
    "ptd1 = pd.Timedelta(weeks=2)\n",
    "ptd1"
   ]
  },
  {
   "cell_type": "code",
   "execution_count": null,
   "id": "b091c615-7b79-4ff7-a760-17781a0caa8c",
   "metadata": {},
   "outputs": [],
   "source": [
    "df_temp.loc[:, \"dates\"] + ptd1"
   ]
  },
  {
   "cell_type": "markdown",
   "id": "0ea1fc60-a13e-4e09-8314-17b0db2ba02b",
   "metadata": {},
   "source": [
    "Y podemos también hacer Broadcasting con `datetime.timedeltas`"
   ]
  },
  {
   "cell_type": "code",
   "execution_count": null,
   "id": "ab2cbd9d-244a-4f0a-8673-408849f608f2",
   "metadata": {},
   "outputs": [],
   "source": [
    "df_temp.loc[:, \"dates\"] + datetime.timedelta(days=-1)"
   ]
  },
  {
   "cell_type": "markdown",
   "id": "754d7d94-6b7a-47b7-bc67-792807fd6152",
   "metadata": {},
   "source": [
    "---"
   ]
  },
  {
   "cell_type": "markdown",
   "id": "9ea3da68-6c55-4973-a25f-94bbc0c6e3df",
   "metadata": {
    "tags": []
   },
   "source": [
    "## 3.- Categorías"
   ]
  },
  {
   "cell_type": "markdown",
   "id": "14514485-cf95-49fb-84ea-7874f93dc36b",
   "metadata": {},
   "source": [
    "Una variable categórica es un tipo de dato que puede tomar un número limitado (y usualmente fijo) de posibles valores.\n",
    "Ejemplos de esto: Género, clase social, tipo de sangre, etc...\n",
    "\n",
    "En general, guardar los datos como categóricos es mucho más eficiente que guardarlos como string. Según la referencia de pandas:\n",
    "\n",
    "> The memory usage of a Categorical is proportional to the number of categories plus the length of the data. In contrast, an object dtype is a constant times the length of the data.\n",
    "\n",
    "Como ejemplo, usaremos los continentes a los que pertenece cada país:"
   ]
  },
  {
   "cell_type": "code",
   "execution_count": null,
   "id": "0e7a888e-bdd9-4ea9-9b33-41145cd2e814",
   "metadata": {},
   "outputs": [],
   "source": [
    "countries = pd.read_csv(\n",
    "    \"https://raw.githubusercontent.com/MDS7202/MDS7202/main/recursos/2023-01/11-Pandas4/country-and-continent.csv\"\n",
    ")\n",
    "countries = countries.loc[:, [\"Continent_Name\", \"Country_Name\"]]\n",
    "countries"
   ]
  },
  {
   "cell_type": "markdown",
   "id": "778fa0ee-5033-46e4-8721-748e4d834b80",
   "metadata": {},
   "source": [
    "Declaramos una variable como categórica transformando la serie a `category` con `.astype(\"category\")`:"
   ]
  },
  {
   "cell_type": "code",
   "execution_count": null,
   "id": "7c6f97cb-8698-4ed6-911e-d03739e4d223",
   "metadata": {},
   "outputs": [],
   "source": [
    "countries[\"Continent_Name\"]"
   ]
  },
  {
   "cell_type": "code",
   "execution_count": null,
   "id": "b8aa4e03-4332-4fe9-9a9e-7a79857e87a1",
   "metadata": {},
   "outputs": [],
   "source": [
    "countries[\"Continent_Name\"] = countries.loc[:, \"Continent_Name\"].astype(\"category\")\n",
    "countries[\"Continent_Name\"]"
   ]
  },
  {
   "cell_type": "markdown",
   "id": "dbca7c40-ea62-4286-a7d2-229f91cea9ba",
   "metadata": {},
   "source": [
    "Podemos acceder a las categorías con:"
   ]
  },
  {
   "cell_type": "code",
   "execution_count": null,
   "id": "fbe387a6-da16-435c-a9e1-89ebf7e1e5d8",
   "metadata": {},
   "outputs": [],
   "source": [
    "countries[\"Continent_Name\"].cat.categories"
   ]
  },
  {
   "cell_type": "markdown",
   "id": "03168590-ad3b-45bf-a057-0e073862c497",
   "metadata": {},
   "source": [
    "### Operaciones con categorías"
   ]
  },
  {
   "cell_type": "markdown",
   "id": "2cef2aeb-250d-447f-b859-ce6ce346c434",
   "metadata": {},
   "source": [
    "Podemos renombrar categorías usando el método `rename_categories`:"
   ]
  },
  {
   "cell_type": "code",
   "execution_count": null,
   "id": "2449b616-49fb-4891-9da3-4c63af301637",
   "metadata": {},
   "outputs": [],
   "source": [
    "# renombrar en español\n",
    "countries[\"Continent_Name\"] = countries[\"Continent_Name\"].cat.rename_categories(\n",
    "    [\n",
    "        \"Africa\",\n",
    "        \"Antarctica\",\n",
    "        \"Asia\",\n",
    "        \"Europa\",\n",
    "        \"América del Norte\",\n",
    "        \"Oceania\",\n",
    "        \"América del Sur\",\n",
    "    ]\n",
    ")\n",
    "\n",
    "countries[\"Continent_Name\"]"
   ]
  },
  {
   "cell_type": "code",
   "execution_count": null,
   "id": "af1898f3-9e72-4e29-a277-806ad00cff2a",
   "metadata": {
    "scrolled": true
   },
   "outputs": [],
   "source": [
    "countries.sample(10)"
   ]
  },
  {
   "cell_type": "markdown",
   "id": "4e85e2b7-4605-4c34-a880-39c96fc28f64",
   "metadata": {},
   "source": [
    "`rename_categories` también acepta diccionarios como entrada. La idea es que el diccionario vincule los nombres antiguos con los nuevos:"
   ]
  },
  {
   "cell_type": "code",
   "execution_count": null,
   "id": "4cfa769c-10c8-47ab-b502-1f3e3a76c01d",
   "metadata": {},
   "outputs": [],
   "source": [
    "countries[\"Continent_Name\"] = countries[\"Continent_Name\"].cat.rename_categories(\n",
    "    {\n",
    "        \"Europe\": \"Europa\",\n",
    "    }\n",
    ")"
   ]
  },
  {
   "cell_type": "code",
   "execution_count": null,
   "id": "5a7a033d-c69d-4e38-b189-a16940a7fe0f",
   "metadata": {},
   "outputs": [],
   "source": [
    "countries"
   ]
  },
  {
   "cell_type": "markdown",
   "id": "e142c34a-7ba0-417a-94f4-76c97e9c49fa",
   "metadata": {},
   "source": [
    "Se pueden agregar categorías"
   ]
  },
  {
   "cell_type": "code",
   "execution_count": null,
   "id": "1d6406ce-5478-4566-834e-c0b0df18cce2",
   "metadata": {},
   "outputs": [],
   "source": [
    "countries[\"Continent_Name\"].cat.add_categories([\"Atlantida\"])"
   ]
  },
  {
   "cell_type": "markdown",
   "id": "61279199-76d7-42ed-9c91-f47289e79ac5",
   "metadata": {},
   "source": [
    "Como también eliminar las no usadas:"
   ]
  },
  {
   "cell_type": "code",
   "execution_count": null,
   "id": "aeb25bd4-6a02-407d-ba1e-5f5b9f750732",
   "metadata": {},
   "outputs": [],
   "source": [
    "# Remover las no usadas\n",
    "countries[\"Continent_Name\"].cat.remove_unused_categories()"
   ]
  },
  {
   "cell_type": "markdown",
   "id": "77d6c042-8649-4222-8093-a6b7c67a44ca",
   "metadata": {},
   "source": [
    "O incluso, eliminar una categoría completa. Noten que esto transforma valores de esa categoría a `NaN`."
   ]
  },
  {
   "cell_type": "code",
   "execution_count": null,
   "id": "c9b45926-35cd-433c-bbf9-700c0be64839",
   "metadata": {},
   "outputs": [],
   "source": [
    "# Como también remover una categoría completa.\n",
    "countries[\"Continent_Name\"].cat.remove_categories([\"Europa\"])"
   ]
  },
  {
   "cell_type": "markdown",
   "id": "56a8e56a-8ad9-42c9-a3d6-89d72a551569",
   "metadata": {},
   "source": [
    "### Nota sobre memoria\n",
    "\n",
    "Como habíamos dicho, es mucho más eficiente guardar variables categóricas que strings.\n",
    "Podemos ver esto en el siguiente ejemplo:\n",
    "\n",
    "#### Usando Strings"
   ]
  },
  {
   "cell_type": "code",
   "execution_count": null,
   "id": "7dacbe58-e4be-4342-9afe-d45aa3542b3c",
   "metadata": {},
   "outputs": [],
   "source": [
    "# cuidado con este experimento, ocupa mucha memoria!\n",
    "df_pesado = pd.DataFrame(\n",
    "    [\"A\", \"B\", \"C\", \"D\", \"E\", \"F\", \"G\", \"H\", \"I\", \"J\"] * 10000000, columns=[\"var\"]\n",
    ")\n",
    "df_pesado"
   ]
  },
  {
   "cell_type": "code",
   "execution_count": null,
   "id": "e40ed6f7-0692-4443-894a-a79690cb6c08",
   "metadata": {},
   "outputs": [],
   "source": [
    "# strings no tienen .cat\n",
    "df_pesado[\"var\"].cat"
   ]
  },
  {
   "cell_type": "code",
   "execution_count": null,
   "id": "27f8808b-7c98-4d39-b3b4-8d4c1f104efd",
   "metadata": {},
   "outputs": [],
   "source": [
    "# observen la cantidad de memoria.\n",
    "df_pesado.info()"
   ]
  },
  {
   "cell_type": "markdown",
   "id": "c64cd50e-e7bc-4d2d-9f7e-5c6097759744",
   "metadata": {},
   "source": [
    "#### Usando Categorías"
   ]
  },
  {
   "cell_type": "code",
   "execution_count": null,
   "id": "960ea20a-2117-43c6-8c51-706121bd591d",
   "metadata": {},
   "outputs": [],
   "source": [
    "df_pesado = pd.DataFrame(\n",
    "    [\"A\", \"B\", \"C\", \"D\", \"E\", \"F\", \"G\", \"H\", \"I\", \"J\"] * 10000000, columns=[\"var\"]\n",
    ")\n",
    "df_pesado[\"var\"] = df_pesado[\"var\"].astype(\"category\")\n",
    "df_pesado"
   ]
  },
  {
   "cell_type": "code",
   "execution_count": null,
   "id": "95b8754e-f70b-4f33-8a80-5dfafdc4b249",
   "metadata": {},
   "outputs": [],
   "source": [
    "df_pesado[\"var\"].cat"
   ]
  },
  {
   "cell_type": "code",
   "execution_count": null,
   "id": "62793681-4350-410d-b8f4-87104b589819",
   "metadata": {},
   "outputs": [],
   "source": [
    "df_pesado.info()"
   ]
  },
  {
   "cell_type": "markdown",
   "id": "3885c733-7060-4bba-9dc3-7332226b3a02",
   "metadata": {},
   "source": [
    "### Un pequeño merge con los datos anteriores\n",
    "\n",
    "Notar que en esta versión se especificó sobre que variables hacer el merge en ambos datasets."
   ]
  },
  {
   "cell_type": "code",
   "execution_count": null,
   "id": "899a2c2f-06c4-4839-86b8-b84d15a4fdce",
   "metadata": {},
   "outputs": [],
   "source": [
    "temp_agg = df_temp.groupby(\"Country\").agg({\"Temperature\": [\"mean\", \"std\"]})\n",
    "temp_agg"
   ]
  },
  {
   "cell_type": "code",
   "execution_count": null,
   "id": "4f711ee1-430a-446a-ba82-0005009d99e3",
   "metadata": {},
   "outputs": [],
   "source": [
    "countries"
   ]
  },
  {
   "cell_type": "code",
   "execution_count": null,
   "id": "b048e3b3-40b2-4220-ac8a-fc40ff8ee00f",
   "metadata": {},
   "outputs": [],
   "source": [
    "temp_agg.columns = temp_agg.columns.droplevel()\n",
    "temp_agg = temp_agg.reset_index()\n",
    "temp_agg.columns = [\"Country\", \"Mean temperature\", \"Std temperature\"]\n",
    "temp_agg\n",
    "\n",
    "merged_df = pd.merge(\n",
    "    temp_agg,\n",
    "    countries,\n",
    "    how=\"left\",\n",
    "    left_on=\"Country\",\n",
    "    right_on=\"Country_Name\",\n",
    ")\n",
    "\n",
    "merged_df"
   ]
  },
  {
   "cell_type": "markdown",
   "id": "f204aad7-258c-47a8-86ee-0a98d1aa78b0",
   "metadata": {},
   "source": [
    "---\n",
    "\n",
    "## 4.- Ordinales\n",
    "\n",
    "Una variable ordinal es un tipo de variable categórica que representa una característica o atributo que se puede ordenar o clasificar en diferentes niveles o categorías que tienen un orden predefinido.\n",
    "\n",
    "\n",
    "Por ejemplo, hagamos una clasificación muy simple del clima a partir de la temperatura media. Para esto, calculemos cuartiles:\n",
    "\n",
    "> Nota: Los elementos meteorológicos a tomar en cuenta para definir un clima son la temperatura, la presión, el viento, la humedad y la precipitación. Referencias: https://es.wikipedia.org/wiki/Clima"
   ]
  },
  {
   "cell_type": "code",
   "execution_count": null,
   "id": "d0723f59-3a5c-40e3-b02b-c06cea0f44d8",
   "metadata": {},
   "outputs": [],
   "source": [
    "mean_temp = merged_df[\"Mean temperature\"]\n",
    "mean_temp"
   ]
  },
  {
   "cell_type": "code",
   "execution_count": null,
   "id": "5e789fad-922f-4070-a3d1-4cef39e2018b",
   "metadata": {},
   "outputs": [],
   "source": [
    "mean_temp.describe()"
   ]
  },
  {
   "cell_type": "code",
   "execution_count": null,
   "id": "4f4d3df2-cc47-48b5-a995-c9847fd2b797",
   "metadata": {},
   "outputs": [],
   "source": [
    "clima_ordinal = pd.qcut(\n",
    "    mean_temp, 5, labels=[\"Polar\", \"Frio\", \"Templado\", \"Calido\", \"Muy Calido\"]\n",
    ")\n",
    "clima_ordinal"
   ]
  },
  {
   "cell_type": "markdown",
   "id": "9138c6bc-0e8e-415a-aaf1-d2dace9f0ebd",
   "metadata": {},
   "source": [
    "#### Operaciones sobre Series Categóricas con Orden"
   ]
  },
  {
   "cell_type": "code",
   "execution_count": null,
   "id": "e99d925d-b729-4daf-b292-529c8ce2ebf0",
   "metadata": {},
   "outputs": [],
   "source": [
    "clima_ordinal.value_counts()"
   ]
  },
  {
   "cell_type": "code",
   "execution_count": null,
   "id": "1f8375cc-366b-4a5b-a753-ef0bf7f26a9a",
   "metadata": {},
   "outputs": [],
   "source": [
    "clima_ordinal.min()"
   ]
  },
  {
   "cell_type": "code",
   "execution_count": null,
   "id": "2f265dfc-c927-40fd-a843-fe1a9345fec5",
   "metadata": {},
   "outputs": [],
   "source": [
    "clima_ordinal.max()"
   ]
  },
  {
   "cell_type": "code",
   "execution_count": null,
   "id": "28d0ca34-90e1-44c2-b965-51c27af5ba63",
   "metadata": {},
   "outputs": [],
   "source": [
    "clima_ordinal.mode()"
   ]
  },
  {
   "cell_type": "markdown",
   "id": "39d7ac40-6beb-403d-8b10-6c7d8b03538d",
   "metadata": {},
   "source": [
    "####  Ordenar y Filtrar usando Ordinales"
   ]
  },
  {
   "cell_type": "code",
   "execution_count": null,
   "id": "02f05096-1c5b-485a-92a2-48537d5e55ad",
   "metadata": {},
   "outputs": [],
   "source": [
    "merged_df[\"Temp Quartile\"] = clima_ordinal\n",
    "merged_df.head(3)"
   ]
  },
  {
   "cell_type": "code",
   "execution_count": null,
   "id": "998e4f6a-c7cc-4481-821c-477355d56186",
   "metadata": {},
   "outputs": [],
   "source": [
    "merged_df.info()"
   ]
  },
  {
   "cell_type": "code",
   "execution_count": null,
   "id": "42782f3e-460c-41a4-aae3-e2ca3a553c95",
   "metadata": {},
   "outputs": [],
   "source": [
    "merged_df = merged_df.sort_values([\"Temp Quartile\", \"Mean temperature\"])\n",
    "merged_df"
   ]
  },
  {
   "cell_type": "markdown",
   "id": "41ecd70e-2dcf-4288-9dab-c2678541df08",
   "metadata": {},
   "source": [
    "#### Nota sobre Merge con id repetidos\n",
    "\n",
    "> Pregunta: ¿Qué sucede si hacemos un merge de una fila con muchas otras con igual identificador?"
   ]
  },
  {
   "cell_type": "code",
   "execution_count": null,
   "id": "8b535577-10f8-42a0-9c21-0b3b3aabb2be",
   "metadata": {},
   "outputs": [],
   "source": [
    "merged_df[\"Temp Quartile\"].cat.categories"
   ]
  },
  {
   "cell_type": "code",
   "execution_count": null,
   "id": "322cce7c-2e50-4581-ad48-512e040f34d3",
   "metadata": {},
   "outputs": [],
   "source": [
    "mask = merged_df[\"Temp Quartile\"] < \"Frio\"\n",
    "mask"
   ]
  },
  {
   "cell_type": "code",
   "execution_count": null,
   "id": "18a15b5e-0557-4008-846f-772cfda5c64c",
   "metadata": {},
   "outputs": [],
   "source": [
    "merged_df[mask]"
   ]
  },
  {
   "cell_type": "markdown",
   "id": "bab1ccc2-6242-43a5-9c41-57337fe11c93",
   "metadata": {},
   "source": [
    "## Anexo: Cómo Combinar dos Filtros/Máscaras Booleanas\n",
    "\n",
    "Se puede usar las operaciones `|` (or) y `&` and para combinar dos máscaras.\n",
    "\n",
    "- `|` simboliza un ó lógico.\n",
    "- `&` simboliza un y lógico."
   ]
  },
  {
   "cell_type": "code",
   "execution_count": null,
   "id": "816c433b-806d-4746-a281-62dad7646d91",
   "metadata": {},
   "outputs": [],
   "source": [
    "mask_2 = (merged_df[\"Temp Quartile\"] < \"Frio\") | (\n",
    "    merged_df[\"Temp Quartile\"] == \"Templado\"\n",
    ")\n",
    "mask_2"
   ]
  },
  {
   "cell_type": "code",
   "execution_count": null,
   "id": "d26ef9b4-f9b5-47db-886d-59c8a6b09d6b",
   "metadata": {},
   "outputs": [],
   "source": [
    "merged_df[mask_2]"
   ]
  }
 ],
 "metadata": {
  "kernelspec": {
   "display_name": "Python 3 (ipykernel)",
   "language": "python",
   "name": "python3"
  },
  "language_info": {
   "codemirror_mode": {
    "name": "ipython",
    "version": 3
   },
   "file_extension": ".py",
   "mimetype": "text/x-python",
   "name": "python",
   "nbconvert_exporter": "python",
   "pygments_lexer": "ipython3",
   "version": "3.9.16"
  },
  "toc": {
   "base_numbering": 1,
   "nav_menu": {},
   "number_sections": true,
   "sideBar": true,
   "skip_h1_title": true,
   "title_cell": "Table of Contents",
   "title_sidebar": "Contents",
   "toc_cell": true,
   "toc_position": {
    "height": "calc(100% - 180px)",
    "left": "10px",
    "top": "150px",
    "width": "274.833px"
   },
   "toc_section_display": true,
   "toc_window_display": false
  },
  "varInspector": {
   "cols": {
    "lenName": 16,
    "lenType": 16,
    "lenVar": 40
   },
   "kernels_config": {
    "python": {
     "delete_cmd_postfix": "",
     "delete_cmd_prefix": "del ",
     "library": "var_list.py",
     "varRefreshCmd": "print(var_dic_list())"
    },
    "r": {
     "delete_cmd_postfix": ") ",
     "delete_cmd_prefix": "rm(",
     "library": "var_list.r",
     "varRefreshCmd": "cat(var_dic_list()) "
    }
   },
   "types_to_exclude": [
    "module",
    "function",
    "builtin_function_or_method",
    "instance",
    "_Feature"
   ],
   "window_display": false
  }
 },
 "nbformat": 4,
 "nbformat_minor": 5
}
