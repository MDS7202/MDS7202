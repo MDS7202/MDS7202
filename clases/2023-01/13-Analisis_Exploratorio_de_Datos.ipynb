{
 "cells": [
  {
   "attachments": {},
   "cell_type": "markdown",
   "id": "ffe7e222",
   "metadata": {},
   "source": [
    "# Clase 13 - Análisis Exploratorio de Datos\n",
    "\n",
    "**MDS7202: Laboratorio de Programación Científica para Ciencia de Datos**\n",
    "\n",
    "**Profesor: Pablo Badilla**\n"
   ]
  },
  {
   "attachments": {},
   "cell_type": "markdown",
   "id": "24aeb0c3",
   "metadata": {},
   "source": [
    "## Objetivos de la Clase\n",
    "\n",
    "![Etapas de un Proyecto de Ciencia de Datos](https://raw.githubusercontent.com/MDS7202/MDS7202/main/recursos/2023-01/13-EDA/metodologia.png)\n",
    "\n",
    "Los datos son la materia prima para la contrucción de análisis estadísticos y modelos predictivos. Esto implica que las hipótesis y predicciones elaboradas por dichos modelos estarán directamente relacionados con la calidad de los datos. Por ende, es crítico asegurar un preprocesado y una buena examinación de los datasets a trabajar.\n",
    "\n",
    "El contenido de esta cátedra, se centra en las técnicas esenciales para la exploración de datos usando las herramientas que hemos visto hasta el momento.\n"
   ]
  },
  {
   "attachments": {},
   "cell_type": "markdown",
   "id": "5141b08e",
   "metadata": {},
   "source": [
    "## Problema de Esta Clase: House Pricing\n",
    "\n",
    "![House Pricing](https://storage.googleapis.com/kaggle-competitions/kaggle/5407/media/housesbanner.png)\n",
    "\n",
    "El dataset **`house pricing`** consiste en 80 variables (79 variables explicativas más una variable objetivo) que describen aspectos fundamentales de hogares residenciales en la ciudad de _Ames, Iowa_.\n",
    "\n",
    "La variable objetivo de este dataset es generar un modelo que prediga el precio final de cada hogar por medio de una regresión.\n",
    "\n",
    "Es un problema \"ultra conocido\"y pueden encontrar su descripción aquí: https://www.kaggle.com/c/house-prices-advanced-regression-techniques\n"
   ]
  },
  {
   "cell_type": "code",
   "execution_count": null,
   "id": "64138877",
   "metadata": {},
   "outputs": [],
   "source": [
    "import numpy as np\n",
    "import pandas as pd\n",
    "from scipy import stats\n",
    "from scipy.stats import norm\n",
    "\n",
    "# El conjunto a trabajar es el de entrenamiento\n",
    "df = pd.read_csv(\n",
    "    \"https://raw.githubusercontent.com/MDS7202/MDS7202/main/recursos/2023-01/13-EDA//train.csv\",\n",
    "    index_col=\"Id\",\n",
    ")\n",
    "df\n"
   ]
  },
  {
   "cell_type": "code",
   "execution_count": null,
   "id": "998ce5e8",
   "metadata": {},
   "outputs": [],
   "source": [
    "# Preprocesamiento\n",
    "\n",
    "# Etapa 1: Convertir mes y año a Datetime\n",
    "df[\"DateSold\"] = pd.to_datetime(\n",
    "    \"1/\" + df[\"MoSold\"].astype(str) + \"/\" + df[\"YearBuilt\"].astype(str), yearfirst=False\n",
    ")\n",
    "\n",
    "# Etapa 2: Generar cuartiles para los precios\n",
    "df[\"SalePriceQCut\"] = pd.qcut(\n",
    "    df[\"SalePrice\"], 4, [\"Low\", \"Low-Mid\", \"Mid-High\", \"High\"]\n",
    ")\n",
    "\n",
    "# Etapa 3: Convertir strings a categorías\n",
    "df = pd.concat(\n",
    "    [\n",
    "        df.select_dtypes([], [\"object\"]),\n",
    "        df.select_dtypes([\"object\"]).apply(pd.Series.astype, dtype=\"category\"),\n",
    "    ],\n",
    "    axis=1,\n",
    ")\n"
   ]
  },
  {
   "cell_type": "code",
   "execution_count": null,
   "id": "623a5420",
   "metadata": {},
   "outputs": [],
   "source": [
    "df = df.loc[\n",
    "    :,\n",
    "    [\n",
    "        # Terreno 🏔️\n",
    "        \"LotArea\",  # Area del terreno\n",
    "        \"LandSlope\",  # Pendiente del terreno\n",
    "        \"Neighborhood\",  # Barrio\n",
    "        # Metadatos de la Vivienda 📆\n",
    "        \"BldgType\",  # Tipo de vivienda\n",
    "        \"YearBuilt\",  # Año de construcción\n",
    "        \"YearRemodAdd\",  # Año de remodelación\n",
    "        \"Utilities\",  # Agua, luz, etc...\n",
    "        # Materiales 🧱\n",
    "        \"Foundation\",  # Fundación de la vivienda\n",
    "        \"RoofMatl\",  # Material del techo\n",
    "        \"RoofStyle\",  # Estilo del techo\n",
    "        \"Exterior1st\",  # Material del Exterior\n",
    "        \"ExterCond\",  # Condición del material exterior\n",
    "        # Interior de la casa 🏡\n",
    "        \"GrLivArea\",  # Area habitable sobre el nivel del suelo.\n",
    "        \"1stFlrSF\",  # Area primer piso\n",
    "        \"2ndFlrSF\",  # Area segundo piso\n",
    "        \"FullBath\",  # Baños completos\n",
    "        \"HalfBath\",  # Medios baños, baños sin tina.\n",
    "        \"BedroomAbvGr\",  # Piezas\n",
    "        \"KitchenAbvGr\",  # Cocinas\n",
    "        \"KitchenQual\",  # Calidad de la cocina\n",
    "        # Sótano 🪨\n",
    "        \"TotalBsmtSF\",  # Total sótano\n",
    "        \"BsmtCond\",  # Condición del sótano\n",
    "        # Garaje 🚗\n",
    "        \"GarageType\",  # Tipo de garaje\n",
    "        \"GarageCars\",  # Cantidad de autos por garaje\n",
    "        # Piscina 🤽‍♂️\n",
    "        \"PoolArea\",  # Area de la piscina\n",
    "        \"PoolQC\",  # Calidad de la piscina\n",
    "        # Calefacción y Aire 🌦️\n",
    "        \"Heating\",  # Calefacción\n",
    "        \"HeatingQC\",  # Calidad de la Calefacción\n",
    "        \"CentralAir\",  # Aire Acondicionado Central\n",
    "        # Calidad y Condición 🌟\n",
    "        \"OverallQual\",  # Calidad general\n",
    "        \"OverallCond\",  # Condición general actual\n",
    "        # Datos de la venta  💵\n",
    "        \"DateSold\",  # Mes y Año de venta\n",
    "        \"SaleType\",  # Tipo de venta\n",
    "        \"SaleCondition\",  # Condición de la vivienda en la venta\n",
    "        \"SalePrice\",  # Precio de la venta\n",
    "        \"SalePriceQCut\",  # Cuartiles del precio de la vivienda\n",
    "    ],\n",
    "]\n",
    "\n",
    "numeric = df.select_dtypes([\"int64\"]).columns\n",
    "categorical = df.select_dtypes([\"category\"]).columns\n"
   ]
  },
  {
   "cell_type": "code",
   "execution_count": null,
   "id": "9fe6bdd1",
   "metadata": {},
   "outputs": [],
   "source": [
    "df.info()\n"
   ]
  },
  {
   "cell_type": "code",
   "execution_count": null,
   "id": "4242f1d8",
   "metadata": {},
   "outputs": [],
   "source": [
    "df.head()\n"
   ]
  },
  {
   "attachments": {},
   "cell_type": "markdown",
   "id": "f9e00ce5",
   "metadata": {},
   "source": [
    "> **Actividad 📎**: ¿Qué hacemos ahora? - Diseñen en conjunto un plan para explorar los datos.\n"
   ]
  },
  {
   "attachments": {},
   "cell_type": "markdown",
   "id": "c3bc1992",
   "metadata": {
    "tags": []
   },
   "source": [
    "## Análisis Exploratorio de Datos\n",
    "\n",
    "Un análisis exploratorio de datos (EDA, por sus siglas en inglés) es una técnica utilizada en la ciencia de datos para examinar y resumir las principales características de un conjunto de datos. **El objetivo principal del EDA es descubrir patrones, relaciones y tendencias en los datos, así como identificar cualquier anomalía o error que pueda estar presente.**\n"
   ]
  },
  {
   "attachments": {},
   "cell_type": "markdown",
   "id": "69934896",
   "metadata": {},
   "source": [
    "<img src='https://raw.githubusercontent.com/MDS7202/MDS7202/main/recursos/2023-01/13-EDA/eda_related.png' alt='Gráficos en análisis exploratorio de datos'/>\n",
    "\n",
    "<div align='center'/>\n",
    "Análisis exploratorio de datos. \n",
    "<br>\n",
    "Fuente: <a href='https://towardsdatascience.com/exploratory-data-analysis-8fc1cb20fd15'>What is Exploratory Data Analysis?</a>\n",
    "</center>\n"
   ]
  },
  {
   "attachments": {},
   "cell_type": "markdown",
   "id": "0bf5a22f",
   "metadata": {},
   "source": [
    "El EDA implica la utilización de herramientas estadísticas y gráficas para explorar los datos. Esto incluye la visualización de datos, el cálculo de medidas estadísticas como la media, la mediana y la desviación estándar, y la identificación de valores atípicos (o _outliers_) y errores.\n",
    "\n",
    "En general, podemos resumir este proceso en estas 5 etapas, una del problema:\n",
    "\n",
    "0. **Entender el problema con el que trabajaremos y obtener los datos.**\n",
    "\n",
    "Y las otras respecto a los datos en si:\n",
    "\n",
    "1. **Análisis Univariado**: En esta etapa se analiza cada variable de forma individual, utilizando técnicas estadísticas y gráficas para examinar su distribución, tendencias y valores atípicos.\n",
    "2. **Análisis Bivariado y Multivariado**: En esta etapa se analizan las relaciones entre pares de variables, utilizando gráficos de dispersión y técnicas estadísticas para determinar la asociación entre ellas.\n",
    "3. **Identificación y manejo de valores faltantes:** En esta etapa se identifican los valores faltantes en los datos y se decide cómo manejarlos para evitar sesgos en el análisis.\n",
    "4. **Resumen y conclusiones:** En esta etapa se resumen los hallazgos clave del análisis exploratorio de datos y se extraen conclusiones sobre los datos y las relaciones entre las variables. Estas conclusiones pueden guiar el análisis posterior y la toma de decisiones.\n"
   ]
  },
  {
   "attachments": {},
   "cell_type": "markdown",
   "id": "09662fbf",
   "metadata": {},
   "source": [
    "### Repaso: Estadísticas de Resumen\n",
    "\n",
    "Las estadísticas de resumen se refieren a un conjunto de medidas numéricas que resumen o describen las características clave de un conjunto de datos. Estas medidas proporcionan una forma rápida y sencilla de comprender los patrones y propiedades de los datos a través del análisis de su distribución, centralidad, variabilidad, entre otras.\n",
    "\n",
    "Las estadísticas de resumen incluyen:\n",
    "\n",
    "- Medidas de tendencia central (ver como se comportan los datos a través de valores centrales) como:\n",
    "\n",
    "  1. Media (promedio): es la suma de todos los valores dividida por el número de observaciones.\n",
    "  2. Mediana: es el valor que se encuentra en el centro de un conjunto de datos ordenados de menor a mayor.\n",
    "  3. Moda: es el valor que ocurre con mayor frecuencia en un conjunto de datos.\n",
    "\n",
    "- Dispersión (miden la variabilidad de los datos) como:\n",
    "\n",
    "  1. Rango: es la diferencia entre el valor máximo y el valor mínimo en un conjunto de datos.\n",
    "  2. Desviación estándar: mide la dispersión de los datos alrededor de la media.\n",
    "\n",
    "- Percentiles y Cuartiles.\n",
    "\n",
    "En el caso en que estemos analizando de forma multivariada, podemos usar:\n",
    "\n",
    "- Correlación: mide el grado de asociación lineal entre dos variables.\n",
    "- Tablas de contingencia: conteo entre ocurrencias de variables categóricas.\n"
   ]
  },
  {
   "attachments": {},
   "cell_type": "markdown",
   "id": "fcb0faea",
   "metadata": {},
   "source": [
    "---\n"
   ]
  },
  {
   "attachments": {},
   "cell_type": "markdown",
   "id": "f13e86b3",
   "metadata": {},
   "source": [
    "## 1. Análisis Univariado\n",
    "\n",
    "El análisis univariado es el primer paso de un EDA y se enfoca en analizar cada variable de forma individual. Durante el análisis univariado, se utilizan diversas técnicas estadísticas y gráficas para explorar las características de una variable. Algunas de las técnicas comunes del análisis univariado incluyen:\n",
    "\n",
    "1. Gráficos de frecuencia: son histogramas o gráficos de barras que muestran la frecuencia de cada valor en una variable.\n",
    "\n",
    "2. Medidas de tendencia central: como la media, mediana y moda, que ayudan a resumir la ubicación central de los datos.\n",
    "\n",
    "3. Medidas de dispersión: como la desviación estándar, varianza y rango, que miden cuánto se desvían los datos de la tendencia central.\n",
    "\n",
    "4. Gráficos de caja: proporcionan una visión general de la distribución de los datos, incluyendo los cuartiles, el rango y los valores atípicos.\n",
    "\n",
    "El objetivo final de esta etapa es comprender qué papel juega cada variable (de forma independiente) en la resolución del problema.\n"
   ]
  },
  {
   "attachments": {},
   "cell_type": "markdown",
   "id": "b72ff796",
   "metadata": {},
   "source": [
    "#### Análisis univariado numérico\n",
    "\n",
    "En el siguiente ejemplo se mostrará cómo realizar un análisis de la variable numérica `SalePrice`.\n"
   ]
  },
  {
   "cell_type": "code",
   "execution_count": null,
   "id": "1ff4dc48",
   "metadata": {},
   "outputs": [],
   "source": [
    "df.loc[:, [\"SalePrice\"]].describe().round(2)\n"
   ]
  },
  {
   "attachments": {},
   "cell_type": "markdown",
   "id": "7168071d",
   "metadata": {},
   "source": [
    "> **Pregunta ❓**: ¿Cuál es el problema de la tabla anterior?\n"
   ]
  },
  {
   "attachments": {},
   "cell_type": "markdown",
   "id": "3e972bf6",
   "metadata": {},
   "source": [
    "##### Histograma y Boxplot\n"
   ]
  },
  {
   "attachments": {},
   "cell_type": "markdown",
   "id": "7ba3bc37",
   "metadata": {},
   "source": [
    "Para mejorar el análisis anterior, usaremos un histograma más un boxplot o gráfico de caja.\n",
    "\n",
    "1. Histograma: permite ver la distribución de los datos a través de barras que muestran la frecuencia de intervalos (bins) en una variable.\n",
    "2. Boxplots: proporcionan una visión general de la distribución de los datos, incluyendo los cuartiles, el rango y los valores atípicos. El siguiente puntéo muestra el cómo leerlos:\n",
    "\n",
    "- La caja muestra el primer y tercer cuartil.\n",
    "- La mediana está mostrada en la división de la caja.\n",
    "- El ancho de la caja es el rango intercuantílico (Q3 - Q1).\n",
    "- Los brazos representan el rango intercuantílico \\* +/- 1.5. Los valores fuera de este rango pueden ser considerados datos fuera de la norma / outliers.\n"
   ]
  },
  {
   "cell_type": "code",
   "execution_count": null,
   "id": "d6068ae0",
   "metadata": {},
   "outputs": [],
   "source": [
    "import plotly.express as px\n",
    "\n",
    "px.histogram(\n",
    "    df, \n",
    "    x=\"SalePrice\", \n",
    "    title=\"Análisis de la variable SalePrice\", \n",
    "    marginal=\"box\"\n",
    ")\n"
   ]
  },
  {
   "attachments": {},
   "cell_type": "markdown",
   "id": "d0a373ed-366b-44fe-80af-c54d622d7951",
   "metadata": {},
   "source": [
    "Al finalizar, podemos concluir enseguida o juntar los resúmenes más adelante:\n",
    "\n",
    "_Bajo estos gráficos podemos concluir que:_\n",
    "\n",
    "- _La mayoría de las propiedades se concentran cerca del promedio de la distribución._\n",
    "- _Existen algunas propiedades muy caras que hacen que la cola de la distribución sea muy larga hacia la derecha. Esto se confirma con el boxplot, en donde existen muchos puntos outliers._\n",
    "- _Es relativamente uniforme a lo largo del dominio, salvo por algunas discontinudades, como por ejemplo en 170k a 180k._\n"
   ]
  },
  {
   "attachments": {},
   "cell_type": "markdown",
   "id": "b98bc1fa",
   "metadata": {},
   "source": [
    "### Caracterizar distribuciones\n",
    "\n",
    "Existen algunas medidas útiles para caracterizar la distribución de una variable (aplican bien cuando las distribuciones son normales).\n"
   ]
  },
  {
   "attachments": {},
   "cell_type": "markdown",
   "id": "ac4a9171",
   "metadata": {},
   "source": [
    "##### 1. **Skewness / Asimetría**\n",
    "\n",
    "El skewness (o asimetría) de una distribución estadística es una medida de la falta de simetría en la forma de la distribución. En otras palabras, el skewness nos indica si la distribución está desplazada hacia la derecha o hacia la izquierda con respecto a su valor central.\n",
    "\n",
    "Si una distribución es...\n",
    "\n",
    "- Simétrica, su skewness es cero, lo que significa que la mitad de los datos están por encima del valor central y la otra mitad por debajo, y la distribución tiene un aspecto equilibrado.\n",
    "- Asimétrica, su skewness es diferente de cero y la distribución tiene una forma sesgada hacia uno de los lados.\n",
    "\n",
    "<div align='center'>\n",
    "    <img src='https://raw.githubusercontent.com/MDS7202/MDS7202/main/recursos/2023-01/13-EDA/skew.png' alt='Skewness' width=600/>\n",
    "</div>\n"
   ]
  },
  {
   "attachments": {},
   "cell_type": "markdown",
   "id": "d174df68",
   "metadata": {},
   "source": [
    "##### 2. **Curtosis**:\n",
    "\n",
    "La curtosis mide el grado de concentración de los datos en torno a la media y la presencia de valores extremos (valores atípicos) en la distribución.\n",
    "\n",
    "Una distribución con una curtosis...\n",
    "\n",
    "1. Alta: tiene una concentración mayor de datos alrededor de la media y una cola más pronunciada, lo que indica que hay más valores extremos en la distribución.\n",
    "2. Baja: tiene una concentración menor de datos alrededor de la media y una cola menos pronunciada, lo que indica que hay menos valores extremos en la distribución.\n",
    "\n",
    "<div align='center'>\n",
    "    <img src='https://encrypted-tbn0.gstatic.com/images?q=tbn%3AANd9GcT1n1f_pfBRWXsET7Zk8UbRnzKLDPqsBs5ESL_uh9aKmlDcIpkO' alt='Kurtosis' width=600/>\n",
    "</div>\n"
   ]
  },
  {
   "cell_type": "code",
   "execution_count": null,
   "id": "3aa36bd6",
   "metadata": {},
   "outputs": [],
   "source": [
    "# skewness and kurtosis\n",
    "print(f\"Skewness: {df.loc[:, 'SalePrice'].skew().round(2)}\")\n",
    "print(f\"Kurtosis: {df.loc[:, 'SalePrice'].kurt().round(2)}\")\n"
   ]
  },
  {
   "attachments": {},
   "cell_type": "markdown",
   "id": "9d9d88dc",
   "metadata": {},
   "source": [
    "> **Pregunta ❓**: ¿Qué nos dicen estos valores de asimetría y curtosis de `SalePrice`?\n"
   ]
  },
  {
   "cell_type": "code",
   "execution_count": null,
   "id": "5e0f4d3f",
   "metadata": {},
   "outputs": [],
   "source": [
    "px.histogram(\n",
    "    df, x=\"SalePrice\", title=\"Análisis de la variable SalePrice\", marginal=\"box\"\n",
    ")\n"
   ]
  },
  {
   "attachments": {},
   "cell_type": "markdown",
   "id": "2484c6fe",
   "metadata": {},
   "source": [
    "### Distribuciones de Variables Numéricas\n",
    "\n",
    "A continuación, generaremos histogramas que nos permitirán entender y visualizar la geometría de cada distribución.\n"
   ]
  },
  {
   "cell_type": "code",
   "execution_count": null,
   "id": "9d589ddd",
   "metadata": {},
   "outputs": [],
   "source": [
    "import plotly.graph_objects as go\n",
    "from plotly.subplots import make_subplots\n",
    "\n",
    "n_cols = 4\n",
    "\n",
    "fig = make_subplots(\n",
    "    rows=len(numeric) // n_cols + 1, cols=n_cols, subplot_titles=numeric\n",
    ")\n",
    "\n",
    "for idx, col in enumerate(numeric):\n",
    "    row_idx = idx // n_cols + 1\n",
    "    col_idx = idx % n_cols + 1\n",
    "\n",
    "    hist = go.Histogram(x=df.loc[:, col], name=col, histnorm=\"probability\")\n",
    "    fig.add_trace(hist, row=row_idx, col=col_idx)\n",
    "\n",
    "fig.update_layout(\n",
    "    height=800,\n",
    "    title_text=\"Análisis Univariado de las Variables Numéricas\",\n",
    "    showlegend=False,\n",
    ")\n",
    "fig.show()\n"
   ]
  },
  {
   "attachments": {},
   "cell_type": "markdown",
   "id": "77076ed7",
   "metadata": {},
   "source": [
    "### Distribuciones de Variables Categóricas\n",
    "\n",
    "Para las variables categóricas, se genera un conteo de las categorías a través de gráficos de barra.\n"
   ]
  },
  {
   "cell_type": "code",
   "execution_count": null,
   "id": "442f8d94",
   "metadata": {},
   "outputs": [],
   "source": [
    "import plotly.graph_objects as go\n",
    "from plotly.subplots import make_subplots\n",
    "\n",
    "n_cols = 4\n",
    "\n",
    "fig = make_subplots(\n",
    "    rows=len(categorical) // n_cols + 1, cols=n_cols, subplot_titles=categorical\n",
    ")\n",
    "\n",
    "for idx, col in enumerate(categorical):\n",
    "    row_idx = idx // n_cols + 1\n",
    "    col_idx = idx % n_cols + 1\n",
    "\n",
    "    data = df.loc[:, col]\n",
    "    hist = go.Histogram(x=data, name=col)\n",
    "    fig.add_trace(hist, row=row_idx, col=col_idx)\n",
    "\n",
    "fig.update_layout(\n",
    "    height=1200,\n",
    "    title_text=\"Análisis Univariado de las Variables Categoricas\",\n",
    "    showlegend=False,\n",
    ")\n",
    "fig.show()\n"
   ]
  },
  {
   "attachments": {},
   "cell_type": "markdown",
   "id": "7d3b69d1",
   "metadata": {},
   "source": [
    "Al observar las distribuciones, es importante buscar si existe variabilidad dentro de estas, pues por lo general, una variable con un único valor casi seguro, no aporta información a la dinámica de los datos.\n"
   ]
  },
  {
   "attachments": {},
   "cell_type": "markdown",
   "id": "fc77c876-6e91-4c9b-9162-be8ef5662b46",
   "metadata": {},
   "source": [
    "## 2. Análisis Multivariado\n",
    "\n",
    "El análisis bi y multivariado en un EDA implica el estudio simultáneo de dos o más variables en un conjunto de datos para determinar las relaciones entre ellas.\n",
    "\n",
    "Las técnicas utilizadas en un análisis multivariado dependen de los tipos de variables involucradas:\n",
    "\n",
    "- Si son de tipo numérico, se pueden utilizar:\n",
    "\n",
    "  - Gráficos de dispersión y coordenadas paralelas.\n",
    "  - Medidas de correlación.\n",
    "\n",
    "- Si una de las variables es categórica y la otra numérica, se puede utilizar un gráfico de barras para comparar la distribución de la variable categórica en función de los valores de la variable numérica.\n",
    "\n",
    "- Si son categóricas, se pueden utilizar:\n",
    "  - Tablas de contingencia\n",
    "  - Medidas de asociación, como el coeficiente de contingencia o el coeficiente de phi, para determinar la fuerza de la relación.\n"
   ]
  },
  {
   "attachments": {},
   "cell_type": "markdown",
   "id": "c1ddf810-8155-4d6d-a002-1fe3f75c0a80",
   "metadata": {},
   "source": [
    "### Scatter Matrix\n",
    "\n",
    "Una scatter matrix es una visualización en forma de matriz; en donde cada variable numérica se representa en un eje (vertical u horizontal) y cada celda en la matriz representa la relación entre dos variables numéricas.\n",
    "\n",
    "La scatter matrix es útil para identificar patrones o relaciones complejas entre múltiples variables numéricas en un conjunto de datos y para identificar posibles valores atípicos o errores en los datos. Sin embargo, presenta debilidades en cuanto a la cantidad de variables que esta puede mostrar.\n"
   ]
  },
  {
   "cell_type": "code",
   "execution_count": null,
   "id": "14fb1b84",
   "metadata": {},
   "outputs": [],
   "source": [
    "variables_interes = [\n",
    "    \"GrLivArea\",  # Area sobre el suelo\n",
    "    \"TotalBsmtSF\",  # Area del sótano\n",
    "    \"FullBath\",  # Número de baños\n",
    "    \"OverallQual\",  # Calidad general\n",
    "]\n"
   ]
  },
  {
   "cell_type": "code",
   "execution_count": null,
   "id": "27170224",
   "metadata": {},
   "outputs": [],
   "source": [
    "fig = px.scatter_matrix(\n",
    "    df.sort_values(by=\"SalePriceQCut\", ascending=True),\n",
    "    dimensions=variables_interes,\n",
    "    height=1200,\n",
    "    title=\"Análisis Bivariado\",\n",
    "    #color=\"SalePriceQCut\",\n",
    ").update_traces(diagonal_visible=False)\n",
    "\n",
    "fig.show()\n"
   ]
  },
  {
   "attachments": {},
   "cell_type": "markdown",
   "id": "425c5d14",
   "metadata": {},
   "source": [
    "### Coordenadas paralelas\n",
    "\n",
    "El gráfico de coordenadas paralelas es una visualización que permite comparar múltiples variables numéricas en un conjunto de datos. En este gráfico, cada variable se representa en un eje paralelo al resto de las variables, y las líneas que conectan los puntos representan las observaciones en el conjunto de datos.\n",
    "\n",
    "El gráfico de coordenadas paralelas es útil para identificar patrones y relaciones complejas entre múltiples variables, y para identificar posibles valores atípicos o errores en los datos.\n",
    "Una desventaja de este gráfico es que no muestra la distribución individual de cada variable, sino que muestra solamente la relación entre ellas.\n"
   ]
  },
  {
   "cell_type": "code",
   "execution_count": null,
   "id": "cd3bd8ff",
   "metadata": {},
   "outputs": [],
   "source": [
    "variables_interes = [\n",
    "    \"GrLivArea\",  # Area sobre el suelo\n",
    "    \"TotalBsmtSF\",  # Area del sótano\n",
    "    \"1stFlrSF\",  # Area del primer piso\n",
    "    \"2ndFlrSF\",  # Area del segundo piso\n",
    "    \"FullBath\",  # Número de baños\n",
    "    \"YearBuilt\",  # Año de construcción\n",
    "    \"OverallQual\",  # Calidad\n",
    "]\n",
    "\n",
    "px.parallel_coordinates(df, dimensions=variables_interes, color=\"OverallQual\")\n"
   ]
  },
  {
   "attachments": {},
   "cell_type": "markdown",
   "id": "8310bf21-dd57-4461-8fff-a8351401895b",
   "metadata": {},
   "source": [
    "La última fila de esta visualización entrega una idea de la relación entre las variables de interés. Dentro de las interacciones entre variables, se observa que 'GrLivArea' y 'TotalBsmtSf' se comportan de manera similar contra 'OverllQuall', esperandose cierta tendencia creciente en ambos casos.\n"
   ]
  },
  {
   "attachments": {},
   "cell_type": "markdown",
   "id": "8ad91d93-cca8-4fc5-ba10-6d6bc2931f69",
   "metadata": {},
   "source": [
    "### Análisis bivariado respecto a la variable dependiente\n",
    "\n",
    "Cuando se crea un modelo predictivo, es común tener una variable dependiente o objetivo que se desea predecir. Para desarrollar un buen modelo, es importante analizar cómo se comportan las demás variables con respecto a dicha variable. El objetivo de análisis es esencial para identificar las variables más relevantes y comprender la naturaleza de la relación entre ellas y la variable objetivo.\n",
    "\n",
    "Para esto, veremos 2 visualizaciones especiales:\n"
   ]
  },
  {
   "attachments": {},
   "cell_type": "markdown",
   "id": "5a498165",
   "metadata": {},
   "source": [
    "#### Gráficos de violín\n",
    "\n",
    "Un gráfico de violín permite sumarizar y observar características de un dataset. Este se comporta como un gráfico de cajas (boxplot), mostrando la mediana, el rango intercuantílico IQR (percentil 75 - percentil 25, o Q3 - Q1) y el rango 1.5 intercuantílico (Q3 +- 1.5 IQR). Sumado a lo anterior, se suma una estimación de la densidad por kernel a cada lado. Esto quiere decir, que zonas con mayor densidad, se verán como 'montes' horizontales.\n",
    "\n",
    "A continuación veremos un par de ejemplos de esto:\n"
   ]
  },
  {
   "attachments": {},
   "cell_type": "markdown",
   "id": "9cf2c408",
   "metadata": {},
   "source": [
    "##### OverallQual\n"
   ]
  },
  {
   "cell_type": "code",
   "execution_count": null,
   "id": "115cb71f",
   "metadata": {},
   "outputs": [],
   "source": [
    "import plotly.express as px\n",
    "\n",
    "\n",
    "fig = px.violin(\n",
    "    df, \n",
    "    x=\"OverallQual\", \n",
    "    y=\"SalePrice\", \n",
    "    title=\"OverallQuall vs SalePrice\",\n",
    ").show()\n",
    "\n",
    "fig = px.box(\n",
    "    df, \n",
    "    x=\"OverallQual\", \n",
    "    y=\"SalePrice\", \n",
    "    title=\"OverallQuall vs SalePrice\",\n",
    ").show()"
   ]
  },
  {
   "cell_type": "code",
   "execution_count": null,
   "id": "9822de57-ed34-439d-8381-b87cedfc58f8",
   "metadata": {},
   "outputs": [],
   "source": [
    "fig = px.violin(\n",
    "    df, x=\"OverallQual\", \n",
    "    y=\"SalePrice\", \n",
    "    title=\"OverallQuall vs SalePrice\"\n",
    ").show()"
   ]
  },
  {
   "attachments": {},
   "cell_type": "markdown",
   "id": "7be16c00",
   "metadata": {},
   "source": [
    "Se observa la variable `OverallQual` (categórica) y se compara con la variable de interés `SalePrice`. Para ello se usa un gráfico de categórias tipo violín y box (para adicionalmente comparar ambas visualizaciones)\n"
   ]
  },
  {
   "attachments": {},
   "cell_type": "markdown",
   "id": "890314bf",
   "metadata": {},
   "source": [
    "##### LandSlope\n"
   ]
  },
  {
   "cell_type": "code",
   "execution_count": null,
   "id": "64e14bb4",
   "metadata": {},
   "outputs": [],
   "source": [
    "fig = px.violin(\n",
    "    df, x=\"LandSlope\", y=\"SalePrice\", title=\"Violin plot LandSlope vs SalePrice\"\n",
    ")\n",
    "fig.show()\n"
   ]
  },
  {
   "attachments": {},
   "cell_type": "markdown",
   "id": "038c4f2d",
   "metadata": {},
   "source": [
    "Por otra parte, analizando las gráficas univariadas, se puede observar que para `LandSlope`, se tiene poca variablidad y no genera diferencias en distribución para 'SalePrice' en ninguna de sus categorias.\n"
   ]
  },
  {
   "attachments": {},
   "cell_type": "markdown",
   "id": "e4c4a947",
   "metadata": {},
   "source": [
    "#### Scatterplots con Lineas de Tendencia\n",
    "\n",
    "Otra técnica que se utiliza para analizar la relación entre dos variables en un modelo predictivo es el gráfico de dispersión con regresión lineal. Este gráfico permite visualizar la relación entre dos variables y estimar la magnitud y dirección de esa relación.\n"
   ]
  },
  {
   "attachments": {},
   "cell_type": "markdown",
   "id": "8a0174e7",
   "metadata": {},
   "source": [
    "Por ejemplo, estudiemos la variable `GrLivArea`. Para esto, primero definimos una función para gráficar variables numéricas con respecto a `SalePrice`.\n"
   ]
  },
  {
   "cell_type": "code",
   "execution_count": null,
   "id": "e73b1d53",
   "metadata": {},
   "outputs": [],
   "source": [
    "fig = px.scatter(\n",
    "    df,\n",
    "    x=\"LotArea\",\n",
    "    y=\"SalePrice\",\n",
    "    title=f\"LotArea vs SalePrice\",\n",
    "    trendline=\"ols\",\n",
    ")\n",
    "fig.show()\n"
   ]
  },
  {
   "attachments": {},
   "cell_type": "markdown",
   "id": "abe3639e",
   "metadata": {},
   "source": [
    "En este caso, se puede observar una distrbución univariada bien definida y un comportamiento lineal aunque ruidoso. Esto hace que `GrLivArea` sea una variable de interés. De la misma manera, `1stFlrSF`, parece reflejar las mismas buenas características.\n"
   ]
  },
  {
   "cell_type": "code",
   "execution_count": null,
   "id": "c75fac60",
   "metadata": {},
   "outputs": [],
   "source": [
    "fig = px.scatter(\n",
    "    df,\n",
    "    x=\"1stFlrSF\",\n",
    "    y=\"SalePrice\",\n",
    "    title=f\"1stFlrSF vs SalePrice\",\n",
    "    trendline=\"ols\",\n",
    ")\n",
    "fig.show()\n"
   ]
  },
  {
   "attachments": {},
   "cell_type": "markdown",
   "id": "db29319f",
   "metadata": {},
   "source": [
    "En el caso de 'TotalBsmtSF' se tiene\n"
   ]
  },
  {
   "cell_type": "code",
   "execution_count": null,
   "id": "2d8565f5",
   "metadata": {},
   "outputs": [],
   "source": [
    "fig = px.scatter(\n",
    "    df,\n",
    "    x=\"TotalBsmtSF\",\n",
    "    y=\"SalePrice\",\n",
    "    title=f\"TotalBsmtSF vs SalePrice\",\n",
    "    trendline=\"ols\",\n",
    ")\n",
    "fig.show()\n"
   ]
  },
  {
   "attachments": {},
   "cell_type": "markdown",
   "id": "87debec6",
   "metadata": {},
   "source": [
    "Una relación menos lineal con un poco más de ruido pero una buena distribución en e dataset. Esta variable puede ser de interés pero esto se puede estudiar a posteriori.\n",
    "\n",
    "Finalmente para `PoolArea`, se tiene\n"
   ]
  },
  {
   "cell_type": "code",
   "execution_count": null,
   "id": "da188245",
   "metadata": {},
   "outputs": [],
   "source": [
    "fig = px.scatter(\n",
    "    df,\n",
    "    x=\"PoolArea\",\n",
    "    y=\"SalePrice\",\n",
    "    title=f\"PoolArea vs SalePrice\",\n",
    "    trendline=\"ols\",\n",
    ")\n",
    "fig.show()\n"
   ]
  },
  {
   "attachments": {},
   "cell_type": "markdown",
   "id": "75e9bbbc",
   "metadata": {},
   "source": [
    "Se aprecia una distribución altamente concentrada en el 0 y poco relacionada con la variable a predecir.\n"
   ]
  },
  {
   "attachments": {},
   "cell_type": "markdown",
   "id": "479a9836",
   "metadata": {},
   "source": [
    "#### Categorías Paralelas\n",
    "\n",
    "La visualización de Categorías Paralelas permite comparar el comportamiento de variables categoricas a través de un gráfico 2d, en donde cada categoría es representada por una barra y conjuntos de datos similares se agrupan en cintas (_ribbons_).\n"
   ]
  },
  {
   "cell_type": "code",
   "execution_count": null,
   "id": "882be8b9",
   "metadata": {},
   "outputs": [],
   "source": [
    "fig = px.parallel_categories(\n",
    "    df.sample(1000).sort_values(\"SalePriceQCut\", ascending=False),\n",
    "    dimensions=[\n",
    "        \"OverallQual\",\n",
    "        \"Exterior1st\",\n",
    "        \"Utilities\",\n",
    "        \"SalePriceQCut\",\n",
    "    ],\n",
    ")\n",
    "fig.show()\n"
   ]
  },
  {
   "attachments": {},
   "cell_type": "markdown",
   "id": "ee51862c",
   "metadata": {},
   "source": [
    "> **Ejercicio ✏️**: Explore el equivalente de Categorías Paralelas para variables numéricas ([Coordenadas paralelas](https://plotly.com/python/parallel-coordinates-plot/)) y grafique la relación entre variables numéricas y 'SalePrice'.\n"
   ]
  },
  {
   "attachments": {},
   "cell_type": "markdown",
   "id": "5a571764-4f2d-4d11-a502-8662580de9f0",
   "metadata": {
    "tags": []
   },
   "source": [
    "### Análisis Temporal\n",
    "\n",
    "Este análisis nos permite ver como se comportan los valores de alguna variable a través del tiempo.\n"
   ]
  },
  {
   "cell_type": "code",
   "execution_count": null,
   "id": "bc9b968d",
   "metadata": {},
   "outputs": [],
   "source": [
    "df_temporal = (\n",
    "    df.query(\"YearBuilt > 1920\")\n",
    "    .groupby(\"YearBuilt\")\n",
    "    .agg({\"SalePrice\": [\"mean\", \"std\"]})\n",
    "    .sort_values(\"YearBuilt\")\n",
    "    .reset_index()\n",
    ")\n",
    "\n",
    "df_temporal.columns = [\"YearBuilt\", \"SalePriceMean\", \"SalePriceStd\"]\n",
    "\n",
    "df_temporal\n"
   ]
  },
  {
   "cell_type": "code",
   "execution_count": null,
   "id": "2f0637b9",
   "metadata": {},
   "outputs": [],
   "source": [
    "px.line(\n",
    "    df_temporal,\n",
    "    y=\"SalePriceMean\",\n",
    "    x=\"YearBuilt\",\n",
    ")\n"
   ]
  },
  {
   "cell_type": "code",
   "execution_count": null,
   "id": "114666b8",
   "metadata": {},
   "outputs": [],
   "source": [
    "px.line(df_temporal, y=\"SalePriceMean\", x=\"YearBuilt\", error_y=\"SalePriceStd\")\n"
   ]
  },
  {
   "attachments": {},
   "cell_type": "markdown",
   "id": "8f971728",
   "metadata": {},
   "source": [
    "#### Graficar percentiles\n",
    "\n",
    "También pueden graficar usando percentiles específicos:\n"
   ]
  },
  {
   "cell_type": "code",
   "execution_count": null,
   "id": "d59e35e3",
   "metadata": {},
   "outputs": [],
   "source": [
    "def percentile(n):\n",
    "    def percentile_(x):\n",
    "        return np.percentile(x, n)\n",
    "\n",
    "    percentile_.__name__ = \"percentile_%s\" % n\n",
    "    return percentile_\n",
    "\n",
    "\n",
    "df_temporal_per = (\n",
    "    df.query(\"YearBuilt > 1920\")\n",
    "    .groupby(\"YearBuilt\")\n",
    "    .agg({\"SalePrice\": [percentile(25), percentile(50), percentile(75)]})\n",
    "    .sort_values(\"YearBuilt\")\n",
    "    .reset_index()\n",
    ")\n",
    "df_temporal_per.columns = [\"YearBuilt\", \"SalePriceP25\", \"SalePriceP50\", \"SalePriceP75\"]\n",
    "df_temporal_per\n"
   ]
  },
  {
   "attachments": {},
   "cell_type": "markdown",
   "id": "2146ccc5",
   "metadata": {},
   "source": [
    "> **Pregunta ❓**: ¿Qué podemos hacer en este caso para graficar cada columna con un color distinto?\n"
   ]
  },
  {
   "cell_type": "code",
   "execution_count": null,
   "id": "7221c488",
   "metadata": {},
   "outputs": [],
   "source": [
    "df_temporal_per = df_temporal_per.melt(\n",
    "    id_vars=[\"YearBuilt\"], value_name=\"SalePrice\", var_name=\"Percentile\"\n",
    ")\n",
    "df_temporal_per\n"
   ]
  },
  {
   "cell_type": "code",
   "execution_count": null,
   "id": "3fcc0b35",
   "metadata": {},
   "outputs": [],
   "source": [
    "px.line(df_temporal_per, x=\"YearBuilt\", y=\"SalePrice\", color=\"Percentile\")\n"
   ]
  },
  {
   "attachments": {},
   "cell_type": "markdown",
   "id": "5f2c1f14",
   "metadata": {},
   "source": [
    "#### Boxplot temporal\n",
    "\n",
    "Una última opción es graficar usando boxplots.\n"
   ]
  },
  {
   "cell_type": "code",
   "execution_count": null,
   "id": "86eddb88",
   "metadata": {},
   "outputs": [],
   "source": [
    "px.box(df.query(\"YearBuilt > 1920\"), x=\"YearBuilt\", y=\"SalePrice\")\n"
   ]
  },
  {
   "attachments": {},
   "cell_type": "markdown",
   "id": "40d24d93",
   "metadata": {},
   "source": [
    "### Correlaciones entre variables\n"
   ]
  },
  {
   "attachments": {},
   "cell_type": "markdown",
   "id": "6902f25b",
   "metadata": {},
   "source": [
    "El análisis de correlaciones es una técnica que permite identificar patrones y relaciones entre las distintas variables de un dataset.\n",
    "\n",
    "La correlación es una medida que cuantifica qué tanto dos variables se mueven juntas. Sus valores pueden ser:\n",
    "\n",
    "- Positivo (cuando una variable aumenta, la otra también lo hace)\n",
    "- Negativo (cuando una variable aumenta, la otra disminuye) \n",
    "- Cercana a cero (cuando las variables no están relacionadas).\n",
    "\n",
    "\n",
    "La correlación se puede medir utilizando diferentes métodos, como el coeficiente de correlación de Pearson, el coeficiente de correlación de Spearman y el coeficiente de correlación de Kendall.\n",
    "En pandas, podemos calcular la matriz de correlaciones por variables numericas usando el método `corr()`."
   ]
  },
  {
   "attachments": {},
   "cell_type": "markdown",
   "id": "21e2997f",
   "metadata": {},
   "source": [
    "> **Pregunta ❓**: ¿Correlación implica causalidad?\n",
    "\n",
    "Lectura interesante: https://www.jotdown.es/2016/06/correlacion-no-implica-causalidad/"
   ]
  },
  {
   "cell_type": "code",
   "execution_count": null,
   "id": "6a96e54e",
   "metadata": {},
   "outputs": [],
   "source": [
    "correlaciones = df.corr()\n",
    "correlaciones"
   ]
  },
  {
   "attachments": {},
   "cell_type": "markdown",
   "id": "d1528ae1",
   "metadata": {},
   "source": [
    "Y lo podemos graficas usando `px.imshow`\n"
   ]
  },
  {
   "cell_type": "code",
   "execution_count": null,
   "id": "98eb0bc4",
   "metadata": {},
   "outputs": [],
   "source": [
    "px.imshow(\n",
    "    correlaciones,\n",
    "    aspect=\"16:9\",\n",
    "    title=\"Correlación entre Variables\",\n",
    "    height=800,\n",
    "    zmin=-1,\n",
    "    color_continuous_midpoint=0,\n",
    "    zmax=1,\n",
    "    color_continuous_scale=px.colors.sequential.Viridis,\n",
    ")\n"
   ]
  },
  {
   "attachments": {},
   "cell_type": "markdown",
   "id": "f85151e7",
   "metadata": {},
   "source": [
    "Según el esquema de valores, se buscan los puntos más claros y más oscuros fuera de la diagonal. En primera instancia, las variables `TotalBsmtSF` y `1stFlrSF` parece bastante correlacionadas, lo mismo ocurre con la variables `GarageCars` y `GarageArea`, esto puede indicar multicolinearidad que implica información duplicada o relacionada de manera trivial en el dataset.\n"
   ]
  },
  {
   "attachments": {},
   "cell_type": "markdown",
   "id": "17127a55",
   "metadata": {},
   "source": [
    "#### Correlaciones con respecto a la variable dependiente\n",
    "\n",
    "Un caso especial del cálculo de las correlaciones es el de todas las variables con respecto a la dependiente: correlaciones cercanas al 1 o -1 pueden indicar que existe una fuerte relación entre alguna variable y la dependiente.\n",
    "\n",
    "A continuación mostraremos las correlaciones de `SalePrice` con respecto a todas las otras."
   ]
  },
  {
   "cell_type": "code",
   "execution_count": null,
   "id": "3ed7de24",
   "metadata": {},
   "outputs": [],
   "source": [
    "px.imshow(\n",
    "    correlaciones.loc[[\"SalePrice\"], :].sort_values(\"SalePrice\", axis=1),\n",
    "    zmin=-1,\n",
    "    zmax=1,\n",
    "    color_continuous_midpoint=0,\n",
    "    color_continuous_scale=px.colors.sequential.Viridis,\n",
    "    title=\"Correlación SalePrice con respecto a todas las variables\"\n",
    ")\n"
   ]
  },
  {
   "attachments": {},
   "cell_type": "markdown",
   "id": "b74ca81e",
   "metadata": {},
   "source": [
    "Si bien, las correlaciones con `SalePrice` deben ser analizadas con más detenimiento, se pude ver claramente que `GrLivArea`, `TotalBsmtSF`, y `OverallQual` juegan un papel preponderante en el valor de la propiedad.\n"
   ]
  },
  {
   "attachments": {},
   "cell_type": "markdown",
   "id": "007b8bfb",
   "metadata": {},
   "source": [
    "### Tablas de Contingencia\n",
    "\n",
    "Para analizar valores categóricos (categórico vs categórico) existen herramientas especializadas una de ellas es por medio de tablas de dos tratamientos o de contingencia (2 way tables).\n",
    "\n",
    "Estas permiten calcular el numero de ocurrencias de una variable para cada una de sus categorías en comparación con los valores de otra variable.\n",
    "\n",
    "Por ejemplo, construyamos una tabla para analizar 'OverallQual' vs 'GarageCars':\n"
   ]
  },
  {
   "cell_type": "code",
   "execution_count": null,
   "id": "8cbf8c6a",
   "metadata": {},
   "outputs": [],
   "source": [
    "# Se construye la tabla\n",
    "tabla = pd.crosstab(\n",
    "    index=df.loc[:, \"OverallQual\"],\n",
    "    columns=df.loc[:, \"GarageCars\"],\n",
    ")\n",
    "tabla\n"
   ]
  },
  {
   "attachments": {},
   "cell_type": "markdown",
   "id": "ccb33b61",
   "metadata": {},
   "source": [
    "## 3. Identificación y manejo de valores faltantes\n",
    "\n",
    "La tercera etapa consiste en buscar detectar y tratar los valores faltantes en los datos.\n",
    "\n",
    "Los valores faltantes son aquellos datos que faltan en una o varias observaciones o variables del conjunto de datos. Esto puede ocurrir por varias razones, como errores de entrada de datos, datos faltantes o incompletos o simplemente porque no se recopiló esa información.\n",
    "\n",
    "La identificación de los valores faltantes es el primer paso en este proceso. Esto implica la revisión del conjunto de datos para detectar los valores faltantes y determinar la cantidad y la ubicación de estos valores. Este paso puede llevarse a cabo mediante el uso de herramientas de visualización o estadísticas descriptivas.\n",
    "\n",
    "\n",
    "Una vez que se han identificado los valores faltantes, el siguiente paso es el manejo de estos valores. Hay varias formas de tratar los valores faltantes, que incluyen:\n",
    "\n",
    "- Eliminación de las observaciones o variables con valores faltantes.\n",
    "- Imputación de los valores faltantes mediante la asignación de un valor estadístico, como la media o la mediana, o mediante técnicas más avanzadas como la imputación múltiple.\n",
    "- Considerar la creación de nuevas variables para representar los valores faltantes.\n",
    "\n",
    "\n",
    "En esta clase solo veremos el primer paso: identificar."
   ]
  },
  {
   "attachments": {},
   "cell_type": "markdown",
   "id": "7b6870b4",
   "metadata": {},
   "source": [
    "### Exploración de valores faltantes\n",
    "\n",
    "Cuando los datos faltantes se encuentran en variables que no son de interés, se pueden obviar. Sin embargo, esto no es la regla general.\n"
   ]
  },
  {
   "cell_type": "code",
   "execution_count": null,
   "id": "68c5fce1",
   "metadata": {},
   "outputs": [],
   "source": [
    "df.isnull().sum()\n"
   ]
  },
  {
   "attachments": {},
   "cell_type": "markdown",
   "id": "e610ba59",
   "metadata": {},
   "source": [
    "Sin embargo, basta observar las columnas para comprender que tales variables si poseen valores faltantes\n"
   ]
  },
  {
   "cell_type": "code",
   "execution_count": null,
   "id": "73bd1a67",
   "metadata": {},
   "outputs": [],
   "source": [
    "var_missing = [\"BsmtCond\", \"GarageType\", \"PoolQC\"]\n",
    "\n",
    "df[var_missing].head()\n"
   ]
  },
  {
   "attachments": {},
   "cell_type": "markdown",
   "id": "a71aad77",
   "metadata": {},
   "source": [
    "Por tal motivo es necesario realizar una exploración inicial de los datos faltantes en conjunción con los análisis de distribución iniciales.\n",
    "\n",
    "**Ejercicios ✏️**\n",
    "\n",
    "1. Estudie la distribución de los valores faltantes en las variables numéricas.\n",
    "\n",
    "2. Considerando que para las variables categóricas las variables con valor 'nan' son consideradas como una nueva categoría. ¿Se ven afectados los análisis anteriores sobre sus distribuciones?\n"
   ]
  },
  {
   "attachments": {},
   "cell_type": "markdown",
   "id": "15026649",
   "metadata": {},
   "source": [
    "**Ejemplo**\n",
    "\n",
    "Para estudiar en mayor profundidad la distribución de los valores faltantes, se procede a transformarlos en formato `np.nan`\n"
   ]
  },
  {
   "cell_type": "code",
   "execution_count": null,
   "id": "f9cd7865",
   "metadata": {},
   "outputs": [],
   "source": [
    "df.replace(\"nan\", np.nan, inplace=True)\n"
   ]
  },
  {
   "cell_type": "code",
   "execution_count": null,
   "id": "78b5e234",
   "metadata": {},
   "outputs": [],
   "source": [
    "px.bar(df.isnull().sum().sort_values())\n"
   ]
  },
  {
   "attachments": {},
   "cell_type": "markdown",
   "id": "24fb9a48",
   "metadata": {},
   "source": [
    "### Nullity Matrix\n"
   ]
  },
  {
   "attachments": {},
   "cell_type": "markdown",
   "id": "059d4e06",
   "metadata": {},
   "source": [
    "En términos generales, los valores perdidos de este dataset se encuentran relativamente limpios pues están estandarizados con la categoría 'nan'.\n",
    "\n",
    "Dado que sumarizar valores faltantes genera una estructura de datos, vale la pena explorarla visualmente, para facilitar tal tarea, existe la librería `missingno`\n"
   ]
  },
  {
   "cell_type": "code",
   "execution_count": null,
   "id": "ab5dd8b8",
   "metadata": {},
   "outputs": [],
   "source": [
    "# Instalamos el paquete usando conda o pip\n",
    "import sys\n",
    "\n",
    "!conda install --yes --prefix {sys.prefix} missingno\n",
    "# !{sys.executable} -m pip install numpy # descomentar si se usa pip\n",
    "import missingno as msno"
   ]
  },
  {
   "attachments": {},
   "cell_type": "markdown",
   "id": "a14ba4c2",
   "metadata": {},
   "source": [
    "Las visualizaciones de generadas por medio de esta librería pueden ser utilizadas para discutir el problema de valores faltantes y generan una estrategia para su tratamiento.\n"
   ]
  },
  {
   "cell_type": "code",
   "execution_count": null,
   "id": "5c1ba63c",
   "metadata": {},
   "outputs": [],
   "source": [
    "df.isnull().sum().nlargest(10)\n"
   ]
  },
  {
   "attachments": {},
   "cell_type": "markdown",
   "id": "bdd47b99",
   "metadata": {},
   "source": [
    "mediante la libreria `missingno` es posible ver el panorama completo de los valores faltanes en el dataset de manera sencilla\n"
   ]
  },
  {
   "cell_type": "code",
   "execution_count": null,
   "id": "f58632e9",
   "metadata": {},
   "outputs": [],
   "source": [
    "import matplotlib.pyplot as plt\n",
    "import missingno as msno\n",
    "\n",
    "fig, ax = plt.subplots(figsize=[15, 10])\n",
    "\n",
    "msno.matrix(df, ax=ax, sparkline=False)\n"
   ]
  },
  {
   "attachments": {},
   "cell_type": "markdown",
   "id": "785ab104",
   "metadata": {},
   "source": [
    "Esta visualización muestra que exiten columnas practicamente sin información, según la agregación anterior, estas corresponden a `PoolQC`, `MiscFeature` y `Alley`.\n",
    "\n",
    "Por medio de correlaciones entre valores faltantes, es posible obtener un análisis bivariado análogo al anteriormente generado. Para ello se puede utilizar un mapa de calor.\n"
   ]
  },
  {
   "cell_type": "code",
   "execution_count": null,
   "id": "2276ef7f",
   "metadata": {},
   "outputs": [],
   "source": [
    "fig, ax = plt.subplots(figsize=[15, 10])\n",
    "msno.heatmap(df, ax=ax)\n",
    "\n",
    "plt.show()\n"
   ]
  },
  {
   "attachments": {},
   "cell_type": "markdown",
   "id": "dd926a18",
   "metadata": {},
   "source": [
    "Este gráfico muestra correlaciones de nulidad entre pares de variables, estas varian desde -1 a 1, donde\n",
    "\n",
    "- $-1$ significa que las variables son excluyentes, es decir, la aparición de una hace que la otra este ausente.\n",
    "- $1$ corresponde inclusión, esto quiere decir, que la aparición de una hace que la otra aparezca. Valores cercanos a 0 (sin valor numérico en el gráfico) indican ausencia de relación de nulidad entre las variables.\n",
    "\n",
    "En el gráfico recien generado, no se observen relaciones de nulidad negativa, por otra parte, existen variables fuertemente relacionadas en cuanto a su información como lo son 'MasVnrType' y 'MasVnrArea', el comportamiento general es que la información esta fuertemente relacionada (en el sentido de inclusión de información) o simplemente no lo está.\n",
    "\n",
    "> **Ejercicio ✏️**\n",
    "\n",
    "1. El gráfico de correlaciones de nulidad permite tener una idea de como se relaciona la información faltante en pares de variables. Para comparar más de dos variables es posible utilizar un _dendograma_. Utilice las 20 variables con mayor cantidad de valores faltanes visualice su dendograma por medio de `msno.dendogram`. Interprete los resultados.[_Hint_](https://github.com/ResidentMario/missingno)\n"
   ]
  },
  {
   "attachments": {},
   "cell_type": "markdown",
   "id": "b40f2212",
   "metadata": {},
   "source": [
    "> **Pregunta ❓**: ¿Qué hacemos con las columnas con datos faltantes?\n"
   ]
  },
  {
   "attachments": {},
   "cell_type": "markdown",
   "id": "79949ab4-1f6c-4182-87b4-7aca55650899",
   "metadata": {},
   "source": [
    "---\n",
    "\n",
    "## 4. `Pandas Profiling`\n",
    "\n",
    "Pandas Profiling es una herramienta de perfilamiento automático de variables, el cuál dado un dataframe, genera un reporte en formato HTML.\n",
    "El reporte contiene información detallada sobre cada variable más gráficos de interacciones y correlaciones entre estas. Según la documentación, los perfiles generados contienen:\n",
    "\n",
    "- **Type inference**: detect the types of columns in a dataframe.\n",
    "- **Essentials**: type, unique values, missing values\n",
    "- **Quantile statistics** like minimum value, Q1, median, Q3, maximum, range, interquartile range\n",
    "- **Descriptive statistics** like mean, mode, standard deviation, sum, median absolute deviation, coefficient of variation, kurtosis, skewness\n",
    "- **Most frequent values**\n",
    "- **Histogram**\n",
    "- **Correlations** highlighting of highly correlated variables, Spearman, Pearson and Kendall matrices\n",
    "- **Missing values matrix**, count, heatmap and dendrogram of missing values\n",
    "- **Text analysis** learn about categories (Uppercase, Space), scripts (Latin, Cyrillic) and blocks (ASCII) of text data.\n",
    "- **File and Image analysis** extract file sizes, creation dates and dimensions and scan for truncated images or those containing EXIF information.\n",
    "\n",
    "Bien usada, es una herramienta muy poderosa que les permitirá acelerar mucho el Análisis Exploratorio de Datos.\n",
    "Sin embargo, simpre estará la posibilidad de que tengan que programar algo \"a mano\" ya que el análisis entregado por el profiler no es suficiente.\n"
   ]
  },
  {
   "cell_type": "code",
   "execution_count": null,
   "id": "afd0977e-875f-4ca2-ac62-330a49c1442b",
   "metadata": {},
   "outputs": [],
   "source": [
    "!pip install ipywidgets\n",
    "!pip install pandas_profiling"
   ]
  },
  {
   "cell_type": "code",
   "execution_count": null,
   "id": "2bf639c4",
   "metadata": {},
   "outputs": [],
   "source": [
    "from pandas_profiling import ProfileReport\n",
    "\n",
    "profile = ProfileReport(\n",
    "    df,\n",
    "    title=\"Reporte Housing Pricing\",\n",
    "    explorative=True,\n",
    "    vars={\"num\": {\"low_categorical_threshold\": 0}},  # resolver problema #954\n",
    ")\n",
    "\n",
    "# Problema 954:\n",
    "# https://github.com/ydataai/pandas-profiling/issues/954\n",
    "\n",
    "profile.to_file(\"report.html\")\n"
   ]
  }
 ],
 "metadata": {
  "kernelspec": {
   "display_name": "Python 3 (ipykernel)",
   "language": "python",
   "name": "python3"
  },
  "language_info": {
   "codemirror_mode": {
    "name": "ipython",
    "version": 3
   },
   "file_extension": ".py",
   "mimetype": "text/x-python",
   "name": "python",
   "nbconvert_exporter": "python",
   "pygments_lexer": "ipython3",
   "version": "3.9.16"
  },
  "toc": {
   "base_numbering": 1,
   "nav_menu": {},
   "number_sections": true,
   "sideBar": true,
   "skip_h1_title": true,
   "title_cell": "Table of Contents",
   "title_sidebar": "Contents",
   "toc_cell": true,
   "toc_position": {
    "height": "calc(100% - 180px)",
    "left": "10px",
    "top": "150px",
    "width": "274.833px"
   },
   "toc_section_display": true,
   "toc_window_display": false
  }
 },
 "nbformat": 4,
 "nbformat_minor": 5
}
