{
 "cells": [
  {
   "cell_type": "markdown",
   "id": "1e08ec0a",
   "metadata": {},
   "source": [
    "# Clase 10: Multi-Índices, Pivoteo, Melt, Concatenación y Combinación de Múltiples Fuentes de Datos\n",
    "\n",
    "**MDS7202: Laboratorio de Programación Científica para Ciencia de Datos**"
   ]
  },
  {
   "cell_type": "markdown",
   "id": "dd44a84d-50a0-47b3-90e8-9ee9b5629897",
   "metadata": {},
   "source": [
    "## Objetivos de la Clase\n",
    "\n",
    "- Comprender como fusionar distintas fuentes de datos a partir de `concatenaciones` y `merge`.\n",
    "- Profundizar el uso de los multi-índices de pandas.\n",
    "- Reorganizar los datos usando `melt` y `pivot`\n"
   ]
  },
  {
   "cell_type": "markdown",
   "id": "b6ab2f41",
   "metadata": {},
   "source": [
    "## Datasets de Hoy\n",
    "\n",
    "### Índices para una Vida Mejor\n",
    "\n",
    "Nuevamente, seguiremos usando los datos de índices para una Vida Mejor de la OECD:\n",
    "\n",
    "\n",
    "<img src=\"https://raw.githubusercontent.com/MDS7202/MDS7202/main/recursos/2023-01/10-Pandas3/oecd.png\" alt=\"OECD Better life index\"/>\n",
    "\n",
    "\n",
    "http://www.oecdbetterlifeindex.org/\n",
    "\n",
    "https://stats.oecd.org/index.aspx?DataSetCode=BLI\n",
    "\n",
    "Son 11 temas considerados como esenciales para el bienestar de la población. Cada crierio contiene uno o mas indicadores\n",
    "\n",
    "| Tema | Indicador (Inglés) | Indicador (Español) | Unidad | Descripción |\n",
    "|---|---|---|---|---|\n",
    "| Vivienda 🏠 | Dwellings without basic facilities | Vivienda con Instalaciones Básicas | Porcentaje | Porcentaje de personas con inodoros de agua corriente dentro del hogar, año disponible más reciente |\n",
    "|  | Housing expenditure | Gastos en Vivienda | Porcentaje | Proporción de costos de vivienda en el ingreso neto ajustado de las familias, año disponible más reciente |\n",
    "|  | Rooms per person | Habitaciones por Persona | Ratio | Número promedio de habitaciones compartidas por persona en una vivienda, año disponible más reciente |\n",
    "| Ingresos 💰 | Household net adjusted disposable income | Ingreso Familiar Disponible | US Dollar | Cantidad promedio de dinero que una familia gana al año, después de impuestos, año disponible más reciente |\n",
    "|  | Household net wealth | Patrimonio Neto Familiar | US Dollar | Valor total promedio de los activos financieros de una familia (ahorros, acciones) menos sus pasivos (créditos), año disponible más reciente |\n",
    "| Empleo ⚙️ | Labour market insecurity | Seguridad en el Empleo | Porcentaje | Pérdida esperada de ingresos cuando alguien queda desempleado, año disponible más reciente |\n",
    "|  | Employment rate | Tasa de Empleo | Porcentaje | Porcentaje de personas, de 15 a 64 años de edad, actualmente con empleo remunerado, año disponible más reciente |\n",
    "|  | Long-term unemployment rate | Tasa de Empleo a Largo Plazo | Porcentaje | Porcentaje de personas, de 15 a 64 años de edad, que no trabajan pero que han buscado empleo activamente durante más de un año, año disponible más reciente |\n",
    "|  | Personal earnings | Ingresos Personales | US Dollar | Ingresos anuales promedio por empleado de tiempo completo, año disponible más reciente |\n",
    "| Comunidad 🧑‍🤝‍🧑   | Quality of support network  | Calidad del Apoyo Social | Porcentaje | Porcentaje de personas con amigos o parientes en quienes confiar en caso de necesidad |\n",
    "| Educación 📚 | Educational attainment | Nivel de Educación | Porcentaje | Porcentaje de personas, de 25 a 64 años de edad, graduadas por lo menos de educación media superior, año disponible más reciente |\n",
    "|  | Student skills | Competencias de estudiantes en matemáticas, lectura y ciencias | Puntaje promedio | Desempeño promedio de estudiantes de 15 años de edad, según PISA (Programa para la Evaluación Internacional de Estudiantes) |\n",
    "|  | Years in education  | Nivel de educación | Años | Duración promedio de la educación formal en la que un niño de cinco años de edad puede esperar matricularse durante su vida |\n",
    "| Medio Ambiente 🌳 | Air pollution | Contaminación del Aire | Microgramos por metro cúbico | Concentración promedio de partículas (PM2.5) en ciudades con poblaciones mayores de 100,000 personas, medida en microgramos por metro cúbico, año disponible más reciente |\n",
    "|  | Water quality | Calidad del Agua | Porcentaje | Porcentaje de personas que informan estar satisfechas con la calidad del agua local |\n",
    "| Compromiso Cívico 🗳️  | Stakeholder engagement for developing regulations | Participación de los interesados en la elaboración de regulaciones | Puntaje promedio | Nivel de transparencia gubernamental al preparar las regulaciones, año disponible más reciente |\n",
    "|  | Voter turnout | Participación electoral | Porcentaje | Porcentaje de votantes registrados que votaron durante las elecciones recientes, año disponible más reciente |\n",
    "| Salud ⚕️ | Life expectancy | Esperanza de vida | Años | Número promedio de años que una persona puede esperar vivir, año disponible más reciente |\n",
    "|  | Self-reported health | Salud según informan las personas | Porcentaje | Porcentaje de personas que informan que su salud es «buena o muy buena», año disponible más reciente |\n",
    "| Satisfacción ✨ | Life satisfaction | Satisfacción ante la vida | Puntaje promedio | Autoevaluación promedio de satisfacción ante la vida, en una escala de 0 a 10 |\n",
    "| Seguridad 🌃 | Feeling safe walking alone at night | Sentimiento de seguridad al caminar solos por la noche | Porcentaje | Porcentaje de personas que reportan sentirse seguras al caminar solas por la noche  |\n",
    "|  | Homicide rate | Tasa de homicidios | Ratio | Número promedio de homicidios reportados por 100,000 personas, año disponible más reciente |\n",
    "| Balance Vida Trabajo 🧘 | Employees working very long hours | Empleados que trabajan muchas horas | Porcentaje | Porcentaje de empleados que trabajan más de cincuenta horas a la semana en promedio, año disponible más reciente |\n",
    "|  | Time devoted to leisure and personal care | Tiempo destinado al ocio y el cuidado personal | Horas | Número promedio de minutos al día dedicados al ocio y el cuidado personal, incluidos el sueño y la alimentación |"
   ]
  },
  {
   "cell_type": "code",
   "execution_count": null,
   "id": "97057880",
   "metadata": {},
   "outputs": [],
   "source": [
    "import pandas as pd\n",
    "\n",
    "bli_df = pd.read_excel(\"dataset.xlsx\", header=1, index_col=0)\n",
    "bli_df.head()"
   ]
  },
  {
   "cell_type": "markdown",
   "id": "f3bc7b09",
   "metadata": {},
   "source": [
    "### Dataset de Temperaturas Globales\n",
    "\n",
    "![wbg_climate](https://raw.githubusercontent.com/MDS7202/MDS7202/main/recursos/2023-01/10-Pandas3/wbg_climate.png)\n",
    "\n",
    "\n",
    "https://climateknowledgeportal.worldbank.org/download-data"
   ]
  },
  {
   "cell_type": "code",
   "execution_count": null,
   "id": "cc353e7d",
   "metadata": {},
   "outputs": [],
   "source": [
    "temp_df = pd.read_csv(\n",
    "    \"temperature.csv\")\n",
    "temp_df.head(20)"
   ]
  },
  {
   "cell_type": "code",
   "execution_count": null,
   "id": "79217d7d",
   "metadata": {
    "scrolled": true
   },
   "outputs": [],
   "source": [
    "temp_df.shape"
   ]
  },
  {
   "cell_type": "markdown",
   "id": "c20a4ab6",
   "metadata": {
    "tags": []
   },
   "source": [
    "----\n",
    "\n",
    "## 1.- Concatenación\n",
    "\n",
    "\n",
    "> Según Wikipedia: *Es la operación por la cual dos caracteres se unen para formar una cadena de caracteres (o string). También se pueden concatenar dos cadenas de caracteres o un carácter con una cadena para formar una cadena de mayor tamaño*. Ejemplo: "
   ]
  },
  {
   "cell_type": "code",
   "execution_count": null,
   "id": "28caa54b",
   "metadata": {},
   "outputs": [],
   "source": [
    "a = \"Hola \"\n",
    "\n",
    "b = \"a todos 🤗\"\n",
    "\n",
    "\n",
    "a + b"
   ]
  },
  {
   "cell_type": "markdown",
   "id": "c4f06783",
   "metadata": {},
   "source": [
    "La idea general de concatenar es unir 2 o más `Dataframes` por filas o columnas.\n",
    "\n",
    "<div align='center'>\n",
    "    <img src='https://raw.githubusercontent.com/MDS7202/MDS7202/main/recursos/2023-01/10-Pandas3/concat.png' width=900/>\n",
    "</div>\n",
    "\n",
    "\n",
    "Todas las operaciones se hacen a través de la operación sobre los índices de los `DataFrames`."
   ]
  },
  {
   "cell_type": "markdown",
   "id": "4097666d",
   "metadata": {},
   "source": [
    "### 1.1 Caso 1: Concatenar Filas\n",
    "\n",
    "En el caso de contactenar por filas `(axis=0)`, los `DataFrames` se unen al final a través de los índices.\n",
    "\n",
    "<div align='center'>\n",
    "    <img src='https://raw.githubusercontent.com/MDS7202/MDS7202/main/recursos/2023-01/10-Pandas3/merging_concat_basic.png' width=500/>\n",
    "</div>"
   ]
  },
  {
   "cell_type": "code",
   "execution_count": null,
   "id": "5c40e15b-6169-4fc1-bac0-4bad1b775c7e",
   "metadata": {},
   "outputs": [],
   "source": [
    "bli_df.head(5)"
   ]
  },
  {
   "cell_type": "code",
   "execution_count": null,
   "id": "ee30b709-9fb4-4a10-bb75-3e6000316993",
   "metadata": {},
   "outputs": [],
   "source": [
    "bli_df = bli_df.reset_index()"
   ]
  },
  {
   "cell_type": "code",
   "execution_count": null,
   "id": "4fbc30eb",
   "metadata": {},
   "outputs": [],
   "source": [
    "sudamerica_df = bli_df.loc[\n",
    "    bli_df[\"Country\"].isin(\n",
    "        [\n",
    "            \"Chile\",\n",
    "            \"Brazil\",\n",
    "            \"Colombia\",\n",
    "        ]\n",
    "    ),\n",
    "    :,\n",
    "]\n",
    "\n",
    "sudamerica_df"
   ]
  },
  {
   "cell_type": "code",
   "execution_count": null,
   "id": "a16af6e2",
   "metadata": {
    "scrolled": true
   },
   "outputs": [],
   "source": [
    "norteamerica_df = bli_df[\n",
    "    bli_df[\"Country\"].isin(\n",
    "        [\n",
    "            \"Canada\",\n",
    "            \"United States\",\n",
    "            \"Mexico\",\n",
    "        ]\n",
    "    )\n",
    "]\n",
    "\n",
    "norteamerica_df"
   ]
  },
  {
   "cell_type": "code",
   "execution_count": null,
   "id": "49ac521c-b52a-43ad-ba3b-f12a1819b5b7",
   "metadata": {},
   "outputs": [],
   "source": [
    "oceania_df = bli_df.loc[bli_df[\"Country\"].isin([\"New Zealand\", \"Australia\"]), :]\n",
    "oceania_df"
   ]
  },
  {
   "cell_type": "markdown",
   "id": "427c8bd5-8608-436f-b3c5-14ce8a301c6b",
   "metadata": {},
   "source": [
    "Para ejecutar la concatenación, usamos el método `pd.concat` sobre un arreglo con los `DataFrames` por concatenar."
   ]
  },
  {
   "cell_type": "code",
   "execution_count": null,
   "id": "4ff7a2d6",
   "metadata": {},
   "outputs": [],
   "source": [
    "df_concatenado_filas = pd.concat(\n",
    "    [\n",
    "        sudamerica_df, \n",
    "        norteamerica_df, \n",
    "        oceania_df\n",
    "    ]\n",
    "    , axis=0)\n",
    "df_concatenado_filas"
   ]
  },
  {
   "cell_type": "markdown",
   "id": "c3985e0b",
   "metadata": {},
   "source": [
    "### 1.2 Caso 2: Concatenar Columnas\n",
    "\n",
    "En este caso, los `DataFrames` se unen por los índices y las columnas.\n",
    "\n",
    "\n",
    "<div align='center'>\n",
    "    <img src='https://raw.githubusercontent.com/MDS7202/MDS7202/main/recursos/2023-01/10-Pandas3/merging_concat_mixed_ndim.png' width=700/>\n",
    "</div>"
   ]
  },
  {
   "cell_type": "code",
   "execution_count": null,
   "id": "6e1aaeee",
   "metadata": {},
   "outputs": [],
   "source": [
    "env_df = bli_df.loc[:, [\"Country\", \"Air pollution\", \"Water quality\"]]\n",
    "env_df.head()"
   ]
  },
  {
   "cell_type": "code",
   "execution_count": null,
   "id": "a9e7ce3e",
   "metadata": {},
   "outputs": [],
   "source": [
    "health_df = bli_df.loc[\n",
    "    :, [\n",
    "        \"Country\", \n",
    "        \"Self-reported health\", \n",
    "        \"Life expectancy\", \n",
    "        \"Life satisfaction\",\n",
    "    ]\n",
    "]\n",
    "\n",
    "health_df.head()"
   ]
  },
  {
   "cell_type": "code",
   "execution_count": null,
   "id": "b917bd9a",
   "metadata": {},
   "outputs": [],
   "source": [
    "env_heatlh_df = pd.concat(\n",
    "    [env_df, health_df],\n",
    "    axis=1\n",
    ")\n",
    "\n",
    "env_heatlh_df.head()"
   ]
  },
  {
   "cell_type": "code",
   "execution_count": null,
   "id": "fb5b2a90-125d-47eb-a2d5-a8813e13c3b0",
   "metadata": {},
   "outputs": [],
   "source": [
    "env_heatlh_df.columns"
   ]
  },
  {
   "cell_type": "code",
   "execution_count": null,
   "id": "0d4d4bbb-33ae-4aaf-9190-7cdd760e3b48",
   "metadata": {},
   "outputs": [],
   "source": [
    "env_heatlh_df.loc[:, \"Country\"]"
   ]
  },
  {
   "cell_type": "markdown",
   "id": "8dda66c1-8f25-4577-b7d1-fdaaacd036fd",
   "metadata": {},
   "source": [
    "Nota: La unión sigue siendo por filas. Por ende, una columna repetida aparecerá dos veces en el `DataFrame` resultante, como en el caso anterior con `Country`"
   ]
  },
  {
   "cell_type": "markdown",
   "id": "cdcc966a-5a73-49e0-bbf8-30c7a47fa169",
   "metadata": {},
   "source": [
    "> **Nota**: Para facilitar la práctica, solo dejaremos una columna `Country`"
   ]
  },
  {
   "cell_type": "code",
   "execution_count": null,
   "id": "8c70e098-9b1a-4ea0-b3c7-b8d084a2a86c",
   "metadata": {},
   "outputs": [],
   "source": [
    "env_heatlh_df.columns"
   ]
  },
  {
   "cell_type": "code",
   "execution_count": null,
   "id": "67733887-e03c-48b8-8563-d3bec5e5bd65",
   "metadata": {},
   "outputs": [],
   "source": [
    "~env_heatlh_df.columns.duplicated()"
   ]
  },
  {
   "cell_type": "code",
   "execution_count": null,
   "id": "9801c2fd",
   "metadata": {},
   "outputs": [],
   "source": [
    "env_heatlh_df = env_heatlh_df.loc[:, ~env_heatlh_df.columns.duplicated()]\n",
    "env_heatlh_df.head()"
   ]
  },
  {
   "cell_type": "markdown",
   "id": "c359f033-0471-421d-bfff-e5212bd2d79e",
   "metadata": {},
   "source": [
    "### 1.3 Un `DataFrame` tiene menos datos que el otro\n",
    "\n",
    "En este caso, rellena los valores de las filas sin valor con `np.nan`.\n",
    "\n",
    "<div align='center'>\n",
    "    <img src='https://raw.githubusercontent.com/MDS7202/MDS7202/main/recursos/2023-01/10-Pandas3/merging_concat_axis1.png' width=800/>\n",
    "</div>"
   ]
  },
  {
   "cell_type": "code",
   "execution_count": null,
   "id": "1a579c3e-d3fd-4b9a-9f9b-9e0e296112c8",
   "metadata": {},
   "outputs": [],
   "source": [
    "env_df_reducido = env_df[0:7]\n",
    "env_df_reducido"
   ]
  },
  {
   "cell_type": "code",
   "execution_count": null,
   "id": "e30215f3-e71f-454f-86bf-fd4580a49c0a",
   "metadata": {},
   "outputs": [],
   "source": [
    "health_df"
   ]
  },
  {
   "cell_type": "code",
   "execution_count": null,
   "id": "a49898f2-2531-463b-9af5-838a974bea6a",
   "metadata": {},
   "outputs": [],
   "source": [
    "pd.concat(\n",
    "    [\n",
    "        env_df_reducido, \n",
    "        health_df\n",
    "    ], axis=1).head(15)"
   ]
  },
  {
   "cell_type": "markdown",
   "id": "59342bb3-a86a-428c-bac5-48db2d754227",
   "metadata": {},
   "source": [
    "### 1.4 Error en parámetro `axis`"
   ]
  },
  {
   "cell_type": "code",
   "execution_count": null,
   "id": "db404596",
   "metadata": {},
   "outputs": [],
   "source": [
    "# concatenamos correctamente al igual que el ejemplo anterior\n",
    "pd.concat([\n",
    "    env_df.head(), \n",
    "    health_df.head()\n",
    "], axis=1)"
   ]
  },
  {
   "cell_type": "markdown",
   "id": "f28cba01-fd5a-45e5-bbfb-d30a443ad9b3",
   "metadata": {},
   "source": [
    "> **Pregunta ❓**: ¿Qué sucede si nos equivocamos con el parámetro `axis`?\n"
   ]
  },
  {
   "cell_type": "code",
   "execution_count": null,
   "id": "05ea9590-9f5f-4749-b716-8bdbfa833791",
   "metadata": {},
   "outputs": [],
   "source": [
    "env_df.head()"
   ]
  },
  {
   "cell_type": "code",
   "execution_count": null,
   "id": "4444ad7f-7cdb-4af8-80ab-355a2d0ccd27",
   "metadata": {},
   "outputs": [],
   "source": [
    "health_df.head()"
   ]
  },
  {
   "cell_type": "code",
   "execution_count": null,
   "id": "5fb5b1f9-3717-4acb-9a30-8a97d950051e",
   "metadata": {},
   "outputs": [],
   "source": [
    "pd.concat([env_df.head(), health_df.head()], axis=0)"
   ]
  },
  {
   "cell_type": "markdown",
   "id": "d257ae13-c231-42b0-be57-b922e78f24ca",
   "metadata": {},
   "source": [
    "Incluso, en el caso que los índices no sean útiles para unir filas, pueden especificar `ignore_index` como `True`."
   ]
  },
  {
   "cell_type": "code",
   "execution_count": null,
   "id": "f5eae0dd-6190-47c8-9a2d-6fc157d0ab1e",
   "metadata": {},
   "outputs": [],
   "source": [
    "pd.concat([env_df.head(), health_df.head()], ignore_index=True)"
   ]
  },
  {
   "cell_type": "markdown",
   "id": "24087f91",
   "metadata": {},
   "source": [
    "---\n",
    "\n",
    "## 2.- Agregaciones:  Breve repaso y preparación de nuevos datos\n",
    "\n",
    "Recordemos que podemos agregar datos según algún grupo y calcular estadísticas sobre estos.\n",
    "\n",
    "El proceso consiste en tres pasos: \n",
    "\n",
    "1. Separar\n",
    "2. Aplicar la función.\n",
    "3. Juntar.\n",
    "\n",
    "<div align='center'>\n",
    "    <img src='https://raw.githubusercontent.com/MDS7202/MDS7202/main/recursos/2023-01/10-Pandas3/group_by.png' width=900/>\n",
    "</div>"
   ]
  },
  {
   "cell_type": "code",
   "execution_count": null,
   "id": "93dda9fb",
   "metadata": {},
   "outputs": [],
   "source": [
    "temp_df.head(10)"
   ]
  },
  {
   "cell_type": "code",
   "execution_count": null,
   "id": "01d7dfff",
   "metadata": {},
   "outputs": [],
   "source": [
    "prom = temp_df.groupby(\"Country\").mean()\n",
    "prom = prom.drop(columns=[\"Year\"])\n",
    "prom = prom.rename(columns={'Temperature': 'promedio'})\n",
    "prom"
   ]
  },
  {
   "cell_type": "code",
   "execution_count": null,
   "id": "938bb491-cc5a-4486-ae1d-3dcadff78611",
   "metadata": {},
   "outputs": [],
   "source": [
    "temp_df.groupby(\"Country\").mean().drop(columns=[\"Year\"])"
   ]
  },
  {
   "cell_type": "code",
   "execution_count": null,
   "id": "2013f8d8",
   "metadata": {},
   "outputs": [],
   "source": [
    "std = temp_df.groupby(\"Country\").std().drop(columns=[\"Year\"])\n",
    "std = std.rename(columns={'Temperature': 'std'})\n",
    "std"
   ]
  },
  {
   "cell_type": "markdown",
   "id": "bd3b4004",
   "metadata": {},
   "source": [
    "> **Pregunta ❓**: ¿Cómo podríamos usar concat para juntar los promedios y desviaciones estándar?"
   ]
  },
  {
   "cell_type": "code",
   "execution_count": null,
   "id": "3f3084ca-f5a7-4198-b4d2-2f5235f071b7",
   "metadata": {},
   "outputs": [],
   "source": [
    "df_unido = pd.concat([prom, std], axis=1)\n",
    "df_unido"
   ]
  },
  {
   "cell_type": "code",
   "execution_count": null,
   "id": "e39bdec8",
   "metadata": {},
   "outputs": [],
   "source": [
    "t_agg_df = pd.concat([prom, std], axis=1)"
   ]
  },
  {
   "cell_type": "markdown",
   "id": "0e611d87",
   "metadata": {},
   "source": [
    "### 2.1 `agg`\n",
    "\n",
    "Recordemos el método `agg`, el cuál permite agregar datos por grupo usando una o más operaciones:"
   ]
  },
  {
   "cell_type": "code",
   "execution_count": null,
   "id": "d9cf0212",
   "metadata": {},
   "outputs": [],
   "source": [
    "t_agg_df = temp_df.groupby(\"Country\").agg(\n",
    "    {\"Temperature\": [\"median\", \"min\", \"max\"]}\n",
    ")\n",
    "t_agg_df"
   ]
  },
  {
   "cell_type": "code",
   "execution_count": null,
   "id": "14cc20ce-0429-4865-9100-0a4ba872e9b5",
   "metadata": {},
   "outputs": [],
   "source": [
    "     (temp_df\n",
    "        .groupby([\"Country\", \"Year\"])\n",
    "        .agg({\"Temperature\": [\"median\", \"min\", \"max\"]})\n",
    "        .droplevel(0, axis=1)\n",
    "        .reset_index()\n",
    "        .melt(id_vars=[\"Country\", \"Year\"])\n",
    "        .query(\"Country in ['Chile', 'Argentina', 'Brazil']\"))"
   ]
  },
  {
   "cell_type": "code",
   "execution_count": null,
   "id": "f00a10eb-34dd-4afc-b24b-e4ada1b2401a",
   "metadata": {},
   "outputs": [],
   "source": [
    "import plotly.express as px\n",
    "\n",
    "px.line(\n",
    "    (\n",
    "         temp_df\n",
    "        .groupby([\"Country\", \"Year\"])\n",
    "        .agg({\"Temperature\": [\"median\", \"min\", \"max\"]})\n",
    "        .droplevel(0, axis=1)\n",
    "        .reset_index()\n",
    "        .melt(id_vars=[\"Country\", \"Year\"])\n",
    "        .query(\"Country in ['Chile', 'Argentina', 'Brazil']\")\n",
    "    ), \n",
    "    x=\"Year\", \n",
    "    y=\"value\", \n",
    "    color=\"variable\", \n",
    "    facet_col=\"Country\"\n",
    ")"
   ]
  },
  {
   "cell_type": "markdown",
   "id": "35dc62db-9cdf-4160-b7e1-c90cba0ad964",
   "metadata": {},
   "source": [
    "Este, como vimos anteriormente, retorna un multi-índice en las columnas:"
   ]
  },
  {
   "cell_type": "code",
   "execution_count": null,
   "id": "4aab4f98-f865-4032-aa02-26de3ae020e3",
   "metadata": {},
   "outputs": [],
   "source": [
    "t_agg_df.columns"
   ]
  },
  {
   "cell_type": "markdown",
   "id": "e87550b3-dad2-492f-b3f9-03e81b474d9c",
   "metadata": {},
   "source": [
    "Haremos un pequeño _fix_ didáctico: eliminaremos los multiíndices de las filas y columnas para dejar listo el dataset para lo que viene."
   ]
  },
  {
   "cell_type": "code",
   "execution_count": null,
   "id": "b1e44a96",
   "metadata": {},
   "outputs": [],
   "source": [
    "t_agg_df = t_agg_df.droplevel(0, axis=1).reset_index()\n",
    "t_agg_df.columns = [\"Country\", \"t_median\", \"t_min\", \"t_max\"]\n",
    "t_agg_df"
   ]
  },
  {
   "cell_type": "code",
   "execution_count": null,
   "id": "b5635ebc",
   "metadata": {},
   "outputs": [],
   "source": [
    "env_heatlh_df.head(10)"
   ]
  },
  {
   "cell_type": "code",
   "execution_count": null,
   "id": "912f11af",
   "metadata": {},
   "outputs": [],
   "source": [
    "t_agg_df.head(10)"
   ]
  },
  {
   "cell_type": "markdown",
   "id": "c54606ec-4f14-470c-a173-7f4774fd42ba",
   "metadata": {},
   "source": [
    "### DataFrames Desalineados"
   ]
  },
  {
   "cell_type": "markdown",
   "id": "e1d55eae",
   "metadata": {},
   "source": [
    "> **Pregunta ❓**: ¿Qué pasará al combinar el Dataset de *Better Life Index* con el de Temperaturas usando `concat`?"
   ]
  },
  {
   "cell_type": "code",
   "execution_count": null,
   "id": "2824c31c-4948-42db-a825-ec0bb7d1fd82",
   "metadata": {},
   "outputs": [],
   "source": [
    "env_heatlh_df"
   ]
  },
  {
   "cell_type": "code",
   "execution_count": null,
   "id": "6214634a-89b5-44f2-9797-cd33a5e8e9f6",
   "metadata": {},
   "outputs": [],
   "source": [
    "t_agg_df.head(10)"
   ]
  },
  {
   "cell_type": "code",
   "execution_count": null,
   "id": "fe7d09f4",
   "metadata": {},
   "outputs": [],
   "source": [
    "df_concat = pd.concat([env_heatlh_df, t_agg_df], axis=1)\n",
    "df_concat"
   ]
  },
  {
   "cell_type": "markdown",
   "id": "d71ee36f-6f63-4ce8-b4a6-bc1e20ccf235",
   "metadata": {},
   "source": [
    "Parece que no funcionó muy bien...\n",
    "\n"
   ]
  },
  {
   "cell_type": "markdown",
   "id": "f56db6c8",
   "metadata": {},
   "source": [
    "---\n",
    "\n",
    "## 3.- Merge / Combinar usando un identificador común\n",
    "\n",
    "Es una forma de combinar dos `DataFrames` en la que usamos los valores de columna como identificador comunes para concatenar el resto de los valores:\n",
    "\n",
    "![Idea del Merge](https://raw.githubusercontent.com/MDS7202/MDS7202/main/recursos/2023-01/10-Pandas3/merge.png)\n",
    "\n",
    "\n",
    "Es equivalente a las sentencias `JOIN` de SQL. Existen varios tipos. `Pandas` implementa 5 a través de la función `pd.merge`.\n",
    "\n",
    "En los siguientes ejemplos uniremos los datasets de la OECD y de temperatura agregada según los distintos tipos de `Merge`. Será de mucha utilidad pensar los `Merge` como operaciones sobre conjuntos."
   ]
  },
  {
   "cell_type": "code",
   "execution_count": null,
   "id": "5f5df073",
   "metadata": {},
   "outputs": [],
   "source": [
    "# Paises en el primer dataset\n",
    "bli_df[\"Country\"].unique()"
   ]
  },
  {
   "cell_type": "code",
   "execution_count": null,
   "id": "3ebf79db-aa1d-4a17-b5b1-59cb09e8942a",
   "metadata": {},
   "outputs": [],
   "source": [
    "t_agg_df"
   ]
  },
  {
   "cell_type": "code",
   "execution_count": null,
   "id": "2bb34ddf",
   "metadata": {},
   "outputs": [],
   "source": [
    "# Paises en el segundo dataset\n",
    "t_agg_df[\"Country\"].unique()"
   ]
  },
  {
   "cell_type": "markdown",
   "id": "a4927475",
   "metadata": {},
   "source": [
    "---"
   ]
  },
  {
   "cell_type": "markdown",
   "id": "133ae294",
   "metadata": {},
   "source": [
    "### Inner\n",
    "\n",
    "Combina los elementos que se encuentren en ambas tablas. Descarta todo el resto\n",
    "\n",
    "![Inner](https://raw.githubusercontent.com/MDS7202/MDS7202/main/recursos/2023-01/10-Pandas3/inner.png)"
   ]
  },
  {
   "cell_type": "code",
   "execution_count": null,
   "id": "e2f4bede-5cf9-4e54-a3c6-4dc0ea68159b",
   "metadata": {},
   "outputs": [],
   "source": [
    "env_heatlh_df.shape"
   ]
  },
  {
   "cell_type": "code",
   "execution_count": null,
   "id": "813c7aa1",
   "metadata": {},
   "outputs": [],
   "source": [
    "pd.merge(\n",
    "    left=env_heatlh_df,\n",
    "    right=t_agg_df,\n",
    "    left_on=\"Country\",\n",
    "    right_on=\"Country\",\n",
    "    how=\"inner\",\n",
    "    sort=True,\n",
    ")"
   ]
  },
  {
   "cell_type": "markdown",
   "id": "359f55be",
   "metadata": {},
   "source": [
    "### Left Merge\n",
    "\n",
    "![Right Merge](https://raw.githubusercontent.com/MDS7202/MDS7202/main/recursos/2023-01/10-Pandas3/left.png)\n",
    "\n",
    "Conserva solo los elementos que se hayan combinado correctamente provenientes dataset `left`."
   ]
  },
  {
   "cell_type": "code",
   "execution_count": null,
   "id": "52092a0c",
   "metadata": {},
   "outputs": [],
   "source": [
    "pd.merge(\n",
    "    left=env_heatlh_df,\n",
    "    right=t_agg_df,\n",
    "    on=\"Country\",\n",
    "    how=\"left\",\n",
    "    sort=True,\n",
    ")"
   ]
  },
  {
   "cell_type": "markdown",
   "id": "12951d97",
   "metadata": {},
   "source": [
    "### Right Merge\n",
    "\n",
    "Conserva solo los elementos que se hayan combinado correctamente provenientes dataset `right`.\n",
    "\n",
    "![Right Merge](https://raw.githubusercontent.com/MDS7202/MDS7202/main/recursos/2023-01/10-Pandas3/right.png)"
   ]
  },
  {
   "cell_type": "code",
   "execution_count": null,
   "id": "def9fc84",
   "metadata": {},
   "outputs": [],
   "source": [
    "pd.merge(\n",
    "    left=env_heatlh_df,\n",
    "    right=t_agg_df,\n",
    "    on=\"Country\",\n",
    "    how=\"right\",\n",
    "    sort=True,\n",
    ")"
   ]
  },
  {
   "cell_type": "markdown",
   "id": "2b6a3239",
   "metadata": {},
   "source": [
    "### Outer\n",
    "\n",
    "Combina todos los elementos posibles y conserva todo el resto en filas independientes.\n",
    "\n",
    "![Outer Join](https://raw.githubusercontent.com/MDS7202/MDS7202/main/recursos/2023-01/10-Pandas3/outer.png)"
   ]
  },
  {
   "cell_type": "code",
   "execution_count": null,
   "id": "909b2ddc",
   "metadata": {},
   "outputs": [],
   "source": [
    "outer_merged_df = pd.merge(\n",
    "    left=env_heatlh_df,\n",
    "    right=t_agg_df,\n",
    "    on=\"Country\",\n",
    "    sort=True,\n",
    "    how=\"outer\",\n",
    ")\n",
    "outer_merged_df"
   ]
  },
  {
   "cell_type": "code",
   "execution_count": null,
   "id": "0f3f997e",
   "metadata": {},
   "outputs": [],
   "source": [
    "outer_merged_df[outer_merged_df[\"Country\"] == \"OECD - Total\"]"
   ]
  },
  {
   "cell_type": "markdown",
   "id": "103e1eb7",
   "metadata": {},
   "source": [
    "#### Con Indicador"
   ]
  },
  {
   "cell_type": "code",
   "execution_count": null,
   "id": "e6589618",
   "metadata": {},
   "outputs": [],
   "source": [
    "outer_merged_df = pd.merge(\n",
    "    left=env_heatlh_df,\n",
    "    right=t_agg_df,\n",
    "    on=\"Country\",\n",
    "    how=\"outer\",\n",
    "    sort=True,\n",
    "    indicator=True,\n",
    ")\n",
    "outer_merged_df"
   ]
  },
  {
   "cell_type": "code",
   "execution_count": null,
   "id": "6baf3ad9",
   "metadata": {},
   "outputs": [],
   "source": [
    "outer_merged_df[outer_merged_df[\"_merge\"] == \"left_only\"]"
   ]
  },
  {
   "cell_type": "code",
   "execution_count": null,
   "id": "de37c744-5719-4318-95bf-bd5783bdbe27",
   "metadata": {},
   "outputs": [],
   "source": [
    "outer_merged_df[outer_merged_df[\"_merge\"] == \"both\"]"
   ]
  },
  {
   "cell_type": "code",
   "execution_count": null,
   "id": "a23c98a8-cbfc-4351-ba1f-84f72e6f0af0",
   "metadata": {},
   "outputs": [],
   "source": [
    "outer_merged_df[outer_merged_df[\"_merge\"] == \"right_only\"]"
   ]
  },
  {
   "cell_type": "markdown",
   "id": "50a4cae3-c79f-4180-9c3d-fdac15431a7d",
   "metadata": {},
   "source": [
    "---\n",
    "\n",
    "## 4.- Transponer Datos\n",
    "\n",
    "Simplemente invertir las filas por las columnas."
   ]
  },
  {
   "cell_type": "code",
   "execution_count": null,
   "id": "701bdc1b-a70e-4955-8b4e-fb0600cd63fc",
   "metadata": {},
   "outputs": [],
   "source": [
    "bli_df.T"
   ]
  },
  {
   "cell_type": "markdown",
   "id": "cfad9839-60bf-4326-a645-6fdc438f0e0c",
   "metadata": {},
   "source": [
    "---\n",
    "\n",
    "## 5.- Pivotear Datos\n",
    "\n",
    "\n",
    "El dataset que usamos la clase pasada está relativamente ordenado."
   ]
  },
  {
   "cell_type": "code",
   "execution_count": null,
   "id": "7711fc83-b71e-43df-b70f-d90d1c58b466",
   "metadata": {},
   "outputs": [],
   "source": [
    "bli_df.head(5).iloc[:, 0:20]"
   ]
  },
  {
   "cell_type": "markdown",
   "id": "df3de580-926b-42fb-bef2-efd344808105",
   "metadata": {},
   "source": [
    "Sin embargo, originalmente tenía la siguiente estructura:"
   ]
  },
  {
   "cell_type": "code",
   "execution_count": null,
   "id": "6b383f60-5ecb-42d9-94d0-f6615e599996",
   "metadata": {},
   "outputs": [],
   "source": [
    "dataset_original = pd.read_csv(\"bli_original.csv\", keep_default_na=False)\n",
    "dataset_original"
   ]
  },
  {
   "cell_type": "code",
   "execution_count": null,
   "id": "5dc7d7af-ed59-48e9-88bf-1b25e763b0de",
   "metadata": {},
   "outputs": [],
   "source": [
    "bli_df.loc[:, [\"Country\", \"Labour market insecurity\"]]"
   ]
  },
  {
   "cell_type": "code",
   "execution_count": null,
   "id": "ea869928-82dd-4674-8a2e-1b91b77aab26",
   "metadata": {},
   "outputs": [],
   "source": [
    "dataset_original.loc[:, [\"Country\", \"Indicator\", \"Value\"]].tail(20)"
   ]
  },
  {
   "cell_type": "code",
   "execution_count": null,
   "id": "f69ef618-ca7b-4ea6-bcd4-55052ec8b6dc",
   "metadata": {},
   "outputs": [],
   "source": [
    "dataset_original.loc[\n",
    "    :, [\"Continent\", \"Country\", \"Indicator\", \"Unit\", \"Value\"]\n",
    "].sort_values(\"Country\").head(20)"
   ]
  },
  {
   "cell_type": "code",
   "execution_count": null,
   "id": "2654639a-1004-4161-b28a-fbfec9df0b76",
   "metadata": {},
   "outputs": [],
   "source": [
    "dataset_original.shape"
   ]
  },
  {
   "cell_type": "markdown",
   "id": "6d5c9c1e-06ba-4781-8e29-8860eb44a60e",
   "metadata": {},
   "source": [
    "Cada fila de este dataset contiene información acerca de los paises y de los indicadores y el valor del indicador. Esta forma es conocida como **long**. \n",
    "\n",
    "**Pivotear**\n",
    "\n",
    "Para convertirla al formato con el que hemos estado trabajando, **wide**, debemos pivotear la tabla:"
   ]
  },
  {
   "cell_type": "code",
   "execution_count": null,
   "id": "94bd453a-4db9-427c-8084-473171c64cf9",
   "metadata": {
    "scrolled": true
   },
   "outputs": [],
   "source": [
    "dataset_original.head(3)"
   ]
  },
  {
   "cell_type": "markdown",
   "id": "67cde630-0582-4980-88b8-4e10db175409",
   "metadata": {},
   "source": [
    "![Pivot](./resources/pivot.png)"
   ]
  },
  {
   "cell_type": "code",
   "execution_count": null,
   "id": "c9cd24e9-6ddc-44aa-85c8-dba5616600f8",
   "metadata": {},
   "outputs": [],
   "source": [
    "dataset_original[\"Indicator\"].unique()"
   ]
  },
  {
   "cell_type": "code",
   "execution_count": null,
   "id": "648009ef-c626-4350-913f-81f03bb95f75",
   "metadata": {},
   "outputs": [],
   "source": [
    "dataset_original.head().loc[:, [\"Country\", \"Indicator\", \"Value\"]]"
   ]
  },
  {
   "cell_type": "markdown",
   "id": "2a94b8a0-2e3c-4726-acb6-5fb67436c4f2",
   "metadata": {},
   "source": [
    "> **Ejercicio ✏️**: Pivotear la tabla original de los datos de la OECD\n"
   ]
  },
  {
   "cell_type": "code",
   "execution_count": null,
   "id": "d1944ee0-9d82-477d-aeb4-60192b2d3564",
   "metadata": {},
   "outputs": [],
   "source": [
    "pd.pivot_table(\n",
    "    dataset_original, \n",
    "    index='Country', \n",
    "    columns='Indicator', \n",
    "    values='Value'\n",
    ").head(5)"
   ]
  },
  {
   "cell_type": "markdown",
   "id": "c77c4164-45a8-4e89-a80c-69e465704ef9",
   "metadata": {},
   "source": [
    "---\n",
    "\n",
    "## 6.- Multi-Índices\n",
    "\n",
    "Hasta el momento solo hemos trabajado con `Dataframes` que contienen solo un nivel de filas o columnas. Sin embargo, es posible también agregar más niveles a los indices y a las columnas. \n",
    "Esto se le conoce como multi-índice."
   ]
  },
  {
   "cell_type": "code",
   "execution_count": null,
   "id": "7f1d24c0-65fe-4fc3-8a94-37104cd29126",
   "metadata": {},
   "outputs": [],
   "source": [
    "dataset_original.loc[:, \n",
    "                     [\"Continent\", \n",
    "                      \"Country\", \n",
    "                      \"Indicator\", \n",
    "                      \"Unit\", \n",
    "                      \"Value\"]].head()"
   ]
  },
  {
   "cell_type": "markdown",
   "id": "88ec5814-7637-4d8e-bd54-5d44143d5f57",
   "metadata": {},
   "source": [
    "Para agregar niveles de columnas, en el proceso de pivoteo vamos a indicar que tanto `Unit` como `Indicator` sean niveles de las columnas; y que a la vez, tanto `Continent` como `Country` sean indices para las filas. \n",
    "\n",
    "El resultado de esto puede ser visto en el siguiente `DataFrame`:"
   ]
  },
  {
   "cell_type": "code",
   "execution_count": null,
   "id": "263d0245-1ebe-4a60-8c2c-c18dce257ae4",
   "metadata": {},
   "outputs": [],
   "source": [
    "pd.set_option(\"display.max_columns\", None)\n",
    "pd.set_option(\"display.max_rows\", 100)"
   ]
  },
  {
   "cell_type": "code",
   "execution_count": null,
   "id": "4241f915-cdbb-46a0-8756-df3831d33495",
   "metadata": {},
   "outputs": [],
   "source": [
    "dataset_multindex = pd.pivot_table(\n",
    "    dataset_original,\n",
    "    index=[\"Continent\", \"Country\"],\n",
    "    columns=[\"Unit\", \"Indicator\"],\n",
    "    values=\"Value\",\n",
    ")\n",
    "dataset_multindex"
   ]
  },
  {
   "cell_type": "code",
   "execution_count": null,
   "id": "5b1b2820-61ff-45ed-8b9f-580940f2784a",
   "metadata": {},
   "outputs": [],
   "source": [
    "dataset_multindex.index"
   ]
  },
  {
   "cell_type": "markdown",
   "id": "6f86027b-f7ed-43e7-be56-c81ca9de9b0e",
   "metadata": {},
   "source": [
    "Ojo que las columnas también son Indices!"
   ]
  },
  {
   "cell_type": "code",
   "execution_count": null,
   "id": "5a5788f0-dd36-4c5b-be3c-121276e6d145",
   "metadata": {},
   "outputs": [],
   "source": [
    "dataset_multindex.columns.values"
   ]
  },
  {
   "cell_type": "markdown",
   "id": "1c85b7ea-fc51-49f5-8839-ebc4d74c2bb7",
   "metadata": {},
   "source": [
    "Podemos acceder a los indices de cada nivel usando `get_level_values`"
   ]
  },
  {
   "cell_type": "code",
   "execution_count": null,
   "id": "f499ea1b-ccaf-44e3-b0c7-bbf3c3c322a1",
   "metadata": {},
   "outputs": [],
   "source": [
    "dataset_multindex"
   ]
  },
  {
   "cell_type": "code",
   "execution_count": null,
   "id": "6e005ac1-9f04-4514-928c-a3314c6ba542",
   "metadata": {},
   "outputs": [],
   "source": [
    "dataset_multindex.columns.get_level_values(0)"
   ]
  },
  {
   "cell_type": "code",
   "execution_count": null,
   "id": "b5a48a16-c1eb-4001-b51b-9dc3b46f88ea",
   "metadata": {},
   "outputs": [],
   "source": [
    "dataset_multindex.columns.get_level_values(1)"
   ]
  },
  {
   "cell_type": "markdown",
   "id": "b647f500-2468-4dd2-8026-f1ed475cc671",
   "metadata": {},
   "source": [
    "También a cierto nivel de las columnas"
   ]
  },
  {
   "cell_type": "code",
   "execution_count": null,
   "id": "c491c424-c7dd-4d7a-9c6a-3f9573d05822",
   "metadata": {},
   "outputs": [],
   "source": [
    "dataset_multindex.index.get_level_values(0)"
   ]
  },
  {
   "cell_type": "code",
   "execution_count": null,
   "id": "c1da4c39-5c1d-4582-8cef-759fed23c6ab",
   "metadata": {},
   "outputs": [],
   "source": [
    "dataset_multindex.index.get_level_values(1)"
   ]
  },
  {
   "cell_type": "markdown",
   "id": "10f38b19-9a71-4bd6-bb96-caf9f719d33b",
   "metadata": {},
   "source": [
    "### Acceder a Multi-Índices"
   ]
  },
  {
   "cell_type": "markdown",
   "id": "edbafd80-b161-4da2-9461-667c149c9c45",
   "metadata": {},
   "source": [
    "> **Ejercicio ✏️**: Seleccionar la fila que contiene a Chile"
   ]
  },
  {
   "cell_type": "code",
   "execution_count": null,
   "id": "333f4d90-c871-4c13-ad03-35ddb7924cec",
   "metadata": {},
   "outputs": [],
   "source": [
    "dataset_multindex"
   ]
  },
  {
   "cell_type": "code",
   "execution_count": null,
   "id": "12137f0f-5707-4bb4-b979-3f2a3945f9bf",
   "metadata": {},
   "outputs": [],
   "source": [
    "dataset_multindex.loc[[('SA', 'Chile')], :]"
   ]
  },
  {
   "cell_type": "markdown",
   "id": "06537196-80b6-405f-aade-c7321381ded0",
   "metadata": {},
   "source": [
    "> **Ejercicio ✏️**: Seleccionar las columnas de los indicadores basados en Porcentajes."
   ]
  },
  {
   "cell_type": "code",
   "execution_count": null,
   "id": "f7b9e281-ec19-4aeb-8edc-6720b1950af2",
   "metadata": {},
   "outputs": [],
   "source": [
    "dataset_multindex.loc[:, ['Percentage']]"
   ]
  },
  {
   "cell_type": "markdown",
   "id": "a73d889f-c064-442f-9d0d-51658ecd074a",
   "metadata": {},
   "source": [
    "> **Ejercicio ✏️**: Seleccionar la columna que contiene a Life expectancy"
   ]
  },
  {
   "cell_type": "code",
   "execution_count": null,
   "id": "e385ede6-5b3b-4164-921b-e48497e5ecd5",
   "metadata": {},
   "outputs": [],
   "source": [
    "dataset_multindex.columns.values"
   ]
  },
  {
   "cell_type": "code",
   "execution_count": null,
   "id": "983319df-b754-49a7-a61d-c78b35b27161",
   "metadata": {},
   "outputs": [],
   "source": [
    "dataset_multindex.loc[:, [('Years', 'Life expectancy')]]"
   ]
  },
  {
   "cell_type": "markdown",
   "id": "0a7366e4-9d53-4d91-9209-ab3f894aaa4a",
   "metadata": {},
   "source": [
    "> **Ejercicio ✏️**: Seleccionar la fila que contiene a Chile y la columna que contiene a Life expectancy"
   ]
  },
  {
   "cell_type": "code",
   "execution_count": null,
   "id": "846e62ac-8dbb-4066-8cdf-0b7bfc29c322",
   "metadata": {},
   "outputs": [],
   "source": [
    "dataset_multindex.loc[[(\"SA\", \"Chile\")], [(\"Years\", \"Life expectancy\")]]"
   ]
  },
  {
   "cell_type": "markdown",
   "id": "04269e16-4f69-4bf3-81ae-3dc9ccc67917",
   "metadata": {},
   "source": [
    "> **Pregunta ❓**: ¿Cómo puedo solicitar `Housing expenditure` como `Employment rate` al mismo tiempo?"
   ]
  },
  {
   "cell_type": "code",
   "execution_count": null,
   "id": "3f277e72-686f-426c-ba76-622c98d154a4",
   "metadata": {},
   "outputs": [],
   "source": [
    "dataset_multindex.head()"
   ]
  },
  {
   "cell_type": "code",
   "execution_count": null,
   "id": "8843de7c-eaf3-40e5-bb51-2747b41a25d1",
   "metadata": {},
   "outputs": [],
   "source": [
    "dataset_multindex.loc[\n",
    "    :, [\n",
    "        (\"Percentage\", \"Housing expenditure\"), \n",
    "        (\"Percentage\", \"Employment rate\")\n",
    "    ]\n",
    "]"
   ]
  },
  {
   "cell_type": "code",
   "execution_count": null,
   "id": "23d236c7-889a-42bd-9277-6eeddfe04cf9",
   "metadata": {},
   "outputs": [],
   "source": [
    "dataset_multindex.loc[\n",
    "    :, [\n",
    "        (\"Percentage\", [\"Housing expenditure\", \"Employment rate\"]), \n",
    "    ]\n",
    "]"
   ]
  },
  {
   "cell_type": "markdown",
   "id": "52d375a2-783b-4555-9d74-38414cb95a88",
   "metadata": {},
   "source": [
    "> **Pregunta ❓:** ¿Podrá abreviarse?"
   ]
  },
  {
   "cell_type": "code",
   "execution_count": null,
   "id": "452cb645-3523-488a-a0cb-d1ad916a008b",
   "metadata": {},
   "outputs": [],
   "source": [
    "dataset_multindex.loc[:, [(\"Percentage\", [\"Housing expenditure\", \"Employment rate\"])]]"
   ]
  },
  {
   "cell_type": "markdown",
   "id": "1987cf96-c6ef-43b8-ade0-29b4dc3c5456",
   "metadata": {},
   "source": [
    "Este caso puede convertirse en un problema cuando sacamos muchas columnas, ya que tendremos que escribir muchas tuplas. "
   ]
  },
  {
   "cell_type": "markdown",
   "id": "186cb5a2-971b-4b8c-9f9b-a43e95a57e8a",
   "metadata": {},
   "source": [
    "#### Opción: `IndexSlice`\n",
    "\n",
    "`IndexSlice` soluciona el problema anteriormente mencionado al permitir seleccionar más de un índice/columna por nivel:"
   ]
  },
  {
   "cell_type": "code",
   "execution_count": null,
   "id": "eea03b1e-a685-42de-a584-1cb257e0bba5",
   "metadata": {},
   "outputs": [],
   "source": [
    "idx = pd.IndexSlice\n",
    "idx"
   ]
  },
  {
   "cell_type": "code",
   "execution_count": null,
   "id": "e8f65ec9-a238-4168-8e29-67240ec2788f",
   "metadata": {},
   "outputs": [],
   "source": [
    "idx = pd.IndexSlice\n",
    "\n",
    "dataset_multindex.loc[\n",
    "    :, idx[\"Percentage\", [\n",
    "        \"Employees working very long hours\", \n",
    "        \"Housing expenditure\"]]\n",
    "]"
   ]
  },
  {
   "cell_type": "markdown",
   "id": "0be06da4-01ae-4352-bc2a-265597ed84d8",
   "metadata": {},
   "source": [
    "Lo siguiente extiende el ejemplo anterior para seleccionar los paises de Norte y Sudamerica."
   ]
  },
  {
   "cell_type": "code",
   "execution_count": null,
   "id": "8eb23703-da74-45b4-ba34-2641976152ef",
   "metadata": {},
   "outputs": [],
   "source": [
    "dataset_multindex.loc[\n",
    "    idx[[\"NA\", \"SA\"]],\n",
    "    idx[\"Percentage\", [\"Employees working very long hours\", \"Housing expenditure\"]],\n",
    "]"
   ]
  },
  {
   "cell_type": "markdown",
   "id": "2dd909fc-e37f-45e1-bee3-0d5b9d21ea44",
   "metadata": {},
   "source": [
    "Incluso, puede pedir más de un índice/columna por cada nivel:"
   ]
  },
  {
   "cell_type": "code",
   "execution_count": null,
   "id": "174b465a-67cd-443a-9d75-bf15389f920e",
   "metadata": {},
   "outputs": [],
   "source": [
    "dataset_multindex.loc[\n",
    "    :,\n",
    "    idx[\n",
    "        [\"Hours\", \"Percentage\"],\n",
    "        [\n",
    "            \"Time devoted to leisure and personal care\",\n",
    "            \"Employees working very long hours\",\n",
    "            \"Housing expenditure\",\n",
    "        ],\n",
    "    ],\n",
    "]"
   ]
  },
  {
   "cell_type": "markdown",
   "id": "7baa510f-461e-44cc-8428-57695a35fa09",
   "metadata": {},
   "source": [
    "Que sería lo mismo que indexar usando `:` (es decir, seleccionar todo ese multi-índice)"
   ]
  },
  {
   "cell_type": "code",
   "execution_count": null,
   "id": "5e2c7211-dad7-4cb0-9df3-c7f8d1ce59e5",
   "metadata": {},
   "outputs": [],
   "source": [
    "dataset_multindex.loc[\n",
    "    idx[: ,['Chile', 'Israel']],\n",
    "    idx[\n",
    "        :,\n",
    "        [\n",
    "            \"Time devoted to leisure and personal care\",\n",
    "            \"Employees working very long hours\",\n",
    "            \"Housing expenditure\",\n",
    "        ],\n",
    "    ],\n",
    "]"
   ]
  },
  {
   "cell_type": "markdown",
   "id": "4a91b413-31a0-4464-994e-b7b28f7cdb02",
   "metadata": {},
   "source": [
    "### `droplevel`\n",
    "\n",
    "El método `droplevel` nos permite eliminar un nivel de un multi-índice, tanto para filas como para columnas.\n",
    "Recibe como parámetros el nivel (partiendo por 0 desde afuera hacia adentro) y el eje (axis): "
   ]
  },
  {
   "cell_type": "code",
   "execution_count": null,
   "id": "fd8f414a-a5a7-4e73-8977-d53a49aba9ab",
   "metadata": {},
   "outputs": [],
   "source": [
    "dataset_multindex.head()"
   ]
  },
  {
   "cell_type": "code",
   "execution_count": null,
   "id": "106b95c3-8832-4380-ba30-a6154d60859a",
   "metadata": {},
   "outputs": [],
   "source": [
    "dataset_multindex.droplevel(0, axis=0).head()"
   ]
  },
  {
   "cell_type": "code",
   "execution_count": null,
   "id": "f4f5853e-36a5-41a2-a891-d0e47927a5d2",
   "metadata": {},
   "outputs": [],
   "source": [
    "dataset_multindex.droplevel(1, axis=0)"
   ]
  },
  {
   "cell_type": "code",
   "execution_count": null,
   "id": "ed401f3c-3188-40d3-97e3-a66c571efbcf",
   "metadata": {},
   "outputs": [],
   "source": [
    "dataset_multindex.droplevel(0, axis=1).head()"
   ]
  },
  {
   "cell_type": "markdown",
   "id": "16eae824-8e51-4a69-a5e2-371efa4eed40",
   "metadata": {},
   "source": [
    "Noten que estos métodos generan DataFrames nuevos. Por ende, al ejecutarse deben reemplazar los `DataFrames` originales."
   ]
  },
  {
   "cell_type": "markdown",
   "id": "a17d1ea8-3b80-49f5-bb31-5ec4eff0d715",
   "metadata": {},
   "source": [
    "---\n",
    "\n",
    "## 7.- Fundir / Melt\n",
    "\n",
    "El proceso inverso al pivoteado:"
   ]
  },
  {
   "cell_type": "markdown",
   "id": "5b7be595-3911-435b-b8ac-2bc96d80d083",
   "metadata": {},
   "source": [
    "![Melt](./resources/melt.png)"
   ]
  },
  {
   "cell_type": "markdown",
   "id": "8a0a21d7-be5d-459b-b02f-2dddab14b34c",
   "metadata": {},
   "source": [
    "En este caso retornaremos a algo similar al formato original del dataset:"
   ]
  },
  {
   "cell_type": "code",
   "execution_count": null,
   "id": "fe134d67-c30b-4ee2-a0d4-fdcdcf4973f1",
   "metadata": {},
   "outputs": [],
   "source": [
    "bli_df.head()"
   ]
  },
  {
   "cell_type": "code",
   "execution_count": null,
   "id": "946b6f0f-d6ec-46f2-9fdd-1e3d77e846cb",
   "metadata": {},
   "outputs": [],
   "source": [
    "bli_df.melt(id_vars=[\"Country\"])"
   ]
  },
  {
   "cell_type": "markdown",
   "id": "55bec48e-449c-4a97-be98-bc706416836c",
   "metadata": {},
   "source": [
    "Usando su argumento `value_vars` podemos seleccionar solo alguna de las columnas que deseamos operar con `melt`.\n",
    "De todas formas, este comportamiento también puede ser logrado usando un simple indexador `.loc`"
   ]
  },
  {
   "cell_type": "code",
   "execution_count": null,
   "id": "a0a91714-1a93-49d8-a630-d77c9ff51918",
   "metadata": {},
   "outputs": [],
   "source": [
    "bli_df.melt(id_vars=[\"Country\"], value_vars=[\"Air pollution\", \"Water quality\"])"
   ]
  }
 ],
 "metadata": {
  "kernelspec": {
   "display_name": "Python 3 (ipykernel)",
   "language": "python",
   "name": "python3"
  },
  "language_info": {
   "codemirror_mode": {
    "name": "ipython",
    "version": 3
   },
   "file_extension": ".py",
   "mimetype": "text/x-python",
   "name": "python",
   "nbconvert_exporter": "python",
   "pygments_lexer": "ipython3",
   "version": "3.9.16"
  },
  "toc": {
   "base_numbering": 1,
   "nav_menu": {},
   "number_sections": true,
   "sideBar": true,
   "skip_h1_title": true,
   "title_cell": "Table of Contents",
   "title_sidebar": "Contents",
   "toc_cell": true,
   "toc_position": {},
   "toc_section_display": true,
   "toc_window_display": false
  },
  "varInspector": {
   "cols": {
    "lenName": 16,
    "lenType": 16,
    "lenVar": 40
   },
   "kernels_config": {
    "python": {
     "delete_cmd_postfix": "",
     "delete_cmd_prefix": "del ",
     "library": "var_list.py",
     "varRefreshCmd": "print(var_dic_list())"
    },
    "r": {
     "delete_cmd_postfix": ") ",
     "delete_cmd_prefix": "rm(",
     "library": "var_list.r",
     "varRefreshCmd": "cat(var_dic_list()) "
    }
   },
   "types_to_exclude": [
    "module",
    "function",
    "builtin_function_or_method",
    "instance",
    "_Feature"
   ],
   "window_display": false
  }
 },
 "nbformat": 4,
 "nbformat_minor": 5
}
