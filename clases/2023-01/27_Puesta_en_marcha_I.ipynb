{
 "cells": [
  {
   "attachments": {},
   "cell_type": "markdown",
   "id": "1111d3ad-458e-475b-ab30-0017e4117e8a",
   "metadata": {},
   "source": [
    "# Clase 27: Puesta en Marcha 1\n",
    "\n",
    "**MDS7202: Laboratorio de Programación Científica para Ciencia de Datos**\n",
    "\n",
    "**Profesor: Pablo Badilla**\n",
    "\n",
    "- Comprender los distintos componentes de los sistemas basados en ML como la arquitectura cliente-servidor, URL, HTTP, APIs REST, etc...\n",
    "- Introducir el despliegue de modelos usando `FastAPI`."
   ]
  },
  {
   "attachments": {},
   "cell_type": "markdown",
   "id": "4dfb7dbf-21ce-4311-978f-7cf326cd7643",
   "metadata": {},
   "source": [
    "## Puesta en Marcha"
   ]
  },
  {
   "attachments": {},
   "cell_type": "markdown",
   "id": "f5c4d2e7-5a24-4284-95b8-ea518af8900e",
   "metadata": {},
   "source": [
    "La puesta en marcha o *despliegue* consiste en el flujo de trabajo necesario para hacer que una aplicación pasa de un estado de desarrollo experimental (prueba de concepto) a ser una versión de *producción* donde los usuarios finales tendrá acceso. \n",
    "\n",
    "Para poner en marcha nuestros proyectos de ciencia de datos, haremos uso de *aplicaciones web*. Estas consisten programas diseñados para ejecutarse desde un servidor web. Esta aproximación nos permitirá facilitar resultados y visualizaciones a una amplia variedad de sistemas. "
   ]
  },
  {
   "attachments": {},
   "cell_type": "markdown",
   "id": "fe45169b-a475-4896-b4f9-6fe093d8f226",
   "metadata": {},
   "source": [
    "### Arquitectura Cliente-Servidor\n",
    "\n",
    "Según [Wikipedia](https://es.wikipedia.org/wiki/Cliente-servidor):\n",
    "\n",
    "> La arquitectura cliente-servidor es un modelo de diseño de software en el que las tareas se reparten entre los proveedores de recursos o servicios, llamados servidores, y los demandantes, llamados clientes. Un cliente realiza peticiones a otro programa, el servidor, quien le da respuesta. "
   ]
  },
  {
   "attachments": {},
   "cell_type": "markdown",
   "id": "b54d9750-31dc-4ad7-bd3d-9d0f2cb73c99",
   "metadata": {},
   "source": [
    "<div align='center'>\n",
    "<img alt='Arquitectura Cliente Servidor' src='https://raw.githubusercontent.com/MDS7202/MDS7202/main/recursos/2023-01/27_puesta_en_produccion/cliente_servidor.png' width=800/>\n",
    "</div>"
   ]
  },
  {
   "attachments": {},
   "cell_type": "markdown",
   "id": "2cb8ce02-8b0b-4903-8927-4e10ca77da24",
   "metadata": {},
   "source": [
    "#### Cliente \n",
    "\n",
    "Demanda algún servicio. Sus características principales son:\n",
    "\n",
    "- Inicia solicitudes (peticiones) y espera respuestas del servidor.\n",
    "- Puede ser a través de una *interfaz de programación de aplicaciones (API en inglés) o una interfaz gráfica* (como el navegador o un juego ejecutable)."
   ]
  },
  {
   "attachments": {},
   "cell_type": "markdown",
   "id": "bfd3ecf3-0b77-40c4-922a-d2fae03af825",
   "metadata": {},
   "source": [
    "#### Servidor\n",
    "\n",
    "Provee de servicios. Sus características principales son:\n",
    "\n",
    "- Reciben las solicitudes de los clientes, las procesan y luego envían una respuesta.\n",
    "- Pueden aceptar varias solicitudes de distintos clientes a la vez.\n"
   ]
  },
  {
   "attachments": {},
   "cell_type": "markdown",
   "id": "0d4563fd-7d58-46dd-8b14-6acb9c6a2e5c",
   "metadata": {},
   "source": [
    "### Características de esta arquitectura\n",
    "\n",
    "Una de las principales ventajas es que permite centralizar la información y las responsabilidades de proveer servicios.\n",
    "Es decir, solo el servidor será el encargado de manejar las solicitudes, acceder y modificar a las bases de datos, procesar dicha información y responder a sus clientes. Es decir, será *la única fuente de verdad*.\n"
   ]
  },
  {
   "attachments": {},
   "cell_type": "markdown",
   "id": "1d305c91-e357-4c44-b189-3a141689e5da",
   "metadata": {},
   "source": [
    "### Opciones y Frameworks"
   ]
  },
  {
   "attachments": {},
   "cell_type": "markdown",
   "id": "d03324be-7fb2-49fc-b281-5b980eb06325",
   "metadata": {},
   "source": [
    "Según [Wikipedia](https://es.wikipedia.org/wiki/Framework): \n",
    "\n",
    "> *Framework*: Un entorno de trabajo es un conjunto estandarizado de conceptos, prácticas y criterios para resolver un tipo de problemática particular y que sirve como referencia, para enfrentar y resolver nuevos problemas de índole similar. \n",
    "\n",
    "*¡Ya han estado utilizando un framework todo este tiempo!: `scikit-learn` y sus famosos `fit` y `predict`.*\n",
    "\n",
    "\n",
    "Existe una gigantezca variedad de frameworks (y combinaciones de estos) que implementan esta arquitectura.\n",
    "\n",
    "##### Servidor (y ocasionalmente también clientes):\n",
    "\n",
    "- `Django`\n",
    "- `Flask`\n",
    "- `FastAPI`\n",
    "\n",
    "\n",
    "##### Clientes (Interfaces Gráficas) (la mayoría en JavaScript): \n",
    "\n",
    "- `React`\n",
    "- `Vue`\n",
    "\n",
    "\n",
    "Una combinación de estas tecnologías se denomina *stack tecnológico*.\n",
    "\n",
    "\n",
    "> **Pregunta**: ¿Conocen alguno de estos?¿En que consisten?\n",
    "\n",
    "Visiten los siguientes links para ver buenas comparativas entre estos frameworks: \n",
    "\n",
    "- https://www.section.io/engineering-education/choosing-between-django-flask-and-fastapi/\n",
    "- https://www.analyticsvidhya.com/blog/2020/11/fastapi-the-right-replacement-for-flask/\n",
    "\n",
    "\n",
    "En nuestro caso en particular, veremos el framework (de moda) `FastAPI`.\n",
    "\n",
    "> **Pregunta:** ¿Qué es una API?"
   ]
  },
  {
   "attachments": {},
   "cell_type": "markdown",
   "id": "6c79093d-766c-4280-b484-8bfd9d90985c",
   "metadata": {},
   "source": [
    "---\n",
    "\n",
    "## Interfaz de Programación de Aplicaciones / Application Programming Interface (API)\n",
    "\n",
    "Es el conjunto se funciones que expone una librería para interactuar con ella.\n",
    "<div align='center'>\n",
    "<img src='https://raw.githubusercontent.com/MDS7202/MDS7202/main/recursos/2023-01/27_puesta_en_produccion/pandas_api.png' width=800/>\n",
    "</div>\n",
    "\n",
    "<div align='center'>\n",
    "<p>Ejemplo de una API: la API de pandas</p>\n",
    "</div>\n",
    "\n",
    "---\n",
    "\n",
    "En el caso en particular de los servidores web, la API (también conocidas como **Endpoints**) es el conjunto de funciones que nos permiten interactuar con el servidor. Comunmente esto se hace a través de **URLs** parametrizadas:\n",
    "\n",
    "<div align='center'>\n",
    "<img src='https://raw.githubusercontent.com/MDS7202/MDS7202/main/recursos/2023-01/27_puesta_en_produccion/api_maps.png' width=800/>\n",
    "</div>\n",
    "\n",
    "<div align='center'>\n",
    "<img src='https://raw.githubusercontent.com/MDS7202/MDS7202/main/recursos/2023-01/27_puesta_en_produccion/api_maps_2.png' width=800/>\n",
    "</div>\n",
    "\n",
    "<div align='center'>\n",
    "Ejemplo de una web API: La API de <a href='https://developers.google.com/maps/documentation/urls/get-started/'>Google Maps</a>\n",
    "</div>"
   ]
  },
  {
   "attachments": {},
   "cell_type": "markdown",
   "id": "f6c78a1e-d98c-46a1-8055-e96d08051544",
   "metadata": {},
   "source": [
    "### URL\n",
    "\n",
    "Una Localizador de recursos uniforme o Uniform Resource Locator (URL) es simplemente un localizador de un recurso web más un protocolo que permite acceder a este.\n",
    "\n",
    "Ejemplo: \n",
    "\n",
    "De: https://en.wikipedia.org/wiki/URL\n",
    "\n",
    "- Protocolo: `https`\n",
    "- Dirección del recurso: `en.wikipedia.org`\n",
    "- Archivo: `URL` (que se interpreta como html)\n",
    "\n",
    "\n",
    "#### Sintaxis de una URI\n",
    "\n",
    "<img src='https://raw.githubusercontent.com/MDS7202/MDS7202/main/recursos/2023-01/27_puesta_en_produccion/sintaxis_uri.png' />\n",
    "\n",
    "\n",
    "<div align='center'>\n",
    "Fuente:  <a href='https://en.wikipedia.org/wiki/URL' />URL en Wikipedia</a>\n",
    "</div>\n",
    "\n"
   ]
  },
  {
   "attachments": {},
   "cell_type": "markdown",
   "id": "7142a2dc-0a85-4c73-a884-0a566c79880a",
   "metadata": {},
   "source": [
    "### Protocolo de transferencia de hipertexto o HTTP y HTTPS\n",
    "\n",
    "[Protocolo de Comunicaciones según Wikipedia](https://es.wikipedia.org/wiki/Protocolo_de_comunicaciones):\n",
    "\n",
    "> Es un sistema de reglas que permiten que dos o más entidades (computadoras, teléfonos celulares, etc.) de un sistema de comunicación se comuniquen entre ellas con el fin de transmitir información por medio de cualquier tipo de variación de una magnitud física.\n",
    "\n",
    "> Se trata de las reglas o el estándar que define la sintaxis, semántica y sincronización de la comunicación, así como también los posibles métodos de recuperación de errores\n",
    "\n",
    "\n",
    "HTTP permite la transmisión de información a través de archivos html y otros formatos.\n",
    "Esta especifica en los mensajes:\n",
    "\n",
    "- Cabeceras (Headers) que indican el protocolo.\n",
    "- Método de petición (`GET`, `POST`, `PUT`, `DELETE`, `HEAD`, `OPTION`, etc...)\n",
    "     - `GET`: Solicitud para pedir datos.\n",
    "     - `POST`: Enviar datos (en el cuerpo de la solicitud) comunmente para ser procesados y guardados.\n",
    "     - `DELETE`: Elimina un dato.\n",
    "     - `PUT`: Actualiza un dato.\n",
    "\n",
    "\n",
    "- Códigos de respuesta (https://http.cat/)\n",
    "  - `1xx` - Respuestas informativas\n",
    "  - `2xx` - Respuestas satisfactorias \n",
    "  - `3xx` - Redirecciones \n",
    "  - `4xx` - Errores de los clientes \n",
    "  - `5xx` - Errores de los servidores \n",
    "  \n",
    "  \n",
    "- Cuerpo del mensaje\n",
    "\n",
    "\n",
    "#### Ejemplo: \n",
    "\n",
    "Petición del Cliente:\n",
    "\n",
    "     GET /index.html HTTP/1.1\n",
    "     Host: www.example.com\n",
    "     Referer: www.google.com\n",
    "     User-Agent: Mozilla/5.0 (X11; Linux x86_64; rv:45.0) Gecko/20100101 Firefox/45.0\n",
    "     Connection: keep-alive\n",
    "\n",
    "\n",
    "Respuesta del Servidor:\n",
    "\n",
    "    HTTP/1.1 200 OK\n",
    "    Date: Fri, 31 Dec 2003 23:59:59 GMT\n",
    "    Content-Type: text/html\n",
    "    Content-Length: 1221\n",
    "\n",
    "    <html lang=\"eo\">\n",
    "    <head>\n",
    "    <meta charset=\"utf-8\">\n",
    "    <title>Título del sitio</title>\n",
    "    </head>\n",
    "    <body>\n",
    "    <h1>Página principal de tuHost</h1>\n",
    "    (Contenido)\n",
    "      .\n",
    "      .\n",
    "      .\n",
    "    </body>\n",
    "    </html>\n",
    "\n",
    "\n",
    "HTTPS indica que el protocolo es seguro mediante cifrado de la información."
   ]
  },
  {
   "attachments": {},
   "cell_type": "markdown",
   "id": "192865b6-c5fa-4e6b-8ec8-3e44d42bf066",
   "metadata": {},
   "source": [
    "### API REST\n",
    "\n",
    "Lo último antes de empezar a ver código es hacer una recapitulación de todo lo que hemos visto, lo que puede ser agrupado dentro de un cómodo conjunto de principios llamado **Transferencia de estado representacional o representational state transfer (REST)**.\n",
    "\n",
    "Según [Wikipedia](https://es.wikipedia.org/wiki/Protocolo_de_transferencia_de_hipertexto), es un conjunto de principios para diseñar aplicaciones web:\n",
    "\n",
    "- **Un protocolo cliente/servidor sin estado:** cada mensaje HTTP contiene toda la información necesaria para comprender la petición. Como resultado, ni el cliente ni el servidor necesitan recordar ningún estado de las comunicaciones entre mensajes. En la práctica, muchas aplicaciones utilizan cookies y otros mecanismos para mantener el estado de la sesión.\n",
    "\n",
    "- Un conjunto de operaciones bien definidas que se aplican a todos los recursos de información: HTTP en sí define un conjunto pequeño de operaciones, las más importantes son **POST, GET, PUT y DELETE**. Con frecuencia estas operaciones se equiparan a las operaciones **CRUD en bases de datos** (CLAB en castellano: crear,leer,actualizar,borrar) que se requieren para la persistencia de datos.\n",
    "\n",
    "- **Una sintaxis universal para identificar los recursos.** En un sistema REST, cada recurso es direccionable únicamente a través de su **URI**.\n",
    "\n",
    "- El **uso de hipermedios**, tanto para la información de la aplicación como para las transiciones de estado de la aplicación: la representación de este estado en un sistema REST son típicamente **HTML o XML**. Como resultado de esto, es posible navegar de un recurso REST a muchos otros, simplemente siguiendo enlaces sin requerir el uso de registros u otra infraestructura adicional."
   ]
  }
 ],
 "metadata": {
  "kernelspec": {
   "display_name": "Python 3 (ipykernel)",
   "language": "python",
   "name": "python3"
  },
  "language_info": {
   "codemirror_mode": {
    "name": "ipython",
    "version": 3
   },
   "file_extension": ".py",
   "mimetype": "text/x-python",
   "name": "python",
   "nbconvert_exporter": "python",
   "pygments_lexer": "ipython3",
   "version": "3.9.16"
  },
  "toc": {
   "base_numbering": 1,
   "nav_menu": {},
   "number_sections": true,
   "sideBar": true,
   "skip_h1_title": true,
   "title_cell": "Table of Contents",
   "title_sidebar": "Contents",
   "toc_cell": false,
   "toc_position": {},
   "toc_section_display": true,
   "toc_window_display": false
  }
 },
 "nbformat": 4,
 "nbformat_minor": 5
}
