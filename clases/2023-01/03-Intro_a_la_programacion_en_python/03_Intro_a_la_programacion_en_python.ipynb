{
 "cells": [
  {
   "cell_type": "markdown",
   "id": "201e2305-96c6-4aaa-a417-688dcdb888fe",
   "metadata": {},
   "source": [
    "# Clase 3: Introducción a la Programación con `Python`\n",
    "\n",
    "**MDS7202: Laboratorio de Programación Científica para Ciencia de Datos**"
   ]
  },
  {
   "cell_type": "markdown",
   "id": "accepting-university",
   "metadata": {},
   "source": [
    "\n",
    "## Objetivos de la Clase 🎯\n",
    "\n",
    "- Introducirlos a `Python` y el porqué lo usamos.\n",
    "- Variables.\n",
    "- Tipos de datos básicos y tipado dinámico.\n",
    "- Operaciones y operadores, transformaciones entre tipos de datos.\n",
    "- Control de flujo.\n",
    "- Colecciones: Listas, conjuntos y diccionarios.\n",
    "- Iteraciones"
   ]
  },
  {
   "cell_type": "markdown",
   "id": "collective-springer",
   "metadata": {
    "tags": []
   },
   "source": [
    "## Introducción a Python\n",
    "\n",
    "\n",
    "<div align='center'>\n",
    "<img src=\"https://raw.githubusercontent.com/MDS7202/MDS7202/main/recursos/2023-01/03-Intro_a_la_programacion_en_python/python_logo.png\" width=400/>\n",
    "</div>\n",
    "\n",
    "`Python` es un lenguaje de programación multipropósito, enfocado en preservar legibilidad y simpleza sintáctica (_o sea, que sea facil de leer y escribir_).\n",
    "Sus características y principios lo convierten en un lenguaje poderoso y fácil de aprender. \n",
    "\n",
    "Por esta razón, es ampliamente utilizado en ámbitos tales como: \n",
    "\n",
    "- Desarrollo Web, \n",
    "- Data Science, \n",
    "- Scripting,\n",
    "- Software de escritorio,\n",
    "- etc..."
   ]
  },
  {
   "cell_type": "code",
   "execution_count": null,
   "id": "d329c332-e334-4891-a68a-6dfdb366bb8a",
   "metadata": {},
   "outputs": [],
   "source": [
    "# Pueden ver los principios de python ejecutando la siguiente celda:\n",
    "import this"
   ]
  },
  {
   "cell_type": "markdown",
   "id": "0cd73297-91ba-4102-8eb9-352564fd33ed",
   "metadata": {},
   "source": [
    "> **Pregunta ❓**: Qué _software_ conocen que se base en python?\n",
    "\n",
    "[Lista de software escrito total o particlamente en Python (en inglés).](https://en.wikipedia.org/wiki/List_of_Python_software)"
   ]
  },
  {
   "cell_type": "markdown",
   "id": "37e76dbb-5e1a-4d28-9859-2b55576b893f",
   "metadata": {},
   "source": [
    "> **Pregunta ❓**: ¿En qué han utilizado `Python` con anterioridad?"
   ]
  },
  {
   "cell_type": "markdown",
   "id": "340a19da-57de-470f-8496-ea9c41e62c4c",
   "metadata": {},
   "source": [
    "### Baterías Incluidas 🔋\n",
    "\n",
    "Además, se dice que viene con _baterías incluidas_, es decir, una larga cantidad de funcionalidades extra en la librería estándar que permiten incrementar la velocidad del desarrollo de software. Entre otras podemos nombrar:\n",
    "\n",
    "- Algoritmos y estructuras de datos.\n",
    "- Manejo y limpieza de texto y expresiones regulares 🌟.\n",
    "- Manejo de rutas y archivos (escritura, lectura, etc...) 🌟.\n",
    "- Manejo de datos temporales 🌟.\n",
    "- Generación de números aleatorios 🌟.\n",
    "- Concurrencia 🌟.\n",
    "- Networking y desarrollo web.\n",
    "- Multimedia (reproducir imágenes, audio y videos).\n",
    "- Interfaces gráficas.\n",
    "\n",
    "Y un gran etc...\n"
   ]
  },
  {
   "cell_type": "markdown",
   "id": "2c56abd3-6bdc-465c-9f5f-50c16162079e",
   "metadata": {},
   "source": [
    "> **Pregunta ❓**: Pero..., ¿Esto es suficiente?"
   ]
  },
  {
   "cell_type": "markdown",
   "id": "7be8f68c-5609-4c2a-b8f7-441091217f17",
   "metadata": {},
   "source": [
    "### Ecosistema 🌳\n",
    "\n",
    "Muy probablemente la segunda razón de la popularidad de python es su extenso ecosistema: la gran cantidad de paquetes de código abierto que son compatibles con el lenguaje. \n",
    "\n",
    "> **Nota 🗒️**: Un paquete o librería es un software desarrollado por terceros que permite ampliar las funcionalidades disponibles en python, las cuáles están enfocadas en ser usadas bajo demanda.\n",
    "\n",
    "\n",
    "<div align=\"center\"/>\n",
    "<img src=\"https://raw.githubusercontent.com/MDS7202/MDS7202/main/recursos/2023-01/03-Intro_a_la_programacion_en_python/python_powered.png\" width=\"600\">\n",
    "</div>\n",
    "\n",
    "<br>\n",
    "\n",
    "<div align=\"center\"/>\n",
    "Fuente: <a href=\"https://en.wikipedia.org/wiki/Python_(programming_language)#Uses\">Python en Wikipedia</a>.\n",
    "</div>\n",
    "\n",
    "\n",
    "La principal forma de acceder a las librerías es el repositorio de paquetes de python [PyPi](https://pypi.org/))."
   ]
  },
  {
   "cell_type": "markdown",
   "id": "ad716eb2",
   "metadata": {},
   "source": [
    "### Entonces, ¿Por qué usamos `Python` en Data Science? 🤔\n",
    "\n",
    "Se podría decir que la suma de lo anterior:\n",
    "<div align=\"center\">\n",
    "    <strong>\n",
    " La simpleza del lenguaje más la gran y activa comunidad open-source que desarrolla el ecosistema de paquetes enfocados en ciencia de datos.\n",
    "    </strong>\n",
    "</div>\n",
    "\n",
    "<br>\n",
    "<br>\n",
    "    \n",
    "<div align=\"center\"/>\n",
    "<img src=\"https://raw.githubusercontent.com/MDS7202/MDS7202/main/recursos/2023-01/03-Intro_a_la_programacion_en_python/python_ds_stack.png\" width=\"600\">\n",
    "</div>\n",
    "\n",
    "<br>\n",
    "\n",
    "<div align=\"center\"/>\n",
    "Fuente: <a href=\"https://jupytearth.org/jupyter-resources/introduction/ecosystem.html\">Jupyter Meets the Earth</a>.\n",
    "</div>\n"
   ]
  },
  {
   "cell_type": "markdown",
   "id": "792ef8b2-9308-4f8f-966d-4c6d9378efac",
   "metadata": {},
   "source": [
    "### Pero pero pero python es lento... 😪\n",
    "\n",
    "Si bien el rendimiento de los lenguajes interpretados (como python) es bajo para operaciones intensivas computacionalmente, la mayoría de las librerías están implementadas usando código escrito en lenguajes mucho más eficientes (C, Fortran), lo que permite que las operaciones sean muy eficientes."
   ]
  },
  {
   "cell_type": "markdown",
   "id": "779d80eb-9597-4991-b779-b555ae3e72ea",
   "metadata": {
    "tags": []
   },
   "source": [
    "## Manos a la obra 🛠️\n",
    "\n",
    "\n",
    "A continuación haremos un repaso a grandes rasgos de las sintaxis y funcionalidades básicas de python."
   ]
  },
  {
   "cell_type": "markdown",
   "id": "03c531e6-e0f8-49a4-8442-115c091b29b1",
   "metadata": {},
   "source": [
    "---"
   ]
  },
  {
   "cell_type": "markdown",
   "id": "champion-dubai",
   "metadata": {},
   "source": [
    "## 1. Variables 🪪\n",
    "\n",
    "Las variables son un bloque fundamental en la programación: Son el medio que nos permite vincular un identificador/variable con valores/datos.\n",
    "En Python se definen por medio de una **sentencia de asignación** usando el operador ` = `.\n",
    "\n",
    "> **Nota 🗒️**: Una sentencia es una instrucción que el intérprete de Python puede ejecutar\n"
   ]
  },
  {
   "cell_type": "code",
   "execution_count": null,
   "id": "extensive-basis",
   "metadata": {
    "ExecuteTime": {
     "end_time": "2021-03-22T19:22:38.821644Z",
     "start_time": "2021-03-22T19:22:38.817644Z"
    }
   },
   "outputs": [],
   "source": [
    "variable = 9"
   ]
  },
  {
   "cell_type": "markdown",
   "id": "atlantic-insight",
   "metadata": {},
   "source": [
    "Pueden imprimir el valor que tiene una variable utilizando la función `print(nombre_de_la_variable)` \n",
    "\n",
    "> **Nota 🗒️**: Veremos más adelante funciones; mientras tanto, solo utilícenla."
   ]
  },
  {
   "cell_type": "code",
   "execution_count": null,
   "id": "eleven-austria",
   "metadata": {
    "ExecuteTime": {
     "end_time": "2021-03-22T19:23:23.900022Z",
     "start_time": "2021-03-22T19:23:23.887023Z"
    }
   },
   "outputs": [],
   "source": [
    "print(variable)"
   ]
  },
  {
   "cell_type": "markdown",
   "id": "prepared-collector",
   "metadata": {},
   "source": [
    "O cuando estén ejecutando un Jupyter Notebook, pueden imprimir el valor de la variable poniendo el nombre de esta al final de una celda.\n",
    "\n",
    "> **Nota 🗒️:** Pueden escribir comentarios (lineas que no se ejecutarán) usando `#`:\n"
   ]
  },
  {
   "cell_type": "code",
   "execution_count": null,
   "id": "gentle-illinois",
   "metadata": {
    "ExecuteTime": {
     "end_time": "2021-03-22T19:24:03.318890Z",
     "start_time": "2021-03-22T19:24:03.311841Z"
    },
    "scrolled": true,
    "tags": []
   },
   "outputs": [],
   "source": [
    "# declarar la variable\n",
    "variable = 9\n",
    "\n",
    "# ver su valor\n",
    "variable"
   ]
  },
  {
   "cell_type": "markdown",
   "id": "73f8489d-7c99-4e3d-802c-df70989adc81",
   "metadata": {
    "ExecuteTime": {
     "end_time": "2021-03-22T14:32:19.114508Z",
     "start_time": "2021-03-22T14:32:19.100507Z"
    },
    "tags": []
   },
   "source": [
    "### Convenciones para Nombrar Variables\n",
    "\n",
    "Estas son las convenciones que se usualmente se usan en `python` para escribir código (declaradas en un [Python Enhancement Proposal (PEP) 8 – Style Guide for Python Code](https://peps.python.org/pep-0008) y que **utilizaremos en el curso**. \n",
    "La idea es siempre mantener siempre la consistencia y legibilidad del código.\n",
    "\n",
    "- Largo máximo de linea: 79 carácteres\n",
    "\n",
    "- Nombres de variables y funciones: `lower_case_with_underscores`.\n",
    "\n",
    "```python\n",
    "entero = 10\n",
    "entero_mas_grande = 100\n",
    "una_funcion_cualquiera\n",
    "```\n",
    "\n",
    "- Constantes (identificadores que no deberían cambiar a futuro): `UPPER_CASE_WITH_UNDERSCORES` \n",
    "```python\n",
    "PI = 3.14\n",
    "GRAVEDAD_EN_MARTE = 3.711\n",
    "```\n"
   ]
  },
  {
   "cell_type": "markdown",
   "id": "9068540e-b27c-4116-9562-79056ccc8ec1",
   "metadata": {},
   "source": [
    "> **Pregunta ❓**: ¿Pueden cambiar los valores de las constantes?\n"
   ]
  },
  {
   "cell_type": "markdown",
   "id": "df21e332-d08f-4bc1-8eb6-a5a4b27ecfd8",
   "metadata": {},
   "source": [
    "- Clases (veremos qué son más adelante): `CapitalizedWords `\n",
    "\n",
    "\n",
    "```python\n",
    "class ClaseConEstilo1:\n",
    "    ...\n",
    "```\n",
    "\n",
    "- Otras reglas:\n",
    "    - Nombres de variables con sentido y que describan que contiene la variable o que hace la función.\n",
    "    - Nunca usar nombres con uno o dos carácteres: usualmente rompen con el punto anterior.\n",
    "\n",
    "> **Nota 🗒️**: Recuerden que en un ámbito profesional, su código probablemente será visto y usados por otros!\n",
    "    "
   ]
  },
  {
   "cell_type": "markdown",
   "id": "87c91542-1dfe-4ec4-b578-5331ffc34fd1",
   "metadata": {},
   "source": [
    "---"
   ]
  },
  {
   "cell_type": "markdown",
   "id": "egyptian-sharp",
   "metadata": {
    "tags": []
   },
   "source": [
    "## 2. Tipos de Datos 📇\n",
    "\n",
    "A continuación veremos los tipos de datos básicos o literales: **datos en bruto** que se asignan a variables.\n",
    "\n",
    "\n",
    "### Tipos de Datos Básicos\n"
   ]
  },
  {
   "cell_type": "markdown",
   "id": "jewish-documentation",
   "metadata": {},
   "source": [
    "#### Integers\n",
    "\n",
    "Números enteros creados sin parte compleja ni posiciones decimales. En este tipo de de dato es posible realizar las operaciones de división entera."
   ]
  },
  {
   "cell_type": "code",
   "execution_count": null,
   "id": "julian-tennessee",
   "metadata": {
    "ExecuteTime": {
     "end_time": "2021-03-22T19:25:31.129685Z",
     "start_time": "2021-03-22T19:25:31.110685Z"
    }
   },
   "outputs": [],
   "source": [
    "entero = 9\n",
    "entero"
   ]
  },
  {
   "cell_type": "markdown",
   "id": "extreme-oxide",
   "metadata": {},
   "source": [
    "#### Floats\n",
    "\n",
    "Valores numéricos de punto flotante, pueden ser creados agregando posiciones decimales ej: ```0.87```"
   ]
  },
  {
   "cell_type": "code",
   "execution_count": null,
   "id": "square-jones",
   "metadata": {
    "ExecuteTime": {
     "end_time": "2021-03-22T19:25:47.489212Z",
     "start_time": "2021-03-22T19:25:47.480216Z"
    }
   },
   "outputs": [],
   "source": [
    "numero_flotante = 9.2344\n",
    "numero_flotante"
   ]
  },
  {
   "cell_type": "markdown",
   "id": "periodic-characterization",
   "metadata": {},
   "source": [
    "#### Complex\n",
    "\n",
    "Números complejos, se pueden crear utilizando la notación ```a + bj``` donde ```a``` es la parte real y ```b``` es la parte compleja."
   ]
  },
  {
   "cell_type": "code",
   "execution_count": null,
   "id": "printable-mining",
   "metadata": {
    "ExecuteTime": {
     "end_time": "2021-03-22T19:25:52.849207Z",
     "start_time": "2021-03-22T19:25:52.841207Z"
    },
    "scrolled": true
   },
   "outputs": [],
   "source": [
    "numero_complejo = 10 + 1j\n",
    "numero_complejo"
   ]
  },
  {
   "cell_type": "markdown",
   "id": "affecting-session",
   "metadata": {},
   "source": [
    "#### Booleans/Bools\n",
    "\n",
    "Valores de verdad `True` o `False`."
   ]
  },
  {
   "cell_type": "code",
   "execution_count": null,
   "id": "super-affair",
   "metadata": {
    "ExecuteTime": {
     "end_time": "2021-03-22T19:26:29.515577Z",
     "start_time": "2021-03-22T19:26:29.500546Z"
    }
   },
   "outputs": [],
   "source": [
    "booleano = False\n",
    "booleano"
   ]
  },
  {
   "cell_type": "markdown",
   "id": "e8e7e6ae-d18a-4984-9a91-7575f49d21e1",
   "metadata": {},
   "source": [
    "#### Strings\n",
    "\n",
    "\"Cadenas\" de carácteres que contienen un texto. Estos pueden ser definidos usando comillas simples ``` ' '``` o dobles ```\" \"```."
   ]
  },
  {
   "cell_type": "code",
   "execution_count": null,
   "id": "inside-departure",
   "metadata": {
    "ExecuteTime": {
     "end_time": "2021-03-22T19:27:24.309550Z",
     "start_time": "2021-03-22T19:27:24.305543Z"
    }
   },
   "outputs": [],
   "source": [
    "oracion = \"Juan esta tomando té 🍵\"\n",
    "oracion"
   ]
  },
  {
   "cell_type": "markdown",
   "id": "suburban-radar",
   "metadata": {
    "ExecuteTime": {
     "end_time": "2021-03-22T15:21:25.296930Z",
     "start_time": "2021-03-22T15:21:25.278931Z"
    }
   },
   "source": [
    "#### `None`\n",
    "\n",
    "Tipo especial (pronunciado *nan*) que representa que la variable tiene un valor inespecífico."
   ]
  },
  {
   "cell_type": "code",
   "execution_count": null,
   "id": "committed-citizen",
   "metadata": {
    "ExecuteTime": {
     "end_time": "2021-03-22T19:11:41.641505Z",
     "start_time": "2021-03-22T19:11:41.627508Z"
    }
   },
   "outputs": [],
   "source": [
    "variable_sin_ningún_valor = None\n",
    "variable_sin_ningún_valor"
   ]
  },
  {
   "cell_type": "code",
   "execution_count": null,
   "id": "b00014f2",
   "metadata": {},
   "outputs": [],
   "source": [
    "print(variable_sin_ningún_valor)"
   ]
  },
  {
   "cell_type": "code",
   "execution_count": null,
   "id": "accredited-objective",
   "metadata": {
    "ExecuteTime": {
     "end_time": "2021-03-22T19:27:31.586122Z",
     "start_time": "2021-03-22T19:27:31.569122Z"
    }
   },
   "outputs": [],
   "source": [
    "variable_sin_ningún_valor"
   ]
  },
  {
   "cell_type": "markdown",
   "id": "6467a7cb-b270-4746-8890-c16b810df065",
   "metadata": {},
   "source": [
    "> **Pregunta ❓**: En ciencia de datos, qué utilidad pueden tener estos tipos de datos?"
   ]
  },
  {
   "cell_type": "markdown",
   "id": "unlimited-diameter",
   "metadata": {
    "ExecuteTime": {
     "end_time": "2021-03-22T14:17:09.464686Z",
     "start_time": "2021-03-22T14:17:09.444669Z"
    }
   },
   "source": [
    "### Función `type`\n",
    "\n",
    "Podemos usar la función `type(identificador)` para saber cuál es el tipo de dato que contiene una variable "
   ]
  },
  {
   "cell_type": "code",
   "execution_count": null,
   "id": "5a9cc107-2b15-45da-bff2-e8f20af873db",
   "metadata": {},
   "outputs": [],
   "source": [
    "nombre"
   ]
  },
  {
   "cell_type": "code",
   "execution_count": null,
   "id": "dental-filling",
   "metadata": {
    "ExecuteTime": {
     "end_time": "2021-03-22T19:28:13.717955Z",
     "start_time": "2021-03-22T19:28:13.708955Z"
    },
    "scrolled": true
   },
   "outputs": [],
   "source": [
    "type(oracion)"
   ]
  },
  {
   "cell_type": "code",
   "execution_count": null,
   "id": "1a6cfc9f-7cb9-475c-87e2-c4ba3fccce53",
   "metadata": {},
   "outputs": [],
   "source": [
    "entero"
   ]
  },
  {
   "cell_type": "code",
   "execution_count": null,
   "id": "unauthorized-oregon",
   "metadata": {
    "ExecuteTime": {
     "end_time": "2021-03-22T19:28:19.987131Z",
     "start_time": "2021-03-22T19:28:19.972132Z"
    },
    "scrolled": true
   },
   "outputs": [],
   "source": [
    "type(entero)"
   ]
  },
  {
   "cell_type": "markdown",
   "id": "34dbd0a5",
   "metadata": {},
   "source": [
    "### Verificar tipo de dato con `isinstance`\n",
    "\n",
    "La función `isinstance` permite \"preguntar\" si una variable contiene un tipo de dato específico."
   ]
  },
  {
   "cell_type": "code",
   "execution_count": null,
   "id": "aaa3add4",
   "metadata": {},
   "outputs": [],
   "source": [
    "oracion"
   ]
  },
  {
   "cell_type": "code",
   "execution_count": null,
   "id": "d42122bd",
   "metadata": {},
   "outputs": [],
   "source": [
    "isinstance(oracion, int)"
   ]
  },
  {
   "cell_type": "code",
   "execution_count": null,
   "id": "80b6beea-3c58-4104-a9db-8693761baa46",
   "metadata": {},
   "outputs": [],
   "source": [
    "isinstance(oracion, float)"
   ]
  },
  {
   "cell_type": "code",
   "execution_count": null,
   "id": "a9563d98",
   "metadata": {},
   "outputs": [],
   "source": [
    "isinstance(oracion, str)"
   ]
  },
  {
   "cell_type": "markdown",
   "id": "c5b86eec-4a44-4381-b029-dab631348ec1",
   "metadata": {},
   "source": [
    "> **Pregunta ❓**: En Ciencia de los Datos, ¿cuál sería la utilidad de la función `isinstance`?"
   ]
  },
  {
   "cell_type": "markdown",
   "id": "lesser-accountability",
   "metadata": {},
   "source": [
    "### Tipado Dinámico y Fuerte"
   ]
  },
  {
   "cell_type": "markdown",
   "id": "abroad-dance",
   "metadata": {},
   "source": [
    "Vale considerar que en python el **valor de una variable posee un tipo de dato, pero no la variable en si**. \n",
    "\n",
    "En el siguiente ejemplo lo anterior se puede entender como que el `100` sabe que es un número entero, pero `num_entero` no sabe que referencia a un entero, solo que referencia a algo."
   ]
  },
  {
   "cell_type": "code",
   "execution_count": null,
   "id": "60168a3b-3e35-4db2-8a60-7b9bf3fa4b99",
   "metadata": {},
   "outputs": [],
   "source": [
    "num_entero = 100\n",
    "num_entero"
   ]
  },
  {
   "cell_type": "code",
   "execution_count": null,
   "id": "widespread-singles",
   "metadata": {
    "ExecuteTime": {
     "end_time": "2021-03-22T19:11:41.705018Z",
     "start_time": "2021-03-22T19:11:41.692020Z"
    }
   },
   "outputs": [],
   "source": [
    "type(num_entero)"
   ]
  },
  {
   "cell_type": "markdown",
   "id": "59f1f391-9190-47c2-9ba6-3b9d1aa70046",
   "metadata": {
    "ExecuteTime": {
     "end_time": "2021-03-22T19:29:17.307289Z",
     "start_time": "2021-03-22T19:29:17.296292Z"
    }
   },
   "source": [
    "Lo anterior permite definir el concepto de **Tipado Dinámico**, lo que en términos simples se puede definir como que el tipo de datos es definido en el tiempo de ejecución (cuándo se ejecuta el código) por cada valor/dato.\n",
    "\n",
    "Esto permite entre otras cosas, reasignar dinámicamente los nombres de variables (cosa que por cierto no es sencillo en otros lenguajes de programación)."
   ]
  },
  {
   "cell_type": "code",
   "execution_count": null,
   "id": "operating-sustainability",
   "metadata": {
    "ExecuteTime": {
     "end_time": "2021-03-22T19:29:49.984338Z",
     "start_time": "2021-03-22T19:29:49.964338Z"
    }
   },
   "outputs": [],
   "source": [
    "# Redefinimos entero:\n",
    "num_entero = 3 -1j\n",
    "num_entero"
   ]
  },
  {
   "cell_type": "code",
   "execution_count": null,
   "id": "informed-warner",
   "metadata": {
    "ExecuteTime": {
     "end_time": "2021-03-22T19:29:51.422847Z",
     "start_time": "2021-03-22T19:29:51.412841Z"
    }
   },
   "outputs": [],
   "source": [
    "type(num_entero)"
   ]
  },
  {
   "cell_type": "markdown",
   "id": "consecutive-linux",
   "metadata": {},
   "source": [
    "> **Nota 🗒️**:Lo anterior no ocurre en lenguajes estáticos, en donde hay que declarar qué tipo de datos contendrá cada variable antes de "
   ]
  },
  {
   "cell_type": "markdown",
   "id": "0ecc22ff-e996-48dc-855f-a39d35c86c12",
   "metadata": {},
   "source": [
    "La flexibilidad en la declaración de variables, no implica necesariamente flexibilidad en el manejo de tipos de datos: hay operaciones que no permitidas entre tipos de datos distintos, como por ejemplo, suma un string a un dato numérico."
   ]
  },
  {
   "cell_type": "code",
   "execution_count": null,
   "id": "58e7c9de-6412-4be1-8672-93094c03aed6",
   "metadata": {},
   "outputs": [],
   "source": [
    "num_entero = 100\n",
    "\n",
    "num_entero + \"200\""
   ]
  },
  {
   "cell_type": "markdown",
   "id": "ca0caff9-a61b-49cf-9af1-f8bb6804295b",
   "metadata": {},
   "source": [
    "Para ejecutar esta operación, primero debemos convertir explícitamente `\"200\"` a entero y luego sumarlo"
   ]
  },
  {
   "cell_type": "code",
   "execution_count": null,
   "id": "a43fe17f-a9e8-4899-8d2d-34e7c22bf7c6",
   "metadata": {},
   "outputs": [],
   "source": [
    "num_entero + int(\"200\")"
   ]
  },
  {
   "cell_type": "markdown",
   "id": "cd7807de-85f7-49d2-b883-f1b31f9f8cc7",
   "metadata": {},
   "source": [
    "Lo anterior se define como **Tipado Fuerte** y es también una de las características de Python."
   ]
  },
  {
   "cell_type": "markdown",
   "id": "5689808c-bbe0-4141-b8dc-ae234b2c9350",
   "metadata": {
    "tags": []
   },
   "source": [
    "## Transformar Datos a Otros Tipos\n",
    "\n",
    "Podemos usar las funciones \n",
    "\n",
    "- `int()`\n",
    "- `float()`\n",
    "- `str()`\n",
    "- etc...\n",
    "\n",
    "para transformar un dato de un tipo determinado en otro."
   ]
  },
  {
   "cell_type": "markdown",
   "id": "3eafba9b-e894-40a4-9f6b-befc446fa0d0",
   "metadata": {
    "tags": []
   },
   "source": [
    "### Entero a flotante"
   ]
  },
  {
   "cell_type": "code",
   "execution_count": null,
   "id": "pressing-canberra",
   "metadata": {
    "ExecuteTime": {
     "end_time": "2021-03-22T19:50:49.771248Z",
     "start_time": "2021-03-22T19:50:49.754221Z"
    }
   },
   "outputs": [],
   "source": [
    "float(3)"
   ]
  },
  {
   "cell_type": "code",
   "execution_count": null,
   "id": "e19afce7-c631-4773-aeca-219200ecaaf8",
   "metadata": {},
   "outputs": [],
   "source": [
    "type(3)"
   ]
  },
  {
   "cell_type": "code",
   "execution_count": null,
   "id": "53cc9c47-e6eb-4f30-b7eb-6021e7eaead3",
   "metadata": {},
   "outputs": [],
   "source": [
    "type(float(3))"
   ]
  },
  {
   "cell_type": "code",
   "execution_count": null,
   "id": "0af1724a-cfad-4673-8303-b1c9f4ca2ea7",
   "metadata": {},
   "outputs": [],
   "source": [
    "3 + 1.1"
   ]
  },
  {
   "cell_type": "code",
   "execution_count": null,
   "id": "99fc6d84-771e-4c57-8716-a644cf9829da",
   "metadata": {},
   "outputs": [],
   "source": [
    "type(3 + 1.1)"
   ]
  },
  {
   "cell_type": "markdown",
   "id": "96c2e0d9-597b-491e-9908-4fb7d7491e88",
   "metadata": {},
   "source": [
    "### Flotante a entero\n",
    "\n",
    "Ojo que pierde la parte decimal."
   ]
  },
  {
   "cell_type": "code",
   "execution_count": null,
   "id": "45bd0c6f-53a5-4c15-9413-50556da623ef",
   "metadata": {
    "ExecuteTime": {
     "end_time": "2021-03-22T19:50:37.609745Z",
     "start_time": "2021-03-22T19:50:37.594744Z"
    }
   },
   "outputs": [],
   "source": [
    "int(3.14)"
   ]
  },
  {
   "cell_type": "markdown",
   "id": "6a6dbc63-36d5-43e8-8291-9a84037fb859",
   "metadata": {},
   "source": [
    "### Strings\n",
    "\n",
    "Casi todos los datos pueden ser convertidos a string.\n"
   ]
  },
  {
   "cell_type": "code",
   "execution_count": null,
   "id": "9bb6b59f-1e66-4e8e-b0fa-f865b70ae279",
   "metadata": {},
   "outputs": [],
   "source": [
    "str(3)"
   ]
  },
  {
   "cell_type": "code",
   "execution_count": null,
   "id": "flush-personal",
   "metadata": {
    "ExecuteTime": {
     "end_time": "2021-03-22T19:50:59.858741Z",
     "start_time": "2021-03-22T19:50:59.838753Z"
    }
   },
   "outputs": [],
   "source": [
    "str(3.14)"
   ]
  },
  {
   "cell_type": "markdown",
   "id": "08cedca2-4422-4d94-9fb4-ba1131977978",
   "metadata": {
    "ExecuteTime": {
     "end_time": "2021-03-22T15:19:06.000262Z",
     "start_time": "2021-03-22T15:19:05.983263Z"
    }
   },
   "source": [
    "Pero hay que tener mucho cuidado con la operación al revés, ya que python intentará convertirlo o \"*morira en el intento*\""
   ]
  },
  {
   "cell_type": "code",
   "execution_count": null,
   "id": "honey-liquid",
   "metadata": {
    "ExecuteTime": {
     "end_time": "2021-03-22T19:51:36.544668Z",
     "start_time": "2021-03-22T19:51:36.528668Z"
    }
   },
   "outputs": [],
   "source": [
    "float('3.14')"
   ]
  },
  {
   "cell_type": "code",
   "execution_count": null,
   "id": "divided-climate",
   "metadata": {
    "ExecuteTime": {
     "end_time": "2021-03-22T19:51:26.767713Z",
     "start_time": "2021-03-22T19:51:26.748704Z"
    }
   },
   "outputs": [],
   "source": [
    "float('3.13aa')"
   ]
  },
  {
   "cell_type": "markdown",
   "id": "e492cfa4-6293-438d-8975-071550c3b9ed",
   "metadata": {},
   "source": [
    "---"
   ]
  },
  {
   "cell_type": "markdown",
   "id": "polish-plasma",
   "metadata": {},
   "source": [
    "## 3. Operaciones entre datos ➕"
   ]
  },
  {
   "cell_type": "markdown",
   "id": "fiscal-encounter",
   "metadata": {},
   "source": [
    "Los operadores en python son **símbolos y keywords** especiales que permiten llevar a cabo operaciones aritméticas o lógicas entre datos.\n",
    "\n",
    "Aritméticas:\n",
    "\n",
    "- `+` \n",
    "- `-` \n",
    "- `*`\n",
    "- `/`\n",
    "- `//` (división entera)\n",
    "- `%` (módulo) \n",
    "\n",
    "Comparación e igualdad:\n",
    "\n",
    "- `>` y `>=`\n",
    "- `<` y `<=`\n",
    "- `==`\n",
    "\n",
    "Lógicas:\n",
    "\n",
    "- `and`\n",
    "- `or`\n",
    "- `not`\n",
    "- `is`\n",
    "- `in`\n",
    "- `not in`"
   ]
  },
  {
   "cell_type": "markdown",
   "id": "thorough-milan",
   "metadata": {},
   "source": [
    "### Expresión\n",
    "\n",
    "Una expresión es una combinación de valores, variables y operadores que pueden ser evaluadas por el interprete.\n",
    "\n",
    "> **Nota 🗒️**: Python es interpretado. Esto quiere decir que existe un *interprete* que convierte el código a `bytecode` (código que el procesador es capaz de entender y ejecutar) en el momento en que el código se ejecuta."
   ]
  },
  {
   "cell_type": "markdown",
   "id": "stuck-dollar",
   "metadata": {
    "ExecuteTime": {
     "end_time": "2021-03-22T15:06:13.576207Z",
     "start_time": "2021-03-22T15:06:13.565203Z"
    }
   },
   "source": [
    "### Operadores Aritméticos y de Comparación e Igualdad"
   ]
  },
  {
   "cell_type": "markdown",
   "id": "9accd2b6-cf36-4f16-bbc4-2e0f9b55c3a6",
   "metadata": {},
   "source": [
    "#### Suma"
   ]
  },
  {
   "cell_type": "code",
   "execution_count": null,
   "id": "joined-deviation",
   "metadata": {
    "ExecuteTime": {
     "end_time": "2021-03-22T19:35:19.329013Z",
     "start_time": "2021-03-22T19:35:19.320006Z"
    }
   },
   "outputs": [],
   "source": [
    "5 + 2"
   ]
  },
  {
   "cell_type": "markdown",
   "id": "d0d90047-e85e-4280-964e-a31f01420199",
   "metadata": {},
   "source": [
    "#### Resta"
   ]
  },
  {
   "cell_type": "code",
   "execution_count": null,
   "id": "a1e071e8-7b19-4b72-bb7f-7afcb43ccaf2",
   "metadata": {},
   "outputs": [],
   "source": [
    "5 - 2"
   ]
  },
  {
   "cell_type": "markdown",
   "id": "f1af6141-e8ed-49c8-9032-3f963443484e",
   "metadata": {},
   "source": [
    "#### Multiplicación"
   ]
  },
  {
   "cell_type": "code",
   "execution_count": null,
   "id": "joined-interface",
   "metadata": {
    "ExecuteTime": {
     "end_time": "2021-03-22T19:35:21.891720Z",
     "start_time": "2021-03-22T19:35:21.876721Z"
    }
   },
   "outputs": [],
   "source": [
    "5 * 2"
   ]
  },
  {
   "cell_type": "markdown",
   "id": "fe629f57-6c0d-42c5-ab44-9c9574cc78d9",
   "metadata": {},
   "source": [
    "#### División"
   ]
  },
  {
   "cell_type": "code",
   "execution_count": null,
   "id": "ordered-religious",
   "metadata": {
    "ExecuteTime": {
     "end_time": "2021-03-22T19:35:22.736640Z",
     "start_time": "2021-03-22T19:35:22.725640Z"
    }
   },
   "outputs": [],
   "source": [
    "5 / 2"
   ]
  },
  {
   "cell_type": "markdown",
   "id": "d3916c1b-6a55-4d58-89dd-a894f89fc06a",
   "metadata": {},
   "source": [
    "#### División Entera\n",
    "\n",
    "Conserva solo la parte entera de la división."
   ]
  },
  {
   "cell_type": "code",
   "execution_count": null,
   "id": "correct-romantic",
   "metadata": {
    "ExecuteTime": {
     "end_time": "2021-03-22T19:35:24.591066Z",
     "start_time": "2021-03-22T19:35:24.571007Z"
    }
   },
   "outputs": [],
   "source": [
    "5 // 2"
   ]
  },
  {
   "cell_type": "markdown",
   "id": "according-cabin",
   "metadata": {},
   "source": [
    "> **Pregunta ❓**: ¿Qué sucede con `//` con al operarlos con datos de tipo `float`?"
   ]
  },
  {
   "cell_type": "code",
   "execution_count": null,
   "id": "coral-satin",
   "metadata": {
    "ExecuteTime": {
     "end_time": "2021-03-22T19:36:41.810644Z",
     "start_time": "2021-03-22T19:36:41.789647Z"
    }
   },
   "outputs": [],
   "source": [
    "2.5 / 2.0"
   ]
  },
  {
   "cell_type": "code",
   "execution_count": null,
   "id": "former-bermuda",
   "metadata": {
    "ExecuteTime": {
     "end_time": "2021-03-22T19:36:57.964286Z",
     "start_time": "2021-03-22T19:36:57.946286Z"
    },
    "scrolled": true
   },
   "outputs": [],
   "source": [
    "2.5 // 2.0"
   ]
  },
  {
   "cell_type": "markdown",
   "id": "f1b3b93e-01cb-425d-9b4e-947ca43e0d00",
   "metadata": {},
   "source": [
    "#### Módulo (resto) de una división\n"
   ]
  },
  {
   "cell_type": "code",
   "execution_count": null,
   "id": "martial-bonus",
   "metadata": {
    "ExecuteTime": {
     "end_time": "2021-03-22T19:35:27.157300Z",
     "start_time": "2021-03-22T19:35:27.139301Z"
    },
    "scrolled": true
   },
   "outputs": [],
   "source": [
    "5 % 2"
   ]
  },
  {
   "cell_type": "markdown",
   "id": "56e4cb85-0ba1-4611-abad-86dc4837a0c8",
   "metadata": {},
   "source": [
    "#### Potenciación \n",
    "\n",
    "2 elevado a 3:"
   ]
  },
  {
   "cell_type": "code",
   "execution_count": null,
   "id": "narrow-salmon",
   "metadata": {
    "ExecuteTime": {
     "end_time": "2021-03-22T19:35:48.238020Z",
     "start_time": "2021-03-22T19:35:48.220022Z"
    }
   },
   "outputs": [],
   "source": [
    "2 ** 3"
   ]
  },
  {
   "cell_type": "code",
   "execution_count": null,
   "id": "c28e9fb5-ce62-4fe8-9c33-0ca0c01aae5a",
   "metadata": {},
   "outputs": [],
   "source": [
    "2 ** -3"
   ]
  },
  {
   "cell_type": "code",
   "execution_count": null,
   "id": "0484298a-a8c4-46e5-a9dd-150269793eff",
   "metadata": {},
   "outputs": [],
   "source": [
    "2 ** -3.2334"
   ]
  },
  {
   "cell_type": "markdown",
   "id": "starting-timeline",
   "metadata": {
    "ExecuteTime": {
     "end_time": "2021-03-22T16:35:35.923564Z",
     "start_time": "2021-03-22T16:35:35.905524Z"
    }
   },
   "source": [
    "### Operadores de Comparación e Igualdad:"
   ]
  },
  {
   "cell_type": "markdown",
   "id": "6a2b026d-02c2-4630-b5e7-6426295d66f1",
   "metadata": {},
   "source": [
    "#### Igualdad"
   ]
  },
  {
   "cell_type": "code",
   "execution_count": null,
   "id": "2b291f92-1831-4ed0-801a-654b2d8c8fdf",
   "metadata": {},
   "outputs": [],
   "source": [
    "# es 2 igual a 2?\n",
    "2 == 2"
   ]
  },
  {
   "cell_type": "code",
   "execution_count": null,
   "id": "4244aa9c-c268-4e30-9856-755bca4659d9",
   "metadata": {},
   "outputs": [],
   "source": [
    "type(2 == 2)"
   ]
  },
  {
   "cell_type": "code",
   "execution_count": null,
   "id": "noticed-facility",
   "metadata": {
    "ExecuteTime": {
     "end_time": "2021-03-22T19:37:45.602649Z",
     "start_time": "2021-03-22T19:37:45.583649Z"
    }
   },
   "outputs": [],
   "source": [
    "2 == 4"
   ]
  },
  {
   "cell_type": "markdown",
   "id": "50eba53f-edc9-4b9b-8462-8ba670319d87",
   "metadata": {},
   "source": [
    "> **Pregunta ❓**: ¿Qué sucede con `==` cuando comparamos tipos distintos (`int` con `float` y `string`)?"
   ]
  },
  {
   "cell_type": "code",
   "execution_count": null,
   "id": "crazy-lighting",
   "metadata": {
    "ExecuteTime": {
     "end_time": "2021-03-22T19:38:19.828468Z",
     "start_time": "2021-03-22T19:38:19.808466Z"
    }
   },
   "outputs": [],
   "source": [
    "2 == 2.0"
   ]
  },
  {
   "cell_type": "code",
   "execution_count": null,
   "id": "286893f0-738b-4ca1-93c9-069c35872c65",
   "metadata": {},
   "outputs": [],
   "source": [
    "2 == \"2\""
   ]
  },
  {
   "cell_type": "code",
   "execution_count": null,
   "id": "0f84aab5-35ba-4725-b6e7-4c56565ae649",
   "metadata": {},
   "outputs": [],
   "source": [
    "2 == int(\"2\")"
   ]
  },
  {
   "cell_type": "code",
   "execution_count": null,
   "id": "fdde9f58-e061-43af-ab3a-0f54a882e75e",
   "metadata": {},
   "outputs": [],
   "source": [
    "2 == 2 + 0j"
   ]
  },
  {
   "cell_type": "markdown",
   "id": "a0424b09-7127-4032-93f9-96f3e5db8685",
   "metadata": {},
   "source": [
    "#### Mayor y mayor igual"
   ]
  },
  {
   "cell_type": "code",
   "execution_count": null,
   "id": "invisible-snake",
   "metadata": {
    "ExecuteTime": {
     "end_time": "2021-03-22T19:38:48.700702Z",
     "start_time": "2021-03-22T19:38:48.683700Z"
    }
   },
   "outputs": [],
   "source": [
    "2 > 2"
   ]
  },
  {
   "cell_type": "code",
   "execution_count": null,
   "id": "3b609a2e-5971-404b-ac50-0dc7e76994a3",
   "metadata": {},
   "outputs": [],
   "source": [
    "2 > 1"
   ]
  },
  {
   "cell_type": "code",
   "execution_count": null,
   "id": "f352e7f5-e8fd-448e-a11f-276db5d24282",
   "metadata": {},
   "outputs": [],
   "source": [
    "2 > 3"
   ]
  },
  {
   "cell_type": "code",
   "execution_count": null,
   "id": "8d49b86e-1911-4893-9bc0-2dfe466db800",
   "metadata": {},
   "outputs": [],
   "source": [
    "2 >= 2"
   ]
  },
  {
   "cell_type": "markdown",
   "id": "bd87d1bb-049d-4081-8470-146067f91662",
   "metadata": {},
   "source": [
    "> **Pregunta ❓**: ¿Qué sucede con `>`/`>=` cuando comparamos tipos distintos (`int` con `string`)?"
   ]
  },
  {
   "cell_type": "code",
   "execution_count": null,
   "id": "checked-baker",
   "metadata": {
    "ExecuteTime": {
     "end_time": "2021-03-22T19:39:52.016912Z",
     "start_time": "2021-03-22T19:39:51.989914Z"
    },
    "scrolled": true
   },
   "outputs": [],
   "source": [
    "3 >= \"3\""
   ]
  },
  {
   "cell_type": "markdown",
   "id": "9e21d5eb-f7f7-4ac2-8bf0-ffaab4884ba0",
   "metadata": {},
   "source": [
    "Recordar el **Tipado Fuerte**!"
   ]
  },
  {
   "cell_type": "markdown",
   "id": "602938ee-6669-4b35-87ce-02355596ee35",
   "metadata": {},
   "source": [
    "#### Menor y menor igual\n",
    "\n",
    "Mismo caso que el anterior"
   ]
  },
  {
   "cell_type": "code",
   "execution_count": null,
   "id": "916267f8-fef4-40e3-8af5-18d2e5472c25",
   "metadata": {},
   "outputs": [],
   "source": [
    "2 < 3"
   ]
  },
  {
   "cell_type": "code",
   "execution_count": null,
   "id": "93af0c82-99c5-4cf6-abba-26e923b57bf6",
   "metadata": {},
   "outputs": [],
   "source": [
    "2 < 1"
   ]
  },
  {
   "cell_type": "markdown",
   "id": "twenty-customer",
   "metadata": {},
   "source": [
    "---\n",
    "\n",
    "### Operaciones con Strings\n",
    "\n",
    "\n",
    "#### Operadores de comparación"
   ]
  },
  {
   "cell_type": "code",
   "execution_count": null,
   "id": "df2356b8",
   "metadata": {},
   "outputs": [],
   "source": [
    "'Avellana' == 'Avellana'"
   ]
  },
  {
   "cell_type": "code",
   "execution_count": null,
   "id": "2884d4b9-fdf1-4683-b461-6d64d8f4692a",
   "metadata": {},
   "outputs": [],
   "source": [
    "'Avellana' == 'Manzana'"
   ]
  },
  {
   "cell_type": "markdown",
   "id": "950d3b4d-ec05-436b-a0f7-b148e78b0b93",
   "metadata": {},
   "source": [
    "> Pregunta ❓: Es posible comparar con '<'/'<=' y '>'/'>=' strings?\n",
    "\n",
    "\n",
    "Ver [Orden Lexicográfico en Wikipedia](https://es.wikipedia.org/wiki/Orden_lexicogr%C3%A1fico)."
   ]
  },
  {
   "cell_type": "code",
   "execution_count": null,
   "id": "55e186ce",
   "metadata": {
    "scrolled": true
   },
   "outputs": [],
   "source": [
    "'Avellana' > 'Arvejas'"
   ]
  },
  {
   "cell_type": "code",
   "execution_count": null,
   "id": "c193ea0f",
   "metadata": {},
   "outputs": [],
   "source": [
    "'3' > '5'"
   ]
  },
  {
   "cell_type": "markdown",
   "id": "b7c4f15b-a397-4f10-878a-3c88735a456d",
   "metadata": {},
   "source": [
    "#### Concatenación"
   ]
  },
  {
   "cell_type": "code",
   "execution_count": null,
   "id": "detailed-saver",
   "metadata": {
    "ExecuteTime": {
     "end_time": "2021-03-22T19:40:31.963073Z",
     "start_time": "2021-03-22T19:40:31.949079Z"
    }
   },
   "outputs": [],
   "source": [
    "pregunta = '¿quieres un '\n",
    "\n",
    "respuesta_a = 'tecito?'\n",
    "respuesta_b = 'cafecito?'"
   ]
  },
  {
   "cell_type": "code",
   "execution_count": null,
   "id": "regional-trauma",
   "metadata": {
    "ExecuteTime": {
     "end_time": "2021-03-22T19:40:32.799073Z",
     "start_time": "2021-03-22T19:40:32.785072Z"
    }
   },
   "outputs": [],
   "source": [
    "pregunta + respuesta_a"
   ]
  },
  {
   "cell_type": "markdown",
   "id": "speaking-replica",
   "metadata": {},
   "source": [
    "#### Formateo de strings"
   ]
  },
  {
   "cell_type": "code",
   "execution_count": null,
   "id": "mounted-transaction",
   "metadata": {
    "ExecuteTime": {
     "end_time": "2021-03-22T19:42:28.638229Z",
     "start_time": "2021-03-22T19:42:28.616228Z"
    }
   },
   "outputs": [],
   "source": [
    "pregunta_completa = f\"¿deseas un {respuesta_b}\"\n",
    "pregunta_completa"
   ]
  },
  {
   "cell_type": "markdown",
   "id": "a287f29a-529e-4dd0-8a6c-75082af07821",
   "metadata": {},
   "source": [
    "#### Repetir strings"
   ]
  },
  {
   "cell_type": "code",
   "execution_count": null,
   "id": "accessory-pulse",
   "metadata": {
    "ExecuteTime": {
     "end_time": "2021-03-22T19:44:30.723837Z",
     "start_time": "2021-03-22T19:44:30.717836Z"
    },
    "scrolled": true
   },
   "outputs": [],
   "source": [
    "respuesta_a * 10"
   ]
  },
  {
   "cell_type": "markdown",
   "id": "patent-trance",
   "metadata": {
    "ExecuteTime": {
     "end_time": "2021-03-22T15:05:16.889531Z",
     "start_time": "2021-03-22T15:05:16.869533Z"
    }
   },
   "source": [
    "> **Pregunta** : ¿ `a / 10` ? ¿ `a // 10` ? "
   ]
  },
  {
   "cell_type": "code",
   "execution_count": null,
   "id": "lasting-courage",
   "metadata": {
    "ExecuteTime": {
     "end_time": "2021-03-22T19:44:42.074505Z",
     "start_time": "2021-03-22T19:44:42.061506Z"
    }
   },
   "outputs": [],
   "source": [
    "respuesta_a / 10"
   ]
  },
  {
   "cell_type": "markdown",
   "id": "af4d30de-5447-4d70-8c6f-c46b6e335cd0",
   "metadata": {},
   "source": [
    "#### Operador `in`"
   ]
  },
  {
   "cell_type": "code",
   "execution_count": null,
   "id": "35add86b-206b-42ec-aa74-73690ee2e37a",
   "metadata": {},
   "outputs": [],
   "source": [
    "respuesta_b"
   ]
  },
  {
   "cell_type": "code",
   "execution_count": null,
   "id": "disciplinary-clock",
   "metadata": {
    "ExecuteTime": {
     "end_time": "2021-03-22T19:45:43.393616Z",
     "start_time": "2021-03-22T19:45:43.384616Z"
    }
   },
   "outputs": [],
   "source": [
    "'te' in respuesta_b"
   ]
  },
  {
   "cell_type": "code",
   "execution_count": null,
   "id": "corrected-shade",
   "metadata": {
    "ExecuteTime": {
     "end_time": "2021-03-22T19:45:46.932781Z",
     "start_time": "2021-03-22T19:45:46.912751Z"
    },
    "scrolled": true
   },
   "outputs": [],
   "source": [
    "'cafe' in respuesta_b"
   ]
  },
  {
   "cell_type": "markdown",
   "id": "538b11d5-4402-4a86-ba33-0644c480dbac",
   "metadata": {},
   "source": [
    "#### Operador `not`"
   ]
  },
  {
   "cell_type": "code",
   "execution_count": null,
   "id": "specific-kazakhstan",
   "metadata": {
    "ExecuteTime": {
     "end_time": "2021-03-22T19:45:55.867701Z",
     "start_time": "2021-03-22T19:45:55.847673Z"
    }
   },
   "outputs": [],
   "source": [
    "'te' not in respuesta_b"
   ]
  },
  {
   "cell_type": "code",
   "execution_count": null,
   "id": "73d477d9",
   "metadata": {},
   "outputs": [],
   "source": [
    "pregunta_completa"
   ]
  },
  {
   "cell_type": "markdown",
   "id": "42c50381-eea7-42bf-967b-8dea76e3bcb5",
   "metadata": {},
   "source": [
    "### Funciones asociadas a los `strings`"
   ]
  },
  {
   "cell_type": "markdown",
   "id": "7330a8c0-376e-46d0-9772-c941302c06d9",
   "metadata": {},
   "source": [
    "#### Cambiar a mayúscula, minúscula, etc..."
   ]
  },
  {
   "cell_type": "code",
   "execution_count": null,
   "id": "45ea8b6b-1e39-4550-8905-2f533852edf7",
   "metadata": {},
   "outputs": [],
   "source": [
    "pregunta_completa"
   ]
  },
  {
   "cell_type": "code",
   "execution_count": null,
   "id": "satellite-volume",
   "metadata": {
    "ExecuteTime": {
     "end_time": "2021-03-22T19:46:07.738762Z",
     "start_time": "2021-03-22T19:46:07.724763Z"
    }
   },
   "outputs": [],
   "source": [
    "print('Lower:', pregunta_completa.lower())\n",
    "print('Upper:', pregunta_completa.upper())\n",
    "print('Title:', pregunta_completa.title())\n",
    "print('Capitalize:', pregunta_completa.capitalize())"
   ]
  },
  {
   "cell_type": "markdown",
   "id": "1caa528f-cd90-4028-a8c8-31a07aba4c32",
   "metadata": {},
   "source": [
    "#### Reemplazar"
   ]
  },
  {
   "cell_type": "code",
   "execution_count": null,
   "id": "18fe284c-401a-4b4a-87fd-135542e87833",
   "metadata": {},
   "outputs": [],
   "source": [
    "pregunta_completa"
   ]
  },
  {
   "cell_type": "code",
   "execution_count": null,
   "id": "fdaccb71-ea76-4877-850c-ea72c8b8be26",
   "metadata": {},
   "outputs": [],
   "source": [
    "pregunta_completa.replace('cafecito', 'tecito')"
   ]
  },
  {
   "cell_type": "markdown",
   "id": "094a6f84-5c15-4855-913f-8813803d79f1",
   "metadata": {},
   "source": [
    "#### Eliminar espacios del inicio y final"
   ]
  },
  {
   "cell_type": "code",
   "execution_count": null,
   "id": "f0e56d04-d520-410e-936f-f2a0d031506f",
   "metadata": {},
   "outputs": [],
   "source": [
    "hola = '    hola      '\n",
    "hola"
   ]
  },
  {
   "cell_type": "code",
   "execution_count": null,
   "id": "76be00e0-c205-4347-ac41-6c01a51d241b",
   "metadata": {},
   "outputs": [],
   "source": [
    "hola.strip()"
   ]
  },
  {
   "cell_type": "markdown",
   "id": "distinguished-basin",
   "metadata": {},
   "source": [
    "Más información y métodos útiles (en inglés): \n",
    "    \n",
    "https://www.programiz.com/python-programming/string"
   ]
  },
  {
   "cell_type": "markdown",
   "id": "diagnostic-doctrine",
   "metadata": {
    "tags": []
   },
   "source": [
    "### Operadores con booleanos\n",
    "\n",
    "Las siguientes tablas muestran como funcionan las operaciones lógicas `and`, `or` y `not`."
   ]
  },
  {
   "cell_type": "markdown",
   "id": "physical-gathering",
   "metadata": {},
   "source": [
    "#### Operador `and`\n",
    "\n",
    "Implementa la operación lógica \"y\""
   ]
  },
  {
   "cell_type": "code",
   "execution_count": null,
   "id": "empty-episode",
   "metadata": {
    "ExecuteTime": {
     "end_time": "2021-03-22T19:47:25.648406Z",
     "start_time": "2021-03-22T19:47:25.636406Z"
    }
   },
   "outputs": [],
   "source": [
    "print('| Bool1  -  Bool2 |  Resultado')\n",
    "print('------------------------------')\n",
    "print('| True  and True  | ', True and True)\n",
    "print('| False and True  | ', False and True)\n",
    "print('| True  and False | ', True and False)\n",
    "print('| False and False | ', False and False)"
   ]
  },
  {
   "cell_type": "markdown",
   "id": "olympic-louisville",
   "metadata": {},
   "source": [
    "#### Operador `or`\n",
    "\n",
    "Implementa la operación lógica \"o\""
   ]
  },
  {
   "cell_type": "code",
   "execution_count": null,
   "id": "played-breakfast",
   "metadata": {
    "ExecuteTime": {
     "end_time": "2021-03-22T19:47:40.866246Z",
     "start_time": "2021-03-22T19:47:40.858245Z"
    }
   },
   "outputs": [],
   "source": [
    "print('| Bool1  -  Bool2 |  Resultado')\n",
    "print('------------------------------')\n",
    "print('| True  or True  | ', True or True)\n",
    "print('| False or True  | ', False or True)\n",
    "print('| True  or False | ', True or False)\n",
    "print('| False or False | ', False or False)"
   ]
  },
  {
   "cell_type": "markdown",
   "id": "grateful-atlas",
   "metadata": {},
   "source": [
    "#### Operador `not`\n",
    "\n",
    "\n",
    "Implementa la operación lógica \"negación\""
   ]
  },
  {
   "cell_type": "code",
   "execution_count": null,
   "id": "ad43ed3c-e999-41ad-9b5a-56079ccef153",
   "metadata": {},
   "outputs": [],
   "source": [
    "print('| Bool1      |  Resultado')\n",
    "print('-------------------------')\n",
    "print('| not True   | ', not True)\n",
    "print('| not False  | ', not False)"
   ]
  },
  {
   "cell_type": "markdown",
   "id": "polar-worst",
   "metadata": {},
   "source": [
    "#### Comparaciones e igualdades"
   ]
  },
  {
   "cell_type": "code",
   "execution_count": null,
   "id": "innocent-drive",
   "metadata": {
    "ExecuteTime": {
     "end_time": "2021-03-22T19:47:59.571799Z",
     "start_time": "2021-03-22T19:47:59.565834Z"
    }
   },
   "outputs": [],
   "source": [
    "variable_1 = True\n",
    "variable_2 = False"
   ]
  },
  {
   "cell_type": "markdown",
   "id": "cd5425b5-803b-448c-b018-6cfa02b429c9",
   "metadata": {},
   "source": [
    "#### Igualdad"
   ]
  },
  {
   "cell_type": "code",
   "execution_count": null,
   "id": "acquired-lambda",
   "metadata": {
    "ExecuteTime": {
     "end_time": "2021-03-22T19:48:24.654775Z",
     "start_time": "2021-03-22T19:48:24.645776Z"
    }
   },
   "outputs": [],
   "source": [
    "variable_1 == True"
   ]
  },
  {
   "cell_type": "code",
   "execution_count": null,
   "id": "94d0ecee-42b1-453e-941d-3db430af64c7",
   "metadata": {},
   "outputs": [],
   "source": [
    "variable_2 == True"
   ]
  },
  {
   "cell_type": "markdown",
   "id": "little-instrumentation",
   "metadata": {
    "ExecuteTime": {
     "end_time": "2021-03-22T15:16:11.183686Z",
     "start_time": "2021-03-22T15:16:11.173687Z"
    }
   },
   "source": [
    "> **Pregunta ❓:** ¿En otros lenguajes existen los operadores `&&` y `||`?¿Existen estos en python?"
   ]
  },
  {
   "cell_type": "markdown",
   "id": "13936f8c-66cf-40ac-a9b8-f15b292a9466",
   "metadata": {},
   "source": [
    "---"
   ]
  },
  {
   "cell_type": "markdown",
   "id": "greater-internship",
   "metadata": {},
   "source": [
    "\n",
    "## 4. Control de Flujo 🔀"
   ]
  },
  {
   "cell_type": "markdown",
   "id": "ordinary-navigation",
   "metadata": {},
   "source": [
    "Una estructura de **Control de flujo** se refiere a un tipo de estructura de código que nos permite decidir si ejecutar o no un determinado segmento de código según una expresión o variable booleana.\n",
    "\n",
    "### Ejemplo: _La cafetería de la serpiente 🐍_\n",
    "\n",
    "En el ejemplo desarrollaremos una cafetería usando expresiones de control de flujo en python."
   ]
  },
  {
   "cell_type": "code",
   "execution_count": null,
   "id": "32c20440-f5a6-479e-87fa-313ba1f038a5",
   "metadata": {},
   "outputs": [],
   "source": [
    "pedido = 'té'"
   ]
  },
  {
   "cell_type": "markdown",
   "id": "b3ac885f-19a4-439f-bee8-f45703471ef0",
   "metadata": {},
   "source": [
    "**Caso 1:** si respuesta es `'té'`, entonces servir el té:"
   ]
  },
  {
   "cell_type": "code",
   "execution_count": null,
   "id": "130dc663-39ae-4168-8d5a-9efab520a127",
   "metadata": {},
   "outputs": [],
   "source": [
    "if 'té' == pedido:\n",
    "    print('Enseguida le traigo su té 🍵.')"
   ]
  },
  {
   "cell_type": "markdown",
   "id": "e70f18ac-95e0-40d5-bd47-7a02c014c7ad",
   "metadata": {},
   "source": [
    "> **Pregunta ❓**: ¿Qué pasa si ahora pruebo con café?"
   ]
  },
  {
   "cell_type": "code",
   "execution_count": null,
   "id": "14cf3179-6235-4831-b2d8-16e593918dba",
   "metadata": {},
   "outputs": [],
   "source": [
    "pedido = 'café'"
   ]
  },
  {
   "cell_type": "code",
   "execution_count": null,
   "id": "ca399f33-26a1-4b04-961f-16217725bb77",
   "metadata": {},
   "outputs": [],
   "source": [
    "if 'té' == pedido:\n",
    "    print('Enseguida le traigo su té 🍵.')"
   ]
  },
  {
   "cell_type": "markdown",
   "id": "e6273bd6-6ba3-4256-b594-9e60e1c17f9f",
   "metadata": {},
   "source": [
    "**Caso 2:** si respuesta es `'café'`, entonces servir el café, pero conservando la opción de servir té:"
   ]
  },
  {
   "cell_type": "code",
   "execution_count": null,
   "id": "working-garden",
   "metadata": {
    "ExecuteTime": {
     "end_time": "2021-03-22T19:55:30.847496Z",
     "start_time": "2021-03-22T19:55:30.831497Z"
    }
   },
   "outputs": [],
   "source": [
    "pedido = 'café'\n",
    "\n",
    "if 'té' == pedido:\n",
    "    print('Enseguida le traigo su té 🍵.')\n",
    "    \n",
    "elif pedido == 'café':\n",
    "    print('Enseguida le traigo su café ☕.')"
   ]
  },
  {
   "cell_type": "markdown",
   "id": "6907638d-9c8c-41c7-87a3-1521cc2ae33f",
   "metadata": {},
   "source": [
    "> **Nota 🗒️**: La keyword ```elif``` permite agregar un nuevo caso al control de flujo y su uso es opcional.\n"
   ]
  },
  {
   "cell_type": "markdown",
   "id": "3313e588-8cc0-4d4e-b6bb-d4c055fc8a0b",
   "metadata": {},
   "source": [
    "**Caso 3:** Para cualquier pedido que no sea ni té ni café, indicar que no hay:"
   ]
  },
  {
   "cell_type": "code",
   "execution_count": null,
   "id": "bc9f1c1a-2254-4e74-be16-45bbdea3aad8",
   "metadata": {},
   "outputs": [],
   "source": [
    "pedido = 'bebida'\n",
    "\n",
    "if 'té' == pedido:\n",
    "    print('Enseguida le traigo su 🍵.')\n",
    "    \n",
    "elif pedido == 'café':\n",
    "    print('Enseguida le traigo su ☕.')\n",
    "    \n",
    "else:\n",
    "    print(\"No tenemos lo que nos está pidiendo\")"
   ]
  },
  {
   "cell_type": "markdown",
   "id": "5240eaa1-46a8-4fa2-b850-1ad12395d7bb",
   "metadata": {},
   "source": [
    "\n",
    "> **Nota 🗒️**: La keyword ```else``` finaliza el el flujo y es opcional. Es decir, se puede hacer\n",
    "un control de flujo sin utilizar ```elif``` no ```else```.\n"
   ]
  },
  {
   "cell_type": "markdown",
   "id": "284c4382-5bc0-4742-aa22-8d2a364fa8bb",
   "metadata": {},
   "source": [
    "> **Pregunta ❓:** Qué pasa si pruebo el código anterior con `te` (sin acento)?"
   ]
  },
  {
   "cell_type": "code",
   "execution_count": null,
   "id": "b504662f-eb1b-4544-87f2-71c299bc4be5",
   "metadata": {},
   "outputs": [],
   "source": [
    "pedido = 'te'\n",
    "\n",
    "if 'té' == pedido:\n",
    "    print('Enseguida le traigo su 🍵.')\n",
    "    \n",
    "elif pedido == 'café':\n",
    "    print('Enseguida le traigo su ☕.')\n",
    "    \n",
    "else:\n",
    "    print(\"No tenemos lo que nos está pidiendo\")"
   ]
  },
  {
   "cell_type": "markdown",
   "id": "78e6120c-50cf-4e6c-a29d-5db77a4f7f04",
   "metadata": {},
   "source": [
    "> **Pregunta ❓:** ¿Cómo agrego la opción de `bebida`?"
   ]
  },
  {
   "cell_type": "code",
   "execution_count": null,
   "id": "36c665de-df31-4854-8376-7befe25e799a",
   "metadata": {},
   "outputs": [],
   "source": [
    "if 'té' == pedido:\n",
    "    print('Enseguida le traigo su 🍵.')\n",
    "    \n",
    "elif pedido == 'café':\n",
    "    print('Enseguida le traigo su ☕.')\n",
    "    \n",
    "else:\n",
    "    print(\"No tenemos lo que nos está pidiendo\")"
   ]
  },
  {
   "cell_type": "markdown",
   "id": "e729752a-e1fe-412b-810f-2fe55081558f",
   "metadata": {},
   "source": [
    "> **Nota 🗒️**: Puede usarse ```elif``` tantas veces como sea necesario. \n"
   ]
  },
  {
   "cell_type": "markdown",
   "id": "infrared-crossing",
   "metadata": {},
   "source": [
    "### Bloque Indentado\n",
    "\n",
    "Es posible observar que bajo cada expresión ```if```, ```elif``` o ```else```, se ejecutan las acciones correspondientes 4 espacios más adentro. Esto se conoce como indentación.\n",
    "\n",
    "En `Python`, cada linea de código pertenece a un *bloque*. Además, cada bloque posee una jerarquía: en el caso del control de flujo, cada keyword define un bloque indentado de 4 espacios bajo ella. \n"
   ]
  },
  {
   "cell_type": "markdown",
   "id": "de2405ca-04b5-4185-b3ec-eaf56c2c6a1a",
   "metadata": {},
   "source": [
    "---"
   ]
  },
  {
   "cell_type": "markdown",
   "id": "digital-incentive",
   "metadata": {
    "tags": []
   },
   "source": [
    "## Parte 5: Colecciones 🗃️\n",
    "\n",
    "Hasta el momento solo hemos visto como manejar datos únicos, sin embargo, en ciencia de datos necesitaremos herramientas para manejar grandes colecciones de datos.\n",
    "\n",
    "> **Pregunta ❓:** Cómo han manejado colecciones de datos en python?.\n",
    "\n"
   ]
  },
  {
   "cell_type": "markdown",
   "id": "a18cfc4c-8e49-48fd-aa25-c5b8e4e51f73",
   "metadata": {},
   "source": [
    "Una **colección** es una estructura de datos que permite almacenar datos y operarlos. Algunas de las posibles operaciones son:\n",
    "\n",
    "- Ordenar\n",
    "- Mapear (aplicar una función a cada elemento)\n",
    "- Filtrar\n",
    "- Agregar de todos los elementos (según alguna función como la suma o el promedio)."
   ]
  },
  {
   "cell_type": "markdown",
   "id": "45e2dd1b-3328-4971-81aa-33f08f2b4dd0",
   "metadata": {},
   "source": [
    "### Mutabilidad\n",
    "\n",
    "En python, las colecciones pueden ser: \n",
    "\n",
    "1. **Mutables** (listas, conjuntos), que en palabras simples, permiten adición, eliminación y modificación de sus elementos. \n",
    "\n",
    "2. **Inmutables** (tuplas). No se pueden modificar sus elementos,\n",
    "\n"
   ]
  },
  {
   "cell_type": "markdown",
   "id": "78ff8b95-0611-4318-a8a5-607e1ca1c25b",
   "metadata": {},
   "source": [
    "### Iterar\n",
    "\n",
    "Iterar se define como \"realizar cierta acción varias veces\".\n",
    "\n",
    "Finalmente, es posible **iterar** sobre estas estructuras y calcular operaciones de reducción sobre estas (promedios, medianas, sumas, etc ...). Por tal motivo, las colecciones están íntimamente relacionados con la programación en Python para el análisis de datos."
   ]
  },
  {
   "cell_type": "markdown",
   "id": "dynamic-dragon",
   "metadata": {},
   "source": [
    "### Listas\n",
    "\n",
    "Creamos las listas usando los brackets ([]). "
   ]
  },
  {
   "cell_type": "code",
   "execution_count": null,
   "id": "racial-optimum",
   "metadata": {
    "ExecuteTime": {
     "end_time": "2021-03-22T19:57:50.566059Z",
     "start_time": "2021-03-22T19:57:50.551060Z"
    }
   },
   "outputs": [],
   "source": [
    "# Lista sin elementos pero inicializada.\n",
    "lista_vacia = []\n",
    "lista_vacia"
   ]
  },
  {
   "cell_type": "code",
   "execution_count": null,
   "id": "amateur-morocco",
   "metadata": {
    "scrolled": true
   },
   "outputs": [],
   "source": [
    "# Lista con literales\n",
    "lista_1 = [1, 2, 3]\n",
    "lista_1"
   ]
  },
  {
   "cell_type": "markdown",
   "id": "discrete-filter",
   "metadata": {},
   "source": [
    "También podemos crear una lista con distintos tipos de datos (incluyendo otras colecciones)"
   ]
  },
  {
   "cell_type": "code",
   "execution_count": null,
   "id": "collaborative-rescue",
   "metadata": {
    "ExecuteTime": {
     "end_time": "2021-03-22T19:58:06.077336Z",
     "start_time": "2021-03-22T19:58:06.062335Z"
    }
   },
   "outputs": [],
   "source": [
    "lista_2 = [1, 2, 10.0, 'hola', True, [0, 1, 2]]\n",
    "lista_2"
   ]
  },
  {
   "cell_type": "markdown",
   "id": "8a5f65bf",
   "metadata": {},
   "source": [
    "> **Pregunta ❓**: ¿Sería correcto declarar una lista como esta: `presion = [1 ,2 ,3, 3.3, 3 +1j, '4']`?"
   ]
  },
  {
   "cell_type": "markdown",
   "id": "compound-civilization",
   "metadata": {},
   "source": [
    "Y podemos acceder a la cantidad de elementos de la lista usando la función `len(variable_lista)`"
   ]
  },
  {
   "cell_type": "code",
   "execution_count": null,
   "id": "adapted-failing",
   "metadata": {
    "ExecuteTime": {
     "end_time": "2021-03-23T13:47:49.256063Z",
     "start_time": "2021-03-23T13:47:49.006052Z"
    }
   },
   "outputs": [],
   "source": [
    "# Largo de la lista = Cantidad de elementos dentro de la lista.\n",
    "len(lista_2)"
   ]
  },
  {
   "cell_type": "markdown",
   "id": "orange-operation",
   "metadata": {},
   "source": [
    "#### Operaciones con listas"
   ]
  },
  {
   "cell_type": "markdown",
   "id": "cleared-mattress",
   "metadata": {},
   "source": [
    "##### Indexado: Cómo acceder a ciertos elementos de la lista\n",
    "\n",
    "\n",
    "Cada elemento de una lista va asociado a un indice, el cual identifica la posición del elemnto dentro de la lista.\n",
    "```python\n",
    "lista   =  ['Uvas 🍇', 'Melón 🍈', 'Sandía 🍉', 'Damasco 🍊', 'Limón 🍋']\n",
    "indices -> [  0            1             2             3            4  ] \n",
    "# Ojo que parten desde el 0!!\n",
    "```\n",
    "\n",
    "Podemos acceder a cierto elemento de la lista  usando la sintaxis \n",
    "\n",
    "```python\n",
    "lista[indice]\n",
    "```\n",
    "\n"
   ]
  },
  {
   "cell_type": "code",
   "execution_count": null,
   "id": "6b0ef001-0d3c-4489-825f-b4683abd90d8",
   "metadata": {
    "ExecuteTime": {
     "end_time": "2021-03-22T19:59:05.476354Z",
     "start_time": "2021-03-22T19:59:05.461354Z"
    }
   },
   "outputs": [],
   "source": [
    "lista = [\n",
    "    'Uvas 🍇', \n",
    "    'Melón 🍈', \n",
    "    'Sandía 🍉', \n",
    "    'Damasco 🍊', \n",
    "    'Limón 🍋',\n",
    "]\n",
    "\n",
    "# len(lista) nos permite ver el número de elementos que contiene la lista\n",
    "\n",
    "len(lista)"
   ]
  },
  {
   "cell_type": "code",
   "execution_count": null,
   "id": "premium-contribution",
   "metadata": {},
   "outputs": [],
   "source": [
    "lista[0]"
   ]
  },
  {
   "cell_type": "code",
   "execution_count": null,
   "id": "younger-harbor",
   "metadata": {
    "ExecuteTime": {
     "end_time": "2021-03-22T19:59:13.168055Z",
     "start_time": "2021-03-22T19:59:13.158028Z"
    }
   },
   "outputs": [],
   "source": [
    "lista[1]"
   ]
  },
  {
   "cell_type": "markdown",
   "id": "a97d1d41-3d68-4f31-b9e5-5807015c6ab3",
   "metadata": {},
   "source": [
    "El indexado negativo nos permite partir desde el último elemento hasta el primero\n"
   ]
  },
  {
   "cell_type": "code",
   "execution_count": null,
   "id": "beautiful-prayer",
   "metadata": {
    "ExecuteTime": {
     "end_time": "2021-03-22T19:59:30.685686Z",
     "start_time": "2021-03-22T19:59:30.673688Z"
    }
   },
   "outputs": [],
   "source": [
    "lista[-1]"
   ]
  },
  {
   "cell_type": "markdown",
   "id": "8c43cf2a-8e1c-4ce1-ab18-ff87641f4b02",
   "metadata": {
    "jp-MarkdownHeadingCollapsed": true,
    "tags": []
   },
   "source": [
    "Indices parten de cero. El largo de la lista parte contando desde 1, ya que existe por lo menos un elemento en la lista. Entonces, para sacar el elemento i, tenemos que restale 1."
   ]
  },
  {
   "cell_type": "code",
   "execution_count": null,
   "id": "competitive-valuation",
   "metadata": {
    "ExecuteTime": {
     "end_time": "2021-03-22T20:01:32.006964Z",
     "start_time": "2021-03-22T20:01:31.991966Z"
    }
   },
   "outputs": [],
   "source": [
    "# El código anterior es equivalente a algo similar a esto:\n",
    "lista[len(lista) - 1]"
   ]
  },
  {
   "cell_type": "code",
   "execution_count": null,
   "id": "determined-olympus",
   "metadata": {
    "ExecuteTime": {
     "end_time": "2021-03-22T20:01:41.166890Z",
     "start_time": "2021-03-22T20:01:41.153886Z"
    }
   },
   "outputs": [],
   "source": [
    "lista[-1]"
   ]
  },
  {
   "cell_type": "markdown",
   "id": "widespread-serbia",
   "metadata": {},
   "source": [
    "Podemos mutar un valor de una lista usando \n",
    "\n",
    "```python\n",
    "lista[indice] = nuevo_valor\n",
    "```"
   ]
  },
  {
   "cell_type": "code",
   "execution_count": null,
   "id": "defined-allergy",
   "metadata": {},
   "outputs": [],
   "source": [
    "lista"
   ]
  },
  {
   "cell_type": "code",
   "execution_count": null,
   "id": "threatened-channel",
   "metadata": {
    "scrolled": true
   },
   "outputs": [],
   "source": [
    "lista[0] = 'Manzana🍏' # modificamos el elemento en el índice 0 por '🍏 '\n",
    "lista"
   ]
  },
  {
   "cell_type": "markdown",
   "id": "tracked-quality",
   "metadata": {},
   "source": [
    "Nota: Podemos simular las matrices a través de listas de listas"
   ]
  },
  {
   "cell_type": "code",
   "execution_count": null,
   "id": "driven-vacuum",
   "metadata": {
    "ExecuteTime": {
     "end_time": "2021-03-22T20:02:01.976235Z",
     "start_time": "2021-03-22T20:02:01.959238Z"
    }
   },
   "outputs": [],
   "source": [
    "matriz = [\n",
    "    [1, 2, 3], \n",
    "    [4, 5, 6], \n",
    "    [7, 8, 9]\n",
    "]\n",
    "\n",
    "matriz[2]  # i = Tercera fila"
   ]
  },
  {
   "cell_type": "code",
   "execution_count": null,
   "id": "b4fd647a-ffd0-4361-b2fa-4302f46ca7d0",
   "metadata": {},
   "outputs": [],
   "source": [
    "matriz_ij[i][j]"
   ]
  },
  {
   "cell_type": "code",
   "execution_count": null,
   "id": "english-missile",
   "metadata": {
    "ExecuteTime": {
     "end_time": "2021-03-22T20:02:26.495024Z",
     "start_time": "2021-03-22T20:02:26.487026Z"
    },
    "scrolled": true
   },
   "outputs": [],
   "source": [
    "# Para acceder a un elemento de la matriz, podemos usar un doble indexado.\n",
    "\n",
    "matriz[2][0]  # i = Tercera fila, j = primera columna"
   ]
  },
  {
   "cell_type": "markdown",
   "id": "respected-principal",
   "metadata": {},
   "source": [
    "##### Slice: Seleccionar una sublista a partir ciertos indices\n",
    "\n",
    "Notar que esta operación retorna una nueva lista con referencias a los datos de la lista original (no los copia)."
   ]
  },
  {
   "cell_type": "code",
   "execution_count": null,
   "id": "different-uzbekistan",
   "metadata": {
    "ExecuteTime": {
     "end_time": "2021-03-22T20:02:49.919181Z",
     "start_time": "2021-03-22T20:02:49.901179Z"
    }
   },
   "outputs": [],
   "source": [
    "lista_3 = lista = [\n",
    "    'Uvas 🍇', \n",
    "    'Melón 🍈', \n",
    "    'Sandía 🍉', \n",
    "    'Damasco 🍊', \n",
    "    'Limón 🍋',\n",
    "]\n",
    "\n",
    "lista_3[1:4]"
   ]
  },
  {
   "cell_type": "markdown",
   "id": "mighty-first",
   "metadata": {},
   "source": [
    "##### `.append`: Agrega un elemento al final de la lista.\n",
    "\n",
    "Esta operación muta la lista original"
   ]
  },
  {
   "cell_type": "code",
   "execution_count": null,
   "id": "banner-cowboy",
   "metadata": {
    "ExecuteTime": {
     "end_time": "2021-03-22T20:06:11.031940Z",
     "start_time": "2021-03-22T20:06:11.021910Z"
    }
   },
   "outputs": [],
   "source": [
    "lista = [\n",
    "    'Uvas 🍇', \n",
    "    'Melón 🍈', \n",
    "    'Sandía 🍉', \n",
    "    'Damasco 🍊', \n",
    "    'Limón 🍋',\n",
    "]\n",
    "\n",
    "lista.append('Manzana 🍎')\n",
    "lista"
   ]
  },
  {
   "cell_type": "markdown",
   "id": "functioning-header",
   "metadata": {
    "ExecuteTime": {
     "end_time": "2021-03-22T17:22:38.838554Z",
     "start_time": "2021-03-22T17:22:38.823544Z"
    }
   },
   "source": [
    "> **Pregunta ❓**: ¿Qué pasa si ejecutamos la misma expresión nuevamente?"
   ]
  },
  {
   "cell_type": "code",
   "execution_count": null,
   "id": "amino-commodity",
   "metadata": {
    "ExecuteTime": {
     "end_time": "2021-03-22T20:06:24.586145Z",
     "start_time": "2021-03-22T20:06:24.575142Z"
    }
   },
   "outputs": [],
   "source": [
    "lista.append('Manzana 🍎')\n",
    "lista"
   ]
  },
  {
   "cell_type": "code",
   "execution_count": null,
   "id": "1fd560f9-dfe4-4378-ab26-64fa2f1e1297",
   "metadata": {},
   "outputs": [],
   "source": [
    "lista"
   ]
  },
  {
   "cell_type": "markdown",
   "id": "proof-vaccine",
   "metadata": {
    "ExecuteTime": {
     "end_time": "2021-03-22T17:25:28.562746Z",
     "start_time": "2021-03-22T17:25:28.552750Z"
    }
   },
   "source": [
    "#####  Concatenar\n",
    "\n",
    "También se pueden concatenar listas. Estas rentornan una **nueva lista** en vez de mutar la de origen."
   ]
  },
  {
   "cell_type": "code",
   "execution_count": null,
   "id": "copyrighted-schema",
   "metadata": {
    "ExecuteTime": {
     "end_time": "2021-03-23T13:48:20.670219Z",
     "start_time": "2021-03-23T13:48:20.651210Z"
    }
   },
   "outputs": [],
   "source": [
    "# Limpiamos a lista anterior a la original que teníamos.\n",
    "lista = ['Uvas 🍇', 'Melón 🍈', 'Sandía 🍉', 'Damasco 🍊', 'Limón 🍋']\n",
    "lista_2 = ['Manzana 🍎', 'Plátano 🍌', 'Piña 🍍']\n",
    "\n",
    "# Concatenamos\n",
    "nueva_lista = lista + lista_2\n",
    "nueva_lista"
   ]
  },
  {
   "cell_type": "markdown",
   "id": "identified-terrorist",
   "metadata": {},
   "source": [
    "##### `.pop`: Quita de la lista el elemento indicado por cierto índice\n",
    "\n",
    "Observación: Si no encuentra un elemento en el índice indicado, levanta una excepción y corta la ejecución del programa."
   ]
  },
  {
   "cell_type": "code",
   "execution_count": null,
   "id": "threaded-future",
   "metadata": {
    "ExecuteTime": {
     "end_time": "2021-03-23T13:48:26.935898Z",
     "start_time": "2021-03-23T13:48:26.915897Z"
    }
   },
   "outputs": [],
   "source": [
    "lista.pop(1)"
   ]
  },
  {
   "cell_type": "code",
   "execution_count": null,
   "id": "monetary-theater",
   "metadata": {
    "ExecuteTime": {
     "end_time": "2021-03-23T13:48:27.708582Z",
     "start_time": "2021-03-23T13:48:27.698582Z"
    }
   },
   "outputs": [],
   "source": [
    "lista.pop(100)"
   ]
  },
  {
   "cell_type": "markdown",
   "id": "behavioral-master",
   "metadata": {
    "ExecuteTime": {
     "end_time": "2021-03-22T18:06:52.967997Z",
     "start_time": "2021-03-22T18:06:52.953004Z"
    }
   },
   "source": [
    "##### `.sort`: Ordena \n",
    "\n",
    "> **Nota 🗒️**: Ordena según como se defina `>=` para el tipo de dato."
   ]
  },
  {
   "cell_type": "code",
   "execution_count": null,
   "id": "persistent-stretch",
   "metadata": {
    "ExecuteTime": {
     "end_time": "2021-03-23T13:48:32.069063Z",
     "start_time": "2021-03-23T13:48:32.052063Z"
    }
   },
   "outputs": [],
   "source": [
    "# Orden numérico.\n",
    "lista_desordenada = [10, 3, 2, -8, 1, 0, 0, -3]\n",
    "lista_desordenada.sort()\n",
    "lista_desordenada"
   ]
  },
  {
   "cell_type": "markdown",
   "id": "cf31b50d-fa59-4b87-979f-ccd6924a2f97",
   "metadata": {},
   "source": [
    "Para ordenar strings también se hace uso del orden lexicográfico"
   ]
  },
  {
   "cell_type": "code",
   "execution_count": null,
   "id": "aggressive-production",
   "metadata": {
    "ExecuteTime": {
     "end_time": "2021-03-23T13:48:32.845205Z",
     "start_time": "2021-03-23T13:48:32.829250Z"
    }
   },
   "outputs": [],
   "source": [
    "# Usando listas con strings se hace con orden lexicográfico.\n",
    "lista_desordenada_2 = ['vienesa 🍖', 'pan 🥖', 'tomate 🍅', 'palta 🥑', 'mayo 🍶', 'ketchup 🍶']\n",
    "lista_desordenada_2.sort()\n",
    "lista_desordenada_2"
   ]
  },
  {
   "cell_type": "markdown",
   "id": "metropolitan-nashville",
   "metadata": {},
   "source": [
    "##### `.index`: Busca el elemento entregado en la lista y retorna su índice"
   ]
  },
  {
   "cell_type": "code",
   "execution_count": null,
   "id": "modular-maximum",
   "metadata": {
    "ExecuteTime": {
     "end_time": "2021-03-23T13:49:32.322633Z",
     "start_time": "2021-03-23T13:49:32.302594Z"
    }
   },
   "outputs": [],
   "source": [
    "# Recordamos que había en lista\n",
    "lista = ['Uvas 🍇', 'Melón 🍈', 'Sandía 🍉', 'Damasco 🍊', 'Limón 🍋']\n",
    "lista"
   ]
  },
  {
   "cell_type": "code",
   "execution_count": null,
   "id": "allied-coral",
   "metadata": {
    "ExecuteTime": {
     "end_time": "2021-03-23T13:49:33.304645Z",
     "start_time": "2021-03-23T13:49:33.291629Z"
    },
    "scrolled": true
   },
   "outputs": [],
   "source": [
    "lista.index('Sandía 🍉')"
   ]
  },
  {
   "cell_type": "markdown",
   "id": "66515f5b-608d-4185-a773-efc659a19463",
   "metadata": {},
   "source": [
    "> **Pregunta ❓**: Qué pasa si no existe el elemento?"
   ]
  },
  {
   "cell_type": "code",
   "execution_count": null,
   "id": "amended-congress",
   "metadata": {
    "ExecuteTime": {
     "end_time": "2021-03-23T13:49:36.762155Z",
     "start_time": "2021-03-23T13:49:36.746124Z"
    }
   },
   "outputs": [],
   "source": [
    "lista.index('Arándanos 🫐')"
   ]
  },
  {
   "cell_type": "markdown",
   "id": "graduate-alignment",
   "metadata": {},
   "source": [
    "Pueden encontrar una completa guía aquí de todos los métodos (funciones) que pueden ejecutar con una lista:\n",
    "    \n",
    "https://www.programiz.com/python-programming/list"
   ]
  },
  {
   "cell_type": "markdown",
   "id": "advanced-administrator",
   "metadata": {
    "ExecuteTime": {
     "end_time": "2021-03-22T18:01:08.375069Z",
     "start_time": "2021-03-22T18:01:08.362071Z"
    },
    "tags": []
   },
   "source": [
    "### Paréntesis: Strings.\n",
    "\n",
    "Los strings son un tipo especial de lista que no es mutable, pero que se puede indexar."
   ]
  },
  {
   "cell_type": "code",
   "execution_count": null,
   "id": "c51d0fa6-9587-4124-977e-cbaa37af6bb9",
   "metadata": {},
   "outputs": [],
   "source": [
    "['j', 'u', 'a', 'n']"
   ]
  },
  {
   "cell_type": "code",
   "execution_count": null,
   "id": "derived-identifier",
   "metadata": {
    "ExecuteTime": {
     "end_time": "2021-03-22T20:03:15.091952Z",
     "start_time": "2021-03-22T20:03:15.076952Z"
    }
   },
   "outputs": [],
   "source": [
    "nombre = 'Juan'\n",
    "nombre[2:4]"
   ]
  },
  {
   "cell_type": "markdown",
   "id": "final-nicaragua",
   "metadata": {},
   "source": [
    "También se pueden convertir a string"
   ]
  },
  {
   "cell_type": "code",
   "execution_count": null,
   "id": "olive-meeting",
   "metadata": {
    "ExecuteTime": {
     "end_time": "2021-03-22T20:03:39.934091Z",
     "start_time": "2021-03-22T20:03:39.916065Z"
    }
   },
   "outputs": [],
   "source": [
    "list(nombre)"
   ]
  },
  {
   "cell_type": "code",
   "execution_count": null,
   "id": "immune-endorsement",
   "metadata": {
    "ExecuteTime": {
     "end_time": "2021-03-22T20:03:54.221041Z",
     "start_time": "2021-03-22T20:03:54.207054Z"
    }
   },
   "outputs": [],
   "source": [
    "str(['J', 'u', 'a', 'n'])"
   ]
  },
  {
   "cell_type": "code",
   "execution_count": null,
   "id": "d46b8d7b-185e-46c0-8a40-557815d7790e",
   "metadata": {},
   "outputs": [],
   "source": [
    "''.join(['J', 'u', 'a', 'n'])"
   ]
  },
  {
   "cell_type": "markdown",
   "id": "organic-strap",
   "metadata": {},
   "source": [
    "Y podemos separarlos/juntarlos según algun carácter"
   ]
  },
  {
   "cell_type": "code",
   "execution_count": null,
   "id": "australian-summer",
   "metadata": {
    "ExecuteTime": {
     "end_time": "2021-03-22T20:04:50.394800Z",
     "start_time": "2021-03-22T20:04:50.386782Z"
    }
   },
   "outputs": [],
   "source": [
    "'Juan come verduras'.split(' ')"
   ]
  },
  {
   "cell_type": "code",
   "execution_count": null,
   "id": "sonic-meaning",
   "metadata": {
    "ExecuteTime": {
     "end_time": "2021-03-22T20:05:39.326724Z",
     "start_time": "2021-03-22T20:05:39.315728Z"
    }
   },
   "outputs": [],
   "source": [
    "# El string que pongan antes del join será el que unirá los strings del arreglo. En este caso, se uniran con '-'\n",
    "'-'.join(['Juan', 'come', 'verduras'])"
   ]
  },
  {
   "cell_type": "markdown",
   "id": "7bc8b0bb-5f0e-44e3-933f-c5e40dab0ead",
   "metadata": {},
   "source": [
    "Como también concatenar"
   ]
  },
  {
   "cell_type": "code",
   "execution_count": null,
   "id": "aa93bf21-0f05-47cf-9c3c-64a8a91543ee",
   "metadata": {},
   "outputs": [],
   "source": [
    "texto1 = \"Juan come verduras\"\n",
    "texto2 = \" y frutas.\"\n",
    "\n",
    "texto1 + texto2"
   ]
  },
  {
   "cell_type": "markdown",
   "id": "experimental-store",
   "metadata": {
    "ExecuteTime": {
     "end_time": "2021-03-22T18:13:21.155383Z",
     "start_time": "2021-03-22T18:13:21.138410Z"
    }
   },
   "source": [
    "### Tuplas\n",
    "\n",
    "Las tuplas siguen el mismo principio de las listas en cuanto a almacenar datos, no obstante, a diferencia de las listas, las tuplas son **inmutables**. Una ventaja sobre las listas, es que **son más eficientes computacionalmente y son más ligeras**. "
   ]
  },
  {
   "cell_type": "code",
   "execution_count": null,
   "id": "incorporated-coffee",
   "metadata": {
    "ExecuteTime": {
     "end_time": "2021-03-23T13:49:58.837087Z",
     "start_time": "2021-03-23T13:49:58.819087Z"
    }
   },
   "outputs": [],
   "source": [
    "# Se utilizan 'parentesis' para crearlas\n",
    "\n",
    "tupla = (1, 2, 3)\n",
    "tupla"
   ]
  },
  {
   "cell_type": "markdown",
   "id": "textile-table",
   "metadata": {},
   "source": [
    "Al igual que las listas, sus elementos pueden ser accedidos a través del indexado (que parte desde 0!)."
   ]
  },
  {
   "cell_type": "code",
   "execution_count": null,
   "id": "unlimited-candidate",
   "metadata": {
    "ExecuteTime": {
     "end_time": "2021-03-23T13:50:00.583597Z",
     "start_time": "2021-03-23T13:50:00.564640Z"
    }
   },
   "outputs": [],
   "source": [
    "tupla[0]"
   ]
  },
  {
   "cell_type": "code",
   "execution_count": null,
   "id": "decent-partition",
   "metadata": {
    "ExecuteTime": {
     "end_time": "2021-03-23T13:50:01.245933Z",
     "start_time": "2021-03-23T13:50:01.227906Z"
    }
   },
   "outputs": [],
   "source": [
    "tupla[-1]"
   ]
  },
  {
   "cell_type": "code",
   "execution_count": null,
   "id": "standard-birmingham",
   "metadata": {
    "ExecuteTime": {
     "end_time": "2021-03-23T13:50:01.811887Z",
     "start_time": "2021-03-23T13:50:01.803886Z"
    }
   },
   "outputs": [],
   "source": [
    "tupla[0:2]"
   ]
  },
  {
   "cell_type": "markdown",
   "id": "medium-mining",
   "metadata": {},
   "source": [
    "> **Pregunta ❓**: ¿Qué sucede si intentamos cambiar un valor de una tupla?"
   ]
  },
  {
   "cell_type": "code",
   "execution_count": null,
   "id": "primary-doctrine",
   "metadata": {
    "ExecuteTime": {
     "end_time": "2021-03-22T20:10:48.920390Z",
     "start_time": "2021-03-22T20:10:48.909387Z"
    }
   },
   "outputs": [],
   "source": [
    "tupla[0] = 1"
   ]
  },
  {
   "cell_type": "markdown",
   "id": "1cf52fde-7625-410e-b072-e53ef6c0ac03",
   "metadata": {},
   "source": [
    "> **Pregunta ❓**: ¿Cómo podría agregar nuevos elementos a una tupla?"
   ]
  },
  {
   "cell_type": "code",
   "execution_count": null,
   "id": "03544ab5-eba6-4337-85fe-52ebecac9376",
   "metadata": {},
   "outputs": [],
   "source": [
    "nueva_tupla = (1, 2, 3, 4)\n",
    "nueva_tupla"
   ]
  },
  {
   "cell_type": "markdown",
   "id": "verbal-pocket",
   "metadata": {},
   "source": [
    "#### Unpacking\n",
    "\n",
    "Tuplas y listas comparten el acceso a sus elementos por medio de la sintaxis ```[*]```. Tanto tuplas como las listas se pueden \"desempacar\", el termino *pythonico* es **unpacking**. Ejemplo:"
   ]
  },
  {
   "cell_type": "code",
   "execution_count": null,
   "id": "pregnant-stamp",
   "metadata": {
    "ExecuteTime": {
     "end_time": "2021-03-23T13:50:04.356386Z",
     "start_time": "2021-03-23T13:50:04.348385Z"
    }
   },
   "outputs": [],
   "source": [
    "# Unpacking de tuplas\n",
    "a, b, c, d = ('🚗', '🚌', '🚒', '🚕')"
   ]
  },
  {
   "cell_type": "code",
   "execution_count": null,
   "id": "anticipated-seeking",
   "metadata": {
    "ExecuteTime": {
     "end_time": "2021-03-23T13:50:04.949324Z",
     "start_time": "2021-03-23T13:50:04.931285Z"
    }
   },
   "outputs": [],
   "source": [
    "a"
   ]
  },
  {
   "cell_type": "code",
   "execution_count": null,
   "id": "charitable-hotel",
   "metadata": {
    "ExecuteTime": {
     "end_time": "2021-03-23T13:50:05.473217Z",
     "start_time": "2021-03-23T13:50:05.458188Z"
    },
    "scrolled": true
   },
   "outputs": [],
   "source": [
    "b"
   ]
  },
  {
   "cell_type": "code",
   "execution_count": null,
   "id": "397d107c-382a-43a7-be7c-bce1f9ef0416",
   "metadata": {},
   "outputs": [],
   "source": [
    "c"
   ]
  },
  {
   "cell_type": "code",
   "execution_count": null,
   "id": "98cdfbc7-4273-44ed-95c7-16b3e4831530",
   "metadata": {},
   "outputs": [],
   "source": [
    "d"
   ]
  },
  {
   "cell_type": "markdown",
   "id": "electric-hands",
   "metadata": {},
   "source": [
    "### Conjuntos\n",
    "\n",
    "Los conjuntos o **sets** son contenedores mutables, no ordenadas de objetos. Están diseñados para comportarse como sus contrapartes matemáticas. Un `frozenset` posee las mismas propiedades, solo que es inmutable."
   ]
  },
  {
   "cell_type": "code",
   "execution_count": null,
   "id": "closed-austria",
   "metadata": {
    "ExecuteTime": {
     "end_time": "2021-03-22T20:12:05.870376Z",
     "start_time": "2021-03-22T20:12:05.858361Z"
    }
   },
   "outputs": [],
   "source": [
    "comida_chatarra = {\n",
    "    'Pizza 🍕',\n",
    "    'Hamburguesa🍔', \n",
    "    'Papas fritas🍟', \n",
    "    'Completo 🌭', \n",
    "    'Huevo Frito 🍳', \n",
    "    'Sandwich 🥪'\n",
    "}\n",
    "\n",
    "comida_chatarra\n"
   ]
  },
  {
   "cell_type": "code",
   "execution_count": null,
   "id": "common-laser",
   "metadata": {
    "ExecuteTime": {
     "end_time": "2021-03-23T13:50:08.385114Z",
     "start_time": "2021-03-23T13:50:08.371104Z"
    },
    "scrolled": true
   },
   "outputs": [],
   "source": [
    "lista_desayuno = [\n",
    "    'Sandwich 🥪', \n",
    "    'Pan 🥖', \n",
    "    'Manzana 🍎', \n",
    "    'Huevo Frito 🍳', \n",
    "    'Sandwich 🥪', \n",
    "    'Media luna 🥐',\n",
    "    'Sandwich 🥪',\n",
    "] # Noten que repetimos varias veces 'Sandwich 🥪'"
   ]
  },
  {
   "cell_type": "code",
   "execution_count": null,
   "id": "12935885-ba21-4e20-b423-7cc8f1923e9c",
   "metadata": {},
   "outputs": [],
   "source": [
    "# usando set podemos convertir una lista a conjunto\n",
    "desayuno = set(lista_desayuno) \n",
    "desayuno"
   ]
  },
  {
   "cell_type": "markdown",
   "id": "244bec6d-2cd2-42ca-9a49-6ac38ad0760c",
   "metadata": {},
   "source": [
    "#### Operaciones de conjuntos\n"
   ]
  },
  {
   "cell_type": "markdown",
   "id": "iraqi-luther",
   "metadata": {},
   "source": [
    "##### Unión\n",
    "\n",
    "Dados dos conjuntos $A$ y $B$, su unión $A \\cup B$ se puede ver representada por:\n",
    "\n",
    "<center>\n",
    "<img src=\"https://raw.githubusercontent.com/MDS7202/MDS7202/main/recursos/2023-01/03-Intro_a_la_programacion_en_python/union.png\" alt=\"Unión de conjuntos A y B\" width=300/>\n",
    "</center>\n",
    "\n",
    "<center>\n",
    "    Fuente: <a href=\"https://en.wikipedia.org/wiki/Union_(set_theory)\">Union (teoría de conjuntos) en Wikipedia</a>\n",
    "</center>"
   ]
  },
  {
   "cell_type": "code",
   "execution_count": null,
   "id": "precise-investigation",
   "metadata": {
    "ExecuteTime": {
     "end_time": "2021-03-22T20:12:38.241216Z",
     "start_time": "2021-03-22T20:12:38.229249Z"
    }
   },
   "outputs": [],
   "source": [
    "comida_chatarra.union(desayuno)"
   ]
  },
  {
   "cell_type": "markdown",
   "id": "historical-philip",
   "metadata": {},
   "source": [
    "##### Intersección\n",
    "\n",
    "\n",
    "Dados dos conjuntos $A$ y $B$, su intersección $A \\cap B$ se puede ver representada por:\n",
    "\n",
    "<center>\n",
    "<img src=\"https://raw.githubusercontent.com/MDS7202/MDS7202/main/recursos/2023-01/03-Intro_a_la_programacion_en_python/intersection.jpg\" alt=\"Intersección de conjuntos A y B\" width=300/>\n",
    "</center>\n",
    "\n",
    "<center>\n",
    "Fuente: <a href=\"https://en.wikipedia.org/wiki/Intersection_(set_theory)\">Interseccion en Wikipedia</a>\n",
    "</center>\n",
    "\n",
    "\n"
   ]
  },
  {
   "cell_type": "code",
   "execution_count": null,
   "id": "dangerous-tolerance",
   "metadata": {
    "ExecuteTime": {
     "end_time": "2021-03-22T19:12:29.604218Z",
     "start_time": "2021-03-22T19:12:29.590219Z"
    }
   },
   "outputs": [],
   "source": [
    "comida_chatarra.intersection(desayuno)"
   ]
  },
  {
   "cell_type": "markdown",
   "id": "caring-dallas",
   "metadata": {},
   "source": [
    "##### Diferencia\n",
    "\n",
    "\n",
    "Dados dos conjuntos $A$ y $B$, la diferencia entre $A - B$ se puede ver representada por:\n",
    "\n",
    "<center>\n",
    "<img src=\"https://raw.githubusercontent.com/MDS7202/MDS7202/main/recursos/2023-01/03-Intro_a_la_programacion_en_python/SetDifferenceA.svg.png\" alt=\"Diferencia A y B\" width=300/>\n",
    "</center>\n",
    "\n",
    "Y la diferencia entre $B - A$ se puede ver representada por:\n",
    "\n",
    "<center>\n",
    "<img src=\"https://raw.githubusercontent.com/MDS7202/MDS7202/main/recursos/2023-01/03-Intro_a_la_programacion_en_python/SetDifferenceB.svg.png\" alt=\"Diferencia B y A\" width=300/>\n",
    "</center>\n",
    "\n",
    "\n",
    "Recuerden que esta operación no es simétrica!"
   ]
  },
  {
   "cell_type": "code",
   "execution_count": null,
   "id": "complex-recycling",
   "metadata": {
    "ExecuteTime": {
     "end_time": "2021-03-22T19:12:29.635217Z",
     "start_time": "2021-03-22T19:12:29.623219Z"
    }
   },
   "outputs": [],
   "source": [
    "comida_chatarra.difference(desayuno)"
   ]
  },
  {
   "cell_type": "code",
   "execution_count": null,
   "id": "herbal-essex",
   "metadata": {
    "ExecuteTime": {
     "end_time": "2021-03-22T19:12:29.665218Z",
     "start_time": "2021-03-22T19:12:29.652220Z"
    }
   },
   "outputs": [],
   "source": [
    "desayuno.difference(comida_rapida)"
   ]
  },
  {
   "cell_type": "markdown",
   "id": "brilliant-hungarian",
   "metadata": {},
   "source": [
    "### Diccionarios\n",
    "\n",
    "Un diccionario corresponde a la implementación pythonica de una aplicación del tipo \"llave - valor\".\n",
    "Permite crear estructuras que nos permitan representar de una forma más natural los datos.\n",
    "\n",
    "**Ejemplo**:"
   ]
  },
  {
   "cell_type": "code",
   "execution_count": null,
   "id": "deadly-lloyd",
   "metadata": {
    "ExecuteTime": {
     "end_time": "2021-03-23T13:50:12.556210Z",
     "start_time": "2021-03-23T13:50:12.547228Z"
    }
   },
   "outputs": [],
   "source": [
    "persona = {\n",
    "    'nombre': 'Juan', \n",
    "    'edad': 29, \n",
    "    'peso': 70.3,\n",
    "    'hobby': 'ilusionismo',\n",
    "}\n",
    "persona"
   ]
  },
  {
   "cell_type": "markdown",
   "id": "centered-cursor",
   "metadata": {},
   "source": [
    "Los datos presentes en un diccionario pueden ser accedidos mediante la sintaxis ```diccionario[llave]```."
   ]
  },
  {
   "cell_type": "code",
   "execution_count": null,
   "id": "tropical-trinity",
   "metadata": {
    "ExecuteTime": {
     "end_time": "2021-03-23T13:50:14.083270Z",
     "start_time": "2021-03-23T13:50:14.064275Z"
    }
   },
   "outputs": [],
   "source": [
    "persona['nombre']"
   ]
  },
  {
   "cell_type": "markdown",
   "id": "successful-buffer",
   "metadata": {},
   "source": [
    "> **Pregunta ❓**: ¿Qué sucede si intentamos acceder a una llave que no existe en el diccionario?"
   ]
  },
  {
   "cell_type": "code",
   "execution_count": null,
   "id": "creative-institute",
   "metadata": {
    "ExecuteTime": {
     "end_time": "2021-03-23T13:50:15.397944Z",
     "start_time": "2021-03-23T13:50:15.386966Z"
    }
   },
   "outputs": [],
   "source": [
    "persona['apellido']"
   ]
  },
  {
   "cell_type": "markdown",
   "id": "architectural-thesaurus",
   "metadata": {},
   "source": [
    "Podemos verificar si una llave existe en el diccionario usando el operador `in`"
   ]
  },
  {
   "cell_type": "code",
   "execution_count": null,
   "id": "amino-mortgage",
   "metadata": {
    "ExecuteTime": {
     "end_time": "2021-03-23T13:50:16.641522Z",
     "start_time": "2021-03-23T13:50:16.634521Z"
    }
   },
   "outputs": [],
   "source": [
    "'apellido' in persona"
   ]
  },
  {
   "cell_type": "code",
   "execution_count": null,
   "id": "d2ddb245-d867-4a8f-b737-0803d3a0577f",
   "metadata": {},
   "outputs": [],
   "source": [
    "if 'apellido' in persona:\n",
    "    print(persona['apellido'])\n",
    "else:\n",
    "    print('apellido no existe en el diccionario')"
   ]
  },
  {
   "cell_type": "markdown",
   "id": "015bd33a-2d3b-4939-ba66-0c622df899c4",
   "metadata": {},
   "source": [
    "#### Agregar llave al diccionario"
   ]
  },
  {
   "cell_type": "code",
   "execution_count": null,
   "id": "89d12392-0b8c-4514-830c-3c2cd9484d08",
   "metadata": {},
   "outputs": [],
   "source": [
    "persona['apellido'] = 'Pérez'"
   ]
  },
  {
   "cell_type": "code",
   "execution_count": null,
   "id": "8e71eddd-9a26-4c74-8ccb-cc072e0d2835",
   "metadata": {},
   "outputs": [],
   "source": [
    "persona"
   ]
  },
  {
   "cell_type": "markdown",
   "id": "laden-burlington",
   "metadata": {},
   "source": [
    "#### Mutar Diccionario\n",
    "\n",
    "Podemos modifcar un valores presente en el diccionario similar a como lo hacíamos con listas, pero cambiando el índice por la llave:"
   ]
  },
  {
   "cell_type": "code",
   "execution_count": null,
   "id": "future-asthma",
   "metadata": {
    "ExecuteTime": {
     "end_time": "2021-03-22T20:16:08.234933Z",
     "start_time": "2021-03-22T20:16:08.211924Z"
    }
   },
   "outputs": [],
   "source": [
    "persona['peso'] = 68.01\n",
    "persona"
   ]
  },
  {
   "cell_type": "markdown",
   "id": "alert-water",
   "metadata": {},
   "source": [
    "Se pueden eliminar elementos del diccionario usando el operador `del`"
   ]
  },
  {
   "cell_type": "code",
   "execution_count": null,
   "id": "blank-wednesday",
   "metadata": {
    "ExecuteTime": {
     "end_time": "2021-03-22T20:16:58.312264Z",
     "start_time": "2021-03-22T20:16:58.302264Z"
    }
   },
   "outputs": [],
   "source": [
    "del persona['peso']\n",
    "persona"
   ]
  },
  {
   "cell_type": "markdown",
   "id": "arctic-antarctica",
   "metadata": {},
   "source": [
    "#### Acceder a *colecciones* con los elementos de los diccionarios"
   ]
  },
  {
   "cell_type": "markdown",
   "id": "massive-revelation",
   "metadata": {},
   "source": [
    "Para obtener las llaves de un diccionario se puede hacer uso del método ```.keys()```. \n"
   ]
  },
  {
   "cell_type": "code",
   "execution_count": null,
   "id": "extensive-royal",
   "metadata": {
    "ExecuteTime": {
     "end_time": "2021-03-22T20:16:50.035215Z",
     "start_time": "2021-03-22T20:16:50.029208Z"
    }
   },
   "outputs": [],
   "source": [
    "# Redefinimos el diccionario al original para el siguiente ejemplo\n",
    "persona = {\n",
    "    'nombre': 'Juan', \n",
    "    'edad': 29, \n",
    "    'peso': 70.3\n",
    "}"
   ]
  },
  {
   "cell_type": "code",
   "execution_count": null,
   "id": "sophisticated-praise",
   "metadata": {
    "ExecuteTime": {
     "end_time": "2021-03-22T20:16:24.765298Z",
     "start_time": "2021-03-22T20:16:24.753298Z"
    }
   },
   "outputs": [],
   "source": [
    "persona.keys()  # Ojo que no es una lista!"
   ]
  },
  {
   "cell_type": "markdown",
   "id": "opponent-palmer",
   "metadata": {},
   "source": [
    "Para obtener los elementos podemos usar el método `.values()`"
   ]
  },
  {
   "cell_type": "code",
   "execution_count": null,
   "id": "three-insider",
   "metadata": {
    "ExecuteTime": {
     "end_time": "2021-03-22T20:16:40.046254Z",
     "start_time": "2021-03-22T20:16:40.032232Z"
    }
   },
   "outputs": [],
   "source": [
    "persona.values()"
   ]
  },
  {
   "cell_type": "markdown",
   "id": "controlled-theology",
   "metadata": {},
   "source": [
    "Y se pueden obtener tuplas indicando todas las `(llaves, valor)` del diccionario"
   ]
  },
  {
   "cell_type": "code",
   "execution_count": null,
   "id": "about-toolbox",
   "metadata": {},
   "outputs": [],
   "source": [
    "persona.items()"
   ]
  },
  {
   "cell_type": "markdown",
   "id": "f3e3ab37-2d3f-4d93-a1e6-c30883b370a7",
   "metadata": {},
   "source": [
    "---"
   ]
  },
  {
   "cell_type": "markdown",
   "id": "magnetic-gambling",
   "metadata": {},
   "source": [
    "\n",
    "## Parte 6: Iteraciones 🔁"
   ]
  },
  {
   "cell_type": "markdown",
   "id": "emerging-storm",
   "metadata": {},
   "source": [
    "Las iteraciones permiten recorrer y ejecutar alguna acción sobre cada elemento de una colección. Existen varias formas de lograr esto:\n",
    "\n",
    "\n",
    "### Ciclo While - Propuesto estudio Personal\n",
    "\n",
    "\n",
    "**While:** un ciclo ```while``` permite realizar una ```acción``` en función del valor de verdad de una ```condicion```, su estructura es:\n",
    "\n",
    "```\n",
    "while condicion: # Condición booleana\n",
    "    acción # Bloque indentado\n",
    "```"
   ]
  },
  {
   "cell_type": "code",
   "execution_count": null,
   "id": "wanted-maker",
   "metadata": {
    "ExecuteTime": {
     "end_time": "2021-03-23T13:50:19.897248Z",
     "start_time": "2021-03-23T13:50:19.875247Z"
    }
   },
   "outputs": [],
   "source": [
    "contador = 0\n",
    "lista = [10, 20, 30, 40, 50, 60, 70, 80, 90, 100]\n",
    "\n",
    "while contador < len(lista):\n",
    "    print(\"Contador: \", contador, \" | \", \"Valor: \", lista[contador])\n",
    "    contador += 1"
   ]
  },
  {
   "cell_type": "markdown",
   "id": "e2ab756c-eb20-4db5-95ce-f4c90090dbe9",
   "metadata": {},
   "source": [
    "> **Nota 🗒️**: Notar que si no se rompe el ciclo while con alguna condición este puede iterar infinitamente"
   ]
  },
  {
   "cell_type": "code",
   "execution_count": null,
   "id": "9b8c6f74-82fc-4db7-a7d4-a9b056318070",
   "metadata": {},
   "outputs": [],
   "source": [
    "# no ejecutar esto\n",
    "# while True:\n",
    "#    ..."
   ]
  },
  {
   "cell_type": "markdown",
   "id": "gothic-concern",
   "metadata": {},
   "source": [
    "### Ciclo For\n",
    "\n",
    "Un ciclo ```for``` permite repetir realizar una```acción``` en función de los elementos de una *colección*. Su estructura corresponde a:\n",
    "\n",
    "```python\n",
    "for elemento in coleccion: \n",
    "    acción_sobre_el_elemento\n",
    "\n",
    "```\n",
    "\n",
    "en este caso ```elemento``` corresponde a una variable que toma, secuencialmente, los valores del iterator. \n",
    "\n",
    "###"
   ]
  },
  {
   "cell_type": "markdown",
   "id": "f1e4147f-847d-4a93-abc2-d8a905969c46",
   "metadata": {},
   "source": [
    "#### Iteración sobre lista"
   ]
  },
  {
   "cell_type": "code",
   "execution_count": null,
   "id": "alleged-mercy",
   "metadata": {
    "ExecuteTime": {
     "end_time": "2021-03-23T13:50:21.833277Z",
     "start_time": "2021-03-23T13:50:21.818239Z"
    }
   },
   "outputs": [],
   "source": [
    "lista = [0, 1, 2, 3, 4, 5]\n"
   ]
  },
  {
   "cell_type": "code",
   "execution_count": null,
   "id": "smoking-secret",
   "metadata": {
    "ExecuteTime": {
     "end_time": "2021-03-23T13:50:22.476165Z",
     "start_time": "2021-03-23T13:50:22.459150Z"
    }
   },
   "outputs": [],
   "source": [
    "for elemento in lista:\n",
    "    print(elemento, '^ 2 =', elemento ** 2)"
   ]
  },
  {
   "cell_type": "markdown",
   "id": "8a3365d2-6d2a-46f6-91c6-3511dbd313e6",
   "metadata": {},
   "source": [
    "### Iteración sobre llaves del diccionario"
   ]
  },
  {
   "cell_type": "code",
   "execution_count": null,
   "id": "6f955e5d",
   "metadata": {},
   "outputs": [],
   "source": [
    "persona = {\n",
    "    'nombre': 'Juan', \n",
    "    'edad': 29, \n",
    "    'peso': 70.3,\n",
    "    'hobby': 'ilusionismo',\n",
    "}\n",
    "persona"
   ]
  },
  {
   "cell_type": "code",
   "execution_count": null,
   "id": "amateur-stewart",
   "metadata": {
    "ExecuteTime": {
     "end_time": "2021-03-22T20:21:39.879297Z",
     "start_time": "2021-03-22T20:21:39.859296Z"
    }
   },
   "outputs": [],
   "source": [
    "for llave in persona:\n",
    "    valor = persona[llave]\n",
    "    print(f'{llave.upper()} : {valor}')"
   ]
  },
  {
   "cell_type": "markdown",
   "id": "4e3d70ce-2008-4ae3-a600-1b49e2db90a0",
   "metadata": {},
   "source": [
    "#### Iteración sobre ítems del diccionario\n",
    "\n",
    "Recordemos que `d.items()` nos entregaba una estructura similar a una lista [(llave_1, valor_1), ...]\n",
    "Como cada elemento es una tupla, podemos desempacarla en llave, valor en el mismo ciclo."
   ]
  },
  {
   "cell_type": "code",
   "execution_count": null,
   "id": "f9528bc1-f2b5-4d24-887e-495127fe89fc",
   "metadata": {},
   "outputs": [],
   "source": [
    "persona.items()"
   ]
  },
  {
   "cell_type": "code",
   "execution_count": null,
   "id": "guilty-effects",
   "metadata": {
    "ExecuteTime": {
     "end_time": "2021-03-22T20:22:17.080653Z",
     "start_time": "2021-03-22T20:22:17.073658Z"
    }
   },
   "outputs": [],
   "source": [
    "for llave, valor in persona.items():\n",
    "    print(f'{llave.upper()} : {valor}')"
   ]
  },
  {
   "cell_type": "markdown",
   "id": "computational-norman",
   "metadata": {},
   "source": [
    "### Utilitarios para la iteración"
   ]
  },
  {
   "cell_type": "markdown",
   "id": "corporate-message",
   "metadata": {},
   "source": [
    "#### Enumerador\n",
    "\n",
    "Permite tener el índice del elemento al cual estamos accediendo. Para esto, usar la función `enumerate(lista)`"
   ]
  },
  {
   "cell_type": "code",
   "execution_count": null,
   "id": "d3a77bb8-cee6-42fa-8314-ef829050ceb3",
   "metadata": {},
   "outputs": [],
   "source": [
    "lista = [10, 11, 12, 13, 14, 15]\n",
    "\n",
    "list(enumerate(lista))"
   ]
  },
  {
   "cell_type": "code",
   "execution_count": null,
   "id": "elect-adelaide",
   "metadata": {
    "ExecuteTime": {
     "end_time": "2021-03-22T20:22:27.345116Z",
     "start_time": "2021-03-22T20:22:27.325122Z"
    }
   },
   "outputs": [],
   "source": [
    "for indice, elemento in enumerate(lista):\n",
    "    print(f'Indice: {indice} | Elemento: {elemento}')\n",
    "    if indice % 3 == 0:\n",
    "        print(f'Encontré un indínce que es múltiplo de 3: {indice}')"
   ]
  },
  {
   "cell_type": "markdown",
   "id": "ecological-halloween",
   "metadata": {},
   "source": [
    "#### Range\n",
    "\n",
    "Genera una secuencia de números. No es una lista como tal, si no que un generador.Sintaxis: \n",
    " \n",
    "```python\n",
    "range(inicio, fin, opcional(salto) )\n",
    "```"
   ]
  },
  {
   "cell_type": "code",
   "execution_count": null,
   "id": "moved-century",
   "metadata": {
    "ExecuteTime": {
     "end_time": "2021-03-23T14:00:50.184140Z",
     "start_time": "2021-03-23T14:00:50.165117Z"
    }
   },
   "outputs": [],
   "source": [
    "for elemento in range(0, 5):\n",
    "    print(elemento)"
   ]
  },
  {
   "cell_type": "code",
   "execution_count": null,
   "id": "casual-recycling",
   "metadata": {
    "ExecuteTime": {
     "end_time": "2021-03-23T14:02:11.120715Z",
     "start_time": "2021-03-23T14:02:11.109702Z"
    }
   },
   "outputs": [],
   "source": [
    "# Podemos darle además un salto, es decir, cuanto saltaremos entre un elemento y otro.\n",
    "for elemento in range(0, 10, 3):\n",
    "    print(elemento)"
   ]
  },
  {
   "cell_type": "markdown",
   "id": "corrected-ballet",
   "metadata": {},
   "source": [
    "#### Zip\n",
    "\n",
    "Permite iterar entre dos o mas secuencias al mismo tiempo. Para esto, genera tuplas con ambos valores."
   ]
  },
  {
   "cell_type": "code",
   "execution_count": null,
   "id": "sixth-communication",
   "metadata": {
    "ExecuteTime": {
     "end_time": "2021-03-23T13:58:54.552693Z",
     "start_time": "2021-03-23T13:58:54.542693Z"
    }
   },
   "outputs": [],
   "source": [
    "preguntas = ['nombre', 'edad', 'peso']\n",
    "respuestas = ['Juan', '27', '70']\n",
    "\n",
    "list(zip(preguntas, respuestas))\n"
   ]
  },
  {
   "cell_type": "code",
   "execution_count": null,
   "id": "59809ab2-e7dd-4a20-9254-b33aa6897e6d",
   "metadata": {},
   "outputs": [],
   "source": [
    "for pregunta, respuesta in zip(preguntas, respuestas):\n",
    "    print(f'Cuál es tu {pregunta}?  Es {respuesta}.')"
   ]
  },
  {
   "cell_type": "markdown",
   "id": "practical-protection",
   "metadata": {},
   "source": [
    "#### Reverse\n",
    "\n",
    "Invierte el orden de la colección:"
   ]
  },
  {
   "cell_type": "code",
   "execution_count": null,
   "id": "f892f5d5-31eb-4a7f-a967-e7f1c7012fb4",
   "metadata": {},
   "outputs": [],
   "source": [
    "persona"
   ]
  },
  {
   "cell_type": "code",
   "execution_count": null,
   "id": "fitting-firewall",
   "metadata": {
    "ExecuteTime": {
     "end_time": "2021-03-23T13:59:47.139452Z",
     "start_time": "2021-03-23T13:59:47.133466Z"
    }
   },
   "outputs": [],
   "source": [
    "for i in reversed(persona):\n",
    "    print(i)"
   ]
  },
  {
   "cell_type": "markdown",
   "id": "fifth-recording",
   "metadata": {},
   "source": [
    "### List Comprehensions\n",
    "\n",
    "Es una forma *elegante* de crear colecciones.\n",
    "\n",
    "Supongamos que queremos crear una lista con todas las letras de la palabra `cuaderno`."
   ]
  },
  {
   "cell_type": "code",
   "execution_count": null,
   "id": "registered-sword",
   "metadata": {
    "ExecuteTime": {
     "end_time": "2021-03-22T20:23:14.764115Z",
     "start_time": "2021-03-22T20:23:14.751130Z"
    }
   },
   "outputs": [],
   "source": [
    "letras = []\n",
    "palabra = 'Cuaderno 📗'\n",
    "\n",
    "for letra in palabra:\n",
    "    letras.append(letra.upper())\n",
    "    print(f'Agregué a la lista: {letra.upper()}')\n",
    "\n",
    "letras"
   ]
  },
  {
   "cell_type": "markdown",
   "id": "illegal-meaning",
   "metadata": {},
   "source": [
    "Podemos reemplazar este ciclo `for` por una sintaxis mas compacta:"
   ]
  },
  {
   "cell_type": "code",
   "execution_count": null,
   "id": "formal-reset",
   "metadata": {
    "ExecuteTime": {
     "end_time": "2021-03-22T20:23:58.748825Z",
     "start_time": "2021-03-22T20:23:58.740827Z"
    }
   },
   "outputs": [],
   "source": [
    "letras = [letra.upper() for letra in palabra]\n",
    "letras"
   ]
  },
  {
   "cell_type": "markdown",
   "id": "severe-artwork",
   "metadata": {
    "ExecuteTime": {
     "end_time": "2021-03-22T19:02:53.523752Z",
     "start_time": "2021-03-22T19:02:53.515781Z"
    }
   },
   "source": [
    "Esto se le conoce como **List Comprehension**"
   ]
  },
  {
   "cell_type": "markdown",
   "id": "distributed-vision",
   "metadata": {},
   "source": [
    "Supongamos ahora que generamos una lista con los 10 primeros números enteros y de estos queremos solo los pares.\n",
    "Un código usando `for` se vería como:"
   ]
  },
  {
   "cell_type": "code",
   "execution_count": null,
   "id": "bf5d7ccb-3c35-4675-ba36-317771f96ded",
   "metadata": {},
   "outputs": [],
   "source": [
    "list(range(10))"
   ]
  },
  {
   "cell_type": "code",
   "execution_count": null,
   "id": "rough-toner",
   "metadata": {
    "ExecuteTime": {
     "end_time": "2021-03-22T20:24:21.286110Z",
     "start_time": "2021-03-22T20:24:21.276108Z"
    }
   },
   "outputs": [],
   "source": [
    "numeros_pares = []\n",
    "for numero in range(10):\n",
    "    if numero % 2 == 0:\n",
    "        numeros_pares.append(numero)\n",
    "\n",
    "numeros_pares"
   ]
  },
  {
   "cell_type": "markdown",
   "id": "completed-check",
   "metadata": {},
   "source": [
    "Usando **List Comprehension**:"
   ]
  },
  {
   "cell_type": "code",
   "execution_count": null,
   "id": "prostate-information",
   "metadata": {
    "ExecuteTime": {
     "end_time": "2021-03-22T20:25:13.348291Z",
     "start_time": "2021-03-22T20:25:13.341291Z"
    }
   },
   "outputs": [],
   "source": [
    "numeros_pares = [numero for numero in range(10) if numero % 2 == 0]\n",
    "numeros_pares"
   ]
  },
  {
   "cell_type": "code",
   "execution_count": null,
   "id": "subsequent-wright",
   "metadata": {
    "ExecuteTime": {
     "end_time": "2021-03-22T20:25:25.368603Z",
     "start_time": "2021-03-22T20:25:25.352606Z"
    }
   },
   "outputs": [],
   "source": [
    "numeros_pares = ['Par' if numero % 2 == 0 else 'Impar' for numero in range(10)]\n",
    "numeros_pares"
   ]
  },
  {
   "cell_type": "markdown",
   "id": "transsexual-color",
   "metadata": {},
   "source": [
    "> **Pregunta ❓:** ¿Se puede crear usando esta notación conjuntos o diccionarios?"
   ]
  },
  {
   "cell_type": "code",
   "execution_count": null,
   "id": "a31cf772-18c0-4e08-b2cd-2b0a61e84d61",
   "metadata": {},
   "outputs": [],
   "source": [
    "{numero: 'Par' if numero % 2 == 0 else 'Impar' for numero in range(10) }"
   ]
  },
  {
   "cell_type": "markdown",
   "id": "finnish-swimming",
   "metadata": {},
   "source": [
    "## Otras referencias"
   ]
  },
  {
   "cell_type": "markdown",
   "id": "dimensional-cyprus",
   "metadata": {},
   "source": [
    "Un excelente tutorial de Python:\n",
    "    \n",
    "https://www.programiz.com/python-programming\n",
    "\n",
    "Y el tutorial oficial: \n",
    "\n",
    "https://docs.python.org/es/3/tutorial/\n"
   ]
  }
 ],
 "metadata": {
  "kernelspec": {
   "display_name": "Python 3 (ipykernel)",
   "language": "python",
   "name": "python3"
  },
  "language_info": {
   "codemirror_mode": {
    "name": "ipython",
    "version": 3
   },
   "file_extension": ".py",
   "mimetype": "text/x-python",
   "name": "python",
   "nbconvert_exporter": "python",
   "pygments_lexer": "ipython3",
   "version": "3.9.16"
  },
  "toc": {
   "base_numbering": 1,
   "nav_menu": {},
   "number_sections": true,
   "sideBar": true,
   "skip_h1_title": false,
   "title_cell": "Table of Contents",
   "title_sidebar": "Contents",
   "toc_cell": false,
   "toc_position": {
    "height": "calc(100% - 180px)",
    "left": "10px",
    "top": "150px",
    "width": "294.233px"
   },
   "toc_section_display": true,
   "toc_window_display": true
  },
  "varInspector": {
   "cols": {
    "lenName": 16,
    "lenType": 16,
    "lenVar": 40
   },
   "kernels_config": {
    "python": {
     "delete_cmd_postfix": "",
     "delete_cmd_prefix": "del ",
     "library": "var_list.py",
     "varRefreshCmd": "print(var_dic_list())"
    },
    "r": {
     "delete_cmd_postfix": ") ",
     "delete_cmd_prefix": "rm(",
     "library": "var_list.r",
     "varRefreshCmd": "cat(var_dic_list()) "
    }
   },
   "types_to_exclude": [
    "module",
    "function",
    "builtin_function_or_method",
    "instance",
    "_Feature"
   ],
   "window_display": false
  }
 },
 "nbformat": 4,
 "nbformat_minor": 5
}
