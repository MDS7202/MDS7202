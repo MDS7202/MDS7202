{
 "cells": [
  {
   "cell_type": "markdown",
   "id": "c7d58124-cd6d-4a9c-af1d-6ba67337f10e",
   "metadata": {},
   "source": [
    "# Clase 19 - Modelos Estadísticos \n",
    "\n",
    "Disclaimer: Esta clase estará fuertemente basada en el primer y segundo capítulo de [Probabilistic Programming & Bayesian Methods for Hackers](https://camdavidsonpilon.github.io/Probabilistic-Programming-and-Bayesian-Methods-for-Hackers/#prologue)."
   ]
  },
  {
   "cell_type": "markdown",
   "id": "9c8d1227-f560-42ed-acfc-a2231c4b6876",
   "metadata": {},
   "source": [
    "## Inferencia Bayesiana"
   ]
  },
  {
   "cell_type": "markdown",
   "id": "9a537d62-9ab0-48d8-9cb8-76917eb223f8",
   "metadata": {},
   "source": [
    "Recordemos esta nota interesante de la clase número 4:\n",
    "\n",
    " > \"Program testing can be used to show the presence of bugs, but never to show their absence!\"\n",
    "    —Edsger Dijkstra, 1970\n",
    "    \n",
    "    \n",
    "Podemos hacer una gran cantidad de tests para confirmar distintos casos y eliminar varios bugs, pero en la práctica no podemos verificar que no existan errores en estas.\n",
    "\n",
    "Sin embargo, mientras más test o *evidencia* tenemos, menos probable es que el código contenga errores y por ende, más confianza tendremos sobre que el código está correcto.. \n",
    "\n",
    "La idea de la inferencia bayesiana es la misma:\n",
    "\n",
    "> A medida que tenemos más *evidencia*, actualizamos nuestras *creencias* sobre un resultado. Sin embargo, nunca estaremos 100% confiados de nuestros resultados ya que no tenemos toda la evidencia. \n"
   ]
  },
  {
   "cell_type": "markdown",
   "id": "c0f9a03f-d661-48f7-bffc-ff0ea89fd6ca",
   "metadata": {},
   "source": [
    "## Estadística Frecuentista y Bayesiana\n",
    "\n",
    "\n",
    "Hasta el momento, la mayoría de técnicas estadística que hemos conocido se basan en la estadística Frecuentista. Esta ofrece una interpretación de probabilidad basada en la *frecuencia a largo plazo de los eventos*.\n",
    "\n",
    ">  **Ejemplo:** Accidentes de aviones con respecto a todos los vuelos hechos.\n",
    "\n",
    "Sin embargo, ¿cómo podemos modelar en este enfoque eventos que suceden una vez?\n",
    "\n",
    "> **Ejemplo**: Las futuras elecciones presidenciales.\n",
    "\n",
    "En esto aparece una segunda intepretación a las probabilidades: **La probabilidad como una medida de creencia o confianza** sobre algun evento. Es decir:\n",
    "\n",
    "- P = 0 -> No tengo nada de confianza que un evento sucederá.\n",
    "- P = 1 -> Estoy seguro que un evento sucederá.\n",
    "\n",
    "> Pregunta: ¿Cómo convalidamos esta idea de probabilidades con los ejemplos anteriores?\n"
   ]
  },
  {
   "cell_type": "markdown",
   "id": "6e460456-fadb-4bac-a80b-79b6716e794e",
   "metadata": {},
   "source": [
    "Ahora, lo interesante, es que como medida de creencia de un evento, cada individuo tendrá distintas medidas según la información o evidencia que posea. Es importante distinguir estos puntos:\n",
    "\n",
    "\n",
    "> Ejemplo: Un paciente tiene los síntomas x, y, z. Existe una lista de enfermedades que pueden causar esto como síntomas. \n",
    "\n",
    "- Un doctor puede tener una *creencia* acerca de cual enfermedad tiene y por ende le asigna una probabilidad a esta. \n",
    "- Sin embargo, otro doctor la descarta por completo, aún teniendo los síntomas x, y, z.\n",
    "\n",
    "Fijense además que tratar las probabilidades como creencia de algo es extremadamente intuitivo. **¡Es la forma en como interpretamos nuestro mundo!**. En breves palabras:\n",
    "\n",
    "> **Tenemos una creencia inicial sobre algo. Luego recolectamos evidencia y actualizamos nuestras creencias.**"
   ]
  },
  {
   "cell_type": "markdown",
   "id": "6d53fe7c-8c7f-4808-9be4-2f8c527b8ee0",
   "metadata": {},
   "source": [
    "## Probabilidades\n",
    "\n",
    "- $P(A)$: Creencia sobre algun evento $A$ o **Prior probability**\n",
    "\n",
    "- $P(A | X)$:Creencia o probabilidad de un evento $A$ dada la evidencia $X$ o **Posterior probability**"
   ]
  },
  {
   "cell_type": "markdown",
   "id": "a1b18ab2-0295-4278-9f72-55e74f6f26ef",
   "metadata": {},
   "source": [
    "> Ejemplo: Volvamos al caso de los tests para chequear los bugs de un programa. \n",
    "\n",
    "- $P(A)$ es la creencia que tengo sobre la presencia de un bug en mi código.\n",
    "- $P(A|X)$ es la creencia que tenemos sobre la presencia de bugs luego de haber ejecutado todos nuestros tests.\n",
    "\n",
    "Al ejecutar todos los tests $X$ y comprobar que todos terminan exitosamente, mi creencia se actualiza por lo que disminuye la probabilidad (que yo asigno) de tener un bug. Sin embargo, aún puede existir.    "
   ]
  },
  {
   "cell_type": "markdown",
   "id": "292c2018-f4c6-4e94-b100-62be5368b5da",
   "metadata": {},
   "source": [
    "### Framework Bayesiano\n",
    "\n",
    "Como habrán visto, la idea general de este enfoque es muy similar a lo que hemos estado haciendo hasta el momento.\n",
    "\n",
    "Al comienzo, tenemos mucha incerteza sobre las *creencias* de los los eventos que puedan suceder y nuestras predicción son muy malas. \n",
    "Luego, al observar datos y evidencia, actualizamos nuestras *creencias* y nuestras predicciones se vuelven mejores.\n",
    "\n"
   ]
  },
  {
   "cell_type": "markdown",
   "id": "919c7d45-5997-4d3c-92e7-1ccc7af030e1",
   "metadata": {},
   "source": [
    "Para actualizar nuestras preferencias, usamos (como ya se habrán imaginado), el **teorema de bayes**."
   ]
  },
  {
   "cell_type": "markdown",
   "id": "1c81dcbb-6a5c-421a-a88d-564f646154e6",
   "metadata": {},
   "source": [
    "$$P(A|X) = \\frac{P(X|A) P(A)}{P(X)}$$\n",
    "\n",
    "\n",
    "Esta fórmula nos permite actualizar nuestras creencias anteriores o *priors* $P(A)$ por medio del uso de la evidencia $X$. \n",
    "\n",
    "El resultado es en términos simples, las creencias actualizadas o *posteriors* $P(A|X)$."
   ]
  },
  {
   "cell_type": "markdown",
   "id": "1190dee1-ef89-408e-afa6-3acfd1de79e4",
   "metadata": {},
   "source": [
    "<center>\n",
    "<img src='./resources/coin.png' alt='Gráficos de distribuciones posteriores al simular el lanzamiento de una moneda.' width=600/>\n",
    "</center>\n",
    "\n",
    "<center>\n",
    "    'Gráficos de distribuciones posteriores al simular el lanzamiento de una moneda.'\n",
    "</center>"
   ]
  },
  {
   "cell_type": "markdown",
   "id": "f1e6c310-da62-4e12-8459-7316088739b1",
   "metadata": {},
   "source": [
    "> **Ejemplo:** Bugs de nuestro código.\n",
    "\n",
    "Definamos $A$ como el evento en que nuestro código no tiene bugs. \n",
    "Por otra parte, sea $X$ el evento en donde nuestro código pasa todos los tests.\n",
    "\n",
    "Además, $P(A) = p$\n",
    "\n",
    "Para saber la probabilidad de no tener bugs en nuestro código dado que ejecutamos todos los test $X$ (es decir, $P(A|X)$) podemos usar el teorema de bayes.\n",
    "\n",
    "$$P(A|X) = \\frac{P(X|A) P(A)}{P(X)}$$\n",
    "\n",
    "¿Qué es cada uno de los componentes de esta fórmula?\n",
    "\n",
    "- $P(X|A)$ es la probabilidad de que nuestro código pase todos los tests dado que no contiene bugs. O sea, 1...\n",
    "\n",
    "- $P(A)$ ya dijimos que era $p$.\n",
    "\n",
    "- $P(X)$: Hay que calcularlo. Nuestro código puede pasar todos los tests, incluso aunque este contenga bugs!! O sea, tenemos:\n",
    "    - Un caso en el que pasa y el código no tiene bugs $P(X, A)$.\n",
    "    - Un caso en el que pasa y el código tiene bugs $P(X ,\\neg A)$.\n",
    "\n",
    "Entonces,\n",
    "\n",
    "$$P(X) = P(X , A) + P(X , \\neg A)$$\n",
    "\n",
    "$$P(X) = P(X|A)P(A) + P(X|\\neg A)P(\\neg A)$$\n",
    "\n",
    "$$P(X) = P(X|A)p+ P(X|\\neg A)(1-p)$$\n",
    "\n",
    "\n",
    "Supongamos que $p(X | \\neg A) = 0.5$ .\n",
    "\n",
    "Entonces: \n",
    "\n",
    "\n",
    "$$P(A|X) = \\frac{1\\cdot p}{1 \\cdot p + 0.5(1-p)}$$\n",
    "\n",
    "$$= \\frac{2p}{1+p}$$"
   ]
  },
  {
   "cell_type": "markdown",
   "id": "d243b6e7-8f25-4e2b-9df2-f72834f1efbd",
   "metadata": {},
   "source": [
    "**Esta es finalmente la función de probabilidad que definirá nuestras probabilidades posteriores en base a la priors**.\n",
    "\n"
   ]
  },
  {
   "cell_type": "markdown",
   "id": "cbdc80b1-3b83-424e-b009-5dee1520a52d",
   "metadata": {},
   "source": [
    "<center>\n",
    "<img src='./resources/bugs.png'/>\n",
    "</center>"
   ]
  },
  {
   "cell_type": "markdown",
   "id": "198a9419-d8a2-4119-8a7c-373fcc324aa1",
   "metadata": {},
   "source": [
    "Supongamos que un programador normal tiene $p = 0.2$ de probabilidad de que su código no tenga ningún error.\n",
    "\n",
    "Usando los tests y el razonamiento que vimos un poco más arriba, podemos actualizar nuestra creencia a $0.33$ de que al usar tests, mi código no tiene bugs."
   ]
  },
  {
   "cell_type": "markdown",
   "id": "b2f597c7-5b3a-430e-a840-6aee158fe4c3",
   "metadata": {},
   "source": [
    "## Distribuciones de Probabilidad\n",
    "\n",
    "> ¿Qué era una distribución de probabilidad?\n",
    "\n",
    "Sea $Z$ una variable aleatoria. (Es decir, una función que mapea eventos a números)\n",
    "\n",
    "La función de distribución de probabilidad asociada a $Z$ es una función que asigna probabilidades a cada valor posible de $Z$.\n",
    "\n",
    "Existen 3 tipos de variables aleatorias:\n",
    "\n",
    "1. **Discreta:** Puede tomar valores especificados en una lista de valores. \n",
    "\n",
    "> Ejemplo: Poblaciones, evaluaciones de películas, votos, etc ...\n",
    "\n",
    "2. **Continua:** Puede tomar valores arbitrarios exactos.\n",
    "> Ejemplo: Temperatura, velocidad, tiempo, etc...\n",
    "\n",
    "3. **Mixtura** de las anteriores.\n"
   ]
  },
  {
   "cell_type": "markdown",
   "id": "d08cd89b-41f9-40aa-8220-dde794782535",
   "metadata": {},
   "source": [
    "### Caso discreto\n",
    "\n",
    "En el caso discreto, la distribución es llamada función de *masa de probabilidad (fp)*.\n",
    "\n",
    "Para un valor de la variable aleatoria igual a $k$,\n",
    "\n",
    "$$P(Z=k)$$ \n",
    "\n",
    "es la probabilidad asociada al evento.\n",
    "Si sabemos la función de masa de probabilidad, sabemos como se comportará $P$ para cualquier z.\n",
    "\n",
    "> Ejemplo: Distribución de poisson. La distribución de Poisson modela el número de veces que ocurre un evento en un intervalo de tiempo. \n",
    "\n",
    "$$P(Z = k) = \\frac{\\lambda^k \\exp ^{-\\lambda}}{k!}$$ con $k = 0,1,2,3,\\dots$\n",
    "\n",
    "$\\lambda$ es el parámetro de la distribución. Este controla la forma de la distribución. Mientras mayor sea, mas probabilidad le da a los valores altos.\n",
    "\n",
    "\n",
    "<center>\n",
    "<img src='./resources/poisson.png' width=400/>\n",
    "</center>\n",
    "\n",
    "\n",
    "Nota: Si Z distribuye como Poisson, esto se denota como \n",
    "\n",
    "$$Z \\sim Poi(\\lambda)$$"
   ]
  },
  {
   "cell_type": "markdown",
   "id": "ce1857d2-88b9-4ec4-89bb-6695d40f9de7",
   "metadata": {},
   "source": [
    "### Caso Continuo\n",
    "\n",
    "En este caso nombramos a la distribución como función de densidad de probabilidad. Esta puede tomar cualquier valor real continuo (obviamente en los intervalos que este definida) y retornar una probabilidad.\n",
    "\n",
    "Por ejemplo, la distribución exponencial:\n",
    "\n",
    "$$f_{Z} (z|\\lambda) = \\lambda \\exp ^{-\\lambda z}, z > 0$$\n",
    "\n",
    "Al igual que el caso anterior, la distribución depende de un parámetro $\\lambda$.\n",
    "\n",
    "Esta distribución permite modelar, por ejemplo, modelar tiempos de espera para la ocurrencia de ciertos eventos.\n",
    "Mientra mayor su parámetro $\\lambda$, mayor la probabilidad en valores grandes.\n",
    "\n",
    "<center>\n",
    "<img src='./resources/exponencial.png' width=400 />\n",
    "</center>"
   ]
  },
  {
   "cell_type": "markdown",
   "id": "e5bb3f88-30ba-4a76-a216-ddc85009515c",
   "metadata": {},
   "source": [
    "## ¿Qué es $\\lambda$?\n",
    "\n",
    ">  ¿Qué es $\\lambda$?\n",
    "\n",
    "Según el libro, es la pregunta que motiva la estadística. \n",
    "\n",
    "Es el parámetro que tenemos que encontrar pero que **está oculto de nosotros**.\n",
    "Solo podemos observar lo que $Z$ nos reporta e intententar estimarlo a partir de esta muestra, pero $\\lambda$ no puede ser jamas observado.\n",
    "\n",
    "> Ejemplo: Altura de las personas. Sabemos que este distribuye normalmente. Sin embargo, los parámetros (media y varianza) exactos jamas los sabremos, ¡ya que esto implicaría medir a cada ser humano de la tierra!. Por lo tanto, la única opción es estimarlos.\n",
    "\n",
    "Ahora, noten una diferencia fundamental entre la estadística bayesiana y la inferencial:\n",
    "\n",
    "- En la Inferencial, deduciríamos un valor a partir de las muestras que $Z$ nos entrega.\n",
    "\n",
    "- En la Bayesiana en cambio, se centra en las *creencias* que tenemos sobre estos parámetros. Para eso, le asignamos a estos parámetros distribuciones de probabilidad a través de sampling.\n"
   ]
  }
 ],
 "metadata": {
  "kernelspec": {
   "display_name": "Python 3",
   "language": "python",
   "name": "python3"
  },
  "language_info": {
   "codemirror_mode": {
    "name": "ipython",
    "version": 3
   },
   "file_extension": ".py",
   "mimetype": "text/x-python",
   "name": "python",
   "nbconvert_exporter": "python",
   "pygments_lexer": "ipython3",
   "version": "3.8.5"
  }
 },
 "nbformat": 4,
 "nbformat_minor": 5
}
